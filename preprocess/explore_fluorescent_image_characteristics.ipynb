{
 "cells": [
  {
   "cell_type": "code",
   "execution_count": null,
   "metadata": {
    "scrolled": true
   },
   "outputs": [],
   "source": [
    "%load_ext autoreload\n",
    "%autoreload 2\n",
    "\n",
    "import os, sys\n",
    "\n",
    "from skimage.io import imread\n",
    "from skimage.exposure import rescale_intensity\n",
    "import numpy as np\n",
    "import matplotlib.pyplot as plt\n",
    "%matplotlib inline\n",
    "from pandas import DataFrame\n",
    "\n",
    "sys.path.append(os.path.join(os.environ['REPO_DIR'], 'utilities'))\n",
    "from utilities2015 import *\n",
    "from data_manager import *\n",
    "from metadata import *\n",
    "from visualization_utilities import *"
   ]
  },
  {
   "cell_type": "code",
   "execution_count": null,
   "metadata": {},
   "outputs": [],
   "source": [
    "def match_histogram(source, template):\n",
    "    \"\"\"\n",
    "    Args:\n",
    "        source: \"from\" image\n",
    "        template: \"to\" image\n",
    "    \n",
    "    Returns: \n",
    "        s_values (array): unique source values\n",
    "        interp_t_values (array): unique destination values\n",
    "    \"\"\"\n",
    "    \n",
    "    source = source.ravel()\n",
    "    template = template.ravel()\n",
    "\n",
    "    # get the set of unique pixel values and their corresponding indices and\n",
    "    # counts\n",
    "    s_values, bin_idx, s_counts = np.unique(source, return_inverse=True,\n",
    "                                            return_counts=True)\n",
    "    t_values, t_counts = np.unique(template, return_counts=True)\n",
    "\n",
    "    # take the cumsum of the counts and normalize by the number of pixels to\n",
    "    # get the empirical cumulative distribution functions for the source and\n",
    "    # template images (maps pixel value --> quantile)\n",
    "    s_quantiles = np.cumsum(s_counts).astype(np.float64)\n",
    "    s_quantiles /= s_quantiles[-1]\n",
    "    t_quantiles = np.cumsum(t_counts).astype(np.float64)\n",
    "    t_quantiles /= t_quantiles[-1]\n",
    "\n",
    "    # interpolate linearly to find the pixel values in the template image\n",
    "    # that correspond most closely to the quantiles in the source image\n",
    "    interp_t_values = np.interp(s_quantiles, t_quantiles, t_values)\n",
    "\n",
    "    return s_values, interp_t_values"
   ]
  },
  {
   "cell_type": "markdown",
   "metadata": {},
   "source": [
    "# Adhoc region"
   ]
  },
  {
   "cell_type": "code",
   "execution_count": null,
   "metadata": {},
   "outputs": [],
   "source": [
    "nissl_region1 = DataManager.load_image_v2(stack='MD658', prep_id=2, version='grayJpeg', fn='MD658-F50-2017.04.05-03.53.13_MD658_2_0149')[955*8:(955+141)*8, 1516*8:(1516+366)*8]"
   ]
  },
  {
   "cell_type": "code",
   "execution_count": null,
   "metadata": {
    "scrolled": true
   },
   "outputs": [],
   "source": [
    "roi_xmin =1400 * 8\n",
    "roi_ymin = 929 * 8\n",
    "roi_w = 421 * 8\n",
    "roi_h = 246 * 8\n",
    "ntb_blue_region1 = DataManager.load_image_v2(stack='MD661', prep_id=2, fn='MD662&661-F76-2017.06.06-16.23.52_MD661_2_0227')[roi_ymin:(roi_ymin+roi_h), roi_xmin:(roi_xmin+roi_w), 2]"
   ]
  },
  {
   "cell_type": "code",
   "execution_count": null,
   "metadata": {},
   "outputs": [],
   "source": [
    "ntb_blue_region1_inv = 5000 - ntb_blue_region1.astype(np.int)\n",
    "ntb_inv_vals, nissl_vals = match_histogram(ntb_blue_region1_inv, nissl_region1)\n",
    "\n",
    "ntb_blue_bins = np.arange(5001)\n",
    "\n",
    "ntb_blue_inv_bins = np.arange(5001)\n",
    "ntb_inv_to_nissl_mapping = np.interp(ntb_blue_inv_bins, ntb_inv_vals, nissl_vals)\n",
    "\n",
    "ntb_to_nissl_mapping = ntb_inv_to_nissl_mapping[5000 - ntb_blue_bins]\n",
    "ntb_to_nissl_mapping = np.round(ntb_to_nissl_mapping).astype(np.uint8)"
   ]
  },
  {
   "cell_type": "code",
   "execution_count": null,
   "metadata": {},
   "outputs": [],
   "source": [
    "np.savetxt('/tmp/ntb_to_nissl_mapping.npy', ntb_to_nissl_mapping)"
   ]
  },
  {
   "cell_type": "code",
   "execution_count": null,
   "metadata": {},
   "outputs": [],
   "source": [
    "plt.plot(ntb_to_nissl_mapping);"
   ]
  },
  {
   "cell_type": "code",
   "execution_count": null,
   "metadata": {},
   "outputs": [],
   "source": [
    "img_blue_intensity_normalized = ntb_to_nissl_mapping[ntb_blue_region1.astype(np.int)].astype(np.uint8)"
   ]
  },
  {
   "cell_type": "code",
   "execution_count": null,
   "metadata": {},
   "outputs": [],
   "source": [
    "plt.imshow(img_blue_intensity_normalized, plt.cm.gray);"
   ]
  },
  {
   "cell_type": "code",
   "execution_count": null,
   "metadata": {},
   "outputs": [],
   "source": [
    "plt.imshow(nissl_region1, plt.cm.gray);"
   ]
  },
  {
   "cell_type": "code",
   "execution_count": null,
   "metadata": {},
   "outputs": [],
   "source": [
    "# stack = 'MD635'\n",
    "# _, sec2fn = DataManager.load_sorted_filenames(stack)\n",
    "# first_sec, last_sec = DataManager.load_cropbox(stack)[4:]"
   ]
  },
  {
   "cell_type": "markdown",
   "metadata": {},
   "source": [
    "# Match histograms between Nissl and Neurotrace"
   ]
  },
  {
   "cell_type": "code",
   "execution_count": null,
   "metadata": {},
   "outputs": [],
   "source": [
    "nissl_sections = [sec for sec, fn in sec2fn.iteritems() if not is_invalid(fn) and fn.split('-')[1][0] == 'N' and sec > first_sec and sec < last_sec]\n",
    "ntb_sections = [sec for sec, fn in sec2fn.iteritems() if not is_invalid(fn) and fn.split('-')[1][0] == 'F' and sec > first_sec and sec < last_sec]"
   ]
  },
  {
   "cell_type": "code",
   "execution_count": null,
   "metadata": {},
   "outputs": [],
   "source": [
    "# Generate nissl-ntb pairs.\n",
    "\n",
    "compare_pairs = []\n",
    "for nissl_sec in nissl_sections:\n",
    "    for i in range(1, 10):\n",
    "        closest_ntb_sec = nissl_sec + i\n",
    "        if closest_ntb_sec in ntb_sections:\n",
    "            break\n",
    "    compare_pairs.append((nissl_sec, closest_ntb_sec))"
   ]
  },
  {
   "cell_type": "code",
   "execution_count": null,
   "metadata": {},
   "outputs": [],
   "source": [
    "w, h = metadata_cache['image_shape'][stack]"
   ]
  },
  {
   "cell_type": "markdown",
   "metadata": {
    "collapsed": true
   },
   "source": [
    "# Same region, different images."
   ]
  },
  {
   "cell_type": "code",
   "execution_count": null,
   "metadata": {},
   "outputs": [],
   "source": [
    "# Sample the region bbox.\n",
    "\n",
    "while True:\n",
    "    nissl_tb_mask = DataManager.load_thumbnail_mask_v3(stack=stack, section=nissl_sec, version='cropped')\n",
    "    \n",
    "    region1_x = np.random.randint(0, w-10000, 1)[0]\n",
    "    region1_y = np.random.randint(0, h-10000, 1)[0]\n",
    "    region1_w = 5000\n",
    "    region1_h = 5000\n",
    "    print region1_x, region1_y, region1_w, region1_h\n",
    "\n",
    "    tb_region1_xmin = region1_x / 32\n",
    "    tb_region1_xmax = (region1_x + region1_w) / 32\n",
    "    tb_region1_ymin = region1_y / 32\n",
    "    tb_region1_ymax = (region1_y + region1_h) / 32\n",
    "\n",
    "    if np.all(np.r_[nissl_tb_mask[tb_region1_ymin, tb_region1_xmin],\n",
    "    nissl_tb_mask[tb_region1_ymin, tb_region1_xmax],\n",
    "    nissl_tb_mask[tb_region1_ymax, tb_region1_xmin],\n",
    "    nissl_tb_mask[tb_region1_ymax, tb_region1_xmax]]):\n",
    "        break"
   ]
  },
  {
   "cell_type": "code",
   "execution_count": null,
   "metadata": {
    "scrolled": true
   },
   "outputs": [],
   "source": [
    "ntb_matched_values_all_examples = []\n",
    "\n",
    "for nissl_sec, ntb_sec in compare_pairs[:10]:\n",
    "    \n",
    "    ntb_im_fp = DataManager.get_image_filepath(stack=stack, section=ntb_sec, version='cropped_16bit', resol='lossless')\n",
    "    download_from_s3(ntb_im_fp)\n",
    "    ntb_im = imread(ntb_im_fp)\n",
    "    ntb_blue_region1 = ntb_im[region1_y:region1_y+region1_h, region1_x:region1_x+region1_w, 2]\n",
    "    ntb_blue_region1 = 3000 - ntb_blue_region1\n",
    "    \n",
    "    ntb_blue_bins = np.arange(0, ntb_blue_region1.max()+2)\n",
    "    ntb_blue_hist = np.histogram(ntb_blue_region1.flatten(), bins=ntb_blue_bins)[0]\n",
    "    \n",
    "    nissl_im_fp = DataManager.get_image_filepath(stack=stack, section=nissl_sec, version='cropped_8bit', resol='lossless')\n",
    "    download_from_s3(nissl_im_fp)\n",
    "    nissl_im = imread(nissl_im_fp)\n",
    "    nissl_region1 = img_as_ubyte(rgb2gray(nissl_im[region1_y:region1_y+region1_h, region1_x:region1_x+region1_w]))\n",
    "    \n",
    "    nissl_gray_bins = np.arange(0, 257)\n",
    "    nissl_gray_hist = np.histogram(nissl_region1.flatten(), bins=nissl_gray_bins)[0]\n",
    "    \n",
    "    ###############\n",
    "    \n",
    "    ntb_region1_hist_matched = hist_match(ntb_blue_region1, nissl_region1)\n",
    "    \n",
    "    fig, axes = plt.subplots(ncols=2, nrows=1, figsize=(20,10));\n",
    "    axes[0].imshow(nissl_region1, plt.cm.gray);\n",
    "    axes[0].set_title('Nissl');\n",
    "    axes[1].imshow(ntb_region1_hist_matched.astype(np.uint8), plt.cm.gray);\n",
    "    axes[1].set_title('Neurotrace (histogram matched)');\n",
    "    plt.show();\n",
    "    \n",
    "    ntb_to_nissl = {}\n",
    "    for ntb_v in ntb_blue_bins[:-1]:\n",
    "        a = ntb_region1_hist_matched[ntb_blue_region1 == ntb_v]\n",
    "        if len(a) > 0:\n",
    "            ntb_to_nissl[ntb_v] = np.unique(a)[0]\n",
    "\n",
    "    ntb_values = np.arange(0, 5000)\n",
    "    ntb_matched_values = np.interp(ntb_values, \n",
    "                                   [ntb_v for ntb_v, nissl_v in sorted(ntb_to_nissl.items())], \n",
    "                                   [nissl_v for ntb_v, nissl_v in sorted(ntb_to_nissl.items())])\n",
    "    \n",
    "    ntb_matched_values_all_examples.append(ntb_matched_values)\n",
    "\n",
    "    plt.plot(ntb_values, ntb_matched_values);\n",
    "    plt.xlim([0,5000]);\n",
    "    plt.ylim([0,256]);\n",
    "    plt.xlabel('Neurotrace intensity');\n",
    "    plt.ylabel('Matched nissl intensity');\n",
    "    plt.show();"
   ]
  },
  {
   "cell_type": "code",
   "execution_count": null,
   "metadata": {},
   "outputs": [],
   "source": [
    "plt.figure(figsize=(10,5));\n",
    "for a in ntb_matched_values_all_examples:\n",
    "    plt.plot(ntb_values, a);\n",
    "plt.xlim([0,5000]);\n",
    "plt.ylim([0,256]);\n",
    "plt.xlabel('Neurotrace intensity');\n",
    "plt.ylabel('Matched nissl intensity');\n",
    "plt.show();"
   ]
  },
  {
   "cell_type": "code",
   "execution_count": null,
   "metadata": {
    "scrolled": true
   },
   "outputs": [],
   "source": [
    "# Show that intensities of two modalities are not in exact one-to-one correspondence.\n",
    "\n",
    "ntb_to_nissl = {}\n",
    "for ntb_v in ntb_blue_bins[:-1]:\n",
    "    a = nissl_region1[ntb_blue_region1 == ntb_v]\n",
    "    if len(a) > 0:\n",
    "#         ntb_to_nissl[ntb_v] = np.unique(a)[0]\n",
    "        plt.hist(a, bins=np.arange(256));\n",
    "        plt.title('%d' % ntb_v);\n",
    "        plt.xlabel('Nissl intensity');\n",
    "        plt.xlabel('Distribution of Neurotrace intensities at corresponding pixels.');\n",
    "        plt.show();"
   ]
  },
  {
   "cell_type": "markdown",
   "metadata": {
    "collapsed": true
   },
   "source": [
    "# Explore red and green channels"
   ]
  },
  {
   "cell_type": "code",
   "execution_count": null,
   "metadata": {},
   "outputs": [],
   "source": [
    "from skimage.exposure import rescale_intensity\n",
    "from skimage.exposure import equalize_hist"
   ]
  },
  {
   "cell_type": "code",
   "execution_count": null,
   "metadata": {
    "scrolled": true
   },
   "outputs": [],
   "source": [
    "plt.figure(figsize=(20,20));\n",
    "q = rescale_intensity(ntb_im[region1_y:region1_y+region1_h, region1_x:region1_x+region1_w, 0],\n",
    "                     (0, 400))\n",
    "plt.imshow(q, \n",
    "           vmin=0, vmax=q.max(),\n",
    "          cmap=plt.cm.gray);"
   ]
  },
  {
   "cell_type": "code",
   "execution_count": null,
   "metadata": {
    "scrolled": true
   },
   "outputs": [],
   "source": [
    "plt.figure(figsize=(20,20));\n",
    "q = equalize_hist(ntb_im[region1_y:region1_y+region1_h, region1_x:region1_x+region1_w, 0])\n",
    "plt.imshow(q, \n",
    "           vmin=0, vmax=q.max(),\n",
    "          cmap=plt.cm.gray);"
   ]
  },
  {
   "cell_type": "code",
   "execution_count": null,
   "metadata": {
    "scrolled": true
   },
   "outputs": [],
   "source": [
    "plt.figure(figsize=(20,20));\n",
    "plt.imshow(ntb_im[region1_y:region1_y+region1_h, region1_x:region1_x+region1_w, 0], \n",
    "           vmin=0, vmax=ntb_im[region1_y:region1_y+region1_h, region1_x:region1_x+region1_w, 0].max(),\n",
    "          cmap=plt.cm.gray);"
   ]
  },
  {
   "cell_type": "code",
   "execution_count": null,
   "metadata": {},
   "outputs": [],
   "source": [
    "red_imin = 0\n",
    "red_imax = 75\n",
    "green_imin = 0\n",
    "green_imax = 85"
   ]
  },
  {
   "cell_type": "code",
   "execution_count": null,
   "metadata": {},
   "outputs": [],
   "source": [
    "mg_red_intensity_normalized = ntb_matched_values[3000-ntb_im[region1_y:region1_y+region1_h, region1_x:region1_x+region1_w, 0]].astype(np.uint8)\n",
    "img_green_intensity_normalized = ntb_matched_values[3000-ntb_im[region1_y:region1_y+region1_h, region1_x:region1_x+region1_w, 1]].astype(np.uint8)\n",
    "img_blue_intensity_normalized = ntb_matched_values[3000-ntb_im[region1_y:region1_y+region1_h, region1_x:region1_x+region1_w, 2]].astype(np.uint8)"
   ]
  },
  {
   "cell_type": "code",
   "execution_count": null,
   "metadata": {},
   "outputs": [],
   "source": [
    "ntb_img_rgb = np.zeros(ntb_blue_region1.shape[:2] + (3,), np.uint8)\n",
    "ntb_img_rgb[..., 0] = img_red_intensity_normalized\n",
    "ntb_img_rgb[..., 1] = img_green_intensity_normalized\n",
    "ntb_img_rgb[..., 2] = img_blue_intensity_normalized"
   ]
  },
  {
   "cell_type": "code",
   "execution_count": null,
   "metadata": {
    "scrolled": true
   },
   "outputs": [],
   "source": [
    "plt.figure(figsize=(10,10));\n",
    "plt.imshow(ntb_img_rgb, cmap=plt.cm.gray);"
   ]
  },
  {
   "cell_type": "markdown",
   "metadata": {
    "collapsed": true
   },
   "source": [
    "# Same images, different regions. nissl-ntblue"
   ]
  },
  {
   "cell_type": "markdown",
   "metadata": {},
   "source": [
    "## Parallel"
   ]
  },
  {
   "cell_type": "code",
   "execution_count": null,
   "metadata": {},
   "outputs": [],
   "source": [
    "def f(nissl_sec, ntb_sec):\n",
    "    \n",
    "    ntb_matched_values_all_examples_one_section = []\n",
    "    region_bboxes_all_examples_one_section = []\n",
    "    \n",
    "    nissl_tb_mask = DataManager.load_thumbnail_mask_v3(stack=stack, section=nissl_sec, version='cropped')\n",
    "    \n",
    "    for region_id in range(10):\n",
    "\n",
    "        while True:\n",
    "            region1_x = np.random.randint(0, w-10000, 1)[0]\n",
    "            region1_y = np.random.randint(0, h-10000, 1)[0]\n",
    "            region1_w = 5000\n",
    "            region1_h = 5000\n",
    "            print region1_x, region1_y, region1_w, region1_h\n",
    "            \n",
    "            tb_region1_xmin = region1_x / 32\n",
    "            tb_region1_xmax = (region1_x + region1_w) / 32\n",
    "            tb_region1_ymin = region1_y / 32\n",
    "            tb_region1_ymax = (region1_y + region1_h) / 32\n",
    "            \n",
    "            if np.all(np.r_[nissl_tb_mask[tb_region1_ymin, tb_region1_xmin],\n",
    "            nissl_tb_mask[tb_region1_ymin, tb_region1_xmax],\n",
    "            nissl_tb_mask[tb_region1_ymax, tb_region1_xmin],\n",
    "            nissl_tb_mask[tb_region1_ymax, tb_region1_xmax]]):\n",
    "                break\n",
    "        \n",
    "        t = time.time()\n",
    "        \n",
    "        ntb_im_fp = DataManager.get_image_filepath(stack=stack, section=ntb_sec, version='cropped_16bit', resol='lossless')\n",
    "        download_from_s3(ntb_im_fp)\n",
    "        ntb_im = imread(ntb_im_fp)\n",
    "        ntb_blue_region1 = ntb_im[region1_y:region1_y+region1_h, region1_x:region1_x+region1_w, 2]\n",
    "        ntb_blue_region1 = 3000 - ntb_blue_region1\n",
    "\n",
    "        ntb_blue_bins = np.arange(0, ntb_blue_region1.max()+2)\n",
    "        ntb_blue_hist = np.histogram(ntb_blue_region1.flatten(), bins=ntb_blue_bins)[0]\n",
    "        \n",
    "        sys.stderr.write('Load NTB: %.2f seconds.\\n' % (time.time()-t))\n",
    "\n",
    "        t = time.time()\n",
    "\n",
    "        nissl_im_fp = DataManager.get_image_filepath(stack=stack, section=nissl_sec, version='cropped_8bit', resol='lossless')\n",
    "        download_from_s3(nissl_im_fp)\n",
    "        nissl_im = imread(nissl_im_fp)\n",
    "        nissl_region1 = img_as_ubyte(rgb2gray(nissl_im[region1_y:region1_y+region1_h, region1_x:region1_x+region1_w]))\n",
    "\n",
    "        nissl_gray_bins = np.arange(0, 257)\n",
    "        nissl_gray_hist = np.histogram(nissl_region1.flatten(), bins=nissl_gray_bins)[0]\n",
    "        \n",
    "        sys.stderr.write('Load Nissl: %.2f seconds.\\n' % (time.time()-t))\n",
    "\n",
    "        ###############\n",
    "        \n",
    "        t = time.time()\n",
    "\n",
    "        ntb_region1_hist_matched = hist_match(ntb_blue_region1, nissl_region1)\n",
    "\n",
    "    #     fig, axes = plt.subplots(ncols=2, nrows=1, figsize=(20,10));\n",
    "    #     axes[0].imshow(nissl_region1, plt.cm.gray);\n",
    "    #     axes[0].set_title('Nissl');\n",
    "    #     axes[1].imshow(ntb_region1_hist_matched.astype(np.uint8), plt.cm.gray);\n",
    "    #     axes[1].set_title('Neurotrace (histogram matched)');\n",
    "    #     plt.show();\n",
    "        ntb_to_nissl = {}\n",
    "        for ntb_v in ntb_blue_bins[:-1]:\n",
    "            a = ntb_region1_hist_matched[ntb_blue_region1 == ntb_v]\n",
    "            if len(a) > 0:\n",
    "                ntb_to_nissl[ntb_v] = np.unique(a)[0]\n",
    "\n",
    "        ntb_values = np.arange(0, 5000)\n",
    "        ntb_matched_values = np.interp(ntb_values, \n",
    "                                       [ntb_v for ntb_v, nissl_v in sorted(ntb_to_nissl.items())], \n",
    "                                       [nissl_v for ntb_v, nissl_v in sorted(ntb_to_nissl.items())])\n",
    "\n",
    "        ntb_matched_values_all_examples_one_section.append(ntb_matched_values)\n",
    "        region_bboxes_all_examples_one_section.append((region1_x, region1_y, region1_w, region1_h))\n",
    "\n",
    "        sys.stderr.write('Compute matching: %.2f seconds.\\n' % (time.time()-t))\n",
    "        \n",
    "#         ntb_matched_values_all_examples[(nissl_sec, ntb_sec)].append(ntb_matched_values)\n",
    "#         region_bboxes_all_examples[(nissl_sec, ntb_sec)].append((region1_x, region1_y, region1_w, region1_h))\n",
    "        \n",
    "    fp = os.path.join(DATA_DIR, stack, stack + '_histogram_matching', 'ntb_%d_to_nissl_%d_matched_values.npy' % (ntb_sec, nissl_sec))\n",
    "    np.save(fp, ntb_matched_values_all_examples_one_section)\n",
    "    upload_to_s3(fp)\n",
    "\n",
    "    fp = os.path.join(DATA_DIR, stack, stack + '_histogram_matching', 'ntb_%d_to_nissl_%d_region_bboxes.npy' % (ntb_sec, nissl_sec))\n",
    "    np.save(fp, np.asarray(region_bboxes_all_examples_one_section))\n",
    "    upload_to_s3(fp)"
   ]
  },
  {
   "cell_type": "code",
   "execution_count": null,
   "metadata": {},
   "outputs": [],
   "source": [
    "from multiprocess import Pool\n",
    "\n",
    "pool = Pool(NUM_CORES/2)\n",
    "pool.map(lambda (nissl_sec, ntb_sec): f( nissl_sec, ntb_sec), compare_pairs)\n",
    "pool.close()\n",
    "pool.join()"
   ]
  },
  {
   "cell_type": "markdown",
   "metadata": {},
   "source": [
    "## Sequential"
   ]
  },
  {
   "cell_type": "code",
   "execution_count": null,
   "metadata": {
    "scrolled": true
   },
   "outputs": [],
   "source": [
    "# ntb_matched_values_all_examples = defaultdict(list)\n",
    "# region_bboxes_all_examples = defaultdict(list)\n",
    "\n",
    "for nissl_sec, ntb_sec in compare_pairs[37:38]:\n",
    "    \n",
    "    ntb_matched_values_all_examples_one_section = []\n",
    "    region_bboxes_all_examples_one_section = []\n",
    "    \n",
    "    nissl_tb_mask = DataManager.load_thumbnail_mask_v3(stack=stack, section=nissl_sec, version='cropped')\n",
    "\n",
    "    for region_id in range(10):\n",
    "        \n",
    "        while True:\n",
    "            region1_x = np.random.randint(0, w-10000, 1)[0]\n",
    "            region1_y = np.random.randint(0, h-10000, 1)[0]\n",
    "            region1_w = 5000\n",
    "            region1_h = 5000\n",
    "            print region1_x, region1_y, region1_w, region1_h\n",
    "            \n",
    "            tb_region1_xmin = region1_x / 32\n",
    "            tb_region1_xmax = (region1_x + region1_w) / 32\n",
    "            tb_region1_ymin = region1_y / 32\n",
    "            tb_region1_ymax = (region1_y + region1_h) / 32\n",
    "            \n",
    "            if np.all(np.r_[nissl_tb_mask[tb_region1_ymin, tb_region1_xmin],\n",
    "            nissl_tb_mask[tb_region1_ymin, tb_region1_xmax],\n",
    "            nissl_tb_mask[tb_region1_ymax, tb_region1_xmin],\n",
    "            nissl_tb_mask[tb_region1_ymax, tb_region1_xmax]]):\n",
    "                break\n",
    "        \n",
    "        t = time.time()\n",
    "        \n",
    "        ntb_im_fp = DataManager.get_image_filepath(stack=stack, section=ntb_sec, version='cropped_16bit', resol='lossless')\n",
    "        download_from_s3(ntb_im_fp)\n",
    "        ntb_im = imread(ntb_im_fp)\n",
    "        ntb_blue_region1 = ntb_im[region1_y:region1_y+region1_h, region1_x:region1_x+region1_w, 2]\n",
    "        ntb_blue_region1 = 3000 - ntb_blue_region1\n",
    "\n",
    "        ntb_blue_bins = np.arange(0, ntb_blue_region1.max()+2)\n",
    "        ntb_blue_hist = np.histogram(ntb_blue_region1.flatten(), bins=ntb_blue_bins)[0]\n",
    "    \n",
    "        sys.stderr.write('Load NTB: %.2f seconds.\\n' % (time.time()-t))\n",
    "\n",
    "        t = time.time()\n",
    "        \n",
    "        nissl_im_fp = DataManager.get_image_filepath(stack=stack, section=nissl_sec, version='cropped_8bit', resol='lossless')\n",
    "        download_from_s3(nissl_im_fp)\n",
    "        nissl_im = imread(nissl_im_fp)\n",
    "        nissl_region1 = img_as_ubyte(rgb2gray(nissl_im[region1_y:region1_y+region1_h, region1_x:region1_x+region1_w]))\n",
    "\n",
    "        nissl_gray_bins = np.arange(0, 257)\n",
    "        nissl_gray_hist = np.histogram(nissl_region1.flatten(), bins=nissl_gray_bins)[0]\n",
    "\n",
    "        sys.stderr.write('Load Nissl: %.2f seconds.\\n' % (time.time()-t))\n",
    "\n",
    "        ###############\n",
    "        \n",
    "        t = time.time()\n",
    "\n",
    "        ntb_region1_hist_matched = hist_match(ntb_blue_region1, nissl_region1)\n",
    "\n",
    "        fig, axes = plt.subplots(ncols=2, nrows=1, figsize=(20,10));\n",
    "        axes[0].imshow(nissl_region1, plt.cm.gray);\n",
    "        axes[0].set_title('Nissl');\n",
    "        axes[1].imshow(ntb_region1_hist_matched.astype(np.uint8), plt.cm.gray);\n",
    "        axes[1].set_title('Neurotrace (histogram matched)');\n",
    "        plt.show();\n",
    "\n",
    "        ntb_to_nissl = {}\n",
    "        for ntb_v in ntb_blue_bins[:-1]:\n",
    "            a = ntb_region1_hist_matched[ntb_blue_region1 == ntb_v]\n",
    "            if len(a) > 0:\n",
    "                ntb_to_nissl[ntb_v] = np.unique(a)[0]\n",
    "\n",
    "        ntb_values = np.arange(0, 5000)\n",
    "        ntb_matched_values = np.interp(ntb_values, \n",
    "                                       [ntb_v for ntb_v, nissl_v in sorted(ntb_to_nissl.items())], \n",
    "                                       [nissl_v for ntb_v, nissl_v in sorted(ntb_to_nissl.items())])\n",
    "\n",
    "    #     ntb_matched_values_all_examples.append(ntb_matched_values)\n",
    "\n",
    "        ntb_matched_values_all_examples_one_section.append(ntb_matched_values)\n",
    "        region_bboxes_all_examples_one_section.append((region1_x, region1_y, region1_w, region1_h))\n",
    "    \n",
    "#         ntb_matched_values_all_examples[(nissl_sec, ntb_sec)].append(ntb_matched_values)\n",
    "#         region_bboxes_all_examples[(nissl_sec, ntb_sec)].append((region1_x, region1_y, region1_w, region1_h))\n",
    "        \n",
    "        sys.stderr.write('Compute matching: %.2f seconds.\\n' % (time.time()-t))\n",
    "\n",
    "        \n",
    "#     fp = os.path.join(DATA_DIR, stack, stack + '_histogram_matching', 'ntb_%d_to_nissl_%d_matched_values.npy' % (ntb_sec, nissl_sec))\n",
    "#     np.save(fp, ntb_matched_values_all_examples_one_section)\n",
    "#     upload_to_s3(fp)\n",
    "\n",
    "#     fp = os.path.join(DATA_DIR, stack, stack + '_histogram_matching', 'ntb_%d_to_nissl_%d_region_bboxes.npy' % (ntb_sec, nissl_sec))\n",
    "#     np.save(fp, np.asarray(region_bboxes_all_examples_one_section))\n",
    "#     upload_to_s3(fp)\n",
    "    \n",
    "    #     plt.plot(ntb_values, ntb_matched_values);\n",
    "    #     plt.xlim([0,5000]);\n",
    "    #     plt.ylim([0,256]);\n",
    "    #     plt.xlabel('Neurotrace intensity');\n",
    "    #     plt.ylabel('Matched nissl intensity');\n",
    "    #     plt.show();"
   ]
  },
  {
   "cell_type": "markdown",
   "metadata": {},
   "source": [
    "# One image pair, different regions (NEW)"
   ]
  },
  {
   "cell_type": "code",
   "execution_count": null,
   "metadata": {},
   "outputs": [],
   "source": [
    "# Find the maximal intensity in fluorescent blue channel.\n",
    "\n",
    "# for fn in metadata_cache['valid_filenames'][stack][::10]:\n",
    "#     if fn.split('-')[1][0] == 'F':\n",
    "#         im = DataManager.load_image(stack=stack, fn=fn, version='cropped_16bit', resol='lossless')[..., 2]\n",
    "#         print fn, im.min(), im.max()"
   ]
  },
  {
   "cell_type": "code",
   "execution_count": null,
   "metadata": {
    "scrolled": true
   },
   "outputs": [],
   "source": [
    "# for nissl_sec, ntb_sec in compare_pairs[34:35]:\n",
    "for nissl_sec, ntb_sec in compare_pairs[25:45]:\n",
    "# for nissl_sec, ntb_sec in compare_pairs[::3]:\n",
    "    \n",
    "    sys.stderr.write('nissl %d, ntb %d\\n' % (nissl_sec, ntb_sec))\n",
    "    \n",
    "    ntb_matched_values_all_examples_one_section = []\n",
    "    region_bboxes_all_examples_one_section = []\n",
    "    \n",
    "    nissl_tb_mask = DataManager.load_thumbnail_mask_v3(stack=stack, section=nissl_sec, version='cropped')\n",
    "    w, h = metadata_cache['image_shape'][stack]\n",
    "\n",
    "    t = time.time()\n",
    "    ntb_im = DataManager.load_image(stack=stack, section=ntb_sec, version='cropped', resol='lossless')\n",
    "    sys.stderr.write('Load NTB: %.2f seconds.\\n' % (time.time()-t))\n",
    "\n",
    "    t = time.time()\n",
    "    nissl_im = DataManager.load_image(stack=stack, section=nissl_sec, version='cropped', resol='lossless')\n",
    "    sys.stderr.write('Load Nissl: %.2f seconds.\\n' % (time.time()-t))\n",
    "\n",
    "#     h, w = nissl_im.shape[:2]\n",
    "#     for region_id in range(3):\n",
    "#         while True:\n",
    "#             region_w = 5000\n",
    "#             region_h = 5000\n",
    "#             region_x = np.random.randint(0, w - region_w, 1)[0]\n",
    "#             region_y = np.random.randint(0, h - region_h, 1)[0]\n",
    "            \n",
    "#             tb_region_xmin = region_x / 32\n",
    "#             tb_region_xmax = (region_x + region_w) / 32\n",
    "#             tb_region_ymin = region_y / 32\n",
    "#             tb_region_ymax = (region_y + region_h) / 32\n",
    "            \n",
    "#             if np.all(np.r_[nissl_tb_mask[tb_region_ymin, tb_region_xmin],\n",
    "#             nissl_tb_mask[tb_region_ymin, tb_region_xmax],\n",
    "#             nissl_tb_mask[tb_region_ymax, tb_region_xmin],\n",
    "#             nissl_tb_mask[tb_region_ymax, tb_region_xmax]]):\n",
    "#                 break\n",
    "        \n",
    "#         sys.stderr.write('%d %d %d %d\\n' % (region_x, region_y, region_w, region_h))\n",
    "    \n",
    "    for region_id in range(1):\n",
    "        region_x = 233 * 32\n",
    "        region_y = 299 * 32\n",
    "        region_w = 124 * 32\n",
    "        region_h = 98 * 32\n",
    "    \n",
    "        ntb_blue_region = ntb_im[region_y:region_y+region_h, region_x:region_x+region_w, 2]\n",
    "        \n",
    "        # Checked a few sections, maximal intensity value in blue channel is less than 5000.\n",
    "        ntb_blue_bins = np.arange(5001)\n",
    "        ntb_blue_hist = np.histogram(ntb_blue_region.flatten(), bins=np.r_[ntb_blue_bins, 5001])[0]\n",
    "        \n",
    "        ntb_blue_inv_bins = np.arange(5001)\n",
    "        ntb_blue_inv_hist = np.histogram(5000 - ntb_blue_region.flatten(), bins=np.r_[ntb_blue_inv_bins, 5001])[0]\n",
    " \n",
    "        nissl_region = img_as_ubyte(rgb2gray(nissl_im[region_y:region_y+region_h, region_x:region_x+region_w]))\n",
    "        nissl_gray_bins = np.arange(0, 257)\n",
    "        nissl_gray_hist = np.histogram(nissl_region.flatten(), bins=nissl_gray_bins)[0]        \n",
    "\n",
    "        ###############\n",
    "\n",
    "#         t = time.time()\n",
    "\n",
    "        # Matched mapping\n",
    "        ntb_blue_region_inv = 5000 - ntb_blue_region.astype(np.int)\n",
    "        ntb_inv_vals, nissl_vals = match_histogram(ntb_blue_region_inv, nissl_region)\n",
    "    \n",
    "        ntb_blue_inv_bins = np.arange(0, 5001)\n",
    "        ntb_inv_to_nissl_mapping = np.interp(ntb_blue_inv_bins, ntb_inv_vals, nissl_vals)\n",
    "        \n",
    "        ntb_to_nissl_mapping = ntb_inv_to_nissl_mapping[5000 - ntb_blue_bins]\n",
    "        ntb_to_nissl_mapping = np.round(ntb_to_nissl_mapping).astype(np.uint8)\n",
    "\n",
    "        ntb_region_normalized = np.round(ntb_to_nissl_mapping[ntb_blue_region]).astype(np.uint8)\n",
    "        \n",
    "        ntb_blue_normalized_bins = np.arange(0, 257)\n",
    "        ntb_blue_normalized_hist = np.histogram(ntb_region_normalized.flatten(), bins=np.r_[ntb_blue_normalized_bins, 5001])[0]\n",
    "\n",
    "#         ntb_matched_values_all_examples_one_section.append(ntb_to_nissl_mapping)\n",
    "#         region_bboxes_all_examples_one_section.append((region_x, region_y, region_w, region_h))\n",
    "        \n",
    "        # Default mapping\n",
    "        intensity_mapping_fp = DataManager.get_ntb_to_nissl_intensity_profile_mapping_filepath()\n",
    "        download_from_s3(intensity_mapping_fp)\n",
    "        default_ntb_to_nissl_mapping = np.load(intensity_mapping_fp)\n",
    "\n",
    "        ntb_region_normalized_default = np.round(default_ntb_to_nissl_mapping[ntb_blue_region]).astype(np.uint8)        \n",
    "        ntb_blue_normalized_bins_default = np.arange(0, 257)\n",
    "        ntb_blue_normalized_hist_default = np.histogram(ntb_region_normalized_default.flatten(), bins=np.r_[ntb_blue_normalized_bins_default, 5001])[0]\n",
    "    \n",
    "#         sys.stderr.write('Compute matching: %.2f seconds.\\n' % (time.time()-t))\n",
    "        \n",
    "        # Linear normalizations\n",
    "        \n",
    "        ntb_region_linearNormalized_diffClips = {}\n",
    "        ntb_region_linearNormalized_inverted_diffClips = {}\n",
    "        \n",
    "        low = 0\n",
    "        highs = range(500, 3000, 500)\n",
    "        for high in highs:\n",
    "            ntb_region_linearNormalized = rescale_intensity_v2(ntb_blue_region, low, high)\n",
    "    #         ntb_blue_linearNormalized_bins = np.arange(0, 256)\n",
    "    #         ntb_blue_linearNormalized_hist = np.histogram(ntb_region_linearNormalized.flatten(), bins=np.r_[ntb_blue_linearNormalized_bins, [257]])[0]\n",
    "\n",
    "            ntb_region_linearNormalized_inverted = rescale_intensity_v2(ntb_blue_region, high, low)\n",
    "    #         ntb_blue_linearNormalized_inverted_bins = np.arange(0, 256)\n",
    "    #         ntb_blue_linearNormalized_inverted_hist = np.histogram(ntb_region_linearNormalized_inverted.flatten(), bins=np.r_[ntb_blue_linearNormalized_inverted_bins, [257]])[0]\n",
    "\n",
    "    #         ntb_to_nissl_linear_mapping = np.zeros((5001,))\n",
    "    #         ntb_to_nissl_linear_mapping[:high] = - 255 / float(high) * np.arange(high) + 255\n",
    "    \n",
    "            ntb_region_linearNormalized_diffClips[high] = ntb_region_linearNormalized\n",
    "            ntb_region_linearNormalized_inverted_diffClips[high] = ntb_region_linearNormalized_inverted\n",
    "        \n",
    "#         # Plot intensity histograms\n",
    "        \n",
    "#         plt.figure(figsize=(20,4));\n",
    "#         plt.bar(ntb_blue_bins, ntb_blue_hist);\n",
    "#         plt.xlabel('Neurotrace blue intensity');\n",
    "#         plt.ylabel('Number of pixels');\n",
    "#         plt.title('Neurotrace Blue Intensity Histogram');\n",
    "#         plt.show();\n",
    "\n",
    "#         plt.figure(figsize=(20,4));\n",
    "#         plt.bar(ntb_blue_bins, np.log(ntb_blue_hist));\n",
    "#         plt.xlabel('Neurotrace blue intensity');\n",
    "#         plt.ylabel('Log Number of pixels');\n",
    "#         plt.title('Neurotrace Blue Intensity Histogram');\n",
    "#         plt.show();\n",
    "\n",
    "#         plt.figure(figsize=(20,4));\n",
    "#         plt.plot(ntb_blue_bins, ntb_to_nissl_mapping);\n",
    "#         plt.xlabel('Neurotrace intensity');\n",
    "#         plt.ylabel('Normalized intensity');\n",
    "#         plt.title('Neurotrace to Brightfield Nissl intensity mapping');\n",
    "#         plt.show();\n",
    "\n",
    "#         plt.figure(figsize=(20,4));\n",
    "#         plt.bar(ntb_blue_inv_bins, ntb_blue_inv_hist);\n",
    "#         plt.xlabel('5000 - Neurotrace blue intensity');\n",
    "#         plt.ylabel('Log Number of pixels');\n",
    "#         plt.title('Neurotrace Blue Intensity Histogram');\n",
    "#         plt.show();\n",
    "\n",
    "#         plt.figure(figsize=(20,4));\n",
    "#         plt.plot(ntb_blue_inv_bins, ntb_inv_to_nissl_mapping);\n",
    "#         plt.xlabel('5000 - Neurotrace intensity');\n",
    "#         plt.ylabel('Normalized intensity');\n",
    "#         plt.title('Neurotrace to Brightfield Nissl intensity mapping');\n",
    "#         plt.show();\n",
    "\n",
    "#         plt.figure(figsize=(20,4));\n",
    "#         plt.bar(nissl_gray_bins[:-1], nissl_gray_hist);\n",
    "#         plt.xlabel('Nissl intensity');\n",
    "#         plt.ylabel('Number of pixels');\n",
    "#         plt.title('Nissl Intensity Histogram');\n",
    "#         plt.show();\n",
    "\n",
    "#         plt.figure(figsize=(20,4));\n",
    "#         plt.bar(nissl_gray_bins[:-1], np.log(nissl_gray_hist));\n",
    "#         plt.xlabel('Nissl intensity');\n",
    "#         plt.ylabel('Log Number of pixels');\n",
    "#         plt.title('Nissl Intensity Histogram');\n",
    "#         plt.show();\n",
    "\n",
    "#         plt.figure(figsize=(20,4));\n",
    "#         plt.bar(ntb_blue_normalized_bins, ntb_blue_normalized_hist);\n",
    "#         plt.xlabel('Neurotrace blue normalized intensity');\n",
    "#         plt.ylabel('Number of pixels');\n",
    "#         plt.title('Neurotrace Blue Normalized Intensity Histogram');\n",
    "#         plt.show();\n",
    "\n",
    "#         plt.figure(figsize=(20,4));\n",
    "#         plt.bar(ntb_blue_normalized_bins, np.log(ntb_blue_normalized_hist));\n",
    "#         plt.xlabel('Neurotrace blue normalized intensity');\n",
    "#         plt.ylabel('Log Number of pixels');\n",
    "#         plt.title('Neurotrace Blue Normalized Intensity Histogram');\n",
    "#         plt.show();\n",
    "\n",
    "#         plt.figure(figsize=(20,4));\n",
    "#         plt.plot(ntb_blue_bins, ntb_to_nissl_linear_mapping);\n",
    "#         plt.xlabel('Neurotrace intensity');\n",
    "#         plt.ylabel('Normalized intensity');\n",
    "#         plt.title('Neurotrace to Brightfield Nissl intensity mapping (Linear)');\n",
    "#         plt.show();\n",
    "\n",
    "\n",
    "#         plt.figure(figsize=(20,4));\n",
    "#         plt.bar(ntb_blue_linearNormalized_bins, ntb_blue_linearNormalized_hist);\n",
    "#         plt.xlabel('Neurotrace blue linearly normalized intensity');\n",
    "#         plt.ylabel('Number of pixels');\n",
    "#         plt.title('Neurotrace Blue Linearly Normalized Intensity Histogram');\n",
    "#         plt.show();\n",
    "\n",
    "#         plt.figure(figsize=(20,4));\n",
    "#         plt.bar(ntb_blue_linearNormalized_bins, np.log(ntb_blue_linearNormalized_hist));\n",
    "#         plt.xlabel('Neurotrace blue linearly normalized intensity');\n",
    "#         plt.ylabel('Log Number of pixels');\n",
    "#         plt.title('Neurotrace Blue Linearly Normalized Intensity Histogram');\n",
    "#         plt.show();\n",
    "\n",
    "\n",
    "#         plt.figure(figsize=(20,4));\n",
    "#         plt.bar(ntb_blue_linearNormalized_inverted_bins, ntb_blue_linearNormalized_inverted_hist);\n",
    "#         plt.xlabel('Neurotrace blue linearly normalized + inverted intensity');\n",
    "#         plt.ylabel('Number of pixels');\n",
    "#         plt.title('Neurotrace Blue Linearly Normalized + inverted Intensity Histogram');\n",
    "#         plt.show();\n",
    "\n",
    "#         plt.figure(figsize=(20,4));\n",
    "#         plt.bar(ntb_blue_linearNormalized_inverted_bins, np.log(ntb_blue_linearNormalized_inverted_hist));\n",
    "#         plt.xlabel('Neurotrace blue linearly normalized + inverted intensity');\n",
    "#         plt.ylabel('Log Number of pixels');\n",
    "#         plt.title('Neurotrace Blue Linearly Normalized + inverted Intensity Histogram');\n",
    "#         plt.show();      \n",
    "\n",
    "\n",
    "#         # Separate Figures\n",
    "\n",
    "# #         plt.figure(figsize=(20,20));\n",
    "#         plt.figure();\n",
    "#         plt.imshow(nissl_region, plt.cm.gray);\n",
    "#         plt.title('Nissl Image, %s' % metadata_cache['sections_to_filenames'][stack][nissl_sec]);\n",
    "#         plt.axis('off');\n",
    "#         plt.show();\n",
    "\n",
    "# #         plt.figure(figsize=(20,20));\n",
    "#         plt.figure();\n",
    "#         plt.imshow(ntb_region_normalized, plt.cm.gray);\n",
    "#         plt.title('Neurotrace Image (Intensity Normalized), %s' % metadata_cache['sections_to_filenames'][stack][ntb_sec]);\n",
    "#         plt.axis('off');\n",
    "#         plt.show();\n",
    "            \n",
    "#         for i in range(5):\n",
    "#     #         plt.figure(figsize=(20,20));\n",
    "#             plt.figure();\n",
    "#             plt.imshow(ntb_region_linearNormalized_diffClips[i], plt.cm.gray);\n",
    "#             plt.title('Neurotrace Image (linearly Normalized), %s' % metadata_cache['sections_to_filenames'][stack][ntb_sec]);\n",
    "#             plt.axis('off');\n",
    "#             plt.show();\n",
    "\n",
    "#     #         plt.figure(figsize=(20,20));\n",
    "#             plt.figure();\n",
    "#             plt.imshow(ntb_region_linearNormalized_inverted_diffClips[i], plt.cm.gray);\n",
    "#             plt.title('Neurotrace Image (linearly Normalized + inverted), %s' % metadata_cache['sections_to_filenames'][stack][ntb_sec]);\n",
    "#             plt.axis('off');\n",
    "#             plt.show();\n",
    "        \n",
    "#         # Subplots\n",
    "#         fig, axes = plt.subplots(ncols=int(np.round((3+len(highs))/2.)), nrows=2, figsize=(20, 20));\n",
    "#         axes = axes.flatten()\n",
    "#         axes[0].imshow(nissl_region, plt.cm.gray);\n",
    "#         axes[0].set_title('Nissl');\n",
    "#         axes[0].axis('off');\n",
    "        \n",
    "#         axes[1].imshow(ntb_region_normalized, plt.cm.gray);\n",
    "#         axes[1].set_title('Neurotrace (nonlinearly normalized, matched)');\n",
    "#         axes[1].axis('off');\n",
    "        \n",
    "#         axes[2].imshow(ntb_region_normalized_default, plt.cm.gray);\n",
    "#         axes[2].set_title('Neurotrace (nonlinearly normalized, default)');\n",
    "#         axes[2].axis('off');\n",
    "        \n",
    "#         for i, high in enumerate(highs):            \n",
    "#             axes[3+i].imshow(ntb_region_linearNormalized_inverted_diffClips[high], plt.cm.gray);\n",
    "#             axes[3+i].set_title('Neurotrace (linearly normalized (0, %d))' % high);\n",
    "#             axes[3+i].axis('off');\n",
    "#         plt.show();\n",
    "        \n",
    "    # Subplots\n",
    "#         imgs = [nissl_region, ntb_region_normalized, ntb_region_normalized_default] + \\\n",
    "#                 [ntb_region_linearNormalized_inverted_diffClips[high] for high in highs]\n",
    "#         display_images_in_grids(imgs, titles=['Nissl', 'NT,nonlinear,matched', 'NT,nonlinear,default'] + \n",
    "#                                 ['NT,linear,%d' % high for high in highs],\n",
    "#                                nc=4, cmap=plt.cm.gray)\n",
    "\n",
    "        scoremap_downscale = 8\n",
    "\n",
    "        nissl_scviz = scoremap_overlay_on(bg='original', stack=stack, structure='7N', \n",
    "                                          in_downscale=1, out_downscale=scoremap_downscale, \n",
    "                                          classifier_id=37, sec=nissl_sec,\n",
    "                                         overlay_alpha=.3, show_above=0.5, cmap_name='jet')\n",
    "\n",
    "        # ntb_scviz = scoremap_overlay_on(bg='original', stack=stack, structure='7N', \n",
    "        #                                   in_downscale=1, out_downscale=scoremap_downscale, \n",
    "        #                                   classifier_id=37, sec=ntb_sec,\n",
    "        #                                  overlay_alpha=.3, show_above=0.5, cmap_name='jet')\n",
    "\n",
    "        # ntb_lin_scviz = scoremap_overlay_on(bg='original', stack=stack, structure='7N', \n",
    "        #                                   in_downscale=1, out_downscale=scoremap_downscale, \n",
    "        #                                   classifier_id=80, sec=ntb_sec,\n",
    "        #                                  overlay_alpha=.3, show_above=0.5, cmap_name='jet')\n",
    "\n",
    "        ntb_scviz = gray2rgb(ntb_region_normalized[::scoremap_downscale, ::scoremap_downscale])\n",
    "\n",
    "        ntb_default_scviz = scoremap_overlay_on(bg=ntb_region_normalized_default, stack=stack, structure='7N', \n",
    "                                          in_downscale=1, out_downscale=scoremap_downscale, \n",
    "                                          classifier_id=37, sec=ntb_sec,\n",
    "                                         overlay_alpha=.3, show_above=0.5, cmap_name='jet',\n",
    "                                       overlay_bbox=(region_x, region_x+region_w, region_y, region_y+region_h))\n",
    "\n",
    "        ntb_lin_scviz_diffClips = {}\n",
    "        for cval, cid in zip(np.arange(500, 3000, 500), range(80, 86)):\n",
    "            ntb_lin_scviz_diffClips[cval] =  scoremap_overlay_on(bg=ntb_region_linearNormalized_inverted_diffClips[cval], \n",
    "                                        stack=stack, structure='7N', \n",
    "                                          in_downscale=1, out_downscale=scoremap_downscale, \n",
    "                                          classifier_id=cid, sec=ntb_sec,\n",
    "                                         overlay_alpha=.3, show_above=0.5, cmap_name='jet',\n",
    "                                       overlay_bbox=(region_x, region_x+region_w, region_y, region_y+region_h))\n",
    "\n",
    "        imgs = [nissl_scviz[region_y/scoremap_downscale:(region_y+region_h)/scoremap_downscale, \n",
    "                           region_x/scoremap_downscale:(region_x+region_w)/scoremap_downscale],\n",
    "        #                           ntb_scviz[region_y/scoremap_downscale:(region_y+region_h)/scoremap_downscale, \n",
    "        #                      region_x/scoremap_downscale:(region_x+region_w)/scoremap_downscale],\n",
    "        #                          ntb_lin_scviz[region_y/scoremap_downscale:(region_y+region_h)/scoremap_downscale, \n",
    "        #                      region_x/scoremap_downscale:(region_x+region_w)/scoremap_downscale]],\n",
    "                             ntb_scviz, ntb_default_scviz] + [ntb_lin_scviz_diffClips[cval] for cval in range(500, 3000, 500)]\n",
    "\n",
    "        display_images_in_grids(imgs,\n",
    "                            titles=['Nissl', 'NT,nonlinear,matched', 'NT,nonlinear,default'] + \n",
    "                                    ['NT,linear,%d' % cval for cval in range(500, 3000, 500)],\n",
    "                     nc=4, cmap=plt.cm.gray)        \n",
    "        \n",
    "        plt.figure()\n",
    "        plt.plot(ntb_blue_bins, ntb_to_nissl_mapping, label='matched');\n",
    "        plt.plot(ntb_blue_bins, default_ntb_to_nissl_mapping, label='default');\n",
    "        plt.legend();\n",
    "        plt.show();\n",
    "\n",
    "#     fp = os.path.join(DATA_DIR, stack, stack + '_intensity_mapping', '%s_to_%s_intensity_mapping_all_regions.npy' % (ntb_fn, nissl_fn))\n",
    "#     create_parent_dir_if_not_exists(fp)\n",
    "#     np.save(fp, np.asarray(ntb_matched_values_all_examples_one_section))\n",
    "#     upload_to_s3(fp)\n",
    "\n",
    "#     fp = os.path.join(DATA_DIR, stack, stack + '_intensity_mapping', '%s_to_%s_region_bboxes.npy' % (ntb_fn, nissl_fn))\n",
    "#     np.save(fp, np.asarray(region_bboxes_all_examples_one_section))\n",
    "#     upload_to_s3(fp)\n",
    "\n",
    "#     median_mapping_one_section = np.median(ntb_matched_values_all_examples_one_section, axis=0)\n",
    "#     fp = DataManager.get_ntb_to_nissl_intensity_profile_mapping_filepath(stack=stack, fn=ntb_fn)\n",
    "#     np.save(fp, np.asarray(median_mapping_one_section))\n",
    "#     upload_to_s3(fp)"
   ]
  },
  {
   "cell_type": "code",
   "execution_count": null,
   "metadata": {
    "scrolled": true
   },
   "outputs": [],
   "source": [
    "# plt.figure(figsize=(20,20));\n",
    "# plt.imshow(nissl_scviz[region_y/scoremap_downscale:(region_y+region_h)/scoremap_downscale, \n",
    "#                        region_x/scoremap_downscale:(region_x+region_w)/scoremap_downscale]);\n",
    "# plt.axis('off');\n",
    "# plt.show();\n",
    "\n",
    "# plt.figure(figsize=(20,20));\n",
    "# # plt.imshow(ntb_scviz[region_y/scoremap_downscale:(region_y+region_h)/scoremap_downscale, \n",
    "# #                      region_x/scoremap_downscale:(region_x+region_w)/scoremap_downscale]);\n",
    "# plt.imshow(ntb_scviz);\n",
    "# plt.axis('off');\n",
    "# plt.show();\n",
    "\n",
    "# plt.figure(figsize=(20,20));\n",
    "# # plt.imshow(ntb_lin_scviz[region_y/scoremap_downscale:(region_y+region_h)/scoremap_downscale, \n",
    "# #                      region_x/scoremap_downscale:(region_x+region_w)/scoremap_downscale]);\n",
    "# plt.imshow(ntb_lin_scviz);\n",
    "# plt.axis('off');\n",
    "# plt.show();"
   ]
  },
  {
   "cell_type": "code",
   "execution_count": null,
   "metadata": {},
   "outputs": [],
   "source": [
    "# plt.figure(figsize=(10,5));\n",
    "# for a in ntb_matched_values_all_examples:\n",
    "#     plt.plot(ntb_values, a);\n",
    "# plt.xlim([0,5000]);\n",
    "# plt.ylim([0,256]);\n",
    "# plt.xlabel('Neurotrace intensity');\n",
    "# plt.ylabel('Matched nissl intensity');\n",
    "# plt.show();"
   ]
  },
  {
   "cell_type": "markdown",
   "metadata": {},
   "source": [
    "# A full neurotrace stack, compare nonlinear and linear normalized"
   ]
  },
  {
   "cell_type": "code",
   "execution_count": null,
   "metadata": {},
   "outputs": [],
   "source": [
    "# Assume both nonlinear and linear normalized neurotrace images are already computed"
   ]
  },
  {
   "cell_type": "code",
   "execution_count": null,
   "metadata": {},
   "outputs": [],
   "source": [
    "stack = 'MD635'"
   ]
  },
  {
   "cell_type": "code",
   "execution_count": null,
   "metadata": {
    "scrolled": true
   },
   "outputs": [],
   "source": [
    "for fn in metadata_cache['valid_filenames'][stack][100:105]:\n",
    "    img_nonlin = DataManager.load_image(stack=stack, fn=fn, resol='lossless', version='cropped_gray')\n",
    "    img_lin = DataManager.load_image(stack=stack, fn=fn, resol='lossless', version='cropped_gray_linearNormalized')\n",
    "    \n",
    "    region_x = 233 * 32\n",
    "    region_y = 299 * 32\n",
    "    region_w = 124 * 32\n",
    "    region_h = 98 * 32\n",
    "\n",
    "    region_nonlin = img_nonlin[region_y:region_y+region_h, region_x:region_x+region_w]\n",
    "    region_lin = img_lin[region_y:region_y+region_h, region_x:region_x+region_w]\n",
    "    \n",
    "#     fig, axes = plt.subplots(ncols=2, nrows=1, figsize=(20,10));\n",
    "\n",
    "#     axes[0].imshow(region_nonlin, plt.cm.gray);\n",
    "#     axes[0].set_title('Neurotrace (nonlinearly normalized)');\n",
    "#     axes[0].axis('off');\n",
    "\n",
    "#     axes[1].imshow(region_lin, plt.cm.gray);\n",
    "#     axes[1].set_title('Neurotrace (linearly normalized)');\n",
    "#     axes[1].axis('off');\n",
    "#     plt.show();    \n",
    "    \n",
    "    plt.figure(figsize=(20,20));\n",
    "    plt.imshow(region_nonlin, plt.cm.gray);\n",
    "    plt.title('Neurotrace Image (nonlinearly Normalized), %s' % fn);\n",
    "    plt.axis('off');\n",
    "    plt.show();\n",
    "\n",
    "    plt.figure(figsize=(20,20));\n",
    "    plt.imshow(region_lin, plt.cm.gray);\n",
    "    plt.title('Neurotrace Image (linearly Normalized), %s' % fn);\n",
    "    plt.axis('off');\n",
    "    plt.show();"
   ]
  },
  {
   "cell_type": "markdown",
   "metadata": {
    "collapsed": true
   },
   "source": [
    "# Same image pair, different regions. nissl-nissl"
   ]
  },
  {
   "cell_type": "code",
   "execution_count": null,
   "metadata": {},
   "outputs": [],
   "source": [
    "stack = 'MD657'"
   ]
  },
  {
   "cell_type": "code",
   "execution_count": null,
   "metadata": {},
   "outputs": [],
   "source": [
    "w, h = metadata_cache['image_shape'][stack]"
   ]
  },
  {
   "cell_type": "code",
   "execution_count": null,
   "metadata": {},
   "outputs": [],
   "source": [
    "nissl_sections = [metadata_cache['filenames_to_sections'][stack][fn] \n",
    "                  for fn in metadata_cache['valid_filenames'][stack] if fn.split('-')[1][0] == 'N']\n",
    "ntb_sections = [metadata_cache['filenames_to_sections'][stack][fn] \n",
    "                for fn in metadata_cache['valid_filenames'][stack] if fn.split('-')[1][0] == 'F']"
   ]
  },
  {
   "cell_type": "code",
   "execution_count": null,
   "metadata": {},
   "outputs": [],
   "source": [
    "# Generate nissl-nissl pairs.\n",
    "\n",
    "compare_pairs = []\n",
    "for nissl_sec in nissl_sections:\n",
    "    for i in range(1, 10):\n",
    "        closest_nissl_sec = nissl_sec + i\n",
    "        if closest_nissl_sec in nissl_sections:\n",
    "            break\n",
    "    compare_pairs.append((nissl_sec, closest_nissl_sec))"
   ]
  },
  {
   "cell_type": "code",
   "execution_count": null,
   "metadata": {
    "scrolled": true
   },
   "outputs": [],
   "source": [
    "# nissl2_matched_values_all_examples = defaultdict(list)\n",
    "# region_bboxes_all_examples = defaultdict(list)\n",
    "\n",
    "for nissl_sec, nissl2_sec in compare_pairs:\n",
    "    \n",
    "    nissl2_matched_values_all_examples_one_section = []\n",
    "    region_bboxes_all_examples_one_section = []\n",
    "\n",
    "    nissl_tb_mask = DataManager.load_thumbnail_mask_v3(stack=stack, section=nissl_sec, prep_id=2)\n",
    "    \n",
    "    for region_id in range(10):\n",
    "\n",
    "        while True:\n",
    "            region1_x = np.random.randint(0, w-10000, 1)[0]\n",
    "            region1_y = np.random.randint(0, h-10000, 1)[0]\n",
    "            region1_w = 5000\n",
    "            region1_h = 5000\n",
    "            \n",
    "            tb_region1_xmin = region1_x / 32\n",
    "            tb_region1_xmax = (region1_x + region1_w) / 32\n",
    "            tb_region1_ymin = region1_y / 32\n",
    "            tb_region1_ymax = (region1_y + region1_h) / 32\n",
    "            \n",
    "            if np.all(np.r_[nissl_tb_mask[tb_region1_ymin, tb_region1_xmin],\n",
    "            nissl_tb_mask[tb_region1_ymin, tb_region1_xmax],\n",
    "            nissl_tb_mask[tb_region1_ymax, tb_region1_xmin],\n",
    "            nissl_tb_mask[tb_region1_ymax, tb_region1_xmax]]):\n",
    "                break\n",
    "                \n",
    "        print \"Region %d: x=%d, y=%d, w=%d, h=%d\" % (region_id, region1_x, region1_y, region1_w, region1_h)\n",
    "\n",
    "\n",
    "#         t = time.time()\n",
    "        nissl_im = DataManager.load_image_v2(stack=stack, section=nissl_sec, prep_id=2, version='gray', resol='lossless')\n",
    "        nissl_region1 = img_as_ubyte(nissl_im[region1_y:region1_y+region1_h, region1_x:region1_x+region1_w])\n",
    "#         nissl_gray_bins = np.arange(0, 257)\n",
    "#         nissl_gray_hist = np.histogram(nissl_region1.flatten(), bins=nissl_gray_bins)[0]\n",
    "#         sys.stderr.write('Load Nissl1: %.2f seconds.\\n' % (time.time()-t))\n",
    "\n",
    "#         t = time.time()        \n",
    "        nissl2_im = DataManager.load_image_v2(stack=stack, section=nissl2_sec, prep_id=2, version='gray', resol='lossless')\n",
    "        nissl2_region1 = img_as_ubyte(nissl2_im[region1_y:region1_y+region1_h, region1_x:region1_x+region1_w])\n",
    "#         nissl2_gray_bins = np.arange(0, 257)\n",
    "#         nissl2_gray_hist = np.histogram(nissl2_region1.flatten(), bins=nissl2_gray_bins)[0]\n",
    "#         sys.stderr.write('Load Nissl2: %.2f seconds.\\n' % (time.time()-t))\n",
    "\n",
    "        ###############\n",
    "        \n",
    "#         t = time.time()\n",
    "        nissl2_vals, nissl_vals = match_histogram(nissl2_region1, nissl_region1)\n",
    "        nissl2_to_nissl_mapping =  np.round(np.interp(np.arange(255), np.r_[0, nissl2_vals], np.r_[0, nissl_vals])).astype(np.uint8)\n",
    "        # If minimum level is not 0, force the zero level of two images to match.\n",
    "#         sys.stderr.write('Compute matching: %.2f seconds.\\n' % (time.time()-t))\n",
    "\n",
    "    #     fig, axes = plt.subplots(ncols=2, nrows=1, figsize=(20,10));\n",
    "    #     axes[0].imshow(nissl_region1, plt.cm.gray);\n",
    "    #     axes[0].set_title('Nissl1');\n",
    "    #     axes[1].imshow(nissl2_region1_hist_matched.astype(np.uint8), plt.cm.gray);\n",
    "    #     axes[1].set_title('Nissl2 (histogram matched to Nissl1)');\n",
    "    #     plt.show();\n",
    "        \n",
    "        nissl2_matched_values_all_examples_one_section.append(nissl2_to_nissl_mapping)\n",
    "        region_bboxes_all_examples_one_section.append((region1_x, region1_y, region1_w, region1_h))\n",
    "\n",
    "#         nissl2_matched_values_all_examples[(nissl_sec, nissl2_sec)].append(nissl2_matched_values)\n",
    "#         region_bboxes_all_examples[(nissl_sec, nissl2_sec)].append((region1_x, region1_y, region1_w, region1_h))\n",
    "    \n",
    "    fp = os.path.join(THUMBNAIL_DATA_DIR, stack, stack + '_intensity_mapping', '%s_to_%s_intensity_mapping_all_regions.npy' % (metadata_cache['sections_to_filenames'][stack][nissl2_sec], metadata_cache['sections_to_filenames'][stack][nissl_sec]))\n",
    "    create_parent_dir_if_not_exists(fp)\n",
    "    np.save(fp, nissl2_matched_values_all_examples_one_section)\n",
    "    upload_to_s3(fp, local_root=THUMBNAIL_DATA_ROOTDIR)\n",
    "        \n",
    "    fp = os.path.join(THUMBNAIL_DATA_DIR, stack, stack + '_intensity_mapping', '%s_to_%s_region_bboxes.npy' % (metadata_cache['sections_to_filenames'][stack][nissl2_sec], metadata_cache['sections_to_filenames'][stack][nissl_sec]))\n",
    "    np.save(fp,  np.asarray(region_bboxes_all_examples_one_section))\n",
    "    upload_to_s3(fp, local_root=THUMBNAIL_DATA_ROOTDIR)\n",
    "        \n",
    "#         plt.plot(nissl2_values, nissl2_matched_values);\n",
    "#         plt.xlim([0,256]);\n",
    "#         plt.ylim([0,256]);\n",
    "#         plt.xlabel('Nissl2 intensity');\n",
    "#         plt.ylabel('Matched nissl1 intensity');\n",
    "#         plt.show();"
   ]
  },
  {
   "cell_type": "code",
   "execution_count": null,
   "metadata": {},
   "outputs": [],
   "source": [
    "# plt.figure(figsize=(10,5));\n",
    "# for a in nissl2_matched_values_all_examples:\n",
    "#     plt.plot(nissl2_values, a);\n",
    "# plt.xlim([0,256]);\n",
    "# plt.ylim([0,256]);\n",
    "# plt.xlabel('Nissl1 intensity');\n",
    "# plt.ylabel('Nissl2 matched to Nissl1 intensity');\n",
    "# plt.show();"
   ]
  },
  {
   "cell_type": "code",
   "execution_count": null,
   "metadata": {},
   "outputs": [],
   "source": [
    "for (nissl_sec, nissl2_sec), matched_values in sorted(nissl2_matched_values_all_examples.items()):\n",
    "    plt.figure(figsize=(5,5));\n",
    "    for a in matched_values:\n",
    "        plt.plot(nissl2_values, a);\n",
    "    plt.xlim([0,256]);\n",
    "    plt.ylim([0,256]);\n",
    "    plt.xlabel('Nissl1 intensity');\n",
    "    plt.ylabel('Nissl2 matched to Nissl1 intensity');\n",
    "    plt.title('%d, %d' % (nissl_sec, nissl2_sec));\n",
    "    plt.axis('equal');\n",
    "    plt.show();"
   ]
  },
  {
   "cell_type": "code",
   "execution_count": null,
   "metadata": {},
   "outputs": [],
   "source": [
    "plt.bar(nissl_gray_bins[:-1], nissl_gray_hist);\n",
    "plt.xlabel('Nissl intensity');\n",
    "plt.show();\n",
    "\n",
    "plt.bar(ntb_blue_bins[:-1], ntb_blue_hist);\n",
    "plt.xlabel('Neurotrace blue intensity');\n",
    "plt.show();"
   ]
  },
  {
   "cell_type": "markdown",
   "metadata": {},
   "source": [
    "# Same image pair, different regions. fluor-fluor"
   ]
  },
  {
   "cell_type": "code",
   "execution_count": 13,
   "metadata": {},
   "outputs": [],
   "source": [
    "stack = 'MD635'\n",
    "w, h = metadata_cache['image_shape'][stack]"
   ]
  },
  {
   "cell_type": "code",
   "execution_count": 14,
   "metadata": {},
   "outputs": [],
   "source": [
    "nissl_sections = [metadata_cache['filenames_to_sections'][stack][fn] \n",
    "                  for fn in metadata_cache['valid_filenames'][stack] if fn.split('-')[1][0] == 'N']\n",
    "ntb_sections = [metadata_cache['filenames_to_sections'][stack][fn] \n",
    "                for fn in metadata_cache['valid_filenames'][stack] if fn.split('-')[1][0] == 'F']"
   ]
  },
  {
   "cell_type": "code",
   "execution_count": 15,
   "metadata": {},
   "outputs": [],
   "source": [
    "# Generate ntb-ntb pairs.\n",
    "\n",
    "compare_pairs = []\n",
    "for ntb_sec in ntb_sections:\n",
    "    for i in range(1, 10):\n",
    "        closest_ntb_sec = ntb_sec + i\n",
    "        if closest_ntb_sec in ntb_sections:\n",
    "            break\n",
    "    compare_pairs.append((ntb_sec, closest_ntb_sec))"
   ]
  },
  {
   "cell_type": "code",
   "execution_count": 16,
   "metadata": {
    "scrolled": true
   },
   "outputs": [
    {
     "name": "stderr",
     "output_type": "stream",
     "text": [
      "ntb 75, ntb 76\n"
     ]
    },
    {
     "name": "stdout",
     "output_type": "stream",
     "text": [
      "rm -rf \"/shared/CSHL_data_processed/MD635/MD635_prep2_thumbnail_mask/MD635-F25-2016.05.18-21.02.30_MD635_3_0075_prep2_thumbnail_mask.png\" && mkdir -p \"/shared/CSHL_data_processed/MD635/MD635_prep2_thumbnail_mask\"\n",
      "aws s3 cp \"s3://mousebrainatlas-data/CSHL_data_processed/MD635/MD635_prep2_thumbnail_mask/MD635-F25-2016.05.18-21.02.30_MD635_3_0075_prep2_thumbnail_mask.png\" \"/shared/CSHL_data_processed/MD635/MD635_prep2_thumbnail_mask/MD635-F25-2016.05.18-21.02.30_MD635_3_0075_prep2_thumbnail_mask.png\"\n",
      "rm -rf \"/shared/CSHL_data_processed/MD635/MD635_prep2_lossless/MD635-F25-2016.05.18-21.02.30_MD635_3_0075_prep2_lossless.tif\" && mkdir -p \"/shared/CSHL_data_processed/MD635/MD635_prep2_lossless\"\n",
      "aws s3 cp \"s3://mousebrainatlas-data/CSHL_data_processed/MD635/MD635_prep2_lossless/MD635-F25-2016.05.18-21.02.30_MD635_3_0075_prep2_lossless.tif\" \"/shared/CSHL_data_processed/MD635/MD635_prep2_lossless/MD635-F25-2016.05.18-21.02.30_MD635_3_0075_prep2_lossless.tif\"\n"
     ]
    },
    {
     "name": "stderr",
     "output_type": "stream",
     "text": [
      "Load NTB1: 38.34 seconds.\n"
     ]
    },
    {
     "name": "stdout",
     "output_type": "stream",
     "text": [
      "rm -rf \"/shared/CSHL_data_processed/MD635/MD635_prep2_lossless/MD635-F26-2016.05.18-21.16.59_MD635_1_0076_prep2_lossless.tif\" && mkdir -p \"/shared/CSHL_data_processed/MD635/MD635_prep2_lossless\"\n",
      "aws s3 cp \"s3://mousebrainatlas-data/CSHL_data_processed/MD635/MD635_prep2_lossless/MD635-F26-2016.05.18-21.16.59_MD635_1_0076_prep2_lossless.tif\" \"/shared/CSHL_data_processed/MD635/MD635_prep2_lossless/MD635-F26-2016.05.18-21.16.59_MD635_1_0076_prep2_lossless.tif\"\n"
     ]
    },
    {
     "name": "stderr",
     "output_type": "stream",
     "text": [
      "Load NTB2: 33.41 seconds.\n"
     ]
    },
    {
     "name": "stdout",
     "output_type": "stream",
     "text": [
      "Region 0: x=3200, y=5366, w=2000, h=2000\n",
      "Region 1: x=3299, y=1970, w=2000, h=2000\n",
      "Region 2: x=2893, y=3794, w=2000, h=2000\n",
      "Region 3: x=1341, y=9345, w=2000, h=2000\n",
      "Region 4: x=3248, y=2807, w=2000, h=2000\n",
      "Region 5: x=9339, y=2965, w=2000, h=2000\n",
      "Region 6: x=770, y=6723, w=2000, h=2000\n",
      "Region 7: x=2405, y=5374, w=2000, h=2000\n",
      "Region 8: x=4782, y=3872, w=2000, h=2000\n",
      "Region 9: x=4094, y=6081, w=2000, h=2000\n",
      "aws s3 cp \"/shared/CSHL_data_processed/MD635/MD635_intensity_mapping/MD635-F26-2016.05.18-21.16.59_MD635_1_0076_to_MD635-F25-2016.05.18-21.02.30_MD635_3_0075_intensity_mapping_all_regions.npy\" \"s3://mousebrainatlas-data/CSHL_data_processed/MD635/MD635_intensity_mapping/MD635-F26-2016.05.18-21.16.59_MD635_1_0076_to_MD635-F25-2016.05.18-21.02.30_MD635_3_0075_intensity_mapping_all_regions.npy\"\n",
      "aws s3 cp \"/shared/CSHL_data_processed/MD635/MD635_intensity_mapping/MD635-F26-2016.05.18-21.16.59_MD635_1_0076_to_MD635-F25-2016.05.18-21.02.30_MD635_3_0075_region_bboxes.npy\" \"s3://mousebrainatlas-data/CSHL_data_processed/MD635/MD635_intensity_mapping/MD635-F26-2016.05.18-21.16.59_MD635_1_0076_to_MD635-F25-2016.05.18-21.02.30_MD635_3_0075_region_bboxes.npy\"\n"
     ]
    },
    {
     "name": "stderr",
     "output_type": "stream",
     "text": [
      "ntb 85, ntb 86\n"
     ]
    },
    {
     "name": "stdout",
     "output_type": "stream",
     "text": [
      "rm -rf \"/shared/CSHL_data_processed/MD635/MD635_prep2_thumbnail_mask/MD635-F29-2016.05.18-22.01.14_MD635_1_0085_prep2_thumbnail_mask.png\" && mkdir -p \"/shared/CSHL_data_processed/MD635/MD635_prep2_thumbnail_mask\"\n",
      "aws s3 cp \"s3://mousebrainatlas-data/CSHL_data_processed/MD635/MD635_prep2_thumbnail_mask/MD635-F29-2016.05.18-22.01.14_MD635_1_0085_prep2_thumbnail_mask.png\" \"/shared/CSHL_data_processed/MD635/MD635_prep2_thumbnail_mask/MD635-F29-2016.05.18-22.01.14_MD635_1_0085_prep2_thumbnail_mask.png\"\n",
      "rm -rf \"/shared/CSHL_data_processed/MD635/MD635_prep2_lossless/MD635-F29-2016.05.18-22.01.14_MD635_1_0085_prep2_lossless.tif\" && mkdir -p \"/shared/CSHL_data_processed/MD635/MD635_prep2_lossless\"\n",
      "aws s3 cp \"s3://mousebrainatlas-data/CSHL_data_processed/MD635/MD635_prep2_lossless/MD635-F29-2016.05.18-22.01.14_MD635_1_0085_prep2_lossless.tif\" \"/shared/CSHL_data_processed/MD635/MD635_prep2_lossless/MD635-F29-2016.05.18-22.01.14_MD635_1_0085_prep2_lossless.tif\"\n"
     ]
    },
    {
     "name": "stderr",
     "output_type": "stream",
     "text": [
      "Load NTB1: 30.75 seconds.\n"
     ]
    },
    {
     "name": "stdout",
     "output_type": "stream",
     "text": [
      "rm -rf \"/shared/CSHL_data_processed/MD635/MD635_prep2_lossless/MD635-F29-2016.05.18-22.01.14_MD635_2_0086_prep2_lossless.tif\" && mkdir -p \"/shared/CSHL_data_processed/MD635/MD635_prep2_lossless\"\n",
      "aws s3 cp \"s3://mousebrainatlas-data/CSHL_data_processed/MD635/MD635_prep2_lossless/MD635-F29-2016.05.18-22.01.14_MD635_2_0086_prep2_lossless.tif\" \"/shared/CSHL_data_processed/MD635/MD635_prep2_lossless/MD635-F29-2016.05.18-22.01.14_MD635_2_0086_prep2_lossless.tif\"\n"
     ]
    },
    {
     "name": "stderr",
     "output_type": "stream",
     "text": [
      "Load NTB2: 31.55 seconds.\n"
     ]
    },
    {
     "name": "stdout",
     "output_type": "stream",
     "text": [
      "Region 0: x=7197, y=3771, w=2000, h=2000\n",
      "Region 1: x=2892, y=4679, w=2000, h=2000\n",
      "Region 2: x=7451, y=1711, w=2000, h=2000\n",
      "Region 3: x=5124, y=6554, w=2000, h=2000\n",
      "Region 4: x=3848, y=8151, w=2000, h=2000\n",
      "Region 5: x=6544, y=6576, w=2000, h=2000\n",
      "Region 6: x=2762, y=7914, w=2000, h=2000\n",
      "Region 7: x=1563, y=2856, w=2000, h=2000\n",
      "Region 8: x=1920, y=3460, w=2000, h=2000\n",
      "Region 9: x=4578, y=2394, w=2000, h=2000\n",
      "aws s3 cp \"/shared/CSHL_data_processed/MD635/MD635_intensity_mapping/MD635-F29-2016.05.18-22.01.14_MD635_2_0086_to_MD635-F29-2016.05.18-22.01.14_MD635_1_0085_intensity_mapping_all_regions.npy\" \"s3://mousebrainatlas-data/CSHL_data_processed/MD635/MD635_intensity_mapping/MD635-F29-2016.05.18-22.01.14_MD635_2_0086_to_MD635-F29-2016.05.18-22.01.14_MD635_1_0085_intensity_mapping_all_regions.npy\"\n",
      "aws s3 cp \"/shared/CSHL_data_processed/MD635/MD635_intensity_mapping/MD635-F29-2016.05.18-22.01.14_MD635_2_0086_to_MD635-F29-2016.05.18-22.01.14_MD635_1_0085_region_bboxes.npy\" \"s3://mousebrainatlas-data/CSHL_data_processed/MD635/MD635_intensity_mapping/MD635-F29-2016.05.18-22.01.14_MD635_2_0086_to_MD635-F29-2016.05.18-22.01.14_MD635_1_0085_region_bboxes.npy\"\n"
     ]
    },
    {
     "name": "stderr",
     "output_type": "stream",
     "text": [
      "ntb 96, ntb 97\n"
     ]
    },
    {
     "name": "stdout",
     "output_type": "stream",
     "text": [
      "rm -rf \"/shared/CSHL_data_processed/MD635/MD635_prep2_thumbnail_mask/MD635-F32-2016.05.18-22.50.16_MD635_3_0096_prep2_thumbnail_mask.png\" && mkdir -p \"/shared/CSHL_data_processed/MD635/MD635_prep2_thumbnail_mask\"\n",
      "aws s3 cp \"s3://mousebrainatlas-data/CSHL_data_processed/MD635/MD635_prep2_thumbnail_mask/MD635-F32-2016.05.18-22.50.16_MD635_3_0096_prep2_thumbnail_mask.png\" \"/shared/CSHL_data_processed/MD635/MD635_prep2_thumbnail_mask/MD635-F32-2016.05.18-22.50.16_MD635_3_0096_prep2_thumbnail_mask.png\"\n",
      "rm -rf \"/shared/CSHL_data_processed/MD635/MD635_prep2_lossless/MD635-F32-2016.05.18-22.50.16_MD635_3_0096_prep2_lossless.tif\" && mkdir -p \"/shared/CSHL_data_processed/MD635/MD635_prep2_lossless\"\n",
      "aws s3 cp \"s3://mousebrainatlas-data/CSHL_data_processed/MD635/MD635_prep2_lossless/MD635-F32-2016.05.18-22.50.16_MD635_3_0096_prep2_lossless.tif\" \"/shared/CSHL_data_processed/MD635/MD635_prep2_lossless/MD635-F32-2016.05.18-22.50.16_MD635_3_0096_prep2_lossless.tif\"\n"
     ]
    },
    {
     "name": "stderr",
     "output_type": "stream",
     "text": [
      "Load NTB1: 32.56 seconds.\n"
     ]
    },
    {
     "name": "stdout",
     "output_type": "stream",
     "text": [
      "rm -rf \"/shared/CSHL_data_processed/MD635/MD635_prep2_lossless/MD635-F33-2016.05.18-23.06.34_MD635_1_0097_prep2_lossless.tif\" && mkdir -p \"/shared/CSHL_data_processed/MD635/MD635_prep2_lossless\"\n",
      "aws s3 cp \"s3://mousebrainatlas-data/CSHL_data_processed/MD635/MD635_prep2_lossless/MD635-F33-2016.05.18-23.06.34_MD635_1_0097_prep2_lossless.tif\" \"/shared/CSHL_data_processed/MD635/MD635_prep2_lossless/MD635-F33-2016.05.18-23.06.34_MD635_1_0097_prep2_lossless.tif\"\n"
     ]
    },
    {
     "name": "stderr",
     "output_type": "stream",
     "text": [
      "Load NTB2: 36.12 seconds.\n"
     ]
    },
    {
     "name": "stdout",
     "output_type": "stream",
     "text": [
      "Region 0: x=1569, y=5620, w=2000, h=2000\n",
      "Region 1: x=3175, y=7720, w=2000, h=2000\n",
      "Region 2: x=4936, y=3057, w=2000, h=2000\n",
      "Region 3: x=3558, y=7770, w=2000, h=2000\n",
      "Region 4: x=3155, y=1455, w=2000, h=2000\n",
      "Region 5: x=5657, y=1744, w=2000, h=2000\n",
      "Region 6: x=4448, y=5153, w=2000, h=2000\n",
      "Region 7: x=5571, y=5265, w=2000, h=2000\n",
      "Region 8: x=7306, y=5051, w=2000, h=2000\n",
      "Region 9: x=7771, y=6145, w=2000, h=2000\n",
      "aws s3 cp \"/shared/CSHL_data_processed/MD635/MD635_intensity_mapping/MD635-F33-2016.05.18-23.06.34_MD635_1_0097_to_MD635-F32-2016.05.18-22.50.16_MD635_3_0096_intensity_mapping_all_regions.npy\" \"s3://mousebrainatlas-data/CSHL_data_processed/MD635/MD635_intensity_mapping/MD635-F33-2016.05.18-23.06.34_MD635_1_0097_to_MD635-F32-2016.05.18-22.50.16_MD635_3_0096_intensity_mapping_all_regions.npy\"\n",
      "aws s3 cp \"/shared/CSHL_data_processed/MD635/MD635_intensity_mapping/MD635-F33-2016.05.18-23.06.34_MD635_1_0097_to_MD635-F32-2016.05.18-22.50.16_MD635_3_0096_region_bboxes.npy\" \"s3://mousebrainatlas-data/CSHL_data_processed/MD635/MD635_intensity_mapping/MD635-F33-2016.05.18-23.06.34_MD635_1_0097_to_MD635-F32-2016.05.18-22.50.16_MD635_3_0096_region_bboxes.npy\"\n"
     ]
    },
    {
     "name": "stderr",
     "output_type": "stream",
     "text": [
      "ntb 106, ntb 107\n"
     ]
    },
    {
     "name": "stdout",
     "output_type": "stream",
     "text": [
      "rm -rf \"/shared/CSHL_data_processed/MD635/MD635_prep2_thumbnail_mask/MD635-F36-2016.05.18-23.59.35_MD635_1_0106_prep2_thumbnail_mask.png\" && mkdir -p \"/shared/CSHL_data_processed/MD635/MD635_prep2_thumbnail_mask\"\n",
      "aws s3 cp \"s3://mousebrainatlas-data/CSHL_data_processed/MD635/MD635_prep2_thumbnail_mask/MD635-F36-2016.05.18-23.59.35_MD635_1_0106_prep2_thumbnail_mask.png\" \"/shared/CSHL_data_processed/MD635/MD635_prep2_thumbnail_mask/MD635-F36-2016.05.18-23.59.35_MD635_1_0106_prep2_thumbnail_mask.png\"\n",
      "rm -rf \"/shared/CSHL_data_processed/MD635/MD635_prep2_lossless/MD635-F36-2016.05.18-23.59.35_MD635_1_0106_prep2_lossless.tif\" && mkdir -p \"/shared/CSHL_data_processed/MD635/MD635_prep2_lossless\"\n",
      "aws s3 cp \"s3://mousebrainatlas-data/CSHL_data_processed/MD635/MD635_prep2_lossless/MD635-F36-2016.05.18-23.59.35_MD635_1_0106_prep2_lossless.tif\" \"/shared/CSHL_data_processed/MD635/MD635_prep2_lossless/MD635-F36-2016.05.18-23.59.35_MD635_1_0106_prep2_lossless.tif\"\n"
     ]
    },
    {
     "name": "stderr",
     "output_type": "stream",
     "text": [
      "Load NTB1: 37.91 seconds.\n"
     ]
    },
    {
     "name": "stdout",
     "output_type": "stream",
     "text": [
      "rm -rf \"/shared/CSHL_data_processed/MD635/MD635_prep2_lossless/MD635-F36-2016.05.18-23.59.35_MD635_2_0107_prep2_lossless.tif\" && mkdir -p \"/shared/CSHL_data_processed/MD635/MD635_prep2_lossless\"\n",
      "aws s3 cp \"s3://mousebrainatlas-data/CSHL_data_processed/MD635/MD635_prep2_lossless/MD635-F36-2016.05.18-23.59.35_MD635_2_0107_prep2_lossless.tif\" \"/shared/CSHL_data_processed/MD635/MD635_prep2_lossless/MD635-F36-2016.05.18-23.59.35_MD635_2_0107_prep2_lossless.tif\"\n"
     ]
    },
    {
     "name": "stderr",
     "output_type": "stream",
     "text": [
      "Load NTB2: 35.36 seconds.\n"
     ]
    },
    {
     "name": "stdout",
     "output_type": "stream",
     "text": [
      "Region 0: x=10191, y=6936, w=2000, h=2000\n",
      "Region 1: x=3846, y=3039, w=2000, h=2000\n",
      "Region 2: x=4739, y=6196, w=2000, h=2000\n",
      "Region 3: x=1616, y=5741, w=2000, h=2000\n",
      "Region 4: x=2592, y=8752, w=2000, h=2000\n",
      "Region 5: x=233, y=2467, w=2000, h=2000\n",
      "Region 6: x=19, y=3008, w=2000, h=2000\n",
      "Region 7: x=7649, y=7085, w=2000, h=2000\n",
      "Region 8: x=1938, y=5370, w=2000, h=2000\n",
      "Region 9: x=6140, y=2562, w=2000, h=2000\n",
      "aws s3 cp \"/shared/CSHL_data_processed/MD635/MD635_intensity_mapping/MD635-F36-2016.05.18-23.59.35_MD635_2_0107_to_MD635-F36-2016.05.18-23.59.35_MD635_1_0106_intensity_mapping_all_regions.npy\" \"s3://mousebrainatlas-data/CSHL_data_processed/MD635/MD635_intensity_mapping/MD635-F36-2016.05.18-23.59.35_MD635_2_0107_to_MD635-F36-2016.05.18-23.59.35_MD635_1_0106_intensity_mapping_all_regions.npy\"\n",
      "aws s3 cp \"/shared/CSHL_data_processed/MD635/MD635_intensity_mapping/MD635-F36-2016.05.18-23.59.35_MD635_2_0107_to_MD635-F36-2016.05.18-23.59.35_MD635_1_0106_region_bboxes.npy\" \"s3://mousebrainatlas-data/CSHL_data_processed/MD635/MD635_intensity_mapping/MD635-F36-2016.05.18-23.59.35_MD635_2_0107_to_MD635-F36-2016.05.18-23.59.35_MD635_1_0106_region_bboxes.npy\"\n"
     ]
    },
    {
     "name": "stderr",
     "output_type": "stream",
     "text": [
      "ntb 117, ntb 118\n"
     ]
    },
    {
     "name": "stdout",
     "output_type": "stream",
     "text": [
      "rm -rf \"/shared/CSHL_data_processed/MD635/MD635_prep2_thumbnail_mask/MD635-F39-2016.05.19-00.52.10_MD635_3_0117_prep2_thumbnail_mask.png\" && mkdir -p \"/shared/CSHL_data_processed/MD635/MD635_prep2_thumbnail_mask\"\n",
      "aws s3 cp \"s3://mousebrainatlas-data/CSHL_data_processed/MD635/MD635_prep2_thumbnail_mask/MD635-F39-2016.05.19-00.52.10_MD635_3_0117_prep2_thumbnail_mask.png\" \"/shared/CSHL_data_processed/MD635/MD635_prep2_thumbnail_mask/MD635-F39-2016.05.19-00.52.10_MD635_3_0117_prep2_thumbnail_mask.png\"\n",
      "rm -rf \"/shared/CSHL_data_processed/MD635/MD635_prep2_lossless/MD635-F39-2016.05.19-00.52.10_MD635_3_0117_prep2_lossless.tif\" && mkdir -p \"/shared/CSHL_data_processed/MD635/MD635_prep2_lossless\"\n",
      "aws s3 cp \"s3://mousebrainatlas-data/CSHL_data_processed/MD635/MD635_prep2_lossless/MD635-F39-2016.05.19-00.52.10_MD635_3_0117_prep2_lossless.tif\" \"/shared/CSHL_data_processed/MD635/MD635_prep2_lossless/MD635-F39-2016.05.19-00.52.10_MD635_3_0117_prep2_lossless.tif\"\n"
     ]
    },
    {
     "name": "stderr",
     "output_type": "stream",
     "text": [
      "Load NTB1: 34.44 seconds.\n"
     ]
    },
    {
     "name": "stdout",
     "output_type": "stream",
     "text": [
      "rm -rf \"/shared/CSHL_data_processed/MD635/MD635_prep2_lossless/MD635-F40-2016.05.19-01.08.51_MD635_1_0118_prep2_lossless.tif\" && mkdir -p \"/shared/CSHL_data_processed/MD635/MD635_prep2_lossless\"\n",
      "aws s3 cp \"s3://mousebrainatlas-data/CSHL_data_processed/MD635/MD635_prep2_lossless/MD635-F40-2016.05.19-01.08.51_MD635_1_0118_prep2_lossless.tif\" \"/shared/CSHL_data_processed/MD635/MD635_prep2_lossless/MD635-F40-2016.05.19-01.08.51_MD635_1_0118_prep2_lossless.tif\"\n"
     ]
    },
    {
     "name": "stderr",
     "output_type": "stream",
     "text": [
      "Load NTB2: 32.42 seconds.\n"
     ]
    },
    {
     "name": "stdout",
     "output_type": "stream",
     "text": [
      "Region 0: x=678, y=7634, w=2000, h=2000\n",
      "Region 1: x=7946, y=6285, w=2000, h=2000\n",
      "Region 2: x=3061, y=2065, w=2000, h=2000\n",
      "Region 3: x=858, y=3452, w=2000, h=2000\n",
      "Region 4: x=4447, y=8038, w=2000, h=2000\n",
      "Region 5: x=1816, y=8945, w=2000, h=2000\n",
      "Region 6: x=5374, y=3618, w=2000, h=2000\n",
      "Region 7: x=9245, y=7605, w=2000, h=2000\n",
      "Region 8: x=4906, y=6416, w=2000, h=2000\n",
      "Region 9: x=9738, y=5770, w=2000, h=2000\n",
      "aws s3 cp \"/shared/CSHL_data_processed/MD635/MD635_intensity_mapping/MD635-F40-2016.05.19-01.08.51_MD635_1_0118_to_MD635-F39-2016.05.19-00.52.10_MD635_3_0117_intensity_mapping_all_regions.npy\" \"s3://mousebrainatlas-data/CSHL_data_processed/MD635/MD635_intensity_mapping/MD635-F40-2016.05.19-01.08.51_MD635_1_0118_to_MD635-F39-2016.05.19-00.52.10_MD635_3_0117_intensity_mapping_all_regions.npy\"\n",
      "aws s3 cp \"/shared/CSHL_data_processed/MD635/MD635_intensity_mapping/MD635-F40-2016.05.19-01.08.51_MD635_1_0118_to_MD635-F39-2016.05.19-00.52.10_MD635_3_0117_region_bboxes.npy\" \"s3://mousebrainatlas-data/CSHL_data_processed/MD635/MD635_intensity_mapping/MD635-F40-2016.05.19-01.08.51_MD635_1_0118_to_MD635-F39-2016.05.19-00.52.10_MD635_3_0117_region_bboxes.npy\"\n"
     ]
    },
    {
     "name": "stderr",
     "output_type": "stream",
     "text": [
      "ntb 127, ntb 128\n"
     ]
    },
    {
     "name": "stdout",
     "output_type": "stream",
     "text": [
      "rm -rf \"/shared/CSHL_data_processed/MD635/MD635_prep2_thumbnail_mask/MD635-F43-2016.05.19-02.06.14_MD635_1_0127_prep2_thumbnail_mask.png\" && mkdir -p \"/shared/CSHL_data_processed/MD635/MD635_prep2_thumbnail_mask\"\n",
      "aws s3 cp \"s3://mousebrainatlas-data/CSHL_data_processed/MD635/MD635_prep2_thumbnail_mask/MD635-F43-2016.05.19-02.06.14_MD635_1_0127_prep2_thumbnail_mask.png\" \"/shared/CSHL_data_processed/MD635/MD635_prep2_thumbnail_mask/MD635-F43-2016.05.19-02.06.14_MD635_1_0127_prep2_thumbnail_mask.png\"\n",
      "rm -rf \"/shared/CSHL_data_processed/MD635/MD635_prep2_lossless/MD635-F43-2016.05.19-02.06.14_MD635_1_0127_prep2_lossless.tif\" && mkdir -p \"/shared/CSHL_data_processed/MD635/MD635_prep2_lossless\"\n",
      "aws s3 cp \"s3://mousebrainatlas-data/CSHL_data_processed/MD635/MD635_prep2_lossless/MD635-F43-2016.05.19-02.06.14_MD635_1_0127_prep2_lossless.tif\" \"/shared/CSHL_data_processed/MD635/MD635_prep2_lossless/MD635-F43-2016.05.19-02.06.14_MD635_1_0127_prep2_lossless.tif\"\n"
     ]
    },
    {
     "name": "stderr",
     "output_type": "stream",
     "text": [
      "Load NTB1: 32.30 seconds.\n"
     ]
    },
    {
     "name": "stdout",
     "output_type": "stream",
     "text": [
      "rm -rf \"/shared/CSHL_data_processed/MD635/MD635_prep2_lossless/MD635-F43-2016.05.19-02.06.14_MD635_2_0128_prep2_lossless.tif\" && mkdir -p \"/shared/CSHL_data_processed/MD635/MD635_prep2_lossless\"\n",
      "aws s3 cp \"s3://mousebrainatlas-data/CSHL_data_processed/MD635/MD635_prep2_lossless/MD635-F43-2016.05.19-02.06.14_MD635_2_0128_prep2_lossless.tif\" \"/shared/CSHL_data_processed/MD635/MD635_prep2_lossless/MD635-F43-2016.05.19-02.06.14_MD635_2_0128_prep2_lossless.tif\"\n"
     ]
    },
    {
     "name": "stderr",
     "output_type": "stream",
     "text": [
      "Load NTB2: 36.22 seconds.\n"
     ]
    },
    {
     "name": "stdout",
     "output_type": "stream",
     "text": [
      "Region 0: x=7449, y=2494, w=2000, h=2000\n",
      "Region 1: x=482, y=9717, w=2000, h=2000\n",
      "Region 2: x=9569, y=7724, w=2000, h=2000\n",
      "Region 3: x=3966, y=3153, w=2000, h=2000\n",
      "Region 4: x=3105, y=1915, w=2000, h=2000\n",
      "Region 5: x=8227, y=6646, w=2000, h=2000\n",
      "Region 6: x=892, y=3203, w=2000, h=2000\n",
      "Region 7: x=9548, y=3168, w=2000, h=2000\n",
      "Region 8: x=7547, y=8743, w=2000, h=2000\n",
      "Region 9: x=10377, y=5270, w=2000, h=2000\n",
      "aws s3 cp \"/shared/CSHL_data_processed/MD635/MD635_intensity_mapping/MD635-F43-2016.05.19-02.06.14_MD635_2_0128_to_MD635-F43-2016.05.19-02.06.14_MD635_1_0127_intensity_mapping_all_regions.npy\" \"s3://mousebrainatlas-data/CSHL_data_processed/MD635/MD635_intensity_mapping/MD635-F43-2016.05.19-02.06.14_MD635_2_0128_to_MD635-F43-2016.05.19-02.06.14_MD635_1_0127_intensity_mapping_all_regions.npy\"\n",
      "aws s3 cp \"/shared/CSHL_data_processed/MD635/MD635_intensity_mapping/MD635-F43-2016.05.19-02.06.14_MD635_2_0128_to_MD635-F43-2016.05.19-02.06.14_MD635_1_0127_region_bboxes.npy\" \"s3://mousebrainatlas-data/CSHL_data_processed/MD635/MD635_intensity_mapping/MD635-F43-2016.05.19-02.06.14_MD635_2_0128_to_MD635-F43-2016.05.19-02.06.14_MD635_1_0127_region_bboxes.npy\"\n"
     ]
    },
    {
     "name": "stderr",
     "output_type": "stream",
     "text": [
      "ntb 137, ntb 138\n"
     ]
    },
    {
     "name": "stdout",
     "output_type": "stream",
     "text": [
      "rm -rf \"/shared/CSHL_data_processed/MD635/MD635_prep2_thumbnail_mask/MD635-F46-2016.05.19-03.02.11_MD635_2_0137_prep2_thumbnail_mask.png\" && mkdir -p \"/shared/CSHL_data_processed/MD635/MD635_prep2_thumbnail_mask\"\n",
      "aws s3 cp \"s3://mousebrainatlas-data/CSHL_data_processed/MD635/MD635_prep2_thumbnail_mask/MD635-F46-2016.05.19-03.02.11_MD635_2_0137_prep2_thumbnail_mask.png\" \"/shared/CSHL_data_processed/MD635/MD635_prep2_thumbnail_mask/MD635-F46-2016.05.19-03.02.11_MD635_2_0137_prep2_thumbnail_mask.png\"\n",
      "rm -rf \"/shared/CSHL_data_processed/MD635/MD635_prep2_lossless/MD635-F46-2016.05.19-03.02.11_MD635_2_0137_prep2_lossless.tif\" && mkdir -p \"/shared/CSHL_data_processed/MD635/MD635_prep2_lossless\"\n",
      "aws s3 cp \"s3://mousebrainatlas-data/CSHL_data_processed/MD635/MD635_prep2_lossless/MD635-F46-2016.05.19-03.02.11_MD635_2_0137_prep2_lossless.tif\" \"/shared/CSHL_data_processed/MD635/MD635_prep2_lossless/MD635-F46-2016.05.19-03.02.11_MD635_2_0137_prep2_lossless.tif\"\n"
     ]
    },
    {
     "name": "stderr",
     "output_type": "stream",
     "text": [
      "Load NTB1: 36.47 seconds.\n"
     ]
    },
    {
     "name": "stdout",
     "output_type": "stream",
     "text": [
      "rm -rf \"/shared/CSHL_data_processed/MD635/MD635_prep2_lossless/MD635-F46-2016.05.19-03.02.11_MD635_3_0138_prep2_lossless.tif\" && mkdir -p \"/shared/CSHL_data_processed/MD635/MD635_prep2_lossless\"\n",
      "aws s3 cp \"s3://mousebrainatlas-data/CSHL_data_processed/MD635/MD635_prep2_lossless/MD635-F46-2016.05.19-03.02.11_MD635_3_0138_prep2_lossless.tif\" \"/shared/CSHL_data_processed/MD635/MD635_prep2_lossless/MD635-F46-2016.05.19-03.02.11_MD635_3_0138_prep2_lossless.tif\"\n"
     ]
    },
    {
     "name": "stderr",
     "output_type": "stream",
     "text": [
      "Load NTB2: 36.38 seconds.\n"
     ]
    },
    {
     "name": "stdout",
     "output_type": "stream",
     "text": [
      "Region 0: x=7948, y=3276, w=2000, h=2000\n",
      "Region 1: x=9947, y=5343, w=2000, h=2000\n",
      "Region 2: x=9060, y=6606, w=2000, h=2000\n",
      "Region 3: x=4864, y=2411, w=2000, h=2000\n",
      "Region 4: x=6559, y=5445, w=2000, h=2000\n",
      "Region 5: x=8689, y=5149, w=2000, h=2000\n",
      "Region 6: x=8609, y=1199, w=2000, h=2000\n",
      "Region 7: x=13035, y=7499, w=2000, h=2000\n",
      "Region 8: x=2645, y=6098, w=2000, h=2000\n",
      "Region 9: x=6724, y=7007, w=2000, h=2000\n",
      "aws s3 cp \"/shared/CSHL_data_processed/MD635/MD635_intensity_mapping/MD635-F46-2016.05.19-03.02.11_MD635_3_0138_to_MD635-F46-2016.05.19-03.02.11_MD635_2_0137_intensity_mapping_all_regions.npy\" \"s3://mousebrainatlas-data/CSHL_data_processed/MD635/MD635_intensity_mapping/MD635-F46-2016.05.19-03.02.11_MD635_3_0138_to_MD635-F46-2016.05.19-03.02.11_MD635_2_0137_intensity_mapping_all_regions.npy\"\n",
      "aws s3 cp \"/shared/CSHL_data_processed/MD635/MD635_intensity_mapping/MD635-F46-2016.05.19-03.02.11_MD635_3_0138_to_MD635-F46-2016.05.19-03.02.11_MD635_2_0137_region_bboxes.npy\" \"s3://mousebrainatlas-data/CSHL_data_processed/MD635/MD635_intensity_mapping/MD635-F46-2016.05.19-03.02.11_MD635_3_0138_to_MD635-F46-2016.05.19-03.02.11_MD635_2_0137_region_bboxes.npy\"\n"
     ]
    },
    {
     "name": "stderr",
     "output_type": "stream",
     "text": [
      "ntb 148, ntb 149\n"
     ]
    },
    {
     "name": "stdout",
     "output_type": "stream",
     "text": [
      "rm -rf \"/shared/CSHL_data_processed/MD635/MD635_prep2_thumbnail_mask/MD635-F50-2016.05.23-14.45.07_MD635_1_0148_prep2_thumbnail_mask.png\" && mkdir -p \"/shared/CSHL_data_processed/MD635/MD635_prep2_thumbnail_mask\"\n",
      "aws s3 cp \"s3://mousebrainatlas-data/CSHL_data_processed/MD635/MD635_prep2_thumbnail_mask/MD635-F50-2016.05.23-14.45.07_MD635_1_0148_prep2_thumbnail_mask.png\" \"/shared/CSHL_data_processed/MD635/MD635_prep2_thumbnail_mask/MD635-F50-2016.05.23-14.45.07_MD635_1_0148_prep2_thumbnail_mask.png\"\n",
      "rm -rf \"/shared/CSHL_data_processed/MD635/MD635_prep2_lossless/MD635-F50-2016.05.23-14.45.07_MD635_1_0148_prep2_lossless.tif\" && mkdir -p \"/shared/CSHL_data_processed/MD635/MD635_prep2_lossless\"\n",
      "aws s3 cp \"s3://mousebrainatlas-data/CSHL_data_processed/MD635/MD635_prep2_lossless/MD635-F50-2016.05.23-14.45.07_MD635_1_0148_prep2_lossless.tif\" \"/shared/CSHL_data_processed/MD635/MD635_prep2_lossless/MD635-F50-2016.05.23-14.45.07_MD635_1_0148_prep2_lossless.tif\"\n"
     ]
    },
    {
     "name": "stderr",
     "output_type": "stream",
     "text": [
      "Load NTB1: 33.49 seconds.\n"
     ]
    },
    {
     "name": "stdout",
     "output_type": "stream",
     "text": [
      "rm -rf \"/shared/CSHL_data_processed/MD635/MD635_prep2_lossless/MD635-F50-2016.05.23-14.45.07_MD635_2_0149_prep2_lossless.tif\" && mkdir -p \"/shared/CSHL_data_processed/MD635/MD635_prep2_lossless\"\n",
      "aws s3 cp \"s3://mousebrainatlas-data/CSHL_data_processed/MD635/MD635_prep2_lossless/MD635-F50-2016.05.23-14.45.07_MD635_2_0149_prep2_lossless.tif\" \"/shared/CSHL_data_processed/MD635/MD635_prep2_lossless/MD635-F50-2016.05.23-14.45.07_MD635_2_0149_prep2_lossless.tif\"\n"
     ]
    },
    {
     "name": "stderr",
     "output_type": "stream",
     "text": [
      "Load NTB2: 39.62 seconds.\n"
     ]
    },
    {
     "name": "stdout",
     "output_type": "stream",
     "text": [
      "Region 0: x=3226, y=3318, w=2000, h=2000\n",
      "Region 1: x=987, y=2363, w=2000, h=2000\n",
      "Region 2: x=11369, y=8158, w=2000, h=2000\n",
      "Region 3: x=7491, y=9074, w=2000, h=2000\n",
      "Region 4: x=5906, y=7932, w=2000, h=2000\n",
      "Region 5: x=7417, y=1207, w=2000, h=2000\n",
      "Region 6: x=1792, y=3878, w=2000, h=2000\n",
      "Region 7: x=9235, y=5745, w=2000, h=2000\n",
      "Region 8: x=10185, y=8070, w=2000, h=2000\n",
      "Region 9: x=12446, y=7974, w=2000, h=2000\n",
      "aws s3 cp \"/shared/CSHL_data_processed/MD635/MD635_intensity_mapping/MD635-F50-2016.05.23-14.45.07_MD635_2_0149_to_MD635-F50-2016.05.23-14.45.07_MD635_1_0148_intensity_mapping_all_regions.npy\" \"s3://mousebrainatlas-data/CSHL_data_processed/MD635/MD635_intensity_mapping/MD635-F50-2016.05.23-14.45.07_MD635_2_0149_to_MD635-F50-2016.05.23-14.45.07_MD635_1_0148_intensity_mapping_all_regions.npy\"\n",
      "aws s3 cp \"/shared/CSHL_data_processed/MD635/MD635_intensity_mapping/MD635-F50-2016.05.23-14.45.07_MD635_2_0149_to_MD635-F50-2016.05.23-14.45.07_MD635_1_0148_region_bboxes.npy\" \"s3://mousebrainatlas-data/CSHL_data_processed/MD635/MD635_intensity_mapping/MD635-F50-2016.05.23-14.45.07_MD635_2_0149_to_MD635-F50-2016.05.23-14.45.07_MD635_1_0148_region_bboxes.npy\"\n"
     ]
    },
    {
     "name": "stderr",
     "output_type": "stream",
     "text": [
      "ntb 159, ntb 160\n"
     ]
    },
    {
     "name": "stdout",
     "output_type": "stream",
     "text": [
      "rm -rf \"/shared/CSHL_data_processed/MD635/MD635_prep2_thumbnail_mask/MD635-F53-2016.05.19-05.14.50_MD635_3_0159_prep2_thumbnail_mask.png\" && mkdir -p \"/shared/CSHL_data_processed/MD635/MD635_prep2_thumbnail_mask\"\n",
      "aws s3 cp \"s3://mousebrainatlas-data/CSHL_data_processed/MD635/MD635_prep2_thumbnail_mask/MD635-F53-2016.05.19-05.14.50_MD635_3_0159_prep2_thumbnail_mask.png\" \"/shared/CSHL_data_processed/MD635/MD635_prep2_thumbnail_mask/MD635-F53-2016.05.19-05.14.50_MD635_3_0159_prep2_thumbnail_mask.png\"\n",
      "rm -rf \"/shared/CSHL_data_processed/MD635/MD635_prep2_lossless/MD635-F53-2016.05.19-05.14.50_MD635_3_0159_prep2_lossless.tif\" && mkdir -p \"/shared/CSHL_data_processed/MD635/MD635_prep2_lossless\"\n",
      "aws s3 cp \"s3://mousebrainatlas-data/CSHL_data_processed/MD635/MD635_prep2_lossless/MD635-F53-2016.05.19-05.14.50_MD635_3_0159_prep2_lossless.tif\" \"/shared/CSHL_data_processed/MD635/MD635_prep2_lossless/MD635-F53-2016.05.19-05.14.50_MD635_3_0159_prep2_lossless.tif\"\n"
     ]
    },
    {
     "name": "stderr",
     "output_type": "stream",
     "text": [
      "Load NTB1: 38.11 seconds.\n"
     ]
    },
    {
     "name": "stdout",
     "output_type": "stream",
     "text": [
      "rm -rf \"/shared/CSHL_data_processed/MD635/MD635_prep2_lossless/MD635-F54-2016.05.23-16.02.27_MD635_2_0161_prep2_lossless.tif\" && mkdir -p \"/shared/CSHL_data_processed/MD635/MD635_prep2_lossless\"\n",
      "aws s3 cp \"s3://mousebrainatlas-data/CSHL_data_processed/MD635/MD635_prep2_lossless/MD635-F54-2016.05.23-16.02.27_MD635_2_0161_prep2_lossless.tif\" \"/shared/CSHL_data_processed/MD635/MD635_prep2_lossless/MD635-F54-2016.05.23-16.02.27_MD635_2_0161_prep2_lossless.tif\"\n"
     ]
    },
    {
     "name": "stderr",
     "output_type": "stream",
     "text": [
      "Load NTB2: 35.72 seconds.\n"
     ]
    },
    {
     "name": "stdout",
     "output_type": "stream",
     "text": [
      "Region 0: x=10179, y=2974, w=2000, h=2000\n",
      "Region 1: x=2613, y=2993, w=2000, h=2000\n",
      "Region 2: x=5761, y=3035, w=2000, h=2000\n",
      "Region 3: x=1632, y=8490, w=2000, h=2000\n",
      "Region 4: x=9558, y=6706, w=2000, h=2000\n",
      "Region 5: x=4481, y=6390, w=2000, h=2000\n",
      "Region 6: x=6824, y=5120, w=2000, h=2000\n",
      "Region 7: x=420, y=8826, w=2000, h=2000\n",
      "Region 8: x=4037, y=3465, w=2000, h=2000\n",
      "Region 9: x=952, y=1176, w=2000, h=2000\n",
      "aws s3 cp \"/shared/CSHL_data_processed/MD635/MD635_intensity_mapping/MD635-F54-2016.05.23-16.02.27_MD635_2_0161_to_MD635-F53-2016.05.19-05.14.50_MD635_3_0159_intensity_mapping_all_regions.npy\" \"s3://mousebrainatlas-data/CSHL_data_processed/MD635/MD635_intensity_mapping/MD635-F54-2016.05.23-16.02.27_MD635_2_0161_to_MD635-F53-2016.05.19-05.14.50_MD635_3_0159_intensity_mapping_all_regions.npy\"\n",
      "aws s3 cp \"/shared/CSHL_data_processed/MD635/MD635_intensity_mapping/MD635-F54-2016.05.23-16.02.27_MD635_2_0161_to_MD635-F53-2016.05.19-05.14.50_MD635_3_0159_region_bboxes.npy\" \"s3://mousebrainatlas-data/CSHL_data_processed/MD635/MD635_intensity_mapping/MD635-F54-2016.05.23-16.02.27_MD635_2_0161_to_MD635-F53-2016.05.19-05.14.50_MD635_3_0159_region_bboxes.npy\"\n"
     ]
    },
    {
     "name": "stderr",
     "output_type": "stream",
     "text": [
      "ntb 169, ntb 170\n"
     ]
    },
    {
     "name": "stdout",
     "output_type": "stream",
     "text": [
      "rm -rf \"/shared/CSHL_data_processed/MD635/MD635_prep2_thumbnail_mask/MD635-F58-2016.05.19-06.52.57_MD635_2_0173_prep2_thumbnail_mask.png\" && mkdir -p \"/shared/CSHL_data_processed/MD635/MD635_prep2_thumbnail_mask\"\n",
      "aws s3 cp \"s3://mousebrainatlas-data/CSHL_data_processed/MD635/MD635_prep2_thumbnail_mask/MD635-F58-2016.05.19-06.52.57_MD635_2_0173_prep2_thumbnail_mask.png\" \"/shared/CSHL_data_processed/MD635/MD635_prep2_thumbnail_mask/MD635-F58-2016.05.19-06.52.57_MD635_2_0173_prep2_thumbnail_mask.png\"\n",
      "rm -rf \"/shared/CSHL_data_processed/MD635/MD635_prep2_lossless/MD635-F58-2016.05.19-06.52.57_MD635_2_0173_prep2_lossless.tif\" && mkdir -p \"/shared/CSHL_data_processed/MD635/MD635_prep2_lossless\"\n",
      "aws s3 cp \"s3://mousebrainatlas-data/CSHL_data_processed/MD635/MD635_prep2_lossless/MD635-F58-2016.05.19-06.52.57_MD635_2_0173_prep2_lossless.tif\" \"/shared/CSHL_data_processed/MD635/MD635_prep2_lossless/MD635-F58-2016.05.19-06.52.57_MD635_2_0173_prep2_lossless.tif\"\n"
     ]
    },
    {
     "name": "stderr",
     "output_type": "stream",
     "text": [
      "Load NTB1: 39.32 seconds.\n"
     ]
    },
    {
     "name": "stdout",
     "output_type": "stream",
     "text": [
      "rm -rf \"/shared/CSHL_data_processed/MD635/MD635_prep2_lossless/MD635-F59-2016.05.19-07.14.24_MD635_1_0175_prep2_lossless.tif\" && mkdir -p \"/shared/CSHL_data_processed/MD635/MD635_prep2_lossless\"\n",
      "aws s3 cp \"s3://mousebrainatlas-data/CSHL_data_processed/MD635/MD635_prep2_lossless/MD635-F59-2016.05.19-07.14.24_MD635_1_0175_prep2_lossless.tif\" \"/shared/CSHL_data_processed/MD635/MD635_prep2_lossless/MD635-F59-2016.05.19-07.14.24_MD635_1_0175_prep2_lossless.tif\"\n"
     ]
    },
    {
     "name": "stderr",
     "output_type": "stream",
     "text": [
      "Load NTB2: 38.77 seconds.\n"
     ]
    },
    {
     "name": "stdout",
     "output_type": "stream",
     "text": [
      "Region 0: x=11286, y=5924, w=2000, h=2000\n",
      "Region 1: x=5013, y=6865, w=2000, h=2000\n",
      "Region 2: x=8501, y=6186, w=2000, h=2000\n",
      "Region 3: x=7442, y=8018, w=2000, h=2000\n",
      "Region 4: x=7815, y=1758, w=2000, h=2000\n",
      "Region 5: x=11283, y=3660, w=2000, h=2000\n",
      "Region 6: x=8568, y=7637, w=2000, h=2000\n",
      "Region 7: x=10529, y=2519, w=2000, h=2000\n",
      "Region 8: x=3480, y=9369, w=2000, h=2000\n",
      "Region 9: x=9625, y=1756, w=2000, h=2000\n",
      "aws s3 cp \"/shared/CSHL_data_processed/MD635/MD635_intensity_mapping/MD635-F59-2016.05.19-07.14.24_MD635_1_0175_to_MD635-F58-2016.05.19-06.52.57_MD635_2_0173_intensity_mapping_all_regions.npy\" \"s3://mousebrainatlas-data/CSHL_data_processed/MD635/MD635_intensity_mapping/MD635-F59-2016.05.19-07.14.24_MD635_1_0175_to_MD635-F58-2016.05.19-06.52.57_MD635_2_0173_intensity_mapping_all_regions.npy\"\n",
      "aws s3 cp \"/shared/CSHL_data_processed/MD635/MD635_intensity_mapping/MD635-F59-2016.05.19-07.14.24_MD635_1_0175_to_MD635-F58-2016.05.19-06.52.57_MD635_2_0173_region_bboxes.npy\" \"s3://mousebrainatlas-data/CSHL_data_processed/MD635/MD635_intensity_mapping/MD635-F59-2016.05.19-07.14.24_MD635_1_0175_to_MD635-F58-2016.05.19-06.52.57_MD635_2_0173_region_bboxes.npy\"\n"
     ]
    },
    {
     "name": "stderr",
     "output_type": "stream",
     "text": [
      "ntb 179, ntb 180\n"
     ]
    },
    {
     "name": "stdout",
     "output_type": "stream",
     "text": [
      "rm -rf \"/shared/CSHL_data_processed/MD635/MD635_prep2_thumbnail_mask/MD635-F63-2016.05.19-08.39.03_MD635_2_0188_prep2_thumbnail_mask.png\" && mkdir -p \"/shared/CSHL_data_processed/MD635/MD635_prep2_thumbnail_mask\"\n",
      "aws s3 cp \"s3://mousebrainatlas-data/CSHL_data_processed/MD635/MD635_prep2_thumbnail_mask/MD635-F63-2016.05.19-08.39.03_MD635_2_0188_prep2_thumbnail_mask.png\" \"/shared/CSHL_data_processed/MD635/MD635_prep2_thumbnail_mask/MD635-F63-2016.05.19-08.39.03_MD635_2_0188_prep2_thumbnail_mask.png\"\n",
      "rm -rf \"/shared/CSHL_data_processed/MD635/MD635_prep2_lossless/MD635-F63-2016.05.19-08.39.03_MD635_2_0188_prep2_lossless.tif\" && mkdir -p \"/shared/CSHL_data_processed/MD635/MD635_prep2_lossless\"\n",
      "aws s3 cp \"s3://mousebrainatlas-data/CSHL_data_processed/MD635/MD635_prep2_lossless/MD635-F63-2016.05.19-08.39.03_MD635_2_0188_prep2_lossless.tif\" \"/shared/CSHL_data_processed/MD635/MD635_prep2_lossless/MD635-F63-2016.05.19-08.39.03_MD635_2_0188_prep2_lossless.tif\"\n"
     ]
    },
    {
     "name": "stderr",
     "output_type": "stream",
     "text": [
      "Load NTB1: 40.43 seconds.\n"
     ]
    },
    {
     "name": "stdout",
     "output_type": "stream",
     "text": [
      "rm -rf \"/shared/CSHL_data_processed/MD635/MD635_prep2_lossless/MD635-F64-2016.05.19-09.00.59_MD635_1_0190_prep2_lossless.tif\" && mkdir -p \"/shared/CSHL_data_processed/MD635/MD635_prep2_lossless\"\n",
      "aws s3 cp \"s3://mousebrainatlas-data/CSHL_data_processed/MD635/MD635_prep2_lossless/MD635-F64-2016.05.19-09.00.59_MD635_1_0190_prep2_lossless.tif\" \"/shared/CSHL_data_processed/MD635/MD635_prep2_lossless/MD635-F64-2016.05.19-09.00.59_MD635_1_0190_prep2_lossless.tif\"\n"
     ]
    },
    {
     "name": "stderr",
     "output_type": "stream",
     "text": [
      "Load NTB2: 38.72 seconds.\n"
     ]
    },
    {
     "name": "stdout",
     "output_type": "stream",
     "text": [
      "Region 0: x=10925, y=4734, w=2000, h=2000\n",
      "Region 1: x=3780, y=9242, w=2000, h=2000\n",
      "Region 2: x=7937, y=5062, w=2000, h=2000\n",
      "Region 3: x=3959, y=5305, w=2000, h=2000\n",
      "Region 4: x=10545, y=4543, w=2000, h=2000\n",
      "Region 5: x=3058, y=9521, w=2000, h=2000\n",
      "Region 6: x=3656, y=2929, w=2000, h=2000\n",
      "Region 7: x=4769, y=4831, w=2000, h=2000\n",
      "Region 8: x=4624, y=1577, w=2000, h=2000\n",
      "Region 9: x=10930, y=8606, w=2000, h=2000\n",
      "aws s3 cp \"/shared/CSHL_data_processed/MD635/MD635_intensity_mapping/MD635-F64-2016.05.19-09.00.59_MD635_1_0190_to_MD635-F63-2016.05.19-08.39.03_MD635_2_0188_intensity_mapping_all_regions.npy\" \"s3://mousebrainatlas-data/CSHL_data_processed/MD635/MD635_intensity_mapping/MD635-F64-2016.05.19-09.00.59_MD635_1_0190_to_MD635-F63-2016.05.19-08.39.03_MD635_2_0188_intensity_mapping_all_regions.npy\"\n",
      "aws s3 cp \"/shared/CSHL_data_processed/MD635/MD635_intensity_mapping/MD635-F64-2016.05.19-09.00.59_MD635_1_0190_to_MD635-F63-2016.05.19-08.39.03_MD635_2_0188_region_bboxes.npy\" \"s3://mousebrainatlas-data/CSHL_data_processed/MD635/MD635_intensity_mapping/MD635-F64-2016.05.19-09.00.59_MD635_1_0190_to_MD635-F63-2016.05.19-08.39.03_MD635_2_0188_region_bboxes.npy\"\n"
     ]
    },
    {
     "name": "stderr",
     "output_type": "stream",
     "text": [
      "ntb 189, ntb 190\n"
     ]
    },
    {
     "name": "stdout",
     "output_type": "stream",
     "text": [
      "rm -rf \"/shared/CSHL_data_processed/MD635/MD635_prep2_thumbnail_mask/MD635-F68-2016.05.19-10.18.40_MD635_2_0203_prep2_thumbnail_mask.png\" && mkdir -p \"/shared/CSHL_data_processed/MD635/MD635_prep2_thumbnail_mask\"\n",
      "aws s3 cp \"s3://mousebrainatlas-data/CSHL_data_processed/MD635/MD635_prep2_thumbnail_mask/MD635-F68-2016.05.19-10.18.40_MD635_2_0203_prep2_thumbnail_mask.png\" \"/shared/CSHL_data_processed/MD635/MD635_prep2_thumbnail_mask/MD635-F68-2016.05.19-10.18.40_MD635_2_0203_prep2_thumbnail_mask.png\"\n",
      "rm -rf \"/shared/CSHL_data_processed/MD635/MD635_prep2_lossless/MD635-F68-2016.05.19-10.18.40_MD635_2_0203_prep2_lossless.tif\" && mkdir -p \"/shared/CSHL_data_processed/MD635/MD635_prep2_lossless\"\n",
      "aws s3 cp \"s3://mousebrainatlas-data/CSHL_data_processed/MD635/MD635_prep2_lossless/MD635-F68-2016.05.19-10.18.40_MD635_2_0203_prep2_lossless.tif\" \"/shared/CSHL_data_processed/MD635/MD635_prep2_lossless/MD635-F68-2016.05.19-10.18.40_MD635_2_0203_prep2_lossless.tif\"\n"
     ]
    },
    {
     "name": "stderr",
     "output_type": "stream",
     "text": [
      "Load NTB1: 39.15 seconds.\n"
     ]
    },
    {
     "name": "stdout",
     "output_type": "stream",
     "text": [
      "rm -rf \"/shared/CSHL_data_processed/MD635/MD635_prep2_lossless/MD635-F69-2016.05.19-10.38.34_MD635_1_0205_prep2_lossless.tif\" && mkdir -p \"/shared/CSHL_data_processed/MD635/MD635_prep2_lossless\"\n",
      "aws s3 cp \"s3://mousebrainatlas-data/CSHL_data_processed/MD635/MD635_prep2_lossless/MD635-F69-2016.05.19-10.38.34_MD635_1_0205_prep2_lossless.tif\" \"/shared/CSHL_data_processed/MD635/MD635_prep2_lossless/MD635-F69-2016.05.19-10.38.34_MD635_1_0205_prep2_lossless.tif\"\n"
     ]
    },
    {
     "name": "stderr",
     "output_type": "stream",
     "text": [
      "Load NTB2: 39.90 seconds.\n"
     ]
    },
    {
     "name": "stdout",
     "output_type": "stream",
     "text": [
      "Region 0: x=2791, y=983, w=2000, h=2000\n",
      "Region 1: x=7779, y=3106, w=2000, h=2000\n",
      "Region 2: x=5439, y=7915, w=2000, h=2000\n",
      "Region 3: x=8997, y=9163, w=2000, h=2000\n",
      "Region 4: x=10325, y=6252, w=2000, h=2000\n",
      "Region 5: x=1274, y=7974, w=2000, h=2000\n",
      "Region 6: x=12150, y=7345, w=2000, h=2000\n",
      "Region 7: x=16423, y=9596, w=2000, h=2000\n",
      "Region 8: x=7473, y=7360, w=2000, h=2000\n",
      "Region 9: x=13881, y=7979, w=2000, h=2000\n",
      "aws s3 cp \"/shared/CSHL_data_processed/MD635/MD635_intensity_mapping/MD635-F69-2016.05.19-10.38.34_MD635_1_0205_to_MD635-F68-2016.05.19-10.18.40_MD635_2_0203_intensity_mapping_all_regions.npy\" \"s3://mousebrainatlas-data/CSHL_data_processed/MD635/MD635_intensity_mapping/MD635-F69-2016.05.19-10.38.34_MD635_1_0205_to_MD635-F68-2016.05.19-10.18.40_MD635_2_0203_intensity_mapping_all_regions.npy\"\n",
      "aws s3 cp \"/shared/CSHL_data_processed/MD635/MD635_intensity_mapping/MD635-F69-2016.05.19-10.38.34_MD635_1_0205_to_MD635-F68-2016.05.19-10.18.40_MD635_2_0203_region_bboxes.npy\" \"s3://mousebrainatlas-data/CSHL_data_processed/MD635/MD635_intensity_mapping/MD635-F69-2016.05.19-10.38.34_MD635_1_0205_to_MD635-F68-2016.05.19-10.18.40_MD635_2_0203_region_bboxes.npy\"\n"
     ]
    },
    {
     "name": "stderr",
     "output_type": "stream",
     "text": [
      "ntb 199, ntb 200\n"
     ]
    },
    {
     "name": "stdout",
     "output_type": "stream",
     "text": [
      "rm -rf \"/shared/CSHL_data_processed/MD635/MD635_prep2_thumbnail_mask/MD635-F73-2016.05.19-11.56.44_MD635_2_0218_prep2_thumbnail_mask.png\" && mkdir -p \"/shared/CSHL_data_processed/MD635/MD635_prep2_thumbnail_mask\"\n",
      "aws s3 cp \"s3://mousebrainatlas-data/CSHL_data_processed/MD635/MD635_prep2_thumbnail_mask/MD635-F73-2016.05.19-11.56.44_MD635_2_0218_prep2_thumbnail_mask.png\" \"/shared/CSHL_data_processed/MD635/MD635_prep2_thumbnail_mask/MD635-F73-2016.05.19-11.56.44_MD635_2_0218_prep2_thumbnail_mask.png\"\n",
      "rm -rf \"/shared/CSHL_data_processed/MD635/MD635_prep2_lossless/MD635-F73-2016.05.19-11.56.44_MD635_2_0218_prep2_lossless.tif\" && mkdir -p \"/shared/CSHL_data_processed/MD635/MD635_prep2_lossless\"\n",
      "aws s3 cp \"s3://mousebrainatlas-data/CSHL_data_processed/MD635/MD635_prep2_lossless/MD635-F73-2016.05.19-11.56.44_MD635_2_0218_prep2_lossless.tif\" \"/shared/CSHL_data_processed/MD635/MD635_prep2_lossless/MD635-F73-2016.05.19-11.56.44_MD635_2_0218_prep2_lossless.tif\"\n"
     ]
    },
    {
     "name": "stderr",
     "output_type": "stream",
     "text": [
      "Load NTB1: 39.55 seconds.\n"
     ]
    },
    {
     "name": "stdout",
     "output_type": "stream",
     "text": [
      "rm -rf \"/shared/CSHL_data_processed/MD635/MD635_prep2_lossless/MD635-F74-2016.05.19-12.15.18_MD635_1_0220_prep2_lossless.tif\" && mkdir -p \"/shared/CSHL_data_processed/MD635/MD635_prep2_lossless\"\n",
      "aws s3 cp \"s3://mousebrainatlas-data/CSHL_data_processed/MD635/MD635_prep2_lossless/MD635-F74-2016.05.19-12.15.18_MD635_1_0220_prep2_lossless.tif\" \"/shared/CSHL_data_processed/MD635/MD635_prep2_lossless/MD635-F74-2016.05.19-12.15.18_MD635_1_0220_prep2_lossless.tif\"\n"
     ]
    },
    {
     "name": "stderr",
     "output_type": "stream",
     "text": [
      "Load NTB2: 38.62 seconds.\n"
     ]
    },
    {
     "name": "stdout",
     "output_type": "stream",
     "text": [
      "Region 0: x=5141, y=4675, w=2000, h=2000\n",
      "Region 1: x=8397, y=2970, w=2000, h=2000\n",
      "Region 2: x=11792, y=5770, w=2000, h=2000\n",
      "Region 3: x=8579, y=3887, w=2000, h=2000\n",
      "Region 4: x=8512, y=6621, w=2000, h=2000\n",
      "Region 5: x=9915, y=8178, w=2000, h=2000\n",
      "Region 6: x=11820, y=4208, w=2000, h=2000\n",
      "Region 7: x=2738, y=892, w=2000, h=2000\n",
      "Region 8: x=3597, y=2223, w=2000, h=2000\n",
      "Region 9: x=7414, y=5792, w=2000, h=2000\n",
      "aws s3 cp \"/shared/CSHL_data_processed/MD635/MD635_intensity_mapping/MD635-F74-2016.05.19-12.15.18_MD635_1_0220_to_MD635-F73-2016.05.19-11.56.44_MD635_2_0218_intensity_mapping_all_regions.npy\" \"s3://mousebrainatlas-data/CSHL_data_processed/MD635/MD635_intensity_mapping/MD635-F74-2016.05.19-12.15.18_MD635_1_0220_to_MD635-F73-2016.05.19-11.56.44_MD635_2_0218_intensity_mapping_all_regions.npy\"\n",
      "aws s3 cp \"/shared/CSHL_data_processed/MD635/MD635_intensity_mapping/MD635-F74-2016.05.19-12.15.18_MD635_1_0220_to_MD635-F73-2016.05.19-11.56.44_MD635_2_0218_region_bboxes.npy\" \"s3://mousebrainatlas-data/CSHL_data_processed/MD635/MD635_intensity_mapping/MD635-F74-2016.05.19-12.15.18_MD635_1_0220_to_MD635-F73-2016.05.19-11.56.44_MD635_2_0218_region_bboxes.npy\"\n"
     ]
    },
    {
     "name": "stderr",
     "output_type": "stream",
     "text": [
      "ntb 210, ntb 211\n"
     ]
    },
    {
     "name": "stdout",
     "output_type": "stream",
     "text": [
      "rm -rf \"/shared/CSHL_data_processed/MD635/MD635_prep2_thumbnail_mask/MD635-F79-2016.05.19-13.44.43_MD635_1_0235_prep2_thumbnail_mask.png\" && mkdir -p \"/shared/CSHL_data_processed/MD635/MD635_prep2_thumbnail_mask\"\n",
      "aws s3 cp \"s3://mousebrainatlas-data/CSHL_data_processed/MD635/MD635_prep2_thumbnail_mask/MD635-F79-2016.05.19-13.44.43_MD635_1_0235_prep2_thumbnail_mask.png\" \"/shared/CSHL_data_processed/MD635/MD635_prep2_thumbnail_mask/MD635-F79-2016.05.19-13.44.43_MD635_1_0235_prep2_thumbnail_mask.png\"\n",
      "rm -rf \"/shared/CSHL_data_processed/MD635/MD635_prep2_lossless/MD635-F79-2016.05.19-13.44.43_MD635_1_0235_prep2_lossless.tif\" && mkdir -p \"/shared/CSHL_data_processed/MD635/MD635_prep2_lossless\"\n",
      "aws s3 cp \"s3://mousebrainatlas-data/CSHL_data_processed/MD635/MD635_prep2_lossless/MD635-F79-2016.05.19-13.44.43_MD635_1_0235_prep2_lossless.tif\" \"/shared/CSHL_data_processed/MD635/MD635_prep2_lossless/MD635-F79-2016.05.19-13.44.43_MD635_1_0235_prep2_lossless.tif\"\n"
     ]
    },
    {
     "name": "stderr",
     "output_type": "stream",
     "text": [
      "Load NTB1: 38.76 seconds.\n"
     ]
    },
    {
     "name": "stdout",
     "output_type": "stream",
     "text": [
      "rm -rf \"/shared/CSHL_data_processed/MD635/MD635_prep2_lossless/MD635-F79-2016.05.19-13.44.43_MD635_2_0236_prep2_lossless.tif\" && mkdir -p \"/shared/CSHL_data_processed/MD635/MD635_prep2_lossless\"\n",
      "aws s3 cp \"s3://mousebrainatlas-data/CSHL_data_processed/MD635/MD635_prep2_lossless/MD635-F79-2016.05.19-13.44.43_MD635_2_0236_prep2_lossless.tif\" \"/shared/CSHL_data_processed/MD635/MD635_prep2_lossless/MD635-F79-2016.05.19-13.44.43_MD635_2_0236_prep2_lossless.tif\"\n"
     ]
    },
    {
     "name": "stderr",
     "output_type": "stream",
     "text": [
      "Load NTB2: 39.38 seconds.\n"
     ]
    },
    {
     "name": "stdout",
     "output_type": "stream",
     "text": [
      "Region 0: x=3807, y=5425, w=2000, h=2000\n",
      "Region 1: x=1003, y=8634, w=2000, h=2000\n",
      "Region 2: x=10961, y=2272, w=2000, h=2000\n",
      "Region 3: x=5233, y=8723, w=2000, h=2000\n",
      "Region 4: x=12369, y=8010, w=2000, h=2000\n",
      "Region 5: x=9515, y=7260, w=2000, h=2000\n",
      "Region 6: x=8539, y=7880, w=2000, h=2000\n",
      "Region 7: x=204, y=11099, w=2000, h=2000\n",
      "Region 8: x=7243, y=8747, w=2000, h=2000\n",
      "Region 9: x=8501, y=5842, w=2000, h=2000\n",
      "aws s3 cp \"/shared/CSHL_data_processed/MD635/MD635_intensity_mapping/MD635-F79-2016.05.19-13.44.43_MD635_2_0236_to_MD635-F79-2016.05.19-13.44.43_MD635_1_0235_intensity_mapping_all_regions.npy\" \"s3://mousebrainatlas-data/CSHL_data_processed/MD635/MD635_intensity_mapping/MD635-F79-2016.05.19-13.44.43_MD635_2_0236_to_MD635-F79-2016.05.19-13.44.43_MD635_1_0235_intensity_mapping_all_regions.npy\"\n",
      "aws s3 cp \"/shared/CSHL_data_processed/MD635/MD635_intensity_mapping/MD635-F79-2016.05.19-13.44.43_MD635_2_0236_to_MD635-F79-2016.05.19-13.44.43_MD635_1_0235_region_bboxes.npy\" \"s3://mousebrainatlas-data/CSHL_data_processed/MD635/MD635_intensity_mapping/MD635-F79-2016.05.19-13.44.43_MD635_2_0236_to_MD635-F79-2016.05.19-13.44.43_MD635_1_0235_region_bboxes.npy\"\n"
     ]
    },
    {
     "name": "stderr",
     "output_type": "stream",
     "text": [
      "ntb 221, ntb 222\n"
     ]
    },
    {
     "name": "stdout",
     "output_type": "stream",
     "text": [
      "rm -rf \"/shared/CSHL_data_processed/MD635/MD635_prep2_thumbnail_mask/MD635-F84-2016.05.19-15.18.11_MD635_2_0251_prep2_thumbnail_mask.png\" && mkdir -p \"/shared/CSHL_data_processed/MD635/MD635_prep2_thumbnail_mask\"\n",
      "aws s3 cp \"s3://mousebrainatlas-data/CSHL_data_processed/MD635/MD635_prep2_thumbnail_mask/MD635-F84-2016.05.19-15.18.11_MD635_2_0251_prep2_thumbnail_mask.png\" \"/shared/CSHL_data_processed/MD635/MD635_prep2_thumbnail_mask/MD635-F84-2016.05.19-15.18.11_MD635_2_0251_prep2_thumbnail_mask.png\"\n",
      "rm -rf \"/shared/CSHL_data_processed/MD635/MD635_prep2_lossless/MD635-F84-2016.05.19-15.18.11_MD635_2_0251_prep2_lossless.tif\" && mkdir -p \"/shared/CSHL_data_processed/MD635/MD635_prep2_lossless\"\n",
      "aws s3 cp \"s3://mousebrainatlas-data/CSHL_data_processed/MD635/MD635_prep2_lossless/MD635-F84-2016.05.19-15.18.11_MD635_2_0251_prep2_lossless.tif\" \"/shared/CSHL_data_processed/MD635/MD635_prep2_lossless/MD635-F84-2016.05.19-15.18.11_MD635_2_0251_prep2_lossless.tif\"\n"
     ]
    },
    {
     "name": "stderr",
     "output_type": "stream",
     "text": [
      "Load NTB1: 39.86 seconds.\n"
     ]
    },
    {
     "name": "stdout",
     "output_type": "stream",
     "text": [
      "rm -rf \"/shared/CSHL_data_processed/MD635/MD635_prep2_lossless/MD635-F85-2016.05.19-15.36.47_MD635_1_0253_prep2_lossless.tif\" && mkdir -p \"/shared/CSHL_data_processed/MD635/MD635_prep2_lossless\"\n",
      "aws s3 cp \"s3://mousebrainatlas-data/CSHL_data_processed/MD635/MD635_prep2_lossless/MD635-F85-2016.05.19-15.36.47_MD635_1_0253_prep2_lossless.tif\" \"/shared/CSHL_data_processed/MD635/MD635_prep2_lossless/MD635-F85-2016.05.19-15.36.47_MD635_1_0253_prep2_lossless.tif\"\n"
     ]
    },
    {
     "name": "stderr",
     "output_type": "stream",
     "text": [
      "Load NTB2: 40.47 seconds.\n"
     ]
    },
    {
     "name": "stdout",
     "output_type": "stream",
     "text": [
      "Region 0: x=1025, y=5311, w=2000, h=2000\n",
      "Region 1: x=11181, y=5261, w=2000, h=2000\n",
      "Region 2: x=4377, y=2706, w=2000, h=2000\n",
      "Region 3: x=3222, y=6900, w=2000, h=2000\n",
      "Region 4: x=10445, y=6874, w=2000, h=2000\n",
      "Region 5: x=34, y=5096, w=2000, h=2000\n",
      "Region 6: x=3462, y=5333, w=2000, h=2000\n",
      "Region 7: x=7109, y=1178, w=2000, h=2000\n",
      "Region 8: x=6666, y=5891, w=2000, h=2000\n",
      "Region 9: x=1293, y=904, w=2000, h=2000\n",
      "aws s3 cp \"/shared/CSHL_data_processed/MD635/MD635_intensity_mapping/MD635-F85-2016.05.19-15.36.47_MD635_1_0253_to_MD635-F84-2016.05.19-15.18.11_MD635_2_0251_intensity_mapping_all_regions.npy\" \"s3://mousebrainatlas-data/CSHL_data_processed/MD635/MD635_intensity_mapping/MD635-F85-2016.05.19-15.36.47_MD635_1_0253_to_MD635-F84-2016.05.19-15.18.11_MD635_2_0251_intensity_mapping_all_regions.npy\"\n",
      "aws s3 cp \"/shared/CSHL_data_processed/MD635/MD635_intensity_mapping/MD635-F85-2016.05.19-15.36.47_MD635_1_0253_to_MD635-F84-2016.05.19-15.18.11_MD635_2_0251_region_bboxes.npy\" \"s3://mousebrainatlas-data/CSHL_data_processed/MD635/MD635_intensity_mapping/MD635-F85-2016.05.19-15.36.47_MD635_1_0253_to_MD635-F84-2016.05.19-15.18.11_MD635_2_0251_region_bboxes.npy\"\n"
     ]
    },
    {
     "name": "stderr",
     "output_type": "stream",
     "text": [
      "ntb 231, ntb 233\n"
     ]
    },
    {
     "name": "stdout",
     "output_type": "stream",
     "text": [
      "rm -rf \"/shared/CSHL_data_processed/MD635/MD635_prep2_thumbnail_mask/MD635-F89-2016.05.19-16.53.54_MD635_2_0266_prep2_thumbnail_mask.png\" && mkdir -p \"/shared/CSHL_data_processed/MD635/MD635_prep2_thumbnail_mask\"\n",
      "aws s3 cp \"s3://mousebrainatlas-data/CSHL_data_processed/MD635/MD635_prep2_thumbnail_mask/MD635-F89-2016.05.19-16.53.54_MD635_2_0266_prep2_thumbnail_mask.png\" \"/shared/CSHL_data_processed/MD635/MD635_prep2_thumbnail_mask/MD635-F89-2016.05.19-16.53.54_MD635_2_0266_prep2_thumbnail_mask.png\"\n",
      "rm -rf \"/shared/CSHL_data_processed/MD635/MD635_prep2_lossless/MD635-F89-2016.05.19-16.53.54_MD635_2_0266_prep2_lossless.tif\" && mkdir -p \"/shared/CSHL_data_processed/MD635/MD635_prep2_lossless\"\n",
      "aws s3 cp \"s3://mousebrainatlas-data/CSHL_data_processed/MD635/MD635_prep2_lossless/MD635-F89-2016.05.19-16.53.54_MD635_2_0266_prep2_lossless.tif\" \"/shared/CSHL_data_processed/MD635/MD635_prep2_lossless/MD635-F89-2016.05.19-16.53.54_MD635_2_0266_prep2_lossless.tif\"\n"
     ]
    },
    {
     "name": "stderr",
     "output_type": "stream",
     "text": [
      "Load NTB1: 75.93 seconds.\n"
     ]
    },
    {
     "name": "stdout",
     "output_type": "stream",
     "text": [
      "rm -rf \"/shared/CSHL_data_processed/MD635/MD635_prep2_lossless/MD635-F90-2016.05.19-17.14.09_MD635_2_0269_prep2_lossless.tif\" && mkdir -p \"/shared/CSHL_data_processed/MD635/MD635_prep2_lossless\"\n",
      "aws s3 cp \"s3://mousebrainatlas-data/CSHL_data_processed/MD635/MD635_prep2_lossless/MD635-F90-2016.05.19-17.14.09_MD635_2_0269_prep2_lossless.tif\" \"/shared/CSHL_data_processed/MD635/MD635_prep2_lossless/MD635-F90-2016.05.19-17.14.09_MD635_2_0269_prep2_lossless.tif\"\n"
     ]
    },
    {
     "name": "stderr",
     "output_type": "stream",
     "text": [
      "Load NTB2: 116.32 seconds.\n"
     ]
    },
    {
     "name": "stdout",
     "output_type": "stream",
     "text": [
      "Region 0: x=8552, y=8281, w=2000, h=2000\n",
      "Region 1: x=9807, y=8022, w=2000, h=2000\n",
      "Region 2: x=5072, y=1250, w=2000, h=2000\n",
      "Region 3: x=103, y=7784, w=2000, h=2000\n",
      "Region 4: x=11175, y=6178, w=2000, h=2000\n",
      "Region 5: x=2694, y=1830, w=2000, h=2000\n",
      "Region 6: x=8111, y=1364, w=2000, h=2000\n",
      "Region 7: x=11842, y=4937, w=2000, h=2000\n",
      "Region 8: x=2057, y=5483, w=2000, h=2000\n",
      "Region 9: x=4754, y=3537, w=2000, h=2000\n",
      "aws s3 cp \"/shared/CSHL_data_processed/MD635/MD635_intensity_mapping/MD635-F90-2016.05.19-17.14.09_MD635_2_0269_to_MD635-F89-2016.05.19-16.53.54_MD635_2_0266_intensity_mapping_all_regions.npy\" \"s3://mousebrainatlas-data/CSHL_data_processed/MD635/MD635_intensity_mapping/MD635-F90-2016.05.19-17.14.09_MD635_2_0269_to_MD635-F89-2016.05.19-16.53.54_MD635_2_0266_intensity_mapping_all_regions.npy\"\n",
      "aws s3 cp \"/shared/CSHL_data_processed/MD635/MD635_intensity_mapping/MD635-F90-2016.05.19-17.14.09_MD635_2_0269_to_MD635-F89-2016.05.19-16.53.54_MD635_2_0266_region_bboxes.npy\" \"s3://mousebrainatlas-data/CSHL_data_processed/MD635/MD635_intensity_mapping/MD635-F90-2016.05.19-17.14.09_MD635_2_0269_to_MD635-F89-2016.05.19-16.53.54_MD635_2_0266_region_bboxes.npy\"\n"
     ]
    },
    {
     "name": "stderr",
     "output_type": "stream",
     "text": [
      "ntb 242, ntb 243\n"
     ]
    },
    {
     "name": "stdout",
     "output_type": "stream",
     "text": [
      "rm -rf \"/shared/CSHL_data_processed/MD635/MD635_prep2_thumbnail_mask/MD635-F95-2016.05.19-18.49.58_MD635_1_0283_prep2_thumbnail_mask.png\" && mkdir -p \"/shared/CSHL_data_processed/MD635/MD635_prep2_thumbnail_mask\"\n",
      "aws s3 cp \"s3://mousebrainatlas-data/CSHL_data_processed/MD635/MD635_prep2_thumbnail_mask/MD635-F95-2016.05.19-18.49.58_MD635_1_0283_prep2_thumbnail_mask.png\" \"/shared/CSHL_data_processed/MD635/MD635_prep2_thumbnail_mask/MD635-F95-2016.05.19-18.49.58_MD635_1_0283_prep2_thumbnail_mask.png\"\n",
      "rm -rf \"/shared/CSHL_data_processed/MD635/MD635_prep2_lossless/MD635-F95-2016.05.19-18.49.58_MD635_1_0283_prep2_lossless.tif\" && mkdir -p \"/shared/CSHL_data_processed/MD635/MD635_prep2_lossless\"\n",
      "aws s3 cp \"s3://mousebrainatlas-data/CSHL_data_processed/MD635/MD635_prep2_lossless/MD635-F95-2016.05.19-18.49.58_MD635_1_0283_prep2_lossless.tif\" \"/shared/CSHL_data_processed/MD635/MD635_prep2_lossless/MD635-F95-2016.05.19-18.49.58_MD635_1_0283_prep2_lossless.tif\"\n"
     ]
    },
    {
     "name": "stderr",
     "output_type": "stream",
     "text": [
      "Load NTB1: 108.82 seconds.\n"
     ]
    },
    {
     "name": "stdout",
     "output_type": "stream",
     "text": [
      "rm -rf \"/shared/CSHL_data_processed/MD635/MD635_prep2_lossless/MD635-F95-2016.05.19-18.49.58_MD635_2_0284_prep2_lossless.tif\" && mkdir -p \"/shared/CSHL_data_processed/MD635/MD635_prep2_lossless\"\n",
      "aws s3 cp \"s3://mousebrainatlas-data/CSHL_data_processed/MD635/MD635_prep2_lossless/MD635-F95-2016.05.19-18.49.58_MD635_2_0284_prep2_lossless.tif\" \"/shared/CSHL_data_processed/MD635/MD635_prep2_lossless/MD635-F95-2016.05.19-18.49.58_MD635_2_0284_prep2_lossless.tif\"\n"
     ]
    },
    {
     "name": "stderr",
     "output_type": "stream",
     "text": [
      "Load NTB2: 114.68 seconds.\n"
     ]
    },
    {
     "name": "stdout",
     "output_type": "stream",
     "text": [
      "Region 0: x=1435, y=1102, w=2000, h=2000\n",
      "Region 1: x=5406, y=6074, w=2000, h=2000\n",
      "Region 2: x=506, y=4446, w=2000, h=2000\n",
      "Region 3: x=9812, y=5673, w=2000, h=2000\n",
      "Region 4: x=5179, y=6468, w=2000, h=2000\n",
      "Region 5: x=3658, y=890, w=2000, h=2000\n",
      "Region 6: x=252, y=5324, w=2000, h=2000\n",
      "Region 7: x=7147, y=5619, w=2000, h=2000\n",
      "Region 8: x=8348, y=1905, w=2000, h=2000\n",
      "Region 9: x=11139, y=6875, w=2000, h=2000\n",
      "aws s3 cp \"/shared/CSHL_data_processed/MD635/MD635_intensity_mapping/MD635-F95-2016.05.19-18.49.58_MD635_2_0284_to_MD635-F95-2016.05.19-18.49.58_MD635_1_0283_intensity_mapping_all_regions.npy\" \"s3://mousebrainatlas-data/CSHL_data_processed/MD635/MD635_intensity_mapping/MD635-F95-2016.05.19-18.49.58_MD635_2_0284_to_MD635-F95-2016.05.19-18.49.58_MD635_1_0283_intensity_mapping_all_regions.npy\"\n",
      "aws s3 cp \"/shared/CSHL_data_processed/MD635/MD635_intensity_mapping/MD635-F95-2016.05.19-18.49.58_MD635_2_0284_to_MD635-F95-2016.05.19-18.49.58_MD635_1_0283_region_bboxes.npy\" \"s3://mousebrainatlas-data/CSHL_data_processed/MD635/MD635_intensity_mapping/MD635-F95-2016.05.19-18.49.58_MD635_2_0284_to_MD635-F95-2016.05.19-18.49.58_MD635_1_0283_region_bboxes.npy\"\n"
     ]
    },
    {
     "name": "stderr",
     "output_type": "stream",
     "text": [
      "ntb 252, ntb 253\n"
     ]
    },
    {
     "name": "stdout",
     "output_type": "stream",
     "text": [
      "rm -rf \"/shared/CSHL_data_processed/MD635/MD635_prep2_thumbnail_mask/MD635-F100-2016.05.19-20.25.22_MD635_1_0298_prep2_thumbnail_mask.png\" && mkdir -p \"/shared/CSHL_data_processed/MD635/MD635_prep2_thumbnail_mask\"\n",
      "aws s3 cp \"s3://mousebrainatlas-data/CSHL_data_processed/MD635/MD635_prep2_thumbnail_mask/MD635-F100-2016.05.19-20.25.22_MD635_1_0298_prep2_thumbnail_mask.png\" \"/shared/CSHL_data_processed/MD635/MD635_prep2_thumbnail_mask/MD635-F100-2016.05.19-20.25.22_MD635_1_0298_prep2_thumbnail_mask.png\"\n",
      "rm -rf \"/shared/CSHL_data_processed/MD635/MD635_prep2_lossless/MD635-F100-2016.05.19-20.25.22_MD635_1_0298_prep2_lossless.tif\" && mkdir -p \"/shared/CSHL_data_processed/MD635/MD635_prep2_lossless\"\n",
      "aws s3 cp \"s3://mousebrainatlas-data/CSHL_data_processed/MD635/MD635_prep2_lossless/MD635-F100-2016.05.19-20.25.22_MD635_1_0298_prep2_lossless.tif\" \"/shared/CSHL_data_processed/MD635/MD635_prep2_lossless/MD635-F100-2016.05.19-20.25.22_MD635_1_0298_prep2_lossless.tif\"\n"
     ]
    },
    {
     "name": "stderr",
     "output_type": "stream",
     "text": [
      "Load NTB1: 109.16 seconds.\n"
     ]
    },
    {
     "name": "stdout",
     "output_type": "stream",
     "text": [
      "rm -rf \"/shared/CSHL_data_processed/MD635/MD635_prep2_lossless/MD635-F100-2016.05.19-20.25.22_MD635_2_0299_prep2_lossless.tif\" && mkdir -p \"/shared/CSHL_data_processed/MD635/MD635_prep2_lossless\"\n",
      "aws s3 cp \"s3://mousebrainatlas-data/CSHL_data_processed/MD635/MD635_prep2_lossless/MD635-F100-2016.05.19-20.25.22_MD635_2_0299_prep2_lossless.tif\" \"/shared/CSHL_data_processed/MD635/MD635_prep2_lossless/MD635-F100-2016.05.19-20.25.22_MD635_2_0299_prep2_lossless.tif\"\n"
     ]
    },
    {
     "name": "stderr",
     "output_type": "stream",
     "text": [
      "Load NTB2: 118.54 seconds.\n"
     ]
    },
    {
     "name": "stdout",
     "output_type": "stream",
     "text": [
      "Region 0: x=3791, y=661, w=2000, h=2000\n",
      "Region 1: x=4050, y=4819, w=2000, h=2000\n",
      "Region 2: x=16803, y=10584, w=2000, h=2000\n",
      "Region 3: x=5736, y=3343, w=2000, h=2000\n",
      "Region 4: x=405, y=1519, w=2000, h=2000\n",
      "Region 5: x=4365, y=6780, w=2000, h=2000\n",
      "Region 6: x=7371, y=9520, w=2000, h=2000\n",
      "Region 7: x=1053, y=6598, w=2000, h=2000\n",
      "Region 8: x=10590, y=8567, w=2000, h=2000\n",
      "Region 9: x=1328, y=7703, w=2000, h=2000\n",
      "aws s3 cp \"/shared/CSHL_data_processed/MD635/MD635_intensity_mapping/MD635-F100-2016.05.19-20.25.22_MD635_2_0299_to_MD635-F100-2016.05.19-20.25.22_MD635_1_0298_intensity_mapping_all_regions.npy\" \"s3://mousebrainatlas-data/CSHL_data_processed/MD635/MD635_intensity_mapping/MD635-F100-2016.05.19-20.25.22_MD635_2_0299_to_MD635-F100-2016.05.19-20.25.22_MD635_1_0298_intensity_mapping_all_regions.npy\"\n",
      "aws s3 cp \"/shared/CSHL_data_processed/MD635/MD635_intensity_mapping/MD635-F100-2016.05.19-20.25.22_MD635_2_0299_to_MD635-F100-2016.05.19-20.25.22_MD635_1_0298_region_bboxes.npy\" \"s3://mousebrainatlas-data/CSHL_data_processed/MD635/MD635_intensity_mapping/MD635-F100-2016.05.19-20.25.22_MD635_2_0299_to_MD635-F100-2016.05.19-20.25.22_MD635_1_0298_region_bboxes.npy\"\n"
     ]
    },
    {
     "name": "stderr",
     "output_type": "stream",
     "text": [
      "ntb 262, ntb 263\n"
     ]
    },
    {
     "name": "stdout",
     "output_type": "stream",
     "text": [
      "rm -rf \"/shared/CSHL_data_processed/MD635/MD635_prep2_thumbnail_mask/MD635-F105-2016.05.19-21.45.41_MD635_1_0313_prep2_thumbnail_mask.png\" && mkdir -p \"/shared/CSHL_data_processed/MD635/MD635_prep2_thumbnail_mask\"\n",
      "aws s3 cp \"s3://mousebrainatlas-data/CSHL_data_processed/MD635/MD635_prep2_thumbnail_mask/MD635-F105-2016.05.19-21.45.41_MD635_1_0313_prep2_thumbnail_mask.png\" \"/shared/CSHL_data_processed/MD635/MD635_prep2_thumbnail_mask/MD635-F105-2016.05.19-21.45.41_MD635_1_0313_prep2_thumbnail_mask.png\"\n",
      "rm -rf \"/shared/CSHL_data_processed/MD635/MD635_prep2_lossless/MD635-F105-2016.05.19-21.45.41_MD635_1_0313_prep2_lossless.tif\" && mkdir -p \"/shared/CSHL_data_processed/MD635/MD635_prep2_lossless\"\n",
      "aws s3 cp \"s3://mousebrainatlas-data/CSHL_data_processed/MD635/MD635_prep2_lossless/MD635-F105-2016.05.19-21.45.41_MD635_1_0313_prep2_lossless.tif\" \"/shared/CSHL_data_processed/MD635/MD635_prep2_lossless/MD635-F105-2016.05.19-21.45.41_MD635_1_0313_prep2_lossless.tif\"\n"
     ]
    },
    {
     "name": "stderr",
     "output_type": "stream",
     "text": [
      "Load NTB1: 103.43 seconds.\n"
     ]
    },
    {
     "name": "stdout",
     "output_type": "stream",
     "text": [
      "rm -rf \"/shared/CSHL_data_processed/MD635/MD635_prep2_lossless/MD635-F105-2016.05.19-21.45.41_MD635_2_0314_prep2_lossless.tif\" && mkdir -p \"/shared/CSHL_data_processed/MD635/MD635_prep2_lossless\"\n",
      "aws s3 cp \"s3://mousebrainatlas-data/CSHL_data_processed/MD635/MD635_prep2_lossless/MD635-F105-2016.05.19-21.45.41_MD635_2_0314_prep2_lossless.tif\" \"/shared/CSHL_data_processed/MD635/MD635_prep2_lossless/MD635-F105-2016.05.19-21.45.41_MD635_2_0314_prep2_lossless.tif\"\n"
     ]
    },
    {
     "name": "stderr",
     "output_type": "stream",
     "text": [
      "Load NTB2: 113.92 seconds.\n"
     ]
    },
    {
     "name": "stdout",
     "output_type": "stream",
     "text": [
      "Region 0: x=15581, y=9021, w=2000, h=2000\n",
      "Region 1: x=4528, y=5170, w=2000, h=2000\n",
      "Region 2: x=5614, y=8626, w=2000, h=2000\n",
      "Region 3: x=3488, y=1887, w=2000, h=2000\n",
      "Region 4: x=8628, y=1371, w=2000, h=2000\n",
      "Region 5: x=3677, y=7223, w=2000, h=2000\n",
      "Region 6: x=5178, y=6046, w=2000, h=2000\n",
      "Region 7: x=13170, y=8147, w=2000, h=2000\n",
      "Region 8: x=6936, y=9530, w=2000, h=2000\n",
      "Region 9: x=1634, y=2677, w=2000, h=2000\n",
      "aws s3 cp \"/shared/CSHL_data_processed/MD635/MD635_intensity_mapping/MD635-F105-2016.05.19-21.45.41_MD635_2_0314_to_MD635-F105-2016.05.19-21.45.41_MD635_1_0313_intensity_mapping_all_regions.npy\" \"s3://mousebrainatlas-data/CSHL_data_processed/MD635/MD635_intensity_mapping/MD635-F105-2016.05.19-21.45.41_MD635_2_0314_to_MD635-F105-2016.05.19-21.45.41_MD635_1_0313_intensity_mapping_all_regions.npy\"\n",
      "aws s3 cp \"/shared/CSHL_data_processed/MD635/MD635_intensity_mapping/MD635-F105-2016.05.19-21.45.41_MD635_2_0314_to_MD635-F105-2016.05.19-21.45.41_MD635_1_0313_region_bboxes.npy\" \"s3://mousebrainatlas-data/CSHL_data_processed/MD635/MD635_intensity_mapping/MD635-F105-2016.05.19-21.45.41_MD635_2_0314_to_MD635-F105-2016.05.19-21.45.41_MD635_1_0313_region_bboxes.npy\"\n"
     ]
    },
    {
     "name": "stderr",
     "output_type": "stream",
     "text": [
      "ntb 272, ntb 273\n"
     ]
    },
    {
     "name": "stdout",
     "output_type": "stream",
     "text": [
      "rm -rf \"/shared/CSHL_data_processed/MD635/MD635_prep2_thumbnail_mask/MD635-F110-2016.05.19-23.00.00_MD635_1_0328_prep2_thumbnail_mask.png\" && mkdir -p \"/shared/CSHL_data_processed/MD635/MD635_prep2_thumbnail_mask\"\n",
      "aws s3 cp \"s3://mousebrainatlas-data/CSHL_data_processed/MD635/MD635_prep2_thumbnail_mask/MD635-F110-2016.05.19-23.00.00_MD635_1_0328_prep2_thumbnail_mask.png\" \"/shared/CSHL_data_processed/MD635/MD635_prep2_thumbnail_mask/MD635-F110-2016.05.19-23.00.00_MD635_1_0328_prep2_thumbnail_mask.png\"\n",
      "rm -rf \"/shared/CSHL_data_processed/MD635/MD635_prep2_lossless/MD635-F110-2016.05.19-23.00.00_MD635_1_0328_prep2_lossless.tif\" && mkdir -p \"/shared/CSHL_data_processed/MD635/MD635_prep2_lossless\"\n",
      "aws s3 cp \"s3://mousebrainatlas-data/CSHL_data_processed/MD635/MD635_prep2_lossless/MD635-F110-2016.05.19-23.00.00_MD635_1_0328_prep2_lossless.tif\" \"/shared/CSHL_data_processed/MD635/MD635_prep2_lossless/MD635-F110-2016.05.19-23.00.00_MD635_1_0328_prep2_lossless.tif\"\n"
     ]
    },
    {
     "name": "stderr",
     "output_type": "stream",
     "text": [
      "Load NTB1: 100.14 seconds.\n"
     ]
    },
    {
     "name": "stdout",
     "output_type": "stream",
     "text": [
      "rm -rf \"/shared/CSHL_data_processed/MD635/MD635_prep2_lossless/MD635-F110-2016.05.19-23.00.00_MD635_2_0329_prep2_lossless.tif\" && mkdir -p \"/shared/CSHL_data_processed/MD635/MD635_prep2_lossless\"\n",
      "aws s3 cp \"s3://mousebrainatlas-data/CSHL_data_processed/MD635/MD635_prep2_lossless/MD635-F110-2016.05.19-23.00.00_MD635_2_0329_prep2_lossless.tif\" \"/shared/CSHL_data_processed/MD635/MD635_prep2_lossless/MD635-F110-2016.05.19-23.00.00_MD635_2_0329_prep2_lossless.tif\"\n"
     ]
    },
    {
     "name": "stderr",
     "output_type": "stream",
     "text": [
      "Load NTB2: 102.56 seconds.\n"
     ]
    },
    {
     "name": "stdout",
     "output_type": "stream",
     "text": [
      "Region 0: x=7088, y=8581, w=2000, h=2000\n",
      "Region 1: x=3827, y=5523, w=2000, h=2000\n",
      "Region 2: x=5761, y=9135, w=2000, h=2000\n",
      "Region 3: x=3789, y=6688, w=2000, h=2000\n",
      "Region 4: x=2315, y=2826, w=2000, h=2000\n",
      "Region 5: x=8791, y=2517, w=2000, h=2000\n",
      "Region 6: x=7061, y=4581, w=2000, h=2000\n",
      "Region 7: x=9433, y=7904, w=2000, h=2000\n",
      "Region 8: x=8099, y=1606, w=2000, h=2000\n",
      "Region 9: x=8449, y=3133, w=2000, h=2000\n",
      "aws s3 cp \"/shared/CSHL_data_processed/MD635/MD635_intensity_mapping/MD635-F110-2016.05.19-23.00.00_MD635_2_0329_to_MD635-F110-2016.05.19-23.00.00_MD635_1_0328_intensity_mapping_all_regions.npy\" \"s3://mousebrainatlas-data/CSHL_data_processed/MD635/MD635_intensity_mapping/MD635-F110-2016.05.19-23.00.00_MD635_2_0329_to_MD635-F110-2016.05.19-23.00.00_MD635_1_0328_intensity_mapping_all_regions.npy\"\n",
      "aws s3 cp \"/shared/CSHL_data_processed/MD635/MD635_intensity_mapping/MD635-F110-2016.05.19-23.00.00_MD635_2_0329_to_MD635-F110-2016.05.19-23.00.00_MD635_1_0328_region_bboxes.npy\" \"s3://mousebrainatlas-data/CSHL_data_processed/MD635/MD635_intensity_mapping/MD635-F110-2016.05.19-23.00.00_MD635_2_0329_to_MD635-F110-2016.05.19-23.00.00_MD635_1_0328_region_bboxes.npy\"\n"
     ]
    },
    {
     "name": "stderr",
     "output_type": "stream",
     "text": [
      "ntb 282, ntb 283\n"
     ]
    },
    {
     "name": "stdout",
     "output_type": "stream",
     "text": [
      "rm -rf \"/shared/CSHL_data_processed/MD635/MD635_prep2_thumbnail_mask/MD635-F114-2016.05.19-23.57.07_MD635_2_0341_prep2_thumbnail_mask.png\" && mkdir -p \"/shared/CSHL_data_processed/MD635/MD635_prep2_thumbnail_mask\"\n",
      "aws s3 cp \"s3://mousebrainatlas-data/CSHL_data_processed/MD635/MD635_prep2_thumbnail_mask/MD635-F114-2016.05.19-23.57.07_MD635_2_0341_prep2_thumbnail_mask.png\" \"/shared/CSHL_data_processed/MD635/MD635_prep2_thumbnail_mask/MD635-F114-2016.05.19-23.57.07_MD635_2_0341_prep2_thumbnail_mask.png\"\n",
      "rm -rf \"/shared/CSHL_data_processed/MD635/MD635_prep2_lossless/MD635-F114-2016.05.19-23.57.07_MD635_2_0341_prep2_lossless.tif\" && mkdir -p \"/shared/CSHL_data_processed/MD635/MD635_prep2_lossless\"\n",
      "aws s3 cp \"s3://mousebrainatlas-data/CSHL_data_processed/MD635/MD635_prep2_lossless/MD635-F114-2016.05.19-23.57.07_MD635_2_0341_prep2_lossless.tif\" \"/shared/CSHL_data_processed/MD635/MD635_prep2_lossless/MD635-F114-2016.05.19-23.57.07_MD635_2_0341_prep2_lossless.tif\"\n"
     ]
    },
    {
     "name": "stderr",
     "output_type": "stream",
     "text": [
      "Load NTB1: 85.28 seconds.\n"
     ]
    },
    {
     "name": "stdout",
     "output_type": "stream",
     "text": [
      "rm -rf \"/shared/CSHL_data_processed/MD635/MD635_prep2_lossless/MD635-F114-2016.05.19-23.57.07_MD635_3_0342_prep2_lossless.tif\" && mkdir -p \"/shared/CSHL_data_processed/MD635/MD635_prep2_lossless\"\n",
      "aws s3 cp \"s3://mousebrainatlas-data/CSHL_data_processed/MD635/MD635_prep2_lossless/MD635-F114-2016.05.19-23.57.07_MD635_3_0342_prep2_lossless.tif\" \"/shared/CSHL_data_processed/MD635/MD635_prep2_lossless/MD635-F114-2016.05.19-23.57.07_MD635_3_0342_prep2_lossless.tif\"\n"
     ]
    },
    {
     "name": "stderr",
     "output_type": "stream",
     "text": [
      "Load NTB2: 86.57 seconds.\n"
     ]
    },
    {
     "name": "stdout",
     "output_type": "stream",
     "text": [
      "Region 0: x=184, y=1861, w=2000, h=2000\n",
      "Region 1: x=6086, y=3554, w=2000, h=2000\n",
      "Region 2: x=5480, y=4000, w=2000, h=2000\n",
      "Region 3: x=1213, y=1296, w=2000, h=2000\n",
      "Region 4: x=6287, y=6850, w=2000, h=2000\n",
      "Region 5: x=515, y=6448, w=2000, h=2000\n",
      "Region 6: x=2368, y=6546, w=2000, h=2000\n",
      "Region 7: x=1653, y=4294, w=2000, h=2000\n",
      "Region 8: x=6410, y=2179, w=2000, h=2000\n",
      "Region 9: x=302, y=3401, w=2000, h=2000\n",
      "aws s3 cp \"/shared/CSHL_data_processed/MD635/MD635_intensity_mapping/MD635-F114-2016.05.19-23.57.07_MD635_3_0342_to_MD635-F114-2016.05.19-23.57.07_MD635_2_0341_intensity_mapping_all_regions.npy\" \"s3://mousebrainatlas-data/CSHL_data_processed/MD635/MD635_intensity_mapping/MD635-F114-2016.05.19-23.57.07_MD635_3_0342_to_MD635-F114-2016.05.19-23.57.07_MD635_2_0341_intensity_mapping_all_regions.npy\"\n",
      "aws s3 cp \"/shared/CSHL_data_processed/MD635/MD635_intensity_mapping/MD635-F114-2016.05.19-23.57.07_MD635_3_0342_to_MD635-F114-2016.05.19-23.57.07_MD635_2_0341_region_bboxes.npy\" \"s3://mousebrainatlas-data/CSHL_data_processed/MD635/MD635_intensity_mapping/MD635-F114-2016.05.19-23.57.07_MD635_3_0342_to_MD635-F114-2016.05.19-23.57.07_MD635_2_0341_region_bboxes.npy\"\n"
     ]
    },
    {
     "name": "stderr",
     "output_type": "stream",
     "text": [
      "ntb 292, ntb 293\n"
     ]
    },
    {
     "name": "stdout",
     "output_type": "stream",
     "text": [
      "rm -rf \"/shared/CSHL_data_processed/MD635/MD635_prep2_thumbnail_mask/MD635-F117-2016.05.20-00.49.06_MD635_3_0351_prep2_thumbnail_mask.png\" && mkdir -p \"/shared/CSHL_data_processed/MD635/MD635_prep2_thumbnail_mask\"\n",
      "aws s3 cp \"s3://mousebrainatlas-data/CSHL_data_processed/MD635/MD635_prep2_thumbnail_mask/MD635-F117-2016.05.20-00.49.06_MD635_3_0351_prep2_thumbnail_mask.png\" \"/shared/CSHL_data_processed/MD635/MD635_prep2_thumbnail_mask/MD635-F117-2016.05.20-00.49.06_MD635_3_0351_prep2_thumbnail_mask.png\"\n",
      "rm -rf \"/shared/CSHL_data_processed/MD635/MD635_prep2_lossless/MD635-F117-2016.05.20-00.49.06_MD635_3_0351_prep2_lossless.tif\" && mkdir -p \"/shared/CSHL_data_processed/MD635/MD635_prep2_lossless\"\n",
      "aws s3 cp \"s3://mousebrainatlas-data/CSHL_data_processed/MD635/MD635_prep2_lossless/MD635-F117-2016.05.20-00.49.06_MD635_3_0351_prep2_lossless.tif\" \"/shared/CSHL_data_processed/MD635/MD635_prep2_lossless/MD635-F117-2016.05.20-00.49.06_MD635_3_0351_prep2_lossless.tif\"\n"
     ]
    },
    {
     "name": "stderr",
     "output_type": "stream",
     "text": [
      "Load NTB1: 90.14 seconds.\n"
     ]
    },
    {
     "name": "stdout",
     "output_type": "stream",
     "text": [
      "rm -rf \"/shared/CSHL_data_processed/MD635/MD635_prep2_lossless/MD635-F118-2016.05.20-01.05.52_MD635_1_0352_prep2_lossless.tif\" && mkdir -p \"/shared/CSHL_data_processed/MD635/MD635_prep2_lossless\"\n",
      "aws s3 cp \"s3://mousebrainatlas-data/CSHL_data_processed/MD635/MD635_prep2_lossless/MD635-F118-2016.05.20-01.05.52_MD635_1_0352_prep2_lossless.tif\" \"/shared/CSHL_data_processed/MD635/MD635_prep2_lossless/MD635-F118-2016.05.20-01.05.52_MD635_1_0352_prep2_lossless.tif\"\n"
     ]
    },
    {
     "name": "stderr",
     "output_type": "stream",
     "text": [
      "Load NTB2: 95.86 seconds.\n"
     ]
    },
    {
     "name": "stdout",
     "output_type": "stream",
     "text": [
      "Region 0: x=10140, y=3603, w=2000, h=2000\n",
      "Region 1: x=6821, y=780, w=2000, h=2000\n",
      "Region 2: x=12498, y=7643, w=2000, h=2000\n",
      "Region 3: x=10804, y=4078, w=2000, h=2000\n",
      "Region 4: x=9978, y=2379, w=2000, h=2000\n",
      "Region 5: x=9325, y=2167, w=2000, h=2000\n",
      "Region 6: x=1299, y=5216, w=2000, h=2000\n",
      "Region 7: x=5790, y=2286, w=2000, h=2000\n",
      "Region 8: x=6650, y=3563, w=2000, h=2000\n",
      "Region 9: x=7336, y=6211, w=2000, h=2000\n",
      "aws s3 cp \"/shared/CSHL_data_processed/MD635/MD635_intensity_mapping/MD635-F118-2016.05.20-01.05.52_MD635_1_0352_to_MD635-F117-2016.05.20-00.49.06_MD635_3_0351_intensity_mapping_all_regions.npy\" \"s3://mousebrainatlas-data/CSHL_data_processed/MD635/MD635_intensity_mapping/MD635-F118-2016.05.20-01.05.52_MD635_1_0352_to_MD635-F117-2016.05.20-00.49.06_MD635_3_0351_intensity_mapping_all_regions.npy\"\n",
      "aws s3 cp \"/shared/CSHL_data_processed/MD635/MD635_intensity_mapping/MD635-F118-2016.05.20-01.05.52_MD635_1_0352_to_MD635-F117-2016.05.20-00.49.06_MD635_3_0351_region_bboxes.npy\" \"s3://mousebrainatlas-data/CSHL_data_processed/MD635/MD635_intensity_mapping/MD635-F118-2016.05.20-01.05.52_MD635_1_0352_to_MD635-F117-2016.05.20-00.49.06_MD635_3_0351_region_bboxes.npy\"\n"
     ]
    },
    {
     "name": "stderr",
     "output_type": "stream",
     "text": [
      "ntb 302, ntb 303\n"
     ]
    },
    {
     "name": "stdout",
     "output_type": "stream",
     "text": [
      "rm -rf \"/shared/CSHL_data_processed/MD635/MD635_prep2_thumbnail_mask/MD635-F121-2016.05.20-01.55.48_MD635_1_0361_prep2_thumbnail_mask.png\" && mkdir -p \"/shared/CSHL_data_processed/MD635/MD635_prep2_thumbnail_mask\"\n",
      "aws s3 cp \"s3://mousebrainatlas-data/CSHL_data_processed/MD635/MD635_prep2_thumbnail_mask/MD635-F121-2016.05.20-01.55.48_MD635_1_0361_prep2_thumbnail_mask.png\" \"/shared/CSHL_data_processed/MD635/MD635_prep2_thumbnail_mask/MD635-F121-2016.05.20-01.55.48_MD635_1_0361_prep2_thumbnail_mask.png\"\n",
      "rm -rf \"/shared/CSHL_data_processed/MD635/MD635_prep2_lossless/MD635-F121-2016.05.20-01.55.48_MD635_1_0361_prep2_lossless.tif\" && mkdir -p \"/shared/CSHL_data_processed/MD635/MD635_prep2_lossless\"\n",
      "aws s3 cp \"s3://mousebrainatlas-data/CSHL_data_processed/MD635/MD635_prep2_lossless/MD635-F121-2016.05.20-01.55.48_MD635_1_0361_prep2_lossless.tif\" \"/shared/CSHL_data_processed/MD635/MD635_prep2_lossless/MD635-F121-2016.05.20-01.55.48_MD635_1_0361_prep2_lossless.tif\"\n"
     ]
    },
    {
     "name": "stderr",
     "output_type": "stream",
     "text": [
      "Load NTB1: 93.89 seconds.\n"
     ]
    },
    {
     "name": "stdout",
     "output_type": "stream",
     "text": [
      "rm -rf \"/shared/CSHL_data_processed/MD635/MD635_prep2_lossless/MD635-F121-2016.05.20-01.55.48_MD635_2_0362_prep2_lossless.tif\" && mkdir -p \"/shared/CSHL_data_processed/MD635/MD635_prep2_lossless\"\n",
      "aws s3 cp \"s3://mousebrainatlas-data/CSHL_data_processed/MD635/MD635_prep2_lossless/MD635-F121-2016.05.20-01.55.48_MD635_2_0362_prep2_lossless.tif\" \"/shared/CSHL_data_processed/MD635/MD635_prep2_lossless/MD635-F121-2016.05.20-01.55.48_MD635_2_0362_prep2_lossless.tif\"\n"
     ]
    },
    {
     "name": "stderr",
     "output_type": "stream",
     "text": [
      "Load NTB2: 96.58 seconds.\n"
     ]
    },
    {
     "name": "stdout",
     "output_type": "stream",
     "text": [
      "Region 0: x=616, y=4975, w=2000, h=2000\n",
      "Region 1: x=1433, y=6772, w=2000, h=2000\n",
      "Region 2: x=6028, y=5072, w=2000, h=2000\n",
      "Region 3: x=7325, y=1169, w=2000, h=2000\n",
      "Region 4: x=9659, y=5424, w=2000, h=2000\n",
      "Region 5: x=11369, y=7860, w=2000, h=2000\n",
      "Region 6: x=970, y=7820, w=2000, h=2000\n",
      "Region 7: x=3769, y=5739, w=2000, h=2000\n",
      "Region 8: x=5198, y=1850, w=2000, h=2000\n",
      "Region 9: x=7757, y=7554, w=2000, h=2000\n",
      "aws s3 cp \"/shared/CSHL_data_processed/MD635/MD635_intensity_mapping/MD635-F121-2016.05.20-01.55.48_MD635_2_0362_to_MD635-F121-2016.05.20-01.55.48_MD635_1_0361_intensity_mapping_all_regions.npy\" \"s3://mousebrainatlas-data/CSHL_data_processed/MD635/MD635_intensity_mapping/MD635-F121-2016.05.20-01.55.48_MD635_2_0362_to_MD635-F121-2016.05.20-01.55.48_MD635_1_0361_intensity_mapping_all_regions.npy\"\n",
      "aws s3 cp \"/shared/CSHL_data_processed/MD635/MD635_intensity_mapping/MD635-F121-2016.05.20-01.55.48_MD635_2_0362_to_MD635-F121-2016.05.20-01.55.48_MD635_1_0361_region_bboxes.npy\" \"s3://mousebrainatlas-data/CSHL_data_processed/MD635/MD635_intensity_mapping/MD635-F121-2016.05.20-01.55.48_MD635_2_0362_to_MD635-F121-2016.05.20-01.55.48_MD635_1_0361_region_bboxes.npy\"\n"
     ]
    },
    {
     "name": "stderr",
     "output_type": "stream",
     "text": [
      "ntb 312, ntb 313\n"
     ]
    },
    {
     "name": "stdout",
     "output_type": "stream",
     "text": [
      "rm -rf \"/shared/CSHL_data_processed/MD635/MD635_prep2_thumbnail_mask/MD635-F124-2016.05.20-02.13.16_MD635_2_0371_prep2_thumbnail_mask.png\" && mkdir -p \"/shared/CSHL_data_processed/MD635/MD635_prep2_thumbnail_mask\"\n",
      "aws s3 cp \"s3://mousebrainatlas-data/CSHL_data_processed/MD635/MD635_prep2_thumbnail_mask/MD635-F124-2016.05.20-02.13.16_MD635_2_0371_prep2_thumbnail_mask.png\" \"/shared/CSHL_data_processed/MD635/MD635_prep2_thumbnail_mask/MD635-F124-2016.05.20-02.13.16_MD635_2_0371_prep2_thumbnail_mask.png\"\n",
      "rm -rf \"/shared/CSHL_data_processed/MD635/MD635_prep2_lossless/MD635-F124-2016.05.20-02.13.16_MD635_2_0371_prep2_lossless.tif\" && mkdir -p \"/shared/CSHL_data_processed/MD635/MD635_prep2_lossless\"\n",
      "aws s3 cp \"s3://mousebrainatlas-data/CSHL_data_processed/MD635/MD635_prep2_lossless/MD635-F124-2016.05.20-02.13.16_MD635_2_0371_prep2_lossless.tif\" \"/shared/CSHL_data_processed/MD635/MD635_prep2_lossless/MD635-F124-2016.05.20-02.13.16_MD635_2_0371_prep2_lossless.tif\"\n"
     ]
    },
    {
     "name": "stderr",
     "output_type": "stream",
     "text": [
      "Load NTB1: 85.49 seconds.\n"
     ]
    },
    {
     "name": "stdout",
     "output_type": "stream",
     "text": [
      "rm -rf \"/shared/CSHL_data_processed/MD635/MD635_prep2_lossless/MD635-F124-2016.05.20-02.13.16_MD635_3_0372_prep2_lossless.tif\" && mkdir -p \"/shared/CSHL_data_processed/MD635/MD635_prep2_lossless\"\n",
      "aws s3 cp \"s3://mousebrainatlas-data/CSHL_data_processed/MD635/MD635_prep2_lossless/MD635-F124-2016.05.20-02.13.16_MD635_3_0372_prep2_lossless.tif\" \"/shared/CSHL_data_processed/MD635/MD635_prep2_lossless/MD635-F124-2016.05.20-02.13.16_MD635_3_0372_prep2_lossless.tif\"\n"
     ]
    },
    {
     "name": "stderr",
     "output_type": "stream",
     "text": [
      "Load NTB2: 79.31 seconds.\n"
     ]
    },
    {
     "name": "stdout",
     "output_type": "stream",
     "text": [
      "Region 0: x=4906, y=6121, w=2000, h=2000\n",
      "Region 1: x=7338, y=2128, w=2000, h=2000\n",
      "Region 2: x=4676, y=6763, w=2000, h=2000\n",
      "Region 3: x=8931, y=3654, w=2000, h=2000\n",
      "Region 4: x=1033, y=4852, w=2000, h=2000\n",
      "Region 5: x=3439, y=2114, w=2000, h=2000\n",
      "Region 6: x=2429, y=2224, w=2000, h=2000\n",
      "Region 7: x=9160, y=3944, w=2000, h=2000\n",
      "Region 8: x=2129, y=2579, w=2000, h=2000\n",
      "Region 9: x=4656, y=2800, w=2000, h=2000\n",
      "aws s3 cp \"/shared/CSHL_data_processed/MD635/MD635_intensity_mapping/MD635-F124-2016.05.20-02.13.16_MD635_3_0372_to_MD635-F124-2016.05.20-02.13.16_MD635_2_0371_intensity_mapping_all_regions.npy\" \"s3://mousebrainatlas-data/CSHL_data_processed/MD635/MD635_intensity_mapping/MD635-F124-2016.05.20-02.13.16_MD635_3_0372_to_MD635-F124-2016.05.20-02.13.16_MD635_2_0371_intensity_mapping_all_regions.npy\"\n",
      "aws s3 cp \"/shared/CSHL_data_processed/MD635/MD635_intensity_mapping/MD635-F124-2016.05.20-02.13.16_MD635_3_0372_to_MD635-F124-2016.05.20-02.13.16_MD635_2_0371_region_bboxes.npy\" \"s3://mousebrainatlas-data/CSHL_data_processed/MD635/MD635_intensity_mapping/MD635-F124-2016.05.20-02.13.16_MD635_3_0372_to_MD635-F124-2016.05.20-02.13.16_MD635_2_0371_region_bboxes.npy\"\n"
     ]
    },
    {
     "name": "stderr",
     "output_type": "stream",
     "text": [
      "ntb 322, ntb 323\n"
     ]
    },
    {
     "name": "stdout",
     "output_type": "stream",
     "text": [
      "rm -rf \"/shared/CSHL_data_processed/MD635/MD635_prep2_thumbnail_mask/MD635-F127-2016.05.20-02.59.46_MD635_3_0381_prep2_thumbnail_mask.png\" && mkdir -p \"/shared/CSHL_data_processed/MD635/MD635_prep2_thumbnail_mask\"\n",
      "aws s3 cp \"s3://mousebrainatlas-data/CSHL_data_processed/MD635/MD635_prep2_thumbnail_mask/MD635-F127-2016.05.20-02.59.46_MD635_3_0381_prep2_thumbnail_mask.png\" \"/shared/CSHL_data_processed/MD635/MD635_prep2_thumbnail_mask/MD635-F127-2016.05.20-02.59.46_MD635_3_0381_prep2_thumbnail_mask.png\"\n",
      "rm -rf \"/shared/CSHL_data_processed/MD635/MD635_prep2_lossless/MD635-F127-2016.05.20-02.59.46_MD635_3_0381_prep2_lossless.tif\" && mkdir -p \"/shared/CSHL_data_processed/MD635/MD635_prep2_lossless\"\n",
      "aws s3 cp \"s3://mousebrainatlas-data/CSHL_data_processed/MD635/MD635_prep2_lossless/MD635-F127-2016.05.20-02.59.46_MD635_3_0381_prep2_lossless.tif\" \"/shared/CSHL_data_processed/MD635/MD635_prep2_lossless/MD635-F127-2016.05.20-02.59.46_MD635_3_0381_prep2_lossless.tif\"\n"
     ]
    },
    {
     "name": "stderr",
     "output_type": "stream",
     "text": [
      "Load NTB1: 72.64 seconds.\n"
     ]
    },
    {
     "name": "stdout",
     "output_type": "stream",
     "text": [
      "rm -rf \"/shared/CSHL_data_processed/MD635/MD635_prep2_lossless/MD635-F128-2016.05.20-03.14.48_MD635_1_0382_prep2_lossless.tif\" && mkdir -p \"/shared/CSHL_data_processed/MD635/MD635_prep2_lossless\"\n",
      "aws s3 cp \"s3://mousebrainatlas-data/CSHL_data_processed/MD635/MD635_prep2_lossless/MD635-F128-2016.05.20-03.14.48_MD635_1_0382_prep2_lossless.tif\" \"/shared/CSHL_data_processed/MD635/MD635_prep2_lossless/MD635-F128-2016.05.20-03.14.48_MD635_1_0382_prep2_lossless.tif\"\n"
     ]
    },
    {
     "name": "stderr",
     "output_type": "stream",
     "text": [
      "Load NTB2: 105.74 seconds.\n"
     ]
    },
    {
     "name": "stdout",
     "output_type": "stream",
     "text": [
      "Region 0: x=4178, y=5007, w=2000, h=2000\n",
      "Region 1: x=5262, y=3162, w=2000, h=2000\n",
      "Region 2: x=9699, y=7779, w=2000, h=2000\n",
      "Region 3: x=7145, y=3297, w=2000, h=2000\n",
      "Region 4: x=3346, y=5547, w=2000, h=2000\n",
      "Region 5: x=3335, y=1989, w=2000, h=2000\n",
      "Region 6: x=5177, y=1272, w=2000, h=2000\n",
      "Region 7: x=10929, y=4732, w=2000, h=2000\n",
      "Region 8: x=421, y=7309, w=2000, h=2000\n",
      "Region 9: x=1590, y=8228, w=2000, h=2000\n",
      "aws s3 cp \"/shared/CSHL_data_processed/MD635/MD635_intensity_mapping/MD635-F128-2016.05.20-03.14.48_MD635_1_0382_to_MD635-F127-2016.05.20-02.59.46_MD635_3_0381_intensity_mapping_all_regions.npy\" \"s3://mousebrainatlas-data/CSHL_data_processed/MD635/MD635_intensity_mapping/MD635-F128-2016.05.20-03.14.48_MD635_1_0382_to_MD635-F127-2016.05.20-02.59.46_MD635_3_0381_intensity_mapping_all_regions.npy\"\n",
      "aws s3 cp \"/shared/CSHL_data_processed/MD635/MD635_intensity_mapping/MD635-F128-2016.05.20-03.14.48_MD635_1_0382_to_MD635-F127-2016.05.20-02.59.46_MD635_3_0381_region_bboxes.npy\" \"s3://mousebrainatlas-data/CSHL_data_processed/MD635/MD635_intensity_mapping/MD635-F128-2016.05.20-03.14.48_MD635_1_0382_to_MD635-F127-2016.05.20-02.59.46_MD635_3_0381_region_bboxes.npy\"\n"
     ]
    },
    {
     "name": "stderr",
     "output_type": "stream",
     "text": [
      "ntb 332, ntb 333\n"
     ]
    },
    {
     "name": "stdout",
     "output_type": "stream",
     "text": [
      "rm -rf \"/shared/CSHL_data_processed/MD635/MD635_prep2_thumbnail_mask/MD635-F131-2016.05.20-03.59.18_MD635_1_0391_prep2_thumbnail_mask.png\" && mkdir -p \"/shared/CSHL_data_processed/MD635/MD635_prep2_thumbnail_mask\"\n",
      "aws s3 cp \"s3://mousebrainatlas-data/CSHL_data_processed/MD635/MD635_prep2_thumbnail_mask/MD635-F131-2016.05.20-03.59.18_MD635_1_0391_prep2_thumbnail_mask.png\" \"/shared/CSHL_data_processed/MD635/MD635_prep2_thumbnail_mask/MD635-F131-2016.05.20-03.59.18_MD635_1_0391_prep2_thumbnail_mask.png\"\n",
      "rm -rf \"/shared/CSHL_data_processed/MD635/MD635_prep2_lossless/MD635-F131-2016.05.20-03.59.18_MD635_1_0391_prep2_lossless.tif\" && mkdir -p \"/shared/CSHL_data_processed/MD635/MD635_prep2_lossless\"\n",
      "aws s3 cp \"s3://mousebrainatlas-data/CSHL_data_processed/MD635/MD635_prep2_lossless/MD635-F131-2016.05.20-03.59.18_MD635_1_0391_prep2_lossless.tif\" \"/shared/CSHL_data_processed/MD635/MD635_prep2_lossless/MD635-F131-2016.05.20-03.59.18_MD635_1_0391_prep2_lossless.tif\"\n"
     ]
    },
    {
     "name": "stderr",
     "output_type": "stream",
     "text": [
      "Load NTB1: 95.42 seconds.\n"
     ]
    },
    {
     "name": "stdout",
     "output_type": "stream",
     "text": [
      "rm -rf \"/shared/CSHL_data_processed/MD635/MD635_prep2_lossless/MD635-F131-2016.05.20-03.59.18_MD635_2_0392_prep2_lossless.tif\" && mkdir -p \"/shared/CSHL_data_processed/MD635/MD635_prep2_lossless\"\n",
      "aws s3 cp \"s3://mousebrainatlas-data/CSHL_data_processed/MD635/MD635_prep2_lossless/MD635-F131-2016.05.20-03.59.18_MD635_2_0392_prep2_lossless.tif\" \"/shared/CSHL_data_processed/MD635/MD635_prep2_lossless/MD635-F131-2016.05.20-03.59.18_MD635_2_0392_prep2_lossless.tif\"\n"
     ]
    },
    {
     "ename": "KeyboardInterrupt",
     "evalue": "",
     "output_type": "error",
     "traceback": [
      "\u001b[0;31m---------------------------------------------------------------------------\u001b[0m",
      "\u001b[0;31mKeyboardInterrupt\u001b[0m                         Traceback (most recent call last)",
      "\u001b[0;32m<ipython-input-16-8455ce61ca1b>\u001b[0m in \u001b[0;36m<module>\u001b[0;34m()\u001b[0m\n\u001b[1;32m     18\u001b[0m \u001b[0;34m\u001b[0m\u001b[0m\n\u001b[1;32m     19\u001b[0m     \u001b[0mt\u001b[0m \u001b[0;34m=\u001b[0m \u001b[0mtime\u001b[0m\u001b[0;34m.\u001b[0m\u001b[0mtime\u001b[0m\u001b[0;34m(\u001b[0m\u001b[0;34m)\u001b[0m\u001b[0;34m\u001b[0m\u001b[0m\n\u001b[0;32m---> 20\u001b[0;31m     \u001b[0mntb2_im\u001b[0m \u001b[0;34m=\u001b[0m \u001b[0mDataManager\u001b[0m\u001b[0;34m.\u001b[0m\u001b[0mload_image_v2\u001b[0m\u001b[0;34m(\u001b[0m\u001b[0mstack\u001b[0m\u001b[0;34m=\u001b[0m\u001b[0mstack\u001b[0m\u001b[0;34m,\u001b[0m \u001b[0msection\u001b[0m\u001b[0;34m=\u001b[0m\u001b[0mntb2_sec\u001b[0m\u001b[0;34m,\u001b[0m \u001b[0mprep_id\u001b[0m\u001b[0;34m=\u001b[0m\u001b[0;36m2\u001b[0m\u001b[0;34m,\u001b[0m \u001b[0mresol\u001b[0m\u001b[0;34m=\u001b[0m\u001b[0;34m'lossless'\u001b[0m\u001b[0;34m)\u001b[0m\u001b[0;34m\u001b[0m\u001b[0m\n\u001b[0m\u001b[1;32m     21\u001b[0m     \u001b[0msys\u001b[0m\u001b[0;34m.\u001b[0m\u001b[0mstderr\u001b[0m\u001b[0;34m.\u001b[0m\u001b[0mwrite\u001b[0m\u001b[0;34m(\u001b[0m\u001b[0;34m'Load NTB2: %.2f seconds.\\n'\u001b[0m \u001b[0;34m%\u001b[0m \u001b[0;34m(\u001b[0m\u001b[0mtime\u001b[0m\u001b[0;34m.\u001b[0m\u001b[0mtime\u001b[0m\u001b[0;34m(\u001b[0m\u001b[0;34m)\u001b[0m\u001b[0;34m-\u001b[0m\u001b[0mt\u001b[0m\u001b[0;34m)\u001b[0m\u001b[0;34m)\u001b[0m\u001b[0;34m\u001b[0m\u001b[0m\n\u001b[1;32m     22\u001b[0m \u001b[0;34m\u001b[0m\u001b[0m\n",
      "\u001b[0;32m/shared/MouseBrainAtlas/utilities/data_manager.pyc\u001b[0m in \u001b[0;36mload_image_v2\u001b[0;34m(stack, prep_id, resol, version, section, fn, data_dir, ext, thumbnail_data_dir)\u001b[0m\n\u001b[1;32m   2137\u001b[0m         \u001b[0;32melse\u001b[0m\u001b[0;34m:\u001b[0m\u001b[0;34m\u001b[0m\u001b[0m\n\u001b[1;32m   2138\u001b[0m             \u001b[0mdownload_from_s3\u001b[0m\u001b[0;34m(\u001b[0m\u001b[0mimg_fp\u001b[0m\u001b[0;34m,\u001b[0m \u001b[0mlocal_root\u001b[0m\u001b[0;34m=\u001b[0m\u001b[0mTHUMBNAIL_DATA_ROOTDIR\u001b[0m\u001b[0;34m)\u001b[0m\u001b[0;34m\u001b[0m\u001b[0m\n\u001b[0;32m-> 2139\u001b[0;31m         \u001b[0;32mreturn\u001b[0m \u001b[0mimread\u001b[0m\u001b[0;34m(\u001b[0m\u001b[0mimg_fp\u001b[0m\u001b[0;34m)\u001b[0m\u001b[0;34m\u001b[0m\u001b[0m\n\u001b[0m\u001b[1;32m   2140\u001b[0m \u001b[0;34m\u001b[0m\u001b[0m\n\u001b[1;32m   2141\u001b[0m     \u001b[0;34m@\u001b[0m\u001b[0mstaticmethod\u001b[0m\u001b[0;34m\u001b[0m\u001b[0m\n",
      "\u001b[0;32m/usr/local/lib/python2.7/dist-packages/skimage/io/_io.pyc\u001b[0m in \u001b[0;36mimread\u001b[0;34m(fname, as_grey, plugin, flatten, **plugin_args)\u001b[0m\n\u001b[1;32m     59\u001b[0m \u001b[0;34m\u001b[0m\u001b[0m\n\u001b[1;32m     60\u001b[0m     \u001b[0;32mwith\u001b[0m \u001b[0mfile_or_url_context\u001b[0m\u001b[0;34m(\u001b[0m\u001b[0mfname\u001b[0m\u001b[0;34m)\u001b[0m \u001b[0;32mas\u001b[0m \u001b[0mfname\u001b[0m\u001b[0;34m:\u001b[0m\u001b[0;34m\u001b[0m\u001b[0m\n\u001b[0;32m---> 61\u001b[0;31m         \u001b[0mimg\u001b[0m \u001b[0;34m=\u001b[0m \u001b[0mcall_plugin\u001b[0m\u001b[0;34m(\u001b[0m\u001b[0;34m'imread'\u001b[0m\u001b[0;34m,\u001b[0m \u001b[0mfname\u001b[0m\u001b[0;34m,\u001b[0m \u001b[0mplugin\u001b[0m\u001b[0;34m=\u001b[0m\u001b[0mplugin\u001b[0m\u001b[0;34m,\u001b[0m \u001b[0;34m**\u001b[0m\u001b[0mplugin_args\u001b[0m\u001b[0;34m)\u001b[0m\u001b[0;34m\u001b[0m\u001b[0m\n\u001b[0m\u001b[1;32m     62\u001b[0m \u001b[0;34m\u001b[0m\u001b[0m\n\u001b[1;32m     63\u001b[0m     \u001b[0;32mif\u001b[0m \u001b[0;32mnot\u001b[0m \u001b[0mhasattr\u001b[0m\u001b[0;34m(\u001b[0m\u001b[0mimg\u001b[0m\u001b[0;34m,\u001b[0m \u001b[0;34m'ndim'\u001b[0m\u001b[0;34m)\u001b[0m\u001b[0;34m:\u001b[0m\u001b[0;34m\u001b[0m\u001b[0m\n",
      "\u001b[0;32m/usr/local/lib/python2.7/dist-packages/skimage/io/manage_plugins.pyc\u001b[0m in \u001b[0;36mcall_plugin\u001b[0;34m(kind, *args, **kwargs)\u001b[0m\n\u001b[1;32m    209\u001b[0m                                (plugin, kind))\n\u001b[1;32m    210\u001b[0m \u001b[0;34m\u001b[0m\u001b[0m\n\u001b[0;32m--> 211\u001b[0;31m     \u001b[0;32mreturn\u001b[0m \u001b[0mfunc\u001b[0m\u001b[0;34m(\u001b[0m\u001b[0;34m*\u001b[0m\u001b[0margs\u001b[0m\u001b[0;34m,\u001b[0m \u001b[0;34m**\u001b[0m\u001b[0mkwargs\u001b[0m\u001b[0;34m)\u001b[0m\u001b[0;34m\u001b[0m\u001b[0m\n\u001b[0m\u001b[1;32m    212\u001b[0m \u001b[0;34m\u001b[0m\u001b[0m\n\u001b[1;32m    213\u001b[0m \u001b[0;34m\u001b[0m\u001b[0m\n",
      "\u001b[0;32m/usr/local/lib/python2.7/dist-packages/skimage/io/_plugins/tifffile_plugin.pyc\u001b[0m in \u001b[0;36mimread\u001b[0;34m(fname, dtype, **kwargs)\u001b[0m\n\u001b[1;32m     29\u001b[0m     \u001b[0;32mwith\u001b[0m \u001b[0mopen\u001b[0m\u001b[0;34m(\u001b[0m\u001b[0mfname\u001b[0m\u001b[0;34m,\u001b[0m \u001b[0;34m'rb'\u001b[0m\u001b[0;34m)\u001b[0m \u001b[0;32mas\u001b[0m \u001b[0mf\u001b[0m\u001b[0;34m:\u001b[0m\u001b[0;34m\u001b[0m\u001b[0m\n\u001b[1;32m     30\u001b[0m         \u001b[0mtif\u001b[0m \u001b[0;34m=\u001b[0m \u001b[0mTiffFile\u001b[0m\u001b[0;34m(\u001b[0m\u001b[0mf\u001b[0m\u001b[0;34m)\u001b[0m\u001b[0;34m\u001b[0m\u001b[0m\n\u001b[0;32m---> 31\u001b[0;31m         \u001b[0;32mreturn\u001b[0m \u001b[0mtif\u001b[0m\u001b[0;34m.\u001b[0m\u001b[0masarray\u001b[0m\u001b[0;34m(\u001b[0m\u001b[0;34m**\u001b[0m\u001b[0mkwargs\u001b[0m\u001b[0;34m)\u001b[0m\u001b[0;34m\u001b[0m\u001b[0m\n\u001b[0m",
      "\u001b[0;32m/usr/local/lib/python2.7/dist-packages/skimage/external/tifffile/tifffile.pyc\u001b[0m in \u001b[0;36masarray\u001b[0;34m(self, key, series, memmap, tempdir)\u001b[0m\n\u001b[1;32m   1500\u001b[0m                                      colormapped=False, squeeze=False)\n\u001b[1;32m   1501\u001b[0m         \u001b[0;32melif\u001b[0m \u001b[0mlen\u001b[0m\u001b[0;34m(\u001b[0m\u001b[0mpages\u001b[0m\u001b[0;34m)\u001b[0m \u001b[0;34m==\u001b[0m \u001b[0;36m1\u001b[0m\u001b[0;34m:\u001b[0m\u001b[0;34m\u001b[0m\u001b[0m\n\u001b[0;32m-> 1502\u001b[0;31m             \u001b[0mresult\u001b[0m \u001b[0;34m=\u001b[0m \u001b[0mpages\u001b[0m\u001b[0;34m[\u001b[0m\u001b[0;36m0\u001b[0m\u001b[0;34m]\u001b[0m\u001b[0;34m.\u001b[0m\u001b[0masarray\u001b[0m\u001b[0;34m(\u001b[0m\u001b[0mmemmap\u001b[0m\u001b[0;34m=\u001b[0m\u001b[0mmemmap\u001b[0m\u001b[0;34m)\u001b[0m\u001b[0;34m\u001b[0m\u001b[0m\n\u001b[0m\u001b[1;32m   1503\u001b[0m         \u001b[0;32melif\u001b[0m \u001b[0mself\u001b[0m\u001b[0;34m.\u001b[0m\u001b[0mis_ome\u001b[0m\u001b[0;34m:\u001b[0m\u001b[0;34m\u001b[0m\u001b[0m\n\u001b[1;32m   1504\u001b[0m             \u001b[0;32massert\u001b[0m \u001b[0;32mnot\u001b[0m \u001b[0mself\u001b[0m\u001b[0;34m.\u001b[0m\u001b[0mis_indexed\u001b[0m\u001b[0;34m,\u001b[0m \u001b[0;34m\"color mapping disabled for ome-tiff\"\u001b[0m\u001b[0;34m\u001b[0m\u001b[0m\n",
      "\u001b[0;32m/usr/local/lib/python2.7/dist-packages/skimage/external/tifffile/tifffile.pyc\u001b[0m in \u001b[0;36masarray\u001b[0;34m(self, squeeze, colormapped, rgbonly, scale_mdgel, memmap, reopen, maxsize)\u001b[0m\n\u001b[1;32m   2609\u001b[0m                     \u001b[0;32mif\u001b[0m \u001b[0mlsb2msb\u001b[0m\u001b[0;34m:\u001b[0m\u001b[0;34m\u001b[0m\u001b[0m\n\u001b[1;32m   2610\u001b[0m                         \u001b[0mstrip\u001b[0m \u001b[0;34m=\u001b[0m \u001b[0mreverse_bitorder\u001b[0m\u001b[0;34m(\u001b[0m\u001b[0mstrip\u001b[0m\u001b[0;34m)\u001b[0m\u001b[0;34m\u001b[0m\u001b[0m\n\u001b[0;32m-> 2611\u001b[0;31m                     \u001b[0mstrip\u001b[0m \u001b[0;34m=\u001b[0m \u001b[0mdecompress\u001b[0m\u001b[0;34m(\u001b[0m\u001b[0mstrip\u001b[0m\u001b[0;34m)\u001b[0m\u001b[0;34m\u001b[0m\u001b[0m\n\u001b[0m\u001b[1;32m   2612\u001b[0m                     \u001b[0mstrip\u001b[0m \u001b[0;34m=\u001b[0m \u001b[0munpack\u001b[0m\u001b[0;34m(\u001b[0m\u001b[0mstrip\u001b[0m\u001b[0;34m)\u001b[0m\u001b[0;34m\u001b[0m\u001b[0m\n\u001b[1;32m   2613\u001b[0m                     size = min(result.size, strip.size, strip_size,\n",
      "\u001b[0;31mKeyboardInterrupt\u001b[0m: "
     ]
    }
   ],
   "source": [
    "# ntb1_to_ntb2_mapping_allPairs_allRegions = defaultdict(list)\n",
    "# bbox_allPairs_allRegions = defaultdict(list)\n",
    "\n",
    "# for ntb1_sec, ntb2_sec in compare_pairs[40:41]:\n",
    "for ntb1_sec, ntb2_sec in compare_pairs[::10]:\n",
    "    \n",
    "    sys.stderr.write('ntb %d, ntb %d\\n' % (ntb1_sec, ntb2_sec))\n",
    "    \n",
    "    ntb_matched_values_all_examples_one_section = []\n",
    "    region_bboxes_all_examples_one_section = []\n",
    "    \n",
    "    ntb1_tb_mask = DataManager.load_thumbnail_mask_v3(stack=stack, section=ntb1_sec, prep_id=2)\n",
    "    w, h = metadata_cache['image_shape'][stack]\n",
    "\n",
    "    t = time.time()\n",
    "    ntb1_im = DataManager.load_image_v2(stack=stack, section=ntb1_sec, prep_id=2, resol='lossless')\n",
    "    sys.stderr.write('Load NTB1: %.2f seconds.\\n' % (time.time()-t))\n",
    "\n",
    "    t = time.time()\n",
    "    ntb2_im = DataManager.load_image_v2(stack=stack, section=ntb2_sec, prep_id=2, resol='lossless')\n",
    "    sys.stderr.write('Load NTB2: %.2f seconds.\\n' % (time.time()-t))\n",
    "    \n",
    "    for region_id in range(10):\n",
    "        while True:\n",
    "            region_w = 2000\n",
    "            region_h = 2000\n",
    "            region_x = np.random.randint(0, w - region_w, 1)[0]\n",
    "            region_y = np.random.randint(0, h - region_h, 1)[0]\n",
    "            \n",
    "            tb_region_xmin = region_x / 32\n",
    "            tb_region_xmax = (region_x + region_w) / 32\n",
    "            tb_region_ymin = region_y / 32\n",
    "            tb_region_ymax = (region_y + region_h) / 32\n",
    "            \n",
    "            if np.all(np.r_[ntb1_tb_mask[tb_region_ymin, tb_region_xmin],\n",
    "            ntb1_tb_mask[tb_region_ymin, tb_region_xmax],\n",
    "            ntb1_tb_mask[tb_region_ymax, tb_region_xmin],\n",
    "            ntb1_tb_mask[tb_region_ymax, tb_region_xmax]]):\n",
    "                break\n",
    "        \n",
    "        print \"Region %d: x=%d, y=%d, w=%d, h=%d\" % (region_id, region_x, region_y, region_w, region_h)\n",
    "    \n",
    "#     for region_id in range(1):\n",
    "#         region_x = 233 * 32\n",
    "#         region_y = 299 * 32\n",
    "#         region_w = 124 * 32\n",
    "#         region_h = 98 * 32\n",
    "\n",
    "        # Checked a few sections, maximal intensity value in blue channel is less than 5000.\n",
    "        ntb_blue_bins = np.arange(5001)\n",
    "    \n",
    "        ####\n",
    "        ntb1_blue_region = ntb1_im[region_y:region_y+region_h, region_x:region_x+region_w, 2].astype(np.int)\n",
    "#         ntb1_blue_hist = np.histogram(ntb1_blue_region.flatten(), bins=np.r_[ntb_blue_bins, 5001])[0]\n",
    "        ####\n",
    "        ntb2_blue_region = ntb2_im[region_y:region_y+region_h, region_x:region_x+region_w, 2].astype(np.int)\n",
    "#         ntb2_blue_hist = np.histogram(ntb2_blue_region.flatten(), bins=np.r_[ntb_blue_bins, 5001])[0]\n",
    "\n",
    "        ###############\n",
    "\n",
    "        # Matched mapping    \n",
    "        ntb2_vals, ntb1_vals = match_histogram(ntb2_blue_region, ntb1_blue_region)\n",
    "        ntb2_to_ntb1_mapping = np.interp(ntb_blue_bins, ntb2_vals, ntb1_vals, left=np.nan, right=np.nan)\n",
    "#         ntb2_to_ntb1_mapping = np.round(ntb2_to_ntb1_mapping).astype(np.int)\n",
    "\n",
    "#         ntb2_region_normalized = ntb2_to_ntb1_mapping[ntb2_blue_region]\n",
    "#         ntb2_blue_normalized_hist = np.histogram(ntb2_region_normalized.flatten(), bins=np.r_[ntb_blue_bins, 5001])[0]\n",
    "    \n",
    "        ######################\n",
    "    \n",
    "        ntb_matched_values_all_examples_one_section.append(ntb2_to_ntb1_mapping)\n",
    "        region_bboxes_all_examples_one_section.append((region_x, region_y, region_w, region_h))\n",
    "    \n",
    "#         ntb1_to_ntb2_mapping_allPairs_allRegions[(ntb1_sec, ntb2_sec)].append(ntb1_to_ntb2_mapping)\n",
    "#         bbox_allPairs_allRegions[(ntb1_sec, ntb2_sec)].append((region_x, region_y, region_w, region_h))\n",
    "        \n",
    "        ######################\n",
    "        \n",
    "#         plt.figure()\n",
    "#         plt.plot(ntb_blue_bins, ntb1_to_ntb2_mapping);\n",
    "#         plt.xlim((0,2000));\n",
    "#         plt.axis('equal');\n",
    "#         plt.show();\n",
    "        \n",
    "        #####################\n",
    "        \n",
    "#         fig, axes = plt.subplots(nrows=3, sharex=True, figsize=(20,6))\n",
    "\n",
    "#         axes[0].bar(ntb_blue_bins, np.log(ntb1_blue_hist));\n",
    "#         axes[0].set_ylabel('Log Number of pixels');\n",
    "#         axes[0].set_title('Neurotrace Blue 1 inverted Intensity Histogram');\n",
    "\n",
    "#         axes[1].bar(ntb_blue_bins, np.log(ntb1_blue_normalized_hist));\n",
    "#         axes[1].set_ylabel('Log Number of pixels');\n",
    "#         axes[1].set_title('Neurotrace Blue 1 normalized inverted Intensity Histogram');\n",
    "        \n",
    "#         axes[2].bar(ntb_blue_bins, np.log(ntb2_blue_hist));\n",
    "#         axes[2].set_ylabel('Log Number of pixels');\n",
    "#         axes[2].set_title('Neurotrace Blue 2 inverted Intensity Histogram');\n",
    "\n",
    "#         plt.show();\n",
    "        \n",
    "        #######################\n",
    "    \n",
    "#         # Default mapping from NTB to NISSL\n",
    "#         intensity_mapping_fp = DataManager.get_ntb_to_nissl_intensity_profile_mapping_filepath()\n",
    "#         download_from_s3(intensity_mapping_fp)\n",
    "#         default_ntb_to_nissl_mapping = np.load(intensity_mapping_fp)\n",
    "        \n",
    "#         ###########\n",
    "#         ntb1_region_normalized_default = np.round(default_ntb_to_nissl_mapping[ntb1_blue_region]).astype(np.uint8)        \n",
    "#         ntb1_blue_normalized_bins_default = np.arange(0, 257)\n",
    "#         ntb1_blue_normalized_hist_default = np.histogram(ntb1_region_normalized_default.flatten(), bins=np.r_[ntb1_blue_normalized_bins_default, 5001])[0]\n",
    "#         ###########\n",
    "#         ntb2_region_normalized_default = np.round(default_ntb_to_nissl_mapping[ntb2_blue_region]).astype(np.uint8)        \n",
    "#         ntb2_blue_normalized_bins_default = np.arange(0, 257)\n",
    "#         ntb2_blue_normalized_hist_default = np.histogram(ntb1_region_normalized_default.flatten(), bins=np.r_[ntb2_blue_normalized_bins_default, 5001])[0]\n",
    "#         ###########\n",
    "#         ntb1matched_region_normalized_default = np.round(default_ntb_to_nissl_mapping[ntb1_region_normalized]).astype(np.uint8)\n",
    "#         ntb1matched_blue_normalized_bins_default = np.arange(0, 257)\n",
    "#         ntb1matched_blue_normalized_hist_default = np.histogram(ntb1matched_region_normalized_default.flatten(), bins=np.r_[ntb1matched_blue_normalized_bins_default, 5001])[0]      \n",
    "#         ##################\n",
    "        \n",
    "#         display_images_in_grids([ntb1_region_normalized_default, ntb1matched_region_normalized_default, ntb2_region_normalized_default], nc=3, \n",
    "#                         cmap=plt.cm.gray, vmin=0, vmax=255, titles=['ntb1',  'ntb1 matched to mtb2', 'ntb2'])\n",
    "\n",
    "#         display_images_in_grids([ntb1_blue_region, ntb2_blue_region, ntb1_region_normalized], 3, vmin=0, vmax=3000)\n",
    "\n",
    "\n",
    "    fp = os.path.join(THUMBNAIL_DATA_DIR, stack, stack + '_intensity_mapping', '%s_to_%s_intensity_mapping_all_regions.npy' % (metadata_cache['sections_to_filenames'][stack][ntb2_sec], metadata_cache['sections_to_filenames'][stack][ntb1_sec]))\n",
    "    create_parent_dir_if_not_exists(fp)\n",
    "    np.save(fp, ntb_matched_values_all_examples_one_section)\n",
    "    upload_to_s3(fp, local_root=THUMBNAIL_DATA_ROOTDIR)\n",
    "        \n",
    "    fp = os.path.join(THUMBNAIL_DATA_DIR, stack, stack + '_intensity_mapping', '%s_to_%s_region_bboxes.npy' % (metadata_cache['sections_to_filenames'][stack][ntb2_sec], metadata_cache['sections_to_filenames'][stack][ntb1_sec]))\n",
    "    np.save(fp,  np.asarray(region_bboxes_all_examples_one_section))\n",
    "    upload_to_s3(fp, local_root=THUMBNAIL_DATA_ROOTDIR)"
   ]
  },
  {
   "cell_type": "code",
   "execution_count": null,
   "metadata": {},
   "outputs": [],
   "source": [
    "for (ntb1_sec, ntb2_sec), mappings in sorted(ntb1_to_ntb2_mapping_allPairs_allRegions.items()):\n",
    "    plt.figure(figsize=(10,10));\n",
    "    plt.plot(np.array(mappings).T);\n",
    "    plt.plot(np.arange(0,2000), np.arange(0,2000), c='k');\n",
    "    plt.title(\"%d, %d\" % (ntb1_sec, ntb2_sec));\n",
    "    plt.xlabel('NTB1 intensity');\n",
    "    plt.ylabel('NTB1 matched to NTB2 intensity');\n",
    "#     plt.xticks([0,500,1000]);\n",
    "    plt.xlim([0,2000]);\n",
    "    plt.ylim([0,2000]);\n",
    "    plt.axis('equal');\n",
    "    plt.show();"
   ]
  },
  {
   "cell_type": "markdown",
   "metadata": {},
   "source": [
    "# Scanning windows"
   ]
  },
  {
   "cell_type": "code",
   "execution_count": null,
   "metadata": {},
   "outputs": [],
   "source": [
    "region_size = 2000\n",
    "spacing = 500"
   ]
  },
  {
   "cell_type": "code",
   "execution_count": null,
   "metadata": {
    "scrolled": true
   },
   "outputs": [],
   "source": [
    "ntb1_to_ntb2_mapping_allPairs_allRegions = defaultdict(list)\n",
    "bbox_allPairs_allRegions = defaultdict(list)\n",
    "\n",
    "for ntb1_sec, ntb2_sec in compare_pairs[144:145]:\n",
    "# for ntb1_sec, ntb2_sec in compare_pairs:\n",
    "    \n",
    "    sys.stderr.write('ntb %d, ntb %d\\n' % (ntb1_sec, ntb2_sec))\n",
    "    \n",
    "    ntb_matched_values_all_examples_one_section = []\n",
    "    region_bboxes_all_examples_one_section = []\n",
    "    \n",
    "    ntb1_tb_mask = DataManager.load_thumbnail_mask_v3(stack=stack, section=ntb1_sec, prep_id=2)\n",
    "    w, h = metadata_cache['image_shape'][stack]\n",
    "\n",
    "    t = time.time()\n",
    "    ntb1_im = DataManager.load_image_v2(stack=stack, section=ntb1_sec, prep_id=2, resol='lossless')\n",
    "    sys.stderr.write('Load NTB1: %.2f seconds.\\n' % (time.time()-t))\n",
    "\n",
    "    t = time.time()\n",
    "    ntb2_im = DataManager.load_image_v2(stack=stack, section=ntb2_sec, prep_id=2, resol='lossless')\n",
    "    sys.stderr.write('Load NTB2: %.2f seconds.\\n' % (time.time()-t))\n",
    "    \n",
    "    region_w = region_size\n",
    "    region_h = region_size\n",
    "    for region_x in np.arange(0, w - region_w, spacing):\n",
    "        for region_y in np.arange(0, h - region_h, spacing):\n",
    "            tb_region_xmin = region_x / 32\n",
    "            tb_region_xmax = (region_x + region_w) / 32\n",
    "            tb_region_ymin = region_y / 32\n",
    "            tb_region_ymax = (region_y + region_h) / 32\n",
    "\n",
    "            if np.all(np.r_[ntb1_tb_mask[tb_region_ymin, tb_region_xmin],\n",
    "                            ntb1_tb_mask[tb_region_ymin, tb_region_xmax],\n",
    "                            ntb1_tb_mask[tb_region_ymax, tb_region_xmin],\n",
    "                            ntb1_tb_mask[tb_region_ymax, tb_region_xmax]]):\n",
    "                bbox_allPairs_allRegions[(ntb1_sec, ntb2_sec)].append((region_x, region_y, region_w, region_h))\n",
    "    print len(bbox_allPairs_allRegions[(ntb1_sec, ntb2_sec)]), 'regions'\n",
    "    \n",
    "    for (region_x, region_y, region_w, region_h) in bbox_allPairs_allRegions[(ntb1_sec, ntb2_sec)]:\n",
    "        \n",
    "        sys.stderr.write('%d %d %d %d\\n' % (region_x, region_y, region_w, region_h))\n",
    "\n",
    "        # Checked a few sections, maximal intensity value in blue channel is less than 5000.\n",
    "        ntb_blue_bins = np.arange(5001)\n",
    "    \n",
    "        ####\n",
    "        ntb1_blue_region = ntb1_im[region_y:region_y+region_h, region_x:region_x+region_w, 2].astype(np.int)\n",
    "        ntb1_blue_hist = np.histogram(ntb1_blue_region.flatten(), bins=np.r_[ntb_blue_bins, 5001])[0]\n",
    "        ####\n",
    "        ntb2_blue_region = ntb2_im[region_y:region_y+region_h, region_x:region_x+region_w, 2].astype(np.int)\n",
    "        ntb2_blue_hist = np.histogram(ntb2_blue_region.flatten(), bins=np.r_[ntb_blue_bins, 5001])[0]\n",
    "\n",
    "        ###############\n",
    "\n",
    "        # Matched mapping    \n",
    "        ntb1_vals, ntb2_vals = match_histogram(ntb1_blue_region, ntb2_blue_region)\n",
    "        ntb1_to_ntb2_mapping = np.interp(ntb_blue_bins, ntb1_vals, ntb2_vals)\n",
    "        ntb1_to_ntb2_mapping = np.round(ntb1_to_ntb2_mapping).astype(np.int)\n",
    "\n",
    "        ntb1_region_normalized = ntb1_to_ntb2_mapping[ntb1_blue_region]\n",
    "        ntb1_blue_normalized_hist = np.histogram(ntb1_region_normalized.flatten(), bins=np.r_[ntb_blue_bins, 5001])[0]\n",
    "    \n",
    "        ######################\n",
    "    \n",
    "        ntb1_to_ntb2_mapping_allPairs_allRegions[(ntb1_sec, ntb2_sec)].append(ntb1_to_ntb2_mapping)\n",
    "#         bbox_allPairs_allRegions[(ntb1_sec, ntb2_sec)].append((region_x, region_y, region_w, region_h))\n",
    "        \n",
    "        ######################"
   ]
  },
  {
   "cell_type": "code",
   "execution_count": null,
   "metadata": {},
   "outputs": [],
   "source": [
    "from scipy.ndimage.interpolation import map_coordinates\n",
    "from mpl_toolkits.axes_grid1 import make_axes_locatable"
   ]
  },
  {
   "cell_type": "code",
   "execution_count": null,
   "metadata": {
    "scrolled": true
   },
   "outputs": [],
   "source": [
    "for (ntb1_sec, ntb2_sec) in ntb1_to_ntb2_mapping_allPairs_allRegions.keys():\n",
    "    \n",
    "    mapping_distributions = {}\n",
    "    \n",
    "    for v in np.arange(0,2000,100):\n",
    "        print v\n",
    "        vals_allRegions = np.array(ntb1_to_ntb2_mapping_allPairs_allRegions[(ntb1_sec, ntb2_sec)])[:,v]\n",
    "        xy_allRegions = np.array(bbox_allPairs_allRegions[(ntb1_sec, ntb2_sec)])[:, :2]\n",
    "        cxy_allRegions = xy_allRegions + np.array([1000,1000])\n",
    "\n",
    "        downscale = 3\n",
    "\n",
    "        downscaled_grid_y = np.arange(0, h, downscale)\n",
    "        downscaled_grid_x = np.arange(0, w, downscale)\n",
    "        downscaled_ny = len(downscaled_grid_y)\n",
    "        downscaled_nx = len(downscaled_grid_x)\n",
    "\n",
    "        half_size = region_size / 2\n",
    "\n",
    "        f_grid = np.zeros(((h-half_size)/spacing+1, (w-half_size)/spacing+1))\n",
    "        a = (cxy_allRegions - half_size)/spacing\n",
    "        f_grid[a[:,1], a[:,0]] = vals_allRegions\n",
    "\n",
    "        yinterps = (downscaled_grid_y - half_size)/float(spacing)\n",
    "        xinterps = (downscaled_grid_x - half_size)/float(spacing)\n",
    "\n",
    "        points_y, points_x = np.broadcast_arrays(yinterps.reshape(-1,1), xinterps)\n",
    "        coord = np.c_[points_y.flat, points_x.flat]\n",
    "        f_interp = map_coordinates(f_grid, coord.T, order=3)\n",
    "        f_interp_2d = f_interp.reshape((downscaled_ny, downscaled_nx))\n",
    "        \n",
    "        mapping_distributions[v] = f_interp_2d\n",
    "        \n",
    "        #############\n",
    "        \n",
    "#         plt.figure(figsize=(20, 20));\n",
    "#         ax = plt.gca()\n",
    "#         im = ax.imshow(f_interp_2d, cmap=plt.cm.jet);\n",
    "#         divider = make_axes_locatable(ax)\n",
    "#         cax = divider.append_axes(\"right\", size=\"5%\", pad=0.05)\n",
    "#         plt.colorbar(im, cax=cax);\n",
    "#         plt.show();"
   ]
  },
  {
   "cell_type": "code",
   "execution_count": null,
   "metadata": {},
   "outputs": [],
   "source": [
    "v = 1000\n",
    "\n",
    "plt.figure(figsize=(20, 20));\n",
    "ax = plt.gca()\n",
    "im = ax.imshow(mapping_distributions[v], cmap=plt.cm.jet);\n",
    "divider = make_axes_locatable(ax)\n",
    "cax = divider.append_axes(\"right\", size=\"5%\", pad=0.05)\n",
    "plt.colorbar(im, cax=cax);\n",
    "plt.title('mapped-to intensity for %d' % v)\n",
    "plt.show();"
   ]
  },
  {
   "cell_type": "markdown",
   "metadata": {},
   "source": [
    "# Compare different normalization strategies"
   ]
  },
  {
   "cell_type": "code",
   "execution_count": null,
   "metadata": {},
   "outputs": [],
   "source": [
    "stack = 'MD661'\n",
    "sec2fn = metadata_cache['sections_to_filenames'][stack]"
   ]
  },
  {
   "cell_type": "code",
   "execution_count": null,
   "metadata": {},
   "outputs": [],
   "source": [
    "nissl_sections = [sec for sec in metadata_cache['valid_sections'][stack] if sec2fn[sec].split('-')[1][0] == 'N']\n",
    "ntb_sections = [sec for sec in metadata_cache['valid_sections'][stack] if sec2fn[sec].split('-')[1][0] == 'F']"
   ]
  },
  {
   "cell_type": "code",
   "execution_count": null,
   "metadata": {},
   "outputs": [],
   "source": [
    "# Generate ntb-ntb pairs.\n",
    "\n",
    "compare_pairs = []\n",
    "for ntb_sec in ntb_sections:\n",
    "    for i in range(1, 10):\n",
    "        closest_ntb_sec = ntb_sec + i\n",
    "        if closest_ntb_sec in ntb_sections:\n",
    "            break\n",
    "    compare_pairs.append((ntb_sec, closest_ntb_sec))"
   ]
  },
  {
   "cell_type": "code",
   "execution_count": null,
   "metadata": {},
   "outputs": [],
   "source": [
    "region_size = 2000\n",
    "spacing = 10"
   ]
  },
  {
   "cell_type": "code",
   "execution_count": null,
   "metadata": {
    "scrolled": true
   },
   "outputs": [],
   "source": [
    "bbox_allPairs_allRegions = defaultdict(list)\n",
    "\n",
    "for ntb_sec in metadata_cache['valid_sections'][stack][100:101]:\n",
    "    \n",
    "    ntb_tb_mask = DataManager.load_thumbnail_mask_v3(stack=stack, section=ntb1_sec, prep_id=2)\n",
    "    w, h = metadata_cache['image_shape'][stack]\n",
    "\n",
    "    t = time.time()\n",
    "    ntb_im = DataManager.load_image_v2(stack=stack, section=ntb_sec, prep_id=2, resol='lossless')\n",
    "    sys.stderr.write('Load NTB: %.2f seconds.\\n' % (time.time()-t))\n",
    "\n",
    "    region_w = region_size\n",
    "    region_h = region_size\n",
    "    region_x = np.random.choice(range(0, w - region_w, spacing))\n",
    "    region_y = np.random.choice(range(0, h - region_h, spacing))\n",
    "#     for region_x in np.arange(0, w- region_w, spacing):\n",
    "#         for region_y in np.arange(0, h - region_h, spacing):\n",
    "    tb_region_xmin = region_x / 32\n",
    "    tb_region_xmax = (region_x + region_w) / 32\n",
    "    tb_region_ymin = region_y / 32\n",
    "    tb_region_ymax = (region_y + region_h) / 32\n",
    "\n",
    "    if np.all(np.r_[ntb_tb_mask[tb_region_ymin, tb_region_xmin],\n",
    "                    ntb_tb_mask[tb_region_ymin, tb_region_xmax],\n",
    "                    ntb_tb_mask[tb_region_ymax, tb_region_xmin],\n",
    "                    ntb_tb_mask[tb_region_ymax, tb_region_xmax]]):\n",
    "        bbox_allPairs_allRegions[ntb_sec].append((region_x, region_y, region_w, region_h))"
   ]
  },
  {
   "cell_type": "code",
   "execution_count": null,
   "metadata": {},
   "outputs": [],
   "source": [
    "for (region_x, region_y, region_w, region_h) in bbox_allPairs_allRegions[ntb_sec]:\n",
    "\n",
    "    sys.stderr.write('%d %d %d %d\\n' % (region_x, region_y, region_w, region_h))\n",
    "    ntb_blue_region = ntb_im[region_y:region_y+region_h, region_x:region_x+region_w, 2].astype(np.int)"
   ]
  },
  {
   "cell_type": "code",
   "execution_count": null,
   "metadata": {
    "scrolled": true
   },
   "outputs": [],
   "source": [
    "for low in range(0, 1000, 100):\n",
    "    for high in range(100, 1000, 100):\n",
    "        if low < high:\n",
    "            nbt_region_normalized = 255 - rescale_intensity(ntb_blue_region, in_range=(0, high), out_range=np.uint8)\n",
    "\n",
    "            plt.figure(figsize=(20,20));\n",
    "            plt.imshow(nbt_region_normalized, vmin=0, vmax=255, cmap=plt.cm.gray);\n",
    "            plt.title('Low %d, high %d' % (low, high));\n",
    "            plt.show();"
   ]
  },
  {
   "cell_type": "code",
   "execution_count": null,
   "metadata": {},
   "outputs": [],
   "source": [
    "plt.figure(figsize=(20,20));\n",
    "plt.imshow(region_nonlin, plt.cm.gray);\n",
    "plt.title('Neurotrace Image (nonlinearly Normalized), %s' % fn);\n",
    "plt.axis('off');\n",
    "plt.show();"
   ]
  },
  {
   "cell_type": "markdown",
   "metadata": {},
   "source": [
    "# Whole-image histogram"
   ]
  },
  {
   "cell_type": "code",
   "execution_count": null,
   "metadata": {
    "scrolled": true
   },
   "outputs": [],
   "source": [
    "info = {}\n",
    "for sec in range(first_sec, last_sec+1):\n",
    "    print sec\n",
    "    fn = sec2fn[sec]\n",
    "#     im = imread('/home/yuncong/csd395/CSHL_data/MD657_lossy_tif/%s_lossy.jp2.tif' % fn)[..., :3]\n",
    "    green = im[..., 1]\n",
    "    gf = green.flatten()\n",
    "    blue = im[..., 2]\n",
    "    bf = blue.flatten()\n",
    "    info[sec] = {'gmax': green.max(),\n",
    "    'bmax': blue.max(),\n",
    "    'g99.99': np.percentile(gf, 99.99),\n",
    "    'g99.999': np.percentile(gf, 99.999),\n",
    "    'g99.9999': np.percentile(gf, 99.9999),\n",
    "    'b99.99': np.percentile(bf, 99.99),\n",
    "    'b99.999': np.percentile(bf, 99.999),\n",
    "    'b99.9999': np.percentile(bf, 99.9999)}"
   ]
  },
  {
   "cell_type": "code",
   "execution_count": null,
   "metadata": {},
   "outputs": [],
   "source": [
    "d = DataFrame(info).T"
   ]
  },
  {
   "cell_type": "code",
   "execution_count": null,
   "metadata": {},
   "outputs": [],
   "source": [
    "plt.figure();\n",
    "plt.stem(d['b99.9999'], markerfmt='ro', label='99.9999');\n",
    "plt.stem(d['b99.999'], markerfmt='go', label='99.999');\n",
    "plt.stem(d['b99.99'], markerfmt='bo', label='99.99');\n",
    "plt.title('Blue channel percentile');\n",
    "plt.legend();\n",
    "\n",
    "plt.figure();\n",
    "plt.stem(d['g99.9999'], markerfmt='ro', label='99.9999');\n",
    "plt.stem(d['g99.999'], markerfmt='go', label='99.999');\n",
    "plt.stem(d['g99.99'], markerfmt='bo', label='99.99');\n",
    "plt.title('Green channel percentile');\n",
    "plt.legend();"
   ]
  },
  {
   "cell_type": "markdown",
   "metadata": {},
   "source": [
    "# Contrast Stretch Neurotrace Blue"
   ]
  },
  {
   "cell_type": "code",
   "execution_count": null,
   "metadata": {},
   "outputs": [],
   "source": [
    "from skimage.exposure import rescale_intensity"
   ]
  },
  {
   "cell_type": "code",
   "execution_count": null,
   "metadata": {},
   "outputs": [],
   "source": [
    "red = im[..., 0]\n",
    "green = im[..., 1]\n",
    "blue = im[..., 2]"
   ]
  },
  {
   "cell_type": "code",
   "execution_count": null,
   "metadata": {},
   "outputs": [],
   "source": [
    "im.shape"
   ]
  },
  {
   "cell_type": "code",
   "execution_count": null,
   "metadata": {},
   "outputs": [],
   "source": [
    "ys = range(1000, im.shape[0]-2000, 2000)\n",
    "xs = range(1000, im.shape[1]-2000, 2000)\n",
    "\n",
    "fig, axes = plt.subplots(int(np.ceil(len(ys)*len(xs)/5)), 5, sharex=True, sharey=True, figsize=(20, 10))\n",
    "axes = axes.flatten()\n",
    "\n",
    "c = 0\n",
    "for yi, y in enumerate(ys):\n",
    "    for xi, x in enumerate(xs):\n",
    "        b = blue[y:y+1000,x:x+1000]\n",
    "        count, left_edges = np.histogram(b.flatten(), bins=np.arange(b.min(), b.max()))\n",
    "        axes[c].bar(left_edges[:-1], np.log(count), width=.1);\n",
    "        c += 1\n",
    "        \n",
    "plt.show();"
   ]
  },
  {
   "cell_type": "code",
   "execution_count": null,
   "metadata": {
    "scrolled": false
   },
   "outputs": [],
   "source": [
    "ys = range(1000, im.shape[0]-2000, 2000)\n",
    "xs = range(1000, im.shape[1]-2000, 2000)\n",
    "\n",
    "fig, axes = plt.subplots(len(ys), len(xs), sharex=True, sharey=True, figsize=(20, 10))\n",
    "\n",
    "for yi, y in enumerate(ys):\n",
    "    for xi, x in enumerate(xs):\n",
    "        b = blue[y:y+1000,x:x+1000]\n",
    "        count, left_edges = np.histogram(b.flatten(), bins=np.arange(b.min(), b.max()))\n",
    "        axes[yi][xi].bar(left_edges[:-1], np.log(count), width=.1);\n",
    "        \n",
    "plt.show();"
   ]
  },
  {
   "cell_type": "code",
   "execution_count": null,
   "metadata": {},
   "outputs": [],
   "source": [
    "im.shape"
   ]
  },
  {
   "cell_type": "code",
   "execution_count": null,
   "metadata": {},
   "outputs": [],
   "source": [
    "y = 7000\n",
    "x = 13000\n",
    "b = blue[y:y+1000,x:x+1000]\n",
    "count, left_edges = np.histogram(b.flatten(), bins=np.arange(b.min(), b.max()))\n",
    "plt.bar(left_edges[:-1], np.log(count), width=.1);\n",
    "plt.show();"
   ]
  },
  {
   "cell_type": "code",
   "execution_count": null,
   "metadata": {},
   "outputs": [],
   "source": [
    "x = 27232\n",
    "y = 14752\n",
    "w = 3552\n",
    "h = 2784"
   ]
  },
  {
   "cell_type": "code",
   "execution_count": null,
   "metadata": {},
   "outputs": [],
   "source": [
    "imin_red = 0\n",
    "imax_red = 400"
   ]
  },
  {
   "cell_type": "code",
   "execution_count": null,
   "metadata": {},
   "outputs": [],
   "source": [
    "red_out = rescale_intensity(im[y:y+h, x:x+w], in_range=(imin_red, imax_red), out_range=np.uint8)"
   ]
  },
  {
   "cell_type": "code",
   "execution_count": null,
   "metadata": {},
   "outputs": [],
   "source": [
    "im = imread(args.input_fp)[..., :3]\n",
    "im_out = rescale_intensity(im, in_range=(args.imin, args.imax), out_range=np.uint8)\n",
    "imsave(args.output_fp, im_out)"
   ]
  },
  {
   "cell_type": "code",
   "execution_count": null,
   "metadata": {},
   "outputs": [],
   "source": [
    "display_image(red_out)"
   ]
  },
  {
   "cell_type": "code",
   "execution_count": null,
   "metadata": {},
   "outputs": [],
   "source": [
    "imin_blue = 0\n",
    "imax_blue = 400"
   ]
  },
  {
   "cell_type": "code",
   "execution_count": null,
   "metadata": {},
   "outputs": [],
   "source": [
    "blue_out = rescale_intensity(blue[y:y+h, x:x+w], in_range=(imin_blue, imax_blue), out_range=np.uint8)"
   ]
  },
  {
   "cell_type": "code",
   "execution_count": null,
   "metadata": {},
   "outputs": [],
   "source": [
    "display_image(blue_out)"
   ]
  },
  {
   "cell_type": "code",
   "execution_count": null,
   "metadata": {},
   "outputs": [],
   "source": [
    "imin_green = 0\n",
    "imax_green = 400"
   ]
  },
  {
   "cell_type": "code",
   "execution_count": null,
   "metadata": {},
   "outputs": [],
   "source": [
    "green_out = rescale_intensity(green[y:y+h, x:x+w], in_range=(imin_green, imax_green), out_range=np.uint8)"
   ]
  },
  {
   "cell_type": "code",
   "execution_count": null,
   "metadata": {},
   "outputs": [],
   "source": [
    "display_image(green_out)"
   ]
  },
  {
   "cell_type": "code",
   "execution_count": null,
   "metadata": {},
   "outputs": [],
   "source": [
    "from skimage.exposure import adjust_gamma"
   ]
  },
  {
   "cell_type": "code",
   "execution_count": null,
   "metadata": {},
   "outputs": [],
   "source": [
    "blue_out_gamma = adjust_gamma(blue_out, .5)"
   ]
  },
  {
   "cell_type": "code",
   "execution_count": null,
   "metadata": {},
   "outputs": [],
   "source": [
    "display_image(blue_out_gamma[8000:11000, 8000:11000])"
   ]
  },
  {
   "cell_type": "code",
   "execution_count": null,
   "metadata": {},
   "outputs": [],
   "source": [
    "for sec in range(first_sec, last_sec+1, 5):\n",
    "# for sec in [132]: # example blue, random region\n",
    "# for sec in [120]: # has good green\n",
    "    \n",
    "    print sec\n",
    "    fn = sec2fn[sec]\n",
    "    im = imread('/home/yuncong/csd395/CSHL_data/MD657_lossy_tif/%s_lossy.jp2.tif' % fn)[..., :3]\n",
    "    \n",
    "#     plt.figure();\n",
    "#     count, left_edges = np.histogram(im[...,2].flatten(), bins=np.arange(im[...,2].min(), im[...,2].max()))\n",
    "#     plt.bar(left_edges[:-1], np.log(count), width=.1);\n",
    "#     plt.title('Log histogram before contrast stretching');\n",
    "#     plt.xlabel('Intensity');\n",
    "#     plt.savefig('/home/yuncong/csd395/ntb_histograms/%(fn)s_pre_stretch.png' % dict(fn=fn))\n",
    "#     plt.close();\n",
    "    \n",
    "    imin = 0\n",
    "    imax = 68\n",
    "#     imax = np.percentile(im.flatten(), 99.9999)\n",
    "#     print imax\n",
    "\n",
    "#     im_flattened = im.flatten()\n",
    "#     clip_values = {clip_perc: np.percentile(im_flattened, 100.-clip_perc) for clip_perc in [1e-4, 1e-5, 1e-6]}\n",
    "    \n",
    "#     imax = clip_values[1e-5]\n",
    "#     print imax\n",
    "\n",
    "    im_out = rescale_intensity(im[...,2], in_range=(imin, imax), out_range=np.uint8)\n",
    "    \n",
    "#     plt.figure();\n",
    "#     count, left_edges = np.histogram(im_out.flatten(), bins=np.arange(im_out.min(), im_out.max()))\n",
    "#     plt.bar(left_edges[:-1], np.log(count), width=.1);\n",
    "#     plt.title('Log histogram after contrast stretching, clip=%d' % imax);\n",
    "#     plt.xlabel('Intensity');\n",
    "#     plt.savefig('/home/yuncong/csd395/ntb_histograms/%(fn)s_post_stretch.png' % dict(fn=fn))\n",
    "#     plt.close();\n",
    "    \n",
    "    imsave('/home/yuncong/csd395/ntb_histograms/small/%(fn)s_post_stretch.tif' % dict(fn=fn), \n",
    "           im_out[::10, ::10].astype(np.uint8))\n",
    "#     imsave('/home/yuncong/csd395/ntb_histograms/crop/%(fn)s_B.tif' % dict(fn=fn), \n",
    "#            im_out[8030:8030+920, 15650:15650+1490].astype(np.uint16)) # random blue region\n",
    "#     imsave('/home/yuncong/csd395/ntb_histograms/crop/%(fn)s_G.tif' % dict(fn=fn), \n",
    "#            im_out[7863:7863+1256, 108440:10844+1303].astype(np.uint8))"
   ]
  },
  {
   "cell_type": "code",
   "execution_count": null,
   "metadata": {},
   "outputs": [],
   "source": []
  }
 ],
 "metadata": {
  "kernelspec": {
   "display_name": "Python 2",
   "language": "python",
   "name": "python2"
  },
  "language_info": {
   "codemirror_mode": {
    "name": "ipython",
    "version": 2
   },
   "file_extension": ".py",
   "mimetype": "text/x-python",
   "name": "python",
   "nbconvert_exporter": "python",
   "pygments_lexer": "ipython2",
   "version": "2.7.12"
  }
 },
 "nbformat": 4,
 "nbformat_minor": 1
}
