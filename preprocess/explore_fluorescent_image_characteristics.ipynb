{
 "cells": [
  {
   "cell_type": "code",
   "execution_count": 1,
   "metadata": {
    "scrolled": true
   },
   "outputs": [
    {
     "name": "stderr",
     "output_type": "stream",
     "text": [
      "/usr/local/lib/python2.7/dist-packages/matplotlib/__init__.py:1350: UserWarning:  This call to matplotlib.use() has no effect\n",
      "because the backend has already been chosen;\n",
      "matplotlib.use() must be called *before* pylab, matplotlib.pyplot,\n",
      "or matplotlib.backends is imported for the first time.\n",
      "\n",
      "  warnings.warn(_use_error_msg)\n"
     ]
    },
    {
     "name": "stdout",
     "output_type": "stream",
     "text": [
      "Setting environment for Precision WorkStation\n"
     ]
    },
    {
     "name": "stderr",
     "output_type": "stream",
     "text": [
      "No vtk\n"
     ]
    }
   ],
   "source": [
    "%load_ext autoreload\n",
    "%autoreload 2\n",
    "\n",
    "import os, sys\n",
    "\n",
    "from skimage.io import imread\n",
    "from skimage.exposure import rescale_intensity\n",
    "import numpy as np\n",
    "import matplotlib.pyplot as plt\n",
    "%matplotlib inline\n",
    "from pandas import DataFrame\n",
    "\n",
    "sys.path.append(os.path.join(os.environ['REPO_DIR'], 'utilities'))\n",
    "from utilities2015 import *\n",
    "from data_manager import *\n",
    "from metadata import *\n",
    "from visualization_utilities import *"
   ]
  },
  {
   "cell_type": "code",
   "execution_count": 2,
   "metadata": {
    "collapsed": true
   },
   "outputs": [],
   "source": [
    "def match_histogram(source, template):\n",
    "    \"\"\"\n",
    "    Args:\n",
    "        source: \"from\" image\n",
    "        template: \"to\" image\n",
    "    \n",
    "    Returns: \n",
    "        s_values (array): unique source values\n",
    "        interp_t_values (array): unique destination values\n",
    "    \"\"\"\n",
    "    \n",
    "    source = source.ravel()\n",
    "    template = template.ravel()\n",
    "\n",
    "    # get the set of unique pixel values and their corresponding indices and\n",
    "    # counts\n",
    "    s_values, bin_idx, s_counts = np.unique(source, return_inverse=True,\n",
    "                                            return_counts=True)\n",
    "    t_values, t_counts = np.unique(template, return_counts=True)\n",
    "\n",
    "    # take the cumsum of the counts and normalize by the number of pixels to\n",
    "    # get the empirical cumulative distribution functions for the source and\n",
    "    # template images (maps pixel value --> quantile)\n",
    "    s_quantiles = np.cumsum(s_counts).astype(np.float64)\n",
    "    s_quantiles /= s_quantiles[-1]\n",
    "    t_quantiles = np.cumsum(t_counts).astype(np.float64)\n",
    "    t_quantiles /= t_quantiles[-1]\n",
    "\n",
    "    # interpolate linearly to find the pixel values in the template image\n",
    "    # that correspond most closely to the quantiles in the source image\n",
    "    interp_t_values = np.interp(s_quantiles, t_quantiles, t_values)\n",
    "\n",
    "    return s_values, interp_t_values"
   ]
  },
  {
   "cell_type": "markdown",
   "metadata": {},
   "source": [
    "# Adhoc region"
   ]
  },
  {
   "cell_type": "code",
   "execution_count": null,
   "metadata": {
    "collapsed": true
   },
   "outputs": [],
   "source": [
    "nissl_region1 = DataManager.load_image_v2(stack='MD658', prep_id=2, version='grayJpeg', fn='MD658-F50-2017.04.05-03.53.13_MD658_2_0149')[955*8:(955+141)*8, 1516*8:(1516+366)*8]"
   ]
  },
  {
   "cell_type": "code",
   "execution_count": null,
   "metadata": {
    "collapsed": true,
    "scrolled": true
   },
   "outputs": [],
   "source": [
    "roi_xmin =1400 * 8\n",
    "roi_ymin = 929 * 8\n",
    "roi_w = 421 * 8\n",
    "roi_h = 246 * 8\n",
    "ntb_blue_region1 = DataManager.load_image_v2(stack='MD661', prep_id=2, fn='MD662&661-F76-2017.06.06-16.23.52_MD661_2_0227')[roi_ymin:(roi_ymin+roi_h), roi_xmin:(roi_xmin+roi_w), 2]"
   ]
  },
  {
   "cell_type": "code",
   "execution_count": null,
   "metadata": {
    "collapsed": true
   },
   "outputs": [],
   "source": [
    "ntb_blue_region1_inv = 5000 - ntb_blue_region1.astype(np.int)\n",
    "ntb_inv_vals, nissl_vals = match_histogram(ntb_blue_region1_inv, nissl_region1)\n",
    "\n",
    "ntb_blue_bins = np.arange(5001)\n",
    "\n",
    "ntb_blue_inv_bins = np.arange(5001)\n",
    "ntb_inv_to_nissl_mapping = np.interp(ntb_blue_inv_bins, ntb_inv_vals, nissl_vals)\n",
    "\n",
    "ntb_to_nissl_mapping = ntb_inv_to_nissl_mapping[5000 - ntb_blue_bins]\n",
    "ntb_to_nissl_mapping = np.round(ntb_to_nissl_mapping).astype(np.uint8)"
   ]
  },
  {
   "cell_type": "code",
   "execution_count": null,
   "metadata": {
    "collapsed": true
   },
   "outputs": [],
   "source": [
    "np.savetxt('/tmp/ntb_to_nissl_mapping.npy', ntb_to_nissl_mapping)"
   ]
  },
  {
   "cell_type": "code",
   "execution_count": null,
   "metadata": {
    "collapsed": true
   },
   "outputs": [],
   "source": [
    "plt.plot(ntb_to_nissl_mapping);"
   ]
  },
  {
   "cell_type": "code",
   "execution_count": null,
   "metadata": {
    "collapsed": true
   },
   "outputs": [],
   "source": [
    "img_blue_intensity_normalized = ntb_to_nissl_mapping[ntb_blue_region1.astype(np.int)].astype(np.uint8)"
   ]
  },
  {
   "cell_type": "code",
   "execution_count": null,
   "metadata": {
    "collapsed": true
   },
   "outputs": [],
   "source": [
    "plt.imshow(img_blue_intensity_normalized, plt.cm.gray);"
   ]
  },
  {
   "cell_type": "code",
   "execution_count": null,
   "metadata": {
    "collapsed": true
   },
   "outputs": [],
   "source": [
    "plt.imshow(nissl_region1, plt.cm.gray);"
   ]
  },
  {
   "cell_type": "code",
   "execution_count": null,
   "metadata": {
    "collapsed": true
   },
   "outputs": [],
   "source": [
    "# stack = 'MD635'\n",
    "# _, sec2fn = DataManager.load_sorted_filenames(stack)\n",
    "# first_sec, last_sec = DataManager.load_cropbox(stack)[4:]"
   ]
  },
  {
   "cell_type": "markdown",
   "metadata": {},
   "source": [
    "# Match histograms between Nissl and Neurotrace"
   ]
  },
  {
   "cell_type": "code",
   "execution_count": null,
   "metadata": {
    "collapsed": true
   },
   "outputs": [],
   "source": [
    "nissl_sections = [sec for sec, fn in sec2fn.iteritems() if not is_invalid(fn) and fn.split('-')[1][0] == 'N' and sec > first_sec and sec < last_sec]\n",
    "ntb_sections = [sec for sec, fn in sec2fn.iteritems() if not is_invalid(fn) and fn.split('-')[1][0] == 'F' and sec > first_sec and sec < last_sec]"
   ]
  },
  {
   "cell_type": "code",
   "execution_count": null,
   "metadata": {
    "collapsed": true
   },
   "outputs": [],
   "source": [
    "# Generate nissl-ntb pairs.\n",
    "\n",
    "compare_pairs = []\n",
    "for nissl_sec in nissl_sections:\n",
    "    for i in range(1, 10):\n",
    "        closest_ntb_sec = nissl_sec + i\n",
    "        if closest_ntb_sec in ntb_sections:\n",
    "            break\n",
    "    compare_pairs.append((nissl_sec, closest_ntb_sec))"
   ]
  },
  {
   "cell_type": "code",
   "execution_count": null,
   "metadata": {
    "collapsed": true
   },
   "outputs": [],
   "source": [
    "w, h = metadata_cache['image_shape'][stack]"
   ]
  },
  {
   "cell_type": "markdown",
   "metadata": {
    "collapsed": true
   },
   "source": [
    "# Same region, different images."
   ]
  },
  {
   "cell_type": "code",
   "execution_count": null,
   "metadata": {
    "collapsed": true
   },
   "outputs": [],
   "source": [
    "# Sample the region bbox.\n",
    "\n",
    "while True:\n",
    "    nissl_tb_mask = DataManager.load_thumbnail_mask_v3(stack=stack, section=nissl_sec, version='cropped')\n",
    "    \n",
    "    region1_x = np.random.randint(0, w-10000, 1)[0]\n",
    "    region1_y = np.random.randint(0, h-10000, 1)[0]\n",
    "    region1_w = 5000\n",
    "    region1_h = 5000\n",
    "    print region1_x, region1_y, region1_w, region1_h\n",
    "\n",
    "    tb_region1_xmin = region1_x / 32\n",
    "    tb_region1_xmax = (region1_x + region1_w) / 32\n",
    "    tb_region1_ymin = region1_y / 32\n",
    "    tb_region1_ymax = (region1_y + region1_h) / 32\n",
    "\n",
    "    if np.all(np.r_[nissl_tb_mask[tb_region1_ymin, tb_region1_xmin],\n",
    "    nissl_tb_mask[tb_region1_ymin, tb_region1_xmax],\n",
    "    nissl_tb_mask[tb_region1_ymax, tb_region1_xmin],\n",
    "    nissl_tb_mask[tb_region1_ymax, tb_region1_xmax]]):\n",
    "        break"
   ]
  },
  {
   "cell_type": "code",
   "execution_count": null,
   "metadata": {
    "collapsed": true,
    "scrolled": true
   },
   "outputs": [],
   "source": [
    "ntb_matched_values_all_examples = []\n",
    "\n",
    "for nissl_sec, ntb_sec in compare_pairs[:10]:\n",
    "    \n",
    "    ntb_im_fp = DataManager.get_image_filepath(stack=stack, section=ntb_sec, version='cropped_16bit', resol='lossless')\n",
    "    download_from_s3(ntb_im_fp)\n",
    "    ntb_im = imread(ntb_im_fp)\n",
    "    ntb_blue_region1 = ntb_im[region1_y:region1_y+region1_h, region1_x:region1_x+region1_w, 2]\n",
    "    ntb_blue_region1 = 3000 - ntb_blue_region1\n",
    "    \n",
    "    ntb_blue_bins = np.arange(0, ntb_blue_region1.max()+2)\n",
    "    ntb_blue_hist = np.histogram(ntb_blue_region1.flatten(), bins=ntb_blue_bins)[0]\n",
    "    \n",
    "    nissl_im_fp = DataManager.get_image_filepath(stack=stack, section=nissl_sec, version='cropped_8bit', resol='lossless')\n",
    "    download_from_s3(nissl_im_fp)\n",
    "    nissl_im = imread(nissl_im_fp)\n",
    "    nissl_region1 = img_as_ubyte(rgb2gray(nissl_im[region1_y:region1_y+region1_h, region1_x:region1_x+region1_w]))\n",
    "    \n",
    "    nissl_gray_bins = np.arange(0, 257)\n",
    "    nissl_gray_hist = np.histogram(nissl_region1.flatten(), bins=nissl_gray_bins)[0]\n",
    "    \n",
    "    ###############\n",
    "    \n",
    "    ntb_region1_hist_matched = hist_match(ntb_blue_region1, nissl_region1)\n",
    "    \n",
    "    fig, axes = plt.subplots(ncols=2, nrows=1, figsize=(20,10));\n",
    "    axes[0].imshow(nissl_region1, plt.cm.gray);\n",
    "    axes[0].set_title('Nissl');\n",
    "    axes[1].imshow(ntb_region1_hist_matched.astype(np.uint8), plt.cm.gray);\n",
    "    axes[1].set_title('Neurotrace (histogram matched)');\n",
    "    plt.show();\n",
    "    \n",
    "    ntb_to_nissl = {}\n",
    "    for ntb_v in ntb_blue_bins[:-1]:\n",
    "        a = ntb_region1_hist_matched[ntb_blue_region1 == ntb_v]\n",
    "        if len(a) > 0:\n",
    "            ntb_to_nissl[ntb_v] = np.unique(a)[0]\n",
    "\n",
    "    ntb_values = np.arange(0, 5000)\n",
    "    ntb_matched_values = np.interp(ntb_values, \n",
    "                                   [ntb_v for ntb_v, nissl_v in sorted(ntb_to_nissl.items())], \n",
    "                                   [nissl_v for ntb_v, nissl_v in sorted(ntb_to_nissl.items())])\n",
    "    \n",
    "    ntb_matched_values_all_examples.append(ntb_matched_values)\n",
    "\n",
    "    plt.plot(ntb_values, ntb_matched_values);\n",
    "    plt.xlim([0,5000]);\n",
    "    plt.ylim([0,256]);\n",
    "    plt.xlabel('Neurotrace intensity');\n",
    "    plt.ylabel('Matched nissl intensity');\n",
    "    plt.show();"
   ]
  },
  {
   "cell_type": "code",
   "execution_count": null,
   "metadata": {
    "collapsed": true
   },
   "outputs": [],
   "source": [
    "plt.figure(figsize=(10,5));\n",
    "for a in ntb_matched_values_all_examples:\n",
    "    plt.plot(ntb_values, a);\n",
    "plt.xlim([0,5000]);\n",
    "plt.ylim([0,256]);\n",
    "plt.xlabel('Neurotrace intensity');\n",
    "plt.ylabel('Matched nissl intensity');\n",
    "plt.show();"
   ]
  },
  {
   "cell_type": "code",
   "execution_count": null,
   "metadata": {
    "collapsed": true,
    "scrolled": true
   },
   "outputs": [],
   "source": [
    "# Show that intensities of two modalities are not in exact one-to-one correspondence.\n",
    "\n",
    "ntb_to_nissl = {}\n",
    "for ntb_v in ntb_blue_bins[:-1]:\n",
    "    a = nissl_region1[ntb_blue_region1 == ntb_v]\n",
    "    if len(a) > 0:\n",
    "#         ntb_to_nissl[ntb_v] = np.unique(a)[0]\n",
    "        plt.hist(a, bins=np.arange(256));\n",
    "        plt.title('%d' % ntb_v);\n",
    "        plt.xlabel('Nissl intensity');\n",
    "        plt.xlabel('Distribution of Neurotrace intensities at corresponding pixels.');\n",
    "        plt.show();"
   ]
  },
  {
   "cell_type": "markdown",
   "metadata": {
    "collapsed": true
   },
   "source": [
    "# Explore red and green channels"
   ]
  },
  {
   "cell_type": "code",
   "execution_count": null,
   "metadata": {
    "collapsed": true
   },
   "outputs": [],
   "source": [
    "from skimage.exposure import rescale_intensity\n",
    "from skimage.exposure import equalize_hist"
   ]
  },
  {
   "cell_type": "code",
   "execution_count": null,
   "metadata": {
    "collapsed": true,
    "scrolled": true
   },
   "outputs": [],
   "source": [
    "plt.figure(figsize=(20,20));\n",
    "q = rescale_intensity(ntb_im[region1_y:region1_y+region1_h, region1_x:region1_x+region1_w, 0],\n",
    "                     (0, 400))\n",
    "plt.imshow(q, \n",
    "           vmin=0, vmax=q.max(),\n",
    "          cmap=plt.cm.gray);"
   ]
  },
  {
   "cell_type": "code",
   "execution_count": null,
   "metadata": {
    "collapsed": true,
    "scrolled": true
   },
   "outputs": [],
   "source": [
    "plt.figure(figsize=(20,20));\n",
    "q = equalize_hist(ntb_im[region1_y:region1_y+region1_h, region1_x:region1_x+region1_w, 0])\n",
    "plt.imshow(q, \n",
    "           vmin=0, vmax=q.max(),\n",
    "          cmap=plt.cm.gray);"
   ]
  },
  {
   "cell_type": "code",
   "execution_count": null,
   "metadata": {
    "collapsed": true,
    "scrolled": true
   },
   "outputs": [],
   "source": [
    "plt.figure(figsize=(20,20));\n",
    "plt.imshow(ntb_im[region1_y:region1_y+region1_h, region1_x:region1_x+region1_w, 0], \n",
    "           vmin=0, vmax=ntb_im[region1_y:region1_y+region1_h, region1_x:region1_x+region1_w, 0].max(),\n",
    "          cmap=plt.cm.gray);"
   ]
  },
  {
   "cell_type": "code",
   "execution_count": null,
   "metadata": {
    "collapsed": true
   },
   "outputs": [],
   "source": [
    "red_imin = 0\n",
    "red_imax = 75\n",
    "green_imin = 0\n",
    "green_imax = 85"
   ]
  },
  {
   "cell_type": "code",
   "execution_count": null,
   "metadata": {
    "collapsed": true
   },
   "outputs": [],
   "source": [
    "mg_red_intensity_normalized = ntb_matched_values[3000-ntb_im[region1_y:region1_y+region1_h, region1_x:region1_x+region1_w, 0]].astype(np.uint8)\n",
    "img_green_intensity_normalized = ntb_matched_values[3000-ntb_im[region1_y:region1_y+region1_h, region1_x:region1_x+region1_w, 1]].astype(np.uint8)\n",
    "img_blue_intensity_normalized = ntb_matched_values[3000-ntb_im[region1_y:region1_y+region1_h, region1_x:region1_x+region1_w, 2]].astype(np.uint8)"
   ]
  },
  {
   "cell_type": "code",
   "execution_count": null,
   "metadata": {
    "collapsed": true
   },
   "outputs": [],
   "source": [
    "ntb_img_rgb = np.zeros(ntb_blue_region1.shape[:2] + (3,), np.uint8)\n",
    "ntb_img_rgb[..., 0] = img_red_intensity_normalized\n",
    "ntb_img_rgb[..., 1] = img_green_intensity_normalized\n",
    "ntb_img_rgb[..., 2] = img_blue_intensity_normalized"
   ]
  },
  {
   "cell_type": "code",
   "execution_count": null,
   "metadata": {
    "collapsed": true,
    "scrolled": true
   },
   "outputs": [],
   "source": [
    "plt.figure(figsize=(10,10));\n",
    "plt.imshow(ntb_img_rgb, cmap=plt.cm.gray);"
   ]
  },
  {
   "cell_type": "markdown",
   "metadata": {
    "collapsed": true
   },
   "source": [
    "# Same images, different regions. nissl-ntblue"
   ]
  },
  {
   "cell_type": "markdown",
   "metadata": {},
   "source": [
    "## Parallel"
   ]
  },
  {
   "cell_type": "code",
   "execution_count": null,
   "metadata": {
    "collapsed": true
   },
   "outputs": [],
   "source": [
    "def f(nissl_sec, ntb_sec):\n",
    "    \n",
    "    ntb_matched_values_all_examples_one_section = []\n",
    "    region_bboxes_all_examples_one_section = []\n",
    "    \n",
    "    nissl_tb_mask = DataManager.load_thumbnail_mask_v3(stack=stack, section=nissl_sec, version='cropped')\n",
    "    \n",
    "    for region_id in range(10):\n",
    "\n",
    "        while True:\n",
    "            region1_x = np.random.randint(0, w-10000, 1)[0]\n",
    "            region1_y = np.random.randint(0, h-10000, 1)[0]\n",
    "            region1_w = 5000\n",
    "            region1_h = 5000\n",
    "            print region1_x, region1_y, region1_w, region1_h\n",
    "            \n",
    "            tb_region1_xmin = region1_x / 32\n",
    "            tb_region1_xmax = (region1_x + region1_w) / 32\n",
    "            tb_region1_ymin = region1_y / 32\n",
    "            tb_region1_ymax = (region1_y + region1_h) / 32\n",
    "            \n",
    "            if np.all(np.r_[nissl_tb_mask[tb_region1_ymin, tb_region1_xmin],\n",
    "            nissl_tb_mask[tb_region1_ymin, tb_region1_xmax],\n",
    "            nissl_tb_mask[tb_region1_ymax, tb_region1_xmin],\n",
    "            nissl_tb_mask[tb_region1_ymax, tb_region1_xmax]]):\n",
    "                break\n",
    "        \n",
    "        t = time.time()\n",
    "        \n",
    "        ntb_im_fp = DataManager.get_image_filepath(stack=stack, section=ntb_sec, version='cropped_16bit', resol='lossless')\n",
    "        download_from_s3(ntb_im_fp)\n",
    "        ntb_im = imread(ntb_im_fp)\n",
    "        ntb_blue_region1 = ntb_im[region1_y:region1_y+region1_h, region1_x:region1_x+region1_w, 2]\n",
    "        ntb_blue_region1 = 3000 - ntb_blue_region1\n",
    "\n",
    "        ntb_blue_bins = np.arange(0, ntb_blue_region1.max()+2)\n",
    "        ntb_blue_hist = np.histogram(ntb_blue_region1.flatten(), bins=ntb_blue_bins)[0]\n",
    "        \n",
    "        sys.stderr.write('Load NTB: %.2f seconds.\\n' % (time.time()-t))\n",
    "\n",
    "        t = time.time()\n",
    "\n",
    "        nissl_im_fp = DataManager.get_image_filepath(stack=stack, section=nissl_sec, version='cropped_8bit', resol='lossless')\n",
    "        download_from_s3(nissl_im_fp)\n",
    "        nissl_im = imread(nissl_im_fp)\n",
    "        nissl_region1 = img_as_ubyte(rgb2gray(nissl_im[region1_y:region1_y+region1_h, region1_x:region1_x+region1_w]))\n",
    "\n",
    "        nissl_gray_bins = np.arange(0, 257)\n",
    "        nissl_gray_hist = np.histogram(nissl_region1.flatten(), bins=nissl_gray_bins)[0]\n",
    "        \n",
    "        sys.stderr.write('Load Nissl: %.2f seconds.\\n' % (time.time()-t))\n",
    "\n",
    "        ###############\n",
    "        \n",
    "        t = time.time()\n",
    "\n",
    "        ntb_region1_hist_matched = hist_match(ntb_blue_region1, nissl_region1)\n",
    "\n",
    "    #     fig, axes = plt.subplots(ncols=2, nrows=1, figsize=(20,10));\n",
    "    #     axes[0].imshow(nissl_region1, plt.cm.gray);\n",
    "    #     axes[0].set_title('Nissl');\n",
    "    #     axes[1].imshow(ntb_region1_hist_matched.astype(np.uint8), plt.cm.gray);\n",
    "    #     axes[1].set_title('Neurotrace (histogram matched)');\n",
    "    #     plt.show();\n",
    "        ntb_to_nissl = {}\n",
    "        for ntb_v in ntb_blue_bins[:-1]:\n",
    "            a = ntb_region1_hist_matched[ntb_blue_region1 == ntb_v]\n",
    "            if len(a) > 0:\n",
    "                ntb_to_nissl[ntb_v] = np.unique(a)[0]\n",
    "\n",
    "        ntb_values = np.arange(0, 5000)\n",
    "        ntb_matched_values = np.interp(ntb_values, \n",
    "                                       [ntb_v for ntb_v, nissl_v in sorted(ntb_to_nissl.items())], \n",
    "                                       [nissl_v for ntb_v, nissl_v in sorted(ntb_to_nissl.items())])\n",
    "\n",
    "        ntb_matched_values_all_examples_one_section.append(ntb_matched_values)\n",
    "        region_bboxes_all_examples_one_section.append((region1_x, region1_y, region1_w, region1_h))\n",
    "\n",
    "        sys.stderr.write('Compute matching: %.2f seconds.\\n' % (time.time()-t))\n",
    "        \n",
    "#         ntb_matched_values_all_examples[(nissl_sec, ntb_sec)].append(ntb_matched_values)\n",
    "#         region_bboxes_all_examples[(nissl_sec, ntb_sec)].append((region1_x, region1_y, region1_w, region1_h))\n",
    "        \n",
    "    fp = os.path.join(DATA_DIR, stack, stack + '_histogram_matching', 'ntb_%d_to_nissl_%d_matched_values.npy' % (ntb_sec, nissl_sec))\n",
    "    np.save(fp, ntb_matched_values_all_examples_one_section)\n",
    "    upload_to_s3(fp)\n",
    "\n",
    "    fp = os.path.join(DATA_DIR, stack, stack + '_histogram_matching', 'ntb_%d_to_nissl_%d_region_bboxes.npy' % (ntb_sec, nissl_sec))\n",
    "    np.save(fp, np.asarray(region_bboxes_all_examples_one_section))\n",
    "    upload_to_s3(fp)"
   ]
  },
  {
   "cell_type": "code",
   "execution_count": null,
   "metadata": {
    "collapsed": true
   },
   "outputs": [],
   "source": [
    "from multiprocess import Pool\n",
    "\n",
    "pool = Pool(NUM_CORES/2)\n",
    "pool.map(lambda (nissl_sec, ntb_sec): f( nissl_sec, ntb_sec), compare_pairs)\n",
    "pool.close()\n",
    "pool.join()"
   ]
  },
  {
   "cell_type": "markdown",
   "metadata": {},
   "source": [
    "## Sequential"
   ]
  },
  {
   "cell_type": "code",
   "execution_count": null,
   "metadata": {
    "collapsed": true,
    "scrolled": true
   },
   "outputs": [],
   "source": [
    "# ntb_matched_values_all_examples = defaultdict(list)\n",
    "# region_bboxes_all_examples = defaultdict(list)\n",
    "\n",
    "for nissl_sec, ntb_sec in compare_pairs[37:38]:\n",
    "    \n",
    "    ntb_matched_values_all_examples_one_section = []\n",
    "    region_bboxes_all_examples_one_section = []\n",
    "    \n",
    "    nissl_tb_mask = DataManager.load_thumbnail_mask_v3(stack=stack, section=nissl_sec, version='cropped')\n",
    "\n",
    "    for region_id in range(10):\n",
    "        \n",
    "        while True:\n",
    "            region1_x = np.random.randint(0, w-10000, 1)[0]\n",
    "            region1_y = np.random.randint(0, h-10000, 1)[0]\n",
    "            region1_w = 5000\n",
    "            region1_h = 5000\n",
    "            print region1_x, region1_y, region1_w, region1_h\n",
    "            \n",
    "            tb_region1_xmin = region1_x / 32\n",
    "            tb_region1_xmax = (region1_x + region1_w) / 32\n",
    "            tb_region1_ymin = region1_y / 32\n",
    "            tb_region1_ymax = (region1_y + region1_h) / 32\n",
    "            \n",
    "            if np.all(np.r_[nissl_tb_mask[tb_region1_ymin, tb_region1_xmin],\n",
    "            nissl_tb_mask[tb_region1_ymin, tb_region1_xmax],\n",
    "            nissl_tb_mask[tb_region1_ymax, tb_region1_xmin],\n",
    "            nissl_tb_mask[tb_region1_ymax, tb_region1_xmax]]):\n",
    "                break\n",
    "        \n",
    "        t = time.time()\n",
    "        \n",
    "        ntb_im_fp = DataManager.get_image_filepath(stack=stack, section=ntb_sec, version='cropped_16bit', resol='lossless')\n",
    "        download_from_s3(ntb_im_fp)\n",
    "        ntb_im = imread(ntb_im_fp)\n",
    "        ntb_blue_region1 = ntb_im[region1_y:region1_y+region1_h, region1_x:region1_x+region1_w, 2]\n",
    "        ntb_blue_region1 = 3000 - ntb_blue_region1\n",
    "\n",
    "        ntb_blue_bins = np.arange(0, ntb_blue_region1.max()+2)\n",
    "        ntb_blue_hist = np.histogram(ntb_blue_region1.flatten(), bins=ntb_blue_bins)[0]\n",
    "    \n",
    "        sys.stderr.write('Load NTB: %.2f seconds.\\n' % (time.time()-t))\n",
    "\n",
    "        t = time.time()\n",
    "        \n",
    "        nissl_im_fp = DataManager.get_image_filepath(stack=stack, section=nissl_sec, version='cropped_8bit', resol='lossless')\n",
    "        download_from_s3(nissl_im_fp)\n",
    "        nissl_im = imread(nissl_im_fp)\n",
    "        nissl_region1 = img_as_ubyte(rgb2gray(nissl_im[region1_y:region1_y+region1_h, region1_x:region1_x+region1_w]))\n",
    "\n",
    "        nissl_gray_bins = np.arange(0, 257)\n",
    "        nissl_gray_hist = np.histogram(nissl_region1.flatten(), bins=nissl_gray_bins)[0]\n",
    "\n",
    "        sys.stderr.write('Load Nissl: %.2f seconds.\\n' % (time.time()-t))\n",
    "\n",
    "        ###############\n",
    "        \n",
    "        t = time.time()\n",
    "\n",
    "        ntb_region1_hist_matched = hist_match(ntb_blue_region1, nissl_region1)\n",
    "\n",
    "        fig, axes = plt.subplots(ncols=2, nrows=1, figsize=(20,10));\n",
    "        axes[0].imshow(nissl_region1, plt.cm.gray);\n",
    "        axes[0].set_title('Nissl');\n",
    "        axes[1].imshow(ntb_region1_hist_matched.astype(np.uint8), plt.cm.gray);\n",
    "        axes[1].set_title('Neurotrace (histogram matched)');\n",
    "        plt.show();\n",
    "\n",
    "        ntb_to_nissl = {}\n",
    "        for ntb_v in ntb_blue_bins[:-1]:\n",
    "            a = ntb_region1_hist_matched[ntb_blue_region1 == ntb_v]\n",
    "            if len(a) > 0:\n",
    "                ntb_to_nissl[ntb_v] = np.unique(a)[0]\n",
    "\n",
    "        ntb_values = np.arange(0, 5000)\n",
    "        ntb_matched_values = np.interp(ntb_values, \n",
    "                                       [ntb_v for ntb_v, nissl_v in sorted(ntb_to_nissl.items())], \n",
    "                                       [nissl_v for ntb_v, nissl_v in sorted(ntb_to_nissl.items())])\n",
    "\n",
    "    #     ntb_matched_values_all_examples.append(ntb_matched_values)\n",
    "\n",
    "        ntb_matched_values_all_examples_one_section.append(ntb_matched_values)\n",
    "        region_bboxes_all_examples_one_section.append((region1_x, region1_y, region1_w, region1_h))\n",
    "    \n",
    "#         ntb_matched_values_all_examples[(nissl_sec, ntb_sec)].append(ntb_matched_values)\n",
    "#         region_bboxes_all_examples[(nissl_sec, ntb_sec)].append((region1_x, region1_y, region1_w, region1_h))\n",
    "        \n",
    "        sys.stderr.write('Compute matching: %.2f seconds.\\n' % (time.time()-t))\n",
    "\n",
    "        \n",
    "#     fp = os.path.join(DATA_DIR, stack, stack + '_histogram_matching', 'ntb_%d_to_nissl_%d_matched_values.npy' % (ntb_sec, nissl_sec))\n",
    "#     np.save(fp, ntb_matched_values_all_examples_one_section)\n",
    "#     upload_to_s3(fp)\n",
    "\n",
    "#     fp = os.path.join(DATA_DIR, stack, stack + '_histogram_matching', 'ntb_%d_to_nissl_%d_region_bboxes.npy' % (ntb_sec, nissl_sec))\n",
    "#     np.save(fp, np.asarray(region_bboxes_all_examples_one_section))\n",
    "#     upload_to_s3(fp)\n",
    "    \n",
    "    #     plt.plot(ntb_values, ntb_matched_values);\n",
    "    #     plt.xlim([0,5000]);\n",
    "    #     plt.ylim([0,256]);\n",
    "    #     plt.xlabel('Neurotrace intensity');\n",
    "    #     plt.ylabel('Matched nissl intensity');\n",
    "    #     plt.show();"
   ]
  },
  {
   "cell_type": "markdown",
   "metadata": {},
   "source": [
    "# One image pair, different regions (NEW)"
   ]
  },
  {
   "cell_type": "code",
   "execution_count": null,
   "metadata": {
    "collapsed": true
   },
   "outputs": [],
   "source": [
    "# Find the maximal intensity in fluorescent blue channel.\n",
    "\n",
    "# for fn in metadata_cache['valid_filenames'][stack][::10]:\n",
    "#     if fn.split('-')[1][0] == 'F':\n",
    "#         im = DataManager.load_image(stack=stack, fn=fn, version='cropped_16bit', resol='lossless')[..., 2]\n",
    "#         print fn, im.min(), im.max()"
   ]
  },
  {
   "cell_type": "code",
   "execution_count": null,
   "metadata": {
    "collapsed": true,
    "scrolled": true
   },
   "outputs": [],
   "source": [
    "# for nissl_sec, ntb_sec in compare_pairs[34:35]:\n",
    "for nissl_sec, ntb_sec in compare_pairs[25:45]:\n",
    "# for nissl_sec, ntb_sec in compare_pairs[::3]:\n",
    "    \n",
    "    sys.stderr.write('nissl %d, ntb %d\\n' % (nissl_sec, ntb_sec))\n",
    "    \n",
    "    ntb_matched_values_all_examples_one_section = []\n",
    "    region_bboxes_all_examples_one_section = []\n",
    "    \n",
    "    nissl_tb_mask = DataManager.load_thumbnail_mask_v3(stack=stack, section=nissl_sec, version='cropped')\n",
    "    w, h = metadata_cache['image_shape'][stack]\n",
    "\n",
    "    t = time.time()\n",
    "    ntb_im = DataManager.load_image(stack=stack, section=ntb_sec, version='cropped', resol='lossless')\n",
    "    sys.stderr.write('Load NTB: %.2f seconds.\\n' % (time.time()-t))\n",
    "\n",
    "    t = time.time()\n",
    "    nissl_im = DataManager.load_image(stack=stack, section=nissl_sec, version='cropped', resol='lossless')\n",
    "    sys.stderr.write('Load Nissl: %.2f seconds.\\n' % (time.time()-t))\n",
    "\n",
    "#     h, w = nissl_im.shape[:2]\n",
    "#     for region_id in range(3):\n",
    "#         while True:\n",
    "#             region_w = 5000\n",
    "#             region_h = 5000\n",
    "#             region_x = np.random.randint(0, w - region_w, 1)[0]\n",
    "#             region_y = np.random.randint(0, h - region_h, 1)[0]\n",
    "            \n",
    "#             tb_region_xmin = region_x / 32\n",
    "#             tb_region_xmax = (region_x + region_w) / 32\n",
    "#             tb_region_ymin = region_y / 32\n",
    "#             tb_region_ymax = (region_y + region_h) / 32\n",
    "            \n",
    "#             if np.all(np.r_[nissl_tb_mask[tb_region_ymin, tb_region_xmin],\n",
    "#             nissl_tb_mask[tb_region_ymin, tb_region_xmax],\n",
    "#             nissl_tb_mask[tb_region_ymax, tb_region_xmin],\n",
    "#             nissl_tb_mask[tb_region_ymax, tb_region_xmax]]):\n",
    "#                 break\n",
    "        \n",
    "#         sys.stderr.write('%d %d %d %d\\n' % (region_x, region_y, region_w, region_h))\n",
    "    \n",
    "    for region_id in range(1):\n",
    "        region_x = 233 * 32\n",
    "        region_y = 299 * 32\n",
    "        region_w = 124 * 32\n",
    "        region_h = 98 * 32\n",
    "    \n",
    "        ntb_blue_region = ntb_im[region_y:region_y+region_h, region_x:region_x+region_w, 2]\n",
    "        \n",
    "        # Checked a few sections, maximal intensity value in blue channel is less than 5000.\n",
    "        ntb_blue_bins = np.arange(5001)\n",
    "        ntb_blue_hist = np.histogram(ntb_blue_region.flatten(), bins=np.r_[ntb_blue_bins, 5001])[0]\n",
    "        \n",
    "        ntb_blue_inv_bins = np.arange(5001)\n",
    "        ntb_blue_inv_hist = np.histogram(5000 - ntb_blue_region.flatten(), bins=np.r_[ntb_blue_inv_bins, 5001])[0]\n",
    " \n",
    "        nissl_region = img_as_ubyte(rgb2gray(nissl_im[region_y:region_y+region_h, region_x:region_x+region_w]))\n",
    "        nissl_gray_bins = np.arange(0, 257)\n",
    "        nissl_gray_hist = np.histogram(nissl_region.flatten(), bins=nissl_gray_bins)[0]        \n",
    "\n",
    "        ###############\n",
    "\n",
    "#         t = time.time()\n",
    "\n",
    "        # Matched mapping\n",
    "        ntb_blue_region_inv = 5000 - ntb_blue_region.astype(np.int)\n",
    "        ntb_inv_vals, nissl_vals = match_histogram(ntb_blue_region_inv, nissl_region)\n",
    "    \n",
    "        ntb_blue_inv_bins = np.arange(0, 5001)\n",
    "        ntb_inv_to_nissl_mapping = np.interp(ntb_blue_inv_bins, ntb_inv_vals, nissl_vals)\n",
    "        \n",
    "        ntb_to_nissl_mapping = ntb_inv_to_nissl_mapping[5000 - ntb_blue_bins]\n",
    "        ntb_to_nissl_mapping = np.round(ntb_to_nissl_mapping).astype(np.uint8)\n",
    "\n",
    "        ntb_region_normalized = np.round(ntb_to_nissl_mapping[ntb_blue_region]).astype(np.uint8)\n",
    "        \n",
    "        ntb_blue_normalized_bins = np.arange(0, 257)\n",
    "        ntb_blue_normalized_hist = np.histogram(ntb_region_normalized.flatten(), bins=np.r_[ntb_blue_normalized_bins, 5001])[0]\n",
    "\n",
    "#         ntb_matched_values_all_examples_one_section.append(ntb_to_nissl_mapping)\n",
    "#         region_bboxes_all_examples_one_section.append((region_x, region_y, region_w, region_h))\n",
    "        \n",
    "        # Default mapping\n",
    "        intensity_mapping_fp = DataManager.get_ntb_to_nissl_intensity_profile_mapping_filepath()\n",
    "        download_from_s3(intensity_mapping_fp)\n",
    "        default_ntb_to_nissl_mapping = np.load(intensity_mapping_fp)\n",
    "\n",
    "        ntb_region_normalized_default = np.round(default_ntb_to_nissl_mapping[ntb_blue_region]).astype(np.uint8)        \n",
    "        ntb_blue_normalized_bins_default = np.arange(0, 257)\n",
    "        ntb_blue_normalized_hist_default = np.histogram(ntb_region_normalized_default.flatten(), bins=np.r_[ntb_blue_normalized_bins_default, 5001])[0]\n",
    "    \n",
    "#         sys.stderr.write('Compute matching: %.2f seconds.\\n' % (time.time()-t))\n",
    "        \n",
    "        # Linear normalizations\n",
    "        \n",
    "        ntb_region_linearNormalized_diffClips = {}\n",
    "        ntb_region_linearNormalized_inverted_diffClips = {}\n",
    "        \n",
    "        low = 0\n",
    "        highs = range(500, 3000, 500)\n",
    "        for high in highs:\n",
    "            ntb_region_linearNormalized = rescale_intensity_v2(ntb_blue_region, low, high)\n",
    "    #         ntb_blue_linearNormalized_bins = np.arange(0, 256)\n",
    "    #         ntb_blue_linearNormalized_hist = np.histogram(ntb_region_linearNormalized.flatten(), bins=np.r_[ntb_blue_linearNormalized_bins, [257]])[0]\n",
    "\n",
    "            ntb_region_linearNormalized_inverted = rescale_intensity_v2(ntb_blue_region, high, low)\n",
    "    #         ntb_blue_linearNormalized_inverted_bins = np.arange(0, 256)\n",
    "    #         ntb_blue_linearNormalized_inverted_hist = np.histogram(ntb_region_linearNormalized_inverted.flatten(), bins=np.r_[ntb_blue_linearNormalized_inverted_bins, [257]])[0]\n",
    "\n",
    "    #         ntb_to_nissl_linear_mapping = np.zeros((5001,))\n",
    "    #         ntb_to_nissl_linear_mapping[:high] = - 255 / float(high) * np.arange(high) + 255\n",
    "    \n",
    "            ntb_region_linearNormalized_diffClips[high] = ntb_region_linearNormalized\n",
    "            ntb_region_linearNormalized_inverted_diffClips[high] = ntb_region_linearNormalized_inverted\n",
    "        \n",
    "#         # Plot intensity histograms\n",
    "        \n",
    "#         plt.figure(figsize=(20,4));\n",
    "#         plt.bar(ntb_blue_bins, ntb_blue_hist);\n",
    "#         plt.xlabel('Neurotrace blue intensity');\n",
    "#         plt.ylabel('Number of pixels');\n",
    "#         plt.title('Neurotrace Blue Intensity Histogram');\n",
    "#         plt.show();\n",
    "\n",
    "#         plt.figure(figsize=(20,4));\n",
    "#         plt.bar(ntb_blue_bins, np.log(ntb_blue_hist));\n",
    "#         plt.xlabel('Neurotrace blue intensity');\n",
    "#         plt.ylabel('Log Number of pixels');\n",
    "#         plt.title('Neurotrace Blue Intensity Histogram');\n",
    "#         plt.show();\n",
    "\n",
    "#         plt.figure(figsize=(20,4));\n",
    "#         plt.plot(ntb_blue_bins, ntb_to_nissl_mapping);\n",
    "#         plt.xlabel('Neurotrace intensity');\n",
    "#         plt.ylabel('Normalized intensity');\n",
    "#         plt.title('Neurotrace to Brightfield Nissl intensity mapping');\n",
    "#         plt.show();\n",
    "\n",
    "#         plt.figure(figsize=(20,4));\n",
    "#         plt.bar(ntb_blue_inv_bins, ntb_blue_inv_hist);\n",
    "#         plt.xlabel('5000 - Neurotrace blue intensity');\n",
    "#         plt.ylabel('Log Number of pixels');\n",
    "#         plt.title('Neurotrace Blue Intensity Histogram');\n",
    "#         plt.show();\n",
    "\n",
    "#         plt.figure(figsize=(20,4));\n",
    "#         plt.plot(ntb_blue_inv_bins, ntb_inv_to_nissl_mapping);\n",
    "#         plt.xlabel('5000 - Neurotrace intensity');\n",
    "#         plt.ylabel('Normalized intensity');\n",
    "#         plt.title('Neurotrace to Brightfield Nissl intensity mapping');\n",
    "#         plt.show();\n",
    "\n",
    "#         plt.figure(figsize=(20,4));\n",
    "#         plt.bar(nissl_gray_bins[:-1], nissl_gray_hist);\n",
    "#         plt.xlabel('Nissl intensity');\n",
    "#         plt.ylabel('Number of pixels');\n",
    "#         plt.title('Nissl Intensity Histogram');\n",
    "#         plt.show();\n",
    "\n",
    "#         plt.figure(figsize=(20,4));\n",
    "#         plt.bar(nissl_gray_bins[:-1], np.log(nissl_gray_hist));\n",
    "#         plt.xlabel('Nissl intensity');\n",
    "#         plt.ylabel('Log Number of pixels');\n",
    "#         plt.title('Nissl Intensity Histogram');\n",
    "#         plt.show();\n",
    "\n",
    "#         plt.figure(figsize=(20,4));\n",
    "#         plt.bar(ntb_blue_normalized_bins, ntb_blue_normalized_hist);\n",
    "#         plt.xlabel('Neurotrace blue normalized intensity');\n",
    "#         plt.ylabel('Number of pixels');\n",
    "#         plt.title('Neurotrace Blue Normalized Intensity Histogram');\n",
    "#         plt.show();\n",
    "\n",
    "#         plt.figure(figsize=(20,4));\n",
    "#         plt.bar(ntb_blue_normalized_bins, np.log(ntb_blue_normalized_hist));\n",
    "#         plt.xlabel('Neurotrace blue normalized intensity');\n",
    "#         plt.ylabel('Log Number of pixels');\n",
    "#         plt.title('Neurotrace Blue Normalized Intensity Histogram');\n",
    "#         plt.show();\n",
    "\n",
    "#         plt.figure(figsize=(20,4));\n",
    "#         plt.plot(ntb_blue_bins, ntb_to_nissl_linear_mapping);\n",
    "#         plt.xlabel('Neurotrace intensity');\n",
    "#         plt.ylabel('Normalized intensity');\n",
    "#         plt.title('Neurotrace to Brightfield Nissl intensity mapping (Linear)');\n",
    "#         plt.show();\n",
    "\n",
    "\n",
    "#         plt.figure(figsize=(20,4));\n",
    "#         plt.bar(ntb_blue_linearNormalized_bins, ntb_blue_linearNormalized_hist);\n",
    "#         plt.xlabel('Neurotrace blue linearly normalized intensity');\n",
    "#         plt.ylabel('Number of pixels');\n",
    "#         plt.title('Neurotrace Blue Linearly Normalized Intensity Histogram');\n",
    "#         plt.show();\n",
    "\n",
    "#         plt.figure(figsize=(20,4));\n",
    "#         plt.bar(ntb_blue_linearNormalized_bins, np.log(ntb_blue_linearNormalized_hist));\n",
    "#         plt.xlabel('Neurotrace blue linearly normalized intensity');\n",
    "#         plt.ylabel('Log Number of pixels');\n",
    "#         plt.title('Neurotrace Blue Linearly Normalized Intensity Histogram');\n",
    "#         plt.show();\n",
    "\n",
    "\n",
    "#         plt.figure(figsize=(20,4));\n",
    "#         plt.bar(ntb_blue_linearNormalized_inverted_bins, ntb_blue_linearNormalized_inverted_hist);\n",
    "#         plt.xlabel('Neurotrace blue linearly normalized + inverted intensity');\n",
    "#         plt.ylabel('Number of pixels');\n",
    "#         plt.title('Neurotrace Blue Linearly Normalized + inverted Intensity Histogram');\n",
    "#         plt.show();\n",
    "\n",
    "#         plt.figure(figsize=(20,4));\n",
    "#         plt.bar(ntb_blue_linearNormalized_inverted_bins, np.log(ntb_blue_linearNormalized_inverted_hist));\n",
    "#         plt.xlabel('Neurotrace blue linearly normalized + inverted intensity');\n",
    "#         plt.ylabel('Log Number of pixels');\n",
    "#         plt.title('Neurotrace Blue Linearly Normalized + inverted Intensity Histogram');\n",
    "#         plt.show();      \n",
    "\n",
    "\n",
    "#         # Separate Figures\n",
    "\n",
    "# #         plt.figure(figsize=(20,20));\n",
    "#         plt.figure();\n",
    "#         plt.imshow(nissl_region, plt.cm.gray);\n",
    "#         plt.title('Nissl Image, %s' % metadata_cache['sections_to_filenames'][stack][nissl_sec]);\n",
    "#         plt.axis('off');\n",
    "#         plt.show();\n",
    "\n",
    "# #         plt.figure(figsize=(20,20));\n",
    "#         plt.figure();\n",
    "#         plt.imshow(ntb_region_normalized, plt.cm.gray);\n",
    "#         plt.title('Neurotrace Image (Intensity Normalized), %s' % metadata_cache['sections_to_filenames'][stack][ntb_sec]);\n",
    "#         plt.axis('off');\n",
    "#         plt.show();\n",
    "            \n",
    "#         for i in range(5):\n",
    "#     #         plt.figure(figsize=(20,20));\n",
    "#             plt.figure();\n",
    "#             plt.imshow(ntb_region_linearNormalized_diffClips[i], plt.cm.gray);\n",
    "#             plt.title('Neurotrace Image (linearly Normalized), %s' % metadata_cache['sections_to_filenames'][stack][ntb_sec]);\n",
    "#             plt.axis('off');\n",
    "#             plt.show();\n",
    "\n",
    "#     #         plt.figure(figsize=(20,20));\n",
    "#             plt.figure();\n",
    "#             plt.imshow(ntb_region_linearNormalized_inverted_diffClips[i], plt.cm.gray);\n",
    "#             plt.title('Neurotrace Image (linearly Normalized + inverted), %s' % metadata_cache['sections_to_filenames'][stack][ntb_sec]);\n",
    "#             plt.axis('off');\n",
    "#             plt.show();\n",
    "        \n",
    "#         # Subplots\n",
    "#         fig, axes = plt.subplots(ncols=int(np.round((3+len(highs))/2.)), nrows=2, figsize=(20, 20));\n",
    "#         axes = axes.flatten()\n",
    "#         axes[0].imshow(nissl_region, plt.cm.gray);\n",
    "#         axes[0].set_title('Nissl');\n",
    "#         axes[0].axis('off');\n",
    "        \n",
    "#         axes[1].imshow(ntb_region_normalized, plt.cm.gray);\n",
    "#         axes[1].set_title('Neurotrace (nonlinearly normalized, matched)');\n",
    "#         axes[1].axis('off');\n",
    "        \n",
    "#         axes[2].imshow(ntb_region_normalized_default, plt.cm.gray);\n",
    "#         axes[2].set_title('Neurotrace (nonlinearly normalized, default)');\n",
    "#         axes[2].axis('off');\n",
    "        \n",
    "#         for i, high in enumerate(highs):            \n",
    "#             axes[3+i].imshow(ntb_region_linearNormalized_inverted_diffClips[high], plt.cm.gray);\n",
    "#             axes[3+i].set_title('Neurotrace (linearly normalized (0, %d))' % high);\n",
    "#             axes[3+i].axis('off');\n",
    "#         plt.show();\n",
    "        \n",
    "    # Subplots\n",
    "#         imgs = [nissl_region, ntb_region_normalized, ntb_region_normalized_default] + \\\n",
    "#                 [ntb_region_linearNormalized_inverted_diffClips[high] for high in highs]\n",
    "#         display_images_in_grids(imgs, titles=['Nissl', 'NT,nonlinear,matched', 'NT,nonlinear,default'] + \n",
    "#                                 ['NT,linear,%d' % high for high in highs],\n",
    "#                                nc=4, cmap=plt.cm.gray)\n",
    "\n",
    "        scoremap_downscale = 8\n",
    "\n",
    "        nissl_scviz = scoremap_overlay_on(bg='original', stack=stack, structure='7N', \n",
    "                                          in_downscale=1, out_downscale=scoremap_downscale, \n",
    "                                          classifier_id=37, sec=nissl_sec,\n",
    "                                         overlay_alpha=.3, show_above=0.5, cmap_name='jet')\n",
    "\n",
    "        # ntb_scviz = scoremap_overlay_on(bg='original', stack=stack, structure='7N', \n",
    "        #                                   in_downscale=1, out_downscale=scoremap_downscale, \n",
    "        #                                   classifier_id=37, sec=ntb_sec,\n",
    "        #                                  overlay_alpha=.3, show_above=0.5, cmap_name='jet')\n",
    "\n",
    "        # ntb_lin_scviz = scoremap_overlay_on(bg='original', stack=stack, structure='7N', \n",
    "        #                                   in_downscale=1, out_downscale=scoremap_downscale, \n",
    "        #                                   classifier_id=80, sec=ntb_sec,\n",
    "        #                                  overlay_alpha=.3, show_above=0.5, cmap_name='jet')\n",
    "\n",
    "        ntb_scviz = gray2rgb(ntb_region_normalized[::scoremap_downscale, ::scoremap_downscale])\n",
    "\n",
    "        ntb_default_scviz = scoremap_overlay_on(bg=ntb_region_normalized_default, stack=stack, structure='7N', \n",
    "                                          in_downscale=1, out_downscale=scoremap_downscale, \n",
    "                                          classifier_id=37, sec=ntb_sec,\n",
    "                                         overlay_alpha=.3, show_above=0.5, cmap_name='jet',\n",
    "                                       overlay_bbox=(region_x, region_x+region_w, region_y, region_y+region_h))\n",
    "\n",
    "        ntb_lin_scviz_diffClips = {}\n",
    "        for cval, cid in zip(np.arange(500, 3000, 500), range(80, 86)):\n",
    "            ntb_lin_scviz_diffClips[cval] =  scoremap_overlay_on(bg=ntb_region_linearNormalized_inverted_diffClips[cval], \n",
    "                                        stack=stack, structure='7N', \n",
    "                                          in_downscale=1, out_downscale=scoremap_downscale, \n",
    "                                          classifier_id=cid, sec=ntb_sec,\n",
    "                                         overlay_alpha=.3, show_above=0.5, cmap_name='jet',\n",
    "                                       overlay_bbox=(region_x, region_x+region_w, region_y, region_y+region_h))\n",
    "\n",
    "        imgs = [nissl_scviz[region_y/scoremap_downscale:(region_y+region_h)/scoremap_downscale, \n",
    "                           region_x/scoremap_downscale:(region_x+region_w)/scoremap_downscale],\n",
    "        #                           ntb_scviz[region_y/scoremap_downscale:(region_y+region_h)/scoremap_downscale, \n",
    "        #                      region_x/scoremap_downscale:(region_x+region_w)/scoremap_downscale],\n",
    "        #                          ntb_lin_scviz[region_y/scoremap_downscale:(region_y+region_h)/scoremap_downscale, \n",
    "        #                      region_x/scoremap_downscale:(region_x+region_w)/scoremap_downscale]],\n",
    "                             ntb_scviz, ntb_default_scviz] + [ntb_lin_scviz_diffClips[cval] for cval in range(500, 3000, 500)]\n",
    "\n",
    "        display_images_in_grids(imgs,\n",
    "                            titles=['Nissl', 'NT,nonlinear,matched', 'NT,nonlinear,default'] + \n",
    "                                    ['NT,linear,%d' % cval for cval in range(500, 3000, 500)],\n",
    "                     nc=4, cmap=plt.cm.gray)        \n",
    "        \n",
    "        plt.figure()\n",
    "        plt.plot(ntb_blue_bins, ntb_to_nissl_mapping, label='matched');\n",
    "        plt.plot(ntb_blue_bins, default_ntb_to_nissl_mapping, label='default');\n",
    "        plt.legend();\n",
    "        plt.show();\n",
    "\n",
    "#     fp = os.path.join(DATA_DIR, stack, stack + '_intensity_mapping', '%s_to_%s_intensity_mapping_all_regions.npy' % (ntb_fn, nissl_fn))\n",
    "#     create_parent_dir_if_not_exists(fp)\n",
    "#     np.save(fp, np.asarray(ntb_matched_values_all_examples_one_section))\n",
    "#     upload_to_s3(fp)\n",
    "\n",
    "#     fp = os.path.join(DATA_DIR, stack, stack + '_intensity_mapping', '%s_to_%s_region_bboxes.npy' % (ntb_fn, nissl_fn))\n",
    "#     np.save(fp, np.asarray(region_bboxes_all_examples_one_section))\n",
    "#     upload_to_s3(fp)\n",
    "\n",
    "#     median_mapping_one_section = np.median(ntb_matched_values_all_examples_one_section, axis=0)\n",
    "#     fp = DataManager.get_ntb_to_nissl_intensity_profile_mapping_filepath(stack=stack, fn=ntb_fn)\n",
    "#     np.save(fp, np.asarray(median_mapping_one_section))\n",
    "#     upload_to_s3(fp)"
   ]
  },
  {
   "cell_type": "code",
   "execution_count": null,
   "metadata": {
    "collapsed": true,
    "scrolled": true
   },
   "outputs": [],
   "source": [
    "# plt.figure(figsize=(20,20));\n",
    "# plt.imshow(nissl_scviz[region_y/scoremap_downscale:(region_y+region_h)/scoremap_downscale, \n",
    "#                        region_x/scoremap_downscale:(region_x+region_w)/scoremap_downscale]);\n",
    "# plt.axis('off');\n",
    "# plt.show();\n",
    "\n",
    "# plt.figure(figsize=(20,20));\n",
    "# # plt.imshow(ntb_scviz[region_y/scoremap_downscale:(region_y+region_h)/scoremap_downscale, \n",
    "# #                      region_x/scoremap_downscale:(region_x+region_w)/scoremap_downscale]);\n",
    "# plt.imshow(ntb_scviz);\n",
    "# plt.axis('off');\n",
    "# plt.show();\n",
    "\n",
    "# plt.figure(figsize=(20,20));\n",
    "# # plt.imshow(ntb_lin_scviz[region_y/scoremap_downscale:(region_y+region_h)/scoremap_downscale, \n",
    "# #                      region_x/scoremap_downscale:(region_x+region_w)/scoremap_downscale]);\n",
    "# plt.imshow(ntb_lin_scviz);\n",
    "# plt.axis('off');\n",
    "# plt.show();"
   ]
  },
  {
   "cell_type": "code",
   "execution_count": null,
   "metadata": {
    "collapsed": true
   },
   "outputs": [],
   "source": [
    "# plt.figure(figsize=(10,5));\n",
    "# for a in ntb_matched_values_all_examples:\n",
    "#     plt.plot(ntb_values, a);\n",
    "# plt.xlim([0,5000]);\n",
    "# plt.ylim([0,256]);\n",
    "# plt.xlabel('Neurotrace intensity');\n",
    "# plt.ylabel('Matched nissl intensity');\n",
    "# plt.show();"
   ]
  },
  {
   "cell_type": "markdown",
   "metadata": {},
   "source": [
    "# A full neurotrace stack, compare nonlinear and linear normalized"
   ]
  },
  {
   "cell_type": "code",
   "execution_count": null,
   "metadata": {
    "collapsed": true
   },
   "outputs": [],
   "source": [
    "# Assume both nonlinear and linear normalized neurotrace images are already computed"
   ]
  },
  {
   "cell_type": "code",
   "execution_count": null,
   "metadata": {
    "collapsed": true
   },
   "outputs": [],
   "source": [
    "stack = 'MD635'"
   ]
  },
  {
   "cell_type": "code",
   "execution_count": null,
   "metadata": {
    "collapsed": true,
    "scrolled": true
   },
   "outputs": [],
   "source": [
    "for fn in metadata_cache['valid_filenames'][stack][100:105]:\n",
    "    img_nonlin = DataManager.load_image(stack=stack, fn=fn, resol='lossless', version='cropped_gray')\n",
    "    img_lin = DataManager.load_image(stack=stack, fn=fn, resol='lossless', version='cropped_gray_linearNormalized')\n",
    "    \n",
    "    region_x = 233 * 32\n",
    "    region_y = 299 * 32\n",
    "    region_w = 124 * 32\n",
    "    region_h = 98 * 32\n",
    "\n",
    "    region_nonlin = img_nonlin[region_y:region_y+region_h, region_x:region_x+region_w]\n",
    "    region_lin = img_lin[region_y:region_y+region_h, region_x:region_x+region_w]\n",
    "    \n",
    "#     fig, axes = plt.subplots(ncols=2, nrows=1, figsize=(20,10));\n",
    "\n",
    "#     axes[0].imshow(region_nonlin, plt.cm.gray);\n",
    "#     axes[0].set_title('Neurotrace (nonlinearly normalized)');\n",
    "#     axes[0].axis('off');\n",
    "\n",
    "#     axes[1].imshow(region_lin, plt.cm.gray);\n",
    "#     axes[1].set_title('Neurotrace (linearly normalized)');\n",
    "#     axes[1].axis('off');\n",
    "#     plt.show();    \n",
    "    \n",
    "    plt.figure(figsize=(20,20));\n",
    "    plt.imshow(region_nonlin, plt.cm.gray);\n",
    "    plt.title('Neurotrace Image (nonlinearly Normalized), %s' % fn);\n",
    "    plt.axis('off');\n",
    "    plt.show();\n",
    "\n",
    "    plt.figure(figsize=(20,20));\n",
    "    plt.imshow(region_lin, plt.cm.gray);\n",
    "    plt.title('Neurotrace Image (linearly Normalized), %s' % fn);\n",
    "    plt.axis('off');\n",
    "    plt.show();"
   ]
  },
  {
   "cell_type": "markdown",
   "metadata": {
    "collapsed": true
   },
   "source": [
    "# Same image pair, different regions. nissl-nissl"
   ]
  },
  {
   "cell_type": "code",
   "execution_count": null,
   "metadata": {
    "collapsed": true
   },
   "outputs": [],
   "source": [
    "stack = 'MD657'"
   ]
  },
  {
   "cell_type": "code",
   "execution_count": null,
   "metadata": {
    "collapsed": true
   },
   "outputs": [],
   "source": [
    "w, h = metadata_cache['image_shape'][stack]"
   ]
  },
  {
   "cell_type": "code",
   "execution_count": null,
   "metadata": {
    "collapsed": true
   },
   "outputs": [],
   "source": [
    "nissl_sections = [metadata_cache['filenames_to_sections'][stack][fn] \n",
    "                  for fn in metadata_cache['valid_filenames'][stack] if fn.split('-')[1][0] == 'N']\n",
    "ntb_sections = [metadata_cache['filenames_to_sections'][stack][fn] \n",
    "                for fn in metadata_cache['valid_filenames'][stack] if fn.split('-')[1][0] == 'F']"
   ]
  },
  {
   "cell_type": "code",
   "execution_count": null,
   "metadata": {
    "collapsed": true
   },
   "outputs": [],
   "source": [
    "# Generate nissl-nissl pairs.\n",
    "\n",
    "compare_pairs = []\n",
    "for nissl_sec in nissl_sections:\n",
    "    for i in range(1, 10):\n",
    "        closest_nissl_sec = nissl_sec + i\n",
    "        if closest_nissl_sec in nissl_sections:\n",
    "            break\n",
    "    compare_pairs.append((nissl_sec, closest_nissl_sec))"
   ]
  },
  {
   "cell_type": "code",
   "execution_count": null,
   "metadata": {
    "collapsed": true,
    "scrolled": true
   },
   "outputs": [],
   "source": [
    "# nissl2_matched_values_all_examples = defaultdict(list)\n",
    "# region_bboxes_all_examples = defaultdict(list)\n",
    "\n",
    "for nissl_sec, nissl2_sec in compare_pairs:\n",
    "    \n",
    "    nissl2_matched_values_all_examples_one_section = []\n",
    "    region_bboxes_all_examples_one_section = []\n",
    "\n",
    "    nissl_tb_mask = DataManager.load_thumbnail_mask_v3(stack=stack, section=nissl_sec, prep_id=2)\n",
    "    \n",
    "    for region_id in range(10):\n",
    "\n",
    "        while True:\n",
    "            region1_x = np.random.randint(0, w-10000, 1)[0]\n",
    "            region1_y = np.random.randint(0, h-10000, 1)[0]\n",
    "            region1_w = 5000\n",
    "            region1_h = 5000\n",
    "            \n",
    "            tb_region1_xmin = region1_x / 32\n",
    "            tb_region1_xmax = (region1_x + region1_w) / 32\n",
    "            tb_region1_ymin = region1_y / 32\n",
    "            tb_region1_ymax = (region1_y + region1_h) / 32\n",
    "            \n",
    "            if np.all(np.r_[nissl_tb_mask[tb_region1_ymin, tb_region1_xmin],\n",
    "            nissl_tb_mask[tb_region1_ymin, tb_region1_xmax],\n",
    "            nissl_tb_mask[tb_region1_ymax, tb_region1_xmin],\n",
    "            nissl_tb_mask[tb_region1_ymax, tb_region1_xmax]]):\n",
    "                break\n",
    "                \n",
    "        print \"Region %d: x=%d, y=%d, w=%d, h=%d\" % (region_id, region1_x, region1_y, region1_w, region1_h)\n",
    "\n",
    "\n",
    "#         t = time.time()\n",
    "        nissl_im = DataManager.load_image_v2(stack=stack, section=nissl_sec, prep_id=2, version='gray', resol='lossless')\n",
    "        nissl_region1 = img_as_ubyte(nissl_im[region1_y:region1_y+region1_h, region1_x:region1_x+region1_w])\n",
    "#         nissl_gray_bins = np.arange(0, 257)\n",
    "#         nissl_gray_hist = np.histogram(nissl_region1.flatten(), bins=nissl_gray_bins)[0]\n",
    "#         sys.stderr.write('Load Nissl1: %.2f seconds.\\n' % (time.time()-t))\n",
    "\n",
    "#         t = time.time()        \n",
    "        nissl2_im = DataManager.load_image_v2(stack=stack, section=nissl2_sec, prep_id=2, version='gray', resol='lossless')\n",
    "        nissl2_region1 = img_as_ubyte(nissl2_im[region1_y:region1_y+region1_h, region1_x:region1_x+region1_w])\n",
    "#         nissl2_gray_bins = np.arange(0, 257)\n",
    "#         nissl2_gray_hist = np.histogram(nissl2_region1.flatten(), bins=nissl2_gray_bins)[0]\n",
    "#         sys.stderr.write('Load Nissl2: %.2f seconds.\\n' % (time.time()-t))\n",
    "\n",
    "        ###############\n",
    "        \n",
    "#         t = time.time()\n",
    "        nissl2_vals, nissl_vals = match_histogram(nissl2_region1, nissl_region1)\n",
    "        nissl2_to_nissl_mapping =  np.round(np.interp(np.arange(255), np.r_[0, nissl2_vals], np.r_[0, nissl_vals])).astype(np.uint8)\n",
    "        # If minimum level is not 0, force the zero level of two images to match.\n",
    "#         sys.stderr.write('Compute matching: %.2f seconds.\\n' % (time.time()-t))\n",
    "\n",
    "    #     fig, axes = plt.subplots(ncols=2, nrows=1, figsize=(20,10));\n",
    "    #     axes[0].imshow(nissl_region1, plt.cm.gray);\n",
    "    #     axes[0].set_title('Nissl1');\n",
    "    #     axes[1].imshow(nissl2_region1_hist_matched.astype(np.uint8), plt.cm.gray);\n",
    "    #     axes[1].set_title('Nissl2 (histogram matched to Nissl1)');\n",
    "    #     plt.show();\n",
    "        \n",
    "        nissl2_matched_values_all_examples_one_section.append(nissl2_to_nissl_mapping)\n",
    "        region_bboxes_all_examples_one_section.append((region1_x, region1_y, region1_w, region1_h))\n",
    "\n",
    "#         nissl2_matched_values_all_examples[(nissl_sec, nissl2_sec)].append(nissl2_matched_values)\n",
    "#         region_bboxes_all_examples[(nissl_sec, nissl2_sec)].append((region1_x, region1_y, region1_w, region1_h))\n",
    "    \n",
    "    fp = os.path.join(THUMBNAIL_DATA_DIR, stack, stack + '_intensity_mapping', '%s_to_%s_intensity_mapping_all_regions.npy' % (metadata_cache['sections_to_filenames'][stack][nissl2_sec], metadata_cache['sections_to_filenames'][stack][nissl_sec]))\n",
    "    create_parent_dir_if_not_exists(fp)\n",
    "    np.save(fp, nissl2_matched_values_all_examples_one_section)\n",
    "    upload_to_s3(fp, local_root=THUMBNAIL_DATA_ROOTDIR)\n",
    "        \n",
    "    fp = os.path.join(THUMBNAIL_DATA_DIR, stack, stack + '_intensity_mapping', '%s_to_%s_region_bboxes.npy' % (metadata_cache['sections_to_filenames'][stack][nissl2_sec], metadata_cache['sections_to_filenames'][stack][nissl_sec]))\n",
    "    np.save(fp,  np.asarray(region_bboxes_all_examples_one_section))\n",
    "    upload_to_s3(fp, local_root=THUMBNAIL_DATA_ROOTDIR)\n",
    "        \n",
    "#         plt.plot(nissl2_values, nissl2_matched_values);\n",
    "#         plt.xlim([0,256]);\n",
    "#         plt.ylim([0,256]);\n",
    "#         plt.xlabel('Nissl2 intensity');\n",
    "#         plt.ylabel('Matched nissl1 intensity');\n",
    "#         plt.show();"
   ]
  },
  {
   "cell_type": "code",
   "execution_count": null,
   "metadata": {
    "collapsed": true
   },
   "outputs": [],
   "source": [
    "# plt.figure(figsize=(10,5));\n",
    "# for a in nissl2_matched_values_all_examples:\n",
    "#     plt.plot(nissl2_values, a);\n",
    "# plt.xlim([0,256]);\n",
    "# plt.ylim([0,256]);\n",
    "# plt.xlabel('Nissl1 intensity');\n",
    "# plt.ylabel('Nissl2 matched to Nissl1 intensity');\n",
    "# plt.show();"
   ]
  },
  {
   "cell_type": "code",
   "execution_count": null,
   "metadata": {
    "collapsed": true
   },
   "outputs": [],
   "source": [
    "for (nissl_sec, nissl2_sec), matched_values in sorted(nissl2_matched_values_all_examples.items()):\n",
    "    plt.figure(figsize=(5,5));\n",
    "    for a in matched_values:\n",
    "        plt.plot(nissl2_values, a);\n",
    "    plt.xlim([0,256]);\n",
    "    plt.ylim([0,256]);\n",
    "    plt.xlabel('Nissl1 intensity');\n",
    "    plt.ylabel('Nissl2 matched to Nissl1 intensity');\n",
    "    plt.title('%d, %d' % (nissl_sec, nissl2_sec));\n",
    "    plt.axis('equal');\n",
    "    plt.show();"
   ]
  },
  {
   "cell_type": "code",
   "execution_count": null,
   "metadata": {
    "collapsed": true
   },
   "outputs": [],
   "source": [
    "plt.bar(nissl_gray_bins[:-1], nissl_gray_hist);\n",
    "plt.xlabel('Nissl intensity');\n",
    "plt.show();\n",
    "\n",
    "plt.bar(ntb_blue_bins[:-1], ntb_blue_hist);\n",
    "plt.xlabel('Neurotrace blue intensity');\n",
    "plt.show();"
   ]
  },
  {
   "cell_type": "markdown",
   "metadata": {},
   "source": [
    "# Same image pair, different regions. fluor-fluor"
   ]
  },
  {
   "cell_type": "code",
   "execution_count": 3,
   "metadata": {
    "collapsed": true
   },
   "outputs": [],
   "source": [
    "# stack = 'MD635'\n",
    "stack = 'ChatCryoJane201710'\n",
    "w, h = metadata_cache['image_shape'][stack]"
   ]
  },
  {
   "cell_type": "code",
   "execution_count": 4,
   "metadata": {
    "collapsed": true
   },
   "outputs": [],
   "source": [
    "if stack == 'ChatCryoJane201710':\n",
    "    nissl_sections = []\n",
    "    ntb_sections = [metadata_cache['filenames_to_sections'][stack][fn] \n",
    "                    for fn in metadata_cache['valid_filenames'][stack]]\n",
    "else:\n",
    "    nissl_sections = [metadata_cache['filenames_to_sections'][stack][fn] \n",
    "                      for fn in metadata_cache['valid_filenames'][stack] if fn.split('-')[1][0] == 'N']\n",
    "    ntb_sections = [metadata_cache['filenames_to_sections'][stack][fn] \n",
    "                    for fn in metadata_cache['valid_filenames'][stack] if fn.split('-')[1][0] == 'F']"
   ]
  },
  {
   "cell_type": "code",
   "execution_count": 5,
   "metadata": {
    "collapsed": true
   },
   "outputs": [],
   "source": [
    "# Generate ntb-ntb pairs.\n",
    "\n",
    "compare_pairs = []\n",
    "for ntb_sec in ntb_sections:\n",
    "    for i in range(1, 10):\n",
    "        closest_ntb_sec = ntb_sec + i\n",
    "        if closest_ntb_sec in ntb_sections:\n",
    "            break\n",
    "    compare_pairs.append((ntb_sec, closest_ntb_sec))"
   ]
  },
  {
   "cell_type": "code",
   "execution_count": null,
   "metadata": {
    "scrolled": true
   },
   "outputs": [
    {
     "name": "stderr",
     "output_type": "stream",
     "text": [
      "ntb 1, ntb 2\n",
      "Load NTB1: 0.00 seconds.\n",
      "Load NTB2: 0.00 seconds.\n"
     ]
    },
    {
     "name": "stdout",
     "output_type": "stream",
     "text": [
      "Region 0: x=382, y=6797, w=2000, h=2000\n",
      "convert /media/yuncong/BstemAtlasData/CSHL_data_processed/ChatCryoJane201710/ChatCryoJane201710_prep2_lossless_Ntb/ChatCryoJane201710_slide1-S1_prep2_lossless_Ntb.tif -crop 2000x2000+382+6797 /tmp/tmp.tif\n",
      "convert /media/yuncong/BstemAtlasData/CSHL_data_processed/ChatCryoJane201710/ChatCryoJane201710_prep2_lossless_Ntb/ChatCryoJane201710_slide2-S1_prep2_lossless_Ntb.tif -crop 2000x2000+382+6797 /tmp/tmp.tif\n",
      "Region 1: x=6471, y=11205, w=2000, h=2000\n",
      "convert /media/yuncong/BstemAtlasData/CSHL_data_processed/ChatCryoJane201710/ChatCryoJane201710_prep2_lossless_Ntb/ChatCryoJane201710_slide1-S1_prep2_lossless_Ntb.tif -crop 2000x2000+6471+11205 /tmp/tmp.tif\n",
      "convert /media/yuncong/BstemAtlasData/CSHL_data_processed/ChatCryoJane201710/ChatCryoJane201710_prep2_lossless_Ntb/ChatCryoJane201710_slide2-S1_prep2_lossless_Ntb.tif -crop 2000x2000+6471+11205 /tmp/tmp.tif\n",
      "Region 2: x=2123, y=6917, w=2000, h=2000\n",
      "convert /media/yuncong/BstemAtlasData/CSHL_data_processed/ChatCryoJane201710/ChatCryoJane201710_prep2_lossless_Ntb/ChatCryoJane201710_slide1-S1_prep2_lossless_Ntb.tif -crop 2000x2000+2123+6917 /tmp/tmp.tif\n",
      "convert /media/yuncong/BstemAtlasData/CSHL_data_processed/ChatCryoJane201710/ChatCryoJane201710_prep2_lossless_Ntb/ChatCryoJane201710_slide2-S1_prep2_lossless_Ntb.tif -crop 2000x2000+2123+6917 /tmp/tmp.tif\n",
      "Region 3: x=534, y=9358, w=2000, h=2000\n",
      "convert /media/yuncong/BstemAtlasData/CSHL_data_processed/ChatCryoJane201710/ChatCryoJane201710_prep2_lossless_Ntb/ChatCryoJane201710_slide1-S1_prep2_lossless_Ntb.tif -crop 2000x2000+534+9358 /tmp/tmp.tif\n",
      "convert /media/yuncong/BstemAtlasData/CSHL_data_processed/ChatCryoJane201710/ChatCryoJane201710_prep2_lossless_Ntb/ChatCryoJane201710_slide2-S1_prep2_lossless_Ntb.tif -crop 2000x2000+534+9358 /tmp/tmp.tif\n",
      "Region 4: x=2634, y=2965, w=2000, h=2000\n",
      "convert /media/yuncong/BstemAtlasData/CSHL_data_processed/ChatCryoJane201710/ChatCryoJane201710_prep2_lossless_Ntb/ChatCryoJane201710_slide1-S1_prep2_lossless_Ntb.tif -crop 2000x2000+2634+2965 /tmp/tmp.tif\n",
      "convert /media/yuncong/BstemAtlasData/CSHL_data_processed/ChatCryoJane201710/ChatCryoJane201710_prep2_lossless_Ntb/ChatCryoJane201710_slide2-S1_prep2_lossless_Ntb.tif -crop 2000x2000+2634+2965 /tmp/tmp.tif\n",
      "Region 5: x=6439, y=12156, w=2000, h=2000\n",
      "convert /media/yuncong/BstemAtlasData/CSHL_data_processed/ChatCryoJane201710/ChatCryoJane201710_prep2_lossless_Ntb/ChatCryoJane201710_slide1-S1_prep2_lossless_Ntb.tif -crop 2000x2000+6439+12156 /tmp/tmp.tif\n",
      "convert /media/yuncong/BstemAtlasData/CSHL_data_processed/ChatCryoJane201710/ChatCryoJane201710_prep2_lossless_Ntb/ChatCryoJane201710_slide2-S1_prep2_lossless_Ntb.tif -crop 2000x2000+6439+12156 /tmp/tmp.tif\n",
      "Region 6: x=2086, y=11782, w=2000, h=2000\n",
      "convert /media/yuncong/BstemAtlasData/CSHL_data_processed/ChatCryoJane201710/ChatCryoJane201710_prep2_lossless_Ntb/ChatCryoJane201710_slide1-S1_prep2_lossless_Ntb.tif -crop 2000x2000+2086+11782 /tmp/tmp.tif\n",
      "convert /media/yuncong/BstemAtlasData/CSHL_data_processed/ChatCryoJane201710/ChatCryoJane201710_prep2_lossless_Ntb/ChatCryoJane201710_slide2-S1_prep2_lossless_Ntb.tif -crop 2000x2000+2086+11782 /tmp/tmp.tif\n",
      "Region 7: x=3713, y=9666, w=2000, h=2000\n",
      "convert /media/yuncong/BstemAtlasData/CSHL_data_processed/ChatCryoJane201710/ChatCryoJane201710_prep2_lossless_Ntb/ChatCryoJane201710_slide1-S1_prep2_lossless_Ntb.tif -crop 2000x2000+3713+9666 /tmp/tmp.tif\n",
      "convert /media/yuncong/BstemAtlasData/CSHL_data_processed/ChatCryoJane201710/ChatCryoJane201710_prep2_lossless_Ntb/ChatCryoJane201710_slide2-S1_prep2_lossless_Ntb.tif -crop 2000x2000+3713+9666 /tmp/tmp.tif\n",
      "Region 8: x=2663, y=13877, w=2000, h=2000\n",
      "convert /media/yuncong/BstemAtlasData/CSHL_data_processed/ChatCryoJane201710/ChatCryoJane201710_prep2_lossless_Ntb/ChatCryoJane201710_slide1-S1_prep2_lossless_Ntb.tif -crop 2000x2000+2663+13877 /tmp/tmp.tif\n",
      "convert /media/yuncong/BstemAtlasData/CSHL_data_processed/ChatCryoJane201710/ChatCryoJane201710_prep2_lossless_Ntb/ChatCryoJane201710_slide2-S1_prep2_lossless_Ntb.tif -crop 2000x2000+2663+13877 /tmp/tmp.tif\n",
      "Region 9: x=3987, y=11564, w=2000, h=2000\n",
      "convert /media/yuncong/BstemAtlasData/CSHL_data_processed/ChatCryoJane201710/ChatCryoJane201710_prep2_lossless_Ntb/ChatCryoJane201710_slide1-S1_prep2_lossless_Ntb.tif -crop 2000x2000+3987+11564 /tmp/tmp.tif\n",
      "convert /media/yuncong/BstemAtlasData/CSHL_data_processed/ChatCryoJane201710/ChatCryoJane201710_prep2_lossless_Ntb/ChatCryoJane201710_slide2-S1_prep2_lossless_Ntb.tif -crop 2000x2000+3987+11564 /tmp/tmp.tif\n",
      "aws s3 cp \"/media/yuncong/BstemAtlasData/CSHL_data_processed/ChatCryoJane201710/ChatCryoJane201710_intensity_mapping/ChatCryoJane201710_slide2-S1_to_ChatCryoJane201710_slide1-S1_intensity_mapping_all_regions.npy\" \"s3://mousebrainatlas-data/CSHL_data_processed/ChatCryoJane201710/ChatCryoJane201710_intensity_mapping/ChatCryoJane201710_slide2-S1_to_ChatCryoJane201710_slide1-S1_intensity_mapping_all_regions.npy\"\n",
      "aws s3 cp \"/media/yuncong/BstemAtlasData/CSHL_data_processed/ChatCryoJane201710/ChatCryoJane201710_intensity_mapping/ChatCryoJane201710_slide2-S1_to_ChatCryoJane201710_slide1-S1_region_bboxes.npy\" \"s3://mousebrainatlas-data/CSHL_data_processed/ChatCryoJane201710/ChatCryoJane201710_intensity_mapping/ChatCryoJane201710_slide2-S1_to_ChatCryoJane201710_slide1-S1_region_bboxes.npy\"\n"
     ]
    },
    {
     "name": "stderr",
     "output_type": "stream",
     "text": [
      "ntb 2, ntb 3\n",
      "Load NTB1: 0.00 seconds.\n",
      "Load NTB2: 0.00 seconds.\n"
     ]
    },
    {
     "name": "stdout",
     "output_type": "stream",
     "text": [
      "Region 0: x=8595, y=5142, w=2000, h=2000\n",
      "convert /media/yuncong/BstemAtlasData/CSHL_data_processed/ChatCryoJane201710/ChatCryoJane201710_prep2_lossless_Ntb/ChatCryoJane201710_slide2-S1_prep2_lossless_Ntb.tif -crop 2000x2000+8595+5142 /tmp/tmp.tif\n",
      "convert /media/yuncong/BstemAtlasData/CSHL_data_processed/ChatCryoJane201710/ChatCryoJane201710_prep2_lossless_Ntb/ChatCryoJane201710_slide1-S2_prep2_lossless_Ntb.tif -crop 2000x2000+8595+5142 /tmp/tmp.tif\n",
      "Region 1: x=4615, y=11631, w=2000, h=2000\n",
      "convert /media/yuncong/BstemAtlasData/CSHL_data_processed/ChatCryoJane201710/ChatCryoJane201710_prep2_lossless_Ntb/ChatCryoJane201710_slide2-S1_prep2_lossless_Ntb.tif -crop 2000x2000+4615+11631 /tmp/tmp.tif\n",
      "convert /media/yuncong/BstemAtlasData/CSHL_data_processed/ChatCryoJane201710/ChatCryoJane201710_prep2_lossless_Ntb/ChatCryoJane201710_slide1-S2_prep2_lossless_Ntb.tif -crop 2000x2000+4615+11631 /tmp/tmp.tif\n",
      "Region 2: x=6226, y=5938, w=2000, h=2000\n",
      "convert /media/yuncong/BstemAtlasData/CSHL_data_processed/ChatCryoJane201710/ChatCryoJane201710_prep2_lossless_Ntb/ChatCryoJane201710_slide2-S1_prep2_lossless_Ntb.tif -crop 2000x2000+6226+5938 /tmp/tmp.tif\n",
      "convert /media/yuncong/BstemAtlasData/CSHL_data_processed/ChatCryoJane201710/ChatCryoJane201710_prep2_lossless_Ntb/ChatCryoJane201710_slide1-S2_prep2_lossless_Ntb.tif -crop 2000x2000+6226+5938 /tmp/tmp.tif\n",
      "Region 3: x=4777, y=11777, w=2000, h=2000\n",
      "convert /media/yuncong/BstemAtlasData/CSHL_data_processed/ChatCryoJane201710/ChatCryoJane201710_prep2_lossless_Ntb/ChatCryoJane201710_slide2-S1_prep2_lossless_Ntb.tif -crop 2000x2000+4777+11777 /tmp/tmp.tif\n",
      "convert /media/yuncong/BstemAtlasData/CSHL_data_processed/ChatCryoJane201710/ChatCryoJane201710_prep2_lossless_Ntb/ChatCryoJane201710_slide1-S2_prep2_lossless_Ntb.tif -crop 2000x2000+4777+11777 /tmp/tmp.tif\n",
      "Region 4: x=7741, y=3282, w=2000, h=2000\n",
      "convert /media/yuncong/BstemAtlasData/CSHL_data_processed/ChatCryoJane201710/ChatCryoJane201710_prep2_lossless_Ntb/ChatCryoJane201710_slide2-S1_prep2_lossless_Ntb.tif -crop 2000x2000+7741+3282 /tmp/tmp.tif\n",
      "convert /media/yuncong/BstemAtlasData/CSHL_data_processed/ChatCryoJane201710/ChatCryoJane201710_prep2_lossless_Ntb/ChatCryoJane201710_slide1-S2_prep2_lossless_Ntb.tif -crop 2000x2000+7741+3282 /tmp/tmp.tif\n",
      "Region 5: x=2787, y=5258, w=2000, h=2000\n",
      "convert /media/yuncong/BstemAtlasData/CSHL_data_processed/ChatCryoJane201710/ChatCryoJane201710_prep2_lossless_Ntb/ChatCryoJane201710_slide2-S1_prep2_lossless_Ntb.tif -crop 2000x2000+2787+5258 /tmp/tmp.tif\n",
      "convert /media/yuncong/BstemAtlasData/CSHL_data_processed/ChatCryoJane201710/ChatCryoJane201710_prep2_lossless_Ntb/ChatCryoJane201710_slide1-S2_prep2_lossless_Ntb.tif -crop 2000x2000+2787+5258 /tmp/tmp.tif\n",
      "Region 6: x=2251, y=3506, w=2000, h=2000\n",
      "convert /media/yuncong/BstemAtlasData/CSHL_data_processed/ChatCryoJane201710/ChatCryoJane201710_prep2_lossless_Ntb/ChatCryoJane201710_slide2-S1_prep2_lossless_Ntb.tif -crop 2000x2000+2251+3506 /tmp/tmp.tif\n",
      "convert /media/yuncong/BstemAtlasData/CSHL_data_processed/ChatCryoJane201710/ChatCryoJane201710_prep2_lossless_Ntb/ChatCryoJane201710_slide1-S2_prep2_lossless_Ntb.tif -crop 2000x2000+2251+3506 /tmp/tmp.tif\n",
      "Region 7: x=5393, y=7033, w=2000, h=2000\n",
      "convert /media/yuncong/BstemAtlasData/CSHL_data_processed/ChatCryoJane201710/ChatCryoJane201710_prep2_lossless_Ntb/ChatCryoJane201710_slide2-S1_prep2_lossless_Ntb.tif -crop 2000x2000+5393+7033 /tmp/tmp.tif\n",
      "convert /media/yuncong/BstemAtlasData/CSHL_data_processed/ChatCryoJane201710/ChatCryoJane201710_prep2_lossless_Ntb/ChatCryoJane201710_slide1-S2_prep2_lossless_Ntb.tif -crop 2000x2000+5393+7033 /tmp/tmp.tif\n",
      "Region 8: x=2012, y=10942, w=2000, h=2000\n",
      "convert /media/yuncong/BstemAtlasData/CSHL_data_processed/ChatCryoJane201710/ChatCryoJane201710_prep2_lossless_Ntb/ChatCryoJane201710_slide2-S1_prep2_lossless_Ntb.tif -crop 2000x2000+2012+10942 /tmp/tmp.tif\n",
      "convert /media/yuncong/BstemAtlasData/CSHL_data_processed/ChatCryoJane201710/ChatCryoJane201710_prep2_lossless_Ntb/ChatCryoJane201710_slide1-S2_prep2_lossless_Ntb.tif -crop 2000x2000+2012+10942 /tmp/tmp.tif\n",
      "Region 9: x=4535, y=2381, w=2000, h=2000\n",
      "convert /media/yuncong/BstemAtlasData/CSHL_data_processed/ChatCryoJane201710/ChatCryoJane201710_prep2_lossless_Ntb/ChatCryoJane201710_slide2-S1_prep2_lossless_Ntb.tif -crop 2000x2000+4535+2381 /tmp/tmp.tif\n",
      "convert /media/yuncong/BstemAtlasData/CSHL_data_processed/ChatCryoJane201710/ChatCryoJane201710_prep2_lossless_Ntb/ChatCryoJane201710_slide1-S2_prep2_lossless_Ntb.tif -crop 2000x2000+4535+2381 /tmp/tmp.tif\n",
      "aws s3 cp \"/media/yuncong/BstemAtlasData/CSHL_data_processed/ChatCryoJane201710/ChatCryoJane201710_intensity_mapping/ChatCryoJane201710_slide1-S2_to_ChatCryoJane201710_slide2-S1_intensity_mapping_all_regions.npy\" \"s3://mousebrainatlas-data/CSHL_data_processed/ChatCryoJane201710/ChatCryoJane201710_intensity_mapping/ChatCryoJane201710_slide1-S2_to_ChatCryoJane201710_slide2-S1_intensity_mapping_all_regions.npy\"\n",
      "aws s3 cp \"/media/yuncong/BstemAtlasData/CSHL_data_processed/ChatCryoJane201710/ChatCryoJane201710_intensity_mapping/ChatCryoJane201710_slide1-S2_to_ChatCryoJane201710_slide2-S1_region_bboxes.npy\" \"s3://mousebrainatlas-data/CSHL_data_processed/ChatCryoJane201710/ChatCryoJane201710_intensity_mapping/ChatCryoJane201710_slide1-S2_to_ChatCryoJane201710_slide2-S1_region_bboxes.npy\"\n"
     ]
    },
    {
     "name": "stderr",
     "output_type": "stream",
     "text": [
      "ntb 3, ntb 4\n",
      "Load NTB1: 0.00 seconds.\n",
      "Load NTB2: 0.00 seconds.\n"
     ]
    },
    {
     "name": "stdout",
     "output_type": "stream",
     "text": [
      "Region 0: x=5836, y=6441, w=2000, h=2000\n",
      "convert /media/yuncong/BstemAtlasData/CSHL_data_processed/ChatCryoJane201710/ChatCryoJane201710_prep2_lossless_Ntb/ChatCryoJane201710_slide1-S2_prep2_lossless_Ntb.tif -crop 2000x2000+5836+6441 /tmp/tmp.tif\n",
      "convert /media/yuncong/BstemAtlasData/CSHL_data_processed/ChatCryoJane201710/ChatCryoJane201710_prep2_lossless_Ntb/ChatCryoJane201710_slide2-S2_prep2_lossless_Ntb.tif -crop 2000x2000+5836+6441 /tmp/tmp.tif\n",
      "Region 1: x=3547, y=6226, w=2000, h=2000\n",
      "convert /media/yuncong/BstemAtlasData/CSHL_data_processed/ChatCryoJane201710/ChatCryoJane201710_prep2_lossless_Ntb/ChatCryoJane201710_slide1-S2_prep2_lossless_Ntb.tif -crop 2000x2000+3547+6226 /tmp/tmp.tif\n",
      "convert /media/yuncong/BstemAtlasData/CSHL_data_processed/ChatCryoJane201710/ChatCryoJane201710_prep2_lossless_Ntb/ChatCryoJane201710_slide2-S2_prep2_lossless_Ntb.tif -crop 2000x2000+3547+6226 /tmp/tmp.tif\n",
      "Region 2: x=829, y=12892, w=2000, h=2000\n",
      "convert /media/yuncong/BstemAtlasData/CSHL_data_processed/ChatCryoJane201710/ChatCryoJane201710_prep2_lossless_Ntb/ChatCryoJane201710_slide1-S2_prep2_lossless_Ntb.tif -crop 2000x2000+829+12892 /tmp/tmp.tif\n",
      "convert /media/yuncong/BstemAtlasData/CSHL_data_processed/ChatCryoJane201710/ChatCryoJane201710_prep2_lossless_Ntb/ChatCryoJane201710_slide2-S2_prep2_lossless_Ntb.tif -crop 2000x2000+829+12892 /tmp/tmp.tif\n",
      "Region 3: x=8284, y=5288, w=2000, h=2000\n",
      "convert /media/yuncong/BstemAtlasData/CSHL_data_processed/ChatCryoJane201710/ChatCryoJane201710_prep2_lossless_Ntb/ChatCryoJane201710_slide1-S2_prep2_lossless_Ntb.tif -crop 2000x2000+8284+5288 /tmp/tmp.tif\n",
      "convert /media/yuncong/BstemAtlasData/CSHL_data_processed/ChatCryoJane201710/ChatCryoJane201710_prep2_lossless_Ntb/ChatCryoJane201710_slide2-S2_prep2_lossless_Ntb.tif -crop 2000x2000+8284+5288 /tmp/tmp.tif\n",
      "Region 4: x=3261, y=8453, w=2000, h=2000\n",
      "convert /media/yuncong/BstemAtlasData/CSHL_data_processed/ChatCryoJane201710/ChatCryoJane201710_prep2_lossless_Ntb/ChatCryoJane201710_slide1-S2_prep2_lossless_Ntb.tif -crop 2000x2000+3261+8453 /tmp/tmp.tif\n",
      "convert /media/yuncong/BstemAtlasData/CSHL_data_processed/ChatCryoJane201710/ChatCryoJane201710_prep2_lossless_Ntb/ChatCryoJane201710_slide2-S2_prep2_lossless_Ntb.tif -crop 2000x2000+3261+8453 /tmp/tmp.tif\n",
      "Region 5: x=625, y=10333, w=2000, h=2000\n",
      "convert /media/yuncong/BstemAtlasData/CSHL_data_processed/ChatCryoJane201710/ChatCryoJane201710_prep2_lossless_Ntb/ChatCryoJane201710_slide1-S2_prep2_lossless_Ntb.tif -crop 2000x2000+625+10333 /tmp/tmp.tif\n",
      "convert /media/yuncong/BstemAtlasData/CSHL_data_processed/ChatCryoJane201710/ChatCryoJane201710_prep2_lossless_Ntb/ChatCryoJane201710_slide2-S2_prep2_lossless_Ntb.tif -crop 2000x2000+625+10333 /tmp/tmp.tif\n",
      "Region 6: x=1425, y=11480, w=2000, h=2000\n",
      "convert /media/yuncong/BstemAtlasData/CSHL_data_processed/ChatCryoJane201710/ChatCryoJane201710_prep2_lossless_Ntb/ChatCryoJane201710_slide1-S2_prep2_lossless_Ntb.tif -crop 2000x2000+1425+11480 /tmp/tmp.tif\n",
      "convert /media/yuncong/BstemAtlasData/CSHL_data_processed/ChatCryoJane201710/ChatCryoJane201710_prep2_lossless_Ntb/ChatCryoJane201710_slide2-S2_prep2_lossless_Ntb.tif -crop 2000x2000+1425+11480 /tmp/tmp.tif\n",
      "Region 7: x=5489, y=10536, w=2000, h=2000\n",
      "convert /media/yuncong/BstemAtlasData/CSHL_data_processed/ChatCryoJane201710/ChatCryoJane201710_prep2_lossless_Ntb/ChatCryoJane201710_slide1-S2_prep2_lossless_Ntb.tif -crop 2000x2000+5489+10536 /tmp/tmp.tif\n",
      "convert /media/yuncong/BstemAtlasData/CSHL_data_processed/ChatCryoJane201710/ChatCryoJane201710_prep2_lossless_Ntb/ChatCryoJane201710_slide2-S2_prep2_lossless_Ntb.tif -crop 2000x2000+5489+10536 /tmp/tmp.tif\n",
      "Region 8: x=3450, y=12367, w=2000, h=2000\n",
      "convert /media/yuncong/BstemAtlasData/CSHL_data_processed/ChatCryoJane201710/ChatCryoJane201710_prep2_lossless_Ntb/ChatCryoJane201710_slide1-S2_prep2_lossless_Ntb.tif -crop 2000x2000+3450+12367 /tmp/tmp.tif\n",
      "convert /media/yuncong/BstemAtlasData/CSHL_data_processed/ChatCryoJane201710/ChatCryoJane201710_prep2_lossless_Ntb/ChatCryoJane201710_slide2-S2_prep2_lossless_Ntb.tif -crop 2000x2000+3450+12367 /tmp/tmp.tif\n",
      "Region 9: x=5950, y=9841, w=2000, h=2000\n",
      "convert /media/yuncong/BstemAtlasData/CSHL_data_processed/ChatCryoJane201710/ChatCryoJane201710_prep2_lossless_Ntb/ChatCryoJane201710_slide1-S2_prep2_lossless_Ntb.tif -crop 2000x2000+5950+9841 /tmp/tmp.tif\n",
      "convert /media/yuncong/BstemAtlasData/CSHL_data_processed/ChatCryoJane201710/ChatCryoJane201710_prep2_lossless_Ntb/ChatCryoJane201710_slide2-S2_prep2_lossless_Ntb.tif -crop 2000x2000+5950+9841 /tmp/tmp.tif\n",
      "aws s3 cp \"/media/yuncong/BstemAtlasData/CSHL_data_processed/ChatCryoJane201710/ChatCryoJane201710_intensity_mapping/ChatCryoJane201710_slide2-S2_to_ChatCryoJane201710_slide1-S2_intensity_mapping_all_regions.npy\" \"s3://mousebrainatlas-data/CSHL_data_processed/ChatCryoJane201710/ChatCryoJane201710_intensity_mapping/ChatCryoJane201710_slide2-S2_to_ChatCryoJane201710_slide1-S2_intensity_mapping_all_regions.npy\"\n",
      "aws s3 cp \"/media/yuncong/BstemAtlasData/CSHL_data_processed/ChatCryoJane201710/ChatCryoJane201710_intensity_mapping/ChatCryoJane201710_slide2-S2_to_ChatCryoJane201710_slide1-S2_region_bboxes.npy\" \"s3://mousebrainatlas-data/CSHL_data_processed/ChatCryoJane201710/ChatCryoJane201710_intensity_mapping/ChatCryoJane201710_slide2-S2_to_ChatCryoJane201710_slide1-S2_region_bboxes.npy\"\n"
     ]
    },
    {
     "name": "stderr",
     "output_type": "stream",
     "text": [
      "ntb 4, ntb 5\n"
     ]
    },
    {
     "name": "stdout",
     "output_type": "stream",
     "text": [
      "rm -rf \"/media/yuncong/BstemAtlasData/CSHL_data_processed/ChatCryoJane201710/ChatCryoJane201710_prep2_thumbnail_mask/ChatCryoJane201710_slide2-S2_prep2_thumbnail_mask.png\" && mkdir -p \"/media/yuncong/BstemAtlasData/CSHL_data_processed/ChatCryoJane201710/ChatCryoJane201710_prep2_thumbnail_mask\"\n",
      "aws s3 cp \"s3://mousebrainatlas-data/CSHL_data_processed/ChatCryoJane201710/ChatCryoJane201710_prep2_thumbnail_mask/ChatCryoJane201710_slide2-S2_prep2_thumbnail_mask.png\" \"/media/yuncong/BstemAtlasData/CSHL_data_processed/ChatCryoJane201710/ChatCryoJane201710_prep2_thumbnail_mask/ChatCryoJane201710_slide2-S2_prep2_thumbnail_mask.png\"\n"
     ]
    },
    {
     "name": "stderr",
     "output_type": "stream",
     "text": [
      "Load NTB1: 0.00 seconds.\n",
      "Load NTB2: 0.00 seconds.\n"
     ]
    },
    {
     "name": "stdout",
     "output_type": "stream",
     "text": [
      "Region 0: x=2894, y=11906, w=2000, h=2000\n",
      "convert /media/yuncong/BstemAtlasData/CSHL_data_processed/ChatCryoJane201710/ChatCryoJane201710_prep2_lossless_Ntb/ChatCryoJane201710_slide2-S2_prep2_lossless_Ntb.tif -crop 2000x2000+2894+11906 /tmp/tmp.tif\n",
      "convert /media/yuncong/BstemAtlasData/CSHL_data_processed/ChatCryoJane201710/ChatCryoJane201710_prep2_lossless_Ntb/ChatCryoJane201710_slide1-S3_prep2_lossless_Ntb.tif -crop 2000x2000+2894+11906 /tmp/tmp.tif\n",
      "Region 1: x=3589, y=1745, w=2000, h=2000\n",
      "convert /media/yuncong/BstemAtlasData/CSHL_data_processed/ChatCryoJane201710/ChatCryoJane201710_prep2_lossless_Ntb/ChatCryoJane201710_slide2-S2_prep2_lossless_Ntb.tif -crop 2000x2000+3589+1745 /tmp/tmp.tif\n",
      "convert /media/yuncong/BstemAtlasData/CSHL_data_processed/ChatCryoJane201710/ChatCryoJane201710_prep2_lossless_Ntb/ChatCryoJane201710_slide1-S3_prep2_lossless_Ntb.tif -crop 2000x2000+3589+1745 /tmp/tmp.tif\n",
      "Region 2: x=8559, y=9494, w=2000, h=2000\n",
      "convert /media/yuncong/BstemAtlasData/CSHL_data_processed/ChatCryoJane201710/ChatCryoJane201710_prep2_lossless_Ntb/ChatCryoJane201710_slide2-S2_prep2_lossless_Ntb.tif -crop 2000x2000+8559+9494 /tmp/tmp.tif\n",
      "convert /media/yuncong/BstemAtlasData/CSHL_data_processed/ChatCryoJane201710/ChatCryoJane201710_prep2_lossless_Ntb/ChatCryoJane201710_slide1-S3_prep2_lossless_Ntb.tif -crop 2000x2000+8559+9494 /tmp/tmp.tif\n",
      "Region 3: x=1372, y=12626, w=2000, h=2000\n",
      "convert /media/yuncong/BstemAtlasData/CSHL_data_processed/ChatCryoJane201710/ChatCryoJane201710_prep2_lossless_Ntb/ChatCryoJane201710_slide2-S2_prep2_lossless_Ntb.tif -crop 2000x2000+1372+12626 /tmp/tmp.tif\n",
      "convert /media/yuncong/BstemAtlasData/CSHL_data_processed/ChatCryoJane201710/ChatCryoJane201710_prep2_lossless_Ntb/ChatCryoJane201710_slide1-S3_prep2_lossless_Ntb.tif -crop 2000x2000+1372+12626 /tmp/tmp.tif\n",
      "Region 4: x=8323, y=10882, w=2000, h=2000\n",
      "convert /media/yuncong/BstemAtlasData/CSHL_data_processed/ChatCryoJane201710/ChatCryoJane201710_prep2_lossless_Ntb/ChatCryoJane201710_slide2-S2_prep2_lossless_Ntb.tif -crop 2000x2000+8323+10882 /tmp/tmp.tif\n",
      "convert /media/yuncong/BstemAtlasData/CSHL_data_processed/ChatCryoJane201710/ChatCryoJane201710_prep2_lossless_Ntb/ChatCryoJane201710_slide1-S3_prep2_lossless_Ntb.tif -crop 2000x2000+8323+10882 /tmp/tmp.tif\n",
      "Region 5: x=3936, y=12754, w=2000, h=2000\n",
      "convert /media/yuncong/BstemAtlasData/CSHL_data_processed/ChatCryoJane201710/ChatCryoJane201710_prep2_lossless_Ntb/ChatCryoJane201710_slide2-S2_prep2_lossless_Ntb.tif -crop 2000x2000+3936+12754 /tmp/tmp.tif\n",
      "convert /media/yuncong/BstemAtlasData/CSHL_data_processed/ChatCryoJane201710/ChatCryoJane201710_prep2_lossless_Ntb/ChatCryoJane201710_slide1-S3_prep2_lossless_Ntb.tif -crop 2000x2000+3936+12754 /tmp/tmp.tif\n",
      "Region 6: x=8175, y=5897, w=2000, h=2000\n",
      "convert /media/yuncong/BstemAtlasData/CSHL_data_processed/ChatCryoJane201710/ChatCryoJane201710_prep2_lossless_Ntb/ChatCryoJane201710_slide2-S2_prep2_lossless_Ntb.tif -crop 2000x2000+8175+5897 /tmp/tmp.tif\n",
      "convert /media/yuncong/BstemAtlasData/CSHL_data_processed/ChatCryoJane201710/ChatCryoJane201710_prep2_lossless_Ntb/ChatCryoJane201710_slide1-S3_prep2_lossless_Ntb.tif -crop 2000x2000+8175+5897 /tmp/tmp.tif\n",
      "Region 7: x=7861, y=6258, w=2000, h=2000\n",
      "convert /media/yuncong/BstemAtlasData/CSHL_data_processed/ChatCryoJane201710/ChatCryoJane201710_prep2_lossless_Ntb/ChatCryoJane201710_slide2-S2_prep2_lossless_Ntb.tif -crop 2000x2000+7861+6258 /tmp/tmp.tif\n",
      "convert /media/yuncong/BstemAtlasData/CSHL_data_processed/ChatCryoJane201710/ChatCryoJane201710_prep2_lossless_Ntb/ChatCryoJane201710_slide1-S3_prep2_lossless_Ntb.tif -crop 2000x2000+7861+6258 /tmp/tmp.tif\n",
      "Region 8: x=8017, y=6729, w=2000, h=2000\n",
      "convert /media/yuncong/BstemAtlasData/CSHL_data_processed/ChatCryoJane201710/ChatCryoJane201710_prep2_lossless_Ntb/ChatCryoJane201710_slide2-S2_prep2_lossless_Ntb.tif -crop 2000x2000+8017+6729 /tmp/tmp.tif\n",
      "convert /media/yuncong/BstemAtlasData/CSHL_data_processed/ChatCryoJane201710/ChatCryoJane201710_prep2_lossless_Ntb/ChatCryoJane201710_slide1-S3_prep2_lossless_Ntb.tif -crop 2000x2000+8017+6729 /tmp/tmp.tif\n",
      "Region 9: x=10095, y=5972, w=2000, h=2000\n",
      "convert /media/yuncong/BstemAtlasData/CSHL_data_processed/ChatCryoJane201710/ChatCryoJane201710_prep2_lossless_Ntb/ChatCryoJane201710_slide2-S2_prep2_lossless_Ntb.tif -crop 2000x2000+10095+5972 /tmp/tmp.tif\n",
      "convert /media/yuncong/BstemAtlasData/CSHL_data_processed/ChatCryoJane201710/ChatCryoJane201710_prep2_lossless_Ntb/ChatCryoJane201710_slide1-S3_prep2_lossless_Ntb.tif -crop 2000x2000+10095+5972 /tmp/tmp.tif\n",
      "aws s3 cp \"/media/yuncong/BstemAtlasData/CSHL_data_processed/ChatCryoJane201710/ChatCryoJane201710_intensity_mapping/ChatCryoJane201710_slide1-S3_to_ChatCryoJane201710_slide2-S2_intensity_mapping_all_regions.npy\" \"s3://mousebrainatlas-data/CSHL_data_processed/ChatCryoJane201710/ChatCryoJane201710_intensity_mapping/ChatCryoJane201710_slide1-S3_to_ChatCryoJane201710_slide2-S2_intensity_mapping_all_regions.npy\"\n",
      "aws s3 cp \"/media/yuncong/BstemAtlasData/CSHL_data_processed/ChatCryoJane201710/ChatCryoJane201710_intensity_mapping/ChatCryoJane201710_slide1-S3_to_ChatCryoJane201710_slide2-S2_region_bboxes.npy\" \"s3://mousebrainatlas-data/CSHL_data_processed/ChatCryoJane201710/ChatCryoJane201710_intensity_mapping/ChatCryoJane201710_slide1-S3_to_ChatCryoJane201710_slide2-S2_region_bboxes.npy\"\n"
     ]
    },
    {
     "name": "stderr",
     "output_type": "stream",
     "text": [
      "ntb 5, ntb 6\n"
     ]
    },
    {
     "name": "stdout",
     "output_type": "stream",
     "text": [
      "rm -rf \"/media/yuncong/BstemAtlasData/CSHL_data_processed/ChatCryoJane201710/ChatCryoJane201710_prep2_thumbnail_mask/ChatCryoJane201710_slide1-S3_prep2_thumbnail_mask.png\" && mkdir -p \"/media/yuncong/BstemAtlasData/CSHL_data_processed/ChatCryoJane201710/ChatCryoJane201710_prep2_thumbnail_mask\"\n",
      "aws s3 cp \"s3://mousebrainatlas-data/CSHL_data_processed/ChatCryoJane201710/ChatCryoJane201710_prep2_thumbnail_mask/ChatCryoJane201710_slide1-S3_prep2_thumbnail_mask.png\" \"/media/yuncong/BstemAtlasData/CSHL_data_processed/ChatCryoJane201710/ChatCryoJane201710_prep2_thumbnail_mask/ChatCryoJane201710_slide1-S3_prep2_thumbnail_mask.png\"\n"
     ]
    },
    {
     "name": "stderr",
     "output_type": "stream",
     "text": [
      "Load NTB1: 0.00 seconds.\n",
      "Load NTB2: 0.00 seconds.\n"
     ]
    },
    {
     "name": "stdout",
     "output_type": "stream",
     "text": [
      "Region 0: x=6354, y=10525, w=2000, h=2000\n",
      "convert /media/yuncong/BstemAtlasData/CSHL_data_processed/ChatCryoJane201710/ChatCryoJane201710_prep2_lossless_Ntb/ChatCryoJane201710_slide1-S3_prep2_lossless_Ntb.tif -crop 2000x2000+6354+10525 /tmp/tmp.tif\n",
      "convert /media/yuncong/BstemAtlasData/CSHL_data_processed/ChatCryoJane201710/ChatCryoJane201710_prep2_lossless_Ntb/ChatCryoJane201710_slide2-S3_prep2_lossless_Ntb.tif -crop 2000x2000+6354+10525 /tmp/tmp.tif\n",
      "Region 1: x=10476, y=7371, w=2000, h=2000\n",
      "convert /media/yuncong/BstemAtlasData/CSHL_data_processed/ChatCryoJane201710/ChatCryoJane201710_prep2_lossless_Ntb/ChatCryoJane201710_slide1-S3_prep2_lossless_Ntb.tif -crop 2000x2000+10476+7371 /tmp/tmp.tif\n",
      "convert /media/yuncong/BstemAtlasData/CSHL_data_processed/ChatCryoJane201710/ChatCryoJane201710_prep2_lossless_Ntb/ChatCryoJane201710_slide2-S3_prep2_lossless_Ntb.tif -crop 2000x2000+10476+7371 /tmp/tmp.tif\n",
      "Region 2: x=7591, y=9376, w=2000, h=2000\n",
      "convert /media/yuncong/BstemAtlasData/CSHL_data_processed/ChatCryoJane201710/ChatCryoJane201710_prep2_lossless_Ntb/ChatCryoJane201710_slide1-S3_prep2_lossless_Ntb.tif -crop 2000x2000+7591+9376 /tmp/tmp.tif\n",
      "convert /media/yuncong/BstemAtlasData/CSHL_data_processed/ChatCryoJane201710/ChatCryoJane201710_prep2_lossless_Ntb/ChatCryoJane201710_slide2-S3_prep2_lossless_Ntb.tif -crop 2000x2000+7591+9376 /tmp/tmp.tif\n",
      "Region 3: x=4516, y=2066, w=2000, h=2000\n",
      "convert /media/yuncong/BstemAtlasData/CSHL_data_processed/ChatCryoJane201710/ChatCryoJane201710_prep2_lossless_Ntb/ChatCryoJane201710_slide1-S3_prep2_lossless_Ntb.tif -crop 2000x2000+4516+2066 /tmp/tmp.tif\n",
      "convert /media/yuncong/BstemAtlasData/CSHL_data_processed/ChatCryoJane201710/ChatCryoJane201710_prep2_lossless_Ntb/ChatCryoJane201710_slide2-S3_prep2_lossless_Ntb.tif -crop 2000x2000+4516+2066 /tmp/tmp.tif\n",
      "Region 4: x=3589, y=3070, w=2000, h=2000\n",
      "convert /media/yuncong/BstemAtlasData/CSHL_data_processed/ChatCryoJane201710/ChatCryoJane201710_prep2_lossless_Ntb/ChatCryoJane201710_slide1-S3_prep2_lossless_Ntb.tif -crop 2000x2000+3589+3070 /tmp/tmp.tif\n",
      "convert /media/yuncong/BstemAtlasData/CSHL_data_processed/ChatCryoJane201710/ChatCryoJane201710_prep2_lossless_Ntb/ChatCryoJane201710_slide2-S3_prep2_lossless_Ntb.tif -crop 2000x2000+3589+3070 /tmp/tmp.tif\n",
      "Region 5: x=7059, y=4794, w=2000, h=2000\n",
      "convert /media/yuncong/BstemAtlasData/CSHL_data_processed/ChatCryoJane201710/ChatCryoJane201710_prep2_lossless_Ntb/ChatCryoJane201710_slide1-S3_prep2_lossless_Ntb.tif -crop 2000x2000+7059+4794 /tmp/tmp.tif\n",
      "convert /media/yuncong/BstemAtlasData/CSHL_data_processed/ChatCryoJane201710/ChatCryoJane201710_prep2_lossless_Ntb/ChatCryoJane201710_slide2-S3_prep2_lossless_Ntb.tif -crop 2000x2000+7059+4794 /tmp/tmp.tif\n",
      "Region 6: x=3080, y=6422, w=2000, h=2000\n",
      "convert /media/yuncong/BstemAtlasData/CSHL_data_processed/ChatCryoJane201710/ChatCryoJane201710_prep2_lossless_Ntb/ChatCryoJane201710_slide1-S3_prep2_lossless_Ntb.tif -crop 2000x2000+3080+6422 /tmp/tmp.tif\n",
      "convert /media/yuncong/BstemAtlasData/CSHL_data_processed/ChatCryoJane201710/ChatCryoJane201710_prep2_lossless_Ntb/ChatCryoJane201710_slide2-S3_prep2_lossless_Ntb.tif -crop 2000x2000+3080+6422 /tmp/tmp.tif\n",
      "Region 7: x=6702, y=7390, w=2000, h=2000\n",
      "convert /media/yuncong/BstemAtlasData/CSHL_data_processed/ChatCryoJane201710/ChatCryoJane201710_prep2_lossless_Ntb/ChatCryoJane201710_slide1-S3_prep2_lossless_Ntb.tif -crop 2000x2000+6702+7390 /tmp/tmp.tif\n",
      "convert /media/yuncong/BstemAtlasData/CSHL_data_processed/ChatCryoJane201710/ChatCryoJane201710_prep2_lossless_Ntb/ChatCryoJane201710_slide2-S3_prep2_lossless_Ntb.tif -crop 2000x2000+6702+7390 /tmp/tmp.tif\n",
      "Region 8: x=1462, y=8666, w=2000, h=2000\n",
      "convert /media/yuncong/BstemAtlasData/CSHL_data_processed/ChatCryoJane201710/ChatCryoJane201710_prep2_lossless_Ntb/ChatCryoJane201710_slide1-S3_prep2_lossless_Ntb.tif -crop 2000x2000+1462+8666 /tmp/tmp.tif\n",
      "convert /media/yuncong/BstemAtlasData/CSHL_data_processed/ChatCryoJane201710/ChatCryoJane201710_prep2_lossless_Ntb/ChatCryoJane201710_slide2-S3_prep2_lossless_Ntb.tif -crop 2000x2000+1462+8666 /tmp/tmp.tif\n",
      "Region 9: x=7859, y=8240, w=2000, h=2000\n",
      "convert /media/yuncong/BstemAtlasData/CSHL_data_processed/ChatCryoJane201710/ChatCryoJane201710_prep2_lossless_Ntb/ChatCryoJane201710_slide1-S3_prep2_lossless_Ntb.tif -crop 2000x2000+7859+8240 /tmp/tmp.tif\n",
      "convert /media/yuncong/BstemAtlasData/CSHL_data_processed/ChatCryoJane201710/ChatCryoJane201710_prep2_lossless_Ntb/ChatCryoJane201710_slide2-S3_prep2_lossless_Ntb.tif -crop 2000x2000+7859+8240 /tmp/tmp.tif\n",
      "aws s3 cp \"/media/yuncong/BstemAtlasData/CSHL_data_processed/ChatCryoJane201710/ChatCryoJane201710_intensity_mapping/ChatCryoJane201710_slide2-S3_to_ChatCryoJane201710_slide1-S3_intensity_mapping_all_regions.npy\" \"s3://mousebrainatlas-data/CSHL_data_processed/ChatCryoJane201710/ChatCryoJane201710_intensity_mapping/ChatCryoJane201710_slide2-S3_to_ChatCryoJane201710_slide1-S3_intensity_mapping_all_regions.npy\"\n",
      "aws s3 cp \"/media/yuncong/BstemAtlasData/CSHL_data_processed/ChatCryoJane201710/ChatCryoJane201710_intensity_mapping/ChatCryoJane201710_slide2-S3_to_ChatCryoJane201710_slide1-S3_region_bboxes.npy\" \"s3://mousebrainatlas-data/CSHL_data_processed/ChatCryoJane201710/ChatCryoJane201710_intensity_mapping/ChatCryoJane201710_slide2-S3_to_ChatCryoJane201710_slide1-S3_region_bboxes.npy\"\n"
     ]
    },
    {
     "name": "stderr",
     "output_type": "stream",
     "text": [
      "ntb 6, ntb 7\n"
     ]
    },
    {
     "name": "stdout",
     "output_type": "stream",
     "text": [
      "rm -rf \"/media/yuncong/BstemAtlasData/CSHL_data_processed/ChatCryoJane201710/ChatCryoJane201710_prep2_thumbnail_mask/ChatCryoJane201710_slide2-S3_prep2_thumbnail_mask.png\" && mkdir -p \"/media/yuncong/BstemAtlasData/CSHL_data_processed/ChatCryoJane201710/ChatCryoJane201710_prep2_thumbnail_mask\"\n",
      "aws s3 cp \"s3://mousebrainatlas-data/CSHL_data_processed/ChatCryoJane201710/ChatCryoJane201710_prep2_thumbnail_mask/ChatCryoJane201710_slide2-S3_prep2_thumbnail_mask.png\" \"/media/yuncong/BstemAtlasData/CSHL_data_processed/ChatCryoJane201710/ChatCryoJane201710_prep2_thumbnail_mask/ChatCryoJane201710_slide2-S3_prep2_thumbnail_mask.png\"\n"
     ]
    },
    {
     "name": "stderr",
     "output_type": "stream",
     "text": [
      "Load NTB1: 0.00 seconds.\n",
      "Load NTB2: 0.00 seconds.\n"
     ]
    },
    {
     "name": "stdout",
     "output_type": "stream",
     "text": [
      "Region 0: x=5339, y=3483, w=2000, h=2000\n",
      "convert /media/yuncong/BstemAtlasData/CSHL_data_processed/ChatCryoJane201710/ChatCryoJane201710_prep2_lossless_Ntb/ChatCryoJane201710_slide2-S3_prep2_lossless_Ntb.tif -crop 2000x2000+5339+3483 /tmp/tmp.tif\n",
      "convert /media/yuncong/BstemAtlasData/CSHL_data_processed/ChatCryoJane201710/ChatCryoJane201710_prep2_lossless_Ntb/ChatCryoJane201710_slide3-S1_prep2_lossless_Ntb.tif -crop 2000x2000+5339+3483 /tmp/tmp.tif\n",
      "Region 1: x=2522, y=11266, w=2000, h=2000\n",
      "convert /media/yuncong/BstemAtlasData/CSHL_data_processed/ChatCryoJane201710/ChatCryoJane201710_prep2_lossless_Ntb/ChatCryoJane201710_slide2-S3_prep2_lossless_Ntb.tif -crop 2000x2000+2522+11266 /tmp/tmp.tif\n",
      "convert /media/yuncong/BstemAtlasData/CSHL_data_processed/ChatCryoJane201710/ChatCryoJane201710_prep2_lossless_Ntb/ChatCryoJane201710_slide3-S1_prep2_lossless_Ntb.tif -crop 2000x2000+2522+11266 /tmp/tmp.tif\n",
      "Region 2: x=719, y=6655, w=2000, h=2000\n",
      "convert /media/yuncong/BstemAtlasData/CSHL_data_processed/ChatCryoJane201710/ChatCryoJane201710_prep2_lossless_Ntb/ChatCryoJane201710_slide2-S3_prep2_lossless_Ntb.tif -crop 2000x2000+719+6655 /tmp/tmp.tif\n",
      "convert /media/yuncong/BstemAtlasData/CSHL_data_processed/ChatCryoJane201710/ChatCryoJane201710_prep2_lossless_Ntb/ChatCryoJane201710_slide3-S1_prep2_lossless_Ntb.tif -crop 2000x2000+719+6655 /tmp/tmp.tif\n",
      "Region 3: x=454, y=9171, w=2000, h=2000\n",
      "convert /media/yuncong/BstemAtlasData/CSHL_data_processed/ChatCryoJane201710/ChatCryoJane201710_prep2_lossless_Ntb/ChatCryoJane201710_slide2-S3_prep2_lossless_Ntb.tif -crop 2000x2000+454+9171 /tmp/tmp.tif\n",
      "convert /media/yuncong/BstemAtlasData/CSHL_data_processed/ChatCryoJane201710/ChatCryoJane201710_prep2_lossless_Ntb/ChatCryoJane201710_slide3-S1_prep2_lossless_Ntb.tif -crop 2000x2000+454+9171 /tmp/tmp.tif\n",
      "Region 4: x=2802, y=9946, w=2000, h=2000\n",
      "convert /media/yuncong/BstemAtlasData/CSHL_data_processed/ChatCryoJane201710/ChatCryoJane201710_prep2_lossless_Ntb/ChatCryoJane201710_slide2-S3_prep2_lossless_Ntb.tif -crop 2000x2000+2802+9946 /tmp/tmp.tif\n",
      "convert /media/yuncong/BstemAtlasData/CSHL_data_processed/ChatCryoJane201710/ChatCryoJane201710_prep2_lossless_Ntb/ChatCryoJane201710_slide3-S1_prep2_lossless_Ntb.tif -crop 2000x2000+2802+9946 /tmp/tmp.tif\n",
      "Region 5: x=8885, y=8146, w=2000, h=2000\n",
      "convert /media/yuncong/BstemAtlasData/CSHL_data_processed/ChatCryoJane201710/ChatCryoJane201710_prep2_lossless_Ntb/ChatCryoJane201710_slide2-S3_prep2_lossless_Ntb.tif -crop 2000x2000+8885+8146 /tmp/tmp.tif\n",
      "convert /media/yuncong/BstemAtlasData/CSHL_data_processed/ChatCryoJane201710/ChatCryoJane201710_prep2_lossless_Ntb/ChatCryoJane201710_slide3-S1_prep2_lossless_Ntb.tif -crop 2000x2000+8885+8146 /tmp/tmp.tif\n",
      "Region 6: x=8224, y=6104, w=2000, h=2000\n",
      "convert /media/yuncong/BstemAtlasData/CSHL_data_processed/ChatCryoJane201710/ChatCryoJane201710_prep2_lossless_Ntb/ChatCryoJane201710_slide2-S3_prep2_lossless_Ntb.tif -crop 2000x2000+8224+6104 /tmp/tmp.tif\n",
      "convert /media/yuncong/BstemAtlasData/CSHL_data_processed/ChatCryoJane201710/ChatCryoJane201710_prep2_lossless_Ntb/ChatCryoJane201710_slide3-S1_prep2_lossless_Ntb.tif -crop 2000x2000+8224+6104 /tmp/tmp.tif\n",
      "Region 7: x=5791, y=10856, w=2000, h=2000\n",
      "convert /media/yuncong/BstemAtlasData/CSHL_data_processed/ChatCryoJane201710/ChatCryoJane201710_prep2_lossless_Ntb/ChatCryoJane201710_slide2-S3_prep2_lossless_Ntb.tif -crop 2000x2000+5791+10856 /tmp/tmp.tif\n",
      "convert /media/yuncong/BstemAtlasData/CSHL_data_processed/ChatCryoJane201710/ChatCryoJane201710_prep2_lossless_Ntb/ChatCryoJane201710_slide3-S1_prep2_lossless_Ntb.tif -crop 2000x2000+5791+10856 /tmp/tmp.tif\n",
      "Region 8: x=6936, y=6458, w=2000, h=2000\n",
      "convert /media/yuncong/BstemAtlasData/CSHL_data_processed/ChatCryoJane201710/ChatCryoJane201710_prep2_lossless_Ntb/ChatCryoJane201710_slide2-S3_prep2_lossless_Ntb.tif -crop 2000x2000+6936+6458 /tmp/tmp.tif\n",
      "convert /media/yuncong/BstemAtlasData/CSHL_data_processed/ChatCryoJane201710/ChatCryoJane201710_prep2_lossless_Ntb/ChatCryoJane201710_slide3-S1_prep2_lossless_Ntb.tif -crop 2000x2000+6936+6458 /tmp/tmp.tif\n",
      "Region 9: x=9888, y=6178, w=2000, h=2000\n",
      "convert /media/yuncong/BstemAtlasData/CSHL_data_processed/ChatCryoJane201710/ChatCryoJane201710_prep2_lossless_Ntb/ChatCryoJane201710_slide2-S3_prep2_lossless_Ntb.tif -crop 2000x2000+9888+6178 /tmp/tmp.tif\n",
      "convert /media/yuncong/BstemAtlasData/CSHL_data_processed/ChatCryoJane201710/ChatCryoJane201710_prep2_lossless_Ntb/ChatCryoJane201710_slide3-S1_prep2_lossless_Ntb.tif -crop 2000x2000+9888+6178 /tmp/tmp.tif\n",
      "aws s3 cp \"/media/yuncong/BstemAtlasData/CSHL_data_processed/ChatCryoJane201710/ChatCryoJane201710_intensity_mapping/ChatCryoJane201710_slide3-S1_to_ChatCryoJane201710_slide2-S3_intensity_mapping_all_regions.npy\" \"s3://mousebrainatlas-data/CSHL_data_processed/ChatCryoJane201710/ChatCryoJane201710_intensity_mapping/ChatCryoJane201710_slide3-S1_to_ChatCryoJane201710_slide2-S3_intensity_mapping_all_regions.npy\"\n",
      "aws s3 cp \"/media/yuncong/BstemAtlasData/CSHL_data_processed/ChatCryoJane201710/ChatCryoJane201710_intensity_mapping/ChatCryoJane201710_slide3-S1_to_ChatCryoJane201710_slide2-S3_region_bboxes.npy\" \"s3://mousebrainatlas-data/CSHL_data_processed/ChatCryoJane201710/ChatCryoJane201710_intensity_mapping/ChatCryoJane201710_slide3-S1_to_ChatCryoJane201710_slide2-S3_region_bboxes.npy\"\n"
     ]
    },
    {
     "name": "stderr",
     "output_type": "stream",
     "text": [
      "ntb 7, ntb 8\n"
     ]
    },
    {
     "name": "stdout",
     "output_type": "stream",
     "text": [
      "rm -rf \"/media/yuncong/BstemAtlasData/CSHL_data_processed/ChatCryoJane201710/ChatCryoJane201710_prep2_thumbnail_mask/ChatCryoJane201710_slide3-S1_prep2_thumbnail_mask.png\" && mkdir -p \"/media/yuncong/BstemAtlasData/CSHL_data_processed/ChatCryoJane201710/ChatCryoJane201710_prep2_thumbnail_mask\"\n",
      "aws s3 cp \"s3://mousebrainatlas-data/CSHL_data_processed/ChatCryoJane201710/ChatCryoJane201710_prep2_thumbnail_mask/ChatCryoJane201710_slide3-S1_prep2_thumbnail_mask.png\" \"/media/yuncong/BstemAtlasData/CSHL_data_processed/ChatCryoJane201710/ChatCryoJane201710_prep2_thumbnail_mask/ChatCryoJane201710_slide3-S1_prep2_thumbnail_mask.png\"\n"
     ]
    },
    {
     "name": "stderr",
     "output_type": "stream",
     "text": [
      "Load NTB1: 0.00 seconds.\n",
      "Load NTB2: 0.00 seconds.\n"
     ]
    },
    {
     "name": "stdout",
     "output_type": "stream",
     "text": [
      "Region 0: x=4898, y=3539, w=2000, h=2000\n",
      "convert /media/yuncong/BstemAtlasData/CSHL_data_processed/ChatCryoJane201710/ChatCryoJane201710_prep2_lossless_Ntb/ChatCryoJane201710_slide3-S1_prep2_lossless_Ntb.tif -crop 2000x2000+4898+3539 /tmp/tmp.tif\n",
      "convert /media/yuncong/BstemAtlasData/CSHL_data_processed/ChatCryoJane201710/ChatCryoJane201710_prep2_lossless_Ntb/ChatCryoJane201710_slide4-S1_prep2_lossless_Ntb.tif -crop 2000x2000+4898+3539 /tmp/tmp.tif\n",
      "Region 1: x=1419, y=2669, w=2000, h=2000\n",
      "convert /media/yuncong/BstemAtlasData/CSHL_data_processed/ChatCryoJane201710/ChatCryoJane201710_prep2_lossless_Ntb/ChatCryoJane201710_slide3-S1_prep2_lossless_Ntb.tif -crop 2000x2000+1419+2669 /tmp/tmp.tif\n",
      "convert /media/yuncong/BstemAtlasData/CSHL_data_processed/ChatCryoJane201710/ChatCryoJane201710_prep2_lossless_Ntb/ChatCryoJane201710_slide4-S1_prep2_lossless_Ntb.tif -crop 2000x2000+1419+2669 /tmp/tmp.tif\n",
      "Region 2: x=9733, y=6489, w=2000, h=2000\n",
      "convert /media/yuncong/BstemAtlasData/CSHL_data_processed/ChatCryoJane201710/ChatCryoJane201710_prep2_lossless_Ntb/ChatCryoJane201710_slide3-S1_prep2_lossless_Ntb.tif -crop 2000x2000+9733+6489 /tmp/tmp.tif\n",
      "convert /media/yuncong/BstemAtlasData/CSHL_data_processed/ChatCryoJane201710/ChatCryoJane201710_prep2_lossless_Ntb/ChatCryoJane201710_slide4-S1_prep2_lossless_Ntb.tif -crop 2000x2000+9733+6489 /tmp/tmp.tif\n",
      "Region 3: x=4807, y=13324, w=2000, h=2000\n",
      "convert /media/yuncong/BstemAtlasData/CSHL_data_processed/ChatCryoJane201710/ChatCryoJane201710_prep2_lossless_Ntb/ChatCryoJane201710_slide3-S1_prep2_lossless_Ntb.tif -crop 2000x2000+4807+13324 /tmp/tmp.tif\n",
      "convert /media/yuncong/BstemAtlasData/CSHL_data_processed/ChatCryoJane201710/ChatCryoJane201710_prep2_lossless_Ntb/ChatCryoJane201710_slide4-S1_prep2_lossless_Ntb.tif -crop 2000x2000+4807+13324 /tmp/tmp.tif\n",
      "Region 4: x=5287, y=11845, w=2000, h=2000\n",
      "convert /media/yuncong/BstemAtlasData/CSHL_data_processed/ChatCryoJane201710/ChatCryoJane201710_prep2_lossless_Ntb/ChatCryoJane201710_slide3-S1_prep2_lossless_Ntb.tif -crop 2000x2000+5287+11845 /tmp/tmp.tif\n",
      "convert /media/yuncong/BstemAtlasData/CSHL_data_processed/ChatCryoJane201710/ChatCryoJane201710_prep2_lossless_Ntb/ChatCryoJane201710_slide4-S1_prep2_lossless_Ntb.tif -crop 2000x2000+5287+11845 /tmp/tmp.tif\n",
      "Region 5: x=91, y=5382, w=2000, h=2000\n",
      "convert /media/yuncong/BstemAtlasData/CSHL_data_processed/ChatCryoJane201710/ChatCryoJane201710_prep2_lossless_Ntb/ChatCryoJane201710_slide3-S1_prep2_lossless_Ntb.tif -crop 2000x2000+91+5382 /tmp/tmp.tif\n",
      "convert /media/yuncong/BstemAtlasData/CSHL_data_processed/ChatCryoJane201710/ChatCryoJane201710_prep2_lossless_Ntb/ChatCryoJane201710_slide4-S1_prep2_lossless_Ntb.tif -crop 2000x2000+91+5382 /tmp/tmp.tif\n",
      "Region 6: x=3122, y=12422, w=2000, h=2000\n",
      "convert /media/yuncong/BstemAtlasData/CSHL_data_processed/ChatCryoJane201710/ChatCryoJane201710_prep2_lossless_Ntb/ChatCryoJane201710_slide3-S1_prep2_lossless_Ntb.tif -crop 2000x2000+3122+12422 /tmp/tmp.tif\n",
      "convert /media/yuncong/BstemAtlasData/CSHL_data_processed/ChatCryoJane201710/ChatCryoJane201710_prep2_lossless_Ntb/ChatCryoJane201710_slide4-S1_prep2_lossless_Ntb.tif -crop 2000x2000+3122+12422 /tmp/tmp.tif\n",
      "Region 7: x=3150, y=6284, w=2000, h=2000\n",
      "convert /media/yuncong/BstemAtlasData/CSHL_data_processed/ChatCryoJane201710/ChatCryoJane201710_prep2_lossless_Ntb/ChatCryoJane201710_slide3-S1_prep2_lossless_Ntb.tif -crop 2000x2000+3150+6284 /tmp/tmp.tif\n",
      "convert /media/yuncong/BstemAtlasData/CSHL_data_processed/ChatCryoJane201710/ChatCryoJane201710_prep2_lossless_Ntb/ChatCryoJane201710_slide4-S1_prep2_lossless_Ntb.tif -crop 2000x2000+3150+6284 /tmp/tmp.tif\n",
      "Region 8: x=5523, y=11773, w=2000, h=2000\n",
      "convert /media/yuncong/BstemAtlasData/CSHL_data_processed/ChatCryoJane201710/ChatCryoJane201710_prep2_lossless_Ntb/ChatCryoJane201710_slide3-S1_prep2_lossless_Ntb.tif -crop 2000x2000+5523+11773 /tmp/tmp.tif\n",
      "convert /media/yuncong/BstemAtlasData/CSHL_data_processed/ChatCryoJane201710/ChatCryoJane201710_prep2_lossless_Ntb/ChatCryoJane201710_slide4-S1_prep2_lossless_Ntb.tif -crop 2000x2000+5523+11773 /tmp/tmp.tif\n",
      "Region 9: x=728, y=5252, w=2000, h=2000\n",
      "convert /media/yuncong/BstemAtlasData/CSHL_data_processed/ChatCryoJane201710/ChatCryoJane201710_prep2_lossless_Ntb/ChatCryoJane201710_slide3-S1_prep2_lossless_Ntb.tif -crop 2000x2000+728+5252 /tmp/tmp.tif\n",
      "convert /media/yuncong/BstemAtlasData/CSHL_data_processed/ChatCryoJane201710/ChatCryoJane201710_prep2_lossless_Ntb/ChatCryoJane201710_slide4-S1_prep2_lossless_Ntb.tif -crop 2000x2000+728+5252 /tmp/tmp.tif\n",
      "aws s3 cp \"/media/yuncong/BstemAtlasData/CSHL_data_processed/ChatCryoJane201710/ChatCryoJane201710_intensity_mapping/ChatCryoJane201710_slide4-S1_to_ChatCryoJane201710_slide3-S1_intensity_mapping_all_regions.npy\" \"s3://mousebrainatlas-data/CSHL_data_processed/ChatCryoJane201710/ChatCryoJane201710_intensity_mapping/ChatCryoJane201710_slide4-S1_to_ChatCryoJane201710_slide3-S1_intensity_mapping_all_regions.npy\"\n",
      "aws s3 cp \"/media/yuncong/BstemAtlasData/CSHL_data_processed/ChatCryoJane201710/ChatCryoJane201710_intensity_mapping/ChatCryoJane201710_slide4-S1_to_ChatCryoJane201710_slide3-S1_region_bboxes.npy\" \"s3://mousebrainatlas-data/CSHL_data_processed/ChatCryoJane201710/ChatCryoJane201710_intensity_mapping/ChatCryoJane201710_slide4-S1_to_ChatCryoJane201710_slide3-S1_region_bboxes.npy\"\n"
     ]
    },
    {
     "name": "stderr",
     "output_type": "stream",
     "text": [
      "ntb 8, ntb 9\n"
     ]
    },
    {
     "name": "stdout",
     "output_type": "stream",
     "text": [
      "rm -rf \"/media/yuncong/BstemAtlasData/CSHL_data_processed/ChatCryoJane201710/ChatCryoJane201710_prep2_thumbnail_mask/ChatCryoJane201710_slide4-S1_prep2_thumbnail_mask.png\" && mkdir -p \"/media/yuncong/BstemAtlasData/CSHL_data_processed/ChatCryoJane201710/ChatCryoJane201710_prep2_thumbnail_mask\"\n",
      "aws s3 cp \"s3://mousebrainatlas-data/CSHL_data_processed/ChatCryoJane201710/ChatCryoJane201710_prep2_thumbnail_mask/ChatCryoJane201710_slide4-S1_prep2_thumbnail_mask.png\" \"/media/yuncong/BstemAtlasData/CSHL_data_processed/ChatCryoJane201710/ChatCryoJane201710_prep2_thumbnail_mask/ChatCryoJane201710_slide4-S1_prep2_thumbnail_mask.png\"\n"
     ]
    },
    {
     "name": "stderr",
     "output_type": "stream",
     "text": [
      "Load NTB1: 0.00 seconds.\n",
      "Load NTB2: 0.00 seconds.\n"
     ]
    },
    {
     "name": "stdout",
     "output_type": "stream",
     "text": [
      "Region 0: x=9951, y=8336, w=2000, h=2000\n",
      "convert /media/yuncong/BstemAtlasData/CSHL_data_processed/ChatCryoJane201710/ChatCryoJane201710_prep2_lossless_Ntb/ChatCryoJane201710_slide4-S1_prep2_lossless_Ntb.tif -crop 2000x2000+9951+8336 /tmp/tmp.tif\n",
      "convert /media/yuncong/BstemAtlasData/CSHL_data_processed/ChatCryoJane201710/ChatCryoJane201710_prep2_lossless_Ntb/ChatCryoJane201710_slide3-S2_prep2_lossless_Ntb.tif -crop 2000x2000+9951+8336 /tmp/tmp.tif\n",
      "Region 1: x=1763, y=9155, w=2000, h=2000\n",
      "convert /media/yuncong/BstemAtlasData/CSHL_data_processed/ChatCryoJane201710/ChatCryoJane201710_prep2_lossless_Ntb/ChatCryoJane201710_slide4-S1_prep2_lossless_Ntb.tif -crop 2000x2000+1763+9155 /tmp/tmp.tif\n",
      "convert /media/yuncong/BstemAtlasData/CSHL_data_processed/ChatCryoJane201710/ChatCryoJane201710_prep2_lossless_Ntb/ChatCryoJane201710_slide3-S2_prep2_lossless_Ntb.tif -crop 2000x2000+1763+9155 /tmp/tmp.tif\n",
      "Region 2: x=10070, y=7071, w=2000, h=2000\n",
      "convert /media/yuncong/BstemAtlasData/CSHL_data_processed/ChatCryoJane201710/ChatCryoJane201710_prep2_lossless_Ntb/ChatCryoJane201710_slide4-S1_prep2_lossless_Ntb.tif -crop 2000x2000+10070+7071 /tmp/tmp.tif\n",
      "convert /media/yuncong/BstemAtlasData/CSHL_data_processed/ChatCryoJane201710/ChatCryoJane201710_prep2_lossless_Ntb/ChatCryoJane201710_slide3-S2_prep2_lossless_Ntb.tif -crop 2000x2000+10070+7071 /tmp/tmp.tif\n",
      "Region 3: x=9934, y=3887, w=2000, h=2000\n",
      "convert /media/yuncong/BstemAtlasData/CSHL_data_processed/ChatCryoJane201710/ChatCryoJane201710_prep2_lossless_Ntb/ChatCryoJane201710_slide4-S1_prep2_lossless_Ntb.tif -crop 2000x2000+9934+3887 /tmp/tmp.tif\n",
      "convert /media/yuncong/BstemAtlasData/CSHL_data_processed/ChatCryoJane201710/ChatCryoJane201710_prep2_lossless_Ntb/ChatCryoJane201710_slide3-S2_prep2_lossless_Ntb.tif -crop 2000x2000+9934+3887 /tmp/tmp.tif\n",
      "Region 4: x=4384, y=5301, w=2000, h=2000\n",
      "convert /media/yuncong/BstemAtlasData/CSHL_data_processed/ChatCryoJane201710/ChatCryoJane201710_prep2_lossless_Ntb/ChatCryoJane201710_slide4-S1_prep2_lossless_Ntb.tif -crop 2000x2000+4384+5301 /tmp/tmp.tif\n",
      "convert /media/yuncong/BstemAtlasData/CSHL_data_processed/ChatCryoJane201710/ChatCryoJane201710_prep2_lossless_Ntb/ChatCryoJane201710_slide3-S2_prep2_lossless_Ntb.tif -crop 2000x2000+4384+5301 /tmp/tmp.tif\n",
      "Region 5: x=4611, y=2899, w=2000, h=2000\n",
      "convert /media/yuncong/BstemAtlasData/CSHL_data_processed/ChatCryoJane201710/ChatCryoJane201710_prep2_lossless_Ntb/ChatCryoJane201710_slide4-S1_prep2_lossless_Ntb.tif -crop 2000x2000+4611+2899 /tmp/tmp.tif\n",
      "convert /media/yuncong/BstemAtlasData/CSHL_data_processed/ChatCryoJane201710/ChatCryoJane201710_prep2_lossless_Ntb/ChatCryoJane201710_slide3-S2_prep2_lossless_Ntb.tif -crop 2000x2000+4611+2899 /tmp/tmp.tif\n",
      "Region 6: x=2723, y=2592, w=2000, h=2000\n",
      "convert /media/yuncong/BstemAtlasData/CSHL_data_processed/ChatCryoJane201710/ChatCryoJane201710_prep2_lossless_Ntb/ChatCryoJane201710_slide4-S1_prep2_lossless_Ntb.tif -crop 2000x2000+2723+2592 /tmp/tmp.tif\n",
      "convert /media/yuncong/BstemAtlasData/CSHL_data_processed/ChatCryoJane201710/ChatCryoJane201710_prep2_lossless_Ntb/ChatCryoJane201710_slide3-S2_prep2_lossless_Ntb.tif -crop 2000x2000+2723+2592 /tmp/tmp.tif\n",
      "Region 7: x=8263, y=8968, w=2000, h=2000\n",
      "convert /media/yuncong/BstemAtlasData/CSHL_data_processed/ChatCryoJane201710/ChatCryoJane201710_prep2_lossless_Ntb/ChatCryoJane201710_slide4-S1_prep2_lossless_Ntb.tif -crop 2000x2000+8263+8968 /tmp/tmp.tif\n",
      "convert /media/yuncong/BstemAtlasData/CSHL_data_processed/ChatCryoJane201710/ChatCryoJane201710_prep2_lossless_Ntb/ChatCryoJane201710_slide3-S2_prep2_lossless_Ntb.tif -crop 2000x2000+8263+8968 /tmp/tmp.tif\n",
      "Region 8: x=4697, y=3015, w=2000, h=2000\n",
      "convert /media/yuncong/BstemAtlasData/CSHL_data_processed/ChatCryoJane201710/ChatCryoJane201710_prep2_lossless_Ntb/ChatCryoJane201710_slide4-S1_prep2_lossless_Ntb.tif -crop 2000x2000+4697+3015 /tmp/tmp.tif\n",
      "convert /media/yuncong/BstemAtlasData/CSHL_data_processed/ChatCryoJane201710/ChatCryoJane201710_prep2_lossless_Ntb/ChatCryoJane201710_slide3-S2_prep2_lossless_Ntb.tif -crop 2000x2000+4697+3015 /tmp/tmp.tif\n",
      "Region 9: x=3753, y=5024, w=2000, h=2000\n",
      "convert /media/yuncong/BstemAtlasData/CSHL_data_processed/ChatCryoJane201710/ChatCryoJane201710_prep2_lossless_Ntb/ChatCryoJane201710_slide4-S1_prep2_lossless_Ntb.tif -crop 2000x2000+3753+5024 /tmp/tmp.tif\n",
      "convert /media/yuncong/BstemAtlasData/CSHL_data_processed/ChatCryoJane201710/ChatCryoJane201710_prep2_lossless_Ntb/ChatCryoJane201710_slide3-S2_prep2_lossless_Ntb.tif -crop 2000x2000+3753+5024 /tmp/tmp.tif\n",
      "aws s3 cp \"/media/yuncong/BstemAtlasData/CSHL_data_processed/ChatCryoJane201710/ChatCryoJane201710_intensity_mapping/ChatCryoJane201710_slide3-S2_to_ChatCryoJane201710_slide4-S1_intensity_mapping_all_regions.npy\" \"s3://mousebrainatlas-data/CSHL_data_processed/ChatCryoJane201710/ChatCryoJane201710_intensity_mapping/ChatCryoJane201710_slide3-S2_to_ChatCryoJane201710_slide4-S1_intensity_mapping_all_regions.npy\"\n",
      "aws s3 cp \"/media/yuncong/BstemAtlasData/CSHL_data_processed/ChatCryoJane201710/ChatCryoJane201710_intensity_mapping/ChatCryoJane201710_slide3-S2_to_ChatCryoJane201710_slide4-S1_region_bboxes.npy\" \"s3://mousebrainatlas-data/CSHL_data_processed/ChatCryoJane201710/ChatCryoJane201710_intensity_mapping/ChatCryoJane201710_slide3-S2_to_ChatCryoJane201710_slide4-S1_region_bboxes.npy\"\n"
     ]
    },
    {
     "name": "stderr",
     "output_type": "stream",
     "text": [
      "ntb 9, ntb 10\n"
     ]
    },
    {
     "name": "stdout",
     "output_type": "stream",
     "text": [
      "rm -rf \"/media/yuncong/BstemAtlasData/CSHL_data_processed/ChatCryoJane201710/ChatCryoJane201710_prep2_thumbnail_mask/ChatCryoJane201710_slide3-S2_prep2_thumbnail_mask.png\" && mkdir -p \"/media/yuncong/BstemAtlasData/CSHL_data_processed/ChatCryoJane201710/ChatCryoJane201710_prep2_thumbnail_mask\"\n",
      "aws s3 cp \"s3://mousebrainatlas-data/CSHL_data_processed/ChatCryoJane201710/ChatCryoJane201710_prep2_thumbnail_mask/ChatCryoJane201710_slide3-S2_prep2_thumbnail_mask.png\" \"/media/yuncong/BstemAtlasData/CSHL_data_processed/ChatCryoJane201710/ChatCryoJane201710_prep2_thumbnail_mask/ChatCryoJane201710_slide3-S2_prep2_thumbnail_mask.png\"\n"
     ]
    },
    {
     "name": "stderr",
     "output_type": "stream",
     "text": [
      "Load NTB1: 0.00 seconds.\n",
      "Load NTB2: 0.00 seconds.\n"
     ]
    },
    {
     "name": "stdout",
     "output_type": "stream",
     "text": [
      "Region 0: x=1206, y=14436, w=2000, h=2000\n",
      "convert /media/yuncong/BstemAtlasData/CSHL_data_processed/ChatCryoJane201710/ChatCryoJane201710_prep2_lossless_Ntb/ChatCryoJane201710_slide3-S2_prep2_lossless_Ntb.tif -crop 2000x2000+1206+14436 /tmp/tmp.tif\n",
      "convert /media/yuncong/BstemAtlasData/CSHL_data_processed/ChatCryoJane201710/ChatCryoJane201710_prep2_lossless_Ntb/ChatCryoJane201710_slide4-S2_prep2_lossless_Ntb.tif -crop 2000x2000+1206+14436 /tmp/tmp.tif\n",
      "Region 1: x=244, y=3960, w=2000, h=2000\n",
      "convert /media/yuncong/BstemAtlasData/CSHL_data_processed/ChatCryoJane201710/ChatCryoJane201710_prep2_lossless_Ntb/ChatCryoJane201710_slide3-S2_prep2_lossless_Ntb.tif -crop 2000x2000+244+3960 /tmp/tmp.tif\n",
      "convert /media/yuncong/BstemAtlasData/CSHL_data_processed/ChatCryoJane201710/ChatCryoJane201710_prep2_lossless_Ntb/ChatCryoJane201710_slide4-S2_prep2_lossless_Ntb.tif -crop 2000x2000+244+3960 /tmp/tmp.tif\n",
      "Region 2: x=5238, y=4431, w=2000, h=2000\n",
      "convert /media/yuncong/BstemAtlasData/CSHL_data_processed/ChatCryoJane201710/ChatCryoJane201710_prep2_lossless_Ntb/ChatCryoJane201710_slide3-S2_prep2_lossless_Ntb.tif -crop 2000x2000+5238+4431 /tmp/tmp.tif\n",
      "convert /media/yuncong/BstemAtlasData/CSHL_data_processed/ChatCryoJane201710/ChatCryoJane201710_prep2_lossless_Ntb/ChatCryoJane201710_slide4-S2_prep2_lossless_Ntb.tif -crop 2000x2000+5238+4431 /tmp/tmp.tif\n",
      "Region 3: x=2686, y=12772, w=2000, h=2000\n",
      "convert /media/yuncong/BstemAtlasData/CSHL_data_processed/ChatCryoJane201710/ChatCryoJane201710_prep2_lossless_Ntb/ChatCryoJane201710_slide3-S2_prep2_lossless_Ntb.tif -crop 2000x2000+2686+12772 /tmp/tmp.tif\n",
      "convert /media/yuncong/BstemAtlasData/CSHL_data_processed/ChatCryoJane201710/ChatCryoJane201710_prep2_lossless_Ntb/ChatCryoJane201710_slide4-S2_prep2_lossless_Ntb.tif -crop 2000x2000+2686+12772 /tmp/tmp.tif\n",
      "Region 4: x=5074, y=4477, w=2000, h=2000\n",
      "convert /media/yuncong/BstemAtlasData/CSHL_data_processed/ChatCryoJane201710/ChatCryoJane201710_prep2_lossless_Ntb/ChatCryoJane201710_slide3-S2_prep2_lossless_Ntb.tif -crop 2000x2000+5074+4477 /tmp/tmp.tif\n",
      "convert /media/yuncong/BstemAtlasData/CSHL_data_processed/ChatCryoJane201710/ChatCryoJane201710_prep2_lossless_Ntb/ChatCryoJane201710_slide4-S2_prep2_lossless_Ntb.tif -crop 2000x2000+5074+4477 /tmp/tmp.tif\n",
      "Region 5: x=8939, y=8589, w=2000, h=2000\n",
      "convert /media/yuncong/BstemAtlasData/CSHL_data_processed/ChatCryoJane201710/ChatCryoJane201710_prep2_lossless_Ntb/ChatCryoJane201710_slide3-S2_prep2_lossless_Ntb.tif -crop 2000x2000+8939+8589 /tmp/tmp.tif\n",
      "convert /media/yuncong/BstemAtlasData/CSHL_data_processed/ChatCryoJane201710/ChatCryoJane201710_prep2_lossless_Ntb/ChatCryoJane201710_slide4-S2_prep2_lossless_Ntb.tif -crop 2000x2000+8939+8589 /tmp/tmp.tif\n",
      "Region 6: x=7753, y=6340, w=2000, h=2000\n",
      "convert /media/yuncong/BstemAtlasData/CSHL_data_processed/ChatCryoJane201710/ChatCryoJane201710_prep2_lossless_Ntb/ChatCryoJane201710_slide3-S2_prep2_lossless_Ntb.tif -crop 2000x2000+7753+6340 /tmp/tmp.tif\n",
      "convert /media/yuncong/BstemAtlasData/CSHL_data_processed/ChatCryoJane201710/ChatCryoJane201710_prep2_lossless_Ntb/ChatCryoJane201710_slide4-S2_prep2_lossless_Ntb.tif -crop 2000x2000+7753+6340 /tmp/tmp.tif\n",
      "Region 7: x=3164, y=14128, w=2000, h=2000\n",
      "convert /media/yuncong/BstemAtlasData/CSHL_data_processed/ChatCryoJane201710/ChatCryoJane201710_prep2_lossless_Ntb/ChatCryoJane201710_slide3-S2_prep2_lossless_Ntb.tif -crop 2000x2000+3164+14128 /tmp/tmp.tif\n",
      "convert /media/yuncong/BstemAtlasData/CSHL_data_processed/ChatCryoJane201710/ChatCryoJane201710_prep2_lossless_Ntb/ChatCryoJane201710_slide4-S2_prep2_lossless_Ntb.tif -crop 2000x2000+3164+14128 /tmp/tmp.tif\n",
      "Region 8: x=2668, y=13198, w=2000, h=2000\n",
      "convert /media/yuncong/BstemAtlasData/CSHL_data_processed/ChatCryoJane201710/ChatCryoJane201710_prep2_lossless_Ntb/ChatCryoJane201710_slide3-S2_prep2_lossless_Ntb.tif -crop 2000x2000+2668+13198 /tmp/tmp.tif\n",
      "convert /media/yuncong/BstemAtlasData/CSHL_data_processed/ChatCryoJane201710/ChatCryoJane201710_prep2_lossless_Ntb/ChatCryoJane201710_slide4-S2_prep2_lossless_Ntb.tif -crop 2000x2000+2668+13198 /tmp/tmp.tif\n",
      "Region 9: x=2580, y=5091, w=2000, h=2000\n",
      "convert /media/yuncong/BstemAtlasData/CSHL_data_processed/ChatCryoJane201710/ChatCryoJane201710_prep2_lossless_Ntb/ChatCryoJane201710_slide3-S2_prep2_lossless_Ntb.tif -crop 2000x2000+2580+5091 /tmp/tmp.tif\n",
      "convert /media/yuncong/BstemAtlasData/CSHL_data_processed/ChatCryoJane201710/ChatCryoJane201710_prep2_lossless_Ntb/ChatCryoJane201710_slide4-S2_prep2_lossless_Ntb.tif -crop 2000x2000+2580+5091 /tmp/tmp.tif\n",
      "aws s3 cp \"/media/yuncong/BstemAtlasData/CSHL_data_processed/ChatCryoJane201710/ChatCryoJane201710_intensity_mapping/ChatCryoJane201710_slide4-S2_to_ChatCryoJane201710_slide3-S2_intensity_mapping_all_regions.npy\" \"s3://mousebrainatlas-data/CSHL_data_processed/ChatCryoJane201710/ChatCryoJane201710_intensity_mapping/ChatCryoJane201710_slide4-S2_to_ChatCryoJane201710_slide3-S2_intensity_mapping_all_regions.npy\"\n",
      "aws s3 cp \"/media/yuncong/BstemAtlasData/CSHL_data_processed/ChatCryoJane201710/ChatCryoJane201710_intensity_mapping/ChatCryoJane201710_slide4-S2_to_ChatCryoJane201710_slide3-S2_region_bboxes.npy\" \"s3://mousebrainatlas-data/CSHL_data_processed/ChatCryoJane201710/ChatCryoJane201710_intensity_mapping/ChatCryoJane201710_slide4-S2_to_ChatCryoJane201710_slide3-S2_region_bboxes.npy\"\n"
     ]
    },
    {
     "name": "stderr",
     "output_type": "stream",
     "text": [
      "ntb 10, ntb 11\n"
     ]
    },
    {
     "name": "stdout",
     "output_type": "stream",
     "text": [
      "rm -rf \"/media/yuncong/BstemAtlasData/CSHL_data_processed/ChatCryoJane201710/ChatCryoJane201710_prep2_thumbnail_mask/ChatCryoJane201710_slide4-S2_prep2_thumbnail_mask.png\" && mkdir -p \"/media/yuncong/BstemAtlasData/CSHL_data_processed/ChatCryoJane201710/ChatCryoJane201710_prep2_thumbnail_mask\"\n",
      "aws s3 cp \"s3://mousebrainatlas-data/CSHL_data_processed/ChatCryoJane201710/ChatCryoJane201710_prep2_thumbnail_mask/ChatCryoJane201710_slide4-S2_prep2_thumbnail_mask.png\" \"/media/yuncong/BstemAtlasData/CSHL_data_processed/ChatCryoJane201710/ChatCryoJane201710_prep2_thumbnail_mask/ChatCryoJane201710_slide4-S2_prep2_thumbnail_mask.png\"\n"
     ]
    },
    {
     "name": "stderr",
     "output_type": "stream",
     "text": [
      "Load NTB1: 0.00 seconds.\n",
      "Load NTB2: 0.00 seconds.\n"
     ]
    },
    {
     "name": "stdout",
     "output_type": "stream",
     "text": [
      "Region 0: x=1442, y=7165, w=2000, h=2000\n",
      "convert /media/yuncong/BstemAtlasData/CSHL_data_processed/ChatCryoJane201710/ChatCryoJane201710_prep2_lossless_Ntb/ChatCryoJane201710_slide4-S2_prep2_lossless_Ntb.tif -crop 2000x2000+1442+7165 /tmp/tmp.tif\n",
      "convert /media/yuncong/BstemAtlasData/CSHL_data_processed/ChatCryoJane201710/ChatCryoJane201710_prep2_lossless_Ntb/ChatCryoJane201710_slide3-S3_prep2_lossless_Ntb.tif -crop 2000x2000+1442+7165 /tmp/tmp.tif\n",
      "Region 1: x=6022, y=2801, w=2000, h=2000\n",
      "convert /media/yuncong/BstemAtlasData/CSHL_data_processed/ChatCryoJane201710/ChatCryoJane201710_prep2_lossless_Ntb/ChatCryoJane201710_slide4-S2_prep2_lossless_Ntb.tif -crop 2000x2000+6022+2801 /tmp/tmp.tif\n",
      "convert /media/yuncong/BstemAtlasData/CSHL_data_processed/ChatCryoJane201710/ChatCryoJane201710_prep2_lossless_Ntb/ChatCryoJane201710_slide3-S3_prep2_lossless_Ntb.tif -crop 2000x2000+6022+2801 /tmp/tmp.tif\n",
      "Region 2: x=8953, y=7220, w=2000, h=2000\n",
      "convert /media/yuncong/BstemAtlasData/CSHL_data_processed/ChatCryoJane201710/ChatCryoJane201710_prep2_lossless_Ntb/ChatCryoJane201710_slide4-S2_prep2_lossless_Ntb.tif -crop 2000x2000+8953+7220 /tmp/tmp.tif\n",
      "convert /media/yuncong/BstemAtlasData/CSHL_data_processed/ChatCryoJane201710/ChatCryoJane201710_prep2_lossless_Ntb/ChatCryoJane201710_slide3-S3_prep2_lossless_Ntb.tif -crop 2000x2000+8953+7220 /tmp/tmp.tif\n",
      "Region 3: x=2537, y=6071, w=2000, h=2000\n",
      "convert /media/yuncong/BstemAtlasData/CSHL_data_processed/ChatCryoJane201710/ChatCryoJane201710_prep2_lossless_Ntb/ChatCryoJane201710_slide4-S2_prep2_lossless_Ntb.tif -crop 2000x2000+2537+6071 /tmp/tmp.tif\n",
      "convert /media/yuncong/BstemAtlasData/CSHL_data_processed/ChatCryoJane201710/ChatCryoJane201710_prep2_lossless_Ntb/ChatCryoJane201710_slide3-S3_prep2_lossless_Ntb.tif -crop 2000x2000+2537+6071 /tmp/tmp.tif\n",
      "Region 4: x=2409, y=8543, w=2000, h=2000\n",
      "convert /media/yuncong/BstemAtlasData/CSHL_data_processed/ChatCryoJane201710/ChatCryoJane201710_prep2_lossless_Ntb/ChatCryoJane201710_slide4-S2_prep2_lossless_Ntb.tif -crop 2000x2000+2409+8543 /tmp/tmp.tif\n",
      "convert /media/yuncong/BstemAtlasData/CSHL_data_processed/ChatCryoJane201710/ChatCryoJane201710_prep2_lossless_Ntb/ChatCryoJane201710_slide3-S3_prep2_lossless_Ntb.tif -crop 2000x2000+2409+8543 /tmp/tmp.tif\n",
      "Region 5: x=10458, y=7538, w=2000, h=2000\n",
      "convert /media/yuncong/BstemAtlasData/CSHL_data_processed/ChatCryoJane201710/ChatCryoJane201710_prep2_lossless_Ntb/ChatCryoJane201710_slide4-S2_prep2_lossless_Ntb.tif -crop 2000x2000+10458+7538 /tmp/tmp.tif\n",
      "convert /media/yuncong/BstemAtlasData/CSHL_data_processed/ChatCryoJane201710/ChatCryoJane201710_prep2_lossless_Ntb/ChatCryoJane201710_slide3-S3_prep2_lossless_Ntb.tif -crop 2000x2000+10458+7538 /tmp/tmp.tif\n",
      "Region 6: x=4651, y=1822, w=2000, h=2000\n",
      "convert /media/yuncong/BstemAtlasData/CSHL_data_processed/ChatCryoJane201710/ChatCryoJane201710_prep2_lossless_Ntb/ChatCryoJane201710_slide4-S2_prep2_lossless_Ntb.tif -crop 2000x2000+4651+1822 /tmp/tmp.tif\n",
      "convert /media/yuncong/BstemAtlasData/CSHL_data_processed/ChatCryoJane201710/ChatCryoJane201710_prep2_lossless_Ntb/ChatCryoJane201710_slide3-S3_prep2_lossless_Ntb.tif -crop 2000x2000+4651+1822 /tmp/tmp.tif\n",
      "Region 7: x=5852, y=2784, w=2000, h=2000\n",
      "convert /media/yuncong/BstemAtlasData/CSHL_data_processed/ChatCryoJane201710/ChatCryoJane201710_prep2_lossless_Ntb/ChatCryoJane201710_slide4-S2_prep2_lossless_Ntb.tif -crop 2000x2000+5852+2784 /tmp/tmp.tif\n",
      "convert /media/yuncong/BstemAtlasData/CSHL_data_processed/ChatCryoJane201710/ChatCryoJane201710_prep2_lossless_Ntb/ChatCryoJane201710_slide3-S3_prep2_lossless_Ntb.tif -crop 2000x2000+5852+2784 /tmp/tmp.tif\n",
      "Region 8: x=4147, y=9359, w=2000, h=2000\n",
      "convert /media/yuncong/BstemAtlasData/CSHL_data_processed/ChatCryoJane201710/ChatCryoJane201710_prep2_lossless_Ntb/ChatCryoJane201710_slide4-S2_prep2_lossless_Ntb.tif -crop 2000x2000+4147+9359 /tmp/tmp.tif\n",
      "convert /media/yuncong/BstemAtlasData/CSHL_data_processed/ChatCryoJane201710/ChatCryoJane201710_prep2_lossless_Ntb/ChatCryoJane201710_slide3-S3_prep2_lossless_Ntb.tif -crop 2000x2000+4147+9359 /tmp/tmp.tif\n",
      "Region 9: x=1786, y=14615, w=2000, h=2000\n",
      "convert /media/yuncong/BstemAtlasData/CSHL_data_processed/ChatCryoJane201710/ChatCryoJane201710_prep2_lossless_Ntb/ChatCryoJane201710_slide4-S2_prep2_lossless_Ntb.tif -crop 2000x2000+1786+14615 /tmp/tmp.tif\n",
      "convert /media/yuncong/BstemAtlasData/CSHL_data_processed/ChatCryoJane201710/ChatCryoJane201710_prep2_lossless_Ntb/ChatCryoJane201710_slide3-S3_prep2_lossless_Ntb.tif -crop 2000x2000+1786+14615 /tmp/tmp.tif\n",
      "aws s3 cp \"/media/yuncong/BstemAtlasData/CSHL_data_processed/ChatCryoJane201710/ChatCryoJane201710_intensity_mapping/ChatCryoJane201710_slide3-S3_to_ChatCryoJane201710_slide4-S2_intensity_mapping_all_regions.npy\" \"s3://mousebrainatlas-data/CSHL_data_processed/ChatCryoJane201710/ChatCryoJane201710_intensity_mapping/ChatCryoJane201710_slide3-S3_to_ChatCryoJane201710_slide4-S2_intensity_mapping_all_regions.npy\"\n",
      "aws s3 cp \"/media/yuncong/BstemAtlasData/CSHL_data_processed/ChatCryoJane201710/ChatCryoJane201710_intensity_mapping/ChatCryoJane201710_slide3-S3_to_ChatCryoJane201710_slide4-S2_region_bboxes.npy\" \"s3://mousebrainatlas-data/CSHL_data_processed/ChatCryoJane201710/ChatCryoJane201710_intensity_mapping/ChatCryoJane201710_slide3-S3_to_ChatCryoJane201710_slide4-S2_region_bboxes.npy\"\n"
     ]
    },
    {
     "name": "stderr",
     "output_type": "stream",
     "text": [
      "ntb 11, ntb 12\n"
     ]
    },
    {
     "name": "stdout",
     "output_type": "stream",
     "text": [
      "rm -rf \"/media/yuncong/BstemAtlasData/CSHL_data_processed/ChatCryoJane201710/ChatCryoJane201710_prep2_thumbnail_mask/ChatCryoJane201710_slide3-S3_prep2_thumbnail_mask.png\" && mkdir -p \"/media/yuncong/BstemAtlasData/CSHL_data_processed/ChatCryoJane201710/ChatCryoJane201710_prep2_thumbnail_mask\"\n",
      "aws s3 cp \"s3://mousebrainatlas-data/CSHL_data_processed/ChatCryoJane201710/ChatCryoJane201710_prep2_thumbnail_mask/ChatCryoJane201710_slide3-S3_prep2_thumbnail_mask.png\" \"/media/yuncong/BstemAtlasData/CSHL_data_processed/ChatCryoJane201710/ChatCryoJane201710_prep2_thumbnail_mask/ChatCryoJane201710_slide3-S3_prep2_thumbnail_mask.png\"\n"
     ]
    },
    {
     "name": "stderr",
     "output_type": "stream",
     "text": [
      "Load NTB1: 0.00 seconds.\n",
      "Load NTB2: 0.00 seconds.\n"
     ]
    },
    {
     "name": "stdout",
     "output_type": "stream",
     "text": [
      "Region 0: x=2904, y=4980, w=2000, h=2000\n",
      "convert /media/yuncong/BstemAtlasData/CSHL_data_processed/ChatCryoJane201710/ChatCryoJane201710_prep2_lossless_Ntb/ChatCryoJane201710_slide3-S3_prep2_lossless_Ntb.tif -crop 2000x2000+2904+4980 /tmp/tmp.tif\n",
      "convert /media/yuncong/BstemAtlasData/CSHL_data_processed/ChatCryoJane201710/ChatCryoJane201710_prep2_lossless_Ntb/ChatCryoJane201710_slide4-S3_prep2_lossless_Ntb.tif -crop 2000x2000+2904+4980 /tmp/tmp.tif\n",
      "Region 1: x=5306, y=1779, w=2000, h=2000\n",
      "convert /media/yuncong/BstemAtlasData/CSHL_data_processed/ChatCryoJane201710/ChatCryoJane201710_prep2_lossless_Ntb/ChatCryoJane201710_slide3-S3_prep2_lossless_Ntb.tif -crop 2000x2000+5306+1779 /tmp/tmp.tif\n",
      "convert /media/yuncong/BstemAtlasData/CSHL_data_processed/ChatCryoJane201710/ChatCryoJane201710_prep2_lossless_Ntb/ChatCryoJane201710_slide4-S3_prep2_lossless_Ntb.tif -crop 2000x2000+5306+1779 /tmp/tmp.tif\n",
      "Region 2: x=12162, y=5476, w=2000, h=2000\n",
      "convert /media/yuncong/BstemAtlasData/CSHL_data_processed/ChatCryoJane201710/ChatCryoJane201710_prep2_lossless_Ntb/ChatCryoJane201710_slide3-S3_prep2_lossless_Ntb.tif -crop 2000x2000+12162+5476 /tmp/tmp.tif\n",
      "convert /media/yuncong/BstemAtlasData/CSHL_data_processed/ChatCryoJane201710/ChatCryoJane201710_prep2_lossless_Ntb/ChatCryoJane201710_slide4-S3_prep2_lossless_Ntb.tif -crop 2000x2000+12162+5476 /tmp/tmp.tif\n",
      "Region 3: x=1643, y=11434, w=2000, h=2000\n",
      "convert /media/yuncong/BstemAtlasData/CSHL_data_processed/ChatCryoJane201710/ChatCryoJane201710_prep2_lossless_Ntb/ChatCryoJane201710_slide3-S3_prep2_lossless_Ntb.tif -crop 2000x2000+1643+11434 /tmp/tmp.tif\n",
      "convert /media/yuncong/BstemAtlasData/CSHL_data_processed/ChatCryoJane201710/ChatCryoJane201710_prep2_lossless_Ntb/ChatCryoJane201710_slide4-S3_prep2_lossless_Ntb.tif -crop 2000x2000+1643+11434 /tmp/tmp.tif\n",
      "Region 4: x=801, y=7944, w=2000, h=2000\n",
      "convert /media/yuncong/BstemAtlasData/CSHL_data_processed/ChatCryoJane201710/ChatCryoJane201710_prep2_lossless_Ntb/ChatCryoJane201710_slide3-S3_prep2_lossless_Ntb.tif -crop 2000x2000+801+7944 /tmp/tmp.tif\n",
      "convert /media/yuncong/BstemAtlasData/CSHL_data_processed/ChatCryoJane201710/ChatCryoJane201710_prep2_lossless_Ntb/ChatCryoJane201710_slide4-S3_prep2_lossless_Ntb.tif -crop 2000x2000+801+7944 /tmp/tmp.tif\n",
      "Region 5: x=694, y=5481, w=2000, h=2000\n",
      "convert /media/yuncong/BstemAtlasData/CSHL_data_processed/ChatCryoJane201710/ChatCryoJane201710_prep2_lossless_Ntb/ChatCryoJane201710_slide3-S3_prep2_lossless_Ntb.tif -crop 2000x2000+694+5481 /tmp/tmp.tif\n",
      "convert /media/yuncong/BstemAtlasData/CSHL_data_processed/ChatCryoJane201710/ChatCryoJane201710_prep2_lossless_Ntb/ChatCryoJane201710_slide4-S3_prep2_lossless_Ntb.tif -crop 2000x2000+694+5481 /tmp/tmp.tif\n",
      "Region 6: x=1414, y=10574, w=2000, h=2000\n",
      "convert /media/yuncong/BstemAtlasData/CSHL_data_processed/ChatCryoJane201710/ChatCryoJane201710_prep2_lossless_Ntb/ChatCryoJane201710_slide3-S3_prep2_lossless_Ntb.tif -crop 2000x2000+1414+10574 /tmp/tmp.tif\n",
      "convert /media/yuncong/BstemAtlasData/CSHL_data_processed/ChatCryoJane201710/ChatCryoJane201710_prep2_lossless_Ntb/ChatCryoJane201710_slide4-S3_prep2_lossless_Ntb.tif -crop 2000x2000+1414+10574 /tmp/tmp.tif\n",
      "Region 7: x=9442, y=5591, w=2000, h=2000\n",
      "convert /media/yuncong/BstemAtlasData/CSHL_data_processed/ChatCryoJane201710/ChatCryoJane201710_prep2_lossless_Ntb/ChatCryoJane201710_slide3-S3_prep2_lossless_Ntb.tif -crop 2000x2000+9442+5591 /tmp/tmp.tif\n",
      "convert /media/yuncong/BstemAtlasData/CSHL_data_processed/ChatCryoJane201710/ChatCryoJane201710_prep2_lossless_Ntb/ChatCryoJane201710_slide4-S3_prep2_lossless_Ntb.tif -crop 2000x2000+9442+5591 /tmp/tmp.tif\n",
      "Region 8: x=1417, y=8595, w=2000, h=2000\n",
      "convert /media/yuncong/BstemAtlasData/CSHL_data_processed/ChatCryoJane201710/ChatCryoJane201710_prep2_lossless_Ntb/ChatCryoJane201710_slide3-S3_prep2_lossless_Ntb.tif -crop 2000x2000+1417+8595 /tmp/tmp.tif\n",
      "convert /media/yuncong/BstemAtlasData/CSHL_data_processed/ChatCryoJane201710/ChatCryoJane201710_prep2_lossless_Ntb/ChatCryoJane201710_slide4-S3_prep2_lossless_Ntb.tif -crop 2000x2000+1417+8595 /tmp/tmp.tif\n",
      "Region 9: x=949, y=3459, w=2000, h=2000\n",
      "convert /media/yuncong/BstemAtlasData/CSHL_data_processed/ChatCryoJane201710/ChatCryoJane201710_prep2_lossless_Ntb/ChatCryoJane201710_slide3-S3_prep2_lossless_Ntb.tif -crop 2000x2000+949+3459 /tmp/tmp.tif\n",
      "convert /media/yuncong/BstemAtlasData/CSHL_data_processed/ChatCryoJane201710/ChatCryoJane201710_prep2_lossless_Ntb/ChatCryoJane201710_slide4-S3_prep2_lossless_Ntb.tif -crop 2000x2000+949+3459 /tmp/tmp.tif\n",
      "aws s3 cp \"/media/yuncong/BstemAtlasData/CSHL_data_processed/ChatCryoJane201710/ChatCryoJane201710_intensity_mapping/ChatCryoJane201710_slide4-S3_to_ChatCryoJane201710_slide3-S3_intensity_mapping_all_regions.npy\" \"s3://mousebrainatlas-data/CSHL_data_processed/ChatCryoJane201710/ChatCryoJane201710_intensity_mapping/ChatCryoJane201710_slide4-S3_to_ChatCryoJane201710_slide3-S3_intensity_mapping_all_regions.npy\"\n",
      "aws s3 cp \"/media/yuncong/BstemAtlasData/CSHL_data_processed/ChatCryoJane201710/ChatCryoJane201710_intensity_mapping/ChatCryoJane201710_slide4-S3_to_ChatCryoJane201710_slide3-S3_region_bboxes.npy\" \"s3://mousebrainatlas-data/CSHL_data_processed/ChatCryoJane201710/ChatCryoJane201710_intensity_mapping/ChatCryoJane201710_slide4-S3_to_ChatCryoJane201710_slide3-S3_region_bboxes.npy\"\n"
     ]
    },
    {
     "name": "stderr",
     "output_type": "stream",
     "text": [
      "ntb 12, ntb 13\n"
     ]
    },
    {
     "name": "stdout",
     "output_type": "stream",
     "text": [
      "rm -rf \"/media/yuncong/BstemAtlasData/CSHL_data_processed/ChatCryoJane201710/ChatCryoJane201710_prep2_thumbnail_mask/ChatCryoJane201710_slide4-S3_prep2_thumbnail_mask.png\" && mkdir -p \"/media/yuncong/BstemAtlasData/CSHL_data_processed/ChatCryoJane201710/ChatCryoJane201710_prep2_thumbnail_mask\"\n",
      "aws s3 cp \"s3://mousebrainatlas-data/CSHL_data_processed/ChatCryoJane201710/ChatCryoJane201710_prep2_thumbnail_mask/ChatCryoJane201710_slide4-S3_prep2_thumbnail_mask.png\" \"/media/yuncong/BstemAtlasData/CSHL_data_processed/ChatCryoJane201710/ChatCryoJane201710_prep2_thumbnail_mask/ChatCryoJane201710_slide4-S3_prep2_thumbnail_mask.png\"\n"
     ]
    },
    {
     "name": "stderr",
     "output_type": "stream",
     "text": [
      "Load NTB1: 0.00 seconds.\n",
      "Load NTB2: 0.00 seconds.\n"
     ]
    },
    {
     "name": "stdout",
     "output_type": "stream",
     "text": [
      "Region 0: x=6651, y=2055, w=2000, h=2000\n",
      "convert /media/yuncong/BstemAtlasData/CSHL_data_processed/ChatCryoJane201710/ChatCryoJane201710_prep2_lossless_Ntb/ChatCryoJane201710_slide4-S3_prep2_lossless_Ntb.tif -crop 2000x2000+6651+2055 /tmp/tmp.tif\n",
      "convert /media/yuncong/BstemAtlasData/CSHL_data_processed/ChatCryoJane201710/ChatCryoJane201710_prep2_lossless_Ntb/ChatCryoJane201710_slide5-S1_prep2_lossless_Ntb.tif -crop 2000x2000+6651+2055 /tmp/tmp.tif\n",
      "Region 1: x=4499, y=1725, w=2000, h=2000\n",
      "convert /media/yuncong/BstemAtlasData/CSHL_data_processed/ChatCryoJane201710/ChatCryoJane201710_prep2_lossless_Ntb/ChatCryoJane201710_slide4-S3_prep2_lossless_Ntb.tif -crop 2000x2000+4499+1725 /tmp/tmp.tif\n",
      "convert /media/yuncong/BstemAtlasData/CSHL_data_processed/ChatCryoJane201710/ChatCryoJane201710_prep2_lossless_Ntb/ChatCryoJane201710_slide5-S1_prep2_lossless_Ntb.tif -crop 2000x2000+4499+1725 /tmp/tmp.tif\n",
      "Region 2: x=3328, y=4937, w=2000, h=2000\n",
      "convert /media/yuncong/BstemAtlasData/CSHL_data_processed/ChatCryoJane201710/ChatCryoJane201710_prep2_lossless_Ntb/ChatCryoJane201710_slide4-S3_prep2_lossless_Ntb.tif -crop 2000x2000+3328+4937 /tmp/tmp.tif\n",
      "convert /media/yuncong/BstemAtlasData/CSHL_data_processed/ChatCryoJane201710/ChatCryoJane201710_prep2_lossless_Ntb/ChatCryoJane201710_slide5-S1_prep2_lossless_Ntb.tif -crop 2000x2000+3328+4937 /tmp/tmp.tif\n",
      "Region 3: x=6837, y=2221, w=2000, h=2000\n",
      "convert /media/yuncong/BstemAtlasData/CSHL_data_processed/ChatCryoJane201710/ChatCryoJane201710_prep2_lossless_Ntb/ChatCryoJane201710_slide4-S3_prep2_lossless_Ntb.tif -crop 2000x2000+6837+2221 /tmp/tmp.tif\n",
      "convert /media/yuncong/BstemAtlasData/CSHL_data_processed/ChatCryoJane201710/ChatCryoJane201710_prep2_lossless_Ntb/ChatCryoJane201710_slide5-S1_prep2_lossless_Ntb.tif -crop 2000x2000+6837+2221 /tmp/tmp.tif\n",
      "Region 4: x=6020, y=5257, w=2000, h=2000\n",
      "convert /media/yuncong/BstemAtlasData/CSHL_data_processed/ChatCryoJane201710/ChatCryoJane201710_prep2_lossless_Ntb/ChatCryoJane201710_slide4-S3_prep2_lossless_Ntb.tif -crop 2000x2000+6020+5257 /tmp/tmp.tif\n",
      "convert /media/yuncong/BstemAtlasData/CSHL_data_processed/ChatCryoJane201710/ChatCryoJane201710_prep2_lossless_Ntb/ChatCryoJane201710_slide5-S1_prep2_lossless_Ntb.tif -crop 2000x2000+6020+5257 /tmp/tmp.tif\n",
      "Region 5: x=3269, y=4044, w=2000, h=2000\n",
      "convert /media/yuncong/BstemAtlasData/CSHL_data_processed/ChatCryoJane201710/ChatCryoJane201710_prep2_lossless_Ntb/ChatCryoJane201710_slide4-S3_prep2_lossless_Ntb.tif -crop 2000x2000+3269+4044 /tmp/tmp.tif\n",
      "convert /media/yuncong/BstemAtlasData/CSHL_data_processed/ChatCryoJane201710/ChatCryoJane201710_prep2_lossless_Ntb/ChatCryoJane201710_slide5-S1_prep2_lossless_Ntb.tif -crop 2000x2000+3269+4044 /tmp/tmp.tif\n",
      "Region 6: x=7518, y=4652, w=2000, h=2000\n",
      "convert /media/yuncong/BstemAtlasData/CSHL_data_processed/ChatCryoJane201710/ChatCryoJane201710_prep2_lossless_Ntb/ChatCryoJane201710_slide4-S3_prep2_lossless_Ntb.tif -crop 2000x2000+7518+4652 /tmp/tmp.tif\n",
      "convert /media/yuncong/BstemAtlasData/CSHL_data_processed/ChatCryoJane201710/ChatCryoJane201710_prep2_lossless_Ntb/ChatCryoJane201710_slide5-S1_prep2_lossless_Ntb.tif -crop 2000x2000+7518+4652 /tmp/tmp.tif\n",
      "Region 7: x=1571, y=3365, w=2000, h=2000\n",
      "convert /media/yuncong/BstemAtlasData/CSHL_data_processed/ChatCryoJane201710/ChatCryoJane201710_prep2_lossless_Ntb/ChatCryoJane201710_slide4-S3_prep2_lossless_Ntb.tif -crop 2000x2000+1571+3365 /tmp/tmp.tif\n",
      "convert /media/yuncong/BstemAtlasData/CSHL_data_processed/ChatCryoJane201710/ChatCryoJane201710_prep2_lossless_Ntb/ChatCryoJane201710_slide5-S1_prep2_lossless_Ntb.tif -crop 2000x2000+1571+3365 /tmp/tmp.tif\n",
      "Region 8: x=5760, y=3469, w=2000, h=2000\n",
      "convert /media/yuncong/BstemAtlasData/CSHL_data_processed/ChatCryoJane201710/ChatCryoJane201710_prep2_lossless_Ntb/ChatCryoJane201710_slide4-S3_prep2_lossless_Ntb.tif -crop 2000x2000+5760+3469 /tmp/tmp.tif\n",
      "convert /media/yuncong/BstemAtlasData/CSHL_data_processed/ChatCryoJane201710/ChatCryoJane201710_prep2_lossless_Ntb/ChatCryoJane201710_slide5-S1_prep2_lossless_Ntb.tif -crop 2000x2000+5760+3469 /tmp/tmp.tif\n",
      "Region 9: x=9162, y=6419, w=2000, h=2000\n",
      "convert /media/yuncong/BstemAtlasData/CSHL_data_processed/ChatCryoJane201710/ChatCryoJane201710_prep2_lossless_Ntb/ChatCryoJane201710_slide4-S3_prep2_lossless_Ntb.tif -crop 2000x2000+9162+6419 /tmp/tmp.tif\n",
      "convert /media/yuncong/BstemAtlasData/CSHL_data_processed/ChatCryoJane201710/ChatCryoJane201710_prep2_lossless_Ntb/ChatCryoJane201710_slide5-S1_prep2_lossless_Ntb.tif -crop 2000x2000+9162+6419 /tmp/tmp.tif\n",
      "aws s3 cp \"/media/yuncong/BstemAtlasData/CSHL_data_processed/ChatCryoJane201710/ChatCryoJane201710_intensity_mapping/ChatCryoJane201710_slide5-S1_to_ChatCryoJane201710_slide4-S3_intensity_mapping_all_regions.npy\" \"s3://mousebrainatlas-data/CSHL_data_processed/ChatCryoJane201710/ChatCryoJane201710_intensity_mapping/ChatCryoJane201710_slide5-S1_to_ChatCryoJane201710_slide4-S3_intensity_mapping_all_regions.npy\"\n",
      "aws s3 cp \"/media/yuncong/BstemAtlasData/CSHL_data_processed/ChatCryoJane201710/ChatCryoJane201710_intensity_mapping/ChatCryoJane201710_slide5-S1_to_ChatCryoJane201710_slide4-S3_region_bboxes.npy\" \"s3://mousebrainatlas-data/CSHL_data_processed/ChatCryoJane201710/ChatCryoJane201710_intensity_mapping/ChatCryoJane201710_slide5-S1_to_ChatCryoJane201710_slide4-S3_region_bboxes.npy\"\n"
     ]
    },
    {
     "name": "stderr",
     "output_type": "stream",
     "text": [
      "ntb 13, ntb 14\n"
     ]
    },
    {
     "name": "stdout",
     "output_type": "stream",
     "text": [
      "rm -rf \"/media/yuncong/BstemAtlasData/CSHL_data_processed/ChatCryoJane201710/ChatCryoJane201710_prep2_thumbnail_mask/ChatCryoJane201710_slide5-S1_prep2_thumbnail_mask.png\" && mkdir -p \"/media/yuncong/BstemAtlasData/CSHL_data_processed/ChatCryoJane201710/ChatCryoJane201710_prep2_thumbnail_mask\"\n",
      "aws s3 cp \"s3://mousebrainatlas-data/CSHL_data_processed/ChatCryoJane201710/ChatCryoJane201710_prep2_thumbnail_mask/ChatCryoJane201710_slide5-S1_prep2_thumbnail_mask.png\" \"/media/yuncong/BstemAtlasData/CSHL_data_processed/ChatCryoJane201710/ChatCryoJane201710_prep2_thumbnail_mask/ChatCryoJane201710_slide5-S1_prep2_thumbnail_mask.png\"\n"
     ]
    },
    {
     "name": "stderr",
     "output_type": "stream",
     "text": [
      "Load NTB1: 0.00 seconds.\n",
      "Load NTB2: 0.00 seconds.\n"
     ]
    },
    {
     "name": "stdout",
     "output_type": "stream",
     "text": [
      "Region 0: x=6703, y=8192, w=2000, h=2000\n",
      "convert /media/yuncong/BstemAtlasData/CSHL_data_processed/ChatCryoJane201710/ChatCryoJane201710_prep2_lossless_Ntb/ChatCryoJane201710_slide5-S1_prep2_lossless_Ntb.tif -crop 2000x2000+6703+8192 /tmp/tmp.tif\n",
      "convert /media/yuncong/BstemAtlasData/CSHL_data_processed/ChatCryoJane201710/ChatCryoJane201710_prep2_lossless_Ntb/ChatCryoJane201710_slide6-S1_prep2_lossless_Ntb.tif -crop 2000x2000+6703+8192 /tmp/tmp.tif\n",
      "Region 1: x=3661, y=3946, w=2000, h=2000\n",
      "convert /media/yuncong/BstemAtlasData/CSHL_data_processed/ChatCryoJane201710/ChatCryoJane201710_prep2_lossless_Ntb/ChatCryoJane201710_slide5-S1_prep2_lossless_Ntb.tif -crop 2000x2000+3661+3946 /tmp/tmp.tif\n",
      "convert /media/yuncong/BstemAtlasData/CSHL_data_processed/ChatCryoJane201710/ChatCryoJane201710_prep2_lossless_Ntb/ChatCryoJane201710_slide6-S1_prep2_lossless_Ntb.tif -crop 2000x2000+3661+3946 /tmp/tmp.tif\n",
      "Region 2: x=26, y=5072, w=2000, h=2000\n",
      "convert /media/yuncong/BstemAtlasData/CSHL_data_processed/ChatCryoJane201710/ChatCryoJane201710_prep2_lossless_Ntb/ChatCryoJane201710_slide5-S1_prep2_lossless_Ntb.tif -crop 2000x2000+26+5072 /tmp/tmp.tif\n",
      "convert /media/yuncong/BstemAtlasData/CSHL_data_processed/ChatCryoJane201710/ChatCryoJane201710_prep2_lossless_Ntb/ChatCryoJane201710_slide6-S1_prep2_lossless_Ntb.tif -crop 2000x2000+26+5072 /tmp/tmp.tif\n",
      "Region 3: x=4923, y=8402, w=2000, h=2000\n",
      "convert /media/yuncong/BstemAtlasData/CSHL_data_processed/ChatCryoJane201710/ChatCryoJane201710_prep2_lossless_Ntb/ChatCryoJane201710_slide5-S1_prep2_lossless_Ntb.tif -crop 2000x2000+4923+8402 /tmp/tmp.tif\n",
      "convert /media/yuncong/BstemAtlasData/CSHL_data_processed/ChatCryoJane201710/ChatCryoJane201710_prep2_lossless_Ntb/ChatCryoJane201710_slide6-S1_prep2_lossless_Ntb.tif -crop 2000x2000+4923+8402 /tmp/tmp.tif\n",
      "Region 4: x=3888, y=13038, w=2000, h=2000\n",
      "convert /media/yuncong/BstemAtlasData/CSHL_data_processed/ChatCryoJane201710/ChatCryoJane201710_prep2_lossless_Ntb/ChatCryoJane201710_slide5-S1_prep2_lossless_Ntb.tif -crop 2000x2000+3888+13038 /tmp/tmp.tif\n",
      "convert /media/yuncong/BstemAtlasData/CSHL_data_processed/ChatCryoJane201710/ChatCryoJane201710_prep2_lossless_Ntb/ChatCryoJane201710_slide6-S1_prep2_lossless_Ntb.tif -crop 2000x2000+3888+13038 /tmp/tmp.tif\n",
      "Region 5: x=6070, y=3327, w=2000, h=2000\n",
      "convert /media/yuncong/BstemAtlasData/CSHL_data_processed/ChatCryoJane201710/ChatCryoJane201710_prep2_lossless_Ntb/ChatCryoJane201710_slide5-S1_prep2_lossless_Ntb.tif -crop 2000x2000+6070+3327 /tmp/tmp.tif\n",
      "convert /media/yuncong/BstemAtlasData/CSHL_data_processed/ChatCryoJane201710/ChatCryoJane201710_prep2_lossless_Ntb/ChatCryoJane201710_slide6-S1_prep2_lossless_Ntb.tif -crop 2000x2000+6070+3327 /tmp/tmp.tif\n",
      "Region 6: x=7710, y=7393, w=2000, h=2000\n",
      "convert /media/yuncong/BstemAtlasData/CSHL_data_processed/ChatCryoJane201710/ChatCryoJane201710_prep2_lossless_Ntb/ChatCryoJane201710_slide5-S1_prep2_lossless_Ntb.tif -crop 2000x2000+7710+7393 /tmp/tmp.tif\n",
      "convert /media/yuncong/BstemAtlasData/CSHL_data_processed/ChatCryoJane201710/ChatCryoJane201710_prep2_lossless_Ntb/ChatCryoJane201710_slide6-S1_prep2_lossless_Ntb.tif -crop 2000x2000+7710+7393 /tmp/tmp.tif\n",
      "Region 7: x=794, y=14361, w=2000, h=2000\n",
      "convert /media/yuncong/BstemAtlasData/CSHL_data_processed/ChatCryoJane201710/ChatCryoJane201710_prep2_lossless_Ntb/ChatCryoJane201710_slide5-S1_prep2_lossless_Ntb.tif -crop 2000x2000+794+14361 /tmp/tmp.tif\n",
      "convert /media/yuncong/BstemAtlasData/CSHL_data_processed/ChatCryoJane201710/ChatCryoJane201710_prep2_lossless_Ntb/ChatCryoJane201710_slide6-S1_prep2_lossless_Ntb.tif -crop 2000x2000+794+14361 /tmp/tmp.tif\n",
      "Region 8: x=8518, y=11087, w=2000, h=2000\n",
      "convert /media/yuncong/BstemAtlasData/CSHL_data_processed/ChatCryoJane201710/ChatCryoJane201710_prep2_lossless_Ntb/ChatCryoJane201710_slide5-S1_prep2_lossless_Ntb.tif -crop 2000x2000+8518+11087 /tmp/tmp.tif\n",
      "convert /media/yuncong/BstemAtlasData/CSHL_data_processed/ChatCryoJane201710/ChatCryoJane201710_prep2_lossless_Ntb/ChatCryoJane201710_slide6-S1_prep2_lossless_Ntb.tif -crop 2000x2000+8518+11087 /tmp/tmp.tif\n",
      "Region 9: x=2625, y=14647, w=2000, h=2000\n",
      "convert /media/yuncong/BstemAtlasData/CSHL_data_processed/ChatCryoJane201710/ChatCryoJane201710_prep2_lossless_Ntb/ChatCryoJane201710_slide5-S1_prep2_lossless_Ntb.tif -crop 2000x2000+2625+14647 /tmp/tmp.tif\n",
      "convert /media/yuncong/BstemAtlasData/CSHL_data_processed/ChatCryoJane201710/ChatCryoJane201710_prep2_lossless_Ntb/ChatCryoJane201710_slide6-S1_prep2_lossless_Ntb.tif -crop 2000x2000+2625+14647 /tmp/tmp.tif\n",
      "aws s3 cp \"/media/yuncong/BstemAtlasData/CSHL_data_processed/ChatCryoJane201710/ChatCryoJane201710_intensity_mapping/ChatCryoJane201710_slide6-S1_to_ChatCryoJane201710_slide5-S1_intensity_mapping_all_regions.npy\" \"s3://mousebrainatlas-data/CSHL_data_processed/ChatCryoJane201710/ChatCryoJane201710_intensity_mapping/ChatCryoJane201710_slide6-S1_to_ChatCryoJane201710_slide5-S1_intensity_mapping_all_regions.npy\"\n",
      "aws s3 cp \"/media/yuncong/BstemAtlasData/CSHL_data_processed/ChatCryoJane201710/ChatCryoJane201710_intensity_mapping/ChatCryoJane201710_slide6-S1_to_ChatCryoJane201710_slide5-S1_region_bboxes.npy\" \"s3://mousebrainatlas-data/CSHL_data_processed/ChatCryoJane201710/ChatCryoJane201710_intensity_mapping/ChatCryoJane201710_slide6-S1_to_ChatCryoJane201710_slide5-S1_region_bboxes.npy\"\n"
     ]
    },
    {
     "name": "stderr",
     "output_type": "stream",
     "text": [
      "ntb 14, ntb 15\n"
     ]
    },
    {
     "name": "stdout",
     "output_type": "stream",
     "text": [
      "rm -rf \"/media/yuncong/BstemAtlasData/CSHL_data_processed/ChatCryoJane201710/ChatCryoJane201710_prep2_thumbnail_mask/ChatCryoJane201710_slide6-S1_prep2_thumbnail_mask.png\" && mkdir -p \"/media/yuncong/BstemAtlasData/CSHL_data_processed/ChatCryoJane201710/ChatCryoJane201710_prep2_thumbnail_mask\"\n",
      "aws s3 cp \"s3://mousebrainatlas-data/CSHL_data_processed/ChatCryoJane201710/ChatCryoJane201710_prep2_thumbnail_mask/ChatCryoJane201710_slide6-S1_prep2_thumbnail_mask.png\" \"/media/yuncong/BstemAtlasData/CSHL_data_processed/ChatCryoJane201710/ChatCryoJane201710_prep2_thumbnail_mask/ChatCryoJane201710_slide6-S1_prep2_thumbnail_mask.png\"\n"
     ]
    },
    {
     "name": "stderr",
     "output_type": "stream",
     "text": [
      "Load NTB1: 0.00 seconds.\n",
      "Load NTB2: 0.00 seconds.\n"
     ]
    },
    {
     "name": "stdout",
     "output_type": "stream",
     "text": [
      "Region 0: x=2492, y=13166, w=2000, h=2000\n",
      "convert /media/yuncong/BstemAtlasData/CSHL_data_processed/ChatCryoJane201710/ChatCryoJane201710_prep2_lossless_Ntb/ChatCryoJane201710_slide6-S1_prep2_lossless_Ntb.tif -crop 2000x2000+2492+13166 /tmp/tmp.tif\n",
      "convert /media/yuncong/BstemAtlasData/CSHL_data_processed/ChatCryoJane201710/ChatCryoJane201710_prep2_lossless_Ntb/ChatCryoJane201710_slide5-S2_prep2_lossless_Ntb.tif -crop 2000x2000+2492+13166 /tmp/tmp.tif\n",
      "Region 1: x=8883, y=6243, w=2000, h=2000\n",
      "convert /media/yuncong/BstemAtlasData/CSHL_data_processed/ChatCryoJane201710/ChatCryoJane201710_prep2_lossless_Ntb/ChatCryoJane201710_slide6-S1_prep2_lossless_Ntb.tif -crop 2000x2000+8883+6243 /tmp/tmp.tif\n",
      "convert /media/yuncong/BstemAtlasData/CSHL_data_processed/ChatCryoJane201710/ChatCryoJane201710_prep2_lossless_Ntb/ChatCryoJane201710_slide5-S2_prep2_lossless_Ntb.tif -crop 2000x2000+8883+6243 /tmp/tmp.tif\n",
      "Region 2: x=1839, y=10577, w=2000, h=2000\n",
      "convert /media/yuncong/BstemAtlasData/CSHL_data_processed/ChatCryoJane201710/ChatCryoJane201710_prep2_lossless_Ntb/ChatCryoJane201710_slide6-S1_prep2_lossless_Ntb.tif -crop 2000x2000+1839+10577 /tmp/tmp.tif\n",
      "convert /media/yuncong/BstemAtlasData/CSHL_data_processed/ChatCryoJane201710/ChatCryoJane201710_prep2_lossless_Ntb/ChatCryoJane201710_slide5-S2_prep2_lossless_Ntb.tif -crop 2000x2000+1839+10577 /tmp/tmp.tif\n",
      "Region 3: x=6096, y=5880, w=2000, h=2000\n",
      "convert /media/yuncong/BstemAtlasData/CSHL_data_processed/ChatCryoJane201710/ChatCryoJane201710_prep2_lossless_Ntb/ChatCryoJane201710_slide6-S1_prep2_lossless_Ntb.tif -crop 2000x2000+6096+5880 /tmp/tmp.tif\n",
      "convert /media/yuncong/BstemAtlasData/CSHL_data_processed/ChatCryoJane201710/ChatCryoJane201710_prep2_lossless_Ntb/ChatCryoJane201710_slide5-S2_prep2_lossless_Ntb.tif -crop 2000x2000+6096+5880 /tmp/tmp.tif\n",
      "Region 4: x=2762, y=10534, w=2000, h=2000\n",
      "convert /media/yuncong/BstemAtlasData/CSHL_data_processed/ChatCryoJane201710/ChatCryoJane201710_prep2_lossless_Ntb/ChatCryoJane201710_slide6-S1_prep2_lossless_Ntb.tif -crop 2000x2000+2762+10534 /tmp/tmp.tif\n",
      "convert /media/yuncong/BstemAtlasData/CSHL_data_processed/ChatCryoJane201710/ChatCryoJane201710_prep2_lossless_Ntb/ChatCryoJane201710_slide5-S2_prep2_lossless_Ntb.tif -crop 2000x2000+2762+10534 /tmp/tmp.tif\n",
      "Region 5: x=7629, y=8595, w=2000, h=2000\n",
      "convert /media/yuncong/BstemAtlasData/CSHL_data_processed/ChatCryoJane201710/ChatCryoJane201710_prep2_lossless_Ntb/ChatCryoJane201710_slide6-S1_prep2_lossless_Ntb.tif -crop 2000x2000+7629+8595 /tmp/tmp.tif\n",
      "convert /media/yuncong/BstemAtlasData/CSHL_data_processed/ChatCryoJane201710/ChatCryoJane201710_prep2_lossless_Ntb/ChatCryoJane201710_slide5-S2_prep2_lossless_Ntb.tif -crop 2000x2000+7629+8595 /tmp/tmp.tif\n",
      "Region 6: x=6896, y=2046, w=2000, h=2000\n",
      "convert /media/yuncong/BstemAtlasData/CSHL_data_processed/ChatCryoJane201710/ChatCryoJane201710_prep2_lossless_Ntb/ChatCryoJane201710_slide6-S1_prep2_lossless_Ntb.tif -crop 2000x2000+6896+2046 /tmp/tmp.tif\n",
      "convert /media/yuncong/BstemAtlasData/CSHL_data_processed/ChatCryoJane201710/ChatCryoJane201710_prep2_lossless_Ntb/ChatCryoJane201710_slide5-S2_prep2_lossless_Ntb.tif -crop 2000x2000+6896+2046 /tmp/tmp.tif\n",
      "Region 7: x=6331, y=4382, w=2000, h=2000\n",
      "convert /media/yuncong/BstemAtlasData/CSHL_data_processed/ChatCryoJane201710/ChatCryoJane201710_prep2_lossless_Ntb/ChatCryoJane201710_slide6-S1_prep2_lossless_Ntb.tif -crop 2000x2000+6331+4382 /tmp/tmp.tif\n",
      "convert /media/yuncong/BstemAtlasData/CSHL_data_processed/ChatCryoJane201710/ChatCryoJane201710_prep2_lossless_Ntb/ChatCryoJane201710_slide5-S2_prep2_lossless_Ntb.tif -crop 2000x2000+6331+4382 /tmp/tmp.tif\n",
      "Region 8: x=5925, y=4438, w=2000, h=2000\n",
      "convert /media/yuncong/BstemAtlasData/CSHL_data_processed/ChatCryoJane201710/ChatCryoJane201710_prep2_lossless_Ntb/ChatCryoJane201710_slide6-S1_prep2_lossless_Ntb.tif -crop 2000x2000+5925+4438 /tmp/tmp.tif\n",
      "convert /media/yuncong/BstemAtlasData/CSHL_data_processed/ChatCryoJane201710/ChatCryoJane201710_prep2_lossless_Ntb/ChatCryoJane201710_slide5-S2_prep2_lossless_Ntb.tif -crop 2000x2000+5925+4438 /tmp/tmp.tif\n",
      "Region 9: x=4796, y=5141, w=2000, h=2000\n",
      "convert /media/yuncong/BstemAtlasData/CSHL_data_processed/ChatCryoJane201710/ChatCryoJane201710_prep2_lossless_Ntb/ChatCryoJane201710_slide6-S1_prep2_lossless_Ntb.tif -crop 2000x2000+4796+5141 /tmp/tmp.tif\n",
      "convert /media/yuncong/BstemAtlasData/CSHL_data_processed/ChatCryoJane201710/ChatCryoJane201710_prep2_lossless_Ntb/ChatCryoJane201710_slide5-S2_prep2_lossless_Ntb.tif -crop 2000x2000+4796+5141 /tmp/tmp.tif\n",
      "aws s3 cp \"/media/yuncong/BstemAtlasData/CSHL_data_processed/ChatCryoJane201710/ChatCryoJane201710_intensity_mapping/ChatCryoJane201710_slide5-S2_to_ChatCryoJane201710_slide6-S1_intensity_mapping_all_regions.npy\" \"s3://mousebrainatlas-data/CSHL_data_processed/ChatCryoJane201710/ChatCryoJane201710_intensity_mapping/ChatCryoJane201710_slide5-S2_to_ChatCryoJane201710_slide6-S1_intensity_mapping_all_regions.npy\"\n",
      "aws s3 cp \"/media/yuncong/BstemAtlasData/CSHL_data_processed/ChatCryoJane201710/ChatCryoJane201710_intensity_mapping/ChatCryoJane201710_slide5-S2_to_ChatCryoJane201710_slide6-S1_region_bboxes.npy\" \"s3://mousebrainatlas-data/CSHL_data_processed/ChatCryoJane201710/ChatCryoJane201710_intensity_mapping/ChatCryoJane201710_slide5-S2_to_ChatCryoJane201710_slide6-S1_region_bboxes.npy\"\n"
     ]
    },
    {
     "name": "stderr",
     "output_type": "stream",
     "text": [
      "ntb 15, ntb 16\n"
     ]
    },
    {
     "name": "stdout",
     "output_type": "stream",
     "text": [
      "rm -rf \"/media/yuncong/BstemAtlasData/CSHL_data_processed/ChatCryoJane201710/ChatCryoJane201710_prep2_thumbnail_mask/ChatCryoJane201710_slide5-S2_prep2_thumbnail_mask.png\" && mkdir -p \"/media/yuncong/BstemAtlasData/CSHL_data_processed/ChatCryoJane201710/ChatCryoJane201710_prep2_thumbnail_mask\"\n",
      "aws s3 cp \"s3://mousebrainatlas-data/CSHL_data_processed/ChatCryoJane201710/ChatCryoJane201710_prep2_thumbnail_mask/ChatCryoJane201710_slide5-S2_prep2_thumbnail_mask.png\" \"/media/yuncong/BstemAtlasData/CSHL_data_processed/ChatCryoJane201710/ChatCryoJane201710_prep2_thumbnail_mask/ChatCryoJane201710_slide5-S2_prep2_thumbnail_mask.png\"\n"
     ]
    },
    {
     "name": "stderr",
     "output_type": "stream",
     "text": [
      "Load NTB1: 0.00 seconds.\n",
      "Load NTB2: 0.00 seconds.\n"
     ]
    },
    {
     "name": "stdout",
     "output_type": "stream",
     "text": [
      "Region 0: x=1043, y=13347, w=2000, h=2000\n",
      "convert /media/yuncong/BstemAtlasData/CSHL_data_processed/ChatCryoJane201710/ChatCryoJane201710_prep2_lossless_Ntb/ChatCryoJane201710_slide5-S2_prep2_lossless_Ntb.tif -crop 2000x2000+1043+13347 /tmp/tmp.tif\n",
      "convert /media/yuncong/BstemAtlasData/CSHL_data_processed/ChatCryoJane201710/ChatCryoJane201710_prep2_lossless_Ntb/ChatCryoJane201710_slide6-S2_prep2_lossless_Ntb.tif -crop 2000x2000+1043+13347 /tmp/tmp.tif\n",
      "Region 1: x=81, y=5356, w=2000, h=2000\n",
      "convert /media/yuncong/BstemAtlasData/CSHL_data_processed/ChatCryoJane201710/ChatCryoJane201710_prep2_lossless_Ntb/ChatCryoJane201710_slide5-S2_prep2_lossless_Ntb.tif -crop 2000x2000+81+5356 /tmp/tmp.tif\n",
      "convert /media/yuncong/BstemAtlasData/CSHL_data_processed/ChatCryoJane201710/ChatCryoJane201710_prep2_lossless_Ntb/ChatCryoJane201710_slide6-S2_prep2_lossless_Ntb.tif -crop 2000x2000+81+5356 /tmp/tmp.tif\n",
      "Region 2: x=6309, y=7427, w=2000, h=2000\n",
      "convert /media/yuncong/BstemAtlasData/CSHL_data_processed/ChatCryoJane201710/ChatCryoJane201710_prep2_lossless_Ntb/ChatCryoJane201710_slide5-S2_prep2_lossless_Ntb.tif -crop 2000x2000+6309+7427 /tmp/tmp.tif\n",
      "convert /media/yuncong/BstemAtlasData/CSHL_data_processed/ChatCryoJane201710/ChatCryoJane201710_prep2_lossless_Ntb/ChatCryoJane201710_slide6-S2_prep2_lossless_Ntb.tif -crop 2000x2000+6309+7427 /tmp/tmp.tif\n",
      "Region 3: x=6749, y=10624, w=2000, h=2000\n",
      "convert /media/yuncong/BstemAtlasData/CSHL_data_processed/ChatCryoJane201710/ChatCryoJane201710_prep2_lossless_Ntb/ChatCryoJane201710_slide5-S2_prep2_lossless_Ntb.tif -crop 2000x2000+6749+10624 /tmp/tmp.tif\n",
      "convert /media/yuncong/BstemAtlasData/CSHL_data_processed/ChatCryoJane201710/ChatCryoJane201710_prep2_lossless_Ntb/ChatCryoJane201710_slide6-S2_prep2_lossless_Ntb.tif -crop 2000x2000+6749+10624 /tmp/tmp.tif\n",
      "Region 4: x=3762, y=11037, w=2000, h=2000\n",
      "convert /media/yuncong/BstemAtlasData/CSHL_data_processed/ChatCryoJane201710/ChatCryoJane201710_prep2_lossless_Ntb/ChatCryoJane201710_slide5-S2_prep2_lossless_Ntb.tif -crop 2000x2000+3762+11037 /tmp/tmp.tif\n",
      "convert /media/yuncong/BstemAtlasData/CSHL_data_processed/ChatCryoJane201710/ChatCryoJane201710_prep2_lossless_Ntb/ChatCryoJane201710_slide6-S2_prep2_lossless_Ntb.tif -crop 2000x2000+3762+11037 /tmp/tmp.tif\n",
      "Region 5: x=7100, y=6880, w=2000, h=2000\n",
      "convert /media/yuncong/BstemAtlasData/CSHL_data_processed/ChatCryoJane201710/ChatCryoJane201710_prep2_lossless_Ntb/ChatCryoJane201710_slide5-S2_prep2_lossless_Ntb.tif -crop 2000x2000+7100+6880 /tmp/tmp.tif\n",
      "convert /media/yuncong/BstemAtlasData/CSHL_data_processed/ChatCryoJane201710/ChatCryoJane201710_prep2_lossless_Ntb/ChatCryoJane201710_slide6-S2_prep2_lossless_Ntb.tif -crop 2000x2000+7100+6880 /tmp/tmp.tif\n",
      "Region 6: x=1063, y=14419, w=2000, h=2000\n",
      "convert /media/yuncong/BstemAtlasData/CSHL_data_processed/ChatCryoJane201710/ChatCryoJane201710_prep2_lossless_Ntb/ChatCryoJane201710_slide5-S2_prep2_lossless_Ntb.tif -crop 2000x2000+1063+14419 /tmp/tmp.tif\n",
      "convert /media/yuncong/BstemAtlasData/CSHL_data_processed/ChatCryoJane201710/ChatCryoJane201710_prep2_lossless_Ntb/ChatCryoJane201710_slide6-S2_prep2_lossless_Ntb.tif -crop 2000x2000+1063+14419 /tmp/tmp.tif\n",
      "Region 7: x=4706, y=5663, w=2000, h=2000\n",
      "convert /media/yuncong/BstemAtlasData/CSHL_data_processed/ChatCryoJane201710/ChatCryoJane201710_prep2_lossless_Ntb/ChatCryoJane201710_slide5-S2_prep2_lossless_Ntb.tif -crop 2000x2000+4706+5663 /tmp/tmp.tif\n",
      "convert /media/yuncong/BstemAtlasData/CSHL_data_processed/ChatCryoJane201710/ChatCryoJane201710_prep2_lossless_Ntb/ChatCryoJane201710_slide6-S2_prep2_lossless_Ntb.tif -crop 2000x2000+4706+5663 /tmp/tmp.tif\n",
      "Region 8: x=15046, y=5473, w=2000, h=2000\n",
      "convert /media/yuncong/BstemAtlasData/CSHL_data_processed/ChatCryoJane201710/ChatCryoJane201710_prep2_lossless_Ntb/ChatCryoJane201710_slide5-S2_prep2_lossless_Ntb.tif -crop 2000x2000+15046+5473 /tmp/tmp.tif\n",
      "convert /media/yuncong/BstemAtlasData/CSHL_data_processed/ChatCryoJane201710/ChatCryoJane201710_prep2_lossless_Ntb/ChatCryoJane201710_slide6-S2_prep2_lossless_Ntb.tif -crop 2000x2000+15046+5473 /tmp/tmp.tif\n",
      "Region 9: x=753, y=4237, w=2000, h=2000\n",
      "convert /media/yuncong/BstemAtlasData/CSHL_data_processed/ChatCryoJane201710/ChatCryoJane201710_prep2_lossless_Ntb/ChatCryoJane201710_slide5-S2_prep2_lossless_Ntb.tif -crop 2000x2000+753+4237 /tmp/tmp.tif\n",
      "convert /media/yuncong/BstemAtlasData/CSHL_data_processed/ChatCryoJane201710/ChatCryoJane201710_prep2_lossless_Ntb/ChatCryoJane201710_slide6-S2_prep2_lossless_Ntb.tif -crop 2000x2000+753+4237 /tmp/tmp.tif\n",
      "aws s3 cp \"/media/yuncong/BstemAtlasData/CSHL_data_processed/ChatCryoJane201710/ChatCryoJane201710_intensity_mapping/ChatCryoJane201710_slide6-S2_to_ChatCryoJane201710_slide5-S2_intensity_mapping_all_regions.npy\" \"s3://mousebrainatlas-data/CSHL_data_processed/ChatCryoJane201710/ChatCryoJane201710_intensity_mapping/ChatCryoJane201710_slide6-S2_to_ChatCryoJane201710_slide5-S2_intensity_mapping_all_regions.npy\"\n",
      "aws s3 cp \"/media/yuncong/BstemAtlasData/CSHL_data_processed/ChatCryoJane201710/ChatCryoJane201710_intensity_mapping/ChatCryoJane201710_slide6-S2_to_ChatCryoJane201710_slide5-S2_region_bboxes.npy\" \"s3://mousebrainatlas-data/CSHL_data_processed/ChatCryoJane201710/ChatCryoJane201710_intensity_mapping/ChatCryoJane201710_slide6-S2_to_ChatCryoJane201710_slide5-S2_region_bboxes.npy\"\n"
     ]
    },
    {
     "name": "stderr",
     "output_type": "stream",
     "text": [
      "ntb 16, ntb 17\n"
     ]
    },
    {
     "name": "stdout",
     "output_type": "stream",
     "text": [
      "rm -rf \"/media/yuncong/BstemAtlasData/CSHL_data_processed/ChatCryoJane201710/ChatCryoJane201710_prep2_thumbnail_mask/ChatCryoJane201710_slide6-S2_prep2_thumbnail_mask.png\" && mkdir -p \"/media/yuncong/BstemAtlasData/CSHL_data_processed/ChatCryoJane201710/ChatCryoJane201710_prep2_thumbnail_mask\"\n",
      "aws s3 cp \"s3://mousebrainatlas-data/CSHL_data_processed/ChatCryoJane201710/ChatCryoJane201710_prep2_thumbnail_mask/ChatCryoJane201710_slide6-S2_prep2_thumbnail_mask.png\" \"/media/yuncong/BstemAtlasData/CSHL_data_processed/ChatCryoJane201710/ChatCryoJane201710_prep2_thumbnail_mask/ChatCryoJane201710_slide6-S2_prep2_thumbnail_mask.png\"\n"
     ]
    },
    {
     "name": "stderr",
     "output_type": "stream",
     "text": [
      "Load NTB1: 0.00 seconds.\n",
      "Load NTB2: 0.00 seconds.\n"
     ]
    },
    {
     "name": "stdout",
     "output_type": "stream",
     "text": [
      "Region 0: x=1511, y=12529, w=2000, h=2000\n",
      "convert /media/yuncong/BstemAtlasData/CSHL_data_processed/ChatCryoJane201710/ChatCryoJane201710_prep2_lossless_Ntb/ChatCryoJane201710_slide6-S2_prep2_lossless_Ntb.tif -crop 2000x2000+1511+12529 /tmp/tmp.tif\n",
      "convert /media/yuncong/BstemAtlasData/CSHL_data_processed/ChatCryoJane201710/ChatCryoJane201710_prep2_lossless_Ntb/ChatCryoJane201710_slide5-S3_prep2_lossless_Ntb.tif -crop 2000x2000+1511+12529 /tmp/tmp.tif\n",
      "Region 1: x=2959, y=4816, w=2000, h=2000\n",
      "convert /media/yuncong/BstemAtlasData/CSHL_data_processed/ChatCryoJane201710/ChatCryoJane201710_prep2_lossless_Ntb/ChatCryoJane201710_slide6-S2_prep2_lossless_Ntb.tif -crop 2000x2000+2959+4816 /tmp/tmp.tif\n",
      "convert /media/yuncong/BstemAtlasData/CSHL_data_processed/ChatCryoJane201710/ChatCryoJane201710_prep2_lossless_Ntb/ChatCryoJane201710_slide5-S3_prep2_lossless_Ntb.tif -crop 2000x2000+2959+4816 /tmp/tmp.tif\n",
      "Region 2: x=10244, y=6840, w=2000, h=2000\n",
      "convert /media/yuncong/BstemAtlasData/CSHL_data_processed/ChatCryoJane201710/ChatCryoJane201710_prep2_lossless_Ntb/ChatCryoJane201710_slide6-S2_prep2_lossless_Ntb.tif -crop 2000x2000+10244+6840 /tmp/tmp.tif\n",
      "convert /media/yuncong/BstemAtlasData/CSHL_data_processed/ChatCryoJane201710/ChatCryoJane201710_prep2_lossless_Ntb/ChatCryoJane201710_slide5-S3_prep2_lossless_Ntb.tif -crop 2000x2000+10244+6840 /tmp/tmp.tif\n",
      "Region 3: x=6099, y=8002, w=2000, h=2000\n",
      "convert /media/yuncong/BstemAtlasData/CSHL_data_processed/ChatCryoJane201710/ChatCryoJane201710_prep2_lossless_Ntb/ChatCryoJane201710_slide6-S2_prep2_lossless_Ntb.tif -crop 2000x2000+6099+8002 /tmp/tmp.tif\n",
      "convert /media/yuncong/BstemAtlasData/CSHL_data_processed/ChatCryoJane201710/ChatCryoJane201710_prep2_lossless_Ntb/ChatCryoJane201710_slide5-S3_prep2_lossless_Ntb.tif -crop 2000x2000+6099+8002 /tmp/tmp.tif\n",
      "Region 4: x=3347, y=6701, w=2000, h=2000\n",
      "convert /media/yuncong/BstemAtlasData/CSHL_data_processed/ChatCryoJane201710/ChatCryoJane201710_prep2_lossless_Ntb/ChatCryoJane201710_slide6-S2_prep2_lossless_Ntb.tif -crop 2000x2000+3347+6701 /tmp/tmp.tif\n",
      "convert /media/yuncong/BstemAtlasData/CSHL_data_processed/ChatCryoJane201710/ChatCryoJane201710_prep2_lossless_Ntb/ChatCryoJane201710_slide5-S3_prep2_lossless_Ntb.tif -crop 2000x2000+3347+6701 /tmp/tmp.tif\n",
      "Region 5: x=5012, y=12099, w=2000, h=2000\n",
      "convert /media/yuncong/BstemAtlasData/CSHL_data_processed/ChatCryoJane201710/ChatCryoJane201710_prep2_lossless_Ntb/ChatCryoJane201710_slide6-S2_prep2_lossless_Ntb.tif -crop 2000x2000+5012+12099 /tmp/tmp.tif\n",
      "convert /media/yuncong/BstemAtlasData/CSHL_data_processed/ChatCryoJane201710/ChatCryoJane201710_prep2_lossless_Ntb/ChatCryoJane201710_slide5-S3_prep2_lossless_Ntb.tif -crop 2000x2000+5012+12099 /tmp/tmp.tif\n",
      "Region 6: x=9647, y=4278, w=2000, h=2000\n",
      "convert /media/yuncong/BstemAtlasData/CSHL_data_processed/ChatCryoJane201710/ChatCryoJane201710_prep2_lossless_Ntb/ChatCryoJane201710_slide6-S2_prep2_lossless_Ntb.tif -crop 2000x2000+9647+4278 /tmp/tmp.tif\n",
      "convert /media/yuncong/BstemAtlasData/CSHL_data_processed/ChatCryoJane201710/ChatCryoJane201710_prep2_lossless_Ntb/ChatCryoJane201710_slide5-S3_prep2_lossless_Ntb.tif -crop 2000x2000+9647+4278 /tmp/tmp.tif\n",
      "Region 7: x=10568, y=5629, w=2000, h=2000\n",
      "convert /media/yuncong/BstemAtlasData/CSHL_data_processed/ChatCryoJane201710/ChatCryoJane201710_prep2_lossless_Ntb/ChatCryoJane201710_slide6-S2_prep2_lossless_Ntb.tif -crop 2000x2000+10568+5629 /tmp/tmp.tif\n",
      "convert /media/yuncong/BstemAtlasData/CSHL_data_processed/ChatCryoJane201710/ChatCryoJane201710_prep2_lossless_Ntb/ChatCryoJane201710_slide5-S3_prep2_lossless_Ntb.tif -crop 2000x2000+10568+5629 /tmp/tmp.tif\n",
      "Region 8: x=8732, y=8591, w=2000, h=2000\n",
      "convert /media/yuncong/BstemAtlasData/CSHL_data_processed/ChatCryoJane201710/ChatCryoJane201710_prep2_lossless_Ntb/ChatCryoJane201710_slide6-S2_prep2_lossless_Ntb.tif -crop 2000x2000+8732+8591 /tmp/tmp.tif\n",
      "convert /media/yuncong/BstemAtlasData/CSHL_data_processed/ChatCryoJane201710/ChatCryoJane201710_prep2_lossless_Ntb/ChatCryoJane201710_slide5-S3_prep2_lossless_Ntb.tif -crop 2000x2000+8732+8591 /tmp/tmp.tif\n",
      "Region 9: x=5700, y=3135, w=2000, h=2000\n",
      "convert /media/yuncong/BstemAtlasData/CSHL_data_processed/ChatCryoJane201710/ChatCryoJane201710_prep2_lossless_Ntb/ChatCryoJane201710_slide6-S2_prep2_lossless_Ntb.tif -crop 2000x2000+5700+3135 /tmp/tmp.tif\n",
      "convert /media/yuncong/BstemAtlasData/CSHL_data_processed/ChatCryoJane201710/ChatCryoJane201710_prep2_lossless_Ntb/ChatCryoJane201710_slide5-S3_prep2_lossless_Ntb.tif -crop 2000x2000+5700+3135 /tmp/tmp.tif\n",
      "aws s3 cp \"/media/yuncong/BstemAtlasData/CSHL_data_processed/ChatCryoJane201710/ChatCryoJane201710_intensity_mapping/ChatCryoJane201710_slide5-S3_to_ChatCryoJane201710_slide6-S2_intensity_mapping_all_regions.npy\" \"s3://mousebrainatlas-data/CSHL_data_processed/ChatCryoJane201710/ChatCryoJane201710_intensity_mapping/ChatCryoJane201710_slide5-S3_to_ChatCryoJane201710_slide6-S2_intensity_mapping_all_regions.npy\"\n",
      "aws s3 cp \"/media/yuncong/BstemAtlasData/CSHL_data_processed/ChatCryoJane201710/ChatCryoJane201710_intensity_mapping/ChatCryoJane201710_slide5-S3_to_ChatCryoJane201710_slide6-S2_region_bboxes.npy\" \"s3://mousebrainatlas-data/CSHL_data_processed/ChatCryoJane201710/ChatCryoJane201710_intensity_mapping/ChatCryoJane201710_slide5-S3_to_ChatCryoJane201710_slide6-S2_region_bboxes.npy\"\n"
     ]
    },
    {
     "name": "stderr",
     "output_type": "stream",
     "text": [
      "ntb 17, ntb 18\n"
     ]
    },
    {
     "name": "stdout",
     "output_type": "stream",
     "text": [
      "rm -rf \"/media/yuncong/BstemAtlasData/CSHL_data_processed/ChatCryoJane201710/ChatCryoJane201710_prep2_thumbnail_mask/ChatCryoJane201710_slide5-S3_prep2_thumbnail_mask.png\" && mkdir -p \"/media/yuncong/BstemAtlasData/CSHL_data_processed/ChatCryoJane201710/ChatCryoJane201710_prep2_thumbnail_mask\"\n",
      "aws s3 cp \"s3://mousebrainatlas-data/CSHL_data_processed/ChatCryoJane201710/ChatCryoJane201710_prep2_thumbnail_mask/ChatCryoJane201710_slide5-S3_prep2_thumbnail_mask.png\" \"/media/yuncong/BstemAtlasData/CSHL_data_processed/ChatCryoJane201710/ChatCryoJane201710_prep2_thumbnail_mask/ChatCryoJane201710_slide5-S3_prep2_thumbnail_mask.png\"\n"
     ]
    },
    {
     "name": "stderr",
     "output_type": "stream",
     "text": [
      "Load NTB1: 0.00 seconds.\n",
      "Load NTB2: 0.00 seconds.\n"
     ]
    },
    {
     "name": "stdout",
     "output_type": "stream",
     "text": [
      "Region 0: x=8776, y=6749, w=2000, h=2000\n",
      "convert /media/yuncong/BstemAtlasData/CSHL_data_processed/ChatCryoJane201710/ChatCryoJane201710_prep2_lossless_Ntb/ChatCryoJane201710_slide5-S3_prep2_lossless_Ntb.tif -crop 2000x2000+8776+6749 /tmp/tmp.tif\n",
      "convert /media/yuncong/BstemAtlasData/CSHL_data_processed/ChatCryoJane201710/ChatCryoJane201710_prep2_lossless_Ntb/ChatCryoJane201710_slide6-S3_prep2_lossless_Ntb.tif -crop 2000x2000+8776+6749 /tmp/tmp.tif\n",
      "Region 1: x=9678, y=5666, w=2000, h=2000\n",
      "convert /media/yuncong/BstemAtlasData/CSHL_data_processed/ChatCryoJane201710/ChatCryoJane201710_prep2_lossless_Ntb/ChatCryoJane201710_slide5-S3_prep2_lossless_Ntb.tif -crop 2000x2000+9678+5666 /tmp/tmp.tif\n",
      "convert /media/yuncong/BstemAtlasData/CSHL_data_processed/ChatCryoJane201710/ChatCryoJane201710_prep2_lossless_Ntb/ChatCryoJane201710_slide6-S3_prep2_lossless_Ntb.tif -crop 2000x2000+9678+5666 /tmp/tmp.tif\n",
      "Region 2: x=3328, y=8770, w=2000, h=2000\n",
      "convert /media/yuncong/BstemAtlasData/CSHL_data_processed/ChatCryoJane201710/ChatCryoJane201710_prep2_lossless_Ntb/ChatCryoJane201710_slide5-S3_prep2_lossless_Ntb.tif -crop 2000x2000+3328+8770 /tmp/tmp.tif\n",
      "convert /media/yuncong/BstemAtlasData/CSHL_data_processed/ChatCryoJane201710/ChatCryoJane201710_prep2_lossless_Ntb/ChatCryoJane201710_slide6-S3_prep2_lossless_Ntb.tif -crop 2000x2000+3328+8770 /tmp/tmp.tif\n",
      "Region 3: x=4032, y=11028, w=2000, h=2000\n",
      "convert /media/yuncong/BstemAtlasData/CSHL_data_processed/ChatCryoJane201710/ChatCryoJane201710_prep2_lossless_Ntb/ChatCryoJane201710_slide5-S3_prep2_lossless_Ntb.tif -crop 2000x2000+4032+11028 /tmp/tmp.tif\n",
      "convert /media/yuncong/BstemAtlasData/CSHL_data_processed/ChatCryoJane201710/ChatCryoJane201710_prep2_lossless_Ntb/ChatCryoJane201710_slide6-S3_prep2_lossless_Ntb.tif -crop 2000x2000+4032+11028 /tmp/tmp.tif\n",
      "Region 4: x=9258, y=2686, w=2000, h=2000\n",
      "convert /media/yuncong/BstemAtlasData/CSHL_data_processed/ChatCryoJane201710/ChatCryoJane201710_prep2_lossless_Ntb/ChatCryoJane201710_slide5-S3_prep2_lossless_Ntb.tif -crop 2000x2000+9258+2686 /tmp/tmp.tif\n",
      "convert /media/yuncong/BstemAtlasData/CSHL_data_processed/ChatCryoJane201710/ChatCryoJane201710_prep2_lossless_Ntb/ChatCryoJane201710_slide6-S3_prep2_lossless_Ntb.tif -crop 2000x2000+9258+2686 /tmp/tmp.tif\n",
      "Region 5: x=5717, y=10459, w=2000, h=2000\n",
      "convert /media/yuncong/BstemAtlasData/CSHL_data_processed/ChatCryoJane201710/ChatCryoJane201710_prep2_lossless_Ntb/ChatCryoJane201710_slide5-S3_prep2_lossless_Ntb.tif -crop 2000x2000+5717+10459 /tmp/tmp.tif\n",
      "convert /media/yuncong/BstemAtlasData/CSHL_data_processed/ChatCryoJane201710/ChatCryoJane201710_prep2_lossless_Ntb/ChatCryoJane201710_slide6-S3_prep2_lossless_Ntb.tif -crop 2000x2000+5717+10459 /tmp/tmp.tif\n",
      "Region 6: x=966, y=14230, w=2000, h=2000\n",
      "convert /media/yuncong/BstemAtlasData/CSHL_data_processed/ChatCryoJane201710/ChatCryoJane201710_prep2_lossless_Ntb/ChatCryoJane201710_slide5-S3_prep2_lossless_Ntb.tif -crop 2000x2000+966+14230 /tmp/tmp.tif\n",
      "convert /media/yuncong/BstemAtlasData/CSHL_data_processed/ChatCryoJane201710/ChatCryoJane201710_prep2_lossless_Ntb/ChatCryoJane201710_slide6-S3_prep2_lossless_Ntb.tif -crop 2000x2000+966+14230 /tmp/tmp.tif\n",
      "Region 7: x=6603, y=1823, w=2000, h=2000\n",
      "convert /media/yuncong/BstemAtlasData/CSHL_data_processed/ChatCryoJane201710/ChatCryoJane201710_prep2_lossless_Ntb/ChatCryoJane201710_slide5-S3_prep2_lossless_Ntb.tif -crop 2000x2000+6603+1823 /tmp/tmp.tif\n",
      "convert /media/yuncong/BstemAtlasData/CSHL_data_processed/ChatCryoJane201710/ChatCryoJane201710_prep2_lossless_Ntb/ChatCryoJane201710_slide6-S3_prep2_lossless_Ntb.tif -crop 2000x2000+6603+1823 /tmp/tmp.tif\n",
      "Region 8: x=7299, y=11014, w=2000, h=2000\n",
      "convert /media/yuncong/BstemAtlasData/CSHL_data_processed/ChatCryoJane201710/ChatCryoJane201710_prep2_lossless_Ntb/ChatCryoJane201710_slide5-S3_prep2_lossless_Ntb.tif -crop 2000x2000+7299+11014 /tmp/tmp.tif\n",
      "convert /media/yuncong/BstemAtlasData/CSHL_data_processed/ChatCryoJane201710/ChatCryoJane201710_prep2_lossless_Ntb/ChatCryoJane201710_slide6-S3_prep2_lossless_Ntb.tif -crop 2000x2000+7299+11014 /tmp/tmp.tif\n",
      "Region 9: x=761, y=3047, w=2000, h=2000\n",
      "convert /media/yuncong/BstemAtlasData/CSHL_data_processed/ChatCryoJane201710/ChatCryoJane201710_prep2_lossless_Ntb/ChatCryoJane201710_slide5-S3_prep2_lossless_Ntb.tif -crop 2000x2000+761+3047 /tmp/tmp.tif\n",
      "convert /media/yuncong/BstemAtlasData/CSHL_data_processed/ChatCryoJane201710/ChatCryoJane201710_prep2_lossless_Ntb/ChatCryoJane201710_slide6-S3_prep2_lossless_Ntb.tif -crop 2000x2000+761+3047 /tmp/tmp.tif\n",
      "aws s3 cp \"/media/yuncong/BstemAtlasData/CSHL_data_processed/ChatCryoJane201710/ChatCryoJane201710_intensity_mapping/ChatCryoJane201710_slide6-S3_to_ChatCryoJane201710_slide5-S3_intensity_mapping_all_regions.npy\" \"s3://mousebrainatlas-data/CSHL_data_processed/ChatCryoJane201710/ChatCryoJane201710_intensity_mapping/ChatCryoJane201710_slide6-S3_to_ChatCryoJane201710_slide5-S3_intensity_mapping_all_regions.npy\"\n",
      "aws s3 cp \"/media/yuncong/BstemAtlasData/CSHL_data_processed/ChatCryoJane201710/ChatCryoJane201710_intensity_mapping/ChatCryoJane201710_slide6-S3_to_ChatCryoJane201710_slide5-S3_region_bboxes.npy\" \"s3://mousebrainatlas-data/CSHL_data_processed/ChatCryoJane201710/ChatCryoJane201710_intensity_mapping/ChatCryoJane201710_slide6-S3_to_ChatCryoJane201710_slide5-S3_region_bboxes.npy\"\n"
     ]
    },
    {
     "name": "stderr",
     "output_type": "stream",
     "text": [
      "ntb 18, ntb 19\n"
     ]
    },
    {
     "name": "stdout",
     "output_type": "stream",
     "text": [
      "rm -rf \"/media/yuncong/BstemAtlasData/CSHL_data_processed/ChatCryoJane201710/ChatCryoJane201710_prep2_thumbnail_mask/ChatCryoJane201710_slide6-S3_prep2_thumbnail_mask.png\" && mkdir -p \"/media/yuncong/BstemAtlasData/CSHL_data_processed/ChatCryoJane201710/ChatCryoJane201710_prep2_thumbnail_mask\"\n",
      "aws s3 cp \"s3://mousebrainatlas-data/CSHL_data_processed/ChatCryoJane201710/ChatCryoJane201710_prep2_thumbnail_mask/ChatCryoJane201710_slide6-S3_prep2_thumbnail_mask.png\" \"/media/yuncong/BstemAtlasData/CSHL_data_processed/ChatCryoJane201710/ChatCryoJane201710_prep2_thumbnail_mask/ChatCryoJane201710_slide6-S3_prep2_thumbnail_mask.png\"\n"
     ]
    },
    {
     "name": "stderr",
     "output_type": "stream",
     "text": [
      "Load NTB1: 0.00 seconds.\n",
      "Load NTB2: 0.00 seconds.\n"
     ]
    },
    {
     "name": "stdout",
     "output_type": "stream",
     "text": [
      "Region 0: x=860, y=3537, w=2000, h=2000\n",
      "convert /media/yuncong/BstemAtlasData/CSHL_data_processed/ChatCryoJane201710/ChatCryoJane201710_prep2_lossless_Ntb/ChatCryoJane201710_slide6-S3_prep2_lossless_Ntb.tif -crop 2000x2000+860+3537 /tmp/tmp.tif\n",
      "convert /media/yuncong/BstemAtlasData/CSHL_data_processed/ChatCryoJane201710/ChatCryoJane201710_prep2_lossless_Ntb/ChatCryoJane201710_slide7-S1_prep2_lossless_Ntb.tif -crop 2000x2000+860+3537 /tmp/tmp.tif\n",
      "Region 1: x=1028, y=5257, w=2000, h=2000\n",
      "convert /media/yuncong/BstemAtlasData/CSHL_data_processed/ChatCryoJane201710/ChatCryoJane201710_prep2_lossless_Ntb/ChatCryoJane201710_slide6-S3_prep2_lossless_Ntb.tif -crop 2000x2000+1028+5257 /tmp/tmp.tif\n",
      "convert /media/yuncong/BstemAtlasData/CSHL_data_processed/ChatCryoJane201710/ChatCryoJane201710_prep2_lossless_Ntb/ChatCryoJane201710_slide7-S1_prep2_lossless_Ntb.tif -crop 2000x2000+1028+5257 /tmp/tmp.tif\n",
      "Region 2: x=4416, y=11734, w=2000, h=2000\n",
      "convert /media/yuncong/BstemAtlasData/CSHL_data_processed/ChatCryoJane201710/ChatCryoJane201710_prep2_lossless_Ntb/ChatCryoJane201710_slide6-S3_prep2_lossless_Ntb.tif -crop 2000x2000+4416+11734 /tmp/tmp.tif\n",
      "convert /media/yuncong/BstemAtlasData/CSHL_data_processed/ChatCryoJane201710/ChatCryoJane201710_prep2_lossless_Ntb/ChatCryoJane201710_slide7-S1_prep2_lossless_Ntb.tif -crop 2000x2000+4416+11734 /tmp/tmp.tif\n",
      "Region 3: x=2481, y=2568, w=2000, h=2000\n",
      "convert /media/yuncong/BstemAtlasData/CSHL_data_processed/ChatCryoJane201710/ChatCryoJane201710_prep2_lossless_Ntb/ChatCryoJane201710_slide6-S3_prep2_lossless_Ntb.tif -crop 2000x2000+2481+2568 /tmp/tmp.tif\n",
      "convert /media/yuncong/BstemAtlasData/CSHL_data_processed/ChatCryoJane201710/ChatCryoJane201710_prep2_lossless_Ntb/ChatCryoJane201710_slide7-S1_prep2_lossless_Ntb.tif -crop 2000x2000+2481+2568 /tmp/tmp.tif\n",
      "Region 4: x=5214, y=5511, w=2000, h=2000\n",
      "convert /media/yuncong/BstemAtlasData/CSHL_data_processed/ChatCryoJane201710/ChatCryoJane201710_prep2_lossless_Ntb/ChatCryoJane201710_slide6-S3_prep2_lossless_Ntb.tif -crop 2000x2000+5214+5511 /tmp/tmp.tif\n",
      "convert /media/yuncong/BstemAtlasData/CSHL_data_processed/ChatCryoJane201710/ChatCryoJane201710_prep2_lossless_Ntb/ChatCryoJane201710_slide7-S1_prep2_lossless_Ntb.tif -crop 2000x2000+5214+5511 /tmp/tmp.tif\n",
      "Region 5: x=2924, y=10932, w=2000, h=2000\n",
      "convert /media/yuncong/BstemAtlasData/CSHL_data_processed/ChatCryoJane201710/ChatCryoJane201710_prep2_lossless_Ntb/ChatCryoJane201710_slide6-S3_prep2_lossless_Ntb.tif -crop 2000x2000+2924+10932 /tmp/tmp.tif\n",
      "convert /media/yuncong/BstemAtlasData/CSHL_data_processed/ChatCryoJane201710/ChatCryoJane201710_prep2_lossless_Ntb/ChatCryoJane201710_slide7-S1_prep2_lossless_Ntb.tif -crop 2000x2000+2924+10932 /tmp/tmp.tif\n",
      "Region 6: x=6393, y=4921, w=2000, h=2000\n",
      "convert /media/yuncong/BstemAtlasData/CSHL_data_processed/ChatCryoJane201710/ChatCryoJane201710_prep2_lossless_Ntb/ChatCryoJane201710_slide6-S3_prep2_lossless_Ntb.tif -crop 2000x2000+6393+4921 /tmp/tmp.tif\n",
      "convert /media/yuncong/BstemAtlasData/CSHL_data_processed/ChatCryoJane201710/ChatCryoJane201710_prep2_lossless_Ntb/ChatCryoJane201710_slide7-S1_prep2_lossless_Ntb.tif -crop 2000x2000+6393+4921 /tmp/tmp.tif\n",
      "Region 7: x=1385, y=7367, w=2000, h=2000\n",
      "convert /media/yuncong/BstemAtlasData/CSHL_data_processed/ChatCryoJane201710/ChatCryoJane201710_prep2_lossless_Ntb/ChatCryoJane201710_slide6-S3_prep2_lossless_Ntb.tif -crop 2000x2000+1385+7367 /tmp/tmp.tif\n",
      "convert /media/yuncong/BstemAtlasData/CSHL_data_processed/ChatCryoJane201710/ChatCryoJane201710_prep2_lossless_Ntb/ChatCryoJane201710_slide7-S1_prep2_lossless_Ntb.tif -crop 2000x2000+1385+7367 /tmp/tmp.tif\n",
      "Region 8: x=2628, y=5697, w=2000, h=2000\n",
      "convert /media/yuncong/BstemAtlasData/CSHL_data_processed/ChatCryoJane201710/ChatCryoJane201710_prep2_lossless_Ntb/ChatCryoJane201710_slide6-S3_prep2_lossless_Ntb.tif -crop 2000x2000+2628+5697 /tmp/tmp.tif\n",
      "convert /media/yuncong/BstemAtlasData/CSHL_data_processed/ChatCryoJane201710/ChatCryoJane201710_prep2_lossless_Ntb/ChatCryoJane201710_slide7-S1_prep2_lossless_Ntb.tif -crop 2000x2000+2628+5697 /tmp/tmp.tif\n",
      "Region 9: x=333, y=8790, w=2000, h=2000\n",
      "convert /media/yuncong/BstemAtlasData/CSHL_data_processed/ChatCryoJane201710/ChatCryoJane201710_prep2_lossless_Ntb/ChatCryoJane201710_slide6-S3_prep2_lossless_Ntb.tif -crop 2000x2000+333+8790 /tmp/tmp.tif\n",
      "convert /media/yuncong/BstemAtlasData/CSHL_data_processed/ChatCryoJane201710/ChatCryoJane201710_prep2_lossless_Ntb/ChatCryoJane201710_slide7-S1_prep2_lossless_Ntb.tif -crop 2000x2000+333+8790 /tmp/tmp.tif\n",
      "aws s3 cp \"/media/yuncong/BstemAtlasData/CSHL_data_processed/ChatCryoJane201710/ChatCryoJane201710_intensity_mapping/ChatCryoJane201710_slide7-S1_to_ChatCryoJane201710_slide6-S3_intensity_mapping_all_regions.npy\" \"s3://mousebrainatlas-data/CSHL_data_processed/ChatCryoJane201710/ChatCryoJane201710_intensity_mapping/ChatCryoJane201710_slide7-S1_to_ChatCryoJane201710_slide6-S3_intensity_mapping_all_regions.npy\"\n",
      "aws s3 cp \"/media/yuncong/BstemAtlasData/CSHL_data_processed/ChatCryoJane201710/ChatCryoJane201710_intensity_mapping/ChatCryoJane201710_slide7-S1_to_ChatCryoJane201710_slide6-S3_region_bboxes.npy\" \"s3://mousebrainatlas-data/CSHL_data_processed/ChatCryoJane201710/ChatCryoJane201710_intensity_mapping/ChatCryoJane201710_slide7-S1_to_ChatCryoJane201710_slide6-S3_region_bboxes.npy\"\n"
     ]
    },
    {
     "name": "stderr",
     "output_type": "stream",
     "text": [
      "ntb 19, ntb 20\n"
     ]
    },
    {
     "name": "stdout",
     "output_type": "stream",
     "text": [
      "rm -rf \"/media/yuncong/BstemAtlasData/CSHL_data_processed/ChatCryoJane201710/ChatCryoJane201710_prep2_thumbnail_mask/ChatCryoJane201710_slide7-S1_prep2_thumbnail_mask.png\" && mkdir -p \"/media/yuncong/BstemAtlasData/CSHL_data_processed/ChatCryoJane201710/ChatCryoJane201710_prep2_thumbnail_mask\"\n",
      "aws s3 cp \"s3://mousebrainatlas-data/CSHL_data_processed/ChatCryoJane201710/ChatCryoJane201710_prep2_thumbnail_mask/ChatCryoJane201710_slide7-S1_prep2_thumbnail_mask.png\" \"/media/yuncong/BstemAtlasData/CSHL_data_processed/ChatCryoJane201710/ChatCryoJane201710_prep2_thumbnail_mask/ChatCryoJane201710_slide7-S1_prep2_thumbnail_mask.png\"\n"
     ]
    },
    {
     "name": "stderr",
     "output_type": "stream",
     "text": [
      "Load NTB1: 0.00 seconds.\n",
      "Load NTB2: 0.00 seconds.\n"
     ]
    },
    {
     "name": "stdout",
     "output_type": "stream",
     "text": [
      "Region 0: x=9997, y=3616, w=2000, h=2000\n",
      "convert /media/yuncong/BstemAtlasData/CSHL_data_processed/ChatCryoJane201710/ChatCryoJane201710_prep2_lossless_Ntb/ChatCryoJane201710_slide7-S1_prep2_lossless_Ntb.tif -crop 2000x2000+9997+3616 /tmp/tmp.tif\n",
      "convert /media/yuncong/BstemAtlasData/CSHL_data_processed/ChatCryoJane201710/ChatCryoJane201710_prep2_lossless_Ntb/ChatCryoJane201710_slide8-S1_prep2_lossless_Ntb.tif -crop 2000x2000+9997+3616 /tmp/tmp.tif\n",
      "Region 1: x=4470, y=1721, w=2000, h=2000\n",
      "convert /media/yuncong/BstemAtlasData/CSHL_data_processed/ChatCryoJane201710/ChatCryoJane201710_prep2_lossless_Ntb/ChatCryoJane201710_slide7-S1_prep2_lossless_Ntb.tif -crop 2000x2000+4470+1721 /tmp/tmp.tif\n",
      "convert /media/yuncong/BstemAtlasData/CSHL_data_processed/ChatCryoJane201710/ChatCryoJane201710_prep2_lossless_Ntb/ChatCryoJane201710_slide8-S1_prep2_lossless_Ntb.tif -crop 2000x2000+4470+1721 /tmp/tmp.tif\n",
      "Region 2: x=3930, y=7354, w=2000, h=2000\n",
      "convert /media/yuncong/BstemAtlasData/CSHL_data_processed/ChatCryoJane201710/ChatCryoJane201710_prep2_lossless_Ntb/ChatCryoJane201710_slide7-S1_prep2_lossless_Ntb.tif -crop 2000x2000+3930+7354 /tmp/tmp.tif\n",
      "convert /media/yuncong/BstemAtlasData/CSHL_data_processed/ChatCryoJane201710/ChatCryoJane201710_prep2_lossless_Ntb/ChatCryoJane201710_slide8-S1_prep2_lossless_Ntb.tif -crop 2000x2000+3930+7354 /tmp/tmp.tif\n",
      "Region 3: x=1180, y=8817, w=2000, h=2000\n",
      "convert /media/yuncong/BstemAtlasData/CSHL_data_processed/ChatCryoJane201710/ChatCryoJane201710_prep2_lossless_Ntb/ChatCryoJane201710_slide7-S1_prep2_lossless_Ntb.tif -crop 2000x2000+1180+8817 /tmp/tmp.tif\n",
      "convert /media/yuncong/BstemAtlasData/CSHL_data_processed/ChatCryoJane201710/ChatCryoJane201710_prep2_lossless_Ntb/ChatCryoJane201710_slide8-S1_prep2_lossless_Ntb.tif -crop 2000x2000+1180+8817 /tmp/tmp.tif\n",
      "Region 4: x=6283, y=3081, w=2000, h=2000\n",
      "convert /media/yuncong/BstemAtlasData/CSHL_data_processed/ChatCryoJane201710/ChatCryoJane201710_prep2_lossless_Ntb/ChatCryoJane201710_slide7-S1_prep2_lossless_Ntb.tif -crop 2000x2000+6283+3081 /tmp/tmp.tif\n",
      "convert /media/yuncong/BstemAtlasData/CSHL_data_processed/ChatCryoJane201710/ChatCryoJane201710_prep2_lossless_Ntb/ChatCryoJane201710_slide8-S1_prep2_lossless_Ntb.tif -crop 2000x2000+6283+3081 /tmp/tmp.tif\n",
      "Region 5: x=2888, y=13048, w=2000, h=2000\n",
      "convert /media/yuncong/BstemAtlasData/CSHL_data_processed/ChatCryoJane201710/ChatCryoJane201710_prep2_lossless_Ntb/ChatCryoJane201710_slide7-S1_prep2_lossless_Ntb.tif -crop 2000x2000+2888+13048 /tmp/tmp.tif\n",
      "convert /media/yuncong/BstemAtlasData/CSHL_data_processed/ChatCryoJane201710/ChatCryoJane201710_prep2_lossless_Ntb/ChatCryoJane201710_slide8-S1_prep2_lossless_Ntb.tif -crop 2000x2000+2888+13048 /tmp/tmp.tif\n",
      "Region 6: x=4078, y=10595, w=2000, h=2000\n",
      "convert /media/yuncong/BstemAtlasData/CSHL_data_processed/ChatCryoJane201710/ChatCryoJane201710_prep2_lossless_Ntb/ChatCryoJane201710_slide7-S1_prep2_lossless_Ntb.tif -crop 2000x2000+4078+10595 /tmp/tmp.tif\n",
      "convert /media/yuncong/BstemAtlasData/CSHL_data_processed/ChatCryoJane201710/ChatCryoJane201710_prep2_lossless_Ntb/ChatCryoJane201710_slide8-S1_prep2_lossless_Ntb.tif -crop 2000x2000+4078+10595 /tmp/tmp.tif\n",
      "Region 7: x=5224, y=5056, w=2000, h=2000\n",
      "convert /media/yuncong/BstemAtlasData/CSHL_data_processed/ChatCryoJane201710/ChatCryoJane201710_prep2_lossless_Ntb/ChatCryoJane201710_slide7-S1_prep2_lossless_Ntb.tif -crop 2000x2000+5224+5056 /tmp/tmp.tif\n",
      "convert /media/yuncong/BstemAtlasData/CSHL_data_processed/ChatCryoJane201710/ChatCryoJane201710_prep2_lossless_Ntb/ChatCryoJane201710_slide8-S1_prep2_lossless_Ntb.tif -crop 2000x2000+5224+5056 /tmp/tmp.tif\n",
      "Region 8: x=5211, y=2440, w=2000, h=2000\n",
      "convert /media/yuncong/BstemAtlasData/CSHL_data_processed/ChatCryoJane201710/ChatCryoJane201710_prep2_lossless_Ntb/ChatCryoJane201710_slide7-S1_prep2_lossless_Ntb.tif -crop 2000x2000+5211+2440 /tmp/tmp.tif\n",
      "convert /media/yuncong/BstemAtlasData/CSHL_data_processed/ChatCryoJane201710/ChatCryoJane201710_prep2_lossless_Ntb/ChatCryoJane201710_slide8-S1_prep2_lossless_Ntb.tif -crop 2000x2000+5211+2440 /tmp/tmp.tif\n",
      "Region 9: x=9174, y=3155, w=2000, h=2000\n",
      "convert /media/yuncong/BstemAtlasData/CSHL_data_processed/ChatCryoJane201710/ChatCryoJane201710_prep2_lossless_Ntb/ChatCryoJane201710_slide7-S1_prep2_lossless_Ntb.tif -crop 2000x2000+9174+3155 /tmp/tmp.tif\n",
      "convert /media/yuncong/BstemAtlasData/CSHL_data_processed/ChatCryoJane201710/ChatCryoJane201710_prep2_lossless_Ntb/ChatCryoJane201710_slide8-S1_prep2_lossless_Ntb.tif -crop 2000x2000+9174+3155 /tmp/tmp.tif\n",
      "aws s3 cp \"/media/yuncong/BstemAtlasData/CSHL_data_processed/ChatCryoJane201710/ChatCryoJane201710_intensity_mapping/ChatCryoJane201710_slide8-S1_to_ChatCryoJane201710_slide7-S1_intensity_mapping_all_regions.npy\" \"s3://mousebrainatlas-data/CSHL_data_processed/ChatCryoJane201710/ChatCryoJane201710_intensity_mapping/ChatCryoJane201710_slide8-S1_to_ChatCryoJane201710_slide7-S1_intensity_mapping_all_regions.npy\"\n",
      "aws s3 cp \"/media/yuncong/BstemAtlasData/CSHL_data_processed/ChatCryoJane201710/ChatCryoJane201710_intensity_mapping/ChatCryoJane201710_slide8-S1_to_ChatCryoJane201710_slide7-S1_region_bboxes.npy\" \"s3://mousebrainatlas-data/CSHL_data_processed/ChatCryoJane201710/ChatCryoJane201710_intensity_mapping/ChatCryoJane201710_slide8-S1_to_ChatCryoJane201710_slide7-S1_region_bboxes.npy\"\n"
     ]
    },
    {
     "name": "stderr",
     "output_type": "stream",
     "text": [
      "ntb 20, ntb 21\n"
     ]
    },
    {
     "name": "stdout",
     "output_type": "stream",
     "text": [
      "rm -rf \"/media/yuncong/BstemAtlasData/CSHL_data_processed/ChatCryoJane201710/ChatCryoJane201710_prep2_thumbnail_mask/ChatCryoJane201710_slide8-S1_prep2_thumbnail_mask.png\" && mkdir -p \"/media/yuncong/BstemAtlasData/CSHL_data_processed/ChatCryoJane201710/ChatCryoJane201710_prep2_thumbnail_mask\"\n",
      "aws s3 cp \"s3://mousebrainatlas-data/CSHL_data_processed/ChatCryoJane201710/ChatCryoJane201710_prep2_thumbnail_mask/ChatCryoJane201710_slide8-S1_prep2_thumbnail_mask.png\" \"/media/yuncong/BstemAtlasData/CSHL_data_processed/ChatCryoJane201710/ChatCryoJane201710_prep2_thumbnail_mask/ChatCryoJane201710_slide8-S1_prep2_thumbnail_mask.png\"\n"
     ]
    },
    {
     "name": "stderr",
     "output_type": "stream",
     "text": [
      "Load NTB1: 0.00 seconds.\n",
      "Load NTB2: 0.00 seconds.\n"
     ]
    },
    {
     "name": "stdout",
     "output_type": "stream",
     "text": [
      "Region 0: x=924, y=13321, w=2000, h=2000\n",
      "convert /media/yuncong/BstemAtlasData/CSHL_data_processed/ChatCryoJane201710/ChatCryoJane201710_prep2_lossless_Ntb/ChatCryoJane201710_slide8-S1_prep2_lossless_Ntb.tif -crop 2000x2000+924+13321 /tmp/tmp.tif\n",
      "convert /media/yuncong/BstemAtlasData/CSHL_data_processed/ChatCryoJane201710/ChatCryoJane201710_prep2_lossless_Ntb/ChatCryoJane201710_slide7-S2_prep2_lossless_Ntb.tif -crop 2000x2000+924+13321 /tmp/tmp.tif\n",
      "Region 1: x=5834, y=3045, w=2000, h=2000\n",
      "convert /media/yuncong/BstemAtlasData/CSHL_data_processed/ChatCryoJane201710/ChatCryoJane201710_prep2_lossless_Ntb/ChatCryoJane201710_slide8-S1_prep2_lossless_Ntb.tif -crop 2000x2000+5834+3045 /tmp/tmp.tif\n",
      "convert /media/yuncong/BstemAtlasData/CSHL_data_processed/ChatCryoJane201710/ChatCryoJane201710_prep2_lossless_Ntb/ChatCryoJane201710_slide7-S2_prep2_lossless_Ntb.tif -crop 2000x2000+5834+3045 /tmp/tmp.tif\n",
      "Region 2: x=4624, y=2952, w=2000, h=2000\n",
      "convert /media/yuncong/BstemAtlasData/CSHL_data_processed/ChatCryoJane201710/ChatCryoJane201710_prep2_lossless_Ntb/ChatCryoJane201710_slide8-S1_prep2_lossless_Ntb.tif -crop 2000x2000+4624+2952 /tmp/tmp.tif\n",
      "convert /media/yuncong/BstemAtlasData/CSHL_data_processed/ChatCryoJane201710/ChatCryoJane201710_prep2_lossless_Ntb/ChatCryoJane201710_slide7-S2_prep2_lossless_Ntb.tif -crop 2000x2000+4624+2952 /tmp/tmp.tif\n",
      "Region 3: x=2777, y=7738, w=2000, h=2000\n",
      "convert /media/yuncong/BstemAtlasData/CSHL_data_processed/ChatCryoJane201710/ChatCryoJane201710_prep2_lossless_Ntb/ChatCryoJane201710_slide8-S1_prep2_lossless_Ntb.tif -crop 2000x2000+2777+7738 /tmp/tmp.tif\n",
      "convert /media/yuncong/BstemAtlasData/CSHL_data_processed/ChatCryoJane201710/ChatCryoJane201710_prep2_lossless_Ntb/ChatCryoJane201710_slide7-S2_prep2_lossless_Ntb.tif -crop 2000x2000+2777+7738 /tmp/tmp.tif\n",
      "Region 4: x=7517, y=7935, w=2000, h=2000\n",
      "convert /media/yuncong/BstemAtlasData/CSHL_data_processed/ChatCryoJane201710/ChatCryoJane201710_prep2_lossless_Ntb/ChatCryoJane201710_slide8-S1_prep2_lossless_Ntb.tif -crop 2000x2000+7517+7935 /tmp/tmp.tif\n",
      "convert /media/yuncong/BstemAtlasData/CSHL_data_processed/ChatCryoJane201710/ChatCryoJane201710_prep2_lossless_Ntb/ChatCryoJane201710_slide7-S2_prep2_lossless_Ntb.tif -crop 2000x2000+7517+7935 /tmp/tmp.tif\n",
      "Region 5: x=8291, y=4336, w=2000, h=2000\n",
      "convert /media/yuncong/BstemAtlasData/CSHL_data_processed/ChatCryoJane201710/ChatCryoJane201710_prep2_lossless_Ntb/ChatCryoJane201710_slide8-S1_prep2_lossless_Ntb.tif -crop 2000x2000+8291+4336 /tmp/tmp.tif\n",
      "convert /media/yuncong/BstemAtlasData/CSHL_data_processed/ChatCryoJane201710/ChatCryoJane201710_prep2_lossless_Ntb/ChatCryoJane201710_slide7-S2_prep2_lossless_Ntb.tif -crop 2000x2000+8291+4336 /tmp/tmp.tif\n",
      "Region 6: x=3608, y=11895, w=2000, h=2000\n",
      "convert /media/yuncong/BstemAtlasData/CSHL_data_processed/ChatCryoJane201710/ChatCryoJane201710_prep2_lossless_Ntb/ChatCryoJane201710_slide8-S1_prep2_lossless_Ntb.tif -crop 2000x2000+3608+11895 /tmp/tmp.tif\n",
      "convert /media/yuncong/BstemAtlasData/CSHL_data_processed/ChatCryoJane201710/ChatCryoJane201710_prep2_lossless_Ntb/ChatCryoJane201710_slide7-S2_prep2_lossless_Ntb.tif -crop 2000x2000+3608+11895 /tmp/tmp.tif\n",
      "Region 7: x=1105, y=3139, w=2000, h=2000\n",
      "convert /media/yuncong/BstemAtlasData/CSHL_data_processed/ChatCryoJane201710/ChatCryoJane201710_prep2_lossless_Ntb/ChatCryoJane201710_slide8-S1_prep2_lossless_Ntb.tif -crop 2000x2000+1105+3139 /tmp/tmp.tif\n",
      "convert /media/yuncong/BstemAtlasData/CSHL_data_processed/ChatCryoJane201710/ChatCryoJane201710_prep2_lossless_Ntb/ChatCryoJane201710_slide7-S2_prep2_lossless_Ntb.tif -crop 2000x2000+1105+3139 /tmp/tmp.tif\n",
      "Region 8: x=3276, y=2335, w=2000, h=2000\n",
      "convert /media/yuncong/BstemAtlasData/CSHL_data_processed/ChatCryoJane201710/ChatCryoJane201710_prep2_lossless_Ntb/ChatCryoJane201710_slide8-S1_prep2_lossless_Ntb.tif -crop 2000x2000+3276+2335 /tmp/tmp.tif\n",
      "convert /media/yuncong/BstemAtlasData/CSHL_data_processed/ChatCryoJane201710/ChatCryoJane201710_prep2_lossless_Ntb/ChatCryoJane201710_slide7-S2_prep2_lossless_Ntb.tif -crop 2000x2000+3276+2335 /tmp/tmp.tif\n",
      "Region 9: x=145, y=8462, w=2000, h=2000\n",
      "convert /media/yuncong/BstemAtlasData/CSHL_data_processed/ChatCryoJane201710/ChatCryoJane201710_prep2_lossless_Ntb/ChatCryoJane201710_slide8-S1_prep2_lossless_Ntb.tif -crop 2000x2000+145+8462 /tmp/tmp.tif\n",
      "convert /media/yuncong/BstemAtlasData/CSHL_data_processed/ChatCryoJane201710/ChatCryoJane201710_prep2_lossless_Ntb/ChatCryoJane201710_slide7-S2_prep2_lossless_Ntb.tif -crop 2000x2000+145+8462 /tmp/tmp.tif\n",
      "aws s3 cp \"/media/yuncong/BstemAtlasData/CSHL_data_processed/ChatCryoJane201710/ChatCryoJane201710_intensity_mapping/ChatCryoJane201710_slide7-S2_to_ChatCryoJane201710_slide8-S1_intensity_mapping_all_regions.npy\" \"s3://mousebrainatlas-data/CSHL_data_processed/ChatCryoJane201710/ChatCryoJane201710_intensity_mapping/ChatCryoJane201710_slide7-S2_to_ChatCryoJane201710_slide8-S1_intensity_mapping_all_regions.npy\"\n",
      "aws s3 cp \"/media/yuncong/BstemAtlasData/CSHL_data_processed/ChatCryoJane201710/ChatCryoJane201710_intensity_mapping/ChatCryoJane201710_slide7-S2_to_ChatCryoJane201710_slide8-S1_region_bboxes.npy\" \"s3://mousebrainatlas-data/CSHL_data_processed/ChatCryoJane201710/ChatCryoJane201710_intensity_mapping/ChatCryoJane201710_slide7-S2_to_ChatCryoJane201710_slide8-S1_region_bboxes.npy\"\n"
     ]
    },
    {
     "name": "stderr",
     "output_type": "stream",
     "text": [
      "ntb 21, ntb 22\n"
     ]
    },
    {
     "name": "stdout",
     "output_type": "stream",
     "text": [
      "rm -rf \"/media/yuncong/BstemAtlasData/CSHL_data_processed/ChatCryoJane201710/ChatCryoJane201710_prep2_thumbnail_mask/ChatCryoJane201710_slide7-S2_prep2_thumbnail_mask.png\" && mkdir -p \"/media/yuncong/BstemAtlasData/CSHL_data_processed/ChatCryoJane201710/ChatCryoJane201710_prep2_thumbnail_mask\"\n",
      "aws s3 cp \"s3://mousebrainatlas-data/CSHL_data_processed/ChatCryoJane201710/ChatCryoJane201710_prep2_thumbnail_mask/ChatCryoJane201710_slide7-S2_prep2_thumbnail_mask.png\" \"/media/yuncong/BstemAtlasData/CSHL_data_processed/ChatCryoJane201710/ChatCryoJane201710_prep2_thumbnail_mask/ChatCryoJane201710_slide7-S2_prep2_thumbnail_mask.png\"\n"
     ]
    },
    {
     "name": "stderr",
     "output_type": "stream",
     "text": [
      "Load NTB1: 0.00 seconds.\n",
      "Load NTB2: 0.00 seconds.\n"
     ]
    },
    {
     "name": "stdout",
     "output_type": "stream",
     "text": [
      "Region 0: x=177, y=7199, w=2000, h=2000\n",
      "convert /media/yuncong/BstemAtlasData/CSHL_data_processed/ChatCryoJane201710/ChatCryoJane201710_prep2_lossless_Ntb/ChatCryoJane201710_slide7-S2_prep2_lossless_Ntb.tif -crop 2000x2000+177+7199 /tmp/tmp.tif\n",
      "convert /media/yuncong/BstemAtlasData/CSHL_data_processed/ChatCryoJane201710/ChatCryoJane201710_prep2_lossless_Ntb/ChatCryoJane201710_slide8-S2_prep2_lossless_Ntb.tif -crop 2000x2000+177+7199 /tmp/tmp.tif\n",
      "Region 1: x=10839, y=4983, w=2000, h=2000\n",
      "convert /media/yuncong/BstemAtlasData/CSHL_data_processed/ChatCryoJane201710/ChatCryoJane201710_prep2_lossless_Ntb/ChatCryoJane201710_slide7-S2_prep2_lossless_Ntb.tif -crop 2000x2000+10839+4983 /tmp/tmp.tif\n",
      "convert /media/yuncong/BstemAtlasData/CSHL_data_processed/ChatCryoJane201710/ChatCryoJane201710_prep2_lossless_Ntb/ChatCryoJane201710_slide8-S2_prep2_lossless_Ntb.tif -crop 2000x2000+10839+4983 /tmp/tmp.tif\n",
      "Region 2: x=5310, y=8937, w=2000, h=2000\n",
      "convert /media/yuncong/BstemAtlasData/CSHL_data_processed/ChatCryoJane201710/ChatCryoJane201710_prep2_lossless_Ntb/ChatCryoJane201710_slide7-S2_prep2_lossless_Ntb.tif -crop 2000x2000+5310+8937 /tmp/tmp.tif\n",
      "convert /media/yuncong/BstemAtlasData/CSHL_data_processed/ChatCryoJane201710/ChatCryoJane201710_prep2_lossless_Ntb/ChatCryoJane201710_slide8-S2_prep2_lossless_Ntb.tif -crop 2000x2000+5310+8937 /tmp/tmp.tif\n",
      "Region 3: x=331, y=5765, w=2000, h=2000\n",
      "convert /media/yuncong/BstemAtlasData/CSHL_data_processed/ChatCryoJane201710/ChatCryoJane201710_prep2_lossless_Ntb/ChatCryoJane201710_slide7-S2_prep2_lossless_Ntb.tif -crop 2000x2000+331+5765 /tmp/tmp.tif\n",
      "convert /media/yuncong/BstemAtlasData/CSHL_data_processed/ChatCryoJane201710/ChatCryoJane201710_prep2_lossless_Ntb/ChatCryoJane201710_slide8-S2_prep2_lossless_Ntb.tif -crop 2000x2000+331+5765 /tmp/tmp.tif\n",
      "Region 4: x=3065, y=2326, w=2000, h=2000\n",
      "convert /media/yuncong/BstemAtlasData/CSHL_data_processed/ChatCryoJane201710/ChatCryoJane201710_prep2_lossless_Ntb/ChatCryoJane201710_slide7-S2_prep2_lossless_Ntb.tif -crop 2000x2000+3065+2326 /tmp/tmp.tif\n",
      "convert /media/yuncong/BstemAtlasData/CSHL_data_processed/ChatCryoJane201710/ChatCryoJane201710_prep2_lossless_Ntb/ChatCryoJane201710_slide8-S2_prep2_lossless_Ntb.tif -crop 2000x2000+3065+2326 /tmp/tmp.tif\n",
      "Region 5: x=4546, y=1430, w=2000, h=2000\n",
      "convert /media/yuncong/BstemAtlasData/CSHL_data_processed/ChatCryoJane201710/ChatCryoJane201710_prep2_lossless_Ntb/ChatCryoJane201710_slide7-S2_prep2_lossless_Ntb.tif -crop 2000x2000+4546+1430 /tmp/tmp.tif\n",
      "convert /media/yuncong/BstemAtlasData/CSHL_data_processed/ChatCryoJane201710/ChatCryoJane201710_prep2_lossless_Ntb/ChatCryoJane201710_slide8-S2_prep2_lossless_Ntb.tif -crop 2000x2000+4546+1430 /tmp/tmp.tif\n",
      "Region 6: x=5702, y=3623, w=2000, h=2000\n",
      "convert /media/yuncong/BstemAtlasData/CSHL_data_processed/ChatCryoJane201710/ChatCryoJane201710_prep2_lossless_Ntb/ChatCryoJane201710_slide7-S2_prep2_lossless_Ntb.tif -crop 2000x2000+5702+3623 /tmp/tmp.tif\n",
      "convert /media/yuncong/BstemAtlasData/CSHL_data_processed/ChatCryoJane201710/ChatCryoJane201710_prep2_lossless_Ntb/ChatCryoJane201710_slide8-S2_prep2_lossless_Ntb.tif -crop 2000x2000+5702+3623 /tmp/tmp.tif\n",
      "Region 7: x=6424, y=5683, w=2000, h=2000\n",
      "convert /media/yuncong/BstemAtlasData/CSHL_data_processed/ChatCryoJane201710/ChatCryoJane201710_prep2_lossless_Ntb/ChatCryoJane201710_slide7-S2_prep2_lossless_Ntb.tif -crop 2000x2000+6424+5683 /tmp/tmp.tif\n",
      "convert /media/yuncong/BstemAtlasData/CSHL_data_processed/ChatCryoJane201710/ChatCryoJane201710_prep2_lossless_Ntb/ChatCryoJane201710_slide8-S2_prep2_lossless_Ntb.tif -crop 2000x2000+6424+5683 /tmp/tmp.tif\n",
      "Region 8: x=2567, y=11212, w=2000, h=2000\n",
      "convert /media/yuncong/BstemAtlasData/CSHL_data_processed/ChatCryoJane201710/ChatCryoJane201710_prep2_lossless_Ntb/ChatCryoJane201710_slide7-S2_prep2_lossless_Ntb.tif -crop 2000x2000+2567+11212 /tmp/tmp.tif\n",
      "convert /media/yuncong/BstemAtlasData/CSHL_data_processed/ChatCryoJane201710/ChatCryoJane201710_prep2_lossless_Ntb/ChatCryoJane201710_slide8-S2_prep2_lossless_Ntb.tif -crop 2000x2000+2567+11212 /tmp/tmp.tif\n",
      "Region 9: x=4824, y=4636, w=2000, h=2000\n",
      "convert /media/yuncong/BstemAtlasData/CSHL_data_processed/ChatCryoJane201710/ChatCryoJane201710_prep2_lossless_Ntb/ChatCryoJane201710_slide7-S2_prep2_lossless_Ntb.tif -crop 2000x2000+4824+4636 /tmp/tmp.tif\n",
      "convert /media/yuncong/BstemAtlasData/CSHL_data_processed/ChatCryoJane201710/ChatCryoJane201710_prep2_lossless_Ntb/ChatCryoJane201710_slide8-S2_prep2_lossless_Ntb.tif -crop 2000x2000+4824+4636 /tmp/tmp.tif\n",
      "aws s3 cp \"/media/yuncong/BstemAtlasData/CSHL_data_processed/ChatCryoJane201710/ChatCryoJane201710_intensity_mapping/ChatCryoJane201710_slide8-S2_to_ChatCryoJane201710_slide7-S2_intensity_mapping_all_regions.npy\" \"s3://mousebrainatlas-data/CSHL_data_processed/ChatCryoJane201710/ChatCryoJane201710_intensity_mapping/ChatCryoJane201710_slide8-S2_to_ChatCryoJane201710_slide7-S2_intensity_mapping_all_regions.npy\"\n",
      "aws s3 cp \"/media/yuncong/BstemAtlasData/CSHL_data_processed/ChatCryoJane201710/ChatCryoJane201710_intensity_mapping/ChatCryoJane201710_slide8-S2_to_ChatCryoJane201710_slide7-S2_region_bboxes.npy\" \"s3://mousebrainatlas-data/CSHL_data_processed/ChatCryoJane201710/ChatCryoJane201710_intensity_mapping/ChatCryoJane201710_slide8-S2_to_ChatCryoJane201710_slide7-S2_region_bboxes.npy\"\n"
     ]
    },
    {
     "name": "stderr",
     "output_type": "stream",
     "text": [
      "ntb 22, ntb 23\n"
     ]
    },
    {
     "name": "stdout",
     "output_type": "stream",
     "text": [
      "rm -rf \"/media/yuncong/BstemAtlasData/CSHL_data_processed/ChatCryoJane201710/ChatCryoJane201710_prep2_thumbnail_mask/ChatCryoJane201710_slide8-S2_prep2_thumbnail_mask.png\" && mkdir -p \"/media/yuncong/BstemAtlasData/CSHL_data_processed/ChatCryoJane201710/ChatCryoJane201710_prep2_thumbnail_mask\"\n",
      "aws s3 cp \"s3://mousebrainatlas-data/CSHL_data_processed/ChatCryoJane201710/ChatCryoJane201710_prep2_thumbnail_mask/ChatCryoJane201710_slide8-S2_prep2_thumbnail_mask.png\" \"/media/yuncong/BstemAtlasData/CSHL_data_processed/ChatCryoJane201710/ChatCryoJane201710_prep2_thumbnail_mask/ChatCryoJane201710_slide8-S2_prep2_thumbnail_mask.png\"\n"
     ]
    },
    {
     "name": "stderr",
     "output_type": "stream",
     "text": [
      "Load NTB1: 0.00 seconds.\n",
      "Load NTB2: 0.00 seconds.\n"
     ]
    },
    {
     "name": "stdout",
     "output_type": "stream",
     "text": [
      "Region 0: x=7953, y=6547, w=2000, h=2000\n",
      "convert /media/yuncong/BstemAtlasData/CSHL_data_processed/ChatCryoJane201710/ChatCryoJane201710_prep2_lossless_Ntb/ChatCryoJane201710_slide8-S2_prep2_lossless_Ntb.tif -crop 2000x2000+7953+6547 /tmp/tmp.tif\n",
      "convert /media/yuncong/BstemAtlasData/CSHL_data_processed/ChatCryoJane201710/ChatCryoJane201710_prep2_lossless_Ntb/ChatCryoJane201710_slide7-S3_prep2_lossless_Ntb.tif -crop 2000x2000+7953+6547 /tmp/tmp.tif\n",
      "Region 1: x=2725, y=14696, w=2000, h=2000\n",
      "convert /media/yuncong/BstemAtlasData/CSHL_data_processed/ChatCryoJane201710/ChatCryoJane201710_prep2_lossless_Ntb/ChatCryoJane201710_slide8-S2_prep2_lossless_Ntb.tif -crop 2000x2000+2725+14696 /tmp/tmp.tif\n",
      "convert /media/yuncong/BstemAtlasData/CSHL_data_processed/ChatCryoJane201710/ChatCryoJane201710_prep2_lossless_Ntb/ChatCryoJane201710_slide7-S3_prep2_lossless_Ntb.tif -crop 2000x2000+2725+14696 /tmp/tmp.tif\n",
      "Region 2: x=8078, y=9834, w=2000, h=2000\n",
      "convert /media/yuncong/BstemAtlasData/CSHL_data_processed/ChatCryoJane201710/ChatCryoJane201710_prep2_lossless_Ntb/ChatCryoJane201710_slide8-S2_prep2_lossless_Ntb.tif -crop 2000x2000+8078+9834 /tmp/tmp.tif\n",
      "convert /media/yuncong/BstemAtlasData/CSHL_data_processed/ChatCryoJane201710/ChatCryoJane201710_prep2_lossless_Ntb/ChatCryoJane201710_slide7-S3_prep2_lossless_Ntb.tif -crop 2000x2000+8078+9834 /tmp/tmp.tif\n",
      "Region 3: x=12, y=6320, w=2000, h=2000\n",
      "convert /media/yuncong/BstemAtlasData/CSHL_data_processed/ChatCryoJane201710/ChatCryoJane201710_prep2_lossless_Ntb/ChatCryoJane201710_slide8-S2_prep2_lossless_Ntb.tif -crop 2000x2000+12+6320 /tmp/tmp.tif\n",
      "convert /media/yuncong/BstemAtlasData/CSHL_data_processed/ChatCryoJane201710/ChatCryoJane201710_prep2_lossless_Ntb/ChatCryoJane201710_slide7-S3_prep2_lossless_Ntb.tif -crop 2000x2000+12+6320 /tmp/tmp.tif\n",
      "Region 4: x=10626, y=5164, w=2000, h=2000\n",
      "convert /media/yuncong/BstemAtlasData/CSHL_data_processed/ChatCryoJane201710/ChatCryoJane201710_prep2_lossless_Ntb/ChatCryoJane201710_slide8-S2_prep2_lossless_Ntb.tif -crop 2000x2000+10626+5164 /tmp/tmp.tif\n",
      "convert /media/yuncong/BstemAtlasData/CSHL_data_processed/ChatCryoJane201710/ChatCryoJane201710_prep2_lossless_Ntb/ChatCryoJane201710_slide7-S3_prep2_lossless_Ntb.tif -crop 2000x2000+10626+5164 /tmp/tmp.tif\n",
      "Region 5: x=3580, y=1360, w=2000, h=2000\n",
      "convert /media/yuncong/BstemAtlasData/CSHL_data_processed/ChatCryoJane201710/ChatCryoJane201710_prep2_lossless_Ntb/ChatCryoJane201710_slide8-S2_prep2_lossless_Ntb.tif -crop 2000x2000+3580+1360 /tmp/tmp.tif\n",
      "convert /media/yuncong/BstemAtlasData/CSHL_data_processed/ChatCryoJane201710/ChatCryoJane201710_prep2_lossless_Ntb/ChatCryoJane201710_slide7-S3_prep2_lossless_Ntb.tif -crop 2000x2000+3580+1360 /tmp/tmp.tif\n",
      "Region 6: x=10329, y=7607, w=2000, h=2000\n",
      "convert /media/yuncong/BstemAtlasData/CSHL_data_processed/ChatCryoJane201710/ChatCryoJane201710_prep2_lossless_Ntb/ChatCryoJane201710_slide8-S2_prep2_lossless_Ntb.tif -crop 2000x2000+10329+7607 /tmp/tmp.tif\n",
      "convert /media/yuncong/BstemAtlasData/CSHL_data_processed/ChatCryoJane201710/ChatCryoJane201710_prep2_lossless_Ntb/ChatCryoJane201710_slide7-S3_prep2_lossless_Ntb.tif -crop 2000x2000+10329+7607 /tmp/tmp.tif\n",
      "Region 7: x=2020, y=1943, w=2000, h=2000\n",
      "convert /media/yuncong/BstemAtlasData/CSHL_data_processed/ChatCryoJane201710/ChatCryoJane201710_prep2_lossless_Ntb/ChatCryoJane201710_slide8-S2_prep2_lossless_Ntb.tif -crop 2000x2000+2020+1943 /tmp/tmp.tif\n",
      "convert /media/yuncong/BstemAtlasData/CSHL_data_processed/ChatCryoJane201710/ChatCryoJane201710_prep2_lossless_Ntb/ChatCryoJane201710_slide7-S3_prep2_lossless_Ntb.tif -crop 2000x2000+2020+1943 /tmp/tmp.tif\n",
      "Region 8: x=1767, y=13997, w=2000, h=2000\n",
      "convert /media/yuncong/BstemAtlasData/CSHL_data_processed/ChatCryoJane201710/ChatCryoJane201710_prep2_lossless_Ntb/ChatCryoJane201710_slide8-S2_prep2_lossless_Ntb.tif -crop 2000x2000+1767+13997 /tmp/tmp.tif\n",
      "convert /media/yuncong/BstemAtlasData/CSHL_data_processed/ChatCryoJane201710/ChatCryoJane201710_prep2_lossless_Ntb/ChatCryoJane201710_slide7-S3_prep2_lossless_Ntb.tif -crop 2000x2000+1767+13997 /tmp/tmp.tif\n",
      "Region 9: x=561, y=10507, w=2000, h=2000\n",
      "convert /media/yuncong/BstemAtlasData/CSHL_data_processed/ChatCryoJane201710/ChatCryoJane201710_prep2_lossless_Ntb/ChatCryoJane201710_slide8-S2_prep2_lossless_Ntb.tif -crop 2000x2000+561+10507 /tmp/tmp.tif\n",
      "convert /media/yuncong/BstemAtlasData/CSHL_data_processed/ChatCryoJane201710/ChatCryoJane201710_prep2_lossless_Ntb/ChatCryoJane201710_slide7-S3_prep2_lossless_Ntb.tif -crop 2000x2000+561+10507 /tmp/tmp.tif\n",
      "aws s3 cp \"/media/yuncong/BstemAtlasData/CSHL_data_processed/ChatCryoJane201710/ChatCryoJane201710_intensity_mapping/ChatCryoJane201710_slide7-S3_to_ChatCryoJane201710_slide8-S2_intensity_mapping_all_regions.npy\" \"s3://mousebrainatlas-data/CSHL_data_processed/ChatCryoJane201710/ChatCryoJane201710_intensity_mapping/ChatCryoJane201710_slide7-S3_to_ChatCryoJane201710_slide8-S2_intensity_mapping_all_regions.npy\"\n",
      "aws s3 cp \"/media/yuncong/BstemAtlasData/CSHL_data_processed/ChatCryoJane201710/ChatCryoJane201710_intensity_mapping/ChatCryoJane201710_slide7-S3_to_ChatCryoJane201710_slide8-S2_region_bboxes.npy\" \"s3://mousebrainatlas-data/CSHL_data_processed/ChatCryoJane201710/ChatCryoJane201710_intensity_mapping/ChatCryoJane201710_slide7-S3_to_ChatCryoJane201710_slide8-S2_region_bboxes.npy\"\n"
     ]
    },
    {
     "name": "stderr",
     "output_type": "stream",
     "text": [
      "ntb 23, ntb 24\n"
     ]
    },
    {
     "name": "stdout",
     "output_type": "stream",
     "text": [
      "rm -rf \"/media/yuncong/BstemAtlasData/CSHL_data_processed/ChatCryoJane201710/ChatCryoJane201710_prep2_thumbnail_mask/ChatCryoJane201710_slide7-S3_prep2_thumbnail_mask.png\" && mkdir -p \"/media/yuncong/BstemAtlasData/CSHL_data_processed/ChatCryoJane201710/ChatCryoJane201710_prep2_thumbnail_mask\"\n",
      "aws s3 cp \"s3://mousebrainatlas-data/CSHL_data_processed/ChatCryoJane201710/ChatCryoJane201710_prep2_thumbnail_mask/ChatCryoJane201710_slide7-S3_prep2_thumbnail_mask.png\" \"/media/yuncong/BstemAtlasData/CSHL_data_processed/ChatCryoJane201710/ChatCryoJane201710_prep2_thumbnail_mask/ChatCryoJane201710_slide7-S3_prep2_thumbnail_mask.png\"\n"
     ]
    },
    {
     "name": "stderr",
     "output_type": "stream",
     "text": [
      "Load NTB1: 0.00 seconds.\n",
      "Load NTB2: 0.00 seconds.\n"
     ]
    },
    {
     "name": "stdout",
     "output_type": "stream",
     "text": [
      "Region 0: x=4927, y=4780, w=2000, h=2000\n",
      "convert /media/yuncong/BstemAtlasData/CSHL_data_processed/ChatCryoJane201710/ChatCryoJane201710_prep2_lossless_Ntb/ChatCryoJane201710_slide7-S3_prep2_lossless_Ntb.tif -crop 2000x2000+4927+4780 /tmp/tmp.tif\n",
      "convert /media/yuncong/BstemAtlasData/CSHL_data_processed/ChatCryoJane201710/ChatCryoJane201710_prep2_lossless_Ntb/ChatCryoJane201710_slide8-S3_prep2_lossless_Ntb.tif -crop 2000x2000+4927+4780 /tmp/tmp.tif\n",
      "Region 1: x=2834, y=13087, w=2000, h=2000\n",
      "convert /media/yuncong/BstemAtlasData/CSHL_data_processed/ChatCryoJane201710/ChatCryoJane201710_prep2_lossless_Ntb/ChatCryoJane201710_slide7-S3_prep2_lossless_Ntb.tif -crop 2000x2000+2834+13087 /tmp/tmp.tif\n",
      "convert /media/yuncong/BstemAtlasData/CSHL_data_processed/ChatCryoJane201710/ChatCryoJane201710_prep2_lossless_Ntb/ChatCryoJane201710_slide8-S3_prep2_lossless_Ntb.tif -crop 2000x2000+2834+13087 /tmp/tmp.tif\n",
      "Region 2: x=3066, y=4541, w=2000, h=2000\n",
      "convert /media/yuncong/BstemAtlasData/CSHL_data_processed/ChatCryoJane201710/ChatCryoJane201710_prep2_lossless_Ntb/ChatCryoJane201710_slide7-S3_prep2_lossless_Ntb.tif -crop 2000x2000+3066+4541 /tmp/tmp.tif\n",
      "convert /media/yuncong/BstemAtlasData/CSHL_data_processed/ChatCryoJane201710/ChatCryoJane201710_prep2_lossless_Ntb/ChatCryoJane201710_slide8-S3_prep2_lossless_Ntb.tif -crop 2000x2000+3066+4541 /tmp/tmp.tif\n",
      "Region 3: x=9064, y=3181, w=2000, h=2000\n",
      "convert /media/yuncong/BstemAtlasData/CSHL_data_processed/ChatCryoJane201710/ChatCryoJane201710_prep2_lossless_Ntb/ChatCryoJane201710_slide7-S3_prep2_lossless_Ntb.tif -crop 2000x2000+9064+3181 /tmp/tmp.tif\n",
      "convert /media/yuncong/BstemAtlasData/CSHL_data_processed/ChatCryoJane201710/ChatCryoJane201710_prep2_lossless_Ntb/ChatCryoJane201710_slide8-S3_prep2_lossless_Ntb.tif -crop 2000x2000+9064+3181 /tmp/tmp.tif\n",
      "Region 4: x=9076, y=8607, w=2000, h=2000\n",
      "convert /media/yuncong/BstemAtlasData/CSHL_data_processed/ChatCryoJane201710/ChatCryoJane201710_prep2_lossless_Ntb/ChatCryoJane201710_slide7-S3_prep2_lossless_Ntb.tif -crop 2000x2000+9076+8607 /tmp/tmp.tif\n",
      "convert /media/yuncong/BstemAtlasData/CSHL_data_processed/ChatCryoJane201710/ChatCryoJane201710_prep2_lossless_Ntb/ChatCryoJane201710_slide8-S3_prep2_lossless_Ntb.tif -crop 2000x2000+9076+8607 /tmp/tmp.tif\n",
      "Region 5: x=2370, y=5956, w=2000, h=2000\n",
      "convert /media/yuncong/BstemAtlasData/CSHL_data_processed/ChatCryoJane201710/ChatCryoJane201710_prep2_lossless_Ntb/ChatCryoJane201710_slide7-S3_prep2_lossless_Ntb.tif -crop 2000x2000+2370+5956 /tmp/tmp.tif\n",
      "convert /media/yuncong/BstemAtlasData/CSHL_data_processed/ChatCryoJane201710/ChatCryoJane201710_prep2_lossless_Ntb/ChatCryoJane201710_slide8-S3_prep2_lossless_Ntb.tif -crop 2000x2000+2370+5956 /tmp/tmp.tif\n",
      "Region 6: x=5271, y=1951, w=2000, h=2000\n",
      "convert /media/yuncong/BstemAtlasData/CSHL_data_processed/ChatCryoJane201710/ChatCryoJane201710_prep2_lossless_Ntb/ChatCryoJane201710_slide7-S3_prep2_lossless_Ntb.tif -crop 2000x2000+5271+1951 /tmp/tmp.tif\n",
      "convert /media/yuncong/BstemAtlasData/CSHL_data_processed/ChatCryoJane201710/ChatCryoJane201710_prep2_lossless_Ntb/ChatCryoJane201710_slide8-S3_prep2_lossless_Ntb.tif -crop 2000x2000+5271+1951 /tmp/tmp.tif\n",
      "Region 7: x=5866, y=3097, w=2000, h=2000\n",
      "convert /media/yuncong/BstemAtlasData/CSHL_data_processed/ChatCryoJane201710/ChatCryoJane201710_prep2_lossless_Ntb/ChatCryoJane201710_slide7-S3_prep2_lossless_Ntb.tif -crop 2000x2000+5866+3097 /tmp/tmp.tif\n",
      "convert /media/yuncong/BstemAtlasData/CSHL_data_processed/ChatCryoJane201710/ChatCryoJane201710_prep2_lossless_Ntb/ChatCryoJane201710_slide8-S3_prep2_lossless_Ntb.tif -crop 2000x2000+5866+3097 /tmp/tmp.tif\n",
      "Region 8: x=4149, y=1466, w=2000, h=2000\n",
      "convert /media/yuncong/BstemAtlasData/CSHL_data_processed/ChatCryoJane201710/ChatCryoJane201710_prep2_lossless_Ntb/ChatCryoJane201710_slide7-S3_prep2_lossless_Ntb.tif -crop 2000x2000+4149+1466 /tmp/tmp.tif\n",
      "convert /media/yuncong/BstemAtlasData/CSHL_data_processed/ChatCryoJane201710/ChatCryoJane201710_prep2_lossless_Ntb/ChatCryoJane201710_slide8-S3_prep2_lossless_Ntb.tif -crop 2000x2000+4149+1466 /tmp/tmp.tif\n",
      "Region 9: x=2762, y=4100, w=2000, h=2000\n",
      "convert /media/yuncong/BstemAtlasData/CSHL_data_processed/ChatCryoJane201710/ChatCryoJane201710_prep2_lossless_Ntb/ChatCryoJane201710_slide7-S3_prep2_lossless_Ntb.tif -crop 2000x2000+2762+4100 /tmp/tmp.tif\n",
      "convert /media/yuncong/BstemAtlasData/CSHL_data_processed/ChatCryoJane201710/ChatCryoJane201710_prep2_lossless_Ntb/ChatCryoJane201710_slide8-S3_prep2_lossless_Ntb.tif -crop 2000x2000+2762+4100 /tmp/tmp.tif\n",
      "aws s3 cp \"/media/yuncong/BstemAtlasData/CSHL_data_processed/ChatCryoJane201710/ChatCryoJane201710_intensity_mapping/ChatCryoJane201710_slide8-S3_to_ChatCryoJane201710_slide7-S3_intensity_mapping_all_regions.npy\" \"s3://mousebrainatlas-data/CSHL_data_processed/ChatCryoJane201710/ChatCryoJane201710_intensity_mapping/ChatCryoJane201710_slide8-S3_to_ChatCryoJane201710_slide7-S3_intensity_mapping_all_regions.npy\"\n",
      "aws s3 cp \"/media/yuncong/BstemAtlasData/CSHL_data_processed/ChatCryoJane201710/ChatCryoJane201710_intensity_mapping/ChatCryoJane201710_slide8-S3_to_ChatCryoJane201710_slide7-S3_region_bboxes.npy\" \"s3://mousebrainatlas-data/CSHL_data_processed/ChatCryoJane201710/ChatCryoJane201710_intensity_mapping/ChatCryoJane201710_slide8-S3_to_ChatCryoJane201710_slide7-S3_region_bboxes.npy\"\n"
     ]
    },
    {
     "name": "stderr",
     "output_type": "stream",
     "text": [
      "ntb 24, ntb 25\n"
     ]
    },
    {
     "name": "stdout",
     "output_type": "stream",
     "text": [
      "rm -rf \"/media/yuncong/BstemAtlasData/CSHL_data_processed/ChatCryoJane201710/ChatCryoJane201710_prep2_thumbnail_mask/ChatCryoJane201710_slide8-S3_prep2_thumbnail_mask.png\" && mkdir -p \"/media/yuncong/BstemAtlasData/CSHL_data_processed/ChatCryoJane201710/ChatCryoJane201710_prep2_thumbnail_mask\"\n",
      "aws s3 cp \"s3://mousebrainatlas-data/CSHL_data_processed/ChatCryoJane201710/ChatCryoJane201710_prep2_thumbnail_mask/ChatCryoJane201710_slide8-S3_prep2_thumbnail_mask.png\" \"/media/yuncong/BstemAtlasData/CSHL_data_processed/ChatCryoJane201710/ChatCryoJane201710_prep2_thumbnail_mask/ChatCryoJane201710_slide8-S3_prep2_thumbnail_mask.png\"\n"
     ]
    },
    {
     "name": "stderr",
     "output_type": "stream",
     "text": [
      "Load NTB1: 0.00 seconds.\n",
      "Load NTB2: 0.00 seconds.\n"
     ]
    },
    {
     "name": "stdout",
     "output_type": "stream",
     "text": [
      "Region 0: x=4572, y=11213, w=2000, h=2000\n",
      "convert /media/yuncong/BstemAtlasData/CSHL_data_processed/ChatCryoJane201710/ChatCryoJane201710_prep2_lossless_Ntb/ChatCryoJane201710_slide8-S3_prep2_lossless_Ntb.tif -crop 2000x2000+4572+11213 /tmp/tmp.tif\n",
      "convert /media/yuncong/BstemAtlasData/CSHL_data_processed/ChatCryoJane201710/ChatCryoJane201710_prep2_lossless_Ntb/ChatCryoJane201710_slide9-S1_prep2_lossless_Ntb.tif -crop 2000x2000+4572+11213 /tmp/tmp.tif\n",
      "Region 1: x=1674, y=9045, w=2000, h=2000\n",
      "convert /media/yuncong/BstemAtlasData/CSHL_data_processed/ChatCryoJane201710/ChatCryoJane201710_prep2_lossless_Ntb/ChatCryoJane201710_slide8-S3_prep2_lossless_Ntb.tif -crop 2000x2000+1674+9045 /tmp/tmp.tif\n",
      "convert /media/yuncong/BstemAtlasData/CSHL_data_processed/ChatCryoJane201710/ChatCryoJane201710_prep2_lossless_Ntb/ChatCryoJane201710_slide9-S1_prep2_lossless_Ntb.tif -crop 2000x2000+1674+9045 /tmp/tmp.tif\n",
      "Region 2: x=5436, y=5628, w=2000, h=2000\n",
      "convert /media/yuncong/BstemAtlasData/CSHL_data_processed/ChatCryoJane201710/ChatCryoJane201710_prep2_lossless_Ntb/ChatCryoJane201710_slide8-S3_prep2_lossless_Ntb.tif -crop 2000x2000+5436+5628 /tmp/tmp.tif\n",
      "convert /media/yuncong/BstemAtlasData/CSHL_data_processed/ChatCryoJane201710/ChatCryoJane201710_prep2_lossless_Ntb/ChatCryoJane201710_slide9-S1_prep2_lossless_Ntb.tif -crop 2000x2000+5436+5628 /tmp/tmp.tif\n",
      "Region 3: x=12934, y=3615, w=2000, h=2000\n",
      "convert /media/yuncong/BstemAtlasData/CSHL_data_processed/ChatCryoJane201710/ChatCryoJane201710_prep2_lossless_Ntb/ChatCryoJane201710_slide8-S3_prep2_lossless_Ntb.tif -crop 2000x2000+12934+3615 /tmp/tmp.tif\n",
      "convert /media/yuncong/BstemAtlasData/CSHL_data_processed/ChatCryoJane201710/ChatCryoJane201710_prep2_lossless_Ntb/ChatCryoJane201710_slide9-S1_prep2_lossless_Ntb.tif -crop 2000x2000+12934+3615 /tmp/tmp.tif\n",
      "Region 4: x=1487, y=6980, w=2000, h=2000\n",
      "convert /media/yuncong/BstemAtlasData/CSHL_data_processed/ChatCryoJane201710/ChatCryoJane201710_prep2_lossless_Ntb/ChatCryoJane201710_slide8-S3_prep2_lossless_Ntb.tif -crop 2000x2000+1487+6980 /tmp/tmp.tif\n",
      "convert /media/yuncong/BstemAtlasData/CSHL_data_processed/ChatCryoJane201710/ChatCryoJane201710_prep2_lossless_Ntb/ChatCryoJane201710_slide9-S1_prep2_lossless_Ntb.tif -crop 2000x2000+1487+6980 /tmp/tmp.tif\n",
      "Region 5: x=1170, y=14033, w=2000, h=2000\n",
      "convert /media/yuncong/BstemAtlasData/CSHL_data_processed/ChatCryoJane201710/ChatCryoJane201710_prep2_lossless_Ntb/ChatCryoJane201710_slide8-S3_prep2_lossless_Ntb.tif -crop 2000x2000+1170+14033 /tmp/tmp.tif\n",
      "convert /media/yuncong/BstemAtlasData/CSHL_data_processed/ChatCryoJane201710/ChatCryoJane201710_prep2_lossless_Ntb/ChatCryoJane201710_slide9-S1_prep2_lossless_Ntb.tif -crop 2000x2000+1170+14033 /tmp/tmp.tif\n",
      "Region 6: x=3617, y=12089, w=2000, h=2000\n",
      "convert /media/yuncong/BstemAtlasData/CSHL_data_processed/ChatCryoJane201710/ChatCryoJane201710_prep2_lossless_Ntb/ChatCryoJane201710_slide8-S3_prep2_lossless_Ntb.tif -crop 2000x2000+3617+12089 /tmp/tmp.tif\n",
      "convert /media/yuncong/BstemAtlasData/CSHL_data_processed/ChatCryoJane201710/ChatCryoJane201710_prep2_lossless_Ntb/ChatCryoJane201710_slide9-S1_prep2_lossless_Ntb.tif -crop 2000x2000+3617+12089 /tmp/tmp.tif\n",
      "Region 7: x=4187, y=8619, w=2000, h=2000\n",
      "convert /media/yuncong/BstemAtlasData/CSHL_data_processed/ChatCryoJane201710/ChatCryoJane201710_prep2_lossless_Ntb/ChatCryoJane201710_slide8-S3_prep2_lossless_Ntb.tif -crop 2000x2000+4187+8619 /tmp/tmp.tif\n",
      "convert /media/yuncong/BstemAtlasData/CSHL_data_processed/ChatCryoJane201710/ChatCryoJane201710_prep2_lossless_Ntb/ChatCryoJane201710_slide9-S1_prep2_lossless_Ntb.tif -crop 2000x2000+4187+8619 /tmp/tmp.tif\n",
      "Region 8: x=6817, y=7260, w=2000, h=2000\n",
      "convert /media/yuncong/BstemAtlasData/CSHL_data_processed/ChatCryoJane201710/ChatCryoJane201710_prep2_lossless_Ntb/ChatCryoJane201710_slide8-S3_prep2_lossless_Ntb.tif -crop 2000x2000+6817+7260 /tmp/tmp.tif\n",
      "convert /media/yuncong/BstemAtlasData/CSHL_data_processed/ChatCryoJane201710/ChatCryoJane201710_prep2_lossless_Ntb/ChatCryoJane201710_slide9-S1_prep2_lossless_Ntb.tif -crop 2000x2000+6817+7260 /tmp/tmp.tif\n",
      "Region 9: x=2054, y=1307, w=2000, h=2000\n",
      "convert /media/yuncong/BstemAtlasData/CSHL_data_processed/ChatCryoJane201710/ChatCryoJane201710_prep2_lossless_Ntb/ChatCryoJane201710_slide8-S3_prep2_lossless_Ntb.tif -crop 2000x2000+2054+1307 /tmp/tmp.tif\n",
      "convert /media/yuncong/BstemAtlasData/CSHL_data_processed/ChatCryoJane201710/ChatCryoJane201710_prep2_lossless_Ntb/ChatCryoJane201710_slide9-S1_prep2_lossless_Ntb.tif -crop 2000x2000+2054+1307 /tmp/tmp.tif\n",
      "aws s3 cp \"/media/yuncong/BstemAtlasData/CSHL_data_processed/ChatCryoJane201710/ChatCryoJane201710_intensity_mapping/ChatCryoJane201710_slide9-S1_to_ChatCryoJane201710_slide8-S3_intensity_mapping_all_regions.npy\" \"s3://mousebrainatlas-data/CSHL_data_processed/ChatCryoJane201710/ChatCryoJane201710_intensity_mapping/ChatCryoJane201710_slide9-S1_to_ChatCryoJane201710_slide8-S3_intensity_mapping_all_regions.npy\"\n",
      "aws s3 cp \"/media/yuncong/BstemAtlasData/CSHL_data_processed/ChatCryoJane201710/ChatCryoJane201710_intensity_mapping/ChatCryoJane201710_slide9-S1_to_ChatCryoJane201710_slide8-S3_region_bboxes.npy\" \"s3://mousebrainatlas-data/CSHL_data_processed/ChatCryoJane201710/ChatCryoJane201710_intensity_mapping/ChatCryoJane201710_slide9-S1_to_ChatCryoJane201710_slide8-S3_region_bboxes.npy\"\n"
     ]
    },
    {
     "name": "stderr",
     "output_type": "stream",
     "text": [
      "ntb 25, ntb 26\n"
     ]
    },
    {
     "name": "stdout",
     "output_type": "stream",
     "text": [
      "rm -rf \"/media/yuncong/BstemAtlasData/CSHL_data_processed/ChatCryoJane201710/ChatCryoJane201710_prep2_thumbnail_mask/ChatCryoJane201710_slide9-S1_prep2_thumbnail_mask.png\" && mkdir -p \"/media/yuncong/BstemAtlasData/CSHL_data_processed/ChatCryoJane201710/ChatCryoJane201710_prep2_thumbnail_mask\"\n",
      "aws s3 cp \"s3://mousebrainatlas-data/CSHL_data_processed/ChatCryoJane201710/ChatCryoJane201710_prep2_thumbnail_mask/ChatCryoJane201710_slide9-S1_prep2_thumbnail_mask.png\" \"/media/yuncong/BstemAtlasData/CSHL_data_processed/ChatCryoJane201710/ChatCryoJane201710_prep2_thumbnail_mask/ChatCryoJane201710_slide9-S1_prep2_thumbnail_mask.png\"\n"
     ]
    },
    {
     "name": "stderr",
     "output_type": "stream",
     "text": [
      "Load NTB1: 0.00 seconds.\n",
      "Load NTB2: 0.00 seconds.\n"
     ]
    },
    {
     "name": "stdout",
     "output_type": "stream",
     "text": [
      "Region 0: x=766, y=4150, w=2000, h=2000\n",
      "convert /media/yuncong/BstemAtlasData/CSHL_data_processed/ChatCryoJane201710/ChatCryoJane201710_prep2_lossless_Ntb/ChatCryoJane201710_slide9-S1_prep2_lossless_Ntb.tif -crop 2000x2000+766+4150 /tmp/tmp.tif\n",
      "convert /media/yuncong/BstemAtlasData/CSHL_data_processed/ChatCryoJane201710/ChatCryoJane201710_prep2_lossless_Ntb/ChatCryoJane201710_slide10-S1_prep2_lossless_Ntb.tif -crop 2000x2000+766+4150 /tmp/tmp.tif\n",
      "Region 1: x=8405, y=4785, w=2000, h=2000\n",
      "convert /media/yuncong/BstemAtlasData/CSHL_data_processed/ChatCryoJane201710/ChatCryoJane201710_prep2_lossless_Ntb/ChatCryoJane201710_slide9-S1_prep2_lossless_Ntb.tif -crop 2000x2000+8405+4785 /tmp/tmp.tif\n",
      "convert /media/yuncong/BstemAtlasData/CSHL_data_processed/ChatCryoJane201710/ChatCryoJane201710_prep2_lossless_Ntb/ChatCryoJane201710_slide10-S1_prep2_lossless_Ntb.tif -crop 2000x2000+8405+4785 /tmp/tmp.tif\n",
      "Region 2: x=3837, y=7189, w=2000, h=2000\n",
      "convert /media/yuncong/BstemAtlasData/CSHL_data_processed/ChatCryoJane201710/ChatCryoJane201710_prep2_lossless_Ntb/ChatCryoJane201710_slide9-S1_prep2_lossless_Ntb.tif -crop 2000x2000+3837+7189 /tmp/tmp.tif\n",
      "convert /media/yuncong/BstemAtlasData/CSHL_data_processed/ChatCryoJane201710/ChatCryoJane201710_prep2_lossless_Ntb/ChatCryoJane201710_slide10-S1_prep2_lossless_Ntb.tif -crop 2000x2000+3837+7189 /tmp/tmp.tif\n",
      "Region 3: x=13411, y=4903, w=2000, h=2000\n",
      "convert /media/yuncong/BstemAtlasData/CSHL_data_processed/ChatCryoJane201710/ChatCryoJane201710_prep2_lossless_Ntb/ChatCryoJane201710_slide9-S1_prep2_lossless_Ntb.tif -crop 2000x2000+13411+4903 /tmp/tmp.tif\n",
      "convert /media/yuncong/BstemAtlasData/CSHL_data_processed/ChatCryoJane201710/ChatCryoJane201710_prep2_lossless_Ntb/ChatCryoJane201710_slide10-S1_prep2_lossless_Ntb.tif -crop 2000x2000+13411+4903 /tmp/tmp.tif\n",
      "Region 4: x=8362, y=3620, w=2000, h=2000\n",
      "convert /media/yuncong/BstemAtlasData/CSHL_data_processed/ChatCryoJane201710/ChatCryoJane201710_prep2_lossless_Ntb/ChatCryoJane201710_slide9-S1_prep2_lossless_Ntb.tif -crop 2000x2000+8362+3620 /tmp/tmp.tif\n",
      "convert /media/yuncong/BstemAtlasData/CSHL_data_processed/ChatCryoJane201710/ChatCryoJane201710_prep2_lossless_Ntb/ChatCryoJane201710_slide10-S1_prep2_lossless_Ntb.tif -crop 2000x2000+8362+3620 /tmp/tmp.tif\n",
      "Region 5: x=1637, y=2096, w=2000, h=2000\n",
      "convert /media/yuncong/BstemAtlasData/CSHL_data_processed/ChatCryoJane201710/ChatCryoJane201710_prep2_lossless_Ntb/ChatCryoJane201710_slide9-S1_prep2_lossless_Ntb.tif -crop 2000x2000+1637+2096 /tmp/tmp.tif\n",
      "convert /media/yuncong/BstemAtlasData/CSHL_data_processed/ChatCryoJane201710/ChatCryoJane201710_prep2_lossless_Ntb/ChatCryoJane201710_slide10-S1_prep2_lossless_Ntb.tif -crop 2000x2000+1637+2096 /tmp/tmp.tif\n",
      "Region 6: x=15742, y=4961, w=2000, h=2000\n",
      "convert /media/yuncong/BstemAtlasData/CSHL_data_processed/ChatCryoJane201710/ChatCryoJane201710_prep2_lossless_Ntb/ChatCryoJane201710_slide9-S1_prep2_lossless_Ntb.tif -crop 2000x2000+15742+4961 /tmp/tmp.tif\n",
      "convert /media/yuncong/BstemAtlasData/CSHL_data_processed/ChatCryoJane201710/ChatCryoJane201710_prep2_lossless_Ntb/ChatCryoJane201710_slide10-S1_prep2_lossless_Ntb.tif -crop 2000x2000+15742+4961 /tmp/tmp.tif\n",
      "Region 7: x=9925, y=5825, w=2000, h=2000\n",
      "convert /media/yuncong/BstemAtlasData/CSHL_data_processed/ChatCryoJane201710/ChatCryoJane201710_prep2_lossless_Ntb/ChatCryoJane201710_slide9-S1_prep2_lossless_Ntb.tif -crop 2000x2000+9925+5825 /tmp/tmp.tif\n",
      "convert /media/yuncong/BstemAtlasData/CSHL_data_processed/ChatCryoJane201710/ChatCryoJane201710_prep2_lossless_Ntb/ChatCryoJane201710_slide10-S1_prep2_lossless_Ntb.tif -crop 2000x2000+9925+5825 /tmp/tmp.tif\n",
      "Region 8: x=4178, y=2829, w=2000, h=2000\n",
      "convert /media/yuncong/BstemAtlasData/CSHL_data_processed/ChatCryoJane201710/ChatCryoJane201710_prep2_lossless_Ntb/ChatCryoJane201710_slide9-S1_prep2_lossless_Ntb.tif -crop 2000x2000+4178+2829 /tmp/tmp.tif\n",
      "convert /media/yuncong/BstemAtlasData/CSHL_data_processed/ChatCryoJane201710/ChatCryoJane201710_prep2_lossless_Ntb/ChatCryoJane201710_slide10-S1_prep2_lossless_Ntb.tif -crop 2000x2000+4178+2829 /tmp/tmp.tif\n",
      "Region 9: x=725, y=13144, w=2000, h=2000\n",
      "convert /media/yuncong/BstemAtlasData/CSHL_data_processed/ChatCryoJane201710/ChatCryoJane201710_prep2_lossless_Ntb/ChatCryoJane201710_slide9-S1_prep2_lossless_Ntb.tif -crop 2000x2000+725+13144 /tmp/tmp.tif\n",
      "convert /media/yuncong/BstemAtlasData/CSHL_data_processed/ChatCryoJane201710/ChatCryoJane201710_prep2_lossless_Ntb/ChatCryoJane201710_slide10-S1_prep2_lossless_Ntb.tif -crop 2000x2000+725+13144 /tmp/tmp.tif\n",
      "aws s3 cp \"/media/yuncong/BstemAtlasData/CSHL_data_processed/ChatCryoJane201710/ChatCryoJane201710_intensity_mapping/ChatCryoJane201710_slide10-S1_to_ChatCryoJane201710_slide9-S1_intensity_mapping_all_regions.npy\" \"s3://mousebrainatlas-data/CSHL_data_processed/ChatCryoJane201710/ChatCryoJane201710_intensity_mapping/ChatCryoJane201710_slide10-S1_to_ChatCryoJane201710_slide9-S1_intensity_mapping_all_regions.npy\"\n",
      "aws s3 cp \"/media/yuncong/BstemAtlasData/CSHL_data_processed/ChatCryoJane201710/ChatCryoJane201710_intensity_mapping/ChatCryoJane201710_slide10-S1_to_ChatCryoJane201710_slide9-S1_region_bboxes.npy\" \"s3://mousebrainatlas-data/CSHL_data_processed/ChatCryoJane201710/ChatCryoJane201710_intensity_mapping/ChatCryoJane201710_slide10-S1_to_ChatCryoJane201710_slide9-S1_region_bboxes.npy\"\n"
     ]
    },
    {
     "name": "stderr",
     "output_type": "stream",
     "text": [
      "ntb 26, ntb 27\n"
     ]
    },
    {
     "name": "stdout",
     "output_type": "stream",
     "text": [
      "rm -rf \"/media/yuncong/BstemAtlasData/CSHL_data_processed/ChatCryoJane201710/ChatCryoJane201710_prep2_thumbnail_mask/ChatCryoJane201710_slide10-S1_prep2_thumbnail_mask.png\" && mkdir -p \"/media/yuncong/BstemAtlasData/CSHL_data_processed/ChatCryoJane201710/ChatCryoJane201710_prep2_thumbnail_mask\"\n",
      "aws s3 cp \"s3://mousebrainatlas-data/CSHL_data_processed/ChatCryoJane201710/ChatCryoJane201710_prep2_thumbnail_mask/ChatCryoJane201710_slide10-S1_prep2_thumbnail_mask.png\" \"/media/yuncong/BstemAtlasData/CSHL_data_processed/ChatCryoJane201710/ChatCryoJane201710_prep2_thumbnail_mask/ChatCryoJane201710_slide10-S1_prep2_thumbnail_mask.png\"\n"
     ]
    },
    {
     "name": "stderr",
     "output_type": "stream",
     "text": [
      "Load NTB1: 0.00 seconds.\n",
      "Load NTB2: 0.00 seconds.\n"
     ]
    },
    {
     "name": "stdout",
     "output_type": "stream",
     "text": [
      "Region 0: x=1189, y=4837, w=2000, h=2000\n",
      "convert /media/yuncong/BstemAtlasData/CSHL_data_processed/ChatCryoJane201710/ChatCryoJane201710_prep2_lossless_Ntb/ChatCryoJane201710_slide10-S1_prep2_lossless_Ntb.tif -crop 2000x2000+1189+4837 /tmp/tmp.tif\n",
      "convert /media/yuncong/BstemAtlasData/CSHL_data_processed/ChatCryoJane201710/ChatCryoJane201710_prep2_lossless_Ntb/ChatCryoJane201710_slide9-S2_prep2_lossless_Ntb.tif -crop 2000x2000+1189+4837 /tmp/tmp.tif\n",
      "Region 1: x=875, y=4116, w=2000, h=2000\n",
      "convert /media/yuncong/BstemAtlasData/CSHL_data_processed/ChatCryoJane201710/ChatCryoJane201710_prep2_lossless_Ntb/ChatCryoJane201710_slide10-S1_prep2_lossless_Ntb.tif -crop 2000x2000+875+4116 /tmp/tmp.tif\n",
      "convert /media/yuncong/BstemAtlasData/CSHL_data_processed/ChatCryoJane201710/ChatCryoJane201710_prep2_lossless_Ntb/ChatCryoJane201710_slide9-S2_prep2_lossless_Ntb.tif -crop 2000x2000+875+4116 /tmp/tmp.tif\n",
      "Region 2: x=7701, y=8126, w=2000, h=2000\n",
      "convert /media/yuncong/BstemAtlasData/CSHL_data_processed/ChatCryoJane201710/ChatCryoJane201710_prep2_lossless_Ntb/ChatCryoJane201710_slide10-S1_prep2_lossless_Ntb.tif -crop 2000x2000+7701+8126 /tmp/tmp.tif\n",
      "convert /media/yuncong/BstemAtlasData/CSHL_data_processed/ChatCryoJane201710/ChatCryoJane201710_prep2_lossless_Ntb/ChatCryoJane201710_slide9-S2_prep2_lossless_Ntb.tif -crop 2000x2000+7701+8126 /tmp/tmp.tif\n",
      "Region 3: x=6640, y=7584, w=2000, h=2000\n",
      "convert /media/yuncong/BstemAtlasData/CSHL_data_processed/ChatCryoJane201710/ChatCryoJane201710_prep2_lossless_Ntb/ChatCryoJane201710_slide10-S1_prep2_lossless_Ntb.tif -crop 2000x2000+6640+7584 /tmp/tmp.tif\n",
      "convert /media/yuncong/BstemAtlasData/CSHL_data_processed/ChatCryoJane201710/ChatCryoJane201710_prep2_lossless_Ntb/ChatCryoJane201710_slide9-S2_prep2_lossless_Ntb.tif -crop 2000x2000+6640+7584 /tmp/tmp.tif\n",
      "Region 4: x=388, y=6666, w=2000, h=2000\n",
      "convert /media/yuncong/BstemAtlasData/CSHL_data_processed/ChatCryoJane201710/ChatCryoJane201710_prep2_lossless_Ntb/ChatCryoJane201710_slide10-S1_prep2_lossless_Ntb.tif -crop 2000x2000+388+6666 /tmp/tmp.tif\n",
      "convert /media/yuncong/BstemAtlasData/CSHL_data_processed/ChatCryoJane201710/ChatCryoJane201710_prep2_lossless_Ntb/ChatCryoJane201710_slide9-S2_prep2_lossless_Ntb.tif -crop 2000x2000+388+6666 /tmp/tmp.tif\n",
      "Region 5: x=2386, y=5191, w=2000, h=2000\n",
      "convert /media/yuncong/BstemAtlasData/CSHL_data_processed/ChatCryoJane201710/ChatCryoJane201710_prep2_lossless_Ntb/ChatCryoJane201710_slide10-S1_prep2_lossless_Ntb.tif -crop 2000x2000+2386+5191 /tmp/tmp.tif\n",
      "convert /media/yuncong/BstemAtlasData/CSHL_data_processed/ChatCryoJane201710/ChatCryoJane201710_prep2_lossless_Ntb/ChatCryoJane201710_slide9-S2_prep2_lossless_Ntb.tif -crop 2000x2000+2386+5191 /tmp/tmp.tif\n",
      "Region 6: x=3967, y=5382, w=2000, h=2000\n",
      "convert /media/yuncong/BstemAtlasData/CSHL_data_processed/ChatCryoJane201710/ChatCryoJane201710_prep2_lossless_Ntb/ChatCryoJane201710_slide10-S1_prep2_lossless_Ntb.tif -crop 2000x2000+3967+5382 /tmp/tmp.tif\n",
      "convert /media/yuncong/BstemAtlasData/CSHL_data_processed/ChatCryoJane201710/ChatCryoJane201710_prep2_lossless_Ntb/ChatCryoJane201710_slide9-S2_prep2_lossless_Ntb.tif -crop 2000x2000+3967+5382 /tmp/tmp.tif\n",
      "Region 7: x=14047, y=5078, w=2000, h=2000\n",
      "convert /media/yuncong/BstemAtlasData/CSHL_data_processed/ChatCryoJane201710/ChatCryoJane201710_prep2_lossless_Ntb/ChatCryoJane201710_slide10-S1_prep2_lossless_Ntb.tif -crop 2000x2000+14047+5078 /tmp/tmp.tif\n",
      "convert /media/yuncong/BstemAtlasData/CSHL_data_processed/ChatCryoJane201710/ChatCryoJane201710_prep2_lossless_Ntb/ChatCryoJane201710_slide9-S2_prep2_lossless_Ntb.tif -crop 2000x2000+14047+5078 /tmp/tmp.tif\n",
      "Region 8: x=1984, y=11415, w=2000, h=2000\n",
      "convert /media/yuncong/BstemAtlasData/CSHL_data_processed/ChatCryoJane201710/ChatCryoJane201710_prep2_lossless_Ntb/ChatCryoJane201710_slide10-S1_prep2_lossless_Ntb.tif -crop 2000x2000+1984+11415 /tmp/tmp.tif\n",
      "convert /media/yuncong/BstemAtlasData/CSHL_data_processed/ChatCryoJane201710/ChatCryoJane201710_prep2_lossless_Ntb/ChatCryoJane201710_slide9-S2_prep2_lossless_Ntb.tif -crop 2000x2000+1984+11415 /tmp/tmp.tif\n",
      "Region 9: x=7517, y=5404, w=2000, h=2000\n",
      "convert /media/yuncong/BstemAtlasData/CSHL_data_processed/ChatCryoJane201710/ChatCryoJane201710_prep2_lossless_Ntb/ChatCryoJane201710_slide10-S1_prep2_lossless_Ntb.tif -crop 2000x2000+7517+5404 /tmp/tmp.tif\n",
      "convert /media/yuncong/BstemAtlasData/CSHL_data_processed/ChatCryoJane201710/ChatCryoJane201710_prep2_lossless_Ntb/ChatCryoJane201710_slide9-S2_prep2_lossless_Ntb.tif -crop 2000x2000+7517+5404 /tmp/tmp.tif\n",
      "aws s3 cp \"/media/yuncong/BstemAtlasData/CSHL_data_processed/ChatCryoJane201710/ChatCryoJane201710_intensity_mapping/ChatCryoJane201710_slide9-S2_to_ChatCryoJane201710_slide10-S1_intensity_mapping_all_regions.npy\" \"s3://mousebrainatlas-data/CSHL_data_processed/ChatCryoJane201710/ChatCryoJane201710_intensity_mapping/ChatCryoJane201710_slide9-S2_to_ChatCryoJane201710_slide10-S1_intensity_mapping_all_regions.npy\"\n",
      "aws s3 cp \"/media/yuncong/BstemAtlasData/CSHL_data_processed/ChatCryoJane201710/ChatCryoJane201710_intensity_mapping/ChatCryoJane201710_slide9-S2_to_ChatCryoJane201710_slide10-S1_region_bboxes.npy\" \"s3://mousebrainatlas-data/CSHL_data_processed/ChatCryoJane201710/ChatCryoJane201710_intensity_mapping/ChatCryoJane201710_slide9-S2_to_ChatCryoJane201710_slide10-S1_region_bboxes.npy\"\n"
     ]
    },
    {
     "name": "stderr",
     "output_type": "stream",
     "text": [
      "ntb 27, ntb 28\n"
     ]
    },
    {
     "name": "stdout",
     "output_type": "stream",
     "text": [
      "rm -rf \"/media/yuncong/BstemAtlasData/CSHL_data_processed/ChatCryoJane201710/ChatCryoJane201710_prep2_thumbnail_mask/ChatCryoJane201710_slide9-S2_prep2_thumbnail_mask.png\" && mkdir -p \"/media/yuncong/BstemAtlasData/CSHL_data_processed/ChatCryoJane201710/ChatCryoJane201710_prep2_thumbnail_mask\"\n",
      "aws s3 cp \"s3://mousebrainatlas-data/CSHL_data_processed/ChatCryoJane201710/ChatCryoJane201710_prep2_thumbnail_mask/ChatCryoJane201710_slide9-S2_prep2_thumbnail_mask.png\" \"/media/yuncong/BstemAtlasData/CSHL_data_processed/ChatCryoJane201710/ChatCryoJane201710_prep2_thumbnail_mask/ChatCryoJane201710_slide9-S2_prep2_thumbnail_mask.png\"\n"
     ]
    },
    {
     "name": "stderr",
     "output_type": "stream",
     "text": [
      "Load NTB1: 0.00 seconds.\n",
      "Load NTB2: 0.00 seconds.\n"
     ]
    },
    {
     "name": "stdout",
     "output_type": "stream",
     "text": [
      "Region 0: x=2744, y=9438, w=2000, h=2000\n",
      "convert /media/yuncong/BstemAtlasData/CSHL_data_processed/ChatCryoJane201710/ChatCryoJane201710_prep2_lossless_Ntb/ChatCryoJane201710_slide9-S2_prep2_lossless_Ntb.tif -crop 2000x2000+2744+9438 /tmp/tmp.tif\n",
      "convert /media/yuncong/BstemAtlasData/CSHL_data_processed/ChatCryoJane201710/ChatCryoJane201710_prep2_lossless_Ntb/ChatCryoJane201710_slide10-S2_prep2_lossless_Ntb.tif -crop 2000x2000+2744+9438 /tmp/tmp.tif\n",
      "Region 1: x=1309, y=6746, w=2000, h=2000\n",
      "convert /media/yuncong/BstemAtlasData/CSHL_data_processed/ChatCryoJane201710/ChatCryoJane201710_prep2_lossless_Ntb/ChatCryoJane201710_slide9-S2_prep2_lossless_Ntb.tif -crop 2000x2000+1309+6746 /tmp/tmp.tif\n",
      "convert /media/yuncong/BstemAtlasData/CSHL_data_processed/ChatCryoJane201710/ChatCryoJane201710_prep2_lossless_Ntb/ChatCryoJane201710_slide10-S2_prep2_lossless_Ntb.tif -crop 2000x2000+1309+6746 /tmp/tmp.tif\n",
      "Region 2: x=2395, y=8785, w=2000, h=2000\n",
      "convert /media/yuncong/BstemAtlasData/CSHL_data_processed/ChatCryoJane201710/ChatCryoJane201710_prep2_lossless_Ntb/ChatCryoJane201710_slide9-S2_prep2_lossless_Ntb.tif -crop 2000x2000+2395+8785 /tmp/tmp.tif\n",
      "convert /media/yuncong/BstemAtlasData/CSHL_data_processed/ChatCryoJane201710/ChatCryoJane201710_prep2_lossless_Ntb/ChatCryoJane201710_slide10-S2_prep2_lossless_Ntb.tif -crop 2000x2000+2395+8785 /tmp/tmp.tif\n",
      "Region 3: x=2337, y=10312, w=2000, h=2000\n",
      "convert /media/yuncong/BstemAtlasData/CSHL_data_processed/ChatCryoJane201710/ChatCryoJane201710_prep2_lossless_Ntb/ChatCryoJane201710_slide9-S2_prep2_lossless_Ntb.tif -crop 2000x2000+2337+10312 /tmp/tmp.tif\n",
      "convert /media/yuncong/BstemAtlasData/CSHL_data_processed/ChatCryoJane201710/ChatCryoJane201710_prep2_lossless_Ntb/ChatCryoJane201710_slide10-S2_prep2_lossless_Ntb.tif -crop 2000x2000+2337+10312 /tmp/tmp.tif\n",
      "Region 4: x=4485, y=8910, w=2000, h=2000\n",
      "convert /media/yuncong/BstemAtlasData/CSHL_data_processed/ChatCryoJane201710/ChatCryoJane201710_prep2_lossless_Ntb/ChatCryoJane201710_slide9-S2_prep2_lossless_Ntb.tif -crop 2000x2000+4485+8910 /tmp/tmp.tif\n",
      "convert /media/yuncong/BstemAtlasData/CSHL_data_processed/ChatCryoJane201710/ChatCryoJane201710_prep2_lossless_Ntb/ChatCryoJane201710_slide10-S2_prep2_lossless_Ntb.tif -crop 2000x2000+4485+8910 /tmp/tmp.tif\n",
      "Region 5: x=1703, y=10126, w=2000, h=2000\n",
      "convert /media/yuncong/BstemAtlasData/CSHL_data_processed/ChatCryoJane201710/ChatCryoJane201710_prep2_lossless_Ntb/ChatCryoJane201710_slide9-S2_prep2_lossless_Ntb.tif -crop 2000x2000+1703+10126 /tmp/tmp.tif\n",
      "convert /media/yuncong/BstemAtlasData/CSHL_data_processed/ChatCryoJane201710/ChatCryoJane201710_prep2_lossless_Ntb/ChatCryoJane201710_slide10-S2_prep2_lossless_Ntb.tif -crop 2000x2000+1703+10126 /tmp/tmp.tif\n",
      "Region 6: x=534, y=3442, w=2000, h=2000\n",
      "convert /media/yuncong/BstemAtlasData/CSHL_data_processed/ChatCryoJane201710/ChatCryoJane201710_prep2_lossless_Ntb/ChatCryoJane201710_slide9-S2_prep2_lossless_Ntb.tif -crop 2000x2000+534+3442 /tmp/tmp.tif\n",
      "convert /media/yuncong/BstemAtlasData/CSHL_data_processed/ChatCryoJane201710/ChatCryoJane201710_prep2_lossless_Ntb/ChatCryoJane201710_slide10-S2_prep2_lossless_Ntb.tif -crop 2000x2000+534+3442 /tmp/tmp.tif\n",
      "Region 7: x=309, y=9254, w=2000, h=2000\n",
      "convert /media/yuncong/BstemAtlasData/CSHL_data_processed/ChatCryoJane201710/ChatCryoJane201710_prep2_lossless_Ntb/ChatCryoJane201710_slide9-S2_prep2_lossless_Ntb.tif -crop 2000x2000+309+9254 /tmp/tmp.tif\n",
      "convert /media/yuncong/BstemAtlasData/CSHL_data_processed/ChatCryoJane201710/ChatCryoJane201710_prep2_lossless_Ntb/ChatCryoJane201710_slide10-S2_prep2_lossless_Ntb.tif -crop 2000x2000+309+9254 /tmp/tmp.tif\n",
      "Region 8: x=574, y=4052, w=2000, h=2000\n",
      "convert /media/yuncong/BstemAtlasData/CSHL_data_processed/ChatCryoJane201710/ChatCryoJane201710_prep2_lossless_Ntb/ChatCryoJane201710_slide9-S2_prep2_lossless_Ntb.tif -crop 2000x2000+574+4052 /tmp/tmp.tif\n",
      "convert /media/yuncong/BstemAtlasData/CSHL_data_processed/ChatCryoJane201710/ChatCryoJane201710_prep2_lossless_Ntb/ChatCryoJane201710_slide10-S2_prep2_lossless_Ntb.tif -crop 2000x2000+574+4052 /tmp/tmp.tif\n",
      "Region 9: x=1414, y=7767, w=2000, h=2000\n",
      "convert /media/yuncong/BstemAtlasData/CSHL_data_processed/ChatCryoJane201710/ChatCryoJane201710_prep2_lossless_Ntb/ChatCryoJane201710_slide9-S2_prep2_lossless_Ntb.tif -crop 2000x2000+1414+7767 /tmp/tmp.tif\n",
      "convert /media/yuncong/BstemAtlasData/CSHL_data_processed/ChatCryoJane201710/ChatCryoJane201710_prep2_lossless_Ntb/ChatCryoJane201710_slide10-S2_prep2_lossless_Ntb.tif -crop 2000x2000+1414+7767 /tmp/tmp.tif\n",
      "aws s3 cp \"/media/yuncong/BstemAtlasData/CSHL_data_processed/ChatCryoJane201710/ChatCryoJane201710_intensity_mapping/ChatCryoJane201710_slide10-S2_to_ChatCryoJane201710_slide9-S2_intensity_mapping_all_regions.npy\" \"s3://mousebrainatlas-data/CSHL_data_processed/ChatCryoJane201710/ChatCryoJane201710_intensity_mapping/ChatCryoJane201710_slide10-S2_to_ChatCryoJane201710_slide9-S2_intensity_mapping_all_regions.npy\"\n",
      "aws s3 cp \"/media/yuncong/BstemAtlasData/CSHL_data_processed/ChatCryoJane201710/ChatCryoJane201710_intensity_mapping/ChatCryoJane201710_slide10-S2_to_ChatCryoJane201710_slide9-S2_region_bboxes.npy\" \"s3://mousebrainatlas-data/CSHL_data_processed/ChatCryoJane201710/ChatCryoJane201710_intensity_mapping/ChatCryoJane201710_slide10-S2_to_ChatCryoJane201710_slide9-S2_region_bboxes.npy\"\n"
     ]
    },
    {
     "name": "stderr",
     "output_type": "stream",
     "text": [
      "ntb 28, ntb 29\n"
     ]
    },
    {
     "name": "stdout",
     "output_type": "stream",
     "text": [
      "rm -rf \"/media/yuncong/BstemAtlasData/CSHL_data_processed/ChatCryoJane201710/ChatCryoJane201710_prep2_thumbnail_mask/ChatCryoJane201710_slide10-S2_prep2_thumbnail_mask.png\" && mkdir -p \"/media/yuncong/BstemAtlasData/CSHL_data_processed/ChatCryoJane201710/ChatCryoJane201710_prep2_thumbnail_mask\"\n",
      "aws s3 cp \"s3://mousebrainatlas-data/CSHL_data_processed/ChatCryoJane201710/ChatCryoJane201710_prep2_thumbnail_mask/ChatCryoJane201710_slide10-S2_prep2_thumbnail_mask.png\" \"/media/yuncong/BstemAtlasData/CSHL_data_processed/ChatCryoJane201710/ChatCryoJane201710_prep2_thumbnail_mask/ChatCryoJane201710_slide10-S2_prep2_thumbnail_mask.png\"\n"
     ]
    },
    {
     "name": "stderr",
     "output_type": "stream",
     "text": [
      "Load NTB1: 0.00 seconds.\n",
      "Load NTB2: 0.00 seconds.\n"
     ]
    },
    {
     "name": "stdout",
     "output_type": "stream",
     "text": [
      "Region 0: x=6858, y=5878, w=2000, h=2000\n",
      "convert /media/yuncong/BstemAtlasData/CSHL_data_processed/ChatCryoJane201710/ChatCryoJane201710_prep2_lossless_Ntb/ChatCryoJane201710_slide10-S2_prep2_lossless_Ntb.tif -crop 2000x2000+6858+5878 /tmp/tmp.tif\n",
      "convert /media/yuncong/BstemAtlasData/CSHL_data_processed/ChatCryoJane201710/ChatCryoJane201710_prep2_lossless_Ntb/ChatCryoJane201710_slide9-S3_prep2_lossless_Ntb.tif -crop 2000x2000+6858+5878 /tmp/tmp.tif\n",
      "Region 1: x=6832, y=2506, w=2000, h=2000\n",
      "convert /media/yuncong/BstemAtlasData/CSHL_data_processed/ChatCryoJane201710/ChatCryoJane201710_prep2_lossless_Ntb/ChatCryoJane201710_slide10-S2_prep2_lossless_Ntb.tif -crop 2000x2000+6832+2506 /tmp/tmp.tif\n",
      "convert /media/yuncong/BstemAtlasData/CSHL_data_processed/ChatCryoJane201710/ChatCryoJane201710_prep2_lossless_Ntb/ChatCryoJane201710_slide9-S3_prep2_lossless_Ntb.tif -crop 2000x2000+6832+2506 /tmp/tmp.tif\n",
      "Region 2: x=196, y=3480, w=2000, h=2000\n",
      "convert /media/yuncong/BstemAtlasData/CSHL_data_processed/ChatCryoJane201710/ChatCryoJane201710_prep2_lossless_Ntb/ChatCryoJane201710_slide10-S2_prep2_lossless_Ntb.tif -crop 2000x2000+196+3480 /tmp/tmp.tif\n",
      "convert /media/yuncong/BstemAtlasData/CSHL_data_processed/ChatCryoJane201710/ChatCryoJane201710_prep2_lossless_Ntb/ChatCryoJane201710_slide9-S3_prep2_lossless_Ntb.tif -crop 2000x2000+196+3480 /tmp/tmp.tif\n",
      "Region 3: x=291, y=13709, w=2000, h=2000\n",
      "convert /media/yuncong/BstemAtlasData/CSHL_data_processed/ChatCryoJane201710/ChatCryoJane201710_prep2_lossless_Ntb/ChatCryoJane201710_slide10-S2_prep2_lossless_Ntb.tif -crop 2000x2000+291+13709 /tmp/tmp.tif\n",
      "convert /media/yuncong/BstemAtlasData/CSHL_data_processed/ChatCryoJane201710/ChatCryoJane201710_prep2_lossless_Ntb/ChatCryoJane201710_slide9-S3_prep2_lossless_Ntb.tif -crop 2000x2000+291+13709 /tmp/tmp.tif\n",
      "Region 4: x=7867, y=2109, w=2000, h=2000\n",
      "convert /media/yuncong/BstemAtlasData/CSHL_data_processed/ChatCryoJane201710/ChatCryoJane201710_prep2_lossless_Ntb/ChatCryoJane201710_slide10-S2_prep2_lossless_Ntb.tif -crop 2000x2000+7867+2109 /tmp/tmp.tif\n",
      "convert /media/yuncong/BstemAtlasData/CSHL_data_processed/ChatCryoJane201710/ChatCryoJane201710_prep2_lossless_Ntb/ChatCryoJane201710_slide9-S3_prep2_lossless_Ntb.tif -crop 2000x2000+7867+2109 /tmp/tmp.tif\n",
      "Region 5: x=7773, y=9504, w=2000, h=2000\n",
      "convert /media/yuncong/BstemAtlasData/CSHL_data_processed/ChatCryoJane201710/ChatCryoJane201710_prep2_lossless_Ntb/ChatCryoJane201710_slide10-S2_prep2_lossless_Ntb.tif -crop 2000x2000+7773+9504 /tmp/tmp.tif\n",
      "convert /media/yuncong/BstemAtlasData/CSHL_data_processed/ChatCryoJane201710/ChatCryoJane201710_prep2_lossless_Ntb/ChatCryoJane201710_slide9-S3_prep2_lossless_Ntb.tif -crop 2000x2000+7773+9504 /tmp/tmp.tif\n",
      "Region 6: x=890, y=13987, w=2000, h=2000\n",
      "convert /media/yuncong/BstemAtlasData/CSHL_data_processed/ChatCryoJane201710/ChatCryoJane201710_prep2_lossless_Ntb/ChatCryoJane201710_slide10-S2_prep2_lossless_Ntb.tif -crop 2000x2000+890+13987 /tmp/tmp.tif\n",
      "convert /media/yuncong/BstemAtlasData/CSHL_data_processed/ChatCryoJane201710/ChatCryoJane201710_prep2_lossless_Ntb/ChatCryoJane201710_slide9-S3_prep2_lossless_Ntb.tif -crop 2000x2000+890+13987 /tmp/tmp.tif\n",
      "Region 7: x=645, y=5383, w=2000, h=2000\n",
      "convert /media/yuncong/BstemAtlasData/CSHL_data_processed/ChatCryoJane201710/ChatCryoJane201710_prep2_lossless_Ntb/ChatCryoJane201710_slide10-S2_prep2_lossless_Ntb.tif -crop 2000x2000+645+5383 /tmp/tmp.tif\n",
      "convert /media/yuncong/BstemAtlasData/CSHL_data_processed/ChatCryoJane201710/ChatCryoJane201710_prep2_lossless_Ntb/ChatCryoJane201710_slide9-S3_prep2_lossless_Ntb.tif -crop 2000x2000+645+5383 /tmp/tmp.tif\n",
      "Region 8: x=3213, y=7347, w=2000, h=2000\n",
      "convert /media/yuncong/BstemAtlasData/CSHL_data_processed/ChatCryoJane201710/ChatCryoJane201710_prep2_lossless_Ntb/ChatCryoJane201710_slide10-S2_prep2_lossless_Ntb.tif -crop 2000x2000+3213+7347 /tmp/tmp.tif\n",
      "convert /media/yuncong/BstemAtlasData/CSHL_data_processed/ChatCryoJane201710/ChatCryoJane201710_prep2_lossless_Ntb/ChatCryoJane201710_slide9-S3_prep2_lossless_Ntb.tif -crop 2000x2000+3213+7347 /tmp/tmp.tif\n",
      "Region 9: x=2570, y=10083, w=2000, h=2000\n",
      "convert /media/yuncong/BstemAtlasData/CSHL_data_processed/ChatCryoJane201710/ChatCryoJane201710_prep2_lossless_Ntb/ChatCryoJane201710_slide10-S2_prep2_lossless_Ntb.tif -crop 2000x2000+2570+10083 /tmp/tmp.tif\n",
      "convert /media/yuncong/BstemAtlasData/CSHL_data_processed/ChatCryoJane201710/ChatCryoJane201710_prep2_lossless_Ntb/ChatCryoJane201710_slide9-S3_prep2_lossless_Ntb.tif -crop 2000x2000+2570+10083 /tmp/tmp.tif\n",
      "aws s3 cp \"/media/yuncong/BstemAtlasData/CSHL_data_processed/ChatCryoJane201710/ChatCryoJane201710_intensity_mapping/ChatCryoJane201710_slide9-S3_to_ChatCryoJane201710_slide10-S2_intensity_mapping_all_regions.npy\" \"s3://mousebrainatlas-data/CSHL_data_processed/ChatCryoJane201710/ChatCryoJane201710_intensity_mapping/ChatCryoJane201710_slide9-S3_to_ChatCryoJane201710_slide10-S2_intensity_mapping_all_regions.npy\"\n",
      "aws s3 cp \"/media/yuncong/BstemAtlasData/CSHL_data_processed/ChatCryoJane201710/ChatCryoJane201710_intensity_mapping/ChatCryoJane201710_slide9-S3_to_ChatCryoJane201710_slide10-S2_region_bboxes.npy\" \"s3://mousebrainatlas-data/CSHL_data_processed/ChatCryoJane201710/ChatCryoJane201710_intensity_mapping/ChatCryoJane201710_slide9-S3_to_ChatCryoJane201710_slide10-S2_region_bboxes.npy\"\n"
     ]
    },
    {
     "name": "stderr",
     "output_type": "stream",
     "text": [
      "ntb 29, ntb 30\n"
     ]
    },
    {
     "name": "stdout",
     "output_type": "stream",
     "text": [
      "rm -rf \"/media/yuncong/BstemAtlasData/CSHL_data_processed/ChatCryoJane201710/ChatCryoJane201710_prep2_thumbnail_mask/ChatCryoJane201710_slide9-S3_prep2_thumbnail_mask.png\" && mkdir -p \"/media/yuncong/BstemAtlasData/CSHL_data_processed/ChatCryoJane201710/ChatCryoJane201710_prep2_thumbnail_mask\"\n",
      "aws s3 cp \"s3://mousebrainatlas-data/CSHL_data_processed/ChatCryoJane201710/ChatCryoJane201710_prep2_thumbnail_mask/ChatCryoJane201710_slide9-S3_prep2_thumbnail_mask.png\" \"/media/yuncong/BstemAtlasData/CSHL_data_processed/ChatCryoJane201710/ChatCryoJane201710_prep2_thumbnail_mask/ChatCryoJane201710_slide9-S3_prep2_thumbnail_mask.png\"\n"
     ]
    },
    {
     "name": "stderr",
     "output_type": "stream",
     "text": [
      "Load NTB1: 0.00 seconds.\n",
      "Load NTB2: 0.00 seconds.\n"
     ]
    },
    {
     "name": "stdout",
     "output_type": "stream",
     "text": [
      "Region 0: x=121, y=2168, w=2000, h=2000\n",
      "convert /media/yuncong/BstemAtlasData/CSHL_data_processed/ChatCryoJane201710/ChatCryoJane201710_prep2_lossless_Ntb/ChatCryoJane201710_slide9-S3_prep2_lossless_Ntb.tif -crop 2000x2000+121+2168 /tmp/tmp.tif\n",
      "convert /media/yuncong/BstemAtlasData/CSHL_data_processed/ChatCryoJane201710/ChatCryoJane201710_prep2_lossless_Ntb/ChatCryoJane201710_slide10-S3_prep2_lossless_Ntb.tif -crop 2000x2000+121+2168 /tmp/tmp.tif\n",
      "Region 1: x=2155, y=13627, w=2000, h=2000\n",
      "convert /media/yuncong/BstemAtlasData/CSHL_data_processed/ChatCryoJane201710/ChatCryoJane201710_prep2_lossless_Ntb/ChatCryoJane201710_slide9-S3_prep2_lossless_Ntb.tif -crop 2000x2000+2155+13627 /tmp/tmp.tif\n",
      "convert /media/yuncong/BstemAtlasData/CSHL_data_processed/ChatCryoJane201710/ChatCryoJane201710_prep2_lossless_Ntb/ChatCryoJane201710_slide10-S3_prep2_lossless_Ntb.tif -crop 2000x2000+2155+13627 /tmp/tmp.tif\n",
      "Region 2: x=12880, y=4472, w=2000, h=2000\n",
      "convert /media/yuncong/BstemAtlasData/CSHL_data_processed/ChatCryoJane201710/ChatCryoJane201710_prep2_lossless_Ntb/ChatCryoJane201710_slide9-S3_prep2_lossless_Ntb.tif -crop 2000x2000+12880+4472 /tmp/tmp.tif\n",
      "convert /media/yuncong/BstemAtlasData/CSHL_data_processed/ChatCryoJane201710/ChatCryoJane201710_prep2_lossless_Ntb/ChatCryoJane201710_slide10-S3_prep2_lossless_Ntb.tif -crop 2000x2000+12880+4472 /tmp/tmp.tif\n",
      "Region 3: x=803, y=11509, w=2000, h=2000\n",
      "convert /media/yuncong/BstemAtlasData/CSHL_data_processed/ChatCryoJane201710/ChatCryoJane201710_prep2_lossless_Ntb/ChatCryoJane201710_slide9-S3_prep2_lossless_Ntb.tif -crop 2000x2000+803+11509 /tmp/tmp.tif\n",
      "convert /media/yuncong/BstemAtlasData/CSHL_data_processed/ChatCryoJane201710/ChatCryoJane201710_prep2_lossless_Ntb/ChatCryoJane201710_slide10-S3_prep2_lossless_Ntb.tif -crop 2000x2000+803+11509 /tmp/tmp.tif\n",
      "Region 4: x=5617, y=4793, w=2000, h=2000\n",
      "convert /media/yuncong/BstemAtlasData/CSHL_data_processed/ChatCryoJane201710/ChatCryoJane201710_prep2_lossless_Ntb/ChatCryoJane201710_slide9-S3_prep2_lossless_Ntb.tif -crop 2000x2000+5617+4793 /tmp/tmp.tif\n",
      "convert /media/yuncong/BstemAtlasData/CSHL_data_processed/ChatCryoJane201710/ChatCryoJane201710_prep2_lossless_Ntb/ChatCryoJane201710_slide10-S3_prep2_lossless_Ntb.tif -crop 2000x2000+5617+4793 /tmp/tmp.tif\n",
      "Region 5: x=1015, y=8635, w=2000, h=2000\n",
      "convert /media/yuncong/BstemAtlasData/CSHL_data_processed/ChatCryoJane201710/ChatCryoJane201710_prep2_lossless_Ntb/ChatCryoJane201710_slide9-S3_prep2_lossless_Ntb.tif -crop 2000x2000+1015+8635 /tmp/tmp.tif\n",
      "convert /media/yuncong/BstemAtlasData/CSHL_data_processed/ChatCryoJane201710/ChatCryoJane201710_prep2_lossless_Ntb/ChatCryoJane201710_slide10-S3_prep2_lossless_Ntb.tif -crop 2000x2000+1015+8635 /tmp/tmp.tif\n",
      "Region 6: x=7851, y=8812, w=2000, h=2000\n",
      "convert /media/yuncong/BstemAtlasData/CSHL_data_processed/ChatCryoJane201710/ChatCryoJane201710_prep2_lossless_Ntb/ChatCryoJane201710_slide9-S3_prep2_lossless_Ntb.tif -crop 2000x2000+7851+8812 /tmp/tmp.tif\n",
      "convert /media/yuncong/BstemAtlasData/CSHL_data_processed/ChatCryoJane201710/ChatCryoJane201710_prep2_lossless_Ntb/ChatCryoJane201710_slide10-S3_prep2_lossless_Ntb.tif -crop 2000x2000+7851+8812 /tmp/tmp.tif\n",
      "Region 7: x=3914, y=925, w=2000, h=2000\n",
      "convert /media/yuncong/BstemAtlasData/CSHL_data_processed/ChatCryoJane201710/ChatCryoJane201710_prep2_lossless_Ntb/ChatCryoJane201710_slide9-S3_prep2_lossless_Ntb.tif -crop 2000x2000+3914+925 /tmp/tmp.tif\n",
      "convert /media/yuncong/BstemAtlasData/CSHL_data_processed/ChatCryoJane201710/ChatCryoJane201710_prep2_lossless_Ntb/ChatCryoJane201710_slide10-S3_prep2_lossless_Ntb.tif -crop 2000x2000+3914+925 /tmp/tmp.tif\n",
      "Region 8: x=6105, y=8033, w=2000, h=2000\n",
      "convert /media/yuncong/BstemAtlasData/CSHL_data_processed/ChatCryoJane201710/ChatCryoJane201710_prep2_lossless_Ntb/ChatCryoJane201710_slide9-S3_prep2_lossless_Ntb.tif -crop 2000x2000+6105+8033 /tmp/tmp.tif\n",
      "convert /media/yuncong/BstemAtlasData/CSHL_data_processed/ChatCryoJane201710/ChatCryoJane201710_prep2_lossless_Ntb/ChatCryoJane201710_slide10-S3_prep2_lossless_Ntb.tif -crop 2000x2000+6105+8033 /tmp/tmp.tif\n",
      "Region 9: x=10927, y=3597, w=2000, h=2000\n",
      "convert /media/yuncong/BstemAtlasData/CSHL_data_processed/ChatCryoJane201710/ChatCryoJane201710_prep2_lossless_Ntb/ChatCryoJane201710_slide9-S3_prep2_lossless_Ntb.tif -crop 2000x2000+10927+3597 /tmp/tmp.tif\n",
      "convert /media/yuncong/BstemAtlasData/CSHL_data_processed/ChatCryoJane201710/ChatCryoJane201710_prep2_lossless_Ntb/ChatCryoJane201710_slide10-S3_prep2_lossless_Ntb.tif -crop 2000x2000+10927+3597 /tmp/tmp.tif\n",
      "aws s3 cp \"/media/yuncong/BstemAtlasData/CSHL_data_processed/ChatCryoJane201710/ChatCryoJane201710_intensity_mapping/ChatCryoJane201710_slide10-S3_to_ChatCryoJane201710_slide9-S3_intensity_mapping_all_regions.npy\" \"s3://mousebrainatlas-data/CSHL_data_processed/ChatCryoJane201710/ChatCryoJane201710_intensity_mapping/ChatCryoJane201710_slide10-S3_to_ChatCryoJane201710_slide9-S3_intensity_mapping_all_regions.npy\"\n",
      "aws s3 cp \"/media/yuncong/BstemAtlasData/CSHL_data_processed/ChatCryoJane201710/ChatCryoJane201710_intensity_mapping/ChatCryoJane201710_slide10-S3_to_ChatCryoJane201710_slide9-S3_region_bboxes.npy\" \"s3://mousebrainatlas-data/CSHL_data_processed/ChatCryoJane201710/ChatCryoJane201710_intensity_mapping/ChatCryoJane201710_slide10-S3_to_ChatCryoJane201710_slide9-S3_region_bboxes.npy\"\n"
     ]
    },
    {
     "name": "stderr",
     "output_type": "stream",
     "text": [
      "ntb 30, ntb 31\n"
     ]
    },
    {
     "name": "stdout",
     "output_type": "stream",
     "text": [
      "rm -rf \"/media/yuncong/BstemAtlasData/CSHL_data_processed/ChatCryoJane201710/ChatCryoJane201710_prep2_thumbnail_mask/ChatCryoJane201710_slide10-S3_prep2_thumbnail_mask.png\" && mkdir -p \"/media/yuncong/BstemAtlasData/CSHL_data_processed/ChatCryoJane201710/ChatCryoJane201710_prep2_thumbnail_mask\"\n",
      "aws s3 cp \"s3://mousebrainatlas-data/CSHL_data_processed/ChatCryoJane201710/ChatCryoJane201710_prep2_thumbnail_mask/ChatCryoJane201710_slide10-S3_prep2_thumbnail_mask.png\" \"/media/yuncong/BstemAtlasData/CSHL_data_processed/ChatCryoJane201710/ChatCryoJane201710_prep2_thumbnail_mask/ChatCryoJane201710_slide10-S3_prep2_thumbnail_mask.png\"\n"
     ]
    },
    {
     "name": "stderr",
     "output_type": "stream",
     "text": [
      "Load NTB1: 0.00 seconds.\n",
      "Load NTB2: 0.00 seconds.\n"
     ]
    },
    {
     "name": "stdout",
     "output_type": "stream",
     "text": [
      "Region 0: x=2273, y=3857, w=2000, h=2000\n",
      "convert /media/yuncong/BstemAtlasData/CSHL_data_processed/ChatCryoJane201710/ChatCryoJane201710_prep2_lossless_Ntb/ChatCryoJane201710_slide10-S3_prep2_lossless_Ntb.tif -crop 2000x2000+2273+3857 /tmp/tmp.tif\n",
      "convert /media/yuncong/BstemAtlasData/CSHL_data_processed/ChatCryoJane201710/ChatCryoJane201710_prep2_lossless_Ntb/ChatCryoJane201710_slide11-S1_prep2_lossless_Ntb.tif -crop 2000x2000+2273+3857 /tmp/tmp.tif\n",
      "Region 1: x=4551, y=4259, w=2000, h=2000\n",
      "convert /media/yuncong/BstemAtlasData/CSHL_data_processed/ChatCryoJane201710/ChatCryoJane201710_prep2_lossless_Ntb/ChatCryoJane201710_slide10-S3_prep2_lossless_Ntb.tif -crop 2000x2000+4551+4259 /tmp/tmp.tif\n",
      "convert /media/yuncong/BstemAtlasData/CSHL_data_processed/ChatCryoJane201710/ChatCryoJane201710_prep2_lossless_Ntb/ChatCryoJane201710_slide11-S1_prep2_lossless_Ntb.tif -crop 2000x2000+4551+4259 /tmp/tmp.tif\n",
      "Region 2: x=7066, y=7910, w=2000, h=2000\n",
      "convert /media/yuncong/BstemAtlasData/CSHL_data_processed/ChatCryoJane201710/ChatCryoJane201710_prep2_lossless_Ntb/ChatCryoJane201710_slide10-S3_prep2_lossless_Ntb.tif -crop 2000x2000+7066+7910 /tmp/tmp.tif\n",
      "convert /media/yuncong/BstemAtlasData/CSHL_data_processed/ChatCryoJane201710/ChatCryoJane201710_prep2_lossless_Ntb/ChatCryoJane201710_slide11-S1_prep2_lossless_Ntb.tif -crop 2000x2000+7066+7910 /tmp/tmp.tif\n",
      "Region 3: x=5175, y=11235, w=2000, h=2000\n",
      "convert /media/yuncong/BstemAtlasData/CSHL_data_processed/ChatCryoJane201710/ChatCryoJane201710_prep2_lossless_Ntb/ChatCryoJane201710_slide10-S3_prep2_lossless_Ntb.tif -crop 2000x2000+5175+11235 /tmp/tmp.tif\n",
      "convert /media/yuncong/BstemAtlasData/CSHL_data_processed/ChatCryoJane201710/ChatCryoJane201710_prep2_lossless_Ntb/ChatCryoJane201710_slide11-S1_prep2_lossless_Ntb.tif -crop 2000x2000+5175+11235 /tmp/tmp.tif\n",
      "Region 4: x=14052, y=5833, w=2000, h=2000\n",
      "convert /media/yuncong/BstemAtlasData/CSHL_data_processed/ChatCryoJane201710/ChatCryoJane201710_prep2_lossless_Ntb/ChatCryoJane201710_slide10-S3_prep2_lossless_Ntb.tif -crop 2000x2000+14052+5833 /tmp/tmp.tif\n",
      "convert /media/yuncong/BstemAtlasData/CSHL_data_processed/ChatCryoJane201710/ChatCryoJane201710_prep2_lossless_Ntb/ChatCryoJane201710_slide11-S1_prep2_lossless_Ntb.tif -crop 2000x2000+14052+5833 /tmp/tmp.tif\n",
      "Region 5: x=8209, y=5717, w=2000, h=2000\n",
      "convert /media/yuncong/BstemAtlasData/CSHL_data_processed/ChatCryoJane201710/ChatCryoJane201710_prep2_lossless_Ntb/ChatCryoJane201710_slide10-S3_prep2_lossless_Ntb.tif -crop 2000x2000+8209+5717 /tmp/tmp.tif\n",
      "convert /media/yuncong/BstemAtlasData/CSHL_data_processed/ChatCryoJane201710/ChatCryoJane201710_prep2_lossless_Ntb/ChatCryoJane201710_slide11-S1_prep2_lossless_Ntb.tif -crop 2000x2000+8209+5717 /tmp/tmp.tif\n",
      "Region 6: x=3744, y=13939, w=2000, h=2000\n",
      "convert /media/yuncong/BstemAtlasData/CSHL_data_processed/ChatCryoJane201710/ChatCryoJane201710_prep2_lossless_Ntb/ChatCryoJane201710_slide10-S3_prep2_lossless_Ntb.tif -crop 2000x2000+3744+13939 /tmp/tmp.tif\n",
      "convert /media/yuncong/BstemAtlasData/CSHL_data_processed/ChatCryoJane201710/ChatCryoJane201710_prep2_lossless_Ntb/ChatCryoJane201710_slide11-S1_prep2_lossless_Ntb.tif -crop 2000x2000+3744+13939 /tmp/tmp.tif\n",
      "Region 7: x=16435, y=5256, w=2000, h=2000\n",
      "convert /media/yuncong/BstemAtlasData/CSHL_data_processed/ChatCryoJane201710/ChatCryoJane201710_prep2_lossless_Ntb/ChatCryoJane201710_slide10-S3_prep2_lossless_Ntb.tif -crop 2000x2000+16435+5256 /tmp/tmp.tif\n",
      "convert /media/yuncong/BstemAtlasData/CSHL_data_processed/ChatCryoJane201710/ChatCryoJane201710_prep2_lossless_Ntb/ChatCryoJane201710_slide11-S1_prep2_lossless_Ntb.tif -crop 2000x2000+16435+5256 /tmp/tmp.tif\n",
      "Region 8: x=11369, y=4811, w=2000, h=2000\n",
      "convert /media/yuncong/BstemAtlasData/CSHL_data_processed/ChatCryoJane201710/ChatCryoJane201710_prep2_lossless_Ntb/ChatCryoJane201710_slide10-S3_prep2_lossless_Ntb.tif -crop 2000x2000+11369+4811 /tmp/tmp.tif\n",
      "convert /media/yuncong/BstemAtlasData/CSHL_data_processed/ChatCryoJane201710/ChatCryoJane201710_prep2_lossless_Ntb/ChatCryoJane201710_slide11-S1_prep2_lossless_Ntb.tif -crop 2000x2000+11369+4811 /tmp/tmp.tif\n",
      "Region 9: x=284, y=9931, w=2000, h=2000\n",
      "convert /media/yuncong/BstemAtlasData/CSHL_data_processed/ChatCryoJane201710/ChatCryoJane201710_prep2_lossless_Ntb/ChatCryoJane201710_slide10-S3_prep2_lossless_Ntb.tif -crop 2000x2000+284+9931 /tmp/tmp.tif\n",
      "convert /media/yuncong/BstemAtlasData/CSHL_data_processed/ChatCryoJane201710/ChatCryoJane201710_prep2_lossless_Ntb/ChatCryoJane201710_slide11-S1_prep2_lossless_Ntb.tif -crop 2000x2000+284+9931 /tmp/tmp.tif\n",
      "aws s3 cp \"/media/yuncong/BstemAtlasData/CSHL_data_processed/ChatCryoJane201710/ChatCryoJane201710_intensity_mapping/ChatCryoJane201710_slide11-S1_to_ChatCryoJane201710_slide10-S3_intensity_mapping_all_regions.npy\" \"s3://mousebrainatlas-data/CSHL_data_processed/ChatCryoJane201710/ChatCryoJane201710_intensity_mapping/ChatCryoJane201710_slide11-S1_to_ChatCryoJane201710_slide10-S3_intensity_mapping_all_regions.npy\"\n",
      "aws s3 cp \"/media/yuncong/BstemAtlasData/CSHL_data_processed/ChatCryoJane201710/ChatCryoJane201710_intensity_mapping/ChatCryoJane201710_slide11-S1_to_ChatCryoJane201710_slide10-S3_region_bboxes.npy\" \"s3://mousebrainatlas-data/CSHL_data_processed/ChatCryoJane201710/ChatCryoJane201710_intensity_mapping/ChatCryoJane201710_slide11-S1_to_ChatCryoJane201710_slide10-S3_region_bboxes.npy\"\n"
     ]
    },
    {
     "name": "stderr",
     "output_type": "stream",
     "text": [
      "ntb 31, ntb 32\n"
     ]
    },
    {
     "name": "stdout",
     "output_type": "stream",
     "text": [
      "rm -rf \"/media/yuncong/BstemAtlasData/CSHL_data_processed/ChatCryoJane201710/ChatCryoJane201710_prep2_thumbnail_mask/ChatCryoJane201710_slide11-S1_prep2_thumbnail_mask.png\" && mkdir -p \"/media/yuncong/BstemAtlasData/CSHL_data_processed/ChatCryoJane201710/ChatCryoJane201710_prep2_thumbnail_mask\"\n",
      "aws s3 cp \"s3://mousebrainatlas-data/CSHL_data_processed/ChatCryoJane201710/ChatCryoJane201710_prep2_thumbnail_mask/ChatCryoJane201710_slide11-S1_prep2_thumbnail_mask.png\" \"/media/yuncong/BstemAtlasData/CSHL_data_processed/ChatCryoJane201710/ChatCryoJane201710_prep2_thumbnail_mask/ChatCryoJane201710_slide11-S1_prep2_thumbnail_mask.png\"\n"
     ]
    },
    {
     "name": "stderr",
     "output_type": "stream",
     "text": [
      "Load NTB1: 0.00 seconds.\n",
      "Load NTB2: 0.00 seconds.\n"
     ]
    },
    {
     "name": "stdout",
     "output_type": "stream",
     "text": [
      "Region 0: x=227, y=14275, w=2000, h=2000\n",
      "convert /media/yuncong/BstemAtlasData/CSHL_data_processed/ChatCryoJane201710/ChatCryoJane201710_prep2_lossless_Ntb/ChatCryoJane201710_slide11-S1_prep2_lossless_Ntb.tif -crop 2000x2000+227+14275 /tmp/tmp.tif\n",
      "convert /media/yuncong/BstemAtlasData/CSHL_data_processed/ChatCryoJane201710/ChatCryoJane201710_prep2_lossless_Ntb/ChatCryoJane201710_slide12-S1_prep2_lossless_Ntb.tif -crop 2000x2000+227+14275 /tmp/tmp.tif\n",
      "Region 1: x=10116, y=6384, w=2000, h=2000\n",
      "convert /media/yuncong/BstemAtlasData/CSHL_data_processed/ChatCryoJane201710/ChatCryoJane201710_prep2_lossless_Ntb/ChatCryoJane201710_slide11-S1_prep2_lossless_Ntb.tif -crop 2000x2000+10116+6384 /tmp/tmp.tif\n",
      "convert /media/yuncong/BstemAtlasData/CSHL_data_processed/ChatCryoJane201710/ChatCryoJane201710_prep2_lossless_Ntb/ChatCryoJane201710_slide12-S1_prep2_lossless_Ntb.tif -crop 2000x2000+10116+6384 /tmp/tmp.tif\n",
      "Region 2: x=5303, y=1072, w=2000, h=2000\n",
      "convert /media/yuncong/BstemAtlasData/CSHL_data_processed/ChatCryoJane201710/ChatCryoJane201710_prep2_lossless_Ntb/ChatCryoJane201710_slide11-S1_prep2_lossless_Ntb.tif -crop 2000x2000+5303+1072 /tmp/tmp.tif\n",
      "convert /media/yuncong/BstemAtlasData/CSHL_data_processed/ChatCryoJane201710/ChatCryoJane201710_prep2_lossless_Ntb/ChatCryoJane201710_slide12-S1_prep2_lossless_Ntb.tif -crop 2000x2000+5303+1072 /tmp/tmp.tif\n",
      "Region 3: x=4363, y=7009, w=2000, h=2000\n",
      "convert /media/yuncong/BstemAtlasData/CSHL_data_processed/ChatCryoJane201710/ChatCryoJane201710_prep2_lossless_Ntb/ChatCryoJane201710_slide11-S1_prep2_lossless_Ntb.tif -crop 2000x2000+4363+7009 /tmp/tmp.tif\n",
      "convert /media/yuncong/BstemAtlasData/CSHL_data_processed/ChatCryoJane201710/ChatCryoJane201710_prep2_lossless_Ntb/ChatCryoJane201710_slide12-S1_prep2_lossless_Ntb.tif -crop 2000x2000+4363+7009 /tmp/tmp.tif\n",
      "Region 4: x=11147, y=6551, w=2000, h=2000\n",
      "convert /media/yuncong/BstemAtlasData/CSHL_data_processed/ChatCryoJane201710/ChatCryoJane201710_prep2_lossless_Ntb/ChatCryoJane201710_slide11-S1_prep2_lossless_Ntb.tif -crop 2000x2000+11147+6551 /tmp/tmp.tif\n",
      "convert /media/yuncong/BstemAtlasData/CSHL_data_processed/ChatCryoJane201710/ChatCryoJane201710_prep2_lossless_Ntb/ChatCryoJane201710_slide12-S1_prep2_lossless_Ntb.tif -crop 2000x2000+11147+6551 /tmp/tmp.tif\n",
      "Region 5: x=4279, y=7748, w=2000, h=2000\n",
      "convert /media/yuncong/BstemAtlasData/CSHL_data_processed/ChatCryoJane201710/ChatCryoJane201710_prep2_lossless_Ntb/ChatCryoJane201710_slide11-S1_prep2_lossless_Ntb.tif -crop 2000x2000+4279+7748 /tmp/tmp.tif\n",
      "convert /media/yuncong/BstemAtlasData/CSHL_data_processed/ChatCryoJane201710/ChatCryoJane201710_prep2_lossless_Ntb/ChatCryoJane201710_slide12-S1_prep2_lossless_Ntb.tif -crop 2000x2000+4279+7748 /tmp/tmp.tif\n",
      "Region 6: x=2234, y=2672, w=2000, h=2000\n",
      "convert /media/yuncong/BstemAtlasData/CSHL_data_processed/ChatCryoJane201710/ChatCryoJane201710_prep2_lossless_Ntb/ChatCryoJane201710_slide11-S1_prep2_lossless_Ntb.tif -crop 2000x2000+2234+2672 /tmp/tmp.tif\n",
      "convert /media/yuncong/BstemAtlasData/CSHL_data_processed/ChatCryoJane201710/ChatCryoJane201710_prep2_lossless_Ntb/ChatCryoJane201710_slide12-S1_prep2_lossless_Ntb.tif -crop 2000x2000+2234+2672 /tmp/tmp.tif\n",
      "Region 7: x=1581, y=13363, w=2000, h=2000\n",
      "convert /media/yuncong/BstemAtlasData/CSHL_data_processed/ChatCryoJane201710/ChatCryoJane201710_prep2_lossless_Ntb/ChatCryoJane201710_slide11-S1_prep2_lossless_Ntb.tif -crop 2000x2000+1581+13363 /tmp/tmp.tif\n",
      "convert /media/yuncong/BstemAtlasData/CSHL_data_processed/ChatCryoJane201710/ChatCryoJane201710_prep2_lossless_Ntb/ChatCryoJane201710_slide12-S1_prep2_lossless_Ntb.tif -crop 2000x2000+1581+13363 /tmp/tmp.tif\n",
      "Region 8: x=6312, y=5321, w=2000, h=2000\n",
      "convert /media/yuncong/BstemAtlasData/CSHL_data_processed/ChatCryoJane201710/ChatCryoJane201710_prep2_lossless_Ntb/ChatCryoJane201710_slide11-S1_prep2_lossless_Ntb.tif -crop 2000x2000+6312+5321 /tmp/tmp.tif\n",
      "convert /media/yuncong/BstemAtlasData/CSHL_data_processed/ChatCryoJane201710/ChatCryoJane201710_prep2_lossless_Ntb/ChatCryoJane201710_slide12-S1_prep2_lossless_Ntb.tif -crop 2000x2000+6312+5321 /tmp/tmp.tif\n",
      "Region 9: x=5256, y=5986, w=2000, h=2000\n",
      "convert /media/yuncong/BstemAtlasData/CSHL_data_processed/ChatCryoJane201710/ChatCryoJane201710_prep2_lossless_Ntb/ChatCryoJane201710_slide11-S1_prep2_lossless_Ntb.tif -crop 2000x2000+5256+5986 /tmp/tmp.tif\n",
      "convert /media/yuncong/BstemAtlasData/CSHL_data_processed/ChatCryoJane201710/ChatCryoJane201710_prep2_lossless_Ntb/ChatCryoJane201710_slide12-S1_prep2_lossless_Ntb.tif -crop 2000x2000+5256+5986 /tmp/tmp.tif\n",
      "aws s3 cp \"/media/yuncong/BstemAtlasData/CSHL_data_processed/ChatCryoJane201710/ChatCryoJane201710_intensity_mapping/ChatCryoJane201710_slide12-S1_to_ChatCryoJane201710_slide11-S1_intensity_mapping_all_regions.npy\" \"s3://mousebrainatlas-data/CSHL_data_processed/ChatCryoJane201710/ChatCryoJane201710_intensity_mapping/ChatCryoJane201710_slide12-S1_to_ChatCryoJane201710_slide11-S1_intensity_mapping_all_regions.npy\"\n",
      "aws s3 cp \"/media/yuncong/BstemAtlasData/CSHL_data_processed/ChatCryoJane201710/ChatCryoJane201710_intensity_mapping/ChatCryoJane201710_slide12-S1_to_ChatCryoJane201710_slide11-S1_region_bboxes.npy\" \"s3://mousebrainatlas-data/CSHL_data_processed/ChatCryoJane201710/ChatCryoJane201710_intensity_mapping/ChatCryoJane201710_slide12-S1_to_ChatCryoJane201710_slide11-S1_region_bboxes.npy\"\n"
     ]
    },
    {
     "name": "stderr",
     "output_type": "stream",
     "text": [
      "ntb 32, ntb 33\n"
     ]
    },
    {
     "name": "stdout",
     "output_type": "stream",
     "text": [
      "rm -rf \"/media/yuncong/BstemAtlasData/CSHL_data_processed/ChatCryoJane201710/ChatCryoJane201710_prep2_thumbnail_mask/ChatCryoJane201710_slide12-S1_prep2_thumbnail_mask.png\" && mkdir -p \"/media/yuncong/BstemAtlasData/CSHL_data_processed/ChatCryoJane201710/ChatCryoJane201710_prep2_thumbnail_mask\"\n",
      "aws s3 cp \"s3://mousebrainatlas-data/CSHL_data_processed/ChatCryoJane201710/ChatCryoJane201710_prep2_thumbnail_mask/ChatCryoJane201710_slide12-S1_prep2_thumbnail_mask.png\" \"/media/yuncong/BstemAtlasData/CSHL_data_processed/ChatCryoJane201710/ChatCryoJane201710_prep2_thumbnail_mask/ChatCryoJane201710_slide12-S1_prep2_thumbnail_mask.png\"\n"
     ]
    },
    {
     "name": "stderr",
     "output_type": "stream",
     "text": [
      "Load NTB1: 0.00 seconds.\n",
      "Load NTB2: 0.00 seconds.\n"
     ]
    },
    {
     "name": "stdout",
     "output_type": "stream",
     "text": [
      "Region 0: x=828, y=13022, w=2000, h=2000\n",
      "convert /media/yuncong/BstemAtlasData/CSHL_data_processed/ChatCryoJane201710/ChatCryoJane201710_prep2_lossless_Ntb/ChatCryoJane201710_slide12-S1_prep2_lossless_Ntb.tif -crop 2000x2000+828+13022 /tmp/tmp.tif\n",
      "convert /media/yuncong/BstemAtlasData/CSHL_data_processed/ChatCryoJane201710/ChatCryoJane201710_prep2_lossless_Ntb/ChatCryoJane201710_slide11-S2_prep2_lossless_Ntb.tif -crop 2000x2000+828+13022 /tmp/tmp.tif\n",
      "Region 1: x=15785, y=7324, w=2000, h=2000\n",
      "convert /media/yuncong/BstemAtlasData/CSHL_data_processed/ChatCryoJane201710/ChatCryoJane201710_prep2_lossless_Ntb/ChatCryoJane201710_slide12-S1_prep2_lossless_Ntb.tif -crop 2000x2000+15785+7324 /tmp/tmp.tif\n",
      "convert /media/yuncong/BstemAtlasData/CSHL_data_processed/ChatCryoJane201710/ChatCryoJane201710_prep2_lossless_Ntb/ChatCryoJane201710_slide11-S2_prep2_lossless_Ntb.tif -crop 2000x2000+15785+7324 /tmp/tmp.tif\n",
      "Region 2: x=14721, y=5118, w=2000, h=2000\n",
      "convert /media/yuncong/BstemAtlasData/CSHL_data_processed/ChatCryoJane201710/ChatCryoJane201710_prep2_lossless_Ntb/ChatCryoJane201710_slide12-S1_prep2_lossless_Ntb.tif -crop 2000x2000+14721+5118 /tmp/tmp.tif\n",
      "convert /media/yuncong/BstemAtlasData/CSHL_data_processed/ChatCryoJane201710/ChatCryoJane201710_prep2_lossless_Ntb/ChatCryoJane201710_slide11-S2_prep2_lossless_Ntb.tif -crop 2000x2000+14721+5118 /tmp/tmp.tif\n",
      "Region 3: x=6752, y=10581, w=2000, h=2000\n",
      "convert /media/yuncong/BstemAtlasData/CSHL_data_processed/ChatCryoJane201710/ChatCryoJane201710_prep2_lossless_Ntb/ChatCryoJane201710_slide12-S1_prep2_lossless_Ntb.tif -crop 2000x2000+6752+10581 /tmp/tmp.tif\n",
      "convert /media/yuncong/BstemAtlasData/CSHL_data_processed/ChatCryoJane201710/ChatCryoJane201710_prep2_lossless_Ntb/ChatCryoJane201710_slide11-S2_prep2_lossless_Ntb.tif -crop 2000x2000+6752+10581 /tmp/tmp.tif\n",
      "Region 4: x=40, y=7251, w=2000, h=2000\n",
      "convert /media/yuncong/BstemAtlasData/CSHL_data_processed/ChatCryoJane201710/ChatCryoJane201710_prep2_lossless_Ntb/ChatCryoJane201710_slide12-S1_prep2_lossless_Ntb.tif -crop 2000x2000+40+7251 /tmp/tmp.tif\n",
      "convert /media/yuncong/BstemAtlasData/CSHL_data_processed/ChatCryoJane201710/ChatCryoJane201710_prep2_lossless_Ntb/ChatCryoJane201710_slide11-S2_prep2_lossless_Ntb.tif -crop 2000x2000+40+7251 /tmp/tmp.tif\n",
      "Region 5: x=7080, y=2648, w=2000, h=2000\n",
      "convert /media/yuncong/BstemAtlasData/CSHL_data_processed/ChatCryoJane201710/ChatCryoJane201710_prep2_lossless_Ntb/ChatCryoJane201710_slide12-S1_prep2_lossless_Ntb.tif -crop 2000x2000+7080+2648 /tmp/tmp.tif\n",
      "convert /media/yuncong/BstemAtlasData/CSHL_data_processed/ChatCryoJane201710/ChatCryoJane201710_prep2_lossless_Ntb/ChatCryoJane201710_slide11-S2_prep2_lossless_Ntb.tif -crop 2000x2000+7080+2648 /tmp/tmp.tif\n",
      "Region 6: x=3673, y=5430, w=2000, h=2000\n",
      "convert /media/yuncong/BstemAtlasData/CSHL_data_processed/ChatCryoJane201710/ChatCryoJane201710_prep2_lossless_Ntb/ChatCryoJane201710_slide12-S1_prep2_lossless_Ntb.tif -crop 2000x2000+3673+5430 /tmp/tmp.tif\n",
      "convert /media/yuncong/BstemAtlasData/CSHL_data_processed/ChatCryoJane201710/ChatCryoJane201710_prep2_lossless_Ntb/ChatCryoJane201710_slide11-S2_prep2_lossless_Ntb.tif -crop 2000x2000+3673+5430 /tmp/tmp.tif\n",
      "Region 7: x=13498, y=4776, w=2000, h=2000\n",
      "convert /media/yuncong/BstemAtlasData/CSHL_data_processed/ChatCryoJane201710/ChatCryoJane201710_prep2_lossless_Ntb/ChatCryoJane201710_slide12-S1_prep2_lossless_Ntb.tif -crop 2000x2000+13498+4776 /tmp/tmp.tif\n",
      "convert /media/yuncong/BstemAtlasData/CSHL_data_processed/ChatCryoJane201710/ChatCryoJane201710_prep2_lossless_Ntb/ChatCryoJane201710_slide11-S2_prep2_lossless_Ntb.tif -crop 2000x2000+13498+4776 /tmp/tmp.tif\n",
      "Region 8: x=796, y=11448, w=2000, h=2000\n",
      "convert /media/yuncong/BstemAtlasData/CSHL_data_processed/ChatCryoJane201710/ChatCryoJane201710_prep2_lossless_Ntb/ChatCryoJane201710_slide12-S1_prep2_lossless_Ntb.tif -crop 2000x2000+796+11448 /tmp/tmp.tif\n",
      "convert /media/yuncong/BstemAtlasData/CSHL_data_processed/ChatCryoJane201710/ChatCryoJane201710_prep2_lossless_Ntb/ChatCryoJane201710_slide11-S2_prep2_lossless_Ntb.tif -crop 2000x2000+796+11448 /tmp/tmp.tif\n",
      "Region 9: x=355, y=8529, w=2000, h=2000\n",
      "convert /media/yuncong/BstemAtlasData/CSHL_data_processed/ChatCryoJane201710/ChatCryoJane201710_prep2_lossless_Ntb/ChatCryoJane201710_slide12-S1_prep2_lossless_Ntb.tif -crop 2000x2000+355+8529 /tmp/tmp.tif\n",
      "convert /media/yuncong/BstemAtlasData/CSHL_data_processed/ChatCryoJane201710/ChatCryoJane201710_prep2_lossless_Ntb/ChatCryoJane201710_slide11-S2_prep2_lossless_Ntb.tif -crop 2000x2000+355+8529 /tmp/tmp.tif\n",
      "aws s3 cp \"/media/yuncong/BstemAtlasData/CSHL_data_processed/ChatCryoJane201710/ChatCryoJane201710_intensity_mapping/ChatCryoJane201710_slide11-S2_to_ChatCryoJane201710_slide12-S1_intensity_mapping_all_regions.npy\" \"s3://mousebrainatlas-data/CSHL_data_processed/ChatCryoJane201710/ChatCryoJane201710_intensity_mapping/ChatCryoJane201710_slide11-S2_to_ChatCryoJane201710_slide12-S1_intensity_mapping_all_regions.npy\"\n",
      "aws s3 cp \"/media/yuncong/BstemAtlasData/CSHL_data_processed/ChatCryoJane201710/ChatCryoJane201710_intensity_mapping/ChatCryoJane201710_slide11-S2_to_ChatCryoJane201710_slide12-S1_region_bboxes.npy\" \"s3://mousebrainatlas-data/CSHL_data_processed/ChatCryoJane201710/ChatCryoJane201710_intensity_mapping/ChatCryoJane201710_slide11-S2_to_ChatCryoJane201710_slide12-S1_region_bboxes.npy\"\n"
     ]
    },
    {
     "name": "stderr",
     "output_type": "stream",
     "text": [
      "ntb 33, ntb 34\n"
     ]
    },
    {
     "name": "stdout",
     "output_type": "stream",
     "text": [
      "rm -rf \"/media/yuncong/BstemAtlasData/CSHL_data_processed/ChatCryoJane201710/ChatCryoJane201710_prep2_thumbnail_mask/ChatCryoJane201710_slide11-S2_prep2_thumbnail_mask.png\" && mkdir -p \"/media/yuncong/BstemAtlasData/CSHL_data_processed/ChatCryoJane201710/ChatCryoJane201710_prep2_thumbnail_mask\"\n",
      "aws s3 cp \"s3://mousebrainatlas-data/CSHL_data_processed/ChatCryoJane201710/ChatCryoJane201710_prep2_thumbnail_mask/ChatCryoJane201710_slide11-S2_prep2_thumbnail_mask.png\" \"/media/yuncong/BstemAtlasData/CSHL_data_processed/ChatCryoJane201710/ChatCryoJane201710_prep2_thumbnail_mask/ChatCryoJane201710_slide11-S2_prep2_thumbnail_mask.png\"\n"
     ]
    },
    {
     "name": "stderr",
     "output_type": "stream",
     "text": [
      "Load NTB1: 0.00 seconds.\n",
      "Load NTB2: 0.00 seconds.\n"
     ]
    },
    {
     "name": "stdout",
     "output_type": "stream",
     "text": [
      "Region 0: x=8677, y=10665, w=2000, h=2000\n",
      "convert /media/yuncong/BstemAtlasData/CSHL_data_processed/ChatCryoJane201710/ChatCryoJane201710_prep2_lossless_Ntb/ChatCryoJane201710_slide11-S2_prep2_lossless_Ntb.tif -crop 2000x2000+8677+10665 /tmp/tmp.tif\n",
      "convert /media/yuncong/BstemAtlasData/CSHL_data_processed/ChatCryoJane201710/ChatCryoJane201710_prep2_lossless_Ntb/ChatCryoJane201710_slide12-S2_prep2_lossless_Ntb.tif -crop 2000x2000+8677+10665 /tmp/tmp.tif\n",
      "Region 1: x=3701, y=9583, w=2000, h=2000\n",
      "convert /media/yuncong/BstemAtlasData/CSHL_data_processed/ChatCryoJane201710/ChatCryoJane201710_prep2_lossless_Ntb/ChatCryoJane201710_slide11-S2_prep2_lossless_Ntb.tif -crop 2000x2000+3701+9583 /tmp/tmp.tif\n",
      "convert /media/yuncong/BstemAtlasData/CSHL_data_processed/ChatCryoJane201710/ChatCryoJane201710_prep2_lossless_Ntb/ChatCryoJane201710_slide12-S2_prep2_lossless_Ntb.tif -crop 2000x2000+3701+9583 /tmp/tmp.tif\n",
      "Region 2: x=7545, y=10705, w=2000, h=2000\n",
      "convert /media/yuncong/BstemAtlasData/CSHL_data_processed/ChatCryoJane201710/ChatCryoJane201710_prep2_lossless_Ntb/ChatCryoJane201710_slide11-S2_prep2_lossless_Ntb.tif -crop 2000x2000+7545+10705 /tmp/tmp.tif\n",
      "convert /media/yuncong/BstemAtlasData/CSHL_data_processed/ChatCryoJane201710/ChatCryoJane201710_prep2_lossless_Ntb/ChatCryoJane201710_slide12-S2_prep2_lossless_Ntb.tif -crop 2000x2000+7545+10705 /tmp/tmp.tif\n",
      "Region 3: x=7067, y=2399, w=2000, h=2000\n",
      "convert /media/yuncong/BstemAtlasData/CSHL_data_processed/ChatCryoJane201710/ChatCryoJane201710_prep2_lossless_Ntb/ChatCryoJane201710_slide11-S2_prep2_lossless_Ntb.tif -crop 2000x2000+7067+2399 /tmp/tmp.tif\n",
      "convert /media/yuncong/BstemAtlasData/CSHL_data_processed/ChatCryoJane201710/ChatCryoJane201710_prep2_lossless_Ntb/ChatCryoJane201710_slide12-S2_prep2_lossless_Ntb.tif -crop 2000x2000+7067+2399 /tmp/tmp.tif\n",
      "Region 4: x=231, y=11377, w=2000, h=2000\n",
      "convert /media/yuncong/BstemAtlasData/CSHL_data_processed/ChatCryoJane201710/ChatCryoJane201710_prep2_lossless_Ntb/ChatCryoJane201710_slide11-S2_prep2_lossless_Ntb.tif -crop 2000x2000+231+11377 /tmp/tmp.tif\n",
      "convert /media/yuncong/BstemAtlasData/CSHL_data_processed/ChatCryoJane201710/ChatCryoJane201710_prep2_lossless_Ntb/ChatCryoJane201710_slide12-S2_prep2_lossless_Ntb.tif -crop 2000x2000+231+11377 /tmp/tmp.tif\n",
      "Region 5: x=7044, y=10528, w=2000, h=2000\n",
      "convert /media/yuncong/BstemAtlasData/CSHL_data_processed/ChatCryoJane201710/ChatCryoJane201710_prep2_lossless_Ntb/ChatCryoJane201710_slide11-S2_prep2_lossless_Ntb.tif -crop 2000x2000+7044+10528 /tmp/tmp.tif\n",
      "convert /media/yuncong/BstemAtlasData/CSHL_data_processed/ChatCryoJane201710/ChatCryoJane201710_prep2_lossless_Ntb/ChatCryoJane201710_slide12-S2_prep2_lossless_Ntb.tif -crop 2000x2000+7044+10528 /tmp/tmp.tif\n",
      "Region 6: x=653, y=6616, w=2000, h=2000\n",
      "convert /media/yuncong/BstemAtlasData/CSHL_data_processed/ChatCryoJane201710/ChatCryoJane201710_prep2_lossless_Ntb/ChatCryoJane201710_slide11-S2_prep2_lossless_Ntb.tif -crop 2000x2000+653+6616 /tmp/tmp.tif\n",
      "convert /media/yuncong/BstemAtlasData/CSHL_data_processed/ChatCryoJane201710/ChatCryoJane201710_prep2_lossless_Ntb/ChatCryoJane201710_slide12-S2_prep2_lossless_Ntb.tif -crop 2000x2000+653+6616 /tmp/tmp.tif\n",
      "Region 7: x=9027, y=5858, w=2000, h=2000\n",
      "convert /media/yuncong/BstemAtlasData/CSHL_data_processed/ChatCryoJane201710/ChatCryoJane201710_prep2_lossless_Ntb/ChatCryoJane201710_slide11-S2_prep2_lossless_Ntb.tif -crop 2000x2000+9027+5858 /tmp/tmp.tif\n",
      "convert /media/yuncong/BstemAtlasData/CSHL_data_processed/ChatCryoJane201710/ChatCryoJane201710_prep2_lossless_Ntb/ChatCryoJane201710_slide12-S2_prep2_lossless_Ntb.tif -crop 2000x2000+9027+5858 /tmp/tmp.tif\n",
      "Region 8: x=7539, y=8652, w=2000, h=2000\n",
      "convert /media/yuncong/BstemAtlasData/CSHL_data_processed/ChatCryoJane201710/ChatCryoJane201710_prep2_lossless_Ntb/ChatCryoJane201710_slide11-S2_prep2_lossless_Ntb.tif -crop 2000x2000+7539+8652 /tmp/tmp.tif\n",
      "convert /media/yuncong/BstemAtlasData/CSHL_data_processed/ChatCryoJane201710/ChatCryoJane201710_prep2_lossless_Ntb/ChatCryoJane201710_slide12-S2_prep2_lossless_Ntb.tif -crop 2000x2000+7539+8652 /tmp/tmp.tif\n",
      "Region 9: x=14609, y=4935, w=2000, h=2000\n",
      "convert /media/yuncong/BstemAtlasData/CSHL_data_processed/ChatCryoJane201710/ChatCryoJane201710_prep2_lossless_Ntb/ChatCryoJane201710_slide11-S2_prep2_lossless_Ntb.tif -crop 2000x2000+14609+4935 /tmp/tmp.tif\n",
      "convert /media/yuncong/BstemAtlasData/CSHL_data_processed/ChatCryoJane201710/ChatCryoJane201710_prep2_lossless_Ntb/ChatCryoJane201710_slide12-S2_prep2_lossless_Ntb.tif -crop 2000x2000+14609+4935 /tmp/tmp.tif\n",
      "aws s3 cp \"/media/yuncong/BstemAtlasData/CSHL_data_processed/ChatCryoJane201710/ChatCryoJane201710_intensity_mapping/ChatCryoJane201710_slide12-S2_to_ChatCryoJane201710_slide11-S2_intensity_mapping_all_regions.npy\" \"s3://mousebrainatlas-data/CSHL_data_processed/ChatCryoJane201710/ChatCryoJane201710_intensity_mapping/ChatCryoJane201710_slide12-S2_to_ChatCryoJane201710_slide11-S2_intensity_mapping_all_regions.npy\"\n",
      "aws s3 cp \"/media/yuncong/BstemAtlasData/CSHL_data_processed/ChatCryoJane201710/ChatCryoJane201710_intensity_mapping/ChatCryoJane201710_slide12-S2_to_ChatCryoJane201710_slide11-S2_region_bboxes.npy\" \"s3://mousebrainatlas-data/CSHL_data_processed/ChatCryoJane201710/ChatCryoJane201710_intensity_mapping/ChatCryoJane201710_slide12-S2_to_ChatCryoJane201710_slide11-S2_region_bboxes.npy\"\n"
     ]
    },
    {
     "name": "stderr",
     "output_type": "stream",
     "text": [
      "ntb 34, ntb 35\n"
     ]
    },
    {
     "name": "stdout",
     "output_type": "stream",
     "text": [
      "rm -rf \"/media/yuncong/BstemAtlasData/CSHL_data_processed/ChatCryoJane201710/ChatCryoJane201710_prep2_thumbnail_mask/ChatCryoJane201710_slide12-S2_prep2_thumbnail_mask.png\" && mkdir -p \"/media/yuncong/BstemAtlasData/CSHL_data_processed/ChatCryoJane201710/ChatCryoJane201710_prep2_thumbnail_mask\"\n",
      "aws s3 cp \"s3://mousebrainatlas-data/CSHL_data_processed/ChatCryoJane201710/ChatCryoJane201710_prep2_thumbnail_mask/ChatCryoJane201710_slide12-S2_prep2_thumbnail_mask.png\" \"/media/yuncong/BstemAtlasData/CSHL_data_processed/ChatCryoJane201710/ChatCryoJane201710_prep2_thumbnail_mask/ChatCryoJane201710_slide12-S2_prep2_thumbnail_mask.png\"\n"
     ]
    },
    {
     "name": "stderr",
     "output_type": "stream",
     "text": [
      "Load NTB1: 0.00 seconds.\n",
      "Load NTB2: 0.00 seconds.\n"
     ]
    },
    {
     "name": "stdout",
     "output_type": "stream",
     "text": [
      "Region 0: x=5075, y=2406, w=2000, h=2000\n",
      "convert /media/yuncong/BstemAtlasData/CSHL_data_processed/ChatCryoJane201710/ChatCryoJane201710_prep2_lossless_Ntb/ChatCryoJane201710_slide12-S2_prep2_lossless_Ntb.tif -crop 2000x2000+5075+2406 /tmp/tmp.tif\n",
      "convert /media/yuncong/BstemAtlasData/CSHL_data_processed/ChatCryoJane201710/ChatCryoJane201710_prep2_lossless_Ntb/ChatCryoJane201710_slide11-S3_prep2_lossless_Ntb.tif -crop 2000x2000+5075+2406 /tmp/tmp.tif\n",
      "Region 1: x=3934, y=9896, w=2000, h=2000\n",
      "convert /media/yuncong/BstemAtlasData/CSHL_data_processed/ChatCryoJane201710/ChatCryoJane201710_prep2_lossless_Ntb/ChatCryoJane201710_slide12-S2_prep2_lossless_Ntb.tif -crop 2000x2000+3934+9896 /tmp/tmp.tif\n",
      "convert /media/yuncong/BstemAtlasData/CSHL_data_processed/ChatCryoJane201710/ChatCryoJane201710_prep2_lossless_Ntb/ChatCryoJane201710_slide11-S3_prep2_lossless_Ntb.tif -crop 2000x2000+3934+9896 /tmp/tmp.tif\n",
      "Region 2: x=6024, y=11424, w=2000, h=2000\n",
      "convert /media/yuncong/BstemAtlasData/CSHL_data_processed/ChatCryoJane201710/ChatCryoJane201710_prep2_lossless_Ntb/ChatCryoJane201710_slide12-S2_prep2_lossless_Ntb.tif -crop 2000x2000+6024+11424 /tmp/tmp.tif\n",
      "convert /media/yuncong/BstemAtlasData/CSHL_data_processed/ChatCryoJane201710/ChatCryoJane201710_prep2_lossless_Ntb/ChatCryoJane201710_slide11-S3_prep2_lossless_Ntb.tif -crop 2000x2000+6024+11424 /tmp/tmp.tif\n",
      "Region 3: x=8982, y=6649, w=2000, h=2000\n",
      "convert /media/yuncong/BstemAtlasData/CSHL_data_processed/ChatCryoJane201710/ChatCryoJane201710_prep2_lossless_Ntb/ChatCryoJane201710_slide12-S2_prep2_lossless_Ntb.tif -crop 2000x2000+8982+6649 /tmp/tmp.tif\n",
      "convert /media/yuncong/BstemAtlasData/CSHL_data_processed/ChatCryoJane201710/ChatCryoJane201710_prep2_lossless_Ntb/ChatCryoJane201710_slide11-S3_prep2_lossless_Ntb.tif -crop 2000x2000+8982+6649 /tmp/tmp.tif\n",
      "Region 4: x=9722, y=3319, w=2000, h=2000\n",
      "convert /media/yuncong/BstemAtlasData/CSHL_data_processed/ChatCryoJane201710/ChatCryoJane201710_prep2_lossless_Ntb/ChatCryoJane201710_slide12-S2_prep2_lossless_Ntb.tif -crop 2000x2000+9722+3319 /tmp/tmp.tif\n",
      "convert /media/yuncong/BstemAtlasData/CSHL_data_processed/ChatCryoJane201710/ChatCryoJane201710_prep2_lossless_Ntb/ChatCryoJane201710_slide11-S3_prep2_lossless_Ntb.tif -crop 2000x2000+9722+3319 /tmp/tmp.tif\n",
      "Region 5: x=4416, y=8600, w=2000, h=2000\n",
      "convert /media/yuncong/BstemAtlasData/CSHL_data_processed/ChatCryoJane201710/ChatCryoJane201710_prep2_lossless_Ntb/ChatCryoJane201710_slide12-S2_prep2_lossless_Ntb.tif -crop 2000x2000+4416+8600 /tmp/tmp.tif\n",
      "convert /media/yuncong/BstemAtlasData/CSHL_data_processed/ChatCryoJane201710/ChatCryoJane201710_prep2_lossless_Ntb/ChatCryoJane201710_slide11-S3_prep2_lossless_Ntb.tif -crop 2000x2000+4416+8600 /tmp/tmp.tif\n",
      "Region 6: x=13740, y=5322, w=2000, h=2000\n",
      "convert /media/yuncong/BstemAtlasData/CSHL_data_processed/ChatCryoJane201710/ChatCryoJane201710_prep2_lossless_Ntb/ChatCryoJane201710_slide12-S2_prep2_lossless_Ntb.tif -crop 2000x2000+13740+5322 /tmp/tmp.tif\n",
      "convert /media/yuncong/BstemAtlasData/CSHL_data_processed/ChatCryoJane201710/ChatCryoJane201710_prep2_lossless_Ntb/ChatCryoJane201710_slide11-S3_prep2_lossless_Ntb.tif -crop 2000x2000+13740+5322 /tmp/tmp.tif\n",
      "Region 7: x=3376, y=2589, w=2000, h=2000\n",
      "convert /media/yuncong/BstemAtlasData/CSHL_data_processed/ChatCryoJane201710/ChatCryoJane201710_prep2_lossless_Ntb/ChatCryoJane201710_slide12-S2_prep2_lossless_Ntb.tif -crop 2000x2000+3376+2589 /tmp/tmp.tif\n",
      "convert /media/yuncong/BstemAtlasData/CSHL_data_processed/ChatCryoJane201710/ChatCryoJane201710_prep2_lossless_Ntb/ChatCryoJane201710_slide11-S3_prep2_lossless_Ntb.tif -crop 2000x2000+3376+2589 /tmp/tmp.tif\n",
      "Region 8: x=8631, y=6476, w=2000, h=2000\n",
      "convert /media/yuncong/BstemAtlasData/CSHL_data_processed/ChatCryoJane201710/ChatCryoJane201710_prep2_lossless_Ntb/ChatCryoJane201710_slide12-S2_prep2_lossless_Ntb.tif -crop 2000x2000+8631+6476 /tmp/tmp.tif\n",
      "convert /media/yuncong/BstemAtlasData/CSHL_data_processed/ChatCryoJane201710/ChatCryoJane201710_prep2_lossless_Ntb/ChatCryoJane201710_slide11-S3_prep2_lossless_Ntb.tif -crop 2000x2000+8631+6476 /tmp/tmp.tif\n",
      "Region 9: x=599, y=12556, w=2000, h=2000\n",
      "convert /media/yuncong/BstemAtlasData/CSHL_data_processed/ChatCryoJane201710/ChatCryoJane201710_prep2_lossless_Ntb/ChatCryoJane201710_slide12-S2_prep2_lossless_Ntb.tif -crop 2000x2000+599+12556 /tmp/tmp.tif\n",
      "convert /media/yuncong/BstemAtlasData/CSHL_data_processed/ChatCryoJane201710/ChatCryoJane201710_prep2_lossless_Ntb/ChatCryoJane201710_slide11-S3_prep2_lossless_Ntb.tif -crop 2000x2000+599+12556 /tmp/tmp.tif\n",
      "aws s3 cp \"/media/yuncong/BstemAtlasData/CSHL_data_processed/ChatCryoJane201710/ChatCryoJane201710_intensity_mapping/ChatCryoJane201710_slide11-S3_to_ChatCryoJane201710_slide12-S2_intensity_mapping_all_regions.npy\" \"s3://mousebrainatlas-data/CSHL_data_processed/ChatCryoJane201710/ChatCryoJane201710_intensity_mapping/ChatCryoJane201710_slide11-S3_to_ChatCryoJane201710_slide12-S2_intensity_mapping_all_regions.npy\"\n",
      "aws s3 cp \"/media/yuncong/BstemAtlasData/CSHL_data_processed/ChatCryoJane201710/ChatCryoJane201710_intensity_mapping/ChatCryoJane201710_slide11-S3_to_ChatCryoJane201710_slide12-S2_region_bboxes.npy\" \"s3://mousebrainatlas-data/CSHL_data_processed/ChatCryoJane201710/ChatCryoJane201710_intensity_mapping/ChatCryoJane201710_slide11-S3_to_ChatCryoJane201710_slide12-S2_region_bboxes.npy\"\n"
     ]
    },
    {
     "name": "stderr",
     "output_type": "stream",
     "text": [
      "ntb 35, ntb 36\n"
     ]
    },
    {
     "name": "stdout",
     "output_type": "stream",
     "text": [
      "rm -rf \"/media/yuncong/BstemAtlasData/CSHL_data_processed/ChatCryoJane201710/ChatCryoJane201710_prep2_thumbnail_mask/ChatCryoJane201710_slide11-S3_prep2_thumbnail_mask.png\" && mkdir -p \"/media/yuncong/BstemAtlasData/CSHL_data_processed/ChatCryoJane201710/ChatCryoJane201710_prep2_thumbnail_mask\"\n",
      "aws s3 cp \"s3://mousebrainatlas-data/CSHL_data_processed/ChatCryoJane201710/ChatCryoJane201710_prep2_thumbnail_mask/ChatCryoJane201710_slide11-S3_prep2_thumbnail_mask.png\" \"/media/yuncong/BstemAtlasData/CSHL_data_processed/ChatCryoJane201710/ChatCryoJane201710_prep2_thumbnail_mask/ChatCryoJane201710_slide11-S3_prep2_thumbnail_mask.png\"\n"
     ]
    },
    {
     "name": "stderr",
     "output_type": "stream",
     "text": [
      "Load NTB1: 0.00 seconds.\n",
      "Load NTB2: 0.00 seconds.\n"
     ]
    },
    {
     "name": "stdout",
     "output_type": "stream",
     "text": [
      "Region 0: x=3052, y=6293, w=2000, h=2000\n",
      "convert /media/yuncong/BstemAtlasData/CSHL_data_processed/ChatCryoJane201710/ChatCryoJane201710_prep2_lossless_Ntb/ChatCryoJane201710_slide11-S3_prep2_lossless_Ntb.tif -crop 2000x2000+3052+6293 /tmp/tmp.tif\n",
      "convert /media/yuncong/BstemAtlasData/CSHL_data_processed/ChatCryoJane201710/ChatCryoJane201710_prep2_lossless_Ntb/ChatCryoJane201710_slide12-S3_prep2_lossless_Ntb.tif -crop 2000x2000+3052+6293 /tmp/tmp.tif\n",
      "Region 1: x=3266, y=4220, w=2000, h=2000\n",
      "convert /media/yuncong/BstemAtlasData/CSHL_data_processed/ChatCryoJane201710/ChatCryoJane201710_prep2_lossless_Ntb/ChatCryoJane201710_slide11-S3_prep2_lossless_Ntb.tif -crop 2000x2000+3266+4220 /tmp/tmp.tif\n",
      "convert /media/yuncong/BstemAtlasData/CSHL_data_processed/ChatCryoJane201710/ChatCryoJane201710_prep2_lossless_Ntb/ChatCryoJane201710_slide12-S3_prep2_lossless_Ntb.tif -crop 2000x2000+3266+4220 /tmp/tmp.tif\n",
      "Region 2: x=4813, y=12469, w=2000, h=2000\n",
      "convert /media/yuncong/BstemAtlasData/CSHL_data_processed/ChatCryoJane201710/ChatCryoJane201710_prep2_lossless_Ntb/ChatCryoJane201710_slide11-S3_prep2_lossless_Ntb.tif -crop 2000x2000+4813+12469 /tmp/tmp.tif\n",
      "convert /media/yuncong/BstemAtlasData/CSHL_data_processed/ChatCryoJane201710/ChatCryoJane201710_prep2_lossless_Ntb/ChatCryoJane201710_slide12-S3_prep2_lossless_Ntb.tif -crop 2000x2000+4813+12469 /tmp/tmp.tif\n",
      "Region 3: x=7797, y=8029, w=2000, h=2000\n",
      "convert /media/yuncong/BstemAtlasData/CSHL_data_processed/ChatCryoJane201710/ChatCryoJane201710_prep2_lossless_Ntb/ChatCryoJane201710_slide11-S3_prep2_lossless_Ntb.tif -crop 2000x2000+7797+8029 /tmp/tmp.tif\n",
      "convert /media/yuncong/BstemAtlasData/CSHL_data_processed/ChatCryoJane201710/ChatCryoJane201710_prep2_lossless_Ntb/ChatCryoJane201710_slide12-S3_prep2_lossless_Ntb.tif -crop 2000x2000+7797+8029 /tmp/tmp.tif\n",
      "Region 4: x=10987, y=7379, w=2000, h=2000\n",
      "convert /media/yuncong/BstemAtlasData/CSHL_data_processed/ChatCryoJane201710/ChatCryoJane201710_prep2_lossless_Ntb/ChatCryoJane201710_slide11-S3_prep2_lossless_Ntb.tif -crop 2000x2000+10987+7379 /tmp/tmp.tif\n",
      "convert /media/yuncong/BstemAtlasData/CSHL_data_processed/ChatCryoJane201710/ChatCryoJane201710_prep2_lossless_Ntb/ChatCryoJane201710_slide12-S3_prep2_lossless_Ntb.tif -crop 2000x2000+10987+7379 /tmp/tmp.tif\n",
      "Region 5: x=3726, y=8957, w=2000, h=2000\n",
      "convert /media/yuncong/BstemAtlasData/CSHL_data_processed/ChatCryoJane201710/ChatCryoJane201710_prep2_lossless_Ntb/ChatCryoJane201710_slide11-S3_prep2_lossless_Ntb.tif -crop 2000x2000+3726+8957 /tmp/tmp.tif\n",
      "convert /media/yuncong/BstemAtlasData/CSHL_data_processed/ChatCryoJane201710/ChatCryoJane201710_prep2_lossless_Ntb/ChatCryoJane201710_slide12-S3_prep2_lossless_Ntb.tif -crop 2000x2000+3726+8957 /tmp/tmp.tif\n",
      "Region 6: x=7265, y=7762, w=2000, h=2000\n",
      "convert /media/yuncong/BstemAtlasData/CSHL_data_processed/ChatCryoJane201710/ChatCryoJane201710_prep2_lossless_Ntb/ChatCryoJane201710_slide11-S3_prep2_lossless_Ntb.tif -crop 2000x2000+7265+7762 /tmp/tmp.tif\n",
      "convert /media/yuncong/BstemAtlasData/CSHL_data_processed/ChatCryoJane201710/ChatCryoJane201710_prep2_lossless_Ntb/ChatCryoJane201710_slide12-S3_prep2_lossless_Ntb.tif -crop 2000x2000+7265+7762 /tmp/tmp.tif\n",
      "Region 7: x=9412, y=8971, w=2000, h=2000\n",
      "convert /media/yuncong/BstemAtlasData/CSHL_data_processed/ChatCryoJane201710/ChatCryoJane201710_prep2_lossless_Ntb/ChatCryoJane201710_slide11-S3_prep2_lossless_Ntb.tif -crop 2000x2000+9412+8971 /tmp/tmp.tif\n",
      "convert /media/yuncong/BstemAtlasData/CSHL_data_processed/ChatCryoJane201710/ChatCryoJane201710_prep2_lossless_Ntb/ChatCryoJane201710_slide12-S3_prep2_lossless_Ntb.tif -crop 2000x2000+9412+8971 /tmp/tmp.tif\n",
      "Region 8: x=9825, y=9264, w=2000, h=2000\n",
      "convert /media/yuncong/BstemAtlasData/CSHL_data_processed/ChatCryoJane201710/ChatCryoJane201710_prep2_lossless_Ntb/ChatCryoJane201710_slide11-S3_prep2_lossless_Ntb.tif -crop 2000x2000+9825+9264 /tmp/tmp.tif\n",
      "convert /media/yuncong/BstemAtlasData/CSHL_data_processed/ChatCryoJane201710/ChatCryoJane201710_prep2_lossless_Ntb/ChatCryoJane201710_slide12-S3_prep2_lossless_Ntb.tif -crop 2000x2000+9825+9264 /tmp/tmp.tif\n",
      "Region 9: x=5975, y=3167, w=2000, h=2000\n",
      "convert /media/yuncong/BstemAtlasData/CSHL_data_processed/ChatCryoJane201710/ChatCryoJane201710_prep2_lossless_Ntb/ChatCryoJane201710_slide11-S3_prep2_lossless_Ntb.tif -crop 2000x2000+5975+3167 /tmp/tmp.tif\n",
      "convert /media/yuncong/BstemAtlasData/CSHL_data_processed/ChatCryoJane201710/ChatCryoJane201710_prep2_lossless_Ntb/ChatCryoJane201710_slide12-S3_prep2_lossless_Ntb.tif -crop 2000x2000+5975+3167 /tmp/tmp.tif\n",
      "aws s3 cp \"/media/yuncong/BstemAtlasData/CSHL_data_processed/ChatCryoJane201710/ChatCryoJane201710_intensity_mapping/ChatCryoJane201710_slide12-S3_to_ChatCryoJane201710_slide11-S3_intensity_mapping_all_regions.npy\" \"s3://mousebrainatlas-data/CSHL_data_processed/ChatCryoJane201710/ChatCryoJane201710_intensity_mapping/ChatCryoJane201710_slide12-S3_to_ChatCryoJane201710_slide11-S3_intensity_mapping_all_regions.npy\"\n",
      "aws s3 cp \"/media/yuncong/BstemAtlasData/CSHL_data_processed/ChatCryoJane201710/ChatCryoJane201710_intensity_mapping/ChatCryoJane201710_slide12-S3_to_ChatCryoJane201710_slide11-S3_region_bboxes.npy\" \"s3://mousebrainatlas-data/CSHL_data_processed/ChatCryoJane201710/ChatCryoJane201710_intensity_mapping/ChatCryoJane201710_slide12-S3_to_ChatCryoJane201710_slide11-S3_region_bboxes.npy\"\n"
     ]
    },
    {
     "name": "stderr",
     "output_type": "stream",
     "text": [
      "ntb 36, ntb 37\n"
     ]
    },
    {
     "name": "stdout",
     "output_type": "stream",
     "text": [
      "rm -rf \"/media/yuncong/BstemAtlasData/CSHL_data_processed/ChatCryoJane201710/ChatCryoJane201710_prep2_thumbnail_mask/ChatCryoJane201710_slide12-S3_prep2_thumbnail_mask.png\" && mkdir -p \"/media/yuncong/BstemAtlasData/CSHL_data_processed/ChatCryoJane201710/ChatCryoJane201710_prep2_thumbnail_mask\"\n",
      "aws s3 cp \"s3://mousebrainatlas-data/CSHL_data_processed/ChatCryoJane201710/ChatCryoJane201710_prep2_thumbnail_mask/ChatCryoJane201710_slide12-S3_prep2_thumbnail_mask.png\" \"/media/yuncong/BstemAtlasData/CSHL_data_processed/ChatCryoJane201710/ChatCryoJane201710_prep2_thumbnail_mask/ChatCryoJane201710_slide12-S3_prep2_thumbnail_mask.png\"\n"
     ]
    },
    {
     "name": "stderr",
     "output_type": "stream",
     "text": [
      "Load NTB1: 0.00 seconds.\n",
      "Load NTB2: 0.00 seconds.\n"
     ]
    },
    {
     "name": "stdout",
     "output_type": "stream",
     "text": [
      "Region 0: x=4880, y=7924, w=2000, h=2000\n",
      "convert /media/yuncong/BstemAtlasData/CSHL_data_processed/ChatCryoJane201710/ChatCryoJane201710_prep2_lossless_Ntb/ChatCryoJane201710_slide12-S3_prep2_lossless_Ntb.tif -crop 2000x2000+4880+7924 /tmp/tmp.tif\n",
      "convert /media/yuncong/BstemAtlasData/CSHL_data_processed/ChatCryoJane201710/ChatCryoJane201710_prep2_lossless_Ntb/ChatCryoJane201710_slide13-S1_prep2_lossless_Ntb.tif -crop 2000x2000+4880+7924 /tmp/tmp.tif\n",
      "Region 1: x=2610, y=5516, w=2000, h=2000\n",
      "convert /media/yuncong/BstemAtlasData/CSHL_data_processed/ChatCryoJane201710/ChatCryoJane201710_prep2_lossless_Ntb/ChatCryoJane201710_slide12-S3_prep2_lossless_Ntb.tif -crop 2000x2000+2610+5516 /tmp/tmp.tif\n",
      "convert /media/yuncong/BstemAtlasData/CSHL_data_processed/ChatCryoJane201710/ChatCryoJane201710_prep2_lossless_Ntb/ChatCryoJane201710_slide13-S1_prep2_lossless_Ntb.tif -crop 2000x2000+2610+5516 /tmp/tmp.tif\n",
      "Region 2: x=8562, y=5403, w=2000, h=2000\n",
      "convert /media/yuncong/BstemAtlasData/CSHL_data_processed/ChatCryoJane201710/ChatCryoJane201710_prep2_lossless_Ntb/ChatCryoJane201710_slide12-S3_prep2_lossless_Ntb.tif -crop 2000x2000+8562+5403 /tmp/tmp.tif\n",
      "convert /media/yuncong/BstemAtlasData/CSHL_data_processed/ChatCryoJane201710/ChatCryoJane201710_prep2_lossless_Ntb/ChatCryoJane201710_slide13-S1_prep2_lossless_Ntb.tif -crop 2000x2000+8562+5403 /tmp/tmp.tif\n",
      "Region 3: x=1564, y=11207, w=2000, h=2000\n",
      "convert /media/yuncong/BstemAtlasData/CSHL_data_processed/ChatCryoJane201710/ChatCryoJane201710_prep2_lossless_Ntb/ChatCryoJane201710_slide12-S3_prep2_lossless_Ntb.tif -crop 2000x2000+1564+11207 /tmp/tmp.tif\n",
      "convert /media/yuncong/BstemAtlasData/CSHL_data_processed/ChatCryoJane201710/ChatCryoJane201710_prep2_lossless_Ntb/ChatCryoJane201710_slide13-S1_prep2_lossless_Ntb.tif -crop 2000x2000+1564+11207 /tmp/tmp.tif\n",
      "Region 4: x=79, y=13451, w=2000, h=2000\n",
      "convert /media/yuncong/BstemAtlasData/CSHL_data_processed/ChatCryoJane201710/ChatCryoJane201710_prep2_lossless_Ntb/ChatCryoJane201710_slide12-S3_prep2_lossless_Ntb.tif -crop 2000x2000+79+13451 /tmp/tmp.tif\n",
      "convert /media/yuncong/BstemAtlasData/CSHL_data_processed/ChatCryoJane201710/ChatCryoJane201710_prep2_lossless_Ntb/ChatCryoJane201710_slide13-S1_prep2_lossless_Ntb.tif -crop 2000x2000+79+13451 /tmp/tmp.tif\n",
      "Region 5: x=2941, y=14495, w=2000, h=2000\n",
      "convert /media/yuncong/BstemAtlasData/CSHL_data_processed/ChatCryoJane201710/ChatCryoJane201710_prep2_lossless_Ntb/ChatCryoJane201710_slide12-S3_prep2_lossless_Ntb.tif -crop 2000x2000+2941+14495 /tmp/tmp.tif\n",
      "convert /media/yuncong/BstemAtlasData/CSHL_data_processed/ChatCryoJane201710/ChatCryoJane201710_prep2_lossless_Ntb/ChatCryoJane201710_slide13-S1_prep2_lossless_Ntb.tif -crop 2000x2000+2941+14495 /tmp/tmp.tif\n",
      "Region 6: x=5435, y=6820, w=2000, h=2000\n",
      "convert /media/yuncong/BstemAtlasData/CSHL_data_processed/ChatCryoJane201710/ChatCryoJane201710_prep2_lossless_Ntb/ChatCryoJane201710_slide12-S3_prep2_lossless_Ntb.tif -crop 2000x2000+5435+6820 /tmp/tmp.tif\n",
      "convert /media/yuncong/BstemAtlasData/CSHL_data_processed/ChatCryoJane201710/ChatCryoJane201710_prep2_lossless_Ntb/ChatCryoJane201710_slide13-S1_prep2_lossless_Ntb.tif -crop 2000x2000+5435+6820 /tmp/tmp.tif\n",
      "Region 7: x=5570, y=1081, w=2000, h=2000\n",
      "convert /media/yuncong/BstemAtlasData/CSHL_data_processed/ChatCryoJane201710/ChatCryoJane201710_prep2_lossless_Ntb/ChatCryoJane201710_slide12-S3_prep2_lossless_Ntb.tif -crop 2000x2000+5570+1081 /tmp/tmp.tif\n",
      "convert /media/yuncong/BstemAtlasData/CSHL_data_processed/ChatCryoJane201710/ChatCryoJane201710_prep2_lossless_Ntb/ChatCryoJane201710_slide13-S1_prep2_lossless_Ntb.tif -crop 2000x2000+5570+1081 /tmp/tmp.tif\n",
      "Region 8: x=281, y=9723, w=2000, h=2000\n",
      "convert /media/yuncong/BstemAtlasData/CSHL_data_processed/ChatCryoJane201710/ChatCryoJane201710_prep2_lossless_Ntb/ChatCryoJane201710_slide12-S3_prep2_lossless_Ntb.tif -crop 2000x2000+281+9723 /tmp/tmp.tif\n",
      "convert /media/yuncong/BstemAtlasData/CSHL_data_processed/ChatCryoJane201710/ChatCryoJane201710_prep2_lossless_Ntb/ChatCryoJane201710_slide13-S1_prep2_lossless_Ntb.tif -crop 2000x2000+281+9723 /tmp/tmp.tif\n",
      "Region 9: x=13236, y=6240, w=2000, h=2000\n",
      "convert /media/yuncong/BstemAtlasData/CSHL_data_processed/ChatCryoJane201710/ChatCryoJane201710_prep2_lossless_Ntb/ChatCryoJane201710_slide12-S3_prep2_lossless_Ntb.tif -crop 2000x2000+13236+6240 /tmp/tmp.tif\n",
      "convert /media/yuncong/BstemAtlasData/CSHL_data_processed/ChatCryoJane201710/ChatCryoJane201710_prep2_lossless_Ntb/ChatCryoJane201710_slide13-S1_prep2_lossless_Ntb.tif -crop 2000x2000+13236+6240 /tmp/tmp.tif\n",
      "aws s3 cp \"/media/yuncong/BstemAtlasData/CSHL_data_processed/ChatCryoJane201710/ChatCryoJane201710_intensity_mapping/ChatCryoJane201710_slide13-S1_to_ChatCryoJane201710_slide12-S3_intensity_mapping_all_regions.npy\" \"s3://mousebrainatlas-data/CSHL_data_processed/ChatCryoJane201710/ChatCryoJane201710_intensity_mapping/ChatCryoJane201710_slide13-S1_to_ChatCryoJane201710_slide12-S3_intensity_mapping_all_regions.npy\"\n",
      "aws s3 cp \"/media/yuncong/BstemAtlasData/CSHL_data_processed/ChatCryoJane201710/ChatCryoJane201710_intensity_mapping/ChatCryoJane201710_slide13-S1_to_ChatCryoJane201710_slide12-S3_region_bboxes.npy\" \"s3://mousebrainatlas-data/CSHL_data_processed/ChatCryoJane201710/ChatCryoJane201710_intensity_mapping/ChatCryoJane201710_slide13-S1_to_ChatCryoJane201710_slide12-S3_region_bboxes.npy\"\n"
     ]
    },
    {
     "name": "stderr",
     "output_type": "stream",
     "text": [
      "ntb 37, ntb 38\n"
     ]
    },
    {
     "name": "stdout",
     "output_type": "stream",
     "text": [
      "rm -rf \"/media/yuncong/BstemAtlasData/CSHL_data_processed/ChatCryoJane201710/ChatCryoJane201710_prep2_thumbnail_mask/ChatCryoJane201710_slide13-S1_prep2_thumbnail_mask.png\" && mkdir -p \"/media/yuncong/BstemAtlasData/CSHL_data_processed/ChatCryoJane201710/ChatCryoJane201710_prep2_thumbnail_mask\"\n",
      "aws s3 cp \"s3://mousebrainatlas-data/CSHL_data_processed/ChatCryoJane201710/ChatCryoJane201710_prep2_thumbnail_mask/ChatCryoJane201710_slide13-S1_prep2_thumbnail_mask.png\" \"/media/yuncong/BstemAtlasData/CSHL_data_processed/ChatCryoJane201710/ChatCryoJane201710_prep2_thumbnail_mask/ChatCryoJane201710_slide13-S1_prep2_thumbnail_mask.png\"\n"
     ]
    },
    {
     "name": "stderr",
     "output_type": "stream",
     "text": [
      "Load NTB1: 0.00 seconds.\n",
      "Load NTB2: 0.00 seconds.\n"
     ]
    },
    {
     "name": "stdout",
     "output_type": "stream",
     "text": [
      "Region 0: x=7107, y=8722, w=2000, h=2000\n",
      "convert /media/yuncong/BstemAtlasData/CSHL_data_processed/ChatCryoJane201710/ChatCryoJane201710_prep2_lossless_Ntb/ChatCryoJane201710_slide13-S1_prep2_lossless_Ntb.tif -crop 2000x2000+7107+8722 /tmp/tmp.tif\n",
      "convert /media/yuncong/BstemAtlasData/CSHL_data_processed/ChatCryoJane201710/ChatCryoJane201710_prep2_lossless_Ntb/ChatCryoJane201710_slide14-S1_prep2_lossless_Ntb.tif -crop 2000x2000+7107+8722 /tmp/tmp.tif\n",
      "Region 1: x=6534, y=7872, w=2000, h=2000\n",
      "convert /media/yuncong/BstemAtlasData/CSHL_data_processed/ChatCryoJane201710/ChatCryoJane201710_prep2_lossless_Ntb/ChatCryoJane201710_slide13-S1_prep2_lossless_Ntb.tif -crop 2000x2000+6534+7872 /tmp/tmp.tif\n",
      "convert /media/yuncong/BstemAtlasData/CSHL_data_processed/ChatCryoJane201710/ChatCryoJane201710_prep2_lossless_Ntb/ChatCryoJane201710_slide14-S1_prep2_lossless_Ntb.tif -crop 2000x2000+6534+7872 /tmp/tmp.tif\n",
      "Region 2: x=1158, y=14534, w=2000, h=2000\n",
      "convert /media/yuncong/BstemAtlasData/CSHL_data_processed/ChatCryoJane201710/ChatCryoJane201710_prep2_lossless_Ntb/ChatCryoJane201710_slide13-S1_prep2_lossless_Ntb.tif -crop 2000x2000+1158+14534 /tmp/tmp.tif\n",
      "convert /media/yuncong/BstemAtlasData/CSHL_data_processed/ChatCryoJane201710/ChatCryoJane201710_prep2_lossless_Ntb/ChatCryoJane201710_slide14-S1_prep2_lossless_Ntb.tif -crop 2000x2000+1158+14534 /tmp/tmp.tif\n",
      "Region 3: x=8772, y=9650, w=2000, h=2000\n",
      "convert /media/yuncong/BstemAtlasData/CSHL_data_processed/ChatCryoJane201710/ChatCryoJane201710_prep2_lossless_Ntb/ChatCryoJane201710_slide13-S1_prep2_lossless_Ntb.tif -crop 2000x2000+8772+9650 /tmp/tmp.tif\n",
      "convert /media/yuncong/BstemAtlasData/CSHL_data_processed/ChatCryoJane201710/ChatCryoJane201710_prep2_lossless_Ntb/ChatCryoJane201710_slide14-S1_prep2_lossless_Ntb.tif -crop 2000x2000+8772+9650 /tmp/tmp.tif\n",
      "Region 4: x=8048, y=8564, w=2000, h=2000\n",
      "convert /media/yuncong/BstemAtlasData/CSHL_data_processed/ChatCryoJane201710/ChatCryoJane201710_prep2_lossless_Ntb/ChatCryoJane201710_slide13-S1_prep2_lossless_Ntb.tif -crop 2000x2000+8048+8564 /tmp/tmp.tif\n",
      "convert /media/yuncong/BstemAtlasData/CSHL_data_processed/ChatCryoJane201710/ChatCryoJane201710_prep2_lossless_Ntb/ChatCryoJane201710_slide14-S1_prep2_lossless_Ntb.tif -crop 2000x2000+8048+8564 /tmp/tmp.tif\n",
      "Region 5: x=7283, y=9717, w=2000, h=2000\n",
      "convert /media/yuncong/BstemAtlasData/CSHL_data_processed/ChatCryoJane201710/ChatCryoJane201710_prep2_lossless_Ntb/ChatCryoJane201710_slide13-S1_prep2_lossless_Ntb.tif -crop 2000x2000+7283+9717 /tmp/tmp.tif\n",
      "convert /media/yuncong/BstemAtlasData/CSHL_data_processed/ChatCryoJane201710/ChatCryoJane201710_prep2_lossless_Ntb/ChatCryoJane201710_slide14-S1_prep2_lossless_Ntb.tif -crop 2000x2000+7283+9717 /tmp/tmp.tif\n",
      "Region 6: x=4816, y=9935, w=2000, h=2000\n",
      "convert /media/yuncong/BstemAtlasData/CSHL_data_processed/ChatCryoJane201710/ChatCryoJane201710_prep2_lossless_Ntb/ChatCryoJane201710_slide13-S1_prep2_lossless_Ntb.tif -crop 2000x2000+4816+9935 /tmp/tmp.tif\n",
      "convert /media/yuncong/BstemAtlasData/CSHL_data_processed/ChatCryoJane201710/ChatCryoJane201710_prep2_lossless_Ntb/ChatCryoJane201710_slide14-S1_prep2_lossless_Ntb.tif -crop 2000x2000+4816+9935 /tmp/tmp.tif\n",
      "Region 7: x=193, y=8216, w=2000, h=2000\n",
      "convert /media/yuncong/BstemAtlasData/CSHL_data_processed/ChatCryoJane201710/ChatCryoJane201710_prep2_lossless_Ntb/ChatCryoJane201710_slide13-S1_prep2_lossless_Ntb.tif -crop 2000x2000+193+8216 /tmp/tmp.tif\n",
      "convert /media/yuncong/BstemAtlasData/CSHL_data_processed/ChatCryoJane201710/ChatCryoJane201710_prep2_lossless_Ntb/ChatCryoJane201710_slide14-S1_prep2_lossless_Ntb.tif -crop 2000x2000+193+8216 /tmp/tmp.tif\n",
      "Region 8: x=8544, y=3953, w=2000, h=2000\n",
      "convert /media/yuncong/BstemAtlasData/CSHL_data_processed/ChatCryoJane201710/ChatCryoJane201710_prep2_lossless_Ntb/ChatCryoJane201710_slide13-S1_prep2_lossless_Ntb.tif -crop 2000x2000+8544+3953 /tmp/tmp.tif\n",
      "convert /media/yuncong/BstemAtlasData/CSHL_data_processed/ChatCryoJane201710/ChatCryoJane201710_prep2_lossless_Ntb/ChatCryoJane201710_slide14-S1_prep2_lossless_Ntb.tif -crop 2000x2000+8544+3953 /tmp/tmp.tif\n",
      "Region 9: x=11061, y=10043, w=2000, h=2000\n",
      "convert /media/yuncong/BstemAtlasData/CSHL_data_processed/ChatCryoJane201710/ChatCryoJane201710_prep2_lossless_Ntb/ChatCryoJane201710_slide13-S1_prep2_lossless_Ntb.tif -crop 2000x2000+11061+10043 /tmp/tmp.tif\n",
      "convert /media/yuncong/BstemAtlasData/CSHL_data_processed/ChatCryoJane201710/ChatCryoJane201710_prep2_lossless_Ntb/ChatCryoJane201710_slide14-S1_prep2_lossless_Ntb.tif -crop 2000x2000+11061+10043 /tmp/tmp.tif\n",
      "aws s3 cp \"/media/yuncong/BstemAtlasData/CSHL_data_processed/ChatCryoJane201710/ChatCryoJane201710_intensity_mapping/ChatCryoJane201710_slide14-S1_to_ChatCryoJane201710_slide13-S1_intensity_mapping_all_regions.npy\" \"s3://mousebrainatlas-data/CSHL_data_processed/ChatCryoJane201710/ChatCryoJane201710_intensity_mapping/ChatCryoJane201710_slide14-S1_to_ChatCryoJane201710_slide13-S1_intensity_mapping_all_regions.npy\"\n",
      "aws s3 cp \"/media/yuncong/BstemAtlasData/CSHL_data_processed/ChatCryoJane201710/ChatCryoJane201710_intensity_mapping/ChatCryoJane201710_slide14-S1_to_ChatCryoJane201710_slide13-S1_region_bboxes.npy\" \"s3://mousebrainatlas-data/CSHL_data_processed/ChatCryoJane201710/ChatCryoJane201710_intensity_mapping/ChatCryoJane201710_slide14-S1_to_ChatCryoJane201710_slide13-S1_region_bboxes.npy\"\n"
     ]
    },
    {
     "name": "stderr",
     "output_type": "stream",
     "text": [
      "ntb 38, ntb 39\n"
     ]
    },
    {
     "name": "stdout",
     "output_type": "stream",
     "text": [
      "rm -rf \"/media/yuncong/BstemAtlasData/CSHL_data_processed/ChatCryoJane201710/ChatCryoJane201710_prep2_thumbnail_mask/ChatCryoJane201710_slide14-S1_prep2_thumbnail_mask.png\" && mkdir -p \"/media/yuncong/BstemAtlasData/CSHL_data_processed/ChatCryoJane201710/ChatCryoJane201710_prep2_thumbnail_mask\"\n",
      "aws s3 cp \"s3://mousebrainatlas-data/CSHL_data_processed/ChatCryoJane201710/ChatCryoJane201710_prep2_thumbnail_mask/ChatCryoJane201710_slide14-S1_prep2_thumbnail_mask.png\" \"/media/yuncong/BstemAtlasData/CSHL_data_processed/ChatCryoJane201710/ChatCryoJane201710_prep2_thumbnail_mask/ChatCryoJane201710_slide14-S1_prep2_thumbnail_mask.png\"\n"
     ]
    },
    {
     "name": "stderr",
     "output_type": "stream",
     "text": [
      "Load NTB1: 0.00 seconds.\n",
      "Load NTB2: 0.00 seconds.\n"
     ]
    },
    {
     "name": "stdout",
     "output_type": "stream",
     "text": [
      "Region 0: x=11266, y=5158, w=2000, h=2000\n",
      "convert /media/yuncong/BstemAtlasData/CSHL_data_processed/ChatCryoJane201710/ChatCryoJane201710_prep2_lossless_Ntb/ChatCryoJane201710_slide14-S1_prep2_lossless_Ntb.tif -crop 2000x2000+11266+5158 /tmp/tmp.tif\n",
      "convert /media/yuncong/BstemAtlasData/CSHL_data_processed/ChatCryoJane201710/ChatCryoJane201710_prep2_lossless_Ntb/ChatCryoJane201710_slide13-S2_prep2_lossless_Ntb.tif -crop 2000x2000+11266+5158 /tmp/tmp.tif\n",
      "Region 1: x=11054, y=6266, w=2000, h=2000\n",
      "convert /media/yuncong/BstemAtlasData/CSHL_data_processed/ChatCryoJane201710/ChatCryoJane201710_prep2_lossless_Ntb/ChatCryoJane201710_slide14-S1_prep2_lossless_Ntb.tif -crop 2000x2000+11054+6266 /tmp/tmp.tif\n",
      "convert /media/yuncong/BstemAtlasData/CSHL_data_processed/ChatCryoJane201710/ChatCryoJane201710_prep2_lossless_Ntb/ChatCryoJane201710_slide13-S2_prep2_lossless_Ntb.tif -crop 2000x2000+11054+6266 /tmp/tmp.tif\n",
      "Region 2: x=13778, y=3988, w=2000, h=2000\n",
      "convert /media/yuncong/BstemAtlasData/CSHL_data_processed/ChatCryoJane201710/ChatCryoJane201710_prep2_lossless_Ntb/ChatCryoJane201710_slide14-S1_prep2_lossless_Ntb.tif -crop 2000x2000+13778+3988 /tmp/tmp.tif\n",
      "convert /media/yuncong/BstemAtlasData/CSHL_data_processed/ChatCryoJane201710/ChatCryoJane201710_prep2_lossless_Ntb/ChatCryoJane201710_slide13-S2_prep2_lossless_Ntb.tif -crop 2000x2000+13778+3988 /tmp/tmp.tif\n",
      "Region 3: x=4586, y=6874, w=2000, h=2000\n",
      "convert /media/yuncong/BstemAtlasData/CSHL_data_processed/ChatCryoJane201710/ChatCryoJane201710_prep2_lossless_Ntb/ChatCryoJane201710_slide14-S1_prep2_lossless_Ntb.tif -crop 2000x2000+4586+6874 /tmp/tmp.tif\n",
      "convert /media/yuncong/BstemAtlasData/CSHL_data_processed/ChatCryoJane201710/ChatCryoJane201710_prep2_lossless_Ntb/ChatCryoJane201710_slide13-S2_prep2_lossless_Ntb.tif -crop 2000x2000+4586+6874 /tmp/tmp.tif\n",
      "Region 4: x=4724, y=12642, w=2000, h=2000\n",
      "convert /media/yuncong/BstemAtlasData/CSHL_data_processed/ChatCryoJane201710/ChatCryoJane201710_prep2_lossless_Ntb/ChatCryoJane201710_slide14-S1_prep2_lossless_Ntb.tif -crop 2000x2000+4724+12642 /tmp/tmp.tif\n",
      "convert /media/yuncong/BstemAtlasData/CSHL_data_processed/ChatCryoJane201710/ChatCryoJane201710_prep2_lossless_Ntb/ChatCryoJane201710_slide13-S2_prep2_lossless_Ntb.tif -crop 2000x2000+4724+12642 /tmp/tmp.tif\n",
      "Region 5: x=7057, y=3358, w=2000, h=2000\n",
      "convert /media/yuncong/BstemAtlasData/CSHL_data_processed/ChatCryoJane201710/ChatCryoJane201710_prep2_lossless_Ntb/ChatCryoJane201710_slide14-S1_prep2_lossless_Ntb.tif -crop 2000x2000+7057+3358 /tmp/tmp.tif\n",
      "convert /media/yuncong/BstemAtlasData/CSHL_data_processed/ChatCryoJane201710/ChatCryoJane201710_prep2_lossless_Ntb/ChatCryoJane201710_slide13-S2_prep2_lossless_Ntb.tif -crop 2000x2000+7057+3358 /tmp/tmp.tif\n",
      "Region 6: x=3968, y=4285, w=2000, h=2000\n",
      "convert /media/yuncong/BstemAtlasData/CSHL_data_processed/ChatCryoJane201710/ChatCryoJane201710_prep2_lossless_Ntb/ChatCryoJane201710_slide14-S1_prep2_lossless_Ntb.tif -crop 2000x2000+3968+4285 /tmp/tmp.tif\n",
      "convert /media/yuncong/BstemAtlasData/CSHL_data_processed/ChatCryoJane201710/ChatCryoJane201710_prep2_lossless_Ntb/ChatCryoJane201710_slide13-S2_prep2_lossless_Ntb.tif -crop 2000x2000+3968+4285 /tmp/tmp.tif\n",
      "Region 7: x=16370, y=4690, w=2000, h=2000\n",
      "convert /media/yuncong/BstemAtlasData/CSHL_data_processed/ChatCryoJane201710/ChatCryoJane201710_prep2_lossless_Ntb/ChatCryoJane201710_slide14-S1_prep2_lossless_Ntb.tif -crop 2000x2000+16370+4690 /tmp/tmp.tif\n",
      "convert /media/yuncong/BstemAtlasData/CSHL_data_processed/ChatCryoJane201710/ChatCryoJane201710_prep2_lossless_Ntb/ChatCryoJane201710_slide13-S2_prep2_lossless_Ntb.tif -crop 2000x2000+16370+4690 /tmp/tmp.tif\n",
      "Region 8: x=3112, y=5283, w=2000, h=2000\n",
      "convert /media/yuncong/BstemAtlasData/CSHL_data_processed/ChatCryoJane201710/ChatCryoJane201710_prep2_lossless_Ntb/ChatCryoJane201710_slide14-S1_prep2_lossless_Ntb.tif -crop 2000x2000+3112+5283 /tmp/tmp.tif\n",
      "convert /media/yuncong/BstemAtlasData/CSHL_data_processed/ChatCryoJane201710/ChatCryoJane201710_prep2_lossless_Ntb/ChatCryoJane201710_slide13-S2_prep2_lossless_Ntb.tif -crop 2000x2000+3112+5283 /tmp/tmp.tif\n",
      "Region 9: x=11106, y=9882, w=2000, h=2000\n",
      "convert /media/yuncong/BstemAtlasData/CSHL_data_processed/ChatCryoJane201710/ChatCryoJane201710_prep2_lossless_Ntb/ChatCryoJane201710_slide14-S1_prep2_lossless_Ntb.tif -crop 2000x2000+11106+9882 /tmp/tmp.tif\n",
      "convert /media/yuncong/BstemAtlasData/CSHL_data_processed/ChatCryoJane201710/ChatCryoJane201710_prep2_lossless_Ntb/ChatCryoJane201710_slide13-S2_prep2_lossless_Ntb.tif -crop 2000x2000+11106+9882 /tmp/tmp.tif\n",
      "aws s3 cp \"/media/yuncong/BstemAtlasData/CSHL_data_processed/ChatCryoJane201710/ChatCryoJane201710_intensity_mapping/ChatCryoJane201710_slide13-S2_to_ChatCryoJane201710_slide14-S1_intensity_mapping_all_regions.npy\" \"s3://mousebrainatlas-data/CSHL_data_processed/ChatCryoJane201710/ChatCryoJane201710_intensity_mapping/ChatCryoJane201710_slide13-S2_to_ChatCryoJane201710_slide14-S1_intensity_mapping_all_regions.npy\"\n",
      "aws s3 cp \"/media/yuncong/BstemAtlasData/CSHL_data_processed/ChatCryoJane201710/ChatCryoJane201710_intensity_mapping/ChatCryoJane201710_slide13-S2_to_ChatCryoJane201710_slide14-S1_region_bboxes.npy\" \"s3://mousebrainatlas-data/CSHL_data_processed/ChatCryoJane201710/ChatCryoJane201710_intensity_mapping/ChatCryoJane201710_slide13-S2_to_ChatCryoJane201710_slide14-S1_region_bboxes.npy\"\n"
     ]
    },
    {
     "name": "stderr",
     "output_type": "stream",
     "text": [
      "ntb 39, ntb 40\n"
     ]
    },
    {
     "name": "stdout",
     "output_type": "stream",
     "text": [
      "rm -rf \"/media/yuncong/BstemAtlasData/CSHL_data_processed/ChatCryoJane201710/ChatCryoJane201710_prep2_thumbnail_mask/ChatCryoJane201710_slide13-S2_prep2_thumbnail_mask.png\" && mkdir -p \"/media/yuncong/BstemAtlasData/CSHL_data_processed/ChatCryoJane201710/ChatCryoJane201710_prep2_thumbnail_mask\"\n",
      "aws s3 cp \"s3://mousebrainatlas-data/CSHL_data_processed/ChatCryoJane201710/ChatCryoJane201710_prep2_thumbnail_mask/ChatCryoJane201710_slide13-S2_prep2_thumbnail_mask.png\" \"/media/yuncong/BstemAtlasData/CSHL_data_processed/ChatCryoJane201710/ChatCryoJane201710_prep2_thumbnail_mask/ChatCryoJane201710_slide13-S2_prep2_thumbnail_mask.png\"\n"
     ]
    },
    {
     "name": "stderr",
     "output_type": "stream",
     "text": [
      "Load NTB1: 0.00 seconds.\n",
      "Load NTB2: 0.00 seconds.\n"
     ]
    },
    {
     "name": "stdout",
     "output_type": "stream",
     "text": [
      "Region 0: x=1636, y=14747, w=2000, h=2000\n",
      "convert /media/yuncong/BstemAtlasData/CSHL_data_processed/ChatCryoJane201710/ChatCryoJane201710_prep2_lossless_Ntb/ChatCryoJane201710_slide13-S2_prep2_lossless_Ntb.tif -crop 2000x2000+1636+14747 /tmp/tmp.tif\n",
      "convert /media/yuncong/BstemAtlasData/CSHL_data_processed/ChatCryoJane201710/ChatCryoJane201710_prep2_lossless_Ntb/ChatCryoJane201710_slide14-S2_prep2_lossless_Ntb.tif -crop 2000x2000+1636+14747 /tmp/tmp.tif\n",
      "Region 1: x=13105, y=3399, w=2000, h=2000\n",
      "convert /media/yuncong/BstemAtlasData/CSHL_data_processed/ChatCryoJane201710/ChatCryoJane201710_prep2_lossless_Ntb/ChatCryoJane201710_slide13-S2_prep2_lossless_Ntb.tif -crop 2000x2000+13105+3399 /tmp/tmp.tif\n",
      "convert /media/yuncong/BstemAtlasData/CSHL_data_processed/ChatCryoJane201710/ChatCryoJane201710_prep2_lossless_Ntb/ChatCryoJane201710_slide14-S2_prep2_lossless_Ntb.tif -crop 2000x2000+13105+3399 /tmp/tmp.tif\n",
      "Region 2: x=13145, y=4141, w=2000, h=2000\n",
      "convert /media/yuncong/BstemAtlasData/CSHL_data_processed/ChatCryoJane201710/ChatCryoJane201710_prep2_lossless_Ntb/ChatCryoJane201710_slide13-S2_prep2_lossless_Ntb.tif -crop 2000x2000+13145+4141 /tmp/tmp.tif\n",
      "convert /media/yuncong/BstemAtlasData/CSHL_data_processed/ChatCryoJane201710/ChatCryoJane201710_prep2_lossless_Ntb/ChatCryoJane201710_slide14-S2_prep2_lossless_Ntb.tif -crop 2000x2000+13145+4141 /tmp/tmp.tif\n",
      "Region 3: x=7114, y=9081, w=2000, h=2000\n",
      "convert /media/yuncong/BstemAtlasData/CSHL_data_processed/ChatCryoJane201710/ChatCryoJane201710_prep2_lossless_Ntb/ChatCryoJane201710_slide13-S2_prep2_lossless_Ntb.tif -crop 2000x2000+7114+9081 /tmp/tmp.tif\n",
      "convert /media/yuncong/BstemAtlasData/CSHL_data_processed/ChatCryoJane201710/ChatCryoJane201710_prep2_lossless_Ntb/ChatCryoJane201710_slide14-S2_prep2_lossless_Ntb.tif -crop 2000x2000+7114+9081 /tmp/tmp.tif\n",
      "Region 4: x=7214, y=9870, w=2000, h=2000\n",
      "convert /media/yuncong/BstemAtlasData/CSHL_data_processed/ChatCryoJane201710/ChatCryoJane201710_prep2_lossless_Ntb/ChatCryoJane201710_slide13-S2_prep2_lossless_Ntb.tif -crop 2000x2000+7214+9870 /tmp/tmp.tif\n",
      "convert /media/yuncong/BstemAtlasData/CSHL_data_processed/ChatCryoJane201710/ChatCryoJane201710_prep2_lossless_Ntb/ChatCryoJane201710_slide14-S2_prep2_lossless_Ntb.tif -crop 2000x2000+7214+9870 /tmp/tmp.tif\n",
      "Region 5: x=2421, y=3074, w=2000, h=2000\n",
      "convert /media/yuncong/BstemAtlasData/CSHL_data_processed/ChatCryoJane201710/ChatCryoJane201710_prep2_lossless_Ntb/ChatCryoJane201710_slide13-S2_prep2_lossless_Ntb.tif -crop 2000x2000+2421+3074 /tmp/tmp.tif\n",
      "convert /media/yuncong/BstemAtlasData/CSHL_data_processed/ChatCryoJane201710/ChatCryoJane201710_prep2_lossless_Ntb/ChatCryoJane201710_slide14-S2_prep2_lossless_Ntb.tif -crop 2000x2000+2421+3074 /tmp/tmp.tif\n",
      "Region 6: x=6495, y=8163, w=2000, h=2000\n",
      "convert /media/yuncong/BstemAtlasData/CSHL_data_processed/ChatCryoJane201710/ChatCryoJane201710_prep2_lossless_Ntb/ChatCryoJane201710_slide13-S2_prep2_lossless_Ntb.tif -crop 2000x2000+6495+8163 /tmp/tmp.tif\n",
      "convert /media/yuncong/BstemAtlasData/CSHL_data_processed/ChatCryoJane201710/ChatCryoJane201710_prep2_lossless_Ntb/ChatCryoJane201710_slide14-S2_prep2_lossless_Ntb.tif -crop 2000x2000+6495+8163 /tmp/tmp.tif\n",
      "Region 7: x=7562, y=8417, w=2000, h=2000\n",
      "convert /media/yuncong/BstemAtlasData/CSHL_data_processed/ChatCryoJane201710/ChatCryoJane201710_prep2_lossless_Ntb/ChatCryoJane201710_slide13-S2_prep2_lossless_Ntb.tif -crop 2000x2000+7562+8417 /tmp/tmp.tif\n",
      "convert /media/yuncong/BstemAtlasData/CSHL_data_processed/ChatCryoJane201710/ChatCryoJane201710_prep2_lossless_Ntb/ChatCryoJane201710_slide14-S2_prep2_lossless_Ntb.tif -crop 2000x2000+7562+8417 /tmp/tmp.tif\n",
      "Region 8: x=6195, y=2843, w=2000, h=2000\n",
      "convert /media/yuncong/BstemAtlasData/CSHL_data_processed/ChatCryoJane201710/ChatCryoJane201710_prep2_lossless_Ntb/ChatCryoJane201710_slide13-S2_prep2_lossless_Ntb.tif -crop 2000x2000+6195+2843 /tmp/tmp.tif\n",
      "convert /media/yuncong/BstemAtlasData/CSHL_data_processed/ChatCryoJane201710/ChatCryoJane201710_prep2_lossless_Ntb/ChatCryoJane201710_slide14-S2_prep2_lossless_Ntb.tif -crop 2000x2000+6195+2843 /tmp/tmp.tif\n",
      "Region 9: x=14569, y=4572, w=2000, h=2000\n",
      "convert /media/yuncong/BstemAtlasData/CSHL_data_processed/ChatCryoJane201710/ChatCryoJane201710_prep2_lossless_Ntb/ChatCryoJane201710_slide13-S2_prep2_lossless_Ntb.tif -crop 2000x2000+14569+4572 /tmp/tmp.tif\n",
      "convert /media/yuncong/BstemAtlasData/CSHL_data_processed/ChatCryoJane201710/ChatCryoJane201710_prep2_lossless_Ntb/ChatCryoJane201710_slide14-S2_prep2_lossless_Ntb.tif -crop 2000x2000+14569+4572 /tmp/tmp.tif\n",
      "aws s3 cp \"/media/yuncong/BstemAtlasData/CSHL_data_processed/ChatCryoJane201710/ChatCryoJane201710_intensity_mapping/ChatCryoJane201710_slide14-S2_to_ChatCryoJane201710_slide13-S2_intensity_mapping_all_regions.npy\" \"s3://mousebrainatlas-data/CSHL_data_processed/ChatCryoJane201710/ChatCryoJane201710_intensity_mapping/ChatCryoJane201710_slide14-S2_to_ChatCryoJane201710_slide13-S2_intensity_mapping_all_regions.npy\"\n",
      "aws s3 cp \"/media/yuncong/BstemAtlasData/CSHL_data_processed/ChatCryoJane201710/ChatCryoJane201710_intensity_mapping/ChatCryoJane201710_slide14-S2_to_ChatCryoJane201710_slide13-S2_region_bboxes.npy\" \"s3://mousebrainatlas-data/CSHL_data_processed/ChatCryoJane201710/ChatCryoJane201710_intensity_mapping/ChatCryoJane201710_slide14-S2_to_ChatCryoJane201710_slide13-S2_region_bboxes.npy\"\n"
     ]
    },
    {
     "name": "stderr",
     "output_type": "stream",
     "text": [
      "ntb 40, ntb 41\n"
     ]
    },
    {
     "name": "stdout",
     "output_type": "stream",
     "text": [
      "rm -rf \"/media/yuncong/BstemAtlasData/CSHL_data_processed/ChatCryoJane201710/ChatCryoJane201710_prep2_thumbnail_mask/ChatCryoJane201710_slide14-S2_prep2_thumbnail_mask.png\" && mkdir -p \"/media/yuncong/BstemAtlasData/CSHL_data_processed/ChatCryoJane201710/ChatCryoJane201710_prep2_thumbnail_mask\"\n",
      "aws s3 cp \"s3://mousebrainatlas-data/CSHL_data_processed/ChatCryoJane201710/ChatCryoJane201710_prep2_thumbnail_mask/ChatCryoJane201710_slide14-S2_prep2_thumbnail_mask.png\" \"/media/yuncong/BstemAtlasData/CSHL_data_processed/ChatCryoJane201710/ChatCryoJane201710_prep2_thumbnail_mask/ChatCryoJane201710_slide14-S2_prep2_thumbnail_mask.png\"\n"
     ]
    },
    {
     "name": "stderr",
     "output_type": "stream",
     "text": [
      "Load NTB1: 0.00 seconds.\n",
      "Load NTB2: 0.00 seconds.\n"
     ]
    },
    {
     "name": "stdout",
     "output_type": "stream",
     "text": [
      "Region 0: x=8133, y=2954, w=2000, h=2000\n",
      "convert /media/yuncong/BstemAtlasData/CSHL_data_processed/ChatCryoJane201710/ChatCryoJane201710_prep2_lossless_Ntb/ChatCryoJane201710_slide14-S2_prep2_lossless_Ntb.tif -crop 2000x2000+8133+2954 /tmp/tmp.tif\n",
      "convert /media/yuncong/BstemAtlasData/CSHL_data_processed/ChatCryoJane201710/ChatCryoJane201710_prep2_lossless_Ntb/ChatCryoJane201710_slide13-S3_prep2_lossless_Ntb.tif -crop 2000x2000+8133+2954 /tmp/tmp.tif\n",
      "Region 1: x=1663, y=6550, w=2000, h=2000\n",
      "convert /media/yuncong/BstemAtlasData/CSHL_data_processed/ChatCryoJane201710/ChatCryoJane201710_prep2_lossless_Ntb/ChatCryoJane201710_slide14-S2_prep2_lossless_Ntb.tif -crop 2000x2000+1663+6550 /tmp/tmp.tif\n",
      "convert /media/yuncong/BstemAtlasData/CSHL_data_processed/ChatCryoJane201710/ChatCryoJane201710_prep2_lossless_Ntb/ChatCryoJane201710_slide13-S3_prep2_lossless_Ntb.tif -crop 2000x2000+1663+6550 /tmp/tmp.tif\n",
      "Region 2: x=8795, y=8609, w=2000, h=2000\n",
      "convert /media/yuncong/BstemAtlasData/CSHL_data_processed/ChatCryoJane201710/ChatCryoJane201710_prep2_lossless_Ntb/ChatCryoJane201710_slide14-S2_prep2_lossless_Ntb.tif -crop 2000x2000+8795+8609 /tmp/tmp.tif\n",
      "convert /media/yuncong/BstemAtlasData/CSHL_data_processed/ChatCryoJane201710/ChatCryoJane201710_prep2_lossless_Ntb/ChatCryoJane201710_slide13-S3_prep2_lossless_Ntb.tif -crop 2000x2000+8795+8609 /tmp/tmp.tif\n",
      "Region 3: x=8486, y=4567, w=2000, h=2000\n",
      "convert /media/yuncong/BstemAtlasData/CSHL_data_processed/ChatCryoJane201710/ChatCryoJane201710_prep2_lossless_Ntb/ChatCryoJane201710_slide14-S2_prep2_lossless_Ntb.tif -crop 2000x2000+8486+4567 /tmp/tmp.tif\n",
      "convert /media/yuncong/BstemAtlasData/CSHL_data_processed/ChatCryoJane201710/ChatCryoJane201710_prep2_lossless_Ntb/ChatCryoJane201710_slide13-S3_prep2_lossless_Ntb.tif -crop 2000x2000+8486+4567 /tmp/tmp.tif\n",
      "Region 4: x=9283, y=3213, w=2000, h=2000\n",
      "convert /media/yuncong/BstemAtlasData/CSHL_data_processed/ChatCryoJane201710/ChatCryoJane201710_prep2_lossless_Ntb/ChatCryoJane201710_slide14-S2_prep2_lossless_Ntb.tif -crop 2000x2000+9283+3213 /tmp/tmp.tif\n",
      "convert /media/yuncong/BstemAtlasData/CSHL_data_processed/ChatCryoJane201710/ChatCryoJane201710_prep2_lossless_Ntb/ChatCryoJane201710_slide13-S3_prep2_lossless_Ntb.tif -crop 2000x2000+9283+3213 /tmp/tmp.tif\n",
      "Region 5: x=7181, y=4690, w=2000, h=2000\n",
      "convert /media/yuncong/BstemAtlasData/CSHL_data_processed/ChatCryoJane201710/ChatCryoJane201710_prep2_lossless_Ntb/ChatCryoJane201710_slide14-S2_prep2_lossless_Ntb.tif -crop 2000x2000+7181+4690 /tmp/tmp.tif\n",
      "convert /media/yuncong/BstemAtlasData/CSHL_data_processed/ChatCryoJane201710/ChatCryoJane201710_prep2_lossless_Ntb/ChatCryoJane201710_slide13-S3_prep2_lossless_Ntb.tif -crop 2000x2000+7181+4690 /tmp/tmp.tif\n",
      "Region 6: x=2636, y=1858, w=2000, h=2000\n",
      "convert /media/yuncong/BstemAtlasData/CSHL_data_processed/ChatCryoJane201710/ChatCryoJane201710_prep2_lossless_Ntb/ChatCryoJane201710_slide14-S2_prep2_lossless_Ntb.tif -crop 2000x2000+2636+1858 /tmp/tmp.tif\n",
      "convert /media/yuncong/BstemAtlasData/CSHL_data_processed/ChatCryoJane201710/ChatCryoJane201710_prep2_lossless_Ntb/ChatCryoJane201710_slide13-S3_prep2_lossless_Ntb.tif -crop 2000x2000+2636+1858 /tmp/tmp.tif\n",
      "Region 7: x=11265, y=3104, w=2000, h=2000\n",
      "convert /media/yuncong/BstemAtlasData/CSHL_data_processed/ChatCryoJane201710/ChatCryoJane201710_prep2_lossless_Ntb/ChatCryoJane201710_slide14-S2_prep2_lossless_Ntb.tif -crop 2000x2000+11265+3104 /tmp/tmp.tif\n",
      "convert /media/yuncong/BstemAtlasData/CSHL_data_processed/ChatCryoJane201710/ChatCryoJane201710_prep2_lossless_Ntb/ChatCryoJane201710_slide13-S3_prep2_lossless_Ntb.tif -crop 2000x2000+11265+3104 /tmp/tmp.tif\n",
      "Region 8: x=5357, y=3295, w=2000, h=2000\n",
      "convert /media/yuncong/BstemAtlasData/CSHL_data_processed/ChatCryoJane201710/ChatCryoJane201710_prep2_lossless_Ntb/ChatCryoJane201710_slide14-S2_prep2_lossless_Ntb.tif -crop 2000x2000+5357+3295 /tmp/tmp.tif\n",
      "convert /media/yuncong/BstemAtlasData/CSHL_data_processed/ChatCryoJane201710/ChatCryoJane201710_prep2_lossless_Ntb/ChatCryoJane201710_slide13-S3_prep2_lossless_Ntb.tif -crop 2000x2000+5357+3295 /tmp/tmp.tif\n",
      "Region 9: x=11527, y=3565, w=2000, h=2000\n",
      "convert /media/yuncong/BstemAtlasData/CSHL_data_processed/ChatCryoJane201710/ChatCryoJane201710_prep2_lossless_Ntb/ChatCryoJane201710_slide14-S2_prep2_lossless_Ntb.tif -crop 2000x2000+11527+3565 /tmp/tmp.tif\n",
      "convert /media/yuncong/BstemAtlasData/CSHL_data_processed/ChatCryoJane201710/ChatCryoJane201710_prep2_lossless_Ntb/ChatCryoJane201710_slide13-S3_prep2_lossless_Ntb.tif -crop 2000x2000+11527+3565 /tmp/tmp.tif\n",
      "aws s3 cp \"/media/yuncong/BstemAtlasData/CSHL_data_processed/ChatCryoJane201710/ChatCryoJane201710_intensity_mapping/ChatCryoJane201710_slide13-S3_to_ChatCryoJane201710_slide14-S2_intensity_mapping_all_regions.npy\" \"s3://mousebrainatlas-data/CSHL_data_processed/ChatCryoJane201710/ChatCryoJane201710_intensity_mapping/ChatCryoJane201710_slide13-S3_to_ChatCryoJane201710_slide14-S2_intensity_mapping_all_regions.npy\"\n",
      "aws s3 cp \"/media/yuncong/BstemAtlasData/CSHL_data_processed/ChatCryoJane201710/ChatCryoJane201710_intensity_mapping/ChatCryoJane201710_slide13-S3_to_ChatCryoJane201710_slide14-S2_region_bboxes.npy\" \"s3://mousebrainatlas-data/CSHL_data_processed/ChatCryoJane201710/ChatCryoJane201710_intensity_mapping/ChatCryoJane201710_slide13-S3_to_ChatCryoJane201710_slide14-S2_region_bboxes.npy\"\n"
     ]
    },
    {
     "name": "stderr",
     "output_type": "stream",
     "text": [
      "ntb 41, ntb 42\n",
      "Load NTB1: 0.00 seconds.\n",
      "Load NTB2: 0.00 seconds.\n"
     ]
    },
    {
     "name": "stdout",
     "output_type": "stream",
     "text": [
      "Region 0: x=10586, y=8141, w=2000, h=2000\n",
      "convert /media/yuncong/BstemAtlasData/CSHL_data_processed/ChatCryoJane201710/ChatCryoJane201710_prep2_lossless_Ntb/ChatCryoJane201710_slide13-S3_prep2_lossless_Ntb.tif -crop 2000x2000+10586+8141 /tmp/tmp.tif\n",
      "convert /media/yuncong/BstemAtlasData/CSHL_data_processed/ChatCryoJane201710/ChatCryoJane201710_prep2_lossless_Ntb/ChatCryoJane201710_slide14-S3_prep2_lossless_Ntb.tif -crop 2000x2000+10586+8141 /tmp/tmp.tif\n",
      "Region 1: x=5567, y=9541, w=2000, h=2000\n",
      "convert /media/yuncong/BstemAtlasData/CSHL_data_processed/ChatCryoJane201710/ChatCryoJane201710_prep2_lossless_Ntb/ChatCryoJane201710_slide13-S3_prep2_lossless_Ntb.tif -crop 2000x2000+5567+9541 /tmp/tmp.tif\n",
      "convert /media/yuncong/BstemAtlasData/CSHL_data_processed/ChatCryoJane201710/ChatCryoJane201710_prep2_lossless_Ntb/ChatCryoJane201710_slide14-S3_prep2_lossless_Ntb.tif -crop 2000x2000+5567+9541 /tmp/tmp.tif\n",
      "Region 2: x=3672, y=10004, w=2000, h=2000\n",
      "convert /media/yuncong/BstemAtlasData/CSHL_data_processed/ChatCryoJane201710/ChatCryoJane201710_prep2_lossless_Ntb/ChatCryoJane201710_slide13-S3_prep2_lossless_Ntb.tif -crop 2000x2000+3672+10004 /tmp/tmp.tif\n",
      "convert /media/yuncong/BstemAtlasData/CSHL_data_processed/ChatCryoJane201710/ChatCryoJane201710_prep2_lossless_Ntb/ChatCryoJane201710_slide14-S3_prep2_lossless_Ntb.tif -crop 2000x2000+3672+10004 /tmp/tmp.tif\n",
      "Region 3: x=2913, y=8738, w=2000, h=2000\n",
      "convert /media/yuncong/BstemAtlasData/CSHL_data_processed/ChatCryoJane201710/ChatCryoJane201710_prep2_lossless_Ntb/ChatCryoJane201710_slide13-S3_prep2_lossless_Ntb.tif -crop 2000x2000+2913+8738 /tmp/tmp.tif\n",
      "convert /media/yuncong/BstemAtlasData/CSHL_data_processed/ChatCryoJane201710/ChatCryoJane201710_prep2_lossless_Ntb/ChatCryoJane201710_slide14-S3_prep2_lossless_Ntb.tif -crop 2000x2000+2913+8738 /tmp/tmp.tif\n",
      "Region 4: x=4442, y=10970, w=2000, h=2000\n",
      "convert /media/yuncong/BstemAtlasData/CSHL_data_processed/ChatCryoJane201710/ChatCryoJane201710_prep2_lossless_Ntb/ChatCryoJane201710_slide13-S3_prep2_lossless_Ntb.tif -crop 2000x2000+4442+10970 /tmp/tmp.tif\n",
      "convert /media/yuncong/BstemAtlasData/CSHL_data_processed/ChatCryoJane201710/ChatCryoJane201710_prep2_lossless_Ntb/ChatCryoJane201710_slide14-S3_prep2_lossless_Ntb.tif -crop 2000x2000+4442+10970 /tmp/tmp.tif\n",
      "Region 5: x=833, y=4148, w=2000, h=2000\n",
      "convert /media/yuncong/BstemAtlasData/CSHL_data_processed/ChatCryoJane201710/ChatCryoJane201710_prep2_lossless_Ntb/ChatCryoJane201710_slide13-S3_prep2_lossless_Ntb.tif -crop 2000x2000+833+4148 /tmp/tmp.tif\n",
      "convert /media/yuncong/BstemAtlasData/CSHL_data_processed/ChatCryoJane201710/ChatCryoJane201710_prep2_lossless_Ntb/ChatCryoJane201710_slide14-S3_prep2_lossless_Ntb.tif -crop 2000x2000+833+4148 /tmp/tmp.tif\n",
      "Region 6: x=12669, y=7050, w=2000, h=2000\n",
      "convert /media/yuncong/BstemAtlasData/CSHL_data_processed/ChatCryoJane201710/ChatCryoJane201710_prep2_lossless_Ntb/ChatCryoJane201710_slide13-S3_prep2_lossless_Ntb.tif -crop 2000x2000+12669+7050 /tmp/tmp.tif\n",
      "convert /media/yuncong/BstemAtlasData/CSHL_data_processed/ChatCryoJane201710/ChatCryoJane201710_prep2_lossless_Ntb/ChatCryoJane201710_slide14-S3_prep2_lossless_Ntb.tif -crop 2000x2000+12669+7050 /tmp/tmp.tif\n",
      "Region 7: x=13510, y=4540, w=2000, h=2000\n",
      "convert /media/yuncong/BstemAtlasData/CSHL_data_processed/ChatCryoJane201710/ChatCryoJane201710_prep2_lossless_Ntb/ChatCryoJane201710_slide13-S3_prep2_lossless_Ntb.tif -crop 2000x2000+13510+4540 /tmp/tmp.tif\n",
      "convert /media/yuncong/BstemAtlasData/CSHL_data_processed/ChatCryoJane201710/ChatCryoJane201710_prep2_lossless_Ntb/ChatCryoJane201710_slide14-S3_prep2_lossless_Ntb.tif -crop 2000x2000+13510+4540 /tmp/tmp.tif\n",
      "Region 8: x=2537, y=3236, w=2000, h=2000\n",
      "convert /media/yuncong/BstemAtlasData/CSHL_data_processed/ChatCryoJane201710/ChatCryoJane201710_prep2_lossless_Ntb/ChatCryoJane201710_slide13-S3_prep2_lossless_Ntb.tif -crop 2000x2000+2537+3236 /tmp/tmp.tif\n",
      "convert /media/yuncong/BstemAtlasData/CSHL_data_processed/ChatCryoJane201710/ChatCryoJane201710_prep2_lossless_Ntb/ChatCryoJane201710_slide14-S3_prep2_lossless_Ntb.tif -crop 2000x2000+2537+3236 /tmp/tmp.tif\n",
      "Region 9: x=8545, y=6094, w=2000, h=2000\n",
      "convert /media/yuncong/BstemAtlasData/CSHL_data_processed/ChatCryoJane201710/ChatCryoJane201710_prep2_lossless_Ntb/ChatCryoJane201710_slide13-S3_prep2_lossless_Ntb.tif -crop 2000x2000+8545+6094 /tmp/tmp.tif\n",
      "convert /media/yuncong/BstemAtlasData/CSHL_data_processed/ChatCryoJane201710/ChatCryoJane201710_prep2_lossless_Ntb/ChatCryoJane201710_slide14-S3_prep2_lossless_Ntb.tif -crop 2000x2000+8545+6094 /tmp/tmp.tif\n",
      "aws s3 cp \"/media/yuncong/BstemAtlasData/CSHL_data_processed/ChatCryoJane201710/ChatCryoJane201710_intensity_mapping/ChatCryoJane201710_slide14-S3_to_ChatCryoJane201710_slide13-S3_intensity_mapping_all_regions.npy\" \"s3://mousebrainatlas-data/CSHL_data_processed/ChatCryoJane201710/ChatCryoJane201710_intensity_mapping/ChatCryoJane201710_slide14-S3_to_ChatCryoJane201710_slide13-S3_intensity_mapping_all_regions.npy\"\n",
      "aws s3 cp \"/media/yuncong/BstemAtlasData/CSHL_data_processed/ChatCryoJane201710/ChatCryoJane201710_intensity_mapping/ChatCryoJane201710_slide14-S3_to_ChatCryoJane201710_slide13-S3_region_bboxes.npy\" \"s3://mousebrainatlas-data/CSHL_data_processed/ChatCryoJane201710/ChatCryoJane201710_intensity_mapping/ChatCryoJane201710_slide14-S3_to_ChatCryoJane201710_slide13-S3_region_bboxes.npy\"\n"
     ]
    },
    {
     "name": "stderr",
     "output_type": "stream",
     "text": [
      "ntb 42, ntb 43\n"
     ]
    },
    {
     "name": "stdout",
     "output_type": "stream",
     "text": [
      "rm -rf \"/media/yuncong/BstemAtlasData/CSHL_data_processed/ChatCryoJane201710/ChatCryoJane201710_prep2_thumbnail_mask/ChatCryoJane201710_slide14-S3_prep2_thumbnail_mask.png\" && mkdir -p \"/media/yuncong/BstemAtlasData/CSHL_data_processed/ChatCryoJane201710/ChatCryoJane201710_prep2_thumbnail_mask\"\n",
      "aws s3 cp \"s3://mousebrainatlas-data/CSHL_data_processed/ChatCryoJane201710/ChatCryoJane201710_prep2_thumbnail_mask/ChatCryoJane201710_slide14-S3_prep2_thumbnail_mask.png\" \"/media/yuncong/BstemAtlasData/CSHL_data_processed/ChatCryoJane201710/ChatCryoJane201710_prep2_thumbnail_mask/ChatCryoJane201710_slide14-S3_prep2_thumbnail_mask.png\"\n"
     ]
    },
    {
     "name": "stderr",
     "output_type": "stream",
     "text": [
      "Load NTB1: 0.00 seconds.\n",
      "Load NTB2: 0.00 seconds.\n"
     ]
    },
    {
     "name": "stdout",
     "output_type": "stream",
     "text": [
      "Region 0: x=3637, y=7255, w=2000, h=2000\n",
      "convert /media/yuncong/BstemAtlasData/CSHL_data_processed/ChatCryoJane201710/ChatCryoJane201710_prep2_lossless_Ntb/ChatCryoJane201710_slide14-S3_prep2_lossless_Ntb.tif -crop 2000x2000+3637+7255 /tmp/tmp.tif\n",
      "convert /media/yuncong/BstemAtlasData/CSHL_data_processed/ChatCryoJane201710/ChatCryoJane201710_prep2_lossless_Ntb/ChatCryoJane201710_slide15-S1_prep2_lossless_Ntb.tif -crop 2000x2000+3637+7255 /tmp/tmp.tif\n",
      "Region 1: x=1557, y=10367, w=2000, h=2000\n",
      "convert /media/yuncong/BstemAtlasData/CSHL_data_processed/ChatCryoJane201710/ChatCryoJane201710_prep2_lossless_Ntb/ChatCryoJane201710_slide14-S3_prep2_lossless_Ntb.tif -crop 2000x2000+1557+10367 /tmp/tmp.tif\n",
      "convert /media/yuncong/BstemAtlasData/CSHL_data_processed/ChatCryoJane201710/ChatCryoJane201710_prep2_lossless_Ntb/ChatCryoJane201710_slide15-S1_prep2_lossless_Ntb.tif -crop 2000x2000+1557+10367 /tmp/tmp.tif\n",
      "Region 2: x=11541, y=3487, w=2000, h=2000\n",
      "convert /media/yuncong/BstemAtlasData/CSHL_data_processed/ChatCryoJane201710/ChatCryoJane201710_prep2_lossless_Ntb/ChatCryoJane201710_slide14-S3_prep2_lossless_Ntb.tif -crop 2000x2000+11541+3487 /tmp/tmp.tif\n",
      "convert /media/yuncong/BstemAtlasData/CSHL_data_processed/ChatCryoJane201710/ChatCryoJane201710_prep2_lossless_Ntb/ChatCryoJane201710_slide15-S1_prep2_lossless_Ntb.tif -crop 2000x2000+11541+3487 /tmp/tmp.tif\n",
      "Region 3: x=14525, y=6857, w=2000, h=2000\n",
      "convert /media/yuncong/BstemAtlasData/CSHL_data_processed/ChatCryoJane201710/ChatCryoJane201710_prep2_lossless_Ntb/ChatCryoJane201710_slide14-S3_prep2_lossless_Ntb.tif -crop 2000x2000+14525+6857 /tmp/tmp.tif\n",
      "convert /media/yuncong/BstemAtlasData/CSHL_data_processed/ChatCryoJane201710/ChatCryoJane201710_prep2_lossless_Ntb/ChatCryoJane201710_slide15-S1_prep2_lossless_Ntb.tif -crop 2000x2000+14525+6857 /tmp/tmp.tif\n",
      "Region 4: x=730, y=4267, w=2000, h=2000\n",
      "convert /media/yuncong/BstemAtlasData/CSHL_data_processed/ChatCryoJane201710/ChatCryoJane201710_prep2_lossless_Ntb/ChatCryoJane201710_slide14-S3_prep2_lossless_Ntb.tif -crop 2000x2000+730+4267 /tmp/tmp.tif\n",
      "convert /media/yuncong/BstemAtlasData/CSHL_data_processed/ChatCryoJane201710/ChatCryoJane201710_prep2_lossless_Ntb/ChatCryoJane201710_slide15-S1_prep2_lossless_Ntb.tif -crop 2000x2000+730+4267 /tmp/tmp.tif\n",
      "Region 5: x=9316, y=2018, w=2000, h=2000\n",
      "convert /media/yuncong/BstemAtlasData/CSHL_data_processed/ChatCryoJane201710/ChatCryoJane201710_prep2_lossless_Ntb/ChatCryoJane201710_slide14-S3_prep2_lossless_Ntb.tif -crop 2000x2000+9316+2018 /tmp/tmp.tif\n",
      "convert /media/yuncong/BstemAtlasData/CSHL_data_processed/ChatCryoJane201710/ChatCryoJane201710_prep2_lossless_Ntb/ChatCryoJane201710_slide15-S1_prep2_lossless_Ntb.tif -crop 2000x2000+9316+2018 /tmp/tmp.tif\n",
      "Region 6: x=14163, y=4198, w=2000, h=2000\n",
      "convert /media/yuncong/BstemAtlasData/CSHL_data_processed/ChatCryoJane201710/ChatCryoJane201710_prep2_lossless_Ntb/ChatCryoJane201710_slide14-S3_prep2_lossless_Ntb.tif -crop 2000x2000+14163+4198 /tmp/tmp.tif\n",
      "convert /media/yuncong/BstemAtlasData/CSHL_data_processed/ChatCryoJane201710/ChatCryoJane201710_prep2_lossless_Ntb/ChatCryoJane201710_slide15-S1_prep2_lossless_Ntb.tif -crop 2000x2000+14163+4198 /tmp/tmp.tif\n",
      "Region 7: x=11832, y=5460, w=2000, h=2000\n",
      "convert /media/yuncong/BstemAtlasData/CSHL_data_processed/ChatCryoJane201710/ChatCryoJane201710_prep2_lossless_Ntb/ChatCryoJane201710_slide14-S3_prep2_lossless_Ntb.tif -crop 2000x2000+11832+5460 /tmp/tmp.tif\n",
      "convert /media/yuncong/BstemAtlasData/CSHL_data_processed/ChatCryoJane201710/ChatCryoJane201710_prep2_lossless_Ntb/ChatCryoJane201710_slide15-S1_prep2_lossless_Ntb.tif -crop 2000x2000+11832+5460 /tmp/tmp.tif\n",
      "Region 8: x=8445, y=1646, w=2000, h=2000\n",
      "convert /media/yuncong/BstemAtlasData/CSHL_data_processed/ChatCryoJane201710/ChatCryoJane201710_prep2_lossless_Ntb/ChatCryoJane201710_slide14-S3_prep2_lossless_Ntb.tif -crop 2000x2000+8445+1646 /tmp/tmp.tif\n",
      "convert /media/yuncong/BstemAtlasData/CSHL_data_processed/ChatCryoJane201710/ChatCryoJane201710_prep2_lossless_Ntb/ChatCryoJane201710_slide15-S1_prep2_lossless_Ntb.tif -crop 2000x2000+8445+1646 /tmp/tmp.tif\n",
      "Region 9: x=2458, y=6236, w=2000, h=2000\n",
      "convert /media/yuncong/BstemAtlasData/CSHL_data_processed/ChatCryoJane201710/ChatCryoJane201710_prep2_lossless_Ntb/ChatCryoJane201710_slide14-S3_prep2_lossless_Ntb.tif -crop 2000x2000+2458+6236 /tmp/tmp.tif\n",
      "convert /media/yuncong/BstemAtlasData/CSHL_data_processed/ChatCryoJane201710/ChatCryoJane201710_prep2_lossless_Ntb/ChatCryoJane201710_slide15-S1_prep2_lossless_Ntb.tif -crop 2000x2000+2458+6236 /tmp/tmp.tif\n",
      "aws s3 cp \"/media/yuncong/BstemAtlasData/CSHL_data_processed/ChatCryoJane201710/ChatCryoJane201710_intensity_mapping/ChatCryoJane201710_slide15-S1_to_ChatCryoJane201710_slide14-S3_intensity_mapping_all_regions.npy\" \"s3://mousebrainatlas-data/CSHL_data_processed/ChatCryoJane201710/ChatCryoJane201710_intensity_mapping/ChatCryoJane201710_slide15-S1_to_ChatCryoJane201710_slide14-S3_intensity_mapping_all_regions.npy\"\n",
      "aws s3 cp \"/media/yuncong/BstemAtlasData/CSHL_data_processed/ChatCryoJane201710/ChatCryoJane201710_intensity_mapping/ChatCryoJane201710_slide15-S1_to_ChatCryoJane201710_slide14-S3_region_bboxes.npy\" \"s3://mousebrainatlas-data/CSHL_data_processed/ChatCryoJane201710/ChatCryoJane201710_intensity_mapping/ChatCryoJane201710_slide15-S1_to_ChatCryoJane201710_slide14-S3_region_bboxes.npy\"\n"
     ]
    },
    {
     "name": "stderr",
     "output_type": "stream",
     "text": [
      "ntb 43, ntb 44\n"
     ]
    },
    {
     "name": "stdout",
     "output_type": "stream",
     "text": [
      "rm -rf \"/media/yuncong/BstemAtlasData/CSHL_data_processed/ChatCryoJane201710/ChatCryoJane201710_prep2_thumbnail_mask/ChatCryoJane201710_slide15-S1_prep2_thumbnail_mask.png\" && mkdir -p \"/media/yuncong/BstemAtlasData/CSHL_data_processed/ChatCryoJane201710/ChatCryoJane201710_prep2_thumbnail_mask\"\n",
      "aws s3 cp \"s3://mousebrainatlas-data/CSHL_data_processed/ChatCryoJane201710/ChatCryoJane201710_prep2_thumbnail_mask/ChatCryoJane201710_slide15-S1_prep2_thumbnail_mask.png\" \"/media/yuncong/BstemAtlasData/CSHL_data_processed/ChatCryoJane201710/ChatCryoJane201710_prep2_thumbnail_mask/ChatCryoJane201710_slide15-S1_prep2_thumbnail_mask.png\"\n"
     ]
    },
    {
     "name": "stderr",
     "output_type": "stream",
     "text": [
      "Load NTB1: 0.00 seconds.\n",
      "Load NTB2: 0.00 seconds.\n"
     ]
    },
    {
     "name": "stdout",
     "output_type": "stream",
     "text": [
      "Region 0: x=13878, y=7285, w=2000, h=2000\n",
      "convert /media/yuncong/BstemAtlasData/CSHL_data_processed/ChatCryoJane201710/ChatCryoJane201710_prep2_lossless_Ntb/ChatCryoJane201710_slide15-S1_prep2_lossless_Ntb.tif -crop 2000x2000+13878+7285 /tmp/tmp.tif\n",
      "convert /media/yuncong/BstemAtlasData/CSHL_data_processed/ChatCryoJane201710/ChatCryoJane201710_prep2_lossless_Ntb/ChatCryoJane201710_slide16-S1_prep2_lossless_Ntb.tif -crop 2000x2000+13878+7285 /tmp/tmp.tif\n",
      "Region 1: x=3042, y=4687, w=2000, h=2000\n",
      "convert /media/yuncong/BstemAtlasData/CSHL_data_processed/ChatCryoJane201710/ChatCryoJane201710_prep2_lossless_Ntb/ChatCryoJane201710_slide15-S1_prep2_lossless_Ntb.tif -crop 2000x2000+3042+4687 /tmp/tmp.tif\n",
      "convert /media/yuncong/BstemAtlasData/CSHL_data_processed/ChatCryoJane201710/ChatCryoJane201710_prep2_lossless_Ntb/ChatCryoJane201710_slide16-S1_prep2_lossless_Ntb.tif -crop 2000x2000+3042+4687 /tmp/tmp.tif\n",
      "Region 2: x=6692, y=1251, w=2000, h=2000\n",
      "convert /media/yuncong/BstemAtlasData/CSHL_data_processed/ChatCryoJane201710/ChatCryoJane201710_prep2_lossless_Ntb/ChatCryoJane201710_slide15-S1_prep2_lossless_Ntb.tif -crop 2000x2000+6692+1251 /tmp/tmp.tif\n",
      "convert /media/yuncong/BstemAtlasData/CSHL_data_processed/ChatCryoJane201710/ChatCryoJane201710_prep2_lossless_Ntb/ChatCryoJane201710_slide16-S1_prep2_lossless_Ntb.tif -crop 2000x2000+6692+1251 /tmp/tmp.tif\n",
      "Region 3: x=778, y=12414, w=2000, h=2000\n",
      "convert /media/yuncong/BstemAtlasData/CSHL_data_processed/ChatCryoJane201710/ChatCryoJane201710_prep2_lossless_Ntb/ChatCryoJane201710_slide15-S1_prep2_lossless_Ntb.tif -crop 2000x2000+778+12414 /tmp/tmp.tif\n",
      "convert /media/yuncong/BstemAtlasData/CSHL_data_processed/ChatCryoJane201710/ChatCryoJane201710_prep2_lossless_Ntb/ChatCryoJane201710_slide16-S1_prep2_lossless_Ntb.tif -crop 2000x2000+778+12414 /tmp/tmp.tif\n",
      "Region 4: x=2237, y=5059, w=2000, h=2000\n",
      "convert /media/yuncong/BstemAtlasData/CSHL_data_processed/ChatCryoJane201710/ChatCryoJane201710_prep2_lossless_Ntb/ChatCryoJane201710_slide15-S1_prep2_lossless_Ntb.tif -crop 2000x2000+2237+5059 /tmp/tmp.tif\n",
      "convert /media/yuncong/BstemAtlasData/CSHL_data_processed/ChatCryoJane201710/ChatCryoJane201710_prep2_lossless_Ntb/ChatCryoJane201710_slide16-S1_prep2_lossless_Ntb.tif -crop 2000x2000+2237+5059 /tmp/tmp.tif\n",
      "Region 5: x=1866, y=2920, w=2000, h=2000\n",
      "convert /media/yuncong/BstemAtlasData/CSHL_data_processed/ChatCryoJane201710/ChatCryoJane201710_prep2_lossless_Ntb/ChatCryoJane201710_slide15-S1_prep2_lossless_Ntb.tif -crop 2000x2000+1866+2920 /tmp/tmp.tif\n",
      "convert /media/yuncong/BstemAtlasData/CSHL_data_processed/ChatCryoJane201710/ChatCryoJane201710_prep2_lossless_Ntb/ChatCryoJane201710_slide16-S1_prep2_lossless_Ntb.tif -crop 2000x2000+1866+2920 /tmp/tmp.tif\n",
      "Region 6: x=15017, y=4062, w=2000, h=2000\n",
      "convert /media/yuncong/BstemAtlasData/CSHL_data_processed/ChatCryoJane201710/ChatCryoJane201710_prep2_lossless_Ntb/ChatCryoJane201710_slide15-S1_prep2_lossless_Ntb.tif -crop 2000x2000+15017+4062 /tmp/tmp.tif\n",
      "convert /media/yuncong/BstemAtlasData/CSHL_data_processed/ChatCryoJane201710/ChatCryoJane201710_prep2_lossless_Ntb/ChatCryoJane201710_slide16-S1_prep2_lossless_Ntb.tif -crop 2000x2000+15017+4062 /tmp/tmp.tif\n",
      "Region 7: x=6645, y=9647, w=2000, h=2000\n",
      "convert /media/yuncong/BstemAtlasData/CSHL_data_processed/ChatCryoJane201710/ChatCryoJane201710_prep2_lossless_Ntb/ChatCryoJane201710_slide15-S1_prep2_lossless_Ntb.tif -crop 2000x2000+6645+9647 /tmp/tmp.tif\n",
      "convert /media/yuncong/BstemAtlasData/CSHL_data_processed/ChatCryoJane201710/ChatCryoJane201710_prep2_lossless_Ntb/ChatCryoJane201710_slide16-S1_prep2_lossless_Ntb.tif -crop 2000x2000+6645+9647 /tmp/tmp.tif\n",
      "Region 8: x=7732, y=8959, w=2000, h=2000\n",
      "convert /media/yuncong/BstemAtlasData/CSHL_data_processed/ChatCryoJane201710/ChatCryoJane201710_prep2_lossless_Ntb/ChatCryoJane201710_slide15-S1_prep2_lossless_Ntb.tif -crop 2000x2000+7732+8959 /tmp/tmp.tif\n",
      "convert /media/yuncong/BstemAtlasData/CSHL_data_processed/ChatCryoJane201710/ChatCryoJane201710_prep2_lossless_Ntb/ChatCryoJane201710_slide16-S1_prep2_lossless_Ntb.tif -crop 2000x2000+7732+8959 /tmp/tmp.tif\n",
      "Region 9: x=5105, y=6618, w=2000, h=2000\n",
      "convert /media/yuncong/BstemAtlasData/CSHL_data_processed/ChatCryoJane201710/ChatCryoJane201710_prep2_lossless_Ntb/ChatCryoJane201710_slide15-S1_prep2_lossless_Ntb.tif -crop 2000x2000+5105+6618 /tmp/tmp.tif\n",
      "convert /media/yuncong/BstemAtlasData/CSHL_data_processed/ChatCryoJane201710/ChatCryoJane201710_prep2_lossless_Ntb/ChatCryoJane201710_slide16-S1_prep2_lossless_Ntb.tif -crop 2000x2000+5105+6618 /tmp/tmp.tif\n",
      "aws s3 cp \"/media/yuncong/BstemAtlasData/CSHL_data_processed/ChatCryoJane201710/ChatCryoJane201710_intensity_mapping/ChatCryoJane201710_slide16-S1_to_ChatCryoJane201710_slide15-S1_intensity_mapping_all_regions.npy\" \"s3://mousebrainatlas-data/CSHL_data_processed/ChatCryoJane201710/ChatCryoJane201710_intensity_mapping/ChatCryoJane201710_slide16-S1_to_ChatCryoJane201710_slide15-S1_intensity_mapping_all_regions.npy\"\n",
      "aws s3 cp \"/media/yuncong/BstemAtlasData/CSHL_data_processed/ChatCryoJane201710/ChatCryoJane201710_intensity_mapping/ChatCryoJane201710_slide16-S1_to_ChatCryoJane201710_slide15-S1_region_bboxes.npy\" \"s3://mousebrainatlas-data/CSHL_data_processed/ChatCryoJane201710/ChatCryoJane201710_intensity_mapping/ChatCryoJane201710_slide16-S1_to_ChatCryoJane201710_slide15-S1_region_bboxes.npy\"\n"
     ]
    },
    {
     "name": "stderr",
     "output_type": "stream",
     "text": [
      "ntb 44, ntb 45\n"
     ]
    },
    {
     "name": "stdout",
     "output_type": "stream",
     "text": [
      "rm -rf \"/media/yuncong/BstemAtlasData/CSHL_data_processed/ChatCryoJane201710/ChatCryoJane201710_prep2_thumbnail_mask/ChatCryoJane201710_slide16-S1_prep2_thumbnail_mask.png\" && mkdir -p \"/media/yuncong/BstemAtlasData/CSHL_data_processed/ChatCryoJane201710/ChatCryoJane201710_prep2_thumbnail_mask\"\n",
      "aws s3 cp \"s3://mousebrainatlas-data/CSHL_data_processed/ChatCryoJane201710/ChatCryoJane201710_prep2_thumbnail_mask/ChatCryoJane201710_slide16-S1_prep2_thumbnail_mask.png\" \"/media/yuncong/BstemAtlasData/CSHL_data_processed/ChatCryoJane201710/ChatCryoJane201710_prep2_thumbnail_mask/ChatCryoJane201710_slide16-S1_prep2_thumbnail_mask.png\"\n"
     ]
    },
    {
     "name": "stderr",
     "output_type": "stream",
     "text": [
      "Load NTB1: 0.00 seconds.\n",
      "Load NTB2: 0.00 seconds.\n"
     ]
    },
    {
     "name": "stdout",
     "output_type": "stream",
     "text": [
      "Region 0: x=3591, y=2705, w=2000, h=2000\n",
      "convert /media/yuncong/BstemAtlasData/CSHL_data_processed/ChatCryoJane201710/ChatCryoJane201710_prep2_lossless_Ntb/ChatCryoJane201710_slide16-S1_prep2_lossless_Ntb.tif -crop 2000x2000+3591+2705 /tmp/tmp.tif\n",
      "convert /media/yuncong/BstemAtlasData/CSHL_data_processed/ChatCryoJane201710/ChatCryoJane201710_prep2_lossless_Ntb/ChatCryoJane201710_slide15-S2_prep2_lossless_Ntb.tif -crop 2000x2000+3591+2705 /tmp/tmp.tif\n",
      "Region 1: x=9390, y=2114, w=2000, h=2000\n",
      "convert /media/yuncong/BstemAtlasData/CSHL_data_processed/ChatCryoJane201710/ChatCryoJane201710_prep2_lossless_Ntb/ChatCryoJane201710_slide16-S1_prep2_lossless_Ntb.tif -crop 2000x2000+9390+2114 /tmp/tmp.tif\n",
      "convert /media/yuncong/BstemAtlasData/CSHL_data_processed/ChatCryoJane201710/ChatCryoJane201710_prep2_lossless_Ntb/ChatCryoJane201710_slide15-S2_prep2_lossless_Ntb.tif -crop 2000x2000+9390+2114 /tmp/tmp.tif\n",
      "Region 2: x=7451, y=5249, w=2000, h=2000\n",
      "convert /media/yuncong/BstemAtlasData/CSHL_data_processed/ChatCryoJane201710/ChatCryoJane201710_prep2_lossless_Ntb/ChatCryoJane201710_slide16-S1_prep2_lossless_Ntb.tif -crop 2000x2000+7451+5249 /tmp/tmp.tif\n",
      "convert /media/yuncong/BstemAtlasData/CSHL_data_processed/ChatCryoJane201710/ChatCryoJane201710_prep2_lossless_Ntb/ChatCryoJane201710_slide15-S2_prep2_lossless_Ntb.tif -crop 2000x2000+7451+5249 /tmp/tmp.tif\n",
      "Region 3: x=1570, y=4860, w=2000, h=2000\n",
      "convert /media/yuncong/BstemAtlasData/CSHL_data_processed/ChatCryoJane201710/ChatCryoJane201710_prep2_lossless_Ntb/ChatCryoJane201710_slide16-S1_prep2_lossless_Ntb.tif -crop 2000x2000+1570+4860 /tmp/tmp.tif\n",
      "convert /media/yuncong/BstemAtlasData/CSHL_data_processed/ChatCryoJane201710/ChatCryoJane201710_prep2_lossless_Ntb/ChatCryoJane201710_slide15-S2_prep2_lossless_Ntb.tif -crop 2000x2000+1570+4860 /tmp/tmp.tif\n",
      "Region 4: x=12107, y=7340, w=2000, h=2000\n",
      "convert /media/yuncong/BstemAtlasData/CSHL_data_processed/ChatCryoJane201710/ChatCryoJane201710_prep2_lossless_Ntb/ChatCryoJane201710_slide16-S1_prep2_lossless_Ntb.tif -crop 2000x2000+12107+7340 /tmp/tmp.tif\n",
      "convert /media/yuncong/BstemAtlasData/CSHL_data_processed/ChatCryoJane201710/ChatCryoJane201710_prep2_lossless_Ntb/ChatCryoJane201710_slide15-S2_prep2_lossless_Ntb.tif -crop 2000x2000+12107+7340 /tmp/tmp.tif\n",
      "Region 5: x=10032, y=9136, w=2000, h=2000\n",
      "convert /media/yuncong/BstemAtlasData/CSHL_data_processed/ChatCryoJane201710/ChatCryoJane201710_prep2_lossless_Ntb/ChatCryoJane201710_slide16-S1_prep2_lossless_Ntb.tif -crop 2000x2000+10032+9136 /tmp/tmp.tif\n",
      "convert /media/yuncong/BstemAtlasData/CSHL_data_processed/ChatCryoJane201710/ChatCryoJane201710_prep2_lossless_Ntb/ChatCryoJane201710_slide15-S2_prep2_lossless_Ntb.tif -crop 2000x2000+10032+9136 /tmp/tmp.tif\n",
      "Region 6: x=2026, y=1756, w=2000, h=2000\n",
      "convert /media/yuncong/BstemAtlasData/CSHL_data_processed/ChatCryoJane201710/ChatCryoJane201710_prep2_lossless_Ntb/ChatCryoJane201710_slide16-S1_prep2_lossless_Ntb.tif -crop 2000x2000+2026+1756 /tmp/tmp.tif\n",
      "convert /media/yuncong/BstemAtlasData/CSHL_data_processed/ChatCryoJane201710/ChatCryoJane201710_prep2_lossless_Ntb/ChatCryoJane201710_slide15-S2_prep2_lossless_Ntb.tif -crop 2000x2000+2026+1756 /tmp/tmp.tif\n",
      "Region 7: x=4327, y=818, w=2000, h=2000\n",
      "convert /media/yuncong/BstemAtlasData/CSHL_data_processed/ChatCryoJane201710/ChatCryoJane201710_prep2_lossless_Ntb/ChatCryoJane201710_slide16-S1_prep2_lossless_Ntb.tif -crop 2000x2000+4327+818 /tmp/tmp.tif\n",
      "convert /media/yuncong/BstemAtlasData/CSHL_data_processed/ChatCryoJane201710/ChatCryoJane201710_prep2_lossless_Ntb/ChatCryoJane201710_slide15-S2_prep2_lossless_Ntb.tif -crop 2000x2000+4327+818 /tmp/tmp.tif\n",
      "Region 8: x=5166, y=7719, w=2000, h=2000\n",
      "convert /media/yuncong/BstemAtlasData/CSHL_data_processed/ChatCryoJane201710/ChatCryoJane201710_prep2_lossless_Ntb/ChatCryoJane201710_slide16-S1_prep2_lossless_Ntb.tif -crop 2000x2000+5166+7719 /tmp/tmp.tif\n",
      "convert /media/yuncong/BstemAtlasData/CSHL_data_processed/ChatCryoJane201710/ChatCryoJane201710_prep2_lossless_Ntb/ChatCryoJane201710_slide15-S2_prep2_lossless_Ntb.tif -crop 2000x2000+5166+7719 /tmp/tmp.tif\n",
      "Region 9: x=8525, y=8318, w=2000, h=2000\n",
      "convert /media/yuncong/BstemAtlasData/CSHL_data_processed/ChatCryoJane201710/ChatCryoJane201710_prep2_lossless_Ntb/ChatCryoJane201710_slide16-S1_prep2_lossless_Ntb.tif -crop 2000x2000+8525+8318 /tmp/tmp.tif\n",
      "convert /media/yuncong/BstemAtlasData/CSHL_data_processed/ChatCryoJane201710/ChatCryoJane201710_prep2_lossless_Ntb/ChatCryoJane201710_slide15-S2_prep2_lossless_Ntb.tif -crop 2000x2000+8525+8318 /tmp/tmp.tif\n",
      "aws s3 cp \"/media/yuncong/BstemAtlasData/CSHL_data_processed/ChatCryoJane201710/ChatCryoJane201710_intensity_mapping/ChatCryoJane201710_slide15-S2_to_ChatCryoJane201710_slide16-S1_intensity_mapping_all_regions.npy\" \"s3://mousebrainatlas-data/CSHL_data_processed/ChatCryoJane201710/ChatCryoJane201710_intensity_mapping/ChatCryoJane201710_slide15-S2_to_ChatCryoJane201710_slide16-S1_intensity_mapping_all_regions.npy\"\n",
      "aws s3 cp \"/media/yuncong/BstemAtlasData/CSHL_data_processed/ChatCryoJane201710/ChatCryoJane201710_intensity_mapping/ChatCryoJane201710_slide15-S2_to_ChatCryoJane201710_slide16-S1_region_bboxes.npy\" \"s3://mousebrainatlas-data/CSHL_data_processed/ChatCryoJane201710/ChatCryoJane201710_intensity_mapping/ChatCryoJane201710_slide15-S2_to_ChatCryoJane201710_slide16-S1_region_bboxes.npy\"\n"
     ]
    },
    {
     "name": "stderr",
     "output_type": "stream",
     "text": [
      "ntb 45, ntb 46\n"
     ]
    },
    {
     "name": "stdout",
     "output_type": "stream",
     "text": [
      "rm -rf \"/media/yuncong/BstemAtlasData/CSHL_data_processed/ChatCryoJane201710/ChatCryoJane201710_prep2_thumbnail_mask/ChatCryoJane201710_slide15-S2_prep2_thumbnail_mask.png\" && mkdir -p \"/media/yuncong/BstemAtlasData/CSHL_data_processed/ChatCryoJane201710/ChatCryoJane201710_prep2_thumbnail_mask\"\n",
      "aws s3 cp \"s3://mousebrainatlas-data/CSHL_data_processed/ChatCryoJane201710/ChatCryoJane201710_prep2_thumbnail_mask/ChatCryoJane201710_slide15-S2_prep2_thumbnail_mask.png\" \"/media/yuncong/BstemAtlasData/CSHL_data_processed/ChatCryoJane201710/ChatCryoJane201710_prep2_thumbnail_mask/ChatCryoJane201710_slide15-S2_prep2_thumbnail_mask.png\"\n"
     ]
    },
    {
     "name": "stderr",
     "output_type": "stream",
     "text": [
      "Load NTB1: 0.00 seconds.\n",
      "Load NTB2: 0.00 seconds.\n"
     ]
    },
    {
     "name": "stdout",
     "output_type": "stream",
     "text": [
      "Region 0: x=4948, y=5509, w=2000, h=2000\n",
      "convert /media/yuncong/BstemAtlasData/CSHL_data_processed/ChatCryoJane201710/ChatCryoJane201710_prep2_lossless_Ntb/ChatCryoJane201710_slide15-S2_prep2_lossless_Ntb.tif -crop 2000x2000+4948+5509 /tmp/tmp.tif\n",
      "convert /media/yuncong/BstemAtlasData/CSHL_data_processed/ChatCryoJane201710/ChatCryoJane201710_prep2_lossless_Ntb/ChatCryoJane201710_slide16-S2_prep2_lossless_Ntb.tif -crop 2000x2000+4948+5509 /tmp/tmp.tif\n",
      "Region 1: x=105, y=5650, w=2000, h=2000\n",
      "convert /media/yuncong/BstemAtlasData/CSHL_data_processed/ChatCryoJane201710/ChatCryoJane201710_prep2_lossless_Ntb/ChatCryoJane201710_slide15-S2_prep2_lossless_Ntb.tif -crop 2000x2000+105+5650 /tmp/tmp.tif\n",
      "convert /media/yuncong/BstemAtlasData/CSHL_data_processed/ChatCryoJane201710/ChatCryoJane201710_prep2_lossless_Ntb/ChatCryoJane201710_slide16-S2_prep2_lossless_Ntb.tif -crop 2000x2000+105+5650 /tmp/tmp.tif\n",
      "Region 2: x=2526, y=12567, w=2000, h=2000\n",
      "convert /media/yuncong/BstemAtlasData/CSHL_data_processed/ChatCryoJane201710/ChatCryoJane201710_prep2_lossless_Ntb/ChatCryoJane201710_slide15-S2_prep2_lossless_Ntb.tif -crop 2000x2000+2526+12567 /tmp/tmp.tif\n",
      "convert /media/yuncong/BstemAtlasData/CSHL_data_processed/ChatCryoJane201710/ChatCryoJane201710_prep2_lossless_Ntb/ChatCryoJane201710_slide16-S2_prep2_lossless_Ntb.tif -crop 2000x2000+2526+12567 /tmp/tmp.tif\n",
      "Region 3: x=11680, y=9806, w=2000, h=2000\n",
      "convert /media/yuncong/BstemAtlasData/CSHL_data_processed/ChatCryoJane201710/ChatCryoJane201710_prep2_lossless_Ntb/ChatCryoJane201710_slide15-S2_prep2_lossless_Ntb.tif -crop 2000x2000+11680+9806 /tmp/tmp.tif\n",
      "convert /media/yuncong/BstemAtlasData/CSHL_data_processed/ChatCryoJane201710/ChatCryoJane201710_prep2_lossless_Ntb/ChatCryoJane201710_slide16-S2_prep2_lossless_Ntb.tif -crop 2000x2000+11680+9806 /tmp/tmp.tif\n",
      "Region 4: x=10363, y=6894, w=2000, h=2000\n",
      "convert /media/yuncong/BstemAtlasData/CSHL_data_processed/ChatCryoJane201710/ChatCryoJane201710_prep2_lossless_Ntb/ChatCryoJane201710_slide15-S2_prep2_lossless_Ntb.tif -crop 2000x2000+10363+6894 /tmp/tmp.tif\n",
      "convert /media/yuncong/BstemAtlasData/CSHL_data_processed/ChatCryoJane201710/ChatCryoJane201710_prep2_lossless_Ntb/ChatCryoJane201710_slide16-S2_prep2_lossless_Ntb.tif -crop 2000x2000+10363+6894 /tmp/tmp.tif\n",
      "Region 5: x=13549, y=3022, w=2000, h=2000\n",
      "convert /media/yuncong/BstemAtlasData/CSHL_data_processed/ChatCryoJane201710/ChatCryoJane201710_prep2_lossless_Ntb/ChatCryoJane201710_slide15-S2_prep2_lossless_Ntb.tif -crop 2000x2000+13549+3022 /tmp/tmp.tif\n",
      "convert /media/yuncong/BstemAtlasData/CSHL_data_processed/ChatCryoJane201710/ChatCryoJane201710_prep2_lossless_Ntb/ChatCryoJane201710_slide16-S2_prep2_lossless_Ntb.tif -crop 2000x2000+13549+3022 /tmp/tmp.tif\n",
      "Region 6: x=15882, y=4567, w=2000, h=2000\n",
      "convert /media/yuncong/BstemAtlasData/CSHL_data_processed/ChatCryoJane201710/ChatCryoJane201710_prep2_lossless_Ntb/ChatCryoJane201710_slide15-S2_prep2_lossless_Ntb.tif -crop 2000x2000+15882+4567 /tmp/tmp.tif\n",
      "convert /media/yuncong/BstemAtlasData/CSHL_data_processed/ChatCryoJane201710/ChatCryoJane201710_prep2_lossless_Ntb/ChatCryoJane201710_slide16-S2_prep2_lossless_Ntb.tif -crop 2000x2000+15882+4567 /tmp/tmp.tif\n",
      "Region 7: x=1750, y=12111, w=2000, h=2000\n",
      "convert /media/yuncong/BstemAtlasData/CSHL_data_processed/ChatCryoJane201710/ChatCryoJane201710_prep2_lossless_Ntb/ChatCryoJane201710_slide15-S2_prep2_lossless_Ntb.tif -crop 2000x2000+1750+12111 /tmp/tmp.tif\n",
      "convert /media/yuncong/BstemAtlasData/CSHL_data_processed/ChatCryoJane201710/ChatCryoJane201710_prep2_lossless_Ntb/ChatCryoJane201710_slide16-S2_prep2_lossless_Ntb.tif -crop 2000x2000+1750+12111 /tmp/tmp.tif\n",
      "Region 8: x=5731, y=4139, w=2000, h=2000\n",
      "convert /media/yuncong/BstemAtlasData/CSHL_data_processed/ChatCryoJane201710/ChatCryoJane201710_prep2_lossless_Ntb/ChatCryoJane201710_slide15-S2_prep2_lossless_Ntb.tif -crop 2000x2000+5731+4139 /tmp/tmp.tif\n",
      "convert /media/yuncong/BstemAtlasData/CSHL_data_processed/ChatCryoJane201710/ChatCryoJane201710_prep2_lossless_Ntb/ChatCryoJane201710_slide16-S2_prep2_lossless_Ntb.tif -crop 2000x2000+5731+4139 /tmp/tmp.tif\n",
      "Region 9: x=15217, y=5591, w=2000, h=2000\n",
      "convert /media/yuncong/BstemAtlasData/CSHL_data_processed/ChatCryoJane201710/ChatCryoJane201710_prep2_lossless_Ntb/ChatCryoJane201710_slide15-S2_prep2_lossless_Ntb.tif -crop 2000x2000+15217+5591 /tmp/tmp.tif\n",
      "convert /media/yuncong/BstemAtlasData/CSHL_data_processed/ChatCryoJane201710/ChatCryoJane201710_prep2_lossless_Ntb/ChatCryoJane201710_slide16-S2_prep2_lossless_Ntb.tif -crop 2000x2000+15217+5591 /tmp/tmp.tif\n",
      "aws s3 cp \"/media/yuncong/BstemAtlasData/CSHL_data_processed/ChatCryoJane201710/ChatCryoJane201710_intensity_mapping/ChatCryoJane201710_slide16-S2_to_ChatCryoJane201710_slide15-S2_intensity_mapping_all_regions.npy\" \"s3://mousebrainatlas-data/CSHL_data_processed/ChatCryoJane201710/ChatCryoJane201710_intensity_mapping/ChatCryoJane201710_slide16-S2_to_ChatCryoJane201710_slide15-S2_intensity_mapping_all_regions.npy\"\n",
      "aws s3 cp \"/media/yuncong/BstemAtlasData/CSHL_data_processed/ChatCryoJane201710/ChatCryoJane201710_intensity_mapping/ChatCryoJane201710_slide16-S2_to_ChatCryoJane201710_slide15-S2_region_bboxes.npy\" \"s3://mousebrainatlas-data/CSHL_data_processed/ChatCryoJane201710/ChatCryoJane201710_intensity_mapping/ChatCryoJane201710_slide16-S2_to_ChatCryoJane201710_slide15-S2_region_bboxes.npy\"\n"
     ]
    },
    {
     "name": "stderr",
     "output_type": "stream",
     "text": [
      "ntb 46, ntb 47\n"
     ]
    },
    {
     "name": "stdout",
     "output_type": "stream",
     "text": [
      "rm -rf \"/media/yuncong/BstemAtlasData/CSHL_data_processed/ChatCryoJane201710/ChatCryoJane201710_prep2_thumbnail_mask/ChatCryoJane201710_slide16-S2_prep2_thumbnail_mask.png\" && mkdir -p \"/media/yuncong/BstemAtlasData/CSHL_data_processed/ChatCryoJane201710/ChatCryoJane201710_prep2_thumbnail_mask\"\n",
      "aws s3 cp \"s3://mousebrainatlas-data/CSHL_data_processed/ChatCryoJane201710/ChatCryoJane201710_prep2_thumbnail_mask/ChatCryoJane201710_slide16-S2_prep2_thumbnail_mask.png\" \"/media/yuncong/BstemAtlasData/CSHL_data_processed/ChatCryoJane201710/ChatCryoJane201710_prep2_thumbnail_mask/ChatCryoJane201710_slide16-S2_prep2_thumbnail_mask.png\"\n"
     ]
    },
    {
     "name": "stderr",
     "output_type": "stream",
     "text": [
      "Load NTB1: 0.00 seconds.\n",
      "Load NTB2: 0.00 seconds.\n"
     ]
    },
    {
     "name": "stdout",
     "output_type": "stream",
     "text": [
      "Region 0: x=10347, y=8591, w=2000, h=2000\n",
      "convert /media/yuncong/BstemAtlasData/CSHL_data_processed/ChatCryoJane201710/ChatCryoJane201710_prep2_lossless_Ntb/ChatCryoJane201710_slide16-S2_prep2_lossless_Ntb.tif -crop 2000x2000+10347+8591 /tmp/tmp.tif\n",
      "convert /media/yuncong/BstemAtlasData/CSHL_data_processed/ChatCryoJane201710/ChatCryoJane201710_prep2_lossless_Ntb/ChatCryoJane201710_slide15-S3_prep2_lossless_Ntb.tif -crop 2000x2000+10347+8591 /tmp/tmp.tif\n",
      "Region 1: x=12099, y=10481, w=2000, h=2000\n",
      "convert /media/yuncong/BstemAtlasData/CSHL_data_processed/ChatCryoJane201710/ChatCryoJane201710_prep2_lossless_Ntb/ChatCryoJane201710_slide16-S2_prep2_lossless_Ntb.tif -crop 2000x2000+12099+10481 /tmp/tmp.tif\n",
      "convert /media/yuncong/BstemAtlasData/CSHL_data_processed/ChatCryoJane201710/ChatCryoJane201710_prep2_lossless_Ntb/ChatCryoJane201710_slide15-S3_prep2_lossless_Ntb.tif -crop 2000x2000+12099+10481 /tmp/tmp.tif\n",
      "Region 2: x=5684, y=5503, w=2000, h=2000\n",
      "convert /media/yuncong/BstemAtlasData/CSHL_data_processed/ChatCryoJane201710/ChatCryoJane201710_prep2_lossless_Ntb/ChatCryoJane201710_slide16-S2_prep2_lossless_Ntb.tif -crop 2000x2000+5684+5503 /tmp/tmp.tif\n",
      "convert /media/yuncong/BstemAtlasData/CSHL_data_processed/ChatCryoJane201710/ChatCryoJane201710_prep2_lossless_Ntb/ChatCryoJane201710_slide15-S3_prep2_lossless_Ntb.tif -crop 2000x2000+5684+5503 /tmp/tmp.tif\n",
      "Region 3: x=13692, y=8373, w=2000, h=2000\n",
      "convert /media/yuncong/BstemAtlasData/CSHL_data_processed/ChatCryoJane201710/ChatCryoJane201710_prep2_lossless_Ntb/ChatCryoJane201710_slide16-S2_prep2_lossless_Ntb.tif -crop 2000x2000+13692+8373 /tmp/tmp.tif\n",
      "convert /media/yuncong/BstemAtlasData/CSHL_data_processed/ChatCryoJane201710/ChatCryoJane201710_prep2_lossless_Ntb/ChatCryoJane201710_slide15-S3_prep2_lossless_Ntb.tif -crop 2000x2000+13692+8373 /tmp/tmp.tif\n",
      "Region 4: x=7547, y=10256, w=2000, h=2000\n",
      "convert /media/yuncong/BstemAtlasData/CSHL_data_processed/ChatCryoJane201710/ChatCryoJane201710_prep2_lossless_Ntb/ChatCryoJane201710_slide16-S2_prep2_lossless_Ntb.tif -crop 2000x2000+7547+10256 /tmp/tmp.tif\n",
      "convert /media/yuncong/BstemAtlasData/CSHL_data_processed/ChatCryoJane201710/ChatCryoJane201710_prep2_lossless_Ntb/ChatCryoJane201710_slide15-S3_prep2_lossless_Ntb.tif -crop 2000x2000+7547+10256 /tmp/tmp.tif\n",
      "Region 5: x=10410, y=6881, w=2000, h=2000\n",
      "convert /media/yuncong/BstemAtlasData/CSHL_data_processed/ChatCryoJane201710/ChatCryoJane201710_prep2_lossless_Ntb/ChatCryoJane201710_slide16-S2_prep2_lossless_Ntb.tif -crop 2000x2000+10410+6881 /tmp/tmp.tif\n",
      "convert /media/yuncong/BstemAtlasData/CSHL_data_processed/ChatCryoJane201710/ChatCryoJane201710_prep2_lossless_Ntb/ChatCryoJane201710_slide15-S3_prep2_lossless_Ntb.tif -crop 2000x2000+10410+6881 /tmp/tmp.tif\n",
      "Region 6: x=2453, y=10127, w=2000, h=2000\n",
      "convert /media/yuncong/BstemAtlasData/CSHL_data_processed/ChatCryoJane201710/ChatCryoJane201710_prep2_lossless_Ntb/ChatCryoJane201710_slide16-S2_prep2_lossless_Ntb.tif -crop 2000x2000+2453+10127 /tmp/tmp.tif\n",
      "convert /media/yuncong/BstemAtlasData/CSHL_data_processed/ChatCryoJane201710/ChatCryoJane201710_prep2_lossless_Ntb/ChatCryoJane201710_slide15-S3_prep2_lossless_Ntb.tif -crop 2000x2000+2453+10127 /tmp/tmp.tif\n",
      "Region 7: x=4261, y=14142, w=2000, h=2000\n",
      "convert /media/yuncong/BstemAtlasData/CSHL_data_processed/ChatCryoJane201710/ChatCryoJane201710_prep2_lossless_Ntb/ChatCryoJane201710_slide16-S2_prep2_lossless_Ntb.tif -crop 2000x2000+4261+14142 /tmp/tmp.tif\n",
      "convert /media/yuncong/BstemAtlasData/CSHL_data_processed/ChatCryoJane201710/ChatCryoJane201710_prep2_lossless_Ntb/ChatCryoJane201710_slide15-S3_prep2_lossless_Ntb.tif -crop 2000x2000+4261+14142 /tmp/tmp.tif\n",
      "Region 8: x=8581, y=4213, w=2000, h=2000\n",
      "convert /media/yuncong/BstemAtlasData/CSHL_data_processed/ChatCryoJane201710/ChatCryoJane201710_prep2_lossless_Ntb/ChatCryoJane201710_slide16-S2_prep2_lossless_Ntb.tif -crop 2000x2000+8581+4213 /tmp/tmp.tif\n",
      "convert /media/yuncong/BstemAtlasData/CSHL_data_processed/ChatCryoJane201710/ChatCryoJane201710_prep2_lossless_Ntb/ChatCryoJane201710_slide15-S3_prep2_lossless_Ntb.tif -crop 2000x2000+8581+4213 /tmp/tmp.tif\n",
      "Region 9: x=8312, y=9171, w=2000, h=2000\n",
      "convert /media/yuncong/BstemAtlasData/CSHL_data_processed/ChatCryoJane201710/ChatCryoJane201710_prep2_lossless_Ntb/ChatCryoJane201710_slide16-S2_prep2_lossless_Ntb.tif -crop 2000x2000+8312+9171 /tmp/tmp.tif\n",
      "convert /media/yuncong/BstemAtlasData/CSHL_data_processed/ChatCryoJane201710/ChatCryoJane201710_prep2_lossless_Ntb/ChatCryoJane201710_slide15-S3_prep2_lossless_Ntb.tif -crop 2000x2000+8312+9171 /tmp/tmp.tif\n",
      "aws s3 cp \"/media/yuncong/BstemAtlasData/CSHL_data_processed/ChatCryoJane201710/ChatCryoJane201710_intensity_mapping/ChatCryoJane201710_slide15-S3_to_ChatCryoJane201710_slide16-S2_intensity_mapping_all_regions.npy\" \"s3://mousebrainatlas-data/CSHL_data_processed/ChatCryoJane201710/ChatCryoJane201710_intensity_mapping/ChatCryoJane201710_slide15-S3_to_ChatCryoJane201710_slide16-S2_intensity_mapping_all_regions.npy\"\n",
      "aws s3 cp \"/media/yuncong/BstemAtlasData/CSHL_data_processed/ChatCryoJane201710/ChatCryoJane201710_intensity_mapping/ChatCryoJane201710_slide15-S3_to_ChatCryoJane201710_slide16-S2_region_bboxes.npy\" \"s3://mousebrainatlas-data/CSHL_data_processed/ChatCryoJane201710/ChatCryoJane201710_intensity_mapping/ChatCryoJane201710_slide15-S3_to_ChatCryoJane201710_slide16-S2_region_bboxes.npy\"\n"
     ]
    },
    {
     "name": "stderr",
     "output_type": "stream",
     "text": [
      "ntb 47, ntb 48\n"
     ]
    },
    {
     "name": "stdout",
     "output_type": "stream",
     "text": [
      "rm -rf \"/media/yuncong/BstemAtlasData/CSHL_data_processed/ChatCryoJane201710/ChatCryoJane201710_prep2_thumbnail_mask/ChatCryoJane201710_slide15-S3_prep2_thumbnail_mask.png\" && mkdir -p \"/media/yuncong/BstemAtlasData/CSHL_data_processed/ChatCryoJane201710/ChatCryoJane201710_prep2_thumbnail_mask\"\n",
      "aws s3 cp \"s3://mousebrainatlas-data/CSHL_data_processed/ChatCryoJane201710/ChatCryoJane201710_prep2_thumbnail_mask/ChatCryoJane201710_slide15-S3_prep2_thumbnail_mask.png\" \"/media/yuncong/BstemAtlasData/CSHL_data_processed/ChatCryoJane201710/ChatCryoJane201710_prep2_thumbnail_mask/ChatCryoJane201710_slide15-S3_prep2_thumbnail_mask.png\"\n"
     ]
    },
    {
     "name": "stderr",
     "output_type": "stream",
     "text": [
      "Load NTB1: 0.00 seconds.\n",
      "Load NTB2: 0.00 seconds.\n"
     ]
    },
    {
     "name": "stdout",
     "output_type": "stream",
     "text": [
      "Region 0: x=4504, y=3199, w=2000, h=2000\n",
      "convert /media/yuncong/BstemAtlasData/CSHL_data_processed/ChatCryoJane201710/ChatCryoJane201710_prep2_lossless_Ntb/ChatCryoJane201710_slide15-S3_prep2_lossless_Ntb.tif -crop 2000x2000+4504+3199 /tmp/tmp.tif\n",
      "convert /media/yuncong/BstemAtlasData/CSHL_data_processed/ChatCryoJane201710/ChatCryoJane201710_prep2_lossless_Ntb/ChatCryoJane201710_slide16-S3_prep2_lossless_Ntb.tif -crop 2000x2000+4504+3199 /tmp/tmp.tif\n",
      "Region 1: x=4275, y=12703, w=2000, h=2000\n",
      "convert /media/yuncong/BstemAtlasData/CSHL_data_processed/ChatCryoJane201710/ChatCryoJane201710_prep2_lossless_Ntb/ChatCryoJane201710_slide15-S3_prep2_lossless_Ntb.tif -crop 2000x2000+4275+12703 /tmp/tmp.tif\n",
      "convert /media/yuncong/BstemAtlasData/CSHL_data_processed/ChatCryoJane201710/ChatCryoJane201710_prep2_lossless_Ntb/ChatCryoJane201710_slide16-S3_prep2_lossless_Ntb.tif -crop 2000x2000+4275+12703 /tmp/tmp.tif\n",
      "Region 2: x=1393, y=11670, w=2000, h=2000\n",
      "convert /media/yuncong/BstemAtlasData/CSHL_data_processed/ChatCryoJane201710/ChatCryoJane201710_prep2_lossless_Ntb/ChatCryoJane201710_slide15-S3_prep2_lossless_Ntb.tif -crop 2000x2000+1393+11670 /tmp/tmp.tif\n",
      "convert /media/yuncong/BstemAtlasData/CSHL_data_processed/ChatCryoJane201710/ChatCryoJane201710_prep2_lossless_Ntb/ChatCryoJane201710_slide16-S3_prep2_lossless_Ntb.tif -crop 2000x2000+1393+11670 /tmp/tmp.tif\n",
      "Region 3: x=5470, y=10360, w=2000, h=2000\n",
      "convert /media/yuncong/BstemAtlasData/CSHL_data_processed/ChatCryoJane201710/ChatCryoJane201710_prep2_lossless_Ntb/ChatCryoJane201710_slide15-S3_prep2_lossless_Ntb.tif -crop 2000x2000+5470+10360 /tmp/tmp.tif\n",
      "convert /media/yuncong/BstemAtlasData/CSHL_data_processed/ChatCryoJane201710/ChatCryoJane201710_prep2_lossless_Ntb/ChatCryoJane201710_slide16-S3_prep2_lossless_Ntb.tif -crop 2000x2000+5470+10360 /tmp/tmp.tif\n",
      "Region 4: x=7312, y=8583, w=2000, h=2000\n",
      "convert /media/yuncong/BstemAtlasData/CSHL_data_processed/ChatCryoJane201710/ChatCryoJane201710_prep2_lossless_Ntb/ChatCryoJane201710_slide15-S3_prep2_lossless_Ntb.tif -crop 2000x2000+7312+8583 /tmp/tmp.tif\n",
      "convert /media/yuncong/BstemAtlasData/CSHL_data_processed/ChatCryoJane201710/ChatCryoJane201710_prep2_lossless_Ntb/ChatCryoJane201710_slide16-S3_prep2_lossless_Ntb.tif -crop 2000x2000+7312+8583 /tmp/tmp.tif\n",
      "Region 5: x=2867, y=7266, w=2000, h=2000\n",
      "convert /media/yuncong/BstemAtlasData/CSHL_data_processed/ChatCryoJane201710/ChatCryoJane201710_prep2_lossless_Ntb/ChatCryoJane201710_slide15-S3_prep2_lossless_Ntb.tif -crop 2000x2000+2867+7266 /tmp/tmp.tif\n",
      "convert /media/yuncong/BstemAtlasData/CSHL_data_processed/ChatCryoJane201710/ChatCryoJane201710_prep2_lossless_Ntb/ChatCryoJane201710_slide16-S3_prep2_lossless_Ntb.tif -crop 2000x2000+2867+7266 /tmp/tmp.tif\n",
      "Region 6: x=7332, y=6823, w=2000, h=2000\n",
      "convert /media/yuncong/BstemAtlasData/CSHL_data_processed/ChatCryoJane201710/ChatCryoJane201710_prep2_lossless_Ntb/ChatCryoJane201710_slide15-S3_prep2_lossless_Ntb.tif -crop 2000x2000+7332+6823 /tmp/tmp.tif\n",
      "convert /media/yuncong/BstemAtlasData/CSHL_data_processed/ChatCryoJane201710/ChatCryoJane201710_prep2_lossless_Ntb/ChatCryoJane201710_slide16-S3_prep2_lossless_Ntb.tif -crop 2000x2000+7332+6823 /tmp/tmp.tif\n",
      "Region 7: x=3194, y=7446, w=2000, h=2000\n",
      "convert /media/yuncong/BstemAtlasData/CSHL_data_processed/ChatCryoJane201710/ChatCryoJane201710_prep2_lossless_Ntb/ChatCryoJane201710_slide15-S3_prep2_lossless_Ntb.tif -crop 2000x2000+3194+7446 /tmp/tmp.tif\n",
      "convert /media/yuncong/BstemAtlasData/CSHL_data_processed/ChatCryoJane201710/ChatCryoJane201710_prep2_lossless_Ntb/ChatCryoJane201710_slide16-S3_prep2_lossless_Ntb.tif -crop 2000x2000+3194+7446 /tmp/tmp.tif\n",
      "Region 8: x=14792, y=4824, w=2000, h=2000\n",
      "convert /media/yuncong/BstemAtlasData/CSHL_data_processed/ChatCryoJane201710/ChatCryoJane201710_prep2_lossless_Ntb/ChatCryoJane201710_slide15-S3_prep2_lossless_Ntb.tif -crop 2000x2000+14792+4824 /tmp/tmp.tif\n",
      "convert /media/yuncong/BstemAtlasData/CSHL_data_processed/ChatCryoJane201710/ChatCryoJane201710_prep2_lossless_Ntb/ChatCryoJane201710_slide16-S3_prep2_lossless_Ntb.tif -crop 2000x2000+14792+4824 /tmp/tmp.tif\n",
      "Region 9: x=15526, y=7418, w=2000, h=2000\n",
      "convert /media/yuncong/BstemAtlasData/CSHL_data_processed/ChatCryoJane201710/ChatCryoJane201710_prep2_lossless_Ntb/ChatCryoJane201710_slide15-S3_prep2_lossless_Ntb.tif -crop 2000x2000+15526+7418 /tmp/tmp.tif\n",
      "convert /media/yuncong/BstemAtlasData/CSHL_data_processed/ChatCryoJane201710/ChatCryoJane201710_prep2_lossless_Ntb/ChatCryoJane201710_slide16-S3_prep2_lossless_Ntb.tif -crop 2000x2000+15526+7418 /tmp/tmp.tif\n",
      "aws s3 cp \"/media/yuncong/BstemAtlasData/CSHL_data_processed/ChatCryoJane201710/ChatCryoJane201710_intensity_mapping/ChatCryoJane201710_slide16-S3_to_ChatCryoJane201710_slide15-S3_intensity_mapping_all_regions.npy\" \"s3://mousebrainatlas-data/CSHL_data_processed/ChatCryoJane201710/ChatCryoJane201710_intensity_mapping/ChatCryoJane201710_slide16-S3_to_ChatCryoJane201710_slide15-S3_intensity_mapping_all_regions.npy\"\n",
      "aws s3 cp \"/media/yuncong/BstemAtlasData/CSHL_data_processed/ChatCryoJane201710/ChatCryoJane201710_intensity_mapping/ChatCryoJane201710_slide16-S3_to_ChatCryoJane201710_slide15-S3_region_bboxes.npy\" \"s3://mousebrainatlas-data/CSHL_data_processed/ChatCryoJane201710/ChatCryoJane201710_intensity_mapping/ChatCryoJane201710_slide16-S3_to_ChatCryoJane201710_slide15-S3_region_bboxes.npy\"\n"
     ]
    },
    {
     "name": "stderr",
     "output_type": "stream",
     "text": [
      "ntb 48, ntb 49\n"
     ]
    },
    {
     "name": "stdout",
     "output_type": "stream",
     "text": [
      "rm -rf \"/media/yuncong/BstemAtlasData/CSHL_data_processed/ChatCryoJane201710/ChatCryoJane201710_prep2_thumbnail_mask/ChatCryoJane201710_slide16-S3_prep2_thumbnail_mask.png\" && mkdir -p \"/media/yuncong/BstemAtlasData/CSHL_data_processed/ChatCryoJane201710/ChatCryoJane201710_prep2_thumbnail_mask\"\n",
      "aws s3 cp \"s3://mousebrainatlas-data/CSHL_data_processed/ChatCryoJane201710/ChatCryoJane201710_prep2_thumbnail_mask/ChatCryoJane201710_slide16-S3_prep2_thumbnail_mask.png\" \"/media/yuncong/BstemAtlasData/CSHL_data_processed/ChatCryoJane201710/ChatCryoJane201710_prep2_thumbnail_mask/ChatCryoJane201710_slide16-S3_prep2_thumbnail_mask.png\"\n"
     ]
    },
    {
     "name": "stderr",
     "output_type": "stream",
     "text": [
      "Load NTB1: 0.00 seconds.\n",
      "Load NTB2: 0.00 seconds.\n"
     ]
    },
    {
     "name": "stdout",
     "output_type": "stream",
     "text": [
      "Region 0: x=9184, y=5330, w=2000, h=2000\n",
      "convert /media/yuncong/BstemAtlasData/CSHL_data_processed/ChatCryoJane201710/ChatCryoJane201710_prep2_lossless_Ntb/ChatCryoJane201710_slide16-S3_prep2_lossless_Ntb.tif -crop 2000x2000+9184+5330 /tmp/tmp.tif\n",
      "convert /media/yuncong/BstemAtlasData/CSHL_data_processed/ChatCryoJane201710/ChatCryoJane201710_prep2_lossless_Ntb/ChatCryoJane201710_slide17-S1_prep2_lossless_Ntb.tif -crop 2000x2000+9184+5330 /tmp/tmp.tif\n",
      "Region 1: x=8221, y=5851, w=2000, h=2000\n",
      "convert /media/yuncong/BstemAtlasData/CSHL_data_processed/ChatCryoJane201710/ChatCryoJane201710_prep2_lossless_Ntb/ChatCryoJane201710_slide16-S3_prep2_lossless_Ntb.tif -crop 2000x2000+8221+5851 /tmp/tmp.tif\n",
      "convert /media/yuncong/BstemAtlasData/CSHL_data_processed/ChatCryoJane201710/ChatCryoJane201710_prep2_lossless_Ntb/ChatCryoJane201710_slide17-S1_prep2_lossless_Ntb.tif -crop 2000x2000+8221+5851 /tmp/tmp.tif\n",
      "Region 2: x=12717, y=7973, w=2000, h=2000\n",
      "convert /media/yuncong/BstemAtlasData/CSHL_data_processed/ChatCryoJane201710/ChatCryoJane201710_prep2_lossless_Ntb/ChatCryoJane201710_slide16-S3_prep2_lossless_Ntb.tif -crop 2000x2000+12717+7973 /tmp/tmp.tif\n",
      "convert /media/yuncong/BstemAtlasData/CSHL_data_processed/ChatCryoJane201710/ChatCryoJane201710_prep2_lossless_Ntb/ChatCryoJane201710_slide17-S1_prep2_lossless_Ntb.tif -crop 2000x2000+12717+7973 /tmp/tmp.tif\n",
      "Region 3: x=2073, y=8508, w=2000, h=2000\n",
      "convert /media/yuncong/BstemAtlasData/CSHL_data_processed/ChatCryoJane201710/ChatCryoJane201710_prep2_lossless_Ntb/ChatCryoJane201710_slide16-S3_prep2_lossless_Ntb.tif -crop 2000x2000+2073+8508 /tmp/tmp.tif\n",
      "convert /media/yuncong/BstemAtlasData/CSHL_data_processed/ChatCryoJane201710/ChatCryoJane201710_prep2_lossless_Ntb/ChatCryoJane201710_slide17-S1_prep2_lossless_Ntb.tif -crop 2000x2000+2073+8508 /tmp/tmp.tif\n",
      "Region 4: x=8451, y=7343, w=2000, h=2000\n",
      "convert /media/yuncong/BstemAtlasData/CSHL_data_processed/ChatCryoJane201710/ChatCryoJane201710_prep2_lossless_Ntb/ChatCryoJane201710_slide16-S3_prep2_lossless_Ntb.tif -crop 2000x2000+8451+7343 /tmp/tmp.tif\n",
      "convert /media/yuncong/BstemAtlasData/CSHL_data_processed/ChatCryoJane201710/ChatCryoJane201710_prep2_lossless_Ntb/ChatCryoJane201710_slide17-S1_prep2_lossless_Ntb.tif -crop 2000x2000+8451+7343 /tmp/tmp.tif\n",
      "Region 5: x=8531, y=9878, w=2000, h=2000\n",
      "convert /media/yuncong/BstemAtlasData/CSHL_data_processed/ChatCryoJane201710/ChatCryoJane201710_prep2_lossless_Ntb/ChatCryoJane201710_slide16-S3_prep2_lossless_Ntb.tif -crop 2000x2000+8531+9878 /tmp/tmp.tif\n",
      "convert /media/yuncong/BstemAtlasData/CSHL_data_processed/ChatCryoJane201710/ChatCryoJane201710_prep2_lossless_Ntb/ChatCryoJane201710_slide17-S1_prep2_lossless_Ntb.tif -crop 2000x2000+8531+9878 /tmp/tmp.tif\n",
      "Region 6: x=7756, y=8604, w=2000, h=2000\n",
      "convert /media/yuncong/BstemAtlasData/CSHL_data_processed/ChatCryoJane201710/ChatCryoJane201710_prep2_lossless_Ntb/ChatCryoJane201710_slide16-S3_prep2_lossless_Ntb.tif -crop 2000x2000+7756+8604 /tmp/tmp.tif\n",
      "convert /media/yuncong/BstemAtlasData/CSHL_data_processed/ChatCryoJane201710/ChatCryoJane201710_prep2_lossless_Ntb/ChatCryoJane201710_slide17-S1_prep2_lossless_Ntb.tif -crop 2000x2000+7756+8604 /tmp/tmp.tif\n",
      "Region 7: x=8928, y=4978, w=2000, h=2000\n",
      "convert /media/yuncong/BstemAtlasData/CSHL_data_processed/ChatCryoJane201710/ChatCryoJane201710_prep2_lossless_Ntb/ChatCryoJane201710_slide16-S3_prep2_lossless_Ntb.tif -crop 2000x2000+8928+4978 /tmp/tmp.tif\n",
      "convert /media/yuncong/BstemAtlasData/CSHL_data_processed/ChatCryoJane201710/ChatCryoJane201710_prep2_lossless_Ntb/ChatCryoJane201710_slide17-S1_prep2_lossless_Ntb.tif -crop 2000x2000+8928+4978 /tmp/tmp.tif\n",
      "Region 8: x=7819, y=5488, w=2000, h=2000\n",
      "convert /media/yuncong/BstemAtlasData/CSHL_data_processed/ChatCryoJane201710/ChatCryoJane201710_prep2_lossless_Ntb/ChatCryoJane201710_slide16-S3_prep2_lossless_Ntb.tif -crop 2000x2000+7819+5488 /tmp/tmp.tif\n",
      "convert /media/yuncong/BstemAtlasData/CSHL_data_processed/ChatCryoJane201710/ChatCryoJane201710_prep2_lossless_Ntb/ChatCryoJane201710_slide17-S1_prep2_lossless_Ntb.tif -crop 2000x2000+7819+5488 /tmp/tmp.tif\n",
      "Region 9: x=2174, y=10362, w=2000, h=2000\n",
      "convert /media/yuncong/BstemAtlasData/CSHL_data_processed/ChatCryoJane201710/ChatCryoJane201710_prep2_lossless_Ntb/ChatCryoJane201710_slide16-S3_prep2_lossless_Ntb.tif -crop 2000x2000+2174+10362 /tmp/tmp.tif\n",
      "convert /media/yuncong/BstemAtlasData/CSHL_data_processed/ChatCryoJane201710/ChatCryoJane201710_prep2_lossless_Ntb/ChatCryoJane201710_slide17-S1_prep2_lossless_Ntb.tif -crop 2000x2000+2174+10362 /tmp/tmp.tif\n",
      "aws s3 cp \"/media/yuncong/BstemAtlasData/CSHL_data_processed/ChatCryoJane201710/ChatCryoJane201710_intensity_mapping/ChatCryoJane201710_slide17-S1_to_ChatCryoJane201710_slide16-S3_intensity_mapping_all_regions.npy\" \"s3://mousebrainatlas-data/CSHL_data_processed/ChatCryoJane201710/ChatCryoJane201710_intensity_mapping/ChatCryoJane201710_slide17-S1_to_ChatCryoJane201710_slide16-S3_intensity_mapping_all_regions.npy\"\n",
      "aws s3 cp \"/media/yuncong/BstemAtlasData/CSHL_data_processed/ChatCryoJane201710/ChatCryoJane201710_intensity_mapping/ChatCryoJane201710_slide17-S1_to_ChatCryoJane201710_slide16-S3_region_bboxes.npy\" \"s3://mousebrainatlas-data/CSHL_data_processed/ChatCryoJane201710/ChatCryoJane201710_intensity_mapping/ChatCryoJane201710_slide17-S1_to_ChatCryoJane201710_slide16-S3_region_bboxes.npy\"\n"
     ]
    },
    {
     "name": "stderr",
     "output_type": "stream",
     "text": [
      "ntb 49, ntb 50\n"
     ]
    },
    {
     "name": "stdout",
     "output_type": "stream",
     "text": [
      "rm -rf \"/media/yuncong/BstemAtlasData/CSHL_data_processed/ChatCryoJane201710/ChatCryoJane201710_prep2_thumbnail_mask/ChatCryoJane201710_slide17-S1_prep2_thumbnail_mask.png\" && mkdir -p \"/media/yuncong/BstemAtlasData/CSHL_data_processed/ChatCryoJane201710/ChatCryoJane201710_prep2_thumbnail_mask\"\n",
      "aws s3 cp \"s3://mousebrainatlas-data/CSHL_data_processed/ChatCryoJane201710/ChatCryoJane201710_prep2_thumbnail_mask/ChatCryoJane201710_slide17-S1_prep2_thumbnail_mask.png\" \"/media/yuncong/BstemAtlasData/CSHL_data_processed/ChatCryoJane201710/ChatCryoJane201710_prep2_thumbnail_mask/ChatCryoJane201710_slide17-S1_prep2_thumbnail_mask.png\"\n"
     ]
    },
    {
     "name": "stderr",
     "output_type": "stream",
     "text": [
      "Load NTB1: 0.00 seconds.\n",
      "Load NTB2: 0.00 seconds.\n"
     ]
    },
    {
     "name": "stdout",
     "output_type": "stream",
     "text": [
      "Region 0: x=16667, y=3930, w=2000, h=2000\n",
      "convert /media/yuncong/BstemAtlasData/CSHL_data_processed/ChatCryoJane201710/ChatCryoJane201710_prep2_lossless_Ntb/ChatCryoJane201710_slide17-S1_prep2_lossless_Ntb.tif -crop 2000x2000+16667+3930 /tmp/tmp.tif\n",
      "convert /media/yuncong/BstemAtlasData/CSHL_data_processed/ChatCryoJane201710/ChatCryoJane201710_prep2_lossless_Ntb/ChatCryoJane201710_slide18-S1_prep2_lossless_Ntb.tif -crop 2000x2000+16667+3930 /tmp/tmp.tif\n",
      "Region 1: x=1426, y=14682, w=2000, h=2000\n",
      "convert /media/yuncong/BstemAtlasData/CSHL_data_processed/ChatCryoJane201710/ChatCryoJane201710_prep2_lossless_Ntb/ChatCryoJane201710_slide17-S1_prep2_lossless_Ntb.tif -crop 2000x2000+1426+14682 /tmp/tmp.tif\n",
      "convert /media/yuncong/BstemAtlasData/CSHL_data_processed/ChatCryoJane201710/ChatCryoJane201710_prep2_lossless_Ntb/ChatCryoJane201710_slide18-S1_prep2_lossless_Ntb.tif -crop 2000x2000+1426+14682 /tmp/tmp.tif\n",
      "Region 2: x=5475, y=6808, w=2000, h=2000\n",
      "convert /media/yuncong/BstemAtlasData/CSHL_data_processed/ChatCryoJane201710/ChatCryoJane201710_prep2_lossless_Ntb/ChatCryoJane201710_slide17-S1_prep2_lossless_Ntb.tif -crop 2000x2000+5475+6808 /tmp/tmp.tif\n",
      "convert /media/yuncong/BstemAtlasData/CSHL_data_processed/ChatCryoJane201710/ChatCryoJane201710_prep2_lossless_Ntb/ChatCryoJane201710_slide18-S1_prep2_lossless_Ntb.tif -crop 2000x2000+5475+6808 /tmp/tmp.tif\n",
      "Region 3: x=2963, y=11802, w=2000, h=2000\n",
      "convert /media/yuncong/BstemAtlasData/CSHL_data_processed/ChatCryoJane201710/ChatCryoJane201710_prep2_lossless_Ntb/ChatCryoJane201710_slide17-S1_prep2_lossless_Ntb.tif -crop 2000x2000+2963+11802 /tmp/tmp.tif\n",
      "convert /media/yuncong/BstemAtlasData/CSHL_data_processed/ChatCryoJane201710/ChatCryoJane201710_prep2_lossless_Ntb/ChatCryoJane201710_slide18-S1_prep2_lossless_Ntb.tif -crop 2000x2000+2963+11802 /tmp/tmp.tif\n",
      "Region 4: x=1695, y=11790, w=2000, h=2000\n",
      "convert /media/yuncong/BstemAtlasData/CSHL_data_processed/ChatCryoJane201710/ChatCryoJane201710_prep2_lossless_Ntb/ChatCryoJane201710_slide17-S1_prep2_lossless_Ntb.tif -crop 2000x2000+1695+11790 /tmp/tmp.tif\n",
      "convert /media/yuncong/BstemAtlasData/CSHL_data_processed/ChatCryoJane201710/ChatCryoJane201710_prep2_lossless_Ntb/ChatCryoJane201710_slide18-S1_prep2_lossless_Ntb.tif -crop 2000x2000+1695+11790 /tmp/tmp.tif\n",
      "Region 5: x=675, y=7867, w=2000, h=2000\n",
      "convert /media/yuncong/BstemAtlasData/CSHL_data_processed/ChatCryoJane201710/ChatCryoJane201710_prep2_lossless_Ntb/ChatCryoJane201710_slide17-S1_prep2_lossless_Ntb.tif -crop 2000x2000+675+7867 /tmp/tmp.tif\n",
      "convert /media/yuncong/BstemAtlasData/CSHL_data_processed/ChatCryoJane201710/ChatCryoJane201710_prep2_lossless_Ntb/ChatCryoJane201710_slide18-S1_prep2_lossless_Ntb.tif -crop 2000x2000+675+7867 /tmp/tmp.tif\n",
      "Region 6: x=2249, y=8404, w=2000, h=2000\n",
      "convert /media/yuncong/BstemAtlasData/CSHL_data_processed/ChatCryoJane201710/ChatCryoJane201710_prep2_lossless_Ntb/ChatCryoJane201710_slide17-S1_prep2_lossless_Ntb.tif -crop 2000x2000+2249+8404 /tmp/tmp.tif\n",
      "convert /media/yuncong/BstemAtlasData/CSHL_data_processed/ChatCryoJane201710/ChatCryoJane201710_prep2_lossless_Ntb/ChatCryoJane201710_slide18-S1_prep2_lossless_Ntb.tif -crop 2000x2000+2249+8404 /tmp/tmp.tif\n",
      "Region 7: x=6326, y=4829, w=2000, h=2000\n",
      "convert /media/yuncong/BstemAtlasData/CSHL_data_processed/ChatCryoJane201710/ChatCryoJane201710_prep2_lossless_Ntb/ChatCryoJane201710_slide17-S1_prep2_lossless_Ntb.tif -crop 2000x2000+6326+4829 /tmp/tmp.tif\n",
      "convert /media/yuncong/BstemAtlasData/CSHL_data_processed/ChatCryoJane201710/ChatCryoJane201710_prep2_lossless_Ntb/ChatCryoJane201710_slide18-S1_prep2_lossless_Ntb.tif -crop 2000x2000+6326+4829 /tmp/tmp.tif\n",
      "Region 8: x=1127, y=5234, w=2000, h=2000\n",
      "convert /media/yuncong/BstemAtlasData/CSHL_data_processed/ChatCryoJane201710/ChatCryoJane201710_prep2_lossless_Ntb/ChatCryoJane201710_slide17-S1_prep2_lossless_Ntb.tif -crop 2000x2000+1127+5234 /tmp/tmp.tif\n",
      "convert /media/yuncong/BstemAtlasData/CSHL_data_processed/ChatCryoJane201710/ChatCryoJane201710_prep2_lossless_Ntb/ChatCryoJane201710_slide18-S1_prep2_lossless_Ntb.tif -crop 2000x2000+1127+5234 /tmp/tmp.tif\n",
      "Region 9: x=7442, y=10912, w=2000, h=2000\n",
      "convert /media/yuncong/BstemAtlasData/CSHL_data_processed/ChatCryoJane201710/ChatCryoJane201710_prep2_lossless_Ntb/ChatCryoJane201710_slide17-S1_prep2_lossless_Ntb.tif -crop 2000x2000+7442+10912 /tmp/tmp.tif\n",
      "convert /media/yuncong/BstemAtlasData/CSHL_data_processed/ChatCryoJane201710/ChatCryoJane201710_prep2_lossless_Ntb/ChatCryoJane201710_slide18-S1_prep2_lossless_Ntb.tif -crop 2000x2000+7442+10912 /tmp/tmp.tif\n",
      "aws s3 cp \"/media/yuncong/BstemAtlasData/CSHL_data_processed/ChatCryoJane201710/ChatCryoJane201710_intensity_mapping/ChatCryoJane201710_slide18-S1_to_ChatCryoJane201710_slide17-S1_intensity_mapping_all_regions.npy\" \"s3://mousebrainatlas-data/CSHL_data_processed/ChatCryoJane201710/ChatCryoJane201710_intensity_mapping/ChatCryoJane201710_slide18-S1_to_ChatCryoJane201710_slide17-S1_intensity_mapping_all_regions.npy\"\n",
      "aws s3 cp \"/media/yuncong/BstemAtlasData/CSHL_data_processed/ChatCryoJane201710/ChatCryoJane201710_intensity_mapping/ChatCryoJane201710_slide18-S1_to_ChatCryoJane201710_slide17-S1_region_bboxes.npy\" \"s3://mousebrainatlas-data/CSHL_data_processed/ChatCryoJane201710/ChatCryoJane201710_intensity_mapping/ChatCryoJane201710_slide18-S1_to_ChatCryoJane201710_slide17-S1_region_bboxes.npy\"\n"
     ]
    },
    {
     "name": "stderr",
     "output_type": "stream",
     "text": [
      "ntb 50, ntb 51\n"
     ]
    },
    {
     "name": "stdout",
     "output_type": "stream",
     "text": [
      "rm -rf \"/media/yuncong/BstemAtlasData/CSHL_data_processed/ChatCryoJane201710/ChatCryoJane201710_prep2_thumbnail_mask/ChatCryoJane201710_slide18-S1_prep2_thumbnail_mask.png\" && mkdir -p \"/media/yuncong/BstemAtlasData/CSHL_data_processed/ChatCryoJane201710/ChatCryoJane201710_prep2_thumbnail_mask\"\n",
      "aws s3 cp \"s3://mousebrainatlas-data/CSHL_data_processed/ChatCryoJane201710/ChatCryoJane201710_prep2_thumbnail_mask/ChatCryoJane201710_slide18-S1_prep2_thumbnail_mask.png\" \"/media/yuncong/BstemAtlasData/CSHL_data_processed/ChatCryoJane201710/ChatCryoJane201710_prep2_thumbnail_mask/ChatCryoJane201710_slide18-S1_prep2_thumbnail_mask.png\"\n"
     ]
    },
    {
     "name": "stderr",
     "output_type": "stream",
     "text": [
      "Load NTB1: 0.00 seconds.\n",
      "Load NTB2: 0.00 seconds.\n"
     ]
    },
    {
     "name": "stdout",
     "output_type": "stream",
     "text": [
      "Region 0: x=1792, y=4106, w=2000, h=2000\n",
      "convert /media/yuncong/BstemAtlasData/CSHL_data_processed/ChatCryoJane201710/ChatCryoJane201710_prep2_lossless_Ntb/ChatCryoJane201710_slide18-S1_prep2_lossless_Ntb.tif -crop 2000x2000+1792+4106 /tmp/tmp.tif\n",
      "convert /media/yuncong/BstemAtlasData/CSHL_data_processed/ChatCryoJane201710/ChatCryoJane201710_prep2_lossless_Ntb/ChatCryoJane201710_slide17-S2_prep2_lossless_Ntb.tif -crop 2000x2000+1792+4106 /tmp/tmp.tif\n",
      "Region 1: x=2054, y=12939, w=2000, h=2000\n",
      "convert /media/yuncong/BstemAtlasData/CSHL_data_processed/ChatCryoJane201710/ChatCryoJane201710_prep2_lossless_Ntb/ChatCryoJane201710_slide18-S1_prep2_lossless_Ntb.tif -crop 2000x2000+2054+12939 /tmp/tmp.tif\n",
      "convert /media/yuncong/BstemAtlasData/CSHL_data_processed/ChatCryoJane201710/ChatCryoJane201710_prep2_lossless_Ntb/ChatCryoJane201710_slide17-S2_prep2_lossless_Ntb.tif -crop 2000x2000+2054+12939 /tmp/tmp.tif\n",
      "Region 2: x=14164, y=3669, w=2000, h=2000\n",
      "convert /media/yuncong/BstemAtlasData/CSHL_data_processed/ChatCryoJane201710/ChatCryoJane201710_prep2_lossless_Ntb/ChatCryoJane201710_slide18-S1_prep2_lossless_Ntb.tif -crop 2000x2000+14164+3669 /tmp/tmp.tif\n",
      "convert /media/yuncong/BstemAtlasData/CSHL_data_processed/ChatCryoJane201710/ChatCryoJane201710_prep2_lossless_Ntb/ChatCryoJane201710_slide17-S2_prep2_lossless_Ntb.tif -crop 2000x2000+14164+3669 /tmp/tmp.tif\n",
      "Region 3: x=16763, y=6429, w=2000, h=2000\n",
      "convert /media/yuncong/BstemAtlasData/CSHL_data_processed/ChatCryoJane201710/ChatCryoJane201710_prep2_lossless_Ntb/ChatCryoJane201710_slide18-S1_prep2_lossless_Ntb.tif -crop 2000x2000+16763+6429 /tmp/tmp.tif\n",
      "convert /media/yuncong/BstemAtlasData/CSHL_data_processed/ChatCryoJane201710/ChatCryoJane201710_prep2_lossless_Ntb/ChatCryoJane201710_slide17-S2_prep2_lossless_Ntb.tif -crop 2000x2000+16763+6429 /tmp/tmp.tif\n",
      "Region 4: x=4678, y=1929, w=2000, h=2000\n",
      "convert /media/yuncong/BstemAtlasData/CSHL_data_processed/ChatCryoJane201710/ChatCryoJane201710_prep2_lossless_Ntb/ChatCryoJane201710_slide18-S1_prep2_lossless_Ntb.tif -crop 2000x2000+4678+1929 /tmp/tmp.tif\n",
      "convert /media/yuncong/BstemAtlasData/CSHL_data_processed/ChatCryoJane201710/ChatCryoJane201710_prep2_lossless_Ntb/ChatCryoJane201710_slide17-S2_prep2_lossless_Ntb.tif -crop 2000x2000+4678+1929 /tmp/tmp.tif\n",
      "Region 5: x=667, y=5964, w=2000, h=2000\n",
      "convert /media/yuncong/BstemAtlasData/CSHL_data_processed/ChatCryoJane201710/ChatCryoJane201710_prep2_lossless_Ntb/ChatCryoJane201710_slide18-S1_prep2_lossless_Ntb.tif -crop 2000x2000+667+5964 /tmp/tmp.tif\n",
      "convert /media/yuncong/BstemAtlasData/CSHL_data_processed/ChatCryoJane201710/ChatCryoJane201710_prep2_lossless_Ntb/ChatCryoJane201710_slide17-S2_prep2_lossless_Ntb.tif -crop 2000x2000+667+5964 /tmp/tmp.tif\n",
      "Region 6: x=14079, y=9170, w=2000, h=2000\n",
      "convert /media/yuncong/BstemAtlasData/CSHL_data_processed/ChatCryoJane201710/ChatCryoJane201710_prep2_lossless_Ntb/ChatCryoJane201710_slide18-S1_prep2_lossless_Ntb.tif -crop 2000x2000+14079+9170 /tmp/tmp.tif\n",
      "convert /media/yuncong/BstemAtlasData/CSHL_data_processed/ChatCryoJane201710/ChatCryoJane201710_prep2_lossless_Ntb/ChatCryoJane201710_slide17-S2_prep2_lossless_Ntb.tif -crop 2000x2000+14079+9170 /tmp/tmp.tif\n",
      "Region 7: x=13933, y=5339, w=2000, h=2000\n",
      "convert /media/yuncong/BstemAtlasData/CSHL_data_processed/ChatCryoJane201710/ChatCryoJane201710_prep2_lossless_Ntb/ChatCryoJane201710_slide18-S1_prep2_lossless_Ntb.tif -crop 2000x2000+13933+5339 /tmp/tmp.tif\n",
      "convert /media/yuncong/BstemAtlasData/CSHL_data_processed/ChatCryoJane201710/ChatCryoJane201710_prep2_lossless_Ntb/ChatCryoJane201710_slide17-S2_prep2_lossless_Ntb.tif -crop 2000x2000+13933+5339 /tmp/tmp.tif\n",
      "Region 8: x=10242, y=10227, w=2000, h=2000\n",
      "convert /media/yuncong/BstemAtlasData/CSHL_data_processed/ChatCryoJane201710/ChatCryoJane201710_prep2_lossless_Ntb/ChatCryoJane201710_slide18-S1_prep2_lossless_Ntb.tif -crop 2000x2000+10242+10227 /tmp/tmp.tif\n",
      "convert /media/yuncong/BstemAtlasData/CSHL_data_processed/ChatCryoJane201710/ChatCryoJane201710_prep2_lossless_Ntb/ChatCryoJane201710_slide17-S2_prep2_lossless_Ntb.tif -crop 2000x2000+10242+10227 /tmp/tmp.tif\n",
      "Region 9: x=8995, y=7508, w=2000, h=2000\n",
      "convert /media/yuncong/BstemAtlasData/CSHL_data_processed/ChatCryoJane201710/ChatCryoJane201710_prep2_lossless_Ntb/ChatCryoJane201710_slide18-S1_prep2_lossless_Ntb.tif -crop 2000x2000+8995+7508 /tmp/tmp.tif\n",
      "convert /media/yuncong/BstemAtlasData/CSHL_data_processed/ChatCryoJane201710/ChatCryoJane201710_prep2_lossless_Ntb/ChatCryoJane201710_slide17-S2_prep2_lossless_Ntb.tif -crop 2000x2000+8995+7508 /tmp/tmp.tif\n",
      "aws s3 cp \"/media/yuncong/BstemAtlasData/CSHL_data_processed/ChatCryoJane201710/ChatCryoJane201710_intensity_mapping/ChatCryoJane201710_slide17-S2_to_ChatCryoJane201710_slide18-S1_intensity_mapping_all_regions.npy\" \"s3://mousebrainatlas-data/CSHL_data_processed/ChatCryoJane201710/ChatCryoJane201710_intensity_mapping/ChatCryoJane201710_slide17-S2_to_ChatCryoJane201710_slide18-S1_intensity_mapping_all_regions.npy\"\n",
      "aws s3 cp \"/media/yuncong/BstemAtlasData/CSHL_data_processed/ChatCryoJane201710/ChatCryoJane201710_intensity_mapping/ChatCryoJane201710_slide17-S2_to_ChatCryoJane201710_slide18-S1_region_bboxes.npy\" \"s3://mousebrainatlas-data/CSHL_data_processed/ChatCryoJane201710/ChatCryoJane201710_intensity_mapping/ChatCryoJane201710_slide17-S2_to_ChatCryoJane201710_slide18-S1_region_bboxes.npy\"\n"
     ]
    },
    {
     "name": "stderr",
     "output_type": "stream",
     "text": [
      "ntb 51, ntb 52\n"
     ]
    },
    {
     "name": "stdout",
     "output_type": "stream",
     "text": [
      "rm -rf \"/media/yuncong/BstemAtlasData/CSHL_data_processed/ChatCryoJane201710/ChatCryoJane201710_prep2_thumbnail_mask/ChatCryoJane201710_slide17-S2_prep2_thumbnail_mask.png\" && mkdir -p \"/media/yuncong/BstemAtlasData/CSHL_data_processed/ChatCryoJane201710/ChatCryoJane201710_prep2_thumbnail_mask\"\n",
      "aws s3 cp \"s3://mousebrainatlas-data/CSHL_data_processed/ChatCryoJane201710/ChatCryoJane201710_prep2_thumbnail_mask/ChatCryoJane201710_slide17-S2_prep2_thumbnail_mask.png\" \"/media/yuncong/BstemAtlasData/CSHL_data_processed/ChatCryoJane201710/ChatCryoJane201710_prep2_thumbnail_mask/ChatCryoJane201710_slide17-S2_prep2_thumbnail_mask.png\"\n"
     ]
    },
    {
     "name": "stderr",
     "output_type": "stream",
     "text": [
      "Load NTB1: 0.00 seconds.\n",
      "Load NTB2: 0.00 seconds.\n"
     ]
    },
    {
     "name": "stdout",
     "output_type": "stream",
     "text": [
      "Region 0: x=6081, y=4880, w=2000, h=2000\n",
      "convert /media/yuncong/BstemAtlasData/CSHL_data_processed/ChatCryoJane201710/ChatCryoJane201710_prep2_lossless_Ntb/ChatCryoJane201710_slide17-S2_prep2_lossless_Ntb.tif -crop 2000x2000+6081+4880 /tmp/tmp.tif\n",
      "convert /media/yuncong/BstemAtlasData/CSHL_data_processed/ChatCryoJane201710/ChatCryoJane201710_prep2_lossless_Ntb/ChatCryoJane201710_slide18-S2_prep2_lossless_Ntb.tif -crop 2000x2000+6081+4880 /tmp/tmp.tif\n",
      "Region 1: x=515, y=15336, w=2000, h=2000\n",
      "convert /media/yuncong/BstemAtlasData/CSHL_data_processed/ChatCryoJane201710/ChatCryoJane201710_prep2_lossless_Ntb/ChatCryoJane201710_slide17-S2_prep2_lossless_Ntb.tif -crop 2000x2000+515+15336 /tmp/tmp.tif\n",
      "convert /media/yuncong/BstemAtlasData/CSHL_data_processed/ChatCryoJane201710/ChatCryoJane201710_prep2_lossless_Ntb/ChatCryoJane201710_slide18-S2_prep2_lossless_Ntb.tif -crop 2000x2000+515+15336 /tmp/tmp.tif\n",
      "Region 2: x=17753, y=5031, w=2000, h=2000\n",
      "convert /media/yuncong/BstemAtlasData/CSHL_data_processed/ChatCryoJane201710/ChatCryoJane201710_prep2_lossless_Ntb/ChatCryoJane201710_slide17-S2_prep2_lossless_Ntb.tif -crop 2000x2000+17753+5031 /tmp/tmp.tif\n",
      "convert /media/yuncong/BstemAtlasData/CSHL_data_processed/ChatCryoJane201710/ChatCryoJane201710_prep2_lossless_Ntb/ChatCryoJane201710_slide18-S2_prep2_lossless_Ntb.tif -crop 2000x2000+17753+5031 /tmp/tmp.tif\n",
      "Region 3: x=14925, y=8423, w=2000, h=2000\n",
      "convert /media/yuncong/BstemAtlasData/CSHL_data_processed/ChatCryoJane201710/ChatCryoJane201710_prep2_lossless_Ntb/ChatCryoJane201710_slide17-S2_prep2_lossless_Ntb.tif -crop 2000x2000+14925+8423 /tmp/tmp.tif\n",
      "convert /media/yuncong/BstemAtlasData/CSHL_data_processed/ChatCryoJane201710/ChatCryoJane201710_prep2_lossless_Ntb/ChatCryoJane201710_slide18-S2_prep2_lossless_Ntb.tif -crop 2000x2000+14925+8423 /tmp/tmp.tif\n",
      "Region 4: x=4161, y=7559, w=2000, h=2000\n",
      "convert /media/yuncong/BstemAtlasData/CSHL_data_processed/ChatCryoJane201710/ChatCryoJane201710_prep2_lossless_Ntb/ChatCryoJane201710_slide17-S2_prep2_lossless_Ntb.tif -crop 2000x2000+4161+7559 /tmp/tmp.tif\n",
      "convert /media/yuncong/BstemAtlasData/CSHL_data_processed/ChatCryoJane201710/ChatCryoJane201710_prep2_lossless_Ntb/ChatCryoJane201710_slide18-S2_prep2_lossless_Ntb.tif -crop 2000x2000+4161+7559 /tmp/tmp.tif\n",
      "Region 5: x=6147, y=2319, w=2000, h=2000\n",
      "convert /media/yuncong/BstemAtlasData/CSHL_data_processed/ChatCryoJane201710/ChatCryoJane201710_prep2_lossless_Ntb/ChatCryoJane201710_slide17-S2_prep2_lossless_Ntb.tif -crop 2000x2000+6147+2319 /tmp/tmp.tif\n",
      "convert /media/yuncong/BstemAtlasData/CSHL_data_processed/ChatCryoJane201710/ChatCryoJane201710_prep2_lossless_Ntb/ChatCryoJane201710_slide18-S2_prep2_lossless_Ntb.tif -crop 2000x2000+6147+2319 /tmp/tmp.tif\n",
      "Region 6: x=12892, y=4350, w=2000, h=2000\n",
      "convert /media/yuncong/BstemAtlasData/CSHL_data_processed/ChatCryoJane201710/ChatCryoJane201710_prep2_lossless_Ntb/ChatCryoJane201710_slide17-S2_prep2_lossless_Ntb.tif -crop 2000x2000+12892+4350 /tmp/tmp.tif\n",
      "convert /media/yuncong/BstemAtlasData/CSHL_data_processed/ChatCryoJane201710/ChatCryoJane201710_prep2_lossless_Ntb/ChatCryoJane201710_slide18-S2_prep2_lossless_Ntb.tif -crop 2000x2000+12892+4350 /tmp/tmp.tif\n",
      "Region 7: x=1837, y=4151, w=2000, h=2000\n",
      "convert /media/yuncong/BstemAtlasData/CSHL_data_processed/ChatCryoJane201710/ChatCryoJane201710_prep2_lossless_Ntb/ChatCryoJane201710_slide17-S2_prep2_lossless_Ntb.tif -crop 2000x2000+1837+4151 /tmp/tmp.tif\n",
      "convert /media/yuncong/BstemAtlasData/CSHL_data_processed/ChatCryoJane201710/ChatCryoJane201710_prep2_lossless_Ntb/ChatCryoJane201710_slide18-S2_prep2_lossless_Ntb.tif -crop 2000x2000+1837+4151 /tmp/tmp.tif\n",
      "Region 8: x=9185, y=10037, w=2000, h=2000\n",
      "convert /media/yuncong/BstemAtlasData/CSHL_data_processed/ChatCryoJane201710/ChatCryoJane201710_prep2_lossless_Ntb/ChatCryoJane201710_slide17-S2_prep2_lossless_Ntb.tif -crop 2000x2000+9185+10037 /tmp/tmp.tif\n",
      "convert /media/yuncong/BstemAtlasData/CSHL_data_processed/ChatCryoJane201710/ChatCryoJane201710_prep2_lossless_Ntb/ChatCryoJane201710_slide18-S2_prep2_lossless_Ntb.tif -crop 2000x2000+9185+10037 /tmp/tmp.tif\n",
      "Region 9: x=17529, y=5781, w=2000, h=2000\n",
      "convert /media/yuncong/BstemAtlasData/CSHL_data_processed/ChatCryoJane201710/ChatCryoJane201710_prep2_lossless_Ntb/ChatCryoJane201710_slide17-S2_prep2_lossless_Ntb.tif -crop 2000x2000+17529+5781 /tmp/tmp.tif\n",
      "convert /media/yuncong/BstemAtlasData/CSHL_data_processed/ChatCryoJane201710/ChatCryoJane201710_prep2_lossless_Ntb/ChatCryoJane201710_slide18-S2_prep2_lossless_Ntb.tif -crop 2000x2000+17529+5781 /tmp/tmp.tif\n",
      "aws s3 cp \"/media/yuncong/BstemAtlasData/CSHL_data_processed/ChatCryoJane201710/ChatCryoJane201710_intensity_mapping/ChatCryoJane201710_slide18-S2_to_ChatCryoJane201710_slide17-S2_intensity_mapping_all_regions.npy\" \"s3://mousebrainatlas-data/CSHL_data_processed/ChatCryoJane201710/ChatCryoJane201710_intensity_mapping/ChatCryoJane201710_slide18-S2_to_ChatCryoJane201710_slide17-S2_intensity_mapping_all_regions.npy\"\n",
      "aws s3 cp \"/media/yuncong/BstemAtlasData/CSHL_data_processed/ChatCryoJane201710/ChatCryoJane201710_intensity_mapping/ChatCryoJane201710_slide18-S2_to_ChatCryoJane201710_slide17-S2_region_bboxes.npy\" \"s3://mousebrainatlas-data/CSHL_data_processed/ChatCryoJane201710/ChatCryoJane201710_intensity_mapping/ChatCryoJane201710_slide18-S2_to_ChatCryoJane201710_slide17-S2_region_bboxes.npy\"\n"
     ]
    },
    {
     "name": "stderr",
     "output_type": "stream",
     "text": [
      "ntb 52, ntb 53\n"
     ]
    },
    {
     "name": "stdout",
     "output_type": "stream",
     "text": [
      "rm -rf \"/media/yuncong/BstemAtlasData/CSHL_data_processed/ChatCryoJane201710/ChatCryoJane201710_prep2_thumbnail_mask/ChatCryoJane201710_slide18-S2_prep2_thumbnail_mask.png\" && mkdir -p \"/media/yuncong/BstemAtlasData/CSHL_data_processed/ChatCryoJane201710/ChatCryoJane201710_prep2_thumbnail_mask\"\n",
      "aws s3 cp \"s3://mousebrainatlas-data/CSHL_data_processed/ChatCryoJane201710/ChatCryoJane201710_prep2_thumbnail_mask/ChatCryoJane201710_slide18-S2_prep2_thumbnail_mask.png\" \"/media/yuncong/BstemAtlasData/CSHL_data_processed/ChatCryoJane201710/ChatCryoJane201710_prep2_thumbnail_mask/ChatCryoJane201710_slide18-S2_prep2_thumbnail_mask.png\"\n"
     ]
    },
    {
     "name": "stderr",
     "output_type": "stream",
     "text": [
      "Load NTB1: 0.00 seconds.\n",
      "Load NTB2: 0.00 seconds.\n"
     ]
    },
    {
     "name": "stdout",
     "output_type": "stream",
     "text": [
      "Region 0: x=14439, y=5083, w=2000, h=2000\n",
      "convert /media/yuncong/BstemAtlasData/CSHL_data_processed/ChatCryoJane201710/ChatCryoJane201710_prep2_lossless_Ntb/ChatCryoJane201710_slide18-S2_prep2_lossless_Ntb.tif -crop 2000x2000+14439+5083 /tmp/tmp.tif\n",
      "convert /media/yuncong/BstemAtlasData/CSHL_data_processed/ChatCryoJane201710/ChatCryoJane201710_prep2_lossless_Ntb/ChatCryoJane201710_slide17-S3_prep2_lossless_Ntb.tif -crop 2000x2000+14439+5083 /tmp/tmp.tif\n",
      "Region 1: x=7883, y=9327, w=2000, h=2000\n",
      "convert /media/yuncong/BstemAtlasData/CSHL_data_processed/ChatCryoJane201710/ChatCryoJane201710_prep2_lossless_Ntb/ChatCryoJane201710_slide18-S2_prep2_lossless_Ntb.tif -crop 2000x2000+7883+9327 /tmp/tmp.tif\n",
      "convert /media/yuncong/BstemAtlasData/CSHL_data_processed/ChatCryoJane201710/ChatCryoJane201710_prep2_lossless_Ntb/ChatCryoJane201710_slide17-S3_prep2_lossless_Ntb.tif -crop 2000x2000+7883+9327 /tmp/tmp.tif\n",
      "Region 2: x=5617, y=12649, w=2000, h=2000\n",
      "convert /media/yuncong/BstemAtlasData/CSHL_data_processed/ChatCryoJane201710/ChatCryoJane201710_prep2_lossless_Ntb/ChatCryoJane201710_slide18-S2_prep2_lossless_Ntb.tif -crop 2000x2000+5617+12649 /tmp/tmp.tif\n",
      "convert /media/yuncong/BstemAtlasData/CSHL_data_processed/ChatCryoJane201710/ChatCryoJane201710_prep2_lossless_Ntb/ChatCryoJane201710_slide17-S3_prep2_lossless_Ntb.tif -crop 2000x2000+5617+12649 /tmp/tmp.tif\n",
      "Region 3: x=11651, y=6629, w=2000, h=2000\n",
      "convert /media/yuncong/BstemAtlasData/CSHL_data_processed/ChatCryoJane201710/ChatCryoJane201710_prep2_lossless_Ntb/ChatCryoJane201710_slide18-S2_prep2_lossless_Ntb.tif -crop 2000x2000+11651+6629 /tmp/tmp.tif\n",
      "convert /media/yuncong/BstemAtlasData/CSHL_data_processed/ChatCryoJane201710/ChatCryoJane201710_prep2_lossless_Ntb/ChatCryoJane201710_slide17-S3_prep2_lossless_Ntb.tif -crop 2000x2000+11651+6629 /tmp/tmp.tif\n",
      "Region 4: x=13265, y=7930, w=2000, h=2000\n",
      "convert /media/yuncong/BstemAtlasData/CSHL_data_processed/ChatCryoJane201710/ChatCryoJane201710_prep2_lossless_Ntb/ChatCryoJane201710_slide18-S2_prep2_lossless_Ntb.tif -crop 2000x2000+13265+7930 /tmp/tmp.tif\n",
      "convert /media/yuncong/BstemAtlasData/CSHL_data_processed/ChatCryoJane201710/ChatCryoJane201710_prep2_lossless_Ntb/ChatCryoJane201710_slide17-S3_prep2_lossless_Ntb.tif -crop 2000x2000+13265+7930 /tmp/tmp.tif\n",
      "Region 5: x=14905, y=7273, w=2000, h=2000\n",
      "convert /media/yuncong/BstemAtlasData/CSHL_data_processed/ChatCryoJane201710/ChatCryoJane201710_prep2_lossless_Ntb/ChatCryoJane201710_slide18-S2_prep2_lossless_Ntb.tif -crop 2000x2000+14905+7273 /tmp/tmp.tif\n",
      "convert /media/yuncong/BstemAtlasData/CSHL_data_processed/ChatCryoJane201710/ChatCryoJane201710_prep2_lossless_Ntb/ChatCryoJane201710_slide17-S3_prep2_lossless_Ntb.tif -crop 2000x2000+14905+7273 /tmp/tmp.tif\n",
      "Region 6: x=14009, y=11670, w=2000, h=2000\n",
      "convert /media/yuncong/BstemAtlasData/CSHL_data_processed/ChatCryoJane201710/ChatCryoJane201710_prep2_lossless_Ntb/ChatCryoJane201710_slide18-S2_prep2_lossless_Ntb.tif -crop 2000x2000+14009+11670 /tmp/tmp.tif\n",
      "convert /media/yuncong/BstemAtlasData/CSHL_data_processed/ChatCryoJane201710/ChatCryoJane201710_prep2_lossless_Ntb/ChatCryoJane201710_slide17-S3_prep2_lossless_Ntb.tif -crop 2000x2000+14009+11670 /tmp/tmp.tif\n",
      "Region 7: x=12180, y=3476, w=2000, h=2000\n",
      "convert /media/yuncong/BstemAtlasData/CSHL_data_processed/ChatCryoJane201710/ChatCryoJane201710_prep2_lossless_Ntb/ChatCryoJane201710_slide18-S2_prep2_lossless_Ntb.tif -crop 2000x2000+12180+3476 /tmp/tmp.tif\n",
      "convert /media/yuncong/BstemAtlasData/CSHL_data_processed/ChatCryoJane201710/ChatCryoJane201710_prep2_lossless_Ntb/ChatCryoJane201710_slide17-S3_prep2_lossless_Ntb.tif -crop 2000x2000+12180+3476 /tmp/tmp.tif\n",
      "Region 8: x=1740, y=7418, w=2000, h=2000\n",
      "convert /media/yuncong/BstemAtlasData/CSHL_data_processed/ChatCryoJane201710/ChatCryoJane201710_prep2_lossless_Ntb/ChatCryoJane201710_slide18-S2_prep2_lossless_Ntb.tif -crop 2000x2000+1740+7418 /tmp/tmp.tif\n",
      "convert /media/yuncong/BstemAtlasData/CSHL_data_processed/ChatCryoJane201710/ChatCryoJane201710_prep2_lossless_Ntb/ChatCryoJane201710_slide17-S3_prep2_lossless_Ntb.tif -crop 2000x2000+1740+7418 /tmp/tmp.tif\n",
      "Region 9: x=10594, y=7569, w=2000, h=2000\n",
      "convert /media/yuncong/BstemAtlasData/CSHL_data_processed/ChatCryoJane201710/ChatCryoJane201710_prep2_lossless_Ntb/ChatCryoJane201710_slide18-S2_prep2_lossless_Ntb.tif -crop 2000x2000+10594+7569 /tmp/tmp.tif\n",
      "convert /media/yuncong/BstemAtlasData/CSHL_data_processed/ChatCryoJane201710/ChatCryoJane201710_prep2_lossless_Ntb/ChatCryoJane201710_slide17-S3_prep2_lossless_Ntb.tif -crop 2000x2000+10594+7569 /tmp/tmp.tif\n",
      "aws s3 cp \"/media/yuncong/BstemAtlasData/CSHL_data_processed/ChatCryoJane201710/ChatCryoJane201710_intensity_mapping/ChatCryoJane201710_slide17-S3_to_ChatCryoJane201710_slide18-S2_intensity_mapping_all_regions.npy\" \"s3://mousebrainatlas-data/CSHL_data_processed/ChatCryoJane201710/ChatCryoJane201710_intensity_mapping/ChatCryoJane201710_slide17-S3_to_ChatCryoJane201710_slide18-S2_intensity_mapping_all_regions.npy\"\n",
      "aws s3 cp \"/media/yuncong/BstemAtlasData/CSHL_data_processed/ChatCryoJane201710/ChatCryoJane201710_intensity_mapping/ChatCryoJane201710_slide17-S3_to_ChatCryoJane201710_slide18-S2_region_bboxes.npy\" \"s3://mousebrainatlas-data/CSHL_data_processed/ChatCryoJane201710/ChatCryoJane201710_intensity_mapping/ChatCryoJane201710_slide17-S3_to_ChatCryoJane201710_slide18-S2_region_bboxes.npy\"\n"
     ]
    },
    {
     "name": "stderr",
     "output_type": "stream",
     "text": [
      "ntb 53, ntb 54\n"
     ]
    },
    {
     "name": "stdout",
     "output_type": "stream",
     "text": [
      "rm -rf \"/media/yuncong/BstemAtlasData/CSHL_data_processed/ChatCryoJane201710/ChatCryoJane201710_prep2_thumbnail_mask/ChatCryoJane201710_slide17-S3_prep2_thumbnail_mask.png\" && mkdir -p \"/media/yuncong/BstemAtlasData/CSHL_data_processed/ChatCryoJane201710/ChatCryoJane201710_prep2_thumbnail_mask\"\n",
      "aws s3 cp \"s3://mousebrainatlas-data/CSHL_data_processed/ChatCryoJane201710/ChatCryoJane201710_prep2_thumbnail_mask/ChatCryoJane201710_slide17-S3_prep2_thumbnail_mask.png\" \"/media/yuncong/BstemAtlasData/CSHL_data_processed/ChatCryoJane201710/ChatCryoJane201710_prep2_thumbnail_mask/ChatCryoJane201710_slide17-S3_prep2_thumbnail_mask.png\"\n"
     ]
    },
    {
     "name": "stderr",
     "output_type": "stream",
     "text": [
      "Load NTB1: 0.00 seconds.\n",
      "Load NTB2: 0.00 seconds.\n"
     ]
    },
    {
     "name": "stdout",
     "output_type": "stream",
     "text": [
      "Region 0: x=8359, y=3716, w=2000, h=2000\n",
      "convert /media/yuncong/BstemAtlasData/CSHL_data_processed/ChatCryoJane201710/ChatCryoJane201710_prep2_lossless_Ntb/ChatCryoJane201710_slide17-S3_prep2_lossless_Ntb.tif -crop 2000x2000+8359+3716 /tmp/tmp.tif\n",
      "convert /media/yuncong/BstemAtlasData/CSHL_data_processed/ChatCryoJane201710/ChatCryoJane201710_prep2_lossless_Ntb/ChatCryoJane201710_slide18-S3_prep2_lossless_Ntb.tif -crop 2000x2000+8359+3716 /tmp/tmp.tif\n",
      "Region 1: x=4966, y=6325, w=2000, h=2000\n",
      "convert /media/yuncong/BstemAtlasData/CSHL_data_processed/ChatCryoJane201710/ChatCryoJane201710_prep2_lossless_Ntb/ChatCryoJane201710_slide17-S3_prep2_lossless_Ntb.tif -crop 2000x2000+4966+6325 /tmp/tmp.tif\n",
      "convert /media/yuncong/BstemAtlasData/CSHL_data_processed/ChatCryoJane201710/ChatCryoJane201710_prep2_lossless_Ntb/ChatCryoJane201710_slide18-S3_prep2_lossless_Ntb.tif -crop 2000x2000+4966+6325 /tmp/tmp.tif\n",
      "Region 2: x=2287, y=13325, w=2000, h=2000\n",
      "convert /media/yuncong/BstemAtlasData/CSHL_data_processed/ChatCryoJane201710/ChatCryoJane201710_prep2_lossless_Ntb/ChatCryoJane201710_slide17-S3_prep2_lossless_Ntb.tif -crop 2000x2000+2287+13325 /tmp/tmp.tif\n",
      "convert /media/yuncong/BstemAtlasData/CSHL_data_processed/ChatCryoJane201710/ChatCryoJane201710_prep2_lossless_Ntb/ChatCryoJane201710_slide18-S3_prep2_lossless_Ntb.tif -crop 2000x2000+2287+13325 /tmp/tmp.tif\n",
      "Region 3: x=9084, y=2610, w=2000, h=2000\n",
      "convert /media/yuncong/BstemAtlasData/CSHL_data_processed/ChatCryoJane201710/ChatCryoJane201710_prep2_lossless_Ntb/ChatCryoJane201710_slide17-S3_prep2_lossless_Ntb.tif -crop 2000x2000+9084+2610 /tmp/tmp.tif\n",
      "convert /media/yuncong/BstemAtlasData/CSHL_data_processed/ChatCryoJane201710/ChatCryoJane201710_prep2_lossless_Ntb/ChatCryoJane201710_slide18-S3_prep2_lossless_Ntb.tif -crop 2000x2000+9084+2610 /tmp/tmp.tif\n",
      "Region 4: x=2841, y=1323, w=2000, h=2000\n",
      "convert /media/yuncong/BstemAtlasData/CSHL_data_processed/ChatCryoJane201710/ChatCryoJane201710_prep2_lossless_Ntb/ChatCryoJane201710_slide17-S3_prep2_lossless_Ntb.tif -crop 2000x2000+2841+1323 /tmp/tmp.tif\n",
      "convert /media/yuncong/BstemAtlasData/CSHL_data_processed/ChatCryoJane201710/ChatCryoJane201710_prep2_lossless_Ntb/ChatCryoJane201710_slide18-S3_prep2_lossless_Ntb.tif -crop 2000x2000+2841+1323 /tmp/tmp.tif\n",
      "Region 5: x=14417, y=7507, w=2000, h=2000\n",
      "convert /media/yuncong/BstemAtlasData/CSHL_data_processed/ChatCryoJane201710/ChatCryoJane201710_prep2_lossless_Ntb/ChatCryoJane201710_slide17-S3_prep2_lossless_Ntb.tif -crop 2000x2000+14417+7507 /tmp/tmp.tif\n",
      "convert /media/yuncong/BstemAtlasData/CSHL_data_processed/ChatCryoJane201710/ChatCryoJane201710_prep2_lossless_Ntb/ChatCryoJane201710_slide18-S3_prep2_lossless_Ntb.tif -crop 2000x2000+14417+7507 /tmp/tmp.tif\n",
      "Region 6: x=5112, y=2584, w=2000, h=2000\n",
      "convert /media/yuncong/BstemAtlasData/CSHL_data_processed/ChatCryoJane201710/ChatCryoJane201710_prep2_lossless_Ntb/ChatCryoJane201710_slide17-S3_prep2_lossless_Ntb.tif -crop 2000x2000+5112+2584 /tmp/tmp.tif\n",
      "convert /media/yuncong/BstemAtlasData/CSHL_data_processed/ChatCryoJane201710/ChatCryoJane201710_prep2_lossless_Ntb/ChatCryoJane201710_slide18-S3_prep2_lossless_Ntb.tif -crop 2000x2000+5112+2584 /tmp/tmp.tif\n",
      "Region 7: x=1725, y=3652, w=2000, h=2000\n",
      "convert /media/yuncong/BstemAtlasData/CSHL_data_processed/ChatCryoJane201710/ChatCryoJane201710_prep2_lossless_Ntb/ChatCryoJane201710_slide17-S3_prep2_lossless_Ntb.tif -crop 2000x2000+1725+3652 /tmp/tmp.tif\n",
      "convert /media/yuncong/BstemAtlasData/CSHL_data_processed/ChatCryoJane201710/ChatCryoJane201710_prep2_lossless_Ntb/ChatCryoJane201710_slide18-S3_prep2_lossless_Ntb.tif -crop 2000x2000+1725+3652 /tmp/tmp.tif\n",
      "Region 8: x=7879, y=7520, w=2000, h=2000\n",
      "convert /media/yuncong/BstemAtlasData/CSHL_data_processed/ChatCryoJane201710/ChatCryoJane201710_prep2_lossless_Ntb/ChatCryoJane201710_slide17-S3_prep2_lossless_Ntb.tif -crop 2000x2000+7879+7520 /tmp/tmp.tif\n",
      "convert /media/yuncong/BstemAtlasData/CSHL_data_processed/ChatCryoJane201710/ChatCryoJane201710_prep2_lossless_Ntb/ChatCryoJane201710_slide18-S3_prep2_lossless_Ntb.tif -crop 2000x2000+7879+7520 /tmp/tmp.tif\n",
      "Region 9: x=11412, y=6819, w=2000, h=2000\n",
      "convert /media/yuncong/BstemAtlasData/CSHL_data_processed/ChatCryoJane201710/ChatCryoJane201710_prep2_lossless_Ntb/ChatCryoJane201710_slide17-S3_prep2_lossless_Ntb.tif -crop 2000x2000+11412+6819 /tmp/tmp.tif\n",
      "convert /media/yuncong/BstemAtlasData/CSHL_data_processed/ChatCryoJane201710/ChatCryoJane201710_prep2_lossless_Ntb/ChatCryoJane201710_slide18-S3_prep2_lossless_Ntb.tif -crop 2000x2000+11412+6819 /tmp/tmp.tif\n",
      "aws s3 cp \"/media/yuncong/BstemAtlasData/CSHL_data_processed/ChatCryoJane201710/ChatCryoJane201710_intensity_mapping/ChatCryoJane201710_slide18-S3_to_ChatCryoJane201710_slide17-S3_intensity_mapping_all_regions.npy\" \"s3://mousebrainatlas-data/CSHL_data_processed/ChatCryoJane201710/ChatCryoJane201710_intensity_mapping/ChatCryoJane201710_slide18-S3_to_ChatCryoJane201710_slide17-S3_intensity_mapping_all_regions.npy\"\n",
      "aws s3 cp \"/media/yuncong/BstemAtlasData/CSHL_data_processed/ChatCryoJane201710/ChatCryoJane201710_intensity_mapping/ChatCryoJane201710_slide18-S3_to_ChatCryoJane201710_slide17-S3_region_bboxes.npy\" \"s3://mousebrainatlas-data/CSHL_data_processed/ChatCryoJane201710/ChatCryoJane201710_intensity_mapping/ChatCryoJane201710_slide18-S3_to_ChatCryoJane201710_slide17-S3_region_bboxes.npy\"\n"
     ]
    },
    {
     "name": "stderr",
     "output_type": "stream",
     "text": [
      "ntb 54, ntb 55\n"
     ]
    },
    {
     "name": "stdout",
     "output_type": "stream",
     "text": [
      "rm -rf \"/media/yuncong/BstemAtlasData/CSHL_data_processed/ChatCryoJane201710/ChatCryoJane201710_prep2_thumbnail_mask/ChatCryoJane201710_slide18-S3_prep2_thumbnail_mask.png\" && mkdir -p \"/media/yuncong/BstemAtlasData/CSHL_data_processed/ChatCryoJane201710/ChatCryoJane201710_prep2_thumbnail_mask\"\n",
      "aws s3 cp \"s3://mousebrainatlas-data/CSHL_data_processed/ChatCryoJane201710/ChatCryoJane201710_prep2_thumbnail_mask/ChatCryoJane201710_slide18-S3_prep2_thumbnail_mask.png\" \"/media/yuncong/BstemAtlasData/CSHL_data_processed/ChatCryoJane201710/ChatCryoJane201710_prep2_thumbnail_mask/ChatCryoJane201710_slide18-S3_prep2_thumbnail_mask.png\"\n"
     ]
    },
    {
     "name": "stderr",
     "output_type": "stream",
     "text": [
      "Load NTB1: 0.00 seconds.\n",
      "Load NTB2: 0.00 seconds.\n"
     ]
    },
    {
     "name": "stdout",
     "output_type": "stream",
     "text": [
      "Region 0: x=5681, y=488, w=2000, h=2000\n",
      "convert /media/yuncong/BstemAtlasData/CSHL_data_processed/ChatCryoJane201710/ChatCryoJane201710_prep2_lossless_Ntb/ChatCryoJane201710_slide18-S3_prep2_lossless_Ntb.tif -crop 2000x2000+5681+488 /tmp/tmp.tif\n",
      "convert /media/yuncong/BstemAtlasData/CSHL_data_processed/ChatCryoJane201710/ChatCryoJane201710_prep2_lossless_Ntb/ChatCryoJane201710_slide19-S1_prep2_lossless_Ntb.tif -crop 2000x2000+5681+488 /tmp/tmp.tif\n",
      "Region 1: x=1492, y=13142, w=2000, h=2000\n",
      "convert /media/yuncong/BstemAtlasData/CSHL_data_processed/ChatCryoJane201710/ChatCryoJane201710_prep2_lossless_Ntb/ChatCryoJane201710_slide18-S3_prep2_lossless_Ntb.tif -crop 2000x2000+1492+13142 /tmp/tmp.tif\n",
      "convert /media/yuncong/BstemAtlasData/CSHL_data_processed/ChatCryoJane201710/ChatCryoJane201710_prep2_lossless_Ntb/ChatCryoJane201710_slide19-S1_prep2_lossless_Ntb.tif -crop 2000x2000+1492+13142 /tmp/tmp.tif\n",
      "Region 2: x=16773, y=3581, w=2000, h=2000\n",
      "convert /media/yuncong/BstemAtlasData/CSHL_data_processed/ChatCryoJane201710/ChatCryoJane201710_prep2_lossless_Ntb/ChatCryoJane201710_slide18-S3_prep2_lossless_Ntb.tif -crop 2000x2000+16773+3581 /tmp/tmp.tif\n",
      "convert /media/yuncong/BstemAtlasData/CSHL_data_processed/ChatCryoJane201710/ChatCryoJane201710_prep2_lossless_Ntb/ChatCryoJane201710_slide19-S1_prep2_lossless_Ntb.tif -crop 2000x2000+16773+3581 /tmp/tmp.tif\n",
      "Region 3: x=7858, y=7819, w=2000, h=2000\n",
      "convert /media/yuncong/BstemAtlasData/CSHL_data_processed/ChatCryoJane201710/ChatCryoJane201710_prep2_lossless_Ntb/ChatCryoJane201710_slide18-S3_prep2_lossless_Ntb.tif -crop 2000x2000+7858+7819 /tmp/tmp.tif\n",
      "convert /media/yuncong/BstemAtlasData/CSHL_data_processed/ChatCryoJane201710/ChatCryoJane201710_prep2_lossless_Ntb/ChatCryoJane201710_slide19-S1_prep2_lossless_Ntb.tif -crop 2000x2000+7858+7819 /tmp/tmp.tif\n",
      "Region 4: x=4438, y=12482, w=2000, h=2000\n",
      "convert /media/yuncong/BstemAtlasData/CSHL_data_processed/ChatCryoJane201710/ChatCryoJane201710_prep2_lossless_Ntb/ChatCryoJane201710_slide18-S3_prep2_lossless_Ntb.tif -crop 2000x2000+4438+12482 /tmp/tmp.tif\n",
      "convert /media/yuncong/BstemAtlasData/CSHL_data_processed/ChatCryoJane201710/ChatCryoJane201710_prep2_lossless_Ntb/ChatCryoJane201710_slide19-S1_prep2_lossless_Ntb.tif -crop 2000x2000+4438+12482 /tmp/tmp.tif\n",
      "Region 5: x=8655, y=6463, w=2000, h=2000\n",
      "convert /media/yuncong/BstemAtlasData/CSHL_data_processed/ChatCryoJane201710/ChatCryoJane201710_prep2_lossless_Ntb/ChatCryoJane201710_slide18-S3_prep2_lossless_Ntb.tif -crop 2000x2000+8655+6463 /tmp/tmp.tif\n",
      "convert /media/yuncong/BstemAtlasData/CSHL_data_processed/ChatCryoJane201710/ChatCryoJane201710_prep2_lossless_Ntb/ChatCryoJane201710_slide19-S1_prep2_lossless_Ntb.tif -crop 2000x2000+8655+6463 /tmp/tmp.tif\n",
      "Region 6: x=14882, y=5030, w=2000, h=2000\n",
      "convert /media/yuncong/BstemAtlasData/CSHL_data_processed/ChatCryoJane201710/ChatCryoJane201710_prep2_lossless_Ntb/ChatCryoJane201710_slide18-S3_prep2_lossless_Ntb.tif -crop 2000x2000+14882+5030 /tmp/tmp.tif\n",
      "convert /media/yuncong/BstemAtlasData/CSHL_data_processed/ChatCryoJane201710/ChatCryoJane201710_prep2_lossless_Ntb/ChatCryoJane201710_slide19-S1_prep2_lossless_Ntb.tif -crop 2000x2000+14882+5030 /tmp/tmp.tif\n",
      "Region 7: x=8263, y=7759, w=2000, h=2000\n",
      "convert /media/yuncong/BstemAtlasData/CSHL_data_processed/ChatCryoJane201710/ChatCryoJane201710_prep2_lossless_Ntb/ChatCryoJane201710_slide18-S3_prep2_lossless_Ntb.tif -crop 2000x2000+8263+7759 /tmp/tmp.tif\n",
      "convert /media/yuncong/BstemAtlasData/CSHL_data_processed/ChatCryoJane201710/ChatCryoJane201710_prep2_lossless_Ntb/ChatCryoJane201710_slide19-S1_prep2_lossless_Ntb.tif -crop 2000x2000+8263+7759 /tmp/tmp.tif\n",
      "Region 8: x=4269, y=11157, w=2000, h=2000\n",
      "convert /media/yuncong/BstemAtlasData/CSHL_data_processed/ChatCryoJane201710/ChatCryoJane201710_prep2_lossless_Ntb/ChatCryoJane201710_slide18-S3_prep2_lossless_Ntb.tif -crop 2000x2000+4269+11157 /tmp/tmp.tif\n",
      "convert /media/yuncong/BstemAtlasData/CSHL_data_processed/ChatCryoJane201710/ChatCryoJane201710_prep2_lossless_Ntb/ChatCryoJane201710_slide19-S1_prep2_lossless_Ntb.tif -crop 2000x2000+4269+11157 /tmp/tmp.tif\n",
      "Region 9: x=3843, y=10236, w=2000, h=2000\n",
      "convert /media/yuncong/BstemAtlasData/CSHL_data_processed/ChatCryoJane201710/ChatCryoJane201710_prep2_lossless_Ntb/ChatCryoJane201710_slide18-S3_prep2_lossless_Ntb.tif -crop 2000x2000+3843+10236 /tmp/tmp.tif\n",
      "convert /media/yuncong/BstemAtlasData/CSHL_data_processed/ChatCryoJane201710/ChatCryoJane201710_prep2_lossless_Ntb/ChatCryoJane201710_slide19-S1_prep2_lossless_Ntb.tif -crop 2000x2000+3843+10236 /tmp/tmp.tif\n",
      "aws s3 cp \"/media/yuncong/BstemAtlasData/CSHL_data_processed/ChatCryoJane201710/ChatCryoJane201710_intensity_mapping/ChatCryoJane201710_slide19-S1_to_ChatCryoJane201710_slide18-S3_intensity_mapping_all_regions.npy\" \"s3://mousebrainatlas-data/CSHL_data_processed/ChatCryoJane201710/ChatCryoJane201710_intensity_mapping/ChatCryoJane201710_slide19-S1_to_ChatCryoJane201710_slide18-S3_intensity_mapping_all_regions.npy\"\n",
      "aws s3 cp \"/media/yuncong/BstemAtlasData/CSHL_data_processed/ChatCryoJane201710/ChatCryoJane201710_intensity_mapping/ChatCryoJane201710_slide19-S1_to_ChatCryoJane201710_slide18-S3_region_bboxes.npy\" \"s3://mousebrainatlas-data/CSHL_data_processed/ChatCryoJane201710/ChatCryoJane201710_intensity_mapping/ChatCryoJane201710_slide19-S1_to_ChatCryoJane201710_slide18-S3_region_bboxes.npy\"\n"
     ]
    },
    {
     "name": "stderr",
     "output_type": "stream",
     "text": [
      "ntb 55, ntb 56\n"
     ]
    },
    {
     "name": "stdout",
     "output_type": "stream",
     "text": [
      "rm -rf \"/media/yuncong/BstemAtlasData/CSHL_data_processed/ChatCryoJane201710/ChatCryoJane201710_prep2_thumbnail_mask/ChatCryoJane201710_slide19-S1_prep2_thumbnail_mask.png\" && mkdir -p \"/media/yuncong/BstemAtlasData/CSHL_data_processed/ChatCryoJane201710/ChatCryoJane201710_prep2_thumbnail_mask\"\n",
      "aws s3 cp \"s3://mousebrainatlas-data/CSHL_data_processed/ChatCryoJane201710/ChatCryoJane201710_prep2_thumbnail_mask/ChatCryoJane201710_slide19-S1_prep2_thumbnail_mask.png\" \"/media/yuncong/BstemAtlasData/CSHL_data_processed/ChatCryoJane201710/ChatCryoJane201710_prep2_thumbnail_mask/ChatCryoJane201710_slide19-S1_prep2_thumbnail_mask.png\"\n"
     ]
    },
    {
     "name": "stderr",
     "output_type": "stream",
     "text": [
      "Load NTB1: 0.00 seconds.\n",
      "Load NTB2: 0.00 seconds.\n"
     ]
    },
    {
     "name": "stdout",
     "output_type": "stream",
     "text": [
      "Region 0: x=3193, y=3377, w=2000, h=2000\n",
      "convert /media/yuncong/BstemAtlasData/CSHL_data_processed/ChatCryoJane201710/ChatCryoJane201710_prep2_lossless_Ntb/ChatCryoJane201710_slide19-S1_prep2_lossless_Ntb.tif -crop 2000x2000+3193+3377 /tmp/tmp.tif\n",
      "convert /media/yuncong/BstemAtlasData/CSHL_data_processed/ChatCryoJane201710/ChatCryoJane201710_prep2_lossless_Ntb/ChatCryoJane201710_slide20-S1_prep2_lossless_Ntb.tif -crop 2000x2000+3193+3377 /tmp/tmp.tif\n",
      "Region 1: x=11497, y=3236, w=2000, h=2000\n",
      "convert /media/yuncong/BstemAtlasData/CSHL_data_processed/ChatCryoJane201710/ChatCryoJane201710_prep2_lossless_Ntb/ChatCryoJane201710_slide19-S1_prep2_lossless_Ntb.tif -crop 2000x2000+11497+3236 /tmp/tmp.tif\n",
      "convert /media/yuncong/BstemAtlasData/CSHL_data_processed/ChatCryoJane201710/ChatCryoJane201710_prep2_lossless_Ntb/ChatCryoJane201710_slide20-S1_prep2_lossless_Ntb.tif -crop 2000x2000+11497+3236 /tmp/tmp.tif\n",
      "Region 2: x=5297, y=3778, w=2000, h=2000\n",
      "convert /media/yuncong/BstemAtlasData/CSHL_data_processed/ChatCryoJane201710/ChatCryoJane201710_prep2_lossless_Ntb/ChatCryoJane201710_slide19-S1_prep2_lossless_Ntb.tif -crop 2000x2000+5297+3778 /tmp/tmp.tif\n",
      "convert /media/yuncong/BstemAtlasData/CSHL_data_processed/ChatCryoJane201710/ChatCryoJane201710_prep2_lossless_Ntb/ChatCryoJane201710_slide20-S1_prep2_lossless_Ntb.tif -crop 2000x2000+5297+3778 /tmp/tmp.tif\n",
      "Region 3: x=4191, y=11186, w=2000, h=2000\n",
      "convert /media/yuncong/BstemAtlasData/CSHL_data_processed/ChatCryoJane201710/ChatCryoJane201710_prep2_lossless_Ntb/ChatCryoJane201710_slide19-S1_prep2_lossless_Ntb.tif -crop 2000x2000+4191+11186 /tmp/tmp.tif\n",
      "convert /media/yuncong/BstemAtlasData/CSHL_data_processed/ChatCryoJane201710/ChatCryoJane201710_prep2_lossless_Ntb/ChatCryoJane201710_slide20-S1_prep2_lossless_Ntb.tif -crop 2000x2000+4191+11186 /tmp/tmp.tif\n",
      "Region 4: x=16907, y=4335, w=2000, h=2000\n",
      "convert /media/yuncong/BstemAtlasData/CSHL_data_processed/ChatCryoJane201710/ChatCryoJane201710_prep2_lossless_Ntb/ChatCryoJane201710_slide19-S1_prep2_lossless_Ntb.tif -crop 2000x2000+16907+4335 /tmp/tmp.tif\n",
      "convert /media/yuncong/BstemAtlasData/CSHL_data_processed/ChatCryoJane201710/ChatCryoJane201710_prep2_lossless_Ntb/ChatCryoJane201710_slide20-S1_prep2_lossless_Ntb.tif -crop 2000x2000+16907+4335 /tmp/tmp.tif\n",
      "Region 5: x=11778, y=3461, w=2000, h=2000\n",
      "convert /media/yuncong/BstemAtlasData/CSHL_data_processed/ChatCryoJane201710/ChatCryoJane201710_prep2_lossless_Ntb/ChatCryoJane201710_slide19-S1_prep2_lossless_Ntb.tif -crop 2000x2000+11778+3461 /tmp/tmp.tif\n",
      "convert /media/yuncong/BstemAtlasData/CSHL_data_processed/ChatCryoJane201710/ChatCryoJane201710_prep2_lossless_Ntb/ChatCryoJane201710_slide20-S1_prep2_lossless_Ntb.tif -crop 2000x2000+11778+3461 /tmp/tmp.tif\n",
      "Region 6: x=1022, y=3323, w=2000, h=2000\n",
      "convert /media/yuncong/BstemAtlasData/CSHL_data_processed/ChatCryoJane201710/ChatCryoJane201710_prep2_lossless_Ntb/ChatCryoJane201710_slide19-S1_prep2_lossless_Ntb.tif -crop 2000x2000+1022+3323 /tmp/tmp.tif\n",
      "convert /media/yuncong/BstemAtlasData/CSHL_data_processed/ChatCryoJane201710/ChatCryoJane201710_prep2_lossless_Ntb/ChatCryoJane201710_slide20-S1_prep2_lossless_Ntb.tif -crop 2000x2000+1022+3323 /tmp/tmp.tif\n",
      "Region 7: x=14773, y=10778, w=2000, h=2000\n",
      "convert /media/yuncong/BstemAtlasData/CSHL_data_processed/ChatCryoJane201710/ChatCryoJane201710_prep2_lossless_Ntb/ChatCryoJane201710_slide19-S1_prep2_lossless_Ntb.tif -crop 2000x2000+14773+10778 /tmp/tmp.tif\n",
      "convert /media/yuncong/BstemAtlasData/CSHL_data_processed/ChatCryoJane201710/ChatCryoJane201710_prep2_lossless_Ntb/ChatCryoJane201710_slide20-S1_prep2_lossless_Ntb.tif -crop 2000x2000+14773+10778 /tmp/tmp.tif\n",
      "Region 8: x=6293, y=8802, w=2000, h=2000\n",
      "convert /media/yuncong/BstemAtlasData/CSHL_data_processed/ChatCryoJane201710/ChatCryoJane201710_prep2_lossless_Ntb/ChatCryoJane201710_slide19-S1_prep2_lossless_Ntb.tif -crop 2000x2000+6293+8802 /tmp/tmp.tif\n",
      "convert /media/yuncong/BstemAtlasData/CSHL_data_processed/ChatCryoJane201710/ChatCryoJane201710_prep2_lossless_Ntb/ChatCryoJane201710_slide20-S1_prep2_lossless_Ntb.tif -crop 2000x2000+6293+8802 /tmp/tmp.tif\n",
      "Region 9: x=15018, y=5933, w=2000, h=2000\n",
      "convert /media/yuncong/BstemAtlasData/CSHL_data_processed/ChatCryoJane201710/ChatCryoJane201710_prep2_lossless_Ntb/ChatCryoJane201710_slide19-S1_prep2_lossless_Ntb.tif -crop 2000x2000+15018+5933 /tmp/tmp.tif\n",
      "convert /media/yuncong/BstemAtlasData/CSHL_data_processed/ChatCryoJane201710/ChatCryoJane201710_prep2_lossless_Ntb/ChatCryoJane201710_slide20-S1_prep2_lossless_Ntb.tif -crop 2000x2000+15018+5933 /tmp/tmp.tif\n",
      "aws s3 cp \"/media/yuncong/BstemAtlasData/CSHL_data_processed/ChatCryoJane201710/ChatCryoJane201710_intensity_mapping/ChatCryoJane201710_slide20-S1_to_ChatCryoJane201710_slide19-S1_intensity_mapping_all_regions.npy\" \"s3://mousebrainatlas-data/CSHL_data_processed/ChatCryoJane201710/ChatCryoJane201710_intensity_mapping/ChatCryoJane201710_slide20-S1_to_ChatCryoJane201710_slide19-S1_intensity_mapping_all_regions.npy\"\n",
      "aws s3 cp \"/media/yuncong/BstemAtlasData/CSHL_data_processed/ChatCryoJane201710/ChatCryoJane201710_intensity_mapping/ChatCryoJane201710_slide20-S1_to_ChatCryoJane201710_slide19-S1_region_bboxes.npy\" \"s3://mousebrainatlas-data/CSHL_data_processed/ChatCryoJane201710/ChatCryoJane201710_intensity_mapping/ChatCryoJane201710_slide20-S1_to_ChatCryoJane201710_slide19-S1_region_bboxes.npy\"\n"
     ]
    },
    {
     "name": "stderr",
     "output_type": "stream",
     "text": [
      "ntb 56, ntb 57\n"
     ]
    },
    {
     "name": "stdout",
     "output_type": "stream",
     "text": [
      "rm -rf \"/media/yuncong/BstemAtlasData/CSHL_data_processed/ChatCryoJane201710/ChatCryoJane201710_prep2_thumbnail_mask/ChatCryoJane201710_slide20-S1_prep2_thumbnail_mask.png\" && mkdir -p \"/media/yuncong/BstemAtlasData/CSHL_data_processed/ChatCryoJane201710/ChatCryoJane201710_prep2_thumbnail_mask\"\n",
      "aws s3 cp \"s3://mousebrainatlas-data/CSHL_data_processed/ChatCryoJane201710/ChatCryoJane201710_prep2_thumbnail_mask/ChatCryoJane201710_slide20-S1_prep2_thumbnail_mask.png\" \"/media/yuncong/BstemAtlasData/CSHL_data_processed/ChatCryoJane201710/ChatCryoJane201710_prep2_thumbnail_mask/ChatCryoJane201710_slide20-S1_prep2_thumbnail_mask.png\"\n"
     ]
    },
    {
     "name": "stderr",
     "output_type": "stream",
     "text": [
      "Load NTB1: 0.00 seconds.\n",
      "Load NTB2: 0.00 seconds.\n"
     ]
    },
    {
     "name": "stdout",
     "output_type": "stream",
     "text": [
      "Region 0: x=14933, y=6048, w=2000, h=2000\n",
      "convert /media/yuncong/BstemAtlasData/CSHL_data_processed/ChatCryoJane201710/ChatCryoJane201710_prep2_lossless_Ntb/ChatCryoJane201710_slide20-S1_prep2_lossless_Ntb.tif -crop 2000x2000+14933+6048 /tmp/tmp.tif\n",
      "convert /media/yuncong/BstemAtlasData/CSHL_data_processed/ChatCryoJane201710/ChatCryoJane201710_prep2_lossless_Ntb/ChatCryoJane201710_slide19-S2_prep2_lossless_Ntb.tif -crop 2000x2000+14933+6048 /tmp/tmp.tif\n",
      "Region 1: x=15932, y=4586, w=2000, h=2000\n",
      "convert /media/yuncong/BstemAtlasData/CSHL_data_processed/ChatCryoJane201710/ChatCryoJane201710_prep2_lossless_Ntb/ChatCryoJane201710_slide20-S1_prep2_lossless_Ntb.tif -crop 2000x2000+15932+4586 /tmp/tmp.tif\n",
      "convert /media/yuncong/BstemAtlasData/CSHL_data_processed/ChatCryoJane201710/ChatCryoJane201710_prep2_lossless_Ntb/ChatCryoJane201710_slide19-S2_prep2_lossless_Ntb.tif -crop 2000x2000+15932+4586 /tmp/tmp.tif\n",
      "Region 2: x=15659, y=10702, w=2000, h=2000\n",
      "convert /media/yuncong/BstemAtlasData/CSHL_data_processed/ChatCryoJane201710/ChatCryoJane201710_prep2_lossless_Ntb/ChatCryoJane201710_slide20-S1_prep2_lossless_Ntb.tif -crop 2000x2000+15659+10702 /tmp/tmp.tif\n",
      "convert /media/yuncong/BstemAtlasData/CSHL_data_processed/ChatCryoJane201710/ChatCryoJane201710_prep2_lossless_Ntb/ChatCryoJane201710_slide19-S2_prep2_lossless_Ntb.tif -crop 2000x2000+15659+10702 /tmp/tmp.tif\n",
      "Region 3: x=15544, y=5933, w=2000, h=2000\n",
      "convert /media/yuncong/BstemAtlasData/CSHL_data_processed/ChatCryoJane201710/ChatCryoJane201710_prep2_lossless_Ntb/ChatCryoJane201710_slide20-S1_prep2_lossless_Ntb.tif -crop 2000x2000+15544+5933 /tmp/tmp.tif\n",
      "convert /media/yuncong/BstemAtlasData/CSHL_data_processed/ChatCryoJane201710/ChatCryoJane201710_prep2_lossless_Ntb/ChatCryoJane201710_slide19-S2_prep2_lossless_Ntb.tif -crop 2000x2000+15544+5933 /tmp/tmp.tif\n",
      "Region 4: x=3962, y=3629, w=2000, h=2000\n",
      "convert /media/yuncong/BstemAtlasData/CSHL_data_processed/ChatCryoJane201710/ChatCryoJane201710_prep2_lossless_Ntb/ChatCryoJane201710_slide20-S1_prep2_lossless_Ntb.tif -crop 2000x2000+3962+3629 /tmp/tmp.tif\n",
      "convert /media/yuncong/BstemAtlasData/CSHL_data_processed/ChatCryoJane201710/ChatCryoJane201710_prep2_lossless_Ntb/ChatCryoJane201710_slide19-S2_prep2_lossless_Ntb.tif -crop 2000x2000+3962+3629 /tmp/tmp.tif\n",
      "Region 5: x=2363, y=6780, w=2000, h=2000\n",
      "convert /media/yuncong/BstemAtlasData/CSHL_data_processed/ChatCryoJane201710/ChatCryoJane201710_prep2_lossless_Ntb/ChatCryoJane201710_slide20-S1_prep2_lossless_Ntb.tif -crop 2000x2000+2363+6780 /tmp/tmp.tif\n",
      "convert /media/yuncong/BstemAtlasData/CSHL_data_processed/ChatCryoJane201710/ChatCryoJane201710_prep2_lossless_Ntb/ChatCryoJane201710_slide19-S2_prep2_lossless_Ntb.tif -crop 2000x2000+2363+6780 /tmp/tmp.tif\n",
      "Region 6: x=8451, y=9786, w=2000, h=2000\n",
      "convert /media/yuncong/BstemAtlasData/CSHL_data_processed/ChatCryoJane201710/ChatCryoJane201710_prep2_lossless_Ntb/ChatCryoJane201710_slide20-S1_prep2_lossless_Ntb.tif -crop 2000x2000+8451+9786 /tmp/tmp.tif\n",
      "convert /media/yuncong/BstemAtlasData/CSHL_data_processed/ChatCryoJane201710/ChatCryoJane201710_prep2_lossless_Ntb/ChatCryoJane201710_slide19-S2_prep2_lossless_Ntb.tif -crop 2000x2000+8451+9786 /tmp/tmp.tif\n",
      "Region 7: x=6825, y=4903, w=2000, h=2000\n",
      "convert /media/yuncong/BstemAtlasData/CSHL_data_processed/ChatCryoJane201710/ChatCryoJane201710_prep2_lossless_Ntb/ChatCryoJane201710_slide20-S1_prep2_lossless_Ntb.tif -crop 2000x2000+6825+4903 /tmp/tmp.tif\n",
      "convert /media/yuncong/BstemAtlasData/CSHL_data_processed/ChatCryoJane201710/ChatCryoJane201710_prep2_lossless_Ntb/ChatCryoJane201710_slide19-S2_prep2_lossless_Ntb.tif -crop 2000x2000+6825+4903 /tmp/tmp.tif\n",
      "Region 8: x=15317, y=4977, w=2000, h=2000\n",
      "convert /media/yuncong/BstemAtlasData/CSHL_data_processed/ChatCryoJane201710/ChatCryoJane201710_prep2_lossless_Ntb/ChatCryoJane201710_slide20-S1_prep2_lossless_Ntb.tif -crop 2000x2000+15317+4977 /tmp/tmp.tif\n",
      "convert /media/yuncong/BstemAtlasData/CSHL_data_processed/ChatCryoJane201710/ChatCryoJane201710_prep2_lossless_Ntb/ChatCryoJane201710_slide19-S2_prep2_lossless_Ntb.tif -crop 2000x2000+15317+4977 /tmp/tmp.tif\n",
      "Region 9: x=13738, y=3851, w=2000, h=2000\n",
      "convert /media/yuncong/BstemAtlasData/CSHL_data_processed/ChatCryoJane201710/ChatCryoJane201710_prep2_lossless_Ntb/ChatCryoJane201710_slide20-S1_prep2_lossless_Ntb.tif -crop 2000x2000+13738+3851 /tmp/tmp.tif\n",
      "convert /media/yuncong/BstemAtlasData/CSHL_data_processed/ChatCryoJane201710/ChatCryoJane201710_prep2_lossless_Ntb/ChatCryoJane201710_slide19-S2_prep2_lossless_Ntb.tif -crop 2000x2000+13738+3851 /tmp/tmp.tif\n",
      "aws s3 cp \"/media/yuncong/BstemAtlasData/CSHL_data_processed/ChatCryoJane201710/ChatCryoJane201710_intensity_mapping/ChatCryoJane201710_slide19-S2_to_ChatCryoJane201710_slide20-S1_intensity_mapping_all_regions.npy\" \"s3://mousebrainatlas-data/CSHL_data_processed/ChatCryoJane201710/ChatCryoJane201710_intensity_mapping/ChatCryoJane201710_slide19-S2_to_ChatCryoJane201710_slide20-S1_intensity_mapping_all_regions.npy\"\n",
      "aws s3 cp \"/media/yuncong/BstemAtlasData/CSHL_data_processed/ChatCryoJane201710/ChatCryoJane201710_intensity_mapping/ChatCryoJane201710_slide19-S2_to_ChatCryoJane201710_slide20-S1_region_bboxes.npy\" \"s3://mousebrainatlas-data/CSHL_data_processed/ChatCryoJane201710/ChatCryoJane201710_intensity_mapping/ChatCryoJane201710_slide19-S2_to_ChatCryoJane201710_slide20-S1_region_bboxes.npy\"\n"
     ]
    },
    {
     "name": "stderr",
     "output_type": "stream",
     "text": [
      "ntb 57, ntb 58\n"
     ]
    },
    {
     "name": "stdout",
     "output_type": "stream",
     "text": [
      "rm -rf \"/media/yuncong/BstemAtlasData/CSHL_data_processed/ChatCryoJane201710/ChatCryoJane201710_prep2_thumbnail_mask/ChatCryoJane201710_slide19-S2_prep2_thumbnail_mask.png\" && mkdir -p \"/media/yuncong/BstemAtlasData/CSHL_data_processed/ChatCryoJane201710/ChatCryoJane201710_prep2_thumbnail_mask\"\n",
      "aws s3 cp \"s3://mousebrainatlas-data/CSHL_data_processed/ChatCryoJane201710/ChatCryoJane201710_prep2_thumbnail_mask/ChatCryoJane201710_slide19-S2_prep2_thumbnail_mask.png\" \"/media/yuncong/BstemAtlasData/CSHL_data_processed/ChatCryoJane201710/ChatCryoJane201710_prep2_thumbnail_mask/ChatCryoJane201710_slide19-S2_prep2_thumbnail_mask.png\"\n"
     ]
    },
    {
     "name": "stderr",
     "output_type": "stream",
     "text": [
      "Load NTB1: 0.00 seconds.\n",
      "Load NTB2: 0.00 seconds.\n"
     ]
    },
    {
     "name": "stdout",
     "output_type": "stream",
     "text": [
      "Region 0: x=8349, y=3677, w=2000, h=2000\n",
      "convert /media/yuncong/BstemAtlasData/CSHL_data_processed/ChatCryoJane201710/ChatCryoJane201710_prep2_lossless_Ntb/ChatCryoJane201710_slide19-S2_prep2_lossless_Ntb.tif -crop 2000x2000+8349+3677 /tmp/tmp.tif\n",
      "convert /media/yuncong/BstemAtlasData/CSHL_data_processed/ChatCryoJane201710/ChatCryoJane201710_prep2_lossless_Ntb/ChatCryoJane201710_slide20-S2_prep2_lossless_Ntb.tif -crop 2000x2000+8349+3677 /tmp/tmp.tif\n",
      "Region 1: x=9049, y=10304, w=2000, h=2000\n",
      "convert /media/yuncong/BstemAtlasData/CSHL_data_processed/ChatCryoJane201710/ChatCryoJane201710_prep2_lossless_Ntb/ChatCryoJane201710_slide19-S2_prep2_lossless_Ntb.tif -crop 2000x2000+9049+10304 /tmp/tmp.tif\n",
      "convert /media/yuncong/BstemAtlasData/CSHL_data_processed/ChatCryoJane201710/ChatCryoJane201710_prep2_lossless_Ntb/ChatCryoJane201710_slide20-S2_prep2_lossless_Ntb.tif -crop 2000x2000+9049+10304 /tmp/tmp.tif\n",
      "Region 2: x=2197, y=8469, w=2000, h=2000\n",
      "convert /media/yuncong/BstemAtlasData/CSHL_data_processed/ChatCryoJane201710/ChatCryoJane201710_prep2_lossless_Ntb/ChatCryoJane201710_slide19-S2_prep2_lossless_Ntb.tif -crop 2000x2000+2197+8469 /tmp/tmp.tif\n",
      "convert /media/yuncong/BstemAtlasData/CSHL_data_processed/ChatCryoJane201710/ChatCryoJane201710_prep2_lossless_Ntb/ChatCryoJane201710_slide20-S2_prep2_lossless_Ntb.tif -crop 2000x2000+2197+8469 /tmp/tmp.tif\n",
      "Region 3: x=1711, y=4640, w=2000, h=2000\n",
      "convert /media/yuncong/BstemAtlasData/CSHL_data_processed/ChatCryoJane201710/ChatCryoJane201710_prep2_lossless_Ntb/ChatCryoJane201710_slide19-S2_prep2_lossless_Ntb.tif -crop 2000x2000+1711+4640 /tmp/tmp.tif\n",
      "convert /media/yuncong/BstemAtlasData/CSHL_data_processed/ChatCryoJane201710/ChatCryoJane201710_prep2_lossless_Ntb/ChatCryoJane201710_slide20-S2_prep2_lossless_Ntb.tif -crop 2000x2000+1711+4640 /tmp/tmp.tif\n",
      "Region 4: x=11496, y=6564, w=2000, h=2000\n",
      "convert /media/yuncong/BstemAtlasData/CSHL_data_processed/ChatCryoJane201710/ChatCryoJane201710_prep2_lossless_Ntb/ChatCryoJane201710_slide19-S2_prep2_lossless_Ntb.tif -crop 2000x2000+11496+6564 /tmp/tmp.tif\n",
      "convert /media/yuncong/BstemAtlasData/CSHL_data_processed/ChatCryoJane201710/ChatCryoJane201710_prep2_lossless_Ntb/ChatCryoJane201710_slide20-S2_prep2_lossless_Ntb.tif -crop 2000x2000+11496+6564 /tmp/tmp.tif\n",
      "Region 5: x=2770, y=13217, w=2000, h=2000\n",
      "convert /media/yuncong/BstemAtlasData/CSHL_data_processed/ChatCryoJane201710/ChatCryoJane201710_prep2_lossless_Ntb/ChatCryoJane201710_slide19-S2_prep2_lossless_Ntb.tif -crop 2000x2000+2770+13217 /tmp/tmp.tif\n",
      "convert /media/yuncong/BstemAtlasData/CSHL_data_processed/ChatCryoJane201710/ChatCryoJane201710_prep2_lossless_Ntb/ChatCryoJane201710_slide20-S2_prep2_lossless_Ntb.tif -crop 2000x2000+2770+13217 /tmp/tmp.tif\n",
      "Region 6: x=3122, y=11335, w=2000, h=2000\n",
      "convert /media/yuncong/BstemAtlasData/CSHL_data_processed/ChatCryoJane201710/ChatCryoJane201710_prep2_lossless_Ntb/ChatCryoJane201710_slide19-S2_prep2_lossless_Ntb.tif -crop 2000x2000+3122+11335 /tmp/tmp.tif\n",
      "convert /media/yuncong/BstemAtlasData/CSHL_data_processed/ChatCryoJane201710/ChatCryoJane201710_prep2_lossless_Ntb/ChatCryoJane201710_slide20-S2_prep2_lossless_Ntb.tif -crop 2000x2000+3122+11335 /tmp/tmp.tif\n",
      "Region 7: x=14469, y=11011, w=2000, h=2000\n",
      "convert /media/yuncong/BstemAtlasData/CSHL_data_processed/ChatCryoJane201710/ChatCryoJane201710_prep2_lossless_Ntb/ChatCryoJane201710_slide19-S2_prep2_lossless_Ntb.tif -crop 2000x2000+14469+11011 /tmp/tmp.tif\n",
      "convert /media/yuncong/BstemAtlasData/CSHL_data_processed/ChatCryoJane201710/ChatCryoJane201710_prep2_lossless_Ntb/ChatCryoJane201710_slide20-S2_prep2_lossless_Ntb.tif -crop 2000x2000+14469+11011 /tmp/tmp.tif\n",
      "Region 8: x=3763, y=9520, w=2000, h=2000\n",
      "convert /media/yuncong/BstemAtlasData/CSHL_data_processed/ChatCryoJane201710/ChatCryoJane201710_prep2_lossless_Ntb/ChatCryoJane201710_slide19-S2_prep2_lossless_Ntb.tif -crop 2000x2000+3763+9520 /tmp/tmp.tif\n",
      "convert /media/yuncong/BstemAtlasData/CSHL_data_processed/ChatCryoJane201710/ChatCryoJane201710_prep2_lossless_Ntb/ChatCryoJane201710_slide20-S2_prep2_lossless_Ntb.tif -crop 2000x2000+3763+9520 /tmp/tmp.tif\n",
      "Region 9: x=5926, y=4410, w=2000, h=2000\n",
      "convert /media/yuncong/BstemAtlasData/CSHL_data_processed/ChatCryoJane201710/ChatCryoJane201710_prep2_lossless_Ntb/ChatCryoJane201710_slide19-S2_prep2_lossless_Ntb.tif -crop 2000x2000+5926+4410 /tmp/tmp.tif\n",
      "convert /media/yuncong/BstemAtlasData/CSHL_data_processed/ChatCryoJane201710/ChatCryoJane201710_prep2_lossless_Ntb/ChatCryoJane201710_slide20-S2_prep2_lossless_Ntb.tif -crop 2000x2000+5926+4410 /tmp/tmp.tif\n",
      "aws s3 cp \"/media/yuncong/BstemAtlasData/CSHL_data_processed/ChatCryoJane201710/ChatCryoJane201710_intensity_mapping/ChatCryoJane201710_slide20-S2_to_ChatCryoJane201710_slide19-S2_intensity_mapping_all_regions.npy\" \"s3://mousebrainatlas-data/CSHL_data_processed/ChatCryoJane201710/ChatCryoJane201710_intensity_mapping/ChatCryoJane201710_slide20-S2_to_ChatCryoJane201710_slide19-S2_intensity_mapping_all_regions.npy\"\n",
      "aws s3 cp \"/media/yuncong/BstemAtlasData/CSHL_data_processed/ChatCryoJane201710/ChatCryoJane201710_intensity_mapping/ChatCryoJane201710_slide20-S2_to_ChatCryoJane201710_slide19-S2_region_bboxes.npy\" \"s3://mousebrainatlas-data/CSHL_data_processed/ChatCryoJane201710/ChatCryoJane201710_intensity_mapping/ChatCryoJane201710_slide20-S2_to_ChatCryoJane201710_slide19-S2_region_bboxes.npy\"\n"
     ]
    },
    {
     "name": "stderr",
     "output_type": "stream",
     "text": [
      "ntb 58, ntb 59\n"
     ]
    },
    {
     "name": "stdout",
     "output_type": "stream",
     "text": [
      "rm -rf \"/media/yuncong/BstemAtlasData/CSHL_data_processed/ChatCryoJane201710/ChatCryoJane201710_prep2_thumbnail_mask/ChatCryoJane201710_slide20-S2_prep2_thumbnail_mask.png\" && mkdir -p \"/media/yuncong/BstemAtlasData/CSHL_data_processed/ChatCryoJane201710/ChatCryoJane201710_prep2_thumbnail_mask\"\n",
      "aws s3 cp \"s3://mousebrainatlas-data/CSHL_data_processed/ChatCryoJane201710/ChatCryoJane201710_prep2_thumbnail_mask/ChatCryoJane201710_slide20-S2_prep2_thumbnail_mask.png\" \"/media/yuncong/BstemAtlasData/CSHL_data_processed/ChatCryoJane201710/ChatCryoJane201710_prep2_thumbnail_mask/ChatCryoJane201710_slide20-S2_prep2_thumbnail_mask.png\"\n"
     ]
    },
    {
     "name": "stderr",
     "output_type": "stream",
     "text": [
      "Load NTB1: 0.00 seconds.\n",
      "Load NTB2: 0.00 seconds.\n"
     ]
    },
    {
     "name": "stdout",
     "output_type": "stream",
     "text": [
      "Region 0: x=11001, y=5842, w=2000, h=2000\n",
      "convert /media/yuncong/BstemAtlasData/CSHL_data_processed/ChatCryoJane201710/ChatCryoJane201710_prep2_lossless_Ntb/ChatCryoJane201710_slide20-S2_prep2_lossless_Ntb.tif -crop 2000x2000+11001+5842 /tmp/tmp.tif\n",
      "convert /media/yuncong/BstemAtlasData/CSHL_data_processed/ChatCryoJane201710/ChatCryoJane201710_prep2_lossless_Ntb/ChatCryoJane201710_slide19-S3_prep2_lossless_Ntb.tif -crop 2000x2000+11001+5842 /tmp/tmp.tif\n",
      "Region 1: x=6743, y=10014, w=2000, h=2000\n",
      "convert /media/yuncong/BstemAtlasData/CSHL_data_processed/ChatCryoJane201710/ChatCryoJane201710_prep2_lossless_Ntb/ChatCryoJane201710_slide20-S2_prep2_lossless_Ntb.tif -crop 2000x2000+6743+10014 /tmp/tmp.tif\n",
      "convert /media/yuncong/BstemAtlasData/CSHL_data_processed/ChatCryoJane201710/ChatCryoJane201710_prep2_lossless_Ntb/ChatCryoJane201710_slide19-S3_prep2_lossless_Ntb.tif -crop 2000x2000+6743+10014 /tmp/tmp.tif\n",
      "Region 2: x=9193, y=7167, w=2000, h=2000\n",
      "convert /media/yuncong/BstemAtlasData/CSHL_data_processed/ChatCryoJane201710/ChatCryoJane201710_prep2_lossless_Ntb/ChatCryoJane201710_slide20-S2_prep2_lossless_Ntb.tif -crop 2000x2000+9193+7167 /tmp/tmp.tif\n",
      "convert /media/yuncong/BstemAtlasData/CSHL_data_processed/ChatCryoJane201710/ChatCryoJane201710_prep2_lossless_Ntb/ChatCryoJane201710_slide19-S3_prep2_lossless_Ntb.tif -crop 2000x2000+9193+7167 /tmp/tmp.tif\n",
      "Region 3: x=1940, y=2914, w=2000, h=2000\n",
      "convert /media/yuncong/BstemAtlasData/CSHL_data_processed/ChatCryoJane201710/ChatCryoJane201710_prep2_lossless_Ntb/ChatCryoJane201710_slide20-S2_prep2_lossless_Ntb.tif -crop 2000x2000+1940+2914 /tmp/tmp.tif\n",
      "convert /media/yuncong/BstemAtlasData/CSHL_data_processed/ChatCryoJane201710/ChatCryoJane201710_prep2_lossless_Ntb/ChatCryoJane201710_slide19-S3_prep2_lossless_Ntb.tif -crop 2000x2000+1940+2914 /tmp/tmp.tif\n",
      "Region 4: x=1903, y=1217, w=2000, h=2000\n",
      "convert /media/yuncong/BstemAtlasData/CSHL_data_processed/ChatCryoJane201710/ChatCryoJane201710_prep2_lossless_Ntb/ChatCryoJane201710_slide20-S2_prep2_lossless_Ntb.tif -crop 2000x2000+1903+1217 /tmp/tmp.tif\n",
      "convert /media/yuncong/BstemAtlasData/CSHL_data_processed/ChatCryoJane201710/ChatCryoJane201710_prep2_lossless_Ntb/ChatCryoJane201710_slide19-S3_prep2_lossless_Ntb.tif -crop 2000x2000+1903+1217 /tmp/tmp.tif\n",
      "Region 5: x=4777, y=8281, w=2000, h=2000\n",
      "convert /media/yuncong/BstemAtlasData/CSHL_data_processed/ChatCryoJane201710/ChatCryoJane201710_prep2_lossless_Ntb/ChatCryoJane201710_slide20-S2_prep2_lossless_Ntb.tif -crop 2000x2000+4777+8281 /tmp/tmp.tif\n",
      "convert /media/yuncong/BstemAtlasData/CSHL_data_processed/ChatCryoJane201710/ChatCryoJane201710_prep2_lossless_Ntb/ChatCryoJane201710_slide19-S3_prep2_lossless_Ntb.tif -crop 2000x2000+4777+8281 /tmp/tmp.tif\n",
      "Region 6: x=4807, y=6839, w=2000, h=2000\n",
      "convert /media/yuncong/BstemAtlasData/CSHL_data_processed/ChatCryoJane201710/ChatCryoJane201710_prep2_lossless_Ntb/ChatCryoJane201710_slide20-S2_prep2_lossless_Ntb.tif -crop 2000x2000+4807+6839 /tmp/tmp.tif\n",
      "convert /media/yuncong/BstemAtlasData/CSHL_data_processed/ChatCryoJane201710/ChatCryoJane201710_prep2_lossless_Ntb/ChatCryoJane201710_slide19-S3_prep2_lossless_Ntb.tif -crop 2000x2000+4807+6839 /tmp/tmp.tif\n",
      "Region 7: x=4419, y=3679, w=2000, h=2000\n",
      "convert /media/yuncong/BstemAtlasData/CSHL_data_processed/ChatCryoJane201710/ChatCryoJane201710_prep2_lossless_Ntb/ChatCryoJane201710_slide20-S2_prep2_lossless_Ntb.tif -crop 2000x2000+4419+3679 /tmp/tmp.tif\n",
      "convert /media/yuncong/BstemAtlasData/CSHL_data_processed/ChatCryoJane201710/ChatCryoJane201710_prep2_lossless_Ntb/ChatCryoJane201710_slide19-S3_prep2_lossless_Ntb.tif -crop 2000x2000+4419+3679 /tmp/tmp.tif\n",
      "Region 8: x=2770, y=14369, w=2000, h=2000\n",
      "convert /media/yuncong/BstemAtlasData/CSHL_data_processed/ChatCryoJane201710/ChatCryoJane201710_prep2_lossless_Ntb/ChatCryoJane201710_slide20-S2_prep2_lossless_Ntb.tif -crop 2000x2000+2770+14369 /tmp/tmp.tif\n",
      "convert /media/yuncong/BstemAtlasData/CSHL_data_processed/ChatCryoJane201710/ChatCryoJane201710_prep2_lossless_Ntb/ChatCryoJane201710_slide19-S3_prep2_lossless_Ntb.tif -crop 2000x2000+2770+14369 /tmp/tmp.tif\n",
      "Region 9: x=6509, y=4918, w=2000, h=2000\n",
      "convert /media/yuncong/BstemAtlasData/CSHL_data_processed/ChatCryoJane201710/ChatCryoJane201710_prep2_lossless_Ntb/ChatCryoJane201710_slide20-S2_prep2_lossless_Ntb.tif -crop 2000x2000+6509+4918 /tmp/tmp.tif\n",
      "convert /media/yuncong/BstemAtlasData/CSHL_data_processed/ChatCryoJane201710/ChatCryoJane201710_prep2_lossless_Ntb/ChatCryoJane201710_slide19-S3_prep2_lossless_Ntb.tif -crop 2000x2000+6509+4918 /tmp/tmp.tif\n",
      "aws s3 cp \"/media/yuncong/BstemAtlasData/CSHL_data_processed/ChatCryoJane201710/ChatCryoJane201710_intensity_mapping/ChatCryoJane201710_slide19-S3_to_ChatCryoJane201710_slide20-S2_intensity_mapping_all_regions.npy\" \"s3://mousebrainatlas-data/CSHL_data_processed/ChatCryoJane201710/ChatCryoJane201710_intensity_mapping/ChatCryoJane201710_slide19-S3_to_ChatCryoJane201710_slide20-S2_intensity_mapping_all_regions.npy\"\n",
      "aws s3 cp \"/media/yuncong/BstemAtlasData/CSHL_data_processed/ChatCryoJane201710/ChatCryoJane201710_intensity_mapping/ChatCryoJane201710_slide19-S3_to_ChatCryoJane201710_slide20-S2_region_bboxes.npy\" \"s3://mousebrainatlas-data/CSHL_data_processed/ChatCryoJane201710/ChatCryoJane201710_intensity_mapping/ChatCryoJane201710_slide19-S3_to_ChatCryoJane201710_slide20-S2_region_bboxes.npy\"\n"
     ]
    },
    {
     "name": "stderr",
     "output_type": "stream",
     "text": [
      "ntb 59, ntb 60\n"
     ]
    },
    {
     "name": "stdout",
     "output_type": "stream",
     "text": [
      "rm -rf \"/media/yuncong/BstemAtlasData/CSHL_data_processed/ChatCryoJane201710/ChatCryoJane201710_prep2_thumbnail_mask/ChatCryoJane201710_slide19-S3_prep2_thumbnail_mask.png\" && mkdir -p \"/media/yuncong/BstemAtlasData/CSHL_data_processed/ChatCryoJane201710/ChatCryoJane201710_prep2_thumbnail_mask\"\n",
      "aws s3 cp \"s3://mousebrainatlas-data/CSHL_data_processed/ChatCryoJane201710/ChatCryoJane201710_prep2_thumbnail_mask/ChatCryoJane201710_slide19-S3_prep2_thumbnail_mask.png\" \"/media/yuncong/BstemAtlasData/CSHL_data_processed/ChatCryoJane201710/ChatCryoJane201710_prep2_thumbnail_mask/ChatCryoJane201710_slide19-S3_prep2_thumbnail_mask.png\"\n"
     ]
    },
    {
     "name": "stderr",
     "output_type": "stream",
     "text": [
      "Load NTB1: 0.00 seconds.\n",
      "Load NTB2: 0.00 seconds.\n"
     ]
    },
    {
     "name": "stdout",
     "output_type": "stream",
     "text": [
      "Region 0: x=15468, y=11328, w=2000, h=2000\n",
      "convert /media/yuncong/BstemAtlasData/CSHL_data_processed/ChatCryoJane201710/ChatCryoJane201710_prep2_lossless_Ntb/ChatCryoJane201710_slide19-S3_prep2_lossless_Ntb.tif -crop 2000x2000+15468+11328 /tmp/tmp.tif\n",
      "convert /media/yuncong/BstemAtlasData/CSHL_data_processed/ChatCryoJane201710/ChatCryoJane201710_prep2_lossless_Ntb/ChatCryoJane201710_slide20-S3_prep2_lossless_Ntb.tif -crop 2000x2000+15468+11328 /tmp/tmp.tif\n",
      "Region 1: x=1161, y=6186, w=2000, h=2000\n",
      "convert /media/yuncong/BstemAtlasData/CSHL_data_processed/ChatCryoJane201710/ChatCryoJane201710_prep2_lossless_Ntb/ChatCryoJane201710_slide19-S3_prep2_lossless_Ntb.tif -crop 2000x2000+1161+6186 /tmp/tmp.tif\n",
      "convert /media/yuncong/BstemAtlasData/CSHL_data_processed/ChatCryoJane201710/ChatCryoJane201710_prep2_lossless_Ntb/ChatCryoJane201710_slide20-S3_prep2_lossless_Ntb.tif -crop 2000x2000+1161+6186 /tmp/tmp.tif\n",
      "Region 2: x=10500, y=10456, w=2000, h=2000\n",
      "convert /media/yuncong/BstemAtlasData/CSHL_data_processed/ChatCryoJane201710/ChatCryoJane201710_prep2_lossless_Ntb/ChatCryoJane201710_slide19-S3_prep2_lossless_Ntb.tif -crop 2000x2000+10500+10456 /tmp/tmp.tif\n",
      "convert /media/yuncong/BstemAtlasData/CSHL_data_processed/ChatCryoJane201710/ChatCryoJane201710_prep2_lossless_Ntb/ChatCryoJane201710_slide20-S3_prep2_lossless_Ntb.tif -crop 2000x2000+10500+10456 /tmp/tmp.tif\n",
      "Region 3: x=6561, y=685, w=2000, h=2000\n",
      "convert /media/yuncong/BstemAtlasData/CSHL_data_processed/ChatCryoJane201710/ChatCryoJane201710_prep2_lossless_Ntb/ChatCryoJane201710_slide19-S3_prep2_lossless_Ntb.tif -crop 2000x2000+6561+685 /tmp/tmp.tif\n",
      "convert /media/yuncong/BstemAtlasData/CSHL_data_processed/ChatCryoJane201710/ChatCryoJane201710_prep2_lossless_Ntb/ChatCryoJane201710_slide20-S3_prep2_lossless_Ntb.tif -crop 2000x2000+6561+685 /tmp/tmp.tif\n",
      "Region 4: x=9142, y=8268, w=2000, h=2000\n",
      "convert /media/yuncong/BstemAtlasData/CSHL_data_processed/ChatCryoJane201710/ChatCryoJane201710_prep2_lossless_Ntb/ChatCryoJane201710_slide19-S3_prep2_lossless_Ntb.tif -crop 2000x2000+9142+8268 /tmp/tmp.tif\n",
      "convert /media/yuncong/BstemAtlasData/CSHL_data_processed/ChatCryoJane201710/ChatCryoJane201710_prep2_lossless_Ntb/ChatCryoJane201710_slide20-S3_prep2_lossless_Ntb.tif -crop 2000x2000+9142+8268 /tmp/tmp.tif\n",
      "Region 5: x=17305, y=4772, w=2000, h=2000\n",
      "convert /media/yuncong/BstemAtlasData/CSHL_data_processed/ChatCryoJane201710/ChatCryoJane201710_prep2_lossless_Ntb/ChatCryoJane201710_slide19-S3_prep2_lossless_Ntb.tif -crop 2000x2000+17305+4772 /tmp/tmp.tif\n",
      "convert /media/yuncong/BstemAtlasData/CSHL_data_processed/ChatCryoJane201710/ChatCryoJane201710_prep2_lossless_Ntb/ChatCryoJane201710_slide20-S3_prep2_lossless_Ntb.tif -crop 2000x2000+17305+4772 /tmp/tmp.tif\n",
      "Region 6: x=10387, y=9052, w=2000, h=2000\n",
      "convert /media/yuncong/BstemAtlasData/CSHL_data_processed/ChatCryoJane201710/ChatCryoJane201710_prep2_lossless_Ntb/ChatCryoJane201710_slide19-S3_prep2_lossless_Ntb.tif -crop 2000x2000+10387+9052 /tmp/tmp.tif\n",
      "convert /media/yuncong/BstemAtlasData/CSHL_data_processed/ChatCryoJane201710/ChatCryoJane201710_prep2_lossless_Ntb/ChatCryoJane201710_slide20-S3_prep2_lossless_Ntb.tif -crop 2000x2000+10387+9052 /tmp/tmp.tif\n",
      "Region 7: x=1944, y=3708, w=2000, h=2000\n",
      "convert /media/yuncong/BstemAtlasData/CSHL_data_processed/ChatCryoJane201710/ChatCryoJane201710_prep2_lossless_Ntb/ChatCryoJane201710_slide19-S3_prep2_lossless_Ntb.tif -crop 2000x2000+1944+3708 /tmp/tmp.tif\n",
      "convert /media/yuncong/BstemAtlasData/CSHL_data_processed/ChatCryoJane201710/ChatCryoJane201710_prep2_lossless_Ntb/ChatCryoJane201710_slide20-S3_prep2_lossless_Ntb.tif -crop 2000x2000+1944+3708 /tmp/tmp.tif\n",
      "Region 8: x=13295, y=9017, w=2000, h=2000\n",
      "convert /media/yuncong/BstemAtlasData/CSHL_data_processed/ChatCryoJane201710/ChatCryoJane201710_prep2_lossless_Ntb/ChatCryoJane201710_slide19-S3_prep2_lossless_Ntb.tif -crop 2000x2000+13295+9017 /tmp/tmp.tif\n",
      "convert /media/yuncong/BstemAtlasData/CSHL_data_processed/ChatCryoJane201710/ChatCryoJane201710_prep2_lossless_Ntb/ChatCryoJane201710_slide20-S3_prep2_lossless_Ntb.tif -crop 2000x2000+13295+9017 /tmp/tmp.tif\n",
      "Region 9: x=5461, y=9500, w=2000, h=2000\n",
      "convert /media/yuncong/BstemAtlasData/CSHL_data_processed/ChatCryoJane201710/ChatCryoJane201710_prep2_lossless_Ntb/ChatCryoJane201710_slide19-S3_prep2_lossless_Ntb.tif -crop 2000x2000+5461+9500 /tmp/tmp.tif\n",
      "convert /media/yuncong/BstemAtlasData/CSHL_data_processed/ChatCryoJane201710/ChatCryoJane201710_prep2_lossless_Ntb/ChatCryoJane201710_slide20-S3_prep2_lossless_Ntb.tif -crop 2000x2000+5461+9500 /tmp/tmp.tif\n",
      "aws s3 cp \"/media/yuncong/BstemAtlasData/CSHL_data_processed/ChatCryoJane201710/ChatCryoJane201710_intensity_mapping/ChatCryoJane201710_slide20-S3_to_ChatCryoJane201710_slide19-S3_intensity_mapping_all_regions.npy\" \"s3://mousebrainatlas-data/CSHL_data_processed/ChatCryoJane201710/ChatCryoJane201710_intensity_mapping/ChatCryoJane201710_slide20-S3_to_ChatCryoJane201710_slide19-S3_intensity_mapping_all_regions.npy\"\n",
      "aws s3 cp \"/media/yuncong/BstemAtlasData/CSHL_data_processed/ChatCryoJane201710/ChatCryoJane201710_intensity_mapping/ChatCryoJane201710_slide20-S3_to_ChatCryoJane201710_slide19-S3_region_bboxes.npy\" \"s3://mousebrainatlas-data/CSHL_data_processed/ChatCryoJane201710/ChatCryoJane201710_intensity_mapping/ChatCryoJane201710_slide20-S3_to_ChatCryoJane201710_slide19-S3_region_bboxes.npy\"\n"
     ]
    },
    {
     "name": "stderr",
     "output_type": "stream",
     "text": [
      "ntb 60, ntb 61\n"
     ]
    },
    {
     "name": "stdout",
     "output_type": "stream",
     "text": [
      "rm -rf \"/media/yuncong/BstemAtlasData/CSHL_data_processed/ChatCryoJane201710/ChatCryoJane201710_prep2_thumbnail_mask/ChatCryoJane201710_slide20-S3_prep2_thumbnail_mask.png\" && mkdir -p \"/media/yuncong/BstemAtlasData/CSHL_data_processed/ChatCryoJane201710/ChatCryoJane201710_prep2_thumbnail_mask\"\n",
      "aws s3 cp \"s3://mousebrainatlas-data/CSHL_data_processed/ChatCryoJane201710/ChatCryoJane201710_prep2_thumbnail_mask/ChatCryoJane201710_slide20-S3_prep2_thumbnail_mask.png\" \"/media/yuncong/BstemAtlasData/CSHL_data_processed/ChatCryoJane201710/ChatCryoJane201710_prep2_thumbnail_mask/ChatCryoJane201710_slide20-S3_prep2_thumbnail_mask.png\"\n"
     ]
    },
    {
     "name": "stderr",
     "output_type": "stream",
     "text": [
      "Load NTB1: 0.00 seconds.\n",
      "Load NTB2: 0.00 seconds.\n"
     ]
    },
    {
     "name": "stdout",
     "output_type": "stream",
     "text": [
      "Region 0: x=8852, y=2401, w=2000, h=2000\n",
      "convert /media/yuncong/BstemAtlasData/CSHL_data_processed/ChatCryoJane201710/ChatCryoJane201710_prep2_lossless_Ntb/ChatCryoJane201710_slide20-S3_prep2_lossless_Ntb.tif -crop 2000x2000+8852+2401 /tmp/tmp.tif\n",
      "convert /media/yuncong/BstemAtlasData/CSHL_data_processed/ChatCryoJane201710/ChatCryoJane201710_prep2_lossless_Ntb/ChatCryoJane201710_slide21-S1_prep2_lossless_Ntb.tif -crop 2000x2000+8852+2401 /tmp/tmp.tif\n",
      "Region 1: x=4013, y=12018, w=2000, h=2000\n",
      "convert /media/yuncong/BstemAtlasData/CSHL_data_processed/ChatCryoJane201710/ChatCryoJane201710_prep2_lossless_Ntb/ChatCryoJane201710_slide20-S3_prep2_lossless_Ntb.tif -crop 2000x2000+4013+12018 /tmp/tmp.tif\n",
      "convert /media/yuncong/BstemAtlasData/CSHL_data_processed/ChatCryoJane201710/ChatCryoJane201710_prep2_lossless_Ntb/ChatCryoJane201710_slide21-S1_prep2_lossless_Ntb.tif -crop 2000x2000+4013+12018 /tmp/tmp.tif\n",
      "Region 2: x=11430, y=11472, w=2000, h=2000\n",
      "convert /media/yuncong/BstemAtlasData/CSHL_data_processed/ChatCryoJane201710/ChatCryoJane201710_prep2_lossless_Ntb/ChatCryoJane201710_slide20-S3_prep2_lossless_Ntb.tif -crop 2000x2000+11430+11472 /tmp/tmp.tif\n",
      "convert /media/yuncong/BstemAtlasData/CSHL_data_processed/ChatCryoJane201710/ChatCryoJane201710_prep2_lossless_Ntb/ChatCryoJane201710_slide21-S1_prep2_lossless_Ntb.tif -crop 2000x2000+11430+11472 /tmp/tmp.tif\n",
      "Region 3: x=17492, y=4841, w=2000, h=2000\n",
      "convert /media/yuncong/BstemAtlasData/CSHL_data_processed/ChatCryoJane201710/ChatCryoJane201710_prep2_lossless_Ntb/ChatCryoJane201710_slide20-S3_prep2_lossless_Ntb.tif -crop 2000x2000+17492+4841 /tmp/tmp.tif\n",
      "convert /media/yuncong/BstemAtlasData/CSHL_data_processed/ChatCryoJane201710/ChatCryoJane201710_prep2_lossless_Ntb/ChatCryoJane201710_slide21-S1_prep2_lossless_Ntb.tif -crop 2000x2000+17492+4841 /tmp/tmp.tif\n",
      "Region 4: x=8699, y=11917, w=2000, h=2000\n",
      "convert /media/yuncong/BstemAtlasData/CSHL_data_processed/ChatCryoJane201710/ChatCryoJane201710_prep2_lossless_Ntb/ChatCryoJane201710_slide20-S3_prep2_lossless_Ntb.tif -crop 2000x2000+8699+11917 /tmp/tmp.tif\n",
      "convert /media/yuncong/BstemAtlasData/CSHL_data_processed/ChatCryoJane201710/ChatCryoJane201710_prep2_lossless_Ntb/ChatCryoJane201710_slide21-S1_prep2_lossless_Ntb.tif -crop 2000x2000+8699+11917 /tmp/tmp.tif\n",
      "Region 5: x=8008, y=11077, w=2000, h=2000\n",
      "convert /media/yuncong/BstemAtlasData/CSHL_data_processed/ChatCryoJane201710/ChatCryoJane201710_prep2_lossless_Ntb/ChatCryoJane201710_slide20-S3_prep2_lossless_Ntb.tif -crop 2000x2000+8008+11077 /tmp/tmp.tif\n",
      "convert /media/yuncong/BstemAtlasData/CSHL_data_processed/ChatCryoJane201710/ChatCryoJane201710_prep2_lossless_Ntb/ChatCryoJane201710_slide21-S1_prep2_lossless_Ntb.tif -crop 2000x2000+8008+11077 /tmp/tmp.tif\n",
      "Region 6: x=14575, y=12126, w=2000, h=2000\n",
      "convert /media/yuncong/BstemAtlasData/CSHL_data_processed/ChatCryoJane201710/ChatCryoJane201710_prep2_lossless_Ntb/ChatCryoJane201710_slide20-S3_prep2_lossless_Ntb.tif -crop 2000x2000+14575+12126 /tmp/tmp.tif\n",
      "convert /media/yuncong/BstemAtlasData/CSHL_data_processed/ChatCryoJane201710/ChatCryoJane201710_prep2_lossless_Ntb/ChatCryoJane201710_slide21-S1_prep2_lossless_Ntb.tif -crop 2000x2000+14575+12126 /tmp/tmp.tif\n",
      "Region 7: x=12233, y=9382, w=2000, h=2000\n",
      "convert /media/yuncong/BstemAtlasData/CSHL_data_processed/ChatCryoJane201710/ChatCryoJane201710_prep2_lossless_Ntb/ChatCryoJane201710_slide20-S3_prep2_lossless_Ntb.tif -crop 2000x2000+12233+9382 /tmp/tmp.tif\n",
      "convert /media/yuncong/BstemAtlasData/CSHL_data_processed/ChatCryoJane201710/ChatCryoJane201710_prep2_lossless_Ntb/ChatCryoJane201710_slide21-S1_prep2_lossless_Ntb.tif -crop 2000x2000+12233+9382 /tmp/tmp.tif\n",
      "Region 8: x=9798, y=9732, w=2000, h=2000\n",
      "convert /media/yuncong/BstemAtlasData/CSHL_data_processed/ChatCryoJane201710/ChatCryoJane201710_prep2_lossless_Ntb/ChatCryoJane201710_slide20-S3_prep2_lossless_Ntb.tif -crop 2000x2000+9798+9732 /tmp/tmp.tif\n",
      "convert /media/yuncong/BstemAtlasData/CSHL_data_processed/ChatCryoJane201710/ChatCryoJane201710_prep2_lossless_Ntb/ChatCryoJane201710_slide21-S1_prep2_lossless_Ntb.tif -crop 2000x2000+9798+9732 /tmp/tmp.tif\n",
      "Region 9: x=802, y=1065, w=2000, h=2000\n",
      "convert /media/yuncong/BstemAtlasData/CSHL_data_processed/ChatCryoJane201710/ChatCryoJane201710_prep2_lossless_Ntb/ChatCryoJane201710_slide20-S3_prep2_lossless_Ntb.tif -crop 2000x2000+802+1065 /tmp/tmp.tif\n",
      "convert /media/yuncong/BstemAtlasData/CSHL_data_processed/ChatCryoJane201710/ChatCryoJane201710_prep2_lossless_Ntb/ChatCryoJane201710_slide21-S1_prep2_lossless_Ntb.tif -crop 2000x2000+802+1065 /tmp/tmp.tif\n",
      "aws s3 cp \"/media/yuncong/BstemAtlasData/CSHL_data_processed/ChatCryoJane201710/ChatCryoJane201710_intensity_mapping/ChatCryoJane201710_slide21-S1_to_ChatCryoJane201710_slide20-S3_intensity_mapping_all_regions.npy\" \"s3://mousebrainatlas-data/CSHL_data_processed/ChatCryoJane201710/ChatCryoJane201710_intensity_mapping/ChatCryoJane201710_slide21-S1_to_ChatCryoJane201710_slide20-S3_intensity_mapping_all_regions.npy\"\n",
      "aws s3 cp \"/media/yuncong/BstemAtlasData/CSHL_data_processed/ChatCryoJane201710/ChatCryoJane201710_intensity_mapping/ChatCryoJane201710_slide21-S1_to_ChatCryoJane201710_slide20-S3_region_bboxes.npy\" \"s3://mousebrainatlas-data/CSHL_data_processed/ChatCryoJane201710/ChatCryoJane201710_intensity_mapping/ChatCryoJane201710_slide21-S1_to_ChatCryoJane201710_slide20-S3_region_bboxes.npy\"\n"
     ]
    },
    {
     "name": "stderr",
     "output_type": "stream",
     "text": [
      "ntb 61, ntb 62\n"
     ]
    },
    {
     "name": "stdout",
     "output_type": "stream",
     "text": [
      "rm -rf \"/media/yuncong/BstemAtlasData/CSHL_data_processed/ChatCryoJane201710/ChatCryoJane201710_prep2_thumbnail_mask/ChatCryoJane201710_slide21-S1_prep2_thumbnail_mask.png\" && mkdir -p \"/media/yuncong/BstemAtlasData/CSHL_data_processed/ChatCryoJane201710/ChatCryoJane201710_prep2_thumbnail_mask\"\n",
      "aws s3 cp \"s3://mousebrainatlas-data/CSHL_data_processed/ChatCryoJane201710/ChatCryoJane201710_prep2_thumbnail_mask/ChatCryoJane201710_slide21-S1_prep2_thumbnail_mask.png\" \"/media/yuncong/BstemAtlasData/CSHL_data_processed/ChatCryoJane201710/ChatCryoJane201710_prep2_thumbnail_mask/ChatCryoJane201710_slide21-S1_prep2_thumbnail_mask.png\"\n"
     ]
    },
    {
     "name": "stderr",
     "output_type": "stream",
     "text": [
      "Load NTB1: 0.00 seconds.\n",
      "Load NTB2: 0.00 seconds.\n"
     ]
    },
    {
     "name": "stdout",
     "output_type": "stream",
     "text": [
      "Region 0: x=8449, y=11463, w=2000, h=2000\n",
      "convert /media/yuncong/BstemAtlasData/CSHL_data_processed/ChatCryoJane201710/ChatCryoJane201710_prep2_lossless_Ntb/ChatCryoJane201710_slide21-S1_prep2_lossless_Ntb.tif -crop 2000x2000+8449+11463 /tmp/tmp.tif\n",
      "convert /media/yuncong/BstemAtlasData/CSHL_data_processed/ChatCryoJane201710/ChatCryoJane201710_prep2_lossless_Ntb/ChatCryoJane201710_slide22-S1_prep2_lossless_Ntb.tif -crop 2000x2000+8449+11463 /tmp/tmp.tif\n",
      "Region 1: x=12761, y=6198, w=2000, h=2000\n",
      "convert /media/yuncong/BstemAtlasData/CSHL_data_processed/ChatCryoJane201710/ChatCryoJane201710_prep2_lossless_Ntb/ChatCryoJane201710_slide21-S1_prep2_lossless_Ntb.tif -crop 2000x2000+12761+6198 /tmp/tmp.tif\n",
      "convert /media/yuncong/BstemAtlasData/CSHL_data_processed/ChatCryoJane201710/ChatCryoJane201710_prep2_lossless_Ntb/ChatCryoJane201710_slide22-S1_prep2_lossless_Ntb.tif -crop 2000x2000+12761+6198 /tmp/tmp.tif\n",
      "Region 2: x=6966, y=9855, w=2000, h=2000\n",
      "convert /media/yuncong/BstemAtlasData/CSHL_data_processed/ChatCryoJane201710/ChatCryoJane201710_prep2_lossless_Ntb/ChatCryoJane201710_slide21-S1_prep2_lossless_Ntb.tif -crop 2000x2000+6966+9855 /tmp/tmp.tif\n",
      "convert /media/yuncong/BstemAtlasData/CSHL_data_processed/ChatCryoJane201710/ChatCryoJane201710_prep2_lossless_Ntb/ChatCryoJane201710_slide22-S1_prep2_lossless_Ntb.tif -crop 2000x2000+6966+9855 /tmp/tmp.tif\n",
      "Region 3: x=1166, y=4961, w=2000, h=2000\n",
      "convert /media/yuncong/BstemAtlasData/CSHL_data_processed/ChatCryoJane201710/ChatCryoJane201710_prep2_lossless_Ntb/ChatCryoJane201710_slide21-S1_prep2_lossless_Ntb.tif -crop 2000x2000+1166+4961 /tmp/tmp.tif\n",
      "convert /media/yuncong/BstemAtlasData/CSHL_data_processed/ChatCryoJane201710/ChatCryoJane201710_prep2_lossless_Ntb/ChatCryoJane201710_slide22-S1_prep2_lossless_Ntb.tif -crop 2000x2000+1166+4961 /tmp/tmp.tif\n",
      "Region 4: x=13893, y=6361, w=2000, h=2000\n",
      "convert /media/yuncong/BstemAtlasData/CSHL_data_processed/ChatCryoJane201710/ChatCryoJane201710_prep2_lossless_Ntb/ChatCryoJane201710_slide21-S1_prep2_lossless_Ntb.tif -crop 2000x2000+13893+6361 /tmp/tmp.tif\n",
      "convert /media/yuncong/BstemAtlasData/CSHL_data_processed/ChatCryoJane201710/ChatCryoJane201710_prep2_lossless_Ntb/ChatCryoJane201710_slide22-S1_prep2_lossless_Ntb.tif -crop 2000x2000+13893+6361 /tmp/tmp.tif\n",
      "Region 5: x=4913, y=10834, w=2000, h=2000\n",
      "convert /media/yuncong/BstemAtlasData/CSHL_data_processed/ChatCryoJane201710/ChatCryoJane201710_prep2_lossless_Ntb/ChatCryoJane201710_slide21-S1_prep2_lossless_Ntb.tif -crop 2000x2000+4913+10834 /tmp/tmp.tif\n",
      "convert /media/yuncong/BstemAtlasData/CSHL_data_processed/ChatCryoJane201710/ChatCryoJane201710_prep2_lossless_Ntb/ChatCryoJane201710_slide22-S1_prep2_lossless_Ntb.tif -crop 2000x2000+4913+10834 /tmp/tmp.tif\n",
      "Region 6: x=2679, y=12375, w=2000, h=2000\n",
      "convert /media/yuncong/BstemAtlasData/CSHL_data_processed/ChatCryoJane201710/ChatCryoJane201710_prep2_lossless_Ntb/ChatCryoJane201710_slide21-S1_prep2_lossless_Ntb.tif -crop 2000x2000+2679+12375 /tmp/tmp.tif\n",
      "convert /media/yuncong/BstemAtlasData/CSHL_data_processed/ChatCryoJane201710/ChatCryoJane201710_prep2_lossless_Ntb/ChatCryoJane201710_slide22-S1_prep2_lossless_Ntb.tif -crop 2000x2000+2679+12375 /tmp/tmp.tif\n",
      "Region 7: x=1808, y=7826, w=2000, h=2000\n",
      "convert /media/yuncong/BstemAtlasData/CSHL_data_processed/ChatCryoJane201710/ChatCryoJane201710_prep2_lossless_Ntb/ChatCryoJane201710_slide21-S1_prep2_lossless_Ntb.tif -crop 2000x2000+1808+7826 /tmp/tmp.tif\n",
      "convert /media/yuncong/BstemAtlasData/CSHL_data_processed/ChatCryoJane201710/ChatCryoJane201710_prep2_lossless_Ntb/ChatCryoJane201710_slide22-S1_prep2_lossless_Ntb.tif -crop 2000x2000+1808+7826 /tmp/tmp.tif\n",
      "Region 8: x=3881, y=3778, w=2000, h=2000\n",
      "convert /media/yuncong/BstemAtlasData/CSHL_data_processed/ChatCryoJane201710/ChatCryoJane201710_prep2_lossless_Ntb/ChatCryoJane201710_slide21-S1_prep2_lossless_Ntb.tif -crop 2000x2000+3881+3778 /tmp/tmp.tif\n",
      "convert /media/yuncong/BstemAtlasData/CSHL_data_processed/ChatCryoJane201710/ChatCryoJane201710_prep2_lossless_Ntb/ChatCryoJane201710_slide22-S1_prep2_lossless_Ntb.tif -crop 2000x2000+3881+3778 /tmp/tmp.tif\n",
      "Region 9: x=6494, y=2615, w=2000, h=2000\n",
      "convert /media/yuncong/BstemAtlasData/CSHL_data_processed/ChatCryoJane201710/ChatCryoJane201710_prep2_lossless_Ntb/ChatCryoJane201710_slide21-S1_prep2_lossless_Ntb.tif -crop 2000x2000+6494+2615 /tmp/tmp.tif\n",
      "convert /media/yuncong/BstemAtlasData/CSHL_data_processed/ChatCryoJane201710/ChatCryoJane201710_prep2_lossless_Ntb/ChatCryoJane201710_slide22-S1_prep2_lossless_Ntb.tif -crop 2000x2000+6494+2615 /tmp/tmp.tif\n",
      "aws s3 cp \"/media/yuncong/BstemAtlasData/CSHL_data_processed/ChatCryoJane201710/ChatCryoJane201710_intensity_mapping/ChatCryoJane201710_slide22-S1_to_ChatCryoJane201710_slide21-S1_intensity_mapping_all_regions.npy\" \"s3://mousebrainatlas-data/CSHL_data_processed/ChatCryoJane201710/ChatCryoJane201710_intensity_mapping/ChatCryoJane201710_slide22-S1_to_ChatCryoJane201710_slide21-S1_intensity_mapping_all_regions.npy\"\n",
      "aws s3 cp \"/media/yuncong/BstemAtlasData/CSHL_data_processed/ChatCryoJane201710/ChatCryoJane201710_intensity_mapping/ChatCryoJane201710_slide22-S1_to_ChatCryoJane201710_slide21-S1_region_bboxes.npy\" \"s3://mousebrainatlas-data/CSHL_data_processed/ChatCryoJane201710/ChatCryoJane201710_intensity_mapping/ChatCryoJane201710_slide22-S1_to_ChatCryoJane201710_slide21-S1_region_bboxes.npy\"\n"
     ]
    },
    {
     "name": "stderr",
     "output_type": "stream",
     "text": [
      "ntb 62, ntb 63\n"
     ]
    },
    {
     "name": "stdout",
     "output_type": "stream",
     "text": [
      "rm -rf \"/media/yuncong/BstemAtlasData/CSHL_data_processed/ChatCryoJane201710/ChatCryoJane201710_prep2_thumbnail_mask/ChatCryoJane201710_slide22-S1_prep2_thumbnail_mask.png\" && mkdir -p \"/media/yuncong/BstemAtlasData/CSHL_data_processed/ChatCryoJane201710/ChatCryoJane201710_prep2_thumbnail_mask\"\n",
      "aws s3 cp \"s3://mousebrainatlas-data/CSHL_data_processed/ChatCryoJane201710/ChatCryoJane201710_prep2_thumbnail_mask/ChatCryoJane201710_slide22-S1_prep2_thumbnail_mask.png\" \"/media/yuncong/BstemAtlasData/CSHL_data_processed/ChatCryoJane201710/ChatCryoJane201710_prep2_thumbnail_mask/ChatCryoJane201710_slide22-S1_prep2_thumbnail_mask.png\"\n"
     ]
    },
    {
     "name": "stderr",
     "output_type": "stream",
     "text": [
      "Load NTB1: 0.00 seconds.\n",
      "Load NTB2: 0.00 seconds.\n"
     ]
    },
    {
     "name": "stdout",
     "output_type": "stream",
     "text": [
      "Region 0: x=109, y=2141, w=2000, h=2000\n",
      "convert /media/yuncong/BstemAtlasData/CSHL_data_processed/ChatCryoJane201710/ChatCryoJane201710_prep2_lossless_Ntb/ChatCryoJane201710_slide22-S1_prep2_lossless_Ntb.tif -crop 2000x2000+109+2141 /tmp/tmp.tif\n",
      "convert /media/yuncong/BstemAtlasData/CSHL_data_processed/ChatCryoJane201710/ChatCryoJane201710_prep2_lossless_Ntb/ChatCryoJane201710_slide21-S2_prep2_lossless_Ntb.tif -crop 2000x2000+109+2141 /tmp/tmp.tif\n",
      "Region 1: x=2753, y=7238, w=2000, h=2000\n",
      "convert /media/yuncong/BstemAtlasData/CSHL_data_processed/ChatCryoJane201710/ChatCryoJane201710_prep2_lossless_Ntb/ChatCryoJane201710_slide22-S1_prep2_lossless_Ntb.tif -crop 2000x2000+2753+7238 /tmp/tmp.tif\n",
      "convert /media/yuncong/BstemAtlasData/CSHL_data_processed/ChatCryoJane201710/ChatCryoJane201710_prep2_lossless_Ntb/ChatCryoJane201710_slide21-S2_prep2_lossless_Ntb.tif -crop 2000x2000+2753+7238 /tmp/tmp.tif\n",
      "Region 2: x=11912, y=4471, w=2000, h=2000\n",
      "convert /media/yuncong/BstemAtlasData/CSHL_data_processed/ChatCryoJane201710/ChatCryoJane201710_prep2_lossless_Ntb/ChatCryoJane201710_slide22-S1_prep2_lossless_Ntb.tif -crop 2000x2000+11912+4471 /tmp/tmp.tif\n",
      "convert /media/yuncong/BstemAtlasData/CSHL_data_processed/ChatCryoJane201710/ChatCryoJane201710_prep2_lossless_Ntb/ChatCryoJane201710_slide21-S2_prep2_lossless_Ntb.tif -crop 2000x2000+11912+4471 /tmp/tmp.tif\n",
      "Region 3: x=4969, y=3389, w=2000, h=2000\n",
      "convert /media/yuncong/BstemAtlasData/CSHL_data_processed/ChatCryoJane201710/ChatCryoJane201710_prep2_lossless_Ntb/ChatCryoJane201710_slide22-S1_prep2_lossless_Ntb.tif -crop 2000x2000+4969+3389 /tmp/tmp.tif\n",
      "convert /media/yuncong/BstemAtlasData/CSHL_data_processed/ChatCryoJane201710/ChatCryoJane201710_prep2_lossless_Ntb/ChatCryoJane201710_slide21-S2_prep2_lossless_Ntb.tif -crop 2000x2000+4969+3389 /tmp/tmp.tif\n",
      "Region 4: x=1966, y=3341, w=2000, h=2000\n",
      "convert /media/yuncong/BstemAtlasData/CSHL_data_processed/ChatCryoJane201710/ChatCryoJane201710_prep2_lossless_Ntb/ChatCryoJane201710_slide22-S1_prep2_lossless_Ntb.tif -crop 2000x2000+1966+3341 /tmp/tmp.tif\n",
      "convert /media/yuncong/BstemAtlasData/CSHL_data_processed/ChatCryoJane201710/ChatCryoJane201710_prep2_lossless_Ntb/ChatCryoJane201710_slide21-S2_prep2_lossless_Ntb.tif -crop 2000x2000+1966+3341 /tmp/tmp.tif\n",
      "Region 5: x=7092, y=1310, w=2000, h=2000\n",
      "convert /media/yuncong/BstemAtlasData/CSHL_data_processed/ChatCryoJane201710/ChatCryoJane201710_prep2_lossless_Ntb/ChatCryoJane201710_slide22-S1_prep2_lossless_Ntb.tif -crop 2000x2000+7092+1310 /tmp/tmp.tif\n",
      "convert /media/yuncong/BstemAtlasData/CSHL_data_processed/ChatCryoJane201710/ChatCryoJane201710_prep2_lossless_Ntb/ChatCryoJane201710_slide21-S2_prep2_lossless_Ntb.tif -crop 2000x2000+7092+1310 /tmp/tmp.tif\n",
      "Region 6: x=16056, y=7388, w=2000, h=2000\n",
      "convert /media/yuncong/BstemAtlasData/CSHL_data_processed/ChatCryoJane201710/ChatCryoJane201710_prep2_lossless_Ntb/ChatCryoJane201710_slide22-S1_prep2_lossless_Ntb.tif -crop 2000x2000+16056+7388 /tmp/tmp.tif\n",
      "convert /media/yuncong/BstemAtlasData/CSHL_data_processed/ChatCryoJane201710/ChatCryoJane201710_prep2_lossless_Ntb/ChatCryoJane201710_slide21-S2_prep2_lossless_Ntb.tif -crop 2000x2000+16056+7388 /tmp/tmp.tif\n",
      "Region 7: x=8924, y=10139, w=2000, h=2000\n",
      "convert /media/yuncong/BstemAtlasData/CSHL_data_processed/ChatCryoJane201710/ChatCryoJane201710_prep2_lossless_Ntb/ChatCryoJane201710_slide22-S1_prep2_lossless_Ntb.tif -crop 2000x2000+8924+10139 /tmp/tmp.tif\n",
      "convert /media/yuncong/BstemAtlasData/CSHL_data_processed/ChatCryoJane201710/ChatCryoJane201710_prep2_lossless_Ntb/ChatCryoJane201710_slide21-S2_prep2_lossless_Ntb.tif -crop 2000x2000+8924+10139 /tmp/tmp.tif\n",
      "Region 8: x=3721, y=13496, w=2000, h=2000\n",
      "convert /media/yuncong/BstemAtlasData/CSHL_data_processed/ChatCryoJane201710/ChatCryoJane201710_prep2_lossless_Ntb/ChatCryoJane201710_slide22-S1_prep2_lossless_Ntb.tif -crop 2000x2000+3721+13496 /tmp/tmp.tif\n",
      "convert /media/yuncong/BstemAtlasData/CSHL_data_processed/ChatCryoJane201710/ChatCryoJane201710_prep2_lossless_Ntb/ChatCryoJane201710_slide21-S2_prep2_lossless_Ntb.tif -crop 2000x2000+3721+13496 /tmp/tmp.tif\n",
      "Region 9: x=8819, y=4910, w=2000, h=2000\n",
      "convert /media/yuncong/BstemAtlasData/CSHL_data_processed/ChatCryoJane201710/ChatCryoJane201710_prep2_lossless_Ntb/ChatCryoJane201710_slide22-S1_prep2_lossless_Ntb.tif -crop 2000x2000+8819+4910 /tmp/tmp.tif\n",
      "convert /media/yuncong/BstemAtlasData/CSHL_data_processed/ChatCryoJane201710/ChatCryoJane201710_prep2_lossless_Ntb/ChatCryoJane201710_slide21-S2_prep2_lossless_Ntb.tif -crop 2000x2000+8819+4910 /tmp/tmp.tif\n",
      "aws s3 cp \"/media/yuncong/BstemAtlasData/CSHL_data_processed/ChatCryoJane201710/ChatCryoJane201710_intensity_mapping/ChatCryoJane201710_slide21-S2_to_ChatCryoJane201710_slide22-S1_intensity_mapping_all_regions.npy\" \"s3://mousebrainatlas-data/CSHL_data_processed/ChatCryoJane201710/ChatCryoJane201710_intensity_mapping/ChatCryoJane201710_slide21-S2_to_ChatCryoJane201710_slide22-S1_intensity_mapping_all_regions.npy\"\n",
      "aws s3 cp \"/media/yuncong/BstemAtlasData/CSHL_data_processed/ChatCryoJane201710/ChatCryoJane201710_intensity_mapping/ChatCryoJane201710_slide21-S2_to_ChatCryoJane201710_slide22-S1_region_bboxes.npy\" \"s3://mousebrainatlas-data/CSHL_data_processed/ChatCryoJane201710/ChatCryoJane201710_intensity_mapping/ChatCryoJane201710_slide21-S2_to_ChatCryoJane201710_slide22-S1_region_bboxes.npy\"\n"
     ]
    },
    {
     "name": "stderr",
     "output_type": "stream",
     "text": [
      "ntb 63, ntb 64\n"
     ]
    },
    {
     "name": "stdout",
     "output_type": "stream",
     "text": [
      "rm -rf \"/media/yuncong/BstemAtlasData/CSHL_data_processed/ChatCryoJane201710/ChatCryoJane201710_prep2_thumbnail_mask/ChatCryoJane201710_slide21-S2_prep2_thumbnail_mask.png\" && mkdir -p \"/media/yuncong/BstemAtlasData/CSHL_data_processed/ChatCryoJane201710/ChatCryoJane201710_prep2_thumbnail_mask\"\n",
      "aws s3 cp \"s3://mousebrainatlas-data/CSHL_data_processed/ChatCryoJane201710/ChatCryoJane201710_prep2_thumbnail_mask/ChatCryoJane201710_slide21-S2_prep2_thumbnail_mask.png\" \"/media/yuncong/BstemAtlasData/CSHL_data_processed/ChatCryoJane201710/ChatCryoJane201710_prep2_thumbnail_mask/ChatCryoJane201710_slide21-S2_prep2_thumbnail_mask.png\"\n"
     ]
    },
    {
     "name": "stderr",
     "output_type": "stream",
     "text": [
      "Load NTB1: 0.00 seconds.\n",
      "Load NTB2: 0.00 seconds.\n"
     ]
    },
    {
     "name": "stdout",
     "output_type": "stream",
     "text": [
      "Region 0: x=361, y=1891, w=2000, h=2000\n",
      "convert /media/yuncong/BstemAtlasData/CSHL_data_processed/ChatCryoJane201710/ChatCryoJane201710_prep2_lossless_Ntb/ChatCryoJane201710_slide21-S2_prep2_lossless_Ntb.tif -crop 2000x2000+361+1891 /tmp/tmp.tif\n",
      "convert /media/yuncong/BstemAtlasData/CSHL_data_processed/ChatCryoJane201710/ChatCryoJane201710_prep2_lossless_Ntb/ChatCryoJane201710_slide22-S2_prep2_lossless_Ntb.tif -crop 2000x2000+361+1891 /tmp/tmp.tif\n",
      "Region 1: x=11575, y=10102, w=2000, h=2000\n",
      "convert /media/yuncong/BstemAtlasData/CSHL_data_processed/ChatCryoJane201710/ChatCryoJane201710_prep2_lossless_Ntb/ChatCryoJane201710_slide21-S2_prep2_lossless_Ntb.tif -crop 2000x2000+11575+10102 /tmp/tmp.tif\n",
      "convert /media/yuncong/BstemAtlasData/CSHL_data_processed/ChatCryoJane201710/ChatCryoJane201710_prep2_lossless_Ntb/ChatCryoJane201710_slide22-S2_prep2_lossless_Ntb.tif -crop 2000x2000+11575+10102 /tmp/tmp.tif\n",
      "Region 2: x=1027, y=3927, w=2000, h=2000\n",
      "convert /media/yuncong/BstemAtlasData/CSHL_data_processed/ChatCryoJane201710/ChatCryoJane201710_prep2_lossless_Ntb/ChatCryoJane201710_slide21-S2_prep2_lossless_Ntb.tif -crop 2000x2000+1027+3927 /tmp/tmp.tif\n",
      "convert /media/yuncong/BstemAtlasData/CSHL_data_processed/ChatCryoJane201710/ChatCryoJane201710_prep2_lossless_Ntb/ChatCryoJane201710_slide22-S2_prep2_lossless_Ntb.tif -crop 2000x2000+1027+3927 /tmp/tmp.tif\n",
      "Region 3: x=656, y=10893, w=2000, h=2000\n",
      "convert /media/yuncong/BstemAtlasData/CSHL_data_processed/ChatCryoJane201710/ChatCryoJane201710_prep2_lossless_Ntb/ChatCryoJane201710_slide21-S2_prep2_lossless_Ntb.tif -crop 2000x2000+656+10893 /tmp/tmp.tif\n",
      "convert /media/yuncong/BstemAtlasData/CSHL_data_processed/ChatCryoJane201710/ChatCryoJane201710_prep2_lossless_Ntb/ChatCryoJane201710_slide22-S2_prep2_lossless_Ntb.tif -crop 2000x2000+656+10893 /tmp/tmp.tif\n",
      "Region 4: x=4678, y=2567, w=2000, h=2000\n",
      "convert /media/yuncong/BstemAtlasData/CSHL_data_processed/ChatCryoJane201710/ChatCryoJane201710_prep2_lossless_Ntb/ChatCryoJane201710_slide21-S2_prep2_lossless_Ntb.tif -crop 2000x2000+4678+2567 /tmp/tmp.tif\n",
      "convert /media/yuncong/BstemAtlasData/CSHL_data_processed/ChatCryoJane201710/ChatCryoJane201710_prep2_lossless_Ntb/ChatCryoJane201710_slide22-S2_prep2_lossless_Ntb.tif -crop 2000x2000+4678+2567 /tmp/tmp.tif\n",
      "Region 5: x=13710, y=9975, w=2000, h=2000\n",
      "convert /media/yuncong/BstemAtlasData/CSHL_data_processed/ChatCryoJane201710/ChatCryoJane201710_prep2_lossless_Ntb/ChatCryoJane201710_slide21-S2_prep2_lossless_Ntb.tif -crop 2000x2000+13710+9975 /tmp/tmp.tif\n",
      "convert /media/yuncong/BstemAtlasData/CSHL_data_processed/ChatCryoJane201710/ChatCryoJane201710_prep2_lossless_Ntb/ChatCryoJane201710_slide22-S2_prep2_lossless_Ntb.tif -crop 2000x2000+13710+9975 /tmp/tmp.tif\n",
      "Region 6: x=650, y=2049, w=2000, h=2000\n",
      "convert /media/yuncong/BstemAtlasData/CSHL_data_processed/ChatCryoJane201710/ChatCryoJane201710_prep2_lossless_Ntb/ChatCryoJane201710_slide21-S2_prep2_lossless_Ntb.tif -crop 2000x2000+650+2049 /tmp/tmp.tif\n",
      "convert /media/yuncong/BstemAtlasData/CSHL_data_processed/ChatCryoJane201710/ChatCryoJane201710_prep2_lossless_Ntb/ChatCryoJane201710_slide22-S2_prep2_lossless_Ntb.tif -crop 2000x2000+650+2049 /tmp/tmp.tif\n",
      "Region 7: x=1540, y=10389, w=2000, h=2000\n",
      "convert /media/yuncong/BstemAtlasData/CSHL_data_processed/ChatCryoJane201710/ChatCryoJane201710_prep2_lossless_Ntb/ChatCryoJane201710_slide21-S2_prep2_lossless_Ntb.tif -crop 2000x2000+1540+10389 /tmp/tmp.tif\n",
      "convert /media/yuncong/BstemAtlasData/CSHL_data_processed/ChatCryoJane201710/ChatCryoJane201710_prep2_lossless_Ntb/ChatCryoJane201710_slide22-S2_prep2_lossless_Ntb.tif -crop 2000x2000+1540+10389 /tmp/tmp.tif\n",
      "Region 8: x=14742, y=6076, w=2000, h=2000\n",
      "convert /media/yuncong/BstemAtlasData/CSHL_data_processed/ChatCryoJane201710/ChatCryoJane201710_prep2_lossless_Ntb/ChatCryoJane201710_slide21-S2_prep2_lossless_Ntb.tif -crop 2000x2000+14742+6076 /tmp/tmp.tif\n",
      "convert /media/yuncong/BstemAtlasData/CSHL_data_processed/ChatCryoJane201710/ChatCryoJane201710_prep2_lossless_Ntb/ChatCryoJane201710_slide22-S2_prep2_lossless_Ntb.tif -crop 2000x2000+14742+6076 /tmp/tmp.tif\n",
      "Region 9: x=11619, y=10557, w=2000, h=2000\n",
      "convert /media/yuncong/BstemAtlasData/CSHL_data_processed/ChatCryoJane201710/ChatCryoJane201710_prep2_lossless_Ntb/ChatCryoJane201710_slide21-S2_prep2_lossless_Ntb.tif -crop 2000x2000+11619+10557 /tmp/tmp.tif\n",
      "convert /media/yuncong/BstemAtlasData/CSHL_data_processed/ChatCryoJane201710/ChatCryoJane201710_prep2_lossless_Ntb/ChatCryoJane201710_slide22-S2_prep2_lossless_Ntb.tif -crop 2000x2000+11619+10557 /tmp/tmp.tif\n",
      "aws s3 cp \"/media/yuncong/BstemAtlasData/CSHL_data_processed/ChatCryoJane201710/ChatCryoJane201710_intensity_mapping/ChatCryoJane201710_slide22-S2_to_ChatCryoJane201710_slide21-S2_intensity_mapping_all_regions.npy\" \"s3://mousebrainatlas-data/CSHL_data_processed/ChatCryoJane201710/ChatCryoJane201710_intensity_mapping/ChatCryoJane201710_slide22-S2_to_ChatCryoJane201710_slide21-S2_intensity_mapping_all_regions.npy\"\n",
      "aws s3 cp \"/media/yuncong/BstemAtlasData/CSHL_data_processed/ChatCryoJane201710/ChatCryoJane201710_intensity_mapping/ChatCryoJane201710_slide22-S2_to_ChatCryoJane201710_slide21-S2_region_bboxes.npy\" \"s3://mousebrainatlas-data/CSHL_data_processed/ChatCryoJane201710/ChatCryoJane201710_intensity_mapping/ChatCryoJane201710_slide22-S2_to_ChatCryoJane201710_slide21-S2_region_bboxes.npy\"\n"
     ]
    },
    {
     "name": "stderr",
     "output_type": "stream",
     "text": [
      "ntb 64, ntb 65\n"
     ]
    },
    {
     "name": "stdout",
     "output_type": "stream",
     "text": [
      "rm -rf \"/media/yuncong/BstemAtlasData/CSHL_data_processed/ChatCryoJane201710/ChatCryoJane201710_prep2_thumbnail_mask/ChatCryoJane201710_slide22-S2_prep2_thumbnail_mask.png\" && mkdir -p \"/media/yuncong/BstemAtlasData/CSHL_data_processed/ChatCryoJane201710/ChatCryoJane201710_prep2_thumbnail_mask\"\n",
      "aws s3 cp \"s3://mousebrainatlas-data/CSHL_data_processed/ChatCryoJane201710/ChatCryoJane201710_prep2_thumbnail_mask/ChatCryoJane201710_slide22-S2_prep2_thumbnail_mask.png\" \"/media/yuncong/BstemAtlasData/CSHL_data_processed/ChatCryoJane201710/ChatCryoJane201710_prep2_thumbnail_mask/ChatCryoJane201710_slide22-S2_prep2_thumbnail_mask.png\"\n"
     ]
    },
    {
     "name": "stderr",
     "output_type": "stream",
     "text": [
      "Load NTB1: 0.00 seconds.\n",
      "Load NTB2: 0.00 seconds.\n"
     ]
    },
    {
     "name": "stdout",
     "output_type": "stream",
     "text": [
      "Region 0: x=10350, y=5753, w=2000, h=2000\n",
      "convert /media/yuncong/BstemAtlasData/CSHL_data_processed/ChatCryoJane201710/ChatCryoJane201710_prep2_lossless_Ntb/ChatCryoJane201710_slide22-S2_prep2_lossless_Ntb.tif -crop 2000x2000+10350+5753 /tmp/tmp.tif\n",
      "convert /media/yuncong/BstemAtlasData/CSHL_data_processed/ChatCryoJane201710/ChatCryoJane201710_prep2_lossless_Ntb/ChatCryoJane201710_slide21-S3_prep2_lossless_Ntb.tif -crop 2000x2000+10350+5753 /tmp/tmp.tif\n",
      "Region 1: x=6339, y=7701, w=2000, h=2000\n",
      "convert /media/yuncong/BstemAtlasData/CSHL_data_processed/ChatCryoJane201710/ChatCryoJane201710_prep2_lossless_Ntb/ChatCryoJane201710_slide22-S2_prep2_lossless_Ntb.tif -crop 2000x2000+6339+7701 /tmp/tmp.tif\n",
      "convert /media/yuncong/BstemAtlasData/CSHL_data_processed/ChatCryoJane201710/ChatCryoJane201710_prep2_lossless_Ntb/ChatCryoJane201710_slide21-S3_prep2_lossless_Ntb.tif -crop 2000x2000+6339+7701 /tmp/tmp.tif\n",
      "Region 2: x=5607, y=6870, w=2000, h=2000\n",
      "convert /media/yuncong/BstemAtlasData/CSHL_data_processed/ChatCryoJane201710/ChatCryoJane201710_prep2_lossless_Ntb/ChatCryoJane201710_slide22-S2_prep2_lossless_Ntb.tif -crop 2000x2000+5607+6870 /tmp/tmp.tif\n",
      "convert /media/yuncong/BstemAtlasData/CSHL_data_processed/ChatCryoJane201710/ChatCryoJane201710_prep2_lossless_Ntb/ChatCryoJane201710_slide21-S3_prep2_lossless_Ntb.tif -crop 2000x2000+5607+6870 /tmp/tmp.tif\n",
      "Region 3: x=15158, y=9535, w=2000, h=2000\n",
      "convert /media/yuncong/BstemAtlasData/CSHL_data_processed/ChatCryoJane201710/ChatCryoJane201710_prep2_lossless_Ntb/ChatCryoJane201710_slide22-S2_prep2_lossless_Ntb.tif -crop 2000x2000+15158+9535 /tmp/tmp.tif\n",
      "convert /media/yuncong/BstemAtlasData/CSHL_data_processed/ChatCryoJane201710/ChatCryoJane201710_prep2_lossless_Ntb/ChatCryoJane201710_slide21-S3_prep2_lossless_Ntb.tif -crop 2000x2000+15158+9535 /tmp/tmp.tif\n",
      "Region 4: x=12051, y=8352, w=2000, h=2000\n",
      "convert /media/yuncong/BstemAtlasData/CSHL_data_processed/ChatCryoJane201710/ChatCryoJane201710_prep2_lossless_Ntb/ChatCryoJane201710_slide22-S2_prep2_lossless_Ntb.tif -crop 2000x2000+12051+8352 /tmp/tmp.tif\n",
      "convert /media/yuncong/BstemAtlasData/CSHL_data_processed/ChatCryoJane201710/ChatCryoJane201710_prep2_lossless_Ntb/ChatCryoJane201710_slide21-S3_prep2_lossless_Ntb.tif -crop 2000x2000+12051+8352 /tmp/tmp.tif\n",
      "Region 5: x=15913, y=5454, w=2000, h=2000\n",
      "convert /media/yuncong/BstemAtlasData/CSHL_data_processed/ChatCryoJane201710/ChatCryoJane201710_prep2_lossless_Ntb/ChatCryoJane201710_slide22-S2_prep2_lossless_Ntb.tif -crop 2000x2000+15913+5454 /tmp/tmp.tif\n",
      "convert /media/yuncong/BstemAtlasData/CSHL_data_processed/ChatCryoJane201710/ChatCryoJane201710_prep2_lossless_Ntb/ChatCryoJane201710_slide21-S3_prep2_lossless_Ntb.tif -crop 2000x2000+15913+5454 /tmp/tmp.tif\n",
      "Region 6: x=16223, y=7601, w=2000, h=2000\n",
      "convert /media/yuncong/BstemAtlasData/CSHL_data_processed/ChatCryoJane201710/ChatCryoJane201710_prep2_lossless_Ntb/ChatCryoJane201710_slide22-S2_prep2_lossless_Ntb.tif -crop 2000x2000+16223+7601 /tmp/tmp.tif\n",
      "convert /media/yuncong/BstemAtlasData/CSHL_data_processed/ChatCryoJane201710/ChatCryoJane201710_prep2_lossless_Ntb/ChatCryoJane201710_slide21-S3_prep2_lossless_Ntb.tif -crop 2000x2000+16223+7601 /tmp/tmp.tif\n",
      "Region 7: x=8371, y=1758, w=2000, h=2000\n",
      "convert /media/yuncong/BstemAtlasData/CSHL_data_processed/ChatCryoJane201710/ChatCryoJane201710_prep2_lossless_Ntb/ChatCryoJane201710_slide22-S2_prep2_lossless_Ntb.tif -crop 2000x2000+8371+1758 /tmp/tmp.tif\n",
      "convert /media/yuncong/BstemAtlasData/CSHL_data_processed/ChatCryoJane201710/ChatCryoJane201710_prep2_lossless_Ntb/ChatCryoJane201710_slide21-S3_prep2_lossless_Ntb.tif -crop 2000x2000+8371+1758 /tmp/tmp.tif\n",
      "Region 8: x=15060, y=9239, w=2000, h=2000\n",
      "convert /media/yuncong/BstemAtlasData/CSHL_data_processed/ChatCryoJane201710/ChatCryoJane201710_prep2_lossless_Ntb/ChatCryoJane201710_slide22-S2_prep2_lossless_Ntb.tif -crop 2000x2000+15060+9239 /tmp/tmp.tif\n",
      "convert /media/yuncong/BstemAtlasData/CSHL_data_processed/ChatCryoJane201710/ChatCryoJane201710_prep2_lossless_Ntb/ChatCryoJane201710_slide21-S3_prep2_lossless_Ntb.tif -crop 2000x2000+15060+9239 /tmp/tmp.tif\n",
      "Region 9: x=17217, y=6209, w=2000, h=2000\n",
      "convert /media/yuncong/BstemAtlasData/CSHL_data_processed/ChatCryoJane201710/ChatCryoJane201710_prep2_lossless_Ntb/ChatCryoJane201710_slide22-S2_prep2_lossless_Ntb.tif -crop 2000x2000+17217+6209 /tmp/tmp.tif\n",
      "convert /media/yuncong/BstemAtlasData/CSHL_data_processed/ChatCryoJane201710/ChatCryoJane201710_prep2_lossless_Ntb/ChatCryoJane201710_slide21-S3_prep2_lossless_Ntb.tif -crop 2000x2000+17217+6209 /tmp/tmp.tif\n",
      "aws s3 cp \"/media/yuncong/BstemAtlasData/CSHL_data_processed/ChatCryoJane201710/ChatCryoJane201710_intensity_mapping/ChatCryoJane201710_slide21-S3_to_ChatCryoJane201710_slide22-S2_intensity_mapping_all_regions.npy\" \"s3://mousebrainatlas-data/CSHL_data_processed/ChatCryoJane201710/ChatCryoJane201710_intensity_mapping/ChatCryoJane201710_slide21-S3_to_ChatCryoJane201710_slide22-S2_intensity_mapping_all_regions.npy\"\n",
      "aws s3 cp \"/media/yuncong/BstemAtlasData/CSHL_data_processed/ChatCryoJane201710/ChatCryoJane201710_intensity_mapping/ChatCryoJane201710_slide21-S3_to_ChatCryoJane201710_slide22-S2_region_bboxes.npy\" \"s3://mousebrainatlas-data/CSHL_data_processed/ChatCryoJane201710/ChatCryoJane201710_intensity_mapping/ChatCryoJane201710_slide21-S3_to_ChatCryoJane201710_slide22-S2_region_bboxes.npy\"\n"
     ]
    },
    {
     "name": "stderr",
     "output_type": "stream",
     "text": [
      "ntb 65, ntb 66\n"
     ]
    },
    {
     "name": "stdout",
     "output_type": "stream",
     "text": [
      "rm -rf \"/media/yuncong/BstemAtlasData/CSHL_data_processed/ChatCryoJane201710/ChatCryoJane201710_prep2_thumbnail_mask/ChatCryoJane201710_slide21-S3_prep2_thumbnail_mask.png\" && mkdir -p \"/media/yuncong/BstemAtlasData/CSHL_data_processed/ChatCryoJane201710/ChatCryoJane201710_prep2_thumbnail_mask\"\n",
      "aws s3 cp \"s3://mousebrainatlas-data/CSHL_data_processed/ChatCryoJane201710/ChatCryoJane201710_prep2_thumbnail_mask/ChatCryoJane201710_slide21-S3_prep2_thumbnail_mask.png\" \"/media/yuncong/BstemAtlasData/CSHL_data_processed/ChatCryoJane201710/ChatCryoJane201710_prep2_thumbnail_mask/ChatCryoJane201710_slide21-S3_prep2_thumbnail_mask.png\"\n"
     ]
    },
    {
     "name": "stderr",
     "output_type": "stream",
     "text": [
      "Load NTB1: 0.00 seconds.\n",
      "Load NTB2: 0.00 seconds.\n"
     ]
    },
    {
     "name": "stdout",
     "output_type": "stream",
     "text": [
      "Region 0: x=8493, y=4350, w=2000, h=2000\n",
      "convert /media/yuncong/BstemAtlasData/CSHL_data_processed/ChatCryoJane201710/ChatCryoJane201710_prep2_lossless_Ntb/ChatCryoJane201710_slide21-S3_prep2_lossless_Ntb.tif -crop 2000x2000+8493+4350 /tmp/tmp.tif\n",
      "convert /media/yuncong/BstemAtlasData/CSHL_data_processed/ChatCryoJane201710/ChatCryoJane201710_prep2_lossless_Ntb/ChatCryoJane201710_slide22-S3_prep2_lossless_Ntb.tif -crop 2000x2000+8493+4350 /tmp/tmp.tif\n",
      "Region 1: x=6667, y=8668, w=2000, h=2000\n",
      "convert /media/yuncong/BstemAtlasData/CSHL_data_processed/ChatCryoJane201710/ChatCryoJane201710_prep2_lossless_Ntb/ChatCryoJane201710_slide21-S3_prep2_lossless_Ntb.tif -crop 2000x2000+6667+8668 /tmp/tmp.tif\n",
      "convert /media/yuncong/BstemAtlasData/CSHL_data_processed/ChatCryoJane201710/ChatCryoJane201710_prep2_lossless_Ntb/ChatCryoJane201710_slide22-S3_prep2_lossless_Ntb.tif -crop 2000x2000+6667+8668 /tmp/tmp.tif\n",
      "Region 2: x=4433, y=786, w=2000, h=2000\n",
      "convert /media/yuncong/BstemAtlasData/CSHL_data_processed/ChatCryoJane201710/ChatCryoJane201710_prep2_lossless_Ntb/ChatCryoJane201710_slide21-S3_prep2_lossless_Ntb.tif -crop 2000x2000+4433+786 /tmp/tmp.tif\n",
      "convert /media/yuncong/BstemAtlasData/CSHL_data_processed/ChatCryoJane201710/ChatCryoJane201710_prep2_lossless_Ntb/ChatCryoJane201710_slide22-S3_prep2_lossless_Ntb.tif -crop 2000x2000+4433+786 /tmp/tmp.tif\n",
      "Region 3: x=11567, y=4817, w=2000, h=2000\n",
      "convert /media/yuncong/BstemAtlasData/CSHL_data_processed/ChatCryoJane201710/ChatCryoJane201710_prep2_lossless_Ntb/ChatCryoJane201710_slide21-S3_prep2_lossless_Ntb.tif -crop 2000x2000+11567+4817 /tmp/tmp.tif\n",
      "convert /media/yuncong/BstemAtlasData/CSHL_data_processed/ChatCryoJane201710/ChatCryoJane201710_prep2_lossless_Ntb/ChatCryoJane201710_slide22-S3_prep2_lossless_Ntb.tif -crop 2000x2000+11567+4817 /tmp/tmp.tif\n",
      "Region 4: x=15709, y=4668, w=2000, h=2000\n",
      "convert /media/yuncong/BstemAtlasData/CSHL_data_processed/ChatCryoJane201710/ChatCryoJane201710_prep2_lossless_Ntb/ChatCryoJane201710_slide21-S3_prep2_lossless_Ntb.tif -crop 2000x2000+15709+4668 /tmp/tmp.tif\n",
      "convert /media/yuncong/BstemAtlasData/CSHL_data_processed/ChatCryoJane201710/ChatCryoJane201710_prep2_lossless_Ntb/ChatCryoJane201710_slide22-S3_prep2_lossless_Ntb.tif -crop 2000x2000+15709+4668 /tmp/tmp.tif\n",
      "Region 5: x=8559, y=3349, w=2000, h=2000\n",
      "convert /media/yuncong/BstemAtlasData/CSHL_data_processed/ChatCryoJane201710/ChatCryoJane201710_prep2_lossless_Ntb/ChatCryoJane201710_slide21-S3_prep2_lossless_Ntb.tif -crop 2000x2000+8559+3349 /tmp/tmp.tif\n",
      "convert /media/yuncong/BstemAtlasData/CSHL_data_processed/ChatCryoJane201710/ChatCryoJane201710_prep2_lossless_Ntb/ChatCryoJane201710_slide22-S3_prep2_lossless_Ntb.tif -crop 2000x2000+8559+3349 /tmp/tmp.tif\n",
      "Region 6: x=1752, y=2211, w=2000, h=2000\n",
      "convert /media/yuncong/BstemAtlasData/CSHL_data_processed/ChatCryoJane201710/ChatCryoJane201710_prep2_lossless_Ntb/ChatCryoJane201710_slide21-S3_prep2_lossless_Ntb.tif -crop 2000x2000+1752+2211 /tmp/tmp.tif\n",
      "convert /media/yuncong/BstemAtlasData/CSHL_data_processed/ChatCryoJane201710/ChatCryoJane201710_prep2_lossless_Ntb/ChatCryoJane201710_slide22-S3_prep2_lossless_Ntb.tif -crop 2000x2000+1752+2211 /tmp/tmp.tif\n",
      "Region 7: x=2102, y=1452, w=2000, h=2000\n",
      "convert /media/yuncong/BstemAtlasData/CSHL_data_processed/ChatCryoJane201710/ChatCryoJane201710_prep2_lossless_Ntb/ChatCryoJane201710_slide21-S3_prep2_lossless_Ntb.tif -crop 2000x2000+2102+1452 /tmp/tmp.tif\n",
      "convert /media/yuncong/BstemAtlasData/CSHL_data_processed/ChatCryoJane201710/ChatCryoJane201710_prep2_lossless_Ntb/ChatCryoJane201710_slide22-S3_prep2_lossless_Ntb.tif -crop 2000x2000+2102+1452 /tmp/tmp.tif\n",
      "Region 8: x=4242, y=6919, w=2000, h=2000\n",
      "convert /media/yuncong/BstemAtlasData/CSHL_data_processed/ChatCryoJane201710/ChatCryoJane201710_prep2_lossless_Ntb/ChatCryoJane201710_slide21-S3_prep2_lossless_Ntb.tif -crop 2000x2000+4242+6919 /tmp/tmp.tif\n",
      "convert /media/yuncong/BstemAtlasData/CSHL_data_processed/ChatCryoJane201710/ChatCryoJane201710_prep2_lossless_Ntb/ChatCryoJane201710_slide22-S3_prep2_lossless_Ntb.tif -crop 2000x2000+4242+6919 /tmp/tmp.tif\n",
      "Region 9: x=15214, y=9325, w=2000, h=2000\n",
      "convert /media/yuncong/BstemAtlasData/CSHL_data_processed/ChatCryoJane201710/ChatCryoJane201710_prep2_lossless_Ntb/ChatCryoJane201710_slide21-S3_prep2_lossless_Ntb.tif -crop 2000x2000+15214+9325 /tmp/tmp.tif\n",
      "convert /media/yuncong/BstemAtlasData/CSHL_data_processed/ChatCryoJane201710/ChatCryoJane201710_prep2_lossless_Ntb/ChatCryoJane201710_slide22-S3_prep2_lossless_Ntb.tif -crop 2000x2000+15214+9325 /tmp/tmp.tif\n",
      "aws s3 cp \"/media/yuncong/BstemAtlasData/CSHL_data_processed/ChatCryoJane201710/ChatCryoJane201710_intensity_mapping/ChatCryoJane201710_slide22-S3_to_ChatCryoJane201710_slide21-S3_intensity_mapping_all_regions.npy\" \"s3://mousebrainatlas-data/CSHL_data_processed/ChatCryoJane201710/ChatCryoJane201710_intensity_mapping/ChatCryoJane201710_slide22-S3_to_ChatCryoJane201710_slide21-S3_intensity_mapping_all_regions.npy\"\n",
      "aws s3 cp \"/media/yuncong/BstemAtlasData/CSHL_data_processed/ChatCryoJane201710/ChatCryoJane201710_intensity_mapping/ChatCryoJane201710_slide22-S3_to_ChatCryoJane201710_slide21-S3_region_bboxes.npy\" \"s3://mousebrainatlas-data/CSHL_data_processed/ChatCryoJane201710/ChatCryoJane201710_intensity_mapping/ChatCryoJane201710_slide22-S3_to_ChatCryoJane201710_slide21-S3_region_bboxes.npy\"\n"
     ]
    },
    {
     "name": "stderr",
     "output_type": "stream",
     "text": [
      "ntb 66, ntb 67\n"
     ]
    },
    {
     "name": "stdout",
     "output_type": "stream",
     "text": [
      "rm -rf \"/media/yuncong/BstemAtlasData/CSHL_data_processed/ChatCryoJane201710/ChatCryoJane201710_prep2_thumbnail_mask/ChatCryoJane201710_slide22-S3_prep2_thumbnail_mask.png\" && mkdir -p \"/media/yuncong/BstemAtlasData/CSHL_data_processed/ChatCryoJane201710/ChatCryoJane201710_prep2_thumbnail_mask\"\n",
      "aws s3 cp \"s3://mousebrainatlas-data/CSHL_data_processed/ChatCryoJane201710/ChatCryoJane201710_prep2_thumbnail_mask/ChatCryoJane201710_slide22-S3_prep2_thumbnail_mask.png\" \"/media/yuncong/BstemAtlasData/CSHL_data_processed/ChatCryoJane201710/ChatCryoJane201710_prep2_thumbnail_mask/ChatCryoJane201710_slide22-S3_prep2_thumbnail_mask.png\"\n"
     ]
    },
    {
     "name": "stderr",
     "output_type": "stream",
     "text": [
      "Load NTB1: 0.00 seconds.\n",
      "Load NTB2: 0.00 seconds.\n"
     ]
    },
    {
     "name": "stdout",
     "output_type": "stream",
     "text": [
      "Region 0: x=6518, y=6678, w=2000, h=2000\n",
      "convert /media/yuncong/BstemAtlasData/CSHL_data_processed/ChatCryoJane201710/ChatCryoJane201710_prep2_lossless_Ntb/ChatCryoJane201710_slide22-S3_prep2_lossless_Ntb.tif -crop 2000x2000+6518+6678 /tmp/tmp.tif\n",
      "convert /media/yuncong/BstemAtlasData/CSHL_data_processed/ChatCryoJane201710/ChatCryoJane201710_prep2_lossless_Ntb/ChatCryoJane201710_slide23-S1_prep2_lossless_Ntb.tif -crop 2000x2000+6518+6678 /tmp/tmp.tif\n",
      "Region 1: x=14585, y=11810, w=2000, h=2000\n",
      "convert /media/yuncong/BstemAtlasData/CSHL_data_processed/ChatCryoJane201710/ChatCryoJane201710_prep2_lossless_Ntb/ChatCryoJane201710_slide22-S3_prep2_lossless_Ntb.tif -crop 2000x2000+14585+11810 /tmp/tmp.tif\n",
      "convert /media/yuncong/BstemAtlasData/CSHL_data_processed/ChatCryoJane201710/ChatCryoJane201710_prep2_lossless_Ntb/ChatCryoJane201710_slide23-S1_prep2_lossless_Ntb.tif -crop 2000x2000+14585+11810 /tmp/tmp.tif\n",
      "Region 2: x=1906, y=11172, w=2000, h=2000\n",
      "convert /media/yuncong/BstemAtlasData/CSHL_data_processed/ChatCryoJane201710/ChatCryoJane201710_prep2_lossless_Ntb/ChatCryoJane201710_slide22-S3_prep2_lossless_Ntb.tif -crop 2000x2000+1906+11172 /tmp/tmp.tif\n",
      "convert /media/yuncong/BstemAtlasData/CSHL_data_processed/ChatCryoJane201710/ChatCryoJane201710_prep2_lossless_Ntb/ChatCryoJane201710_slide23-S1_prep2_lossless_Ntb.tif -crop 2000x2000+1906+11172 /tmp/tmp.tif\n",
      "Region 3: x=14400, y=8934, w=2000, h=2000\n",
      "convert /media/yuncong/BstemAtlasData/CSHL_data_processed/ChatCryoJane201710/ChatCryoJane201710_prep2_lossless_Ntb/ChatCryoJane201710_slide22-S3_prep2_lossless_Ntb.tif -crop 2000x2000+14400+8934 /tmp/tmp.tif\n",
      "convert /media/yuncong/BstemAtlasData/CSHL_data_processed/ChatCryoJane201710/ChatCryoJane201710_prep2_lossless_Ntb/ChatCryoJane201710_slide23-S1_prep2_lossless_Ntb.tif -crop 2000x2000+14400+8934 /tmp/tmp.tif\n",
      "Region 4: x=12787, y=5158, w=2000, h=2000\n",
      "convert /media/yuncong/BstemAtlasData/CSHL_data_processed/ChatCryoJane201710/ChatCryoJane201710_prep2_lossless_Ntb/ChatCryoJane201710_slide22-S3_prep2_lossless_Ntb.tif -crop 2000x2000+12787+5158 /tmp/tmp.tif\n",
      "convert /media/yuncong/BstemAtlasData/CSHL_data_processed/ChatCryoJane201710/ChatCryoJane201710_prep2_lossless_Ntb/ChatCryoJane201710_slide23-S1_prep2_lossless_Ntb.tif -crop 2000x2000+12787+5158 /tmp/tmp.tif\n",
      "Region 5: x=10668, y=5720, w=2000, h=2000\n",
      "convert /media/yuncong/BstemAtlasData/CSHL_data_processed/ChatCryoJane201710/ChatCryoJane201710_prep2_lossless_Ntb/ChatCryoJane201710_slide22-S3_prep2_lossless_Ntb.tif -crop 2000x2000+10668+5720 /tmp/tmp.tif\n",
      "convert /media/yuncong/BstemAtlasData/CSHL_data_processed/ChatCryoJane201710/ChatCryoJane201710_prep2_lossless_Ntb/ChatCryoJane201710_slide23-S1_prep2_lossless_Ntb.tif -crop 2000x2000+10668+5720 /tmp/tmp.tif\n",
      "Region 6: x=8923, y=1667, w=2000, h=2000\n",
      "convert /media/yuncong/BstemAtlasData/CSHL_data_processed/ChatCryoJane201710/ChatCryoJane201710_prep2_lossless_Ntb/ChatCryoJane201710_slide22-S3_prep2_lossless_Ntb.tif -crop 2000x2000+8923+1667 /tmp/tmp.tif\n",
      "convert /media/yuncong/BstemAtlasData/CSHL_data_processed/ChatCryoJane201710/ChatCryoJane201710_prep2_lossless_Ntb/ChatCryoJane201710_slide23-S1_prep2_lossless_Ntb.tif -crop 2000x2000+8923+1667 /tmp/tmp.tif\n",
      "Region 7: x=3923, y=6384, w=2000, h=2000\n",
      "convert /media/yuncong/BstemAtlasData/CSHL_data_processed/ChatCryoJane201710/ChatCryoJane201710_prep2_lossless_Ntb/ChatCryoJane201710_slide22-S3_prep2_lossless_Ntb.tif -crop 2000x2000+3923+6384 /tmp/tmp.tif\n",
      "convert /media/yuncong/BstemAtlasData/CSHL_data_processed/ChatCryoJane201710/ChatCryoJane201710_prep2_lossless_Ntb/ChatCryoJane201710_slide23-S1_prep2_lossless_Ntb.tif -crop 2000x2000+3923+6384 /tmp/tmp.tif\n",
      "Region 8: x=2475, y=8879, w=2000, h=2000\n",
      "convert /media/yuncong/BstemAtlasData/CSHL_data_processed/ChatCryoJane201710/ChatCryoJane201710_prep2_lossless_Ntb/ChatCryoJane201710_slide22-S3_prep2_lossless_Ntb.tif -crop 2000x2000+2475+8879 /tmp/tmp.tif\n",
      "convert /media/yuncong/BstemAtlasData/CSHL_data_processed/ChatCryoJane201710/ChatCryoJane201710_prep2_lossless_Ntb/ChatCryoJane201710_slide23-S1_prep2_lossless_Ntb.tif -crop 2000x2000+2475+8879 /tmp/tmp.tif\n",
      "Region 9: x=3273, y=10728, w=2000, h=2000\n",
      "convert /media/yuncong/BstemAtlasData/CSHL_data_processed/ChatCryoJane201710/ChatCryoJane201710_prep2_lossless_Ntb/ChatCryoJane201710_slide22-S3_prep2_lossless_Ntb.tif -crop 2000x2000+3273+10728 /tmp/tmp.tif\n",
      "convert /media/yuncong/BstemAtlasData/CSHL_data_processed/ChatCryoJane201710/ChatCryoJane201710_prep2_lossless_Ntb/ChatCryoJane201710_slide23-S1_prep2_lossless_Ntb.tif -crop 2000x2000+3273+10728 /tmp/tmp.tif\n",
      "aws s3 cp \"/media/yuncong/BstemAtlasData/CSHL_data_processed/ChatCryoJane201710/ChatCryoJane201710_intensity_mapping/ChatCryoJane201710_slide23-S1_to_ChatCryoJane201710_slide22-S3_intensity_mapping_all_regions.npy\" \"s3://mousebrainatlas-data/CSHL_data_processed/ChatCryoJane201710/ChatCryoJane201710_intensity_mapping/ChatCryoJane201710_slide23-S1_to_ChatCryoJane201710_slide22-S3_intensity_mapping_all_regions.npy\"\n",
      "aws s3 cp \"/media/yuncong/BstemAtlasData/CSHL_data_processed/ChatCryoJane201710/ChatCryoJane201710_intensity_mapping/ChatCryoJane201710_slide23-S1_to_ChatCryoJane201710_slide22-S3_region_bboxes.npy\" \"s3://mousebrainatlas-data/CSHL_data_processed/ChatCryoJane201710/ChatCryoJane201710_intensity_mapping/ChatCryoJane201710_slide23-S1_to_ChatCryoJane201710_slide22-S3_region_bboxes.npy\"\n"
     ]
    },
    {
     "name": "stderr",
     "output_type": "stream",
     "text": [
      "ntb 67, ntb 68\n"
     ]
    },
    {
     "name": "stdout",
     "output_type": "stream",
     "text": [
      "rm -rf \"/media/yuncong/BstemAtlasData/CSHL_data_processed/ChatCryoJane201710/ChatCryoJane201710_prep2_thumbnail_mask/ChatCryoJane201710_slide23-S1_prep2_thumbnail_mask.png\" && mkdir -p \"/media/yuncong/BstemAtlasData/CSHL_data_processed/ChatCryoJane201710/ChatCryoJane201710_prep2_thumbnail_mask\"\n",
      "aws s3 cp \"s3://mousebrainatlas-data/CSHL_data_processed/ChatCryoJane201710/ChatCryoJane201710_prep2_thumbnail_mask/ChatCryoJane201710_slide23-S1_prep2_thumbnail_mask.png\" \"/media/yuncong/BstemAtlasData/CSHL_data_processed/ChatCryoJane201710/ChatCryoJane201710_prep2_thumbnail_mask/ChatCryoJane201710_slide23-S1_prep2_thumbnail_mask.png\"\n"
     ]
    },
    {
     "name": "stderr",
     "output_type": "stream",
     "text": [
      "Load NTB1: 0.00 seconds.\n",
      "Load NTB2: 0.00 seconds.\n"
     ]
    },
    {
     "name": "stdout",
     "output_type": "stream",
     "text": [
      "Region 0: x=14112, y=4590, w=2000, h=2000\n",
      "convert /media/yuncong/BstemAtlasData/CSHL_data_processed/ChatCryoJane201710/ChatCryoJane201710_prep2_lossless_Ntb/ChatCryoJane201710_slide23-S1_prep2_lossless_Ntb.tif -crop 2000x2000+14112+4590 /tmp/tmp.tif\n",
      "convert /media/yuncong/BstemAtlasData/CSHL_data_processed/ChatCryoJane201710/ChatCryoJane201710_prep2_lossless_Ntb/ChatCryoJane201710_slide24-S1_prep2_lossless_Ntb.tif -crop 2000x2000+14112+4590 /tmp/tmp.tif\n",
      "Region 1: x=2291, y=11253, w=2000, h=2000\n",
      "convert /media/yuncong/BstemAtlasData/CSHL_data_processed/ChatCryoJane201710/ChatCryoJane201710_prep2_lossless_Ntb/ChatCryoJane201710_slide23-S1_prep2_lossless_Ntb.tif -crop 2000x2000+2291+11253 /tmp/tmp.tif\n",
      "convert /media/yuncong/BstemAtlasData/CSHL_data_processed/ChatCryoJane201710/ChatCryoJane201710_prep2_lossless_Ntb/ChatCryoJane201710_slide24-S1_prep2_lossless_Ntb.tif -crop 2000x2000+2291+11253 /tmp/tmp.tif\n",
      "Region 2: x=5422, y=6965, w=2000, h=2000\n",
      "convert /media/yuncong/BstemAtlasData/CSHL_data_processed/ChatCryoJane201710/ChatCryoJane201710_prep2_lossless_Ntb/ChatCryoJane201710_slide23-S1_prep2_lossless_Ntb.tif -crop 2000x2000+5422+6965 /tmp/tmp.tif\n",
      "convert /media/yuncong/BstemAtlasData/CSHL_data_processed/ChatCryoJane201710/ChatCryoJane201710_prep2_lossless_Ntb/ChatCryoJane201710_slide24-S1_prep2_lossless_Ntb.tif -crop 2000x2000+5422+6965 /tmp/tmp.tif\n",
      "Region 3: x=303, y=3067, w=2000, h=2000\n",
      "convert /media/yuncong/BstemAtlasData/CSHL_data_processed/ChatCryoJane201710/ChatCryoJane201710_prep2_lossless_Ntb/ChatCryoJane201710_slide23-S1_prep2_lossless_Ntb.tif -crop 2000x2000+303+3067 /tmp/tmp.tif\n",
      "convert /media/yuncong/BstemAtlasData/CSHL_data_processed/ChatCryoJane201710/ChatCryoJane201710_prep2_lossless_Ntb/ChatCryoJane201710_slide24-S1_prep2_lossless_Ntb.tif -crop 2000x2000+303+3067 /tmp/tmp.tif\n",
      "Region 4: x=2133, y=9314, w=2000, h=2000\n",
      "convert /media/yuncong/BstemAtlasData/CSHL_data_processed/ChatCryoJane201710/ChatCryoJane201710_prep2_lossless_Ntb/ChatCryoJane201710_slide23-S1_prep2_lossless_Ntb.tif -crop 2000x2000+2133+9314 /tmp/tmp.tif\n",
      "convert /media/yuncong/BstemAtlasData/CSHL_data_processed/ChatCryoJane201710/ChatCryoJane201710_prep2_lossless_Ntb/ChatCryoJane201710_slide24-S1_prep2_lossless_Ntb.tif -crop 2000x2000+2133+9314 /tmp/tmp.tif\n",
      "Region 5: x=449, y=4289, w=2000, h=2000\n",
      "convert /media/yuncong/BstemAtlasData/CSHL_data_processed/ChatCryoJane201710/ChatCryoJane201710_prep2_lossless_Ntb/ChatCryoJane201710_slide23-S1_prep2_lossless_Ntb.tif -crop 2000x2000+449+4289 /tmp/tmp.tif\n",
      "convert /media/yuncong/BstemAtlasData/CSHL_data_processed/ChatCryoJane201710/ChatCryoJane201710_prep2_lossless_Ntb/ChatCryoJane201710_slide24-S1_prep2_lossless_Ntb.tif -crop 2000x2000+449+4289 /tmp/tmp.tif\n",
      "Region 6: x=957, y=9616, w=2000, h=2000\n",
      "convert /media/yuncong/BstemAtlasData/CSHL_data_processed/ChatCryoJane201710/ChatCryoJane201710_prep2_lossless_Ntb/ChatCryoJane201710_slide23-S1_prep2_lossless_Ntb.tif -crop 2000x2000+957+9616 /tmp/tmp.tif\n",
      "convert /media/yuncong/BstemAtlasData/CSHL_data_processed/ChatCryoJane201710/ChatCryoJane201710_prep2_lossless_Ntb/ChatCryoJane201710_slide24-S1_prep2_lossless_Ntb.tif -crop 2000x2000+957+9616 /tmp/tmp.tif\n",
      "Region 7: x=9391, y=5492, w=2000, h=2000\n",
      "convert /media/yuncong/BstemAtlasData/CSHL_data_processed/ChatCryoJane201710/ChatCryoJane201710_prep2_lossless_Ntb/ChatCryoJane201710_slide23-S1_prep2_lossless_Ntb.tif -crop 2000x2000+9391+5492 /tmp/tmp.tif\n",
      "convert /media/yuncong/BstemAtlasData/CSHL_data_processed/ChatCryoJane201710/ChatCryoJane201710_prep2_lossless_Ntb/ChatCryoJane201710_slide24-S1_prep2_lossless_Ntb.tif -crop 2000x2000+9391+5492 /tmp/tmp.tif\n",
      "Region 8: x=8137, y=3961, w=2000, h=2000\n",
      "convert /media/yuncong/BstemAtlasData/CSHL_data_processed/ChatCryoJane201710/ChatCryoJane201710_prep2_lossless_Ntb/ChatCryoJane201710_slide23-S1_prep2_lossless_Ntb.tif -crop 2000x2000+8137+3961 /tmp/tmp.tif\n",
      "convert /media/yuncong/BstemAtlasData/CSHL_data_processed/ChatCryoJane201710/ChatCryoJane201710_prep2_lossless_Ntb/ChatCryoJane201710_slide24-S1_prep2_lossless_Ntb.tif -crop 2000x2000+8137+3961 /tmp/tmp.tif\n",
      "Region 9: x=3843, y=8435, w=2000, h=2000\n",
      "convert /media/yuncong/BstemAtlasData/CSHL_data_processed/ChatCryoJane201710/ChatCryoJane201710_prep2_lossless_Ntb/ChatCryoJane201710_slide23-S1_prep2_lossless_Ntb.tif -crop 2000x2000+3843+8435 /tmp/tmp.tif\n",
      "convert /media/yuncong/BstemAtlasData/CSHL_data_processed/ChatCryoJane201710/ChatCryoJane201710_prep2_lossless_Ntb/ChatCryoJane201710_slide24-S1_prep2_lossless_Ntb.tif -crop 2000x2000+3843+8435 /tmp/tmp.tif\n",
      "aws s3 cp \"/media/yuncong/BstemAtlasData/CSHL_data_processed/ChatCryoJane201710/ChatCryoJane201710_intensity_mapping/ChatCryoJane201710_slide24-S1_to_ChatCryoJane201710_slide23-S1_intensity_mapping_all_regions.npy\" \"s3://mousebrainatlas-data/CSHL_data_processed/ChatCryoJane201710/ChatCryoJane201710_intensity_mapping/ChatCryoJane201710_slide24-S1_to_ChatCryoJane201710_slide23-S1_intensity_mapping_all_regions.npy\"\n",
      "aws s3 cp \"/media/yuncong/BstemAtlasData/CSHL_data_processed/ChatCryoJane201710/ChatCryoJane201710_intensity_mapping/ChatCryoJane201710_slide24-S1_to_ChatCryoJane201710_slide23-S1_region_bboxes.npy\" \"s3://mousebrainatlas-data/CSHL_data_processed/ChatCryoJane201710/ChatCryoJane201710_intensity_mapping/ChatCryoJane201710_slide24-S1_to_ChatCryoJane201710_slide23-S1_region_bboxes.npy\"\n"
     ]
    },
    {
     "name": "stderr",
     "output_type": "stream",
     "text": [
      "ntb 68, ntb 69\n"
     ]
    },
    {
     "name": "stdout",
     "output_type": "stream",
     "text": [
      "rm -rf \"/media/yuncong/BstemAtlasData/CSHL_data_processed/ChatCryoJane201710/ChatCryoJane201710_prep2_thumbnail_mask/ChatCryoJane201710_slide24-S1_prep2_thumbnail_mask.png\" && mkdir -p \"/media/yuncong/BstemAtlasData/CSHL_data_processed/ChatCryoJane201710/ChatCryoJane201710_prep2_thumbnail_mask\"\n",
      "aws s3 cp \"s3://mousebrainatlas-data/CSHL_data_processed/ChatCryoJane201710/ChatCryoJane201710_prep2_thumbnail_mask/ChatCryoJane201710_slide24-S1_prep2_thumbnail_mask.png\" \"/media/yuncong/BstemAtlasData/CSHL_data_processed/ChatCryoJane201710/ChatCryoJane201710_prep2_thumbnail_mask/ChatCryoJane201710_slide24-S1_prep2_thumbnail_mask.png\"\n"
     ]
    },
    {
     "name": "stderr",
     "output_type": "stream",
     "text": [
      "Load NTB1: 0.00 seconds.\n",
      "Load NTB2: 0.00 seconds.\n"
     ]
    },
    {
     "name": "stdout",
     "output_type": "stream",
     "text": [
      "Region 0: x=14656, y=8096, w=2000, h=2000\n",
      "convert /media/yuncong/BstemAtlasData/CSHL_data_processed/ChatCryoJane201710/ChatCryoJane201710_prep2_lossless_Ntb/ChatCryoJane201710_slide24-S1_prep2_lossless_Ntb.tif -crop 2000x2000+14656+8096 /tmp/tmp.tif\n",
      "convert /media/yuncong/BstemAtlasData/CSHL_data_processed/ChatCryoJane201710/ChatCryoJane201710_prep2_lossless_Ntb/ChatCryoJane201710_slide23-S2_prep2_lossless_Ntb.tif -crop 2000x2000+14656+8096 /tmp/tmp.tif\n",
      "Region 1: x=1269, y=8868, w=2000, h=2000\n",
      "convert /media/yuncong/BstemAtlasData/CSHL_data_processed/ChatCryoJane201710/ChatCryoJane201710_prep2_lossless_Ntb/ChatCryoJane201710_slide24-S1_prep2_lossless_Ntb.tif -crop 2000x2000+1269+8868 /tmp/tmp.tif\n",
      "convert /media/yuncong/BstemAtlasData/CSHL_data_processed/ChatCryoJane201710/ChatCryoJane201710_prep2_lossless_Ntb/ChatCryoJane201710_slide23-S2_prep2_lossless_Ntb.tif -crop 2000x2000+1269+8868 /tmp/tmp.tif\n",
      "Region 2: x=7374, y=6632, w=2000, h=2000\n",
      "convert /media/yuncong/BstemAtlasData/CSHL_data_processed/ChatCryoJane201710/ChatCryoJane201710_prep2_lossless_Ntb/ChatCryoJane201710_slide24-S1_prep2_lossless_Ntb.tif -crop 2000x2000+7374+6632 /tmp/tmp.tif\n",
      "convert /media/yuncong/BstemAtlasData/CSHL_data_processed/ChatCryoJane201710/ChatCryoJane201710_prep2_lossless_Ntb/ChatCryoJane201710_slide23-S2_prep2_lossless_Ntb.tif -crop 2000x2000+7374+6632 /tmp/tmp.tif\n",
      "Region 3: x=982, y=4609, w=2000, h=2000\n",
      "convert /media/yuncong/BstemAtlasData/CSHL_data_processed/ChatCryoJane201710/ChatCryoJane201710_prep2_lossless_Ntb/ChatCryoJane201710_slide24-S1_prep2_lossless_Ntb.tif -crop 2000x2000+982+4609 /tmp/tmp.tif\n",
      "convert /media/yuncong/BstemAtlasData/CSHL_data_processed/ChatCryoJane201710/ChatCryoJane201710_prep2_lossless_Ntb/ChatCryoJane201710_slide23-S2_prep2_lossless_Ntb.tif -crop 2000x2000+982+4609 /tmp/tmp.tif\n",
      "Region 4: x=8976, y=4174, w=2000, h=2000\n",
      "convert /media/yuncong/BstemAtlasData/CSHL_data_processed/ChatCryoJane201710/ChatCryoJane201710_prep2_lossless_Ntb/ChatCryoJane201710_slide24-S1_prep2_lossless_Ntb.tif -crop 2000x2000+8976+4174 /tmp/tmp.tif\n",
      "convert /media/yuncong/BstemAtlasData/CSHL_data_processed/ChatCryoJane201710/ChatCryoJane201710_prep2_lossless_Ntb/ChatCryoJane201710_slide23-S2_prep2_lossless_Ntb.tif -crop 2000x2000+8976+4174 /tmp/tmp.tif\n",
      "Region 5: x=11147, y=2905, w=2000, h=2000\n",
      "convert /media/yuncong/BstemAtlasData/CSHL_data_processed/ChatCryoJane201710/ChatCryoJane201710_prep2_lossless_Ntb/ChatCryoJane201710_slide24-S1_prep2_lossless_Ntb.tif -crop 2000x2000+11147+2905 /tmp/tmp.tif\n",
      "convert /media/yuncong/BstemAtlasData/CSHL_data_processed/ChatCryoJane201710/ChatCryoJane201710_prep2_lossless_Ntb/ChatCryoJane201710_slide23-S2_prep2_lossless_Ntb.tif -crop 2000x2000+11147+2905 /tmp/tmp.tif\n",
      "Region 6: x=874, y=8819, w=2000, h=2000\n",
      "convert /media/yuncong/BstemAtlasData/CSHL_data_processed/ChatCryoJane201710/ChatCryoJane201710_prep2_lossless_Ntb/ChatCryoJane201710_slide24-S1_prep2_lossless_Ntb.tif -crop 2000x2000+874+8819 /tmp/tmp.tif\n",
      "convert /media/yuncong/BstemAtlasData/CSHL_data_processed/ChatCryoJane201710/ChatCryoJane201710_prep2_lossless_Ntb/ChatCryoJane201710_slide23-S2_prep2_lossless_Ntb.tif -crop 2000x2000+874+8819 /tmp/tmp.tif\n",
      "Region 7: x=72, y=8312, w=2000, h=2000\n",
      "convert /media/yuncong/BstemAtlasData/CSHL_data_processed/ChatCryoJane201710/ChatCryoJane201710_prep2_lossless_Ntb/ChatCryoJane201710_slide24-S1_prep2_lossless_Ntb.tif -crop 2000x2000+72+8312 /tmp/tmp.tif\n",
      "convert /media/yuncong/BstemAtlasData/CSHL_data_processed/ChatCryoJane201710/ChatCryoJane201710_prep2_lossless_Ntb/ChatCryoJane201710_slide23-S2_prep2_lossless_Ntb.tif -crop 2000x2000+72+8312 /tmp/tmp.tif\n",
      "Region 8: x=4424, y=1372, w=2000, h=2000\n",
      "convert /media/yuncong/BstemAtlasData/CSHL_data_processed/ChatCryoJane201710/ChatCryoJane201710_prep2_lossless_Ntb/ChatCryoJane201710_slide24-S1_prep2_lossless_Ntb.tif -crop 2000x2000+4424+1372 /tmp/tmp.tif\n",
      "convert /media/yuncong/BstemAtlasData/CSHL_data_processed/ChatCryoJane201710/ChatCryoJane201710_prep2_lossless_Ntb/ChatCryoJane201710_slide23-S2_prep2_lossless_Ntb.tif -crop 2000x2000+4424+1372 /tmp/tmp.tif\n",
      "Region 9: x=2481, y=11151, w=2000, h=2000\n",
      "convert /media/yuncong/BstemAtlasData/CSHL_data_processed/ChatCryoJane201710/ChatCryoJane201710_prep2_lossless_Ntb/ChatCryoJane201710_slide24-S1_prep2_lossless_Ntb.tif -crop 2000x2000+2481+11151 /tmp/tmp.tif\n",
      "convert /media/yuncong/BstemAtlasData/CSHL_data_processed/ChatCryoJane201710/ChatCryoJane201710_prep2_lossless_Ntb/ChatCryoJane201710_slide23-S2_prep2_lossless_Ntb.tif -crop 2000x2000+2481+11151 /tmp/tmp.tif\n",
      "aws s3 cp \"/media/yuncong/BstemAtlasData/CSHL_data_processed/ChatCryoJane201710/ChatCryoJane201710_intensity_mapping/ChatCryoJane201710_slide23-S2_to_ChatCryoJane201710_slide24-S1_intensity_mapping_all_regions.npy\" \"s3://mousebrainatlas-data/CSHL_data_processed/ChatCryoJane201710/ChatCryoJane201710_intensity_mapping/ChatCryoJane201710_slide23-S2_to_ChatCryoJane201710_slide24-S1_intensity_mapping_all_regions.npy\"\n",
      "aws s3 cp \"/media/yuncong/BstemAtlasData/CSHL_data_processed/ChatCryoJane201710/ChatCryoJane201710_intensity_mapping/ChatCryoJane201710_slide23-S2_to_ChatCryoJane201710_slide24-S1_region_bboxes.npy\" \"s3://mousebrainatlas-data/CSHL_data_processed/ChatCryoJane201710/ChatCryoJane201710_intensity_mapping/ChatCryoJane201710_slide23-S2_to_ChatCryoJane201710_slide24-S1_region_bboxes.npy\"\n"
     ]
    },
    {
     "name": "stderr",
     "output_type": "stream",
     "text": [
      "ntb 69, ntb 70\n"
     ]
    },
    {
     "name": "stdout",
     "output_type": "stream",
     "text": [
      "rm -rf \"/media/yuncong/BstemAtlasData/CSHL_data_processed/ChatCryoJane201710/ChatCryoJane201710_prep2_thumbnail_mask/ChatCryoJane201710_slide23-S2_prep2_thumbnail_mask.png\" && mkdir -p \"/media/yuncong/BstemAtlasData/CSHL_data_processed/ChatCryoJane201710/ChatCryoJane201710_prep2_thumbnail_mask\"\n",
      "aws s3 cp \"s3://mousebrainatlas-data/CSHL_data_processed/ChatCryoJane201710/ChatCryoJane201710_prep2_thumbnail_mask/ChatCryoJane201710_slide23-S2_prep2_thumbnail_mask.png\" \"/media/yuncong/BstemAtlasData/CSHL_data_processed/ChatCryoJane201710/ChatCryoJane201710_prep2_thumbnail_mask/ChatCryoJane201710_slide23-S2_prep2_thumbnail_mask.png\"\n"
     ]
    },
    {
     "name": "stderr",
     "output_type": "stream",
     "text": [
      "Load NTB1: 0.00 seconds.\n",
      "Load NTB2: 0.00 seconds.\n"
     ]
    },
    {
     "name": "stdout",
     "output_type": "stream",
     "text": [
      "Region 0: x=3448, y=9259, w=2000, h=2000\n",
      "convert /media/yuncong/BstemAtlasData/CSHL_data_processed/ChatCryoJane201710/ChatCryoJane201710_prep2_lossless_Ntb/ChatCryoJane201710_slide23-S2_prep2_lossless_Ntb.tif -crop 2000x2000+3448+9259 /tmp/tmp.tif\n",
      "convert /media/yuncong/BstemAtlasData/CSHL_data_processed/ChatCryoJane201710/ChatCryoJane201710_prep2_lossless_Ntb/ChatCryoJane201710_slide24-S2_prep2_lossless_Ntb.tif -crop 2000x2000+3448+9259 /tmp/tmp.tif\n",
      "Region 1: x=6223, y=5665, w=2000, h=2000\n",
      "convert /media/yuncong/BstemAtlasData/CSHL_data_processed/ChatCryoJane201710/ChatCryoJane201710_prep2_lossless_Ntb/ChatCryoJane201710_slide23-S2_prep2_lossless_Ntb.tif -crop 2000x2000+6223+5665 /tmp/tmp.tif\n",
      "convert /media/yuncong/BstemAtlasData/CSHL_data_processed/ChatCryoJane201710/ChatCryoJane201710_prep2_lossless_Ntb/ChatCryoJane201710_slide24-S2_prep2_lossless_Ntb.tif -crop 2000x2000+6223+5665 /tmp/tmp.tif\n",
      "Region 2: x=10126, y=3546, w=2000, h=2000\n",
      "convert /media/yuncong/BstemAtlasData/CSHL_data_processed/ChatCryoJane201710/ChatCryoJane201710_prep2_lossless_Ntb/ChatCryoJane201710_slide23-S2_prep2_lossless_Ntb.tif -crop 2000x2000+10126+3546 /tmp/tmp.tif\n",
      "convert /media/yuncong/BstemAtlasData/CSHL_data_processed/ChatCryoJane201710/ChatCryoJane201710_prep2_lossless_Ntb/ChatCryoJane201710_slide24-S2_prep2_lossless_Ntb.tif -crop 2000x2000+10126+3546 /tmp/tmp.tif\n",
      "Region 3: x=6486, y=2262, w=2000, h=2000\n",
      "convert /media/yuncong/BstemAtlasData/CSHL_data_processed/ChatCryoJane201710/ChatCryoJane201710_prep2_lossless_Ntb/ChatCryoJane201710_slide23-S2_prep2_lossless_Ntb.tif -crop 2000x2000+6486+2262 /tmp/tmp.tif\n",
      "convert /media/yuncong/BstemAtlasData/CSHL_data_processed/ChatCryoJane201710/ChatCryoJane201710_prep2_lossless_Ntb/ChatCryoJane201710_slide24-S2_prep2_lossless_Ntb.tif -crop 2000x2000+6486+2262 /tmp/tmp.tif\n",
      "Region 4: x=6530, y=5634, w=2000, h=2000\n",
      "convert /media/yuncong/BstemAtlasData/CSHL_data_processed/ChatCryoJane201710/ChatCryoJane201710_prep2_lossless_Ntb/ChatCryoJane201710_slide23-S2_prep2_lossless_Ntb.tif -crop 2000x2000+6530+5634 /tmp/tmp.tif\n",
      "convert /media/yuncong/BstemAtlasData/CSHL_data_processed/ChatCryoJane201710/ChatCryoJane201710_prep2_lossless_Ntb/ChatCryoJane201710_slide24-S2_prep2_lossless_Ntb.tif -crop 2000x2000+6530+5634 /tmp/tmp.tif\n",
      "Region 5: x=6357, y=8707, w=2000, h=2000\n",
      "convert /media/yuncong/BstemAtlasData/CSHL_data_processed/ChatCryoJane201710/ChatCryoJane201710_prep2_lossless_Ntb/ChatCryoJane201710_slide23-S2_prep2_lossless_Ntb.tif -crop 2000x2000+6357+8707 /tmp/tmp.tif\n",
      "convert /media/yuncong/BstemAtlasData/CSHL_data_processed/ChatCryoJane201710/ChatCryoJane201710_prep2_lossless_Ntb/ChatCryoJane201710_slide24-S2_prep2_lossless_Ntb.tif -crop 2000x2000+6357+8707 /tmp/tmp.tif\n",
      "Region 6: x=5754, y=4522, w=2000, h=2000\n",
      "convert /media/yuncong/BstemAtlasData/CSHL_data_processed/ChatCryoJane201710/ChatCryoJane201710_prep2_lossless_Ntb/ChatCryoJane201710_slide23-S2_prep2_lossless_Ntb.tif -crop 2000x2000+5754+4522 /tmp/tmp.tif\n",
      "convert /media/yuncong/BstemAtlasData/CSHL_data_processed/ChatCryoJane201710/ChatCryoJane201710_prep2_lossless_Ntb/ChatCryoJane201710_slide24-S2_prep2_lossless_Ntb.tif -crop 2000x2000+5754+4522 /tmp/tmp.tif\n",
      "Region 7: x=448, y=12775, w=2000, h=2000\n",
      "convert /media/yuncong/BstemAtlasData/CSHL_data_processed/ChatCryoJane201710/ChatCryoJane201710_prep2_lossless_Ntb/ChatCryoJane201710_slide23-S2_prep2_lossless_Ntb.tif -crop 2000x2000+448+12775 /tmp/tmp.tif\n",
      "convert /media/yuncong/BstemAtlasData/CSHL_data_processed/ChatCryoJane201710/ChatCryoJane201710_prep2_lossless_Ntb/ChatCryoJane201710_slide24-S2_prep2_lossless_Ntb.tif -crop 2000x2000+448+12775 /tmp/tmp.tif\n",
      "Region 8: x=15319, y=8462, w=2000, h=2000\n",
      "convert /media/yuncong/BstemAtlasData/CSHL_data_processed/ChatCryoJane201710/ChatCryoJane201710_prep2_lossless_Ntb/ChatCryoJane201710_slide23-S2_prep2_lossless_Ntb.tif -crop 2000x2000+15319+8462 /tmp/tmp.tif\n",
      "convert /media/yuncong/BstemAtlasData/CSHL_data_processed/ChatCryoJane201710/ChatCryoJane201710_prep2_lossless_Ntb/ChatCryoJane201710_slide24-S2_prep2_lossless_Ntb.tif -crop 2000x2000+15319+8462 /tmp/tmp.tif\n",
      "Region 9: x=4679, y=4984, w=2000, h=2000\n",
      "convert /media/yuncong/BstemAtlasData/CSHL_data_processed/ChatCryoJane201710/ChatCryoJane201710_prep2_lossless_Ntb/ChatCryoJane201710_slide23-S2_prep2_lossless_Ntb.tif -crop 2000x2000+4679+4984 /tmp/tmp.tif\n",
      "convert /media/yuncong/BstemAtlasData/CSHL_data_processed/ChatCryoJane201710/ChatCryoJane201710_prep2_lossless_Ntb/ChatCryoJane201710_slide24-S2_prep2_lossless_Ntb.tif -crop 2000x2000+4679+4984 /tmp/tmp.tif\n",
      "aws s3 cp \"/media/yuncong/BstemAtlasData/CSHL_data_processed/ChatCryoJane201710/ChatCryoJane201710_intensity_mapping/ChatCryoJane201710_slide24-S2_to_ChatCryoJane201710_slide23-S2_intensity_mapping_all_regions.npy\" \"s3://mousebrainatlas-data/CSHL_data_processed/ChatCryoJane201710/ChatCryoJane201710_intensity_mapping/ChatCryoJane201710_slide24-S2_to_ChatCryoJane201710_slide23-S2_intensity_mapping_all_regions.npy\"\n",
      "aws s3 cp \"/media/yuncong/BstemAtlasData/CSHL_data_processed/ChatCryoJane201710/ChatCryoJane201710_intensity_mapping/ChatCryoJane201710_slide24-S2_to_ChatCryoJane201710_slide23-S2_region_bboxes.npy\" \"s3://mousebrainatlas-data/CSHL_data_processed/ChatCryoJane201710/ChatCryoJane201710_intensity_mapping/ChatCryoJane201710_slide24-S2_to_ChatCryoJane201710_slide23-S2_region_bboxes.npy\"\n"
     ]
    },
    {
     "name": "stderr",
     "output_type": "stream",
     "text": [
      "ntb 70, ntb 71\n"
     ]
    },
    {
     "name": "stdout",
     "output_type": "stream",
     "text": [
      "rm -rf \"/media/yuncong/BstemAtlasData/CSHL_data_processed/ChatCryoJane201710/ChatCryoJane201710_prep2_thumbnail_mask/ChatCryoJane201710_slide24-S2_prep2_thumbnail_mask.png\" && mkdir -p \"/media/yuncong/BstemAtlasData/CSHL_data_processed/ChatCryoJane201710/ChatCryoJane201710_prep2_thumbnail_mask\"\n",
      "aws s3 cp \"s3://mousebrainatlas-data/CSHL_data_processed/ChatCryoJane201710/ChatCryoJane201710_prep2_thumbnail_mask/ChatCryoJane201710_slide24-S2_prep2_thumbnail_mask.png\" \"/media/yuncong/BstemAtlasData/CSHL_data_processed/ChatCryoJane201710/ChatCryoJane201710_prep2_thumbnail_mask/ChatCryoJane201710_slide24-S2_prep2_thumbnail_mask.png\"\n"
     ]
    },
    {
     "name": "stderr",
     "output_type": "stream",
     "text": [
      "Load NTB1: 0.00 seconds.\n",
      "Load NTB2: 0.00 seconds.\n"
     ]
    },
    {
     "name": "stdout",
     "output_type": "stream",
     "text": [
      "Region 0: x=9924, y=12491, w=2000, h=2000\n",
      "convert /media/yuncong/BstemAtlasData/CSHL_data_processed/ChatCryoJane201710/ChatCryoJane201710_prep2_lossless_Ntb/ChatCryoJane201710_slide24-S2_prep2_lossless_Ntb.tif -crop 2000x2000+9924+12491 /tmp/tmp.tif\n",
      "convert /media/yuncong/BstemAtlasData/CSHL_data_processed/ChatCryoJane201710/ChatCryoJane201710_prep2_lossless_Ntb/ChatCryoJane201710_slide23-S3_prep2_lossless_Ntb.tif -crop 2000x2000+9924+12491 /tmp/tmp.tif\n",
      "Region 1: x=7173, y=6964, w=2000, h=2000\n",
      "convert /media/yuncong/BstemAtlasData/CSHL_data_processed/ChatCryoJane201710/ChatCryoJane201710_prep2_lossless_Ntb/ChatCryoJane201710_slide24-S2_prep2_lossless_Ntb.tif -crop 2000x2000+7173+6964 /tmp/tmp.tif\n",
      "convert /media/yuncong/BstemAtlasData/CSHL_data_processed/ChatCryoJane201710/ChatCryoJane201710_prep2_lossless_Ntb/ChatCryoJane201710_slide23-S3_prep2_lossless_Ntb.tif -crop 2000x2000+7173+6964 /tmp/tmp.tif\n",
      "Region 2: x=15578, y=3967, w=2000, h=2000\n",
      "convert /media/yuncong/BstemAtlasData/CSHL_data_processed/ChatCryoJane201710/ChatCryoJane201710_prep2_lossless_Ntb/ChatCryoJane201710_slide24-S2_prep2_lossless_Ntb.tif -crop 2000x2000+15578+3967 /tmp/tmp.tif\n",
      "convert /media/yuncong/BstemAtlasData/CSHL_data_processed/ChatCryoJane201710/ChatCryoJane201710_prep2_lossless_Ntb/ChatCryoJane201710_slide23-S3_prep2_lossless_Ntb.tif -crop 2000x2000+15578+3967 /tmp/tmp.tif\n",
      "Region 3: x=11436, y=11428, w=2000, h=2000\n",
      "convert /media/yuncong/BstemAtlasData/CSHL_data_processed/ChatCryoJane201710/ChatCryoJane201710_prep2_lossless_Ntb/ChatCryoJane201710_slide24-S2_prep2_lossless_Ntb.tif -crop 2000x2000+11436+11428 /tmp/tmp.tif\n",
      "convert /media/yuncong/BstemAtlasData/CSHL_data_processed/ChatCryoJane201710/ChatCryoJane201710_prep2_lossless_Ntb/ChatCryoJane201710_slide23-S3_prep2_lossless_Ntb.tif -crop 2000x2000+11436+11428 /tmp/tmp.tif\n",
      "Region 4: x=10583, y=4915, w=2000, h=2000\n",
      "convert /media/yuncong/BstemAtlasData/CSHL_data_processed/ChatCryoJane201710/ChatCryoJane201710_prep2_lossless_Ntb/ChatCryoJane201710_slide24-S2_prep2_lossless_Ntb.tif -crop 2000x2000+10583+4915 /tmp/tmp.tif\n",
      "convert /media/yuncong/BstemAtlasData/CSHL_data_processed/ChatCryoJane201710/ChatCryoJane201710_prep2_lossless_Ntb/ChatCryoJane201710_slide23-S3_prep2_lossless_Ntb.tif -crop 2000x2000+10583+4915 /tmp/tmp.tif\n",
      "Region 5: x=2134, y=14250, w=2000, h=2000\n",
      "convert /media/yuncong/BstemAtlasData/CSHL_data_processed/ChatCryoJane201710/ChatCryoJane201710_prep2_lossless_Ntb/ChatCryoJane201710_slide24-S2_prep2_lossless_Ntb.tif -crop 2000x2000+2134+14250 /tmp/tmp.tif\n",
      "convert /media/yuncong/BstemAtlasData/CSHL_data_processed/ChatCryoJane201710/ChatCryoJane201710_prep2_lossless_Ntb/ChatCryoJane201710_slide23-S3_prep2_lossless_Ntb.tif -crop 2000x2000+2134+14250 /tmp/tmp.tif\n",
      "Region 6: x=12159, y=8442, w=2000, h=2000\n",
      "convert /media/yuncong/BstemAtlasData/CSHL_data_processed/ChatCryoJane201710/ChatCryoJane201710_prep2_lossless_Ntb/ChatCryoJane201710_slide24-S2_prep2_lossless_Ntb.tif -crop 2000x2000+12159+8442 /tmp/tmp.tif\n",
      "convert /media/yuncong/BstemAtlasData/CSHL_data_processed/ChatCryoJane201710/ChatCryoJane201710_prep2_lossless_Ntb/ChatCryoJane201710_slide23-S3_prep2_lossless_Ntb.tif -crop 2000x2000+12159+8442 /tmp/tmp.tif\n",
      "Region 7: x=3976, y=4836, w=2000, h=2000\n",
      "convert /media/yuncong/BstemAtlasData/CSHL_data_processed/ChatCryoJane201710/ChatCryoJane201710_prep2_lossless_Ntb/ChatCryoJane201710_slide24-S2_prep2_lossless_Ntb.tif -crop 2000x2000+3976+4836 /tmp/tmp.tif\n",
      "convert /media/yuncong/BstemAtlasData/CSHL_data_processed/ChatCryoJane201710/ChatCryoJane201710_prep2_lossless_Ntb/ChatCryoJane201710_slide23-S3_prep2_lossless_Ntb.tif -crop 2000x2000+3976+4836 /tmp/tmp.tif\n",
      "Region 8: x=15200, y=13847, w=2000, h=2000\n",
      "convert /media/yuncong/BstemAtlasData/CSHL_data_processed/ChatCryoJane201710/ChatCryoJane201710_prep2_lossless_Ntb/ChatCryoJane201710_slide24-S2_prep2_lossless_Ntb.tif -crop 2000x2000+15200+13847 /tmp/tmp.tif\n",
      "convert /media/yuncong/BstemAtlasData/CSHL_data_processed/ChatCryoJane201710/ChatCryoJane201710_prep2_lossless_Ntb/ChatCryoJane201710_slide23-S3_prep2_lossless_Ntb.tif -crop 2000x2000+15200+13847 /tmp/tmp.tif\n",
      "Region 9: x=8260, y=11995, w=2000, h=2000\n",
      "convert /media/yuncong/BstemAtlasData/CSHL_data_processed/ChatCryoJane201710/ChatCryoJane201710_prep2_lossless_Ntb/ChatCryoJane201710_slide24-S2_prep2_lossless_Ntb.tif -crop 2000x2000+8260+11995 /tmp/tmp.tif\n",
      "convert /media/yuncong/BstemAtlasData/CSHL_data_processed/ChatCryoJane201710/ChatCryoJane201710_prep2_lossless_Ntb/ChatCryoJane201710_slide23-S3_prep2_lossless_Ntb.tif -crop 2000x2000+8260+11995 /tmp/tmp.tif\n",
      "aws s3 cp \"/media/yuncong/BstemAtlasData/CSHL_data_processed/ChatCryoJane201710/ChatCryoJane201710_intensity_mapping/ChatCryoJane201710_slide23-S3_to_ChatCryoJane201710_slide24-S2_intensity_mapping_all_regions.npy\" \"s3://mousebrainatlas-data/CSHL_data_processed/ChatCryoJane201710/ChatCryoJane201710_intensity_mapping/ChatCryoJane201710_slide23-S3_to_ChatCryoJane201710_slide24-S2_intensity_mapping_all_regions.npy\"\n",
      "aws s3 cp \"/media/yuncong/BstemAtlasData/CSHL_data_processed/ChatCryoJane201710/ChatCryoJane201710_intensity_mapping/ChatCryoJane201710_slide23-S3_to_ChatCryoJane201710_slide24-S2_region_bboxes.npy\" \"s3://mousebrainatlas-data/CSHL_data_processed/ChatCryoJane201710/ChatCryoJane201710_intensity_mapping/ChatCryoJane201710_slide23-S3_to_ChatCryoJane201710_slide24-S2_region_bboxes.npy\"\n"
     ]
    },
    {
     "name": "stderr",
     "output_type": "stream",
     "text": [
      "ntb 71, ntb 72\n"
     ]
    },
    {
     "name": "stdout",
     "output_type": "stream",
     "text": [
      "rm -rf \"/media/yuncong/BstemAtlasData/CSHL_data_processed/ChatCryoJane201710/ChatCryoJane201710_prep2_thumbnail_mask/ChatCryoJane201710_slide23-S3_prep2_thumbnail_mask.png\" && mkdir -p \"/media/yuncong/BstemAtlasData/CSHL_data_processed/ChatCryoJane201710/ChatCryoJane201710_prep2_thumbnail_mask\"\n",
      "aws s3 cp \"s3://mousebrainatlas-data/CSHL_data_processed/ChatCryoJane201710/ChatCryoJane201710_prep2_thumbnail_mask/ChatCryoJane201710_slide23-S3_prep2_thumbnail_mask.png\" \"/media/yuncong/BstemAtlasData/CSHL_data_processed/ChatCryoJane201710/ChatCryoJane201710_prep2_thumbnail_mask/ChatCryoJane201710_slide23-S3_prep2_thumbnail_mask.png\"\n"
     ]
    },
    {
     "name": "stderr",
     "output_type": "stream",
     "text": [
      "Load NTB1: 0.00 seconds.\n",
      "Load NTB2: 0.00 seconds.\n"
     ]
    },
    {
     "name": "stdout",
     "output_type": "stream",
     "text": [
      "Region 0: x=10817, y=4961, w=2000, h=2000\n",
      "convert /media/yuncong/BstemAtlasData/CSHL_data_processed/ChatCryoJane201710/ChatCryoJane201710_prep2_lossless_Ntb/ChatCryoJane201710_slide23-S3_prep2_lossless_Ntb.tif -crop 2000x2000+10817+4961 /tmp/tmp.tif\n",
      "convert /media/yuncong/BstemAtlasData/CSHL_data_processed/ChatCryoJane201710/ChatCryoJane201710_prep2_lossless_Ntb/ChatCryoJane201710_slide24-S3_prep2_lossless_Ntb.tif -crop 2000x2000+10817+4961 /tmp/tmp.tif\n",
      "Region 1: x=12942, y=6820, w=2000, h=2000\n",
      "convert /media/yuncong/BstemAtlasData/CSHL_data_processed/ChatCryoJane201710/ChatCryoJane201710_prep2_lossless_Ntb/ChatCryoJane201710_slide23-S3_prep2_lossless_Ntb.tif -crop 2000x2000+12942+6820 /tmp/tmp.tif\n",
      "convert /media/yuncong/BstemAtlasData/CSHL_data_processed/ChatCryoJane201710/ChatCryoJane201710_prep2_lossless_Ntb/ChatCryoJane201710_slide24-S3_prep2_lossless_Ntb.tif -crop 2000x2000+12942+6820 /tmp/tmp.tif\n",
      "Region 2: x=4719, y=6955, w=2000, h=2000\n",
      "convert /media/yuncong/BstemAtlasData/CSHL_data_processed/ChatCryoJane201710/ChatCryoJane201710_prep2_lossless_Ntb/ChatCryoJane201710_slide23-S3_prep2_lossless_Ntb.tif -crop 2000x2000+4719+6955 /tmp/tmp.tif\n",
      "convert /media/yuncong/BstemAtlasData/CSHL_data_processed/ChatCryoJane201710/ChatCryoJane201710_prep2_lossless_Ntb/ChatCryoJane201710_slide24-S3_prep2_lossless_Ntb.tif -crop 2000x2000+4719+6955 /tmp/tmp.tif\n",
      "Region 3: x=6119, y=11742, w=2000, h=2000\n",
      "convert /media/yuncong/BstemAtlasData/CSHL_data_processed/ChatCryoJane201710/ChatCryoJane201710_prep2_lossless_Ntb/ChatCryoJane201710_slide23-S3_prep2_lossless_Ntb.tif -crop 2000x2000+6119+11742 /tmp/tmp.tif\n",
      "convert /media/yuncong/BstemAtlasData/CSHL_data_processed/ChatCryoJane201710/ChatCryoJane201710_prep2_lossless_Ntb/ChatCryoJane201710_slide24-S3_prep2_lossless_Ntb.tif -crop 2000x2000+6119+11742 /tmp/tmp.tif\n",
      "Region 4: x=3123, y=6908, w=2000, h=2000\n",
      "convert /media/yuncong/BstemAtlasData/CSHL_data_processed/ChatCryoJane201710/ChatCryoJane201710_prep2_lossless_Ntb/ChatCryoJane201710_slide23-S3_prep2_lossless_Ntb.tif -crop 2000x2000+3123+6908 /tmp/tmp.tif\n",
      "convert /media/yuncong/BstemAtlasData/CSHL_data_processed/ChatCryoJane201710/ChatCryoJane201710_prep2_lossless_Ntb/ChatCryoJane201710_slide24-S3_prep2_lossless_Ntb.tif -crop 2000x2000+3123+6908 /tmp/tmp.tif\n",
      "Region 5: x=3609, y=7953, w=2000, h=2000\n",
      "convert /media/yuncong/BstemAtlasData/CSHL_data_processed/ChatCryoJane201710/ChatCryoJane201710_prep2_lossless_Ntb/ChatCryoJane201710_slide23-S3_prep2_lossless_Ntb.tif -crop 2000x2000+3609+7953 /tmp/tmp.tif\n",
      "convert /media/yuncong/BstemAtlasData/CSHL_data_processed/ChatCryoJane201710/ChatCryoJane201710_prep2_lossless_Ntb/ChatCryoJane201710_slide24-S3_prep2_lossless_Ntb.tif -crop 2000x2000+3609+7953 /tmp/tmp.tif\n",
      "Region 6: x=3832, y=598, w=2000, h=2000\n",
      "convert /media/yuncong/BstemAtlasData/CSHL_data_processed/ChatCryoJane201710/ChatCryoJane201710_prep2_lossless_Ntb/ChatCryoJane201710_slide23-S3_prep2_lossless_Ntb.tif -crop 2000x2000+3832+598 /tmp/tmp.tif\n",
      "convert /media/yuncong/BstemAtlasData/CSHL_data_processed/ChatCryoJane201710/ChatCryoJane201710_prep2_lossless_Ntb/ChatCryoJane201710_slide24-S3_prep2_lossless_Ntb.tif -crop 2000x2000+3832+598 /tmp/tmp.tif\n",
      "Region 7: x=2298, y=9884, w=2000, h=2000\n",
      "convert /media/yuncong/BstemAtlasData/CSHL_data_processed/ChatCryoJane201710/ChatCryoJane201710_prep2_lossless_Ntb/ChatCryoJane201710_slide23-S3_prep2_lossless_Ntb.tif -crop 2000x2000+2298+9884 /tmp/tmp.tif\n",
      "convert /media/yuncong/BstemAtlasData/CSHL_data_processed/ChatCryoJane201710/ChatCryoJane201710_prep2_lossless_Ntb/ChatCryoJane201710_slide24-S3_prep2_lossless_Ntb.tif -crop 2000x2000+2298+9884 /tmp/tmp.tif\n",
      "Region 8: x=10031, y=1902, w=2000, h=2000\n",
      "convert /media/yuncong/BstemAtlasData/CSHL_data_processed/ChatCryoJane201710/ChatCryoJane201710_prep2_lossless_Ntb/ChatCryoJane201710_slide23-S3_prep2_lossless_Ntb.tif -crop 2000x2000+10031+1902 /tmp/tmp.tif\n",
      "convert /media/yuncong/BstemAtlasData/CSHL_data_processed/ChatCryoJane201710/ChatCryoJane201710_prep2_lossless_Ntb/ChatCryoJane201710_slide24-S3_prep2_lossless_Ntb.tif -crop 2000x2000+10031+1902 /tmp/tmp.tif\n",
      "Region 9: x=10683, y=6709, w=2000, h=2000\n",
      "convert /media/yuncong/BstemAtlasData/CSHL_data_processed/ChatCryoJane201710/ChatCryoJane201710_prep2_lossless_Ntb/ChatCryoJane201710_slide23-S3_prep2_lossless_Ntb.tif -crop 2000x2000+10683+6709 /tmp/tmp.tif\n",
      "convert /media/yuncong/BstemAtlasData/CSHL_data_processed/ChatCryoJane201710/ChatCryoJane201710_prep2_lossless_Ntb/ChatCryoJane201710_slide24-S3_prep2_lossless_Ntb.tif -crop 2000x2000+10683+6709 /tmp/tmp.tif\n",
      "aws s3 cp \"/media/yuncong/BstemAtlasData/CSHL_data_processed/ChatCryoJane201710/ChatCryoJane201710_intensity_mapping/ChatCryoJane201710_slide24-S3_to_ChatCryoJane201710_slide23-S3_intensity_mapping_all_regions.npy\" \"s3://mousebrainatlas-data/CSHL_data_processed/ChatCryoJane201710/ChatCryoJane201710_intensity_mapping/ChatCryoJane201710_slide24-S3_to_ChatCryoJane201710_slide23-S3_intensity_mapping_all_regions.npy\"\n",
      "aws s3 cp \"/media/yuncong/BstemAtlasData/CSHL_data_processed/ChatCryoJane201710/ChatCryoJane201710_intensity_mapping/ChatCryoJane201710_slide24-S3_to_ChatCryoJane201710_slide23-S3_region_bboxes.npy\" \"s3://mousebrainatlas-data/CSHL_data_processed/ChatCryoJane201710/ChatCryoJane201710_intensity_mapping/ChatCryoJane201710_slide24-S3_to_ChatCryoJane201710_slide23-S3_region_bboxes.npy\"\n"
     ]
    },
    {
     "name": "stderr",
     "output_type": "stream",
     "text": [
      "ntb 72, ntb 73\n"
     ]
    },
    {
     "name": "stdout",
     "output_type": "stream",
     "text": [
      "rm -rf \"/media/yuncong/BstemAtlasData/CSHL_data_processed/ChatCryoJane201710/ChatCryoJane201710_prep2_thumbnail_mask/ChatCryoJane201710_slide24-S3_prep2_thumbnail_mask.png\" && mkdir -p \"/media/yuncong/BstemAtlasData/CSHL_data_processed/ChatCryoJane201710/ChatCryoJane201710_prep2_thumbnail_mask\"\n",
      "aws s3 cp \"s3://mousebrainatlas-data/CSHL_data_processed/ChatCryoJane201710/ChatCryoJane201710_prep2_thumbnail_mask/ChatCryoJane201710_slide24-S3_prep2_thumbnail_mask.png\" \"/media/yuncong/BstemAtlasData/CSHL_data_processed/ChatCryoJane201710/ChatCryoJane201710_prep2_thumbnail_mask/ChatCryoJane201710_slide24-S3_prep2_thumbnail_mask.png\"\n"
     ]
    },
    {
     "name": "stderr",
     "output_type": "stream",
     "text": [
      "Load NTB1: 0.00 seconds.\n",
      "Load NTB2: 0.00 seconds.\n"
     ]
    },
    {
     "name": "stdout",
     "output_type": "stream",
     "text": [
      "Region 0: x=7060, y=5350, w=2000, h=2000\n",
      "convert /media/yuncong/BstemAtlasData/CSHL_data_processed/ChatCryoJane201710/ChatCryoJane201710_prep2_lossless_Ntb/ChatCryoJane201710_slide24-S3_prep2_lossless_Ntb.tif -crop 2000x2000+7060+5350 /tmp/tmp.tif\n",
      "convert /media/yuncong/BstemAtlasData/CSHL_data_processed/ChatCryoJane201710/ChatCryoJane201710_prep2_lossless_Ntb/ChatCryoJane201710_slide25-S1_prep2_lossless_Ntb.tif -crop 2000x2000+7060+5350 /tmp/tmp.tif\n",
      "Region 1: x=13866, y=4214, w=2000, h=2000\n",
      "convert /media/yuncong/BstemAtlasData/CSHL_data_processed/ChatCryoJane201710/ChatCryoJane201710_prep2_lossless_Ntb/ChatCryoJane201710_slide24-S3_prep2_lossless_Ntb.tif -crop 2000x2000+13866+4214 /tmp/tmp.tif\n",
      "convert /media/yuncong/BstemAtlasData/CSHL_data_processed/ChatCryoJane201710/ChatCryoJane201710_prep2_lossless_Ntb/ChatCryoJane201710_slide25-S1_prep2_lossless_Ntb.tif -crop 2000x2000+13866+4214 /tmp/tmp.tif\n",
      "Region 2: x=4873, y=11589, w=2000, h=2000\n",
      "convert /media/yuncong/BstemAtlasData/CSHL_data_processed/ChatCryoJane201710/ChatCryoJane201710_prep2_lossless_Ntb/ChatCryoJane201710_slide24-S3_prep2_lossless_Ntb.tif -crop 2000x2000+4873+11589 /tmp/tmp.tif\n",
      "convert /media/yuncong/BstemAtlasData/CSHL_data_processed/ChatCryoJane201710/ChatCryoJane201710_prep2_lossless_Ntb/ChatCryoJane201710_slide25-S1_prep2_lossless_Ntb.tif -crop 2000x2000+4873+11589 /tmp/tmp.tif\n",
      "Region 3: x=12849, y=8082, w=2000, h=2000\n",
      "convert /media/yuncong/BstemAtlasData/CSHL_data_processed/ChatCryoJane201710/ChatCryoJane201710_prep2_lossless_Ntb/ChatCryoJane201710_slide24-S3_prep2_lossless_Ntb.tif -crop 2000x2000+12849+8082 /tmp/tmp.tif\n",
      "convert /media/yuncong/BstemAtlasData/CSHL_data_processed/ChatCryoJane201710/ChatCryoJane201710_prep2_lossless_Ntb/ChatCryoJane201710_slide25-S1_prep2_lossless_Ntb.tif -crop 2000x2000+12849+8082 /tmp/tmp.tif\n",
      "Region 4: x=11508, y=10141, w=2000, h=2000\n",
      "convert /media/yuncong/BstemAtlasData/CSHL_data_processed/ChatCryoJane201710/ChatCryoJane201710_prep2_lossless_Ntb/ChatCryoJane201710_slide24-S3_prep2_lossless_Ntb.tif -crop 2000x2000+11508+10141 /tmp/tmp.tif\n",
      "convert /media/yuncong/BstemAtlasData/CSHL_data_processed/ChatCryoJane201710/ChatCryoJane201710_prep2_lossless_Ntb/ChatCryoJane201710_slide25-S1_prep2_lossless_Ntb.tif -crop 2000x2000+11508+10141 /tmp/tmp.tif\n",
      "Region 5: x=2625, y=9876, w=2000, h=2000\n",
      "convert /media/yuncong/BstemAtlasData/CSHL_data_processed/ChatCryoJane201710/ChatCryoJane201710_prep2_lossless_Ntb/ChatCryoJane201710_slide24-S3_prep2_lossless_Ntb.tif -crop 2000x2000+2625+9876 /tmp/tmp.tif\n",
      "convert /media/yuncong/BstemAtlasData/CSHL_data_processed/ChatCryoJane201710/ChatCryoJane201710_prep2_lossless_Ntb/ChatCryoJane201710_slide25-S1_prep2_lossless_Ntb.tif -crop 2000x2000+2625+9876 /tmp/tmp.tif\n",
      "Region 6: x=77, y=7261, w=2000, h=2000\n",
      "convert /media/yuncong/BstemAtlasData/CSHL_data_processed/ChatCryoJane201710/ChatCryoJane201710_prep2_lossless_Ntb/ChatCryoJane201710_slide24-S3_prep2_lossless_Ntb.tif -crop 2000x2000+77+7261 /tmp/tmp.tif\n",
      "convert /media/yuncong/BstemAtlasData/CSHL_data_processed/ChatCryoJane201710/ChatCryoJane201710_prep2_lossless_Ntb/ChatCryoJane201710_slide25-S1_prep2_lossless_Ntb.tif -crop 2000x2000+77+7261 /tmp/tmp.tif\n",
      "Region 7: x=6721, y=12015, w=2000, h=2000\n",
      "convert /media/yuncong/BstemAtlasData/CSHL_data_processed/ChatCryoJane201710/ChatCryoJane201710_prep2_lossless_Ntb/ChatCryoJane201710_slide24-S3_prep2_lossless_Ntb.tif -crop 2000x2000+6721+12015 /tmp/tmp.tif\n",
      "convert /media/yuncong/BstemAtlasData/CSHL_data_processed/ChatCryoJane201710/ChatCryoJane201710_prep2_lossless_Ntb/ChatCryoJane201710_slide25-S1_prep2_lossless_Ntb.tif -crop 2000x2000+6721+12015 /tmp/tmp.tif\n",
      "Region 8: x=6019, y=629, w=2000, h=2000\n",
      "convert /media/yuncong/BstemAtlasData/CSHL_data_processed/ChatCryoJane201710/ChatCryoJane201710_prep2_lossless_Ntb/ChatCryoJane201710_slide24-S3_prep2_lossless_Ntb.tif -crop 2000x2000+6019+629 /tmp/tmp.tif\n",
      "convert /media/yuncong/BstemAtlasData/CSHL_data_processed/ChatCryoJane201710/ChatCryoJane201710_prep2_lossless_Ntb/ChatCryoJane201710_slide25-S1_prep2_lossless_Ntb.tif -crop 2000x2000+6019+629 /tmp/tmp.tif\n",
      "Region 9: x=16022, y=5981, w=2000, h=2000\n",
      "convert /media/yuncong/BstemAtlasData/CSHL_data_processed/ChatCryoJane201710/ChatCryoJane201710_prep2_lossless_Ntb/ChatCryoJane201710_slide24-S3_prep2_lossless_Ntb.tif -crop 2000x2000+16022+5981 /tmp/tmp.tif\n",
      "convert /media/yuncong/BstemAtlasData/CSHL_data_processed/ChatCryoJane201710/ChatCryoJane201710_prep2_lossless_Ntb/ChatCryoJane201710_slide25-S1_prep2_lossless_Ntb.tif -crop 2000x2000+16022+5981 /tmp/tmp.tif\n",
      "aws s3 cp \"/media/yuncong/BstemAtlasData/CSHL_data_processed/ChatCryoJane201710/ChatCryoJane201710_intensity_mapping/ChatCryoJane201710_slide25-S1_to_ChatCryoJane201710_slide24-S3_intensity_mapping_all_regions.npy\" \"s3://mousebrainatlas-data/CSHL_data_processed/ChatCryoJane201710/ChatCryoJane201710_intensity_mapping/ChatCryoJane201710_slide25-S1_to_ChatCryoJane201710_slide24-S3_intensity_mapping_all_regions.npy\"\n",
      "aws s3 cp \"/media/yuncong/BstemAtlasData/CSHL_data_processed/ChatCryoJane201710/ChatCryoJane201710_intensity_mapping/ChatCryoJane201710_slide25-S1_to_ChatCryoJane201710_slide24-S3_region_bboxes.npy\" \"s3://mousebrainatlas-data/CSHL_data_processed/ChatCryoJane201710/ChatCryoJane201710_intensity_mapping/ChatCryoJane201710_slide25-S1_to_ChatCryoJane201710_slide24-S3_region_bboxes.npy\"\n"
     ]
    },
    {
     "name": "stderr",
     "output_type": "stream",
     "text": [
      "ntb 73, ntb 74\n"
     ]
    },
    {
     "name": "stdout",
     "output_type": "stream",
     "text": [
      "rm -rf \"/media/yuncong/BstemAtlasData/CSHL_data_processed/ChatCryoJane201710/ChatCryoJane201710_prep2_thumbnail_mask/ChatCryoJane201710_slide25-S1_prep2_thumbnail_mask.png\" && mkdir -p \"/media/yuncong/BstemAtlasData/CSHL_data_processed/ChatCryoJane201710/ChatCryoJane201710_prep2_thumbnail_mask\"\n",
      "aws s3 cp \"s3://mousebrainatlas-data/CSHL_data_processed/ChatCryoJane201710/ChatCryoJane201710_prep2_thumbnail_mask/ChatCryoJane201710_slide25-S1_prep2_thumbnail_mask.png\" \"/media/yuncong/BstemAtlasData/CSHL_data_processed/ChatCryoJane201710/ChatCryoJane201710_prep2_thumbnail_mask/ChatCryoJane201710_slide25-S1_prep2_thumbnail_mask.png\"\n"
     ]
    },
    {
     "name": "stderr",
     "output_type": "stream",
     "text": [
      "Load NTB1: 0.00 seconds.\n",
      "Load NTB2: 0.00 seconds.\n"
     ]
    },
    {
     "name": "stdout",
     "output_type": "stream",
     "text": [
      "Region 0: x=2304, y=12330, w=2000, h=2000\n",
      "convert /media/yuncong/BstemAtlasData/CSHL_data_processed/ChatCryoJane201710/ChatCryoJane201710_prep2_lossless_Ntb/ChatCryoJane201710_slide25-S1_prep2_lossless_Ntb.tif -crop 2000x2000+2304+12330 /tmp/tmp.tif\n",
      "convert /media/yuncong/BstemAtlasData/CSHL_data_processed/ChatCryoJane201710/ChatCryoJane201710_prep2_lossless_Ntb/ChatCryoJane201710_slide26-S1_prep2_lossless_Ntb.tif -crop 2000x2000+2304+12330 /tmp/tmp.tif\n",
      "Region 1: x=413, y=7067, w=2000, h=2000\n",
      "convert /media/yuncong/BstemAtlasData/CSHL_data_processed/ChatCryoJane201710/ChatCryoJane201710_prep2_lossless_Ntb/ChatCryoJane201710_slide25-S1_prep2_lossless_Ntb.tif -crop 2000x2000+413+7067 /tmp/tmp.tif\n",
      "convert /media/yuncong/BstemAtlasData/CSHL_data_processed/ChatCryoJane201710/ChatCryoJane201710_prep2_lossless_Ntb/ChatCryoJane201710_slide26-S1_prep2_lossless_Ntb.tif -crop 2000x2000+413+7067 /tmp/tmp.tif\n",
      "Region 2: x=5696, y=10363, w=2000, h=2000\n",
      "convert /media/yuncong/BstemAtlasData/CSHL_data_processed/ChatCryoJane201710/ChatCryoJane201710_prep2_lossless_Ntb/ChatCryoJane201710_slide25-S1_prep2_lossless_Ntb.tif -crop 2000x2000+5696+10363 /tmp/tmp.tif\n",
      "convert /media/yuncong/BstemAtlasData/CSHL_data_processed/ChatCryoJane201710/ChatCryoJane201710_prep2_lossless_Ntb/ChatCryoJane201710_slide26-S1_prep2_lossless_Ntb.tif -crop 2000x2000+5696+10363 /tmp/tmp.tif\n",
      "Region 3: x=14021, y=7879, w=2000, h=2000\n",
      "convert /media/yuncong/BstemAtlasData/CSHL_data_processed/ChatCryoJane201710/ChatCryoJane201710_prep2_lossless_Ntb/ChatCryoJane201710_slide25-S1_prep2_lossless_Ntb.tif -crop 2000x2000+14021+7879 /tmp/tmp.tif\n",
      "convert /media/yuncong/BstemAtlasData/CSHL_data_processed/ChatCryoJane201710/ChatCryoJane201710_prep2_lossless_Ntb/ChatCryoJane201710_slide26-S1_prep2_lossless_Ntb.tif -crop 2000x2000+14021+7879 /tmp/tmp.tif\n",
      "Region 4: x=7540, y=11357, w=2000, h=2000\n",
      "convert /media/yuncong/BstemAtlasData/CSHL_data_processed/ChatCryoJane201710/ChatCryoJane201710_prep2_lossless_Ntb/ChatCryoJane201710_slide25-S1_prep2_lossless_Ntb.tif -crop 2000x2000+7540+11357 /tmp/tmp.tif\n",
      "convert /media/yuncong/BstemAtlasData/CSHL_data_processed/ChatCryoJane201710/ChatCryoJane201710_prep2_lossless_Ntb/ChatCryoJane201710_slide26-S1_prep2_lossless_Ntb.tif -crop 2000x2000+7540+11357 /tmp/tmp.tif\n",
      "Region 5: x=1861, y=9906, w=2000, h=2000\n",
      "convert /media/yuncong/BstemAtlasData/CSHL_data_processed/ChatCryoJane201710/ChatCryoJane201710_prep2_lossless_Ntb/ChatCryoJane201710_slide25-S1_prep2_lossless_Ntb.tif -crop 2000x2000+1861+9906 /tmp/tmp.tif\n",
      "convert /media/yuncong/BstemAtlasData/CSHL_data_processed/ChatCryoJane201710/ChatCryoJane201710_prep2_lossless_Ntb/ChatCryoJane201710_slide26-S1_prep2_lossless_Ntb.tif -crop 2000x2000+1861+9906 /tmp/tmp.tif\n",
      "Region 6: x=15202, y=5416, w=2000, h=2000\n",
      "convert /media/yuncong/BstemAtlasData/CSHL_data_processed/ChatCryoJane201710/ChatCryoJane201710_prep2_lossless_Ntb/ChatCryoJane201710_slide25-S1_prep2_lossless_Ntb.tif -crop 2000x2000+15202+5416 /tmp/tmp.tif\n",
      "convert /media/yuncong/BstemAtlasData/CSHL_data_processed/ChatCryoJane201710/ChatCryoJane201710_prep2_lossless_Ntb/ChatCryoJane201710_slide26-S1_prep2_lossless_Ntb.tif -crop 2000x2000+15202+5416 /tmp/tmp.tif\n",
      "Region 7: x=9770, y=9866, w=2000, h=2000\n",
      "convert /media/yuncong/BstemAtlasData/CSHL_data_processed/ChatCryoJane201710/ChatCryoJane201710_prep2_lossless_Ntb/ChatCryoJane201710_slide25-S1_prep2_lossless_Ntb.tif -crop 2000x2000+9770+9866 /tmp/tmp.tif\n",
      "convert /media/yuncong/BstemAtlasData/CSHL_data_processed/ChatCryoJane201710/ChatCryoJane201710_prep2_lossless_Ntb/ChatCryoJane201710_slide26-S1_prep2_lossless_Ntb.tif -crop 2000x2000+9770+9866 /tmp/tmp.tif\n",
      "Region 8: x=6090, y=9206, w=2000, h=2000\n",
      "convert /media/yuncong/BstemAtlasData/CSHL_data_processed/ChatCryoJane201710/ChatCryoJane201710_prep2_lossless_Ntb/ChatCryoJane201710_slide25-S1_prep2_lossless_Ntb.tif -crop 2000x2000+6090+9206 /tmp/tmp.tif\n",
      "convert /media/yuncong/BstemAtlasData/CSHL_data_processed/ChatCryoJane201710/ChatCryoJane201710_prep2_lossless_Ntb/ChatCryoJane201710_slide26-S1_prep2_lossless_Ntb.tif -crop 2000x2000+6090+9206 /tmp/tmp.tif\n",
      "Region 9: x=4636, y=9431, w=2000, h=2000\n",
      "convert /media/yuncong/BstemAtlasData/CSHL_data_processed/ChatCryoJane201710/ChatCryoJane201710_prep2_lossless_Ntb/ChatCryoJane201710_slide25-S1_prep2_lossless_Ntb.tif -crop 2000x2000+4636+9431 /tmp/tmp.tif\n",
      "convert /media/yuncong/BstemAtlasData/CSHL_data_processed/ChatCryoJane201710/ChatCryoJane201710_prep2_lossless_Ntb/ChatCryoJane201710_slide26-S1_prep2_lossless_Ntb.tif -crop 2000x2000+4636+9431 /tmp/tmp.tif\n",
      "aws s3 cp \"/media/yuncong/BstemAtlasData/CSHL_data_processed/ChatCryoJane201710/ChatCryoJane201710_intensity_mapping/ChatCryoJane201710_slide26-S1_to_ChatCryoJane201710_slide25-S1_intensity_mapping_all_regions.npy\" \"s3://mousebrainatlas-data/CSHL_data_processed/ChatCryoJane201710/ChatCryoJane201710_intensity_mapping/ChatCryoJane201710_slide26-S1_to_ChatCryoJane201710_slide25-S1_intensity_mapping_all_regions.npy\"\n",
      "aws s3 cp \"/media/yuncong/BstemAtlasData/CSHL_data_processed/ChatCryoJane201710/ChatCryoJane201710_intensity_mapping/ChatCryoJane201710_slide26-S1_to_ChatCryoJane201710_slide25-S1_region_bboxes.npy\" \"s3://mousebrainatlas-data/CSHL_data_processed/ChatCryoJane201710/ChatCryoJane201710_intensity_mapping/ChatCryoJane201710_slide26-S1_to_ChatCryoJane201710_slide25-S1_region_bboxes.npy\"\n"
     ]
    },
    {
     "name": "stderr",
     "output_type": "stream",
     "text": [
      "ntb 74, ntb 75\n"
     ]
    },
    {
     "name": "stdout",
     "output_type": "stream",
     "text": [
      "rm -rf \"/media/yuncong/BstemAtlasData/CSHL_data_processed/ChatCryoJane201710/ChatCryoJane201710_prep2_thumbnail_mask/ChatCryoJane201710_slide26-S1_prep2_thumbnail_mask.png\" && mkdir -p \"/media/yuncong/BstemAtlasData/CSHL_data_processed/ChatCryoJane201710/ChatCryoJane201710_prep2_thumbnail_mask\"\n",
      "aws s3 cp \"s3://mousebrainatlas-data/CSHL_data_processed/ChatCryoJane201710/ChatCryoJane201710_prep2_thumbnail_mask/ChatCryoJane201710_slide26-S1_prep2_thumbnail_mask.png\" \"/media/yuncong/BstemAtlasData/CSHL_data_processed/ChatCryoJane201710/ChatCryoJane201710_prep2_thumbnail_mask/ChatCryoJane201710_slide26-S1_prep2_thumbnail_mask.png\"\n"
     ]
    },
    {
     "name": "stderr",
     "output_type": "stream",
     "text": [
      "Load NTB1: 0.00 seconds.\n",
      "Load NTB2: 0.00 seconds.\n"
     ]
    },
    {
     "name": "stdout",
     "output_type": "stream",
     "text": [
      "Region 0: x=5370, y=1831, w=2000, h=2000\n",
      "convert /media/yuncong/BstemAtlasData/CSHL_data_processed/ChatCryoJane201710/ChatCryoJane201710_prep2_lossless_Ntb/ChatCryoJane201710_slide26-S1_prep2_lossless_Ntb.tif -crop 2000x2000+5370+1831 /tmp/tmp.tif\n",
      "convert /media/yuncong/BstemAtlasData/CSHL_data_processed/ChatCryoJane201710/ChatCryoJane201710_prep2_lossless_Ntb/ChatCryoJane201710_slide25-S2_prep2_lossless_Ntb.tif -crop 2000x2000+5370+1831 /tmp/tmp.tif\n",
      "Region 1: x=13600, y=10292, w=2000, h=2000\n",
      "convert /media/yuncong/BstemAtlasData/CSHL_data_processed/ChatCryoJane201710/ChatCryoJane201710_prep2_lossless_Ntb/ChatCryoJane201710_slide26-S1_prep2_lossless_Ntb.tif -crop 2000x2000+13600+10292 /tmp/tmp.tif\n",
      "convert /media/yuncong/BstemAtlasData/CSHL_data_processed/ChatCryoJane201710/ChatCryoJane201710_prep2_lossless_Ntb/ChatCryoJane201710_slide25-S2_prep2_lossless_Ntb.tif -crop 2000x2000+13600+10292 /tmp/tmp.tif\n",
      "Region 2: x=2680, y=1643, w=2000, h=2000\n",
      "convert /media/yuncong/BstemAtlasData/CSHL_data_processed/ChatCryoJane201710/ChatCryoJane201710_prep2_lossless_Ntb/ChatCryoJane201710_slide26-S1_prep2_lossless_Ntb.tif -crop 2000x2000+2680+1643 /tmp/tmp.tif\n",
      "convert /media/yuncong/BstemAtlasData/CSHL_data_processed/ChatCryoJane201710/ChatCryoJane201710_prep2_lossless_Ntb/ChatCryoJane201710_slide25-S2_prep2_lossless_Ntb.tif -crop 2000x2000+2680+1643 /tmp/tmp.tif\n",
      "Region 3: x=1190, y=13814, w=2000, h=2000\n",
      "convert /media/yuncong/BstemAtlasData/CSHL_data_processed/ChatCryoJane201710/ChatCryoJane201710_prep2_lossless_Ntb/ChatCryoJane201710_slide26-S1_prep2_lossless_Ntb.tif -crop 2000x2000+1190+13814 /tmp/tmp.tif\n",
      "convert /media/yuncong/BstemAtlasData/CSHL_data_processed/ChatCryoJane201710/ChatCryoJane201710_prep2_lossless_Ntb/ChatCryoJane201710_slide25-S2_prep2_lossless_Ntb.tif -crop 2000x2000+1190+13814 /tmp/tmp.tif\n",
      "Region 4: x=3376, y=8598, w=2000, h=2000\n",
      "convert /media/yuncong/BstemAtlasData/CSHL_data_processed/ChatCryoJane201710/ChatCryoJane201710_prep2_lossless_Ntb/ChatCryoJane201710_slide26-S1_prep2_lossless_Ntb.tif -crop 2000x2000+3376+8598 /tmp/tmp.tif\n",
      "convert /media/yuncong/BstemAtlasData/CSHL_data_processed/ChatCryoJane201710/ChatCryoJane201710_prep2_lossless_Ntb/ChatCryoJane201710_slide25-S2_prep2_lossless_Ntb.tif -crop 2000x2000+3376+8598 /tmp/tmp.tif\n",
      "Region 5: x=2889, y=9205, w=2000, h=2000\n",
      "convert /media/yuncong/BstemAtlasData/CSHL_data_processed/ChatCryoJane201710/ChatCryoJane201710_prep2_lossless_Ntb/ChatCryoJane201710_slide26-S1_prep2_lossless_Ntb.tif -crop 2000x2000+2889+9205 /tmp/tmp.tif\n",
      "convert /media/yuncong/BstemAtlasData/CSHL_data_processed/ChatCryoJane201710/ChatCryoJane201710_prep2_lossless_Ntb/ChatCryoJane201710_slide25-S2_prep2_lossless_Ntb.tif -crop 2000x2000+2889+9205 /tmp/tmp.tif\n",
      "Region 6: x=2927, y=9570, w=2000, h=2000\n",
      "convert /media/yuncong/BstemAtlasData/CSHL_data_processed/ChatCryoJane201710/ChatCryoJane201710_prep2_lossless_Ntb/ChatCryoJane201710_slide26-S1_prep2_lossless_Ntb.tif -crop 2000x2000+2927+9570 /tmp/tmp.tif\n",
      "convert /media/yuncong/BstemAtlasData/CSHL_data_processed/ChatCryoJane201710/ChatCryoJane201710_prep2_lossless_Ntb/ChatCryoJane201710_slide25-S2_prep2_lossless_Ntb.tif -crop 2000x2000+2927+9570 /tmp/tmp.tif\n",
      "Region 7: x=17198, y=9357, w=2000, h=2000\n",
      "convert /media/yuncong/BstemAtlasData/CSHL_data_processed/ChatCryoJane201710/ChatCryoJane201710_prep2_lossless_Ntb/ChatCryoJane201710_slide26-S1_prep2_lossless_Ntb.tif -crop 2000x2000+17198+9357 /tmp/tmp.tif\n",
      "convert /media/yuncong/BstemAtlasData/CSHL_data_processed/ChatCryoJane201710/ChatCryoJane201710_prep2_lossless_Ntb/ChatCryoJane201710_slide25-S2_prep2_lossless_Ntb.tif -crop 2000x2000+17198+9357 /tmp/tmp.tif\n",
      "Region 8: x=11936, y=9657, w=2000, h=2000\n",
      "convert /media/yuncong/BstemAtlasData/CSHL_data_processed/ChatCryoJane201710/ChatCryoJane201710_prep2_lossless_Ntb/ChatCryoJane201710_slide26-S1_prep2_lossless_Ntb.tif -crop 2000x2000+11936+9657 /tmp/tmp.tif\n",
      "convert /media/yuncong/BstemAtlasData/CSHL_data_processed/ChatCryoJane201710/ChatCryoJane201710_prep2_lossless_Ntb/ChatCryoJane201710_slide25-S2_prep2_lossless_Ntb.tif -crop 2000x2000+11936+9657 /tmp/tmp.tif\n",
      "Region 9: x=5220, y=12096, w=2000, h=2000\n",
      "convert /media/yuncong/BstemAtlasData/CSHL_data_processed/ChatCryoJane201710/ChatCryoJane201710_prep2_lossless_Ntb/ChatCryoJane201710_slide26-S1_prep2_lossless_Ntb.tif -crop 2000x2000+5220+12096 /tmp/tmp.tif\n",
      "convert /media/yuncong/BstemAtlasData/CSHL_data_processed/ChatCryoJane201710/ChatCryoJane201710_prep2_lossless_Ntb/ChatCryoJane201710_slide25-S2_prep2_lossless_Ntb.tif -crop 2000x2000+5220+12096 /tmp/tmp.tif\n",
      "aws s3 cp \"/media/yuncong/BstemAtlasData/CSHL_data_processed/ChatCryoJane201710/ChatCryoJane201710_intensity_mapping/ChatCryoJane201710_slide25-S2_to_ChatCryoJane201710_slide26-S1_intensity_mapping_all_regions.npy\" \"s3://mousebrainatlas-data/CSHL_data_processed/ChatCryoJane201710/ChatCryoJane201710_intensity_mapping/ChatCryoJane201710_slide25-S2_to_ChatCryoJane201710_slide26-S1_intensity_mapping_all_regions.npy\"\n",
      "aws s3 cp \"/media/yuncong/BstemAtlasData/CSHL_data_processed/ChatCryoJane201710/ChatCryoJane201710_intensity_mapping/ChatCryoJane201710_slide25-S2_to_ChatCryoJane201710_slide26-S1_region_bboxes.npy\" \"s3://mousebrainatlas-data/CSHL_data_processed/ChatCryoJane201710/ChatCryoJane201710_intensity_mapping/ChatCryoJane201710_slide25-S2_to_ChatCryoJane201710_slide26-S1_region_bboxes.npy\"\n"
     ]
    },
    {
     "name": "stderr",
     "output_type": "stream",
     "text": [
      "ntb 75, ntb 76\n"
     ]
    },
    {
     "name": "stdout",
     "output_type": "stream",
     "text": [
      "rm -rf \"/media/yuncong/BstemAtlasData/CSHL_data_processed/ChatCryoJane201710/ChatCryoJane201710_prep2_thumbnail_mask/ChatCryoJane201710_slide25-S2_prep2_thumbnail_mask.png\" && mkdir -p \"/media/yuncong/BstemAtlasData/CSHL_data_processed/ChatCryoJane201710/ChatCryoJane201710_prep2_thumbnail_mask\"\n",
      "aws s3 cp \"s3://mousebrainatlas-data/CSHL_data_processed/ChatCryoJane201710/ChatCryoJane201710_prep2_thumbnail_mask/ChatCryoJane201710_slide25-S2_prep2_thumbnail_mask.png\" \"/media/yuncong/BstemAtlasData/CSHL_data_processed/ChatCryoJane201710/ChatCryoJane201710_prep2_thumbnail_mask/ChatCryoJane201710_slide25-S2_prep2_thumbnail_mask.png\"\n"
     ]
    },
    {
     "name": "stderr",
     "output_type": "stream",
     "text": [
      "Load NTB1: 0.00 seconds.\n",
      "Load NTB2: 0.00 seconds.\n"
     ]
    },
    {
     "name": "stdout",
     "output_type": "stream",
     "text": [
      "Region 0: x=16624, y=12084, w=2000, h=2000\n",
      "convert /media/yuncong/BstemAtlasData/CSHL_data_processed/ChatCryoJane201710/ChatCryoJane201710_prep2_lossless_Ntb/ChatCryoJane201710_slide25-S2_prep2_lossless_Ntb.tif -crop 2000x2000+16624+12084 /tmp/tmp.tif\n",
      "convert /media/yuncong/BstemAtlasData/CSHL_data_processed/ChatCryoJane201710/ChatCryoJane201710_prep2_lossless_Ntb/ChatCryoJane201710_slide26-S2_prep2_lossless_Ntb.tif -crop 2000x2000+16624+12084 /tmp/tmp.tif\n",
      "Region 1: x=6206, y=2366, w=2000, h=2000\n",
      "convert /media/yuncong/BstemAtlasData/CSHL_data_processed/ChatCryoJane201710/ChatCryoJane201710_prep2_lossless_Ntb/ChatCryoJane201710_slide25-S2_prep2_lossless_Ntb.tif -crop 2000x2000+6206+2366 /tmp/tmp.tif\n",
      "convert /media/yuncong/BstemAtlasData/CSHL_data_processed/ChatCryoJane201710/ChatCryoJane201710_prep2_lossless_Ntb/ChatCryoJane201710_slide26-S2_prep2_lossless_Ntb.tif -crop 2000x2000+6206+2366 /tmp/tmp.tif\n",
      "Region 2: x=12031, y=6754, w=2000, h=2000\n",
      "convert /media/yuncong/BstemAtlasData/CSHL_data_processed/ChatCryoJane201710/ChatCryoJane201710_prep2_lossless_Ntb/ChatCryoJane201710_slide25-S2_prep2_lossless_Ntb.tif -crop 2000x2000+12031+6754 /tmp/tmp.tif\n",
      "convert /media/yuncong/BstemAtlasData/CSHL_data_processed/ChatCryoJane201710/ChatCryoJane201710_prep2_lossless_Ntb/ChatCryoJane201710_slide26-S2_prep2_lossless_Ntb.tif -crop 2000x2000+12031+6754 /tmp/tmp.tif\n",
      "Region 3: x=16259, y=13150, w=2000, h=2000\n",
      "convert /media/yuncong/BstemAtlasData/CSHL_data_processed/ChatCryoJane201710/ChatCryoJane201710_prep2_lossless_Ntb/ChatCryoJane201710_slide25-S2_prep2_lossless_Ntb.tif -crop 2000x2000+16259+13150 /tmp/tmp.tif\n",
      "convert /media/yuncong/BstemAtlasData/CSHL_data_processed/ChatCryoJane201710/ChatCryoJane201710_prep2_lossless_Ntb/ChatCryoJane201710_slide26-S2_prep2_lossless_Ntb.tif -crop 2000x2000+16259+13150 /tmp/tmp.tif\n",
      "Region 4: x=12568, y=3794, w=2000, h=2000\n",
      "convert /media/yuncong/BstemAtlasData/CSHL_data_processed/ChatCryoJane201710/ChatCryoJane201710_prep2_lossless_Ntb/ChatCryoJane201710_slide25-S2_prep2_lossless_Ntb.tif -crop 2000x2000+12568+3794 /tmp/tmp.tif\n",
      "convert /media/yuncong/BstemAtlasData/CSHL_data_processed/ChatCryoJane201710/ChatCryoJane201710_prep2_lossless_Ntb/ChatCryoJane201710_slide26-S2_prep2_lossless_Ntb.tif -crop 2000x2000+12568+3794 /tmp/tmp.tif\n",
      "Region 5: x=6421, y=4791, w=2000, h=2000\n",
      "convert /media/yuncong/BstemAtlasData/CSHL_data_processed/ChatCryoJane201710/ChatCryoJane201710_prep2_lossless_Ntb/ChatCryoJane201710_slide25-S2_prep2_lossless_Ntb.tif -crop 2000x2000+6421+4791 /tmp/tmp.tif\n",
      "convert /media/yuncong/BstemAtlasData/CSHL_data_processed/ChatCryoJane201710/ChatCryoJane201710_prep2_lossless_Ntb/ChatCryoJane201710_slide26-S2_prep2_lossless_Ntb.tif -crop 2000x2000+6421+4791 /tmp/tmp.tif\n",
      "Region 6: x=12309, y=7290, w=2000, h=2000\n",
      "convert /media/yuncong/BstemAtlasData/CSHL_data_processed/ChatCryoJane201710/ChatCryoJane201710_prep2_lossless_Ntb/ChatCryoJane201710_slide25-S2_prep2_lossless_Ntb.tif -crop 2000x2000+12309+7290 /tmp/tmp.tif\n",
      "convert /media/yuncong/BstemAtlasData/CSHL_data_processed/ChatCryoJane201710/ChatCryoJane201710_prep2_lossless_Ntb/ChatCryoJane201710_slide26-S2_prep2_lossless_Ntb.tif -crop 2000x2000+12309+7290 /tmp/tmp.tif\n",
      "Region 7: x=16648, y=5572, w=2000, h=2000\n",
      "convert /media/yuncong/BstemAtlasData/CSHL_data_processed/ChatCryoJane201710/ChatCryoJane201710_prep2_lossless_Ntb/ChatCryoJane201710_slide25-S2_prep2_lossless_Ntb.tif -crop 2000x2000+16648+5572 /tmp/tmp.tif\n",
      "convert /media/yuncong/BstemAtlasData/CSHL_data_processed/ChatCryoJane201710/ChatCryoJane201710_prep2_lossless_Ntb/ChatCryoJane201710_slide26-S2_prep2_lossless_Ntb.tif -crop 2000x2000+16648+5572 /tmp/tmp.tif\n",
      "Region 8: x=15119, y=3750, w=2000, h=2000\n",
      "convert /media/yuncong/BstemAtlasData/CSHL_data_processed/ChatCryoJane201710/ChatCryoJane201710_prep2_lossless_Ntb/ChatCryoJane201710_slide25-S2_prep2_lossless_Ntb.tif -crop 2000x2000+15119+3750 /tmp/tmp.tif\n",
      "convert /media/yuncong/BstemAtlasData/CSHL_data_processed/ChatCryoJane201710/ChatCryoJane201710_prep2_lossless_Ntb/ChatCryoJane201710_slide26-S2_prep2_lossless_Ntb.tif -crop 2000x2000+15119+3750 /tmp/tmp.tif\n",
      "Region 9: x=7094, y=7949, w=2000, h=2000\n",
      "convert /media/yuncong/BstemAtlasData/CSHL_data_processed/ChatCryoJane201710/ChatCryoJane201710_prep2_lossless_Ntb/ChatCryoJane201710_slide25-S2_prep2_lossless_Ntb.tif -crop 2000x2000+7094+7949 /tmp/tmp.tif\n",
      "convert /media/yuncong/BstemAtlasData/CSHL_data_processed/ChatCryoJane201710/ChatCryoJane201710_prep2_lossless_Ntb/ChatCryoJane201710_slide26-S2_prep2_lossless_Ntb.tif -crop 2000x2000+7094+7949 /tmp/tmp.tif\n",
      "aws s3 cp \"/media/yuncong/BstemAtlasData/CSHL_data_processed/ChatCryoJane201710/ChatCryoJane201710_intensity_mapping/ChatCryoJane201710_slide26-S2_to_ChatCryoJane201710_slide25-S2_intensity_mapping_all_regions.npy\" \"s3://mousebrainatlas-data/CSHL_data_processed/ChatCryoJane201710/ChatCryoJane201710_intensity_mapping/ChatCryoJane201710_slide26-S2_to_ChatCryoJane201710_slide25-S2_intensity_mapping_all_regions.npy\"\n",
      "aws s3 cp \"/media/yuncong/BstemAtlasData/CSHL_data_processed/ChatCryoJane201710/ChatCryoJane201710_intensity_mapping/ChatCryoJane201710_slide26-S2_to_ChatCryoJane201710_slide25-S2_region_bboxes.npy\" \"s3://mousebrainatlas-data/CSHL_data_processed/ChatCryoJane201710/ChatCryoJane201710_intensity_mapping/ChatCryoJane201710_slide26-S2_to_ChatCryoJane201710_slide25-S2_region_bboxes.npy\"\n"
     ]
    },
    {
     "name": "stderr",
     "output_type": "stream",
     "text": [
      "ntb 76, ntb 77\n"
     ]
    },
    {
     "name": "stdout",
     "output_type": "stream",
     "text": [
      "rm -rf \"/media/yuncong/BstemAtlasData/CSHL_data_processed/ChatCryoJane201710/ChatCryoJane201710_prep2_thumbnail_mask/ChatCryoJane201710_slide26-S2_prep2_thumbnail_mask.png\" && mkdir -p \"/media/yuncong/BstemAtlasData/CSHL_data_processed/ChatCryoJane201710/ChatCryoJane201710_prep2_thumbnail_mask\"\n",
      "aws s3 cp \"s3://mousebrainatlas-data/CSHL_data_processed/ChatCryoJane201710/ChatCryoJane201710_prep2_thumbnail_mask/ChatCryoJane201710_slide26-S2_prep2_thumbnail_mask.png\" \"/media/yuncong/BstemAtlasData/CSHL_data_processed/ChatCryoJane201710/ChatCryoJane201710_prep2_thumbnail_mask/ChatCryoJane201710_slide26-S2_prep2_thumbnail_mask.png\"\n"
     ]
    },
    {
     "name": "stderr",
     "output_type": "stream",
     "text": [
      "Load NTB1: 0.00 seconds.\n",
      "Load NTB2: 0.00 seconds.\n"
     ]
    },
    {
     "name": "stdout",
     "output_type": "stream",
     "text": [
      "Region 0: x=16482, y=10144, w=2000, h=2000\n",
      "convert /media/yuncong/BstemAtlasData/CSHL_data_processed/ChatCryoJane201710/ChatCryoJane201710_prep2_lossless_Ntb/ChatCryoJane201710_slide26-S2_prep2_lossless_Ntb.tif -crop 2000x2000+16482+10144 /tmp/tmp.tif\n",
      "convert /media/yuncong/BstemAtlasData/CSHL_data_processed/ChatCryoJane201710/ChatCryoJane201710_prep2_lossless_Ntb/ChatCryoJane201710_slide25-S3_prep2_lossless_Ntb.tif -crop 2000x2000+16482+10144 /tmp/tmp.tif\n",
      "Region 1: x=10761, y=5601, w=2000, h=2000\n",
      "convert /media/yuncong/BstemAtlasData/CSHL_data_processed/ChatCryoJane201710/ChatCryoJane201710_prep2_lossless_Ntb/ChatCryoJane201710_slide26-S2_prep2_lossless_Ntb.tif -crop 2000x2000+10761+5601 /tmp/tmp.tif\n",
      "convert /media/yuncong/BstemAtlasData/CSHL_data_processed/ChatCryoJane201710/ChatCryoJane201710_prep2_lossless_Ntb/ChatCryoJane201710_slide25-S3_prep2_lossless_Ntb.tif -crop 2000x2000+10761+5601 /tmp/tmp.tif\n",
      "Region 2: x=3879, y=5447, w=2000, h=2000\n",
      "convert /media/yuncong/BstemAtlasData/CSHL_data_processed/ChatCryoJane201710/ChatCryoJane201710_prep2_lossless_Ntb/ChatCryoJane201710_slide26-S2_prep2_lossless_Ntb.tif -crop 2000x2000+3879+5447 /tmp/tmp.tif\n",
      "convert /media/yuncong/BstemAtlasData/CSHL_data_processed/ChatCryoJane201710/ChatCryoJane201710_prep2_lossless_Ntb/ChatCryoJane201710_slide25-S3_prep2_lossless_Ntb.tif -crop 2000x2000+3879+5447 /tmp/tmp.tif\n",
      "Region 3: x=192, y=10615, w=2000, h=2000\n",
      "convert /media/yuncong/BstemAtlasData/CSHL_data_processed/ChatCryoJane201710/ChatCryoJane201710_prep2_lossless_Ntb/ChatCryoJane201710_slide26-S2_prep2_lossless_Ntb.tif -crop 2000x2000+192+10615 /tmp/tmp.tif\n",
      "convert /media/yuncong/BstemAtlasData/CSHL_data_processed/ChatCryoJane201710/ChatCryoJane201710_prep2_lossless_Ntb/ChatCryoJane201710_slide25-S3_prep2_lossless_Ntb.tif -crop 2000x2000+192+10615 /tmp/tmp.tif\n",
      "Region 4: x=8632, y=12701, w=2000, h=2000\n",
      "convert /media/yuncong/BstemAtlasData/CSHL_data_processed/ChatCryoJane201710/ChatCryoJane201710_prep2_lossless_Ntb/ChatCryoJane201710_slide26-S2_prep2_lossless_Ntb.tif -crop 2000x2000+8632+12701 /tmp/tmp.tif\n",
      "convert /media/yuncong/BstemAtlasData/CSHL_data_processed/ChatCryoJane201710/ChatCryoJane201710_prep2_lossless_Ntb/ChatCryoJane201710_slide25-S3_prep2_lossless_Ntb.tif -crop 2000x2000+8632+12701 /tmp/tmp.tif\n",
      "Region 5: x=7017, y=12424, w=2000, h=2000\n",
      "convert /media/yuncong/BstemAtlasData/CSHL_data_processed/ChatCryoJane201710/ChatCryoJane201710_prep2_lossless_Ntb/ChatCryoJane201710_slide26-S2_prep2_lossless_Ntb.tif -crop 2000x2000+7017+12424 /tmp/tmp.tif\n",
      "convert /media/yuncong/BstemAtlasData/CSHL_data_processed/ChatCryoJane201710/ChatCryoJane201710_prep2_lossless_Ntb/ChatCryoJane201710_slide25-S3_prep2_lossless_Ntb.tif -crop 2000x2000+7017+12424 /tmp/tmp.tif\n",
      "Region 6: x=13457, y=10141, w=2000, h=2000\n",
      "convert /media/yuncong/BstemAtlasData/CSHL_data_processed/ChatCryoJane201710/ChatCryoJane201710_prep2_lossless_Ntb/ChatCryoJane201710_slide26-S2_prep2_lossless_Ntb.tif -crop 2000x2000+13457+10141 /tmp/tmp.tif\n",
      "convert /media/yuncong/BstemAtlasData/CSHL_data_processed/ChatCryoJane201710/ChatCryoJane201710_prep2_lossless_Ntb/ChatCryoJane201710_slide25-S3_prep2_lossless_Ntb.tif -crop 2000x2000+13457+10141 /tmp/tmp.tif\n",
      "Region 7: x=453, y=5564, w=2000, h=2000\n",
      "convert /media/yuncong/BstemAtlasData/CSHL_data_processed/ChatCryoJane201710/ChatCryoJane201710_prep2_lossless_Ntb/ChatCryoJane201710_slide26-S2_prep2_lossless_Ntb.tif -crop 2000x2000+453+5564 /tmp/tmp.tif\n",
      "convert /media/yuncong/BstemAtlasData/CSHL_data_processed/ChatCryoJane201710/ChatCryoJane201710_prep2_lossless_Ntb/ChatCryoJane201710_slide25-S3_prep2_lossless_Ntb.tif -crop 2000x2000+453+5564 /tmp/tmp.tif\n",
      "Region 8: x=6307, y=11097, w=2000, h=2000\n",
      "convert /media/yuncong/BstemAtlasData/CSHL_data_processed/ChatCryoJane201710/ChatCryoJane201710_prep2_lossless_Ntb/ChatCryoJane201710_slide26-S2_prep2_lossless_Ntb.tif -crop 2000x2000+6307+11097 /tmp/tmp.tif\n",
      "convert /media/yuncong/BstemAtlasData/CSHL_data_processed/ChatCryoJane201710/ChatCryoJane201710_prep2_lossless_Ntb/ChatCryoJane201710_slide25-S3_prep2_lossless_Ntb.tif -crop 2000x2000+6307+11097 /tmp/tmp.tif\n",
      "Region 9: x=13670, y=9685, w=2000, h=2000\n",
      "convert /media/yuncong/BstemAtlasData/CSHL_data_processed/ChatCryoJane201710/ChatCryoJane201710_prep2_lossless_Ntb/ChatCryoJane201710_slide26-S2_prep2_lossless_Ntb.tif -crop 2000x2000+13670+9685 /tmp/tmp.tif\n",
      "convert /media/yuncong/BstemAtlasData/CSHL_data_processed/ChatCryoJane201710/ChatCryoJane201710_prep2_lossless_Ntb/ChatCryoJane201710_slide25-S3_prep2_lossless_Ntb.tif -crop 2000x2000+13670+9685 /tmp/tmp.tif\n",
      "aws s3 cp \"/media/yuncong/BstemAtlasData/CSHL_data_processed/ChatCryoJane201710/ChatCryoJane201710_intensity_mapping/ChatCryoJane201710_slide25-S3_to_ChatCryoJane201710_slide26-S2_intensity_mapping_all_regions.npy\" \"s3://mousebrainatlas-data/CSHL_data_processed/ChatCryoJane201710/ChatCryoJane201710_intensity_mapping/ChatCryoJane201710_slide25-S3_to_ChatCryoJane201710_slide26-S2_intensity_mapping_all_regions.npy\"\n",
      "aws s3 cp \"/media/yuncong/BstemAtlasData/CSHL_data_processed/ChatCryoJane201710/ChatCryoJane201710_intensity_mapping/ChatCryoJane201710_slide25-S3_to_ChatCryoJane201710_slide26-S2_region_bboxes.npy\" \"s3://mousebrainatlas-data/CSHL_data_processed/ChatCryoJane201710/ChatCryoJane201710_intensity_mapping/ChatCryoJane201710_slide25-S3_to_ChatCryoJane201710_slide26-S2_region_bboxes.npy\"\n"
     ]
    },
    {
     "name": "stderr",
     "output_type": "stream",
     "text": [
      "ntb 77, ntb 78\n"
     ]
    },
    {
     "name": "stdout",
     "output_type": "stream",
     "text": [
      "rm -rf \"/media/yuncong/BstemAtlasData/CSHL_data_processed/ChatCryoJane201710/ChatCryoJane201710_prep2_thumbnail_mask/ChatCryoJane201710_slide25-S3_prep2_thumbnail_mask.png\" && mkdir -p \"/media/yuncong/BstemAtlasData/CSHL_data_processed/ChatCryoJane201710/ChatCryoJane201710_prep2_thumbnail_mask\"\n",
      "aws s3 cp \"s3://mousebrainatlas-data/CSHL_data_processed/ChatCryoJane201710/ChatCryoJane201710_prep2_thumbnail_mask/ChatCryoJane201710_slide25-S3_prep2_thumbnail_mask.png\" \"/media/yuncong/BstemAtlasData/CSHL_data_processed/ChatCryoJane201710/ChatCryoJane201710_prep2_thumbnail_mask/ChatCryoJane201710_slide25-S3_prep2_thumbnail_mask.png\"\n"
     ]
    },
    {
     "name": "stderr",
     "output_type": "stream",
     "text": [
      "Load NTB1: 0.00 seconds.\n",
      "Load NTB2: 0.00 seconds.\n"
     ]
    },
    {
     "name": "stdout",
     "output_type": "stream",
     "text": [
      "Region 0: x=3408, y=1007, w=2000, h=2000\n",
      "convert /media/yuncong/BstemAtlasData/CSHL_data_processed/ChatCryoJane201710/ChatCryoJane201710_prep2_lossless_Ntb/ChatCryoJane201710_slide25-S3_prep2_lossless_Ntb.tif -crop 2000x2000+3408+1007 /tmp/tmp.tif\n",
      "convert /media/yuncong/BstemAtlasData/CSHL_data_processed/ChatCryoJane201710/ChatCryoJane201710_prep2_lossless_Ntb/ChatCryoJane201710_slide26-S3_prep2_lossless_Ntb.tif -crop 2000x2000+3408+1007 /tmp/tmp.tif\n",
      "Region 1: x=16540, y=11354, w=2000, h=2000\n",
      "convert /media/yuncong/BstemAtlasData/CSHL_data_processed/ChatCryoJane201710/ChatCryoJane201710_prep2_lossless_Ntb/ChatCryoJane201710_slide25-S3_prep2_lossless_Ntb.tif -crop 2000x2000+16540+11354 /tmp/tmp.tif\n",
      "convert /media/yuncong/BstemAtlasData/CSHL_data_processed/ChatCryoJane201710/ChatCryoJane201710_prep2_lossless_Ntb/ChatCryoJane201710_slide26-S3_prep2_lossless_Ntb.tif -crop 2000x2000+16540+11354 /tmp/tmp.tif\n",
      "Region 2: x=12095, y=3874, w=2000, h=2000\n",
      "convert /media/yuncong/BstemAtlasData/CSHL_data_processed/ChatCryoJane201710/ChatCryoJane201710_prep2_lossless_Ntb/ChatCryoJane201710_slide25-S3_prep2_lossless_Ntb.tif -crop 2000x2000+12095+3874 /tmp/tmp.tif\n",
      "convert /media/yuncong/BstemAtlasData/CSHL_data_processed/ChatCryoJane201710/ChatCryoJane201710_prep2_lossless_Ntb/ChatCryoJane201710_slide26-S3_prep2_lossless_Ntb.tif -crop 2000x2000+12095+3874 /tmp/tmp.tif\n",
      "Region 3: x=5242, y=9700, w=2000, h=2000\n",
      "convert /media/yuncong/BstemAtlasData/CSHL_data_processed/ChatCryoJane201710/ChatCryoJane201710_prep2_lossless_Ntb/ChatCryoJane201710_slide25-S3_prep2_lossless_Ntb.tif -crop 2000x2000+5242+9700 /tmp/tmp.tif\n",
      "convert /media/yuncong/BstemAtlasData/CSHL_data_processed/ChatCryoJane201710/ChatCryoJane201710_prep2_lossless_Ntb/ChatCryoJane201710_slide26-S3_prep2_lossless_Ntb.tif -crop 2000x2000+5242+9700 /tmp/tmp.tif\n",
      "Region 4: x=11040, y=11953, w=2000, h=2000\n",
      "convert /media/yuncong/BstemAtlasData/CSHL_data_processed/ChatCryoJane201710/ChatCryoJane201710_prep2_lossless_Ntb/ChatCryoJane201710_slide25-S3_prep2_lossless_Ntb.tif -crop 2000x2000+11040+11953 /tmp/tmp.tif\n",
      "convert /media/yuncong/BstemAtlasData/CSHL_data_processed/ChatCryoJane201710/ChatCryoJane201710_prep2_lossless_Ntb/ChatCryoJane201710_slide26-S3_prep2_lossless_Ntb.tif -crop 2000x2000+11040+11953 /tmp/tmp.tif\n",
      "Region 5: x=14244, y=12467, w=2000, h=2000\n",
      "convert /media/yuncong/BstemAtlasData/CSHL_data_processed/ChatCryoJane201710/ChatCryoJane201710_prep2_lossless_Ntb/ChatCryoJane201710_slide25-S3_prep2_lossless_Ntb.tif -crop 2000x2000+14244+12467 /tmp/tmp.tif\n",
      "convert /media/yuncong/BstemAtlasData/CSHL_data_processed/ChatCryoJane201710/ChatCryoJane201710_prep2_lossless_Ntb/ChatCryoJane201710_slide26-S3_prep2_lossless_Ntb.tif -crop 2000x2000+14244+12467 /tmp/tmp.tif\n",
      "Region 6: x=756, y=8645, w=2000, h=2000\n",
      "convert /media/yuncong/BstemAtlasData/CSHL_data_processed/ChatCryoJane201710/ChatCryoJane201710_prep2_lossless_Ntb/ChatCryoJane201710_slide25-S3_prep2_lossless_Ntb.tif -crop 2000x2000+756+8645 /tmp/tmp.tif\n",
      "convert /media/yuncong/BstemAtlasData/CSHL_data_processed/ChatCryoJane201710/ChatCryoJane201710_prep2_lossless_Ntb/ChatCryoJane201710_slide26-S3_prep2_lossless_Ntb.tif -crop 2000x2000+756+8645 /tmp/tmp.tif\n",
      "Region 7: x=8538, y=1526, w=2000, h=2000\n",
      "convert /media/yuncong/BstemAtlasData/CSHL_data_processed/ChatCryoJane201710/ChatCryoJane201710_prep2_lossless_Ntb/ChatCryoJane201710_slide25-S3_prep2_lossless_Ntb.tif -crop 2000x2000+8538+1526 /tmp/tmp.tif\n",
      "convert /media/yuncong/BstemAtlasData/CSHL_data_processed/ChatCryoJane201710/ChatCryoJane201710_prep2_lossless_Ntb/ChatCryoJane201710_slide26-S3_prep2_lossless_Ntb.tif -crop 2000x2000+8538+1526 /tmp/tmp.tif\n",
      "Region 8: x=9785, y=6955, w=2000, h=2000\n",
      "convert /media/yuncong/BstemAtlasData/CSHL_data_processed/ChatCryoJane201710/ChatCryoJane201710_prep2_lossless_Ntb/ChatCryoJane201710_slide25-S3_prep2_lossless_Ntb.tif -crop 2000x2000+9785+6955 /tmp/tmp.tif\n",
      "convert /media/yuncong/BstemAtlasData/CSHL_data_processed/ChatCryoJane201710/ChatCryoJane201710_prep2_lossless_Ntb/ChatCryoJane201710_slide26-S3_prep2_lossless_Ntb.tif -crop 2000x2000+9785+6955 /tmp/tmp.tif\n",
      "Region 9: x=17193, y=5084, w=2000, h=2000\n",
      "convert /media/yuncong/BstemAtlasData/CSHL_data_processed/ChatCryoJane201710/ChatCryoJane201710_prep2_lossless_Ntb/ChatCryoJane201710_slide25-S3_prep2_lossless_Ntb.tif -crop 2000x2000+17193+5084 /tmp/tmp.tif\n",
      "convert /media/yuncong/BstemAtlasData/CSHL_data_processed/ChatCryoJane201710/ChatCryoJane201710_prep2_lossless_Ntb/ChatCryoJane201710_slide26-S3_prep2_lossless_Ntb.tif -crop 2000x2000+17193+5084 /tmp/tmp.tif\n",
      "aws s3 cp \"/media/yuncong/BstemAtlasData/CSHL_data_processed/ChatCryoJane201710/ChatCryoJane201710_intensity_mapping/ChatCryoJane201710_slide26-S3_to_ChatCryoJane201710_slide25-S3_intensity_mapping_all_regions.npy\" \"s3://mousebrainatlas-data/CSHL_data_processed/ChatCryoJane201710/ChatCryoJane201710_intensity_mapping/ChatCryoJane201710_slide26-S3_to_ChatCryoJane201710_slide25-S3_intensity_mapping_all_regions.npy\"\n",
      "aws s3 cp \"/media/yuncong/BstemAtlasData/CSHL_data_processed/ChatCryoJane201710/ChatCryoJane201710_intensity_mapping/ChatCryoJane201710_slide26-S3_to_ChatCryoJane201710_slide25-S3_region_bboxes.npy\" \"s3://mousebrainatlas-data/CSHL_data_processed/ChatCryoJane201710/ChatCryoJane201710_intensity_mapping/ChatCryoJane201710_slide26-S3_to_ChatCryoJane201710_slide25-S3_region_bboxes.npy\"\n"
     ]
    },
    {
     "name": "stderr",
     "output_type": "stream",
     "text": [
      "ntb 78, ntb 79\n"
     ]
    },
    {
     "name": "stdout",
     "output_type": "stream",
     "text": [
      "rm -rf \"/media/yuncong/BstemAtlasData/CSHL_data_processed/ChatCryoJane201710/ChatCryoJane201710_prep2_thumbnail_mask/ChatCryoJane201710_slide26-S3_prep2_thumbnail_mask.png\" && mkdir -p \"/media/yuncong/BstemAtlasData/CSHL_data_processed/ChatCryoJane201710/ChatCryoJane201710_prep2_thumbnail_mask\"\n",
      "aws s3 cp \"s3://mousebrainatlas-data/CSHL_data_processed/ChatCryoJane201710/ChatCryoJane201710_prep2_thumbnail_mask/ChatCryoJane201710_slide26-S3_prep2_thumbnail_mask.png\" \"/media/yuncong/BstemAtlasData/CSHL_data_processed/ChatCryoJane201710/ChatCryoJane201710_prep2_thumbnail_mask/ChatCryoJane201710_slide26-S3_prep2_thumbnail_mask.png\"\n"
     ]
    },
    {
     "name": "stderr",
     "output_type": "stream",
     "text": [
      "Load NTB1: 0.00 seconds.\n",
      "Load NTB2: 0.00 seconds.\n"
     ]
    },
    {
     "name": "stdout",
     "output_type": "stream",
     "text": [
      "Region 0: x=758, y=11687, w=2000, h=2000\n",
      "convert /media/yuncong/BstemAtlasData/CSHL_data_processed/ChatCryoJane201710/ChatCryoJane201710_prep2_lossless_Ntb/ChatCryoJane201710_slide26-S3_prep2_lossless_Ntb.tif -crop 2000x2000+758+11687 /tmp/tmp.tif\n",
      "convert /media/yuncong/BstemAtlasData/CSHL_data_processed/ChatCryoJane201710/ChatCryoJane201710_prep2_lossless_Ntb/ChatCryoJane201710_slide27-S1_prep2_lossless_Ntb.tif -crop 2000x2000+758+11687 /tmp/tmp.tif\n",
      "Region 1: x=16526, y=9898, w=2000, h=2000\n",
      "convert /media/yuncong/BstemAtlasData/CSHL_data_processed/ChatCryoJane201710/ChatCryoJane201710_prep2_lossless_Ntb/ChatCryoJane201710_slide26-S3_prep2_lossless_Ntb.tif -crop 2000x2000+16526+9898 /tmp/tmp.tif\n",
      "convert /media/yuncong/BstemAtlasData/CSHL_data_processed/ChatCryoJane201710/ChatCryoJane201710_prep2_lossless_Ntb/ChatCryoJane201710_slide27-S1_prep2_lossless_Ntb.tif -crop 2000x2000+16526+9898 /tmp/tmp.tif\n",
      "Region 2: x=12949, y=7507, w=2000, h=2000\n",
      "convert /media/yuncong/BstemAtlasData/CSHL_data_processed/ChatCryoJane201710/ChatCryoJane201710_prep2_lossless_Ntb/ChatCryoJane201710_slide26-S3_prep2_lossless_Ntb.tif -crop 2000x2000+12949+7507 /tmp/tmp.tif\n",
      "convert /media/yuncong/BstemAtlasData/CSHL_data_processed/ChatCryoJane201710/ChatCryoJane201710_prep2_lossless_Ntb/ChatCryoJane201710_slide27-S1_prep2_lossless_Ntb.tif -crop 2000x2000+12949+7507 /tmp/tmp.tif\n",
      "Region 3: x=5937, y=1842, w=2000, h=2000\n",
      "convert /media/yuncong/BstemAtlasData/CSHL_data_processed/ChatCryoJane201710/ChatCryoJane201710_prep2_lossless_Ntb/ChatCryoJane201710_slide26-S3_prep2_lossless_Ntb.tif -crop 2000x2000+5937+1842 /tmp/tmp.tif\n",
      "convert /media/yuncong/BstemAtlasData/CSHL_data_processed/ChatCryoJane201710/ChatCryoJane201710_prep2_lossless_Ntb/ChatCryoJane201710_slide27-S1_prep2_lossless_Ntb.tif -crop 2000x2000+5937+1842 /tmp/tmp.tif\n",
      "Region 4: x=9370, y=12612, w=2000, h=2000\n",
      "convert /media/yuncong/BstemAtlasData/CSHL_data_processed/ChatCryoJane201710/ChatCryoJane201710_prep2_lossless_Ntb/ChatCryoJane201710_slide26-S3_prep2_lossless_Ntb.tif -crop 2000x2000+9370+12612 /tmp/tmp.tif\n",
      "convert /media/yuncong/BstemAtlasData/CSHL_data_processed/ChatCryoJane201710/ChatCryoJane201710_prep2_lossless_Ntb/ChatCryoJane201710_slide27-S1_prep2_lossless_Ntb.tif -crop 2000x2000+9370+12612 /tmp/tmp.tif\n",
      "Region 5: x=14220, y=12999, w=2000, h=2000\n",
      "convert /media/yuncong/BstemAtlasData/CSHL_data_processed/ChatCryoJane201710/ChatCryoJane201710_prep2_lossless_Ntb/ChatCryoJane201710_slide26-S3_prep2_lossless_Ntb.tif -crop 2000x2000+14220+12999 /tmp/tmp.tif\n",
      "convert /media/yuncong/BstemAtlasData/CSHL_data_processed/ChatCryoJane201710/ChatCryoJane201710_prep2_lossless_Ntb/ChatCryoJane201710_slide27-S1_prep2_lossless_Ntb.tif -crop 2000x2000+14220+12999 /tmp/tmp.tif\n",
      "Region 6: x=3580, y=11257, w=2000, h=2000\n",
      "convert /media/yuncong/BstemAtlasData/CSHL_data_processed/ChatCryoJane201710/ChatCryoJane201710_prep2_lossless_Ntb/ChatCryoJane201710_slide26-S3_prep2_lossless_Ntb.tif -crop 2000x2000+3580+11257 /tmp/tmp.tif\n",
      "convert /media/yuncong/BstemAtlasData/CSHL_data_processed/ChatCryoJane201710/ChatCryoJane201710_prep2_lossless_Ntb/ChatCryoJane201710_slide27-S1_prep2_lossless_Ntb.tif -crop 2000x2000+3580+11257 /tmp/tmp.tif\n",
      "Region 7: x=8212, y=1742, w=2000, h=2000\n",
      "convert /media/yuncong/BstemAtlasData/CSHL_data_processed/ChatCryoJane201710/ChatCryoJane201710_prep2_lossless_Ntb/ChatCryoJane201710_slide26-S3_prep2_lossless_Ntb.tif -crop 2000x2000+8212+1742 /tmp/tmp.tif\n",
      "convert /media/yuncong/BstemAtlasData/CSHL_data_processed/ChatCryoJane201710/ChatCryoJane201710_prep2_lossless_Ntb/ChatCryoJane201710_slide27-S1_prep2_lossless_Ntb.tif -crop 2000x2000+8212+1742 /tmp/tmp.tif\n",
      "Region 8: x=304, y=6784, w=2000, h=2000\n",
      "convert /media/yuncong/BstemAtlasData/CSHL_data_processed/ChatCryoJane201710/ChatCryoJane201710_prep2_lossless_Ntb/ChatCryoJane201710_slide26-S3_prep2_lossless_Ntb.tif -crop 2000x2000+304+6784 /tmp/tmp.tif\n",
      "convert /media/yuncong/BstemAtlasData/CSHL_data_processed/ChatCryoJane201710/ChatCryoJane201710_prep2_lossless_Ntb/ChatCryoJane201710_slide27-S1_prep2_lossless_Ntb.tif -crop 2000x2000+304+6784 /tmp/tmp.tif\n",
      "Region 9: x=9753, y=2851, w=2000, h=2000\n",
      "convert /media/yuncong/BstemAtlasData/CSHL_data_processed/ChatCryoJane201710/ChatCryoJane201710_prep2_lossless_Ntb/ChatCryoJane201710_slide26-S3_prep2_lossless_Ntb.tif -crop 2000x2000+9753+2851 /tmp/tmp.tif\n",
      "convert /media/yuncong/BstemAtlasData/CSHL_data_processed/ChatCryoJane201710/ChatCryoJane201710_prep2_lossless_Ntb/ChatCryoJane201710_slide27-S1_prep2_lossless_Ntb.tif -crop 2000x2000+9753+2851 /tmp/tmp.tif\n",
      "aws s3 cp \"/media/yuncong/BstemAtlasData/CSHL_data_processed/ChatCryoJane201710/ChatCryoJane201710_intensity_mapping/ChatCryoJane201710_slide27-S1_to_ChatCryoJane201710_slide26-S3_intensity_mapping_all_regions.npy\" \"s3://mousebrainatlas-data/CSHL_data_processed/ChatCryoJane201710/ChatCryoJane201710_intensity_mapping/ChatCryoJane201710_slide27-S1_to_ChatCryoJane201710_slide26-S3_intensity_mapping_all_regions.npy\"\n",
      "aws s3 cp \"/media/yuncong/BstemAtlasData/CSHL_data_processed/ChatCryoJane201710/ChatCryoJane201710_intensity_mapping/ChatCryoJane201710_slide27-S1_to_ChatCryoJane201710_slide26-S3_region_bboxes.npy\" \"s3://mousebrainatlas-data/CSHL_data_processed/ChatCryoJane201710/ChatCryoJane201710_intensity_mapping/ChatCryoJane201710_slide27-S1_to_ChatCryoJane201710_slide26-S3_region_bboxes.npy\"\n"
     ]
    },
    {
     "name": "stderr",
     "output_type": "stream",
     "text": [
      "ntb 79, ntb 80\n",
      "Load NTB1: 0.00 seconds.\n",
      "Load NTB2: 0.00 seconds.\n"
     ]
    },
    {
     "name": "stdout",
     "output_type": "stream",
     "text": [
      "Region 0: x=10120, y=3529, w=2000, h=2000\n",
      "convert /media/yuncong/BstemAtlasData/CSHL_data_processed/ChatCryoJane201710/ChatCryoJane201710_prep2_lossless_Ntb/ChatCryoJane201710_slide27-S1_prep2_lossless_Ntb.tif -crop 2000x2000+10120+3529 /tmp/tmp.tif\n",
      "convert /media/yuncong/BstemAtlasData/CSHL_data_processed/ChatCryoJane201710/ChatCryoJane201710_prep2_lossless_Ntb/ChatCryoJane201710_slide28-S1_prep2_lossless_Ntb.tif -crop 2000x2000+10120+3529 /tmp/tmp.tif\n",
      "Region 1: x=3573, y=11484, w=2000, h=2000\n",
      "convert /media/yuncong/BstemAtlasData/CSHL_data_processed/ChatCryoJane201710/ChatCryoJane201710_prep2_lossless_Ntb/ChatCryoJane201710_slide27-S1_prep2_lossless_Ntb.tif -crop 2000x2000+3573+11484 /tmp/tmp.tif\n",
      "convert /media/yuncong/BstemAtlasData/CSHL_data_processed/ChatCryoJane201710/ChatCryoJane201710_prep2_lossless_Ntb/ChatCryoJane201710_slide28-S1_prep2_lossless_Ntb.tif -crop 2000x2000+3573+11484 /tmp/tmp.tif\n",
      "Region 2: x=15966, y=10576, w=2000, h=2000\n",
      "convert /media/yuncong/BstemAtlasData/CSHL_data_processed/ChatCryoJane201710/ChatCryoJane201710_prep2_lossless_Ntb/ChatCryoJane201710_slide27-S1_prep2_lossless_Ntb.tif -crop 2000x2000+15966+10576 /tmp/tmp.tif\n",
      "convert /media/yuncong/BstemAtlasData/CSHL_data_processed/ChatCryoJane201710/ChatCryoJane201710_prep2_lossless_Ntb/ChatCryoJane201710_slide28-S1_prep2_lossless_Ntb.tif -crop 2000x2000+15966+10576 /tmp/tmp.tif\n",
      "Region 3: x=2774, y=12441, w=2000, h=2000\n",
      "convert /media/yuncong/BstemAtlasData/CSHL_data_processed/ChatCryoJane201710/ChatCryoJane201710_prep2_lossless_Ntb/ChatCryoJane201710_slide27-S1_prep2_lossless_Ntb.tif -crop 2000x2000+2774+12441 /tmp/tmp.tif\n",
      "convert /media/yuncong/BstemAtlasData/CSHL_data_processed/ChatCryoJane201710/ChatCryoJane201710_prep2_lossless_Ntb/ChatCryoJane201710_slide28-S1_prep2_lossless_Ntb.tif -crop 2000x2000+2774+12441 /tmp/tmp.tif\n",
      "Region 4: x=14987, y=3646, w=2000, h=2000\n",
      "convert /media/yuncong/BstemAtlasData/CSHL_data_processed/ChatCryoJane201710/ChatCryoJane201710_prep2_lossless_Ntb/ChatCryoJane201710_slide27-S1_prep2_lossless_Ntb.tif -crop 2000x2000+14987+3646 /tmp/tmp.tif\n",
      "convert /media/yuncong/BstemAtlasData/CSHL_data_processed/ChatCryoJane201710/ChatCryoJane201710_prep2_lossless_Ntb/ChatCryoJane201710_slide28-S1_prep2_lossless_Ntb.tif -crop 2000x2000+14987+3646 /tmp/tmp.tif\n",
      "Region 5: x=6604, y=11623, w=2000, h=2000\n",
      "convert /media/yuncong/BstemAtlasData/CSHL_data_processed/ChatCryoJane201710/ChatCryoJane201710_prep2_lossless_Ntb/ChatCryoJane201710_slide27-S1_prep2_lossless_Ntb.tif -crop 2000x2000+6604+11623 /tmp/tmp.tif\n",
      "convert /media/yuncong/BstemAtlasData/CSHL_data_processed/ChatCryoJane201710/ChatCryoJane201710_prep2_lossless_Ntb/ChatCryoJane201710_slide28-S1_prep2_lossless_Ntb.tif -crop 2000x2000+6604+11623 /tmp/tmp.tif\n",
      "Region 6: x=8596, y=6380, w=2000, h=2000\n",
      "convert /media/yuncong/BstemAtlasData/CSHL_data_processed/ChatCryoJane201710/ChatCryoJane201710_prep2_lossless_Ntb/ChatCryoJane201710_slide27-S1_prep2_lossless_Ntb.tif -crop 2000x2000+8596+6380 /tmp/tmp.tif\n",
      "convert /media/yuncong/BstemAtlasData/CSHL_data_processed/ChatCryoJane201710/ChatCryoJane201710_prep2_lossless_Ntb/ChatCryoJane201710_slide28-S1_prep2_lossless_Ntb.tif -crop 2000x2000+8596+6380 /tmp/tmp.tif\n",
      "Region 7: x=9558, y=2575, w=2000, h=2000\n",
      "convert /media/yuncong/BstemAtlasData/CSHL_data_processed/ChatCryoJane201710/ChatCryoJane201710_prep2_lossless_Ntb/ChatCryoJane201710_slide27-S1_prep2_lossless_Ntb.tif -crop 2000x2000+9558+2575 /tmp/tmp.tif\n",
      "convert /media/yuncong/BstemAtlasData/CSHL_data_processed/ChatCryoJane201710/ChatCryoJane201710_prep2_lossless_Ntb/ChatCryoJane201710_slide28-S1_prep2_lossless_Ntb.tif -crop 2000x2000+9558+2575 /tmp/tmp.tif\n",
      "Region 8: x=14594, y=10333, w=2000, h=2000\n",
      "convert /media/yuncong/BstemAtlasData/CSHL_data_processed/ChatCryoJane201710/ChatCryoJane201710_prep2_lossless_Ntb/ChatCryoJane201710_slide27-S1_prep2_lossless_Ntb.tif -crop 2000x2000+14594+10333 /tmp/tmp.tif\n",
      "convert /media/yuncong/BstemAtlasData/CSHL_data_processed/ChatCryoJane201710/ChatCryoJane201710_prep2_lossless_Ntb/ChatCryoJane201710_slide28-S1_prep2_lossless_Ntb.tif -crop 2000x2000+14594+10333 /tmp/tmp.tif\n",
      "Region 9: x=4476, y=5399, w=2000, h=2000\n",
      "convert /media/yuncong/BstemAtlasData/CSHL_data_processed/ChatCryoJane201710/ChatCryoJane201710_prep2_lossless_Ntb/ChatCryoJane201710_slide27-S1_prep2_lossless_Ntb.tif -crop 2000x2000+4476+5399 /tmp/tmp.tif\n",
      "convert /media/yuncong/BstemAtlasData/CSHL_data_processed/ChatCryoJane201710/ChatCryoJane201710_prep2_lossless_Ntb/ChatCryoJane201710_slide28-S1_prep2_lossless_Ntb.tif -crop 2000x2000+4476+5399 /tmp/tmp.tif\n",
      "aws s3 cp \"/media/yuncong/BstemAtlasData/CSHL_data_processed/ChatCryoJane201710/ChatCryoJane201710_intensity_mapping/ChatCryoJane201710_slide28-S1_to_ChatCryoJane201710_slide27-S1_intensity_mapping_all_regions.npy\" \"s3://mousebrainatlas-data/CSHL_data_processed/ChatCryoJane201710/ChatCryoJane201710_intensity_mapping/ChatCryoJane201710_slide28-S1_to_ChatCryoJane201710_slide27-S1_intensity_mapping_all_regions.npy\"\n",
      "aws s3 cp \"/media/yuncong/BstemAtlasData/CSHL_data_processed/ChatCryoJane201710/ChatCryoJane201710_intensity_mapping/ChatCryoJane201710_slide28-S1_to_ChatCryoJane201710_slide27-S1_region_bboxes.npy\" \"s3://mousebrainatlas-data/CSHL_data_processed/ChatCryoJane201710/ChatCryoJane201710_intensity_mapping/ChatCryoJane201710_slide28-S1_to_ChatCryoJane201710_slide27-S1_region_bboxes.npy\"\n"
     ]
    },
    {
     "name": "stderr",
     "output_type": "stream",
     "text": [
      "ntb 80, ntb 81\n",
      "Load NTB1: 0.00 seconds.\n",
      "Load NTB2: 0.00 seconds.\n"
     ]
    },
    {
     "name": "stdout",
     "output_type": "stream",
     "text": [
      "Region 0: x=17858, y=12416, w=2000, h=2000\n",
      "convert /media/yuncong/BstemAtlasData/CSHL_data_processed/ChatCryoJane201710/ChatCryoJane201710_prep2_lossless_Ntb/ChatCryoJane201710_slide28-S1_prep2_lossless_Ntb.tif -crop 2000x2000+17858+12416 /tmp/tmp.tif\n",
      "convert /media/yuncong/BstemAtlasData/CSHL_data_processed/ChatCryoJane201710/ChatCryoJane201710_prep2_lossless_Ntb/ChatCryoJane201710_slide27-S2_prep2_lossless_Ntb.tif -crop 2000x2000+17858+12416 /tmp/tmp.tif\n",
      "Region 1: x=8822, y=7570, w=2000, h=2000\n",
      "convert /media/yuncong/BstemAtlasData/CSHL_data_processed/ChatCryoJane201710/ChatCryoJane201710_prep2_lossless_Ntb/ChatCryoJane201710_slide28-S1_prep2_lossless_Ntb.tif -crop 2000x2000+8822+7570 /tmp/tmp.tif\n",
      "convert /media/yuncong/BstemAtlasData/CSHL_data_processed/ChatCryoJane201710/ChatCryoJane201710_prep2_lossless_Ntb/ChatCryoJane201710_slide27-S2_prep2_lossless_Ntb.tif -crop 2000x2000+8822+7570 /tmp/tmp.tif\n",
      "Region 2: x=11731, y=10815, w=2000, h=2000\n",
      "convert /media/yuncong/BstemAtlasData/CSHL_data_processed/ChatCryoJane201710/ChatCryoJane201710_prep2_lossless_Ntb/ChatCryoJane201710_slide28-S1_prep2_lossless_Ntb.tif -crop 2000x2000+11731+10815 /tmp/tmp.tif\n",
      "convert /media/yuncong/BstemAtlasData/CSHL_data_processed/ChatCryoJane201710/ChatCryoJane201710_prep2_lossless_Ntb/ChatCryoJane201710_slide27-S2_prep2_lossless_Ntb.tif -crop 2000x2000+11731+10815 /tmp/tmp.tif\n",
      "Region 3: x=6719, y=1091, w=2000, h=2000\n",
      "convert /media/yuncong/BstemAtlasData/CSHL_data_processed/ChatCryoJane201710/ChatCryoJane201710_prep2_lossless_Ntb/ChatCryoJane201710_slide28-S1_prep2_lossless_Ntb.tif -crop 2000x2000+6719+1091 /tmp/tmp.tif\n",
      "convert /media/yuncong/BstemAtlasData/CSHL_data_processed/ChatCryoJane201710/ChatCryoJane201710_prep2_lossless_Ntb/ChatCryoJane201710_slide27-S2_prep2_lossless_Ntb.tif -crop 2000x2000+6719+1091 /tmp/tmp.tif\n",
      "Region 4: x=4921, y=3554, w=2000, h=2000\n",
      "convert /media/yuncong/BstemAtlasData/CSHL_data_processed/ChatCryoJane201710/ChatCryoJane201710_prep2_lossless_Ntb/ChatCryoJane201710_slide28-S1_prep2_lossless_Ntb.tif -crop 2000x2000+4921+3554 /tmp/tmp.tif\n",
      "convert /media/yuncong/BstemAtlasData/CSHL_data_processed/ChatCryoJane201710/ChatCryoJane201710_prep2_lossless_Ntb/ChatCryoJane201710_slide27-S2_prep2_lossless_Ntb.tif -crop 2000x2000+4921+3554 /tmp/tmp.tif\n",
      "Region 5: x=8422, y=9531, w=2000, h=2000\n",
      "convert /media/yuncong/BstemAtlasData/CSHL_data_processed/ChatCryoJane201710/ChatCryoJane201710_prep2_lossless_Ntb/ChatCryoJane201710_slide28-S1_prep2_lossless_Ntb.tif -crop 2000x2000+8422+9531 /tmp/tmp.tif\n",
      "convert /media/yuncong/BstemAtlasData/CSHL_data_processed/ChatCryoJane201710/ChatCryoJane201710_prep2_lossless_Ntb/ChatCryoJane201710_slide27-S2_prep2_lossless_Ntb.tif -crop 2000x2000+8422+9531 /tmp/tmp.tif\n",
      "Region 6: x=7386, y=12823, w=2000, h=2000\n",
      "convert /media/yuncong/BstemAtlasData/CSHL_data_processed/ChatCryoJane201710/ChatCryoJane201710_prep2_lossless_Ntb/ChatCryoJane201710_slide28-S1_prep2_lossless_Ntb.tif -crop 2000x2000+7386+12823 /tmp/tmp.tif\n",
      "convert /media/yuncong/BstemAtlasData/CSHL_data_processed/ChatCryoJane201710/ChatCryoJane201710_prep2_lossless_Ntb/ChatCryoJane201710_slide27-S2_prep2_lossless_Ntb.tif -crop 2000x2000+7386+12823 /tmp/tmp.tif\n",
      "Region 7: x=9839, y=8758, w=2000, h=2000\n",
      "convert /media/yuncong/BstemAtlasData/CSHL_data_processed/ChatCryoJane201710/ChatCryoJane201710_prep2_lossless_Ntb/ChatCryoJane201710_slide28-S1_prep2_lossless_Ntb.tif -crop 2000x2000+9839+8758 /tmp/tmp.tif\n",
      "convert /media/yuncong/BstemAtlasData/CSHL_data_processed/ChatCryoJane201710/ChatCryoJane201710_prep2_lossless_Ntb/ChatCryoJane201710_slide27-S2_prep2_lossless_Ntb.tif -crop 2000x2000+9839+8758 /tmp/tmp.tif\n",
      "Region 8: x=12667, y=8466, w=2000, h=2000\n",
      "convert /media/yuncong/BstemAtlasData/CSHL_data_processed/ChatCryoJane201710/ChatCryoJane201710_prep2_lossless_Ntb/ChatCryoJane201710_slide28-S1_prep2_lossless_Ntb.tif -crop 2000x2000+12667+8466 /tmp/tmp.tif\n",
      "convert /media/yuncong/BstemAtlasData/CSHL_data_processed/ChatCryoJane201710/ChatCryoJane201710_prep2_lossless_Ntb/ChatCryoJane201710_slide27-S2_prep2_lossless_Ntb.tif -crop 2000x2000+12667+8466 /tmp/tmp.tif\n",
      "Region 9: x=12456, y=4059, w=2000, h=2000\n",
      "convert /media/yuncong/BstemAtlasData/CSHL_data_processed/ChatCryoJane201710/ChatCryoJane201710_prep2_lossless_Ntb/ChatCryoJane201710_slide28-S1_prep2_lossless_Ntb.tif -crop 2000x2000+12456+4059 /tmp/tmp.tif\n",
      "convert /media/yuncong/BstemAtlasData/CSHL_data_processed/ChatCryoJane201710/ChatCryoJane201710_prep2_lossless_Ntb/ChatCryoJane201710_slide27-S2_prep2_lossless_Ntb.tif -crop 2000x2000+12456+4059 /tmp/tmp.tif\n",
      "aws s3 cp \"/media/yuncong/BstemAtlasData/CSHL_data_processed/ChatCryoJane201710/ChatCryoJane201710_intensity_mapping/ChatCryoJane201710_slide27-S2_to_ChatCryoJane201710_slide28-S1_intensity_mapping_all_regions.npy\" \"s3://mousebrainatlas-data/CSHL_data_processed/ChatCryoJane201710/ChatCryoJane201710_intensity_mapping/ChatCryoJane201710_slide27-S2_to_ChatCryoJane201710_slide28-S1_intensity_mapping_all_regions.npy\"\n",
      "aws s3 cp \"/media/yuncong/BstemAtlasData/CSHL_data_processed/ChatCryoJane201710/ChatCryoJane201710_intensity_mapping/ChatCryoJane201710_slide27-S2_to_ChatCryoJane201710_slide28-S1_region_bboxes.npy\" \"s3://mousebrainatlas-data/CSHL_data_processed/ChatCryoJane201710/ChatCryoJane201710_intensity_mapping/ChatCryoJane201710_slide27-S2_to_ChatCryoJane201710_slide28-S1_region_bboxes.npy\"\n"
     ]
    },
    {
     "name": "stderr",
     "output_type": "stream",
     "text": [
      "ntb 81, ntb 82\n",
      "Load NTB1: 0.00 seconds.\n",
      "Load NTB2: 0.00 seconds.\n"
     ]
    },
    {
     "name": "stdout",
     "output_type": "stream",
     "text": [
      "Region 0: x=3056, y=12383, w=2000, h=2000\n",
      "convert /media/yuncong/BstemAtlasData/CSHL_data_processed/ChatCryoJane201710/ChatCryoJane201710_prep2_lossless_Ntb/ChatCryoJane201710_slide27-S2_prep2_lossless_Ntb.tif -crop 2000x2000+3056+12383 /tmp/tmp.tif\n",
      "convert /media/yuncong/BstemAtlasData/CSHL_data_processed/ChatCryoJane201710/ChatCryoJane201710_prep2_lossless_Ntb/ChatCryoJane201710_slide28-S2_prep2_lossless_Ntb.tif -crop 2000x2000+3056+12383 /tmp/tmp.tif\n",
      "Region 1: x=12251, y=11019, w=2000, h=2000\n",
      "convert /media/yuncong/BstemAtlasData/CSHL_data_processed/ChatCryoJane201710/ChatCryoJane201710_prep2_lossless_Ntb/ChatCryoJane201710_slide27-S2_prep2_lossless_Ntb.tif -crop 2000x2000+12251+11019 /tmp/tmp.tif\n",
      "convert /media/yuncong/BstemAtlasData/CSHL_data_processed/ChatCryoJane201710/ChatCryoJane201710_prep2_lossless_Ntb/ChatCryoJane201710_slide28-S2_prep2_lossless_Ntb.tif -crop 2000x2000+12251+11019 /tmp/tmp.tif\n",
      "Region 2: x=10074, y=9624, w=2000, h=2000\n",
      "convert /media/yuncong/BstemAtlasData/CSHL_data_processed/ChatCryoJane201710/ChatCryoJane201710_prep2_lossless_Ntb/ChatCryoJane201710_slide27-S2_prep2_lossless_Ntb.tif -crop 2000x2000+10074+9624 /tmp/tmp.tif\n",
      "convert /media/yuncong/BstemAtlasData/CSHL_data_processed/ChatCryoJane201710/ChatCryoJane201710_prep2_lossless_Ntb/ChatCryoJane201710_slide28-S2_prep2_lossless_Ntb.tif -crop 2000x2000+10074+9624 /tmp/tmp.tif\n",
      "Region 3: x=9559, y=3881, w=2000, h=2000\n",
      "convert /media/yuncong/BstemAtlasData/CSHL_data_processed/ChatCryoJane201710/ChatCryoJane201710_prep2_lossless_Ntb/ChatCryoJane201710_slide27-S2_prep2_lossless_Ntb.tif -crop 2000x2000+9559+3881 /tmp/tmp.tif\n",
      "convert /media/yuncong/BstemAtlasData/CSHL_data_processed/ChatCryoJane201710/ChatCryoJane201710_prep2_lossless_Ntb/ChatCryoJane201710_slide28-S2_prep2_lossless_Ntb.tif -crop 2000x2000+9559+3881 /tmp/tmp.tif\n",
      "Region 4: x=15551, y=7403, w=2000, h=2000\n",
      "convert /media/yuncong/BstemAtlasData/CSHL_data_processed/ChatCryoJane201710/ChatCryoJane201710_prep2_lossless_Ntb/ChatCryoJane201710_slide27-S2_prep2_lossless_Ntb.tif -crop 2000x2000+15551+7403 /tmp/tmp.tif\n",
      "convert /media/yuncong/BstemAtlasData/CSHL_data_processed/ChatCryoJane201710/ChatCryoJane201710_prep2_lossless_Ntb/ChatCryoJane201710_slide28-S2_prep2_lossless_Ntb.tif -crop 2000x2000+15551+7403 /tmp/tmp.tif\n",
      "Region 5: x=5138, y=10667, w=2000, h=2000\n",
      "convert /media/yuncong/BstemAtlasData/CSHL_data_processed/ChatCryoJane201710/ChatCryoJane201710_prep2_lossless_Ntb/ChatCryoJane201710_slide27-S2_prep2_lossless_Ntb.tif -crop 2000x2000+5138+10667 /tmp/tmp.tif\n",
      "convert /media/yuncong/BstemAtlasData/CSHL_data_processed/ChatCryoJane201710/ChatCryoJane201710_prep2_lossless_Ntb/ChatCryoJane201710_slide28-S2_prep2_lossless_Ntb.tif -crop 2000x2000+5138+10667 /tmp/tmp.tif\n",
      "Region 6: x=11290, y=4641, w=2000, h=2000\n",
      "convert /media/yuncong/BstemAtlasData/CSHL_data_processed/ChatCryoJane201710/ChatCryoJane201710_prep2_lossless_Ntb/ChatCryoJane201710_slide27-S2_prep2_lossless_Ntb.tif -crop 2000x2000+11290+4641 /tmp/tmp.tif\n",
      "convert /media/yuncong/BstemAtlasData/CSHL_data_processed/ChatCryoJane201710/ChatCryoJane201710_prep2_lossless_Ntb/ChatCryoJane201710_slide28-S2_prep2_lossless_Ntb.tif -crop 2000x2000+11290+4641 /tmp/tmp.tif\n",
      "Region 7: x=9519, y=9322, w=2000, h=2000\n",
      "convert /media/yuncong/BstemAtlasData/CSHL_data_processed/ChatCryoJane201710/ChatCryoJane201710_prep2_lossless_Ntb/ChatCryoJane201710_slide27-S2_prep2_lossless_Ntb.tif -crop 2000x2000+9519+9322 /tmp/tmp.tif\n",
      "convert /media/yuncong/BstemAtlasData/CSHL_data_processed/ChatCryoJane201710/ChatCryoJane201710_prep2_lossless_Ntb/ChatCryoJane201710_slide28-S2_prep2_lossless_Ntb.tif -crop 2000x2000+9519+9322 /tmp/tmp.tif\n",
      "Region 8: x=11276, y=8504, w=2000, h=2000\n",
      "convert /media/yuncong/BstemAtlasData/CSHL_data_processed/ChatCryoJane201710/ChatCryoJane201710_prep2_lossless_Ntb/ChatCryoJane201710_slide27-S2_prep2_lossless_Ntb.tif -crop 2000x2000+11276+8504 /tmp/tmp.tif\n",
      "convert /media/yuncong/BstemAtlasData/CSHL_data_processed/ChatCryoJane201710/ChatCryoJane201710_prep2_lossless_Ntb/ChatCryoJane201710_slide28-S2_prep2_lossless_Ntb.tif -crop 2000x2000+11276+8504 /tmp/tmp.tif\n",
      "Region 9: x=5697, y=10206, w=2000, h=2000\n",
      "convert /media/yuncong/BstemAtlasData/CSHL_data_processed/ChatCryoJane201710/ChatCryoJane201710_prep2_lossless_Ntb/ChatCryoJane201710_slide27-S2_prep2_lossless_Ntb.tif -crop 2000x2000+5697+10206 /tmp/tmp.tif\n",
      "convert /media/yuncong/BstemAtlasData/CSHL_data_processed/ChatCryoJane201710/ChatCryoJane201710_prep2_lossless_Ntb/ChatCryoJane201710_slide28-S2_prep2_lossless_Ntb.tif -crop 2000x2000+5697+10206 /tmp/tmp.tif\n",
      "aws s3 cp \"/media/yuncong/BstemAtlasData/CSHL_data_processed/ChatCryoJane201710/ChatCryoJane201710_intensity_mapping/ChatCryoJane201710_slide28-S2_to_ChatCryoJane201710_slide27-S2_intensity_mapping_all_regions.npy\" \"s3://mousebrainatlas-data/CSHL_data_processed/ChatCryoJane201710/ChatCryoJane201710_intensity_mapping/ChatCryoJane201710_slide28-S2_to_ChatCryoJane201710_slide27-S2_intensity_mapping_all_regions.npy\"\n",
      "aws s3 cp \"/media/yuncong/BstemAtlasData/CSHL_data_processed/ChatCryoJane201710/ChatCryoJane201710_intensity_mapping/ChatCryoJane201710_slide28-S2_to_ChatCryoJane201710_slide27-S2_region_bboxes.npy\" \"s3://mousebrainatlas-data/CSHL_data_processed/ChatCryoJane201710/ChatCryoJane201710_intensity_mapping/ChatCryoJane201710_slide28-S2_to_ChatCryoJane201710_slide27-S2_region_bboxes.npy\"\n"
     ]
    },
    {
     "name": "stderr",
     "output_type": "stream",
     "text": [
      "ntb 82, ntb 83\n",
      "Load NTB1: 0.00 seconds.\n",
      "Load NTB2: 0.00 seconds.\n"
     ]
    },
    {
     "name": "stdout",
     "output_type": "stream",
     "text": [
      "Region 0: x=14882, y=9368, w=2000, h=2000\n",
      "convert /media/yuncong/BstemAtlasData/CSHL_data_processed/ChatCryoJane201710/ChatCryoJane201710_prep2_lossless_Ntb/ChatCryoJane201710_slide28-S2_prep2_lossless_Ntb.tif -crop 2000x2000+14882+9368 /tmp/tmp.tif\n",
      "convert /media/yuncong/BstemAtlasData/CSHL_data_processed/ChatCryoJane201710/ChatCryoJane201710_prep2_lossless_Ntb/ChatCryoJane201710_slide27-S3_prep2_lossless_Ntb.tif -crop 2000x2000+14882+9368 /tmp/tmp.tif\n",
      "Region 1: x=13630, y=7750, w=2000, h=2000\n",
      "convert /media/yuncong/BstemAtlasData/CSHL_data_processed/ChatCryoJane201710/ChatCryoJane201710_prep2_lossless_Ntb/ChatCryoJane201710_slide28-S2_prep2_lossless_Ntb.tif -crop 2000x2000+13630+7750 /tmp/tmp.tif\n",
      "convert /media/yuncong/BstemAtlasData/CSHL_data_processed/ChatCryoJane201710/ChatCryoJane201710_prep2_lossless_Ntb/ChatCryoJane201710_slide27-S3_prep2_lossless_Ntb.tif -crop 2000x2000+13630+7750 /tmp/tmp.tif\n",
      "Region 2: x=4959, y=8537, w=2000, h=2000\n",
      "convert /media/yuncong/BstemAtlasData/CSHL_data_processed/ChatCryoJane201710/ChatCryoJane201710_prep2_lossless_Ntb/ChatCryoJane201710_slide28-S2_prep2_lossless_Ntb.tif -crop 2000x2000+4959+8537 /tmp/tmp.tif\n",
      "convert /media/yuncong/BstemAtlasData/CSHL_data_processed/ChatCryoJane201710/ChatCryoJane201710_prep2_lossless_Ntb/ChatCryoJane201710_slide27-S3_prep2_lossless_Ntb.tif -crop 2000x2000+4959+8537 /tmp/tmp.tif\n",
      "Region 3: x=12808, y=3756, w=2000, h=2000\n",
      "convert /media/yuncong/BstemAtlasData/CSHL_data_processed/ChatCryoJane201710/ChatCryoJane201710_prep2_lossless_Ntb/ChatCryoJane201710_slide28-S2_prep2_lossless_Ntb.tif -crop 2000x2000+12808+3756 /tmp/tmp.tif\n",
      "convert /media/yuncong/BstemAtlasData/CSHL_data_processed/ChatCryoJane201710/ChatCryoJane201710_prep2_lossless_Ntb/ChatCryoJane201710_slide27-S3_prep2_lossless_Ntb.tif -crop 2000x2000+12808+3756 /tmp/tmp.tif\n",
      "Region 4: x=2094, y=10712, w=2000, h=2000\n",
      "convert /media/yuncong/BstemAtlasData/CSHL_data_processed/ChatCryoJane201710/ChatCryoJane201710_prep2_lossless_Ntb/ChatCryoJane201710_slide28-S2_prep2_lossless_Ntb.tif -crop 2000x2000+2094+10712 /tmp/tmp.tif\n",
      "convert /media/yuncong/BstemAtlasData/CSHL_data_processed/ChatCryoJane201710/ChatCryoJane201710_prep2_lossless_Ntb/ChatCryoJane201710_slide27-S3_prep2_lossless_Ntb.tif -crop 2000x2000+2094+10712 /tmp/tmp.tif\n",
      "Region 5: x=1088, y=6895, w=2000, h=2000\n",
      "convert /media/yuncong/BstemAtlasData/CSHL_data_processed/ChatCryoJane201710/ChatCryoJane201710_prep2_lossless_Ntb/ChatCryoJane201710_slide28-S2_prep2_lossless_Ntb.tif -crop 2000x2000+1088+6895 /tmp/tmp.tif\n",
      "convert /media/yuncong/BstemAtlasData/CSHL_data_processed/ChatCryoJane201710/ChatCryoJane201710_prep2_lossless_Ntb/ChatCryoJane201710_slide27-S3_prep2_lossless_Ntb.tif -crop 2000x2000+1088+6895 /tmp/tmp.tif\n",
      "Region 6: x=13624, y=4967, w=2000, h=2000\n",
      "convert /media/yuncong/BstemAtlasData/CSHL_data_processed/ChatCryoJane201710/ChatCryoJane201710_prep2_lossless_Ntb/ChatCryoJane201710_slide28-S2_prep2_lossless_Ntb.tif -crop 2000x2000+13624+4967 /tmp/tmp.tif\n",
      "convert /media/yuncong/BstemAtlasData/CSHL_data_processed/ChatCryoJane201710/ChatCryoJane201710_prep2_lossless_Ntb/ChatCryoJane201710_slide27-S3_prep2_lossless_Ntb.tif -crop 2000x2000+13624+4967 /tmp/tmp.tif\n",
      "Region 7: x=5724, y=13399, w=2000, h=2000\n",
      "convert /media/yuncong/BstemAtlasData/CSHL_data_processed/ChatCryoJane201710/ChatCryoJane201710_prep2_lossless_Ntb/ChatCryoJane201710_slide28-S2_prep2_lossless_Ntb.tif -crop 2000x2000+5724+13399 /tmp/tmp.tif\n",
      "convert /media/yuncong/BstemAtlasData/CSHL_data_processed/ChatCryoJane201710/ChatCryoJane201710_prep2_lossless_Ntb/ChatCryoJane201710_slide27-S3_prep2_lossless_Ntb.tif -crop 2000x2000+5724+13399 /tmp/tmp.tif\n",
      "Region 8: x=1574, y=11337, w=2000, h=2000\n",
      "convert /media/yuncong/BstemAtlasData/CSHL_data_processed/ChatCryoJane201710/ChatCryoJane201710_prep2_lossless_Ntb/ChatCryoJane201710_slide28-S2_prep2_lossless_Ntb.tif -crop 2000x2000+1574+11337 /tmp/tmp.tif\n",
      "convert /media/yuncong/BstemAtlasData/CSHL_data_processed/ChatCryoJane201710/ChatCryoJane201710_prep2_lossless_Ntb/ChatCryoJane201710_slide27-S3_prep2_lossless_Ntb.tif -crop 2000x2000+1574+11337 /tmp/tmp.tif\n",
      "Region 9: x=6434, y=10810, w=2000, h=2000\n",
      "convert /media/yuncong/BstemAtlasData/CSHL_data_processed/ChatCryoJane201710/ChatCryoJane201710_prep2_lossless_Ntb/ChatCryoJane201710_slide28-S2_prep2_lossless_Ntb.tif -crop 2000x2000+6434+10810 /tmp/tmp.tif\n",
      "convert /media/yuncong/BstemAtlasData/CSHL_data_processed/ChatCryoJane201710/ChatCryoJane201710_prep2_lossless_Ntb/ChatCryoJane201710_slide27-S3_prep2_lossless_Ntb.tif -crop 2000x2000+6434+10810 /tmp/tmp.tif\n",
      "aws s3 cp \"/media/yuncong/BstemAtlasData/CSHL_data_processed/ChatCryoJane201710/ChatCryoJane201710_intensity_mapping/ChatCryoJane201710_slide27-S3_to_ChatCryoJane201710_slide28-S2_intensity_mapping_all_regions.npy\" \"s3://mousebrainatlas-data/CSHL_data_processed/ChatCryoJane201710/ChatCryoJane201710_intensity_mapping/ChatCryoJane201710_slide27-S3_to_ChatCryoJane201710_slide28-S2_intensity_mapping_all_regions.npy\"\n",
      "aws s3 cp \"/media/yuncong/BstemAtlasData/CSHL_data_processed/ChatCryoJane201710/ChatCryoJane201710_intensity_mapping/ChatCryoJane201710_slide27-S3_to_ChatCryoJane201710_slide28-S2_region_bboxes.npy\" \"s3://mousebrainatlas-data/CSHL_data_processed/ChatCryoJane201710/ChatCryoJane201710_intensity_mapping/ChatCryoJane201710_slide27-S3_to_ChatCryoJane201710_slide28-S2_region_bboxes.npy\"\n"
     ]
    },
    {
     "name": "stderr",
     "output_type": "stream",
     "text": [
      "ntb 83, ntb 84\n",
      "Load NTB1: 0.00 seconds.\n",
      "Load NTB2: 0.00 seconds.\n"
     ]
    },
    {
     "name": "stdout",
     "output_type": "stream",
     "text": [
      "Region 0: x=6868, y=868, w=2000, h=2000\n",
      "convert /media/yuncong/BstemAtlasData/CSHL_data_processed/ChatCryoJane201710/ChatCryoJane201710_prep2_lossless_Ntb/ChatCryoJane201710_slide27-S3_prep2_lossless_Ntb.tif -crop 2000x2000+6868+868 /tmp/tmp.tif\n",
      "convert /media/yuncong/BstemAtlasData/CSHL_data_processed/ChatCryoJane201710/ChatCryoJane201710_prep2_lossless_Ntb/ChatCryoJane201710_slide28-S3_prep2_lossless_Ntb.tif -crop 2000x2000+6868+868 /tmp/tmp.tif\n",
      "Region 1: x=6587, y=10734, w=2000, h=2000\n",
      "convert /media/yuncong/BstemAtlasData/CSHL_data_processed/ChatCryoJane201710/ChatCryoJane201710_prep2_lossless_Ntb/ChatCryoJane201710_slide27-S3_prep2_lossless_Ntb.tif -crop 2000x2000+6587+10734 /tmp/tmp.tif\n",
      "convert /media/yuncong/BstemAtlasData/CSHL_data_processed/ChatCryoJane201710/ChatCryoJane201710_prep2_lossless_Ntb/ChatCryoJane201710_slide28-S3_prep2_lossless_Ntb.tif -crop 2000x2000+6587+10734 /tmp/tmp.tif\n",
      "Region 2: x=13438, y=11440, w=2000, h=2000\n",
      "convert /media/yuncong/BstemAtlasData/CSHL_data_processed/ChatCryoJane201710/ChatCryoJane201710_prep2_lossless_Ntb/ChatCryoJane201710_slide27-S3_prep2_lossless_Ntb.tif -crop 2000x2000+13438+11440 /tmp/tmp.tif\n",
      "convert /media/yuncong/BstemAtlasData/CSHL_data_processed/ChatCryoJane201710/ChatCryoJane201710_prep2_lossless_Ntb/ChatCryoJane201710_slide28-S3_prep2_lossless_Ntb.tif -crop 2000x2000+13438+11440 /tmp/tmp.tif\n",
      "Region 3: x=1874, y=4206, w=2000, h=2000\n",
      "convert /media/yuncong/BstemAtlasData/CSHL_data_processed/ChatCryoJane201710/ChatCryoJane201710_prep2_lossless_Ntb/ChatCryoJane201710_slide27-S3_prep2_lossless_Ntb.tif -crop 2000x2000+1874+4206 /tmp/tmp.tif\n",
      "convert /media/yuncong/BstemAtlasData/CSHL_data_processed/ChatCryoJane201710/ChatCryoJane201710_prep2_lossless_Ntb/ChatCryoJane201710_slide28-S3_prep2_lossless_Ntb.tif -crop 2000x2000+1874+4206 /tmp/tmp.tif\n",
      "Region 4: x=3682, y=12008, w=2000, h=2000\n",
      "convert /media/yuncong/BstemAtlasData/CSHL_data_processed/ChatCryoJane201710/ChatCryoJane201710_prep2_lossless_Ntb/ChatCryoJane201710_slide27-S3_prep2_lossless_Ntb.tif -crop 2000x2000+3682+12008 /tmp/tmp.tif\n",
      "convert /media/yuncong/BstemAtlasData/CSHL_data_processed/ChatCryoJane201710/ChatCryoJane201710_prep2_lossless_Ntb/ChatCryoJane201710_slide28-S3_prep2_lossless_Ntb.tif -crop 2000x2000+3682+12008 /tmp/tmp.tif\n",
      "Region 5: x=17561, y=11077, w=2000, h=2000\n",
      "convert /media/yuncong/BstemAtlasData/CSHL_data_processed/ChatCryoJane201710/ChatCryoJane201710_prep2_lossless_Ntb/ChatCryoJane201710_slide27-S3_prep2_lossless_Ntb.tif -crop 2000x2000+17561+11077 /tmp/tmp.tif\n",
      "convert /media/yuncong/BstemAtlasData/CSHL_data_processed/ChatCryoJane201710/ChatCryoJane201710_prep2_lossless_Ntb/ChatCryoJane201710_slide28-S3_prep2_lossless_Ntb.tif -crop 2000x2000+17561+11077 /tmp/tmp.tif\n",
      "Region 6: x=15878, y=7959, w=2000, h=2000\n",
      "convert /media/yuncong/BstemAtlasData/CSHL_data_processed/ChatCryoJane201710/ChatCryoJane201710_prep2_lossless_Ntb/ChatCryoJane201710_slide27-S3_prep2_lossless_Ntb.tif -crop 2000x2000+15878+7959 /tmp/tmp.tif\n",
      "convert /media/yuncong/BstemAtlasData/CSHL_data_processed/ChatCryoJane201710/ChatCryoJane201710_prep2_lossless_Ntb/ChatCryoJane201710_slide28-S3_prep2_lossless_Ntb.tif -crop 2000x2000+15878+7959 /tmp/tmp.tif\n",
      "Region 7: x=11805, y=9232, w=2000, h=2000\n",
      "convert /media/yuncong/BstemAtlasData/CSHL_data_processed/ChatCryoJane201710/ChatCryoJane201710_prep2_lossless_Ntb/ChatCryoJane201710_slide27-S3_prep2_lossless_Ntb.tif -crop 2000x2000+11805+9232 /tmp/tmp.tif\n",
      "convert /media/yuncong/BstemAtlasData/CSHL_data_processed/ChatCryoJane201710/ChatCryoJane201710_prep2_lossless_Ntb/ChatCryoJane201710_slide28-S3_prep2_lossless_Ntb.tif -crop 2000x2000+11805+9232 /tmp/tmp.tif\n",
      "Region 8: x=15054, y=11834, w=2000, h=2000\n",
      "convert /media/yuncong/BstemAtlasData/CSHL_data_processed/ChatCryoJane201710/ChatCryoJane201710_prep2_lossless_Ntb/ChatCryoJane201710_slide27-S3_prep2_lossless_Ntb.tif -crop 2000x2000+15054+11834 /tmp/tmp.tif\n",
      "convert /media/yuncong/BstemAtlasData/CSHL_data_processed/ChatCryoJane201710/ChatCryoJane201710_prep2_lossless_Ntb/ChatCryoJane201710_slide28-S3_prep2_lossless_Ntb.tif -crop 2000x2000+15054+11834 /tmp/tmp.tif\n",
      "Region 9: x=9842, y=12805, w=2000, h=2000\n",
      "convert /media/yuncong/BstemAtlasData/CSHL_data_processed/ChatCryoJane201710/ChatCryoJane201710_prep2_lossless_Ntb/ChatCryoJane201710_slide27-S3_prep2_lossless_Ntb.tif -crop 2000x2000+9842+12805 /tmp/tmp.tif\n",
      "convert /media/yuncong/BstemAtlasData/CSHL_data_processed/ChatCryoJane201710/ChatCryoJane201710_prep2_lossless_Ntb/ChatCryoJane201710_slide28-S3_prep2_lossless_Ntb.tif -crop 2000x2000+9842+12805 /tmp/tmp.tif\n",
      "aws s3 cp \"/media/yuncong/BstemAtlasData/CSHL_data_processed/ChatCryoJane201710/ChatCryoJane201710_intensity_mapping/ChatCryoJane201710_slide28-S3_to_ChatCryoJane201710_slide27-S3_intensity_mapping_all_regions.npy\" \"s3://mousebrainatlas-data/CSHL_data_processed/ChatCryoJane201710/ChatCryoJane201710_intensity_mapping/ChatCryoJane201710_slide28-S3_to_ChatCryoJane201710_slide27-S3_intensity_mapping_all_regions.npy\"\n",
      "aws s3 cp \"/media/yuncong/BstemAtlasData/CSHL_data_processed/ChatCryoJane201710/ChatCryoJane201710_intensity_mapping/ChatCryoJane201710_slide28-S3_to_ChatCryoJane201710_slide27-S3_region_bboxes.npy\" \"s3://mousebrainatlas-data/CSHL_data_processed/ChatCryoJane201710/ChatCryoJane201710_intensity_mapping/ChatCryoJane201710_slide28-S3_to_ChatCryoJane201710_slide27-S3_region_bboxes.npy\"\n"
     ]
    },
    {
     "name": "stderr",
     "output_type": "stream",
     "text": [
      "ntb 84, ntb 85\n",
      "Load NTB1: 0.00 seconds.\n",
      "Load NTB2: 0.00 seconds.\n"
     ]
    },
    {
     "name": "stdout",
     "output_type": "stream",
     "text": [
      "Region 0: x=17566, y=14111, w=2000, h=2000\n",
      "convert /media/yuncong/BstemAtlasData/CSHL_data_processed/ChatCryoJane201710/ChatCryoJane201710_prep2_lossless_Ntb/ChatCryoJane201710_slide28-S3_prep2_lossless_Ntb.tif -crop 2000x2000+17566+14111 /tmp/tmp.tif\n",
      "convert /media/yuncong/BstemAtlasData/CSHL_data_processed/ChatCryoJane201710/ChatCryoJane201710_prep2_lossless_Ntb/ChatCryoJane201710_slide29-S1_prep2_lossless_Ntb.tif -crop 2000x2000+17566+14111 /tmp/tmp.tif\n",
      "Region 1: x=11483, y=11285, w=2000, h=2000\n",
      "convert /media/yuncong/BstemAtlasData/CSHL_data_processed/ChatCryoJane201710/ChatCryoJane201710_prep2_lossless_Ntb/ChatCryoJane201710_slide28-S3_prep2_lossless_Ntb.tif -crop 2000x2000+11483+11285 /tmp/tmp.tif\n",
      "convert /media/yuncong/BstemAtlasData/CSHL_data_processed/ChatCryoJane201710/ChatCryoJane201710_prep2_lossless_Ntb/ChatCryoJane201710_slide29-S1_prep2_lossless_Ntb.tif -crop 2000x2000+11483+11285 /tmp/tmp.tif\n",
      "Region 2: x=4374, y=1046, w=2000, h=2000\n",
      "convert /media/yuncong/BstemAtlasData/CSHL_data_processed/ChatCryoJane201710/ChatCryoJane201710_prep2_lossless_Ntb/ChatCryoJane201710_slide28-S3_prep2_lossless_Ntb.tif -crop 2000x2000+4374+1046 /tmp/tmp.tif\n",
      "convert /media/yuncong/BstemAtlasData/CSHL_data_processed/ChatCryoJane201710/ChatCryoJane201710_prep2_lossless_Ntb/ChatCryoJane201710_slide29-S1_prep2_lossless_Ntb.tif -crop 2000x2000+4374+1046 /tmp/tmp.tif\n",
      "Region 3: x=13508, y=13847, w=2000, h=2000\n",
      "convert /media/yuncong/BstemAtlasData/CSHL_data_processed/ChatCryoJane201710/ChatCryoJane201710_prep2_lossless_Ntb/ChatCryoJane201710_slide28-S3_prep2_lossless_Ntb.tif -crop 2000x2000+13508+13847 /tmp/tmp.tif\n",
      "convert /media/yuncong/BstemAtlasData/CSHL_data_processed/ChatCryoJane201710/ChatCryoJane201710_prep2_lossless_Ntb/ChatCryoJane201710_slide29-S1_prep2_lossless_Ntb.tif -crop 2000x2000+13508+13847 /tmp/tmp.tif\n",
      "Region 4: x=372, y=923, w=2000, h=2000\n",
      "convert /media/yuncong/BstemAtlasData/CSHL_data_processed/ChatCryoJane201710/ChatCryoJane201710_prep2_lossless_Ntb/ChatCryoJane201710_slide28-S3_prep2_lossless_Ntb.tif -crop 2000x2000+372+923 /tmp/tmp.tif\n",
      "convert /media/yuncong/BstemAtlasData/CSHL_data_processed/ChatCryoJane201710/ChatCryoJane201710_prep2_lossless_Ntb/ChatCryoJane201710_slide29-S1_prep2_lossless_Ntb.tif -crop 2000x2000+372+923 /tmp/tmp.tif\n",
      "Region 5: x=12632, y=9575, w=2000, h=2000\n",
      "convert /media/yuncong/BstemAtlasData/CSHL_data_processed/ChatCryoJane201710/ChatCryoJane201710_prep2_lossless_Ntb/ChatCryoJane201710_slide28-S3_prep2_lossless_Ntb.tif -crop 2000x2000+12632+9575 /tmp/tmp.tif\n",
      "convert /media/yuncong/BstemAtlasData/CSHL_data_processed/ChatCryoJane201710/ChatCryoJane201710_prep2_lossless_Ntb/ChatCryoJane201710_slide29-S1_prep2_lossless_Ntb.tif -crop 2000x2000+12632+9575 /tmp/tmp.tif\n",
      "Region 6: x=9352, y=4276, w=2000, h=2000\n",
      "convert /media/yuncong/BstemAtlasData/CSHL_data_processed/ChatCryoJane201710/ChatCryoJane201710_prep2_lossless_Ntb/ChatCryoJane201710_slide28-S3_prep2_lossless_Ntb.tif -crop 2000x2000+9352+4276 /tmp/tmp.tif\n",
      "convert /media/yuncong/BstemAtlasData/CSHL_data_processed/ChatCryoJane201710/ChatCryoJane201710_prep2_lossless_Ntb/ChatCryoJane201710_slide29-S1_prep2_lossless_Ntb.tif -crop 2000x2000+9352+4276 /tmp/tmp.tif\n",
      "Region 7: x=9454, y=11974, w=2000, h=2000\n",
      "convert /media/yuncong/BstemAtlasData/CSHL_data_processed/ChatCryoJane201710/ChatCryoJane201710_prep2_lossless_Ntb/ChatCryoJane201710_slide28-S3_prep2_lossless_Ntb.tif -crop 2000x2000+9454+11974 /tmp/tmp.tif\n",
      "convert /media/yuncong/BstemAtlasData/CSHL_data_processed/ChatCryoJane201710/ChatCryoJane201710_prep2_lossless_Ntb/ChatCryoJane201710_slide29-S1_prep2_lossless_Ntb.tif -crop 2000x2000+9454+11974 /tmp/tmp.tif\n",
      "Region 8: x=16887, y=5537, w=2000, h=2000\n",
      "convert /media/yuncong/BstemAtlasData/CSHL_data_processed/ChatCryoJane201710/ChatCryoJane201710_prep2_lossless_Ntb/ChatCryoJane201710_slide28-S3_prep2_lossless_Ntb.tif -crop 2000x2000+16887+5537 /tmp/tmp.tif\n",
      "convert /media/yuncong/BstemAtlasData/CSHL_data_processed/ChatCryoJane201710/ChatCryoJane201710_prep2_lossless_Ntb/ChatCryoJane201710_slide29-S1_prep2_lossless_Ntb.tif -crop 2000x2000+16887+5537 /tmp/tmp.tif\n",
      "Region 9: x=7319, y=5783, w=2000, h=2000\n",
      "convert /media/yuncong/BstemAtlasData/CSHL_data_processed/ChatCryoJane201710/ChatCryoJane201710_prep2_lossless_Ntb/ChatCryoJane201710_slide28-S3_prep2_lossless_Ntb.tif -crop 2000x2000+7319+5783 /tmp/tmp.tif\n",
      "convert /media/yuncong/BstemAtlasData/CSHL_data_processed/ChatCryoJane201710/ChatCryoJane201710_prep2_lossless_Ntb/ChatCryoJane201710_slide29-S1_prep2_lossless_Ntb.tif -crop 2000x2000+7319+5783 /tmp/tmp.tif\n",
      "aws s3 cp \"/media/yuncong/BstemAtlasData/CSHL_data_processed/ChatCryoJane201710/ChatCryoJane201710_intensity_mapping/ChatCryoJane201710_slide29-S1_to_ChatCryoJane201710_slide28-S3_intensity_mapping_all_regions.npy\" \"s3://mousebrainatlas-data/CSHL_data_processed/ChatCryoJane201710/ChatCryoJane201710_intensity_mapping/ChatCryoJane201710_slide29-S1_to_ChatCryoJane201710_slide28-S3_intensity_mapping_all_regions.npy\"\n",
      "aws s3 cp \"/media/yuncong/BstemAtlasData/CSHL_data_processed/ChatCryoJane201710/ChatCryoJane201710_intensity_mapping/ChatCryoJane201710_slide29-S1_to_ChatCryoJane201710_slide28-S3_region_bboxes.npy\" \"s3://mousebrainatlas-data/CSHL_data_processed/ChatCryoJane201710/ChatCryoJane201710_intensity_mapping/ChatCryoJane201710_slide29-S1_to_ChatCryoJane201710_slide28-S3_region_bboxes.npy\"\n"
     ]
    },
    {
     "name": "stderr",
     "output_type": "stream",
     "text": [
      "ntb 85, ntb 86\n",
      "Load NTB1: 0.00 seconds.\n",
      "Load NTB2: 0.00 seconds.\n"
     ]
    },
    {
     "name": "stdout",
     "output_type": "stream",
     "text": [
      "Region 0: x=12814, y=2998, w=2000, h=2000\n",
      "convert /media/yuncong/BstemAtlasData/CSHL_data_processed/ChatCryoJane201710/ChatCryoJane201710_prep2_lossless_Ntb/ChatCryoJane201710_slide29-S1_prep2_lossless_Ntb.tif -crop 2000x2000+12814+2998 /tmp/tmp.tif\n",
      "convert /media/yuncong/BstemAtlasData/CSHL_data_processed/ChatCryoJane201710/ChatCryoJane201710_prep2_lossless_Ntb/ChatCryoJane201710_slide30-S1_prep2_lossless_Ntb.tif -crop 2000x2000+12814+2998 /tmp/tmp.tif\n",
      "Region 1: x=7755, y=8669, w=2000, h=2000\n",
      "convert /media/yuncong/BstemAtlasData/CSHL_data_processed/ChatCryoJane201710/ChatCryoJane201710_prep2_lossless_Ntb/ChatCryoJane201710_slide29-S1_prep2_lossless_Ntb.tif -crop 2000x2000+7755+8669 /tmp/tmp.tif\n",
      "convert /media/yuncong/BstemAtlasData/CSHL_data_processed/ChatCryoJane201710/ChatCryoJane201710_prep2_lossless_Ntb/ChatCryoJane201710_slide30-S1_prep2_lossless_Ntb.tif -crop 2000x2000+7755+8669 /tmp/tmp.tif\n",
      "Region 2: x=5715, y=12620, w=2000, h=2000\n",
      "convert /media/yuncong/BstemAtlasData/CSHL_data_processed/ChatCryoJane201710/ChatCryoJane201710_prep2_lossless_Ntb/ChatCryoJane201710_slide29-S1_prep2_lossless_Ntb.tif -crop 2000x2000+5715+12620 /tmp/tmp.tif\n",
      "convert /media/yuncong/BstemAtlasData/CSHL_data_processed/ChatCryoJane201710/ChatCryoJane201710_prep2_lossless_Ntb/ChatCryoJane201710_slide30-S1_prep2_lossless_Ntb.tif -crop 2000x2000+5715+12620 /tmp/tmp.tif\n",
      "Region 3: x=12351, y=9557, w=2000, h=2000\n",
      "convert /media/yuncong/BstemAtlasData/CSHL_data_processed/ChatCryoJane201710/ChatCryoJane201710_prep2_lossless_Ntb/ChatCryoJane201710_slide29-S1_prep2_lossless_Ntb.tif -crop 2000x2000+12351+9557 /tmp/tmp.tif\n",
      "convert /media/yuncong/BstemAtlasData/CSHL_data_processed/ChatCryoJane201710/ChatCryoJane201710_prep2_lossless_Ntb/ChatCryoJane201710_slide30-S1_prep2_lossless_Ntb.tif -crop 2000x2000+12351+9557 /tmp/tmp.tif\n",
      "Region 4: x=12261, y=4009, w=2000, h=2000\n",
      "convert /media/yuncong/BstemAtlasData/CSHL_data_processed/ChatCryoJane201710/ChatCryoJane201710_prep2_lossless_Ntb/ChatCryoJane201710_slide29-S1_prep2_lossless_Ntb.tif -crop 2000x2000+12261+4009 /tmp/tmp.tif\n",
      "convert /media/yuncong/BstemAtlasData/CSHL_data_processed/ChatCryoJane201710/ChatCryoJane201710_prep2_lossless_Ntb/ChatCryoJane201710_slide30-S1_prep2_lossless_Ntb.tif -crop 2000x2000+12261+4009 /tmp/tmp.tif\n",
      "Region 5: x=4100, y=7519, w=2000, h=2000\n",
      "convert /media/yuncong/BstemAtlasData/CSHL_data_processed/ChatCryoJane201710/ChatCryoJane201710_prep2_lossless_Ntb/ChatCryoJane201710_slide29-S1_prep2_lossless_Ntb.tif -crop 2000x2000+4100+7519 /tmp/tmp.tif\n",
      "convert /media/yuncong/BstemAtlasData/CSHL_data_processed/ChatCryoJane201710/ChatCryoJane201710_prep2_lossless_Ntb/ChatCryoJane201710_slide30-S1_prep2_lossless_Ntb.tif -crop 2000x2000+4100+7519 /tmp/tmp.tif\n",
      "Region 6: x=18468, y=13987, w=2000, h=2000\n",
      "convert /media/yuncong/BstemAtlasData/CSHL_data_processed/ChatCryoJane201710/ChatCryoJane201710_prep2_lossless_Ntb/ChatCryoJane201710_slide29-S1_prep2_lossless_Ntb.tif -crop 2000x2000+18468+13987 /tmp/tmp.tif\n",
      "convert /media/yuncong/BstemAtlasData/CSHL_data_processed/ChatCryoJane201710/ChatCryoJane201710_prep2_lossless_Ntb/ChatCryoJane201710_slide30-S1_prep2_lossless_Ntb.tif -crop 2000x2000+18468+13987 /tmp/tmp.tif\n",
      "Region 7: x=11876, y=11307, w=2000, h=2000\n",
      "convert /media/yuncong/BstemAtlasData/CSHL_data_processed/ChatCryoJane201710/ChatCryoJane201710_prep2_lossless_Ntb/ChatCryoJane201710_slide29-S1_prep2_lossless_Ntb.tif -crop 2000x2000+11876+11307 /tmp/tmp.tif\n",
      "convert /media/yuncong/BstemAtlasData/CSHL_data_processed/ChatCryoJane201710/ChatCryoJane201710_prep2_lossless_Ntb/ChatCryoJane201710_slide30-S1_prep2_lossless_Ntb.tif -crop 2000x2000+11876+11307 /tmp/tmp.tif\n",
      "Region 8: x=6259, y=2974, w=2000, h=2000\n",
      "convert /media/yuncong/BstemAtlasData/CSHL_data_processed/ChatCryoJane201710/ChatCryoJane201710_prep2_lossless_Ntb/ChatCryoJane201710_slide29-S1_prep2_lossless_Ntb.tif -crop 2000x2000+6259+2974 /tmp/tmp.tif\n",
      "convert /media/yuncong/BstemAtlasData/CSHL_data_processed/ChatCryoJane201710/ChatCryoJane201710_prep2_lossless_Ntb/ChatCryoJane201710_slide30-S1_prep2_lossless_Ntb.tif -crop 2000x2000+6259+2974 /tmp/tmp.tif\n",
      "Region 9: x=360, y=5676, w=2000, h=2000\n",
      "convert /media/yuncong/BstemAtlasData/CSHL_data_processed/ChatCryoJane201710/ChatCryoJane201710_prep2_lossless_Ntb/ChatCryoJane201710_slide29-S1_prep2_lossless_Ntb.tif -crop 2000x2000+360+5676 /tmp/tmp.tif\n",
      "convert /media/yuncong/BstemAtlasData/CSHL_data_processed/ChatCryoJane201710/ChatCryoJane201710_prep2_lossless_Ntb/ChatCryoJane201710_slide30-S1_prep2_lossless_Ntb.tif -crop 2000x2000+360+5676 /tmp/tmp.tif\n",
      "aws s3 cp \"/media/yuncong/BstemAtlasData/CSHL_data_processed/ChatCryoJane201710/ChatCryoJane201710_intensity_mapping/ChatCryoJane201710_slide30-S1_to_ChatCryoJane201710_slide29-S1_intensity_mapping_all_regions.npy\" \"s3://mousebrainatlas-data/CSHL_data_processed/ChatCryoJane201710/ChatCryoJane201710_intensity_mapping/ChatCryoJane201710_slide30-S1_to_ChatCryoJane201710_slide29-S1_intensity_mapping_all_regions.npy\"\n",
      "aws s3 cp \"/media/yuncong/BstemAtlasData/CSHL_data_processed/ChatCryoJane201710/ChatCryoJane201710_intensity_mapping/ChatCryoJane201710_slide30-S1_to_ChatCryoJane201710_slide29-S1_region_bboxes.npy\" \"s3://mousebrainatlas-data/CSHL_data_processed/ChatCryoJane201710/ChatCryoJane201710_intensity_mapping/ChatCryoJane201710_slide30-S1_to_ChatCryoJane201710_slide29-S1_region_bboxes.npy\"\n"
     ]
    },
    {
     "name": "stderr",
     "output_type": "stream",
     "text": [
      "ntb 86, ntb 87\n",
      "Load NTB1: 0.00 seconds.\n",
      "Load NTB2: 0.00 seconds.\n"
     ]
    },
    {
     "name": "stdout",
     "output_type": "stream",
     "text": [
      "Region 0: x=3963, y=3929, w=2000, h=2000\n",
      "convert /media/yuncong/BstemAtlasData/CSHL_data_processed/ChatCryoJane201710/ChatCryoJane201710_prep2_lossless_Ntb/ChatCryoJane201710_slide30-S1_prep2_lossless_Ntb.tif -crop 2000x2000+3963+3929 /tmp/tmp.tif\n",
      "convert /media/yuncong/BstemAtlasData/CSHL_data_processed/ChatCryoJane201710/ChatCryoJane201710_prep2_lossless_Ntb/ChatCryoJane201710_slide29-S2_prep2_lossless_Ntb.tif -crop 2000x2000+3963+3929 /tmp/tmp.tif\n",
      "Region 1: x=10852, y=9961, w=2000, h=2000\n",
      "convert /media/yuncong/BstemAtlasData/CSHL_data_processed/ChatCryoJane201710/ChatCryoJane201710_prep2_lossless_Ntb/ChatCryoJane201710_slide30-S1_prep2_lossless_Ntb.tif -crop 2000x2000+10852+9961 /tmp/tmp.tif\n",
      "convert /media/yuncong/BstemAtlasData/CSHL_data_processed/ChatCryoJane201710/ChatCryoJane201710_prep2_lossless_Ntb/ChatCryoJane201710_slide29-S2_prep2_lossless_Ntb.tif -crop 2000x2000+10852+9961 /tmp/tmp.tif\n",
      "Region 2: x=13498, y=14658, w=2000, h=2000\n",
      "convert /media/yuncong/BstemAtlasData/CSHL_data_processed/ChatCryoJane201710/ChatCryoJane201710_prep2_lossless_Ntb/ChatCryoJane201710_slide30-S1_prep2_lossless_Ntb.tif -crop 2000x2000+13498+14658 /tmp/tmp.tif\n",
      "convert /media/yuncong/BstemAtlasData/CSHL_data_processed/ChatCryoJane201710/ChatCryoJane201710_prep2_lossless_Ntb/ChatCryoJane201710_slide29-S2_prep2_lossless_Ntb.tif -crop 2000x2000+13498+14658 /tmp/tmp.tif\n",
      "Region 3: x=462, y=4810, w=2000, h=2000\n",
      "convert /media/yuncong/BstemAtlasData/CSHL_data_processed/ChatCryoJane201710/ChatCryoJane201710_prep2_lossless_Ntb/ChatCryoJane201710_slide30-S1_prep2_lossless_Ntb.tif -crop 2000x2000+462+4810 /tmp/tmp.tif\n",
      "convert /media/yuncong/BstemAtlasData/CSHL_data_processed/ChatCryoJane201710/ChatCryoJane201710_prep2_lossless_Ntb/ChatCryoJane201710_slide29-S2_prep2_lossless_Ntb.tif -crop 2000x2000+462+4810 /tmp/tmp.tif\n",
      "Region 4: x=10165, y=12916, w=2000, h=2000\n",
      "convert /media/yuncong/BstemAtlasData/CSHL_data_processed/ChatCryoJane201710/ChatCryoJane201710_prep2_lossless_Ntb/ChatCryoJane201710_slide30-S1_prep2_lossless_Ntb.tif -crop 2000x2000+10165+12916 /tmp/tmp.tif\n",
      "convert /media/yuncong/BstemAtlasData/CSHL_data_processed/ChatCryoJane201710/ChatCryoJane201710_prep2_lossless_Ntb/ChatCryoJane201710_slide29-S2_prep2_lossless_Ntb.tif -crop 2000x2000+10165+12916 /tmp/tmp.tif\n",
      "Region 5: x=8100, y=12082, w=2000, h=2000\n",
      "convert /media/yuncong/BstemAtlasData/CSHL_data_processed/ChatCryoJane201710/ChatCryoJane201710_prep2_lossless_Ntb/ChatCryoJane201710_slide30-S1_prep2_lossless_Ntb.tif -crop 2000x2000+8100+12082 /tmp/tmp.tif\n",
      "convert /media/yuncong/BstemAtlasData/CSHL_data_processed/ChatCryoJane201710/ChatCryoJane201710_prep2_lossless_Ntb/ChatCryoJane201710_slide29-S2_prep2_lossless_Ntb.tif -crop 2000x2000+8100+12082 /tmp/tmp.tif\n",
      "Region 6: x=795, y=9243, w=2000, h=2000\n",
      "convert /media/yuncong/BstemAtlasData/CSHL_data_processed/ChatCryoJane201710/ChatCryoJane201710_prep2_lossless_Ntb/ChatCryoJane201710_slide30-S1_prep2_lossless_Ntb.tif -crop 2000x2000+795+9243 /tmp/tmp.tif\n",
      "convert /media/yuncong/BstemAtlasData/CSHL_data_processed/ChatCryoJane201710/ChatCryoJane201710_prep2_lossless_Ntb/ChatCryoJane201710_slide29-S2_prep2_lossless_Ntb.tif -crop 2000x2000+795+9243 /tmp/tmp.tif\n",
      "Region 7: x=2695, y=2700, w=2000, h=2000\n",
      "convert /media/yuncong/BstemAtlasData/CSHL_data_processed/ChatCryoJane201710/ChatCryoJane201710_prep2_lossless_Ntb/ChatCryoJane201710_slide30-S1_prep2_lossless_Ntb.tif -crop 2000x2000+2695+2700 /tmp/tmp.tif\n",
      "convert /media/yuncong/BstemAtlasData/CSHL_data_processed/ChatCryoJane201710/ChatCryoJane201710_prep2_lossless_Ntb/ChatCryoJane201710_slide29-S2_prep2_lossless_Ntb.tif -crop 2000x2000+2695+2700 /tmp/tmp.tif\n",
      "Region 8: x=11734, y=10517, w=2000, h=2000\n",
      "convert /media/yuncong/BstemAtlasData/CSHL_data_processed/ChatCryoJane201710/ChatCryoJane201710_prep2_lossless_Ntb/ChatCryoJane201710_slide30-S1_prep2_lossless_Ntb.tif -crop 2000x2000+11734+10517 /tmp/tmp.tif\n",
      "convert /media/yuncong/BstemAtlasData/CSHL_data_processed/ChatCryoJane201710/ChatCryoJane201710_prep2_lossless_Ntb/ChatCryoJane201710_slide29-S2_prep2_lossless_Ntb.tif -crop 2000x2000+11734+10517 /tmp/tmp.tif\n",
      "Region 9: x=1882, y=12670, w=2000, h=2000\n",
      "convert /media/yuncong/BstemAtlasData/CSHL_data_processed/ChatCryoJane201710/ChatCryoJane201710_prep2_lossless_Ntb/ChatCryoJane201710_slide30-S1_prep2_lossless_Ntb.tif -crop 2000x2000+1882+12670 /tmp/tmp.tif\n",
      "convert /media/yuncong/BstemAtlasData/CSHL_data_processed/ChatCryoJane201710/ChatCryoJane201710_prep2_lossless_Ntb/ChatCryoJane201710_slide29-S2_prep2_lossless_Ntb.tif -crop 2000x2000+1882+12670 /tmp/tmp.tif\n",
      "aws s3 cp \"/media/yuncong/BstemAtlasData/CSHL_data_processed/ChatCryoJane201710/ChatCryoJane201710_intensity_mapping/ChatCryoJane201710_slide29-S2_to_ChatCryoJane201710_slide30-S1_intensity_mapping_all_regions.npy\" \"s3://mousebrainatlas-data/CSHL_data_processed/ChatCryoJane201710/ChatCryoJane201710_intensity_mapping/ChatCryoJane201710_slide29-S2_to_ChatCryoJane201710_slide30-S1_intensity_mapping_all_regions.npy\"\n",
      "aws s3 cp \"/media/yuncong/BstemAtlasData/CSHL_data_processed/ChatCryoJane201710/ChatCryoJane201710_intensity_mapping/ChatCryoJane201710_slide29-S2_to_ChatCryoJane201710_slide30-S1_region_bboxes.npy\" \"s3://mousebrainatlas-data/CSHL_data_processed/ChatCryoJane201710/ChatCryoJane201710_intensity_mapping/ChatCryoJane201710_slide29-S2_to_ChatCryoJane201710_slide30-S1_region_bboxes.npy\"\n"
     ]
    },
    {
     "name": "stderr",
     "output_type": "stream",
     "text": [
      "ntb 87, ntb 88\n",
      "Load NTB1: 0.00 seconds.\n",
      "Load NTB2: 0.00 seconds.\n"
     ]
    },
    {
     "name": "stdout",
     "output_type": "stream",
     "text": [
      "Region 0: x=634, y=4433, w=2000, h=2000\n",
      "convert /media/yuncong/BstemAtlasData/CSHL_data_processed/ChatCryoJane201710/ChatCryoJane201710_prep2_lossless_Ntb/ChatCryoJane201710_slide29-S2_prep2_lossless_Ntb.tif -crop 2000x2000+634+4433 /tmp/tmp.tif\n",
      "convert /media/yuncong/BstemAtlasData/CSHL_data_processed/ChatCryoJane201710/ChatCryoJane201710_prep2_lossless_Ntb/ChatCryoJane201710_slide30-S2_prep2_lossless_Ntb.tif -crop 2000x2000+634+4433 /tmp/tmp.tif\n",
      "Region 1: x=4177, y=5316, w=2000, h=2000\n",
      "convert /media/yuncong/BstemAtlasData/CSHL_data_processed/ChatCryoJane201710/ChatCryoJane201710_prep2_lossless_Ntb/ChatCryoJane201710_slide29-S2_prep2_lossless_Ntb.tif -crop 2000x2000+4177+5316 /tmp/tmp.tif\n",
      "convert /media/yuncong/BstemAtlasData/CSHL_data_processed/ChatCryoJane201710/ChatCryoJane201710_prep2_lossless_Ntb/ChatCryoJane201710_slide30-S2_prep2_lossless_Ntb.tif -crop 2000x2000+4177+5316 /tmp/tmp.tif\n",
      "Region 2: x=1512, y=11557, w=2000, h=2000\n",
      "convert /media/yuncong/BstemAtlasData/CSHL_data_processed/ChatCryoJane201710/ChatCryoJane201710_prep2_lossless_Ntb/ChatCryoJane201710_slide29-S2_prep2_lossless_Ntb.tif -crop 2000x2000+1512+11557 /tmp/tmp.tif\n",
      "convert /media/yuncong/BstemAtlasData/CSHL_data_processed/ChatCryoJane201710/ChatCryoJane201710_prep2_lossless_Ntb/ChatCryoJane201710_slide30-S2_prep2_lossless_Ntb.tif -crop 2000x2000+1512+11557 /tmp/tmp.tif\n",
      "Region 3: x=9996, y=7248, w=2000, h=2000\n",
      "convert /media/yuncong/BstemAtlasData/CSHL_data_processed/ChatCryoJane201710/ChatCryoJane201710_prep2_lossless_Ntb/ChatCryoJane201710_slide29-S2_prep2_lossless_Ntb.tif -crop 2000x2000+9996+7248 /tmp/tmp.tif\n",
      "convert /media/yuncong/BstemAtlasData/CSHL_data_processed/ChatCryoJane201710/ChatCryoJane201710_prep2_lossless_Ntb/ChatCryoJane201710_slide30-S2_prep2_lossless_Ntb.tif -crop 2000x2000+9996+7248 /tmp/tmp.tif\n",
      "Region 4: x=17770, y=14177, w=2000, h=2000\n",
      "convert /media/yuncong/BstemAtlasData/CSHL_data_processed/ChatCryoJane201710/ChatCryoJane201710_prep2_lossless_Ntb/ChatCryoJane201710_slide29-S2_prep2_lossless_Ntb.tif -crop 2000x2000+17770+14177 /tmp/tmp.tif\n",
      "convert /media/yuncong/BstemAtlasData/CSHL_data_processed/ChatCryoJane201710/ChatCryoJane201710_prep2_lossless_Ntb/ChatCryoJane201710_slide30-S2_prep2_lossless_Ntb.tif -crop 2000x2000+17770+14177 /tmp/tmp.tif\n",
      "Region 5: x=7297, y=12700, w=2000, h=2000\n",
      "convert /media/yuncong/BstemAtlasData/CSHL_data_processed/ChatCryoJane201710/ChatCryoJane201710_prep2_lossless_Ntb/ChatCryoJane201710_slide29-S2_prep2_lossless_Ntb.tif -crop 2000x2000+7297+12700 /tmp/tmp.tif\n",
      "convert /media/yuncong/BstemAtlasData/CSHL_data_processed/ChatCryoJane201710/ChatCryoJane201710_prep2_lossless_Ntb/ChatCryoJane201710_slide30-S2_prep2_lossless_Ntb.tif -crop 2000x2000+7297+12700 /tmp/tmp.tif\n",
      "Region 6: x=2454, y=1654, w=2000, h=2000\n",
      "convert /media/yuncong/BstemAtlasData/CSHL_data_processed/ChatCryoJane201710/ChatCryoJane201710_prep2_lossless_Ntb/ChatCryoJane201710_slide29-S2_prep2_lossless_Ntb.tif -crop 2000x2000+2454+1654 /tmp/tmp.tif\n",
      "convert /media/yuncong/BstemAtlasData/CSHL_data_processed/ChatCryoJane201710/ChatCryoJane201710_prep2_lossless_Ntb/ChatCryoJane201710_slide30-S2_prep2_lossless_Ntb.tif -crop 2000x2000+2454+1654 /tmp/tmp.tif\n",
      "Region 7: x=9105, y=11895, w=2000, h=2000\n",
      "convert /media/yuncong/BstemAtlasData/CSHL_data_processed/ChatCryoJane201710/ChatCryoJane201710_prep2_lossless_Ntb/ChatCryoJane201710_slide29-S2_prep2_lossless_Ntb.tif -crop 2000x2000+9105+11895 /tmp/tmp.tif\n",
      "convert /media/yuncong/BstemAtlasData/CSHL_data_processed/ChatCryoJane201710/ChatCryoJane201710_prep2_lossless_Ntb/ChatCryoJane201710_slide30-S2_prep2_lossless_Ntb.tif -crop 2000x2000+9105+11895 /tmp/tmp.tif\n",
      "Region 8: x=5377, y=8498, w=2000, h=2000\n",
      "convert /media/yuncong/BstemAtlasData/CSHL_data_processed/ChatCryoJane201710/ChatCryoJane201710_prep2_lossless_Ntb/ChatCryoJane201710_slide29-S2_prep2_lossless_Ntb.tif -crop 2000x2000+5377+8498 /tmp/tmp.tif\n",
      "convert /media/yuncong/BstemAtlasData/CSHL_data_processed/ChatCryoJane201710/ChatCryoJane201710_prep2_lossless_Ntb/ChatCryoJane201710_slide30-S2_prep2_lossless_Ntb.tif -crop 2000x2000+5377+8498 /tmp/tmp.tif\n",
      "Region 9: x=17916, y=13448, w=2000, h=2000\n",
      "convert /media/yuncong/BstemAtlasData/CSHL_data_processed/ChatCryoJane201710/ChatCryoJane201710_prep2_lossless_Ntb/ChatCryoJane201710_slide29-S2_prep2_lossless_Ntb.tif -crop 2000x2000+17916+13448 /tmp/tmp.tif\n",
      "convert /media/yuncong/BstemAtlasData/CSHL_data_processed/ChatCryoJane201710/ChatCryoJane201710_prep2_lossless_Ntb/ChatCryoJane201710_slide30-S2_prep2_lossless_Ntb.tif -crop 2000x2000+17916+13448 /tmp/tmp.tif\n",
      "aws s3 cp \"/media/yuncong/BstemAtlasData/CSHL_data_processed/ChatCryoJane201710/ChatCryoJane201710_intensity_mapping/ChatCryoJane201710_slide30-S2_to_ChatCryoJane201710_slide29-S2_intensity_mapping_all_regions.npy\" \"s3://mousebrainatlas-data/CSHL_data_processed/ChatCryoJane201710/ChatCryoJane201710_intensity_mapping/ChatCryoJane201710_slide30-S2_to_ChatCryoJane201710_slide29-S2_intensity_mapping_all_regions.npy\"\n",
      "aws s3 cp \"/media/yuncong/BstemAtlasData/CSHL_data_processed/ChatCryoJane201710/ChatCryoJane201710_intensity_mapping/ChatCryoJane201710_slide30-S2_to_ChatCryoJane201710_slide29-S2_region_bboxes.npy\" \"s3://mousebrainatlas-data/CSHL_data_processed/ChatCryoJane201710/ChatCryoJane201710_intensity_mapping/ChatCryoJane201710_slide30-S2_to_ChatCryoJane201710_slide29-S2_region_bboxes.npy\"\n"
     ]
    },
    {
     "name": "stderr",
     "output_type": "stream",
     "text": [
      "ntb 88, ntb 89\n",
      "Load NTB1: 0.00 seconds.\n",
      "Load NTB2: 0.00 seconds.\n"
     ]
    },
    {
     "name": "stdout",
     "output_type": "stream",
     "text": [
      "Region 0: x=17807, y=10740, w=2000, h=2000\n",
      "convert /media/yuncong/BstemAtlasData/CSHL_data_processed/ChatCryoJane201710/ChatCryoJane201710_prep2_lossless_Ntb/ChatCryoJane201710_slide30-S2_prep2_lossless_Ntb.tif -crop 2000x2000+17807+10740 /tmp/tmp.tif\n",
      "convert /media/yuncong/BstemAtlasData/CSHL_data_processed/ChatCryoJane201710/ChatCryoJane201710_prep2_lossless_Ntb/ChatCryoJane201710_slide29-S3_prep2_lossless_Ntb.tif -crop 2000x2000+17807+10740 /tmp/tmp.tif\n",
      "Region 1: x=15349, y=5618, w=2000, h=2000\n",
      "convert /media/yuncong/BstemAtlasData/CSHL_data_processed/ChatCryoJane201710/ChatCryoJane201710_prep2_lossless_Ntb/ChatCryoJane201710_slide30-S2_prep2_lossless_Ntb.tif -crop 2000x2000+15349+5618 /tmp/tmp.tif\n",
      "convert /media/yuncong/BstemAtlasData/CSHL_data_processed/ChatCryoJane201710/ChatCryoJane201710_prep2_lossless_Ntb/ChatCryoJane201710_slide29-S3_prep2_lossless_Ntb.tif -crop 2000x2000+15349+5618 /tmp/tmp.tif\n",
      "Region 2: x=12944, y=7352, w=2000, h=2000\n",
      "convert /media/yuncong/BstemAtlasData/CSHL_data_processed/ChatCryoJane201710/ChatCryoJane201710_prep2_lossless_Ntb/ChatCryoJane201710_slide30-S2_prep2_lossless_Ntb.tif -crop 2000x2000+12944+7352 /tmp/tmp.tif\n",
      "convert /media/yuncong/BstemAtlasData/CSHL_data_processed/ChatCryoJane201710/ChatCryoJane201710_prep2_lossless_Ntb/ChatCryoJane201710_slide29-S3_prep2_lossless_Ntb.tif -crop 2000x2000+12944+7352 /tmp/tmp.tif\n",
      "Region 3: x=2067, y=2712, w=2000, h=2000\n",
      "convert /media/yuncong/BstemAtlasData/CSHL_data_processed/ChatCryoJane201710/ChatCryoJane201710_prep2_lossless_Ntb/ChatCryoJane201710_slide30-S2_prep2_lossless_Ntb.tif -crop 2000x2000+2067+2712 /tmp/tmp.tif\n",
      "convert /media/yuncong/BstemAtlasData/CSHL_data_processed/ChatCryoJane201710/ChatCryoJane201710_prep2_lossless_Ntb/ChatCryoJane201710_slide29-S3_prep2_lossless_Ntb.tif -crop 2000x2000+2067+2712 /tmp/tmp.tif\n",
      "Region 4: x=15348, y=5417, w=2000, h=2000\n",
      "convert /media/yuncong/BstemAtlasData/CSHL_data_processed/ChatCryoJane201710/ChatCryoJane201710_prep2_lossless_Ntb/ChatCryoJane201710_slide30-S2_prep2_lossless_Ntb.tif -crop 2000x2000+15348+5417 /tmp/tmp.tif\n",
      "convert /media/yuncong/BstemAtlasData/CSHL_data_processed/ChatCryoJane201710/ChatCryoJane201710_prep2_lossless_Ntb/ChatCryoJane201710_slide29-S3_prep2_lossless_Ntb.tif -crop 2000x2000+15348+5417 /tmp/tmp.tif\n",
      "Region 5: x=8832, y=4464, w=2000, h=2000\n",
      "convert /media/yuncong/BstemAtlasData/CSHL_data_processed/ChatCryoJane201710/ChatCryoJane201710_prep2_lossless_Ntb/ChatCryoJane201710_slide30-S2_prep2_lossless_Ntb.tif -crop 2000x2000+8832+4464 /tmp/tmp.tif\n",
      "convert /media/yuncong/BstemAtlasData/CSHL_data_processed/ChatCryoJane201710/ChatCryoJane201710_prep2_lossless_Ntb/ChatCryoJane201710_slide29-S3_prep2_lossless_Ntb.tif -crop 2000x2000+8832+4464 /tmp/tmp.tif\n",
      "Region 6: x=19569, y=13457, w=2000, h=2000\n",
      "convert /media/yuncong/BstemAtlasData/CSHL_data_processed/ChatCryoJane201710/ChatCryoJane201710_prep2_lossless_Ntb/ChatCryoJane201710_slide30-S2_prep2_lossless_Ntb.tif -crop 2000x2000+19569+13457 /tmp/tmp.tif\n",
      "convert /media/yuncong/BstemAtlasData/CSHL_data_processed/ChatCryoJane201710/ChatCryoJane201710_prep2_lossless_Ntb/ChatCryoJane201710_slide29-S3_prep2_lossless_Ntb.tif -crop 2000x2000+19569+13457 /tmp/tmp.tif\n",
      "Region 7: x=1313, y=2665, w=2000, h=2000\n",
      "convert /media/yuncong/BstemAtlasData/CSHL_data_processed/ChatCryoJane201710/ChatCryoJane201710_prep2_lossless_Ntb/ChatCryoJane201710_slide30-S2_prep2_lossless_Ntb.tif -crop 2000x2000+1313+2665 /tmp/tmp.tif\n",
      "convert /media/yuncong/BstemAtlasData/CSHL_data_processed/ChatCryoJane201710/ChatCryoJane201710_prep2_lossless_Ntb/ChatCryoJane201710_slide29-S3_prep2_lossless_Ntb.tif -crop 2000x2000+1313+2665 /tmp/tmp.tif\n",
      "Region 8: x=4742, y=7788, w=2000, h=2000\n",
      "convert /media/yuncong/BstemAtlasData/CSHL_data_processed/ChatCryoJane201710/ChatCryoJane201710_prep2_lossless_Ntb/ChatCryoJane201710_slide30-S2_prep2_lossless_Ntb.tif -crop 2000x2000+4742+7788 /tmp/tmp.tif\n",
      "convert /media/yuncong/BstemAtlasData/CSHL_data_processed/ChatCryoJane201710/ChatCryoJane201710_prep2_lossless_Ntb/ChatCryoJane201710_slide29-S3_prep2_lossless_Ntb.tif -crop 2000x2000+4742+7788 /tmp/tmp.tif\n",
      "Region 9: x=18133, y=12688, w=2000, h=2000\n",
      "convert /media/yuncong/BstemAtlasData/CSHL_data_processed/ChatCryoJane201710/ChatCryoJane201710_prep2_lossless_Ntb/ChatCryoJane201710_slide30-S2_prep2_lossless_Ntb.tif -crop 2000x2000+18133+12688 /tmp/tmp.tif\n",
      "convert /media/yuncong/BstemAtlasData/CSHL_data_processed/ChatCryoJane201710/ChatCryoJane201710_prep2_lossless_Ntb/ChatCryoJane201710_slide29-S3_prep2_lossless_Ntb.tif -crop 2000x2000+18133+12688 /tmp/tmp.tif\n",
      "aws s3 cp \"/media/yuncong/BstemAtlasData/CSHL_data_processed/ChatCryoJane201710/ChatCryoJane201710_intensity_mapping/ChatCryoJane201710_slide29-S3_to_ChatCryoJane201710_slide30-S2_intensity_mapping_all_regions.npy\" \"s3://mousebrainatlas-data/CSHL_data_processed/ChatCryoJane201710/ChatCryoJane201710_intensity_mapping/ChatCryoJane201710_slide29-S3_to_ChatCryoJane201710_slide30-S2_intensity_mapping_all_regions.npy\"\n",
      "aws s3 cp \"/media/yuncong/BstemAtlasData/CSHL_data_processed/ChatCryoJane201710/ChatCryoJane201710_intensity_mapping/ChatCryoJane201710_slide29-S3_to_ChatCryoJane201710_slide30-S2_region_bboxes.npy\" \"s3://mousebrainatlas-data/CSHL_data_processed/ChatCryoJane201710/ChatCryoJane201710_intensity_mapping/ChatCryoJane201710_slide29-S3_to_ChatCryoJane201710_slide30-S2_region_bboxes.npy\"\n"
     ]
    },
    {
     "name": "stderr",
     "output_type": "stream",
     "text": [
      "ntb 89, ntb 90\n",
      "Load NTB1: 0.00 seconds.\n",
      "Load NTB2: 0.00 seconds.\n"
     ]
    },
    {
     "name": "stdout",
     "output_type": "stream",
     "text": [
      "Region 0: x=11297, y=12153, w=2000, h=2000\n",
      "convert /media/yuncong/BstemAtlasData/CSHL_data_processed/ChatCryoJane201710/ChatCryoJane201710_prep2_lossless_Ntb/ChatCryoJane201710_slide29-S3_prep2_lossless_Ntb.tif -crop 2000x2000+11297+12153 /tmp/tmp.tif\n",
      "convert /media/yuncong/BstemAtlasData/CSHL_data_processed/ChatCryoJane201710/ChatCryoJane201710_prep2_lossless_Ntb/ChatCryoJane201710_slide30-S3_prep2_lossless_Ntb.tif -crop 2000x2000+11297+12153 /tmp/tmp.tif\n",
      "Region 1: x=6309, y=3943, w=2000, h=2000\n",
      "convert /media/yuncong/BstemAtlasData/CSHL_data_processed/ChatCryoJane201710/ChatCryoJane201710_prep2_lossless_Ntb/ChatCryoJane201710_slide29-S3_prep2_lossless_Ntb.tif -crop 2000x2000+6309+3943 /tmp/tmp.tif\n",
      "convert /media/yuncong/BstemAtlasData/CSHL_data_processed/ChatCryoJane201710/ChatCryoJane201710_prep2_lossless_Ntb/ChatCryoJane201710_slide30-S3_prep2_lossless_Ntb.tif -crop 2000x2000+6309+3943 /tmp/tmp.tif\n",
      "Region 2: x=9182, y=7979, w=2000, h=2000\n",
      "convert /media/yuncong/BstemAtlasData/CSHL_data_processed/ChatCryoJane201710/ChatCryoJane201710_prep2_lossless_Ntb/ChatCryoJane201710_slide29-S3_prep2_lossless_Ntb.tif -crop 2000x2000+9182+7979 /tmp/tmp.tif\n",
      "convert /media/yuncong/BstemAtlasData/CSHL_data_processed/ChatCryoJane201710/ChatCryoJane201710_prep2_lossless_Ntb/ChatCryoJane201710_slide30-S3_prep2_lossless_Ntb.tif -crop 2000x2000+9182+7979 /tmp/tmp.tif\n",
      "Region 3: x=14417, y=11533, w=2000, h=2000\n",
      "convert /media/yuncong/BstemAtlasData/CSHL_data_processed/ChatCryoJane201710/ChatCryoJane201710_prep2_lossless_Ntb/ChatCryoJane201710_slide29-S3_prep2_lossless_Ntb.tif -crop 2000x2000+14417+11533 /tmp/tmp.tif\n",
      "convert /media/yuncong/BstemAtlasData/CSHL_data_processed/ChatCryoJane201710/ChatCryoJane201710_prep2_lossless_Ntb/ChatCryoJane201710_slide30-S3_prep2_lossless_Ntb.tif -crop 2000x2000+14417+11533 /tmp/tmp.tif\n",
      "Region 4: x=11947, y=9278, w=2000, h=2000\n",
      "convert /media/yuncong/BstemAtlasData/CSHL_data_processed/ChatCryoJane201710/ChatCryoJane201710_prep2_lossless_Ntb/ChatCryoJane201710_slide29-S3_prep2_lossless_Ntb.tif -crop 2000x2000+11947+9278 /tmp/tmp.tif\n",
      "convert /media/yuncong/BstemAtlasData/CSHL_data_processed/ChatCryoJane201710/ChatCryoJane201710_prep2_lossless_Ntb/ChatCryoJane201710_slide30-S3_prep2_lossless_Ntb.tif -crop 2000x2000+11947+9278 /tmp/tmp.tif\n",
      "Region 5: x=18835, y=13394, w=2000, h=2000\n",
      "convert /media/yuncong/BstemAtlasData/CSHL_data_processed/ChatCryoJane201710/ChatCryoJane201710_prep2_lossless_Ntb/ChatCryoJane201710_slide29-S3_prep2_lossless_Ntb.tif -crop 2000x2000+18835+13394 /tmp/tmp.tif\n",
      "convert /media/yuncong/BstemAtlasData/CSHL_data_processed/ChatCryoJane201710/ChatCryoJane201710_prep2_lossless_Ntb/ChatCryoJane201710_slide30-S3_prep2_lossless_Ntb.tif -crop 2000x2000+18835+13394 /tmp/tmp.tif\n",
      "Region 6: x=13473, y=4395, w=2000, h=2000\n",
      "convert /media/yuncong/BstemAtlasData/CSHL_data_processed/ChatCryoJane201710/ChatCryoJane201710_prep2_lossless_Ntb/ChatCryoJane201710_slide29-S3_prep2_lossless_Ntb.tif -crop 2000x2000+13473+4395 /tmp/tmp.tif\n",
      "convert /media/yuncong/BstemAtlasData/CSHL_data_processed/ChatCryoJane201710/ChatCryoJane201710_prep2_lossless_Ntb/ChatCryoJane201710_slide30-S3_prep2_lossless_Ntb.tif -crop 2000x2000+13473+4395 /tmp/tmp.tif\n",
      "Region 7: x=16599, y=12563, w=2000, h=2000\n",
      "convert /media/yuncong/BstemAtlasData/CSHL_data_processed/ChatCryoJane201710/ChatCryoJane201710_prep2_lossless_Ntb/ChatCryoJane201710_slide29-S3_prep2_lossless_Ntb.tif -crop 2000x2000+16599+12563 /tmp/tmp.tif\n",
      "convert /media/yuncong/BstemAtlasData/CSHL_data_processed/ChatCryoJane201710/ChatCryoJane201710_prep2_lossless_Ntb/ChatCryoJane201710_slide30-S3_prep2_lossless_Ntb.tif -crop 2000x2000+16599+12563 /tmp/tmp.tif\n",
      "Region 8: x=10026, y=6450, w=2000, h=2000\n",
      "convert /media/yuncong/BstemAtlasData/CSHL_data_processed/ChatCryoJane201710/ChatCryoJane201710_prep2_lossless_Ntb/ChatCryoJane201710_slide29-S3_prep2_lossless_Ntb.tif -crop 2000x2000+10026+6450 /tmp/tmp.tif\n",
      "convert /media/yuncong/BstemAtlasData/CSHL_data_processed/ChatCryoJane201710/ChatCryoJane201710_prep2_lossless_Ntb/ChatCryoJane201710_slide30-S3_prep2_lossless_Ntb.tif -crop 2000x2000+10026+6450 /tmp/tmp.tif\n",
      "Region 9: x=7613, y=8437, w=2000, h=2000\n",
      "convert /media/yuncong/BstemAtlasData/CSHL_data_processed/ChatCryoJane201710/ChatCryoJane201710_prep2_lossless_Ntb/ChatCryoJane201710_slide29-S3_prep2_lossless_Ntb.tif -crop 2000x2000+7613+8437 /tmp/tmp.tif\n",
      "convert /media/yuncong/BstemAtlasData/CSHL_data_processed/ChatCryoJane201710/ChatCryoJane201710_prep2_lossless_Ntb/ChatCryoJane201710_slide30-S3_prep2_lossless_Ntb.tif -crop 2000x2000+7613+8437 /tmp/tmp.tif\n",
      "aws s3 cp \"/media/yuncong/BstemAtlasData/CSHL_data_processed/ChatCryoJane201710/ChatCryoJane201710_intensity_mapping/ChatCryoJane201710_slide30-S3_to_ChatCryoJane201710_slide29-S3_intensity_mapping_all_regions.npy\" \"s3://mousebrainatlas-data/CSHL_data_processed/ChatCryoJane201710/ChatCryoJane201710_intensity_mapping/ChatCryoJane201710_slide30-S3_to_ChatCryoJane201710_slide29-S3_intensity_mapping_all_regions.npy\"\n",
      "aws s3 cp \"/media/yuncong/BstemAtlasData/CSHL_data_processed/ChatCryoJane201710/ChatCryoJane201710_intensity_mapping/ChatCryoJane201710_slide30-S3_to_ChatCryoJane201710_slide29-S3_region_bboxes.npy\" \"s3://mousebrainatlas-data/CSHL_data_processed/ChatCryoJane201710/ChatCryoJane201710_intensity_mapping/ChatCryoJane201710_slide30-S3_to_ChatCryoJane201710_slide29-S3_region_bboxes.npy\"\n"
     ]
    },
    {
     "name": "stderr",
     "output_type": "stream",
     "text": [
      "ntb 90, ntb 91\n",
      "Load NTB1: 0.00 seconds.\n",
      "Load NTB2: 0.00 seconds.\n"
     ]
    },
    {
     "name": "stdout",
     "output_type": "stream",
     "text": [
      "Region 0: x=1858, y=6010, w=2000, h=2000\n",
      "convert /media/yuncong/BstemAtlasData/CSHL_data_processed/ChatCryoJane201710/ChatCryoJane201710_prep2_lossless_Ntb/ChatCryoJane201710_slide30-S3_prep2_lossless_Ntb.tif -crop 2000x2000+1858+6010 /tmp/tmp.tif\n",
      "convert /media/yuncong/BstemAtlasData/CSHL_data_processed/ChatCryoJane201710/ChatCryoJane201710_prep2_lossless_Ntb/ChatCryoJane201710_slide31-S1_prep2_lossless_Ntb.tif -crop 2000x2000+1858+6010 /tmp/tmp.tif\n",
      "Region 1: x=8032, y=13139, w=2000, h=2000\n",
      "convert /media/yuncong/BstemAtlasData/CSHL_data_processed/ChatCryoJane201710/ChatCryoJane201710_prep2_lossless_Ntb/ChatCryoJane201710_slide30-S3_prep2_lossless_Ntb.tif -crop 2000x2000+8032+13139 /tmp/tmp.tif\n",
      "convert /media/yuncong/BstemAtlasData/CSHL_data_processed/ChatCryoJane201710/ChatCryoJane201710_prep2_lossless_Ntb/ChatCryoJane201710_slide31-S1_prep2_lossless_Ntb.tif -crop 2000x2000+8032+13139 /tmp/tmp.tif\n",
      "Region 2: x=3812, y=10265, w=2000, h=2000\n",
      "convert /media/yuncong/BstemAtlasData/CSHL_data_processed/ChatCryoJane201710/ChatCryoJane201710_prep2_lossless_Ntb/ChatCryoJane201710_slide30-S3_prep2_lossless_Ntb.tif -crop 2000x2000+3812+10265 /tmp/tmp.tif\n",
      "convert /media/yuncong/BstemAtlasData/CSHL_data_processed/ChatCryoJane201710/ChatCryoJane201710_prep2_lossless_Ntb/ChatCryoJane201710_slide31-S1_prep2_lossless_Ntb.tif -crop 2000x2000+3812+10265 /tmp/tmp.tif\n",
      "Region 3: x=9173, y=11160, w=2000, h=2000\n",
      "convert /media/yuncong/BstemAtlasData/CSHL_data_processed/ChatCryoJane201710/ChatCryoJane201710_prep2_lossless_Ntb/ChatCryoJane201710_slide30-S3_prep2_lossless_Ntb.tif -crop 2000x2000+9173+11160 /tmp/tmp.tif\n",
      "convert /media/yuncong/BstemAtlasData/CSHL_data_processed/ChatCryoJane201710/ChatCryoJane201710_prep2_lossless_Ntb/ChatCryoJane201710_slide31-S1_prep2_lossless_Ntb.tif -crop 2000x2000+9173+11160 /tmp/tmp.tif\n",
      "Region 4: x=6037, y=4476, w=2000, h=2000\n",
      "convert /media/yuncong/BstemAtlasData/CSHL_data_processed/ChatCryoJane201710/ChatCryoJane201710_prep2_lossless_Ntb/ChatCryoJane201710_slide30-S3_prep2_lossless_Ntb.tif -crop 2000x2000+6037+4476 /tmp/tmp.tif\n",
      "convert /media/yuncong/BstemAtlasData/CSHL_data_processed/ChatCryoJane201710/ChatCryoJane201710_prep2_lossless_Ntb/ChatCryoJane201710_slide31-S1_prep2_lossless_Ntb.tif -crop 2000x2000+6037+4476 /tmp/tmp.tif\n",
      "Region 5: x=16592, y=4199, w=2000, h=2000\n",
      "convert /media/yuncong/BstemAtlasData/CSHL_data_processed/ChatCryoJane201710/ChatCryoJane201710_prep2_lossless_Ntb/ChatCryoJane201710_slide30-S3_prep2_lossless_Ntb.tif -crop 2000x2000+16592+4199 /tmp/tmp.tif\n",
      "convert /media/yuncong/BstemAtlasData/CSHL_data_processed/ChatCryoJane201710/ChatCryoJane201710_prep2_lossless_Ntb/ChatCryoJane201710_slide31-S1_prep2_lossless_Ntb.tif -crop 2000x2000+16592+4199 /tmp/tmp.tif\n",
      "Region 6: x=5099, y=3205, w=2000, h=2000\n",
      "convert /media/yuncong/BstemAtlasData/CSHL_data_processed/ChatCryoJane201710/ChatCryoJane201710_prep2_lossless_Ntb/ChatCryoJane201710_slide30-S3_prep2_lossless_Ntb.tif -crop 2000x2000+5099+3205 /tmp/tmp.tif\n",
      "convert /media/yuncong/BstemAtlasData/CSHL_data_processed/ChatCryoJane201710/ChatCryoJane201710_prep2_lossless_Ntb/ChatCryoJane201710_slide31-S1_prep2_lossless_Ntb.tif -crop 2000x2000+5099+3205 /tmp/tmp.tif\n",
      "Region 7: x=10853, y=6390, w=2000, h=2000\n",
      "convert /media/yuncong/BstemAtlasData/CSHL_data_processed/ChatCryoJane201710/ChatCryoJane201710_prep2_lossless_Ntb/ChatCryoJane201710_slide30-S3_prep2_lossless_Ntb.tif -crop 2000x2000+10853+6390 /tmp/tmp.tif\n",
      "convert /media/yuncong/BstemAtlasData/CSHL_data_processed/ChatCryoJane201710/ChatCryoJane201710_prep2_lossless_Ntb/ChatCryoJane201710_slide31-S1_prep2_lossless_Ntb.tif -crop 2000x2000+10853+6390 /tmp/tmp.tif\n",
      "Region 8: x=12971, y=11851, w=2000, h=2000\n",
      "convert /media/yuncong/BstemAtlasData/CSHL_data_processed/ChatCryoJane201710/ChatCryoJane201710_prep2_lossless_Ntb/ChatCryoJane201710_slide30-S3_prep2_lossless_Ntb.tif -crop 2000x2000+12971+11851 /tmp/tmp.tif\n",
      "convert /media/yuncong/BstemAtlasData/CSHL_data_processed/ChatCryoJane201710/ChatCryoJane201710_prep2_lossless_Ntb/ChatCryoJane201710_slide31-S1_prep2_lossless_Ntb.tif -crop 2000x2000+12971+11851 /tmp/tmp.tif\n",
      "Region 9: x=8215, y=13257, w=2000, h=2000\n",
      "convert /media/yuncong/BstemAtlasData/CSHL_data_processed/ChatCryoJane201710/ChatCryoJane201710_prep2_lossless_Ntb/ChatCryoJane201710_slide30-S3_prep2_lossless_Ntb.tif -crop 2000x2000+8215+13257 /tmp/tmp.tif\n",
      "convert /media/yuncong/BstemAtlasData/CSHL_data_processed/ChatCryoJane201710/ChatCryoJane201710_prep2_lossless_Ntb/ChatCryoJane201710_slide31-S1_prep2_lossless_Ntb.tif -crop 2000x2000+8215+13257 /tmp/tmp.tif\n",
      "aws s3 cp \"/media/yuncong/BstemAtlasData/CSHL_data_processed/ChatCryoJane201710/ChatCryoJane201710_intensity_mapping/ChatCryoJane201710_slide31-S1_to_ChatCryoJane201710_slide30-S3_intensity_mapping_all_regions.npy\" \"s3://mousebrainatlas-data/CSHL_data_processed/ChatCryoJane201710/ChatCryoJane201710_intensity_mapping/ChatCryoJane201710_slide31-S1_to_ChatCryoJane201710_slide30-S3_intensity_mapping_all_regions.npy\"\n",
      "aws s3 cp \"/media/yuncong/BstemAtlasData/CSHL_data_processed/ChatCryoJane201710/ChatCryoJane201710_intensity_mapping/ChatCryoJane201710_slide31-S1_to_ChatCryoJane201710_slide30-S3_region_bboxes.npy\" \"s3://mousebrainatlas-data/CSHL_data_processed/ChatCryoJane201710/ChatCryoJane201710_intensity_mapping/ChatCryoJane201710_slide31-S1_to_ChatCryoJane201710_slide30-S3_region_bboxes.npy\"\n"
     ]
    },
    {
     "name": "stderr",
     "output_type": "stream",
     "text": [
      "ntb 91, ntb 92\n",
      "Load NTB1: 0.00 seconds.\n",
      "Load NTB2: 0.00 seconds.\n"
     ]
    },
    {
     "name": "stdout",
     "output_type": "stream",
     "text": [
      "Region 0: x=15667, y=6173, w=2000, h=2000\n",
      "convert /media/yuncong/BstemAtlasData/CSHL_data_processed/ChatCryoJane201710/ChatCryoJane201710_prep2_lossless_Ntb/ChatCryoJane201710_slide31-S1_prep2_lossless_Ntb.tif -crop 2000x2000+15667+6173 /tmp/tmp.tif\n",
      "convert /media/yuncong/BstemAtlasData/CSHL_data_processed/ChatCryoJane201710/ChatCryoJane201710_prep2_lossless_Ntb/ChatCryoJane201710_slide32-S1_prep2_lossless_Ntb.tif -crop 2000x2000+15667+6173 /tmp/tmp.tif\n",
      "Region 1: x=9094, y=4020, w=2000, h=2000\n",
      "convert /media/yuncong/BstemAtlasData/CSHL_data_processed/ChatCryoJane201710/ChatCryoJane201710_prep2_lossless_Ntb/ChatCryoJane201710_slide31-S1_prep2_lossless_Ntb.tif -crop 2000x2000+9094+4020 /tmp/tmp.tif\n",
      "convert /media/yuncong/BstemAtlasData/CSHL_data_processed/ChatCryoJane201710/ChatCryoJane201710_prep2_lossless_Ntb/ChatCryoJane201710_slide32-S1_prep2_lossless_Ntb.tif -crop 2000x2000+9094+4020 /tmp/tmp.tif\n",
      "Region 2: x=9085, y=2747, w=2000, h=2000\n",
      "convert /media/yuncong/BstemAtlasData/CSHL_data_processed/ChatCryoJane201710/ChatCryoJane201710_prep2_lossless_Ntb/ChatCryoJane201710_slide31-S1_prep2_lossless_Ntb.tif -crop 2000x2000+9085+2747 /tmp/tmp.tif\n",
      "convert /media/yuncong/BstemAtlasData/CSHL_data_processed/ChatCryoJane201710/ChatCryoJane201710_prep2_lossless_Ntb/ChatCryoJane201710_slide32-S1_prep2_lossless_Ntb.tif -crop 2000x2000+9085+2747 /tmp/tmp.tif\n",
      "Region 3: x=1224, y=2213, w=2000, h=2000\n",
      "convert /media/yuncong/BstemAtlasData/CSHL_data_processed/ChatCryoJane201710/ChatCryoJane201710_prep2_lossless_Ntb/ChatCryoJane201710_slide31-S1_prep2_lossless_Ntb.tif -crop 2000x2000+1224+2213 /tmp/tmp.tif\n",
      "convert /media/yuncong/BstemAtlasData/CSHL_data_processed/ChatCryoJane201710/ChatCryoJane201710_prep2_lossless_Ntb/ChatCryoJane201710_slide32-S1_prep2_lossless_Ntb.tif -crop 2000x2000+1224+2213 /tmp/tmp.tif\n",
      "Region 4: x=11433, y=11015, w=2000, h=2000\n",
      "convert /media/yuncong/BstemAtlasData/CSHL_data_processed/ChatCryoJane201710/ChatCryoJane201710_prep2_lossless_Ntb/ChatCryoJane201710_slide31-S1_prep2_lossless_Ntb.tif -crop 2000x2000+11433+11015 /tmp/tmp.tif\n",
      "convert /media/yuncong/BstemAtlasData/CSHL_data_processed/ChatCryoJane201710/ChatCryoJane201710_prep2_lossless_Ntb/ChatCryoJane201710_slide32-S1_prep2_lossless_Ntb.tif -crop 2000x2000+11433+11015 /tmp/tmp.tif\n",
      "Region 5: x=4834, y=5354, w=2000, h=2000\n",
      "convert /media/yuncong/BstemAtlasData/CSHL_data_processed/ChatCryoJane201710/ChatCryoJane201710_prep2_lossless_Ntb/ChatCryoJane201710_slide31-S1_prep2_lossless_Ntb.tif -crop 2000x2000+4834+5354 /tmp/tmp.tif\n",
      "convert /media/yuncong/BstemAtlasData/CSHL_data_processed/ChatCryoJane201710/ChatCryoJane201710_prep2_lossless_Ntb/ChatCryoJane201710_slide32-S1_prep2_lossless_Ntb.tif -crop 2000x2000+4834+5354 /tmp/tmp.tif\n",
      "Region 6: x=9743, y=10475, w=2000, h=2000\n",
      "convert /media/yuncong/BstemAtlasData/CSHL_data_processed/ChatCryoJane201710/ChatCryoJane201710_prep2_lossless_Ntb/ChatCryoJane201710_slide31-S1_prep2_lossless_Ntb.tif -crop 2000x2000+9743+10475 /tmp/tmp.tif\n",
      "convert /media/yuncong/BstemAtlasData/CSHL_data_processed/ChatCryoJane201710/ChatCryoJane201710_prep2_lossless_Ntb/ChatCryoJane201710_slide32-S1_prep2_lossless_Ntb.tif -crop 2000x2000+9743+10475 /tmp/tmp.tif\n",
      "Region 7: x=14189, y=4591, w=2000, h=2000\n",
      "convert /media/yuncong/BstemAtlasData/CSHL_data_processed/ChatCryoJane201710/ChatCryoJane201710_prep2_lossless_Ntb/ChatCryoJane201710_slide31-S1_prep2_lossless_Ntb.tif -crop 2000x2000+14189+4591 /tmp/tmp.tif\n",
      "convert /media/yuncong/BstemAtlasData/CSHL_data_processed/ChatCryoJane201710/ChatCryoJane201710_prep2_lossless_Ntb/ChatCryoJane201710_slide32-S1_prep2_lossless_Ntb.tif -crop 2000x2000+14189+4591 /tmp/tmp.tif\n",
      "Region 8: x=11459, y=12931, w=2000, h=2000\n",
      "convert /media/yuncong/BstemAtlasData/CSHL_data_processed/ChatCryoJane201710/ChatCryoJane201710_prep2_lossless_Ntb/ChatCryoJane201710_slide31-S1_prep2_lossless_Ntb.tif -crop 2000x2000+11459+12931 /tmp/tmp.tif\n",
      "convert /media/yuncong/BstemAtlasData/CSHL_data_processed/ChatCryoJane201710/ChatCryoJane201710_prep2_lossless_Ntb/ChatCryoJane201710_slide32-S1_prep2_lossless_Ntb.tif -crop 2000x2000+11459+12931 /tmp/tmp.tif\n",
      "Region 9: x=15374, y=6440, w=2000, h=2000\n",
      "convert /media/yuncong/BstemAtlasData/CSHL_data_processed/ChatCryoJane201710/ChatCryoJane201710_prep2_lossless_Ntb/ChatCryoJane201710_slide31-S1_prep2_lossless_Ntb.tif -crop 2000x2000+15374+6440 /tmp/tmp.tif\n",
      "convert /media/yuncong/BstemAtlasData/CSHL_data_processed/ChatCryoJane201710/ChatCryoJane201710_prep2_lossless_Ntb/ChatCryoJane201710_slide32-S1_prep2_lossless_Ntb.tif -crop 2000x2000+15374+6440 /tmp/tmp.tif\n",
      "aws s3 cp \"/media/yuncong/BstemAtlasData/CSHL_data_processed/ChatCryoJane201710/ChatCryoJane201710_intensity_mapping/ChatCryoJane201710_slide32-S1_to_ChatCryoJane201710_slide31-S1_intensity_mapping_all_regions.npy\" \"s3://mousebrainatlas-data/CSHL_data_processed/ChatCryoJane201710/ChatCryoJane201710_intensity_mapping/ChatCryoJane201710_slide32-S1_to_ChatCryoJane201710_slide31-S1_intensity_mapping_all_regions.npy\"\n",
      "aws s3 cp \"/media/yuncong/BstemAtlasData/CSHL_data_processed/ChatCryoJane201710/ChatCryoJane201710_intensity_mapping/ChatCryoJane201710_slide32-S1_to_ChatCryoJane201710_slide31-S1_region_bboxes.npy\" \"s3://mousebrainatlas-data/CSHL_data_processed/ChatCryoJane201710/ChatCryoJane201710_intensity_mapping/ChatCryoJane201710_slide32-S1_to_ChatCryoJane201710_slide31-S1_region_bboxes.npy\"\n"
     ]
    },
    {
     "name": "stderr",
     "output_type": "stream",
     "text": [
      "ntb 92, ntb 93\n",
      "Load NTB1: 0.00 seconds.\n",
      "Load NTB2: 0.00 seconds.\n"
     ]
    },
    {
     "name": "stdout",
     "output_type": "stream",
     "text": [
      "Region 0: x=9956, y=3619, w=2000, h=2000\n",
      "convert /media/yuncong/BstemAtlasData/CSHL_data_processed/ChatCryoJane201710/ChatCryoJane201710_prep2_lossless_Ntb/ChatCryoJane201710_slide32-S1_prep2_lossless_Ntb.tif -crop 2000x2000+9956+3619 /tmp/tmp.tif\n",
      "convert /media/yuncong/BstemAtlasData/CSHL_data_processed/ChatCryoJane201710/ChatCryoJane201710_prep2_lossless_Ntb/ChatCryoJane201710_slide31-S2_prep2_lossless_Ntb.tif -crop 2000x2000+9956+3619 /tmp/tmp.tif\n",
      "Region 1: x=4541, y=13656, w=2000, h=2000\n",
      "convert /media/yuncong/BstemAtlasData/CSHL_data_processed/ChatCryoJane201710/ChatCryoJane201710_prep2_lossless_Ntb/ChatCryoJane201710_slide32-S1_prep2_lossless_Ntb.tif -crop 2000x2000+4541+13656 /tmp/tmp.tif\n",
      "convert /media/yuncong/BstemAtlasData/CSHL_data_processed/ChatCryoJane201710/ChatCryoJane201710_prep2_lossless_Ntb/ChatCryoJane201710_slide31-S2_prep2_lossless_Ntb.tif -crop 2000x2000+4541+13656 /tmp/tmp.tif\n",
      "Region 2: x=910, y=12140, w=2000, h=2000\n",
      "convert /media/yuncong/BstemAtlasData/CSHL_data_processed/ChatCryoJane201710/ChatCryoJane201710_prep2_lossless_Ntb/ChatCryoJane201710_slide32-S1_prep2_lossless_Ntb.tif -crop 2000x2000+910+12140 /tmp/tmp.tif\n",
      "convert /media/yuncong/BstemAtlasData/CSHL_data_processed/ChatCryoJane201710/ChatCryoJane201710_prep2_lossless_Ntb/ChatCryoJane201710_slide31-S2_prep2_lossless_Ntb.tif -crop 2000x2000+910+12140 /tmp/tmp.tif\n",
      "Region 3: x=5553, y=13655, w=2000, h=2000\n",
      "convert /media/yuncong/BstemAtlasData/CSHL_data_processed/ChatCryoJane201710/ChatCryoJane201710_prep2_lossless_Ntb/ChatCryoJane201710_slide32-S1_prep2_lossless_Ntb.tif -crop 2000x2000+5553+13655 /tmp/tmp.tif\n",
      "convert /media/yuncong/BstemAtlasData/CSHL_data_processed/ChatCryoJane201710/ChatCryoJane201710_prep2_lossless_Ntb/ChatCryoJane201710_slide31-S2_prep2_lossless_Ntb.tif -crop 2000x2000+5553+13655 /tmp/tmp.tif\n",
      "Region 4: x=17415, y=12179, w=2000, h=2000\n",
      "convert /media/yuncong/BstemAtlasData/CSHL_data_processed/ChatCryoJane201710/ChatCryoJane201710_prep2_lossless_Ntb/ChatCryoJane201710_slide32-S1_prep2_lossless_Ntb.tif -crop 2000x2000+17415+12179 /tmp/tmp.tif\n",
      "convert /media/yuncong/BstemAtlasData/CSHL_data_processed/ChatCryoJane201710/ChatCryoJane201710_prep2_lossless_Ntb/ChatCryoJane201710_slide31-S2_prep2_lossless_Ntb.tif -crop 2000x2000+17415+12179 /tmp/tmp.tif\n",
      "Region 5: x=11427, y=8971, w=2000, h=2000\n",
      "convert /media/yuncong/BstemAtlasData/CSHL_data_processed/ChatCryoJane201710/ChatCryoJane201710_prep2_lossless_Ntb/ChatCryoJane201710_slide32-S1_prep2_lossless_Ntb.tif -crop 2000x2000+11427+8971 /tmp/tmp.tif\n",
      "convert /media/yuncong/BstemAtlasData/CSHL_data_processed/ChatCryoJane201710/ChatCryoJane201710_prep2_lossless_Ntb/ChatCryoJane201710_slide31-S2_prep2_lossless_Ntb.tif -crop 2000x2000+11427+8971 /tmp/tmp.tif\n",
      "Region 6: x=7230, y=10916, w=2000, h=2000\n",
      "convert /media/yuncong/BstemAtlasData/CSHL_data_processed/ChatCryoJane201710/ChatCryoJane201710_prep2_lossless_Ntb/ChatCryoJane201710_slide32-S1_prep2_lossless_Ntb.tif -crop 2000x2000+7230+10916 /tmp/tmp.tif\n",
      "convert /media/yuncong/BstemAtlasData/CSHL_data_processed/ChatCryoJane201710/ChatCryoJane201710_prep2_lossless_Ntb/ChatCryoJane201710_slide31-S2_prep2_lossless_Ntb.tif -crop 2000x2000+7230+10916 /tmp/tmp.tif\n",
      "Region 7: x=15711, y=8683, w=2000, h=2000\n",
      "convert /media/yuncong/BstemAtlasData/CSHL_data_processed/ChatCryoJane201710/ChatCryoJane201710_prep2_lossless_Ntb/ChatCryoJane201710_slide32-S1_prep2_lossless_Ntb.tif -crop 2000x2000+15711+8683 /tmp/tmp.tif\n",
      "convert /media/yuncong/BstemAtlasData/CSHL_data_processed/ChatCryoJane201710/ChatCryoJane201710_prep2_lossless_Ntb/ChatCryoJane201710_slide31-S2_prep2_lossless_Ntb.tif -crop 2000x2000+15711+8683 /tmp/tmp.tif\n",
      "Region 8: x=9182, y=3246, w=2000, h=2000\n",
      "convert /media/yuncong/BstemAtlasData/CSHL_data_processed/ChatCryoJane201710/ChatCryoJane201710_prep2_lossless_Ntb/ChatCryoJane201710_slide32-S1_prep2_lossless_Ntb.tif -crop 2000x2000+9182+3246 /tmp/tmp.tif\n",
      "convert /media/yuncong/BstemAtlasData/CSHL_data_processed/ChatCryoJane201710/ChatCryoJane201710_prep2_lossless_Ntb/ChatCryoJane201710_slide31-S2_prep2_lossless_Ntb.tif -crop 2000x2000+9182+3246 /tmp/tmp.tif\n",
      "Region 9: x=18027, y=13564, w=2000, h=2000\n",
      "convert /media/yuncong/BstemAtlasData/CSHL_data_processed/ChatCryoJane201710/ChatCryoJane201710_prep2_lossless_Ntb/ChatCryoJane201710_slide32-S1_prep2_lossless_Ntb.tif -crop 2000x2000+18027+13564 /tmp/tmp.tif\n",
      "convert /media/yuncong/BstemAtlasData/CSHL_data_processed/ChatCryoJane201710/ChatCryoJane201710_prep2_lossless_Ntb/ChatCryoJane201710_slide31-S2_prep2_lossless_Ntb.tif -crop 2000x2000+18027+13564 /tmp/tmp.tif\n",
      "aws s3 cp \"/media/yuncong/BstemAtlasData/CSHL_data_processed/ChatCryoJane201710/ChatCryoJane201710_intensity_mapping/ChatCryoJane201710_slide31-S2_to_ChatCryoJane201710_slide32-S1_intensity_mapping_all_regions.npy\" \"s3://mousebrainatlas-data/CSHL_data_processed/ChatCryoJane201710/ChatCryoJane201710_intensity_mapping/ChatCryoJane201710_slide31-S2_to_ChatCryoJane201710_slide32-S1_intensity_mapping_all_regions.npy\"\n",
      "aws s3 cp \"/media/yuncong/BstemAtlasData/CSHL_data_processed/ChatCryoJane201710/ChatCryoJane201710_intensity_mapping/ChatCryoJane201710_slide31-S2_to_ChatCryoJane201710_slide32-S1_region_bboxes.npy\" \"s3://mousebrainatlas-data/CSHL_data_processed/ChatCryoJane201710/ChatCryoJane201710_intensity_mapping/ChatCryoJane201710_slide31-S2_to_ChatCryoJane201710_slide32-S1_region_bboxes.npy\"\n"
     ]
    },
    {
     "name": "stderr",
     "output_type": "stream",
     "text": [
      "ntb 93, ntb 94\n",
      "Load NTB1: 0.00 seconds.\n",
      "Load NTB2: 0.00 seconds.\n"
     ]
    },
    {
     "name": "stdout",
     "output_type": "stream",
     "text": [
      "Region 0: x=14019, y=10138, w=2000, h=2000\n",
      "convert /media/yuncong/BstemAtlasData/CSHL_data_processed/ChatCryoJane201710/ChatCryoJane201710_prep2_lossless_Ntb/ChatCryoJane201710_slide31-S2_prep2_lossless_Ntb.tif -crop 2000x2000+14019+10138 /tmp/tmp.tif\n",
      "convert /media/yuncong/BstemAtlasData/CSHL_data_processed/ChatCryoJane201710/ChatCryoJane201710_prep2_lossless_Ntb/ChatCryoJane201710_slide32-S2_prep2_lossless_Ntb.tif -crop 2000x2000+14019+10138 /tmp/tmp.tif\n",
      "Region 1: x=7925, y=7057, w=2000, h=2000\n",
      "convert /media/yuncong/BstemAtlasData/CSHL_data_processed/ChatCryoJane201710/ChatCryoJane201710_prep2_lossless_Ntb/ChatCryoJane201710_slide31-S2_prep2_lossless_Ntb.tif -crop 2000x2000+7925+7057 /tmp/tmp.tif\n",
      "convert /media/yuncong/BstemAtlasData/CSHL_data_processed/ChatCryoJane201710/ChatCryoJane201710_prep2_lossless_Ntb/ChatCryoJane201710_slide32-S2_prep2_lossless_Ntb.tif -crop 2000x2000+7925+7057 /tmp/tmp.tif\n",
      "Region 2: x=8889, y=13126, w=2000, h=2000\n",
      "convert /media/yuncong/BstemAtlasData/CSHL_data_processed/ChatCryoJane201710/ChatCryoJane201710_prep2_lossless_Ntb/ChatCryoJane201710_slide31-S2_prep2_lossless_Ntb.tif -crop 2000x2000+8889+13126 /tmp/tmp.tif\n",
      "convert /media/yuncong/BstemAtlasData/CSHL_data_processed/ChatCryoJane201710/ChatCryoJane201710_prep2_lossless_Ntb/ChatCryoJane201710_slide32-S2_prep2_lossless_Ntb.tif -crop 2000x2000+8889+13126 /tmp/tmp.tif\n",
      "Region 3: x=8446, y=6466, w=2000, h=2000\n",
      "convert /media/yuncong/BstemAtlasData/CSHL_data_processed/ChatCryoJane201710/ChatCryoJane201710_prep2_lossless_Ntb/ChatCryoJane201710_slide31-S2_prep2_lossless_Ntb.tif -crop 2000x2000+8446+6466 /tmp/tmp.tif\n",
      "convert /media/yuncong/BstemAtlasData/CSHL_data_processed/ChatCryoJane201710/ChatCryoJane201710_prep2_lossless_Ntb/ChatCryoJane201710_slide32-S2_prep2_lossless_Ntb.tif -crop 2000x2000+8446+6466 /tmp/tmp.tif\n",
      "Region 4: x=1564, y=4434, w=2000, h=2000\n",
      "convert /media/yuncong/BstemAtlasData/CSHL_data_processed/ChatCryoJane201710/ChatCryoJane201710_prep2_lossless_Ntb/ChatCryoJane201710_slide31-S2_prep2_lossless_Ntb.tif -crop 2000x2000+1564+4434 /tmp/tmp.tif\n",
      "convert /media/yuncong/BstemAtlasData/CSHL_data_processed/ChatCryoJane201710/ChatCryoJane201710_prep2_lossless_Ntb/ChatCryoJane201710_slide32-S2_prep2_lossless_Ntb.tif -crop 2000x2000+1564+4434 /tmp/tmp.tif\n",
      "Region 5: x=13933, y=14520, w=2000, h=2000\n",
      "convert /media/yuncong/BstemAtlasData/CSHL_data_processed/ChatCryoJane201710/ChatCryoJane201710_prep2_lossless_Ntb/ChatCryoJane201710_slide31-S2_prep2_lossless_Ntb.tif -crop 2000x2000+13933+14520 /tmp/tmp.tif\n",
      "convert /media/yuncong/BstemAtlasData/CSHL_data_processed/ChatCryoJane201710/ChatCryoJane201710_prep2_lossless_Ntb/ChatCryoJane201710_slide32-S2_prep2_lossless_Ntb.tif -crop 2000x2000+13933+14520 /tmp/tmp.tif\n",
      "Region 6: x=2547, y=11558, w=2000, h=2000\n",
      "convert /media/yuncong/BstemAtlasData/CSHL_data_processed/ChatCryoJane201710/ChatCryoJane201710_prep2_lossless_Ntb/ChatCryoJane201710_slide31-S2_prep2_lossless_Ntb.tif -crop 2000x2000+2547+11558 /tmp/tmp.tif\n",
      "convert /media/yuncong/BstemAtlasData/CSHL_data_processed/ChatCryoJane201710/ChatCryoJane201710_prep2_lossless_Ntb/ChatCryoJane201710_slide32-S2_prep2_lossless_Ntb.tif -crop 2000x2000+2547+11558 /tmp/tmp.tif\n",
      "Region 7: x=2022, y=1596, w=2000, h=2000\n",
      "convert /media/yuncong/BstemAtlasData/CSHL_data_processed/ChatCryoJane201710/ChatCryoJane201710_prep2_lossless_Ntb/ChatCryoJane201710_slide31-S2_prep2_lossless_Ntb.tif -crop 2000x2000+2022+1596 /tmp/tmp.tif\n",
      "convert /media/yuncong/BstemAtlasData/CSHL_data_processed/ChatCryoJane201710/ChatCryoJane201710_prep2_lossless_Ntb/ChatCryoJane201710_slide32-S2_prep2_lossless_Ntb.tif -crop 2000x2000+2022+1596 /tmp/tmp.tif\n",
      "Region 8: x=13049, y=11716, w=2000, h=2000\n",
      "convert /media/yuncong/BstemAtlasData/CSHL_data_processed/ChatCryoJane201710/ChatCryoJane201710_prep2_lossless_Ntb/ChatCryoJane201710_slide31-S2_prep2_lossless_Ntb.tif -crop 2000x2000+13049+11716 /tmp/tmp.tif\n",
      "convert /media/yuncong/BstemAtlasData/CSHL_data_processed/ChatCryoJane201710/ChatCryoJane201710_prep2_lossless_Ntb/ChatCryoJane201710_slide32-S2_prep2_lossless_Ntb.tif -crop 2000x2000+13049+11716 /tmp/tmp.tif\n",
      "Region 9: x=895, y=10612, w=2000, h=2000\n",
      "convert /media/yuncong/BstemAtlasData/CSHL_data_processed/ChatCryoJane201710/ChatCryoJane201710_prep2_lossless_Ntb/ChatCryoJane201710_slide31-S2_prep2_lossless_Ntb.tif -crop 2000x2000+895+10612 /tmp/tmp.tif\n",
      "convert /media/yuncong/BstemAtlasData/CSHL_data_processed/ChatCryoJane201710/ChatCryoJane201710_prep2_lossless_Ntb/ChatCryoJane201710_slide32-S2_prep2_lossless_Ntb.tif -crop 2000x2000+895+10612 /tmp/tmp.tif\n",
      "aws s3 cp \"/media/yuncong/BstemAtlasData/CSHL_data_processed/ChatCryoJane201710/ChatCryoJane201710_intensity_mapping/ChatCryoJane201710_slide32-S2_to_ChatCryoJane201710_slide31-S2_intensity_mapping_all_regions.npy\" \"s3://mousebrainatlas-data/CSHL_data_processed/ChatCryoJane201710/ChatCryoJane201710_intensity_mapping/ChatCryoJane201710_slide32-S2_to_ChatCryoJane201710_slide31-S2_intensity_mapping_all_regions.npy\"\n",
      "aws s3 cp \"/media/yuncong/BstemAtlasData/CSHL_data_processed/ChatCryoJane201710/ChatCryoJane201710_intensity_mapping/ChatCryoJane201710_slide32-S2_to_ChatCryoJane201710_slide31-S2_region_bboxes.npy\" \"s3://mousebrainatlas-data/CSHL_data_processed/ChatCryoJane201710/ChatCryoJane201710_intensity_mapping/ChatCryoJane201710_slide32-S2_to_ChatCryoJane201710_slide31-S2_region_bboxes.npy\"\n"
     ]
    },
    {
     "name": "stderr",
     "output_type": "stream",
     "text": [
      "ntb 94, ntb 95\n",
      "Load NTB1: 0.00 seconds.\n",
      "Load NTB2: 0.00 seconds.\n"
     ]
    },
    {
     "name": "stdout",
     "output_type": "stream",
     "text": [
      "Region 0: x=5215, y=12425, w=2000, h=2000\n",
      "convert /media/yuncong/BstemAtlasData/CSHL_data_processed/ChatCryoJane201710/ChatCryoJane201710_prep2_lossless_Ntb/ChatCryoJane201710_slide32-S2_prep2_lossless_Ntb.tif -crop 2000x2000+5215+12425 /tmp/tmp.tif\n",
      "convert /media/yuncong/BstemAtlasData/CSHL_data_processed/ChatCryoJane201710/ChatCryoJane201710_prep2_lossless_Ntb/ChatCryoJane201710_slide31-S3_prep2_lossless_Ntb.tif -crop 2000x2000+5215+12425 /tmp/tmp.tif\n",
      "Region 1: x=3928, y=3774, w=2000, h=2000\n",
      "convert /media/yuncong/BstemAtlasData/CSHL_data_processed/ChatCryoJane201710/ChatCryoJane201710_prep2_lossless_Ntb/ChatCryoJane201710_slide32-S2_prep2_lossless_Ntb.tif -crop 2000x2000+3928+3774 /tmp/tmp.tif\n",
      "convert /media/yuncong/BstemAtlasData/CSHL_data_processed/ChatCryoJane201710/ChatCryoJane201710_prep2_lossless_Ntb/ChatCryoJane201710_slide31-S3_prep2_lossless_Ntb.tif -crop 2000x2000+3928+3774 /tmp/tmp.tif\n",
      "Region 2: x=3481, y=1203, w=2000, h=2000\n",
      "convert /media/yuncong/BstemAtlasData/CSHL_data_processed/ChatCryoJane201710/ChatCryoJane201710_prep2_lossless_Ntb/ChatCryoJane201710_slide32-S2_prep2_lossless_Ntb.tif -crop 2000x2000+3481+1203 /tmp/tmp.tif\n",
      "convert /media/yuncong/BstemAtlasData/CSHL_data_processed/ChatCryoJane201710/ChatCryoJane201710_prep2_lossless_Ntb/ChatCryoJane201710_slide31-S3_prep2_lossless_Ntb.tif -crop 2000x2000+3481+1203 /tmp/tmp.tif\n",
      "Region 3: x=12434, y=12420, w=2000, h=2000\n",
      "convert /media/yuncong/BstemAtlasData/CSHL_data_processed/ChatCryoJane201710/ChatCryoJane201710_prep2_lossless_Ntb/ChatCryoJane201710_slide32-S2_prep2_lossless_Ntb.tif -crop 2000x2000+12434+12420 /tmp/tmp.tif\n",
      "convert /media/yuncong/BstemAtlasData/CSHL_data_processed/ChatCryoJane201710/ChatCryoJane201710_prep2_lossless_Ntb/ChatCryoJane201710_slide31-S3_prep2_lossless_Ntb.tif -crop 2000x2000+12434+12420 /tmp/tmp.tif\n",
      "Region 4: x=10039, y=5989, w=2000, h=2000\n",
      "convert /media/yuncong/BstemAtlasData/CSHL_data_processed/ChatCryoJane201710/ChatCryoJane201710_prep2_lossless_Ntb/ChatCryoJane201710_slide32-S2_prep2_lossless_Ntb.tif -crop 2000x2000+10039+5989 /tmp/tmp.tif\n",
      "convert /media/yuncong/BstemAtlasData/CSHL_data_processed/ChatCryoJane201710/ChatCryoJane201710_prep2_lossless_Ntb/ChatCryoJane201710_slide31-S3_prep2_lossless_Ntb.tif -crop 2000x2000+10039+5989 /tmp/tmp.tif\n",
      "Region 5: x=7127, y=987, w=2000, h=2000\n",
      "convert /media/yuncong/BstemAtlasData/CSHL_data_processed/ChatCryoJane201710/ChatCryoJane201710_prep2_lossless_Ntb/ChatCryoJane201710_slide32-S2_prep2_lossless_Ntb.tif -crop 2000x2000+7127+987 /tmp/tmp.tif\n",
      "convert /media/yuncong/BstemAtlasData/CSHL_data_processed/ChatCryoJane201710/ChatCryoJane201710_prep2_lossless_Ntb/ChatCryoJane201710_slide31-S3_prep2_lossless_Ntb.tif -crop 2000x2000+7127+987 /tmp/tmp.tif\n",
      "Region 6: x=9495, y=9265, w=2000, h=2000\n",
      "convert /media/yuncong/BstemAtlasData/CSHL_data_processed/ChatCryoJane201710/ChatCryoJane201710_prep2_lossless_Ntb/ChatCryoJane201710_slide32-S2_prep2_lossless_Ntb.tif -crop 2000x2000+9495+9265 /tmp/tmp.tif\n",
      "convert /media/yuncong/BstemAtlasData/CSHL_data_processed/ChatCryoJane201710/ChatCryoJane201710_prep2_lossless_Ntb/ChatCryoJane201710_slide31-S3_prep2_lossless_Ntb.tif -crop 2000x2000+9495+9265 /tmp/tmp.tif\n",
      "Region 7: x=3725, y=4751, w=2000, h=2000\n",
      "convert /media/yuncong/BstemAtlasData/CSHL_data_processed/ChatCryoJane201710/ChatCryoJane201710_prep2_lossless_Ntb/ChatCryoJane201710_slide32-S2_prep2_lossless_Ntb.tif -crop 2000x2000+3725+4751 /tmp/tmp.tif\n",
      "convert /media/yuncong/BstemAtlasData/CSHL_data_processed/ChatCryoJane201710/ChatCryoJane201710_prep2_lossless_Ntb/ChatCryoJane201710_slide31-S3_prep2_lossless_Ntb.tif -crop 2000x2000+3725+4751 /tmp/tmp.tif\n",
      "Region 8: x=9432, y=3069, w=2000, h=2000\n",
      "convert /media/yuncong/BstemAtlasData/CSHL_data_processed/ChatCryoJane201710/ChatCryoJane201710_prep2_lossless_Ntb/ChatCryoJane201710_slide32-S2_prep2_lossless_Ntb.tif -crop 2000x2000+9432+3069 /tmp/tmp.tif\n",
      "convert /media/yuncong/BstemAtlasData/CSHL_data_processed/ChatCryoJane201710/ChatCryoJane201710_prep2_lossless_Ntb/ChatCryoJane201710_slide31-S3_prep2_lossless_Ntb.tif -crop 2000x2000+9432+3069 /tmp/tmp.tif\n",
      "Region 9: x=7125, y=1536, w=2000, h=2000\n",
      "convert /media/yuncong/BstemAtlasData/CSHL_data_processed/ChatCryoJane201710/ChatCryoJane201710_prep2_lossless_Ntb/ChatCryoJane201710_slide32-S2_prep2_lossless_Ntb.tif -crop 2000x2000+7125+1536 /tmp/tmp.tif\n",
      "convert /media/yuncong/BstemAtlasData/CSHL_data_processed/ChatCryoJane201710/ChatCryoJane201710_prep2_lossless_Ntb/ChatCryoJane201710_slide31-S3_prep2_lossless_Ntb.tif -crop 2000x2000+7125+1536 /tmp/tmp.tif\n",
      "aws s3 cp \"/media/yuncong/BstemAtlasData/CSHL_data_processed/ChatCryoJane201710/ChatCryoJane201710_intensity_mapping/ChatCryoJane201710_slide31-S3_to_ChatCryoJane201710_slide32-S2_intensity_mapping_all_regions.npy\" \"s3://mousebrainatlas-data/CSHL_data_processed/ChatCryoJane201710/ChatCryoJane201710_intensity_mapping/ChatCryoJane201710_slide31-S3_to_ChatCryoJane201710_slide32-S2_intensity_mapping_all_regions.npy\"\n",
      "aws s3 cp \"/media/yuncong/BstemAtlasData/CSHL_data_processed/ChatCryoJane201710/ChatCryoJane201710_intensity_mapping/ChatCryoJane201710_slide31-S3_to_ChatCryoJane201710_slide32-S2_region_bboxes.npy\" \"s3://mousebrainatlas-data/CSHL_data_processed/ChatCryoJane201710/ChatCryoJane201710_intensity_mapping/ChatCryoJane201710_slide31-S3_to_ChatCryoJane201710_slide32-S2_region_bboxes.npy\"\n"
     ]
    },
    {
     "name": "stderr",
     "output_type": "stream",
     "text": [
      "ntb 95, ntb 96\n",
      "Load NTB1: 0.00 seconds.\n",
      "Load NTB2: 0.00 seconds.\n"
     ]
    },
    {
     "name": "stdout",
     "output_type": "stream",
     "text": [
      "Region 0: x=15878, y=13756, w=2000, h=2000\n",
      "convert /media/yuncong/BstemAtlasData/CSHL_data_processed/ChatCryoJane201710/ChatCryoJane201710_prep2_lossless_Ntb/ChatCryoJane201710_slide31-S3_prep2_lossless_Ntb.tif -crop 2000x2000+15878+13756 /tmp/tmp.tif\n",
      "convert /media/yuncong/BstemAtlasData/CSHL_data_processed/ChatCryoJane201710/ChatCryoJane201710_prep2_lossless_Ntb/ChatCryoJane201710_slide32-S3_prep2_lossless_Ntb.tif -crop 2000x2000+15878+13756 /tmp/tmp.tif\n",
      "Region 1: x=12032, y=11458, w=2000, h=2000\n",
      "convert /media/yuncong/BstemAtlasData/CSHL_data_processed/ChatCryoJane201710/ChatCryoJane201710_prep2_lossless_Ntb/ChatCryoJane201710_slide31-S3_prep2_lossless_Ntb.tif -crop 2000x2000+12032+11458 /tmp/tmp.tif\n",
      "convert /media/yuncong/BstemAtlasData/CSHL_data_processed/ChatCryoJane201710/ChatCryoJane201710_prep2_lossless_Ntb/ChatCryoJane201710_slide32-S3_prep2_lossless_Ntb.tif -crop 2000x2000+12032+11458 /tmp/tmp.tif\n",
      "Region 2: x=19405, y=12411, w=2000, h=2000\n",
      "convert /media/yuncong/BstemAtlasData/CSHL_data_processed/ChatCryoJane201710/ChatCryoJane201710_prep2_lossless_Ntb/ChatCryoJane201710_slide31-S3_prep2_lossless_Ntb.tif -crop 2000x2000+19405+12411 /tmp/tmp.tif\n",
      "convert /media/yuncong/BstemAtlasData/CSHL_data_processed/ChatCryoJane201710/ChatCryoJane201710_prep2_lossless_Ntb/ChatCryoJane201710_slide32-S3_prep2_lossless_Ntb.tif -crop 2000x2000+19405+12411 /tmp/tmp.tif\n",
      "Region 3: x=16656, y=13459, w=2000, h=2000\n",
      "convert /media/yuncong/BstemAtlasData/CSHL_data_processed/ChatCryoJane201710/ChatCryoJane201710_prep2_lossless_Ntb/ChatCryoJane201710_slide31-S3_prep2_lossless_Ntb.tif -crop 2000x2000+16656+13459 /tmp/tmp.tif\n",
      "convert /media/yuncong/BstemAtlasData/CSHL_data_processed/ChatCryoJane201710/ChatCryoJane201710_prep2_lossless_Ntb/ChatCryoJane201710_slide32-S3_prep2_lossless_Ntb.tif -crop 2000x2000+16656+13459 /tmp/tmp.tif\n",
      "Region 4: x=15852, y=13153, w=2000, h=2000\n",
      "convert /media/yuncong/BstemAtlasData/CSHL_data_processed/ChatCryoJane201710/ChatCryoJane201710_prep2_lossless_Ntb/ChatCryoJane201710_slide31-S3_prep2_lossless_Ntb.tif -crop 2000x2000+15852+13153 /tmp/tmp.tif\n",
      "convert /media/yuncong/BstemAtlasData/CSHL_data_processed/ChatCryoJane201710/ChatCryoJane201710_prep2_lossless_Ntb/ChatCryoJane201710_slide32-S3_prep2_lossless_Ntb.tif -crop 2000x2000+15852+13153 /tmp/tmp.tif\n",
      "Region 5: x=18165, y=12750, w=2000, h=2000\n",
      "convert /media/yuncong/BstemAtlasData/CSHL_data_processed/ChatCryoJane201710/ChatCryoJane201710_prep2_lossless_Ntb/ChatCryoJane201710_slide31-S3_prep2_lossless_Ntb.tif -crop 2000x2000+18165+12750 /tmp/tmp.tif\n",
      "convert /media/yuncong/BstemAtlasData/CSHL_data_processed/ChatCryoJane201710/ChatCryoJane201710_prep2_lossless_Ntb/ChatCryoJane201710_slide32-S3_prep2_lossless_Ntb.tif -crop 2000x2000+18165+12750 /tmp/tmp.tif\n",
      "Region 6: x=7876, y=7377, w=2000, h=2000\n",
      "convert /media/yuncong/BstemAtlasData/CSHL_data_processed/ChatCryoJane201710/ChatCryoJane201710_prep2_lossless_Ntb/ChatCryoJane201710_slide31-S3_prep2_lossless_Ntb.tif -crop 2000x2000+7876+7377 /tmp/tmp.tif\n",
      "convert /media/yuncong/BstemAtlasData/CSHL_data_processed/ChatCryoJane201710/ChatCryoJane201710_prep2_lossless_Ntb/ChatCryoJane201710_slide32-S3_prep2_lossless_Ntb.tif -crop 2000x2000+7876+7377 /tmp/tmp.tif\n",
      "Region 7: x=4994, y=11183, w=2000, h=2000\n",
      "convert /media/yuncong/BstemAtlasData/CSHL_data_processed/ChatCryoJane201710/ChatCryoJane201710_prep2_lossless_Ntb/ChatCryoJane201710_slide31-S3_prep2_lossless_Ntb.tif -crop 2000x2000+4994+11183 /tmp/tmp.tif\n",
      "convert /media/yuncong/BstemAtlasData/CSHL_data_processed/ChatCryoJane201710/ChatCryoJane201710_prep2_lossless_Ntb/ChatCryoJane201710_slide32-S3_prep2_lossless_Ntb.tif -crop 2000x2000+4994+11183 /tmp/tmp.tif\n",
      "Region 8: x=9746, y=12198, w=2000, h=2000\n",
      "convert /media/yuncong/BstemAtlasData/CSHL_data_processed/ChatCryoJane201710/ChatCryoJane201710_prep2_lossless_Ntb/ChatCryoJane201710_slide31-S3_prep2_lossless_Ntb.tif -crop 2000x2000+9746+12198 /tmp/tmp.tif\n",
      "convert /media/yuncong/BstemAtlasData/CSHL_data_processed/ChatCryoJane201710/ChatCryoJane201710_prep2_lossless_Ntb/ChatCryoJane201710_slide32-S3_prep2_lossless_Ntb.tif -crop 2000x2000+9746+12198 /tmp/tmp.tif\n",
      "Region 9: x=8046, y=4039, w=2000, h=2000\n",
      "convert /media/yuncong/BstemAtlasData/CSHL_data_processed/ChatCryoJane201710/ChatCryoJane201710_prep2_lossless_Ntb/ChatCryoJane201710_slide31-S3_prep2_lossless_Ntb.tif -crop 2000x2000+8046+4039 /tmp/tmp.tif\n",
      "convert /media/yuncong/BstemAtlasData/CSHL_data_processed/ChatCryoJane201710/ChatCryoJane201710_prep2_lossless_Ntb/ChatCryoJane201710_slide32-S3_prep2_lossless_Ntb.tif -crop 2000x2000+8046+4039 /tmp/tmp.tif\n",
      "aws s3 cp \"/media/yuncong/BstemAtlasData/CSHL_data_processed/ChatCryoJane201710/ChatCryoJane201710_intensity_mapping/ChatCryoJane201710_slide32-S3_to_ChatCryoJane201710_slide31-S3_intensity_mapping_all_regions.npy\" \"s3://mousebrainatlas-data/CSHL_data_processed/ChatCryoJane201710/ChatCryoJane201710_intensity_mapping/ChatCryoJane201710_slide32-S3_to_ChatCryoJane201710_slide31-S3_intensity_mapping_all_regions.npy\"\n",
      "aws s3 cp \"/media/yuncong/BstemAtlasData/CSHL_data_processed/ChatCryoJane201710/ChatCryoJane201710_intensity_mapping/ChatCryoJane201710_slide32-S3_to_ChatCryoJane201710_slide31-S3_region_bboxes.npy\" \"s3://mousebrainatlas-data/CSHL_data_processed/ChatCryoJane201710/ChatCryoJane201710_intensity_mapping/ChatCryoJane201710_slide32-S3_to_ChatCryoJane201710_slide31-S3_region_bboxes.npy\"\n"
     ]
    },
    {
     "name": "stderr",
     "output_type": "stream",
     "text": [
      "ntb 96, ntb 97\n",
      "Load NTB1: 0.00 seconds.\n",
      "Load NTB2: 0.00 seconds.\n"
     ]
    },
    {
     "name": "stdout",
     "output_type": "stream",
     "text": [
      "Region 0: x=12248, y=14853, w=2000, h=2000\n",
      "convert /media/yuncong/BstemAtlasData/CSHL_data_processed/ChatCryoJane201710/ChatCryoJane201710_prep2_lossless_Ntb/ChatCryoJane201710_slide32-S3_prep2_lossless_Ntb.tif -crop 2000x2000+12248+14853 /tmp/tmp.tif\n",
      "convert /media/yuncong/BstemAtlasData/CSHL_data_processed/ChatCryoJane201710/ChatCryoJane201710_prep2_lossless_Ntb/ChatCryoJane201710_slide33-S1_prep2_lossless_Ntb.tif -crop 2000x2000+12248+14853 /tmp/tmp.tif\n",
      "Region 1: x=5438, y=9859, w=2000, h=2000\n",
      "convert /media/yuncong/BstemAtlasData/CSHL_data_processed/ChatCryoJane201710/ChatCryoJane201710_prep2_lossless_Ntb/ChatCryoJane201710_slide32-S3_prep2_lossless_Ntb.tif -crop 2000x2000+5438+9859 /tmp/tmp.tif\n",
      "convert /media/yuncong/BstemAtlasData/CSHL_data_processed/ChatCryoJane201710/ChatCryoJane201710_prep2_lossless_Ntb/ChatCryoJane201710_slide33-S1_prep2_lossless_Ntb.tif -crop 2000x2000+5438+9859 /tmp/tmp.tif\n",
      "Region 2: x=14245, y=3649, w=2000, h=2000\n",
      "convert /media/yuncong/BstemAtlasData/CSHL_data_processed/ChatCryoJane201710/ChatCryoJane201710_prep2_lossless_Ntb/ChatCryoJane201710_slide32-S3_prep2_lossless_Ntb.tif -crop 2000x2000+14245+3649 /tmp/tmp.tif\n",
      "convert /media/yuncong/BstemAtlasData/CSHL_data_processed/ChatCryoJane201710/ChatCryoJane201710_prep2_lossless_Ntb/ChatCryoJane201710_slide33-S1_prep2_lossless_Ntb.tif -crop 2000x2000+14245+3649 /tmp/tmp.tif\n",
      "Region 3: x=1473, y=6361, w=2000, h=2000\n",
      "convert /media/yuncong/BstemAtlasData/CSHL_data_processed/ChatCryoJane201710/ChatCryoJane201710_prep2_lossless_Ntb/ChatCryoJane201710_slide32-S3_prep2_lossless_Ntb.tif -crop 2000x2000+1473+6361 /tmp/tmp.tif\n",
      "convert /media/yuncong/BstemAtlasData/CSHL_data_processed/ChatCryoJane201710/ChatCryoJane201710_prep2_lossless_Ntb/ChatCryoJane201710_slide33-S1_prep2_lossless_Ntb.tif -crop 2000x2000+1473+6361 /tmp/tmp.tif\n",
      "Region 4: x=2123, y=1183, w=2000, h=2000\n",
      "convert /media/yuncong/BstemAtlasData/CSHL_data_processed/ChatCryoJane201710/ChatCryoJane201710_prep2_lossless_Ntb/ChatCryoJane201710_slide32-S3_prep2_lossless_Ntb.tif -crop 2000x2000+2123+1183 /tmp/tmp.tif\n",
      "convert /media/yuncong/BstemAtlasData/CSHL_data_processed/ChatCryoJane201710/ChatCryoJane201710_prep2_lossless_Ntb/ChatCryoJane201710_slide33-S1_prep2_lossless_Ntb.tif -crop 2000x2000+2123+1183 /tmp/tmp.tif\n",
      "Region 5: x=989, y=7292, w=2000, h=2000\n",
      "convert /media/yuncong/BstemAtlasData/CSHL_data_processed/ChatCryoJane201710/ChatCryoJane201710_prep2_lossless_Ntb/ChatCryoJane201710_slide32-S3_prep2_lossless_Ntb.tif -crop 2000x2000+989+7292 /tmp/tmp.tif\n",
      "convert /media/yuncong/BstemAtlasData/CSHL_data_processed/ChatCryoJane201710/ChatCryoJane201710_prep2_lossless_Ntb/ChatCryoJane201710_slide33-S1_prep2_lossless_Ntb.tif -crop 2000x2000+989+7292 /tmp/tmp.tif\n",
      "Region 6: x=12124, y=4637, w=2000, h=2000\n",
      "convert /media/yuncong/BstemAtlasData/CSHL_data_processed/ChatCryoJane201710/ChatCryoJane201710_prep2_lossless_Ntb/ChatCryoJane201710_slide32-S3_prep2_lossless_Ntb.tif -crop 2000x2000+12124+4637 /tmp/tmp.tif\n",
      "convert /media/yuncong/BstemAtlasData/CSHL_data_processed/ChatCryoJane201710/ChatCryoJane201710_prep2_lossless_Ntb/ChatCryoJane201710_slide33-S1_prep2_lossless_Ntb.tif -crop 2000x2000+12124+4637 /tmp/tmp.tif\n",
      "Region 7: x=557, y=2563, w=2000, h=2000\n",
      "convert /media/yuncong/BstemAtlasData/CSHL_data_processed/ChatCryoJane201710/ChatCryoJane201710_prep2_lossless_Ntb/ChatCryoJane201710_slide32-S3_prep2_lossless_Ntb.tif -crop 2000x2000+557+2563 /tmp/tmp.tif\n",
      "convert /media/yuncong/BstemAtlasData/CSHL_data_processed/ChatCryoJane201710/ChatCryoJane201710_prep2_lossless_Ntb/ChatCryoJane201710_slide33-S1_prep2_lossless_Ntb.tif -crop 2000x2000+557+2563 /tmp/tmp.tif\n",
      "Region 8: x=3824, y=826, w=2000, h=2000\n",
      "convert /media/yuncong/BstemAtlasData/CSHL_data_processed/ChatCryoJane201710/ChatCryoJane201710_prep2_lossless_Ntb/ChatCryoJane201710_slide32-S3_prep2_lossless_Ntb.tif -crop 2000x2000+3824+826 /tmp/tmp.tif\n",
      "convert /media/yuncong/BstemAtlasData/CSHL_data_processed/ChatCryoJane201710/ChatCryoJane201710_prep2_lossless_Ntb/ChatCryoJane201710_slide33-S1_prep2_lossless_Ntb.tif -crop 2000x2000+3824+826 /tmp/tmp.tif\n",
      "Region 9: x=3687, y=8580, w=2000, h=2000\n",
      "convert /media/yuncong/BstemAtlasData/CSHL_data_processed/ChatCryoJane201710/ChatCryoJane201710_prep2_lossless_Ntb/ChatCryoJane201710_slide32-S3_prep2_lossless_Ntb.tif -crop 2000x2000+3687+8580 /tmp/tmp.tif\n",
      "convert /media/yuncong/BstemAtlasData/CSHL_data_processed/ChatCryoJane201710/ChatCryoJane201710_prep2_lossless_Ntb/ChatCryoJane201710_slide33-S1_prep2_lossless_Ntb.tif -crop 2000x2000+3687+8580 /tmp/tmp.tif\n",
      "aws s3 cp \"/media/yuncong/BstemAtlasData/CSHL_data_processed/ChatCryoJane201710/ChatCryoJane201710_intensity_mapping/ChatCryoJane201710_slide33-S1_to_ChatCryoJane201710_slide32-S3_intensity_mapping_all_regions.npy\" \"s3://mousebrainatlas-data/CSHL_data_processed/ChatCryoJane201710/ChatCryoJane201710_intensity_mapping/ChatCryoJane201710_slide33-S1_to_ChatCryoJane201710_slide32-S3_intensity_mapping_all_regions.npy\"\n",
      "aws s3 cp \"/media/yuncong/BstemAtlasData/CSHL_data_processed/ChatCryoJane201710/ChatCryoJane201710_intensity_mapping/ChatCryoJane201710_slide33-S1_to_ChatCryoJane201710_slide32-S3_region_bboxes.npy\" \"s3://mousebrainatlas-data/CSHL_data_processed/ChatCryoJane201710/ChatCryoJane201710_intensity_mapping/ChatCryoJane201710_slide33-S1_to_ChatCryoJane201710_slide32-S3_region_bboxes.npy\"\n"
     ]
    },
    {
     "name": "stderr",
     "output_type": "stream",
     "text": [
      "ntb 97, ntb 98\n",
      "Load NTB1: 0.00 seconds.\n",
      "Load NTB2: 0.00 seconds.\n"
     ]
    },
    {
     "name": "stdout",
     "output_type": "stream",
     "text": [
      "Region 0: x=2127, y=10135, w=2000, h=2000\n",
      "convert /media/yuncong/BstemAtlasData/CSHL_data_processed/ChatCryoJane201710/ChatCryoJane201710_prep2_lossless_Ntb/ChatCryoJane201710_slide33-S1_prep2_lossless_Ntb.tif -crop 2000x2000+2127+10135 /tmp/tmp.tif\n",
      "convert /media/yuncong/BstemAtlasData/CSHL_data_processed/ChatCryoJane201710/ChatCryoJane201710_prep2_lossless_Ntb/ChatCryoJane201710_slide34-S1_prep2_lossless_Ntb.tif -crop 2000x2000+2127+10135 /tmp/tmp.tif\n",
      "Region 1: x=10325, y=13906, w=2000, h=2000\n",
      "convert /media/yuncong/BstemAtlasData/CSHL_data_processed/ChatCryoJane201710/ChatCryoJane201710_prep2_lossless_Ntb/ChatCryoJane201710_slide33-S1_prep2_lossless_Ntb.tif -crop 2000x2000+10325+13906 /tmp/tmp.tif\n",
      "convert /media/yuncong/BstemAtlasData/CSHL_data_processed/ChatCryoJane201710/ChatCryoJane201710_prep2_lossless_Ntb/ChatCryoJane201710_slide34-S1_prep2_lossless_Ntb.tif -crop 2000x2000+10325+13906 /tmp/tmp.tif\n",
      "Region 2: x=9721, y=12249, w=2000, h=2000\n",
      "convert /media/yuncong/BstemAtlasData/CSHL_data_processed/ChatCryoJane201710/ChatCryoJane201710_prep2_lossless_Ntb/ChatCryoJane201710_slide33-S1_prep2_lossless_Ntb.tif -crop 2000x2000+9721+12249 /tmp/tmp.tif\n",
      "convert /media/yuncong/BstemAtlasData/CSHL_data_processed/ChatCryoJane201710/ChatCryoJane201710_prep2_lossless_Ntb/ChatCryoJane201710_slide34-S1_prep2_lossless_Ntb.tif -crop 2000x2000+9721+12249 /tmp/tmp.tif\n",
      "Region 3: x=3669, y=7251, w=2000, h=2000\n",
      "convert /media/yuncong/BstemAtlasData/CSHL_data_processed/ChatCryoJane201710/ChatCryoJane201710_prep2_lossless_Ntb/ChatCryoJane201710_slide33-S1_prep2_lossless_Ntb.tif -crop 2000x2000+3669+7251 /tmp/tmp.tif\n",
      "convert /media/yuncong/BstemAtlasData/CSHL_data_processed/ChatCryoJane201710/ChatCryoJane201710_prep2_lossless_Ntb/ChatCryoJane201710_slide34-S1_prep2_lossless_Ntb.tif -crop 2000x2000+3669+7251 /tmp/tmp.tif\n",
      "Region 4: x=11258, y=9183, w=2000, h=2000\n",
      "convert /media/yuncong/BstemAtlasData/CSHL_data_processed/ChatCryoJane201710/ChatCryoJane201710_prep2_lossless_Ntb/ChatCryoJane201710_slide33-S1_prep2_lossless_Ntb.tif -crop 2000x2000+11258+9183 /tmp/tmp.tif\n",
      "convert /media/yuncong/BstemAtlasData/CSHL_data_processed/ChatCryoJane201710/ChatCryoJane201710_prep2_lossless_Ntb/ChatCryoJane201710_slide34-S1_prep2_lossless_Ntb.tif -crop 2000x2000+11258+9183 /tmp/tmp.tif\n",
      "Region 5: x=13933, y=13349, w=2000, h=2000\n",
      "convert /media/yuncong/BstemAtlasData/CSHL_data_processed/ChatCryoJane201710/ChatCryoJane201710_prep2_lossless_Ntb/ChatCryoJane201710_slide33-S1_prep2_lossless_Ntb.tif -crop 2000x2000+13933+13349 /tmp/tmp.tif\n",
      "convert /media/yuncong/BstemAtlasData/CSHL_data_processed/ChatCryoJane201710/ChatCryoJane201710_prep2_lossless_Ntb/ChatCryoJane201710_slide34-S1_prep2_lossless_Ntb.tif -crop 2000x2000+13933+13349 /tmp/tmp.tif\n",
      "Region 6: x=2571, y=852, w=2000, h=2000\n",
      "convert /media/yuncong/BstemAtlasData/CSHL_data_processed/ChatCryoJane201710/ChatCryoJane201710_prep2_lossless_Ntb/ChatCryoJane201710_slide33-S1_prep2_lossless_Ntb.tif -crop 2000x2000+2571+852 /tmp/tmp.tif\n",
      "convert /media/yuncong/BstemAtlasData/CSHL_data_processed/ChatCryoJane201710/ChatCryoJane201710_prep2_lossless_Ntb/ChatCryoJane201710_slide34-S1_prep2_lossless_Ntb.tif -crop 2000x2000+2571+852 /tmp/tmp.tif\n",
      "Region 7: x=7644, y=6397, w=2000, h=2000\n",
      "convert /media/yuncong/BstemAtlasData/CSHL_data_processed/ChatCryoJane201710/ChatCryoJane201710_prep2_lossless_Ntb/ChatCryoJane201710_slide33-S1_prep2_lossless_Ntb.tif -crop 2000x2000+7644+6397 /tmp/tmp.tif\n",
      "convert /media/yuncong/BstemAtlasData/CSHL_data_processed/ChatCryoJane201710/ChatCryoJane201710_prep2_lossless_Ntb/ChatCryoJane201710_slide34-S1_prep2_lossless_Ntb.tif -crop 2000x2000+7644+6397 /tmp/tmp.tif\n",
      "Region 8: x=10140, y=6510, w=2000, h=2000\n",
      "convert /media/yuncong/BstemAtlasData/CSHL_data_processed/ChatCryoJane201710/ChatCryoJane201710_prep2_lossless_Ntb/ChatCryoJane201710_slide33-S1_prep2_lossless_Ntb.tif -crop 2000x2000+10140+6510 /tmp/tmp.tif\n",
      "convert /media/yuncong/BstemAtlasData/CSHL_data_processed/ChatCryoJane201710/ChatCryoJane201710_prep2_lossless_Ntb/ChatCryoJane201710_slide34-S1_prep2_lossless_Ntb.tif -crop 2000x2000+10140+6510 /tmp/tmp.tif\n",
      "Region 9: x=18987, y=13398, w=2000, h=2000\n",
      "convert /media/yuncong/BstemAtlasData/CSHL_data_processed/ChatCryoJane201710/ChatCryoJane201710_prep2_lossless_Ntb/ChatCryoJane201710_slide33-S1_prep2_lossless_Ntb.tif -crop 2000x2000+18987+13398 /tmp/tmp.tif\n",
      "convert /media/yuncong/BstemAtlasData/CSHL_data_processed/ChatCryoJane201710/ChatCryoJane201710_prep2_lossless_Ntb/ChatCryoJane201710_slide34-S1_prep2_lossless_Ntb.tif -crop 2000x2000+18987+13398 /tmp/tmp.tif\n",
      "aws s3 cp \"/media/yuncong/BstemAtlasData/CSHL_data_processed/ChatCryoJane201710/ChatCryoJane201710_intensity_mapping/ChatCryoJane201710_slide34-S1_to_ChatCryoJane201710_slide33-S1_intensity_mapping_all_regions.npy\" \"s3://mousebrainatlas-data/CSHL_data_processed/ChatCryoJane201710/ChatCryoJane201710_intensity_mapping/ChatCryoJane201710_slide34-S1_to_ChatCryoJane201710_slide33-S1_intensity_mapping_all_regions.npy\"\n",
      "aws s3 cp \"/media/yuncong/BstemAtlasData/CSHL_data_processed/ChatCryoJane201710/ChatCryoJane201710_intensity_mapping/ChatCryoJane201710_slide34-S1_to_ChatCryoJane201710_slide33-S1_region_bboxes.npy\" \"s3://mousebrainatlas-data/CSHL_data_processed/ChatCryoJane201710/ChatCryoJane201710_intensity_mapping/ChatCryoJane201710_slide34-S1_to_ChatCryoJane201710_slide33-S1_region_bboxes.npy\"\n"
     ]
    },
    {
     "name": "stderr",
     "output_type": "stream",
     "text": [
      "ntb 98, ntb 99\n",
      "Load NTB1: 0.00 seconds.\n",
      "Load NTB2: 0.00 seconds.\n"
     ]
    },
    {
     "name": "stdout",
     "output_type": "stream",
     "text": [
      "Region 0: x=14971, y=7783, w=2000, h=2000\n",
      "convert /media/yuncong/BstemAtlasData/CSHL_data_processed/ChatCryoJane201710/ChatCryoJane201710_prep2_lossless_Ntb/ChatCryoJane201710_slide34-S1_prep2_lossless_Ntb.tif -crop 2000x2000+14971+7783 /tmp/tmp.tif\n",
      "convert /media/yuncong/BstemAtlasData/CSHL_data_processed/ChatCryoJane201710/ChatCryoJane201710_prep2_lossless_Ntb/ChatCryoJane201710_slide33-S2_prep2_lossless_Ntb.tif -crop 2000x2000+14971+7783 /tmp/tmp.tif\n",
      "Region 1: x=7577, y=11670, w=2000, h=2000\n",
      "convert /media/yuncong/BstemAtlasData/CSHL_data_processed/ChatCryoJane201710/ChatCryoJane201710_prep2_lossless_Ntb/ChatCryoJane201710_slide34-S1_prep2_lossless_Ntb.tif -crop 2000x2000+7577+11670 /tmp/tmp.tif\n",
      "convert /media/yuncong/BstemAtlasData/CSHL_data_processed/ChatCryoJane201710/ChatCryoJane201710_prep2_lossless_Ntb/ChatCryoJane201710_slide33-S2_prep2_lossless_Ntb.tif -crop 2000x2000+7577+11670 /tmp/tmp.tif\n",
      "Region 2: x=3375, y=2549, w=2000, h=2000\n",
      "convert /media/yuncong/BstemAtlasData/CSHL_data_processed/ChatCryoJane201710/ChatCryoJane201710_prep2_lossless_Ntb/ChatCryoJane201710_slide34-S1_prep2_lossless_Ntb.tif -crop 2000x2000+3375+2549 /tmp/tmp.tif\n",
      "convert /media/yuncong/BstemAtlasData/CSHL_data_processed/ChatCryoJane201710/ChatCryoJane201710_prep2_lossless_Ntb/ChatCryoJane201710_slide33-S2_prep2_lossless_Ntb.tif -crop 2000x2000+3375+2549 /tmp/tmp.tif\n",
      "Region 3: x=13863, y=14432, w=2000, h=2000\n",
      "convert /media/yuncong/BstemAtlasData/CSHL_data_processed/ChatCryoJane201710/ChatCryoJane201710_prep2_lossless_Ntb/ChatCryoJane201710_slide34-S1_prep2_lossless_Ntb.tif -crop 2000x2000+13863+14432 /tmp/tmp.tif\n",
      "convert /media/yuncong/BstemAtlasData/CSHL_data_processed/ChatCryoJane201710/ChatCryoJane201710_prep2_lossless_Ntb/ChatCryoJane201710_slide33-S2_prep2_lossless_Ntb.tif -crop 2000x2000+13863+14432 /tmp/tmp.tif\n",
      "Region 4: x=10010, y=2380, w=2000, h=2000\n",
      "convert /media/yuncong/BstemAtlasData/CSHL_data_processed/ChatCryoJane201710/ChatCryoJane201710_prep2_lossless_Ntb/ChatCryoJane201710_slide34-S1_prep2_lossless_Ntb.tif -crop 2000x2000+10010+2380 /tmp/tmp.tif\n",
      "convert /media/yuncong/BstemAtlasData/CSHL_data_processed/ChatCryoJane201710/ChatCryoJane201710_prep2_lossless_Ntb/ChatCryoJane201710_slide33-S2_prep2_lossless_Ntb.tif -crop 2000x2000+10010+2380 /tmp/tmp.tif\n",
      "Region 5: x=9559, y=5134, w=2000, h=2000\n",
      "convert /media/yuncong/BstemAtlasData/CSHL_data_processed/ChatCryoJane201710/ChatCryoJane201710_prep2_lossless_Ntb/ChatCryoJane201710_slide34-S1_prep2_lossless_Ntb.tif -crop 2000x2000+9559+5134 /tmp/tmp.tif\n",
      "convert /media/yuncong/BstemAtlasData/CSHL_data_processed/ChatCryoJane201710/ChatCryoJane201710_prep2_lossless_Ntb/ChatCryoJane201710_slide33-S2_prep2_lossless_Ntb.tif -crop 2000x2000+9559+5134 /tmp/tmp.tif\n",
      "Region 6: x=6395, y=6042, w=2000, h=2000\n",
      "convert /media/yuncong/BstemAtlasData/CSHL_data_processed/ChatCryoJane201710/ChatCryoJane201710_prep2_lossless_Ntb/ChatCryoJane201710_slide34-S1_prep2_lossless_Ntb.tif -crop 2000x2000+6395+6042 /tmp/tmp.tif\n",
      "convert /media/yuncong/BstemAtlasData/CSHL_data_processed/ChatCryoJane201710/ChatCryoJane201710_prep2_lossless_Ntb/ChatCryoJane201710_slide33-S2_prep2_lossless_Ntb.tif -crop 2000x2000+6395+6042 /tmp/tmp.tif\n",
      "Region 7: x=2482, y=8499, w=2000, h=2000\n",
      "convert /media/yuncong/BstemAtlasData/CSHL_data_processed/ChatCryoJane201710/ChatCryoJane201710_prep2_lossless_Ntb/ChatCryoJane201710_slide34-S1_prep2_lossless_Ntb.tif -crop 2000x2000+2482+8499 /tmp/tmp.tif\n",
      "convert /media/yuncong/BstemAtlasData/CSHL_data_processed/ChatCryoJane201710/ChatCryoJane201710_prep2_lossless_Ntb/ChatCryoJane201710_slide33-S2_prep2_lossless_Ntb.tif -crop 2000x2000+2482+8499 /tmp/tmp.tif\n",
      "Region 8: x=5308, y=9122, w=2000, h=2000\n",
      "convert /media/yuncong/BstemAtlasData/CSHL_data_processed/ChatCryoJane201710/ChatCryoJane201710_prep2_lossless_Ntb/ChatCryoJane201710_slide34-S1_prep2_lossless_Ntb.tif -crop 2000x2000+5308+9122 /tmp/tmp.tif\n",
      "convert /media/yuncong/BstemAtlasData/CSHL_data_processed/ChatCryoJane201710/ChatCryoJane201710_prep2_lossless_Ntb/ChatCryoJane201710_slide33-S2_prep2_lossless_Ntb.tif -crop 2000x2000+5308+9122 /tmp/tmp.tif\n",
      "Region 9: x=4652, y=10088, w=2000, h=2000\n",
      "convert /media/yuncong/BstemAtlasData/CSHL_data_processed/ChatCryoJane201710/ChatCryoJane201710_prep2_lossless_Ntb/ChatCryoJane201710_slide34-S1_prep2_lossless_Ntb.tif -crop 2000x2000+4652+10088 /tmp/tmp.tif\n",
      "convert /media/yuncong/BstemAtlasData/CSHL_data_processed/ChatCryoJane201710/ChatCryoJane201710_prep2_lossless_Ntb/ChatCryoJane201710_slide33-S2_prep2_lossless_Ntb.tif -crop 2000x2000+4652+10088 /tmp/tmp.tif\n",
      "aws s3 cp \"/media/yuncong/BstemAtlasData/CSHL_data_processed/ChatCryoJane201710/ChatCryoJane201710_intensity_mapping/ChatCryoJane201710_slide33-S2_to_ChatCryoJane201710_slide34-S1_intensity_mapping_all_regions.npy\" \"s3://mousebrainatlas-data/CSHL_data_processed/ChatCryoJane201710/ChatCryoJane201710_intensity_mapping/ChatCryoJane201710_slide33-S2_to_ChatCryoJane201710_slide34-S1_intensity_mapping_all_regions.npy\"\n",
      "aws s3 cp \"/media/yuncong/BstemAtlasData/CSHL_data_processed/ChatCryoJane201710/ChatCryoJane201710_intensity_mapping/ChatCryoJane201710_slide33-S2_to_ChatCryoJane201710_slide34-S1_region_bboxes.npy\" \"s3://mousebrainatlas-data/CSHL_data_processed/ChatCryoJane201710/ChatCryoJane201710_intensity_mapping/ChatCryoJane201710_slide33-S2_to_ChatCryoJane201710_slide34-S1_region_bboxes.npy\"\n"
     ]
    },
    {
     "name": "stderr",
     "output_type": "stream",
     "text": [
      "ntb 99, ntb 100\n",
      "Load NTB1: 0.00 seconds.\n",
      "Load NTB2: 0.00 seconds.\n"
     ]
    },
    {
     "name": "stdout",
     "output_type": "stream",
     "text": [
      "Region 0: x=16312, y=7672, w=2000, h=2000\n",
      "convert /media/yuncong/BstemAtlasData/CSHL_data_processed/ChatCryoJane201710/ChatCryoJane201710_prep2_lossless_Ntb/ChatCryoJane201710_slide33-S2_prep2_lossless_Ntb.tif -crop 2000x2000+16312+7672 /tmp/tmp.tif\n",
      "convert /media/yuncong/BstemAtlasData/CSHL_data_processed/ChatCryoJane201710/ChatCryoJane201710_prep2_lossless_Ntb/ChatCryoJane201710_slide34-S2_prep2_lossless_Ntb.tif -crop 2000x2000+16312+7672 /tmp/tmp.tif\n",
      "Region 1: x=15578, y=12546, w=2000, h=2000\n",
      "convert /media/yuncong/BstemAtlasData/CSHL_data_processed/ChatCryoJane201710/ChatCryoJane201710_prep2_lossless_Ntb/ChatCryoJane201710_slide33-S2_prep2_lossless_Ntb.tif -crop 2000x2000+15578+12546 /tmp/tmp.tif\n",
      "convert /media/yuncong/BstemAtlasData/CSHL_data_processed/ChatCryoJane201710/ChatCryoJane201710_prep2_lossless_Ntb/ChatCryoJane201710_slide34-S2_prep2_lossless_Ntb.tif -crop 2000x2000+15578+12546 /tmp/tmp.tif\n",
      "Region 2: x=11775, y=11595, w=2000, h=2000\n",
      "convert /media/yuncong/BstemAtlasData/CSHL_data_processed/ChatCryoJane201710/ChatCryoJane201710_prep2_lossless_Ntb/ChatCryoJane201710_slide33-S2_prep2_lossless_Ntb.tif -crop 2000x2000+11775+11595 /tmp/tmp.tif\n",
      "convert /media/yuncong/BstemAtlasData/CSHL_data_processed/ChatCryoJane201710/ChatCryoJane201710_prep2_lossless_Ntb/ChatCryoJane201710_slide34-S2_prep2_lossless_Ntb.tif -crop 2000x2000+11775+11595 /tmp/tmp.tif\n",
      "Region 3: x=5315, y=12283, w=2000, h=2000\n",
      "convert /media/yuncong/BstemAtlasData/CSHL_data_processed/ChatCryoJane201710/ChatCryoJane201710_prep2_lossless_Ntb/ChatCryoJane201710_slide33-S2_prep2_lossless_Ntb.tif -crop 2000x2000+5315+12283 /tmp/tmp.tif\n",
      "convert /media/yuncong/BstemAtlasData/CSHL_data_processed/ChatCryoJane201710/ChatCryoJane201710_prep2_lossless_Ntb/ChatCryoJane201710_slide34-S2_prep2_lossless_Ntb.tif -crop 2000x2000+5315+12283 /tmp/tmp.tif\n",
      "Region 4: x=14352, y=13529, w=2000, h=2000\n",
      "convert /media/yuncong/BstemAtlasData/CSHL_data_processed/ChatCryoJane201710/ChatCryoJane201710_prep2_lossless_Ntb/ChatCryoJane201710_slide33-S2_prep2_lossless_Ntb.tif -crop 2000x2000+14352+13529 /tmp/tmp.tif\n",
      "convert /media/yuncong/BstemAtlasData/CSHL_data_processed/ChatCryoJane201710/ChatCryoJane201710_prep2_lossless_Ntb/ChatCryoJane201710_slide34-S2_prep2_lossless_Ntb.tif -crop 2000x2000+14352+13529 /tmp/tmp.tif\n",
      "Region 5: x=1475, y=2917, w=2000, h=2000\n",
      "convert /media/yuncong/BstemAtlasData/CSHL_data_processed/ChatCryoJane201710/ChatCryoJane201710_prep2_lossless_Ntb/ChatCryoJane201710_slide33-S2_prep2_lossless_Ntb.tif -crop 2000x2000+1475+2917 /tmp/tmp.tif\n",
      "convert /media/yuncong/BstemAtlasData/CSHL_data_processed/ChatCryoJane201710/ChatCryoJane201710_prep2_lossless_Ntb/ChatCryoJane201710_slide34-S2_prep2_lossless_Ntb.tif -crop 2000x2000+1475+2917 /tmp/tmp.tif\n",
      "Region 6: x=4339, y=14234, w=2000, h=2000\n",
      "convert /media/yuncong/BstemAtlasData/CSHL_data_processed/ChatCryoJane201710/ChatCryoJane201710_prep2_lossless_Ntb/ChatCryoJane201710_slide33-S2_prep2_lossless_Ntb.tif -crop 2000x2000+4339+14234 /tmp/tmp.tif\n",
      "convert /media/yuncong/BstemAtlasData/CSHL_data_processed/ChatCryoJane201710/ChatCryoJane201710_prep2_lossless_Ntb/ChatCryoJane201710_slide34-S2_prep2_lossless_Ntb.tif -crop 2000x2000+4339+14234 /tmp/tmp.tif\n",
      "Region 7: x=8195, y=13126, w=2000, h=2000\n",
      "convert /media/yuncong/BstemAtlasData/CSHL_data_processed/ChatCryoJane201710/ChatCryoJane201710_prep2_lossless_Ntb/ChatCryoJane201710_slide33-S2_prep2_lossless_Ntb.tif -crop 2000x2000+8195+13126 /tmp/tmp.tif\n",
      "convert /media/yuncong/BstemAtlasData/CSHL_data_processed/ChatCryoJane201710/ChatCryoJane201710_prep2_lossless_Ntb/ChatCryoJane201710_slide34-S2_prep2_lossless_Ntb.tif -crop 2000x2000+8195+13126 /tmp/tmp.tif\n",
      "Region 8: x=15996, y=10485, w=2000, h=2000\n",
      "convert /media/yuncong/BstemAtlasData/CSHL_data_processed/ChatCryoJane201710/ChatCryoJane201710_prep2_lossless_Ntb/ChatCryoJane201710_slide33-S2_prep2_lossless_Ntb.tif -crop 2000x2000+15996+10485 /tmp/tmp.tif\n",
      "convert /media/yuncong/BstemAtlasData/CSHL_data_processed/ChatCryoJane201710/ChatCryoJane201710_prep2_lossless_Ntb/ChatCryoJane201710_slide34-S2_prep2_lossless_Ntb.tif -crop 2000x2000+15996+10485 /tmp/tmp.tif\n",
      "Region 9: x=18113, y=13202, w=2000, h=2000\n",
      "convert /media/yuncong/BstemAtlasData/CSHL_data_processed/ChatCryoJane201710/ChatCryoJane201710_prep2_lossless_Ntb/ChatCryoJane201710_slide33-S2_prep2_lossless_Ntb.tif -crop 2000x2000+18113+13202 /tmp/tmp.tif\n",
      "convert /media/yuncong/BstemAtlasData/CSHL_data_processed/ChatCryoJane201710/ChatCryoJane201710_prep2_lossless_Ntb/ChatCryoJane201710_slide34-S2_prep2_lossless_Ntb.tif -crop 2000x2000+18113+13202 /tmp/tmp.tif\n",
      "aws s3 cp \"/media/yuncong/BstemAtlasData/CSHL_data_processed/ChatCryoJane201710/ChatCryoJane201710_intensity_mapping/ChatCryoJane201710_slide34-S2_to_ChatCryoJane201710_slide33-S2_intensity_mapping_all_regions.npy\" \"s3://mousebrainatlas-data/CSHL_data_processed/ChatCryoJane201710/ChatCryoJane201710_intensity_mapping/ChatCryoJane201710_slide34-S2_to_ChatCryoJane201710_slide33-S2_intensity_mapping_all_regions.npy\"\n",
      "aws s3 cp \"/media/yuncong/BstemAtlasData/CSHL_data_processed/ChatCryoJane201710/ChatCryoJane201710_intensity_mapping/ChatCryoJane201710_slide34-S2_to_ChatCryoJane201710_slide33-S2_region_bboxes.npy\" \"s3://mousebrainatlas-data/CSHL_data_processed/ChatCryoJane201710/ChatCryoJane201710_intensity_mapping/ChatCryoJane201710_slide34-S2_to_ChatCryoJane201710_slide33-S2_region_bboxes.npy\"\n"
     ]
    },
    {
     "name": "stderr",
     "output_type": "stream",
     "text": [
      "ntb 100, ntb 101\n",
      "Load NTB1: 0.00 seconds.\n",
      "Load NTB2: 0.00 seconds.\n"
     ]
    },
    {
     "name": "stdout",
     "output_type": "stream",
     "text": [
      "Region 0: x=5345, y=9124, w=2000, h=2000\n",
      "convert /media/yuncong/BstemAtlasData/CSHL_data_processed/ChatCryoJane201710/ChatCryoJane201710_prep2_lossless_Ntb/ChatCryoJane201710_slide34-S2_prep2_lossless_Ntb.tif -crop 2000x2000+5345+9124 /tmp/tmp.tif\n",
      "convert /media/yuncong/BstemAtlasData/CSHL_data_processed/ChatCryoJane201710/ChatCryoJane201710_prep2_lossless_Ntb/ChatCryoJane201710_slide33-S3_prep2_lossless_Ntb.tif -crop 2000x2000+5345+9124 /tmp/tmp.tif\n",
      "Region 1: x=14346, y=5714, w=2000, h=2000\n",
      "convert /media/yuncong/BstemAtlasData/CSHL_data_processed/ChatCryoJane201710/ChatCryoJane201710_prep2_lossless_Ntb/ChatCryoJane201710_slide34-S2_prep2_lossless_Ntb.tif -crop 2000x2000+14346+5714 /tmp/tmp.tif\n",
      "convert /media/yuncong/BstemAtlasData/CSHL_data_processed/ChatCryoJane201710/ChatCryoJane201710_prep2_lossless_Ntb/ChatCryoJane201710_slide33-S3_prep2_lossless_Ntb.tif -crop 2000x2000+14346+5714 /tmp/tmp.tif\n",
      "Region 2: x=13785, y=3484, w=2000, h=2000\n",
      "convert /media/yuncong/BstemAtlasData/CSHL_data_processed/ChatCryoJane201710/ChatCryoJane201710_prep2_lossless_Ntb/ChatCryoJane201710_slide34-S2_prep2_lossless_Ntb.tif -crop 2000x2000+13785+3484 /tmp/tmp.tif\n",
      "convert /media/yuncong/BstemAtlasData/CSHL_data_processed/ChatCryoJane201710/ChatCryoJane201710_prep2_lossless_Ntb/ChatCryoJane201710_slide33-S3_prep2_lossless_Ntb.tif -crop 2000x2000+13785+3484 /tmp/tmp.tif\n",
      "Region 3: x=15234, y=11605, w=2000, h=2000\n",
      "convert /media/yuncong/BstemAtlasData/CSHL_data_processed/ChatCryoJane201710/ChatCryoJane201710_prep2_lossless_Ntb/ChatCryoJane201710_slide34-S2_prep2_lossless_Ntb.tif -crop 2000x2000+15234+11605 /tmp/tmp.tif\n",
      "convert /media/yuncong/BstemAtlasData/CSHL_data_processed/ChatCryoJane201710/ChatCryoJane201710_prep2_lossless_Ntb/ChatCryoJane201710_slide33-S3_prep2_lossless_Ntb.tif -crop 2000x2000+15234+11605 /tmp/tmp.tif\n",
      "Region 4: x=15724, y=12127, w=2000, h=2000\n",
      "convert /media/yuncong/BstemAtlasData/CSHL_data_processed/ChatCryoJane201710/ChatCryoJane201710_prep2_lossless_Ntb/ChatCryoJane201710_slide34-S2_prep2_lossless_Ntb.tif -crop 2000x2000+15724+12127 /tmp/tmp.tif\n",
      "convert /media/yuncong/BstemAtlasData/CSHL_data_processed/ChatCryoJane201710/ChatCryoJane201710_prep2_lossless_Ntb/ChatCryoJane201710_slide33-S3_prep2_lossless_Ntb.tif -crop 2000x2000+15724+12127 /tmp/tmp.tif\n",
      "Region 5: x=3994, y=758, w=2000, h=2000\n",
      "convert /media/yuncong/BstemAtlasData/CSHL_data_processed/ChatCryoJane201710/ChatCryoJane201710_prep2_lossless_Ntb/ChatCryoJane201710_slide34-S2_prep2_lossless_Ntb.tif -crop 2000x2000+3994+758 /tmp/tmp.tif\n",
      "convert /media/yuncong/BstemAtlasData/CSHL_data_processed/ChatCryoJane201710/ChatCryoJane201710_prep2_lossless_Ntb/ChatCryoJane201710_slide33-S3_prep2_lossless_Ntb.tif -crop 2000x2000+3994+758 /tmp/tmp.tif\n",
      "Region 6: x=14356, y=8748, w=2000, h=2000\n",
      "convert /media/yuncong/BstemAtlasData/CSHL_data_processed/ChatCryoJane201710/ChatCryoJane201710_prep2_lossless_Ntb/ChatCryoJane201710_slide34-S2_prep2_lossless_Ntb.tif -crop 2000x2000+14356+8748 /tmp/tmp.tif\n",
      "convert /media/yuncong/BstemAtlasData/CSHL_data_processed/ChatCryoJane201710/ChatCryoJane201710_prep2_lossless_Ntb/ChatCryoJane201710_slide33-S3_prep2_lossless_Ntb.tif -crop 2000x2000+14356+8748 /tmp/tmp.tif\n",
      "Region 7: x=7275, y=11798, w=2000, h=2000\n",
      "convert /media/yuncong/BstemAtlasData/CSHL_data_processed/ChatCryoJane201710/ChatCryoJane201710_prep2_lossless_Ntb/ChatCryoJane201710_slide34-S2_prep2_lossless_Ntb.tif -crop 2000x2000+7275+11798 /tmp/tmp.tif\n",
      "convert /media/yuncong/BstemAtlasData/CSHL_data_processed/ChatCryoJane201710/ChatCryoJane201710_prep2_lossless_Ntb/ChatCryoJane201710_slide33-S3_prep2_lossless_Ntb.tif -crop 2000x2000+7275+11798 /tmp/tmp.tif\n",
      "Region 8: x=3309, y=9660, w=2000, h=2000\n",
      "convert /media/yuncong/BstemAtlasData/CSHL_data_processed/ChatCryoJane201710/ChatCryoJane201710_prep2_lossless_Ntb/ChatCryoJane201710_slide34-S2_prep2_lossless_Ntb.tif -crop 2000x2000+3309+9660 /tmp/tmp.tif\n",
      "convert /media/yuncong/BstemAtlasData/CSHL_data_processed/ChatCryoJane201710/ChatCryoJane201710_prep2_lossless_Ntb/ChatCryoJane201710_slide33-S3_prep2_lossless_Ntb.tif -crop 2000x2000+3309+9660 /tmp/tmp.tif\n",
      "Region 9: x=14971, y=6876, w=2000, h=2000\n",
      "convert /media/yuncong/BstemAtlasData/CSHL_data_processed/ChatCryoJane201710/ChatCryoJane201710_prep2_lossless_Ntb/ChatCryoJane201710_slide34-S2_prep2_lossless_Ntb.tif -crop 2000x2000+14971+6876 /tmp/tmp.tif\n",
      "convert /media/yuncong/BstemAtlasData/CSHL_data_processed/ChatCryoJane201710/ChatCryoJane201710_prep2_lossless_Ntb/ChatCryoJane201710_slide33-S3_prep2_lossless_Ntb.tif -crop 2000x2000+14971+6876 /tmp/tmp.tif\n",
      "aws s3 cp \"/media/yuncong/BstemAtlasData/CSHL_data_processed/ChatCryoJane201710/ChatCryoJane201710_intensity_mapping/ChatCryoJane201710_slide33-S3_to_ChatCryoJane201710_slide34-S2_intensity_mapping_all_regions.npy\" \"s3://mousebrainatlas-data/CSHL_data_processed/ChatCryoJane201710/ChatCryoJane201710_intensity_mapping/ChatCryoJane201710_slide33-S3_to_ChatCryoJane201710_slide34-S2_intensity_mapping_all_regions.npy\"\n",
      "aws s3 cp \"/media/yuncong/BstemAtlasData/CSHL_data_processed/ChatCryoJane201710/ChatCryoJane201710_intensity_mapping/ChatCryoJane201710_slide33-S3_to_ChatCryoJane201710_slide34-S2_region_bboxes.npy\" \"s3://mousebrainatlas-data/CSHL_data_processed/ChatCryoJane201710/ChatCryoJane201710_intensity_mapping/ChatCryoJane201710_slide33-S3_to_ChatCryoJane201710_slide34-S2_region_bboxes.npy\"\n"
     ]
    },
    {
     "name": "stderr",
     "output_type": "stream",
     "text": [
      "ntb 101, ntb 102\n",
      "Load NTB1: 0.00 seconds.\n",
      "Load NTB2: 0.00 seconds.\n"
     ]
    },
    {
     "name": "stdout",
     "output_type": "stream",
     "text": [
      "Region 0: x=2115, y=4358, w=2000, h=2000\n",
      "convert /media/yuncong/BstemAtlasData/CSHL_data_processed/ChatCryoJane201710/ChatCryoJane201710_prep2_lossless_Ntb/ChatCryoJane201710_slide33-S3_prep2_lossless_Ntb.tif -crop 2000x2000+2115+4358 /tmp/tmp.tif\n",
      "convert /media/yuncong/BstemAtlasData/CSHL_data_processed/ChatCryoJane201710/ChatCryoJane201710_prep2_lossless_Ntb/ChatCryoJane201710_slide34-S3_prep2_lossless_Ntb.tif -crop 2000x2000+2115+4358 /tmp/tmp.tif\n",
      "Region 1: x=2029, y=4838, w=2000, h=2000\n",
      "convert /media/yuncong/BstemAtlasData/CSHL_data_processed/ChatCryoJane201710/ChatCryoJane201710_prep2_lossless_Ntb/ChatCryoJane201710_slide33-S3_prep2_lossless_Ntb.tif -crop 2000x2000+2029+4838 /tmp/tmp.tif\n",
      "convert /media/yuncong/BstemAtlasData/CSHL_data_processed/ChatCryoJane201710/ChatCryoJane201710_prep2_lossless_Ntb/ChatCryoJane201710_slide34-S3_prep2_lossless_Ntb.tif -crop 2000x2000+2029+4838 /tmp/tmp.tif\n",
      "Region 2: x=10259, y=4984, w=2000, h=2000\n",
      "convert /media/yuncong/BstemAtlasData/CSHL_data_processed/ChatCryoJane201710/ChatCryoJane201710_prep2_lossless_Ntb/ChatCryoJane201710_slide33-S3_prep2_lossless_Ntb.tif -crop 2000x2000+10259+4984 /tmp/tmp.tif\n",
      "convert /media/yuncong/BstemAtlasData/CSHL_data_processed/ChatCryoJane201710/ChatCryoJane201710_prep2_lossless_Ntb/ChatCryoJane201710_slide34-S3_prep2_lossless_Ntb.tif -crop 2000x2000+10259+4984 /tmp/tmp.tif\n",
      "Region 3: x=5708, y=12680, w=2000, h=2000\n",
      "convert /media/yuncong/BstemAtlasData/CSHL_data_processed/ChatCryoJane201710/ChatCryoJane201710_prep2_lossless_Ntb/ChatCryoJane201710_slide33-S3_prep2_lossless_Ntb.tif -crop 2000x2000+5708+12680 /tmp/tmp.tif\n",
      "convert /media/yuncong/BstemAtlasData/CSHL_data_processed/ChatCryoJane201710/ChatCryoJane201710_prep2_lossless_Ntb/ChatCryoJane201710_slide34-S3_prep2_lossless_Ntb.tif -crop 2000x2000+5708+12680 /tmp/tmp.tif\n",
      "Region 4: x=12231, y=7239, w=2000, h=2000\n",
      "convert /media/yuncong/BstemAtlasData/CSHL_data_processed/ChatCryoJane201710/ChatCryoJane201710_prep2_lossless_Ntb/ChatCryoJane201710_slide33-S3_prep2_lossless_Ntb.tif -crop 2000x2000+12231+7239 /tmp/tmp.tif\n",
      "convert /media/yuncong/BstemAtlasData/CSHL_data_processed/ChatCryoJane201710/ChatCryoJane201710_prep2_lossless_Ntb/ChatCryoJane201710_slide34-S3_prep2_lossless_Ntb.tif -crop 2000x2000+12231+7239 /tmp/tmp.tif\n",
      "Region 5: x=84, y=4422, w=2000, h=2000\n",
      "convert /media/yuncong/BstemAtlasData/CSHL_data_processed/ChatCryoJane201710/ChatCryoJane201710_prep2_lossless_Ntb/ChatCryoJane201710_slide33-S3_prep2_lossless_Ntb.tif -crop 2000x2000+84+4422 /tmp/tmp.tif\n",
      "convert /media/yuncong/BstemAtlasData/CSHL_data_processed/ChatCryoJane201710/ChatCryoJane201710_prep2_lossless_Ntb/ChatCryoJane201710_slide34-S3_prep2_lossless_Ntb.tif -crop 2000x2000+84+4422 /tmp/tmp.tif\n",
      "Region 6: x=8821, y=3627, w=2000, h=2000\n",
      "convert /media/yuncong/BstemAtlasData/CSHL_data_processed/ChatCryoJane201710/ChatCryoJane201710_prep2_lossless_Ntb/ChatCryoJane201710_slide33-S3_prep2_lossless_Ntb.tif -crop 2000x2000+8821+3627 /tmp/tmp.tif\n",
      "convert /media/yuncong/BstemAtlasData/CSHL_data_processed/ChatCryoJane201710/ChatCryoJane201710_prep2_lossless_Ntb/ChatCryoJane201710_slide34-S3_prep2_lossless_Ntb.tif -crop 2000x2000+8821+3627 /tmp/tmp.tif\n",
      "Region 7: x=6637, y=3178, w=2000, h=2000\n",
      "convert /media/yuncong/BstemAtlasData/CSHL_data_processed/ChatCryoJane201710/ChatCryoJane201710_prep2_lossless_Ntb/ChatCryoJane201710_slide33-S3_prep2_lossless_Ntb.tif -crop 2000x2000+6637+3178 /tmp/tmp.tif\n",
      "convert /media/yuncong/BstemAtlasData/CSHL_data_processed/ChatCryoJane201710/ChatCryoJane201710_prep2_lossless_Ntb/ChatCryoJane201710_slide34-S3_prep2_lossless_Ntb.tif -crop 2000x2000+6637+3178 /tmp/tmp.tif\n",
      "Region 8: x=13230, y=14788, w=2000, h=2000\n",
      "convert /media/yuncong/BstemAtlasData/CSHL_data_processed/ChatCryoJane201710/ChatCryoJane201710_prep2_lossless_Ntb/ChatCryoJane201710_slide33-S3_prep2_lossless_Ntb.tif -crop 2000x2000+13230+14788 /tmp/tmp.tif\n",
      "convert /media/yuncong/BstemAtlasData/CSHL_data_processed/ChatCryoJane201710/ChatCryoJane201710_prep2_lossless_Ntb/ChatCryoJane201710_slide34-S3_prep2_lossless_Ntb.tif -crop 2000x2000+13230+14788 /tmp/tmp.tif\n",
      "Region 9: x=5926, y=5717, w=2000, h=2000\n",
      "convert /media/yuncong/BstemAtlasData/CSHL_data_processed/ChatCryoJane201710/ChatCryoJane201710_prep2_lossless_Ntb/ChatCryoJane201710_slide33-S3_prep2_lossless_Ntb.tif -crop 2000x2000+5926+5717 /tmp/tmp.tif\n",
      "convert /media/yuncong/BstemAtlasData/CSHL_data_processed/ChatCryoJane201710/ChatCryoJane201710_prep2_lossless_Ntb/ChatCryoJane201710_slide34-S3_prep2_lossless_Ntb.tif -crop 2000x2000+5926+5717 /tmp/tmp.tif\n",
      "aws s3 cp \"/media/yuncong/BstemAtlasData/CSHL_data_processed/ChatCryoJane201710/ChatCryoJane201710_intensity_mapping/ChatCryoJane201710_slide34-S3_to_ChatCryoJane201710_slide33-S3_intensity_mapping_all_regions.npy\" \"s3://mousebrainatlas-data/CSHL_data_processed/ChatCryoJane201710/ChatCryoJane201710_intensity_mapping/ChatCryoJane201710_slide34-S3_to_ChatCryoJane201710_slide33-S3_intensity_mapping_all_regions.npy\"\n",
      "aws s3 cp \"/media/yuncong/BstemAtlasData/CSHL_data_processed/ChatCryoJane201710/ChatCryoJane201710_intensity_mapping/ChatCryoJane201710_slide34-S3_to_ChatCryoJane201710_slide33-S3_region_bboxes.npy\" \"s3://mousebrainatlas-data/CSHL_data_processed/ChatCryoJane201710/ChatCryoJane201710_intensity_mapping/ChatCryoJane201710_slide34-S3_to_ChatCryoJane201710_slide33-S3_region_bboxes.npy\"\n"
     ]
    },
    {
     "name": "stderr",
     "output_type": "stream",
     "text": [
      "ntb 102, ntb 103\n",
      "Load NTB1: 0.00 seconds.\n",
      "Load NTB2: 0.00 seconds.\n"
     ]
    },
    {
     "name": "stdout",
     "output_type": "stream",
     "text": [
      "Region 0: x=16569, y=4226, w=2000, h=2000\n",
      "convert /media/yuncong/BstemAtlasData/CSHL_data_processed/ChatCryoJane201710/ChatCryoJane201710_prep2_lossless_Ntb/ChatCryoJane201710_slide34-S3_prep2_lossless_Ntb.tif -crop 2000x2000+16569+4226 /tmp/tmp.tif\n",
      "convert /media/yuncong/BstemAtlasData/CSHL_data_processed/ChatCryoJane201710/ChatCryoJane201710_prep2_lossless_Ntb/ChatCryoJane201710_slide35-S1_prep2_lossless_Ntb.tif -crop 2000x2000+16569+4226 /tmp/tmp.tif\n",
      "Region 1: x=14093, y=10082, w=2000, h=2000\n",
      "convert /media/yuncong/BstemAtlasData/CSHL_data_processed/ChatCryoJane201710/ChatCryoJane201710_prep2_lossless_Ntb/ChatCryoJane201710_slide34-S3_prep2_lossless_Ntb.tif -crop 2000x2000+14093+10082 /tmp/tmp.tif\n",
      "convert /media/yuncong/BstemAtlasData/CSHL_data_processed/ChatCryoJane201710/ChatCryoJane201710_prep2_lossless_Ntb/ChatCryoJane201710_slide35-S1_prep2_lossless_Ntb.tif -crop 2000x2000+14093+10082 /tmp/tmp.tif\n",
      "Region 2: x=8414, y=2979, w=2000, h=2000\n",
      "convert /media/yuncong/BstemAtlasData/CSHL_data_processed/ChatCryoJane201710/ChatCryoJane201710_prep2_lossless_Ntb/ChatCryoJane201710_slide34-S3_prep2_lossless_Ntb.tif -crop 2000x2000+8414+2979 /tmp/tmp.tif\n",
      "convert /media/yuncong/BstemAtlasData/CSHL_data_processed/ChatCryoJane201710/ChatCryoJane201710_prep2_lossless_Ntb/ChatCryoJane201710_slide35-S1_prep2_lossless_Ntb.tif -crop 2000x2000+8414+2979 /tmp/tmp.tif\n",
      "Region 3: x=8236, y=1516, w=2000, h=2000\n",
      "convert /media/yuncong/BstemAtlasData/CSHL_data_processed/ChatCryoJane201710/ChatCryoJane201710_prep2_lossless_Ntb/ChatCryoJane201710_slide34-S3_prep2_lossless_Ntb.tif -crop 2000x2000+8236+1516 /tmp/tmp.tif\n",
      "convert /media/yuncong/BstemAtlasData/CSHL_data_processed/ChatCryoJane201710/ChatCryoJane201710_prep2_lossless_Ntb/ChatCryoJane201710_slide35-S1_prep2_lossless_Ntb.tif -crop 2000x2000+8236+1516 /tmp/tmp.tif\n",
      "Region 4: x=1181, y=5509, w=2000, h=2000\n",
      "convert /media/yuncong/BstemAtlasData/CSHL_data_processed/ChatCryoJane201710/ChatCryoJane201710_prep2_lossless_Ntb/ChatCryoJane201710_slide34-S3_prep2_lossless_Ntb.tif -crop 2000x2000+1181+5509 /tmp/tmp.tif\n",
      "convert /media/yuncong/BstemAtlasData/CSHL_data_processed/ChatCryoJane201710/ChatCryoJane201710_prep2_lossless_Ntb/ChatCryoJane201710_slide35-S1_prep2_lossless_Ntb.tif -crop 2000x2000+1181+5509 /tmp/tmp.tif\n",
      "Region 5: x=2211, y=1416, w=2000, h=2000\n",
      "convert /media/yuncong/BstemAtlasData/CSHL_data_processed/ChatCryoJane201710/ChatCryoJane201710_prep2_lossless_Ntb/ChatCryoJane201710_slide34-S3_prep2_lossless_Ntb.tif -crop 2000x2000+2211+1416 /tmp/tmp.tif\n",
      "convert /media/yuncong/BstemAtlasData/CSHL_data_processed/ChatCryoJane201710/ChatCryoJane201710_prep2_lossless_Ntb/ChatCryoJane201710_slide35-S1_prep2_lossless_Ntb.tif -crop 2000x2000+2211+1416 /tmp/tmp.tif\n",
      "Region 6: x=10240, y=12169, w=2000, h=2000\n",
      "convert /media/yuncong/BstemAtlasData/CSHL_data_processed/ChatCryoJane201710/ChatCryoJane201710_prep2_lossless_Ntb/ChatCryoJane201710_slide34-S3_prep2_lossless_Ntb.tif -crop 2000x2000+10240+12169 /tmp/tmp.tif\n",
      "convert /media/yuncong/BstemAtlasData/CSHL_data_processed/ChatCryoJane201710/ChatCryoJane201710_prep2_lossless_Ntb/ChatCryoJane201710_slide35-S1_prep2_lossless_Ntb.tif -crop 2000x2000+10240+12169 /tmp/tmp.tif\n",
      "Region 7: x=9860, y=8170, w=2000, h=2000\n",
      "convert /media/yuncong/BstemAtlasData/CSHL_data_processed/ChatCryoJane201710/ChatCryoJane201710_prep2_lossless_Ntb/ChatCryoJane201710_slide34-S3_prep2_lossless_Ntb.tif -crop 2000x2000+9860+8170 /tmp/tmp.tif\n",
      "convert /media/yuncong/BstemAtlasData/CSHL_data_processed/ChatCryoJane201710/ChatCryoJane201710_prep2_lossless_Ntb/ChatCryoJane201710_slide35-S1_prep2_lossless_Ntb.tif -crop 2000x2000+9860+8170 /tmp/tmp.tif\n",
      "Region 8: x=16068, y=3870, w=2000, h=2000\n",
      "convert /media/yuncong/BstemAtlasData/CSHL_data_processed/ChatCryoJane201710/ChatCryoJane201710_prep2_lossless_Ntb/ChatCryoJane201710_slide34-S3_prep2_lossless_Ntb.tif -crop 2000x2000+16068+3870 /tmp/tmp.tif\n",
      "convert /media/yuncong/BstemAtlasData/CSHL_data_processed/ChatCryoJane201710/ChatCryoJane201710_prep2_lossless_Ntb/ChatCryoJane201710_slide35-S1_prep2_lossless_Ntb.tif -crop 2000x2000+16068+3870 /tmp/tmp.tif\n",
      "Region 9: x=10618, y=3711, w=2000, h=2000\n",
      "convert /media/yuncong/BstemAtlasData/CSHL_data_processed/ChatCryoJane201710/ChatCryoJane201710_prep2_lossless_Ntb/ChatCryoJane201710_slide34-S3_prep2_lossless_Ntb.tif -crop 2000x2000+10618+3711 /tmp/tmp.tif\n",
      "convert /media/yuncong/BstemAtlasData/CSHL_data_processed/ChatCryoJane201710/ChatCryoJane201710_prep2_lossless_Ntb/ChatCryoJane201710_slide35-S1_prep2_lossless_Ntb.tif -crop 2000x2000+10618+3711 /tmp/tmp.tif\n",
      "aws s3 cp \"/media/yuncong/BstemAtlasData/CSHL_data_processed/ChatCryoJane201710/ChatCryoJane201710_intensity_mapping/ChatCryoJane201710_slide35-S1_to_ChatCryoJane201710_slide34-S3_intensity_mapping_all_regions.npy\" \"s3://mousebrainatlas-data/CSHL_data_processed/ChatCryoJane201710/ChatCryoJane201710_intensity_mapping/ChatCryoJane201710_slide35-S1_to_ChatCryoJane201710_slide34-S3_intensity_mapping_all_regions.npy\"\n",
      "aws s3 cp \"/media/yuncong/BstemAtlasData/CSHL_data_processed/ChatCryoJane201710/ChatCryoJane201710_intensity_mapping/ChatCryoJane201710_slide35-S1_to_ChatCryoJane201710_slide34-S3_region_bboxes.npy\" \"s3://mousebrainatlas-data/CSHL_data_processed/ChatCryoJane201710/ChatCryoJane201710_intensity_mapping/ChatCryoJane201710_slide35-S1_to_ChatCryoJane201710_slide34-S3_region_bboxes.npy\"\n"
     ]
    },
    {
     "name": "stderr",
     "output_type": "stream",
     "text": [
      "ntb 103, ntb 104\n",
      "Load NTB1: 0.00 seconds.\n",
      "Load NTB2: 0.00 seconds.\n"
     ]
    },
    {
     "name": "stdout",
     "output_type": "stream",
     "text": [
      "Region 0: x=11852, y=2906, w=2000, h=2000\n",
      "convert /media/yuncong/BstemAtlasData/CSHL_data_processed/ChatCryoJane201710/ChatCryoJane201710_prep2_lossless_Ntb/ChatCryoJane201710_slide35-S1_prep2_lossless_Ntb.tif -crop 2000x2000+11852+2906 /tmp/tmp.tif\n",
      "convert /media/yuncong/BstemAtlasData/CSHL_data_processed/ChatCryoJane201710/ChatCryoJane201710_prep2_lossless_Ntb/ChatCryoJane201710_slide36-S1_prep2_lossless_Ntb.tif -crop 2000x2000+11852+2906 /tmp/tmp.tif\n",
      "Region 1: x=16275, y=13813, w=2000, h=2000\n",
      "convert /media/yuncong/BstemAtlasData/CSHL_data_processed/ChatCryoJane201710/ChatCryoJane201710_prep2_lossless_Ntb/ChatCryoJane201710_slide35-S1_prep2_lossless_Ntb.tif -crop 2000x2000+16275+13813 /tmp/tmp.tif\n",
      "convert /media/yuncong/BstemAtlasData/CSHL_data_processed/ChatCryoJane201710/ChatCryoJane201710_prep2_lossless_Ntb/ChatCryoJane201710_slide36-S1_prep2_lossless_Ntb.tif -crop 2000x2000+16275+13813 /tmp/tmp.tif\n",
      "Region 2: x=5655, y=6099, w=2000, h=2000\n",
      "convert /media/yuncong/BstemAtlasData/CSHL_data_processed/ChatCryoJane201710/ChatCryoJane201710_prep2_lossless_Ntb/ChatCryoJane201710_slide35-S1_prep2_lossless_Ntb.tif -crop 2000x2000+5655+6099 /tmp/tmp.tif\n",
      "convert /media/yuncong/BstemAtlasData/CSHL_data_processed/ChatCryoJane201710/ChatCryoJane201710_prep2_lossless_Ntb/ChatCryoJane201710_slide36-S1_prep2_lossless_Ntb.tif -crop 2000x2000+5655+6099 /tmp/tmp.tif\n",
      "Region 3: x=16673, y=8893, w=2000, h=2000\n",
      "convert /media/yuncong/BstemAtlasData/CSHL_data_processed/ChatCryoJane201710/ChatCryoJane201710_prep2_lossless_Ntb/ChatCryoJane201710_slide35-S1_prep2_lossless_Ntb.tif -crop 2000x2000+16673+8893 /tmp/tmp.tif\n",
      "convert /media/yuncong/BstemAtlasData/CSHL_data_processed/ChatCryoJane201710/ChatCryoJane201710_prep2_lossless_Ntb/ChatCryoJane201710_slide36-S1_prep2_lossless_Ntb.tif -crop 2000x2000+16673+8893 /tmp/tmp.tif\n",
      "Region 4: x=13139, y=6461, w=2000, h=2000\n",
      "convert /media/yuncong/BstemAtlasData/CSHL_data_processed/ChatCryoJane201710/ChatCryoJane201710_prep2_lossless_Ntb/ChatCryoJane201710_slide35-S1_prep2_lossless_Ntb.tif -crop 2000x2000+13139+6461 /tmp/tmp.tif\n",
      "convert /media/yuncong/BstemAtlasData/CSHL_data_processed/ChatCryoJane201710/ChatCryoJane201710_prep2_lossless_Ntb/ChatCryoJane201710_slide36-S1_prep2_lossless_Ntb.tif -crop 2000x2000+13139+6461 /tmp/tmp.tif\n",
      "Region 5: x=6022, y=3286, w=2000, h=2000\n",
      "convert /media/yuncong/BstemAtlasData/CSHL_data_processed/ChatCryoJane201710/ChatCryoJane201710_prep2_lossless_Ntb/ChatCryoJane201710_slide35-S1_prep2_lossless_Ntb.tif -crop 2000x2000+6022+3286 /tmp/tmp.tif\n",
      "convert /media/yuncong/BstemAtlasData/CSHL_data_processed/ChatCryoJane201710/ChatCryoJane201710_prep2_lossless_Ntb/ChatCryoJane201710_slide36-S1_prep2_lossless_Ntb.tif -crop 2000x2000+6022+3286 /tmp/tmp.tif\n",
      "Region 6: x=9853, y=6444, w=2000, h=2000\n",
      "convert /media/yuncong/BstemAtlasData/CSHL_data_processed/ChatCryoJane201710/ChatCryoJane201710_prep2_lossless_Ntb/ChatCryoJane201710_slide35-S1_prep2_lossless_Ntb.tif -crop 2000x2000+9853+6444 /tmp/tmp.tif\n",
      "convert /media/yuncong/BstemAtlasData/CSHL_data_processed/ChatCryoJane201710/ChatCryoJane201710_prep2_lossless_Ntb/ChatCryoJane201710_slide36-S1_prep2_lossless_Ntb.tif -crop 2000x2000+9853+6444 /tmp/tmp.tif\n",
      "Region 7: x=5416, y=7287, w=2000, h=2000\n",
      "convert /media/yuncong/BstemAtlasData/CSHL_data_processed/ChatCryoJane201710/ChatCryoJane201710_prep2_lossless_Ntb/ChatCryoJane201710_slide35-S1_prep2_lossless_Ntb.tif -crop 2000x2000+5416+7287 /tmp/tmp.tif\n",
      "convert /media/yuncong/BstemAtlasData/CSHL_data_processed/ChatCryoJane201710/ChatCryoJane201710_prep2_lossless_Ntb/ChatCryoJane201710_slide36-S1_prep2_lossless_Ntb.tif -crop 2000x2000+5416+7287 /tmp/tmp.tif\n",
      "Region 8: x=13261, y=14027, w=2000, h=2000\n",
      "convert /media/yuncong/BstemAtlasData/CSHL_data_processed/ChatCryoJane201710/ChatCryoJane201710_prep2_lossless_Ntb/ChatCryoJane201710_slide35-S1_prep2_lossless_Ntb.tif -crop 2000x2000+13261+14027 /tmp/tmp.tif\n",
      "convert /media/yuncong/BstemAtlasData/CSHL_data_processed/ChatCryoJane201710/ChatCryoJane201710_prep2_lossless_Ntb/ChatCryoJane201710_slide36-S1_prep2_lossless_Ntb.tif -crop 2000x2000+13261+14027 /tmp/tmp.tif\n",
      "Region 9: x=16539, y=10098, w=2000, h=2000\n",
      "convert /media/yuncong/BstemAtlasData/CSHL_data_processed/ChatCryoJane201710/ChatCryoJane201710_prep2_lossless_Ntb/ChatCryoJane201710_slide35-S1_prep2_lossless_Ntb.tif -crop 2000x2000+16539+10098 /tmp/tmp.tif\n",
      "convert /media/yuncong/BstemAtlasData/CSHL_data_processed/ChatCryoJane201710/ChatCryoJane201710_prep2_lossless_Ntb/ChatCryoJane201710_slide36-S1_prep2_lossless_Ntb.tif -crop 2000x2000+16539+10098 /tmp/tmp.tif\n",
      "aws s3 cp \"/media/yuncong/BstemAtlasData/CSHL_data_processed/ChatCryoJane201710/ChatCryoJane201710_intensity_mapping/ChatCryoJane201710_slide36-S1_to_ChatCryoJane201710_slide35-S1_intensity_mapping_all_regions.npy\" \"s3://mousebrainatlas-data/CSHL_data_processed/ChatCryoJane201710/ChatCryoJane201710_intensity_mapping/ChatCryoJane201710_slide36-S1_to_ChatCryoJane201710_slide35-S1_intensity_mapping_all_regions.npy\"\n",
      "aws s3 cp \"/media/yuncong/BstemAtlasData/CSHL_data_processed/ChatCryoJane201710/ChatCryoJane201710_intensity_mapping/ChatCryoJane201710_slide36-S1_to_ChatCryoJane201710_slide35-S1_region_bboxes.npy\" \"s3://mousebrainatlas-data/CSHL_data_processed/ChatCryoJane201710/ChatCryoJane201710_intensity_mapping/ChatCryoJane201710_slide36-S1_to_ChatCryoJane201710_slide35-S1_region_bboxes.npy\"\n"
     ]
    },
    {
     "name": "stderr",
     "output_type": "stream",
     "text": [
      "ntb 104, ntb 105\n",
      "Load NTB1: 0.00 seconds.\n",
      "Load NTB2: 0.00 seconds.\n"
     ]
    },
    {
     "name": "stdout",
     "output_type": "stream",
     "text": [
      "Region 0: x=3593, y=4921, w=2000, h=2000\n",
      "convert /media/yuncong/BstemAtlasData/CSHL_data_processed/ChatCryoJane201710/ChatCryoJane201710_prep2_lossless_Ntb/ChatCryoJane201710_slide36-S1_prep2_lossless_Ntb.tif -crop 2000x2000+3593+4921 /tmp/tmp.tif\n",
      "convert /media/yuncong/BstemAtlasData/CSHL_data_processed/ChatCryoJane201710/ChatCryoJane201710_prep2_lossless_Ntb/ChatCryoJane201710_slide35-S2_prep2_lossless_Ntb.tif -crop 2000x2000+3593+4921 /tmp/tmp.tif\n",
      "Region 1: x=16903, y=13910, w=2000, h=2000\n",
      "convert /media/yuncong/BstemAtlasData/CSHL_data_processed/ChatCryoJane201710/ChatCryoJane201710_prep2_lossless_Ntb/ChatCryoJane201710_slide36-S1_prep2_lossless_Ntb.tif -crop 2000x2000+16903+13910 /tmp/tmp.tif\n",
      "convert /media/yuncong/BstemAtlasData/CSHL_data_processed/ChatCryoJane201710/ChatCryoJane201710_prep2_lossless_Ntb/ChatCryoJane201710_slide35-S2_prep2_lossless_Ntb.tif -crop 2000x2000+16903+13910 /tmp/tmp.tif\n",
      "Region 2: x=468, y=7643, w=2000, h=2000\n",
      "convert /media/yuncong/BstemAtlasData/CSHL_data_processed/ChatCryoJane201710/ChatCryoJane201710_prep2_lossless_Ntb/ChatCryoJane201710_slide36-S1_prep2_lossless_Ntb.tif -crop 2000x2000+468+7643 /tmp/tmp.tif\n",
      "convert /media/yuncong/BstemAtlasData/CSHL_data_processed/ChatCryoJane201710/ChatCryoJane201710_prep2_lossless_Ntb/ChatCryoJane201710_slide35-S2_prep2_lossless_Ntb.tif -crop 2000x2000+468+7643 /tmp/tmp.tif\n",
      "Region 3: x=549, y=9835, w=2000, h=2000\n",
      "convert /media/yuncong/BstemAtlasData/CSHL_data_processed/ChatCryoJane201710/ChatCryoJane201710_prep2_lossless_Ntb/ChatCryoJane201710_slide36-S1_prep2_lossless_Ntb.tif -crop 2000x2000+549+9835 /tmp/tmp.tif\n",
      "convert /media/yuncong/BstemAtlasData/CSHL_data_processed/ChatCryoJane201710/ChatCryoJane201710_prep2_lossless_Ntb/ChatCryoJane201710_slide35-S2_prep2_lossless_Ntb.tif -crop 2000x2000+549+9835 /tmp/tmp.tif\n",
      "Region 4: x=19949, y=12331, w=2000, h=2000\n",
      "convert /media/yuncong/BstemAtlasData/CSHL_data_processed/ChatCryoJane201710/ChatCryoJane201710_prep2_lossless_Ntb/ChatCryoJane201710_slide36-S1_prep2_lossless_Ntb.tif -crop 2000x2000+19949+12331 /tmp/tmp.tif\n",
      "convert /media/yuncong/BstemAtlasData/CSHL_data_processed/ChatCryoJane201710/ChatCryoJane201710_prep2_lossless_Ntb/ChatCryoJane201710_slide35-S2_prep2_lossless_Ntb.tif -crop 2000x2000+19949+12331 /tmp/tmp.tif\n",
      "Region 5: x=4993, y=1179, w=2000, h=2000\n",
      "convert /media/yuncong/BstemAtlasData/CSHL_data_processed/ChatCryoJane201710/ChatCryoJane201710_prep2_lossless_Ntb/ChatCryoJane201710_slide36-S1_prep2_lossless_Ntb.tif -crop 2000x2000+4993+1179 /tmp/tmp.tif\n",
      "convert /media/yuncong/BstemAtlasData/CSHL_data_processed/ChatCryoJane201710/ChatCryoJane201710_prep2_lossless_Ntb/ChatCryoJane201710_slide35-S2_prep2_lossless_Ntb.tif -crop 2000x2000+4993+1179 /tmp/tmp.tif\n",
      "Region 6: x=17011, y=13226, w=2000, h=2000\n",
      "convert /media/yuncong/BstemAtlasData/CSHL_data_processed/ChatCryoJane201710/ChatCryoJane201710_prep2_lossless_Ntb/ChatCryoJane201710_slide36-S1_prep2_lossless_Ntb.tif -crop 2000x2000+17011+13226 /tmp/tmp.tif\n",
      "convert /media/yuncong/BstemAtlasData/CSHL_data_processed/ChatCryoJane201710/ChatCryoJane201710_prep2_lossless_Ntb/ChatCryoJane201710_slide35-S2_prep2_lossless_Ntb.tif -crop 2000x2000+17011+13226 /tmp/tmp.tif\n",
      "Region 7: x=12245, y=7274, w=2000, h=2000\n",
      "convert /media/yuncong/BstemAtlasData/CSHL_data_processed/ChatCryoJane201710/ChatCryoJane201710_prep2_lossless_Ntb/ChatCryoJane201710_slide36-S1_prep2_lossless_Ntb.tif -crop 2000x2000+12245+7274 /tmp/tmp.tif\n",
      "convert /media/yuncong/BstemAtlasData/CSHL_data_processed/ChatCryoJane201710/ChatCryoJane201710_prep2_lossless_Ntb/ChatCryoJane201710_slide35-S2_prep2_lossless_Ntb.tif -crop 2000x2000+12245+7274 /tmp/tmp.tif\n",
      "Region 8: x=17290, y=14171, w=2000, h=2000\n",
      "convert /media/yuncong/BstemAtlasData/CSHL_data_processed/ChatCryoJane201710/ChatCryoJane201710_prep2_lossless_Ntb/ChatCryoJane201710_slide36-S1_prep2_lossless_Ntb.tif -crop 2000x2000+17290+14171 /tmp/tmp.tif\n",
      "convert /media/yuncong/BstemAtlasData/CSHL_data_processed/ChatCryoJane201710/ChatCryoJane201710_prep2_lossless_Ntb/ChatCryoJane201710_slide35-S2_prep2_lossless_Ntb.tif -crop 2000x2000+17290+14171 /tmp/tmp.tif\n",
      "Region 9: x=15424, y=10634, w=2000, h=2000\n",
      "convert /media/yuncong/BstemAtlasData/CSHL_data_processed/ChatCryoJane201710/ChatCryoJane201710_prep2_lossless_Ntb/ChatCryoJane201710_slide36-S1_prep2_lossless_Ntb.tif -crop 2000x2000+15424+10634 /tmp/tmp.tif\n",
      "convert /media/yuncong/BstemAtlasData/CSHL_data_processed/ChatCryoJane201710/ChatCryoJane201710_prep2_lossless_Ntb/ChatCryoJane201710_slide35-S2_prep2_lossless_Ntb.tif -crop 2000x2000+15424+10634 /tmp/tmp.tif\n",
      "aws s3 cp \"/media/yuncong/BstemAtlasData/CSHL_data_processed/ChatCryoJane201710/ChatCryoJane201710_intensity_mapping/ChatCryoJane201710_slide35-S2_to_ChatCryoJane201710_slide36-S1_intensity_mapping_all_regions.npy\" \"s3://mousebrainatlas-data/CSHL_data_processed/ChatCryoJane201710/ChatCryoJane201710_intensity_mapping/ChatCryoJane201710_slide35-S2_to_ChatCryoJane201710_slide36-S1_intensity_mapping_all_regions.npy\"\n",
      "aws s3 cp \"/media/yuncong/BstemAtlasData/CSHL_data_processed/ChatCryoJane201710/ChatCryoJane201710_intensity_mapping/ChatCryoJane201710_slide35-S2_to_ChatCryoJane201710_slide36-S1_region_bboxes.npy\" \"s3://mousebrainatlas-data/CSHL_data_processed/ChatCryoJane201710/ChatCryoJane201710_intensity_mapping/ChatCryoJane201710_slide35-S2_to_ChatCryoJane201710_slide36-S1_region_bboxes.npy\"\n"
     ]
    },
    {
     "name": "stderr",
     "output_type": "stream",
     "text": [
      "ntb 105, ntb 106\n",
      "Load NTB1: 0.00 seconds.\n",
      "Load NTB2: 0.00 seconds.\n"
     ]
    },
    {
     "name": "stdout",
     "output_type": "stream",
     "text": [
      "Region 0: x=11441, y=7107, w=2000, h=2000\n",
      "convert /media/yuncong/BstemAtlasData/CSHL_data_processed/ChatCryoJane201710/ChatCryoJane201710_prep2_lossless_Ntb/ChatCryoJane201710_slide35-S2_prep2_lossless_Ntb.tif -crop 2000x2000+11441+7107 /tmp/tmp.tif\n",
      "convert /media/yuncong/BstemAtlasData/CSHL_data_processed/ChatCryoJane201710/ChatCryoJane201710_prep2_lossless_Ntb/ChatCryoJane201710_slide36-S2_prep2_lossless_Ntb.tif -crop 2000x2000+11441+7107 /tmp/tmp.tif\n",
      "Region 1: x=20004, y=14578, w=2000, h=2000\n",
      "convert /media/yuncong/BstemAtlasData/CSHL_data_processed/ChatCryoJane201710/ChatCryoJane201710_prep2_lossless_Ntb/ChatCryoJane201710_slide35-S2_prep2_lossless_Ntb.tif -crop 2000x2000+20004+14578 /tmp/tmp.tif\n",
      "convert /media/yuncong/BstemAtlasData/CSHL_data_processed/ChatCryoJane201710/ChatCryoJane201710_prep2_lossless_Ntb/ChatCryoJane201710_slide36-S2_prep2_lossless_Ntb.tif -crop 2000x2000+20004+14578 /tmp/tmp.tif\n",
      "Region 2: x=7247, y=1746, w=2000, h=2000\n",
      "convert /media/yuncong/BstemAtlasData/CSHL_data_processed/ChatCryoJane201710/ChatCryoJane201710_prep2_lossless_Ntb/ChatCryoJane201710_slide35-S2_prep2_lossless_Ntb.tif -crop 2000x2000+7247+1746 /tmp/tmp.tif\n",
      "convert /media/yuncong/BstemAtlasData/CSHL_data_processed/ChatCryoJane201710/ChatCryoJane201710_prep2_lossless_Ntb/ChatCryoJane201710_slide36-S2_prep2_lossless_Ntb.tif -crop 2000x2000+7247+1746 /tmp/tmp.tif\n",
      "Region 3: x=12909, y=9193, w=2000, h=2000\n",
      "convert /media/yuncong/BstemAtlasData/CSHL_data_processed/ChatCryoJane201710/ChatCryoJane201710_prep2_lossless_Ntb/ChatCryoJane201710_slide35-S2_prep2_lossless_Ntb.tif -crop 2000x2000+12909+9193 /tmp/tmp.tif\n",
      "convert /media/yuncong/BstemAtlasData/CSHL_data_processed/ChatCryoJane201710/ChatCryoJane201710_prep2_lossless_Ntb/ChatCryoJane201710_slide36-S2_prep2_lossless_Ntb.tif -crop 2000x2000+12909+9193 /tmp/tmp.tif\n",
      "Region 4: x=11485, y=12652, w=2000, h=2000\n",
      "convert /media/yuncong/BstemAtlasData/CSHL_data_processed/ChatCryoJane201710/ChatCryoJane201710_prep2_lossless_Ntb/ChatCryoJane201710_slide35-S2_prep2_lossless_Ntb.tif -crop 2000x2000+11485+12652 /tmp/tmp.tif\n",
      "convert /media/yuncong/BstemAtlasData/CSHL_data_processed/ChatCryoJane201710/ChatCryoJane201710_prep2_lossless_Ntb/ChatCryoJane201710_slide36-S2_prep2_lossless_Ntb.tif -crop 2000x2000+11485+12652 /tmp/tmp.tif\n",
      "Region 5: x=19302, y=14968, w=2000, h=2000\n",
      "convert /media/yuncong/BstemAtlasData/CSHL_data_processed/ChatCryoJane201710/ChatCryoJane201710_prep2_lossless_Ntb/ChatCryoJane201710_slide35-S2_prep2_lossless_Ntb.tif -crop 2000x2000+19302+14968 /tmp/tmp.tif\n",
      "convert /media/yuncong/BstemAtlasData/CSHL_data_processed/ChatCryoJane201710/ChatCryoJane201710_prep2_lossless_Ntb/ChatCryoJane201710_slide36-S2_prep2_lossless_Ntb.tif -crop 2000x2000+19302+14968 /tmp/tmp.tif\n",
      "Region 6: x=4117, y=3817, w=2000, h=2000\n",
      "convert /media/yuncong/BstemAtlasData/CSHL_data_processed/ChatCryoJane201710/ChatCryoJane201710_prep2_lossless_Ntb/ChatCryoJane201710_slide35-S2_prep2_lossless_Ntb.tif -crop 2000x2000+4117+3817 /tmp/tmp.tif\n",
      "convert /media/yuncong/BstemAtlasData/CSHL_data_processed/ChatCryoJane201710/ChatCryoJane201710_prep2_lossless_Ntb/ChatCryoJane201710_slide36-S2_prep2_lossless_Ntb.tif -crop 2000x2000+4117+3817 /tmp/tmp.tif\n",
      "Region 7: x=16001, y=12327, w=2000, h=2000\n",
      "convert /media/yuncong/BstemAtlasData/CSHL_data_processed/ChatCryoJane201710/ChatCryoJane201710_prep2_lossless_Ntb/ChatCryoJane201710_slide35-S2_prep2_lossless_Ntb.tif -crop 2000x2000+16001+12327 /tmp/tmp.tif\n",
      "convert /media/yuncong/BstemAtlasData/CSHL_data_processed/ChatCryoJane201710/ChatCryoJane201710_prep2_lossless_Ntb/ChatCryoJane201710_slide36-S2_prep2_lossless_Ntb.tif -crop 2000x2000+16001+12327 /tmp/tmp.tif\n",
      "Region 8: x=10750, y=8720, w=2000, h=2000\n",
      "convert /media/yuncong/BstemAtlasData/CSHL_data_processed/ChatCryoJane201710/ChatCryoJane201710_prep2_lossless_Ntb/ChatCryoJane201710_slide35-S2_prep2_lossless_Ntb.tif -crop 2000x2000+10750+8720 /tmp/tmp.tif\n",
      "convert /media/yuncong/BstemAtlasData/CSHL_data_processed/ChatCryoJane201710/ChatCryoJane201710_prep2_lossless_Ntb/ChatCryoJane201710_slide36-S2_prep2_lossless_Ntb.tif -crop 2000x2000+10750+8720 /tmp/tmp.tif\n",
      "Region 9: x=1645, y=5947, w=2000, h=2000\n",
      "convert /media/yuncong/BstemAtlasData/CSHL_data_processed/ChatCryoJane201710/ChatCryoJane201710_prep2_lossless_Ntb/ChatCryoJane201710_slide35-S2_prep2_lossless_Ntb.tif -crop 2000x2000+1645+5947 /tmp/tmp.tif\n",
      "convert /media/yuncong/BstemAtlasData/CSHL_data_processed/ChatCryoJane201710/ChatCryoJane201710_prep2_lossless_Ntb/ChatCryoJane201710_slide36-S2_prep2_lossless_Ntb.tif -crop 2000x2000+1645+5947 /tmp/tmp.tif\n",
      "aws s3 cp \"/media/yuncong/BstemAtlasData/CSHL_data_processed/ChatCryoJane201710/ChatCryoJane201710_intensity_mapping/ChatCryoJane201710_slide36-S2_to_ChatCryoJane201710_slide35-S2_intensity_mapping_all_regions.npy\" \"s3://mousebrainatlas-data/CSHL_data_processed/ChatCryoJane201710/ChatCryoJane201710_intensity_mapping/ChatCryoJane201710_slide36-S2_to_ChatCryoJane201710_slide35-S2_intensity_mapping_all_regions.npy\"\n",
      "aws s3 cp \"/media/yuncong/BstemAtlasData/CSHL_data_processed/ChatCryoJane201710/ChatCryoJane201710_intensity_mapping/ChatCryoJane201710_slide36-S2_to_ChatCryoJane201710_slide35-S2_region_bboxes.npy\" \"s3://mousebrainatlas-data/CSHL_data_processed/ChatCryoJane201710/ChatCryoJane201710_intensity_mapping/ChatCryoJane201710_slide36-S2_to_ChatCryoJane201710_slide35-S2_region_bboxes.npy\"\n"
     ]
    },
    {
     "name": "stderr",
     "output_type": "stream",
     "text": [
      "ntb 106, ntb 107\n",
      "Load NTB1: 0.00 seconds.\n",
      "Load NTB2: 0.00 seconds.\n"
     ]
    },
    {
     "name": "stdout",
     "output_type": "stream",
     "text": [
      "Region 0: x=14732, y=10508, w=2000, h=2000\n",
      "convert /media/yuncong/BstemAtlasData/CSHL_data_processed/ChatCryoJane201710/ChatCryoJane201710_prep2_lossless_Ntb/ChatCryoJane201710_slide36-S2_prep2_lossless_Ntb.tif -crop 2000x2000+14732+10508 /tmp/tmp.tif\n",
      "convert /media/yuncong/BstemAtlasData/CSHL_data_processed/ChatCryoJane201710/ChatCryoJane201710_prep2_lossless_Ntb/ChatCryoJane201710_slide35-S3_prep2_lossless_Ntb.tif -crop 2000x2000+14732+10508 /tmp/tmp.tif\n",
      "Region 1: x=12791, y=3390, w=2000, h=2000\n",
      "convert /media/yuncong/BstemAtlasData/CSHL_data_processed/ChatCryoJane201710/ChatCryoJane201710_prep2_lossless_Ntb/ChatCryoJane201710_slide36-S2_prep2_lossless_Ntb.tif -crop 2000x2000+12791+3390 /tmp/tmp.tif\n",
      "convert /media/yuncong/BstemAtlasData/CSHL_data_processed/ChatCryoJane201710/ChatCryoJane201710_prep2_lossless_Ntb/ChatCryoJane201710_slide35-S3_prep2_lossless_Ntb.tif -crop 2000x2000+12791+3390 /tmp/tmp.tif\n",
      "Region 2: x=4827, y=9145, w=2000, h=2000\n",
      "convert /media/yuncong/BstemAtlasData/CSHL_data_processed/ChatCryoJane201710/ChatCryoJane201710_prep2_lossless_Ntb/ChatCryoJane201710_slide36-S2_prep2_lossless_Ntb.tif -crop 2000x2000+4827+9145 /tmp/tmp.tif\n",
      "convert /media/yuncong/BstemAtlasData/CSHL_data_processed/ChatCryoJane201710/ChatCryoJane201710_prep2_lossless_Ntb/ChatCryoJane201710_slide35-S3_prep2_lossless_Ntb.tif -crop 2000x2000+4827+9145 /tmp/tmp.tif\n",
      "Region 3: x=5352, y=9197, w=2000, h=2000\n",
      "convert /media/yuncong/BstemAtlasData/CSHL_data_processed/ChatCryoJane201710/ChatCryoJane201710_prep2_lossless_Ntb/ChatCryoJane201710_slide36-S2_prep2_lossless_Ntb.tif -crop 2000x2000+5352+9197 /tmp/tmp.tif\n",
      "convert /media/yuncong/BstemAtlasData/CSHL_data_processed/ChatCryoJane201710/ChatCryoJane201710_prep2_lossless_Ntb/ChatCryoJane201710_slide35-S3_prep2_lossless_Ntb.tif -crop 2000x2000+5352+9197 /tmp/tmp.tif\n",
      "Region 4: x=2549, y=8699, w=2000, h=2000\n",
      "convert /media/yuncong/BstemAtlasData/CSHL_data_processed/ChatCryoJane201710/ChatCryoJane201710_prep2_lossless_Ntb/ChatCryoJane201710_slide36-S2_prep2_lossless_Ntb.tif -crop 2000x2000+2549+8699 /tmp/tmp.tif\n",
      "convert /media/yuncong/BstemAtlasData/CSHL_data_processed/ChatCryoJane201710/ChatCryoJane201710_prep2_lossless_Ntb/ChatCryoJane201710_slide35-S3_prep2_lossless_Ntb.tif -crop 2000x2000+2549+8699 /tmp/tmp.tif\n",
      "Region 5: x=7845, y=11138, w=2000, h=2000\n",
      "convert /media/yuncong/BstemAtlasData/CSHL_data_processed/ChatCryoJane201710/ChatCryoJane201710_prep2_lossless_Ntb/ChatCryoJane201710_slide36-S2_prep2_lossless_Ntb.tif -crop 2000x2000+7845+11138 /tmp/tmp.tif\n",
      "convert /media/yuncong/BstemAtlasData/CSHL_data_processed/ChatCryoJane201710/ChatCryoJane201710_prep2_lossless_Ntb/ChatCryoJane201710_slide35-S3_prep2_lossless_Ntb.tif -crop 2000x2000+7845+11138 /tmp/tmp.tif\n",
      "Region 6: x=6417, y=12553, w=2000, h=2000\n",
      "convert /media/yuncong/BstemAtlasData/CSHL_data_processed/ChatCryoJane201710/ChatCryoJane201710_prep2_lossless_Ntb/ChatCryoJane201710_slide36-S2_prep2_lossless_Ntb.tif -crop 2000x2000+6417+12553 /tmp/tmp.tif\n",
      "convert /media/yuncong/BstemAtlasData/CSHL_data_processed/ChatCryoJane201710/ChatCryoJane201710_prep2_lossless_Ntb/ChatCryoJane201710_slide35-S3_prep2_lossless_Ntb.tif -crop 2000x2000+6417+12553 /tmp/tmp.tif\n",
      "Region 7: x=4779, y=9564, w=2000, h=2000\n",
      "convert /media/yuncong/BstemAtlasData/CSHL_data_processed/ChatCryoJane201710/ChatCryoJane201710_prep2_lossless_Ntb/ChatCryoJane201710_slide36-S2_prep2_lossless_Ntb.tif -crop 2000x2000+4779+9564 /tmp/tmp.tif\n",
      "convert /media/yuncong/BstemAtlasData/CSHL_data_processed/ChatCryoJane201710/ChatCryoJane201710_prep2_lossless_Ntb/ChatCryoJane201710_slide35-S3_prep2_lossless_Ntb.tif -crop 2000x2000+4779+9564 /tmp/tmp.tif\n",
      "Region 8: x=15455, y=10781, w=2000, h=2000\n",
      "convert /media/yuncong/BstemAtlasData/CSHL_data_processed/ChatCryoJane201710/ChatCryoJane201710_prep2_lossless_Ntb/ChatCryoJane201710_slide36-S2_prep2_lossless_Ntb.tif -crop 2000x2000+15455+10781 /tmp/tmp.tif\n",
      "convert /media/yuncong/BstemAtlasData/CSHL_data_processed/ChatCryoJane201710/ChatCryoJane201710_prep2_lossless_Ntb/ChatCryoJane201710_slide35-S3_prep2_lossless_Ntb.tif -crop 2000x2000+15455+10781 /tmp/tmp.tif\n",
      "Region 9: x=3218, y=2424, w=2000, h=2000\n",
      "convert /media/yuncong/BstemAtlasData/CSHL_data_processed/ChatCryoJane201710/ChatCryoJane201710_prep2_lossless_Ntb/ChatCryoJane201710_slide36-S2_prep2_lossless_Ntb.tif -crop 2000x2000+3218+2424 /tmp/tmp.tif\n",
      "convert /media/yuncong/BstemAtlasData/CSHL_data_processed/ChatCryoJane201710/ChatCryoJane201710_prep2_lossless_Ntb/ChatCryoJane201710_slide35-S3_prep2_lossless_Ntb.tif -crop 2000x2000+3218+2424 /tmp/tmp.tif\n",
      "aws s3 cp \"/media/yuncong/BstemAtlasData/CSHL_data_processed/ChatCryoJane201710/ChatCryoJane201710_intensity_mapping/ChatCryoJane201710_slide35-S3_to_ChatCryoJane201710_slide36-S2_intensity_mapping_all_regions.npy\" \"s3://mousebrainatlas-data/CSHL_data_processed/ChatCryoJane201710/ChatCryoJane201710_intensity_mapping/ChatCryoJane201710_slide35-S3_to_ChatCryoJane201710_slide36-S2_intensity_mapping_all_regions.npy\"\n",
      "aws s3 cp \"/media/yuncong/BstemAtlasData/CSHL_data_processed/ChatCryoJane201710/ChatCryoJane201710_intensity_mapping/ChatCryoJane201710_slide35-S3_to_ChatCryoJane201710_slide36-S2_region_bboxes.npy\" \"s3://mousebrainatlas-data/CSHL_data_processed/ChatCryoJane201710/ChatCryoJane201710_intensity_mapping/ChatCryoJane201710_slide35-S3_to_ChatCryoJane201710_slide36-S2_region_bboxes.npy\"\n"
     ]
    },
    {
     "name": "stderr",
     "output_type": "stream",
     "text": [
      "ntb 107, ntb 108\n",
      "Load NTB1: 0.00 seconds.\n",
      "Load NTB2: 0.00 seconds.\n"
     ]
    },
    {
     "name": "stdout",
     "output_type": "stream",
     "text": [
      "Region 0: x=17066, y=10193, w=2000, h=2000\n",
      "convert /media/yuncong/BstemAtlasData/CSHL_data_processed/ChatCryoJane201710/ChatCryoJane201710_prep2_lossless_Ntb/ChatCryoJane201710_slide35-S3_prep2_lossless_Ntb.tif -crop 2000x2000+17066+10193 /tmp/tmp.tif\n",
      "convert /media/yuncong/BstemAtlasData/CSHL_data_processed/ChatCryoJane201710/ChatCryoJane201710_prep2_lossless_Ntb/ChatCryoJane201710_slide36-S3_prep2_lossless_Ntb.tif -crop 2000x2000+17066+10193 /tmp/tmp.tif\n",
      "Region 1: x=17951, y=5984, w=2000, h=2000\n",
      "convert /media/yuncong/BstemAtlasData/CSHL_data_processed/ChatCryoJane201710/ChatCryoJane201710_prep2_lossless_Ntb/ChatCryoJane201710_slide35-S3_prep2_lossless_Ntb.tif -crop 2000x2000+17951+5984 /tmp/tmp.tif\n",
      "convert /media/yuncong/BstemAtlasData/CSHL_data_processed/ChatCryoJane201710/ChatCryoJane201710_prep2_lossless_Ntb/ChatCryoJane201710_slide36-S3_prep2_lossless_Ntb.tif -crop 2000x2000+17951+5984 /tmp/tmp.tif\n",
      "Region 2: x=15454, y=11070, w=2000, h=2000\n",
      "convert /media/yuncong/BstemAtlasData/CSHL_data_processed/ChatCryoJane201710/ChatCryoJane201710_prep2_lossless_Ntb/ChatCryoJane201710_slide35-S3_prep2_lossless_Ntb.tif -crop 2000x2000+15454+11070 /tmp/tmp.tif\n",
      "convert /media/yuncong/BstemAtlasData/CSHL_data_processed/ChatCryoJane201710/ChatCryoJane201710_prep2_lossless_Ntb/ChatCryoJane201710_slide36-S3_prep2_lossless_Ntb.tif -crop 2000x2000+15454+11070 /tmp/tmp.tif\n",
      "Region 3: x=5816, y=10881, w=2000, h=2000\n",
      "convert /media/yuncong/BstemAtlasData/CSHL_data_processed/ChatCryoJane201710/ChatCryoJane201710_prep2_lossless_Ntb/ChatCryoJane201710_slide35-S3_prep2_lossless_Ntb.tif -crop 2000x2000+5816+10881 /tmp/tmp.tif\n",
      "convert /media/yuncong/BstemAtlasData/CSHL_data_processed/ChatCryoJane201710/ChatCryoJane201710_prep2_lossless_Ntb/ChatCryoJane201710_slide36-S3_prep2_lossless_Ntb.tif -crop 2000x2000+5816+10881 /tmp/tmp.tif\n",
      "Region 4: x=4553, y=12910, w=2000, h=2000\n",
      "convert /media/yuncong/BstemAtlasData/CSHL_data_processed/ChatCryoJane201710/ChatCryoJane201710_prep2_lossless_Ntb/ChatCryoJane201710_slide35-S3_prep2_lossless_Ntb.tif -crop 2000x2000+4553+12910 /tmp/tmp.tif\n",
      "convert /media/yuncong/BstemAtlasData/CSHL_data_processed/ChatCryoJane201710/ChatCryoJane201710_prep2_lossless_Ntb/ChatCryoJane201710_slide36-S3_prep2_lossless_Ntb.tif -crop 2000x2000+4553+12910 /tmp/tmp.tif\n",
      "Region 5: x=1214, y=7344, w=2000, h=2000\n",
      "convert /media/yuncong/BstemAtlasData/CSHL_data_processed/ChatCryoJane201710/ChatCryoJane201710_prep2_lossless_Ntb/ChatCryoJane201710_slide35-S3_prep2_lossless_Ntb.tif -crop 2000x2000+1214+7344 /tmp/tmp.tif\n",
      "convert /media/yuncong/BstemAtlasData/CSHL_data_processed/ChatCryoJane201710/ChatCryoJane201710_prep2_lossless_Ntb/ChatCryoJane201710_slide36-S3_prep2_lossless_Ntb.tif -crop 2000x2000+1214+7344 /tmp/tmp.tif\n",
      "Region 6: x=10015, y=14796, w=2000, h=2000\n",
      "convert /media/yuncong/BstemAtlasData/CSHL_data_processed/ChatCryoJane201710/ChatCryoJane201710_prep2_lossless_Ntb/ChatCryoJane201710_slide35-S3_prep2_lossless_Ntb.tif -crop 2000x2000+10015+14796 /tmp/tmp.tif\n",
      "convert /media/yuncong/BstemAtlasData/CSHL_data_processed/ChatCryoJane201710/ChatCryoJane201710_prep2_lossless_Ntb/ChatCryoJane201710_slide36-S3_prep2_lossless_Ntb.tif -crop 2000x2000+10015+14796 /tmp/tmp.tif\n",
      "Region 7: x=1957, y=13258, w=2000, h=2000\n",
      "convert /media/yuncong/BstemAtlasData/CSHL_data_processed/ChatCryoJane201710/ChatCryoJane201710_prep2_lossless_Ntb/ChatCryoJane201710_slide35-S3_prep2_lossless_Ntb.tif -crop 2000x2000+1957+13258 /tmp/tmp.tif\n",
      "convert /media/yuncong/BstemAtlasData/CSHL_data_processed/ChatCryoJane201710/ChatCryoJane201710_prep2_lossless_Ntb/ChatCryoJane201710_slide36-S3_prep2_lossless_Ntb.tif -crop 2000x2000+1957+13258 /tmp/tmp.tif\n",
      "Region 8: x=12135, y=10335, w=2000, h=2000\n",
      "convert /media/yuncong/BstemAtlasData/CSHL_data_processed/ChatCryoJane201710/ChatCryoJane201710_prep2_lossless_Ntb/ChatCryoJane201710_slide35-S3_prep2_lossless_Ntb.tif -crop 2000x2000+12135+10335 /tmp/tmp.tif\n",
      "convert /media/yuncong/BstemAtlasData/CSHL_data_processed/ChatCryoJane201710/ChatCryoJane201710_prep2_lossless_Ntb/ChatCryoJane201710_slide36-S3_prep2_lossless_Ntb.tif -crop 2000x2000+12135+10335 /tmp/tmp.tif\n",
      "Region 9: x=21045, y=13816, w=2000, h=2000\n",
      "convert /media/yuncong/BstemAtlasData/CSHL_data_processed/ChatCryoJane201710/ChatCryoJane201710_prep2_lossless_Ntb/ChatCryoJane201710_slide35-S3_prep2_lossless_Ntb.tif -crop 2000x2000+21045+13816 /tmp/tmp.tif\n",
      "convert /media/yuncong/BstemAtlasData/CSHL_data_processed/ChatCryoJane201710/ChatCryoJane201710_prep2_lossless_Ntb/ChatCryoJane201710_slide36-S3_prep2_lossless_Ntb.tif -crop 2000x2000+21045+13816 /tmp/tmp.tif\n",
      "aws s3 cp \"/media/yuncong/BstemAtlasData/CSHL_data_processed/ChatCryoJane201710/ChatCryoJane201710_intensity_mapping/ChatCryoJane201710_slide36-S3_to_ChatCryoJane201710_slide35-S3_intensity_mapping_all_regions.npy\" \"s3://mousebrainatlas-data/CSHL_data_processed/ChatCryoJane201710/ChatCryoJane201710_intensity_mapping/ChatCryoJane201710_slide36-S3_to_ChatCryoJane201710_slide35-S3_intensity_mapping_all_regions.npy\"\n",
      "aws s3 cp \"/media/yuncong/BstemAtlasData/CSHL_data_processed/ChatCryoJane201710/ChatCryoJane201710_intensity_mapping/ChatCryoJane201710_slide36-S3_to_ChatCryoJane201710_slide35-S3_region_bboxes.npy\" \"s3://mousebrainatlas-data/CSHL_data_processed/ChatCryoJane201710/ChatCryoJane201710_intensity_mapping/ChatCryoJane201710_slide36-S3_to_ChatCryoJane201710_slide35-S3_region_bboxes.npy\"\n"
     ]
    },
    {
     "name": "stderr",
     "output_type": "stream",
     "text": [
      "ntb 108, ntb 109\n",
      "Load NTB1: 0.00 seconds.\n",
      "Load NTB2: 0.00 seconds.\n"
     ]
    },
    {
     "name": "stdout",
     "output_type": "stream",
     "text": [
      "Region 0: x=3402, y=5035, w=2000, h=2000\n",
      "convert /media/yuncong/BstemAtlasData/CSHL_data_processed/ChatCryoJane201710/ChatCryoJane201710_prep2_lossless_Ntb/ChatCryoJane201710_slide36-S3_prep2_lossless_Ntb.tif -crop 2000x2000+3402+5035 /tmp/tmp.tif\n",
      "convert /media/yuncong/BstemAtlasData/CSHL_data_processed/ChatCryoJane201710/ChatCryoJane201710_prep2_lossless_Ntb/ChatCryoJane201710_slide37-S1_prep2_lossless_Ntb.tif -crop 2000x2000+3402+5035 /tmp/tmp.tif\n",
      "Region 1: x=4182, y=275, w=2000, h=2000\n",
      "convert /media/yuncong/BstemAtlasData/CSHL_data_processed/ChatCryoJane201710/ChatCryoJane201710_prep2_lossless_Ntb/ChatCryoJane201710_slide36-S3_prep2_lossless_Ntb.tif -crop 2000x2000+4182+275 /tmp/tmp.tif\n",
      "convert /media/yuncong/BstemAtlasData/CSHL_data_processed/ChatCryoJane201710/ChatCryoJane201710_prep2_lossless_Ntb/ChatCryoJane201710_slide37-S1_prep2_lossless_Ntb.tif -crop 2000x2000+4182+275 /tmp/tmp.tif\n",
      "Region 2: x=8801, y=13848, w=2000, h=2000\n",
      "convert /media/yuncong/BstemAtlasData/CSHL_data_processed/ChatCryoJane201710/ChatCryoJane201710_prep2_lossless_Ntb/ChatCryoJane201710_slide36-S3_prep2_lossless_Ntb.tif -crop 2000x2000+8801+13848 /tmp/tmp.tif\n",
      "convert /media/yuncong/BstemAtlasData/CSHL_data_processed/ChatCryoJane201710/ChatCryoJane201710_prep2_lossless_Ntb/ChatCryoJane201710_slide37-S1_prep2_lossless_Ntb.tif -crop 2000x2000+8801+13848 /tmp/tmp.tif\n",
      "Region 3: x=3271, y=5998, w=2000, h=2000\n",
      "convert /media/yuncong/BstemAtlasData/CSHL_data_processed/ChatCryoJane201710/ChatCryoJane201710_prep2_lossless_Ntb/ChatCryoJane201710_slide36-S3_prep2_lossless_Ntb.tif -crop 2000x2000+3271+5998 /tmp/tmp.tif\n",
      "convert /media/yuncong/BstemAtlasData/CSHL_data_processed/ChatCryoJane201710/ChatCryoJane201710_prep2_lossless_Ntb/ChatCryoJane201710_slide37-S1_prep2_lossless_Ntb.tif -crop 2000x2000+3271+5998 /tmp/tmp.tif\n",
      "Region 4: x=10444, y=11939, w=2000, h=2000\n",
      "convert /media/yuncong/BstemAtlasData/CSHL_data_processed/ChatCryoJane201710/ChatCryoJane201710_prep2_lossless_Ntb/ChatCryoJane201710_slide36-S3_prep2_lossless_Ntb.tif -crop 2000x2000+10444+11939 /tmp/tmp.tif\n",
      "convert /media/yuncong/BstemAtlasData/CSHL_data_processed/ChatCryoJane201710/ChatCryoJane201710_prep2_lossless_Ntb/ChatCryoJane201710_slide37-S1_prep2_lossless_Ntb.tif -crop 2000x2000+10444+11939 /tmp/tmp.tif\n",
      "Region 5: x=7085, y=11811, w=2000, h=2000\n",
      "convert /media/yuncong/BstemAtlasData/CSHL_data_processed/ChatCryoJane201710/ChatCryoJane201710_prep2_lossless_Ntb/ChatCryoJane201710_slide36-S3_prep2_lossless_Ntb.tif -crop 2000x2000+7085+11811 /tmp/tmp.tif\n",
      "convert /media/yuncong/BstemAtlasData/CSHL_data_processed/ChatCryoJane201710/ChatCryoJane201710_prep2_lossless_Ntb/ChatCryoJane201710_slide37-S1_prep2_lossless_Ntb.tif -crop 2000x2000+7085+11811 /tmp/tmp.tif\n",
      "Region 6: x=12452, y=12623, w=2000, h=2000\n",
      "convert /media/yuncong/BstemAtlasData/CSHL_data_processed/ChatCryoJane201710/ChatCryoJane201710_prep2_lossless_Ntb/ChatCryoJane201710_slide36-S3_prep2_lossless_Ntb.tif -crop 2000x2000+12452+12623 /tmp/tmp.tif\n",
      "convert /media/yuncong/BstemAtlasData/CSHL_data_processed/ChatCryoJane201710/ChatCryoJane201710_prep2_lossless_Ntb/ChatCryoJane201710_slide37-S1_prep2_lossless_Ntb.tif -crop 2000x2000+12452+12623 /tmp/tmp.tif\n",
      "Region 7: x=11184, y=3795, w=2000, h=2000\n",
      "convert /media/yuncong/BstemAtlasData/CSHL_data_processed/ChatCryoJane201710/ChatCryoJane201710_prep2_lossless_Ntb/ChatCryoJane201710_slide36-S3_prep2_lossless_Ntb.tif -crop 2000x2000+11184+3795 /tmp/tmp.tif\n",
      "convert /media/yuncong/BstemAtlasData/CSHL_data_processed/ChatCryoJane201710/ChatCryoJane201710_prep2_lossless_Ntb/ChatCryoJane201710_slide37-S1_prep2_lossless_Ntb.tif -crop 2000x2000+11184+3795 /tmp/tmp.tif\n",
      "Region 8: x=13809, y=7780, w=2000, h=2000\n",
      "convert /media/yuncong/BstemAtlasData/CSHL_data_processed/ChatCryoJane201710/ChatCryoJane201710_prep2_lossless_Ntb/ChatCryoJane201710_slide36-S3_prep2_lossless_Ntb.tif -crop 2000x2000+13809+7780 /tmp/tmp.tif\n",
      "convert /media/yuncong/BstemAtlasData/CSHL_data_processed/ChatCryoJane201710/ChatCryoJane201710_prep2_lossless_Ntb/ChatCryoJane201710_slide37-S1_prep2_lossless_Ntb.tif -crop 2000x2000+13809+7780 /tmp/tmp.tif\n",
      "Region 9: x=7066, y=2630, w=2000, h=2000\n",
      "convert /media/yuncong/BstemAtlasData/CSHL_data_processed/ChatCryoJane201710/ChatCryoJane201710_prep2_lossless_Ntb/ChatCryoJane201710_slide36-S3_prep2_lossless_Ntb.tif -crop 2000x2000+7066+2630 /tmp/tmp.tif\n",
      "convert /media/yuncong/BstemAtlasData/CSHL_data_processed/ChatCryoJane201710/ChatCryoJane201710_prep2_lossless_Ntb/ChatCryoJane201710_slide37-S1_prep2_lossless_Ntb.tif -crop 2000x2000+7066+2630 /tmp/tmp.tif\n",
      "aws s3 cp \"/media/yuncong/BstemAtlasData/CSHL_data_processed/ChatCryoJane201710/ChatCryoJane201710_intensity_mapping/ChatCryoJane201710_slide37-S1_to_ChatCryoJane201710_slide36-S3_intensity_mapping_all_regions.npy\" \"s3://mousebrainatlas-data/CSHL_data_processed/ChatCryoJane201710/ChatCryoJane201710_intensity_mapping/ChatCryoJane201710_slide37-S1_to_ChatCryoJane201710_slide36-S3_intensity_mapping_all_regions.npy\"\n",
      "aws s3 cp \"/media/yuncong/BstemAtlasData/CSHL_data_processed/ChatCryoJane201710/ChatCryoJane201710_intensity_mapping/ChatCryoJane201710_slide37-S1_to_ChatCryoJane201710_slide36-S3_region_bboxes.npy\" \"s3://mousebrainatlas-data/CSHL_data_processed/ChatCryoJane201710/ChatCryoJane201710_intensity_mapping/ChatCryoJane201710_slide37-S1_to_ChatCryoJane201710_slide36-S3_region_bboxes.npy\"\n"
     ]
    },
    {
     "name": "stderr",
     "output_type": "stream",
     "text": [
      "ntb 109, ntb 110\n",
      "Load NTB1: 0.00 seconds.\n",
      "Load NTB2: 0.00 seconds.\n"
     ]
    },
    {
     "name": "stdout",
     "output_type": "stream",
     "text": [
      "Region 0: x=333, y=13222, w=2000, h=2000\n",
      "convert /media/yuncong/BstemAtlasData/CSHL_data_processed/ChatCryoJane201710/ChatCryoJane201710_prep2_lossless_Ntb/ChatCryoJane201710_slide37-S1_prep2_lossless_Ntb.tif -crop 2000x2000+333+13222 /tmp/tmp.tif\n",
      "convert /media/yuncong/BstemAtlasData/CSHL_data_processed/ChatCryoJane201710/ChatCryoJane201710_prep2_lossless_Ntb/ChatCryoJane201710_slide38-S1_prep2_lossless_Ntb.tif -crop 2000x2000+333+13222 /tmp/tmp.tif\n",
      "Region 1: x=12590, y=10064, w=2000, h=2000\n",
      "convert /media/yuncong/BstemAtlasData/CSHL_data_processed/ChatCryoJane201710/ChatCryoJane201710_prep2_lossless_Ntb/ChatCryoJane201710_slide37-S1_prep2_lossless_Ntb.tif -crop 2000x2000+12590+10064 /tmp/tmp.tif\n",
      "convert /media/yuncong/BstemAtlasData/CSHL_data_processed/ChatCryoJane201710/ChatCryoJane201710_prep2_lossless_Ntb/ChatCryoJane201710_slide38-S1_prep2_lossless_Ntb.tif -crop 2000x2000+12590+10064 /tmp/tmp.tif\n",
      "Region 2: x=8026, y=14232, w=2000, h=2000\n",
      "convert /media/yuncong/BstemAtlasData/CSHL_data_processed/ChatCryoJane201710/ChatCryoJane201710_prep2_lossless_Ntb/ChatCryoJane201710_slide37-S1_prep2_lossless_Ntb.tif -crop 2000x2000+8026+14232 /tmp/tmp.tif\n",
      "convert /media/yuncong/BstemAtlasData/CSHL_data_processed/ChatCryoJane201710/ChatCryoJane201710_prep2_lossless_Ntb/ChatCryoJane201710_slide38-S1_prep2_lossless_Ntb.tif -crop 2000x2000+8026+14232 /tmp/tmp.tif\n",
      "Region 3: x=5902, y=13443, w=2000, h=2000\n",
      "convert /media/yuncong/BstemAtlasData/CSHL_data_processed/ChatCryoJane201710/ChatCryoJane201710_prep2_lossless_Ntb/ChatCryoJane201710_slide37-S1_prep2_lossless_Ntb.tif -crop 2000x2000+5902+13443 /tmp/tmp.tif\n",
      "convert /media/yuncong/BstemAtlasData/CSHL_data_processed/ChatCryoJane201710/ChatCryoJane201710_prep2_lossless_Ntb/ChatCryoJane201710_slide38-S1_prep2_lossless_Ntb.tif -crop 2000x2000+5902+13443 /tmp/tmp.tif\n",
      "Region 4: x=11753, y=5473, w=2000, h=2000\n",
      "convert /media/yuncong/BstemAtlasData/CSHL_data_processed/ChatCryoJane201710/ChatCryoJane201710_prep2_lossless_Ntb/ChatCryoJane201710_slide37-S1_prep2_lossless_Ntb.tif -crop 2000x2000+11753+5473 /tmp/tmp.tif\n",
      "convert /media/yuncong/BstemAtlasData/CSHL_data_processed/ChatCryoJane201710/ChatCryoJane201710_prep2_lossless_Ntb/ChatCryoJane201710_slide38-S1_prep2_lossless_Ntb.tif -crop 2000x2000+11753+5473 /tmp/tmp.tif\n",
      "Region 5: x=6291, y=12881, w=2000, h=2000\n",
      "convert /media/yuncong/BstemAtlasData/CSHL_data_processed/ChatCryoJane201710/ChatCryoJane201710_prep2_lossless_Ntb/ChatCryoJane201710_slide37-S1_prep2_lossless_Ntb.tif -crop 2000x2000+6291+12881 /tmp/tmp.tif\n",
      "convert /media/yuncong/BstemAtlasData/CSHL_data_processed/ChatCryoJane201710/ChatCryoJane201710_prep2_lossless_Ntb/ChatCryoJane201710_slide38-S1_prep2_lossless_Ntb.tif -crop 2000x2000+6291+12881 /tmp/tmp.tif\n",
      "Region 6: x=2762, y=3077, w=2000, h=2000\n",
      "convert /media/yuncong/BstemAtlasData/CSHL_data_processed/ChatCryoJane201710/ChatCryoJane201710_prep2_lossless_Ntb/ChatCryoJane201710_slide37-S1_prep2_lossless_Ntb.tif -crop 2000x2000+2762+3077 /tmp/tmp.tif\n",
      "convert /media/yuncong/BstemAtlasData/CSHL_data_processed/ChatCryoJane201710/ChatCryoJane201710_prep2_lossless_Ntb/ChatCryoJane201710_slide38-S1_prep2_lossless_Ntb.tif -crop 2000x2000+2762+3077 /tmp/tmp.tif\n",
      "Region 7: x=10853, y=15336, w=2000, h=2000\n",
      "convert /media/yuncong/BstemAtlasData/CSHL_data_processed/ChatCryoJane201710/ChatCryoJane201710_prep2_lossless_Ntb/ChatCryoJane201710_slide37-S1_prep2_lossless_Ntb.tif -crop 2000x2000+10853+15336 /tmp/tmp.tif\n",
      "convert /media/yuncong/BstemAtlasData/CSHL_data_processed/ChatCryoJane201710/ChatCryoJane201710_prep2_lossless_Ntb/ChatCryoJane201710_slide38-S1_prep2_lossless_Ntb.tif -crop 2000x2000+10853+15336 /tmp/tmp.tif\n",
      "Region 8: x=1051, y=599, w=2000, h=2000\n",
      "convert /media/yuncong/BstemAtlasData/CSHL_data_processed/ChatCryoJane201710/ChatCryoJane201710_prep2_lossless_Ntb/ChatCryoJane201710_slide37-S1_prep2_lossless_Ntb.tif -crop 2000x2000+1051+599 /tmp/tmp.tif\n",
      "convert /media/yuncong/BstemAtlasData/CSHL_data_processed/ChatCryoJane201710/ChatCryoJane201710_prep2_lossless_Ntb/ChatCryoJane201710_slide38-S1_prep2_lossless_Ntb.tif -crop 2000x2000+1051+599 /tmp/tmp.tif\n",
      "Region 9: x=17814, y=10103, w=2000, h=2000\n",
      "convert /media/yuncong/BstemAtlasData/CSHL_data_processed/ChatCryoJane201710/ChatCryoJane201710_prep2_lossless_Ntb/ChatCryoJane201710_slide37-S1_prep2_lossless_Ntb.tif -crop 2000x2000+17814+10103 /tmp/tmp.tif\n",
      "convert /media/yuncong/BstemAtlasData/CSHL_data_processed/ChatCryoJane201710/ChatCryoJane201710_prep2_lossless_Ntb/ChatCryoJane201710_slide38-S1_prep2_lossless_Ntb.tif -crop 2000x2000+17814+10103 /tmp/tmp.tif\n",
      "aws s3 cp \"/media/yuncong/BstemAtlasData/CSHL_data_processed/ChatCryoJane201710/ChatCryoJane201710_intensity_mapping/ChatCryoJane201710_slide38-S1_to_ChatCryoJane201710_slide37-S1_intensity_mapping_all_regions.npy\" \"s3://mousebrainatlas-data/CSHL_data_processed/ChatCryoJane201710/ChatCryoJane201710_intensity_mapping/ChatCryoJane201710_slide38-S1_to_ChatCryoJane201710_slide37-S1_intensity_mapping_all_regions.npy\"\n",
      "aws s3 cp \"/media/yuncong/BstemAtlasData/CSHL_data_processed/ChatCryoJane201710/ChatCryoJane201710_intensity_mapping/ChatCryoJane201710_slide38-S1_to_ChatCryoJane201710_slide37-S1_region_bboxes.npy\" \"s3://mousebrainatlas-data/CSHL_data_processed/ChatCryoJane201710/ChatCryoJane201710_intensity_mapping/ChatCryoJane201710_slide38-S1_to_ChatCryoJane201710_slide37-S1_region_bboxes.npy\"\n"
     ]
    },
    {
     "name": "stderr",
     "output_type": "stream",
     "text": [
      "ntb 110, ntb 111\n",
      "Load NTB1: 0.00 seconds.\n",
      "Load NTB2: 0.00 seconds.\n"
     ]
    },
    {
     "name": "stdout",
     "output_type": "stream",
     "text": [
      "Region 0: x=10884, y=8819, w=2000, h=2000\n",
      "convert /media/yuncong/BstemAtlasData/CSHL_data_processed/ChatCryoJane201710/ChatCryoJane201710_prep2_lossless_Ntb/ChatCryoJane201710_slide38-S1_prep2_lossless_Ntb.tif -crop 2000x2000+10884+8819 /tmp/tmp.tif\n",
      "convert /media/yuncong/BstemAtlasData/CSHL_data_processed/ChatCryoJane201710/ChatCryoJane201710_prep2_lossless_Ntb/ChatCryoJane201710_slide37-S2_prep2_lossless_Ntb.tif -crop 2000x2000+10884+8819 /tmp/tmp.tif\n",
      "Region 1: x=12099, y=15364, w=2000, h=2000\n",
      "convert /media/yuncong/BstemAtlasData/CSHL_data_processed/ChatCryoJane201710/ChatCryoJane201710_prep2_lossless_Ntb/ChatCryoJane201710_slide38-S1_prep2_lossless_Ntb.tif -crop 2000x2000+12099+15364 /tmp/tmp.tif\n",
      "convert /media/yuncong/BstemAtlasData/CSHL_data_processed/ChatCryoJane201710/ChatCryoJane201710_prep2_lossless_Ntb/ChatCryoJane201710_slide37-S2_prep2_lossless_Ntb.tif -crop 2000x2000+12099+15364 /tmp/tmp.tif\n",
      "Region 2: x=8168, y=12945, w=2000, h=2000\n",
      "convert /media/yuncong/BstemAtlasData/CSHL_data_processed/ChatCryoJane201710/ChatCryoJane201710_prep2_lossless_Ntb/ChatCryoJane201710_slide38-S1_prep2_lossless_Ntb.tif -crop 2000x2000+8168+12945 /tmp/tmp.tif\n",
      "convert /media/yuncong/BstemAtlasData/CSHL_data_processed/ChatCryoJane201710/ChatCryoJane201710_prep2_lossless_Ntb/ChatCryoJane201710_slide37-S2_prep2_lossless_Ntb.tif -crop 2000x2000+8168+12945 /tmp/tmp.tif\n",
      "Region 3: x=724, y=11574, w=2000, h=2000\n",
      "convert /media/yuncong/BstemAtlasData/CSHL_data_processed/ChatCryoJane201710/ChatCryoJane201710_prep2_lossless_Ntb/ChatCryoJane201710_slide38-S1_prep2_lossless_Ntb.tif -crop 2000x2000+724+11574 /tmp/tmp.tif\n",
      "convert /media/yuncong/BstemAtlasData/CSHL_data_processed/ChatCryoJane201710/ChatCryoJane201710_prep2_lossless_Ntb/ChatCryoJane201710_slide37-S2_prep2_lossless_Ntb.tif -crop 2000x2000+724+11574 /tmp/tmp.tif\n",
      "Region 4: x=16021, y=11214, w=2000, h=2000\n",
      "convert /media/yuncong/BstemAtlasData/CSHL_data_processed/ChatCryoJane201710/ChatCryoJane201710_prep2_lossless_Ntb/ChatCryoJane201710_slide38-S1_prep2_lossless_Ntb.tif -crop 2000x2000+16021+11214 /tmp/tmp.tif\n",
      "convert /media/yuncong/BstemAtlasData/CSHL_data_processed/ChatCryoJane201710/ChatCryoJane201710_prep2_lossless_Ntb/ChatCryoJane201710_slide37-S2_prep2_lossless_Ntb.tif -crop 2000x2000+16021+11214 /tmp/tmp.tif\n",
      "Region 5: x=472, y=6935, w=2000, h=2000\n",
      "convert /media/yuncong/BstemAtlasData/CSHL_data_processed/ChatCryoJane201710/ChatCryoJane201710_prep2_lossless_Ntb/ChatCryoJane201710_slide38-S1_prep2_lossless_Ntb.tif -crop 2000x2000+472+6935 /tmp/tmp.tif\n",
      "convert /media/yuncong/BstemAtlasData/CSHL_data_processed/ChatCryoJane201710/ChatCryoJane201710_prep2_lossless_Ntb/ChatCryoJane201710_slide37-S2_prep2_lossless_Ntb.tif -crop 2000x2000+472+6935 /tmp/tmp.tif\n",
      "Region 6: x=10325, y=8224, w=2000, h=2000\n",
      "convert /media/yuncong/BstemAtlasData/CSHL_data_processed/ChatCryoJane201710/ChatCryoJane201710_prep2_lossless_Ntb/ChatCryoJane201710_slide38-S1_prep2_lossless_Ntb.tif -crop 2000x2000+10325+8224 /tmp/tmp.tif\n",
      "convert /media/yuncong/BstemAtlasData/CSHL_data_processed/ChatCryoJane201710/ChatCryoJane201710_prep2_lossless_Ntb/ChatCryoJane201710_slide37-S2_prep2_lossless_Ntb.tif -crop 2000x2000+10325+8224 /tmp/tmp.tif\n",
      "Region 7: x=18591, y=9289, w=2000, h=2000\n",
      "convert /media/yuncong/BstemAtlasData/CSHL_data_processed/ChatCryoJane201710/ChatCryoJane201710_prep2_lossless_Ntb/ChatCryoJane201710_slide38-S1_prep2_lossless_Ntb.tif -crop 2000x2000+18591+9289 /tmp/tmp.tif\n",
      "convert /media/yuncong/BstemAtlasData/CSHL_data_processed/ChatCryoJane201710/ChatCryoJane201710_prep2_lossless_Ntb/ChatCryoJane201710_slide37-S2_prep2_lossless_Ntb.tif -crop 2000x2000+18591+9289 /tmp/tmp.tif\n",
      "Region 8: x=628, y=12877, w=2000, h=2000\n",
      "convert /media/yuncong/BstemAtlasData/CSHL_data_processed/ChatCryoJane201710/ChatCryoJane201710_prep2_lossless_Ntb/ChatCryoJane201710_slide38-S1_prep2_lossless_Ntb.tif -crop 2000x2000+628+12877 /tmp/tmp.tif\n",
      "convert /media/yuncong/BstemAtlasData/CSHL_data_processed/ChatCryoJane201710/ChatCryoJane201710_prep2_lossless_Ntb/ChatCryoJane201710_slide37-S2_prep2_lossless_Ntb.tif -crop 2000x2000+628+12877 /tmp/tmp.tif\n",
      "Region 9: x=3649, y=4584, w=2000, h=2000\n",
      "convert /media/yuncong/BstemAtlasData/CSHL_data_processed/ChatCryoJane201710/ChatCryoJane201710_prep2_lossless_Ntb/ChatCryoJane201710_slide38-S1_prep2_lossless_Ntb.tif -crop 2000x2000+3649+4584 /tmp/tmp.tif\n",
      "convert /media/yuncong/BstemAtlasData/CSHL_data_processed/ChatCryoJane201710/ChatCryoJane201710_prep2_lossless_Ntb/ChatCryoJane201710_slide37-S2_prep2_lossless_Ntb.tif -crop 2000x2000+3649+4584 /tmp/tmp.tif\n",
      "aws s3 cp \"/media/yuncong/BstemAtlasData/CSHL_data_processed/ChatCryoJane201710/ChatCryoJane201710_intensity_mapping/ChatCryoJane201710_slide37-S2_to_ChatCryoJane201710_slide38-S1_intensity_mapping_all_regions.npy\" \"s3://mousebrainatlas-data/CSHL_data_processed/ChatCryoJane201710/ChatCryoJane201710_intensity_mapping/ChatCryoJane201710_slide37-S2_to_ChatCryoJane201710_slide38-S1_intensity_mapping_all_regions.npy\"\n",
      "aws s3 cp \"/media/yuncong/BstemAtlasData/CSHL_data_processed/ChatCryoJane201710/ChatCryoJane201710_intensity_mapping/ChatCryoJane201710_slide37-S2_to_ChatCryoJane201710_slide38-S1_region_bboxes.npy\" \"s3://mousebrainatlas-data/CSHL_data_processed/ChatCryoJane201710/ChatCryoJane201710_intensity_mapping/ChatCryoJane201710_slide37-S2_to_ChatCryoJane201710_slide38-S1_region_bboxes.npy\"\n"
     ]
    },
    {
     "name": "stderr",
     "output_type": "stream",
     "text": [
      "ntb 111, ntb 112\n",
      "Load NTB1: 0.00 seconds.\n",
      "Load NTB2: 0.00 seconds.\n"
     ]
    },
    {
     "name": "stdout",
     "output_type": "stream",
     "text": [
      "Region 0: x=18257, y=12354, w=2000, h=2000\n",
      "convert /media/yuncong/BstemAtlasData/CSHL_data_processed/ChatCryoJane201710/ChatCryoJane201710_prep2_lossless_Ntb/ChatCryoJane201710_slide37-S2_prep2_lossless_Ntb.tif -crop 2000x2000+18257+12354 /tmp/tmp.tif\n",
      "convert /media/yuncong/BstemAtlasData/CSHL_data_processed/ChatCryoJane201710/ChatCryoJane201710_prep2_lossless_Ntb/ChatCryoJane201710_slide38-S2_prep2_lossless_Ntb.tif -crop 2000x2000+18257+12354 /tmp/tmp.tif\n",
      "Region 1: x=6696, y=4275, w=2000, h=2000\n",
      "convert /media/yuncong/BstemAtlasData/CSHL_data_processed/ChatCryoJane201710/ChatCryoJane201710_prep2_lossless_Ntb/ChatCryoJane201710_slide37-S2_prep2_lossless_Ntb.tif -crop 2000x2000+6696+4275 /tmp/tmp.tif\n",
      "convert /media/yuncong/BstemAtlasData/CSHL_data_processed/ChatCryoJane201710/ChatCryoJane201710_prep2_lossless_Ntb/ChatCryoJane201710_slide38-S2_prep2_lossless_Ntb.tif -crop 2000x2000+6696+4275 /tmp/tmp.tif\n",
      "Region 2: x=11108, y=14605, w=2000, h=2000\n",
      "convert /media/yuncong/BstemAtlasData/CSHL_data_processed/ChatCryoJane201710/ChatCryoJane201710_prep2_lossless_Ntb/ChatCryoJane201710_slide37-S2_prep2_lossless_Ntb.tif -crop 2000x2000+11108+14605 /tmp/tmp.tif\n",
      "convert /media/yuncong/BstemAtlasData/CSHL_data_processed/ChatCryoJane201710/ChatCryoJane201710_prep2_lossless_Ntb/ChatCryoJane201710_slide38-S2_prep2_lossless_Ntb.tif -crop 2000x2000+11108+14605 /tmp/tmp.tif\n",
      "Region 3: x=13980, y=2473, w=2000, h=2000\n",
      "convert /media/yuncong/BstemAtlasData/CSHL_data_processed/ChatCryoJane201710/ChatCryoJane201710_prep2_lossless_Ntb/ChatCryoJane201710_slide37-S2_prep2_lossless_Ntb.tif -crop 2000x2000+13980+2473 /tmp/tmp.tif\n",
      "convert /media/yuncong/BstemAtlasData/CSHL_data_processed/ChatCryoJane201710/ChatCryoJane201710_prep2_lossless_Ntb/ChatCryoJane201710_slide38-S2_prep2_lossless_Ntb.tif -crop 2000x2000+13980+2473 /tmp/tmp.tif\n",
      "Region 4: x=7762, y=12302, w=2000, h=2000\n",
      "convert /media/yuncong/BstemAtlasData/CSHL_data_processed/ChatCryoJane201710/ChatCryoJane201710_prep2_lossless_Ntb/ChatCryoJane201710_slide37-S2_prep2_lossless_Ntb.tif -crop 2000x2000+7762+12302 /tmp/tmp.tif\n",
      "convert /media/yuncong/BstemAtlasData/CSHL_data_processed/ChatCryoJane201710/ChatCryoJane201710_prep2_lossless_Ntb/ChatCryoJane201710_slide38-S2_prep2_lossless_Ntb.tif -crop 2000x2000+7762+12302 /tmp/tmp.tif\n",
      "Region 5: x=15896, y=14958, w=2000, h=2000\n",
      "convert /media/yuncong/BstemAtlasData/CSHL_data_processed/ChatCryoJane201710/ChatCryoJane201710_prep2_lossless_Ntb/ChatCryoJane201710_slide37-S2_prep2_lossless_Ntb.tif -crop 2000x2000+15896+14958 /tmp/tmp.tif\n",
      "convert /media/yuncong/BstemAtlasData/CSHL_data_processed/ChatCryoJane201710/ChatCryoJane201710_prep2_lossless_Ntb/ChatCryoJane201710_slide38-S2_prep2_lossless_Ntb.tif -crop 2000x2000+15896+14958 /tmp/tmp.tif\n",
      "Region 6: x=18977, y=13219, w=2000, h=2000\n",
      "convert /media/yuncong/BstemAtlasData/CSHL_data_processed/ChatCryoJane201710/ChatCryoJane201710_prep2_lossless_Ntb/ChatCryoJane201710_slide37-S2_prep2_lossless_Ntb.tif -crop 2000x2000+18977+13219 /tmp/tmp.tif\n",
      "convert /media/yuncong/BstemAtlasData/CSHL_data_processed/ChatCryoJane201710/ChatCryoJane201710_prep2_lossless_Ntb/ChatCryoJane201710_slide38-S2_prep2_lossless_Ntb.tif -crop 2000x2000+18977+13219 /tmp/tmp.tif\n",
      "Region 7: x=3488, y=1316, w=2000, h=2000\n",
      "convert /media/yuncong/BstemAtlasData/CSHL_data_processed/ChatCryoJane201710/ChatCryoJane201710_prep2_lossless_Ntb/ChatCryoJane201710_slide37-S2_prep2_lossless_Ntb.tif -crop 2000x2000+3488+1316 /tmp/tmp.tif\n",
      "convert /media/yuncong/BstemAtlasData/CSHL_data_processed/ChatCryoJane201710/ChatCryoJane201710_prep2_lossless_Ntb/ChatCryoJane201710_slide38-S2_prep2_lossless_Ntb.tif -crop 2000x2000+3488+1316 /tmp/tmp.tif\n",
      "Region 8: x=11920, y=7609, w=2000, h=2000\n",
      "convert /media/yuncong/BstemAtlasData/CSHL_data_processed/ChatCryoJane201710/ChatCryoJane201710_prep2_lossless_Ntb/ChatCryoJane201710_slide37-S2_prep2_lossless_Ntb.tif -crop 2000x2000+11920+7609 /tmp/tmp.tif\n",
      "convert /media/yuncong/BstemAtlasData/CSHL_data_processed/ChatCryoJane201710/ChatCryoJane201710_prep2_lossless_Ntb/ChatCryoJane201710_slide38-S2_prep2_lossless_Ntb.tif -crop 2000x2000+11920+7609 /tmp/tmp.tif\n",
      "Region 9: x=9407, y=8023, w=2000, h=2000\n",
      "convert /media/yuncong/BstemAtlasData/CSHL_data_processed/ChatCryoJane201710/ChatCryoJane201710_prep2_lossless_Ntb/ChatCryoJane201710_slide37-S2_prep2_lossless_Ntb.tif -crop 2000x2000+9407+8023 /tmp/tmp.tif\n",
      "convert /media/yuncong/BstemAtlasData/CSHL_data_processed/ChatCryoJane201710/ChatCryoJane201710_prep2_lossless_Ntb/ChatCryoJane201710_slide38-S2_prep2_lossless_Ntb.tif -crop 2000x2000+9407+8023 /tmp/tmp.tif\n",
      "aws s3 cp \"/media/yuncong/BstemAtlasData/CSHL_data_processed/ChatCryoJane201710/ChatCryoJane201710_intensity_mapping/ChatCryoJane201710_slide38-S2_to_ChatCryoJane201710_slide37-S2_intensity_mapping_all_regions.npy\" \"s3://mousebrainatlas-data/CSHL_data_processed/ChatCryoJane201710/ChatCryoJane201710_intensity_mapping/ChatCryoJane201710_slide38-S2_to_ChatCryoJane201710_slide37-S2_intensity_mapping_all_regions.npy\"\n",
      "aws s3 cp \"/media/yuncong/BstemAtlasData/CSHL_data_processed/ChatCryoJane201710/ChatCryoJane201710_intensity_mapping/ChatCryoJane201710_slide38-S2_to_ChatCryoJane201710_slide37-S2_region_bboxes.npy\" \"s3://mousebrainatlas-data/CSHL_data_processed/ChatCryoJane201710/ChatCryoJane201710_intensity_mapping/ChatCryoJane201710_slide38-S2_to_ChatCryoJane201710_slide37-S2_region_bboxes.npy\"\n"
     ]
    },
    {
     "name": "stderr",
     "output_type": "stream",
     "text": [
      "ntb 112, ntb 113\n",
      "Load NTB1: 0.00 seconds.\n",
      "Load NTB2: 0.00 seconds.\n"
     ]
    },
    {
     "name": "stdout",
     "output_type": "stream",
     "text": [
      "Region 0: x=9128, y=11214, w=2000, h=2000\n",
      "convert /media/yuncong/BstemAtlasData/CSHL_data_processed/ChatCryoJane201710/ChatCryoJane201710_prep2_lossless_Ntb/ChatCryoJane201710_slide38-S2_prep2_lossless_Ntb.tif -crop 2000x2000+9128+11214 /tmp/tmp.tif\n",
      "convert /media/yuncong/BstemAtlasData/CSHL_data_processed/ChatCryoJane201710/ChatCryoJane201710_prep2_lossless_Ntb/ChatCryoJane201710_slide37-S3_prep2_lossless_Ntb.tif -crop 2000x2000+9128+11214 /tmp/tmp.tif\n",
      "Region 1: x=10993, y=14222, w=2000, h=2000\n",
      "convert /media/yuncong/BstemAtlasData/CSHL_data_processed/ChatCryoJane201710/ChatCryoJane201710_prep2_lossless_Ntb/ChatCryoJane201710_slide38-S2_prep2_lossless_Ntb.tif -crop 2000x2000+10993+14222 /tmp/tmp.tif\n",
      "convert /media/yuncong/BstemAtlasData/CSHL_data_processed/ChatCryoJane201710/ChatCryoJane201710_prep2_lossless_Ntb/ChatCryoJane201710_slide37-S3_prep2_lossless_Ntb.tif -crop 2000x2000+10993+14222 /tmp/tmp.tif\n",
      "Region 2: x=11277, y=11349, w=2000, h=2000\n",
      "convert /media/yuncong/BstemAtlasData/CSHL_data_processed/ChatCryoJane201710/ChatCryoJane201710_prep2_lossless_Ntb/ChatCryoJane201710_slide38-S2_prep2_lossless_Ntb.tif -crop 2000x2000+11277+11349 /tmp/tmp.tif\n",
      "convert /media/yuncong/BstemAtlasData/CSHL_data_processed/ChatCryoJane201710/ChatCryoJane201710_prep2_lossless_Ntb/ChatCryoJane201710_slide37-S3_prep2_lossless_Ntb.tif -crop 2000x2000+11277+11349 /tmp/tmp.tif\n",
      "Region 3: x=5782, y=5403, w=2000, h=2000\n",
      "convert /media/yuncong/BstemAtlasData/CSHL_data_processed/ChatCryoJane201710/ChatCryoJane201710_prep2_lossless_Ntb/ChatCryoJane201710_slide38-S2_prep2_lossless_Ntb.tif -crop 2000x2000+5782+5403 /tmp/tmp.tif\n",
      "convert /media/yuncong/BstemAtlasData/CSHL_data_processed/ChatCryoJane201710/ChatCryoJane201710_prep2_lossless_Ntb/ChatCryoJane201710_slide37-S3_prep2_lossless_Ntb.tif -crop 2000x2000+5782+5403 /tmp/tmp.tif\n",
      "Region 4: x=17502, y=7257, w=2000, h=2000\n",
      "convert /media/yuncong/BstemAtlasData/CSHL_data_processed/ChatCryoJane201710/ChatCryoJane201710_prep2_lossless_Ntb/ChatCryoJane201710_slide38-S2_prep2_lossless_Ntb.tif -crop 2000x2000+17502+7257 /tmp/tmp.tif\n",
      "convert /media/yuncong/BstemAtlasData/CSHL_data_processed/ChatCryoJane201710/ChatCryoJane201710_prep2_lossless_Ntb/ChatCryoJane201710_slide37-S3_prep2_lossless_Ntb.tif -crop 2000x2000+17502+7257 /tmp/tmp.tif\n",
      "Region 5: x=1580, y=12117, w=2000, h=2000\n",
      "convert /media/yuncong/BstemAtlasData/CSHL_data_processed/ChatCryoJane201710/ChatCryoJane201710_prep2_lossless_Ntb/ChatCryoJane201710_slide38-S2_prep2_lossless_Ntb.tif -crop 2000x2000+1580+12117 /tmp/tmp.tif\n",
      "convert /media/yuncong/BstemAtlasData/CSHL_data_processed/ChatCryoJane201710/ChatCryoJane201710_prep2_lossless_Ntb/ChatCryoJane201710_slide37-S3_prep2_lossless_Ntb.tif -crop 2000x2000+1580+12117 /tmp/tmp.tif\n",
      "Region 6: x=10857, y=9566, w=2000, h=2000\n",
      "convert /media/yuncong/BstemAtlasData/CSHL_data_processed/ChatCryoJane201710/ChatCryoJane201710_prep2_lossless_Ntb/ChatCryoJane201710_slide38-S2_prep2_lossless_Ntb.tif -crop 2000x2000+10857+9566 /tmp/tmp.tif\n",
      "convert /media/yuncong/BstemAtlasData/CSHL_data_processed/ChatCryoJane201710/ChatCryoJane201710_prep2_lossless_Ntb/ChatCryoJane201710_slide37-S3_prep2_lossless_Ntb.tif -crop 2000x2000+10857+9566 /tmp/tmp.tif\n",
      "Region 7: x=16388, y=15477, w=2000, h=2000\n",
      "convert /media/yuncong/BstemAtlasData/CSHL_data_processed/ChatCryoJane201710/ChatCryoJane201710_prep2_lossless_Ntb/ChatCryoJane201710_slide38-S2_prep2_lossless_Ntb.tif -crop 2000x2000+16388+15477 /tmp/tmp.tif\n",
      "convert /media/yuncong/BstemAtlasData/CSHL_data_processed/ChatCryoJane201710/ChatCryoJane201710_prep2_lossless_Ntb/ChatCryoJane201710_slide37-S3_prep2_lossless_Ntb.tif -crop 2000x2000+16388+15477 /tmp/tmp.tif\n",
      "Region 8: x=16057, y=13147, w=2000, h=2000\n",
      "convert /media/yuncong/BstemAtlasData/CSHL_data_processed/ChatCryoJane201710/ChatCryoJane201710_prep2_lossless_Ntb/ChatCryoJane201710_slide38-S2_prep2_lossless_Ntb.tif -crop 2000x2000+16057+13147 /tmp/tmp.tif\n",
      "convert /media/yuncong/BstemAtlasData/CSHL_data_processed/ChatCryoJane201710/ChatCryoJane201710_prep2_lossless_Ntb/ChatCryoJane201710_slide37-S3_prep2_lossless_Ntb.tif -crop 2000x2000+16057+13147 /tmp/tmp.tif\n",
      "Region 9: x=9368, y=13858, w=2000, h=2000\n",
      "convert /media/yuncong/BstemAtlasData/CSHL_data_processed/ChatCryoJane201710/ChatCryoJane201710_prep2_lossless_Ntb/ChatCryoJane201710_slide38-S2_prep2_lossless_Ntb.tif -crop 2000x2000+9368+13858 /tmp/tmp.tif\n",
      "convert /media/yuncong/BstemAtlasData/CSHL_data_processed/ChatCryoJane201710/ChatCryoJane201710_prep2_lossless_Ntb/ChatCryoJane201710_slide37-S3_prep2_lossless_Ntb.tif -crop 2000x2000+9368+13858 /tmp/tmp.tif\n",
      "aws s3 cp \"/media/yuncong/BstemAtlasData/CSHL_data_processed/ChatCryoJane201710/ChatCryoJane201710_intensity_mapping/ChatCryoJane201710_slide37-S3_to_ChatCryoJane201710_slide38-S2_intensity_mapping_all_regions.npy\" \"s3://mousebrainatlas-data/CSHL_data_processed/ChatCryoJane201710/ChatCryoJane201710_intensity_mapping/ChatCryoJane201710_slide37-S3_to_ChatCryoJane201710_slide38-S2_intensity_mapping_all_regions.npy\"\n",
      "aws s3 cp \"/media/yuncong/BstemAtlasData/CSHL_data_processed/ChatCryoJane201710/ChatCryoJane201710_intensity_mapping/ChatCryoJane201710_slide37-S3_to_ChatCryoJane201710_slide38-S2_region_bboxes.npy\" \"s3://mousebrainatlas-data/CSHL_data_processed/ChatCryoJane201710/ChatCryoJane201710_intensity_mapping/ChatCryoJane201710_slide37-S3_to_ChatCryoJane201710_slide38-S2_region_bboxes.npy\"\n"
     ]
    },
    {
     "name": "stderr",
     "output_type": "stream",
     "text": [
      "ntb 113, ntb 114\n",
      "Load NTB1: 0.00 seconds.\n",
      "Load NTB2: 0.00 seconds.\n"
     ]
    },
    {
     "name": "stdout",
     "output_type": "stream",
     "text": [
      "Region 0: x=6991, y=10860, w=2000, h=2000\n",
      "convert /media/yuncong/BstemAtlasData/CSHL_data_processed/ChatCryoJane201710/ChatCryoJane201710_prep2_lossless_Ntb/ChatCryoJane201710_slide37-S3_prep2_lossless_Ntb.tif -crop 2000x2000+6991+10860 /tmp/tmp.tif\n",
      "convert /media/yuncong/BstemAtlasData/CSHL_data_processed/ChatCryoJane201710/ChatCryoJane201710_prep2_lossless_Ntb/ChatCryoJane201710_slide38-S3_prep2_lossless_Ntb.tif -crop 2000x2000+6991+10860 /tmp/tmp.tif\n",
      "Region 1: x=18623, y=8960, w=2000, h=2000\n",
      "convert /media/yuncong/BstemAtlasData/CSHL_data_processed/ChatCryoJane201710/ChatCryoJane201710_prep2_lossless_Ntb/ChatCryoJane201710_slide37-S3_prep2_lossless_Ntb.tif -crop 2000x2000+18623+8960 /tmp/tmp.tif\n",
      "convert /media/yuncong/BstemAtlasData/CSHL_data_processed/ChatCryoJane201710/ChatCryoJane201710_prep2_lossless_Ntb/ChatCryoJane201710_slide38-S3_prep2_lossless_Ntb.tif -crop 2000x2000+18623+8960 /tmp/tmp.tif\n",
      "Region 2: x=17999, y=10862, w=2000, h=2000\n",
      "convert /media/yuncong/BstemAtlasData/CSHL_data_processed/ChatCryoJane201710/ChatCryoJane201710_prep2_lossless_Ntb/ChatCryoJane201710_slide37-S3_prep2_lossless_Ntb.tif -crop 2000x2000+17999+10862 /tmp/tmp.tif\n",
      "convert /media/yuncong/BstemAtlasData/CSHL_data_processed/ChatCryoJane201710/ChatCryoJane201710_prep2_lossless_Ntb/ChatCryoJane201710_slide38-S3_prep2_lossless_Ntb.tif -crop 2000x2000+17999+10862 /tmp/tmp.tif\n",
      "Region 3: x=2378, y=4691, w=2000, h=2000\n",
      "convert /media/yuncong/BstemAtlasData/CSHL_data_processed/ChatCryoJane201710/ChatCryoJane201710_prep2_lossless_Ntb/ChatCryoJane201710_slide37-S3_prep2_lossless_Ntb.tif -crop 2000x2000+2378+4691 /tmp/tmp.tif\n",
      "convert /media/yuncong/BstemAtlasData/CSHL_data_processed/ChatCryoJane201710/ChatCryoJane201710_prep2_lossless_Ntb/ChatCryoJane201710_slide38-S3_prep2_lossless_Ntb.tif -crop 2000x2000+2378+4691 /tmp/tmp.tif\n",
      "Region 4: x=3073, y=1402, w=2000, h=2000\n",
      "convert /media/yuncong/BstemAtlasData/CSHL_data_processed/ChatCryoJane201710/ChatCryoJane201710_prep2_lossless_Ntb/ChatCryoJane201710_slide37-S3_prep2_lossless_Ntb.tif -crop 2000x2000+3073+1402 /tmp/tmp.tif\n",
      "convert /media/yuncong/BstemAtlasData/CSHL_data_processed/ChatCryoJane201710/ChatCryoJane201710_prep2_lossless_Ntb/ChatCryoJane201710_slide38-S3_prep2_lossless_Ntb.tif -crop 2000x2000+3073+1402 /tmp/tmp.tif\n",
      "Region 5: x=12088, y=14517, w=2000, h=2000\n",
      "convert /media/yuncong/BstemAtlasData/CSHL_data_processed/ChatCryoJane201710/ChatCryoJane201710_prep2_lossless_Ntb/ChatCryoJane201710_slide37-S3_prep2_lossless_Ntb.tif -crop 2000x2000+12088+14517 /tmp/tmp.tif\n",
      "convert /media/yuncong/BstemAtlasData/CSHL_data_processed/ChatCryoJane201710/ChatCryoJane201710_prep2_lossless_Ntb/ChatCryoJane201710_slide38-S3_prep2_lossless_Ntb.tif -crop 2000x2000+12088+14517 /tmp/tmp.tif\n",
      "Region 6: x=6974, y=2508, w=2000, h=2000\n",
      "convert /media/yuncong/BstemAtlasData/CSHL_data_processed/ChatCryoJane201710/ChatCryoJane201710_prep2_lossless_Ntb/ChatCryoJane201710_slide37-S3_prep2_lossless_Ntb.tif -crop 2000x2000+6974+2508 /tmp/tmp.tif\n",
      "convert /media/yuncong/BstemAtlasData/CSHL_data_processed/ChatCryoJane201710/ChatCryoJane201710_prep2_lossless_Ntb/ChatCryoJane201710_slide38-S3_prep2_lossless_Ntb.tif -crop 2000x2000+6974+2508 /tmp/tmp.tif\n",
      "Region 7: x=8419, y=6604, w=2000, h=2000\n",
      "convert /media/yuncong/BstemAtlasData/CSHL_data_processed/ChatCryoJane201710/ChatCryoJane201710_prep2_lossless_Ntb/ChatCryoJane201710_slide37-S3_prep2_lossless_Ntb.tif -crop 2000x2000+8419+6604 /tmp/tmp.tif\n",
      "convert /media/yuncong/BstemAtlasData/CSHL_data_processed/ChatCryoJane201710/ChatCryoJane201710_prep2_lossless_Ntb/ChatCryoJane201710_slide38-S3_prep2_lossless_Ntb.tif -crop 2000x2000+8419+6604 /tmp/tmp.tif\n",
      "Region 8: x=17025, y=7618, w=2000, h=2000\n",
      "convert /media/yuncong/BstemAtlasData/CSHL_data_processed/ChatCryoJane201710/ChatCryoJane201710_prep2_lossless_Ntb/ChatCryoJane201710_slide37-S3_prep2_lossless_Ntb.tif -crop 2000x2000+17025+7618 /tmp/tmp.tif\n",
      "convert /media/yuncong/BstemAtlasData/CSHL_data_processed/ChatCryoJane201710/ChatCryoJane201710_prep2_lossless_Ntb/ChatCryoJane201710_slide38-S3_prep2_lossless_Ntb.tif -crop 2000x2000+17025+7618 /tmp/tmp.tif\n",
      "Region 9: x=12209, y=5843, w=2000, h=2000\n",
      "convert /media/yuncong/BstemAtlasData/CSHL_data_processed/ChatCryoJane201710/ChatCryoJane201710_prep2_lossless_Ntb/ChatCryoJane201710_slide37-S3_prep2_lossless_Ntb.tif -crop 2000x2000+12209+5843 /tmp/tmp.tif\n",
      "convert /media/yuncong/BstemAtlasData/CSHL_data_processed/ChatCryoJane201710/ChatCryoJane201710_prep2_lossless_Ntb/ChatCryoJane201710_slide38-S3_prep2_lossless_Ntb.tif -crop 2000x2000+12209+5843 /tmp/tmp.tif\n",
      "aws s3 cp \"/media/yuncong/BstemAtlasData/CSHL_data_processed/ChatCryoJane201710/ChatCryoJane201710_intensity_mapping/ChatCryoJane201710_slide38-S3_to_ChatCryoJane201710_slide37-S3_intensity_mapping_all_regions.npy\" \"s3://mousebrainatlas-data/CSHL_data_processed/ChatCryoJane201710/ChatCryoJane201710_intensity_mapping/ChatCryoJane201710_slide38-S3_to_ChatCryoJane201710_slide37-S3_intensity_mapping_all_regions.npy\"\n",
      "aws s3 cp \"/media/yuncong/BstemAtlasData/CSHL_data_processed/ChatCryoJane201710/ChatCryoJane201710_intensity_mapping/ChatCryoJane201710_slide38-S3_to_ChatCryoJane201710_slide37-S3_region_bboxes.npy\" \"s3://mousebrainatlas-data/CSHL_data_processed/ChatCryoJane201710/ChatCryoJane201710_intensity_mapping/ChatCryoJane201710_slide38-S3_to_ChatCryoJane201710_slide37-S3_region_bboxes.npy\"\n"
     ]
    },
    {
     "name": "stderr",
     "output_type": "stream",
     "text": [
      "ntb 114, ntb 115\n",
      "Load NTB1: 0.00 seconds.\n",
      "Load NTB2: 0.00 seconds.\n"
     ]
    },
    {
     "name": "stdout",
     "output_type": "stream",
     "text": [
      "Region 0: x=7906, y=7421, w=2000, h=2000\n",
      "convert /media/yuncong/BstemAtlasData/CSHL_data_processed/ChatCryoJane201710/ChatCryoJane201710_prep2_lossless_Ntb/ChatCryoJane201710_slide38-S3_prep2_lossless_Ntb.tif -crop 2000x2000+7906+7421 /tmp/tmp.tif\n",
      "convert /media/yuncong/BstemAtlasData/CSHL_data_processed/ChatCryoJane201710/ChatCryoJane201710_prep2_lossless_Ntb/ChatCryoJane201710_slide39-S1_prep2_lossless_Ntb.tif -crop 2000x2000+7906+7421 /tmp/tmp.tif\n",
      "Region 1: x=17987, y=15004, w=2000, h=2000\n",
      "convert /media/yuncong/BstemAtlasData/CSHL_data_processed/ChatCryoJane201710/ChatCryoJane201710_prep2_lossless_Ntb/ChatCryoJane201710_slide38-S3_prep2_lossless_Ntb.tif -crop 2000x2000+17987+15004 /tmp/tmp.tif\n",
      "convert /media/yuncong/BstemAtlasData/CSHL_data_processed/ChatCryoJane201710/ChatCryoJane201710_prep2_lossless_Ntb/ChatCryoJane201710_slide39-S1_prep2_lossless_Ntb.tif -crop 2000x2000+17987+15004 /tmp/tmp.tif\n",
      "Region 2: x=16406, y=6613, w=2000, h=2000\n",
      "convert /media/yuncong/BstemAtlasData/CSHL_data_processed/ChatCryoJane201710/ChatCryoJane201710_prep2_lossless_Ntb/ChatCryoJane201710_slide38-S3_prep2_lossless_Ntb.tif -crop 2000x2000+16406+6613 /tmp/tmp.tif\n",
      "convert /media/yuncong/BstemAtlasData/CSHL_data_processed/ChatCryoJane201710/ChatCryoJane201710_prep2_lossless_Ntb/ChatCryoJane201710_slide39-S1_prep2_lossless_Ntb.tif -crop 2000x2000+16406+6613 /tmp/tmp.tif\n",
      "Region 3: x=7026, y=9182, w=2000, h=2000\n",
      "convert /media/yuncong/BstemAtlasData/CSHL_data_processed/ChatCryoJane201710/ChatCryoJane201710_prep2_lossless_Ntb/ChatCryoJane201710_slide38-S3_prep2_lossless_Ntb.tif -crop 2000x2000+7026+9182 /tmp/tmp.tif\n",
      "convert /media/yuncong/BstemAtlasData/CSHL_data_processed/ChatCryoJane201710/ChatCryoJane201710_prep2_lossless_Ntb/ChatCryoJane201710_slide39-S1_prep2_lossless_Ntb.tif -crop 2000x2000+7026+9182 /tmp/tmp.tif\n",
      "Region 4: x=2824, y=10816, w=2000, h=2000\n",
      "convert /media/yuncong/BstemAtlasData/CSHL_data_processed/ChatCryoJane201710/ChatCryoJane201710_prep2_lossless_Ntb/ChatCryoJane201710_slide38-S3_prep2_lossless_Ntb.tif -crop 2000x2000+2824+10816 /tmp/tmp.tif\n",
      "convert /media/yuncong/BstemAtlasData/CSHL_data_processed/ChatCryoJane201710/ChatCryoJane201710_prep2_lossless_Ntb/ChatCryoJane201710_slide39-S1_prep2_lossless_Ntb.tif -crop 2000x2000+2824+10816 /tmp/tmp.tif\n",
      "Region 5: x=9353, y=3828, w=2000, h=2000\n",
      "convert /media/yuncong/BstemAtlasData/CSHL_data_processed/ChatCryoJane201710/ChatCryoJane201710_prep2_lossless_Ntb/ChatCryoJane201710_slide38-S3_prep2_lossless_Ntb.tif -crop 2000x2000+9353+3828 /tmp/tmp.tif\n",
      "convert /media/yuncong/BstemAtlasData/CSHL_data_processed/ChatCryoJane201710/ChatCryoJane201710_prep2_lossless_Ntb/ChatCryoJane201710_slide39-S1_prep2_lossless_Ntb.tif -crop 2000x2000+9353+3828 /tmp/tmp.tif\n",
      "Region 6: x=12802, y=14648, w=2000, h=2000\n",
      "convert /media/yuncong/BstemAtlasData/CSHL_data_processed/ChatCryoJane201710/ChatCryoJane201710_prep2_lossless_Ntb/ChatCryoJane201710_slide38-S3_prep2_lossless_Ntb.tif -crop 2000x2000+12802+14648 /tmp/tmp.tif\n",
      "convert /media/yuncong/BstemAtlasData/CSHL_data_processed/ChatCryoJane201710/ChatCryoJane201710_prep2_lossless_Ntb/ChatCryoJane201710_slide39-S1_prep2_lossless_Ntb.tif -crop 2000x2000+12802+14648 /tmp/tmp.tif\n",
      "Region 7: x=9817, y=4196, w=2000, h=2000\n",
      "convert /media/yuncong/BstemAtlasData/CSHL_data_processed/ChatCryoJane201710/ChatCryoJane201710_prep2_lossless_Ntb/ChatCryoJane201710_slide38-S3_prep2_lossless_Ntb.tif -crop 2000x2000+9817+4196 /tmp/tmp.tif\n",
      "convert /media/yuncong/BstemAtlasData/CSHL_data_processed/ChatCryoJane201710/ChatCryoJane201710_prep2_lossless_Ntb/ChatCryoJane201710_slide39-S1_prep2_lossless_Ntb.tif -crop 2000x2000+9817+4196 /tmp/tmp.tif\n",
      "Region 8: x=5383, y=5207, w=2000, h=2000\n",
      "convert /media/yuncong/BstemAtlasData/CSHL_data_processed/ChatCryoJane201710/ChatCryoJane201710_prep2_lossless_Ntb/ChatCryoJane201710_slide38-S3_prep2_lossless_Ntb.tif -crop 2000x2000+5383+5207 /tmp/tmp.tif\n",
      "convert /media/yuncong/BstemAtlasData/CSHL_data_processed/ChatCryoJane201710/ChatCryoJane201710_prep2_lossless_Ntb/ChatCryoJane201710_slide39-S1_prep2_lossless_Ntb.tif -crop 2000x2000+5383+5207 /tmp/tmp.tif\n",
      "Region 9: x=862, y=6238, w=2000, h=2000\n",
      "convert /media/yuncong/BstemAtlasData/CSHL_data_processed/ChatCryoJane201710/ChatCryoJane201710_prep2_lossless_Ntb/ChatCryoJane201710_slide38-S3_prep2_lossless_Ntb.tif -crop 2000x2000+862+6238 /tmp/tmp.tif\n",
      "convert /media/yuncong/BstemAtlasData/CSHL_data_processed/ChatCryoJane201710/ChatCryoJane201710_prep2_lossless_Ntb/ChatCryoJane201710_slide39-S1_prep2_lossless_Ntb.tif -crop 2000x2000+862+6238 /tmp/tmp.tif\n",
      "aws s3 cp \"/media/yuncong/BstemAtlasData/CSHL_data_processed/ChatCryoJane201710/ChatCryoJane201710_intensity_mapping/ChatCryoJane201710_slide39-S1_to_ChatCryoJane201710_slide38-S3_intensity_mapping_all_regions.npy\" \"s3://mousebrainatlas-data/CSHL_data_processed/ChatCryoJane201710/ChatCryoJane201710_intensity_mapping/ChatCryoJane201710_slide39-S1_to_ChatCryoJane201710_slide38-S3_intensity_mapping_all_regions.npy\"\n",
      "aws s3 cp \"/media/yuncong/BstemAtlasData/CSHL_data_processed/ChatCryoJane201710/ChatCryoJane201710_intensity_mapping/ChatCryoJane201710_slide39-S1_to_ChatCryoJane201710_slide38-S3_region_bboxes.npy\" \"s3://mousebrainatlas-data/CSHL_data_processed/ChatCryoJane201710/ChatCryoJane201710_intensity_mapping/ChatCryoJane201710_slide39-S1_to_ChatCryoJane201710_slide38-S3_region_bboxes.npy\"\n"
     ]
    },
    {
     "name": "stderr",
     "output_type": "stream",
     "text": [
      "ntb 115, ntb 116\n",
      "Load NTB1: 0.00 seconds.\n",
      "Load NTB2: 0.00 seconds.\n"
     ]
    },
    {
     "name": "stdout",
     "output_type": "stream",
     "text": [
      "Region 0: x=9572, y=12917, w=2000, h=2000\n",
      "convert /media/yuncong/BstemAtlasData/CSHL_data_processed/ChatCryoJane201710/ChatCryoJane201710_prep2_lossless_Ntb/ChatCryoJane201710_slide39-S1_prep2_lossless_Ntb.tif -crop 2000x2000+9572+12917 /tmp/tmp.tif\n",
      "convert /media/yuncong/BstemAtlasData/CSHL_data_processed/ChatCryoJane201710/ChatCryoJane201710_prep2_lossless_Ntb/ChatCryoJane201710_slide40-S1_prep2_lossless_Ntb.tif -crop 2000x2000+9572+12917 /tmp/tmp.tif\n",
      "Region 1: x=15229, y=9080, w=2000, h=2000\n",
      "convert /media/yuncong/BstemAtlasData/CSHL_data_processed/ChatCryoJane201710/ChatCryoJane201710_prep2_lossless_Ntb/ChatCryoJane201710_slide39-S1_prep2_lossless_Ntb.tif -crop 2000x2000+15229+9080 /tmp/tmp.tif\n",
      "convert /media/yuncong/BstemAtlasData/CSHL_data_processed/ChatCryoJane201710/ChatCryoJane201710_prep2_lossless_Ntb/ChatCryoJane201710_slide40-S1_prep2_lossless_Ntb.tif -crop 2000x2000+15229+9080 /tmp/tmp.tif\n",
      "Region 2: x=7549, y=13139, w=2000, h=2000\n",
      "convert /media/yuncong/BstemAtlasData/CSHL_data_processed/ChatCryoJane201710/ChatCryoJane201710_prep2_lossless_Ntb/ChatCryoJane201710_slide39-S1_prep2_lossless_Ntb.tif -crop 2000x2000+7549+13139 /tmp/tmp.tif\n",
      "convert /media/yuncong/BstemAtlasData/CSHL_data_processed/ChatCryoJane201710/ChatCryoJane201710_prep2_lossless_Ntb/ChatCryoJane201710_slide40-S1_prep2_lossless_Ntb.tif -crop 2000x2000+7549+13139 /tmp/tmp.tif\n",
      "Region 3: x=16757, y=9666, w=2000, h=2000\n",
      "convert /media/yuncong/BstemAtlasData/CSHL_data_processed/ChatCryoJane201710/ChatCryoJane201710_prep2_lossless_Ntb/ChatCryoJane201710_slide39-S1_prep2_lossless_Ntb.tif -crop 2000x2000+16757+9666 /tmp/tmp.tif\n",
      "convert /media/yuncong/BstemAtlasData/CSHL_data_processed/ChatCryoJane201710/ChatCryoJane201710_prep2_lossless_Ntb/ChatCryoJane201710_slide40-S1_prep2_lossless_Ntb.tif -crop 2000x2000+16757+9666 /tmp/tmp.tif\n",
      "Region 4: x=10493, y=12433, w=2000, h=2000\n",
      "convert /media/yuncong/BstemAtlasData/CSHL_data_processed/ChatCryoJane201710/ChatCryoJane201710_prep2_lossless_Ntb/ChatCryoJane201710_slide39-S1_prep2_lossless_Ntb.tif -crop 2000x2000+10493+12433 /tmp/tmp.tif\n",
      "convert /media/yuncong/BstemAtlasData/CSHL_data_processed/ChatCryoJane201710/ChatCryoJane201710_prep2_lossless_Ntb/ChatCryoJane201710_slide40-S1_prep2_lossless_Ntb.tif -crop 2000x2000+10493+12433 /tmp/tmp.tif\n",
      "Region 5: x=3172, y=6310, w=2000, h=2000\n",
      "convert /media/yuncong/BstemAtlasData/CSHL_data_processed/ChatCryoJane201710/ChatCryoJane201710_prep2_lossless_Ntb/ChatCryoJane201710_slide39-S1_prep2_lossless_Ntb.tif -crop 2000x2000+3172+6310 /tmp/tmp.tif\n",
      "convert /media/yuncong/BstemAtlasData/CSHL_data_processed/ChatCryoJane201710/ChatCryoJane201710_prep2_lossless_Ntb/ChatCryoJane201710_slide40-S1_prep2_lossless_Ntb.tif -crop 2000x2000+3172+6310 /tmp/tmp.tif\n",
      "Region 6: x=10484, y=8368, w=2000, h=2000\n",
      "convert /media/yuncong/BstemAtlasData/CSHL_data_processed/ChatCryoJane201710/ChatCryoJane201710_prep2_lossless_Ntb/ChatCryoJane201710_slide39-S1_prep2_lossless_Ntb.tif -crop 2000x2000+10484+8368 /tmp/tmp.tif\n",
      "convert /media/yuncong/BstemAtlasData/CSHL_data_processed/ChatCryoJane201710/ChatCryoJane201710_prep2_lossless_Ntb/ChatCryoJane201710_slide40-S1_prep2_lossless_Ntb.tif -crop 2000x2000+10484+8368 /tmp/tmp.tif\n",
      "Region 7: x=15214, y=3808, w=2000, h=2000\n",
      "convert /media/yuncong/BstemAtlasData/CSHL_data_processed/ChatCryoJane201710/ChatCryoJane201710_prep2_lossless_Ntb/ChatCryoJane201710_slide39-S1_prep2_lossless_Ntb.tif -crop 2000x2000+15214+3808 /tmp/tmp.tif\n",
      "convert /media/yuncong/BstemAtlasData/CSHL_data_processed/ChatCryoJane201710/ChatCryoJane201710_prep2_lossless_Ntb/ChatCryoJane201710_slide40-S1_prep2_lossless_Ntb.tif -crop 2000x2000+15214+3808 /tmp/tmp.tif\n",
      "Region 8: x=12380, y=14605, w=2000, h=2000\n",
      "convert /media/yuncong/BstemAtlasData/CSHL_data_processed/ChatCryoJane201710/ChatCryoJane201710_prep2_lossless_Ntb/ChatCryoJane201710_slide39-S1_prep2_lossless_Ntb.tif -crop 2000x2000+12380+14605 /tmp/tmp.tif\n",
      "convert /media/yuncong/BstemAtlasData/CSHL_data_processed/ChatCryoJane201710/ChatCryoJane201710_prep2_lossless_Ntb/ChatCryoJane201710_slide40-S1_prep2_lossless_Ntb.tif -crop 2000x2000+12380+14605 /tmp/tmp.tif\n",
      "Region 9: x=21177, y=15051, w=2000, h=2000\n",
      "convert /media/yuncong/BstemAtlasData/CSHL_data_processed/ChatCryoJane201710/ChatCryoJane201710_prep2_lossless_Ntb/ChatCryoJane201710_slide39-S1_prep2_lossless_Ntb.tif -crop 2000x2000+21177+15051 /tmp/tmp.tif\n",
      "convert /media/yuncong/BstemAtlasData/CSHL_data_processed/ChatCryoJane201710/ChatCryoJane201710_prep2_lossless_Ntb/ChatCryoJane201710_slide40-S1_prep2_lossless_Ntb.tif -crop 2000x2000+21177+15051 /tmp/tmp.tif\n",
      "aws s3 cp \"/media/yuncong/BstemAtlasData/CSHL_data_processed/ChatCryoJane201710/ChatCryoJane201710_intensity_mapping/ChatCryoJane201710_slide40-S1_to_ChatCryoJane201710_slide39-S1_intensity_mapping_all_regions.npy\" \"s3://mousebrainatlas-data/CSHL_data_processed/ChatCryoJane201710/ChatCryoJane201710_intensity_mapping/ChatCryoJane201710_slide40-S1_to_ChatCryoJane201710_slide39-S1_intensity_mapping_all_regions.npy\"\n",
      "aws s3 cp \"/media/yuncong/BstemAtlasData/CSHL_data_processed/ChatCryoJane201710/ChatCryoJane201710_intensity_mapping/ChatCryoJane201710_slide40-S1_to_ChatCryoJane201710_slide39-S1_region_bboxes.npy\" \"s3://mousebrainatlas-data/CSHL_data_processed/ChatCryoJane201710/ChatCryoJane201710_intensity_mapping/ChatCryoJane201710_slide40-S1_to_ChatCryoJane201710_slide39-S1_region_bboxes.npy\"\n"
     ]
    },
    {
     "name": "stderr",
     "output_type": "stream",
     "text": [
      "ntb 116, ntb 117\n",
      "Load NTB1: 0.00 seconds.\n",
      "Load NTB2: 0.00 seconds.\n"
     ]
    },
    {
     "name": "stdout",
     "output_type": "stream",
     "text": [
      "Region 0: x=13043, y=15509, w=2000, h=2000\n",
      "convert /media/yuncong/BstemAtlasData/CSHL_data_processed/ChatCryoJane201710/ChatCryoJane201710_prep2_lossless_Ntb/ChatCryoJane201710_slide40-S1_prep2_lossless_Ntb.tif -crop 2000x2000+13043+15509 /tmp/tmp.tif\n",
      "convert /media/yuncong/BstemAtlasData/CSHL_data_processed/ChatCryoJane201710/ChatCryoJane201710_prep2_lossless_Ntb/ChatCryoJane201710_slide39-S2_prep2_lossless_Ntb.tif -crop 2000x2000+13043+15509 /tmp/tmp.tif\n",
      "Region 1: x=17742, y=7822, w=2000, h=2000\n",
      "convert /media/yuncong/BstemAtlasData/CSHL_data_processed/ChatCryoJane201710/ChatCryoJane201710_prep2_lossless_Ntb/ChatCryoJane201710_slide40-S1_prep2_lossless_Ntb.tif -crop 2000x2000+17742+7822 /tmp/tmp.tif\n",
      "convert /media/yuncong/BstemAtlasData/CSHL_data_processed/ChatCryoJane201710/ChatCryoJane201710_prep2_lossless_Ntb/ChatCryoJane201710_slide39-S2_prep2_lossless_Ntb.tif -crop 2000x2000+17742+7822 /tmp/tmp.tif\n",
      "Region 2: x=13623, y=5904, w=2000, h=2000\n",
      "convert /media/yuncong/BstemAtlasData/CSHL_data_processed/ChatCryoJane201710/ChatCryoJane201710_prep2_lossless_Ntb/ChatCryoJane201710_slide40-S1_prep2_lossless_Ntb.tif -crop 2000x2000+13623+5904 /tmp/tmp.tif\n",
      "convert /media/yuncong/BstemAtlasData/CSHL_data_processed/ChatCryoJane201710/ChatCryoJane201710_prep2_lossless_Ntb/ChatCryoJane201710_slide39-S2_prep2_lossless_Ntb.tif -crop 2000x2000+13623+5904 /tmp/tmp.tif\n",
      "Region 3: x=8922, y=11105, w=2000, h=2000\n",
      "convert /media/yuncong/BstemAtlasData/CSHL_data_processed/ChatCryoJane201710/ChatCryoJane201710_prep2_lossless_Ntb/ChatCryoJane201710_slide40-S1_prep2_lossless_Ntb.tif -crop 2000x2000+8922+11105 /tmp/tmp.tif\n",
      "convert /media/yuncong/BstemAtlasData/CSHL_data_processed/ChatCryoJane201710/ChatCryoJane201710_prep2_lossless_Ntb/ChatCryoJane201710_slide39-S2_prep2_lossless_Ntb.tif -crop 2000x2000+8922+11105 /tmp/tmp.tif\n",
      "Region 4: x=8219, y=6848, w=2000, h=2000\n",
      "convert /media/yuncong/BstemAtlasData/CSHL_data_processed/ChatCryoJane201710/ChatCryoJane201710_prep2_lossless_Ntb/ChatCryoJane201710_slide40-S1_prep2_lossless_Ntb.tif -crop 2000x2000+8219+6848 /tmp/tmp.tif\n",
      "convert /media/yuncong/BstemAtlasData/CSHL_data_processed/ChatCryoJane201710/ChatCryoJane201710_prep2_lossless_Ntb/ChatCryoJane201710_slide39-S2_prep2_lossless_Ntb.tif -crop 2000x2000+8219+6848 /tmp/tmp.tif\n",
      "Region 5: x=4946, y=3055, w=2000, h=2000\n",
      "convert /media/yuncong/BstemAtlasData/CSHL_data_processed/ChatCryoJane201710/ChatCryoJane201710_prep2_lossless_Ntb/ChatCryoJane201710_slide40-S1_prep2_lossless_Ntb.tif -crop 2000x2000+4946+3055 /tmp/tmp.tif\n",
      "convert /media/yuncong/BstemAtlasData/CSHL_data_processed/ChatCryoJane201710/ChatCryoJane201710_prep2_lossless_Ntb/ChatCryoJane201710_slide39-S2_prep2_lossless_Ntb.tif -crop 2000x2000+4946+3055 /tmp/tmp.tif\n",
      "Region 6: x=8156, y=7223, w=2000, h=2000\n",
      "convert /media/yuncong/BstemAtlasData/CSHL_data_processed/ChatCryoJane201710/ChatCryoJane201710_prep2_lossless_Ntb/ChatCryoJane201710_slide40-S1_prep2_lossless_Ntb.tif -crop 2000x2000+8156+7223 /tmp/tmp.tif\n",
      "convert /media/yuncong/BstemAtlasData/CSHL_data_processed/ChatCryoJane201710/ChatCryoJane201710_prep2_lossless_Ntb/ChatCryoJane201710_slide39-S2_prep2_lossless_Ntb.tif -crop 2000x2000+8156+7223 /tmp/tmp.tif\n",
      "Region 7: x=2337, y=1671, w=2000, h=2000\n",
      "convert /media/yuncong/BstemAtlasData/CSHL_data_processed/ChatCryoJane201710/ChatCryoJane201710_prep2_lossless_Ntb/ChatCryoJane201710_slide40-S1_prep2_lossless_Ntb.tif -crop 2000x2000+2337+1671 /tmp/tmp.tif\n",
      "convert /media/yuncong/BstemAtlasData/CSHL_data_processed/ChatCryoJane201710/ChatCryoJane201710_prep2_lossless_Ntb/ChatCryoJane201710_slide39-S2_prep2_lossless_Ntb.tif -crop 2000x2000+2337+1671 /tmp/tmp.tif\n",
      "Region 8: x=1181, y=9924, w=2000, h=2000\n",
      "convert /media/yuncong/BstemAtlasData/CSHL_data_processed/ChatCryoJane201710/ChatCryoJane201710_prep2_lossless_Ntb/ChatCryoJane201710_slide40-S1_prep2_lossless_Ntb.tif -crop 2000x2000+1181+9924 /tmp/tmp.tif\n",
      "convert /media/yuncong/BstemAtlasData/CSHL_data_processed/ChatCryoJane201710/ChatCryoJane201710_prep2_lossless_Ntb/ChatCryoJane201710_slide39-S2_prep2_lossless_Ntb.tif -crop 2000x2000+1181+9924 /tmp/tmp.tif\n",
      "Region 9: x=8267, y=8827, w=2000, h=2000\n",
      "convert /media/yuncong/BstemAtlasData/CSHL_data_processed/ChatCryoJane201710/ChatCryoJane201710_prep2_lossless_Ntb/ChatCryoJane201710_slide40-S1_prep2_lossless_Ntb.tif -crop 2000x2000+8267+8827 /tmp/tmp.tif\n",
      "convert /media/yuncong/BstemAtlasData/CSHL_data_processed/ChatCryoJane201710/ChatCryoJane201710_prep2_lossless_Ntb/ChatCryoJane201710_slide39-S2_prep2_lossless_Ntb.tif -crop 2000x2000+8267+8827 /tmp/tmp.tif\n",
      "aws s3 cp \"/media/yuncong/BstemAtlasData/CSHL_data_processed/ChatCryoJane201710/ChatCryoJane201710_intensity_mapping/ChatCryoJane201710_slide39-S2_to_ChatCryoJane201710_slide40-S1_intensity_mapping_all_regions.npy\" \"s3://mousebrainatlas-data/CSHL_data_processed/ChatCryoJane201710/ChatCryoJane201710_intensity_mapping/ChatCryoJane201710_slide39-S2_to_ChatCryoJane201710_slide40-S1_intensity_mapping_all_regions.npy\"\n",
      "aws s3 cp \"/media/yuncong/BstemAtlasData/CSHL_data_processed/ChatCryoJane201710/ChatCryoJane201710_intensity_mapping/ChatCryoJane201710_slide39-S2_to_ChatCryoJane201710_slide40-S1_region_bboxes.npy\" \"s3://mousebrainatlas-data/CSHL_data_processed/ChatCryoJane201710/ChatCryoJane201710_intensity_mapping/ChatCryoJane201710_slide39-S2_to_ChatCryoJane201710_slide40-S1_region_bboxes.npy\"\n"
     ]
    },
    {
     "name": "stderr",
     "output_type": "stream",
     "text": [
      "ntb 117, ntb 118\n",
      "Load NTB1: 0.00 seconds.\n",
      "Load NTB2: 0.00 seconds.\n"
     ]
    },
    {
     "name": "stdout",
     "output_type": "stream",
     "text": [
      "Region 0: x=17667, y=7671, w=2000, h=2000\n",
      "convert /media/yuncong/BstemAtlasData/CSHL_data_processed/ChatCryoJane201710/ChatCryoJane201710_prep2_lossless_Ntb/ChatCryoJane201710_slide39-S2_prep2_lossless_Ntb.tif -crop 2000x2000+17667+7671 /tmp/tmp.tif\n",
      "convert /media/yuncong/BstemAtlasData/CSHL_data_processed/ChatCryoJane201710/ChatCryoJane201710_prep2_lossless_Ntb/ChatCryoJane201710_slide40-S2_prep2_lossless_Ntb.tif -crop 2000x2000+17667+7671 /tmp/tmp.tif\n",
      "Region 1: x=17136, y=9015, w=2000, h=2000\n",
      "convert /media/yuncong/BstemAtlasData/CSHL_data_processed/ChatCryoJane201710/ChatCryoJane201710_prep2_lossless_Ntb/ChatCryoJane201710_slide39-S2_prep2_lossless_Ntb.tif -crop 2000x2000+17136+9015 /tmp/tmp.tif\n",
      "convert /media/yuncong/BstemAtlasData/CSHL_data_processed/ChatCryoJane201710/ChatCryoJane201710_prep2_lossless_Ntb/ChatCryoJane201710_slide40-S2_prep2_lossless_Ntb.tif -crop 2000x2000+17136+9015 /tmp/tmp.tif\n",
      "Region 2: x=9761, y=10633, w=2000, h=2000\n",
      "convert /media/yuncong/BstemAtlasData/CSHL_data_processed/ChatCryoJane201710/ChatCryoJane201710_prep2_lossless_Ntb/ChatCryoJane201710_slide39-S2_prep2_lossless_Ntb.tif -crop 2000x2000+9761+10633 /tmp/tmp.tif\n",
      "convert /media/yuncong/BstemAtlasData/CSHL_data_processed/ChatCryoJane201710/ChatCryoJane201710_prep2_lossless_Ntb/ChatCryoJane201710_slide40-S2_prep2_lossless_Ntb.tif -crop 2000x2000+9761+10633 /tmp/tmp.tif\n",
      "Region 3: x=18697, y=10910, w=2000, h=2000\n",
      "convert /media/yuncong/BstemAtlasData/CSHL_data_processed/ChatCryoJane201710/ChatCryoJane201710_prep2_lossless_Ntb/ChatCryoJane201710_slide39-S2_prep2_lossless_Ntb.tif -crop 2000x2000+18697+10910 /tmp/tmp.tif\n",
      "convert /media/yuncong/BstemAtlasData/CSHL_data_processed/ChatCryoJane201710/ChatCryoJane201710_prep2_lossless_Ntb/ChatCryoJane201710_slide40-S2_prep2_lossless_Ntb.tif -crop 2000x2000+18697+10910 /tmp/tmp.tif\n",
      "Region 4: x=11809, y=10730, w=2000, h=2000\n",
      "convert /media/yuncong/BstemAtlasData/CSHL_data_processed/ChatCryoJane201710/ChatCryoJane201710_prep2_lossless_Ntb/ChatCryoJane201710_slide39-S2_prep2_lossless_Ntb.tif -crop 2000x2000+11809+10730 /tmp/tmp.tif\n",
      "convert /media/yuncong/BstemAtlasData/CSHL_data_processed/ChatCryoJane201710/ChatCryoJane201710_prep2_lossless_Ntb/ChatCryoJane201710_slide40-S2_prep2_lossless_Ntb.tif -crop 2000x2000+11809+10730 /tmp/tmp.tif\n",
      "Region 5: x=10189, y=8169, w=2000, h=2000\n",
      "convert /media/yuncong/BstemAtlasData/CSHL_data_processed/ChatCryoJane201710/ChatCryoJane201710_prep2_lossless_Ntb/ChatCryoJane201710_slide39-S2_prep2_lossless_Ntb.tif -crop 2000x2000+10189+8169 /tmp/tmp.tif\n",
      "convert /media/yuncong/BstemAtlasData/CSHL_data_processed/ChatCryoJane201710/ChatCryoJane201710_prep2_lossless_Ntb/ChatCryoJane201710_slide40-S2_prep2_lossless_Ntb.tif -crop 2000x2000+10189+8169 /tmp/tmp.tif\n",
      "Region 6: x=3910, y=14139, w=2000, h=2000\n",
      "convert /media/yuncong/BstemAtlasData/CSHL_data_processed/ChatCryoJane201710/ChatCryoJane201710_prep2_lossless_Ntb/ChatCryoJane201710_slide39-S2_prep2_lossless_Ntb.tif -crop 2000x2000+3910+14139 /tmp/tmp.tif\n",
      "convert /media/yuncong/BstemAtlasData/CSHL_data_processed/ChatCryoJane201710/ChatCryoJane201710_prep2_lossless_Ntb/ChatCryoJane201710_slide40-S2_prep2_lossless_Ntb.tif -crop 2000x2000+3910+14139 /tmp/tmp.tif\n",
      "Region 7: x=1148, y=1526, w=2000, h=2000\n",
      "convert /media/yuncong/BstemAtlasData/CSHL_data_processed/ChatCryoJane201710/ChatCryoJane201710_prep2_lossless_Ntb/ChatCryoJane201710_slide39-S2_prep2_lossless_Ntb.tif -crop 2000x2000+1148+1526 /tmp/tmp.tif\n",
      "convert /media/yuncong/BstemAtlasData/CSHL_data_processed/ChatCryoJane201710/ChatCryoJane201710_prep2_lossless_Ntb/ChatCryoJane201710_slide40-S2_prep2_lossless_Ntb.tif -crop 2000x2000+1148+1526 /tmp/tmp.tif\n",
      "Region 8: x=271, y=7124, w=2000, h=2000\n",
      "convert /media/yuncong/BstemAtlasData/CSHL_data_processed/ChatCryoJane201710/ChatCryoJane201710_prep2_lossless_Ntb/ChatCryoJane201710_slide39-S2_prep2_lossless_Ntb.tif -crop 2000x2000+271+7124 /tmp/tmp.tif\n",
      "convert /media/yuncong/BstemAtlasData/CSHL_data_processed/ChatCryoJane201710/ChatCryoJane201710_prep2_lossless_Ntb/ChatCryoJane201710_slide40-S2_prep2_lossless_Ntb.tif -crop 2000x2000+271+7124 /tmp/tmp.tif\n",
      "Region 9: x=3949, y=5789, w=2000, h=2000\n",
      "convert /media/yuncong/BstemAtlasData/CSHL_data_processed/ChatCryoJane201710/ChatCryoJane201710_prep2_lossless_Ntb/ChatCryoJane201710_slide39-S2_prep2_lossless_Ntb.tif -crop 2000x2000+3949+5789 /tmp/tmp.tif\n",
      "convert /media/yuncong/BstemAtlasData/CSHL_data_processed/ChatCryoJane201710/ChatCryoJane201710_prep2_lossless_Ntb/ChatCryoJane201710_slide40-S2_prep2_lossless_Ntb.tif -crop 2000x2000+3949+5789 /tmp/tmp.tif\n",
      "aws s3 cp \"/media/yuncong/BstemAtlasData/CSHL_data_processed/ChatCryoJane201710/ChatCryoJane201710_intensity_mapping/ChatCryoJane201710_slide40-S2_to_ChatCryoJane201710_slide39-S2_intensity_mapping_all_regions.npy\" \"s3://mousebrainatlas-data/CSHL_data_processed/ChatCryoJane201710/ChatCryoJane201710_intensity_mapping/ChatCryoJane201710_slide40-S2_to_ChatCryoJane201710_slide39-S2_intensity_mapping_all_regions.npy\"\n",
      "aws s3 cp \"/media/yuncong/BstemAtlasData/CSHL_data_processed/ChatCryoJane201710/ChatCryoJane201710_intensity_mapping/ChatCryoJane201710_slide40-S2_to_ChatCryoJane201710_slide39-S2_region_bboxes.npy\" \"s3://mousebrainatlas-data/CSHL_data_processed/ChatCryoJane201710/ChatCryoJane201710_intensity_mapping/ChatCryoJane201710_slide40-S2_to_ChatCryoJane201710_slide39-S2_region_bboxes.npy\"\n"
     ]
    },
    {
     "name": "stderr",
     "output_type": "stream",
     "text": [
      "ntb 118, ntb 119\n",
      "Load NTB1: 0.00 seconds.\n",
      "Load NTB2: 0.00 seconds.\n"
     ]
    },
    {
     "name": "stdout",
     "output_type": "stream",
     "text": [
      "Region 0: x=6439, y=8407, w=2000, h=2000\n",
      "convert /media/yuncong/BstemAtlasData/CSHL_data_processed/ChatCryoJane201710/ChatCryoJane201710_prep2_lossless_Ntb/ChatCryoJane201710_slide40-S2_prep2_lossless_Ntb.tif -crop 2000x2000+6439+8407 /tmp/tmp.tif\n",
      "convert /media/yuncong/BstemAtlasData/CSHL_data_processed/ChatCryoJane201710/ChatCryoJane201710_prep2_lossless_Ntb/ChatCryoJane201710_slide39-S3_prep2_lossless_Ntb.tif -crop 2000x2000+6439+8407 /tmp/tmp.tif\n",
      "Region 1: x=15603, y=11046, w=2000, h=2000\n",
      "convert /media/yuncong/BstemAtlasData/CSHL_data_processed/ChatCryoJane201710/ChatCryoJane201710_prep2_lossless_Ntb/ChatCryoJane201710_slide40-S2_prep2_lossless_Ntb.tif -crop 2000x2000+15603+11046 /tmp/tmp.tif\n",
      "convert /media/yuncong/BstemAtlasData/CSHL_data_processed/ChatCryoJane201710/ChatCryoJane201710_prep2_lossless_Ntb/ChatCryoJane201710_slide39-S3_prep2_lossless_Ntb.tif -crop 2000x2000+15603+11046 /tmp/tmp.tif\n",
      "Region 2: x=9111, y=10768, w=2000, h=2000\n",
      "convert /media/yuncong/BstemAtlasData/CSHL_data_processed/ChatCryoJane201710/ChatCryoJane201710_prep2_lossless_Ntb/ChatCryoJane201710_slide40-S2_prep2_lossless_Ntb.tif -crop 2000x2000+9111+10768 /tmp/tmp.tif\n",
      "convert /media/yuncong/BstemAtlasData/CSHL_data_processed/ChatCryoJane201710/ChatCryoJane201710_prep2_lossless_Ntb/ChatCryoJane201710_slide39-S3_prep2_lossless_Ntb.tif -crop 2000x2000+9111+10768 /tmp/tmp.tif\n",
      "Region 3: x=6501, y=10760, w=2000, h=2000\n",
      "convert /media/yuncong/BstemAtlasData/CSHL_data_processed/ChatCryoJane201710/ChatCryoJane201710_prep2_lossless_Ntb/ChatCryoJane201710_slide40-S2_prep2_lossless_Ntb.tif -crop 2000x2000+6501+10760 /tmp/tmp.tif\n",
      "convert /media/yuncong/BstemAtlasData/CSHL_data_processed/ChatCryoJane201710/ChatCryoJane201710_prep2_lossless_Ntb/ChatCryoJane201710_slide39-S3_prep2_lossless_Ntb.tif -crop 2000x2000+6501+10760 /tmp/tmp.tif\n",
      "Region 4: x=9179, y=6537, w=2000, h=2000\n",
      "convert /media/yuncong/BstemAtlasData/CSHL_data_processed/ChatCryoJane201710/ChatCryoJane201710_prep2_lossless_Ntb/ChatCryoJane201710_slide40-S2_prep2_lossless_Ntb.tif -crop 2000x2000+9179+6537 /tmp/tmp.tif\n",
      "convert /media/yuncong/BstemAtlasData/CSHL_data_processed/ChatCryoJane201710/ChatCryoJane201710_prep2_lossless_Ntb/ChatCryoJane201710_slide39-S3_prep2_lossless_Ntb.tif -crop 2000x2000+9179+6537 /tmp/tmp.tif\n",
      "Region 5: x=18431, y=13448, w=2000, h=2000\n",
      "convert /media/yuncong/BstemAtlasData/CSHL_data_processed/ChatCryoJane201710/ChatCryoJane201710_prep2_lossless_Ntb/ChatCryoJane201710_slide40-S2_prep2_lossless_Ntb.tif -crop 2000x2000+18431+13448 /tmp/tmp.tif\n",
      "convert /media/yuncong/BstemAtlasData/CSHL_data_processed/ChatCryoJane201710/ChatCryoJane201710_prep2_lossless_Ntb/ChatCryoJane201710_slide39-S3_prep2_lossless_Ntb.tif -crop 2000x2000+18431+13448 /tmp/tmp.tif\n",
      "Region 6: x=3437, y=5076, w=2000, h=2000\n",
      "convert /media/yuncong/BstemAtlasData/CSHL_data_processed/ChatCryoJane201710/ChatCryoJane201710_prep2_lossless_Ntb/ChatCryoJane201710_slide40-S2_prep2_lossless_Ntb.tif -crop 2000x2000+3437+5076 /tmp/tmp.tif\n",
      "convert /media/yuncong/BstemAtlasData/CSHL_data_processed/ChatCryoJane201710/ChatCryoJane201710_prep2_lossless_Ntb/ChatCryoJane201710_slide39-S3_prep2_lossless_Ntb.tif -crop 2000x2000+3437+5076 /tmp/tmp.tif\n",
      "Region 7: x=17066, y=12224, w=2000, h=2000\n",
      "convert /media/yuncong/BstemAtlasData/CSHL_data_processed/ChatCryoJane201710/ChatCryoJane201710_prep2_lossless_Ntb/ChatCryoJane201710_slide40-S2_prep2_lossless_Ntb.tif -crop 2000x2000+17066+12224 /tmp/tmp.tif\n",
      "convert /media/yuncong/BstemAtlasData/CSHL_data_processed/ChatCryoJane201710/ChatCryoJane201710_prep2_lossless_Ntb/ChatCryoJane201710_slide39-S3_prep2_lossless_Ntb.tif -crop 2000x2000+17066+12224 /tmp/tmp.tif\n",
      "Region 8: x=7823, y=6458, w=2000, h=2000\n",
      "convert /media/yuncong/BstemAtlasData/CSHL_data_processed/ChatCryoJane201710/ChatCryoJane201710_prep2_lossless_Ntb/ChatCryoJane201710_slide40-S2_prep2_lossless_Ntb.tif -crop 2000x2000+7823+6458 /tmp/tmp.tif\n",
      "convert /media/yuncong/BstemAtlasData/CSHL_data_processed/ChatCryoJane201710/ChatCryoJane201710_prep2_lossless_Ntb/ChatCryoJane201710_slide39-S3_prep2_lossless_Ntb.tif -crop 2000x2000+7823+6458 /tmp/tmp.tif\n",
      "Region 9: x=11245, y=3203, w=2000, h=2000\n",
      "convert /media/yuncong/BstemAtlasData/CSHL_data_processed/ChatCryoJane201710/ChatCryoJane201710_prep2_lossless_Ntb/ChatCryoJane201710_slide40-S2_prep2_lossless_Ntb.tif -crop 2000x2000+11245+3203 /tmp/tmp.tif\n",
      "convert /media/yuncong/BstemAtlasData/CSHL_data_processed/ChatCryoJane201710/ChatCryoJane201710_prep2_lossless_Ntb/ChatCryoJane201710_slide39-S3_prep2_lossless_Ntb.tif -crop 2000x2000+11245+3203 /tmp/tmp.tif\n",
      "aws s3 cp \"/media/yuncong/BstemAtlasData/CSHL_data_processed/ChatCryoJane201710/ChatCryoJane201710_intensity_mapping/ChatCryoJane201710_slide39-S3_to_ChatCryoJane201710_slide40-S2_intensity_mapping_all_regions.npy\" \"s3://mousebrainatlas-data/CSHL_data_processed/ChatCryoJane201710/ChatCryoJane201710_intensity_mapping/ChatCryoJane201710_slide39-S3_to_ChatCryoJane201710_slide40-S2_intensity_mapping_all_regions.npy\"\n",
      "aws s3 cp \"/media/yuncong/BstemAtlasData/CSHL_data_processed/ChatCryoJane201710/ChatCryoJane201710_intensity_mapping/ChatCryoJane201710_slide39-S3_to_ChatCryoJane201710_slide40-S2_region_bboxes.npy\" \"s3://mousebrainatlas-data/CSHL_data_processed/ChatCryoJane201710/ChatCryoJane201710_intensity_mapping/ChatCryoJane201710_slide39-S3_to_ChatCryoJane201710_slide40-S2_region_bboxes.npy\"\n"
     ]
    },
    {
     "name": "stderr",
     "output_type": "stream",
     "text": [
      "ntb 119, ntb 120\n",
      "Load NTB1: 0.00 seconds.\n",
      "Load NTB2: 0.00 seconds.\n"
     ]
    },
    {
     "name": "stdout",
     "output_type": "stream",
     "text": [
      "Region 0: x=10512, y=13301, w=2000, h=2000\n",
      "convert /media/yuncong/BstemAtlasData/CSHL_data_processed/ChatCryoJane201710/ChatCryoJane201710_prep2_lossless_Ntb/ChatCryoJane201710_slide39-S3_prep2_lossless_Ntb.tif -crop 2000x2000+10512+13301 /tmp/tmp.tif\n",
      "convert /media/yuncong/BstemAtlasData/CSHL_data_processed/ChatCryoJane201710/ChatCryoJane201710_prep2_lossless_Ntb/ChatCryoJane201710_slide40-S3_prep2_lossless_Ntb.tif -crop 2000x2000+10512+13301 /tmp/tmp.tif\n",
      "Region 1: x=6328, y=724, w=2000, h=2000\n",
      "convert /media/yuncong/BstemAtlasData/CSHL_data_processed/ChatCryoJane201710/ChatCryoJane201710_prep2_lossless_Ntb/ChatCryoJane201710_slide39-S3_prep2_lossless_Ntb.tif -crop 2000x2000+6328+724 /tmp/tmp.tif\n",
      "convert /media/yuncong/BstemAtlasData/CSHL_data_processed/ChatCryoJane201710/ChatCryoJane201710_prep2_lossless_Ntb/ChatCryoJane201710_slide40-S3_prep2_lossless_Ntb.tif -crop 2000x2000+6328+724 /tmp/tmp.tif\n",
      "Region 2: x=8854, y=1331, w=2000, h=2000\n",
      "convert /media/yuncong/BstemAtlasData/CSHL_data_processed/ChatCryoJane201710/ChatCryoJane201710_prep2_lossless_Ntb/ChatCryoJane201710_slide39-S3_prep2_lossless_Ntb.tif -crop 2000x2000+8854+1331 /tmp/tmp.tif\n",
      "convert /media/yuncong/BstemAtlasData/CSHL_data_processed/ChatCryoJane201710/ChatCryoJane201710_prep2_lossless_Ntb/ChatCryoJane201710_slide40-S3_prep2_lossless_Ntb.tif -crop 2000x2000+8854+1331 /tmp/tmp.tif\n",
      "Region 3: x=1065, y=6146, w=2000, h=2000\n",
      "convert /media/yuncong/BstemAtlasData/CSHL_data_processed/ChatCryoJane201710/ChatCryoJane201710_prep2_lossless_Ntb/ChatCryoJane201710_slide39-S3_prep2_lossless_Ntb.tif -crop 2000x2000+1065+6146 /tmp/tmp.tif\n",
      "convert /media/yuncong/BstemAtlasData/CSHL_data_processed/ChatCryoJane201710/ChatCryoJane201710_prep2_lossless_Ntb/ChatCryoJane201710_slide40-S3_prep2_lossless_Ntb.tif -crop 2000x2000+1065+6146 /tmp/tmp.tif\n",
      "Region 4: x=17413, y=14553, w=2000, h=2000\n",
      "convert /media/yuncong/BstemAtlasData/CSHL_data_processed/ChatCryoJane201710/ChatCryoJane201710_prep2_lossless_Ntb/ChatCryoJane201710_slide39-S3_prep2_lossless_Ntb.tif -crop 2000x2000+17413+14553 /tmp/tmp.tif\n",
      "convert /media/yuncong/BstemAtlasData/CSHL_data_processed/ChatCryoJane201710/ChatCryoJane201710_prep2_lossless_Ntb/ChatCryoJane201710_slide40-S3_prep2_lossless_Ntb.tif -crop 2000x2000+17413+14553 /tmp/tmp.tif\n",
      "Region 5: x=8428, y=14370, w=2000, h=2000\n",
      "convert /media/yuncong/BstemAtlasData/CSHL_data_processed/ChatCryoJane201710/ChatCryoJane201710_prep2_lossless_Ntb/ChatCryoJane201710_slide39-S3_prep2_lossless_Ntb.tif -crop 2000x2000+8428+14370 /tmp/tmp.tif\n"
     ]
    }
   ],
   "source": [
    "# ntb1_to_ntb2_mapping_allPairs_allRegions = defaultdict(list)\n",
    "# bbox_allPairs_allRegions = defaultdict(list)\n",
    "\n",
    "# for ntb1_sec, ntb2_sec in compare_pairs[40:41]:\n",
    "# for ntb1_sec, ntb2_sec in compare_pairs[::10]:\n",
    "for ntb1_sec, ntb2_sec in compare_pairs:\n",
    "    \n",
    "    sys.stderr.write('ntb %d, ntb %d\\n' % (ntb1_sec, ntb2_sec))\n",
    "    \n",
    "    ntb_matched_values_all_examples_one_section = []\n",
    "    region_bboxes_all_examples_one_section = []\n",
    "    \n",
    "    ntb1_tb_mask = DataManager.load_thumbnail_mask_v3(stack=stack, section=ntb1_sec, prep_id=2)\n",
    "    w, h = metadata_cache['image_shape'][stack]\n",
    "\n",
    "    if stack == 'ChatCryoJane201710':\n",
    "         # too large to load\n",
    "        t = time.time()\n",
    "#         ntb1_im = DataManager.load_image_v2(stack=stack, section=ntb1_sec, prep_id=2, resol='lossless', version='Ntb')\n",
    "        sys.stderr.write('Load NTB1: %.2f seconds.\\n' % (time.time()-t))\n",
    "\n",
    "        t = time.time()\n",
    "#         ntb2_im = DataManager.load_image_v2(stack=stack, section=ntb2_sec, prep_id=2, resol='lossless', version='Ntb')\n",
    "        sys.stderr.write('Load NTB2: %.2f seconds.\\n' % (time.time()-t))\n",
    "\n",
    "    else:    \n",
    "        t = time.time()\n",
    "        ntb1_im = DataManager.load_image_v2(stack=stack, section=ntb1_sec, prep_id=2, resol='lossless')\n",
    "        sys.stderr.write('Load NTB1: %.2f seconds.\\n' % (time.time()-t))\n",
    "\n",
    "        t = time.time()\n",
    "        ntb2_im = DataManager.load_image_v2(stack=stack, section=ntb2_sec, prep_id=2, resol='lossless')\n",
    "        sys.stderr.write('Load NTB2: %.2f seconds.\\n' % (time.time()-t))\n",
    "    \n",
    "    for region_id in range(10):\n",
    "        while True:\n",
    "            region_w = 2000\n",
    "            region_h = 2000\n",
    "            region_x = np.random.randint(0, w - region_w, 1)[0]\n",
    "            region_y = np.random.randint(0, h - region_h, 1)[0]\n",
    "            \n",
    "            tb_region_xmin = region_x / 32\n",
    "            tb_region_xmax = (region_x + region_w) / 32\n",
    "            tb_region_ymin = region_y / 32\n",
    "            tb_region_ymax = (region_y + region_h) / 32\n",
    "            \n",
    "            if np.all(np.r_[ntb1_tb_mask[tb_region_ymin, tb_region_xmin],\n",
    "            ntb1_tb_mask[tb_region_ymin, tb_region_xmax],\n",
    "            ntb1_tb_mask[tb_region_ymax, tb_region_xmin],\n",
    "            ntb1_tb_mask[tb_region_ymax, tb_region_xmax]]):\n",
    "                break\n",
    "        \n",
    "        print \"Region %d: x=%d, y=%d, w=%d, h=%d\" % (region_id, region_x, region_y, region_w, region_h)\n",
    "    \n",
    "        # Checked a few sections, maximal intensity value in blue channel is less than 5000.\n",
    "        if stack == 'ChatCryoJane201710':\n",
    "            ntb_blue_bins = np.arange(65536)\n",
    "            \n",
    "            ntb1_im_fp = DataManager.get_image_filepath_v2(stack=stack, section=ntb1_sec, prep_id=2, resol='lossless', version='Ntb')\n",
    "            execute_command( \"\"\"convert %(im_fp)s -crop %(w)dx%(h)d+%(x)d+%(y)d /tmp/tmp.tif\"\"\" % \\\n",
    "                           {'im_fp': ntb1_im_fp, 'w':region_w, 'h':region_h, 'x':region_x, 'y':region_y})\n",
    "            ntb1_blue_region = imread('/tmp/tmp.tif')\n",
    "\n",
    "            ntb2_im_fp = DataManager.get_image_filepath_v2(stack=stack, section=ntb2_sec, prep_id=2, resol='lossless', version='Ntb')\n",
    "            execute_command( \"\"\"convert %(im_fp)s -crop %(w)dx%(h)d+%(x)d+%(y)d /tmp/tmp.tif\"\"\" % \\\n",
    "                           {'im_fp': ntb2_im_fp, 'w':region_w, 'h':region_h, 'x':region_x, 'y':region_y})\n",
    "            ntb2_blue_region = imread('/tmp/tmp.tif')\n",
    "            \n",
    "#             ntb1_blue_region = ntb1_im[region_y:region_y+region_h, region_x:region_x+region_w].astype(np.int)\n",
    "    #         ntb1_blue_hist = np.histogram(ntb1_blue_region.flatten(), bins=np.r_[ntb_blue_bins, 5001])[0]\n",
    "#             ntb2_blue_region = ntb2_im[region_y:region_y+region_h, region_x:region_x+region_w].astype(np.int)\n",
    "    #         ntb2_blue_hist = np.histogram(ntb2_blue_region.flatten(), bins=np.r_[ntb_blue_bins, 5001])[0]\n",
    "        else:\n",
    "            ntb_blue_bins = np.arange(5001)            \n",
    "            ntb1_blue_region = ntb1_im[region_y:region_y+region_h, region_x:region_x+region_w, 2].astype(np.int)\n",
    "    #         ntb1_blue_hist = np.histogram(ntb1_blue_region.flatten(), bins=np.r_[ntb_blue_bins, 5001])[0]\n",
    "            ntb2_blue_region = ntb2_im[region_y:region_y+region_h, region_x:region_x+region_w, 2].astype(np.int)\n",
    "    #         ntb2_blue_hist = np.histogram(ntb2_blue_region.flatten(), bins=np.r_[ntb_blue_bins, 5001])[0]\n",
    "\n",
    "        ###############\n",
    "\n",
    "        # Matched mapping    \n",
    "        ntb2_vals, ntb1_vals = match_histogram(ntb2_blue_region, ntb1_blue_region)\n",
    "        ntb2_to_ntb1_mapping = np.interp(ntb_blue_bins, ntb2_vals, ntb1_vals, left=np.nan, right=np.nan)\n",
    "#         ntb2_to_ntb1_mapping = np.round(ntb2_to_ntb1_mapping).astype(np.int)\n",
    "\n",
    "#         ntb2_region_normalized = ntb2_to_ntb1_mapping[ntb2_blue_region]\n",
    "#         ntb2_blue_normalized_hist = np.histogram(ntb2_region_normalized.flatten(), bins=np.r_[ntb_blue_bins, 5001])[0]\n",
    "    \n",
    "        ######################\n",
    "    \n",
    "        ntb_matched_values_all_examples_one_section.append(ntb2_to_ntb1_mapping)\n",
    "        region_bboxes_all_examples_one_section.append((region_x, region_y, region_w, region_h))\n",
    "    \n",
    "#         ntb1_to_ntb2_mapping_allPairs_allRegions[(ntb1_sec, ntb2_sec)].append(ntb1_to_ntb2_mapping)\n",
    "#         bbox_allPairs_allRegions[(ntb1_sec, ntb2_sec)].append((region_x, region_y, region_w, region_h))\n",
    "        \n",
    "        ######################\n",
    "        \n",
    "#         plt.figure()\n",
    "#         plt.plot(ntb_blue_bins, ntb1_to_ntb2_mapping);\n",
    "#         plt.xlim((0,2000));\n",
    "#         plt.axis('equal');\n",
    "#         plt.show();\n",
    "        \n",
    "        #####################\n",
    "        \n",
    "#         fig, axes = plt.subplots(nrows=3, sharex=True, figsize=(20,6))\n",
    "\n",
    "#         axes[0].bar(ntb_blue_bins, np.log(ntb1_blue_hist));\n",
    "#         axes[0].set_ylabel('Log Number of pixels');\n",
    "#         axes[0].set_title('Neurotrace Blue 1 inverted Intensity Histogram');\n",
    "\n",
    "#         axes[1].bar(ntb_blue_bins, np.log(ntb1_blue_normalized_hist));\n",
    "#         axes[1].set_ylabel('Log Number of pixels');\n",
    "#         axes[1].set_title('Neurotrace Blue 1 normalized inverted Intensity Histogram');\n",
    "        \n",
    "#         axes[2].bar(ntb_blue_bins, np.log(ntb2_blue_hist));\n",
    "#         axes[2].set_ylabel('Log Number of pixels');\n",
    "#         axes[2].set_title('Neurotrace Blue 2 inverted Intensity Histogram');\n",
    "\n",
    "#         plt.show();\n",
    "        \n",
    "        #######################\n",
    "    \n",
    "#         # Default mapping from NTB to NISSL\n",
    "#         intensity_mapping_fp = DataManager.get_ntb_to_nissl_intensity_profile_mapping_filepath()\n",
    "#         download_from_s3(intensity_mapping_fp)\n",
    "#         default_ntb_to_nissl_mapping = np.load(intensity_mapping_fp)\n",
    "        \n",
    "#         ###########\n",
    "#         ntb1_region_normalized_default = np.round(default_ntb_to_nissl_mapping[ntb1_blue_region]).astype(np.uint8)        \n",
    "#         ntb1_blue_normalized_bins_default = np.arange(0, 257)\n",
    "#         ntb1_blue_normalized_hist_default = np.histogram(ntb1_region_normalized_default.flatten(), bins=np.r_[ntb1_blue_normalized_bins_default, 5001])[0]\n",
    "#         ###########\n",
    "#         ntb2_region_normalized_default = np.round(default_ntb_to_nissl_mapping[ntb2_blue_region]).astype(np.uint8)        \n",
    "#         ntb2_blue_normalized_bins_default = np.arange(0, 257)\n",
    "#         ntb2_blue_normalized_hist_default = np.histogram(ntb1_region_normalized_default.flatten(), bins=np.r_[ntb2_blue_normalized_bins_default, 5001])[0]\n",
    "#         ###########\n",
    "#         ntb1matched_region_normalized_default = np.round(default_ntb_to_nissl_mapping[ntb1_region_normalized]).astype(np.uint8)\n",
    "#         ntb1matched_blue_normalized_bins_default = np.arange(0, 257)\n",
    "#         ntb1matched_blue_normalized_hist_default = np.histogram(ntb1matched_region_normalized_default.flatten(), bins=np.r_[ntb1matched_blue_normalized_bins_default, 5001])[0]      \n",
    "#         ##################\n",
    "        \n",
    "#         display_images_in_grids([ntb1_region_normalized_default, ntb1matched_region_normalized_default, ntb2_region_normalized_default], nc=3, \n",
    "#                         cmap=plt.cm.gray, vmin=0, vmax=255, titles=['ntb1',  'ntb1 matched to mtb2', 'ntb2'])\n",
    "\n",
    "#         display_images_in_grids([ntb1_blue_region, ntb2_blue_region, ntb1_region_normalized], 3, vmin=0, vmax=3000)\n",
    "\n",
    "\n",
    "    fp = os.path.join(THUMBNAIL_DATA_DIR, stack, stack + '_intensity_mapping', '%s_to_%s_intensity_mapping_all_regions.npy' % (metadata_cache['sections_to_filenames'][stack][ntb2_sec], metadata_cache['sections_to_filenames'][stack][ntb1_sec]))\n",
    "    create_parent_dir_if_not_exists(fp)\n",
    "    np.save(fp, ntb_matched_values_all_examples_one_section)\n",
    "    upload_to_s3(fp, local_root=THUMBNAIL_DATA_ROOTDIR)\n",
    "        \n",
    "    fp = os.path.join(THUMBNAIL_DATA_DIR, stack, stack + '_intensity_mapping', '%s_to_%s_region_bboxes.npy' % (metadata_cache['sections_to_filenames'][stack][ntb2_sec], metadata_cache['sections_to_filenames'][stack][ntb1_sec]))\n",
    "    np.save(fp,  np.asarray(region_bboxes_all_examples_one_section))\n",
    "    upload_to_s3(fp, local_root=THUMBNAIL_DATA_ROOTDIR)"
   ]
  },
  {
   "cell_type": "code",
   "execution_count": null,
   "metadata": {
    "collapsed": true
   },
   "outputs": [],
   "source": [
    "for (ntb1_sec, ntb2_sec), mappings in sorted(ntb1_to_ntb2_mapping_allPairs_allRegions.items()):\n",
    "    plt.figure(figsize=(10,10));\n",
    "    plt.plot(np.array(mappings).T);\n",
    "    plt.plot(np.arange(0,2000), np.arange(0,2000), c='k');\n",
    "    plt.title(\"%d, %d\" % (ntb1_sec, ntb2_sec));\n",
    "    plt.xlabel('NTB1 intensity');\n",
    "    plt.ylabel('NTB1 matched to NTB2 intensity');\n",
    "#     plt.xticks([0,500,1000]);\n",
    "    plt.xlim([0,2000]);\n",
    "    plt.ylim([0,2000]);\n",
    "    plt.axis('equal');\n",
    "    plt.show();"
   ]
  },
  {
   "cell_type": "markdown",
   "metadata": {},
   "source": [
    "# Scanning windows"
   ]
  },
  {
   "cell_type": "code",
   "execution_count": null,
   "metadata": {
    "collapsed": true
   },
   "outputs": [],
   "source": [
    "region_size = 2000\n",
    "spacing = 500"
   ]
  },
  {
   "cell_type": "code",
   "execution_count": null,
   "metadata": {
    "collapsed": true,
    "scrolled": true
   },
   "outputs": [],
   "source": [
    "ntb1_to_ntb2_mapping_allPairs_allRegions = defaultdict(list)\n",
    "bbox_allPairs_allRegions = defaultdict(list)\n",
    "\n",
    "for ntb1_sec, ntb2_sec in compare_pairs[144:145]:\n",
    "# for ntb1_sec, ntb2_sec in compare_pairs:\n",
    "    \n",
    "    sys.stderr.write('ntb %d, ntb %d\\n' % (ntb1_sec, ntb2_sec))\n",
    "    \n",
    "    ntb_matched_values_all_examples_one_section = []\n",
    "    region_bboxes_all_examples_one_section = []\n",
    "    \n",
    "    ntb1_tb_mask = DataManager.load_thumbnail_mask_v3(stack=stack, section=ntb1_sec, prep_id=2)\n",
    "    w, h = metadata_cache['image_shape'][stack]\n",
    "\n",
    "    t = time.time()\n",
    "    ntb1_im = DataManager.load_image_v2(stack=stack, section=ntb1_sec, prep_id=2, resol='lossless')\n",
    "    sys.stderr.write('Load NTB1: %.2f seconds.\\n' % (time.time()-t))\n",
    "\n",
    "    t = time.time()\n",
    "    ntb2_im = DataManager.load_image_v2(stack=stack, section=ntb2_sec, prep_id=2, resol='lossless')\n",
    "    sys.stderr.write('Load NTB2: %.2f seconds.\\n' % (time.time()-t))\n",
    "    \n",
    "    region_w = region_size\n",
    "    region_h = region_size\n",
    "    for region_x in np.arange(0, w - region_w, spacing):\n",
    "        for region_y in np.arange(0, h - region_h, spacing):\n",
    "            tb_region_xmin = region_x / 32\n",
    "            tb_region_xmax = (region_x + region_w) / 32\n",
    "            tb_region_ymin = region_y / 32\n",
    "            tb_region_ymax = (region_y + region_h) / 32\n",
    "\n",
    "            if np.all(np.r_[ntb1_tb_mask[tb_region_ymin, tb_region_xmin],\n",
    "                            ntb1_tb_mask[tb_region_ymin, tb_region_xmax],\n",
    "                            ntb1_tb_mask[tb_region_ymax, tb_region_xmin],\n",
    "                            ntb1_tb_mask[tb_region_ymax, tb_region_xmax]]):\n",
    "                bbox_allPairs_allRegions[(ntb1_sec, ntb2_sec)].append((region_x, region_y, region_w, region_h))\n",
    "    print len(bbox_allPairs_allRegions[(ntb1_sec, ntb2_sec)]), 'regions'\n",
    "    \n",
    "    for (region_x, region_y, region_w, region_h) in bbox_allPairs_allRegions[(ntb1_sec, ntb2_sec)]:\n",
    "        \n",
    "        sys.stderr.write('%d %d %d %d\\n' % (region_x, region_y, region_w, region_h))\n",
    "\n",
    "        # Checked a few sections, maximal intensity value in blue channel is less than 5000.\n",
    "        ntb_blue_bins = np.arange(5001)\n",
    "    \n",
    "        ####\n",
    "        ntb1_blue_region = ntb1_im[region_y:region_y+region_h, region_x:region_x+region_w, 2].astype(np.int)\n",
    "        ntb1_blue_hist = np.histogram(ntb1_blue_region.flatten(), bins=np.r_[ntb_blue_bins, 5001])[0]\n",
    "        ####\n",
    "        ntb2_blue_region = ntb2_im[region_y:region_y+region_h, region_x:region_x+region_w, 2].astype(np.int)\n",
    "        ntb2_blue_hist = np.histogram(ntb2_blue_region.flatten(), bins=np.r_[ntb_blue_bins, 5001])[0]\n",
    "\n",
    "        ###############\n",
    "\n",
    "        # Matched mapping    \n",
    "        ntb1_vals, ntb2_vals = match_histogram(ntb1_blue_region, ntb2_blue_region)\n",
    "        ntb1_to_ntb2_mapping = np.interp(ntb_blue_bins, ntb1_vals, ntb2_vals)\n",
    "        ntb1_to_ntb2_mapping = np.round(ntb1_to_ntb2_mapping).astype(np.int)\n",
    "\n",
    "        ntb1_region_normalized = ntb1_to_ntb2_mapping[ntb1_blue_region]\n",
    "        ntb1_blue_normalized_hist = np.histogram(ntb1_region_normalized.flatten(), bins=np.r_[ntb_blue_bins, 5001])[0]\n",
    "    \n",
    "        ######################\n",
    "    \n",
    "        ntb1_to_ntb2_mapping_allPairs_allRegions[(ntb1_sec, ntb2_sec)].append(ntb1_to_ntb2_mapping)\n",
    "#         bbox_allPairs_allRegions[(ntb1_sec, ntb2_sec)].append((region_x, region_y, region_w, region_h))\n",
    "        \n",
    "        ######################"
   ]
  },
  {
   "cell_type": "code",
   "execution_count": null,
   "metadata": {
    "collapsed": true
   },
   "outputs": [],
   "source": [
    "from scipy.ndimage.interpolation import map_coordinates\n",
    "from mpl_toolkits.axes_grid1 import make_axes_locatable"
   ]
  },
  {
   "cell_type": "code",
   "execution_count": null,
   "metadata": {
    "collapsed": true,
    "scrolled": true
   },
   "outputs": [],
   "source": [
    "for (ntb1_sec, ntb2_sec) in ntb1_to_ntb2_mapping_allPairs_allRegions.keys():\n",
    "    \n",
    "    mapping_distributions = {}\n",
    "    \n",
    "    for v in np.arange(0,2000,100):\n",
    "        print v\n",
    "        vals_allRegions = np.array(ntb1_to_ntb2_mapping_allPairs_allRegions[(ntb1_sec, ntb2_sec)])[:,v]\n",
    "        xy_allRegions = np.array(bbox_allPairs_allRegions[(ntb1_sec, ntb2_sec)])[:, :2]\n",
    "        cxy_allRegions = xy_allRegions + np.array([1000,1000])\n",
    "\n",
    "        downscale = 3\n",
    "\n",
    "        downscaled_grid_y = np.arange(0, h, downscale)\n",
    "        downscaled_grid_x = np.arange(0, w, downscale)\n",
    "        downscaled_ny = len(downscaled_grid_y)\n",
    "        downscaled_nx = len(downscaled_grid_x)\n",
    "\n",
    "        half_size = region_size / 2\n",
    "\n",
    "        f_grid = np.zeros(((h-half_size)/spacing+1, (w-half_size)/spacing+1))\n",
    "        a = (cxy_allRegions - half_size)/spacing\n",
    "        f_grid[a[:,1], a[:,0]] = vals_allRegions\n",
    "\n",
    "        yinterps = (downscaled_grid_y - half_size)/float(spacing)\n",
    "        xinterps = (downscaled_grid_x - half_size)/float(spacing)\n",
    "\n",
    "        points_y, points_x = np.broadcast_arrays(yinterps.reshape(-1,1), xinterps)\n",
    "        coord = np.c_[points_y.flat, points_x.flat]\n",
    "        f_interp = map_coordinates(f_grid, coord.T, order=3)\n",
    "        f_interp_2d = f_interp.reshape((downscaled_ny, downscaled_nx))\n",
    "        \n",
    "        mapping_distributions[v] = f_interp_2d\n",
    "        \n",
    "        #############\n",
    "        \n",
    "#         plt.figure(figsize=(20, 20));\n",
    "#         ax = plt.gca()\n",
    "#         im = ax.imshow(f_interp_2d, cmap=plt.cm.jet);\n",
    "#         divider = make_axes_locatable(ax)\n",
    "#         cax = divider.append_axes(\"right\", size=\"5%\", pad=0.05)\n",
    "#         plt.colorbar(im, cax=cax);\n",
    "#         plt.show();"
   ]
  },
  {
   "cell_type": "code",
   "execution_count": null,
   "metadata": {
    "collapsed": true
   },
   "outputs": [],
   "source": [
    "v = 1000\n",
    "\n",
    "plt.figure(figsize=(20, 20));\n",
    "ax = plt.gca()\n",
    "im = ax.imshow(mapping_distributions[v], cmap=plt.cm.jet);\n",
    "divider = make_axes_locatable(ax)\n",
    "cax = divider.append_axes(\"right\", size=\"5%\", pad=0.05)\n",
    "plt.colorbar(im, cax=cax);\n",
    "plt.title('mapped-to intensity for %d' % v)\n",
    "plt.show();"
   ]
  },
  {
   "cell_type": "markdown",
   "metadata": {},
   "source": [
    "# Compare different normalization strategies"
   ]
  },
  {
   "cell_type": "code",
   "execution_count": null,
   "metadata": {
    "collapsed": true
   },
   "outputs": [],
   "source": [
    "stack = 'MD661'\n",
    "sec2fn = metadata_cache['sections_to_filenames'][stack]"
   ]
  },
  {
   "cell_type": "code",
   "execution_count": null,
   "metadata": {
    "collapsed": true
   },
   "outputs": [],
   "source": [
    "nissl_sections = [sec for sec in metadata_cache['valid_sections'][stack] if sec2fn[sec].split('-')[1][0] == 'N']\n",
    "ntb_sections = [sec for sec in metadata_cache['valid_sections'][stack] if sec2fn[sec].split('-')[1][0] == 'F']"
   ]
  },
  {
   "cell_type": "code",
   "execution_count": null,
   "metadata": {
    "collapsed": true
   },
   "outputs": [],
   "source": [
    "# Generate ntb-ntb pairs.\n",
    "\n",
    "compare_pairs = []\n",
    "for ntb_sec in ntb_sections:\n",
    "    for i in range(1, 10):\n",
    "        closest_ntb_sec = ntb_sec + i\n",
    "        if closest_ntb_sec in ntb_sections:\n",
    "            break\n",
    "    compare_pairs.append((ntb_sec, closest_ntb_sec))"
   ]
  },
  {
   "cell_type": "code",
   "execution_count": null,
   "metadata": {
    "collapsed": true
   },
   "outputs": [],
   "source": [
    "region_size = 2000\n",
    "spacing = 10"
   ]
  },
  {
   "cell_type": "code",
   "execution_count": null,
   "metadata": {
    "collapsed": true,
    "scrolled": true
   },
   "outputs": [],
   "source": [
    "bbox_allPairs_allRegions = defaultdict(list)\n",
    "\n",
    "for ntb_sec in metadata_cache['valid_sections'][stack][100:101]:\n",
    "    \n",
    "    ntb_tb_mask = DataManager.load_thumbnail_mask_v3(stack=stack, section=ntb1_sec, prep_id=2)\n",
    "    w, h = metadata_cache['image_shape'][stack]\n",
    "\n",
    "    t = time.time()\n",
    "    ntb_im = DataManager.load_image_v2(stack=stack, section=ntb_sec, prep_id=2, resol='lossless')\n",
    "    sys.stderr.write('Load NTB: %.2f seconds.\\n' % (time.time()-t))\n",
    "\n",
    "    region_w = region_size\n",
    "    region_h = region_size\n",
    "    region_x = np.random.choice(range(0, w - region_w, spacing))\n",
    "    region_y = np.random.choice(range(0, h - region_h, spacing))\n",
    "#     for region_x in np.arange(0, w- region_w, spacing):\n",
    "#         for region_y in np.arange(0, h - region_h, spacing):\n",
    "    tb_region_xmin = region_x / 32\n",
    "    tb_region_xmax = (region_x + region_w) / 32\n",
    "    tb_region_ymin = region_y / 32\n",
    "    tb_region_ymax = (region_y + region_h) / 32\n",
    "\n",
    "    if np.all(np.r_[ntb_tb_mask[tb_region_ymin, tb_region_xmin],\n",
    "                    ntb_tb_mask[tb_region_ymin, tb_region_xmax],\n",
    "                    ntb_tb_mask[tb_region_ymax, tb_region_xmin],\n",
    "                    ntb_tb_mask[tb_region_ymax, tb_region_xmax]]):\n",
    "        bbox_allPairs_allRegions[ntb_sec].append((region_x, region_y, region_w, region_h))"
   ]
  },
  {
   "cell_type": "code",
   "execution_count": null,
   "metadata": {
    "collapsed": true
   },
   "outputs": [],
   "source": [
    "for (region_x, region_y, region_w, region_h) in bbox_allPairs_allRegions[ntb_sec]:\n",
    "\n",
    "    sys.stderr.write('%d %d %d %d\\n' % (region_x, region_y, region_w, region_h))\n",
    "    ntb_blue_region = ntb_im[region_y:region_y+region_h, region_x:region_x+region_w, 2].astype(np.int)"
   ]
  },
  {
   "cell_type": "code",
   "execution_count": null,
   "metadata": {
    "collapsed": true,
    "scrolled": true
   },
   "outputs": [],
   "source": [
    "for low in range(0, 1000, 100):\n",
    "    for high in range(100, 1000, 100):\n",
    "        if low < high:\n",
    "            nbt_region_normalized = 255 - rescale_intensity(ntb_blue_region, in_range=(0, high), out_range=np.uint8)\n",
    "\n",
    "            plt.figure(figsize=(20,20));\n",
    "            plt.imshow(nbt_region_normalized, vmin=0, vmax=255, cmap=plt.cm.gray);\n",
    "            plt.title('Low %d, high %d' % (low, high));\n",
    "            plt.show();"
   ]
  },
  {
   "cell_type": "code",
   "execution_count": null,
   "metadata": {
    "collapsed": true
   },
   "outputs": [],
   "source": [
    "plt.figure(figsize=(20,20));\n",
    "plt.imshow(region_nonlin, plt.cm.gray);\n",
    "plt.title('Neurotrace Image (nonlinearly Normalized), %s' % fn);\n",
    "plt.axis('off');\n",
    "plt.show();"
   ]
  },
  {
   "cell_type": "markdown",
   "metadata": {},
   "source": [
    "# Whole-image histogram"
   ]
  },
  {
   "cell_type": "code",
   "execution_count": null,
   "metadata": {
    "collapsed": true,
    "scrolled": true
   },
   "outputs": [],
   "source": [
    "info = {}\n",
    "for sec in range(first_sec, last_sec+1):\n",
    "    print sec\n",
    "    fn = sec2fn[sec]\n",
    "#     im = imread('/home/yuncong/csd395/CSHL_data/MD657_lossy_tif/%s_lossy.jp2.tif' % fn)[..., :3]\n",
    "    green = im[..., 1]\n",
    "    gf = green.flatten()\n",
    "    blue = im[..., 2]\n",
    "    bf = blue.flatten()\n",
    "    info[sec] = {'gmax': green.max(),\n",
    "    'bmax': blue.max(),\n",
    "    'g99.99': np.percentile(gf, 99.99),\n",
    "    'g99.999': np.percentile(gf, 99.999),\n",
    "    'g99.9999': np.percentile(gf, 99.9999),\n",
    "    'b99.99': np.percentile(bf, 99.99),\n",
    "    'b99.999': np.percentile(bf, 99.999),\n",
    "    'b99.9999': np.percentile(bf, 99.9999)}"
   ]
  },
  {
   "cell_type": "code",
   "execution_count": null,
   "metadata": {
    "collapsed": true
   },
   "outputs": [],
   "source": [
    "d = DataFrame(info).T"
   ]
  },
  {
   "cell_type": "code",
   "execution_count": null,
   "metadata": {
    "collapsed": true
   },
   "outputs": [],
   "source": [
    "plt.figure();\n",
    "plt.stem(d['b99.9999'], markerfmt='ro', label='99.9999');\n",
    "plt.stem(d['b99.999'], markerfmt='go', label='99.999');\n",
    "plt.stem(d['b99.99'], markerfmt='bo', label='99.99');\n",
    "plt.title('Blue channel percentile');\n",
    "plt.legend();\n",
    "\n",
    "plt.figure();\n",
    "plt.stem(d['g99.9999'], markerfmt='ro', label='99.9999');\n",
    "plt.stem(d['g99.999'], markerfmt='go', label='99.999');\n",
    "plt.stem(d['g99.99'], markerfmt='bo', label='99.99');\n",
    "plt.title('Green channel percentile');\n",
    "plt.legend();"
   ]
  },
  {
   "cell_type": "markdown",
   "metadata": {},
   "source": [
    "# Contrast Stretch Neurotrace Blue"
   ]
  },
  {
   "cell_type": "code",
   "execution_count": null,
   "metadata": {
    "collapsed": true
   },
   "outputs": [],
   "source": [
    "from skimage.exposure import rescale_intensity"
   ]
  },
  {
   "cell_type": "code",
   "execution_count": null,
   "metadata": {
    "collapsed": true
   },
   "outputs": [],
   "source": [
    "red = im[..., 0]\n",
    "green = im[..., 1]\n",
    "blue = im[..., 2]"
   ]
  },
  {
   "cell_type": "code",
   "execution_count": null,
   "metadata": {
    "collapsed": true
   },
   "outputs": [],
   "source": [
    "im.shape"
   ]
  },
  {
   "cell_type": "code",
   "execution_count": null,
   "metadata": {
    "collapsed": true
   },
   "outputs": [],
   "source": [
    "ys = range(1000, im.shape[0]-2000, 2000)\n",
    "xs = range(1000, im.shape[1]-2000, 2000)\n",
    "\n",
    "fig, axes = plt.subplots(int(np.ceil(len(ys)*len(xs)/5)), 5, sharex=True, sharey=True, figsize=(20, 10))\n",
    "axes = axes.flatten()\n",
    "\n",
    "c = 0\n",
    "for yi, y in enumerate(ys):\n",
    "    for xi, x in enumerate(xs):\n",
    "        b = blue[y:y+1000,x:x+1000]\n",
    "        count, left_edges = np.histogram(b.flatten(), bins=np.arange(b.min(), b.max()))\n",
    "        axes[c].bar(left_edges[:-1], np.log(count), width=.1);\n",
    "        c += 1\n",
    "        \n",
    "plt.show();"
   ]
  },
  {
   "cell_type": "code",
   "execution_count": null,
   "metadata": {
    "collapsed": true,
    "scrolled": false
   },
   "outputs": [],
   "source": [
    "ys = range(1000, im.shape[0]-2000, 2000)\n",
    "xs = range(1000, im.shape[1]-2000, 2000)\n",
    "\n",
    "fig, axes = plt.subplots(len(ys), len(xs), sharex=True, sharey=True, figsize=(20, 10))\n",
    "\n",
    "for yi, y in enumerate(ys):\n",
    "    for xi, x in enumerate(xs):\n",
    "        b = blue[y:y+1000,x:x+1000]\n",
    "        count, left_edges = np.histogram(b.flatten(), bins=np.arange(b.min(), b.max()))\n",
    "        axes[yi][xi].bar(left_edges[:-1], np.log(count), width=.1);\n",
    "        \n",
    "plt.show();"
   ]
  },
  {
   "cell_type": "code",
   "execution_count": null,
   "metadata": {
    "collapsed": true
   },
   "outputs": [],
   "source": [
    "im.shape"
   ]
  },
  {
   "cell_type": "code",
   "execution_count": null,
   "metadata": {
    "collapsed": true
   },
   "outputs": [],
   "source": [
    "y = 7000\n",
    "x = 13000\n",
    "b = blue[y:y+1000,x:x+1000]\n",
    "count, left_edges = np.histogram(b.flatten(), bins=np.arange(b.min(), b.max()))\n",
    "plt.bar(left_edges[:-1], np.log(count), width=.1);\n",
    "plt.show();"
   ]
  },
  {
   "cell_type": "code",
   "execution_count": null,
   "metadata": {
    "collapsed": true
   },
   "outputs": [],
   "source": [
    "x = 27232\n",
    "y = 14752\n",
    "w = 3552\n",
    "h = 2784"
   ]
  },
  {
   "cell_type": "code",
   "execution_count": null,
   "metadata": {
    "collapsed": true
   },
   "outputs": [],
   "source": [
    "imin_red = 0\n",
    "imax_red = 400"
   ]
  },
  {
   "cell_type": "code",
   "execution_count": null,
   "metadata": {
    "collapsed": true
   },
   "outputs": [],
   "source": [
    "red_out = rescale_intensity(im[y:y+h, x:x+w], in_range=(imin_red, imax_red), out_range=np.uint8)"
   ]
  },
  {
   "cell_type": "code",
   "execution_count": null,
   "metadata": {
    "collapsed": true
   },
   "outputs": [],
   "source": [
    "im = imread(args.input_fp)[..., :3]\n",
    "im_out = rescale_intensity(im, in_range=(args.imin, args.imax), out_range=np.uint8)\n",
    "imsave(args.output_fp, im_out)"
   ]
  },
  {
   "cell_type": "code",
   "execution_count": null,
   "metadata": {
    "collapsed": true
   },
   "outputs": [],
   "source": [
    "display_image(red_out)"
   ]
  },
  {
   "cell_type": "code",
   "execution_count": null,
   "metadata": {
    "collapsed": true
   },
   "outputs": [],
   "source": [
    "imin_blue = 0\n",
    "imax_blue = 400"
   ]
  },
  {
   "cell_type": "code",
   "execution_count": null,
   "metadata": {
    "collapsed": true
   },
   "outputs": [],
   "source": [
    "blue_out = rescale_intensity(blue[y:y+h, x:x+w], in_range=(imin_blue, imax_blue), out_range=np.uint8)"
   ]
  },
  {
   "cell_type": "code",
   "execution_count": null,
   "metadata": {
    "collapsed": true
   },
   "outputs": [],
   "source": [
    "display_image(blue_out)"
   ]
  },
  {
   "cell_type": "code",
   "execution_count": null,
   "metadata": {
    "collapsed": true
   },
   "outputs": [],
   "source": [
    "imin_green = 0\n",
    "imax_green = 400"
   ]
  },
  {
   "cell_type": "code",
   "execution_count": null,
   "metadata": {
    "collapsed": true
   },
   "outputs": [],
   "source": [
    "green_out = rescale_intensity(green[y:y+h, x:x+w], in_range=(imin_green, imax_green), out_range=np.uint8)"
   ]
  },
  {
   "cell_type": "code",
   "execution_count": null,
   "metadata": {
    "collapsed": true
   },
   "outputs": [],
   "source": [
    "display_image(green_out)"
   ]
  },
  {
   "cell_type": "code",
   "execution_count": null,
   "metadata": {
    "collapsed": true
   },
   "outputs": [],
   "source": [
    "from skimage.exposure import adjust_gamma"
   ]
  },
  {
   "cell_type": "code",
   "execution_count": null,
   "metadata": {
    "collapsed": true
   },
   "outputs": [],
   "source": [
    "blue_out_gamma = adjust_gamma(blue_out, .5)"
   ]
  },
  {
   "cell_type": "code",
   "execution_count": null,
   "metadata": {
    "collapsed": true
   },
   "outputs": [],
   "source": [
    "display_image(blue_out_gamma[8000:11000, 8000:11000])"
   ]
  },
  {
   "cell_type": "code",
   "execution_count": null,
   "metadata": {
    "collapsed": true
   },
   "outputs": [],
   "source": [
    "for sec in range(first_sec, last_sec+1, 5):\n",
    "# for sec in [132]: # example blue, random region\n",
    "# for sec in [120]: # has good green\n",
    "    \n",
    "    print sec\n",
    "    fn = sec2fn[sec]\n",
    "    im = imread('/home/yuncong/csd395/CSHL_data/MD657_lossy_tif/%s_lossy.jp2.tif' % fn)[..., :3]\n",
    "    \n",
    "#     plt.figure();\n",
    "#     count, left_edges = np.histogram(im[...,2].flatten(), bins=np.arange(im[...,2].min(), im[...,2].max()))\n",
    "#     plt.bar(left_edges[:-1], np.log(count), width=.1);\n",
    "#     plt.title('Log histogram before contrast stretching');\n",
    "#     plt.xlabel('Intensity');\n",
    "#     plt.savefig('/home/yuncong/csd395/ntb_histograms/%(fn)s_pre_stretch.png' % dict(fn=fn))\n",
    "#     plt.close();\n",
    "    \n",
    "    imin = 0\n",
    "    imax = 68\n",
    "#     imax = np.percentile(im.flatten(), 99.9999)\n",
    "#     print imax\n",
    "\n",
    "#     im_flattened = im.flatten()\n",
    "#     clip_values = {clip_perc: np.percentile(im_flattened, 100.-clip_perc) for clip_perc in [1e-4, 1e-5, 1e-6]}\n",
    "    \n",
    "#     imax = clip_values[1e-5]\n",
    "#     print imax\n",
    "\n",
    "    im_out = rescale_intensity(im[...,2], in_range=(imin, imax), out_range=np.uint8)\n",
    "    \n",
    "#     plt.figure();\n",
    "#     count, left_edges = np.histogram(im_out.flatten(), bins=np.arange(im_out.min(), im_out.max()))\n",
    "#     plt.bar(left_edges[:-1], np.log(count), width=.1);\n",
    "#     plt.title('Log histogram after contrast stretching, clip=%d' % imax);\n",
    "#     plt.xlabel('Intensity');\n",
    "#     plt.savefig('/home/yuncong/csd395/ntb_histograms/%(fn)s_post_stretch.png' % dict(fn=fn))\n",
    "#     plt.close();\n",
    "    \n",
    "    imsave('/home/yuncong/csd395/ntb_histograms/small/%(fn)s_post_stretch.tif' % dict(fn=fn), \n",
    "           im_out[::10, ::10].astype(np.uint8))\n",
    "#     imsave('/home/yuncong/csd395/ntb_histograms/crop/%(fn)s_B.tif' % dict(fn=fn), \n",
    "#            im_out[8030:8030+920, 15650:15650+1490].astype(np.uint16)) # random blue region\n",
    "#     imsave('/home/yuncong/csd395/ntb_histograms/crop/%(fn)s_G.tif' % dict(fn=fn), \n",
    "#            im_out[7863:7863+1256, 108440:10844+1303].astype(np.uint8))"
   ]
  },
  {
   "cell_type": "code",
   "execution_count": null,
   "metadata": {
    "collapsed": true
   },
   "outputs": [],
   "source": []
  }
 ],
 "metadata": {
  "kernelspec": {
   "display_name": "Python 2",
   "language": "python",
   "name": "python2"
  },
  "language_info": {
   "codemirror_mode": {
    "name": "ipython",
    "version": 2
   },
   "file_extension": ".py",
   "mimetype": "text/x-python",
   "name": "python",
   "nbconvert_exporter": "python",
   "pygments_lexer": "ipython2",
   "version": "2.7.12"
  }
 },
 "nbformat": 4,
 "nbformat_minor": 1
}
