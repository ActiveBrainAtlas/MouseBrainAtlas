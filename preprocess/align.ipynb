{
 "cells": [
  {
   "cell_type": "code",
   "execution_count": 27,
   "metadata": {
    "collapsed": false
   },
   "outputs": [
    {
     "name": "stdout",
     "output_type": "stream",
     "text": [
      "Setting environment for AWS compute node\n",
      "The autoreload extension is already loaded. To reload it, use:\n",
      "  %reload_ext autoreload\n"
     ]
    }
   ],
   "source": [
    "%load_ext autoreload\n",
    "%autoreload 2\n",
    "\n",
    "import os\n",
    "import time\n",
    "import sys\n",
    "\n",
    "sys.path.append(os.path.join(os.environ['REPO_DIR'], 'utilities'))\n",
    "from utilities2015 import *\n",
    "from metadata import *\n",
    "from data_manager import *"
   ]
  },
  {
   "cell_type": "code",
   "execution_count": 16,
   "metadata": {
    "collapsed": false,
    "scrolled": true
   },
   "outputs": [],
   "source": [
    "stack = 'MD589'\n",
    "_, sections_to_filenames = DataManager.load_sorted_filenames(stack=stack)"
   ]
  },
  {
   "cell_type": "code",
   "execution_count": 20,
   "metadata": {
    "collapsed": false
   },
   "outputs": [],
   "source": [
    "filenames = [fn for fn in sections_to_filenames.values() if not is_invalid(fn=fn)]"
   ]
  },
  {
   "cell_type": "code",
   "execution_count": 24,
   "metadata": {
    "collapsed": true
   },
   "outputs": [],
   "source": [
    "from distributed_utilities import *"
   ]
  },
  {
   "cell_type": "code",
   "execution_count": 29,
   "metadata": {
    "collapsed": false
   },
   "outputs": [
    {
     "name": "stdout",
     "output_type": "stream",
     "text": [
      "/home/ubuntu/MouseBrainAtlas/preprocess/align_consecutive_v2.py MD589 /shared/data/CSHL_data/MD589 /shared/data/CSHL_data_processed/MD589/MD589_elastix_output '[{\\\"curr_fn\\\": \\\"MD589-IHC76-2015.07.31-02.33.49_MD589_2_0227\\\", \\\"prev_fn\\\": \\\"MD589-N76-2015.08.04-08.40.03_MD589_2_0227\\\"}, {\\\"curr_fn\\\": \\\"MD589-N76-2015.08.04-08.40.03_MD589_3_0228\\\", \\\"prev_fn\\\": \\\"MD589-IHC76-2015.07.31-02.33.49_MD589_2_0227\\\"}, {\\\"curr_fn\\\": \\\"MD589-IHC76-2015.07.31-02.33.49_MD589_3_0228\\\", \\\"prev_fn\\\": \\\"MD589-N76-2015.08.04-08.40.03_MD589_3_0228\\\"}, {\\\"curr_fn\\\": \\\"MD589-N77-2015.07.30-21.13.20_MD589_1_0229\\\", \\\"prev_fn\\\": \\\"MD589-IHC76-2015.07.31-02.33.49_MD589_3_0228\\\"}, {\\\"curr_fn\\\": \\\"MD589-IHC77-2015.07.31-02.37.12_MD589_1_0229\\\", \\\"prev_fn\\\": \\\"MD589-N77-2015.07.30-21.13.20_MD589_1_0229\\\"}, {\\\"curr_fn\\\": \\\"MD589-N77-2015.07.30-21.13.20_MD589_2_0230\\\", \\\"prev_fn\\\": \\\"MD589-IHC77-2015.07.31-02.37.12_MD589_1_0229\\\"}, {\\\"curr_fn\\\": \\\"MD589-IHC77-2015.07.31-02.37.12_MD589_2_0230\\\", \\\"prev_fn\\\": \\\"MD589-N77-2015.07.30-21.13.20_MD589_2_0230\\\"}, {\\\"curr_fn\\\": \\\"MD589-N77-2015.07.30-21.13.20_MD589_3_0231\\\", \\\"prev_fn\\\": \\\"MD589-IHC77-2015.07.31-02.37.12_MD589_2_0230\\\"}, {\\\"curr_fn\\\": \\\"MD589-IHC77-2015.07.31-02.37.12_MD589_3_0231\\\", \\\"prev_fn\\\": \\\"MD589-N77-2015.07.30-21.13.20_MD589_3_0231\\\"}, {\\\"curr_fn\\\": \\\"MD589-N78-2015.07.30-21.16.39_MD589_1_0232\\\", \\\"prev_fn\\\": \\\"MD589-IHC77-2015.07.31-02.37.12_MD589_3_0231\\\"}, {\\\"curr_fn\\\": \\\"MD589-IHC78-2015.07.31-02.40.28_MD589_1_0232\\\", \\\"prev_fn\\\": \\\"MD589-N78-2015.07.30-21.16.39_MD589_1_0232\\\"}, {\\\"curr_fn\\\": \\\"MD589-N78-2015.07.30-21.16.39_MD589_2_0233\\\", \\\"prev_fn\\\": \\\"MD589-IHC78-2015.07.31-02.40.28_MD589_1_0232\\\"}, {\\\"curr_fn\\\": \\\"MD589-IHC78-2015.07.31-02.40.28_MD589_2_0233\\\", \\\"prev_fn\\\": \\\"MD589-N78-2015.07.30-21.16.39_MD589_2_0233\\\"}, {\\\"curr_fn\\\": \\\"MD589-N78-2015.07.30-21.16.39_MD589_3_0234\\\", \\\"prev_fn\\\": \\\"MD589-IHC78-2015.07.31-02.40.28_MD589_2_0233\\\"}, {\\\"curr_fn\\\": \\\"MD589-IHC78-2015.07.31-02.40.28_MD589_3_0234\\\", \\\"prev_fn\\\": \\\"MD589-N78-2015.07.30-21.16.39_MD589_3_0234\\\"}, {\\\"curr_fn\\\": \\\"MD589-N79-2015.07.30-21.19.47_MD589_1_0235\\\", \\\"prev_fn\\\": \\\"MD589-IHC78-2015.07.31-02.40.28_MD589_3_0234\\\"}, {\\\"curr_fn\\\": \\\"MD589-IHC79-2015.07.31-02.43.44_MD589_1_0235\\\", \\\"prev_fn\\\": \\\"MD589-N79-2015.07.30-21.19.47_MD589_1_0235\\\"}, {\\\"curr_fn\\\": \\\"MD589-N79-2015.07.30-21.19.47_MD589_2_0236\\\", \\\"prev_fn\\\": \\\"MD589-IHC79-2015.07.31-02.43.44_MD589_1_0235\\\"}, {\\\"curr_fn\\\": \\\"MD589-IHC79-2015.07.31-02.43.44_MD589_2_0236\\\", \\\"prev_fn\\\": \\\"MD589-N79-2015.07.30-21.19.47_MD589_2_0236\\\"}, {\\\"curr_fn\\\": \\\"MD589-N79-2015.07.30-21.19.47_MD589_3_0237\\\", \\\"prev_fn\\\": \\\"MD589-IHC79-2015.07.31-02.43.44_MD589_2_0236\\\"}, {\\\"curr_fn\\\": \\\"MD589-IHC79-2015.07.31-02.43.44_MD589_3_0237\\\", \\\"prev_fn\\\": \\\"MD589-N79-2015.07.30-21.19.47_MD589_3_0237\\\"}, {\\\"curr_fn\\\": \\\"MD589-N80-2015.07.30-21.22.59_MD589_1_0238\\\", \\\"prev_fn\\\": \\\"MD589-IHC79-2015.07.31-02.43.44_MD589_3_0237\\\"}, {\\\"curr_fn\\\": \\\"MD589-IHC80-2015.07.31-02.46.49_MD589_1_0238\\\", \\\"prev_fn\\\": \\\"MD589-N80-2015.07.30-21.22.59_MD589_1_0238\\\"}, {\\\"curr_fn\\\": \\\"MD589-N80-2015.07.30-21.22.59_MD589_2_0239\\\", \\\"prev_fn\\\": \\\"MD589-IHC80-2015.07.31-02.46.49_MD589_1_0238\\\"}, {\\\"curr_fn\\\": \\\"MD589-IHC80-2015.07.31-02.46.49_MD589_2_0239\\\", \\\"prev_fn\\\": \\\"MD589-N80-2015.07.30-21.22.59_MD589_2_0239\\\"}, {\\\"curr_fn\\\": \\\"MD589-N80-2015.07.30-21.22.59_MD589_3_0240\\\", \\\"prev_fn\\\": \\\"MD589-IHC80-2015.07.31-02.46.49_MD589_2_0239\\\"}, {\\\"curr_fn\\\": \\\"MD589-IHC80-2015.07.31-02.46.49_MD589_3_0240\\\", \\\"prev_fn\\\": \\\"MD589-N80-2015.07.30-21.22.59_MD589_3_0240\\\"}, {\\\"curr_fn\\\": \\\"MD589-N81-2015.07.30-21.26.03_MD589_1_0241\\\", \\\"prev_fn\\\": \\\"MD589-IHC80-2015.07.31-02.46.49_MD589_3_0240\\\"}, {\\\"curr_fn\\\": \\\"MD589-IHC81-2015.07.31-02.49.49_MD589_1_0241\\\", \\\"prev_fn\\\": \\\"MD589-N81-2015.07.30-21.26.03_MD589_1_0241\\\"}, {\\\"curr_fn\\\": \\\"MD589-N81-2015.07.30-21.26.03_MD589_2_0242\\\", \\\"prev_fn\\\": \\\"MD589-IHC81-2015.07.31-02.49.49_MD589_1_0241\\\"}, {\\\"curr_fn\\\": \\\"MD589-IHC81-2015.07.31-02.49.49_MD589_2_0242\\\", \\\"prev_fn\\\": \\\"MD589-N81-2015.07.30-21.26.03_MD589_2_0242\\\"}, {\\\"curr_fn\\\": \\\"MD589-N81-2015.07.30-21.26.03_MD589_3_0243\\\", \\\"prev_fn\\\": \\\"MD589-IHC81-2015.07.31-02.49.49_MD589_2_0242\\\"}, {\\\"curr_fn\\\": \\\"MD589-IHC81-2015.07.31-02.49.49_MD589_3_0243\\\", \\\"prev_fn\\\": \\\"MD589-N81-2015.07.30-21.26.03_MD589_3_0243\\\"}, {\\\"curr_fn\\\": \\\"MD589-N82-2015.07.30-21.28.40_MD589_1_0244\\\", \\\"prev_fn\\\": \\\"MD589-IHC81-2015.07.31-02.49.49_MD589_3_0243\\\"}, {\\\"curr_fn\\\": \\\"MD589-IHC82-2015.07.31-02.52.24_MD589_1_0244\\\", \\\"prev_fn\\\": \\\"MD589-N82-2015.07.30-21.28.40_MD589_1_0244\\\"}, {\\\"curr_fn\\\": \\\"MD589-N82-2015.07.30-21.28.40_MD589_2_0245\\\", \\\"prev_fn\\\": \\\"MD589-IHC82-2015.07.31-02.52.24_MD589_1_0244\\\"}, {\\\"curr_fn\\\": \\\"MD589-IHC82-2015.07.31-02.52.24_MD589_2_0245\\\", \\\"prev_fn\\\": \\\"MD589-N82-2015.07.30-21.28.40_MD589_2_0245\\\"}]' \n"
     ]
    }
   ],
   "source": [
    "run_distributed(\"%(script)s %(stack)s %(input_dir)s %(elastix_output_dir)s \\'%%(kwargs_str)s\\'\" % \\\n",
    "                {'stack': stack,\n",
    "                'script': os.path.join(REPO_DIR, 'preprocess', 'align_consecutive_v2.py'),\n",
    "                'input_dir': os.path.join(RAW_DATA_DIR, stack),\n",
    "                'elastix_output_dir': os.path.join(DATA_DIR, stack, stack+'_elastix_output')},\n",
    "                kwargs_list=[{'prev_fn': filenames[i-1], 'curr_fn': filenames[i]} for i in range(1, len(filenames))],                \n",
    "                argument_type='list')"
   ]
  }
 ],
 "metadata": {
  "kernelspec": {
   "display_name": "Python 2",
   "language": "python",
   "name": "python2"
  },
  "language_info": {
   "codemirror_mode": {
    "name": "ipython",
    "version": 2
   },
   "file_extension": ".py",
   "mimetype": "text/x-python",
   "name": "python",
   "nbconvert_exporter": "python",
   "pygments_lexer": "ipython2",
   "version": "2.7.12"
  }
 },
 "nbformat": 4,
 "nbformat_minor": 2
}
