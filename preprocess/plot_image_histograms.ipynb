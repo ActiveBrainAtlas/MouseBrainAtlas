{
 "cells": [
  {
   "cell_type": "code",
   "execution_count": 8,
   "metadata": {
    "scrolled": true
   },
   "outputs": [
    {
     "name": "stdout",
     "output_type": "stream",
     "text": [
      "Setting environment for Precision WorkStation\n",
      "/media/yuncong/BstemAtlasData/CSHL_data_processed/MD585/MD585_prep2_thumbnail/MD585-N16-2015.07.16-20.32.33_MD585_2_0047_prep2_thumbnail.tif\n",
      "/media/yuncong/BstemAtlasData/CSHL_data_processed/MD589/MD589_prep2_thumbnail/MD589-N16-2015.07.30-17.03.43_MD589_3_0048_prep2_thumbnail.tif\n"
     ]
    },
    {
     "name": "stderr",
     "output_type": "stream",
     "text": [
      "No vtk\n",
      "No vtkNot using image_cache.\n",
      "Not using image_cache.\n",
      "Not using image_cache.\n",
      "Not using image_cache.\n",
      "Not using image_cache.\n",
      "Not using image_cache.\n",
      "Not using image_cache.\n",
      "Not using image_cache.\n",
      "Not using image_cache.\n",
      "Not using image_cache.\n",
      "Not using image_cache.\n",
      "Not using image_cache.\n",
      "Not using image_cache.\n",
      "Not using image_cache.\n"
     ]
    },
    {
     "name": "stdout",
     "output_type": "stream",
     "text": [
      "/media/yuncong/BstemAtlasData/CSHL_data_processed/MD590/MD590_prep2_thumbnail/MD590-IHC17-2015.08.10-19.09.09_MD590_2_0050_prep2_thumbnail.tif\n",
      "/media/yuncong/BstemAtlasData/CSHL_data_processed/MD591/MD591_prep2_thumbnail/MD591-IHC17-2015.08.28-04.23.47_MD591_1_0049_prep2_thumbnail.tif\n",
      "/media/yuncong/BstemAtlasData/CSHL_data_processed/MD592/MD592_prep2_thumbnail/MD592-N16-2015.08.22-00.50.39_MD592_2_0047_prep2_thumbnail.tif\n",
      "/media/yuncong/BstemAtlasData/CSHL_data_processed/MD593/MD593_prep2_thumbnail/MD593-N15-2015.08.21-16.53.02_MD593_3_0045_prep2_thumbnail.tif\n",
      "/media/yuncong/BstemAtlasData/CSHL_data_processed/MD594/MD594_prep2_thumbnail/MD594-IHC16-2015.08.26-16.11.01_MD594_1_0046_prep2_thumbnail.tif\n",
      "/media/yuncong/BstemAtlasData/CSHL_data_processed/MD595/MD595_prep2_thumbnail/MD595-IHC12-2015.09.15-01.21.39_MD595_2_0035_prep2_thumbnail.tif\n",
      "/media/yuncong/BstemAtlasData/CSHL_data_processed/MD598/MD598_prep2_thumbnail/MD598-N18-2015.09.29-17.40.03_MD598_3_0054_prep2_thumbnail.tif\n",
      "/media/yuncong/BstemAtlasData/CSHL_data_processed/MD599/MD599_prep2_thumbnail/MD599-N19-2015.10.02-18.12.13_MD599_3_0057_prep2_thumbnail.tif\n",
      "/media/yuncong/BstemAtlasData/CSHL_data_processed/MD602/MD602_prep2_thumbnail/MD602-N19-2015.12.01-16.24.09_MD602_2_0056_prep2_thumbnail.tif\n",
      "/media/yuncong/BstemAtlasData/CSHL_data_processed/MD603/MD603_prep2_thumbnail/MD603-N11-2016.03.02-12.51.47_MD603_1_0031_prep2_thumbnail.tif\n",
      "/media/yuncong/BstemAtlasData/CSHL_data_processed/MD635/MD635_prep2_thumbnail/MD635-F25-2016.05.18-21.02.30_MD635_3_0075_prep2_thumbnail.tif\n",
      "/media/yuncong/BstemAtlasData/CSHL_data_processed/MD653/MD653_prep2_thumbnail/MD653-F15-2016.12.20-21.04.12_MD653_1_0043_prep2_thumbnail.tif\n",
      "/media/yuncong/BstemAtlasData/CSHL_data_processed/MD652/MD652_prep2_thumbnail/MD652-F15-2016.12.16-20.45.52_MD652_3_0045_prep2_thumbnail.tif\n",
      "/media/yuncong/BstemAtlasData/CSHL_data_processed/MD642/MD642_prep2_thumbnail/MD642-N14-2017.01.18-16.25.58_MD642_2_0041_prep2_thumbnail.tif\n"
     ]
    },
    {
     "name": "stderr",
     "output_type": "stream",
     "text": [
      "Not using image_cache.\n",
      "Not using image_cache.\n",
      "Not using image_cache.\n",
      "Not using image_cache.\n",
      "Not using image_cache.\n",
      "Not using image_cache.\n"
     ]
    },
    {
     "name": "stdout",
     "output_type": "stream",
     "text": [
      "/media/yuncong/BstemAtlasData/CSHL_data_processed/MD657/MD657_prep2_thumbnail/MD657-N13-2017.02.22-14.33.34_MD657_3_0039_prep2_thumbnail.tif\n",
      "/media/yuncong/BstemAtlasData/CSHL_data_processed/MD658/MD658_prep2_thumbnail/MD658-N18-2017.03.31-17.34.22_MD658_2_0053_prep2_thumbnail.tif\n",
      "/media/yuncong/BstemAtlasData/CSHL_data_processed/MD661/MD661_prep2_thumbnail/MD662&661-F30-2017.06.05-14.49.48_MD661_1_0088_prep2_thumbnail.tif\n",
      "/media/yuncong/BstemAtlasData/CSHL_data_processed/MD662/MD662_prep2_thumbnail/MD662&661-F35-2017.06.05-17.08.18_MD662_1_0103_prep2_thumbnail.tif\n",
      "rm -rf \"/media/yuncong/BstemAtlasData/CSHL_data_processed/CHATM2/CHATM2_prep2_thumbnail/CHATM2_slide14_2018_01_18-S3_prep2_thumbnail.tif\" && mkdir -p \"/media/yuncong/BstemAtlasData/CSHL_data_processed/CHATM2/CHATM2_prep2_thumbnail\"\n",
      "0\n",
      "aws s3 cp \"s3://mousebrainatlas-data/CSHL_data_processed/CHATM2/CHATM2_prep2_thumbnail/CHATM2_slide14_2018_01_18-S3_prep2_thumbnail.tif\" \"/media/yuncong/BstemAtlasData/CSHL_data_processed/CHATM2/CHATM2_prep2_thumbnail/CHATM2_slide14_2018_01_18-S3_prep2_thumbnail.tif\"\n",
      "1\n",
      "/media/yuncong/BstemAtlasData/CSHL_data_processed/CHATM2/CHATM2_prep2_thumbnail/CHATM2_slide14_2018_01_18-S3_prep2_thumbnail.tif\n",
      "rm -rf \"/media/yuncong/BstemAtlasData/CSHL_data_processed/CHATM2/CHATM2_prep2_thumbnail_Ntb/CHATM2_slide14_2018_01_18-S3_prep2_thumbnail_Ntb.tif\" && mkdir -p \"/media/yuncong/BstemAtlasData/CSHL_data_processed/CHATM2/CHATM2_prep2_thumbnail_Ntb\"\n",
      "0\n",
      "aws s3 cp \"s3://mousebrainatlas-data/CSHL_data_processed/CHATM2/CHATM2_prep2_thumbnail_Ntb/CHATM2_slide14_2018_01_18-S3_prep2_thumbnail_Ntb.tif\" \"/media/yuncong/BstemAtlasData/CSHL_data_processed/CHATM2/CHATM2_prep2_thumbnail_Ntb/CHATM2_slide14_2018_01_18-S3_prep2_thumbnail_Ntb.tif\"\n"
     ]
    },
    {
     "name": "stderr",
     "output_type": "stream",
     "text": [
      "Not using image_cache.\n"
     ]
    },
    {
     "name": "stdout",
     "output_type": "stream",
     "text": [
      "1\n",
      "/media/yuncong/BstemAtlasData/CSHL_data_processed/CHATM2/CHATM2_prep2_thumbnail_Ntb/CHATM2_slide14_2018_01_18-S3_prep2_thumbnail_Ntb.tif\n",
      "rm -rf \"/media/yuncong/BstemAtlasData/CSHL_data_processed/CHATM2/CHATM2_prep2_thumbnail/CHATM2_slide14_2018_01_18-S3_prep2_thumbnail.tif\" && mkdir -p \"/media/yuncong/BstemAtlasData/CSHL_data_processed/CHATM2/CHATM2_prep2_thumbnail\"\n",
      "0\n",
      "aws s3 cp \"s3://mousebrainatlas-data/CSHL_data_processed/CHATM2/CHATM2_prep2_thumbnail/CHATM2_slide14_2018_01_18-S3_prep2_thumbnail.tif\" \"/media/yuncong/BstemAtlasData/CSHL_data_processed/CHATM2/CHATM2_prep2_thumbnail/CHATM2_slide14_2018_01_18-S3_prep2_thumbnail.tif\"\n"
     ]
    },
    {
     "name": "stderr",
     "output_type": "stream",
     "text": [
      "Not using image_cache.\n",
      "Version Ntb is not available. Instead, load lossless and take the blue channel...\n"
     ]
    },
    {
     "name": "stdout",
     "output_type": "stream",
     "text": [
      "1\n",
      "/media/yuncong/BstemAtlasData/CSHL_data_processed/CHATM2/CHATM2_prep2_thumbnail/CHATM2_slide14_2018_01_18-S3_prep2_thumbnail.tif\n"
     ]
    },
    {
     "name": "stderr",
     "output_type": "stream",
     "text": [
      "Not using image_cache.\n",
      "/usr/local/lib/python2.7/dist-packages/sklearn/cross_validation.py:44: DeprecationWarning: This module was deprecated in version 0.18 in favor of the model_selection module into which all the refactored classes and functions are moved. Also note that the interface of the new CV iterators are different from that of this module. This module will be removed in 0.20.\n",
      "  \"This module will be removed in 0.20.\", DeprecationWarning)\n"
     ]
    }
   ],
   "source": [
    "%load_ext autoreload\n",
    "%autoreload 2\n",
    "\n",
    "import sys\n",
    "import os\n",
    "import time\n",
    "\n",
    "import numpy as np\n",
    "try:\n",
    "    import mxnet as mx\n",
    "except:\n",
    "    sys.stderr.write(\"Cannot import mxnet.\\n\")\n",
    "import matplotlib.pyplot as plt\n",
    "%matplotlib inline\n",
    "from scipy.ndimage.interpolation import map_coordinates\n",
    "from skimage.exposure import rescale_intensity\n",
    "from skimage.transform import rotate\n",
    "\n",
    "sys.path.append(os.environ['REPO_DIR'] + '/utilities')\n",
    "from utilities2015 import *\n",
    "from metadata import *\n",
    "from data_manager import *\n",
    "from learning_utilities import *\n",
    "from distributed_utilities import *\n",
    "from visualization_utilities import *"
   ]
  },
  {
   "cell_type": "markdown",
   "metadata": {},
   "source": [
    "# Plot histogram over whole images."
   ]
  },
  {
   "cell_type": "code",
   "execution_count": 2,
   "metadata": {
    "collapsed": true
   },
   "outputs": [],
   "source": [
    "stack_versions = {'MD585': 'gray',\n",
    "'MD589': 'gray',\n",
    "'MD594': 'gray',\n",
    "'MD635': 'Ntb',\n",
    "'MD653': 'Ntb',\n",
    " 'MD652': 'Ntb',\n",
    " 'MD642': 'Ntb',\n",
    " 'MD657': 'Ntb',\n",
    " 'MD658': 'Ntb',\n",
    " 'MD661': 'Ntb',\n",
    " 'MD662': 'Ntb' \n",
    "}"
   ]
  },
  {
   "cell_type": "code",
   "execution_count": null,
   "metadata": {
    "collapsed": true
   },
   "outputs": [],
   "source": [
    "# for stack in ['MD585', 'MD589', 'MD594'] + ['MD635'] + ['MD653', 'MD652', 'MD642', 'MD657', 'MD658'] + ['MD661', 'MD662']:\n",
    "for stack in ['MD635'] + ['MD653', 'MD652', 'MD642', 'MD657', 'MD658'] + ['MD661', 'MD662']:\n",
    "\n",
    "    structure = '7N'\n",
    "    \n",
    "    if stack in ['MD585', 'MD589', 'MD594'] + ['MD658'] + ['MD635']:\n",
    "        local_region_bboxes_all_sections = get_local_regions(stack, margin_um=200, by_human=True ,\n",
    "                                                         structures=['7N_L'])\n",
    "    elif stack in ['MD653', 'MD652', 'MD642', 'MD657']:\n",
    "        local_region_bboxes_all_sections = get_local_regions(stack, margin_um=200, by_human=False, level=0.5, \n",
    "                                                     structures=['7N_L'],\n",
    "                                                    detector_id_f=13)\n",
    "    elif stack in ['MD661', 'MD662']:\n",
    "        local_region_bboxes_all_sections = get_local_regions(stack, margin_um=200, by_human=False, level=0.5, \n",
    "                                                     structures=['7N_L'],\n",
    "                                                    detector_id_f=1)\n",
    "    else:\n",
    "        raise\n",
    "        \n",
    "    for name_s, bboxes_all_sections in local_region_bboxes_all_sections.iteritems():\n",
    "        for sec, bbox in bboxes_all_sections.iteritems():\n",
    "\n",
    "#     for sec in metadata_cache['valid_sections'][stack]:\n",
    "        \n",
    "#             try:\n",
    "            print sec\n",
    "\n",
    "            NorF = DataManager.get_brightfield_or_fluorescence(stack=stack, sec=sec)\n",
    "\n",
    "            lossless_img = DataManager.load_image_v2(stack=stack, prep_id=2, section=sec, version=stack_versions[stack])\n",
    "\n",
    "            tb_mask = DataManager.load_thumbnail_mask_v3(stack=stack, prep_id=2, section=sec)\n",
    "            lossless_mask = rescale_by_resampling(tb_mask, 32)\n",
    "\n",
    "            if NorF == 'N':\n",
    "                counts, bins = np.histogram(lossless_img[lossless_mask], bins=np.linspace(0, 256, 257));\n",
    "            elif NorF == 'F':\n",
    "                counts, bins = np.histogram(lossless_img[lossless_mask], bins=np.linspace(0, 3500, 300));\n",
    "            else:\n",
    "                raise\n",
    "\n",
    "            vmax = lossless_img[lossless_mask].max()\n",
    "            vmin = lossless_img[lossless_mask].min()\n",
    "\n",
    "            fig = plt.figure(figsize=(10, 5));\n",
    "            plt.bar(bins[:-1], counts, align='center')\n",
    "            if NorF == 'N':\n",
    "                plt.xlim([-1, 256]);\n",
    "                plt.xticks(np.r_[bins[::50], vmin, vmax])\n",
    "            else:\n",
    "                plt.xlim([-1, 3500]);\n",
    "                plt.xticks(np.r_[bins[::50], vmin, vmax])\n",
    "            plt.axvline(x=vmax, c='r');\n",
    "            plt.axvline(x=vmin, c='r');\n",
    "            plt.title('Histogram (linear)');\n",
    "            plt.xlabel('Pixel intensity');\n",
    "    #                 plt.show();\n",
    "\n",
    "            plot_fp = os.path.join(ROOT_DIR, 'raw_image_histograms_fullImage', stack, '%s_%d%s.png' % (stack, sec, NorF))\n",
    "            create_parent_dir_if_not_exists(plot_fp)\n",
    "            plt.savefig(fname=plot_fp, bbox_inches='tight');\n",
    "            plt.close(fig);\n",
    "            upload_to_s3(plot_fp)\n",
    "\n",
    "            counts_log = np.log(counts)\n",
    "\n",
    "            fig = plt.figure(figsize=(10, 5));\n",
    "            plt.bar(bins[:-1], counts_log, width=np.diff(bins)[0]*.8, align='center');\n",
    "            if NorF == 'N':\n",
    "                plt.xlim([-1, 256]);\n",
    "                plt.xticks(np.r_[bins[::50], vmin, vmax])\n",
    "            else:\n",
    "                plt.xlim([-1, 3500]);\n",
    "                plt.xticks(np.r_[bins[::50], vmin, vmax])\n",
    "\n",
    "            plt.axvline(x=vmax, c='r');\n",
    "            plt.axvline(x=vmin, c='r');\n",
    "            plt.title('Histogram (log)');\n",
    "            plt.xlabel('Pixel intensity');\n",
    "    #                 plt.show();\n",
    "\n",
    "            plot_fp = os.path.join(ROOT_DIR, 'raw_image_histograms_log_fullImage', stack, '%s_%d%s.png' % (stack, sec, NorF))\n",
    "            create_parent_dir_if_not_exists(plot_fp)\n",
    "            plt.savefig(fname=plot_fp, bbox_inches='tight');\n",
    "            plt.close(fig);\n",
    "            upload_to_s3(plot_fp)\n",
    "#             except:\n",
    "#                 pass"
   ]
  },
  {
   "cell_type": "code",
   "execution_count": null,
   "metadata": {
    "collapsed": true
   },
   "outputs": [],
   "source": []
  },
  {
   "cell_type": "code",
   "execution_count": 23,
   "metadata": {
    "collapsed": true
   },
   "outputs": [],
   "source": [
    "stack_versions = {'CHATM2': 'Ntb'}"
   ]
  },
  {
   "cell_type": "code",
   "execution_count": 24,
   "metadata": {
    "scrolled": true
   },
   "outputs": [
    {
     "name": "stdout",
     "output_type": "stream",
     "text": [
      "42\n"
     ]
    },
    {
     "name": "stderr",
     "output_type": "stream",
     "text": [
      "Not using image_cache.\n"
     ]
    },
    {
     "name": "stdout",
     "output_type": "stream",
     "text": [
      "/media/yuncong/BstemAtlasData/CSHL_data_processed/CHATM2/CHATM2_prep2_lossless_Ntb/CHATM2_slide14_2018_01_18-S3_prep2_lossless_Ntb.tif\n",
      "rm -rf \"/media/yuncong/BstemAtlasData/CSHL_data_processed/CHATM2/CHATM2_prep2_thumbnail_mask/CHATM2_slide14_2018_01_18-S3_prep2_thumbnail_mask.png\" && mkdir -p \"/media/yuncong/BstemAtlasData/CSHL_data_processed/CHATM2/CHATM2_prep2_thumbnail_mask\"\n",
      "0\n",
      "aws s3 cp \"s3://mousebrainatlas-data/CSHL_data_processed/CHATM2/CHATM2_prep2_thumbnail_mask/CHATM2_slide14_2018_01_18-S3_prep2_thumbnail_mask.png\" \"/media/yuncong/BstemAtlasData/CSHL_data_processed/CHATM2/CHATM2_prep2_thumbnail_mask/CHATM2_slide14_2018_01_18-S3_prep2_thumbnail_mask.png\"\n",
      "1\n",
      "[Errno 2] No such file or directory: '/media/yuncong/BstemAtlasData/CSHL_data_processed/CHATM2/CHATM2_prep2_thumbnail_mask/CHATM2_slide14_2018_01_18-S3_prep2_thumbnail_mask.png'\n",
      "52\n",
      "/media/yuncong/BstemAtlasData/CSHL_data_processed/CHATM2/CHATM2_prep2_lossless_Ntb/CHATM2_slide18_2018_01_18-S1_prep2_lossless_Ntb.tif\n",
      "rm -rf \"/media/yuncong/BstemAtlasData/CSHL_data_processed/CHATM2/CHATM2_prep2_lossless/CHATM2_slide18_2018_01_18-S1_prep2_lossless.tif\" && mkdir -p \"/media/yuncong/BstemAtlasData/CSHL_data_processed/CHATM2/CHATM2_prep2_lossless\"\n",
      "0\n",
      "aws s3 cp \"s3://mousebrainatlas-data/CSHL_data_processed/CHATM2/CHATM2_prep2_lossless/CHATM2_slide18_2018_01_18-S1_prep2_lossless.tif\" \"/media/yuncong/BstemAtlasData/CSHL_data_processed/CHATM2/CHATM2_prep2_lossless/CHATM2_slide18_2018_01_18-S1_prep2_lossless.tif\"\n"
     ]
    },
    {
     "name": "stderr",
     "output_type": "stream",
     "text": [
      "Not using image_cache.\n",
      "Version Ntb is not available. Instead, load lossless and take the blue channel...\n"
     ]
    },
    {
     "name": "stdout",
     "output_type": "stream",
     "text": [
      "1\n",
      "/media/yuncong/BstemAtlasData/CSHL_data_processed/CHATM2/CHATM2_prep2_lossless/CHATM2_slide18_2018_01_18-S1_prep2_lossless.tif\n",
      "Image loading failed.\n",
      "62\n"
     ]
    },
    {
     "name": "stderr",
     "output_type": "stream",
     "text": [
      "Not using image_cache.\n",
      "Not using image_cache.\n"
     ]
    },
    {
     "name": "stdout",
     "output_type": "stream",
     "text": [
      "/media/yuncong/BstemAtlasData/CSHL_data_processed/CHATM2/CHATM2_prep2_lossless_Ntb/CHATM2_slide21_2018_01_18-S2_prep2_lossless_Ntb.tif\n",
      "rm -rf \"/media/yuncong/BstemAtlasData/CSHL_data_processed/CHATM2/CHATM2_prep2_thumbnail_mask/CHATM2_slide21_2018_01_18-S2_prep2_thumbnail_mask.png\" && mkdir -p \"/media/yuncong/BstemAtlasData/CSHL_data_processed/CHATM2/CHATM2_prep2_thumbnail_mask\"\n",
      "0\n",
      "aws s3 cp \"s3://mousebrainatlas-data/CSHL_data_processed/CHATM2/CHATM2_prep2_thumbnail_mask/CHATM2_slide21_2018_01_18-S2_prep2_thumbnail_mask.png\" \"/media/yuncong/BstemAtlasData/CSHL_data_processed/CHATM2/CHATM2_prep2_thumbnail_mask/CHATM2_slide21_2018_01_18-S2_prep2_thumbnail_mask.png\"\n",
      "1\n",
      "[Errno 2] No such file or directory: '/media/yuncong/BstemAtlasData/CSHL_data_processed/CHATM2/CHATM2_prep2_thumbnail_mask/CHATM2_slide21_2018_01_18-S2_prep2_thumbnail_mask.png'\n",
      "72\n"
     ]
    },
    {
     "name": "stderr",
     "output_type": "stream",
     "text": [
      "Not using image_cache.\n"
     ]
    },
    {
     "name": "stdout",
     "output_type": "stream",
     "text": [
      "/media/yuncong/BstemAtlasData/CSHL_data_processed/CHATM2/CHATM2_prep2_lossless_Ntb/CHATM2_slide24_2018_01_18-S3_prep2_lossless_Ntb.tif\n",
      "rm -rf \"/media/yuncong/BstemAtlasData/CSHL_data_processed/CHATM2/CHATM2_prep2_thumbnail_mask/CHATM2_slide24_2018_01_18-S3_prep2_thumbnail_mask.png\" && mkdir -p \"/media/yuncong/BstemAtlasData/CSHL_data_processed/CHATM2/CHATM2_prep2_thumbnail_mask\"\n",
      "0\n",
      "aws s3 cp \"s3://mousebrainatlas-data/CSHL_data_processed/CHATM2/CHATM2_prep2_thumbnail_mask/CHATM2_slide24_2018_01_18-S3_prep2_thumbnail_mask.png\" \"/media/yuncong/BstemAtlasData/CSHL_data_processed/CHATM2/CHATM2_prep2_thumbnail_mask/CHATM2_slide24_2018_01_18-S3_prep2_thumbnail_mask.png\"\n",
      "1\n",
      "[Errno 2] No such file or directory: '/media/yuncong/BstemAtlasData/CSHL_data_processed/CHATM2/CHATM2_prep2_thumbnail_mask/CHATM2_slide24_2018_01_18-S3_prep2_thumbnail_mask.png'\n",
      "82\n"
     ]
    },
    {
     "name": "stderr",
     "output_type": "stream",
     "text": [
      "Not using image_cache.\n"
     ]
    },
    {
     "name": "stdout",
     "output_type": "stream",
     "text": [
      "/media/yuncong/BstemAtlasData/CSHL_data_processed/CHATM2/CHATM2_prep2_lossless_Ntb/CHATM2_slide28_2018_01_18-S1_prep2_lossless_Ntb.tif\n",
      "rm -rf \"/media/yuncong/BstemAtlasData/CSHL_data_processed/CHATM2/CHATM2_prep2_thumbnail_mask/CHATM2_slide28_2018_01_18-S1_prep2_thumbnail_mask.png\" && mkdir -p \"/media/yuncong/BstemAtlasData/CSHL_data_processed/CHATM2/CHATM2_prep2_thumbnail_mask\"\n",
      "0\n",
      "aws s3 cp \"s3://mousebrainatlas-data/CSHL_data_processed/CHATM2/CHATM2_prep2_thumbnail_mask/CHATM2_slide28_2018_01_18-S1_prep2_thumbnail_mask.png\" \"/media/yuncong/BstemAtlasData/CSHL_data_processed/CHATM2/CHATM2_prep2_thumbnail_mask/CHATM2_slide28_2018_01_18-S1_prep2_thumbnail_mask.png\"\n",
      "1\n",
      "[Errno 2] No such file or directory: '/media/yuncong/BstemAtlasData/CSHL_data_processed/CHATM2/CHATM2_prep2_thumbnail_mask/CHATM2_slide28_2018_01_18-S1_prep2_thumbnail_mask.png'\n",
      "92\n"
     ]
    },
    {
     "name": "stderr",
     "output_type": "stream",
     "text": [
      "Not using image_cache.\n"
     ]
    },
    {
     "name": "stdout",
     "output_type": "stream",
     "text": [
      "/media/yuncong/BstemAtlasData/CSHL_data_processed/CHATM2/CHATM2_prep2_lossless_Ntb/CHATM2_slide31_2018_01_19-S2_prep2_lossless_Ntb.tif\n",
      "rm -rf \"/media/yuncong/BstemAtlasData/CSHL_data_processed/CHATM2/CHATM2_prep2_thumbnail_mask/CHATM2_slide31_2018_01_19-S2_prep2_thumbnail_mask.png\" && mkdir -p \"/media/yuncong/BstemAtlasData/CSHL_data_processed/CHATM2/CHATM2_prep2_thumbnail_mask\"\n",
      "0\n",
      "aws s3 cp \"s3://mousebrainatlas-data/CSHL_data_processed/CHATM2/CHATM2_prep2_thumbnail_mask/CHATM2_slide31_2018_01_19-S2_prep2_thumbnail_mask.png\" \"/media/yuncong/BstemAtlasData/CSHL_data_processed/CHATM2/CHATM2_prep2_thumbnail_mask/CHATM2_slide31_2018_01_19-S2_prep2_thumbnail_mask.png\"\n",
      "1\n",
      "[Errno 2] No such file or directory: '/media/yuncong/BstemAtlasData/CSHL_data_processed/CHATM2/CHATM2_prep2_thumbnail_mask/CHATM2_slide31_2018_01_19-S2_prep2_thumbnail_mask.png'\n",
      "102\n"
     ]
    },
    {
     "name": "stderr",
     "output_type": "stream",
     "text": [
      "Not using image_cache.\n"
     ]
    },
    {
     "name": "stdout",
     "output_type": "stream",
     "text": [
      "/media/yuncong/BstemAtlasData/CSHL_data_processed/CHATM2/CHATM2_prep2_lossless_Ntb/CHATM2_slide34_2018_01_20-S3_prep2_lossless_Ntb.tif\n",
      "rm -rf \"/media/yuncong/BstemAtlasData/CSHL_data_processed/CHATM2/CHATM2_prep2_thumbnail_mask/CHATM2_slide34_2018_01_20-S3_prep2_thumbnail_mask.png\" && mkdir -p \"/media/yuncong/BstemAtlasData/CSHL_data_processed/CHATM2/CHATM2_prep2_thumbnail_mask\"\n",
      "0\n",
      "aws s3 cp \"s3://mousebrainatlas-data/CSHL_data_processed/CHATM2/CHATM2_prep2_thumbnail_mask/CHATM2_slide34_2018_01_20-S3_prep2_thumbnail_mask.png\" \"/media/yuncong/BstemAtlasData/CSHL_data_processed/CHATM2/CHATM2_prep2_thumbnail_mask/CHATM2_slide34_2018_01_20-S3_prep2_thumbnail_mask.png\"\n",
      "1\n",
      "[Errno 2] No such file or directory: '/media/yuncong/BstemAtlasData/CSHL_data_processed/CHATM2/CHATM2_prep2_thumbnail_mask/CHATM2_slide34_2018_01_20-S3_prep2_thumbnail_mask.png'\n",
      "113\n"
     ]
    },
    {
     "name": "stderr",
     "output_type": "stream",
     "text": [
      "Not using image_cache.\n"
     ]
    },
    {
     "name": "stdout",
     "output_type": "stream",
     "text": [
      "/media/yuncong/BstemAtlasData/CSHL_data_processed/CHATM2/CHATM2_prep2_lossless_Ntb/CHATM2_slide38_2018_01_22-S2_prep2_lossless_Ntb.tif\n",
      "rm -rf \"/media/yuncong/BstemAtlasData/CSHL_data_processed/CHATM2/CHATM2_prep2_thumbnail_mask/CHATM2_slide38_2018_01_22-S2_prep2_thumbnail_mask.png\" && mkdir -p \"/media/yuncong/BstemAtlasData/CSHL_data_processed/CHATM2/CHATM2_prep2_thumbnail_mask\"\n",
      "0\n",
      "aws s3 cp \"s3://mousebrainatlas-data/CSHL_data_processed/CHATM2/CHATM2_prep2_thumbnail_mask/CHATM2_slide38_2018_01_22-S2_prep2_thumbnail_mask.png\" \"/media/yuncong/BstemAtlasData/CSHL_data_processed/CHATM2/CHATM2_prep2_thumbnail_mask/CHATM2_slide38_2018_01_22-S2_prep2_thumbnail_mask.png\"\n",
      "1\n",
      "[Errno 2] No such file or directory: '/media/yuncong/BstemAtlasData/CSHL_data_processed/CHATM2/CHATM2_prep2_thumbnail_mask/CHATM2_slide38_2018_01_22-S2_prep2_thumbnail_mask.png'\n",
      "126\n"
     ]
    },
    {
     "name": "stderr",
     "output_type": "stream",
     "text": [
      "Not using image_cache.\n"
     ]
    },
    {
     "name": "stdout",
     "output_type": "stream",
     "text": [
      "/media/yuncong/BstemAtlasData/CSHL_data_processed/CHATM2/CHATM2_prep2_lossless_Ntb/CHATM2_slide42_2018_01_22-S3_prep2_lossless_Ntb.tif\n",
      "rm -rf \"/media/yuncong/BstemAtlasData/CSHL_data_processed/CHATM2/CHATM2_prep2_thumbnail_mask/CHATM2_slide42_2018_01_22-S3_prep2_thumbnail_mask.png\" && mkdir -p \"/media/yuncong/BstemAtlasData/CSHL_data_processed/CHATM2/CHATM2_prep2_thumbnail_mask\"\n",
      "0\n",
      "aws s3 cp \"s3://mousebrainatlas-data/CSHL_data_processed/CHATM2/CHATM2_prep2_thumbnail_mask/CHATM2_slide42_2018_01_22-S3_prep2_thumbnail_mask.png\" \"/media/yuncong/BstemAtlasData/CSHL_data_processed/CHATM2/CHATM2_prep2_thumbnail_mask/CHATM2_slide42_2018_01_22-S3_prep2_thumbnail_mask.png\"\n",
      "1\n",
      "[Errno 2] No such file or directory: '/media/yuncong/BstemAtlasData/CSHL_data_processed/CHATM2/CHATM2_prep2_thumbnail_mask/CHATM2_slide42_2018_01_22-S3_prep2_thumbnail_mask.png'\n",
      "136\n"
     ]
    },
    {
     "name": "stderr",
     "output_type": "stream",
     "text": [
      "Not using image_cache.\n"
     ]
    },
    {
     "name": "stdout",
     "output_type": "stream",
     "text": [
      "/media/yuncong/BstemAtlasData/CSHL_data_processed/CHATM2/CHATM2_prep2_lossless_Ntb/CHATM2_slide46_2018_01_22-S1_prep2_lossless_Ntb.tif\n",
      "rm -rf \"/media/yuncong/BstemAtlasData/CSHL_data_processed/CHATM2/CHATM2_prep2_thumbnail_mask/CHATM2_slide46_2018_01_22-S1_prep2_thumbnail_mask.png\" && mkdir -p \"/media/yuncong/BstemAtlasData/CSHL_data_processed/CHATM2/CHATM2_prep2_thumbnail_mask\"\n",
      "0\n",
      "aws s3 cp \"s3://mousebrainatlas-data/CSHL_data_processed/CHATM2/CHATM2_prep2_thumbnail_mask/CHATM2_slide46_2018_01_22-S1_prep2_thumbnail_mask.png\" \"/media/yuncong/BstemAtlasData/CSHL_data_processed/CHATM2/CHATM2_prep2_thumbnail_mask/CHATM2_slide46_2018_01_22-S1_prep2_thumbnail_mask.png\"\n",
      "1\n",
      "[Errno 2] No such file or directory: '/media/yuncong/BstemAtlasData/CSHL_data_processed/CHATM2/CHATM2_prep2_thumbnail_mask/CHATM2_slide46_2018_01_22-S1_prep2_thumbnail_mask.png'\n",
      "150\n"
     ]
    },
    {
     "name": "stderr",
     "output_type": "stream",
     "text": [
      "Not using image_cache.\n"
     ]
    },
    {
     "name": "stdout",
     "output_type": "stream",
     "text": [
      "/media/yuncong/BstemAtlasData/CSHL_data_processed/CHATM2/CHATM2_prep2_lossless_Ntb/CHATM2_slide50_2018_01_22-S3_prep2_lossless_Ntb.tif\n",
      "rm -rf \"/media/yuncong/BstemAtlasData/CSHL_data_processed/CHATM2/CHATM2_prep2_thumbnail_mask/CHATM2_slide50_2018_01_22-S3_prep2_thumbnail_mask.png\" && mkdir -p \"/media/yuncong/BstemAtlasData/CSHL_data_processed/CHATM2/CHATM2_prep2_thumbnail_mask\"\n",
      "0\n",
      "aws s3 cp \"s3://mousebrainatlas-data/CSHL_data_processed/CHATM2/CHATM2_prep2_thumbnail_mask/CHATM2_slide50_2018_01_22-S3_prep2_thumbnail_mask.png\" \"/media/yuncong/BstemAtlasData/CSHL_data_processed/CHATM2/CHATM2_prep2_thumbnail_mask/CHATM2_slide50_2018_01_22-S3_prep2_thumbnail_mask.png\"\n",
      "1\n",
      "[Errno 2] No such file or directory: '/media/yuncong/BstemAtlasData/CSHL_data_processed/CHATM2/CHATM2_prep2_thumbnail_mask/CHATM2_slide50_2018_01_22-S3_prep2_thumbnail_mask.png'\n",
      "160\n"
     ]
    },
    {
     "name": "stderr",
     "output_type": "stream",
     "text": [
      "Not using image_cache.\n"
     ]
    },
    {
     "name": "stdout",
     "output_type": "stream",
     "text": [
      "/media/yuncong/BstemAtlasData/CSHL_data_processed/CHATM2/CHATM2_prep2_lossless_Ntb/CHATM2_slide54_2018_01_22-S1_prep2_lossless_Ntb.tif\n",
      "rm -rf \"/media/yuncong/BstemAtlasData/CSHL_data_processed/CHATM2/CHATM2_prep2_thumbnail_mask/CHATM2_slide54_2018_01_22-S1_prep2_thumbnail_mask.png\" && mkdir -p \"/media/yuncong/BstemAtlasData/CSHL_data_processed/CHATM2/CHATM2_prep2_thumbnail_mask\"\n",
      "0\n",
      "aws s3 cp \"s3://mousebrainatlas-data/CSHL_data_processed/CHATM2/CHATM2_prep2_thumbnail_mask/CHATM2_slide54_2018_01_22-S1_prep2_thumbnail_mask.png\" \"/media/yuncong/BstemAtlasData/CSHL_data_processed/CHATM2/CHATM2_prep2_thumbnail_mask/CHATM2_slide54_2018_01_22-S1_prep2_thumbnail_mask.png\"\n",
      "1\n",
      "[Errno 2] No such file or directory: '/media/yuncong/BstemAtlasData/CSHL_data_processed/CHATM2/CHATM2_prep2_thumbnail_mask/CHATM2_slide54_2018_01_22-S1_prep2_thumbnail_mask.png'\n",
      "170\n"
     ]
    },
    {
     "name": "stderr",
     "output_type": "stream",
     "text": [
      "Not using image_cache.\n"
     ]
    },
    {
     "name": "stdout",
     "output_type": "stream",
     "text": [
      "/media/yuncong/BstemAtlasData/CSHL_data_processed/CHATM2/CHATM2_prep2_lossless_Ntb/CHATM2_slide57_2018_01_22-S2_prep2_lossless_Ntb.tif\n",
      "rm -rf \"/media/yuncong/BstemAtlasData/CSHL_data_processed/CHATM2/CHATM2_prep2_thumbnail_mask/CHATM2_slide57_2018_01_22-S2_prep2_thumbnail_mask.png\" && mkdir -p \"/media/yuncong/BstemAtlasData/CSHL_data_processed/CHATM2/CHATM2_prep2_thumbnail_mask\"\n",
      "0\n",
      "aws s3 cp \"s3://mousebrainatlas-data/CSHL_data_processed/CHATM2/CHATM2_prep2_thumbnail_mask/CHATM2_slide57_2018_01_22-S2_prep2_thumbnail_mask.png\" \"/media/yuncong/BstemAtlasData/CSHL_data_processed/CHATM2/CHATM2_prep2_thumbnail_mask/CHATM2_slide57_2018_01_22-S2_prep2_thumbnail_mask.png\"\n",
      "1\n",
      "[Errno 2] No such file or directory: '/media/yuncong/BstemAtlasData/CSHL_data_processed/CHATM2/CHATM2_prep2_thumbnail_mask/CHATM2_slide57_2018_01_22-S2_prep2_thumbnail_mask.png'\n",
      "193\n"
     ]
    },
    {
     "name": "stderr",
     "output_type": "stream",
     "text": [
      "Not using image_cache.\n"
     ]
    },
    {
     "name": "stdout",
     "output_type": "stream",
     "text": [
      "/media/yuncong/BstemAtlasData/CSHL_data_processed/CHATM2/CHATM2_prep2_lossless_Ntb/CHATM2_slide66_2018_02_14-S1_prep2_lossless_Ntb.tif\n",
      "rm -rf \"/media/yuncong/BstemAtlasData/CSHL_data_processed/CHATM2/CHATM2_prep2_thumbnail_mask/CHATM2_slide66_2018_02_14-S1_prep2_thumbnail_mask.png\" && mkdir -p \"/media/yuncong/BstemAtlasData/CSHL_data_processed/CHATM2/CHATM2_prep2_thumbnail_mask\"\n",
      "0\n",
      "aws s3 cp \"s3://mousebrainatlas-data/CSHL_data_processed/CHATM2/CHATM2_prep2_thumbnail_mask/CHATM2_slide66_2018_02_14-S1_prep2_thumbnail_mask.png\" \"/media/yuncong/BstemAtlasData/CSHL_data_processed/CHATM2/CHATM2_prep2_thumbnail_mask/CHATM2_slide66_2018_02_14-S1_prep2_thumbnail_mask.png\"\n",
      "1\n",
      "[Errno 2] No such file or directory: '/media/yuncong/BstemAtlasData/CSHL_data_processed/CHATM2/CHATM2_prep2_thumbnail_mask/CHATM2_slide66_2018_02_14-S1_prep2_thumbnail_mask.png'\n",
      "215\n"
     ]
    },
    {
     "name": "stderr",
     "output_type": "stream",
     "text": [
      "Not using image_cache.\n"
     ]
    },
    {
     "name": "stdout",
     "output_type": "stream",
     "text": [
      "/media/yuncong/BstemAtlasData/CSHL_data_processed/CHATM2/CHATM2_prep2_lossless_Ntb/CHATM2_slide72_2018_02_14-S3_prep2_lossless_Ntb.tif\n",
      "rm -rf \"/media/yuncong/BstemAtlasData/CSHL_data_processed/CHATM2/CHATM2_prep2_thumbnail_mask/CHATM2_slide72_2018_02_14-S3_prep2_thumbnail_mask.png\" && mkdir -p \"/media/yuncong/BstemAtlasData/CSHL_data_processed/CHATM2/CHATM2_prep2_thumbnail_mask\"\n",
      "0\n",
      "aws s3 cp \"s3://mousebrainatlas-data/CSHL_data_processed/CHATM2/CHATM2_prep2_thumbnail_mask/CHATM2_slide72_2018_02_14-S3_prep2_thumbnail_mask.png\" \"/media/yuncong/BstemAtlasData/CSHL_data_processed/CHATM2/CHATM2_prep2_thumbnail_mask/CHATM2_slide72_2018_02_14-S3_prep2_thumbnail_mask.png\"\n",
      "1\n",
      "[Errno 2] No such file or directory: '/media/yuncong/BstemAtlasData/CSHL_data_processed/CHATM2/CHATM2_prep2_thumbnail_mask/CHATM2_slide72_2018_02_14-S3_prep2_thumbnail_mask.png'\n",
      "235\n"
     ]
    },
    {
     "name": "stderr",
     "output_type": "stream",
     "text": [
      "Not using image_cache.\n"
     ]
    },
    {
     "name": "stdout",
     "output_type": "stream",
     "text": [
      "/media/yuncong/BstemAtlasData/CSHL_data_processed/CHATM2/CHATM2_prep2_lossless_Ntb/CHATM2_slide80_2018_02_14-S1_prep2_lossless_Ntb.tif\n",
      "rm -rf \"/media/yuncong/BstemAtlasData/CSHL_data_processed/CHATM2/CHATM2_prep2_thumbnail_mask/CHATM2_slide80_2018_02_14-S1_prep2_thumbnail_mask.png\" && mkdir -p \"/media/yuncong/BstemAtlasData/CSHL_data_processed/CHATM2/CHATM2_prep2_thumbnail_mask\"\n",
      "0\n",
      "aws s3 cp \"s3://mousebrainatlas-data/CSHL_data_processed/CHATM2/CHATM2_prep2_thumbnail_mask/CHATM2_slide80_2018_02_14-S1_prep2_thumbnail_mask.png\" \"/media/yuncong/BstemAtlasData/CSHL_data_processed/CHATM2/CHATM2_prep2_thumbnail_mask/CHATM2_slide80_2018_02_14-S1_prep2_thumbnail_mask.png\"\n",
      "1\n",
      "[Errno 2] No such file or directory: '/media/yuncong/BstemAtlasData/CSHL_data_processed/CHATM2/CHATM2_prep2_thumbnail_mask/CHATM2_slide80_2018_02_14-S1_prep2_thumbnail_mask.png'\n",
      "255\n"
     ]
    },
    {
     "name": "stderr",
     "output_type": "stream",
     "text": [
      "Not using image_cache.\n"
     ]
    },
    {
     "name": "stdout",
     "output_type": "stream",
     "text": [
      "/media/yuncong/BstemAtlasData/CSHL_data_processed/CHATM2/CHATM2_prep2_lossless_Ntb/CHATM2_slide86_2018_02_13-S2_prep2_lossless_Ntb.tif\n",
      "rm -rf \"/media/yuncong/BstemAtlasData/CSHL_data_processed/CHATM2/CHATM2_prep2_thumbnail_mask/CHATM2_slide86_2018_02_13-S2_prep2_thumbnail_mask.png\" && mkdir -p \"/media/yuncong/BstemAtlasData/CSHL_data_processed/CHATM2/CHATM2_prep2_thumbnail_mask\"\n",
      "0\n",
      "aws s3 cp \"s3://mousebrainatlas-data/CSHL_data_processed/CHATM2/CHATM2_prep2_thumbnail_mask/CHATM2_slide86_2018_02_13-S2_prep2_thumbnail_mask.png\" \"/media/yuncong/BstemAtlasData/CSHL_data_processed/CHATM2/CHATM2_prep2_thumbnail_mask/CHATM2_slide86_2018_02_13-S2_prep2_thumbnail_mask.png\"\n",
      "1\n",
      "[Errno 2] No such file or directory: '/media/yuncong/BstemAtlasData/CSHL_data_processed/CHATM2/CHATM2_prep2_thumbnail_mask/CHATM2_slide86_2018_02_13-S2_prep2_thumbnail_mask.png'\n",
      "275\n"
     ]
    },
    {
     "name": "stderr",
     "output_type": "stream",
     "text": [
      "Not using image_cache.\n"
     ]
    },
    {
     "name": "stdout",
     "output_type": "stream",
     "text": [
      "/media/yuncong/BstemAtlasData/CSHL_data_processed/CHATM2/CHATM2_prep2_lossless_Ntb/CHATM2_slide92_2018_02_13-S3_prep2_lossless_Ntb.tif\n",
      "rm -rf \"/media/yuncong/BstemAtlasData/CSHL_data_processed/CHATM2/CHATM2_prep2_thumbnail_mask/CHATM2_slide92_2018_02_13-S3_prep2_thumbnail_mask.png\" && mkdir -p \"/media/yuncong/BstemAtlasData/CSHL_data_processed/CHATM2/CHATM2_prep2_thumbnail_mask\"\n",
      "0\n",
      "aws s3 cp \"s3://mousebrainatlas-data/CSHL_data_processed/CHATM2/CHATM2_prep2_thumbnail_mask/CHATM2_slide92_2018_02_13-S3_prep2_thumbnail_mask.png\" \"/media/yuncong/BstemAtlasData/CSHL_data_processed/CHATM2/CHATM2_prep2_thumbnail_mask/CHATM2_slide92_2018_02_13-S3_prep2_thumbnail_mask.png\"\n",
      "1\n",
      "[Errno 2] No such file or directory: '/media/yuncong/BstemAtlasData/CSHL_data_processed/CHATM2/CHATM2_prep2_thumbnail_mask/CHATM2_slide92_2018_02_13-S3_prep2_thumbnail_mask.png'\n",
      "295\n"
     ]
    },
    {
     "name": "stderr",
     "output_type": "stream",
     "text": [
      "Not using image_cache.\n"
     ]
    },
    {
     "name": "stdout",
     "output_type": "stream",
     "text": [
      "/media/yuncong/BstemAtlasData/CSHL_data_processed/CHATM2/CHATM2_prep2_lossless_Ntb/CHATM2_slide100_2018_02_13-S1_prep2_lossless_Ntb.tif\n",
      "rm -rf \"/media/yuncong/BstemAtlasData/CSHL_data_processed/CHATM2/CHATM2_prep2_thumbnail_mask/CHATM2_slide100_2018_02_13-S1_prep2_thumbnail_mask.png\" && mkdir -p \"/media/yuncong/BstemAtlasData/CSHL_data_processed/CHATM2/CHATM2_prep2_thumbnail_mask\"\n",
      "0\n",
      "aws s3 cp \"s3://mousebrainatlas-data/CSHL_data_processed/CHATM2/CHATM2_prep2_thumbnail_mask/CHATM2_slide100_2018_02_13-S1_prep2_thumbnail_mask.png\" \"/media/yuncong/BstemAtlasData/CSHL_data_processed/CHATM2/CHATM2_prep2_thumbnail_mask/CHATM2_slide100_2018_02_13-S1_prep2_thumbnail_mask.png\"\n",
      "1\n",
      "[Errno 2] No such file or directory: '/media/yuncong/BstemAtlasData/CSHL_data_processed/CHATM2/CHATM2_prep2_thumbnail_mask/CHATM2_slide100_2018_02_13-S1_prep2_thumbnail_mask.png'\n"
     ]
    }
   ],
   "source": [
    "for stack in ['CHATM2']:\n",
    "\n",
    "    for sec in metadata_cache['valid_sections'][stack][::10]:\n",
    "        \n",
    "        try:\n",
    "        \n",
    "            print sec\n",
    "\n",
    "            NorF = DataManager.get_brightfield_or_fluorescence(stack=stack, sec=sec)\n",
    "\n",
    "            lossless_img = DataManager.load_image_v2(stack=stack, prep_id=2, section=sec, version=stack_versions[stack])\n",
    "\n",
    "            tb_mask = DataManager.load_thumbnail_mask_v3(stack=stack, prep_id=2, section=sec)\n",
    "            lossless_mask = rescale_by_resampling(tb_mask, 32)\n",
    "\n",
    "            if NorF == 'N':\n",
    "                counts, bins = np.histogram(lossless_img[lossless_mask], bins=np.linspace(0, 256, 257));\n",
    "            elif NorF == 'F':\n",
    "                counts, bins = np.histogram(lossless_img[lossless_mask], bins=np.linspace(0, 3500, 300));\n",
    "            else:\n",
    "                raise\n",
    "\n",
    "            vmax = lossless_img[lossless_mask].max()\n",
    "            vmin = lossless_img[lossless_mask].min()\n",
    "\n",
    "            fig = plt.figure(figsize=(10, 5));\n",
    "            plt.bar(bins[:-1], counts, align='center')\n",
    "            if NorF == 'N':\n",
    "                plt.xlim([-1, 256]);\n",
    "                plt.xticks(np.r_[bins[::50], vmin, vmax])\n",
    "            else:\n",
    "                plt.xlim([-1, 3500]);\n",
    "                plt.xticks(np.r_[bins[::50], vmin, vmax])\n",
    "            plt.axvline(x=vmax, c='r');\n",
    "            plt.axvline(x=vmin, c='r');\n",
    "            plt.title('Histogram (linear)');\n",
    "            plt.xlabel('Pixel intensity');\n",
    "    #                 plt.show();\n",
    "\n",
    "            plot_fp = os.path.join(ROOT_DIR, 'raw_image_histograms_fullImage', stack, '%s_%d%s.png' % (stack, sec, NorF))\n",
    "            create_parent_dir_if_not_exists(plot_fp)\n",
    "            plt.savefig(fname=plot_fp, bbox_inches='tight');\n",
    "            plt.close(fig);\n",
    "            upload_to_s3(plot_fp)\n",
    "\n",
    "            counts_log = np.log(counts)\n",
    "\n",
    "            fig = plt.figure(figsize=(10, 5));\n",
    "            plt.bar(bins[:-1], counts_log, width=np.diff(bins)[0]*.8, align='center');\n",
    "            if NorF == 'N':\n",
    "                plt.xlim([-1, 256]);\n",
    "                plt.xticks(np.r_[bins[::50], vmin, vmax])\n",
    "            else:\n",
    "                plt.xlim([-1, 3500]);\n",
    "                plt.xticks(np.r_[bins[::50], vmin, vmax])\n",
    "\n",
    "            plt.axvline(x=vmax, c='r');\n",
    "            plt.axvline(x=vmin, c='r');\n",
    "            plt.title('Histogram (log)');\n",
    "            plt.xlabel('Pixel intensity');\n",
    "    #                 plt.show();\n",
    "\n",
    "            plot_fp = os.path.join(ROOT_DIR, 'raw_image_histograms_log_fullImage', stack, '%s_%d%s.png' % (stack, sec, NorF))\n",
    "            create_parent_dir_if_not_exists(plot_fp)\n",
    "            plt.savefig(fname=plot_fp, bbox_inches='tight');\n",
    "            plt.close(fig);\n",
    "            upload_to_s3(plot_fp)\n",
    "        except Exception as e:\n",
    "            print e\n",
    "            pass"
   ]
  },
  {
   "cell_type": "code",
   "execution_count": null,
   "metadata": {
    "collapsed": true
   },
   "outputs": [],
   "source": []
  }
 ],
 "metadata": {
  "kernelspec": {
   "display_name": "Python 2",
   "language": "python",
   "name": "python2"
  },
  "language_info": {
   "codemirror_mode": {
    "name": "ipython",
    "version": 2
   },
   "file_extension": ".py",
   "mimetype": "text/x-python",
   "name": "python",
   "nbconvert_exporter": "python",
   "pygments_lexer": "ipython2",
   "version": "2.7.12"
  }
 },
 "nbformat": 4,
 "nbformat_minor": 2
}
