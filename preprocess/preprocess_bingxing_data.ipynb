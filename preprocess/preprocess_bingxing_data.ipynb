{
 "cells": [
  {
   "cell_type": "code",
   "execution_count": 1,
   "metadata": {},
   "outputs": [
    {
     "name": "stdout",
     "output_type": "stream",
     "text": [
      "Setting environment for Local Macbook Pro\n"
     ]
    }
   ],
   "source": [
    "%reload_ext autoreload\n",
    "%autoreload 2\n",
    "\n",
    "import numpy as np\n",
    "import bloscpack as bp\n",
    "\n",
    "import sys\n",
    "import os\n",
    "sys.path.append(os.path.join(os.environ['REPO_DIR'], 'utilities'))\n",
    "from utilities2015 import *\n",
    "from annotation_utilities import *\n",
    "from registration_utilities import *\n",
    "from vis3d_utilities import *\n",
    "from metadata import *\n",
    "from data_manager import *\n",
    "\n",
    "import time\n",
    "\n",
    "import matplotlib.pyplot as plt\n",
    "%matplotlib inline"
   ]
  },
  {
   "cell_type": "code",
   "execution_count": 2,
   "metadata": {
    "collapsed": true
   },
   "outputs": [],
   "source": [
    "raw_data_dirs = \\\n",
    "{('Nissl', 'down64'): '/home/yuncong/LGN3Datlas/m919LGN/STIF/',\n",
    "}\n",
    "\n",
    "input_image_filename_to_imagename_re_pattern_mapping = \\\n",
    "{('Nissl', 'down64'): '/home/yuncong/LGN3Datlas/m919LGN/STIF/(.*).tif',\n",
    "}"
   ]
  },
  {
   "cell_type": "code",
   "execution_count": 3,
   "metadata": {},
   "outputs": [
    {
     "name": "stdout",
     "output_type": "stream",
     "text": [
      "('Nissl', 'down64') missing:\n",
      "set([])\n",
      "\n"
     ]
    }
   ],
   "source": [
    "image_names_all_data_dirs_flattened = set([])\n",
    "image_names_all_data_dirs = {}\n",
    "for vr, data_dir in raw_data_dirs.iteritems():\n",
    "    if data_dir is None: continue\n",
    "    image_names = set([])\n",
    "    if vr in input_image_filename_to_imagename_re_pattern_mapping:\n",
    "        for fn in os.listdir(data_dir):\n",
    "            g = re.search(input_image_filename_to_imagename_re_pattern_mapping[vr], os.path.join(data_dir, fn))\n",
    "            img_name = g.groups()[0]\n",
    "            image_names.add(img_name)\n",
    "            image_names_all_data_dirs_flattened.add(img_name)\n",
    "    image_names_all_data_dirs[vr] = image_names\n",
    "    \n",
    "    \n",
    "# Make sure the every image has all three channels.\n",
    "for vr, img_names in image_names_all_data_dirs.iteritems():\n",
    "    print vr, 'missing:' \n",
    "    print image_names_all_data_dirs_flattened - img_names\n",
    "    print "
   ]
  },
  {
   "cell_type": "code",
   "execution_count": 4,
   "metadata": {},
   "outputs": [
    {
     "name": "stdout",
     "output_type": "stream",
     "text": [
      "54 images are found.\n"
     ]
    }
   ],
   "source": [
    "print len(image_names_all_data_dirs_flattened), 'images are found.'"
   ]
  },
  {
   "cell_type": "code",
   "execution_count": 5,
   "metadata": {},
   "outputs": [],
   "source": [
    "# valid_filenames = sorted(list(image_names_all_data_dirs_flattened), key=lambda n: int(n.split('_')[-1]))"
   ]
  },
  {
   "cell_type": "code",
   "execution_count": 6,
   "metadata": {
    "collapsed": true
   },
   "outputs": [],
   "source": [
    "thumbnail_downscale_factor = 64"
   ]
  },
  {
   "cell_type": "code",
   "execution_count": 7,
   "metadata": {},
   "outputs": [],
   "source": [
    "sections_to_filenames = {}\n",
    "for img_name in image_names_all_data_dirs_flattened:\n",
    "    sections_to_filenames[int(img_name.split('_')[-1])] = img_name"
   ]
  },
  {
   "cell_type": "code",
   "execution_count": 8,
   "metadata": {},
   "outputs": [
    {
     "name": "stdout",
     "output_type": "stream",
     "text": [
      "54 valid filenames\n"
     ]
    }
   ],
   "source": [
    "# Note that this could be the human-corrected version, in which case the transforms may not exist.\n",
    "valid_filenames = sorted([fn for fn in sections_to_filenames.values() if not is_invalid(fn=fn)], \n",
    "                         key=lambda n: int(n.split('_')[-1]))\n",
    "print len(valid_filenames), 'valid filenames'"
   ]
  },
  {
   "cell_type": "code",
   "execution_count": 9,
   "metadata": {
    "collapsed": true
   },
   "outputs": [],
   "source": [
    "tb_fmt = 'tif'"
   ]
  },
  {
   "cell_type": "code",
   "execution_count": 10,
   "metadata": {
    "collapsed": true
   },
   "outputs": [],
   "source": [
    "version = 'Nissl'"
   ]
  },
  {
   "cell_type": "code",
   "execution_count": 11,
   "metadata": {
    "collapsed": true
   },
   "outputs": [],
   "source": [
    "stack = 'M919'"
   ]
  },
  {
   "cell_type": "code",
   "execution_count": 32,
   "metadata": {},
   "outputs": [
    {
     "name": "stdout",
     "output_type": "stream",
     "text": [
      "cp /home/yuncong/LGN3Datlas/m919LGN/STIF/M919-N78--_2_0233.tif /home/yuncong/CSHL_data_processed/M919/M919_down64_Nissl/M919-N78--_2_0233_down64_Nissl.tif\n",
      "0\n",
      "cp /home/yuncong/LGN3Datlas/m919LGN/STIF/M919-N79--_2_0236.tif /home/yuncong/CSHL_data_processed/M919/M919_down64_Nissl/M919-N79--_2_0236_down64_Nissl.tif\n",
      "0\n",
      "cp /home/yuncong/LGN3Datlas/m919LGN/STIF/M919-N80--_2_0239.tif /home/yuncong/CSHL_data_processed/M919/M919_down64_Nissl/M919-N80--_2_0239_down64_Nissl.tif\n",
      "0\n",
      "cp /home/yuncong/LGN3Datlas/m919LGN/STIF/M919-N81--_2_0242.tif /home/yuncong/CSHL_data_processed/M919/M919_down64_Nissl/M919-N81--_2_0242_down64_Nissl.tif\n",
      "0\n",
      "cp /home/yuncong/LGN3Datlas/m919LGN/STIF/M919-N83--_2_0248.tif /home/yuncong/CSHL_data_processed/M919/M919_down64_Nissl/M919-N83--_2_0248_down64_Nissl.tif\n",
      "0\n",
      "cp /home/yuncong/LGN3Datlas/m919LGN/STIF/M919-N84--_2_0251.tif /home/yuncong/CSHL_data_processed/M919/M919_down64_Nissl/M919-N84--_2_0251_down64_Nissl.tif\n",
      "0\n",
      "cp /home/yuncong/LGN3Datlas/m919LGN/STIF/M919-N85--_2_0254.tif /home/yuncong/CSHL_data_processed/M919/M919_down64_Nissl/M919-N85--_2_0254_down64_Nissl.tif\n",
      "0\n",
      "cp /home/yuncong/LGN3Datlas/m919LGN/STIF/M919-N86--_2_0257.tif /home/yuncong/CSHL_data_processed/M919/M919_down64_Nissl/M919-N86--_2_0257_down64_Nissl.tif\n",
      "0\n",
      "cp /home/yuncong/LGN3Datlas/m919LGN/STIF/M919-N87--_2_0260.tif /home/yuncong/CSHL_data_processed/M919/M919_down64_Nissl/M919-N87--_2_0260_down64_Nissl.tif\n",
      "0\n",
      "cp /home/yuncong/LGN3Datlas/m919LGN/STIF/M919-N88--_2_0263.tif /home/yuncong/CSHL_data_processed/M919/M919_down64_Nissl/M919-N88--_2_0263_down64_Nissl.tif\n",
      "0\n",
      "cp /home/yuncong/LGN3Datlas/m919LGN/STIF/M919-N89--_2_0266.tif /home/yuncong/CSHL_data_processed/M919/M919_down64_Nissl/M919-N89--_2_0266_down64_Nissl.tif\n",
      "0\n",
      "cp /home/yuncong/LGN3Datlas/m919LGN/STIF/M919-N90--_2_0269.tif /home/yuncong/CSHL_data_processed/M919/M919_down64_Nissl/M919-N90--_2_0269_down64_Nissl.tif\n",
      "0\n",
      "cp /home/yuncong/LGN3Datlas/m919LGN/STIF/M919-N91--_2_0272.tif /home/yuncong/CSHL_data_processed/M919/M919_down64_Nissl/M919-N91--_2_0272_down64_Nissl.tif\n",
      "0\n",
      "cp /home/yuncong/LGN3Datlas/m919LGN/STIF/M919-N92--_2_0275.tif /home/yuncong/CSHL_data_processed/M919/M919_down64_Nissl/M919-N92--_2_0275_down64_Nissl.tif\n",
      "0\n",
      "cp /home/yuncong/LGN3Datlas/m919LGN/STIF/M919-N93--_2_0278.tif /home/yuncong/CSHL_data_processed/M919/M919_down64_Nissl/M919-N93--_2_0278_down64_Nissl.tif\n",
      "0\n",
      "cp /home/yuncong/LGN3Datlas/m919LGN/STIF/M919-N94--_2_0281.tif /home/yuncong/CSHL_data_processed/M919/M919_down64_Nissl/M919-N94--_2_0281_down64_Nissl.tif\n",
      "0\n",
      "cp /home/yuncong/LGN3Datlas/m919LGN/STIF/M919-N95--_2_0284.tif /home/yuncong/CSHL_data_processed/M919/M919_down64_Nissl/M919-N95--_2_0284_down64_Nissl.tif\n",
      "0\n",
      "cp /home/yuncong/LGN3Datlas/m919LGN/STIF/M919-N96--_2_0287.tif /home/yuncong/CSHL_data_processed/M919/M919_down64_Nissl/M919-N96--_2_0287_down64_Nissl.tif\n",
      "0\n",
      "cp /home/yuncong/LGN3Datlas/m919LGN/STIF/M919-N97--_2_0290.tif /home/yuncong/CSHL_data_processed/M919/M919_down64_Nissl/M919-N97--_2_0290_down64_Nissl.tif\n",
      "0\n",
      "cp /home/yuncong/LGN3Datlas/m919LGN/STIF/M919-N98--_2_0293.tif /home/yuncong/CSHL_data_processed/M919/M919_down64_Nissl/M919-N98--_2_0293_down64_Nissl.tif\n",
      "0\n",
      "cp /home/yuncong/LGN3Datlas/m919LGN/STIF/M919-N99--_2_0296.tif /home/yuncong/CSHL_data_processed/M919/M919_down64_Nissl/M919-N99--_2_0296_down64_Nissl.tif\n",
      "0\n",
      "cp /home/yuncong/LGN3Datlas/m919LGN/STIF/M919-N100--_2_0299.tif /home/yuncong/CSHL_data_processed/M919/M919_down64_Nissl/M919-N100--_2_0299_down64_Nissl.tif\n",
      "0\n",
      "cp /home/yuncong/LGN3Datlas/m919LGN/STIF/M919-N101--_2_0302.tif /home/yuncong/CSHL_data_processed/M919/M919_down64_Nissl/M919-N101--_2_0302_down64_Nissl.tif\n",
      "0\n",
      "cp /home/yuncong/LGN3Datlas/m919LGN/STIF/M919-N102--_2_0305.tif /home/yuncong/CSHL_data_processed/M919/M919_down64_Nissl/M919-N102--_2_0305_down64_Nissl.tif\n",
      "0\n",
      "cp /home/yuncong/LGN3Datlas/m919LGN/STIF/M919-N103--_2_0308.tif /home/yuncong/CSHL_data_processed/M919/M919_down64_Nissl/M919-N103--_2_0308_down64_Nissl.tif\n",
      "0\n",
      "cp /home/yuncong/LGN3Datlas/m919LGN/STIF/M919-N104--_2_0311.tif /home/yuncong/CSHL_data_processed/M919/M919_down64_Nissl/M919-N104--_2_0311_down64_Nissl.tif\n",
      "0\n",
      "cp /home/yuncong/LGN3Datlas/m919LGN/STIF/M919-N105--_2_0314.tif /home/yuncong/CSHL_data_processed/M919/M919_down64_Nissl/M919-N105--_2_0314_down64_Nissl.tif\n",
      "0\n",
      "cp /home/yuncong/LGN3Datlas/m919LGN/STIF/M919-N106--_2_0317.tif /home/yuncong/CSHL_data_processed/M919/M919_down64_Nissl/M919-N106--_2_0317_down64_Nissl.tif\n",
      "0\n",
      "cp /home/yuncong/LGN3Datlas/m919LGN/STIF/M919-N107--_2_0320.tif /home/yuncong/CSHL_data_processed/M919/M919_down64_Nissl/M919-N107--_2_0320_down64_Nissl.tif\n",
      "0\n",
      "cp /home/yuncong/LGN3Datlas/m919LGN/STIF/M919-N108--_2_0323.tif /home/yuncong/CSHL_data_processed/M919/M919_down64_Nissl/M919-N108--_2_0323_down64_Nissl.tif\n",
      "0\n",
      "cp /home/yuncong/LGN3Datlas/m919LGN/STIF/M919-N109--_2_0326.tif /home/yuncong/CSHL_data_processed/M919/M919_down64_Nissl/M919-N109--_2_0326_down64_Nissl.tif\n",
      "0\n",
      "cp /home/yuncong/LGN3Datlas/m919LGN/STIF/M919-N110--_2_0329.tif /home/yuncong/CSHL_data_processed/M919/M919_down64_Nissl/M919-N110--_2_0329_down64_Nissl.tif\n",
      "0\n",
      "cp /home/yuncong/LGN3Datlas/m919LGN/STIF/M919-N111--_2_0332.tif /home/yuncong/CSHL_data_processed/M919/M919_down64_Nissl/M919-N111--_2_0332_down64_Nissl.tif\n",
      "0\n",
      "cp /home/yuncong/LGN3Datlas/m919LGN/STIF/M919-N112--_2_0335.tif /home/yuncong/CSHL_data_processed/M919/M919_down64_Nissl/M919-N112--_2_0335_down64_Nissl.tif\n",
      "0\n",
      "cp /home/yuncong/LGN3Datlas/m919LGN/STIF/M919-N113--_2_0338.tif /home/yuncong/CSHL_data_processed/M919/M919_down64_Nissl/M919-N113--_2_0338_down64_Nissl.tif\n",
      "0\n",
      "cp /home/yuncong/LGN3Datlas/m919LGN/STIF/M919-N114--_2_0341.tif /home/yuncong/CSHL_data_processed/M919/M919_down64_Nissl/M919-N114--_2_0341_down64_Nissl.tif\n",
      "0\n",
      "cp /home/yuncong/LGN3Datlas/m919LGN/STIF/M919-N115--_2_0344.tif /home/yuncong/CSHL_data_processed/M919/M919_down64_Nissl/M919-N115--_2_0344_down64_Nissl.tif\n",
      "0\n",
      "cp /home/yuncong/LGN3Datlas/m919LGN/STIF/M919-N116--_2_0347.tif /home/yuncong/CSHL_data_processed/M919/M919_down64_Nissl/M919-N116--_2_0347_down64_Nissl.tif\n",
      "0\n",
      "cp /home/yuncong/LGN3Datlas/m919LGN/STIF/M919-N117--_2_0350.tif /home/yuncong/CSHL_data_processed/M919/M919_down64_Nissl/M919-N117--_2_0350_down64_Nissl.tif\n",
      "0\n",
      "cp /home/yuncong/LGN3Datlas/m919LGN/STIF/M919-N118--_2_0353.tif /home/yuncong/CSHL_data_processed/M919/M919_down64_Nissl/M919-N118--_2_0353_down64_Nissl.tif\n",
      "0\n",
      "cp /home/yuncong/LGN3Datlas/m919LGN/STIF/M919-N119--_2_0356.tif /home/yuncong/CSHL_data_processed/M919/M919_down64_Nissl/M919-N119--_2_0356_down64_Nissl.tif\n",
      "0\n",
      "cp /home/yuncong/LGN3Datlas/m919LGN/STIF/M919-N120--_2_0359.tif /home/yuncong/CSHL_data_processed/M919/M919_down64_Nissl/M919-N120--_2_0359_down64_Nissl.tif\n",
      "0\n",
      "cp /home/yuncong/LGN3Datlas/m919LGN/STIF/M919-N121--_1_0361.tif /home/yuncong/CSHL_data_processed/M919/M919_down64_Nissl/M919-N121--_1_0361_down64_Nissl.tif\n",
      "0\n",
      "cp /home/yuncong/LGN3Datlas/m919LGN/STIF/M919-N121--_2_0362.tif /home/yuncong/CSHL_data_processed/M919/M919_down64_Nissl/M919-N121--_2_0362_down64_Nissl.tif\n",
      "0\n",
      "cp /home/yuncong/LGN3Datlas/m919LGN/STIF/M919-N122--_1_0364.tif /home/yuncong/CSHL_data_processed/M919/M919_down64_Nissl/M919-N122--_1_0364_down64_Nissl.tif\n",
      "0\n",
      "cp /home/yuncong/LGN3Datlas/m919LGN/STIF/M919-N122--_2_0365.tif /home/yuncong/CSHL_data_processed/M919/M919_down64_Nissl/M919-N122--_2_0365_down64_Nissl.tif\n",
      "0\n",
      "cp /home/yuncong/LGN3Datlas/m919LGN/STIF/M919-N123--_1_0367.tif /home/yuncong/CSHL_data_processed/M919/M919_down64_Nissl/M919-N123--_1_0367_down64_Nissl.tif\n",
      "0\n",
      "cp /home/yuncong/LGN3Datlas/m919LGN/STIF/M919-N123--_2_0368.tif /home/yuncong/CSHL_data_processed/M919/M919_down64_Nissl/M919-N123--_2_0368_down64_Nissl.tif\n",
      "0\n",
      "cp /home/yuncong/LGN3Datlas/m919LGN/STIF/M919-N124--_1_0370.tif /home/yuncong/CSHL_data_processed/M919/M919_down64_Nissl/M919-N124--_1_0370_down64_Nissl.tif\n",
      "0\n",
      "cp /home/yuncong/LGN3Datlas/m919LGN/STIF/M919-N124--_2_0371.tif /home/yuncong/CSHL_data_processed/M919/M919_down64_Nissl/M919-N124--_2_0371_down64_Nissl.tif\n",
      "0\n",
      "cp /home/yuncong/LGN3Datlas/m919LGN/STIF/M919-N125--_1_0373.tif /home/yuncong/CSHL_data_processed/M919/M919_down64_Nissl/M919-N125--_1_0373_down64_Nissl.tif\n",
      "0\n",
      "cp /home/yuncong/LGN3Datlas/m919LGN/STIF/M919-N125--_2_0374.tif /home/yuncong/CSHL_data_processed/M919/M919_down64_Nissl/M919-N125--_2_0374_down64_Nissl.tif\n",
      "0\n",
      "cp /home/yuncong/LGN3Datlas/m919LGN/STIF/M919-N126--_1_0376.tif /home/yuncong/CSHL_data_processed/M919/M919_down64_Nissl/M919-N126--_1_0376_down64_Nissl.tif\n",
      "0\n",
      "cp /home/yuncong/LGN3Datlas/m919LGN/STIF/M919-N126--_2_0377.tif /home/yuncong/CSHL_data_processed/M919/M919_down64_Nissl/M919-N126--_2_0377_down64_Nissl.tif\n",
      "0\n"
     ]
    }
   ],
   "source": [
    "for img_name in valid_filenames:\n",
    "    in_fp = os.path.join(raw_data_dirs[('Nissl', 'down64')], img_name + '.tif')\n",
    "    out_fp = DataManager.get_image_filepath_v2(stack=stack, prep_id=None, version='Nissl', resol='down64', fn=img_name)\n",
    "    \n",
    "    create_parent_dir_if_not_exists(out_fp)\n",
    "    execute_command('cp %s %s' % (in_fp, out_fp))"
   ]
  },
  {
   "cell_type": "code",
   "execution_count": 12,
   "metadata": {
    "collapsed": true
   },
   "outputs": [],
   "source": [
    "script = os.path.join(REPO_DIR, 'preprocess', 'align_consecutive_v2.py')\n",
    "input_dir = DataManager.get_image_dir_v2(stack=stack, prep_id=None, version=version, resol='down64')\n",
    "output_dir = create_if_not_exists(os.path.join(THUMBNAIL_DATA_DIR, stack, stack + '_elastix_output'))"
   ]
  },
  {
   "cell_type": "code",
   "execution_count": 13,
   "metadata": {
    "collapsed": true
   },
   "outputs": [],
   "source": [
    "resol='down64'"
   ]
  },
  {
   "cell_type": "code",
   "execution_count": 14,
   "metadata": {
    "scrolled": true
   },
   "outputs": [
    {
     "name": "stdout",
     "output_type": "stream",
     "text": [
      "Align...\n",
      "rm -f ~/stderr_*; rm -f ~/stdout_*\n",
      "0\n"
     ]
    },
    {
     "name": "stderr",
     "output_type": "stream",
     "text": [
      "Run locally.\n"
     ]
    },
    {
     "ename": "KeyboardInterrupt",
     "evalue": "",
     "output_type": "error",
     "traceback": [
      "\u001b[0;31m---------------------------------------------------------------------------\u001b[0m",
      "\u001b[0;31mKeyboardInterrupt\u001b[0m                         Traceback (most recent call last)",
      "\u001b[0;32m<ipython-input-14-0afd50e237ed>\u001b[0m in \u001b[0;36m<module>\u001b[0;34m()\u001b[0m\n\u001b[1;32m     16\u001b[0m                 \u001b[0margument_type\u001b[0m\u001b[0;34m=\u001b[0m\u001b[0;34m'list'\u001b[0m\u001b[0;34m,\u001b[0m\u001b[0;34m\u001b[0m\u001b[0m\n\u001b[1;32m     17\u001b[0m                 \u001b[0mjobs_per_node\u001b[0m\u001b[0;34m=\u001b[0m\u001b[0;36m1\u001b[0m\u001b[0;34m,\u001b[0m\u001b[0;34m\u001b[0m\u001b[0m\n\u001b[0;32m---> 18\u001b[0;31m                local_only=True)\n\u001b[0m\u001b[1;32m     19\u001b[0m \u001b[0;34m\u001b[0m\u001b[0m\n\u001b[1;32m     20\u001b[0m \u001b[0;31m# wait_qsub_complete()\u001b[0m\u001b[0;34m\u001b[0m\u001b[0;34m\u001b[0m\u001b[0m\n",
      "\u001b[0;32m/home/yuncong/Brain/utilities/distributed_utilities.pyc\u001b[0m in \u001b[0;36mrun_distributed\u001b[0;34m(command, argument_type, kwargs_list, jobs_per_node, node_list, local_only)\u001b[0m\n\u001b[1;32m    183\u001b[0m \u001b[0;34m\u001b[0m\u001b[0m\n\u001b[1;32m    184\u001b[0m \u001b[0;32mdef\u001b[0m \u001b[0mrun_distributed\u001b[0m\u001b[0;34m(\u001b[0m\u001b[0mcommand\u001b[0m\u001b[0;34m,\u001b[0m \u001b[0margument_type\u001b[0m\u001b[0;34m=\u001b[0m\u001b[0;34m'single'\u001b[0m\u001b[0;34m,\u001b[0m \u001b[0mkwargs_list\u001b[0m\u001b[0;34m=\u001b[0m\u001b[0mNone\u001b[0m\u001b[0;34m,\u001b[0m \u001b[0mjobs_per_node\u001b[0m\u001b[0;34m=\u001b[0m\u001b[0;36m1\u001b[0m\u001b[0;34m,\u001b[0m \u001b[0mnode_list\u001b[0m\u001b[0;34m=\u001b[0m\u001b[0mNone\u001b[0m\u001b[0;34m,\u001b[0m \u001b[0mlocal_only\u001b[0m\u001b[0;34m=\u001b[0m\u001b[0mFalse\u001b[0m\u001b[0;34m)\u001b[0m\u001b[0;34m:\u001b[0m\u001b[0;34m\u001b[0m\u001b[0m\n\u001b[0;32m--> 185\u001b[0;31m     \u001b[0mrun_distributed5\u001b[0m\u001b[0;34m(\u001b[0m\u001b[0;34m**\u001b[0m\u001b[0mlocals\u001b[0m\u001b[0;34m(\u001b[0m\u001b[0;34m)\u001b[0m\u001b[0;34m)\u001b[0m\u001b[0;34m\u001b[0m\u001b[0m\n\u001b[0m\u001b[1;32m    186\u001b[0m \u001b[0;34m\u001b[0m\u001b[0m\n\u001b[1;32m    187\u001b[0m \u001b[0;31m# def run_distributed(command, kwargs_list=None, stdout=open('/tmp/log', 'ab+'), exclude_nodes=[], use_nodes=None, argument_type='list', cluster_size=None, jobs_per_node=1):\u001b[0m\u001b[0;34m\u001b[0m\u001b[0;34m\u001b[0m\u001b[0m\n",
      "\u001b[0;32m/home/yuncong/Brain/utilities/distributed_utilities.pyc\u001b[0m in \u001b[0;36mrun_distributed5\u001b[0;34m(command, argument_type, kwargs_list, jobs_per_node, node_list, local_only)\u001b[0m\n\u001b[1;32m    321\u001b[0m             \u001b[0mstdout_f\u001b[0m \u001b[0;34m=\u001b[0m \u001b[0mopen\u001b[0m\u001b[0;34m(\u001b[0m\u001b[0;34m'/home/yuncong/stdout_%d.log'\u001b[0m \u001b[0;34m%\u001b[0m \u001b[0mnode_i\u001b[0m\u001b[0;34m,\u001b[0m \u001b[0;34m\"w\"\u001b[0m\u001b[0;34m)\u001b[0m\u001b[0;34m\u001b[0m\u001b[0m\n\u001b[1;32m    322\u001b[0m             \u001b[0mstderr_f\u001b[0m \u001b[0;34m=\u001b[0m \u001b[0mopen\u001b[0m\u001b[0;34m(\u001b[0m\u001b[0;34m'/home/yuncong/stderr_%d.log'\u001b[0m \u001b[0;34m%\u001b[0m \u001b[0mnode_i\u001b[0m\u001b[0;34m,\u001b[0m \u001b[0;34m\"w\"\u001b[0m\u001b[0;34m)\u001b[0m\u001b[0;34m\u001b[0m\u001b[0m\n\u001b[0;32m--> 323\u001b[0;31m             \u001b[0mcall\u001b[0m\u001b[0;34m(\u001b[0m\u001b[0mtemp_script\u001b[0m\u001b[0;34m,\u001b[0m \u001b[0mshell\u001b[0m\u001b[0;34m=\u001b[0m\u001b[0mTrue\u001b[0m\u001b[0;34m,\u001b[0m \u001b[0mstdout\u001b[0m\u001b[0;34m=\u001b[0m\u001b[0mstdout_f\u001b[0m\u001b[0;34m,\u001b[0m \u001b[0mstderr\u001b[0m\u001b[0;34m=\u001b[0m\u001b[0mstderr_f\u001b[0m\u001b[0;34m)\u001b[0m\u001b[0;34m\u001b[0m\u001b[0m\n\u001b[0m\u001b[1;32m    324\u001b[0m         \u001b[0;32melse\u001b[0m\u001b[0;34m:\u001b[0m\u001b[0;34m\u001b[0m\u001b[0m\n\u001b[1;32m    325\u001b[0m             call('qsub -V -q all.q@%(node)s -o %(stdout_log)s -e %(stderr_log)s %(script)s' % \\\n",
      "\u001b[0;32m/usr/lib/python2.7/subprocess.pyc\u001b[0m in \u001b[0;36mcall\u001b[0;34m(*popenargs, **kwargs)\u001b[0m\n\u001b[1;32m    521\u001b[0m     \u001b[0mretcode\u001b[0m \u001b[0;34m=\u001b[0m \u001b[0mcall\u001b[0m\u001b[0;34m(\u001b[0m\u001b[0;34m[\u001b[0m\u001b[0;34m\"ls\"\u001b[0m\u001b[0;34m,\u001b[0m \u001b[0;34m\"-l\"\u001b[0m\u001b[0;34m]\u001b[0m\u001b[0;34m)\u001b[0m\u001b[0;34m\u001b[0m\u001b[0m\n\u001b[1;32m    522\u001b[0m     \"\"\"\n\u001b[0;32m--> 523\u001b[0;31m     \u001b[0;32mreturn\u001b[0m \u001b[0mPopen\u001b[0m\u001b[0;34m(\u001b[0m\u001b[0;34m*\u001b[0m\u001b[0mpopenargs\u001b[0m\u001b[0;34m,\u001b[0m \u001b[0;34m**\u001b[0m\u001b[0mkwargs\u001b[0m\u001b[0;34m)\u001b[0m\u001b[0;34m.\u001b[0m\u001b[0mwait\u001b[0m\u001b[0;34m(\u001b[0m\u001b[0;34m)\u001b[0m\u001b[0;34m\u001b[0m\u001b[0m\n\u001b[0m\u001b[1;32m    524\u001b[0m \u001b[0;34m\u001b[0m\u001b[0m\n\u001b[1;32m    525\u001b[0m \u001b[0;34m\u001b[0m\u001b[0m\n",
      "\u001b[0;32m/usr/lib/python2.7/subprocess.pyc\u001b[0m in \u001b[0;36mwait\u001b[0;34m(self)\u001b[0m\n\u001b[1;32m   1390\u001b[0m             \u001b[0;32mwhile\u001b[0m \u001b[0mself\u001b[0m\u001b[0;34m.\u001b[0m\u001b[0mreturncode\u001b[0m \u001b[0;32mis\u001b[0m \u001b[0mNone\u001b[0m\u001b[0;34m:\u001b[0m\u001b[0;34m\u001b[0m\u001b[0m\n\u001b[1;32m   1391\u001b[0m                 \u001b[0;32mtry\u001b[0m\u001b[0;34m:\u001b[0m\u001b[0;34m\u001b[0m\u001b[0m\n\u001b[0;32m-> 1392\u001b[0;31m                     \u001b[0mpid\u001b[0m\u001b[0;34m,\u001b[0m \u001b[0msts\u001b[0m \u001b[0;34m=\u001b[0m \u001b[0m_eintr_retry_call\u001b[0m\u001b[0;34m(\u001b[0m\u001b[0mos\u001b[0m\u001b[0;34m.\u001b[0m\u001b[0mwaitpid\u001b[0m\u001b[0;34m,\u001b[0m \u001b[0mself\u001b[0m\u001b[0;34m.\u001b[0m\u001b[0mpid\u001b[0m\u001b[0;34m,\u001b[0m \u001b[0;36m0\u001b[0m\u001b[0;34m)\u001b[0m\u001b[0;34m\u001b[0m\u001b[0m\n\u001b[0m\u001b[1;32m   1393\u001b[0m                 \u001b[0;32mexcept\u001b[0m \u001b[0mOSError\u001b[0m \u001b[0;32mas\u001b[0m \u001b[0me\u001b[0m\u001b[0;34m:\u001b[0m\u001b[0;34m\u001b[0m\u001b[0m\n\u001b[1;32m   1394\u001b[0m                     \u001b[0;32mif\u001b[0m \u001b[0me\u001b[0m\u001b[0;34m.\u001b[0m\u001b[0merrno\u001b[0m \u001b[0;34m!=\u001b[0m \u001b[0merrno\u001b[0m\u001b[0;34m.\u001b[0m\u001b[0mECHILD\u001b[0m\u001b[0;34m:\u001b[0m\u001b[0;34m\u001b[0m\u001b[0m\n",
      "\u001b[0;32m/usr/lib/python2.7/subprocess.pyc\u001b[0m in \u001b[0;36m_eintr_retry_call\u001b[0;34m(func, *args)\u001b[0m\n\u001b[1;32m    474\u001b[0m     \u001b[0;32mwhile\u001b[0m \u001b[0mTrue\u001b[0m\u001b[0;34m:\u001b[0m\u001b[0;34m\u001b[0m\u001b[0m\n\u001b[1;32m    475\u001b[0m         \u001b[0;32mtry\u001b[0m\u001b[0;34m:\u001b[0m\u001b[0;34m\u001b[0m\u001b[0m\n\u001b[0;32m--> 476\u001b[0;31m             \u001b[0;32mreturn\u001b[0m \u001b[0mfunc\u001b[0m\u001b[0;34m(\u001b[0m\u001b[0;34m*\u001b[0m\u001b[0margs\u001b[0m\u001b[0;34m)\u001b[0m\u001b[0;34m\u001b[0m\u001b[0m\n\u001b[0m\u001b[1;32m    477\u001b[0m         \u001b[0;32mexcept\u001b[0m \u001b[0;34m(\u001b[0m\u001b[0mOSError\u001b[0m\u001b[0;34m,\u001b[0m \u001b[0mIOError\u001b[0m\u001b[0;34m)\u001b[0m \u001b[0;32mas\u001b[0m \u001b[0me\u001b[0m\u001b[0;34m:\u001b[0m\u001b[0;34m\u001b[0m\u001b[0m\n\u001b[1;32m    478\u001b[0m             \u001b[0;32mif\u001b[0m \u001b[0me\u001b[0m\u001b[0;34m.\u001b[0m\u001b[0merrno\u001b[0m \u001b[0;34m==\u001b[0m \u001b[0merrno\u001b[0m\u001b[0;34m.\u001b[0m\u001b[0mEINTR\u001b[0m\u001b[0;34m:\u001b[0m\u001b[0;34m\u001b[0m\u001b[0m\n",
      "\u001b[0;31mKeyboardInterrupt\u001b[0m: "
     ]
    }
   ],
   "source": [
    "t = time.time()\n",
    "print 'Align...'\n",
    "\n",
    "run_distributed(\"%(script)s %(stack)s \\\"%(input_dir)s\\\" \\\"%(output_dir)s\\\" \\'%%(kwargs_str)s\\' %(fmt)s -p %(param_fp)s -r\" % \\\n",
    "                {'script': script,\n",
    "                'stack': stack,\n",
    "                'input_dir': input_dir,\n",
    "                'output_dir': output_dir,\n",
    "                'fmt': tb_fmt,\n",
    "                 'param_fp': '/home/yuncong/Brain/preprocess/parameters/Parameters_Rigid_MutualInfo_noNumberOfSpatialSamples.txt'\n",
    "                },\n",
    "                kwargs_list=[{'prev_fn': valid_filenames[i-1] + '_' + resol + '_' + version, \n",
    "                              'curr_fn': valid_filenames[i] + '_' + resol + '_' + version,\n",
    "                             'prev_sn': valid_filenames[i-1] ,\n",
    "                             'curr_sn': valid_filenames[i] } \n",
    "                             for i in range(1, len(valid_filenames))],\n",
    "                argument_type='list',\n",
    "                jobs_per_node=1,\n",
    "               local_only=True)\n",
    "\n",
    "# wait_qsub_complete()\n",
    "\n",
    "print 'done in', time.time() - t, 'seconds' # 2252 seconds full stack"
   ]
  },
  {
   "cell_type": "code",
   "execution_count": null,
   "metadata": {
    "collapsed": true
   },
   "outputs": [],
   "source": [
    "import re\n",
    "\n",
    "final_metric = {}\n",
    "for i in range(1, len(valid_filenames)):\n",
    "#     if stack == 'ChatCryoJane201710':\n",
    "#         prev_fn = valid_filenames[i-1] + '-Ntb'\n",
    "#         curr_fn = valid_filenames[i] + '-Ntb'\n",
    "#     else:\n",
    "    prev_fn = valid_filenames[i-1]\n",
    "    curr_fn = valid_filenames[i]\n",
    "\n",
    "    with open(os.path.join(output_dir, curr_fn + '_to_' + prev_fn, 'elastix.log'), 'r') as f:\n",
    "        t = f.read()\n",
    "        g = re.search(\"Final metric value  = (.*?)\\n\", t)\n",
    "#         final_metric[(curr_fn, prev_fn)] = -float(g.groups()[0])\n",
    "        if g is None:\n",
    "            print i\n",
    "        final_metric[i] = float(g.groups()[0])"
   ]
  },
  {
   "cell_type": "code",
   "execution_count": null,
   "metadata": {
    "collapsed": true
   },
   "outputs": [],
   "source": [
    "%matplotlib inline\n",
    "metric_arr = np.array(final_metric.values())\n",
    "plt.figure(figsize=(20,2));\n",
    "plt.ylim([-1, metric_arr.max()+.1]);\n",
    "plt.stem(metric_arr);\n",
    "plt.title('Mutual information of pairwise registration');\n",
    "plt.yticks(np.arange(-1, metric_arr.max()+.1, 0.1));\n",
    "plt.xlabel('Image index');\n",
    "plt.ylabel('Mutual info');"
   ]
  }
 ],
 "metadata": {
  "kernelspec": {
   "display_name": "Python 2",
   "language": "python",
   "name": "python2"
  },
  "language_info": {
   "codemirror_mode": {
    "name": "ipython",
    "version": 2
   },
   "file_extension": ".py",
   "mimetype": "text/x-python",
   "name": "python",
   "nbconvert_exporter": "python",
   "pygments_lexer": "ipython2",
   "version": "2.7.12"
  }
 },
 "nbformat": 4,
 "nbformat_minor": 2
}
