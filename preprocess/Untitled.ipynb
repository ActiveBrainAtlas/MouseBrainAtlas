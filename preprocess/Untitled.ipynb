{
 "cells": [
  {
   "cell_type": "code",
   "execution_count": 50,
   "metadata": {
    "collapsed": true
   },
   "outputs": [],
   "source": [
    "import cPickle as pickle"
   ]
  },
  {
   "cell_type": "code",
   "execution_count": 55,
   "metadata": {
    "collapsed": false
   },
   "outputs": [
    {
     "name": "stdout",
     "output_type": "stream",
     "text": [
      "MD585\n",
      "placeholder [('IHC_03', 1), ('IHC_04', 1), ('N_03', 1), ('N_16', 1), ('N_72', 1)]\n",
      "rescan []\n",
      "MD589\n",
      "placeholder [('N_58', 1), ('N_62', 1)]\n",
      "rescan []\n",
      "MD590\n",
      "MD591\n",
      "MD592\n",
      "MD593\n",
      "MD594\n",
      "MD595\n",
      "MD598\n",
      "MD602\n",
      "placeholder [('IHC_38', 3), ('N_01', 1), ('N_43', 1), ('N_46', 1)]\n",
      "rescan [('IHC_04', 1), ('IHC_04', 3), ('IHC_14', 1), ('IHC_15', 1), ('IHC_16', 1), ('IHC_16', 3), ('IHC_18', 1), ('IHC_31', 1), ('IHC_32', 1), ('IHC_60', 1), ('IHC_80', 3), ('IHC_84', 3), ('N_02', 1), ('N_02', 2), ('N_02', 3), ('N_09', 1), ('N_09', 2), ('N_09', 3), ('N_14', 3), ('N_15', 1), ('N_15', 3), ('N_22', 1), ('N_25', 3), ('N_28', 1), ('N_61', 3), ('N_63', 1), ('N_65', 3), ('N_74', 3), ('N_80', 1), ('N_80', 2), ('N_81', 1), ('N_82', 1), ('N_82', 3), ('N_83', 1)]\n",
      "MD603\n",
      "placeholder [('IHC_36', 2), ('IHC_59', 2), ('IHC_69', 2), ('N_36', 2)]\n",
      "rescan [('IHC_08', 1), ('N_70', 1), ('N_85', 3)]\n"
     ]
    }
   ],
   "source": [
    "for stack in ['MD585', 'MD589', 'MD590', 'MD591', 'MD592', 'MD593', 'MD594', 'MD595', 'MD598', 'MD602', 'MD603']:\n",
    "    print stack\n",
    "    try:\n",
    "        info = pickle.load(open('/home/yuncong/CSHL_data_processed/%(stack)s/%(stack)s_preprocessInfo.pkl' % dict(stack=stack), 'r'))\n",
    "        print 'placeholder', sorted(info['placeholder_slide_positions'])\n",
    "        print 'rescan', sorted(info['rescan_slide_positions'])\n",
    "    except:\n",
    "        pass"
   ]
  },
  {
   "cell_type": "code",
   "execution_count": null,
   "metadata": {
    "collapsed": true
   },
   "outputs": [],
   "source": []
  },
  {
   "cell_type": "code",
   "execution_count": null,
   "metadata": {
    "collapsed": true
   },
   "outputs": [],
   "source": []
  }
 ],
 "metadata": {
  "kernelspec": {
   "display_name": "Python 2",
   "language": "python",
   "name": "python2"
  },
  "language_info": {
   "codemirror_mode": {
    "name": "ipython",
    "version": 2
   },
   "file_extension": ".py",
   "mimetype": "text/x-python",
   "name": "python",
   "nbconvert_exporter": "python",
   "pygments_lexer": "ipython2",
   "version": "2.7.6"
  }
 },
 "nbformat": 4,
 "nbformat_minor": 0
}
