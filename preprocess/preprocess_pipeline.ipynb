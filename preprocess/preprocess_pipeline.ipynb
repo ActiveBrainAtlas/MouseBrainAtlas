{
 "cells": [
  {
   "cell_type": "code",
   "execution_count": 1,
   "metadata": {
    "collapsed": false,
    "deletable": true,
    "editable": true,
    "scrolled": true
   },
   "outputs": [
    {
     "name": "stdout",
     "output_type": "stream",
     "text": [
      "Setting environment for AWS compute node\n"
     ]
    },
    {
     "name": "stderr",
     "output_type": "stream",
     "text": [
      "No vtk\n",
      "File does not exist: /shared/CSHL_data_processed/MD585/MD585_anchor.txt\n",
      "File does not exist: /shared/CSHL_data_processed/MD585/MD585_sorted_filenames.txt\n",
      "File does not exist: /shared/CSHL_data_processed/MD585/MD585_cropbox.txt\n",
      "File does not exist: /shared/CSHL_data_processed/MD585/MD585_cropbox.txt\n",
      "File does not exist: /shared/CSHL_data_processed/MD589/MD589_anchor.txt\n",
      "File does not exist: /shared/CSHL_data_processed/MD589/MD589_sorted_filenames.txt\n",
      "File does not exist: /shared/CSHL_data_processed/MD589/MD589_cropbox.txt\n",
      "File does not exist: /shared/CSHL_data_processed/MD589/MD589_cropbox.txt\n",
      "File does not exist: /shared/CSHL_data_processed/MD590/MD590_anchor.txt\n",
      "File does not exist: /shared/CSHL_data_processed/MD590/MD590_sorted_filenames.txt\n",
      "File does not exist: /shared/CSHL_data_processed/MD590/MD590_cropbox.txt\n",
      "File does not exist: /shared/CSHL_data_processed/MD590/MD590_cropbox.txt\n",
      "File does not exist: /shared/CSHL_data_processed/MD591/MD591_anchor.txt\n",
      "File does not exist: /shared/CSHL_data_processed/MD591/MD591_sorted_filenames.txt\n",
      "File does not exist: /shared/CSHL_data_processed/MD591/MD591_cropbox.txt\n",
      "File does not exist: /shared/CSHL_data_processed/MD591/MD591_cropbox.txt\n",
      "File does not exist: /shared/CSHL_data_processed/MD592/MD592_anchor.txt\n",
      "File does not exist: /shared/CSHL_data_processed/MD592/MD592_sorted_filenames.txt\n",
      "File does not exist: /shared/CSHL_data_processed/MD592/MD592_cropbox.txt\n",
      "File does not exist: /shared/CSHL_data_processed/MD592/MD592_cropbox.txt\n",
      "File does not exist: /shared/CSHL_data_processed/MD593/MD593_anchor.txt\n",
      "File does not exist: /shared/CSHL_data_processed/MD593/MD593_sorted_filenames.txt\n",
      "File does not exist: /shared/CSHL_data_processed/MD593/MD593_cropbox.txt\n",
      "File does not exist: /shared/CSHL_data_processed/MD593/MD593_cropbox.txt\n",
      "File does not exist: /shared/CSHL_data_processed/MD594/MD594_anchor.txt\n",
      "File does not exist: /shared/CSHL_data_processed/MD594/MD594_sorted_filenames.txt\n",
      "File does not exist: /shared/CSHL_data_processed/MD594/MD594_cropbox.txt\n",
      "File does not exist: /shared/CSHL_data_processed/MD594/MD594_cropbox.txt\n",
      "File does not exist: /shared/CSHL_data_processed/MD595/MD595_anchor.txt\n",
      "File does not exist: /shared/CSHL_data_processed/MD595/MD595_sorted_filenames.txt\n",
      "File does not exist: /shared/CSHL_data_processed/MD595/MD595_cropbox.txt\n",
      "File does not exist: /shared/CSHL_data_processed/MD595/MD595_cropbox.txt\n",
      "File does not exist: /shared/CSHL_data_processed/MD598/MD598_anchor.txt\n",
      "File does not exist: /shared/CSHL_data_processed/MD598/MD598_sorted_filenames.txt\n",
      "File does not exist: /shared/CSHL_data_processed/MD598/MD598_cropbox.txt\n",
      "File does not exist: /shared/CSHL_data_processed/MD598/MD598_cropbox.txt\n",
      "File does not exist: /shared/CSHL_data_processed/MD599/MD599_anchor.txt\n",
      "File does not exist: /shared/CSHL_data_processed/MD599/MD599_sorted_filenames.txt\n",
      "File does not exist: /shared/CSHL_data_processed/MD599/MD599_cropbox.txt\n",
      "File does not exist: /shared/CSHL_data_processed/MD599/MD599_cropbox.txt\n",
      "File does not exist: /shared/CSHL_data_processed/MD602/MD602_anchor.txt\n",
      "File does not exist: /shared/CSHL_data_processed/MD602/MD602_sorted_filenames.txt\n",
      "File does not exist: /shared/CSHL_data_processed/MD602/MD602_cropbox.txt\n",
      "File does not exist: /shared/CSHL_data_processed/MD602/MD602_cropbox.txt\n",
      "File does not exist: /shared/CSHL_data_processed/MD603/MD603_anchor.txt\n",
      "File does not exist: /shared/CSHL_data_processed/MD603/MD603_sorted_filenames.txt\n",
      "File does not exist: /shared/CSHL_data_processed/MD603/MD603_cropbox.txt\n",
      "File does not exist: /shared/CSHL_data_processed/MD603/MD603_cropbox.txt\n",
      "File does not exist: /shared/CSHL_data_processed/MD635/MD635_anchor.txt\n",
      "File does not exist: /shared/CSHL_data_processed/MD635/MD635_sorted_filenames.txt\n",
      "File does not exist: /shared/CSHL_data_processed/MD635/MD635_cropbox.txt\n",
      "File does not exist: /shared/CSHL_data_processed/MD635/MD635_cropbox.txt\n",
      "File does not exist: /shared/CSHL_data_processed/MD653/MD653_anchor.txt\n",
      "File does not exist: /shared/CSHL_data_processed/MD653/MD653_sorted_filenames.txt\n",
      "File does not exist: /shared/CSHL_data_processed/MD653/MD653_cropbox.txt\n",
      "File does not exist: /shared/CSHL_data_processed/MD653/MD653_cropbox.txt\n",
      "File does not exist: /shared/CSHL_data_processed/MD652/MD652_anchor.txt\n",
      "File does not exist: /shared/CSHL_data_processed/MD652/MD652_sorted_filenames.txt\n",
      "File does not exist: /shared/CSHL_data_processed/MD652/MD652_cropbox.txt\n",
      "File does not exist: /shared/CSHL_data_processed/MD652/MD652_cropbox.txt\n",
      "File does not exist: /shared/CSHL_data_processed/MD642/MD642_anchor.txt\n",
      "File does not exist: /shared/CSHL_data_processed/MD642/MD642_sorted_filenames.txt\n",
      "File does not exist: /shared/CSHL_data_processed/MD642/MD642_cropbox.txt\n",
      "File does not exist: /shared/CSHL_data_processed/MD642/MD642_cropbox.txt\n",
      "File does not exist: /shared/CSHL_data_processed/MD657/MD657_anchor.txt\n",
      "File does not exist: /shared/CSHL_data_processed/MD657/MD657_sorted_filenames.txt\n",
      "File does not exist: /shared/CSHL_data_processed/MD657/MD657_cropbox.txt\n",
      "File does not exist: /shared/CSHL_data_processed/MD657/MD657_cropbox.txt\n"
     ]
    }
   ],
   "source": [
    "%load_ext autoreload\n",
    "%autoreload 2\n",
    "\n",
    "import os\n",
    "import time\n",
    "import sys\n",
    "\n",
    "sys.path.append(os.path.join(os.environ['REPO_DIR'], 'utilities'))\n",
    "from utilities2015 import *\n",
    "from metadata import *\n",
    "from data_manager import *\n",
    "from distributed_utilities import *"
   ]
  },
  {
   "cell_type": "code",
   "execution_count": 5,
   "metadata": {
    "collapsed": true
   },
   "outputs": [],
   "source": [
    "stack = 'MD589'"
   ]
  },
  {
   "cell_type": "code",
   "execution_count": 24,
   "metadata": {
    "collapsed": false,
    "deletable": true,
    "editable": true
   },
   "outputs": [
    {
     "name": "stdout",
     "output_type": "stream",
     "text": [
      "rm -rf /shared/CSHL_data/MD589 && mkdir -p /shared/CSHL_data\n",
      "aws s3 cp --recursive s3://mousebrainatlas-data/CSHL_data/MD589 /shared/CSHL_data/MD589 --include \"*.tif\"\n"
     ]
    },
    {
     "name": "stderr",
     "output_type": "stream",
     "text": [
      "Child returned 0\n",
      "Child returned 0\n"
     ]
    }
   ],
   "source": [
    "transfer_data_synced(os.path.join('CSHL_data', stack), \n",
    "                     from_hostname='s3', to_hostname='ec2', is_dir=True, include_only='*.tif')"
   ]
  },
  {
   "cell_type": "code",
   "execution_count": 6,
   "metadata": {
    "collapsed": false,
    "deletable": true,
    "editable": true
   },
   "outputs": [
    {
     "name": "stdout",
     "output_type": "stream",
     "text": [
      "rm -rf /shared/CSHL_data_processed/MD589/MD589_sorted_filenames.txt && mkdir -p /shared/CSHL_data_processed/MD589\n",
      "aws s3 cp s3://mousebrainatlas-data/CSHL_data_processed/MD589/MD589_sorted_filenames.txt /shared/CSHL_data_processed/MD589/MD589_sorted_filenames.txt\n"
     ]
    },
    {
     "name": "stderr",
     "output_type": "stream",
     "text": [
      "Child returned 0\n",
      "Child returned 0\n"
     ]
    }
   ],
   "source": [
    "transfer_data_synced(os.path.join('CSHL_data_processed', stack, stack + '_sorted_filenames.txt'), \n",
    "                     from_hostname='s3', to_hostname='ec2', is_dir=False)"
   ]
  },
  {
   "cell_type": "code",
   "execution_count": 8,
   "metadata": {
    "collapsed": false
   },
   "outputs": [
    {
     "name": "stdout",
     "output_type": "stream",
     "text": [
      "rm -rf /shared/CSHL_data_processed/MD589/MD589_elastix_output && mkdir -p /shared/CSHL_data_processed/MD589\n",
      "aws s3 cp --recursive s3://mousebrainatlas-data/CSHL_data_processed/MD589/MD589_elastix_output /shared/CSHL_data_processed/MD589/MD589_elastix_output\n"
     ]
    },
    {
     "name": "stderr",
     "output_type": "stream",
     "text": [
      "Child returned 0\n",
      "Child returned 0\n"
     ]
    }
   ],
   "source": [
    "transfer_data_synced(os.path.join('CSHL_data_processed', stack, stack + '_elastix_output'), \n",
    "                     from_hostname='s3', to_hostname='ec2', is_dir=True)"
   ]
  },
  {
   "cell_type": "markdown",
   "metadata": {
    "deletable": true,
    "editable": true
   },
   "source": [
    "# Align"
   ]
  },
  {
   "cell_type": "code",
   "execution_count": 7,
   "metadata": {
    "collapsed": false,
    "deletable": true,
    "editable": true,
    "scrolled": true
   },
   "outputs": [],
   "source": [
    "_, sections_to_filenames = DataManager.load_sorted_filenames(stack=stack)\n",
    "filenames = [fn for fn in sections_to_filenames.values() if not is_invalid(fn=fn)]"
   ]
  },
  {
   "cell_type": "code",
   "execution_count": 3,
   "metadata": {
    "collapsed": false,
    "deletable": true,
    "editable": true
   },
   "outputs": [
    {
     "name": "stdout",
     "output_type": "stream",
     "text": [
      "['gcn-20-33.sdsc.edu'] are excluded\n",
      "Using nodes: ['gcn-20-31.sdsc.edu', 'gcn-20-32.sdsc.edu', 'gcn-20-34.sdsc.edu', 'gcn-20-35.sdsc.edu', 'gcn-20-36.sdsc.edu', 'gcn-20-37.sdsc.edu', 'gcn-20-38.sdsc.edu', 'gcn-20-41.sdsc.edu', 'gcn-20-42.sdsc.edu', 'gcn-20-43.sdsc.edu', 'gcn-20-44.sdsc.edu', 'gcn-20-45.sdsc.edu', 'gcn-20-46.sdsc.edu', 'gcn-20-47.sdsc.edu', 'gcn-20-48.sdsc.edu']\n"
     ]
    }
   ],
   "source": [
    "run_distributed(\"%(script)s %(stack)s %(input_dir)s %(elastix_output_dir)s \\'%%(kwargs_str)s\\'\" % \\\n",
    "                {'stack': stack,\n",
    "                'script': os.path.join(REPO_DIR, 'preprocess', 'align_consecutive_v2.py'),\n",
    "                'input_dir': os.path.join(RAW_DATA_DIR, stack),\n",
    "                'elastix_output_dir': os.path.join(DATA_DIR, stack, stack+'_elastix_output')},\n",
    "                kwargs_list=[{'prev_fn': filenames[i-1], 'curr_fn': filenames[i]} for i in range(1, len(filenames))],\n",
    "                argument_type='list',\n",
    "               cluster_size=12,\n",
    "                exclude_nodes=[33])"
   ]
  },
  {
   "cell_type": "markdown",
   "metadata": {
    "deletable": true,
    "editable": true
   },
   "source": [
    "# Compose"
   ]
  },
  {
   "cell_type": "code",
   "execution_count": 9,
   "metadata": {
    "collapsed": false,
    "deletable": true,
    "editable": true
   },
   "outputs": [
    {
     "name": "stdout",
     "output_type": "stream",
     "text": [
      "rm -rf /shared/CSHL_data_processed/MD589/MD589_anchor.txt && mkdir -p /shared/CSHL_data_processed/MD589\n",
      "aws s3 cp s3://mousebrainatlas-data/CSHL_data_processed/MD589/MD589_anchor.txt /shared/CSHL_data_processed/MD589/MD589_anchor.txt\n"
     ]
    },
    {
     "name": "stderr",
     "output_type": "stream",
     "text": [
      "Child returned 0\n",
      "Child returned 0\n"
     ]
    }
   ],
   "source": [
    "transfer_data_synced(os.path.join('CSHL_data_processed', stack, stack + '_anchor.txt'), \n",
    "                     from_hostname='s3', to_hostname='ec2', is_dir=False)"
   ]
  },
  {
   "cell_type": "code",
   "execution_count": 10,
   "metadata": {
    "collapsed": false,
    "deletable": true,
    "editable": true
   },
   "outputs": [],
   "source": [
    "anchor_fn = DataManager.load_anchor_filename(stack=stack)"
   ]
  },
  {
   "cell_type": "code",
   "execution_count": 11,
   "metadata": {
    "collapsed": true,
    "deletable": true,
    "editable": true
   },
   "outputs": [],
   "source": [
    "elastix_output_dir = os.path.join(DATA_DIR, stack, stack + '_elastix_output')\n",
    "output_fn = os.path.join(elastix_output_dir, '%(stack)s_transformsTo_%(anchor_fn)s.pkl' % \\\n",
    "                                                dict(stack=stack, anchor_fn=anchor_fn))"
   ]
  },
  {
   "cell_type": "code",
   "execution_count": 6,
   "metadata": {
    "collapsed": true,
    "deletable": true,
    "editable": true
   },
   "outputs": [],
   "source": [
    "! rm -f $output_fn"
   ]
  },
  {
   "cell_type": "code",
   "execution_count": 7,
   "metadata": {
    "collapsed": false,
    "deletable": true,
    "editable": true
   },
   "outputs": [
    {
     "name": "stdout",
     "output_type": "stream",
     "text": [
      "Composing transform...\n",
      "['gcn-20-33.sdsc.edu'] are excluded\n",
      "Using nodes: ['gcn-20-31.sdsc.edu', 'gcn-20-32.sdsc.edu', 'gcn-20-34.sdsc.edu', 'gcn-20-35.sdsc.edu', 'gcn-20-36.sdsc.edu', 'gcn-20-37.sdsc.edu', 'gcn-20-38.sdsc.edu', 'gcn-20-41.sdsc.edu', 'gcn-20-42.sdsc.edu', 'gcn-20-43.sdsc.edu', 'gcn-20-44.sdsc.edu', 'gcn-20-45.sdsc.edu', 'gcn-20-46.sdsc.edu', 'gcn-20-47.sdsc.edu', 'gcn-20-48.sdsc.edu']\n",
      "rm /oasis/projects/nsf/csd395/yuncong/CSHL_data_processed/MD657/MD657_elastix_output/MD657_transformsTo_anchor.pkl\n",
      "ln -s /oasis/projects/nsf/csd395/yuncong/CSHL_data_processed/MD657/MD657_elastix_output/MD657_transformsTo_MD657-F44-2017.02.18-06.06.27_MD657_1_0130.pkl /oasis/projects/nsf/csd395/yuncong/CSHL_data_processed/MD657/MD657_elastix_output/MD657_transformsTo_anchor.pkl\n",
      "done in 22.394327879 seconds\n"
     ]
    },
    {
     "name": "stderr",
     "output_type": "stream",
     "text": [
      "Child returned 0\n",
      "Child returned 0\n"
     ]
    }
   ],
   "source": [
    "t = time.time()\n",
    "print 'Composing transform...'\n",
    "\n",
    "run_distributed(\"%(script)s %(stack)s %(elastix_output_dir)s \\'%%(kwargs_str)s\\' %(anchor_idx)d %(output_fn)s\" % \\\n",
    "            {'stack': stack,\n",
    "            'script': os.path.join(REPO_DIR, 'preprocess', 'compose_transform_thumbnail_v2.py'),\n",
    "            'elastix_output_dir': elastix_output_dir,\n",
    "            'anchor_idx': filenames.index(anchor_fn),\n",
    "            'output_fn': output_fn},\n",
    "            kwargs_list=[{'filenames': filenames}],\n",
    "            argument_type='list',\n",
    "               cluster_size=1,\n",
    "               exclude_nodes=[33])\n",
    "\n",
    "linked_name = os.path.join(elastix_output_dir, '%(stack)s_transformsTo_anchor.pkl' % dict(stack=stack))\n",
    "execute_command('rm ' + linked_name)\n",
    "execute_command('ln -s ' + output_fn + ' ' + linked_name)\n",
    "\n",
    "print 'done in', time.time() - t, 'seconds'"
   ]
  },
  {
   "cell_type": "markdown",
   "metadata": {
    "deletable": true,
    "editable": true
   },
   "source": [
    "# Warp"
   ]
  },
  {
   "cell_type": "code",
   "execution_count": 5,
   "metadata": {
    "collapsed": true,
    "deletable": true,
    "editable": true
   },
   "outputs": [],
   "source": [
    "tb_fmt = 'png'\n",
    "pad_bg_color = 'auto'"
   ]
  },
  {
   "cell_type": "code",
   "execution_count": 9,
   "metadata": {
    "collapsed": true,
    "deletable": true,
    "editable": true
   },
   "outputs": [],
   "source": [
    "input_dir = os.path.join(RAW_DATA_DIR, stack)\n",
    "out_dir = os.path.join(DATA_DIR, stack, stack + '_thumbnail_alignedTo_' + anchor_fn)\n",
    "script = os.path.join(REPO_DIR, 'preprocess', 'warp_crop_IM_v2.py')"
   ]
  },
  {
   "cell_type": "code",
   "execution_count": 10,
   "metadata": {
    "collapsed": false,
    "deletable": true,
    "editable": true
   },
   "outputs": [],
   "source": [
    "! rm -r $out_dir"
   ]
  },
  {
   "cell_type": "code",
   "execution_count": 11,
   "metadata": {
    "collapsed": false,
    "deletable": true,
    "editable": true,
    "scrolled": true
   },
   "outputs": [
    {
     "name": "stdout",
     "output_type": "stream",
     "text": [
      "Warping...\n",
      "['gcn-20-33.sdsc.edu'] are excluded\n",
      "Using nodes: ['gcn-20-31.sdsc.edu', 'gcn-20-32.sdsc.edu', 'gcn-20-34.sdsc.edu', 'gcn-20-35.sdsc.edu', 'gcn-20-36.sdsc.edu', 'gcn-20-37.sdsc.edu', 'gcn-20-38.sdsc.edu', 'gcn-20-41.sdsc.edu', 'gcn-20-42.sdsc.edu', 'gcn-20-43.sdsc.edu', 'gcn-20-44.sdsc.edu', 'gcn-20-45.sdsc.edu', 'gcn-20-46.sdsc.edu', 'gcn-20-47.sdsc.edu', 'gcn-20-48.sdsc.edu']\n",
      "done in 631.269037008 seconds\n"
     ]
    }
   ],
   "source": [
    "t = time.time()\n",
    "print 'Warping...'\n",
    "\n",
    "transforms_filename = os.path.join(elastix_output_dir,\n",
    "                    '%(stack)s_transformsTo_%(anchor_fn)s.pkl' % \\\n",
    "                    dict(stack=stack, anchor_fn=anchor_fn))\n",
    "transforms_to_anchor = pickle.load(open(transforms_filename, 'r'))\n",
    "\n",
    "if pad_bg_color == 'auto':\n",
    "    run_distributed('%(script)s %(stack)s %(input_dir)s %(out_dir)s %%(transform)s %%(filename)s %%(output_fn)s thumbnail 0 0 2000 1500 %%(pad_bg_color)s' % \\\n",
    "                    {'script': script,\n",
    "                    'stack': stack,\n",
    "                    'input_dir': input_dir,\n",
    "                    'out_dir': out_dir\n",
    "                    },\n",
    "                    kwargs_list=[{'transform': ','.join(map(str, transforms_to_anchor[fn].flatten())),\n",
    "                                'filename': fn + '.' + tb_fmt,\n",
    "                                'output_fn': fn + '_thumbnail_alignedTo_' + anchor_fn + '.tif',\n",
    "                                'pad_bg_color': 'black' if fn.split('-')[1][0] == 'F' else 'white'}\n",
    "                                for fn in filenames],\n",
    "                    exclude_nodes=[33],\n",
    "                    argument_type='single',\n",
    "                   cluster_size=12)\n",
    "else:\n",
    "    run_distributed('%(script)s %(stack)s %(input_dir)s %(out_dir)s %%(transform)s %%(filename)s %%(output_fn)s thumbnail 0 0 2000 1500 %%(pad_bg_color)s' % \\\n",
    "                    {'script_dir': script,\n",
    "                    'stack': stack,\n",
    "                    'input_dir': input_dir,\n",
    "                    'out_dir': out_dir,\n",
    "                    'pad_bg_color': pad_bg_color},\n",
    "                    kwargs_list=[{'transform': ','.join(map(str, transforms_to_anchor[fn].flatten())),\n",
    "                                'filename': fn + '.' + tb_fmt,\n",
    "                                'output_fn': fn + '_thumbnail_alignedTo_' + anchor_fn + '.tif'}\n",
    "                                for fn in filenames],\n",
    "                    exclude_nodes=[33],\n",
    "                    argument_type='single',\n",
    "                   cluster_size=12)\n",
    "\n",
    "print 'done in', time.time() - t, 'seconds'"
   ]
  },
  {
   "cell_type": "code",
   "execution_count": 47,
   "metadata": {
    "collapsed": false,
    "deletable": true,
    "editable": true
   },
   "outputs": [
    {
     "name": "stdout",
     "output_type": "stream",
     "text": [
      "aws s3 cp --recursive /shared/CSHL_data_processed/MD589/MD589_thumbnails_alignedTo_MD589-IHC31-2015.07.30-23.26.22_MD589_1_0091 s3://mousebrainatlas-data/CSHL_data_processed/MD589/MD589_thumbnails_alignedTo_MD589-IHC31-2015.07.30-23.26.22_MD589_1_0091\n"
     ]
    },
    {
     "name": "stderr",
     "output_type": "stream",
     "text": [
      "Child returned 0\n"
     ]
    }
   ],
   "source": [
    "transfer_data_synced(os.path.join('CSHL_data_processed', stack, stack + '_thumbnails_alignedTo_' + anchor_fn),\n",
    "                    from_hostname='ec2',\n",
    "                    to_hostname='s3',\n",
    "                    is_dir=True)"
   ]
  },
  {
   "cell_type": "markdown",
   "metadata": {
    "deletable": true,
    "editable": true
   },
   "source": [
    "# Crop"
   ]
  },
  {
   "cell_type": "code",
   "execution_count": 12,
   "metadata": {
    "collapsed": false,
    "deletable": true,
    "editable": true
   },
   "outputs": [
    {
     "name": "stdout",
     "output_type": "stream",
     "text": [
      "rm -rf /shared/CSHL_data_processed/MD589/MD589_cropbox.txt && mkdir -p /shared/CSHL_data_processed/MD589\n",
      "aws s3 cp s3://mousebrainatlas-data/CSHL_data_processed/MD589/MD589_cropbox.txt /shared/CSHL_data_processed/MD589/MD589_cropbox.txt\n"
     ]
    },
    {
     "name": "stderr",
     "output_type": "stream",
     "text": [
      "Child returned 0\n",
      "Child returned 0\n"
     ]
    }
   ],
   "source": [
    "transfer_data_synced(os.path.join('CSHL_data_processed', stack, stack + '_cropbox.txt'), \n",
    "                     from_hostname='s3', to_hostname='ec2', is_dir=False)"
   ]
  },
  {
   "cell_type": "code",
   "execution_count": 13,
   "metadata": {
    "collapsed": false,
    "deletable": true,
    "editable": true,
    "scrolled": true
   },
   "outputs": [],
   "source": [
    "xmin, xmax, ymin, ymax, first_sec, last_sec = DataManager.load_cropbox(stack=stack)\n",
    "w = xmax + 1 - xmin\n",
    "h = ymax + 1 - ymin\n",
    "x = xmin\n",
    "y = ymin"
   ]
  },
  {
   "cell_type": "code",
   "execution_count": 14,
   "metadata": {
    "collapsed": true,
    "deletable": true,
    "editable": true
   },
   "outputs": [],
   "source": [
    "first_fn = filenames[first_sec-1]\n",
    "last_fn = filenames[last_sec-1]"
   ]
  },
  {
   "cell_type": "code",
   "execution_count": 15,
   "metadata": {
    "collapsed": true,
    "deletable": true,
    "editable": true
   },
   "outputs": [],
   "source": [
    "first_idx = filenames.index(first_fn)\n",
    "last_idx = filenames.index(last_fn)"
   ]
  },
  {
   "cell_type": "markdown",
   "metadata": {
    "deletable": true,
    "editable": true
   },
   "source": [
    "# Crop Thumbnail"
   ]
  },
  {
   "cell_type": "code",
   "execution_count": 19,
   "metadata": {
    "collapsed": false,
    "deletable": true,
    "editable": true
   },
   "outputs": [
    {
     "name": "stdout",
     "output_type": "stream",
     "text": [
      "mkdir -p /oasis/projects/nsf/csd395/yuncong/CSHL_data_processed/MD657/MD657_thumbnail_alignedTo_MD657-F44-2017.02.18-06.06.27_MD657_1_0130_cropped\n"
     ]
    },
    {
     "name": "stderr",
     "output_type": "stream",
     "text": [
      "Child returned 0\n"
     ]
    },
    {
     "data": {
      "text/plain": [
       "0"
      ]
     },
     "execution_count": 19,
     "metadata": {},
     "output_type": "execute_result"
    }
   ],
   "source": [
    "input_dir = os.path.join(DATA_DIR, stack, \"%(stack)s_thumbnail_alignedTo_%(anchor_fn)s\" % \\\n",
    "                           {'stack': stack, 'anchor_fn': anchor_fn})\n",
    "\n",
    "output_dir = os.path.join(DATA_DIR, stack, \"%(stack)s_thumbnail_alignedTo_%(anchor_fn)s_cropped\" % \\\n",
    "                           {'stack': stack, 'anchor_fn': anchor_fn})\n",
    "\n",
    "execute_command('mkdir -p ' + output_dir)"
   ]
  },
  {
   "cell_type": "code",
   "execution_count": 20,
   "metadata": {
    "collapsed": false,
    "deletable": true,
    "editable": true
   },
   "outputs": [
    {
     "name": "stderr",
     "output_type": "stream",
     "text": [
      "cropping thumbnail..."
     ]
    },
    {
     "name": "stdout",
     "output_type": "stream",
     "text": [
      "mogrify -set filename:name %t -crop 862x530+774+247 -write \"/oasis/projects/nsf/csd395/yuncong/CSHL_data_processed/MD657/MD657_thumbnail_alignedTo_MD657-F44-2017.02.18-06.06.27_MD657_1_0130_cropped/%[filename:name]_cropped.tif\" /oasis/projects/nsf/csd395/yuncong/CSHL_data_processed/MD657/MD657_thumbnail_alignedTo_MD657-F44-2017.02.18-06.06.27_MD657_1_0130/*.tif\n"
     ]
    },
    {
     "name": "stderr",
     "output_type": "stream",
     "text": [
      "Child returned 0\n",
      "done in 96.765667 seconds\n"
     ]
    }
   ],
   "source": [
    "t = time.time()\n",
    "sys.stderr.write('cropping thumbnail...')\n",
    "\n",
    "execute_command('mogrify -set filename:name %%t -crop %(w)dx%(h)d+%(x)d+%(y)d -write \"%(output_dir)s/%%[filename:name]_cropped.tif\" %(input_dir)s/*.tif' % \\\n",
    "    {'input_dir': input_dir,\n",
    "     'output_dir': output_dir,\n",
    "    'w':w, 'h':h, 'x':x, 'y':y})\n",
    "\n",
    "sys.stderr.write('done in %f seconds\\n' % (time.time() - t)) # 100 seconds"
   ]
  },
  {
   "cell_type": "code",
   "execution_count": 75,
   "metadata": {
    "collapsed": false,
    "deletable": true,
    "editable": true
   },
   "outputs": [
    {
     "name": "stdout",
     "output_type": "stream",
     "text": [
      "aws s3 cp --recursive /shared/CSHL_data_processed/MD589/MD589_thumbnails_alignedTo_MD589-IHC31-2015.07.30-23.26.22_MD589_1_0091_cropped s3://mousebrainatlas-data/CSHL_data_processed/MD589/MD589_thumbnails_alignedTo_MD589-IHC31-2015.07.30-23.26.22_MD589_1_0091_cropped\n"
     ]
    },
    {
     "name": "stderr",
     "output_type": "stream",
     "text": [
      "Child returned 0\n"
     ]
    }
   ],
   "source": [
    "transfer_data_synced(os.path.join('CSHL_data_processed', stack, stack + '_thumbnails_alignedTo_' + anchor_fn + '_cropped'),\n",
    "                    from_hostname='ec2',\n",
    "                    to_hostname='s3',\n",
    "                    is_dir=True)"
   ]
  },
  {
   "cell_type": "markdown",
   "metadata": {
    "deletable": true,
    "editable": true
   },
   "source": [
    "# Expand lossless JP2"
   ]
  },
  {
   "cell_type": "code",
   "execution_count": 18,
   "metadata": {
    "collapsed": false
   },
   "outputs": [
    {
     "name": "stdout",
     "output_type": "stream",
     "text": [
      "aws s3 cp --recursive s3://mousebrainatlas-rawdata/CSHL_data/MD589 /shared/CSHL_data/MD589 --include \"*_lossless.jp2\"\n"
     ]
    },
    {
     "ename": "KeyboardInterrupt",
     "evalue": "",
     "output_type": "error",
     "traceback": [
      "\u001b[0;31m---------------------------------------------------------------------------\u001b[0m",
      "\u001b[0;31mKeyboardInterrupt\u001b[0m                         Traceback (most recent call last)",
      "\u001b[0;32m<ipython-input-18-9bc24d2262d5>\u001b[0m in \u001b[0;36m<module>\u001b[0;34m()\u001b[0m\n\u001b[1;32m      3\u001b[0m                     \u001b[0mto_hostname\u001b[0m\u001b[0;34m=\u001b[0m\u001b[0;34m'ec2'\u001b[0m\u001b[0;34m,\u001b[0m\u001b[0;34m\u001b[0m\u001b[0m\n\u001b[1;32m      4\u001b[0m                     \u001b[0mis_dir\u001b[0m\u001b[0;34m=\u001b[0m\u001b[0mTrue\u001b[0m\u001b[0;34m,\u001b[0m\u001b[0;34m\u001b[0m\u001b[0m\n\u001b[0;32m----> 5\u001b[0;31m                     include_only='*_lossless.jp2')\n\u001b[0m",
      "\u001b[0;32m/shared/MouseBrainAtlas/utilities/distributed_utilities.py\u001b[0m in \u001b[0;36mtransfer_data_synced\u001b[0;34m(fp_relative, from_hostname, to_hostname, is_dir, from_root, to_root, include_only, s3_bucket)\u001b[0m\n\u001b[1;32m     64\u001b[0m     \u001b[0mfrom_fp\u001b[0m \u001b[0;34m=\u001b[0m \u001b[0mos\u001b[0m\u001b[0;34m.\u001b[0m\u001b[0mpath\u001b[0m\u001b[0;34m.\u001b[0m\u001b[0mjoin\u001b[0m\u001b[0;34m(\u001b[0m\u001b[0mfrom_root\u001b[0m\u001b[0;34m,\u001b[0m \u001b[0mfp_relative\u001b[0m\u001b[0;34m)\u001b[0m\u001b[0;34m\u001b[0m\u001b[0m\n\u001b[1;32m     65\u001b[0m     \u001b[0mto_fp\u001b[0m \u001b[0;34m=\u001b[0m \u001b[0mos\u001b[0m\u001b[0;34m.\u001b[0m\u001b[0mpath\u001b[0m\u001b[0;34m.\u001b[0m\u001b[0mjoin\u001b[0m\u001b[0;34m(\u001b[0m\u001b[0mto_root\u001b[0m\u001b[0;34m,\u001b[0m \u001b[0mfp_relative\u001b[0m\u001b[0;34m)\u001b[0m\u001b[0;34m\u001b[0m\u001b[0m\n\u001b[0;32m---> 66\u001b[0;31m     \u001b[0mtransfer_data\u001b[0m\u001b[0;34m(\u001b[0m\u001b[0mfrom_fp\u001b[0m\u001b[0;34m=\u001b[0m\u001b[0mfrom_fp\u001b[0m\u001b[0;34m,\u001b[0m \u001b[0mto_fp\u001b[0m\u001b[0;34m=\u001b[0m\u001b[0mto_fp\u001b[0m\u001b[0;34m,\u001b[0m \u001b[0mfrom_hostname\u001b[0m\u001b[0;34m=\u001b[0m\u001b[0mfrom_hostname\u001b[0m\u001b[0;34m,\u001b[0m \u001b[0mto_hostname\u001b[0m\u001b[0;34m=\u001b[0m\u001b[0mto_hostname\u001b[0m\u001b[0;34m,\u001b[0m \u001b[0mis_dir\u001b[0m\u001b[0;34m=\u001b[0m\u001b[0mis_dir\u001b[0m\u001b[0;34m,\u001b[0m \u001b[0minclude_only\u001b[0m\u001b[0;34m=\u001b[0m\u001b[0minclude_only\u001b[0m\u001b[0;34m)\u001b[0m\u001b[0;34m\u001b[0m\u001b[0m\n\u001b[0m\u001b[1;32m     67\u001b[0m \u001b[0;34m\u001b[0m\u001b[0m\n\u001b[1;32m     68\u001b[0m \u001b[0;32mdef\u001b[0m \u001b[0mfirst_last_tuples_distribute_over\u001b[0m\u001b[0;34m(\u001b[0m\u001b[0mfirst_sec\u001b[0m\u001b[0;34m,\u001b[0m \u001b[0mlast_sec\u001b[0m\u001b[0;34m,\u001b[0m \u001b[0mn_host\u001b[0m\u001b[0;34m)\u001b[0m\u001b[0;34m:\u001b[0m\u001b[0;34m\u001b[0m\u001b[0m\n",
      "\u001b[0;32m/shared/MouseBrainAtlas/utilities/distributed_utilities.py\u001b[0m in \u001b[0;36mtransfer_data\u001b[0;34m(from_fp, to_fp, from_hostname, to_hostname, is_dir, include_only)\u001b[0m\n\u001b[1;32m     42\u001b[0m             \u001b[0;32mif\u001b[0m \u001b[0mis_dir\u001b[0m\u001b[0;34m:\u001b[0m\u001b[0;34m\u001b[0m\u001b[0m\n\u001b[1;32m     43\u001b[0m                 \u001b[0;32mif\u001b[0m \u001b[0minclude_only\u001b[0m \u001b[0;32mis\u001b[0m \u001b[0;32mnot\u001b[0m \u001b[0mNone\u001b[0m\u001b[0;34m:\u001b[0m\u001b[0;34m\u001b[0m\u001b[0m\n\u001b[0;32m---> 44\u001b[0;31m                     \u001b[0mexecute_command\u001b[0m\u001b[0;34m(\u001b[0m\u001b[0;34m'aws s3 cp --recursive s3://%(from_fp)s %(to_fp)s --include \\\"%(include)s\\\"'\u001b[0m \u001b[0;34m%\u001b[0m \u001b[0mdict\u001b[0m\u001b[0;34m(\u001b[0m\u001b[0mfrom_fp\u001b[0m\u001b[0;34m=\u001b[0m\u001b[0mfrom_fp\u001b[0m\u001b[0;34m,\u001b[0m \u001b[0mto_fp\u001b[0m\u001b[0;34m=\u001b[0m\u001b[0mto_fp\u001b[0m\u001b[0;34m,\u001b[0m \u001b[0minclude\u001b[0m\u001b[0;34m=\u001b[0m\u001b[0minclude_only\u001b[0m\u001b[0;34m)\u001b[0m\u001b[0;34m)\u001b[0m\u001b[0;34m\u001b[0m\u001b[0m\n\u001b[0m\u001b[1;32m     45\u001b[0m                 \u001b[0;32melse\u001b[0m\u001b[0;34m:\u001b[0m\u001b[0;34m\u001b[0m\u001b[0m\n\u001b[1;32m     46\u001b[0m                     \u001b[0mexecute_command\u001b[0m\u001b[0;34m(\u001b[0m\u001b[0;34m'aws s3 cp --recursive s3://%(from_fp)s %(to_fp)s'\u001b[0m \u001b[0;34m%\u001b[0m \u001b[0mdict\u001b[0m\u001b[0;34m(\u001b[0m\u001b[0mfrom_fp\u001b[0m\u001b[0;34m=\u001b[0m\u001b[0mfrom_fp\u001b[0m\u001b[0;34m,\u001b[0m \u001b[0mto_fp\u001b[0m\u001b[0;34m=\u001b[0m\u001b[0mto_fp\u001b[0m\u001b[0;34m)\u001b[0m\u001b[0;34m)\u001b[0m\u001b[0;34m\u001b[0m\u001b[0m\n",
      "\u001b[0;32m/shared/MouseBrainAtlas/utilities/utilities2015.py\u001b[0m in \u001b[0;36mexecute_command\u001b[0;34m(cmd)\u001b[0m\n\u001b[1;32m    112\u001b[0m \u001b[0;34m\u001b[0m\u001b[0m\n\u001b[1;32m    113\u001b[0m     \u001b[0;32mtry\u001b[0m\u001b[0;34m:\u001b[0m\u001b[0;34m\u001b[0m\u001b[0m\n\u001b[0;32m--> 114\u001b[0;31m         \u001b[0mretcode\u001b[0m \u001b[0;34m=\u001b[0m \u001b[0mcall\u001b[0m\u001b[0;34m(\u001b[0m\u001b[0mcmd\u001b[0m\u001b[0;34m,\u001b[0m \u001b[0mshell\u001b[0m\u001b[0;34m=\u001b[0m\u001b[0mTrue\u001b[0m\u001b[0;34m)\u001b[0m\u001b[0;34m\u001b[0m\u001b[0m\n\u001b[0m\u001b[1;32m    115\u001b[0m         \u001b[0;32mif\u001b[0m \u001b[0mretcode\u001b[0m \u001b[0;34m<\u001b[0m \u001b[0;36m0\u001b[0m\u001b[0;34m:\u001b[0m\u001b[0;34m\u001b[0m\u001b[0m\n\u001b[1;32m    116\u001b[0m             \u001b[0;32mprint\u001b[0m \u001b[0;34m>>\u001b[0m\u001b[0msys\u001b[0m\u001b[0;34m.\u001b[0m\u001b[0mstderr\u001b[0m\u001b[0;34m,\u001b[0m \u001b[0;34m\"Child was terminated by signal\"\u001b[0m\u001b[0;34m,\u001b[0m \u001b[0;34m-\u001b[0m\u001b[0mretcode\u001b[0m\u001b[0;34m\u001b[0m\u001b[0m\n",
      "\u001b[0;32m/usr/lib/python2.7/subprocess.pyc\u001b[0m in \u001b[0;36mcall\u001b[0;34m(*popenargs, **kwargs)\u001b[0m\n\u001b[1;32m    521\u001b[0m     \u001b[0mretcode\u001b[0m \u001b[0;34m=\u001b[0m \u001b[0mcall\u001b[0m\u001b[0;34m(\u001b[0m\u001b[0;34m[\u001b[0m\u001b[0;34m\"ls\"\u001b[0m\u001b[0;34m,\u001b[0m \u001b[0;34m\"-l\"\u001b[0m\u001b[0;34m]\u001b[0m\u001b[0;34m)\u001b[0m\u001b[0;34m\u001b[0m\u001b[0m\n\u001b[1;32m    522\u001b[0m     \"\"\"\n\u001b[0;32m--> 523\u001b[0;31m     \u001b[0;32mreturn\u001b[0m \u001b[0mPopen\u001b[0m\u001b[0;34m(\u001b[0m\u001b[0;34m*\u001b[0m\u001b[0mpopenargs\u001b[0m\u001b[0;34m,\u001b[0m \u001b[0;34m**\u001b[0m\u001b[0mkwargs\u001b[0m\u001b[0;34m)\u001b[0m\u001b[0;34m.\u001b[0m\u001b[0mwait\u001b[0m\u001b[0;34m(\u001b[0m\u001b[0;34m)\u001b[0m\u001b[0;34m\u001b[0m\u001b[0m\n\u001b[0m\u001b[1;32m    524\u001b[0m \u001b[0;34m\u001b[0m\u001b[0m\n\u001b[1;32m    525\u001b[0m \u001b[0;34m\u001b[0m\u001b[0m\n",
      "\u001b[0;32m/usr/lib/python2.7/subprocess.pyc\u001b[0m in \u001b[0;36mwait\u001b[0;34m(self)\u001b[0m\n\u001b[1;32m   1390\u001b[0m             \u001b[0;32mwhile\u001b[0m \u001b[0mself\u001b[0m\u001b[0;34m.\u001b[0m\u001b[0mreturncode\u001b[0m \u001b[0;32mis\u001b[0m \u001b[0mNone\u001b[0m\u001b[0;34m:\u001b[0m\u001b[0;34m\u001b[0m\u001b[0m\n\u001b[1;32m   1391\u001b[0m                 \u001b[0;32mtry\u001b[0m\u001b[0;34m:\u001b[0m\u001b[0;34m\u001b[0m\u001b[0m\n\u001b[0;32m-> 1392\u001b[0;31m                     \u001b[0mpid\u001b[0m\u001b[0;34m,\u001b[0m \u001b[0msts\u001b[0m \u001b[0;34m=\u001b[0m \u001b[0m_eintr_retry_call\u001b[0m\u001b[0;34m(\u001b[0m\u001b[0mos\u001b[0m\u001b[0;34m.\u001b[0m\u001b[0mwaitpid\u001b[0m\u001b[0;34m,\u001b[0m \u001b[0mself\u001b[0m\u001b[0;34m.\u001b[0m\u001b[0mpid\u001b[0m\u001b[0;34m,\u001b[0m \u001b[0;36m0\u001b[0m\u001b[0;34m)\u001b[0m\u001b[0;34m\u001b[0m\u001b[0m\n\u001b[0m\u001b[1;32m   1393\u001b[0m                 \u001b[0;32mexcept\u001b[0m \u001b[0mOSError\u001b[0m \u001b[0;32mas\u001b[0m \u001b[0me\u001b[0m\u001b[0;34m:\u001b[0m\u001b[0;34m\u001b[0m\u001b[0m\n\u001b[1;32m   1394\u001b[0m                     \u001b[0;32mif\u001b[0m \u001b[0me\u001b[0m\u001b[0;34m.\u001b[0m\u001b[0merrno\u001b[0m \u001b[0;34m!=\u001b[0m \u001b[0merrno\u001b[0m\u001b[0;34m.\u001b[0m\u001b[0mECHILD\u001b[0m\u001b[0;34m:\u001b[0m\u001b[0;34m\u001b[0m\u001b[0m\n",
      "\u001b[0;32m/usr/lib/python2.7/subprocess.pyc\u001b[0m in \u001b[0;36m_eintr_retry_call\u001b[0;34m(func, *args)\u001b[0m\n\u001b[1;32m    474\u001b[0m     \u001b[0;32mwhile\u001b[0m \u001b[0mTrue\u001b[0m\u001b[0;34m:\u001b[0m\u001b[0;34m\u001b[0m\u001b[0m\n\u001b[1;32m    475\u001b[0m         \u001b[0;32mtry\u001b[0m\u001b[0;34m:\u001b[0m\u001b[0;34m\u001b[0m\u001b[0m\n\u001b[0;32m--> 476\u001b[0;31m             \u001b[0;32mreturn\u001b[0m \u001b[0mfunc\u001b[0m\u001b[0;34m(\u001b[0m\u001b[0;34m*\u001b[0m\u001b[0margs\u001b[0m\u001b[0;34m)\u001b[0m\u001b[0;34m\u001b[0m\u001b[0m\n\u001b[0m\u001b[1;32m    477\u001b[0m         \u001b[0;32mexcept\u001b[0m \u001b[0;34m(\u001b[0m\u001b[0mOSError\u001b[0m\u001b[0;34m,\u001b[0m \u001b[0mIOError\u001b[0m\u001b[0;34m)\u001b[0m \u001b[0;32mas\u001b[0m \u001b[0me\u001b[0m\u001b[0;34m:\u001b[0m\u001b[0;34m\u001b[0m\u001b[0m\n\u001b[1;32m    478\u001b[0m             \u001b[0;32mif\u001b[0m \u001b[0me\u001b[0m\u001b[0;34m.\u001b[0m\u001b[0merrno\u001b[0m \u001b[0;34m==\u001b[0m \u001b[0merrno\u001b[0m\u001b[0;34m.\u001b[0m\u001b[0mEINTR\u001b[0m\u001b[0;34m:\u001b[0m\u001b[0;34m\u001b[0m\u001b[0m\n",
      "\u001b[0;31mKeyboardInterrupt\u001b[0m: "
     ]
    }
   ],
   "source": [
    "transfer_data_synced(os.path.join('CSHL_data', stack),\n",
    "                    from_hostname='s3raw',\n",
    "                    to_hostname='ec2',\n",
    "                    is_dir=True,\n",
    "                    include_only='*_lossless.jp2')"
   ]
  },
  {
   "cell_type": "code",
   "execution_count": 23,
   "metadata": {
    "collapsed": false,
    "deletable": true,
    "editable": true,
    "scrolled": true
   },
   "outputs": [
    {
     "name": "stderr",
     "output_type": "stream",
     "text": [
      "expanding...filenames_to_expand: ['MD657-N13-2017.02.22-14.33.34_MD657_3_0039', 'MD657-F13-2017.02.17-20.12.13_MD657_3_0039', 'MD657-N14-2017.02.22-14.37.44_MD657_1_0040', 'MD657-F14-2017.02.17-20.29.47_MD657_1_0040', 'MD657-N14-2017.02.22-14.37.44_MD657_2_0041', 'MD657-F14-2017.02.17-20.29.47_MD657_2_0041', 'MD657-N14-2017.02.22-14.37.44_MD657_3_0042', 'MD657-F14-2017.02.17-20.29.47_MD657_3_0042', 'MD657-N15-2017.02.22-14.41.51_MD657_1_0043', 'MD657-F15-2017.02.17-20.46.06_MD657_1_0043', 'MD657-N15-2017.02.22-14.41.51_MD657_2_0044', 'MD657-F15-2017.02.17-20.46.06_MD657_2_0044', 'MD657-N15-2017.02.22-14.41.51_MD657_3_0045', 'MD657-F15-2017.02.17-20.46.06_MD657_3_0045', 'MD657-N16-2017.02.27-16.09.46_MD657_1_0046', 'MD657-F16-2017.02.17-21.02.17_MD657_1_0046', 'MD657-N16-2017.02.27-16.09.46_MD657_2_0047', 'MD657-F16-2017.02.17-21.02.17_MD657_2_0047', 'MD657-N16-2017.02.27-16.09.46_MD657_3_0048', 'MD657-F16-2017.02.17-21.02.17_MD657_3_0048', 'MD657-N17-2017.02.22-14.45.59_MD657_1_0049', 'MD657-F17-2017.02.17-21.22.26_MD657_1_0049', 'MD657-N17-2017.02.22-14.45.59_MD657_2_0050', 'MD657-F17-2017.02.17-21.22.26_MD657_2_0050', 'MD657-N17-2017.02.22-14.45.59_MD657_3_0051', 'MD657-F17-2017.02.17-21.22.26_MD657_3_0051', 'MD657-N18-2017.02.22-14.50.24_MD657_1_0052', 'MD657-F18-2017.02.17-21.43.03_MD657_1_0052', 'MD657-N18-2017.02.22-14.50.24_MD657_2_0053', 'MD657-F18-2017.02.17-21.43.03_MD657_2_0053', 'MD657-N18-2017.02.22-14.50.24_MD657_3_0054', 'MD657-F18-2017.02.17-21.43.03_MD657_3_0054', 'MD657-N19-2017.02.22-14.54.49_MD657_1_0055', 'MD657-F19-2017.02.17-22.03.48_MD657_1_0055', 'MD657-N19-2017.02.22-14.54.49_MD657_2_0056', 'MD657-F19-2017.02.17-22.03.48_MD657_2_0056', 'MD657-N19-2017.02.22-14.54.49_MD657_3_0057', 'MD657-F19-2017.02.23-16.16.58_MD657_3_0057', 'MD657-N20-2017.02.22-14.59.13_MD657_1_0058', 'MD657-F20-2017.02.17-22.23.13_MD657_1_0058', 'MD657-N20-2017.02.22-14.59.13_MD657_2_0059', 'MD657-F20-2017.02.17-22.23.13_MD657_2_0059', 'MD657-N21-2017.02.22-15.02.22_MD657_1_0061', 'MD657-F21-2017.02.17-22.40.14_MD657_1_0061', 'MD657-N21-2017.02.22-15.02.22_MD657_2_0062', 'MD657-F21-2017.02.17-22.40.14_MD657_2_0062', 'MD657-N22-2017.02.22-15.05.33_MD657_1_0064', 'MD657-F22-2017.02.17-22.55.59_MD657_1_0064', 'MD657-N22-2017.02.22-15.05.33_MD657_2_0065', 'MD657-F22-2017.02.17-22.55.59_MD657_2_0065', 'MD657-N23-2017.02.22-15.08.47_MD657_1_0067', 'MD657-F23-2017.02.17-23.13.17_MD657_1_0067', 'MD657-N23-2017.02.22-15.08.47_MD657_2_0068', 'MD657-F23-2017.02.17-23.13.17_MD657_2_0068', 'MD657-N24-2017.02.22-15.12.03_MD657_1_0070', 'MD657-F24-2017.02.17-23.30.45_MD657_1_0070', 'MD657-N24-2017.02.22-15.12.03_MD657_2_0071', 'MD657-F24-2017.02.17-23.30.45_MD657_2_0071', 'MD657-N25-2017.02.22-15.15.17_MD657_1_0073', 'MD657-F25-2017.02.17-23.50.52_MD657_1_0073', 'MD657-N25-2017.02.22-15.15.17_MD657_2_0074', 'MD657-F25-2017.02.17-23.50.52_MD657_2_0074', 'MD657-F26-2017.02.18-00.10.00_MD657_1_0076', 'MD657-N26-2017.02.27-16.14.53_MD657_2_0077', 'MD657-F26-2017.02.18-00.10.00_MD657_2_0077', 'MD657-N26-2017.02.27-16.14.53_MD657_3_0078', 'MD657-F27-2017.02.18-00.26.43_MD657_1_0079', 'MD657-N27-2017.02.22-15.18.34_MD657_2_0080', 'MD657-F27-2017.02.18-00.26.43_MD657_2_0080', 'MD657-N28-2017.02.22-15.21.25_MD657_1_0082', 'MD657-F28-2017.02.18-00.45.02_MD657_1_0082', 'MD657-N28-2017.02.22-15.21.25_MD657_2_0083', 'MD657-F28-2017.02.18-00.45.02_MD657_2_0083', 'MD657-N29-2017.02.22-15.24.51_MD657_1_0085', 'MD657-F29-2017.02.18-01.04.58_MD657_1_0085', 'MD657-N29-2017.02.22-15.24.51_MD657_2_0086', 'MD657-F29-2017.02.18-01.04.58_MD657_2_0086', 'MD657-N30-2017.02.22-15.28.21_MD657_1_0088', 'MD657-F30-2017.02.18-01.19.38_MD657_1_0088', 'MD657-N30-2017.02.22-15.28.21_MD657_2_0089', 'MD657-F30-2017.02.18-01.19.38_MD657_2_0089', 'MD657-N31-2017.02.22-15.32.10_MD657_1_0091', 'MD657-F31-2017.02.18-01.38.22_MD657_1_0091', 'MD657-N31-2017.02.22-15.32.10_MD657_2_0092', 'MD657-F31-2017.02.18-01.38.22_MD657_2_0092', 'MD657-N32-2017.02.22-15.36.09_MD657_1_0094', 'MD657-F32-2017.02.18-01.56.25_MD657_1_0094', 'MD657-N32-2017.02.22-15.36.09_MD657_2_0095', 'MD657-F32-2017.02.18-01.56.25_MD657_2_0095', 'MD657-N33-2017.02.22-15.39.59_MD657_1_0097', 'MD657-F33-2017.02.18-02.14.58_MD657_1_0097', 'MD657-N33-2017.02.22-15.39.59_MD657_2_0098', 'MD657-F33-2017.02.18-02.14.58_MD657_2_0098', 'MD657-N34-2017.02.22-15.43.50_MD657_1_0100', 'MD657-F34-2017.02.18-02.34.03_MD657_1_0100', 'MD657-N34-2017.02.22-15.43.50_MD657_2_0101', 'MD657-F34-2017.02.18-02.34.03_MD657_2_0101', 'MD657-N35-2017.02.22-15.47.51_MD657_1_0103', 'MD657-F35-2017.02.18-02.55.49_MD657_1_0103', 'MD657-N35-2017.02.22-15.47.51_MD657_2_0104', 'MD657-F35-2017.02.18-02.55.49_MD657_2_0104', 'MD657-N36-2017.02.22-15.51.49_MD657_1_0106', 'MD657-F36-2017.02.18-03.17.09_MD657_1_0106', 'MD657-N36-2017.02.22-15.51.49_MD657_2_0107', 'MD657-F36-2017.02.18-03.17.09_MD657_2_0107', 'MD657-N37-2017.02.22-15.55.56_MD657_1_0109', 'MD657-F37-2017.02.18-03.39.28_MD657_1_0109', 'MD657-N37-2017.02.22-15.55.56_MD657_2_0110', 'MD657-F37-2017.02.18-03.39.28_MD657_2_0110', 'MD657-N38-2017.02.22-16.00.02_MD657_1_0112', 'MD657-F38-2017.02.18-04.00.12_MD657_1_0112', 'MD657-N38-2017.02.22-16.00.02_MD657_2_0113', 'MD657-F38-2017.02.18-04.00.12_MD657_2_0113', 'MD657-N39-2017.02.22-16.04.05_MD657_1_0115', 'MD657-F39-2017.02.18-04.23.19_MD657_1_0115', 'MD657-N39-2017.02.22-16.04.05_MD657_2_0116', 'MD657-F39-2017.02.18-04.23.19_MD657_2_0116', 'MD657-N40-2017.02.22-16.08.37_MD657_1_0118', 'MD657-F40-2017.02.18-04.41.42_MD657_1_0118', 'MD657-N40-2017.02.22-16.08.37_MD657_2_0119', 'MD657-F40-2017.02.18-04.41.42_MD657_2_0119', 'MD657-N41-2017.02.22-16.12.45_MD657_1_0121', 'MD657-F41-2017.02.18-05.02.58_MD657_1_0121', 'MD657-N41-2017.02.22-16.12.45_MD657_2_0122', 'MD657-F41-2017.02.18-05.02.58_MD657_2_0122', 'MD657-N42-2017.02.22-16.16.50_MD657_1_0124', 'MD657-F42-2017.02.18-05.24.25_MD657_1_0124', 'MD657-N42-2017.02.22-16.16.50_MD657_2_0125', 'MD657-F42-2017.02.18-05.24.25_MD657_2_0125', 'MD657-N43-2017.02.22-16.21.20_MD657_1_0127', 'MD657-F43-2017.02.18-05.45.18_MD657_2_0128', 'MD657-N44-2017.02.22-16.25.25_MD657_1_0130', 'MD657-F44-2017.02.18-06.06.27_MD657_1_0130', 'MD657-N44-2017.02.22-16.25.25_MD657_2_0131', 'MD657-F44-2017.02.18-06.06.27_MD657_2_0131', 'MD657-N45-2017.02.22-16.29.38_MD657_1_0133', 'MD657-F45-2017.02.18-06.31.13_MD657_1_0133', 'MD657-N45-2017.02.22-16.29.38_MD657_2_0134', 'MD657-F45-2017.02.18-06.31.13_MD657_2_0134', 'MD657-N46-2017.02.22-16.33.47_MD657_1_0136', 'MD657-F46-2017.02.18-06.53.05_MD657_1_0136', 'MD657-N46-2017.02.22-16.33.47_MD657_2_0137', 'MD657-F46-2017.02.18-06.53.05_MD657_2_0137', 'MD657-N47-2017.02.22-16.37.53_MD657_1_0139', 'MD657-F47-2017.02.18-07.16.41_MD657_1_0139', 'MD657-N47-2017.02.22-16.37.53_MD657_2_0140', 'MD657-F47-2017.02.18-07.16.41_MD657_2_0140', 'MD657-N48-2017.02.22-16.41.55_MD657_1_0142', 'MD657-F48-2017.02.18-07.38.25_MD657_1_0142', 'MD657-N48-2017.02.22-16.41.55_MD657_2_0143', 'MD657-F48-2017.02.18-07.38.25_MD657_2_0143', 'MD657-N49-2017.02.22-16.46.02_MD657_1_0145', 'MD657-F49-2017.02.18-08.01.25_MD657_1_0145', 'MD657-N49-2017.02.22-16.46.02_MD657_2_0146', 'MD657-F49-2017.02.18-08.01.25_MD657_2_0146', 'MD657-N50-2017.02.22-16.50.15_MD657_1_0148', 'MD657-F50-2017.02.18-08.23.22_MD657_1_0148', 'MD657-N50-2017.02.22-16.50.15_MD657_2_0149', 'MD657-F50-2017.02.18-08.23.22_MD657_2_0149', 'MD657-F51-2017.02.18-08.45.55_MD657_1_0151', 'MD657-N51-2017.02.22-16.54.20_MD657_2_0152', 'MD657-F51-2017.02.18-08.45.55_MD657_2_0152', 'MD657-N52-2017.02.22-16.58.50_MD657_1_0154', 'MD657-F52-2017.02.18-09.06.44_MD657_1_0154', 'MD657-N52-2017.02.22-16.58.50_MD657_2_0155', 'MD657-F52-2017.02.18-09.06.44_MD657_2_0155', 'MD657-N53-2017.02.22-17.02.55_MD657_1_0157', 'MD657-F53-2017.02.18-09.27.00_MD657_1_0157', 'MD657-N53-2017.02.22-17.02.55_MD657_2_0158', 'MD657-F53-2017.02.18-09.27.00_MD657_2_0158', 'MD657-N54-2017.02.22-17.07.22_MD657_1_0160', 'MD657-F54-2017.02.18-09.47.40_MD657_1_0160', 'MD657-N54-2017.02.22-17.07.22_MD657_2_0161', 'MD657-F54-2017.02.18-09.47.40_MD657_2_0161', 'MD657-N55-2017.02.22-17.12.27_MD657_1_0163', 'MD657-F55-2017.02.18-10.08.41_MD657_1_0163', 'MD657-N55-2017.02.22-17.12.27_MD657_2_0164', 'MD657-F55-2017.02.18-10.08.41_MD657_2_0164', 'MD657-N56-2017.02.22-17.16.39_MD657_1_0166', 'MD657-F56-2017.02.18-10.29.22_MD657_1_0166', 'MD657-N56-2017.02.22-17.16.39_MD657_2_0167', 'MD657-F56-2017.02.18-10.29.22_MD657_2_0167', 'MD657-N57-2017.02.22-17.20.44_MD657_1_0169', 'MD657-F57-2017.02.18-10.51.33_MD657_1_0169', 'MD657-N57-2017.02.22-17.20.44_MD657_2_0170', 'MD657-F57-2017.02.18-10.51.33_MD657_2_0170', 'MD657-N58-2017.02.22-17.24.45_MD657_1_0172', 'MD657-F58-2017.02.18-11.13.40_MD657_1_0172', 'MD657-N58-2017.02.22-17.24.45_MD657_2_0173', 'MD657-F58-2017.02.18-11.13.40_MD657_2_0173', 'MD657-N59-2017.02.22-17.28.52_MD657_1_0175', 'MD657-F59-2017.02.18-11.35.33_MD657_1_0175', 'MD657-N59-2017.02.22-17.28.52_MD657_2_0176', 'MD657-F59-2017.02.18-11.35.33_MD657_2_0176', 'MD657-N60-2017.02.22-17.32.54_MD657_1_0178', 'MD657-F60-2017.02.18-11.55.59_MD657_1_0178', 'MD657-N60-2017.02.22-17.32.54_MD657_2_0179', 'MD657-F60-2017.02.18-11.55.59_MD657_2_0179', 'MD657-F61-2017.02.18-12.18.33_MD657_1_0181', 'MD657-N61-2017.03.21-13.54.42_MD657_2_0182', 'MD657-F61-2017.02.18-12.18.33_MD657_2_0182', 'MD657-N62-2017.03.21-13.59.22_MD657_1_0184', 'MD657-F62-2017.03.03-14.13.07_MD657_1_0184', 'MD657-N62-2017.03.21-13.59.22_MD657_2_0185', 'MD657-F62-2017.03.03-14.13.07_MD657_2_0185', 'MD657-N63-2017.03.21-14.03.34_MD657_1_0187', 'MD657-F63-2017.02.18-12.40.56_MD657_1_0187', 'MD657-N63-2017.03.21-14.03.34_MD657_2_0188', 'MD657-F63-2017.02.18-12.40.56_MD657_2_0188', 'MD657-N64-2017.03.21-14.08.01_MD657_1_0190', 'MD657-F64-2017.02.18-13.04.19_MD657_1_0190', 'MD657-N64-2017.03.21-14.08.01_MD657_2_0191', 'MD657-F64-2017.02.18-13.04.19_MD657_2_0191', 'MD657-N65-2017.03.21-14.12.15_MD657_1_0193', 'MD657-F65-2017.02.18-13.26.50_MD657_1_0193', 'MD657-N65-2017.03.21-14.12.15_MD657_2_0194', 'MD657-F65-2017.02.18-13.26.50_MD657_2_0194', 'MD657-N66-2017.03.21-14.16.35_MD657_2_0197', 'MD657-F66-2017.02.18-13.46.29_MD657_2_0197', 'MD657-N67-2017.02.22-17.59.54_MD657_1_0199', 'MD657-F67-2017.02.18-14.08.14_MD657_1_0199', 'MD657-N67-2017.02.22-17.59.54_MD657_2_0200', 'MD657-F67-2017.02.18-14.08.14_MD657_2_0200', 'MD657-N68-2017.02.22-18.03.28_MD657_1_0202', 'MD657-F68-2017.02.18-14.30.16_MD657_1_0202', 'MD657-N68-2017.02.22-18.03.28_MD657_2_0203', 'MD657-F68-2017.02.18-14.30.16_MD657_2_0203', 'MD657-N69-2017.02.22-18.07.03_MD657_1_0205', 'MD657-F69-2017.02.24-23.35.00_MD657_1_0205', 'MD657-N69-2017.02.22-18.07.03_MD657_2_0206', 'MD657-F69-2017.02.24-23.35.00_MD657_2_0206', 'MD657-N70-2017.02.22-18.31.14_MD657_1_0208', 'MD657-F70-2017.02.18-14.49.54_MD657_1_0208', 'MD657-N70-2017.02.22-18.31.14_MD657_2_0209', 'MD657-F70-2017.02.18-14.49.54_MD657_2_0209', 'MD657-N71-2017.02.22-18.34.41_MD657_1_0211', 'MD657-F71-2017.02.18-15.08.19_MD657_1_0211', 'MD657-N71-2017.02.22-18.34.41_MD657_2_0212', 'MD657-F71-2017.02.18-15.08.19_MD657_2_0212', 'MD657-N72-2017.02.22-18.38.06_MD657_1_0214', 'MD657-F72-2017.02.18-15.26.35_MD657_1_0214', 'MD657-N72-2017.02.22-18.38.06_MD657_2_0215', 'MD657-F72-2017.02.18-15.26.35_MD657_2_0215', 'MD657-N73-2017.02.22-18.41.32_MD657_1_0217', 'MD657-F73-2017.02.18-15.46.36_MD657_1_0217', 'MD657-N73-2017.02.22-18.41.32_MD657_2_0218', 'MD657-F73-2017.02.18-15.46.36_MD657_2_0218', 'MD657-F74-2017.02.23-17.14.18_MD657_1_0220', 'MD657-N74-2017.02.22-18.44.55_MD657_2_0221', 'MD657-F74-2017.02.18-16.04.48_MD657_2_0221', 'MD657-N75-2017.02.22-18.48.18_MD657_1_0223', 'MD657-F75-2017.02.18-16.21.28_MD657_1_0223', 'MD657-N75-2017.02.22-18.48.18_MD657_2_0224', 'MD657-F75-2017.02.18-16.21.28_MD657_2_0224', 'MD657-N76-2017.02.22-18.51.41_MD657_1_0226', 'MD657-F76-2017.02.18-16.37.33_MD657_1_0226', 'MD657-N76-2017.02.22-18.51.41_MD657_2_0227', 'MD657-F76-2017.02.18-16.37.33_MD657_2_0227', 'MD657-N77-2017.02.22-18.55.01_MD657_1_0229', 'MD657-F77-2017.02.18-16.54.30_MD657_1_0229', 'MD657-N77-2017.02.22-18.55.01_MD657_2_0230', 'MD657-F77-2017.02.18-16.54.30_MD657_2_0230', 'MD657-N78-2017.02.22-18.58.19_MD657_1_0232', 'MD657-F78-2017.02.18-17.13.40_MD657_1_0232', 'MD657-N78-2017.02.22-18.58.19_MD657_2_0233', 'MD657-F78-2017.02.18-17.13.40_MD657_2_0233', 'MD657-N79-2017.02.22-19.01.38_MD657_1_0235', 'MD657-F79-2017.02.18-17.27.09_MD657_1_0235', 'MD657-N79-2017.02.22-19.01.38_MD657_2_0236', 'MD657-F79-2017.02.18-17.27.09_MD657_2_0236']"
     ]
    },
    {
     "name": "stdout",
     "output_type": "stream",
     "text": [
      "['gcn-20-33.sdsc.edu'] are excluded\n",
      "Using nodes: ['gcn-20-31.sdsc.edu', 'gcn-20-32.sdsc.edu', 'gcn-20-34.sdsc.edu', 'gcn-20-35.sdsc.edu', 'gcn-20-36.sdsc.edu', 'gcn-20-37.sdsc.edu', 'gcn-20-38.sdsc.edu', 'gcn-20-41.sdsc.edu', 'gcn-20-42.sdsc.edu', 'gcn-20-43.sdsc.edu', 'gcn-20-44.sdsc.edu', 'gcn-20-45.sdsc.edu', 'gcn-20-46.sdsc.edu', 'gcn-20-47.sdsc.edu', 'gcn-20-48.sdsc.edu']\n"
     ]
    },
    {
     "name": "stderr",
     "output_type": "stream",
     "text": [
      "done in 974.662535 seconds\n"
     ]
    }
   ],
   "source": [
    "t = time.time()\n",
    "sys.stderr.write('expanding...')\n",
    "\n",
    "input_dir = create_if_not_exists(os.path.join(DATA_DIR, stack, stack + '_lossless_tif'))\n",
    "output_dir = os.path.join(RAW_DATA_DIR, stack)\n",
    "\n",
    "filenames_to_expand = [fn for fn in filenames[first_idx:last_idx+1] if not os.path.exists(os.path.join(input_dir, fn + '_lossless.tif'))]\n",
    "# sys.stderr.write('filenames_to_expand: %s' % filenames_to_expand)\n",
    "\n",
    "run_distributed('kdu_expand_patched -i %(output_dir)s/%%(fn)s_lossless.jp2 -o %(input_dir)s/%%(fn)s_lossless.tif' % \\\n",
    "                {'output_dir': output_dir,\n",
    "                'input_dir': input_dir},\n",
    "                kwargs_list={'fn': filenames_to_expand},\n",
    "                exclude_nodes=[33],\n",
    "                argument_type='single',\n",
    "               cluster_size=12)\n",
    "\n",
    "sys.stderr.write('done in %f seconds\\n' % (time.time() - t)) # 900 seconds."
   ]
  },
  {
   "cell_type": "markdown",
   "metadata": {
    "deletable": true,
    "editable": true
   },
   "source": [
    "# Warping and cropping lossless"
   ]
  },
  {
   "cell_type": "code",
   "execution_count": 8,
   "metadata": {
    "collapsed": false,
    "deletable": true,
    "editable": true
   },
   "outputs": [],
   "source": [
    "tf_filepath = os.path.join(DATA_DIR, stack, stack+'_elastix_output', '%(stack)s_transformsTo_anchor.pkl' % {'stack':stack})\n",
    "tfs = pickle.load(open(tf_filepath, 'r'))\n",
    "# Note that the index from trasform pickle file starts at 0, BUT the .._renamed folder index starts at 1.#\n",
    "\n",
    "lossless_tif_dir = os.path.join(DATA_DIR, stack, stack + '_lossless_tif')\n",
    "lossless_aligned_cropped_dir = os.path.join(DATA_DIR, stack, stack + '_lossless_alignedTo_' + anchor_fn + '_cropped')\n",
    "\n",
    "script_fp = os.path.join(REPO_DIR, 'preprocess', 'warp_crop_IM_v2.py')"
   ]
  },
  {
   "cell_type": "code",
   "execution_count": 9,
   "metadata": {
    "collapsed": false,
    "deletable": true,
    "editable": true
   },
   "outputs": [
    {
     "name": "stderr",
     "output_type": "stream",
     "text": [
      "warping and cropping lossless..."
     ]
    },
    {
     "name": "stdout",
     "output_type": "stream",
     "text": [
      "['gcn-20-33.sdsc.edu'] are excluded\n",
      "Using nodes: ['gcn-20-31.sdsc.edu', 'gcn-20-32.sdsc.edu', 'gcn-20-34.sdsc.edu', 'gcn-20-35.sdsc.edu', 'gcn-20-36.sdsc.edu', 'gcn-20-37.sdsc.edu', 'gcn-20-38.sdsc.edu', 'gcn-20-41.sdsc.edu', 'gcn-20-42.sdsc.edu', 'gcn-20-43.sdsc.edu', 'gcn-20-44.sdsc.edu', 'gcn-20-45.sdsc.edu', 'gcn-20-46.sdsc.edu', 'gcn-20-47.sdsc.edu', 'gcn-20-48.sdsc.edu']\n"
     ]
    },
    {
     "name": "stderr",
     "output_type": "stream",
     "text": [
      "done in 471.258449 seconds\n"
     ]
    }
   ],
   "source": [
    "t = time.time()\n",
    "sys.stderr.write('warping and cropping lossless...')\n",
    "                   \n",
    "if pad_bg_color == 'auto':\n",
    "    # If alternating, then black padding for F sections, white padding for N sections.\n",
    "    run_distributed(command='%(script_path)s %(stack)s %(lossless_tif_dir)s %(lossless_aligned_cropped_dir)s %%(transform)s %%(filename)s %%(output_fn)s lossless %(x)d %(y)d %(w)d %(h)d %%(pad_bg_color)s'%\\\n",
    "                    {'script_path': script_fp,\n",
    "                    'stack': stack,\n",
    "                    'lossless_tif_dir': lossless_tif_dir,\n",
    "                    'lossless_aligned_cropped_dir': lossless_aligned_cropped_dir,\n",
    "                    'x': x,\n",
    "                    'y': y,\n",
    "                    'w': w,\n",
    "                    'h': h},\n",
    "                    kwargs_list=[{'transform': ','.join(map(str, tfs[fn].flatten())),\n",
    "                                'filename': fn + '_lossless.tif',\n",
    "                                'output_fn': fn + '_lossless_alignedTo_' + anchor_fn + '_cropped.tif',\n",
    "                                'pad_bg_color': 'black' if fn.split('-')[1][0] == 'F' else 'white'}\n",
    "                                for fn in filenames[first_idx:last_idx+1]],\n",
    "                    exclude_nodes=[33],\n",
    "                    argument_type='single')\n",
    "else:\n",
    "    run_distributed(command='%(script_path)s %(stack)s %(lossless_tif_dir)s %(lossless_aligned_cropped_dir)s %%(transform)s %%(filename)s %%(output_fn)s lossless %(x)d %(y)d %(w)d %(h)d %(pad_bg_color)s'%\\\n",
    "                    {'script_path': script_fp,\n",
    "                    'stack': stack,\n",
    "                    'lossless_tif_dir': lossless_tif_dir,\n",
    "                    'lossless_aligned_cropped_dir': lossless_aligned_cropped_dir,\n",
    "                    'x': x,\n",
    "                    'y': y,\n",
    "                    'w': w,\n",
    "                    'h': h,\n",
    "                    'pad_bg_color': pad_bg_color},\n",
    "                    kwargs_list=[{'transform': ','.join(map(str, tfs[fn].flatten())),\n",
    "                                'filename': fn + '_lossless.tif',\n",
    "                                'output_fn': fn + '_lossless_alignedTo_' + anchor_fn + '_cropped.tif'}\n",
    "                                for fn in filenames[first_idx:last_idx+1]],\n",
    "                    exclude_nodes=[33],\n",
    "                    argument_type='single')\n",
    "\n",
    "sys.stderr.write('done in %f seconds\\n' % (time.time() - t)) # 500 seconds."
   ]
  },
  {
   "cell_type": "markdown",
   "metadata": {
    "deletable": true,
    "editable": true
   },
   "source": [
    "# Generate other versions"
   ]
  },
  {
   "cell_type": "code",
   "execution_count": 13,
   "metadata": {
    "collapsed": true,
    "deletable": true,
    "editable": true
   },
   "outputs": [],
   "source": [
    "script_fp = os.path.join(REPO_DIR, 'preprocess', 'generate_other_versions_v2.py')\n",
    "input_dir = os.path.join(data_dir, stack, stack + '_lossless_alignedTo_' + anchor_fn + '_cropped')\n",
    "out_sat_dir = os.path.join(data_dir, stack, stack + '_lossless_alignedTo_' + anchor_fn + '_cropped_saturation')"
   ]
  },
  {
   "cell_type": "code",
   "execution_count": null,
   "metadata": {
    "collapsed": true,
    "deletable": true,
    "editable": true
   },
   "outputs": [],
   "source": [
    "# t = time.time()\n",
    "# print 'Generating saturation image...',\n",
    "\n",
    "# run_distributed4('%(script)s %(stack)s %(input_dir)s \\'%%(input_filenames)s\\' --output_saturation_dir %(output_saturation_dir)s' % \\\n",
    "#                 dict(script=script_fp,\n",
    "#                      stack=stack,\n",
    "#                      input_dir=input_dir,\n",
    "#                      output_saturation_dir=out_sat_dir,\n",
    "#                      kwargs_list={'input_filenames': [fn + '_lossless_alignedTo_' + anchor_fn + '_cropped.tif' for fn in filenames[first_idx:last_idx+1]]},\n",
    "#                     exclude_nodes=exclude_nodes,\n",
    "#                     argument_type='list2')\n",
    "\n",
    "# print 'done in', time.time() - t, 'seconds'"
   ]
  },
  {
   "cell_type": "markdown",
   "metadata": {
    "deletable": true,
    "editable": true
   },
   "source": [
    "# Generate Masks"
   ]
  },
  {
   "cell_type": "code",
   "execution_count": 4,
   "metadata": {
    "collapsed": false,
    "deletable": true,
    "editable": true
   },
   "outputs": [],
   "source": [
    "from preprocess_utilities import *"
   ]
  },
  {
   "cell_type": "code",
   "execution_count": 5,
   "metadata": {
    "collapsed": true,
    "deletable": true,
    "editable": true
   },
   "outputs": [],
   "source": [
    "input_dir = os.path.join(RAW_DATA_DIR, stack)\n",
    "output_dir = create_if_not_exists(os.path.join(DATA_DIR, stack, stack + '_submasks'))"
   ]
  },
  {
   "cell_type": "code",
   "execution_count": 6,
   "metadata": {
    "collapsed": false,
    "deletable": true,
    "editable": true
   },
   "outputs": [],
   "source": [
    "border_dissim_percentile = DEFAULT_BORDER_DISSIMILARITY_PERCENTILE\n",
    "min_size = DEFAULT_MINSIZE"
   ]
  },
  {
   "cell_type": "code",
   "execution_count": 7,
   "metadata": {
    "collapsed": false,
    "deletable": true,
    "editable": true
   },
   "outputs": [
    {
     "name": "stdout",
     "output_type": "stream",
     "text": [
      "Generating thumbnail mask... ['gcn-20-33.sdsc.edu'] are excluded\n",
      "Using nodes: ['gcn-20-31.sdsc.edu', 'gcn-20-32.sdsc.edu', 'gcn-20-34.sdsc.edu', 'gcn-20-35.sdsc.edu', 'gcn-20-36.sdsc.edu', 'gcn-20-37.sdsc.edu', 'gcn-20-38.sdsc.edu', 'gcn-20-41.sdsc.edu', 'gcn-20-42.sdsc.edu', 'gcn-20-43.sdsc.edu', 'gcn-20-44.sdsc.edu', 'gcn-20-45.sdsc.edu', 'gcn-20-46.sdsc.edu', 'gcn-20-47.sdsc.edu', 'gcn-20-48.sdsc.edu']\n",
      "done in 551.316730022 seconds\n"
     ]
    }
   ],
   "source": [
    "t = time.time()\n",
    "print 'Generating thumbnail mask...',\n",
    "\n",
    "# !! For some reason (perhaps too much simultaneous write to disk), the distributed computation cannot finish, usually stuck with only a few sections left.\n",
    "script = os.path.join(os.environ['REPO_DIR'], 'preprocess', 'generate_thumbnail_masks_v4.py')\n",
    "\n",
    "run_distributed(command='%(script_path)s %(stack)s %(input_dir)s \\'%%(filenames)s\\' %(output_dir)s --border_dissim_percentile %(border_dissim_percentile)d --min_size %(min_size)d' % \\\n",
    "                {'script_path': script,\n",
    "                'stack': stack,\n",
    "                'input_dir': input_dir,\n",
    "                'output_dir': output_dir,\n",
    "                'border_dissim_percentile': border_dissim_percentile,\n",
    "                'min_size': min_size},\n",
    "                kwargs_list=dict(filenames=filenames),\n",
    "                exclude_nodes=[33],\n",
    "                argument_type='list2')\n",
    "\n",
    "print 'done in', time.time() - t, 'seconds' # 1600s"
   ]
  },
  {
   "cell_type": "code",
   "execution_count": null,
   "metadata": {
    "collapsed": true,
    "deletable": true,
    "editable": true
   },
   "outputs": [],
   "source": [
    "# ... Review in local machine using GUI..."
   ]
  },
  {
   "cell_type": "markdown",
   "metadata": {
    "deletable": true,
    "editable": true
   },
   "source": [
    "# Warp Thumbnail Masks"
   ]
  },
  {
   "cell_type": "code",
   "execution_count": 11,
   "metadata": {
    "collapsed": false,
    "deletable": true,
    "editable": true
   },
   "outputs": [
    {
     "name": "stdout",
     "output_type": "stream",
     "text": [
      "rm -rf /oasis/projects/nsf/csd395/yuncong/CSHL_data_processed/MD657/MD657_masks_alignedTo_MD657-F44-2017.02.18-06.06.27_MD657_1_0130\n"
     ]
    },
    {
     "name": "stderr",
     "output_type": "stream",
     "text": [
      "Child returned 0\n"
     ]
    }
   ],
   "source": [
    "script = os.path.join(os.environ['REPO_DIR'], 'preprocess', 'warp_crop_IM_v2.py')\n",
    "input_dir = os.path.join(DATA_DIR, stack, stack + '_masks')\n",
    "output_dir = os.path.join(DATA_DIR, stack, stack + '_masks_alignedTo_' + anchor_fn)\n",
    "\n",
    "execute_command('rm -rf ' + output_dir)\n",
    "\n",
    "transforms_filename = os.path.join(DATA_DIR, stack, stack+'_elastix_output', \n",
    "                                   '%(stack)s_transformsTo_%(anchor_fn)s.pkl' % \\\n",
    "                                   dict(stack=stack, anchor_fn=anchor_fn))\n",
    "transforms_to_anchor = pickle.load(open(transforms_filename, 'r'))"
   ]
  },
  {
   "cell_type": "code",
   "execution_count": 12,
   "metadata": {
    "collapsed": false,
    "deletable": true,
    "editable": true
   },
   "outputs": [
    {
     "name": "stdout",
     "output_type": "stream",
     "text": [
      "warping thumbnail mask... ['gcn-20-33.sdsc.edu'] are excluded\n",
      "Using nodes: ['gcn-20-31.sdsc.edu', 'gcn-20-32.sdsc.edu', 'gcn-20-34.sdsc.edu', 'gcn-20-35.sdsc.edu', 'gcn-20-36.sdsc.edu', 'gcn-20-37.sdsc.edu', 'gcn-20-38.sdsc.edu', 'gcn-20-41.sdsc.edu', 'gcn-20-42.sdsc.edu', 'gcn-20-43.sdsc.edu', 'gcn-20-44.sdsc.edu', 'gcn-20-45.sdsc.edu', 'gcn-20-46.sdsc.edu', 'gcn-20-47.sdsc.edu', 'gcn-20-48.sdsc.edu']\n",
      "done in 780.778076887 seconds\n"
     ]
    }
   ],
   "source": [
    "t = time.time()\n",
    "print 'warping thumbnail mask...',\n",
    "\n",
    "run_distributed4('%(script)s %(stack)s %(input_dir)s %(output_dir)s %%(transform)s %%(filename)s %%(output_fn)s thumbnail 0 0 2000 1500 black' % \\\n",
    "                {'script': script,\n",
    "                'stack': stack,\n",
    "                'input_dir': input_dir,\n",
    "                'output_dir': output_dir},\n",
    "                kwargs_list=[{'transform': ','.join(map(str, transforms_to_anchor[fn].flatten())),\n",
    "                            'filename': fn + '_mask.png',\n",
    "                            'output_fn': fn + '_mask_alignedTo_' + anchor_fn + '.png'}\n",
    "                            for fn in filenames],\n",
    "                exclude_nodes=[33],\n",
    "                argument_type='single')\n",
    "\n",
    "print 'done in', time.time() - t, 'seconds' # 780"
   ]
  },
  {
   "cell_type": "markdown",
   "metadata": {
    "deletable": true,
    "editable": true
   },
   "source": [
    "# Crop Thumbnail Masks"
   ]
  },
  {
   "cell_type": "code",
   "execution_count": 13,
   "metadata": {
    "collapsed": false,
    "deletable": true,
    "editable": true
   },
   "outputs": [
    {
     "name": "stdout",
     "output_type": "stream",
     "text": [
      "rm -rf /oasis/projects/nsf/csd395/yuncong/CSHL_data_processed/MD657/MD657_masks_alignedTo_MD657-F44-2017.02.18-06.06.27_MD657_1_0130_cropped\n",
      "mkdir -p /oasis/projects/nsf/csd395/yuncong/CSHL_data_processed/MD657/MD657_masks_alignedTo_MD657-F44-2017.02.18-06.06.27_MD657_1_0130_cropped\n"
     ]
    },
    {
     "name": "stderr",
     "output_type": "stream",
     "text": [
      "Child returned 0\n",
      "Child returned 0\n"
     ]
    },
    {
     "data": {
      "text/plain": [
       "0"
      ]
     },
     "execution_count": 13,
     "metadata": {},
     "output_type": "execute_result"
    }
   ],
   "source": [
    "input_dir = os.path.join(DATA_DIR, stack, stack + '_masks_alignedTo_' + anchor_fn)\n",
    "output_dir = os.path.join(DATA_DIR, stack, stack + '_masks_alignedTo_' + anchor_fn + '_cropped')\n",
    "\n",
    "execute_command('rm -rf ' + output_dir)\n",
    "execute_command('mkdir -p ' + output_dir)"
   ]
  },
  {
   "cell_type": "code",
   "execution_count": 14,
   "metadata": {
    "collapsed": false,
    "deletable": true,
    "editable": true
   },
   "outputs": [
    {
     "name": "stderr",
     "output_type": "stream",
     "text": [
      "cropping thumbnail mask..."
     ]
    },
    {
     "name": "stdout",
     "output_type": "stream",
     "text": [
      "mogrify -set filename:name %t -crop 862x530+774+247 -write \"/oasis/projects/nsf/csd395/yuncong/CSHL_data_processed/MD657/MD657_masks_alignedTo_MD657-F44-2017.02.18-06.06.27_MD657_1_0130_cropped/%[filename:name]_cropped.png\" /oasis/projects/nsf/csd395/yuncong/CSHL_data_processed/MD657/MD657_masks_alignedTo_MD657-F44-2017.02.18-06.06.27_MD657_1_0130/*.png\n"
     ]
    },
    {
     "name": "stderr",
     "output_type": "stream",
     "text": [
      "Child returned 0\n",
      "done in 73.238121 seconds\n"
     ]
    }
   ],
   "source": [
    "t = time.time()\n",
    "sys.stderr.write('cropping thumbnail mask...')\n",
    "\n",
    "execute_command('mogrify -set filename:name %%t -crop %(w)dx%(h)d+%(x)d+%(y)d -write \"%(output_dir)s/%%[filename:name]_cropped.png\" %(input_dir)s/*.png' % \\\n",
    "    {'stack': stack,\n",
    "    'input_dir': input_dir,\n",
    "    'output_dir': output_dir,\n",
    "    'w':xmax+1-xmin, 'h':ymax+1-ymin, 'x':xmin, 'y':ymin})\n",
    "\n",
    "sys.stderr.write('done in %f seconds\\n' % (time.time() - t)) # 70s"
   ]
  },
  {
   "cell_type": "code",
   "execution_count": null,
   "metadata": {
    "collapsed": true,
    "deletable": true,
    "editable": true
   },
   "outputs": [],
   "source": []
  },
  {
   "cell_type": "code",
   "execution_count": 12,
   "metadata": {
    "collapsed": false,
    "deletable": true,
    "editable": true
   },
   "outputs": [
    {
     "name": "stdout",
     "output_type": "stream",
     "text": [
      "Output image already exists. MD657-N70-2017.02.22-18.31.14_MD657_2_0209_lossless_alignedTo_MD657-F44-2017.02.18-06.06.27_MD657_1_0130_cropped.tif\r\n",
      "Output image already exists. MD657-N51-2017.02.22-16.54.20_MD657_2_0152_lossless_alignedTo_MD657-F44-2017.02.18-06.06.27_MD657_1_0130_cropped.tif\r\n",
      "Output image already exists. MD657-F37-2017.02.18-03.39.28_MD657_1_0109_lossless_alignedTo_MD657-F44-2017.02.18-06.06.27_MD657_1_0130_cropped.tif\r\n",
      "Output image already exists. MD657-N79-2017.02.22-19.01.38_MD657_2_0236_lossless_alignedTo_MD657-F44-2017.02.18-06.06.27_MD657_1_0130_cropped.tif\r\n",
      "Output image already exists. MD657-F32-2017.02.18-01.56.25_MD657_2_0095_lossless_alignedTo_MD657-F44-2017.02.18-06.06.27_MD657_1_0130_cropped.tif\r\n",
      "Output image already exists. MD657-F16-2017.02.17-21.02.17_MD657_2_0047_lossless_alignedTo_MD657-F44-2017.02.18-06.06.27_MD657_1_0130_cropped.tif\r\n",
      "Output image already exists. MD657-N37-2017.02.22-15.55.56_MD657_2_0110_lossless_alignedTo_MD657-F44-2017.02.18-06.06.27_MD657_1_0130_cropped.tif\r\n",
      "Output image already exists. MD657-F51-2017.02.18-08.45.55_MD657_2_0152_lossless_alignedTo_MD657-F44-2017.02.18-06.06.27_MD657_1_0130_cropped.tif\r\n",
      "Output image already exists. MD657-F79-2017.02.18-17.27.09_MD657_2_0236_lossless_alignedTo_MD657-F44-2017.02.18-06.06.27_MD657_1_0130_cropped.tif\r\n",
      "Output image already exists. MD657-N33-2017.02.22-15.39.59_MD657_1_0097_lossless_alignedTo_MD657-F44-2017.02.18-06.06.27_MD657_1_0130_cropped.tif\r\n"
     ]
    }
   ],
   "source": [
    "! tail /tmp/stderr.log"
   ]
  }
 ],
 "metadata": {
  "kernelspec": {
   "display_name": "Python 2",
   "language": "python",
   "name": "python2"
  },
  "language_info": {
   "codemirror_mode": {
    "name": "ipython",
    "version": 2
   },
   "file_extension": ".py",
   "mimetype": "text/x-python",
   "name": "python",
   "nbconvert_exporter": "python",
   "pygments_lexer": "ipython2",
   "version": "2.7.12"
  }
 },
 "nbformat": 4,
 "nbformat_minor": 2
}
