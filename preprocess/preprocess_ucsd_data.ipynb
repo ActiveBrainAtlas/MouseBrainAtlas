{
 "cells": [
  {
   "cell_type": "code",
   "execution_count": 53,
   "metadata": {},
   "outputs": [],
   "source": [
    "%reload_ext autoreload\n",
    "%autoreload 2"
   ]
  },
  {
   "cell_type": "code",
   "execution_count": 2,
   "metadata": {
    "scrolled": true
   },
   "outputs": [
    {
     "name": "stdout",
     "output_type": "stream",
     "text": [
      "Setting environment for Precision WorkStation\n"
     ]
    },
    {
     "name": "stderr",
     "output_type": "stream",
     "text": [
      "No vtk\n",
      "No vtkNot using image_cache.\n",
      "Not using image_cache.\n",
      "Not using image_cache.\n",
      "Not using image_cache.\n",
      "Not using image_cache.\n",
      "Not using image_cache.\n",
      "Not using image_cache.\n",
      "Not using image_cache.\n",
      "Not using image_cache.\n",
      "Not using image_cache.\n",
      "Not using image_cache.\n",
      "Not using image_cache.\n",
      "Not using image_cache.\n"
     ]
    },
    {
     "name": "stdout",
     "output_type": "stream",
     "text": [
      "/media/yuncong/BstemAtlasData/CSHL_data_processed/MD585/MD585_prep2_thumbnail/MD585-N16-2015.07.16-20.32.33_MD585_2_0047_prep2_thumbnail.tif\n",
      "/media/yuncong/BstemAtlasData/CSHL_data_processed/MD589/MD589_prep2_thumbnail/MD589-N16-2015.07.30-17.03.43_MD589_3_0048_prep2_thumbnail.tif\n",
      "/media/yuncong/BstemAtlasData/CSHL_data_processed/MD590/MD590_prep2_thumbnail/MD590-IHC17-2015.08.10-19.09.09_MD590_2_0050_prep2_thumbnail.tif\n",
      "/media/yuncong/BstemAtlasData/CSHL_data_processed/MD591/MD591_prep2_thumbnail/MD591-IHC17-2015.08.28-04.23.47_MD591_1_0049_prep2_thumbnail.tif\n",
      "/media/yuncong/BstemAtlasData/CSHL_data_processed/MD592/MD592_prep2_thumbnail/MD592-N16-2015.08.22-00.50.39_MD592_2_0047_prep2_thumbnail.tif\n",
      "/media/yuncong/BstemAtlasData/CSHL_data_processed/MD593/MD593_prep2_thumbnail/MD593-N15-2015.08.21-16.53.02_MD593_3_0045_prep2_thumbnail.tif\n",
      "/media/yuncong/BstemAtlasData/CSHL_data_processed/MD594/MD594_prep2_thumbnail/MD594-IHC16-2015.08.26-16.11.01_MD594_1_0046_prep2_thumbnail.tif\n",
      "/media/yuncong/BstemAtlasData/CSHL_data_processed/MD595/MD595_prep2_thumbnail/MD595-IHC12-2015.09.15-01.21.39_MD595_2_0035_prep2_thumbnail.tif\n",
      "/media/yuncong/BstemAtlasData/CSHL_data_processed/MD598/MD598_prep2_thumbnail/MD598-N18-2015.09.29-17.40.03_MD598_3_0054_prep2_thumbnail.tif\n",
      "/media/yuncong/BstemAtlasData/CSHL_data_processed/MD599/MD599_prep2_thumbnail/MD599-N19-2015.10.02-18.12.13_MD599_3_0057_prep2_thumbnail.tif\n",
      "/media/yuncong/BstemAtlasData/CSHL_data_processed/MD602/MD602_prep2_thumbnail/MD602-N19-2015.12.01-16.24.09_MD602_2_0056_prep2_thumbnail.tif\n",
      "/media/yuncong/BstemAtlasData/CSHL_data_processed/MD603/MD603_prep2_thumbnail/MD603-N11-2016.03.02-12.51.47_MD603_1_0031_prep2_thumbnail.tif\n",
      "/media/yuncong/BstemAtlasData/CSHL_data_processed/MD635/MD635_prep2_thumbnail/MD635-F25-2016.05.18-21.02.30_MD635_3_0075_prep2_thumbnail.tif\n",
      "/media/yuncong/BstemAtlasData/CSHL_data_processed/MD653/MD653_prep2_thumbnail/MD653-F15-2016.12.20-21.04.12_MD653_1_0043_prep2_thumbnail.tif\n",
      "/media/yuncong/BstemAtlasData/CSHL_data_processed/MD652/MD652_prep2_thumbnail/MD652-F15-2016.12.16-20.45.52_MD652_3_0045_prep2_thumbnail.tif\n"
     ]
    },
    {
     "name": "stderr",
     "output_type": "stream",
     "text": [
      "Not using image_cache.\n",
      "Not using image_cache.\n",
      "Not using image_cache.\n",
      "Not using image_cache.\n",
      "Not using image_cache.\n",
      "Not using image_cache.\n",
      "Not using image_cache.\n",
      "Not using image_cache.\n"
     ]
    },
    {
     "name": "stdout",
     "output_type": "stream",
     "text": [
      "/media/yuncong/BstemAtlasData/CSHL_data_processed/MD642/MD642_prep2_thumbnail/MD642-N14-2017.01.18-16.25.58_MD642_2_0041_prep2_thumbnail.tif\n",
      "/media/yuncong/BstemAtlasData/CSHL_data_processed/MD657/MD657_prep2_thumbnail/MD657-N13-2017.02.22-14.33.34_MD657_3_0039_prep2_thumbnail.tif\n",
      "/media/yuncong/BstemAtlasData/CSHL_data_processed/MD658/MD658_prep2_thumbnail/MD658-N18-2017.03.31-17.34.22_MD658_2_0053_prep2_thumbnail.tif\n",
      "/media/yuncong/BstemAtlasData/CSHL_data_processed/MD661/MD661_prep2_thumbnail/MD662&661-F30-2017.06.05-14.49.48_MD661_1_0088_prep2_thumbnail.tif\n",
      "/media/yuncong/BstemAtlasData/CSHL_data_processed/MD662/MD662_prep2_thumbnail/MD662&661-F35-2017.06.05-17.08.18_MD662_1_0103_prep2_thumbnail.tif\n",
      "/media/yuncong/BstemAtlasData/CSHL_data_processed/ChatCryoJane201710/ChatCryoJane201710_prep2_thumbnail_Ntb/ChatCryoJane201710_slide1-S1_prep2_thumbnail_Ntb.tif\n"
     ]
    },
    {
     "name": "stderr",
     "output_type": "stream",
     "text": [
      "/usr/local/lib/python2.7/dist-packages/sklearn/cross_validation.py:44: DeprecationWarning: This module was deprecated in version 0.18 in favor of the model_selection module into which all the refactored classes and functions are moved. Also note that the interface of the new CV iterators are different from that of this module. This module will be removed in 0.20.\n",
      "  \"This module will be removed in 0.20.\", DeprecationWarning)\n"
     ]
    }
   ],
   "source": [
    "import os\n",
    "import sys\n",
    "import time\n",
    "\n",
    "import matplotlib.pyplot as plt\n",
    "%matplotlib inline\n",
    "import numpy as np\n",
    "\n",
    "sys.path.append(os.path.join(os.environ['REPO_DIR'], 'utilities'))\n",
    "from utilities2015 import *\n",
    "from metadata import *\n",
    "from data_manager import *\n",
    "from learning_utilities import *"
   ]
  },
  {
   "cell_type": "code",
   "execution_count": 8,
   "metadata": {
    "collapsed": true
   },
   "outputs": [],
   "source": [
    "# raw_dir = '/media/yuncong/BstemAtlasData/CSHL_data/ChatCryoJane201710/'\n",
    "raw_dir = '/media/yuncong/Seagate Backup Plus Drive/CHATM2'"
   ]
  },
  {
   "cell_type": "code",
   "execution_count": 4,
   "metadata": {
    "collapsed": true
   },
   "outputs": [],
   "source": [
    "# thumbnail_nt_dir = '/media/yuncong/BstemAtlasData/ChatCryoJane_thumbnails_Neurotrace/'\n",
    "# create_if_not_exists(thumbnail_nt_dir)\n",
    "# thumbnail_chat_dir = '/media/yuncong/BstemAtlasData/ChatCryoJane_thumbnails_Chat/'\n",
    "# create_if_not_exists(thumbnail_chat_dir)"
   ]
  },
  {
   "cell_type": "markdown",
   "metadata": {},
   "source": [
    "# Rename files"
   ]
  },
  {
   "cell_type": "code",
   "execution_count": 9,
   "metadata": {},
   "outputs": [
    {
     "name": "stdout",
     "output_type": "stream",
     "text": [
      "ChatCryoJane201710_slide1-S1_lossless.tif ChatCryoJane201710_slide1-S1_lossless_Chat.tif\n",
      "ChatCryoJane201710_slide1-S2_lossless.tif ChatCryoJane201710_slide1-S2_lossless_Chat.tif\n",
      "ChatCryoJane201710_slide1-S3_lossless.tif ChatCryoJane201710_slide1-S3_lossless_Chat.tif\n",
      "ChatCryoJane201710_slide10-S1_lossless.tif ChatCryoJane201710_slide10-S1_lossless_Chat.tif\n",
      "ChatCryoJane201710_slide10-S2_lossless.tif ChatCryoJane201710_slide10-S2_lossless_Chat.tif\n",
      "ChatCryoJane201710_slide10-S3_lossless.tif ChatCryoJane201710_slide10-S3_lossless_Chat.tif\n",
      "ChatCryoJane201710_slide11-S1_lossless.tif ChatCryoJane201710_slide11-S1_lossless_Chat.tif\n",
      "ChatCryoJane201710_slide11-S2_lossless.tif ChatCryoJane201710_slide11-S2_lossless_Chat.tif\n",
      "ChatCryoJane201710_slide11-S3_lossless.tif ChatCryoJane201710_slide11-S3_lossless_Chat.tif\n",
      "ChatCryoJane201710_slide12-S1_lossless.tif ChatCryoJane201710_slide12-S1_lossless_Chat.tif\n",
      "ChatCryoJane201710_slide12-S2_lossless.tif ChatCryoJane201710_slide12-S2_lossless_Chat.tif\n",
      "ChatCryoJane201710_slide20-S3_lossless.tif ChatCryoJane201710_slide20-S3_lossless_Chat.tif\n",
      "ChatCryoJane201710_slide21-S1_lossless.tif ChatCryoJane201710_slide21-S1_lossless_Chat.tif\n",
      "ChatCryoJane201710_slide21-S2_lossless.tif ChatCryoJane201710_slide21-S2_lossless_Chat.tif\n",
      "ChatCryoJane201710_slide21-S3_lossless.tif ChatCryoJane201710_slide21-S3_lossless_Chat.tif\n",
      "ChatCryoJane201710_slide22-S1_lossless.tif ChatCryoJane201710_slide22-S1_lossless_Chat.tif\n",
      "ChatCryoJane201710_slide22-S2_lossless.tif ChatCryoJane201710_slide22-S2_lossless_Chat.tif\n",
      "ChatCryoJane201710_slide22-S3_lossless.tif ChatCryoJane201710_slide22-S3_lossless_Chat.tif\n",
      "ChatCryoJane201710_slide23-S1_lossless.tif ChatCryoJane201710_slide23-S1_lossless_Chat.tif\n",
      "ChatCryoJane201710_slide23-S2_lossless.tif ChatCryoJane201710_slide23-S2_lossless_Chat.tif\n",
      "ChatCryoJane201710_slide23-S3_lossless.tif ChatCryoJane201710_slide23-S3_lossless_Chat.tif\n",
      "ChatCryoJane201710_slide24-S1_lossless.tif ChatCryoJane201710_slide24-S1_lossless_Chat.tif\n",
      "ChatCryoJane201710_slide13-S1_lossless.tif ChatCryoJane201710_slide13-S1_lossless_Chat.tif\n",
      "ChatCryoJane201710_slide13-S2_lossless.tif ChatCryoJane201710_slide13-S2_lossless_Chat.tif\n",
      "ChatCryoJane201710_slide13-S3_lossless.tif ChatCryoJane201710_slide13-S3_lossless_Chat.tif\n",
      "ChatCryoJane201710_slide14-S1_lossless.tif ChatCryoJane201710_slide14-S1_lossless_Chat.tif\n",
      "ChatCryoJane201710_slide14-S2_lossless.tif ChatCryoJane201710_slide14-S2_lossless_Chat.tif\n",
      "ChatCryoJane201710_slide14-S3_lossless.tif ChatCryoJane201710_slide14-S3_lossless_Chat.tif\n",
      "ChatCryoJane201710_slide15-S1_lossless.tif ChatCryoJane201710_slide15-S1_lossless_Chat.tif\n",
      "ChatCryoJane201710_slide15-S2_lossless.tif ChatCryoJane201710_slide15-S2_lossless_Chat.tif\n",
      "ChatCryoJane201710_slide15-S3_lossless.tif ChatCryoJane201710_slide15-S3_lossless_Chat.tif\n",
      "ChatCryoJane201710_slide16-S1_lossless.tif ChatCryoJane201710_slide16-S1_lossless_Chat.tif\n",
      "ChatCryoJane201710_slide16-S2_lossless.tif ChatCryoJane201710_slide16-S2_lossless_Chat.tif\n",
      "ChatCryoJane201710_slide12-S3_lossless.tif ChatCryoJane201710_slide12-S3_lossless_Chat.tif\n",
      "ChatCryoJane201710_slide16-S3_lossless.tif ChatCryoJane201710_slide16-S3_lossless_Chat.tif\n",
      "ChatCryoJane201710_slide20-S2_lossless.tif ChatCryoJane201710_slide20-S2_lossless_Chat.tif\n",
      "ChatCryoJane201710_slide24-S2_lossless.tif ChatCryoJane201710_slide24-S2_lossless_Chat.tif\n",
      "ChatCryoJane201710_slide28-S2_lossless.tif ChatCryoJane201710_slide28-S2_lossless_Chat.tif\n",
      "ChatCryoJane201710_slide31-S2_lossless.tif ChatCryoJane201710_slide31-S2_lossless_Chat.tif\n",
      "ChatCryoJane201710_slide35-S2_lossless.tif ChatCryoJane201710_slide35-S2_lossless_Chat.tif\n",
      "ChatCryoJane201710_slide39-S2_lossless.tif ChatCryoJane201710_slide39-S2_lossless_Chat.tif\n",
      "ChatCryoJane201710_slide45-S2_lossless.tif ChatCryoJane201710_slide45-S2_lossless_Chat.tif\n",
      "ChatCryoJane201710_slide50-S3_lossless.tif ChatCryoJane201710_slide50-S3_lossless_Chat.tif\n",
      "ChatCryoJane201710_slide54-S3_lossless.tif ChatCryoJane201710_slide54-S3_lossless_Chat.tif\n",
      "ChatCryoJane201710_slide59-S1_lossless.tif ChatCryoJane201710_slide59-S1_lossless_Chat.tif\n",
      "ChatCryoJane201710_slide17-S1_lossless.tif ChatCryoJane201710_slide17-S1_lossless_Chat.tif\n",
      "ChatCryoJane201710_slide17-S2_lossless.tif ChatCryoJane201710_slide17-S2_lossless_Chat.tif\n",
      "ChatCryoJane201710_slide17-S3_lossless.tif ChatCryoJane201710_slide17-S3_lossless_Chat.tif\n",
      "ChatCryoJane201710_slide18-S1_lossless.tif ChatCryoJane201710_slide18-S1_lossless_Chat.tif\n",
      "ChatCryoJane201710_slide18-S2_lossless.tif ChatCryoJane201710_slide18-S2_lossless_Chat.tif\n",
      "ChatCryoJane201710_slide18-S3_lossless.tif ChatCryoJane201710_slide18-S3_lossless_Chat.tif\n",
      "ChatCryoJane201710_slide19-S1_lossless.tif ChatCryoJane201710_slide19-S1_lossless_Chat.tif\n",
      "ChatCryoJane201710_slide19-S2_lossless.tif ChatCryoJane201710_slide19-S2_lossless_Chat.tif\n",
      "ChatCryoJane201710_slide19-S3_lossless.tif ChatCryoJane201710_slide19-S3_lossless_Chat.tif\n",
      "ChatCryoJane201710_slide2-S1_lossless.tif ChatCryoJane201710_slide2-S1_lossless_Chat.tif\n",
      "ChatCryoJane201710_slide2-S2_lossless.tif ChatCryoJane201710_slide2-S2_lossless_Chat.tif\n",
      "ChatCryoJane201710_slide2-S3_lossless.tif ChatCryoJane201710_slide2-S3_lossless_Chat.tif\n",
      "ChatCryoJane201710_slide20-S1_lossless.tif ChatCryoJane201710_slide20-S1_lossless_Chat.tif\n",
      "ChatCryoJane201710_slide45-S3_lossless.tif ChatCryoJane201710_slide45-S3_lossless_Chat.tif\n",
      "ChatCryoJane201710_slide46-S1_lossless.tif ChatCryoJane201710_slide46-S1_lossless_Chat.tif\n",
      "ChatCryoJane201710_slide46-S2_lossless.tif ChatCryoJane201710_slide46-S2_lossless_Chat.tif\n",
      "ChatCryoJane201710_slide46-S3_lossless.tif ChatCryoJane201710_slide46-S3_lossless_Chat.tif\n",
      "ChatCryoJane201710_slide47-S1_lossless.tif ChatCryoJane201710_slide47-S1_lossless_Chat.tif\n",
      "ChatCryoJane201710_slide47-S2_lossless.tif ChatCryoJane201710_slide47-S2_lossless_Chat.tif\n",
      "ChatCryoJane201710_slide47-S3_lossless.tif ChatCryoJane201710_slide47-S3_lossless_Chat.tif\n",
      "ChatCryoJane201710_slide48-S1_lossless.tif ChatCryoJane201710_slide48-S1_lossless_Chat.tif\n",
      "ChatCryoJane201710_slide48-S2_lossless.tif ChatCryoJane201710_slide48-S2_lossless_Chat.tif\n",
      "ChatCryoJane201710_slide48-S3_lossless.tif ChatCryoJane201710_slide48-S3_lossless_Chat.tif\n",
      "ChatCryoJane201710_slide49-S1_lossless.tif ChatCryoJane201710_slide49-S1_lossless_Chat.tif\n",
      "ChatCryoJane201710_slide49-S2_lossless.tif ChatCryoJane201710_slide49-S2_lossless_Chat.tif\n",
      "ChatCryoJane201710_slide49-S3_lossless.tif ChatCryoJane201710_slide49-S3_lossless_Chat.tif\n",
      "ChatCryoJane201710_slide5-S1_lossless.tif ChatCryoJane201710_slide5-S1_lossless_Chat.tif\n",
      "ChatCryoJane201710_slide5-S2_lossless.tif ChatCryoJane201710_slide5-S2_lossless_Chat.tif\n",
      "ChatCryoJane201710_slide5-S3_lossless.tif ChatCryoJane201710_slide5-S3_lossless_Chat.tif\n",
      "ChatCryoJane201710_slide50-S1_lossless.tif ChatCryoJane201710_slide50-S1_lossless_Chat.tif\n",
      "ChatCryoJane201710_slide50-S2_lossless.tif ChatCryoJane201710_slide50-S2_lossless_Chat.tif\n",
      "ChatCryoJane201710_slide24-S3_lossless.tif ChatCryoJane201710_slide24-S3_lossless_Chat.tif\n",
      "ChatCryoJane201710_slide25-S1_lossless.tif ChatCryoJane201710_slide25-S1_lossless_Chat.tif\n",
      "ChatCryoJane201710_slide25-S2_lossless.tif ChatCryoJane201710_slide25-S2_lossless_Chat.tif\n",
      "ChatCryoJane201710_slide25-S3_lossless.tif ChatCryoJane201710_slide25-S3_lossless_Chat.tif\n",
      "ChatCryoJane201710_slide26-S1_lossless.tif ChatCryoJane201710_slide26-S1_lossless_Chat.tif\n",
      "ChatCryoJane201710_slide26-S2_lossless.tif ChatCryoJane201710_slide26-S2_lossless_Chat.tif\n",
      "ChatCryoJane201710_slide26-S3_lossless.tif ChatCryoJane201710_slide26-S3_lossless_Chat.tif\n",
      "ChatCryoJane201710_slide27-S1_lossless.tif ChatCryoJane201710_slide27-S1_lossless_Chat.tif\n",
      "ChatCryoJane201710_slide27-S2_lossless.tif ChatCryoJane201710_slide27-S2_lossless_Chat.tif\n",
      "ChatCryoJane201710_slide27-S3_lossless.tif ChatCryoJane201710_slide27-S3_lossless_Chat.tif\n",
      "ChatCryoJane201710_slide28-S1_lossless.tif ChatCryoJane201710_slide28-S1_lossless_Chat.tif\n",
      "ChatCryoJane201710_slide28-S3_lossless.tif ChatCryoJane201710_slide28-S3_lossless_Chat.tif\n",
      "ChatCryoJane201710_slide29-S1_lossless.tif ChatCryoJane201710_slide29-S1_lossless_Chat.tif\n",
      "ChatCryoJane201710_slide29-S2_lossless.tif ChatCryoJane201710_slide29-S2_lossless_Chat.tif\n",
      "ChatCryoJane201710_slide29-S3_lossless.tif ChatCryoJane201710_slide29-S3_lossless_Chat.tif\n",
      "ChatCryoJane201710_slide3-S1_lossless.tif ChatCryoJane201710_slide3-S1_lossless_Chat.tif\n",
      "ChatCryoJane201710_slide3-S2_lossless.tif ChatCryoJane201710_slide3-S2_lossless_Chat.tif\n",
      "ChatCryoJane201710_slide3-S3_lossless.tif ChatCryoJane201710_slide3-S3_lossless_Chat.tif\n",
      "ChatCryoJane201710_slide30-S1_lossless.tif ChatCryoJane201710_slide30-S1_lossless_Chat.tif\n",
      "ChatCryoJane201710_slide30-S2_lossless.tif ChatCryoJane201710_slide30-S2_lossless_Chat.tif\n",
      "ChatCryoJane201710_slide30-S3_lossless.tif ChatCryoJane201710_slide30-S3_lossless_Chat.tif\n",
      "ChatCryoJane201710_slide31-S1_lossless.tif ChatCryoJane201710_slide31-S1_lossless_Chat.tif\n",
      "ChatCryoJane201710_slide31-S3_lossless.tif ChatCryoJane201710_slide31-S3_lossless_Chat.tif\n",
      "ChatCryoJane201710_slide32-S1_lossless.tif ChatCryoJane201710_slide32-S1_lossless_Chat.tif\n",
      "ChatCryoJane201710_slide32-S2_lossless.tif ChatCryoJane201710_slide32-S2_lossless_Chat.tif\n",
      "ChatCryoJane201710_slide32-S3_lossless.tif ChatCryoJane201710_slide32-S3_lossless_Chat.tif\n",
      "ChatCryoJane201710_slide33-S1_lossless.tif ChatCryoJane201710_slide33-S1_lossless_Chat.tif\n",
      "ChatCryoJane201710_slide33-S2_lossless.tif ChatCryoJane201710_slide33-S2_lossless_Chat.tif\n",
      "ChatCryoJane201710_slide33-S3_lossless.tif ChatCryoJane201710_slide33-S3_lossless_Chat.tif\n",
      "ChatCryoJane201710_slide34-S1_lossless.tif ChatCryoJane201710_slide34-S1_lossless_Chat.tif\n",
      "ChatCryoJane201710_slide34-S2_lossless.tif ChatCryoJane201710_slide34-S2_lossless_Chat.tif\n",
      "ChatCryoJane201710_slide34-S3_lossless.tif ChatCryoJane201710_slide34-S3_lossless_Chat.tif\n",
      "ChatCryoJane201710_slide35-S1_lossless.tif ChatCryoJane201710_slide35-S1_lossless_Chat.tif\n",
      "ChatCryoJane201710_slide35-S3_lossless.tif ChatCryoJane201710_slide35-S3_lossless_Chat.tif\n",
      "ChatCryoJane201710_slide36-S1_lossless.tif ChatCryoJane201710_slide36-S1_lossless_Chat.tif\n",
      "ChatCryoJane201710_slide36-S2_lossless.tif ChatCryoJane201710_slide36-S2_lossless_Chat.tif\n",
      "ChatCryoJane201710_slide36-S3_lossless.tif ChatCryoJane201710_slide36-S3_lossless_Chat.tif\n",
      "ChatCryoJane201710_slide37-S1_lossless.tif ChatCryoJane201710_slide37-S1_lossless_Chat.tif\n",
      "ChatCryoJane201710_slide37-S2_lossless.tif ChatCryoJane201710_slide37-S2_lossless_Chat.tif\n",
      "ChatCryoJane201710_slide37-S3_lossless.tif ChatCryoJane201710_slide37-S3_lossless_Chat.tif\n",
      "ChatCryoJane201710_slide38-S1_lossless.tif ChatCryoJane201710_slide38-S1_lossless_Chat.tif\n",
      "ChatCryoJane201710_slide38-S2_lossless.tif ChatCryoJane201710_slide38-S2_lossless_Chat.tif\n",
      "ChatCryoJane201710_slide38-S3_lossless.tif ChatCryoJane201710_slide38-S3_lossless_Chat.tif\n",
      "ChatCryoJane201710_slide39-S1_lossless.tif ChatCryoJane201710_slide39-S1_lossless_Chat.tif\n",
      "ChatCryoJane201710_slide39-S3_lossless.tif ChatCryoJane201710_slide39-S3_lossless_Chat.tif\n",
      "ChatCryoJane201710_slide4-S1_lossless.tif ChatCryoJane201710_slide4-S1_lossless_Chat.tif\n",
      "ChatCryoJane201710_slide4-S2_lossless.tif ChatCryoJane201710_slide4-S2_lossless_Chat.tif\n",
      "ChatCryoJane201710_slide4-S3_lossless.tif ChatCryoJane201710_slide4-S3_lossless_Chat.tif\n",
      "ChatCryoJane201710_slide40-S1_lossless.tif ChatCryoJane201710_slide40-S1_lossless_Chat.tif\n",
      "ChatCryoJane201710_slide40-S2_lossless.tif ChatCryoJane201710_slide40-S2_lossless_Chat.tif\n",
      "ChatCryoJane201710_slide40-S3_lossless.tif ChatCryoJane201710_slide40-S3_lossless_Chat.tif\n",
      "ChatCryoJane201710_slide41-S1_lossless.tif ChatCryoJane201710_slide41-S1_lossless_Chat.tif\n",
      "ChatCryoJane201710_slide41-S2_lossless.tif ChatCryoJane201710_slide41-S2_lossless_Chat.tif\n",
      "ChatCryoJane201710_slide41-S3_lossless.tif ChatCryoJane201710_slide41-S3_lossless_Chat.tif\n",
      "ChatCryoJane201710_slide42-S1_lossless.tif ChatCryoJane201710_slide42-S1_lossless_Chat.tif\n",
      "ChatCryoJane201710_slide42-S2_lossless.tif ChatCryoJane201710_slide42-S2_lossless_Chat.tif\n",
      "ChatCryoJane201710_slide42-S3_lossless.tif ChatCryoJane201710_slide42-S3_lossless_Chat.tif\n",
      "ChatCryoJane201710_slide43-S1_lossless.tif ChatCryoJane201710_slide43-S1_lossless_Chat.tif\n",
      "ChatCryoJane201710_slide43-S2_lossless.tif ChatCryoJane201710_slide43-S2_lossless_Chat.tif\n",
      "ChatCryoJane201710_slide43-S3_lossless.tif ChatCryoJane201710_slide43-S3_lossless_Chat.tif\n",
      "ChatCryoJane201710_slide44-S1_lossless.tif ChatCryoJane201710_slide44-S1_lossless_Chat.tif\n",
      "ChatCryoJane201710_slide44-S2_lossless.tif ChatCryoJane201710_slide44-S2_lossless_Chat.tif\n",
      "ChatCryoJane201710_slide44-S3_lossless.tif ChatCryoJane201710_slide44-S3_lossless_Chat.tif\n",
      "ChatCryoJane201710_slide45-S1_lossless.tif ChatCryoJane201710_slide45-S1_lossless_Chat.tif\n",
      "ChatCryoJane201710_slide51-S1_lossless.tif ChatCryoJane201710_slide51-S1_lossless_Chat.tif\n",
      "ChatCryoJane201710_slide51-S2_lossless.tif ChatCryoJane201710_slide51-S2_lossless_Chat.tif\n",
      "ChatCryoJane201710_slide51-S3_lossless.tif ChatCryoJane201710_slide51-S3_lossless_Chat.tif\n",
      "ChatCryoJane201710_slide52-S1_lossless.tif ChatCryoJane201710_slide52-S1_lossless_Chat.tif\n",
      "ChatCryoJane201710_slide52-S2_lossless.tif ChatCryoJane201710_slide52-S2_lossless_Chat.tif\n",
      "ChatCryoJane201710_slide52-S3_lossless.tif ChatCryoJane201710_slide52-S3_lossless_Chat.tif\n",
      "ChatCryoJane201710_slide53-S1_lossless.tif ChatCryoJane201710_slide53-S1_lossless_Chat.tif\n",
      "ChatCryoJane201710_slide53-S2_lossless.tif ChatCryoJane201710_slide53-S2_lossless_Chat.tif\n",
      "ChatCryoJane201710_slide53-S3_lossless.tif ChatCryoJane201710_slide53-S3_lossless_Chat.tif\n",
      "ChatCryoJane201710_slide54-S1_lossless.tif ChatCryoJane201710_slide54-S1_lossless_Chat.tif\n",
      "ChatCryoJane201710_slide54-S2_lossless.tif ChatCryoJane201710_slide54-S2_lossless_Chat.tif\n",
      "ChatCryoJane201710_slide55-S1_lossless.tif ChatCryoJane201710_slide55-S1_lossless_Chat.tif\n",
      "ChatCryoJane201710_slide55-S2_lossless.tif ChatCryoJane201710_slide55-S2_lossless_Chat.tif\n",
      "ChatCryoJane201710_slide55-S3_lossless.tif ChatCryoJane201710_slide55-S3_lossless_Chat.tif\n",
      "ChatCryoJane201710_slide56-S1_lossless.tif ChatCryoJane201710_slide56-S1_lossless_Chat.tif\n",
      "ChatCryoJane201710_slide56-S2_lossless.tif ChatCryoJane201710_slide56-S2_lossless_Chat.tif\n",
      "ChatCryoJane201710_slide56-S3_lossless.tif ChatCryoJane201710_slide56-S3_lossless_Chat.tif\n",
      "ChatCryoJane201710_slide57-S1_lossless.tif ChatCryoJane201710_slide57-S1_lossless_Chat.tif\n",
      "ChatCryoJane201710_slide57-S2_lossless.tif ChatCryoJane201710_slide57-S2_lossless_Chat.tif\n",
      "ChatCryoJane201710_slide57-S3_lossless.tif ChatCryoJane201710_slide57-S3_lossless_Chat.tif\n",
      "ChatCryoJane201710_slide58-S1_lossless.tif ChatCryoJane201710_slide58-S1_lossless_Chat.tif\n",
      "ChatCryoJane201710_slide58-S2_lossless.tif ChatCryoJane201710_slide58-S2_lossless_Chat.tif\n",
      "ChatCryoJane201710_slide59-S2_lossless.tif ChatCryoJane201710_slide59-S2_lossless_Chat.tif\n",
      "ChatCryoJane201710_slide59-S3_lossless.tif ChatCryoJane201710_slide59-S3_lossless_Chat.tif\n",
      "ChatCryoJane201710_slide6-S1_lossless.tif ChatCryoJane201710_slide6-S1_lossless_Chat.tif\n",
      "ChatCryoJane201710_slide6-S2_lossless.tif ChatCryoJane201710_slide6-S2_lossless_Chat.tif\n",
      "ChatCryoJane201710_slide6-S3_lossless.tif ChatCryoJane201710_slide6-S3_lossless_Chat.tif\n",
      "ChatCryoJane201710_slide60-S1_lossless.tif ChatCryoJane201710_slide60-S1_lossless_Chat.tif\n",
      "ChatCryoJane201710_slide60-S2_lossless.tif ChatCryoJane201710_slide60-S2_lossless_Chat.tif\n",
      "ChatCryoJane201710_slide60-S3_lossless.tif ChatCryoJane201710_slide60-S3_lossless_Chat.tif\n",
      "ChatCryoJane201710_slide7-S1_lossless.tif ChatCryoJane201710_slide7-S1_lossless_Chat.tif\n",
      "ChatCryoJane201710_slide7-S2_lossless.tif ChatCryoJane201710_slide7-S2_lossless_Chat.tif\n",
      "ChatCryoJane201710_slide7-S3_lossless.tif ChatCryoJane201710_slide7-S3_lossless_Chat.tif\n",
      "ChatCryoJane201710_slide8-S1_lossless.tif ChatCryoJane201710_slide8-S1_lossless_Chat.tif\n",
      "ChatCryoJane201710_slide8-S2_lossless.tif ChatCryoJane201710_slide8-S2_lossless_Chat.tif\n",
      "ChatCryoJane201710_slide8-S3_lossless.tif ChatCryoJane201710_slide8-S3_lossless_Chat.tif\n",
      "ChatCryoJane201710_slide9-S1_lossless.tif ChatCryoJane201710_slide9-S1_lossless_Chat.tif\n",
      "ChatCryoJane201710_slide9-S2_lossless.tif ChatCryoJane201710_slide9-S2_lossless_Chat.tif\n",
      "ChatCryoJane201710_slide9-S3_lossless.tif ChatCryoJane201710_slide9-S3_lossless_Chat.tif\n"
     ]
    }
   ],
   "source": [
    "input_dir = raw_dir + '/ChatCryoJane201710_raw_Chat'\n",
    "for fn in os.listdir(input_dir):\n",
    "    new_fn = os.path.splitext(fn)[0] + '_Chat.tif'\n",
    "    print fn, new_fn\n",
    "    os.rename(os.path.join(input_dir, fn), os.path.join(input_dir, new_fn))"
   ]
  },
  {
   "cell_type": "code",
   "execution_count": 15,
   "metadata": {},
   "outputs": [
    {
     "name": "stdout",
     "output_type": "stream",
     "text": [
      "Chat_slide1-S1-Alexa Fluor 568.tif Chat_slide1-S1-Chat.tif\n",
      "Chat_slide1-S1-CFP.tif Chat_slide1-S1-Ntb.tif\n",
      "Chat_slide1-S2-Alexa Fluor 568.tif Chat_slide1-S2-Chat.tif\n",
      "Chat_slide1-S2-CFP.tif Chat_slide1-S2-Ntb.tif\n",
      "Chat_slide1-S3-Alexa Fluor 568.tif Chat_slide1-S3-Chat.tif\n",
      "Chat_slide1-S3-CFP.tif Chat_slide1-S3-Ntb.tif\n",
      "Chat_slide10-S1-Alexa Fluor 568.tif Chat_slide10-S1-Chat.tif\n",
      "Chat_slide10-S1-CFP.tif Chat_slide10-S1-Ntb.tif\n",
      "Chat_slide10-S2-Alexa Fluor 568.tif Chat_slide10-S2-Chat.tif\n",
      "Chat_slide10-S2-CFP.tif Chat_slide10-S2-Ntb.tif\n",
      "Chat_slide10-S3-Alexa Fluor 568.tif Chat_slide10-S3-Chat.tif\n",
      "Chat_slide10-S3-CFP.tif Chat_slide10-S3-Ntb.tif\n",
      "Chat_slide11-S1-Alexa Fluor 568.tif Chat_slide11-S1-Chat.tif\n",
      "Chat_slide11-S1-CFP.tif Chat_slide11-S1-Ntb.tif\n",
      "Chat_slide2-S3-Alexa Fluor 568.tif Chat_slide2-S3-Chat.tif\n",
      "Chat_slide2-S3-CFP.tif Chat_slide2-S3-Ntb.tif\n",
      "Chat_slide20-S1-Alexa Fluor 568.tif Chat_slide20-S1-Chat.tif\n",
      "Chat_slide20-S1-CFP.tif Chat_slide20-S1-Ntb.tif\n",
      "Chat_slide20-S2-Alexa Fluor 568.tif Chat_slide20-S2-Chat.tif\n",
      "Chat_slide20-S2-CFP.tif Chat_slide20-S2-Ntb.tif\n",
      "Chat_slide20-S3-Alexa Fluor 568.tif Chat_slide20-S3-Chat.tif\n",
      "Chat_slide20-S3-CFP.tif Chat_slide20-S3-Ntb.tif\n",
      "Chat_slide21-S1-Alexa Fluor 568.tif Chat_slide21-S1-Chat.tif\n",
      "Chat_slide21-S1-CFP.tif Chat_slide21-S1-Ntb.tif\n",
      "Chat_slide21-S2-Alexa Fluor 568.tif Chat_slide21-S2-Chat.tif\n",
      "Chat_slide21-S2-CFP.tif Chat_slide21-S2-Ntb.tif\n",
      "Chat_slide21-S3-Alexa Fluor 568.tif Chat_slide21-S3-Chat.tif\n",
      "Chat_slide21-S3-CFP.tif Chat_slide21-S3-Ntb.tif\n",
      "Chat_slide6-S1-CFP.tif Chat_slide6-S1-Ntb.tif\n",
      "Chat_slide6-S2-Alexa Fluor 568.tif Chat_slide6-S2-Chat.tif\n",
      "Chat_slide6-S2-CFP.tif Chat_slide6-S2-Ntb.tif\n",
      "Chat_slide6-S3-Alexa Fluor 568.tif Chat_slide6-S3-Chat.tif\n",
      "Chat_slide6-S3-CFP.tif Chat_slide6-S3-Ntb.tif\n",
      "Chat_slide60-S1-Alexa Fluor 568.tif Chat_slide60-S1-Chat.tif\n",
      "Chat_slide60-S1-CFP.tif Chat_slide60-S1-Ntb.tif\n",
      "Chat_slide60-S2-Alexa Fluor 568.tif Chat_slide60-S2-Chat.tif\n",
      "Chat_slide60-S2-CFP.tif Chat_slide60-S2-Ntb.tif\n",
      "Chat_slide60-S3-Alexa Fluor 568.tif Chat_slide60-S3-Chat.tif\n",
      "Chat_slide60-S3-CFP.tif Chat_slide60-S3-Ntb.tif\n",
      "Chat_slide7-S1-Alexa Fluor 568.tif Chat_slide7-S1-Chat.tif\n",
      "Chat_slide7-S1-CFP.tif Chat_slide7-S1-Ntb.tif\n",
      "Chat_slide7-S2-Alexa Fluor 568.tif Chat_slide7-S2-Chat.tif\n",
      "Chat_slide7-S2-CFP.tif Chat_slide7-S2-Ntb.tif\n",
      "Chat_slide11-S2-CFP.tif Chat_slide11-S2-Ntb.tif\n",
      "Chat_slide11-S3-Alexa Fluor 568.tif Chat_slide11-S3-Chat.tif\n",
      "Chat_slide11-S3-CFP.tif Chat_slide11-S3-Ntb.tif\n",
      "Chat_slide12-S1-Alexa Fluor 568.tif Chat_slide12-S1-Chat.tif\n",
      "Chat_slide12-S1-CFP.tif Chat_slide12-S1-Ntb.tif\n",
      "Chat_slide12-S2-Alexa Fluor 568.tif Chat_slide12-S2-Chat.tif\n",
      "Chat_slide12-S2-CFP.tif Chat_slide12-S2-Ntb.tif\n",
      "Chat_slide12-S3-Alexa Fluor 568.tif Chat_slide12-S3-Chat.tif\n",
      "Chat_slide12-S3-CFP.tif Chat_slide12-S3-Ntb.tif\n",
      "Chat_slide13-S1-Alexa Fluor 568.tif Chat_slide13-S1-Chat.tif\n",
      "Chat_slide13-S1-CFP.tif Chat_slide13-S1-Ntb.tif\n",
      "Chat_slide13-S2-Alexa Fluor 568.tif Chat_slide13-S2-Chat.tif\n",
      "Chat_slide13-S2-CFP.tif Chat_slide13-S2-Ntb.tif\n",
      "Chat_slide13-S3-Alexa Fluor 568.tif Chat_slide13-S3-Chat.tif\n",
      "Chat_slide11-S2-Alexa Fluor 568.tif Chat_slide11-S2-Chat.tif\n",
      "Chat_slide13-S3-CFP.tif Chat_slide13-S3-Ntb.tif\n",
      "Chat_slide16-S2-Alexa Fluor 568.tif Chat_slide16-S2-Chat.tif\n",
      "Chat_slide2-S2-CFP.tif Chat_slide2-S2-Ntb.tif\n",
      "Chat_slide22-S1-Alexa Fluor 568.tif Chat_slide22-S1-Chat.tif\n",
      "Chat_slide24-S2-CFP.tif Chat_slide24-S2-Ntb.tif\n",
      "Chat_slide27-S1-Alexa Fluor 568.tif Chat_slide27-S1-Chat.tif\n",
      "Chat_slide28-S3-CFP.tif Chat_slide28-S3-Ntb.tif\n",
      "Chat_slide31-S2-Alexa Fluor 568.tif Chat_slide31-S2-Chat.tif\n",
      "Chat_slide33-S3-CFP.tif Chat_slide33-S3-Ntb.tif\n",
      "Chat_slide36-S2-Alexa Fluor 568.tif Chat_slide36-S2-Chat.tif\n",
      "Chat_slide38-S3-CFP.tif Chat_slide38-S3-Ntb.tif\n",
      "Chat_slide40-S2-Alexa Fluor 568.tif Chat_slide40-S2-Chat.tif\n",
      "Chat_slide42-S3-CFP.tif Chat_slide42-S3-Ntb.tif\n",
      "Chat_slide45-S2-Alexa Fluor 568.tif Chat_slide45-S2-Chat.tif\n",
      "Chat_slide47-S3-CFP.tif Chat_slide47-S3-Ntb.tif\n",
      "Chat_slide5-S2-Alexa Fluor 568.tif Chat_slide5-S2-Chat.tif\n",
      "Chat_slide53-S3-CFP.tif Chat_slide53-S3-Ntb.tif\n",
      "Chat_slide56-S2-Alexa Fluor 568.tif Chat_slide56-S2-Chat.tif\n",
      "Chat_slide6-S1-Alexa Fluor 568.tif Chat_slide6-S1-Chat.tif\n",
      "Chat_slide7-S3-Alexa Fluor 568.tif Chat_slide7-S3-Chat.tif\n",
      "Chat_slide14-S1-Alexa Fluor 568.tif Chat_slide14-S1-Chat.tif\n",
      "Chat_slide14-S1-CFP.tif Chat_slide14-S1-Ntb.tif\n",
      "Chat_slide14-S2-Alexa Fluor 568.tif Chat_slide14-S2-Chat.tif\n",
      "Chat_slide14-S2-CFP.tif Chat_slide14-S2-Ntb.tif\n",
      "Chat_slide14-S3-Alexa Fluor 568.tif Chat_slide14-S3-Chat.tif\n",
      "Chat_slide14-S3-CFP.tif Chat_slide14-S3-Ntb.tif\n",
      "Chat_slide15-S1-Alexa Fluor 568.tif Chat_slide15-S1-Chat.tif\n",
      "Chat_slide15-S1-CFP.tif Chat_slide15-S1-Ntb.tif\n",
      "Chat_slide15-S2-Alexa Fluor 568.tif Chat_slide15-S2-Chat.tif\n",
      "Chat_slide15-S2-CFP.tif Chat_slide15-S2-Ntb.tif\n",
      "Chat_slide15-S3-Alexa Fluor 568.tif Chat_slide15-S3-Chat.tif\n",
      "Chat_slide15-S3-CFP.tif Chat_slide15-S3-Ntb.tif\n",
      "Chat_slide16-S1-Alexa Fluor 568.tif Chat_slide16-S1-Chat.tif\n",
      "Chat_slide16-S1-CFP.tif Chat_slide16-S1-Ntb.tif\n",
      "Chat_slide16-S2-CFP.tif Chat_slide16-S2-Ntb.tif\n",
      "Chat_slide16-S3-Alexa Fluor 568.tif Chat_slide16-S3-Chat.tif\n",
      "Chat_slide16-S3-CFP.tif Chat_slide16-S3-Ntb.tif\n",
      "Chat_slide17-S1-Alexa Fluor 568.tif Chat_slide17-S1-Chat.tif\n",
      "Chat_slide17-S1-CFP.tif Chat_slide17-S1-Ntb.tif\n",
      "Chat_slide17-S2-Alexa Fluor 568.tif Chat_slide17-S2-Chat.tif\n",
      "Chat_slide17-S2-CFP.tif Chat_slide17-S2-Ntb.tif\n",
      "Chat_slide17-S3-Alexa Fluor 568.tif Chat_slide17-S3-Chat.tif\n",
      "Chat_slide17-S3-CFP.tif Chat_slide17-S3-Ntb.tif\n",
      "Chat_slide18-S1-Alexa Fluor 568.tif Chat_slide18-S1-Chat.tif\n",
      "Chat_slide18-S1-CFP.tif Chat_slide18-S1-Ntb.tif\n",
      "Chat_slide18-S2-Alexa Fluor 568.tif Chat_slide18-S2-Chat.tif\n",
      "Chat_slide18-S2-CFP.tif Chat_slide18-S2-Ntb.tif\n",
      "Chat_slide18-S3-Alexa Fluor 568.tif Chat_slide18-S3-Chat.tif\n",
      "Chat_slide18-S3-CFP.tif Chat_slide18-S3-Ntb.tif\n",
      "Chat_slide19-S1-Alexa Fluor 568.tif Chat_slide19-S1-Chat.tif\n",
      "Chat_slide19-S1-CFP.tif Chat_slide19-S1-Ntb.tif\n",
      "Chat_slide19-S2-Alexa Fluor 568.tif Chat_slide19-S2-Chat.tif\n",
      "Chat_slide19-S2-CFP.tif Chat_slide19-S2-Ntb.tif\n",
      "Chat_slide19-S3-Alexa Fluor 568.tif Chat_slide19-S3-Chat.tif\n",
      "Chat_slide19-S3-CFP.tif Chat_slide19-S3-Ntb.tif\n",
      "Chat_slide2-S1-Alexa Fluor 568.tif Chat_slide2-S1-Chat.tif\n",
      "Chat_slide2-S1-CFP.tif Chat_slide2-S1-Ntb.tif\n",
      "Chat_slide2-S2-Alexa Fluor 568.tif Chat_slide2-S2-Chat.tif\n",
      "Chat_slide22-S1-CFP.tif Chat_slide22-S1-Ntb.tif\n",
      "Chat_slide22-S2-Alexa Fluor 568.tif Chat_slide22-S2-Chat.tif\n",
      "Chat_slide22-S2-CFP.tif Chat_slide22-S2-Ntb.tif\n",
      "Chat_slide22-S3-Alexa Fluor 568.tif Chat_slide22-S3-Chat.tif\n",
      "Chat_slide22-S3-CFP.tif Chat_slide22-S3-Ntb.tif\n",
      "Chat_slide23-S1-Alexa Fluor 568.tif Chat_slide23-S1-Chat.tif\n",
      "Chat_slide23-S1-CFP.tif Chat_slide23-S1-Ntb.tif\n",
      "Chat_slide23-S2-Alexa Fluor 568.tif Chat_slide23-S2-Chat.tif\n",
      "Chat_slide23-S2-CFP.tif Chat_slide23-S2-Ntb.tif\n",
      "Chat_slide23-S3-Alexa Fluor 568.tif Chat_slide23-S3-Chat.tif\n",
      "Chat_slide23-S3-CFP.tif Chat_slide23-S3-Ntb.tif\n",
      "Chat_slide24-S1-Alexa Fluor 568.tif Chat_slide24-S1-Chat.tif\n",
      "Chat_slide24-S1-CFP.tif Chat_slide24-S1-Ntb.tif\n",
      "Chat_slide24-S2-Alexa Fluor 568.tif Chat_slide24-S2-Chat.tif\n",
      "Chat_slide24-S3-Alexa Fluor 568.tif Chat_slide24-S3-Chat.tif\n",
      "Chat_slide24-S3-CFP.tif Chat_slide24-S3-Ntb.tif\n",
      "Chat_slide25-S1-Alexa Fluor 568.tif Chat_slide25-S1-Chat.tif\n",
      "Chat_slide25-S1-CFP.tif Chat_slide25-S1-Ntb.tif\n",
      "Chat_slide25-S2-Alexa Fluor 568.tif Chat_slide25-S2-Chat.tif\n",
      "Chat_slide25-S2-CFP.tif Chat_slide25-S2-Ntb.tif\n",
      "Chat_slide25-S3-Alexa Fluor 568.tif Chat_slide25-S3-Chat.tif\n",
      "Chat_slide25-S3-CFP.tif Chat_slide25-S3-Ntb.tif\n",
      "Chat_slide26-S1-Alexa Fluor 568.tif Chat_slide26-S1-Chat.tif\n",
      "Chat_slide26-S1-CFP.tif Chat_slide26-S1-Ntb.tif\n",
      "Chat_slide26-S2-Alexa Fluor 568.tif Chat_slide26-S2-Chat.tif\n",
      "Chat_slide26-S2-CFP.tif Chat_slide26-S2-Ntb.tif\n",
      "Chat_slide26-S3-Alexa Fluor 568.tif Chat_slide26-S3-Chat.tif\n",
      "Chat_slide26-S3-CFP.tif Chat_slide26-S3-Ntb.tif\n",
      "Chat_slide27-S1-CFP.tif Chat_slide27-S1-Ntb.tif\n",
      "Chat_slide27-S2-Alexa Fluor 568.tif Chat_slide27-S2-Chat.tif\n",
      "Chat_slide27-S2-CFP.tif Chat_slide27-S2-Ntb.tif\n",
      "Chat_slide27-S3-Alexa Fluor 568.tif Chat_slide27-S3-Chat.tif\n",
      "Chat_slide27-S3-CFP.tif Chat_slide27-S3-Ntb.tif\n",
      "Chat_slide28-S1-Alexa Fluor 568.tif Chat_slide28-S1-Chat.tif\n",
      "Chat_slide28-S1-CFP.tif Chat_slide28-S1-Ntb.tif\n",
      "Chat_slide28-S2-Alexa Fluor 568.tif Chat_slide28-S2-Chat.tif\n",
      "Chat_slide28-S2-CFP.tif Chat_slide28-S2-Ntb.tif\n",
      "Chat_slide28-S3-Alexa Fluor 568.tif Chat_slide28-S3-Chat.tif\n",
      "Chat_slide29-S1-Alexa Fluor 568.tif Chat_slide29-S1-Chat.tif\n",
      "Chat_slide29-S1-CFP.tif Chat_slide29-S1-Ntb.tif\n",
      "Chat_slide29-S2-Alexa Fluor 568.tif Chat_slide29-S2-Chat.tif\n",
      "Chat_slide29-S2-CFP.tif Chat_slide29-S2-Ntb.tif\n",
      "Chat_slide29-S3-Alexa Fluor 568.tif Chat_slide29-S3-Chat.tif\n",
      "Chat_slide29-S3-CFP.tif Chat_slide29-S3-Ntb.tif\n",
      "Chat_slide3-S1-Alexa Fluor 568.tif Chat_slide3-S1-Chat.tif\n",
      "Chat_slide3-S1-CFP.tif Chat_slide3-S1-Ntb.tif\n",
      "Chat_slide3-S2-Alexa Fluor 568.tif Chat_slide3-S2-Chat.tif\n",
      "Chat_slide3-S2-CFP.tif Chat_slide3-S2-Ntb.tif\n",
      "Chat_slide3-S3-Alexa Fluor 568.tif Chat_slide3-S3-Chat.tif\n",
      "Chat_slide3-S3-CFP.tif Chat_slide3-S3-Ntb.tif\n",
      "Chat_slide30-S1-Alexa Fluor 568.tif Chat_slide30-S1-Chat.tif\n",
      "Chat_slide30-S1-CFP.tif Chat_slide30-S1-Ntb.tif\n",
      "Chat_slide30-S2-Alexa Fluor 568.tif Chat_slide30-S2-Chat.tif\n",
      "Chat_slide30-S2-CFP.tif Chat_slide30-S2-Ntb.tif\n",
      "Chat_slide30-S3-Alexa Fluor 568.tif Chat_slide30-S3-Chat.tif\n",
      "Chat_slide30-S3-CFP.tif Chat_slide30-S3-Ntb.tif\n",
      "Chat_slide31-S1-Alexa Fluor 568.tif Chat_slide31-S1-Chat.tif\n",
      "Chat_slide31-S1-CFP.tif Chat_slide31-S1-Ntb.tif\n",
      "Chat_slide31-S2-CFP.tif Chat_slide31-S2-Ntb.tif\n",
      "Chat_slide31-S3-Alexa Fluor 568.tif Chat_slide31-S3-Chat.tif\n",
      "Chat_slide31-S3-CFP.tif Chat_slide31-S3-Ntb.tif\n",
      "Chat_slide32-S1-Alexa Fluor 568.tif Chat_slide32-S1-Chat.tif\n",
      "Chat_slide32-S1-CFP.tif Chat_slide32-S1-Ntb.tif\n",
      "Chat_slide32-S2-Alexa Fluor 568.tif Chat_slide32-S2-Chat.tif\n",
      "Chat_slide32-S2-CFP.tif Chat_slide32-S2-Ntb.tif\n",
      "Chat_slide32-S3-Alexa Fluor 568.tif Chat_slide32-S3-Chat.tif\n",
      "Chat_slide32-S3-CFP.tif Chat_slide32-S3-Ntb.tif\n",
      "Chat_slide33-S1-Alexa Fluor 568.tif Chat_slide33-S1-Chat.tif\n",
      "Chat_slide33-S1-CFP.tif Chat_slide33-S1-Ntb.tif\n",
      "Chat_slide33-S2-Alexa Fluor 568.tif Chat_slide33-S2-Chat.tif\n",
      "Chat_slide33-S2-CFP.tif Chat_slide33-S2-Ntb.tif\n",
      "Chat_slide33-S3-Alexa Fluor 568.tif Chat_slide33-S3-Chat.tif\n",
      "Chat_slide34-S1-Alexa Fluor 568.tif Chat_slide34-S1-Chat.tif\n",
      "Chat_slide34-S1-CFP.tif Chat_slide34-S1-Ntb.tif\n",
      "Chat_slide34-S2-Alexa Fluor 568.tif Chat_slide34-S2-Chat.tif\n",
      "Chat_slide34-S2-CFP.tif Chat_slide34-S2-Ntb.tif\n",
      "Chat_slide34-S3-Alexa Fluor 568.tif Chat_slide34-S3-Chat.tif\n",
      "Chat_slide34-S3-CFP.tif Chat_slide34-S3-Ntb.tif\n",
      "Chat_slide35-S1-Alexa Fluor 568.tif Chat_slide35-S1-Chat.tif\n",
      "Chat_slide35-S1-CFP.tif Chat_slide35-S1-Ntb.tif\n",
      "Chat_slide35-S2-Alexa Fluor 568.tif Chat_slide35-S2-Chat.tif\n",
      "Chat_slide35-S2-CFP.tif Chat_slide35-S2-Ntb.tif\n",
      "Chat_slide35-S3-Alexa Fluor 568.tif Chat_slide35-S3-Chat.tif\n",
      "Chat_slide35-S3-CFP.tif Chat_slide35-S3-Ntb.tif\n",
      "Chat_slide36-S1-Alexa Fluor 568.tif Chat_slide36-S1-Chat.tif\n",
      "Chat_slide36-S1-CFP.tif Chat_slide36-S1-Ntb.tif\n",
      "Chat_slide36-S2-CFP.tif Chat_slide36-S2-Ntb.tif\n",
      "Chat_slide36-S3-Alexa Fluor 568.tif Chat_slide36-S3-Chat.tif\n",
      "Chat_slide36-S3-CFP.tif Chat_slide36-S3-Ntb.tif\n",
      "Chat_slide37-S1-Alexa Fluor 568.tif Chat_slide37-S1-Chat.tif\n",
      "Chat_slide37-S1-CFP.tif Chat_slide37-S1-Ntb.tif\n",
      "Chat_slide37-S2-Alexa Fluor 568.tif Chat_slide37-S2-Chat.tif\n",
      "Chat_slide37-S2-CFP.tif Chat_slide37-S2-Ntb.tif\n",
      "Chat_slide37-S3-Alexa Fluor 568.tif Chat_slide37-S3-Chat.tif\n",
      "Chat_slide37-S3-CFP.tif Chat_slide37-S3-Ntb.tif\n",
      "Chat_slide38-S1-Alexa Fluor 568.tif Chat_slide38-S1-Chat.tif\n",
      "Chat_slide38-S1-CFP.tif Chat_slide38-S1-Ntb.tif\n",
      "Chat_slide38-S2-Alexa Fluor 568.tif Chat_slide38-S2-Chat.tif\n",
      "Chat_slide38-S2-CFP.tif Chat_slide38-S2-Ntb.tif\n",
      "Chat_slide38-S3-Alexa Fluor 568.tif Chat_slide38-S3-Chat.tif\n",
      "Chat_slide39-S1-Alexa Fluor 568.tif Chat_slide39-S1-Chat.tif\n",
      "Chat_slide39-S1-CFP.tif Chat_slide39-S1-Ntb.tif\n",
      "Chat_slide39-S2-Alexa Fluor 568.tif Chat_slide39-S2-Chat.tif\n",
      "Chat_slide39-S2-CFP.tif Chat_slide39-S2-Ntb.tif\n",
      "Chat_slide39-S3-Alexa Fluor 568.tif Chat_slide39-S3-Chat.tif\n",
      "Chat_slide39-S3-CFP.tif Chat_slide39-S3-Ntb.tif\n",
      "Chat_slide4-S1-Alexa Fluor 568.tif Chat_slide4-S1-Chat.tif\n",
      "Chat_slide4-S1-CFP.tif Chat_slide4-S1-Ntb.tif\n",
      "Chat_slide4-S2-Alexa Fluor 568.tif Chat_slide4-S2-Chat.tif\n",
      "Chat_slide4-S2-CFP.tif Chat_slide4-S2-Ntb.tif\n",
      "Chat_slide4-S3-Alexa Fluor 568.tif Chat_slide4-S3-Chat.tif\n",
      "Chat_slide4-S3-CFP.tif Chat_slide4-S3-Ntb.tif\n",
      "Chat_slide40-S1-Alexa Fluor 568.tif Chat_slide40-S1-Chat.tif\n",
      "Chat_slide40-S1-CFP.tif Chat_slide40-S1-Ntb.tif\n",
      "Chat_slide40-S2-CFP.tif Chat_slide40-S2-Ntb.tif\n",
      "Chat_slide40-S3-Alexa Fluor 568.tif Chat_slide40-S3-Chat.tif\n",
      "Chat_slide40-S3-CFP.tif Chat_slide40-S3-Ntb.tif\n",
      "Chat_slide41-S1-Alexa Fluor 568.tif Chat_slide41-S1-Chat.tif\n",
      "Chat_slide41-S1-CFP.tif Chat_slide41-S1-Ntb.tif\n",
      "Chat_slide41-S2-Alexa Fluor 568.tif Chat_slide41-S2-Chat.tif\n",
      "Chat_slide41-S2-CFP.tif Chat_slide41-S2-Ntb.tif\n",
      "Chat_slide41-S3-Alexa Fluor 568.tif Chat_slide41-S3-Chat.tif\n",
      "Chat_slide41-S3-CFP.tif Chat_slide41-S3-Ntb.tif\n",
      "Chat_slide42-S1-Alexa Fluor 568.tif Chat_slide42-S1-Chat.tif\n",
      "Chat_slide42-S1-CFP.tif Chat_slide42-S1-Ntb.tif\n",
      "Chat_slide42-S2-Alexa Fluor 568.tif Chat_slide42-S2-Chat.tif\n",
      "Chat_slide42-S2-CFP.tif Chat_slide42-S2-Ntb.tif\n",
      "Chat_slide42-S3-Alexa Fluor 568.tif Chat_slide42-S3-Chat.tif\n",
      "Chat_slide43-S1-Alexa Fluor 568.tif Chat_slide43-S1-Chat.tif\n",
      "Chat_slide43-S1-CFP.tif Chat_slide43-S1-Ntb.tif\n",
      "Chat_slide43-S2-Alexa Fluor 568.tif Chat_slide43-S2-Chat.tif\n",
      "Chat_slide43-S2-CFP.tif Chat_slide43-S2-Ntb.tif\n",
      "Chat_slide43-S3-Alexa Fluor 568.tif Chat_slide43-S3-Chat.tif\n",
      "Chat_slide43-S3-CFP.tif Chat_slide43-S3-Ntb.tif\n",
      "Chat_slide44-S1-Alexa Fluor 568.tif Chat_slide44-S1-Chat.tif\n",
      "Chat_slide44-S1-CFP.tif Chat_slide44-S1-Ntb.tif\n",
      "Chat_slide44-S2-Alexa Fluor 568.tif Chat_slide44-S2-Chat.tif\n",
      "Chat_slide44-S2-CFP.tif Chat_slide44-S2-Ntb.tif\n",
      "Chat_slide44-S3-Alexa Fluor 568.tif Chat_slide44-S3-Chat.tif\n",
      "Chat_slide44-S3-CFP.tif Chat_slide44-S3-Ntb.tif\n",
      "Chat_slide45-S1-Alexa Fluor 568.tif Chat_slide45-S1-Chat.tif\n",
      "Chat_slide45-S1-CFP.tif Chat_slide45-S1-Ntb.tif\n",
      "Chat_slide45-S2-CFP.tif Chat_slide45-S2-Ntb.tif\n",
      "Chat_slide45-S3-Alexa Fluor 568.tif Chat_slide45-S3-Chat.tif\n",
      "Chat_slide45-S3-CFP.tif Chat_slide45-S3-Ntb.tif\n",
      "Chat_slide46-S1-Alexa Fluor 568.tif Chat_slide46-S1-Chat.tif\n",
      "Chat_slide46-S1-CFP.tif Chat_slide46-S1-Ntb.tif\n",
      "Chat_slide46-S2-Alexa Fluor 568.tif Chat_slide46-S2-Chat.tif\n",
      "Chat_slide46-S2-CFP.tif Chat_slide46-S2-Ntb.tif\n",
      "Chat_slide46-S3-Alexa Fluor 568.tif Chat_slide46-S3-Chat.tif\n",
      "Chat_slide46-S3-CFP.tif Chat_slide46-S3-Ntb.tif\n",
      "Chat_slide47-S1-Alexa Fluor 568.tif Chat_slide47-S1-Chat.tif\n",
      "Chat_slide47-S1-CFP.tif Chat_slide47-S1-Ntb.tif\n",
      "Chat_slide47-S2-Alexa Fluor 568.tif Chat_slide47-S2-Chat.tif\n",
      "Chat_slide47-S2-CFP.tif Chat_slide47-S2-Ntb.tif\n",
      "Chat_slide47-S3-Alexa Fluor 568.tif Chat_slide47-S3-Chat.tif\n",
      "Chat_slide5-S2-CFP.tif Chat_slide5-S2-Ntb.tif\n",
      "Chat_slide5-S3-Alexa Fluor 568.tif Chat_slide5-S3-Chat.tif\n",
      "Chat_slide5-S3-CFP.tif Chat_slide5-S3-Ntb.tif\n",
      "Chat_slide50-S1-Alexa Fluor 568.tif Chat_slide50-S1-Chat.tif\n",
      "Chat_slide50-S1-CFP.tif Chat_slide50-S1-Ntb.tif\n",
      "Chat_slide50-S2-Alexa Fluor 568.tif Chat_slide50-S2-Chat.tif\n",
      "Chat_slide50-S2-CFP.tif Chat_slide50-S2-Ntb.tif\n",
      "Chat_slide50-S3-Alexa Fluor 568.tif Chat_slide50-S3-Chat.tif\n",
      "Chat_slide50-S3-CFP.tif Chat_slide50-S3-Ntb.tif\n",
      "Chat_slide51-S1-Alexa Fluor 568.tif Chat_slide51-S1-Chat.tif\n",
      "Chat_slide51-S1-CFP.tif Chat_slide51-S1-Ntb.tif\n",
      "Chat_slide51-S2-Alexa Fluor 568.tif Chat_slide51-S2-Chat.tif\n",
      "Chat_slide51-S2-CFP.tif Chat_slide51-S2-Ntb.tif\n",
      "Chat_slide51-S3-Alexa Fluor 568.tif Chat_slide51-S3-Chat.tif\n",
      "Chat_slide51-S3-CFP.tif Chat_slide51-S3-Ntb.tif\n",
      "Chat_slide52-S1-Alexa Fluor 568.tif Chat_slide52-S1-Chat.tif\n",
      "Chat_slide52-S1-CFP.tif Chat_slide52-S1-Ntb.tif\n",
      "Chat_slide52-S2-Alexa Fluor 568.tif Chat_slide52-S2-Chat.tif\n",
      "Chat_slide52-S2-CFP.tif Chat_slide52-S2-Ntb.tif\n",
      "Chat_slide52-S3-Alexa Fluor 568.tif Chat_slide52-S3-Chat.tif\n",
      "Chat_slide52-S3-CFP.tif Chat_slide52-S3-Ntb.tif\n",
      "Chat_slide53-S1-Alexa Fluor 568.tif Chat_slide53-S1-Chat.tif\n",
      "Chat_slide53-S1-CFP.tif Chat_slide53-S1-Ntb.tif\n",
      "Chat_slide53-S2-Alexa Fluor 568.tif Chat_slide53-S2-Chat.tif\n",
      "Chat_slide53-S2-CFP.tif Chat_slide53-S2-Ntb.tif\n",
      "Chat_slide53-S3-Alexa Fluor 568.tif Chat_slide53-S3-Chat.tif\n",
      "Chat_slide48-S1-Alexa Fluor 568.tif Chat_slide48-S1-Chat.tif\n",
      "Chat_slide48-S1-CFP.tif Chat_slide48-S1-Ntb.tif\n",
      "Chat_slide48-S2-Alexa Fluor 568.tif Chat_slide48-S2-Chat.tif\n",
      "Chat_slide48-S2-CFP.tif Chat_slide48-S2-Ntb.tif\n",
      "Chat_slide48-S3-Alexa Fluor 568.tif Chat_slide48-S3-Chat.tif\n",
      "Chat_slide48-S3-CFP.tif Chat_slide48-S3-Ntb.tif\n",
      "Chat_slide49-S1-Alexa Fluor 568.tif Chat_slide49-S1-Chat.tif\n",
      "Chat_slide49-S1-CFP.tif Chat_slide49-S1-Ntb.tif\n",
      "Chat_slide49-S2-Alexa Fluor 568.tif Chat_slide49-S2-Chat.tif\n",
      "Chat_slide49-S2-CFP.tif Chat_slide49-S2-Ntb.tif\n",
      "Chat_slide49-S3-Alexa Fluor 568.tif Chat_slide49-S3-Chat.tif\n",
      "Chat_slide49-S3-CFP.tif Chat_slide49-S3-Ntb.tif\n",
      "Chat_slide5-S1-Alexa Fluor 568.tif Chat_slide5-S1-Chat.tif\n",
      "Chat_slide5-S1-CFP.tif Chat_slide5-S1-Ntb.tif\n",
      "Chat_slide54-S1-Alexa Fluor 568.tif Chat_slide54-S1-Chat.tif\n",
      "Chat_slide54-S1-CFP.tif Chat_slide54-S1-Ntb.tif\n",
      "Chat_slide54-S2-Alexa Fluor 568.tif Chat_slide54-S2-Chat.tif\n",
      "Chat_slide54-S2-CFP.tif Chat_slide54-S2-Ntb.tif\n",
      "Chat_slide54-S3-Alexa Fluor 568.tif Chat_slide54-S3-Chat.tif\n",
      "Chat_slide54-S3-CFP.tif Chat_slide54-S3-Ntb.tif\n",
      "Chat_slide55-S1-Alexa Fluor 568.tif Chat_slide55-S1-Chat.tif\n",
      "Chat_slide55-S1-CFP.tif Chat_slide55-S1-Ntb.tif\n",
      "Chat_slide55-S2-Alexa Fluor 568.tif Chat_slide55-S2-Chat.tif\n",
      "Chat_slide55-S2-CFP.tif Chat_slide55-S2-Ntb.tif\n",
      "Chat_slide55-S3-Alexa Fluor 568.tif Chat_slide55-S3-Chat.tif\n",
      "Chat_slide55-S3-CFP.tif Chat_slide55-S3-Ntb.tif\n",
      "Chat_slide56-S1-Alexa Fluor 568.tif Chat_slide56-S1-Chat.tif\n",
      "Chat_slide56-S1-CFP.tif Chat_slide56-S1-Ntb.tif\n",
      "Chat_slide56-S2-CFP.tif Chat_slide56-S2-Ntb.tif\n",
      "Chat_slide56-S3-Alexa Fluor 568.tif Chat_slide56-S3-Chat.tif\n",
      "Chat_slide56-S3-CFP.tif Chat_slide56-S3-Ntb.tif\n",
      "Chat_slide57-S1-Alexa Fluor 568.tif Chat_slide57-S1-Chat.tif\n",
      "Chat_slide57-S1-CFP.tif Chat_slide57-S1-Ntb.tif\n",
      "Chat_slide57-S2-Alexa Fluor 568.tif Chat_slide57-S2-Chat.tif\n",
      "Chat_slide57-S2-CFP.tif Chat_slide57-S2-Ntb.tif\n"
     ]
    },
    {
     "name": "stdout",
     "output_type": "stream",
     "text": [
      "Chat_slide57-S3-Alexa Fluor 568.tif Chat_slide57-S3-Chat.tif\n",
      "Chat_slide57-S3-CFP.tif Chat_slide57-S3-Ntb.tif\n",
      "Chat_slide58-S1-Alexa Fluor 568.tif Chat_slide58-S1-Chat.tif\n",
      "Chat_slide58-S1-CFP.tif Chat_slide58-S1-Ntb.tif\n",
      "Chat_slide58-S2-Alexa Fluor 568.tif Chat_slide58-S2-Chat.tif\n",
      "Chat_slide58-S2-CFP.tif Chat_slide58-S2-Ntb.tif\n",
      "Chat_slide59-S1-Alexa Fluor 568.tif Chat_slide59-S1-Chat.tif\n",
      "Chat_slide59-S1-CFP.tif Chat_slide59-S1-Ntb.tif\n",
      "Chat_slide59-S2-Alexa Fluor 568.tif Chat_slide59-S2-Chat.tif\n",
      "Chat_slide59-S2-CFP.tif Chat_slide59-S2-Ntb.tif\n",
      "Chat_slide59-S3-Alexa Fluor 568.tif Chat_slide59-S3-Chat.tif\n",
      "Chat_slide59-S3-CFP.tif Chat_slide59-S3-Ntb.tif\n",
      "Chat_slide7-S3-CFP.tif Chat_slide7-S3-Ntb.tif\n",
      "Chat_slide8-S1-Alexa Fluor 568.tif Chat_slide8-S1-Chat.tif\n",
      "Chat_slide8-S1-CFP.tif Chat_slide8-S1-Ntb.tif\n",
      "Chat_slide8-S2-Alexa Fluor 568.tif Chat_slide8-S2-Chat.tif\n",
      "Chat_slide8-S2-CFP.tif Chat_slide8-S2-Ntb.tif\n",
      "Chat_slide8-S3-Alexa Fluor 568.tif Chat_slide8-S3-Chat.tif\n",
      "Chat_slide8-S3-CFP.tif Chat_slide8-S3-Ntb.tif\n",
      "Chat_slide9-S1-Alexa Fluor 568.tif Chat_slide9-S1-Chat.tif\n",
      "Chat_slide9-S1-CFP.tif Chat_slide9-S1-Ntb.tif\n",
      "Chat_slide9-S2-Alexa Fluor 568.tif Chat_slide9-S2-Chat.tif\n",
      "Chat_slide9-S2-CFP.tif Chat_slide9-S2-Ntb.tif\n",
      "Chat_slide9-S3-Alexa Fluor 568.tif Chat_slide9-S3-Chat.tif\n",
      "Chat_slide9-S3-CFP.tif Chat_slide9-S3-Ntb.tif\n"
     ]
    }
   ],
   "source": [
    "for fn in os.listdir(raw_dir):\n",
    "    if 'CFP' in fn:\n",
    "        new_fn = fn.replace('CFP', 'Ntb')\n",
    "    else:\n",
    "        new_fn = fn.replace('Alexa Fluor 568', 'Chat')\n",
    "    print fn, new_fn\n",
    "    os.rename(os.path.join(raw_dir, fn), os.path.join(raw_dir, new_fn))"
   ]
  },
  {
   "cell_type": "markdown",
   "metadata": {},
   "source": [
    "# Generate thumbnails - imagemagick"
   ]
  },
  {
   "cell_type": "code",
   "execution_count": 13,
   "metadata": {
    "collapsed": true
   },
   "outputs": [],
   "source": [
    "stack = 'CHATM2'"
   ]
  },
  {
   "cell_type": "code",
   "execution_count": 48,
   "metadata": {
    "collapsed": true
   },
   "outputs": [],
   "source": [
    "tb_prep0_dir = DataManager.get_image_dir_v2(stack=stack, prep_id=None, version='Ntb', resol='thumbnail')"
   ]
  },
  {
   "cell_type": "code",
   "execution_count": 49,
   "metadata": {},
   "outputs": [
    {
     "data": {
      "text/plain": [
       "'/media/yuncong/BstemAtlasData/CSHL_data_processed/CHATM2/CHATM2_thumbnail_Ntb'"
      ]
     },
     "execution_count": 49,
     "metadata": {},
     "output_type": "execute_result"
    }
   ],
   "source": [
    "create_if_not_exists(tb_prep0_dir)"
   ]
  },
  {
   "cell_type": "code",
   "execution_count": 182,
   "metadata": {},
   "outputs": [],
   "source": [
    "filenames_to_sections, sections_to_filenames = DataManager.load_sorted_filenames(stack)"
   ]
  },
  {
   "cell_type": "code",
   "execution_count": 142,
   "metadata": {},
   "outputs": [],
   "source": [
    "! rm -rf /media/yuncong/BstemAtlasData/CSHL_data_processed/CHATM2/CHATM2_lossless_Ntb\n",
    "! ln -s /media/yuncong/Seagate\\ Backup\\ Plus\\ Drive/CHATM2/CHATM2_raw_Ntb /media/yuncong/BstemAtlasData/CSHL_data_processed/CHATM2/CHATM2_lossless_Ntb"
   ]
  },
  {
   "cell_type": "code",
   "execution_count": 143,
   "metadata": {
    "collapsed": true
   },
   "outputs": [],
   "source": [
    "! rm -rf /media/yuncong/BstemAtlasData/CSHL_data_processed/CHATM2/CHATM2_lossless_Chat\n",
    "! ln -s /media/yuncong/Seagate\\ Backup\\ Plus\\ Drive/CHATM2/CHATM2_raw_CHAT /media/yuncong/BstemAtlasData/CSHL_data_processed/CHATM2/CHATM2_lossless_Chat"
   ]
  },
  {
   "cell_type": "code",
   "execution_count": null,
   "metadata": {
    "collapsed": true
   },
   "outputs": [],
   "source": []
  },
  {
   "cell_type": "code",
   "execution_count": 163,
   "metadata": {},
   "outputs": [],
   "source": [
    "fns_not_yet_converted = set(filenames_to_sections.keys()) - \\\n",
    "set([fp[:-18] for fp in os.listdir('/media/yuncong/BstemAtlasData/CSHL_data_processed/CHATM2/CHATM2_thumbnail_Ntb')])"
   ]
  },
  {
   "cell_type": "code",
   "execution_count": null,
   "metadata": {
    "collapsed": true
   },
   "outputs": [],
   "source": [
    "# Copy to local disk, then use imagemagick, 32s / section\n",
    "# Directly use external disk, then use imagemagick 40s / section\n",
    "# Directly use external disk, then use gimp 80s / section"
   ]
  },
  {
   "cell_type": "code",
   "execution_count": 187,
   "metadata": {
    "scrolled": true
   },
   "outputs": [
    {
     "name": "stdout",
     "output_type": "stream",
     "text": [
      "Setting environment for Precision WorkStation\n",
      "/media/yuncong/BstemAtlasData/CSHL_data_processed/MD585/MD585_prep2_thumbnail/MD585-N16-2015.07.16-20.32.33_MD585_2_0047_prep2_thumbnail.tif\n",
      "/media/yuncong/BstemAtlasData/CSHL_data_processed/MD589/MD589_prep2_thumbnail/MD589-N16-2015.07.30-17.03.43_MD589_3_0048_prep2_thumbnail.tif\n",
      "/media/yuncong/BstemAtlasData/CSHL_data_processed/MD590/MD590_prep2_thumbnail/MD590-IHC17-2015.08.10-19.09.09_MD590_2_0050_prep2_thumbnail.tif\n",
      "/media/yuncong/BstemAtlasData/CSHL_data_processed/MD591/MD591_prep2_thumbnail/MD591-IHC17-2015.08.28-04.23.47_MD591_1_0049_prep2_thumbnail.tif\n",
      "/media/yuncong/BstemAtlasData/CSHL_data_processed/MD592/MD592_prep2_thumbnail/MD592-N16-2015.08.22-00.50.39_MD592_2_0047_prep2_thumbnail.tif\n",
      "/media/yuncong/BstemAtlasData/CSHL_data_processed/MD593/MD593_prep2_thumbnail/MD593-N15-2015.08.21-16.53.02_MD593_3_0045_prep2_thumbnail.tif\n",
      "/media/yuncong/BstemAtlasData/CSHL_data_processed/MD594/MD594_prep2_thumbnail/MD594-IHC16-2015.08.26-16.11.01_MD594_1_0046_prep2_thumbnail.tif\n",
      "/media/yuncong/BstemAtlasData/CSHL_data_processed/MD595/MD595_prep2_thumbnail/MD595-IHC12-2015.09.15-01.21.39_MD595_2_0035_prep2_thumbnail.tif\n",
      "/media/yuncong/BstemAtlasData/CSHL_data_processed/MD598/MD598_prep2_thumbnail/MD598-N18-2015.09.29-17.40.03_MD598_3_0054_prep2_thumbnail.tif\n",
      "/media/yuncong/BstemAtlasData/CSHL_data_processed/MD599/MD599_prep2_thumbnail/MD599-N19-2015.10.02-18.12.13_MD599_3_0057_prep2_thumbnail.tif\n",
      "/media/yuncong/BstemAtlasData/CSHL_data_processed/MD602/MD602_prep2_thumbnail/MD602-N19-2015.12.01-16.24.09_MD602_2_0056_prep2_thumbnail.tif\n"
     ]
    },
    {
     "name": "stderr",
     "output_type": "stream",
     "text": [
      "No vtk\n",
      "No vtkNot using image_cache.\n",
      "Not using image_cache.\n",
      "Not using image_cache.\n",
      "Not using image_cache.\n",
      "Not using image_cache.\n",
      "Not using image_cache.\n",
      "Not using image_cache.\n",
      "Not using image_cache.\n",
      "Not using image_cache.\n",
      "Not using image_cache.\n",
      "Not using image_cache.\n",
      "Not using image_cache.\n",
      "Not using image_cache.\n",
      "Not using image_cache.\n"
     ]
    },
    {
     "name": "stdout",
     "output_type": "stream",
     "text": [
      "/media/yuncong/BstemAtlasData/CSHL_data_processed/MD603/MD603_prep2_thumbnail/MD603-N11-2016.03.02-12.51.47_MD603_1_0031_prep2_thumbnail.tif\n",
      "/media/yuncong/BstemAtlasData/CSHL_data_processed/MD635/MD635_prep2_thumbnail/MD635-F25-2016.05.18-21.02.30_MD635_3_0075_prep2_thumbnail.tif\n",
      "/media/yuncong/BstemAtlasData/CSHL_data_processed/MD653/MD653_prep2_thumbnail/MD653-F15-2016.12.20-21.04.12_MD653_1_0043_prep2_thumbnail.tif\n",
      "/media/yuncong/BstemAtlasData/CSHL_data_processed/MD652/MD652_prep2_thumbnail/MD652-F15-2016.12.16-20.45.52_MD652_3_0045_prep2_thumbnail.tif\n",
      "/media/yuncong/BstemAtlasData/CSHL_data_processed/MD642/MD642_prep2_thumbnail/MD642-N14-2017.01.18-16.25.58_MD642_2_0041_prep2_thumbnail.tif\n",
      "/media/yuncong/BstemAtlasData/CSHL_data_processed/MD657/MD657_prep2_thumbnail/MD657-N13-2017.02.22-14.33.34_MD657_3_0039_prep2_thumbnail.tif\n",
      "/media/yuncong/BstemAtlasData/CSHL_data_processed/MD658/MD658_prep2_thumbnail/MD658-N18-2017.03.31-17.34.22_MD658_2_0053_prep2_thumbnail.tif\n",
      "/media/yuncong/BstemAtlasData/CSHL_data_processed/MD661/MD661_prep2_thumbnail/MD662&661-F30-2017.06.05-14.49.48_MD661_1_0088_prep2_thumbnail.tif\n",
      "/media/yuncong/BstemAtlasData/CSHL_data_processed/MD662/MD662_prep2_thumbnail/MD662&661-F35-2017.06.05-17.08.18_MD662_1_0103_prep2_thumbnail.tif\n",
      "rm -rf \"/media/yuncong/BstemAtlasData/CSHL_data_processed/ChatCryoJane201710/ChatCryoJane201710_prep2_thumbnail/ChatCryoJane201710_slide1-S1_prep2_thumbnail.tif\" && mkdir -p \"/media/yuncong/BstemAtlasData/CSHL_data_processed/ChatCryoJane201710/ChatCryoJane201710_prep2_thumbnail\"\n",
      "aws s3 cp \"s3://mousebrainatlas-data/CSHL_data_processed/ChatCryoJane201710/ChatCryoJane201710_prep2_thumbnail/ChatCryoJane201710_slide1-S1_prep2_thumbnail.tif\" \"/media/yuncong/BstemAtlasData/CSHL_data_processed/ChatCryoJane201710/ChatCryoJane201710_prep2_thumbnail/ChatCryoJane201710_slide1-S1_prep2_thumbnail.tif\"\n"
     ]
    },
    {
     "name": "stderr",
     "output_type": "stream",
     "text": [
      "Not using image_cache.\n",
      "Not using image_cache.\n",
      "Not using image_cache.\n",
      "Not using image_cache.\n",
      "Not using image_cache.\n",
      "Not using image_cache.\n",
      "Not using image_cache.\n",
      "Not using image_cache.\n",
      "No vtk\n",
      "No vtkNot using image_cache.\n",
      "Not using image_cache.\n",
      "Not using image_cache.\n",
      "Not using image_cache.\n",
      "Not using image_cache.\n",
      "Not using image_cache.\n",
      "Not using image_cache.\n"
     ]
    },
    {
     "name": "stdout",
     "output_type": "stream",
     "text": [
      "/media/yuncong/BstemAtlasData/CSHL_data_processed/ChatCryoJane201710/ChatCryoJane201710_prep2_thumbnail/ChatCryoJane201710_slide1-S1_prep2_thumbnail.tif\n",
      "/media/yuncong/BstemAtlasData/CSHL_data_processed/ChatCryoJane201710/ChatCryoJane201710_prep2_thumbnail_Ntb/ChatCryoJane201710_slide1-S1_prep2_thumbnail_Ntb.tif\n",
      "Setting environment for Precision WorkStation\n",
      "/media/yuncong/BstemAtlasData/CSHL_data_processed/MD585/MD585_prep2_thumbnail/MD585-N16-2015.07.16-20.32.33_MD585_2_0047_prep2_thumbnail.tif\n",
      "/media/yuncong/BstemAtlasData/CSHL_data_processed/MD589/MD589_prep2_thumbnail/MD589-N16-2015.07.30-17.03.43_MD589_3_0048_prep2_thumbnail.tif\n",
      "/media/yuncong/BstemAtlasData/CSHL_data_processed/MD590/MD590_prep2_thumbnail/MD590-IHC17-2015.08.10-19.09.09_MD590_2_0050_prep2_thumbnail.tif\n",
      "/media/yuncong/BstemAtlasData/CSHL_data_processed/MD591/MD591_prep2_thumbnail/MD591-IHC17-2015.08.28-04.23.47_MD591_1_0049_prep2_thumbnail.tif\n",
      "/media/yuncong/BstemAtlasData/CSHL_data_processed/MD592/MD592_prep2_thumbnail/MD592-N16-2015.08.22-00.50.39_MD592_2_0047_prep2_thumbnail.tif\n",
      "/media/yuncong/BstemAtlasData/CSHL_data_processed/MD593/MD593_prep2_thumbnail/MD593-N15-2015.08.21-16.53.02_MD593_3_0045_prep2_thumbnail.tif\n",
      "/media/yuncong/BstemAtlasData/CSHL_data_processed/MD594/MD594_prep2_thumbnail/MD594-IHC16-2015.08.26-16.11.01_MD594_1_0046_prep2_thumbnail.tif\n"
     ]
    },
    {
     "name": "stderr",
     "output_type": "stream",
     "text": [
      "Not using image_cache.\n",
      "Not using image_cache.\n",
      "Not using image_cache.\n",
      "Not using image_cache.\n",
      "Not using image_cache.\n",
      "Not using image_cache.\n",
      "Not using image_cache.\n",
      "Not using image_cache.\n",
      "Not using image_cache.\n",
      "Not using image_cache.\n",
      "Not using image_cache.\n",
      "Not using image_cache.\n",
      "Not using image_cache.\n"
     ]
    },
    {
     "name": "stdout",
     "output_type": "stream",
     "text": [
      "/media/yuncong/BstemAtlasData/CSHL_data_processed/MD595/MD595_prep2_thumbnail/MD595-IHC12-2015.09.15-01.21.39_MD595_2_0035_prep2_thumbnail.tif\n",
      "/media/yuncong/BstemAtlasData/CSHL_data_processed/MD598/MD598_prep2_thumbnail/MD598-N18-2015.09.29-17.40.03_MD598_3_0054_prep2_thumbnail.tif\n",
      "/media/yuncong/BstemAtlasData/CSHL_data_processed/MD599/MD599_prep2_thumbnail/MD599-N19-2015.10.02-18.12.13_MD599_3_0057_prep2_thumbnail.tif\n",
      "/media/yuncong/BstemAtlasData/CSHL_data_processed/MD602/MD602_prep2_thumbnail/MD602-N19-2015.12.01-16.24.09_MD602_2_0056_prep2_thumbnail.tif\n",
      "/media/yuncong/BstemAtlasData/CSHL_data_processed/MD603/MD603_prep2_thumbnail/MD603-N11-2016.03.02-12.51.47_MD603_1_0031_prep2_thumbnail.tif\n",
      "/media/yuncong/BstemAtlasData/CSHL_data_processed/MD635/MD635_prep2_thumbnail/MD635-F25-2016.05.18-21.02.30_MD635_3_0075_prep2_thumbnail.tif\n",
      "/media/yuncong/BstemAtlasData/CSHL_data_processed/MD653/MD653_prep2_thumbnail/MD653-F15-2016.12.20-21.04.12_MD653_1_0043_prep2_thumbnail.tif\n",
      "/media/yuncong/BstemAtlasData/CSHL_data_processed/MD652/MD652_prep2_thumbnail/MD652-F15-2016.12.16-20.45.52_MD652_3_0045_prep2_thumbnail.tif\n",
      "/media/yuncong/BstemAtlasData/CSHL_data_processed/MD642/MD642_prep2_thumbnail/MD642-N14-2017.01.18-16.25.58_MD642_2_0041_prep2_thumbnail.tif\n",
      "/media/yuncong/BstemAtlasData/CSHL_data_processed/MD657/MD657_prep2_thumbnail/MD657-N13-2017.02.22-14.33.34_MD657_3_0039_prep2_thumbnail.tif\n",
      "/media/yuncong/BstemAtlasData/CSHL_data_processed/MD658/MD658_prep2_thumbnail/MD658-N18-2017.03.31-17.34.22_MD658_2_0053_prep2_thumbnail.tif\n",
      "/media/yuncong/BstemAtlasData/CSHL_data_processed/MD661/MD661_prep2_thumbnail/MD662&661-F30-2017.06.05-14.49.48_MD661_1_0088_prep2_thumbnail.tif\n",
      "/media/yuncong/BstemAtlasData/CSHL_data_processed/MD662/MD662_prep2_thumbnail/MD662&661-F35-2017.06.05-17.08.18_MD662_1_0103_prep2_thumbnail.tif\n",
      "rm -rf \"/media/yuncong/BstemAtlasData/CSHL_data_processed/ChatCryoJane201710/ChatCryoJane201710_prep2_thumbnail/ChatCryoJane201710_slide1-S1_prep2_thumbnail.tif\" && mkdir -p \"/media/yuncong/BstemAtlasData/CSHL_data_processed/ChatCryoJane201710/ChatCryoJane201710_prep2_thumbnail\"\n",
      "aws s3 cp \"s3://mousebrainatlas-data/CSHL_data_processed/ChatCryoJane201710/ChatCryoJane201710_prep2_thumbnail/ChatCryoJane201710_slide1-S1_prep2_thumbnail.tif\" \"/media/yuncong/BstemAtlasData/CSHL_data_processed/ChatCryoJane201710/ChatCryoJane201710_prep2_thumbnail/ChatCryoJane201710_slide1-S1_prep2_thumbnail.tif\"\n"
     ]
    },
    {
     "name": "stderr",
     "output_type": "stream",
     "text": [
      "Not using image_cache.\n",
      "Not using image_cache.\n",
      "No vtk\n",
      "No vtkNot using image_cache.\n",
      "Not using image_cache.\n",
      "Not using image_cache.\n",
      "Not using image_cache.\n",
      "Not using image_cache.\n",
      "Not using image_cache.\n",
      "Not using image_cache.\n",
      "Not using image_cache.\n",
      "Not using image_cache.\n"
     ]
    },
    {
     "name": "stdout",
     "output_type": "stream",
     "text": [
      "/media/yuncong/BstemAtlasData/CSHL_data_processed/ChatCryoJane201710/ChatCryoJane201710_prep2_thumbnail/ChatCryoJane201710_slide1-S1_prep2_thumbnail.tif\n",
      "/media/yuncong/BstemAtlasData/CSHL_data_processed/ChatCryoJane201710/ChatCryoJane201710_prep2_thumbnail_Ntb/ChatCryoJane201710_slide1-S1_prep2_thumbnail_Ntb.tif\n",
      "Setting environment for Precision WorkStation\n",
      "/media/yuncong/BstemAtlasData/CSHL_data_processed/MD585/MD585_prep2_thumbnail/MD585-N16-2015.07.16-20.32.33_MD585_2_0047_prep2_thumbnail.tif\n",
      "/media/yuncong/BstemAtlasData/CSHL_data_processed/MD589/MD589_prep2_thumbnail/MD589-N16-2015.07.30-17.03.43_MD589_3_0048_prep2_thumbnail.tif\n",
      "/media/yuncong/BstemAtlasData/CSHL_data_processed/MD590/MD590_prep2_thumbnail/MD590-IHC17-2015.08.10-19.09.09_MD590_2_0050_prep2_thumbnail.tif\n",
      "/media/yuncong/BstemAtlasData/CSHL_data_processed/MD591/MD591_prep2_thumbnail/MD591-IHC17-2015.08.28-04.23.47_MD591_1_0049_prep2_thumbnail.tif\n",
      "/media/yuncong/BstemAtlasData/CSHL_data_processed/MD592/MD592_prep2_thumbnail/MD592-N16-2015.08.22-00.50.39_MD592_2_0047_prep2_thumbnail.tif\n",
      "/media/yuncong/BstemAtlasData/CSHL_data_processed/MD593/MD593_prep2_thumbnail/MD593-N15-2015.08.21-16.53.02_MD593_3_0045_prep2_thumbnail.tif\n",
      "/media/yuncong/BstemAtlasData/CSHL_data_processed/MD594/MD594_prep2_thumbnail/MD594-IHC16-2015.08.26-16.11.01_MD594_1_0046_prep2_thumbnail.tif\n",
      "/media/yuncong/BstemAtlasData/CSHL_data_processed/MD595/MD595_prep2_thumbnail/MD595-IHC12-2015.09.15-01.21.39_MD595_2_0035_prep2_thumbnail.tif\n"
     ]
    },
    {
     "name": "stderr",
     "output_type": "stream",
     "text": [
      "Not using image_cache.\n",
      "Not using image_cache.\n",
      "Not using image_cache.\n",
      "Not using image_cache.\n",
      "Not using image_cache.\n",
      "Not using image_cache.\n",
      "Not using image_cache.\n",
      "Not using image_cache.\n",
      "Not using image_cache.\n",
      "Not using image_cache.\n",
      "Not using image_cache.\n"
     ]
    },
    {
     "name": "stdout",
     "output_type": "stream",
     "text": [
      "/media/yuncong/BstemAtlasData/CSHL_data_processed/MD598/MD598_prep2_thumbnail/MD598-N18-2015.09.29-17.40.03_MD598_3_0054_prep2_thumbnail.tif\n",
      "/media/yuncong/BstemAtlasData/CSHL_data_processed/MD599/MD599_prep2_thumbnail/MD599-N19-2015.10.02-18.12.13_MD599_3_0057_prep2_thumbnail.tif\n",
      "/media/yuncong/BstemAtlasData/CSHL_data_processed/MD602/MD602_prep2_thumbnail/MD602-N19-2015.12.01-16.24.09_MD602_2_0056_prep2_thumbnail.tif\n",
      "/media/yuncong/BstemAtlasData/CSHL_data_processed/MD603/MD603_prep2_thumbnail/MD603-N11-2016.03.02-12.51.47_MD603_1_0031_prep2_thumbnail.tif\n",
      "/media/yuncong/BstemAtlasData/CSHL_data_processed/MD635/MD635_prep2_thumbnail/MD635-F25-2016.05.18-21.02.30_MD635_3_0075_prep2_thumbnail.tif\n",
      "/media/yuncong/BstemAtlasData/CSHL_data_processed/MD653/MD653_prep2_thumbnail/MD653-F15-2016.12.20-21.04.12_MD653_1_0043_prep2_thumbnail.tif\n",
      "/media/yuncong/BstemAtlasData/CSHL_data_processed/MD652/MD652_prep2_thumbnail/MD652-F15-2016.12.16-20.45.52_MD652_3_0045_prep2_thumbnail.tif\n",
      "/media/yuncong/BstemAtlasData/CSHL_data_processed/MD642/MD642_prep2_thumbnail/MD642-N14-2017.01.18-16.25.58_MD642_2_0041_prep2_thumbnail.tif\n",
      "/media/yuncong/BstemAtlasData/CSHL_data_processed/MD657/MD657_prep2_thumbnail/MD657-N13-2017.02.22-14.33.34_MD657_3_0039_prep2_thumbnail.tif\n",
      "/media/yuncong/BstemAtlasData/CSHL_data_processed/MD658/MD658_prep2_thumbnail/MD658-N18-2017.03.31-17.34.22_MD658_2_0053_prep2_thumbnail.tif\n",
      "/media/yuncong/BstemAtlasData/CSHL_data_processed/MD661/MD661_prep2_thumbnail/MD662&661-F30-2017.06.05-14.49.48_MD661_1_0088_prep2_thumbnail.tif\n",
      "/media/yuncong/BstemAtlasData/CSHL_data_processed/MD662/MD662_prep2_thumbnail/MD662&661-F35-2017.06.05-17.08.18_MD662_1_0103_prep2_thumbnail.tif\n",
      "rm -rf \"/media/yuncong/BstemAtlasData/CSHL_data_processed/ChatCryoJane201710/ChatCryoJane201710_prep2_thumbnail/ChatCryoJane201710_slide1-S1_prep2_thumbnail.tif\" && mkdir -p \"/media/yuncong/BstemAtlasData/CSHL_data_processed/ChatCryoJane201710/ChatCryoJane201710_prep2_thumbnail\"\n",
      "aws s3 cp \"s3://mousebrainatlas-data/CSHL_data_processed/ChatCryoJane201710/ChatCryoJane201710_prep2_thumbnail/ChatCryoJane201710_slide1-S1_prep2_thumbnail.tif\" \"/media/yuncong/BstemAtlasData/CSHL_data_processed/ChatCryoJane201710/ChatCryoJane201710_prep2_thumbnail/ChatCryoJane201710_slide1-S1_prep2_thumbnail.tif\"\n"
     ]
    },
    {
     "name": "stderr",
     "output_type": "stream",
     "text": [
      "Not using image_cache.\n",
      "Not using image_cache.\n"
     ]
    },
    {
     "name": "stdout",
     "output_type": "stream",
     "text": [
      "/media/yuncong/BstemAtlasData/CSHL_data_processed/ChatCryoJane201710/ChatCryoJane201710_prep2_thumbnail/ChatCryoJane201710_slide1-S1_prep2_thumbnail.tif\n",
      "/media/yuncong/BstemAtlasData/CSHL_data_processed/ChatCryoJane201710/ChatCryoJane201710_prep2_thumbnail_Ntb/ChatCryoJane201710_slide1-S1_prep2_thumbnail_Ntb.tif\n",
      "CHATM2_slide48_2018_01_22-S3\n",
      "convert /media/yuncong/BstemAtlasData/CSHL_data_processed/CHATM2/CHATM2_lossless_Ntb/CHATM2_slide48_2018_01_22-S3_lossless_Ntb.tif -scale 3.125% /media/yuncong/BstemAtlasData/CSHL_data_processed/CHATM2/CHATM2_thumbnail_Ntb/CHATM2_slide48_2018_01_22-S3_thumbnail_Ntb.tif\n",
      "91.2266449928\n"
     ]
    }
   ],
   "source": [
    "# for fn in filenames_to_sections.keys():\n",
    "for fn in ['CHATM2_slide48_2018_01_22-S3']:\n",
    "# for fn in fns_not_yet_converted:\n",
    "    \n",
    "    t = time.time()\n",
    "    \n",
    "    print fn\n",
    "    raw_fp = DataManager.get_image_filepath_v2(stack=stack, prep_id=None, version='Ntb', resol='lossless', fn=fn)\n",
    "    tb_fp = DataManager.get_image_filepath_v2(stack=stack, prep_id=None, version='Ntb', resol='thumbnail', fn=fn)\n",
    "    cmd = 'convert %(raw_fp)s -scale 3.125%% %(tb_fp)s' % {'raw_fp': raw_fp, 'tb_fp': tb_fp}\n",
    "    execute_command(cmd)\n",
    "    \n",
    "    print time.time() - t"
   ]
  },
  {
   "cell_type": "code",
   "execution_count": 188,
   "metadata": {},
   "outputs": [
    {
     "name": "stdout",
     "output_type": "stream",
     "text": [
      "/media/yuncong/BstemAtlasData/CSHL_data_processed/CHATM2/CHATM2_thumbnail_Ntb/CHATM2_slide48_2018_01_22-S3_thumbnail_Ntb.tif\n"
     ]
    },
    {
     "name": "stderr",
     "output_type": "stream",
     "text": [
      "Not using image_cache.\n"
     ]
    },
    {
     "data": {
      "image/png": "[encoded data removed]",
      "text/plain": [
       "<matplotlib.figure.Figure at 0x7fdccc239b10>"
      ]
     },
     "metadata": {},
     "output_type": "display_data"
    }
   ],
   "source": [
    "plt.imshow(DataManager.load_image_v2(stack=stack, prep_id=None, version='Ntb', resol='thumbnail', fn=fn));"
   ]
  },
  {
   "cell_type": "code",
   "execution_count": 133,
   "metadata": {
    "collapsed": true
   },
   "outputs": [],
   "source": [
    "# Generate thumbnails - use Gimp\n",
    "\n",
    "# def identify_shape(img_fp):\n",
    "#     return map(int, check_output(\"identify -format %%Wx%%H \\\"%s\\\"\" % img_fp, shell=True).split('x'))\n",
    "\n",
    "# downsample = 32\n",
    "\n",
    "# for fn in filenames_to_sections.keys()[:1]:\n",
    "    \n",
    "#     t = time.time()\n",
    "    \n",
    "#     raw_fp = DataManager.get_image_filepath_v2(stack=stack, prep_id=None, version='Ntb', resol='lossless', fn=fn)\n",
    "#     tb_fp = DataManager.get_image_filepath_v2(stack=stack, prep_id=None, version='Ntb', resol='thumbnail', fn=fn)\n",
    "    \n",
    "#     raw_shape = identify_shape(raw_fp)\n",
    "#     new_width = raw_shape[0] / downsample\n",
    "#     new_height = raw_shape[1] / downsample\n",
    "\n",
    "#     cmd = \"\"\"gimp -i -b '(script-fu-simple-scale \"%(raw_fp)s\" %(new_width)d %(new_height)d \"%(tb_fp)s\")' -b '(gimp-quit 0)'\"\"\" % \\\n",
    "#         {'new_width': new_width, 'new_height':new_height, 'raw_fp':raw_fp, 'tb_fp': tb_fp}\n",
    "#     execute_command(cmd)\n",
    "    \n",
    "#     print time.time() - t"
   ]
  },
  {
   "cell_type": "code",
   "execution_count": 3,
   "metadata": {
    "collapsed": true
   },
   "outputs": [],
   "source": [
    "# Generate thumbnails - use skimage\n",
    "# loading images is very slow.\n",
    "\n",
    "img = imread('/media/yuncong/BstemAtlasData/ChatCryoJane/Chat_slide20-S2-CFP.tif')\n",
    "img_rescaled = rescale(img, scale=0.03125)"
   ]
  },
  {
   "cell_type": "markdown",
   "metadata": {},
   "source": [
    "# Rotate raw"
   ]
  },
  {
   "cell_type": "code",
   "execution_count": 121,
   "metadata": {
    "scrolled": true
   },
   "outputs": [
    {
     "name": "stdout",
     "output_type": "stream",
     "text": [
      "convert \"/media/yuncong/Seagate Backup Plus Drive/CHATM2/CHATM2_raw_CHAT/CHATM2_slide86_2018_02_13-S2_lossless_CHAT.tif\" -flip -rotate 270 \"/media/yuncong/Seagate Backup Plus Drive/CHATM2_rotated/CHATM2_lossless_CHAT/CHATM2_slide86_2018_02_13-S2_lossless_CHAT.tif\" \n",
      "convert \"/media/yuncong/Seagate Backup Plus Drive/CHATM2/CHATM2_raw_CHAT/CHATM2_slide48_2018_01_22-S3_lossless_CHAT.tif\" -flip -rotate 270 \"/media/yuncong/Seagate Backup Plus Drive/CHATM2_rotated/CHATM2_lossless_CHAT/CHATM2_slide48_2018_01_22-S3_lossless_CHAT.tif\" \n",
      "convert \"/media/yuncong/Seagate Backup Plus Drive/CHATM2/CHATM2_raw_CHAT/CHATM2_slide78_2018_02_14-S3_lossless_CHAT.tif\" -flip -rotate 270 \"/media/yuncong/Seagate Backup Plus Drive/CHATM2_rotated/CHATM2_lossless_CHAT/CHATM2_slide78_2018_02_14-S3_lossless_CHAT.tif\" \n",
      "convert \"/media/yuncong/Seagate Backup Plus Drive/CHATM2/CHATM2_raw_CHAT/CHATM2_slide78_2018_02_14-S2_lossless_CHAT.tif\" -flip -rotate 270 \"/media/yuncong/Seagate Backup Plus Drive/CHATM2_rotated/CHATM2_lossless_CHAT/CHATM2_slide78_2018_02_14-S2_lossless_CHAT.tif\" \n",
      "convert \"/media/yuncong/Seagate Backup Plus Drive/CHATM2/CHATM2_raw_CHAT/CHATM2_slide78_2018_02_14-S1_lossless_CHAT.tif\" -flip -rotate 270 \"/media/yuncong/Seagate Backup Plus Drive/CHATM2_rotated/CHATM2_lossless_CHAT/CHATM2_slide78_2018_02_14-S1_lossless_CHAT.tif\" \n",
      "convert \"/media/yuncong/Seagate Backup Plus Drive/CHATM2/CHATM2_raw_CHAT/CHATM2_slide96_2018_02_13-S2_lossless_CHAT.tif\" -flip -rotate 270 \"/media/yuncong/Seagate Backup Plus Drive/CHATM2_rotated/CHATM2_lossless_CHAT/CHATM2_slide96_2018_02_13-S2_lossless_CHAT.tif\" \n",
      "convert \"/media/yuncong/Seagate Backup Plus Drive/CHATM2/CHATM2_raw_CHAT/CHATM2_slide96_2018_02_13-S3_lossless_CHAT.tif\" -flip -rotate 270 \"/media/yuncong/Seagate Backup Plus Drive/CHATM2_rotated/CHATM2_lossless_CHAT/CHATM2_slide96_2018_02_13-S3_lossless_CHAT.tif\" \n",
      "convert \"/media/yuncong/Seagate Backup Plus Drive/CHATM2/CHATM2_raw_CHAT/CHATM2_slide96_2018_02_13-S1_lossless_CHAT.tif\" -flip -rotate 270 \"/media/yuncong/Seagate Backup Plus Drive/CHATM2_rotated/CHATM2_lossless_CHAT/CHATM2_slide96_2018_02_13-S1_lossless_CHAT.tif\" \n",
      "convert \"/media/yuncong/Seagate Backup Plus Drive/CHATM2/CHATM2_raw_CHAT/CHATM2_slide03_2018_01_18-S2_lossless_CHAT.tif\" -flip -rotate 270 \"/media/yuncong/Seagate Backup Plus Drive/CHATM2_rotated/CHATM2_lossless_CHAT/CHATM2_slide03_2018_01_18-S2_lossless_CHAT.tif\" \n",
      "convert \"/media/yuncong/Seagate Backup Plus Drive/CHATM2/CHATM2_raw_CHAT/CHATM2_slide03_2018_01_18-S3_lossless_CHAT.tif\" -flip -rotate 270 \"/media/yuncong/Seagate Backup Plus Drive/CHATM2_rotated/CHATM2_lossless_CHAT/CHATM2_slide03_2018_01_18-S3_lossless_CHAT.tif\" \n",
      "convert \"/media/yuncong/Seagate Backup Plus Drive/CHATM2/CHATM2_raw_CHAT/CHATM2_slide03_2018_01_18-S1_lossless_CHAT.tif\" -flip -rotate 270 \"/media/yuncong/Seagate Backup Plus Drive/CHATM2_rotated/CHATM2_lossless_CHAT/CHATM2_slide03_2018_01_18-S1_lossless_CHAT.tif\" \n",
      "convert \"/media/yuncong/Seagate Backup Plus Drive/CHATM2/CHATM2_raw_CHAT/CHATM2_slide98_2018_02_13-S1_lossless_CHAT.tif\" -flip -rotate 270 \"/media/yuncong/Seagate Backup Plus Drive/CHATM2_rotated/CHATM2_lossless_CHAT/CHATM2_slide98_2018_02_13-S1_lossless_CHAT.tif\" \n",
      "convert \"/media/yuncong/Seagate Backup Plus Drive/CHATM2/CHATM2_raw_CHAT/CHATM2_slide98_2018_02_13-S2_lossless_CHAT.tif\" -flip -rotate 270 \"/media/yuncong/Seagate Backup Plus Drive/CHATM2_rotated/CHATM2_lossless_CHAT/CHATM2_slide98_2018_02_13-S2_lossless_CHAT.tif\" \n",
      "convert \"/media/yuncong/Seagate Backup Plus Drive/CHATM2/CHATM2_raw_CHAT/CHATM2_slide98_2018_02_13-S3_lossless_CHAT.tif\" -flip -rotate 270 \"/media/yuncong/Seagate Backup Plus Drive/CHATM2_rotated/CHATM2_lossless_CHAT/CHATM2_slide98_2018_02_13-S3_lossless_CHAT.tif\" \n",
      "convert \"/media/yuncong/Seagate Backup Plus Drive/CHATM2/CHATM2_raw_CHAT/CHATM2_slide12_2018_01_18-S1_lossless_CHAT.tif\" -flip -rotate 270 \"/media/yuncong/Seagate Backup Plus Drive/CHATM2_rotated/CHATM2_lossless_CHAT/CHATM2_slide12_2018_01_18-S1_lossless_CHAT.tif\" \n",
      "convert \"/media/yuncong/Seagate Backup Plus Drive/CHATM2/CHATM2_raw_CHAT/CHATM2_slide12_2018_01_18-S2_lossless_CHAT.tif\" -flip -rotate 270 \"/media/yuncong/Seagate Backup Plus Drive/CHATM2_rotated/CHATM2_lossless_CHAT/CHATM2_slide12_2018_01_18-S2_lossless_CHAT.tif\" \n",
      "convert \"/media/yuncong/Seagate Backup Plus Drive/CHATM2/CHATM2_raw_CHAT/CHATM2_slide12_2018_01_18-S3_lossless_CHAT.tif\" -flip -rotate 270 \"/media/yuncong/Seagate Backup Plus Drive/CHATM2_rotated/CHATM2_lossless_CHAT/CHATM2_slide12_2018_01_18-S3_lossless_CHAT.tif\" \n",
      "convert \"/media/yuncong/Seagate Backup Plus Drive/CHATM2/CHATM2_raw_CHAT/CHATM2_slide82_2018_02_14-S1_lossless_CHAT.tif\" -flip -rotate 270 \"/media/yuncong/Seagate Backup Plus Drive/CHATM2_rotated/CHATM2_lossless_CHAT/CHATM2_slide82_2018_02_14-S1_lossless_CHAT.tif\" \n",
      "convert \"/media/yuncong/Seagate Backup Plus Drive/CHATM2/CHATM2_raw_CHAT/CHATM2_slide41_2018_01_22-S1_lossless_CHAT.tif\" -flip -rotate 270 \"/media/yuncong/Seagate Backup Plus Drive/CHATM2_rotated/CHATM2_lossless_CHAT/CHATM2_slide41_2018_01_22-S1_lossless_CHAT.tif\" \n",
      "convert \"/media/yuncong/Seagate Backup Plus Drive/CHATM2/CHATM2_raw_CHAT/CHATM2_slide102_2018_02_13-S1_lossless_CHAT.tif\" -flip -rotate 270 \"/media/yuncong/Seagate Backup Plus Drive/CHATM2_rotated/CHATM2_lossless_CHAT/CHATM2_slide102_2018_02_13-S1_lossless_CHAT.tif\" \n",
      "convert \"/media/yuncong/Seagate Backup Plus Drive/CHATM2/CHATM2_raw_CHAT/CHATM2_slide41_2018_01_22-S3_lossless_CHAT.tif\" -flip -rotate 270 \"/media/yuncong/Seagate Backup Plus Drive/CHATM2_rotated/CHATM2_lossless_CHAT/CHATM2_slide41_2018_01_22-S3_lossless_CHAT.tif\" \n",
      "convert \"/media/yuncong/Seagate Backup Plus Drive/CHATM2/CHATM2_raw_CHAT/CHATM2_slide41_2018_01_22-S2_lossless_CHAT.tif\" -flip -rotate 270 \"/media/yuncong/Seagate Backup Plus Drive/CHATM2_rotated/CHATM2_lossless_CHAT/CHATM2_slide41_2018_01_22-S2_lossless_CHAT.tif\" \n",
      "convert \"/media/yuncong/Seagate Backup Plus Drive/CHATM2/CHATM2_raw_CHAT/CHATM2_slide106_2018_02_13-S3_lossless_CHAT.tif\" -flip -rotate 270 \"/media/yuncong/Seagate Backup Plus Drive/CHATM2_rotated/CHATM2_lossless_CHAT/CHATM2_slide106_2018_02_13-S3_lossless_CHAT.tif\" \n",
      "convert \"/media/yuncong/Seagate Backup Plus Drive/CHATM2/CHATM2_raw_CHAT/CHATM2_slide106_2018_02_13-S2_lossless_CHAT.tif\" -flip -rotate 270 \"/media/yuncong/Seagate Backup Plus Drive/CHATM2_rotated/CHATM2_lossless_CHAT/CHATM2_slide106_2018_02_13-S2_lossless_CHAT.tif\" \n",
      "convert \"/media/yuncong/Seagate Backup Plus Drive/CHATM2/CHATM2_raw_CHAT/CHATM2_slide106_2018_02_13-S1_lossless_CHAT.tif\" -flip -rotate 270 \"/media/yuncong/Seagate Backup Plus Drive/CHATM2_rotated/CHATM2_lossless_CHAT/CHATM2_slide106_2018_02_13-S1_lossless_CHAT.tif\" \n",
      "convert \"/media/yuncong/Seagate Backup Plus Drive/CHATM2/CHATM2_raw_CHAT/CHATM2_slide05_2018_01_18-S1_lossless_CHAT.tif\" -flip -rotate 270 \"/media/yuncong/Seagate Backup Plus Drive/CHATM2_rotated/CHATM2_lossless_CHAT/CHATM2_slide05_2018_01_18-S1_lossless_CHAT.tif\" \n",
      "convert \"/media/yuncong/Seagate Backup Plus Drive/CHATM2/CHATM2_raw_CHAT/CHATM2_slide32_2018_01_20-S1_lossless_CHAT.tif\" -flip -rotate 270 \"/media/yuncong/Seagate Backup Plus Drive/CHATM2_rotated/CHATM2_lossless_CHAT/CHATM2_slide32_2018_01_20-S1_lossless_CHAT.tif\" \n",
      "convert \"/media/yuncong/Seagate Backup Plus Drive/CHATM2/CHATM2_raw_CHAT/CHATM2_slide32_2018_01_20-S3_lossless_CHAT.tif\" -flip -rotate 270 \"/media/yuncong/Seagate Backup Plus Drive/CHATM2_rotated/CHATM2_lossless_CHAT/CHATM2_slide32_2018_01_20-S3_lossless_CHAT.tif\" \n",
      "convert \"/media/yuncong/Seagate Backup Plus Drive/CHATM2/CHATM2_raw_CHAT/CHATM2_slide32_2018_01_20-S2_lossless_CHAT.tif\" -flip -rotate 270 \"/media/yuncong/Seagate Backup Plus Drive/CHATM2_rotated/CHATM2_lossless_CHAT/CHATM2_slide32_2018_01_20-S2_lossless_CHAT.tif\" \n",
      "convert \"/media/yuncong/Seagate Backup Plus Drive/CHATM2/CHATM2_raw_CHAT/CHATM2_slide44_2018_01_22-S2_lossless_CHAT.tif\" -flip -rotate 270 \"/media/yuncong/Seagate Backup Plus Drive/CHATM2_rotated/CHATM2_lossless_CHAT/CHATM2_slide44_2018_01_22-S2_lossless_CHAT.tif\" \n",
      "convert \"/media/yuncong/Seagate Backup Plus Drive/CHATM2/CHATM2_raw_CHAT/CHATM2_slide07_2018_01_18-S2_lossless_CHAT.tif\" -flip -rotate 270 \"/media/yuncong/Seagate Backup Plus Drive/CHATM2_rotated/CHATM2_lossless_CHAT/CHATM2_slide07_2018_01_18-S2_lossless_CHAT.tif\" \n"
     ]
    },
    {
     "name": "stdout",
     "output_type": "stream",
     "text": [
      "convert \"/media/yuncong/Seagate Backup Plus Drive/CHATM2/CHATM2_raw_CHAT/CHATM2_slide07_2018_01_18-S3_lossless_CHAT.tif\" -flip -rotate 270 \"/media/yuncong/Seagate Backup Plus Drive/CHATM2_rotated/CHATM2_lossless_CHAT/CHATM2_slide07_2018_01_18-S3_lossless_CHAT.tif\" \n",
      "convert \"/media/yuncong/Seagate Backup Plus Drive/CHATM2/CHATM2_raw_CHAT/CHATM2_slide07_2018_01_18-S1_lossless_CHAT.tif\" -flip -rotate 270 \"/media/yuncong/Seagate Backup Plus Drive/CHATM2_rotated/CHATM2_lossless_CHAT/CHATM2_slide07_2018_01_18-S1_lossless_CHAT.tif\" \n",
      "convert \"/media/yuncong/Seagate Backup Plus Drive/CHATM2/CHATM2_raw_CHAT/CHATM2_slide49_2018_01_22-S1_lossless_CHAT.tif\" -flip -rotate 270 \"/media/yuncong/Seagate Backup Plus Drive/CHATM2_rotated/CHATM2_lossless_CHAT/CHATM2_slide49_2018_01_22-S1_lossless_CHAT.tif\" \n",
      "convert \"/media/yuncong/Seagate Backup Plus Drive/CHATM2/CHATM2_raw_CHAT/CHATM2_slide76_2018_02_14-S3_lossless_CHAT.tif\" -flip -rotate 270 \"/media/yuncong/Seagate Backup Plus Drive/CHATM2_rotated/CHATM2_lossless_CHAT/CHATM2_slide76_2018_02_14-S3_lossless_CHAT.tif\" \n",
      "convert \"/media/yuncong/Seagate Backup Plus Drive/CHATM2/CHATM2_raw_CHAT/CHATM2_slide49_2018_01_22-S2_lossless_CHAT.tif\" -flip -rotate 270 \"/media/yuncong/Seagate Backup Plus Drive/CHATM2_rotated/CHATM2_lossless_CHAT/CHATM2_slide49_2018_01_22-S2_lossless_CHAT.tif\" \n",
      "convert \"/media/yuncong/Seagate Backup Plus Drive/CHATM2/CHATM2_raw_CHAT/CHATM2_slide70_2018_02_14-S3_lossless_CHAT.tif\" -flip -rotate 270 \"/media/yuncong/Seagate Backup Plus Drive/CHATM2_rotated/CHATM2_lossless_CHAT/CHATM2_slide70_2018_02_14-S3_lossless_CHAT.tif\" \n",
      "convert \"/media/yuncong/Seagate Backup Plus Drive/CHATM2/CHATM2_raw_CHAT/CHATM2_slide76_2018_02_14-S2_lossless_CHAT.tif\" -flip -rotate 270 \"/media/yuncong/Seagate Backup Plus Drive/CHATM2_rotated/CHATM2_lossless_CHAT/CHATM2_slide76_2018_02_14-S2_lossless_CHAT.tif\" \n",
      "convert \"/media/yuncong/Seagate Backup Plus Drive/CHATM2/CHATM2_raw_CHAT/CHATM2_slide102_2018_02_13-S2_lossless_CHAT.tif\" -flip -rotate 270 \"/media/yuncong/Seagate Backup Plus Drive/CHATM2_rotated/CHATM2_lossless_CHAT/CHATM2_slide102_2018_02_13-S2_lossless_CHAT.tif\" \n",
      "convert \"/media/yuncong/Seagate Backup Plus Drive/CHATM2/CHATM2_raw_CHAT/CHATM2_slide70_2018_02_14-S2_lossless_CHAT.tif\" -flip -rotate 270 \"/media/yuncong/Seagate Backup Plus Drive/CHATM2_rotated/CHATM2_lossless_CHAT/CHATM2_slide70_2018_02_14-S2_lossless_CHAT.tif\" \n",
      "convert \"/media/yuncong/Seagate Backup Plus Drive/CHATM2/CHATM2_raw_CHAT/CHATM2_slide70_2018_02_14-S1_lossless_CHAT.tif\" -flip -rotate 270 \"/media/yuncong/Seagate Backup Plus Drive/CHATM2_rotated/CHATM2_lossless_CHAT/CHATM2_slide70_2018_02_14-S1_lossless_CHAT.tif\" \n",
      "convert \"/media/yuncong/Seagate Backup Plus Drive/CHATM2/CHATM2_raw_CHAT/CHATM2_slide34_2018_01_20-S3_lossless_CHAT.tif\" -flip -rotate 270 \"/media/yuncong/Seagate Backup Plus Drive/CHATM2_rotated/CHATM2_lossless_CHAT/CHATM2_slide34_2018_01_20-S3_lossless_CHAT.tif\" \n",
      "convert \"/media/yuncong/Seagate Backup Plus Drive/CHATM2/CHATM2_raw_CHAT/CHATM2_slide34_2018_01_20-S2_lossless_CHAT.tif\" -flip -rotate 270 \"/media/yuncong/Seagate Backup Plus Drive/CHATM2_rotated/CHATM2_lossless_CHAT/CHATM2_slide34_2018_01_20-S2_lossless_CHAT.tif\" \n",
      "convert \"/media/yuncong/Seagate Backup Plus Drive/CHATM2/CHATM2_raw_CHAT/CHATM2_slide34_2018_01_20-S1_lossless_CHAT.tif\" -flip -rotate 270 \"/media/yuncong/Seagate Backup Plus Drive/CHATM2_rotated/CHATM2_lossless_CHAT/CHATM2_slide34_2018_01_20-S1_lossless_CHAT.tif\" \n",
      "convert \"/media/yuncong/Seagate Backup Plus Drive/CHATM2/CHATM2_raw_CHAT/CHATM2_slide82_2018_02_14-S3_lossless_CHAT.tif\" -flip -rotate 270 \"/media/yuncong/Seagate Backup Plus Drive/CHATM2_rotated/CHATM2_lossless_CHAT/CHATM2_slide82_2018_02_14-S3_lossless_CHAT.tif\" \n",
      "convert \"/media/yuncong/Seagate Backup Plus Drive/CHATM2/CHATM2_raw_CHAT/CHATM2_slide84_2018_02_14-S2_lossless_CHAT.tif\" -flip -rotate 270 \"/media/yuncong/Seagate Backup Plus Drive/CHATM2_rotated/CHATM2_lossless_CHAT/CHATM2_slide84_2018_02_14-S2_lossless_CHAT.tif\" \n",
      "convert \"/media/yuncong/Seagate Backup Plus Drive/CHATM2/CHATM2_raw_CHAT/CHATM2_slide84_2018_02_14-S3_lossless_CHAT.tif\" -flip -rotate 270 \"/media/yuncong/Seagate Backup Plus Drive/CHATM2_rotated/CHATM2_lossless_CHAT/CHATM2_slide84_2018_02_14-S3_lossless_CHAT.tif\" \n",
      "convert \"/media/yuncong/Seagate Backup Plus Drive/CHATM2/CHATM2_raw_CHAT/CHATM2_slide51_2018_01_22-S2_lossless_CHAT.tif\" -flip -rotate 270 \"/media/yuncong/Seagate Backup Plus Drive/CHATM2_rotated/CHATM2_lossless_CHAT/CHATM2_slide51_2018_01_22-S2_lossless_CHAT.tif\" \n",
      "convert \"/media/yuncong/Seagate Backup Plus Drive/CHATM2/CHATM2_raw_CHAT/CHATM2_slide84_2018_02_14-S1_lossless_CHAT.tif\" -flip -rotate 270 \"/media/yuncong/Seagate Backup Plus Drive/CHATM2_rotated/CHATM2_lossless_CHAT/CHATM2_slide84_2018_02_14-S1_lossless_CHAT.tif\" \n",
      "convert \"/media/yuncong/Seagate Backup Plus Drive/CHATM2/CHATM2_raw_CHAT/CHATM2_slide64_2018_02_15-S3_lossless_CHAT.tif\" -flip -rotate 270 \"/media/yuncong/Seagate Backup Plus Drive/CHATM2_rotated/CHATM2_lossless_CHAT/CHATM2_slide64_2018_02_15-S3_lossless_CHAT.tif\" \n",
      "convert \"/media/yuncong/Seagate Backup Plus Drive/CHATM2/CHATM2_raw_CHAT/CHATM2_slide64_2018_02_15-S2_lossless_CHAT.tif\" -flip -rotate 270 \"/media/yuncong/Seagate Backup Plus Drive/CHATM2_rotated/CHATM2_lossless_CHAT/CHATM2_slide64_2018_02_15-S2_lossless_CHAT.tif\" \n",
      "convert \"/media/yuncong/Seagate Backup Plus Drive/CHATM2/CHATM2_raw_CHAT/CHATM2_slide64_2018_02_15-S1_lossless_CHAT.tif\" -flip -rotate 270 \"/media/yuncong/Seagate Backup Plus Drive/CHATM2_rotated/CHATM2_lossless_CHAT/CHATM2_slide64_2018_02_15-S1_lossless_CHAT.tif\" \n",
      "convert \"/media/yuncong/Seagate Backup Plus Drive/CHATM2/CHATM2_raw_CHAT/CHATM2_slide57_2018_01_22-S1_lossless_CHAT.tif\" -flip -rotate 270 \"/media/yuncong/Seagate Backup Plus Drive/CHATM2_rotated/CHATM2_lossless_CHAT/CHATM2_slide57_2018_01_22-S1_lossless_CHAT.tif\" \n",
      "convert \"/media/yuncong/Seagate Backup Plus Drive/CHATM2/CHATM2_raw_CHAT/CHATM2_slide57_2018_01_22-S2_lossless_CHAT.tif\" -flip -rotate 270 \"/media/yuncong/Seagate Backup Plus Drive/CHATM2_rotated/CHATM2_lossless_CHAT/CHATM2_slide57_2018_01_22-S2_lossless_CHAT.tif\" \n",
      "convert \"/media/yuncong/Seagate Backup Plus Drive/CHATM2/CHATM2_raw_CHAT/CHATM2_slide57_2018_01_22-S3_lossless_CHAT.tif\" -flip -rotate 270 \"/media/yuncong/Seagate Backup Plus Drive/CHATM2_rotated/CHATM2_lossless_CHAT/CHATM2_slide57_2018_01_22-S3_lossless_CHAT.tif\" \n",
      "convert \"/media/yuncong/Seagate Backup Plus Drive/CHATM2/CHATM2_raw_CHAT/CHATM2_slide23_2018_01_18-S1_lossless_CHAT.tif\" -flip -rotate 270 \"/media/yuncong/Seagate Backup Plus Drive/CHATM2_rotated/CHATM2_lossless_CHAT/CHATM2_slide23_2018_01_18-S1_lossless_CHAT.tif\" \n",
      "convert \"/media/yuncong/Seagate Backup Plus Drive/CHATM2/CHATM2_raw_CHAT/CHATM2_slide24_2018_01_18-S2_lossless_CHAT.tif\" -flip -rotate 270 \"/media/yuncong/Seagate Backup Plus Drive/CHATM2_rotated/CHATM2_lossless_CHAT/CHATM2_slide24_2018_01_18-S2_lossless_CHAT.tif\" \n",
      "convert \"/media/yuncong/Seagate Backup Plus Drive/CHATM2/CHATM2_raw_CHAT/CHATM2_slide23_2018_01_18-S3_lossless_CHAT.tif\" -flip -rotate 270 \"/media/yuncong/Seagate Backup Plus Drive/CHATM2_rotated/CHATM2_lossless_CHAT/CHATM2_slide23_2018_01_18-S3_lossless_CHAT.tif\" \n",
      "convert \"/media/yuncong/Seagate Backup Plus Drive/CHATM2/CHATM2_raw_CHAT/CHATM2_slide37_2018_01_22-S2_lossless_CHAT.tif\" -flip -rotate 270 \"/media/yuncong/Seagate Backup Plus Drive/CHATM2_rotated/CHATM2_lossless_CHAT/CHATM2_slide37_2018_01_22-S2_lossless_CHAT.tif\" \n",
      "convert \"/media/yuncong/Seagate Backup Plus Drive/CHATM2/CHATM2_raw_CHAT/CHATM2_slide37_2018_01_22-S3_lossless_CHAT.tif\" -flip -rotate 270 \"/media/yuncong/Seagate Backup Plus Drive/CHATM2_rotated/CHATM2_lossless_CHAT/CHATM2_slide37_2018_01_22-S3_lossless_CHAT.tif\" \n",
      "convert \"/media/yuncong/Seagate Backup Plus Drive/CHATM2/CHATM2_raw_CHAT/CHATM2_slide37_2018_01_22-S1_lossless_CHAT.tif\" -flip -rotate 270 \"/media/yuncong/Seagate Backup Plus Drive/CHATM2_rotated/CHATM2_lossless_CHAT/CHATM2_slide37_2018_01_22-S1_lossless_CHAT.tif\" \n",
      "convert \"/media/yuncong/Seagate Backup Plus Drive/CHATM2/CHATM2_raw_CHAT/CHATM2_slide11_2018_01_18-S3_lossless_CHAT.tif\" -flip -rotate 270 \"/media/yuncong/Seagate Backup Plus Drive/CHATM2_rotated/CHATM2_lossless_CHAT/CHATM2_slide11_2018_01_18-S3_lossless_CHAT.tif\" \n"
     ]
    },
    {
     "name": "stdout",
     "output_type": "stream",
     "text": [
      "convert \"/media/yuncong/Seagate Backup Plus Drive/CHATM2/CHATM2_raw_CHAT/CHATM2_slide11_2018_01_18-S2_lossless_CHAT.tif\" -flip -rotate 270 \"/media/yuncong/Seagate Backup Plus Drive/CHATM2_rotated/CHATM2_lossless_CHAT/CHATM2_slide11_2018_01_18-S2_lossless_CHAT.tif\" \n",
      "convert \"/media/yuncong/Seagate Backup Plus Drive/CHATM2/CHATM2_raw_CHAT/CHATM2_slide11_2018_01_18-S1_lossless_CHAT.tif\" -flip -rotate 270 \"/media/yuncong/Seagate Backup Plus Drive/CHATM2_rotated/CHATM2_lossless_CHAT/CHATM2_slide11_2018_01_18-S1_lossless_CHAT.tif\" \n",
      "convert \"/media/yuncong/Seagate Backup Plus Drive/CHATM2/CHATM2_raw_CHAT/CHATM2_slide50_2018_01_22-S3_lossless_CHAT.tif\" -flip -rotate 270 \"/media/yuncong/Seagate Backup Plus Drive/CHATM2_rotated/CHATM2_lossless_CHAT/CHATM2_slide50_2018_01_22-S3_lossless_CHAT.tif\" \n",
      "convert \"/media/yuncong/Seagate Backup Plus Drive/CHATM2/CHATM2_raw_CHAT/CHATM2_slide50_2018_01_22-S2_lossless_CHAT.tif\" -flip -rotate 270 \"/media/yuncong/Seagate Backup Plus Drive/CHATM2_rotated/CHATM2_lossless_CHAT/CHATM2_slide50_2018_01_22-S2_lossless_CHAT.tif\" \n",
      "convert \"/media/yuncong/Seagate Backup Plus Drive/CHATM2/CHATM2_raw_CHAT/CHATM2_slide50_2018_01_22-S1_lossless_CHAT.tif\" -flip -rotate 270 \"/media/yuncong/Seagate Backup Plus Drive/CHATM2_rotated/CHATM2_lossless_CHAT/CHATM2_slide50_2018_01_22-S1_lossless_CHAT.tif\" \n",
      "convert \"/media/yuncong/Seagate Backup Plus Drive/CHATM2/CHATM2_raw_CHAT/CHATM2_slide51_2018_01_22-S3_lossless_CHAT.tif\" -flip -rotate 270 \"/media/yuncong/Seagate Backup Plus Drive/CHATM2_rotated/CHATM2_lossless_CHAT/CHATM2_slide51_2018_01_22-S3_lossless_CHAT.tif\" \n",
      "convert \"/media/yuncong/Seagate Backup Plus Drive/CHATM2/CHATM2_raw_CHAT/CHATM2_slide72_2018_02_14-S3_lossless_CHAT.tif\" -flip -rotate 270 \"/media/yuncong/Seagate Backup Plus Drive/CHATM2_rotated/CHATM2_lossless_CHAT/CHATM2_slide72_2018_02_14-S3_lossless_CHAT.tif\" \n",
      "convert \"/media/yuncong/Seagate Backup Plus Drive/CHATM2/CHATM2_raw_CHAT/CHATM2_slide27_2018_01_18-S1_lossless_CHAT.tif\" -flip -rotate 270 \"/media/yuncong/Seagate Backup Plus Drive/CHATM2_rotated/CHATM2_lossless_CHAT/CHATM2_slide27_2018_01_18-S1_lossless_CHAT.tif\" \n",
      "convert \"/media/yuncong/Seagate Backup Plus Drive/CHATM2/CHATM2_raw_CHAT/CHATM2_slide27_2018_01_18-S2_lossless_CHAT.tif\" -flip -rotate 270 \"/media/yuncong/Seagate Backup Plus Drive/CHATM2_rotated/CHATM2_lossless_CHAT/CHATM2_slide27_2018_01_18-S2_lossless_CHAT.tif\" \n",
      "convert \"/media/yuncong/Seagate Backup Plus Drive/CHATM2/CHATM2_raw_CHAT/CHATM2_slide27_2018_01_18-S3_lossless_CHAT.tif\" -flip -rotate 270 \"/media/yuncong/Seagate Backup Plus Drive/CHATM2_rotated/CHATM2_lossless_CHAT/CHATM2_slide27_2018_01_18-S3_lossless_CHAT.tif\" \n",
      "convert \"/media/yuncong/Seagate Backup Plus Drive/CHATM2/CHATM2_raw_CHAT/CHATM2_slide18_2018_01_18-S2_lossless_CHAT.tif\" -flip -rotate 270 \"/media/yuncong/Seagate Backup Plus Drive/CHATM2_rotated/CHATM2_lossless_CHAT/CHATM2_slide18_2018_01_18-S2_lossless_CHAT.tif\" \n",
      "convert \"/media/yuncong/Seagate Backup Plus Drive/CHATM2/CHATM2_raw_CHAT/CHATM2_slide18_2018_01_18-S3_lossless_CHAT.tif\" -flip -rotate 270 \"/media/yuncong/Seagate Backup Plus Drive/CHATM2_rotated/CHATM2_lossless_CHAT/CHATM2_slide18_2018_01_18-S3_lossless_CHAT.tif\" \n",
      "convert \"/media/yuncong/Seagate Backup Plus Drive/CHATM2/CHATM2_raw_CHAT/CHATM2_slide18_2018_01_18-S1_lossless_CHAT.tif\" -flip -rotate 270 \"/media/yuncong/Seagate Backup Plus Drive/CHATM2_rotated/CHATM2_lossless_CHAT/CHATM2_slide18_2018_01_18-S1_lossless_CHAT.tif\" \n",
      "convert \"/media/yuncong/Seagate Backup Plus Drive/CHATM2/CHATM2_raw_CHAT/CHATM2_slide90_2018_02_13-S3_lossless_CHAT.tif\" -flip -rotate 270 \"/media/yuncong/Seagate Backup Plus Drive/CHATM2_rotated/CHATM2_lossless_CHAT/CHATM2_slide90_2018_02_13-S3_lossless_CHAT.tif\" \n",
      "convert \"/media/yuncong/Seagate Backup Plus Drive/CHATM2/CHATM2_raw_CHAT/CHATM2_slide08_2018_01_18-S1_lossless_CHAT.tif\" -flip -rotate 270 \"/media/yuncong/Seagate Backup Plus Drive/CHATM2_rotated/CHATM2_lossless_CHAT/CHATM2_slide08_2018_01_18-S1_lossless_CHAT.tif\" \n",
      "convert \"/media/yuncong/Seagate Backup Plus Drive/CHATM2/CHATM2_raw_CHAT/CHATM2_slide08_2018_01_18-S3_lossless_CHAT.tif\" -flip -rotate 270 \"/media/yuncong/Seagate Backup Plus Drive/CHATM2_rotated/CHATM2_lossless_CHAT/CHATM2_slide08_2018_01_18-S3_lossless_CHAT.tif\" \n",
      "convert \"/media/yuncong/Seagate Backup Plus Drive/CHATM2/CHATM2_raw_CHAT/CHATM2_slide08_2018_01_18-S2_lossless_CHAT.tif\" -flip -rotate 270 \"/media/yuncong/Seagate Backup Plus Drive/CHATM2_rotated/CHATM2_lossless_CHAT/CHATM2_slide08_2018_01_18-S2_lossless_CHAT.tif\" \n",
      "convert \"/media/yuncong/Seagate Backup Plus Drive/CHATM2/CHATM2_raw_CHAT/CHATM2_slide86_2018_02_13-S3_lossless_CHAT.tif\" -flip -rotate 270 \"/media/yuncong/Seagate Backup Plus Drive/CHATM2_rotated/CHATM2_lossless_CHAT/CHATM2_slide86_2018_02_13-S3_lossless_CHAT.tif\" \n",
      "convert \"/media/yuncong/Seagate Backup Plus Drive/CHATM2/CHATM2_raw_CHAT/CHATM2_slide45_2018_01_22-S1_lossless_CHAT.tif\" -flip -rotate 270 \"/media/yuncong/Seagate Backup Plus Drive/CHATM2_rotated/CHATM2_lossless_CHAT/CHATM2_slide45_2018_01_22-S1_lossless_CHAT.tif\" \n",
      "convert \"/media/yuncong/Seagate Backup Plus Drive/CHATM2/CHATM2_raw_CHAT/CHATM2_slide09_2018_01_18-S1_lossless_CHAT.tif\" -flip -rotate 270 \"/media/yuncong/Seagate Backup Plus Drive/CHATM2_rotated/CHATM2_lossless_CHAT/CHATM2_slide09_2018_01_18-S1_lossless_CHAT.tif\" \n",
      "convert \"/media/yuncong/Seagate Backup Plus Drive/CHATM2/CHATM2_raw_CHAT/CHATM2_slide09_2018_01_18-S2_lossless_CHAT.tif\" -flip -rotate 270 \"/media/yuncong/Seagate Backup Plus Drive/CHATM2_rotated/CHATM2_lossless_CHAT/CHATM2_slide09_2018_01_18-S2_lossless_CHAT.tif\" \n",
      "convert \"/media/yuncong/Seagate Backup Plus Drive/CHATM2/CHATM2_raw_CHAT/CHATM2_slide09_2018_01_18-S3_lossless_CHAT.tif\" -flip -rotate 270 \"/media/yuncong/Seagate Backup Plus Drive/CHATM2_rotated/CHATM2_lossless_CHAT/CHATM2_slide09_2018_01_18-S3_lossless_CHAT.tif\" \n",
      "convert \"/media/yuncong/Seagate Backup Plus Drive/CHATM2/CHATM2_raw_CHAT/CHATM2_slide44_2018_01_22-S1_lossless_CHAT.tif\" -flip -rotate 270 \"/media/yuncong/Seagate Backup Plus Drive/CHATM2_rotated/CHATM2_lossless_CHAT/CHATM2_slide44_2018_01_22-S1_lossless_CHAT.tif\" \n",
      "convert \"/media/yuncong/Seagate Backup Plus Drive/CHATM2/CHATM2_raw_CHAT/CHATM2_slide108_2018_02_13-S1_lossless_CHAT.tif\" -flip -rotate 270 \"/media/yuncong/Seagate Backup Plus Drive/CHATM2_rotated/CHATM2_lossless_CHAT/CHATM2_slide108_2018_02_13-S1_lossless_CHAT.tif\" \n",
      "convert \"/media/yuncong/Seagate Backup Plus Drive/CHATM2/CHATM2_raw_CHAT/CHATM2_slide23_2018_01_18-S2_lossless_CHAT.tif\" -flip -rotate 270 \"/media/yuncong/Seagate Backup Plus Drive/CHATM2_rotated/CHATM2_lossless_CHAT/CHATM2_slide23_2018_01_18-S2_lossless_CHAT.tif\" \n",
      "convert \"/media/yuncong/Seagate Backup Plus Drive/CHATM2/CHATM2_raw_CHAT/CHATM2_slide90_2018_02_13-S2_lossless_CHAT.tif\" -flip -rotate 270 \"/media/yuncong/Seagate Backup Plus Drive/CHATM2_rotated/CHATM2_lossless_CHAT/CHATM2_slide90_2018_02_13-S2_lossless_CHAT.tif\" \n",
      "convert \"/media/yuncong/Seagate Backup Plus Drive/CHATM2/CHATM2_raw_CHAT/CHATM2_slide05_2018_01_18-S3_lossless_CHAT.tif\" -flip -rotate 270 \"/media/yuncong/Seagate Backup Plus Drive/CHATM2_rotated/CHATM2_lossless_CHAT/CHATM2_slide05_2018_01_18-S3_lossless_CHAT.tif\" \n",
      "convert \"/media/yuncong/Seagate Backup Plus Drive/CHATM2/CHATM2_raw_CHAT/CHATM2_slide108_2018_02_13-S2_lossless_CHAT.tif\" -flip -rotate 270 \"/media/yuncong/Seagate Backup Plus Drive/CHATM2_rotated/CHATM2_lossless_CHAT/CHATM2_slide108_2018_02_13-S2_lossless_CHAT.tif\" \n",
      "convert \"/media/yuncong/Seagate Backup Plus Drive/CHATM2/CHATM2_raw_CHAT/CHATM2_slide100_2018_02_13-S1_lossless_CHAT.tif\" -flip -rotate 270 \"/media/yuncong/Seagate Backup Plus Drive/CHATM2_rotated/CHATM2_lossless_CHAT/CHATM2_slide100_2018_02_13-S1_lossless_CHAT.tif\" \n",
      "convert \"/media/yuncong/Seagate Backup Plus Drive/CHATM2/CHATM2_raw_CHAT/CHATM2_slide45_2018_01_22-S2_lossless_CHAT.tif\" -flip -rotate 270 \"/media/yuncong/Seagate Backup Plus Drive/CHATM2_rotated/CHATM2_lossless_CHAT/CHATM2_slide45_2018_01_22-S2_lossless_CHAT.tif\" \n",
      "convert \"/media/yuncong/Seagate Backup Plus Drive/CHATM2/CHATM2_raw_CHAT/CHATM2_slide92_2018_02_13-S2_lossless_CHAT.tif\" -flip -rotate 270 \"/media/yuncong/Seagate Backup Plus Drive/CHATM2_rotated/CHATM2_lossless_CHAT/CHATM2_slide92_2018_02_13-S2_lossless_CHAT.tif\" \n"
     ]
    },
    {
     "name": "stdout",
     "output_type": "stream",
     "text": [
      "convert \"/media/yuncong/Seagate Backup Plus Drive/CHATM2/CHATM2_raw_CHAT/CHATM2_slide92_2018_02_13-S3_lossless_CHAT.tif\" -flip -rotate 270 \"/media/yuncong/Seagate Backup Plus Drive/CHATM2_rotated/CHATM2_lossless_CHAT/CHATM2_slide92_2018_02_13-S3_lossless_CHAT.tif\" \n",
      "convert \"/media/yuncong/Seagate Backup Plus Drive/CHATM2/CHATM2_raw_CHAT/CHATM2_slide92_2018_02_13-S1_lossless_CHAT.tif\" -flip -rotate 270 \"/media/yuncong/Seagate Backup Plus Drive/CHATM2_rotated/CHATM2_lossless_CHAT/CHATM2_slide92_2018_02_13-S1_lossless_CHAT.tif\" \n",
      "convert \"/media/yuncong/Seagate Backup Plus Drive/CHATM2/CHATM2_raw_CHAT/CHATM2_slide28_2018_01_18-S3_lossless_CHAT.tif\" -flip -rotate 270 \"/media/yuncong/Seagate Backup Plus Drive/CHATM2_rotated/CHATM2_lossless_CHAT/CHATM2_slide28_2018_01_18-S3_lossless_CHAT.tif\" \n",
      "convert \"/media/yuncong/Seagate Backup Plus Drive/CHATM2/CHATM2_raw_CHAT/CHATM2_slide28_2018_01_18-S2_lossless_CHAT.tif\" -flip -rotate 270 \"/media/yuncong/Seagate Backup Plus Drive/CHATM2_rotated/CHATM2_lossless_CHAT/CHATM2_slide28_2018_01_18-S2_lossless_CHAT.tif\" \n",
      "convert \"/media/yuncong/Seagate Backup Plus Drive/CHATM2/CHATM2_raw_CHAT/CHATM2_slide28_2018_01_18-S1_lossless_CHAT.tif\" -flip -rotate 270 \"/media/yuncong/Seagate Backup Plus Drive/CHATM2_rotated/CHATM2_lossless_CHAT/CHATM2_slide28_2018_01_18-S1_lossless_CHAT.tif\" \n",
      "convert \"/media/yuncong/Seagate Backup Plus Drive/CHATM2/CHATM2_raw_CHAT/CHATM2_slide44_2018_01_22-S3_lossless_CHAT.tif\" -flip -rotate 270 \"/media/yuncong/Seagate Backup Plus Drive/CHATM2_rotated/CHATM2_lossless_CHAT/CHATM2_slide44_2018_01_22-S3_lossless_CHAT.tif\" \n",
      "convert \"/media/yuncong/Seagate Backup Plus Drive/CHATM2/CHATM2_raw_CHAT/CHATM2_slide80_2018_02_14-S2_lossless_CHAT.tif\" -flip -rotate 270 \"/media/yuncong/Seagate Backup Plus Drive/CHATM2_rotated/CHATM2_lossless_CHAT/CHATM2_slide80_2018_02_14-S2_lossless_CHAT.tif\" \n",
      "convert \"/media/yuncong/Seagate Backup Plus Drive/CHATM2/CHATM2_raw_CHAT/CHATM2_slide80_2018_02_14-S3_lossless_CHAT.tif\" -flip -rotate 270 \"/media/yuncong/Seagate Backup Plus Drive/CHATM2_rotated/CHATM2_lossless_CHAT/CHATM2_slide80_2018_02_14-S3_lossless_CHAT.tif\" \n",
      "convert \"/media/yuncong/Seagate Backup Plus Drive/CHATM2/CHATM2_raw_CHAT/CHATM2_slide80_2018_02_14-S1_lossless_CHAT.tif\" -flip -rotate 270 \"/media/yuncong/Seagate Backup Plus Drive/CHATM2_rotated/CHATM2_lossless_CHAT/CHATM2_slide80_2018_02_14-S1_lossless_CHAT.tif\" \n",
      "convert \"/media/yuncong/Seagate Backup Plus Drive/CHATM2/CHATM2_raw_CHAT/CHATM2_slide104_2018_02_13-S2_lossless_CHAT.tif\" -flip -rotate 270 \"/media/yuncong/Seagate Backup Plus Drive/CHATM2_rotated/CHATM2_lossless_CHAT/CHATM2_slide104_2018_02_13-S2_lossless_CHAT.tif\" \n",
      "convert \"/media/yuncong/Seagate Backup Plus Drive/CHATM2/CHATM2_raw_CHAT/CHATM2_slide10_2018_01_18-S2_lossless_CHAT.tif\" -flip -rotate 270 \"/media/yuncong/Seagate Backup Plus Drive/CHATM2_rotated/CHATM2_lossless_CHAT/CHATM2_slide10_2018_01_18-S2_lossless_CHAT.tif\" \n",
      "convert \"/media/yuncong/Seagate Backup Plus Drive/CHATM2/CHATM2_raw_CHAT/CHATM2_slide10_2018_01_18-S3_lossless_CHAT.tif\" -flip -rotate 270 \"/media/yuncong/Seagate Backup Plus Drive/CHATM2_rotated/CHATM2_lossless_CHAT/CHATM2_slide10_2018_01_18-S3_lossless_CHAT.tif\" \n",
      "convert \"/media/yuncong/Seagate Backup Plus Drive/CHATM2/CHATM2_raw_CHAT/CHATM2_slide10_2018_01_18-S1_lossless_CHAT.tif\" -flip -rotate 270 \"/media/yuncong/Seagate Backup Plus Drive/CHATM2_rotated/CHATM2_lossless_CHAT/CHATM2_slide10_2018_01_18-S1_lossless_CHAT.tif\" \n",
      "convert \"/media/yuncong/Seagate Backup Plus Drive/CHATM2/CHATM2_raw_CHAT/CHATM2_slide15_2018_01_18-S3_lossless_CHAT.tif\" -flip -rotate 270 \"/media/yuncong/Seagate Backup Plus Drive/CHATM2_rotated/CHATM2_lossless_CHAT/CHATM2_slide15_2018_01_18-S3_lossless_CHAT.tif\" \n",
      "convert \"/media/yuncong/Seagate Backup Plus Drive/CHATM2/CHATM2_raw_CHAT/CHATM2_slide15_2018_01_18-S2_lossless_CHAT.tif\" -flip -rotate 270 \"/media/yuncong/Seagate Backup Plus Drive/CHATM2_rotated/CHATM2_lossless_CHAT/CHATM2_slide15_2018_01_18-S2_lossless_CHAT.tif\" \n",
      "convert \"/media/yuncong/Seagate Backup Plus Drive/CHATM2/CHATM2_raw_CHAT/CHATM2_slide15_2018_01_18-S1_lossless_CHAT.tif\" -flip -rotate 270 \"/media/yuncong/Seagate Backup Plus Drive/CHATM2_rotated/CHATM2_lossless_CHAT/CHATM2_slide15_2018_01_18-S1_lossless_CHAT.tif\" \n",
      "convert \"/media/yuncong/Seagate Backup Plus Drive/CHATM2/CHATM2_raw_CHAT/CHATM2_slide76_2018_02_14-S1_lossless_CHAT.tif\" -flip -rotate 270 \"/media/yuncong/Seagate Backup Plus Drive/CHATM2_rotated/CHATM2_lossless_CHAT/CHATM2_slide76_2018_02_14-S1_lossless_CHAT.tif\" \n",
      "convert \"/media/yuncong/Seagate Backup Plus Drive/CHATM2/CHATM2_raw_CHAT/CHATM2_slide33_2018_01_20-S1_lossless_CHAT.tif\" -flip -rotate 270 \"/media/yuncong/Seagate Backup Plus Drive/CHATM2_rotated/CHATM2_lossless_CHAT/CHATM2_slide33_2018_01_20-S1_lossless_CHAT.tif\" \n",
      "convert \"/media/yuncong/Seagate Backup Plus Drive/CHATM2/CHATM2_raw_CHAT/CHATM2_slide33_2018_01_20-S2_lossless_CHAT.tif\" -flip -rotate 270 \"/media/yuncong/Seagate Backup Plus Drive/CHATM2_rotated/CHATM2_lossless_CHAT/CHATM2_slide33_2018_01_20-S2_lossless_CHAT.tif\" \n",
      "convert \"/media/yuncong/Seagate Backup Plus Drive/CHATM2/CHATM2_raw_CHAT/CHATM2_slide33_2018_01_20-S3_lossless_CHAT.tif\" -flip -rotate 270 \"/media/yuncong/Seagate Backup Plus Drive/CHATM2_rotated/CHATM2_lossless_CHAT/CHATM2_slide33_2018_01_20-S3_lossless_CHAT.tif\" \n",
      "convert \"/media/yuncong/Seagate Backup Plus Drive/CHATM2/CHATM2_raw_CHAT/CHATM2_slide31_2018_01_19-S2_lossless_CHAT.tif\" -flip -rotate 270 \"/media/yuncong/Seagate Backup Plus Drive/CHATM2_rotated/CHATM2_lossless_CHAT/CHATM2_slide31_2018_01_19-S2_lossless_CHAT.tif\" \n",
      "convert \"/media/yuncong/Seagate Backup Plus Drive/CHATM2/CHATM2_raw_CHAT/CHATM2_slide31_2018_01_19-S3_lossless_CHAT.tif\" -flip -rotate 270 \"/media/yuncong/Seagate Backup Plus Drive/CHATM2_rotated/CHATM2_lossless_CHAT/CHATM2_slide31_2018_01_19-S3_lossless_CHAT.tif\" \n",
      "convert \"/media/yuncong/Seagate Backup Plus Drive/CHATM2/CHATM2_raw_CHAT/CHATM2_slide53_2018_01_22-S1_lossless_CHAT.tif\" -flip -rotate 270 \"/media/yuncong/Seagate Backup Plus Drive/CHATM2_rotated/CHATM2_lossless_CHAT/CHATM2_slide53_2018_01_22-S1_lossless_CHAT.tif\" \n",
      "convert \"/media/yuncong/Seagate Backup Plus Drive/CHATM2/CHATM2_raw_CHAT/CHATM2_slide53_2018_01_22-S2_lossless_CHAT.tif\" -flip -rotate 270 \"/media/yuncong/Seagate Backup Plus Drive/CHATM2_rotated/CHATM2_lossless_CHAT/CHATM2_slide53_2018_01_22-S2_lossless_CHAT.tif\" \n",
      "convert \"/media/yuncong/Seagate Backup Plus Drive/CHATM2/CHATM2_raw_CHAT/CHATM2_slide53_2018_01_22-S3_lossless_CHAT.tif\" -flip -rotate 270 \"/media/yuncong/Seagate Backup Plus Drive/CHATM2_rotated/CHATM2_lossless_CHAT/CHATM2_slide53_2018_01_22-S3_lossless_CHAT.tif\" \n",
      "convert \"/media/yuncong/Seagate Backup Plus Drive/CHATM2/CHATM2_raw_CHAT/CHATM2_slide62_2018_02_14-S2_lossless_CHAT.tif\" -flip -rotate 270 \"/media/yuncong/Seagate Backup Plus Drive/CHATM2_rotated/CHATM2_lossless_CHAT/CHATM2_slide62_2018_02_14-S2_lossless_CHAT.tif\" \n",
      "convert \"/media/yuncong/Seagate Backup Plus Drive/CHATM2/CHATM2_raw_CHAT/CHATM2_slide62_2018_02_14-S3_lossless_CHAT.tif\" -flip -rotate 270 \"/media/yuncong/Seagate Backup Plus Drive/CHATM2_rotated/CHATM2_lossless_CHAT/CHATM2_slide62_2018_02_14-S3_lossless_CHAT.tif\" \n",
      "convert \"/media/yuncong/Seagate Backup Plus Drive/CHATM2/CHATM2_raw_CHAT/CHATM2_slide62_2018_02_14-S1_lossless_CHAT.tif\" -flip -rotate 270 \"/media/yuncong/Seagate Backup Plus Drive/CHATM2_rotated/CHATM2_lossless_CHAT/CHATM2_slide62_2018_02_14-S1_lossless_CHAT.tif\" \n",
      "convert \"/media/yuncong/Seagate Backup Plus Drive/CHATM2/CHATM2_raw_CHAT/CHATM2_slide66_2018_02_14-S2_lossless_CHAT.tif\" -flip -rotate 270 \"/media/yuncong/Seagate Backup Plus Drive/CHATM2_rotated/CHATM2_lossless_CHAT/CHATM2_slide66_2018_02_14-S2_lossless_CHAT.tif\" \n",
      "convert \"/media/yuncong/Seagate Backup Plus Drive/CHATM2/CHATM2_raw_CHAT/CHATM2_slide66_2018_02_14-S3_lossless_CHAT.tif\" -flip -rotate 270 \"/media/yuncong/Seagate Backup Plus Drive/CHATM2_rotated/CHATM2_lossless_CHAT/CHATM2_slide66_2018_02_14-S3_lossless_CHAT.tif\" \n",
      "convert \"/media/yuncong/Seagate Backup Plus Drive/CHATM2/CHATM2_raw_CHAT/CHATM2_slide108_2018_02_13-S3_lossless_CHAT.tif\" -flip -rotate 270 \"/media/yuncong/Seagate Backup Plus Drive/CHATM2_rotated/CHATM2_lossless_CHAT/CHATM2_slide108_2018_02_13-S3_lossless_CHAT.tif\" \n"
     ]
    },
    {
     "name": "stdout",
     "output_type": "stream",
     "text": [
      "convert \"/media/yuncong/Seagate Backup Plus Drive/CHATM2/CHATM2_raw_CHAT/CHATM2_slide66_2018_02_14-S1_lossless_CHAT.tif\" -flip -rotate 270 \"/media/yuncong/Seagate Backup Plus Drive/CHATM2_rotated/CHATM2_lossless_CHAT/CHATM2_slide66_2018_02_14-S1_lossless_CHAT.tif\" \n",
      "convert \"/media/yuncong/Seagate Backup Plus Drive/CHATM2/CHATM2_raw_CHAT/CHATM2_slide74_2018_02_14-S3_lossless_CHAT.tif\" -flip -rotate 270 \"/media/yuncong/Seagate Backup Plus Drive/CHATM2_rotated/CHATM2_lossless_CHAT/CHATM2_slide74_2018_02_14-S3_lossless_CHAT.tif\" \n",
      "convert \"/media/yuncong/Seagate Backup Plus Drive/CHATM2/CHATM2_raw_CHAT/CHATM2_slide74_2018_02_14-S2_lossless_CHAT.tif\" -flip -rotate 270 \"/media/yuncong/Seagate Backup Plus Drive/CHATM2_rotated/CHATM2_lossless_CHAT/CHATM2_slide74_2018_02_14-S2_lossless_CHAT.tif\" \n",
      "convert \"/media/yuncong/Seagate Backup Plus Drive/CHATM2/CHATM2_raw_CHAT/CHATM2_slide74_2018_02_14-S1_lossless_CHAT.tif\" -flip -rotate 270 \"/media/yuncong/Seagate Backup Plus Drive/CHATM2_rotated/CHATM2_lossless_CHAT/CHATM2_slide74_2018_02_14-S1_lossless_CHAT.tif\" \n",
      "convert \"/media/yuncong/Seagate Backup Plus Drive/CHATM2/CHATM2_raw_CHAT/CHATM2_slide30_2018_01_18-S1_lossless_CHAT.tif\" -flip -rotate 270 \"/media/yuncong/Seagate Backup Plus Drive/CHATM2_rotated/CHATM2_lossless_CHAT/CHATM2_slide30_2018_01_18-S1_lossless_CHAT.tif\" \n",
      "convert \"/media/yuncong/Seagate Backup Plus Drive/CHATM2/CHATM2_raw_CHAT/CHATM2_slide30_2018_01_18-S2_lossless_CHAT.tif\" -flip -rotate 270 \"/media/yuncong/Seagate Backup Plus Drive/CHATM2_rotated/CHATM2_lossless_CHAT/CHATM2_slide30_2018_01_18-S2_lossless_CHAT.tif\" \n",
      "convert \"/media/yuncong/Seagate Backup Plus Drive/CHATM2/CHATM2_raw_CHAT/CHATM2_slide30_2018_01_18-S3_lossless_CHAT.tif\" -flip -rotate 270 \"/media/yuncong/Seagate Backup Plus Drive/CHATM2_rotated/CHATM2_lossless_CHAT/CHATM2_slide30_2018_01_18-S3_lossless_CHAT.tif\" \n",
      "convert \"/media/yuncong/Seagate Backup Plus Drive/CHATM2/CHATM2_raw_CHAT/CHATM2_slide42_2018_01_22-S2_lossless_CHAT.tif\" -flip -rotate 270 \"/media/yuncong/Seagate Backup Plus Drive/CHATM2_rotated/CHATM2_lossless_CHAT/CHATM2_slide42_2018_01_22-S2_lossless_CHAT.tif\" \n",
      "convert \"/media/yuncong/Seagate Backup Plus Drive/CHATM2/CHATM2_raw_CHAT/CHATM2_slide42_2018_01_22-S3_lossless_CHAT.tif\" -flip -rotate 270 \"/media/yuncong/Seagate Backup Plus Drive/CHATM2_rotated/CHATM2_lossless_CHAT/CHATM2_slide42_2018_01_22-S3_lossless_CHAT.tif\" \n",
      "convert \"/media/yuncong/Seagate Backup Plus Drive/CHATM2/CHATM2_raw_CHAT/CHATM2_slide68_2018_02_14-S2_lossless_CHAT.tif\" -flip -rotate 270 \"/media/yuncong/Seagate Backup Plus Drive/CHATM2_rotated/CHATM2_lossless_CHAT/CHATM2_slide68_2018_02_14-S2_lossless_CHAT.tif\" \n",
      "convert \"/media/yuncong/Seagate Backup Plus Drive/CHATM2/CHATM2_raw_CHAT/CHATM2_slide42_2018_01_22-S1_lossless_CHAT.tif\" -flip -rotate 270 \"/media/yuncong/Seagate Backup Plus Drive/CHATM2_rotated/CHATM2_lossless_CHAT/CHATM2_slide42_2018_01_22-S1_lossless_CHAT.tif\" \n",
      "convert \"/media/yuncong/Seagate Backup Plus Drive/CHATM2/CHATM2_raw_CHAT/CHATM2_slide68_2018_02_14-S1_lossless_CHAT.tif\" -flip -rotate 270 \"/media/yuncong/Seagate Backup Plus Drive/CHATM2_rotated/CHATM2_lossless_CHAT/CHATM2_slide68_2018_02_14-S1_lossless_CHAT.tif\" \n",
      "convert \"/media/yuncong/Seagate Backup Plus Drive/CHATM2/CHATM2_raw_CHAT/CHATM2_slide02_2018_01_18-S3_lossless_CHAT.tif\" -flip -rotate 270 \"/media/yuncong/Seagate Backup Plus Drive/CHATM2_rotated/CHATM2_lossless_CHAT/CHATM2_slide02_2018_01_18-S3_lossless_CHAT.tif\" \n",
      "convert \"/media/yuncong/Seagate Backup Plus Drive/CHATM2/CHATM2_raw_CHAT/CHATM2_slide02_2018_01_18-S2_lossless_CHAT.tif\" -flip -rotate 270 \"/media/yuncong/Seagate Backup Plus Drive/CHATM2_rotated/CHATM2_lossless_CHAT/CHATM2_slide02_2018_01_18-S2_lossless_CHAT.tif\" \n",
      "convert \"/media/yuncong/Seagate Backup Plus Drive/CHATM2/CHATM2_raw_CHAT/CHATM2_slide02_2018_01_18-S1_lossless_CHAT.tif\" -flip -rotate 270 \"/media/yuncong/Seagate Backup Plus Drive/CHATM2_rotated/CHATM2_lossless_CHAT/CHATM2_slide02_2018_01_18-S1_lossless_CHAT.tif\" \n",
      "convert \"/media/yuncong/Seagate Backup Plus Drive/CHATM2/CHATM2_raw_CHAT/CHATM2_slide72_2018_02_14-S2_lossless_CHAT.tif\" -flip -rotate 270 \"/media/yuncong/Seagate Backup Plus Drive/CHATM2_rotated/CHATM2_lossless_CHAT/CHATM2_slide72_2018_02_14-S2_lossless_CHAT.tif\" \n",
      "convert \"/media/yuncong/Seagate Backup Plus Drive/CHATM2/CHATM2_raw_CHAT/CHATM2_slide88_2018_02_13-S3_lossless_CHAT.tif\" -flip -rotate 270 \"/media/yuncong/Seagate Backup Plus Drive/CHATM2_rotated/CHATM2_lossless_CHAT/CHATM2_slide88_2018_02_13-S3_lossless_CHAT.tif\" \n",
      "convert \"/media/yuncong/Seagate Backup Plus Drive/CHATM2/CHATM2_raw_CHAT/CHATM2_slide13_2018_01_19-S2_lossless_CHAT.tif\" -flip -rotate 270 \"/media/yuncong/Seagate Backup Plus Drive/CHATM2_rotated/CHATM2_lossless_CHAT/CHATM2_slide13_2018_01_19-S2_lossless_CHAT.tif\" \n",
      "convert \"/media/yuncong/Seagate Backup Plus Drive/CHATM2/CHATM2_raw_CHAT/CHATM2_slide13_2018_01_19-S3_lossless_CHAT.tif\" -flip -rotate 270 \"/media/yuncong/Seagate Backup Plus Drive/CHATM2_rotated/CHATM2_lossless_CHAT/CHATM2_slide13_2018_01_19-S3_lossless_CHAT.tif\" \n",
      "convert \"/media/yuncong/Seagate Backup Plus Drive/CHATM2/CHATM2_raw_CHAT/CHATM2_slide13_2018_01_19-S1_lossless_CHAT.tif\" -flip -rotate 270 \"/media/yuncong/Seagate Backup Plus Drive/CHATM2_rotated/CHATM2_lossless_CHAT/CHATM2_slide13_2018_01_19-S1_lossless_CHAT.tif\" \n",
      "convert \"/media/yuncong/Seagate Backup Plus Drive/CHATM2/CHATM2_raw_CHAT/CHATM2_slide22_2018_01_19-S2_lossless_CHAT.tif\" -flip -rotate 270 \"/media/yuncong/Seagate Backup Plus Drive/CHATM2_rotated/CHATM2_lossless_CHAT/CHATM2_slide22_2018_01_19-S2_lossless_CHAT.tif\" \n",
      "convert \"/media/yuncong/Seagate Backup Plus Drive/CHATM2/CHATM2_raw_CHAT/CHATM2_slide22_2018_01_19-S3_lossless_CHAT.tif\" -flip -rotate 270 \"/media/yuncong/Seagate Backup Plus Drive/CHATM2_rotated/CHATM2_lossless_CHAT/CHATM2_slide22_2018_01_19-S3_lossless_CHAT.tif\" \n",
      "convert \"/media/yuncong/Seagate Backup Plus Drive/CHATM2/CHATM2_raw_CHAT/CHATM2_slide22_2018_01_19-S1_lossless_CHAT.tif\" -flip -rotate 270 \"/media/yuncong/Seagate Backup Plus Drive/CHATM2_rotated/CHATM2_lossless_CHAT/CHATM2_slide22_2018_01_19-S1_lossless_CHAT.tif\" \n",
      "convert \"/media/yuncong/Seagate Backup Plus Drive/CHATM2/CHATM2_raw_CHAT/CHATM2_slide21_2018_01_18-S2_lossless_CHAT.tif\" -flip -rotate 270 \"/media/yuncong/Seagate Backup Plus Drive/CHATM2_rotated/CHATM2_lossless_CHAT/CHATM2_slide21_2018_01_18-S2_lossless_CHAT.tif\" \n",
      "convert \"/media/yuncong/Seagate Backup Plus Drive/CHATM2/CHATM2_raw_CHAT/CHATM2_slide21_2018_01_18-S3_lossless_CHAT.tif\" -flip -rotate 270 \"/media/yuncong/Seagate Backup Plus Drive/CHATM2_rotated/CHATM2_lossless_CHAT/CHATM2_slide21_2018_01_18-S3_lossless_CHAT.tif\" \n",
      "convert \"/media/yuncong/Seagate Backup Plus Drive/CHATM2/CHATM2_raw_CHAT/CHATM2_slide05_2018_01_18-S2_lossless_CHAT.tif\" -flip -rotate 270 \"/media/yuncong/Seagate Backup Plus Drive/CHATM2_rotated/CHATM2_lossless_CHAT/CHATM2_slide05_2018_01_18-S2_lossless_CHAT.tif\" \n",
      "convert \"/media/yuncong/Seagate Backup Plus Drive/CHATM2/CHATM2_raw_CHAT/CHATM2_slide21_2018_01_18-S1_lossless_CHAT.tif\" -flip -rotate 270 \"/media/yuncong/Seagate Backup Plus Drive/CHATM2_rotated/CHATM2_lossless_CHAT/CHATM2_slide21_2018_01_18-S1_lossless_CHAT.tif\" \n",
      "convert \"/media/yuncong/Seagate Backup Plus Drive/CHATM2/CHATM2_raw_CHAT/CHATM2_slide54_2018_01_22-S3_lossless_CHAT.tif\" -flip -rotate 270 \"/media/yuncong/Seagate Backup Plus Drive/CHATM2_rotated/CHATM2_lossless_CHAT/CHATM2_slide54_2018_01_22-S3_lossless_CHAT.tif\" \n",
      "convert \"/media/yuncong/Seagate Backup Plus Drive/CHATM2/CHATM2_raw_CHAT/CHATM2_slide54_2018_01_22-S2_lossless_CHAT.tif\" -flip -rotate 270 \"/media/yuncong/Seagate Backup Plus Drive/CHATM2_rotated/CHATM2_lossless_CHAT/CHATM2_slide54_2018_01_22-S2_lossless_CHAT.tif\" \n",
      "convert \"/media/yuncong/Seagate Backup Plus Drive/CHATM2/CHATM2_raw_CHAT/CHATM2_slide54_2018_01_22-S1_lossless_CHAT.tif\" -flip -rotate 270 \"/media/yuncong/Seagate Backup Plus Drive/CHATM2_rotated/CHATM2_lossless_CHAT/CHATM2_slide54_2018_01_22-S1_lossless_CHAT.tif\" \n",
      "convert \"/media/yuncong/Seagate Backup Plus Drive/CHATM2/CHATM2_raw_CHAT/CHATM2_slide04_2018_01_18-S1_lossless_CHAT.tif\" -flip -rotate 270 \"/media/yuncong/Seagate Backup Plus Drive/CHATM2_rotated/CHATM2_lossless_CHAT/CHATM2_slide04_2018_01_18-S1_lossless_CHAT.tif\" \n"
     ]
    },
    {
     "name": "stdout",
     "output_type": "stream",
     "text": [
      "convert \"/media/yuncong/Seagate Backup Plus Drive/CHATM2/CHATM2_raw_CHAT/CHATM2_slide04_2018_01_18-S3_lossless_CHAT.tif\" -flip -rotate 270 \"/media/yuncong/Seagate Backup Plus Drive/CHATM2_rotated/CHATM2_lossless_CHAT/CHATM2_slide04_2018_01_18-S3_lossless_CHAT.tif\" \n",
      "convert \"/media/yuncong/Seagate Backup Plus Drive/CHATM2/CHATM2_raw_CHAT/CHATM2_slide04_2018_01_18-S2_lossless_CHAT.tif\" -flip -rotate 270 \"/media/yuncong/Seagate Backup Plus Drive/CHATM2_rotated/CHATM2_lossless_CHAT/CHATM2_slide04_2018_01_18-S2_lossless_CHAT.tif\" \n",
      "convert \"/media/yuncong/Seagate Backup Plus Drive/CHATM2/CHATM2_raw_CHAT/CHATM2_slide16_2018_01_18-S1_lossless_CHAT.tif\" -flip -rotate 270 \"/media/yuncong/Seagate Backup Plus Drive/CHATM2_rotated/CHATM2_lossless_CHAT/CHATM2_slide16_2018_01_18-S1_lossless_CHAT.tif\" \n",
      "convert \"/media/yuncong/Seagate Backup Plus Drive/CHATM2/CHATM2_raw_CHAT/CHATM2_slide16_2018_01_18-S2_lossless_CHAT.tif\" -flip -rotate 270 \"/media/yuncong/Seagate Backup Plus Drive/CHATM2_rotated/CHATM2_lossless_CHAT/CHATM2_slide16_2018_01_18-S2_lossless_CHAT.tif\" \n",
      "convert \"/media/yuncong/Seagate Backup Plus Drive/CHATM2/CHATM2_raw_CHAT/CHATM2_slide16_2018_01_18-S3_lossless_CHAT.tif\" -flip -rotate 270 \"/media/yuncong/Seagate Backup Plus Drive/CHATM2_rotated/CHATM2_lossless_CHAT/CHATM2_slide16_2018_01_18-S3_lossless_CHAT.tif\" \n",
      "convert \"/media/yuncong/Seagate Backup Plus Drive/CHATM2/CHATM2_raw_CHAT/CHATM2_slide46_2018_01_22-S2_lossless_CHAT.tif\" -flip -rotate 270 \"/media/yuncong/Seagate Backup Plus Drive/CHATM2_rotated/CHATM2_lossless_CHAT/CHATM2_slide46_2018_01_22-S2_lossless_CHAT.tif\" \n",
      "convert \"/media/yuncong/Seagate Backup Plus Drive/CHATM2/CHATM2_raw_CHAT/CHATM2_slide46_2018_01_22-S3_lossless_CHAT.tif\" -flip -rotate 270 \"/media/yuncong/Seagate Backup Plus Drive/CHATM2_rotated/CHATM2_lossless_CHAT/CHATM2_slide46_2018_01_22-S3_lossless_CHAT.tif\" \n",
      "convert \"/media/yuncong/Seagate Backup Plus Drive/CHATM2/CHATM2_raw_CHAT/CHATM2_slide46_2018_01_22-S1_lossless_CHAT.tif\" -flip -rotate 270 \"/media/yuncong/Seagate Backup Plus Drive/CHATM2_rotated/CHATM2_lossless_CHAT/CHATM2_slide46_2018_01_22-S1_lossless_CHAT.tif\" \n",
      "convert \"/media/yuncong/Seagate Backup Plus Drive/CHATM2/CHATM2_raw_CHAT/CHATM2_slide52_2018_01_22-S1_lossless_CHAT.tif\" -flip -rotate 270 \"/media/yuncong/Seagate Backup Plus Drive/CHATM2_rotated/CHATM2_lossless_CHAT/CHATM2_slide52_2018_01_22-S1_lossless_CHAT.tif\" \n",
      "convert \"/media/yuncong/Seagate Backup Plus Drive/CHATM2/CHATM2_raw_CHAT/CHATM2_slide52_2018_01_22-S3_lossless_CHAT.tif\" -flip -rotate 270 \"/media/yuncong/Seagate Backup Plus Drive/CHATM2_rotated/CHATM2_lossless_CHAT/CHATM2_slide52_2018_01_22-S3_lossless_CHAT.tif\" \n",
      "convert \"/media/yuncong/Seagate Backup Plus Drive/CHATM2/CHATM2_raw_CHAT/CHATM2_slide52_2018_01_22-S2_lossless_CHAT.tif\" -flip -rotate 270 \"/media/yuncong/Seagate Backup Plus Drive/CHATM2_rotated/CHATM2_lossless_CHAT/CHATM2_slide52_2018_01_22-S2_lossless_CHAT.tif\" \n",
      "convert \"/media/yuncong/Seagate Backup Plus Drive/CHATM2/CHATM2_raw_CHAT/CHATM2_slide58_2018_01_22-S1_lossless_CHAT.tif\" -flip -rotate 270 \"/media/yuncong/Seagate Backup Plus Drive/CHATM2_rotated/CHATM2_lossless_CHAT/CHATM2_slide58_2018_01_22-S1_lossless_CHAT.tif\" \n",
      "convert \"/media/yuncong/Seagate Backup Plus Drive/CHATM2/CHATM2_raw_CHAT/CHATM2_slide43_2018_01_22-S3_lossless_CHAT.tif\" -flip -rotate 270 \"/media/yuncong/Seagate Backup Plus Drive/CHATM2_rotated/CHATM2_lossless_CHAT/CHATM2_slide43_2018_01_22-S3_lossless_CHAT.tif\" \n",
      "convert \"/media/yuncong/Seagate Backup Plus Drive/CHATM2/CHATM2_raw_CHAT/CHATM2_slide43_2018_01_22-S2_lossless_CHAT.tif\" -flip -rotate 270 \"/media/yuncong/Seagate Backup Plus Drive/CHATM2_rotated/CHATM2_lossless_CHAT/CHATM2_slide43_2018_01_22-S2_lossless_CHAT.tif\" \n",
      "convert \"/media/yuncong/Seagate Backup Plus Drive/CHATM2/CHATM2_raw_CHAT/CHATM2_slide43_2018_01_22-S1_lossless_CHAT.tif\" -flip -rotate 270 \"/media/yuncong/Seagate Backup Plus Drive/CHATM2_rotated/CHATM2_lossless_CHAT/CHATM2_slide43_2018_01_22-S1_lossless_CHAT.tif\" \n",
      "convert \"/media/yuncong/Seagate Backup Plus Drive/CHATM2/CHATM2_raw_CHAT/CHATM2_slide51_2018_01_22-S1_lossless_CHAT.tif\" -flip -rotate 270 \"/media/yuncong/Seagate Backup Plus Drive/CHATM2_rotated/CHATM2_lossless_CHAT/CHATM2_slide51_2018_01_22-S1_lossless_CHAT.tif\" \n",
      "convert \"/media/yuncong/Seagate Backup Plus Drive/CHATM2/CHATM2_raw_CHAT/CHATM2_slide55_2018_01_22-S2_lossless_CHAT.tif\" -flip -rotate 270 \"/media/yuncong/Seagate Backup Plus Drive/CHATM2_rotated/CHATM2_lossless_CHAT/CHATM2_slide55_2018_01_22-S2_lossless_CHAT.tif\" \n",
      "convert \"/media/yuncong/Seagate Backup Plus Drive/CHATM2/CHATM2_raw_CHAT/CHATM2_slide55_2018_01_22-S3_lossless_CHAT.tif\" -flip -rotate 270 \"/media/yuncong/Seagate Backup Plus Drive/CHATM2_rotated/CHATM2_lossless_CHAT/CHATM2_slide55_2018_01_22-S3_lossless_CHAT.tif\" \n",
      "convert \"/media/yuncong/Seagate Backup Plus Drive/CHATM2/CHATM2_raw_CHAT/CHATM2_slide104_2018_02_13-S3_lossless_CHAT.tif\" -flip -rotate 270 \"/media/yuncong/Seagate Backup Plus Drive/CHATM2_rotated/CHATM2_lossless_CHAT/CHATM2_slide104_2018_02_13-S3_lossless_CHAT.tif\" \n",
      "convert \"/media/yuncong/Seagate Backup Plus Drive/CHATM2/CHATM2_raw_CHAT/CHATM2_slide55_2018_01_22-S1_lossless_CHAT.tif\" -flip -rotate 270 \"/media/yuncong/Seagate Backup Plus Drive/CHATM2_rotated/CHATM2_lossless_CHAT/CHATM2_slide55_2018_01_22-S1_lossless_CHAT.tif\" \n",
      "convert \"/media/yuncong/Seagate Backup Plus Drive/CHATM2/CHATM2_raw_CHAT/CHATM2_slide104_2018_02_13-S1_lossless_CHAT.tif\" -flip -rotate 270 \"/media/yuncong/Seagate Backup Plus Drive/CHATM2_rotated/CHATM2_lossless_CHAT/CHATM2_slide104_2018_02_13-S1_lossless_CHAT.tif\" \n",
      "convert \"/media/yuncong/Seagate Backup Plus Drive/CHATM2/CHATM2_raw_CHAT/CHATM2_slide100_2018_02_13-S2_lossless_CHAT.tif\" -flip -rotate 270 \"/media/yuncong/Seagate Backup Plus Drive/CHATM2_rotated/CHATM2_lossless_CHAT/CHATM2_slide100_2018_02_13-S2_lossless_CHAT.tif\" \n",
      "convert \"/media/yuncong/Seagate Backup Plus Drive/CHATM2/CHATM2_raw_CHAT/CHATM2_slide39_2018_01_22-S1_lossless_CHAT.tif\" -flip -rotate 270 \"/media/yuncong/Seagate Backup Plus Drive/CHATM2_rotated/CHATM2_lossless_CHAT/CHATM2_slide39_2018_01_22-S1_lossless_CHAT.tif\" \n",
      "convert \"/media/yuncong/Seagate Backup Plus Drive/CHATM2/CHATM2_raw_CHAT/CHATM2_slide39_2018_01_22-S2_lossless_CHAT.tif\" -flip -rotate 270 \"/media/yuncong/Seagate Backup Plus Drive/CHATM2_rotated/CHATM2_lossless_CHAT/CHATM2_slide39_2018_01_22-S2_lossless_CHAT.tif\" \n",
      "convert \"/media/yuncong/Seagate Backup Plus Drive/CHATM2/CHATM2_raw_CHAT/CHATM2_slide39_2018_01_22-S3_lossless_CHAT.tif\" -flip -rotate 270 \"/media/yuncong/Seagate Backup Plus Drive/CHATM2_rotated/CHATM2_lossless_CHAT/CHATM2_slide39_2018_01_22-S3_lossless_CHAT.tif\" \n",
      "convert \"/media/yuncong/Seagate Backup Plus Drive/CHATM2/CHATM2_raw_CHAT/CHATM2_slide35_2018_01_20-S2_lossless_CHAT.tif\" -flip -rotate 270 \"/media/yuncong/Seagate Backup Plus Drive/CHATM2_rotated/CHATM2_lossless_CHAT/CHATM2_slide35_2018_01_20-S2_lossless_CHAT.tif\" \n",
      "convert \"/media/yuncong/Seagate Backup Plus Drive/CHATM2/CHATM2_raw_CHAT/CHATM2_slide72_2018_02_14-S1_lossless_CHAT.tif\" -flip -rotate 270 \"/media/yuncong/Seagate Backup Plus Drive/CHATM2_rotated/CHATM2_lossless_CHAT/CHATM2_slide72_2018_02_14-S1_lossless_CHAT.tif\" \n",
      "convert \"/media/yuncong/Seagate Backup Plus Drive/CHATM2/CHATM2_raw_CHAT/CHATM2_slide82_2018_02_14-S2_lossless_CHAT.tif\" -flip -rotate 270 \"/media/yuncong/Seagate Backup Plus Drive/CHATM2_rotated/CHATM2_lossless_CHAT/CHATM2_slide82_2018_02_14-S2_lossless_CHAT.tif\" \n",
      "convert \"/media/yuncong/Seagate Backup Plus Drive/CHATM2/CHATM2_raw_CHAT/CHATM2_slide35_2018_01_20-S1_lossless_CHAT.tif\" -flip -rotate 270 \"/media/yuncong/Seagate Backup Plus Drive/CHATM2_rotated/CHATM2_lossless_CHAT/CHATM2_slide35_2018_01_20-S1_lossless_CHAT.tif\" \n",
      "convert \"/media/yuncong/Seagate Backup Plus Drive/CHATM2/CHATM2_raw_CHAT/CHATM2_slide94_2018_02_13-S1_lossless_CHAT.tif\" -flip -rotate 270 \"/media/yuncong/Seagate Backup Plus Drive/CHATM2_rotated/CHATM2_lossless_CHAT/CHATM2_slide94_2018_02_13-S1_lossless_CHAT.tif\" \n",
      "convert \"/media/yuncong/Seagate Backup Plus Drive/CHATM2/CHATM2_raw_CHAT/CHATM2_slide94_2018_02_13-S2_lossless_CHAT.tif\" -flip -rotate 270 \"/media/yuncong/Seagate Backup Plus Drive/CHATM2_rotated/CHATM2_lossless_CHAT/CHATM2_slide94_2018_02_13-S2_lossless_CHAT.tif\" \n"
     ]
    },
    {
     "name": "stdout",
     "output_type": "stream",
     "text": [
      "convert \"/media/yuncong/Seagate Backup Plus Drive/CHATM2/CHATM2_raw_CHAT/CHATM2_slide58_2018_01_22-S2_lossless_CHAT.tif\" -flip -rotate 270 \"/media/yuncong/Seagate Backup Plus Drive/CHATM2_rotated/CHATM2_lossless_CHAT/CHATM2_slide58_2018_01_22-S2_lossless_CHAT.tif\" \n",
      "convert \"/media/yuncong/Seagate Backup Plus Drive/CHATM2/CHATM2_raw_CHAT/CHATM2_slide25_2018_01_18-S2_lossless_CHAT.tif\" -flip -rotate 270 \"/media/yuncong/Seagate Backup Plus Drive/CHATM2_rotated/CHATM2_lossless_CHAT/CHATM2_slide25_2018_01_18-S2_lossless_CHAT.tif\" \n",
      "convert \"/media/yuncong/Seagate Backup Plus Drive/CHATM2/CHATM2_raw_CHAT/CHATM2_slide25_2018_01_18-S3_lossless_CHAT.tif\" -flip -rotate 270 \"/media/yuncong/Seagate Backup Plus Drive/CHATM2_rotated/CHATM2_lossless_CHAT/CHATM2_slide25_2018_01_18-S3_lossless_CHAT.tif\" \n",
      "convert \"/media/yuncong/Seagate Backup Plus Drive/CHATM2/CHATM2_raw_CHAT/CHATM2_slide17_2018_01_18-S3_lossless_CHAT.tif\" -flip -rotate 270 \"/media/yuncong/Seagate Backup Plus Drive/CHATM2_rotated/CHATM2_lossless_CHAT/CHATM2_slide17_2018_01_18-S3_lossless_CHAT.tif\" \n",
      "convert \"/media/yuncong/Seagate Backup Plus Drive/CHATM2/CHATM2_raw_CHAT/CHATM2_slide25_2018_01_18-S1_lossless_CHAT.tif\" -flip -rotate 270 \"/media/yuncong/Seagate Backup Plus Drive/CHATM2_rotated/CHATM2_lossless_CHAT/CHATM2_slide25_2018_01_18-S1_lossless_CHAT.tif\" \n",
      "convert \"/media/yuncong/Seagate Backup Plus Drive/CHATM2/CHATM2_raw_CHAT/CHATM2_slide29_2018_01_18-S2_lossless_CHAT.tif\" -flip -rotate 270 \"/media/yuncong/Seagate Backup Plus Drive/CHATM2_rotated/CHATM2_lossless_CHAT/CHATM2_slide29_2018_01_18-S2_lossless_CHAT.tif\" \n",
      "convert \"/media/yuncong/Seagate Backup Plus Drive/CHATM2/CHATM2_raw_CHAT/CHATM2_slide29_2018_01_18-S3_lossless_CHAT.tif\" -flip -rotate 270 \"/media/yuncong/Seagate Backup Plus Drive/CHATM2_rotated/CHATM2_lossless_CHAT/CHATM2_slide29_2018_01_18-S3_lossless_CHAT.tif\" \n",
      "convert \"/media/yuncong/Seagate Backup Plus Drive/CHATM2/CHATM2_raw_CHAT/CHATM2_slide29_2018_01_18-S1_lossless_CHAT.tif\" -flip -rotate 270 \"/media/yuncong/Seagate Backup Plus Drive/CHATM2_rotated/CHATM2_lossless_CHAT/CHATM2_slide29_2018_01_18-S1_lossless_CHAT.tif\" \n",
      "convert \"/media/yuncong/Seagate Backup Plus Drive/CHATM2/CHATM2_raw_CHAT/CHATM2_slide31_2018_01_18-S1_lossless_CHAT.tif\" -flip -rotate 270 \"/media/yuncong/Seagate Backup Plus Drive/CHATM2_rotated/CHATM2_lossless_CHAT/CHATM2_slide31_2018_01_18-S1_lossless_CHAT.tif\" \n",
      "convert \"/media/yuncong/Seagate Backup Plus Drive/CHATM2/CHATM2_raw_CHAT/CHATM2_slide01_2018_01_18-S1_lossless_CHAT.tif\" -flip -rotate 270 \"/media/yuncong/Seagate Backup Plus Drive/CHATM2_rotated/CHATM2_lossless_CHAT/CHATM2_slide01_2018_01_18-S1_lossless_CHAT.tif\" \n",
      "convert \"/media/yuncong/Seagate Backup Plus Drive/CHATM2/CHATM2_raw_CHAT/CHATM2_slide01_2018_01_18-S2_lossless_CHAT.tif\" -flip -rotate 270 \"/media/yuncong/Seagate Backup Plus Drive/CHATM2_rotated/CHATM2_lossless_CHAT/CHATM2_slide01_2018_01_18-S2_lossless_CHAT.tif\" \n",
      "convert \"/media/yuncong/Seagate Backup Plus Drive/CHATM2/CHATM2_raw_CHAT/CHATM2_slide01_2018_01_18-S3_lossless_CHAT.tif\" -flip -rotate 270 \"/media/yuncong/Seagate Backup Plus Drive/CHATM2_rotated/CHATM2_lossless_CHAT/CHATM2_slide01_2018_01_18-S3_lossless_CHAT.tif\" \n",
      "convert \"/media/yuncong/Seagate Backup Plus Drive/CHATM2/CHATM2_raw_CHAT/CHATM2_slide20_2018_01_18-S3_lossless_CHAT.tif\" -flip -rotate 270 \"/media/yuncong/Seagate Backup Plus Drive/CHATM2_rotated/CHATM2_lossless_CHAT/CHATM2_slide20_2018_01_18-S3_lossless_CHAT.tif\" \n",
      "convert \"/media/yuncong/Seagate Backup Plus Drive/CHATM2/CHATM2_raw_CHAT/CHATM2_slide20_2018_01_18-S2_lossless_CHAT.tif\" -flip -rotate 270 \"/media/yuncong/Seagate Backup Plus Drive/CHATM2_rotated/CHATM2_lossless_CHAT/CHATM2_slide20_2018_01_18-S2_lossless_CHAT.tif\" \n",
      "convert \"/media/yuncong/Seagate Backup Plus Drive/CHATM2/CHATM2_raw_CHAT/CHATM2_slide20_2018_01_18-S1_lossless_CHAT.tif\" -flip -rotate 270 \"/media/yuncong/Seagate Backup Plus Drive/CHATM2_rotated/CHATM2_lossless_CHAT/CHATM2_slide20_2018_01_18-S1_lossless_CHAT.tif\" \n",
      "convert \"/media/yuncong/Seagate Backup Plus Drive/CHATM2/CHATM2_raw_CHAT/CHATM2_slide19_2018_01_18-S3_lossless_CHAT.tif\" -flip -rotate 270 \"/media/yuncong/Seagate Backup Plus Drive/CHATM2_rotated/CHATM2_lossless_CHAT/CHATM2_slide19_2018_01_18-S3_lossless_CHAT.tif\" \n",
      "convert \"/media/yuncong/Seagate Backup Plus Drive/CHATM2/CHATM2_raw_CHAT/CHATM2_slide19_2018_01_18-S2_lossless_CHAT.tif\" -flip -rotate 270 \"/media/yuncong/Seagate Backup Plus Drive/CHATM2_rotated/CHATM2_lossless_CHAT/CHATM2_slide19_2018_01_18-S2_lossless_CHAT.tif\" \n",
      "convert \"/media/yuncong/Seagate Backup Plus Drive/CHATM2/CHATM2_raw_CHAT/CHATM2_slide19_2018_01_18-S1_lossless_CHAT.tif\" -flip -rotate 270 \"/media/yuncong/Seagate Backup Plus Drive/CHATM2_rotated/CHATM2_lossless_CHAT/CHATM2_slide19_2018_01_18-S1_lossless_CHAT.tif\" \n",
      "convert \"/media/yuncong/Seagate Backup Plus Drive/CHATM2/CHATM2_raw_CHAT/CHATM2_slide06_2018_01_18-S3_lossless_CHAT.tif\" -flip -rotate 270 \"/media/yuncong/Seagate Backup Plus Drive/CHATM2_rotated/CHATM2_lossless_CHAT/CHATM2_slide06_2018_01_18-S3_lossless_CHAT.tif\" \n",
      "convert \"/media/yuncong/Seagate Backup Plus Drive/CHATM2/CHATM2_raw_CHAT/CHATM2_slide06_2018_01_18-S2_lossless_CHAT.tif\" -flip -rotate 270 \"/media/yuncong/Seagate Backup Plus Drive/CHATM2_rotated/CHATM2_lossless_CHAT/CHATM2_slide06_2018_01_18-S2_lossless_CHAT.tif\" \n",
      "convert \"/media/yuncong/Seagate Backup Plus Drive/CHATM2/CHATM2_raw_CHAT/CHATM2_slide06_2018_01_18-S1_lossless_CHAT.tif\" -flip -rotate 270 \"/media/yuncong/Seagate Backup Plus Drive/CHATM2_rotated/CHATM2_lossless_CHAT/CHATM2_slide06_2018_01_18-S1_lossless_CHAT.tif\" \n",
      "convert \"/media/yuncong/Seagate Backup Plus Drive/CHATM2/CHATM2_raw_CHAT/CHATM2_slide94_2018_02_13-S3_lossless_CHAT.tif\" -flip -rotate 270 \"/media/yuncong/Seagate Backup Plus Drive/CHATM2_rotated/CHATM2_lossless_CHAT/CHATM2_slide94_2018_02_13-S3_lossless_CHAT.tif\" \n",
      "convert \"/media/yuncong/Seagate Backup Plus Drive/CHATM2/CHATM2_raw_CHAT/CHATM2_slide88_2018_02_13-S2_lossless_CHAT.tif\" -flip -rotate 270 \"/media/yuncong/Seagate Backup Plus Drive/CHATM2_rotated/CHATM2_lossless_CHAT/CHATM2_slide88_2018_02_13-S2_lossless_CHAT.tif\" \n",
      "convert \"/media/yuncong/Seagate Backup Plus Drive/CHATM2/CHATM2_raw_CHAT/CHATM2_slide88_2018_02_13-S1_lossless_CHAT.tif\" -flip -rotate 270 \"/media/yuncong/Seagate Backup Plus Drive/CHATM2_rotated/CHATM2_lossless_CHAT/CHATM2_slide88_2018_02_13-S1_lossless_CHAT.tif\" \n",
      "convert \"/media/yuncong/Seagate Backup Plus Drive/CHATM2/CHATM2_raw_CHAT/CHATM2_slide24_2018_01_18-S3_lossless_CHAT.tif\" -flip -rotate 270 \"/media/yuncong/Seagate Backup Plus Drive/CHATM2_rotated/CHATM2_lossless_CHAT/CHATM2_slide24_2018_01_18-S3_lossless_CHAT.tif\" \n",
      "convert \"/media/yuncong/Seagate Backup Plus Drive/CHATM2/CHATM2_raw_CHAT/CHATM2_slide17_2018_01_18-S1_lossless_CHAT.tif\" -flip -rotate 270 \"/media/yuncong/Seagate Backup Plus Drive/CHATM2_rotated/CHATM2_lossless_CHAT/CHATM2_slide17_2018_01_18-S1_lossless_CHAT.tif\" \n",
      "convert \"/media/yuncong/Seagate Backup Plus Drive/CHATM2/CHATM2_raw_CHAT/CHATM2_slide24_2018_01_18-S1_lossless_CHAT.tif\" -flip -rotate 270 \"/media/yuncong/Seagate Backup Plus Drive/CHATM2_rotated/CHATM2_lossless_CHAT/CHATM2_slide24_2018_01_18-S1_lossless_CHAT.tif\" \n",
      "convert \"/media/yuncong/Seagate Backup Plus Drive/CHATM2/CHATM2_raw_CHAT/CHATM2_slide102_2018_02_13-S3_lossless_CHAT.tif\" -flip -rotate 270 \"/media/yuncong/Seagate Backup Plus Drive/CHATM2_rotated/CHATM2_lossless_CHAT/CHATM2_slide102_2018_02_13-S3_lossless_CHAT.tif\" \n",
      "convert \"/media/yuncong/Seagate Backup Plus Drive/CHATM2/CHATM2_raw_CHAT/CHATM2_slide90_2018_02_13-S1_lossless_CHAT.tif\" -flip -rotate 270 \"/media/yuncong/Seagate Backup Plus Drive/CHATM2_rotated/CHATM2_lossless_CHAT/CHATM2_slide90_2018_02_13-S1_lossless_CHAT.tif\" \n",
      "convert \"/media/yuncong/Seagate Backup Plus Drive/CHATM2/CHATM2_raw_CHAT/CHATM2_slide36_2018_01_22-S3_lossless_CHAT.tif\" -flip -rotate 270 \"/media/yuncong/Seagate Backup Plus Drive/CHATM2_rotated/CHATM2_lossless_CHAT/CHATM2_slide36_2018_01_22-S3_lossless_CHAT.tif\" \n",
      "convert \"/media/yuncong/Seagate Backup Plus Drive/CHATM2/CHATM2_raw_CHAT/CHATM2_slide36_2018_01_22-S2_lossless_CHAT.tif\" -flip -rotate 270 \"/media/yuncong/Seagate Backup Plus Drive/CHATM2_rotated/CHATM2_lossless_CHAT/CHATM2_slide36_2018_01_22-S2_lossless_CHAT.tif\" \n"
     ]
    },
    {
     "name": "stdout",
     "output_type": "stream",
     "text": [
      "convert \"/media/yuncong/Seagate Backup Plus Drive/CHATM2/CHATM2_raw_CHAT/CHATM2_slide36_2018_01_22-S1_lossless_CHAT.tif\" -flip -rotate 270 \"/media/yuncong/Seagate Backup Plus Drive/CHATM2_rotated/CHATM2_lossless_CHAT/CHATM2_slide36_2018_01_22-S1_lossless_CHAT.tif\" \n",
      "convert \"/media/yuncong/Seagate Backup Plus Drive/CHATM2/CHATM2_raw_CHAT/CHATM2_slide45_2018_01_22-S3_lossless_CHAT.tif\" -flip -rotate 270 \"/media/yuncong/Seagate Backup Plus Drive/CHATM2_rotated/CHATM2_lossless_CHAT/CHATM2_slide45_2018_01_22-S3_lossless_CHAT.tif\" \n",
      "convert \"/media/yuncong/Seagate Backup Plus Drive/CHATM2/CHATM2_raw_CHAT/CHATM2_slide17_2018_01_18-S2_lossless_CHAT.tif\" -flip -rotate 270 \"/media/yuncong/Seagate Backup Plus Drive/CHATM2_rotated/CHATM2_lossless_CHAT/CHATM2_slide17_2018_01_18-S2_lossless_CHAT.tif\" \n",
      "convert \"/media/yuncong/Seagate Backup Plus Drive/CHATM2/CHATM2_raw_CHAT/CHATM2_slide14_2018_01_18-S2_lossless_CHAT.tif\" -flip -rotate 270 \"/media/yuncong/Seagate Backup Plus Drive/CHATM2_rotated/CHATM2_lossless_CHAT/CHATM2_slide14_2018_01_18-S2_lossless_CHAT.tif\" \n",
      "convert \"/media/yuncong/Seagate Backup Plus Drive/CHATM2/CHATM2_raw_CHAT/CHATM2_slide14_2018_01_18-S3_lossless_CHAT.tif\" -flip -rotate 270 \"/media/yuncong/Seagate Backup Plus Drive/CHATM2_rotated/CHATM2_lossless_CHAT/CHATM2_slide14_2018_01_18-S3_lossless_CHAT.tif\" \n",
      "convert \"/media/yuncong/Seagate Backup Plus Drive/CHATM2/CHATM2_raw_CHAT/CHATM2_slide100_2018_02_13-S3_lossless_CHAT.tif\" -flip -rotate 270 \"/media/yuncong/Seagate Backup Plus Drive/CHATM2_rotated/CHATM2_lossless_CHAT/CHATM2_slide100_2018_02_13-S3_lossless_CHAT.tif\" \n",
      "convert \"/media/yuncong/Seagate Backup Plus Drive/CHATM2/CHATM2_raw_CHAT/CHATM2_slide14_2018_01_18-S1_lossless_CHAT.tif\" -flip -rotate 270 \"/media/yuncong/Seagate Backup Plus Drive/CHATM2_rotated/CHATM2_lossless_CHAT/CHATM2_slide14_2018_01_18-S1_lossless_CHAT.tif\" \n",
      "convert \"/media/yuncong/Seagate Backup Plus Drive/CHATM2/CHATM2_raw_CHAT/CHATM2_slide26_2018_01_18-S1_lossless_CHAT.tif\" -flip -rotate 270 \"/media/yuncong/Seagate Backup Plus Drive/CHATM2_rotated/CHATM2_lossless_CHAT/CHATM2_slide26_2018_01_18-S1_lossless_CHAT.tif\" \n",
      "convert \"/media/yuncong/Seagate Backup Plus Drive/CHATM2/CHATM2_raw_CHAT/CHATM2_slide26_2018_01_18-S3_lossless_CHAT.tif\" -flip -rotate 270 \"/media/yuncong/Seagate Backup Plus Drive/CHATM2_rotated/CHATM2_lossless_CHAT/CHATM2_slide26_2018_01_18-S3_lossless_CHAT.tif\" \n",
      "convert \"/media/yuncong/Seagate Backup Plus Drive/CHATM2/CHATM2_raw_CHAT/CHATM2_slide26_2018_01_18-S2_lossless_CHAT.tif\" -flip -rotate 270 \"/media/yuncong/Seagate Backup Plus Drive/CHATM2_rotated/CHATM2_lossless_CHAT/CHATM2_slide26_2018_01_18-S2_lossless_CHAT.tif\" \n",
      "convert \"/media/yuncong/Seagate Backup Plus Drive/CHATM2/CHATM2_raw_CHAT/CHATM2_slide86_2018_02_13-S1_lossless_CHAT.tif\" -flip -rotate 270 \"/media/yuncong/Seagate Backup Plus Drive/CHATM2_rotated/CHATM2_lossless_CHAT/CHATM2_slide86_2018_02_13-S1_lossless_CHAT.tif\" \n",
      "convert \"/media/yuncong/Seagate Backup Plus Drive/CHATM2/CHATM2_raw_CHAT/CHATM2_slide48_2018_01_22-S1_lossless_CHAT.tif\" -flip -rotate 270 \"/media/yuncong/Seagate Backup Plus Drive/CHATM2_rotated/CHATM2_lossless_CHAT/CHATM2_slide48_2018_01_22-S1_lossless_CHAT.tif\" \n",
      "convert \"/media/yuncong/Seagate Backup Plus Drive/CHATM2/CHATM2_raw_CHAT/CHATM2_slide38_2018_01_22-S1_lossless_CHAT.tif\" -flip -rotate 270 \"/media/yuncong/Seagate Backup Plus Drive/CHATM2_rotated/CHATM2_lossless_CHAT/CHATM2_slide38_2018_01_22-S1_lossless_CHAT.tif\" \n",
      "convert \"/media/yuncong/Seagate Backup Plus Drive/CHATM2/CHATM2_raw_CHAT/CHATM2_slide38_2018_01_22-S3_lossless_CHAT.tif\" -flip -rotate 270 \"/media/yuncong/Seagate Backup Plus Drive/CHATM2_rotated/CHATM2_lossless_CHAT/CHATM2_slide38_2018_01_22-S3_lossless_CHAT.tif\" \n",
      "convert \"/media/yuncong/Seagate Backup Plus Drive/CHATM2/CHATM2_raw_CHAT/CHATM2_slide38_2018_01_22-S2_lossless_CHAT.tif\" -flip -rotate 270 \"/media/yuncong/Seagate Backup Plus Drive/CHATM2_rotated/CHATM2_lossless_CHAT/CHATM2_slide38_2018_01_22-S2_lossless_CHAT.tif\" \n",
      "convert \"/media/yuncong/Seagate Backup Plus Drive/CHATM2/CHATM2_raw_CHAT/CHATM2_slide56_2018_01_22-S1_lossless_CHAT.tif\" -flip -rotate 270 \"/media/yuncong/Seagate Backup Plus Drive/CHATM2_rotated/CHATM2_lossless_CHAT/CHATM2_slide56_2018_01_22-S1_lossless_CHAT.tif\" \n",
      "convert \"/media/yuncong/Seagate Backup Plus Drive/CHATM2/CHATM2_raw_CHAT/CHATM2_slide48_2018_01_22-S2_lossless_CHAT.tif\" -flip -rotate 270 \"/media/yuncong/Seagate Backup Plus Drive/CHATM2_rotated/CHATM2_lossless_CHAT/CHATM2_slide48_2018_01_22-S2_lossless_CHAT.tif\" \n",
      "convert \"/media/yuncong/Seagate Backup Plus Drive/CHATM2/CHATM2_raw_CHAT/CHATM2_slide56_2018_01_22-S3_lossless_CHAT.tif\" -flip -rotate 270 \"/media/yuncong/Seagate Backup Plus Drive/CHATM2_rotated/CHATM2_lossless_CHAT/CHATM2_slide56_2018_01_22-S3_lossless_CHAT.tif\" \n",
      "convert \"/media/yuncong/Seagate Backup Plus Drive/CHATM2/CHATM2_raw_CHAT/CHATM2_slide56_2018_01_22-S2_lossless_CHAT.tif\" -flip -rotate 270 \"/media/yuncong/Seagate Backup Plus Drive/CHATM2_rotated/CHATM2_lossless_CHAT/CHATM2_slide56_2018_01_22-S2_lossless_CHAT.tif\" \n",
      "convert \"/media/yuncong/Seagate Backup Plus Drive/CHATM2/CHATM2_raw_Ntb/CHATM2_slide86_2018_02_13-S2_lossless_Ntb.tif\" -flip -rotate 270 \"/media/yuncong/Seagate Backup Plus Drive/CHATM2_rotated/CHATM2_lossless_Ntb/CHATM2_slide86_2018_02_13-S2_lossless_Ntb.tif\" \n",
      "convert \"/media/yuncong/Seagate Backup Plus Drive/CHATM2/CHATM2_raw_Ntb/CHATM2_slide48_2018_01_22-S3_lossless_Ntb.tif\" -flip -rotate 270 \"/media/yuncong/Seagate Backup Plus Drive/CHATM2_rotated/CHATM2_lossless_Ntb/CHATM2_slide48_2018_01_22-S3_lossless_Ntb.tif\" \n",
      "convert \"/media/yuncong/Seagate Backup Plus Drive/CHATM2/CHATM2_raw_Ntb/CHATM2_slide78_2018_02_14-S3_lossless_Ntb.tif\" -flip -rotate 270 \"/media/yuncong/Seagate Backup Plus Drive/CHATM2_rotated/CHATM2_lossless_Ntb/CHATM2_slide78_2018_02_14-S3_lossless_Ntb.tif\" \n",
      "convert \"/media/yuncong/Seagate Backup Plus Drive/CHATM2/CHATM2_raw_Ntb/CHATM2_slide78_2018_02_14-S2_lossless_Ntb.tif\" -flip -rotate 270 \"/media/yuncong/Seagate Backup Plus Drive/CHATM2_rotated/CHATM2_lossless_Ntb/CHATM2_slide78_2018_02_14-S2_lossless_Ntb.tif\" \n",
      "convert \"/media/yuncong/Seagate Backup Plus Drive/CHATM2/CHATM2_raw_Ntb/CHATM2_slide78_2018_02_14-S1_lossless_Ntb.tif\" -flip -rotate 270 \"/media/yuncong/Seagate Backup Plus Drive/CHATM2_rotated/CHATM2_lossless_Ntb/CHATM2_slide78_2018_02_14-S1_lossless_Ntb.tif\" \n",
      "convert \"/media/yuncong/Seagate Backup Plus Drive/CHATM2/CHATM2_raw_Ntb/CHATM2_slide96_2018_02_13-S2_lossless_Ntb.tif\" -flip -rotate 270 \"/media/yuncong/Seagate Backup Plus Drive/CHATM2_rotated/CHATM2_lossless_Ntb/CHATM2_slide96_2018_02_13-S2_lossless_Ntb.tif\" \n",
      "convert \"/media/yuncong/Seagate Backup Plus Drive/CHATM2/CHATM2_raw_Ntb/CHATM2_slide96_2018_02_13-S3_lossless_Ntb.tif\" -flip -rotate 270 \"/media/yuncong/Seagate Backup Plus Drive/CHATM2_rotated/CHATM2_lossless_Ntb/CHATM2_slide96_2018_02_13-S3_lossless_Ntb.tif\" \n",
      "convert \"/media/yuncong/Seagate Backup Plus Drive/CHATM2/CHATM2_raw_Ntb/CHATM2_slide96_2018_02_13-S1_lossless_Ntb.tif\" -flip -rotate 270 \"/media/yuncong/Seagate Backup Plus Drive/CHATM2_rotated/CHATM2_lossless_Ntb/CHATM2_slide96_2018_02_13-S1_lossless_Ntb.tif\" \n",
      "convert \"/media/yuncong/Seagate Backup Plus Drive/CHATM2/CHATM2_raw_Ntb/CHATM2_slide03_2018_01_18-S2_lossless_Ntb.tif\" -flip -rotate 270 \"/media/yuncong/Seagate Backup Plus Drive/CHATM2_rotated/CHATM2_lossless_Ntb/CHATM2_slide03_2018_01_18-S2_lossless_Ntb.tif\" \n",
      "convert \"/media/yuncong/Seagate Backup Plus Drive/CHATM2/CHATM2_raw_Ntb/CHATM2_slide03_2018_01_18-S3_lossless_Ntb.tif\" -flip -rotate 270 \"/media/yuncong/Seagate Backup Plus Drive/CHATM2_rotated/CHATM2_lossless_Ntb/CHATM2_slide03_2018_01_18-S3_lossless_Ntb.tif\" \n",
      "convert \"/media/yuncong/Seagate Backup Plus Drive/CHATM2/CHATM2_raw_Ntb/CHATM2_slide03_2018_01_18-S1_lossless_Ntb.tif\" -flip -rotate 270 \"/media/yuncong/Seagate Backup Plus Drive/CHATM2_rotated/CHATM2_lossless_Ntb/CHATM2_slide03_2018_01_18-S1_lossless_Ntb.tif\" \n",
      "convert \"/media/yuncong/Seagate Backup Plus Drive/CHATM2/CHATM2_raw_Ntb/CHATM2_slide98_2018_02_13-S1_lossless_Ntb.tif\" -flip -rotate 270 \"/media/yuncong/Seagate Backup Plus Drive/CHATM2_rotated/CHATM2_lossless_Ntb/CHATM2_slide98_2018_02_13-S1_lossless_Ntb.tif\" \n"
     ]
    },
    {
     "name": "stdout",
     "output_type": "stream",
     "text": [
      "convert \"/media/yuncong/Seagate Backup Plus Drive/CHATM2/CHATM2_raw_Ntb/CHATM2_slide98_2018_02_13-S2_lossless_Ntb.tif\" -flip -rotate 270 \"/media/yuncong/Seagate Backup Plus Drive/CHATM2_rotated/CHATM2_lossless_Ntb/CHATM2_slide98_2018_02_13-S2_lossless_Ntb.tif\" \n",
      "convert \"/media/yuncong/Seagate Backup Plus Drive/CHATM2/CHATM2_raw_Ntb/CHATM2_slide98_2018_02_13-S3_lossless_Ntb.tif\" -flip -rotate 270 \"/media/yuncong/Seagate Backup Plus Drive/CHATM2_rotated/CHATM2_lossless_Ntb/CHATM2_slide98_2018_02_13-S3_lossless_Ntb.tif\" \n",
      "convert \"/media/yuncong/Seagate Backup Plus Drive/CHATM2/CHATM2_raw_Ntb/CHATM2_slide12_2018_01_18-S1_lossless_Ntb.tif\" -flip -rotate 270 \"/media/yuncong/Seagate Backup Plus Drive/CHATM2_rotated/CHATM2_lossless_Ntb/CHATM2_slide12_2018_01_18-S1_lossless_Ntb.tif\" \n",
      "convert \"/media/yuncong/Seagate Backup Plus Drive/CHATM2/CHATM2_raw_Ntb/CHATM2_slide12_2018_01_18-S2_lossless_Ntb.tif\" -flip -rotate 270 \"/media/yuncong/Seagate Backup Plus Drive/CHATM2_rotated/CHATM2_lossless_Ntb/CHATM2_slide12_2018_01_18-S2_lossless_Ntb.tif\" \n",
      "convert \"/media/yuncong/Seagate Backup Plus Drive/CHATM2/CHATM2_raw_Ntb/CHATM2_slide12_2018_01_18-S3_lossless_Ntb.tif\" -flip -rotate 270 \"/media/yuncong/Seagate Backup Plus Drive/CHATM2_rotated/CHATM2_lossless_Ntb/CHATM2_slide12_2018_01_18-S3_lossless_Ntb.tif\" \n",
      "convert \"/media/yuncong/Seagate Backup Plus Drive/CHATM2/CHATM2_raw_Ntb/CHATM2_slide82_2018_02_14-S1_lossless_Ntb.tif\" -flip -rotate 270 \"/media/yuncong/Seagate Backup Plus Drive/CHATM2_rotated/CHATM2_lossless_Ntb/CHATM2_slide82_2018_02_14-S1_lossless_Ntb.tif\" \n",
      "convert \"/media/yuncong/Seagate Backup Plus Drive/CHATM2/CHATM2_raw_Ntb/CHATM2_slide41_2018_01_22-S1_lossless_Ntb.tif\" -flip -rotate 270 \"/media/yuncong/Seagate Backup Plus Drive/CHATM2_rotated/CHATM2_lossless_Ntb/CHATM2_slide41_2018_01_22-S1_lossless_Ntb.tif\" \n",
      "convert \"/media/yuncong/Seagate Backup Plus Drive/CHATM2/CHATM2_raw_Ntb/CHATM2_slide102_2018_02_13-S1_lossless_Ntb.tif\" -flip -rotate 270 \"/media/yuncong/Seagate Backup Plus Drive/CHATM2_rotated/CHATM2_lossless_Ntb/CHATM2_slide102_2018_02_13-S1_lossless_Ntb.tif\" \n",
      "convert \"/media/yuncong/Seagate Backup Plus Drive/CHATM2/CHATM2_raw_Ntb/CHATM2_slide41_2018_01_22-S3_lossless_Ntb.tif\" -flip -rotate 270 \"/media/yuncong/Seagate Backup Plus Drive/CHATM2_rotated/CHATM2_lossless_Ntb/CHATM2_slide41_2018_01_22-S3_lossless_Ntb.tif\" \n",
      "convert \"/media/yuncong/Seagate Backup Plus Drive/CHATM2/CHATM2_raw_Ntb/CHATM2_slide41_2018_01_22-S2_lossless_Ntb.tif\" -flip -rotate 270 \"/media/yuncong/Seagate Backup Plus Drive/CHATM2_rotated/CHATM2_lossless_Ntb/CHATM2_slide41_2018_01_22-S2_lossless_Ntb.tif\" \n",
      "convert \"/media/yuncong/Seagate Backup Plus Drive/CHATM2/CHATM2_raw_Ntb/CHATM2_slide106_2018_02_13-S3_lossless_Ntb.tif\" -flip -rotate 270 \"/media/yuncong/Seagate Backup Plus Drive/CHATM2_rotated/CHATM2_lossless_Ntb/CHATM2_slide106_2018_02_13-S3_lossless_Ntb.tif\" \n",
      "convert \"/media/yuncong/Seagate Backup Plus Drive/CHATM2/CHATM2_raw_Ntb/CHATM2_slide106_2018_02_13-S2_lossless_Ntb.tif\" -flip -rotate 270 \"/media/yuncong/Seagate Backup Plus Drive/CHATM2_rotated/CHATM2_lossless_Ntb/CHATM2_slide106_2018_02_13-S2_lossless_Ntb.tif\" \n",
      "convert \"/media/yuncong/Seagate Backup Plus Drive/CHATM2/CHATM2_raw_Ntb/CHATM2_slide106_2018_02_13-S1_lossless_Ntb.tif\" -flip -rotate 270 \"/media/yuncong/Seagate Backup Plus Drive/CHATM2_rotated/CHATM2_lossless_Ntb/CHATM2_slide106_2018_02_13-S1_lossless_Ntb.tif\" \n",
      "convert \"/media/yuncong/Seagate Backup Plus Drive/CHATM2/CHATM2_raw_Ntb/CHATM2_slide05_2018_01_18-S1_lossless_Ntb.tif\" -flip -rotate 270 \"/media/yuncong/Seagate Backup Plus Drive/CHATM2_rotated/CHATM2_lossless_Ntb/CHATM2_slide05_2018_01_18-S1_lossless_Ntb.tif\" \n",
      "convert \"/media/yuncong/Seagate Backup Plus Drive/CHATM2/CHATM2_raw_Ntb/CHATM2_slide32_2018_01_20-S1_lossless_Ntb.tif\" -flip -rotate 270 \"/media/yuncong/Seagate Backup Plus Drive/CHATM2_rotated/CHATM2_lossless_Ntb/CHATM2_slide32_2018_01_20-S1_lossless_Ntb.tif\" \n",
      "convert \"/media/yuncong/Seagate Backup Plus Drive/CHATM2/CHATM2_raw_Ntb/CHATM2_slide32_2018_01_20-S3_lossless_Ntb.tif\" -flip -rotate 270 \"/media/yuncong/Seagate Backup Plus Drive/CHATM2_rotated/CHATM2_lossless_Ntb/CHATM2_slide32_2018_01_20-S3_lossless_Ntb.tif\" \n",
      "convert \"/media/yuncong/Seagate Backup Plus Drive/CHATM2/CHATM2_raw_Ntb/CHATM2_slide32_2018_01_20-S2_lossless_Ntb.tif\" -flip -rotate 270 \"/media/yuncong/Seagate Backup Plus Drive/CHATM2_rotated/CHATM2_lossless_Ntb/CHATM2_slide32_2018_01_20-S2_lossless_Ntb.tif\" \n",
      "convert \"/media/yuncong/Seagate Backup Plus Drive/CHATM2/CHATM2_raw_Ntb/CHATM2_slide44_2018_01_22-S2_lossless_Ntb.tif\" -flip -rotate 270 \"/media/yuncong/Seagate Backup Plus Drive/CHATM2_rotated/CHATM2_lossless_Ntb/CHATM2_slide44_2018_01_22-S2_lossless_Ntb.tif\" \n",
      "convert \"/media/yuncong/Seagate Backup Plus Drive/CHATM2/CHATM2_raw_Ntb/CHATM2_slide07_2018_01_18-S2_lossless_Ntb.tif\" -flip -rotate 270 \"/media/yuncong/Seagate Backup Plus Drive/CHATM2_rotated/CHATM2_lossless_Ntb/CHATM2_slide07_2018_01_18-S2_lossless_Ntb.tif\" \n",
      "convert \"/media/yuncong/Seagate Backup Plus Drive/CHATM2/CHATM2_raw_Ntb/CHATM2_slide07_2018_01_18-S3_lossless_Ntb.tif\" -flip -rotate 270 \"/media/yuncong/Seagate Backup Plus Drive/CHATM2_rotated/CHATM2_lossless_Ntb/CHATM2_slide07_2018_01_18-S3_lossless_Ntb.tif\" \n",
      "convert \"/media/yuncong/Seagate Backup Plus Drive/CHATM2/CHATM2_raw_Ntb/CHATM2_slide07_2018_01_18-S1_lossless_Ntb.tif\" -flip -rotate 270 \"/media/yuncong/Seagate Backup Plus Drive/CHATM2_rotated/CHATM2_lossless_Ntb/CHATM2_slide07_2018_01_18-S1_lossless_Ntb.tif\" \n",
      "convert \"/media/yuncong/Seagate Backup Plus Drive/CHATM2/CHATM2_raw_Ntb/CHATM2_slide49_2018_01_22-S1_lossless_Ntb.tif\" -flip -rotate 270 \"/media/yuncong/Seagate Backup Plus Drive/CHATM2_rotated/CHATM2_lossless_Ntb/CHATM2_slide49_2018_01_22-S1_lossless_Ntb.tif\" \n",
      "convert \"/media/yuncong/Seagate Backup Plus Drive/CHATM2/CHATM2_raw_Ntb/CHATM2_slide76_2018_02_14-S3_lossless_Ntb.tif\" -flip -rotate 270 \"/media/yuncong/Seagate Backup Plus Drive/CHATM2_rotated/CHATM2_lossless_Ntb/CHATM2_slide76_2018_02_14-S3_lossless_Ntb.tif\" \n",
      "convert \"/media/yuncong/Seagate Backup Plus Drive/CHATM2/CHATM2_raw_Ntb/CHATM2_slide49_2018_01_22-S2_lossless_Ntb.tif\" -flip -rotate 270 \"/media/yuncong/Seagate Backup Plus Drive/CHATM2_rotated/CHATM2_lossless_Ntb/CHATM2_slide49_2018_01_22-S2_lossless_Ntb.tif\" \n",
      "convert \"/media/yuncong/Seagate Backup Plus Drive/CHATM2/CHATM2_raw_Ntb/CHATM2_slide70_2018_02_14-S3_lossless_Ntb.tif\" -flip -rotate 270 \"/media/yuncong/Seagate Backup Plus Drive/CHATM2_rotated/CHATM2_lossless_Ntb/CHATM2_slide70_2018_02_14-S3_lossless_Ntb.tif\" \n",
      "convert \"/media/yuncong/Seagate Backup Plus Drive/CHATM2/CHATM2_raw_Ntb/CHATM2_slide76_2018_02_14-S2_lossless_Ntb.tif\" -flip -rotate 270 \"/media/yuncong/Seagate Backup Plus Drive/CHATM2_rotated/CHATM2_lossless_Ntb/CHATM2_slide76_2018_02_14-S2_lossless_Ntb.tif\" \n",
      "convert \"/media/yuncong/Seagate Backup Plus Drive/CHATM2/CHATM2_raw_Ntb/CHATM2_slide102_2018_02_13-S2_lossless_Ntb.tif\" -flip -rotate 270 \"/media/yuncong/Seagate Backup Plus Drive/CHATM2_rotated/CHATM2_lossless_Ntb/CHATM2_slide102_2018_02_13-S2_lossless_Ntb.tif\" \n",
      "convert \"/media/yuncong/Seagate Backup Plus Drive/CHATM2/CHATM2_raw_Ntb/CHATM2_slide70_2018_02_14-S2_lossless_Ntb.tif\" -flip -rotate 270 \"/media/yuncong/Seagate Backup Plus Drive/CHATM2_rotated/CHATM2_lossless_Ntb/CHATM2_slide70_2018_02_14-S2_lossless_Ntb.tif\" \n",
      "convert \"/media/yuncong/Seagate Backup Plus Drive/CHATM2/CHATM2_raw_Ntb/CHATM2_slide70_2018_02_14-S1_lossless_Ntb.tif\" -flip -rotate 270 \"/media/yuncong/Seagate Backup Plus Drive/CHATM2_rotated/CHATM2_lossless_Ntb/CHATM2_slide70_2018_02_14-S1_lossless_Ntb.tif\" \n",
      "convert \"/media/yuncong/Seagate Backup Plus Drive/CHATM2/CHATM2_raw_Ntb/CHATM2_slide34_2018_01_20-S3_lossless_Ntb.tif\" -flip -rotate 270 \"/media/yuncong/Seagate Backup Plus Drive/CHATM2_rotated/CHATM2_lossless_Ntb/CHATM2_slide34_2018_01_20-S3_lossless_Ntb.tif\" \n",
      "convert \"/media/yuncong/Seagate Backup Plus Drive/CHATM2/CHATM2_raw_Ntb/CHATM2_slide34_2018_01_20-S2_lossless_Ntb.tif\" -flip -rotate 270 \"/media/yuncong/Seagate Backup Plus Drive/CHATM2_rotated/CHATM2_lossless_Ntb/CHATM2_slide34_2018_01_20-S2_lossless_Ntb.tif\" \n",
      "convert \"/media/yuncong/Seagate Backup Plus Drive/CHATM2/CHATM2_raw_Ntb/CHATM2_slide34_2018_01_20-S1_lossless_Ntb.tif\" -flip -rotate 270 \"/media/yuncong/Seagate Backup Plus Drive/CHATM2_rotated/CHATM2_lossless_Ntb/CHATM2_slide34_2018_01_20-S1_lossless_Ntb.tif\" \n"
     ]
    },
    {
     "name": "stdout",
     "output_type": "stream",
     "text": [
      "convert \"/media/yuncong/Seagate Backup Plus Drive/CHATM2/CHATM2_raw_Ntb/CHATM2_slide82_2018_02_14-S3_lossless_Ntb.tif\" -flip -rotate 270 \"/media/yuncong/Seagate Backup Plus Drive/CHATM2_rotated/CHATM2_lossless_Ntb/CHATM2_slide82_2018_02_14-S3_lossless_Ntb.tif\" \n",
      "convert \"/media/yuncong/Seagate Backup Plus Drive/CHATM2/CHATM2_raw_Ntb/CHATM2_slide84_2018_02_14-S2_lossless_Ntb.tif\" -flip -rotate 270 \"/media/yuncong/Seagate Backup Plus Drive/CHATM2_rotated/CHATM2_lossless_Ntb/CHATM2_slide84_2018_02_14-S2_lossless_Ntb.tif\" \n",
      "convert \"/media/yuncong/Seagate Backup Plus Drive/CHATM2/CHATM2_raw_Ntb/CHATM2_slide84_2018_02_14-S3_lossless_Ntb.tif\" -flip -rotate 270 \"/media/yuncong/Seagate Backup Plus Drive/CHATM2_rotated/CHATM2_lossless_Ntb/CHATM2_slide84_2018_02_14-S3_lossless_Ntb.tif\" \n",
      "convert \"/media/yuncong/Seagate Backup Plus Drive/CHATM2/CHATM2_raw_Ntb/CHATM2_slide51_2018_01_22-S2_lossless_Ntb.tif\" -flip -rotate 270 \"/media/yuncong/Seagate Backup Plus Drive/CHATM2_rotated/CHATM2_lossless_Ntb/CHATM2_slide51_2018_01_22-S2_lossless_Ntb.tif\" \n",
      "convert \"/media/yuncong/Seagate Backup Plus Drive/CHATM2/CHATM2_raw_Ntb/CHATM2_slide84_2018_02_14-S1_lossless_Ntb.tif\" -flip -rotate 270 \"/media/yuncong/Seagate Backup Plus Drive/CHATM2_rotated/CHATM2_lossless_Ntb/CHATM2_slide84_2018_02_14-S1_lossless_Ntb.tif\" \n",
      "convert \"/media/yuncong/Seagate Backup Plus Drive/CHATM2/CHATM2_raw_Ntb/CHATM2_slide64_2018_02_15-S3_lossless_Ntb.tif\" -flip -rotate 270 \"/media/yuncong/Seagate Backup Plus Drive/CHATM2_rotated/CHATM2_lossless_Ntb/CHATM2_slide64_2018_02_15-S3_lossless_Ntb.tif\" \n",
      "convert \"/media/yuncong/Seagate Backup Plus Drive/CHATM2/CHATM2_raw_Ntb/CHATM2_slide64_2018_02_15-S2_lossless_Ntb.tif\" -flip -rotate 270 \"/media/yuncong/Seagate Backup Plus Drive/CHATM2_rotated/CHATM2_lossless_Ntb/CHATM2_slide64_2018_02_15-S2_lossless_Ntb.tif\" \n",
      "convert \"/media/yuncong/Seagate Backup Plus Drive/CHATM2/CHATM2_raw_Ntb/CHATM2_slide64_2018_02_15-S1_lossless_Ntb.tif\" -flip -rotate 270 \"/media/yuncong/Seagate Backup Plus Drive/CHATM2_rotated/CHATM2_lossless_Ntb/CHATM2_slide64_2018_02_15-S1_lossless_Ntb.tif\" \n",
      "convert \"/media/yuncong/Seagate Backup Plus Drive/CHATM2/CHATM2_raw_Ntb/CHATM2_slide57_2018_01_22-S1_lossless_Ntb.tif\" -flip -rotate 270 \"/media/yuncong/Seagate Backup Plus Drive/CHATM2_rotated/CHATM2_lossless_Ntb/CHATM2_slide57_2018_01_22-S1_lossless_Ntb.tif\" \n",
      "convert \"/media/yuncong/Seagate Backup Plus Drive/CHATM2/CHATM2_raw_Ntb/CHATM2_slide57_2018_01_22-S2_lossless_Ntb.tif\" -flip -rotate 270 \"/media/yuncong/Seagate Backup Plus Drive/CHATM2_rotated/CHATM2_lossless_Ntb/CHATM2_slide57_2018_01_22-S2_lossless_Ntb.tif\" \n",
      "convert \"/media/yuncong/Seagate Backup Plus Drive/CHATM2/CHATM2_raw_Ntb/CHATM2_slide57_2018_01_22-S3_lossless_Ntb.tif\" -flip -rotate 270 \"/media/yuncong/Seagate Backup Plus Drive/CHATM2_rotated/CHATM2_lossless_Ntb/CHATM2_slide57_2018_01_22-S3_lossless_Ntb.tif\" \n",
      "convert \"/media/yuncong/Seagate Backup Plus Drive/CHATM2/CHATM2_raw_Ntb/CHATM2_slide23_2018_01_18-S1_lossless_Ntb.tif\" -flip -rotate 270 \"/media/yuncong/Seagate Backup Plus Drive/CHATM2_rotated/CHATM2_lossless_Ntb/CHATM2_slide23_2018_01_18-S1_lossless_Ntb.tif\" \n",
      "convert \"/media/yuncong/Seagate Backup Plus Drive/CHATM2/CHATM2_raw_Ntb/CHATM2_slide24_2018_01_18-S2_lossless_Ntb.tif\" -flip -rotate 270 \"/media/yuncong/Seagate Backup Plus Drive/CHATM2_rotated/CHATM2_lossless_Ntb/CHATM2_slide24_2018_01_18-S2_lossless_Ntb.tif\" \n",
      "convert \"/media/yuncong/Seagate Backup Plus Drive/CHATM2/CHATM2_raw_Ntb/CHATM2_slide23_2018_01_18-S3_lossless_Ntb.tif\" -flip -rotate 270 \"/media/yuncong/Seagate Backup Plus Drive/CHATM2_rotated/CHATM2_lossless_Ntb/CHATM2_slide23_2018_01_18-S3_lossless_Ntb.tif\" \n",
      "convert \"/media/yuncong/Seagate Backup Plus Drive/CHATM2/CHATM2_raw_Ntb/CHATM2_slide37_2018_01_22-S2_lossless_Ntb.tif\" -flip -rotate 270 \"/media/yuncong/Seagate Backup Plus Drive/CHATM2_rotated/CHATM2_lossless_Ntb/CHATM2_slide37_2018_01_22-S2_lossless_Ntb.tif\" \n",
      "convert \"/media/yuncong/Seagate Backup Plus Drive/CHATM2/CHATM2_raw_Ntb/CHATM2_slide37_2018_01_22-S3_lossless_Ntb.tif\" -flip -rotate 270 \"/media/yuncong/Seagate Backup Plus Drive/CHATM2_rotated/CHATM2_lossless_Ntb/CHATM2_slide37_2018_01_22-S3_lossless_Ntb.tif\" \n",
      "convert \"/media/yuncong/Seagate Backup Plus Drive/CHATM2/CHATM2_raw_Ntb/CHATM2_slide37_2018_01_22-S1_lossless_Ntb.tif\" -flip -rotate 270 \"/media/yuncong/Seagate Backup Plus Drive/CHATM2_rotated/CHATM2_lossless_Ntb/CHATM2_slide37_2018_01_22-S1_lossless_Ntb.tif\" \n",
      "convert \"/media/yuncong/Seagate Backup Plus Drive/CHATM2/CHATM2_raw_Ntb/CHATM2_slide11_2018_01_18-S3_lossless_Ntb.tif\" -flip -rotate 270 \"/media/yuncong/Seagate Backup Plus Drive/CHATM2_rotated/CHATM2_lossless_Ntb/CHATM2_slide11_2018_01_18-S3_lossless_Ntb.tif\" \n",
      "convert \"/media/yuncong/Seagate Backup Plus Drive/CHATM2/CHATM2_raw_Ntb/CHATM2_slide11_2018_01_18-S2_lossless_Ntb.tif\" -flip -rotate 270 \"/media/yuncong/Seagate Backup Plus Drive/CHATM2_rotated/CHATM2_lossless_Ntb/CHATM2_slide11_2018_01_18-S2_lossless_Ntb.tif\" \n",
      "convert \"/media/yuncong/Seagate Backup Plus Drive/CHATM2/CHATM2_raw_Ntb/CHATM2_slide11_2018_01_18-S1_lossless_Ntb.tif\" -flip -rotate 270 \"/media/yuncong/Seagate Backup Plus Drive/CHATM2_rotated/CHATM2_lossless_Ntb/CHATM2_slide11_2018_01_18-S1_lossless_Ntb.tif\" \n",
      "convert \"/media/yuncong/Seagate Backup Plus Drive/CHATM2/CHATM2_raw_Ntb/CHATM2_slide50_2018_01_22-S3_lossless_Ntb.tif\" -flip -rotate 270 \"/media/yuncong/Seagate Backup Plus Drive/CHATM2_rotated/CHATM2_lossless_Ntb/CHATM2_slide50_2018_01_22-S3_lossless_Ntb.tif\" \n",
      "convert \"/media/yuncong/Seagate Backup Plus Drive/CHATM2/CHATM2_raw_Ntb/CHATM2_slide50_2018_01_22-S2_lossless_Ntb.tif\" -flip -rotate 270 \"/media/yuncong/Seagate Backup Plus Drive/CHATM2_rotated/CHATM2_lossless_Ntb/CHATM2_slide50_2018_01_22-S2_lossless_Ntb.tif\" \n",
      "convert \"/media/yuncong/Seagate Backup Plus Drive/CHATM2/CHATM2_raw_Ntb/CHATM2_slide50_2018_01_22-S1_lossless_Ntb.tif\" -flip -rotate 270 \"/media/yuncong/Seagate Backup Plus Drive/CHATM2_rotated/CHATM2_lossless_Ntb/CHATM2_slide50_2018_01_22-S1_lossless_Ntb.tif\" \n",
      "convert \"/media/yuncong/Seagate Backup Plus Drive/CHATM2/CHATM2_raw_Ntb/CHATM2_slide51_2018_01_22-S3_lossless_Ntb.tif\" -flip -rotate 270 \"/media/yuncong/Seagate Backup Plus Drive/CHATM2_rotated/CHATM2_lossless_Ntb/CHATM2_slide51_2018_01_22-S3_lossless_Ntb.tif\" \n",
      "convert \"/media/yuncong/Seagate Backup Plus Drive/CHATM2/CHATM2_raw_Ntb/CHATM2_slide72_2018_02_14-S3_lossless_Ntb.tif\" -flip -rotate 270 \"/media/yuncong/Seagate Backup Plus Drive/CHATM2_rotated/CHATM2_lossless_Ntb/CHATM2_slide72_2018_02_14-S3_lossless_Ntb.tif\" \n",
      "convert \"/media/yuncong/Seagate Backup Plus Drive/CHATM2/CHATM2_raw_Ntb/CHATM2_slide27_2018_01_18-S1_lossless_Ntb.tif\" -flip -rotate 270 \"/media/yuncong/Seagate Backup Plus Drive/CHATM2_rotated/CHATM2_lossless_Ntb/CHATM2_slide27_2018_01_18-S1_lossless_Ntb.tif\" \n",
      "convert \"/media/yuncong/Seagate Backup Plus Drive/CHATM2/CHATM2_raw_Ntb/CHATM2_slide27_2018_01_18-S2_lossless_Ntb.tif\" -flip -rotate 270 \"/media/yuncong/Seagate Backup Plus Drive/CHATM2_rotated/CHATM2_lossless_Ntb/CHATM2_slide27_2018_01_18-S2_lossless_Ntb.tif\" \n",
      "convert \"/media/yuncong/Seagate Backup Plus Drive/CHATM2/CHATM2_raw_Ntb/CHATM2_slide27_2018_01_18-S3_lossless_Ntb.tif\" -flip -rotate 270 \"/media/yuncong/Seagate Backup Plus Drive/CHATM2_rotated/CHATM2_lossless_Ntb/CHATM2_slide27_2018_01_18-S3_lossless_Ntb.tif\" \n",
      "convert \"/media/yuncong/Seagate Backup Plus Drive/CHATM2/CHATM2_raw_Ntb/CHATM2_slide18_2018_01_18-S2_lossless_Ntb.tif\" -flip -rotate 270 \"/media/yuncong/Seagate Backup Plus Drive/CHATM2_rotated/CHATM2_lossless_Ntb/CHATM2_slide18_2018_01_18-S2_lossless_Ntb.tif\" \n",
      "convert \"/media/yuncong/Seagate Backup Plus Drive/CHATM2/CHATM2_raw_Ntb/CHATM2_slide18_2018_01_18-S3_lossless_Ntb.tif\" -flip -rotate 270 \"/media/yuncong/Seagate Backup Plus Drive/CHATM2_rotated/CHATM2_lossless_Ntb/CHATM2_slide18_2018_01_18-S3_lossless_Ntb.tif\" \n",
      "convert \"/media/yuncong/Seagate Backup Plus Drive/CHATM2/CHATM2_raw_Ntb/CHATM2_slide18_2018_01_18-S1_lossless_Ntb.tif\" -flip -rotate 270 \"/media/yuncong/Seagate Backup Plus Drive/CHATM2_rotated/CHATM2_lossless_Ntb/CHATM2_slide18_2018_01_18-S1_lossless_Ntb.tif\" \n",
      "convert \"/media/yuncong/Seagate Backup Plus Drive/CHATM2/CHATM2_raw_Ntb/CHATM2_slide90_2018_02_13-S3_lossless_Ntb.tif\" -flip -rotate 270 \"/media/yuncong/Seagate Backup Plus Drive/CHATM2_rotated/CHATM2_lossless_Ntb/CHATM2_slide90_2018_02_13-S3_lossless_Ntb.tif\" \n"
     ]
    },
    {
     "name": "stdout",
     "output_type": "stream",
     "text": [
      "convert \"/media/yuncong/Seagate Backup Plus Drive/CHATM2/CHATM2_raw_Ntb/CHATM2_slide08_2018_01_18-S1_lossless_Ntb.tif\" -flip -rotate 270 \"/media/yuncong/Seagate Backup Plus Drive/CHATM2_rotated/CHATM2_lossless_Ntb/CHATM2_slide08_2018_01_18-S1_lossless_Ntb.tif\" \n",
      "convert \"/media/yuncong/Seagate Backup Plus Drive/CHATM2/CHATM2_raw_Ntb/CHATM2_slide08_2018_01_18-S3_lossless_Ntb.tif\" -flip -rotate 270 \"/media/yuncong/Seagate Backup Plus Drive/CHATM2_rotated/CHATM2_lossless_Ntb/CHATM2_slide08_2018_01_18-S3_lossless_Ntb.tif\" \n",
      "convert \"/media/yuncong/Seagate Backup Plus Drive/CHATM2/CHATM2_raw_Ntb/CHATM2_slide08_2018_01_18-S2_lossless_Ntb.tif\" -flip -rotate 270 \"/media/yuncong/Seagate Backup Plus Drive/CHATM2_rotated/CHATM2_lossless_Ntb/CHATM2_slide08_2018_01_18-S2_lossless_Ntb.tif\" \n",
      "convert \"/media/yuncong/Seagate Backup Plus Drive/CHATM2/CHATM2_raw_Ntb/CHATM2_slide86_2018_02_13-S3_lossless_Ntb.tif\" -flip -rotate 270 \"/media/yuncong/Seagate Backup Plus Drive/CHATM2_rotated/CHATM2_lossless_Ntb/CHATM2_slide86_2018_02_13-S3_lossless_Ntb.tif\" \n",
      "convert \"/media/yuncong/Seagate Backup Plus Drive/CHATM2/CHATM2_raw_Ntb/CHATM2_slide45_2018_01_22-S1_lossless_Ntb.tif\" -flip -rotate 270 \"/media/yuncong/Seagate Backup Plus Drive/CHATM2_rotated/CHATM2_lossless_Ntb/CHATM2_slide45_2018_01_22-S1_lossless_Ntb.tif\" \n",
      "convert \"/media/yuncong/Seagate Backup Plus Drive/CHATM2/CHATM2_raw_Ntb/CHATM2_slide09_2018_01_18-S1_lossless_Ntb.tif\" -flip -rotate 270 \"/media/yuncong/Seagate Backup Plus Drive/CHATM2_rotated/CHATM2_lossless_Ntb/CHATM2_slide09_2018_01_18-S1_lossless_Ntb.tif\" \n",
      "convert \"/media/yuncong/Seagate Backup Plus Drive/CHATM2/CHATM2_raw_Ntb/CHATM2_slide09_2018_01_18-S2_lossless_Ntb.tif\" -flip -rotate 270 \"/media/yuncong/Seagate Backup Plus Drive/CHATM2_rotated/CHATM2_lossless_Ntb/CHATM2_slide09_2018_01_18-S2_lossless_Ntb.tif\" \n",
      "convert \"/media/yuncong/Seagate Backup Plus Drive/CHATM2/CHATM2_raw_Ntb/CHATM2_slide09_2018_01_18-S3_lossless_Ntb.tif\" -flip -rotate 270 \"/media/yuncong/Seagate Backup Plus Drive/CHATM2_rotated/CHATM2_lossless_Ntb/CHATM2_slide09_2018_01_18-S3_lossless_Ntb.tif\" \n",
      "convert \"/media/yuncong/Seagate Backup Plus Drive/CHATM2/CHATM2_raw_Ntb/CHATM2_slide44_2018_01_22-S1_lossless_Ntb.tif\" -flip -rotate 270 \"/media/yuncong/Seagate Backup Plus Drive/CHATM2_rotated/CHATM2_lossless_Ntb/CHATM2_slide44_2018_01_22-S1_lossless_Ntb.tif\" \n",
      "convert \"/media/yuncong/Seagate Backup Plus Drive/CHATM2/CHATM2_raw_Ntb/CHATM2_slide108_2018_02_13-S1_lossless_Ntb.tif\" -flip -rotate 270 \"/media/yuncong/Seagate Backup Plus Drive/CHATM2_rotated/CHATM2_lossless_Ntb/CHATM2_slide108_2018_02_13-S1_lossless_Ntb.tif\" \n",
      "convert \"/media/yuncong/Seagate Backup Plus Drive/CHATM2/CHATM2_raw_Ntb/CHATM2_slide23_2018_01_18-S2_lossless_Ntb.tif\" -flip -rotate 270 \"/media/yuncong/Seagate Backup Plus Drive/CHATM2_rotated/CHATM2_lossless_Ntb/CHATM2_slide23_2018_01_18-S2_lossless_Ntb.tif\" \n",
      "convert \"/media/yuncong/Seagate Backup Plus Drive/CHATM2/CHATM2_raw_Ntb/CHATM2_slide90_2018_02_13-S2_lossless_Ntb.tif\" -flip -rotate 270 \"/media/yuncong/Seagate Backup Plus Drive/CHATM2_rotated/CHATM2_lossless_Ntb/CHATM2_slide90_2018_02_13-S2_lossless_Ntb.tif\" \n",
      "convert \"/media/yuncong/Seagate Backup Plus Drive/CHATM2/CHATM2_raw_Ntb/CHATM2_slide05_2018_01_18-S3_lossless_Ntb.tif\" -flip -rotate 270 \"/media/yuncong/Seagate Backup Plus Drive/CHATM2_rotated/CHATM2_lossless_Ntb/CHATM2_slide05_2018_01_18-S3_lossless_Ntb.tif\" \n",
      "convert \"/media/yuncong/Seagate Backup Plus Drive/CHATM2/CHATM2_raw_Ntb/CHATM2_slide108_2018_02_13-S2_lossless_Ntb.tif\" -flip -rotate 270 \"/media/yuncong/Seagate Backup Plus Drive/CHATM2_rotated/CHATM2_lossless_Ntb/CHATM2_slide108_2018_02_13-S2_lossless_Ntb.tif\" \n",
      "convert \"/media/yuncong/Seagate Backup Plus Drive/CHATM2/CHATM2_raw_Ntb/CHATM2_slide100_2018_02_13-S1_lossless_Ntb.tif\" -flip -rotate 270 \"/media/yuncong/Seagate Backup Plus Drive/CHATM2_rotated/CHATM2_lossless_Ntb/CHATM2_slide100_2018_02_13-S1_lossless_Ntb.tif\" \n",
      "convert \"/media/yuncong/Seagate Backup Plus Drive/CHATM2/CHATM2_raw_Ntb/CHATM2_slide45_2018_01_22-S2_lossless_Ntb.tif\" -flip -rotate 270 \"/media/yuncong/Seagate Backup Plus Drive/CHATM2_rotated/CHATM2_lossless_Ntb/CHATM2_slide45_2018_01_22-S2_lossless_Ntb.tif\" \n",
      "convert \"/media/yuncong/Seagate Backup Plus Drive/CHATM2/CHATM2_raw_Ntb/CHATM2_slide92_2018_02_13-S2_lossless_Ntb.tif\" -flip -rotate 270 \"/media/yuncong/Seagate Backup Plus Drive/CHATM2_rotated/CHATM2_lossless_Ntb/CHATM2_slide92_2018_02_13-S2_lossless_Ntb.tif\" \n",
      "convert \"/media/yuncong/Seagate Backup Plus Drive/CHATM2/CHATM2_raw_Ntb/CHATM2_slide92_2018_02_13-S3_lossless_Ntb.tif\" -flip -rotate 270 \"/media/yuncong/Seagate Backup Plus Drive/CHATM2_rotated/CHATM2_lossless_Ntb/CHATM2_slide92_2018_02_13-S3_lossless_Ntb.tif\" \n",
      "convert \"/media/yuncong/Seagate Backup Plus Drive/CHATM2/CHATM2_raw_Ntb/CHATM2_slide92_2018_02_13-S1_lossless_Ntb.tif\" -flip -rotate 270 \"/media/yuncong/Seagate Backup Plus Drive/CHATM2_rotated/CHATM2_lossless_Ntb/CHATM2_slide92_2018_02_13-S1_lossless_Ntb.tif\" \n",
      "convert \"/media/yuncong/Seagate Backup Plus Drive/CHATM2/CHATM2_raw_Ntb/CHATM2_slide28_2018_01_18-S3_lossless_Ntb.tif\" -flip -rotate 270 \"/media/yuncong/Seagate Backup Plus Drive/CHATM2_rotated/CHATM2_lossless_Ntb/CHATM2_slide28_2018_01_18-S3_lossless_Ntb.tif\" \n",
      "convert \"/media/yuncong/Seagate Backup Plus Drive/CHATM2/CHATM2_raw_Ntb/CHATM2_slide28_2018_01_18-S2_lossless_Ntb.tif\" -flip -rotate 270 \"/media/yuncong/Seagate Backup Plus Drive/CHATM2_rotated/CHATM2_lossless_Ntb/CHATM2_slide28_2018_01_18-S2_lossless_Ntb.tif\" \n",
      "convert \"/media/yuncong/Seagate Backup Plus Drive/CHATM2/CHATM2_raw_Ntb/CHATM2_slide28_2018_01_18-S1_lossless_Ntb.tif\" -flip -rotate 270 \"/media/yuncong/Seagate Backup Plus Drive/CHATM2_rotated/CHATM2_lossless_Ntb/CHATM2_slide28_2018_01_18-S1_lossless_Ntb.tif\" \n",
      "convert \"/media/yuncong/Seagate Backup Plus Drive/CHATM2/CHATM2_raw_Ntb/CHATM2_slide44_2018_01_22-S3_lossless_Ntb.tif\" -flip -rotate 270 \"/media/yuncong/Seagate Backup Plus Drive/CHATM2_rotated/CHATM2_lossless_Ntb/CHATM2_slide44_2018_01_22-S3_lossless_Ntb.tif\" \n",
      "convert \"/media/yuncong/Seagate Backup Plus Drive/CHATM2/CHATM2_raw_Ntb/CHATM2_slide80_2018_02_14-S2_lossless_Ntb.tif\" -flip -rotate 270 \"/media/yuncong/Seagate Backup Plus Drive/CHATM2_rotated/CHATM2_lossless_Ntb/CHATM2_slide80_2018_02_14-S2_lossless_Ntb.tif\" \n",
      "convert \"/media/yuncong/Seagate Backup Plus Drive/CHATM2/CHATM2_raw_Ntb/CHATM2_slide80_2018_02_14-S3_lossless_Ntb.tif\" -flip -rotate 270 \"/media/yuncong/Seagate Backup Plus Drive/CHATM2_rotated/CHATM2_lossless_Ntb/CHATM2_slide80_2018_02_14-S3_lossless_Ntb.tif\" \n",
      "convert \"/media/yuncong/Seagate Backup Plus Drive/CHATM2/CHATM2_raw_Ntb/CHATM2_slide80_2018_02_14-S1_lossless_Ntb.tif\" -flip -rotate 270 \"/media/yuncong/Seagate Backup Plus Drive/CHATM2_rotated/CHATM2_lossless_Ntb/CHATM2_slide80_2018_02_14-S1_lossless_Ntb.tif\" \n",
      "convert \"/media/yuncong/Seagate Backup Plus Drive/CHATM2/CHATM2_raw_Ntb/CHATM2_slide104_2018_02_13-S2_lossless_Ntb.tif\" -flip -rotate 270 \"/media/yuncong/Seagate Backup Plus Drive/CHATM2_rotated/CHATM2_lossless_Ntb/CHATM2_slide104_2018_02_13-S2_lossless_Ntb.tif\" \n",
      "convert \"/media/yuncong/Seagate Backup Plus Drive/CHATM2/CHATM2_raw_Ntb/CHATM2_slide10_2018_01_18-S2_lossless_Ntb.tif\" -flip -rotate 270 \"/media/yuncong/Seagate Backup Plus Drive/CHATM2_rotated/CHATM2_lossless_Ntb/CHATM2_slide10_2018_01_18-S2_lossless_Ntb.tif\" \n",
      "convert \"/media/yuncong/Seagate Backup Plus Drive/CHATM2/CHATM2_raw_Ntb/CHATM2_slide10_2018_01_18-S3_lossless_Ntb.tif\" -flip -rotate 270 \"/media/yuncong/Seagate Backup Plus Drive/CHATM2_rotated/CHATM2_lossless_Ntb/CHATM2_slide10_2018_01_18-S3_lossless_Ntb.tif\" \n",
      "convert \"/media/yuncong/Seagate Backup Plus Drive/CHATM2/CHATM2_raw_Ntb/CHATM2_slide10_2018_01_18-S1_lossless_Ntb.tif\" -flip -rotate 270 \"/media/yuncong/Seagate Backup Plus Drive/CHATM2_rotated/CHATM2_lossless_Ntb/CHATM2_slide10_2018_01_18-S1_lossless_Ntb.tif\" \n",
      "convert \"/media/yuncong/Seagate Backup Plus Drive/CHATM2/CHATM2_raw_Ntb/CHATM2_slide15_2018_01_18-S3_lossless_Ntb.tif\" -flip -rotate 270 \"/media/yuncong/Seagate Backup Plus Drive/CHATM2_rotated/CHATM2_lossless_Ntb/CHATM2_slide15_2018_01_18-S3_lossless_Ntb.tif\" \n",
      "convert \"/media/yuncong/Seagate Backup Plus Drive/CHATM2/CHATM2_raw_Ntb/CHATM2_slide15_2018_01_18-S2_lossless_Ntb.tif\" -flip -rotate 270 \"/media/yuncong/Seagate Backup Plus Drive/CHATM2_rotated/CHATM2_lossless_Ntb/CHATM2_slide15_2018_01_18-S2_lossless_Ntb.tif\" \n"
     ]
    },
    {
     "name": "stdout",
     "output_type": "stream",
     "text": [
      "convert \"/media/yuncong/Seagate Backup Plus Drive/CHATM2/CHATM2_raw_Ntb/CHATM2_slide15_2018_01_18-S1_lossless_Ntb.tif\" -flip -rotate 270 \"/media/yuncong/Seagate Backup Plus Drive/CHATM2_rotated/CHATM2_lossless_Ntb/CHATM2_slide15_2018_01_18-S1_lossless_Ntb.tif\" \n",
      "convert \"/media/yuncong/Seagate Backup Plus Drive/CHATM2/CHATM2_raw_Ntb/CHATM2_slide76_2018_02_14-S1_lossless_Ntb.tif\" -flip -rotate 270 \"/media/yuncong/Seagate Backup Plus Drive/CHATM2_rotated/CHATM2_lossless_Ntb/CHATM2_slide76_2018_02_14-S1_lossless_Ntb.tif\" \n",
      "convert \"/media/yuncong/Seagate Backup Plus Drive/CHATM2/CHATM2_raw_Ntb/CHATM2_slide33_2018_01_20-S1_lossless_Ntb.tif\" -flip -rotate 270 \"/media/yuncong/Seagate Backup Plus Drive/CHATM2_rotated/CHATM2_lossless_Ntb/CHATM2_slide33_2018_01_20-S1_lossless_Ntb.tif\" \n",
      "convert \"/media/yuncong/Seagate Backup Plus Drive/CHATM2/CHATM2_raw_Ntb/CHATM2_slide33_2018_01_20-S2_lossless_Ntb.tif\" -flip -rotate 270 \"/media/yuncong/Seagate Backup Plus Drive/CHATM2_rotated/CHATM2_lossless_Ntb/CHATM2_slide33_2018_01_20-S2_lossless_Ntb.tif\" \n",
      "convert \"/media/yuncong/Seagate Backup Plus Drive/CHATM2/CHATM2_raw_Ntb/CHATM2_slide33_2018_01_20-S3_lossless_Ntb.tif\" -flip -rotate 270 \"/media/yuncong/Seagate Backup Plus Drive/CHATM2_rotated/CHATM2_lossless_Ntb/CHATM2_slide33_2018_01_20-S3_lossless_Ntb.tif\" \n",
      "convert \"/media/yuncong/Seagate Backup Plus Drive/CHATM2/CHATM2_raw_Ntb/CHATM2_slide31_2018_01_19-S2_lossless_Ntb.tif\" -flip -rotate 270 \"/media/yuncong/Seagate Backup Plus Drive/CHATM2_rotated/CHATM2_lossless_Ntb/CHATM2_slide31_2018_01_19-S2_lossless_Ntb.tif\" \n",
      "convert \"/media/yuncong/Seagate Backup Plus Drive/CHATM2/CHATM2_raw_Ntb/CHATM2_slide31_2018_01_19-S3_lossless_Ntb.tif\" -flip -rotate 270 \"/media/yuncong/Seagate Backup Plus Drive/CHATM2_rotated/CHATM2_lossless_Ntb/CHATM2_slide31_2018_01_19-S3_lossless_Ntb.tif\" \n",
      "convert \"/media/yuncong/Seagate Backup Plus Drive/CHATM2/CHATM2_raw_Ntb/CHATM2_slide53_2018_01_22-S1_lossless_Ntb.tif\" -flip -rotate 270 \"/media/yuncong/Seagate Backup Plus Drive/CHATM2_rotated/CHATM2_lossless_Ntb/CHATM2_slide53_2018_01_22-S1_lossless_Ntb.tif\" \n",
      "convert \"/media/yuncong/Seagate Backup Plus Drive/CHATM2/CHATM2_raw_Ntb/CHATM2_slide53_2018_01_22-S2_lossless_Ntb.tif\" -flip -rotate 270 \"/media/yuncong/Seagate Backup Plus Drive/CHATM2_rotated/CHATM2_lossless_Ntb/CHATM2_slide53_2018_01_22-S2_lossless_Ntb.tif\" \n",
      "convert \"/media/yuncong/Seagate Backup Plus Drive/CHATM2/CHATM2_raw_Ntb/CHATM2_slide53_2018_01_22-S3_lossless_Ntb.tif\" -flip -rotate 270 \"/media/yuncong/Seagate Backup Plus Drive/CHATM2_rotated/CHATM2_lossless_Ntb/CHATM2_slide53_2018_01_22-S3_lossless_Ntb.tif\" \n",
      "convert \"/media/yuncong/Seagate Backup Plus Drive/CHATM2/CHATM2_raw_Ntb/CHATM2_slide62_2018_02_14-S2_lossless_Ntb.tif\" -flip -rotate 270 \"/media/yuncong/Seagate Backup Plus Drive/CHATM2_rotated/CHATM2_lossless_Ntb/CHATM2_slide62_2018_02_14-S2_lossless_Ntb.tif\" \n",
      "convert \"/media/yuncong/Seagate Backup Plus Drive/CHATM2/CHATM2_raw_Ntb/CHATM2_slide62_2018_02_14-S3_lossless_Ntb.tif\" -flip -rotate 270 \"/media/yuncong/Seagate Backup Plus Drive/CHATM2_rotated/CHATM2_lossless_Ntb/CHATM2_slide62_2018_02_14-S3_lossless_Ntb.tif\" \n",
      "convert \"/media/yuncong/Seagate Backup Plus Drive/CHATM2/CHATM2_raw_Ntb/CHATM2_slide62_2018_02_14-S1_lossless_Ntb.tif\" -flip -rotate 270 \"/media/yuncong/Seagate Backup Plus Drive/CHATM2_rotated/CHATM2_lossless_Ntb/CHATM2_slide62_2018_02_14-S1_lossless_Ntb.tif\" \n",
      "convert \"/media/yuncong/Seagate Backup Plus Drive/CHATM2/CHATM2_raw_Ntb/CHATM2_slide66_2018_02_14-S2_lossless_Ntb.tif\" -flip -rotate 270 \"/media/yuncong/Seagate Backup Plus Drive/CHATM2_rotated/CHATM2_lossless_Ntb/CHATM2_slide66_2018_02_14-S2_lossless_Ntb.tif\" \n",
      "convert \"/media/yuncong/Seagate Backup Plus Drive/CHATM2/CHATM2_raw_Ntb/CHATM2_slide66_2018_02_14-S3_lossless_Ntb.tif\" -flip -rotate 270 \"/media/yuncong/Seagate Backup Plus Drive/CHATM2_rotated/CHATM2_lossless_Ntb/CHATM2_slide66_2018_02_14-S3_lossless_Ntb.tif\" \n",
      "convert \"/media/yuncong/Seagate Backup Plus Drive/CHATM2/CHATM2_raw_Ntb/CHATM2_slide108_2018_02_13-S3_lossless_Ntb.tif\" -flip -rotate 270 \"/media/yuncong/Seagate Backup Plus Drive/CHATM2_rotated/CHATM2_lossless_Ntb/CHATM2_slide108_2018_02_13-S3_lossless_Ntb.tif\" \n",
      "convert \"/media/yuncong/Seagate Backup Plus Drive/CHATM2/CHATM2_raw_Ntb/CHATM2_slide66_2018_02_14-S1_lossless_Ntb.tif\" -flip -rotate 270 \"/media/yuncong/Seagate Backup Plus Drive/CHATM2_rotated/CHATM2_lossless_Ntb/CHATM2_slide66_2018_02_14-S1_lossless_Ntb.tif\" \n",
      "convert \"/media/yuncong/Seagate Backup Plus Drive/CHATM2/CHATM2_raw_Ntb/CHATM2_slide74_2018_02_14-S3_lossless_Ntb.tif\" -flip -rotate 270 \"/media/yuncong/Seagate Backup Plus Drive/CHATM2_rotated/CHATM2_lossless_Ntb/CHATM2_slide74_2018_02_14-S3_lossless_Ntb.tif\" \n",
      "convert \"/media/yuncong/Seagate Backup Plus Drive/CHATM2/CHATM2_raw_Ntb/CHATM2_slide74_2018_02_14-S2_lossless_Ntb.tif\" -flip -rotate 270 \"/media/yuncong/Seagate Backup Plus Drive/CHATM2_rotated/CHATM2_lossless_Ntb/CHATM2_slide74_2018_02_14-S2_lossless_Ntb.tif\" \n",
      "convert \"/media/yuncong/Seagate Backup Plus Drive/CHATM2/CHATM2_raw_Ntb/CHATM2_slide74_2018_02_14-S1_lossless_Ntb.tif\" -flip -rotate 270 \"/media/yuncong/Seagate Backup Plus Drive/CHATM2_rotated/CHATM2_lossless_Ntb/CHATM2_slide74_2018_02_14-S1_lossless_Ntb.tif\" \n",
      "convert \"/media/yuncong/Seagate Backup Plus Drive/CHATM2/CHATM2_raw_Ntb/CHATM2_slide30_2018_01_18-S1_lossless_Ntb.tif\" -flip -rotate 270 \"/media/yuncong/Seagate Backup Plus Drive/CHATM2_rotated/CHATM2_lossless_Ntb/CHATM2_slide30_2018_01_18-S1_lossless_Ntb.tif\" \n",
      "convert \"/media/yuncong/Seagate Backup Plus Drive/CHATM2/CHATM2_raw_Ntb/CHATM2_slide30_2018_01_18-S2_lossless_Ntb.tif\" -flip -rotate 270 \"/media/yuncong/Seagate Backup Plus Drive/CHATM2_rotated/CHATM2_lossless_Ntb/CHATM2_slide30_2018_01_18-S2_lossless_Ntb.tif\" \n",
      "convert \"/media/yuncong/Seagate Backup Plus Drive/CHATM2/CHATM2_raw_Ntb/CHATM2_slide30_2018_01_18-S3_lossless_Ntb.tif\" -flip -rotate 270 \"/media/yuncong/Seagate Backup Plus Drive/CHATM2_rotated/CHATM2_lossless_Ntb/CHATM2_slide30_2018_01_18-S3_lossless_Ntb.tif\" \n",
      "convert \"/media/yuncong/Seagate Backup Plus Drive/CHATM2/CHATM2_raw_Ntb/CHATM2_slide42_2018_01_22-S2_lossless_Ntb.tif\" -flip -rotate 270 \"/media/yuncong/Seagate Backup Plus Drive/CHATM2_rotated/CHATM2_lossless_Ntb/CHATM2_slide42_2018_01_22-S2_lossless_Ntb.tif\" \n",
      "convert \"/media/yuncong/Seagate Backup Plus Drive/CHATM2/CHATM2_raw_Ntb/CHATM2_slide42_2018_01_22-S3_lossless_Ntb.tif\" -flip -rotate 270 \"/media/yuncong/Seagate Backup Plus Drive/CHATM2_rotated/CHATM2_lossless_Ntb/CHATM2_slide42_2018_01_22-S3_lossless_Ntb.tif\" \n",
      "convert \"/media/yuncong/Seagate Backup Plus Drive/CHATM2/CHATM2_raw_Ntb/CHATM2_slide68_2018_02_14-S2_lossless_Ntb.tif\" -flip -rotate 270 \"/media/yuncong/Seagate Backup Plus Drive/CHATM2_rotated/CHATM2_lossless_Ntb/CHATM2_slide68_2018_02_14-S2_lossless_Ntb.tif\" \n",
      "convert \"/media/yuncong/Seagate Backup Plus Drive/CHATM2/CHATM2_raw_Ntb/CHATM2_slide42_2018_01_22-S1_lossless_Ntb.tif\" -flip -rotate 270 \"/media/yuncong/Seagate Backup Plus Drive/CHATM2_rotated/CHATM2_lossless_Ntb/CHATM2_slide42_2018_01_22-S1_lossless_Ntb.tif\" \n",
      "convert \"/media/yuncong/Seagate Backup Plus Drive/CHATM2/CHATM2_raw_Ntb/CHATM2_slide68_2018_02_14-S1_lossless_Ntb.tif\" -flip -rotate 270 \"/media/yuncong/Seagate Backup Plus Drive/CHATM2_rotated/CHATM2_lossless_Ntb/CHATM2_slide68_2018_02_14-S1_lossless_Ntb.tif\" \n",
      "convert \"/media/yuncong/Seagate Backup Plus Drive/CHATM2/CHATM2_raw_Ntb/CHATM2_slide02_2018_01_18-S3_lossless_Ntb.tif\" -flip -rotate 270 \"/media/yuncong/Seagate Backup Plus Drive/CHATM2_rotated/CHATM2_lossless_Ntb/CHATM2_slide02_2018_01_18-S3_lossless_Ntb.tif\" \n",
      "convert \"/media/yuncong/Seagate Backup Plus Drive/CHATM2/CHATM2_raw_Ntb/CHATM2_slide02_2018_01_18-S2_lossless_Ntb.tif\" -flip -rotate 270 \"/media/yuncong/Seagate Backup Plus Drive/CHATM2_rotated/CHATM2_lossless_Ntb/CHATM2_slide02_2018_01_18-S2_lossless_Ntb.tif\" \n",
      "convert \"/media/yuncong/Seagate Backup Plus Drive/CHATM2/CHATM2_raw_Ntb/CHATM2_slide02_2018_01_18-S1_lossless_Ntb.tif\" -flip -rotate 270 \"/media/yuncong/Seagate Backup Plus Drive/CHATM2_rotated/CHATM2_lossless_Ntb/CHATM2_slide02_2018_01_18-S1_lossless_Ntb.tif\" \n",
      "convert \"/media/yuncong/Seagate Backup Plus Drive/CHATM2/CHATM2_raw_Ntb/CHATM2_slide72_2018_02_14-S2_lossless_Ntb.tif\" -flip -rotate 270 \"/media/yuncong/Seagate Backup Plus Drive/CHATM2_rotated/CHATM2_lossless_Ntb/CHATM2_slide72_2018_02_14-S2_lossless_Ntb.tif\" \n"
     ]
    },
    {
     "name": "stdout",
     "output_type": "stream",
     "text": [
      "convert \"/media/yuncong/Seagate Backup Plus Drive/CHATM2/CHATM2_raw_Ntb/CHATM2_slide88_2018_02_13-S3_lossless_Ntb.tif\" -flip -rotate 270 \"/media/yuncong/Seagate Backup Plus Drive/CHATM2_rotated/CHATM2_lossless_Ntb/CHATM2_slide88_2018_02_13-S3_lossless_Ntb.tif\" \n",
      "convert \"/media/yuncong/Seagate Backup Plus Drive/CHATM2/CHATM2_raw_Ntb/CHATM2_slide13_2018_01_19-S2_lossless_Ntb.tif\" -flip -rotate 270 \"/media/yuncong/Seagate Backup Plus Drive/CHATM2_rotated/CHATM2_lossless_Ntb/CHATM2_slide13_2018_01_19-S2_lossless_Ntb.tif\" \n",
      "convert \"/media/yuncong/Seagate Backup Plus Drive/CHATM2/CHATM2_raw_Ntb/CHATM2_slide13_2018_01_19-S3_lossless_Ntb.tif\" -flip -rotate 270 \"/media/yuncong/Seagate Backup Plus Drive/CHATM2_rotated/CHATM2_lossless_Ntb/CHATM2_slide13_2018_01_19-S3_lossless_Ntb.tif\" \n",
      "convert \"/media/yuncong/Seagate Backup Plus Drive/CHATM2/CHATM2_raw_Ntb/CHATM2_slide13_2018_01_19-S1_lossless_Ntb.tif\" -flip -rotate 270 \"/media/yuncong/Seagate Backup Plus Drive/CHATM2_rotated/CHATM2_lossless_Ntb/CHATM2_slide13_2018_01_19-S1_lossless_Ntb.tif\" \n",
      "convert \"/media/yuncong/Seagate Backup Plus Drive/CHATM2/CHATM2_raw_Ntb/CHATM2_slide22_2018_01_19-S2_lossless_Ntb.tif\" -flip -rotate 270 \"/media/yuncong/Seagate Backup Plus Drive/CHATM2_rotated/CHATM2_lossless_Ntb/CHATM2_slide22_2018_01_19-S2_lossless_Ntb.tif\" \n",
      "convert \"/media/yuncong/Seagate Backup Plus Drive/CHATM2/CHATM2_raw_Ntb/CHATM2_slide22_2018_01_19-S3_lossless_Ntb.tif\" -flip -rotate 270 \"/media/yuncong/Seagate Backup Plus Drive/CHATM2_rotated/CHATM2_lossless_Ntb/CHATM2_slide22_2018_01_19-S3_lossless_Ntb.tif\" \n",
      "convert \"/media/yuncong/Seagate Backup Plus Drive/CHATM2/CHATM2_raw_Ntb/CHATM2_slide22_2018_01_19-S1_lossless_Ntb.tif\" -flip -rotate 270 \"/media/yuncong/Seagate Backup Plus Drive/CHATM2_rotated/CHATM2_lossless_Ntb/CHATM2_slide22_2018_01_19-S1_lossless_Ntb.tif\" \n",
      "convert \"/media/yuncong/Seagate Backup Plus Drive/CHATM2/CHATM2_raw_Ntb/CHATM2_slide21_2018_01_18-S2_lossless_Ntb.tif\" -flip -rotate 270 \"/media/yuncong/Seagate Backup Plus Drive/CHATM2_rotated/CHATM2_lossless_Ntb/CHATM2_slide21_2018_01_18-S2_lossless_Ntb.tif\" \n",
      "convert \"/media/yuncong/Seagate Backup Plus Drive/CHATM2/CHATM2_raw_Ntb/CHATM2_slide21_2018_01_18-S3_lossless_Ntb.tif\" -flip -rotate 270 \"/media/yuncong/Seagate Backup Plus Drive/CHATM2_rotated/CHATM2_lossless_Ntb/CHATM2_slide21_2018_01_18-S3_lossless_Ntb.tif\" \n",
      "convert \"/media/yuncong/Seagate Backup Plus Drive/CHATM2/CHATM2_raw_Ntb/CHATM2_slide05_2018_01_18-S2_lossless_Ntb.tif\" -flip -rotate 270 \"/media/yuncong/Seagate Backup Plus Drive/CHATM2_rotated/CHATM2_lossless_Ntb/CHATM2_slide05_2018_01_18-S2_lossless_Ntb.tif\" \n",
      "convert \"/media/yuncong/Seagate Backup Plus Drive/CHATM2/CHATM2_raw_Ntb/CHATM2_slide21_2018_01_18-S1_lossless_Ntb.tif\" -flip -rotate 270 \"/media/yuncong/Seagate Backup Plus Drive/CHATM2_rotated/CHATM2_lossless_Ntb/CHATM2_slide21_2018_01_18-S1_lossless_Ntb.tif\" \n",
      "convert \"/media/yuncong/Seagate Backup Plus Drive/CHATM2/CHATM2_raw_Ntb/CHATM2_slide54_2018_01_22-S3_lossless_Ntb.tif\" -flip -rotate 270 \"/media/yuncong/Seagate Backup Plus Drive/CHATM2_rotated/CHATM2_lossless_Ntb/CHATM2_slide54_2018_01_22-S3_lossless_Ntb.tif\" \n",
      "convert \"/media/yuncong/Seagate Backup Plus Drive/CHATM2/CHATM2_raw_Ntb/CHATM2_slide54_2018_01_22-S2_lossless_Ntb.tif\" -flip -rotate 270 \"/media/yuncong/Seagate Backup Plus Drive/CHATM2_rotated/CHATM2_lossless_Ntb/CHATM2_slide54_2018_01_22-S2_lossless_Ntb.tif\" \n",
      "convert \"/media/yuncong/Seagate Backup Plus Drive/CHATM2/CHATM2_raw_Ntb/CHATM2_slide54_2018_01_22-S1_lossless_Ntb.tif\" -flip -rotate 270 \"/media/yuncong/Seagate Backup Plus Drive/CHATM2_rotated/CHATM2_lossless_Ntb/CHATM2_slide54_2018_01_22-S1_lossless_Ntb.tif\" \n",
      "convert \"/media/yuncong/Seagate Backup Plus Drive/CHATM2/CHATM2_raw_Ntb/CHATM2_slide04_2018_01_18-S1_lossless_Ntb.tif\" -flip -rotate 270 \"/media/yuncong/Seagate Backup Plus Drive/CHATM2_rotated/CHATM2_lossless_Ntb/CHATM2_slide04_2018_01_18-S1_lossless_Ntb.tif\" \n",
      "convert \"/media/yuncong/Seagate Backup Plus Drive/CHATM2/CHATM2_raw_Ntb/CHATM2_slide04_2018_01_18-S3_lossless_Ntb.tif\" -flip -rotate 270 \"/media/yuncong/Seagate Backup Plus Drive/CHATM2_rotated/CHATM2_lossless_Ntb/CHATM2_slide04_2018_01_18-S3_lossless_Ntb.tif\" \n",
      "convert \"/media/yuncong/Seagate Backup Plus Drive/CHATM2/CHATM2_raw_Ntb/CHATM2_slide04_2018_01_18-S2_lossless_Ntb.tif\" -flip -rotate 270 \"/media/yuncong/Seagate Backup Plus Drive/CHATM2_rotated/CHATM2_lossless_Ntb/CHATM2_slide04_2018_01_18-S2_lossless_Ntb.tif\" \n",
      "convert \"/media/yuncong/Seagate Backup Plus Drive/CHATM2/CHATM2_raw_Ntb/CHATM2_slide16_2018_01_18-S1_lossless_Ntb.tif\" -flip -rotate 270 \"/media/yuncong/Seagate Backup Plus Drive/CHATM2_rotated/CHATM2_lossless_Ntb/CHATM2_slide16_2018_01_18-S1_lossless_Ntb.tif\" \n",
      "convert \"/media/yuncong/Seagate Backup Plus Drive/CHATM2/CHATM2_raw_Ntb/CHATM2_slide16_2018_01_18-S2_lossless_Ntb.tif\" -flip -rotate 270 \"/media/yuncong/Seagate Backup Plus Drive/CHATM2_rotated/CHATM2_lossless_Ntb/CHATM2_slide16_2018_01_18-S2_lossless_Ntb.tif\" \n",
      "convert \"/media/yuncong/Seagate Backup Plus Drive/CHATM2/CHATM2_raw_Ntb/CHATM2_slide16_2018_01_18-S3_lossless_Ntb.tif\" -flip -rotate 270 \"/media/yuncong/Seagate Backup Plus Drive/CHATM2_rotated/CHATM2_lossless_Ntb/CHATM2_slide16_2018_01_18-S3_lossless_Ntb.tif\" \n",
      "convert \"/media/yuncong/Seagate Backup Plus Drive/CHATM2/CHATM2_raw_Ntb/CHATM2_slide46_2018_01_22-S2_lossless_Ntb.tif\" -flip -rotate 270 \"/media/yuncong/Seagate Backup Plus Drive/CHATM2_rotated/CHATM2_lossless_Ntb/CHATM2_slide46_2018_01_22-S2_lossless_Ntb.tif\" \n",
      "convert \"/media/yuncong/Seagate Backup Plus Drive/CHATM2/CHATM2_raw_Ntb/CHATM2_slide46_2018_01_22-S3_lossless_Ntb.tif\" -flip -rotate 270 \"/media/yuncong/Seagate Backup Plus Drive/CHATM2_rotated/CHATM2_lossless_Ntb/CHATM2_slide46_2018_01_22-S3_lossless_Ntb.tif\" \n",
      "convert \"/media/yuncong/Seagate Backup Plus Drive/CHATM2/CHATM2_raw_Ntb/CHATM2_slide46_2018_01_22-S1_lossless_Ntb.tif\" -flip -rotate 270 \"/media/yuncong/Seagate Backup Plus Drive/CHATM2_rotated/CHATM2_lossless_Ntb/CHATM2_slide46_2018_01_22-S1_lossless_Ntb.tif\" \n",
      "convert \"/media/yuncong/Seagate Backup Plus Drive/CHATM2/CHATM2_raw_Ntb/CHATM2_slide52_2018_01_22-S1_lossless_Ntb.tif\" -flip -rotate 270 \"/media/yuncong/Seagate Backup Plus Drive/CHATM2_rotated/CHATM2_lossless_Ntb/CHATM2_slide52_2018_01_22-S1_lossless_Ntb.tif\" \n",
      "convert \"/media/yuncong/Seagate Backup Plus Drive/CHATM2/CHATM2_raw_Ntb/CHATM2_slide52_2018_01_22-S3_lossless_Ntb.tif\" -flip -rotate 270 \"/media/yuncong/Seagate Backup Plus Drive/CHATM2_rotated/CHATM2_lossless_Ntb/CHATM2_slide52_2018_01_22-S3_lossless_Ntb.tif\" \n",
      "convert \"/media/yuncong/Seagate Backup Plus Drive/CHATM2/CHATM2_raw_Ntb/CHATM2_slide52_2018_01_22-S2_lossless_Ntb.tif\" -flip -rotate 270 \"/media/yuncong/Seagate Backup Plus Drive/CHATM2_rotated/CHATM2_lossless_Ntb/CHATM2_slide52_2018_01_22-S2_lossless_Ntb.tif\" \n",
      "convert \"/media/yuncong/Seagate Backup Plus Drive/CHATM2/CHATM2_raw_Ntb/CHATM2_slide58_2018_01_22-S1_lossless_Ntb.tif\" -flip -rotate 270 \"/media/yuncong/Seagate Backup Plus Drive/CHATM2_rotated/CHATM2_lossless_Ntb/CHATM2_slide58_2018_01_22-S1_lossless_Ntb.tif\" \n",
      "convert \"/media/yuncong/Seagate Backup Plus Drive/CHATM2/CHATM2_raw_Ntb/CHATM2_slide43_2018_01_22-S3_lossless_Ntb.tif\" -flip -rotate 270 \"/media/yuncong/Seagate Backup Plus Drive/CHATM2_rotated/CHATM2_lossless_Ntb/CHATM2_slide43_2018_01_22-S3_lossless_Ntb.tif\" \n",
      "convert \"/media/yuncong/Seagate Backup Plus Drive/CHATM2/CHATM2_raw_Ntb/CHATM2_slide43_2018_01_22-S2_lossless_Ntb.tif\" -flip -rotate 270 \"/media/yuncong/Seagate Backup Plus Drive/CHATM2_rotated/CHATM2_lossless_Ntb/CHATM2_slide43_2018_01_22-S2_lossless_Ntb.tif\" \n",
      "convert \"/media/yuncong/Seagate Backup Plus Drive/CHATM2/CHATM2_raw_Ntb/CHATM2_slide43_2018_01_22-S1_lossless_Ntb.tif\" -flip -rotate 270 \"/media/yuncong/Seagate Backup Plus Drive/CHATM2_rotated/CHATM2_lossless_Ntb/CHATM2_slide43_2018_01_22-S1_lossless_Ntb.tif\" \n",
      "convert \"/media/yuncong/Seagate Backup Plus Drive/CHATM2/CHATM2_raw_Ntb/CHATM2_slide51_2018_01_22-S1_lossless_Ntb.tif\" -flip -rotate 270 \"/media/yuncong/Seagate Backup Plus Drive/CHATM2_rotated/CHATM2_lossless_Ntb/CHATM2_slide51_2018_01_22-S1_lossless_Ntb.tif\" \n",
      "convert \"/media/yuncong/Seagate Backup Plus Drive/CHATM2/CHATM2_raw_Ntb/CHATM2_slide55_2018_01_22-S2_lossless_Ntb.tif\" -flip -rotate 270 \"/media/yuncong/Seagate Backup Plus Drive/CHATM2_rotated/CHATM2_lossless_Ntb/CHATM2_slide55_2018_01_22-S2_lossless_Ntb.tif\" \n"
     ]
    },
    {
     "name": "stdout",
     "output_type": "stream",
     "text": [
      "convert \"/media/yuncong/Seagate Backup Plus Drive/CHATM2/CHATM2_raw_Ntb/CHATM2_slide55_2018_01_22-S3_lossless_Ntb.tif\" -flip -rotate 270 \"/media/yuncong/Seagate Backup Plus Drive/CHATM2_rotated/CHATM2_lossless_Ntb/CHATM2_slide55_2018_01_22-S3_lossless_Ntb.tif\" \n",
      "convert \"/media/yuncong/Seagate Backup Plus Drive/CHATM2/CHATM2_raw_Ntb/CHATM2_slide104_2018_02_13-S3_lossless_Ntb.tif\" -flip -rotate 270 \"/media/yuncong/Seagate Backup Plus Drive/CHATM2_rotated/CHATM2_lossless_Ntb/CHATM2_slide104_2018_02_13-S3_lossless_Ntb.tif\" \n",
      "convert \"/media/yuncong/Seagate Backup Plus Drive/CHATM2/CHATM2_raw_Ntb/CHATM2_slide55_2018_01_22-S1_lossless_Ntb.tif\" -flip -rotate 270 \"/media/yuncong/Seagate Backup Plus Drive/CHATM2_rotated/CHATM2_lossless_Ntb/CHATM2_slide55_2018_01_22-S1_lossless_Ntb.tif\" \n",
      "convert \"/media/yuncong/Seagate Backup Plus Drive/CHATM2/CHATM2_raw_Ntb/CHATM2_slide104_2018_02_13-S1_lossless_Ntb.tif\" -flip -rotate 270 \"/media/yuncong/Seagate Backup Plus Drive/CHATM2_rotated/CHATM2_lossless_Ntb/CHATM2_slide104_2018_02_13-S1_lossless_Ntb.tif\" \n",
      "convert \"/media/yuncong/Seagate Backup Plus Drive/CHATM2/CHATM2_raw_Ntb/CHATM2_slide100_2018_02_13-S2_lossless_Ntb.tif\" -flip -rotate 270 \"/media/yuncong/Seagate Backup Plus Drive/CHATM2_rotated/CHATM2_lossless_Ntb/CHATM2_slide100_2018_02_13-S2_lossless_Ntb.tif\" \n",
      "convert \"/media/yuncong/Seagate Backup Plus Drive/CHATM2/CHATM2_raw_Ntb/CHATM2_slide39_2018_01_22-S1_lossless_Ntb.tif\" -flip -rotate 270 \"/media/yuncong/Seagate Backup Plus Drive/CHATM2_rotated/CHATM2_lossless_Ntb/CHATM2_slide39_2018_01_22-S1_lossless_Ntb.tif\" \n",
      "convert \"/media/yuncong/Seagate Backup Plus Drive/CHATM2/CHATM2_raw_Ntb/CHATM2_slide39_2018_01_22-S2_lossless_Ntb.tif\" -flip -rotate 270 \"/media/yuncong/Seagate Backup Plus Drive/CHATM2_rotated/CHATM2_lossless_Ntb/CHATM2_slide39_2018_01_22-S2_lossless_Ntb.tif\" \n",
      "convert \"/media/yuncong/Seagate Backup Plus Drive/CHATM2/CHATM2_raw_Ntb/CHATM2_slide39_2018_01_22-S3_lossless_Ntb.tif\" -flip -rotate 270 \"/media/yuncong/Seagate Backup Plus Drive/CHATM2_rotated/CHATM2_lossless_Ntb/CHATM2_slide39_2018_01_22-S3_lossless_Ntb.tif\" \n"
     ]
    },
    {
     "ename": "KeyboardInterrupt",
     "evalue": "",
     "output_type": "error",
     "traceback": [
      "\u001b[0;31m---------------------------------------------------------------------------\u001b[0m",
      "\u001b[0;31mKeyboardInterrupt\u001b[0m                         Traceback (most recent call last)",
      "\u001b[0;32m<ipython-input-121-d59b619f973f>\u001b[0m in \u001b[0;36m<module>\u001b[0;34m()\u001b[0m\n\u001b[1;32m     10\u001b[0m         \u001b[0;31m# Gimp command above failed for some images for unknown reason. Had to use ImagemMagick.\u001b[0m\u001b[0;34m\u001b[0m\u001b[0;34m\u001b[0m\u001b[0m\n\u001b[1;32m     11\u001b[0m         \u001b[0mcmd\u001b[0m \u001b[0;34m=\u001b[0m \u001b[0;34m\"\"\"convert \"%(in_fp)s\" -flip -rotate 270 \"%(out_fp)s\" \"\"\"\u001b[0m \u001b[0;34m%\u001b[0m             \u001b[0;34m{\u001b[0m\u001b[0;34m'in_fp'\u001b[0m\u001b[0;34m:\u001b[0m \u001b[0mraw_fp\u001b[0m\u001b[0;34m,\u001b[0m \u001b[0;34m'out_fp'\u001b[0m\u001b[0;34m:\u001b[0m \u001b[0mrotated_raw_fp\u001b[0m\u001b[0;34m}\u001b[0m\u001b[0;34m\u001b[0m\u001b[0m\n\u001b[0;32m---> 12\u001b[0;31m         \u001b[0mexecute_command\u001b[0m\u001b[0;34m(\u001b[0m\u001b[0mcmd\u001b[0m\u001b[0;34m)\u001b[0m\u001b[0;34m\u001b[0m\u001b[0m\n\u001b[0m",
      "\u001b[0;32m/home/yuncong/Brain/utilities/utilities2015.pyc\u001b[0m in \u001b[0;36mexecute_command\u001b[0;34m(cmd, stdout, stderr)\u001b[0m\n\u001b[1;32m   1025\u001b[0m         \u001b[0;32mif\u001b[0m \u001b[0misinstance\u001b[0m\u001b[0;34m(\u001b[0m\u001b[0mobj\u001b[0m\u001b[0;34m,\u001b[0m \u001b[0mdict\u001b[0m\u001b[0;34m)\u001b[0m\u001b[0;34m:\u001b[0m\u001b[0;34m\u001b[0m\u001b[0m\n\u001b[1;32m   1026\u001b[0m             \u001b[0mobj\u001b[0m \u001b[0;34m=\u001b[0m \u001b[0;34m{\u001b[0m\u001b[0mk\u001b[0m\u001b[0;34m:\u001b[0m \u001b[0mv\u001b[0m\u001b[0;34m.\u001b[0m\u001b[0mtolist\u001b[0m\u001b[0;34m(\u001b[0m\u001b[0;34m)\u001b[0m \u001b[0;32mif\u001b[0m \u001b[0misinstance\u001b[0m\u001b[0;34m(\u001b[0m\u001b[0mv\u001b[0m\u001b[0;34m,\u001b[0m \u001b[0mnp\u001b[0m\u001b[0;34m.\u001b[0m\u001b[0mndarray\u001b[0m\u001b[0;34m)\u001b[0m \u001b[0;32melse\u001b[0m \u001b[0mv\u001b[0m \u001b[0;32mfor\u001b[0m \u001b[0mk\u001b[0m\u001b[0;34m,\u001b[0m \u001b[0mv\u001b[0m \u001b[0;32min\u001b[0m \u001b[0mobj\u001b[0m\u001b[0;34m.\u001b[0m\u001b[0miteritems\u001b[0m\u001b[0;34m(\u001b[0m\u001b[0;34m)\u001b[0m\u001b[0;34m}\u001b[0m\u001b[0;34m\u001b[0m\u001b[0m\n\u001b[0;32m-> 1027\u001b[0;31m         \u001b[0mjson\u001b[0m\u001b[0;34m.\u001b[0m\u001b[0mdump\u001b[0m\u001b[0;34m(\u001b[0m\u001b[0mobj\u001b[0m\u001b[0;34m,\u001b[0m \u001b[0mf\u001b[0m\u001b[0;34m)\u001b[0m\u001b[0;34m\u001b[0m\u001b[0m\n\u001b[0m\u001b[1;32m   1028\u001b[0m \u001b[0;34m\u001b[0m\u001b[0m\n\u001b[1;32m   1029\u001b[0m \u001b[0;32mdef\u001b[0m \u001b[0mload_json\u001b[0m\u001b[0;34m(\u001b[0m\u001b[0mfp\u001b[0m\u001b[0;34m)\u001b[0m\u001b[0;34m:\u001b[0m\u001b[0;34m\u001b[0m\u001b[0m\n",
      "\u001b[0;32m/usr/lib/python2.7/subprocess.pyc\u001b[0m in \u001b[0;36mcall\u001b[0;34m(*popenargs, **kwargs)\u001b[0m\n\u001b[1;32m    521\u001b[0m     \u001b[0mretcode\u001b[0m \u001b[0;34m=\u001b[0m \u001b[0mcall\u001b[0m\u001b[0;34m(\u001b[0m\u001b[0;34m[\u001b[0m\u001b[0;34m\"ls\"\u001b[0m\u001b[0;34m,\u001b[0m \u001b[0;34m\"-l\"\u001b[0m\u001b[0;34m]\u001b[0m\u001b[0;34m)\u001b[0m\u001b[0;34m\u001b[0m\u001b[0m\n\u001b[1;32m    522\u001b[0m     \"\"\"\n\u001b[0;32m--> 523\u001b[0;31m     \u001b[0;32mreturn\u001b[0m \u001b[0mPopen\u001b[0m\u001b[0;34m(\u001b[0m\u001b[0;34m*\u001b[0m\u001b[0mpopenargs\u001b[0m\u001b[0;34m,\u001b[0m \u001b[0;34m**\u001b[0m\u001b[0mkwargs\u001b[0m\u001b[0;34m)\u001b[0m\u001b[0;34m.\u001b[0m\u001b[0mwait\u001b[0m\u001b[0;34m(\u001b[0m\u001b[0;34m)\u001b[0m\u001b[0;34m\u001b[0m\u001b[0m\n\u001b[0m\u001b[1;32m    524\u001b[0m \u001b[0;34m\u001b[0m\u001b[0m\n\u001b[1;32m    525\u001b[0m \u001b[0;34m\u001b[0m\u001b[0m\n",
      "\u001b[0;32m/usr/lib/python2.7/subprocess.pyc\u001b[0m in \u001b[0;36mwait\u001b[0;34m(self)\u001b[0m\n\u001b[1;32m   1390\u001b[0m             \u001b[0;32mwhile\u001b[0m \u001b[0mself\u001b[0m\u001b[0;34m.\u001b[0m\u001b[0mreturncode\u001b[0m \u001b[0;32mis\u001b[0m \u001b[0mNone\u001b[0m\u001b[0;34m:\u001b[0m\u001b[0;34m\u001b[0m\u001b[0m\n\u001b[1;32m   1391\u001b[0m                 \u001b[0;32mtry\u001b[0m\u001b[0;34m:\u001b[0m\u001b[0;34m\u001b[0m\u001b[0m\n\u001b[0;32m-> 1392\u001b[0;31m                     \u001b[0mpid\u001b[0m\u001b[0;34m,\u001b[0m \u001b[0msts\u001b[0m \u001b[0;34m=\u001b[0m \u001b[0m_eintr_retry_call\u001b[0m\u001b[0;34m(\u001b[0m\u001b[0mos\u001b[0m\u001b[0;34m.\u001b[0m\u001b[0mwaitpid\u001b[0m\u001b[0;34m,\u001b[0m \u001b[0mself\u001b[0m\u001b[0;34m.\u001b[0m\u001b[0mpid\u001b[0m\u001b[0;34m,\u001b[0m \u001b[0;36m0\u001b[0m\u001b[0;34m)\u001b[0m\u001b[0;34m\u001b[0m\u001b[0m\n\u001b[0m\u001b[1;32m   1393\u001b[0m                 \u001b[0;32mexcept\u001b[0m \u001b[0mOSError\u001b[0m \u001b[0;32mas\u001b[0m \u001b[0me\u001b[0m\u001b[0;34m:\u001b[0m\u001b[0;34m\u001b[0m\u001b[0m\n\u001b[1;32m   1394\u001b[0m                     \u001b[0;32mif\u001b[0m \u001b[0me\u001b[0m\u001b[0;34m.\u001b[0m\u001b[0merrno\u001b[0m \u001b[0;34m!=\u001b[0m \u001b[0merrno\u001b[0m\u001b[0;34m.\u001b[0m\u001b[0mECHILD\u001b[0m\u001b[0;34m:\u001b[0m\u001b[0;34m\u001b[0m\u001b[0m\n",
      "\u001b[0;32m/usr/lib/python2.7/subprocess.pyc\u001b[0m in \u001b[0;36m_eintr_retry_call\u001b[0;34m(func, *args)\u001b[0m\n\u001b[1;32m    474\u001b[0m     \u001b[0;32mwhile\u001b[0m \u001b[0mTrue\u001b[0m\u001b[0;34m:\u001b[0m\u001b[0;34m\u001b[0m\u001b[0m\n\u001b[1;32m    475\u001b[0m         \u001b[0;32mtry\u001b[0m\u001b[0;34m:\u001b[0m\u001b[0;34m\u001b[0m\u001b[0m\n\u001b[0;32m--> 476\u001b[0;31m             \u001b[0;32mreturn\u001b[0m \u001b[0mfunc\u001b[0m\u001b[0;34m(\u001b[0m\u001b[0;34m*\u001b[0m\u001b[0margs\u001b[0m\u001b[0;34m)\u001b[0m\u001b[0;34m\u001b[0m\u001b[0m\n\u001b[0m\u001b[1;32m    477\u001b[0m         \u001b[0;32mexcept\u001b[0m \u001b[0;34m(\u001b[0m\u001b[0mOSError\u001b[0m\u001b[0;34m,\u001b[0m \u001b[0mIOError\u001b[0m\u001b[0;34m)\u001b[0m \u001b[0;32mas\u001b[0m \u001b[0me\u001b[0m\u001b[0;34m:\u001b[0m\u001b[0;34m\u001b[0m\u001b[0m\n\u001b[1;32m    478\u001b[0m             \u001b[0;32mif\u001b[0m \u001b[0me\u001b[0m\u001b[0;34m.\u001b[0m\u001b[0merrno\u001b[0m \u001b[0;34m==\u001b[0m \u001b[0merrno\u001b[0m\u001b[0;34m.\u001b[0m\u001b[0mEINTR\u001b[0m\u001b[0;34m:\u001b[0m\u001b[0;34m\u001b[0m\u001b[0m\n",
      "\u001b[0;31mKeyboardInterrupt\u001b[0m: "
     ]
    }
   ],
   "source": [
    "for version in ['Chat', 'Ntb']:\n",
    "    for fn in filenames_to_sections.keys():\n",
    "        \n",
    "        t = time.time()\n",
    "        \n",
    "#         raw_fp = '/media/yuncong/Seagate Backup Plus Drive/CHATM2/CHATM2_raw_%(channel)s/%(fn)s_lossless_%(channel)s.tif' % dict(channel=channel, fn=fn)\n",
    "#         rotated_raw_fp = '/media/yuncong/Seagate Backup Plus Drive/CHATM2_rotated/CHATM2_lossless_%(channel)s/%(fn)s_lossless_%(channel)s.tif' % dict(channel=channel, fn=fn)\n",
    "        \n",
    "        in_fp = DataManager.get_image_filepath_v2(stack=stack, prep_id=None, resol='lossless', version=version, fn=fn)\n",
    "        out_fp = DataManager.get_image_filepath_v2(stack=stack, prep_id=None, resol='lossless', version=version+'Rotated', fn=fn)\n",
    "        create_parent_dir_if_not_exists(out_fp)\n",
    "        \n",
    "    #     cmd = \"\"\"gimp -i -b '(script-fu-rotate \"%(raw_dir)s/%(fn)s\" \"%(raw_rotated_dir)s/%(name)s.tif\")' -b '(gimp-quit 0)'\"\"\" % \\\n",
    "    #         {'fn':fn, 'raw_dir':raw_dir, 'name': name, 'raw_rotated_dir': raw_rotated_dir}\n",
    "\n",
    "        # Gimp command above failed for some images for unknown reason. Had to use ImagemMagick.\n",
    "        cmd = \"\"\"convert \"%(in_fp)s\" -flip -rotate 270 \"%(out_fp)s\" \"\"\" % {'in_fp': in_fp, 'out_fp': out_fp}\n",
    "        execute_command(cmd)\n",
    "        \n",
    "        print time.time() - t"
   ]
  },
  {
   "cell_type": "markdown",
   "metadata": {},
   "source": [
    "# Rotate thumbnails"
   ]
  },
  {
   "cell_type": "code",
   "execution_count": 189,
   "metadata": {
    "scrolled": true
   },
   "outputs": [
    {
     "name": "stdout",
     "output_type": "stream",
     "text": [
      "convert \"/media/yuncong/BstemAtlasData/CSHL_data_processed/CHATM2/CHATM2_thumbnail_Ntb/CHATM2_slide48_2018_01_22-S3_thumbnail_Ntb.tif\" -flip -rotate 270 \"/media/yuncong/BstemAtlasData/CSHL_data_processed/CHATM2/CHATM2_thumbnail_Ntb/CHATM2_slide48_2018_01_22-S3_thumbnail_Ntb.tif\" \n",
      "aws s3 cp \"/media/yuncong/BstemAtlasData/CSHL_data_processed/CHATM2/CHATM2_thumbnail_Ntb/CHATM2_slide48_2018_01_22-S3_thumbnail_Ntb.tif\" \"s3://mousebrainatlas-data/CSHL_data_processed/CHATM2/CHATM2_thumbnail_Ntb/CHATM2_slide48_2018_01_22-S3_thumbnail_Ntb.tif\"\n"
     ]
    }
   ],
   "source": [
    "# for fn in filenames_to_sections.keys():\n",
    "for fn in ['CHATM2_slide48_2018_01_22-S3']:\n",
    "    \n",
    "    in_fp = DataManager.get_image_filepath_v2(stack=stack, prep_id=None, version='Ntb', resol='thumbnail', fn=fn)\n",
    "    out_fp = DataManager.get_image_filepath_v2(stack=stack, prep_id=None, version='NtbRotated', resol='thumbnail', fn=fn)\n",
    "    create_parent_dir_if_not_exists(out_fp)\n",
    "\n",
    "#     cmd = \"\"\"gimp -i -b '(script-fu-rotate \"%(raw_dir)s/%(fn)s\" \"%(raw_rotated_dir)s/%(name)s.tif\")' -b '(gimp-quit 0)'\"\"\" % \\\n",
    "#         {'fn':fn, 'raw_dir':raw_dir, 'name': name, 'raw_rotated_dir': raw_rotated_dir}\n",
    "\n",
    "    # Gimp command above failed for some images for unknown reason. Had to use ImagemMagick.\n",
    "    cmd = \"\"\"convert \"%(in_fp)s\" -flip -rotate 270 \"%(out_fp)s\" \"\"\" % {'in_fp': in_fp, 'out_fp': out_fp}\n",
    "    execute_command(cmd)\n",
    "    \n",
    "    upload_to_s3(tb_nt_fp)"
   ]
  },
  {
   "cell_type": "markdown",
   "metadata": {},
   "source": [
    "# Remove artifact strip at the top of some images"
   ]
  },
  {
   "cell_type": "code",
   "execution_count": 190,
   "metadata": {
    "collapsed": true
   },
   "outputs": [],
   "source": [
    "for fn in filenames_to_sections.keys():\n",
    "    \n",
    "    tb_nt_fp = DataManager.get_image_filepath_v2(stack=stack, prep_id=None, version='Ntb', resol='thumbnail', fn=fn)\n",
    "    out_fp = DataManager.get_image_filepath_v2(stack=stack, prep_id=None, version='NtbStripRemoved', resol='thumbnail', fn=fn)\n",
    "    create_parent_dir_if_not_exists(out_fp)\n",
    "\n",
    "    img = imread(tb_nt_fp)\n",
    "    img[:60, :] = 0\n",
    "    imsave(out_fp, img)"
   ]
  },
  {
   "cell_type": "markdown",
   "metadata": {},
   "source": [
    "# Convert thumbnail from 16-bit to 8-bit (stretch contrast)"
   ]
  },
  {
   "cell_type": "code",
   "execution_count": 191,
   "metadata": {},
   "outputs": [
    {
     "name": "stdout",
     "output_type": "stream",
     "text": [
      "convert \"/media/yuncong/BstemAtlasData/CSHL_data_processed/CHATM2/CHATM2_thumbnail_NtbStripRemoved/CHATM2_slide48_2018_01_22-S3_thumbnail_NtbStripRemoved.tif\" -normalize -depth 8 \"/media/yuncong/BstemAtlasData/CSHL_data_processed/CHATM2/CHATM2_thumbnail_NtbNormalized/CHATM2_slide48_2018_01_22-S3_thumbnail_NtbNormalized.tif\" \n",
      "aws s3 cp \"/media/yuncong/BstemAtlasData/CSHL_data_processed/CHATM2/CHATM2_thumbnail_NtbNormalized/CHATM2_slide48_2018_01_22-S3_thumbnail_NtbNormalized.tif\" \"s3://mousebrainatlas-data/CSHL_data_processed/CHATM2/CHATM2_thumbnail_NtbNormalized/CHATM2_slide48_2018_01_22-S3_thumbnail_NtbNormalized.tif\"\n"
     ]
    }
   ],
   "source": [
    "for fn in filenames_to_sections.keys():\n",
    "    \n",
    "    in_fp = DataManager.get_image_filepath_v2(stack=stack, prep_id=None, version='NtbStripRemoved', resol='thumbnail', fn=fn)\n",
    "    \n",
    "    out_fp = DataManager.get_image_filepath_v2(stack=stack, prep_id=None, version='NtbNormalized', resol='thumbnail', fn=fn)\n",
    "    create_parent_dir_if_not_exists(out_fp)\n",
    "    \n",
    "    cmd = \"\"\"convert \"%(in_fp)s\" -normalize -depth 8 \"%(out_fp)s\" \"\"\" % {'in_fp': in_fp, 'out_fp': out_fp}\n",
    "    execute_command(cmd)\n",
    "    \n",
    "    upload_to_s3(out_fp)"
   ]
  },
  {
   "cell_type": "code",
   "execution_count": 9,
   "metadata": {
    "collapsed": true
   },
   "outputs": [],
   "source": [
    "# import re"
   ]
  },
  {
   "cell_type": "code",
   "execution_count": null,
   "metadata": {},
   "outputs": [
    {
     "name": "stdout",
     "output_type": "stream",
     "text": [
      "convert \"/media/yuncong/BstemAtlasData/CSHL_data/ChatCryoJane201710/ChatCryoJane201710_raw//Chat_slide1-S1-Chat.tif\" -flip -rotate 270 -compress LZW \"/media/yuncong/BstemAtlasData/CSHL_data/ChatCryoJane201710/ChatCryoJane201710_raw_Chat//ChatCryoJane201710_slide1-S1_lossless.tif\" \n",
      "convert \"/media/yuncong/BstemAtlasData/CSHL_data/ChatCryoJane201710/ChatCryoJane201710_raw//Chat_slide1-S1-Ntb.tif\" -flip -rotate 270 -compress LZW \"/media/yuncong/BstemAtlasData/CSHL_data/ChatCryoJane201710/ChatCryoJane201710_raw_Ntb//ChatCryoJane201710_slide1-S1_lossless.tif\" \n",
      "convert \"/media/yuncong/BstemAtlasData/CSHL_data/ChatCryoJane201710/ChatCryoJane201710_raw//Chat_slide1-S2-Chat.tif\" -flip -rotate 270 -compress LZW \"/media/yuncong/BstemAtlasData/CSHL_data/ChatCryoJane201710/ChatCryoJane201710_raw_Chat//ChatCryoJane201710_slide1-S2_lossless.tif\" \n",
      "convert \"/media/yuncong/BstemAtlasData/CSHL_data/ChatCryoJane201710/ChatCryoJane201710_raw//Chat_slide1-S2-Ntb.tif\" -flip -rotate 270 -compress LZW \"/media/yuncong/BstemAtlasData/CSHL_data/ChatCryoJane201710/ChatCryoJane201710_raw_Ntb//ChatCryoJane201710_slide1-S2_lossless.tif\" \n",
      "convert \"/media/yuncong/BstemAtlasData/CSHL_data/ChatCryoJane201710/ChatCryoJane201710_raw//Chat_slide1-S3-Chat.tif\" -flip -rotate 270 -compress LZW \"/media/yuncong/BstemAtlasData/CSHL_data/ChatCryoJane201710/ChatCryoJane201710_raw_Chat//ChatCryoJane201710_slide1-S3_lossless.tif\" \n",
      "convert \"/media/yuncong/BstemAtlasData/CSHL_data/ChatCryoJane201710/ChatCryoJane201710_raw//Chat_slide1-S3-Ntb.tif\" -flip -rotate 270 -compress LZW \"/media/yuncong/BstemAtlasData/CSHL_data/ChatCryoJane201710/ChatCryoJane201710_raw_Ntb//ChatCryoJane201710_slide1-S3_lossless.tif\" \n",
      "convert \"/media/yuncong/BstemAtlasData/CSHL_data/ChatCryoJane201710/ChatCryoJane201710_raw//Chat_slide10-S1-Chat.tif\" -flip -rotate 270 -compress LZW \"/media/yuncong/BstemAtlasData/CSHL_data/ChatCryoJane201710/ChatCryoJane201710_raw_Chat//ChatCryoJane201710_slide10-S1_lossless.tif\" \n",
      "convert \"/media/yuncong/BstemAtlasData/CSHL_data/ChatCryoJane201710/ChatCryoJane201710_raw//Chat_slide10-S1-Ntb.tif\" -flip -rotate 270 -compress LZW \"/media/yuncong/BstemAtlasData/CSHL_data/ChatCryoJane201710/ChatCryoJane201710_raw_Ntb//ChatCryoJane201710_slide10-S1_lossless.tif\" \n",
      "convert \"/media/yuncong/BstemAtlasData/CSHL_data/ChatCryoJane201710/ChatCryoJane201710_raw//Chat_slide10-S2-Chat.tif\" -flip -rotate 270 -compress LZW \"/media/yuncong/BstemAtlasData/CSHL_data/ChatCryoJane201710/ChatCryoJane201710_raw_Chat//ChatCryoJane201710_slide10-S2_lossless.tif\" \n",
      "convert \"/media/yuncong/BstemAtlasData/CSHL_data/ChatCryoJane201710/ChatCryoJane201710_raw//Chat_slide10-S2-Ntb.tif\" -flip -rotate 270 -compress LZW \"/media/yuncong/BstemAtlasData/CSHL_data/ChatCryoJane201710/ChatCryoJane201710_raw_Ntb//ChatCryoJane201710_slide10-S2_lossless.tif\" \n",
      "convert \"/media/yuncong/BstemAtlasData/CSHL_data/ChatCryoJane201710/ChatCryoJane201710_raw//Chat_slide10-S3-Chat.tif\" -flip -rotate 270 -compress LZW \"/media/yuncong/BstemAtlasData/CSHL_data/ChatCryoJane201710/ChatCryoJane201710_raw_Chat//ChatCryoJane201710_slide10-S3_lossless.tif\" \n",
      "convert \"/media/yuncong/BstemAtlasData/CSHL_data/ChatCryoJane201710/ChatCryoJane201710_raw//Chat_slide10-S3-Ntb.tif\" -flip -rotate 270 -compress LZW \"/media/yuncong/BstemAtlasData/CSHL_data/ChatCryoJane201710/ChatCryoJane201710_raw_Ntb//ChatCryoJane201710_slide10-S3_lossless.tif\" \n",
      "convert \"/media/yuncong/BstemAtlasData/CSHL_data/ChatCryoJane201710/ChatCryoJane201710_raw//Chat_slide11-S1-Chat.tif\" -flip -rotate 270 -compress LZW \"/media/yuncong/BstemAtlasData/CSHL_data/ChatCryoJane201710/ChatCryoJane201710_raw_Chat//ChatCryoJane201710_slide11-S1_lossless.tif\" \n",
      "convert \"/media/yuncong/BstemAtlasData/CSHL_data/ChatCryoJane201710/ChatCryoJane201710_raw//Chat_slide11-S1-Ntb.tif\" -flip -rotate 270 -compress LZW \"/media/yuncong/BstemAtlasData/CSHL_data/ChatCryoJane201710/ChatCryoJane201710_raw_Ntb//ChatCryoJane201710_slide11-S1_lossless.tif\" \n",
      "convert \"/media/yuncong/BstemAtlasData/CSHL_data/ChatCryoJane201710/ChatCryoJane201710_raw//Chat_slide2-S3-Chat.tif\" -flip -rotate 270 -compress LZW \"/media/yuncong/BstemAtlasData/CSHL_data/ChatCryoJane201710/ChatCryoJane201710_raw_Chat//ChatCryoJane201710_slide2-S3_lossless.tif\" \n",
      "convert \"/media/yuncong/BstemAtlasData/CSHL_data/ChatCryoJane201710/ChatCryoJane201710_raw//Chat_slide2-S3-Ntb.tif\" -flip -rotate 270 -compress LZW \"/media/yuncong/BstemAtlasData/CSHL_data/ChatCryoJane201710/ChatCryoJane201710_raw_Ntb//ChatCryoJane201710_slide2-S3_lossless.tif\" \n",
      "convert \"/media/yuncong/BstemAtlasData/CSHL_data/ChatCryoJane201710/ChatCryoJane201710_raw//Chat_slide20-S1-Chat.tif\" -flip -rotate 270 -compress LZW \"/media/yuncong/BstemAtlasData/CSHL_data/ChatCryoJane201710/ChatCryoJane201710_raw_Chat//ChatCryoJane201710_slide20-S1_lossless.tif\" \n",
      "convert \"/media/yuncong/BstemAtlasData/CSHL_data/ChatCryoJane201710/ChatCryoJane201710_raw//Chat_slide20-S1-Ntb.tif\" -flip -rotate 270 -compress LZW \"/media/yuncong/BstemAtlasData/CSHL_data/ChatCryoJane201710/ChatCryoJane201710_raw_Ntb//ChatCryoJane201710_slide20-S1_lossless.tif\" \n",
      "convert \"/media/yuncong/BstemAtlasData/CSHL_data/ChatCryoJane201710/ChatCryoJane201710_raw//Chat_slide20-S2-Chat.tif\" -flip -rotate 270 -compress LZW \"/media/yuncong/BstemAtlasData/CSHL_data/ChatCryoJane201710/ChatCryoJane201710_raw_Chat//ChatCryoJane201710_slide20-S2_lossless.tif\" \n",
      "convert \"/media/yuncong/BstemAtlasData/CSHL_data/ChatCryoJane201710/ChatCryoJane201710_raw//Chat_slide20-S2-Ntb.tif\" -flip -rotate 270 -compress LZW \"/media/yuncong/BstemAtlasData/CSHL_data/ChatCryoJane201710/ChatCryoJane201710_raw_Ntb//ChatCryoJane201710_slide20-S2_lossless.tif\" \n",
      "convert \"/media/yuncong/BstemAtlasData/CSHL_data/ChatCryoJane201710/ChatCryoJane201710_raw//Chat_slide20-S3-Chat.tif\" -flip -rotate 270 -compress LZW \"/media/yuncong/BstemAtlasData/CSHL_data/ChatCryoJane201710/ChatCryoJane201710_raw_Chat//ChatCryoJane201710_slide20-S3_lossless.tif\" \n",
      "convert \"/media/yuncong/BstemAtlasData/CSHL_data/ChatCryoJane201710/ChatCryoJane201710_raw//Chat_slide20-S3-Ntb.tif\" -flip -rotate 270 -compress LZW \"/media/yuncong/BstemAtlasData/CSHL_data/ChatCryoJane201710/ChatCryoJane201710_raw_Ntb//ChatCryoJane201710_slide20-S3_lossless.tif\" \n",
      "convert \"/media/yuncong/BstemAtlasData/CSHL_data/ChatCryoJane201710/ChatCryoJane201710_raw//Chat_slide21-S1-Chat.tif\" -flip -rotate 270 -compress LZW \"/media/yuncong/BstemAtlasData/CSHL_data/ChatCryoJane201710/ChatCryoJane201710_raw_Chat//ChatCryoJane201710_slide21-S1_lossless.tif\" \n",
      "convert \"/media/yuncong/BstemAtlasData/CSHL_data/ChatCryoJane201710/ChatCryoJane201710_raw//Chat_slide21-S1-Ntb.tif\" -flip -rotate 270 -compress LZW \"/media/yuncong/BstemAtlasData/CSHL_data/ChatCryoJane201710/ChatCryoJane201710_raw_Ntb//ChatCryoJane201710_slide21-S1_lossless.tif\" \n",
      "convert \"/media/yuncong/BstemAtlasData/CSHL_data/ChatCryoJane201710/ChatCryoJane201710_raw//Chat_slide21-S2-Chat.tif\" -flip -rotate 270 -compress LZW \"/media/yuncong/BstemAtlasData/CSHL_data/ChatCryoJane201710/ChatCryoJane201710_raw_Chat//ChatCryoJane201710_slide21-S2_lossless.tif\" \n",
      "convert \"/media/yuncong/BstemAtlasData/CSHL_data/ChatCryoJane201710/ChatCryoJane201710_raw//Chat_slide21-S2-Ntb.tif\" -flip -rotate 270 -compress LZW \"/media/yuncong/BstemAtlasData/CSHL_data/ChatCryoJane201710/ChatCryoJane201710_raw_Ntb//ChatCryoJane201710_slide21-S2_lossless.tif\" \n",
      "convert \"/media/yuncong/BstemAtlasData/CSHL_data/ChatCryoJane201710/ChatCryoJane201710_raw//Chat_slide21-S3-Chat.tif\" -flip -rotate 270 -compress LZW \"/media/yuncong/BstemAtlasData/CSHL_data/ChatCryoJane201710/ChatCryoJane201710_raw_Chat//ChatCryoJane201710_slide21-S3_lossless.tif\" \n",
      "convert \"/media/yuncong/BstemAtlasData/CSHL_data/ChatCryoJane201710/ChatCryoJane201710_raw//Chat_slide21-S3-Ntb.tif\" -flip -rotate 270 -compress LZW \"/media/yuncong/BstemAtlasData/CSHL_data/ChatCryoJane201710/ChatCryoJane201710_raw_Ntb//ChatCryoJane201710_slide21-S3_lossless.tif\" \n",
      "convert \"/media/yuncong/BstemAtlasData/CSHL_data/ChatCryoJane201710/ChatCryoJane201710_raw//Chat_slide6-S1-Ntb.tif\" -flip -rotate 270 -compress LZW \"/media/yuncong/BstemAtlasData/CSHL_data/ChatCryoJane201710/ChatCryoJane201710_raw_Ntb//ChatCryoJane201710_slide6-S1_lossless.tif\" \n",
      "convert \"/media/yuncong/BstemAtlasData/CSHL_data/ChatCryoJane201710/ChatCryoJane201710_raw//Chat_slide6-S2-Chat.tif\" -flip -rotate 270 -compress LZW \"/media/yuncong/BstemAtlasData/CSHL_data/ChatCryoJane201710/ChatCryoJane201710_raw_Chat//ChatCryoJane201710_slide6-S2_lossless.tif\" \n"
     ]
    },
    {
     "name": "stdout",
     "output_type": "stream",
     "text": [
      "convert \"/media/yuncong/BstemAtlasData/CSHL_data/ChatCryoJane201710/ChatCryoJane201710_raw//Chat_slide6-S2-Ntb.tif\" -flip -rotate 270 -compress LZW \"/media/yuncong/BstemAtlasData/CSHL_data/ChatCryoJane201710/ChatCryoJane201710_raw_Ntb//ChatCryoJane201710_slide6-S2_lossless.tif\" \n",
      "convert \"/media/yuncong/BstemAtlasData/CSHL_data/ChatCryoJane201710/ChatCryoJane201710_raw//Chat_slide6-S3-Chat.tif\" -flip -rotate 270 -compress LZW \"/media/yuncong/BstemAtlasData/CSHL_data/ChatCryoJane201710/ChatCryoJane201710_raw_Chat//ChatCryoJane201710_slide6-S3_lossless.tif\" \n",
      "convert \"/media/yuncong/BstemAtlasData/CSHL_data/ChatCryoJane201710/ChatCryoJane201710_raw//Chat_slide6-S3-Ntb.tif\" -flip -rotate 270 -compress LZW \"/media/yuncong/BstemAtlasData/CSHL_data/ChatCryoJane201710/ChatCryoJane201710_raw_Ntb//ChatCryoJane201710_slide6-S3_lossless.tif\" \n",
      "convert \"/media/yuncong/BstemAtlasData/CSHL_data/ChatCryoJane201710/ChatCryoJane201710_raw//Chat_slide60-S1-Chat.tif\" -flip -rotate 270 -compress LZW \"/media/yuncong/BstemAtlasData/CSHL_data/ChatCryoJane201710/ChatCryoJane201710_raw_Chat//ChatCryoJane201710_slide60-S1_lossless.tif\" \n",
      "convert \"/media/yuncong/BstemAtlasData/CSHL_data/ChatCryoJane201710/ChatCryoJane201710_raw//Chat_slide60-S1-Ntb.tif\" -flip -rotate 270 -compress LZW \"/media/yuncong/BstemAtlasData/CSHL_data/ChatCryoJane201710/ChatCryoJane201710_raw_Ntb//ChatCryoJane201710_slide60-S1_lossless.tif\" \n",
      "convert \"/media/yuncong/BstemAtlasData/CSHL_data/ChatCryoJane201710/ChatCryoJane201710_raw//Chat_slide60-S2-Chat.tif\" -flip -rotate 270 -compress LZW \"/media/yuncong/BstemAtlasData/CSHL_data/ChatCryoJane201710/ChatCryoJane201710_raw_Chat//ChatCryoJane201710_slide60-S2_lossless.tif\" \n",
      "convert \"/media/yuncong/BstemAtlasData/CSHL_data/ChatCryoJane201710/ChatCryoJane201710_raw//Chat_slide60-S2-Ntb.tif\" -flip -rotate 270 -compress LZW \"/media/yuncong/BstemAtlasData/CSHL_data/ChatCryoJane201710/ChatCryoJane201710_raw_Ntb//ChatCryoJane201710_slide60-S2_lossless.tif\" \n",
      "convert \"/media/yuncong/BstemAtlasData/CSHL_data/ChatCryoJane201710/ChatCryoJane201710_raw//Chat_slide60-S3-Chat.tif\" -flip -rotate 270 -compress LZW \"/media/yuncong/BstemAtlasData/CSHL_data/ChatCryoJane201710/ChatCryoJane201710_raw_Chat//ChatCryoJane201710_slide60-S3_lossless.tif\" \n",
      "convert \"/media/yuncong/BstemAtlasData/CSHL_data/ChatCryoJane201710/ChatCryoJane201710_raw//Chat_slide60-S3-Ntb.tif\" -flip -rotate 270 -compress LZW \"/media/yuncong/BstemAtlasData/CSHL_data/ChatCryoJane201710/ChatCryoJane201710_raw_Ntb//ChatCryoJane201710_slide60-S3_lossless.tif\" \n",
      "convert \"/media/yuncong/BstemAtlasData/CSHL_data/ChatCryoJane201710/ChatCryoJane201710_raw//Chat_slide7-S1-Chat.tif\" -flip -rotate 270 -compress LZW \"/media/yuncong/BstemAtlasData/CSHL_data/ChatCryoJane201710/ChatCryoJane201710_raw_Chat//ChatCryoJane201710_slide7-S1_lossless.tif\" \n",
      "convert \"/media/yuncong/BstemAtlasData/CSHL_data/ChatCryoJane201710/ChatCryoJane201710_raw//Chat_slide7-S1-Ntb.tif\" -flip -rotate 270 -compress LZW \"/media/yuncong/BstemAtlasData/CSHL_data/ChatCryoJane201710/ChatCryoJane201710_raw_Ntb//ChatCryoJane201710_slide7-S1_lossless.tif\" \n",
      "convert \"/media/yuncong/BstemAtlasData/CSHL_data/ChatCryoJane201710/ChatCryoJane201710_raw//Chat_slide7-S2-Chat.tif\" -flip -rotate 270 -compress LZW \"/media/yuncong/BstemAtlasData/CSHL_data/ChatCryoJane201710/ChatCryoJane201710_raw_Chat//ChatCryoJane201710_slide7-S2_lossless.tif\" \n",
      "convert \"/media/yuncong/BstemAtlasData/CSHL_data/ChatCryoJane201710/ChatCryoJane201710_raw//Chat_slide7-S2-Ntb.tif\" -flip -rotate 270 -compress LZW \"/media/yuncong/BstemAtlasData/CSHL_data/ChatCryoJane201710/ChatCryoJane201710_raw_Ntb//ChatCryoJane201710_slide7-S2_lossless.tif\" \n",
      "convert \"/media/yuncong/BstemAtlasData/CSHL_data/ChatCryoJane201710/ChatCryoJane201710_raw//Chat_slide11-S2-Ntb.tif\" -flip -rotate 270 -compress LZW \"/media/yuncong/BstemAtlasData/CSHL_data/ChatCryoJane201710/ChatCryoJane201710_raw_Ntb//ChatCryoJane201710_slide11-S2_lossless.tif\" \n",
      "convert \"/media/yuncong/BstemAtlasData/CSHL_data/ChatCryoJane201710/ChatCryoJane201710_raw//Chat_slide11-S3-Chat.tif\" -flip -rotate 270 -compress LZW \"/media/yuncong/BstemAtlasData/CSHL_data/ChatCryoJane201710/ChatCryoJane201710_raw_Chat//ChatCryoJane201710_slide11-S3_lossless.tif\" \n",
      "convert \"/media/yuncong/BstemAtlasData/CSHL_data/ChatCryoJane201710/ChatCryoJane201710_raw//Chat_slide11-S3-Ntb.tif\" -flip -rotate 270 -compress LZW \"/media/yuncong/BstemAtlasData/CSHL_data/ChatCryoJane201710/ChatCryoJane201710_raw_Ntb//ChatCryoJane201710_slide11-S3_lossless.tif\" \n",
      "convert \"/media/yuncong/BstemAtlasData/CSHL_data/ChatCryoJane201710/ChatCryoJane201710_raw//Chat_slide12-S1-Chat.tif\" -flip -rotate 270 -compress LZW \"/media/yuncong/BstemAtlasData/CSHL_data/ChatCryoJane201710/ChatCryoJane201710_raw_Chat//ChatCryoJane201710_slide12-S1_lossless.tif\" \n",
      "convert \"/media/yuncong/BstemAtlasData/CSHL_data/ChatCryoJane201710/ChatCryoJane201710_raw//Chat_slide12-S1-Ntb.tif\" -flip -rotate 270 -compress LZW \"/media/yuncong/BstemAtlasData/CSHL_data/ChatCryoJane201710/ChatCryoJane201710_raw_Ntb//ChatCryoJane201710_slide12-S1_lossless.tif\" \n",
      "convert \"/media/yuncong/BstemAtlasData/CSHL_data/ChatCryoJane201710/ChatCryoJane201710_raw//Chat_slide12-S2-Chat.tif\" -flip -rotate 270 -compress LZW \"/media/yuncong/BstemAtlasData/CSHL_data/ChatCryoJane201710/ChatCryoJane201710_raw_Chat//ChatCryoJane201710_slide12-S2_lossless.tif\" \n",
      "convert \"/media/yuncong/BstemAtlasData/CSHL_data/ChatCryoJane201710/ChatCryoJane201710_raw//Chat_slide12-S2-Ntb.tif\" -flip -rotate 270 -compress LZW \"/media/yuncong/BstemAtlasData/CSHL_data/ChatCryoJane201710/ChatCryoJane201710_raw_Ntb//ChatCryoJane201710_slide12-S2_lossless.tif\" \n",
      "convert \"/media/yuncong/BstemAtlasData/CSHL_data/ChatCryoJane201710/ChatCryoJane201710_raw//Chat_slide12-S3-Chat.tif\" -flip -rotate 270 -compress LZW \"/media/yuncong/BstemAtlasData/CSHL_data/ChatCryoJane201710/ChatCryoJane201710_raw_Chat//ChatCryoJane201710_slide12-S3_lossless.tif\" \n",
      "convert \"/media/yuncong/BstemAtlasData/CSHL_data/ChatCryoJane201710/ChatCryoJane201710_raw//Chat_slide12-S3-Ntb.tif\" -flip -rotate 270 -compress LZW \"/media/yuncong/BstemAtlasData/CSHL_data/ChatCryoJane201710/ChatCryoJane201710_raw_Ntb//ChatCryoJane201710_slide12-S3_lossless.tif\" \n",
      "convert \"/media/yuncong/BstemAtlasData/CSHL_data/ChatCryoJane201710/ChatCryoJane201710_raw//Chat_slide13-S1-Chat.tif\" -flip -rotate 270 -compress LZW \"/media/yuncong/BstemAtlasData/CSHL_data/ChatCryoJane201710/ChatCryoJane201710_raw_Chat//ChatCryoJane201710_slide13-S1_lossless.tif\" \n",
      "convert \"/media/yuncong/BstemAtlasData/CSHL_data/ChatCryoJane201710/ChatCryoJane201710_raw//Chat_slide13-S1-Ntb.tif\" -flip -rotate 270 -compress LZW \"/media/yuncong/BstemAtlasData/CSHL_data/ChatCryoJane201710/ChatCryoJane201710_raw_Ntb//ChatCryoJane201710_slide13-S1_lossless.tif\" \n",
      "convert \"/media/yuncong/BstemAtlasData/CSHL_data/ChatCryoJane201710/ChatCryoJane201710_raw//Chat_slide13-S2-Chat.tif\" -flip -rotate 270 -compress LZW \"/media/yuncong/BstemAtlasData/CSHL_data/ChatCryoJane201710/ChatCryoJane201710_raw_Chat//ChatCryoJane201710_slide13-S2_lossless.tif\" \n",
      "convert \"/media/yuncong/BstemAtlasData/CSHL_data/ChatCryoJane201710/ChatCryoJane201710_raw//Chat_slide13-S2-Ntb.tif\" -flip -rotate 270 -compress LZW \"/media/yuncong/BstemAtlasData/CSHL_data/ChatCryoJane201710/ChatCryoJane201710_raw_Ntb//ChatCryoJane201710_slide13-S2_lossless.tif\" \n",
      "convert \"/media/yuncong/BstemAtlasData/CSHL_data/ChatCryoJane201710/ChatCryoJane201710_raw//Chat_slide11-S2-Chat.tif\" -flip -rotate 270 -compress LZW \"/media/yuncong/BstemAtlasData/CSHL_data/ChatCryoJane201710/ChatCryoJane201710_raw_Chat//ChatCryoJane201710_slide11-S2_lossless.tif\" \n",
      "convert \"/media/yuncong/BstemAtlasData/CSHL_data/ChatCryoJane201710/ChatCryoJane201710_raw//Chat_slide13-S3-Chat.tif\" -flip -rotate 270 -compress LZW \"/media/yuncong/BstemAtlasData/CSHL_data/ChatCryoJane201710/ChatCryoJane201710_raw_Chat//ChatCryoJane201710_slide13-S3_lossless.tif\" \n",
      "convert \"/media/yuncong/BstemAtlasData/CSHL_data/ChatCryoJane201710/ChatCryoJane201710_raw//Chat_slide16-S2-Chat.tif\" -flip -rotate 270 -compress LZW \"/media/yuncong/BstemAtlasData/CSHL_data/ChatCryoJane201710/ChatCryoJane201710_raw_Chat//ChatCryoJane201710_slide16-S2_lossless.tif\" \n"
     ]
    },
    {
     "name": "stdout",
     "output_type": "stream",
     "text": [
      "convert \"/media/yuncong/BstemAtlasData/CSHL_data/ChatCryoJane201710/ChatCryoJane201710_raw//Chat_slide2-S2-Ntb.tif\" -flip -rotate 270 -compress LZW \"/media/yuncong/BstemAtlasData/CSHL_data/ChatCryoJane201710/ChatCryoJane201710_raw_Ntb//ChatCryoJane201710_slide2-S2_lossless.tif\" \n",
      "convert \"/media/yuncong/BstemAtlasData/CSHL_data/ChatCryoJane201710/ChatCryoJane201710_raw//Chat_slide22-S1-Chat.tif\" -flip -rotate 270 -compress LZW \"/media/yuncong/BstemAtlasData/CSHL_data/ChatCryoJane201710/ChatCryoJane201710_raw_Chat//ChatCryoJane201710_slide22-S1_lossless.tif\" \n",
      "convert \"/media/yuncong/BstemAtlasData/CSHL_data/ChatCryoJane201710/ChatCryoJane201710_raw//Chat_slide24-S2-Ntb.tif\" -flip -rotate 270 -compress LZW \"/media/yuncong/BstemAtlasData/CSHL_data/ChatCryoJane201710/ChatCryoJane201710_raw_Ntb//ChatCryoJane201710_slide24-S2_lossless.tif\" \n",
      "convert \"/media/yuncong/BstemAtlasData/CSHL_data/ChatCryoJane201710/ChatCryoJane201710_raw//Chat_slide27-S1-Chat.tif\" -flip -rotate 270 -compress LZW \"/media/yuncong/BstemAtlasData/CSHL_data/ChatCryoJane201710/ChatCryoJane201710_raw_Chat//ChatCryoJane201710_slide27-S1_lossless.tif\" \n",
      "convert \"/media/yuncong/BstemAtlasData/CSHL_data/ChatCryoJane201710/ChatCryoJane201710_raw//Chat_slide28-S3-Ntb.tif\" -flip -rotate 270 -compress LZW \"/media/yuncong/BstemAtlasData/CSHL_data/ChatCryoJane201710/ChatCryoJane201710_raw_Ntb//ChatCryoJane201710_slide28-S3_lossless.tif\" \n",
      "convert \"/media/yuncong/BstemAtlasData/CSHL_data/ChatCryoJane201710/ChatCryoJane201710_raw//Chat_slide31-S2-Chat.tif\" -flip -rotate 270 -compress LZW \"/media/yuncong/BstemAtlasData/CSHL_data/ChatCryoJane201710/ChatCryoJane201710_raw_Chat//ChatCryoJane201710_slide31-S2_lossless.tif\" \n",
      "convert \"/media/yuncong/BstemAtlasData/CSHL_data/ChatCryoJane201710/ChatCryoJane201710_raw//Chat_slide33-S3-Ntb.tif\" -flip -rotate 270 -compress LZW \"/media/yuncong/BstemAtlasData/CSHL_data/ChatCryoJane201710/ChatCryoJane201710_raw_Ntb//ChatCryoJane201710_slide33-S3_lossless.tif\" \n",
      "convert \"/media/yuncong/BstemAtlasData/CSHL_data/ChatCryoJane201710/ChatCryoJane201710_raw//Chat_slide36-S2-Chat.tif\" -flip -rotate 270 -compress LZW \"/media/yuncong/BstemAtlasData/CSHL_data/ChatCryoJane201710/ChatCryoJane201710_raw_Chat//ChatCryoJane201710_slide36-S2_lossless.tif\" \n",
      "convert \"/media/yuncong/BstemAtlasData/CSHL_data/ChatCryoJane201710/ChatCryoJane201710_raw//Chat_slide38-S3-Ntb.tif\" -flip -rotate 270 -compress LZW \"/media/yuncong/BstemAtlasData/CSHL_data/ChatCryoJane201710/ChatCryoJane201710_raw_Ntb//ChatCryoJane201710_slide38-S3_lossless.tif\" \n",
      "convert \"/media/yuncong/BstemAtlasData/CSHL_data/ChatCryoJane201710/ChatCryoJane201710_raw//Chat_slide40-S2-Chat.tif\" -flip -rotate 270 -compress LZW \"/media/yuncong/BstemAtlasData/CSHL_data/ChatCryoJane201710/ChatCryoJane201710_raw_Chat//ChatCryoJane201710_slide40-S2_lossless.tif\" \n",
      "convert \"/media/yuncong/BstemAtlasData/CSHL_data/ChatCryoJane201710/ChatCryoJane201710_raw//Chat_slide42-S3-Ntb.tif\" -flip -rotate 270 -compress LZW \"/media/yuncong/BstemAtlasData/CSHL_data/ChatCryoJane201710/ChatCryoJane201710_raw_Ntb//ChatCryoJane201710_slide42-S3_lossless.tif\" \n",
      "convert \"/media/yuncong/BstemAtlasData/CSHL_data/ChatCryoJane201710/ChatCryoJane201710_raw//Chat_slide45-S2-Chat.tif\" -flip -rotate 270 -compress LZW \"/media/yuncong/BstemAtlasData/CSHL_data/ChatCryoJane201710/ChatCryoJane201710_raw_Chat//ChatCryoJane201710_slide45-S2_lossless.tif\" \n",
      "convert \"/media/yuncong/BstemAtlasData/CSHL_data/ChatCryoJane201710/ChatCryoJane201710_raw//Chat_slide47-S3-Ntb.tif\" -flip -rotate 270 -compress LZW \"/media/yuncong/BstemAtlasData/CSHL_data/ChatCryoJane201710/ChatCryoJane201710_raw_Ntb//ChatCryoJane201710_slide47-S3_lossless.tif\" \n",
      "convert \"/media/yuncong/BstemAtlasData/CSHL_data/ChatCryoJane201710/ChatCryoJane201710_raw//Chat_slide5-S2-Chat.tif\" -flip -rotate 270 -compress LZW \"/media/yuncong/BstemAtlasData/CSHL_data/ChatCryoJane201710/ChatCryoJane201710_raw_Chat//ChatCryoJane201710_slide5-S2_lossless.tif\" \n",
      "convert \"/media/yuncong/BstemAtlasData/CSHL_data/ChatCryoJane201710/ChatCryoJane201710_raw//Chat_slide53-S3-Ntb.tif\" -flip -rotate 270 -compress LZW \"/media/yuncong/BstemAtlasData/CSHL_data/ChatCryoJane201710/ChatCryoJane201710_raw_Ntb//ChatCryoJane201710_slide53-S3_lossless.tif\" \n",
      "convert \"/media/yuncong/BstemAtlasData/CSHL_data/ChatCryoJane201710/ChatCryoJane201710_raw//Chat_slide56-S2-Chat.tif\" -flip -rotate 270 -compress LZW \"/media/yuncong/BstemAtlasData/CSHL_data/ChatCryoJane201710/ChatCryoJane201710_raw_Chat//ChatCryoJane201710_slide56-S2_lossless.tif\" \n",
      "convert \"/media/yuncong/BstemAtlasData/CSHL_data/ChatCryoJane201710/ChatCryoJane201710_raw//Chat_slide6-S1-Chat.tif\" -flip -rotate 270 -compress LZW \"/media/yuncong/BstemAtlasData/CSHL_data/ChatCryoJane201710/ChatCryoJane201710_raw_Chat//ChatCryoJane201710_slide6-S1_lossless.tif\" \n",
      "convert \"/media/yuncong/BstemAtlasData/CSHL_data/ChatCryoJane201710/ChatCryoJane201710_raw//Chat_slide7-S3-Chat.tif\" -flip -rotate 270 -compress LZW \"/media/yuncong/BstemAtlasData/CSHL_data/ChatCryoJane201710/ChatCryoJane201710_raw_Chat//ChatCryoJane201710_slide7-S3_lossless.tif\" \n",
      "convert \"/media/yuncong/BstemAtlasData/CSHL_data/ChatCryoJane201710/ChatCryoJane201710_raw//Chat_slide13-S3-Ntb.tif\" -flip -rotate 270 -compress LZW \"/media/yuncong/BstemAtlasData/CSHL_data/ChatCryoJane201710/ChatCryoJane201710_raw_Ntb//ChatCryoJane201710_slide13-S3_lossless.tif\" \n",
      "convert \"/media/yuncong/BstemAtlasData/CSHL_data/ChatCryoJane201710/ChatCryoJane201710_raw//Chat_slide14-S1-Chat.tif\" -flip -rotate 270 -compress LZW \"/media/yuncong/BstemAtlasData/CSHL_data/ChatCryoJane201710/ChatCryoJane201710_raw_Chat//ChatCryoJane201710_slide14-S1_lossless.tif\" \n",
      "convert \"/media/yuncong/BstemAtlasData/CSHL_data/ChatCryoJane201710/ChatCryoJane201710_raw//Chat_slide14-S1-Ntb.tif\" -flip -rotate 270 -compress LZW \"/media/yuncong/BstemAtlasData/CSHL_data/ChatCryoJane201710/ChatCryoJane201710_raw_Ntb//ChatCryoJane201710_slide14-S1_lossless.tif\" \n",
      "convert \"/media/yuncong/BstemAtlasData/CSHL_data/ChatCryoJane201710/ChatCryoJane201710_raw//Chat_slide14-S2-Chat.tif\" -flip -rotate 270 -compress LZW \"/media/yuncong/BstemAtlasData/CSHL_data/ChatCryoJane201710/ChatCryoJane201710_raw_Chat//ChatCryoJane201710_slide14-S2_lossless.tif\" \n",
      "convert \"/media/yuncong/BstemAtlasData/CSHL_data/ChatCryoJane201710/ChatCryoJane201710_raw//Chat_slide14-S2-Ntb.tif\" -flip -rotate 270 -compress LZW \"/media/yuncong/BstemAtlasData/CSHL_data/ChatCryoJane201710/ChatCryoJane201710_raw_Ntb//ChatCryoJane201710_slide14-S2_lossless.tif\" \n",
      "convert \"/media/yuncong/BstemAtlasData/CSHL_data/ChatCryoJane201710/ChatCryoJane201710_raw//Chat_slide14-S3-Chat.tif\" -flip -rotate 270 -compress LZW \"/media/yuncong/BstemAtlasData/CSHL_data/ChatCryoJane201710/ChatCryoJane201710_raw_Chat//ChatCryoJane201710_slide14-S3_lossless.tif\" \n",
      "convert \"/media/yuncong/BstemAtlasData/CSHL_data/ChatCryoJane201710/ChatCryoJane201710_raw//Chat_slide14-S3-Ntb.tif\" -flip -rotate 270 -compress LZW \"/media/yuncong/BstemAtlasData/CSHL_data/ChatCryoJane201710/ChatCryoJane201710_raw_Ntb//ChatCryoJane201710_slide14-S3_lossless.tif\" \n",
      "convert \"/media/yuncong/BstemAtlasData/CSHL_data/ChatCryoJane201710/ChatCryoJane201710_raw//Chat_slide15-S1-Chat.tif\" -flip -rotate 270 -compress LZW \"/media/yuncong/BstemAtlasData/CSHL_data/ChatCryoJane201710/ChatCryoJane201710_raw_Chat//ChatCryoJane201710_slide15-S1_lossless.tif\" \n",
      "convert \"/media/yuncong/BstemAtlasData/CSHL_data/ChatCryoJane201710/ChatCryoJane201710_raw//Chat_slide15-S1-Ntb.tif\" -flip -rotate 270 -compress LZW \"/media/yuncong/BstemAtlasData/CSHL_data/ChatCryoJane201710/ChatCryoJane201710_raw_Ntb//ChatCryoJane201710_slide15-S1_lossless.tif\" \n",
      "convert \"/media/yuncong/BstemAtlasData/CSHL_data/ChatCryoJane201710/ChatCryoJane201710_raw//Chat_slide15-S2-Chat.tif\" -flip -rotate 270 -compress LZW \"/media/yuncong/BstemAtlasData/CSHL_data/ChatCryoJane201710/ChatCryoJane201710_raw_Chat//ChatCryoJane201710_slide15-S2_lossless.tif\" \n",
      "convert \"/media/yuncong/BstemAtlasData/CSHL_data/ChatCryoJane201710/ChatCryoJane201710_raw//Chat_slide15-S2-Ntb.tif\" -flip -rotate 270 -compress LZW \"/media/yuncong/BstemAtlasData/CSHL_data/ChatCryoJane201710/ChatCryoJane201710_raw_Ntb//ChatCryoJane201710_slide15-S2_lossless.tif\" \n"
     ]
    },
    {
     "name": "stdout",
     "output_type": "stream",
     "text": [
      "convert \"/media/yuncong/BstemAtlasData/CSHL_data/ChatCryoJane201710/ChatCryoJane201710_raw//Chat_slide15-S3-Chat.tif\" -flip -rotate 270 -compress LZW \"/media/yuncong/BstemAtlasData/CSHL_data/ChatCryoJane201710/ChatCryoJane201710_raw_Chat//ChatCryoJane201710_slide15-S3_lossless.tif\" \n",
      "convert \"/media/yuncong/BstemAtlasData/CSHL_data/ChatCryoJane201710/ChatCryoJane201710_raw//Chat_slide15-S3-Ntb.tif\" -flip -rotate 270 -compress LZW \"/media/yuncong/BstemAtlasData/CSHL_data/ChatCryoJane201710/ChatCryoJane201710_raw_Ntb//ChatCryoJane201710_slide15-S3_lossless.tif\" \n",
      "convert \"/media/yuncong/BstemAtlasData/CSHL_data/ChatCryoJane201710/ChatCryoJane201710_raw//Chat_slide16-S1-Chat.tif\" -flip -rotate 270 -compress LZW \"/media/yuncong/BstemAtlasData/CSHL_data/ChatCryoJane201710/ChatCryoJane201710_raw_Chat//ChatCryoJane201710_slide16-S1_lossless.tif\" \n",
      "convert \"/media/yuncong/BstemAtlasData/CSHL_data/ChatCryoJane201710/ChatCryoJane201710_raw//Chat_slide16-S1-Ntb.tif\" -flip -rotate 270 -compress LZW \"/media/yuncong/BstemAtlasData/CSHL_data/ChatCryoJane201710/ChatCryoJane201710_raw_Ntb//ChatCryoJane201710_slide16-S1_lossless.tif\" \n",
      "convert \"/media/yuncong/BstemAtlasData/CSHL_data/ChatCryoJane201710/ChatCryoJane201710_raw//Chat_slide16-S2-Ntb.tif\" -flip -rotate 270 -compress LZW \"/media/yuncong/BstemAtlasData/CSHL_data/ChatCryoJane201710/ChatCryoJane201710_raw_Ntb//ChatCryoJane201710_slide16-S2_lossless.tif\" \n",
      "convert \"/media/yuncong/BstemAtlasData/CSHL_data/ChatCryoJane201710/ChatCryoJane201710_raw//Chat_slide16-S3-Chat.tif\" -flip -rotate 270 -compress LZW \"/media/yuncong/BstemAtlasData/CSHL_data/ChatCryoJane201710/ChatCryoJane201710_raw_Chat//ChatCryoJane201710_slide16-S3_lossless.tif\" \n",
      "convert \"/media/yuncong/BstemAtlasData/CSHL_data/ChatCryoJane201710/ChatCryoJane201710_raw//Chat_slide16-S3-Ntb.tif\" -flip -rotate 270 -compress LZW \"/media/yuncong/BstemAtlasData/CSHL_data/ChatCryoJane201710/ChatCryoJane201710_raw_Ntb//ChatCryoJane201710_slide16-S3_lossless.tif\" \n",
      "convert \"/media/yuncong/BstemAtlasData/CSHL_data/ChatCryoJane201710/ChatCryoJane201710_raw//Chat_slide17-S1-Chat.tif\" -flip -rotate 270 -compress LZW \"/media/yuncong/BstemAtlasData/CSHL_data/ChatCryoJane201710/ChatCryoJane201710_raw_Chat//ChatCryoJane201710_slide17-S1_lossless.tif\" \n",
      "convert \"/media/yuncong/BstemAtlasData/CSHL_data/ChatCryoJane201710/ChatCryoJane201710_raw//Chat_slide17-S1-Ntb.tif\" -flip -rotate 270 -compress LZW \"/media/yuncong/BstemAtlasData/CSHL_data/ChatCryoJane201710/ChatCryoJane201710_raw_Ntb//ChatCryoJane201710_slide17-S1_lossless.tif\" \n",
      "convert \"/media/yuncong/BstemAtlasData/CSHL_data/ChatCryoJane201710/ChatCryoJane201710_raw//Chat_slide17-S2-Chat.tif\" -flip -rotate 270 -compress LZW \"/media/yuncong/BstemAtlasData/CSHL_data/ChatCryoJane201710/ChatCryoJane201710_raw_Chat//ChatCryoJane201710_slide17-S2_lossless.tif\" \n",
      "convert \"/media/yuncong/BstemAtlasData/CSHL_data/ChatCryoJane201710/ChatCryoJane201710_raw//Chat_slide17-S2-Ntb.tif\" -flip -rotate 270 -compress LZW \"/media/yuncong/BstemAtlasData/CSHL_data/ChatCryoJane201710/ChatCryoJane201710_raw_Ntb//ChatCryoJane201710_slide17-S2_lossless.tif\" \n",
      "convert \"/media/yuncong/BstemAtlasData/CSHL_data/ChatCryoJane201710/ChatCryoJane201710_raw//Chat_slide17-S3-Chat.tif\" -flip -rotate 270 -compress LZW \"/media/yuncong/BstemAtlasData/CSHL_data/ChatCryoJane201710/ChatCryoJane201710_raw_Chat//ChatCryoJane201710_slide17-S3_lossless.tif\" \n",
      "convert \"/media/yuncong/BstemAtlasData/CSHL_data/ChatCryoJane201710/ChatCryoJane201710_raw//Chat_slide17-S3-Ntb.tif\" -flip -rotate 270 -compress LZW \"/media/yuncong/BstemAtlasData/CSHL_data/ChatCryoJane201710/ChatCryoJane201710_raw_Ntb//ChatCryoJane201710_slide17-S3_lossless.tif\" \n",
      "convert \"/media/yuncong/BstemAtlasData/CSHL_data/ChatCryoJane201710/ChatCryoJane201710_raw//Chat_slide18-S1-Chat.tif\" -flip -rotate 270 -compress LZW \"/media/yuncong/BstemAtlasData/CSHL_data/ChatCryoJane201710/ChatCryoJane201710_raw_Chat//ChatCryoJane201710_slide18-S1_lossless.tif\" \n",
      "convert \"/media/yuncong/BstemAtlasData/CSHL_data/ChatCryoJane201710/ChatCryoJane201710_raw//Chat_slide18-S1-Ntb.tif\" -flip -rotate 270 -compress LZW \"/media/yuncong/BstemAtlasData/CSHL_data/ChatCryoJane201710/ChatCryoJane201710_raw_Ntb//ChatCryoJane201710_slide18-S1_lossless.tif\" \n",
      "convert \"/media/yuncong/BstemAtlasData/CSHL_data/ChatCryoJane201710/ChatCryoJane201710_raw//Chat_slide18-S2-Chat.tif\" -flip -rotate 270 -compress LZW \"/media/yuncong/BstemAtlasData/CSHL_data/ChatCryoJane201710/ChatCryoJane201710_raw_Chat//ChatCryoJane201710_slide18-S2_lossless.tif\" \n",
      "convert \"/media/yuncong/BstemAtlasData/CSHL_data/ChatCryoJane201710/ChatCryoJane201710_raw//Chat_slide18-S2-Ntb.tif\" -flip -rotate 270 -compress LZW \"/media/yuncong/BstemAtlasData/CSHL_data/ChatCryoJane201710/ChatCryoJane201710_raw_Ntb//ChatCryoJane201710_slide18-S2_lossless.tif\" \n",
      "convert \"/media/yuncong/BstemAtlasData/CSHL_data/ChatCryoJane201710/ChatCryoJane201710_raw//Chat_slide18-S3-Chat.tif\" -flip -rotate 270 -compress LZW \"/media/yuncong/BstemAtlasData/CSHL_data/ChatCryoJane201710/ChatCryoJane201710_raw_Chat//ChatCryoJane201710_slide18-S3_lossless.tif\" \n",
      "convert \"/media/yuncong/BstemAtlasData/CSHL_data/ChatCryoJane201710/ChatCryoJane201710_raw//Chat_slide18-S3-Ntb.tif\" -flip -rotate 270 -compress LZW \"/media/yuncong/BstemAtlasData/CSHL_data/ChatCryoJane201710/ChatCryoJane201710_raw_Ntb//ChatCryoJane201710_slide18-S3_lossless.tif\" \n",
      "convert \"/media/yuncong/BstemAtlasData/CSHL_data/ChatCryoJane201710/ChatCryoJane201710_raw//Chat_slide19-S1-Chat.tif\" -flip -rotate 270 -compress LZW \"/media/yuncong/BstemAtlasData/CSHL_data/ChatCryoJane201710/ChatCryoJane201710_raw_Chat//ChatCryoJane201710_slide19-S1_lossless.tif\" \n",
      "convert \"/media/yuncong/BstemAtlasData/CSHL_data/ChatCryoJane201710/ChatCryoJane201710_raw//Chat_slide19-S1-Ntb.tif\" -flip -rotate 270 -compress LZW \"/media/yuncong/BstemAtlasData/CSHL_data/ChatCryoJane201710/ChatCryoJane201710_raw_Ntb//ChatCryoJane201710_slide19-S1_lossless.tif\" \n",
      "convert \"/media/yuncong/BstemAtlasData/CSHL_data/ChatCryoJane201710/ChatCryoJane201710_raw//Chat_slide19-S2-Chat.tif\" -flip -rotate 270 -compress LZW \"/media/yuncong/BstemAtlasData/CSHL_data/ChatCryoJane201710/ChatCryoJane201710_raw_Chat//ChatCryoJane201710_slide19-S2_lossless.tif\" \n",
      "convert \"/media/yuncong/BstemAtlasData/CSHL_data/ChatCryoJane201710/ChatCryoJane201710_raw//Chat_slide19-S2-Ntb.tif\" -flip -rotate 270 -compress LZW \"/media/yuncong/BstemAtlasData/CSHL_data/ChatCryoJane201710/ChatCryoJane201710_raw_Ntb//ChatCryoJane201710_slide19-S2_lossless.tif\" \n",
      "convert \"/media/yuncong/BstemAtlasData/CSHL_data/ChatCryoJane201710/ChatCryoJane201710_raw//Chat_slide19-S3-Chat.tif\" -flip -rotate 270 -compress LZW \"/media/yuncong/BstemAtlasData/CSHL_data/ChatCryoJane201710/ChatCryoJane201710_raw_Chat//ChatCryoJane201710_slide19-S3_lossless.tif\" \n",
      "convert \"/media/yuncong/BstemAtlasData/CSHL_data/ChatCryoJane201710/ChatCryoJane201710_raw//Chat_slide19-S3-Ntb.tif\" -flip -rotate 270 -compress LZW \"/media/yuncong/BstemAtlasData/CSHL_data/ChatCryoJane201710/ChatCryoJane201710_raw_Ntb//ChatCryoJane201710_slide19-S3_lossless.tif\" \n",
      "convert \"/media/yuncong/BstemAtlasData/CSHL_data/ChatCryoJane201710/ChatCryoJane201710_raw//Chat_slide2-S1-Chat.tif\" -flip -rotate 270 -compress LZW \"/media/yuncong/BstemAtlasData/CSHL_data/ChatCryoJane201710/ChatCryoJane201710_raw_Chat//ChatCryoJane201710_slide2-S1_lossless.tif\" \n",
      "convert \"/media/yuncong/BstemAtlasData/CSHL_data/ChatCryoJane201710/ChatCryoJane201710_raw//Chat_slide2-S1-Ntb.tif\" -flip -rotate 270 -compress LZW \"/media/yuncong/BstemAtlasData/CSHL_data/ChatCryoJane201710/ChatCryoJane201710_raw_Ntb//ChatCryoJane201710_slide2-S1_lossless.tif\" \n",
      "convert \"/media/yuncong/BstemAtlasData/CSHL_data/ChatCryoJane201710/ChatCryoJane201710_raw//Chat_slide2-S2-Chat.tif\" -flip -rotate 270 -compress LZW \"/media/yuncong/BstemAtlasData/CSHL_data/ChatCryoJane201710/ChatCryoJane201710_raw_Chat//ChatCryoJane201710_slide2-S2_lossless.tif\" \n",
      "convert \"/media/yuncong/BstemAtlasData/CSHL_data/ChatCryoJane201710/ChatCryoJane201710_raw//Chat_slide22-S1-Ntb.tif\" -flip -rotate 270 -compress LZW \"/media/yuncong/BstemAtlasData/CSHL_data/ChatCryoJane201710/ChatCryoJane201710_raw_Ntb//ChatCryoJane201710_slide22-S1_lossless.tif\" \n"
     ]
    },
    {
     "name": "stdout",
     "output_type": "stream",
     "text": [
      "convert \"/media/yuncong/BstemAtlasData/CSHL_data/ChatCryoJane201710/ChatCryoJane201710_raw//Chat_slide22-S2-Chat.tif\" -flip -rotate 270 -compress LZW \"/media/yuncong/BstemAtlasData/CSHL_data/ChatCryoJane201710/ChatCryoJane201710_raw_Chat//ChatCryoJane201710_slide22-S2_lossless.tif\" \n",
      "convert \"/media/yuncong/BstemAtlasData/CSHL_data/ChatCryoJane201710/ChatCryoJane201710_raw//Chat_slide22-S2-Ntb.tif\" -flip -rotate 270 -compress LZW \"/media/yuncong/BstemAtlasData/CSHL_data/ChatCryoJane201710/ChatCryoJane201710_raw_Ntb//ChatCryoJane201710_slide22-S2_lossless.tif\" \n",
      "convert \"/media/yuncong/BstemAtlasData/CSHL_data/ChatCryoJane201710/ChatCryoJane201710_raw//Chat_slide22-S3-Chat.tif\" -flip -rotate 270 -compress LZW \"/media/yuncong/BstemAtlasData/CSHL_data/ChatCryoJane201710/ChatCryoJane201710_raw_Chat//ChatCryoJane201710_slide22-S3_lossless.tif\" \n",
      "convert \"/media/yuncong/BstemAtlasData/CSHL_data/ChatCryoJane201710/ChatCryoJane201710_raw//Chat_slide22-S3-Ntb.tif\" -flip -rotate 270 -compress LZW \"/media/yuncong/BstemAtlasData/CSHL_data/ChatCryoJane201710/ChatCryoJane201710_raw_Ntb//ChatCryoJane201710_slide22-S3_lossless.tif\" \n",
      "convert \"/media/yuncong/BstemAtlasData/CSHL_data/ChatCryoJane201710/ChatCryoJane201710_raw//Chat_slide23-S1-Chat.tif\" -flip -rotate 270 -compress LZW \"/media/yuncong/BstemAtlasData/CSHL_data/ChatCryoJane201710/ChatCryoJane201710_raw_Chat//ChatCryoJane201710_slide23-S1_lossless.tif\" \n",
      "convert \"/media/yuncong/BstemAtlasData/CSHL_data/ChatCryoJane201710/ChatCryoJane201710_raw//Chat_slide23-S1-Ntb.tif\" -flip -rotate 270 -compress LZW \"/media/yuncong/BstemAtlasData/CSHL_data/ChatCryoJane201710/ChatCryoJane201710_raw_Ntb//ChatCryoJane201710_slide23-S1_lossless.tif\" \n",
      "convert \"/media/yuncong/BstemAtlasData/CSHL_data/ChatCryoJane201710/ChatCryoJane201710_raw//Chat_slide23-S2-Chat.tif\" -flip -rotate 270 -compress LZW \"/media/yuncong/BstemAtlasData/CSHL_data/ChatCryoJane201710/ChatCryoJane201710_raw_Chat//ChatCryoJane201710_slide23-S2_lossless.tif\" \n",
      "convert \"/media/yuncong/BstemAtlasData/CSHL_data/ChatCryoJane201710/ChatCryoJane201710_raw//Chat_slide23-S2-Ntb.tif\" -flip -rotate 270 -compress LZW \"/media/yuncong/BstemAtlasData/CSHL_data/ChatCryoJane201710/ChatCryoJane201710_raw_Ntb//ChatCryoJane201710_slide23-S2_lossless.tif\" \n",
      "convert \"/media/yuncong/BstemAtlasData/CSHL_data/ChatCryoJane201710/ChatCryoJane201710_raw//Chat_slide23-S3-Chat.tif\" -flip -rotate 270 -compress LZW \"/media/yuncong/BstemAtlasData/CSHL_data/ChatCryoJane201710/ChatCryoJane201710_raw_Chat//ChatCryoJane201710_slide23-S3_lossless.tif\" \n",
      "convert \"/media/yuncong/BstemAtlasData/CSHL_data/ChatCryoJane201710/ChatCryoJane201710_raw//Chat_slide23-S3-Ntb.tif\" -flip -rotate 270 -compress LZW \"/media/yuncong/BstemAtlasData/CSHL_data/ChatCryoJane201710/ChatCryoJane201710_raw_Ntb//ChatCryoJane201710_slide23-S3_lossless.tif\" \n",
      "convert \"/media/yuncong/BstemAtlasData/CSHL_data/ChatCryoJane201710/ChatCryoJane201710_raw//Chat_slide24-S1-Chat.tif\" -flip -rotate 270 -compress LZW \"/media/yuncong/BstemAtlasData/CSHL_data/ChatCryoJane201710/ChatCryoJane201710_raw_Chat//ChatCryoJane201710_slide24-S1_lossless.tif\" \n",
      "convert \"/media/yuncong/BstemAtlasData/CSHL_data/ChatCryoJane201710/ChatCryoJane201710_raw//Chat_slide24-S1-Ntb.tif\" -flip -rotate 270 -compress LZW \"/media/yuncong/BstemAtlasData/CSHL_data/ChatCryoJane201710/ChatCryoJane201710_raw_Ntb//ChatCryoJane201710_slide24-S1_lossless.tif\" \n",
      "convert \"/media/yuncong/BstemAtlasData/CSHL_data/ChatCryoJane201710/ChatCryoJane201710_raw//Chat_slide24-S2-Chat.tif\" -flip -rotate 270 -compress LZW \"/media/yuncong/BstemAtlasData/CSHL_data/ChatCryoJane201710/ChatCryoJane201710_raw_Chat//ChatCryoJane201710_slide24-S2_lossless.tif\" \n",
      "convert \"/media/yuncong/BstemAtlasData/CSHL_data/ChatCryoJane201710/ChatCryoJane201710_raw//Chat_slide24-S3-Chat.tif\" -flip -rotate 270 -compress LZW \"/media/yuncong/BstemAtlasData/CSHL_data/ChatCryoJane201710/ChatCryoJane201710_raw_Chat//ChatCryoJane201710_slide24-S3_lossless.tif\" \n",
      "convert \"/media/yuncong/BstemAtlasData/CSHL_data/ChatCryoJane201710/ChatCryoJane201710_raw//Chat_slide24-S3-Ntb.tif\" -flip -rotate 270 -compress LZW \"/media/yuncong/BstemAtlasData/CSHL_data/ChatCryoJane201710/ChatCryoJane201710_raw_Ntb//ChatCryoJane201710_slide24-S3_lossless.tif\" \n",
      "convert \"/media/yuncong/BstemAtlasData/CSHL_data/ChatCryoJane201710/ChatCryoJane201710_raw//Chat_slide25-S1-Chat.tif\" -flip -rotate 270 -compress LZW \"/media/yuncong/BstemAtlasData/CSHL_data/ChatCryoJane201710/ChatCryoJane201710_raw_Chat//ChatCryoJane201710_slide25-S1_lossless.tif\" \n",
      "convert \"/media/yuncong/BstemAtlasData/CSHL_data/ChatCryoJane201710/ChatCryoJane201710_raw//Chat_slide25-S1-Ntb.tif\" -flip -rotate 270 -compress LZW \"/media/yuncong/BstemAtlasData/CSHL_data/ChatCryoJane201710/ChatCryoJane201710_raw_Ntb//ChatCryoJane201710_slide25-S1_lossless.tif\" \n",
      "convert \"/media/yuncong/BstemAtlasData/CSHL_data/ChatCryoJane201710/ChatCryoJane201710_raw//Chat_slide25-S2-Chat.tif\" -flip -rotate 270 -compress LZW \"/media/yuncong/BstemAtlasData/CSHL_data/ChatCryoJane201710/ChatCryoJane201710_raw_Chat//ChatCryoJane201710_slide25-S2_lossless.tif\" \n",
      "convert \"/media/yuncong/BstemAtlasData/CSHL_data/ChatCryoJane201710/ChatCryoJane201710_raw//Chat_slide25-S2-Ntb.tif\" -flip -rotate 270 -compress LZW \"/media/yuncong/BstemAtlasData/CSHL_data/ChatCryoJane201710/ChatCryoJane201710_raw_Ntb//ChatCryoJane201710_slide25-S2_lossless.tif\" \n",
      "convert \"/media/yuncong/BstemAtlasData/CSHL_data/ChatCryoJane201710/ChatCryoJane201710_raw//Chat_slide25-S3-Chat.tif\" -flip -rotate 270 -compress LZW \"/media/yuncong/BstemAtlasData/CSHL_data/ChatCryoJane201710/ChatCryoJane201710_raw_Chat//ChatCryoJane201710_slide25-S3_lossless.tif\" \n",
      "convert \"/media/yuncong/BstemAtlasData/CSHL_data/ChatCryoJane201710/ChatCryoJane201710_raw//Chat_slide25-S3-Ntb.tif\" -flip -rotate 270 -compress LZW \"/media/yuncong/BstemAtlasData/CSHL_data/ChatCryoJane201710/ChatCryoJane201710_raw_Ntb//ChatCryoJane201710_slide25-S3_lossless.tif\" \n",
      "convert \"/media/yuncong/BstemAtlasData/CSHL_data/ChatCryoJane201710/ChatCryoJane201710_raw//Chat_slide26-S1-Chat.tif\" -flip -rotate 270 -compress LZW \"/media/yuncong/BstemAtlasData/CSHL_data/ChatCryoJane201710/ChatCryoJane201710_raw_Chat//ChatCryoJane201710_slide26-S1_lossless.tif\" \n",
      "convert \"/media/yuncong/BstemAtlasData/CSHL_data/ChatCryoJane201710/ChatCryoJane201710_raw//Chat_slide26-S1-Ntb.tif\" -flip -rotate 270 -compress LZW \"/media/yuncong/BstemAtlasData/CSHL_data/ChatCryoJane201710/ChatCryoJane201710_raw_Ntb//ChatCryoJane201710_slide26-S1_lossless.tif\" \n",
      "convert \"/media/yuncong/BstemAtlasData/CSHL_data/ChatCryoJane201710/ChatCryoJane201710_raw//Chat_slide26-S2-Chat.tif\" -flip -rotate 270 -compress LZW \"/media/yuncong/BstemAtlasData/CSHL_data/ChatCryoJane201710/ChatCryoJane201710_raw_Chat//ChatCryoJane201710_slide26-S2_lossless.tif\" \n",
      "convert \"/media/yuncong/BstemAtlasData/CSHL_data/ChatCryoJane201710/ChatCryoJane201710_raw//Chat_slide26-S2-Ntb.tif\" -flip -rotate 270 -compress LZW \"/media/yuncong/BstemAtlasData/CSHL_data/ChatCryoJane201710/ChatCryoJane201710_raw_Ntb//ChatCryoJane201710_slide26-S2_lossless.tif\" \n",
      "convert \"/media/yuncong/BstemAtlasData/CSHL_data/ChatCryoJane201710/ChatCryoJane201710_raw//Chat_slide26-S3-Chat.tif\" -flip -rotate 270 -compress LZW \"/media/yuncong/BstemAtlasData/CSHL_data/ChatCryoJane201710/ChatCryoJane201710_raw_Chat//ChatCryoJane201710_slide26-S3_lossless.tif\" \n",
      "convert \"/media/yuncong/BstemAtlasData/CSHL_data/ChatCryoJane201710/ChatCryoJane201710_raw//Chat_slide26-S3-Ntb.tif\" -flip -rotate 270 -compress LZW \"/media/yuncong/BstemAtlasData/CSHL_data/ChatCryoJane201710/ChatCryoJane201710_raw_Ntb//ChatCryoJane201710_slide26-S3_lossless.tif\" \n",
      "convert \"/media/yuncong/BstemAtlasData/CSHL_data/ChatCryoJane201710/ChatCryoJane201710_raw//Chat_slide27-S1-Ntb.tif\" -flip -rotate 270 -compress LZW \"/media/yuncong/BstemAtlasData/CSHL_data/ChatCryoJane201710/ChatCryoJane201710_raw_Ntb//ChatCryoJane201710_slide27-S1_lossless.tif\" \n",
      "convert \"/media/yuncong/BstemAtlasData/CSHL_data/ChatCryoJane201710/ChatCryoJane201710_raw//Chat_slide27-S2-Chat.tif\" -flip -rotate 270 -compress LZW \"/media/yuncong/BstemAtlasData/CSHL_data/ChatCryoJane201710/ChatCryoJane201710_raw_Chat//ChatCryoJane201710_slide27-S2_lossless.tif\" \n"
     ]
    },
    {
     "name": "stdout",
     "output_type": "stream",
     "text": [
      "convert \"/media/yuncong/BstemAtlasData/CSHL_data/ChatCryoJane201710/ChatCryoJane201710_raw//Chat_slide27-S2-Ntb.tif\" -flip -rotate 270 -compress LZW \"/media/yuncong/BstemAtlasData/CSHL_data/ChatCryoJane201710/ChatCryoJane201710_raw_Ntb//ChatCryoJane201710_slide27-S2_lossless.tif\" \n",
      "convert \"/media/yuncong/BstemAtlasData/CSHL_data/ChatCryoJane201710/ChatCryoJane201710_raw//Chat_slide27-S3-Chat.tif\" -flip -rotate 270 -compress LZW \"/media/yuncong/BstemAtlasData/CSHL_data/ChatCryoJane201710/ChatCryoJane201710_raw_Chat//ChatCryoJane201710_slide27-S3_lossless.tif\" \n",
      "convert \"/media/yuncong/BstemAtlasData/CSHL_data/ChatCryoJane201710/ChatCryoJane201710_raw//Chat_slide27-S3-Ntb.tif\" -flip -rotate 270 -compress LZW \"/media/yuncong/BstemAtlasData/CSHL_data/ChatCryoJane201710/ChatCryoJane201710_raw_Ntb//ChatCryoJane201710_slide27-S3_lossless.tif\" \n",
      "convert \"/media/yuncong/BstemAtlasData/CSHL_data/ChatCryoJane201710/ChatCryoJane201710_raw//Chat_slide28-S1-Chat.tif\" -flip -rotate 270 -compress LZW \"/media/yuncong/BstemAtlasData/CSHL_data/ChatCryoJane201710/ChatCryoJane201710_raw_Chat//ChatCryoJane201710_slide28-S1_lossless.tif\" \n",
      "convert \"/media/yuncong/BstemAtlasData/CSHL_data/ChatCryoJane201710/ChatCryoJane201710_raw//Chat_slide28-S1-Ntb.tif\" -flip -rotate 270 -compress LZW \"/media/yuncong/BstemAtlasData/CSHL_data/ChatCryoJane201710/ChatCryoJane201710_raw_Ntb//ChatCryoJane201710_slide28-S1_lossless.tif\" \n",
      "convert \"/media/yuncong/BstemAtlasData/CSHL_data/ChatCryoJane201710/ChatCryoJane201710_raw//Chat_slide28-S2-Chat.tif\" -flip -rotate 270 -compress LZW \"/media/yuncong/BstemAtlasData/CSHL_data/ChatCryoJane201710/ChatCryoJane201710_raw_Chat//ChatCryoJane201710_slide28-S2_lossless.tif\" \n",
      "convert \"/media/yuncong/BstemAtlasData/CSHL_data/ChatCryoJane201710/ChatCryoJane201710_raw//Chat_slide28-S2-Ntb.tif\" -flip -rotate 270 -compress LZW \"/media/yuncong/BstemAtlasData/CSHL_data/ChatCryoJane201710/ChatCryoJane201710_raw_Ntb//ChatCryoJane201710_slide28-S2_lossless.tif\" \n",
      "convert \"/media/yuncong/BstemAtlasData/CSHL_data/ChatCryoJane201710/ChatCryoJane201710_raw//Chat_slide28-S3-Chat.tif\" -flip -rotate 270 -compress LZW \"/media/yuncong/BstemAtlasData/CSHL_data/ChatCryoJane201710/ChatCryoJane201710_raw_Chat//ChatCryoJane201710_slide28-S3_lossless.tif\" \n",
      "convert \"/media/yuncong/BstemAtlasData/CSHL_data/ChatCryoJane201710/ChatCryoJane201710_raw//Chat_slide29-S1-Chat.tif\" -flip -rotate 270 -compress LZW \"/media/yuncong/BstemAtlasData/CSHL_data/ChatCryoJane201710/ChatCryoJane201710_raw_Chat//ChatCryoJane201710_slide29-S1_lossless.tif\" \n",
      "convert \"/media/yuncong/BstemAtlasData/CSHL_data/ChatCryoJane201710/ChatCryoJane201710_raw//Chat_slide29-S1-Ntb.tif\" -flip -rotate 270 -compress LZW \"/media/yuncong/BstemAtlasData/CSHL_data/ChatCryoJane201710/ChatCryoJane201710_raw_Ntb//ChatCryoJane201710_slide29-S1_lossless.tif\" \n",
      "convert \"/media/yuncong/BstemAtlasData/CSHL_data/ChatCryoJane201710/ChatCryoJane201710_raw//Chat_slide29-S2-Chat.tif\" -flip -rotate 270 -compress LZW \"/media/yuncong/BstemAtlasData/CSHL_data/ChatCryoJane201710/ChatCryoJane201710_raw_Chat//ChatCryoJane201710_slide29-S2_lossless.tif\" \n",
      "convert \"/media/yuncong/BstemAtlasData/CSHL_data/ChatCryoJane201710/ChatCryoJane201710_raw//Chat_slide29-S2-Ntb.tif\" -flip -rotate 270 -compress LZW \"/media/yuncong/BstemAtlasData/CSHL_data/ChatCryoJane201710/ChatCryoJane201710_raw_Ntb//ChatCryoJane201710_slide29-S2_lossless.tif\" \n",
      "convert \"/media/yuncong/BstemAtlasData/CSHL_data/ChatCryoJane201710/ChatCryoJane201710_raw//Chat_slide29-S3-Chat.tif\" -flip -rotate 270 -compress LZW \"/media/yuncong/BstemAtlasData/CSHL_data/ChatCryoJane201710/ChatCryoJane201710_raw_Chat//ChatCryoJane201710_slide29-S3_lossless.tif\" \n",
      "convert \"/media/yuncong/BstemAtlasData/CSHL_data/ChatCryoJane201710/ChatCryoJane201710_raw//Chat_slide29-S3-Ntb.tif\" -flip -rotate 270 -compress LZW \"/media/yuncong/BstemAtlasData/CSHL_data/ChatCryoJane201710/ChatCryoJane201710_raw_Ntb//ChatCryoJane201710_slide29-S3_lossless.tif\" \n",
      "convert \"/media/yuncong/BstemAtlasData/CSHL_data/ChatCryoJane201710/ChatCryoJane201710_raw//Chat_slide3-S1-Chat.tif\" -flip -rotate 270 -compress LZW \"/media/yuncong/BstemAtlasData/CSHL_data/ChatCryoJane201710/ChatCryoJane201710_raw_Chat//ChatCryoJane201710_slide3-S1_lossless.tif\" \n",
      "convert \"/media/yuncong/BstemAtlasData/CSHL_data/ChatCryoJane201710/ChatCryoJane201710_raw//Chat_slide3-S1-Ntb.tif\" -flip -rotate 270 -compress LZW \"/media/yuncong/BstemAtlasData/CSHL_data/ChatCryoJane201710/ChatCryoJane201710_raw_Ntb//ChatCryoJane201710_slide3-S1_lossless.tif\" \n",
      "convert \"/media/yuncong/BstemAtlasData/CSHL_data/ChatCryoJane201710/ChatCryoJane201710_raw//Chat_slide3-S2-Chat.tif\" -flip -rotate 270 -compress LZW \"/media/yuncong/BstemAtlasData/CSHL_data/ChatCryoJane201710/ChatCryoJane201710_raw_Chat//ChatCryoJane201710_slide3-S2_lossless.tif\" \n",
      "convert \"/media/yuncong/BstemAtlasData/CSHL_data/ChatCryoJane201710/ChatCryoJane201710_raw//Chat_slide3-S2-Ntb.tif\" -flip -rotate 270 -compress LZW \"/media/yuncong/BstemAtlasData/CSHL_data/ChatCryoJane201710/ChatCryoJane201710_raw_Ntb//ChatCryoJane201710_slide3-S2_lossless.tif\" \n",
      "convert \"/media/yuncong/BstemAtlasData/CSHL_data/ChatCryoJane201710/ChatCryoJane201710_raw//Chat_slide3-S3-Chat.tif\" -flip -rotate 270 -compress LZW \"/media/yuncong/BstemAtlasData/CSHL_data/ChatCryoJane201710/ChatCryoJane201710_raw_Chat//ChatCryoJane201710_slide3-S3_lossless.tif\" \n",
      "convert \"/media/yuncong/BstemAtlasData/CSHL_data/ChatCryoJane201710/ChatCryoJane201710_raw//Chat_slide3-S3-Ntb.tif\" -flip -rotate 270 -compress LZW \"/media/yuncong/BstemAtlasData/CSHL_data/ChatCryoJane201710/ChatCryoJane201710_raw_Ntb//ChatCryoJane201710_slide3-S3_lossless.tif\" \n",
      "convert \"/media/yuncong/BstemAtlasData/CSHL_data/ChatCryoJane201710/ChatCryoJane201710_raw//Chat_slide30-S1-Chat.tif\" -flip -rotate 270 -compress LZW \"/media/yuncong/BstemAtlasData/CSHL_data/ChatCryoJane201710/ChatCryoJane201710_raw_Chat//ChatCryoJane201710_slide30-S1_lossless.tif\" \n",
      "convert \"/media/yuncong/BstemAtlasData/CSHL_data/ChatCryoJane201710/ChatCryoJane201710_raw//Chat_slide30-S1-Ntb.tif\" -flip -rotate 270 -compress LZW \"/media/yuncong/BstemAtlasData/CSHL_data/ChatCryoJane201710/ChatCryoJane201710_raw_Ntb//ChatCryoJane201710_slide30-S1_lossless.tif\" \n",
      "convert \"/media/yuncong/BstemAtlasData/CSHL_data/ChatCryoJane201710/ChatCryoJane201710_raw//Chat_slide30-S2-Chat.tif\" -flip -rotate 270 -compress LZW \"/media/yuncong/BstemAtlasData/CSHL_data/ChatCryoJane201710/ChatCryoJane201710_raw_Chat//ChatCryoJane201710_slide30-S2_lossless.tif\" \n",
      "convert \"/media/yuncong/BstemAtlasData/CSHL_data/ChatCryoJane201710/ChatCryoJane201710_raw//Chat_slide30-S2-Ntb.tif\" -flip -rotate 270 -compress LZW \"/media/yuncong/BstemAtlasData/CSHL_data/ChatCryoJane201710/ChatCryoJane201710_raw_Ntb//ChatCryoJane201710_slide30-S2_lossless.tif\" \n",
      "convert \"/media/yuncong/BstemAtlasData/CSHL_data/ChatCryoJane201710/ChatCryoJane201710_raw//Chat_slide30-S3-Chat.tif\" -flip -rotate 270 -compress LZW \"/media/yuncong/BstemAtlasData/CSHL_data/ChatCryoJane201710/ChatCryoJane201710_raw_Chat//ChatCryoJane201710_slide30-S3_lossless.tif\" \n",
      "convert \"/media/yuncong/BstemAtlasData/CSHL_data/ChatCryoJane201710/ChatCryoJane201710_raw//Chat_slide30-S3-Ntb.tif\" -flip -rotate 270 -compress LZW \"/media/yuncong/BstemAtlasData/CSHL_data/ChatCryoJane201710/ChatCryoJane201710_raw_Ntb//ChatCryoJane201710_slide30-S3_lossless.tif\" \n",
      "convert \"/media/yuncong/BstemAtlasData/CSHL_data/ChatCryoJane201710/ChatCryoJane201710_raw//Chat_slide31-S1-Chat.tif\" -flip -rotate 270 -compress LZW \"/media/yuncong/BstemAtlasData/CSHL_data/ChatCryoJane201710/ChatCryoJane201710_raw_Chat//ChatCryoJane201710_slide31-S1_lossless.tif\" \n",
      "convert \"/media/yuncong/BstemAtlasData/CSHL_data/ChatCryoJane201710/ChatCryoJane201710_raw//Chat_slide31-S1-Ntb.tif\" -flip -rotate 270 -compress LZW \"/media/yuncong/BstemAtlasData/CSHL_data/ChatCryoJane201710/ChatCryoJane201710_raw_Ntb//ChatCryoJane201710_slide31-S1_lossless.tif\" \n",
      "convert \"/media/yuncong/BstemAtlasData/CSHL_data/ChatCryoJane201710/ChatCryoJane201710_raw//Chat_slide31-S2-Ntb.tif\" -flip -rotate 270 -compress LZW \"/media/yuncong/BstemAtlasData/CSHL_data/ChatCryoJane201710/ChatCryoJane201710_raw_Ntb//ChatCryoJane201710_slide31-S2_lossless.tif\" \n"
     ]
    },
    {
     "name": "stdout",
     "output_type": "stream",
     "text": [
      "convert \"/media/yuncong/BstemAtlasData/CSHL_data/ChatCryoJane201710/ChatCryoJane201710_raw//Chat_slide31-S3-Chat.tif\" -flip -rotate 270 -compress LZW \"/media/yuncong/BstemAtlasData/CSHL_data/ChatCryoJane201710/ChatCryoJane201710_raw_Chat//ChatCryoJane201710_slide31-S3_lossless.tif\" \n",
      "convert \"/media/yuncong/BstemAtlasData/CSHL_data/ChatCryoJane201710/ChatCryoJane201710_raw//Chat_slide31-S3-Ntb.tif\" -flip -rotate 270 -compress LZW \"/media/yuncong/BstemAtlasData/CSHL_data/ChatCryoJane201710/ChatCryoJane201710_raw_Ntb//ChatCryoJane201710_slide31-S3_lossless.tif\" \n",
      "convert \"/media/yuncong/BstemAtlasData/CSHL_data/ChatCryoJane201710/ChatCryoJane201710_raw//Chat_slide32-S1-Chat.tif\" -flip -rotate 270 -compress LZW \"/media/yuncong/BstemAtlasData/CSHL_data/ChatCryoJane201710/ChatCryoJane201710_raw_Chat//ChatCryoJane201710_slide32-S1_lossless.tif\" \n",
      "convert \"/media/yuncong/BstemAtlasData/CSHL_data/ChatCryoJane201710/ChatCryoJane201710_raw//Chat_slide32-S1-Ntb.tif\" -flip -rotate 270 -compress LZW \"/media/yuncong/BstemAtlasData/CSHL_data/ChatCryoJane201710/ChatCryoJane201710_raw_Ntb//ChatCryoJane201710_slide32-S1_lossless.tif\" \n",
      "convert \"/media/yuncong/BstemAtlasData/CSHL_data/ChatCryoJane201710/ChatCryoJane201710_raw//Chat_slide32-S2-Chat.tif\" -flip -rotate 270 -compress LZW \"/media/yuncong/BstemAtlasData/CSHL_data/ChatCryoJane201710/ChatCryoJane201710_raw_Chat//ChatCryoJane201710_slide32-S2_lossless.tif\" \n",
      "convert \"/media/yuncong/BstemAtlasData/CSHL_data/ChatCryoJane201710/ChatCryoJane201710_raw//Chat_slide32-S2-Ntb.tif\" -flip -rotate 270 -compress LZW \"/media/yuncong/BstemAtlasData/CSHL_data/ChatCryoJane201710/ChatCryoJane201710_raw_Ntb//ChatCryoJane201710_slide32-S2_lossless.tif\" \n",
      "convert \"/media/yuncong/BstemAtlasData/CSHL_data/ChatCryoJane201710/ChatCryoJane201710_raw//Chat_slide32-S3-Chat.tif\" -flip -rotate 270 -compress LZW \"/media/yuncong/BstemAtlasData/CSHL_data/ChatCryoJane201710/ChatCryoJane201710_raw_Chat//ChatCryoJane201710_slide32-S3_lossless.tif\" \n",
      "convert \"/media/yuncong/BstemAtlasData/CSHL_data/ChatCryoJane201710/ChatCryoJane201710_raw//Chat_slide32-S3-Ntb.tif\" -flip -rotate 270 -compress LZW \"/media/yuncong/BstemAtlasData/CSHL_data/ChatCryoJane201710/ChatCryoJane201710_raw_Ntb//ChatCryoJane201710_slide32-S3_lossless.tif\" \n",
      "convert \"/media/yuncong/BstemAtlasData/CSHL_data/ChatCryoJane201710/ChatCryoJane201710_raw//Chat_slide33-S1-Chat.tif\" -flip -rotate 270 -compress LZW \"/media/yuncong/BstemAtlasData/CSHL_data/ChatCryoJane201710/ChatCryoJane201710_raw_Chat//ChatCryoJane201710_slide33-S1_lossless.tif\" \n",
      "convert \"/media/yuncong/BstemAtlasData/CSHL_data/ChatCryoJane201710/ChatCryoJane201710_raw//Chat_slide33-S1-Ntb.tif\" -flip -rotate 270 -compress LZW \"/media/yuncong/BstemAtlasData/CSHL_data/ChatCryoJane201710/ChatCryoJane201710_raw_Ntb//ChatCryoJane201710_slide33-S1_lossless.tif\" \n",
      "convert \"/media/yuncong/BstemAtlasData/CSHL_data/ChatCryoJane201710/ChatCryoJane201710_raw//Chat_slide33-S2-Chat.tif\" -flip -rotate 270 -compress LZW \"/media/yuncong/BstemAtlasData/CSHL_data/ChatCryoJane201710/ChatCryoJane201710_raw_Chat//ChatCryoJane201710_slide33-S2_lossless.tif\" \n",
      "convert \"/media/yuncong/BstemAtlasData/CSHL_data/ChatCryoJane201710/ChatCryoJane201710_raw//Chat_slide33-S2-Ntb.tif\" -flip -rotate 270 -compress LZW \"/media/yuncong/BstemAtlasData/CSHL_data/ChatCryoJane201710/ChatCryoJane201710_raw_Ntb//ChatCryoJane201710_slide33-S2_lossless.tif\" \n",
      "convert \"/media/yuncong/BstemAtlasData/CSHL_data/ChatCryoJane201710/ChatCryoJane201710_raw//Chat_slide33-S3-Chat.tif\" -flip -rotate 270 -compress LZW \"/media/yuncong/BstemAtlasData/CSHL_data/ChatCryoJane201710/ChatCryoJane201710_raw_Chat//ChatCryoJane201710_slide33-S3_lossless.tif\" \n",
      "convert \"/media/yuncong/BstemAtlasData/CSHL_data/ChatCryoJane201710/ChatCryoJane201710_raw//Chat_slide34-S1-Chat.tif\" -flip -rotate 270 -compress LZW \"/media/yuncong/BstemAtlasData/CSHL_data/ChatCryoJane201710/ChatCryoJane201710_raw_Chat//ChatCryoJane201710_slide34-S1_lossless.tif\" \n",
      "convert \"/media/yuncong/BstemAtlasData/CSHL_data/ChatCryoJane201710/ChatCryoJane201710_raw//Chat_slide34-S1-Ntb.tif\" -flip -rotate 270 -compress LZW \"/media/yuncong/BstemAtlasData/CSHL_data/ChatCryoJane201710/ChatCryoJane201710_raw_Ntb//ChatCryoJane201710_slide34-S1_lossless.tif\" \n",
      "convert \"/media/yuncong/BstemAtlasData/CSHL_data/ChatCryoJane201710/ChatCryoJane201710_raw//Chat_slide34-S2-Chat.tif\" -flip -rotate 270 -compress LZW \"/media/yuncong/BstemAtlasData/CSHL_data/ChatCryoJane201710/ChatCryoJane201710_raw_Chat//ChatCryoJane201710_slide34-S2_lossless.tif\" \n",
      "convert \"/media/yuncong/BstemAtlasData/CSHL_data/ChatCryoJane201710/ChatCryoJane201710_raw//Chat_slide34-S2-Ntb.tif\" -flip -rotate 270 -compress LZW \"/media/yuncong/BstemAtlasData/CSHL_data/ChatCryoJane201710/ChatCryoJane201710_raw_Ntb//ChatCryoJane201710_slide34-S2_lossless.tif\" \n",
      "convert \"/media/yuncong/BstemAtlasData/CSHL_data/ChatCryoJane201710/ChatCryoJane201710_raw//Chat_slide34-S3-Chat.tif\" -flip -rotate 270 -compress LZW \"/media/yuncong/BstemAtlasData/CSHL_data/ChatCryoJane201710/ChatCryoJane201710_raw_Chat//ChatCryoJane201710_slide34-S3_lossless.tif\" \n",
      "convert \"/media/yuncong/BstemAtlasData/CSHL_data/ChatCryoJane201710/ChatCryoJane201710_raw//Chat_slide34-S3-Ntb.tif\" -flip -rotate 270 -compress LZW \"/media/yuncong/BstemAtlasData/CSHL_data/ChatCryoJane201710/ChatCryoJane201710_raw_Ntb//ChatCryoJane201710_slide34-S3_lossless.tif\" \n",
      "convert \"/media/yuncong/BstemAtlasData/CSHL_data/ChatCryoJane201710/ChatCryoJane201710_raw//Chat_slide35-S1-Chat.tif\" -flip -rotate 270 -compress LZW \"/media/yuncong/BstemAtlasData/CSHL_data/ChatCryoJane201710/ChatCryoJane201710_raw_Chat//ChatCryoJane201710_slide35-S1_lossless.tif\" \n",
      "convert \"/media/yuncong/BstemAtlasData/CSHL_data/ChatCryoJane201710/ChatCryoJane201710_raw//Chat_slide35-S1-Ntb.tif\" -flip -rotate 270 -compress LZW \"/media/yuncong/BstemAtlasData/CSHL_data/ChatCryoJane201710/ChatCryoJane201710_raw_Ntb//ChatCryoJane201710_slide35-S1_lossless.tif\" \n",
      "convert \"/media/yuncong/BstemAtlasData/CSHL_data/ChatCryoJane201710/ChatCryoJane201710_raw//Chat_slide35-S2-Chat.tif\" -flip -rotate 270 -compress LZW \"/media/yuncong/BstemAtlasData/CSHL_data/ChatCryoJane201710/ChatCryoJane201710_raw_Chat//ChatCryoJane201710_slide35-S2_lossless.tif\" \n",
      "convert \"/media/yuncong/BstemAtlasData/CSHL_data/ChatCryoJane201710/ChatCryoJane201710_raw//Chat_slide35-S2-Ntb.tif\" -flip -rotate 270 -compress LZW \"/media/yuncong/BstemAtlasData/CSHL_data/ChatCryoJane201710/ChatCryoJane201710_raw_Ntb//ChatCryoJane201710_slide35-S2_lossless.tif\" \n",
      "convert \"/media/yuncong/BstemAtlasData/CSHL_data/ChatCryoJane201710/ChatCryoJane201710_raw//Chat_slide35-S3-Chat.tif\" -flip -rotate 270 -compress LZW \"/media/yuncong/BstemAtlasData/CSHL_data/ChatCryoJane201710/ChatCryoJane201710_raw_Chat//ChatCryoJane201710_slide35-S3_lossless.tif\" \n",
      "convert \"/media/yuncong/BstemAtlasData/CSHL_data/ChatCryoJane201710/ChatCryoJane201710_raw//Chat_slide35-S3-Ntb.tif\" -flip -rotate 270 -compress LZW \"/media/yuncong/BstemAtlasData/CSHL_data/ChatCryoJane201710/ChatCryoJane201710_raw_Ntb//ChatCryoJane201710_slide35-S3_lossless.tif\" \n",
      "convert \"/media/yuncong/BstemAtlasData/CSHL_data/ChatCryoJane201710/ChatCryoJane201710_raw//Chat_slide36-S1-Chat.tif\" -flip -rotate 270 -compress LZW \"/media/yuncong/BstemAtlasData/CSHL_data/ChatCryoJane201710/ChatCryoJane201710_raw_Chat//ChatCryoJane201710_slide36-S1_lossless.tif\" \n",
      "convert \"/media/yuncong/BstemAtlasData/CSHL_data/ChatCryoJane201710/ChatCryoJane201710_raw//Chat_slide36-S1-Ntb.tif\" -flip -rotate 270 -compress LZW \"/media/yuncong/BstemAtlasData/CSHL_data/ChatCryoJane201710/ChatCryoJane201710_raw_Ntb//ChatCryoJane201710_slide36-S1_lossless.tif\" \n",
      "convert \"/media/yuncong/BstemAtlasData/CSHL_data/ChatCryoJane201710/ChatCryoJane201710_raw//Chat_slide36-S2-Ntb.tif\" -flip -rotate 270 -compress LZW \"/media/yuncong/BstemAtlasData/CSHL_data/ChatCryoJane201710/ChatCryoJane201710_raw_Ntb//ChatCryoJane201710_slide36-S2_lossless.tif\" \n",
      "convert \"/media/yuncong/BstemAtlasData/CSHL_data/ChatCryoJane201710/ChatCryoJane201710_raw//Chat_slide36-S3-Chat.tif\" -flip -rotate 270 -compress LZW \"/media/yuncong/BstemAtlasData/CSHL_data/ChatCryoJane201710/ChatCryoJane201710_raw_Chat//ChatCryoJane201710_slide36-S3_lossless.tif\" \n"
     ]
    },
    {
     "name": "stdout",
     "output_type": "stream",
     "text": [
      "convert \"/media/yuncong/BstemAtlasData/CSHL_data/ChatCryoJane201710/ChatCryoJane201710_raw//Chat_slide36-S3-Ntb.tif\" -flip -rotate 270 -compress LZW \"/media/yuncong/BstemAtlasData/CSHL_data/ChatCryoJane201710/ChatCryoJane201710_raw_Ntb//ChatCryoJane201710_slide36-S3_lossless.tif\" \n",
      "convert \"/media/yuncong/BstemAtlasData/CSHL_data/ChatCryoJane201710/ChatCryoJane201710_raw//Chat_slide37-S1-Chat.tif\" -flip -rotate 270 -compress LZW \"/media/yuncong/BstemAtlasData/CSHL_data/ChatCryoJane201710/ChatCryoJane201710_raw_Chat//ChatCryoJane201710_slide37-S1_lossless.tif\" \n",
      "convert \"/media/yuncong/BstemAtlasData/CSHL_data/ChatCryoJane201710/ChatCryoJane201710_raw//Chat_slide37-S1-Ntb.tif\" -flip -rotate 270 -compress LZW \"/media/yuncong/BstemAtlasData/CSHL_data/ChatCryoJane201710/ChatCryoJane201710_raw_Ntb//ChatCryoJane201710_slide37-S1_lossless.tif\" \n",
      "convert \"/media/yuncong/BstemAtlasData/CSHL_data/ChatCryoJane201710/ChatCryoJane201710_raw//Chat_slide37-S2-Chat.tif\" -flip -rotate 270 -compress LZW \"/media/yuncong/BstemAtlasData/CSHL_data/ChatCryoJane201710/ChatCryoJane201710_raw_Chat//ChatCryoJane201710_slide37-S2_lossless.tif\" \n",
      "convert \"/media/yuncong/BstemAtlasData/CSHL_data/ChatCryoJane201710/ChatCryoJane201710_raw//Chat_slide37-S2-Ntb.tif\" -flip -rotate 270 -compress LZW \"/media/yuncong/BstemAtlasData/CSHL_data/ChatCryoJane201710/ChatCryoJane201710_raw_Ntb//ChatCryoJane201710_slide37-S2_lossless.tif\" \n",
      "convert \"/media/yuncong/BstemAtlasData/CSHL_data/ChatCryoJane201710/ChatCryoJane201710_raw//Chat_slide37-S3-Chat.tif\" -flip -rotate 270 -compress LZW \"/media/yuncong/BstemAtlasData/CSHL_data/ChatCryoJane201710/ChatCryoJane201710_raw_Chat//ChatCryoJane201710_slide37-S3_lossless.tif\" \n",
      "convert \"/media/yuncong/BstemAtlasData/CSHL_data/ChatCryoJane201710/ChatCryoJane201710_raw//Chat_slide37-S3-Ntb.tif\" -flip -rotate 270 -compress LZW \"/media/yuncong/BstemAtlasData/CSHL_data/ChatCryoJane201710/ChatCryoJane201710_raw_Ntb//ChatCryoJane201710_slide37-S3_lossless.tif\" \n",
      "convert \"/media/yuncong/BstemAtlasData/CSHL_data/ChatCryoJane201710/ChatCryoJane201710_raw//Chat_slide38-S1-Chat.tif\" -flip -rotate 270 -compress LZW \"/media/yuncong/BstemAtlasData/CSHL_data/ChatCryoJane201710/ChatCryoJane201710_raw_Chat//ChatCryoJane201710_slide38-S1_lossless.tif\" \n",
      "convert \"/media/yuncong/BstemAtlasData/CSHL_data/ChatCryoJane201710/ChatCryoJane201710_raw//Chat_slide38-S1-Ntb.tif\" -flip -rotate 270 -compress LZW \"/media/yuncong/BstemAtlasData/CSHL_data/ChatCryoJane201710/ChatCryoJane201710_raw_Ntb//ChatCryoJane201710_slide38-S1_lossless.tif\" \n",
      "convert \"/media/yuncong/BstemAtlasData/CSHL_data/ChatCryoJane201710/ChatCryoJane201710_raw//Chat_slide38-S2-Chat.tif\" -flip -rotate 270 -compress LZW \"/media/yuncong/BstemAtlasData/CSHL_data/ChatCryoJane201710/ChatCryoJane201710_raw_Chat//ChatCryoJane201710_slide38-S2_lossless.tif\" \n",
      "convert \"/media/yuncong/BstemAtlasData/CSHL_data/ChatCryoJane201710/ChatCryoJane201710_raw//Chat_slide38-S2-Ntb.tif\" -flip -rotate 270 -compress LZW \"/media/yuncong/BstemAtlasData/CSHL_data/ChatCryoJane201710/ChatCryoJane201710_raw_Ntb//ChatCryoJane201710_slide38-S2_lossless.tif\" \n",
      "convert \"/media/yuncong/BstemAtlasData/CSHL_data/ChatCryoJane201710/ChatCryoJane201710_raw//Chat_slide38-S3-Chat.tif\" -flip -rotate 270 -compress LZW \"/media/yuncong/BstemAtlasData/CSHL_data/ChatCryoJane201710/ChatCryoJane201710_raw_Chat//ChatCryoJane201710_slide38-S3_lossless.tif\" \n",
      "convert \"/media/yuncong/BstemAtlasData/CSHL_data/ChatCryoJane201710/ChatCryoJane201710_raw//Chat_slide39-S1-Chat.tif\" -flip -rotate 270 -compress LZW \"/media/yuncong/BstemAtlasData/CSHL_data/ChatCryoJane201710/ChatCryoJane201710_raw_Chat//ChatCryoJane201710_slide39-S1_lossless.tif\" \n",
      "convert \"/media/yuncong/BstemAtlasData/CSHL_data/ChatCryoJane201710/ChatCryoJane201710_raw//Chat_slide39-S1-Ntb.tif\" -flip -rotate 270 -compress LZW \"/media/yuncong/BstemAtlasData/CSHL_data/ChatCryoJane201710/ChatCryoJane201710_raw_Ntb//ChatCryoJane201710_slide39-S1_lossless.tif\" \n",
      "convert \"/media/yuncong/BstemAtlasData/CSHL_data/ChatCryoJane201710/ChatCryoJane201710_raw//Chat_slide39-S2-Chat.tif\" -flip -rotate 270 -compress LZW \"/media/yuncong/BstemAtlasData/CSHL_data/ChatCryoJane201710/ChatCryoJane201710_raw_Chat//ChatCryoJane201710_slide39-S2_lossless.tif\" \n",
      "convert \"/media/yuncong/BstemAtlasData/CSHL_data/ChatCryoJane201710/ChatCryoJane201710_raw//Chat_slide39-S2-Ntb.tif\" -flip -rotate 270 -compress LZW \"/media/yuncong/BstemAtlasData/CSHL_data/ChatCryoJane201710/ChatCryoJane201710_raw_Ntb//ChatCryoJane201710_slide39-S2_lossless.tif\" \n",
      "convert \"/media/yuncong/BstemAtlasData/CSHL_data/ChatCryoJane201710/ChatCryoJane201710_raw//Chat_slide39-S3-Chat.tif\" -flip -rotate 270 -compress LZW \"/media/yuncong/BstemAtlasData/CSHL_data/ChatCryoJane201710/ChatCryoJane201710_raw_Chat//ChatCryoJane201710_slide39-S3_lossless.tif\" \n",
      "convert \"/media/yuncong/BstemAtlasData/CSHL_data/ChatCryoJane201710/ChatCryoJane201710_raw//Chat_slide39-S3-Ntb.tif\" -flip -rotate 270 -compress LZW \"/media/yuncong/BstemAtlasData/CSHL_data/ChatCryoJane201710/ChatCryoJane201710_raw_Ntb//ChatCryoJane201710_slide39-S3_lossless.tif\" \n",
      "convert \"/media/yuncong/BstemAtlasData/CSHL_data/ChatCryoJane201710/ChatCryoJane201710_raw//Chat_slide4-S1-Chat.tif\" -flip -rotate 270 -compress LZW \"/media/yuncong/BstemAtlasData/CSHL_data/ChatCryoJane201710/ChatCryoJane201710_raw_Chat//ChatCryoJane201710_slide4-S1_lossless.tif\" \n",
      "convert \"/media/yuncong/BstemAtlasData/CSHL_data/ChatCryoJane201710/ChatCryoJane201710_raw//Chat_slide4-S1-Ntb.tif\" -flip -rotate 270 -compress LZW \"/media/yuncong/BstemAtlasData/CSHL_data/ChatCryoJane201710/ChatCryoJane201710_raw_Ntb//ChatCryoJane201710_slide4-S1_lossless.tif\" \n",
      "convert \"/media/yuncong/BstemAtlasData/CSHL_data/ChatCryoJane201710/ChatCryoJane201710_raw//Chat_slide4-S2-Chat.tif\" -flip -rotate 270 -compress LZW \"/media/yuncong/BstemAtlasData/CSHL_data/ChatCryoJane201710/ChatCryoJane201710_raw_Chat//ChatCryoJane201710_slide4-S2_lossless.tif\" \n",
      "convert \"/media/yuncong/BstemAtlasData/CSHL_data/ChatCryoJane201710/ChatCryoJane201710_raw//Chat_slide4-S2-Ntb.tif\" -flip -rotate 270 -compress LZW \"/media/yuncong/BstemAtlasData/CSHL_data/ChatCryoJane201710/ChatCryoJane201710_raw_Ntb//ChatCryoJane201710_slide4-S2_lossless.tif\" \n",
      "convert \"/media/yuncong/BstemAtlasData/CSHL_data/ChatCryoJane201710/ChatCryoJane201710_raw//Chat_slide4-S3-Chat.tif\" -flip -rotate 270 -compress LZW \"/media/yuncong/BstemAtlasData/CSHL_data/ChatCryoJane201710/ChatCryoJane201710_raw_Chat//ChatCryoJane201710_slide4-S3_lossless.tif\" \n",
      "convert \"/media/yuncong/BstemAtlasData/CSHL_data/ChatCryoJane201710/ChatCryoJane201710_raw//Chat_slide4-S3-Ntb.tif\" -flip -rotate 270 -compress LZW \"/media/yuncong/BstemAtlasData/CSHL_data/ChatCryoJane201710/ChatCryoJane201710_raw_Ntb//ChatCryoJane201710_slide4-S3_lossless.tif\" \n",
      "convert \"/media/yuncong/BstemAtlasData/CSHL_data/ChatCryoJane201710/ChatCryoJane201710_raw//Chat_slide40-S1-Chat.tif\" -flip -rotate 270 -compress LZW \"/media/yuncong/BstemAtlasData/CSHL_data/ChatCryoJane201710/ChatCryoJane201710_raw_Chat//ChatCryoJane201710_slide40-S1_lossless.tif\" \n",
      "convert \"/media/yuncong/BstemAtlasData/CSHL_data/ChatCryoJane201710/ChatCryoJane201710_raw//Chat_slide40-S1-Ntb.tif\" -flip -rotate 270 -compress LZW \"/media/yuncong/BstemAtlasData/CSHL_data/ChatCryoJane201710/ChatCryoJane201710_raw_Ntb//ChatCryoJane201710_slide40-S1_lossless.tif\" \n",
      "convert \"/media/yuncong/BstemAtlasData/CSHL_data/ChatCryoJane201710/ChatCryoJane201710_raw//Chat_slide40-S2-Ntb.tif\" -flip -rotate 270 -compress LZW \"/media/yuncong/BstemAtlasData/CSHL_data/ChatCryoJane201710/ChatCryoJane201710_raw_Ntb//ChatCryoJane201710_slide40-S2_lossless.tif\" \n",
      "convert \"/media/yuncong/BstemAtlasData/CSHL_data/ChatCryoJane201710/ChatCryoJane201710_raw//Chat_slide40-S3-Chat.tif\" -flip -rotate 270 -compress LZW \"/media/yuncong/BstemAtlasData/CSHL_data/ChatCryoJane201710/ChatCryoJane201710_raw_Chat//ChatCryoJane201710_slide40-S3_lossless.tif\" \n",
      "convert \"/media/yuncong/BstemAtlasData/CSHL_data/ChatCryoJane201710/ChatCryoJane201710_raw//Chat_slide40-S3-Ntb.tif\" -flip -rotate 270 -compress LZW \"/media/yuncong/BstemAtlasData/CSHL_data/ChatCryoJane201710/ChatCryoJane201710_raw_Ntb//ChatCryoJane201710_slide40-S3_lossless.tif\" \n"
     ]
    },
    {
     "name": "stdout",
     "output_type": "stream",
     "text": [
      "convert \"/media/yuncong/BstemAtlasData/CSHL_data/ChatCryoJane201710/ChatCryoJane201710_raw//Chat_slide41-S1-Chat.tif\" -flip -rotate 270 -compress LZW \"/media/yuncong/BstemAtlasData/CSHL_data/ChatCryoJane201710/ChatCryoJane201710_raw_Chat//ChatCryoJane201710_slide41-S1_lossless.tif\" \n",
      "convert \"/media/yuncong/BstemAtlasData/CSHL_data/ChatCryoJane201710/ChatCryoJane201710_raw//Chat_slide41-S1-Ntb.tif\" -flip -rotate 270 -compress LZW \"/media/yuncong/BstemAtlasData/CSHL_data/ChatCryoJane201710/ChatCryoJane201710_raw_Ntb//ChatCryoJane201710_slide41-S1_lossless.tif\" \n",
      "convert \"/media/yuncong/BstemAtlasData/CSHL_data/ChatCryoJane201710/ChatCryoJane201710_raw//Chat_slide41-S2-Chat.tif\" -flip -rotate 270 -compress LZW \"/media/yuncong/BstemAtlasData/CSHL_data/ChatCryoJane201710/ChatCryoJane201710_raw_Chat//ChatCryoJane201710_slide41-S2_lossless.tif\" \n",
      "convert \"/media/yuncong/BstemAtlasData/CSHL_data/ChatCryoJane201710/ChatCryoJane201710_raw//Chat_slide41-S2-Ntb.tif\" -flip -rotate 270 -compress LZW \"/media/yuncong/BstemAtlasData/CSHL_data/ChatCryoJane201710/ChatCryoJane201710_raw_Ntb//ChatCryoJane201710_slide41-S2_lossless.tif\" \n",
      "convert \"/media/yuncong/BstemAtlasData/CSHL_data/ChatCryoJane201710/ChatCryoJane201710_raw//Chat_slide41-S3-Chat.tif\" -flip -rotate 270 -compress LZW \"/media/yuncong/BstemAtlasData/CSHL_data/ChatCryoJane201710/ChatCryoJane201710_raw_Chat//ChatCryoJane201710_slide41-S3_lossless.tif\" \n",
      "convert \"/media/yuncong/BstemAtlasData/CSHL_data/ChatCryoJane201710/ChatCryoJane201710_raw//Chat_slide41-S3-Ntb.tif\" -flip -rotate 270 -compress LZW \"/media/yuncong/BstemAtlasData/CSHL_data/ChatCryoJane201710/ChatCryoJane201710_raw_Ntb//ChatCryoJane201710_slide41-S3_lossless.tif\" \n",
      "convert \"/media/yuncong/BstemAtlasData/CSHL_data/ChatCryoJane201710/ChatCryoJane201710_raw//Chat_slide42-S1-Chat.tif\" -flip -rotate 270 -compress LZW \"/media/yuncong/BstemAtlasData/CSHL_data/ChatCryoJane201710/ChatCryoJane201710_raw_Chat//ChatCryoJane201710_slide42-S1_lossless.tif\" \n",
      "convert \"/media/yuncong/BstemAtlasData/CSHL_data/ChatCryoJane201710/ChatCryoJane201710_raw//Chat_slide42-S1-Ntb.tif\" -flip -rotate 270 -compress LZW \"/media/yuncong/BstemAtlasData/CSHL_data/ChatCryoJane201710/ChatCryoJane201710_raw_Ntb//ChatCryoJane201710_slide42-S1_lossless.tif\" \n",
      "convert \"/media/yuncong/BstemAtlasData/CSHL_data/ChatCryoJane201710/ChatCryoJane201710_raw//Chat_slide42-S2-Chat.tif\" -flip -rotate 270 -compress LZW \"/media/yuncong/BstemAtlasData/CSHL_data/ChatCryoJane201710/ChatCryoJane201710_raw_Chat//ChatCryoJane201710_slide42-S2_lossless.tif\" \n",
      "convert \"/media/yuncong/BstemAtlasData/CSHL_data/ChatCryoJane201710/ChatCryoJane201710_raw//Chat_slide42-S2-Ntb.tif\" -flip -rotate 270 -compress LZW \"/media/yuncong/BstemAtlasData/CSHL_data/ChatCryoJane201710/ChatCryoJane201710_raw_Ntb//ChatCryoJane201710_slide42-S2_lossless.tif\" \n",
      "convert \"/media/yuncong/BstemAtlasData/CSHL_data/ChatCryoJane201710/ChatCryoJane201710_raw//Chat_slide42-S3-Chat.tif\" -flip -rotate 270 -compress LZW \"/media/yuncong/BstemAtlasData/CSHL_data/ChatCryoJane201710/ChatCryoJane201710_raw_Chat//ChatCryoJane201710_slide42-S3_lossless.tif\" \n",
      "convert \"/media/yuncong/BstemAtlasData/CSHL_data/ChatCryoJane201710/ChatCryoJane201710_raw//Chat_slide43-S1-Chat.tif\" -flip -rotate 270 -compress LZW \"/media/yuncong/BstemAtlasData/CSHL_data/ChatCryoJane201710/ChatCryoJane201710_raw_Chat//ChatCryoJane201710_slide43-S1_lossless.tif\" \n",
      "convert \"/media/yuncong/BstemAtlasData/CSHL_data/ChatCryoJane201710/ChatCryoJane201710_raw//Chat_slide43-S1-Ntb.tif\" -flip -rotate 270 -compress LZW \"/media/yuncong/BstemAtlasData/CSHL_data/ChatCryoJane201710/ChatCryoJane201710_raw_Ntb//ChatCryoJane201710_slide43-S1_lossless.tif\" \n",
      "convert \"/media/yuncong/BstemAtlasData/CSHL_data/ChatCryoJane201710/ChatCryoJane201710_raw//Chat_slide43-S2-Chat.tif\" -flip -rotate 270 -compress LZW \"/media/yuncong/BstemAtlasData/CSHL_data/ChatCryoJane201710/ChatCryoJane201710_raw_Chat//ChatCryoJane201710_slide43-S2_lossless.tif\" \n",
      "convert \"/media/yuncong/BstemAtlasData/CSHL_data/ChatCryoJane201710/ChatCryoJane201710_raw//Chat_slide43-S2-Ntb.tif\" -flip -rotate 270 -compress LZW \"/media/yuncong/BstemAtlasData/CSHL_data/ChatCryoJane201710/ChatCryoJane201710_raw_Ntb//ChatCryoJane201710_slide43-S2_lossless.tif\" \n",
      "convert \"/media/yuncong/BstemAtlasData/CSHL_data/ChatCryoJane201710/ChatCryoJane201710_raw//Chat_slide43-S3-Chat.tif\" -flip -rotate 270 -compress LZW \"/media/yuncong/BstemAtlasData/CSHL_data/ChatCryoJane201710/ChatCryoJane201710_raw_Chat//ChatCryoJane201710_slide43-S3_lossless.tif\" \n",
      "convert \"/media/yuncong/BstemAtlasData/CSHL_data/ChatCryoJane201710/ChatCryoJane201710_raw//Chat_slide43-S3-Ntb.tif\" -flip -rotate 270 -compress LZW \"/media/yuncong/BstemAtlasData/CSHL_data/ChatCryoJane201710/ChatCryoJane201710_raw_Ntb//ChatCryoJane201710_slide43-S3_lossless.tif\" \n",
      "convert \"/media/yuncong/BstemAtlasData/CSHL_data/ChatCryoJane201710/ChatCryoJane201710_raw//Chat_slide44-S1-Chat.tif\" -flip -rotate 270 -compress LZW \"/media/yuncong/BstemAtlasData/CSHL_data/ChatCryoJane201710/ChatCryoJane201710_raw_Chat//ChatCryoJane201710_slide44-S1_lossless.tif\" \n",
      "convert \"/media/yuncong/BstemAtlasData/CSHL_data/ChatCryoJane201710/ChatCryoJane201710_raw//Chat_slide44-S1-Ntb.tif\" -flip -rotate 270 -compress LZW \"/media/yuncong/BstemAtlasData/CSHL_data/ChatCryoJane201710/ChatCryoJane201710_raw_Ntb//ChatCryoJane201710_slide44-S1_lossless.tif\" \n",
      "convert \"/media/yuncong/BstemAtlasData/CSHL_data/ChatCryoJane201710/ChatCryoJane201710_raw//Chat_slide44-S2-Chat.tif\" -flip -rotate 270 -compress LZW \"/media/yuncong/BstemAtlasData/CSHL_data/ChatCryoJane201710/ChatCryoJane201710_raw_Chat//ChatCryoJane201710_slide44-S2_lossless.tif\" \n",
      "convert \"/media/yuncong/BstemAtlasData/CSHL_data/ChatCryoJane201710/ChatCryoJane201710_raw//Chat_slide44-S2-Ntb.tif\" -flip -rotate 270 -compress LZW \"/media/yuncong/BstemAtlasData/CSHL_data/ChatCryoJane201710/ChatCryoJane201710_raw_Ntb//ChatCryoJane201710_slide44-S2_lossless.tif\" \n",
      "convert \"/media/yuncong/BstemAtlasData/CSHL_data/ChatCryoJane201710/ChatCryoJane201710_raw//Chat_slide44-S3-Chat.tif\" -flip -rotate 270 -compress LZW \"/media/yuncong/BstemAtlasData/CSHL_data/ChatCryoJane201710/ChatCryoJane201710_raw_Chat//ChatCryoJane201710_slide44-S3_lossless.tif\" \n",
      "convert \"/media/yuncong/BstemAtlasData/CSHL_data/ChatCryoJane201710/ChatCryoJane201710_raw//Chat_slide44-S3-Ntb.tif\" -flip -rotate 270 -compress LZW \"/media/yuncong/BstemAtlasData/CSHL_data/ChatCryoJane201710/ChatCryoJane201710_raw_Ntb//ChatCryoJane201710_slide44-S3_lossless.tif\" \n",
      "convert \"/media/yuncong/BstemAtlasData/CSHL_data/ChatCryoJane201710/ChatCryoJane201710_raw//Chat_slide45-S1-Chat.tif\" -flip -rotate 270 -compress LZW \"/media/yuncong/BstemAtlasData/CSHL_data/ChatCryoJane201710/ChatCryoJane201710_raw_Chat//ChatCryoJane201710_slide45-S1_lossless.tif\" \n",
      "convert \"/media/yuncong/BstemAtlasData/CSHL_data/ChatCryoJane201710/ChatCryoJane201710_raw//Chat_slide45-S1-Ntb.tif\" -flip -rotate 270 -compress LZW \"/media/yuncong/BstemAtlasData/CSHL_data/ChatCryoJane201710/ChatCryoJane201710_raw_Ntb//ChatCryoJane201710_slide45-S1_lossless.tif\" \n",
      "convert \"/media/yuncong/BstemAtlasData/CSHL_data/ChatCryoJane201710/ChatCryoJane201710_raw//Chat_slide45-S2-Ntb.tif\" -flip -rotate 270 -compress LZW \"/media/yuncong/BstemAtlasData/CSHL_data/ChatCryoJane201710/ChatCryoJane201710_raw_Ntb//ChatCryoJane201710_slide45-S2_lossless.tif\" \n",
      "convert \"/media/yuncong/BstemAtlasData/CSHL_data/ChatCryoJane201710/ChatCryoJane201710_raw//Chat_slide45-S3-Chat.tif\" -flip -rotate 270 -compress LZW \"/media/yuncong/BstemAtlasData/CSHL_data/ChatCryoJane201710/ChatCryoJane201710_raw_Chat//ChatCryoJane201710_slide45-S3_lossless.tif\" \n",
      "convert \"/media/yuncong/BstemAtlasData/CSHL_data/ChatCryoJane201710/ChatCryoJane201710_raw//Chat_slide45-S3-Ntb.tif\" -flip -rotate 270 -compress LZW \"/media/yuncong/BstemAtlasData/CSHL_data/ChatCryoJane201710/ChatCryoJane201710_raw_Ntb//ChatCryoJane201710_slide45-S3_lossless.tif\" \n",
      "convert \"/media/yuncong/BstemAtlasData/CSHL_data/ChatCryoJane201710/ChatCryoJane201710_raw//Chat_slide46-S1-Chat.tif\" -flip -rotate 270 -compress LZW \"/media/yuncong/BstemAtlasData/CSHL_data/ChatCryoJane201710/ChatCryoJane201710_raw_Chat//ChatCryoJane201710_slide46-S1_lossless.tif\" \n"
     ]
    },
    {
     "name": "stdout",
     "output_type": "stream",
     "text": [
      "convert \"/media/yuncong/BstemAtlasData/CSHL_data/ChatCryoJane201710/ChatCryoJane201710_raw//Chat_slide46-S1-Ntb.tif\" -flip -rotate 270 -compress LZW \"/media/yuncong/BstemAtlasData/CSHL_data/ChatCryoJane201710/ChatCryoJane201710_raw_Ntb//ChatCryoJane201710_slide46-S1_lossless.tif\" \n",
      "convert \"/media/yuncong/BstemAtlasData/CSHL_data/ChatCryoJane201710/ChatCryoJane201710_raw//Chat_slide46-S2-Chat.tif\" -flip -rotate 270 -compress LZW \"/media/yuncong/BstemAtlasData/CSHL_data/ChatCryoJane201710/ChatCryoJane201710_raw_Chat//ChatCryoJane201710_slide46-S2_lossless.tif\" \n",
      "convert \"/media/yuncong/BstemAtlasData/CSHL_data/ChatCryoJane201710/ChatCryoJane201710_raw//Chat_slide46-S2-Ntb.tif\" -flip -rotate 270 -compress LZW \"/media/yuncong/BstemAtlasData/CSHL_data/ChatCryoJane201710/ChatCryoJane201710_raw_Ntb//ChatCryoJane201710_slide46-S2_lossless.tif\" \n",
      "convert \"/media/yuncong/BstemAtlasData/CSHL_data/ChatCryoJane201710/ChatCryoJane201710_raw//Chat_slide46-S3-Chat.tif\" -flip -rotate 270 -compress LZW \"/media/yuncong/BstemAtlasData/CSHL_data/ChatCryoJane201710/ChatCryoJane201710_raw_Chat//ChatCryoJane201710_slide46-S3_lossless.tif\" \n",
      "convert \"/media/yuncong/BstemAtlasData/CSHL_data/ChatCryoJane201710/ChatCryoJane201710_raw//Chat_slide46-S3-Ntb.tif\" -flip -rotate 270 -compress LZW \"/media/yuncong/BstemAtlasData/CSHL_data/ChatCryoJane201710/ChatCryoJane201710_raw_Ntb//ChatCryoJane201710_slide46-S3_lossless.tif\" \n",
      "convert \"/media/yuncong/BstemAtlasData/CSHL_data/ChatCryoJane201710/ChatCryoJane201710_raw//Chat_slide47-S1-Chat.tif\" -flip -rotate 270 -compress LZW \"/media/yuncong/BstemAtlasData/CSHL_data/ChatCryoJane201710/ChatCryoJane201710_raw_Chat//ChatCryoJane201710_slide47-S1_lossless.tif\" \n",
      "convert \"/media/yuncong/BstemAtlasData/CSHL_data/ChatCryoJane201710/ChatCryoJane201710_raw//Chat_slide47-S1-Ntb.tif\" -flip -rotate 270 -compress LZW \"/media/yuncong/BstemAtlasData/CSHL_data/ChatCryoJane201710/ChatCryoJane201710_raw_Ntb//ChatCryoJane201710_slide47-S1_lossless.tif\" \n",
      "convert \"/media/yuncong/BstemAtlasData/CSHL_data/ChatCryoJane201710/ChatCryoJane201710_raw//Chat_slide47-S2-Chat.tif\" -flip -rotate 270 -compress LZW \"/media/yuncong/BstemAtlasData/CSHL_data/ChatCryoJane201710/ChatCryoJane201710_raw_Chat//ChatCryoJane201710_slide47-S2_lossless.tif\" \n",
      "convert \"/media/yuncong/BstemAtlasData/CSHL_data/ChatCryoJane201710/ChatCryoJane201710_raw//Chat_slide47-S2-Ntb.tif\" -flip -rotate 270 -compress LZW \"/media/yuncong/BstemAtlasData/CSHL_data/ChatCryoJane201710/ChatCryoJane201710_raw_Ntb//ChatCryoJane201710_slide47-S2_lossless.tif\" \n",
      "convert \"/media/yuncong/BstemAtlasData/CSHL_data/ChatCryoJane201710/ChatCryoJane201710_raw//Chat_slide47-S3-Chat.tif\" -flip -rotate 270 -compress LZW \"/media/yuncong/BstemAtlasData/CSHL_data/ChatCryoJane201710/ChatCryoJane201710_raw_Chat//ChatCryoJane201710_slide47-S3_lossless.tif\" \n",
      "convert \"/media/yuncong/BstemAtlasData/CSHL_data/ChatCryoJane201710/ChatCryoJane201710_raw//Chat_slide5-S2-Ntb.tif\" -flip -rotate 270 -compress LZW \"/media/yuncong/BstemAtlasData/CSHL_data/ChatCryoJane201710/ChatCryoJane201710_raw_Ntb//ChatCryoJane201710_slide5-S2_lossless.tif\" \n",
      "convert \"/media/yuncong/BstemAtlasData/CSHL_data/ChatCryoJane201710/ChatCryoJane201710_raw//Chat_slide5-S3-Chat.tif\" -flip -rotate 270 -compress LZW \"/media/yuncong/BstemAtlasData/CSHL_data/ChatCryoJane201710/ChatCryoJane201710_raw_Chat//ChatCryoJane201710_slide5-S3_lossless.tif\" \n",
      "convert \"/media/yuncong/BstemAtlasData/CSHL_data/ChatCryoJane201710/ChatCryoJane201710_raw//Chat_slide5-S3-Ntb.tif\" -flip -rotate 270 -compress LZW \"/media/yuncong/BstemAtlasData/CSHL_data/ChatCryoJane201710/ChatCryoJane201710_raw_Ntb//ChatCryoJane201710_slide5-S3_lossless.tif\" \n",
      "convert \"/media/yuncong/BstemAtlasData/CSHL_data/ChatCryoJane201710/ChatCryoJane201710_raw//Chat_slide50-S1-Chat.tif\" -flip -rotate 270 -compress LZW \"/media/yuncong/BstemAtlasData/CSHL_data/ChatCryoJane201710/ChatCryoJane201710_raw_Chat//ChatCryoJane201710_slide50-S1_lossless.tif\" \n"
     ]
    }
   ],
   "source": [
    "# for fn in os.listdir(raw_dir):\n",
    "    \n",
    "#     s = re.search(\"Chat_(.*)-(Chat|Ntb).tif\", fn)\n",
    "#     section_name_minus_stack, channel = s.groups()[:2] \n",
    "#     new_filename = 'ChatCryoJane201710_' + section_name_minus_stack + '_lossless.tif'\n",
    "    \n",
    "#     if channel == 'Ntb': # neurotrace blue\n",
    "#         raw_rotated_dir = raw_nt_dir\n",
    "#     else: # Chat\n",
    "#         raw_rotated_dir = raw_chat_dir\n",
    "        \n",
    "# #     cmd = \"\"\"gimp -i -b '(script-fu-rotate \"%(raw_dir)s/%(fn)s\" \"%(raw_rotated_dir)s/%(name)s.tif\")' -b '(gimp-quit 0)'\"\"\" % \\\n",
    "# #         {'fn':fn, 'raw_dir':raw_dir, 'name': name, 'raw_rotated_dir': raw_rotated_dir}\n",
    "\n",
    "#     # Gimp command above failed for some images for unknown reason. Had to use ImagemMagick.\n",
    "#     cmd = \"\"\"convert \"%(raw_dir)s/%(fn)s\" -flip -rotate 270 -compress LZW \"%(raw_rotated_dir)s/%(new_filename)s\" \"\"\" % \\\n",
    "#         {'fn':fn, 'raw_dir':raw_dir, 'new_filename': new_filename, 'raw_rotated_dir': raw_rotated_dir}\n",
    "#     execute_command(cmd)"
   ]
  },
  {
   "cell_type": "markdown",
   "metadata": {
    "collapsed": true
   },
   "source": [
    "# Tune contrast"
   ]
  },
  {
   "cell_type": "code",
   "execution_count": 3,
   "metadata": {
    "collapsed": true
   },
   "outputs": [],
   "source": [
    "stack = 'ChatCryoJane201710'"
   ]
  },
  {
   "cell_type": "code",
   "execution_count": 10,
   "metadata": {
    "collapsed": true
   },
   "outputs": [],
   "source": [
    "# for fn in metadata_cache['valid_filenames'][stack]:\n",
    "img = DataManager.load_image_v2(stack=stack, prep_id=2, section=100, version='Ntb')"
   ]
  },
  {
   "cell_type": "code",
   "execution_count": 13,
   "metadata": {},
   "outputs": [
    {
     "name": "stderr",
     "output_type": "stream",
     "text": [
      "/usr/local/lib/python2.7/dist-packages/skimage/util/dtype.py:110: UserWarning: Possible precision loss when converting from uint16 to uint8\n",
      "  \"%s to %s\" % (dtypeobj_in, dtypeobj))\n"
     ]
    },
    {
     "data": {
      "text/html": [
       "<a href='tmp.jpg' target='_blank'>tmp.jpg</a><br>"
      ],
      "text/plain": [
       "/home/yuncong/Brain/preprocess/tmp.jpg"
      ]
     },
     "execution_count": 13,
     "metadata": {},
     "output_type": "execute_result"
    }
   ],
   "source": [
    "display_image(img[10000:12000, 10000:12000])"
   ]
  },
  {
   "cell_type": "code",
   "execution_count": 14,
   "metadata": {},
   "outputs": [
    {
     "data": {
      "text/plain": [
       "62776"
      ]
     },
     "execution_count": 14,
     "metadata": {},
     "output_type": "execute_result"
    }
   ],
   "source": [
    "img[10000:12000, 10000:12000].max()"
   ]
  },
  {
   "cell_type": "code",
   "execution_count": 19,
   "metadata": {},
   "outputs": [
    {
     "data": {
      "text/plain": [
       "65535"
      ]
     },
     "execution_count": 19,
     "metadata": {},
     "output_type": "execute_result"
    }
   ],
   "source": [
    "2**16-1"
   ]
  },
  {
   "cell_type": "code",
   "execution_count": 21,
   "metadata": {
    "scrolled": true
   },
   "outputs": [
    {
     "data": {
      "text/html": [
       "<a href='tmp.jpg' target='_blank'>tmp.jpg</a><br>"
      ],
      "text/plain": [
       "/home/yuncong/Brain/preprocess/tmp.jpg"
      ]
     },
     "execution_count": 21,
     "metadata": {},
     "output_type": "execute_result"
    }
   ],
   "source": [
    "display_image(rescale_intensity_v2(img[10000:12000, 10000:12000], 65535, 0))"
   ]
  },
  {
   "cell_type": "code",
   "execution_count": null,
   "metadata": {
    "collapsed": true
   },
   "outputs": [],
   "source": []
  }
 ],
 "metadata": {
  "kernelspec": {
   "display_name": "Python 2",
   "language": "python",
   "name": "python2"
  },
  "language_info": {
   "codemirror_mode": {
    "name": "ipython",
    "version": 2
   },
   "file_extension": ".py",
   "mimetype": "text/x-python",
   "name": "python",
   "nbconvert_exporter": "python",
   "pygments_lexer": "ipython2",
   "version": "2.7.12"
  }
 },
 "nbformat": 4,
 "nbformat_minor": 2
}
