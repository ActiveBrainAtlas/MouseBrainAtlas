{
 "cells": [
  {
   "cell_type": "code",
   "execution_count": 1,
   "metadata": {},
   "outputs": [],
   "source": [
    "%reload_ext autoreload\n",
    "%autoreload 2"
   ]
  },
  {
   "cell_type": "code",
   "execution_count": 2,
   "metadata": {},
   "outputs": [
    {
     "name": "stdout",
     "output_type": "stream",
     "text": [
      "Setting environment for Precision WorkStation\n"
     ]
    },
    {
     "name": "stderr",
     "output_type": "stream",
     "text": [
      "No vtk\n",
      "No vtk/usr/local/lib/python2.7/dist-packages/sklearn/cross_validation.py:44: DeprecationWarning: This module was deprecated in version 0.18 in favor of the model_selection module into which all the refactored classes and functions are moved. Also note that the interface of the new CV iterators are different from that of this module. This module will be removed in 0.20.\n",
      "  \"This module will be removed in 0.20.\", DeprecationWarning)\n"
     ]
    }
   ],
   "source": [
    "import os\n",
    "import sys\n",
    "import time\n",
    "\n",
    "import matplotlib.pyplot as plt\n",
    "%matplotlib inline\n",
    "import numpy as np\n",
    "\n",
    "sys.path.append(os.path.join(os.environ['REPO_DIR'], 'utilities'))\n",
    "from utilities2015 import *\n",
    "from metadata import *\n",
    "from data_manager import *\n",
    "from learning_utilities import *"
   ]
  },
  {
   "cell_type": "markdown",
   "metadata": {},
   "source": [
    "# Collect all image names (before rotation, before thumbnail generation)"
   ]
  },
  {
   "cell_type": "code",
   "execution_count": 3,
   "metadata": {
    "collapsed": true
   },
   "outputs": [],
   "source": [
    "stack = 'CHATM3'"
   ]
  },
  {
   "cell_type": "code",
   "execution_count": 4,
   "metadata": {
    "collapsed": true
   },
   "outputs": [],
   "source": [
    "# The set of dirs where we should search for image files.\n",
    "raw_data_dirs = \\\n",
    "{('Ntb', 'raw'): '/media/yuncong/BethandHannah_External2/CHATM3/CHATM3_raw_Ntb',\n",
    "('CHAT', 'raw'): '/media/yuncong/BethandHannah_External2/CHATM3/CHATM3_raw_CHAT',\n",
    "('AF', 'raw'): '/media/yuncong/BethandHannah_External2/CHATM3/CHATM3_raw_AF',\n",
    "('Ntb', 'thumbnail'): None}\n",
    "\n",
    "# image_name_to_metainfo_mapping = '%(brain_id)s_slide%(slide_num)d_%(year)s_%(month)s_%(day)s_S%(scene_index)d'\n",
    "\n",
    "image_name_to_metainfo_re_pattern = '(.*?)_slide([0-9]*?)_([0-9]*?)_([0-9]*?)_([0-9]*?)-S([0-9])'\n",
    "# image_name_to_metainfo_re_semantics = ['brain_id', 'slide_num', 'year', 'month', 'day', 'scene_index']\n",
    "\n",
    "# g = re.search(image_name_to_metainfo_re_pattern, img_name)\n",
    "# groups = g.groups()\n",
    "# dict(zip(image_name_to_metainfo_re_semantics, groups))\n",
    "\n",
    "# Specifies how to extract image name from file path.\n",
    "# The first group returned by re.search is image_name.\n",
    "input_image_filename_to_imagename_re_pattern_mapping = \\\n",
    "{('Ntb', 'raw'): \\\n",
    " '/media/yuncong/BethandHannah_External2/CHATM3/CHATM3_raw_Ntb/(.*)_.*?_.*?.tif',\n",
    " ('CHAT', 'raw'): \\\n",
    " '/media/yuncong/BethandHannah_External2/CHATM3/CHATM3_raw_CHAT/(.*)_.*?_.*?.tif', \n",
    " ('AF', 'raw'): \\\n",
    " '/media/yuncong/BethandHannah_External2/CHATM3/CHATM3_raw_AF/(.*)_.*?_.*?.tif', \n",
    "}"
   ]
  },
  {
   "cell_type": "code",
   "execution_count": 5,
   "metadata": {},
   "outputs": [
    {
     "name": "stdout",
     "output_type": "stream",
     "text": [
      "('CHAT', 'raw') missing:\n",
      "set([])\n",
      "\n",
      "('Ntb', 'raw') missing:\n",
      "set([])\n",
      "\n",
      "('AF', 'raw') missing:\n",
      "set([])\n",
      "\n"
     ]
    }
   ],
   "source": [
    "image_names_all_data_dirs_flattened = set([])\n",
    "image_names_all_data_dirs = {}\n",
    "for vr, data_dir in raw_data_dirs.iteritems():\n",
    "    if data_dir is None: continue\n",
    "    image_names = set([])\n",
    "    if vr in input_image_filename_to_imagename_re_pattern_mapping:\n",
    "        for fn in os.listdir(data_dir):\n",
    "            g = re.search(input_image_filename_to_imagename_re_pattern_mapping[vr], os.path.join(data_dir, fn))\n",
    "            img_name = g.groups()[0]\n",
    "            image_names.add(img_name)\n",
    "            image_names_all_data_dirs_flattened.add(img_name)\n",
    "    image_names_all_data_dirs[vr] = image_names\n",
    "    \n",
    "    \n",
    "# Make sure the every image has all three channels.\n",
    "for vr, img_names in image_names_all_data_dirs.iteritems():\n",
    "    print vr, 'missing:' \n",
    "    print image_names_all_data_dirs_flattened - img_names\n",
    "    print "
   ]
  },
  {
   "cell_type": "code",
   "execution_count": 6,
   "metadata": {},
   "outputs": [
    {
     "name": "stdout",
     "output_type": "stream",
     "text": [
      "293 images are found.\n"
     ]
    }
   ],
   "source": [
    "print len(image_names_all_data_dirs_flattened), 'images are found.'"
   ]
  },
  {
   "cell_type": "code",
   "execution_count": 7,
   "metadata": {
    "collapsed": true
   },
   "outputs": [],
   "source": [
    "# _, sections_to_filenames = DataManager.load_sorted_filenames(stack=stack) \n",
    "# valid_filenames = [fn for fn in sections_to_filenames.values() if not is_invalid(fn=fn)]\n",
    "valid_filenames = sorted(list(image_names_all_data_dirs_flattened), key=lambda n: int(n.split('_')[1][5:]))\n",
    "# Do not need sorted list at this stage. Simply sort by slide number for ease of examination."
   ]
  },
  {
   "cell_type": "markdown",
   "metadata": {},
   "source": [
    "# Specify paths of raw data (original orientation)\n",
    "\n",
    "These are data that have not been rotated to standard orientation.\n",
    "so they are not stored into the standard location."
   ]
  },
  {
   "cell_type": "code",
   "execution_count": 8,
   "metadata": {
    "collapsed": true
   },
   "outputs": [],
   "source": [
    "orig_orientation_image_name_to_filepath_mappings = {\n",
    "    ('Ntb', 'raw'): \\\n",
    "     '/media/yuncong/BethandHannah_External2/CHATM3/CHATM3_raw_Ntb/%(image_name)s_lossless_Ntb.tif',\n",
    "     ('Ntb', 'thumbnail'): \\\n",
    "     '/media/yuncong/BethandHannah_External2/CHATM3/CHATM3_thumbnail_Ntb/%(image_name)s_thumbnail_Ntb.tif',\n",
    "     ('CHAT', 'raw'): \\\n",
    "     '/media/yuncong/BethandHannah_External2/CHATM3/CHATM3_raw_CHAT/%(image_name)s_lossless_CHAT.tif',  \n",
    "    ('NtbNormalized', 'thumbnail'): \\\n",
    " '/media/yuncong/BethandHannah_External2/CHATM3/CHATM3_thumbnail_NtbNormalized/%(image_name)s_thumbnail_NtbNormalized.tif'\n",
    "}"
   ]
  },
  {
   "cell_type": "markdown",
   "metadata": {},
   "source": [
    "# Generate thumbnails (original orientation)"
   ]
  },
  {
   "cell_type": "code",
   "execution_count": null,
   "metadata": {
    "collapsed": true
   },
   "outputs": [],
   "source": [
    "thumbnail_downscale_factor = 32"
   ]
  },
  {
   "cell_type": "code",
   "execution_count": null,
   "metadata": {
    "collapsed": true
   },
   "outputs": [],
   "source": [
    "for img_name in valid_filenames:\n",
    "# for img_name in ['CHATM3_slide69_2018_02_19-S3']:\n",
    "\n",
    "    t = time.time()\n",
    "\n",
    "    in_fp = orig_orientation_image_name_to_filepath_mappings[('Ntb', 'raw')] % {'image_name': img_name}\n",
    "    out_fp = orig_orientation_image_name_to_filepath_mappings[('Ntb', 'thumbnail')] % {'image_name': img_name}\n",
    "    create_parent_dir_if_not_exists(out_fp)\n",
    "    \n",
    "    img = imread(in_fp)\n",
    "    imsave(out_fp, img[::thumbnail_downscale_factor, ::thumbnail_downscale_factor])\n",
    "\n",
    "    # Alternative: ImageMagick introduces an artificial noisy stripe in the output image.\n",
    "#     cmd = 'convert %(in_fp)s -scale 3.125%% %(out_fp)s' % {'in_fp': in_fp, 'out_fp': out_fp}\n",
    "#     execute_command(cmd)\n",
    "        \n",
    "    sys.stderr.write(\"Rescale: %.2f seconds.\\n\" % (time.time() - t)) # ~20s / image"
   ]
  },
  {
   "cell_type": "markdown",
   "metadata": {},
   "source": [
    "Contrast stretch thumbnails (original orientation)"
   ]
  },
  {
   "cell_type": "code",
   "execution_count": null,
   "metadata": {
    "collapsed": true
   },
   "outputs": [],
   "source": [
    "for img_name in valid_filenames:\n",
    "# for img_name in ['CHATM3_slide69_2018_02_19-S3']:\n",
    "\n",
    "    t = time.time()\n",
    "\n",
    "    in_fp = orig_orientation_image_name_to_filepath_mappings[('Ntb', 'thumbnail')] % {'image_name': img_name}\n",
    "    out_fp = orig_orientation_image_name_to_filepath_mappings[('NtbNormalized', 'thumbnail')] % {'image_name': img_name}\n",
    "    create_parent_dir_if_not_exists(out_fp)\n",
    "        \n",
    "    cmd = \"\"\"convert \"%(in_fp)s\" -normalize -depth 8 \"%(out_fp)s\" \"\"\" % {'in_fp': in_fp, 'out_fp': out_fp}\n",
    "    execute_command(cmd)\n",
    "    \n",
    "    sys.stderr.write(\"Intensity normalize: %.2f seconds.\" % (time.time() - t))"
   ]
  },
  {
   "cell_type": "markdown",
   "metadata": {},
   "source": [
    "# Rotate to standard orientation\n",
    "Top is dorsal, left is anterior"
   ]
  },
  {
   "cell_type": "code",
   "execution_count": 9,
   "metadata": {
    "collapsed": true
   },
   "outputs": [],
   "source": [
    "if stack == 'CHATM2':\n",
    "    image_filename_to_orientation_mapping = \\\n",
    "    {\n",
    "        img_name: 'top_posterior_left_ventral' for img_name in valid_filenames\n",
    "    }\n",
    "elif stack == 'CHATM3':\n",
    "    image_filename_to_orientation_mapping = {}\n",
    "    for img_name in valid_filenames:\n",
    "        if img_name == 'CHATM3_slide07_2018_02_18-S1':\n",
    "            image_filename_to_orientation_mapping[img_name] = 'top_posterior_left_ventral'\n",
    "        else:\n",
    "            image_filename_to_orientation_mapping[img_name] = 'top_anterior_left_dorsal'"
   ]
  },
  {
   "cell_type": "code",
   "execution_count": 41,
   "metadata": {
    "collapsed": true
   },
   "outputs": [],
   "source": [
    "# for img_name in valid_filenames:\n",
    "\n",
    "#     for rule_identifier in [('NtbNormalized', 'thumbnail')]:\n",
    "        \n",
    "#         version, resol = rule_identifier\n",
    "\n",
    "#         t = time.time()\n",
    "\n",
    "#         in_fp = orig_orientation_image_name_to_filepath_mappings[rule_identifier] % {'image_name': img_name}\n",
    "\n",
    "#         out_fp = DataManager.get_image_filepath_v2(stack=stack, prep_id=None, resol=resol, version=version, fn=img_name)\n",
    "#         create_parent_dir_if_not_exists(out_fp)\n",
    "\n",
    "#         # Reference: http://www.imagemagick.org/Usage/warping/#flip\n",
    "#         orientation = image_filename_to_orientation_mapping[img_name]\n",
    "\n",
    "#         if orientation == 'top_anterior_left_dorsal':\n",
    "#             rotate = '-transpose'\n",
    "#         elif orientation == 'top_anterior_left_ventral':\n",
    "#             rotate = '-rotate 90'\n",
    "#         elif orientation == 'top_posterior_left_ventral':\n",
    "#             rotate = '-transverse'\n",
    "#         else:\n",
    "#             rotate = ''\n",
    "\n",
    "#         if rotate == '':\n",
    "#             execute_command('rm -f %(out_fp)s; ln -s %(in_fp)s %(out_fp)s' % {'in_fp': in_fp, 'out_fp': out_fp})\n",
    "#         else:\n",
    "#             cmd1 = \"\"\"convert \"%(in_fp)s\" %(rotate)s \"%(out_fp)s\" \"\"\" % {'in_fp': in_fp, 'out_fp': out_fp, 'rotate': rotate}\n",
    "#             execute_command(cmd1)\n",
    "\n",
    "#         sys.stderr.write(\"Rotate: %.2f seconds.\\n\" % (time.time() - t))"
   ]
  },
  {
   "cell_type": "code",
   "execution_count": 22,
   "metadata": {
    "scrolled": true
   },
   "outputs": [
    {
     "name": "stderr",
     "output_type": "stream",
     "text": [
      "Rotate: 129.82 seconds.\n",
      "Rotate: 118.05 seconds.\n",
      "Rotate: 187.44 seconds.\n",
      "Rotate: 194.26 seconds.\n",
      "Rotate: 181.14 seconds.\n",
      "Rotate: 188.48 seconds.\n",
      "Rotate: 175.37 seconds.\n",
      "Rotate: 172.35 seconds.\n",
      "Rotate: 176.11 seconds.\n",
      "Rotate: 173.95 seconds.\n",
      "Rotate: 183.86 seconds.\n",
      "Rotate: 179.25 seconds.\n",
      "Rotate: 204.40 seconds.\n",
      "Rotate: 172.04 seconds.\n",
      "Rotate: 204.24 seconds.\n",
      "Rotate: 209.91 seconds.\n",
      "Rotate: 201.79 seconds.\n",
      "Rotate: 197.41 seconds.\n",
      "Rotate: 184.23 seconds.\n",
      "Rotate: 146.40 seconds.\n",
      "/usr/local/lib/python2.7/dist-packages/skimage/io/_io.py:132: UserWarning: /media/yuncong/BstemAtlasData/CSHL_data_processed/CHATM3/CHATM3_raw_CHAT/CHATM3_slide73_2018_01_26-S1_raw_CHAT.tif is a low contrast image\n",
      "  warn('%s is a low contrast image' % fname)\n",
      "Rotate: 157.25 seconds.\n",
      "Rotate: 172.53 seconds.\n",
      "Rotate: 204.32 seconds.\n",
      "Rotate: 253.87 seconds.\n",
      "Rotate: 202.29 seconds.\n",
      "Rotate: 196.91 seconds.\n",
      "Rotate: 196.10 seconds.\n",
      "Rotate: 194.43 seconds.\n",
      "Rotate: 198.92 seconds.\n",
      "Rotate: 218.08 seconds.\n",
      "Rotate: 201.49 seconds.\n",
      "Rotate: 206.82 seconds.\n",
      "Rotate: 198.74 seconds.\n",
      "Rotate: 184.49 seconds.\n",
      "Rotate: 203.18 seconds.\n",
      "Rotate: 212.30 seconds.\n",
      "Rotate: 178.96 seconds.\n",
      "Rotate: 186.62 seconds.\n",
      "Rotate: 186.27 seconds.\n",
      "Rotate: 188.49 seconds.\n",
      "/usr/local/lib/python2.7/dist-packages/skimage/io/_io.py:132: UserWarning: /media/yuncong/BstemAtlasData/CSHL_data_processed/CHATM3/CHATM3_raw_CHAT/CHATM3_slide89_2018_01_26-S1_raw_CHAT.tif is a low contrast image\n",
      "  warn('%s is a low contrast image' % fname)\n",
      "Rotate: 182.29 seconds.\n",
      "Rotate: 163.25 seconds.\n",
      "Rotate: 172.46 seconds.\n",
      "Rotate: 198.01 seconds.\n",
      "Rotate: 180.43 seconds.\n",
      "Rotate: 173.68 seconds.\n",
      "Rotate: 152.80 seconds.\n",
      "Rotate: 170.04 seconds.\n",
      "/usr/local/lib/python2.7/dist-packages/skimage/io/_io.py:132: UserWarning: /media/yuncong/BstemAtlasData/CSHL_data_processed/CHATM3/CHATM3_raw_CHAT/CHATM3_slide95_2018_01_26-S1_raw_CHAT.tif is a low contrast image\n",
      "  warn('%s is a low contrast image' % fname)\n",
      "Rotate: 154.68 seconds.\n",
      "Rotate: 154.16 seconds.\n",
      "Rotate: 177.02 seconds.\n",
      "Rotate: 149.76 seconds.\n",
      "Rotate: 168.31 seconds.\n",
      "Rotate: 158.46 seconds.\n",
      "Rotate: 145.16 seconds.\n",
      "Rotate: 152.69 seconds.\n",
      "Rotate: 148.76 seconds.\n",
      "Rotate: 150.87 seconds.\n",
      "Rotate: 154.23 seconds.\n",
      "Rotate: 143.53 seconds.\n",
      "Rotate: 148.19 seconds.\n",
      "Rotate: 151.42 seconds.\n",
      "Rotate: 135.67 seconds.\n",
      "Rotate: 147.36 seconds.\n",
      "Rotate: 131.80 seconds.\n",
      "Rotate: 135.97 seconds.\n",
      "Rotate: 142.85 seconds.\n",
      "Rotate: 130.77 seconds.\n",
      "Rotate: 129.89 seconds.\n",
      "Rotate: 122.86 seconds.\n",
      "Rotate: 117.05 seconds.\n",
      "Rotate: 120.75 seconds.\n",
      "Rotate: 124.19 seconds.\n",
      "Rotate: 122.16 seconds.\n",
      "Rotate: 116.88 seconds.\n",
      "Rotate: 111.77 seconds.\n",
      "Rotate: 103.59 seconds.\n",
      "Rotate: 114.43 seconds.\n",
      "Rotate: 114.00 seconds.\n",
      "Rotate: 117.24 seconds.\n",
      "Rotate: 111.36 seconds.\n",
      "Rotate: 98.95 seconds.\n",
      "Rotate: 103.74 seconds.\n",
      "Rotate: 109.00 seconds.\n",
      "Rotate: 104.04 seconds.\n",
      "Rotate: 105.94 seconds.\n",
      "Rotate: 109.75 seconds.\n",
      "Rotate: 101.59 seconds.\n",
      "Rotate: 99.58 seconds.\n",
      "Rotate: 100.95 seconds.\n",
      "Rotate: 103.79 seconds.\n",
      "Rotate: 95.25 seconds.\n",
      "Rotate: 95.89 seconds.\n",
      "Rotate: 92.31 seconds.\n",
      "Rotate: 84.86 seconds.\n",
      "/usr/local/lib/python2.7/dist-packages/skimage/io/_io.py:132: UserWarning: /media/yuncong/BstemAtlasData/CSHL_data_processed/CHATM3/CHATM3_raw_CHAT/CHATM3_slide127_2018_01_26-S3_raw_CHAT.tif is a low contrast image\n",
      "  warn('%s is a low contrast image' % fname)\n",
      "Rotate: 82.85 seconds.\n",
      "Rotate: 89.33 seconds.\n",
      "/usr/local/lib/python2.7/dist-packages/skimage/io/_io.py:132: UserWarning: /media/yuncong/BstemAtlasData/CSHL_data_processed/CHATM3/CHATM3_raw_CHAT/CHATM3_slide129_2018_01_26-S3_raw_CHAT.tif is a low contrast image\n",
      "  warn('%s is a low contrast image' % fname)\n",
      "Rotate: 94.75 seconds.\n",
      "Rotate: 80.61 seconds.\n",
      "/usr/local/lib/python2.7/dist-packages/skimage/io/_io.py:132: UserWarning: /media/yuncong/BstemAtlasData/CSHL_data_processed/CHATM3/CHATM3_raw_CHAT/CHATM3_slide131_2018_01_26-S3_raw_CHAT.tif is a low contrast image\n",
      "  warn('%s is a low contrast image' % fname)\n",
      "Rotate: 81.30 seconds.\n",
      "/usr/local/lib/python2.7/dist-packages/skimage/io/_io.py:132: UserWarning: /media/yuncong/BstemAtlasData/CSHL_data_processed/CHATM3/CHATM3_raw_CHAT/CHATM3_slide131_2018_01_26-S1_raw_CHAT.tif is a low contrast image\n",
      "  warn('%s is a low contrast image' % fname)\n",
      "Rotate: 93.43 seconds.\n",
      "/usr/local/lib/python2.7/dist-packages/skimage/io/_io.py:132: UserWarning: /media/yuncong/BstemAtlasData/CSHL_data_processed/CHATM3/CHATM3_raw_CHAT/CHATM3_slide131_2018_01_26-S2_raw_CHAT.tif is a low contrast image\n",
      "  warn('%s is a low contrast image' % fname)\n",
      "Rotate: 86.15 seconds.\n",
      "/usr/local/lib/python2.7/dist-packages/skimage/io/_io.py:132: UserWarning: /media/yuncong/BstemAtlasData/CSHL_data_processed/CHATM3/CHATM3_raw_CHAT/CHATM3_slide133_2018_01_26-S3_raw_CHAT.tif is a low contrast image\n",
      "  warn('%s is a low contrast image' % fname)\n",
      "Rotate: 80.85 seconds.\n",
      "Rotate: 73.32 seconds.\n",
      "/usr/local/lib/python2.7/dist-packages/skimage/io/_io.py:132: UserWarning: /media/yuncong/BstemAtlasData/CSHL_data_processed/CHATM3/CHATM3_raw_CHAT/CHATM3_slide133_2018_01_26-S1_raw_CHAT.tif is a low contrast image\n",
      "  warn('%s is a low contrast image' % fname)\n",
      "Rotate: 82.39 seconds.\n",
      "/usr/local/lib/python2.7/dist-packages/skimage/io/_io.py:132: UserWarning: /media/yuncong/BstemAtlasData/CSHL_data_processed/CHATM3/CHATM3_raw_CHAT/CHATM3_slide135_2018_01_26-S3_raw_CHAT.tif is a low contrast image\n",
      "  warn('%s is a low contrast image' % fname)\n",
      "Rotate: 71.24 seconds.\n",
      "Rotate: 75.80 seconds.\n",
      "Rotate: 74.27 seconds.\n",
      "/usr/local/lib/python2.7/dist-packages/skimage/io/_io.py:132: UserWarning: /media/yuncong/BstemAtlasData/CSHL_data_processed/CHATM3/CHATM3_raw_CHAT/CHATM3_slide137_2018_01_26-S1_raw_CHAT.tif is a low contrast image\n",
      "  warn('%s is a low contrast image' % fname)\n",
      "Rotate: 66.13 seconds.\n",
      "/usr/local/lib/python2.7/dist-packages/skimage/io/_io.py:132: UserWarning: /media/yuncong/BstemAtlasData/CSHL_data_processed/CHATM3/CHATM3_raw_CHAT/CHATM3_slide137_2018_01_26-S2_raw_CHAT.tif is a low contrast image\n",
      "  warn('%s is a low contrast image' % fname)\n",
      "Rotate: 73.37 seconds.\n",
      "/usr/local/lib/python2.7/dist-packages/skimage/io/_io.py:132: UserWarning: /media/yuncong/BstemAtlasData/CSHL_data_processed/CHATM3/CHATM3_raw_CHAT/CHATM3_slide137_2018_01_26-S3_raw_CHAT.tif is a low contrast image\n",
      "  warn('%s is a low contrast image' % fname)\n",
      "Rotate: 60.72 seconds.\n"
     ]
    }
   ],
   "source": [
    "for img_name in valid_filenames[182:]:\n",
    "\n",
    "    for rule_identifier in [('CHAT', 'raw')]:\n",
    "#     for rule_identifier in [('Ntb', 'raw')]:\n",
    "#     for rule_identifier in [('NtbNormalized', 'thumbnail')]:\n",
    "\n",
    "        version, resol = rule_identifier\n",
    "\n",
    "        t = time.time()\n",
    "\n",
    "        in_fp = orig_orientation_image_name_to_filepath_mappings[rule_identifier] % {'image_name': img_name}\n",
    "\n",
    "        img = imread(in_fp)\n",
    "        \n",
    "        out_fp = DataManager.get_image_filepath_v2(stack=stack, prep_id=None, resol=resol, version=version, fn=img_name)\n",
    "        create_parent_dir_if_not_exists(out_fp)\n",
    "\n",
    "        # Reference: http://www.imagemagick.org/Usage/warping/#flip\n",
    "        orientation = image_filename_to_orientation_mapping[img_name]\n",
    "\n",
    "        if orientation == 'top_anterior_left_dorsal':\n",
    "            img_rotated = img.T\n",
    "        elif orientation == 'top_anterior_left_ventral':\n",
    "            img_rotated = img.T[::-1]\n",
    "        elif orientation == 'top_posterior_left_ventral':\n",
    "            img_rotated = img[::-1, ::-1].T\n",
    "        else:\n",
    "            img_rotated = img\n",
    "        \n",
    "        imsave(out_fp, img_rotated)\n",
    "    \n",
    "        sys.stderr.write(\"Rotate: %.2f seconds.\\n\" % (time.time() - t)) # 10s / section\n",
    "        # skimage read and manipulate in memory is faster than imagemagick\n",
    "        \n",
    "        del img, img_rotated"
   ]
  },
  {
   "cell_type": "markdown",
   "metadata": {},
   "source": [
    "# Check image shape (after correcting orientation)"
   ]
  },
  {
   "cell_type": "code",
   "execution_count": 23,
   "metadata": {
    "collapsed": true,
    "scrolled": true
   },
   "outputs": [],
   "source": [
    "rule_identifier = ('Ntb', 'raw')\n",
    "# rule_identifier = ('NtbNormalized', 'thumbnail')\n",
    "version, resol = rule_identifier\n",
    "\n",
    "for img_name in valid_filenames:\n",
    "    fp = DataManager.get_image_filepath_v2(stack=stack, prep_id=None, resol=resol, version=version, fn=img_name)\n",
    "    width, height = identify_shape(fp)\n",
    "#     print img_name, (width, height)\n",
    "    assert width > height, \"image %s, width smaller than height\" % img_name"
   ]
  },
  {
   "cell_type": "markdown",
   "metadata": {},
   "source": [
    "# Sort images"
   ]
  },
  {
   "cell_type": "code",
   "execution_count": 24,
   "metadata": {
    "collapsed": true
   },
   "outputs": [],
   "source": [
    "# filenames_to_sections, _ = DataManager.load_sorted_filenames(stack=stack)"
   ]
  },
  {
   "cell_type": "markdown",
   "metadata": {},
   "source": [
    "# Align, compute transform between adjacent sections"
   ]
  },
  {
   "cell_type": "code",
   "execution_count": 138,
   "metadata": {},
   "outputs": [
    {
     "name": "stdout",
     "output_type": "stream",
     "text": [
      "rm -rf \"/media/yuncong/BstemAtlasData/CSHL_data_processed/CHATM3/CHATM3_sorted_filenames.txt\" && mkdir -p \"/media/yuncong/BstemAtlasData/CSHL_data_processed/CHATM3\"\n",
      "0\n",
      "aws s3 cp \"s3://mousebrainatlas-data/CSHL_data_processed/CHATM3/CHATM3_sorted_filenames.txt\" \"/media/yuncong/BstemAtlasData/CSHL_data_processed/CHATM3/CHATM3_sorted_filenames.txt\"\n",
      "0\n",
      "293 valid filenames\n"
     ]
    }
   ],
   "source": [
    "_, sections_to_filenames = DataManager.load_sorted_filenames(stack=stack, redownload=True) \n",
    "# Note that this could be the human-corrected version, in which case the transforms may not exist.\n",
    "valid_filenames = [fn for fn in sections_to_filenames.values() if not is_invalid(fn=fn)]\n",
    "print len(valid_filenames), 'valid filenames'"
   ]
  },
  {
   "cell_type": "code",
   "execution_count": 139,
   "metadata": {
    "collapsed": true
   },
   "outputs": [],
   "source": [
    "tb_fmt = 'tif'"
   ]
  },
  {
   "cell_type": "code",
   "execution_count": 140,
   "metadata": {
    "collapsed": true
   },
   "outputs": [],
   "source": [
    "version = 'NtbNormalized'"
   ]
  },
  {
   "cell_type": "code",
   "execution_count": 141,
   "metadata": {
    "collapsed": true
   },
   "outputs": [],
   "source": [
    "script = os.path.join(REPO_DIR, 'preprocess', 'align_consecutive_v2.py')\n",
    "input_dir = DataManager.get_image_dir_v2(stack=stack, prep_id=None, version=version, resol='thumbnail')    \n",
    "output_dir = create_if_not_exists(os.path.join(THUMBNAIL_DATA_DIR, stack, stack + '_elastix_output'))"
   ]
  },
  {
   "cell_type": "code",
   "execution_count": 142,
   "metadata": {
    "collapsed": true
   },
   "outputs": [],
   "source": [
    "! rm -fr \"{output_dir}\""
   ]
  },
  {
   "cell_type": "code",
   "execution_count": null,
   "metadata": {},
   "outputs": [
    {
     "name": "stdout",
     "output_type": "stream",
     "text": [
      "Align...\n",
      "rm -f ~/stderr_*; rm -f ~/stdout_*\n",
      "0\n"
     ]
    },
    {
     "name": "stderr",
     "output_type": "stream",
     "text": [
      "Run locally.\n"
     ]
    }
   ],
   "source": [
    "t = time.time()\n",
    "print 'Align...'\n",
    "\n",
    "run_distributed(\"%(script)s %(stack)s \\\"%(input_dir)s\\\" \\\"%(output_dir)s\\\" \\'%%(kwargs_str)s\\' %(fmt)s -p %(param_fp)s -r\" % \\\n",
    "                {'script': script,\n",
    "                'stack': stack,\n",
    "                'input_dir': input_dir,\n",
    "                'output_dir': output_dir,\n",
    "                'fmt': tb_fmt,\n",
    "                 'param_fp': '/home/yuncong/Brain/preprocess/parameters/Parameters_Rigid_MutualInfo_noNumberOfSpatialSamples_4000Iters.txt'\n",
    "                },\n",
    "                kwargs_list=[{'prev_fn': valid_filenames[i-1] + '_thumbnail_' + version, \n",
    "                              'curr_fn': valid_filenames[i] + '_thumbnail_' + version,\n",
    "                             'prev_sn': valid_filenames[i-1] ,\n",
    "                             'curr_sn': valid_filenames[i] } \n",
    "                             for i in range(1, len(valid_filenames))],\n",
    "                argument_type='list',\n",
    "                jobs_per_node=8,\n",
    "               local_only=True)\n",
    "\n",
    "# wait_qsub_complete()\n",
    "\n",
    "print 'done in', time.time() - t, 'seconds' # 2252 seconds full stack"
   ]
  },
  {
   "cell_type": "code",
   "execution_count": 146,
   "metadata": {},
   "outputs": [
    {
     "name": "stdout",
     "output_type": "stream",
     "text": [
      "aws s3 cp --recursive \"/media/yuncong/BstemAtlasData/CSHL_data_processed/CHATM3/CHATM3_elastix_output\" \"s3://mousebrainatlas-data/CSHL_data_processed/CHATM3/CHATM3_elastix_output\"\n",
      "0\n"
     ]
    }
   ],
   "source": [
    "upload_to_s3(output_dir, is_dir=True, local_root=DATA_ROOTDIR)"
   ]
  },
  {
   "cell_type": "markdown",
   "metadata": {},
   "source": [
    "# Check alignment metrics"
   ]
  },
  {
   "cell_type": "code",
   "execution_count": 144,
   "metadata": {
    "collapsed": true
   },
   "outputs": [],
   "source": [
    "import re\n",
    "\n",
    "final_metric = {}\n",
    "for i in range(1, len(valid_filenames)):\n",
    "#     if stack == 'ChatCryoJane201710':\n",
    "#         prev_fn = valid_filenames[i-1] + '-Ntb'\n",
    "#         curr_fn = valid_filenames[i] + '-Ntb'\n",
    "#     else:\n",
    "    prev_fn = valid_filenames[i-1]\n",
    "    curr_fn = valid_filenames[i]\n",
    "\n",
    "    with open(os.path.join(output_dir, curr_fn + '_to_' + prev_fn, 'elastix.log'), 'r') as f:\n",
    "        t = f.read()\n",
    "        g = re.search(\"Final metric value  = (.*?)\\n\", t)\n",
    "#         final_metric[(curr_fn, prev_fn)] = -float(g.groups()[0])\n",
    "        if g is None:\n",
    "            print i\n",
    "        final_metric[i] = float(g.groups()[0])"
   ]
  },
  {
   "cell_type": "code",
   "execution_count": 126,
   "metadata": {
    "scrolled": true
   },
   "outputs": [
    {
     "data": {
      "image/png": "[encoded data removed]",
      "text/plain": [
       "<matplotlib.figure.Figure at 0x7f3b1b3144d0>"
      ]
     },
     "metadata": {},
     "output_type": "display_data"
    }
   ],
   "source": [
    "%matplotlib inline\n",
    "metric_arr = np.array(final_metric.values())\n",
    "plt.figure(figsize=(20,2));\n",
    "plt.ylim([-1, metric_arr.max()+.1]);\n",
    "plt.stem(metric_arr);\n",
    "plt.title('Mutual information of pairwise registration');\n",
    "plt.yticks(np.arange(-1, metric_arr.max()+.1, 0.1));\n",
    "plt.xlabel('Image index');\n",
    "plt.ylabel('Mutual info');"
   ]
  },
  {
   "cell_type": "code",
   "execution_count": 145,
   "metadata": {},
   "outputs": [
    {
     "data": {
      "image/png": "[encoded data removed]",
      "text/plain": [
       "<matplotlib.figure.Figure at 0x7f3b1ad49990>"
      ]
     },
     "metadata": {},
     "output_type": "display_data"
    }
   ],
   "source": [
    "%matplotlib inline\n",
    "metric_arr = np.array(final_metric.values())\n",
    "plt.figure(figsize=(20,2));\n",
    "plt.ylim([-1, metric_arr.max()+.1]);\n",
    "plt.stem(metric_arr);\n",
    "plt.title('Mutual information of pairwise registration');\n",
    "plt.yticks(np.arange(-1, metric_arr.max()+.1, 0.1));\n",
    "plt.xlabel('Image index');\n",
    "plt.ylabel('Mutual info');"
   ]
  },
  {
   "cell_type": "code",
   "execution_count": 147,
   "metadata": {
    "scrolled": true
   },
   "outputs": [
    {
     "name": "stdout",
     "output_type": "stream",
     "text": [
      "Pairs to check (fixed, moving):\n"
     ]
    },
    {
     "data": {
      "text/plain": [
       "[('CHATM3_slide01_2018_02_17-S1', 'CHATM3_slide02_2018_02_18-S1'),\n",
       " ('CHATM3_slide02_2018_02_18-S1', 'CHATM3_slide01_2018_02_17-S2'),\n",
       " ('CHATM3_slide01_2018_02_17-S2', 'CHATM3_slide02_2018_02_18-S2'),\n",
       " ('CHATM3_slide01_2018_02_17-S3', 'CHATM3_slide02_2018_02_18-S3'),\n",
       " ('CHATM3_slide02_2018_02_18-S3', 'CHATM3_slide03_2018_02_18-S1'),\n",
       " ('CHATM3_slide04_2018_02_17-S1', 'CHATM3_slide03_2018_02_18-S2'),\n",
       " ('CHATM3_slide03_2018_02_18-S2', 'CHATM3_slide04_2018_02_17-S2'),\n",
       " ('CHATM3_slide04_2018_02_17-S2', 'CHATM3_slide03_2018_02_18-S3'),\n",
       " ('CHATM3_slide03_2018_02_18-S3', 'CHATM3_slide04_2018_02_17-S3'),\n",
       " ('CHATM3_slide04_2018_02_17-S3', 'CHATM3_slide05_2018_02_17-S1'),\n",
       " ('CHATM3_slide05_2018_02_17-S1', 'CHATM3_slide06_2018_02_17-S1'),\n",
       " ('CHATM3_slide06_2018_02_17-S1', 'CHATM3_slide05_2018_02_17-S2'),\n",
       " ('CHATM3_slide08_2018_02_18-S3', 'CHATM3_slide09_2018_02_18-S1'),\n",
       " ('CHATM3_slide10_2018_02_17-S3', 'CHATM3_slide11_2018_02_17-S1'),\n",
       " ('CHATM3_slide11_2018_02_17-S1', 'CHATM3_slide12_2018_02_17-S1'),\n",
       " ('CHATM3_slide12_2018_02_17-S1', 'CHATM3_slide11_2018_02_17-S2'),\n",
       " ('CHATM3_slide11_2018_02_17-S2', 'CHATM3_slide12_2018_02_17-S2'),\n",
       " ('CHATM3_slide12_2018_02_17-S2', 'CHATM3_slide11_2018_02_17-S3'),\n",
       " ('CHATM3_slide11_2018_02_17-S3', 'CHATM3_slide12_2018_02_17-S3'),\n",
       " ('CHATM3_slide12_2018_02_17-S3', 'CHATM3_slide13_2018_02_18-S1'),\n",
       " ('CHATM3_slide16_2018_02_17-S2', 'CHATM3_slide15_2018_02_18-S3'),\n",
       " ('CHATM3_slide15_2018_02_18-S3', 'CHATM3_slide17_2018_02_17-S1'),\n",
       " ('CHATM3_slide17_2018_02_17-S3', 'CHATM3_slide18_2018_02_18-S3'),\n",
       " ('CHATM3_slide20_2018_02_17-S1', 'CHATM3_slide19_2018_02_18-S2'),\n",
       " ('CHATM3_slide19_2018_02_18-S3', 'CHATM3_slide20_2018_02_17-S3'),\n",
       " ('CHATM3_slide20_2018_02_17-S3', 'CHATM3_slide21_2018_02_17-S1'),\n",
       " ('CHATM3_slide25_2018_02_17-S1', 'CHATM3_slide26_2018_02_17-S1'),\n",
       " ('CHATM3_slide28_2018_02_17-S1', 'CHATM3_slide27_2018_02_17-S2'),\n",
       " ('CHATM3_slide30_2018_02_17-S3', 'CHATM3_slide32_2018_02_17-S2'),\n",
       " ('CHATM3_slide52_2018_02_19-S1', 'CHATM3_slide51_2018_02_18-S2'),\n",
       " ('CHATM3_slide55_2018_02_18-S3', 'CHATM3_slide57_2018_02_18-S1'),\n",
       " ('CHATM3_slide63_2018_02_19-S2', 'CHATM3_slide64_2018_02_19-S2'),\n",
       " ('CHATM3_slide70_2018_02_19-S2', 'CHATM3_slide69_2018_02_19-S3'),\n",
       " ('CHATM3_slide72_2018_02_19-S3', 'CHATM3_slide73_2018_01_26-S1'),\n",
       " ('CHATM3_slide73_2018_01_26-S1', 'CHATM3_slide73_2018_01_26-S2'),\n",
       " ('CHATM3_slide73_2018_01_26-S2', 'CHATM3_slide73_2018_01_26-S3'),\n",
       " ('CHATM3_slide73_2018_01_26-S3', 'CHATM3_slide75_2018_01_26-S1'),\n",
       " ('CHATM3_slide75_2018_01_26-S1', 'CHATM3_slide75_2018_01_26-S2'),\n",
       " ('CHATM3_slide75_2018_01_26-S2', 'CHATM3_slide75_2018_01_26-S3'),\n",
       " ('CHATM3_slide75_2018_01_26-S3', 'CHATM3_slide77_2018_01_26-S1'),\n",
       " ('CHATM3_slide77_2018_01_26-S1', 'CHATM3_slide77_2018_01_26-S2'),\n",
       " ('CHATM3_slide77_2018_01_26-S2', 'CHATM3_slide77_2018_01_26-S3'),\n",
       " ('CHATM3_slide77_2018_01_26-S3', 'CHATM3_slide79_2018_01_26-S1'),\n",
       " ('CHATM3_slide79_2018_01_26-S1', 'CHATM3_slide79_2018_01_26-S2'),\n",
       " ('CHATM3_slide79_2018_01_26-S2', 'CHATM3_slide79_2018_01_26-S3'),\n",
       " ('CHATM3_slide79_2018_01_26-S3', 'CHATM3_slide83_2018_01_26-S1'),\n",
       " ('CHATM3_slide83_2018_01_26-S2', 'CHATM3_slide85_2018_01_26-S1'),\n",
       " ('CHATM3_slide85_2018_01_26-S1', 'CHATM3_slide85_2018_01_26-S2'),\n",
       " ('CHATM3_slide85_2018_01_26-S2', 'CHATM3_slide85_2018_01_26-S3'),\n",
       " ('CHATM3_slide85_2018_01_26-S3', 'CHATM3_slide87_2018_01_26-S1'),\n",
       " ('CHATM3_slide87_2018_01_26-S1', 'CHATM3_slide87_2018_01_26-S2'),\n",
       " ('CHATM3_slide87_2018_01_26-S2', 'CHATM3_slide87_2018_01_26-S3'),\n",
       " ('CHATM3_slide87_2018_01_26-S3', 'CHATM3_slide89_2018_01_26-S1'),\n",
       " ('CHATM3_slide89_2018_01_26-S1', 'CHATM3_slide89_2018_01_26-S3'),\n",
       " ('CHATM3_slide89_2018_01_26-S3', 'CHATM3_slide91_2018_01_26-S2'),\n",
       " ('CHATM3_slide91_2018_01_26-S3', 'CHATM3_slide93_2018_01_26-S1'),\n",
       " ('CHATM3_slide93_2018_01_26-S1', 'CHATM3_slide93_2018_01_26-S2'),\n",
       " ('CHATM3_slide93_2018_01_26-S2', 'CHATM3_slide93_2018_01_26-S3'),\n",
       " ('CHATM3_slide93_2018_01_26-S3', 'CHATM3_slide95_2018_01_26-S1'),\n",
       " ('CHATM3_slide95_2018_01_26-S1', 'CHATM3_slide95_2018_01_26-S2'),\n",
       " ('CHATM3_slide95_2018_01_26-S2', 'CHATM3_slide95_2018_01_26-S3'),\n",
       " ('CHATM3_slide95_2018_01_26-S3', 'CHATM3_slide97_2018_01_26-S1'),\n",
       " ('CHATM3_slide97_2018_01_26-S1', 'CHATM3_slide97_2018_01_26-S2'),\n",
       " ('CHATM3_slide97_2018_01_26-S2', 'CHATM3_slide97_2018_01_26-S3'),\n",
       " ('CHATM3_slide97_2018_01_26-S3', 'CHATM3_slide99_2018_01_26-S1'),\n",
       " ('CHATM3_slide99_2018_01_26-S3', 'CHATM3_slide101_2018_01_26-S1'),\n",
       " ('CHATM3_slide101_2018_01_26-S1', 'CHATM3_slide101_2018_01_26-S2'),\n",
       " ('CHATM3_slide101_2018_01_26-S3', 'CHATM3_slide103_2018_01_26-S1'),\n",
       " ('CHATM3_slide103_2018_01_26-S1', 'CHATM3_slide103_2018_01_26-S2'),\n",
       " ('CHATM3_slide103_2018_01_26-S3', 'CHATM3_slide105_2018_01_26-S1'),\n",
       " ('CHATM3_slide105_2018_01_26-S1', 'CHATM3_slide105_2018_01_26-S2'),\n",
       " ('CHATM3_slide105_2018_01_26-S2', 'CHATM3_slide105_2018_01_26-S3'),\n",
       " ('CHATM3_slide107_2018_01_26-S3', 'CHATM3_slide109_2018_01_26-S2'),\n",
       " ('CHATM3_slide109_2018_01_26-S2', 'CHATM3_slide109_2018_01_26-S3'),\n",
       " ('CHATM3_slide109_2018_01_26-S3', 'CHATM3_slide111_2018_01_26-S1'),\n",
       " ('CHATM3_slide111_2018_01_26-S1', 'CHATM3_slide111_2018_01_26-S2'),\n",
       " ('CHATM3_slide111_2018_01_26-S3', 'CHATM3_slide113_2018_01_26-S1'),\n",
       " ('CHATM3_slide113_2018_01_26-S2', 'CHATM3_slide113_2018_01_26-S3'),\n",
       " ('CHATM3_slide113_2018_01_26-S3', 'CHATM3_slide115_2018_01_26-S1'),\n",
       " ('CHATM3_slide115_2018_01_26-S1', 'CHATM3_slide115_2018_01_26-S2'),\n",
       " ('CHATM3_slide115_2018_01_26-S2', 'CHATM3_slide115_2018_01_26-S3'),\n",
       " ('CHATM3_slide115_2018_01_26-S3', 'CHATM3_slide117_2018_01_26-S1'),\n",
       " ('CHATM3_slide117_2018_01_26-S1', 'CHATM3_slide117_2018_01_26-S2'),\n",
       " ('CHATM3_slide119_2018_01_26-S3', 'CHATM3_slide121_2018_01_26-S1'),\n",
       " ('CHATM3_slide121_2018_01_26-S1', 'CHATM3_slide121_2018_01_26-S2'),\n",
       " ('CHATM3_slide121_2018_01_26-S2', 'CHATM3_slide121_2018_01_26-S3'),\n",
       " ('CHATM3_slide123_2018_01_26-S3', 'CHATM3_slide125_2018_01_26-S1'),\n",
       " ('CHATM3_slide125_2018_01_26-S1', 'CHATM3_slide125_2018_01_26-S2'),\n",
       " ('CHATM3_slide125_2018_01_26-S2', 'CHATM3_slide125_2018_01_26-S3'),\n",
       " ('CHATM3_slide125_2018_01_26-S3', 'CHATM3_slide127_2018_01_26-S1'),\n",
       " ('CHATM3_slide127_2018_01_26-S1', 'CHATM3_slide127_2018_01_26-S2'),\n",
       " ('CHATM3_slide127_2018_01_26-S2', 'CHATM3_slide127_2018_01_26-S3'),\n",
       " ('CHATM3_slide129_2018_01_26-S2', 'CHATM3_slide129_2018_01_26-S3'),\n",
       " ('CHATM3_slide129_2018_01_26-S3', 'CHATM3_slide131_2018_01_26-S1'),\n",
       " ('CHATM3_slide133_2018_01_26-S2', 'CHATM3_slide133_2018_01_26-S3'),\n",
       " ('CHATM3_slide133_2018_01_26-S3', 'CHATM3_slide135_2018_01_26-S1'),\n",
       " ('CHATM3_slide135_2018_01_26-S1', 'CHATM3_slide135_2018_01_26-S2'),\n",
       " ('CHATM3_slide135_2018_01_26-S2', 'CHATM3_slide135_2018_01_26-S3'),\n",
       " ('CHATM3_slide135_2018_01_26-S3', 'CHATM3_slide137_2018_01_26-S1'),\n",
       " ('CHATM3_slide137_2018_01_26-S1', 'CHATM3_slide137_2018_01_26-S2'),\n",
       " ('CHATM3_slide137_2018_01_26-S2', 'CHATM3_slide137_2018_01_26-S3')]"
      ]
     },
     "execution_count": 147,
     "metadata": {},
     "output_type": "execute_result"
    }
   ],
   "source": [
    "problematic_moving_indices = np.where(abs(metric_arr) < .6)[0] + 1\n",
    "\n",
    "problematic_pairs = [(valid_filenames[moving_ind-1], valid_filenames[moving_ind]) \n",
    "                     for moving_ind in problematic_moving_indices]\n",
    "\n",
    "print 'Pairs to check (fixed, moving):'\n",
    "problematic_pairs"
   ]
  },
  {
   "cell_type": "code",
   "execution_count": 128,
   "metadata": {
    "collapsed": true
   },
   "outputs": [],
   "source": [
    "script = os.path.join(REPO_DIR, 'preprocess', 'align_consecutive_v2.py')\n",
    "input_dir = DataManager.get_image_dir_v2(stack=stack, prep_id=None, version=version, resol='thumbnail')    \n",
    "output_dir = create_if_not_exists(os.path.join(THUMBNAIL_DATA_DIR, stack, stack + '_elastix_output'))\n",
    "version = 'NtbNormalized'\n",
    "tb_fmt = 'tif'"
   ]
  },
  {
   "cell_type": "code",
   "execution_count": 134,
   "metadata": {},
   "outputs": [
    {
     "name": "stdout",
     "output_type": "stream",
     "text": [
      "Align...\n",
      "rm -f ~/stderr_*; rm -f ~/stdout_*\n",
      "0\n"
     ]
    },
    {
     "name": "stderr",
     "output_type": "stream",
     "text": [
      "Run locally.\n"
     ]
    },
    {
     "name": "stdout",
     "output_type": "stream",
     "text": [
      "done in 121.798708916 seconds\n"
     ]
    },
    {
     "name": "stderr",
     "output_type": "stream",
     "text": [
      "Jobs submitted. Use wait_qsub_complete() to wait for all execution to finish.\n"
     ]
    }
   ],
   "source": [
    "t = time.time()\n",
    "print 'Align...'\n",
    "\n",
    "run_distributed(\"%(script)s %(stack)s \\\"%(input_dir)s\\\" \\\"%(output_dir)s\\\" \\'%%(kwargs_str)s\\' %(fmt)s -p %(param_fp)s -r\" % \\\n",
    "                {'script': script,\n",
    "                'stack': stack,\n",
    "                'input_dir': input_dir,\n",
    "                'output_dir': output_dir,\n",
    "                'fmt': tb_fmt,\n",
    "                 'param_fp': '/home/yuncong/Brain/preprocess/parameters/Parameters_Rigid_MutualInfo_noNumberOfSpatialSamples_4000Iters.txt'\n",
    "                },\n",
    "                kwargs_list=[{'prev_fn': f + '_thumbnail_' + version, \n",
    "                              'curr_fn': m + '_thumbnail_' + version,\n",
    "                             'prev_sn': f,\n",
    "                             'curr_sn': m} \n",
    "                             for f, m in problematic_pairs[:1]],\n",
    "                argument_type='list',\n",
    "                jobs_per_node=8,\n",
    "               local_only=True)\n",
    "\n",
    "# wait_qsub_complete()\n",
    "\n",
    "print 'done in', time.time() - t, 'seconds' # 2252 seconds full stack"
   ]
  },
  {
   "cell_type": "code",
   "execution_count": 135,
   "metadata": {
    "scrolled": true
   },
   "outputs": [
    {
     "name": "stdout",
     "output_type": "stream",
     "text": [
      "Result for aligning CHATM3_slide04_2018_02_17-S2_thumbnail_NtbNormalized to CHATM3_slide03_2018_02_18-S2_thumbnail_NtbNormalized already exists.\r\n"
     ]
    }
   ],
   "source": [
    "! cat /home/yuncong/stderr_0.log"
   ]
  },
  {
   "cell_type": "code",
   "execution_count": 148,
   "metadata": {
    "collapsed": true
   },
   "outputs": [],
   "source": [
    "pp_fp = os.path.join(DATA_DIR, stack, stack + '_problematic_pairs.txt')"
   ]
  },
  {
   "cell_type": "code",
   "execution_count": 149,
   "metadata": {
    "collapsed": true
   },
   "outputs": [],
   "source": [
    "with open(pp_fp, 'w') as f:\n",
    "    for moving_ind in problematic_moving_indices:\n",
    "        f.write('%s %s\\n' % (valid_filenames[moving_ind-1], valid_filenames[moving_ind]))"
   ]
  },
  {
   "cell_type": "code",
   "execution_count": 150,
   "metadata": {},
   "outputs": [
    {
     "name": "stdout",
     "output_type": "stream",
     "text": [
      "aws s3 cp \"/media/yuncong/BstemAtlasData/CSHL_data_processed/CHATM3/CHATM3_problematic_pairs.txt\" \"s3://mousebrainatlas-data/CSHL_data_processed/CHATM3/CHATM3_problematic_pairs.txt\"\n",
      "0\n"
     ]
    }
   ],
   "source": [
    "upload_to_s3(pp_fp)"
   ]
  },
  {
   "cell_type": "code",
   "execution_count": 79,
   "metadata": {},
   "outputs": [
    {
     "name": "stdout",
     "output_type": "stream",
     "text": [
      "worst pair (moving, fixed): CHATM3_slide73_2018_01_26-S1 CHATM3_slide72_2018_02_19-S3\n"
     ]
    }
   ],
   "source": [
    "q = np.argmin(np.abs(final_metric.values()))\n",
    "print 'worst pair (moving, fixed):', valid_filenames[q], valid_filenames[q-1]"
   ]
  },
  {
   "cell_type": "markdown",
   "metadata": {},
   "source": [
    "# Check and correct alignments"
   ]
  },
  {
   "cell_type": "markdown",
   "metadata": {},
   "source": [
    "# Compose alignments"
   ]
  },
  {
   "cell_type": "code",
   "execution_count": 176,
   "metadata": {},
   "outputs": [
    {
     "name": "stdout",
     "output_type": "stream",
     "text": [
      "rm -rf \"/media/yuncong/BstemAtlasData/CSHL_data_processed/CHATM3/CHATM3_custom_transforms\" && mkdir -p \"/media/yuncong/BstemAtlasData/CSHL_data_processed/CHATM3\"\n",
      "0\n",
      "aws s3 cp --recursive \"s3://mousebrainatlas-data/CSHL_data_processed/CHATM3/CHATM3_custom_transforms\" \"/media/yuncong/BstemAtlasData/CSHL_data_processed/CHATM3/CHATM3_custom_transforms\"\n",
      "0\n"
     ]
    }
   ],
   "source": [
    "download_from_s3(os.path.join('CSHL_data_processed', stack, stack + '_custom_transforms'), \n",
    "                 is_dir=True, local_root=DATA_ROOTDIR, redownload=True)"
   ]
  },
  {
   "cell_type": "code",
   "execution_count": 177,
   "metadata": {},
   "outputs": [
    {
     "name": "stdout",
     "output_type": "stream",
     "text": [
      "rm -rf \"/media/yuncong/BstemAtlasData/CSHL_data_processed/CHATM3/CHATM3_anchor.txt\" && mkdir -p \"/media/yuncong/BstemAtlasData/CSHL_data_processed/CHATM3\"\n",
      "0\n",
      "aws s3 cp \"s3://mousebrainatlas-data/CSHL_data_processed/CHATM3/CHATM3_anchor.txt\" \"/media/yuncong/BstemAtlasData/CSHL_data_processed/CHATM3/CHATM3_anchor.txt\"\n",
      "0\n"
     ]
    }
   ],
   "source": [
    "download_from_s3(os.path.join('CSHL_data_processed', stack, stack + '_anchor.txt'), \n",
    "                     is_dir=False,\n",
    "                    local_root=DATA_ROOTDIR)"
   ]
  },
  {
   "cell_type": "code",
   "execution_count": 178,
   "metadata": {},
   "outputs": [
    {
     "name": "stdout",
     "output_type": "stream",
     "text": [
      "anchor_idx = 207\n"
     ]
    }
   ],
   "source": [
    "anchor_fn = DataManager.load_anchor_filename(stack=stack)\n",
    "anchor_idx = valid_filenames.index(anchor_fn)\n",
    "print 'anchor_idx =', anchor_idx"
   ]
  },
  {
   "cell_type": "code",
   "execution_count": 179,
   "metadata": {
    "collapsed": true
   },
   "outputs": [],
   "source": [
    "script = os.path.join(REPO_DIR, 'preprocess', 'compose_transform_thumbnail_v2.py')\n",
    "input_dir = os.path.join(DATA_DIR, stack, stack + '_elastix_output')\n",
    "output_fp = os.path.join(DATA_DIR, stack, '%(stack)s_transformsTo_%(anchor_fn)s.pkl' % \\\n",
    "                         dict(stack=stack, anchor_fn=anchor_fn))"
   ]
  },
  {
   "cell_type": "code",
   "execution_count": 180,
   "metadata": {
    "collapsed": true
   },
   "outputs": [],
   "source": [
    "! rm -f \"{output_fp}\""
   ]
  },
  {
   "cell_type": "code",
   "execution_count": 181,
   "metadata": {},
   "outputs": [
    {
     "name": "stdout",
     "output_type": "stream",
     "text": [
      "Composing transform...\n",
      "rm -f ~/stderr_*; rm -f ~/stdout_*\n",
      "0\n"
     ]
    },
    {
     "name": "stderr",
     "output_type": "stream",
     "text": [
      "Run locally.\n"
     ]
    },
    {
     "name": "stdout",
     "output_type": "stream",
     "text": [
      "done in 2.08605790138 seconds\n"
     ]
    },
    {
     "name": "stderr",
     "output_type": "stream",
     "text": [
      "Jobs submitted. Use wait_qsub_complete() to wait for all execution to finish.\n"
     ]
    }
   ],
   "source": [
    "t = time.time()\n",
    "print 'Composing transform...'\n",
    "\n",
    "run_distributed(\"%(script)s %(stack)s \\\"%(input_dir)s\\\" \\'%%(kwargs_str)s\\' %(anchor_idx)d \\\"%(output_fp)s\\\"\" % \\\n",
    "            {'stack': stack,\n",
    "            'script': script,\n",
    "            'input_dir': input_dir,\n",
    "            'anchor_idx': anchor_idx,\n",
    "            'output_fp': output_fp},\n",
    "            kwargs_list=[{'filenames': valid_filenames}],\n",
    "            argument_type='list',\n",
    "               local_only=True)\n",
    "\n",
    "# wait_qsub_complete()\n",
    "\n",
    "print 'done in', time.time() - t, 'seconds' # 20 seconds"
   ]
  },
  {
   "cell_type": "code",
   "execution_count": 182,
   "metadata": {},
   "outputs": [
    {
     "name": "stdout",
     "output_type": "stream",
     "text": [
      "aws s3 cp \"/media/yuncong/BstemAtlasData/CSHL_data_processed/CHATM3/CHATM3_transformsTo_CHATM3_slide77_2018_01_26-S1.pkl\" \"s3://mousebrainatlas-data/CSHL_data_processed/CHATM3/CHATM3_transformsTo_CHATM3_slide77_2018_01_26-S1.pkl\"\n",
      "0\n"
     ]
    }
   ],
   "source": [
    "upload_to_s3(output_fp)"
   ]
  },
  {
   "cell_type": "markdown",
   "metadata": {},
   "source": [
    "# Transform"
   ]
  },
  {
   "cell_type": "code",
   "execution_count": 183,
   "metadata": {},
   "outputs": [
    {
     "name": "stdout",
     "output_type": "stream",
     "text": [
      "rm -rf \"/media/yuncong/BstemAtlasData/CSHL_data_processed/CHATM3/CHATM3_transformsTo_CHATM3_slide77_2018_01_26-S1.pkl\" && mkdir -p \"/media/yuncong/BstemAtlasData/CSHL_data_processed/CHATM3\"\n",
      "0\n",
      "aws s3 cp \"s3://mousebrainatlas-data/CSHL_data_processed/CHATM3/CHATM3_transformsTo_CHATM3_slide77_2018_01_26-S1.pkl\" \"/media/yuncong/BstemAtlasData/CSHL_data_processed/CHATM3/CHATM3_transformsTo_CHATM3_slide77_2018_01_26-S1.pkl\"\n",
      "0\n"
     ]
    }
   ],
   "source": [
    "transforms_fp = os.path.join(DATA_DIR, stack, '%(stack)s_transformsTo_%(anchor_fn)s.pkl' % \\\n",
    "                                                dict(stack=stack, anchor_fn=anchor_fn))\n",
    "download_from_s3(transforms_fp, redownload=True)"
   ]
  },
  {
   "cell_type": "code",
   "execution_count": 184,
   "metadata": {
    "collapsed": true
   },
   "outputs": [],
   "source": [
    "pad_bg_color = 'black'"
   ]
  },
  {
   "cell_type": "code",
   "execution_count": 185,
   "metadata": {
    "collapsed": true
   },
   "outputs": [],
   "source": [
    "prep_id = 1"
   ]
  },
  {
   "cell_type": "code",
   "execution_count": 186,
   "metadata": {
    "collapsed": true
   },
   "outputs": [],
   "source": [
    "version = 'NtbNormalized'"
   ]
  },
  {
   "cell_type": "code",
   "execution_count": 187,
   "metadata": {},
   "outputs": [
    {
     "name": "stdout",
     "output_type": "stream",
     "text": [
      "out_dir: /media/yuncong/BstemAtlasData/CSHL_data_processed/CHATM3/CHATM3_prep1_thumbnail_NtbNormalized\n"
     ]
    }
   ],
   "source": [
    "input_dir = DataManager.get_image_dir_v2(stack=stack, prep_id=None, version=version, resol='thumbnail')\n",
    "out_dir = DataManager.get_image_dir_v2(stack=stack, prep_id=prep_id, resol='thumbnail', version=version)\n",
    "print 'out_dir:', out_dir\n",
    "script = os.path.join(REPO_DIR, 'preprocess', 'warp_crop_IM_v3.py')"
   ]
  },
  {
   "cell_type": "code",
   "execution_count": 188,
   "metadata": {
    "collapsed": true
   },
   "outputs": [],
   "source": [
    "! rm -rf {out_dir}"
   ]
  },
  {
   "cell_type": "code",
   "execution_count": 189,
   "metadata": {},
   "outputs": [
    {
     "name": "stdout",
     "output_type": "stream",
     "text": [
      "Warping...\n",
      "rm -f ~/stderr_*; rm -f ~/stdout_*\n",
      "0\n"
     ]
    },
    {
     "name": "stderr",
     "output_type": "stream",
     "text": [
      "Run locally.\n"
     ]
    },
    {
     "name": "stdout",
     "output_type": "stream",
     "text": [
      "done in 78.6542899609 seconds\n"
     ]
    },
    {
     "name": "stderr",
     "output_type": "stream",
     "text": [
      "Jobs submitted. Use wait_qsub_complete() to wait for all execution to finish.\n"
     ]
    }
   ],
   "source": [
    "t = time.time()\n",
    "print 'Warping...'\n",
    "\n",
    "transforms_to_anchor = DataManager.load_transforms(stack=stack, downsample_factor=32, use_inverse=False, anchor_fn=anchor_fn)\n",
    "\n",
    "if pad_bg_color == 'auto': # useful for alternatively stained stacks where bg varies depending on stain on each section\n",
    "    run_distributed('%(script)s %(stack)s \\\"%%(input_fp)s\\\" \\\"%%(output_fp)s\\\" %%(transform)s thumbnail 0 0 2000 1500 %%(pad_bg_color)s' % \\\n",
    "                    {'script': script,\n",
    "                    'stack': stack,\n",
    "                    },\n",
    "                    kwargs_list=[{'transform': ','.join(map(str, transforms_to_anchor[fn].flatten())),\n",
    "                                'input_fp': os.path.join(input_dir, \\\n",
    "                                                        fn + '_thumbnail_' + version + '.' + tb_fmt \\\n",
    "                                              if version is not None \\\n",
    "                                              else fn + '.' + tb_fmt),\n",
    "                                  'output_fp': DataManager.get_image_filepath_v2(stack=stack, fn=fn, prep_id=prep_id, version=version, resol='thumbnail'),\n",
    "                                'pad_bg_color': 'black' if fn.split('-')[1][0] == 'F' else 'white'}\n",
    "                                for fn in valid_filenames],\n",
    "                    argument_type='single',\n",
    "                   jobs_per_node=8,\n",
    "                   local_only=True)\n",
    "else:\n",
    "    run_distributed('%(script)s %(stack)s \\\"%%(input_fp)s\\\" \\\"%%(output_fp)s\\\" %%(transform)s thumbnail 0 0 2000 1500 %(pad_bg_color)s' % \\\n",
    "                    {'script': script,\n",
    "                    'stack': stack,\n",
    "                    'pad_bg_color': pad_bg_color},\n",
    "                    kwargs_list=[{'transform': ','.join(map(str, transforms_to_anchor[fn].flatten())),\n",
    "                                'input_fp': os.path.join(input_dir, \\\n",
    "                                                        fn + '_thumbnail_' + version + '.' + tb_fmt \\\n",
    "                                              if version is not None \\\n",
    "                                              else fn + '.' + tb_fmt),\n",
    "                                  'output_fp': DataManager.get_image_filepath_v2(stack=stack, fn=fn, prep_id=prep_id, version=version, resol='thumbnail'),\n",
    "                                 }\n",
    "                                for fn in valid_filenames],\n",
    "                    argument_type='single',\n",
    "                   jobs_per_node=8,\n",
    "                   local_only=True)\n",
    "\n",
    "# wait_qsub_complete()\n",
    "    \n",
    "print 'done in', time.time() - t, 'seconds' # 300 seconds."
   ]
  },
  {
   "cell_type": "code",
   "execution_count": 190,
   "metadata": {},
   "outputs": [
    {
     "name": "stdout",
     "output_type": "stream",
     "text": [
      "aws s3 cp --recursive \"/media/yuncong/BstemAtlasData/CSHL_data_processed/CHATM3/CHATM3_prep1_thumbnail_NtbNormalized\" \"s3://mousebrainatlas-data/CSHL_data_processed/CHATM3/CHATM3_prep1_thumbnail_NtbNormalized\"\n",
      "0\n"
     ]
    }
   ],
   "source": [
    "upload_to_s3(out_dir, is_dir=True, local_root=DATA_ROOTDIR)"
   ]
  },
  {
   "cell_type": "markdown",
   "metadata": {},
   "source": [
    "# Check whether given image order is correct"
   ]
  },
  {
   "cell_type": "code",
   "execution_count": 52,
   "metadata": {},
   "outputs": [
    {
     "name": "stdout",
     "output_type": "stream",
     "text": [
      "rm -r /tmp/tmp_sorted_images\n",
      "0\n",
      "ln -s /media/yuncong/BstemAtlasData/CSHL_data_processed/CHATM3/CHATM3_prep1_thumbnail_NtbNormalized/CHATM3_slide66_2018_02_19-S1_prep1_thumbnail_NtbNormalized.tif /tmp/tmp_sorted_images/0192.tif\n",
      "0\n",
      "ln -s /media/yuncong/BstemAtlasData/CSHL_data_processed/CHATM3/CHATM3_prep1_thumbnail_NtbNormalized/CHATM3_slide50_2018_02_18-S1_prep1_thumbnail_NtbNormalized.tif /tmp/tmp_sorted_images/0144.tif\n",
      "0\n",
      "ln -s /media/yuncong/BstemAtlasData/CSHL_data_processed/CHATM3/CHATM3_prep1_thumbnail_NtbNormalized/CHATM3_slide50_2018_02_18-S2_prep1_thumbnail_NtbNormalized.tif /tmp/tmp_sorted_images/0146.tif\n",
      "0\n",
      "ln -s /media/yuncong/BstemAtlasData/CSHL_data_processed/CHATM3/CHATM3_prep1_thumbnail_NtbNormalized/CHATM3_slide50_2018_02_18-S3_prep1_thumbnail_NtbNormalized.tif /tmp/tmp_sorted_images/0148.tif\n",
      "0\n",
      "ln -s /media/yuncong/BstemAtlasData/CSHL_data_processed/CHATM3/CHATM3_prep1_thumbnail_NtbNormalized/CHATM3_slide28_2018_02_17-S1_prep1_thumbnail_NtbNormalized.tif /tmp/tmp_sorted_images/0078.tif\n",
      "0\n",
      "ln -s /media/yuncong/BstemAtlasData/CSHL_data_processed/CHATM3/CHATM3_prep1_thumbnail_NtbNormalized/CHATM3_slide05_2018_02_17-S1_prep1_thumbnail_NtbNormalized.tif /tmp/tmp_sorted_images/0013.tif\n",
      "0\n",
      "ln -s /media/yuncong/BstemAtlasData/CSHL_data_processed/CHATM3/CHATM3_prep1_thumbnail_NtbNormalized/CHATM3_slide28_2018_02_17-S3_prep1_thumbnail_NtbNormalized.tif /tmp/tmp_sorted_images/0082.tif\n",
      "0\n",
      "ln -s /media/yuncong/BstemAtlasData/CSHL_data_processed/CHATM3/CHATM3_prep1_thumbnail_NtbNormalized/CHATM3_slide49_2018_02_18-S2_prep1_thumbnail_NtbNormalized.tif /tmp/tmp_sorted_images/0145.tif\n",
      "0\n",
      "ln -s /media/yuncong/BstemAtlasData/CSHL_data_processed/CHATM3/CHATM3_prep1_thumbnail_NtbNormalized/CHATM3_slide101_2018_01_26-S1_prep1_thumbnail_NtbNormalized.tif /tmp/tmp_sorted_images/0299.tif\n",
      "0\n",
      "ln -s /media/yuncong/BstemAtlasData/CSHL_data_processed/CHATM3/CHATM3_prep1_thumbnail_NtbNormalized/CHATM3_slide49_2018_02_18-S3_prep1_thumbnail_NtbNormalized.tif /tmp/tmp_sorted_images/0147.tif\n",
      "0\n",
      "ln -s /media/yuncong/BstemAtlasData/CSHL_data_processed/CHATM3/CHATM3_prep1_thumbnail_NtbNormalized/CHATM3_slide42_2018_02_19-S2_prep1_thumbnail_NtbNormalized.tif /tmp/tmp_sorted_images/0122.tif\n",
      "0\n",
      "ln -s /media/yuncong/BstemAtlasData/CSHL_data_processed/CHATM3/CHATM3_prep1_thumbnail_NtbNormalized/CHATM3_slide42_2018_02_19-S3_prep1_thumbnail_NtbNormalized.tif /tmp/tmp_sorted_images/0124.tif\n",
      "0\n",
      "ln -s /media/yuncong/BstemAtlasData/CSHL_data_processed/CHATM3/CHATM3_prep1_thumbnail_NtbNormalized/CHATM3_slide57_2018_02_18-S1_prep1_thumbnail_NtbNormalized.tif /tmp/tmp_sorted_images/0167.tif\n",
      "0\n",
      "ln -s /media/yuncong/BstemAtlasData/CSHL_data_processed/CHATM3/CHATM3_prep1_thumbnail_NtbNormalized/CHATM3_slide42_2018_02_19-S1_prep1_thumbnail_NtbNormalized.tif /tmp/tmp_sorted_images/0120.tif\n",
      "0\n",
      "ln -s /media/yuncong/BstemAtlasData/CSHL_data_processed/CHATM3/CHATM3_prep1_thumbnail_NtbNormalized/CHATM3_slide39_2018_02_19-S1_prep1_thumbnail_NtbNormalized.tif /tmp/tmp_sorted_images/0113.tif\n",
      "0\n",
      "ln -s /media/yuncong/BstemAtlasData/CSHL_data_processed/CHATM3/CHATM3_prep1_thumbnail_NtbNormalized/CHATM3_slide39_2018_02_19-S2_prep1_thumbnail_NtbNormalized.tif /tmp/tmp_sorted_images/0115.tif\n",
      "0\n",
      "ln -s /media/yuncong/BstemAtlasData/CSHL_data_processed/CHATM3/CHATM3_prep1_thumbnail_NtbNormalized/CHATM3_slide39_2018_02_19-S3_prep1_thumbnail_NtbNormalized.tif /tmp/tmp_sorted_images/0117.tif\n",
      "0\n",
      "ln -s /media/yuncong/BstemAtlasData/CSHL_data_processed/CHATM3/CHATM3_prep1_thumbnail_NtbNormalized/CHATM3_slide32_2018_02_17-S3_prep1_thumbnail_NtbNormalized.tif /tmp/tmp_sorted_images/0093.tif\n",
      "0\n",
      "ln -s /media/yuncong/BstemAtlasData/CSHL_data_processed/CHATM3/CHATM3_prep1_thumbnail_NtbNormalized/CHATM3_slide32_2018_02_17-S2_prep1_thumbnail_NtbNormalized.tif /tmp/tmp_sorted_images/0091.tif\n",
      "0\n",
      "ln -s /media/yuncong/BstemAtlasData/CSHL_data_processed/CHATM3/CHATM3_prep1_thumbnail_NtbNormalized/CHATM3_slide48_2018_02_18-S3_prep1_thumbnail_NtbNormalized.tif /tmp/tmp_sorted_images/0142.tif\n",
      "0\n",
      "ln -s /media/yuncong/BstemAtlasData/CSHL_data_processed/CHATM3/CHATM3_prep1_thumbnail_NtbNormalized/CHATM3_slide48_2018_02_18-S2_prep1_thumbnail_NtbNormalized.tif /tmp/tmp_sorted_images/0140.tif\n",
      "0\n",
      "ln -s /media/yuncong/BstemAtlasData/CSHL_data_processed/CHATM3/CHATM3_prep1_thumbnail_NtbNormalized/CHATM3_slide48_2018_02_18-S1_prep1_thumbnail_NtbNormalized.tif /tmp/tmp_sorted_images/0138.tif\n",
      "0\n",
      "ln -s /media/yuncong/BstemAtlasData/CSHL_data_processed/CHATM3/CHATM3_prep1_thumbnail_NtbNormalized/CHATM3_slide05_2018_02_17-S2_prep1_thumbnail_NtbNormalized.tif /tmp/tmp_sorted_images/0015.tif\n",
      "0\n",
      "ln -s /media/yuncong/BstemAtlasData/CSHL_data_processed/CHATM3/CHATM3_prep1_thumbnail_NtbNormalized/CHATM3_slide121_2018_01_26-S2_prep1_thumbnail_NtbNormalized.tif /tmp/tmp_sorted_images/0361.tif\n",
      "0\n",
      "ln -s /media/yuncong/BstemAtlasData/CSHL_data_processed/CHATM3/CHATM3_prep1_thumbnail_NtbNormalized/CHATM3_slide121_2018_01_26-S3_prep1_thumbnail_NtbNormalized.tif /tmp/tmp_sorted_images/0363.tif\n",
      "0\n",
      "ln -s /media/yuncong/BstemAtlasData/CSHL_data_processed/CHATM3/CHATM3_prep1_thumbnail_NtbNormalized/CHATM3_slide105_2018_01_26-S3_prep1_thumbnail_NtbNormalized.tif /tmp/tmp_sorted_images/0315.tif\n",
      "0\n",
      "ln -s /media/yuncong/BstemAtlasData/CSHL_data_processed/CHATM3/CHATM3_prep1_thumbnail_NtbNormalized/CHATM3_slide28_2018_02_17-S2_prep1_thumbnail_NtbNormalized.tif /tmp/tmp_sorted_images/0080.tif\n",
      "0\n",
      "ln -s /media/yuncong/BstemAtlasData/CSHL_data_processed/CHATM3/CHATM3_prep1_thumbnail_NtbNormalized/CHATM3_slide13_2018_02_18-S3_prep1_thumbnail_NtbNormalized.tif /tmp/tmp_sorted_images/0039.tif\n",
      "0\n",
      "ln -s /media/yuncong/BstemAtlasData/CSHL_data_processed/CHATM3/CHATM3_prep1_thumbnail_NtbNormalized/CHATM3_slide13_2018_02_18-S2_prep1_thumbnail_NtbNormalized.tif /tmp/tmp_sorted_images/0037.tif\n",
      "0\n",
      "ln -s /media/yuncong/BstemAtlasData/CSHL_data_processed/CHATM3/CHATM3_prep1_thumbnail_NtbNormalized/CHATM3_slide13_2018_02_18-S1_prep1_thumbnail_NtbNormalized.tif /tmp/tmp_sorted_images/0035.tif\n",
      "0\n",
      "ln -s /media/yuncong/BstemAtlasData/CSHL_data_processed/CHATM3/CHATM3_prep1_thumbnail_NtbNormalized/CHATM3_slide67_2018_02_19-S1_prep1_thumbnail_NtbNormalized.tif /tmp/tmp_sorted_images/0197.tif\n",
      "0\n",
      "ln -s /media/yuncong/BstemAtlasData/CSHL_data_processed/CHATM3/CHATM3_prep1_thumbnail_NtbNormalized/CHATM3_slide33_2018_02_17-S1_prep1_thumbnail_NtbNormalized.tif /tmp/tmp_sorted_images/0095.tif\n",
      "0\n",
      "ln -s /media/yuncong/BstemAtlasData/CSHL_data_processed/CHATM3/CHATM3_prep1_thumbnail_NtbNormalized/CHATM3_slide33_2018_02_17-S2_prep1_thumbnail_NtbNormalized.tif /tmp/tmp_sorted_images/0097.tif\n",
      "0\n",
      "ln -s /media/yuncong/BstemAtlasData/CSHL_data_processed/CHATM3/CHATM3_prep1_thumbnail_NtbNormalized/CHATM3_slide33_2018_02_17-S3_prep1_thumbnail_NtbNormalized.tif /tmp/tmp_sorted_images/0099.tif\n",
      "0\n",
      "ln -s /media/yuncong/BstemAtlasData/CSHL_data_processed/CHATM3/CHATM3_prep1_thumbnail_NtbNormalized/CHATM3_slide04_2018_02_17-S2_prep1_thumbnail_NtbNormalized.tif /tmp/tmp_sorted_images/0010.tif\n",
      "0\n",
      "ln -s /media/yuncong/BstemAtlasData/CSHL_data_processed/CHATM3/CHATM3_prep1_thumbnail_NtbNormalized/CHATM3_slide04_2018_02_17-S3_prep1_thumbnail_NtbNormalized.tif /tmp/tmp_sorted_images/0012.tif\n",
      "0\n",
      "ln -s /media/yuncong/BstemAtlasData/CSHL_data_processed/CHATM3/CHATM3_prep1_thumbnail_NtbNormalized/CHATM3_slide21_2018_02_17-S3_prep1_thumbnail_NtbNormalized.tif /tmp/tmp_sorted_images/0063.tif\n",
      "0\n",
      "ln -s /media/yuncong/BstemAtlasData/CSHL_data_processed/CHATM3/CHATM3_prep1_thumbnail_NtbNormalized/CHATM3_slide21_2018_02_17-S2_prep1_thumbnail_NtbNormalized.tif /tmp/tmp_sorted_images/0061.tif\n",
      "0\n",
      "ln -s /media/yuncong/BstemAtlasData/CSHL_data_processed/CHATM3/CHATM3_prep1_thumbnail_NtbNormalized/CHATM3_slide135_2018_01_26-S3_prep1_thumbnail_NtbNormalized.tif /tmp/tmp_sorted_images/0405.tif\n",
      "0\n",
      "ln -s /media/yuncong/BstemAtlasData/CSHL_data_processed/CHATM3/CHATM3_prep1_thumbnail_NtbNormalized/CHATM3_slide85_2018_01_26-S1_prep1_thumbnail_NtbNormalized.tif /tmp/tmp_sorted_images/0251.tif\n",
      "0\n",
      "ln -s /media/yuncong/BstemAtlasData/CSHL_data_processed/CHATM3/CHATM3_prep1_thumbnail_NtbNormalized/CHATM3_slide85_2018_01_26-S2_prep1_thumbnail_NtbNormalized.tif /tmp/tmp_sorted_images/0253.tif\n",
      "0\n",
      "ln -s /media/yuncong/BstemAtlasData/CSHL_data_processed/CHATM3/CHATM3_prep1_thumbnail_NtbNormalized/CHATM3_slide69_2018_02_19-S2_prep1_thumbnail_NtbNormalized.tif /tmp/tmp_sorted_images/0205.tif\n",
      "0\n",
      "ln -s /media/yuncong/BstemAtlasData/CSHL_data_processed/CHATM3/CHATM3_prep1_thumbnail_NtbNormalized/CHATM3_slide111_2018_01_26-S3_prep1_thumbnail_NtbNormalized.tif /tmp/tmp_sorted_images/0333.tif\n",
      "0\n",
      "ln -s /media/yuncong/BstemAtlasData/CSHL_data_processed/CHATM3/CHATM3_prep1_thumbnail_NtbNormalized/CHATM3_slide111_2018_01_26-S2_prep1_thumbnail_NtbNormalized.tif /tmp/tmp_sorted_images/0331.tif\n",
      "0\n",
      "ln -s /media/yuncong/BstemAtlasData/CSHL_data_processed/CHATM3/CHATM3_prep1_thumbnail_NtbNormalized/CHATM3_slide111_2018_01_26-S1_prep1_thumbnail_NtbNormalized.tif /tmp/tmp_sorted_images/0329.tif\n",
      "0\n",
      "ln -s /media/yuncong/BstemAtlasData/CSHL_data_processed/CHATM3/CHATM3_prep1_thumbnail_NtbNormalized/CHATM3_slide105_2018_01_26-S2_prep1_thumbnail_NtbNormalized.tif /tmp/tmp_sorted_images/0313.tif\n",
      "0\n",
      "ln -s /media/yuncong/BstemAtlasData/CSHL_data_processed/CHATM3/CHATM3_prep1_thumbnail_NtbNormalized/CHATM3_slide135_2018_01_26-S2_prep1_thumbnail_NtbNormalized.tif /tmp/tmp_sorted_images/0403.tif\n",
      "0\n",
      "ln -s /media/yuncong/BstemAtlasData/CSHL_data_processed/CHATM3/CHATM3_prep1_thumbnail_NtbNormalized/CHATM3_slide72_2018_02_19-S3_prep1_thumbnail_NtbNormalized.tif /tmp/tmp_sorted_images/0214.tif\n",
      "0\n",
      "ln -s /media/yuncong/BstemAtlasData/CSHL_data_processed/CHATM3/CHATM3_prep1_thumbnail_NtbNormalized/CHATM3_slide20_2018_02_17-S1_prep1_thumbnail_NtbNormalized.tif /tmp/tmp_sorted_images/0054.tif\n",
      "0\n",
      "ln -s /media/yuncong/BstemAtlasData/CSHL_data_processed/CHATM3/CHATM3_prep1_thumbnail_NtbNormalized/CHATM3_slide72_2018_02_19-S1_prep1_thumbnail_NtbNormalized.tif /tmp/tmp_sorted_images/0210.tif\n",
      "0\n",
      "ln -s /media/yuncong/BstemAtlasData/CSHL_data_processed/CHATM3/CHATM3_prep1_thumbnail_NtbNormalized/CHATM3_slide20_2018_02_17-S3_prep1_thumbnail_NtbNormalized.tif /tmp/tmp_sorted_images/0058.tif\n",
      "0\n",
      "ln -s /media/yuncong/BstemAtlasData/CSHL_data_processed/CHATM3/CHATM3_prep1_thumbnail_NtbNormalized/CHATM3_slide61_2018_02_19-S1_prep1_thumbnail_NtbNormalized.tif /tmp/tmp_sorted_images/0179.tif\n",
      "0\n",
      "ln -s /media/yuncong/BstemAtlasData/CSHL_data_processed/CHATM3/CHATM3_prep1_thumbnail_NtbNormalized/CHATM3_slide115_2018_01_26-S3_prep1_thumbnail_NtbNormalized.tif /tmp/tmp_sorted_images/0345.tif\n"
     ]
    },
    {
     "name": "stdout",
     "output_type": "stream",
     "text": [
      "0\n",
      "ln -s /media/yuncong/BstemAtlasData/CSHL_data_processed/CHATM3/CHATM3_prep1_thumbnail_NtbNormalized/CHATM3_slide115_2018_01_26-S2_prep1_thumbnail_NtbNormalized.tif /tmp/tmp_sorted_images/0343.tif\n",
      "0\n",
      "ln -s /media/yuncong/BstemAtlasData/CSHL_data_processed/CHATM3/CHATM3_prep1_thumbnail_NtbNormalized/CHATM3_slide115_2018_01_26-S1_prep1_thumbnail_NtbNormalized.tif /tmp/tmp_sorted_images/0341.tif\n",
      "0\n",
      "ln -s /media/yuncong/BstemAtlasData/CSHL_data_processed/CHATM3/CHATM3_prep1_thumbnail_NtbNormalized/CHATM3_slide60_2018_02_19-S1_prep1_thumbnail_NtbNormalized.tif /tmp/tmp_sorted_images/0174.tif\n",
      "0\n",
      "ln -s /media/yuncong/BstemAtlasData/CSHL_data_processed/CHATM3/CHATM3_prep1_thumbnail_NtbNormalized/CHATM3_slide71_2018_02_19-S1_prep1_thumbnail_NtbNormalized.tif /tmp/tmp_sorted_images/0209.tif\n",
      "0\n",
      "ln -s /media/yuncong/BstemAtlasData/CSHL_data_processed/CHATM3/CHATM3_prep1_thumbnail_NtbNormalized/CHATM3_slide71_2018_02_19-S2_prep1_thumbnail_NtbNormalized.tif /tmp/tmp_sorted_images/0211.tif\n",
      "0\n",
      "ln -s /media/yuncong/BstemAtlasData/CSHL_data_processed/CHATM3/CHATM3_prep1_thumbnail_NtbNormalized/CHATM3_slide71_2018_02_19-S3_prep1_thumbnail_NtbNormalized.tif /tmp/tmp_sorted_images/0213.tif\n",
      "0\n",
      "ln -s /media/yuncong/BstemAtlasData/CSHL_data_processed/CHATM3/CHATM3_prep1_thumbnail_NtbNormalized/CHATM3_slide57_2018_02_18-S3_prep1_thumbnail_NtbNormalized.tif /tmp/tmp_sorted_images/0171.tif\n",
      "0\n",
      "ln -s /media/yuncong/BstemAtlasData/CSHL_data_processed/CHATM3/CHATM3_prep1_thumbnail_NtbNormalized/CHATM3_slide15_2018_02_18-S3_prep1_thumbnail_NtbNormalized.tif /tmp/tmp_sorted_images/0045.tif\n",
      "0\n",
      "ln -s /media/yuncong/BstemAtlasData/CSHL_data_processed/CHATM3/CHATM3_prep1_thumbnail_NtbNormalized/CHATM3_slide15_2018_02_18-S2_prep1_thumbnail_NtbNormalized.tif /tmp/tmp_sorted_images/0043.tif\n",
      "0\n",
      "ln -s /media/yuncong/BstemAtlasData/CSHL_data_processed/CHATM3/CHATM3_prep1_thumbnail_NtbNormalized/CHATM3_slide67_2018_02_19-S2_prep1_thumbnail_NtbNormalized.tif /tmp/tmp_sorted_images/0199.tif\n",
      "0\n",
      "ln -s /media/yuncong/BstemAtlasData/CSHL_data_processed/CHATM3/CHATM3_prep1_thumbnail_NtbNormalized/CHATM3_slide57_2018_02_18-S2_prep1_thumbnail_NtbNormalized.tif /tmp/tmp_sorted_images/0169.tif\n",
      "0\n",
      "ln -s /media/yuncong/BstemAtlasData/CSHL_data_processed/CHATM3/CHATM3_prep1_thumbnail_NtbNormalized/CHATM3_slide117_2018_01_26-S1_prep1_thumbnail_NtbNormalized.tif /tmp/tmp_sorted_images/0347.tif\n",
      "0\n",
      "ln -s /media/yuncong/BstemAtlasData/CSHL_data_processed/CHATM3/CHATM3_prep1_thumbnail_NtbNormalized/CHATM3_slide117_2018_01_26-S3_prep1_thumbnail_NtbNormalized.tif /tmp/tmp_sorted_images/0351.tif\n",
      "0\n",
      "ln -s /media/yuncong/BstemAtlasData/CSHL_data_processed/CHATM3/CHATM3_prep1_thumbnail_NtbNormalized/CHATM3_slide117_2018_01_26-S2_prep1_thumbnail_NtbNormalized.tif /tmp/tmp_sorted_images/0349.tif\n",
      "0\n",
      "ln -s /media/yuncong/BstemAtlasData/CSHL_data_processed/CHATM3/CHATM3_prep1_thumbnail_NtbNormalized/CHATM3_slide23_2018_02_17-S3_prep1_thumbnail_NtbNormalized.tif /tmp/tmp_sorted_images/0069.tif\n",
      "0\n",
      "ln -s /media/yuncong/BstemAtlasData/CSHL_data_processed/CHATM3/CHATM3_prep1_thumbnail_NtbNormalized/CHATM3_slide23_2018_02_17-S2_prep1_thumbnail_NtbNormalized.tif /tmp/tmp_sorted_images/0067.tif\n",
      "0\n",
      "ln -s /media/yuncong/BstemAtlasData/CSHL_data_processed/CHATM3/CHATM3_prep1_thumbnail_NtbNormalized/CHATM3_slide23_2018_02_17-S1_prep1_thumbnail_NtbNormalized.tif /tmp/tmp_sorted_images/0065.tif\n",
      "0\n",
      "ln -s /media/yuncong/BstemAtlasData/CSHL_data_processed/CHATM3/CHATM3_prep1_thumbnail_NtbNormalized/CHATM3_slide127_2018_01_26-S1_prep1_thumbnail_NtbNormalized.tif /tmp/tmp_sorted_images/0377.tif\n",
      "0\n",
      "ln -s /media/yuncong/BstemAtlasData/CSHL_data_processed/CHATM3/CHATM3_prep1_thumbnail_NtbNormalized/CHATM3_slide19_2018_02_18-S1_prep1_thumbnail_NtbNormalized.tif /tmp/tmp_sorted_images/0053.tif\n",
      "0\n",
      "ln -s /media/yuncong/BstemAtlasData/CSHL_data_processed/CHATM3/CHATM3_prep1_thumbnail_NtbNormalized/CHATM3_slide73_2018_01_26-S2_prep1_thumbnail_NtbNormalized.tif /tmp/tmp_sorted_images/0217.tif\n",
      "0\n",
      "ln -s /media/yuncong/BstemAtlasData/CSHL_data_processed/CHATM3/CHATM3_prep1_thumbnail_NtbNormalized/CHATM3_slide19_2018_02_18-S3_prep1_thumbnail_NtbNormalized.tif /tmp/tmp_sorted_images/0057.tif\n",
      "0\n",
      "ln -s /media/yuncong/BstemAtlasData/CSHL_data_processed/CHATM3/CHATM3_prep1_thumbnail_NtbNormalized/CHATM3_slide19_2018_02_18-S2_prep1_thumbnail_NtbNormalized.tif /tmp/tmp_sorted_images/0055.tif\n",
      "0\n",
      "ln -s /media/yuncong/BstemAtlasData/CSHL_data_processed/CHATM3/CHATM3_prep1_thumbnail_NtbNormalized/CHATM3_slide59_2018_02_19-S2_prep1_thumbnail_NtbNormalized.tif /tmp/tmp_sorted_images/0175.tif\n",
      "0\n",
      "ln -s /media/yuncong/BstemAtlasData/CSHL_data_processed/CHATM3/CHATM3_prep1_thumbnail_NtbNormalized/CHATM3_slide59_2018_02_19-S3_prep1_thumbnail_NtbNormalized.tif /tmp/tmp_sorted_images/0177.tif\n",
      "0\n",
      "ln -s /media/yuncong/BstemAtlasData/CSHL_data_processed/CHATM3/CHATM3_prep1_thumbnail_NtbNormalized/CHATM3_slide137_2018_01_26-S1_prep1_thumbnail_NtbNormalized.tif /tmp/tmp_sorted_images/0407.tif\n",
      "0\n",
      "ln -s /media/yuncong/BstemAtlasData/CSHL_data_processed/CHATM3/CHATM3_prep1_thumbnail_NtbNormalized/CHATM3_slide59_2018_02_19-S1_prep1_thumbnail_NtbNormalized.tif /tmp/tmp_sorted_images/0173.tif\n",
      "0\n",
      "ln -s /media/yuncong/BstemAtlasData/CSHL_data_processed/CHATM3/CHATM3_prep1_thumbnail_NtbNormalized/CHATM3_slide123_2018_01_26-S1_prep1_thumbnail_NtbNormalized.tif /tmp/tmp_sorted_images/0365.tif\n",
      "0\n",
      "ln -s /media/yuncong/BstemAtlasData/CSHL_data_processed/CHATM3/CHATM3_prep1_thumbnail_NtbNormalized/CHATM3_slide123_2018_01_26-S2_prep1_thumbnail_NtbNormalized.tif /tmp/tmp_sorted_images/0367.tif\n",
      "0\n",
      "ln -s /media/yuncong/BstemAtlasData/CSHL_data_processed/CHATM3/CHATM3_prep1_thumbnail_NtbNormalized/CHATM3_slide123_2018_01_26-S3_prep1_thumbnail_NtbNormalized.tif /tmp/tmp_sorted_images/0369.tif\n",
      "0\n",
      "ln -s /media/yuncong/BstemAtlasData/CSHL_data_processed/CHATM3/CHATM3_prep1_thumbnail_NtbNormalized/CHATM3_slide26_2018_02_17-S2_prep1_thumbnail_NtbNormalized.tif /tmp/tmp_sorted_images/0074.tif\n",
      "0\n",
      "ln -s /media/yuncong/BstemAtlasData/CSHL_data_processed/CHATM3/CHATM3_prep1_thumbnail_NtbNormalized/CHATM3_slide26_2018_02_17-S3_prep1_thumbnail_NtbNormalized.tif /tmp/tmp_sorted_images/0076.tif\n",
      "0\n",
      "ln -s /media/yuncong/BstemAtlasData/CSHL_data_processed/CHATM3/CHATM3_prep1_thumbnail_NtbNormalized/CHATM3_slide26_2018_02_17-S1_prep1_thumbnail_NtbNormalized.tif /tmp/tmp_sorted_images/0072.tif\n",
      "0\n",
      "ln -s /media/yuncong/BstemAtlasData/CSHL_data_processed/CHATM3/CHATM3_prep1_thumbnail_NtbNormalized/CHATM3_slide01_2018_02_17-S3_prep1_thumbnail_NtbNormalized.tif /tmp/tmp_sorted_images/0005.tif\n",
      "0\n",
      "ln -s /media/yuncong/BstemAtlasData/CSHL_data_processed/CHATM3/CHATM3_prep1_thumbnail_NtbNormalized/CHATM3_slide01_2018_02_17-S2_prep1_thumbnail_NtbNormalized.tif /tmp/tmp_sorted_images/0003.tif\n",
      "0\n",
      "ln -s /media/yuncong/BstemAtlasData/CSHL_data_processed/CHATM3/CHATM3_prep1_thumbnail_NtbNormalized/CHATM3_slide01_2018_02_17-S1_prep1_thumbnail_NtbNormalized.tif /tmp/tmp_sorted_images/0001.tif\n",
      "0\n",
      "ln -s /media/yuncong/BstemAtlasData/CSHL_data_processed/CHATM3/CHATM3_prep1_thumbnail_NtbNormalized/CHATM3_slide103_2018_01_26-S1_prep1_thumbnail_NtbNormalized.tif /tmp/tmp_sorted_images/0305.tif\n",
      "0\n",
      "ln -s /media/yuncong/BstemAtlasData/CSHL_data_processed/CHATM3/CHATM3_prep1_thumbnail_NtbNormalized/CHATM3_slide67_2018_02_19-S3_prep1_thumbnail_NtbNormalized.tif /tmp/tmp_sorted_images/0201.tif\n",
      "0\n",
      "ln -s /media/yuncong/BstemAtlasData/CSHL_data_processed/CHATM3/CHATM3_prep1_thumbnail_NtbNormalized/CHATM3_slide38_2018_02_19-S1_prep1_thumbnail_NtbNormalized.tif /tmp/tmp_sorted_images/0108.tif\n",
      "0\n",
      "ln -s /media/yuncong/BstemAtlasData/CSHL_data_processed/CHATM3/CHATM3_prep1_thumbnail_NtbNormalized/CHATM3_slide64_2018_02_19-S3_prep1_thumbnail_NtbNormalized.tif /tmp/tmp_sorted_images/0190.tif\n",
      "0\n",
      "ln -s /media/yuncong/BstemAtlasData/CSHL_data_processed/CHATM3/CHATM3_prep1_thumbnail_NtbNormalized/CHATM3_slide38_2018_02_19-S3_prep1_thumbnail_NtbNormalized.tif /tmp/tmp_sorted_images/0112.tif\n",
      "0\n",
      "ln -s /media/yuncong/BstemAtlasData/CSHL_data_processed/CHATM3/CHATM3_prep1_thumbnail_NtbNormalized/CHATM3_slide38_2018_02_19-S2_prep1_thumbnail_NtbNormalized.tif /tmp/tmp_sorted_images/0110.tif\n",
      "0\n",
      "ln -s /media/yuncong/BstemAtlasData/CSHL_data_processed/CHATM3/CHATM3_prep1_thumbnail_NtbNormalized/CHATM3_slide68_2018_02_19-S2_prep1_thumbnail_NtbNormalized.tif /tmp/tmp_sorted_images/0200.tif\n",
      "0\n",
      "ln -s /media/yuncong/BstemAtlasData/CSHL_data_processed/CHATM3/CHATM3_prep1_thumbnail_NtbNormalized/CHATM3_slide68_2018_02_19-S3_prep1_thumbnail_NtbNormalized.tif /tmp/tmp_sorted_images/0202.tif\n",
      "0\n",
      "ln -s /media/yuncong/BstemAtlasData/CSHL_data_processed/CHATM3/CHATM3_prep1_thumbnail_NtbNormalized/CHATM3_slide101_2018_01_26-S2_prep1_thumbnail_NtbNormalized.tif /tmp/tmp_sorted_images/0301.tif\n",
      "0\n",
      "ln -s /media/yuncong/BstemAtlasData/CSHL_data_processed/CHATM3/CHATM3_prep1_thumbnail_NtbNormalized/CHATM3_slide68_2018_02_19-S1_prep1_thumbnail_NtbNormalized.tif /tmp/tmp_sorted_images/0198.tif\n",
      "0\n",
      "ln -s /media/yuncong/BstemAtlasData/CSHL_data_processed/CHATM3/CHATM3_prep1_thumbnail_NtbNormalized/CHATM3_slide97_2018_01_26-S1_prep1_thumbnail_NtbNormalized.tif /tmp/tmp_sorted_images/0287.tif\n",
      "0\n",
      "ln -s /media/yuncong/BstemAtlasData/CSHL_data_processed/CHATM3/CHATM3_prep1_thumbnail_NtbNormalized/CHATM3_slide97_2018_01_26-S3_prep1_thumbnail_NtbNormalized.tif /tmp/tmp_sorted_images/0291.tif\n",
      "0\n",
      "ln -s /media/yuncong/BstemAtlasData/CSHL_data_processed/CHATM3/CHATM3_prep1_thumbnail_NtbNormalized/CHATM3_slide97_2018_01_26-S2_prep1_thumbnail_NtbNormalized.tif /tmp/tmp_sorted_images/0289.tif\n",
      "0\n",
      "ln -s /media/yuncong/BstemAtlasData/CSHL_data_processed/CHATM3/CHATM3_prep1_thumbnail_NtbNormalized/CHATM3_slide22_2018_02_17-S2_prep1_thumbnail_NtbNormalized.tif /tmp/tmp_sorted_images/0062.tif\n",
      "0\n",
      "ln -s /media/yuncong/BstemAtlasData/CSHL_data_processed/CHATM3/CHATM3_prep1_thumbnail_NtbNormalized/CHATM3_slide22_2018_02_17-S3_prep1_thumbnail_NtbNormalized.tif /tmp/tmp_sorted_images/0064.tif\n",
      "0\n",
      "ln -s /media/yuncong/BstemAtlasData/CSHL_data_processed/CHATM3/CHATM3_prep1_thumbnail_NtbNormalized/CHATM3_slide44_2018_02_19-S2_prep1_thumbnail_NtbNormalized.tif /tmp/tmp_sorted_images/0128.tif\n",
      "0\n",
      "ln -s /media/yuncong/BstemAtlasData/CSHL_data_processed/CHATM3/CHATM3_prep1_thumbnail_NtbNormalized/CHATM3_slide22_2018_02_17-S1_prep1_thumbnail_NtbNormalized.tif /tmp/tmp_sorted_images/0060.tif\n",
      "0\n",
      "ln -s /media/yuncong/BstemAtlasData/CSHL_data_processed/CHATM3/CHATM3_prep1_thumbnail_NtbNormalized/CHATM3_slide75_2018_01_26-S1_prep1_thumbnail_NtbNormalized.tif /tmp/tmp_sorted_images/0221.tif\n",
      "0\n",
      "ln -s /media/yuncong/BstemAtlasData/CSHL_data_processed/CHATM3/CHATM3_prep1_thumbnail_NtbNormalized/CHATM3_slide75_2018_01_26-S3_prep1_thumbnail_NtbNormalized.tif /tmp/tmp_sorted_images/0225.tif\n",
      "0\n"
     ]
    },
    {
     "name": "stdout",
     "output_type": "stream",
     "text": [
      "ln -s /media/yuncong/BstemAtlasData/CSHL_data_processed/CHATM3/CHATM3_prep1_thumbnail_NtbNormalized/CHATM3_slide75_2018_01_26-S2_prep1_thumbnail_NtbNormalized.tif /tmp/tmp_sorted_images/0223.tif\n",
      "0\n",
      "ln -s /media/yuncong/BstemAtlasData/CSHL_data_processed/CHATM3/CHATM3_prep1_thumbnail_NtbNormalized/CHATM3_slide47_2018_02_18-S1_prep1_thumbnail_NtbNormalized.tif /tmp/tmp_sorted_images/0137.tif\n",
      "0\n",
      "ln -s /media/yuncong/BstemAtlasData/CSHL_data_processed/CHATM3/CHATM3_prep1_thumbnail_NtbNormalized/CHATM3_slide119_2018_01_26-S2_prep1_thumbnail_NtbNormalized.tif /tmp/tmp_sorted_images/0355.tif\n",
      "0\n",
      "ln -s /media/yuncong/BstemAtlasData/CSHL_data_processed/CHATM3/CHATM3_prep1_thumbnail_NtbNormalized/CHATM3_slide65_2018_02_19-S3_prep1_thumbnail_NtbNormalized.tif /tmp/tmp_sorted_images/0195.tif\n",
      "0\n",
      "ln -s /media/yuncong/BstemAtlasData/CSHL_data_processed/CHATM3/CHATM3_prep1_thumbnail_NtbNormalized/CHATM3_slide34_2018_02_17-S3_prep1_thumbnail_NtbNormalized.tif /tmp/tmp_sorted_images/0100.tif\n",
      "0\n",
      "ln -s /media/yuncong/BstemAtlasData/CSHL_data_processed/CHATM3/CHATM3_prep1_thumbnail_NtbNormalized/CHATM3_slide34_2018_02_17-S2_prep1_thumbnail_NtbNormalized.tif /tmp/tmp_sorted_images/0098.tif\n",
      "0\n",
      "ln -s /media/yuncong/BstemAtlasData/CSHL_data_processed/CHATM3/CHATM3_prep1_thumbnail_NtbNormalized/CHATM3_slide34_2018_02_17-S1_prep1_thumbnail_NtbNormalized.tif /tmp/tmp_sorted_images/0096.tif\n",
      "0\n",
      "ln -s /media/yuncong/BstemAtlasData/CSHL_data_processed/CHATM3/CHATM3_prep1_thumbnail_NtbNormalized/CHATM3_slide49_2018_02_18-S1_prep1_thumbnail_NtbNormalized.tif /tmp/tmp_sorted_images/0143.tif\n",
      "0\n",
      "ln -s /media/yuncong/BstemAtlasData/CSHL_data_processed/CHATM3/CHATM3_prep1_thumbnail_NtbNormalized/CHATM3_slide101_2018_01_26-S3_prep1_thumbnail_NtbNormalized.tif /tmp/tmp_sorted_images/0303.tif\n",
      "0\n",
      "ln -s /media/yuncong/BstemAtlasData/CSHL_data_processed/CHATM3/CHATM3_prep1_thumbnail_NtbNormalized/CHATM3_slide36_2018_02_17-S1_prep1_thumbnail_NtbNormalized.tif /tmp/tmp_sorted_images/0102.tif\n",
      "0\n",
      "ln -s /media/yuncong/BstemAtlasData/CSHL_data_processed/CHATM3/CHATM3_prep1_thumbnail_NtbNormalized/CHATM3_slide31_2018_02_17-S2_prep1_thumbnail_NtbNormalized.tif /tmp/tmp_sorted_images/0092.tif\n",
      "0\n",
      "ln -s /media/yuncong/BstemAtlasData/CSHL_data_processed/CHATM3/CHATM3_prep1_thumbnail_NtbNormalized/CHATM3_slide31_2018_02_17-S3_prep1_thumbnail_NtbNormalized.tif /tmp/tmp_sorted_images/0094.tif\n",
      "0\n",
      "ln -s /media/yuncong/BstemAtlasData/CSHL_data_processed/CHATM3/CHATM3_prep1_thumbnail_NtbNormalized/CHATM3_slide73_2018_01_26-S1_prep1_thumbnail_NtbNormalized.tif /tmp/tmp_sorted_images/0215.tif\n",
      "0\n",
      "ln -s /media/yuncong/BstemAtlasData/CSHL_data_processed/CHATM3/CHATM3_prep1_thumbnail_NtbNormalized/CHATM3_slide99_2018_01_26-S3_prep1_thumbnail_NtbNormalized.tif /tmp/tmp_sorted_images/0297.tif\n",
      "0\n",
      "ln -s /media/yuncong/BstemAtlasData/CSHL_data_processed/CHATM3/CHATM3_prep1_thumbnail_NtbNormalized/CHATM3_slide99_2018_01_26-S2_prep1_thumbnail_NtbNormalized.tif /tmp/tmp_sorted_images/0295.tif\n",
      "0\n",
      "ln -s /media/yuncong/BstemAtlasData/CSHL_data_processed/CHATM3/CHATM3_prep1_thumbnail_NtbNormalized/CHATM3_slide99_2018_01_26-S1_prep1_thumbnail_NtbNormalized.tif /tmp/tmp_sorted_images/0293.tif\n",
      "0\n",
      "ln -s /media/yuncong/BstemAtlasData/CSHL_data_processed/CHATM3/CHATM3_prep1_thumbnail_NtbNormalized/CHATM3_slide36_2018_02_17-S2_prep1_thumbnail_NtbNormalized.tif /tmp/tmp_sorted_images/0104.tif\n",
      "0\n",
      "ln -s /media/yuncong/BstemAtlasData/CSHL_data_processed/CHATM3/CHATM3_prep1_thumbnail_NtbNormalized/CHATM3_slide137_2018_01_26-S2_prep1_thumbnail_NtbNormalized.tif /tmp/tmp_sorted_images/0409.tif\n",
      "0\n",
      "ln -s /media/yuncong/BstemAtlasData/CSHL_data_processed/CHATM3/CHATM3_prep1_thumbnail_NtbNormalized/CHATM3_slide79_2018_01_26-S1_prep1_thumbnail_NtbNormalized.tif /tmp/tmp_sorted_images/0233.tif\n",
      "0\n",
      "ln -s /media/yuncong/BstemAtlasData/CSHL_data_processed/CHATM3/CHATM3_prep1_thumbnail_NtbNormalized/CHATM3_slide121_2018_01_26-S1_prep1_thumbnail_NtbNormalized.tif /tmp/tmp_sorted_images/0359.tif\n",
      "0\n",
      "ln -s /media/yuncong/BstemAtlasData/CSHL_data_processed/CHATM3/CHATM3_prep1_thumbnail_NtbNormalized/CHATM3_slide03_2018_02_18-S1_prep1_thumbnail_NtbNormalized.tif /tmp/tmp_sorted_images/0007.tif\n",
      "0\n",
      "ln -s /media/yuncong/BstemAtlasData/CSHL_data_processed/CHATM3/CHATM3_prep1_thumbnail_NtbNormalized/CHATM3_slide03_2018_02_18-S2_prep1_thumbnail_NtbNormalized.tif /tmp/tmp_sorted_images/0009.tif\n",
      "0\n",
      "ln -s /media/yuncong/BstemAtlasData/CSHL_data_processed/CHATM3/CHATM3_prep1_thumbnail_NtbNormalized/CHATM3_slide03_2018_02_18-S3_prep1_thumbnail_NtbNormalized.tif /tmp/tmp_sorted_images/0011.tif\n",
      "0\n",
      "ln -s /media/yuncong/BstemAtlasData/CSHL_data_processed/CHATM3/CHATM3_prep1_thumbnail_NtbNormalized/CHATM3_slide25_2018_02_17-S1_prep1_thumbnail_NtbNormalized.tif /tmp/tmp_sorted_images/0071.tif\n",
      "0\n",
      "ln -s /media/yuncong/BstemAtlasData/CSHL_data_processed/CHATM3/CHATM3_prep1_thumbnail_NtbNormalized/CHATM3_slide14_2018_02_18-S1_prep1_thumbnail_NtbNormalized.tif /tmp/tmp_sorted_images/0036.tif\n",
      "0\n",
      "ln -s /media/yuncong/BstemAtlasData/CSHL_data_processed/CHATM3/CHATM3_prep1_thumbnail_NtbNormalized/CHATM3_slide25_2018_02_17-S3_prep1_thumbnail_NtbNormalized.tif /tmp/tmp_sorted_images/0075.tif\n",
      "0\n",
      "ln -s /media/yuncong/BstemAtlasData/CSHL_data_processed/CHATM3/CHATM3_prep1_thumbnail_NtbNormalized/CHATM3_slide25_2018_02_17-S2_prep1_thumbnail_NtbNormalized.tif /tmp/tmp_sorted_images/0073.tif\n",
      "0\n",
      "ln -s /media/yuncong/BstemAtlasData/CSHL_data_processed/CHATM3/CHATM3_prep1_thumbnail_NtbNormalized/CHATM3_slide79_2018_01_26-S3_prep1_thumbnail_NtbNormalized.tif /tmp/tmp_sorted_images/0237.tif\n",
      "0\n",
      "ln -s /media/yuncong/BstemAtlasData/CSHL_data_processed/CHATM3/CHATM3_prep1_thumbnail_NtbNormalized/CHATM3_slide70_2018_02_19-S2_prep1_thumbnail_NtbNormalized.tif /tmp/tmp_sorted_images/0206.tif\n",
      "0\n",
      "ln -s /media/yuncong/BstemAtlasData/CSHL_data_processed/CHATM3/CHATM3_prep1_thumbnail_NtbNormalized/CHATM3_slide62_2018_02_19-S1_prep1_thumbnail_NtbNormalized.tif /tmp/tmp_sorted_images/0180.tif\n",
      "0\n",
      "ln -s /media/yuncong/BstemAtlasData/CSHL_data_processed/CHATM3/CHATM3_prep1_thumbnail_NtbNormalized/CHATM3_slide65_2018_02_19-S1_prep1_thumbnail_NtbNormalized.tif /tmp/tmp_sorted_images/0191.tif\n",
      "0\n",
      "ln -s /media/yuncong/BstemAtlasData/CSHL_data_processed/CHATM3/CHATM3_prep1_thumbnail_NtbNormalized/CHATM3_slide93_2018_01_26-S1_prep1_thumbnail_NtbNormalized.tif /tmp/tmp_sorted_images/0275.tif\n",
      "0\n",
      "ln -s /media/yuncong/BstemAtlasData/CSHL_data_processed/CHATM3/CHATM3_prep1_thumbnail_NtbNormalized/CHATM3_slide93_2018_01_26-S3_prep1_thumbnail_NtbNormalized.tif /tmp/tmp_sorted_images/0279.tif\n",
      "0\n",
      "ln -s /media/yuncong/BstemAtlasData/CSHL_data_processed/CHATM3/CHATM3_prep1_thumbnail_NtbNormalized/CHATM3_slide93_2018_01_26-S2_prep1_thumbnail_NtbNormalized.tif /tmp/tmp_sorted_images/0277.tif\n",
      "0\n",
      "ln -s /media/yuncong/BstemAtlasData/CSHL_data_processed/CHATM3/CHATM3_prep1_thumbnail_NtbNormalized/CHATM3_slide27_2018_02_17-S3_prep1_thumbnail_NtbNormalized.tif /tmp/tmp_sorted_images/0081.tif\n",
      "0\n",
      "ln -s /media/yuncong/BstemAtlasData/CSHL_data_processed/CHATM3/CHATM3_prep1_thumbnail_NtbNormalized/CHATM3_slide24_2018_02_17-S1_prep1_thumbnail_NtbNormalized.tif /tmp/tmp_sorted_images/0066.tif\n",
      "0\n",
      "ln -s /media/yuncong/BstemAtlasData/CSHL_data_processed/CHATM3/CHATM3_prep1_thumbnail_NtbNormalized/CHATM3_slide24_2018_02_17-S2_prep1_thumbnail_NtbNormalized.tif /tmp/tmp_sorted_images/0068.tif\n",
      "0\n",
      "ln -s /media/yuncong/BstemAtlasData/CSHL_data_processed/CHATM3/CHATM3_prep1_thumbnail_NtbNormalized/CHATM3_slide10_2018_02_17-S2_prep1_thumbnail_NtbNormalized.tif /tmp/tmp_sorted_images/0026.tif\n",
      "0\n",
      "ln -s /media/yuncong/BstemAtlasData/CSHL_data_processed/CHATM3/CHATM3_prep1_thumbnail_NtbNormalized/CHATM3_slide87_2018_01_26-S2_prep1_thumbnail_NtbNormalized.tif /tmp/tmp_sorted_images/0259.tif\n",
      "0\n",
      "ln -s /media/yuncong/BstemAtlasData/CSHL_data_processed/CHATM3/CHATM3_prep1_thumbnail_NtbNormalized/CHATM3_slide77_2018_01_26-S2_prep1_thumbnail_NtbNormalized.tif /tmp/tmp_sorted_images/0229.tif\n",
      "0\n",
      "ln -s /media/yuncong/BstemAtlasData/CSHL_data_processed/CHATM3/CHATM3_prep1_thumbnail_NtbNormalized/CHATM3_slide103_2018_01_26-S2_prep1_thumbnail_NtbNormalized.tif /tmp/tmp_sorted_images/0307.tif\n",
      "0\n",
      "ln -s /media/yuncong/BstemAtlasData/CSHL_data_processed/CHATM3/CHATM3_prep1_thumbnail_NtbNormalized/CHATM3_slide77_2018_01_26-S1_prep1_thumbnail_NtbNormalized.tif /tmp/tmp_sorted_images/0227.tif\n",
      "0\n",
      "ln -s /media/yuncong/BstemAtlasData/CSHL_data_processed/CHATM3/CHATM3_prep1_thumbnail_NtbNormalized/CHATM3_slide56_2018_02_18-S2_prep1_thumbnail_NtbNormalized.tif /tmp/tmp_sorted_images/0163.tif\n",
      "0\n",
      "ln -s /media/yuncong/BstemAtlasData/CSHL_data_processed/CHATM3/CHATM3_prep1_thumbnail_NtbNormalized/CHATM3_slide56_2018_02_18-S3_prep1_thumbnail_NtbNormalized.tif /tmp/tmp_sorted_images/0165.tif\n",
      "0\n",
      "ln -s /media/yuncong/BstemAtlasData/CSHL_data_processed/CHATM3/CHATM3_prep1_thumbnail_NtbNormalized/CHATM3_slide135_2018_01_26-S1_prep1_thumbnail_NtbNormalized.tif /tmp/tmp_sorted_images/0401.tif\n",
      "0\n",
      "ln -s /media/yuncong/BstemAtlasData/CSHL_data_processed/CHATM3/CHATM3_prep1_thumbnail_NtbNormalized/CHATM3_slide66_2018_02_19-S2_prep1_thumbnail_NtbNormalized.tif /tmp/tmp_sorted_images/0194.tif\n",
      "0\n",
      "ln -s /media/yuncong/BstemAtlasData/CSHL_data_processed/CHATM3/CHATM3_prep1_thumbnail_NtbNormalized/CHATM3_slide66_2018_02_19-S3_prep1_thumbnail_NtbNormalized.tif /tmp/tmp_sorted_images/0196.tif\n",
      "0\n",
      "ln -s /media/yuncong/BstemAtlasData/CSHL_data_processed/CHATM3/CHATM3_prep1_thumbnail_NtbNormalized/CHATM3_slide113_2018_01_26-S1_prep1_thumbnail_NtbNormalized.tif /tmp/tmp_sorted_images/0335.tif\n",
      "0\n",
      "ln -s /media/yuncong/BstemAtlasData/CSHL_data_processed/CHATM3/CHATM3_prep1_thumbnail_NtbNormalized/CHATM3_slide43_2018_02_19-S2_prep1_thumbnail_NtbNormalized.tif /tmp/tmp_sorted_images/0127.tif\n",
      "0\n",
      "ln -s /media/yuncong/BstemAtlasData/CSHL_data_processed/CHATM3/CHATM3_prep1_thumbnail_NtbNormalized/CHATM3_slide113_2018_01_26-S3_prep1_thumbnail_NtbNormalized.tif /tmp/tmp_sorted_images/0339.tif\n",
      "0\n",
      "ln -s /media/yuncong/BstemAtlasData/CSHL_data_processed/CHATM3/CHATM3_prep1_thumbnail_NtbNormalized/CHATM3_slide113_2018_01_26-S2_prep1_thumbnail_NtbNormalized.tif /tmp/tmp_sorted_images/0337.tif\n",
      "0\n",
      "ln -s /media/yuncong/BstemAtlasData/CSHL_data_processed/CHATM3/CHATM3_prep1_thumbnail_NtbNormalized/CHATM3_slide63_2018_02_19-S1_prep1_thumbnail_NtbNormalized.tif /tmp/tmp_sorted_images/0185.tif\n",
      "0\n",
      "ln -s /media/yuncong/BstemAtlasData/CSHL_data_processed/CHATM3/CHATM3_prep1_thumbnail_NtbNormalized/CHATM3_slide63_2018_02_19-S3_prep1_thumbnail_NtbNormalized.tif /tmp/tmp_sorted_images/0189.tif\n",
      "0\n"
     ]
    },
    {
     "name": "stdout",
     "output_type": "stream",
     "text": [
      "ln -s /media/yuncong/BstemAtlasData/CSHL_data_processed/CHATM3/CHATM3_prep1_thumbnail_NtbNormalized/CHATM3_slide63_2018_02_19-S2_prep1_thumbnail_NtbNormalized.tif /tmp/tmp_sorted_images/0187.tif\n",
      "0\n",
      "ln -s /media/yuncong/BstemAtlasData/CSHL_data_processed/CHATM3/CHATM3_prep1_thumbnail_NtbNormalized/CHATM3_slide14_2018_02_18-S2_prep1_thumbnail_NtbNormalized.tif /tmp/tmp_sorted_images/0038.tif\n",
      "0\n",
      "ln -s /media/yuncong/BstemAtlasData/CSHL_data_processed/CHATM3/CHATM3_prep1_thumbnail_NtbNormalized/CHATM3_slide62_2018_02_19-S2_prep1_thumbnail_NtbNormalized.tif /tmp/tmp_sorted_images/0182.tif\n",
      "0\n",
      "ln -s /media/yuncong/BstemAtlasData/CSHL_data_processed/CHATM3/CHATM3_prep1_thumbnail_NtbNormalized/CHATM3_slide62_2018_02_19-S3_prep1_thumbnail_NtbNormalized.tif /tmp/tmp_sorted_images/0184.tif\n",
      "0\n",
      "ln -s /media/yuncong/BstemAtlasData/CSHL_data_processed/CHATM3/CHATM3_prep1_thumbnail_NtbNormalized/CHATM3_slide14_2018_02_18-S3_prep1_thumbnail_NtbNormalized.tif /tmp/tmp_sorted_images/0040.tif\n",
      "0\n",
      "ln -s /media/yuncong/BstemAtlasData/CSHL_data_processed/CHATM3/CHATM3_prep1_thumbnail_NtbNormalized/CHATM3_slide55_2018_02_18-S3_prep1_thumbnail_NtbNormalized.tif /tmp/tmp_sorted_images/0166.tif\n",
      "0\n",
      "ln -s /media/yuncong/BstemAtlasData/CSHL_data_processed/CHATM3/CHATM3_prep1_thumbnail_NtbNormalized/CHATM3_slide77_2018_01_26-S3_prep1_thumbnail_NtbNormalized.tif /tmp/tmp_sorted_images/0231.tif\n",
      "0\n",
      "ln -s /media/yuncong/BstemAtlasData/CSHL_data_processed/CHATM3/CHATM3_prep1_thumbnail_NtbNormalized/CHATM3_slide11_2018_02_17-S1_prep1_thumbnail_NtbNormalized.tif /tmp/tmp_sorted_images/0029.tif\n",
      "0\n",
      "ln -s /media/yuncong/BstemAtlasData/CSHL_data_processed/CHATM3/CHATM3_prep1_thumbnail_NtbNormalized/CHATM3_slide11_2018_02_17-S2_prep1_thumbnail_NtbNormalized.tif /tmp/tmp_sorted_images/0031.tif\n",
      "0\n",
      "ln -s /media/yuncong/BstemAtlasData/CSHL_data_processed/CHATM3/CHATM3_prep1_thumbnail_NtbNormalized/CHATM3_slide11_2018_02_17-S3_prep1_thumbnail_NtbNormalized.tif /tmp/tmp_sorted_images/0033.tif\n",
      "0\n",
      "ln -s /media/yuncong/BstemAtlasData/CSHL_data_processed/CHATM3/CHATM3_prep1_thumbnail_NtbNormalized/CHATM3_slide54_2018_02_18-S1_prep1_thumbnail_NtbNormalized.tif /tmp/tmp_sorted_images/0156.tif\n",
      "0\n",
      "ln -s /media/yuncong/BstemAtlasData/CSHL_data_processed/CHATM3/CHATM3_prep1_thumbnail_NtbNormalized/CHATM3_slide30_2018_02_17-S3_prep1_thumbnail_NtbNormalized.tif /tmp/tmp_sorted_images/0088.tif\n",
      "0\n",
      "ln -s /media/yuncong/BstemAtlasData/CSHL_data_processed/CHATM3/CHATM3_prep1_thumbnail_NtbNormalized/CHATM3_slide30_2018_02_17-S2_prep1_thumbnail_NtbNormalized.tif /tmp/tmp_sorted_images/0086.tif\n",
      "0\n",
      "ln -s /media/yuncong/BstemAtlasData/CSHL_data_processed/CHATM3/CHATM3_prep1_thumbnail_NtbNormalized/CHATM3_slide30_2018_02_17-S1_prep1_thumbnail_NtbNormalized.tif /tmp/tmp_sorted_images/0084.tif\n",
      "0\n",
      "ln -s /media/yuncong/BstemAtlasData/CSHL_data_processed/CHATM3/CHATM3_prep1_thumbnail_NtbNormalized/CHATM3_slide103_2018_01_26-S3_prep1_thumbnail_NtbNormalized.tif /tmp/tmp_sorted_images/0309.tif\n",
      "0\n",
      "ln -s /media/yuncong/BstemAtlasData/CSHL_data_processed/CHATM3/CHATM3_prep1_thumbnail_NtbNormalized/CHATM3_slide21_2018_02_17-S1_prep1_thumbnail_NtbNormalized.tif /tmp/tmp_sorted_images/0059.tif\n",
      "0\n",
      "ln -s /media/yuncong/BstemAtlasData/CSHL_data_processed/CHATM3/CHATM3_prep1_thumbnail_NtbNormalized/CHATM3_slide54_2018_02_18-S3_prep1_thumbnail_NtbNormalized.tif /tmp/tmp_sorted_images/0160.tif\n",
      "0\n",
      "ln -s /media/yuncong/BstemAtlasData/CSHL_data_processed/CHATM3/CHATM3_prep1_thumbnail_NtbNormalized/CHATM3_slide45_2018_02_18-S2_prep1_thumbnail_NtbNormalized.tif /tmp/tmp_sorted_images/0133.tif\n",
      "0\n",
      "ln -s /media/yuncong/BstemAtlasData/CSHL_data_processed/CHATM3/CHATM3_prep1_thumbnail_NtbNormalized/CHATM3_slide45_2018_02_18-S3_prep1_thumbnail_NtbNormalized.tif /tmp/tmp_sorted_images/0135.tif\n",
      "0\n",
      "ln -s /media/yuncong/BstemAtlasData/CSHL_data_processed/CHATM3/CHATM3_prep1_thumbnail_NtbNormalized/CHATM3_slide131_2018_01_26-S3_prep1_thumbnail_NtbNormalized.tif /tmp/tmp_sorted_images/0393.tif\n",
      "0\n",
      "ln -s /media/yuncong/BstemAtlasData/CSHL_data_processed/CHATM3/CHATM3_prep1_thumbnail_NtbNormalized/CHATM3_slide45_2018_02_18-S1_prep1_thumbnail_NtbNormalized.tif /tmp/tmp_sorted_images/0131.tif\n",
      "0\n",
      "ln -s /media/yuncong/BstemAtlasData/CSHL_data_processed/CHATM3/CHATM3_prep1_thumbnail_NtbNormalized/CHATM3_slide16_2018_02_17-S2_prep1_thumbnail_NtbNormalized.tif /tmp/tmp_sorted_images/0044.tif\n",
      "0\n",
      "ln -s /media/yuncong/BstemAtlasData/CSHL_data_processed/CHATM3/CHATM3_prep1_thumbnail_NtbNormalized/CHATM3_slide16_2018_02_17-S1_prep1_thumbnail_NtbNormalized.tif /tmp/tmp_sorted_images/0042.tif\n",
      "0\n",
      "ln -s /media/yuncong/BstemAtlasData/CSHL_data_processed/CHATM3/CHATM3_prep1_thumbnail_NtbNormalized/CHATM3_slide105_2018_01_26-S1_prep1_thumbnail_NtbNormalized.tif /tmp/tmp_sorted_images/0311.tif\n",
      "0\n",
      "ln -s /media/yuncong/BstemAtlasData/CSHL_data_processed/CHATM3/CHATM3_prep1_thumbnail_NtbNormalized/CHATM3_slide04_2018_02_17-S1_prep1_thumbnail_NtbNormalized.tif /tmp/tmp_sorted_images/0008.tif\n",
      "0\n",
      "ln -s /media/yuncong/BstemAtlasData/CSHL_data_processed/CHATM3/CHATM3_prep1_thumbnail_NtbNormalized/CHATM3_slide133_2018_01_26-S3_prep1_thumbnail_NtbNormalized.tif /tmp/tmp_sorted_images/0399.tif\n",
      "0\n",
      "ln -s /media/yuncong/BstemAtlasData/CSHL_data_processed/CHATM3/CHATM3_prep1_thumbnail_NtbNormalized/CHATM3_slide133_2018_01_26-S2_prep1_thumbnail_NtbNormalized.tif /tmp/tmp_sorted_images/0397.tif\n",
      "0\n",
      "ln -s /media/yuncong/BstemAtlasData/CSHL_data_processed/CHATM3/CHATM3_prep1_thumbnail_NtbNormalized/CHATM3_slide133_2018_01_26-S1_prep1_thumbnail_NtbNormalized.tif /tmp/tmp_sorted_images/0395.tif\n",
      "0\n",
      "ln -s /media/yuncong/BstemAtlasData/CSHL_data_processed/CHATM3/CHATM3_prep1_thumbnail_NtbNormalized/CHATM3_slide87_2018_01_26-S1_prep1_thumbnail_NtbNormalized.tif /tmp/tmp_sorted_images/0257.tif\n",
      "0\n",
      "ln -s /media/yuncong/BstemAtlasData/CSHL_data_processed/CHATM3/CHATM3_prep1_thumbnail_NtbNormalized/CHATM3_slide91_2018_01_26-S3_prep1_thumbnail_NtbNormalized.tif /tmp/tmp_sorted_images/0273.tif\n",
      "0\n",
      "ln -s /media/yuncong/BstemAtlasData/CSHL_data_processed/CHATM3/CHATM3_prep1_thumbnail_NtbNormalized/CHATM3_slide91_2018_01_26-S2_prep1_thumbnail_NtbNormalized.tif /tmp/tmp_sorted_images/0271.tif\n",
      "0\n",
      "ln -s /media/yuncong/BstemAtlasData/CSHL_data_processed/CHATM3/CHATM3_prep1_thumbnail_NtbNormalized/CHATM3_slide40_2018_02_18-S3_prep1_thumbnail_NtbNormalized.tif /tmp/tmp_sorted_images/0118.tif\n",
      "0\n",
      "ln -s /media/yuncong/BstemAtlasData/CSHL_data_processed/CHATM3/CHATM3_prep1_thumbnail_NtbNormalized/CHATM3_slide40_2018_02_18-S2_prep1_thumbnail_NtbNormalized.tif /tmp/tmp_sorted_images/0116.tif\n",
      "0\n",
      "ln -s /media/yuncong/BstemAtlasData/CSHL_data_processed/CHATM3/CHATM3_prep1_thumbnail_NtbNormalized/CHATM3_slide40_2018_02_18-S1_prep1_thumbnail_NtbNormalized.tif /tmp/tmp_sorted_images/0114.tif\n",
      "0\n",
      "ln -s /media/yuncong/BstemAtlasData/CSHL_data_processed/CHATM3/CHATM3_prep1_thumbnail_NtbNormalized/CHATM3_slide129_2018_01_26-S2_prep1_thumbnail_NtbNormalized.tif /tmp/tmp_sorted_images/0385.tif\n",
      "0\n",
      "ln -s /media/yuncong/BstemAtlasData/CSHL_data_processed/CHATM3/CHATM3_prep1_thumbnail_NtbNormalized/CHATM3_slide129_2018_01_26-S3_prep1_thumbnail_NtbNormalized.tif /tmp/tmp_sorted_images/0387.tif\n",
      "0\n",
      "ln -s /media/yuncong/BstemAtlasData/CSHL_data_processed/CHATM3/CHATM3_prep1_thumbnail_NtbNormalized/CHATM3_slide125_2018_01_26-S1_prep1_thumbnail_NtbNormalized.tif /tmp/tmp_sorted_images/0371.tif\n",
      "0\n",
      "ln -s /media/yuncong/BstemAtlasData/CSHL_data_processed/CHATM3/CHATM3_prep1_thumbnail_NtbNormalized/CHATM3_slide52_2018_02_19-S1_prep1_thumbnail_NtbNormalized.tif /tmp/tmp_sorted_images/0150.tif\n",
      "0\n",
      "ln -s /media/yuncong/BstemAtlasData/CSHL_data_processed/CHATM3/CHATM3_prep1_thumbnail_NtbNormalized/CHATM3_slide52_2018_02_19-S3_prep1_thumbnail_NtbNormalized.tif /tmp/tmp_sorted_images/0154.tif\n",
      "0\n",
      "ln -s /media/yuncong/BstemAtlasData/CSHL_data_processed/CHATM3/CHATM3_prep1_thumbnail_NtbNormalized/CHATM3_slide58_2018_02_19-S2_prep1_thumbnail_NtbNormalized.tif /tmp/tmp_sorted_images/0170.tif\n",
      "0\n",
      "ln -s /media/yuncong/BstemAtlasData/CSHL_data_processed/CHATM3/CHATM3_prep1_thumbnail_NtbNormalized/CHATM3_slide64_2018_02_19-S2_prep1_thumbnail_NtbNormalized.tif /tmp/tmp_sorted_images/0188.tif\n",
      "0\n",
      "ln -s /media/yuncong/BstemAtlasData/CSHL_data_processed/CHATM3/CHATM3_prep1_thumbnail_NtbNormalized/CHATM3_slide64_2018_02_19-S1_prep1_thumbnail_NtbNormalized.tif /tmp/tmp_sorted_images/0186.tif\n",
      "0\n",
      "ln -s /media/yuncong/BstemAtlasData/CSHL_data_processed/CHATM3/CHATM3_prep1_thumbnail_NtbNormalized/CHATM3_slide119_2018_01_26-S1_prep1_thumbnail_NtbNormalized.tif /tmp/tmp_sorted_images/0353.tif\n",
      "0\n",
      "ln -s /media/yuncong/BstemAtlasData/CSHL_data_processed/CHATM3/CHATM3_prep1_thumbnail_NtbNormalized/CHATM3_slide85_2018_01_26-S3_prep1_thumbnail_NtbNormalized.tif /tmp/tmp_sorted_images/0255.tif\n",
      "0\n",
      "ln -s /media/yuncong/BstemAtlasData/CSHL_data_processed/CHATM3/CHATM3_prep1_thumbnail_NtbNormalized/CHATM3_slide127_2018_01_26-S2_prep1_thumbnail_NtbNormalized.tif /tmp/tmp_sorted_images/0379.tif\n",
      "0\n",
      "ln -s /media/yuncong/BstemAtlasData/CSHL_data_processed/CHATM3/CHATM3_prep1_thumbnail_NtbNormalized/CHATM3_slide127_2018_01_26-S3_prep1_thumbnail_NtbNormalized.tif /tmp/tmp_sorted_images/0381.tif\n",
      "0\n",
      "ln -s /media/yuncong/BstemAtlasData/CSHL_data_processed/CHATM3/CHATM3_prep1_thumbnail_NtbNormalized/CHATM3_slide46_2018_02_19-S2_prep1_thumbnail_NtbNormalized.tif /tmp/tmp_sorted_images/0134.tif\n",
      "0\n",
      "ln -s /media/yuncong/BstemAtlasData/CSHL_data_processed/CHATM3/CHATM3_prep1_thumbnail_NtbNormalized/CHATM3_slide46_2018_02_19-S3_prep1_thumbnail_NtbNormalized.tif /tmp/tmp_sorted_images/0136.tif\n",
      "0\n",
      "ln -s /media/yuncong/BstemAtlasData/CSHL_data_processed/CHATM3/CHATM3_prep1_thumbnail_NtbNormalized/CHATM3_slide09_2018_02_18-S2_prep1_thumbnail_NtbNormalized.tif /tmp/tmp_sorted_images/0025.tif\n",
      "0\n",
      "ln -s /media/yuncong/BstemAtlasData/CSHL_data_processed/CHATM3/CHATM3_prep1_thumbnail_NtbNormalized/CHATM3_slide09_2018_02_18-S3_prep1_thumbnail_NtbNormalized.tif /tmp/tmp_sorted_images/0027.tif\n",
      "0\n",
      "ln -s /media/yuncong/BstemAtlasData/CSHL_data_processed/CHATM3/CHATM3_prep1_thumbnail_NtbNormalized/CHATM3_slide09_2018_02_18-S1_prep1_thumbnail_NtbNormalized.tif /tmp/tmp_sorted_images/0023.tif\n",
      "0\n",
      "ln -s /media/yuncong/BstemAtlasData/CSHL_data_processed/CHATM3/CHATM3_prep1_thumbnail_NtbNormalized/CHATM3_slide17_2018_02_17-S2_prep1_thumbnail_NtbNormalized.tif /tmp/tmp_sorted_images/0049.tif\n",
      "0\n",
      "ln -s /media/yuncong/BstemAtlasData/CSHL_data_processed/CHATM3/CHATM3_prep1_thumbnail_NtbNormalized/CHATM3_slide17_2018_02_17-S3_prep1_thumbnail_NtbNormalized.tif /tmp/tmp_sorted_images/0051.tif\n",
      "0\n",
      "ln -s /media/yuncong/BstemAtlasData/CSHL_data_processed/CHATM3/CHATM3_prep1_thumbnail_NtbNormalized/CHATM3_slide70_2018_02_19-S3_prep1_thumbnail_NtbNormalized.tif /tmp/tmp_sorted_images/0208.tif\n"
     ]
    },
    {
     "name": "stdout",
     "output_type": "stream",
     "text": [
      "0\n",
      "ln -s /media/yuncong/BstemAtlasData/CSHL_data_processed/CHATM3/CHATM3_prep1_thumbnail_NtbNormalized/CHATM3_slide17_2018_02_17-S1_prep1_thumbnail_NtbNormalized.tif /tmp/tmp_sorted_images/0047.tif\n",
      "0\n",
      "ln -s /media/yuncong/BstemAtlasData/CSHL_data_processed/CHATM3/CHATM3_prep1_thumbnail_NtbNormalized/CHATM3_slide69_2018_02_19-S3_prep1_thumbnail_NtbNormalized.tif /tmp/tmp_sorted_images/0207.tif\n",
      "0\n",
      "ln -s /media/yuncong/BstemAtlasData/CSHL_data_processed/CHATM3/CHATM3_prep1_thumbnail_NtbNormalized/CHATM3_slide27_2018_02_17-S1_prep1_thumbnail_NtbNormalized.tif /tmp/tmp_sorted_images/0077.tif\n",
      "0\n",
      "ln -s /media/yuncong/BstemAtlasData/CSHL_data_processed/CHATM3/CHATM3_prep1_thumbnail_NtbNormalized/CHATM3_slide69_2018_02_19-S1_prep1_thumbnail_NtbNormalized.tif /tmp/tmp_sorted_images/0203.tif\n",
      "0\n",
      "ln -s /media/yuncong/BstemAtlasData/CSHL_data_processed/CHATM3/CHATM3_prep1_thumbnail_NtbNormalized/CHATM3_slide79_2018_01_26-S2_prep1_thumbnail_NtbNormalized.tif /tmp/tmp_sorted_images/0235.tif\n",
      "0\n",
      "ln -s /media/yuncong/BstemAtlasData/CSHL_data_processed/CHATM3/CHATM3_prep1_thumbnail_NtbNormalized/CHATM3_slide08_2018_02_18-S3_prep1_thumbnail_NtbNormalized.tif /tmp/tmp_sorted_images/0022.tif\n",
      "0\n",
      "ln -s /media/yuncong/BstemAtlasData/CSHL_data_processed/CHATM3/CHATM3_prep1_thumbnail_NtbNormalized/CHATM3_slide08_2018_02_18-S2_prep1_thumbnail_NtbNormalized.tif /tmp/tmp_sorted_images/0020.tif\n",
      "0\n",
      "ln -s /media/yuncong/BstemAtlasData/CSHL_data_processed/CHATM3/CHATM3_prep1_thumbnail_NtbNormalized/CHATM3_slide08_2018_02_18-S1_prep1_thumbnail_NtbNormalized.tif /tmp/tmp_sorted_images/0018.tif\n",
      "0\n",
      "ln -s /media/yuncong/BstemAtlasData/CSHL_data_processed/CHATM3/CHATM3_prep1_thumbnail_NtbNormalized/CHATM3_slide56_2018_02_18-S1_prep1_thumbnail_NtbNormalized.tif /tmp/tmp_sorted_images/0161.tif\n",
      "0\n",
      "ln -s /media/yuncong/BstemAtlasData/CSHL_data_processed/CHATM3/CHATM3_prep1_thumbnail_NtbNormalized/CHATM3_slide55_2018_02_18-S1_prep1_thumbnail_NtbNormalized.tif /tmp/tmp_sorted_images/0162.tif\n",
      "0\n",
      "ln -s /media/yuncong/BstemAtlasData/CSHL_data_processed/CHATM3/CHATM3_prep1_thumbnail_NtbNormalized/CHATM3_slide06_2018_02_17-S1_prep1_thumbnail_NtbNormalized.tif /tmp/tmp_sorted_images/0014.tif\n",
      "0\n",
      "ln -s /media/yuncong/BstemAtlasData/CSHL_data_processed/CHATM3/CHATM3_prep1_thumbnail_NtbNormalized/CHATM3_slide06_2018_02_17-S2_prep1_thumbnail_NtbNormalized.tif /tmp/tmp_sorted_images/0016.tif\n",
      "0\n",
      "ln -s /media/yuncong/BstemAtlasData/CSHL_data_processed/CHATM3/CHATM3_prep1_thumbnail_NtbNormalized/CHATM3_slide55_2018_02_18-S2_prep1_thumbnail_NtbNormalized.tif /tmp/tmp_sorted_images/0164.tif\n",
      "0\n",
      "ln -s /media/yuncong/BstemAtlasData/CSHL_data_processed/CHATM3/CHATM3_prep1_thumbnail_NtbNormalized/CHATM3_slide60_2018_02_19-S2_prep1_thumbnail_NtbNormalized.tif /tmp/tmp_sorted_images/0176.tif\n",
      "0\n",
      "ln -s /media/yuncong/BstemAtlasData/CSHL_data_processed/CHATM3/CHATM3_prep1_thumbnail_NtbNormalized/CHATM3_slide125_2018_01_26-S2_prep1_thumbnail_NtbNormalized.tif /tmp/tmp_sorted_images/0373.tif\n",
      "0\n",
      "ln -s /media/yuncong/BstemAtlasData/CSHL_data_processed/CHATM3/CHATM3_prep1_thumbnail_NtbNormalized/CHATM3_slide125_2018_01_26-S3_prep1_thumbnail_NtbNormalized.tif /tmp/tmp_sorted_images/0375.tif\n",
      "0\n",
      "ln -s /media/yuncong/BstemAtlasData/CSHL_data_processed/CHATM3/CHATM3_prep1_thumbnail_NtbNormalized/CHATM3_slide18_2018_02_18-S2_prep1_thumbnail_NtbNormalized.tif /tmp/tmp_sorted_images/0050.tif\n",
      "0\n",
      "ln -s /media/yuncong/BstemAtlasData/CSHL_data_processed/CHATM3/CHATM3_prep1_thumbnail_NtbNormalized/CHATM3_slide18_2018_02_18-S3_prep1_thumbnail_NtbNormalized.tif /tmp/tmp_sorted_images/0052.tif\n",
      "0\n",
      "ln -s /media/yuncong/BstemAtlasData/CSHL_data_processed/CHATM3/CHATM3_prep1_thumbnail_NtbNormalized/CHATM3_slide131_2018_01_26-S1_prep1_thumbnail_NtbNormalized.tif /tmp/tmp_sorted_images/0389.tif\n",
      "0\n",
      "ln -s /media/yuncong/BstemAtlasData/CSHL_data_processed/CHATM3/CHATM3_prep1_thumbnail_NtbNormalized/CHATM3_slide37_2018_02_18-S1_prep1_thumbnail_NtbNormalized.tif /tmp/tmp_sorted_images/0107.tif\n",
      "0\n",
      "ln -s /media/yuncong/BstemAtlasData/CSHL_data_processed/CHATM3/CHATM3_prep1_thumbnail_NtbNormalized/CHATM3_slide131_2018_01_26-S2_prep1_thumbnail_NtbNormalized.tif /tmp/tmp_sorted_images/0391.tif\n",
      "0\n",
      "ln -s /media/yuncong/BstemAtlasData/CSHL_data_processed/CHATM3/CHATM3_prep1_thumbnail_NtbNormalized/CHATM3_slide53_2018_02_18-S3_prep1_thumbnail_NtbNormalized.tif /tmp/tmp_sorted_images/0159.tif\n",
      "0\n",
      "ln -s /media/yuncong/BstemAtlasData/CSHL_data_processed/CHATM3/CHATM3_prep1_thumbnail_NtbNormalized/CHATM3_slide53_2018_02_18-S2_prep1_thumbnail_NtbNormalized.tif /tmp/tmp_sorted_images/0157.tif\n",
      "0\n",
      "ln -s /media/yuncong/BstemAtlasData/CSHL_data_processed/CHATM3/CHATM3_prep1_thumbnail_NtbNormalized/CHATM3_slide53_2018_02_18-S1_prep1_thumbnail_NtbNormalized.tif /tmp/tmp_sorted_images/0155.tif\n",
      "0\n",
      "ln -s /media/yuncong/BstemAtlasData/CSHL_data_processed/CHATM3/CHATM3_prep1_thumbnail_NtbNormalized/CHATM3_slide18_2018_02_17-S1_prep1_thumbnail_NtbNormalized.tif /tmp/tmp_sorted_images/0048.tif\n",
      "0\n",
      "ln -s /media/yuncong/BstemAtlasData/CSHL_data_processed/CHATM3/CHATM3_prep1_thumbnail_NtbNormalized/CHATM3_slide07_2018_02_18-S1_prep1_thumbnail_NtbNormalized.tif /tmp/tmp_sorted_images/0017.tif\n",
      "0\n",
      "ln -s /media/yuncong/BstemAtlasData/CSHL_data_processed/CHATM3/CHATM3_prep1_thumbnail_NtbNormalized/CHATM3_slide07_2018_02_18-S2_prep1_thumbnail_NtbNormalized.tif /tmp/tmp_sorted_images/0019.tif\n",
      "0\n",
      "ln -s /media/yuncong/BstemAtlasData/CSHL_data_processed/CHATM3/CHATM3_prep1_thumbnail_NtbNormalized/CHATM3_slide07_2018_02_18-S3_prep1_thumbnail_NtbNormalized.tif /tmp/tmp_sorted_images/0021.tif\n",
      "0\n",
      "ln -s /media/yuncong/BstemAtlasData/CSHL_data_processed/CHATM3/CHATM3_prep1_thumbnail_NtbNormalized/CHATM3_slide37_2018_02_18-S3_prep1_thumbnail_NtbNormalized.tif /tmp/tmp_sorted_images/0111.tif\n",
      "0\n",
      "ln -s /media/yuncong/BstemAtlasData/CSHL_data_processed/CHATM3/CHATM3_prep1_thumbnail_NtbNormalized/CHATM3_slide47_2018_02_18-S2_prep1_thumbnail_NtbNormalized.tif /tmp/tmp_sorted_images/0139.tif\n",
      "0\n",
      "ln -s /media/yuncong/BstemAtlasData/CSHL_data_processed/CHATM3/CHATM3_prep1_thumbnail_NtbNormalized/CHATM3_slide47_2018_02_18-S3_prep1_thumbnail_NtbNormalized.tif /tmp/tmp_sorted_images/0141.tif\n",
      "0\n",
      "ln -s /media/yuncong/BstemAtlasData/CSHL_data_processed/CHATM3/CHATM3_prep1_thumbnail_NtbNormalized/CHATM3_slide10_2018_02_17-S1_prep1_thumbnail_NtbNormalized.tif /tmp/tmp_sorted_images/0024.tif\n",
      "0\n",
      "ln -s /media/yuncong/BstemAtlasData/CSHL_data_processed/CHATM3/CHATM3_prep1_thumbnail_NtbNormalized/CHATM3_slide37_2018_02_18-S2_prep1_thumbnail_NtbNormalized.tif /tmp/tmp_sorted_images/0109.tif\n",
      "0\n",
      "ln -s /media/yuncong/BstemAtlasData/CSHL_data_processed/CHATM3/CHATM3_prep1_thumbnail_NtbNormalized/CHATM3_slide27_2018_02_17-S2_prep1_thumbnail_NtbNormalized.tif /tmp/tmp_sorted_images/0079.tif\n",
      "0\n",
      "ln -s /media/yuncong/BstemAtlasData/CSHL_data_processed/CHATM3/CHATM3_prep1_thumbnail_NtbNormalized/CHATM3_slide58_2018_02_19-S3_prep1_thumbnail_NtbNormalized.tif /tmp/tmp_sorted_images/0172.tif\n",
      "0\n",
      "ln -s /media/yuncong/BstemAtlasData/CSHL_data_processed/CHATM3/CHATM3_prep1_thumbnail_NtbNormalized/CHATM3_slide89_2018_01_26-S3_prep1_thumbnail_NtbNormalized.tif /tmp/tmp_sorted_images/0267.tif\n",
      "0\n",
      "ln -s /media/yuncong/BstemAtlasData/CSHL_data_processed/CHATM3/CHATM3_prep1_thumbnail_NtbNormalized/CHATM3_slide10_2018_02_17-S3_prep1_thumbnail_NtbNormalized.tif /tmp/tmp_sorted_images/0028.tif\n",
      "0\n",
      "ln -s /media/yuncong/BstemAtlasData/CSHL_data_processed/CHATM3/CHATM3_prep1_thumbnail_NtbNormalized/CHATM3_slide109_2018_01_26-S2_prep1_thumbnail_NtbNormalized.tif /tmp/tmp_sorted_images/0325.tif\n",
      "0\n",
      "ln -s /media/yuncong/BstemAtlasData/CSHL_data_processed/CHATM3/CHATM3_prep1_thumbnail_NtbNormalized/CHATM3_slide44_2018_02_19-S1_prep1_thumbnail_NtbNormalized.tif /tmp/tmp_sorted_images/0126.tif\n",
      "0\n",
      "ln -s /media/yuncong/BstemAtlasData/CSHL_data_processed/CHATM3/CHATM3_prep1_thumbnail_NtbNormalized/CHATM3_slide73_2018_01_26-S3_prep1_thumbnail_NtbNormalized.tif /tmp/tmp_sorted_images/0219.tif\n",
      "0\n",
      "ln -s /media/yuncong/BstemAtlasData/CSHL_data_processed/CHATM3/CHATM3_prep1_thumbnail_NtbNormalized/CHATM3_slide24_2018_02_17-S3_prep1_thumbnail_NtbNormalized.tif /tmp/tmp_sorted_images/0070.tif\n",
      "0\n",
      "ln -s /media/yuncong/BstemAtlasData/CSHL_data_processed/CHATM3/CHATM3_prep1_thumbnail_NtbNormalized/CHATM3_slide58_2018_02_19-S1_prep1_thumbnail_NtbNormalized.tif /tmp/tmp_sorted_images/0168.tif\n",
      "0\n",
      "ln -s /media/yuncong/BstemAtlasData/CSHL_data_processed/CHATM3/CHATM3_prep1_thumbnail_NtbNormalized/CHATM3_slide44_2018_02_19-S3_prep1_thumbnail_NtbNormalized.tif /tmp/tmp_sorted_images/0130.tif\n",
      "0\n",
      "ln -s /media/yuncong/BstemAtlasData/CSHL_data_processed/CHATM3/CHATM3_prep1_thumbnail_NtbNormalized/CHATM3_slide02_2018_02_18-S1_prep1_thumbnail_NtbNormalized.tif /tmp/tmp_sorted_images/0002.tif\n",
      "0\n",
      "ln -s /media/yuncong/BstemAtlasData/CSHL_data_processed/CHATM3/CHATM3_prep1_thumbnail_NtbNormalized/CHATM3_slide95_2018_01_26-S3_prep1_thumbnail_NtbNormalized.tif /tmp/tmp_sorted_images/0285.tif\n",
      "0\n",
      "ln -s /media/yuncong/BstemAtlasData/CSHL_data_processed/CHATM3/CHATM3_prep1_thumbnail_NtbNormalized/CHATM3_slide02_2018_02_18-S3_prep1_thumbnail_NtbNormalized.tif /tmp/tmp_sorted_images/0006.tif\n",
      "0\n",
      "ln -s /media/yuncong/BstemAtlasData/CSHL_data_processed/CHATM3/CHATM3_prep1_thumbnail_NtbNormalized/CHATM3_slide02_2018_02_18-S2_prep1_thumbnail_NtbNormalized.tif /tmp/tmp_sorted_images/0004.tif\n",
      "0\n",
      "ln -s /media/yuncong/BstemAtlasData/CSHL_data_processed/CHATM3/CHATM3_prep1_thumbnail_NtbNormalized/CHATM3_slide70_2018_02_19-S1_prep1_thumbnail_NtbNormalized.tif /tmp/tmp_sorted_images/0204.tif\n",
      "0\n",
      "ln -s /media/yuncong/BstemAtlasData/CSHL_data_processed/CHATM3/CHATM3_prep1_thumbnail_NtbNormalized/CHATM3_slide12_2018_02_17-S3_prep1_thumbnail_NtbNormalized.tif /tmp/tmp_sorted_images/0034.tif\n",
      "0\n",
      "ln -s /media/yuncong/BstemAtlasData/CSHL_data_processed/CHATM3/CHATM3_prep1_thumbnail_NtbNormalized/CHATM3_slide12_2018_02_17-S2_prep1_thumbnail_NtbNormalized.tif /tmp/tmp_sorted_images/0032.tif\n",
      "0\n",
      "ln -s /media/yuncong/BstemAtlasData/CSHL_data_processed/CHATM3/CHATM3_prep1_thumbnail_NtbNormalized/CHATM3_slide12_2018_02_17-S1_prep1_thumbnail_NtbNormalized.tif /tmp/tmp_sorted_images/0030.tif\n",
      "0\n",
      "ln -s /media/yuncong/BstemAtlasData/CSHL_data_processed/CHATM3/CHATM3_prep1_thumbnail_NtbNormalized/CHATM3_slide72_2018_02_19-S2_prep1_thumbnail_NtbNormalized.tif /tmp/tmp_sorted_images/0212.tif\n"
     ]
    },
    {
     "name": "stdout",
     "output_type": "stream",
     "text": [
      "0\n",
      "ln -s /media/yuncong/BstemAtlasData/CSHL_data_processed/CHATM3/CHATM3_prep1_thumbnail_NtbNormalized/CHATM3_slide107_2018_01_26-S2_prep1_thumbnail_NtbNormalized.tif /tmp/tmp_sorted_images/0319.tif\n",
      "0\n",
      "ln -s /media/yuncong/BstemAtlasData/CSHL_data_processed/CHATM3/CHATM3_prep1_thumbnail_NtbNormalized/CHATM3_slide107_2018_01_26-S3_prep1_thumbnail_NtbNormalized.tif /tmp/tmp_sorted_images/0321.tif\n",
      "0\n",
      "ln -s /media/yuncong/BstemAtlasData/CSHL_data_processed/CHATM3/CHATM3_prep1_thumbnail_NtbNormalized/CHATM3_slide107_2018_01_26-S1_prep1_thumbnail_NtbNormalized.tif /tmp/tmp_sorted_images/0317.tif\n",
      "0\n",
      "ln -s /media/yuncong/BstemAtlasData/CSHL_data_processed/CHATM3/CHATM3_prep1_thumbnail_NtbNormalized/CHATM3_slide109_2018_01_26-S3_prep1_thumbnail_NtbNormalized.tif /tmp/tmp_sorted_images/0327.tif\n",
      "0\n",
      "ln -s /media/yuncong/BstemAtlasData/CSHL_data_processed/CHATM3/CHATM3_prep1_thumbnail_NtbNormalized/CHATM3_slide35_2018_02_17-S2_prep1_thumbnail_NtbNormalized.tif /tmp/tmp_sorted_images/0103.tif\n",
      "0\n",
      "ln -s /media/yuncong/BstemAtlasData/CSHL_data_processed/CHATM3/CHATM3_prep1_thumbnail_NtbNormalized/CHATM3_slide35_2018_02_17-S3_prep1_thumbnail_NtbNormalized.tif /tmp/tmp_sorted_images/0105.tif\n",
      "0\n",
      "ln -s /media/yuncong/BstemAtlasData/CSHL_data_processed/CHATM3/CHATM3_prep1_thumbnail_NtbNormalized/CHATM3_slide54_2018_02_18-S2_prep1_thumbnail_NtbNormalized.tif /tmp/tmp_sorted_images/0158.tif\n",
      "0\n",
      "ln -s /media/yuncong/BstemAtlasData/CSHL_data_processed/CHATM3/CHATM3_prep1_thumbnail_NtbNormalized/CHATM3_slide35_2018_02_17-S1_prep1_thumbnail_NtbNormalized.tif /tmp/tmp_sorted_images/0101.tif\n",
      "0\n",
      "ln -s /media/yuncong/BstemAtlasData/CSHL_data_processed/CHATM3/CHATM3_prep1_thumbnail_NtbNormalized/CHATM3_slide137_2018_01_26-S3_prep1_thumbnail_NtbNormalized.tif /tmp/tmp_sorted_images/0411.tif\n",
      "0\n",
      "ln -s /media/yuncong/BstemAtlasData/CSHL_data_processed/CHATM3/CHATM3_prep1_thumbnail_NtbNormalized/CHATM3_slide41_2018_02_18-S2_prep1_thumbnail_NtbNormalized.tif /tmp/tmp_sorted_images/0121.tif\n",
      "0\n",
      "ln -s /media/yuncong/BstemAtlasData/CSHL_data_processed/CHATM3/CHATM3_prep1_thumbnail_NtbNormalized/CHATM3_slide41_2018_02_18-S3_prep1_thumbnail_NtbNormalized.tif /tmp/tmp_sorted_images/0123.tif\n",
      "0\n",
      "ln -s /media/yuncong/BstemAtlasData/CSHL_data_processed/CHATM3/CHATM3_prep1_thumbnail_NtbNormalized/CHATM3_slide41_2018_02_18-S1_prep1_thumbnail_NtbNormalized.tif /tmp/tmp_sorted_images/0119.tif\n",
      "0\n",
      "ln -s /media/yuncong/BstemAtlasData/CSHL_data_processed/CHATM3/CHATM3_prep1_thumbnail_NtbNormalized/CHATM3_slide51_2018_02_18-S1_prep1_thumbnail_NtbNormalized.tif /tmp/tmp_sorted_images/0149.tif\n",
      "0\n",
      "ln -s /media/yuncong/BstemAtlasData/CSHL_data_processed/CHATM3/CHATM3_prep1_thumbnail_NtbNormalized/CHATM3_slide87_2018_01_26-S3_prep1_thumbnail_NtbNormalized.tif /tmp/tmp_sorted_images/0261.tif\n",
      "0\n",
      "ln -s /media/yuncong/BstemAtlasData/CSHL_data_processed/CHATM3/CHATM3_prep1_thumbnail_NtbNormalized/CHATM3_slide51_2018_02_18-S3_prep1_thumbnail_NtbNormalized.tif /tmp/tmp_sorted_images/0153.tif\n",
      "0\n",
      "ln -s /media/yuncong/BstemAtlasData/CSHL_data_processed/CHATM3/CHATM3_prep1_thumbnail_NtbNormalized/CHATM3_slide51_2018_02_18-S2_prep1_thumbnail_NtbNormalized.tif /tmp/tmp_sorted_images/0151.tif\n",
      "0\n",
      "ln -s /media/yuncong/BstemAtlasData/CSHL_data_processed/CHATM3/CHATM3_prep1_thumbnail_NtbNormalized/CHATM3_slide29_2018_02_17-S1_prep1_thumbnail_NtbNormalized.tif /tmp/tmp_sorted_images/0083.tif\n",
      "0\n",
      "ln -s /media/yuncong/BstemAtlasData/CSHL_data_processed/CHATM3/CHATM3_prep1_thumbnail_NtbNormalized/CHATM3_slide60_2018_02_19-S3_prep1_thumbnail_NtbNormalized.tif /tmp/tmp_sorted_images/0178.tif\n",
      "0\n",
      "ln -s /media/yuncong/BstemAtlasData/CSHL_data_processed/CHATM3/CHATM3_prep1_thumbnail_NtbNormalized/CHATM3_slide29_2018_02_17-S3_prep1_thumbnail_NtbNormalized.tif /tmp/tmp_sorted_images/0087.tif\n",
      "0\n",
      "ln -s /media/yuncong/BstemAtlasData/CSHL_data_processed/CHATM3/CHATM3_prep1_thumbnail_NtbNormalized/CHATM3_slide29_2018_02_17-S2_prep1_thumbnail_NtbNormalized.tif /tmp/tmp_sorted_images/0085.tif\n",
      "0\n",
      "ln -s /media/yuncong/BstemAtlasData/CSHL_data_processed/CHATM3/CHATM3_prep1_thumbnail_NtbNormalized/CHATM3_slide119_2018_01_26-S3_prep1_thumbnail_NtbNormalized.tif /tmp/tmp_sorted_images/0357.tif\n",
      "0\n",
      "ln -s /media/yuncong/BstemAtlasData/CSHL_data_processed/CHATM3/CHATM3_prep1_thumbnail_NtbNormalized/CHATM3_slide89_2018_01_26-S1_prep1_thumbnail_NtbNormalized.tif /tmp/tmp_sorted_images/0263.tif\n",
      "0\n",
      "ln -s /media/yuncong/BstemAtlasData/CSHL_data_processed/CHATM3/CHATM3_prep1_thumbnail_NtbNormalized/CHATM3_slide129_2018_01_26-S1_prep1_thumbnail_NtbNormalized.tif /tmp/tmp_sorted_images/0383.tif\n",
      "0\n",
      "ln -s /media/yuncong/BstemAtlasData/CSHL_data_processed/CHATM3/CHATM3_prep1_thumbnail_NtbNormalized/CHATM3_slide83_2018_01_26-S2_prep1_thumbnail_NtbNormalized.tif /tmp/tmp_sorted_images/0247.tif\n",
      "0\n",
      "ln -s /media/yuncong/BstemAtlasData/CSHL_data_processed/CHATM3/CHATM3_prep1_thumbnail_NtbNormalized/CHATM3_slide95_2018_01_26-S2_prep1_thumbnail_NtbNormalized.tif /tmp/tmp_sorted_images/0283.tif\n",
      "0\n",
      "ln -s /media/yuncong/BstemAtlasData/CSHL_data_processed/CHATM3/CHATM3_prep1_thumbnail_NtbNormalized/CHATM3_slide95_2018_01_26-S1_prep1_thumbnail_NtbNormalized.tif /tmp/tmp_sorted_images/0281.tif\n",
      "0\n",
      "ln -s /media/yuncong/BstemAtlasData/CSHL_data_processed/CHATM3/CHATM3_prep1_thumbnail_NtbNormalized/CHATM3_slide83_2018_01_26-S1_prep1_thumbnail_NtbNormalized.tif /tmp/tmp_sorted_images/0245.tif\n",
      "0\n"
     ]
    }
   ],
   "source": [
    "out_dir = '/tmp/tmp_sorted_images'\n",
    "execute_command('rm -r ' + out_dir)\n",
    "\n",
    "rule_identifier = ('NtbNormalized', 'thumbnail')\n",
    "\n",
    "version, resol = rule_identifier\n",
    "\n",
    "for img_name, section_index in filenames_to_sections.iteritems():   \n",
    "    in_fp = DataManager.get_image_filepath_v2(stack=stack, prep_id=1, resol=resol, version=version, fn=img_name)\n",
    "    out_fp = os.path.join(out_dir, '%04d.tif' % section_index)\n",
    "    create_parent_dir_if_not_exists(out_fp)\n",
    "#     print in_fp, out_fp\n",
    "    execute_command('ln -s %(in_fp)s %(out_fp)s' % {'in_fp': in_fp, 'out_fp': out_fp})\n",
    "#     upload_to_s3(out_fp)"
   ]
  },
  {
   "cell_type": "markdown",
   "metadata": {},
   "source": [
    "# Generate Masks (for aligned images)"
   ]
  },
  {
   "cell_type": "markdown",
   "metadata": {},
   "source": [
    "- Download aligned thumbnails to local machine.\n",
    "- Run `mask_editing_gui.py`. Draw initial contours. Upload `initSnakeContours.pkl` to S3."
   ]
  },
  {
   "cell_type": "code",
   "execution_count": 5,
   "metadata": {},
   "outputs": [
    {
     "name": "stdout",
     "output_type": "stream",
     "text": [
      "rm -rf \"/media/yuncong/BstemAtlasData/CSHL_data_processed/CHATM3/CHATM3_prep1_thumbnail_Ntb\" && mkdir -p \"/media/yuncong/BstemAtlasData/CSHL_data_processed/CHATM3\"\n",
      "0\n",
      "aws s3 cp --recursive \"s3://mousebrainatlas-data/CSHL_data_processed/CHATM3/CHATM3_prep1_thumbnail_Ntb\" \"/media/yuncong/BstemAtlasData/CSHL_data_processed/CHATM3/CHATM3_prep1_thumbnail_Ntb\"\n",
      "0\n"
     ]
    }
   ],
   "source": [
    "download_from_s3(DataManager.get_image_dir_v2(stack=stack, prep_id=1, resol='thumbnail', version='Ntb'), is_dir=True)"
   ]
  },
  {
   "cell_type": "code",
   "execution_count": 6,
   "metadata": {
    "collapsed": true
   },
   "outputs": [],
   "source": [
    "script = os.path.join(REPO_DIR, 'preprocess', 'generate_thumbnail_masks_v5.py')\n",
    "\n",
    "output_dir = create_if_not_exists(DataManager.get_auto_submask_rootdir_filepath(stack=stack))\n",
    "! rm -rf {output_dir} # important to clear remaining folders."
   ]
  },
  {
   "cell_type": "code",
   "execution_count": 7,
   "metadata": {},
   "outputs": [
    {
     "name": "stdout",
     "output_type": "stream",
     "text": [
      "rm -rf \"/media/yuncong/BstemAtlasData/CSHL_data_processed/CHATM3/CHATM3_prep1_thumbnail_initSnakeContours.pkl\" && mkdir -p \"/media/yuncong/BstemAtlasData/CSHL_data_processed/CHATM3\"\n",
      "0\n",
      "aws s3 cp \"s3://mousebrainatlas-data/CSHL_data_processed/CHATM3/CHATM3_prep1_thumbnail_initSnakeContours.pkl\" \"/media/yuncong/BstemAtlasData/CSHL_data_processed/CHATM3/CHATM3_prep1_thumbnail_initSnakeContours.pkl\"\n",
      "0\n"
     ]
    }
   ],
   "source": [
    "init_snake_contours_fp = DataManager.get_initial_snake_contours_filepath(stack=stack)\n",
    "download_from_s3(init_snake_contours_fp, redownload=True)"
   ]
  },
  {
   "cell_type": "code",
   "execution_count": 4,
   "metadata": {},
   "outputs": [
    {
     "name": "stdout",
     "output_type": "stream",
     "text": [
      "rm -rf \"/media/yuncong/BstemAtlasData/CSHL_data_processed/CHATM3/CHATM3_sorted_filenames.txt\" && mkdir -p \"/media/yuncong/BstemAtlasData/CSHL_data_processed/CHATM3\"\n",
      "0\n",
      "aws s3 cp \"s3://mousebrainatlas-data/CSHL_data_processed/CHATM3/CHATM3_sorted_filenames.txt\" \"/media/yuncong/BstemAtlasData/CSHL_data_processed/CHATM3/CHATM3_sorted_filenames.txt\"\n",
      "0\n",
      "293 valid filenames\n"
     ]
    }
   ],
   "source": [
    "_, sections_to_filenames = DataManager.load_sorted_filenames(stack=stack, redownload=True) \n",
    "valid_filenames = [fn for fn in sections_to_filenames.values() if not is_invalid(fn=fn)]\n",
    "print len(valid_filenames), 'valid filenames'"
   ]
  },
  {
   "cell_type": "code",
   "execution_count": 29,
   "metadata": {},
   "outputs": [
    {
     "name": "stdout",
     "output_type": "stream",
     "text": [
      "Generating thumbnail mask... rm -f ~/stderr_*; rm -f ~/stdout_*\n",
      "0\n"
     ]
    },
    {
     "name": "stderr",
     "output_type": "stream",
     "text": [
      "Run locally.\n"
     ]
    },
    {
     "name": "stdout",
     "output_type": "stream",
     "text": [
      "done in 130.534882069 seconds\n"
     ]
    },
    {
     "name": "stderr",
     "output_type": "stream",
     "text": [
      "Jobs submitted. Use wait_qsub_complete() to wait for all execution to finish.\n"
     ]
    }
   ],
   "source": [
    "t = time.time()\n",
    "print 'Generating thumbnail mask...',\n",
    "\n",
    "min_size = 100 # pixel count\n",
    "\n",
    "run_distributed(command='%(script_path)s %(stack)s \\'%%(filenames)s\\' %(init_snake_contours_fp)s --min_size %(min_size)d --default_channel 1 --shrink 3 --version NtbNormalized' % \\\n",
    "                {'script_path': script,\n",
    "                'stack': stack,\n",
    "                'init_snake_contours_fp': init_snake_contours_fp,\n",
    "                 'min_size': min_size\n",
    "                },\n",
    "                kwargs_list={\n",
    "#                     'filenames': valid_filenames\n",
    "                    'filenames': ['CHATM3_slide06_2018_02_17-S1']\n",
    "                            },\n",
    "                argument_type='list2',\n",
    "               local_only=True)\n",
    "\n",
    "# wait_qsub_complete()\n",
    "\n",
    "print 'done in', time.time() - t, 'seconds' # 300s (aws)"
   ]
  },
  {
   "cell_type": "code",
   "execution_count": 30,
   "metadata": {},
   "outputs": [
    {
     "name": "stdout",
     "output_type": "stream",
     "text": [
      "No vtk\r\n",
      "No vtkNot using image_cache.\r\n",
      "111(1 percentile), 246(99 percentile)\r\n",
      "Found 1 levelsets.\r\n",
      "\r\n",
      "Contour 0\r\n",
      "Component area is too small - nullified.\r\n",
      "Component area is too small - nullified.\r\n",
      "Component area is too small - nullified.\r\n",
      "Component area is too small - nullified.\r\n",
      "Component area is too small - nullified.\r\n",
      "Component area is too small - nullified.\r\n",
      "Component area is too small - nullified.\r\n",
      "Component area is too small - nullified.\r\n",
      "Component area is too small - nullified.\r\n",
      "Component area is too small - nullified.\r\n",
      "Component area is too small - nullified.\r\n",
      "Component area is too small - nullified.\r\n",
      "Component area is too small - nullified.\r\n",
      "Component area is too small - nullified.\r\n",
      "Component area is too small - nullified.\r\n",
      "Component area is too small - nullified.\r\n",
      "Component area is too small - nullified.\r\n",
      "Component area is too small - nullified.\r\n",
      "Component area is too small - nullified.\r\n",
      "Component area is too small - nullified.\r\n",
      "Component area is too small - nullified.\r\n",
      "Component area is too small - nullified.\r\n",
      "Component area is too small - nullified.\r\n",
      "Component area is too small - nullified.\r\n",
      "Component area is too small - nullified.\r\n",
      "Component area is too small - nullified.\r\n",
      "Component area is too small - nullified.\r\n",
      "Component area is too small - nullified.\r\n",
      "Component area is too small - nullified.\r\n",
      "Component area is too small - nullified.\r\n",
      "Component area is too small - nullified.\r\n",
      "Component area is too small - nullified.\r\n",
      "Component area is too small - nullified.\r\n",
      "Component area is too small - nullified.\r\n",
      "Component area is too small - nullified.\r\n",
      "Component area is too small - nullified.\r\n",
      "Component area is too small - nullified.\r\n",
      "Component area is too small - nullified.\r\n",
      "Component area is too small - nullified.\r\n",
      "Component area is too small - nullified.\r\n",
      "Component area is too small - nullified.\r\n",
      "Component area is too small - nullified.\r\n",
      "Component area is too small - nullified.\r\n",
      "Component area is too small - nullified.\r\n",
      "Component area is too small - nullified.\r\n",
      "Component area is too small - nullified.\r\n",
      "Component area is too small - nullified.\r\n",
      "Component area is too small - nullified.\r\n",
      "Component area is too small - nullified.\r\n",
      "Component area is too small - nullified.\r\n",
      "Component area is too small - nullified.\r\n",
      "Component area is too small - nullified.\r\n",
      "Component area is too small - nullified.\r\n",
      "Component area is too small - nullified.\r\n",
      "Component area is too small - nullified.\r\n",
      "Component area is too small - nullified.\r\n",
      "Component area is too small - nullified.\r\n",
      "Component area is too small - nullified.\r\n",
      "Component area is too small - nullified.\r\n",
      "Component area is too small - nullified.\r\n",
      "Component area is too small - nullified.\r\n",
      "Component area is too small - nullified.\r\n",
      "Component area is too small - nullified.\r\n",
      "Component area is too small - nullified.\r\n",
      "Component area is too small - nullified.\r\n",
      "Component area is too small - nullified.\r\n",
      "Component area is too small - nullified.\r\n",
      "Component area is too small - nullified.\r\n",
      "Component area is too small - nullified.\r\n",
      "Component area is too small - nullified.\r\n",
      "Component area is too small - nullified.\r\n",
      "Component area is too small - nullified.\r\n",
      "Component area is too small - nullified.\r\n",
      "Component area is too small - nullified.\r\n",
      "Component area is too small - nullified.\r\n",
      "Component area is too small - nullified.\r\n",
      "Component area is too small - nullified.\r\n",
      "Component area is too small - nullified.\r\n",
      "Component area is too small - nullified.\r\n",
      "Component area is too small - nullified.\r\n",
      "Component area is too small - nullified.\r\n",
      "Component area is too small - nullified.\r\n",
      "Component area is too small - nullified.\r\n",
      "Component area is too small - nullified.\r\n",
      "Component area is too small - nullified.\r\n",
      "Component area is too small - nullified.\r\n",
      "Component area is too small - nullified.\r\n",
      "Component area is too small - nullified.\r\n",
      "Component area is too small - nullified.\r\n",
      "Component area is too small - nullified.\r\n",
      "Component area is too small - nullified.\r\n",
      "Component area is too small - nullified.\r\n",
      "Component area is too small - nullified.\r\n",
      "Component area is too small - nullified.\r\n",
      "Component area is too small - nullified.\r\n",
      "Component area is too small - nullified.\r\n",
      "Component area is too small - nullified.\r\n",
      "Component area is too small - nullified.\r\n",
      "Component area is too small - nullified.\r\n",
      "Component area is too small - nullified.\r\n",
      "Component area is too small - nullified.\r\n",
      "Component area is too small - nullified.\r\n",
      "Component area is too small - nullified.\r\n",
      "Component area is too small - nullified.\r\n",
      "Component area is too small - nullified.\r\n",
      "Component area is too small - nullified.\r\n",
      "Component area is too small - nullified.\r\n",
      "Component area is too small - nullified.\r\n",
      "Component area is too small - nullified.\r\n",
      "Component area is too small - nullified.\r\n",
      "Component area is too small - nullified.\r\n",
      "Component area is too small - nullified.\r\n",
      "Component area is too small - nullified.\r\n",
      "Component area is too small - nullified.\r\n",
      "Component area is too small - nullified.\r\n",
      "Component area is too small - nullified.\r\n",
      "Component area is too small - nullified.\r\n",
      "Component area is too small - nullified.\r\n",
      "Component area is too small - nullified.\r\n",
      "Component area is too small - nullified.\r\n",
      "Component area is too small - nullified.\r\n",
      "Component area is too small - nullified.\r\n",
      "Component area is too small - nullified.\r\n",
      "Component area is too small - nullified.\r\n",
      "Component area is too small - nullified.\r\n",
      "Component area is too small - nullified.\r\n",
      "Component area is too small - nullified.\r\n",
      "Component area is too small - nullified.\r\n",
      "Component area is too small - nullified.\r\n",
      "Component area is too small - nullified.\r\n",
      "Component area is too small - nullified.\r\n",
      "Component area is too small - nullified.\r\n",
      "Component area is too small - nullified.\r\n",
      "Component area is too small - nullified.\r\n",
      "Component area is too small - nullified.\r\n",
      "Component area is too small - nullified.\r\n",
      "Component area is too small - nullified.\r\n",
      "Component area is too small - nullified.\r\n",
      "Component area is too small - nullified.\r\n",
      "Component area is too small - nullified.\r\n",
      "Component area is too small - nullified.\r\n",
      "Component area is too small - nullified.\r\n",
      "Component area is too small - nullified.\r\n",
      "Component area is too small - nullified.\r\n",
      "Component area is too small - nullified.\r\n",
      "Component area is too small - nullified.\r\n",
      "Component area is too small - nullified.\r\n",
      "Component area is too small - nullified.\r\n",
      "Component area is too small - nullified.\r\n",
      "Component area is too small - nullified.\r\n",
      "Component area is too small - nullified.\r\n",
      "Component area is too small - nullified.\r\n",
      "Component area is too small - nullified.\r\n",
      "Component area is too small - nullified.\r\n",
      "Component area is too small - nullified.\r\n",
      "Component area is too small - nullified.\r\n",
      "Component area is too small - nullified.\r\n",
      "Component area is too small - nullified.\r\n",
      "Component area is too small - nullified.\r\n",
      "Component area is too small - nullified.\r\n",
      "Component area is too small - nullified.\r\n",
      "Component area is too small - nullified.\r\n",
      "Component area is too small - nullified.\r\n",
      "Component area is too small - nullified.\r\n",
      "Component area is too small - nullified.\r\n",
      "Component area is too small - nullified.\r\n",
      "Component area is too small - nullified.\r\n",
      "Component area is too small - nullified.\r\n",
      "Component area is too small - nullified.\r\n",
      "Component area is too small - nullified.\r\n",
      "Component area is too small - nullified.\r\n",
      "Component area is too small - nullified.\r\n",
      "Component area is too small - nullified.\r\n",
      "Component area is too small - nullified.\r\n",
      "Component area is too small - nullified.\r\n",
      "Component area is too small - nullified.\r\n",
      "Component area is too small - nullified.\r\n",
      "Component area is too small - nullified.\r\n",
      "Component area is too small - nullified.\r\n",
      "Component area is too small - nullified.\r\n",
      "Component area is too small - nullified.\r\n",
      "Component area is too small - nullified.\r\n",
      "Component area is too small - nullified.\r\n",
      "Component area is too small - nullified.\r\n",
      "Component area is too small - nullified.\r\n",
      "Component area is too small - nullified.\r\n",
      "Component area is too small - nullified.\r\n",
      "Component area is too small - nullified.\r\n",
      "Component area is too small - nullified.\r\n",
      "Component area is too small - nullified.\r\n",
      "Component area is too small - nullified.\r\n",
      "Component area is too small - nullified.\r\n",
      "Component area is too small - nullified.\r\n",
      "Component area is too small - nullified.\r\n",
      "Component area is too small - nullified.\r\n",
      "Component area is too small - nullified.\r\n",
      "Component area is too small - nullified.\r\n",
      "Component area is too small - nullified.\r\n",
      "Component area is too small - nullified.\r\n",
      "Component area is too small - nullified.\r\n",
      "Component area is too small - nullified.\r\n",
      "Component area is too small - nullified.\r\n",
      "Component area is too small - nullified.\r\n",
      "Component area is too small - nullified.\r\n",
      "Component area is too small - nullified.\r\n",
      "Component area is too small - nullified.\r\n",
      "Component area is too small - nullified.\r\n",
      "Component area is too small - nullified.\r\n",
      "Component area is too small - nullified.\r\n",
      "Component area is too small - nullified.\r\n",
      "Component area is too small - nullified.\r\n",
      "Component area is too small - nullified.\r\n",
      "Component area is too small - nullified.\r\n",
      "Component area is too small - nullified.\r\n",
      "Component area is too small - nullified.\r\n",
      "Component area is too small - nullified.\r\n",
      "Component area is too small - nullified.\r\n",
      "Component area is too small - nullified.\r\n",
      "Component area is too small - nullified.\r\n",
      "Component area is too small - nullified.\r\n",
      "Component area is too small - nullified.\r\n",
      "Component area is too small - nullified.\r\n",
      "Component area is too small - nullified.\r\n",
      "Component area is too small - nullified.\r\n",
      "Component area is too small - nullified.\r\n",
      "Component area is too small - nullified.\r\n",
      "Component area is too small - nullified.\r\n",
      "Component area is too small - nullified.\r\n",
      "Component area is too small - nullified.\r\n",
      "Component area is too small - nullified.\r\n",
      "Component area is too small - nullified.\r\n",
      "Component area is too small - nullified.\r\n",
      "Component area is too small - nullified.\r\n",
      "Component area is too small - nullified.\r\n",
      "Component area is too small - nullified.\r\n",
      "Component area is too small - nullified.\r\n",
      "Component area is too small - nullified.\r\n",
      "Component area is too small - nullified.\r\n",
      "Component area is too small - nullified.\r\n",
      "Component area is too small - nullified.\r\n",
      "Component area is too small - nullified.\r\n",
      "Component area is too small - nullified.\r\n",
      "Component area is too small - nullified.\r\n",
      "Component area is too small - nullified.\r\n",
      "Component area is too small - nullified.\r\n",
      "Component area is too small - nullified.\r\n",
      "Component area is too small - nullified.\r\n",
      "Component area is too small - nullified.\r\n",
      "Component area is too small - nullified.\r\n",
      "Component area is too small - nullified.\r\n",
      "Component area is too small - nullified.\r\n",
      "Component area is too small - nullified.\r\n",
      "Component area is too small - nullified.\r\n",
      "Component area is too small - nullified.\r\n",
      "Component area is too small - nullified.\r\n",
      "Component area is too small - nullified.\r\n",
      "Component area is too small - nullified.\r\n",
      "Component area is too small - nullified.\r\n",
      "Component area is too small - nullified.\r\n",
      "Component area is too small - nullified.\r\n",
      "Component area is too small - nullified.\r\n",
      "Component area is too small - nullified.\r\n",
      "Component area is too small - nullified.\r\n",
      "Component area is too small - nullified.\r\n",
      "Component area is too small - nullified.\r\n",
      "Component area is too small - nullified.\r\n",
      "Component area is too small - nullified.\r\n",
      "Component area is too small - nullified.\r\n",
      "Component area is too small - nullified.\r\n",
      "Component area is too small - nullified.\r\n",
      "Component area is too small - nullified.\r\n",
      "Component area is too small - nullified.\r\n",
      "Component area is too small - nullified.\r\n",
      "Component area is too small - nullified.\r\n",
      "Component area is too small - nullified.\r\n",
      "Component area is too small - nullified.\r\n",
      "Component area is too small - nullified.\r\n",
      "Component area is too small - nullified.\r\n",
      "Component area is too small - nullified.\r\n",
      "Component area is too small - nullified.\r\n",
      "Component area is too small - nullified.\r\n",
      "Component area is too small - nullified.\r\n",
      "Component area is too small - nullified.\r\n",
      "Component area is too small - nullified.\r\n",
      "Component area is too small - nullified.\r\n",
      "Component area is too small - nullified.\r\n",
      "Component area is too small - nullified.\r\n",
      "Component area is too small - nullified.\r\n",
      "Component area is too small - nullified.\r\n",
      "Component area is too small - nullified.\r\n",
      "Component area is too small - nullified.\r\n",
      "Component area is too small - nullified.\r\n",
      "Component area is too small - nullified.\r\n",
      "Component area is too small - nullified.\r\n",
      "Component area is too small - nullified.\r\n",
      "Component area is too small - nullified.\r\n",
      "Component area is too small - nullified.\r\n",
      "Component area is too small - nullified.\r\n",
      "Component area is too small - nullified.\r\n",
      "Component area is too small - nullified.\r\n",
      "Component area is too small - nullified.\r\n",
      "Component area is too small - nullified.\r\n",
      "Component area is too small - nullified.\r\n",
      "Component area is too small - nullified.\r\n",
      "Component area is too small - nullified.\r\n",
      "Component area is too small - nullified.\r\n",
      "Component area is too small - nullified.\r\n",
      "Component area is too small - nullified.\r\n",
      "Component area is too small - nullified.\r\n",
      "Component area is too small - nullified.\r\n",
      "Component area is too small - nullified.\r\n",
      "Component area is too small - nullified.\r\n",
      "Component area is too small - nullified.\r\n",
      "Component area is too small - nullified.\r\n",
      "Component area is too small - nullified.\r\n",
      "Component area is too small - nullified.\r\n",
      "Component area is too small - nullified.\r\n",
      "Component area is too small - nullified.\r\n",
      "Component area is too small - nullified.\r\n",
      "Component area is too small - nullified.\r\n",
      "Component area is too small - nullified.\r\n",
      "Component area is too small - nullified.\r\n",
      "Component area is too small - nullified.\r\n",
      "Component area is too small - nullified.\r\n",
      "Component area is too small - nullified.\r\n",
      "Component area is too small - nullified.\r\n",
      "Component area is too small - nullified.\r\n",
      "Component area is too small - nullified.\r\n",
      "Component area is too small - nullified.\r\n",
      "Component area is too small - nullified.\r\n",
      "Component area is too small - nullified.\r\n",
      "Component area is too small - nullified.\r\n",
      "Component area is too small - nullified.\r\n",
      "Component area is too small - nullified.\r\n",
      "Component area is too small - nullified.\r\n",
      "Component area is too small - nullified.\r\n",
      "Component area is too small - nullified.\r\n",
      "Component area is too small - nullified.\r\n",
      "Component area is too small - nullified.\r\n",
      "Component area is too small - nullified.\r\n",
      "Component area is too small - nullified.\r\n",
      "Component area is too small - nullified.\r\n",
      "Component area is too small - nullified.\r\n",
      "Component area is too small - nullified.\r\n",
      "Component area is too small - nullified.\r\n",
      "Component area is too small - nullified.\r\n",
      "Component area is too small - nullified.\r\n",
      "Component area is too small - nullified.\r\n",
      "Component area is too small - nullified.\r\n",
      "Component area is too small - nullified.\r\n",
      "Component area is too small - nullified.\r\n",
      "Component area is too small - nullified.\r\n",
      "Component area is too small - nullified.\r\n",
      "Component area is too small - nullified.\r\n",
      "Component area is too small - nullified.\r\n",
      "Area shrinks too much, stop iteration.\r\n",
      "Snake finished at iteration 441.\r\n",
      "Snake: 128.84 seconds\r\n",
      "Discarded.\r\n",
      "Snake return no valid submasks.\r\n",
      "No submask is found.Generate contours: 129.15\r\n"
     ]
    }
   ],
   "source": [
    "! cat /home/yuncong/stderr_0.log"
   ]
  },
  {
   "cell_type": "code",
   "execution_count": 26,
   "metadata": {},
   "outputs": [
    {
     "name": "stdout",
     "output_type": "stream",
     "text": [
      "set(['CHATM3_slide06_2018_02_17-S1', 'CHATM3_slide05_2018_02_17-S1', 'CHATM3_slide01_2018_02_17-S3', 'CHATM3_slide01_2018_02_17-S2', 'CHATM3_slide01_2018_02_17-S1', 'CHATM3_slide04_2018_02_17-S1', 'CHATM3_slide04_2018_02_17-S2', 'CHATM3_slide04_2018_02_17-S3', 'CHATM3_slide03_2018_02_18-S2', 'CHATM3_slide03_2018_02_18-S3', 'CHATM3_slide02_2018_02_18-S2', 'CHATM3_slide02_2018_02_18-S1', 'CHATM3_slide02_2018_02_18-S3', 'CHATM3_slide03_2018_02_18-S1'])\n"
     ]
    }
   ],
   "source": [
    "fns_processed = set(os.listdir(DataManager.get_auto_submask_rootdir_filepath(stack=stack)))\n",
    "fns_failed = set(valid_filenames) - fns_processed\n",
    "print fns_failed"
   ]
  },
  {
   "cell_type": "markdown",
   "metadata": {},
   "source": [
    "- download the folder `autoSubmasks` from S3.\n",
    "- Use local mask editing tool, generate `userModifiedSubmasks` and `masks`, upload to S3."
   ]
  },
  {
   "cell_type": "markdown",
   "metadata": {},
   "source": [
    "# Map masks back to original images"
   ]
  },
  {
   "cell_type": "code",
   "execution_count": 5,
   "metadata": {
    "collapsed": true
   },
   "outputs": [],
   "source": [
    "from data_manager import *"
   ]
  },
  {
   "cell_type": "code",
   "execution_count": 9,
   "metadata": {
    "collapsed": true
   },
   "outputs": [],
   "source": [
    "from skimage.transform import warp"
   ]
  },
  {
   "cell_type": "code",
   "execution_count": 25,
   "metadata": {},
   "outputs": [],
   "source": [
    "def get_original_thumbnail_from_prep1_thumbnail(img, stack, section=None, fn=None):\n",
    "    \n",
    "    Ts = DataManager.load_transforms_v2(stack, in_image_resolution='down32', out_image_resolution='down32',\n",
    "                                   use_inverse=False)\n",
    "    if fn is None:\n",
    "        fn = metadata_cache['sections_to_filenames'][stack][section]\n",
    "    \n",
    "    img_warped = warp(img, inverse_map=Ts[fn])\n",
    "    \n",
    "    img_tb_raw = DataManager.load_image_v2(stack=stack, prep_id=None, \n",
    "                                             resol='thumbnail', version='NtbNormalized', \n",
    "                                             fn=fn)\n",
    "    h, w = img_tb_raw.shape\n",
    "    return img_warped[:h, :w].astype(img.dtype)"
   ]
  },
  {
   "cell_type": "code",
   "execution_count": 38,
   "metadata": {
    "scrolled": true
   },
   "outputs": [
    {
     "name": "stderr",
     "output_type": "stream",
     "text": [
      "Not using image_cache.\n",
      "Not using image_cache.\n"
     ]
    },
    {
     "name": "stdout",
     "output_type": "stream",
     "text": [
      "/media/yuncong/BstemAtlasData/CSHL_data_processed/CHATM3/CHATM3_thumbnail_NtbNormalized/CHATM3_slide01_2018_02_17-S1_thumbnail_NtbNormalized.tif\n",
      "/media/yuncong/BstemAtlasData/CSHL_data_processed/CHATM3/CHATM3_thumbnail_NtbNormalized/CHATM3_slide01_2018_02_17-S1_thumbnail_NtbNormalized.tif\n",
      "aws s3 cp \"/media/yuncong/BstemAtlasData/CSHL_data_processed/CHATM3/CHATM3_thumbnail_mask/CHATM3_slide01_2018_02_17-S1_thumbnail_mask.png\" \"s3://mousebrainatlas-data/CSHL_data_processed/CHATM3/CHATM3_thumbnail_mask/CHATM3_slide01_2018_02_17-S1_thumbnail_mask.png\"\n",
      "0\n",
      "/media/yuncong/BstemAtlasData/CSHL_data_processed/CHATM3/CHATM3_thumbnail_NtbNormalized/CHATM3_slide02_2018_02_18-S1_thumbnail_NtbNormalized.tif\n",
      "/media/yuncong/BstemAtlasData/CSHL_data_processed/CHATM3/CHATM3_thumbnail_NtbNormalized/CHATM3_slide02_2018_02_18-S1_thumbnail_NtbNormalized.tif\n",
      "aws s3 cp \"/media/yuncong/BstemAtlasData/CSHL_data_processed/CHATM3/CHATM3_thumbnail_mask/CHATM3_slide02_2018_02_18-S1_thumbnail_mask.png\" \"s3://mousebrainatlas-data/CSHL_data_processed/CHATM3/CHATM3_thumbnail_mask/CHATM3_slide02_2018_02_18-S1_thumbnail_mask.png\"\n"
     ]
    },
    {
     "name": "stderr",
     "output_type": "stream",
     "text": [
      "Not using image_cache.\n",
      "Not using image_cache.\n"
     ]
    },
    {
     "name": "stdout",
     "output_type": "stream",
     "text": [
      "0\n",
      "/media/yuncong/BstemAtlasData/CSHL_data_processed/CHATM3/CHATM3_thumbnail_NtbNormalized/CHATM3_slide01_2018_02_17-S2_thumbnail_NtbNormalized.tif\n",
      "/media/yuncong/BstemAtlasData/CSHL_data_processed/CHATM3/CHATM3_thumbnail_NtbNormalized/CHATM3_slide01_2018_02_17-S2_thumbnail_NtbNormalized.tif\n",
      "aws s3 cp \"/media/yuncong/BstemAtlasData/CSHL_data_processed/CHATM3/CHATM3_thumbnail_mask/CHATM3_slide01_2018_02_17-S2_thumbnail_mask.png\" \"s3://mousebrainatlas-data/CSHL_data_processed/CHATM3/CHATM3_thumbnail_mask/CHATM3_slide01_2018_02_17-S2_thumbnail_mask.png\"\n"
     ]
    },
    {
     "name": "stderr",
     "output_type": "stream",
     "text": [
      "Not using image_cache.\n",
      "Not using image_cache.\n"
     ]
    },
    {
     "name": "stdout",
     "output_type": "stream",
     "text": [
      "0\n",
      "/media/yuncong/BstemAtlasData/CSHL_data_processed/CHATM3/CHATM3_thumbnail_NtbNormalized/CHATM3_slide02_2018_02_18-S2_thumbnail_NtbNormalized.tif\n",
      "/media/yuncong/BstemAtlasData/CSHL_data_processed/CHATM3/CHATM3_thumbnail_NtbNormalized/CHATM3_slide02_2018_02_18-S2_thumbnail_NtbNormalized.tif\n",
      "aws s3 cp \"/media/yuncong/BstemAtlasData/CSHL_data_processed/CHATM3/CHATM3_thumbnail_mask/CHATM3_slide02_2018_02_18-S2_thumbnail_mask.png\" \"s3://mousebrainatlas-data/CSHL_data_processed/CHATM3/CHATM3_thumbnail_mask/CHATM3_slide02_2018_02_18-S2_thumbnail_mask.png\"\n"
     ]
    },
    {
     "name": "stderr",
     "output_type": "stream",
     "text": [
      "Not using image_cache.\n",
      "Not using image_cache.\n"
     ]
    },
    {
     "name": "stdout",
     "output_type": "stream",
     "text": [
      "0\n",
      "/media/yuncong/BstemAtlasData/CSHL_data_processed/CHATM3/CHATM3_thumbnail_NtbNormalized/CHATM3_slide01_2018_02_17-S3_thumbnail_NtbNormalized.tif\n",
      "/media/yuncong/BstemAtlasData/CSHL_data_processed/CHATM3/CHATM3_thumbnail_NtbNormalized/CHATM3_slide01_2018_02_17-S3_thumbnail_NtbNormalized.tif\n",
      "aws s3 cp \"/media/yuncong/BstemAtlasData/CSHL_data_processed/CHATM3/CHATM3_thumbnail_mask/CHATM3_slide01_2018_02_17-S3_thumbnail_mask.png\" \"s3://mousebrainatlas-data/CSHL_data_processed/CHATM3/CHATM3_thumbnail_mask/CHATM3_slide01_2018_02_17-S3_thumbnail_mask.png\"\n"
     ]
    },
    {
     "name": "stderr",
     "output_type": "stream",
     "text": [
      "Not using image_cache.\n",
      "Not using image_cache.\n"
     ]
    },
    {
     "name": "stdout",
     "output_type": "stream",
     "text": [
      "0\n",
      "/media/yuncong/BstemAtlasData/CSHL_data_processed/CHATM3/CHATM3_thumbnail_NtbNormalized/CHATM3_slide02_2018_02_18-S3_thumbnail_NtbNormalized.tif\n",
      "/media/yuncong/BstemAtlasData/CSHL_data_processed/CHATM3/CHATM3_thumbnail_NtbNormalized/CHATM3_slide02_2018_02_18-S3_thumbnail_NtbNormalized.tif\n",
      "aws s3 cp \"/media/yuncong/BstemAtlasData/CSHL_data_processed/CHATM3/CHATM3_thumbnail_mask/CHATM3_slide02_2018_02_18-S3_thumbnail_mask.png\" \"s3://mousebrainatlas-data/CSHL_data_processed/CHATM3/CHATM3_thumbnail_mask/CHATM3_slide02_2018_02_18-S3_thumbnail_mask.png\"\n"
     ]
    },
    {
     "name": "stderr",
     "output_type": "stream",
     "text": [
      "Not using image_cache.\n",
      "Not using image_cache.\n"
     ]
    },
    {
     "name": "stdout",
     "output_type": "stream",
     "text": [
      "0\n",
      "/media/yuncong/BstemAtlasData/CSHL_data_processed/CHATM3/CHATM3_thumbnail_NtbNormalized/CHATM3_slide03_2018_02_18-S1_thumbnail_NtbNormalized.tif\n",
      "/media/yuncong/BstemAtlasData/CSHL_data_processed/CHATM3/CHATM3_thumbnail_NtbNormalized/CHATM3_slide03_2018_02_18-S1_thumbnail_NtbNormalized.tif\n",
      "aws s3 cp \"/media/yuncong/BstemAtlasData/CSHL_data_processed/CHATM3/CHATM3_thumbnail_mask/CHATM3_slide03_2018_02_18-S1_thumbnail_mask.png\" \"s3://mousebrainatlas-data/CSHL_data_processed/CHATM3/CHATM3_thumbnail_mask/CHATM3_slide03_2018_02_18-S1_thumbnail_mask.png\"\n"
     ]
    },
    {
     "name": "stderr",
     "output_type": "stream",
     "text": [
      "Not using image_cache.\n",
      "Not using image_cache.\n"
     ]
    },
    {
     "name": "stdout",
     "output_type": "stream",
     "text": [
      "0\n",
      "/media/yuncong/BstemAtlasData/CSHL_data_processed/CHATM3/CHATM3_thumbnail_NtbNormalized/CHATM3_slide04_2018_02_17-S1_thumbnail_NtbNormalized.tif\n",
      "/media/yuncong/BstemAtlasData/CSHL_data_processed/CHATM3/CHATM3_thumbnail_NtbNormalized/CHATM3_slide04_2018_02_17-S1_thumbnail_NtbNormalized.tif\n",
      "aws s3 cp \"/media/yuncong/BstemAtlasData/CSHL_data_processed/CHATM3/CHATM3_thumbnail_mask/CHATM3_slide04_2018_02_17-S1_thumbnail_mask.png\" \"s3://mousebrainatlas-data/CSHL_data_processed/CHATM3/CHATM3_thumbnail_mask/CHATM3_slide04_2018_02_17-S1_thumbnail_mask.png\"\n"
     ]
    },
    {
     "name": "stderr",
     "output_type": "stream",
     "text": [
      "Not using image_cache.\n",
      "Not using image_cache.\n"
     ]
    },
    {
     "name": "stdout",
     "output_type": "stream",
     "text": [
      "0\n",
      "/media/yuncong/BstemAtlasData/CSHL_data_processed/CHATM3/CHATM3_thumbnail_NtbNormalized/CHATM3_slide03_2018_02_18-S2_thumbnail_NtbNormalized.tif\n",
      "/media/yuncong/BstemAtlasData/CSHL_data_processed/CHATM3/CHATM3_thumbnail_NtbNormalized/CHATM3_slide03_2018_02_18-S2_thumbnail_NtbNormalized.tif\n",
      "aws s3 cp \"/media/yuncong/BstemAtlasData/CSHL_data_processed/CHATM3/CHATM3_thumbnail_mask/CHATM3_slide03_2018_02_18-S2_thumbnail_mask.png\" \"s3://mousebrainatlas-data/CSHL_data_processed/CHATM3/CHATM3_thumbnail_mask/CHATM3_slide03_2018_02_18-S2_thumbnail_mask.png\"\n"
     ]
    },
    {
     "name": "stderr",
     "output_type": "stream",
     "text": [
      "Not using image_cache.\n",
      "Not using image_cache.\n"
     ]
    },
    {
     "name": "stdout",
     "output_type": "stream",
     "text": [
      "0\n",
      "/media/yuncong/BstemAtlasData/CSHL_data_processed/CHATM3/CHATM3_thumbnail_NtbNormalized/CHATM3_slide04_2018_02_17-S2_thumbnail_NtbNormalized.tif\n",
      "/media/yuncong/BstemAtlasData/CSHL_data_processed/CHATM3/CHATM3_thumbnail_NtbNormalized/CHATM3_slide04_2018_02_17-S2_thumbnail_NtbNormalized.tif\n",
      "aws s3 cp \"/media/yuncong/BstemAtlasData/CSHL_data_processed/CHATM3/CHATM3_thumbnail_mask/CHATM3_slide04_2018_02_17-S2_thumbnail_mask.png\" \"s3://mousebrainatlas-data/CSHL_data_processed/CHATM3/CHATM3_thumbnail_mask/CHATM3_slide04_2018_02_17-S2_thumbnail_mask.png\"\n"
     ]
    },
    {
     "name": "stderr",
     "output_type": "stream",
     "text": [
      "Not using image_cache.\n",
      "Not using image_cache.\n"
     ]
    },
    {
     "name": "stdout",
     "output_type": "stream",
     "text": [
      "0\n",
      "/media/yuncong/BstemAtlasData/CSHL_data_processed/CHATM3/CHATM3_thumbnail_NtbNormalized/CHATM3_slide03_2018_02_18-S3_thumbnail_NtbNormalized.tif\n",
      "/media/yuncong/BstemAtlasData/CSHL_data_processed/CHATM3/CHATM3_thumbnail_NtbNormalized/CHATM3_slide03_2018_02_18-S3_thumbnail_NtbNormalized.tif\n",
      "aws s3 cp \"/media/yuncong/BstemAtlasData/CSHL_data_processed/CHATM3/CHATM3_thumbnail_mask/CHATM3_slide03_2018_02_18-S3_thumbnail_mask.png\" \"s3://mousebrainatlas-data/CSHL_data_processed/CHATM3/CHATM3_thumbnail_mask/CHATM3_slide03_2018_02_18-S3_thumbnail_mask.png\"\n"
     ]
    },
    {
     "name": "stderr",
     "output_type": "stream",
     "text": [
      "Not using image_cache.\n",
      "Not using image_cache.\n"
     ]
    },
    {
     "name": "stdout",
     "output_type": "stream",
     "text": [
      "0\n",
      "/media/yuncong/BstemAtlasData/CSHL_data_processed/CHATM3/CHATM3_thumbnail_NtbNormalized/CHATM3_slide04_2018_02_17-S3_thumbnail_NtbNormalized.tif\n",
      "/media/yuncong/BstemAtlasData/CSHL_data_processed/CHATM3/CHATM3_thumbnail_NtbNormalized/CHATM3_slide04_2018_02_17-S3_thumbnail_NtbNormalized.tif\n",
      "aws s3 cp \"/media/yuncong/BstemAtlasData/CSHL_data_processed/CHATM3/CHATM3_thumbnail_mask/CHATM3_slide04_2018_02_17-S3_thumbnail_mask.png\" \"s3://mousebrainatlas-data/CSHL_data_processed/CHATM3/CHATM3_thumbnail_mask/CHATM3_slide04_2018_02_17-S3_thumbnail_mask.png\"\n"
     ]
    },
    {
     "name": "stderr",
     "output_type": "stream",
     "text": [
      "Not using image_cache.\n",
      "Not using image_cache.\n"
     ]
    },
    {
     "name": "stdout",
     "output_type": "stream",
     "text": [
      "0\n",
      "/media/yuncong/BstemAtlasData/CSHL_data_processed/CHATM3/CHATM3_thumbnail_NtbNormalized/CHATM3_slide05_2018_02_17-S1_thumbnail_NtbNormalized.tif\n",
      "/media/yuncong/BstemAtlasData/CSHL_data_processed/CHATM3/CHATM3_thumbnail_NtbNormalized/CHATM3_slide05_2018_02_17-S1_thumbnail_NtbNormalized.tif\n",
      "aws s3 cp \"/media/yuncong/BstemAtlasData/CSHL_data_processed/CHATM3/CHATM3_thumbnail_mask/CHATM3_slide05_2018_02_17-S1_thumbnail_mask.png\" \"s3://mousebrainatlas-data/CSHL_data_processed/CHATM3/CHATM3_thumbnail_mask/CHATM3_slide05_2018_02_17-S1_thumbnail_mask.png\"\n"
     ]
    },
    {
     "name": "stderr",
     "output_type": "stream",
     "text": [
      "Not using image_cache.\n",
      "Not using image_cache.\n"
     ]
    },
    {
     "name": "stdout",
     "output_type": "stream",
     "text": [
      "0\n",
      "/media/yuncong/BstemAtlasData/CSHL_data_processed/CHATM3/CHATM3_thumbnail_NtbNormalized/CHATM3_slide06_2018_02_17-S1_thumbnail_NtbNormalized.tif\n",
      "/media/yuncong/BstemAtlasData/CSHL_data_processed/CHATM3/CHATM3_thumbnail_NtbNormalized/CHATM3_slide06_2018_02_17-S1_thumbnail_NtbNormalized.tif\n",
      "aws s3 cp \"/media/yuncong/BstemAtlasData/CSHL_data_processed/CHATM3/CHATM3_thumbnail_mask/CHATM3_slide06_2018_02_17-S1_thumbnail_mask.png\" \"s3://mousebrainatlas-data/CSHL_data_processed/CHATM3/CHATM3_thumbnail_mask/CHATM3_slide06_2018_02_17-S1_thumbnail_mask.png\"\n"
     ]
    },
    {
     "name": "stderr",
     "output_type": "stream",
     "text": [
      "Not using image_cache.\n",
      "Not using image_cache.\n"
     ]
    },
    {
     "name": "stdout",
     "output_type": "stream",
     "text": [
      "0\n",
      "/media/yuncong/BstemAtlasData/CSHL_data_processed/CHATM3/CHATM3_thumbnail_NtbNormalized/CHATM3_slide05_2018_02_17-S2_thumbnail_NtbNormalized.tif\n",
      "/media/yuncong/BstemAtlasData/CSHL_data_processed/CHATM3/CHATM3_thumbnail_NtbNormalized/CHATM3_slide05_2018_02_17-S2_thumbnail_NtbNormalized.tif\n",
      "aws s3 cp \"/media/yuncong/BstemAtlasData/CSHL_data_processed/CHATM3/CHATM3_thumbnail_mask/CHATM3_slide05_2018_02_17-S2_thumbnail_mask.png\" \"s3://mousebrainatlas-data/CSHL_data_processed/CHATM3/CHATM3_thumbnail_mask/CHATM3_slide05_2018_02_17-S2_thumbnail_mask.png\"\n"
     ]
    },
    {
     "name": "stderr",
     "output_type": "stream",
     "text": [
      "Not using image_cache.\n",
      "Not using image_cache.\n"
     ]
    },
    {
     "name": "stdout",
     "output_type": "stream",
     "text": [
      "0\n",
      "/media/yuncong/BstemAtlasData/CSHL_data_processed/CHATM3/CHATM3_thumbnail_NtbNormalized/CHATM3_slide06_2018_02_17-S2_thumbnail_NtbNormalized.tif\n",
      "/media/yuncong/BstemAtlasData/CSHL_data_processed/CHATM3/CHATM3_thumbnail_NtbNormalized/CHATM3_slide06_2018_02_17-S2_thumbnail_NtbNormalized.tif\n",
      "aws s3 cp \"/media/yuncong/BstemAtlasData/CSHL_data_processed/CHATM3/CHATM3_thumbnail_mask/CHATM3_slide06_2018_02_17-S2_thumbnail_mask.png\" \"s3://mousebrainatlas-data/CSHL_data_processed/CHATM3/CHATM3_thumbnail_mask/CHATM3_slide06_2018_02_17-S2_thumbnail_mask.png\"\n"
     ]
    },
    {
     "name": "stderr",
     "output_type": "stream",
     "text": [
      "Not using image_cache.\n",
      "Not using image_cache.\n"
     ]
    },
    {
     "name": "stdout",
     "output_type": "stream",
     "text": [
      "0\n",
      "/media/yuncong/BstemAtlasData/CSHL_data_processed/CHATM3/CHATM3_thumbnail_NtbNormalized/CHATM3_slide07_2018_02_18-S1_thumbnail_NtbNormalized.tif\n",
      "/media/yuncong/BstemAtlasData/CSHL_data_processed/CHATM3/CHATM3_thumbnail_NtbNormalized/CHATM3_slide07_2018_02_18-S1_thumbnail_NtbNormalized.tif\n",
      "aws s3 cp \"/media/yuncong/BstemAtlasData/CSHL_data_processed/CHATM3/CHATM3_thumbnail_mask/CHATM3_slide07_2018_02_18-S1_thumbnail_mask.png\" \"s3://mousebrainatlas-data/CSHL_data_processed/CHATM3/CHATM3_thumbnail_mask/CHATM3_slide07_2018_02_18-S1_thumbnail_mask.png\"\n"
     ]
    },
    {
     "name": "stderr",
     "output_type": "stream",
     "text": [
      "Not using image_cache.\n",
      "Not using image_cache.\n"
     ]
    },
    {
     "name": "stdout",
     "output_type": "stream",
     "text": [
      "0\n",
      "/media/yuncong/BstemAtlasData/CSHL_data_processed/CHATM3/CHATM3_thumbnail_NtbNormalized/CHATM3_slide08_2018_02_18-S1_thumbnail_NtbNormalized.tif\n",
      "/media/yuncong/BstemAtlasData/CSHL_data_processed/CHATM3/CHATM3_thumbnail_NtbNormalized/CHATM3_slide08_2018_02_18-S1_thumbnail_NtbNormalized.tif\n",
      "aws s3 cp \"/media/yuncong/BstemAtlasData/CSHL_data_processed/CHATM3/CHATM3_thumbnail_mask/CHATM3_slide08_2018_02_18-S1_thumbnail_mask.png\" \"s3://mousebrainatlas-data/CSHL_data_processed/CHATM3/CHATM3_thumbnail_mask/CHATM3_slide08_2018_02_18-S1_thumbnail_mask.png\"\n"
     ]
    },
    {
     "name": "stderr",
     "output_type": "stream",
     "text": [
      "Not using image_cache.\n",
      "Not using image_cache.\n"
     ]
    },
    {
     "name": "stdout",
     "output_type": "stream",
     "text": [
      "0\n",
      "/media/yuncong/BstemAtlasData/CSHL_data_processed/CHATM3/CHATM3_thumbnail_NtbNormalized/CHATM3_slide07_2018_02_18-S2_thumbnail_NtbNormalized.tif\n",
      "/media/yuncong/BstemAtlasData/CSHL_data_processed/CHATM3/CHATM3_thumbnail_NtbNormalized/CHATM3_slide07_2018_02_18-S2_thumbnail_NtbNormalized.tif\n",
      "aws s3 cp \"/media/yuncong/BstemAtlasData/CSHL_data_processed/CHATM3/CHATM3_thumbnail_mask/CHATM3_slide07_2018_02_18-S2_thumbnail_mask.png\" \"s3://mousebrainatlas-data/CSHL_data_processed/CHATM3/CHATM3_thumbnail_mask/CHATM3_slide07_2018_02_18-S2_thumbnail_mask.png\"\n"
     ]
    },
    {
     "name": "stderr",
     "output_type": "stream",
     "text": [
      "Not using image_cache.\n",
      "Not using image_cache.\n"
     ]
    },
    {
     "name": "stdout",
     "output_type": "stream",
     "text": [
      "0\n",
      "/media/yuncong/BstemAtlasData/CSHL_data_processed/CHATM3/CHATM3_thumbnail_NtbNormalized/CHATM3_slide08_2018_02_18-S2_thumbnail_NtbNormalized.tif\n",
      "/media/yuncong/BstemAtlasData/CSHL_data_processed/CHATM3/CHATM3_thumbnail_NtbNormalized/CHATM3_slide08_2018_02_18-S2_thumbnail_NtbNormalized.tif\n",
      "aws s3 cp \"/media/yuncong/BstemAtlasData/CSHL_data_processed/CHATM3/CHATM3_thumbnail_mask/CHATM3_slide08_2018_02_18-S2_thumbnail_mask.png\" \"s3://mousebrainatlas-data/CSHL_data_processed/CHATM3/CHATM3_thumbnail_mask/CHATM3_slide08_2018_02_18-S2_thumbnail_mask.png\"\n"
     ]
    },
    {
     "name": "stderr",
     "output_type": "stream",
     "text": [
      "Not using image_cache.\n",
      "Not using image_cache.\n"
     ]
    },
    {
     "name": "stdout",
     "output_type": "stream",
     "text": [
      "0\n",
      "/media/yuncong/BstemAtlasData/CSHL_data_processed/CHATM3/CHATM3_thumbnail_NtbNormalized/CHATM3_slide07_2018_02_18-S3_thumbnail_NtbNormalized.tif\n",
      "/media/yuncong/BstemAtlasData/CSHL_data_processed/CHATM3/CHATM3_thumbnail_NtbNormalized/CHATM3_slide07_2018_02_18-S3_thumbnail_NtbNormalized.tif\n",
      "aws s3 cp \"/media/yuncong/BstemAtlasData/CSHL_data_processed/CHATM3/CHATM3_thumbnail_mask/CHATM3_slide07_2018_02_18-S3_thumbnail_mask.png\" \"s3://mousebrainatlas-data/CSHL_data_processed/CHATM3/CHATM3_thumbnail_mask/CHATM3_slide07_2018_02_18-S3_thumbnail_mask.png\"\n"
     ]
    },
    {
     "name": "stderr",
     "output_type": "stream",
     "text": [
      "Not using image_cache.\n",
      "Not using image_cache.\n"
     ]
    },
    {
     "name": "stdout",
     "output_type": "stream",
     "text": [
      "0\n",
      "/media/yuncong/BstemAtlasData/CSHL_data_processed/CHATM3/CHATM3_thumbnail_NtbNormalized/CHATM3_slide08_2018_02_18-S3_thumbnail_NtbNormalized.tif\n",
      "/media/yuncong/BstemAtlasData/CSHL_data_processed/CHATM3/CHATM3_thumbnail_NtbNormalized/CHATM3_slide08_2018_02_18-S3_thumbnail_NtbNormalized.tif\n",
      "aws s3 cp \"/media/yuncong/BstemAtlasData/CSHL_data_processed/CHATM3/CHATM3_thumbnail_mask/CHATM3_slide08_2018_02_18-S3_thumbnail_mask.png\" \"s3://mousebrainatlas-data/CSHL_data_processed/CHATM3/CHATM3_thumbnail_mask/CHATM3_slide08_2018_02_18-S3_thumbnail_mask.png\"\n"
     ]
    },
    {
     "name": "stderr",
     "output_type": "stream",
     "text": [
      "Not using image_cache.\n",
      "Not using image_cache.\n"
     ]
    },
    {
     "name": "stdout",
     "output_type": "stream",
     "text": [
      "0\n",
      "/media/yuncong/BstemAtlasData/CSHL_data_processed/CHATM3/CHATM3_thumbnail_NtbNormalized/CHATM3_slide09_2018_02_18-S1_thumbnail_NtbNormalized.tif\n",
      "/media/yuncong/BstemAtlasData/CSHL_data_processed/CHATM3/CHATM3_thumbnail_NtbNormalized/CHATM3_slide09_2018_02_18-S1_thumbnail_NtbNormalized.tif\n",
      "aws s3 cp \"/media/yuncong/BstemAtlasData/CSHL_data_processed/CHATM3/CHATM3_thumbnail_mask/CHATM3_slide09_2018_02_18-S1_thumbnail_mask.png\" \"s3://mousebrainatlas-data/CSHL_data_processed/CHATM3/CHATM3_thumbnail_mask/CHATM3_slide09_2018_02_18-S1_thumbnail_mask.png\"\n"
     ]
    },
    {
     "name": "stderr",
     "output_type": "stream",
     "text": [
      "Not using image_cache.\n",
      "Not using image_cache.\n"
     ]
    },
    {
     "name": "stdout",
     "output_type": "stream",
     "text": [
      "0\n",
      "/media/yuncong/BstemAtlasData/CSHL_data_processed/CHATM3/CHATM3_thumbnail_NtbNormalized/CHATM3_slide10_2018_02_17-S1_thumbnail_NtbNormalized.tif\n",
      "/media/yuncong/BstemAtlasData/CSHL_data_processed/CHATM3/CHATM3_thumbnail_NtbNormalized/CHATM3_slide10_2018_02_17-S1_thumbnail_NtbNormalized.tif\n",
      "aws s3 cp \"/media/yuncong/BstemAtlasData/CSHL_data_processed/CHATM3/CHATM3_thumbnail_mask/CHATM3_slide10_2018_02_17-S1_thumbnail_mask.png\" \"s3://mousebrainatlas-data/CSHL_data_processed/CHATM3/CHATM3_thumbnail_mask/CHATM3_slide10_2018_02_17-S1_thumbnail_mask.png\"\n"
     ]
    },
    {
     "name": "stderr",
     "output_type": "stream",
     "text": [
      "Not using image_cache.\n",
      "Not using image_cache.\n"
     ]
    },
    {
     "name": "stdout",
     "output_type": "stream",
     "text": [
      "0\n",
      "/media/yuncong/BstemAtlasData/CSHL_data_processed/CHATM3/CHATM3_thumbnail_NtbNormalized/CHATM3_slide09_2018_02_18-S2_thumbnail_NtbNormalized.tif\n",
      "/media/yuncong/BstemAtlasData/CSHL_data_processed/CHATM3/CHATM3_thumbnail_NtbNormalized/CHATM3_slide09_2018_02_18-S2_thumbnail_NtbNormalized.tif\n",
      "aws s3 cp \"/media/yuncong/BstemAtlasData/CSHL_data_processed/CHATM3/CHATM3_thumbnail_mask/CHATM3_slide09_2018_02_18-S2_thumbnail_mask.png\" \"s3://mousebrainatlas-data/CSHL_data_processed/CHATM3/CHATM3_thumbnail_mask/CHATM3_slide09_2018_02_18-S2_thumbnail_mask.png\"\n"
     ]
    },
    {
     "name": "stderr",
     "output_type": "stream",
     "text": [
      "Not using image_cache.\n",
      "Not using image_cache.\n"
     ]
    },
    {
     "name": "stdout",
     "output_type": "stream",
     "text": [
      "0\n",
      "/media/yuncong/BstemAtlasData/CSHL_data_processed/CHATM3/CHATM3_thumbnail_NtbNormalized/CHATM3_slide10_2018_02_17-S2_thumbnail_NtbNormalized.tif\n",
      "/media/yuncong/BstemAtlasData/CSHL_data_processed/CHATM3/CHATM3_thumbnail_NtbNormalized/CHATM3_slide10_2018_02_17-S2_thumbnail_NtbNormalized.tif\n",
      "aws s3 cp \"/media/yuncong/BstemAtlasData/CSHL_data_processed/CHATM3/CHATM3_thumbnail_mask/CHATM3_slide10_2018_02_17-S2_thumbnail_mask.png\" \"s3://mousebrainatlas-data/CSHL_data_processed/CHATM3/CHATM3_thumbnail_mask/CHATM3_slide10_2018_02_17-S2_thumbnail_mask.png\"\n"
     ]
    },
    {
     "name": "stderr",
     "output_type": "stream",
     "text": [
      "Not using image_cache.\n",
      "Not using image_cache.\n"
     ]
    },
    {
     "name": "stdout",
     "output_type": "stream",
     "text": [
      "0\n",
      "/media/yuncong/BstemAtlasData/CSHL_data_processed/CHATM3/CHATM3_thumbnail_NtbNormalized/CHATM3_slide09_2018_02_18-S3_thumbnail_NtbNormalized.tif\n",
      "/media/yuncong/BstemAtlasData/CSHL_data_processed/CHATM3/CHATM3_thumbnail_NtbNormalized/CHATM3_slide09_2018_02_18-S3_thumbnail_NtbNormalized.tif\n",
      "aws s3 cp \"/media/yuncong/BstemAtlasData/CSHL_data_processed/CHATM3/CHATM3_thumbnail_mask/CHATM3_slide09_2018_02_18-S3_thumbnail_mask.png\" \"s3://mousebrainatlas-data/CSHL_data_processed/CHATM3/CHATM3_thumbnail_mask/CHATM3_slide09_2018_02_18-S3_thumbnail_mask.png\"\n"
     ]
    },
    {
     "name": "stderr",
     "output_type": "stream",
     "text": [
      "Not using image_cache.\n",
      "Not using image_cache.\n"
     ]
    },
    {
     "name": "stdout",
     "output_type": "stream",
     "text": [
      "0\n",
      "/media/yuncong/BstemAtlasData/CSHL_data_processed/CHATM3/CHATM3_thumbnail_NtbNormalized/CHATM3_slide10_2018_02_17-S3_thumbnail_NtbNormalized.tif\n",
      "/media/yuncong/BstemAtlasData/CSHL_data_processed/CHATM3/CHATM3_thumbnail_NtbNormalized/CHATM3_slide10_2018_02_17-S3_thumbnail_NtbNormalized.tif\n",
      "aws s3 cp \"/media/yuncong/BstemAtlasData/CSHL_data_processed/CHATM3/CHATM3_thumbnail_mask/CHATM3_slide10_2018_02_17-S3_thumbnail_mask.png\" \"s3://mousebrainatlas-data/CSHL_data_processed/CHATM3/CHATM3_thumbnail_mask/CHATM3_slide10_2018_02_17-S3_thumbnail_mask.png\"\n"
     ]
    },
    {
     "name": "stderr",
     "output_type": "stream",
     "text": [
      "Not using image_cache.\n",
      "Not using image_cache.\n"
     ]
    },
    {
     "name": "stdout",
     "output_type": "stream",
     "text": [
      "0\n",
      "/media/yuncong/BstemAtlasData/CSHL_data_processed/CHATM3/CHATM3_thumbnail_NtbNormalized/CHATM3_slide11_2018_02_17-S1_thumbnail_NtbNormalized.tif\n",
      "/media/yuncong/BstemAtlasData/CSHL_data_processed/CHATM3/CHATM3_thumbnail_NtbNormalized/CHATM3_slide11_2018_02_17-S1_thumbnail_NtbNormalized.tif\n",
      "aws s3 cp \"/media/yuncong/BstemAtlasData/CSHL_data_processed/CHATM3/CHATM3_thumbnail_mask/CHATM3_slide11_2018_02_17-S1_thumbnail_mask.png\" \"s3://mousebrainatlas-data/CSHL_data_processed/CHATM3/CHATM3_thumbnail_mask/CHATM3_slide11_2018_02_17-S1_thumbnail_mask.png\"\n"
     ]
    },
    {
     "name": "stderr",
     "output_type": "stream",
     "text": [
      "Not using image_cache.\n",
      "Not using image_cache.\n"
     ]
    },
    {
     "name": "stdout",
     "output_type": "stream",
     "text": [
      "0\n",
      "/media/yuncong/BstemAtlasData/CSHL_data_processed/CHATM3/CHATM3_thumbnail_NtbNormalized/CHATM3_slide12_2018_02_17-S1_thumbnail_NtbNormalized.tif\n",
      "/media/yuncong/BstemAtlasData/CSHL_data_processed/CHATM3/CHATM3_thumbnail_NtbNormalized/CHATM3_slide12_2018_02_17-S1_thumbnail_NtbNormalized.tif\n",
      "aws s3 cp \"/media/yuncong/BstemAtlasData/CSHL_data_processed/CHATM3/CHATM3_thumbnail_mask/CHATM3_slide12_2018_02_17-S1_thumbnail_mask.png\" \"s3://mousebrainatlas-data/CSHL_data_processed/CHATM3/CHATM3_thumbnail_mask/CHATM3_slide12_2018_02_17-S1_thumbnail_mask.png\"\n"
     ]
    },
    {
     "name": "stderr",
     "output_type": "stream",
     "text": [
      "Not using image_cache.\n",
      "Not using image_cache.\n"
     ]
    },
    {
     "name": "stdout",
     "output_type": "stream",
     "text": [
      "0\n",
      "/media/yuncong/BstemAtlasData/CSHL_data_processed/CHATM3/CHATM3_thumbnail_NtbNormalized/CHATM3_slide11_2018_02_17-S2_thumbnail_NtbNormalized.tif\n",
      "/media/yuncong/BstemAtlasData/CSHL_data_processed/CHATM3/CHATM3_thumbnail_NtbNormalized/CHATM3_slide11_2018_02_17-S2_thumbnail_NtbNormalized.tif\n",
      "aws s3 cp \"/media/yuncong/BstemAtlasData/CSHL_data_processed/CHATM3/CHATM3_thumbnail_mask/CHATM3_slide11_2018_02_17-S2_thumbnail_mask.png\" \"s3://mousebrainatlas-data/CSHL_data_processed/CHATM3/CHATM3_thumbnail_mask/CHATM3_slide11_2018_02_17-S2_thumbnail_mask.png\"\n"
     ]
    },
    {
     "name": "stderr",
     "output_type": "stream",
     "text": [
      "Not using image_cache.\n",
      "Not using image_cache.\n"
     ]
    },
    {
     "name": "stdout",
     "output_type": "stream",
     "text": [
      "0\n",
      "/media/yuncong/BstemAtlasData/CSHL_data_processed/CHATM3/CHATM3_thumbnail_NtbNormalized/CHATM3_slide12_2018_02_17-S2_thumbnail_NtbNormalized.tif\n",
      "/media/yuncong/BstemAtlasData/CSHL_data_processed/CHATM3/CHATM3_thumbnail_NtbNormalized/CHATM3_slide12_2018_02_17-S2_thumbnail_NtbNormalized.tif\n",
      "aws s3 cp \"/media/yuncong/BstemAtlasData/CSHL_data_processed/CHATM3/CHATM3_thumbnail_mask/CHATM3_slide12_2018_02_17-S2_thumbnail_mask.png\" \"s3://mousebrainatlas-data/CSHL_data_processed/CHATM3/CHATM3_thumbnail_mask/CHATM3_slide12_2018_02_17-S2_thumbnail_mask.png\"\n"
     ]
    },
    {
     "name": "stderr",
     "output_type": "stream",
     "text": [
      "Not using image_cache.\n",
      "Not using image_cache.\n"
     ]
    },
    {
     "name": "stdout",
     "output_type": "stream",
     "text": [
      "0\n",
      "/media/yuncong/BstemAtlasData/CSHL_data_processed/CHATM3/CHATM3_thumbnail_NtbNormalized/CHATM3_slide11_2018_02_17-S3_thumbnail_NtbNormalized.tif\n",
      "/media/yuncong/BstemAtlasData/CSHL_data_processed/CHATM3/CHATM3_thumbnail_NtbNormalized/CHATM3_slide11_2018_02_17-S3_thumbnail_NtbNormalized.tif\n",
      "aws s3 cp \"/media/yuncong/BstemAtlasData/CSHL_data_processed/CHATM3/CHATM3_thumbnail_mask/CHATM3_slide11_2018_02_17-S3_thumbnail_mask.png\" \"s3://mousebrainatlas-data/CSHL_data_processed/CHATM3/CHATM3_thumbnail_mask/CHATM3_slide11_2018_02_17-S3_thumbnail_mask.png\"\n"
     ]
    },
    {
     "name": "stderr",
     "output_type": "stream",
     "text": [
      "Not using image_cache.\n",
      "Not using image_cache.\n"
     ]
    },
    {
     "name": "stdout",
     "output_type": "stream",
     "text": [
      "0\n",
      "/media/yuncong/BstemAtlasData/CSHL_data_processed/CHATM3/CHATM3_thumbnail_NtbNormalized/CHATM3_slide12_2018_02_17-S3_thumbnail_NtbNormalized.tif\n",
      "/media/yuncong/BstemAtlasData/CSHL_data_processed/CHATM3/CHATM3_thumbnail_NtbNormalized/CHATM3_slide12_2018_02_17-S3_thumbnail_NtbNormalized.tif\n",
      "aws s3 cp \"/media/yuncong/BstemAtlasData/CSHL_data_processed/CHATM3/CHATM3_thumbnail_mask/CHATM3_slide12_2018_02_17-S3_thumbnail_mask.png\" \"s3://mousebrainatlas-data/CSHL_data_processed/CHATM3/CHATM3_thumbnail_mask/CHATM3_slide12_2018_02_17-S3_thumbnail_mask.png\"\n"
     ]
    },
    {
     "name": "stderr",
     "output_type": "stream",
     "text": [
      "Not using image_cache.\n",
      "Not using image_cache.\n"
     ]
    },
    {
     "name": "stdout",
     "output_type": "stream",
     "text": [
      "0\n",
      "/media/yuncong/BstemAtlasData/CSHL_data_processed/CHATM3/CHATM3_thumbnail_NtbNormalized/CHATM3_slide13_2018_02_18-S1_thumbnail_NtbNormalized.tif\n",
      "/media/yuncong/BstemAtlasData/CSHL_data_processed/CHATM3/CHATM3_thumbnail_NtbNormalized/CHATM3_slide13_2018_02_18-S1_thumbnail_NtbNormalized.tif\n",
      "aws s3 cp \"/media/yuncong/BstemAtlasData/CSHL_data_processed/CHATM3/CHATM3_thumbnail_mask/CHATM3_slide13_2018_02_18-S1_thumbnail_mask.png\" \"s3://mousebrainatlas-data/CSHL_data_processed/CHATM3/CHATM3_thumbnail_mask/CHATM3_slide13_2018_02_18-S1_thumbnail_mask.png\"\n"
     ]
    },
    {
     "name": "stderr",
     "output_type": "stream",
     "text": [
      "Not using image_cache.\n",
      "Not using image_cache.\n"
     ]
    },
    {
     "name": "stdout",
     "output_type": "stream",
     "text": [
      "0\n",
      "/media/yuncong/BstemAtlasData/CSHL_data_processed/CHATM3/CHATM3_thumbnail_NtbNormalized/CHATM3_slide14_2018_02_18-S1_thumbnail_NtbNormalized.tif\n",
      "/media/yuncong/BstemAtlasData/CSHL_data_processed/CHATM3/CHATM3_thumbnail_NtbNormalized/CHATM3_slide14_2018_02_18-S1_thumbnail_NtbNormalized.tif\n",
      "aws s3 cp \"/media/yuncong/BstemAtlasData/CSHL_data_processed/CHATM3/CHATM3_thumbnail_mask/CHATM3_slide14_2018_02_18-S1_thumbnail_mask.png\" \"s3://mousebrainatlas-data/CSHL_data_processed/CHATM3/CHATM3_thumbnail_mask/CHATM3_slide14_2018_02_18-S1_thumbnail_mask.png\"\n"
     ]
    },
    {
     "name": "stderr",
     "output_type": "stream",
     "text": [
      "Not using image_cache.\n",
      "Not using image_cache.\n"
     ]
    },
    {
     "name": "stdout",
     "output_type": "stream",
     "text": [
      "0\n",
      "/media/yuncong/BstemAtlasData/CSHL_data_processed/CHATM3/CHATM3_thumbnail_NtbNormalized/CHATM3_slide13_2018_02_18-S2_thumbnail_NtbNormalized.tif\n",
      "/media/yuncong/BstemAtlasData/CSHL_data_processed/CHATM3/CHATM3_thumbnail_NtbNormalized/CHATM3_slide13_2018_02_18-S2_thumbnail_NtbNormalized.tif\n",
      "aws s3 cp \"/media/yuncong/BstemAtlasData/CSHL_data_processed/CHATM3/CHATM3_thumbnail_mask/CHATM3_slide13_2018_02_18-S2_thumbnail_mask.png\" \"s3://mousebrainatlas-data/CSHL_data_processed/CHATM3/CHATM3_thumbnail_mask/CHATM3_slide13_2018_02_18-S2_thumbnail_mask.png\"\n"
     ]
    },
    {
     "name": "stderr",
     "output_type": "stream",
     "text": [
      "Not using image_cache.\n",
      "Not using image_cache.\n"
     ]
    },
    {
     "name": "stdout",
     "output_type": "stream",
     "text": [
      "0\n",
      "/media/yuncong/BstemAtlasData/CSHL_data_processed/CHATM3/CHATM3_thumbnail_NtbNormalized/CHATM3_slide14_2018_02_18-S2_thumbnail_NtbNormalized.tif\n",
      "/media/yuncong/BstemAtlasData/CSHL_data_processed/CHATM3/CHATM3_thumbnail_NtbNormalized/CHATM3_slide14_2018_02_18-S2_thumbnail_NtbNormalized.tif\n",
      "aws s3 cp \"/media/yuncong/BstemAtlasData/CSHL_data_processed/CHATM3/CHATM3_thumbnail_mask/CHATM3_slide14_2018_02_18-S2_thumbnail_mask.png\" \"s3://mousebrainatlas-data/CSHL_data_processed/CHATM3/CHATM3_thumbnail_mask/CHATM3_slide14_2018_02_18-S2_thumbnail_mask.png\"\n"
     ]
    },
    {
     "name": "stderr",
     "output_type": "stream",
     "text": [
      "Not using image_cache.\n",
      "Not using image_cache.\n"
     ]
    },
    {
     "name": "stdout",
     "output_type": "stream",
     "text": [
      "0\n",
      "/media/yuncong/BstemAtlasData/CSHL_data_processed/CHATM3/CHATM3_thumbnail_NtbNormalized/CHATM3_slide13_2018_02_18-S3_thumbnail_NtbNormalized.tif\n",
      "/media/yuncong/BstemAtlasData/CSHL_data_processed/CHATM3/CHATM3_thumbnail_NtbNormalized/CHATM3_slide13_2018_02_18-S3_thumbnail_NtbNormalized.tif\n",
      "aws s3 cp \"/media/yuncong/BstemAtlasData/CSHL_data_processed/CHATM3/CHATM3_thumbnail_mask/CHATM3_slide13_2018_02_18-S3_thumbnail_mask.png\" \"s3://mousebrainatlas-data/CSHL_data_processed/CHATM3/CHATM3_thumbnail_mask/CHATM3_slide13_2018_02_18-S3_thumbnail_mask.png\"\n"
     ]
    },
    {
     "name": "stderr",
     "output_type": "stream",
     "text": [
      "Not using image_cache.\n",
      "Not using image_cache.\n"
     ]
    },
    {
     "name": "stdout",
     "output_type": "stream",
     "text": [
      "0\n",
      "/media/yuncong/BstemAtlasData/CSHL_data_processed/CHATM3/CHATM3_thumbnail_NtbNormalized/CHATM3_slide14_2018_02_18-S3_thumbnail_NtbNormalized.tif\n",
      "/media/yuncong/BstemAtlasData/CSHL_data_processed/CHATM3/CHATM3_thumbnail_NtbNormalized/CHATM3_slide14_2018_02_18-S3_thumbnail_NtbNormalized.tif\n",
      "aws s3 cp \"/media/yuncong/BstemAtlasData/CSHL_data_processed/CHATM3/CHATM3_thumbnail_mask/CHATM3_slide14_2018_02_18-S3_thumbnail_mask.png\" \"s3://mousebrainatlas-data/CSHL_data_processed/CHATM3/CHATM3_thumbnail_mask/CHATM3_slide14_2018_02_18-S3_thumbnail_mask.png\"\n"
     ]
    },
    {
     "name": "stderr",
     "output_type": "stream",
     "text": [
      "Not using image_cache.\n",
      "Not using image_cache.\n"
     ]
    },
    {
     "name": "stdout",
     "output_type": "stream",
     "text": [
      "0\n",
      "/media/yuncong/BstemAtlasData/CSHL_data_processed/CHATM3/CHATM3_thumbnail_NtbNormalized/CHATM3_slide16_2018_02_17-S1_thumbnail_NtbNormalized.tif\n",
      "/media/yuncong/BstemAtlasData/CSHL_data_processed/CHATM3/CHATM3_thumbnail_NtbNormalized/CHATM3_slide16_2018_02_17-S1_thumbnail_NtbNormalized.tif\n",
      "aws s3 cp \"/media/yuncong/BstemAtlasData/CSHL_data_processed/CHATM3/CHATM3_thumbnail_mask/CHATM3_slide16_2018_02_17-S1_thumbnail_mask.png\" \"s3://mousebrainatlas-data/CSHL_data_processed/CHATM3/CHATM3_thumbnail_mask/CHATM3_slide16_2018_02_17-S1_thumbnail_mask.png\"\n"
     ]
    },
    {
     "name": "stderr",
     "output_type": "stream",
     "text": [
      "Not using image_cache.\n",
      "Not using image_cache.\n"
     ]
    },
    {
     "name": "stdout",
     "output_type": "stream",
     "text": [
      "0\n",
      "/media/yuncong/BstemAtlasData/CSHL_data_processed/CHATM3/CHATM3_thumbnail_NtbNormalized/CHATM3_slide15_2018_02_18-S2_thumbnail_NtbNormalized.tif\n",
      "/media/yuncong/BstemAtlasData/CSHL_data_processed/CHATM3/CHATM3_thumbnail_NtbNormalized/CHATM3_slide15_2018_02_18-S2_thumbnail_NtbNormalized.tif\n",
      "aws s3 cp \"/media/yuncong/BstemAtlasData/CSHL_data_processed/CHATM3/CHATM3_thumbnail_mask/CHATM3_slide15_2018_02_18-S2_thumbnail_mask.png\" \"s3://mousebrainatlas-data/CSHL_data_processed/CHATM3/CHATM3_thumbnail_mask/CHATM3_slide15_2018_02_18-S2_thumbnail_mask.png\"\n"
     ]
    },
    {
     "name": "stderr",
     "output_type": "stream",
     "text": [
      "Not using image_cache.\n",
      "Not using image_cache.\n"
     ]
    },
    {
     "name": "stdout",
     "output_type": "stream",
     "text": [
      "0\n",
      "/media/yuncong/BstemAtlasData/CSHL_data_processed/CHATM3/CHATM3_thumbnail_NtbNormalized/CHATM3_slide16_2018_02_17-S2_thumbnail_NtbNormalized.tif\n",
      "/media/yuncong/BstemAtlasData/CSHL_data_processed/CHATM3/CHATM3_thumbnail_NtbNormalized/CHATM3_slide16_2018_02_17-S2_thumbnail_NtbNormalized.tif\n",
      "aws s3 cp \"/media/yuncong/BstemAtlasData/CSHL_data_processed/CHATM3/CHATM3_thumbnail_mask/CHATM3_slide16_2018_02_17-S2_thumbnail_mask.png\" \"s3://mousebrainatlas-data/CSHL_data_processed/CHATM3/CHATM3_thumbnail_mask/CHATM3_slide16_2018_02_17-S2_thumbnail_mask.png\"\n"
     ]
    },
    {
     "name": "stderr",
     "output_type": "stream",
     "text": [
      "Not using image_cache.\n",
      "Not using image_cache.\n"
     ]
    },
    {
     "name": "stdout",
     "output_type": "stream",
     "text": [
      "0\n",
      "/media/yuncong/BstemAtlasData/CSHL_data_processed/CHATM3/CHATM3_thumbnail_NtbNormalized/CHATM3_slide15_2018_02_18-S3_thumbnail_NtbNormalized.tif\n",
      "/media/yuncong/BstemAtlasData/CSHL_data_processed/CHATM3/CHATM3_thumbnail_NtbNormalized/CHATM3_slide15_2018_02_18-S3_thumbnail_NtbNormalized.tif\n",
      "aws s3 cp \"/media/yuncong/BstemAtlasData/CSHL_data_processed/CHATM3/CHATM3_thumbnail_mask/CHATM3_slide15_2018_02_18-S3_thumbnail_mask.png\" \"s3://mousebrainatlas-data/CSHL_data_processed/CHATM3/CHATM3_thumbnail_mask/CHATM3_slide15_2018_02_18-S3_thumbnail_mask.png\"\n"
     ]
    },
    {
     "name": "stderr",
     "output_type": "stream",
     "text": [
      "Not using image_cache.\n",
      "Not using image_cache.\n"
     ]
    },
    {
     "name": "stdout",
     "output_type": "stream",
     "text": [
      "0\n",
      "/media/yuncong/BstemAtlasData/CSHL_data_processed/CHATM3/CHATM3_thumbnail_NtbNormalized/CHATM3_slide17_2018_02_17-S1_thumbnail_NtbNormalized.tif\n",
      "/media/yuncong/BstemAtlasData/CSHL_data_processed/CHATM3/CHATM3_thumbnail_NtbNormalized/CHATM3_slide17_2018_02_17-S1_thumbnail_NtbNormalized.tif\n",
      "aws s3 cp \"/media/yuncong/BstemAtlasData/CSHL_data_processed/CHATM3/CHATM3_thumbnail_mask/CHATM3_slide17_2018_02_17-S1_thumbnail_mask.png\" \"s3://mousebrainatlas-data/CSHL_data_processed/CHATM3/CHATM3_thumbnail_mask/CHATM3_slide17_2018_02_17-S1_thumbnail_mask.png\"\n"
     ]
    },
    {
     "name": "stderr",
     "output_type": "stream",
     "text": [
      "Not using image_cache.\n",
      "Not using image_cache.\n"
     ]
    },
    {
     "name": "stdout",
     "output_type": "stream",
     "text": [
      "0\n",
      "/media/yuncong/BstemAtlasData/CSHL_data_processed/CHATM3/CHATM3_thumbnail_NtbNormalized/CHATM3_slide18_2018_02_17-S1_thumbnail_NtbNormalized.tif\n",
      "/media/yuncong/BstemAtlasData/CSHL_data_processed/CHATM3/CHATM3_thumbnail_NtbNormalized/CHATM3_slide18_2018_02_17-S1_thumbnail_NtbNormalized.tif\n",
      "aws s3 cp \"/media/yuncong/BstemAtlasData/CSHL_data_processed/CHATM3/CHATM3_thumbnail_mask/CHATM3_slide18_2018_02_17-S1_thumbnail_mask.png\" \"s3://mousebrainatlas-data/CSHL_data_processed/CHATM3/CHATM3_thumbnail_mask/CHATM3_slide18_2018_02_17-S1_thumbnail_mask.png\"\n"
     ]
    },
    {
     "name": "stderr",
     "output_type": "stream",
     "text": [
      "Not using image_cache.\n",
      "Not using image_cache.\n"
     ]
    },
    {
     "name": "stdout",
     "output_type": "stream",
     "text": [
      "0\n",
      "/media/yuncong/BstemAtlasData/CSHL_data_processed/CHATM3/CHATM3_thumbnail_NtbNormalized/CHATM3_slide17_2018_02_17-S2_thumbnail_NtbNormalized.tif\n",
      "/media/yuncong/BstemAtlasData/CSHL_data_processed/CHATM3/CHATM3_thumbnail_NtbNormalized/CHATM3_slide17_2018_02_17-S2_thumbnail_NtbNormalized.tif\n",
      "aws s3 cp \"/media/yuncong/BstemAtlasData/CSHL_data_processed/CHATM3/CHATM3_thumbnail_mask/CHATM3_slide17_2018_02_17-S2_thumbnail_mask.png\" \"s3://mousebrainatlas-data/CSHL_data_processed/CHATM3/CHATM3_thumbnail_mask/CHATM3_slide17_2018_02_17-S2_thumbnail_mask.png\"\n"
     ]
    },
    {
     "name": "stderr",
     "output_type": "stream",
     "text": [
      "Not using image_cache.\n",
      "Not using image_cache.\n"
     ]
    },
    {
     "name": "stdout",
     "output_type": "stream",
     "text": [
      "0\n",
      "/media/yuncong/BstemAtlasData/CSHL_data_processed/CHATM3/CHATM3_thumbnail_NtbNormalized/CHATM3_slide18_2018_02_18-S2_thumbnail_NtbNormalized.tif\n",
      "/media/yuncong/BstemAtlasData/CSHL_data_processed/CHATM3/CHATM3_thumbnail_NtbNormalized/CHATM3_slide18_2018_02_18-S2_thumbnail_NtbNormalized.tif\n",
      "aws s3 cp \"/media/yuncong/BstemAtlasData/CSHL_data_processed/CHATM3/CHATM3_thumbnail_mask/CHATM3_slide18_2018_02_18-S2_thumbnail_mask.png\" \"s3://mousebrainatlas-data/CSHL_data_processed/CHATM3/CHATM3_thumbnail_mask/CHATM3_slide18_2018_02_18-S2_thumbnail_mask.png\"\n"
     ]
    },
    {
     "name": "stderr",
     "output_type": "stream",
     "text": [
      "Not using image_cache.\n",
      "Not using image_cache.\n"
     ]
    },
    {
     "name": "stdout",
     "output_type": "stream",
     "text": [
      "0\n",
      "/media/yuncong/BstemAtlasData/CSHL_data_processed/CHATM3/CHATM3_thumbnail_NtbNormalized/CHATM3_slide17_2018_02_17-S3_thumbnail_NtbNormalized.tif\n",
      "/media/yuncong/BstemAtlasData/CSHL_data_processed/CHATM3/CHATM3_thumbnail_NtbNormalized/CHATM3_slide17_2018_02_17-S3_thumbnail_NtbNormalized.tif\n",
      "aws s3 cp \"/media/yuncong/BstemAtlasData/CSHL_data_processed/CHATM3/CHATM3_thumbnail_mask/CHATM3_slide17_2018_02_17-S3_thumbnail_mask.png\" \"s3://mousebrainatlas-data/CSHL_data_processed/CHATM3/CHATM3_thumbnail_mask/CHATM3_slide17_2018_02_17-S3_thumbnail_mask.png\"\n"
     ]
    },
    {
     "name": "stderr",
     "output_type": "stream",
     "text": [
      "Not using image_cache.\n",
      "Not using image_cache.\n"
     ]
    },
    {
     "name": "stdout",
     "output_type": "stream",
     "text": [
      "0\n",
      "/media/yuncong/BstemAtlasData/CSHL_data_processed/CHATM3/CHATM3_thumbnail_NtbNormalized/CHATM3_slide18_2018_02_18-S3_thumbnail_NtbNormalized.tif\n",
      "/media/yuncong/BstemAtlasData/CSHL_data_processed/CHATM3/CHATM3_thumbnail_NtbNormalized/CHATM3_slide18_2018_02_18-S3_thumbnail_NtbNormalized.tif\n",
      "aws s3 cp \"/media/yuncong/BstemAtlasData/CSHL_data_processed/CHATM3/CHATM3_thumbnail_mask/CHATM3_slide18_2018_02_18-S3_thumbnail_mask.png\" \"s3://mousebrainatlas-data/CSHL_data_processed/CHATM3/CHATM3_thumbnail_mask/CHATM3_slide18_2018_02_18-S3_thumbnail_mask.png\"\n"
     ]
    },
    {
     "name": "stderr",
     "output_type": "stream",
     "text": [
      "Not using image_cache.\n",
      "Not using image_cache.\n"
     ]
    },
    {
     "name": "stdout",
     "output_type": "stream",
     "text": [
      "0\n",
      "/media/yuncong/BstemAtlasData/CSHL_data_processed/CHATM3/CHATM3_thumbnail_NtbNormalized/CHATM3_slide19_2018_02_18-S1_thumbnail_NtbNormalized.tif\n",
      "/media/yuncong/BstemAtlasData/CSHL_data_processed/CHATM3/CHATM3_thumbnail_NtbNormalized/CHATM3_slide19_2018_02_18-S1_thumbnail_NtbNormalized.tif\n",
      "aws s3 cp \"/media/yuncong/BstemAtlasData/CSHL_data_processed/CHATM3/CHATM3_thumbnail_mask/CHATM3_slide19_2018_02_18-S1_thumbnail_mask.png\" \"s3://mousebrainatlas-data/CSHL_data_processed/CHATM3/CHATM3_thumbnail_mask/CHATM3_slide19_2018_02_18-S1_thumbnail_mask.png\"\n"
     ]
    },
    {
     "name": "stderr",
     "output_type": "stream",
     "text": [
      "Not using image_cache.\n",
      "Not using image_cache.\n"
     ]
    },
    {
     "name": "stdout",
     "output_type": "stream",
     "text": [
      "0\n",
      "/media/yuncong/BstemAtlasData/CSHL_data_processed/CHATM3/CHATM3_thumbnail_NtbNormalized/CHATM3_slide20_2018_02_17-S1_thumbnail_NtbNormalized.tif\n",
      "/media/yuncong/BstemAtlasData/CSHL_data_processed/CHATM3/CHATM3_thumbnail_NtbNormalized/CHATM3_slide20_2018_02_17-S1_thumbnail_NtbNormalized.tif\n",
      "aws s3 cp \"/media/yuncong/BstemAtlasData/CSHL_data_processed/CHATM3/CHATM3_thumbnail_mask/CHATM3_slide20_2018_02_17-S1_thumbnail_mask.png\" \"s3://mousebrainatlas-data/CSHL_data_processed/CHATM3/CHATM3_thumbnail_mask/CHATM3_slide20_2018_02_17-S1_thumbnail_mask.png\"\n"
     ]
    },
    {
     "name": "stderr",
     "output_type": "stream",
     "text": [
      "Not using image_cache.\n",
      "Not using image_cache.\n"
     ]
    },
    {
     "name": "stdout",
     "output_type": "stream",
     "text": [
      "0\n",
      "/media/yuncong/BstemAtlasData/CSHL_data_processed/CHATM3/CHATM3_thumbnail_NtbNormalized/CHATM3_slide19_2018_02_18-S2_thumbnail_NtbNormalized.tif\n",
      "/media/yuncong/BstemAtlasData/CSHL_data_processed/CHATM3/CHATM3_thumbnail_NtbNormalized/CHATM3_slide19_2018_02_18-S2_thumbnail_NtbNormalized.tif\n",
      "aws s3 cp \"/media/yuncong/BstemAtlasData/CSHL_data_processed/CHATM3/CHATM3_thumbnail_mask/CHATM3_slide19_2018_02_18-S2_thumbnail_mask.png\" \"s3://mousebrainatlas-data/CSHL_data_processed/CHATM3/CHATM3_thumbnail_mask/CHATM3_slide19_2018_02_18-S2_thumbnail_mask.png\"\n"
     ]
    },
    {
     "name": "stderr",
     "output_type": "stream",
     "text": [
      "Not using image_cache.\n",
      "Not using image_cache.\n"
     ]
    },
    {
     "name": "stdout",
     "output_type": "stream",
     "text": [
      "0\n",
      "/media/yuncong/BstemAtlasData/CSHL_data_processed/CHATM3/CHATM3_thumbnail_NtbNormalized/CHATM3_slide19_2018_02_18-S3_thumbnail_NtbNormalized.tif\n",
      "/media/yuncong/BstemAtlasData/CSHL_data_processed/CHATM3/CHATM3_thumbnail_NtbNormalized/CHATM3_slide19_2018_02_18-S3_thumbnail_NtbNormalized.tif\n",
      "aws s3 cp \"/media/yuncong/BstemAtlasData/CSHL_data_processed/CHATM3/CHATM3_thumbnail_mask/CHATM3_slide19_2018_02_18-S3_thumbnail_mask.png\" \"s3://mousebrainatlas-data/CSHL_data_processed/CHATM3/CHATM3_thumbnail_mask/CHATM3_slide19_2018_02_18-S3_thumbnail_mask.png\"\n"
     ]
    },
    {
     "name": "stderr",
     "output_type": "stream",
     "text": [
      "Not using image_cache.\n",
      "Not using image_cache.\n"
     ]
    },
    {
     "name": "stdout",
     "output_type": "stream",
     "text": [
      "0\n",
      "/media/yuncong/BstemAtlasData/CSHL_data_processed/CHATM3/CHATM3_thumbnail_NtbNormalized/CHATM3_slide20_2018_02_17-S3_thumbnail_NtbNormalized.tif\n",
      "/media/yuncong/BstemAtlasData/CSHL_data_processed/CHATM3/CHATM3_thumbnail_NtbNormalized/CHATM3_slide20_2018_02_17-S3_thumbnail_NtbNormalized.tif\n"
     ]
    },
    {
     "name": "stderr",
     "output_type": "stream",
     "text": [
      "Not using image_cache.\n",
      "Not using image_cache.\n"
     ]
    },
    {
     "name": "stdout",
     "output_type": "stream",
     "text": [
      "aws s3 cp \"/media/yuncong/BstemAtlasData/CSHL_data_processed/CHATM3/CHATM3_thumbnail_mask/CHATM3_slide20_2018_02_17-S3_thumbnail_mask.png\" \"s3://mousebrainatlas-data/CSHL_data_processed/CHATM3/CHATM3_thumbnail_mask/CHATM3_slide20_2018_02_17-S3_thumbnail_mask.png\"\n",
      "0\n",
      "/media/yuncong/BstemAtlasData/CSHL_data_processed/CHATM3/CHATM3_thumbnail_NtbNormalized/CHATM3_slide21_2018_02_17-S1_thumbnail_NtbNormalized.tif\n",
      "/media/yuncong/BstemAtlasData/CSHL_data_processed/CHATM3/CHATM3_thumbnail_NtbNormalized/CHATM3_slide21_2018_02_17-S1_thumbnail_NtbNormalized.tif\n",
      "aws s3 cp \"/media/yuncong/BstemAtlasData/CSHL_data_processed/CHATM3/CHATM3_thumbnail_mask/CHATM3_slide21_2018_02_17-S1_thumbnail_mask.png\" \"s3://mousebrainatlas-data/CSHL_data_processed/CHATM3/CHATM3_thumbnail_mask/CHATM3_slide21_2018_02_17-S1_thumbnail_mask.png\""
     ]
    },
    {
     "name": "stderr",
     "output_type": "stream",
     "text": [
      "Not using image_cache.\n",
      "Not using image_cache.\n"
     ]
    },
    {
     "name": "stdout",
     "output_type": "stream",
     "text": [
      "\n",
      "0\n",
      "/media/yuncong/BstemAtlasData/CSHL_data_processed/CHATM3/CHATM3_thumbnail_NtbNormalized/CHATM3_slide22_2018_02_17-S1_thumbnail_NtbNormalized.tif\n",
      "/media/yuncong/BstemAtlasData/CSHL_data_processed/CHATM3/CHATM3_thumbnail_NtbNormalized/CHATM3_slide22_2018_02_17-S1_thumbnail_NtbNormalized.tif\n",
      "aws s3 cp \"/media/yuncong/BstemAtlasData/CSHL_data_processed/CHATM3/CHATM3_thumbnail_mask/CHATM3_slide22_2018_02_17-S1_thumbnail_mask.png\" \"s3://mousebrainatlas-data/CSHL_data_processed/CHATM3/CHATM3_thumbnail_mask/CHATM3_slide22_2018_02_17-S1_thumbnail_mask.png\"\n"
     ]
    },
    {
     "name": "stderr",
     "output_type": "stream",
     "text": [
      "Not using image_cache.\n",
      "Not using image_cache.\n"
     ]
    },
    {
     "name": "stdout",
     "output_type": "stream",
     "text": [
      "0\n",
      "/media/yuncong/BstemAtlasData/CSHL_data_processed/CHATM3/CHATM3_thumbnail_NtbNormalized/CHATM3_slide21_2018_02_17-S2_thumbnail_NtbNormalized.tif\n",
      "/media/yuncong/BstemAtlasData/CSHL_data_processed/CHATM3/CHATM3_thumbnail_NtbNormalized/CHATM3_slide21_2018_02_17-S2_thumbnail_NtbNormalized.tif\n",
      "aws s3 cp \"/media/yuncong/BstemAtlasData/CSHL_data_processed/CHATM3/CHATM3_thumbnail_mask/CHATM3_slide21_2018_02_17-S2_thumbnail_mask.png\" \"s3://mousebrainatlas-data/CSHL_data_processed/CHATM3/CHATM3_thumbnail_mask/CHATM3_slide21_2018_02_17-S2_thumbnail_mask.png\""
     ]
    },
    {
     "name": "stderr",
     "output_type": "stream",
     "text": [
      "Not using image_cache.\n",
      "Not using image_cache.\n"
     ]
    },
    {
     "name": "stdout",
     "output_type": "stream",
     "text": [
      "\n",
      "0\n",
      "/media/yuncong/BstemAtlasData/CSHL_data_processed/CHATM3/CHATM3_thumbnail_NtbNormalized/CHATM3_slide22_2018_02_17-S2_thumbnail_NtbNormalized.tif\n",
      "/media/yuncong/BstemAtlasData/CSHL_data_processed/CHATM3/CHATM3_thumbnail_NtbNormalized/CHATM3_slide22_2018_02_17-S2_thumbnail_NtbNormalized.tif\n",
      "aws s3 cp \"/media/yuncong/BstemAtlasData/CSHL_data_processed/CHATM3/CHATM3_thumbnail_mask/CHATM3_slide22_2018_02_17-S2_thumbnail_mask.png\" \"s3://mousebrainatlas-data/CSHL_data_processed/CHATM3/CHATM3_thumbnail_mask/CHATM3_slide22_2018_02_17-S2_thumbnail_mask.png\"\n"
     ]
    },
    {
     "name": "stderr",
     "output_type": "stream",
     "text": [
      "Not using image_cache.\n",
      "Not using image_cache.\n"
     ]
    },
    {
     "name": "stdout",
     "output_type": "stream",
     "text": [
      "0\n",
      "/media/yuncong/BstemAtlasData/CSHL_data_processed/CHATM3/CHATM3_thumbnail_NtbNormalized/CHATM3_slide21_2018_02_17-S3_thumbnail_NtbNormalized.tif\n",
      "/media/yuncong/BstemAtlasData/CSHL_data_processed/CHATM3/CHATM3_thumbnail_NtbNormalized/CHATM3_slide21_2018_02_17-S3_thumbnail_NtbNormalized.tif\n",
      "aws s3 cp \"/media/yuncong/BstemAtlasData/CSHL_data_processed/CHATM3/CHATM3_thumbnail_mask/CHATM3_slide21_2018_02_17-S3_thumbnail_mask.png\" \"s3://mousebrainatlas-data/CSHL_data_processed/CHATM3/CHATM3_thumbnail_mask/CHATM3_slide21_2018_02_17-S3_thumbnail_mask.png\"\n"
     ]
    },
    {
     "name": "stderr",
     "output_type": "stream",
     "text": [
      "Not using image_cache.\n",
      "Not using image_cache.\n"
     ]
    },
    {
     "name": "stdout",
     "output_type": "stream",
     "text": [
      "0\n",
      "/media/yuncong/BstemAtlasData/CSHL_data_processed/CHATM3/CHATM3_thumbnail_NtbNormalized/CHATM3_slide22_2018_02_17-S3_thumbnail_NtbNormalized.tif\n",
      "/media/yuncong/BstemAtlasData/CSHL_data_processed/CHATM3/CHATM3_thumbnail_NtbNormalized/CHATM3_slide22_2018_02_17-S3_thumbnail_NtbNormalized.tif\n",
      "aws s3 cp \"/media/yuncong/BstemAtlasData/CSHL_data_processed/CHATM3/CHATM3_thumbnail_mask/CHATM3_slide22_2018_02_17-S3_thumbnail_mask.png\" \"s3://mousebrainatlas-data/CSHL_data_processed/CHATM3/CHATM3_thumbnail_mask/CHATM3_slide22_2018_02_17-S3_thumbnail_mask.png\"\n"
     ]
    },
    {
     "name": "stderr",
     "output_type": "stream",
     "text": [
      "Not using image_cache.\n",
      "Not using image_cache.\n"
     ]
    },
    {
     "name": "stdout",
     "output_type": "stream",
     "text": [
      "0\n",
      "/media/yuncong/BstemAtlasData/CSHL_data_processed/CHATM3/CHATM3_thumbnail_NtbNormalized/CHATM3_slide23_2018_02_17-S1_thumbnail_NtbNormalized.tif\n",
      "/media/yuncong/BstemAtlasData/CSHL_data_processed/CHATM3/CHATM3_thumbnail_NtbNormalized/CHATM3_slide23_2018_02_17-S1_thumbnail_NtbNormalized.tif\n",
      "aws s3 cp \"/media/yuncong/BstemAtlasData/CSHL_data_processed/CHATM3/CHATM3_thumbnail_mask/CHATM3_slide23_2018_02_17-S1_thumbnail_mask.png\" \"s3://mousebrainatlas-data/CSHL_data_processed/CHATM3/CHATM3_thumbnail_mask/CHATM3_slide23_2018_02_17-S1_thumbnail_mask.png\"\n"
     ]
    },
    {
     "name": "stderr",
     "output_type": "stream",
     "text": [
      "Not using image_cache.\n",
      "Not using image_cache.\n"
     ]
    },
    {
     "name": "stdout",
     "output_type": "stream",
     "text": [
      "0\n",
      "/media/yuncong/BstemAtlasData/CSHL_data_processed/CHATM3/CHATM3_thumbnail_NtbNormalized/CHATM3_slide24_2018_02_17-S1_thumbnail_NtbNormalized.tif\n",
      "/media/yuncong/BstemAtlasData/CSHL_data_processed/CHATM3/CHATM3_thumbnail_NtbNormalized/CHATM3_slide24_2018_02_17-S1_thumbnail_NtbNormalized.tif\n",
      "aws s3 cp \"/media/yuncong/BstemAtlasData/CSHL_data_processed/CHATM3/CHATM3_thumbnail_mask/CHATM3_slide24_2018_02_17-S1_thumbnail_mask.png\" \"s3://mousebrainatlas-data/CSHL_data_processed/CHATM3/CHATM3_thumbnail_mask/CHATM3_slide24_2018_02_17-S1_thumbnail_mask.png\"\n"
     ]
    },
    {
     "name": "stderr",
     "output_type": "stream",
     "text": [
      "Not using image_cache.\n",
      "Not using image_cache.\n"
     ]
    },
    {
     "name": "stdout",
     "output_type": "stream",
     "text": [
      "0\n",
      "/media/yuncong/BstemAtlasData/CSHL_data_processed/CHATM3/CHATM3_thumbnail_NtbNormalized/CHATM3_slide23_2018_02_17-S2_thumbnail_NtbNormalized.tif\n",
      "/media/yuncong/BstemAtlasData/CSHL_data_processed/CHATM3/CHATM3_thumbnail_NtbNormalized/CHATM3_slide23_2018_02_17-S2_thumbnail_NtbNormalized.tif\n",
      "aws s3 cp \"/media/yuncong/BstemAtlasData/CSHL_data_processed/CHATM3/CHATM3_thumbnail_mask/CHATM3_slide23_2018_02_17-S2_thumbnail_mask.png\" \"s3://mousebrainatlas-data/CSHL_data_processed/CHATM3/CHATM3_thumbnail_mask/CHATM3_slide23_2018_02_17-S2_thumbnail_mask.png\"\n"
     ]
    },
    {
     "name": "stderr",
     "output_type": "stream",
     "text": [
      "Not using image_cache.\n",
      "Not using image_cache.\n"
     ]
    },
    {
     "name": "stdout",
     "output_type": "stream",
     "text": [
      "0\n",
      "/media/yuncong/BstemAtlasData/CSHL_data_processed/CHATM3/CHATM3_thumbnail_NtbNormalized/CHATM3_slide24_2018_02_17-S2_thumbnail_NtbNormalized.tif\n",
      "/media/yuncong/BstemAtlasData/CSHL_data_processed/CHATM3/CHATM3_thumbnail_NtbNormalized/CHATM3_slide24_2018_02_17-S2_thumbnail_NtbNormalized.tif\n",
      "aws s3 cp \"/media/yuncong/BstemAtlasData/CSHL_data_processed/CHATM3/CHATM3_thumbnail_mask/CHATM3_slide24_2018_02_17-S2_thumbnail_mask.png\" \"s3://mousebrainatlas-data/CSHL_data_processed/CHATM3/CHATM3_thumbnail_mask/CHATM3_slide24_2018_02_17-S2_thumbnail_mask.png\"\n"
     ]
    },
    {
     "name": "stderr",
     "output_type": "stream",
     "text": [
      "Not using image_cache.\n",
      "Not using image_cache.\n"
     ]
    },
    {
     "name": "stdout",
     "output_type": "stream",
     "text": [
      "0\n",
      "/media/yuncong/BstemAtlasData/CSHL_data_processed/CHATM3/CHATM3_thumbnail_NtbNormalized/CHATM3_slide23_2018_02_17-S3_thumbnail_NtbNormalized.tif\n",
      "/media/yuncong/BstemAtlasData/CSHL_data_processed/CHATM3/CHATM3_thumbnail_NtbNormalized/CHATM3_slide23_2018_02_17-S3_thumbnail_NtbNormalized.tif\n",
      "aws s3 cp \"/media/yuncong/BstemAtlasData/CSHL_data_processed/CHATM3/CHATM3_thumbnail_mask/CHATM3_slide23_2018_02_17-S3_thumbnail_mask.png\" \"s3://mousebrainatlas-data/CSHL_data_processed/CHATM3/CHATM3_thumbnail_mask/CHATM3_slide23_2018_02_17-S3_thumbnail_mask.png\"\n"
     ]
    },
    {
     "name": "stderr",
     "output_type": "stream",
     "text": [
      "Not using image_cache.\n",
      "Not using image_cache.\n"
     ]
    },
    {
     "name": "stdout",
     "output_type": "stream",
     "text": [
      "0\n",
      "/media/yuncong/BstemAtlasData/CSHL_data_processed/CHATM3/CHATM3_thumbnail_NtbNormalized/CHATM3_slide24_2018_02_17-S3_thumbnail_NtbNormalized.tif\n",
      "/media/yuncong/BstemAtlasData/CSHL_data_processed/CHATM3/CHATM3_thumbnail_NtbNormalized/CHATM3_slide24_2018_02_17-S3_thumbnail_NtbNormalized.tif\n"
     ]
    },
    {
     "name": "stderr",
     "output_type": "stream",
     "text": [
      "Not using image_cache.\n",
      "Not using image_cache.\n"
     ]
    },
    {
     "name": "stdout",
     "output_type": "stream",
     "text": [
      "aws s3 cp \"/media/yuncong/BstemAtlasData/CSHL_data_processed/CHATM3/CHATM3_thumbnail_mask/CHATM3_slide24_2018_02_17-S3_thumbnail_mask.png\" \"s3://mousebrainatlas-data/CSHL_data_processed/CHATM3/CHATM3_thumbnail_mask/CHATM3_slide24_2018_02_17-S3_thumbnail_mask.png\"\n",
      "0\n",
      "/media/yuncong/BstemAtlasData/CSHL_data_processed/CHATM3/CHATM3_thumbnail_NtbNormalized/CHATM3_slide25_2018_02_17-S1_thumbnail_NtbNormalized.tif\n",
      "/media/yuncong/BstemAtlasData/CSHL_data_processed/CHATM3/CHATM3_thumbnail_NtbNormalized/CHATM3_slide25_2018_02_17-S1_thumbnail_NtbNormalized.tif\n",
      "aws s3 cp \"/media/yuncong/BstemAtlasData/CSHL_data_processed/CHATM3/CHATM3_thumbnail_mask/CHATM3_slide25_2018_02_17-S1_thumbnail_mask.png\" \"s3://mousebrainatlas-data/CSHL_data_processed/CHATM3/CHATM3_thumbnail_mask/CHATM3_slide25_2018_02_17-S1_thumbnail_mask.png\"\n"
     ]
    },
    {
     "name": "stderr",
     "output_type": "stream",
     "text": [
      "Not using image_cache.\n",
      "Not using image_cache.\n"
     ]
    },
    {
     "name": "stdout",
     "output_type": "stream",
     "text": [
      "0\n",
      "/media/yuncong/BstemAtlasData/CSHL_data_processed/CHATM3/CHATM3_thumbnail_NtbNormalized/CHATM3_slide26_2018_02_17-S1_thumbnail_NtbNormalized.tif\n",
      "/media/yuncong/BstemAtlasData/CSHL_data_processed/CHATM3/CHATM3_thumbnail_NtbNormalized/CHATM3_slide26_2018_02_17-S1_thumbnail_NtbNormalized.tif\n"
     ]
    },
    {
     "name": "stderr",
     "output_type": "stream",
     "text": [
      "Not using image_cache.\n",
      "Not using image_cache.\n"
     ]
    },
    {
     "name": "stdout",
     "output_type": "stream",
     "text": [
      "aws s3 cp \"/media/yuncong/BstemAtlasData/CSHL_data_processed/CHATM3/CHATM3_thumbnail_mask/CHATM3_slide26_2018_02_17-S1_thumbnail_mask.png\" \"s3://mousebrainatlas-data/CSHL_data_processed/CHATM3/CHATM3_thumbnail_mask/CHATM3_slide26_2018_02_17-S1_thumbnail_mask.png\"\n",
      "0\n",
      "/media/yuncong/BstemAtlasData/CSHL_data_processed/CHATM3/CHATM3_thumbnail_NtbNormalized/CHATM3_slide25_2018_02_17-S2_thumbnail_NtbNormalized.tif\n",
      "/media/yuncong/BstemAtlasData/CSHL_data_processed/CHATM3/CHATM3_thumbnail_NtbNormalized/CHATM3_slide25_2018_02_17-S2_thumbnail_NtbNormalized.tif\n",
      "aws s3 cp \"/media/yuncong/BstemAtlasData/CSHL_data_processed/CHATM3/CHATM3_thumbnail_mask/CHATM3_slide25_2018_02_17-S2_thumbnail_mask.png\" \"s3://mousebrainatlas-data/CSHL_data_processed/CHATM3/CHATM3_thumbnail_mask/CHATM3_slide25_2018_02_17-S2_thumbnail_mask.png\""
     ]
    },
    {
     "name": "stderr",
     "output_type": "stream",
     "text": [
      "Not using image_cache.\n",
      "Not using image_cache.\n"
     ]
    },
    {
     "name": "stdout",
     "output_type": "stream",
     "text": [
      "\n",
      "0\n",
      "/media/yuncong/BstemAtlasData/CSHL_data_processed/CHATM3/CHATM3_thumbnail_NtbNormalized/CHATM3_slide26_2018_02_17-S2_thumbnail_NtbNormalized.tif\n",
      "/media/yuncong/BstemAtlasData/CSHL_data_processed/CHATM3/CHATM3_thumbnail_NtbNormalized/CHATM3_slide26_2018_02_17-S2_thumbnail_NtbNormalized.tif\n",
      "aws s3 cp \"/media/yuncong/BstemAtlasData/CSHL_data_processed/CHATM3/CHATM3_thumbnail_mask/CHATM3_slide26_2018_02_17-S2_thumbnail_mask.png\" \"s3://mousebrainatlas-data/CSHL_data_processed/CHATM3/CHATM3_thumbnail_mask/CHATM3_slide26_2018_02_17-S2_thumbnail_mask.png\"\n"
     ]
    },
    {
     "name": "stderr",
     "output_type": "stream",
     "text": [
      "Not using image_cache.\n",
      "Not using image_cache.\n"
     ]
    },
    {
     "name": "stdout",
     "output_type": "stream",
     "text": [
      "0\n",
      "/media/yuncong/BstemAtlasData/CSHL_data_processed/CHATM3/CHATM3_thumbnail_NtbNormalized/CHATM3_slide25_2018_02_17-S3_thumbnail_NtbNormalized.tif\n",
      "/media/yuncong/BstemAtlasData/CSHL_data_processed/CHATM3/CHATM3_thumbnail_NtbNormalized/CHATM3_slide25_2018_02_17-S3_thumbnail_NtbNormalized.tif\n",
      "aws s3 cp \"/media/yuncong/BstemAtlasData/CSHL_data_processed/CHATM3/CHATM3_thumbnail_mask/CHATM3_slide25_2018_02_17-S3_thumbnail_mask.png\" \"s3://mousebrainatlas-data/CSHL_data_processed/CHATM3/CHATM3_thumbnail_mask/CHATM3_slide25_2018_02_17-S3_thumbnail_mask.png\""
     ]
    },
    {
     "name": "stderr",
     "output_type": "stream",
     "text": [
      "Not using image_cache.\n",
      "Not using image_cache.\n"
     ]
    },
    {
     "name": "stdout",
     "output_type": "stream",
     "text": [
      "\n",
      "0\n",
      "/media/yuncong/BstemAtlasData/CSHL_data_processed/CHATM3/CHATM3_thumbnail_NtbNormalized/CHATM3_slide26_2018_02_17-S3_thumbnail_NtbNormalized.tif\n",
      "/media/yuncong/BstemAtlasData/CSHL_data_processed/CHATM3/CHATM3_thumbnail_NtbNormalized/CHATM3_slide26_2018_02_17-S3_thumbnail_NtbNormalized.tif\n",
      "aws s3 cp \"/media/yuncong/BstemAtlasData/CSHL_data_processed/CHATM3/CHATM3_thumbnail_mask/CHATM3_slide26_2018_02_17-S3_thumbnail_mask.png\" \"s3://mousebrainatlas-data/CSHL_data_processed/CHATM3/CHATM3_thumbnail_mask/CHATM3_slide26_2018_02_17-S3_thumbnail_mask.png\""
     ]
    },
    {
     "name": "stderr",
     "output_type": "stream",
     "text": [
      "Not using image_cache.\n",
      "Not using image_cache.\n"
     ]
    },
    {
     "name": "stdout",
     "output_type": "stream",
     "text": [
      "\n",
      "0\n",
      "/media/yuncong/BstemAtlasData/CSHL_data_processed/CHATM3/CHATM3_thumbnail_NtbNormalized/CHATM3_slide27_2018_02_17-S1_thumbnail_NtbNormalized.tif\n",
      "/media/yuncong/BstemAtlasData/CSHL_data_processed/CHATM3/CHATM3_thumbnail_NtbNormalized/CHATM3_slide27_2018_02_17-S1_thumbnail_NtbNormalized.tif\n",
      "aws s3 cp \"/media/yuncong/BstemAtlasData/CSHL_data_processed/CHATM3/CHATM3_thumbnail_mask/CHATM3_slide27_2018_02_17-S1_thumbnail_mask.png\" \"s3://mousebrainatlas-data/CSHL_data_processed/CHATM3/CHATM3_thumbnail_mask/CHATM3_slide27_2018_02_17-S1_thumbnail_mask.png\""
     ]
    },
    {
     "name": "stderr",
     "output_type": "stream",
     "text": [
      "Not using image_cache.\n",
      "Not using image_cache.\n"
     ]
    },
    {
     "name": "stdout",
     "output_type": "stream",
     "text": [
      "\n",
      "0\n",
      "/media/yuncong/BstemAtlasData/CSHL_data_processed/CHATM3/CHATM3_thumbnail_NtbNormalized/CHATM3_slide28_2018_02_17-S1_thumbnail_NtbNormalized.tif\n",
      "/media/yuncong/BstemAtlasData/CSHL_data_processed/CHATM3/CHATM3_thumbnail_NtbNormalized/CHATM3_slide28_2018_02_17-S1_thumbnail_NtbNormalized.tif\n",
      "aws s3 cp \"/media/yuncong/BstemAtlasData/CSHL_data_processed/CHATM3/CHATM3_thumbnail_mask/CHATM3_slide28_2018_02_17-S1_thumbnail_mask.png\" \"s3://mousebrainatlas-data/CSHL_data_processed/CHATM3/CHATM3_thumbnail_mask/CHATM3_slide28_2018_02_17-S1_thumbnail_mask.png\"\n"
     ]
    },
    {
     "name": "stderr",
     "output_type": "stream",
     "text": [
      "Not using image_cache.\n",
      "Not using image_cache.\n"
     ]
    },
    {
     "name": "stdout",
     "output_type": "stream",
     "text": [
      "0\n",
      "/media/yuncong/BstemAtlasData/CSHL_data_processed/CHATM3/CHATM3_thumbnail_NtbNormalized/CHATM3_slide27_2018_02_17-S2_thumbnail_NtbNormalized.tif\n",
      "/media/yuncong/BstemAtlasData/CSHL_data_processed/CHATM3/CHATM3_thumbnail_NtbNormalized/CHATM3_slide27_2018_02_17-S2_thumbnail_NtbNormalized.tif\n",
      "aws s3 cp \"/media/yuncong/BstemAtlasData/CSHL_data_processed/CHATM3/CHATM3_thumbnail_mask/CHATM3_slide27_2018_02_17-S2_thumbnail_mask.png\" \"s3://mousebrainatlas-data/CSHL_data_processed/CHATM3/CHATM3_thumbnail_mask/CHATM3_slide27_2018_02_17-S2_thumbnail_mask.png\"\n"
     ]
    },
    {
     "name": "stderr",
     "output_type": "stream",
     "text": [
      "Not using image_cache.\n",
      "Not using image_cache.\n"
     ]
    },
    {
     "name": "stdout",
     "output_type": "stream",
     "text": [
      "0\n",
      "/media/yuncong/BstemAtlasData/CSHL_data_processed/CHATM3/CHATM3_thumbnail_NtbNormalized/CHATM3_slide28_2018_02_17-S2_thumbnail_NtbNormalized.tif\n",
      "/media/yuncong/BstemAtlasData/CSHL_data_processed/CHATM3/CHATM3_thumbnail_NtbNormalized/CHATM3_slide28_2018_02_17-S2_thumbnail_NtbNormalized.tif\n",
      "aws s3 cp \"/media/yuncong/BstemAtlasData/CSHL_data_processed/CHATM3/CHATM3_thumbnail_mask/CHATM3_slide28_2018_02_17-S2_thumbnail_mask.png\" \"s3://mousebrainatlas-data/CSHL_data_processed/CHATM3/CHATM3_thumbnail_mask/CHATM3_slide28_2018_02_17-S2_thumbnail_mask.png\"\n"
     ]
    },
    {
     "name": "stderr",
     "output_type": "stream",
     "text": [
      "Not using image_cache.\n",
      "Not using image_cache.\n"
     ]
    },
    {
     "name": "stdout",
     "output_type": "stream",
     "text": [
      "0\n",
      "/media/yuncong/BstemAtlasData/CSHL_data_processed/CHATM3/CHATM3_thumbnail_NtbNormalized/CHATM3_slide27_2018_02_17-S3_thumbnail_NtbNormalized.tif\n",
      "/media/yuncong/BstemAtlasData/CSHL_data_processed/CHATM3/CHATM3_thumbnail_NtbNormalized/CHATM3_slide27_2018_02_17-S3_thumbnail_NtbNormalized.tif\n",
      "aws s3 cp \"/media/yuncong/BstemAtlasData/CSHL_data_processed/CHATM3/CHATM3_thumbnail_mask/CHATM3_slide27_2018_02_17-S3_thumbnail_mask.png\" \"s3://mousebrainatlas-data/CSHL_data_processed/CHATM3/CHATM3_thumbnail_mask/CHATM3_slide27_2018_02_17-S3_thumbnail_mask.png\"\n"
     ]
    },
    {
     "name": "stderr",
     "output_type": "stream",
     "text": [
      "Not using image_cache.\n",
      "Not using image_cache.\n"
     ]
    },
    {
     "name": "stdout",
     "output_type": "stream",
     "text": [
      "0\n",
      "/media/yuncong/BstemAtlasData/CSHL_data_processed/CHATM3/CHATM3_thumbnail_NtbNormalized/CHATM3_slide28_2018_02_17-S3_thumbnail_NtbNormalized.tif\n",
      "/media/yuncong/BstemAtlasData/CSHL_data_processed/CHATM3/CHATM3_thumbnail_NtbNormalized/CHATM3_slide28_2018_02_17-S3_thumbnail_NtbNormalized.tif\n",
      "aws s3 cp \"/media/yuncong/BstemAtlasData/CSHL_data_processed/CHATM3/CHATM3_thumbnail_mask/CHATM3_slide28_2018_02_17-S3_thumbnail_mask.png\" \"s3://mousebrainatlas-data/CSHL_data_processed/CHATM3/CHATM3_thumbnail_mask/CHATM3_slide28_2018_02_17-S3_thumbnail_mask.png\""
     ]
    },
    {
     "name": "stderr",
     "output_type": "stream",
     "text": [
      "Not using image_cache.\n",
      "Not using image_cache.\n"
     ]
    },
    {
     "name": "stdout",
     "output_type": "stream",
     "text": [
      "\n",
      "0\n",
      "/media/yuncong/BstemAtlasData/CSHL_data_processed/CHATM3/CHATM3_thumbnail_NtbNormalized/CHATM3_slide29_2018_02_17-S1_thumbnail_NtbNormalized.tif\n",
      "/media/yuncong/BstemAtlasData/CSHL_data_processed/CHATM3/CHATM3_thumbnail_NtbNormalized/CHATM3_slide29_2018_02_17-S1_thumbnail_NtbNormalized.tif\n",
      "aws s3 cp \"/media/yuncong/BstemAtlasData/CSHL_data_processed/CHATM3/CHATM3_thumbnail_mask/CHATM3_slide29_2018_02_17-S1_thumbnail_mask.png\" \"s3://mousebrainatlas-data/CSHL_data_processed/CHATM3/CHATM3_thumbnail_mask/CHATM3_slide29_2018_02_17-S1_thumbnail_mask.png\"\n"
     ]
    },
    {
     "name": "stderr",
     "output_type": "stream",
     "text": [
      "Not using image_cache.\n",
      "Not using image_cache.\n"
     ]
    },
    {
     "name": "stdout",
     "output_type": "stream",
     "text": [
      "0\n",
      "/media/yuncong/BstemAtlasData/CSHL_data_processed/CHATM3/CHATM3_thumbnail_NtbNormalized/CHATM3_slide30_2018_02_17-S1_thumbnail_NtbNormalized.tif\n",
      "/media/yuncong/BstemAtlasData/CSHL_data_processed/CHATM3/CHATM3_thumbnail_NtbNormalized/CHATM3_slide30_2018_02_17-S1_thumbnail_NtbNormalized.tif\n"
     ]
    },
    {
     "name": "stderr",
     "output_type": "stream",
     "text": [
      "Not using image_cache.\n",
      "Not using image_cache.\n"
     ]
    },
    {
     "name": "stdout",
     "output_type": "stream",
     "text": [
      "aws s3 cp \"/media/yuncong/BstemAtlasData/CSHL_data_processed/CHATM3/CHATM3_thumbnail_mask/CHATM3_slide30_2018_02_17-S1_thumbnail_mask.png\" \"s3://mousebrainatlas-data/CSHL_data_processed/CHATM3/CHATM3_thumbnail_mask/CHATM3_slide30_2018_02_17-S1_thumbnail_mask.png\"\n",
      "0\n",
      "/media/yuncong/BstemAtlasData/CSHL_data_processed/CHATM3/CHATM3_thumbnail_NtbNormalized/CHATM3_slide29_2018_02_17-S2_thumbnail_NtbNormalized.tif\n",
      "/media/yuncong/BstemAtlasData/CSHL_data_processed/CHATM3/CHATM3_thumbnail_NtbNormalized/CHATM3_slide29_2018_02_17-S2_thumbnail_NtbNormalized.tif\n",
      "aws s3 cp \"/media/yuncong/BstemAtlasData/CSHL_data_processed/CHATM3/CHATM3_thumbnail_mask/CHATM3_slide29_2018_02_17-S2_thumbnail_mask.png\" \"s3://mousebrainatlas-data/CSHL_data_processed/CHATM3/CHATM3_thumbnail_mask/CHATM3_slide29_2018_02_17-S2_thumbnail_mask.png\"\n"
     ]
    },
    {
     "name": "stderr",
     "output_type": "stream",
     "text": [
      "Not using image_cache.\n",
      "Not using image_cache.\n"
     ]
    },
    {
     "name": "stdout",
     "output_type": "stream",
     "text": [
      "0\n",
      "/media/yuncong/BstemAtlasData/CSHL_data_processed/CHATM3/CHATM3_thumbnail_NtbNormalized/CHATM3_slide30_2018_02_17-S2_thumbnail_NtbNormalized.tif\n",
      "/media/yuncong/BstemAtlasData/CSHL_data_processed/CHATM3/CHATM3_thumbnail_NtbNormalized/CHATM3_slide30_2018_02_17-S2_thumbnail_NtbNormalized.tif\n",
      "aws s3 cp \"/media/yuncong/BstemAtlasData/CSHL_data_processed/CHATM3/CHATM3_thumbnail_mask/CHATM3_slide30_2018_02_17-S2_thumbnail_mask.png\" \"s3://mousebrainatlas-data/CSHL_data_processed/CHATM3/CHATM3_thumbnail_mask/CHATM3_slide30_2018_02_17-S2_thumbnail_mask.png\"\n"
     ]
    },
    {
     "name": "stderr",
     "output_type": "stream",
     "text": [
      "Not using image_cache.\n",
      "Not using image_cache.\n"
     ]
    },
    {
     "name": "stdout",
     "output_type": "stream",
     "text": [
      "0\n",
      "/media/yuncong/BstemAtlasData/CSHL_data_processed/CHATM3/CHATM3_thumbnail_NtbNormalized/CHATM3_slide29_2018_02_17-S3_thumbnail_NtbNormalized.tif\n",
      "/media/yuncong/BstemAtlasData/CSHL_data_processed/CHATM3/CHATM3_thumbnail_NtbNormalized/CHATM3_slide29_2018_02_17-S3_thumbnail_NtbNormalized.tif\n",
      "aws s3 cp \"/media/yuncong/BstemAtlasData/CSHL_data_processed/CHATM3/CHATM3_thumbnail_mask/CHATM3_slide29_2018_02_17-S3_thumbnail_mask.png\" \"s3://mousebrainatlas-data/CSHL_data_processed/CHATM3/CHATM3_thumbnail_mask/CHATM3_slide29_2018_02_17-S3_thumbnail_mask.png\""
     ]
    },
    {
     "name": "stderr",
     "output_type": "stream",
     "text": [
      "Not using image_cache.\n",
      "Not using image_cache.\n"
     ]
    },
    {
     "name": "stdout",
     "output_type": "stream",
     "text": [
      "\n",
      "0\n",
      "/media/yuncong/BstemAtlasData/CSHL_data_processed/CHATM3/CHATM3_thumbnail_NtbNormalized/CHATM3_slide30_2018_02_17-S3_thumbnail_NtbNormalized.tif\n",
      "/media/yuncong/BstemAtlasData/CSHL_data_processed/CHATM3/CHATM3_thumbnail_NtbNormalized/CHATM3_slide30_2018_02_17-S3_thumbnail_NtbNormalized.tif\n",
      "aws s3 cp \"/media/yuncong/BstemAtlasData/CSHL_data_processed/CHATM3/CHATM3_thumbnail_mask/CHATM3_slide30_2018_02_17-S3_thumbnail_mask.png\" \"s3://mousebrainatlas-data/CSHL_data_processed/CHATM3/CHATM3_thumbnail_mask/CHATM3_slide30_2018_02_17-S3_thumbnail_mask.png\""
     ]
    },
    {
     "name": "stderr",
     "output_type": "stream",
     "text": [
      "Not using image_cache.\n",
      "Not using image_cache.\n"
     ]
    },
    {
     "name": "stdout",
     "output_type": "stream",
     "text": [
      "\n",
      "0\n",
      "/media/yuncong/BstemAtlasData/CSHL_data_processed/CHATM3/CHATM3_thumbnail_NtbNormalized/CHATM3_slide32_2018_02_17-S2_thumbnail_NtbNormalized.tif\n",
      "/media/yuncong/BstemAtlasData/CSHL_data_processed/CHATM3/CHATM3_thumbnail_NtbNormalized/CHATM3_slide32_2018_02_17-S2_thumbnail_NtbNormalized.tif\n"
     ]
    },
    {
     "name": "stderr",
     "output_type": "stream",
     "text": [
      "Not using image_cache.\n",
      "Not using image_cache.\n"
     ]
    },
    {
     "name": "stdout",
     "output_type": "stream",
     "text": [
      "aws s3 cp \"/media/yuncong/BstemAtlasData/CSHL_data_processed/CHATM3/CHATM3_thumbnail_mask/CHATM3_slide32_2018_02_17-S2_thumbnail_mask.png\" \"s3://mousebrainatlas-data/CSHL_data_processed/CHATM3/CHATM3_thumbnail_mask/CHATM3_slide32_2018_02_17-S2_thumbnail_mask.png\"\n",
      "0\n",
      "/media/yuncong/BstemAtlasData/CSHL_data_processed/CHATM3/CHATM3_thumbnail_NtbNormalized/CHATM3_slide31_2018_02_17-S2_thumbnail_NtbNormalized.tif\n",
      "/media/yuncong/BstemAtlasData/CSHL_data_processed/CHATM3/CHATM3_thumbnail_NtbNormalized/CHATM3_slide31_2018_02_17-S2_thumbnail_NtbNormalized.tif\n"
     ]
    },
    {
     "name": "stderr",
     "output_type": "stream",
     "text": [
      "Not using image_cache.\n",
      "Not using image_cache.\n"
     ]
    },
    {
     "name": "stdout",
     "output_type": "stream",
     "text": [
      "aws s3 cp \"/media/yuncong/BstemAtlasData/CSHL_data_processed/CHATM3/CHATM3_thumbnail_mask/CHATM3_slide31_2018_02_17-S2_thumbnail_mask.png\" \"s3://mousebrainatlas-data/CSHL_data_processed/CHATM3/CHATM3_thumbnail_mask/CHATM3_slide31_2018_02_17-S2_thumbnail_mask.png\"\n",
      "0\n",
      "/media/yuncong/BstemAtlasData/CSHL_data_processed/CHATM3/CHATM3_thumbnail_NtbNormalized/CHATM3_slide32_2018_02_17-S3_thumbnail_NtbNormalized.tif\n",
      "/media/yuncong/BstemAtlasData/CSHL_data_processed/CHATM3/CHATM3_thumbnail_NtbNormalized/CHATM3_slide32_2018_02_17-S3_thumbnail_NtbNormalized.tif\n",
      "aws s3 cp \"/media/yuncong/BstemAtlasData/CSHL_data_processed/CHATM3/CHATM3_thumbnail_mask/CHATM3_slide32_2018_02_17-S3_thumbnail_mask.png\" \"s3://mousebrainatlas-data/CSHL_data_processed/CHATM3/CHATM3_thumbnail_mask/CHATM3_slide32_2018_02_17-S3_thumbnail_mask.png\"\n"
     ]
    },
    {
     "name": "stderr",
     "output_type": "stream",
     "text": [
      "Not using image_cache.\n",
      "Not using image_cache.\n"
     ]
    },
    {
     "name": "stdout",
     "output_type": "stream",
     "text": [
      "0\n",
      "/media/yuncong/BstemAtlasData/CSHL_data_processed/CHATM3/CHATM3_thumbnail_NtbNormalized/CHATM3_slide31_2018_02_17-S3_thumbnail_NtbNormalized.tif\n",
      "/media/yuncong/BstemAtlasData/CSHL_data_processed/CHATM3/CHATM3_thumbnail_NtbNormalized/CHATM3_slide31_2018_02_17-S3_thumbnail_NtbNormalized.tif\n",
      "aws s3 cp \"/media/yuncong/BstemAtlasData/CSHL_data_processed/CHATM3/CHATM3_thumbnail_mask/CHATM3_slide31_2018_02_17-S3_thumbnail_mask.png\" \"s3://mousebrainatlas-data/CSHL_data_processed/CHATM3/CHATM3_thumbnail_mask/CHATM3_slide31_2018_02_17-S3_thumbnail_mask.png\"\n"
     ]
    },
    {
     "name": "stderr",
     "output_type": "stream",
     "text": [
      "Not using image_cache.\n",
      "Not using image_cache.\n"
     ]
    },
    {
     "name": "stdout",
     "output_type": "stream",
     "text": [
      "0\n",
      "/media/yuncong/BstemAtlasData/CSHL_data_processed/CHATM3/CHATM3_thumbnail_NtbNormalized/CHATM3_slide33_2018_02_17-S1_thumbnail_NtbNormalized.tif\n",
      "/media/yuncong/BstemAtlasData/CSHL_data_processed/CHATM3/CHATM3_thumbnail_NtbNormalized/CHATM3_slide33_2018_02_17-S1_thumbnail_NtbNormalized.tif\n"
     ]
    },
    {
     "name": "stderr",
     "output_type": "stream",
     "text": [
      "Not using image_cache.\n",
      "Not using image_cache.\n"
     ]
    },
    {
     "name": "stdout",
     "output_type": "stream",
     "text": [
      "aws s3 cp \"/media/yuncong/BstemAtlasData/CSHL_data_processed/CHATM3/CHATM3_thumbnail_mask/CHATM3_slide33_2018_02_17-S1_thumbnail_mask.png\" \"s3://mousebrainatlas-data/CSHL_data_processed/CHATM3/CHATM3_thumbnail_mask/CHATM3_slide33_2018_02_17-S1_thumbnail_mask.png\"\n",
      "0\n",
      "/media/yuncong/BstemAtlasData/CSHL_data_processed/CHATM3/CHATM3_thumbnail_NtbNormalized/CHATM3_slide34_2018_02_17-S1_thumbnail_NtbNormalized.tif\n",
      "/media/yuncong/BstemAtlasData/CSHL_data_processed/CHATM3/CHATM3_thumbnail_NtbNormalized/CHATM3_slide34_2018_02_17-S1_thumbnail_NtbNormalized.tif\n",
      "aws s3 cp \"/media/yuncong/BstemAtlasData/CSHL_data_processed/CHATM3/CHATM3_thumbnail_mask/CHATM3_slide34_2018_02_17-S1_thumbnail_mask.png\" \"s3://mousebrainatlas-data/CSHL_data_processed/CHATM3/CHATM3_thumbnail_mask/CHATM3_slide34_2018_02_17-S1_thumbnail_mask.png\""
     ]
    },
    {
     "name": "stderr",
     "output_type": "stream",
     "text": [
      "Not using image_cache.\n",
      "Not using image_cache.\n"
     ]
    },
    {
     "name": "stdout",
     "output_type": "stream",
     "text": [
      "\n",
      "0\n",
      "/media/yuncong/BstemAtlasData/CSHL_data_processed/CHATM3/CHATM3_thumbnail_NtbNormalized/CHATM3_slide33_2018_02_17-S2_thumbnail_NtbNormalized.tif\n",
      "/media/yuncong/BstemAtlasData/CSHL_data_processed/CHATM3/CHATM3_thumbnail_NtbNormalized/CHATM3_slide33_2018_02_17-S2_thumbnail_NtbNormalized.tif\n",
      "aws s3 cp \"/media/yuncong/BstemAtlasData/CSHL_data_processed/CHATM3/CHATM3_thumbnail_mask/CHATM3_slide33_2018_02_17-S2_thumbnail_mask.png\" \"s3://mousebrainatlas-data/CSHL_data_processed/CHATM3/CHATM3_thumbnail_mask/CHATM3_slide33_2018_02_17-S2_thumbnail_mask.png\"\n"
     ]
    },
    {
     "name": "stderr",
     "output_type": "stream",
     "text": [
      "Not using image_cache.\n",
      "Not using image_cache.\n"
     ]
    },
    {
     "name": "stdout",
     "output_type": "stream",
     "text": [
      "0\n",
      "/media/yuncong/BstemAtlasData/CSHL_data_processed/CHATM3/CHATM3_thumbnail_NtbNormalized/CHATM3_slide34_2018_02_17-S2_thumbnail_NtbNormalized.tif\n",
      "/media/yuncong/BstemAtlasData/CSHL_data_processed/CHATM3/CHATM3_thumbnail_NtbNormalized/CHATM3_slide34_2018_02_17-S2_thumbnail_NtbNormalized.tif\n",
      "aws s3 cp \"/media/yuncong/BstemAtlasData/CSHL_data_processed/CHATM3/CHATM3_thumbnail_mask/CHATM3_slide34_2018_02_17-S2_thumbnail_mask.png\" \"s3://mousebrainatlas-data/CSHL_data_processed/CHATM3/CHATM3_thumbnail_mask/CHATM3_slide34_2018_02_17-S2_thumbnail_mask.png\""
     ]
    },
    {
     "name": "stderr",
     "output_type": "stream",
     "text": [
      "Not using image_cache.\n",
      "Not using image_cache.\n"
     ]
    },
    {
     "name": "stdout",
     "output_type": "stream",
     "text": [
      "\n",
      "0\n",
      "/media/yuncong/BstemAtlasData/CSHL_data_processed/CHATM3/CHATM3_thumbnail_NtbNormalized/CHATM3_slide33_2018_02_17-S3_thumbnail_NtbNormalized.tif\n",
      "/media/yuncong/BstemAtlasData/CSHL_data_processed/CHATM3/CHATM3_thumbnail_NtbNormalized/CHATM3_slide33_2018_02_17-S3_thumbnail_NtbNormalized.tif\n",
      "aws s3 cp \"/media/yuncong/BstemAtlasData/CSHL_data_processed/CHATM3/CHATM3_thumbnail_mask/CHATM3_slide33_2018_02_17-S3_thumbnail_mask.png\" \"s3://mousebrainatlas-data/CSHL_data_processed/CHATM3/CHATM3_thumbnail_mask/CHATM3_slide33_2018_02_17-S3_thumbnail_mask.png\""
     ]
    },
    {
     "name": "stderr",
     "output_type": "stream",
     "text": [
      "Not using image_cache.\n",
      "Not using image_cache.\n"
     ]
    },
    {
     "name": "stdout",
     "output_type": "stream",
     "text": [
      "\n",
      "0\n",
      "/media/yuncong/BstemAtlasData/CSHL_data_processed/CHATM3/CHATM3_thumbnail_NtbNormalized/CHATM3_slide34_2018_02_17-S3_thumbnail_NtbNormalized.tif\n",
      "/media/yuncong/BstemAtlasData/CSHL_data_processed/CHATM3/CHATM3_thumbnail_NtbNormalized/CHATM3_slide34_2018_02_17-S3_thumbnail_NtbNormalized.tif\n",
      "aws s3 cp \"/media/yuncong/BstemAtlasData/CSHL_data_processed/CHATM3/CHATM3_thumbnail_mask/CHATM3_slide34_2018_02_17-S3_thumbnail_mask.png\" \"s3://mousebrainatlas-data/CSHL_data_processed/CHATM3/CHATM3_thumbnail_mask/CHATM3_slide34_2018_02_17-S3_thumbnail_mask.png\"\n"
     ]
    },
    {
     "name": "stderr",
     "output_type": "stream",
     "text": [
      "Not using image_cache.\n",
      "Not using image_cache.\n"
     ]
    },
    {
     "name": "stdout",
     "output_type": "stream",
     "text": [
      "0\n",
      "/media/yuncong/BstemAtlasData/CSHL_data_processed/CHATM3/CHATM3_thumbnail_NtbNormalized/CHATM3_slide35_2018_02_17-S1_thumbnail_NtbNormalized.tif\n",
      "/media/yuncong/BstemAtlasData/CSHL_data_processed/CHATM3/CHATM3_thumbnail_NtbNormalized/CHATM3_slide35_2018_02_17-S1_thumbnail_NtbNormalized.tif\n",
      "aws s3 cp \"/media/yuncong/BstemAtlasData/CSHL_data_processed/CHATM3/CHATM3_thumbnail_mask/CHATM3_slide35_2018_02_17-S1_thumbnail_mask.png\" \"s3://mousebrainatlas-data/CSHL_data_processed/CHATM3/CHATM3_thumbnail_mask/CHATM3_slide35_2018_02_17-S1_thumbnail_mask.png\""
     ]
    },
    {
     "name": "stderr",
     "output_type": "stream",
     "text": [
      "Not using image_cache.\n",
      "Not using image_cache.\n"
     ]
    },
    {
     "name": "stdout",
     "output_type": "stream",
     "text": [
      "\n",
      "0\n",
      "/media/yuncong/BstemAtlasData/CSHL_data_processed/CHATM3/CHATM3_thumbnail_NtbNormalized/CHATM3_slide36_2018_02_17-S1_thumbnail_NtbNormalized.tif\n",
      "/media/yuncong/BstemAtlasData/CSHL_data_processed/CHATM3/CHATM3_thumbnail_NtbNormalized/CHATM3_slide36_2018_02_17-S1_thumbnail_NtbNormalized.tif\n",
      "aws s3 cp \"/media/yuncong/BstemAtlasData/CSHL_data_processed/CHATM3/CHATM3_thumbnail_mask/CHATM3_slide36_2018_02_17-S1_thumbnail_mask.png\" \"s3://mousebrainatlas-data/CSHL_data_processed/CHATM3/CHATM3_thumbnail_mask/CHATM3_slide36_2018_02_17-S1_thumbnail_mask.png\""
     ]
    },
    {
     "name": "stderr",
     "output_type": "stream",
     "text": [
      "Not using image_cache.\n",
      "Not using image_cache.\n"
     ]
    },
    {
     "name": "stdout",
     "output_type": "stream",
     "text": [
      "\n",
      "0\n",
      "/media/yuncong/BstemAtlasData/CSHL_data_processed/CHATM3/CHATM3_thumbnail_NtbNormalized/CHATM3_slide35_2018_02_17-S2_thumbnail_NtbNormalized.tif\n",
      "/media/yuncong/BstemAtlasData/CSHL_data_processed/CHATM3/CHATM3_thumbnail_NtbNormalized/CHATM3_slide35_2018_02_17-S2_thumbnail_NtbNormalized.tif\n"
     ]
    },
    {
     "name": "stderr",
     "output_type": "stream",
     "text": [
      "Not using image_cache.\n",
      "Not using image_cache.\n"
     ]
    },
    {
     "name": "stdout",
     "output_type": "stream",
     "text": [
      "aws s3 cp \"/media/yuncong/BstemAtlasData/CSHL_data_processed/CHATM3/CHATM3_thumbnail_mask/CHATM3_slide35_2018_02_17-S2_thumbnail_mask.png\" \"s3://mousebrainatlas-data/CSHL_data_processed/CHATM3/CHATM3_thumbnail_mask/CHATM3_slide35_2018_02_17-S2_thumbnail_mask.png\"\n",
      "0\n",
      "/media/yuncong/BstemAtlasData/CSHL_data_processed/CHATM3/CHATM3_thumbnail_NtbNormalized/CHATM3_slide36_2018_02_17-S2_thumbnail_NtbNormalized.tif\n",
      "/media/yuncong/BstemAtlasData/CSHL_data_processed/CHATM3/CHATM3_thumbnail_NtbNormalized/CHATM3_slide36_2018_02_17-S2_thumbnail_NtbNormalized.tif\n"
     ]
    },
    {
     "name": "stderr",
     "output_type": "stream",
     "text": [
      "Not using image_cache.\n",
      "Not using image_cache.\n"
     ]
    },
    {
     "name": "stdout",
     "output_type": "stream",
     "text": [
      "aws s3 cp \"/media/yuncong/BstemAtlasData/CSHL_data_processed/CHATM3/CHATM3_thumbnail_mask/CHATM3_slide36_2018_02_17-S2_thumbnail_mask.png\" \"s3://mousebrainatlas-data/CSHL_data_processed/CHATM3/CHATM3_thumbnail_mask/CHATM3_slide36_2018_02_17-S2_thumbnail_mask.png\"\n",
      "0\n",
      "/media/yuncong/BstemAtlasData/CSHL_data_processed/CHATM3/CHATM3_thumbnail_NtbNormalized/CHATM3_slide35_2018_02_17-S3_thumbnail_NtbNormalized.tif\n",
      "/media/yuncong/BstemAtlasData/CSHL_data_processed/CHATM3/CHATM3_thumbnail_NtbNormalized/CHATM3_slide35_2018_02_17-S3_thumbnail_NtbNormalized.tif\n",
      "aws s3 cp \"/media/yuncong/BstemAtlasData/CSHL_data_processed/CHATM3/CHATM3_thumbnail_mask/CHATM3_slide35_2018_02_17-S3_thumbnail_mask.png\" \"s3://mousebrainatlas-data/CSHL_data_processed/CHATM3/CHATM3_thumbnail_mask/CHATM3_slide35_2018_02_17-S3_thumbnail_mask.png\"\n"
     ]
    },
    {
     "name": "stderr",
     "output_type": "stream",
     "text": [
      "Not using image_cache.\n",
      "Not using image_cache.\n"
     ]
    },
    {
     "name": "stdout",
     "output_type": "stream",
     "text": [
      "0\n",
      "/media/yuncong/BstemAtlasData/CSHL_data_processed/CHATM3/CHATM3_thumbnail_NtbNormalized/CHATM3_slide37_2018_02_18-S1_thumbnail_NtbNormalized.tif\n",
      "/media/yuncong/BstemAtlasData/CSHL_data_processed/CHATM3/CHATM3_thumbnail_NtbNormalized/CHATM3_slide37_2018_02_18-S1_thumbnail_NtbNormalized.tif\n"
     ]
    },
    {
     "name": "stderr",
     "output_type": "stream",
     "text": [
      "Not using image_cache.\n",
      "Not using image_cache.\n"
     ]
    },
    {
     "name": "stdout",
     "output_type": "stream",
     "text": [
      "aws s3 cp \"/media/yuncong/BstemAtlasData/CSHL_data_processed/CHATM3/CHATM3_thumbnail_mask/CHATM3_slide37_2018_02_18-S1_thumbnail_mask.png\" \"s3://mousebrainatlas-data/CSHL_data_processed/CHATM3/CHATM3_thumbnail_mask/CHATM3_slide37_2018_02_18-S1_thumbnail_mask.png\"\n",
      "0\n",
      "/media/yuncong/BstemAtlasData/CSHL_data_processed/CHATM3/CHATM3_thumbnail_NtbNormalized/CHATM3_slide38_2018_02_19-S1_thumbnail_NtbNormalized.tif\n",
      "/media/yuncong/BstemAtlasData/CSHL_data_processed/CHATM3/CHATM3_thumbnail_NtbNormalized/CHATM3_slide38_2018_02_19-S1_thumbnail_NtbNormalized.tif\n"
     ]
    },
    {
     "name": "stderr",
     "output_type": "stream",
     "text": [
      "Not using image_cache.\n",
      "Not using image_cache.\n"
     ]
    },
    {
     "name": "stdout",
     "output_type": "stream",
     "text": [
      "aws s3 cp \"/media/yuncong/BstemAtlasData/CSHL_data_processed/CHATM3/CHATM3_thumbnail_mask/CHATM3_slide38_2018_02_19-S1_thumbnail_mask.png\" \"s3://mousebrainatlas-data/CSHL_data_processed/CHATM3/CHATM3_thumbnail_mask/CHATM3_slide38_2018_02_19-S1_thumbnail_mask.png\"\n",
      "0\n",
      "/media/yuncong/BstemAtlasData/CSHL_data_processed/CHATM3/CHATM3_thumbnail_NtbNormalized/CHATM3_slide37_2018_02_18-S2_thumbnail_NtbNormalized.tif\n",
      "/media/yuncong/BstemAtlasData/CSHL_data_processed/CHATM3/CHATM3_thumbnail_NtbNormalized/CHATM3_slide37_2018_02_18-S2_thumbnail_NtbNormalized.tif\n"
     ]
    },
    {
     "name": "stderr",
     "output_type": "stream",
     "text": [
      "Not using image_cache.\n",
      "Not using image_cache.\n"
     ]
    },
    {
     "name": "stdout",
     "output_type": "stream",
     "text": [
      "aws s3 cp \"/media/yuncong/BstemAtlasData/CSHL_data_processed/CHATM3/CHATM3_thumbnail_mask/CHATM3_slide37_2018_02_18-S2_thumbnail_mask.png\" \"s3://mousebrainatlas-data/CSHL_data_processed/CHATM3/CHATM3_thumbnail_mask/CHATM3_slide37_2018_02_18-S2_thumbnail_mask.png\"\n",
      "0\n",
      "/media/yuncong/BstemAtlasData/CSHL_data_processed/CHATM3/CHATM3_thumbnail_NtbNormalized/CHATM3_slide38_2018_02_19-S2_thumbnail_NtbNormalized.tif\n",
      "/media/yuncong/BstemAtlasData/CSHL_data_processed/CHATM3/CHATM3_thumbnail_NtbNormalized/CHATM3_slide38_2018_02_19-S2_thumbnail_NtbNormalized.tif\n"
     ]
    },
    {
     "name": "stderr",
     "output_type": "stream",
     "text": [
      "Not using image_cache.\n",
      "Not using image_cache.\n"
     ]
    },
    {
     "name": "stdout",
     "output_type": "stream",
     "text": [
      "aws s3 cp \"/media/yuncong/BstemAtlasData/CSHL_data_processed/CHATM3/CHATM3_thumbnail_mask/CHATM3_slide38_2018_02_19-S2_thumbnail_mask.png\" \"s3://mousebrainatlas-data/CSHL_data_processed/CHATM3/CHATM3_thumbnail_mask/CHATM3_slide38_2018_02_19-S2_thumbnail_mask.png\"\n",
      "0\n",
      "/media/yuncong/BstemAtlasData/CSHL_data_processed/CHATM3/CHATM3_thumbnail_NtbNormalized/CHATM3_slide37_2018_02_18-S3_thumbnail_NtbNormalized.tif\n",
      "/media/yuncong/BstemAtlasData/CSHL_data_processed/CHATM3/CHATM3_thumbnail_NtbNormalized/CHATM3_slide37_2018_02_18-S3_thumbnail_NtbNormalized.tif\n"
     ]
    },
    {
     "name": "stderr",
     "output_type": "stream",
     "text": [
      "Not using image_cache.\n",
      "Not using image_cache.\n"
     ]
    },
    {
     "name": "stdout",
     "output_type": "stream",
     "text": [
      "aws s3 cp \"/media/yuncong/BstemAtlasData/CSHL_data_processed/CHATM3/CHATM3_thumbnail_mask/CHATM3_slide37_2018_02_18-S3_thumbnail_mask.png\" \"s3://mousebrainatlas-data/CSHL_data_processed/CHATM3/CHATM3_thumbnail_mask/CHATM3_slide37_2018_02_18-S3_thumbnail_mask.png\"\n",
      "0\n",
      "/media/yuncong/BstemAtlasData/CSHL_data_processed/CHATM3/CHATM3_thumbnail_NtbNormalized/CHATM3_slide38_2018_02_19-S3_thumbnail_NtbNormalized.tif\n",
      "/media/yuncong/BstemAtlasData/CSHL_data_processed/CHATM3/CHATM3_thumbnail_NtbNormalized/CHATM3_slide38_2018_02_19-S3_thumbnail_NtbNormalized.tif\n",
      "aws s3 cp \"/media/yuncong/BstemAtlasData/CSHL_data_processed/CHATM3/CHATM3_thumbnail_mask/CHATM3_slide38_2018_02_19-S3_thumbnail_mask.png\" \"s3://mousebrainatlas-data/CSHL_data_processed/CHATM3/CHATM3_thumbnail_mask/CHATM3_slide38_2018_02_19-S3_thumbnail_mask.png\""
     ]
    },
    {
     "name": "stderr",
     "output_type": "stream",
     "text": [
      "Not using image_cache.\n",
      "Not using image_cache.\n"
     ]
    },
    {
     "name": "stdout",
     "output_type": "stream",
     "text": [
      "\n",
      "0\n",
      "/media/yuncong/BstemAtlasData/CSHL_data_processed/CHATM3/CHATM3_thumbnail_NtbNormalized/CHATM3_slide39_2018_02_19-S1_thumbnail_NtbNormalized.tif\n",
      "/media/yuncong/BstemAtlasData/CSHL_data_processed/CHATM3/CHATM3_thumbnail_NtbNormalized/CHATM3_slide39_2018_02_19-S1_thumbnail_NtbNormalized.tif\n"
     ]
    },
    {
     "name": "stderr",
     "output_type": "stream",
     "text": [
      "Not using image_cache.\n",
      "Not using image_cache.\n"
     ]
    },
    {
     "name": "stdout",
     "output_type": "stream",
     "text": [
      "aws s3 cp \"/media/yuncong/BstemAtlasData/CSHL_data_processed/CHATM3/CHATM3_thumbnail_mask/CHATM3_slide39_2018_02_19-S1_thumbnail_mask.png\" \"s3://mousebrainatlas-data/CSHL_data_processed/CHATM3/CHATM3_thumbnail_mask/CHATM3_slide39_2018_02_19-S1_thumbnail_mask.png\"\n",
      "0\n",
      "/media/yuncong/BstemAtlasData/CSHL_data_processed/CHATM3/CHATM3_thumbnail_NtbNormalized/CHATM3_slide40_2018_02_18-S1_thumbnail_NtbNormalized.tif\n",
      "/media/yuncong/BstemAtlasData/CSHL_data_processed/CHATM3/CHATM3_thumbnail_NtbNormalized/CHATM3_slide40_2018_02_18-S1_thumbnail_NtbNormalized.tif\n"
     ]
    },
    {
     "name": "stderr",
     "output_type": "stream",
     "text": [
      "Not using image_cache.\n",
      "Not using image_cache.\n"
     ]
    },
    {
     "name": "stdout",
     "output_type": "stream",
     "text": [
      "aws s3 cp \"/media/yuncong/BstemAtlasData/CSHL_data_processed/CHATM3/CHATM3_thumbnail_mask/CHATM3_slide40_2018_02_18-S1_thumbnail_mask.png\" \"s3://mousebrainatlas-data/CSHL_data_processed/CHATM3/CHATM3_thumbnail_mask/CHATM3_slide40_2018_02_18-S1_thumbnail_mask.png\"\n",
      "0\n",
      "/media/yuncong/BstemAtlasData/CSHL_data_processed/CHATM3/CHATM3_thumbnail_NtbNormalized/CHATM3_slide39_2018_02_19-S2_thumbnail_NtbNormalized.tif\n",
      "/media/yuncong/BstemAtlasData/CSHL_data_processed/CHATM3/CHATM3_thumbnail_NtbNormalized/CHATM3_slide39_2018_02_19-S2_thumbnail_NtbNormalized.tif\n"
     ]
    },
    {
     "name": "stderr",
     "output_type": "stream",
     "text": [
      "Not using image_cache.\n",
      "Not using image_cache.\n"
     ]
    },
    {
     "name": "stdout",
     "output_type": "stream",
     "text": [
      "aws s3 cp \"/media/yuncong/BstemAtlasData/CSHL_data_processed/CHATM3/CHATM3_thumbnail_mask/CHATM3_slide39_2018_02_19-S2_thumbnail_mask.png\" \"s3://mousebrainatlas-data/CSHL_data_processed/CHATM3/CHATM3_thumbnail_mask/CHATM3_slide39_2018_02_19-S2_thumbnail_mask.png\"\n",
      "0\n",
      "/media/yuncong/BstemAtlasData/CSHL_data_processed/CHATM3/CHATM3_thumbnail_NtbNormalized/CHATM3_slide40_2018_02_18-S2_thumbnail_NtbNormalized.tif\n",
      "/media/yuncong/BstemAtlasData/CSHL_data_processed/CHATM3/CHATM3_thumbnail_NtbNormalized/CHATM3_slide40_2018_02_18-S2_thumbnail_NtbNormalized.tif\n",
      "aws s3 cp \"/media/yuncong/BstemAtlasData/CSHL_data_processed/CHATM3/CHATM3_thumbnail_mask/CHATM3_slide40_2018_02_18-S2_thumbnail_mask.png\" \"s3://mousebrainatlas-data/CSHL_data_processed/CHATM3/CHATM3_thumbnail_mask/CHATM3_slide40_2018_02_18-S2_thumbnail_mask.png\"\n"
     ]
    },
    {
     "name": "stderr",
     "output_type": "stream",
     "text": [
      "Not using image_cache.\n",
      "Not using image_cache.\n"
     ]
    },
    {
     "name": "stdout",
     "output_type": "stream",
     "text": [
      "0\n",
      "/media/yuncong/BstemAtlasData/CSHL_data_processed/CHATM3/CHATM3_thumbnail_NtbNormalized/CHATM3_slide39_2018_02_19-S3_thumbnail_NtbNormalized.tif\n",
      "/media/yuncong/BstemAtlasData/CSHL_data_processed/CHATM3/CHATM3_thumbnail_NtbNormalized/CHATM3_slide39_2018_02_19-S3_thumbnail_NtbNormalized.tif\n"
     ]
    },
    {
     "name": "stderr",
     "output_type": "stream",
     "text": [
      "Not using image_cache.\n",
      "Not using image_cache.\n"
     ]
    },
    {
     "name": "stdout",
     "output_type": "stream",
     "text": [
      "aws s3 cp \"/media/yuncong/BstemAtlasData/CSHL_data_processed/CHATM3/CHATM3_thumbnail_mask/CHATM3_slide39_2018_02_19-S3_thumbnail_mask.png\" \"s3://mousebrainatlas-data/CSHL_data_processed/CHATM3/CHATM3_thumbnail_mask/CHATM3_slide39_2018_02_19-S3_thumbnail_mask.png\"\n",
      "0\n",
      "/media/yuncong/BstemAtlasData/CSHL_data_processed/CHATM3/CHATM3_thumbnail_NtbNormalized/CHATM3_slide40_2018_02_18-S3_thumbnail_NtbNormalized.tif\n",
      "/media/yuncong/BstemAtlasData/CSHL_data_processed/CHATM3/CHATM3_thumbnail_NtbNormalized/CHATM3_slide40_2018_02_18-S3_thumbnail_NtbNormalized.tif\n"
     ]
    },
    {
     "name": "stderr",
     "output_type": "stream",
     "text": [
      "Not using image_cache.\n",
      "Not using image_cache.\n"
     ]
    },
    {
     "name": "stdout",
     "output_type": "stream",
     "text": [
      "aws s3 cp \"/media/yuncong/BstemAtlasData/CSHL_data_processed/CHATM3/CHATM3_thumbnail_mask/CHATM3_slide40_2018_02_18-S3_thumbnail_mask.png\" \"s3://mousebrainatlas-data/CSHL_data_processed/CHATM3/CHATM3_thumbnail_mask/CHATM3_slide40_2018_02_18-S3_thumbnail_mask.png\"\n",
      "0\n",
      "/media/yuncong/BstemAtlasData/CSHL_data_processed/CHATM3/CHATM3_thumbnail_NtbNormalized/CHATM3_slide41_2018_02_18-S1_thumbnail_NtbNormalized.tif\n",
      "/media/yuncong/BstemAtlasData/CSHL_data_processed/CHATM3/CHATM3_thumbnail_NtbNormalized/CHATM3_slide41_2018_02_18-S1_thumbnail_NtbNormalized.tif\n"
     ]
    },
    {
     "name": "stderr",
     "output_type": "stream",
     "text": [
      "Not using image_cache.\n",
      "Not using image_cache.\n"
     ]
    },
    {
     "name": "stdout",
     "output_type": "stream",
     "text": [
      "aws s3 cp \"/media/yuncong/BstemAtlasData/CSHL_data_processed/CHATM3/CHATM3_thumbnail_mask/CHATM3_slide41_2018_02_18-S1_thumbnail_mask.png\" \"s3://mousebrainatlas-data/CSHL_data_processed/CHATM3/CHATM3_thumbnail_mask/CHATM3_slide41_2018_02_18-S1_thumbnail_mask.png\"\n",
      "0\n",
      "/media/yuncong/BstemAtlasData/CSHL_data_processed/CHATM3/CHATM3_thumbnail_NtbNormalized/CHATM3_slide42_2018_02_19-S1_thumbnail_NtbNormalized.tif\n",
      "/media/yuncong/BstemAtlasData/CSHL_data_processed/CHATM3/CHATM3_thumbnail_NtbNormalized/CHATM3_slide42_2018_02_19-S1_thumbnail_NtbNormalized.tif\n",
      "aws s3 cp \"/media/yuncong/BstemAtlasData/CSHL_data_processed/CHATM3/CHATM3_thumbnail_mask/CHATM3_slide42_2018_02_19-S1_thumbnail_mask.png\" \"s3://mousebrainatlas-data/CSHL_data_processed/CHATM3/CHATM3_thumbnail_mask/CHATM3_slide42_2018_02_19-S1_thumbnail_mask.png\""
     ]
    },
    {
     "name": "stderr",
     "output_type": "stream",
     "text": [
      "Not using image_cache.\n",
      "Not using image_cache.\n"
     ]
    },
    {
     "name": "stdout",
     "output_type": "stream",
     "text": [
      "\n",
      "0\n",
      "/media/yuncong/BstemAtlasData/CSHL_data_processed/CHATM3/CHATM3_thumbnail_NtbNormalized/CHATM3_slide41_2018_02_18-S2_thumbnail_NtbNormalized.tif\n",
      "/media/yuncong/BstemAtlasData/CSHL_data_processed/CHATM3/CHATM3_thumbnail_NtbNormalized/CHATM3_slide41_2018_02_18-S2_thumbnail_NtbNormalized.tif\n"
     ]
    },
    {
     "name": "stderr",
     "output_type": "stream",
     "text": [
      "Not using image_cache.\n",
      "Not using image_cache.\n"
     ]
    },
    {
     "name": "stdout",
     "output_type": "stream",
     "text": [
      "aws s3 cp \"/media/yuncong/BstemAtlasData/CSHL_data_processed/CHATM3/CHATM3_thumbnail_mask/CHATM3_slide41_2018_02_18-S2_thumbnail_mask.png\" \"s3://mousebrainatlas-data/CSHL_data_processed/CHATM3/CHATM3_thumbnail_mask/CHATM3_slide41_2018_02_18-S2_thumbnail_mask.png\"\n",
      "0\n",
      "/media/yuncong/BstemAtlasData/CSHL_data_processed/CHATM3/CHATM3_thumbnail_NtbNormalized/CHATM3_slide42_2018_02_19-S2_thumbnail_NtbNormalized.tif\n",
      "/media/yuncong/BstemAtlasData/CSHL_data_processed/CHATM3/CHATM3_thumbnail_NtbNormalized/CHATM3_slide42_2018_02_19-S2_thumbnail_NtbNormalized.tif\n"
     ]
    },
    {
     "name": "stderr",
     "output_type": "stream",
     "text": [
      "Not using image_cache.\n",
      "Not using image_cache.\n"
     ]
    },
    {
     "name": "stdout",
     "output_type": "stream",
     "text": [
      "aws s3 cp \"/media/yuncong/BstemAtlasData/CSHL_data_processed/CHATM3/CHATM3_thumbnail_mask/CHATM3_slide42_2018_02_19-S2_thumbnail_mask.png\" \"s3://mousebrainatlas-data/CSHL_data_processed/CHATM3/CHATM3_thumbnail_mask/CHATM3_slide42_2018_02_19-S2_thumbnail_mask.png\"\n",
      "0\n",
      "/media/yuncong/BstemAtlasData/CSHL_data_processed/CHATM3/CHATM3_thumbnail_NtbNormalized/CHATM3_slide41_2018_02_18-S3_thumbnail_NtbNormalized.tif\n",
      "/media/yuncong/BstemAtlasData/CSHL_data_processed/CHATM3/CHATM3_thumbnail_NtbNormalized/CHATM3_slide41_2018_02_18-S3_thumbnail_NtbNormalized.tif\n",
      "aws s3 cp \"/media/yuncong/BstemAtlasData/CSHL_data_processed/CHATM3/CHATM3_thumbnail_mask/CHATM3_slide41_2018_02_18-S3_thumbnail_mask.png\" \"s3://mousebrainatlas-data/CSHL_data_processed/CHATM3/CHATM3_thumbnail_mask/CHATM3_slide41_2018_02_18-S3_thumbnail_mask.png\""
     ]
    },
    {
     "name": "stderr",
     "output_type": "stream",
     "text": [
      "Not using image_cache.\n",
      "Not using image_cache.\n"
     ]
    },
    {
     "name": "stdout",
     "output_type": "stream",
     "text": [
      "\n",
      "0\n",
      "/media/yuncong/BstemAtlasData/CSHL_data_processed/CHATM3/CHATM3_thumbnail_NtbNormalized/CHATM3_slide42_2018_02_19-S3_thumbnail_NtbNormalized.tif\n",
      "/media/yuncong/BstemAtlasData/CSHL_data_processed/CHATM3/CHATM3_thumbnail_NtbNormalized/CHATM3_slide42_2018_02_19-S3_thumbnail_NtbNormalized.tif\n"
     ]
    },
    {
     "name": "stderr",
     "output_type": "stream",
     "text": [
      "Not using image_cache.\n",
      "Not using image_cache.\n"
     ]
    },
    {
     "name": "stdout",
     "output_type": "stream",
     "text": [
      "aws s3 cp \"/media/yuncong/BstemAtlasData/CSHL_data_processed/CHATM3/CHATM3_thumbnail_mask/CHATM3_slide42_2018_02_19-S3_thumbnail_mask.png\" \"s3://mousebrainatlas-data/CSHL_data_processed/CHATM3/CHATM3_thumbnail_mask/CHATM3_slide42_2018_02_19-S3_thumbnail_mask.png\"\n",
      "0\n",
      "/media/yuncong/BstemAtlasData/CSHL_data_processed/CHATM3/CHATM3_thumbnail_NtbNormalized/CHATM3_slide44_2018_02_19-S1_thumbnail_NtbNormalized.tif\n",
      "/media/yuncong/BstemAtlasData/CSHL_data_processed/CHATM3/CHATM3_thumbnail_NtbNormalized/CHATM3_slide44_2018_02_19-S1_thumbnail_NtbNormalized.tif\n",
      "aws s3 cp \"/media/yuncong/BstemAtlasData/CSHL_data_processed/CHATM3/CHATM3_thumbnail_mask/CHATM3_slide44_2018_02_19-S1_thumbnail_mask.png\" \"s3://mousebrainatlas-data/CSHL_data_processed/CHATM3/CHATM3_thumbnail_mask/CHATM3_slide44_2018_02_19-S1_thumbnail_mask.png\"\n"
     ]
    },
    {
     "name": "stderr",
     "output_type": "stream",
     "text": [
      "Not using image_cache.\n",
      "Not using image_cache.\n"
     ]
    },
    {
     "name": "stdout",
     "output_type": "stream",
     "text": [
      "0\n",
      "/media/yuncong/BstemAtlasData/CSHL_data_processed/CHATM3/CHATM3_thumbnail_NtbNormalized/CHATM3_slide43_2018_02_19-S2_thumbnail_NtbNormalized.tif\n",
      "/media/yuncong/BstemAtlasData/CSHL_data_processed/CHATM3/CHATM3_thumbnail_NtbNormalized/CHATM3_slide43_2018_02_19-S2_thumbnail_NtbNormalized.tif\n",
      "aws s3 cp \"/media/yuncong/BstemAtlasData/CSHL_data_processed/CHATM3/CHATM3_thumbnail_mask/CHATM3_slide43_2018_02_19-S2_thumbnail_mask.png\" \"s3://mousebrainatlas-data/CSHL_data_processed/CHATM3/CHATM3_thumbnail_mask/CHATM3_slide43_2018_02_19-S2_thumbnail_mask.png\"\n"
     ]
    },
    {
     "name": "stderr",
     "output_type": "stream",
     "text": [
      "Not using image_cache.\n",
      "Not using image_cache.\n"
     ]
    },
    {
     "name": "stdout",
     "output_type": "stream",
     "text": [
      "0\n",
      "/media/yuncong/BstemAtlasData/CSHL_data_processed/CHATM3/CHATM3_thumbnail_NtbNormalized/CHATM3_slide44_2018_02_19-S2_thumbnail_NtbNormalized.tif\n",
      "/media/yuncong/BstemAtlasData/CSHL_data_processed/CHATM3/CHATM3_thumbnail_NtbNormalized/CHATM3_slide44_2018_02_19-S2_thumbnail_NtbNormalized.tif\n"
     ]
    },
    {
     "name": "stderr",
     "output_type": "stream",
     "text": [
      "Not using image_cache.\n",
      "Not using image_cache.\n"
     ]
    },
    {
     "name": "stdout",
     "output_type": "stream",
     "text": [
      "aws s3 cp \"/media/yuncong/BstemAtlasData/CSHL_data_processed/CHATM3/CHATM3_thumbnail_mask/CHATM3_slide44_2018_02_19-S2_thumbnail_mask.png\" \"s3://mousebrainatlas-data/CSHL_data_processed/CHATM3/CHATM3_thumbnail_mask/CHATM3_slide44_2018_02_19-S2_thumbnail_mask.png\"\n",
      "0\n",
      "/media/yuncong/BstemAtlasData/CSHL_data_processed/CHATM3/CHATM3_thumbnail_NtbNormalized/CHATM3_slide44_2018_02_19-S3_thumbnail_NtbNormalized.tif\n",
      "/media/yuncong/BstemAtlasData/CSHL_data_processed/CHATM3/CHATM3_thumbnail_NtbNormalized/CHATM3_slide44_2018_02_19-S3_thumbnail_NtbNormalized.tif\n",
      "aws s3 cp \"/media/yuncong/BstemAtlasData/CSHL_data_processed/CHATM3/CHATM3_thumbnail_mask/CHATM3_slide44_2018_02_19-S3_thumbnail_mask.png\" \"s3://mousebrainatlas-data/CSHL_data_processed/CHATM3/CHATM3_thumbnail_mask/CHATM3_slide44_2018_02_19-S3_thumbnail_mask.png\"\n"
     ]
    },
    {
     "name": "stderr",
     "output_type": "stream",
     "text": [
      "Not using image_cache.\n",
      "Not using image_cache.\n"
     ]
    },
    {
     "name": "stdout",
     "output_type": "stream",
     "text": [
      "0\n",
      "/media/yuncong/BstemAtlasData/CSHL_data_processed/CHATM3/CHATM3_thumbnail_NtbNormalized/CHATM3_slide45_2018_02_18-S1_thumbnail_NtbNormalized.tif\n",
      "/media/yuncong/BstemAtlasData/CSHL_data_processed/CHATM3/CHATM3_thumbnail_NtbNormalized/CHATM3_slide45_2018_02_18-S1_thumbnail_NtbNormalized.tif\n",
      "aws s3 cp \"/media/yuncong/BstemAtlasData/CSHL_data_processed/CHATM3/CHATM3_thumbnail_mask/CHATM3_slide45_2018_02_18-S1_thumbnail_mask.png\" \"s3://mousebrainatlas-data/CSHL_data_processed/CHATM3/CHATM3_thumbnail_mask/CHATM3_slide45_2018_02_18-S1_thumbnail_mask.png\""
     ]
    },
    {
     "name": "stderr",
     "output_type": "stream",
     "text": [
      "Not using image_cache.\n",
      "Not using image_cache.\n"
     ]
    },
    {
     "name": "stdout",
     "output_type": "stream",
     "text": [
      "\n",
      "0\n",
      "/media/yuncong/BstemAtlasData/CSHL_data_processed/CHATM3/CHATM3_thumbnail_NtbNormalized/CHATM3_slide45_2018_02_18-S2_thumbnail_NtbNormalized.tif\n",
      "/media/yuncong/BstemAtlasData/CSHL_data_processed/CHATM3/CHATM3_thumbnail_NtbNormalized/CHATM3_slide45_2018_02_18-S2_thumbnail_NtbNormalized.tif\n"
     ]
    },
    {
     "name": "stderr",
     "output_type": "stream",
     "text": [
      "Not using image_cache.\n",
      "Not using image_cache.\n"
     ]
    },
    {
     "name": "stdout",
     "output_type": "stream",
     "text": [
      "aws s3 cp \"/media/yuncong/BstemAtlasData/CSHL_data_processed/CHATM3/CHATM3_thumbnail_mask/CHATM3_slide45_2018_02_18-S2_thumbnail_mask.png\" \"s3://mousebrainatlas-data/CSHL_data_processed/CHATM3/CHATM3_thumbnail_mask/CHATM3_slide45_2018_02_18-S2_thumbnail_mask.png\"\n",
      "0\n",
      "/media/yuncong/BstemAtlasData/CSHL_data_processed/CHATM3/CHATM3_thumbnail_NtbNormalized/CHATM3_slide46_2018_02_19-S2_thumbnail_NtbNormalized.tif\n",
      "/media/yuncong/BstemAtlasData/CSHL_data_processed/CHATM3/CHATM3_thumbnail_NtbNormalized/CHATM3_slide46_2018_02_19-S2_thumbnail_NtbNormalized.tif\n"
     ]
    },
    {
     "name": "stderr",
     "output_type": "stream",
     "text": [
      "Not using image_cache.\n",
      "Not using image_cache.\n"
     ]
    },
    {
     "name": "stdout",
     "output_type": "stream",
     "text": [
      "aws s3 cp \"/media/yuncong/BstemAtlasData/CSHL_data_processed/CHATM3/CHATM3_thumbnail_mask/CHATM3_slide46_2018_02_19-S2_thumbnail_mask.png\" \"s3://mousebrainatlas-data/CSHL_data_processed/CHATM3/CHATM3_thumbnail_mask/CHATM3_slide46_2018_02_19-S2_thumbnail_mask.png\"\n",
      "0\n",
      "/media/yuncong/BstemAtlasData/CSHL_data_processed/CHATM3/CHATM3_thumbnail_NtbNormalized/CHATM3_slide45_2018_02_18-S3_thumbnail_NtbNormalized.tif\n",
      "/media/yuncong/BstemAtlasData/CSHL_data_processed/CHATM3/CHATM3_thumbnail_NtbNormalized/CHATM3_slide45_2018_02_18-S3_thumbnail_NtbNormalized.tif\n"
     ]
    },
    {
     "name": "stderr",
     "output_type": "stream",
     "text": [
      "Not using image_cache.\n",
      "Not using image_cache.\n"
     ]
    },
    {
     "name": "stdout",
     "output_type": "stream",
     "text": [
      "aws s3 cp \"/media/yuncong/BstemAtlasData/CSHL_data_processed/CHATM3/CHATM3_thumbnail_mask/CHATM3_slide45_2018_02_18-S3_thumbnail_mask.png\" \"s3://mousebrainatlas-data/CSHL_data_processed/CHATM3/CHATM3_thumbnail_mask/CHATM3_slide45_2018_02_18-S3_thumbnail_mask.png\"\n",
      "0\n",
      "/media/yuncong/BstemAtlasData/CSHL_data_processed/CHATM3/CHATM3_thumbnail_NtbNormalized/CHATM3_slide46_2018_02_19-S3_thumbnail_NtbNormalized.tif\n",
      "/media/yuncong/BstemAtlasData/CSHL_data_processed/CHATM3/CHATM3_thumbnail_NtbNormalized/CHATM3_slide46_2018_02_19-S3_thumbnail_NtbNormalized.tif\n",
      "aws s3 cp \"/media/yuncong/BstemAtlasData/CSHL_data_processed/CHATM3/CHATM3_thumbnail_mask/CHATM3_slide46_2018_02_19-S3_thumbnail_mask.png\" \"s3://mousebrainatlas-data/CSHL_data_processed/CHATM3/CHATM3_thumbnail_mask/CHATM3_slide46_2018_02_19-S3_thumbnail_mask.png\""
     ]
    },
    {
     "name": "stderr",
     "output_type": "stream",
     "text": [
      "Not using image_cache.\n",
      "Not using image_cache.\n"
     ]
    },
    {
     "name": "stdout",
     "output_type": "stream",
     "text": [
      "\n",
      "0\n",
      "/media/yuncong/BstemAtlasData/CSHL_data_processed/CHATM3/CHATM3_thumbnail_NtbNormalized/CHATM3_slide47_2018_02_18-S1_thumbnail_NtbNormalized.tif\n",
      "/media/yuncong/BstemAtlasData/CSHL_data_processed/CHATM3/CHATM3_thumbnail_NtbNormalized/CHATM3_slide47_2018_02_18-S1_thumbnail_NtbNormalized.tif\n"
     ]
    },
    {
     "name": "stderr",
     "output_type": "stream",
     "text": [
      "Not using image_cache.\n",
      "Not using image_cache.\n"
     ]
    },
    {
     "name": "stdout",
     "output_type": "stream",
     "text": [
      "aws s3 cp \"/media/yuncong/BstemAtlasData/CSHL_data_processed/CHATM3/CHATM3_thumbnail_mask/CHATM3_slide47_2018_02_18-S1_thumbnail_mask.png\" \"s3://mousebrainatlas-data/CSHL_data_processed/CHATM3/CHATM3_thumbnail_mask/CHATM3_slide47_2018_02_18-S1_thumbnail_mask.png\"\n",
      "0\n",
      "/media/yuncong/BstemAtlasData/CSHL_data_processed/CHATM3/CHATM3_thumbnail_NtbNormalized/CHATM3_slide48_2018_02_18-S1_thumbnail_NtbNormalized.tif\n",
      "/media/yuncong/BstemAtlasData/CSHL_data_processed/CHATM3/CHATM3_thumbnail_NtbNormalized/CHATM3_slide48_2018_02_18-S1_thumbnail_NtbNormalized.tif\n"
     ]
    },
    {
     "name": "stderr",
     "output_type": "stream",
     "text": [
      "Not using image_cache.\n",
      "Not using image_cache.\n"
     ]
    },
    {
     "name": "stdout",
     "output_type": "stream",
     "text": [
      "aws s3 cp \"/media/yuncong/BstemAtlasData/CSHL_data_processed/CHATM3/CHATM3_thumbnail_mask/CHATM3_slide48_2018_02_18-S1_thumbnail_mask.png\" \"s3://mousebrainatlas-data/CSHL_data_processed/CHATM3/CHATM3_thumbnail_mask/CHATM3_slide48_2018_02_18-S1_thumbnail_mask.png\"\n",
      "0\n",
      "/media/yuncong/BstemAtlasData/CSHL_data_processed/CHATM3/CHATM3_thumbnail_NtbNormalized/CHATM3_slide47_2018_02_18-S2_thumbnail_NtbNormalized.tif\n",
      "/media/yuncong/BstemAtlasData/CSHL_data_processed/CHATM3/CHATM3_thumbnail_NtbNormalized/CHATM3_slide47_2018_02_18-S2_thumbnail_NtbNormalized.tif\n",
      "aws s3 cp \"/media/yuncong/BstemAtlasData/CSHL_data_processed/CHATM3/CHATM3_thumbnail_mask/CHATM3_slide47_2018_02_18-S2_thumbnail_mask.png\" \"s3://mousebrainatlas-data/CSHL_data_processed/CHATM3/CHATM3_thumbnail_mask/CHATM3_slide47_2018_02_18-S2_thumbnail_mask.png\"\n"
     ]
    },
    {
     "name": "stderr",
     "output_type": "stream",
     "text": [
      "Not using image_cache.\n",
      "Not using image_cache.\n"
     ]
    },
    {
     "name": "stdout",
     "output_type": "stream",
     "text": [
      "0\n",
      "/media/yuncong/BstemAtlasData/CSHL_data_processed/CHATM3/CHATM3_thumbnail_NtbNormalized/CHATM3_slide48_2018_02_18-S2_thumbnail_NtbNormalized.tif\n"
     ]
    },
    {
     "name": "stderr",
     "output_type": "stream",
     "text": [
      "Not using image_cache.\n",
      "Not using image_cache.\n"
     ]
    },
    {
     "name": "stdout",
     "output_type": "stream",
     "text": [
      "/media/yuncong/BstemAtlasData/CSHL_data_processed/CHATM3/CHATM3_thumbnail_NtbNormalized/CHATM3_slide48_2018_02_18-S2_thumbnail_NtbNormalized.tif\n",
      "aws s3 cp \"/media/yuncong/BstemAtlasData/CSHL_data_processed/CHATM3/CHATM3_thumbnail_mask/CHATM3_slide48_2018_02_18-S2_thumbnail_mask.png\" \"s3://mousebrainatlas-data/CSHL_data_processed/CHATM3/CHATM3_thumbnail_mask/CHATM3_slide48_2018_02_18-S2_thumbnail_mask.png\"\n",
      "0\n",
      "/media/yuncong/BstemAtlasData/CSHL_data_processed/CHATM3/CHATM3_thumbnail_NtbNormalized/CHATM3_slide47_2018_02_18-S3_thumbnail_NtbNormalized.tif\n",
      "/media/yuncong/BstemAtlasData/CSHL_data_processed/CHATM3/CHATM3_thumbnail_NtbNormalized/CHATM3_slide47_2018_02_18-S3_thumbnail_NtbNormalized.tif\n"
     ]
    },
    {
     "name": "stderr",
     "output_type": "stream",
     "text": [
      "Not using image_cache.\n",
      "Not using image_cache.\n"
     ]
    },
    {
     "name": "stdout",
     "output_type": "stream",
     "text": [
      "aws s3 cp \"/media/yuncong/BstemAtlasData/CSHL_data_processed/CHATM3/CHATM3_thumbnail_mask/CHATM3_slide47_2018_02_18-S3_thumbnail_mask.png\" \"s3://mousebrainatlas-data/CSHL_data_processed/CHATM3/CHATM3_thumbnail_mask/CHATM3_slide47_2018_02_18-S3_thumbnail_mask.png\"\n",
      "0\n",
      "/media/yuncong/BstemAtlasData/CSHL_data_processed/CHATM3/CHATM3_thumbnail_NtbNormalized/CHATM3_slide48_2018_02_18-S3_thumbnail_NtbNormalized.tif\n",
      "/media/yuncong/BstemAtlasData/CSHL_data_processed/CHATM3/CHATM3_thumbnail_NtbNormalized/CHATM3_slide48_2018_02_18-S3_thumbnail_NtbNormalized.tif\n",
      "aws s3 cp \"/media/yuncong/BstemAtlasData/CSHL_data_processed/CHATM3/CHATM3_thumbnail_mask/CHATM3_slide48_2018_02_18-S3_thumbnail_mask.png\" \"s3://mousebrainatlas-data/CSHL_data_processed/CHATM3/CHATM3_thumbnail_mask/CHATM3_slide48_2018_02_18-S3_thumbnail_mask.png\""
     ]
    },
    {
     "name": "stderr",
     "output_type": "stream",
     "text": [
      "Not using image_cache.\n",
      "Not using image_cache.\n"
     ]
    },
    {
     "name": "stdout",
     "output_type": "stream",
     "text": [
      "\n",
      "0\n",
      "/media/yuncong/BstemAtlasData/CSHL_data_processed/CHATM3/CHATM3_thumbnail_NtbNormalized/CHATM3_slide49_2018_02_18-S1_thumbnail_NtbNormalized.tif\n",
      "/media/yuncong/BstemAtlasData/CSHL_data_processed/CHATM3/CHATM3_thumbnail_NtbNormalized/CHATM3_slide49_2018_02_18-S1_thumbnail_NtbNormalized.tif\n"
     ]
    },
    {
     "name": "stderr",
     "output_type": "stream",
     "text": [
      "Not using image_cache.\n",
      "Not using image_cache.\n"
     ]
    },
    {
     "name": "stdout",
     "output_type": "stream",
     "text": [
      "aws s3 cp \"/media/yuncong/BstemAtlasData/CSHL_data_processed/CHATM3/CHATM3_thumbnail_mask/CHATM3_slide49_2018_02_18-S1_thumbnail_mask.png\" \"s3://mousebrainatlas-data/CSHL_data_processed/CHATM3/CHATM3_thumbnail_mask/CHATM3_slide49_2018_02_18-S1_thumbnail_mask.png\"\n",
      "0\n",
      "/media/yuncong/BstemAtlasData/CSHL_data_processed/CHATM3/CHATM3_thumbnail_NtbNormalized/CHATM3_slide50_2018_02_18-S1_thumbnail_NtbNormalized.tif\n",
      "/media/yuncong/BstemAtlasData/CSHL_data_processed/CHATM3/CHATM3_thumbnail_NtbNormalized/CHATM3_slide50_2018_02_18-S1_thumbnail_NtbNormalized.tif\n"
     ]
    },
    {
     "name": "stderr",
     "output_type": "stream",
     "text": [
      "Not using image_cache.\n",
      "Not using image_cache.\n"
     ]
    },
    {
     "name": "stdout",
     "output_type": "stream",
     "text": [
      "aws s3 cp \"/media/yuncong/BstemAtlasData/CSHL_data_processed/CHATM3/CHATM3_thumbnail_mask/CHATM3_slide50_2018_02_18-S1_thumbnail_mask.png\" \"s3://mousebrainatlas-data/CSHL_data_processed/CHATM3/CHATM3_thumbnail_mask/CHATM3_slide50_2018_02_18-S1_thumbnail_mask.png\"\n",
      "0\n",
      "/media/yuncong/BstemAtlasData/CSHL_data_processed/CHATM3/CHATM3_thumbnail_NtbNormalized/CHATM3_slide49_2018_02_18-S2_thumbnail_NtbNormalized.tif\n",
      "/media/yuncong/BstemAtlasData/CSHL_data_processed/CHATM3/CHATM3_thumbnail_NtbNormalized/CHATM3_slide49_2018_02_18-S2_thumbnail_NtbNormalized.tif\n"
     ]
    },
    {
     "name": "stderr",
     "output_type": "stream",
     "text": [
      "Not using image_cache.\n",
      "Not using image_cache.\n"
     ]
    },
    {
     "name": "stdout",
     "output_type": "stream",
     "text": [
      "aws s3 cp \"/media/yuncong/BstemAtlasData/CSHL_data_processed/CHATM3/CHATM3_thumbnail_mask/CHATM3_slide49_2018_02_18-S2_thumbnail_mask.png\" \"s3://mousebrainatlas-data/CSHL_data_processed/CHATM3/CHATM3_thumbnail_mask/CHATM3_slide49_2018_02_18-S2_thumbnail_mask.png\"\n",
      "0\n",
      "/media/yuncong/BstemAtlasData/CSHL_data_processed/CHATM3/CHATM3_thumbnail_NtbNormalized/CHATM3_slide50_2018_02_18-S2_thumbnail_NtbNormalized.tif\n",
      "/media/yuncong/BstemAtlasData/CSHL_data_processed/CHATM3/CHATM3_thumbnail_NtbNormalized/CHATM3_slide50_2018_02_18-S2_thumbnail_NtbNormalized.tif\n"
     ]
    },
    {
     "name": "stderr",
     "output_type": "stream",
     "text": [
      "Not using image_cache.\n",
      "Not using image_cache.\n"
     ]
    },
    {
     "name": "stdout",
     "output_type": "stream",
     "text": [
      "aws s3 cp \"/media/yuncong/BstemAtlasData/CSHL_data_processed/CHATM3/CHATM3_thumbnail_mask/CHATM3_slide50_2018_02_18-S2_thumbnail_mask.png\" \"s3://mousebrainatlas-data/CSHL_data_processed/CHATM3/CHATM3_thumbnail_mask/CHATM3_slide50_2018_02_18-S2_thumbnail_mask.png\"\n",
      "0\n",
      "/media/yuncong/BstemAtlasData/CSHL_data_processed/CHATM3/CHATM3_thumbnail_NtbNormalized/CHATM3_slide49_2018_02_18-S3_thumbnail_NtbNormalized.tif\n",
      "/media/yuncong/BstemAtlasData/CSHL_data_processed/CHATM3/CHATM3_thumbnail_NtbNormalized/CHATM3_slide49_2018_02_18-S3_thumbnail_NtbNormalized.tif\n"
     ]
    },
    {
     "name": "stderr",
     "output_type": "stream",
     "text": [
      "Not using image_cache.\n",
      "Not using image_cache.\n"
     ]
    },
    {
     "name": "stdout",
     "output_type": "stream",
     "text": [
      "aws s3 cp \"/media/yuncong/BstemAtlasData/CSHL_data_processed/CHATM3/CHATM3_thumbnail_mask/CHATM3_slide49_2018_02_18-S3_thumbnail_mask.png\" \"s3://mousebrainatlas-data/CSHL_data_processed/CHATM3/CHATM3_thumbnail_mask/CHATM3_slide49_2018_02_18-S3_thumbnail_mask.png\"\n",
      "0\n",
      "/media/yuncong/BstemAtlasData/CSHL_data_processed/CHATM3/CHATM3_thumbnail_NtbNormalized/CHATM3_slide50_2018_02_18-S3_thumbnail_NtbNormalized.tif\n",
      "/media/yuncong/BstemAtlasData/CSHL_data_processed/CHATM3/CHATM3_thumbnail_NtbNormalized/CHATM3_slide50_2018_02_18-S3_thumbnail_NtbNormalized.tif\n"
     ]
    },
    {
     "name": "stderr",
     "output_type": "stream",
     "text": [
      "Not using image_cache.\n",
      "Not using image_cache.\n"
     ]
    },
    {
     "name": "stdout",
     "output_type": "stream",
     "text": [
      "aws s3 cp \"/media/yuncong/BstemAtlasData/CSHL_data_processed/CHATM3/CHATM3_thumbnail_mask/CHATM3_slide50_2018_02_18-S3_thumbnail_mask.png\" \"s3://mousebrainatlas-data/CSHL_data_processed/CHATM3/CHATM3_thumbnail_mask/CHATM3_slide50_2018_02_18-S3_thumbnail_mask.png\"\n",
      "0\n",
      "/media/yuncong/BstemAtlasData/CSHL_data_processed/CHATM3/CHATM3_thumbnail_NtbNormalized/CHATM3_slide51_2018_02_18-S1_thumbnail_NtbNormalized.tif\n",
      "/media/yuncong/BstemAtlasData/CSHL_data_processed/CHATM3/CHATM3_thumbnail_NtbNormalized/CHATM3_slide51_2018_02_18-S1_thumbnail_NtbNormalized.tif\n"
     ]
    },
    {
     "name": "stderr",
     "output_type": "stream",
     "text": [
      "Not using image_cache.\n",
      "Not using image_cache.\n"
     ]
    },
    {
     "name": "stdout",
     "output_type": "stream",
     "text": [
      "aws s3 cp \"/media/yuncong/BstemAtlasData/CSHL_data_processed/CHATM3/CHATM3_thumbnail_mask/CHATM3_slide51_2018_02_18-S1_thumbnail_mask.png\" \"s3://mousebrainatlas-data/CSHL_data_processed/CHATM3/CHATM3_thumbnail_mask/CHATM3_slide51_2018_02_18-S1_thumbnail_mask.png\"\n",
      "0\n",
      "/media/yuncong/BstemAtlasData/CSHL_data_processed/CHATM3/CHATM3_thumbnail_NtbNormalized/CHATM3_slide52_2018_02_19-S1_thumbnail_NtbNormalized.tif\n",
      "/media/yuncong/BstemAtlasData/CSHL_data_processed/CHATM3/CHATM3_thumbnail_NtbNormalized/CHATM3_slide52_2018_02_19-S1_thumbnail_NtbNormalized.tif\n",
      "aws s3 cp \"/media/yuncong/BstemAtlasData/CSHL_data_processed/CHATM3/CHATM3_thumbnail_mask/CHATM3_slide52_2018_02_19-S1_thumbnail_mask.png\" \"s3://mousebrainatlas-data/CSHL_data_processed/CHATM3/CHATM3_thumbnail_mask/CHATM3_slide52_2018_02_19-S1_thumbnail_mask.png\"\n"
     ]
    },
    {
     "name": "stderr",
     "output_type": "stream",
     "text": [
      "Not using image_cache.\n",
      "Not using image_cache.\n"
     ]
    },
    {
     "name": "stdout",
     "output_type": "stream",
     "text": [
      "0\n",
      "/media/yuncong/BstemAtlasData/CSHL_data_processed/CHATM3/CHATM3_thumbnail_NtbNormalized/CHATM3_slide51_2018_02_18-S2_thumbnail_NtbNormalized.tif\n",
      "/media/yuncong/BstemAtlasData/CSHL_data_processed/CHATM3/CHATM3_thumbnail_NtbNormalized/CHATM3_slide51_2018_02_18-S2_thumbnail_NtbNormalized.tif\n"
     ]
    },
    {
     "name": "stderr",
     "output_type": "stream",
     "text": [
      "Not using image_cache.\n",
      "Not using image_cache.\n"
     ]
    },
    {
     "name": "stdout",
     "output_type": "stream",
     "text": [
      "aws s3 cp \"/media/yuncong/BstemAtlasData/CSHL_data_processed/CHATM3/CHATM3_thumbnail_mask/CHATM3_slide51_2018_02_18-S2_thumbnail_mask.png\" \"s3://mousebrainatlas-data/CSHL_data_processed/CHATM3/CHATM3_thumbnail_mask/CHATM3_slide51_2018_02_18-S2_thumbnail_mask.png\"\n",
      "0\n",
      "/media/yuncong/BstemAtlasData/CSHL_data_processed/CHATM3/CHATM3_thumbnail_NtbNormalized/CHATM3_slide51_2018_02_18-S3_thumbnail_NtbNormalized.tif\n",
      "/media/yuncong/BstemAtlasData/CSHL_data_processed/CHATM3/CHATM3_thumbnail_NtbNormalized/CHATM3_slide51_2018_02_18-S3_thumbnail_NtbNormalized.tif\n"
     ]
    },
    {
     "name": "stderr",
     "output_type": "stream",
     "text": [
      "Not using image_cache.\n",
      "Not using image_cache.\n"
     ]
    },
    {
     "name": "stdout",
     "output_type": "stream",
     "text": [
      "aws s3 cp \"/media/yuncong/BstemAtlasData/CSHL_data_processed/CHATM3/CHATM3_thumbnail_mask/CHATM3_slide51_2018_02_18-S3_thumbnail_mask.png\" \"s3://mousebrainatlas-data/CSHL_data_processed/CHATM3/CHATM3_thumbnail_mask/CHATM3_slide51_2018_02_18-S3_thumbnail_mask.png\"\n",
      "0\n",
      "/media/yuncong/BstemAtlasData/CSHL_data_processed/CHATM3/CHATM3_thumbnail_NtbNormalized/CHATM3_slide52_2018_02_19-S3_thumbnail_NtbNormalized.tif\n",
      "/media/yuncong/BstemAtlasData/CSHL_data_processed/CHATM3/CHATM3_thumbnail_NtbNormalized/CHATM3_slide52_2018_02_19-S3_thumbnail_NtbNormalized.tif\n"
     ]
    },
    {
     "name": "stderr",
     "output_type": "stream",
     "text": [
      "Not using image_cache.\n",
      "Not using image_cache.\n"
     ]
    },
    {
     "name": "stdout",
     "output_type": "stream",
     "text": [
      "aws s3 cp \"/media/yuncong/BstemAtlasData/CSHL_data_processed/CHATM3/CHATM3_thumbnail_mask/CHATM3_slide52_2018_02_19-S3_thumbnail_mask.png\" \"s3://mousebrainatlas-data/CSHL_data_processed/CHATM3/CHATM3_thumbnail_mask/CHATM3_slide52_2018_02_19-S3_thumbnail_mask.png\"\n",
      "0\n",
      "/media/yuncong/BstemAtlasData/CSHL_data_processed/CHATM3/CHATM3_thumbnail_NtbNormalized/CHATM3_slide53_2018_02_18-S1_thumbnail_NtbNormalized.tif\n",
      "/media/yuncong/BstemAtlasData/CSHL_data_processed/CHATM3/CHATM3_thumbnail_NtbNormalized/CHATM3_slide53_2018_02_18-S1_thumbnail_NtbNormalized.tif\n"
     ]
    },
    {
     "name": "stderr",
     "output_type": "stream",
     "text": [
      "Not using image_cache.\n",
      "Not using image_cache.\n"
     ]
    },
    {
     "name": "stdout",
     "output_type": "stream",
     "text": [
      "aws s3 cp \"/media/yuncong/BstemAtlasData/CSHL_data_processed/CHATM3/CHATM3_thumbnail_mask/CHATM3_slide53_2018_02_18-S1_thumbnail_mask.png\" \"s3://mousebrainatlas-data/CSHL_data_processed/CHATM3/CHATM3_thumbnail_mask/CHATM3_slide53_2018_02_18-S1_thumbnail_mask.png\"\n",
      "0\n",
      "/media/yuncong/BstemAtlasData/CSHL_data_processed/CHATM3/CHATM3_thumbnail_NtbNormalized/CHATM3_slide54_2018_02_18-S1_thumbnail_NtbNormalized.tif\n"
     ]
    },
    {
     "name": "stderr",
     "output_type": "stream",
     "text": [
      "Not using image_cache.\n",
      "Not using image_cache.\n"
     ]
    },
    {
     "name": "stdout",
     "output_type": "stream",
     "text": [
      "/media/yuncong/BstemAtlasData/CSHL_data_processed/CHATM3/CHATM3_thumbnail_NtbNormalized/CHATM3_slide54_2018_02_18-S1_thumbnail_NtbNormalized.tif\n",
      "aws s3 cp \"/media/yuncong/BstemAtlasData/CSHL_data_processed/CHATM3/CHATM3_thumbnail_mask/CHATM3_slide54_2018_02_18-S1_thumbnail_mask.png\" \"s3://mousebrainatlas-data/CSHL_data_processed/CHATM3/CHATM3_thumbnail_mask/CHATM3_slide54_2018_02_18-S1_thumbnail_mask.png\"\n",
      "0\n",
      "/media/yuncong/BstemAtlasData/CSHL_data_processed/CHATM3/CHATM3_thumbnail_NtbNormalized/CHATM3_slide53_2018_02_18-S2_thumbnail_NtbNormalized.tif\n",
      "/media/yuncong/BstemAtlasData/CSHL_data_processed/CHATM3/CHATM3_thumbnail_NtbNormalized/CHATM3_slide53_2018_02_18-S2_thumbnail_NtbNormalized.tif\n"
     ]
    },
    {
     "name": "stderr",
     "output_type": "stream",
     "text": [
      "Not using image_cache.\n",
      "Not using image_cache.\n"
     ]
    },
    {
     "name": "stdout",
     "output_type": "stream",
     "text": [
      "aws s3 cp \"/media/yuncong/BstemAtlasData/CSHL_data_processed/CHATM3/CHATM3_thumbnail_mask/CHATM3_slide53_2018_02_18-S2_thumbnail_mask.png\" \"s3://mousebrainatlas-data/CSHL_data_processed/CHATM3/CHATM3_thumbnail_mask/CHATM3_slide53_2018_02_18-S2_thumbnail_mask.png\"\n",
      "0\n",
      "/media/yuncong/BstemAtlasData/CSHL_data_processed/CHATM3/CHATM3_thumbnail_NtbNormalized/CHATM3_slide54_2018_02_18-S2_thumbnail_NtbNormalized.tif\n",
      "/media/yuncong/BstemAtlasData/CSHL_data_processed/CHATM3/CHATM3_thumbnail_NtbNormalized/CHATM3_slide54_2018_02_18-S2_thumbnail_NtbNormalized.tif\n"
     ]
    },
    {
     "name": "stderr",
     "output_type": "stream",
     "text": [
      "Not using image_cache.\n",
      "Not using image_cache.\n"
     ]
    },
    {
     "name": "stdout",
     "output_type": "stream",
     "text": [
      "aws s3 cp \"/media/yuncong/BstemAtlasData/CSHL_data_processed/CHATM3/CHATM3_thumbnail_mask/CHATM3_slide54_2018_02_18-S2_thumbnail_mask.png\" \"s3://mousebrainatlas-data/CSHL_data_processed/CHATM3/CHATM3_thumbnail_mask/CHATM3_slide54_2018_02_18-S2_thumbnail_mask.png\"\n",
      "0\n",
      "/media/yuncong/BstemAtlasData/CSHL_data_processed/CHATM3/CHATM3_thumbnail_NtbNormalized/CHATM3_slide53_2018_02_18-S3_thumbnail_NtbNormalized.tif\n",
      "/media/yuncong/BstemAtlasData/CSHL_data_processed/CHATM3/CHATM3_thumbnail_NtbNormalized/CHATM3_slide53_2018_02_18-S3_thumbnail_NtbNormalized.tif\n"
     ]
    },
    {
     "name": "stderr",
     "output_type": "stream",
     "text": [
      "Not using image_cache.\n",
      "Not using image_cache.\n"
     ]
    },
    {
     "name": "stdout",
     "output_type": "stream",
     "text": [
      "aws s3 cp \"/media/yuncong/BstemAtlasData/CSHL_data_processed/CHATM3/CHATM3_thumbnail_mask/CHATM3_slide53_2018_02_18-S3_thumbnail_mask.png\" \"s3://mousebrainatlas-data/CSHL_data_processed/CHATM3/CHATM3_thumbnail_mask/CHATM3_slide53_2018_02_18-S3_thumbnail_mask.png\"\n",
      "0\n",
      "/media/yuncong/BstemAtlasData/CSHL_data_processed/CHATM3/CHATM3_thumbnail_NtbNormalized/CHATM3_slide54_2018_02_18-S3_thumbnail_NtbNormalized.tif\n",
      "/media/yuncong/BstemAtlasData/CSHL_data_processed/CHATM3/CHATM3_thumbnail_NtbNormalized/CHATM3_slide54_2018_02_18-S3_thumbnail_NtbNormalized.tif\n"
     ]
    },
    {
     "name": "stderr",
     "output_type": "stream",
     "text": [
      "Not using image_cache.\n",
      "Not using image_cache.\n"
     ]
    },
    {
     "name": "stdout",
     "output_type": "stream",
     "text": [
      "aws s3 cp \"/media/yuncong/BstemAtlasData/CSHL_data_processed/CHATM3/CHATM3_thumbnail_mask/CHATM3_slide54_2018_02_18-S3_thumbnail_mask.png\" \"s3://mousebrainatlas-data/CSHL_data_processed/CHATM3/CHATM3_thumbnail_mask/CHATM3_slide54_2018_02_18-S3_thumbnail_mask.png\"\n",
      "0\n",
      "/media/yuncong/BstemAtlasData/CSHL_data_processed/CHATM3/CHATM3_thumbnail_NtbNormalized/CHATM3_slide56_2018_02_18-S1_thumbnail_NtbNormalized.tif\n",
      "/media/yuncong/BstemAtlasData/CSHL_data_processed/CHATM3/CHATM3_thumbnail_NtbNormalized/CHATM3_slide56_2018_02_18-S1_thumbnail_NtbNormalized.tif\n",
      "aws s3 cp \"/media/yuncong/BstemAtlasData/CSHL_data_processed/CHATM3/CHATM3_thumbnail_mask/CHATM3_slide56_2018_02_18-S1_thumbnail_mask.png\" \"s3://mousebrainatlas-data/CSHL_data_processed/CHATM3/CHATM3_thumbnail_mask/CHATM3_slide56_2018_02_18-S1_thumbnail_mask.png\"\n"
     ]
    },
    {
     "name": "stderr",
     "output_type": "stream",
     "text": [
      "Not using image_cache.\n",
      "Not using image_cache.\n"
     ]
    },
    {
     "name": "stdout",
     "output_type": "stream",
     "text": [
      "0\n",
      "/media/yuncong/BstemAtlasData/CSHL_data_processed/CHATM3/CHATM3_thumbnail_NtbNormalized/CHATM3_slide55_2018_02_18-S1_thumbnail_NtbNormalized.tif\n",
      "/media/yuncong/BstemAtlasData/CSHL_data_processed/CHATM3/CHATM3_thumbnail_NtbNormalized/CHATM3_slide55_2018_02_18-S1_thumbnail_NtbNormalized.tif\n"
     ]
    },
    {
     "name": "stderr",
     "output_type": "stream",
     "text": [
      "Not using image_cache.\n",
      "Not using image_cache.\n"
     ]
    },
    {
     "name": "stdout",
     "output_type": "stream",
     "text": [
      "aws s3 cp \"/media/yuncong/BstemAtlasData/CSHL_data_processed/CHATM3/CHATM3_thumbnail_mask/CHATM3_slide55_2018_02_18-S1_thumbnail_mask.png\" \"s3://mousebrainatlas-data/CSHL_data_processed/CHATM3/CHATM3_thumbnail_mask/CHATM3_slide55_2018_02_18-S1_thumbnail_mask.png\"\n",
      "0\n",
      "/media/yuncong/BstemAtlasData/CSHL_data_processed/CHATM3/CHATM3_thumbnail_NtbNormalized/CHATM3_slide56_2018_02_18-S2_thumbnail_NtbNormalized.tif\n",
      "/media/yuncong/BstemAtlasData/CSHL_data_processed/CHATM3/CHATM3_thumbnail_NtbNormalized/CHATM3_slide56_2018_02_18-S2_thumbnail_NtbNormalized.tif\n"
     ]
    },
    {
     "name": "stderr",
     "output_type": "stream",
     "text": [
      "Not using image_cache.\n",
      "Not using image_cache.\n"
     ]
    },
    {
     "name": "stdout",
     "output_type": "stream",
     "text": [
      "aws s3 cp \"/media/yuncong/BstemAtlasData/CSHL_data_processed/CHATM3/CHATM3_thumbnail_mask/CHATM3_slide56_2018_02_18-S2_thumbnail_mask.png\" \"s3://mousebrainatlas-data/CSHL_data_processed/CHATM3/CHATM3_thumbnail_mask/CHATM3_slide56_2018_02_18-S2_thumbnail_mask.png\"\n",
      "0\n",
      "/media/yuncong/BstemAtlasData/CSHL_data_processed/CHATM3/CHATM3_thumbnail_NtbNormalized/CHATM3_slide55_2018_02_18-S2_thumbnail_NtbNormalized.tif\n",
      "/media/yuncong/BstemAtlasData/CSHL_data_processed/CHATM3/CHATM3_thumbnail_NtbNormalized/CHATM3_slide55_2018_02_18-S2_thumbnail_NtbNormalized.tif\n"
     ]
    },
    {
     "name": "stderr",
     "output_type": "stream",
     "text": [
      "Not using image_cache.\n",
      "Not using image_cache.\n"
     ]
    },
    {
     "name": "stdout",
     "output_type": "stream",
     "text": [
      "aws s3 cp \"/media/yuncong/BstemAtlasData/CSHL_data_processed/CHATM3/CHATM3_thumbnail_mask/CHATM3_slide55_2018_02_18-S2_thumbnail_mask.png\" \"s3://mousebrainatlas-data/CSHL_data_processed/CHATM3/CHATM3_thumbnail_mask/CHATM3_slide55_2018_02_18-S2_thumbnail_mask.png\"\n",
      "0\n",
      "/media/yuncong/BstemAtlasData/CSHL_data_processed/CHATM3/CHATM3_thumbnail_NtbNormalized/CHATM3_slide56_2018_02_18-S3_thumbnail_NtbNormalized.tif\n",
      "/media/yuncong/BstemAtlasData/CSHL_data_processed/CHATM3/CHATM3_thumbnail_NtbNormalized/CHATM3_slide56_2018_02_18-S3_thumbnail_NtbNormalized.tif\n"
     ]
    },
    {
     "name": "stderr",
     "output_type": "stream",
     "text": [
      "Not using image_cache.\n",
      "Not using image_cache.\n"
     ]
    },
    {
     "name": "stdout",
     "output_type": "stream",
     "text": [
      "aws s3 cp \"/media/yuncong/BstemAtlasData/CSHL_data_processed/CHATM3/CHATM3_thumbnail_mask/CHATM3_slide56_2018_02_18-S3_thumbnail_mask.png\" \"s3://mousebrainatlas-data/CSHL_data_processed/CHATM3/CHATM3_thumbnail_mask/CHATM3_slide56_2018_02_18-S3_thumbnail_mask.png\"\n",
      "0\n",
      "/media/yuncong/BstemAtlasData/CSHL_data_processed/CHATM3/CHATM3_thumbnail_NtbNormalized/CHATM3_slide55_2018_02_18-S3_thumbnail_NtbNormalized.tif\n",
      "/media/yuncong/BstemAtlasData/CSHL_data_processed/CHATM3/CHATM3_thumbnail_NtbNormalized/CHATM3_slide55_2018_02_18-S3_thumbnail_NtbNormalized.tif\n"
     ]
    },
    {
     "name": "stderr",
     "output_type": "stream",
     "text": [
      "Not using image_cache.\n",
      "Not using image_cache.\n"
     ]
    },
    {
     "name": "stdout",
     "output_type": "stream",
     "text": [
      "aws s3 cp \"/media/yuncong/BstemAtlasData/CSHL_data_processed/CHATM3/CHATM3_thumbnail_mask/CHATM3_slide55_2018_02_18-S3_thumbnail_mask.png\" \"s3://mousebrainatlas-data/CSHL_data_processed/CHATM3/CHATM3_thumbnail_mask/CHATM3_slide55_2018_02_18-S3_thumbnail_mask.png\"\n",
      "0\n",
      "/media/yuncong/BstemAtlasData/CSHL_data_processed/CHATM3/CHATM3_thumbnail_NtbNormalized/CHATM3_slide57_2018_02_18-S1_thumbnail_NtbNormalized.tif\n",
      "/media/yuncong/BstemAtlasData/CSHL_data_processed/CHATM3/CHATM3_thumbnail_NtbNormalized/CHATM3_slide57_2018_02_18-S1_thumbnail_NtbNormalized.tif\n"
     ]
    },
    {
     "name": "stderr",
     "output_type": "stream",
     "text": [
      "Not using image_cache.\n",
      "Not using image_cache.\n"
     ]
    },
    {
     "name": "stdout",
     "output_type": "stream",
     "text": [
      "aws s3 cp \"/media/yuncong/BstemAtlasData/CSHL_data_processed/CHATM3/CHATM3_thumbnail_mask/CHATM3_slide57_2018_02_18-S1_thumbnail_mask.png\" \"s3://mousebrainatlas-data/CSHL_data_processed/CHATM3/CHATM3_thumbnail_mask/CHATM3_slide57_2018_02_18-S1_thumbnail_mask.png\"\n",
      "0\n",
      "/media/yuncong/BstemAtlasData/CSHL_data_processed/CHATM3/CHATM3_thumbnail_NtbNormalized/CHATM3_slide58_2018_02_19-S1_thumbnail_NtbNormalized.tif\n",
      "/media/yuncong/BstemAtlasData/CSHL_data_processed/CHATM3/CHATM3_thumbnail_NtbNormalized/CHATM3_slide58_2018_02_19-S1_thumbnail_NtbNormalized.tif\n",
      "aws s3 cp \"/media/yuncong/BstemAtlasData/CSHL_data_processed/CHATM3/CHATM3_thumbnail_mask/CHATM3_slide58_2018_02_19-S1_thumbnail_mask.png\" \"s3://mousebrainatlas-data/CSHL_data_processed/CHATM3/CHATM3_thumbnail_mask/CHATM3_slide58_2018_02_19-S1_thumbnail_mask.png\""
     ]
    },
    {
     "name": "stderr",
     "output_type": "stream",
     "text": [
      "Not using image_cache.\n",
      "Not using image_cache.\n"
     ]
    },
    {
     "name": "stdout",
     "output_type": "stream",
     "text": [
      "\n",
      "0\n",
      "/media/yuncong/BstemAtlasData/CSHL_data_processed/CHATM3/CHATM3_thumbnail_NtbNormalized/CHATM3_slide57_2018_02_18-S2_thumbnail_NtbNormalized.tif\n",
      "/media/yuncong/BstemAtlasData/CSHL_data_processed/CHATM3/CHATM3_thumbnail_NtbNormalized/CHATM3_slide57_2018_02_18-S2_thumbnail_NtbNormalized.tif\n"
     ]
    },
    {
     "name": "stderr",
     "output_type": "stream",
     "text": [
      "Not using image_cache.\n",
      "Not using image_cache.\n"
     ]
    },
    {
     "name": "stdout",
     "output_type": "stream",
     "text": [
      "aws s3 cp \"/media/yuncong/BstemAtlasData/CSHL_data_processed/CHATM3/CHATM3_thumbnail_mask/CHATM3_slide57_2018_02_18-S2_thumbnail_mask.png\" \"s3://mousebrainatlas-data/CSHL_data_processed/CHATM3/CHATM3_thumbnail_mask/CHATM3_slide57_2018_02_18-S2_thumbnail_mask.png\"\n",
      "0\n",
      "/media/yuncong/BstemAtlasData/CSHL_data_processed/CHATM3/CHATM3_thumbnail_NtbNormalized/CHATM3_slide58_2018_02_19-S2_thumbnail_NtbNormalized.tif\n",
      "/media/yuncong/BstemAtlasData/CSHL_data_processed/CHATM3/CHATM3_thumbnail_NtbNormalized/CHATM3_slide58_2018_02_19-S2_thumbnail_NtbNormalized.tif\n"
     ]
    },
    {
     "name": "stderr",
     "output_type": "stream",
     "text": [
      "Not using image_cache.\n",
      "Not using image_cache.\n"
     ]
    },
    {
     "name": "stdout",
     "output_type": "stream",
     "text": [
      "aws s3 cp \"/media/yuncong/BstemAtlasData/CSHL_data_processed/CHATM3/CHATM3_thumbnail_mask/CHATM3_slide58_2018_02_19-S2_thumbnail_mask.png\" \"s3://mousebrainatlas-data/CSHL_data_processed/CHATM3/CHATM3_thumbnail_mask/CHATM3_slide58_2018_02_19-S2_thumbnail_mask.png\"\n",
      "0\n"
     ]
    },
    {
     "name": "stderr",
     "output_type": "stream",
     "text": [
      "Not using image_cache.\n",
      "Not using image_cache.\n"
     ]
    },
    {
     "name": "stdout",
     "output_type": "stream",
     "text": [
      "/media/yuncong/BstemAtlasData/CSHL_data_processed/CHATM3/CHATM3_thumbnail_NtbNormalized/CHATM3_slide57_2018_02_18-S3_thumbnail_NtbNormalized.tif\n",
      "/media/yuncong/BstemAtlasData/CSHL_data_processed/CHATM3/CHATM3_thumbnail_NtbNormalized/CHATM3_slide57_2018_02_18-S3_thumbnail_NtbNormalized.tif\n",
      "aws s3 cp \"/media/yuncong/BstemAtlasData/CSHL_data_processed/CHATM3/CHATM3_thumbnail_mask/CHATM3_slide57_2018_02_18-S3_thumbnail_mask.png\" \"s3://mousebrainatlas-data/CSHL_data_processed/CHATM3/CHATM3_thumbnail_mask/CHATM3_slide57_2018_02_18-S3_thumbnail_mask.png\"\n",
      "0\n",
      "/media/yuncong/BstemAtlasData/CSHL_data_processed/CHATM3/CHATM3_thumbnail_NtbNormalized/CHATM3_slide58_2018_02_19-S3_thumbnail_NtbNormalized.tif\n",
      "/media/yuncong/BstemAtlasData/CSHL_data_processed/CHATM3/CHATM3_thumbnail_NtbNormalized/CHATM3_slide58_2018_02_19-S3_thumbnail_NtbNormalized.tif\n"
     ]
    },
    {
     "name": "stderr",
     "output_type": "stream",
     "text": [
      "Not using image_cache.\n",
      "Not using image_cache.\n"
     ]
    },
    {
     "name": "stdout",
     "output_type": "stream",
     "text": [
      "aws s3 cp \"/media/yuncong/BstemAtlasData/CSHL_data_processed/CHATM3/CHATM3_thumbnail_mask/CHATM3_slide58_2018_02_19-S3_thumbnail_mask.png\" \"s3://mousebrainatlas-data/CSHL_data_processed/CHATM3/CHATM3_thumbnail_mask/CHATM3_slide58_2018_02_19-S3_thumbnail_mask.png\"\n",
      "0\n",
      "/media/yuncong/BstemAtlasData/CSHL_data_processed/CHATM3/CHATM3_thumbnail_NtbNormalized/CHATM3_slide59_2018_02_19-S1_thumbnail_NtbNormalized.tif\n"
     ]
    },
    {
     "name": "stderr",
     "output_type": "stream",
     "text": [
      "Not using image_cache.\n",
      "Not using image_cache.\n"
     ]
    },
    {
     "name": "stdout",
     "output_type": "stream",
     "text": [
      "/media/yuncong/BstemAtlasData/CSHL_data_processed/CHATM3/CHATM3_thumbnail_NtbNormalized/CHATM3_slide59_2018_02_19-S1_thumbnail_NtbNormalized.tif\n",
      "aws s3 cp \"/media/yuncong/BstemAtlasData/CSHL_data_processed/CHATM3/CHATM3_thumbnail_mask/CHATM3_slide59_2018_02_19-S1_thumbnail_mask.png\" \"s3://mousebrainatlas-data/CSHL_data_processed/CHATM3/CHATM3_thumbnail_mask/CHATM3_slide59_2018_02_19-S1_thumbnail_mask.png\"\n",
      "0\n",
      "/media/yuncong/BstemAtlasData/CSHL_data_processed/CHATM3/CHATM3_thumbnail_NtbNormalized/CHATM3_slide60_2018_02_19-S1_thumbnail_NtbNormalized.tif\n"
     ]
    },
    {
     "name": "stderr",
     "output_type": "stream",
     "text": [
      "Not using image_cache.\n",
      "Not using image_cache.\n"
     ]
    },
    {
     "name": "stdout",
     "output_type": "stream",
     "text": [
      "/media/yuncong/BstemAtlasData/CSHL_data_processed/CHATM3/CHATM3_thumbnail_NtbNormalized/CHATM3_slide60_2018_02_19-S1_thumbnail_NtbNormalized.tif\n",
      "aws s3 cp \"/media/yuncong/BstemAtlasData/CSHL_data_processed/CHATM3/CHATM3_thumbnail_mask/CHATM3_slide60_2018_02_19-S1_thumbnail_mask.png\" \"s3://mousebrainatlas-data/CSHL_data_processed/CHATM3/CHATM3_thumbnail_mask/CHATM3_slide60_2018_02_19-S1_thumbnail_mask.png\"\n",
      "0\n",
      "/media/yuncong/BstemAtlasData/CSHL_data_processed/CHATM3/CHATM3_thumbnail_NtbNormalized/CHATM3_slide59_2018_02_19-S2_thumbnail_NtbNormalized.tif\n",
      "/media/yuncong/BstemAtlasData/CSHL_data_processed/CHATM3/CHATM3_thumbnail_NtbNormalized/CHATM3_slide59_2018_02_19-S2_thumbnail_NtbNormalized.tif\n"
     ]
    },
    {
     "name": "stderr",
     "output_type": "stream",
     "text": [
      "Not using image_cache.\n",
      "Not using image_cache.\n"
     ]
    },
    {
     "name": "stdout",
     "output_type": "stream",
     "text": [
      "aws s3 cp \"/media/yuncong/BstemAtlasData/CSHL_data_processed/CHATM3/CHATM3_thumbnail_mask/CHATM3_slide59_2018_02_19-S2_thumbnail_mask.png\" \"s3://mousebrainatlas-data/CSHL_data_processed/CHATM3/CHATM3_thumbnail_mask/CHATM3_slide59_2018_02_19-S2_thumbnail_mask.png\"\n",
      "0\n",
      "/media/yuncong/BstemAtlasData/CSHL_data_processed/CHATM3/CHATM3_thumbnail_NtbNormalized/CHATM3_slide60_2018_02_19-S2_thumbnail_NtbNormalized.tif\n",
      "/media/yuncong/BstemAtlasData/CSHL_data_processed/CHATM3/CHATM3_thumbnail_NtbNormalized/CHATM3_slide60_2018_02_19-S2_thumbnail_NtbNormalized.tif\n"
     ]
    },
    {
     "name": "stderr",
     "output_type": "stream",
     "text": [
      "Not using image_cache.\n",
      "Not using image_cache.\n"
     ]
    },
    {
     "name": "stdout",
     "output_type": "stream",
     "text": [
      "aws s3 cp \"/media/yuncong/BstemAtlasData/CSHL_data_processed/CHATM3/CHATM3_thumbnail_mask/CHATM3_slide60_2018_02_19-S2_thumbnail_mask.png\" \"s3://mousebrainatlas-data/CSHL_data_processed/CHATM3/CHATM3_thumbnail_mask/CHATM3_slide60_2018_02_19-S2_thumbnail_mask.png\"\n",
      "0\n",
      "/media/yuncong/BstemAtlasData/CSHL_data_processed/CHATM3/CHATM3_thumbnail_NtbNormalized/CHATM3_slide59_2018_02_19-S3_thumbnail_NtbNormalized.tif\n",
      "/media/yuncong/BstemAtlasData/CSHL_data_processed/CHATM3/CHATM3_thumbnail_NtbNormalized/CHATM3_slide59_2018_02_19-S3_thumbnail_NtbNormalized.tif\n"
     ]
    },
    {
     "name": "stderr",
     "output_type": "stream",
     "text": [
      "Not using image_cache.\n",
      "Not using image_cache.\n"
     ]
    },
    {
     "name": "stdout",
     "output_type": "stream",
     "text": [
      "aws s3 cp \"/media/yuncong/BstemAtlasData/CSHL_data_processed/CHATM3/CHATM3_thumbnail_mask/CHATM3_slide59_2018_02_19-S3_thumbnail_mask.png\" \"s3://mousebrainatlas-data/CSHL_data_processed/CHATM3/CHATM3_thumbnail_mask/CHATM3_slide59_2018_02_19-S3_thumbnail_mask.png\"\n",
      "0\n",
      "/media/yuncong/BstemAtlasData/CSHL_data_processed/CHATM3/CHATM3_thumbnail_NtbNormalized/CHATM3_slide60_2018_02_19-S3_thumbnail_NtbNormalized.tif\n",
      "/media/yuncong/BstemAtlasData/CSHL_data_processed/CHATM3/CHATM3_thumbnail_NtbNormalized/CHATM3_slide60_2018_02_19-S3_thumbnail_NtbNormalized.tif\n"
     ]
    },
    {
     "name": "stderr",
     "output_type": "stream",
     "text": [
      "Not using image_cache.\n",
      "Not using image_cache.\n"
     ]
    },
    {
     "name": "stdout",
     "output_type": "stream",
     "text": [
      "aws s3 cp \"/media/yuncong/BstemAtlasData/CSHL_data_processed/CHATM3/CHATM3_thumbnail_mask/CHATM3_slide60_2018_02_19-S3_thumbnail_mask.png\" \"s3://mousebrainatlas-data/CSHL_data_processed/CHATM3/CHATM3_thumbnail_mask/CHATM3_slide60_2018_02_19-S3_thumbnail_mask.png\"\n",
      "0\n",
      "/media/yuncong/BstemAtlasData/CSHL_data_processed/CHATM3/CHATM3_thumbnail_NtbNormalized/CHATM3_slide61_2018_02_19-S1_thumbnail_NtbNormalized.tif\n",
      "/media/yuncong/BstemAtlasData/CSHL_data_processed/CHATM3/CHATM3_thumbnail_NtbNormalized/CHATM3_slide61_2018_02_19-S1_thumbnail_NtbNormalized.tif\n"
     ]
    },
    {
     "name": "stderr",
     "output_type": "stream",
     "text": [
      "Not using image_cache.\n",
      "Not using image_cache.\n"
     ]
    },
    {
     "name": "stdout",
     "output_type": "stream",
     "text": [
      "aws s3 cp \"/media/yuncong/BstemAtlasData/CSHL_data_processed/CHATM3/CHATM3_thumbnail_mask/CHATM3_slide61_2018_02_19-S1_thumbnail_mask.png\" \"s3://mousebrainatlas-data/CSHL_data_processed/CHATM3/CHATM3_thumbnail_mask/CHATM3_slide61_2018_02_19-S1_thumbnail_mask.png\"\n",
      "0\n",
      "/media/yuncong/BstemAtlasData/CSHL_data_processed/CHATM3/CHATM3_thumbnail_NtbNormalized/CHATM3_slide62_2018_02_19-S1_thumbnail_NtbNormalized.tif\n",
      "/media/yuncong/BstemAtlasData/CSHL_data_processed/CHATM3/CHATM3_thumbnail_NtbNormalized/CHATM3_slide62_2018_02_19-S1_thumbnail_NtbNormalized.tif\n"
     ]
    },
    {
     "name": "stderr",
     "output_type": "stream",
     "text": [
      "Not using image_cache.\n",
      "Not using image_cache.\n"
     ]
    },
    {
     "name": "stdout",
     "output_type": "stream",
     "text": [
      "aws s3 cp \"/media/yuncong/BstemAtlasData/CSHL_data_processed/CHATM3/CHATM3_thumbnail_mask/CHATM3_slide62_2018_02_19-S1_thumbnail_mask.png\" \"s3://mousebrainatlas-data/CSHL_data_processed/CHATM3/CHATM3_thumbnail_mask/CHATM3_slide62_2018_02_19-S1_thumbnail_mask.png\"\n",
      "0\n",
      "/media/yuncong/BstemAtlasData/CSHL_data_processed/CHATM3/CHATM3_thumbnail_NtbNormalized/CHATM3_slide62_2018_02_19-S2_thumbnail_NtbNormalized.tif\n",
      "/media/yuncong/BstemAtlasData/CSHL_data_processed/CHATM3/CHATM3_thumbnail_NtbNormalized/CHATM3_slide62_2018_02_19-S2_thumbnail_NtbNormalized.tif\n"
     ]
    },
    {
     "name": "stderr",
     "output_type": "stream",
     "text": [
      "Not using image_cache.\n",
      "Not using image_cache.\n"
     ]
    },
    {
     "name": "stdout",
     "output_type": "stream",
     "text": [
      "aws s3 cp \"/media/yuncong/BstemAtlasData/CSHL_data_processed/CHATM3/CHATM3_thumbnail_mask/CHATM3_slide62_2018_02_19-S2_thumbnail_mask.png\" \"s3://mousebrainatlas-data/CSHL_data_processed/CHATM3/CHATM3_thumbnail_mask/CHATM3_slide62_2018_02_19-S2_thumbnail_mask.png\"\n",
      "0\n",
      "/media/yuncong/BstemAtlasData/CSHL_data_processed/CHATM3/CHATM3_thumbnail_NtbNormalized/CHATM3_slide62_2018_02_19-S3_thumbnail_NtbNormalized.tif\n",
      "/media/yuncong/BstemAtlasData/CSHL_data_processed/CHATM3/CHATM3_thumbnail_NtbNormalized/CHATM3_slide62_2018_02_19-S3_thumbnail_NtbNormalized.tif\n"
     ]
    },
    {
     "name": "stderr",
     "output_type": "stream",
     "text": [
      "Not using image_cache.\n",
      "Not using image_cache.\n"
     ]
    },
    {
     "name": "stdout",
     "output_type": "stream",
     "text": [
      "aws s3 cp \"/media/yuncong/BstemAtlasData/CSHL_data_processed/CHATM3/CHATM3_thumbnail_mask/CHATM3_slide62_2018_02_19-S3_thumbnail_mask.png\" \"s3://mousebrainatlas-data/CSHL_data_processed/CHATM3/CHATM3_thumbnail_mask/CHATM3_slide62_2018_02_19-S3_thumbnail_mask.png\"\n",
      "0\n",
      "/media/yuncong/BstemAtlasData/CSHL_data_processed/CHATM3/CHATM3_thumbnail_NtbNormalized/CHATM3_slide63_2018_02_19-S1_thumbnail_NtbNormalized.tif\n",
      "/media/yuncong/BstemAtlasData/CSHL_data_processed/CHATM3/CHATM3_thumbnail_NtbNormalized/CHATM3_slide63_2018_02_19-S1_thumbnail_NtbNormalized.tif\n"
     ]
    },
    {
     "name": "stderr",
     "output_type": "stream",
     "text": [
      "Not using image_cache.\n",
      "Not using image_cache.\n"
     ]
    },
    {
     "name": "stdout",
     "output_type": "stream",
     "text": [
      "aws s3 cp \"/media/yuncong/BstemAtlasData/CSHL_data_processed/CHATM3/CHATM3_thumbnail_mask/CHATM3_slide63_2018_02_19-S1_thumbnail_mask.png\" \"s3://mousebrainatlas-data/CSHL_data_processed/CHATM3/CHATM3_thumbnail_mask/CHATM3_slide63_2018_02_19-S1_thumbnail_mask.png\"\n",
      "0\n",
      "/media/yuncong/BstemAtlasData/CSHL_data_processed/CHATM3/CHATM3_thumbnail_NtbNormalized/CHATM3_slide64_2018_02_19-S1_thumbnail_NtbNormalized.tif\n",
      "/media/yuncong/BstemAtlasData/CSHL_data_processed/CHATM3/CHATM3_thumbnail_NtbNormalized/CHATM3_slide64_2018_02_19-S1_thumbnail_NtbNormalized.tif\n"
     ]
    },
    {
     "name": "stderr",
     "output_type": "stream",
     "text": [
      "Not using image_cache.\n",
      "Not using image_cache.\n"
     ]
    },
    {
     "name": "stdout",
     "output_type": "stream",
     "text": [
      "aws s3 cp \"/media/yuncong/BstemAtlasData/CSHL_data_processed/CHATM3/CHATM3_thumbnail_mask/CHATM3_slide64_2018_02_19-S1_thumbnail_mask.png\" \"s3://mousebrainatlas-data/CSHL_data_processed/CHATM3/CHATM3_thumbnail_mask/CHATM3_slide64_2018_02_19-S1_thumbnail_mask.png\"\n",
      "0\n",
      "/media/yuncong/BstemAtlasData/CSHL_data_processed/CHATM3/CHATM3_thumbnail_NtbNormalized/CHATM3_slide63_2018_02_19-S2_thumbnail_NtbNormalized.tif\n",
      "/media/yuncong/BstemAtlasData/CSHL_data_processed/CHATM3/CHATM3_thumbnail_NtbNormalized/CHATM3_slide63_2018_02_19-S2_thumbnail_NtbNormalized.tif\n"
     ]
    },
    {
     "name": "stderr",
     "output_type": "stream",
     "text": [
      "Not using image_cache.\n",
      "Not using image_cache.\n"
     ]
    },
    {
     "name": "stdout",
     "output_type": "stream",
     "text": [
      "aws s3 cp \"/media/yuncong/BstemAtlasData/CSHL_data_processed/CHATM3/CHATM3_thumbnail_mask/CHATM3_slide63_2018_02_19-S2_thumbnail_mask.png\" \"s3://mousebrainatlas-data/CSHL_data_processed/CHATM3/CHATM3_thumbnail_mask/CHATM3_slide63_2018_02_19-S2_thumbnail_mask.png\"\n",
      "0\n",
      "/media/yuncong/BstemAtlasData/CSHL_data_processed/CHATM3/CHATM3_thumbnail_NtbNormalized/CHATM3_slide64_2018_02_19-S2_thumbnail_NtbNormalized.tif\n"
     ]
    },
    {
     "name": "stderr",
     "output_type": "stream",
     "text": [
      "Not using image_cache.\n",
      "Not using image_cache.\n"
     ]
    },
    {
     "name": "stdout",
     "output_type": "stream",
     "text": [
      "/media/yuncong/BstemAtlasData/CSHL_data_processed/CHATM3/CHATM3_thumbnail_NtbNormalized/CHATM3_slide64_2018_02_19-S2_thumbnail_NtbNormalized.tif\n",
      "aws s3 cp \"/media/yuncong/BstemAtlasData/CSHL_data_processed/CHATM3/CHATM3_thumbnail_mask/CHATM3_slide64_2018_02_19-S2_thumbnail_mask.png\" \"s3://mousebrainatlas-data/CSHL_data_processed/CHATM3/CHATM3_thumbnail_mask/CHATM3_slide64_2018_02_19-S2_thumbnail_mask.png\"\n",
      "0\n",
      "/media/yuncong/BstemAtlasData/CSHL_data_processed/CHATM3/CHATM3_thumbnail_NtbNormalized/CHATM3_slide63_2018_02_19-S3_thumbnail_NtbNormalized.tif\n",
      "/media/yuncong/BstemAtlasData/CSHL_data_processed/CHATM3/CHATM3_thumbnail_NtbNormalized/CHATM3_slide63_2018_02_19-S3_thumbnail_NtbNormalized.tif\n"
     ]
    },
    {
     "name": "stderr",
     "output_type": "stream",
     "text": [
      "Not using image_cache.\n",
      "Not using image_cache.\n"
     ]
    },
    {
     "name": "stdout",
     "output_type": "stream",
     "text": [
      "aws s3 cp \"/media/yuncong/BstemAtlasData/CSHL_data_processed/CHATM3/CHATM3_thumbnail_mask/CHATM3_slide63_2018_02_19-S3_thumbnail_mask.png\" \"s3://mousebrainatlas-data/CSHL_data_processed/CHATM3/CHATM3_thumbnail_mask/CHATM3_slide63_2018_02_19-S3_thumbnail_mask.png\"\n",
      "0\n",
      "/media/yuncong/BstemAtlasData/CSHL_data_processed/CHATM3/CHATM3_thumbnail_NtbNormalized/CHATM3_slide64_2018_02_19-S3_thumbnail_NtbNormalized.tif\n",
      "/media/yuncong/BstemAtlasData/CSHL_data_processed/CHATM3/CHATM3_thumbnail_NtbNormalized/CHATM3_slide64_2018_02_19-S3_thumbnail_NtbNormalized.tif\n"
     ]
    },
    {
     "name": "stderr",
     "output_type": "stream",
     "text": [
      "Not using image_cache.\n",
      "Not using image_cache.\n"
     ]
    },
    {
     "name": "stdout",
     "output_type": "stream",
     "text": [
      "aws s3 cp \"/media/yuncong/BstemAtlasData/CSHL_data_processed/CHATM3/CHATM3_thumbnail_mask/CHATM3_slide64_2018_02_19-S3_thumbnail_mask.png\" \"s3://mousebrainatlas-data/CSHL_data_processed/CHATM3/CHATM3_thumbnail_mask/CHATM3_slide64_2018_02_19-S3_thumbnail_mask.png\"\n",
      "0\n",
      "/media/yuncong/BstemAtlasData/CSHL_data_processed/CHATM3/CHATM3_thumbnail_NtbNormalized/CHATM3_slide65_2018_02_19-S1_thumbnail_NtbNormalized.tif\n",
      "/media/yuncong/BstemAtlasData/CSHL_data_processed/CHATM3/CHATM3_thumbnail_NtbNormalized/CHATM3_slide65_2018_02_19-S1_thumbnail_NtbNormalized.tif\n"
     ]
    },
    {
     "name": "stderr",
     "output_type": "stream",
     "text": [
      "Not using image_cache.\n",
      "Not using image_cache.\n"
     ]
    },
    {
     "name": "stdout",
     "output_type": "stream",
     "text": [
      "aws s3 cp \"/media/yuncong/BstemAtlasData/CSHL_data_processed/CHATM3/CHATM3_thumbnail_mask/CHATM3_slide65_2018_02_19-S1_thumbnail_mask.png\" \"s3://mousebrainatlas-data/CSHL_data_processed/CHATM3/CHATM3_thumbnail_mask/CHATM3_slide65_2018_02_19-S1_thumbnail_mask.png\"\n",
      "0\n",
      "/media/yuncong/BstemAtlasData/CSHL_data_processed/CHATM3/CHATM3_thumbnail_NtbNormalized/CHATM3_slide66_2018_02_19-S1_thumbnail_NtbNormalized.tif\n"
     ]
    },
    {
     "name": "stderr",
     "output_type": "stream",
     "text": [
      "Not using image_cache.\n",
      "Not using image_cache.\n"
     ]
    },
    {
     "name": "stdout",
     "output_type": "stream",
     "text": [
      "/media/yuncong/BstemAtlasData/CSHL_data_processed/CHATM3/CHATM3_thumbnail_NtbNormalized/CHATM3_slide66_2018_02_19-S1_thumbnail_NtbNormalized.tif\n",
      "aws s3 cp \"/media/yuncong/BstemAtlasData/CSHL_data_processed/CHATM3/CHATM3_thumbnail_mask/CHATM3_slide66_2018_02_19-S1_thumbnail_mask.png\" \"s3://mousebrainatlas-data/CSHL_data_processed/CHATM3/CHATM3_thumbnail_mask/CHATM3_slide66_2018_02_19-S1_thumbnail_mask.png\"\n",
      "0\n",
      "/media/yuncong/BstemAtlasData/CSHL_data_processed/CHATM3/CHATM3_thumbnail_NtbNormalized/CHATM3_slide66_2018_02_19-S2_thumbnail_NtbNormalized.tif\n",
      "/media/yuncong/BstemAtlasData/CSHL_data_processed/CHATM3/CHATM3_thumbnail_NtbNormalized/CHATM3_slide66_2018_02_19-S2_thumbnail_NtbNormalized.tif\n"
     ]
    },
    {
     "name": "stderr",
     "output_type": "stream",
     "text": [
      "Not using image_cache.\n",
      "Not using image_cache.\n"
     ]
    },
    {
     "name": "stdout",
     "output_type": "stream",
     "text": [
      "aws s3 cp \"/media/yuncong/BstemAtlasData/CSHL_data_processed/CHATM3/CHATM3_thumbnail_mask/CHATM3_slide66_2018_02_19-S2_thumbnail_mask.png\" \"s3://mousebrainatlas-data/CSHL_data_processed/CHATM3/CHATM3_thumbnail_mask/CHATM3_slide66_2018_02_19-S2_thumbnail_mask.png\"\n",
      "0\n",
      "/media/yuncong/BstemAtlasData/CSHL_data_processed/CHATM3/CHATM3_thumbnail_NtbNormalized/CHATM3_slide65_2018_02_19-S3_thumbnail_NtbNormalized.tif\n",
      "/media/yuncong/BstemAtlasData/CSHL_data_processed/CHATM3/CHATM3_thumbnail_NtbNormalized/CHATM3_slide65_2018_02_19-S3_thumbnail_NtbNormalized.tif\n"
     ]
    },
    {
     "name": "stderr",
     "output_type": "stream",
     "text": [
      "Not using image_cache.\n",
      "Not using image_cache.\n"
     ]
    },
    {
     "name": "stdout",
     "output_type": "stream",
     "text": [
      "aws s3 cp \"/media/yuncong/BstemAtlasData/CSHL_data_processed/CHATM3/CHATM3_thumbnail_mask/CHATM3_slide65_2018_02_19-S3_thumbnail_mask.png\" \"s3://mousebrainatlas-data/CSHL_data_processed/CHATM3/CHATM3_thumbnail_mask/CHATM3_slide65_2018_02_19-S3_thumbnail_mask.png\"\n",
      "0\n",
      "/media/yuncong/BstemAtlasData/CSHL_data_processed/CHATM3/CHATM3_thumbnail_NtbNormalized/CHATM3_slide66_2018_02_19-S3_thumbnail_NtbNormalized.tif\n",
      "/media/yuncong/BstemAtlasData/CSHL_data_processed/CHATM3/CHATM3_thumbnail_NtbNormalized/CHATM3_slide66_2018_02_19-S3_thumbnail_NtbNormalized.tif\n"
     ]
    },
    {
     "name": "stderr",
     "output_type": "stream",
     "text": [
      "Not using image_cache.\n",
      "Not using image_cache.\n"
     ]
    },
    {
     "name": "stdout",
     "output_type": "stream",
     "text": [
      "aws s3 cp \"/media/yuncong/BstemAtlasData/CSHL_data_processed/CHATM3/CHATM3_thumbnail_mask/CHATM3_slide66_2018_02_19-S3_thumbnail_mask.png\" \"s3://mousebrainatlas-data/CSHL_data_processed/CHATM3/CHATM3_thumbnail_mask/CHATM3_slide66_2018_02_19-S3_thumbnail_mask.png\"\n",
      "0\n",
      "/media/yuncong/BstemAtlasData/CSHL_data_processed/CHATM3/CHATM3_thumbnail_NtbNormalized/CHATM3_slide67_2018_02_19-S1_thumbnail_NtbNormalized.tif\n",
      "/media/yuncong/BstemAtlasData/CSHL_data_processed/CHATM3/CHATM3_thumbnail_NtbNormalized/CHATM3_slide67_2018_02_19-S1_thumbnail_NtbNormalized.tif\n"
     ]
    },
    {
     "name": "stderr",
     "output_type": "stream",
     "text": [
      "Not using image_cache.\n",
      "Not using image_cache.\n"
     ]
    },
    {
     "name": "stdout",
     "output_type": "stream",
     "text": [
      "aws s3 cp \"/media/yuncong/BstemAtlasData/CSHL_data_processed/CHATM3/CHATM3_thumbnail_mask/CHATM3_slide67_2018_02_19-S1_thumbnail_mask.png\" \"s3://mousebrainatlas-data/CSHL_data_processed/CHATM3/CHATM3_thumbnail_mask/CHATM3_slide67_2018_02_19-S1_thumbnail_mask.png\"\n",
      "0\n",
      "/media/yuncong/BstemAtlasData/CSHL_data_processed/CHATM3/CHATM3_thumbnail_NtbNormalized/CHATM3_slide68_2018_02_19-S1_thumbnail_NtbNormalized.tif\n",
      "/media/yuncong/BstemAtlasData/CSHL_data_processed/CHATM3/CHATM3_thumbnail_NtbNormalized/CHATM3_slide68_2018_02_19-S1_thumbnail_NtbNormalized.tif\n"
     ]
    },
    {
     "name": "stderr",
     "output_type": "stream",
     "text": [
      "Not using image_cache.\n",
      "Not using image_cache.\n"
     ]
    },
    {
     "name": "stdout",
     "output_type": "stream",
     "text": [
      "aws s3 cp \"/media/yuncong/BstemAtlasData/CSHL_data_processed/CHATM3/CHATM3_thumbnail_mask/CHATM3_slide68_2018_02_19-S1_thumbnail_mask.png\" \"s3://mousebrainatlas-data/CSHL_data_processed/CHATM3/CHATM3_thumbnail_mask/CHATM3_slide68_2018_02_19-S1_thumbnail_mask.png\"\n",
      "0\n",
      "/media/yuncong/BstemAtlasData/CSHL_data_processed/CHATM3/CHATM3_thumbnail_NtbNormalized/CHATM3_slide67_2018_02_19-S2_thumbnail_NtbNormalized.tif\n",
      "/media/yuncong/BstemAtlasData/CSHL_data_processed/CHATM3/CHATM3_thumbnail_NtbNormalized/CHATM3_slide67_2018_02_19-S2_thumbnail_NtbNormalized.tif\n"
     ]
    },
    {
     "name": "stderr",
     "output_type": "stream",
     "text": [
      "Not using image_cache.\n",
      "Not using image_cache.\n"
     ]
    },
    {
     "name": "stdout",
     "output_type": "stream",
     "text": [
      "aws s3 cp \"/media/yuncong/BstemAtlasData/CSHL_data_processed/CHATM3/CHATM3_thumbnail_mask/CHATM3_slide67_2018_02_19-S2_thumbnail_mask.png\" \"s3://mousebrainatlas-data/CSHL_data_processed/CHATM3/CHATM3_thumbnail_mask/CHATM3_slide67_2018_02_19-S2_thumbnail_mask.png\"\n",
      "0\n",
      "/media/yuncong/BstemAtlasData/CSHL_data_processed/CHATM3/CHATM3_thumbnail_NtbNormalized/CHATM3_slide68_2018_02_19-S2_thumbnail_NtbNormalized.tif\n",
      "/media/yuncong/BstemAtlasData/CSHL_data_processed/CHATM3/CHATM3_thumbnail_NtbNormalized/CHATM3_slide68_2018_02_19-S2_thumbnail_NtbNormalized.tif\n"
     ]
    },
    {
     "name": "stderr",
     "output_type": "stream",
     "text": [
      "Not using image_cache.\n",
      "Not using image_cache.\n"
     ]
    },
    {
     "name": "stdout",
     "output_type": "stream",
     "text": [
      "aws s3 cp \"/media/yuncong/BstemAtlasData/CSHL_data_processed/CHATM3/CHATM3_thumbnail_mask/CHATM3_slide68_2018_02_19-S2_thumbnail_mask.png\" \"s3://mousebrainatlas-data/CSHL_data_processed/CHATM3/CHATM3_thumbnail_mask/CHATM3_slide68_2018_02_19-S2_thumbnail_mask.png\"\n",
      "0\n",
      "/media/yuncong/BstemAtlasData/CSHL_data_processed/CHATM3/CHATM3_thumbnail_NtbNormalized/CHATM3_slide67_2018_02_19-S3_thumbnail_NtbNormalized.tif\n",
      "/media/yuncong/BstemAtlasData/CSHL_data_processed/CHATM3/CHATM3_thumbnail_NtbNormalized/CHATM3_slide67_2018_02_19-S3_thumbnail_NtbNormalized.tif\n"
     ]
    },
    {
     "name": "stderr",
     "output_type": "stream",
     "text": [
      "Not using image_cache.\n",
      "Not using image_cache.\n"
     ]
    },
    {
     "name": "stdout",
     "output_type": "stream",
     "text": [
      "aws s3 cp \"/media/yuncong/BstemAtlasData/CSHL_data_processed/CHATM3/CHATM3_thumbnail_mask/CHATM3_slide67_2018_02_19-S3_thumbnail_mask.png\" \"s3://mousebrainatlas-data/CSHL_data_processed/CHATM3/CHATM3_thumbnail_mask/CHATM3_slide67_2018_02_19-S3_thumbnail_mask.png\"\n",
      "0\n",
      "/media/yuncong/BstemAtlasData/CSHL_data_processed/CHATM3/CHATM3_thumbnail_NtbNormalized/CHATM3_slide68_2018_02_19-S3_thumbnail_NtbNormalized.tif\n"
     ]
    },
    {
     "name": "stderr",
     "output_type": "stream",
     "text": [
      "Not using image_cache.\n",
      "Not using image_cache.\n"
     ]
    },
    {
     "name": "stdout",
     "output_type": "stream",
     "text": [
      "/media/yuncong/BstemAtlasData/CSHL_data_processed/CHATM3/CHATM3_thumbnail_NtbNormalized/CHATM3_slide68_2018_02_19-S3_thumbnail_NtbNormalized.tif\n",
      "aws s3 cp \"/media/yuncong/BstemAtlasData/CSHL_data_processed/CHATM3/CHATM3_thumbnail_mask/CHATM3_slide68_2018_02_19-S3_thumbnail_mask.png\" \"s3://mousebrainatlas-data/CSHL_data_processed/CHATM3/CHATM3_thumbnail_mask/CHATM3_slide68_2018_02_19-S3_thumbnail_mask.png\"\n",
      "0\n",
      "/media/yuncong/BstemAtlasData/CSHL_data_processed/CHATM3/CHATM3_thumbnail_NtbNormalized/CHATM3_slide69_2018_02_19-S1_thumbnail_NtbNormalized.tif\n",
      "/media/yuncong/BstemAtlasData/CSHL_data_processed/CHATM3/CHATM3_thumbnail_NtbNormalized/CHATM3_slide69_2018_02_19-S1_thumbnail_NtbNormalized.tif\n"
     ]
    },
    {
     "name": "stderr",
     "output_type": "stream",
     "text": [
      "Not using image_cache.\n",
      "Not using image_cache.\n"
     ]
    },
    {
     "name": "stdout",
     "output_type": "stream",
     "text": [
      "aws s3 cp \"/media/yuncong/BstemAtlasData/CSHL_data_processed/CHATM3/CHATM3_thumbnail_mask/CHATM3_slide69_2018_02_19-S1_thumbnail_mask.png\" \"s3://mousebrainatlas-data/CSHL_data_processed/CHATM3/CHATM3_thumbnail_mask/CHATM3_slide69_2018_02_19-S1_thumbnail_mask.png\"\n",
      "0\n",
      "/media/yuncong/BstemAtlasData/CSHL_data_processed/CHATM3/CHATM3_thumbnail_NtbNormalized/CHATM3_slide70_2018_02_19-S1_thumbnail_NtbNormalized.tif\n",
      "/media/yuncong/BstemAtlasData/CSHL_data_processed/CHATM3/CHATM3_thumbnail_NtbNormalized/CHATM3_slide70_2018_02_19-S1_thumbnail_NtbNormalized.tif\n"
     ]
    },
    {
     "name": "stderr",
     "output_type": "stream",
     "text": [
      "Not using image_cache.\n",
      "Not using image_cache.\n"
     ]
    },
    {
     "name": "stdout",
     "output_type": "stream",
     "text": [
      "aws s3 cp \"/media/yuncong/BstemAtlasData/CSHL_data_processed/CHATM3/CHATM3_thumbnail_mask/CHATM3_slide70_2018_02_19-S1_thumbnail_mask.png\" \"s3://mousebrainatlas-data/CSHL_data_processed/CHATM3/CHATM3_thumbnail_mask/CHATM3_slide70_2018_02_19-S1_thumbnail_mask.png\"\n",
      "0\n",
      "/media/yuncong/BstemAtlasData/CSHL_data_processed/CHATM3/CHATM3_thumbnail_NtbNormalized/CHATM3_slide69_2018_02_19-S2_thumbnail_NtbNormalized.tif\n",
      "/media/yuncong/BstemAtlasData/CSHL_data_processed/CHATM3/CHATM3_thumbnail_NtbNormalized/CHATM3_slide69_2018_02_19-S2_thumbnail_NtbNormalized.tif\n"
     ]
    },
    {
     "name": "stderr",
     "output_type": "stream",
     "text": [
      "Not using image_cache.\n",
      "Not using image_cache.\n"
     ]
    },
    {
     "name": "stdout",
     "output_type": "stream",
     "text": [
      "aws s3 cp \"/media/yuncong/BstemAtlasData/CSHL_data_processed/CHATM3/CHATM3_thumbnail_mask/CHATM3_slide69_2018_02_19-S2_thumbnail_mask.png\" \"s3://mousebrainatlas-data/CSHL_data_processed/CHATM3/CHATM3_thumbnail_mask/CHATM3_slide69_2018_02_19-S2_thumbnail_mask.png\"\n",
      "0\n",
      "/media/yuncong/BstemAtlasData/CSHL_data_processed/CHATM3/CHATM3_thumbnail_NtbNormalized/CHATM3_slide70_2018_02_19-S2_thumbnail_NtbNormalized.tif\n",
      "/media/yuncong/BstemAtlasData/CSHL_data_processed/CHATM3/CHATM3_thumbnail_NtbNormalized/CHATM3_slide70_2018_02_19-S2_thumbnail_NtbNormalized.tif"
     ]
    },
    {
     "name": "stderr",
     "output_type": "stream",
     "text": [
      "Not using image_cache.\n",
      "Not using image_cache.\n"
     ]
    },
    {
     "name": "stdout",
     "output_type": "stream",
     "text": [
      "\n",
      "aws s3 cp \"/media/yuncong/BstemAtlasData/CSHL_data_processed/CHATM3/CHATM3_thumbnail_mask/CHATM3_slide70_2018_02_19-S2_thumbnail_mask.png\" \"s3://mousebrainatlas-data/CSHL_data_processed/CHATM3/CHATM3_thumbnail_mask/CHATM3_slide70_2018_02_19-S2_thumbnail_mask.png\"\n",
      "0\n",
      "/media/yuncong/BstemAtlasData/CSHL_data_processed/CHATM3/CHATM3_thumbnail_NtbNormalized/CHATM3_slide69_2018_02_19-S3_thumbnail_NtbNormalized.tif\n"
     ]
    },
    {
     "name": "stderr",
     "output_type": "stream",
     "text": [
      "Not using image_cache.\n",
      "Not using image_cache.\n"
     ]
    },
    {
     "name": "stdout",
     "output_type": "stream",
     "text": [
      "/media/yuncong/BstemAtlasData/CSHL_data_processed/CHATM3/CHATM3_thumbnail_NtbNormalized/CHATM3_slide69_2018_02_19-S3_thumbnail_NtbNormalized.tif\n",
      "aws s3 cp \"/media/yuncong/BstemAtlasData/CSHL_data_processed/CHATM3/CHATM3_thumbnail_mask/CHATM3_slide69_2018_02_19-S3_thumbnail_mask.png\" \"s3://mousebrainatlas-data/CSHL_data_processed/CHATM3/CHATM3_thumbnail_mask/CHATM3_slide69_2018_02_19-S3_thumbnail_mask.png\"\n",
      "0\n",
      "/media/yuncong/BstemAtlasData/CSHL_data_processed/CHATM3/CHATM3_thumbnail_NtbNormalized/CHATM3_slide70_2018_02_19-S3_thumbnail_NtbNormalized.tif\n"
     ]
    },
    {
     "name": "stderr",
     "output_type": "stream",
     "text": [
      "Not using image_cache.\n",
      "Not using image_cache.\n"
     ]
    },
    {
     "name": "stdout",
     "output_type": "stream",
     "text": [
      "/media/yuncong/BstemAtlasData/CSHL_data_processed/CHATM3/CHATM3_thumbnail_NtbNormalized/CHATM3_slide70_2018_02_19-S3_thumbnail_NtbNormalized.tif\n",
      "aws s3 cp \"/media/yuncong/BstemAtlasData/CSHL_data_processed/CHATM3/CHATM3_thumbnail_mask/CHATM3_slide70_2018_02_19-S3_thumbnail_mask.png\" \"s3://mousebrainatlas-data/CSHL_data_processed/CHATM3/CHATM3_thumbnail_mask/CHATM3_slide70_2018_02_19-S3_thumbnail_mask.png\"\n",
      "0\n",
      "/media/yuncong/BstemAtlasData/CSHL_data_processed/CHATM3/CHATM3_thumbnail_NtbNormalized/CHATM3_slide71_2018_02_19-S1_thumbnail_NtbNormalized.tif\n",
      "/media/yuncong/BstemAtlasData/CSHL_data_processed/CHATM3/CHATM3_thumbnail_NtbNormalized/CHATM3_slide71_2018_02_19-S1_thumbnail_NtbNormalized.tif\n"
     ]
    },
    {
     "name": "stderr",
     "output_type": "stream",
     "text": [
      "Not using image_cache.\n",
      "Not using image_cache.\n"
     ]
    },
    {
     "name": "stdout",
     "output_type": "stream",
     "text": [
      "aws s3 cp \"/media/yuncong/BstemAtlasData/CSHL_data_processed/CHATM3/CHATM3_thumbnail_mask/CHATM3_slide71_2018_02_19-S1_thumbnail_mask.png\" \"s3://mousebrainatlas-data/CSHL_data_processed/CHATM3/CHATM3_thumbnail_mask/CHATM3_slide71_2018_02_19-S1_thumbnail_mask.png\"\n",
      "0\n",
      "/media/yuncong/BstemAtlasData/CSHL_data_processed/CHATM3/CHATM3_thumbnail_NtbNormalized/CHATM3_slide72_2018_02_19-S1_thumbnail_NtbNormalized.tif\n",
      "/media/yuncong/BstemAtlasData/CSHL_data_processed/CHATM3/CHATM3_thumbnail_NtbNormalized/CHATM3_slide72_2018_02_19-S1_thumbnail_NtbNormalized.tif\n"
     ]
    },
    {
     "name": "stderr",
     "output_type": "stream",
     "text": [
      "Not using image_cache.\n",
      "Not using image_cache.\n"
     ]
    },
    {
     "name": "stdout",
     "output_type": "stream",
     "text": [
      "aws s3 cp \"/media/yuncong/BstemAtlasData/CSHL_data_processed/CHATM3/CHATM3_thumbnail_mask/CHATM3_slide72_2018_02_19-S1_thumbnail_mask.png\" \"s3://mousebrainatlas-data/CSHL_data_processed/CHATM3/CHATM3_thumbnail_mask/CHATM3_slide72_2018_02_19-S1_thumbnail_mask.png\"\n",
      "0\n"
     ]
    },
    {
     "name": "stderr",
     "output_type": "stream",
     "text": [
      "Not using image_cache.\n",
      "Not using image_cache.\n"
     ]
    },
    {
     "name": "stdout",
     "output_type": "stream",
     "text": [
      "/media/yuncong/BstemAtlasData/CSHL_data_processed/CHATM3/CHATM3_thumbnail_NtbNormalized/CHATM3_slide71_2018_02_19-S2_thumbnail_NtbNormalized.tif\n",
      "/media/yuncong/BstemAtlasData/CSHL_data_processed/CHATM3/CHATM3_thumbnail_NtbNormalized/CHATM3_slide71_2018_02_19-S2_thumbnail_NtbNormalized.tif\n",
      "aws s3 cp \"/media/yuncong/BstemAtlasData/CSHL_data_processed/CHATM3/CHATM3_thumbnail_mask/CHATM3_slide71_2018_02_19-S2_thumbnail_mask.png\" \"s3://mousebrainatlas-data/CSHL_data_processed/CHATM3/CHATM3_thumbnail_mask/CHATM3_slide71_2018_02_19-S2_thumbnail_mask.png\"\n",
      "0\n",
      "/media/yuncong/BstemAtlasData/CSHL_data_processed/CHATM3/CHATM3_thumbnail_NtbNormalized/CHATM3_slide72_2018_02_19-S2_thumbnail_NtbNormalized.tif\n",
      "/media/yuncong/BstemAtlasData/CSHL_data_processed/CHATM3/CHATM3_thumbnail_NtbNormalized/CHATM3_slide72_2018_02_19-S2_thumbnail_NtbNormalized.tif\n"
     ]
    },
    {
     "name": "stderr",
     "output_type": "stream",
     "text": [
      "Not using image_cache.\n",
      "Not using image_cache.\n"
     ]
    },
    {
     "name": "stdout",
     "output_type": "stream",
     "text": [
      "aws s3 cp \"/media/yuncong/BstemAtlasData/CSHL_data_processed/CHATM3/CHATM3_thumbnail_mask/CHATM3_slide72_2018_02_19-S2_thumbnail_mask.png\" \"s3://mousebrainatlas-data/CSHL_data_processed/CHATM3/CHATM3_thumbnail_mask/CHATM3_slide72_2018_02_19-S2_thumbnail_mask.png\"\n",
      "0\n",
      "/media/yuncong/BstemAtlasData/CSHL_data_processed/CHATM3/CHATM3_thumbnail_NtbNormalized/CHATM3_slide71_2018_02_19-S3_thumbnail_NtbNormalized.tif\n",
      "/media/yuncong/BstemAtlasData/CSHL_data_processed/CHATM3/CHATM3_thumbnail_NtbNormalized/CHATM3_slide71_2018_02_19-S3_thumbnail_NtbNormalized.tif\n"
     ]
    },
    {
     "name": "stderr",
     "output_type": "stream",
     "text": [
      "Not using image_cache.\n",
      "Not using image_cache.\n"
     ]
    },
    {
     "name": "stdout",
     "output_type": "stream",
     "text": [
      "aws s3 cp \"/media/yuncong/BstemAtlasData/CSHL_data_processed/CHATM3/CHATM3_thumbnail_mask/CHATM3_slide71_2018_02_19-S3_thumbnail_mask.png\" \"s3://mousebrainatlas-data/CSHL_data_processed/CHATM3/CHATM3_thumbnail_mask/CHATM3_slide71_2018_02_19-S3_thumbnail_mask.png\"\n",
      "0\n",
      "/media/yuncong/BstemAtlasData/CSHL_data_processed/CHATM3/CHATM3_thumbnail_NtbNormalized/CHATM3_slide72_2018_02_19-S3_thumbnail_NtbNormalized.tif\n"
     ]
    },
    {
     "name": "stderr",
     "output_type": "stream",
     "text": [
      "Not using image_cache.\n",
      "Not using image_cache.\n"
     ]
    },
    {
     "name": "stdout",
     "output_type": "stream",
     "text": [
      "/media/yuncong/BstemAtlasData/CSHL_data_processed/CHATM3/CHATM3_thumbnail_NtbNormalized/CHATM3_slide72_2018_02_19-S3_thumbnail_NtbNormalized.tif\n",
      "aws s3 cp \"/media/yuncong/BstemAtlasData/CSHL_data_processed/CHATM3/CHATM3_thumbnail_mask/CHATM3_slide72_2018_02_19-S3_thumbnail_mask.png\" \"s3://mousebrainatlas-data/CSHL_data_processed/CHATM3/CHATM3_thumbnail_mask/CHATM3_slide72_2018_02_19-S3_thumbnail_mask.png\"\n",
      "0\n",
      "/media/yuncong/BstemAtlasData/CSHL_data_processed/CHATM3/CHATM3_thumbnail_NtbNormalized/CHATM3_slide73_2018_01_26-S1_thumbnail_NtbNormalized.tif\n",
      "/media/yuncong/BstemAtlasData/CSHL_data_processed/CHATM3/CHATM3_thumbnail_NtbNormalized/CHATM3_slide73_2018_01_26-S1_thumbnail_NtbNormalized.tif"
     ]
    },
    {
     "name": "stderr",
     "output_type": "stream",
     "text": [
      "Not using image_cache.\n",
      "Not using image_cache.\n"
     ]
    },
    {
     "name": "stdout",
     "output_type": "stream",
     "text": [
      "\n",
      "aws s3 cp \"/media/yuncong/BstemAtlasData/CSHL_data_processed/CHATM3/CHATM3_thumbnail_mask/CHATM3_slide73_2018_01_26-S1_thumbnail_mask.png\" \"s3://mousebrainatlas-data/CSHL_data_processed/CHATM3/CHATM3_thumbnail_mask/CHATM3_slide73_2018_01_26-S1_thumbnail_mask.png\"\n",
      "0\n",
      "/media/yuncong/BstemAtlasData/CSHL_data_processed/CHATM3/CHATM3_thumbnail_NtbNormalized/CHATM3_slide73_2018_01_26-S2_thumbnail_NtbNormalized.tif\n",
      "/media/yuncong/BstemAtlasData/CSHL_data_processed/CHATM3/CHATM3_thumbnail_NtbNormalized/CHATM3_slide73_2018_01_26-S2_thumbnail_NtbNormalized.tif\n"
     ]
    },
    {
     "name": "stderr",
     "output_type": "stream",
     "text": [
      "Not using image_cache.\n",
      "Not using image_cache.\n"
     ]
    },
    {
     "name": "stdout",
     "output_type": "stream",
     "text": [
      "aws s3 cp \"/media/yuncong/BstemAtlasData/CSHL_data_processed/CHATM3/CHATM3_thumbnail_mask/CHATM3_slide73_2018_01_26-S2_thumbnail_mask.png\" \"s3://mousebrainatlas-data/CSHL_data_processed/CHATM3/CHATM3_thumbnail_mask/CHATM3_slide73_2018_01_26-S2_thumbnail_mask.png\"\n",
      "0\n",
      "/media/yuncong/BstemAtlasData/CSHL_data_processed/CHATM3/CHATM3_thumbnail_NtbNormalized/CHATM3_slide73_2018_01_26-S3_thumbnail_NtbNormalized.tif\n",
      "/media/yuncong/BstemAtlasData/CSHL_data_processed/CHATM3/CHATM3_thumbnail_NtbNormalized/CHATM3_slide73_2018_01_26-S3_thumbnail_NtbNormalized.tif\n"
     ]
    },
    {
     "name": "stderr",
     "output_type": "stream",
     "text": [
      "Not using image_cache.\n",
      "Not using image_cache.\n"
     ]
    },
    {
     "name": "stdout",
     "output_type": "stream",
     "text": [
      "aws s3 cp \"/media/yuncong/BstemAtlasData/CSHL_data_processed/CHATM3/CHATM3_thumbnail_mask/CHATM3_slide73_2018_01_26-S3_thumbnail_mask.png\" \"s3://mousebrainatlas-data/CSHL_data_processed/CHATM3/CHATM3_thumbnail_mask/CHATM3_slide73_2018_01_26-S3_thumbnail_mask.png\"\n",
      "0\n",
      "/media/yuncong/BstemAtlasData/CSHL_data_processed/CHATM3/CHATM3_thumbnail_NtbNormalized/CHATM3_slide75_2018_01_26-S1_thumbnail_NtbNormalized.tif\n",
      "/media/yuncong/BstemAtlasData/CSHL_data_processed/CHATM3/CHATM3_thumbnail_NtbNormalized/CHATM3_slide75_2018_01_26-S1_thumbnail_NtbNormalized.tif\n"
     ]
    },
    {
     "name": "stderr",
     "output_type": "stream",
     "text": [
      "Not using image_cache.\n",
      "Not using image_cache.\n"
     ]
    },
    {
     "name": "stdout",
     "output_type": "stream",
     "text": [
      "aws s3 cp \"/media/yuncong/BstemAtlasData/CSHL_data_processed/CHATM3/CHATM3_thumbnail_mask/CHATM3_slide75_2018_01_26-S1_thumbnail_mask.png\" \"s3://mousebrainatlas-data/CSHL_data_processed/CHATM3/CHATM3_thumbnail_mask/CHATM3_slide75_2018_01_26-S1_thumbnail_mask.png\"\n",
      "0\n",
      "/media/yuncong/BstemAtlasData/CSHL_data_processed/CHATM3/CHATM3_thumbnail_NtbNormalized/CHATM3_slide75_2018_01_26-S2_thumbnail_NtbNormalized.tif\n",
      "/media/yuncong/BstemAtlasData/CSHL_data_processed/CHATM3/CHATM3_thumbnail_NtbNormalized/CHATM3_slide75_2018_01_26-S2_thumbnail_NtbNormalized.tif\n"
     ]
    },
    {
     "name": "stderr",
     "output_type": "stream",
     "text": [
      "Not using image_cache.\n",
      "Not using image_cache.\n"
     ]
    },
    {
     "name": "stdout",
     "output_type": "stream",
     "text": [
      "aws s3 cp \"/media/yuncong/BstemAtlasData/CSHL_data_processed/CHATM3/CHATM3_thumbnail_mask/CHATM3_slide75_2018_01_26-S2_thumbnail_mask.png\" \"s3://mousebrainatlas-data/CSHL_data_processed/CHATM3/CHATM3_thumbnail_mask/CHATM3_slide75_2018_01_26-S2_thumbnail_mask.png\"\n",
      "0\n",
      "/media/yuncong/BstemAtlasData/CSHL_data_processed/CHATM3/CHATM3_thumbnail_NtbNormalized/CHATM3_slide75_2018_01_26-S3_thumbnail_NtbNormalized.tif\n"
     ]
    },
    {
     "name": "stderr",
     "output_type": "stream",
     "text": [
      "Not using image_cache.\n",
      "Not using image_cache.\n"
     ]
    },
    {
     "name": "stdout",
     "output_type": "stream",
     "text": [
      "/media/yuncong/BstemAtlasData/CSHL_data_processed/CHATM3/CHATM3_thumbnail_NtbNormalized/CHATM3_slide75_2018_01_26-S3_thumbnail_NtbNormalized.tif\n",
      "aws s3 cp \"/media/yuncong/BstemAtlasData/CSHL_data_processed/CHATM3/CHATM3_thumbnail_mask/CHATM3_slide75_2018_01_26-S3_thumbnail_mask.png\" \"s3://mousebrainatlas-data/CSHL_data_processed/CHATM3/CHATM3_thumbnail_mask/CHATM3_slide75_2018_01_26-S3_thumbnail_mask.png\"\n",
      "0\n",
      "/media/yuncong/BstemAtlasData/CSHL_data_processed/CHATM3/CHATM3_thumbnail_NtbNormalized/CHATM3_slide77_2018_01_26-S1_thumbnail_NtbNormalized.tif\n",
      "/media/yuncong/BstemAtlasData/CSHL_data_processed/CHATM3/CHATM3_thumbnail_NtbNormalized/CHATM3_slide77_2018_01_26-S1_thumbnail_NtbNormalized.tif\n"
     ]
    },
    {
     "name": "stderr",
     "output_type": "stream",
     "text": [
      "Not using image_cache.\n",
      "Not using image_cache.\n"
     ]
    },
    {
     "name": "stdout",
     "output_type": "stream",
     "text": [
      "aws s3 cp \"/media/yuncong/BstemAtlasData/CSHL_data_processed/CHATM3/CHATM3_thumbnail_mask/CHATM3_slide77_2018_01_26-S1_thumbnail_mask.png\" \"s3://mousebrainatlas-data/CSHL_data_processed/CHATM3/CHATM3_thumbnail_mask/CHATM3_slide77_2018_01_26-S1_thumbnail_mask.png\"\n",
      "0\n",
      "/media/yuncong/BstemAtlasData/CSHL_data_processed/CHATM3/CHATM3_thumbnail_NtbNormalized/CHATM3_slide77_2018_01_26-S2_thumbnail_NtbNormalized.tif\n",
      "/media/yuncong/BstemAtlasData/CSHL_data_processed/CHATM3/CHATM3_thumbnail_NtbNormalized/CHATM3_slide77_2018_01_26-S2_thumbnail_NtbNormalized.tif\n"
     ]
    },
    {
     "name": "stderr",
     "output_type": "stream",
     "text": [
      "Not using image_cache.\n",
      "Not using image_cache.\n"
     ]
    },
    {
     "name": "stdout",
     "output_type": "stream",
     "text": [
      "aws s3 cp \"/media/yuncong/BstemAtlasData/CSHL_data_processed/CHATM3/CHATM3_thumbnail_mask/CHATM3_slide77_2018_01_26-S2_thumbnail_mask.png\" \"s3://mousebrainatlas-data/CSHL_data_processed/CHATM3/CHATM3_thumbnail_mask/CHATM3_slide77_2018_01_26-S2_thumbnail_mask.png\"\n",
      "0\n",
      "/media/yuncong/BstemAtlasData/CSHL_data_processed/CHATM3/CHATM3_thumbnail_NtbNormalized/CHATM3_slide77_2018_01_26-S3_thumbnail_NtbNormalized.tif\n",
      "/media/yuncong/BstemAtlasData/CSHL_data_processed/CHATM3/CHATM3_thumbnail_NtbNormalized/CHATM3_slide77_2018_01_26-S3_thumbnail_NtbNormalized.tif\n"
     ]
    },
    {
     "name": "stderr",
     "output_type": "stream",
     "text": [
      "Not using image_cache.\n",
      "Not using image_cache.\n"
     ]
    },
    {
     "name": "stdout",
     "output_type": "stream",
     "text": [
      "aws s3 cp \"/media/yuncong/BstemAtlasData/CSHL_data_processed/CHATM3/CHATM3_thumbnail_mask/CHATM3_slide77_2018_01_26-S3_thumbnail_mask.png\" \"s3://mousebrainatlas-data/CSHL_data_processed/CHATM3/CHATM3_thumbnail_mask/CHATM3_slide77_2018_01_26-S3_thumbnail_mask.png\"\n",
      "0\n",
      "/media/yuncong/BstemAtlasData/CSHL_data_processed/CHATM3/CHATM3_thumbnail_NtbNormalized/CHATM3_slide79_2018_01_26-S1_thumbnail_NtbNormalized.tif\n",
      "/media/yuncong/BstemAtlasData/CSHL_data_processed/CHATM3/CHATM3_thumbnail_NtbNormalized/CHATM3_slide79_2018_01_26-S1_thumbnail_NtbNormalized.tif\n"
     ]
    },
    {
     "name": "stderr",
     "output_type": "stream",
     "text": [
      "Not using image_cache.\n",
      "Not using image_cache.\n"
     ]
    },
    {
     "name": "stdout",
     "output_type": "stream",
     "text": [
      "aws s3 cp \"/media/yuncong/BstemAtlasData/CSHL_data_processed/CHATM3/CHATM3_thumbnail_mask/CHATM3_slide79_2018_01_26-S1_thumbnail_mask.png\" \"s3://mousebrainatlas-data/CSHL_data_processed/CHATM3/CHATM3_thumbnail_mask/CHATM3_slide79_2018_01_26-S1_thumbnail_mask.png\"\n",
      "0\n",
      "/media/yuncong/BstemAtlasData/CSHL_data_processed/CHATM3/CHATM3_thumbnail_NtbNormalized/CHATM3_slide79_2018_01_26-S2_thumbnail_NtbNormalized.tif\n"
     ]
    },
    {
     "name": "stderr",
     "output_type": "stream",
     "text": [
      "Not using image_cache.\n",
      "Not using image_cache.\n"
     ]
    },
    {
     "name": "stdout",
     "output_type": "stream",
     "text": [
      "/media/yuncong/BstemAtlasData/CSHL_data_processed/CHATM3/CHATM3_thumbnail_NtbNormalized/CHATM3_slide79_2018_01_26-S2_thumbnail_NtbNormalized.tif\n",
      "aws s3 cp \"/media/yuncong/BstemAtlasData/CSHL_data_processed/CHATM3/CHATM3_thumbnail_mask/CHATM3_slide79_2018_01_26-S2_thumbnail_mask.png\" \"s3://mousebrainatlas-data/CSHL_data_processed/CHATM3/CHATM3_thumbnail_mask/CHATM3_slide79_2018_01_26-S2_thumbnail_mask.png\"\n",
      "0\n",
      "/media/yuncong/BstemAtlasData/CSHL_data_processed/CHATM3/CHATM3_thumbnail_NtbNormalized/CHATM3_slide79_2018_01_26-S3_thumbnail_NtbNormalized.tif\n",
      "/media/yuncong/BstemAtlasData/CSHL_data_processed/CHATM3/CHATM3_thumbnail_NtbNormalized/CHATM3_slide79_2018_01_26-S3_thumbnail_NtbNormalized.tif\n"
     ]
    },
    {
     "name": "stderr",
     "output_type": "stream",
     "text": [
      "Not using image_cache.\n",
      "Not using image_cache.\n"
     ]
    },
    {
     "name": "stdout",
     "output_type": "stream",
     "text": [
      "aws s3 cp \"/media/yuncong/BstemAtlasData/CSHL_data_processed/CHATM3/CHATM3_thumbnail_mask/CHATM3_slide79_2018_01_26-S3_thumbnail_mask.png\" \"s3://mousebrainatlas-data/CSHL_data_processed/CHATM3/CHATM3_thumbnail_mask/CHATM3_slide79_2018_01_26-S3_thumbnail_mask.png\"\n",
      "0\n",
      "/media/yuncong/BstemAtlasData/CSHL_data_processed/CHATM3/CHATM3_thumbnail_NtbNormalized/CHATM3_slide83_2018_01_26-S1_thumbnail_NtbNormalized.tif\n",
      "/media/yuncong/BstemAtlasData/CSHL_data_processed/CHATM3/CHATM3_thumbnail_NtbNormalized/CHATM3_slide83_2018_01_26-S1_thumbnail_NtbNormalized.tif\n"
     ]
    },
    {
     "name": "stderr",
     "output_type": "stream",
     "text": [
      "Not using image_cache.\n",
      "Not using image_cache.\n"
     ]
    },
    {
     "name": "stdout",
     "output_type": "stream",
     "text": [
      "aws s3 cp \"/media/yuncong/BstemAtlasData/CSHL_data_processed/CHATM3/CHATM3_thumbnail_mask/CHATM3_slide83_2018_01_26-S1_thumbnail_mask.png\" \"s3://mousebrainatlas-data/CSHL_data_processed/CHATM3/CHATM3_thumbnail_mask/CHATM3_slide83_2018_01_26-S1_thumbnail_mask.png\"\n",
      "0\n",
      "/media/yuncong/BstemAtlasData/CSHL_data_processed/CHATM3/CHATM3_thumbnail_NtbNormalized/CHATM3_slide83_2018_01_26-S2_thumbnail_NtbNormalized.tif\n",
      "/media/yuncong/BstemAtlasData/CSHL_data_processed/CHATM3/CHATM3_thumbnail_NtbNormalized/CHATM3_slide83_2018_01_26-S2_thumbnail_NtbNormalized.tif\n"
     ]
    },
    {
     "name": "stderr",
     "output_type": "stream",
     "text": [
      "Not using image_cache.\n",
      "Not using image_cache.\n"
     ]
    },
    {
     "name": "stdout",
     "output_type": "stream",
     "text": [
      "aws s3 cp \"/media/yuncong/BstemAtlasData/CSHL_data_processed/CHATM3/CHATM3_thumbnail_mask/CHATM3_slide83_2018_01_26-S2_thumbnail_mask.png\" \"s3://mousebrainatlas-data/CSHL_data_processed/CHATM3/CHATM3_thumbnail_mask/CHATM3_slide83_2018_01_26-S2_thumbnail_mask.png\"\n",
      "0\n",
      "/media/yuncong/BstemAtlasData/CSHL_data_processed/CHATM3/CHATM3_thumbnail_NtbNormalized/CHATM3_slide85_2018_01_26-S1_thumbnail_NtbNormalized.tif\n",
      "/media/yuncong/BstemAtlasData/CSHL_data_processed/CHATM3/CHATM3_thumbnail_NtbNormalized/CHATM3_slide85_2018_01_26-S1_thumbnail_NtbNormalized.tif\n"
     ]
    },
    {
     "name": "stderr",
     "output_type": "stream",
     "text": [
      "Not using image_cache.\n",
      "Not using image_cache.\n"
     ]
    },
    {
     "name": "stdout",
     "output_type": "stream",
     "text": [
      "aws s3 cp \"/media/yuncong/BstemAtlasData/CSHL_data_processed/CHATM3/CHATM3_thumbnail_mask/CHATM3_slide85_2018_01_26-S1_thumbnail_mask.png\" \"s3://mousebrainatlas-data/CSHL_data_processed/CHATM3/CHATM3_thumbnail_mask/CHATM3_slide85_2018_01_26-S1_thumbnail_mask.png\"\n",
      "0\n",
      "/media/yuncong/BstemAtlasData/CSHL_data_processed/CHATM3/CHATM3_thumbnail_NtbNormalized/CHATM3_slide85_2018_01_26-S2_thumbnail_NtbNormalized.tif\n",
      "/media/yuncong/BstemAtlasData/CSHL_data_processed/CHATM3/CHATM3_thumbnail_NtbNormalized/CHATM3_slide85_2018_01_26-S2_thumbnail_NtbNormalized.tif\n"
     ]
    },
    {
     "name": "stderr",
     "output_type": "stream",
     "text": [
      "Not using image_cache.\n",
      "Not using image_cache.\n"
     ]
    },
    {
     "name": "stdout",
     "output_type": "stream",
     "text": [
      "aws s3 cp \"/media/yuncong/BstemAtlasData/CSHL_data_processed/CHATM3/CHATM3_thumbnail_mask/CHATM3_slide85_2018_01_26-S2_thumbnail_mask.png\" \"s3://mousebrainatlas-data/CSHL_data_processed/CHATM3/CHATM3_thumbnail_mask/CHATM3_slide85_2018_01_26-S2_thumbnail_mask.png\"\n",
      "0\n",
      "/media/yuncong/BstemAtlasData/CSHL_data_processed/CHATM3/CHATM3_thumbnail_NtbNormalized/CHATM3_slide85_2018_01_26-S3_thumbnail_NtbNormalized.tif\n",
      "/media/yuncong/BstemAtlasData/CSHL_data_processed/CHATM3/CHATM3_thumbnail_NtbNormalized/CHATM3_slide85_2018_01_26-S3_thumbnail_NtbNormalized.tif\n"
     ]
    },
    {
     "name": "stderr",
     "output_type": "stream",
     "text": [
      "Not using image_cache.\n",
      "Not using image_cache.\n"
     ]
    },
    {
     "name": "stdout",
     "output_type": "stream",
     "text": [
      "aws s3 cp \"/media/yuncong/BstemAtlasData/CSHL_data_processed/CHATM3/CHATM3_thumbnail_mask/CHATM3_slide85_2018_01_26-S3_thumbnail_mask.png\" \"s3://mousebrainatlas-data/CSHL_data_processed/CHATM3/CHATM3_thumbnail_mask/CHATM3_slide85_2018_01_26-S3_thumbnail_mask.png\"\n",
      "0\n",
      "/media/yuncong/BstemAtlasData/CSHL_data_processed/CHATM3/CHATM3_thumbnail_NtbNormalized/CHATM3_slide87_2018_01_26-S1_thumbnail_NtbNormalized.tif\n"
     ]
    },
    {
     "name": "stderr",
     "output_type": "stream",
     "text": [
      "Not using image_cache.\n",
      "Not using image_cache.\n"
     ]
    },
    {
     "name": "stdout",
     "output_type": "stream",
     "text": [
      "/media/yuncong/BstemAtlasData/CSHL_data_processed/CHATM3/CHATM3_thumbnail_NtbNormalized/CHATM3_slide87_2018_01_26-S1_thumbnail_NtbNormalized.tif\n",
      "aws s3 cp \"/media/yuncong/BstemAtlasData/CSHL_data_processed/CHATM3/CHATM3_thumbnail_mask/CHATM3_slide87_2018_01_26-S1_thumbnail_mask.png\" \"s3://mousebrainatlas-data/CSHL_data_processed/CHATM3/CHATM3_thumbnail_mask/CHATM3_slide87_2018_01_26-S1_thumbnail_mask.png\"\n",
      "0\n",
      "/media/yuncong/BstemAtlasData/CSHL_data_processed/CHATM3/CHATM3_thumbnail_NtbNormalized/CHATM3_slide87_2018_01_26-S2_thumbnail_NtbNormalized.tif\n",
      "/media/yuncong/BstemAtlasData/CSHL_data_processed/CHATM3/CHATM3_thumbnail_NtbNormalized/CHATM3_slide87_2018_01_26-S2_thumbnail_NtbNormalized.tif\n"
     ]
    },
    {
     "name": "stderr",
     "output_type": "stream",
     "text": [
      "Not using image_cache.\n",
      "Not using image_cache.\n"
     ]
    },
    {
     "name": "stdout",
     "output_type": "stream",
     "text": [
      "aws s3 cp \"/media/yuncong/BstemAtlasData/CSHL_data_processed/CHATM3/CHATM3_thumbnail_mask/CHATM3_slide87_2018_01_26-S2_thumbnail_mask.png\" \"s3://mousebrainatlas-data/CSHL_data_processed/CHATM3/CHATM3_thumbnail_mask/CHATM3_slide87_2018_01_26-S2_thumbnail_mask.png\"\n",
      "0\n",
      "/media/yuncong/BstemAtlasData/CSHL_data_processed/CHATM3/CHATM3_thumbnail_NtbNormalized/CHATM3_slide87_2018_01_26-S3_thumbnail_NtbNormalized.tif\n"
     ]
    },
    {
     "name": "stderr",
     "output_type": "stream",
     "text": [
      "Not using image_cache.\n",
      "Not using image_cache.\n"
     ]
    },
    {
     "name": "stdout",
     "output_type": "stream",
     "text": [
      "/media/yuncong/BstemAtlasData/CSHL_data_processed/CHATM3/CHATM3_thumbnail_NtbNormalized/CHATM3_slide87_2018_01_26-S3_thumbnail_NtbNormalized.tif\n",
      "aws s3 cp \"/media/yuncong/BstemAtlasData/CSHL_data_processed/CHATM3/CHATM3_thumbnail_mask/CHATM3_slide87_2018_01_26-S3_thumbnail_mask.png\" \"s3://mousebrainatlas-data/CSHL_data_processed/CHATM3/CHATM3_thumbnail_mask/CHATM3_slide87_2018_01_26-S3_thumbnail_mask.png\"\n",
      "0\n",
      "/media/yuncong/BstemAtlasData/CSHL_data_processed/CHATM3/CHATM3_thumbnail_NtbNormalized/CHATM3_slide89_2018_01_26-S1_thumbnail_NtbNormalized.tif\n",
      "/media/yuncong/BstemAtlasData/CSHL_data_processed/CHATM3/CHATM3_thumbnail_NtbNormalized/CHATM3_slide89_2018_01_26-S1_thumbnail_NtbNormalized.tif\n"
     ]
    },
    {
     "name": "stderr",
     "output_type": "stream",
     "text": [
      "Not using image_cache.\n",
      "Not using image_cache.\n"
     ]
    },
    {
     "name": "stdout",
     "output_type": "stream",
     "text": [
      "aws s3 cp \"/media/yuncong/BstemAtlasData/CSHL_data_processed/CHATM3/CHATM3_thumbnail_mask/CHATM3_slide89_2018_01_26-S1_thumbnail_mask.png\" \"s3://mousebrainatlas-data/CSHL_data_processed/CHATM3/CHATM3_thumbnail_mask/CHATM3_slide89_2018_01_26-S1_thumbnail_mask.png\"\n",
      "0\n",
      "/media/yuncong/BstemAtlasData/CSHL_data_processed/CHATM3/CHATM3_thumbnail_NtbNormalized/CHATM3_slide89_2018_01_26-S3_thumbnail_NtbNormalized.tif\n",
      "/media/yuncong/BstemAtlasData/CSHL_data_processed/CHATM3/CHATM3_thumbnail_NtbNormalized/CHATM3_slide89_2018_01_26-S3_thumbnail_NtbNormalized.tif\n"
     ]
    },
    {
     "name": "stderr",
     "output_type": "stream",
     "text": [
      "Not using image_cache.\n",
      "Not using image_cache.\n"
     ]
    },
    {
     "name": "stdout",
     "output_type": "stream",
     "text": [
      "aws s3 cp \"/media/yuncong/BstemAtlasData/CSHL_data_processed/CHATM3/CHATM3_thumbnail_mask/CHATM3_slide89_2018_01_26-S3_thumbnail_mask.png\" \"s3://mousebrainatlas-data/CSHL_data_processed/CHATM3/CHATM3_thumbnail_mask/CHATM3_slide89_2018_01_26-S3_thumbnail_mask.png\"\n",
      "0\n",
      "/media/yuncong/BstemAtlasData/CSHL_data_processed/CHATM3/CHATM3_thumbnail_NtbNormalized/CHATM3_slide91_2018_01_26-S2_thumbnail_NtbNormalized.tif\n",
      "/media/yuncong/BstemAtlasData/CSHL_data_processed/CHATM3/CHATM3_thumbnail_NtbNormalized/CHATM3_slide91_2018_01_26-S2_thumbnail_NtbNormalized.tif\n"
     ]
    },
    {
     "name": "stderr",
     "output_type": "stream",
     "text": [
      "Not using image_cache.\n",
      "Not using image_cache.\n"
     ]
    },
    {
     "name": "stdout",
     "output_type": "stream",
     "text": [
      "aws s3 cp \"/media/yuncong/BstemAtlasData/CSHL_data_processed/CHATM3/CHATM3_thumbnail_mask/CHATM3_slide91_2018_01_26-S2_thumbnail_mask.png\" \"s3://mousebrainatlas-data/CSHL_data_processed/CHATM3/CHATM3_thumbnail_mask/CHATM3_slide91_2018_01_26-S2_thumbnail_mask.png\"\n",
      "0\n",
      "/media/yuncong/BstemAtlasData/CSHL_data_processed/CHATM3/CHATM3_thumbnail_NtbNormalized/CHATM3_slide91_2018_01_26-S3_thumbnail_NtbNormalized.tif\n",
      "/media/yuncong/BstemAtlasData/CSHL_data_processed/CHATM3/CHATM3_thumbnail_NtbNormalized/CHATM3_slide91_2018_01_26-S3_thumbnail_NtbNormalized.tif\n",
      "aws s3 cp \"/media/yuncong/BstemAtlasData/CSHL_data_processed/CHATM3/CHATM3_thumbnail_mask/CHATM3_slide91_2018_01_26-S3_thumbnail_mask.png\" \"s3://mousebrainatlas-data/CSHL_data_processed/CHATM3/CHATM3_thumbnail_mask/CHATM3_slide91_2018_01_26-S3_thumbnail_mask.png\""
     ]
    },
    {
     "name": "stderr",
     "output_type": "stream",
     "text": [
      "Not using image_cache.\n",
      "Not using image_cache.\n"
     ]
    },
    {
     "name": "stdout",
     "output_type": "stream",
     "text": [
      "\n",
      "0\n",
      "/media/yuncong/BstemAtlasData/CSHL_data_processed/CHATM3/CHATM3_thumbnail_NtbNormalized/CHATM3_slide93_2018_01_26-S1_thumbnail_NtbNormalized.tif\n",
      "/media/yuncong/BstemAtlasData/CSHL_data_processed/CHATM3/CHATM3_thumbnail_NtbNormalized/CHATM3_slide93_2018_01_26-S1_thumbnail_NtbNormalized.tif\n"
     ]
    },
    {
     "name": "stderr",
     "output_type": "stream",
     "text": [
      "Not using image_cache.\n",
      "Not using image_cache.\n"
     ]
    },
    {
     "name": "stdout",
     "output_type": "stream",
     "text": [
      "aws s3 cp \"/media/yuncong/BstemAtlasData/CSHL_data_processed/CHATM3/CHATM3_thumbnail_mask/CHATM3_slide93_2018_01_26-S1_thumbnail_mask.png\" \"s3://mousebrainatlas-data/CSHL_data_processed/CHATM3/CHATM3_thumbnail_mask/CHATM3_slide93_2018_01_26-S1_thumbnail_mask.png\"\n",
      "0\n",
      "/media/yuncong/BstemAtlasData/CSHL_data_processed/CHATM3/CHATM3_thumbnail_NtbNormalized/CHATM3_slide93_2018_01_26-S2_thumbnail_NtbNormalized.tif\n",
      "/media/yuncong/BstemAtlasData/CSHL_data_processed/CHATM3/CHATM3_thumbnail_NtbNormalized/CHATM3_slide93_2018_01_26-S2_thumbnail_NtbNormalized.tif\n"
     ]
    },
    {
     "name": "stderr",
     "output_type": "stream",
     "text": [
      "Not using image_cache.\n",
      "Not using image_cache.\n"
     ]
    },
    {
     "name": "stdout",
     "output_type": "stream",
     "text": [
      "aws s3 cp \"/media/yuncong/BstemAtlasData/CSHL_data_processed/CHATM3/CHATM3_thumbnail_mask/CHATM3_slide93_2018_01_26-S2_thumbnail_mask.png\" \"s3://mousebrainatlas-data/CSHL_data_processed/CHATM3/CHATM3_thumbnail_mask/CHATM3_slide93_2018_01_26-S2_thumbnail_mask.png\"\n",
      "0\n",
      "/media/yuncong/BstemAtlasData/CSHL_data_processed/CHATM3/CHATM3_thumbnail_NtbNormalized/CHATM3_slide93_2018_01_26-S3_thumbnail_NtbNormalized.tif\n",
      "/media/yuncong/BstemAtlasData/CSHL_data_processed/CHATM3/CHATM3_thumbnail_NtbNormalized/CHATM3_slide93_2018_01_26-S3_thumbnail_NtbNormalized.tif\n"
     ]
    },
    {
     "name": "stderr",
     "output_type": "stream",
     "text": [
      "Not using image_cache.\n",
      "Not using image_cache.\n"
     ]
    },
    {
     "name": "stdout",
     "output_type": "stream",
     "text": [
      "aws s3 cp \"/media/yuncong/BstemAtlasData/CSHL_data_processed/CHATM3/CHATM3_thumbnail_mask/CHATM3_slide93_2018_01_26-S3_thumbnail_mask.png\" \"s3://mousebrainatlas-data/CSHL_data_processed/CHATM3/CHATM3_thumbnail_mask/CHATM3_slide93_2018_01_26-S3_thumbnail_mask.png\"\n",
      "0\n",
      "/media/yuncong/BstemAtlasData/CSHL_data_processed/CHATM3/CHATM3_thumbnail_NtbNormalized/CHATM3_slide95_2018_01_26-S1_thumbnail_NtbNormalized.tif\n",
      "/media/yuncong/BstemAtlasData/CSHL_data_processed/CHATM3/CHATM3_thumbnail_NtbNormalized/CHATM3_slide95_2018_01_26-S1_thumbnail_NtbNormalized.tif\n"
     ]
    },
    {
     "name": "stderr",
     "output_type": "stream",
     "text": [
      "Not using image_cache.\n",
      "Not using image_cache.\n"
     ]
    },
    {
     "name": "stdout",
     "output_type": "stream",
     "text": [
      "aws s3 cp \"/media/yuncong/BstemAtlasData/CSHL_data_processed/CHATM3/CHATM3_thumbnail_mask/CHATM3_slide95_2018_01_26-S1_thumbnail_mask.png\" \"s3://mousebrainatlas-data/CSHL_data_processed/CHATM3/CHATM3_thumbnail_mask/CHATM3_slide95_2018_01_26-S1_thumbnail_mask.png\"\n",
      "0\n",
      "/media/yuncong/BstemAtlasData/CSHL_data_processed/CHATM3/CHATM3_thumbnail_NtbNormalized/CHATM3_slide95_2018_01_26-S2_thumbnail_NtbNormalized.tif\n",
      "/media/yuncong/BstemAtlasData/CSHL_data_processed/CHATM3/CHATM3_thumbnail_NtbNormalized/CHATM3_slide95_2018_01_26-S2_thumbnail_NtbNormalized.tif\n"
     ]
    },
    {
     "name": "stderr",
     "output_type": "stream",
     "text": [
      "Not using image_cache.\n",
      "Not using image_cache.\n"
     ]
    },
    {
     "name": "stdout",
     "output_type": "stream",
     "text": [
      "aws s3 cp \"/media/yuncong/BstemAtlasData/CSHL_data_processed/CHATM3/CHATM3_thumbnail_mask/CHATM3_slide95_2018_01_26-S2_thumbnail_mask.png\" \"s3://mousebrainatlas-data/CSHL_data_processed/CHATM3/CHATM3_thumbnail_mask/CHATM3_slide95_2018_01_26-S2_thumbnail_mask.png\"\n",
      "0\n",
      "/media/yuncong/BstemAtlasData/CSHL_data_processed/CHATM3/CHATM3_thumbnail_NtbNormalized/CHATM3_slide95_2018_01_26-S3_thumbnail_NtbNormalized.tif\n",
      "/media/yuncong/BstemAtlasData/CSHL_data_processed/CHATM3/CHATM3_thumbnail_NtbNormalized/CHATM3_slide95_2018_01_26-S3_thumbnail_NtbNormalized.tif\n"
     ]
    },
    {
     "name": "stderr",
     "output_type": "stream",
     "text": [
      "Not using image_cache.\n",
      "Not using image_cache.\n"
     ]
    },
    {
     "name": "stdout",
     "output_type": "stream",
     "text": [
      "aws s3 cp \"/media/yuncong/BstemAtlasData/CSHL_data_processed/CHATM3/CHATM3_thumbnail_mask/CHATM3_slide95_2018_01_26-S3_thumbnail_mask.png\" \"s3://mousebrainatlas-data/CSHL_data_processed/CHATM3/CHATM3_thumbnail_mask/CHATM3_slide95_2018_01_26-S3_thumbnail_mask.png\"\n",
      "0\n",
      "/media/yuncong/BstemAtlasData/CSHL_data_processed/CHATM3/CHATM3_thumbnail_NtbNormalized/CHATM3_slide97_2018_01_26-S1_thumbnail_NtbNormalized.tif\n"
     ]
    },
    {
     "name": "stderr",
     "output_type": "stream",
     "text": [
      "Not using image_cache.\n",
      "Not using image_cache.\n"
     ]
    },
    {
     "name": "stdout",
     "output_type": "stream",
     "text": [
      "/media/yuncong/BstemAtlasData/CSHL_data_processed/CHATM3/CHATM3_thumbnail_NtbNormalized/CHATM3_slide97_2018_01_26-S1_thumbnail_NtbNormalized.tif\n",
      "aws s3 cp \"/media/yuncong/BstemAtlasData/CSHL_data_processed/CHATM3/CHATM3_thumbnail_mask/CHATM3_slide97_2018_01_26-S1_thumbnail_mask.png\" \"s3://mousebrainatlas-data/CSHL_data_processed/CHATM3/CHATM3_thumbnail_mask/CHATM3_slide97_2018_01_26-S1_thumbnail_mask.png\"\n",
      "0\n",
      "/media/yuncong/BstemAtlasData/CSHL_data_processed/CHATM3/CHATM3_thumbnail_NtbNormalized/CHATM3_slide97_2018_01_26-S2_thumbnail_NtbNormalized.tif\n",
      "/media/yuncong/BstemAtlasData/CSHL_data_processed/CHATM3/CHATM3_thumbnail_NtbNormalized/CHATM3_slide97_2018_01_26-S2_thumbnail_NtbNormalized.tif\n"
     ]
    },
    {
     "name": "stderr",
     "output_type": "stream",
     "text": [
      "Not using image_cache.\n",
      "Not using image_cache.\n"
     ]
    },
    {
     "name": "stdout",
     "output_type": "stream",
     "text": [
      "aws s3 cp \"/media/yuncong/BstemAtlasData/CSHL_data_processed/CHATM3/CHATM3_thumbnail_mask/CHATM3_slide97_2018_01_26-S2_thumbnail_mask.png\" \"s3://mousebrainatlas-data/CSHL_data_processed/CHATM3/CHATM3_thumbnail_mask/CHATM3_slide97_2018_01_26-S2_thumbnail_mask.png\"\n",
      "0\n",
      "/media/yuncong/BstemAtlasData/CSHL_data_processed/CHATM3/CHATM3_thumbnail_NtbNormalized/CHATM3_slide97_2018_01_26-S3_thumbnail_NtbNormalized.tif\n",
      "/media/yuncong/BstemAtlasData/CSHL_data_processed/CHATM3/CHATM3_thumbnail_NtbNormalized/CHATM3_slide97_2018_01_26-S3_thumbnail_NtbNormalized.tif\n"
     ]
    },
    {
     "name": "stderr",
     "output_type": "stream",
     "text": [
      "Not using image_cache.\n",
      "Not using image_cache.\n"
     ]
    },
    {
     "name": "stdout",
     "output_type": "stream",
     "text": [
      "aws s3 cp \"/media/yuncong/BstemAtlasData/CSHL_data_processed/CHATM3/CHATM3_thumbnail_mask/CHATM3_slide97_2018_01_26-S3_thumbnail_mask.png\" \"s3://mousebrainatlas-data/CSHL_data_processed/CHATM3/CHATM3_thumbnail_mask/CHATM3_slide97_2018_01_26-S3_thumbnail_mask.png\"\n",
      "0\n",
      "/media/yuncong/BstemAtlasData/CSHL_data_processed/CHATM3/CHATM3_thumbnail_NtbNormalized/CHATM3_slide99_2018_01_26-S1_thumbnail_NtbNormalized.tif\n",
      "/media/yuncong/BstemAtlasData/CSHL_data_processed/CHATM3/CHATM3_thumbnail_NtbNormalized/CHATM3_slide99_2018_01_26-S1_thumbnail_NtbNormalized.tif\n"
     ]
    },
    {
     "name": "stderr",
     "output_type": "stream",
     "text": [
      "Not using image_cache.\n",
      "Not using image_cache.\n"
     ]
    },
    {
     "name": "stdout",
     "output_type": "stream",
     "text": [
      "aws s3 cp \"/media/yuncong/BstemAtlasData/CSHL_data_processed/CHATM3/CHATM3_thumbnail_mask/CHATM3_slide99_2018_01_26-S1_thumbnail_mask.png\" \"s3://mousebrainatlas-data/CSHL_data_processed/CHATM3/CHATM3_thumbnail_mask/CHATM3_slide99_2018_01_26-S1_thumbnail_mask.png\"\n",
      "0\n",
      "/media/yuncong/BstemAtlasData/CSHL_data_processed/CHATM3/CHATM3_thumbnail_NtbNormalized/CHATM3_slide99_2018_01_26-S2_thumbnail_NtbNormalized.tif\n",
      "/media/yuncong/BstemAtlasData/CSHL_data_processed/CHATM3/CHATM3_thumbnail_NtbNormalized/CHATM3_slide99_2018_01_26-S2_thumbnail_NtbNormalized.tif\n"
     ]
    },
    {
     "name": "stderr",
     "output_type": "stream",
     "text": [
      "Not using image_cache.\n",
      "Not using image_cache.\n"
     ]
    },
    {
     "name": "stdout",
     "output_type": "stream",
     "text": [
      "aws s3 cp \"/media/yuncong/BstemAtlasData/CSHL_data_processed/CHATM3/CHATM3_thumbnail_mask/CHATM3_slide99_2018_01_26-S2_thumbnail_mask.png\" \"s3://mousebrainatlas-data/CSHL_data_processed/CHATM3/CHATM3_thumbnail_mask/CHATM3_slide99_2018_01_26-S2_thumbnail_mask.png\"\n",
      "0\n",
      "/media/yuncong/BstemAtlasData/CSHL_data_processed/CHATM3/CHATM3_thumbnail_NtbNormalized/CHATM3_slide99_2018_01_26-S3_thumbnail_NtbNormalized.tif\n",
      "/media/yuncong/BstemAtlasData/CSHL_data_processed/CHATM3/CHATM3_thumbnail_NtbNormalized/CHATM3_slide99_2018_01_26-S3_thumbnail_NtbNormalized.tif\n"
     ]
    },
    {
     "name": "stderr",
     "output_type": "stream",
     "text": [
      "Not using image_cache.\n",
      "Not using image_cache.\n"
     ]
    },
    {
     "name": "stdout",
     "output_type": "stream",
     "text": [
      "aws s3 cp \"/media/yuncong/BstemAtlasData/CSHL_data_processed/CHATM3/CHATM3_thumbnail_mask/CHATM3_slide99_2018_01_26-S3_thumbnail_mask.png\" \"s3://mousebrainatlas-data/CSHL_data_processed/CHATM3/CHATM3_thumbnail_mask/CHATM3_slide99_2018_01_26-S3_thumbnail_mask.png\"\n",
      "0\n",
      "/media/yuncong/BstemAtlasData/CSHL_data_processed/CHATM3/CHATM3_thumbnail_NtbNormalized/CHATM3_slide101_2018_01_26-S1_thumbnail_NtbNormalized.tif\n"
     ]
    },
    {
     "name": "stderr",
     "output_type": "stream",
     "text": [
      "Not using image_cache.\n",
      "Not using image_cache.\n"
     ]
    },
    {
     "name": "stdout",
     "output_type": "stream",
     "text": [
      "/media/yuncong/BstemAtlasData/CSHL_data_processed/CHATM3/CHATM3_thumbnail_NtbNormalized/CHATM3_slide101_2018_01_26-S1_thumbnail_NtbNormalized.tif\n",
      "aws s3 cp \"/media/yuncong/BstemAtlasData/CSHL_data_processed/CHATM3/CHATM3_thumbnail_mask/CHATM3_slide101_2018_01_26-S1_thumbnail_mask.png\" \"s3://mousebrainatlas-data/CSHL_data_processed/CHATM3/CHATM3_thumbnail_mask/CHATM3_slide101_2018_01_26-S1_thumbnail_mask.png\"\n",
      "0\n",
      "/media/yuncong/BstemAtlasData/CSHL_data_processed/CHATM3/CHATM3_thumbnail_NtbNormalized/CHATM3_slide101_2018_01_26-S2_thumbnail_NtbNormalized.tif\n",
      "/media/yuncong/BstemAtlasData/CSHL_data_processed/CHATM3/CHATM3_thumbnail_NtbNormalized/CHATM3_slide101_2018_01_26-S2_thumbnail_NtbNormalized.tif\n"
     ]
    },
    {
     "name": "stderr",
     "output_type": "stream",
     "text": [
      "Not using image_cache.\n",
      "Not using image_cache.\n"
     ]
    },
    {
     "name": "stdout",
     "output_type": "stream",
     "text": [
      "aws s3 cp \"/media/yuncong/BstemAtlasData/CSHL_data_processed/CHATM3/CHATM3_thumbnail_mask/CHATM3_slide101_2018_01_26-S2_thumbnail_mask.png\" \"s3://mousebrainatlas-data/CSHL_data_processed/CHATM3/CHATM3_thumbnail_mask/CHATM3_slide101_2018_01_26-S2_thumbnail_mask.png\"\n",
      "0\n",
      "/media/yuncong/BstemAtlasData/CSHL_data_processed/CHATM3/CHATM3_thumbnail_NtbNormalized/CHATM3_slide101_2018_01_26-S3_thumbnail_NtbNormalized.tif\n",
      "/media/yuncong/BstemAtlasData/CSHL_data_processed/CHATM3/CHATM3_thumbnail_NtbNormalized/CHATM3_slide101_2018_01_26-S3_thumbnail_NtbNormalized.tif\n"
     ]
    },
    {
     "name": "stderr",
     "output_type": "stream",
     "text": [
      "Not using image_cache.\n",
      "Not using image_cache.\n"
     ]
    },
    {
     "name": "stdout",
     "output_type": "stream",
     "text": [
      "aws s3 cp \"/media/yuncong/BstemAtlasData/CSHL_data_processed/CHATM3/CHATM3_thumbnail_mask/CHATM3_slide101_2018_01_26-S3_thumbnail_mask.png\" \"s3://mousebrainatlas-data/CSHL_data_processed/CHATM3/CHATM3_thumbnail_mask/CHATM3_slide101_2018_01_26-S3_thumbnail_mask.png\"\n",
      "0\n",
      "/media/yuncong/BstemAtlasData/CSHL_data_processed/CHATM3/CHATM3_thumbnail_NtbNormalized/CHATM3_slide103_2018_01_26-S1_thumbnail_NtbNormalized.tif\n",
      "/media/yuncong/BstemAtlasData/CSHL_data_processed/CHATM3/CHATM3_thumbnail_NtbNormalized/CHATM3_slide103_2018_01_26-S1_thumbnail_NtbNormalized.tif\n"
     ]
    },
    {
     "name": "stderr",
     "output_type": "stream",
     "text": [
      "Not using image_cache.\n",
      "Not using image_cache.\n"
     ]
    },
    {
     "name": "stdout",
     "output_type": "stream",
     "text": [
      "aws s3 cp \"/media/yuncong/BstemAtlasData/CSHL_data_processed/CHATM3/CHATM3_thumbnail_mask/CHATM3_slide103_2018_01_26-S1_thumbnail_mask.png\" \"s3://mousebrainatlas-data/CSHL_data_processed/CHATM3/CHATM3_thumbnail_mask/CHATM3_slide103_2018_01_26-S1_thumbnail_mask.png\"\n",
      "0\n",
      "/media/yuncong/BstemAtlasData/CSHL_data_processed/CHATM3/CHATM3_thumbnail_NtbNormalized/CHATM3_slide103_2018_01_26-S2_thumbnail_NtbNormalized.tif\n",
      "/media/yuncong/BstemAtlasData/CSHL_data_processed/CHATM3/CHATM3_thumbnail_NtbNormalized/CHATM3_slide103_2018_01_26-S2_thumbnail_NtbNormalized.tif\n"
     ]
    },
    {
     "name": "stderr",
     "output_type": "stream",
     "text": [
      "Not using image_cache.\n",
      "Not using image_cache.\n"
     ]
    },
    {
     "name": "stdout",
     "output_type": "stream",
     "text": [
      "aws s3 cp \"/media/yuncong/BstemAtlasData/CSHL_data_processed/CHATM3/CHATM3_thumbnail_mask/CHATM3_slide103_2018_01_26-S2_thumbnail_mask.png\" \"s3://mousebrainatlas-data/CSHL_data_processed/CHATM3/CHATM3_thumbnail_mask/CHATM3_slide103_2018_01_26-S2_thumbnail_mask.png\"\n",
      "0\n",
      "/media/yuncong/BstemAtlasData/CSHL_data_processed/CHATM3/CHATM3_thumbnail_NtbNormalized/CHATM3_slide103_2018_01_26-S3_thumbnail_NtbNormalized.tif\n",
      "/media/yuncong/BstemAtlasData/CSHL_data_processed/CHATM3/CHATM3_thumbnail_NtbNormalized/CHATM3_slide103_2018_01_26-S3_thumbnail_NtbNormalized.tif\n",
      "aws s3 cp \"/media/yuncong/BstemAtlasData/CSHL_data_processed/CHATM3/CHATM3_thumbnail_mask/CHATM3_slide103_2018_01_26-S3_thumbnail_mask.png\" \"s3://mousebrainatlas-data/CSHL_data_processed/CHATM3/CHATM3_thumbnail_mask/CHATM3_slide103_2018_01_26-S3_thumbnail_mask.png\""
     ]
    },
    {
     "name": "stderr",
     "output_type": "stream",
     "text": [
      "Not using image_cache.\n",
      "Not using image_cache.\n"
     ]
    },
    {
     "name": "stdout",
     "output_type": "stream",
     "text": [
      "\n",
      "0\n",
      "/media/yuncong/BstemAtlasData/CSHL_data_processed/CHATM3/CHATM3_thumbnail_NtbNormalized/CHATM3_slide105_2018_01_26-S1_thumbnail_NtbNormalized.tif\n",
      "/media/yuncong/BstemAtlasData/CSHL_data_processed/CHATM3/CHATM3_thumbnail_NtbNormalized/CHATM3_slide105_2018_01_26-S1_thumbnail_NtbNormalized.tif\n"
     ]
    },
    {
     "name": "stderr",
     "output_type": "stream",
     "text": [
      "Not using image_cache.\n",
      "Not using image_cache.\n"
     ]
    },
    {
     "name": "stdout",
     "output_type": "stream",
     "text": [
      "aws s3 cp \"/media/yuncong/BstemAtlasData/CSHL_data_processed/CHATM3/CHATM3_thumbnail_mask/CHATM3_slide105_2018_01_26-S1_thumbnail_mask.png\" \"s3://mousebrainatlas-data/CSHL_data_processed/CHATM3/CHATM3_thumbnail_mask/CHATM3_slide105_2018_01_26-S1_thumbnail_mask.png\"\n",
      "0\n",
      "/media/yuncong/BstemAtlasData/CSHL_data_processed/CHATM3/CHATM3_thumbnail_NtbNormalized/CHATM3_slide105_2018_01_26-S2_thumbnail_NtbNormalized.tif\n",
      "/media/yuncong/BstemAtlasData/CSHL_data_processed/CHATM3/CHATM3_thumbnail_NtbNormalized/CHATM3_slide105_2018_01_26-S2_thumbnail_NtbNormalized.tif\n"
     ]
    },
    {
     "name": "stderr",
     "output_type": "stream",
     "text": [
      "Not using image_cache.\n",
      "Not using image_cache.\n"
     ]
    },
    {
     "name": "stdout",
     "output_type": "stream",
     "text": [
      "aws s3 cp \"/media/yuncong/BstemAtlasData/CSHL_data_processed/CHATM3/CHATM3_thumbnail_mask/CHATM3_slide105_2018_01_26-S2_thumbnail_mask.png\" \"s3://mousebrainatlas-data/CSHL_data_processed/CHATM3/CHATM3_thumbnail_mask/CHATM3_slide105_2018_01_26-S2_thumbnail_mask.png\"\n",
      "0\n",
      "/media/yuncong/BstemAtlasData/CSHL_data_processed/CHATM3/CHATM3_thumbnail_NtbNormalized/CHATM3_slide105_2018_01_26-S3_thumbnail_NtbNormalized.tif\n",
      "/media/yuncong/BstemAtlasData/CSHL_data_processed/CHATM3/CHATM3_thumbnail_NtbNormalized/CHATM3_slide105_2018_01_26-S3_thumbnail_NtbNormalized.tif\n"
     ]
    },
    {
     "name": "stderr",
     "output_type": "stream",
     "text": [
      "Not using image_cache.\n",
      "Not using image_cache.\n"
     ]
    },
    {
     "name": "stdout",
     "output_type": "stream",
     "text": [
      "aws s3 cp \"/media/yuncong/BstemAtlasData/CSHL_data_processed/CHATM3/CHATM3_thumbnail_mask/CHATM3_slide105_2018_01_26-S3_thumbnail_mask.png\" \"s3://mousebrainatlas-data/CSHL_data_processed/CHATM3/CHATM3_thumbnail_mask/CHATM3_slide105_2018_01_26-S3_thumbnail_mask.png\"\n",
      "0\n",
      "/media/yuncong/BstemAtlasData/CSHL_data_processed/CHATM3/CHATM3_thumbnail_NtbNormalized/CHATM3_slide107_2018_01_26-S1_thumbnail_NtbNormalized.tif\n",
      "/media/yuncong/BstemAtlasData/CSHL_data_processed/CHATM3/CHATM3_thumbnail_NtbNormalized/CHATM3_slide107_2018_01_26-S1_thumbnail_NtbNormalized.tif\n"
     ]
    },
    {
     "name": "stderr",
     "output_type": "stream",
     "text": [
      "Not using image_cache.\n",
      "Not using image_cache.\n"
     ]
    },
    {
     "name": "stdout",
     "output_type": "stream",
     "text": [
      "aws s3 cp \"/media/yuncong/BstemAtlasData/CSHL_data_processed/CHATM3/CHATM3_thumbnail_mask/CHATM3_slide107_2018_01_26-S1_thumbnail_mask.png\" \"s3://mousebrainatlas-data/CSHL_data_processed/CHATM3/CHATM3_thumbnail_mask/CHATM3_slide107_2018_01_26-S1_thumbnail_mask.png\"\n",
      "0\n",
      "/media/yuncong/BstemAtlasData/CSHL_data_processed/CHATM3/CHATM3_thumbnail_NtbNormalized/CHATM3_slide107_2018_01_26-S2_thumbnail_NtbNormalized.tif\n",
      "/media/yuncong/BstemAtlasData/CSHL_data_processed/CHATM3/CHATM3_thumbnail_NtbNormalized/CHATM3_slide107_2018_01_26-S2_thumbnail_NtbNormalized.tif\n"
     ]
    },
    {
     "name": "stderr",
     "output_type": "stream",
     "text": [
      "Not using image_cache.\n",
      "Not using image_cache.\n"
     ]
    },
    {
     "name": "stdout",
     "output_type": "stream",
     "text": [
      "aws s3 cp \"/media/yuncong/BstemAtlasData/CSHL_data_processed/CHATM3/CHATM3_thumbnail_mask/CHATM3_slide107_2018_01_26-S2_thumbnail_mask.png\" \"s3://mousebrainatlas-data/CSHL_data_processed/CHATM3/CHATM3_thumbnail_mask/CHATM3_slide107_2018_01_26-S2_thumbnail_mask.png\"\n",
      "0\n",
      "/media/yuncong/BstemAtlasData/CSHL_data_processed/CHATM3/CHATM3_thumbnail_NtbNormalized/CHATM3_slide107_2018_01_26-S3_thumbnail_NtbNormalized.tif\n",
      "/media/yuncong/BstemAtlasData/CSHL_data_processed/CHATM3/CHATM3_thumbnail_NtbNormalized/CHATM3_slide107_2018_01_26-S3_thumbnail_NtbNormalized.tif\n"
     ]
    },
    {
     "name": "stderr",
     "output_type": "stream",
     "text": [
      "Not using image_cache.\n",
      "Not using image_cache.\n"
     ]
    },
    {
     "name": "stdout",
     "output_type": "stream",
     "text": [
      "aws s3 cp \"/media/yuncong/BstemAtlasData/CSHL_data_processed/CHATM3/CHATM3_thumbnail_mask/CHATM3_slide107_2018_01_26-S3_thumbnail_mask.png\" \"s3://mousebrainatlas-data/CSHL_data_processed/CHATM3/CHATM3_thumbnail_mask/CHATM3_slide107_2018_01_26-S3_thumbnail_mask.png\"\n",
      "0\n",
      "/media/yuncong/BstemAtlasData/CSHL_data_processed/CHATM3/CHATM3_thumbnail_NtbNormalized/CHATM3_slide109_2018_01_26-S2_thumbnail_NtbNormalized.tif\n",
      "/media/yuncong/BstemAtlasData/CSHL_data_processed/CHATM3/CHATM3_thumbnail_NtbNormalized/CHATM3_slide109_2018_01_26-S2_thumbnail_NtbNormalized.tif\n"
     ]
    },
    {
     "name": "stderr",
     "output_type": "stream",
     "text": [
      "Not using image_cache.\n",
      "Not using image_cache.\n"
     ]
    },
    {
     "name": "stdout",
     "output_type": "stream",
     "text": [
      "aws s3 cp \"/media/yuncong/BstemAtlasData/CSHL_data_processed/CHATM3/CHATM3_thumbnail_mask/CHATM3_slide109_2018_01_26-S2_thumbnail_mask.png\" \"s3://mousebrainatlas-data/CSHL_data_processed/CHATM3/CHATM3_thumbnail_mask/CHATM3_slide109_2018_01_26-S2_thumbnail_mask.png\"\n",
      "0\n",
      "/media/yuncong/BstemAtlasData/CSHL_data_processed/CHATM3/CHATM3_thumbnail_NtbNormalized/CHATM3_slide109_2018_01_26-S3_thumbnail_NtbNormalized.tif\n",
      "/media/yuncong/BstemAtlasData/CSHL_data_processed/CHATM3/CHATM3_thumbnail_NtbNormalized/CHATM3_slide109_2018_01_26-S3_thumbnail_NtbNormalized.tif\n"
     ]
    },
    {
     "name": "stderr",
     "output_type": "stream",
     "text": [
      "Not using image_cache.\n",
      "Not using image_cache.\n"
     ]
    },
    {
     "name": "stdout",
     "output_type": "stream",
     "text": [
      "aws s3 cp \"/media/yuncong/BstemAtlasData/CSHL_data_processed/CHATM3/CHATM3_thumbnail_mask/CHATM3_slide109_2018_01_26-S3_thumbnail_mask.png\" \"s3://mousebrainatlas-data/CSHL_data_processed/CHATM3/CHATM3_thumbnail_mask/CHATM3_slide109_2018_01_26-S3_thumbnail_mask.png\"\n",
      "0\n",
      "/media/yuncong/BstemAtlasData/CSHL_data_processed/CHATM3/CHATM3_thumbnail_NtbNormalized/CHATM3_slide111_2018_01_26-S1_thumbnail_NtbNormalized.tif\n",
      "/media/yuncong/BstemAtlasData/CSHL_data_processed/CHATM3/CHATM3_thumbnail_NtbNormalized/CHATM3_slide111_2018_01_26-S1_thumbnail_NtbNormalized.tif\n"
     ]
    },
    {
     "name": "stderr",
     "output_type": "stream",
     "text": [
      "Not using image_cache.\n",
      "Not using image_cache.\n"
     ]
    },
    {
     "name": "stdout",
     "output_type": "stream",
     "text": [
      "aws s3 cp \"/media/yuncong/BstemAtlasData/CSHL_data_processed/CHATM3/CHATM3_thumbnail_mask/CHATM3_slide111_2018_01_26-S1_thumbnail_mask.png\" \"s3://mousebrainatlas-data/CSHL_data_processed/CHATM3/CHATM3_thumbnail_mask/CHATM3_slide111_2018_01_26-S1_thumbnail_mask.png\"\n",
      "0\n",
      "/media/yuncong/BstemAtlasData/CSHL_data_processed/CHATM3/CHATM3_thumbnail_NtbNormalized/CHATM3_slide111_2018_01_26-S2_thumbnail_NtbNormalized.tif\n",
      "/media/yuncong/BstemAtlasData/CSHL_data_processed/CHATM3/CHATM3_thumbnail_NtbNormalized/CHATM3_slide111_2018_01_26-S2_thumbnail_NtbNormalized.tif\n"
     ]
    },
    {
     "name": "stderr",
     "output_type": "stream",
     "text": [
      "Not using image_cache.\n",
      "Not using image_cache.\n"
     ]
    },
    {
     "name": "stdout",
     "output_type": "stream",
     "text": [
      "aws s3 cp \"/media/yuncong/BstemAtlasData/CSHL_data_processed/CHATM3/CHATM3_thumbnail_mask/CHATM3_slide111_2018_01_26-S2_thumbnail_mask.png\" \"s3://mousebrainatlas-data/CSHL_data_processed/CHATM3/CHATM3_thumbnail_mask/CHATM3_slide111_2018_01_26-S2_thumbnail_mask.png\"\n",
      "0\n"
     ]
    },
    {
     "name": "stderr",
     "output_type": "stream",
     "text": [
      "Not using image_cache.\n",
      "Not using image_cache.\n"
     ]
    },
    {
     "name": "stdout",
     "output_type": "stream",
     "text": [
      "/media/yuncong/BstemAtlasData/CSHL_data_processed/CHATM3/CHATM3_thumbnail_NtbNormalized/CHATM3_slide111_2018_01_26-S3_thumbnail_NtbNormalized.tif\n",
      "/media/yuncong/BstemAtlasData/CSHL_data_processed/CHATM3/CHATM3_thumbnail_NtbNormalized/CHATM3_slide111_2018_01_26-S3_thumbnail_NtbNormalized.tif\n",
      "aws s3 cp \"/media/yuncong/BstemAtlasData/CSHL_data_processed/CHATM3/CHATM3_thumbnail_mask/CHATM3_slide111_2018_01_26-S3_thumbnail_mask.png\" \"s3://mousebrainatlas-data/CSHL_data_processed/CHATM3/CHATM3_thumbnail_mask/CHATM3_slide111_2018_01_26-S3_thumbnail_mask.png\"\n",
      "0\n",
      "/media/yuncong/BstemAtlasData/CSHL_data_processed/CHATM3/CHATM3_thumbnail_NtbNormalized/CHATM3_slide113_2018_01_26-S1_thumbnail_NtbNormalized.tif\n",
      "/media/yuncong/BstemAtlasData/CSHL_data_processed/CHATM3/CHATM3_thumbnail_NtbNormalized/CHATM3_slide113_2018_01_26-S1_thumbnail_NtbNormalized.tif\n"
     ]
    },
    {
     "name": "stderr",
     "output_type": "stream",
     "text": [
      "Not using image_cache.\n",
      "Not using image_cache.\n"
     ]
    },
    {
     "name": "stdout",
     "output_type": "stream",
     "text": [
      "aws s3 cp \"/media/yuncong/BstemAtlasData/CSHL_data_processed/CHATM3/CHATM3_thumbnail_mask/CHATM3_slide113_2018_01_26-S1_thumbnail_mask.png\" \"s3://mousebrainatlas-data/CSHL_data_processed/CHATM3/CHATM3_thumbnail_mask/CHATM3_slide113_2018_01_26-S1_thumbnail_mask.png\"\n",
      "0\n",
      "/media/yuncong/BstemAtlasData/CSHL_data_processed/CHATM3/CHATM3_thumbnail_NtbNormalized/CHATM3_slide113_2018_01_26-S2_thumbnail_NtbNormalized.tif\n",
      "/media/yuncong/BstemAtlasData/CSHL_data_processed/CHATM3/CHATM3_thumbnail_NtbNormalized/CHATM3_slide113_2018_01_26-S2_thumbnail_NtbNormalized.tif\n"
     ]
    },
    {
     "name": "stderr",
     "output_type": "stream",
     "text": [
      "Not using image_cache.\n",
      "Not using image_cache.\n"
     ]
    },
    {
     "name": "stdout",
     "output_type": "stream",
     "text": [
      "aws s3 cp \"/media/yuncong/BstemAtlasData/CSHL_data_processed/CHATM3/CHATM3_thumbnail_mask/CHATM3_slide113_2018_01_26-S2_thumbnail_mask.png\" \"s3://mousebrainatlas-data/CSHL_data_processed/CHATM3/CHATM3_thumbnail_mask/CHATM3_slide113_2018_01_26-S2_thumbnail_mask.png\"\n",
      "0\n",
      "/media/yuncong/BstemAtlasData/CSHL_data_processed/CHATM3/CHATM3_thumbnail_NtbNormalized/CHATM3_slide113_2018_01_26-S3_thumbnail_NtbNormalized.tif\n",
      "/media/yuncong/BstemAtlasData/CSHL_data_processed/CHATM3/CHATM3_thumbnail_NtbNormalized/CHATM3_slide113_2018_01_26-S3_thumbnail_NtbNormalized.tif\n"
     ]
    },
    {
     "name": "stderr",
     "output_type": "stream",
     "text": [
      "Not using image_cache.\n",
      "Not using image_cache.\n"
     ]
    },
    {
     "name": "stdout",
     "output_type": "stream",
     "text": [
      "aws s3 cp \"/media/yuncong/BstemAtlasData/CSHL_data_processed/CHATM3/CHATM3_thumbnail_mask/CHATM3_slide113_2018_01_26-S3_thumbnail_mask.png\" \"s3://mousebrainatlas-data/CSHL_data_processed/CHATM3/CHATM3_thumbnail_mask/CHATM3_slide113_2018_01_26-S3_thumbnail_mask.png\"\n",
      "0\n",
      "/media/yuncong/BstemAtlasData/CSHL_data_processed/CHATM3/CHATM3_thumbnail_NtbNormalized/CHATM3_slide115_2018_01_26-S1_thumbnail_NtbNormalized.tif\n",
      "/media/yuncong/BstemAtlasData/CSHL_data_processed/CHATM3/CHATM3_thumbnail_NtbNormalized/CHATM3_slide115_2018_01_26-S1_thumbnail_NtbNormalized.tif\n",
      "aws s3 cp \"/media/yuncong/BstemAtlasData/CSHL_data_processed/CHATM3/CHATM3_thumbnail_mask/CHATM3_slide115_2018_01_26-S1_thumbnail_mask.png\" \"s3://mousebrainatlas-data/CSHL_data_processed/CHATM3/CHATM3_thumbnail_mask/CHATM3_slide115_2018_01_26-S1_thumbnail_mask.png\""
     ]
    },
    {
     "name": "stderr",
     "output_type": "stream",
     "text": [
      "Not using image_cache.\n",
      "Not using image_cache.\n"
     ]
    },
    {
     "name": "stdout",
     "output_type": "stream",
     "text": [
      "\n",
      "0\n",
      "/media/yuncong/BstemAtlasData/CSHL_data_processed/CHATM3/CHATM3_thumbnail_NtbNormalized/CHATM3_slide115_2018_01_26-S2_thumbnail_NtbNormalized.tif\n",
      "/media/yuncong/BstemAtlasData/CSHL_data_processed/CHATM3/CHATM3_thumbnail_NtbNormalized/CHATM3_slide115_2018_01_26-S2_thumbnail_NtbNormalized.tif\n",
      "aws s3 cp \"/media/yuncong/BstemAtlasData/CSHL_data_processed/CHATM3/CHATM3_thumbnail_mask/CHATM3_slide115_2018_01_26-S2_thumbnail_mask.png\" \"s3://mousebrainatlas-data/CSHL_data_processed/CHATM3/CHATM3_thumbnail_mask/CHATM3_slide115_2018_01_26-S2_thumbnail_mask.png\"\n"
     ]
    },
    {
     "name": "stderr",
     "output_type": "stream",
     "text": [
      "Not using image_cache.\n",
      "Not using image_cache.\n"
     ]
    },
    {
     "name": "stdout",
     "output_type": "stream",
     "text": [
      "0\n",
      "/media/yuncong/BstemAtlasData/CSHL_data_processed/CHATM3/CHATM3_thumbnail_NtbNormalized/CHATM3_slide115_2018_01_26-S3_thumbnail_NtbNormalized.tif\n",
      "/media/yuncong/BstemAtlasData/CSHL_data_processed/CHATM3/CHATM3_thumbnail_NtbNormalized/CHATM3_slide115_2018_01_26-S3_thumbnail_NtbNormalized.tif\n"
     ]
    },
    {
     "name": "stderr",
     "output_type": "stream",
     "text": [
      "Not using image_cache.\n",
      "Not using image_cache.\n"
     ]
    },
    {
     "name": "stdout",
     "output_type": "stream",
     "text": [
      "aws s3 cp \"/media/yuncong/BstemAtlasData/CSHL_data_processed/CHATM3/CHATM3_thumbnail_mask/CHATM3_slide115_2018_01_26-S3_thumbnail_mask.png\" \"s3://mousebrainatlas-data/CSHL_data_processed/CHATM3/CHATM3_thumbnail_mask/CHATM3_slide115_2018_01_26-S3_thumbnail_mask.png\"\n",
      "0\n",
      "/media/yuncong/BstemAtlasData/CSHL_data_processed/CHATM3/CHATM3_thumbnail_NtbNormalized/CHATM3_slide117_2018_01_26-S1_thumbnail_NtbNormalized.tif\n",
      "/media/yuncong/BstemAtlasData/CSHL_data_processed/CHATM3/CHATM3_thumbnail_NtbNormalized/CHATM3_slide117_2018_01_26-S1_thumbnail_NtbNormalized.tif\n"
     ]
    },
    {
     "name": "stderr",
     "output_type": "stream",
     "text": [
      "Not using image_cache.\n",
      "Not using image_cache.\n"
     ]
    },
    {
     "name": "stdout",
     "output_type": "stream",
     "text": [
      "aws s3 cp \"/media/yuncong/BstemAtlasData/CSHL_data_processed/CHATM3/CHATM3_thumbnail_mask/CHATM3_slide117_2018_01_26-S1_thumbnail_mask.png\" \"s3://mousebrainatlas-data/CSHL_data_processed/CHATM3/CHATM3_thumbnail_mask/CHATM3_slide117_2018_01_26-S1_thumbnail_mask.png\"\n",
      "0\n",
      "/media/yuncong/BstemAtlasData/CSHL_data_processed/CHATM3/CHATM3_thumbnail_NtbNormalized/CHATM3_slide117_2018_01_26-S2_thumbnail_NtbNormalized.tif\n",
      "/media/yuncong/BstemAtlasData/CSHL_data_processed/CHATM3/CHATM3_thumbnail_NtbNormalized/CHATM3_slide117_2018_01_26-S2_thumbnail_NtbNormalized.tif\n",
      "aws s3 cp \"/media/yuncong/BstemAtlasData/CSHL_data_processed/CHATM3/CHATM3_thumbnail_mask/CHATM3_slide117_2018_01_26-S2_thumbnail_mask.png\" \"s3://mousebrainatlas-data/CSHL_data_processed/CHATM3/CHATM3_thumbnail_mask/CHATM3_slide117_2018_01_26-S2_thumbnail_mask.png\""
     ]
    },
    {
     "name": "stderr",
     "output_type": "stream",
     "text": [
      "Not using image_cache.\n",
      "Not using image_cache.\n"
     ]
    },
    {
     "name": "stdout",
     "output_type": "stream",
     "text": [
      "\n",
      "0\n",
      "/media/yuncong/BstemAtlasData/CSHL_data_processed/CHATM3/CHATM3_thumbnail_NtbNormalized/CHATM3_slide117_2018_01_26-S3_thumbnail_NtbNormalized.tif\n",
      "/media/yuncong/BstemAtlasData/CSHL_data_processed/CHATM3/CHATM3_thumbnail_NtbNormalized/CHATM3_slide117_2018_01_26-S3_thumbnail_NtbNormalized.tif\n"
     ]
    },
    {
     "name": "stderr",
     "output_type": "stream",
     "text": [
      "Not using image_cache.\n",
      "Not using image_cache.\n"
     ]
    },
    {
     "name": "stdout",
     "output_type": "stream",
     "text": [
      "aws s3 cp \"/media/yuncong/BstemAtlasData/CSHL_data_processed/CHATM3/CHATM3_thumbnail_mask/CHATM3_slide117_2018_01_26-S3_thumbnail_mask.png\" \"s3://mousebrainatlas-data/CSHL_data_processed/CHATM3/CHATM3_thumbnail_mask/CHATM3_slide117_2018_01_26-S3_thumbnail_mask.png\"\n",
      "0\n",
      "/media/yuncong/BstemAtlasData/CSHL_data_processed/CHATM3/CHATM3_thumbnail_NtbNormalized/CHATM3_slide119_2018_01_26-S1_thumbnail_NtbNormalized.tif\n",
      "/media/yuncong/BstemAtlasData/CSHL_data_processed/CHATM3/CHATM3_thumbnail_NtbNormalized/CHATM3_slide119_2018_01_26-S1_thumbnail_NtbNormalized.tif\n"
     ]
    },
    {
     "name": "stderr",
     "output_type": "stream",
     "text": [
      "Not using image_cache.\n",
      "Not using image_cache.\n"
     ]
    },
    {
     "name": "stdout",
     "output_type": "stream",
     "text": [
      "aws s3 cp \"/media/yuncong/BstemAtlasData/CSHL_data_processed/CHATM3/CHATM3_thumbnail_mask/CHATM3_slide119_2018_01_26-S1_thumbnail_mask.png\" \"s3://mousebrainatlas-data/CSHL_data_processed/CHATM3/CHATM3_thumbnail_mask/CHATM3_slide119_2018_01_26-S1_thumbnail_mask.png\"\n",
      "0\n",
      "/media/yuncong/BstemAtlasData/CSHL_data_processed/CHATM3/CHATM3_thumbnail_NtbNormalized/CHATM3_slide119_2018_01_26-S2_thumbnail_NtbNormalized.tif\n",
      "/media/yuncong/BstemAtlasData/CSHL_data_processed/CHATM3/CHATM3_thumbnail_NtbNormalized/CHATM3_slide119_2018_01_26-S2_thumbnail_NtbNormalized.tif\n"
     ]
    },
    {
     "name": "stderr",
     "output_type": "stream",
     "text": [
      "Not using image_cache.\n",
      "Not using image_cache.\n"
     ]
    },
    {
     "name": "stdout",
     "output_type": "stream",
     "text": [
      "aws s3 cp \"/media/yuncong/BstemAtlasData/CSHL_data_processed/CHATM3/CHATM3_thumbnail_mask/CHATM3_slide119_2018_01_26-S2_thumbnail_mask.png\" \"s3://mousebrainatlas-data/CSHL_data_processed/CHATM3/CHATM3_thumbnail_mask/CHATM3_slide119_2018_01_26-S2_thumbnail_mask.png\"\n",
      "0\n",
      "/media/yuncong/BstemAtlasData/CSHL_data_processed/CHATM3/CHATM3_thumbnail_NtbNormalized/CHATM3_slide119_2018_01_26-S3_thumbnail_NtbNormalized.tif\n",
      "/media/yuncong/BstemAtlasData/CSHL_data_processed/CHATM3/CHATM3_thumbnail_NtbNormalized/CHATM3_slide119_2018_01_26-S3_thumbnail_NtbNormalized.tif\n",
      "aws s3 cp \"/media/yuncong/BstemAtlasData/CSHL_data_processed/CHATM3/CHATM3_thumbnail_mask/CHATM3_slide119_2018_01_26-S3_thumbnail_mask.png\" \"s3://mousebrainatlas-data/CSHL_data_processed/CHATM3/CHATM3_thumbnail_mask/CHATM3_slide119_2018_01_26-S3_thumbnail_mask.png\""
     ]
    },
    {
     "name": "stderr",
     "output_type": "stream",
     "text": [
      "Not using image_cache.\n",
      "Not using image_cache.\n"
     ]
    },
    {
     "name": "stdout",
     "output_type": "stream",
     "text": [
      "\n",
      "0\n",
      "/media/yuncong/BstemAtlasData/CSHL_data_processed/CHATM3/CHATM3_thumbnail_NtbNormalized/CHATM3_slide121_2018_01_26-S1_thumbnail_NtbNormalized.tif\n",
      "/media/yuncong/BstemAtlasData/CSHL_data_processed/CHATM3/CHATM3_thumbnail_NtbNormalized/CHATM3_slide121_2018_01_26-S1_thumbnail_NtbNormalized.tif\n"
     ]
    },
    {
     "name": "stderr",
     "output_type": "stream",
     "text": [
      "Not using image_cache.\n",
      "Not using image_cache.\n"
     ]
    },
    {
     "name": "stdout",
     "output_type": "stream",
     "text": [
      "aws s3 cp \"/media/yuncong/BstemAtlasData/CSHL_data_processed/CHATM3/CHATM3_thumbnail_mask/CHATM3_slide121_2018_01_26-S1_thumbnail_mask.png\" \"s3://mousebrainatlas-data/CSHL_data_processed/CHATM3/CHATM3_thumbnail_mask/CHATM3_slide121_2018_01_26-S1_thumbnail_mask.png\"\n",
      "0\n",
      "/media/yuncong/BstemAtlasData/CSHL_data_processed/CHATM3/CHATM3_thumbnail_NtbNormalized/CHATM3_slide121_2018_01_26-S2_thumbnail_NtbNormalized.tif\n",
      "/media/yuncong/BstemAtlasData/CSHL_data_processed/CHATM3/CHATM3_thumbnail_NtbNormalized/CHATM3_slide121_2018_01_26-S2_thumbnail_NtbNormalized.tif\n"
     ]
    },
    {
     "name": "stderr",
     "output_type": "stream",
     "text": [
      "Not using image_cache.\n",
      "Not using image_cache.\n"
     ]
    },
    {
     "name": "stdout",
     "output_type": "stream",
     "text": [
      "aws s3 cp \"/media/yuncong/BstemAtlasData/CSHL_data_processed/CHATM3/CHATM3_thumbnail_mask/CHATM3_slide121_2018_01_26-S2_thumbnail_mask.png\" \"s3://mousebrainatlas-data/CSHL_data_processed/CHATM3/CHATM3_thumbnail_mask/CHATM3_slide121_2018_01_26-S2_thumbnail_mask.png\"\n",
      "0\n",
      "/media/yuncong/BstemAtlasData/CSHL_data_processed/CHATM3/CHATM3_thumbnail_NtbNormalized/CHATM3_slide121_2018_01_26-S3_thumbnail_NtbNormalized.tif\n",
      "/media/yuncong/BstemAtlasData/CSHL_data_processed/CHATM3/CHATM3_thumbnail_NtbNormalized/CHATM3_slide121_2018_01_26-S3_thumbnail_NtbNormalized.tif\n",
      "aws s3 cp \"/media/yuncong/BstemAtlasData/CSHL_data_processed/CHATM3/CHATM3_thumbnail_mask/CHATM3_slide121_2018_01_26-S3_thumbnail_mask.png\" \"s3://mousebrainatlas-data/CSHL_data_processed/CHATM3/CHATM3_thumbnail_mask/CHATM3_slide121_2018_01_26-S3_thumbnail_mask.png\"\n"
     ]
    },
    {
     "name": "stderr",
     "output_type": "stream",
     "text": [
      "Not using image_cache.\n",
      "Not using image_cache.\n"
     ]
    },
    {
     "name": "stdout",
     "output_type": "stream",
     "text": [
      "0\n",
      "/media/yuncong/BstemAtlasData/CSHL_data_processed/CHATM3/CHATM3_thumbnail_NtbNormalized/CHATM3_slide123_2018_01_26-S1_thumbnail_NtbNormalized.tif\n",
      "/media/yuncong/BstemAtlasData/CSHL_data_processed/CHATM3/CHATM3_thumbnail_NtbNormalized/CHATM3_slide123_2018_01_26-S1_thumbnail_NtbNormalized.tif\n"
     ]
    },
    {
     "name": "stderr",
     "output_type": "stream",
     "text": [
      "Not using image_cache.\n",
      "Not using image_cache.\n"
     ]
    },
    {
     "name": "stdout",
     "output_type": "stream",
     "text": [
      "aws s3 cp \"/media/yuncong/BstemAtlasData/CSHL_data_processed/CHATM3/CHATM3_thumbnail_mask/CHATM3_slide123_2018_01_26-S1_thumbnail_mask.png\" \"s3://mousebrainatlas-data/CSHL_data_processed/CHATM3/CHATM3_thumbnail_mask/CHATM3_slide123_2018_01_26-S1_thumbnail_mask.png\"\n",
      "0\n",
      "/media/yuncong/BstemAtlasData/CSHL_data_processed/CHATM3/CHATM3_thumbnail_NtbNormalized/CHATM3_slide123_2018_01_26-S2_thumbnail_NtbNormalized.tif\n",
      "/media/yuncong/BstemAtlasData/CSHL_data_processed/CHATM3/CHATM3_thumbnail_NtbNormalized/CHATM3_slide123_2018_01_26-S2_thumbnail_NtbNormalized.tif\n",
      "aws s3 cp \"/media/yuncong/BstemAtlasData/CSHL_data_processed/CHATM3/CHATM3_thumbnail_mask/CHATM3_slide123_2018_01_26-S2_thumbnail_mask.png\" \"s3://mousebrainatlas-data/CSHL_data_processed/CHATM3/CHATM3_thumbnail_mask/CHATM3_slide123_2018_01_26-S2_thumbnail_mask.png\""
     ]
    },
    {
     "name": "stderr",
     "output_type": "stream",
     "text": [
      "Not using image_cache.\n",
      "Not using image_cache.\n"
     ]
    },
    {
     "name": "stdout",
     "output_type": "stream",
     "text": [
      "\n",
      "0\n",
      "/media/yuncong/BstemAtlasData/CSHL_data_processed/CHATM3/CHATM3_thumbnail_NtbNormalized/CHATM3_slide123_2018_01_26-S3_thumbnail_NtbNormalized.tif\n",
      "/media/yuncong/BstemAtlasData/CSHL_data_processed/CHATM3/CHATM3_thumbnail_NtbNormalized/CHATM3_slide123_2018_01_26-S3_thumbnail_NtbNormalized.tif\n",
      "aws s3 cp \"/media/yuncong/BstemAtlasData/CSHL_data_processed/CHATM3/CHATM3_thumbnail_mask/CHATM3_slide123_2018_01_26-S3_thumbnail_mask.png\" \"s3://mousebrainatlas-data/CSHL_data_processed/CHATM3/CHATM3_thumbnail_mask/CHATM3_slide123_2018_01_26-S3_thumbnail_mask.png\""
     ]
    },
    {
     "name": "stderr",
     "output_type": "stream",
     "text": [
      "Not using image_cache.\n",
      "Not using image_cache.\n"
     ]
    },
    {
     "name": "stdout",
     "output_type": "stream",
     "text": [
      "\n",
      "0\n",
      "/media/yuncong/BstemAtlasData/CSHL_data_processed/CHATM3/CHATM3_thumbnail_NtbNormalized/CHATM3_slide125_2018_01_26-S1_thumbnail_NtbNormalized.tif\n",
      "/media/yuncong/BstemAtlasData/CSHL_data_processed/CHATM3/CHATM3_thumbnail_NtbNormalized/CHATM3_slide125_2018_01_26-S1_thumbnail_NtbNormalized.tif\n"
     ]
    },
    {
     "name": "stderr",
     "output_type": "stream",
     "text": [
      "Not using image_cache.\n",
      "Not using image_cache.\n"
     ]
    },
    {
     "name": "stdout",
     "output_type": "stream",
     "text": [
      "aws s3 cp \"/media/yuncong/BstemAtlasData/CSHL_data_processed/CHATM3/CHATM3_thumbnail_mask/CHATM3_slide125_2018_01_26-S1_thumbnail_mask.png\" \"s3://mousebrainatlas-data/CSHL_data_processed/CHATM3/CHATM3_thumbnail_mask/CHATM3_slide125_2018_01_26-S1_thumbnail_mask.png\"\n",
      "0\n",
      "/media/yuncong/BstemAtlasData/CSHL_data_processed/CHATM3/CHATM3_thumbnail_NtbNormalized/CHATM3_slide125_2018_01_26-S2_thumbnail_NtbNormalized.tif\n",
      "/media/yuncong/BstemAtlasData/CSHL_data_processed/CHATM3/CHATM3_thumbnail_NtbNormalized/CHATM3_slide125_2018_01_26-S2_thumbnail_NtbNormalized.tif\n"
     ]
    },
    {
     "name": "stderr",
     "output_type": "stream",
     "text": [
      "Not using image_cache.\n",
      "Not using image_cache.\n"
     ]
    },
    {
     "name": "stdout",
     "output_type": "stream",
     "text": [
      "aws s3 cp \"/media/yuncong/BstemAtlasData/CSHL_data_processed/CHATM3/CHATM3_thumbnail_mask/CHATM3_slide125_2018_01_26-S2_thumbnail_mask.png\" \"s3://mousebrainatlas-data/CSHL_data_processed/CHATM3/CHATM3_thumbnail_mask/CHATM3_slide125_2018_01_26-S2_thumbnail_mask.png\"\n",
      "0\n",
      "/media/yuncong/BstemAtlasData/CSHL_data_processed/CHATM3/CHATM3_thumbnail_NtbNormalized/CHATM3_slide125_2018_01_26-S3_thumbnail_NtbNormalized.tif\n",
      "/media/yuncong/BstemAtlasData/CSHL_data_processed/CHATM3/CHATM3_thumbnail_NtbNormalized/CHATM3_slide125_2018_01_26-S3_thumbnail_NtbNormalized.tif\n"
     ]
    },
    {
     "name": "stderr",
     "output_type": "stream",
     "text": [
      "Not using image_cache.\n",
      "Not using image_cache.\n"
     ]
    },
    {
     "name": "stdout",
     "output_type": "stream",
     "text": [
      "aws s3 cp \"/media/yuncong/BstemAtlasData/CSHL_data_processed/CHATM3/CHATM3_thumbnail_mask/CHATM3_slide125_2018_01_26-S3_thumbnail_mask.png\" \"s3://mousebrainatlas-data/CSHL_data_processed/CHATM3/CHATM3_thumbnail_mask/CHATM3_slide125_2018_01_26-S3_thumbnail_mask.png\"\n",
      "0\n",
      "/media/yuncong/BstemAtlasData/CSHL_data_processed/CHATM3/CHATM3_thumbnail_NtbNormalized/CHATM3_slide127_2018_01_26-S1_thumbnail_NtbNormalized.tif\n",
      "/media/yuncong/BstemAtlasData/CSHL_data_processed/CHATM3/CHATM3_thumbnail_NtbNormalized/CHATM3_slide127_2018_01_26-S1_thumbnail_NtbNormalized.tif\n"
     ]
    },
    {
     "name": "stderr",
     "output_type": "stream",
     "text": [
      "Not using image_cache.\n",
      "Not using image_cache.\n"
     ]
    },
    {
     "name": "stdout",
     "output_type": "stream",
     "text": [
      "aws s3 cp \"/media/yuncong/BstemAtlasData/CSHL_data_processed/CHATM3/CHATM3_thumbnail_mask/CHATM3_slide127_2018_01_26-S1_thumbnail_mask.png\" \"s3://mousebrainatlas-data/CSHL_data_processed/CHATM3/CHATM3_thumbnail_mask/CHATM3_slide127_2018_01_26-S1_thumbnail_mask.png\"\n",
      "0\n",
      "/media/yuncong/BstemAtlasData/CSHL_data_processed/CHATM3/CHATM3_thumbnail_NtbNormalized/CHATM3_slide127_2018_01_26-S2_thumbnail_NtbNormalized.tif\n",
      "/media/yuncong/BstemAtlasData/CSHL_data_processed/CHATM3/CHATM3_thumbnail_NtbNormalized/CHATM3_slide127_2018_01_26-S2_thumbnail_NtbNormalized.tif\n"
     ]
    },
    {
     "name": "stderr",
     "output_type": "stream",
     "text": [
      "Not using image_cache.\n",
      "Not using image_cache.\n"
     ]
    },
    {
     "name": "stdout",
     "output_type": "stream",
     "text": [
      "aws s3 cp \"/media/yuncong/BstemAtlasData/CSHL_data_processed/CHATM3/CHATM3_thumbnail_mask/CHATM3_slide127_2018_01_26-S2_thumbnail_mask.png\" \"s3://mousebrainatlas-data/CSHL_data_processed/CHATM3/CHATM3_thumbnail_mask/CHATM3_slide127_2018_01_26-S2_thumbnail_mask.png\"\n",
      "0\n",
      "/media/yuncong/BstemAtlasData/CSHL_data_processed/CHATM3/CHATM3_thumbnail_NtbNormalized/CHATM3_slide127_2018_01_26-S3_thumbnail_NtbNormalized.tif\n",
      "/media/yuncong/BstemAtlasData/CSHL_data_processed/CHATM3/CHATM3_thumbnail_NtbNormalized/CHATM3_slide127_2018_01_26-S3_thumbnail_NtbNormalized.tif\n",
      "aws s3 cp \"/media/yuncong/BstemAtlasData/CSHL_data_processed/CHATM3/CHATM3_thumbnail_mask/CHATM3_slide127_2018_01_26-S3_thumbnail_mask.png\" \"s3://mousebrainatlas-data/CSHL_data_processed/CHATM3/CHATM3_thumbnail_mask/CHATM3_slide127_2018_01_26-S3_thumbnail_mask.png\"\n"
     ]
    },
    {
     "name": "stderr",
     "output_type": "stream",
     "text": [
      "Not using image_cache.\n",
      "Not using image_cache.\n"
     ]
    },
    {
     "name": "stdout",
     "output_type": "stream",
     "text": [
      "0\n",
      "/media/yuncong/BstemAtlasData/CSHL_data_processed/CHATM3/CHATM3_thumbnail_NtbNormalized/CHATM3_slide129_2018_01_26-S1_thumbnail_NtbNormalized.tif\n",
      "/media/yuncong/BstemAtlasData/CSHL_data_processed/CHATM3/CHATM3_thumbnail_NtbNormalized/CHATM3_slide129_2018_01_26-S1_thumbnail_NtbNormalized.tif\n",
      "aws s3 cp \"/media/yuncong/BstemAtlasData/CSHL_data_processed/CHATM3/CHATM3_thumbnail_mask/CHATM3_slide129_2018_01_26-S1_thumbnail_mask.png\" \"s3://mousebrainatlas-data/CSHL_data_processed/CHATM3/CHATM3_thumbnail_mask/CHATM3_slide129_2018_01_26-S1_thumbnail_mask.png\"\n"
     ]
    },
    {
     "name": "stderr",
     "output_type": "stream",
     "text": [
      "Not using image_cache.\n",
      "Not using image_cache.\n"
     ]
    },
    {
     "name": "stdout",
     "output_type": "stream",
     "text": [
      "0\n",
      "/media/yuncong/BstemAtlasData/CSHL_data_processed/CHATM3/CHATM3_thumbnail_NtbNormalized/CHATM3_slide129_2018_01_26-S2_thumbnail_NtbNormalized.tif\n",
      "/media/yuncong/BstemAtlasData/CSHL_data_processed/CHATM3/CHATM3_thumbnail_NtbNormalized/CHATM3_slide129_2018_01_26-S2_thumbnail_NtbNormalized.tif\n",
      "aws s3 cp \"/media/yuncong/BstemAtlasData/CSHL_data_processed/CHATM3/CHATM3_thumbnail_mask/CHATM3_slide129_2018_01_26-S2_thumbnail_mask.png\" \"s3://mousebrainatlas-data/CSHL_data_processed/CHATM3/CHATM3_thumbnail_mask/CHATM3_slide129_2018_01_26-S2_thumbnail_mask.png\""
     ]
    },
    {
     "name": "stderr",
     "output_type": "stream",
     "text": [
      "Not using image_cache.\n",
      "Not using image_cache.\n"
     ]
    },
    {
     "name": "stdout",
     "output_type": "stream",
     "text": [
      "\n",
      "0\n",
      "/media/yuncong/BstemAtlasData/CSHL_data_processed/CHATM3/CHATM3_thumbnail_NtbNormalized/CHATM3_slide129_2018_01_26-S3_thumbnail_NtbNormalized.tif\n",
      "/media/yuncong/BstemAtlasData/CSHL_data_processed/CHATM3/CHATM3_thumbnail_NtbNormalized/CHATM3_slide129_2018_01_26-S3_thumbnail_NtbNormalized.tif\n",
      "aws s3 cp \"/media/yuncong/BstemAtlasData/CSHL_data_processed/CHATM3/CHATM3_thumbnail_mask/CHATM3_slide129_2018_01_26-S3_thumbnail_mask.png\" \"s3://mousebrainatlas-data/CSHL_data_processed/CHATM3/CHATM3_thumbnail_mask/CHATM3_slide129_2018_01_26-S3_thumbnail_mask.png\"\n"
     ]
    },
    {
     "name": "stderr",
     "output_type": "stream",
     "text": [
      "Not using image_cache.\n",
      "Not using image_cache.\n"
     ]
    },
    {
     "name": "stdout",
     "output_type": "stream",
     "text": [
      "0\n",
      "/media/yuncong/BstemAtlasData/CSHL_data_processed/CHATM3/CHATM3_thumbnail_NtbNormalized/CHATM3_slide131_2018_01_26-S1_thumbnail_NtbNormalized.tif\n",
      "/media/yuncong/BstemAtlasData/CSHL_data_processed/CHATM3/CHATM3_thumbnail_NtbNormalized/CHATM3_slide131_2018_01_26-S1_thumbnail_NtbNormalized.tif\n",
      "aws s3 cp \"/media/yuncong/BstemAtlasData/CSHL_data_processed/CHATM3/CHATM3_thumbnail_mask/CHATM3_slide131_2018_01_26-S1_thumbnail_mask.png\" \"s3://mousebrainatlas-data/CSHL_data_processed/CHATM3/CHATM3_thumbnail_mask/CHATM3_slide131_2018_01_26-S1_thumbnail_mask.png\""
     ]
    },
    {
     "name": "stderr",
     "output_type": "stream",
     "text": [
      "Not using image_cache.\n",
      "Not using image_cache.\n"
     ]
    },
    {
     "name": "stdout",
     "output_type": "stream",
     "text": [
      "\n",
      "0\n",
      "/media/yuncong/BstemAtlasData/CSHL_data_processed/CHATM3/CHATM3_thumbnail_NtbNormalized/CHATM3_slide131_2018_01_26-S2_thumbnail_NtbNormalized.tif\n",
      "/media/yuncong/BstemAtlasData/CSHL_data_processed/CHATM3/CHATM3_thumbnail_NtbNormalized/CHATM3_slide131_2018_01_26-S2_thumbnail_NtbNormalized.tif\n"
     ]
    },
    {
     "name": "stderr",
     "output_type": "stream",
     "text": [
      "Not using image_cache.\n",
      "Not using image_cache.\n"
     ]
    },
    {
     "name": "stdout",
     "output_type": "stream",
     "text": [
      "aws s3 cp \"/media/yuncong/BstemAtlasData/CSHL_data_processed/CHATM3/CHATM3_thumbnail_mask/CHATM3_slide131_2018_01_26-S2_thumbnail_mask.png\" \"s3://mousebrainatlas-data/CSHL_data_processed/CHATM3/CHATM3_thumbnail_mask/CHATM3_slide131_2018_01_26-S2_thumbnail_mask.png\"\n",
      "0\n",
      "/media/yuncong/BstemAtlasData/CSHL_data_processed/CHATM3/CHATM3_thumbnail_NtbNormalized/CHATM3_slide131_2018_01_26-S3_thumbnail_NtbNormalized.tif\n",
      "/media/yuncong/BstemAtlasData/CSHL_data_processed/CHATM3/CHATM3_thumbnail_NtbNormalized/CHATM3_slide131_2018_01_26-S3_thumbnail_NtbNormalized.tif\n",
      "aws s3 cp \"/media/yuncong/BstemAtlasData/CSHL_data_processed/CHATM3/CHATM3_thumbnail_mask/CHATM3_slide131_2018_01_26-S3_thumbnail_mask.png\" \"s3://mousebrainatlas-data/CSHL_data_processed/CHATM3/CHATM3_thumbnail_mask/CHATM3_slide131_2018_01_26-S3_thumbnail_mask.png\"\n"
     ]
    },
    {
     "name": "stderr",
     "output_type": "stream",
     "text": [
      "Not using image_cache.\n",
      "Not using image_cache.\n"
     ]
    },
    {
     "name": "stdout",
     "output_type": "stream",
     "text": [
      "0\n",
      "/media/yuncong/BstemAtlasData/CSHL_data_processed/CHATM3/CHATM3_thumbnail_NtbNormalized/CHATM3_slide133_2018_01_26-S1_thumbnail_NtbNormalized.tif\n",
      "/media/yuncong/BstemAtlasData/CSHL_data_processed/CHATM3/CHATM3_thumbnail_NtbNormalized/CHATM3_slide133_2018_01_26-S1_thumbnail_NtbNormalized.tif\n",
      "aws s3 cp \"/media/yuncong/BstemAtlasData/CSHL_data_processed/CHATM3/CHATM3_thumbnail_mask/CHATM3_slide133_2018_01_26-S1_thumbnail_mask.png\" \"s3://mousebrainatlas-data/CSHL_data_processed/CHATM3/CHATM3_thumbnail_mask/CHATM3_slide133_2018_01_26-S1_thumbnail_mask.png\"\n"
     ]
    },
    {
     "name": "stderr",
     "output_type": "stream",
     "text": [
      "Not using image_cache.\n",
      "Not using image_cache.\n"
     ]
    },
    {
     "name": "stdout",
     "output_type": "stream",
     "text": [
      "0\n",
      "/media/yuncong/BstemAtlasData/CSHL_data_processed/CHATM3/CHATM3_thumbnail_NtbNormalized/CHATM3_slide133_2018_01_26-S2_thumbnail_NtbNormalized.tif\n",
      "/media/yuncong/BstemAtlasData/CSHL_data_processed/CHATM3/CHATM3_thumbnail_NtbNormalized/CHATM3_slide133_2018_01_26-S2_thumbnail_NtbNormalized.tif\n",
      "aws s3 cp \"/media/yuncong/BstemAtlasData/CSHL_data_processed/CHATM3/CHATM3_thumbnail_mask/CHATM3_slide133_2018_01_26-S2_thumbnail_mask.png\" \"s3://mousebrainatlas-data/CSHL_data_processed/CHATM3/CHATM3_thumbnail_mask/CHATM3_slide133_2018_01_26-S2_thumbnail_mask.png\"\n"
     ]
    },
    {
     "name": "stderr",
     "output_type": "stream",
     "text": [
      "Not using image_cache.\n",
      "Not using image_cache.\n"
     ]
    },
    {
     "name": "stdout",
     "output_type": "stream",
     "text": [
      "0\n",
      "/media/yuncong/BstemAtlasData/CSHL_data_processed/CHATM3/CHATM3_thumbnail_NtbNormalized/CHATM3_slide133_2018_01_26-S3_thumbnail_NtbNormalized.tif\n",
      "/media/yuncong/BstemAtlasData/CSHL_data_processed/CHATM3/CHATM3_thumbnail_NtbNormalized/CHATM3_slide133_2018_01_26-S3_thumbnail_NtbNormalized.tif\n",
      "aws s3 cp \"/media/yuncong/BstemAtlasData/CSHL_data_processed/CHATM3/CHATM3_thumbnail_mask/CHATM3_slide133_2018_01_26-S3_thumbnail_mask.png\" \"s3://mousebrainatlas-data/CSHL_data_processed/CHATM3/CHATM3_thumbnail_mask/CHATM3_slide133_2018_01_26-S3_thumbnail_mask.png\"\n"
     ]
    },
    {
     "name": "stderr",
     "output_type": "stream",
     "text": [
      "Not using image_cache.\n",
      "Not using image_cache.\n"
     ]
    },
    {
     "name": "stdout",
     "output_type": "stream",
     "text": [
      "0\n",
      "/media/yuncong/BstemAtlasData/CSHL_data_processed/CHATM3/CHATM3_thumbnail_NtbNormalized/CHATM3_slide135_2018_01_26-S1_thumbnail_NtbNormalized.tif\n",
      "/media/yuncong/BstemAtlasData/CSHL_data_processed/CHATM3/CHATM3_thumbnail_NtbNormalized/CHATM3_slide135_2018_01_26-S1_thumbnail_NtbNormalized.tif\n",
      "aws s3 cp \"/media/yuncong/BstemAtlasData/CSHL_data_processed/CHATM3/CHATM3_thumbnail_mask/CHATM3_slide135_2018_01_26-S1_thumbnail_mask.png\" \"s3://mousebrainatlas-data/CSHL_data_processed/CHATM3/CHATM3_thumbnail_mask/CHATM3_slide135_2018_01_26-S1_thumbnail_mask.png\"\n"
     ]
    },
    {
     "name": "stderr",
     "output_type": "stream",
     "text": [
      "Not using image_cache.\n",
      "Not using image_cache.\n"
     ]
    },
    {
     "name": "stdout",
     "output_type": "stream",
     "text": [
      "0\n",
      "/media/yuncong/BstemAtlasData/CSHL_data_processed/CHATM3/CHATM3_thumbnail_NtbNormalized/CHATM3_slide135_2018_01_26-S2_thumbnail_NtbNormalized.tif\n",
      "/media/yuncong/BstemAtlasData/CSHL_data_processed/CHATM3/CHATM3_thumbnail_NtbNormalized/CHATM3_slide135_2018_01_26-S2_thumbnail_NtbNormalized.tif\n",
      "aws s3 cp \"/media/yuncong/BstemAtlasData/CSHL_data_processed/CHATM3/CHATM3_thumbnail_mask/CHATM3_slide135_2018_01_26-S2_thumbnail_mask.png\" \"s3://mousebrainatlas-data/CSHL_data_processed/CHATM3/CHATM3_thumbnail_mask/CHATM3_slide135_2018_01_26-S2_thumbnail_mask.png\"\n"
     ]
    },
    {
     "name": "stderr",
     "output_type": "stream",
     "text": [
      "Not using image_cache.\n",
      "Not using image_cache.\n"
     ]
    },
    {
     "name": "stdout",
     "output_type": "stream",
     "text": [
      "0\n",
      "/media/yuncong/BstemAtlasData/CSHL_data_processed/CHATM3/CHATM3_thumbnail_NtbNormalized/CHATM3_slide135_2018_01_26-S3_thumbnail_NtbNormalized.tif\n",
      "/media/yuncong/BstemAtlasData/CSHL_data_processed/CHATM3/CHATM3_thumbnail_NtbNormalized/CHATM3_slide135_2018_01_26-S3_thumbnail_NtbNormalized.tif\n",
      "aws s3 cp \"/media/yuncong/BstemAtlasData/CSHL_data_processed/CHATM3/CHATM3_thumbnail_mask/CHATM3_slide135_2018_01_26-S3_thumbnail_mask.png\" \"s3://mousebrainatlas-data/CSHL_data_processed/CHATM3/CHATM3_thumbnail_mask/CHATM3_slide135_2018_01_26-S3_thumbnail_mask.png\""
     ]
    },
    {
     "name": "stderr",
     "output_type": "stream",
     "text": [
      "Not using image_cache.\n",
      "Not using image_cache.\n"
     ]
    },
    {
     "name": "stdout",
     "output_type": "stream",
     "text": [
      "\n",
      "0\n",
      "/media/yuncong/BstemAtlasData/CSHL_data_processed/CHATM3/CHATM3_thumbnail_NtbNormalized/CHATM3_slide137_2018_01_26-S1_thumbnail_NtbNormalized.tif\n",
      "/media/yuncong/BstemAtlasData/CSHL_data_processed/CHATM3/CHATM3_thumbnail_NtbNormalized/CHATM3_slide137_2018_01_26-S1_thumbnail_NtbNormalized.tif\n"
     ]
    },
    {
     "name": "stderr",
     "output_type": "stream",
     "text": [
      "Not using image_cache.\n",
      "Not using image_cache.\n"
     ]
    },
    {
     "name": "stdout",
     "output_type": "stream",
     "text": [
      "aws s3 cp \"/media/yuncong/BstemAtlasData/CSHL_data_processed/CHATM3/CHATM3_thumbnail_mask/CHATM3_slide137_2018_01_26-S1_thumbnail_mask.png\" \"s3://mousebrainatlas-data/CSHL_data_processed/CHATM3/CHATM3_thumbnail_mask/CHATM3_slide137_2018_01_26-S1_thumbnail_mask.png\"\n",
      "0\n",
      "/media/yuncong/BstemAtlasData/CSHL_data_processed/CHATM3/CHATM3_thumbnail_NtbNormalized/CHATM3_slide137_2018_01_26-S2_thumbnail_NtbNormalized.tif\n",
      "/media/yuncong/BstemAtlasData/CSHL_data_processed/CHATM3/CHATM3_thumbnail_NtbNormalized/CHATM3_slide137_2018_01_26-S2_thumbnail_NtbNormalized.tif\n",
      "aws s3 cp \"/media/yuncong/BstemAtlasData/CSHL_data_processed/CHATM3/CHATM3_thumbnail_mask/CHATM3_slide137_2018_01_26-S2_thumbnail_mask.png\" \"s3://mousebrainatlas-data/CSHL_data_processed/CHATM3/CHATM3_thumbnail_mask/CHATM3_slide137_2018_01_26-S2_thumbnail_mask.png\"\n"
     ]
    },
    {
     "name": "stderr",
     "output_type": "stream",
     "text": [
      "Not using image_cache.\n",
      "Not using image_cache.\n"
     ]
    },
    {
     "name": "stdout",
     "output_type": "stream",
     "text": [
      "0\n",
      "/media/yuncong/BstemAtlasData/CSHL_data_processed/CHATM3/CHATM3_thumbnail_NtbNormalized/CHATM3_slide137_2018_01_26-S3_thumbnail_NtbNormalized.tif\n",
      "/media/yuncong/BstemAtlasData/CSHL_data_processed/CHATM3/CHATM3_thumbnail_NtbNormalized/CHATM3_slide137_2018_01_26-S3_thumbnail_NtbNormalized.tif\n",
      "aws s3 cp \"/media/yuncong/BstemAtlasData/CSHL_data_processed/CHATM3/CHATM3_thumbnail_mask/CHATM3_slide137_2018_01_26-S3_thumbnail_mask.png\" \"s3://mousebrainatlas-data/CSHL_data_processed/CHATM3/CHATM3_thumbnail_mask/CHATM3_slide137_2018_01_26-S3_thumbnail_mask.png\"\n"
     ]
    },
    {
     "name": "stderr",
     "output_type": "stream",
     "text": [
      "Not using image_cache.\n",
      "Not using image_cache.\n"
     ]
    },
    {
     "name": "stdout",
     "output_type": "stream",
     "text": [
      "0\n"
     ]
    }
   ],
   "source": [
    "for fn in valid_filenames:\n",
    "    mask_tb_alignedPadded = DataManager.load_thumbnail_mask_v3(stack=stack, prep_id=1, fn=fn)\n",
    "    mask_tb_original = get_original_thumbnail_from_prep1_thumbnail(mask_tb_alignedPadded, stack=stack, fn=fn)\n",
    "    \n",
    "    img_tb_original = DataManager.load_image_v2(stack=stack, prep_id=None, \n",
    "                                         resol='thumbnail', version='NtbNormalized', \n",
    "                                         fn=fn)\n",
    "    \n",
    "    mask_tb_original_fp = DataManager.get_thumbnail_mask_filename_v3(stack, prep_id=None, fn=fn)\n",
    "    create_parent_dir_if_not_exists(mask_tb_original_fp)\n",
    "    imsave(mask_tb_original_fp, mask_tb_original)\n",
    "    upload_to_s3(mask_tb_original_fp)\n",
    "\n",
    "#     masked_img = img_tb_raw.copy()\n",
    "#     masked_img[~mask_tb_raw] = 0\n",
    "    \n",
    "#     plt.figure()\n",
    "#     plt.imshow(masked_img, cmap=plt.cm.gray);\n",
    "#     plt.show()"
   ]
  },
  {
   "cell_type": "markdown",
   "metadata": {
    "collapsed": true
   },
   "source": [
    "# Crop"
   ]
  },
  {
   "cell_type": "code",
   "execution_count": 191,
   "metadata": {},
   "outputs": [
    {
     "name": "stdout",
     "output_type": "stream",
     "text": [
      "rm -rf \"/media/yuncong/BstemAtlasData/CSHL_data_processed/CHATM3/CHATM3_alignedTo_CHATM3_slide77_2018_01_26-S1_cropbox.txt\" && mkdir -p \"/media/yuncong/BstemAtlasData/CSHL_data_processed/CHATM3\"\n",
      "0\n",
      "aws s3 cp \"s3://mousebrainatlas-data/CSHL_data_processed/CHATM3/CHATM3_alignedTo_CHATM3_slide77_2018_01_26-S1_cropbox.txt\" \"/media/yuncong/BstemAtlasData/CSHL_data_processed/CHATM3/CHATM3_alignedTo_CHATM3_slide77_2018_01_26-S1_cropbox.txt\"\n",
      "0\n"
     ]
    }
   ],
   "source": [
    "download_from_s3(DataManager.get_cropbox_filename(stack), redownload=True)"
   ]
  },
  {
   "cell_type": "code",
   "execution_count": 192,
   "metadata": {},
   "outputs": [
    {
     "name": "stdout",
     "output_type": "stream",
     "text": [
      "894 98 844 588\n"
     ]
    }
   ],
   "source": [
    "xmin, xmax, ymin, ymax, first_sec, last_sec = DataManager.load_cropbox(stack=stack)\n",
    "w = xmax + 1 - xmin\n",
    "h = ymax + 1 - ymin\n",
    "x = xmin\n",
    "y = ymin\n",
    "\n",
    "print x,y,w,h"
   ]
  },
  {
   "cell_type": "code",
   "execution_count": 193,
   "metadata": {
    "collapsed": true
   },
   "outputs": [],
   "source": [
    "prep_id = 2"
   ]
  },
  {
   "cell_type": "code",
   "execution_count": 194,
   "metadata": {
    "collapsed": true
   },
   "outputs": [],
   "source": [
    "_, sections_to_filenames = DataManager.load_sorted_filenames(stack=stack) \n",
    "valid_filenames = [fn for fn in sections_to_filenames.values() if not is_invalid(fn=fn)]"
   ]
  },
  {
   "cell_type": "code",
   "execution_count": 195,
   "metadata": {
    "collapsed": true
   },
   "outputs": [],
   "source": [
    "anchor_fn = DataManager.load_anchor_filename(stack=stack)\n",
    "transforms_to_anchor = DataManager.load_transforms(stack=stack, downsample_factor=32, use_inverse=False, anchor_fn=anchor_fn)"
   ]
  },
  {
   "cell_type": "code",
   "execution_count": 196,
   "metadata": {
    "collapsed": true
   },
   "outputs": [],
   "source": [
    "script = os.path.join(REPO_DIR, 'preprocess', 'warp_crop_IM_v3.py')"
   ]
  },
  {
   "cell_type": "code",
   "execution_count": 197,
   "metadata": {
    "collapsed": true
   },
   "outputs": [],
   "source": [
    "pad_bg_color = 'black'"
   ]
  },
  {
   "cell_type": "code",
   "execution_count": null,
   "metadata": {},
   "outputs": [
    {
     "name": "stdout",
     "output_type": "stream",
     "text": [
      "rm -f ~/stderr_*; rm -f ~/stdout_*\n",
      "0\n"
     ]
    },
    {
     "name": "stderr",
     "output_type": "stream",
     "text": [
      "Run locally.\n"
     ]
    }
   ],
   "source": [
    "# for version in ['CHAT']:\n",
    "for version in ['Ntb']:\n",
    "\n",
    "    t = time.time()\n",
    "\n",
    "    if pad_bg_color == 'auto': # useful for alternatively stained stacks where bg varies depending on stain on each section\n",
    "        run_distributed('%(script)s %(stack)s \\\"%%(input_fp)s\\\" \\\"%%(output_fp)s\\\" %%(transform)s raw %(x)d %(y)d %(w)d %(h)d %%(pad_bg_color)s -r \\\"%%(init_rotate)s\\\"' % \\\n",
    "                        {'script': script,\n",
    "                        'stack': stack,\n",
    "                         'x': x,\n",
    "                        'y': y,\n",
    "                        'w': w,\n",
    "                        'h': h,\n",
    "                        },\n",
    "                        kwargs_list=[{'transform': ','.join(map(str, transforms_to_anchor[img_name].flatten())),\n",
    "                                    'input_fp': DataManager.get_image_filepath_v2(stack=stack, prep_id=None, resol='raw', version=version, fn=img_name),\n",
    "                                      'output_fp': DataManager.get_image_filepath_v2(stack=stack, fn=img_name, prep_id=prep_id, version=version, resol='raw'),\n",
    "                                    'pad_bg_color': 'black' if img_name.split('-')[1][0] == 'F' else 'white',\n",
    "                                     'init_rotate': ''\n",
    "                                     }\n",
    "                                    for img_name in valid_filenames\n",
    "                                    ],\n",
    "                        argument_type='single',\n",
    "                       jobs_per_node=1,\n",
    "                       local_only=True)\n",
    "    else:\n",
    "        run_distributed('%(script)s %(stack)s \\\"%%(input_fp)s\\\" \\\"%%(output_fp)s\\\" %%(transform)s raw %(x)d %(y)d %(w)d %(h)d %(pad_bg_color)s -r \\\"%%(init_rotate)s\\\"' % \\\n",
    "                        {'script': script,\n",
    "                        'stack': stack,\n",
    "                         'x': x,\n",
    "                        'y': y,\n",
    "                        'w': w,\n",
    "                        'h': h,\n",
    "                        'pad_bg_color': pad_bg_color\n",
    "                        },\n",
    "                        kwargs_list=[{'transform': ','.join(map(str, transforms_to_anchor[img_name].flatten())),\n",
    "                                    'input_fp': DataManager.get_image_filepath_v2(stack=stack, prep_id=None, resol='raw', version=version, fn=img_name),\n",
    "                                      'output_fp': DataManager.get_image_filepath_v2(stack=stack, fn=img_name, prep_id=prep_id, version=version, resol='raw'),\n",
    "                                      'init_rotate': ''\n",
    "                                     }\n",
    "                                    for img_name in valid_filenames\n",
    "                                    ],\n",
    "                        argument_type='single',\n",
    "                       jobs_per_node=1,\n",
    "                       local_only=True)\n",
    "\n",
    "    # wait_qsub_complete()\n",
    "\n",
    "    print 'done in', time.time() - t, 'seconds' # 300 seconds."
   ]
  }
 ],
 "metadata": {
  "kernelspec": {
   "display_name": "Python 2",
   "language": "python",
   "name": "python2"
  },
  "language_info": {
   "codemirror_mode": {
    "name": "ipython",
    "version": 2
   },
   "file_extension": ".py",
   "mimetype": "text/x-python",
   "name": "python",
   "nbconvert_exporter": "python",
   "pygments_lexer": "ipython2",
   "version": "2.7.12"
  }
 },
 "nbformat": 4,
 "nbformat_minor": 2
}
