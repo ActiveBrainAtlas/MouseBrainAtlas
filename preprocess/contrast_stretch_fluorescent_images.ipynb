{
 "cells": [
  {
   "cell_type": "code",
   "execution_count": 1,
   "metadata": {},
   "outputs": [
    {
     "name": "stderr",
     "output_type": "stream",
     "text": [
      "/usr/local/lib/python2.7/dist-packages/matplotlib/__init__.py:1405: UserWarning: \n",
      "This call to matplotlib.use() has no effect because the backend has already\n",
      "been chosen; matplotlib.use() must be called *before* pylab, matplotlib.pyplot,\n",
      "or matplotlib.backends is imported for the first time.\n",
      "\n",
      "  warnings.warn(_use_error_msg)\n",
      "No vtk\n"
     ]
    },
    {
     "name": "stdout",
     "output_type": "stream",
     "text": [
      "Setting environment for AWS compute node\n"
     ]
    }
   ],
   "source": [
    "import os, sys\n",
    "\n",
    "from skimage.io import imread\n",
    "import numpy as np\n",
    "import matplotlib.pyplot as plt\n",
    "%matplotlib inline\n",
    "from pandas import DataFrame\n",
    "\n",
    "sys.path.append(os.path.join(os.environ['REPO_DIR'], 'utilities'))\n",
    "from utilities2015 import *\n",
    "from data_manager import *\n",
    "from metadata import *"
   ]
  },
  {
   "cell_type": "code",
   "execution_count": 2,
   "metadata": {
    "collapsed": true
   },
   "outputs": [],
   "source": [
    "from skimage.filters import median, gaussian, threshold_otsu\n",
    "from skimage.morphology import disk, remove_small_objects, binary_closing\n",
    "from skimage.measure import label, regionprops\n",
    "from skimage.exposure import rescale_intensity"
   ]
  },
  {
   "cell_type": "code",
   "execution_count": 3,
   "metadata": {
    "collapsed": true
   },
   "outputs": [],
   "source": [
    "examples = {\n",
    "'MD658': [\n",
    "( 'MD658-F43-2017.04.05-02.10.06_MD658_1_0127', 10228, 9988, 3560, 2168),\n",
    "( 'MD658-F38-2017.04.05-00.43.15_MD658_1_0112', 7200 ,6464, 6176, 5120),\n",
    "( 'MD658-F33-2017.04.04-23.12.27_MD658_1_0097', 6912 ,7392, 4320, 3328),\n",
    "( 'MD658-F60-2017.04.05-06.47.55_MD658_2_0179', 7360 ,6368, 2240 ,2272),\n",
    "( 'MD658-F61-2017.04.05-07.03.26_MD658_2_0182', 10528, 9536, 2688, 2240)],\n",
    "'MD657': [\n",
    "('MD657-F28-2017.02.18-00.45.02_MD657_1_0082', 6624,7264,5536,3008),\n",
    "( 'MD657-F40-2017.02.18-04.41.42_MD657_2_0119', 7488,8320,4736,4000),\n",
    "( 'MD657-F34-2017.02.18-02.34.03_MD657_1_0100', 7648,6336,1792,2016),\n",
    "( 'MD657-F34-2017.02.18-02.34.03_MD657_2_0101', 10848,6848,4160,1760),\n",
    "('MD657-F40-2017.02.18-04.41.42_MD657_1_0118', 297*32,301*32,85*32,70*32)],\n",
    "'MD662': [\n",
    "('MD662&661-F60-2017.06.06-03.35.37_MD662_1_0178', 220*32,199*32,176*32,182*32)]\n",
    "}"
   ]
  },
  {
   "cell_type": "code",
   "execution_count": 4,
   "metadata": {
    "collapsed": true
   },
   "outputs": [],
   "source": [
    "stack = 'MD662'\n",
    "label_channel = 1\n",
    "# stack = 'MD657'\n",
    "# label_channel = 1\n",
    "# stack = 'MD658'\n",
    "# label_channel = 0"
   ]
  },
  {
   "cell_type": "code",
   "execution_count": 5,
   "metadata": {
    "collapsed": true
   },
   "outputs": [],
   "source": [
    "# fn = 'MD657-F40-2017.02.18-04.41.42_MD657_1_0118'\n",
    "# fn = 'MD662&661-F60-2017.06.06-03.35.37_MD662_1_0178'"
   ]
  },
  {
   "cell_type": "code",
   "execution_count": 16,
   "metadata": {},
   "outputs": [
    {
     "name": "stdout",
     "output_type": "stream",
     "text": [
      "MD662&661-F60-2017.06.06-03.35.37_MD662_1_0178 7040 12671 6368 12191 5632 5824\n"
     ]
    }
   ],
   "source": [
    "_, xmin, ymin, w, h = examples[stack][0]\n",
    "xmax = xmin + w - 1\n",
    "ymax = ymin + h - 1\n",
    "print fn, xmin, xmax, ymin, ymax, w, h"
   ]
  },
  {
   "cell_type": "code",
   "execution_count": null,
   "metadata": {
    "scrolled": true
   },
   "outputs": [],
   "source": [
    "for fn in metadata_cache['valid_filenames']['MD662'][70:90]:\n",
    "\n",
    "    print fn\n",
    "    \n",
    "    img = DataManager.load_image_v2(stack=stack, prep_id=2, resol='lossless', fn=fn)\n",
    "    img_cropped = img[:, :, label_channel][ymin:ymax+1, xmin:xmax+1]\n",
    "    img_cropped_contrast_stretched = img_as_ubyte(rescale_intensity(img_cropped, in_range=(0, 1000)))\n",
    "    \n",
    "    img_blue_normalized = DataManager.load_image_v2(stack=stack, prep_id=2, resol='lossless', fn=fn, version='gray')\n",
    "    img_blue_normalized_cropped = img_blue_normalized[ymin:ymax+1, xmin:xmax+1]\n",
    "    \n",
    "    contrast_stretched_img = np.zeros(img_cropped.shape + (3,), np.uint8)\n",
    "    contrast_stretched_img[..., 1] = img_cropped_contrast_stretched\n",
    "    contrast_stretched_img[..., 2] = rescale_intensity(-img_blue_normalized_cropped)\n",
    "    \n",
    "    plt.figure(figsize=(20, 20));\n",
    "    plt.imshow(contrast_stretched_img);\n",
    "    plt.show();"
   ]
  },
  {
   "cell_type": "code",
   "execution_count": 23,
   "metadata": {},
   "outputs": [
    {
     "data": {
      "image/png": "[encoded data removed]",
      "text/plain": [
       "<matplotlib.figure.Figure at 0x7faa0c0f2f50>"
      ]
     },
     "metadata": {},
     "output_type": "display_data"
    },
    {
     "data": {
      "image/png": "[encoded data removed]",
      "text/plain": [
       "<matplotlib.figure.Figure at 0x7fa9b289d3d0>"
      ]
     },
     "metadata": {},
     "output_type": "display_data"
    }
   ],
   "source": [
    "plt.hist(img_cropped.flatten(), bins=1000);\n",
    "plt.ylim([0, 2e6]);\n",
    "plt.show();\n",
    "\n",
    "plt.hist(img_cropped.flatten(), bins=1000, log=True);\n",
    "plt.show();"
   ]
  },
  {
   "cell_type": "code",
   "execution_count": 9,
   "metadata": {},
   "outputs": [
    {
     "name": "stderr",
     "output_type": "stream",
     "text": [
      "/usr/local/lib/python2.7/dist-packages/skimage/util/dtype.py:122: UserWarning: Possible precision loss when converting from uint16 to uint8\n",
      "  .format(dtypeobj_in, dtypeobj_out))\n"
     ]
    }
   ],
   "source": [
    "img_cropped_contrast_stretched = img_as_ubyte(rescale_intensity(img_cropped, in_range=(0, 1000)))"
   ]
  },
  {
   "cell_type": "code",
   "execution_count": 10,
   "metadata": {},
   "outputs": [],
   "source": [
    "img_blue_normalized = DataManager.load_image_v2(stack=stack, prep_id=2, resol='lossless', fn=fn, version='gray')\n",
    "img_blue_normalized_cropped = img_blue_normalized[ymin:ymax+1, xmin:xmax+1]"
   ]
  },
  {
   "cell_type": "code",
   "execution_count": 11,
   "metadata": {},
   "outputs": [
    {
     "data": {
      "text/html": [
       "<a href='tmp.jpg' target='_blank'>tmp.jpg</a><br>"
      ],
      "text/plain": [
       "/shared/MouseBrainAtlas/preprocess/tmp.jpg"
      ]
     },
     "execution_count": 11,
     "metadata": {},
     "output_type": "execute_result"
    }
   ],
   "source": [
    "display_image(img_blue_normalized_cropped)"
   ]
  },
  {
   "cell_type": "code",
   "execution_count": 12,
   "metadata": {},
   "outputs": [],
   "source": [
    "contrast_stretched_img = np.zeros(img_cropped.shape + (3,), np.uint8)\n",
    "contrast_stretched_img[..., 1] = img_cropped_contrast_stretched\n",
    "contrast_stretched_img[..., 2] = rescale_intensity(-img_blue_normalized_cropped)"
   ]
  },
  {
   "cell_type": "code",
   "execution_count": 13,
   "metadata": {},
   "outputs": [
    {
     "data": {
      "text/html": [
       "<a href='tmp.jpg' target='_blank'>tmp.jpg</a><br>"
      ],
      "text/plain": [
       "/shared/MouseBrainAtlas/preprocess/tmp.jpg"
      ]
     },
     "execution_count": 13,
     "metadata": {},
     "output_type": "execute_result"
    }
   ],
   "source": [
    "display_image(contrast_stretched_img)"
   ]
  },
  {
   "cell_type": "code",
   "execution_count": 92,
   "metadata": {},
   "outputs": [
    {
     "data": {
      "image/png": "[encoded data removed]",
      "text/plain": [
       "<matplotlib.figure.Figure at 0x7fa92ddf3e10>"
      ]
     },
     "metadata": {},
     "output_type": "display_data"
    },
    {
     "data": {
      "image/png": "[encoded data removed]",
      "text/plain": [
       "<matplotlib.figure.Figure at 0x7fa92e1e7e10>"
      ]
     },
     "metadata": {},
     "output_type": "display_data"
    }
   ],
   "source": [
    "plt.figure();\n",
    "plt.hist(contrast_stretched_img[..., 1].flatten(), bins=256, log=True);\n",
    "plt.show();\n",
    "\n",
    "plt.figure();\n",
    "plt.hist(contrast_stretched_img[..., 2].flatten(), bins=256, log=True);\n",
    "plt.show();"
   ]
  },
  {
   "cell_type": "code",
   "execution_count": 128,
   "metadata": {},
   "outputs": [
    {
     "data": {
      "text/plain": [
       "'/shared/CSHL_data_processed/MD662/MD662_prep2_lossless_contrastStretched/MD662&661-F60-2017.06.06-03.35.37_MD662_1_0178_prep2_lossless_contrastStretched.jpg'"
      ]
     },
     "execution_count": 128,
     "metadata": {},
     "output_type": "execute_result"
    }
   ],
   "source": [
    "output_fp = DataManager.get_image_filepath_v2(stack=stack, prep_id=2, \n",
    "                                              resol='lossless', fn=fn, version='contrastStretched', \n",
    "                                              ext='jpg')"
   ]
  }
 ],
 "metadata": {
  "kernelspec": {
   "display_name": "Python 2",
   "language": "python",
   "name": "python2"
  },
  "language_info": {
   "codemirror_mode": {
    "name": "ipython",
    "version": 2
   },
   "file_extension": ".py",
   "mimetype": "text/x-python",
   "name": "python",
   "nbconvert_exporter": "python",
   "pygments_lexer": "ipython2",
   "version": "2.7.12"
  }
 },
 "nbformat": 4,
 "nbformat_minor": 2
}
