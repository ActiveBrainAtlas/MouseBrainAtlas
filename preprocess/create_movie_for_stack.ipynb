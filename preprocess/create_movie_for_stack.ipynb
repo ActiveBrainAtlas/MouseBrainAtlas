{
 "cells": [
  {
   "cell_type": "code",
   "execution_count": 2,
   "metadata": {},
   "outputs": [
    {
     "name": "stdout",
     "output_type": "stream",
     "text": [
      "Setting environment for Local Macbook Pro\n"
     ]
    },
    {
     "name": "stderr",
     "output_type": "stream",
     "text": [
      "Not using image_cache.\n",
      "Not using image_cache.\n",
      "Not using image_cache.\n",
      "Not using image_cache.\n",
      "Not using image_cache.\n",
      "Not using image_cache.\n",
      "Not using image_cache.\n",
      "Not using image_cache.\n",
      "Not using image_cache.\n",
      "Not using image_cache.\n",
      "Not using image_cache.\n",
      "Not using image_cache.\n",
      "Not using image_cache.\n",
      "Not using image_cache.\n",
      "Not using image_cache.\n",
      "Not using image_cache.\n",
      "Not using image_cache.\n",
      "Not using image_cache.\n",
      "Not using image_cache.\n",
      "Not using image_cache.\n",
      "Not using image_cache.\n"
     ]
    }
   ],
   "source": [
    "%reload_ext autoreload\n",
    "%autoreload 2\n",
    "\n",
    "import sys\n",
    "import os\n",
    "\n",
    "sys.path.append(os.path.join(os.environ['REPO_DIR'], 'utilities'))\n",
    "from utilities2015 import *\n",
    "from metadata import *\n",
    "from data_manager import *"
   ]
  },
  {
   "cell_type": "code",
   "execution_count": 10,
   "metadata": {},
   "outputs": [],
   "source": [
    "fn2ind = {fn + '_prep2_lossless_contrastStretched.jpg': ind for fn, ind in metadata_cache['filenames_to_sections']['MD662'].iteritems()}"
   ]
  },
  {
   "cell_type": "code",
   "execution_count": 14,
   "metadata": {
    "collapsed": true
   },
   "outputs": [],
   "source": [
    "! mkdir /home/yuncong/MD662_down8_renamed/"
   ]
  },
  {
   "cell_type": "code",
   "execution_count": 15,
   "metadata": {},
   "outputs": [],
   "source": [
    "for fn in os.listdir('/home/yuncong/MD662_down8/'):\n",
    "    os.rename('/home/yuncong/MD662_down8/' + fn, '/home/yuncong/MD662_down8_renamed/%03d.jpg' % fn2ind[fn])"
   ]
  }
 ],
 "metadata": {
  "kernelspec": {
   "display_name": "Python 2",
   "language": "python",
   "name": "python2"
  },
  "language_info": {
   "codemirror_mode": {
    "name": "ipython",
    "version": 2
   },
   "file_extension": ".py",
   "mimetype": "text/x-python",
   "name": "python",
   "nbconvert_exporter": "python",
   "pygments_lexer": "ipython2",
   "version": "2.7.12"
  }
 },
 "nbformat": 4,
 "nbformat_minor": 2
}
