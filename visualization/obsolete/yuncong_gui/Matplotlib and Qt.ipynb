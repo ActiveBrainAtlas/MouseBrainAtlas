{
 "metadata": {
  "name": "",
  "signature": "sha256:1cfa3e427eb77eda0b53771cd0dbd92bee90536059f2d532ffac98fac806e115"
 },
 "nbformat": 3,
 "nbformat_minor": 0,
 "worksheets": [
  {
   "cells": [
    {
     "cell_type": "code",
     "collapsed": false,
     "input": [
      "import matplotlib.pyplot as plt\n",
      "\n",
      "fig, ax = plt.subplots()\n",
      "color_cycle = ax._get_lines.color_cycle"
     ],
     "language": "python",
     "metadata": {},
     "outputs": [
      {
       "metadata": {},
       "output_type": "display_data",
       "png": "[encoded data removed]",
       "text": [
        "<matplotlib.figure.Figure at 0x10813e9d0>"
       ]
      }
     ],
     "prompt_number": 1
    },
    {
     "cell_type": "code",
     "collapsed": false,
     "input": [
      "i=0\n",
      "for c in color_cycle:\n",
      "    print i,c\n",
      "    i+=1\n",
      "    if i>10: break"
     ],
     "language": "python",
     "metadata": {},
     "outputs": [
      {
       "output_type": "stream",
       "stream": "stdout",
       "text": [
        "0 b\n",
        "1 g\n",
        "2 r\n",
        "3 c\n",
        "4 m\n",
        "5 y\n",
        "6 k\n",
        "7 b\n",
        "8 g\n",
        "9 r\n",
        "10 c\n"
       ]
      }
     ],
     "prompt_number": 2
    },
    {
     "cell_type": "code",
     "collapsed": false,
     "input": [
      "Colors_Green_Armytage=\\\n",
      "[(240,163,255),(0,117,220),(153,63,0),(76,0,92),(25,25,25),(0,92,49),(43,206,72),(255,204,153),(128,128,128),(148,255,181),(143,124,0),(157,204,0),(194,0,136),(0,51,128),(255,164,5),(255,168,187),(66,102,0),(255,0,16),(94,241,242),(0,153,143),(224,255,102),(116,10,255),(153,0,0),(255,255,128),(255,255,0),(255,80,5)]"
     ],
     "language": "python",
     "metadata": {},
     "outputs": [],
     "prompt_number": 3
    },
    {
     "cell_type": "code",
     "collapsed": false,
     "input": [
      "Colors_Green_Armytage[:5]"
     ],
     "language": "python",
     "metadata": {},
     "outputs": [
      {
       "metadata": {},
       "output_type": "pyout",
       "prompt_number": 4,
       "text": [
        "[(240, 163, 255), (0, 117, 220), (153, 63, 0), (76, 0, 92), (25, 25, 25)]"
       ]
      }
     ],
     "prompt_number": 4
    },
    {
     "cell_type": "code",
     "collapsed": false,
     "input": [
      "!ls"
     ],
     "language": "python",
     "metadata": {},
     "outputs": [
      {
       "output_type": "stream",
       "stream": "stdout",
       "text": [
        "First study in significance.ipynb                            PMD1305_region0_reduce2_0244_param_nissl324_segmentation.png\r\n",
        "Grow model from seed.ipynb                                   ProcessFeatures.py\r\n",
        "Matplotlib and Qt.ipynb                                      ProcessFeatures.py~\r\n",
        "PMD1305_region0_reduce2_0244_param_nissl324_labellist.npy    brain_labelling_gui.py\r\n",
        "PMD1305_region0_reduce2_0244_param_nissl324_segmentation.npy state.pkl\r\n"
       ]
      }
     ],
     "prompt_number": 5
    },
    {
     "cell_type": "code",
     "collapsed": false,
     "input": [
      "labellist=numpy.load('PMD1305_region0_reduce2_0244_param_nissl324_labellist.npy')"
     ],
     "language": "python",
     "metadata": {},
     "outputs": [],
     "prompt_number": 26
    },
    {
     "cell_type": "code",
     "collapsed": false,
     "input": [
      "len(labellist)"
     ],
     "language": "python",
     "metadata": {},
     "outputs": [
      {
       "metadata": {},
       "output_type": "pyout",
       "prompt_number": 27,
       "text": [
        "2068"
       ]
      }
     ],
     "prompt_number": 27
    },
    {
     "cell_type": "code",
     "collapsed": false,
     "input": [
      "len(['%d:%d'%(i,labellist[i]) for i in range(len(labellist)) if labellist[i] != -1])"
     ],
     "language": "python",
     "metadata": {},
     "outputs": [
      {
       "metadata": {},
       "output_type": "pyout",
       "prompt_number": 28,
       "text": [
        "937"
       ]
      }
     ],
     "prompt_number": 28
    },
    {
     "cell_type": "code",
     "collapsed": false,
     "input": [
      "max(labellist)"
     ],
     "language": "python",
     "metadata": {},
     "outputs": [
      {
       "metadata": {},
       "output_type": "pyout",
       "prompt_number": 29,
       "text": [
        "18"
       ]
      }
     ],
     "prompt_number": 29
    },
    {
     "cell_type": "code",
     "collapsed": false,
     "input": [
      "set(labellist)"
     ],
     "language": "python",
     "metadata": {},
     "outputs": [
      {
       "metadata": {},
       "output_type": "pyout",
       "prompt_number": 30,
       "text": [
        "{-1, 0, 1, 2, 3, 4, 5, 6, 7, 9, 10, 11, 12, 13, 14, 15, 17, 18}"
       ]
      }
     ],
     "prompt_number": 30
    },
    {
     "cell_type": "code",
     "collapsed": false,
     "input": [
      "!ls"
     ],
     "language": "python",
     "metadata": {},
     "outputs": [
      {
       "output_type": "stream",
       "stream": "stdout",
       "text": [
        "First study in significance.ipynb                            PMD1305_region0_reduce2_0244_param_nissl324_segmentation.png\r\n",
        "Grow model from seed.ipynb                                   ProcessFeatures.py\r\n",
        "Matplotlib and Qt.ipynb                                      ProcessFeatures.py~\r\n",
        "PMD1305_region0_reduce2_0244_param_nissl324_labeling.pkl     brain_labelling_gui.py\r\n",
        "PMD1305_region0_reduce2_0244_param_nissl324_labellist.npy    state.pkl\r\n",
        "PMD1305_region0_reduce2_0244_param_nissl324_segmentation.npy\r\n"
       ]
      }
     ],
     "prompt_number": 31
    },
    {
     "cell_type": "code",
     "collapsed": false,
     "input": [
      "import pickle\n",
      "A=pickle.load(open('state.pkl','r'))"
     ],
     "language": "python",
     "metadata": {},
     "outputs": [],
     "prompt_number": 62
    },
    {
     "cell_type": "code",
     "collapsed": false,
     "input": [
      "A.keys()"
     ],
     "language": "python",
     "metadata": {},
     "outputs": [
      {
       "metadata": {},
       "output_type": "pyout",
       "prompt_number": 63,
       "text": [
        "['oldnames', 'newnames', 'labellist']"
       ]
      }
     ],
     "prompt_number": 63
    },
    {
     "cell_type": "code",
     "collapsed": false,
     "input": [
      "A['names']=A['oldnames']"
     ],
     "language": "python",
     "metadata": {},
     "outputs": [],
     "prompt_number": 64
    },
    {
     "cell_type": "code",
     "collapsed": false,
     "input": [
      "A['label_history']=[]\n",
      "#A.pop('oldnames')\n",
      "A.pop('newnames')"
     ],
     "language": "python",
     "metadata": {},
     "outputs": [
      {
       "metadata": {},
       "output_type": "pyout",
       "prompt_number": 67,
       "text": [
        "[]"
       ]
      }
     ],
     "prompt_number": 67
    },
    {
     "cell_type": "code",
     "collapsed": false,
     "input": [
      "A.keys()"
     ],
     "language": "python",
     "metadata": {},
     "outputs": [
      {
       "metadata": {},
       "output_type": "pyout",
       "prompt_number": 68,
       "text": [
        "['label_history', 'names', 'labellist']"
       ]
      }
     ],
     "prompt_number": 68
    },
    {
     "cell_type": "code",
     "collapsed": false,
     "input": [
      "A"
     ],
     "language": "python",
     "metadata": {},
     "outputs": [
      {
       "metadata": {},
       "output_type": "pyout",
       "prompt_number": 69,
       "text": [
        "{'label_history': [],\n",
        " 'labellist': array([-1, -1, -1, ..., 17, -1,  1]),\n",
        " 'names': ['',\n",
        "  '',\n",
        "  '',\n",
        "  '',\n",
        "  '',\n",
        "  '',\n",
        "  '',\n",
        "  '',\n",
        "  'YY',\n",
        "  '',\n",
        "  '',\n",
        "  '',\n",
        "  '',\n",
        "  '',\n",
        "  '',\n",
        "  '',\n",
        "  '',\n",
        "  '',\n",
        "  '',\n",
        "  '',\n",
        "  '']}"
       ]
      }
     ],
     "prompt_number": 69
    },
    {
     "cell_type": "code",
     "collapsed": false,
     "input": [
      "pickle.dump(A,open('PMD1305_region0_reduce2_0244_param_nissl324_labeling.pkl','wb'))"
     ],
     "language": "python",
     "metadata": {},
     "outputs": [],
     "prompt_number": 70
    },
    {
     "cell_type": "code",
     "collapsed": false,
     "input": [
      "ls -lrt"
     ],
     "language": "python",
     "metadata": {},
     "outputs": [
      {
       "output_type": "stream",
       "stream": "stdout",
       "text": [
        "total 59496\r\n",
        "-rw-r--r--@ 1 yoavfreund  staff   6224549 Jul  5 09:00 PMD1305_region0_reduce2_0244_param_nissl324_segmentation.png\r\n",
        "-rw-r--r--  1 yoavfreund  staff  23565112 Jul  5 09:00 PMD1305_region0_reduce2_0244_param_nissl324_segmentation.npy\r\n",
        "-rw-r--r--  1 yoavfreund  staff     16624 Jul  5 09:00 PMD1305_region0_reduce2_0244_param_nissl324_labellist.npy\r\n",
        "-rw-r--r--  1 yoavfreund  staff      9068 Jul  6 18:51 First study in significance.ipynb\r\n",
        "-rw-r--r--  1 yoavfreund  staff    444827 Jul  7 21:01 Grow model from seed.ipynb\r\n",
        "-rw-r--r--  1 yoavfreund  staff      4543 Jul  7 21:04 ProcessFeatures.py~\r\n",
        "-rw-r--r--@ 1 yoavfreund  503        4564 Jul  7 21:51 ProcessFeatures.py\r\n",
        "-rw-r--r--  1 yoavfreund  staff     66434 Jul  8 17:35 state.pkl\r\n",
        "-rw-r--r--  1 yoavfreund  staff     14745 Jul  9 16:54 brain_labelling_gui.py\r\n",
        "-rw-r--r--  1 yoavfreund  staff     13007 Jul  9 17:09 Matplotlib and Qt.ipynb\r\n",
        "-rw-r--r--  1 yoavfreund  staff     66434 Jul  9 17:10 PMD1305_region0_reduce2_0244_param_nissl324_labeling.pkl\r\n"
       ]
      }
     ],
     "prompt_number": 25
    },
    {
     "cell_type": "code",
     "collapsed": false,
     "input": [],
     "language": "python",
     "metadata": {},
     "outputs": [
      {
       "metadata": {},
       "output_type": "pyout",
       "prompt_number": 40,
       "text": [
        "{'label_history': [array([-1, -1, -1, ..., 17, -1,  1])],\n",
        " 'newnames': [],\n",
        " 'oldnames': ['',\n",
        "  '',\n",
        "  '',\n",
        "  '',\n",
        "  '',\n",
        "  '',\n",
        "  '',\n",
        "  '',\n",
        "  'YY',\n",
        "  '',\n",
        "  '',\n",
        "  '',\n",
        "  '',\n",
        "  '',\n",
        "  '',\n",
        "  '',\n",
        "  '',\n",
        "  '',\n",
        "  '',\n",
        "  '',\n",
        "  '']}"
       ]
      }
     ],
     "prompt_number": 40
    },
    {
     "cell_type": "code",
     "collapsed": false,
     "input": [
      "seg=numpy.load('PMD1305_region0_reduce2_0244_param_nissl324_segmentation.npy')\n",
      "shape(seg)"
     ],
     "language": "python",
     "metadata": {},
     "outputs": [
      {
       "metadata": {},
       "output_type": "pyout",
       "prompt_number": 41,
       "text": [
        "(1123, 2623)"
       ]
      }
     ],
     "prompt_number": 41
    },
    {
     "cell_type": "code",
     "collapsed": false,
     "input": [
      "max(seg.flatten())"
     ],
     "language": "python",
     "metadata": {},
     "outputs": [
      {
       "metadata": {},
       "output_type": "pyout",
       "prompt_number": 45,
       "text": [
        "2067"
       ]
      }
     ],
     "prompt_number": 45
    },
    {
     "cell_type": "code",
     "collapsed": false,
     "input": [
      "import datetime"
     ],
     "language": "python",
     "metadata": {},
     "outputs": [],
     "prompt_number": 51
    },
    {
     "cell_type": "code",
     "collapsed": false,
     "input": [
      "datetime.time.now"
     ],
     "language": "python",
     "metadata": {},
     "outputs": [
      {
       "ename": "AttributeError",
       "evalue": "type object 'datetime.time' has no attribute 'now'",
       "output_type": "pyerr",
       "traceback": [
        "\u001b[0;31m---------------------------------------------------------------------------\u001b[0m\n\u001b[0;31mAttributeError\u001b[0m                            Traceback (most recent call last)",
        "\u001b[0;32m<ipython-input-56-3e4113d15f26>\u001b[0m in \u001b[0;36m<module>\u001b[0;34m()\u001b[0m\n\u001b[0;32m----> 1\u001b[0;31m \u001b[0mdatetime\u001b[0m\u001b[0;34m.\u001b[0m\u001b[0mtime\u001b[0m\u001b[0;34m.\u001b[0m\u001b[0mnow\u001b[0m\u001b[0;34m\u001b[0m\u001b[0m\n\u001b[0m",
        "\u001b[0;31mAttributeError\u001b[0m: type object 'datetime.time' has no attribute 'now'"
       ]
      }
     ],
     "prompt_number": 56
    },
    {
     "cell_type": "code",
     "collapsed": false,
     "input": [
      "str(datetime.datetime.now())"
     ],
     "language": "python",
     "metadata": {},
     "outputs": [
      {
       "metadata": {},
       "output_type": "pyout",
       "prompt_number": 59,
       "text": [
        "'2014-07-10 16:49:49.071867'"
       ]
      }
     ],
     "prompt_number": 59
    },
    {
     "cell_type": "code",
     "collapsed": false,
     "input": [
      "        # Read in the labellist history. In labeling we store an array with the history of \n",
      "        # labelings that we can run through for a demo, perform undo, redo etc.\n",
      "        # The fields in labeling are:\n",
      "        # labellist: an array that maps segment (super-pixel) number to labels\n",
      "        # names: an array that contains the textual name associated with the label.\n",
      "        # label_history: The history of changes, together with full label-lists from time to time.\n",
      "        #         The fields in each elements of the list are:\n",
      "        #         name - name of user\n",
      "        #         time\n",
      "        #         full: Binary, true if all of the frame is saved, else is just the change\n",
      "        #         data: if full: array of labels (labellist), if not: a pair: (segment_no, label)\n"
     ],
     "language": "python",
     "metadata": {},
     "outputs": [],
     "prompt_number": 60
    },
    {
     "cell_type": "code",
     "collapsed": false,
     "input": [
      "A.keys()"
     ],
     "language": "python",
     "metadata": {},
     "outputs": [
      {
       "metadata": {},
       "output_type": "pyout",
       "prompt_number": 61,
       "text": [
        "['label_history', 'oldnames', 'newnames']"
       ]
      }
     ],
     "prompt_number": 61
    },
    {
     "cell_type": "code",
     "collapsed": false,
     "input": [
      "from PyQt4.QtGui import *"
     ],
     "language": "python",
     "metadata": {},
     "outputs": [],
     "prompt_number": 71
    },
    {
     "cell_type": "code",
     "collapsed": false,
     "input": [
      "#!/usr/bin/env python\n",
      "\n",
      "# embedding_in_qt4.py --- Simple Qt4 application embedding matplotlib canvases\n",
      "#\n",
      "# Copyright (C) 2005 Florent Rougon\n",
      "#               2006 Darren Dale\n",
      "#\n",
      "# This file is an example program for matplotlib. It may be used and\n",
      "# modified with no restriction; raw copies as well as modified versions\n",
      "# may be distributed without limitation.\n",
      "\n",
      "from __future__ import unicode_literals\n",
      "import sys, os, random\n",
      "from PyQt4 import QtGui, QtCore\n",
      "\n",
      "from numpy import arange, sin, pi\n",
      "from matplotlib.backends.backend_qt4agg import FigureCanvasQTAgg as FigureCanvas\n",
      "from matplotlib.figure import Figure\n",
      "\n",
      "progname = os.path.basename(sys.argv[0])\n",
      "progversion = \"0.1\"\n",
      "\n",
      "\n",
      "class MyMplCanvas(FigureCanvas):\n",
      "    \"\"\"Ultimately, this is a QWidget (as well as a FigureCanvasAgg, etc.).\"\"\"\n",
      "    def __init__(self, parent=None, width=5, height=4, dpi=100):\n",
      "        fig = Figure(figsize=(width, height), dpi=dpi)\n",
      "        self.axes = fig.add_subplot(111)\n",
      "        # We want the axes cleared every time plot() is called\n",
      "        self.axes.hold(False)\n",
      "\n",
      "        self.compute_initial_figure()\n",
      "\n",
      "        #\n",
      "        FigureCanvas.__init__(self, fig)\n",
      "        self.setParent(parent)\n",
      "\n",
      "        FigureCanvas.setSizePolicy(self,\n",
      "                                   QtGui.QSizePolicy.Expanding,\n",
      "                                   QtGui.QSizePolicy.Expanding)\n",
      "        FigureCanvas.updateGeometry(self)\n",
      "\n",
      "    def compute_initial_figure(self):\n",
      "        pass\n",
      "\n",
      "\n",
      "class MyStaticMplCanvas(MyMplCanvas):\n",
      "    \"\"\"Simple canvas with a sine plot.\"\"\"\n",
      "    def compute_initial_figure(self):\n",
      "        t = arange(0.0, 3.0, 0.01)\n",
      "        s = sin(2*pi*t)\n",
      "        self.axes.plot(t, s)\n",
      "\n",
      "\n",
      "class MyDynamicMplCanvas(MyMplCanvas):\n",
      "    \"\"\"A canvas that updates itself every second with a new plot.\"\"\"\n",
      "    def __init__(self, *args, **kwargs):\n",
      "        MyMplCanvas.__init__(self, *args, **kwargs)\n",
      "        timer = QtCore.QTimer(self)\n",
      "        QtCore.QObject.connect(timer, QtCore.SIGNAL(\"timeout()\"), self.update_figure)\n",
      "        timer.start(1000)\n",
      "\n",
      "    def compute_initial_figure(self):\n",
      "         self.axes.plot([0, 1, 2, 3], [1, 2, 0, 4], 'r')\n",
      "\n",
      "    def update_figure(self):\n",
      "        # Build a list of 4 random integers between 0 and 10 (both inclusive)\n",
      "        l = [ random.randint(0, 10) for i in range(4) ]\n",
      "\n",
      "        self.axes.plot([0, 1, 2, 3], l, 'r')\n",
      "        self.draw()\n",
      "\n",
      "\n",
      "class ApplicationWindow(QtGui.QMainWindow):\n",
      "    def __init__(self):\n",
      "        QtGui.QMainWindow.__init__(self)\n",
      "        self.setAttribute(QtCore.Qt.WA_DeleteOnClose)\n",
      "        self.setWindowTitle(\"application main window\")\n",
      "\n",
      "        self.file_menu = QtGui.QMenu('&File', self)\n",
      "        self.file_menu.addAction('&Quit', self.fileQuit,\n",
      "                                 QtCore.Qt.CTRL + QtCore.Qt.Key_Q)\n",
      "        self.menuBar().addMenu(self.file_menu)\n",
      "\n",
      "        self.help_menu = QtGui.QMenu('&Help', self)\n",
      "        self.menuBar().addSeparator()\n",
      "        self.menuBar().addMenu(self.help_menu)\n",
      "\n",
      "        self.help_menu.addAction('&About', self.about)\n",
      "\n",
      "        self.main_widget = QtGui.QWidget(self)\n",
      "\n",
      "        l = QtGui.QVBoxLayout(self.main_widget)\n",
      "        sc = MyStaticMplCanvas(self.main_widget, width=5, height=4, dpi=100)\n",
      "        dc = MyDynamicMplCanvas(self.main_widget, width=5, height=4, dpi=100)\n",
      "        l.addWidget(sc)\n",
      "        l.addWidget(dc)\n",
      "\n",
      "        self.main_widget.setFocus()\n",
      "        self.setCentralWidget(self.main_widget)\n",
      "\n",
      "        self.statusBar().showMessage(\"All hail matplotlib!\", 2000)\n",
      "\n",
      "    def fileQuit(self):\n",
      "        self.close()\n",
      "\n",
      "    def closeEvent(self, ce):\n",
      "        self.fileQuit()\n",
      "\n",
      "    def about(self):\n",
      "        QtGui.QMessageBox.about(self, \"About\",\n",
      "\"\"\"embedding_in_qt4.py example\n",
      "Copyright 2005 Florent Rougon, 2006 Darren Dale\n",
      "\n",
      "This program is a simple example of a Qt4 application embedding matplotlib\n",
      "canvases.\n",
      "\n",
      "It may be used and modified with no restriction; raw copies as well as\n",
      "modified versions may be distributed without limitation.\"\"\"\n",
      ")\n",
      "\n",
      "\n",
      "qApp = QtGui.QApplication(sys.argv)\n",
      "\n",
      "aw = ApplicationWindow()\n",
      "aw.setWindowTitle(\"%s\" % progname)\n",
      "aw.show()\n",
      "sys.exit(qApp.exec_())\n",
      "#qApp.exec_()"
     ],
     "language": "python",
     "metadata": {},
     "outputs": [
      {
       "ename": "SystemExit",
       "evalue": "0",
       "output_type": "pyerr",
       "traceback": [
        "An exception has occurred, use %tb to see the full traceback.\n",
        "\u001b[0;31mSystemExit\u001b[0m\u001b[0;31m:\u001b[0m 0\n"
       ]
      },
      {
       "output_type": "stream",
       "stream": "stderr",
       "text": [
        "To exit: use 'exit', 'quit', or Ctrl-D.\n"
       ]
      }
     ],
     "prompt_number": 1
    },
    {
     "cell_type": "code",
     "collapsed": false,
     "input": [],
     "language": "python",
     "metadata": {},
     "outputs": []
    }
   ],
   "metadata": {}
  }
 ]
}