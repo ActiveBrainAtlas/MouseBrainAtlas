{
 "metadata": {
  "name": "",
  "signature": "sha256:5a8f00824d56e987ad03304a1b21862a8238e87f01fd0828861eae5fe81a1165"
 },
 "nbformat": 3,
 "nbformat_minor": 0,
 "worksheets": [
  {
   "cells": [
    {
     "cell_type": "code",
     "collapsed": false,
     "input": [
      "!pwd"
     ],
     "language": "python",
     "metadata": {},
     "outputs": [
      {
       "output_type": "stream",
       "stream": "stdout",
       "text": [
        "/Users/yoavfreund/projects/BrainRegistration/BrainSaliencyDetection/Visualization/yuncong_gui\r\n"
       ]
      }
     ],
     "prompt_number": 4
    },
    {
     "cell_type": "code",
     "collapsed": false,
     "input": [
      "ls -l data"
     ],
     "language": "python",
     "metadata": {},
     "outputs": [
      {
       "output_type": "stream",
       "stream": "stdout",
       "text": [
        "lrwxr-xr-x  1 yoavfreund  staff  90 Jul 10 21:21 \u001b[35mdata\u001b[m\u001b[m@ -> /Users/yoavfreund/projects/BrainRegistration/Data/PMD1305_reduce2_region0_0244_param5_data\r\n"
       ]
      }
     ],
     "prompt_number": 8
    },
    {
     "cell_type": "code",
     "collapsed": false,
     "input": [
      "cd data"
     ],
     "language": "python",
     "metadata": {},
     "outputs": [
      {
       "output_type": "stream",
       "stream": "stdout",
       "text": [
        "/Users/yoavfreund/projects/BrainRegistration/Data/PMD1305_reduce2_region0_0244_param5_data\n"
       ]
      }
     ],
     "prompt_number": 9
    },
    {
     "cell_type": "code",
     "collapsed": true,
     "input": [
      "!ls -l *.npy"
     ],
     "language": "python",
     "metadata": {},
     "outputs": [
      {
       "output_type": "stream",
       "stream": "stdout",
       "text": [
        "-rw-r--r--  1 yoavfreund  staff  17971888 Jun 23 13:44 PMD1305_reduce2_region0_0244_param5_segmentation.npy\r\n",
        "-rw-r--r--  1 yoavfreund  staff     48464 Jun 23 13:44 PMD1305_reduce2_region0_0244_param5_sp_dir_hist_normalized.npy\r\n",
        "-rw-r--r--  1 yoavfreund  staff     80720 Jun 23 13:44 PMD1305_reduce2_region0_0244_param5_sp_texton_hist_normalized.npy\r\n"
       ]
      }
     ],
     "prompt_number": 10
    },
    {
     "cell_type": "code",
     "collapsed": false,
     "input": [
      "seg=np.load(open('PMD1305_reduce2_region0_0244_param5_segmentation.npy','r'))\n",
      "texton=np.load(open('PMD1305_reduce2_region0_0244_param5_sp_texton_hist_normalized.npy','r'))\n",
      "directions=np.load(open('PMD1305_reduce2_region0_0244_param5_sp_dir_hist_normalized.npy','r'))"
     ],
     "language": "python",
     "metadata": {},
     "outputs": [],
     "prompt_number": 11
    },
    {
     "cell_type": "code",
     "collapsed": false,
     "input": [
      "shape(texton),shape(directions),shape(seg)"
     ],
     "language": "python",
     "metadata": {},
     "outputs": [
      {
       "metadata": {},
       "output_type": "pyout",
       "prompt_number": 12,
       "text": [
        "((504, 20), (504, 12), (926, 2426))"
       ]
      }
     ],
     "prompt_number": 12
    },
    {
     "cell_type": "code",
     "collapsed": false,
     "input": [
      "seg_shape=shape(seg)\n",
      "S=list(seg.flatten())\n",
      "shape(S)\n",
      "import collections\n",
      "S[-3:]\n",
      "C=collections.Counter(S)\n",
      "total=sum(C.values())\n",
      "total\n",
      "shape(texton)\n",
      "len(C)\n",
      "Null=np.zeros([20])\n",
      "total=0;\n",
      "for i in range(len(C)):\n",
      "    if isnan(texton[i,:]).any():\n",
      "        print 'skipping',i\n",
      "        print texton[i,:]\n",
      "        continue\n",
      "    Null = Null + texton[i,:]*C[i]\n",
      "    total+= C[i]\n",
      "    \n",
      "Null = Null/total\n",
      "print total\n",
      "print Null, sum(Null)"
     ],
     "language": "python",
     "metadata": {},
     "outputs": [
      {
       "output_type": "stream",
       "stream": "stdout",
       "text": [
        "skipping 461\n",
        "[ nan  nan  nan  nan  nan  nan  nan  nan  nan  nan  nan  nan  nan  nan  nan\n",
        "  nan  nan  nan  nan  nan]\n",
        "skipping 479\n",
        "[ nan  nan  nan  nan  nan  nan  nan  nan  nan  nan  nan  nan  nan  nan  nan\n",
        "  nan  nan  nan  nan  nan]\n",
        "skipping 480\n",
        "[ nan  nan  nan  nan  nan  nan  nan  nan  nan  nan  nan  nan  nan  nan  nan\n",
        "  nan  nan  nan  nan  nan]\n",
        "skipping 493\n",
        "[ nan  nan  nan  nan  nan  nan  nan  nan  nan  nan  nan  nan  nan  nan  nan\n",
        "  nan  nan  nan  nan  nan]\n",
        "2228550\n",
        "[ 0.06991133  0.14851307  0.03077331  0.01188089  0.00956961  0.01527984\n",
        "  0.05266244  0.08018895  0.06374035  0.06091912  0.05523366  0.0517275\n",
        "  0.1033994   0.0352545   0.00978481  0.00932272  0.04881649  0.03832344\n",
        "  0.00992347  0.0947751 ] 1.0\n"
       ]
      }
     ],
     "prompt_number": 13
    },
    {
     "cell_type": "code",
     "collapsed": false,
     "input": [
      "def RE(p1,p2):\n",
      "    \"\"\"\n",
      "    Calculate the relative entropy between p1 and p2 (The KL distance)\n",
      "    \"\"\"\n",
      "    c=0\n",
      "    for i in range(len(p1)):\n",
      "        if p1[i]>0:\n",
      "            c+= p1[i] * np.log(p1[i]/p2[i])\n",
      "    if isnan(c):\n",
      "        c=1\n",
      "    return c\n",
      "RE(texton[1,:],Null)"
     ],
     "language": "python",
     "metadata": {},
     "outputs": [
      {
       "metadata": {},
       "output_type": "pyout",
       "prompt_number": 14,
       "text": [
        "0.084351686007853546"
       ]
      }
     ],
     "prompt_number": 14
    },
    {
     "cell_type": "code",
     "collapsed": false,
     "input": [
      "def JS(p1,n1,p2,n2):\n",
      "    \"\"\"\n",
      "    Calculate the Jensen Shannon distance between p1 and p2\n",
      "    n1,n2 are the number of elements drawn from p1,p2 respectively \n",
      "    \"\"\"\n",
      "    f=float(n1)/(n1+n2)\n",
      "    p0=p1*f+p2*(1-f)\n",
      "    #print p1,n1,p2,n2\n",
      "    #print f,p0\n",
      "    return f*RE(p1,p0)+(1-f)*RE(p2,p0)\n",
      "p1=np.array([1.,2.,1.])/4.0\n",
      "p2=np.array([1.,0.1,1.])/2.1\n",
      "print JS(p1,10,p1,100)\n",
      "print JS(p1,10,p2,100)\n",
      "print JS(p2,100,p1,10)\n",
      "        "
     ],
     "language": "python",
     "metadata": {},
     "outputs": [
      {
       "output_type": "stream",
       "stream": "stdout",
       "text": [
        "0.0\n",
        "0.0625701427681\n",
        "0.0625701427681\n"
       ]
      }
     ],
     "prompt_number": 15
    },
    {
     "cell_type": "code",
     "collapsed": false,
     "input": [
      "texton_no=shape(texton)[0]\n",
      "D_Null={}  # Distance from the null\n",
      "for j in range(texton_no):\n",
      "    D_Null[j]=RE(texton[j,:],Null)\n",
      "    "
     ],
     "language": "python",
     "metadata": {},
     "outputs": [],
     "prompt_number": 16
    },
    {
     "cell_type": "code",
     "collapsed": false,
     "input": [
      "most_sig=[]\n",
      "for e in sorted(D_Null,key=D_Null.get,reverse=True):\n",
      "    #print e, D_Null[e]\n",
      "    most_sig.append(e)\n",
      "print most_sig[:10]\n",
      "# mark_super_pixels(main_ax,seg,seg_no,most_sig[:100])"
     ],
     "language": "python",
     "metadata": {},
     "outputs": [
      {
       "output_type": "stream",
       "stream": "stdout",
       "text": [
        "[54, 443, 35, 448, 16, 500, 325, 402, 19, 75]\n"
       ]
      }
     ],
     "prompt_number": 17
    },
    {
     "cell_type": "code",
     "collapsed": false,
     "input": [
      "plot(Null)\n",
      "for i in range(100):\n",
      "    plot(texton[most_sig[i],:]);\n"
     ],
     "language": "python",
     "metadata": {},
     "outputs": [
      {
       "metadata": {},
       "output_type": "display_data",
       "png": "[encoded data removed]",
       "text": [
        "<matplotlib.figure.Figure at 0x108695850>"
       ]
      }
     ],
     "prompt_number": 18
    },
    {
     "cell_type": "code",
     "collapsed": false,
     "input": [
      "Distances=-0.1*np.ones([texton_no,texton_no])\n",
      "for i in range(texton_no):\n",
      "    print '\\r',i,\n",
      "    for j in range(i):\n",
      "        if C[i]==0 | C[j]==0:\n",
      "            continue\n",
      "        D=JS(texton[i,:],C[i],texton[j,:],C[j])\n",
      "        if isnan(D): print i,C[i],j,C[j]\n",
      "        if D<0: print D,i,j,texton[i,:],C[i],texton[j,:],C[j]\n",
      "        if D>1: D=1\n",
      "        Distances[i,j]=D\n",
      "        Distances[j,i]=D"
     ],
     "language": "python",
     "metadata": {},
     "outputs": [
      {
       "output_type": "stream",
       "stream": "stdout",
       "text": [
        "\r",
        "0 \r",
        "1 \r",
        "2 \r",
        "3 \r",
        "4 \r",
        "5 \r",
        "6 \r",
        "7 \r",
        "8 \r",
        "9 \r",
        "10 \r",
        "11 \r",
        "12 \r",
        "13 \r",
        "14 \r",
        "15 \r",
        "16 \r",
        "17 \r",
        "18 \r",
        "19 "
       ]
      },
      {
       "output_type": "stream",
       "stream": "stdout",
       "text": [
        "\r",
        "20 \r",
        "21 \r",
        "22 \r",
        "23 \r",
        "24 \r",
        "25 \r",
        "26 \r",
        "27 \r",
        "28 "
       ]
      },
      {
       "output_type": "stream",
       "stream": "stdout",
       "text": [
        "\r",
        "29 \r",
        "30 \r",
        "31 \r",
        "32 \r",
        "33 \r",
        "34 \r",
        "35 "
       ]
      },
      {
       "output_type": "stream",
       "stream": "stdout",
       "text": [
        "\r",
        "36 \r",
        "37 \r",
        "38 \r",
        "39 \r",
        "40 \r",
        "41 "
       ]
      },
      {
       "output_type": "stream",
       "stream": "stdout",
       "text": [
        "\r",
        "42 \r",
        "43 \r",
        "44 \r",
        "45 \r",
        "46 "
       ]
      },
      {
       "output_type": "stream",
       "stream": "stdout",
       "text": [
        "\r",
        "47 \r",
        "48 \r",
        "49 \r",
        "50 \r",
        "51 "
       ]
      },
      {
       "output_type": "stream",
       "stream": "stdout",
       "text": [
        "\r",
        "52 \r",
        "53 \r",
        "54 \r",
        "55 \r",
        "56 "
       ]
      },
      {
       "output_type": "stream",
       "stream": "stdout",
       "text": [
        "\r",
        "57 \r",
        "58 \r",
        "59 \r",
        "60 "
       ]
      },
      {
       "output_type": "stream",
       "stream": "stdout",
       "text": [
        "\r",
        "61 \r",
        "62 \r",
        "63 \r",
        "64 "
       ]
      },
      {
       "output_type": "stream",
       "stream": "stdout",
       "text": [
        "\r",
        "65 \r",
        "66 \r",
        "67 \r",
        "68 "
       ]
      },
      {
       "output_type": "stream",
       "stream": "stdout",
       "text": [
        "\r",
        "69 \r",
        "70 \r",
        "71 \r",
        "72 "
       ]
      },
      {
       "output_type": "stream",
       "stream": "stdout",
       "text": [
        "\r",
        "73 \r",
        "74 \r",
        "75 "
       ]
      },
      {
       "output_type": "stream",
       "stream": "stdout",
       "text": [
        "\r",
        "76 \r",
        "77 \r",
        "78 "
       ]
      },
      {
       "output_type": "stream",
       "stream": "stdout",
       "text": [
        "\r",
        "79 \r",
        "80 \r",
        "81 "
       ]
      },
      {
       "output_type": "stream",
       "stream": "stdout",
       "text": [
        "\r",
        "82 \r",
        "83 \r",
        "84 "
       ]
      },
      {
       "output_type": "stream",
       "stream": "stdout",
       "text": [
        "\r",
        "85 \r",
        "86 \r",
        "87 "
       ]
      },
      {
       "output_type": "stream",
       "stream": "stdout",
       "text": [
        "\r",
        "88 \r",
        "89 \r",
        "90 "
       ]
      },
      {
       "output_type": "stream",
       "stream": "stdout",
       "text": [
        "\r",
        "91 \r",
        "92 \r",
        "93 "
       ]
      },
      {
       "output_type": "stream",
       "stream": "stdout",
       "text": [
        "\r",
        "94 \r",
        "95 \r",
        "96 "
       ]
      },
      {
       "output_type": "stream",
       "stream": "stdout",
       "text": [
        "\r",
        "97 \r",
        "98 \r",
        "99 "
       ]
      },
      {
       "output_type": "stream",
       "stream": "stdout",
       "text": [
        "\r",
        "100 \r",
        "101 \r",
        "102 "
       ]
      },
      {
       "output_type": "stream",
       "stream": "stdout",
       "text": [
        "\r",
        "103 \r",
        "104 "
       ]
      },
      {
       "output_type": "stream",
       "stream": "stdout",
       "text": [
        "\r",
        "105 \r",
        "106 \r",
        "107 "
       ]
      },
      {
       "output_type": "stream",
       "stream": "stdout",
       "text": [
        "\r",
        "108 \r",
        "109 "
       ]
      },
      {
       "output_type": "stream",
       "stream": "stdout",
       "text": [
        "\r",
        "110 \r",
        "111 "
       ]
      },
      {
       "output_type": "stream",
       "stream": "stdout",
       "text": [
        "\r",
        "112 \r",
        "113 "
       ]
      },
      {
       "output_type": "stream",
       "stream": "stdout",
       "text": [
        "\r",
        "114 \r",
        "115 "
       ]
      },
      {
       "output_type": "stream",
       "stream": "stdout",
       "text": [
        "\r",
        "116 \r",
        "117 "
       ]
      },
      {
       "output_type": "stream",
       "stream": "stdout",
       "text": [
        "\r",
        "118 \r",
        "119 "
       ]
      },
      {
       "output_type": "stream",
       "stream": "stdout",
       "text": [
        "\r",
        "120 \r",
        "121 "
       ]
      },
      {
       "output_type": "stream",
       "stream": "stdout",
       "text": [
        "\r",
        "122 \r",
        "123 "
       ]
      },
      {
       "output_type": "stream",
       "stream": "stdout",
       "text": [
        "\r",
        "124 \r",
        "125 "
       ]
      },
      {
       "output_type": "stream",
       "stream": "stdout",
       "text": [
        "\r",
        "126 \r",
        "127 "
       ]
      },
      {
       "output_type": "stream",
       "stream": "stdout",
       "text": [
        "\r",
        "128 \r",
        "129 "
       ]
      },
      {
       "output_type": "stream",
       "stream": "stdout",
       "text": [
        "\r",
        "130 \r",
        "131 "
       ]
      },
      {
       "output_type": "stream",
       "stream": "stdout",
       "text": [
        "\r",
        "132 \r",
        "133 "
       ]
      },
      {
       "output_type": "stream",
       "stream": "stdout",
       "text": [
        "\r",
        "134 \r",
        "135 "
       ]
      },
      {
       "output_type": "stream",
       "stream": "stdout",
       "text": [
        "\r",
        "136 \r",
        "137 "
       ]
      },
      {
       "output_type": "stream",
       "stream": "stdout",
       "text": [
        "\r",
        "138 \r",
        "139 "
       ]
      },
      {
       "output_type": "stream",
       "stream": "stdout",
       "text": [
        "\r",
        "140 \r",
        "141 "
       ]
      },
      {
       "output_type": "stream",
       "stream": "stdout",
       "text": [
        "\r",
        "142 \r",
        "143 "
       ]
      },
      {
       "output_type": "stream",
       "stream": "stdout",
       "text": [
        "\r",
        "144 \r",
        "145 "
       ]
      },
      {
       "output_type": "stream",
       "stream": "stdout",
       "text": [
        "\r",
        "146 \r",
        "147 "
       ]
      },
      {
       "output_type": "stream",
       "stream": "stdout",
       "text": [
        "\r",
        "148 \r",
        "149 "
       ]
      },
      {
       "output_type": "stream",
       "stream": "stdout",
       "text": [
        "\r",
        "150 \r",
        "151 "
       ]
      },
      {
       "output_type": "stream",
       "stream": "stdout",
       "text": [
        "\r",
        "152 \r",
        "153 "
       ]
      },
      {
       "output_type": "stream",
       "stream": "stdout",
       "text": [
        "\r",
        "154 \r",
        "155 "
       ]
      },
      {
       "output_type": "stream",
       "stream": "stdout",
       "text": [
        "\r",
        "156 \r",
        "157 "
       ]
      },
      {
       "output_type": "stream",
       "stream": "stdout",
       "text": [
        "\r",
        "158 \r",
        "159 "
       ]
      },
      {
       "output_type": "stream",
       "stream": "stdout",
       "text": [
        "\r",
        "160 \r",
        "161 "
       ]
      },
      {
       "output_type": "stream",
       "stream": "stdout",
       "text": [
        "\r",
        "162 \r",
        "163 "
       ]
      },
      {
       "output_type": "stream",
       "stream": "stdout",
       "text": [
        "\r",
        "164 \r",
        "165 "
       ]
      },
      {
       "output_type": "stream",
       "stream": "stdout",
       "text": [
        "\r",
        "166 \r",
        "167 "
       ]
      },
      {
       "output_type": "stream",
       "stream": "stdout",
       "text": [
        "\r",
        "168 \r",
        "169 "
       ]
      },
      {
       "output_type": "stream",
       "stream": "stdout",
       "text": [
        "\r",
        "170 \r",
        "171 "
       ]
      },
      {
       "output_type": "stream",
       "stream": "stdout",
       "text": [
        "\r",
        "172 \r",
        "173 "
       ]
      },
      {
       "output_type": "stream",
       "stream": "stdout",
       "text": [
        "\r",
        "174 \r",
        "175 "
       ]
      },
      {
       "output_type": "stream",
       "stream": "stdout",
       "text": [
        "\r",
        "176 \r",
        "177 "
       ]
      },
      {
       "output_type": "stream",
       "stream": "stdout",
       "text": [
        "\r",
        "178 \r",
        "179 "
       ]
      },
      {
       "output_type": "stream",
       "stream": "stdout",
       "text": [
        "\r",
        "180 \r",
        "181 "
       ]
      },
      {
       "output_type": "stream",
       "stream": "stdout",
       "text": [
        "\r",
        "182 \r",
        "183 "
       ]
      },
      {
       "output_type": "stream",
       "stream": "stdout",
       "text": [
        "\r",
        "184 \r",
        "185 "
       ]
      },
      {
       "output_type": "stream",
       "stream": "stdout",
       "text": [
        "\r",
        "186 \r",
        "187 "
       ]
      },
      {
       "output_type": "stream",
       "stream": "stdout",
       "text": [
        "\r",
        "188 \r",
        "189 "
       ]
      },
      {
       "output_type": "stream",
       "stream": "stdout",
       "text": [
        "\r",
        "190 \r",
        "191 "
       ]
      },
      {
       "output_type": "stream",
       "stream": "stdout",
       "text": [
        "\r",
        "192 \r",
        "193 "
       ]
      },
      {
       "output_type": "stream",
       "stream": "stdout",
       "text": [
        "\r",
        "194 "
       ]
      },
      {
       "output_type": "stream",
       "stream": "stdout",
       "text": [
        "\r",
        "195 \r",
        "196 "
       ]
      },
      {
       "output_type": "stream",
       "stream": "stdout",
       "text": [
        "\r",
        "197 \r",
        "198 "
       ]
      },
      {
       "output_type": "stream",
       "stream": "stdout",
       "text": [
        "\r",
        "199 \r",
        "200 "
       ]
      },
      {
       "output_type": "stream",
       "stream": "stdout",
       "text": [
        "\r",
        "201 \r",
        "202 "
       ]
      },
      {
       "output_type": "stream",
       "stream": "stdout",
       "text": [
        "\r",
        "203 \r"
       ]
      },
      {
       "output_type": "stream",
       "stream": "stdout",
       "text": [
        "204 \r",
        "205 "
       ]
      },
      {
       "output_type": "stream",
       "stream": "stdout",
       "text": [
        "\r",
        "206 \r",
        "207 "
       ]
      },
      {
       "output_type": "stream",
       "stream": "stdout",
       "text": [
        "\r",
        "208 "
       ]
      },
      {
       "output_type": "stream",
       "stream": "stdout",
       "text": [
        "\r",
        "209 "
       ]
      },
      {
       "output_type": "stream",
       "stream": "stdout",
       "text": [
        "\r",
        "210 "
       ]
      },
      {
       "output_type": "stream",
       "stream": "stdout",
       "text": [
        "\r",
        "211 \r",
        "212 "
       ]
      },
      {
       "output_type": "stream",
       "stream": "stdout",
       "text": [
        "\r",
        "213 "
       ]
      },
      {
       "output_type": "stream",
       "stream": "stdout",
       "text": [
        "\r",
        "214 "
       ]
      },
      {
       "output_type": "stream",
       "stream": "stdout",
       "text": [
        "\r",
        "215 "
       ]
      },
      {
       "output_type": "stream",
       "stream": "stdout",
       "text": [
        "\r",
        "216 "
       ]
      },
      {
       "output_type": "stream",
       "stream": "stdout",
       "text": [
        "\r",
        "217 "
       ]
      },
      {
       "output_type": "stream",
       "stream": "stdout",
       "text": [
        "\r",
        "218 "
       ]
      },
      {
       "output_type": "stream",
       "stream": "stdout",
       "text": [
        "\r",
        "219 "
       ]
      },
      {
       "output_type": "stream",
       "stream": "stdout",
       "text": [
        "\r",
        "220 "
       ]
      },
      {
       "output_type": "stream",
       "stream": "stdout",
       "text": [
        "\r",
        "221 "
       ]
      },
      {
       "output_type": "stream",
       "stream": "stdout",
       "text": [
        "\r",
        "222 "
       ]
      },
      {
       "output_type": "stream",
       "stream": "stdout",
       "text": [
        "\r",
        "223 "
       ]
      },
      {
       "output_type": "stream",
       "stream": "stdout",
       "text": [
        "\r",
        "224 "
       ]
      },
      {
       "output_type": "stream",
       "stream": "stdout",
       "text": [
        "\r",
        "225 "
       ]
      },
      {
       "output_type": "stream",
       "stream": "stdout",
       "text": [
        "\r",
        "226 "
       ]
      },
      {
       "output_type": "stream",
       "stream": "stdout",
       "text": [
        "\r",
        "227 "
       ]
      },
      {
       "output_type": "stream",
       "stream": "stdout",
       "text": [
        "\r",
        "228 "
       ]
      },
      {
       "output_type": "stream",
       "stream": "stdout",
       "text": [
        "\r",
        "229 "
       ]
      },
      {
       "output_type": "stream",
       "stream": "stdout",
       "text": [
        "\r",
        "230 "
       ]
      },
      {
       "output_type": "stream",
       "stream": "stdout",
       "text": [
        "\r",
        "231 "
       ]
      },
      {
       "output_type": "stream",
       "stream": "stdout",
       "text": [
        "\r",
        "232 "
       ]
      },
      {
       "output_type": "stream",
       "stream": "stdout",
       "text": [
        "\r",
        "233 "
       ]
      },
      {
       "output_type": "stream",
       "stream": "stdout",
       "text": [
        "\r",
        "234 "
       ]
      },
      {
       "output_type": "stream",
       "stream": "stdout",
       "text": [
        "\r",
        "235 "
       ]
      },
      {
       "output_type": "stream",
       "stream": "stdout",
       "text": [
        "\r",
        "236 "
       ]
      },
      {
       "output_type": "stream",
       "stream": "stdout",
       "text": [
        "\r",
        "237 "
       ]
      },
      {
       "output_type": "stream",
       "stream": "stdout",
       "text": [
        "\r",
        "238 "
       ]
      },
      {
       "output_type": "stream",
       "stream": "stdout",
       "text": [
        "\r",
        "239 "
       ]
      },
      {
       "output_type": "stream",
       "stream": "stdout",
       "text": [
        "\r",
        "240 "
       ]
      },
      {
       "output_type": "stream",
       "stream": "stdout",
       "text": [
        "\r",
        "241 "
       ]
      },
      {
       "output_type": "stream",
       "stream": "stdout",
       "text": [
        "\r",
        "242 "
       ]
      },
      {
       "output_type": "stream",
       "stream": "stdout",
       "text": [
        "\r",
        "243 "
       ]
      },
      {
       "output_type": "stream",
       "stream": "stdout",
       "text": [
        "\r",
        "244 "
       ]
      },
      {
       "output_type": "stream",
       "stream": "stdout",
       "text": [
        "\r",
        "245 "
       ]
      },
      {
       "output_type": "stream",
       "stream": "stdout",
       "text": [
        "\r",
        "246 "
       ]
      },
      {
       "output_type": "stream",
       "stream": "stdout",
       "text": [
        "\r",
        "247 "
       ]
      },
      {
       "output_type": "stream",
       "stream": "stdout",
       "text": [
        "\r",
        "248 "
       ]
      },
      {
       "output_type": "stream",
       "stream": "stdout",
       "text": [
        "\r",
        "249 "
       ]
      },
      {
       "output_type": "stream",
       "stream": "stdout",
       "text": [
        "\r",
        "250 "
       ]
      },
      {
       "output_type": "stream",
       "stream": "stdout",
       "text": [
        "\r",
        "251 "
       ]
      },
      {
       "output_type": "stream",
       "stream": "stdout",
       "text": [
        "\r",
        "252 "
       ]
      },
      {
       "output_type": "stream",
       "stream": "stdout",
       "text": [
        "\r",
        "253 "
       ]
      },
      {
       "output_type": "stream",
       "stream": "stdout",
       "text": [
        "\r",
        "254 "
       ]
      },
      {
       "output_type": "stream",
       "stream": "stdout",
       "text": [
        "\r",
        "255 "
       ]
      },
      {
       "output_type": "stream",
       "stream": "stdout",
       "text": [
        "\r",
        "256 "
       ]
      },
      {
       "output_type": "stream",
       "stream": "stdout",
       "text": [
        "\r",
        "257 "
       ]
      },
      {
       "output_type": "stream",
       "stream": "stdout",
       "text": [
        "\r",
        "258 "
       ]
      },
      {
       "output_type": "stream",
       "stream": "stdout",
       "text": [
        "\r",
        "259 "
       ]
      },
      {
       "output_type": "stream",
       "stream": "stdout",
       "text": [
        "\r",
        "260 "
       ]
      },
      {
       "output_type": "stream",
       "stream": "stdout",
       "text": [
        "\r",
        "261 "
       ]
      },
      {
       "output_type": "stream",
       "stream": "stdout",
       "text": [
        "\r",
        "262 "
       ]
      },
      {
       "output_type": "stream",
       "stream": "stdout",
       "text": [
        "\r",
        "263 "
       ]
      },
      {
       "output_type": "stream",
       "stream": "stdout",
       "text": [
        "\r",
        "264 "
       ]
      },
      {
       "output_type": "stream",
       "stream": "stdout",
       "text": [
        "\r",
        "265 "
       ]
      },
      {
       "output_type": "stream",
       "stream": "stdout",
       "text": [
        "\r",
        "266 "
       ]
      },
      {
       "output_type": "stream",
       "stream": "stdout",
       "text": [
        "\r",
        "267 "
       ]
      },
      {
       "output_type": "stream",
       "stream": "stdout",
       "text": [
        "\r",
        "268 "
       ]
      },
      {
       "output_type": "stream",
       "stream": "stdout",
       "text": [
        "\r",
        "269 "
       ]
      },
      {
       "output_type": "stream",
       "stream": "stdout",
       "text": [
        "\r",
        "270 "
       ]
      },
      {
       "output_type": "stream",
       "stream": "stdout",
       "text": [
        "\r",
        "271 "
       ]
      },
      {
       "output_type": "stream",
       "stream": "stdout",
       "text": [
        "\r",
        "272 "
       ]
      },
      {
       "output_type": "stream",
       "stream": "stdout",
       "text": [
        "\r",
        "273 "
       ]
      },
      {
       "output_type": "stream",
       "stream": "stdout",
       "text": [
        "\r",
        "274 "
       ]
      },
      {
       "output_type": "stream",
       "stream": "stdout",
       "text": [
        "\r",
        "275 "
       ]
      },
      {
       "output_type": "stream",
       "stream": "stdout",
       "text": [
        "\r",
        "276 "
       ]
      },
      {
       "output_type": "stream",
       "stream": "stdout",
       "text": [
        "\r",
        "277 "
       ]
      },
      {
       "output_type": "stream",
       "stream": "stdout",
       "text": [
        "\r",
        "278 "
       ]
      },
      {
       "output_type": "stream",
       "stream": "stdout",
       "text": [
        "\r",
        "279 "
       ]
      },
      {
       "output_type": "stream",
       "stream": "stdout",
       "text": [
        "\r",
        "280 "
       ]
      },
      {
       "output_type": "stream",
       "stream": "stdout",
       "text": [
        "\r",
        "281 "
       ]
      },
      {
       "output_type": "stream",
       "stream": "stdout",
       "text": [
        "\r",
        "282 "
       ]
      },
      {
       "output_type": "stream",
       "stream": "stdout",
       "text": [
        "\r",
        "283 "
       ]
      },
      {
       "output_type": "stream",
       "stream": "stdout",
       "text": [
        "\r",
        "284 "
       ]
      },
      {
       "output_type": "stream",
       "stream": "stdout",
       "text": [
        "\r",
        "285 "
       ]
      },
      {
       "output_type": "stream",
       "stream": "stdout",
       "text": [
        "\r",
        "286 "
       ]
      },
      {
       "output_type": "stream",
       "stream": "stdout",
       "text": [
        "\r",
        "287 "
       ]
      },
      {
       "output_type": "stream",
       "stream": "stdout",
       "text": [
        "\r",
        "288 "
       ]
      },
      {
       "output_type": "stream",
       "stream": "stdout",
       "text": [
        "\r",
        "289 "
       ]
      },
      {
       "output_type": "stream",
       "stream": "stdout",
       "text": [
        "\r",
        "290 "
       ]
      },
      {
       "output_type": "stream",
       "stream": "stdout",
       "text": [
        "\r",
        "291 "
       ]
      },
      {
       "output_type": "stream",
       "stream": "stdout",
       "text": [
        "\r",
        "292 "
       ]
      },
      {
       "output_type": "stream",
       "stream": "stdout",
       "text": [
        "\r",
        "293 "
       ]
      },
      {
       "output_type": "stream",
       "stream": "stdout",
       "text": [
        "\r",
        "294 "
       ]
      },
      {
       "output_type": "stream",
       "stream": "stdout",
       "text": [
        "\r",
        "295 "
       ]
      },
      {
       "output_type": "stream",
       "stream": "stdout",
       "text": [
        "\r",
        "296 "
       ]
      },
      {
       "output_type": "stream",
       "stream": "stdout",
       "text": [
        "\r",
        "297 "
       ]
      },
      {
       "output_type": "stream",
       "stream": "stdout",
       "text": [
        "\r",
        "298 "
       ]
      },
      {
       "output_type": "stream",
       "stream": "stdout",
       "text": [
        "\r",
        "299 "
       ]
      },
      {
       "output_type": "stream",
       "stream": "stdout",
       "text": [
        "\r",
        "300 "
       ]
      },
      {
       "output_type": "stream",
       "stream": "stdout",
       "text": [
        "\r",
        "301 "
       ]
      },
      {
       "output_type": "stream",
       "stream": "stdout",
       "text": [
        "\r",
        "302 "
       ]
      },
      {
       "output_type": "stream",
       "stream": "stdout",
       "text": [
        "\r",
        "303 "
       ]
      },
      {
       "output_type": "stream",
       "stream": "stdout",
       "text": [
        "\r",
        "304 "
       ]
      },
      {
       "output_type": "stream",
       "stream": "stdout",
       "text": [
        "\r",
        "305 "
       ]
      },
      {
       "output_type": "stream",
       "stream": "stdout",
       "text": [
        "\r",
        "306 "
       ]
      },
      {
       "output_type": "stream",
       "stream": "stdout",
       "text": [
        "\r",
        "307 "
       ]
      },
      {
       "output_type": "stream",
       "stream": "stdout",
       "text": [
        "\r",
        "308 "
       ]
      },
      {
       "output_type": "stream",
       "stream": "stdout",
       "text": [
        "\r",
        "309 "
       ]
      },
      {
       "output_type": "stream",
       "stream": "stdout",
       "text": [
        "\r",
        "310 "
       ]
      },
      {
       "output_type": "stream",
       "stream": "stdout",
       "text": [
        "\r",
        "311 "
       ]
      },
      {
       "output_type": "stream",
       "stream": "stdout",
       "text": [
        "\r",
        "312 "
       ]
      },
      {
       "output_type": "stream",
       "stream": "stdout",
       "text": [
        "\r",
        "313 "
       ]
      },
      {
       "output_type": "stream",
       "stream": "stdout",
       "text": [
        "\r",
        "314 "
       ]
      },
      {
       "output_type": "stream",
       "stream": "stdout",
       "text": [
        "\r",
        "315 "
       ]
      },
      {
       "output_type": "stream",
       "stream": "stdout",
       "text": [
        "\r",
        "316 "
       ]
      },
      {
       "output_type": "stream",
       "stream": "stdout",
       "text": [
        "\r",
        "317 "
       ]
      },
      {
       "output_type": "stream",
       "stream": "stdout",
       "text": [
        "\r",
        "318 "
       ]
      },
      {
       "output_type": "stream",
       "stream": "stdout",
       "text": [
        "\r",
        "319 "
       ]
      },
      {
       "output_type": "stream",
       "stream": "stdout",
       "text": [
        "\r",
        "320 "
       ]
      },
      {
       "output_type": "stream",
       "stream": "stdout",
       "text": [
        "\r",
        "321 "
       ]
      },
      {
       "output_type": "stream",
       "stream": "stdout",
       "text": [
        "\r",
        "322 "
       ]
      },
      {
       "output_type": "stream",
       "stream": "stdout",
       "text": [
        "\r",
        "323 "
       ]
      },
      {
       "output_type": "stream",
       "stream": "stdout",
       "text": [
        "\r",
        "324 "
       ]
      },
      {
       "output_type": "stream",
       "stream": "stdout",
       "text": [
        "\r",
        "325 "
       ]
      },
      {
       "output_type": "stream",
       "stream": "stdout",
       "text": [
        "\r",
        "326 "
       ]
      },
      {
       "output_type": "stream",
       "stream": "stdout",
       "text": [
        "\r",
        "327 "
       ]
      },
      {
       "output_type": "stream",
       "stream": "stdout",
       "text": [
        "\r",
        "328 "
       ]
      },
      {
       "output_type": "stream",
       "stream": "stdout",
       "text": [
        "\r",
        "329 "
       ]
      },
      {
       "output_type": "stream",
       "stream": "stdout",
       "text": [
        "\r",
        "330 "
       ]
      },
      {
       "output_type": "stream",
       "stream": "stdout",
       "text": [
        "\r",
        "331 "
       ]
      },
      {
       "output_type": "stream",
       "stream": "stdout",
       "text": [
        "\r",
        "332 "
       ]
      },
      {
       "output_type": "stream",
       "stream": "stdout",
       "text": [
        "\r",
        "333 "
       ]
      },
      {
       "output_type": "stream",
       "stream": "stdout",
       "text": [
        "\r",
        "334 "
       ]
      },
      {
       "output_type": "stream",
       "stream": "stdout",
       "text": [
        "\r",
        "335 "
       ]
      },
      {
       "output_type": "stream",
       "stream": "stdout",
       "text": [
        "\r",
        "336 "
       ]
      },
      {
       "output_type": "stream",
       "stream": "stdout",
       "text": [
        "\r",
        "337 "
       ]
      },
      {
       "output_type": "stream",
       "stream": "stdout",
       "text": [
        "\r",
        "338 "
       ]
      },
      {
       "output_type": "stream",
       "stream": "stdout",
       "text": [
        "\r",
        "339 "
       ]
      },
      {
       "output_type": "stream",
       "stream": "stdout",
       "text": [
        "\r",
        "340 "
       ]
      },
      {
       "output_type": "stream",
       "stream": "stdout",
       "text": [
        "\r",
        "341 "
       ]
      },
      {
       "output_type": "stream",
       "stream": "stdout",
       "text": [
        "\r",
        "342 "
       ]
      },
      {
       "output_type": "stream",
       "stream": "stdout",
       "text": [
        "\r",
        "343 "
       ]
      },
      {
       "output_type": "stream",
       "stream": "stdout",
       "text": [
        "\r",
        "344 "
       ]
      },
      {
       "output_type": "stream",
       "stream": "stdout",
       "text": [
        "\r",
        "345 "
       ]
      },
      {
       "output_type": "stream",
       "stream": "stdout",
       "text": [
        "\r",
        "346 "
       ]
      },
      {
       "output_type": "stream",
       "stream": "stdout",
       "text": [
        "\r",
        "347 "
       ]
      },
      {
       "output_type": "stream",
       "stream": "stdout",
       "text": [
        "\r",
        "348 "
       ]
      },
      {
       "output_type": "stream",
       "stream": "stdout",
       "text": [
        "\r",
        "349 "
       ]
      },
      {
       "output_type": "stream",
       "stream": "stdout",
       "text": [
        "\r",
        "350 "
       ]
      },
      {
       "output_type": "stream",
       "stream": "stdout",
       "text": [
        "\r",
        "351 "
       ]
      },
      {
       "output_type": "stream",
       "stream": "stdout",
       "text": [
        "\r",
        "352 "
       ]
      },
      {
       "output_type": "stream",
       "stream": "stdout",
       "text": [
        "\r",
        "353 "
       ]
      },
      {
       "output_type": "stream",
       "stream": "stdout",
       "text": [
        "\r",
        "354 "
       ]
      },
      {
       "output_type": "stream",
       "stream": "stdout",
       "text": [
        "\r",
        "355 "
       ]
      },
      {
       "output_type": "stream",
       "stream": "stdout",
       "text": [
        "\r",
        "356 "
       ]
      },
      {
       "output_type": "stream",
       "stream": "stdout",
       "text": [
        "\r",
        "357 "
       ]
      },
      {
       "output_type": "stream",
       "stream": "stdout",
       "text": [
        "\r",
        "358 "
       ]
      },
      {
       "output_type": "stream",
       "stream": "stdout",
       "text": [
        "\r",
        "359 "
       ]
      },
      {
       "output_type": "stream",
       "stream": "stdout",
       "text": [
        "\r",
        "360 "
       ]
      },
      {
       "output_type": "stream",
       "stream": "stdout",
       "text": [
        "\r",
        "361 "
       ]
      },
      {
       "output_type": "stream",
       "stream": "stdout",
       "text": [
        "\r",
        "362 "
       ]
      },
      {
       "output_type": "stream",
       "stream": "stdout",
       "text": [
        "\r",
        "363 "
       ]
      },
      {
       "output_type": "stream",
       "stream": "stdout",
       "text": [
        "\r",
        "364 "
       ]
      },
      {
       "output_type": "stream",
       "stream": "stdout",
       "text": [
        "\r",
        "365 "
       ]
      },
      {
       "output_type": "stream",
       "stream": "stdout",
       "text": [
        "\r",
        "366 "
       ]
      },
      {
       "output_type": "stream",
       "stream": "stdout",
       "text": [
        "\r",
        "367 "
       ]
      },
      {
       "output_type": "stream",
       "stream": "stdout",
       "text": [
        "\r",
        "368 "
       ]
      },
      {
       "output_type": "stream",
       "stream": "stdout",
       "text": [
        "\r",
        "369 "
       ]
      },
      {
       "output_type": "stream",
       "stream": "stdout",
       "text": [
        "\r",
        "370 "
       ]
      },
      {
       "output_type": "stream",
       "stream": "stdout",
       "text": [
        "\r",
        "371 "
       ]
      },
      {
       "output_type": "stream",
       "stream": "stdout",
       "text": [
        "\r",
        "372 "
       ]
      },
      {
       "output_type": "stream",
       "stream": "stdout",
       "text": [
        "\r",
        "373 "
       ]
      },
      {
       "output_type": "stream",
       "stream": "stdout",
       "text": [
        "\r",
        "374 "
       ]
      },
      {
       "output_type": "stream",
       "stream": "stdout",
       "text": [
        "\r",
        "375 "
       ]
      },
      {
       "output_type": "stream",
       "stream": "stdout",
       "text": [
        "\r",
        "376 "
       ]
      },
      {
       "output_type": "stream",
       "stream": "stdout",
       "text": [
        "\r",
        "377 "
       ]
      },
      {
       "output_type": "stream",
       "stream": "stdout",
       "text": [
        "\r",
        "378 "
       ]
      },
      {
       "output_type": "stream",
       "stream": "stdout",
       "text": [
        "\r",
        "379 "
       ]
      },
      {
       "output_type": "stream",
       "stream": "stdout",
       "text": [
        "\r",
        "380 "
       ]
      },
      {
       "output_type": "stream",
       "stream": "stdout",
       "text": [
        "\r",
        "381 "
       ]
      },
      {
       "output_type": "stream",
       "stream": "stdout",
       "text": [
        "\r",
        "382 "
       ]
      },
      {
       "output_type": "stream",
       "stream": "stdout",
       "text": [
        "\r",
        "383 "
       ]
      },
      {
       "output_type": "stream",
       "stream": "stdout",
       "text": [
        "\r",
        "384 "
       ]
      },
      {
       "output_type": "stream",
       "stream": "stdout",
       "text": [
        "\r",
        "385 "
       ]
      },
      {
       "output_type": "stream",
       "stream": "stdout",
       "text": [
        "\r",
        "386 "
       ]
      },
      {
       "output_type": "stream",
       "stream": "stdout",
       "text": [
        "\r",
        "387 "
       ]
      },
      {
       "output_type": "stream",
       "stream": "stdout",
       "text": [
        "\r",
        "388 "
       ]
      },
      {
       "output_type": "stream",
       "stream": "stdout",
       "text": [
        "\r",
        "389 "
       ]
      },
      {
       "output_type": "stream",
       "stream": "stdout",
       "text": [
        "\r",
        "390 "
       ]
      },
      {
       "output_type": "stream",
       "stream": "stdout",
       "text": [
        "\r",
        "391 "
       ]
      },
      {
       "output_type": "stream",
       "stream": "stdout",
       "text": [
        "\r",
        "392 "
       ]
      },
      {
       "output_type": "stream",
       "stream": "stdout",
       "text": [
        "\r",
        "393 "
       ]
      },
      {
       "output_type": "stream",
       "stream": "stdout",
       "text": [
        "\r",
        "394 "
       ]
      },
      {
       "output_type": "stream",
       "stream": "stdout",
       "text": [
        "\r",
        "395 "
       ]
      },
      {
       "output_type": "stream",
       "stream": "stdout",
       "text": [
        "\r",
        "396 "
       ]
      },
      {
       "output_type": "stream",
       "stream": "stdout",
       "text": [
        "\r",
        "397 "
       ]
      },
      {
       "output_type": "stream",
       "stream": "stdout",
       "text": [
        "\r",
        "398 "
       ]
      },
      {
       "output_type": "stream",
       "stream": "stdout",
       "text": [
        "\r",
        "399 "
       ]
      },
      {
       "output_type": "stream",
       "stream": "stdout",
       "text": [
        "\r",
        "400 "
       ]
      },
      {
       "output_type": "stream",
       "stream": "stdout",
       "text": [
        "\r",
        "401 "
       ]
      },
      {
       "output_type": "stream",
       "stream": "stdout",
       "text": [
        "\r",
        "402 "
       ]
      },
      {
       "output_type": "stream",
       "stream": "stdout",
       "text": [
        "\r",
        "403 "
       ]
      },
      {
       "output_type": "stream",
       "stream": "stdout",
       "text": [
        "\r",
        "404 "
       ]
      },
      {
       "output_type": "stream",
       "stream": "stdout",
       "text": [
        "\r",
        "405 "
       ]
      },
      {
       "output_type": "stream",
       "stream": "stdout",
       "text": [
        "\r",
        "406 "
       ]
      },
      {
       "output_type": "stream",
       "stream": "stdout",
       "text": [
        "\r",
        "407 "
       ]
      },
      {
       "output_type": "stream",
       "stream": "stdout",
       "text": [
        "\r",
        "408 "
       ]
      },
      {
       "output_type": "stream",
       "stream": "stdout",
       "text": [
        "\r",
        "409 "
       ]
      },
      {
       "output_type": "stream",
       "stream": "stdout",
       "text": [
        "\r",
        "410 "
       ]
      },
      {
       "output_type": "stream",
       "stream": "stdout",
       "text": [
        "\r",
        "411 "
       ]
      },
      {
       "output_type": "stream",
       "stream": "stdout",
       "text": [
        "\r",
        "412 "
       ]
      },
      {
       "output_type": "stream",
       "stream": "stdout",
       "text": [
        "\r",
        "413 "
       ]
      },
      {
       "output_type": "stream",
       "stream": "stdout",
       "text": [
        "\r",
        "414 "
       ]
      },
      {
       "output_type": "stream",
       "stream": "stdout",
       "text": [
        "\r",
        "415 "
       ]
      },
      {
       "output_type": "stream",
       "stream": "stdout",
       "text": [
        "\r",
        "416 "
       ]
      },
      {
       "output_type": "stream",
       "stream": "stdout",
       "text": [
        "\r",
        "417 "
       ]
      },
      {
       "output_type": "stream",
       "stream": "stdout",
       "text": [
        "\r",
        "418 "
       ]
      },
      {
       "output_type": "stream",
       "stream": "stdout",
       "text": [
        "\r",
        "419 "
       ]
      },
      {
       "output_type": "stream",
       "stream": "stdout",
       "text": [
        "\r",
        "420 "
       ]
      },
      {
       "output_type": "stream",
       "stream": "stdout",
       "text": [
        "\r",
        "421 "
       ]
      },
      {
       "output_type": "stream",
       "stream": "stdout",
       "text": [
        "\r",
        "422 "
       ]
      },
      {
       "output_type": "stream",
       "stream": "stdout",
       "text": [
        "\r",
        "423 "
       ]
      },
      {
       "output_type": "stream",
       "stream": "stdout",
       "text": [
        "\r",
        "424 "
       ]
      },
      {
       "output_type": "stream",
       "stream": "stdout",
       "text": [
        "\r",
        "425 "
       ]
      },
      {
       "output_type": "stream",
       "stream": "stdout",
       "text": [
        "\r",
        "426 "
       ]
      },
      {
       "output_type": "stream",
       "stream": "stdout",
       "text": [
        "\r",
        "427 "
       ]
      },
      {
       "output_type": "stream",
       "stream": "stdout",
       "text": [
        "\r",
        "428 "
       ]
      },
      {
       "output_type": "stream",
       "stream": "stdout",
       "text": [
        "\r",
        "429 "
       ]
      },
      {
       "output_type": "stream",
       "stream": "stdout",
       "text": [
        "\r",
        "430 "
       ]
      },
      {
       "output_type": "stream",
       "stream": "stdout",
       "text": [
        "\r",
        "431 "
       ]
      },
      {
       "output_type": "stream",
       "stream": "stdout",
       "text": [
        "\r",
        "432 "
       ]
      },
      {
       "output_type": "stream",
       "stream": "stdout",
       "text": [
        "\r",
        "433 "
       ]
      },
      {
       "output_type": "stream",
       "stream": "stdout",
       "text": [
        "\r",
        "434 "
       ]
      },
      {
       "output_type": "stream",
       "stream": "stdout",
       "text": [
        "\r",
        "435 "
       ]
      },
      {
       "output_type": "stream",
       "stream": "stdout",
       "text": [
        "\r",
        "436 "
       ]
      },
      {
       "output_type": "stream",
       "stream": "stdout",
       "text": [
        "\r",
        "437 "
       ]
      },
      {
       "output_type": "stream",
       "stream": "stdout",
       "text": [
        "\r",
        "438 "
       ]
      },
      {
       "output_type": "stream",
       "stream": "stdout",
       "text": [
        "\r",
        "439 "
       ]
      },
      {
       "output_type": "stream",
       "stream": "stdout",
       "text": [
        "\r",
        "440 "
       ]
      },
      {
       "output_type": "stream",
       "stream": "stdout",
       "text": [
        "\r",
        "441 "
       ]
      },
      {
       "output_type": "stream",
       "stream": "stdout",
       "text": [
        "\r",
        "442 "
       ]
      },
      {
       "output_type": "stream",
       "stream": "stdout",
       "text": [
        "\r",
        "443 "
       ]
      },
      {
       "output_type": "stream",
       "stream": "stdout",
       "text": [
        "\r",
        "444 "
       ]
      },
      {
       "output_type": "stream",
       "stream": "stdout",
       "text": [
        "\r",
        "445 "
       ]
      },
      {
       "output_type": "stream",
       "stream": "stdout",
       "text": [
        "\r",
        "446 "
       ]
      },
      {
       "output_type": "stream",
       "stream": "stdout",
       "text": [
        "\r",
        "447 "
       ]
      },
      {
       "output_type": "stream",
       "stream": "stdout",
       "text": [
        "\r",
        "448 "
       ]
      },
      {
       "output_type": "stream",
       "stream": "stdout",
       "text": [
        "\r",
        "449 "
       ]
      },
      {
       "output_type": "stream",
       "stream": "stdout",
       "text": [
        "\r",
        "450 "
       ]
      },
      {
       "output_type": "stream",
       "stream": "stdout",
       "text": [
        "\r",
        "451 "
       ]
      },
      {
       "output_type": "stream",
       "stream": "stdout",
       "text": [
        "\r",
        "452 "
       ]
      },
      {
       "output_type": "stream",
       "stream": "stdout",
       "text": [
        "\r",
        "453 "
       ]
      },
      {
       "output_type": "stream",
       "stream": "stdout",
       "text": [
        "\r",
        "454 "
       ]
      },
      {
       "output_type": "stream",
       "stream": "stdout",
       "text": [
        "\r",
        "455 "
       ]
      },
      {
       "output_type": "stream",
       "stream": "stdout",
       "text": [
        "\r",
        "456 "
       ]
      },
      {
       "output_type": "stream",
       "stream": "stdout",
       "text": [
        "\r",
        "457 "
       ]
      },
      {
       "output_type": "stream",
       "stream": "stdout",
       "text": [
        "\r",
        "458 "
       ]
      },
      {
       "output_type": "stream",
       "stream": "stdout",
       "text": [
        "\r",
        "459 "
       ]
      },
      {
       "output_type": "stream",
       "stream": "stdout",
       "text": [
        "\r",
        "460 "
       ]
      },
      {
       "output_type": "stream",
       "stream": "stdout",
       "text": [
        "\r",
        "461 "
       ]
      },
      {
       "output_type": "stream",
       "stream": "stdout",
       "text": [
        "\r",
        "462 "
       ]
      },
      {
       "output_type": "stream",
       "stream": "stdout",
       "text": [
        "\r",
        "463 "
       ]
      },
      {
       "output_type": "stream",
       "stream": "stdout",
       "text": [
        "\r",
        "464 "
       ]
      },
      {
       "output_type": "stream",
       "stream": "stdout",
       "text": [
        "\r",
        "465 "
       ]
      },
      {
       "output_type": "stream",
       "stream": "stdout",
       "text": [
        "\r",
        "466 "
       ]
      },
      {
       "output_type": "stream",
       "stream": "stdout",
       "text": [
        "\r",
        "467 "
       ]
      },
      {
       "output_type": "stream",
       "stream": "stdout",
       "text": [
        "\r",
        "468 "
       ]
      },
      {
       "output_type": "stream",
       "stream": "stdout",
       "text": [
        "\r",
        "469 "
       ]
      },
      {
       "output_type": "stream",
       "stream": "stdout",
       "text": [
        "\r",
        "470 "
       ]
      },
      {
       "output_type": "stream",
       "stream": "stdout",
       "text": [
        "\r",
        "471 "
       ]
      },
      {
       "output_type": "stream",
       "stream": "stdout",
       "text": [
        "\r",
        "472 "
       ]
      },
      {
       "output_type": "stream",
       "stream": "stdout",
       "text": [
        "\r",
        "473 "
       ]
      },
      {
       "output_type": "stream",
       "stream": "stdout",
       "text": [
        "\r",
        "474 "
       ]
      },
      {
       "output_type": "stream",
       "stream": "stdout",
       "text": [
        "\r",
        "475 "
       ]
      },
      {
       "output_type": "stream",
       "stream": "stdout",
       "text": [
        "\r",
        "476 "
       ]
      },
      {
       "output_type": "stream",
       "stream": "stdout",
       "text": [
        "\r",
        "477 "
       ]
      },
      {
       "output_type": "stream",
       "stream": "stdout",
       "text": [
        "\r",
        "478 "
       ]
      },
      {
       "output_type": "stream",
       "stream": "stdout",
       "text": [
        "\r",
        "479 "
       ]
      },
      {
       "output_type": "stream",
       "stream": "stdout",
       "text": [
        "\r",
        "480 "
       ]
      },
      {
       "output_type": "stream",
       "stream": "stdout",
       "text": [
        "\r",
        "481 "
       ]
      },
      {
       "output_type": "stream",
       "stream": "stdout",
       "text": [
        "\r",
        "482 "
       ]
      },
      {
       "output_type": "stream",
       "stream": "stdout",
       "text": [
        "\r",
        "483 "
       ]
      },
      {
       "output_type": "stream",
       "stream": "stdout",
       "text": [
        "\r",
        "484 "
       ]
      },
      {
       "output_type": "stream",
       "stream": "stdout",
       "text": [
        "\r",
        "485 "
       ]
      },
      {
       "output_type": "stream",
       "stream": "stdout",
       "text": [
        "\r",
        "486 "
       ]
      },
      {
       "output_type": "stream",
       "stream": "stdout",
       "text": [
        "\r",
        "487 "
       ]
      },
      {
       "output_type": "stream",
       "stream": "stdout",
       "text": [
        "\r",
        "488 "
       ]
      },
      {
       "output_type": "stream",
       "stream": "stdout",
       "text": [
        "\r",
        "489 "
       ]
      },
      {
       "output_type": "stream",
       "stream": "stdout",
       "text": [
        "\r",
        "490 "
       ]
      },
      {
       "output_type": "stream",
       "stream": "stdout",
       "text": [
        "\r",
        "491 "
       ]
      },
      {
       "output_type": "stream",
       "stream": "stdout",
       "text": [
        "\r",
        "492 "
       ]
      },
      {
       "output_type": "stream",
       "stream": "stdout",
       "text": [
        "\r",
        "493 "
       ]
      },
      {
       "output_type": "stream",
       "stream": "stdout",
       "text": [
        "\r",
        "494 "
       ]
      },
      {
       "output_type": "stream",
       "stream": "stdout",
       "text": [
        "\r",
        "495 "
       ]
      },
      {
       "output_type": "stream",
       "stream": "stdout",
       "text": [
        "\r",
        "496 "
       ]
      },
      {
       "output_type": "stream",
       "stream": "stdout",
       "text": [
        "\r",
        "497 "
       ]
      },
      {
       "output_type": "stream",
       "stream": "stdout",
       "text": [
        "\r",
        "498 "
       ]
      },
      {
       "output_type": "stream",
       "stream": "stdout",
       "text": [
        "\r",
        "499 "
       ]
      },
      {
       "output_type": "stream",
       "stream": "stdout",
       "text": [
        "\r",
        "500 "
       ]
      },
      {
       "output_type": "stream",
       "stream": "stdout",
       "text": [
        "\r",
        "501 "
       ]
      },
      {
       "output_type": "stream",
       "stream": "stdout",
       "text": [
        "\r",
        "502 "
       ]
      },
      {
       "output_type": "stream",
       "stream": "stdout",
       "text": [
        "\r",
        "503\n"
       ]
      }
     ],
     "prompt_number": 19
    },
    {
     "cell_type": "code",
     "collapsed": false,
     "input": [
      "H=Distances.flatten()\n",
      "print shape(H)\n",
      "hist(H,bins=300);\n",
      "xlim([0,0.2])\n",
      "H"
     ],
     "language": "python",
     "metadata": {},
     "outputs": [
      {
       "output_type": "stream",
       "stream": "stdout",
       "text": [
        "(254016,)\n"
       ]
      },
      {
       "metadata": {},
       "output_type": "pyout",
       "prompt_number": 20,
       "text": [
        "array([-0.1       ,  0.03448247,  0.04862967, ...,  0.06556749,\n",
        "        0.07486454, -0.1       ])"
       ]
      },
      {
       "metadata": {},
       "output_type": "display_data",
       "png": "[encoded data removed]",
       "text": [
        "<matplotlib.figure.Figure at 0x110734bd0>"
       ]
      }
     ],
     "prompt_number": 20
    },
    {
     "cell_type": "code",
     "collapsed": false,
     "input": [
      "neighbors={}\n",
      "def add_edge(s,so):\n",
      "    if not s in neighbors.keys():\n",
      "        neighbors[s]=set([so])\n",
      "    else:\n",
      "        neighbors[s].add(so)\n",
      "for i in range(seg_shape[0]-1):\n",
      "    print '\\r',i,\n",
      "    for j in range(seg_shape[1]-1):\n",
      "        s=seg[i,j]\n",
      "        s1=seg[i+1,j]\n",
      "        s2=seg[i,j+1]\n",
      "        if s!=s1 | s!=s2:\n",
      "            if s!=s1:\n",
      "                so=s1\n",
      "            else:\n",
      "                so=s2\n",
      "            add_edge(s,so)\n",
      "            add_edge(so,s)    "
     ],
     "language": "python",
     "metadata": {},
     "outputs": [
      {
       "output_type": "stream",
       "stream": "stdout",
       "text": [
        "\r",
        "0 \r",
        "1 \r",
        "2 \r",
        "3 \r",
        "4 \r",
        "5 \r",
        "6 \r",
        "7 \r",
        "8 \r",
        "9 \r",
        "10 "
       ]
      },
      {
       "output_type": "stream",
       "stream": "stdout",
       "text": [
        "\r",
        "11 \r",
        "12 \r",
        "13 \r",
        "14 \r",
        "15 \r",
        "16 \r",
        "17 \r",
        "18 \r",
        "19 \r",
        "20 \r",
        "21 \r",
        "22 \r",
        "23 \r",
        "24 \r",
        "25 "
       ]
      },
      {
       "output_type": "stream",
       "stream": "stdout",
       "text": [
        "\r",
        "26 \r",
        "27 \r",
        "28 \r",
        "29 \r",
        "30 \r",
        "31 \r",
        "32 \r",
        "33 \r",
        "34 \r",
        "35 \r",
        "36 \r",
        "37 \r",
        "38 \r",
        "39 \r",
        "40 \r",
        "41 \r",
        "42 \r",
        "43 \r",
        "44 \r",
        "45 "
       ]
      },
      {
       "output_type": "stream",
       "stream": "stdout",
       "text": [
        "\r",
        "46 \r",
        "47 \r",
        "48 \r",
        "49 \r",
        "50 \r",
        "51 \r",
        "52 \r",
        "53 \r",
        "54 \r",
        "55 \r",
        "56 \r",
        "57 \r",
        "58 \r",
        "59 \r",
        "60 \r",
        "61 \r",
        "62 \r",
        "63 "
       ]
      },
      {
       "output_type": "stream",
       "stream": "stdout",
       "text": [
        "\r",
        "64 \r",
        "65 \r",
        "66 \r",
        "67 \r",
        "68 \r",
        "69 \r",
        "70 \r",
        "71 \r",
        "72 \r",
        "73 \r",
        "74 \r",
        "75 \r",
        "76 \r",
        "77 \r",
        "78 \r",
        "79 \r",
        "80 "
       ]
      },
      {
       "output_type": "stream",
       "stream": "stdout",
       "text": [
        "\r",
        "81 \r",
        "82 \r",
        "83 \r",
        "84 \r",
        "85 \r",
        "86 \r",
        "87 \r",
        "88 \r",
        "89 \r",
        "90 \r",
        "91 \r",
        "92 \r",
        "93 \r",
        "94 \r",
        "95 \r",
        "96 \r",
        "97 \r",
        "98 \r",
        "99 \r",
        "100 "
       ]
      },
      {
       "output_type": "stream",
       "stream": "stdout",
       "text": [
        "\r",
        "101 \r",
        "102 \r",
        "103 \r",
        "104 \r",
        "105 \r",
        "106 \r",
        "107 \r",
        "108 \r",
        "109 \r",
        "110 \r",
        "111 \r",
        "112 \r",
        "113 \r",
        "114 \r",
        "115 \r",
        "116 \r",
        "117 \r",
        "118 \r",
        "119 \r",
        "120 "
       ]
      },
      {
       "output_type": "stream",
       "stream": "stdout",
       "text": [
        "\r",
        "121 \r",
        "122 \r",
        "123 \r",
        "124 \r",
        "125 \r",
        "126 \r",
        "127 \r",
        "128 \r",
        "129 \r",
        "130 \r",
        "131 \r",
        "132 \r",
        "133 \r",
        "134 \r",
        "135 \r",
        "136 "
       ]
      },
      {
       "output_type": "stream",
       "stream": "stdout",
       "text": [
        "\r",
        "137 \r",
        "138 \r",
        "139 \r",
        "140 \r",
        "141 \r",
        "142 \r",
        "143 \r",
        "144 \r",
        "145 \r",
        "146 \r",
        "147 \r",
        "148 \r",
        "149 \r",
        "150 \r",
        "151 \r",
        "152 \r",
        "153 \r",
        "154 \r",
        "155 "
       ]
      },
      {
       "output_type": "stream",
       "stream": "stdout",
       "text": [
        "\r",
        "156 \r",
        "157 \r",
        "158 \r",
        "159 \r",
        "160 \r",
        "161 \r",
        "162 \r",
        "163 \r",
        "164 \r",
        "165 \r",
        "166 \r",
        "167 \r",
        "168 \r",
        "169 \r",
        "170 \r",
        "171 \r",
        "172 \r",
        "173 "
       ]
      },
      {
       "output_type": "stream",
       "stream": "stdout",
       "text": [
        "\r",
        "174 \r",
        "175 \r",
        "176 \r",
        "177 \r",
        "178 \r",
        "179 \r",
        "180 \r",
        "181 \r",
        "182 \r",
        "183 \r",
        "184 \r",
        "185 \r",
        "186 \r",
        "187 \r",
        "188 \r",
        "189 \r",
        "190 "
       ]
      },
      {
       "output_type": "stream",
       "stream": "stdout",
       "text": [
        "\r",
        "191 \r",
        "192 \r",
        "193 \r",
        "194 \r",
        "195 \r",
        "196 \r",
        "197 \r",
        "198 \r",
        "199 \r",
        "200 \r",
        "201 \r",
        "202 "
       ]
      },
      {
       "output_type": "stream",
       "stream": "stdout",
       "text": [
        "\r",
        "203 \r",
        "204 \r",
        "205 \r",
        "206 \r",
        "207 \r",
        "208 \r",
        "209 \r",
        "210 \r",
        "211 \r",
        "212 \r",
        "213 \r",
        "214 \r",
        "215 "
       ]
      },
      {
       "output_type": "stream",
       "stream": "stdout",
       "text": [
        "\r",
        "216 \r",
        "217 \r",
        "218 \r",
        "219 \r",
        "220 \r",
        "221 \r",
        "222 \r",
        "223 \r",
        "224 \r",
        "225 \r",
        "226 \r",
        "227 \r",
        "228 \r",
        "229 \r",
        "230 \r",
        "231 \r",
        "232 \r",
        "233 "
       ]
      },
      {
       "output_type": "stream",
       "stream": "stdout",
       "text": [
        "\r",
        "234 \r",
        "235 \r",
        "236 \r",
        "237 \r",
        "238 \r",
        "239 \r",
        "240 \r",
        "241 \r",
        "242 \r",
        "243 \r",
        "244 \r",
        "245 \r",
        "246 "
       ]
      },
      {
       "output_type": "stream",
       "stream": "stdout",
       "text": [
        "\r",
        "247 \r",
        "248 \r",
        "249 \r",
        "250 \r",
        "251 \r",
        "252 \r",
        "253 \r",
        "254 \r",
        "255 \r",
        "256 \r",
        "257 \r",
        "258 \r",
        "259 \r",
        "260 \r",
        "261 \r",
        "262 "
       ]
      },
      {
       "output_type": "stream",
       "stream": "stdout",
       "text": [
        "\r",
        "263 \r",
        "264 \r",
        "265 \r",
        "266 \r",
        "267 \r",
        "268 \r",
        "269 \r",
        "270 \r",
        "271 \r",
        "272 \r",
        "273 \r",
        "274 \r",
        "275 "
       ]
      },
      {
       "output_type": "stream",
       "stream": "stdout",
       "text": [
        "\r",
        "276 \r",
        "277 \r",
        "278 \r",
        "279 \r",
        "280 \r",
        "281 \r",
        "282 \r",
        "283 \r",
        "284 \r",
        "285 \r",
        "286 \r",
        "287 \r",
        "288 \r",
        "289 \r",
        "290 \r",
        "291 \r",
        "292 \r",
        "293 \r",
        "294 "
       ]
      },
      {
       "output_type": "stream",
       "stream": "stdout",
       "text": [
        "\r",
        "295 \r",
        "296 \r",
        "297 \r",
        "298 \r",
        "299 \r",
        "300 \r",
        "301 \r",
        "302 \r",
        "303 \r",
        "304 \r",
        "305 \r",
        "306 \r",
        "307 \r",
        "308 \r",
        "309 \r",
        "310 \r",
        "311 \r",
        "312 \r",
        "313 \r",
        "314 "
       ]
      },
      {
       "output_type": "stream",
       "stream": "stdout",
       "text": [
        "\r",
        "315 \r",
        "316 \r",
        "317 \r",
        "318 \r",
        "319 \r",
        "320 \r",
        "321 \r",
        "322 \r",
        "323 \r",
        "324 \r",
        "325 \r",
        "326 \r",
        "327 \r",
        "328 \r",
        "329 \r",
        "330 \r",
        "331 \r",
        "332 "
       ]
      },
      {
       "output_type": "stream",
       "stream": "stdout",
       "text": [
        "\r",
        "333 \r",
        "334 \r",
        "335 \r",
        "336 \r",
        "337 \r",
        "338 \r",
        "339 \r",
        "340 \r",
        "341 \r",
        "342 \r",
        "343 \r",
        "344 "
       ]
      },
      {
       "output_type": "stream",
       "stream": "stdout",
       "text": [
        "\r",
        "345 \r",
        "346 \r",
        "347 \r",
        "348 \r",
        "349 \r",
        "350 \r",
        "351 \r",
        "352 \r",
        "353 \r",
        "354 \r",
        "355 \r",
        "356 \r",
        "357 \r",
        "358 \r",
        "359 \r",
        "360 \r",
        "361 \r",
        "362 \r",
        "363 \r",
        "364 "
       ]
      },
      {
       "output_type": "stream",
       "stream": "stdout",
       "text": [
        "\r",
        "365 \r",
        "366 \r",
        "367 \r",
        "368 \r",
        "369 \r",
        "370 \r",
        "371 \r",
        "372 \r",
        "373 \r",
        "374 \r",
        "375 \r",
        "376 \r",
        "377 \r",
        "378 \r",
        "379 \r",
        "380 \r",
        "381 \r",
        "382 \r",
        "383 "
       ]
      },
      {
       "output_type": "stream",
       "stream": "stdout",
       "text": [
        "\r",
        "384 \r",
        "385 \r",
        "386 \r",
        "387 \r",
        "388 \r",
        "389 \r",
        "390 \r",
        "391 \r",
        "392 \r",
        "393 \r",
        "394 \r",
        "395 \r",
        "396 \r",
        "397 \r",
        "398 \r",
        "399 \r",
        "400 "
       ]
      },
      {
       "output_type": "stream",
       "stream": "stdout",
       "text": [
        "\r",
        "401 \r",
        "402 \r",
        "403 \r",
        "404 \r",
        "405 \r",
        "406 \r",
        "407 \r",
        "408 "
       ]
      },
      {
       "output_type": "stream",
       "stream": "stdout",
       "text": [
        "\r",
        "409 \r",
        "410 \r",
        "411 \r",
        "412 \r",
        "413 \r",
        "414 \r",
        "415 \r",
        "416 \r",
        "417 \r",
        "418 \r",
        "419 \r",
        "420 \r",
        "421 \r",
        "422 \r",
        "423 \r",
        "424 \r",
        "425 "
       ]
      },
      {
       "output_type": "stream",
       "stream": "stdout",
       "text": [
        "\r",
        "426 \r",
        "427 \r",
        "428 \r",
        "429 \r",
        "430 \r",
        "431 \r",
        "432 \r",
        "433 \r",
        "434 \r",
        "435 \r",
        "436 \r",
        "437 \r",
        "438 "
       ]
      },
      {
       "output_type": "stream",
       "stream": "stdout",
       "text": [
        "\r",
        "439 \r",
        "440 \r",
        "441 \r",
        "442 \r",
        "443 \r",
        "444 \r",
        "445 \r",
        "446 \r",
        "447 \r",
        "448 \r",
        "449 \r",
        "450 \r",
        "451 \r",
        "452 \r",
        "453 \r",
        "454 \r",
        "455 \r",
        "456 "
       ]
      },
      {
       "output_type": "stream",
       "stream": "stdout",
       "text": [
        "\r",
        "457 \r",
        "458 \r",
        "459 \r",
        "460 \r",
        "461 \r",
        "462 \r",
        "463 \r",
        "464 \r",
        "465 "
       ]
      },
      {
       "output_type": "stream",
       "stream": "stdout",
       "text": [
        "\r",
        "466 \r",
        "467 \r",
        "468 \r",
        "469 \r",
        "470 \r",
        "471 \r",
        "472 \r",
        "473 "
       ]
      },
      {
       "output_type": "stream",
       "stream": "stdout",
       "text": [
        "\r",
        "474 \r",
        "475 \r",
        "476 \r",
        "477 \r",
        "478 \r",
        "479 \r",
        "480 \r",
        "481 \r",
        "482 \r",
        "483 "
       ]
      },
      {
       "output_type": "stream",
       "stream": "stdout",
       "text": [
        "\r",
        "484 \r",
        "485 \r",
        "486 \r",
        "487 \r",
        "488 \r",
        "489 \r",
        "490 \r",
        "491 \r",
        "492 \r",
        "493 \r",
        "494 \r",
        "495 \r",
        "496 \r",
        "497 "
       ]
      },
      {
       "output_type": "stream",
       "stream": "stdout",
       "text": [
        "\r",
        "498 \r",
        "499 \r",
        "500 \r",
        "501 \r",
        "502 \r",
        "503 \r",
        "504 \r",
        "505 \r",
        "506 \r",
        "507 \r",
        "508 \r",
        "509 \r",
        "510 \r",
        "511 \r",
        "512 \r",
        "513 \r",
        "514 \r",
        "515 "
       ]
      },
      {
       "output_type": "stream",
       "stream": "stdout",
       "text": [
        "\r",
        "516 \r",
        "517 \r",
        "518 \r",
        "519 \r",
        "520 \r",
        "521 \r",
        "522 \r",
        "523 \r",
        "524 \r",
        "525 \r",
        "526 \r",
        "527 \r",
        "528 \r",
        "529 "
       ]
      },
      {
       "output_type": "stream",
       "stream": "stdout",
       "text": [
        "\r",
        "530 \r",
        "531 \r",
        "532 \r",
        "533 \r",
        "534 \r",
        "535 "
       ]
      },
      {
       "output_type": "stream",
       "stream": "stdout",
       "text": [
        "\r",
        "536 \r",
        "537 \r",
        "538 \r",
        "539 \r",
        "540 \r",
        "541 \r",
        "542 \r",
        "543 "
       ]
      },
      {
       "output_type": "stream",
       "stream": "stdout",
       "text": [
        "\r",
        "544 \r",
        "545 \r",
        "546 \r",
        "547 \r",
        "548 \r",
        "549 \r",
        "550 \r",
        "551 \r",
        "552 \r",
        "553 \r",
        "554 \r",
        "555 \r",
        "556 \r",
        "557 \r",
        "558 \r",
        "559 \r",
        "560 \r",
        "561 "
       ]
      },
      {
       "output_type": "stream",
       "stream": "stdout",
       "text": [
        "\r",
        "562 \r",
        "563 \r",
        "564 \r",
        "565 \r",
        "566 \r",
        "567 \r",
        "568 \r",
        "569 \r",
        "570 \r",
        "571 \r",
        "572 \r",
        "573 \r",
        "574 \r",
        "575 \r",
        "576 \r",
        "577 \r",
        "578 \r",
        "579 \r",
        "580 \r",
        "581 "
       ]
      },
      {
       "output_type": "stream",
       "stream": "stdout",
       "text": [
        "\r",
        "582 \r",
        "583 \r",
        "584 \r",
        "585 \r",
        "586 \r",
        "587 \r",
        "588 \r",
        "589 \r",
        "590 \r",
        "591 \r",
        "592 \r",
        "593 \r",
        "594 \r",
        "595 \r",
        "596 \r",
        "597 \r",
        "598 \r",
        "599 "
       ]
      },
      {
       "output_type": "stream",
       "stream": "stdout",
       "text": [
        "\r",
        "600 \r",
        "601 \r",
        "602 \r",
        "603 \r",
        "604 \r",
        "605 \r",
        "606 "
       ]
      },
      {
       "output_type": "stream",
       "stream": "stdout",
       "text": [
        "\r",
        "607 \r",
        "608 \r",
        "609 \r",
        "610 \r",
        "611 \r",
        "612 \r",
        "613 \r",
        "614 \r",
        "615 \r",
        "616 \r",
        "617 \r",
        "618 \r",
        "619 \r",
        "620 \r",
        "621 \r",
        "622 "
       ]
      },
      {
       "output_type": "stream",
       "stream": "stdout",
       "text": [
        "\r",
        "623 \r",
        "624 \r",
        "625 \r",
        "626 \r",
        "627 \r",
        "628 \r",
        "629 \r",
        "630 \r",
        "631 \r",
        "632 \r",
        "633 \r",
        "634 \r",
        "635 \r",
        "636 \r",
        "637 \r",
        "638 \r",
        "639 \r",
        "640 \r",
        "641 \r",
        "642 "
       ]
      },
      {
       "output_type": "stream",
       "stream": "stdout",
       "text": [
        "\r",
        "643 \r",
        "644 \r",
        "645 \r",
        "646 \r",
        "647 \r",
        "648 \r",
        "649 \r",
        "650 \r",
        "651 \r",
        "652 \r",
        "653 \r",
        "654 \r",
        "655 \r",
        "656 \r",
        "657 \r",
        "658 \r",
        "659 \r",
        "660 \r",
        "661 "
       ]
      },
      {
       "output_type": "stream",
       "stream": "stdout",
       "text": [
        "\r",
        "662 \r",
        "663 \r",
        "664 \r",
        "665 \r",
        "666 \r",
        "667 \r",
        "668 \r",
        "669 \r",
        "670 "
       ]
      },
      {
       "output_type": "stream",
       "stream": "stdout",
       "text": [
        "\r",
        "671 \r",
        "672 \r",
        "673 \r",
        "674 \r",
        "675 \r",
        "676 \r",
        "677 \r",
        "678 \r",
        "679 \r",
        "680 \r",
        "681 \r",
        "682 \r",
        "683 \r",
        "684 \r",
        "685 "
       ]
      },
      {
       "output_type": "stream",
       "stream": "stdout",
       "text": [
        "\r",
        "686 \r",
        "687 \r",
        "688 \r",
        "689 \r",
        "690 \r",
        "691 \r",
        "692 \r",
        "693 \r",
        "694 \r",
        "695 \r",
        "696 \r",
        "697 \r",
        "698 \r",
        "699 \r",
        "700 \r",
        "701 \r",
        "702 \r",
        "703 \r",
        "704 \r",
        "705 "
       ]
      },
      {
       "output_type": "stream",
       "stream": "stdout",
       "text": [
        "\r",
        "706 \r",
        "707 \r",
        "708 \r",
        "709 \r",
        "710 \r",
        "711 \r",
        "712 \r",
        "713 \r",
        "714 \r",
        "715 \r",
        "716 \r",
        "717 \r",
        "718 \r",
        "719 \r",
        "720 \r",
        "721 \r",
        "722 \r",
        "723 \r",
        "724 \r",
        "725 "
       ]
      },
      {
       "output_type": "stream",
       "stream": "stdout",
       "text": [
        "\r",
        "726 \r",
        "727 \r",
        "728 \r",
        "729 \r",
        "730 \r",
        "731 \r",
        "732 \r",
        "733 \r",
        "734 \r",
        "735 "
       ]
      },
      {
       "output_type": "stream",
       "stream": "stdout",
       "text": [
        "\r",
        "736 \r",
        "737 \r",
        "738 \r",
        "739 \r",
        "740 \r",
        "741 \r",
        "742 \r",
        "743 \r",
        "744 \r",
        "745 \r",
        "746 \r",
        "747 "
       ]
      },
      {
       "output_type": "stream",
       "stream": "stdout",
       "text": [
        "\r",
        "748 \r",
        "749 \r",
        "750 \r",
        "751 \r",
        "752 \r",
        "753 \r",
        "754 \r",
        "755 \r",
        "756 \r",
        "757 \r",
        "758 \r",
        "759 \r",
        "760 \r",
        "761 \r",
        "762 \r",
        "763 \r",
        "764 \r",
        "765 \r",
        "766 "
       ]
      },
      {
       "output_type": "stream",
       "stream": "stdout",
       "text": [
        "\r",
        "767 \r",
        "768 \r",
        "769 \r",
        "770 \r",
        "771 \r",
        "772 \r",
        "773 \r",
        "774 \r",
        "775 \r",
        "776 \r",
        "777 \r",
        "778 \r",
        "779 \r",
        "780 \r",
        "781 \r",
        "782 \r",
        "783 \r",
        "784 \r",
        "785 \r",
        "786 "
       ]
      },
      {
       "output_type": "stream",
       "stream": "stdout",
       "text": [
        "\r",
        "787 \r",
        "788 \r",
        "789 \r",
        "790 \r",
        "791 \r",
        "792 \r",
        "793 \r",
        "794 \r",
        "795 \r",
        "796 \r",
        "797 \r",
        "798 "
       ]
      },
      {
       "output_type": "stream",
       "stream": "stdout",
       "text": [
        "\r",
        "799 \r",
        "800 \r",
        "801 \r",
        "802 \r",
        "803 \r",
        "804 "
       ]
      },
      {
       "output_type": "stream",
       "stream": "stdout",
       "text": [
        "\r",
        "805 \r",
        "806 \r",
        "807 \r",
        "808 \r",
        "809 \r",
        "810 \r",
        "811 \r",
        "812 \r",
        "813 \r",
        "814 \r",
        "815 \r",
        "816 \r",
        "817 \r",
        "818 \r",
        "819 \r",
        "820 \r",
        "821 "
       ]
      },
      {
       "output_type": "stream",
       "stream": "stdout",
       "text": [
        "\r",
        "822 \r",
        "823 \r",
        "824 \r",
        "825 \r",
        "826 \r",
        "827 \r",
        "828 \r",
        "829 \r",
        "830 \r",
        "831 \r",
        "832 \r",
        "833 \r",
        "834 \r",
        "835 \r",
        "836 \r",
        "837 \r",
        "838 \r",
        "839 \r",
        "840 "
       ]
      },
      {
       "output_type": "stream",
       "stream": "stdout",
       "text": [
        "\r",
        "841 \r",
        "842 \r",
        "843 \r",
        "844 \r",
        "845 \r",
        "846 \r",
        "847 \r",
        "848 \r",
        "849 \r",
        "850 \r",
        "851 \r",
        "852 \r",
        "853 \r",
        "854 \r",
        "855 \r",
        "856 \r",
        "857 "
       ]
      },
      {
       "output_type": "stream",
       "stream": "stdout",
       "text": [
        "\r",
        "858 \r",
        "859 \r",
        "860 \r",
        "861 \r",
        "862 \r",
        "863 \r",
        "864 "
       ]
      },
      {
       "output_type": "stream",
       "stream": "stdout",
       "text": [
        "\r",
        "865 \r",
        "866 \r",
        "867 \r",
        "868 \r",
        "869 \r",
        "870 \r",
        "871 \r",
        "872 \r",
        "873 \r",
        "874 \r",
        "875 \r",
        "876 \r",
        "877 \r",
        "878 "
       ]
      },
      {
       "output_type": "stream",
       "stream": "stdout",
       "text": [
        "\r",
        "879 \r",
        "880 \r",
        "881 \r",
        "882 \r",
        "883 \r",
        "884 \r",
        "885 \r",
        "886 \r",
        "887 \r",
        "888 \r",
        "889 \r",
        "890 \r",
        "891 \r",
        "892 \r",
        "893 \r",
        "894 \r",
        "895 \r",
        "896 \r",
        "897 \r",
        "898 "
       ]
      },
      {
       "output_type": "stream",
       "stream": "stdout",
       "text": [
        "\r",
        "899 \r",
        "900 \r",
        "901 \r",
        "902 \r",
        "903 \r",
        "904 \r",
        "905 \r",
        "906 \r",
        "907 \r",
        "908 \r",
        "909 \r",
        "910 \r",
        "911 \r",
        "912 \r",
        "913 \r",
        "914 \r",
        "915 \r",
        "916 "
       ]
      },
      {
       "output_type": "stream",
       "stream": "stdout",
       "text": [
        "\r",
        "917 \r",
        "918 \r",
        "919 \r",
        "920 \r",
        "921 \r",
        "922 \r",
        "923 \r",
        "924\n"
       ]
      }
     ],
     "prompt_number": 21
    },
    {
     "cell_type": "code",
     "collapsed": false,
     "input": [
      "Sets=[]; Dists=[]; Sizes=[]\n",
      "All=set([])\n",
      "Pixel_no=size(seg)\n",
      "for i in range(30):\n",
      "    seed=most_sig[i]\n",
      "    if seed in All:\n",
      "        continue\n",
      "    print '************',seed,'distance from null=',D_Null[seed]\n",
      "    P=texton[seed,:]\n",
      "    Count=float(C[seed])\n",
      "    S=set([seed])\n",
      "    while True:\n",
      "        Stmp=S.copy()\n",
      "        for e in S:\n",
      "            for f in neighbors[e].difference(S):\n",
      "                JSD=JS(P,Count,texton[f,:],C[f])\n",
      "                Dist_from_Null=RE(P,Null)\n",
      "                print e,f,JSD,D_Null[f],Dist_from_Null,\n",
      "                if Dist_from_Null < 0.01:\n",
      "                        print 'Too close to Null'\n",
      "                        break\n",
      "                if JSD<D_Null[f]/4.0:\n",
      "                    print ' Adding',\n",
      "                    Stmp.add(f)\n",
      "                    q=Count/(Count+C[f])\n",
      "                    P=P*q+texton[f,:]*(1-q)\n",
      "                    Count += C[f]\n",
      "                print\n",
      "        if S==Stmp:\n",
      "            if (Dist_from_Null > 0.1) & (size(list(S))>1):\n",
      "                Sets.append(S)\n",
      "                Dists.append(P)\n",
      "                Sizes.append(Count)\n",
      "                All=All.union(S)\n",
      "            break\n",
      "        S=Stmp\n",
      "        print S\n",
      "\n",
      "        "
     ],
     "language": "python",
     "metadata": {},
     "outputs": [
      {
       "output_type": "stream",
       "stream": "stdout",
       "text": [
        "************ 54 distance from null= 1.83360465397\n",
        "54"
       ]
      },
      {
       "output_type": "stream",
       "stream": "stdout",
       "text": [
        " 35 0.574624903248 1.5383147883 1.83360465397\n",
        "54 75 0.538974523128 0.65141219062 1.83360465397\n",
        "54 43 0.389555286044 0.101039614567 1.83360465397\n",
        "54 74 0.445394472049 0.146285333739 1.83360465397\n",
        "************ 443 distance from null= 1.71813191801\n",
        "443 448 0.0496262469218 1.23872055753 1.71813191801  Adding\n",
        "443 481 0.207293691576 0.377944636671 1.43600620721\n",
        "443 486 0.114678805972 0.193466276189 1.43600620721\n",
        "443 430 0.17613151953 0.0979370120031 1.43600620721\n",
        "443 466 0.0596022565664 0.384766727571 1.43600620721  Adding\n",
        "443 398 0.0377922608065 0.468789755653 1.0511192782  Adding\n",
        "set([448, 466, 443, 398])\n",
        "448 480 0.808372560669 0 0.863925650739\n",
        "448 481 0.127817404474 0.377944636671 0.863925650739\n",
        "448 402 0.00889509017184 0.717020974412 0.863925650739  Adding\n",
        "466 433 0.0748940581282 0.0397564123492 0.826323205695\n",
        "466 430 0.0663010300415 0.0979370120031 0.826323205695\n",
        "466 486 0.0426930412646 0.193466276189 0.826323205695  Adding\n",
        "466 473 0.0133650122475 0.429490319001 0.68442084101  Adding\n",
        "443 481 0.0820542890283 0.377944636671 0.633580274667  Adding\n",
        "443 430 0.0348305228576 0.0979370120031 0.521883106145\n",
        "443 486 0.0173664845408 0.193466276189 0.521883106145  Adding\n",
        "398 392 0.0389823546455 0.0273039827495 0.469797542866\n",
        "398 402 0.00640337346931 0.717020974412 0.469797542866  Adding\n",
        "398 365 0.0355579988369 0.0331757709115 0.48811881466\n",
        "398 391 0.0183795690056 0.0579754981324 0.48811881466\n",
        "set([448, 481, 486, 402, 398, 466, 473, 443])\n",
        "448 480 0.911069163715 0 0.48811881466\n",
        "402 391 0.0183795690056 0.0579754981324 0.48811881466\n",
        "398 392 0.0373984548827 0.0273039827495 0.48811881466\n",
        "398 365 0.0355579988369 0.0331757709115 0.48811881466\n",
        "398 391 0.0183795690056 0.0579754981324 0.48811881466\n",
        "466 433 0.0282537789606 0.0397564123492 0.48811881466\n",
        "466 430 0.0270194762696 0.0979370120031 0.48811881466\n",
        "473 433 0.0282537789606 0.0397564123492 0.48811881466\n",
        "473 471 0.0323542479852 0.0239125147685 0.48811881466\n",
        "443 430 0.0270194762696 0.0979370120031 0.48811881466\n",
        "************ 35 distance from null= 1.5383147883\n",
        "35 34 0.277198675077 0.396510904864 1.5383147883\n",
        "35 54 0.574624903248 1.83360465397 1.5383147883\n",
        "************ 16 distance from null= 1.11915481611\n",
        "16 38 0.344719534467 0.168698197021 1.11915481611\n",
        "16 15 0.158711841229 0.624813739371 1.11915481611\n",
        "************ 500 distance from null= 0.952505151296\n",
        "500 472 0.0721057695434 0.497307832101 0.952505151296  Adding\n",
        "500 467 0.189465609644 0.110312123353 0.645502864327\n",
        "500 460 0.116905919478 0.029643805665 0.645502864327\n",
        "500 503 0.0645869970383 0.239722707282 0.645502864327\n",
        "set([472, 500])\n",
        "472 434 0.0157385468022 0.537568425117 0.645502864327  Adding\n",
        "472 460 0.0922154781023 0.029643805665 0.591816535106\n",
        "500 467 0.15690355408 0.110312123353 0.591816535106\n",
        "500 460 0.0922154781023 0.029643805665 0.591816535106\n",
        "500 503 0.0508819076346 0.239722707282 0.591816535106  Adding\n",
        "set([472, 434, 500, 503])\n",
        "472 460 0.0634656476228 0.029643805665 0.469939830686\n",
        "434 416 0.0515226982505 0.0601582671456 0.469939830686\n",
        "434 396 0.0229104768384 0.166506409906 0.469939830686  Adding\n",
        "434 460 0.045120755622 0.029643805665 0.376999824641\n",
        "434 479 0.821312712184 0 0.376999824641\n",
        "500 467 0.088284587883 0.110312123353 0.376999824641\n",
        "500 460 0.045120755622 0.029643805665 0.376999824641\n",
        "503 467 0.088284587883 0.110312123353 0.376999824641\n",
        "set([472, 396, 434, 500, 503])\n",
        "472 460 0.045120755622 0.029643805665 0.376999824641\n",
        "396 416 0.0355919894766 0.0601582671456 0.376999824641\n",
        "396 362 0.0570150880849 0.0333190999248 0.376999824641\n",
        "396 447 0.0560762575091 0.302554179054 0.376999824641  Adding\n",
        "396 405 0.0309640335117 0.241374086174 0.309138546307  Adding\n",
        "396 383 0.0130196766862 0.415550720053 0.26892886604  Adding\n",
        "434 416 0.0172522158708 0.0601582671456 0.278113671707\n",
        "434 460 0.0256647133406 0.029643805665 0.278113671707\n",
        "434 479 0.881687396973 0 0.278113671707\n",
        "500 467 0.0586855370468 0.110312123353 0.278113671707\n",
        "500 460 0.0256647133406 0.029643805665 0.278113671707\n",
        "503 467 0.0586855370468 0.110312123353 0.278113671707\n",
        "set([396, 434, 500, 405, 503, 472, 383, 447])\n",
        "396 416 0.0172522158708 0.0601582671456 0.278113671707\n",
        "396 362 0.0329895376483 0.0333190999248 0.278113671707\n",
        "434 416 0.0172522158708 0.0601582671456 0.278113671707\n",
        "434 460 0.0256647133406 0.029643805665 0.278113671707\n",
        "434 479 0.881687396973 0 0.278113671707\n",
        "500 467 0.0586855370468 0.110312123353 0.278113671707\n",
        "500 460 0.0256647133406 0.029643805665 0.278113671707\n",
        "405 461 0.891169342623 0 0.278113671707\n",
        "503 467 0.0586855370468 0.110312123353 0.278113671707\n",
        "472 460 0.0256647133406 0.029643805665 0.278113671707\n",
        "383 345 0.00654607680859 0.42675484995 0.278113671707  Adding\n",
        "447 461 0.902397609183 0 0.288561870809\n",
        "447 493 0.89482073502 0 0.288561870809\n",
        "447 479 0.893777329297 0 0.288561870809\n",
        "set([396, 434, 500, 405, 503, 472, 345, 447, 383])\n",
        "396 416 0.0163752219331 0.0601582671456 0.288561870809\n",
        "396 362 0.0315755252672 0.0333190999248 0.288561870809\n",
        "434 416 0.0163752219331 0.0601582671456 0.288561870809\n",
        "434 460 0.024468354515 0.029643805665 0.288561870809\n",
        "434 479 0.893777329297 0 0.288561870809\n",
        "500 467 0.0555259067484 0.110312123353 0.288561870809\n",
        "500 460 0.024468354515 0.029643805665 0.288561870809\n",
        "405 461 0.902397609183 0 0.288561870809\n",
        "503 467 0.0555259067484 0.110312123353 0.288561870809\n",
        "472 460 0.024468354515 0.029643805665 0.288561870809\n",
        "345 288 0.00687081196618 0.132778584065 0.288561870809  Adding\n",
        "345 348 0.0305795609868 0.0676503782844 0.267083940601\n",
        "447 461 0.910732404282 0 0.267083940601\n",
        "447 493 0.903733536072 0 0.267083940601\n",
        "447 479 0.902768940249 0 0.267083940601\n",
        "set([288, 396, 434, 500, 405, 503, 472, 345, 383, 447])\n",
        "288 282 0.0193117630859 0.0241204261203 0.267083940601\n",
        "288 348 0.0305795609868 0.0676503782844 0.267083940601\n",
        "288 301 0.0328368495667 0.065181096451 0.267083940601\n",
        "396 416 0.0138970078468 0.0601582671456 0.267083940601  Adding\n",
        "396 362 0.0227940014185 0.0333190999248 0.234248059743\n",
        "434 416 0.0109201903232 0.0601582671456 0.234248059743  Adding\n",
        "434 460 0.0146893601842 0.029643805665 0.208730339502\n",
        "434 479 0.917733280075 0 0.208730339502\n",
        "500 467 0.0371889636042 0.110312123353 0.208730339502\n",
        "500 460 0.0146893601842 0.029643805665 0.208730339502\n",
        "405 461 0.924573528125 0 0.208730339502\n",
        "503 467 0.0371889636042 0.110312123353 0.208730339502\n",
        "472"
       ]
      },
      {
       "output_type": "stream",
       "stream": "stdout",
       "text": [
        " 460 0.0146893601842 0.029643805665 0.208730339502\n",
        "345 348 0.0217814653522 0.0676503782844 0.208730339502\n",
        "447 461 0.924573528125 0 0.208730339502\n",
        "447 493 0.918562811799 0 0.208730339502\n",
        "447 479 0.917733280075 0 0.208730339502\n",
        "set([288, 416, 396, 434, 500, 405, 503, 472, 345, 447, 383])\n",
        "288 282 0.0127868495281 0.0241204261203 0.208730339502\n",
        "288 348 0.0217814653522 0.0676503782844 0.208730339502\n",
        "288 301 0.0232371935702 0.065181096451 0.208730339502\n",
        "416 362 0.0194575512288 0.0333190999248 0.208730339502\n",
        "416 460 0.0146893601842 0.029643805665 0.208730339502\n",
        "416 370 0.0230538619064 0.0464783715328 0.208730339502\n",
        "416 390 0.0218670139161 0.0590725472563 0.208730339502\n",
        "416 426 0.0262484053404 0.0590436301101 0.208730339502\n",
        "396 362 0.0194575512288 0.0333190999248 0.208730339502\n",
        "434 460 0.0146893601842 0.029643805665 0.208730339502\n",
        "434 479 0.917733280075 0 0.208730339502\n",
        "500 467 0.0371889636042 0.110312123353 0.208730339502\n",
        "500 460 0.0146893601842 0.029643805665 0.208730339502\n",
        "405 461 0.924573528125 0 0.208730339502\n",
        "503 467 0.0371889636042 0.110312123353 0.208730339502\n",
        "472 460 0.0146893601842 0.029643805665 0.208730339502\n",
        "345 348 0.0217814653522 0.0676503782844 0.208730339502\n",
        "447 461 0.924573528125 0 0.208730339502\n",
        "447 493 0.918562811799 0 0.208730339502\n",
        "447 479 0.917733280075 0 0.208730339502\n",
        "************ 325 distance from null= 0.768804220841\n",
        "325 336 0.124522216941 0.0942785214856 0.768804220841\n",
        "325 360 0.0112325182237 0.5797778989 0.768804220841  Adding\n",
        "325 322 0.0512378773853 0.100289351253 0.668183516575\n",
        "325 291 0.0714895640887 0.0969537772691 0.668183516575\n",
        "325 393 0.187846336922 0.101022472714 0.668183516575\n",
        "set([360, 325])\n",
        "360 368 0.0433783125825 0.221809895639 0.668183516575  Adding\n",
        "360 393 0.132238069076 0.101022472714 0.483488875902\n",
        "360 397 0.0642068228833 0.0288836765146 0.483488875902\n",
        "360 326 0.0334100503102 0.11026263791 0.483488875902\n",
        "360 406 0.0150581761925 0.372351181456 0.483488875902  Adding\n",
        "325 336 0.0465660729162 0.0942785214856 0.441079665612\n",
        "325 393 0.113861807498 0.101022472714 0.441079665612\n",
        "325 322 0.0212530185076 0.100289351253 0.441079665612  Adding\n",
        "325 291 0.0198383616907 0.0969537772691 0.351226565905  Adding\n",
        "set([322, 291, 325, 360, 368, 406])\n",
        "322 336 0.0236898230955 0.0942785214856 0.288091258826\n",
        "322 273 0.0129224847406 0.0861169512156 0.288091258826  Adding\n",
        "322 307 0.00784357110222 0.126979859811 0.247048573839  Adding\n",
        "291 273 0.0067426222703 0.0861169512156 0.224410140221  Adding\n",
        "291 290 0.0160235899964 0.0466098598224 0.202622478174\n",
        "291 253 0.00348326117898 0.301047368235 0.202622478174  Adding\n",
        "291 326 0.00482296536731 0.11026263791 0.20904914918  Adding\n",
        "291 254 0.00420978049965 0.115717375409 0.194770851528  Adding\n",
        "325 336 0.00967046724059 0.0942785214856 0.183929340939  Adding\n",
        "325 393 0.027147413769 0.101022472714 0.168083922142\n",
        "360 393 0.027147413769 0.101022472714 0.168083922142\n",
        "360 397 0.00852421518661 0.0288836765146 0.168083922142\n",
        "360 326 0.00282542708057 0.11026263791 0.168083922142  Adding\n",
        "368 329 0.00644643556373 0.0919194578793 0.160893974821  Adding\n",
        "368 413 0.00408075118327 0.2351690109 0.149811183132  Adding\n",
        "368 326 0.00173432270925 0.11026263791 0.15089795701  Adding\n",
        "406 441 0.0080298190132 0.021587169421 0.146642511404\n",
        "406 442 0.00820393978516 0.478322280142 0.146642511404  Adding\n",
        "406 397 0.00596055025588 0.0288836765146 0.155134445738  Adding\n",
        "406 413 0.00309415821702 0.2351690109 0.144170459393  Adding\n",
        "set([322, 325, 326, 329, 397, 336, 273, 406, 413, 291, 360, 368, 307, 442, 253, 254])\n",
        "325 393 0.0183178600529 0.101022472714 0.145556900295  Adding\n",
        "326 290 0.00536677407905 0.0466098598224 0.125150030869  Adding\n",
        "329 292 0.0042126300418 0.0820271559372 0.116217385101  Adding\n",
        "329 290 0.00424295325655 0.0466098598224 0.110567648442  Adding\n",
        "329 356 0.00385106154454 0.0201342228831 0.103658890972  Adding\n",
        "329 373 0.000667107479443 0.0802834740106 0.0964587670544  Adding\n",
        "329 317 0.0024389888119 0.052634693481 0.0952043129155  Adding\n",
        "397 441 0.00376957394802 0.021587169421 0.0912800601832  Adding\n",
        "397 431 0.0138467898521 0.164213223902 0.0853313505461  Adding\n",
        "397 457 0.00862381140532 0.137632021285 0.0742539834666  Adding\n",
        "336 393 0.00870601448328 0.101022472714 0.0672607509162  Adding\n",
        "336 347 0.00568260175171 0.459577304705 0.0596466205004  Adding\n",
        "336 379 0.00724243267208 0.0946033863327 0.0659338874962  Adding\n",
        "273 255 0.00307479762393 0.299757265143 0.0594684138786  Adding\n",
        "273 223 0.0015475457495 0.11973228946 0.0637456111019  Adding\n",
        "406 441 0.00228260855542 0.021587169421 0.0638329439321  Adding\n",
        "413 444 0.0007085261126 0.0644688194384 0.0605093851702  Adding\n",
        "413 421 0.00149036979901 0.151958841264 0.0599005324406  Adding\n",
        "413 373 0.000385604134904 0.0802834740106 0.0607937964211  Adding\n",
        "291 290 0.00185743613572 0.0466098598224 0.060891047933  Adding\n",
        "360 393 0.0063009204561 0.101022472714 0.0586675482694  Adding\n",
        "307 313 0.00511609386466 0.458818815086 0.0534109743004  Adding\n",
        "307 347 0.00433314426947 0.459577304705 0.0579178000389  Adding\n",
        "307 255 0.00226711400167 0.299757265143 0.0626015060582  Adding\n",
        "442 441 0.00186868328547 0.021587169421 0.0659679632901  Adding\n",
        "442 490 0.00123155220298 0.0758877001565 0.0632203801968  Adding\n",
        "442 444 0.000532837030043 0.0644688194384 0.0622650066421  Adding\n",
        "442 484 0.00260407613885 0.0428853191528 0.0617760215581  Adding\n",
        "253 217 0.00198621539888 0.0368461162578 0.0588008737878  Adding\n",
        "253 223 0.00105124758995 0.11973228946 0.056361211119  Adding\n",
        "254 264 0.00374686565902 0.0718312812636 0.0566176893361  Adding\n",
        "254 217 0.00175083135976 0.0368461162578 0.0531776370141  Adding\n",
        "254 290 0.0012877137687 0.0466098598224 0.0511094124658  Adding\n",
        "254 231 0.00140346344874 0.0231356900128 0.0497344449567  Adding\n",
        "set([322, 325, 326, 264, 329, 484, 397, 336, 273, 406, 313, 356, 431, 413, 223, 290, 291, 292, 421, 231, 360, 490, 457, 317, 368, 347, 307, 373, 217, 393, 441, 442, 379, 444, 253, 254, 255])\n",
        "264 224 0.00216080847433 0.0386019862102 0.0479066634237  Adding\n",
        "264 251 0.00308684104067 0.0798673740559 0.0455779684403  Adding\n",
        "484 489 0.00156157293121 0.025665451913 0.0430761232245  Adding\n",
        "313 298 0.000539896527911 0.0862204478955 0.0412245260357  Adding\n",
        "313 259 0.00147592686216 0.231739690484 0.0414497242406  Adding\n",
        "313 335 0.00319819371837 0.422608054778 0.0433187764715  Adding\n",
        "356 363 0.000577436937828 0.107586955306 0.0461913752785  Adding\n",
        "356 324 0.00454341839157 0.126639671035 0.0466322195426  Adding\n",
        "356 381 0.000469521149132 0.0892234275786 0.0434258306705  Adding\n",
        "431 437 0.00262743795123 0.0603932229018 0.0436754327646  Adding\n",
        "431 399 0.00410533168787 0.12726756427 0.0413043003469  Adding\n",
        "223 180 0.00404307383188 0.110732512067 0.0385315985786  Adding\n",
        "292 287 0.00174894731435 0.0599286507297 0.0357124815349  Adding\n",
        "421 409 0.000727429510007 0.0453987672732 0.0343213566224  Adding\n",
        "421 458 0.000774587996906 0.140251622157 0.03375775081  Adding\n",
        "421 381 0.000436477230357 0.0892234275786 0.0344619599681  Adding\n",
        "231 224 0.00142033445939 0.0386019862102 0.034798750989  Adding\n",
        "231 215 0.00245968153187 0.085564190071 0.0334316105685  Adding\n",
        "490 497 0.000351321364055 0.0510490691517 0.0316690093398  Adding\n",
        "457"
       ]
      },
      {
       "output_type": "stream",
       "stream": "stdout",
       "text": [
        " 489 0.00102646052918 0.025665451913 0.0315641989923  Adding\n",
        "457 468 0.000681694757381 0.031561250246 0.0304619642217  Adding\n",
        "457 437 0.00189180283502 0.0603932229018 0.0297959161133  Adding\n",
        "317 289 0.000687469491138 0.06471288289 0.0282993490478  Adding\n",
        "317 324 0.00304026134971 0.126639671035 0.0280564593091  Adding\n",
        "317 287 0.00128615445102 0.0599286507297 0.0263274130592  Adding\n",
        "347 369 0.00227728913871 0.340680428593 0.0254634846553  Adding\n",
        "347 335 0.00282380091332 0.422608054778 0.0272110839919  Adding\n",
        "217 180 0.00295738030031 0.110732512067 0.0290789725411  Adding\n",
        "217 182 0.00386120736906 0.193006891655 0.0272374782275  Adding\n",
        "217 215 0.00188390086397 0.085564190071 0.0254462599017  Adding\n",
        "393 399 0.00266957280957 0.12726756427 0.0242514608345  Adding\n",
        "441 489 0.000759611442497 0.025665451913 0.0228027210268  Adding\n",
        "379 399 0.0025270859277 0.12726756427 0.0220747194823  Adding\n",
        "444 497 0.000317007140598 0.0510490691517 0.0207662159392  Adding\n",
        "444 458 0.000733590311007 0.140251622157 0.0207688588979  Adding\n",
        "255 216 0.000815329466469 0.144859137408 0.0213249241937  Adding\n",
        "255 218 0.000407334294876 0.0679448692637 0.0218911911393  Adding\n",
        "255 259 0.00127224460535 0.231739690484 0.0219634173729  Adding\n",
        "set([259, 264, 393, 215, 397, 399, 273, 406, 217, 409, 413, 287, 289, 290, 291, 292, 421, 369, 298, 431, 307, 180, 437, 182, 457, 313, 442, 444, 317, 322, 324, 325, 326, 329, 458, 335, 336, 468, 441, 216, 356, 218, 347, 223, 224, 251, 484, 231, 360, 489, 490, 363, 381, 368, 497, 373, 379, 253, 254, 255])\n",
        "259 252 0.000208643440375 0.0610270594426 0.0230601610029  Adding\n",
        "259 221 0.0017771408382 0.0982733431853 0.0232733034913  Adding\n",
        "215 179 0.00135467527277 0.0661203586747 0.0222780463498  Adding\n",
        "215 183 0.00171183123174 0.0861200549282 0.0213494390617  Adding\n",
        "399 453 0.000663773184105 0.127586449304 0.0203112060382  Adding\n",
        "399 415 0.000765591387914 0.172859003267 0.0207258958243  Adding\n",
        "409 387 0.00304900580825 0.205850448386 0.0214498743748  Adding\n",
        "409 445 0.000457163594261 0.08897341112 0.0203200131253  Adding\n",
        "409 422 0.000638719638564 0.0425387620343 0.0205689252964  Adding\n",
        "287 256 0.000514257092657 0.0304791109578 0.0201326122815  Adding\n",
        "287 227 0.00075946516503 0.0436201939648 0.0197187305745  Adding\n",
        "289 256 0.000487033476745 0.0304791109578 0.019192339995  Adding\n",
        "369 378 0.00312853992264 0.48957954782 0.0188127043406  Adding\n",
        "369 415 0.000720756660257 0.172859003267 0.0202949308397  Adding\n",
        "298 352 0.00101524692 0.185000614409 0.020955732952  Adding\n",
        "298 312 0.000342560554349 0.0167018751735 0.021438078263  Adding\n",
        "298 252 0.000182404269241 0.0610270594426 0.0210516306785  Adding\n",
        "180 145 0.000279362125749 0.0269821419729 0.0212488870105  Adding\n",
        "180 146 0.000331828072867 0.0397218420498 0.0210231719218  Adding\n",
        "180 181 0.00325464182267 0.232099677093 0.0208639350241  Adding\n",
        "437 453 0.000587411177549 0.127586449304 0.0196183432437  Adding\n",
        "437 469 0.00178535837984 0.125460116128 0.0199624982067  Adding\n",
        "182 144 0.000559891802156 0.0270660716252 0.0190323706177  Adding\n",
        "182 145 0.000250682743857 0.0269821419729 0.0185436205478  Adding\n",
        "182 179 0.00101655757833 0.0661203586747 0.0183677896307  Adding\n",
        "324 337 0.000744415457845 0.0613174716028 0.0177284174056  Adding\n",
        "324 299 0.00122230154033 0.106368433253 0.0173522560427  Adding\n",
        "458 491 0.0014204929142 0.299989319068 0.016880381725  Adding\n",
        "458 445 0.000386303111295 0.08897341112 0.0177113835313  Adding\n",
        "335 352 0.000901374011052 0.185000614409 0.0179314185821  Adding\n",
        "335 378 0.00270184945265 0.48957954782 0.0183677886185  Adding\n",
        "468 469 0.00162606096773 0.125460116128 0.0196073127223  Adding\n",
        "216 181 0.00282196186894 0.232099677093 0.0187709028988  Adding\n",
        "218 184 0.00164563805374 0.119326076227 0.0177692491165  Adding\n",
        "218 181 0.00269573938946 0.232099677093 0.0169624589012  Adding\n",
        "218 221 0.00120300378055 0.0982733431853 0.0160720186735  Adding\n",
        "224 214 0.00151291214142 0.155928498858 0.015499150587  Adding\n",
        "224 183 0.00111869788529 0.0861200549282 0.0150430831664  Adding\n",
        "251 227 0.000506201655649 0.0436201939648 0.0144706165591  Adding\n",
        "251 214 0.0014343011898 0.155928498858 0.0141878695434  Adding\n",
        "363 337 0.000584563639713 0.0613174716028 0.0137962424325  Adding\n",
        "363 387 0.00195800256012 0.205850448386 0.0135678334425  Adding\n",
        "497 491 0.00136273344801 0.299989319068 0.0130887559668  Adding\n",
        "set([256, 259, 179, 264, 393, 469, 397, 337, 399, 144, 273, 146, 387, 406, 409, 184, 491, 413, 445, 287, 289, 290, 291, 292, 421, 422, 497, 145, 298, 299, 431, 307, 180, 437, 182, 329, 312, 313, 442, 415, 444, 317, 181, 441, 322, 324, 325, 326, 457, 458, 183, 484, 335, 336, 352, 453, 468, 227, 214, 215, 216, 217, 218, 347, 221, 223, 224, 379, 356, 231, 360, 489, 490, 363, 253, 368, 369, 373, 378, 251, 252, 381, 254, 255])\n",
        "256 249 0.000472917929008 0.0674220130068 0.0137534289101  Adding\n",
        "179 147 0.00180632590649 0.185312584137 0.0136793149256  Adding\n",
        "179 135 0.000482390377505 0.0400845281534 0.0130940232524  Adding\n",
        "469 492 0.000402526467586 0.032002171144 0.0128111080727  Adding\n",
        "337 382 0.000313723376814 0.0318740319167 0.0125323065367  Adding\n",
        "337 342 0.000332030084281 0.0568474483004 0.0123607193222  Adding\n",
        "337 295 0.00022970200919 0.0311203287706 0.0123428190606  Adding\n",
        "144 110 0.000408116821356 0.0520404773527 0.0122502373871  Adding\n",
        "144 135 0.000447589224313 0.0400845281534 0.0121298285464  Adding\n",
        "146 112 0.000399805751053 0.0621912039063 0.0118802194641  Adding\n",
        "146 148 0.000733081255719 0.0948832007822 0.0117626242116  Adding\n",
        "146 109 0.00121039220019 0.152650454158 0.0116094159386  Adding\n",
        "146 111 0.000510268277419 0.0650726083054 0.0112103145394  Adding\n",
        "387 410 0.000279911564223 0.0572516187456 0.0109801278796  Adding\n",
        "387 382 0.000275840821206 0.0318740319167 0.0110016420515  Adding\n",
        "184 148 0.000691140862365 0.0948832007822 0.0108694139616  Adding\n",
        "184 171 0.000869916534309 0.0968488804494 0.0107463692188  Adding\n",
        "184 212 0.000527726583648 0.0602418034005 0.0104304011016  Adding\n",
        "491 476 0.000227877567804 0.0305445006911 0.0102271052065  Adding\n",
        "445 476 0.000224082995099 0.0305445006911 0.010122021911  Adding\n",
        "445 446 0.000989864849881 0.119390423726 0.0100206267897  Adding\n",
        "422 410 0.000259292050005 0.0572516187456 0.00971313391202 Too close to Null\n",
        "145 109 0.00108443511882 0.152650454158 0.00971313391202 Too close to Null\n",
        "299 266 0.000397102784606 0.0563212417943 0.00971313391202 Too close to Null\n",
        "312 306 0.000398161906931 0.0550529162119 0.00971313391202 Too close to Null\n",
        "415 418 0.00205333286317 0.42216551733 0.00971313391202 Too close to Null\n",
        "183 177 0.000256525052737 0.0438266030328 0.00971313391202 Too close to Null\n",
        "352 384 0.000937989442405 0.211535757309 0.00971313391202 Too close to Null\n",
        "453 492 0.000323726787707 0.032002171144 0.00971313391202 Too close to Null\n",
        "227 209 0.000779397701159 0.108502574343 0.00971313391202 Too close to Null\n",
        "214 177 0.000256525052737 0.0438266030328 0.00971313391202 Too close to Null\n",
        "221 243 0.000206244534274 0.0267832609899 0.00971313391202 Too close to Null\n",
        "378 384 0.000937989442405 0.211535757309 0.00971313391202 Too close to Null\n",
        "252 243 0.000206244534274 0.0267832609899 0.00971313391202 Too close to Null\n",
        "set([256, 259, 264, 273, 287, 289, 290, 291, 292, 295, 298, 299, 307, 312, 313, 317, 181, 322, 324, 325, 326, 329, 212, 335, 336, 337, 342, 347, 352, 356, 360, 363, 109, 110, 111, 368, 369, 373, 378, 379, 381, 382, 387, 135, 393, 397, 399, 144, 145, 146, 147, 148, 406, 409, 410, 413, 415, 112, 421, 422, 171, 431, 179, 180, 437, 182, 183, 184, 441, 442, 444, 445, 446, 453, 457, 458, 468, 469, 214, 215, 216, 217, 218, 476, 221, 223, 224, 227, 484, 231, 489, 490, 491, 492, 497, 249, 251, 252, 253, 254, 255])\n",
        "295 257 0.000497407393115 0.07697976309 0.00971313391202 Too close to Null\n",
        "299 266 0.000397102784606 0.0563212417943 0.00971313391202 Too close to Null\n",
        "312 306 0.000398161906931 0.0550529162119 0.00971313391202 Too close to Null\n",
        "212 178 0.000293419362879 0.0390260002471 0.00971313391202 Too close to Null\n",
        "342 338 0.000280667331368 0.0258709063182 0.00971313391202 Too close to Null\n",
        "352 384 0.000937989442405 0.211535757309 0.00971313391202 Too close to Null\n",
        "109 73 0.00112383234365 0.104256270244 0.00971313391202 Too close to Null\n",
        "110 90 0.00184069485643 0.220033264737 0.00971313391202 Too close to Null\n",
        "111 96 0.00223925524505 0.241515092212 0.00971313391202 Too close to Null\n",
        "378 384 0.000937989442405 0.211535757309 0.00971313391202 Too close to Null\n",
        "382 338 0.000280667331368 0.0258709063182 0.00971313391202 Too close to Null\n",
        "135 116 0.000445845748896 0.0541314817515 0.00971313391202 Too close to Null\n",
        "147 177 0.000256525052737 0.0438266030328 0.00971313391202 Too close to Null\n",
        "148"
       ]
      },
      {
       "output_type": "stream",
       "stream": "stdout",
       "text": [
        " 137 0.000144679702972 0.0275086099144 0.00971313391202 Too close to Null\n",
        "410 438 0.00134766124779 0.167093122528 0.00971313391202 Too close to Null\n",
        "415 418 0.00205333286317 0.42216551733 0.00971313391202 Too close to Null\n",
        "112 73 0.00112383234365 0.104256270244 0.00971313391202 Too close to Null\n",
        "171 137 0.000144679702972 0.0275086099144 0.00971313391202 Too close to Null\n",
        "183 177 0.000256525052737 0.0438266030328 0.00971313391202 Too close to Null\n",
        "446 477 0.000246406918007 0.0371603643829 0.00971313391202 Too close to Null\n",
        "453 463 0.00131413434504 0.243371491389 0.00971313391202 Too close to Null\n",
        "214 177 0.000256525052737 0.0438266030328 0.00971313391202 Too close to Null\n",
        "221 243 0.000206244534274 0.0267832609899 0.00971313391202 Too close to Null\n",
        "227 209 0.000779397701159 0.108502574343 0.00971313391202 Too close to Null\n",
        "492 502 0.000362390799291 0.040637159098 0.00971313391202 Too close to Null\n",
        "249 209 0.000779397701159 0.108502574343 0.00971313391202 Too close to Null\n",
        "252 243 0.000206244534274 0.0267832609899 0.00971313391202 Too close to Null\n",
        "************ 19 distance from null= 0.693244549684\n",
        "19 20 0.20225463524 0.143377610398 0.693244549684\n",
        "19 36 0.229543361989 0.120268962808 0.693244549684\n",
        "************ 75 distance from null= 0.65141219062\n",
        "75 108 0.233557000418 0.163105432724 0.65141219062\n",
        "75 54 0.538974523128 1.83360465397 0.65141219062\n",
        "************ 15 distance from null= 0.624813739371\n",
        "15 16 0.158711841229 1.11915481611 0.624813739371  Adding\n",
        "15 40 0.1960687008 0.092880316303 0.696253371451\n",
        "15 60 0.202199306542 0.127221992248 0.696253371451\n",
        "set([16, 15])\n",
        "16 38 0.230615641486 0.168698197021 0.696253371451\n",
        "15 40 0.1960687008 0.092880316303 0.696253371451\n",
        "15 60 0.202199306542 0.127221992248 0.696253371451\n",
        "************ 360 distance from null= 0.5797778989\n",
        "360 325 0.0112325182237 0.768804220841 0.5797778989  Adding\n",
        "360 326 0.0625262969413 0.11026263791 0.668183516575\n",
        "360 393 0.187846336922 0.101022472714 0.668183516575\n",
        "360 397 0.106052710268 0.0288836765146 0.668183516575\n",
        "360 368 0.0433783125825 0.221809895639 0.668183516575  Adding\n",
        "360 406 0.0150581761925 0.372351181456 0.483488875902  Adding\n",
        "set([360, 368, 325, 406])\n",
        "360 393 0.113861807498 0.101022472714 0.441079665612\n",
        "360 397 0.0529629773027 0.0288836765146 0.441079665612\n",
        "360 326 0.0253756218962 0.11026263791 0.441079665612  Adding\n",
        "368 329 0.0301930252338 0.0919194578793 0.346599172485\n",
        "368 413 0.0135903072507 0.2351690109 0.346599172485  Adding\n",
        "368 326 0.0109016033628 0.11026263791 0.315124377669  Adding\n",
        "325 336 0.0225439863616 0.0942785214856 0.273657377999  Adding\n",
        "325 393 0.0486528540667 0.101022472714 0.231059508751\n",
        "325 322 0.00416256657354 0.100289351253 0.231059508751  Adding\n",
        "325 291 0.00683924764632 0.0969537772691 0.212213387438  Adding\n",
        "406 441 0.015785736237 0.021587169421 0.193535096379\n",
        "406 442 0.0114880192132 0.478322280142 0.193535096379  Adding\n",
        "406 397 0.0121969411638 0.0288836765146 0.205605014856\n",
        "406 413 0.00531492417761 0.2351690109 0.205605014856  Adding\n",
        "set([336, 322, 291, 325, 326, 360, 368, 406, 442, 413])\n",
        "336 393 0.0337361651019 0.101022472714 0.20269670369\n",
        "336 347 0.00502044911546 0.459577304705 0.20269670369  Adding\n",
        "336 379 0.0298008567258 0.0946033863327 0.21618020209\n",
        "336 307 0.00458761884404 0.126979859811 0.21618020209  Adding\n",
        "322 273 0.00446190539029 0.0861169512156 0.20521451192  Adding\n",
        "322 307 0.00310370739398 0.126979859811 0.192874269266  Adding\n",
        "291 273 0.00319067835223 0.0861169512156 0.185646012913  Adding\n",
        "291 290 0.00847983352427 0.0466098598224 0.176643929174  Adding\n",
        "291 253 0.00208334731801 0.301047368235 0.160966666899  Adding\n",
        "291 254 0.00215983447347 0.115717375409 0.166407588558  Adding\n",
        "325 393 0.019168314497 0.101022472714 0.161649706917  Adding\n",
        "326 329 0.00393568624931 0.0919194578793 0.139648876813  Adding\n",
        "326 290 0.00521750478691 0.0466098598224 0.133494300152  Adding\n",
        "360 393 0.0145986098752 0.101022472714 0.124521927853  Adding\n",
        "360 397 0.00344061070197 0.0288836765146 0.10896264776  Adding\n",
        "368 329 0.00269945901266 0.0919194578793 0.103091806614  Adding\n",
        "406 441 0.00409724378505 0.021587169421 0.0999485421388  Adding\n",
        "406 397 0.00272516059802 0.0288836765146 0.093312929337  Adding\n",
        "442 441 0.00350602940833 0.021587169421 0.0888207938645  Adding\n",
        "442 490 0.00203781103407 0.0758877001565 0.0832612814868  Adding\n",
        "442 444 0.000873427761372 0.0644688194384 0.0809784289492  Adding\n",
        "442 484 0.00446472913425 0.0428853191528 0.0796094370606  Adding\n",
        "413 444 0.000756146617571 0.0644688194384 0.0740672672375  Adding\n",
        "413 421 0.00135099073338 0.151958841264 0.0730393772517  Adding\n",
        "413 373 0.000463927631391 0.0802834740106 0.0739791132012  Adding\n",
        "set([393, 397, 273, 406, 413, 290, 291, 421, 307, 441, 442, 444, 322, 325, 326, 329, 336, 347, 484, 360, 490, 368, 373, 253, 254])\n",
        "393 379 0.00730854255463 0.0946033863327 0.0736897541858  Adding\n",
        "393 399 0.00842086449927 0.12726756427 0.0669061607298  Adding\n",
        "393 431 0.00935689203046 0.164213223902 0.0601284027144  Adding\n",
        "397 457 0.0060038541769 0.137632021285 0.0536208387437  Adding\n",
        "397 431 0.00817925826012 0.164213223902 0.0493119128525  Adding\n",
        "273 255 0.00310952339411 0.299757265143 0.0441341179918  Adding\n",
        "273 223 0.00129574511256 0.11973228946 0.0475977773042  Adding\n",
        "290 264 0.00422083761975 0.0718312812636 0.048080623555  Adding\n",
        "290 292 0.00159507544668 0.0820271559372 0.0444298484691  Adding\n",
        "421 409 0.00116504231756 0.0453987672732 0.0436871020226  Adding\n",
        "421 458 0.00106696494942 0.140251622157 0.042560371241  Adding\n",
        "421 381 0.000633842099366 0.0892234275786 0.0435319797008  Adding\n",
        "307 313 0.00485570953386 0.458818815086 0.0438608675448  Adding\n",
        "307 255 0.00247282077399 0.299757265143 0.0476900842858  Adding\n",
        "441 457 0.00459818867039 0.137632021285 0.050630867668  Adding\n",
        "441 489 0.00182522293814 0.025665451913 0.0474017817974  Adding\n",
        "444 497 0.000528721582835 0.0510490691517 0.0451699325773  Adding\n",
        "444 458 0.000884477249278 0.140251622157 0.0447467851176  Adding\n",
        "329 292 0.00125339805096 0.0820271559372 0.0456028517026  Adding\n",
        "329 356 0.000977182285344 0.0201342228831 0.0450269195658  Adding\n",
        "329 317 0.000832549511298 0.052634693481 0.0435787001712  Adding\n",
        "336 379 0.00365835476567 0.0946033863327 0.0429036866643  Adding\n",
        "347 369 0.00265063548103 0.340680428593 0.0400718469425  Adding\n",
        "347 379 0.00351262727883 0.0946033863327 0.0427519763657  Adding\n",
        "347 313 0.00400416239123 0.458818815086 0.0400410010799  Adding\n",
        "347 335 0.00317917890588 0.422608054778 0.0431059893014  Adding\n",
        "484 489 0.00147993827898 0.025665451913 0.0459555002173  Adding\n",
        "490 497 0.000441926281854 0.0510490691517 0.044161721964  Adding\n",
        "373 356 0.000820693022255 0.0201342228831 0.0438223761057  Adding\n",
        "253 217 0.00135731731021 0.0368461162578 0.0426148088554  Adding\n",
        "253 223 0.0008130599512 0.11973228946 0.041166558597  Adding\n",
        "254 264 0.00256077995373 0.0718312812636 0.041596958568  Adding\n",
        "254 217 0.00123512693378 0.0368461162578 0.039506031208  Adding\n",
        "254 231 0.000973990475493 0.0231356900128 0.0382308915323  Adding\n",
        "set([264, 273, 290, 291, 292, 307, 313, 317, 322, 325, 326, 329, 335, 336, 347, 356, 360, 368, 369, 373, 379, 381, 393, 397, 399, 406, 409, 413, 421, 431, 441, 442, 444, 457, 458, 217, 223, 484, 231, 489, 490, 497, 253, 254, 255])\n",
        "264 224 0.00155100100666 0.0386019862102 0.0370661815645  Adding\n",
        "264 251 0.00226241455584 0.0798673740559 0.0355372102971  Adding\n",
        "292 287 0.00165273166026 0.0599286507297 0.0338781504677  Adding\n",
        "313 298 0.00043465789826 0.0862204478955 0.0325880499638  Adding\n",
        "313 259 0.0013430911708 0.231739690484 0.0328854351876  Adding\n",
        "317 289 0.000798204566116 0.06471288289 0.0343580573582  Adding\n",
        "317 324 0.003368824806 0.126639671035 0.0339438917436  Adding\n",
        "317 287 0.00145863017353 0.0599286507297 0.0318520417521  Adding\n",
        "335 352 0.00124556644994 0.185000614409 0.0307586620512  Adding\n",
        "335 298 0.000401196651126 0.0862204478955 0.0314579077284  Adding\n",
        "335 378 0.00359417350802"
       ]
      },
      {
       "output_type": "stream",
       "stream": "stdout",
       "text": [
        " 0.48957954782 0.0317471694344  Adding\n",
        "356 363 0.000458581396807 0.107586955306 0.0340797255055  Adding\n",
        "356 324 0.00309435778153 0.126639671035 0.0345479233676  Adding\n",
        "369 378 0.00342447114549 0.48957954782 0.0326281681272  Adding\n",
        "369 415 0.00069000003769 0.172859003267 0.03489808726  Adding\n",
        "381 363 0.000430416813912 0.107586955306 0.0357937591076  Adding\n",
        "399 415 0.000656363996465 0.172859003267 0.0362252143743  Adding\n",
        "399 453 0.000616613396765 0.127586449304 0.0371029947871  Adding\n",
        "399 437 0.00180707752289 0.0603932229018 0.0375076569484  Adding\n",
        "409 363 0.000408123001056 0.107586955306 0.035958165575  Adding\n",
        "409 387 0.00377703984507 0.205850448386 0.0363716930131  Adding\n",
        "409 445 0.000455967405658 0.08897341112 0.0345471339713  Adding\n",
        "409 422 0.000876934551831 0.0425387620343 0.0347101037407  Adding\n",
        "431 437 0.00164317697184 0.0603932229018 0.0339128421706  Adding\n",
        "457 468 0.000576563057204 0.031561250246 0.0325516226008  Adding\n",
        "457 437 0.00156411227729 0.0603932229018 0.0319637212373  Adding\n",
        "458 491 0.0014550048931 0.299989319068 0.0306957375694  Adding\n",
        "458 445 0.000430250336334 0.08897341112 0.031932336708  Adding\n",
        "217 180 0.00257534389098 0.110732512067 0.0321107317427  Adding\n",
        "217 182 0.00336517570304 0.193006891655 0.0304412341264  Adding\n",
        "217 215 0.00168620599782 0.085564190071 0.0287908491271  Adding\n",
        "223 180 0.00234993016368 0.110732512067 0.0276553444463  Adding\n",
        "231 224 0.000866940580452 0.0386019862102 0.0262328401645  Adding\n",
        "231 215 0.00155948271041 0.085564190071 0.0254871401453  Adding\n",
        "489 468 0.000465681960348 0.031561250246 0.0244928826909  Adding\n",
        "497 491 0.00144661973112 0.299989319068 0.0241001239489  Adding\n",
        "255 216 0.000655684354002 0.144859137408 0.0251668509951  Adding\n",
        "255 218 0.000347220320365 0.0679448692637 0.0256527806705  Adding\n",
        "255 259 0.00102798380143 0.231739690484 0.0256817124805  Adding\n",
        "set([259, 264, 393, 215, 397, 399, 273, 387, 406, 409, 491, 413, 445, 287, 289, 290, 291, 292, 421, 422, 497, 298, 431, 307, 180, 437, 182, 457, 313, 442, 415, 444, 317, 352, 322, 324, 325, 326, 329, 458, 484, 335, 336, 453, 468, 441, 216, 217, 218, 347, 223, 224, 251, 356, 231, 360, 489, 490, 363, 253, 368, 369, 373, 378, 379, 381, 254, 255])\n",
        "259 252 0.00016671317261 0.0610270594426 0.0266445727513  Adding\n",
        "259 221 0.00159189979731 0.0982733431853 0.0268051724264  Adding\n",
        "215 179 0.00122324121436 0.0661203586747 0.0258526841166  Adding\n",
        "215 183 0.00154872103528 0.0861200549282 0.0249657437821  Adding\n",
        "387 337 0.000856777624265 0.0613174716028 0.0239643808532  Adding\n",
        "387 410 0.000395318946196 0.0572516187456 0.0234381476373  Adding\n",
        "387 382 0.000535614844545 0.0318740319167 0.023330564874  Adding\n",
        "491 476 0.000461088623453 0.0305445006911 0.0228715764484  Adding\n",
        "445 476 0.000450766314679 0.0305445006911 0.0224720222361  Adding\n",
        "445 446 0.00169780636437 0.119390423726 0.0220854795769  Adding\n",
        "287 256 0.000433273674818 0.0304791109578 0.0211900451119  Adding\n",
        "287 227 0.000646405350591 0.0436201939648 0.0208343757171  Adding\n",
        "289 256 0.000413534999505 0.0304791109578 0.0203795738018  Adding\n",
        "422 410 0.000351188631093 0.0572516187456 0.0200490171537  Adding\n",
        "422 446 0.00157226276229 0.119390423726 0.0199940642723  Adding\n",
        "298 312 0.000272353555602 0.0167018751735 0.0192084750641  Adding\n",
        "298 252 0.000163739446831 0.0610270594426 0.0189157969568  Adding\n",
        "180 145 0.000243427498316 0.0269821419729 0.0191024432708  Adding\n",
        "180 146 0.000271357238964 0.0397218420498 0.0189236859035  Adding\n",
        "180 181 0.00276041104542 0.232099677093 0.0188208967196  Adding\n",
        "437 469 0.00152512565782 0.125460116128 0.0178437568577  Adding\n",
        "182 144 0.000462979044276 0.0270660716252 0.0170929639393  Adding\n",
        "182 145 0.000223985063193 0.0269821419729 0.0167084507099  Adding\n",
        "182 179 0.000859362819114 0.0661203586747 0.0165655120299  Adding\n",
        "415 418 0.00213708792678 0.42216551733 0.0160545627682  Adding\n",
        "415 463 0.00132584905785 0.243371491389 0.0169082957742  Adding\n",
        "352 384 0.000901030346307 0.211535757309 0.0173012160761  Adding\n",
        "352 312 0.000237563387879 0.0167018751735 0.0179046887843  Adding\n",
        "352 351 0.000215967605623 0.0796433810533 0.017658242387  Adding\n",
        "324 337 0.00060797261413 0.0613174716028 0.0178805984158  Adding\n",
        "324 299 0.00102217135175 0.106368433253 0.0175876945459  Adding\n",
        "453 492 0.000438720852342 0.032002171144 0.0172088818215  Adding\n",
        "453 469 0.00137522463535 0.125460116128 0.0168652353719  Adding\n",
        "453 463 0.00126664397902 0.243371491389 0.0162057173343  Adding\n",
        "468 469 0.00135028521299 0.125460116128 0.0165674992398  Adding\n",
        "216 181 0.00236642954098 0.232099677093 0.0159251063175  Adding\n",
        "218 184 0.00137610200061 0.119326076227 0.0151678863147  Adding\n",
        "218 181 0.00227446104745 0.232099677093 0.0145431269179  Adding\n",
        "218 221 0.00102558794031 0.0982733431853 0.0138646855856  Adding\n",
        "224 214 0.0012786377725 0.155928498858 0.0134053285709  Adding\n",
        "224 183 0.000944632288739 0.0861200549282 0.0130661946436  Adding\n",
        "251 227 0.000415063906237 0.0436201939648 0.0126137888195  Adding\n",
        "251 214 0.00122051519601 0.155928498858 0.0124073147786  Adding\n",
        "363 337 0.000476745840009 0.0613174716028 0.0121141549573  Adding\n",
        "378 384 0.000890241238691 0.211535757309 0.0119616123773  Adding\n",
        "378 418 0.00196829084822 0.42216551733 0.012435968538  Adding\n",
        "set([256, 259, 264, 273, 287, 289, 290, 291, 292, 298, 299, 307, 312, 313, 317, 181, 322, 324, 325, 326, 329, 335, 336, 337, 347, 351, 352, 356, 360, 363, 368, 369, 373, 378, 379, 381, 382, 384, 387, 393, 397, 399, 144, 145, 146, 406, 409, 410, 413, 415, 418, 421, 422, 431, 179, 180, 437, 182, 183, 184, 441, 442, 444, 445, 446, 453, 457, 458, 463, 468, 469, 214, 215, 216, 217, 218, 476, 221, 223, 224, 227, 484, 231, 489, 490, 491, 492, 497, 251, 252, 253, 254, 255])\n",
        "256 249 0.000413303820164 0.0674220130068 0.0130739484762  Adding\n",
        "299 266 0.000434389561578 0.0563212417943 0.0130165734795  Adding\n",
        "299 295 0.00020863467095 0.0311203287706 0.0128594392818  Adding\n",
        "312 306 0.000435135720704 0.0550529162119 0.0127718761781  Adding\n",
        "312 263 0.000725643932419 0.0896609118124 0.0126113036976  Adding\n",
        "337 342 0.000282574148419 0.0568474483004 0.0123597361347  Adding\n",
        "337 295 0.000195688715442 0.0311203287706 0.0123549808259  Adding\n",
        "351 372 0.000725899881211 0.197463627301 0.0122805835705  Adding\n",
        "382 338 0.000288569890634 0.0258709063182 0.0127210290439  Adding\n",
        "382 342 0.000271031122183 0.0568474483004 0.0125152900888  Adding\n",
        "382 407 0.000233765573979 0.0158058133615 0.0125142090185  Adding\n",
        "384 412 0.000178219211803 0.044563994372 0.0123003475922  Adding\n",
        "384 427 0.00149796075274 0.362745619879 0.012312680114  Adding\n",
        "384 372 0.000686971347463 0.197463627301 0.0129133936396  Adding\n",
        "144 110 0.000351887295815 0.0520404773527 0.0133471056645  Adding\n",
        "144 135 0.000391241180508 0.0400845281534 0.0132327369304  Adding\n",
        "145 109 0.00106620694861 0.152650454158 0.0130031140416  Adding\n",
        "145 110 0.000341049602177 0.0520404773527 0.0126288109106  Adding\n",
        "146 112 0.000341830037865 0.0621912039063 0.0125255975406  Adding\n",
        "146 148 0.000617244907232 0.0948832007822 0.0124181468058  Adding\n",
        "146 109 0.00102743366427 0.152650454158 0.0122854406515  Adding\n",
        "146 111 0.000447337547841 0.0650726083054 0.0119386485438  Adding\n",
        "410 438 0.00126132213812 0.167093122528 0.0117244179203  Adding\n",
        "410 407 0.000207681395066 0.0158058133615 0.0113722683203  Adding\n",
        "418 427 0.00142995980854 0.362745619879 0.0111895183135  Adding\n",
        "179 147 0.00133136731286 0.185312584137 0.0117298685713  Adding\n",
        "179 135 0.000352288949458 0.0400845281534 0.0113447769935  Adding\n",
        "183 177 0.000223701576343 0.0438266030328 0.0111555289538  Adding\n",
        "183 147 0.00129102502495 0.185312584137 0.0111142584237  Adding\n",
        "184 148 0.000561648983116 0.0948832007822 0.0107571711319  Adding\n",
        "184 171 0.000706896579946 0.0968488804494 0.0106637898281  Adding\n",
        "184 212 0.000432263284096 0.0602418034005 0.0104138472863  Adding\n",
        "446 477 0.000207457910451 0.0371603643829 0.0102493472136  Adding\n",
        "446 438 0.00112840829059 0.167093122528 0.0101776883131  Adding\n",
        "463"
       ]
      },
      {
       "output_type": "stream",
       "stream": "stdout",
       "text": [
        " 496 0.000538926847977 0.12360323906 0.00991380538661 Too close to Null\n",
        "214 177 0.000206016818039 0.0438266030328 0.00991380538661 Too close to Null\n",
        "221 243 0.000168162252852 0.0267832609899 0.00991380538661 Too close to Null\n",
        "227 209 0.000641519128725 0.108502574343 0.00991380538661 Too close to Null\n",
        "492 502 0.000305382693246 0.040637159098 0.00991380538661 Too close to Null\n",
        "252 243 0.000168162252852 0.0267832609899 0.00991380538661 Too close to Null\n",
        "set([256, 259, 263, 264, 266, 273, 171, 287, 289, 290, 291, 292, 295, 298, 299, 477, 306, 307, 312, 313, 317, 437, 322, 324, 325, 326, 329, 212, 335, 336, 337, 338, 342, 347, 351, 352, 356, 438, 360, 363, 109, 110, 111, 368, 369, 372, 373, 378, 379, 381, 382, 384, 387, 135, 393, 397, 399, 144, 145, 146, 147, 148, 406, 407, 409, 410, 412, 413, 415, 112, 418, 421, 422, 427, 431, 177, 179, 180, 181, 182, 183, 184, 441, 442, 444, 445, 446, 453, 457, 458, 463, 468, 469, 214, 215, 216, 217, 218, 476, 221, 223, 224, 227, 484, 231, 489, 490, 491, 492, 497, 249, 251, 252, 253, 254, 255])\n",
        "263 226 0.000499989167777 0.0678158672075 0.00991380538661 Too close to Null\n",
        "266 257 0.000399603204359 0.07697976309 0.00991380538661 Too close to Null\n",
        "171 137 0.000124404666975 0.0275086099144 0.00991380538661 Too close to Null\n",
        "295 257 0.000399603204359 0.07697976309 0.00991380538661 Too close to Null\n",
        "477 474 0.000915408611477 0.147946015709 0.00991380538661 Too close to Null\n",
        "306 305 0.00036695940496 0.0562474931537 0.00991380538661 Too close to Null\n",
        "212 178 0.00024355612237 0.0390260002471 0.00991380538661 Too close to Null\n",
        "338 323 0.000172280965384 0.031352468025 0.00991380538661 Too close to Null\n",
        "342 300 0.000441859325242 0.0700024695898 0.00991380538661 Too close to Null\n",
        "438 474 0.000915408611477 0.147946015709 0.00991380538661 Too close to Null\n",
        "109 73 0.000945805041107 0.104256270244 0.00991380538661 Too close to Null\n",
        "110 90 0.00155396803188 0.220033264737 0.00991380538661 Too close to Null\n",
        "111 96 0.00187748243511 0.241515092212 0.00991380538661 Too close to Null\n",
        "372 377 0.000215266526753 0.0516867087169 0.00991380538661 Too close to Null\n",
        "135 116 0.000370820764751 0.0541314817515 0.00991380538661 Too close to Null\n",
        "147 116 0.000370820764751 0.0541314817515 0.00991380538661 Too close to Null\n",
        "148 137 0.000124404666975 0.0275086099144 0.00991380538661 Too close to Null\n",
        "407 439 0.000213016257341 0.0325543537846 0.00991380538661 Too close to Null\n",
        "412 452 0.000801778642698 0.208721122474 0.00991380538661 Too close to Null\n",
        "112 73 0.000945805041107 0.104256270244 0.00991380538661 Too close to Null\n",
        "427 465 0.000196793679728 0.050754124748 0.00991380538661 Too close to Null\n",
        "177 141 0.00067642933781 0.0836544063186 0.00991380538661 Too close to Null\n",
        "463 496 0.000538926847977 0.12360323906 0.00991380538661 Too close to Null\n",
        "214 185 0.000363702729375 0.0560086669473 0.00991380538661 Too close to Null\n",
        "221 243 0.000168162252852 0.0267832609899 0.00991380538661 Too close to Null\n",
        "227 209 0.000641519128725 0.108502574343 0.00991380538661 Too close to Null\n",
        "492 502 0.000305382693246 0.040637159098 0.00991380538661 Too close to Null\n",
        "249 209 0.000641519128725 0.108502574343 0.00991380538661 Too close to Null\n",
        "252 243 0.000168162252852 0.0267832609899 0.00991380538661 Too close to Null\n",
        "************ 17 distance from null= 0.531303711486\n",
        "17 18 0.0847223085351 0.28044813007 0.531303711486\n",
        "17 45 0.173645864281 0.127235865149 0.531303711486\n",
        "17 39 0.226807382796 0.199119582418 0.531303711486\n",
        "************ 378 distance from null= 0.48957954782\n",
        "378 352 0.0708204924082 0.185000614409 0.48957954782\n",
        "378 384 0.0400416486856 0.211535757309 0.48957954782  Adding\n",
        "378 418 0.0145056883737 0.42216551733 0.309651571891  Adding\n",
        "378 335 0.00427958996387 0.422608054778 0.331173708242  Adding\n",
        "378 369 0.00694109080451 0.340680428593 0.348860203896  Adding\n",
        "378 415 0.00765263961015 0.172859003267 0.340254745581  Adding\n",
        "set([384, 418, 335, 369, 378, 415])\n",
        "384 352 0.0187164513943 0.185000614409 0.305789008891  Adding\n",
        "384 412 0.0173492506518 0.044563994372 0.270146446153\n",
        "384 427 0.00274004510195 0.362745619879 0.270146446153  Adding\n",
        "384 372 0.00604139487916 0.197463627301 0.278990158869  Adding\n",
        "384 351 0.00965623850051 0.0796433810533 0.263721936768  Adding\n",
        "418 427 0.00231880024244 0.362745619879 0.236210387655  Adding\n",
        "418 463 0.00842621609531 0.243371491389 0.245413307901  Adding\n",
        "335 352 0.00707628972032 0.185000614409 0.236814144108  Adding\n",
        "335 313 0.00551053239807 0.458818815086 0.225825282308  Adding\n",
        "335 298 0.0056283227619 0.0862204478955 0.237147240677  Adding\n",
        "335 347 0.00437324666034 0.459577304705 0.221520303308  Adding\n",
        "369 347 0.00356867697706 0.459577304705 0.231731910569  Adding\n",
        "369 399 0.0316394828284 0.12726756427 0.241316603551  Adding\n",
        "378 352 0.00438172421228 0.185000614409 0.203231947501  Adding\n",
        "415 399 0.0249113230083 0.12726756427 0.197906440554  Adding\n",
        "415 453 0.00219046141004 0.127586449304 0.169402330738  Adding\n",
        "415 463 0.00389666613701 0.243371491389 0.165254800022  Adding\n",
        "set([384, 453, 463, 399, 335, 351, 352, 418, 347, 298, 427, 369, 372, 313, 378, 415])\n",
        "384 412 0.00370030882613 0.044563994372 0.164976343391  Adding\n",
        "453 492 0.00867672024516 0.032002171144 0.156126595113\n",
        "453 469 0.0183725489225 0.125460116128 0.156126595113  Adding\n",
        "453 437 0.012009144179 0.0603932229018 0.136561216418  Adding\n",
        "463 496 0.00275511354179 0.12360323906 0.121523006986  Adding\n",
        "463 492 0.00627255514677 0.032002171144 0.118844273337  Adding\n",
        "463 502 0.00446525330971 0.040637159098 0.109646909649  Adding\n",
        "399 393 0.0116314994272 0.101022472714 0.10299741188  Adding\n",
        "399 379 0.00918509797872 0.0946033863327 0.0912950886034  Adding\n",
        "399 437 0.00718879996436 0.0603932229018 0.0822120781752  Adding\n",
        "399 431 0.0112538545268 0.164213223902 0.0743161571334  Adding\n",
        "351 312 0.00260598537596 0.0167018751735 0.0660533134408  Adding\n",
        "352 312 0.00238232005577 0.0167018751735 0.0619240930757  Adding\n",
        "347 336 0.00230832661753 0.0942785214856 0.0581877777962  Adding\n",
        "347 379 0.00606486313175 0.0946033863327 0.0568687391545  Adding\n",
        "347 307 0.00155700893211 0.126979859811 0.0517741699739  Adding\n",
        "298 312 0.00190532774083 0.0167018751735 0.0523747837691  Adding\n",
        "298 259 0.00192960113821 0.231739690484 0.0495127651358  Adding\n",
        "298 252 0.000639704651772 0.0610270594426 0.0525286074022  Adding\n",
        "427 465 0.000809175033491 0.050754124748 0.0521123089574  Adding\n",
        "427 412 0.000742156217321 0.044563994372 0.0512715470062  Adding\n",
        "427 452 0.00186932617548 0.208721122474 0.0503707387214  Adding\n",
        "372 377 0.00190445560245 0.0516867087169 0.0522263787181  Adding\n",
        "372 346 0.000696789652184 0.118188172671 0.0503099356465  Adding\n",
        "372 412 0.000652347379679 0.044563994372 0.0511108525324  Adding\n",
        "372 333 0.00227441402993 0.0454499781251 0.0503170418084  Adding\n",
        "372 414 0.00157961532237 0.0471810870807 0.0479387770335  Adding\n",
        "313 259 0.00158444767697 0.231739690484 0.0463438369513  Adding\n",
        "313 307 0.00100695898646 0.126979859811 0.0487635705752  Adding\n",
        "set([384, 259, 452, 453, 393, 333, 463, 336, 465, 335, 469, 377, 346, 399, 412, 414, 351, 352, 418, 347, 379, 298, 427, 492, 431, 496, 369, 307, 372, 437, 502, 312, 313, 378, 415, 252])\n",
        "259 218 0.000723211188261 0.0679448692637 0.0494116182456  Adding\n",
        "259 221 0.00378636587567 0.0982733431853 0.0490388575652  Adding\n",
        "259 255 0.00253429216256 0.299757265143 0.0461973483158  Adding\n",
        "452 488 0.000689429211636 0.0514097457426 0.0487915275385  Adding\n",
        "452 451 0.000652863729655 0.0581868636435 0.0481495464151  Adding\n",
        "452 487 0.00140058101223 0.140067206226 0.0476770298711  Adding\n",
        "393 360 0.00549397263198 0.5797778989 0.0478978870463  Adding\n",
        "393 325 0.00801236511864 0.768804220841 0.0521618656229  Adding\n",
        "333 305 0.00273925338496 0.0562474931537 0.058511048105  Adding\n",
        "333 306 0.00234406825704 0.0550529162119 0.0557337570874  Adding\n",
        "333 341 0.00195924276645 0.0400680249333 0.0533779547997  Adding\n",
        "333 294 0.00203790880018 0.0970611341056 0.051193451962  Adding\n",
        "336 322 0.000346204103813 0.100289351253 0.0499361633462  Adding\n",
        "336 325 0.00712614509695 0.768804220841 0.0504494145561  Adding\n",
        "465 488 0.000667998951383 0.0514097457426 0.0562970840559  Adding\n",
        "469 468 0.00111353700341 0.031561250246 0.0555561083593  Adding\n",
        "377 425 0.00453005304726 0.137210496873 0.0540510626522  Adding\n",
        "377 386 0.00241706866604 0.0611387149462 0.0507536926795  Adding\n",
        "377 341 0.00163502466639 0.0400680249333 0.0484916300416  Adding\n",
        "346"
       ]
      },
      {
       "output_type": "stream",
       "stream": "stdout",
       "text": [
        " 306 0.0017835685411 0.0550529162119 0.046731304024  Adding\n",
        "414 425 0.00395864663144 0.137210496873 0.0450698383239  Adding\n",
        "414 451 0.000512208673447 0.0581868636435 0.0423989060128  Adding\n",
        "431 457 0.00290267191502 0.137632021285 0.0421012074979  Adding\n",
        "431 397 0.000688059203241 0.0288836765146 0.0402359486629  Adding\n",
        "496 488 0.000518971799245 0.0514097457426 0.0394265928219  Adding\n",
        "307 273 0.000528973214515 0.0861169512156 0.0390633791233  Adding\n",
        "307 322 0.000342501601379 0.100289351253 0.0391803096573  Adding\n",
        "307 255 0.00175534004569 0.299757265143 0.039691900169  Adding\n",
        "437 457 0.0026838260339 0.137632021285 0.0414897933519  Adding\n",
        "437 468 0.00076381081201 0.031561250246 0.0397739998048  Adding\n",
        "312 306 0.00141749497713 0.0550529162119 0.038899111838  Adding\n",
        "312 263 0.00219766530609 0.0896609118124 0.0376875279474  Adding\n",
        "252 243 0.000794254947547 0.0267832609899 0.0361138869384  Adding\n",
        "252 221 0.00214918461843 0.0982733431853 0.0351964229344  Adding\n",
        "252 263 0.00203124649142 0.0896609118124 0.0337914102881  Adding\n",
        "set([384, 386, 259, 341, 263, 393, 397, 399, 273, 412, 218, 414, 415, 418, 347, 325, 425, 298, 427, 431, 305, 306, 307, 437, 312, 313, 360, 322, 451, 452, 453, 457, 333, 463, 336, 465, 468, 469, 346, 335, 221, 351, 352, 294, 487, 488, 492, 496, 369, 243, 372, 502, 377, 378, 379, 252, 255])\n",
        "386 400 0.00172133144966 0.0677654327619 0.0324067297301  Adding\n",
        "386 361 0.00163986783067 0.0731550926821 0.0310980710082  Adding\n",
        "341 361 0.00158346816503 0.0731550926821 0.0299517769046  Adding\n",
        "341 327 0.000454452018384 0.0540898625552 0.0288694538208  Adding\n",
        "263 226 0.00166661264667 0.0678158672075 0.0286930215475  Adding\n",
        "397 441 0.000597148150332 0.021587169421 0.0274944035244  Adding\n",
        "397 406 0.0023880457973 0.372351181456 0.0268383960042  Adding\n",
        "273 291 0.000476847655568 0.0969537772691 0.0283928719968  Adding\n",
        "273 253 0.00169135499828 0.301047368235 0.0287232036615  Adding\n",
        "273 223 0.000663487401706 0.11973228946 0.0301303203729  Adding\n",
        "218 216 0.000765871130581 0.144859137408 0.0304525822189  Adding\n",
        "218 184 0.00250573551143 0.119326076227 0.0308962802987  Adding\n",
        "218 181 0.00394825477639 0.232099677093 0.0293452068726  Adding\n",
        "325 291 0.000440666268709 0.0969537772691 0.0276149629624  Adding\n",
        "425 400 0.00135773078707 0.0677654327619 0.0279384421656  Adding\n",
        "425 450 0.00157851816976 0.085280307178 0.0269783823389  Adding\n",
        "425 436 0.000504693102944 0.0334332759602 0.0259458989908  Adding\n",
        "305 286 0.000482647913825 0.030109866547 0.0255125448702  Adding\n",
        "305 262 0.0011468363145 0.0876651731723 0.0250734771156  Adding\n",
        "306 262 0.0011143771019 0.0876651731723 0.0245422860768  Adding\n",
        "360 368 0.00103355423868 0.221809895639 0.0240427316587  Adding\n",
        "360 406 0.00209921842451 0.372351181456 0.0249009325532  Adding\n",
        "360 326 0.000461384015426 0.11026263791 0.0261951987379  Adding\n",
        "322 291 0.000393008421098 0.0969537772691 0.026605633303  Adding\n",
        "451 483 0.000335568460457 0.0813123104129 0.0269154458744  Adding\n",
        "457 489 0.000634419856765 0.025665451913 0.0270610792834  Adding\n",
        "457 441 0.000480342812158 0.021587169421 0.0264146476531  Adding\n",
        "468 489 0.00060942410392 0.025665451913 0.0258954362247  Adding\n",
        "221 184 0.00198509272962 0.119326076227 0.0252840652687  Adding\n",
        "221 212 0.00099195275506 0.0602418034005 0.024161077459  Adding\n",
        "294 293 0.000681206782873 0.029446045927 0.0234818648797  Adding\n",
        "294 261 0.000915831388355 0.068525487473 0.0228526266735  Adding\n",
        "294 286 0.000385500233866 0.030109866547 0.0223311501567  Adding\n",
        "294 327 0.000308761380811 0.0540898625552 0.0220099270756  Adding\n",
        "243 212 0.000905917906053 0.0602418034005 0.0219643189555  Adding\n",
        "243 213 0.000843950286634 0.0545117026269 0.0213764401733  Adding\n",
        "255 216 0.000664189037655 0.144859137408 0.0208000514188  Adding\n",
        "set([384, 386, 259, 261, 262, 263, 393, 213, 397, 399, 400, 273, 286, 406, 184, 412, 346, 414, 415, 368, 418, 291, 293, 294, 369, 425, 298, 427, 431, 305, 306, 307, 436, 437, 312, 313, 223, 181, 322, 451, 452, 325, 326, 327, 457, 333, 463, 336, 465, 335, 453, 468, 341, 450, 441, 216, 218, 347, 221, 351, 352, 226, 483, 212, 487, 360, 361, 492, 255, 496, 488, 243, 372, 502, 489, 377, 378, 379, 252, 253, 469])\n",
        "261 250 0.000324984441121 0.0320929361812 0.0211657457856  Adding\n",
        "261 222 0.00060617086794 0.0368308062977 0.0209286485128  Adding\n",
        "261 230 0.000445619347802 0.0334371263427 0.0204524743763  Adding\n",
        "262 250 0.000308073332927 0.0320929361812 0.0201113231464  Adding\n",
        "213 178 0.000499173423243 0.0390260002471 0.0198973165499  Adding\n",
        "400 428 0.000225613676956 0.0169069487403 0.0195377895153  Adding\n",
        "400 389 0.000339199693115 0.0573322856704 0.0192926549087  Adding\n",
        "286 250 0.000289980465773 0.0320929361812 0.0192645889618  Adding\n",
        "406 442 0.00252265971922 0.478322280142 0.019072284675  Adding\n",
        "406 413 0.00105733117128 0.2351690109 0.0199109595166  Adding\n",
        "184 171 0.00123434969707 0.0968488804494 0.0205283071927  Adding\n",
        "184 148 0.000918050544571 0.0948832007822 0.0198559897977  Adding\n",
        "368 329 0.00045752052511 0.0919194578793 0.019510505972  Adding\n",
        "368 413 0.00102341842076 0.2351690109 0.0196272298982  Adding\n",
        "291 290 0.000326628539905 0.0466098598224 0.0202301810453  Adding\n",
        "291 254 0.000441331166397 0.115717375409 0.0201037531635  Adding\n",
        "293 321 0.000395245088648 0.0730980623308 0.0204050298138  Adding\n",
        "293 260 0.000807947501526 0.0778353335464 0.020400797677  Adding\n",
        "293 284 0.000262855503878 0.0257953389494 0.0200028053631  Adding\n",
        "436 464 0.000395733502966 0.0291145329909 0.0197806144399  Adding\n",
        "436 482 0.00107314892951 0.103557581086 0.0194457467698  Adding\n",
        "436 428 0.000186030840838 0.0169069487403 0.0189617856971  Adding\n",
        "223 217 0.00045176920019 0.0368461162578 0.0187622165175  Adding\n",
        "223 180 0.00137990516163 0.110732512067 0.0184378891489  Adding\n",
        "181 146 0.000231470746082 0.0397218420498 0.0177711300609  Adding\n",
        "181 180 0.00133865594217 0.110732512067 0.017693198882  Adding\n",
        "326 329 0.000407393477674 0.0919194578793 0.0170629789125  Adding\n",
        "326 290 0.000275302364539 0.0466098598224 0.0171919355947  Adding\n",
        "327 355 0.00029279907564 0.0376929063165 0.0171200128833  Adding\n",
        "450 482 0.000957939558325 0.103557581086 0.0169648255472  Adding\n",
        "441 442 0.00224102199091 0.478322280142 0.0165761115071  Adding\n",
        "441 484 0.000469734954511 0.0428853191528 0.0172183318209  Adding\n",
        "216 180 0.00125649699249 0.110732512067 0.0169068979258  Adding\n",
        "226 192 0.000646781834923 0.061041280856 0.016331903486  Adding\n",
        "226 250 0.000213080936437 0.0320929361812 0.0159731068452  Adding\n",
        "226"
       ]
      },
      {
       "output_type": "stream",
       "stream": "stdout",
       "text": [
        " 211 0.00155344677226 0.168744246029 0.0158612788139  Adding\n",
        "212 178 0.000338004994024 0.0390260002471 0.0152977913249  Adding\n",
        "212 171 0.000913200294719 0.0968488804494 0.0150976866682  Adding\n",
        "361 355 0.000263260804178 0.0376929063165 0.0146831701468  Adding\n",
        "361 389 0.000263178667344 0.0573322856704 0.0145643027707  Adding\n",
        "489 484 0.00041966769531 0.0428853191528 0.0145786909549  Adding\n",
        "253 217 0.000373355242366 0.0368461162578 0.014323907543  Adding\n",
        "253 254 0.000422355597213 0.115717375409 0.014090526112  Adding\n",
        "set([259, 260, 261, 262, 263, 469, 273, 171, 284, 286, 290, 291, 293, 294, 298, 305, 306, 307, 312, 313, 181, 321, 322, 325, 326, 327, 329, 333, 335, 336, 341, 346, 347, 351, 352, 355, 360, 361, 368, 369, 372, 377, 378, 379, 384, 386, 389, 393, 397, 399, 400, 482, 146, 148, 406, 412, 413, 414, 415, 418, 425, 427, 428, 431, 180, 178, 436, 437, 184, 441, 442, 192, 450, 451, 452, 453, 457, 463, 464, 465, 211, 468, 213, 216, 217, 218, 221, 222, 223, 226, 483, 484, 230, 487, 488, 489, 492, 496, 243, 502, 212, 250, 252, 253, 254, 255])\n",
        "260 248 0.000305280617494 0.0272532718262 0.0143267359164  Adding\n",
        "171 137 0.000140686094523 0.0275086099144 0.0140997674234  Adding\n",
        "171 143 0.000291380630298 0.0207106691397 0.01404283884  Adding\n",
        "284 248 0.000295229782849 0.0272532718262 0.0137912450764  Adding\n",
        "284 265 0.000128672186451 0.0138018147433 0.0135760992505  Adding\n",
        "284 311 0.000133530476773 0.0280237030762 0.0134487648606  Adding\n",
        "290 264 0.000602447326921 0.0718312812636 0.0134009949234  Adding\n",
        "290 292 0.000345015482125 0.0820271559372 0.0131504961183  Adding\n",
        "321 332 0.000255862615235 0.0219357255187 0.0132040967819  Adding\n",
        "321 311 0.00012631418328 0.0280237030762 0.0129989952971  Adding\n",
        "329 292 0.000334053642924 0.0820271559372 0.012959039931  Adding\n",
        "329 356 0.000150870443447 0.0201342228831 0.0130178550309  Adding\n",
        "329 373 0.000204021053325 0.0802834740106 0.0129087154913  Adding\n",
        "329 317 0.000200235514271 0.052634693481 0.0130739330464  Adding\n",
        "355 332 0.000244958531627 0.0219357255187 0.0130883797838  Adding\n",
        "355 367 0.000427155258309 0.0505755671523 0.012893139604  Adding\n",
        "389 404 0.000229038766217 0.0492799430728 0.012666875995  Adding\n",
        "389 367 0.000417581704748 0.0505755671523 0.0126413075559  Adding\n",
        "482 501 0.000228234155562 0.0323350386042 0.0124237756088  Adding\n",
        "146 112 0.000298747320646 0.0621912039063 0.0122938117632  Adding\n",
        "146 145 0.000147132251413 0.0269821419729 0.0122146645438  Adding\n",
        "146 109 0.000998326799215 0.152650454158 0.0121494493539  Adding\n",
        "146 111 0.000413198141384 0.0650726083054 0.01178691452  Adding\n",
        "148 137 0.000118783059971 0.0275086099144 0.011591937569  Adding\n",
        "148 111 0.000404713596844 0.0650726083054 0.0115612714684  Adding\n",
        "413 444 0.00017745071837 0.0644688194384 0.0113736059626  Adding\n",
        "413 421 0.000491773436035 0.151958841264 0.0114592403177  Adding\n",
        "413 373 0.000198134179837 0.0802834740106 0.0116987293732  Adding\n",
        "428 456 0.000395016550853 0.0411148341755 0.0118490487403  Adding\n",
        "428 404 0.000215724899098 0.0492799430728 0.0115969233339  Adding\n",
        "180 145 0.000136198489655 0.0269821419729 0.0115776587045  Adding\n",
        "178 143 0.000225908011282 0.0207106691397 0.0115228285837  Adding\n",
        "442 490 0.000265163748466 0.0758877001565 0.0113438905193  Adding\n",
        "442 444 0.000165926701132 0.0644688194384 0.0114100277429  Adding\n",
        "192 168 0.000345882467312 0.0362492044227 0.0114965027129  Adding\n",
        "192 160 0.00065144098617 0.0858514327018 0.0112843112527  Adding\n",
        "464 456 0.000370622456133 0.0411148341755 0.0109940708842  Adding\n",
        "464 501 0.000200970044222 0.0323350386042 0.0107646720496  Adding\n",
        "464 495 9.06271509582e-05 0.0353103574534 0.0106606636413  Adding\n",
        "211 168 0.000327839095375 0.0362492044227 0.0106854018862  Adding\n",
        "211 204 0.000160080126824 0.0210193975469 0.0104923551404  Adding\n",
        "217 215 0.000581063949708 0.085564190071 0.010384973487  Adding\n",
        "217 182 0.00119717455112 0.193006891655 0.010156873677  Adding\n",
        "217 231 0.000188855366811 0.0231356900128 0.00987954476035 Too close to Null\n",
        "222 208 0.000128905711176 0.0165170024193 0.00987954476035 Too close to Null\n",
        "484 490 0.000254779315978 0.0758877001565 0.00987954476035 Too close to Null\n",
        "230 204 0.000153582662517 0.0210193975469 0.00987954476035 Too close to Null\n",
        "254 264 0.000452510990828 0.0718312812636 0.00987954476035 Too close to Null\n",
        "set([259, 260, 261, 262, 263, 264, 265, 273, 284, 427, 286, 290, 291, 292, 293, 294, 298, 436, 305, 306, 307, 137, 312, 313, 317, 437, 321, 322, 325, 326, 327, 329, 311, 332, 333, 335, 336, 341, 346, 347, 351, 352, 355, 356, 360, 361, 404, 109, 367, 368, 369, 372, 373, 377, 378, 379, 384, 386, 389, 393, 397, 399, 400, 145, 146, 148, 406, 111, 412, 413, 414, 415, 160, 112, 418, 421, 168, 425, 171, 428, 226, 431, 178, 180, 181, 182, 184, 441, 442, 444, 192, 450, 451, 452, 453, 456, 457, 143, 463, 464, 465, 211, 468, 469, 215, 216, 217, 218, 221, 222, 223, 482, 483, 484, 230, 487, 488, 489, 490, 492, 495, 496, 243, 204, 501, 502, 248, 212, 250, 255, 252, 253, 254, 213])\n",
        "264 224 0.000283536743372 0.0386019862102 0.00987954476035 Too close to Null\n",
        "265 229 0.000173494155213 0.0667456095839 0.00987954476035 Too close to Null\n",
        "292 287 0.000354521702747 0.0599286507297 0.00987954476035 Too close to Null\n",
        "137 96 0.00168292197999 0.241515092212 0.00987954476035 Too close to Null\n",
        "317 289 0.000207211675031 0.06471288289 0.00987954476035 Too close to Null\n",
        "311 283 0.000146901990064 0.01863739045 0.00987954476035 Too close to Null\n",
        "332 350 0.000270883197908 0.043199876271 0.00987954476035 Too close to Null\n",
        "356 363 0.000283743250055 0.107586955306 0.00987954476035 Too close to Null\n",
        "404 424 0.0002669811544 0.0341914879038 0.00987954476035 Too close to Null\n",
        "109 73 0.000830553322565 0.104256270244 0.00987954476035 Too close to Null\n",
        "367 385 0.000409798403703 0.0555747691428 0.00987954476035 Too close to Null\n",
        "145 144 0.000213872852067 0.0270660716252 0.00987954476035 Too close to Null\n",
        "111 96 0.00168292197999 0.241515092212 0.00987954476035 Too close to Null\n",
        "160 115 0.000404386596914 0.0669844148975 0.00987954476035 Too close to Null\n",
        "112 73 0.000830553322565 0.104256270244 0.00987954476035 Too close to Null\n",
        "421 409 0.000189930588251 0.0453987672732 0.00987954476035 Too close to Null\n",
        "168 115 0.000404386596914 0.0669844148975 0.00987954476035 Too close to Null\n",
        "182 144 0.000213872852067 0.0270660716252 0.00987954476035 Too close to Null\n",
        "444 497 0.00016959194503 0.0510490691517 0.00987954476035 Too close to Null\n",
        "456 424 0.0002669811544 0.0341914879038 0.00987954476035 Too close to Null\n",
        "143 115 0.000404386596914 0.0669844148975 0.00987954476035 Too close to Null\n",
        "215 224 0.000283536743372 0.0386019862102 0.00987954476035 Too close to Null\n",
        "217 231 0.000188855366811 0.0231356900128 0.00987954476035 Too close to Null\n",
        "222 208 0.000128905711176 0.0165170024193 0.00987954476035 Too close to Null\n",
        "490 497 0.00016959194503 0.0510490691517 0.00987954476035 Too close to Null\n",
        "204 188 0.000150179829545 0.0528449004996 0.00987954476035 Too close to Null\n",
        "248 208 0.000128905711176 0.0165170024193 0.00987954476035 Too close to Null\n",
        "254 231 0.000188855366811 0.0231356900128 0.00987954476035 Too close to Null\n",
        "************ 442 distance from null= 0.478322280142\n",
        "442 484 0.159021665037 0.0428853191528 0.478322280142\n",
        "442 490 0.097194750506 0.0758877001565 0.478322280142\n",
        "442 406 0.0246158306188 0.372351181456 0.478322280142  Adding\n",
        "442 441 0.0965079235767 0.021587169421 0.39841665885\n",
        "442 444 0.0534558088957 0.0644688194384 0.39841665885\n",
        "442 413 0.0310855931411 0.2351690109 0.39841665885  Adding\n",
        "set([442, 413, 406])\n",
        "442 441 0.0667267966179 0.021587169421 0.312026860278\n",
        "442 490 0.0346094401749 0.0758877001565 0.312026860278\n",
        "442 444 0.0295919988769 0.0644688194384 0.312026860278\n",
        "442 484 0.0778644746841 0.0428853191528 0.312026860278\n",
        "413 368 0.0129076685934 0.221809895639 0.312026860278  Adding\n",
        "413 444 0.0208656450205 0.0644688194384 0.276501674121\n",
        "413 421 0.0155071237199 0.151958841264 0.276501674121  Adding\n",
        "413 373 0.012368769214 0.0802834740106 0.236330328316  Adding\n",
        "406 360 0.0209600022288 0.5797778989 0.198574033504  Adding\n",
        "406 368 0.00298684193931 0.221809895639 0.233516250749  Adding\n",
        "406 397 0.0189427111679 0.0288836765146 0.229058956332\n",
        "406 441 0.0242474191372 0.021587169421 0.229058956332\n",
        "set([421, 360, 368, 373, 406, 442, 413])\n",
        "421 409 0.0179563341283 0.0453987672732 0.229058956332\n",
        "421 458 0.00746764180777 0.140251622157 0.229058956332  Adding\n",
        "421 444 0.00723894045463 0.0644688194384 0.212090974314  Adding\n",
        "421 381 0.0056752103355 0.0892234275786 0.190867871912  Adding\n",
        "360 393 0.0366238980396 0.101022472714 0.17596161366\n",
        "360 325 0.0204055850827 0.768804220841 0.17596161366  Adding\n",
        "360 326 0.00362756830207 0.11026263791 0.211915874026  Adding\n",
        "360 397 0.0105657127907 0.0288836765146 0.199687426826\n",
        "368 329 0.00794257269096 0.0919194578793 0.199687426826  Adding\n",
        "368 326 0.00240109473979 0.11026263791 0.183690418825  Adding\n",
        "373 329 0.00587080070082 0.0919194578793 0.175958279316  Adding\n",
        "373 356 "
       ]
      },
      {
       "output_type": "stream",
       "stream": "stdout",
       "text": [
        "0.00869638204791 0.0201342228831 0.164640111807\n",
        "406 441 0.0100650261152 0.021587169421 0.164640111807\n",
        "406 397 0.00728387390102 0.0288836765146 0.164640111807\n",
        "442 441 0.0100650261152 0.021587169421 0.164640111807\n",
        "442 490 0.004938808933 0.0758877001565 0.164640111807  Adding\n",
        "442 444 0.00264842726458 0.0644688194384 0.154560696303  Adding\n",
        "442 484 0.010441207528 0.0428853191528 0.147301816189  Adding\n",
        "413 444 0.00196632998672 0.0644688194384 0.131743599238  Adding\n",
        "set([325, 326, 329, 458, 406, 413, 484, 421, 360, 490, 368, 373, 442, 444, 381])\n",
        "325 336 0.00580955393115 0.0942785214856 0.126655142984  Adding\n",
        "325 393 0.0166264262294 0.101022472714 0.119409016643  Adding\n",
        "325 322 0.000608077592839 0.100289351253 0.101938515089  Adding\n",
        "325 291 0.00138202470177 0.0969537772691 0.101255057923  Adding\n",
        "326 290 0.00384641930351 0.0466098598224 0.0996815218959  Adding\n",
        "326 291 0.00112312229775 0.0969537772691 0.0936743654804  Adding\n",
        "329 292 0.00303026064058 0.0820271559372 0.0926855743419  Adding\n",
        "329 290 0.00297090462754 0.0466098598224 0.0892677491629  Adding\n",
        "329 356 0.00290519120562 0.0201342228831 0.0847499975808  Adding\n",
        "329 317 0.00185103156097 0.052634693481 0.0795789617303  Adding\n",
        "458 497 0.00104841131327 0.0510490691517 0.0768720351436  Adding\n",
        "458 491 0.00273263108097 0.299989319068 0.0750603670374  Adding\n",
        "458 445 0.00107782257256 0.08897341112 0.0789402545279  Adding\n",
        "458 409 0.00200137897557 0.0453987672732 0.0781709258014  Adding\n",
        "406 441 0.00276954971812 0.021587169421 0.0752092259051  Adding\n",
        "406 397 0.00175460304072 0.0288836765146 0.0710786946523  Adding\n",
        "484 441 0.00244689459355 0.021587169421 0.068411974819  Adding\n",
        "484 489 0.00292276843923 0.025665451913 0.0648304849871  Adding\n",
        "421 409 0.00147314130854 0.0453987672732 0.0609266597817  Adding\n",
        "360 393 0.00689183475587 0.101022472714 0.0590514463012  Adding\n",
        "360 397 0.00126050312778 0.0288836765146 0.0532298023115  Adding\n",
        "490 497 0.000556495578497 0.0510490691517 0.0515031320137  Adding\n",
        "373 356 0.00134650190333 0.0201342228831 0.0509365155396  Adding\n",
        "442 441 0.00164351819728 0.021587169421 0.0488432135753  Adding\n",
        "444 497 0.000479728767281 0.0510490691517 0.0466395055722  Adding\n",
        "381 409 0.00105838532914 0.0453987672732 0.0462517510239  Adding\n",
        "381 363 0.000653252319754 0.107586955306 0.045174478312  Adding\n",
        "381 356 0.00110117869436 0.0201342228831 0.0458785903457  Adding\n",
        "set([363, 393, 397, 406, 409, 413, 290, 291, 292, 421, 441, 442, 444, 317, 322, 325, 326, 329, 458, 336, 356, 484, 360, 489, 490, 491, 445, 368, 497, 373, 381])\n",
        "363 337 0.0025563098491 0.0613174716028 0.044217263874  Adding\n",
        "363 387 0.00716509371313 0.205850448386 0.0420110482592  Adding\n",
        "363 324 0.00520786439973 0.126639671035 0.0382430742589  Adding\n",
        "393 379 0.00386142995245 0.0946033863327 0.0348458595999  Adding\n",
        "393 399 0.00479883077194 0.12726756427 0.0320331326591  Adding\n",
        "393 431 0.00554378131941 0.164213223902 0.0290617447231  Adding\n",
        "397 457 0.0035268931072 0.137632021285 0.0261472723459  Adding\n",
        "397 431 0.00503892784264 0.164213223902 0.0242282013329  Adding\n",
        "409 387 0.00540023660307 0.205850448386 0.0218228449746  Adding\n",
        "409 422 0.00106182736751 0.0425387620343 0.0197754152999  Adding\n",
        "290 264 0.00206893154278 0.0718312812636 0.0190819193557  Adding\n",
        "290 254 0.00101378799534 0.115717375409 0.0179458288282  Adding\n",
        "291 273 0.0006828558231 0.0861169512156 0.0186834305978  Adding\n",
        "291 253 0.0029735774689 0.301047368235 0.0191477927983  Adding\n",
        "291 254 0.000882543932049 0.115717375409 0.0210247349793  Adding\n",
        "292 264 0.00197012758568 0.0718312812636 0.0217530051805  Adding\n",
        "292 287 0.00145171694673 0.0599286507297 0.0205954165953  Adding\n",
        "441 457 0.00274553842153 0.137632021285 0.0197474304669  Adding\n",
        "317 289 0.000747436714608 0.06471288289 0.0184146337609  Adding\n",
        "317 324 0.00307964861346 0.126639671035 0.0183224543413  Adding\n",
        "317 287 0.0012498027085 0.0599286507297 0.0169093246846  Adding\n",
        "322 273 0.000601581988124 0.0861169512156 0.0162836023432  Adding\n",
        "322 307 0.000844620621193 0.126979859811 0.0167172312818  Adding\n",
        "336 307 0.000808384156031 0.126979859811 0.0174982044143  Adding\n",
        "336 347 0.00404180458885 0.459577304705 0.0182804496518  Adding\n",
        "336 379 0.00225913064853 0.0946033863327 0.0201554468205  Adding\n",
        "356 324 0.00274533146862 0.126639671035 0.0188138635051  Adding\n",
        "489 457 0.00234435682946 0.137632021285 0.0175711669911  Adding\n",
        "489 468 0.000575502163213 0.031561250246 0.0164786502887  Adding\n",
        "491 476 0.000563818399913 0.0305445006911 0.0161142904488  Adding\n",
        "445 476 0.000545225891102 0.0305445006911 0.015723281878  Adding\n",
        "445 446 0.00224906555756 0.119390423726 0.0153534479455  Adding\n",
        "445 422 0.000726784402198 0.0425387620343 0.0143753195214  Adding\n",
        "set([264, 273, 287, 289, 290, 291, 292, 307, 317, 322, 324, 325, 326, 329, 336, 337, 347, 356, 360, 363, 368, 373, 379, 381, 387, 393, 397, 399, 406, 409, 413, 421, 422, 431, 441, 442, 444, 445, 446, 457, 458, 468, 476, 484, 489, 490, 491, 497, 253, 254])\n",
        "264 224 0.000821948795489 0.0386019862102 0.0139752739303  Adding\n",
        "264 251 0.00134490544663 0.0798673740559 0.013455657648  Adding\n",
        "264 231 0.000502408663201 0.0231356900128 0.0128858846912  Adding\n",
        "273 255 0.00245666619818 0.299757265143 0.0124903206184  Adding\n",
        "273 223 0.000923677685017 0.11973228946 0.0136408551587  Adding\n",
        "287 256 0.000495613999654 0.0304791109578 0.0140108862208  Adding\n",
        "287 227 0.000738412208489 0.0436201939648 0.0137044986275  Adding\n",
        "287 251 0.00123747432992 0.0798673740559 0.0133109841999  Adding\n",
        "289 256 0.000453946611871 0.0304791109578 0.0127981859756  Adding\n",
        "307 313 0.0037391433609 0.458818815086 0.0125406647002  Adding\n",
        "307 255 0.00220388854516 0.299757265143 0.0137901506946  Adding\n",
        "324 299 0.00141247468839 0.106368433253 0.0148996129281  Adding\n",
        "337 299 0.00136171671806 0.106368433253 0.014482943551  Adding\n",
        "337 382 0.000467062082006 0.0318740319167 0.0141107950926  Adding\n",
        "337 342 0.000475778892833 0.0568474483004 0.0138376751782  Adding\n",
        "337 295 0.000326423075619 0.0311203287706 0.0138115721655  Adding\n",
        "347 369 0.00239060780324 0.340680428593 0.0136716417832  Adding\n",
        "347 313 0.00332840395254 0.458818815086 0.0147247428007  Adding\n",
        "347 335 0.00279128501199 0.422608054778 0.0159485583156  Adding\n",
        "387 410 0.000428727351889 0.0572516187456 0.0171047766112  Adding\n",
        "387 382 0.000467079934845 0.0318740319167 0.0170635378596  Adding\n",
        "399 369 0.00213851781509 0.340680428593 0.0167469432637  Adding\n",
        "399 415 0.000840029656405 0.172859003267 0.0178532566194  Adding\n",
        "399 453 0.000727739436337 0.127586449304 0.0184551187934  Adding\n",
        "399 437 0.00116832536053 0.0603932229018 0.0187498282117  Adding\n",
        "422 410 0.00040657410269 0.0572516187456 0.0179713162464  Adding\n",
        "431 437 0.00112716695852 0.0603932229018 0.017922647514  Adding\n",
        "446 410 0.00039237031357 0.0572516187456 0.0171857942787  Adding\n",
        "446 477 0.000466829040311 0.0371603643829 0.01715189545  Adding\n",
        "446 438 0.0021841616748 0.167093122528 0.0168570721648  Adding\n",
        "457 437 0.00104340547188 0.0603932229018 0.0160775621303  Adding\n",
        "468 437 0.00101763358797 0.0603932229018 0.0154270574823  Adding\n",
        "468 469 0.00164346476904 0.125460116128 0.014804588552  Adding\n",
        "253 217 0.000520160155801 0.0368461162578 0.0140669608017  Adding\n",
        "253 223 0.000700863362196 0.11973228946 0.013750255303  Adding\n",
        "254 217 0.000503543888506 0.0368461162578 0.0140063793342  Adding\n",
        "254 231 0.000365152210344 0.0231356900128 0.013703215612  Adding\n",
        "set([253, 256, 387, 264, 393, 469, 397, 399, 273, 406, 217, 409, 410, 491, 413, 287, 289, 290, 291, 292, 421, 422, 295, 453, 299, 431, 307, 437, 438, 457, 441, 442, 415, 444, 317, 446, 322, 324, 325, 326, 329, 458, 369, 336, 337, 335, 227, 468, 382, 342, 313, 484, 347, 476, 477, 223, 224, 251, 356, 231, 360, 489, 490, 363, 445, 368, 497, 373, 379, 381, 254, 255])\n",
        "256 249 0.000523682501091 0.0674220130068 0.013407936148  Adding\n",
        "469 492 0.000488185791646 0.032002171144 0.0133473843224  Adding\n",
        "217 180 0.00159287362437 0.110732512067 0.0129998518972  Adding\n",
        "217 182 0.00219540317919 0.193006891655 0.0123236333198  Adding\n",
        "217 215 0.00101507316292 0.085564190071 0.0116827900742  Adding\n",
        "410 407 0.000305537393648 "
       ]
      },
      {
       "output_type": "stream",
       "stream": "stdout",
       "text": [
        "0.0158058133615 0.0112533037294  Adding\n",
        "295 257 0.000614372189825 0.07697976309 0.0109845952286  Adding\n",
        "295 266 0.000513387162531 0.0563212417943 0.0109190351526  Adding\n",
        "295 300 0.000669665625081 0.0700024695898 0.0107670709235  Adding\n",
        "453 492 0.000418567215159 0.032002171144 0.0105899839615  Adding\n",
        "453 463 0.00156642967592 0.243371491389 0.0103225608795  Adding\n",
        "299 266 0.000489204394381 0.0563212417943 0.0106017699047  Adding\n",
        "438 474 0.00139536518853 0.147946015709 0.0104653582554  Adding\n",
        "438 407 0.00026799605312 0.0158058133615 0.0101191753511  Adding\n",
        "415 418 0.00240458278671 0.42216551733 0.00989438450852 Too close to Null\n",
        "369 378 0.00295255992564 0.48957954782 0.00989438450852 Too close to Null\n",
        "335 352 0.00091093582119 0.185000614409 0.00989438450852 Too close to Null\n",
        "227 209 0.0009140422889 0.108502574343 0.00989438450852 Too close to Null\n",
        "382 338 0.000315153521679 0.0258709063182 0.00989438450852 Too close to Null\n",
        "342 338 0.000315153521679 0.0258709063182 0.00989438450852 Too close to Null\n",
        "313 298 0.000387783194475 0.0862204478955 0.00989438450852 Too close to Null\n",
        "477 474 0.0013489268742 0.147946015709 0.00989438450852 Too close to Null\n",
        "223 180 0.00132973350146 0.110732512067 0.00989438450852 Too close to Null\n",
        "224 183 0.000997666698358 0.0861200549282 0.00989438450852 Too close to Null\n",
        "251 214 0.00125914905421 0.155928498858 0.00989438450852 Too close to Null\n",
        "231 215 0.000887818896473 0.085564190071 0.00989438450852 Too close to Null\n",
        "255 216 0.000714855298168 0.144859137408 0.00989438450852 Too close to Null\n",
        "set([256, 257, 264, 266, 273, 287, 289, 290, 291, 292, 295, 299, 300, 307, 313, 317, 322, 324, 325, 326, 329, 335, 336, 337, 342, 347, 182, 356, 360, 363, 368, 369, 373, 379, 381, 382, 387, 393, 397, 399, 406, 407, 409, 410, 413, 415, 421, 422, 431, 180, 437, 438, 441, 442, 444, 445, 446, 453, 457, 458, 463, 468, 469, 215, 217, 474, 476, 477, 223, 224, 227, 484, 231, 489, 490, 491, 492, 497, 249, 251, 253, 254, 255])\n",
        "257 225 0.00075869563956 0.0656378183366 0.00989438450852 Too close to Null\n",
        "266 225 0.00075869563956 0.0656378183366 0.00989438450852 Too close to Null\n",
        "300 338 0.000315153521679 0.0258709063182 0.00989438450852 Too close to Null\n",
        "313 298 0.000387783194475 0.0862204478955 0.00989438450852 Too close to Null\n",
        "335 352 0.00091093582119 0.185000614409 0.00989438450852 Too close to Null\n",
        "342 338 0.000315153521679 0.0258709063182 0.00989438450852 Too close to Null\n",
        "182 144 0.000346373526687 0.0270660716252 0.00989438450852 Too close to Null\n",
        "369 378 0.00295255992564 0.48957954782 0.00989438450852 Too close to Null\n",
        "382 338 0.000315153521679 0.0258709063182 0.00989438450852 Too close to Null\n",
        "407 439 0.000294685104321 0.0325543537846 0.00989438450852 Too close to Null\n",
        "415 418 0.00240458278671 0.42216551733 0.00989438450852 Too close to Null\n",
        "180 216 0.000714855298168 0.144859137408 0.00989438450852 Too close to Null\n",
        "463 496 0.000744093613273 0.12360323906 0.00989438450852 Too close to Null\n",
        "215 179 0.000714883379429 0.0661203586747 0.00989438450852 Too close to Null\n",
        "474 439 0.000294685104321 0.0325543537846 0.00989438450852 Too close to Null\n",
        "224 214 0.00125914905421 0.155928498858 0.00989438450852 Too close to Null\n",
        "227 209 0.0009140422889 0.108502574343 0.00989438450852 Too close to Null\n",
        "492 502 0.000436636632663 0.040637159098 0.00989438450852 Too close to Null\n",
        "249 209 0.0009140422889 0.108502574343 0.00989438450852 Too close to Null\n",
        "251 214 0.00125914905421 0.155928498858 0.00989438450852 Too close to Null\n",
        "255 216 0.000714855298168 0.144859137408 0.00989438450852 Too close to Null\n",
        "************ 347 distance from null= 0.459577304705\n",
        "347 335 0.022084820112 0.422608054778 0.459577304705  Adding\n",
        "347 336 0.0700965723875 0.0942785214856 0.419115604005\n",
        "347 369 0.005357928854 0.340680428593 0.419115604005  Adding\n",
        "347 307 0.0270891013645 0.126979859811 0.386635566753  Adding\n",
        "347 313 0.015097880122 0.458818815086 0.291980897773  Adding\n",
        "347 379 0.0829379042023 0.0946033863327 0.310419071084\n",
        "set([369, 347, 313, 307, 335])\n",
        "369 378 0.00798467452305 0.48957954782 0.310419071084  Adding\n",
        "369 415 0.00576069907863 0.172859003267 0.33295560127  Adding\n",
        "369 399 0.0722461835327 0.12726756427 0.305237675475\n",
        "347 336 0.0237230591003 0.0942785214856 0.305237675475\n",
        "347 379 0.0637993425019 0.0946033863327 0.305237675475\n",
        "313 298 0.0137215629386 0.0862204478955 0.305237675475  Adding\n",
        "313 259 0.00211323552486 0.231739690484 0.264398278409  Adding\n",
        "307 336 0.0169998599394 0.0942785214856 0.258520420666  Adding\n",
        "307 273 0.00635145451026 0.0861169512156 0.226006035422  Adding\n",
        "307 322 0.00261862698043 0.100289351253 0.206534056509  Adding\n",
        "307 255 0.00285418475174 0.299757265143 0.194534112726  Adding\n",
        "335 352 0.00773841426426 0.185000614409 0.200147324214  Adding\n",
        "335 298 0.00419070910011 0.0862204478955 0.191359858611  Adding\n",
        "335 378 0.00590613900102 0.48957954782 0.180277986686  Adding\n",
        "set([352, 322, 259, 273, 298, 255, 335, 336, 369, 307, 313, 378, 347, 415])\n",
        "352 384 0.00298254283212 0.211535757309 0.194113301752  Adding\n",
        "352 312 0.0108178637212 0.0167018751735 0.192188333021\n",
        "352 351 0.00382305901026 0.0796433810533 0.192188333021  Adding\n",
        "322 291 0.00278539233311 0.0969537772691 0.182374096007  Adding\n",
        "322 325 0.0120856933599 0.768804220841 0.174758328255  Adding\n",
        "259 218 0.00420193549365 0.0679448692637 0.196176021897  Adding\n",
        "259 252 0.00302318929864 0.0610270594426 0.186264201701  Adding\n",
        "259 221 0.0156795260113 0.0982733431853 0.177437991447  Adding\n",
        "273 291 0.00194634926234 0.0969537772691 0.158426338649  Adding\n",
        "273 253 0.00159562218004 0.301047368235 0.153744362014  Adding\n",
        "273 223 0.00229506863829 0.11973228946 0.158289630135  Adding\n",
        "298 312 0.00588511434234 0.0167018751735 0.154484589225\n",
        "298 252 0.00187187271609 0.0610270594426 0.154484589225  Adding\n",
        "255 216 0.00170985513169 0.144859137408 0.149100272228  Adding\n",
        "255 218 0.00225437700627 0.0679448692637 0.14724064198  Adding\n",
        "336 393 0.0129622653311 0.101022472714 0.142436247435  Adding\n",
        "336 379 0.0105915637114 0.0946033863327 0.128088385433  Adding\n",
        "336 325 0.00964729960683 0.768804220841 0.116530806493  Adding\n",
        "369 399 0.0117073639408 0.12726756427 0.129871514585  Adding\n",
        "378 384 0.00158969743722 0.211535757309 0.118085786327  Adding\n",
        "378 418 0.00341625036033 0.42216551733 0.119306705974  Adding\n",
        "347 379 0.00875243112041 0.0946033863327 0.124185062732  Adding\n",
        "415 418 0.00329962976635 0.42216551733 0.114698016108  Adding\n",
        "415 399 0.00969795527124 0.12726756427 0.119396486708  Adding\n",
        "415 453 0.00102642825039 0.127586449304 0.109905199686  Adding\n",
        "415 463 0.00233487906876 0.243371491389 0.109315866266  Adding\n",
        "set([384, 259, 393, 399, 273, 415, 418, 291, 298, 307, 313, 223, 322, 325, 335, 336, 453, 463, 216, 218, 347, 221, 351, 352, 369, 378, 379, 252, 253, 255])\n",
        "384 412 0.00148021562703 0.044563994372 0.110333948124  Adding\n",
        "384 427 0.00187908830028 0.362745619879 0.107304421491  Adding\n",
        "384 372 0.00128909392225 0.197463627301 0.111419634474  Adding\n",
        "393 360 0.00435862565203 0.5797778989 0.112142259241  Adding\n",
        "393 431 0.00966678355721 0.164213223902 0.118606346528  Adding\n",
        "399 437 0.00555118377852 0.0603932229018 0.109985995739  Adding\n",
        "399 431 0.00860169834673 0.164213223902 0.103385970578  Adding\n",
        "418 427 0.00179270171109 0.362745619879 0.0961204052444  Adding\n",
        "291 290 0.0024152514999 0.0466098598224 0.0997965318835  Adding\n",
        "291 254 0.000757592809798 0.115717375409 0.0962712374523  Adding\n",
        "291 326 0.000586185471419 0.11026263791 0.0959234246769  Adding\n",
        "298 312 0.00212756898586 0.0167018751735 0.0956462702007  Adding\n",
        "223 217 0.00246074928069 0.0368461162578 0.0920228003561  Adding\n",
        "223 180 0.0065620534945 0.110732512067 0.0885186922894  Adding\n",
        "325 360 0.00401287270002 0.5797778989 0.0824112827902  Adding\n",
        "453 492 0.00237824988832 0.032002171144 0.0875516704825  Adding\n",
        "453 469 0.00550138542049 0.125460116128 0.0842987000239  Adding\n",
        "453 437 0.00360796181167 0.0603932229018 0.079455692654  Adding\n",
        "463 496 0.00103046450599 0.12360323906 0.0755285214545  Adding\n",
        "463 427 0.00173351781564 0.362745619879 0.075257465388  Adding\n",
        "463 492 0.0020202708607 0.032002171144 0.0782420046163  Adding\n",
        "463 502 0.00150187475307 0.040637159098 0.0755496727164  Adding\n",
        "216 180 0.00513555212929 0.110732512067 0.0735621938383  Adding\n",
        "216 181 0.00758361565597 0.232099677093 0.0690837817769  Adding\n",
        "218 184 0.00469033344495 0.119326076227 0.0641883204538  Adding\n"
       ]
      },
      {
       "output_type": "stream",
       "stream": "stdout",
       "text": [
        "218 181 0.00691693769838 0.232099677093 0.0603713997444  Adding\n",
        "221 184 0.00424214203368 0.119326076227 0.0561969199594  Adding\n",
        "221 243 0.00123842069993 0.0267832609899 0.0529237058768  Adding\n",
        "221 212 0.00230836398932 0.0602418034005 0.0512733453307  Adding\n",
        "351 312 0.000947311057251 0.0167018751735 0.0490923665557  Adding\n",
        "351 372 0.00122359821133 0.197463627301 0.0476879751045  Adding\n",
        "352 312 0.000906127282061 0.0167018751735 0.0485814652477  Adding\n",
        "252 312 0.00087199925897 0.0167018751735 0.0472379116543  Adding\n",
        "252 243 0.00102432303737 0.0267832609899 0.0459525925009  Adding\n",
        "252 263 0.0025191383318 0.0896609118124 0.0446507408395  Adding\n",
        "253 217 0.00115139359111 0.0368461162578 0.0427087966386  Adding\n",
        "253 254 0.000629063571021 0.115717375409 0.0414799140538  Adding\n",
        "set([259, 263, 273, 290, 291, 298, 307, 312, 313, 181, 322, 325, 326, 335, 336, 347, 351, 352, 360, 369, 372, 378, 379, 384, 393, 399, 412, 415, 418, 427, 431, 180, 437, 184, 453, 463, 212, 469, 216, 217, 218, 221, 223, 492, 496, 243, 502, 252, 253, 254, 255])\n",
        "263 226 0.00219170064671 0.0678158672075 0.041866542753  Adding\n",
        "263 306 0.00144544920498 0.0550529162119 0.0400249341704  Adding\n",
        "290 264 0.00194710183997 0.0718312812636 0.0387710944148  Adding\n",
        "290 329 0.000858437821662 0.0919194578793 0.0372456575169  Adding\n",
        "290 292 0.000937137745729 0.0820271559372 0.0370956352787  Adding\n",
        "312 306 0.00129290761782 0.0550529162119 0.0366985796963  Adding\n",
        "181 146 0.000588926013754 0.0397218420498 0.035628241594  Adding\n",
        "326 368 0.00109065407321 0.221809895639 0.0350885108391  Adding\n",
        "326 329 0.000759706295884 0.0919194578793 0.0361808754366  Adding\n",
        "360 368 0.00103378443285 0.221809895639 0.0361010397232  Adding\n",
        "360 397 0.000533041110581 0.0288836765146 0.0371874674994  Adding\n",
        "360 406 0.00219006432836 0.372351181456 0.0365816128685  Adding\n",
        "372 377 0.000756898155049 0.0516867087169 0.0382643901667  Adding\n",
        "372 346 0.000379700489113 0.118188172671 0.0376489391772  Adding\n",
        "372 333 0.000856359729006 0.0454499781251 0.038122214896  Adding\n",
        "372 414 0.000612245405454 0.0471810870807 0.0373434049688  Adding\n",
        "412 452 0.00105415356429 0.208721122474 0.0368308633278  Adding\n",
        "412 414 0.000596575160901 0.0471810870807 0.0375752887935  Adding\n",
        "427 465 0.000370735315985 0.050754124748 0.0370740920835  Adding\n",
        "427 452 0.00101107792826 0.208721122474 0.0368356455127  Adding\n",
        "431 457 0.00210325023271 0.137632021285 0.0375701107381  Adding\n",
        "431 397 0.000467997858872 0.0288836765146 0.0362634727342  Adding\n",
        "180 145 0.000440462309088 0.0269821419729 0.0357375025796  Adding\n",
        "180 146 0.000463273691863 0.0397218420498 0.0352073958796  Adding\n",
        "437 457 0.00198552793173 0.137632021285 0.0347896775408  Adding\n",
        "437 468 0.000542782575634 0.031561250246 0.0335939234137  Adding\n",
        "184 171 0.00182565587556 0.0968488804494 0.0330301052423  Adding\n",
        "184 148 0.00135168029726 0.0948832007822 0.0317999280205  Adding\n",
        "212 178 0.000740729293888 0.0390260002471 0.0310569926708  Adding\n",
        "212 171 0.00170801137822 0.0968488804494 0.0303853889939  Adding\n",
        "212 213 0.00107903079553 0.0545117026269 0.0292806948566  Adding\n",
        "469 468 0.000477249329366 0.031561250246 0.0284282712913  Adding\n",
        "217 215 0.00144210551592 0.085564190071 0.027981685942  Adding\n",
        "217 182 0.00271224948205 0.193006891655 0.0270437823883  Adding\n",
        "217 231 0.00052122284807 0.0231356900128 0.025881872935  Adding\n",
        "496 488 0.000346370311626 0.0514097457426 0.0253394711989  Adding\n",
        "496 465 0.00029525478529 0.050754124748 0.0252150178344  Adding\n",
        "243 213 0.000955106697322 0.0545117026269 0.0251295617981  Adding\n",
        "254 264 0.00110451578384 0.0718312812636 0.0244227186736  Adding\n",
        "254 231 0.000479037629377 0.0231356900128 0.023740834397  Adding\n",
        "set([384, 213, 259, 263, 264, 393, 397, 399, 273, 146, 148, 171, 406, 412, 346, 414, 415, 368, 290, 291, 292, 145, 298, 427, 178, 431, 306, 307, 180, 181, 182, 457, 312, 313, 223, 437, 322, 488, 452, 325, 326, 468, 329, 418, 335, 336, 184, 453, 212, 469, 463, 215, 216, 217, 218, 347, 221, 351, 352, 226, 465, 360, 231, 492, 333, 496, 369, 243, 372, 502, 377, 378, 379, 252, 253, 254, 255])\n",
        "264 224 0.000712679770484 0.0386019862102 0.0232573202637  Adding\n",
        "264 251 0.00110690261149 0.0798673740559 0.0226742821294  Adding\n",
        "397 441 0.000418015331352 0.021587169421 0.0220284495336  Adding\n",
        "146 112 0.000522113611868 0.0621912039063 0.0216071278832  Adding\n",
        "146 109 0.00166992271929 0.152650454158 0.0213581872751  Adding\n",
        "146 111 0.000682272464894 0.0650726083054 0.0205997758172  Adding\n",
        "148 137 0.000218330563594 0.0275086099144 0.0201963203627  Adding\n",
        "148 111 0.000660510179973 0.0650726083054 0.0200397806649  Adding\n",
        "171 137 0.000208165559671 0.0275086099144 0.0196574830878  Adding\n",
        "171 143 0.000454082931511 0.0207106691397 0.019514702734  Adding\n",
        "406 441 0.000362711069194 0.021587169421 0.0190701154907  Adding\n",
        "406 442 0.00255217450009 0.478322280142 0.0187251987173  Adding\n",
        "406 413 0.00112034861812 0.2351690109 0.019597412958  Adding\n",
        "414 425 0.00164339125447 0.137210496873 0.0201841138302  Adding\n",
        "414 451 0.000258460754677 0.0581868636435 0.0194292819742  Adding\n",
        "368 413 0.001089294323 0.2351690109 0.0194587044402  Adding\n",
        "292 287 0.000712565525408 0.0599286507297 0.0200389739665  Adding\n",
        "145 144 0.000471238301322 0.0270660716252 0.0196247785333  Adding\n",
        "145 109 0.00147072934233 0.152650454158 0.0192101063182  Adding\n",
        "145 110 0.000402885240906 0.0520404773527 0.0185742171184  Adding\n",
        "178 192 0.000767849480771 0.061041280856 0.0184259419227  Adding\n",
        "178 143 0.000394920718721 0.0207106691397 0.0179705110987  Adding\n",
        "306 305 0.000643198695818 0.0562474931537 0.017595492546  Adding\n",
        "306 262 0.000770822724198 0.0876651731723 0.0172248269944  Adding\n",
        "182 144 0.000416550057679 0.0270660716252 0.0169663936291  Adding\n",
        "182 179 0.000775815298565 0.0661203586747 0.0166228593373  Adding\n",
        "457 489 0.000399451664944 0.025665451913 0.016169534123  Adding\n",
        "457 441 0.000298229551759 0.021587169421 0.0158334157102  Adding\n",
        "452 451 0.000238071046667 0.0581868636435 0.0155711507364  Adding\n",
        "452 487 0.000641990677934 0.140067206226 0.0156196841371  Adding\n",
        "468 489 0.000383798125859 0.025665451913 0.0158042596634  Adding\n",
        "329 356 0.000197821468443 0.0201342228831 0.0154845301774  Adding\n",
        "329 373 0.000212442966892 0.0802834740106 0.0153193944641  Adding\n",
        "329 317 0.000267970452643 0.052634693481 0.0155332808301  Adding\n",
        "215 224 0.000483534003405 0.0386019862102 0.0155061449736  Adding\n",
        "215 179 0.000712571560471 0.0661203586747 0.0151755575962  Adding\n",
        "215 183 0.000943793074034 0.0861200549282 0.014773766312  Adding\n",
        "226 192 0.00063229273736 0.061041280856 0.0142975437157  Adding\n",
        "226 250 0.000225636378032 0.0320929361812 0.0139708914647  Adding\n",
        "226 211 0.00154306239393 0.168744246029 0.0138607941729  Adding\n",
        "226 262 0.000642775863626 0.0876651731723 0.0133356096879  Adding\n",
        "231 224 0.000431046076472 0.0386019862102 0.0131761061895  Adding\n",
        "333 305 0.000506428725636 0.0562474931537 0.0129060090151  Adding\n",
        "333 341 0.000430104141984 0.0400680249333 0.0126673631537  Adding\n",
        "333 294 0.000527753367982 0.0970611341056 0.0124126071089  Adding\n",
        "377 425 0.00115966741723 0.137210496873 0.0124354140405  Adding\n",
        "377 386 0.000584829560072 0.0611387149462 0.0120382019043  Adding\n",
        "377 341 0.000408507827801 0.0400680249333 0.0117581622826  Adding\n",
        "set([259, 262, 263, 264, 273, 427, 287, 290, 291, 292, 294, 298, 305, 306, 307, 137, 312, 313, 317, 437, 322, 325, 326, 329, 333, 335, 336, 341, 346, 347, 351, 352, 356, 360, 487, 109, 110, 111, 368, 369, 372, 373, 377, 378, 379, 384, 386, 393, 397, 399, 144, 145, 146, 148, 406, 412, 413, 414, 415, 112, 418, 425, 171, 431, 178, 179, 180, 181, 182, 183, 184, 441, 442, 192, 451, 452, 453, 457, 143, 463, 465, 211, 468, 213, 215, 216, 217, 218, 221, 223, 224, 226, 251, 231, 488, 489, 492, 496, 243, 502, 212, 250, 255, 252, 253, 254, 469])\n",
        "262 286 0.000208315580529 0.030109866547 0.0115263228691  Adding\n",
        "287 256 0.00023929792199 0.0304791109578 0.0114276826347  Adding\n",
        "287 289 0.000283189805425 0.06471288289 0.0113022805338  Adding\n",
        "287 227 0.000373152793929 0.0436201939648 0.011321230336  Adding\n",
        "294 293 0.000330553331447 0.029446045927 0.0111418021614  Adding\n",
        "294 261 0.000490923430385 0.068525487473 0.0109206244247  Adding\n",
        "294 286 0.000191898004114 0.030109866547 0.0107717172042  Adding\n",
        "294 327 0.00021642638575 0.0540898625552 0.0106899844362  Adding\n",
        "305 286 0.000187604101986 0.030109866547 0.0107196246271  Adding\n",
        "137 96 0.00200969627127 0.241515092212 0.010641237571  Adding\n",
        "137 72 0.00196990401164 0.22767481767 0.0100597608523  Adding\n",
        "137 103 0.00170317385964 0.200807895703 0.00952595057095 Too close to Null\n",
        "317 289 0.000268798927187 0.06471288289 0.00952595057095 Too close to Null\n",
        "341"
       ]
      },
      {
       "output_type": "stream",
       "stream": "stdout",
       "text": [
        " 361 0.000541836776984 0.0731550926821 0.00952595057095 Too close to Null\n",
        "356 363 0.000363602462513 0.107586955306 0.00952595057095 Too close to Null\n",
        "109 73 0.000959061804525 0.104256270244 0.00952595057095 Too close to Null\n",
        "110 90 0.00157574490046 0.220033264737 0.00952595057095 Too close to Null\n",
        "111 96 0.00193652388252 0.241515092212 0.00952595057095 Too close to Null\n",
        "373 421 0.0005823458618 0.151958841264 0.00952595057095 Too close to Null\n",
        "386 400 0.000536744723042 0.0677654327619 0.00952595057095 Too close to Null\n",
        "144 135 0.000356576316796 0.0400845281534 0.00952595057095 Too close to Null\n",
        "413 444 0.000219683525242 0.0644688194384 0.00952595057095 Too close to Null\n",
        "112 73 0.000959061804525 0.104256270244 0.00952595057095 Too close to Null\n",
        "425 400 0.000536744723042 0.0677654327619 0.00952595057095 Too close to Null\n",
        "179 147 0.0013148878127 0.185312584137 0.00952595057095 Too close to Null\n",
        "183 177 0.000240041192712 0.0438266030328 0.00952595057095 Too close to Null\n",
        "441 484 0.000361745118644 0.0428853191528 0.00952595057095 Too close to Null\n",
        "442 444 0.000219683525242 0.0644688194384 0.00952595057095 Too close to Null\n",
        "192 168 0.000373462487628 0.0362492044227 0.00952595057095 Too close to Null\n",
        "451 483 0.00027615888487 0.0813123104129 0.00952595057095 Too close to Null\n",
        "143 160 0.000711793829753 0.0858514327018 0.00952595057095 Too close to Null\n",
        "211 168 0.000373462487628 0.0362492044227 0.00952595057095 Too close to Null\n",
        "224 214 0.00101765835614 0.155928498858 0.00952595057095 Too close to Null\n",
        "251 227 0.000340136657029 0.0436201939648 0.00952595057095 Too close to Null\n",
        "489 484 0.000361745118644 0.0428853191528 0.00952595057095 Too close to Null\n",
        "250 286 0.000181945269603 0.030109866547 0.00952595057095 Too close to Null\n",
        "set([256, 259, 261, 262, 263, 264, 469, 273, 171, 286, 287, 289, 290, 291, 292, 293, 294, 298, 305, 306, 307, 393, 312, 313, 317, 181, 96, 322, 325, 326, 327, 72, 329, 333, 335, 336, 341, 346, 347, 351, 352, 356, 360, 231, 109, 110, 111, 368, 369, 372, 373, 377, 378, 379, 384, 386, 137, 397, 399, 144, 145, 146, 148, 406, 412, 413, 414, 415, 112, 418, 425, 427, 431, 178, 179, 180, 437, 182, 183, 184, 441, 442, 192, 451, 452, 453, 457, 143, 463, 465, 211, 468, 213, 215, 216, 217, 218, 221, 223, 224, 226, 227, 487, 488, 489, 492, 496, 243, 502, 212, 250, 251, 252, 253, 254, 255])\n",
        "256 249 0.000375668196938 0.0674220130068 0.00952595057095 Too close to Null\n",
        "261 222 0.000315634264969 0.0368308062977 0.00952595057095 Too close to Null\n",
        "289 324 0.00100121845318 0.126639671035 0.00952595057095 Too close to Null\n",
        "293 321 0.000328247324302 0.0730980623308 0.00952595057095 Too close to Null\n",
        "317 324 0.00100121845318 0.126639671035 0.00952595057095 Too close to Null\n",
        "96 73 0.000959061804525 0.104256270244 0.00952595057095 Too close to Null\n",
        "327 361 0.000541836776984 0.0731550926821 0.00952595057095 Too close to Null\n",
        "72 40 0.000835775971373 0.092880316303 0.00952595057095 Too close to Null\n",
        "341 361 0.000541836776984 0.0731550926821 0.00952595057095 Too close to Null\n",
        "356 363 0.000363602462513 0.107586955306 0.00952595057095 Too close to Null\n",
        "109 73 0.000959061804525 0.104256270244 0.00952595057095 Too close to Null\n",
        "110 90 0.00157574490046 0.220033264737 0.00952595057095 Too close to Null\n",
        "111 73 0.000959061804525 0.104256270244 0.00952595057095 Too close to Null\n",
        "373 421 0.0005823458618 0.151958841264 0.00952595057095 Too close to Null\n",
        "386 400 0.000536744723042 0.0677654327619 0.00952595057095 Too close to Null\n",
        "137 103 0.00170317385964 0.200807895703 0.00952595057095 Too close to Null\n",
        "144 135 0.000356576316796 0.0400845281534 0.00952595057095 Too close to Null\n",
        "413 444 0.000219683525242 0.0644688194384 0.00952595057095 Too close to Null\n",
        "112 73 0.000959061804525 0.104256270244 0.00952595057095 Too close to Null\n",
        "425 400 0.000536744723042 0.0677654327619 0.00952595057095 Too close to Null\n",
        "179 147 0.0013148878127 0.185312584137 0.00952595057095 Too close to Null\n",
        "183 177 0.000240041192712 0.0438266030328 0.00952595057095 Too close to Null\n",
        "441 484 0.000361745118644 0.0428853191528 0.00952595057095 Too close to Null\n",
        "442 444 0.000219683525242 0.0644688194384 0.00952595057095 Too close to Null\n",
        "192 168 0.000373462487628 0.0362492044227 0.00952595057095 Too close to Null\n",
        "451 483 0.00027615888487 0.0813123104129 0.00952595057095 Too close to Null\n",
        "143 160 0.000711793829753 0.0858514327018 0.00952595057095 Too close to Null\n",
        "211 168 0.000373462487628 0.0362492044227 0.00952595057095 Too close to Null\n",
        "224 214 0.00101765835614 0.155928498858 0.00952595057095 Too close to Null\n",
        "227 209 0.000752790408753 0.108502574343 0.00952595057095 Too close to Null\n",
        "489 484 0.000361745118644 0.0428853191528 0.00952595057095 Too close to Null\n",
        "250 230 0.000236381650581 0.0334371263427 0.00952595057095 Too close to Null\n",
        "251 214 0.00101765835614 0.155928498858 0.00952595057095 Too close to Null\n",
        "************ 313 distance from null= 0.458818815086\n",
        "313 259 0.0293438731076 0.231739690484 0.458818815086  Adding\n",
        "313 307 0.023822351268 0.126979859811 0.314069559144  Adding\n",
        "313 298 0.0140204059752 0.0862204478955 0.227168204051  Adding\n",
        "313 347 0.020309267947 0.459577304705 0.178968474551  Adding\n",
        "313 335 0.00810296199112 0.422608054778 0.212769098133  Adding\n",
        "set([259, 298, 335, 307, 313, 347])\n",
        "259 218 0.0142749836446 0.0679448692637 0.238258015971  Adding\n",
        "259 252 0.00828989434555 0.0610270594426 0.200780855419  Adding\n",
        "259 221 0.0381947059926 0.0982733431853 0.174404757952\n",
        "259 255 0.00492420025366 0.299757265143 0.174404757952  Adding\n",
        "298 352 0.00828692466904 0.185000614409 0.184098816511  Adding\n",
        "298 312 0.0156103700846 0.0167018751735 0.175899674065\n",
        "298 252 0.00482056392569 0.0610270594426 0.175899674065  Adding\n",
        "335 352 0.00557093699618 0.185000614409 0.160333756289  Adding\n",
        "335 369 0.00429342040197 0.340680428593 0.156762847317  Adding\n",
        "335 378 0.00821112949866 0.48957954782 0.166880748718  Adding\n",
        "307 336 0.00977055828465 0.0942785214856 0.182218804229  Adding\n",
        "307 273 0.00312516881433 0.0861169512156 0.166941082806  Adding\n",
        "307 322 0.00139178551937 0.100289351253 0.158626186246  Adding\n",
        "307 255 0.00237483779912 0.299757265143 0.153606945207  Adding\n",
        "347 336 0.0064351258838 0.0942785214856 0.159716159698  Adding\n",
        "347 369 0.00229059823487 0.340680428593 0.150060168252  Adding\n",
        "347 379 0.0176634779172 0.0946033863327 0.157452750347  Adding\n",
        "set([322, 259, 335, 336, 273, 218, 347, 352, 298, 369, 307, 313, 378, 379, 252, 255])\n",
        "322 291 0.00190530731454 0.0969537772691 0.137083791605  Adding\n",
        "322 325 0.0127091911768 0.768804220841 0.133210444232  Adding\n",
        "259 221 0.0138358504299 0.0982733431853 0.151823795418  Adding\n",
        "336 393 0.0144218470987 0.101022472714 0.135822735699  Adding\n",
        "336 325 0.0110818469032 0.768804220841 0.119996241852  Adding\n",
        "273 291 0.0018158896102 0.0969537772691 0.137078878031  Adding\n",
        "273 253 0.00195141164784 0.301047368235 0.133680059827  Adding\n",
        "273 223 0.00225262488452 0.11973228946 0.137943346898  Adding\n",
        "218 216 0.00174648388492 0.144859137408 0.135052767409  Adding\n",
        "218 184 0.0135986715793 0.119326076227 0.133628968463  Adding\n",
        "218 181 0.0179513903435 0.232099677093 0.119560432091  Adding\n",
        "218 221 0.00800750686246 0.0982733431853 0.105273384502  Adding\n",
        "352 384 0.00182025430981 0.211535757309 0.0970621594677  Adding\n",
        "352 312 0.00314390601639 0.0167018751735 0.0986705894322  Adding\n",
        "352 351 0.000835113961727 0.0796433810533 0.0932344094944  Adding\n",
        "298 312 0.00279061214648 0.0167018751735 0.0920423997692  Adding\n",
        "369 415 0.000706072976125 0.172859003267 0.0872545849876  Adding\n",
        "369 399 0.00825542793657 0.12726756427 0.0886716002959  Adding\n",
        "378 384 0.00163684593604 0.211535757309 0.0813986366292  Adding\n",
        "378 418 0.00380568096638 0.42216551733 0.083087859269  Adding\n",
        "378 415 0.000626623154718 0.172859003267 0.0872063286066  Adding\n",
        "379 393 0.00683904084221 0.101022472714 0.088505564055  Adding\n",
        "379 399 0.00703250165492 0.12726756427 0.0819589752563  Adding\n",
        "252 312 0.00203843518974 0.0167018751735 0.0759506343776  Adding\n",
        "252 243 0.00210334272769 0.0267832609899 0.0726157018169  Adding\n",
        "252 221 0.00467135428082 0.0982733431853 0.0694491163423  Adding\n",
        "252 263 0.00457219106955 0.0896609118124 0.0653699063422  Adding\n",
        "255 216 0.0011889050965 0.144859137408 0.061283049373  Adding\n",
        "set([384, 322, 259, 325, 243, 393, 335, 336, 273, 399, 216, 218, 347, 312, 221, 223, 352, 418, 291, 298, 263, 369, 351, 307, 415, 181, 184, 313, 378, 379, 252, 253, 255])\n",
        "384 412 0.000812179804902 0.044563994372 0.0617874265153  Adding\n",
        "384 427 0.00239313786112 0.362745619879 0.0606437409027  Adding\n",
        "384 372 0.00131266941337 0.197463627301 0.0640680136774  Adding\n",
        "325 360 0.00471352253174 0.5797778989 0.0653253991693  Adding\n",
        "243 212 0.0033658444099 0.0602418034005 0.0704633244975  Adding\n",
        "243 213 0.00304943629103 0.0545117026269 0.0669122440925  Adding\n",
        "393 360 0.00444900783047 0.5797778989 0.0636464740235  Adding\n",
        "393 431 0.00615700967051 0.164213223902 0.068559691694  Adding\n",
        "399 437 0.00323790329034 0.0603932229018 "
       ]
      },
      {
       "output_type": "stream",
       "stream": "stdout",
       "text": [
        "0.0641314323244  Adding\n",
        "399 453 0.000891367110864 0.127586449304 0.0608309743489  Adding\n",
        "399 431 0.00557695896374 0.164213223902 0.0610291230747  Adding\n",
        "216 180 0.00466533748352 0.110732512067 0.057224893309  Adding\n",
        "312 306 0.00210087446375 0.0550529162119 0.0535306025374  Adding\n",
        "221 212 0.00244817491473 0.0602418034005 0.0514544282862  Adding\n",
        "223 217 0.00143104161626 0.0368461162578 0.0491426182309  Adding\n",
        "223 180 0.00404570495913 0.110732512067 0.0475190438631  Adding\n",
        "418 427 0.00218309005823 0.362745619879 0.0445484022936  Adding\n",
        "418 463 0.00212141653144 0.243371491389 0.0470894020811  Adding\n",
        "291 290 0.0010944097592 0.0466098598224 0.0478856043538  Adding\n",
        "291 254 0.000696318100079 0.115717375409 0.0467720945646  Adding\n",
        "291 326 0.000592082160684 0.11026263791 0.0471242314257  Adding\n",
        "263 226 0.00247755990282 0.0678158672075 0.0475200452734  Adding\n",
        "263 306 0.00163842216213 0.0550529162119 0.0453416905647  Adding\n",
        "351 372 0.00113947922202 0.197463627301 0.0438384082716  Adding\n",
        "415 453 0.000754172188289 0.127586449304 0.0447963813832  Adding\n",
        "415 463 0.00186610572553 0.243371491389 0.0451133035762  Adding\n",
        "181 146 0.000748532700903 0.0397218420498 0.0458736539084  Adding\n",
        "181 180 0.00338785721293 0.110732512067 0.0450437161511  Adding\n",
        "184 148 0.00203231203205 0.0948832007822 0.0425957184033  Adding\n",
        "184 171 0.00253828498103 0.0968488804494 0.0412316516042  Adding\n",
        "184 212 0.00168973410628 0.0602418034005 0.0393658011972  Adding\n",
        "253 217 0.00101472851729 0.0368461162578 0.0379301337387  Adding\n",
        "253 254 0.000613845767573 0.115717375409 0.0369020489299  Adding\n",
        "set([384, 259, 263, 393, 399, 273, 146, 148, 171, 412, 415, 418, 291, 298, 427, 431, 306, 307, 180, 181, 312, 313, 351, 437, 322, 325, 326, 290, 335, 336, 184, 453, 212, 213, 463, 216, 217, 218, 347, 221, 223, 352, 226, 360, 369, 243, 372, 378, 379, 252, 253, 254, 255])\n",
        "146 112 0.000854881015935 0.0621912039063 0.0372943435913  Adding\n",
        "146 145 0.000509363824623 0.0269821419729 0.036678886184  Adding\n",
        "146 109 0.00266502145263 0.152650454158 0.0360527564491  Adding\n",
        "146 111 0.00107668499576 0.0650726083054 0.0345270735311  Adding\n",
        "148 137 0.00039034103058 0.0275086099144 0.0337192348541  Adding\n",
        "148 111 0.00102763003503 0.0650726083054 0.0332554663835  Adding\n",
        "171 137 0.000365115955963 0.0275086099144 0.032502177784  Adding\n",
        "171 178 0.000909953156244 0.0390260002471 0.0320792106256  Adding\n",
        "171 143 0.000770181236774 0.0207106691397 0.0312397714233  Adding\n",
        "412 452 0.00116795877577 0.208721122474 0.0303548213543  Adding\n",
        "412 414 0.000597426855992 0.0471810870807 0.0310972485842  Adding\n",
        "427 465 0.000389025986723 0.050754124748 0.0306632528697  Adding\n",
        "427 452 0.00111676614327 0.208721122474 0.0304730032559  Adding\n",
        "431 457 0.0020362489905 0.137632021285 0.0312078260783  Adding\n",
        "431 397 0.000443873420651 0.0288836765146 0.0300380752482  Adding\n",
        "306 305 0.00112340485552 0.0562474931537 0.0295849291828  Adding\n",
        "306 346 0.000421279731435 0.118188172671 0.0287270855174  Adding\n",
        "306 333 0.000709554988908 0.0454499781251 0.0291850357292  Adding\n",
        "306 262 0.00125617423101 0.0876651731723 0.0286353377941  Adding\n",
        "180 145 0.000367162557532 0.0269821419729 0.0279721875107  Adding\n",
        "437 457 0.001847778091 0.137632021285 0.0275950630526  Adding\n",
        "437 468 0.000479926731618 0.031561250246 0.0265862351567  Adding\n",
        "437 469 0.00201776971717 0.125460116128 0.0261574272446  Adding\n",
        "326 368 0.00103725176212 0.221809895639 0.0250129797426  Adding\n",
        "326 329 0.000628043476681 0.0919194578793 0.025847072438  Adding\n",
        "290 264 0.00124649973546 0.0718312812636 0.025876009184  Adding\n",
        "290 329 0.000604838578151 0.0919194578793 0.0250692347309  Adding\n",
        "290 292 0.000618348897774 0.0820271559372 0.0251163299543  Adding\n",
        "453 492 0.000637445695789 0.032002171144 0.0250143838341  Adding\n",
        "453 469 0.00185744153072 0.125460116128 0.0244332192591  Adding\n",
        "212 178 0.00062739751463 0.0390260002471 0.0234088117403  Adding\n",
        "213 178 0.000613326659722 0.0390260002471 0.0229088875956  Adding\n",
        "463 496 0.000696251817479 0.12360323906 0.0224260497759  Adding\n",
        "463 492 0.000582333715643 0.032002171144 0.0225605292901  Adding\n",
        "463 502 0.00052372946073 0.040637159098 0.0220512140025  Adding\n",
        "217 215 0.00124713946969 0.085564190071 0.0216659412727  Adding\n",
        "217 182 0.00243414117728 0.193006891655 0.0209436601195  Adding\n",
        "217 231 0.000429256320185 0.0231356900128 0.0200181877157  Adding\n",
        "226 192 0.000907543053663 0.061041280856 0.0196115089308  Adding\n",
        "226 250 0.000328631646562 0.0320929361812 0.0190489396949  Adding\n",
        "226 211 0.00208997148911 0.168744246029 0.018826029232  Adding\n",
        "226 262 0.000881226792251 0.0876651731723 0.017986320245  Adding\n",
        "360 368 0.000981382381931 0.221809895639 0.0176789834305  Adding\n",
        "360 397 0.0002803044463 0.0288836765146 0.0183511841609  Adding\n",
        "360 406 0.00195447043287 0.372351181456 0.0181365766162  Adding\n",
        "372 377 0.000421655679637 0.0516867087169 0.0190980648285  Adding\n",
        "372 346 0.000386127655915 0.118188172671 0.0189222599862  Adding\n",
        "372 333 0.000460272359669 0.0454499781251 0.0192910108408  Adding\n",
        "372 414 0.000334864920827 0.0471810870807 0.0190301155608  Adding\n",
        "254 264 0.00089619477255 0.0718312812636 0.0189013093052  Adding\n",
        "254 231 0.000377923704158 0.0231356900128 0.0184225426156  Adding\n",
        "set([109, 111, 112, 137, 143, 145, 146, 148, 171, 178, 180, 181, 182, 184, 192, 211, 212, 213, 215, 216, 217, 218, 221, 223, 226, 231, 243, 250, 252, 253, 254, 255, 259, 262, 263, 264, 273, 290, 291, 292, 298, 305, 306, 307, 312, 313, 322, 325, 326, 329, 333, 335, 336, 346, 347, 351, 352, 360, 368, 369, 372, 377, 378, 379, 384, 393, 397, 399, 406, 412, 414, 415, 418, 427, 431, 437, 452, 453, 457, 463, 465, 468, 469, 492, 496, 502])\n",
        "109 73 0.00137968616193 0.104256270244 0.0180754889106  Adding\n",
        "109 78 0.0012416599901 0.0892442742587 0.017406915671  Adding\n",
        "109 110 0.000393322464483 0.0520404773527 0.0167604685053  Adding\n",
        "111 96 0.0026148958366 0.241515092212 0.0166365170274  Adding\n",
        "111 73 0.00126268469121 0.104256270244 0.0157898662532  Adding\n",
        "112 73 0.00123245903282 0.104256270244 0.015234233188  Adding\n",
        "137 96 0.00246337616612 0.241515092212 0.0147076251913  Adding\n",
        "137 72 0.00241166426129 0.22767481767 0.0139859023736  Adding\n",
        "137 103 0.00217113812083 0.200807895703 0.013321946259  Adding\n",
        "143 160 0.000959118042928 0.0858514327018 0.0126256388166  Adding\n",
        "143 115 0.000620788280562 0.0669844148975 0.0121624266127  Adding\n",
        "143 103 0.00207216848603 0.200807895703 0.0119245874036  Adding\n",
        "145 144 0.000370426721352 0.0270660716252 0.0113065884651  Adding\n",
        "145 110 0.000322279930811 0.0520404773527 0.0110460259316  Adding\n",
        "182 144 0.000360854356207 0.0270660716252 0.0110117380313  Adding\n",
        "182 179 0.000655985503411 0.0661203586747 0.0107612530898  Adding\n",
        "192 168 0.000481004475092 0.0362492044227 0.0104483578446  Adding\n",
        "192 160 0.000854103191921 0.0858514327018 0.0101519499651  Adding\n",
        "211 168 0.000462225175016 0.0362492044227 0.00978282436495 Too close to Null\n",
        "215 224 0.000436153950988 0.0386019862102 0.00978282436495 Too close to Null\n",
        "231 224 0.000436153950988 0.0386019862102 0.00978282436495 Too close to Null\n",
        "250 286 0.000247509785003 0.030109866547 0.00978282436495 Too close to Null\n",
        "262 286 0.000247509785003 0.030109866547 0.00978282436495 Too close to Null\n",
        "264 224 0.000436153950988 0.0386019862102 0.00978282436495 Too close to Null\n",
        "292 287 0.000573305457298 0.0599286507297 0.00978282436495 Too close to Null\n",
        "305 286 0.000247509785003 0.030109866547 0.00978282436495 Too close to Null\n",
        "329 356 0.000178978824269 0.0201342228831 0.00978282436495 Too close to Null\n",
        "333 341 0.000396577902002 0.0400680249333 0.00978282436495 Too close to Null\n",
        "368 413 0.0011228954764 0.2351690109 0.00978282436495 Too close to Null\n",
        "377 425 0.00123378745325 0.137210496873 0.00978282436495 Too close to Null\n",
        "397 441 0.000239668070871 0.021587169421 0.00978282436495 Too close to Null\n",
        "406 441 0.000239668070871 0.021587169421"
       ]
      },
      {
       "output_type": "stream",
       "stream": "stdout",
       "text": [
        " 0.00978282436495 Too close to Null\n",
        "414 425 0.00123378745325 0.137210496873 0.00978282436495 Too close to Null\n",
        "452 488 0.000248867935349 0.0514097457426 0.00978282436495 Too close to Null\n",
        "457 489 0.000302038034499 0.025665451913 0.00978282436495 Too close to Null\n",
        "465 488 0.000248867935349 0.0514097457426 0.00978282436495 Too close to Null\n",
        "468 489 0.000302038034499 0.025665451913 0.00978282436495 Too close to Null\n",
        "496 488 0.000248867935349 0.0514097457426 0.00978282436495 Too close to Null\n",
        "set([259, 262, 263, 264, 469, 273, 427, 290, 291, 292, 399, 298, 305, 306, 307, 393, 312, 313, 437, 96, 322, 325, 326, 72, 329, 333, 78, 335, 336, 346, 347, 351, 352, 103, 360, 109, 110, 111, 112, 369, 115, 372, 377, 378, 379, 384, 137, 397, 143, 144, 145, 146, 148, 406, 412, 414, 415, 160, 368, 418, 168, 171, 431, 178, 179, 180, 181, 182, 73, 184, 192, 452, 453, 457, 463, 465, 211, 212, 213, 215, 216, 217, 218, 221, 223, 226, 231, 492, 496, 243, 502, 468, 250, 252, 253, 254, 255])\n",
        "262 286 0.000247509785003 0.030109866547 0.00978282436495 Too close to Null\n",
        "264 224 0.000436153950988 0.0386019862102 0.00978282436495 Too close to Null\n",
        "292 287 0.000573305457298 0.0599286507297 0.00978282436495 Too close to Null\n",
        "305 286 0.000247509785003 0.030109866547 0.00978282436495 Too close to Null\n",
        "96 60 0.00127715598848 0.127221992248 0.00978282436495 Too close to Null\n",
        "72 40 0.000896272707356 0.092880316303 0.00978282436495 Too close to Null\n",
        "329 356 0.000178978824269 0.0201342228831 0.00978282436495 Too close to Null\n",
        "333 341 0.000396577902002 0.0400680249333 0.00978282436495 Too close to Null\n",
        "78 90 0.00169895415107 0.220033264737 0.00978282436495 Too close to Null\n",
        "103 37 0.0011560231295 0.0861588073557 0.00978282436495 Too close to Null\n",
        "110 90 0.00169895415107 0.220033264737 0.00978282436495 Too close to Null\n",
        "115 89 0.00130180855655 0.135884693214 0.00978282436495 Too close to Null\n",
        "377 425 0.00123378745325 0.137210496873 0.00978282436495 Too close to Null\n",
        "397 441 0.000239668070871 0.021587169421 0.00978282436495 Too close to Null\n",
        "144 135 0.000452940049697 0.0400845281534 0.00978282436495 Too close to Null\n",
        "406 441 0.000239668070871 0.021587169421 0.00978282436495 Too close to Null\n",
        "414 425 0.00123378745325 0.137210496873 0.00978282436495 Too close to Null\n",
        "368 413 0.0011228954764 0.2351690109 0.00978282436495 Too close to Null\n",
        "168 140 0.000293134402853 0.0320877106208 0.00978282436495 Too close to Null\n",
        "179 147 0.00155191133954 0.185312584137 0.00978282436495 Too close to Null\n",
        "73 60 0.00127715598848 0.127221992248 0.00978282436495 Too close to Null\n",
        "452 488 0.000248867935349 0.0514097457426 0.00978282436495 Too close to Null\n",
        "457 489 0.000302038034499 0.025665451913 0.00978282436495 Too close to Null\n",
        "465 488 0.000248867935349 0.0514097457426 0.00978282436495 Too close to Null\n",
        "211 204 0.000245599791872 0.0210193975469 0.00978282436495 Too close to Null\n",
        "215 224 0.000436153950988 0.0386019862102 0.00978282436495 Too close to Null\n",
        "231 224 0.000436153950988 0.0386019862102 0.00978282436495 Too close to Null\n",
        "496 488 0.000248867935349 0.0514097457426 0.00978282436495 Too close to Null\n",
        "468 489 0.000302038034499 0.025665451913 0.00978282436495 Too close to Null\n",
        "250 286 0.000247509785003 0.030109866547 0.00978282436495 Too close to Null\n",
        "************ 335 distance from null= 0.422608054778\n",
        "335 352 0.0600846639084 0.185000614409 0.422608054778\n",
        "335 298 0.0530140366682 0.0862204478955 0.422608054778\n",
        "335 369 0.0108920899052 0.340680428593 0.422608054778  Adding\n",
        "335 313 0.0151028783554 0.458818815086 0.369495021804  Adding\n",
        "335 378 0.00820252857994 0.48957954782 0.384436255559  Adding\n",
        "335 347 0.010148040957 0.459577304705 0.40312165064  Adding\n",
        "set([369, 378, 347, 313, 335])\n",
        "369 415 0.010079925641 0.172859003267 0.40398100784  Adding\n",
        "369 399 0.0891169956835 0.12726756427 0.356660085861\n",
        "378 352 0.0218696618374 0.185000614409 0.356660085861  Adding\n",
        "378 384 0.00728222653993 0.211535757309 0.310612718663  Adding\n",
        "378 418 0.00506802331152 0.42216551733 0.290390331674  Adding\n",
        "378 415 0.00355888012391 0.172859003267 0.29968025062  Adding\n",
        "347 336 0.0181350144227 0.0942785214856 0.28383809107  Adding\n",
        "347 379 0.0397095947871 0.0946033863327 0.249252225343\n",
        "347 307 0.00669224449389 0.126979859811 0.249252225343  Adding\n",
        "313 259 0.0015282122324 0.231739690484 0.231851687396  Adding\n",
        "313 298 0.00570054864038 0.0862204478955 0.230314463783  Adding\n",
        "313 307 0.00372178024675 0.126979859811 0.214378750005  Adding\n",
        "335 352 0.00589500287585 0.185000614409 0.204573697825  Adding\n",
        "335 298 0.00355660332979 0.0862204478955 0.197479658146  Adding\n",
        "set([352, 384, 418, 259, 298, 335, 336, 369, 307, 313, 378, 347, 415])\n",
        "352 312 0.010728370858 0.0167018751735 0.187423880791\n",
        "352 351 0.00379185028127 0.0796433810533 0.187423880791  Adding\n",
        "384 412 0.00502402019089 0.044563994372 0.177821057027  Adding\n",
        "384 427 0.00263449275819 0.362745619879 0.16589983843  Adding\n",
        "384 372 0.00163948179146 0.197463627301 0.173137506309  Adding\n",
        "384 351 0.00258217008076 0.0796433810533 0.172682053224  Adding\n",
        "418 427 0.00223274543846 0.362745619879 0.165991587115  Adding\n",
        "418 463 0.00404438925441 0.243371491389 0.172340256815  Adding\n",
        "259 218 0.00301272773555 0.0679448692637 0.17131080533  Adding\n",
        "259 252 0.00209140491628 0.0610270594426 0.164344796116  Adding\n",
        "259 221 0.0130614521199 0.0982733431853 0.158114433568  Adding\n",
        "259 255 0.00195910289237 0.299757265143 0.142862862231  Adding\n",
        "298 312 0.00536231838981 0.0167018751735 0.14684655584\n",
        "298 252 0.00156395621446 0.0610270594426 0.14684655584  Adding\n",
        "336 393 0.0134222692514 0.101022472714 0.142210005069  Adding\n",
        "336 322 0.000572105573754 0.100289351253 0.127382669118  Adding\n",
        "336 379 0.0104337992893 0.0946033863327 0.125879387403  Adding\n",
        "336 325 0.0100227590958 0.768804220841 0.114556820097  Adding\n",
        "369 399 0.0116553879404 0.12726756427 0.127258154826  Adding\n",
        "307 273 0.00115472727696 0.0861169512156 0.115603046083  Adding\n",
        "307 322 0.000386799277184 0.100289351253 0.113581482484  Adding\n",
        "307 255 0.00169410671337 0.299757265143 0.112803064363  Adding\n",
        "347 379 0.00819553301888 0.0946033863327 0.116413169982  Adding\n",
        "415 399 0.00926213629718 0.12726756427 0.107698962335  Adding\n",
        "415 453 0.00104647256586 0.127586449304 0.098942235998  Adding\n",
        "415 463 0.00242702433861 0.243371491389 0.098592581687  Adding\n",
        "set([384, 259, 393, 399, 273, 412, 415, 418, 347, 298, 427, 307, 313, 322, 325, 335, 336, 453, 218, 463, 221, 351, 352, 369, 372, 378, 379, 252, 255])\n",
        "393 360 0.00492779432333 0.5797778989 0.0997304124404  Adding\n",
        "393 431 0.00974398026196 0.164213223902 0.106531917496  Adding\n",
        "399 437 0.00546096825027 0.0603932229018 0.0981834065097  Adding\n",
        "399 431 0.00862839957503 0.164213223902 0.0918807034703  Adding\n",
        "273 291 0.000879273888218 0.0969537772691 0.0849237133737  Adding\n",
        "273 253 0.00176169266851 0.301047368235 0.0843265778682  Adding\n",
        "273 223 0.00105682556872 0.11973228946 0.0874221084715  Adding\n",
        "412 452 0.00125436505636 0.208721122474 0.0870580788187  Adding\n",
        "412 414 0.00217922172708 0.0471810870807 0.0882531335775  Adding\n",
        "298 312 0.00198927435283 0.0167018751735 0.0852963719085  Adding\n",
        "427 465 0.000900760127031 0.050754124748 0.0819710898329  Adding\n",
        "427 452 0.00118292029777 0.208721122474 0.0805106911938  Adding\n",
        "322 291 0.000650236938417 0.0969537772691 0.0817207903523  Adding\n",
        "325 360 0.00422859059872 0.5797778989 0.0813748133761  Adding\n",
        "325 291 0.00064137231434 0.0969537772691 0.0864104018695  Adding\n",
        "453 492 0.00236057519699 0.032002171144 0.085971732476  Adding\n",
        "453 469 0.00549302849583 0.125460116128 0.0827691835362  Adding\n",
        "453 437 0.00360352707361 0.0603932229018 0.0779527760286  Adding\n",
        "218 216 0.00096557348151 0.144859137408 0.0740578412692  Adding\n",
        "218 184 0.00549230716605 0.119326076227 0.0742759655248  Adding\n",
        "218 181 0.00798104098295 0.232099677093 0.0695479334362  Adding\n",
        "463 496 0.00098904661408 0.12360323906 0.0643439261385  Adding\n",
        "463 492 0.00173597131557 0.032002171144 0.0642370866628  Adding\n",
        "463 502 0.00132804338309 0.040637159098 0.0620519307305  Adding\n",
        "221 184 0.00463322837215 0.119326076227 0.0604381481506  Adding\n",
        "221 243 0.00131788204239 0.0267832609899 0.0567312553183  Adding\n",
        "221 212 0.00251175388846 0.0602418034005 0.0549298707382  Adding\n",
        "351 312 0.00102127163318 0.0167018751735 0.0524953872053  Adding\n",
        "352 312 0.000980366265073 0.0167018751735 0.0509569964903  Adding\n",
        "372"
       ]
      },
      {
       "output_type": "stream",
       "stream": "stdout",
       "text": [
        " 377 0.00113958154586 0.0516867087169 0.0494887847557  Adding\n",
        "372 346 0.000428942252901 0.118188172671 0.0483788559028  Adding\n",
        "372 333 0.00132619769539 0.0454499781251 0.0488936281065  Adding\n",
        "372 414 0.000969974115379 0.0471810870807 0.047521047565  Adding\n",
        "252 312 0.000846807939585 0.0167018751735 0.0465467004679  Adding\n",
        "252 243 0.000978815164021 0.0267832609899 0.0453024436069  Adding\n",
        "252 263 0.00247551863943 0.0896609118124 0.0440597750494  Adding\n",
        "255 216 0.000842863656549 0.144859137408 0.0421598494288  Adding\n",
        "set([259, 263, 273, 291, 298, 307, 312, 313, 181, 322, 325, 333, 335, 336, 346, 347, 351, 352, 360, 369, 372, 377, 378, 379, 384, 393, 399, 412, 414, 415, 418, 427, 431, 437, 184, 452, 453, 463, 465, 212, 469, 216, 218, 221, 223, 492, 496, 243, 502, 252, 253, 255])\n",
        "263 226 0.00221306568723 0.0678158672075 0.0426413628541  Adding\n",
        "263 306 0.00145008589641 0.0550529162119 0.0407673600476  Adding\n",
        "291 290 0.00078964527007 0.0466098598224 0.0394991126782  Adding\n",
        "291 254 0.000562939327812 0.115717375409 0.0388000113075  Adding\n",
        "291 326 0.000466858032342 0.11026263791 0.0392341559499  Adding\n",
        "312 306 0.00134527793331 0.0550529162119 0.0397168441945  Adding\n",
        "181 146 0.000575518931669 0.0397218420498 0.0385569804921  Adding\n",
        "181 180 0.00292999254412 0.110732512067 0.0379954191242  Adding\n",
        "333 305 0.00139033080572 0.0562474931537 0.0360090574681  Adding\n",
        "333 306 0.00118977443399 0.0550529162119 0.0348448218092  Adding\n",
        "333 341 0.0010908702061 0.0400680249333 0.0338879288944  Adding\n",
        "333 294 0.00109926684017 0.0970611341056 0.0328673908461  Adding\n",
        "346 306 0.00110295347175 0.0550529162119 0.0325068847952  Adding\n",
        "360 368 0.00104005112322 0.221809895639 0.0316550149274  Adding\n",
        "360 397 0.000467542129001 0.0288836765146 0.0326832030676  Adding\n",
        "360 326 0.000453831633204 0.11026263791 0.0321839074144  Adding\n",
        "360 406 0.00211523290884 0.372351181456 0.0326507527092  Adding\n",
        "377 425 0.00258898802451 0.137210496873 0.0342282816921  Adding\n",
        "377 386 0.00137983994524 0.0611387149462 0.0326905866322  Adding\n",
        "377 341 0.000961421378419 0.0400680249333 0.0316045381615  Adding\n",
        "414 425 0.00241733363743 0.137210496873 0.0307306244981  Adding\n",
        "414 451 0.000316435783142 0.0581868636435 0.0293674013717  Adding\n",
        "431 457 0.00193619832119 0.137632021285 0.0293294382322  Adding\n",
        "431 397 0.000396467459442 0.0288836765146 0.0282322865872  Adding\n",
        "437 457 0.00187567062486 0.137632021285 0.0278407996857  Adding\n",
        "437 468 0.00048034326595 0.031561250246 0.0268027652591  Adding\n",
        "184 171 0.00168209203184 0.0968488804494 0.0263713482906  Adding\n",
        "184 148 0.00123246818297 0.0948832007822 0.0253426590365  Adding\n",
        "452 488 0.000355142166949 0.0514097457426 0.0247769954599  Adding\n",
        "452 451 0.000298516833961 0.0581868636435 0.024661558719  Adding\n",
        "452 487 0.000770341679702 0.140067206226 0.0246649390787  Adding\n",
        "465 488 0.000339669913371 0.0514097457426 0.0249186027155  Adding\n",
        "212 178 0.000629381644445 0.0390260002471 0.0248110678705  Adding\n",
        "212 171 0.00153809777526 0.0968488804494 0.0242999430413  Adding\n",
        "212 213 0.00094935055858 0.0545117026269 0.0233936773272  Adding\n",
        "469 468 0.00040403719543 0.031561250246 0.0227125630581  Adding\n",
        "216 180 0.00184456253724 0.110732512067 0.0223916806529  Adding\n",
        "223 217 0.000604324770706 0.0368461162578 0.0214106287446  Adding\n",
        "223 180 0.00177390829156 0.110732512067 0.0209416516078  Adding\n",
        "496 488 0.000311579671628 0.0514097457426 0.0200293830986  Adding\n",
        "243 213 0.000849402238127 0.0545117026269 0.0199737652094  Adding\n",
        "253 217 0.000562353138592 0.0368461162578 0.0194063991322  Adding\n",
        "253 254 0.000503701693511 0.115717375409 0.0189917763031  Adding\n",
        "set([384, 386, 259, 341, 263, 393, 290, 397, 399, 273, 146, 148, 171, 406, 213, 412, 218, 414, 415, 368, 418, 291, 294, 425, 298, 427, 178, 431, 305, 306, 307, 180, 181, 312, 313, 223, 437, 322, 451, 452, 325, 326, 468, 457, 333, 335, 336, 184, 453, 212, 469, 463, 216, 217, 346, 347, 221, 351, 352, 226, 465, 360, 488, 487, 492, 496, 369, 243, 372, 502, 377, 378, 379, 252, 253, 254, 255])\n",
        "386 400 0.000972302934357 0.0677654327619 0.0193404008346  Adding\n",
        "386 361 0.000940438469184 0.0731550926821 0.0187620716643  Adding\n",
        "341 361 0.000917892892268 0.0731550926821 0.0182682049745  Adding\n",
        "341 327 0.000289702552915 0.0540898625552 0.0177972689954  Adding\n",
        "290 264 0.000913841721026 0.0718312812636 0.0177893535384  Adding\n",
        "290 329 0.000486107253887 0.0919194578793 0.0173188382539  Adding\n",
        "290 292 0.000472164030649 0.0820271559372 0.0174573201828  Adding\n",
        "397 441 0.000351815968344 0.021587169421 0.0174888105554  Adding\n",
        "146 112 0.000450018186223 0.0621912039063 0.0171654875031  Adding\n",
        "146 145 0.000224538574938 0.0269821419729 0.0169968213805  Adding\n",
        "146 109 0.00147885156958 0.152650454158 0.0168507439484  Adding\n",
        "146 111 0.000602418652187 0.0650726083054 0.0162407351735  Adding\n",
        "148 137 0.000180751676924 0.0275086099144 0.0159205840869  Adding\n",
        "148 111 0.000584931109198 0.0650726083054 0.0158301765115  Adding\n",
        "171 137 0.000173038407636 0.0275086099144 0.0155260564615  Adding\n",
        "171 143 0.000372104787574 0.0207106691397 0.0154451907737  Adding\n",
        "406 441 0.000304258678496 0.021587169421 0.015111723946  Adding\n",
        "406 442 0.00246304943051 0.478322280142 0.0148497963714  Adding\n",
        "406 413 0.00107090182984 0.2351690109 0.0155817783631  Adding\n",
        "368 329 0.000440636486124 0.0919194578793 0.0161206482124  Adding\n",
        "368 413 0.00103589504211 0.2351690109 0.0162552378446  Adding\n",
        "294 293 0.000468444622618 0.029446045927 0.0168004952592  Adding\n",
        "294 261 0.00064600359998 0.068525487473 0.0164214173524  Adding\n",
        "294 286 0.000259348340461 0.030109866547 0.0161408888591  Adding\n",
        "294 327 0.000233958042484 0.0540898625552 0.0159754575412  Adding\n",
        "425 400 0.000745908403553 0.0677654327619 0.0159962762786  Adding\n",
        "425 450 0.000924324387574 0.085280307178 0.0156018963526  Adding\n",
        "425 436 0.000260980116025 0.0334332759602 0.0151226970198  Adding\n",
        "178 192 0.00064594896617 0.061041280856 0.0149810780809  Adding\n",
        "178 143 0.000324461936965 0.0207106691397 0.014644718995  Adding\n",
        "305 286 0.000231422894837 0.030109866547 0.0143606751572  Adding\n",
        "305 262 0.000671931195759 0.0876651731723 0.0142303434962  Adding\n",
        "306 262 0.000658999256931 0.0876651731723 0.0140490587201  Adding\n",
        "180 145 0.000171668022524 0.0269821419729 0.0138786526368  Adding\n",
        "451 483 0.000278741794885 0.0813123104129 0.0137943890117  Adding\n",
        "326 329 0.000394173247443 0.0919194578793 0.013937478996  Adding\n",
        "468 489 0.000342199695457 0.025665451913 0.0140747154375  Adding\n",
        "457 489 0.000336631240767 0.025665451913 0.0138026714824  Adding\n",
        "457 441 0.000251665588068 0.021587169421 0.0135374106075  Adding\n",
        "217 215 0.000788643515491 0.085564190071 0.0133311610424  Adding\n",
        "217 182 0.00162504915171 0.193006891655 0.0129782495871  Adding\n",
        "217 231 0.000263891585254 0.0231356900128 0.0125151588236  Adding\n",
        "226"
       ]
      },
      {
       "output_type": "stream",
       "stream": "stdout",
       "text": [
        " 192 0.000553836942237 0.061041280856 0.0123079942517  Adding\n",
        "226 250 0.000194953775917 0.0320929361812 0.0120540897611  Adding\n",
        "226 211 0.00141164299553 0.168744246029 0.0119794364827  Adding\n",
        "226 262 0.000577192939309 0.0876651731723 0.0115382562996  Adding\n",
        "254 264 0.000592107318895 0.0718312812636 0.011427477967  Adding\n",
        "254 231 0.000245154369434 0.0231356900128 0.0112096081078  Adding\n",
        "set([259, 261, 262, 263, 264, 273, 427, 286, 290, 291, 292, 293, 294, 298, 436, 305, 306, 307, 137, 312, 313, 437, 322, 325, 326, 327, 329, 333, 335, 336, 341, 346, 347, 351, 352, 360, 361, 231, 109, 111, 368, 369, 372, 377, 378, 379, 384, 386, 393, 397, 399, 400, 145, 146, 148, 406, 412, 413, 414, 415, 112, 418, 425, 171, 431, 178, 180, 181, 182, 184, 441, 442, 192, 450, 451, 452, 453, 457, 143, 463, 465, 211, 468, 213, 215, 216, 217, 218, 221, 223, 226, 483, 487, 488, 489, 492, 496, 243, 502, 212, 250, 255, 252, 253, 254, 469])\n",
        "261 222 0.000329196859039 0.0368308062977 0.0110259058263  Adding\n",
        "261 230 0.000238209485009 0.0334371263427 0.0108508120271  Adding\n",
        "264 224 0.00036466181397 0.0386019862102 0.0107456400614  Adding\n",
        "264 251 0.000596302058096 0.0798673740559 0.0105434015242  Adding\n",
        "292 287 0.000424233119939 0.0599286507297 0.0103337601503  Adding\n",
        "293 321 0.000309441163111 0.0730980623308 0.0101947877463  Adding\n",
        "293 260 0.000531841631945 0.0778353335464 0.0102570195075  Adding\n",
        "293 284 0.000168053789089 0.0257953389494 0.0101098160692  Adding\n",
        "436 464 0.000230651667262 0.0291145329909 0.0100296942132  Adding\n",
        "436 482 0.000719031433419 0.103557581086 0.00989855302916 Too close to Null\n",
        "137 96 0.00196405887079 0.241515092212 0.00989855302916 Too close to Null\n",
        "327 355 0.000226458525077 0.0376929063165 0.00989855302916 Too close to Null\n",
        "329 356 0.00013491982306 0.0201342228831 0.00989855302916 Too close to Null\n",
        "361 355 0.000226458525077 0.0376929063165 0.00989855302916 Too close to Null\n",
        "231 224 0.00033652613785 0.0386019862102 0.00989855302916 Too close to Null\n",
        "109 73 0.000977078504903 0.104256270244 0.00989855302916 Too close to Null\n",
        "111 96 0.00196405887079 0.241515092212 0.00989855302916 Too close to Null\n",
        "400 428 0.000102013926317 0.0169069487403 0.00989855302916 Too close to Null\n",
        "145 144 0.00025102826209 0.0270660716252 0.00989855302916 Too close to Null\n",
        "413 444 0.000199454610902 0.0644688194384 0.00989855302916 Too close to Null\n",
        "112 73 0.000977078504903 0.104256270244 0.00989855302916 Too close to Null\n",
        "182 144 0.00025102826209 0.0270660716252 0.00989855302916 Too close to Null\n",
        "441 484 0.000358765047451 0.0428853191528 0.00989855302916 Too close to Null\n",
        "442 444 0.000199454610902 0.0644688194384 0.00989855302916 Too close to Null\n",
        "192 168 0.00036210103629 0.0362492044227 0.00989855302916 Too close to Null\n",
        "450 482 0.000719031433419 0.103557581086 0.00989855302916 Too close to Null\n",
        "143 160 0.000707578092076 0.0858514327018 0.00989855302916 Too close to Null\n",
        "211 168 0.00036210103629 0.0362492044227 0.00989855302916 Too close to Null\n",
        "215 224 0.00033652613785 0.0386019862102 0.00989855302916 Too close to Null\n",
        "489 484 0.000358765047451 0.0428853191528 0.00989855302916 Too close to Null\n",
        "250 230 0.000215391591755 0.0334371263427 0.00989855302916 Too close to Null\n",
        "set([259, 260, 261, 262, 263, 264, 469, 273, 171, 284, 286, 287, 290, 291, 292, 293, 294, 298, 305, 306, 307, 393, 312, 313, 181, 321, 322, 325, 326, 327, 329, 333, 335, 336, 341, 346, 347, 351, 352, 360, 361, 487, 109, 111, 368, 369, 372, 377, 378, 379, 384, 386, 137, 397, 399, 400, 145, 146, 148, 406, 412, 413, 414, 415, 112, 418, 425, 427, 431, 180, 178, 436, 437, 182, 184, 441, 442, 192, 450, 451, 452, 453, 457, 143, 463, 464, 465, 211, 468, 213, 215, 216, 217, 218, 221, 222, 223, 224, 226, 483, 230, 231, 488, 489, 492, 496, 243, 502, 212, 250, 251, 252, 253, 254, 255])\n",
        "260 248 0.000252362298234 0.0272532718262 0.00989855302916 Too close to Null\n",
        "284 248 0.000252362298234 0.0272532718262 0.00989855302916 Too close to Null\n",
        "287 256 0.000203894101625 0.0304791109578 0.00989855302916 Too close to Null\n",
        "321 355 0.000226458525077 0.0376929063165 0.00989855302916 Too close to Null\n",
        "327 355 0.000226458525077 0.0376929063165 0.00989855302916 Too close to Null\n",
        "329 356 0.00013491982306 0.0201342228831 0.00989855302916 Too close to Null\n",
        "361 355 0.000226458525077 0.0376929063165 0.00989855302916 Too close to Null\n",
        "109 73 0.000977078504903 0.104256270244 0.00989855302916 Too close to Null\n",
        "111 96 0.00196405887079 0.241515092212 0.00989855302916 Too close to Null\n",
        "137 96 0.00196405887079 0.241515092212 0.00989855302916 Too close to Null\n",
        "400 428 0.000102013926317 0.0169069487403 0.00989855302916 Too close to Null\n",
        "145 144 0.00025102826209 0.0270660716252 0.00989855302916 Too close to Null\n",
        "413 444 0.000199454610902 0.0644688194384 0.00989855302916 Too close to Null\n",
        "112 73 0.000977078504903 0.104256270244 0.00989855302916 Too close to Null\n",
        "436 482 0.000719031433419 0.103557581086 0.00989855302916 Too close to Null\n",
        "182 144 0.00025102826209 0.0270660716252 0.00989855302916 Too close to Null\n",
        "441 484 0.000358765047451 0.0428853191528 0.00989855302916 Too close to Null\n",
        "442 444 0.000199454610902 0.0644688194384 0.00989855302916 Too close to Null\n",
        "192 168 0.00036210103629 0.0362492044227 0.00989855302916 Too close to Null\n",
        "450 482 0.000719031433419 0.103557581086 0.00989855302916 Too close to Null\n",
        "143 160 0.000707578092076 0.0858514327018 0.00989855302916 Too close to Null\n",
        "464 456 0.000404783309566 0.0411148341755 0.00989855302916 Too close to Null\n",
        "211 168 0.00036210103629 0.0362492044227 0.00989855302916 Too close to Null\n",
        "215 179 0.000522135252095 0.0661203586747 0.00989855302916 Too close to Null\n",
        "222 208 0.000157017281268 0.0165170024193 0.00989855302916 Too close to Null\n",
        "224 214 0.000976944075516 0.155928498858 0.00989855302916 Too close to Null\n",
        "230 204 0.000178018429924 0.0210193975469 0.00989855302916 Too close to Null\n",
        "489 484 0.000358765047451 0.0428853191528 0.00989855302916 Too close to Null\n",
        "251 227 0.000329551398089 0.0436201939648 0.00989855302916 Too close to Null\n",
        "************ 418 distance from null= 0.42216551733\n",
        "418 384 0.0331623177281 0.211535757309 0.42216551733  Adding\n",
        "418 378 0.0197650355141 0.48957954782 0.280221065983  Adding\n",
        "418 427 0.0044974440088 0.362745619879 0.331173708242  Adding\n",
        "418 415 0.00940836967183 0.172859003267 0.334459427565  Adding\n",
        "418 463 0.0130784921428 0.243371491389 0.29404000433  Adding\n",
        "set([384, 418, 427, 463, 378, 415])\n",
        "384 352 0.017211121732 0.185000614409 0.272430191094  Adding\n",
        "384 412 0.0151578067221 0.044563994372 0.243006325392\n",
        "384 372 0.00658308987388 0.197463627301 0.243006325392  Adding\n",
        "384 351 0.0101409073468 0.0796433810533 0.230641768796  Adding\n",
        "427 465 0.00974104194605 0.050754124748 0.204263821768  Adding\n",
        "427 412 0.00762016689094 0.044563994372 0.179997432009  Adding\n",
        "427 452 0.00304545362705 0.208721122474 0.160226043922  Adding\n",
        "463 496 0.00583715853158 0.12360323906 0.161241050683  Adding\n",
        "463 492 0.0144972165532 0.032002171144 0.152635421566\n",
        "463 453 0.00200725026003 0.127586449304 0.152635421566  Adding\n",
        "463 502 0.0102019319847 0.040637159098 0.14885693662\n",
        "378 352 0.00491911741795 0.185000614409 0.14885693662  Adding\n",
        "378 369 0.00457687553557 0.340680428593 0.146326333427  Adding\n",
        "378 335 0.00460236308601 0.422608054778 0.154344167715  Adding\n",
        "415 369 0.00319087631815 0.340680428593 0.165151709175  Adding\n",
        "415 453 0.00177581443617 0.127586449304 0.172065032921  Adding\n",
        "415 399 0.0235451399607 0.12726756427 0.16797602164  Adding\n",
        "set([384, 452, 453, 463, 465, 399, 335, 412, 415, 352, 418, 427, 496, 369, 372, 378, 351])\n",
        "452 488 0.00348974545192 0.0514097457426 0.142349920347  Adding\n",
        "452 451 0.00290178310581 0.0581868636435 0.134634429752  Adding\n",
        "452 414 0.00620285365765 0.0471810870807 0.128306915237  Adding\n",
        "452 487 0.0034040083272 0.140067206226 0.118691147347  Adding\n",
        "453 492 0.0068267293545 0.032002171144 0.116162070072  Adding\n",
        "453 469 0.0145437119054 0.125460116128 0.10626282171  Adding\n",
        "453 437 0.00902606733711 0.0603932229018 0.0924163167549  Adding\n",
        "463 492 0.00472149202284 0.032002171144 0.0821980384179  Adding\n",
        "463 502 0.00331173739801 0.040637159098 0.0758319973565  Adding\n",
        "465 488 0.00134982620937 0.0514097457426 0.0714356941091  Adding\n",
        "399 393 0.00942282070521 0.101022472714 0.0694241619465  Adding\n",
        "399 379 0.00736865899766 0.0946033863327 0.0610703868072  Adding\n",
        "399 437 0.00556454783646 0.0603932229018 0.0546796538747  Adding\n",
        "399 431 0.00958168467095 0.164213223902 0.0492904167698  Adding\n",
        "335 313 0.00684373090393 0.458818815086 0.0433352338812  Adding\n",
        "335 298 0.000961505722088 0.0862204478955 0.0487509891345  Adding\n",
        "335 347 0.00597028458008 0.459577304705 0.048844665858  Adding\n",
        "412 414 0.00228117566164 0.0471810870807 0.0539617877554  Adding\n",
        "352 312 0.00184053487269 0.0167018751735 0.0515060865793  Adding\n",
        "352 298 0.00083710001567 0.0862204478955 0.0487503255661  Adding\n",
        "496 488"
       ]
      },
      {
       "output_type": "stream",
       "stream": "stdout",
       "text": [
        " 0.000812460113331 0.0514097457426 0.048862535998  Adding\n",
        "369 347 0.00517136141998 0.459577304705 0.0481114442093  Adding\n",
        "372 377 0.00197054086996 0.0516867087169 0.0527241451084  Adding\n",
        "372 346 0.000700025579609 0.118188172671 0.0507298359169  Adding\n",
        "372 333 0.00240503782176 0.0454499781251 0.0515639630071  Adding\n",
        "372 414 0.00165632881084 0.0471810870807 0.0490216489032  Adding\n",
        "351 312 0.00138281575005 0.0167018751735 0.0473261889797  Adding\n",
        "set([384, 451, 452, 453, 393, 347, 333, 463, 465, 335, 469, 377, 346, 399, 412, 414, 415, 352, 418, 379, 487, 488, 298, 427, 492, 431, 496, 369, 372, 437, 502, 312, 313, 378, 351])\n",
        "451 425 0.00617560107138 0.137210496873 0.0452751186171  Adding\n",
        "451 483 0.000654510758537 0.0813123104129 0.0410372063885  Adding\n",
        "393 360 0.00663015260528 0.5797778989 0.0412002488676  Adding\n",
        "393 336 0.00163352309252 0.0942785214856 0.0459297301102  Adding\n",
        "393 325 0.00934553907827 0.768804220841 0.0452109150672  Adding\n",
        "347 336 0.00155895233925 0.0942785214856 0.0521792606644  Adding\n",
        "347 307 0.000911044202792 0.126979859811 0.0513846895956  Adding\n",
        "333 305 0.00275170611248 0.0562474931537 0.0519618002718  Adding\n",
        "333 306 0.00232145449118 0.0550529162119 0.0492879714363  Adding\n",
        "333 341 0.00199686289988 0.0400680249333 0.0470738060289  Adding\n",
        "333 294 0.00205181845864 0.0970611341056 0.0449490823413  Adding\n",
        "469 468 0.00106619881898 0.031561250246 0.043852398462  Adding\n",
        "377 425 0.0046572777955 0.137210496873 0.0425595289202  Adding\n",
        "377 386 0.00242354863941 0.0611387149462 0.0394849814684  Adding\n",
        "377 341 0.0016333212072 0.0400680249333 0.0374253364834  Adding\n",
        "346 306 0.00172995958744 0.0550529162119 0.0358361930078  Adding\n",
        "414 425 0.00401693137432 0.137210496873 0.0344225405347  Adding\n",
        "379 336 0.001238557736 0.0942785214856 0.0320143393135  Adding\n",
        "298 259 0.00151405828499 0.231739690484 0.0316917866566  Adding\n",
        "298 252 0.000309679249658 0.0610270594426 0.0333778503638  Adding\n",
        "431 457 0.00297195004291 0.137632021285 0.0335012735889  Adding\n",
        "431 397 0.000642726449117 0.0288836765146 0.0317534065545  Adding\n",
        "437 457 0.00283275357553 0.137632021285 0.0310775175459  Adding\n",
        "437 468 0.000727237505256 0.031561250246 0.0294686433481  Adding\n",
        "312 306 0.0013929036509 0.0550529162119 0.0287736305451  Adding\n",
        "312 252 0.00029273305351 0.0610270594426 0.0277614568494  Adding\n",
        "312 263 0.00220716998744 0.0896609118124 0.0279498923184  Adding\n",
        "313 259 0.00145492689716 0.231739690484 0.026571481061  Adding\n",
        "313 307 0.000735483947034 0.126979859811 0.028018051259  Adding\n",
        "set([384, 386, 259, 263, 393, 397, 399, 412, 414, 415, 418, 325, 425, 298, 427, 431, 305, 306, 307, 437, 312, 313, 360, 451, 452, 453, 457, 333, 463, 336, 465, 335, 468, 469, 346, 347, 351, 352, 483, 294, 487, 488, 492, 496, 369, 372, 502, 377, 378, 379, 252, 341])\n",
        "386 400 0.00181745183743 0.0677654327619 0.0286637543062  Adding\n",
        "386 361 0.00173633188363 0.0731550926821 0.0273603388269  Adding\n",
        "259 218 0.000511801218913 0.0679448692637 0.026228476641  Adding\n",
        "259 221 0.00213426720687 0.0982733431853 0.0262268202574  Adding\n",
        "259 255 0.00206663280864 0.299757265143 0.0249928291104  Adding\n",
        "263 226 0.00178057295129 0.0678158672075 0.02657045648  Adding\n",
        "263 243 0.00064080746494 0.0267832609899 0.0253355802115  Adding\n",
        "397 441 0.000626088784857 0.021587169421 0.0247139957806  Adding\n",
        "397 406 0.00267933381916 0.372351181456 0.0240539366504  Adding\n",
        "325 322 0.000430435227646 0.100289351253 0.0257035002876  Adding\n",
        "325 291 0.000497884789448 0.0969537772691 0.0262104771046  Adding\n",
        "425 400 0.00153304654676 0.0677654327619 0.0266075801605  Adding\n",
        "425 450 0.00179616189921 0.085280307178 0.0255456086369  Adding\n",
        "425 436 0.00055342290426 0.0334332759602 0.0243898603064  Adding\n",
        "305 286 0.000523019641286 0.030109866547 0.0239349354696  Adding\n",
        "305 262 0.00128093984569 0.0876651731723 0.0234787387049  Adding\n",
        "306 262 0.00123963101938 0.0876651731723 0.0229175159575  Adding\n",
        "307 273 0.000481694435874 0.0861169512156 0.0223958445591  Adding\n",
        "307 322 0.000434556420744 0.100289351253 0.0226226396734  Adding\n",
        "307 255 0.00178173931122 0.299757265143 0.023069667912  Adding\n",
        "360 368 0.00112596198556 0.221809895639 0.0243659873613  Adding\n",
        "360 406 0.002284890197 0.372351181456 0.0253167432801  Adding\n",
        "360 326 0.000482467084198 0.11026263791 0.0267551418817  Adding\n",
        "457 489 0.000709028393401 0.025665451913 0.0272230196912  Adding\n",
        "457 441 0.00053825531696 0.021587169421 0.0264990144796  Adding\n",
        "336 322 0.000362698817825 0.100289351253 0.0259166174988  Adding\n",
        "468 489 0.000675517757408 0.025665451913 0.0263384576772  Adding\n",
        "483 450 0.00152882250048 0.085280307178 0.0256566536989  Adding\n",
        "294 293 0.000780318996782 0.029446045927 0.0246732405059  Adding\n",
        "294 261 0.0010309642662 0.068525487473 0.0239391661659  Adding\n",
        "294 286 0.000430843948186 0.030109866547 0.0233358718636  Adding\n",
        "294 327 0.000339894707126 0.0540898625552 0.0229671539779  Adding\n",
        "252 243 0.00044625828187 0.0267832609899 0.0229103604156  Adding\n",
        "252 221 0.00151031208604 0.0982733431853 0.0225030606121  Adding\n",
        "341 361 0.00111165386178 0.0731550926821 0.0216756495727  Adding\n",
        "341 327 0.000321252440267 0.0540898625552 0.021037658956  Adding\n",
        "set([384, 386, 259, 261, 262, 263, 393, 273, 397, 399, 400, 450, 286, 406, 412, 218, 414, 415, 368, 418, 347, 293, 294, 369, 425, 298, 427, 431, 305, 306, 307, 436, 437, 312, 313, 322, 451, 452, 325, 326, 327, 457, 333, 291, 463, 336, 465, 453, 468, 469, 441, 346, 335, 221, 351, 352, 226, 483, 487, 360, 361, 492, 255, 496, 488, 243, 372, 502, 489, 377, 378, 379, 252, 341])\n",
        "261 250 0.000349635045236 0.0320929361812 0.0210060771808  Adding\n",
        "261 222 0.000668017334196 0.0368308062977 0.0207540279945  Adding\n",
        "261 230 0.000491404743054 0.0334371263427 0.0202297255998  Adding\n",
        "262 250 0.00032962833611 0.0320929361812 0.0198544311404  Adding\n",
        "273 253 0.00157592104582 0.301047368235 0.0196297167171  Adding\n",
        "273 223 0.000587677818707 0.11973228946 0.0206310480401  Adding\n",
        "400 428 0.000256473995727 0.0169069487403 0.0209228085595  Adding\n",
        "400 389 0.000358969615798 0.0573322856704 0.0206341664658  Adding\n",
        "450 482 0.00133350992088 0.103557581086 0.0205990238612  Adding\n",
        "286 250 0.00030791595807 0.0320929361812 0.019955388253  Adding\n",
        "406 442 0.00265982811085 0.478322280142 0.0197462934029  Adding\n",
        "406 413 0.00110484503696 0.2351690109 0.0206736559354  Adding\n",
        "218 216 0.000618950885849 0.144859137408 0.0213513469686  Adding\n",
        "218 184 0.00174651057607 0.119326076227 0.0217371647958  Adding\n",
        "218 181 0.00282645882791 0.232099677093 0.0208033455957  Adding\n",
        "368 329 0.000474598903672 0.0919194578793 0.0197643897728  Adding\n",
        "368 413 0.0010669190683 0.2351690109 0.0198946990072  Adding\n",
        "293 321 0.000419522847898 0.0730980623308 0.0205441500059  Adding\n",
        "293 260 0.000884480779894 0.0778353335464 0.0205428746022  Adding\n",
        "293 284 0.000279989652457 0.0257953389494 0.0200967492572  Adding\n",
        "436 464 0.000427860711762 0.0291145329909 0.0198596205305  Adding\n",
        "436 482 0.00116427330467 0.103557581086 0.0194963886316  Adding\n",
        "436 428 0.00020072346152 0.0169069487403 0.018962377046  Adding\n",
        "326 329 0.000436260371206 0.0919194578793 0.0187471652731  Adding\n",
        "326 290 0.000309747077604 0.0466098598224 0.0188881820347  Adding\n",
        "327 355 0.000331996756212 0.0376929063165 0.0187893124737  Adding\n",
        "291 290 0.000300701473784 0.0466098598224 0.0185963521042  Adding\n",
        "291 253 0.00135693504773 0.301047368235 0.0185055954527  Adding\n",
        "291 254 0.000421474662025 0.115717375409 0.0193036171125  Adding\n",
        "441 442 0.00232678422456 0.478322280142 0.0196160864043  Adding\n",
        "441 484 0.000542909057089 0.0428853191528 0.0203864929008  Adding\n",
        "221 184 0.00148406244086 0.119326076227 0.019993554579  Adding\n",
        "221 212 0.000708515825535 0.0602418034005 0.0192313278719  Adding\n",
        "226 192 0.000731934220766 0.061041280856 0.0188051004075  Adding\n",
        "226 250 0.000239688355473 0.0320929361812 0.018365034942  Adding\n",
        "226 211"
       ]
      },
      {
       "output_type": "stream",
       "stream": "stdout",
       "text": [
        " 0.00174048856005 0.168744246029 0.0182178129967  Adding\n",
        "226 213 0.000627641261334 0.0545117026269 0.0175220456445  Adding\n",
        "361 355 0.00029577414163 0.0376929063165 0.0171371574263  Adding\n",
        "361 389 0.000268215261214 0.0573322856704 0.0169803197242  Adding\n",
        "255 216 0.000535420530187 0.144859137408 0.0169940358358  Adding\n",
        "243 212 0.000638509940472 0.0602418034005 0.0173109067903  Adding\n",
        "243 213 0.000595269659725 0.0545117026269 0.0169522959708  Adding\n",
        "489 484 0.000470884664474 0.0428853191528 0.016595424054  Adding\n",
        "set([213, 259, 260, 261, 262, 263, 273, 284, 286, 290, 291, 293, 294, 298, 305, 306, 307, 312, 313, 181, 321, 322, 325, 326, 327, 329, 333, 335, 336, 341, 346, 347, 351, 352, 355, 360, 361, 368, 369, 372, 377, 378, 379, 384, 386, 389, 393, 397, 399, 400, 482, 406, 412, 413, 414, 415, 418, 425, 427, 428, 431, 436, 437, 184, 441, 442, 192, 450, 451, 452, 453, 457, 463, 464, 465, 211, 468, 469, 216, 218, 221, 222, 223, 226, 483, 484, 230, 487, 488, 489, 492, 496, 243, 502, 212, 250, 252, 253, 254, 255])\n",
        "213 178 0.00035841903948 0.0390260002471 0.0162861457615  Adding\n",
        "260 248 0.000337298226776 0.0272532718262 0.0160629712606  Adding\n",
        "284 248 0.000331559533494 0.0272532718262 0.0157976747941  Adding\n",
        "284 265 0.000152437509491 0.0138018147433 0.015539352786  Adding\n",
        "284 311 0.000142960829581 0.0280237030762 0.0153758528179  Adding\n",
        "290 264 0.00067805565846 0.0718312812636 0.0153128011483  Adding\n",
        "290 292 0.000353070766513 0.0820271559372 0.0150001196398  Adding\n",
        "181 146 0.000196022038508 0.0397218420498 0.0150632036983  Adding\n",
        "181 180 0.00116865322643 0.110732512067 0.0150230216943  Adding\n",
        "321 332 0.00028447847305 0.0219357255187 0.0145133094507  Adding\n",
        "321 311 0.000131457957093 0.0280237030762 0.0142744978744  Adding\n",
        "329 292 0.000338826041077 0.0820271559372 0.014226648883  Adding\n",
        "329 356 0.000162985343739 0.0201342228831 0.0142957045477  Adding\n",
        "329 373 0.000210610468211 0.0802834740106 0.0141689173843  Adding\n",
        "329 317 0.000208833318008 0.052634693481 0.0143412686518  Adding\n",
        "355 332 0.000271385605028 0.0219357255187 0.0143520037996  Adding\n",
        "355 367 0.000465400302833 0.0505755671523 0.0141256337098  Adding\n",
        "389 404 0.000249281702813 0.0492799430728 0.0138654278494  Adding\n",
        "389 367 0.000454259237884 0.0505755671523 0.0138239038265  Adding\n",
        "482 501 0.00025351669955 0.0323350386042 0.0135741792167  Adding\n",
        "413 444 0.000176382658507 0.0644688194384 0.013418350495  Adding\n",
        "413 421 0.000499547442027 0.151958841264 0.0135163661808  Adding\n",
        "413 373 0.00020297781599 0.0802834740106 0.0137981170522  Adding\n",
        "428 456 0.000445298363891 0.0411148341755 0.0139612451354  Adding\n",
        "428 404 0.000237676063509 0.0492799430728 0.0136595810166  Adding\n",
        "184 171 0.000794517194187 0.0968488804494 0.013623010578  Adding\n",
        "184 148 0.000580801732073 0.0948832007822 0.0132789132136  Adding\n",
        "442 490 0.000278759923829 0.0758877001565 0.0131567169499  Adding\n",
        "442 444 0.000168277352042 0.0644688194384 0.0132262826359  Adding\n",
        "192 168 0.000391891726153 0.0362492044227 0.0133215970187  Adding\n",
        "192 160 0.00072745376466 0.0858514327018 0.0130635538954  Adding\n",
        "192 178 0.000260858146951 0.0390260002471 0.0127170480312  Adding\n",
        "464 456 0.000412848077711 0.0411148341755 0.0125867129865  Adding\n",
        "464 501 0.00022209165065 0.0323350386042 0.0123176146631  Adding\n",
        "464 495 9.24961474951e-05 0.0353103574534 0.0121921942622  Adding\n",
        "211 168 0.000365434647226 0.0362492044227 0.0122158999515  Adding\n",
        "211 204 0.00018321329203 0.0210193975469 0.0119865093506  Adding\n",
        "216 180 0.000926095095027 0.110732512067 0.0118518231949  Adding\n",
        "222 208 0.000147264152639 0.0165170024193 0.0115048960751  Adding\n",
        "222 248 0.000234486914708 0.0272532718262 0.0113832548025  Adding\n",
        "222 188 0.000155631717274 0.0528449004996 0.0112309566065  Adding\n",
        "222 204 0.000173433705931 0.0210193975469 0.0112912620977  Adding\n",
        "223 217 0.000291576813407 0.0368461162578 0.0111687167307  Adding\n",
        "223 180 0.00088304300306 0.110732512067 0.0110097651232  Adding\n",
        "484 490 0.000258713220465 0.0758877001565 0.0106926337628  Adding\n",
        "230 204 0.00016530882726 0.0210193975469 0.0107648284425  Adding\n",
        "212 178 0.000225712884668 0.0390260002471 0.0106520421263  Adding\n",
        "212 171 0.000657225970572 0.0968488804494 0.0105564921748  Adding\n",
        "253 217 0.00027690873277 0.0368461162578 0.0103153004501  Adding\n",
        "254 264 0.000458524704399 0.0718312812636 0.0101713259141  Adding\n",
        "254 217 0.000271061815412 0.0368461162578 0.0100255739435  Adding\n",
        "254 231 0.000188843477593 0.0231356900128 0.00988755311001 Too close to Null\n",
        "set([259, 260, 261, 262, 263, 264, 265, 273, 188, 171, 284, 286, 290, 291, 292, 293, 294, 298, 305, 306, 307, 311, 312, 313, 317, 437, 321, 322, 325, 326, 327, 329, 332, 333, 335, 336, 341, 346, 347, 351, 352, 148, 355, 356, 360, 361, 367, 368, 369, 372, 373, 377, 378, 379, 384, 386, 389, 393, 397, 399, 400, 146, 404, 406, 412, 413, 414, 415, 160, 418, 421, 168, 425, 427, 428, 226, 431, 180, 178, 436, 181, 184, 441, 442, 444, 192, 450, 451, 452, 453, 456, 457, 204, 463, 464, 465, 211, 468, 213, 216, 217, 218, 221, 222, 223, 208, 482, 483, 484, 230, 487, 488, 489, 490, 492, 495, 496, 243, 501, 502, 248, 212, 250, 255, 252, 253, 254, 469])\n",
        "264 224 0.000281500406618 0.0386019862102 0.00988755311001 Too close to Null\n",
        "265 229 0.000170148744544 0.0667456095839 0.00988755311001 Too close to Null\n",
        "188 165 0.000186746185577 0.0210535714537 0.00988755311001 Too close to Null\n",
        "171 137 0.000109827234393 0.0275086099144 0.00988755311001 Too close to Null\n",
        "292 287 0.000353995010856 0.0599286507297 0.00988755311001 Too close to Null\n",
        "311 283 0.000145869059224 0.01863739045 0.00988755311001 Too close to Null\n",
        "317 289 0.000204641263499 0.06471288289 0.00988755311001 Too close to Null\n",
        "332 350 0.000266636678177 0.043199876271 0.00988755311001 Too close to Null\n",
        "148 137 0.000109827234393 0.0275086099144 0.00988755311001 Too close to Null\n",
        "356 363 0.000280635160376 0.107586955306 0.00988755311001 Too close to Null\n",
        "367 385 0.000411360762714 0.0555747691428 0.00988755311001 Too close to Null\n",
        "146 112 0.000254857500952 0.0621912039063 0.00988755311001 Too close to Null\n",
        "404 424 0.000263955807108 0.0341914879038 0.00988755311001 Too close to Null\n",
        "160 115 0.000405435755996 0.0669844148975 0.00988755311001 Too close to Null\n",
        "421 409 0.00018716370568 0.0453987672732 0.00988755311001 Too close to Null\n",
        "168 115 0.000405435755996 0.0669844148975 0.00988755311001 Too close to Null\n",
        "180 145 0.000123943342892 0.0269821419729 0.00988755311001 Too close to Null\n",
        "178 143 0.000200225607066 0.0207106691397 0.00988755311001 Too close to Null\n",
        "444 497 0.000171164399257 0.0510490691517 0.00988755311001 Too close to Null\n",
        "456 424 0.000263955807108 0.0341914879038 0.00988755311001 Too close to Null\n",
        "204 165 0.000186746185577 0.0210535714537 0.00988755311001 Too close to Null\n",
        "217 215 0.000567855940199 0.085564190071 0.00988755311001 Too close to Null\n",
        "208 229 0.000170148744544 0.0667456095839 0.00988755311001 Too close to Null\n",
        "490 497 0.000171164399257 0.0510490691517 0.00988755311001 Too close to Null\n",
        "248 229 0.000170148744544 0.0667456095839 0.00988755311001 Too close to Null\n",
        "254 231 0.000188843477593 0.0231356900128 0.00988755311001 Too close to Null\n",
        "************ 34 distance from null= 0.396510904864\n",
        "34 33 0.0963475336913 0.0370844779167 0.396510904864\n",
        "34 35 0.277198675077 1.5383147883 0.396510904864  Adding\n",
        "34 43 0.128763949157 0.101039614567 0.739750000542\n",
        "set([34, 35])\n",
        "34 33 0.140077369108 0.0370844779167 0.739750000542\n",
        "34 43 0.128763949157 0.101039614567 0.739750000542\n",
        "35 54 0.499771762936 1.83360465397 0.739750000542\n",
        "************ 406 distance from null= 0.372351181456\n",
        "406 360 0.0325449065622 0.5797778989 0.372351181456  Adding\n",
        "406 397 0.0854367014036 0.0288836765146 0.442999256816\n",
        "406 368 0.0240052529503 0.221809895639 0.442999256816  Adding\n",
        "406 441 0.0641934282941 0.021587169421 0.346518639701\n",
        "406 442 0.02079351339 0.478322280142 0.346518639701  Adding\n",
        "406 413 0.0178093255056 0.2351690109 0.356891864291  Adding\n",
        "set([360, 368, 442, 413, 406])\n",
        "360 393 0.0923505457348 0.101022472714 0.314480198226\n",
        "360 325 0.0207112448246 0.768804220841 0.314480198226  Adding\n",
        "360 326 0.0160478909731 0.11026263791 0.377861986167  Adding\n",
        "360 397 0.0277800033139 0.0288836765146 0.321001272657\n",
        "368 329 0.0230440926252 0.0919194578793 0.321001272657\n",
        "368 326 0.0103773165564 0.11026263791 0.321001272657  Adding\n",
        "442 441 0.0271535243031 0.021587169421 0.282736475267\n",
        "442 490 0.0155002919752 0.0758877001565 0.282736475267  Adding\n",
        "442 444 0.00893714422784 0.0644688194384 0.245101895659  Adding\n",
        "442 484 0.0230353950619 0.0428853191528 0.219796756525\n",
        "413 444 0.00698128277229 0.0644688194384 0.219796756525  Adding\n",
        "413 421 0.0050021470185 0.151958841264 0.199909925228  Adding\n",
        "413"
       ]
      },
      {
       "output_type": "stream",
       "stream": "stdout",
       "text": [
        " 373 0.00324629293963 0.0802834740106 0.191040301749  Adding\n",
        "406 441 0.0125776825402 0.021587169421 0.179672142391\n",
        "406 397 0.00957592618999 0.0288836765146 0.179672142391\n",
        "set([325, 326, 360, 490, 368, 373, 406, 442, 444, 413, 421])\n",
        "325 336 0.0105812263791 0.0942785214856 0.179672142391  Adding\n",
        "325 393 0.027407897705 0.101022472714 0.163443512213\n",
        "325 322 0.00148577460661 0.100289351253 0.163443512213  Adding\n",
        "325 291 0.00290890203529 0.0969537772691 0.157561212029  Adding\n",
        "326 329 0.00551168265243 0.0919194578793 0.150635862924  Adding\n",
        "326 290 0.00700945795525 0.0466098598224 0.141539715447  Adding\n",
        "326 291 0.00180207676239 0.0969537772691 0.129214899701  Adding\n",
        "360 393 0.018373006307 0.101022472714 0.125622936452  Adding\n",
        "360 397 0.00402021211827 0.0288836765146 0.106030397848  Adding\n",
        "490 497 0.00170148028828 0.0510490691517 0.099189294842  Adding\n",
        "490 484 0.00672336008431 0.0428853191528 0.0954794138099  Adding\n",
        "368 329 0.00266281937301 0.0919194578793 0.086612951217  Adding\n",
        "373 329 0.00236961419856 0.0919194578793 0.0841826037145  Adding\n",
        "373 356 0.00319359940802 0.0201342228831 0.0821377066002  Adding\n",
        "406 441 0.00352797134788 0.021587169421 0.0765096789359  Adding\n",
        "406 397 0.00222567495246 0.0288836765146 0.0711766615143  Adding\n",
        "442 441 0.00301114032642 0.021587169421 0.0677746618431  Adding\n",
        "442 484 0.00409666967893 0.0428853191528 0.0633334668847  Adding\n",
        "444 497 0.000781837042476 0.0510490691517 0.0585898005151  Adding\n",
        "444 458 0.00134927110403 0.140251622157 0.0575806945066  Adding\n",
        "421 409 0.00172649597424 0.0453987672732 0.0587292310913  Adding\n",
        "421 458 0.00122059116089 0.140251622157 0.0565927516419  Adding\n",
        "421 381 0.00083842160827 0.0892234275786 0.0577523750003  Adding\n",
        "set([393, 397, 406, 409, 413, 290, 291, 421, 441, 442, 444, 322, 325, 326, 329, 458, 336, 356, 484, 360, 490, 368, 497, 373, 381])\n",
        "393 379 0.0067096124338 0.0946033863327 0.0578111781799  Adding\n",
        "393 399 0.00779581516278 0.12726756427 0.0520354784987  Adding\n",
        "393 431 0.00873006343029 0.164213223902 0.0463099911313  Adding\n",
        "397 457 0.00554002954264 0.137632021285 0.0408418997551  Adding\n",
        "397 431 0.00762147897431 0.164213223902 0.0372749809302  Adding\n",
        "409 363 0.000992714078397 0.107586955306 0.0330030671373  Adding\n",
        "409 387 0.00843657213661 0.205850448386 0.0338732917377  Adding\n",
        "409 445 0.000948911436934 0.08897341112 0.0296931414076  Adding\n",
        "409 422 0.00160372101547 0.0425387620343 0.0301738341005  Adding\n",
        "290 264 0.00327499728505 0.0718312812636 0.028833963606  Adding\n",
        "290 292 0.0013421052809 0.0820271559372 0.0265561020177  Adding\n",
        "290 254 0.00108113976491 0.115717375409 0.0264299472657  Adding\n",
        "291 273 0.000747394952895 0.0861169512156 0.027389907171  Adding\n",
        "291 253 0.00326837006191 0.301047368235 0.0279115549836  Adding\n",
        "291 254 0.000916863630554 0.115717375409 0.0305850956921  Adding\n",
        "441 457 0.00394719573211 0.137632021285 0.0314909892197  Adding\n",
        "441 489 0.00135743538019 0.025665451913 0.0291906708338  Adding\n",
        "322 273 0.000661721327125 0.0861169512156 0.0277681961077  Adding\n",
        "322 307 0.000917713190526 0.126979859811 0.0282499938513  Adding\n",
        "329 292 0.00108170585086 0.0820271559372 0.0292475108281  Adding\n",
        "329 317 0.000662359877248 0.052634693481 0.0291314816357  Adding\n",
        "458 491 0.00264625385943 0.299989319068 0.0288790581736  Adding\n",
        "458 445 0.000674553573432 0.08897341112 0.0308006567526  Adding\n",
        "336 307 0.000771216620474 0.126979859811 0.0311648535294  Adding\n",
        "336 347 0.00422805949298 0.459577304705 0.0320940848563  Adding\n",
        "336 379 0.00322460865723 0.0946033863327 0.0348465716845  Adding\n",
        "356 363 0.000589986974083 0.107586955306 0.0325165294563  Adding\n",
        "356 324 0.00402040470094 0.126639671035 0.0331634286012  Adding\n",
        "356 317 0.000595912150901 0.052634693481 0.0306950171356  Adding\n",
        "484 489 0.00113847784673 0.025665451913 0.0304340470068  Adding\n",
        "497 491 0.00222162266114 0.299989319068 0.0292252116356  Adding\n",
        "381 363 0.000552396976739 0.107586955306 0.030946891541  Adding\n",
        "set([264, 273, 290, 291, 292, 307, 317, 322, 324, 325, 326, 329, 336, 347, 356, 360, 363, 368, 373, 379, 381, 387, 393, 397, 399, 406, 409, 413, 421, 422, 431, 441, 442, 444, 445, 457, 458, 484, 489, 490, 491, 497, 253, 254])\n",
        "264 224 0.00143544497927 0.0386019862102 0.0315636204169  Adding\n",
        "264 251 0.00214720211376 0.0798673740559 0.0302321219195  Adding\n",
        "264 231 0.000848029930061 0.0231356900128 0.0287801895376  Adding\n",
        "273 255 0.00227463331584 0.299757265143 0.0278616920684  Adding\n",
        "273 223 0.000822092690971 0.11973228946 0.0296659023266  Adding\n",
        "292 287 0.00150623352317 0.0599286507297 0.0301528089737  Adding\n",
        "307 313 0.00368418471033 0.458818815086 0.0290555587589  Adding\n",
        "307 255 0.00203829159794 0.299757265143 0.0312647701606  Adding\n",
        "317 289 0.000727237758693 0.06471288289 0.0330327928752  Adding\n",
        "317 287 0.00144001133533 0.0599286507297 0.0327010713312  Adding\n",
        "324 289 0.000675738758681 0.06471288289 0.0316154705323  Adding\n",
        "324 299 0.00210611445589 0.106368433253 0.0313426000031  Adding\n",
        "324 337 0.00127535938725 0.0613174716028 0.0301968307412  Adding\n",
        "347 369 0.00223957002699 0.340680428593 0.0293123389523  Adding\n",
        "347 313 0.00326993634282 0.458818815086 0.0310386285623  Adding\n",
        "347 335 0.00266931756884 0.422608054778 0.0330608598393  Adding\n",
        "363 337 0.00129039134102 0.0613174716028 0.0349460882064  Adding\n",
        "387 337 0.00124693704945 0.0613174716028 0.0339710580611  Adding\n",
        "387 410 0.00054550857888 0.0572516187456 0.0330472776127  Adding\n",
        "387 382 0.000809145377026 0.0318740319167 0.0327760335621  Adding\n",
        "399 369 0.00199814449062 0.340680428593 0.0319561474585  Adding\n",
        "399 415 0.000698614753629 0.172859003267 0.0335759435629  Adding\n",
        "399 453 0.000647946544224 0.127586449304 0.034390721619  Adding\n",
        "399 437 0.00171061672532 0.0603932229018 0.0347610693805  Adding\n",
        "422 410 0.000512353816655 0.0572516187456 0.0333298392948  Adding\n",
        "422 446 0.00242865783172 0.119390423726 0.0330709088327  Adding\n",
        "431 437 0.00158667306764 0.0603932229018 0.0315487927534  Adding\n",
        "445 476 0.000627421271393 0.0305445006911 0.0302666721427  Adding\n",
        "445 446 0.00225630252222 0.119390423726 0.0296419861416  Adding\n",
        "457 468 0.000533112576155 0.031561250246 0.0282996986898  Adding\n",
        "457 437 0.00144207503514 0.0603932229018 0.0278028865867  Adding\n",
        "489 468 0.000502128753565 0.031561250246 0.026690925803  Adding\n",
        "491 476 0.000553420399711 0.0305445006911 0.0262418691098  Adding\n",
        "253 217 0.000701408031733 0.0368461162578 0.0257286641581  Adding\n",
        "253 223 0.000632624194425 0.11973228946 0.0251401872705  Adding\n",
        "254 217 0.000676291725034 0.0368461162578 0.0254777806941  Adding\n",
        "254 231 0.000532264383846 0.0231356900128 0.0249146464663  Adding\n",
        "set([253, 387, 264, 393, 397, 399, 273, 406, 217, 409, 410, 413, 491, 289, 290, 291, 292, 421, 422, 369, 453, 299, 431, 307, 415, 437, 457, 441, 442, 287, 444, 317, 446, 322, 324, 325, 326, 329, 458, 335, 336, 337, 468, 382, 313, 484, 347, 476, 223, 224, 251, 356, 231, 360, 489, 490, 363, 445, 368, 497, 373, 379, 381, 254, 255])\n",
        "217 180 0.00219306262179 0.110732512067 0.0243674459667  Adding\n",
        "217 182 0.00290382813002 0.193006891655 0.0231061408175  Adding\n",
        "217 215 0.00142535458319 0.085564190071 0.0218815895133  Adding\n",
        "410 438 0.00242718883741 0.167093122528 0.0210354002738  Adding\n",
        "410 407 0.000465986875609 0.0158058133615 0.0200089873664  Adding\n",
        "289 256 0.000451552909351 0.0304791109578 0.0195044014521  Adding\n",
        "369 378 0.00303947114004 0.48957954782 0.019152265939  Adding\n",
        "453 492 0.000601873882454 0.032002171144 0.0205012078548  Adding\n",
        "453 469 0.00180773477298 0.125460116128 0.0199919725085  Adding\n",
        "453 463 0.00153027304272 0.243371491389 0.019053961116  Adding\n",
        "299 256 0.00043236321427 0.0304791109578 0.019532045861  Adding\n",
        "299 266 0.000686915753773 0.0563212417943 0.019194633527  Adding\n",
        "299 295 0.000308977131288 0.0311203287706 0.018828488195  Adding\n",
        "415 418 0.00232760989862 0.42216551733 0.0186292336012  Adding\n",
        "415 378"
       ]
      },
      {
       "output_type": "stream",
       "stream": "stdout",
       "text": [
        " 0.00280748379408 0.48957954782 0.0196620913281  Adding\n",
        "415 463 0.00141474937964 0.243371491389 0.0209467052529  Adding\n",
        "437 469 0.00171938018904 0.125460116128 0.0214224605202  Adding\n",
        "287 256 0.000415629351002 0.0304791109578 0.020504029306  Adding\n",
        "287 227 0.000622482382077 0.0436201939648 0.020169944797  Adding\n",
        "446 477 0.00045186993824 0.0371603643829 0.0197404507259  Adding\n",
        "446 438 0.00204993330153 0.167093122528 0.0194212857232  Adding\n",
        "335 352 0.000842778342417 0.185000614409 0.0185961564346  Adding\n",
        "335 298 0.000319908030984 0.0862204478955 0.0190533236691  Adding\n",
        "335 378 0.00262429538684 0.48957954782 0.0192606259559  Adding\n",
        "337 342 0.000401407919807 0.0568474483004 0.0204452478819  Adding\n",
        "337 295 0.000285529108518 0.0311203287706 0.0203267862354  Adding\n",
        "468 469 0.00155026157801 0.125460116128 0.0201279545234  Adding\n",
        "382 338 0.000414371015729 0.0258709063182 0.0193267803781  Adding\n",
        "382 342 0.000378436419865 0.0568474483004 0.0189635156914  Adding\n",
        "382 407 0.000366136394775 0.0158058133615 0.0188706660299  Adding\n",
        "313 298 0.000305297498864 0.0862204478955 0.0184816188763  Adding\n",
        "313 259 0.000958409900836 0.231739690484 0.0186763269944  Adding\n",
        "223 180 0.0015382057071 0.110732512067 0.0193601063408  Adding\n",
        "224 183 0.00114316101191 0.0861200549282 0.0185765709809  Adding\n",
        "224 214 0.00141758325112 0.155928498858 0.0179255861903  Adding\n",
        "224 215 0.00100110807336 0.085564190071 0.0174783256938  Adding\n",
        "251 227 0.000486929608036 0.0436201939648 0.0169501835333  Adding\n",
        "251 214 0.00134421476526 0.155928498858 0.0166545009048  Adding\n",
        "231 215 0.000947796474713 0.085564190071 0.0162691233109  Adding\n",
        "255 216 0.000582535743673 0.144859137408 0.0157927218482  Adding\n",
        "255 218 0.000297293112129 0.0679448692637 0.0161201076865  Adding\n",
        "255 259 0.000945764529105 0.231739690484 0.0161643124496  Adding\n",
        "set([256, 259, 264, 266, 273, 287, 289, 290, 291, 292, 295, 298, 299, 307, 313, 317, 322, 324, 325, 326, 329, 335, 336, 337, 338, 342, 347, 352, 356, 438, 360, 363, 368, 369, 373, 378, 379, 381, 382, 387, 393, 397, 399, 406, 407, 409, 410, 413, 415, 418, 421, 422, 431, 180, 437, 182, 183, 441, 442, 444, 445, 446, 453, 457, 458, 463, 468, 469, 214, 215, 216, 217, 218, 476, 477, 223, 224, 227, 484, 231, 489, 490, 491, 492, 497, 251, 253, 254, 255])\n",
        "256 249 0.000440985745079 0.0674220130068 0.0167655179613  Adding\n",
        "259 252 0.00014961540824 0.0610270594426 0.0166751083942  Adding\n",
        "259 221 0.0010898377828 0.0982733431853 0.0168377006884  Adding\n",
        "266 249 0.00042767836664 0.0674220130068 0.0162878719026  Adding\n",
        "266 225 0.00079583359497 0.0656378183366 0.0162068874766  Adding\n",
        "266 257 0.000535323750335 0.07697976309 0.0157508873476  Adding\n",
        "295 257 0.000523394254274 0.07697976309 0.0156330874819  Adding\n",
        "295 300 0.000617642963752 0.0700024695898 0.0155251871165  Adding\n",
        "298 312 0.000189161312255 0.0167018751735 0.015280012858  Adding\n",
        "298 252 0.000149103238266 0.0610270594426 0.0151000767913  Adding\n",
        "338 323 0.000204744261286 0.031352468025 0.015257256779  Adding\n",
        "338 300 0.000592250710181 0.0700024695898 0.015163158578  Adding\n",
        "338 374 0.000326687201394 0.0374629316462 0.0149359449887  Adding\n",
        "338 359 0.000601169503142 0.0446102959145 0.0147553131155  Adding\n",
        "342 300 0.00056870663962 0.0700024695898 0.0143481864728  Adding\n",
        "352 384 0.000811196175285 0.211535757309 0.0141427607954  Adding\n",
        "352 312 0.000173571548041 0.0167018751735 0.014604553186  Adding\n",
        "352 351 0.00019571871226 0.0796433810533 0.014443893544  Adding\n",
        "438 474 0.0011656189201 0.147946015709 0.0146329670205  Adding\n",
        "378 384 0.000789421040384 0.211535757309 0.0142706251257  Adding\n",
        "407 439 0.000265652877024 0.0325543537846 0.0147226389604  Adding\n",
        "407 374 0.000300988506873 0.0374629316462 0.0145520766227  Adding\n",
        "407 423 0.000174415529087 0.0292374467423 0.0143916140346  Adding\n",
        "418 384 0.000768865463394 0.211535757309 0.0142990714692  Adding\n",
        "418 427 0.00141844246508 0.362745619879 0.0147429992797  Adding\n",
        "180 145 0.000163010704064 0.0269821419729 0.0153596328848  Adding\n",
        "180 146 0.000188846802816 0.0397218420498 0.0152664318684  Adding\n",
        "180 181 0.00189812250614 0.232099677093 0.0152229608145  Adding\n",
        "182 144 0.000300241851307 0.0270660716252 0.014657801796  Adding\n",
        "182 145 0.000156014535187 0.0269821419729 0.0144299903435  Adding\n",
        "182 179 0.000587477773818 0.0661203586747 0.014347591441  Adding\n",
        "183 177 0.00023337919621 0.0438266030328 0.0140312196755  Adding\n",
        "183 147 0.00137399037873 0.185312584137 0.0139673060488  Adding\n",
        "463 496 0.00053702970321 0.12360323906 0.0135289367052  Adding\n",
        "463 427 0.00136569097808 0.362745619879 0.0135706795199  Adding\n",
        "463 502 0.000343277687396 0.040637159098 0.0141335377694  Adding\n",
        "214 177 0.000227797994678 0.0438266030328 0.0139173190765  Adding\n",
        "214 185 0.000407398689688 0.0560086669473 0.0138551616917  Adding\n",
        "215 179 0.000552572090055 0.0661203586747 0.0136896359741  Adding\n",
        "216 181 0.00172109469502 0.232099677093 0.0134000252748  Adding\n",
        "218 184 0.000996665344804 0.119326076227 0.0129373874263  Adding\n",
        "218 181 0.00166939866325 0.232099677093 0.0125349239298  Adding\n",
        "218 221 0.000802559191196 0.0982733431853 0.0121147553479  Adding\n",
        "477 474 0.000942554043759 0.147946015709 0.0117611206038  Adding\n",
        "227 209 0.000645297649792 0.108502574343 0.0115310952896  Adding\n",
        "227 185 0.000362465709532 0.0560086669473 0.0114100809316  Adding\n",
        "227 249 0.000301869480054 0.0674220130068 0.011292623382  Adding\n",
        "492 502 0.000309200356172 0.040637159098 0.0112854383668  Adding\n",
        "set([256, 257, 259, 264, 266, 273, 474, 287, 289, 290, 291, 292, 295, 298, 299, 300, 221, 307, 312, 313, 351, 317, 181, 322, 323, 324, 325, 326, 329, 439, 335, 336, 337, 338, 342, 185, 347, 182, 352, 356, 359, 360, 363, 368, 369, 373, 374, 378, 379, 381, 382, 384, 387, 393, 397, 399, 144, 145, 146, 147, 406, 407, 409, 410, 413, 415, 418, 421, 422, 423, 427, 431, 177, 179, 180, 437, 438, 183, 184, 441, 442, 444, 445, 446, 453, 457, 458, 463, 209, 468, 469, 214, 215, 216, 217, 218, 476, 477, 223, 224, 225, 227, 484, 231, 489, 490, 491, 492, 496, 497, 502, 249, 251, 252, 253, 254, 255])\n",
        "257 274 0.000326331218423 0.0440020980004 0.0111081506182  Adding\n",
        "257 244 0.000167866282826 0.0319439149151 0.0109426913098  Adding\n",
        "300 274 0.000319182075383 0.0440020980004 0.0108824713078  Adding\n",
        "300 277 0.000229116483452 0.0716012544045 0.0107236543488  Adding\n",
        "221 243 0.000155802734686 0.0267832609899 0.0108144460462  Adding\n",
        "221 212 0.000394872265844 0.0602418034005 0.0107460438619  Adding\n",
        "312 306 0.000297872056391 0.0550529162119 0.0105976249996  Adding\n",
        "312 263 0.000515082508527 0.0896609118124 0.0105264421999  Adding\n",
        "351 372 0.000615786564761 0.197463627301 0.0103942095854  Adding\n",
        "323 277 0.000219623597636 0.0716012544045 0.0107179469307  Adding\n",
        "323 318 0.000322821024065 0.0449330761669 0.0108086238192  Adding\n",
        "439 475 0.00106246565949 0.172907366789 0.0106504765565  Adding\n",
        "439 454 0.000163161008556 0.0463348813823 0.0104007989258  Adding\n",
        "185 161 0.000312147645956 0.0583833658621 0.0103814342048  Adding\n",
        "185 150 0.000328683479145 0.084922977048 0.010322415037  Adding\n",
        "359 395 0.000807660258018 0.138031536617 0.0103750885762  Adding\n",
        "359 343 0.00022697167428 0.050464043757 0.0101435334732  Adding\n",
        "374 395 0.000794230383319 0.138031536617 0.0101136489597  Adding\n",
        "384 412 0.000151891949398 0.044563994372 0.00989131350623 Too close to Null\n",
        "144 110 0.000283671267986 0.0520404773527 0.00989131350623 Too close to Null\n",
        "145 109 0.000797896299538 0.152650454158 0.00989131350623 Too close to Null\n",
        "146 112 0.00026789664467 0.0621912039063 0.00989131350623 Too close to Null\n",
        "147 116 0.000323334246698 0.0541314817515 0.00989131350623 Too close to Null\n",
        "423 408 0.00091742434513 0.177286900416 0.00989131350623 Too close to Null\n",
        "427 465 0.000174739559833 0.050754124748 0.00989131350623 Too close to Null\n",
        "177 141 0.00059126188319 0.0836544063186 0.00989131350623 Too close to Null\n",
        "179 135 0.000273619291148 0.0400845281534 0.00989131350623 Too close to Null\n",
        "184 148 0.000450591751285 0.0948832007822 0.00989131350623 Too close to Null\n",
        "209 161 0.000300318890852 0.0583833658621 0.00989131350623 Too close to Null\n",
        "225 244 0.000144831798072 0.0319439149151 0.00989131350623 Too close to Null\n",
        "496 488 0.000204223157536 0.0514097457426 0.00989131350623 Too close to Null\n",
        "252 243 0.000137572684193 0.0267832609899 0.00989131350623 Too close to Null\n",
        "set([256, 257, 259, 438, 263, 264, 266, 343, 273, 274, 277, 218, 287, 289, 290, 291, 292, 295, 298, 299, 300, 477, 306, 307, 312, 313, 317, 318, 437, 322, 323, 324, 325, 326, 329, 212, 183, 335, 336, 337, 338, 342, 441, 347, 351, 352, 356, 359, 360, 363, 368, 369, 372, 373, 374, 378, 379, 381, 382, 384, 387, 150, 393, 395, 397, 399, 144, 145, 146, 147, 406, 407, 409, 410, 413, 415, 161, 418, 421, 422, 423, 427, 431, 177, 179, 180, 181, 182, 439, 184, 185, 442, 444, 445, 446, 453, 454, 457, 458, 463, 209, 468, 469, 214, 215, 216, 217, 474, 475, 476, 221, 223, 224, 225, 227, 484, 231, 489, 490, 491, 492, 496, 497, 243, 244, 502, 249, 251, 252, 253, 254, 255])"
       ]
      },
      {
       "output_type": "stream",
       "stream": "stdout",
       "text": [
        "\n",
        "263 226 0.00042891463084 0.0678158672075 0.00989131350623 Too close to Null\n",
        "343 376 0.000122493173059 0.0307547954892 0.00989131350623 Too close to Null\n",
        "274 228 0.000282680654083 0.043558732513 0.00989131350623 Too close to Null\n",
        "277 232 0.000139642556759 0.0308929025663 0.00989131350623 Too close to Null\n",
        "306 305 0.000320481394782 0.0562474931537 0.00989131350623 Too close to Null\n",
        "318 308 0.000248870504245 0.0794361412475 0.00989131350623 Too close to Null\n",
        "212 178 0.000203613539942 0.0390260002471 0.00989131350623 Too close to Null\n",
        "372 377 0.000185689654119 0.0516867087169 0.00989131350623 Too close to Null\n",
        "384 412 0.000151891949398 0.044563994372 0.00989131350623 Too close to Null\n",
        "150 113 0.000157151607735 0.0267307457334 0.00989131350623 Too close to Null\n",
        "395 408 0.00091742434513 0.177286900416 0.00989131350623 Too close to Null\n",
        "144 110 0.000283671267986 0.0520404773527 0.00989131350623 Too close to Null\n",
        "145 109 0.000797896299538 0.152650454158 0.00989131350623 Too close to Null\n",
        "146 112 0.00026789664467 0.0621912039063 0.00989131350623 Too close to Null\n",
        "147 116 0.000323334246698 0.0541314817515 0.00989131350623 Too close to Null\n",
        "161 176 0.000272652229089 0.0395951697473 0.00989131350623 Too close to Null\n",
        "423 408 0.00091742434513 0.177286900416 0.00989131350623 Too close to Null\n",
        "427 465 0.000174739559833 0.050754124748 0.00989131350623 Too close to Null\n",
        "177 141 0.00059126188319 0.0836544063186 0.00989131350623 Too close to Null\n",
        "179 135 0.000273619291148 0.0400845281534 0.00989131350623 Too close to Null\n",
        "184 171 0.000582694446684 0.0968488804494 0.00989131350623 Too close to Null\n",
        "454 435 7.05236379165e-05 0.0215615616179 0.00989131350623 Too close to Null\n",
        "209 199 0.000295920361919 0.0507984207662 0.00989131350623 Too close to Null\n",
        "475 485 0.000335123126336 0.0511366484689 0.00989131350623 Too close to Null\n",
        "225 199 0.000295920361919 0.0507984207662 0.00989131350623 Too close to Null\n",
        "496 488 0.000204223157536 0.0514097457426 0.00989131350623 Too close to Null\n",
        "243 213 0.000324350058782 0.0545117026269 0.00989131350623 Too close to Null\n",
        "244 210 0.000241359066531 0.06013173273 0.00989131350623 Too close to Null\n",
        "************ 427 distance from null= 0.362745619879\n",
        "427 384 0.0186989527101 0.211535757309 0.362745619879  Adding\n",
        "427 418 0.0184544194639 0.42216551733 0.266766094677  Adding\n",
        "427 452 0.0114548377557 0.208721122474 0.298605087521  Adding\n",
        "427 463 0.0135173611524 0.243371491389 0.264840064042  Adding\n",
        "427 465 0.018920237522 0.050754124748 0.246992484736\n",
        "427 412 0.0210626074191 0.044563994372 0.246992484736\n",
        "set([384, 418, 427, 452, 463])\n",
        "384 352 0.0177185754511 0.185000614409 0.246992484736  Adding\n",
        "384 412 0.0151281530538 0.044563994372 0.219179657833\n",
        "384 378 0.0117239881183 0.48957954782 0.219179657833  Adding\n",
        "384 372 0.00691715648779 0.197463627301 0.24704652471  Adding\n",
        "384 351 0.0108817757824 0.0796433810533 0.233862410786  Adding\n",
        "418 378 0.00835554301507 0.48957954782 0.206461724816  Adding\n",
        "418 415 0.00218394606493 0.172859003267 0.227126427622  Adding\n",
        "427 465 0.00884245538352 0.050754124748 0.2202054508  Adding\n",
        "427 412 0.00737781373516 0.044563994372 0.198048046405  Adding\n",
        "452 451 0.00574444567438 0.0581868636435 0.179057908257  Adding\n",
        "452 487 0.0064012846128 0.140067206226 0.164842874516  Adding\n",
        "452 488 0.00537411063622 0.0514097457426 0.156827833177  Adding\n",
        "452 465 0.00388027368062 0.050754124748 0.145029847827  Adding\n",
        "452 412 0.00344683294037 0.044563994372 0.135872421437  Adding\n",
        "452 414 0.00750996161862 0.0471810870807 0.127394901273  Adding\n",
        "463 496 0.00321306349877 0.12360323906 0.11579095349  Adding\n",
        "463 492 0.00786025619924 0.032002171144 0.112953405438  Adding\n",
        "463 453 0.00116869960569 0.127586449304 0.101560709065  Adding\n",
        "463 502 0.00506073275254 0.040637159098 0.10157346897  Adding\n",
        "463 415 0.000998715497738 0.172859003267 0.0941450111121  Adding\n",
        "set([384, 352, 418, 451, 452, 453, 487, 488, 427, 492, 463, 496, 465, 372, 502, 378, 415, 412, 414, 351])\n",
        "352 312 0.00449138804733 0.0167018751735 0.0963853036473\n",
        "352 298 0.00122019425327 0.0862204478955 0.0963853036473  Adding\n",
        "352 335 0.00483499451827 0.422608054778 0.0947516682231  Adding\n",
        "451 425 0.015692308596 0.137210496873 0.10240688717  Adding\n",
        "451 483 0.00123022714024 0.0813123104129 0.0880226654377  Adding\n",
        "453 437 0.00811312477195 0.0603932229018 0.0865533352281  Adding\n",
        "453 469 0.0110597673227 0.125460116128 0.0775278139398  Adding\n",
        "453 399 0.0101848739442 0.12726756427 0.0679883450622  Adding\n",
        "492 469 0.00918802136942 0.125460116128 0.0597906775138  Adding\n",
        "372 377 0.00258578280971 0.0516867087169 0.0525558368691  Adding\n",
        "372 346 0.000886675149328 0.118188172671 0.0499439927125  Adding\n",
        "372 333 0.00301652064442 0.0454499781251 0.0510744536104  Adding\n",
        "378 369 0.00414040841541 0.340680428593 0.0478948992767  Adding\n",
        "378 335 0.00475222576331 0.422608054778 0.0523141353829  Adding\n",
        "415 369 0.00345310554547 0.340680428593 0.0574704340236  Adding\n",
        "415 399 0.0076169923938 0.12726756427 0.0618525428991  Adding\n",
        "414 425 0.00792897136829 0.137210496873 0.055974656567  Adding\n",
        "414 377 0.00194718620679 0.0516867087169 0.0501013660105  Adding\n",
        "351 312 0.0015642983479 0.0167018751735 0.048192284783  Adding\n",
        "set([384, 451, 452, 453, 333, 463, 465, 399, 469, 346, 335, 412, 414, 415, 352, 418, 483, 487, 488, 425, 298, 427, 492, 496, 369, 372, 437, 502, 312, 377, 378, 351])\n",
        "333 305 0.00326255340704 0.0562474931537 0.0458590216549  Adding\n",
        "333 306 0.00269676661021 0.0550529162119 0.0428389658383  Adding\n",
        "333 341 0.00233454108888 0.0400680249333 0.0404326606367  Adding\n",
        "333 294 0.00240144815219 0.0970611341056 0.0380896586712  Adding\n",
        "399 393 0.00489919384967 0.101022472714 0.0370555895935  Adding\n",
        "399 379 0.00388145225144 0.0946033863327 0.0335747246174  Adding\n",
        "399 431 0.0059867577288 0.164213223902 0.0308715395006  Adding\n",
        "469 468 0.00103385755007 0.031561250246 0.027787631985  Adding\n",
        "346 306 0.00193586164054 0.0550529162119 0.0268360791318  Adding\n",
        "335 313 0.00550605450819 0.458818815086 0.0254757442537  Adding\n",
        "335 347 0.00486433904161 0.459577304705 0.0285078752117  Adding\n",
        "483 450 0.00314186582991 0.085280307178 0.0317070227059  Adding\n",
        "425 400 0.00259851146719 0.0677654327619 0.029516183528  Adding\n",
        "425 386 0.00227873375668 0.0611387149462 0.0276215910351  Adding\n",
        "425 436 0.000892443189196 0.0334332759602 0.0259574566399  Adding\n",
        "425 450 0.0026632153475 0.085280307178 0.0251940914344  Adding\n",
        "298 313 0.00500124276043 0.458818815086 0.0235242454648  Adding\n",
        "298 259 0.00179893171627 0.231739690484 0.0260881057403  Adding\n",
        "298 252 0.000330604150144 0.0610270594426 0.02791751371  Adding\n",
        "369 347 0.00416268756465 0.459577304705 0.0281580000756  Adding\n",
        "437 457 0.00312145816696 0.137632021285 0.0308864945492  Adding\n",
        "437 468 0.000833952231185 0.031561250246 0.0291233682055  Adding\n",
        "437 431 0.00435971333484 0.164213223902 0.0283309383798  Adding\n",
        "312 306 0.00147050393324 0.0550529162119 0.0261939456154  Adding\n",
        "312 252 0.000324107243122 0.0610270594426 0.0251777357923  Adding\n",
        "312 263 0.00235001054914 0.0896609118124 0.0254163482996  Adding\n",
        "377"
       ]
      },
      {
       "output_type": "stream",
       "stream": "stdout",
       "text": [
        " 386 0.00173223631127 0.0611387149462 0.0240015593379  Adding\n",
        "377 341 0.00112883139597 0.0400680249333 0.0228209187239  Adding\n",
        "set([384, 386, 259, 263, 393, 399, 400, 412, 414, 415, 418, 347, 294, 425, 298, 427, 431, 305, 306, 436, 437, 312, 313, 450, 451, 452, 453, 457, 333, 463, 465, 468, 469, 346, 335, 351, 352, 483, 487, 488, 492, 496, 369, 372, 502, 377, 378, 379, 252, 341])\n",
        "386 361 0.00179855215069 0.0731550926821 0.0219474025219  Adding\n",
        "259 218 0.000603990472107 0.0679448692637 0.0208891606991  Adding\n",
        "259 221 0.00214724374809 0.0982733431853 0.020914695575  Adding\n",
        "259 255 0.00248938478122 0.299757265143 0.0198237241989  Adding\n",
        "263 226 0.00180505350187 0.0678158672075 0.0213863865001  Adding\n",
        "263 243 0.000630517018383 0.0267832609899 0.0202509331254  Adding\n",
        "393 360 0.00517319660052 0.5797778989 0.0197148535326  Adding\n",
        "393 336 0.00102007109802 0.0942785214856 0.0221185847204  Adding\n",
        "393 325 0.00731501851281 0.768804220841 0.0219801500951  Adding\n",
        "400 361 0.00165809695816 0.0731550926821 0.0256263733529  Adding\n",
        "400 428 0.000420439230887 0.0169069487403 0.0245750035225  Adding\n",
        "400 389 0.000615055926992 0.0573322856704 0.0240642238246  Adding\n",
        "347 336 0.000951256474279 0.0942785214856 0.0238791462671  Adding\n",
        "347 307 0.000724706593953 0.126979859811 0.0237346762679  Adding\n",
        "294 293 0.000970486213136 0.029446045927 0.0243022086069  Adding\n",
        "294 261 0.00125647918196 0.068525487473 0.0233932101043  Adding\n",
        "294 286 0.000537160400191 0.030109866547 0.0226696179375  Adding\n",
        "294 327 0.000471096519851 0.0540898625552 0.0222162757304  Adding\n",
        "431 397 0.000434919075074 0.0288836765146 0.022100577961  Adding\n",
        "305 286 0.000503776351511 0.030109866547 0.0217259551079  Adding\n",
        "305 262 0.001249957799 0.0876651731723 0.0213137336022  Adding\n",
        "306 262 0.0012094634708 0.0876651731723 0.0208144752987  Adding\n",
        "436 464 0.00063609126742 0.0291145329909 0.0203528983465  Adding\n",
        "436 482 0.00164686490397 0.103557581086 0.0198047554932  Adding\n",
        "436 428 0.000294050777872 0.0169069487403 0.0190575783499  Adding\n",
        "313 307 0.000673352207816 0.126979859811 0.0187418742112  Adding\n",
        "450 482 0.00156535722749 0.103557581086 0.0192568772804  Adding\n",
        "457 489 0.000618112733726 0.025665451913 0.0185689055904  Adding\n",
        "457 397 0.000359980169302 0.0288836765146 0.018020598588  Adding\n",
        "457 441 0.00047534618338 0.021587169421 0.0177476400764  Adding\n",
        "468 489 0.000582170808832 0.025665451913 0.0173073047454  Adding\n",
        "379 336 0.00080613105739 0.0942785214856 0.0168051733283  Adding\n",
        "252 243 0.000415485394581 0.0267832609899 0.0167257927901  Adding\n",
        "252 221 0.00147139778301 0.0982733431853 0.016417923693  Adding\n",
        "341 361 0.00107231150545 0.0731550926821 0.0157308232527  Adding\n",
        "341 327 0.000376924482169 0.0540898625552 0.0152198875429  Adding\n",
        "set([384, 386, 259, 389, 262, 263, 393, 397, 399, 400, 482, 286, 412, 218, 414, 415, 418, 261, 293, 294, 425, 298, 427, 428, 431, 305, 306, 307, 436, 437, 312, 313, 325, 360, 450, 451, 452, 453, 327, 457, 333, 463, 336, 465, 335, 468, 469, 441, 346, 347, 221, 351, 352, 464, 226, 483, 487, 488, 361, 492, 255, 496, 369, 243, 372, 502, 489, 377, 378, 379, 252, 341])\n",
        "389 355 0.000432384198903 0.0376929063165 0.0152047084117  Adding\n",
        "389 404 0.000422346047911 0.0492799430728 0.0149874121303  Adding\n",
        "389 367 0.000778067033176 0.0505755671523 0.0148906695216  Adding\n",
        "262 250 0.000326061624495 0.0320929361812 0.0144329310123  Adding\n",
        "397 406 0.00238013235584 0.372351181456 0.0142673035208  Adding\n",
        "482 501 0.000432755691335 0.0323350386042 0.0152910552579  Adding\n",
        "286 250 0.000316048905821 0.0320929361812 0.0149983720028  Adding\n",
        "218 216 0.000807921249509 0.144859137408 0.014833530626  Adding\n",
        "218 184 0.00170371754919 0.119326076227 0.015192591628  Adding\n",
        "218 181 0.00281996781174 0.232099677093 0.0144447599076  Adding\n",
        "261 250 0.000298270317324 0.0320929361812 0.0136526529446  Adding\n",
        "261 222 0.000546837568791 0.0368308062977 0.0135116999048  Adding\n",
        "261 230 0.00039604389997 0.0334371263427 0.0131669615897  Adding\n",
        "293 321 0.000478748067119 0.0730980623308 0.0129437309124  Adding\n",
        "293 260 0.000815478911305 0.0778353335464 0.0129869084296  Adding\n",
        "293 284 0.000283793783726 0.0257953389494 0.0127119873017  Adding\n",
        "428 456 0.000634335348821 0.0411148341755 0.012535329361  Adding\n",
        "428 404 0.000340997212313 0.0492799430728 0.0121226819159  Adding\n",
        "307 273 0.000459526186042 0.0861169512156 0.0120885049457  Adding\n",
        "307 322 0.000473065404385 0.100289351253 0.0122477423356  Adding\n",
        "325 322 0.000460852692621 0.100289351253 0.0125280646357  Adding\n",
        "325 291 0.000427956810747 0.0969537772691 0.0128118290587  Adding\n",
        "360 368 0.00105556690041 0.221809895639 0.013105460135  Adding\n",
        "360 406 0.00204364575882 0.372351181456 0.0136993104372  Adding\n",
        "360 326 0.000481397830404 0.11026263791 0.0145546917381  Adding\n",
        "327 355 0.000333319524905 0.0376929063165 0.0148961981859  Adding\n",
        "336 322 0.000404929314262 0.100289351253 0.0147386066144  Adding\n",
        "441 442 0.0025883901925 0.478322280142 0.0150247271789  Adding\n",
        "441 484 0.000533923759847 0.0428853191528 0.0157620136635  Adding\n",
        "441 406 0.00188412989877 0.372351181456 0.0154202190397  Adding\n",
        "221 184 0.00146555799979 0.119326076227 0.0162900024996  Adding\n",
        "221 212 0.000699044131374 0.0602418034005 0.0156136760706  Adding\n",
        "464 456 0.000584690484988 0.0411148341755 0.01523831015  Adding\n",
        "464 501 0.000340382750574 0.0323350386042 0.0148304315409  Adding\n",
        "464 495 0.000128804678449 0.0353103574534 0.0146044859233  Adding\n",
        "226 192 0.000709500216873 0.061041280856 0.0146163207064  Adding\n",
        "226 250 0.000239179231576 0.0320929361812 0.0142380105389  Adding\n",
        "226 211 0.00168885586722 0.168744246029 0.0141229582549  Adding\n",
        "226 213 0.000610770792329 0.0545117026269 0.0135414610673  Adding\n",
        "361 355 0.000291291327079 0.0376929063165 0.0132080819497  Adding\n",
        "255 216 0.000629867349741 0.144859137408 0.0130874882252  Adding\n",
        "255 273 0.000356510430446 0.0861169512156 0.0133697128188  Adding\n",
        "243 212 0.000613886011034 0.0602418034005 0.0135248460353  Adding\n",
        "243 213 0.000580181110536 0.0545117026269 0.0132249626183  Adding\n",
        "489 484 0.000454643401039 0.0428853191528 0.0129148885335  Adding\n",
        "set([213, 259, 260, 261, 262, 263, 273, 284, 286, 291, 293, 294, 298, 305, 306, 307, 312, 313, 181, 321, 322, 325, 326, 327, 333, 335, 336, 341, 346, 347, 351, 352, 355, 360, 361, 367, 368, 369, 372, 377, 378, 379, 384, 386, 389, 393, 397, 399, 400, 404, 406, 412, 414, 415, 418, 425, 427, 428, 226, 431, 436, 437, 184, 441, 442, 192, 450, 451, 452, 453, 456, 457, 463, 464, 465, 211, 468, 469, 216, 218, 221, 222, 482, 483, 484, 230, 487, 488, 489, 492, 495, 496, 243, 501, 502, 212, 250, 252, 255])\n",
        "213 178 0.000347862856202 0.0390260002471 0.0126501003212  Adding\n",
        "260 248 0.000320613484056 0.0272532718262 0.0124638668634  Adding\n",
        "273 253 0.00138107637847 0.301047368235 0.0122412809641  Adding\n",
        "273 223 0.000506529974655 0.11973228946 0.0128697110935  Adding\n",
        "284 248 0.000317904993616 0.0272532718262 0.0130852128322  Adding\n",
        "284 265 0.000141696316123 0.0138018147433 0.0128593318661  Adding\n",
        "284 311 0.000146934183896 0.0280237030762 0.0127237312226  Adding\n",
        "291 290 0.000257896285948 0.0466098598224 0.0126749849035  Adding\n",
        "291 253 0.00131745073831 0.301047368235 0.0126398996595  Adding\n",
        "291 254 0.00042995396861 0.115717375409 0.0132514202449  Adding\n",
        "181 146 0.000205352971349 0.0397218420498 0.0135061246716  Adding\n",
        "181"
       ]
      },
      {
       "output_type": "stream",
       "stream": "stdout",
       "text": [
        " 180 0.0011428571857 0.110732512067 0.0134678309664  Adding\n",
        "321 332 0.000276415184143 0.0219357255187 0.0130001555101  Adding\n",
        "321 311 0.000138044787591 0.0280237030762 0.0127791684763  Adding\n",
        "326 329 0.000381664680668 0.0919194578793 0.0127345823723  Adding\n",
        "326 290 0.000239730266577 0.0466098598224 0.0128641631939  Adding\n",
        "355 332 0.00026662551784 0.0219357255187 0.0128348006929  Adding\n",
        "367 385 0.000534052901112 0.0555747691428 0.0126232380025  Adding\n",
        "367 332 0.000258328250229 0.0219357255187 0.0123360741091  Adding\n",
        "367 350 0.000354173061574 0.043199876271 0.0121351469599  Adding\n",
        "368 329 0.000364192465479 0.0919194578793 0.0119717698377  Adding\n",
        "368 413 0.000893936172887 0.2351690109 0.0121052525767  Adding\n",
        "404 424 0.000351475006073 0.0341914879038 0.0125346144095  Adding\n",
        "404 385 0.000509641672927 0.0555747691428 0.0123093989586  Adding\n",
        "406 413 0.000876701948857 0.2351690109 0.012039713795  Adding\n",
        "184 171 0.000803322882355 0.0968488804494 0.0124640522796  Adding\n",
        "184 148 0.00059996610475 0.0948832007822 0.0121273329361  Adding\n",
        "442 490 0.000285490192939 0.0758877001565 0.012002479468  Adding\n",
        "442 444 0.000177498248004 0.0644688194384 0.0120793350585  Adding\n",
        "442 413 0.000847853232706 0.2351690109 0.0121770801776  Adding\n",
        "192 168 0.000396091142638 0.0362492044227 0.0125936349265  Adding\n",
        "192 160 0.000731707136846 0.0858514327018 0.0123377770712  Adding\n",
        "192 178 0.000269302618307 0.0390260002471 0.0119967326856  Adding\n",
        "456 424 0.000317863474968 0.0341914879038 0.0118635784371  Adding\n",
        "456 462 0.000640372204477 0.0753186697961 0.0116681618431  Adding\n",
        "211 168 0.000368348391996 0.0362492044227 0.0113524721502  Adding\n",
        "211 204 0.000187703685543 0.0210193975469 0.0111278148542  Adding\n",
        "216 180 0.000926824446692 0.110732512067 0.0109942862522  Adding\n",
        "222 208 0.000148334418518 0.0165170024193 0.0106629606697  Adding\n",
        "222 248 0.000232761301705 0.0272532718262 0.0105451295459  Adding\n",
        "222 188 0.000168894249056 0.0528449004996 0.010400554914  Adding\n",
        "222 204 0.000177577184966 0.0210193975469 0.0104561032411  Adding\n",
        "484 490 0.000265165790738 0.0758877001565 0.0103348303558  Adding\n",
        "230 204 0.000174239170535 0.0210193975469 0.0104123470077  Adding\n",
        "212 178 0.000238136228158 0.0390260002471 0.0102940531715  Adding\n",
        "212 171 0.000678555610106 0.0968488804494 0.0101916277151  Adding\n",
        "set([259, 260, 261, 262, 263, 265, 273, 188, 171, 284, 286, 290, 291, 293, 294, 298, 305, 306, 307, 311, 312, 313, 437, 321, 322, 325, 326, 327, 329, 332, 333, 335, 336, 341, 346, 347, 350, 351, 352, 148, 355, 360, 361, 367, 368, 369, 372, 377, 378, 379, 384, 385, 386, 389, 393, 397, 399, 400, 482, 146, 404, 406, 412, 413, 414, 415, 160, 418, 424, 425, 427, 428, 431, 180, 178, 436, 181, 184, 441, 442, 444, 192, 450, 451, 452, 453, 456, 457, 204, 462, 463, 464, 465, 211, 468, 213, 216, 218, 221, 222, 223, 208, 226, 483, 484, 230, 487, 488, 489, 490, 492, 495, 496, 168, 243, 501, 502, 248, 212, 250, 255, 252, 253, 254, 469])\n",
        "265 229 0.000174896017185 0.0667456095839 0.00994318387657 Too close to Null\n",
        "188 165 0.000192114852395 0.0210535714537 0.00994318387657 Too close to Null\n",
        "171 137 0.000120728931476 0.0275086099144 0.00994318387657 Too close to Null\n",
        "290 264 0.000484693694675 0.0718312812636 0.00994318387657 Too close to Null\n",
        "311 283 0.000157414697301 0.01863739045 0.00994318387657 Too close to Null\n",
        "329 292 0.000303987084666 0.0820271559372 0.00994318387657 Too close to Null\n",
        "350 371 0.000246669046066 0.0333607177585 0.00994318387657 Too close to Null\n",
        "148 137 0.000120728931476 0.0275086099144 0.00994318387657 Too close to Null\n",
        "385 371 0.000246669046066 0.0333607177585 0.00994318387657 Too close to Null\n",
        "146 112 0.000273113699365 0.0621912039063 0.00994318387657 Too close to Null\n",
        "413 421 0.000493333379244 0.151958841264 0.00994318387657 Too close to Null\n",
        "160 115 0.00042420183822 0.0669844148975 0.00994318387657 Too close to Null\n",
        "424 371 0.000246669046066 0.0333607177585 0.00994318387657 Too close to Null\n",
        "180 145 0.000138352589822 0.0269821419729 0.00994318387657 Too close to Null\n",
        "178 143 0.000217140736384 0.0207106691397 0.00994318387657 Too close to Null\n",
        "444 497 0.000177168513631 0.0510490691517 0.00994318387657 Too close to Null\n",
        "204 165 0.000192114852395 0.0210535714537 0.00994318387657 Too close to Null\n",
        "462 459 0.000304630210107 0.0479113768488 0.00994318387657 Too close to Null\n",
        "223 217 0.000285193911307 0.0368461162578 0.00994318387657 Too close to Null\n",
        "208 229 0.000174896017185 0.0667456095839 0.00994318387657 Too close to Null\n",
        "490 497 0.000177168513631 0.0510490691517 0.00994318387657 Too close to Null\n",
        "168 115 0.00042420183822 0.0669844148975 0.00994318387657 Too close to Null\n",
        "248 229 0.000174896017185 0.0667456095839 0.00994318387657 Too close to Null\n",
        "253 217 0.000285193911307 0.0368461162578 0.00994318387657 Too close to Null\n",
        "254 264 0.000484693694675 0.0718312812636 0.00994318387657 Too close to Null\n"
       ]
      }
     ],
     "prompt_number": 22
    },
    {
     "cell_type": "code",
     "collapsed": false,
     "input": [
      "shape(Dists)"
     ],
     "language": "python",
     "metadata": {},
     "outputs": [
      {
       "metadata": {},
       "output_type": "pyout",
       "prompt_number": 23,
       "text": [
        "(4, 20)"
       ]
      }
     ],
     "prompt_number": 23
    },
    {
     "cell_type": "code",
     "collapsed": false,
     "input": [
      "plot(Null,label='Null')\n",
      "for i in range(shape(Dists)[0]):\n",
      "    if Sizes[i]<1000000:\n",
      "        plot(Dists[i],label=str(i))\n",
      "legend(loc=2)"
     ],
     "language": "python",
     "metadata": {},
     "outputs": [
      {
       "metadata": {},
       "output_type": "pyout",
       "prompt_number": 24,
       "text": [
        "<matplotlib.legend.Legend at 0x11070d050>"
       ]
      },
      {
       "metadata": {},
       "output_type": "display_data",
       "png": "[encoded data removed]",
       "text": [
        "<matplotlib.figure.Figure at 0x1116a7650>"
       ]
      }
     ],
     "prompt_number": 24
    },
    {
     "cell_type": "code",
     "collapsed": false,
     "input": [
      "Sizes"
     ],
     "language": "python",
     "metadata": {},
     "outputs": [
      {
       "metadata": {},
       "output_type": "pyout",
       "prompt_number": 25,
       "text": [
        "[42956.0, 52844.0, 8467.0, 9439.0]"
       ]
      }
     ],
     "prompt_number": 25
    },
    {
     "cell_type": "code",
     "collapsed": false,
     "input": [
      "print size(list(All))\n",
      "print texton_no"
     ],
     "language": "python",
     "metadata": {},
     "outputs": [
      {
       "output_type": "stream",
       "stream": "stdout",
       "text": [
        "23\n",
        "504\n"
       ]
      }
     ],
     "prompt_number": 26
    },
    {
     "cell_type": "code",
     "collapsed": false,
     "input": [
      "Sets"
     ],
     "language": "python",
     "metadata": {},
     "outputs": [
      {
       "metadata": {},
       "output_type": "pyout",
       "prompt_number": 27,
       "text": [
        "[{398, 402, 443, 448, 466, 473, 481, 486},\n",
        " {288, 345, 383, 396, 405, 416, 434, 447, 472, 500, 503},\n",
        " {15, 16},\n",
        " {34, 35}]"
       ]
      }
     ],
     "prompt_number": 27
    },
    {
     "cell_type": "code",
     "collapsed": false,
     "input": [
      "len(Dists)"
     ],
     "language": "python",
     "metadata": {},
     "outputs": [
      {
       "metadata": {},
       "output_type": "pyout",
       "prompt_number": 28,
       "text": [
        "4"
       ]
      }
     ],
     "prompt_number": 28
    },
    {
     "cell_type": "code",
     "collapsed": false,
     "input": [
      "for i in range(len(Dists)):\n",
      "    print '-------------------------------------'\n",
      "    print i,D_Null[i]\n",
      "    for j in range(i):\n",
      "        print i,j,JS(Dists[i],Sizes[i],Dists[j],Sizes[j])"
     ],
     "language": "python",
     "metadata": {},
     "outputs": [
      {
       "output_type": "stream",
       "stream": "stdout",
       "text": [
        "-------------------------------------\n",
        "0 0.0846629049892\n",
        "-------------------------------------\n",
        "1 0.0843516860079\n",
        "1 0 0.0194762374455\n",
        "-------------------------------------\n",
        "2 0.119332123693\n",
        "2 0 0.169524448635\n",
        "2 1 0.127814890286\n",
        "-------------------------------------\n",
        "3 0.0963027065314\n",
        "3 0 0.171683609552\n",
        "3 1 0.127205215095\n",
        "3 2 0.0857619611926\n"
       ]
      }
     ],
     "prompt_number": 32
    },
    {
     "cell_type": "code",
     "collapsed": false,
     "input": [
      "shape(seg)"
     ],
     "language": "python",
     "metadata": {},
     "outputs": [
      {
       "metadata": {},
       "output_type": "pyout",
       "prompt_number": 30,
       "text": [
        "(926, 2426)"
       ]
      }
     ],
     "prompt_number": 30
    },
    {
     "cell_type": "code",
     "collapsed": false,
     "input": [
      "max(seg.flatten())"
     ],
     "language": "python",
     "metadata": {},
     "outputs": [
      {
       "metadata": {},
       "output_type": "pyout",
       "prompt_number": 34,
       "text": [
        "503"
       ]
      }
     ],
     "prompt_number": 34
    },
    {
     "cell_type": "code",
     "collapsed": false,
     "input": [],
     "language": "python",
     "metadata": {},
     "outputs": []
    }
   ],
   "metadata": {}
  }
 ]
}