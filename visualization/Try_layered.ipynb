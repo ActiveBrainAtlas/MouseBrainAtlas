{
 "metadata": {
  "name": "",
  "signature": "sha256:b5b6ab8c57bbd428513ab2a9eaa210a02348a4e6d27abc706daec41dd9e4912a"
 },
 "nbformat": 3,
 "nbformat_minor": 0,
 "worksheets": [
  {
   "cells": [
    {
     "cell_type": "code",
     "collapsed": false,
     "input": [
      "\"\"\"\n",
      "Layer images above one another using alpha blending\n",
      "\"\"\"\n",
      "from __future__ import division\n",
      "from pylab import *\n",
      "\n",
      "def func3(x,y):\n",
      "    return (1- x/2 + x**5 + y**3)*exp(-x**2-y**2)\n",
      "\n",
      "# make these smaller to increase the resolution\n",
      "dx, dy = 0.05, 0.05\n",
      "\n",
      "x = arange(-3.0, 3.0, dx)\n",
      "y = arange(-3.0, 3.0, dy)\n",
      "X,Y = meshgrid(x, y)\n",
      "\n",
      "# when layering multiple images, the images need to have the same\n",
      "# extent.  This does not mean they need to have the same shape, but\n",
      "# they both need to render to the same coordinate system determined by\n",
      "# xmin, xmax, ymin, ymax.  Note if you use different interpolations\n",
      "# for the images their apparent extent could be different due to\n",
      "# interpolation edge effects\n",
      "\n",
      "\n",
      "xmin, xmax, ymin, ymax = amin(x), amax(x), amin(y), amax(y)\n",
      "extent = xmin, xmax, ymin, ymax\n",
      "fig = plt.figure(frameon=False)\n",
      "\n",
      "Z1 = array(([0,1]*4 + [1,0]*4)*4); Z1.shape = 8,8  # chessboard\n",
      "im1 = imshow(Z1, cmap=cm.gray, interpolation='nearest',\n",
      "             extent=extent)\n",
      "hold(True)\n",
      "\n",
      "Z2 = func3(X, Y)\n",
      "\n",
      "im2 = imshow(Z2, cmap=cm.jet, alpha=.9, interpolation='bilinear',\n",
      "             extent=extent)\n",
      "#axis([xmin, xmax, ymin, ymax])\n",
      "\n",
      "show()\n"
     ],
     "language": "python",
     "metadata": {},
     "outputs": [],
     "prompt_number": 1
    },
    {
     "cell_type": "code",
     "collapsed": false,
     "input": [
      "cmap = mpl.colors.ListedColormap(['r', 'g', 'b', 'c'])\n",
      "mpl.patches.allow_rasterization()"
     ],
     "language": "python",
     "metadata": {},
     "outputs": []
    }
   ],
   "metadata": {}
  }
 ]
}