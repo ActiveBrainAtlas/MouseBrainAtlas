{
 "cells": [
  {
   "cell_type": "code",
   "execution_count": 2,
   "metadata": {
    "collapsed": true
   },
   "outputs": [],
   "source": [
    "import cPickle as pickle"
   ]
  },
  {
   "cell_type": "code",
   "execution_count": 14,
   "metadata": {
    "collapsed": false,
    "scrolled": true
   },
   "outputs": [],
   "source": [
    "d1 = pickle.load(open('/home/yuncong/CSHL_labelings_new/MD589/MD589_sagittal_downsample1_Lauren_08152016170806.pkl', 'r'))\n",
    "d2 = pickle.load(open('/home/yuncong/CSHL_labelings_new/MD589/MD589_sagittal_downsample1_Lauren_08152016194626.pkl', 'r'))\n",
    "d1.update(d2)\n",
    "pickle.dump(d1, open('/home/yuncong/CSHL_labelings_new/MD589/MD589_sagittal_downsample1_Lauren_08152016194726.pkl', 'w'))"
   ]
  }
 ],
 "metadata": {
  "kernelspec": {
   "display_name": "Python 2",
   "language": "python",
   "name": "python2"
  },
  "language_info": {
   "codemirror_mode": {
    "name": "ipython",
    "version": 2
   },
   "file_extension": ".py",
   "mimetype": "text/x-python",
   "name": "python",
   "nbconvert_exporter": "python",
   "pygments_lexer": "ipython2",
   "version": "2.7.6"
  }
 },
 "nbformat": 4,
 "nbformat_minor": 0
}
