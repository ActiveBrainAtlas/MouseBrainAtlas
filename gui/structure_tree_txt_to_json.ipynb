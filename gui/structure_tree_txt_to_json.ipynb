{
 "cells": [
  {
   "cell_type": "code",
   "execution_count": 14,
   "metadata": {
    "collapsed": true
   },
   "outputs": [],
   "source": [
    "import re"
   ]
  },
  {
   "cell_type": "code",
   "execution_count": 66,
   "metadata": {
    "collapsed": false
   },
   "outputs": [],
   "source": [
    "with open('structure_tree.txt', 'r') as f:\n",
    "    lines = f.readlines()\n",
    "    lines = [l.rstrip() for l in lines if len(l) > 0]\n",
    "    \n",
    "    current = {}\n",
    "    structure_list = {}\n",
    "    \n",
    "    for l in lines:\n",
    "        if l.startswith('          - '):\n",
    "            level = 3\n",
    "            text = l.strip()[2:]\n",
    "        elif l.startswith('     - '):\n",
    "            level = 2\n",
    "            text = l.strip()[2:]\n",
    "        elif l.startswith('     '):\n",
    "            level = 1\n",
    "            text = l.strip()\n",
    "        else:\n",
    "            level = 0\n",
    "            text = l.strip()\n",
    "            \n",
    "        if len(text) == 0:\n",
    "            continue\n",
    "        \n",
    "        try:\n",
    "            res = re.findall('^(.+?)(:\\s?(.*))?$', text)[0]\n",
    "        except:\n",
    "            print 'text ERROR:', text\n",
    "            raise\n",
    "            \n",
    "        name, _, desc = res\n",
    "        \n",
    "        current[level] = name\n",
    "        \n",
    "        try:\n",
    "            fullname, abbreviation = re.findall('^(.*),\\s?(.*?)$', name)[0]\n",
    "        except:\n",
    "            fullname = name\n",
    "            abbreviation = ''\n",
    "        \n",
    "        parent = current[level-1] if level > 0 else None\n",
    "        \n",
    "        structure_list[name] = {'level': level, \n",
    "               'fullname': fullname, \n",
    "               'abbr': abbreviation, \n",
    "               'description': desc,\n",
    "              'parent': parent,\n",
    "                'children': []}\n",
    "        \n",
    "        if parent is not None:\n",
    "            structure_list[parent]['children'].append(name)\n",
    "        "
   ]
  },
  {
   "cell_type": "code",
   "execution_count": 70,
   "metadata": {
    "collapsed": false
   },
   "outputs": [
    {
     "name": "stdout",
     "output_type": "stream",
     "text": [
      "raphe magnus, RMg\n",
      "medial inferior olive nucleus, IOM\n",
      "intermediate gray, InG\n",
      "nucleus of Roller/sublingual nucleus, Ro\n",
      "ventrolateral\n",
      "paramedian reticular nucleus, PMn\n",
      "caudal pontine reticular nucleus, PnC\n",
      "dorsal cochlear nucleus, DC\n",
      "nucleus of the trapezoid body, Tz\n",
      "lateral, LVe\n",
      "external, ECIC\n",
      "medial\n",
      "nucleus of the optic tract, OT\n",
      "dorsal (pericentral) cortex of the inferior colliculus, DCIC\n",
      "reticulotegmental nucleus, PtTg\n",
      "lateral\n",
      "parvicellular\n",
      "superior, SVe\n",
      "central group\n",
      "brachium of the inferior colliculus, bic\n",
      "ventral cochlear nucleus, VC\n",
      "prepositus nucleus, Pr\n",
      "rostral\n",
      "medial, MVe\n",
      "nucleus of pretectal area\n",
      "Superficial gray layer, SuG\n",
      "pontine central grey, CGPn\n",
      "dorsolateral\n",
      "apical\n",
      "substantia nigra, compact part, SNC\n",
      "commissure of inferior colliculus, cic\n",
      "intermediate white, InWh\n",
      "Superior Olive, SO\n",
      "parvocellular, RPC\n",
      "central, CIC\n",
      "Intercalated Nucleus, In\n",
      "intermediate\n",
      "deep gray, DpG\n",
      "raphe pallidus, RPa\n",
      "median raphe nucleus, MnR\n",
      "paramedian raphe nucleus, PMnR\n",
      "principle inferior olive nucleus, IOPr\n",
      "Periolivary Region, PO\n",
      "substantia nigra, reticular part, SNR\n",
      "lateral group\n",
      "raphe obscurus, ROb\n",
      "interstitial nucleus of the vestibular nerve, I8\n",
      "dorsal inferior olive nucleus, IOD\n",
      "Zona layer, Zo\n",
      "spinal, SpVe\n",
      "parvocellular oculomotor nucleus, 3PC\n",
      "nucleus y, Y\n",
      "dorsal part of lateral\n",
      "optical layer / superficial white, Op\n",
      "olivary pretectal nucleus, OPT\n",
      "deep white, DpWh\n",
      "oral/rostral pontine reticular nucleus, PnO\n",
      "magnocellular, RMC\n",
      "dorsomedial\n"
     ]
    }
   ],
   "source": [
    "for name, s in structure_list.iteritems():\n",
    "    if s['level'] == 2:\n",
    "        print name"
   ]
  }
 ],
 "metadata": {
  "kernelspec": {
   "display_name": "Python 2",
   "language": "python",
   "name": "python2"
  },
  "language_info": {
   "codemirror_mode": {
    "name": "ipython",
    "version": 2
   },
   "file_extension": ".py",
   "mimetype": "text/x-python",
   "name": "python",
   "nbconvert_exporter": "python",
   "pygments_lexer": "ipython2",
   "version": "2.7.6"
  }
 },
 "nbformat": 4,
 "nbformat_minor": 0
}
