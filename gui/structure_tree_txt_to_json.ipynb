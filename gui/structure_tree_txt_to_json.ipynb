{
 "cells": [
  {
   "cell_type": "code",
   "execution_count": 2,
   "metadata": {
    "collapsed": true
   },
   "outputs": [],
   "source": [
    "import re"
   ]
  },
  {
   "cell_type": "code",
   "execution_count": 4,
   "metadata": {
    "collapsed": false
   },
   "outputs": [],
   "source": [
    "with open('structure_tree.txt', 'r') as f:\n",
    "    lines = f.readlines()\n",
    "    lines = [l.rstrip() for l in lines if len(l) > 0]\n",
    "    \n",
    "    current = {}\n",
    "    structure_list = {}\n",
    "    \n",
    "    for l in lines:\n",
    "        if l.startswith('          - '):\n",
    "            level = 3\n",
    "            text = l.strip()[2:]\n",
    "        elif l.startswith('     - '):\n",
    "            level = 2\n",
    "            text = l.strip()[2:]\n",
    "        elif l.startswith('     '):\n",
    "            level = 1\n",
    "            text = l.strip()\n",
    "        else:\n",
    "            level = 0\n",
    "            text = l.strip()\n",
    "            \n",
    "        if len(text) == 0:\n",
    "            continue\n",
    "        \n",
    "        try:\n",
    "            res = re.findall('^(.+?)(:\\s?(.*))?$', text)[0]\n",
    "        except:\n",
    "            print 'text ERROR:', text\n",
    "            raise\n",
    "            \n",
    "        name, _, desc = res\n",
    "        \n",
    "        if '[BEST]' in desc:\n",
    "            goodness = 'best'\n",
    "        elif '[GOOD]' in desc:\n",
    "            goodness = 'good'\n",
    "        else:\n",
    "            goodness = None\n",
    "            \n",
    "        \n",
    "        current[level] = name\n",
    "        \n",
    "        try:\n",
    "            fullname, abbreviation = re.findall('^(.*),\\s?(.*?)$', name)[0]\n",
    "        except:\n",
    "            fullname = name\n",
    "            abbreviation = ''\n",
    "        \n",
    "        parent = current[level-1] if level > 0 else None\n",
    "        \n",
    "        structure_list[name] = {'level': level, \n",
    "               'fullname': fullname, \n",
    "               'abbr': abbreviation, \n",
    "               'description': desc,\n",
    "                'goodness': goodness,\n",
    "              'parent': parent,\n",
    "                'children': []}\n",
    "        \n",
    "        if parent is not None:\n",
    "            structure_list[parent]['children'].append(name)\n",
    "        "
   ]
  },
  {
   "cell_type": "code",
   "execution_count": 12,
   "metadata": {
    "collapsed": false,
    "scrolled": false
   },
   "outputs": [
    {
     "name": "stdout",
     "output_type": "stream",
     "text": [
      "Best structures:\n",
      "fr\n",
      "Amb\n",
      "Tz\n",
      "Pn\n",
      "RtTg\n",
      "SNR\n",
      "7n\n",
      "AP\n",
      "10N\n",
      "VLL\n",
      "4N\n",
      "6N\n",
      "SNC\n",
      "7N\n",
      "12N\n",
      "pc\n",
      "\n",
      "\n",
      "Good structures:\n",
      "Sol\n",
      "LC\n",
      "VTA\n",
      "IP\n",
      "5N\n"
     ]
    }
   ],
   "source": [
    "print 'Best structures:'\n",
    "\n",
    "for name, s in structure_list.iteritems():\n",
    "    if s['goodness'] == 'best':\n",
    "        print s['abbr']\n",
    "        \n",
    "print '\\n'\n",
    "print 'Good structures:'\n",
    "        \n",
    "for name, s in structure_list.iteritems():\n",
    "    if s['goodness'] == 'good':\n",
    "        print s['abbr']"
   ]
  }
 ],
 "metadata": {
  "kernelspec": {
   "display_name": "Python 2",
   "language": "python",
   "name": "python2"
  },
  "language_info": {
   "codemirror_mode": {
    "name": "ipython",
    "version": 2
   },
   "file_extension": ".py",
   "mimetype": "text/x-python",
   "name": "python",
   "nbconvert_exporter": "python",
   "pygments_lexer": "ipython2",
   "version": "2.7.3"
  }
 },
 "nbformat": 4,
 "nbformat_minor": 0
}
