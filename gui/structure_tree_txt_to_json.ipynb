{
 "cells": [
  {
   "cell_type": "code",
   "execution_count": 1,
   "metadata": {
    "collapsed": true
   },
   "outputs": [],
   "source": [
    "import re"
   ]
  },
  {
   "cell_type": "code",
   "execution_count": 2,
   "metadata": {
    "collapsed": false
   },
   "outputs": [],
   "source": [
    "with open('structure_tree.txt', 'r') as f:\n",
    "    lines = f.readlines()\n",
    "    lines = [l.rstrip() for l in lines if len(l) > 0]\n",
    "    \n",
    "    current = {}\n",
    "    structure_list = {}\n",
    "    \n",
    "    for l in lines:\n",
    "        if l.startswith('          - '):\n",
    "            level = 3\n",
    "            text = l.strip()[2:]\n",
    "        elif l.startswith('     - '):\n",
    "            level = 2\n",
    "            text = l.strip()[2:]\n",
    "        elif l.startswith('     '):\n",
    "            level = 1\n",
    "            text = l.strip()\n",
    "        else:\n",
    "            level = 0\n",
    "            text = l.strip()\n",
    "            \n",
    "        if len(text) == 0:\n",
    "            continue\n",
    "        \n",
    "        try:\n",
    "            res = re.findall('^(.+?)(:\\s?(.*))?$', text)[0]\n",
    "        except:\n",
    "            print 'text ERROR:', text\n",
    "            raise\n",
    "            \n",
    "        name, _, desc = res\n",
    "        \n",
    "        if '[BEST]' in desc:\n",
    "            goodness = 'best'\n",
    "        elif '[GOOD]' in desc:\n",
    "            goodness = 'good'\n",
    "        else:\n",
    "            goodness = None\n",
    "            \n",
    "        \n",
    "        current[level] = name\n",
    "        \n",
    "        try:\n",
    "            fullname, abbreviation = re.findall('^(.*),\\s?(.*?)$', name)[0]\n",
    "        except:\n",
    "            fullname = name\n",
    "            abbreviation = ''\n",
    "        \n",
    "        parent = current[level-1] if level > 0 else None\n",
    "        \n",
    "        structure_list[name] = {'level': level, \n",
    "               'fullname': fullname, \n",
    "               'abbr': abbreviation, \n",
    "               'description': desc,\n",
    "                'goodness': goodness,\n",
    "              'parent': parent,\n",
    "                'children': []}\n",
    "        \n",
    "        if parent is not None:\n",
    "            structure_list[parent]['children'].append(name)\n",
    "        "
   ]
  },
  {
   "cell_type": "code",
   "execution_count": 4,
   "metadata": {
    "collapsed": false
   },
   "outputs": [],
   "source": [
    "structure_list['brainstem'] = {'fullname': 'brainstem', \n",
    "                               'level':-1, \n",
    "                               'children': [name for name, s in structure_list.iteritems() if s['level'] == 0]}"
   ]
  },
  {
   "cell_type": "code",
   "execution_count": 6,
   "metadata": {
    "collapsed": false
   },
   "outputs": [],
   "source": [
    "import json\n",
    "json.dump(structure_list, open('structure_tree.json', 'w'))"
   ]
  },
  {
   "cell_type": "code",
   "execution_count": null,
   "metadata": {
    "collapsed": true
   },
   "outputs": [],
   "source": []
  },
  {
   "cell_type": "code",
   "execution_count": 3,
   "metadata": {
    "collapsed": false,
    "scrolled": false
   },
   "outputs": [
    {
     "name": "stdout",
     "output_type": "stream",
     "text": [
      "Best structures:\n",
      "fr\n",
      "Amb\n",
      "DC\n",
      "Tz\n",
      "3N\n",
      "Pn\n",
      "RtTg\n",
      "SNR\n",
      "7n\n",
      "AP\n",
      "10N\n",
      "VLL\n",
      "4N\n",
      "6N\n",
      "SNC\n",
      "7N\n",
      "12N\n",
      "pc\n",
      "\n",
      "\n",
      "Good structures:\n",
      "Sol\n",
      "LC\n",
      "VTA\n",
      "R\n",
      "SC\n",
      "IO\n",
      "IP\n",
      "IC\n",
      "5N\n",
      "LRt\n"
     ]
    }
   ],
   "source": [
    "print 'Best structures:'\n",
    "\n",
    "for name, s in structure_list.iteritems():\n",
    "    if s['goodness'] == 'best':\n",
    "        print s['abbr']\n",
    "        \n",
    "print '\\n'\n",
    "print 'Good structures:'\n",
    "        \n",
    "for name, s in structure_list.iteritems():\n",
    "    if s['goodness'] == 'good':\n",
    "        print s['abbr']"
   ]
  },
  {
   "cell_type": "code",
   "execution_count": null,
   "metadata": {
    "collapsed": true
   },
   "outputs": [],
   "source": []
  },
  {
   "cell_type": "code",
   "execution_count": null,
   "metadata": {
    "collapsed": false
   },
   "outputs": [],
   "source": [
    "def print_dict(node):\n",
    "    print '\\t'*node['level'] + node['fullname']\n",
    "    if len(node['children']) == 0:\n",
    "        return\n",
    "    else:\n",
    "        for name in node['children']:\n",
    "            print_dict(structure_list[name])\n",
    "    \n",
    "for name, s in structure_list.iteritems():\n",
    "    if s['level'] == 0:\n",
    "        print_dict(s)"
   ]
  },
  {
   "cell_type": "code",
   "execution_count": null,
   "metadata": {
    "collapsed": true
   },
   "outputs": [],
   "source": [
    "def extract_names(d, node, structure_tree_dict):\n",
    "\n",
    "    if len(node['children']) == 0:\n",
    "        return\n",
    "    else:\n",
    "        for name in node['children']:\n",
    "            print name\n",
    "            \n",
    "            if 'abbr' in structure_tree_dict[name] and len(structure_tree_dict[name]['abbr']) > 0:\n",
    "                key = structure_tree_dict[name]['fullname'] + ' (' + structure_tree_dict[name]['abbr'] + ')'\n",
    "            else:\n",
    "                key = structure_tree_dict[name]['fullname']\n",
    "            \n",
    "            if key not in d:\n",
    "                d[key] = {}\n",
    "                \n",
    "            extract_names(d[key], structure_tree_dict[name], structure_tree_dict)"
   ]
  },
  {
   "cell_type": "code",
   "execution_count": null,
   "metadata": {
    "collapsed": false
   },
   "outputs": [],
   "source": [
    "structure_tree_dict = json.load(open('structure_tree.json'))\n",
    "structure_tree_names = {'brainstem': {}}\n",
    "\n",
    "extract_names(structure_tree_names['brainstem'], structure_tree_dict['brainstem'], structure_tree_dict)"
   ]
  },
  {
   "cell_type": "code",
   "execution_count": null,
   "metadata": {
    "collapsed": false
   },
   "outputs": [],
   "source": [
    "structure_tree_names"
   ]
  },
  {
   "cell_type": "code",
   "execution_count": null,
   "metadata": {
    "collapsed": true
   },
   "outputs": [],
   "source": []
  },
  {
   "cell_type": "code",
   "execution_count": null,
   "metadata": {
    "collapsed": false
   },
   "outputs": [],
   "source": [
    "def get_children_names(name):\n",
    "        \n",
    "    node = structure_tree_dict[name]\n",
    "    if 'abbr' in node and len(node['abbr']) > 0:\n",
    "        key = node['fullname'] + ' (' + node['abbr'] + ')'\n",
    "    else:\n",
    "        key = node['fullname']\n",
    "    return (key, dict([get_children_names(child_name) for child_name in node['children']]))"
   ]
  },
  {
   "cell_type": "code",
   "execution_count": null,
   "metadata": {
    "collapsed": false
   },
   "outputs": [],
   "source": [
    "structure_tree_names = dict([get_children_names('brainstem')])"
   ]
  },
  {
   "cell_type": "code",
   "execution_count": null,
   "metadata": {
    "collapsed": true
   },
   "outputs": [],
   "source": []
  }
 ],
 "metadata": {
  "kernelspec": {
   "display_name": "Python 2",
   "language": "python",
   "name": "python2"
  },
  "language_info": {
   "codemirror_mode": {
    "name": "ipython",
    "version": 2
   },
   "file_extension": ".py",
   "mimetype": "text/x-python",
   "name": "python",
   "nbconvert_exporter": "python",
   "pygments_lexer": "ipython2",
   "version": "2.7.3"
  }
 },
 "nbformat": 4,
 "nbformat_minor": 0
}
