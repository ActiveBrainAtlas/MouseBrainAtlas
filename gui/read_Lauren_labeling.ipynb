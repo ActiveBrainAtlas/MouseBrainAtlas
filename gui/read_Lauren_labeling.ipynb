{
 "cells": [
  {
   "cell_type": "code",
   "execution_count": 2,
   "metadata": {
    "collapsed": true
   },
   "outputs": [],
   "source": [
    "import cPickle as pickle\n",
    "import os\n",
    "import datetime"
   ]
  },
  {
   "cell_type": "code",
   "execution_count": 35,
   "metadata": {
    "collapsed": false
   },
   "outputs": [],
   "source": [
    "username = 'Lauren'\n",
    "timestamp = 'latest'"
   ]
  },
  {
   "cell_type": "code",
   "execution_count": 74,
   "metadata": {
    "collapsed": false
   },
   "outputs": [
    {
     "name": "stdout",
     "output_type": "stream",
     "text": [
      "MD594_sagittal_downsample1_Lauren_08162016213139.pkl\n"
     ]
    }
   ],
   "source": [
    "annotation_rootdir = '/home/yuncong/CSHL_labelings_new'\n",
    "labeling_dir = os.path.join(annotation_rootdir, 'MD594')\n",
    "\n",
    "fns = [(f, f[:-4].split('_')) for f in os.listdir(labeling_dir) if f.endswith('pkl')]\n",
    "# stack_orient_downsample_user_timestamp.pkl\n",
    "\n",
    "if username is not None:\n",
    "    filtered_fns = [(f, f_split) for f, f_split in fns if f_split[3] == username]\n",
    "else:\n",
    "    filtered_fns = fns\n",
    "\n",
    "if timestamp == 'latest':\n",
    "    fns_sorted_by_timestamp = sorted(filtered_fns, key=lambda (f, f_split): datetime.datetime.strptime(f_split[4], \"%m%d%Y%H%M%S\"), reverse=True)\n",
    "    selected_f, selected_f_split = fns_sorted_by_timestamp[0]\n",
    "    selected_username = selected_f_split[3]\n",
    "    selected_timestamp = selected_f_split[4]\n",
    "else:\n",
    "    raise Exception('Timestamp must be `latest`.')\n",
    "\n",
    "print selected_f\n",
    "    \n",
    "import cPickle as pickle\n",
    "d = pickle.load(open(os.path.join(labeling_dir, selected_f), 'r'))"
   ]
  },
  {
   "cell_type": "code",
   "execution_count": 75,
   "metadata": {
    "collapsed": false,
    "scrolled": true
   },
   "outputs": [
    {
     "name": "stdout",
     "output_type": "stream",
     "text": [
      "124 SNR\n",
      "127 SNR\n",
      "127 SNC\n",
      "130 SNR\n",
      "130 SNC\n",
      "133 SNR\n",
      "133 SNC\n",
      "136 SNR\n",
      "136 SNC\n",
      "139 SNR\n",
      "139 SNC\n",
      "139 IC\n",
      "139 SC\n",
      "142 SNR\n",
      "142 SNC\n",
      "142 SC\n",
      "142 IC\n",
      "145 SNR\n",
      "145 SNC\n",
      "145 SC\n",
      "145 IC\n",
      "148 SNR\n",
      "148 SNC\n",
      "148 SC\n",
      "148 IC\n",
      "151 SNR\n",
      "151 SNC\n",
      "151 SC\n",
      "151 IC\n",
      "154 SNR\n",
      "154 SNC\n",
      "154 SC\n",
      "154 IC\n",
      "157 SNR\n",
      "157 SNC\n",
      "157 SC\n",
      "157 IC\n",
      "160 SNR\n",
      "160 SNC\n",
      "160 SC\n",
      "160 IC\n",
      "163 SNR\n",
      "163 SNC\n",
      "163 SC\n",
      "163 IC\n",
      "166 SNR\n",
      "166 SNC\n",
      "166 IC\n",
      "166 SC\n",
      "169 SNR\n",
      "169 SNC\n",
      "169 IC\n",
      "169 SC\n",
      "172 SNR\n",
      "172 SNC\n",
      "172 IC\n",
      "172 SC\n",
      "175 SNR\n",
      "175 SNC\n",
      "175 IC\n",
      "175 SC\n",
      "178 SNR\n",
      "178 SNC\n",
      "178 IC\n",
      "178 SC\n",
      "181 SNR\n",
      "181 SNC\n",
      "181 IC\n",
      "181 SC\n",
      "184 SNR\n",
      "184 SNC\n",
      "184 IC\n",
      "184 SC\n",
      "186 SNR\n",
      "186 SNC\n",
      "186 IC\n",
      "186 SC\n",
      "189 SNR\n",
      "189 SNC\n",
      "189 IC\n",
      "189 SC\n",
      "192 SNC\n",
      "192 IC\n",
      "192 SC\n",
      "195 IC\n",
      "195 SC\n",
      "198 SC\n",
      "198 IC\n",
      "201 SC\n",
      "201 IC\n",
      "204 IC\n",
      "204 SC\n",
      "207 IC\n",
      "207 SC\n",
      "210 IC\n",
      "210 SC\n",
      "213 IC\n",
      "213 SC\n",
      "216 IC\n",
      "216 SC\n",
      "219 IC\n",
      "219 SC\n",
      "222 IC\n",
      "222 SC\n"
     ]
    }
   ],
   "source": [
    "for i, polygons in d.iteritems():\n",
    "    for p in polygons:\n",
    "        print p['section'], p['label']\n",
    "#         if p['section'] == 133:\n",
    "#             print p['vertices'], len(p['vertices'])"
   ]
  },
  {
   "cell_type": "code",
   "execution_count": null,
   "metadata": {
    "collapsed": true
   },
   "outputs": [],
   "source": []
  }
 ],
 "metadata": {
  "kernelspec": {
   "display_name": "Python 2",
   "language": "python",
   "name": "python2"
  },
  "language_info": {
   "codemirror_mode": {
    "name": "ipython",
    "version": 2
   },
   "file_extension": ".py",
   "mimetype": "text/x-python",
   "name": "python",
   "nbconvert_exporter": "python",
   "pygments_lexer": "ipython2",
   "version": "2.7.6"
  }
 },
 "nbformat": 4,
 "nbformat_minor": 0
}
