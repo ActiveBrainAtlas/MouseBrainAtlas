{
 "cells": [
  {
   "cell_type": "code",
   "execution_count": 2,
   "metadata": {
    "collapsed": true
   },
   "outputs": [],
   "source": [
    "import cPickle as pickle"
   ]
  },
  {
   "cell_type": "code",
   "execution_count": 14,
   "metadata": {
    "collapsed": false,
    "scrolled": true
   },
   "outputs": [],
   "source": [
    "d1 = pickle.load(open('/home/yuncong/CSHL_labelings_new/MD589/MD589_sagittal_downsample1_Lauren_08152016170806.pkl', 'r'))\n",
    "d2 = pickle.load(open('/home/yuncong/CSHL_labelings_new/MD589/MD589_sagittal_downsample1_Lauren_08152016194626.pkl', 'r'))\n",
    "d1.update(d2)\n",
    "pickle.dump(d1, open('/home/yuncong/CSHL_labelings_new/MD589/MD589_sagittal_downsample1_Lauren_08152016194726.pkl', 'w'))"
   ]
  },
  {
   "cell_type": "code",
   "execution_count": 26,
   "metadata": {
    "collapsed": true
   },
   "outputs": [],
   "source": [
    "import os"
   ]
  },
  {
   "cell_type": "code",
   "execution_count": 35,
   "metadata": {
    "collapsed": false
   },
   "outputs": [],
   "source": [
    "username = 'Lauren'\n",
    "timestamp = 'latest'"
   ]
  },
  {
   "cell_type": "code",
   "execution_count": 37,
   "metadata": {
    "collapsed": true
   },
   "outputs": [],
   "source": [
    "import datetime"
   ]
  },
  {
   "cell_type": "code",
   "execution_count": 50,
   "metadata": {
    "collapsed": false
   },
   "outputs": [],
   "source": [
    "annotation_rootdir = '/home/yuncong/CSHL_labelings_new'\n",
    "labeling_dir = os.path.join(annotation_rootdir, 'MD589')\n",
    "\n",
    "fns = [(f, f[:-4].split('_')) for f in os.listdir(labeling_dir) if f.endswith('pkl')]\n",
    "# stack_orient_downsample_user_timestamp.pkl\n",
    "\n",
    "if username is not None:\n",
    "    filtered_fns = [(f, f_split) for f, f_split in fns if f_split[3] == username]\n",
    "else:\n",
    "    filtered_fns = fns\n",
    "\n",
    "if timestamp == 'latest':\n",
    "    fns_sorted_by_timestamp = sorted(filtered_fns, key=lambda (f, f_split): datetime.datetime.strptime(f_split[4], \"%m%d%Y%H%M%S\"), reverse=True)\n",
    "    selected_f, selected_f_split = fns_sorted_by_timestamp[0]\n",
    "    selected_username = selected_f_split[3]\n",
    "    selected_timestamp = selected_f_split[4]\n",
    "else:\n",
    "    raise Exception('Timestamp must be `latest`.')\n",
    "\n",
    "import cPickle as pickle\n",
    "d = pickle.load(open(os.path.join(labeling_dir, selected_f), 'r'))"
   ]
  },
  {
   "cell_type": "code",
   "execution_count": 51,
   "metadata": {
    "collapsed": false
   },
   "outputs": [
    {
     "name": "stdout",
     "output_type": "stream",
     "text": [
      "150 SNR\n",
      "150 SNC\n",
      "150 IC\n",
      "150 SC\n",
      "151 SNR\n",
      "152 SNR\n",
      "153 SNR\n",
      "153 SNC\n",
      "153 IC\n",
      "153 SC\n",
      "154 SNR\n",
      "154 IC\n",
      "154 SNC\n",
      "154 SC\n",
      "155 SNR\n",
      "155 SC\n",
      "155 IC\n",
      "155 SNC\n",
      "156 SNR\n",
      "157 SNR\n",
      "158 SNR\n",
      "159 SNR\n",
      "160 SNR\n",
      "161 SNR\n",
      "162 SNR\n",
      "163 SNR\n",
      "164 SNR\n",
      "165 SNR\n",
      "166 SNR\n",
      "166 SC\n",
      "167 SNR\n",
      "168 SNR\n",
      "169 SNR\n",
      "169 SC\n",
      "170 SNR\n",
      "171 SNR\n",
      "172 SNR\n",
      "173 SNR\n",
      "174 SNR\n",
      "175 SNR\n",
      "176 SNR\n",
      "177 SNR\n",
      "178 SNR\n",
      "180 SNR\n",
      "183 SNR\n",
      "186 SNR\n",
      "189 SNR\n",
      "192 SNR\n",
      "195 SNR\n",
      "201 IC\n",
      "201 SC\n",
      "223 IC\n",
      "223 SC\n"
     ]
    }
   ],
   "source": [
    "for i, polygons in d.iteritems():\n",
    "    for p in polygons:\n",
    "        print p['section'], p['label']"
   ]
  },
  {
   "cell_type": "code",
   "execution_count": 18,
   "metadata": {
    "collapsed": false
   },
   "outputs": [],
   "source": [
    "d = pickle.load(open('/home/yuncong/CSHL_labelings_new/MD589/MD589_sagittal_downsample1_Lauren_08162016114446.pkl', 'r'))"
   ]
  },
  {
   "cell_type": "code",
   "execution_count": 23,
   "metadata": {
    "collapsed": false
   },
   "outputs": [
    {
     "name": "stdout",
     "output_type": "stream",
     "text": [
      "150 SNR\n",
      "151 SNR\n",
      "152 SNR\n",
      "153 SNR\n",
      "154 SNR\n",
      "154 IC\n",
      "154 SNC\n",
      "155 SNR\n",
      "156 SNR\n",
      "157 SNR\n",
      "158 SNR\n",
      "159 SNR\n",
      "160 SNR\n",
      "161 SNR\n",
      "162 SNR\n",
      "163 SNR\n",
      "164 SNR\n",
      "165 SNR\n",
      "166 SNR\n",
      "166 SC\n",
      "167 SNR\n",
      "168 SNR\n",
      "169 SNR\n",
      "169 SC\n",
      "170 SNR\n",
      "171 SNR\n",
      "172 SNR\n",
      "173 SNR\n",
      "174 SNR\n",
      "175 SNR\n",
      "176 SNR\n",
      "177 SNR\n",
      "178 SNR\n",
      "180 SNR\n",
      "183 SNR\n",
      "186 SNR\n",
      "189 SNR\n",
      "192 SNR\n",
      "195 SNR\n"
     ]
    }
   ],
   "source": [
    "for i, polygons in d.iteritems():\n",
    "    for p in polygons:\n",
    "        print p['section'], p['label']"
   ]
  }
 ],
 "metadata": {
  "kernelspec": {
   "display_name": "Python 2",
   "language": "python",
   "name": "python2"
  },
  "language_info": {
   "codemirror_mode": {
    "name": "ipython",
    "version": 2
   },
   "file_extension": ".py",
   "mimetype": "text/x-python",
   "name": "python",
   "nbconvert_exporter": "python",
   "pygments_lexer": "ipython2",
   "version": "2.7.6"
  }
 },
 "nbformat": 4,
 "nbformat_minor": 0
}
