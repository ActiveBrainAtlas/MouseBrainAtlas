{
 "cells": [
  {
   "cell_type": "code",
   "execution_count": 2,
   "metadata": {
    "collapsed": true
   },
   "outputs": [],
   "source": [
    "import cPickle as pickle\n",
    "import os\n",
    "import datetime"
   ]
  },
  {
   "cell_type": "code",
   "execution_count": 35,
   "metadata": {
    "collapsed": false
   },
   "outputs": [],
   "source": [
    "username = 'Lauren'\n",
    "timestamp = 'latest'"
   ]
  },
  {
   "cell_type": "code",
   "execution_count": 78,
   "metadata": {
    "collapsed": false
   },
   "outputs": [
    {
     "name": "stdout",
     "output_type": "stream",
     "text": [
      "MD589_sagittal_downsample1_Lauren_08162016173458.pkl\n"
     ]
    }
   ],
   "source": [
    "annotation_rootdir = '/home/yuncong/CSHL_labelings_new'\n",
    "labeling_dir = os.path.join(annotation_rootdir, 'MD589')\n",
    "\n",
    "fns = [(f, f[:-4].split('_')) for f in os.listdir(labeling_dir) if f.endswith('pkl')]\n",
    "# stack_orient_downsample_user_timestamp.pkl\n",
    "\n",
    "if username is not None:\n",
    "    filtered_fns = [(f, f_split) for f, f_split in fns if f_split[3] == username]\n",
    "else:\n",
    "    filtered_fns = fns\n",
    "\n",
    "if timestamp == 'latest':\n",
    "    fns_sorted_by_timestamp = sorted(filtered_fns, key=lambda (f, f_split): datetime.datetime.strptime(f_split[4], \"%m%d%Y%H%M%S\"), reverse=True)\n",
    "    selected_f, selected_f_split = fns_sorted_by_timestamp[0]\n",
    "    selected_username = selected_f_split[3]\n",
    "    selected_timestamp = selected_f_split[4]\n",
    "else:\n",
    "    raise Exception('Timestamp must be `latest`.')\n",
    "\n",
    "print selected_f\n",
    "    \n",
    "import cPickle as pickle\n",
    "d = pickle.load(open(os.path.join(labeling_dir, selected_f), 'r'))"
   ]
  },
  {
   "cell_type": "code",
   "execution_count": 79,
   "metadata": {
    "collapsed": false,
    "scrolled": false
   },
   "outputs": [
    {
     "name": "stdout",
     "output_type": "stream",
     "text": [
      "133 SNR\n",
      "133 SC\n",
      "134 SC\n",
      "136 SC\n",
      "136 IC\n",
      "136 SNR\n",
      "136 SNC\n",
      "139 SNR\n",
      "139 SNC\n",
      "139 IC\n",
      "139 SC\n",
      "142 SNR\n",
      "142 SNC\n",
      "142 IC\n",
      "142 SC\n",
      "145 SNR\n",
      "145 SNC\n",
      "145 IC\n",
      "145 SC\n",
      "147 SNR\n",
      "147 SNC\n",
      "147 IC\n",
      "147 SC\n",
      "148 SNR\n",
      "148 SNC\n",
      "150 SNR\n",
      "150 SNC\n",
      "150 IC\n",
      "150 SC\n",
      "151 SNR\n",
      "152 SNR\n",
      "153 SNR\n",
      "153 SNC\n",
      "153 IC\n",
      "153 SC\n",
      "154 SNR\n",
      "154 IC\n",
      "154 SNC\n",
      "154 SC\n",
      "155 SNR\n",
      "155 SC\n",
      "155 IC\n",
      "155 SNC\n",
      "156 SNR\n",
      "156 SNC\n",
      "156 IC\n",
      "156 SC\n",
      "157 SNR\n",
      "158 SNR\n",
      "159 SNR\n",
      "159 SC\n",
      "159 IC\n",
      "159 SNC\n",
      "160 SNR\n",
      "161 SNR\n",
      "162 SNR\n",
      "162 SNC\n",
      "162 IC\n",
      "162 SC\n",
      "163 SNR\n",
      "164 SNR\n",
      "165 SNR\n",
      "165 SNC\n",
      "165 IC\n",
      "165 SC\n",
      "166 SNR\n",
      "167 SNR\n",
      "168 SNR\n",
      "168 SNC\n",
      "168 IC\n",
      "168 SC\n",
      "169 SNR\n",
      "170 SNR\n",
      "171 SNR\n",
      "171 SNC\n",
      "171 IC\n",
      "171 SC\n",
      "172 SNR\n",
      "173 SNR\n",
      "174 SNR\n",
      "174 SNC\n",
      "174 IC\n",
      "174 SC\n",
      "175 SNR\n",
      "176 SNR\n",
      "177 SNR\n",
      "177 SNC\n",
      "177 IC\n",
      "177 SC\n",
      "178 SNR\n",
      "180 SNR\n",
      "180 SNC\n",
      "180 IC\n",
      "180 SC\n",
      "183 SNR\n",
      "183 IC\n",
      "183 SC\n",
      "183 SNC\n",
      "186 SNR\n",
      "186 SNC\n",
      "186 IC\n",
      "186 SC\n",
      "189 SNR\n",
      "189 SNC\n",
      "189 IC\n",
      "189 SC\n",
      "190 SC\n",
      "190 IC\n",
      "190 SNR\n",
      "190 SNC\n",
      "193 SNC\n",
      "193 SNR\n",
      "193 IC\n",
      "193 SC\n",
      "195 SNR\n",
      "195 SNC\n",
      "196 IC\n",
      "196 SC\n",
      "196 SNC\n",
      "199 IC\n",
      "199 SC\n",
      "199 SNC\n",
      "201 IC\n",
      "201 SC\n",
      "202 IC\n",
      "202 SC\n",
      "205 IC\n",
      "205 SC\n",
      "208 IC\n",
      "208 SC\n",
      "211 SC\n",
      "211 IC\n",
      "214 SC\n",
      "214 IC\n",
      "217 SC\n",
      "217 IC\n",
      "220 IC\n",
      "220 SC\n",
      "223 IC\n",
      "223 SC\n"
     ]
    }
   ],
   "source": [
    "for i, polygons in d.iteritems():\n",
    "    for p in polygons:\n",
    "        print p['section'], p['label']\n",
    "#         if p['section'] == 133:\n",
    "#             print p['vertices'], len(p['vertices'])"
   ]
  },
  {
   "cell_type": "code",
   "execution_count": null,
   "metadata": {
    "collapsed": true
   },
   "outputs": [],
   "source": []
  }
 ],
 "metadata": {
  "kernelspec": {
   "display_name": "Python 2",
   "language": "python",
   "name": "python2"
  },
  "language_info": {
   "codemirror_mode": {
    "name": "ipython",
    "version": 2
   },
   "file_extension": ".py",
   "mimetype": "text/x-python",
   "name": "python",
   "nbconvert_exporter": "python",
   "pygments_lexer": "ipython2",
   "version": "2.7.6"
  }
 },
 "nbformat": 4,
 "nbformat_minor": 0
}
