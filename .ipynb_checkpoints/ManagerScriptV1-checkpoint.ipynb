{
 "metadata": {
  "name": "",
  "signature": "sha256:94f5a7575e459ddc5f171ff16c5827da21e9a562431d11c9b2a7cb7a85b55e4f"
 },
 "nbformat": 3,
 "nbformat_minor": 0,
 "worksheets": [
  {
   "cells": [
    {
     "cell_type": "code",
     "collapsed": false,
     "input": [
      "%load_ext autoreload\n",
      "%autoreload 2\n",
      "\n",
      "import os, json\n",
      "from IPython.display import FileLink, Image, FileLinks\n",
      "from pprint import pprint\n",
      "\n",
      "import manager_utilities"
     ],
     "language": "python",
     "metadata": {},
     "outputs": [
      {
       "output_type": "stream",
       "stream": "stdout",
       "text": [
        "The autoreload extension is already loaded. To reload it, use:\n",
        "  %reload_ext autoreload\n"
       ]
      }
     ],
     "prompt_number": 5
    },
    {
     "cell_type": "markdown",
     "metadata": {},
     "source": [
      "[This spreadsheet](https://docs.google.com/spreadsheets/d/1S189da_CxzC3GKISG3hZDG0n7mMycC0v4zTiRJraEUE/edit#gid=0) specifies the set of parameter values to test."
     ]
    },
    {
     "cell_type": "code",
     "collapsed": false,
     "input": [
      "import csv\n",
      "import gspread\n",
      "import getpass\n",
      "\n",
      "username = \"cyc3700@gmail.com\"\n",
      "password = getpass.getpass()\n",
      "\n",
      "docid = \"1S189da_CxzC3GKISG3hZDG0n7mMycC0v4zTiRJraEUE\"\n",
      "\n",
      "client = gspread.login(username, password)\n",
      "spreadsheet = client.open_by_key(docid)\n",
      "for i, worksheet in enumerate(spreadsheet.worksheets()):\n",
      "    filename = '../data/params.csv'\n",
      "    with open(filename, 'wb') as f:\n",
      "        writer = csv.writer(f)\n",
      "        writer.writerows(worksheet.get_all_values())"
     ],
     "language": "python",
     "metadata": {},
     "outputs": [],
     "prompt_number": 10
    },
    {
     "cell_type": "code",
     "collapsed": false,
     "input": [
      "parameters = []\n",
      "with open('../data/params.csv', 'r') as f:\n",
      "    param_reader = csv.DictReader(f)\n",
      "    for param in param_reader:\n",
      "        for k in param.iterkeys():\n",
      "            if param[k] != '':\n",
      "                try:\n",
      "                    param[k] = int(param[k])\n",
      "                except ValueError:\n",
      "                    param[k] = float(param[k])\n",
      "        if param['param_id'] == 0:\n",
      "            default_param = param\n",
      "        else:\n",
      "            for k, v in param.iteritems():\n",
      "                if v == '':\n",
      "                    param[k] = default_param[k]\n",
      "        parameters.append(param)"
     ],
     "language": "python",
     "metadata": {},
     "outputs": [],
     "prompt_number": 11
    },
    {
     "cell_type": "markdown",
     "metadata": {},
     "source": [
      "Specify the image path, and parameter file.\n",
      "Then run the pipeline executable."
     ]
    },
    {
     "cell_type": "code",
     "collapsed": false,
     "input": [
      "cache_dir = 'scratch'\n",
      "img_dir = '../data/PMD1305_reduce2_region0'\n",
      "img_name_full = 'PMD1305_reduce2_region0_0244.tif'\n",
      "\n",
      "img_path = os.path.join(img_dir, img_name_full)\n",
      "img_name, ext = os.path.splitext(img_name_full)"
     ],
     "language": "python",
     "metadata": {},
     "outputs": [],
     "prompt_number": 8
    },
    {
     "cell_type": "code",
     "collapsed": false,
     "input": [
      "%%time\n",
      "\n",
      "for param_id in [0]:\n",
      "# param_id = 4\n",
      "    param_file = '../params/param%d.json'%param_id\n",
      "    param = [p for p in parameters if p['param_id'] == param_id][0]\n",
      "    json.dump(param, open(param_file, 'w'))\n",
      "\n",
      "    %run CrossValidationPipelineScriptShellNoMagicV1.py {param_file} {img_path} -c {cache_dir}"
     ],
     "language": "python",
     "metadata": {},
     "outputs": [
      {
       "output_type": "stream",
       "stream": "stdout",
       "text": [
        "CPU times: user 2 ms, sys: 0 ns, total: 2 ms\n",
        "Wall time: 4.75 ms\n"
       ]
      }
     ],
     "prompt_number": 12
    },
    {
     "cell_type": "code",
     "collapsed": false,
     "input": [
      "from skimage.io._plugins import freeimage_plugin as fi\n",
      "image = np.zeros((32, 256, 256), 'uint16')\n",
      "fi.write_multipage(image, 'multipage.tif')"
     ],
     "language": "python",
     "metadata": {},
     "outputs": []
    },
    {
     "cell_type": "code",
     "collapsed": false,
     "input": [
      "import tifffile\n",
      "multipage = manager_utilities.regulate_images([segmentation, textonmap, texton_saliency_map])\n",
      "multipage = multipage.astype(np.uint16)\n",
      "tifffile.imsave(os.path.join(args.cache_dir, 'multipage.tif'), multipage)"
     ],
     "language": "python",
     "metadata": {},
     "outputs": []
    },
    {
     "cell_type": "markdown",
     "metadata": {},
     "source": [
      "View or download the results here"
     ]
    },
    {
     "cell_type": "code",
     "collapsed": false,
     "input": [
      "!rm scratch/{img_name}_param{param_id}_*.tif\n",
      "!convert scratch/{img_name}_param{param_id}_*.tif all.tif"
     ],
     "language": "python",
     "metadata": {},
     "outputs": []
    }
   ],
   "metadata": {}
  }
 ]
}