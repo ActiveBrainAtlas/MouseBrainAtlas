{
 "metadata": {
  "name": "",
  "signature": "sha256:fc93468f6068582810aeca2ac48851a5ca25e572d2a866b9bfc4a64579f7b924"
 },
 "nbformat": 3,
 "nbformat_minor": 0,
 "worksheets": [
  {
   "cells": [
    {
     "cell_type": "code",
     "collapsed": false,
     "input": [
      "import os, json\n",
      "from IPython.display import FileLink, Image, FileLinks\n",
      "from pprint import pprint\n",
      "import cv2\n",
      "import numpy as np\n",
      "from skimage.util import img_as_ubyte\n"
     ],
     "language": "python",
     "metadata": {},
     "outputs": [
      {
       "output_type": "stream",
       "stream": "stdout",
       "text": [
        "The autoreload extension is already loaded. To reload it, use:\n",
        "  %reload_ext autoreload\n"
       ]
      }
     ],
     "prompt_number": 7
    },
    {
     "cell_type": "code",
     "collapsed": false,
     "input": [
      "def create_param(param_id, **args):\n",
      "    param_dict = {\n",
      "        \"n_texton\": 20, \n",
      "        \"max_freq\": 0.2, \n",
      "        \"param_id\": param_id, \n",
      "        \"theta_interval\": 10, \n",
      "        \"n_freq\": 4,\n",
      "        'n_superpixels': 2000,\n",
      "        'slic_compactness': 5,\n",
      "        'slic_sigma': 10\n",
      "    }\n",
      "    param_dict.update(args)    \n",
      "    json.dump(param_dict, open('params/param%d.json'%param_id, 'w'))\n",
      "    \n",
      "def load_param(param_id):\n",
      "    param = json.load(open('params/param%d.json'%param_id, 'r'))\n",
      "    pprint(param)"
     ],
     "language": "python",
     "metadata": {},
     "outputs": [],
     "prompt_number": 14
    },
    {
     "cell_type": "code",
     "collapsed": false,
     "input": [
      "def load_array(suffix, img_name, param_id, cache_dir='scratch'):\n",
      "    arr_file = os.path.join(cache_dir, img_name,\n",
      "                        '%s_param%d_%s.npy'%(img_name, param_id,\n",
      "                                             suffix))\n",
      "    arr = np.load(arr_file)\n",
      "    print 'load %s' % (arr_file)\n",
      "    return arr\n",
      "\n",
      "def save_array(arr, suffix, img_name, param_id, cache_dir='scratch'):\n",
      "    arr_file = os.path.join(cache_dir, img_name,\n",
      "                        '%s_param%d_%s.npy'%(img_name, param_id,\n",
      "                                             suffix))\n",
      "    if not os.path.exists(arr_file):\n",
      "        np.save(arr_file, arr)\n",
      "        print '%s saved to %s' % (suffix, arr_file)\n",
      "    else:\n",
      "        print '%s already exists' % (arr_file)\n",
      "        \n",
      "def save_img(img, suffix, img_name, param_id, cache_dir='scratch'):\n",
      "    \n",
      "    if not np.issubsctype(img, np.uint8):\n",
      "        try:\n",
      "            img = img_as_ubyte(img_norm)\n",
      "        except:\n",
      "            img_norm = (img-img.min()).astype(np.float)/(img.max() - img.min())    \n",
      "            img = img_as_ubyte(img_norm)\n",
      "    '''\n",
      "    img is in uint8 type or float type\n",
      "    '''\n",
      "    img_fn = get_img_filename(suffix, img_name, param_id, cache_dir)\n",
      "    if not os.path.exists(img_fn):\n",
      "        cv2.imwrite(img_fn, img)\n",
      "#             plt.matshow(img, cmap=plt.cm.Greys_r)\n",
      "# #             plt.colorbar()\n",
      "#             plt.savefig(img_fn, bbox_inches='tight')\n",
      "#             plt.axis('off')\n",
      "#             plt.close();\n",
      "        print '%s saved to %s' % (suffix, img_fn)\n",
      "    else:\n",
      "        print '%s already exists' % (img_fn)\n",
      "        \n",
      "def get_img_filename(suffix, img_name, param_id, cache_dir='scratch'):\n",
      "#     img_fn = os.path.join(args.cache_dir,\n",
      "#                 '%s_param%d_%s.png'%(img_name, params['param_id'], suffix))\n",
      "    img_fn = os.path.join(cache_dir, img_name,\n",
      "                '%s_param%d_%s.tif'%(img_name, param_id, suffix))\n",
      "    return img_fn"
     ],
     "language": "python",
     "metadata": {},
     "outputs": [
      {
       "ename": "IndentationError",
       "evalue": "expected an indented block (<ipython-input-1-e6f3f6c28a74>, line 3)",
       "output_type": "pyerr",
       "traceback": [
        "\u001b[1;36m  File \u001b[1;32m\"<ipython-input-1-e6f3f6c28a74>\"\u001b[1;36m, line \u001b[1;32m3\u001b[0m\n\u001b[1;33m    def save_array(arr, suffix, img_name, param_id, cache_dir='scratch'):\u001b[0m\n\u001b[1;37m      ^\u001b[0m\n\u001b[1;31mIndentationError\u001b[0m\u001b[1;31m:\u001b[0m expected an indented block\n"
       ]
      }
     ],
     "prompt_number": 1
    },
    {
     "cell_type": "code",
     "collapsed": false,
     "input": [],
     "language": "python",
     "metadata": {},
     "outputs": []
    }
   ],
   "metadata": {}
  }
 ]
}