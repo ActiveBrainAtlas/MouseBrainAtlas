{
 "metadata": {
  "name": "",
  "signature": "sha256:f5683d2ac16803c1f41336ee7e9169a7eef69ca5df0e5a23365d83adc6931dea"
 },
 "nbformat": 3,
 "nbformat_minor": 0,
 "worksheets": [
  {
   "cells": [
    {
     "cell_type": "code",
     "collapsed": false,
     "input": [
      "from skimage.filter import threshold_otsu, threshold_adaptive, denoise_bilateral\n",
      "\n",
      "def crop_image(img):\n",
      "    blurred = gaussian_filter(img, 20)\n",
      "    thresholded = blurred < threshold_otsu(blurred)\n",
      "    slc = measurements.find_objects(thresholded)[0]\n",
      "\n",
      "    margin = 100\n",
      "    xstart = max(slc[0].start - margin, 0)\n",
      "    xstop = min(slc[0].stop + margin, img.shape[0])\n",
      "    ystart = max(slc[1].start - margin, 0)\n",
      "    ystop = min(slc[1].stop + margin, img.shape[1])\n",
      "\n",
      "    cutout = img[xstart:xstop, ystart:ystop]\n",
      "    return cutout"
     ],
     "language": "python",
     "metadata": {},
     "outputs": [],
     "prompt_number": 1
    },
    {
     "cell_type": "code",
     "collapsed": false,
     "input": [
      "from copy_reg import pickle\n",
      "from types import MethodType\n",
      "\n",
      "def _pickle_method(method):\n",
      "    func_name = method.im_func.__name__\n",
      "    obj = method.im_self\n",
      "    cls = method.im_class\n",
      "    return _unpickle_method, (func_name, obj, cls)\n",
      "\n",
      "def _unpickle_method(func_name, obj, cls):\n",
      "    for cls in cls.mro():\n",
      "        try:\n",
      "            func = cls.__dict__[func_name]\n",
      "        except KeyError:\n",
      "            pass\n",
      "        else:\n",
      "            break\n",
      "    return func.__get__(obj, cls)\n",
      "\n",
      "pickle(MethodType, _pickle_method, _unpickle_method)"
     ],
     "language": "python",
     "metadata": {},
     "outputs": [],
     "prompt_number": 2
    },
    {
     "cell_type": "code",
     "collapsed": false,
     "input": [
      "import time\n",
      " \n",
      "def timeit(func=None,loops=1,verbose=False):\n",
      "    if func != None:\n",
      "        def inner(*args,**kwargs):\n",
      " \n",
      "            sums = 0.0\n",
      "            mins = 1.7976931348623157e+308\n",
      "            maxs = 0.0\n",
      "            print '==== %s Timing ====' % func.__name__\n",
      "            for i in range(0,loops):\n",
      "                t0 = time.time()\n",
      "                result = func(*args,**kwargs)\n",
      "                dt = time.time() - t0\n",
      "                mins = dt if dt < mins else mins\n",
      "                maxs = dt if dt > maxs else maxs\n",
      "                sums += dt\n",
      "                if verbose == True:\n",
      "                    print '\\t%r ran in %2.9f sec on run %s' %(func.__name__,dt,i)\n",
      "            \n",
      "            if loops == 1:\n",
      "                print '%r run time was %2.9f sec' % (func.__name__,sums)\n",
      "            else:\n",
      "                print '%r min run time was %2.9f sec' % (func.__name__,mins)\n",
      "                print '%r max run time was %2.9f sec' % (func.__name__,maxs)\n",
      "                print '%r avg run time was %2.9f sec in %s runs' % (func.__name__,sums/loops,loops)\n",
      "            \n",
      "            return result\n",
      " \n",
      "        return inner\n",
      "    else:\n",
      "        def partial_inner(func):\n",
      "            return timeit(func,loops,verbose)\n",
      "        return partial_inner"
     ],
     "language": "python",
     "metadata": {},
     "outputs": [],
     "prompt_number": 1
    }
   ],
   "metadata": {}
  }
 ]
}