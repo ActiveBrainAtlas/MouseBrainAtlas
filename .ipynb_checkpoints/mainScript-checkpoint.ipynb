{
 "metadata": {
  "name": "",
  "signature": "sha256:eee8ad8f81de2090d1e8b25b15a05c5f5aaab710e13718e465c1698e4853c003"
 },
 "nbformat": 3,
 "nbformat_minor": 0,
 "worksheets": [
  {
   "cells": [
    {
     "cell_type": "code",
     "collapsed": false,
     "input": [
      "%load_ext autoreload\n",
      "%autoreload 2\n",
      "\n",
      "from IPython.display import Image, FileLink\n",
      "\n",
      "from compute_features_module import GaborFeatureComputer\n",
      "from kmeans_module import SaliencyDetector\n",
      "from utilities import *\n",
      "\n",
      "import cv2\n",
      "import matplotlib.pyplot as plt\n",
      "\n",
      "import warnings\n",
      "warnings.filterwarnings(\"ignore\", category=DeprecationWarning) "
     ],
     "language": "python",
     "metadata": {},
     "outputs": [
      {
       "output_type": "stream",
       "stream": "stdout",
       "text": [
        "The autoreload extension is already loaded. To reload it, use:\n",
        "  %reload_ext autoreload\n"
       ]
      }
     ],
     "prompt_number": 7
    },
    {
     "cell_type": "code",
     "collapsed": false,
     "input": [
      "CACHE_DIR = '/home/yuncong/my_csd181_scratch/'\n",
      "# IMG_DIR = '/home/yuncong/my_csd181/ParthaData/PMD1305_reduce2/region3/'\n",
      "# img_name_fmt = 'PMD1305_%d.reduce2.region3'\n",
      "IMG_DIR = '/home/yuncong/my_csd181/ParthaData/PMD1305_reduce2/region1/'\n",
      "img_name_fmt = 'PMD1305_%d.reduce2.region1'"
     ],
     "language": "python",
     "metadata": {},
     "outputs": [],
     "prompt_number": 8
    },
    {
     "cell_type": "code",
     "collapsed": false,
     "input": [
      "gc = GaborFeatureComputer()\n",
      "img_id = 244\n",
      "# for img_id in range(159,176): # region2\n",
      "# img_id = 4\n",
      "print img_id\n",
      "img_name = img_name_fmt%img_id\n",
      "img = cv2.imread(IMG_DIR + img_name + '.tif', 0)\n",
      "gc.process_image(img, \n",
      "                 filtered_output = CACHE_DIR + img_name + '_filtered',\n",
      "                 features_output = CACHE_DIR + img_name + '_features')\n"
     ],
     "language": "python",
     "metadata": {},
     "outputs": [
      {
       "output_type": "stream",
       "stream": "stdout",
       "text": [
        "244\n",
        "==== process_image ===="
       ]
      },
      {
       "output_type": "stream",
       "stream": "stdout",
       "text": [
        "\n",
        "# of kernels = 72"
       ]
      },
      {
       "output_type": "stream",
       "stream": "stdout",
       "text": [
        "\n",
        "frequencies: [ 0.1         0.07071068  0.05        0.03535534  0.025       0.01767767]\n",
        "# of pixels per cycle: [ 10.          14.14213562  20.          28.28427125  40.          56.56854249]\n"
       ]
      },
      {
       "output_type": "stream",
       "stream": "stdout",
       "text": [
        "filtered images saved to /home/yuncong/my_csd181_scratch/PMD1305_244.reduce2.region1_filtered\n",
        "filtering completed.\n",
        "[ 0.01767767  0.01767767  0.01767767  0.01767767  0.01767767  0.025       0.025\n",
        "  0.01767767  0.01767767  0.025       0.025       0.03535534  0.03535534\n",
        "  0.025       0.025       0.03535534  0.03535534  0.05        0.05\n",
        "  0.01767767  0.01767767  0.07071068  0.07071068  0.05        0.05\n",
        "  0.07071068  0.07071068  0.1         0.1         0.1         0.1\n",
        "  0.03535534  0.03535534  0.025       0.025       0.025       0.05        0.05\n",
        "  0.03535534  0.03535534  0.01767767  0.05        0.05        0.03535534\n",
        "  0.07071068  0.07071068  0.025       0.1         0.1         0.05\n",
        "  0.07071068  0.07071068  0.1         0.1         0.03535534  0.07071068\n",
        "  0.05        0.1         0.07071068]"
       ]
      },
      {
       "output_type": "stream",
       "stream": "stdout",
       "text": [
        "\n",
        "59 features selected"
       ]
      },
      {
       "output_type": "stream",
       "stream": "stdout",
       "text": [
        "\n",
        "features saved to /home/yuncong/my_csd181_scratch/PMD1305_244.reduce2.region1_features"
       ]
      },
      {
       "output_type": "stream",
       "stream": "stdout",
       "text": [
        "\n",
        "'process_image' run time was 31.248109818 sec\n"
       ]
      }
     ],
     "prompt_number": 9
    },
    {
     "cell_type": "code",
     "collapsed": false,
     "input": [
      "gc.visualize_features(output='output/'+img_name+'_features_%d.png'%img_id)"
     ],
     "language": "python",
     "metadata": {},
     "outputs": [],
     "prompt_number": 10
    },
    {
     "cell_type": "code",
     "collapsed": false,
     "input": [
      "FileLink('output/'+img_name+'_features_%d.png'%img_id)"
     ],
     "language": "python",
     "metadata": {},
     "outputs": [
      {
       "html": [
        "<a href='output/PMD1305_244.reduce2.region1_features_244.png' target='_blank'>output/PMD1305_244.reduce2.region1_features_244.png</a><br>"
       ],
       "metadata": {},
       "output_type": "pyout",
       "prompt_number": 12,
       "text": [
        "/oasis/projects/nsf/csd181/yuncong/Brain/output/PMD1305_244.reduce2.region1_features_244.png"
       ]
      }
     ],
     "prompt_number": 12
    },
    {
     "cell_type": "code",
     "collapsed": false,
     "input": [
      "gc = GaborFeatureComputer()\n",
      "# for img_id in range(241,250): # region1\n",
      "for img_id in range(159,176): # region2\n",
      "    print img_id\n",
      "    img_name = img_name_fmt%img_id\n",
      "    img = cv2.imread(IMG_DIR + img_name + '.tif', 0)\n",
      "    gc.process_image(img, features_output = CACHE_DIR + img_name + '_features')"
     ],
     "language": "python",
     "metadata": {},
     "outputs": [
      {
       "output_type": "stream",
       "stream": "stdout",
       "text": [
        "159\n",
        "==== process_image ===="
       ]
      },
      {
       "output_type": "stream",
       "stream": "stdout",
       "text": [
        "\n",
        "# of kernels = 60"
       ]
      },
      {
       "output_type": "stream",
       "stream": "stdout",
       "text": [
        "\n",
        "frequencies: [ 0.14142136  0.1         0.07071068  0.05        0.03535534]\n",
        "# of pixels per cycle: [  7.07106781  10.          14.14213562  20.          28.28427125]\n"
       ]
      },
      {
       "output_type": "stream",
       "stream": "stdout",
       "text": [
        "filtering completed.\n",
        "32 features selected"
       ]
      },
      {
       "output_type": "stream",
       "stream": "stdout",
       "text": [
        "\n",
        "features saved to /home/yuncong/my_csd181_scratch/PMD1305_159.reduce2.region2_features"
       ]
      },
      {
       "output_type": "stream",
       "stream": "stdout",
       "text": [
        "\n",
        "'process_image' run time was 33.312629938 sec\n",
        "160\n",
        "==== process_image ===="
       ]
      },
      {
       "output_type": "stream",
       "stream": "stdout",
       "text": [
        "\n",
        "filtering completed."
       ]
      },
      {
       "output_type": "stream",
       "stream": "stdout",
       "text": [
        "\n",
        "32 features selected"
       ]
      },
      {
       "output_type": "stream",
       "stream": "stdout",
       "text": [
        "\n",
        "features saved to /home/yuncong/my_csd181_scratch/PMD1305_160.reduce2.region2_features"
       ]
      },
      {
       "output_type": "stream",
       "stream": "stdout",
       "text": [
        "\n",
        "'process_image' run time was 31.768711090 sec\n",
        "161\n",
        "==== process_image ===="
       ]
      },
      {
       "output_type": "stream",
       "stream": "stdout",
       "text": [
        "\n",
        "filtering completed."
       ]
      },
      {
       "output_type": "stream",
       "stream": "stdout",
       "text": [
        "\n",
        "32 features selected"
       ]
      },
      {
       "output_type": "stream",
       "stream": "stdout",
       "text": [
        "\n",
        "features saved to /home/yuncong/my_csd181_scratch/PMD1305_161.reduce2.region2_features"
       ]
      },
      {
       "output_type": "stream",
       "stream": "stdout",
       "text": [
        "\n",
        "'process_image' run time was 30.649724960 sec\n",
        "162\n",
        "==== process_image ===="
       ]
      },
      {
       "output_type": "stream",
       "stream": "stdout",
       "text": [
        "\n",
        "filtering completed."
       ]
      },
      {
       "output_type": "stream",
       "stream": "stdout",
       "text": [
        "\n",
        "32 features selected"
       ]
      },
      {
       "output_type": "stream",
       "stream": "stdout",
       "text": [
        "\n",
        "features saved to /home/yuncong/my_csd181_scratch/PMD1305_162.reduce2.region2_features"
       ]
      },
      {
       "output_type": "stream",
       "stream": "stdout",
       "text": [
        "\n",
        "'process_image' run time was 30.794398069 sec\n",
        "163\n",
        "==== process_image ===="
       ]
      },
      {
       "output_type": "stream",
       "stream": "stdout",
       "text": [
        "\n",
        "filtering completed."
       ]
      },
      {
       "output_type": "stream",
       "stream": "stdout",
       "text": [
        "\n",
        "32 features selected"
       ]
      },
      {
       "output_type": "stream",
       "stream": "stdout",
       "text": [
        "\n",
        "features saved to /home/yuncong/my_csd181_scratch/PMD1305_163.reduce2.region2_features"
       ]
      },
      {
       "output_type": "stream",
       "stream": "stdout",
       "text": [
        "\n",
        "'process_image' run time was 29.058732986 sec\n",
        "164\n",
        "==== process_image ===="
       ]
      },
      {
       "output_type": "stream",
       "stream": "stdout",
       "text": [
        "\n",
        "filtering completed."
       ]
      },
      {
       "output_type": "stream",
       "stream": "stdout",
       "text": [
        "\n",
        "32 features selected"
       ]
      },
      {
       "output_type": "stream",
       "stream": "stdout",
       "text": [
        "\n",
        "features saved to /home/yuncong/my_csd181_scratch/PMD1305_164.reduce2.region2_features"
       ]
      },
      {
       "output_type": "stream",
       "stream": "stdout",
       "text": [
        "\n",
        "'process_image' run time was 34.018464088 sec\n",
        "165\n",
        "==== process_image ===="
       ]
      },
      {
       "output_type": "stream",
       "stream": "stdout",
       "text": [
        "\n",
        "filtering completed."
       ]
      },
      {
       "output_type": "stream",
       "stream": "stdout",
       "text": [
        "\n",
        "32 features selected"
       ]
      },
      {
       "output_type": "stream",
       "stream": "stdout",
       "text": [
        "\n",
        "features saved to /home/yuncong/my_csd181_scratch/PMD1305_165.reduce2.region2_features"
       ]
      },
      {
       "output_type": "stream",
       "stream": "stdout",
       "text": [
        "\n",
        "'process_image' run time was 32.212072134 sec\n",
        "166\n",
        "==== process_image ===="
       ]
      },
      {
       "output_type": "stream",
       "stream": "stdout",
       "text": [
        "\n",
        "filtering completed."
       ]
      },
      {
       "output_type": "stream",
       "stream": "stdout",
       "text": [
        "\n",
        "32 features selected"
       ]
      },
      {
       "output_type": "stream",
       "stream": "stdout",
       "text": [
        "\n",
        "features saved to /home/yuncong/my_csd181_scratch/PMD1305_166.reduce2.region2_features"
       ]
      },
      {
       "output_type": "stream",
       "stream": "stdout",
       "text": [
        "\n",
        "'process_image' run time was 29.982039213 sec\n",
        "167\n",
        "==== process_image ===="
       ]
      },
      {
       "output_type": "stream",
       "stream": "stdout",
       "text": [
        "\n",
        "filtering completed."
       ]
      },
      {
       "output_type": "stream",
       "stream": "stdout",
       "text": [
        "\n",
        "32 features selected"
       ]
      },
      {
       "output_type": "stream",
       "stream": "stdout",
       "text": [
        "\n",
        "features saved to /home/yuncong/my_csd181_scratch/PMD1305_167.reduce2.region2_features"
       ]
      },
      {
       "output_type": "stream",
       "stream": "stdout",
       "text": [
        "\n",
        "'process_image' run time was 30.317970037 sec\n",
        "168\n",
        "==== process_image ===="
       ]
      },
      {
       "output_type": "stream",
       "stream": "stdout",
       "text": [
        "\n",
        "filtering completed."
       ]
      },
      {
       "output_type": "stream",
       "stream": "stdout",
       "text": [
        "\n",
        "32 features selected"
       ]
      },
      {
       "output_type": "stream",
       "stream": "stdout",
       "text": [
        "\n",
        "features saved to /home/yuncong/my_csd181_scratch/PMD1305_168.reduce2.region2_features"
       ]
      },
      {
       "output_type": "stream",
       "stream": "stdout",
       "text": [
        "\n",
        "'process_image' run time was 29.664100885 sec\n",
        "169\n",
        "==== process_image ===="
       ]
      },
      {
       "output_type": "stream",
       "stream": "stdout",
       "text": [
        "\n",
        "filtering completed."
       ]
      },
      {
       "output_type": "stream",
       "stream": "stdout",
       "text": [
        "\n",
        "32 features selected"
       ]
      },
      {
       "output_type": "stream",
       "stream": "stdout",
       "text": [
        "\n",
        "features saved to /home/yuncong/my_csd181_scratch/PMD1305_169.reduce2.region2_features"
       ]
      },
      {
       "output_type": "stream",
       "stream": "stdout",
       "text": [
        "\n",
        "'process_image' run time was 33.520130873 sec\n",
        "170\n",
        "==== process_image ===="
       ]
      },
      {
       "output_type": "stream",
       "stream": "stdout",
       "text": [
        "\n",
        "filtering completed."
       ]
      },
      {
       "output_type": "stream",
       "stream": "stdout",
       "text": [
        "\n",
        "32 features selected"
       ]
      },
      {
       "output_type": "stream",
       "stream": "stdout",
       "text": [
        "\n",
        "features saved to /home/yuncong/my_csd181_scratch/PMD1305_170.reduce2.region2_features"
       ]
      },
      {
       "output_type": "stream",
       "stream": "stdout",
       "text": [
        "\n",
        "'process_image' run time was 29.781538963 sec\n",
        "171\n",
        "==== process_image ===="
       ]
      },
      {
       "output_type": "stream",
       "stream": "stdout",
       "text": [
        "\n",
        "filtering completed."
       ]
      },
      {
       "output_type": "stream",
       "stream": "stdout",
       "text": [
        "\n",
        "32 features selected"
       ]
      },
      {
       "output_type": "stream",
       "stream": "stdout",
       "text": [
        "\n",
        "features saved to /home/yuncong/my_csd181_scratch/PMD1305_171.reduce2.region2_features"
       ]
      },
      {
       "output_type": "stream",
       "stream": "stdout",
       "text": [
        "\n",
        "'process_image' run time was 30.144744873 sec\n",
        "172\n",
        "==== process_image ===="
       ]
      },
      {
       "output_type": "stream",
       "stream": "stdout",
       "text": [
        "\n",
        "filtering completed."
       ]
      },
      {
       "output_type": "stream",
       "stream": "stdout",
       "text": [
        "\n",
        "32 features selected"
       ]
      },
      {
       "output_type": "stream",
       "stream": "stdout",
       "text": [
        "\n",
        "features saved to /home/yuncong/my_csd181_scratch/PMD1305_172.reduce2.region2_features"
       ]
      },
      {
       "output_type": "stream",
       "stream": "stdout",
       "text": [
        "\n",
        "'process_image' run time was 30.338160038 sec\n",
        "173\n",
        "==== process_image ===="
       ]
      },
      {
       "output_type": "stream",
       "stream": "stdout",
       "text": [
        "\n",
        "filtering completed."
       ]
      },
      {
       "output_type": "stream",
       "stream": "stdout",
       "text": [
        "\n",
        "32 features selected"
       ]
      },
      {
       "output_type": "stream",
       "stream": "stdout",
       "text": [
        "\n",
        "features saved to /home/yuncong/my_csd181_scratch/PMD1305_173.reduce2.region2_features"
       ]
      },
      {
       "output_type": "stream",
       "stream": "stdout",
       "text": [
        "\n",
        "'process_image' run time was 33.225882053 sec\n",
        "174\n",
        "==== process_image ===="
       ]
      },
      {
       "output_type": "stream",
       "stream": "stdout",
       "text": [
        "\n",
        "filtering completed."
       ]
      },
      {
       "output_type": "stream",
       "stream": "stdout",
       "text": [
        "\n",
        "32 features selected"
       ]
      },
      {
       "output_type": "stream",
       "stream": "stdout",
       "text": [
        "\n",
        "features saved to /home/yuncong/my_csd181_scratch/PMD1305_174.reduce2.region2_features"
       ]
      },
      {
       "output_type": "stream",
       "stream": "stdout",
       "text": [
        "\n",
        "'process_image' run time was 31.974264145 sec\n",
        "175\n",
        "==== process_image ===="
       ]
      },
      {
       "output_type": "stream",
       "stream": "stdout",
       "text": [
        "\n",
        "filtering completed."
       ]
      },
      {
       "output_type": "stream",
       "stream": "stdout",
       "text": [
        "\n",
        "32 features selected"
       ]
      },
      {
       "output_type": "stream",
       "stream": "stdout",
       "text": [
        "\n",
        "features saved to /home/yuncong/my_csd181_scratch/PMD1305_175.reduce2.region2_features"
       ]
      },
      {
       "output_type": "stream",
       "stream": "stdout",
       "text": [
        "\n",
        "'process_image' run time was 32.989548922 sec\n"
       ]
      }
     ],
     "prompt_number": 4
    },
    {
     "cell_type": "code",
     "collapsed": false,
     "input": [
      "compactness = 5\n",
      "presmooth = 10\n",
      "num_textons = 10\n",
      "dist_thresh = .8\n",
      "neighbor_term_weight = 1.\n",
      "img_id = 159\n",
      "img_name = img_name_fmt%img_id\n",
      "img = cv2.imread(IMG_DIR + img_name + '.tif', 0)\n",
      "mask = foreground_mask(img)\n",
      "\n",
      "sd = SaliencyDetector(img, mask=mask, features_input=CACHE_DIR + img_name +'_features.npy')\n",
      "sd.compute_texton(num_textons=num_textons)\n",
      "sd.segment_superpixels(compactness=compactness, sigma=presmooth)\n",
      "sd.visualize_textonmap_superpixels(output='output/'+img_name+'_textonmap_%d.png'%img_id)\n"
     ],
     "language": "python",
     "metadata": {},
     "outputs": [
      {
       "output_type": "stream",
       "stream": "stdout",
       "text": [
        "==== compute_texton ====\n",
        "'compute_texton' run time was 75.965484858 sec"
       ]
      },
      {
       "output_type": "stream",
       "stream": "stdout",
       "text": [
        "\n"
       ]
      },
      {
       "ename": "AttributeError",
       "evalue": "'SaliencyDetector' object has no attribute 'segmentation'",
       "output_type": "pyerr",
       "traceback": [
        "\u001b[1;31m---------------------------------------------------------------------------\u001b[0m\n\u001b[1;31mAttributeError\u001b[0m                            Traceback (most recent call last)",
        "\u001b[1;32m<ipython-input-50-18eea276561f>\u001b[0m in \u001b[0;36m<module>\u001b[1;34m()\u001b[0m\n\u001b[0;32m     12\u001b[0m \u001b[0msd\u001b[0m\u001b[1;33m.\u001b[0m\u001b[0mcompute_texton\u001b[0m\u001b[1;33m(\u001b[0m\u001b[0mnum_textons\u001b[0m\u001b[1;33m=\u001b[0m\u001b[0mnum_textons\u001b[0m\u001b[1;33m)\u001b[0m\u001b[1;33m\u001b[0m\u001b[0m\n\u001b[0;32m     13\u001b[0m \u001b[1;31m# sd.segment_superpixels(compactness=compactness, sigma=presmooth)\u001b[0m\u001b[1;33m\u001b[0m\u001b[1;33m\u001b[0m\u001b[0m\n\u001b[1;32m---> 14\u001b[1;33m \u001b[0msd\u001b[0m\u001b[1;33m.\u001b[0m\u001b[0mvisualize_textonmap_superpixels\u001b[0m\u001b[1;33m(\u001b[0m\u001b[0moutput\u001b[0m\u001b[1;33m=\u001b[0m\u001b[1;34m'output/'\u001b[0m\u001b[1;33m+\u001b[0m\u001b[0mimg_name\u001b[0m\u001b[1;33m+\u001b[0m\u001b[1;34m'_textonmap_%d.png'\u001b[0m\u001b[1;33m%\u001b[0m\u001b[0mimg_id\u001b[0m\u001b[1;33m)\u001b[0m\u001b[1;33m\u001b[0m\u001b[0m\n\u001b[0m",
        "\u001b[1;32m/oasis/projects/nsf/csd181/yuncong/Brain/kmeans_module.pyc\u001b[0m in \u001b[0;36mvisualize_textonmap_superpixels\u001b[1;34m(self, output)\u001b[0m\n\u001b[0;32m     91\u001b[0m         \u001b[0mtextonmap_rgb\u001b[0m \u001b[1;33m=\u001b[0m \u001b[0mlabel2rgb\u001b[0m\u001b[1;33m(\u001b[0m\u001b[0mself\u001b[0m\u001b[1;33m.\u001b[0m\u001b[0mtextonmap\u001b[0m\u001b[1;33m,\u001b[0m \u001b[0mimage\u001b[0m\u001b[1;33m=\u001b[0m\u001b[0mNone\u001b[0m\u001b[1;33m,\u001b[0m \u001b[0mcolors\u001b[0m\u001b[1;33m=\u001b[0m\u001b[0mNone\u001b[0m\u001b[1;33m,\u001b[0m \u001b[0malpha\u001b[0m\u001b[1;33m=\u001b[0m\u001b[1;36m0.3\u001b[0m\u001b[1;33m,\u001b[0m \u001b[0mimage_alpha\u001b[0m\u001b[1;33m=\u001b[0m\u001b[1;36m1\u001b[0m\u001b[1;33m)\u001b[0m\u001b[1;33m\u001b[0m\u001b[0m\n\u001b[0;32m     92\u001b[0m \u001b[1;33m\u001b[0m\u001b[0m\n\u001b[1;32m---> 93\u001b[1;33m         \u001b[0mimg_superpixelized\u001b[0m \u001b[1;33m=\u001b[0m \u001b[0mmark_boundaries\u001b[0m\u001b[1;33m(\u001b[0m\u001b[0mgray2rgb\u001b[0m\u001b[1;33m(\u001b[0m\u001b[0mself\u001b[0m\u001b[1;33m.\u001b[0m\u001b[0mimg\u001b[0m\u001b[1;33m)\u001b[0m\u001b[1;33m,\u001b[0m \u001b[0mself\u001b[0m\u001b[1;33m.\u001b[0m\u001b[0msegmentation\u001b[0m\u001b[1;33m)\u001b[0m\u001b[1;33m\u001b[0m\u001b[0m\n\u001b[0m\u001b[0;32m     94\u001b[0m         \u001b[0mimg_superpixelized_text\u001b[0m \u001b[1;33m=\u001b[0m \u001b[0mimg_as_ubyte\u001b[0m\u001b[1;33m(\u001b[0m\u001b[0mimg_superpixelized\u001b[0m\u001b[1;33m)\u001b[0m\u001b[1;33m\u001b[0m\u001b[0m\n\u001b[0;32m     95\u001b[0m         \u001b[1;32mfor\u001b[0m \u001b[0ms\u001b[0m \u001b[1;32min\u001b[0m \u001b[0mrange\u001b[0m\u001b[1;33m(\u001b[0m\u001b[0mself\u001b[0m\u001b[1;33m.\u001b[0m\u001b[0mn_superpixels\u001b[0m\u001b[1;33m)\u001b[0m\u001b[1;33m:\u001b[0m\u001b[1;33m\u001b[0m\u001b[0m\n",
        "\u001b[1;31mAttributeError\u001b[0m: 'SaliencyDetector' object has no attribute 'segmentation'"
       ]
      }
     ],
     "prompt_number": 50
    },
    {
     "cell_type": "code",
     "collapsed": false,
     "input": [
      "sd.segment_superpixels(compactness=compactness, sigma=presmooth)\n"
     ],
     "language": "python",
     "metadata": {},
     "outputs": [
      {
       "output_type": "stream",
       "stream": "stdout",
       "text": [
        "==== segment_superpixels ====\n",
        "'segment_superpixels' run time was 27.855576038 sec"
       ]
      },
      {
       "output_type": "stream",
       "stream": "stdout",
       "text": [
        "\n"
       ]
      }
     ],
     "prompt_number": 51
    },
    {
     "cell_type": "code",
     "collapsed": false,
     "input": [
      "sd.visualize_textonmap_superpixels(output='output/'+img_name+'_textonmap_%d.png'%img_id)\n",
      "FileLink('output/'+img_name+'_textonmap_%d.png'%img_id)"
     ],
     "language": "python",
     "metadata": {},
     "outputs": [
      {
       "html": [
        "<a href='output/PMD1305_159.reduce2.region2_textonmap_159.png' target='_blank'>output/PMD1305_159.reduce2.region2_textonmap_159.png</a><br>"
       ],
       "metadata": {},
       "output_type": "pyout",
       "prompt_number": 52,
       "text": [
        "/oasis/projects/nsf/csd181/yuncong/Brain/output/PMD1305_159.reduce2.region2_textonmap_159.png"
       ]
      }
     ],
     "prompt_number": 52
    },
    {
     "cell_type": "code",
     "collapsed": false,
     "input": [
      "np.unique(sd.textonmap)"
     ],
     "language": "python",
     "metadata": {},
     "outputs": [
      {
       "metadata": {},
       "output_type": "pyout",
       "prompt_number": 56,
       "text": [
        "array([ 0,  1,  2,  3,  4,  6, 12, 15, 16, 17], dtype=int32)"
       ]
      }
     ],
     "prompt_number": 56
    },
    {
     "cell_type": "code",
     "collapsed": false,
     "input": [
      "compactness = 5\n",
      "presmooth = 10\n",
      "num_textons = 10\n",
      "dist_thresh = .8\n",
      "neighbor_term_weight = 1.\n",
      "\n",
      "# for img_id in range(241,250):\n",
      "for img_id in range(159,176): # region2\n",
      "\n",
      "    print img_id\n",
      "    \n",
      "    img_name = img_name_fmt%img_id\n",
      "    img = cv2.imread(IMG_DIR + img_name + '.tif', 0)\n",
      "    mask = foreground_mask(img)\n",
      "    \n",
      "    sd = SaliencyDetector(img, mask=mask, features_input=CACHE_DIR + img_name +'_features.npy')\n",
      "    sd.compute_texton(num_textons=num_textons)\n",
      "    sd.segment_superpixels(compactness=compactness, sigma=presmooth)\n",
      "    sd.compute_connectivity()\n",
      "    sd.compute_distance_matrix()\n",
      "    sd.compute_saliency_map(neighbor_term_weight=neighbor_term_weight)\n",
      "    sd.find_salient_clusters(dist_thresh=dist_thresh, n_top_clusters=10)\n",
      "    sd.visualize_features(output='output/'+img_name+'_features_%d.png'%img_id)\n",
      "    sd.visualize_superpixels(output='output/'+img_name+'_superpixelized_%d.png'%img_id)\n",
      "    sd.visualize_textonmap_superpixels(output='output/'+img_name+'_textonmap_%d.png'%img_id)\n",
      "    sd.visualize_saliency_map(output='output/'+img_name+'_saliencymap_%d.png'%img_id)\n",
      "    sd.visualize_salient_clusters(output='output/'+img_name+'_salientclusters_%d.png'%img_id)\n",
      "    "
     ],
     "language": "python",
     "metadata": {},
     "outputs": [
      {
       "output_type": "stream",
       "stream": "stdout",
       "text": [
        "159\n",
        "==== compute_texton ===="
       ]
      },
      {
       "output_type": "stream",
       "stream": "stdout",
       "text": [
        "\n",
        "'compute_texton' run time was 12.702841997 sec"
       ]
      },
      {
       "output_type": "stream",
       "stream": "stdout",
       "text": [
        "\n",
        "==== segment_superpixels ====\n",
        "'segment_superpixels' run time was 27.645421982 sec"
       ]
      },
      {
       "output_type": "stream",
       "stream": "stdout",
       "text": [
        "\n",
        "==== compute_connectivity ====\n",
        "'compute_connectivity' run time was 5.805568933 sec"
       ]
      },
      {
       "output_type": "stream",
       "stream": "stdout",
       "text": [
        "\n",
        "==== compute_distance_matrix ====\n",
        "'compute_distance_matrix' run time was 1.981130123 sec"
       ]
      },
      {
       "output_type": "stream",
       "stream": "stdout",
       "text": [
        "\n",
        "==== compute_saliency_map ====\n",
        "'compute_saliency_map' run time was 0.104872942 sec"
       ]
      },
      {
       "output_type": "stream",
       "stream": "stdout",
       "text": [
        "\n",
        "==== find_salient_clusters ====\n",
        "'find_salient_clusters' run time was 0.007071972 sec\n",
        "160"
       ]
      },
      {
       "output_type": "stream",
       "stream": "stdout",
       "text": [
        "\n",
        "==== compute_texton ===="
       ]
      },
      {
       "output_type": "stream",
       "stream": "stdout",
       "text": [
        "\n",
        "'compute_texton' run time was 28.397210836 sec"
       ]
      },
      {
       "output_type": "stream",
       "stream": "stdout",
       "text": [
        "\n",
        "==== segment_superpixels ====\n",
        "'segment_superpixels' run time was 27.846342087 sec"
       ]
      },
      {
       "output_type": "stream",
       "stream": "stdout",
       "text": [
        "\n",
        "==== compute_connectivity ====\n",
        "'compute_connectivity' run time was 5.812695980 sec"
       ]
      },
      {
       "output_type": "stream",
       "stream": "stdout",
       "text": [
        "\n",
        "==== compute_distance_matrix ====\n",
        "'compute_distance_matrix' run time was 1.913247108 sec"
       ]
      },
      {
       "output_type": "stream",
       "stream": "stdout",
       "text": [
        "\n",
        "==== compute_saliency_map ====\n",
        "'compute_saliency_map' run time was 0.104938984 sec"
       ]
      },
      {
       "output_type": "stream",
       "stream": "stdout",
       "text": [
        "\n",
        "==== find_salient_clusters ====\n",
        "'find_salient_clusters' run time was 0.006234884 sec\n",
        "161"
       ]
      },
      {
       "output_type": "stream",
       "stream": "stdout",
       "text": [
        "\n",
        "==== compute_texton ===="
       ]
      },
      {
       "output_type": "stream",
       "stream": "stdout",
       "text": [
        "\n",
        "'compute_texton' run time was 7.549976110 sec"
       ]
      },
      {
       "output_type": "stream",
       "stream": "stdout",
       "text": [
        "\n",
        "==== segment_superpixels ====\n",
        "'segment_superpixels' run time was 27.343966007 sec"
       ]
      },
      {
       "output_type": "stream",
       "stream": "stdout",
       "text": [
        "\n",
        "==== compute_connectivity ====\n",
        "'compute_connectivity' run time was 5.468136072 sec"
       ]
      },
      {
       "output_type": "stream",
       "stream": "stdout",
       "text": [
        "\n",
        "==== compute_distance_matrix ====\n",
        "'compute_distance_matrix' run time was 2.028222084 sec"
       ]
      },
      {
       "output_type": "stream",
       "stream": "stdout",
       "text": [
        "\n",
        "==== compute_saliency_map ====\n",
        "'compute_saliency_map' run time was 0.105091095 sec"
       ]
      },
      {
       "output_type": "stream",
       "stream": "stdout",
       "text": [
        "\n",
        "==== find_salient_clusters ====\n",
        "'find_salient_clusters' run time was 0.007209063 sec\n",
        "162"
       ]
      },
      {
       "output_type": "stream",
       "stream": "stdout",
       "text": [
        "\n",
        "==== compute_texton ===="
       ]
      },
      {
       "output_type": "stream",
       "stream": "stdout",
       "text": [
        "\n",
        "'compute_texton' run time was 17.740623951 sec"
       ]
      },
      {
       "output_type": "stream",
       "stream": "stdout",
       "text": [
        "\n",
        "==== segment_superpixels ====\n",
        "'segment_superpixels' run time was 28.069776058 sec"
       ]
      },
      {
       "output_type": "stream",
       "stream": "stdout",
       "text": [
        "\n",
        "==== compute_connectivity ====\n",
        "'compute_connectivity' run time was 5.830116987 sec"
       ]
      },
      {
       "output_type": "stream",
       "stream": "stdout",
       "text": [
        "\n",
        "==== compute_distance_matrix ====\n",
        "'compute_distance_matrix' run time was 2.016788960 sec"
       ]
      },
      {
       "output_type": "stream",
       "stream": "stdout",
       "text": [
        "\n",
        "==== compute_saliency_map ====\n",
        "'compute_saliency_map' run time was 0.106095076 sec"
       ]
      },
      {
       "output_type": "stream",
       "stream": "stdout",
       "text": [
        "\n",
        "==== find_salient_clusters ====\n",
        "'find_salient_clusters' run time was 0.007224083 sec\n",
        "163"
       ]
      },
      {
       "output_type": "stream",
       "stream": "stdout",
       "text": [
        "\n",
        "==== compute_texton ===="
       ]
      },
      {
       "output_type": "stream",
       "stream": "stdout",
       "text": [
        "\n",
        "'compute_texton' run time was 7.782753944 sec"
       ]
      },
      {
       "output_type": "stream",
       "stream": "stdout",
       "text": [
        "\n",
        "==== segment_superpixels ====\n",
        "'segment_superpixels' run time was 28.082643986 sec"
       ]
      },
      {
       "output_type": "stream",
       "stream": "stdout",
       "text": [
        "\n",
        "==== compute_connectivity ====\n",
        "'compute_connectivity' run time was 6.011933088 sec"
       ]
      },
      {
       "output_type": "stream",
       "stream": "stdout",
       "text": [
        "\n",
        "==== compute_distance_matrix ====\n",
        "'compute_distance_matrix' run time was 2.013855934 sec"
       ]
      },
      {
       "output_type": "stream",
       "stream": "stdout",
       "text": [
        "\n",
        "==== compute_saliency_map ====\n",
        "'compute_saliency_map' run time was 0.106238127 sec"
       ]
      },
      {
       "output_type": "stream",
       "stream": "stdout",
       "text": [
        "\n",
        "==== find_salient_clusters ====\n",
        "'find_salient_clusters' run time was 0.008111954 sec\n",
        "164"
       ]
      },
      {
       "output_type": "stream",
       "stream": "stdout",
       "text": [
        "\n",
        "==== compute_texton ===="
       ]
      },
      {
       "output_type": "stream",
       "stream": "stdout",
       "text": [
        "\n",
        "'compute_texton' run time was 12.859563112 sec"
       ]
      },
      {
       "output_type": "stream",
       "stream": "stdout",
       "text": [
        "\n",
        "==== segment_superpixels ====\n",
        "'segment_superpixels' run time was 27.653042793 sec"
       ]
      },
      {
       "output_type": "stream",
       "stream": "stdout",
       "text": [
        "\n",
        "==== compute_connectivity ====\n",
        "'compute_connectivity' run time was 5.680619955 sec"
       ]
      },
      {
       "output_type": "stream",
       "stream": "stdout",
       "text": [
        "\n",
        "==== compute_distance_matrix ====\n",
        "'compute_distance_matrix' run time was 1.993566036 sec"
       ]
      },
      {
       "output_type": "stream",
       "stream": "stdout",
       "text": [
        "\n",
        "==== compute_saliency_map ====\n",
        "'compute_saliency_map' run time was 0.105762959 sec"
       ]
      },
      {
       "output_type": "stream",
       "stream": "stdout",
       "text": [
        "\n",
        "==== find_salient_clusters ====\n",
        "'find_salient_clusters' run time was 0.005959988 sec\n",
        "165"
       ]
      },
      {
       "output_type": "stream",
       "stream": "stdout",
       "text": [
        "\n",
        "==== compute_texton ===="
       ]
      },
      {
       "output_type": "stream",
       "stream": "stdout",
       "text": [
        "\n",
        "'compute_texton' run time was 20.621750116 sec"
       ]
      },
      {
       "output_type": "stream",
       "stream": "stdout",
       "text": [
        "\n",
        "==== segment_superpixels ====\n",
        "'segment_superpixels' run time was 27.853946924 sec"
       ]
      },
      {
       "output_type": "stream",
       "stream": "stdout",
       "text": [
        "\n",
        "==== compute_connectivity ====\n",
        "'compute_connectivity' run time was 5.879859924 sec"
       ]
      },
      {
       "output_type": "stream",
       "stream": "stdout",
       "text": [
        "\n",
        "==== compute_distance_matrix ====\n",
        "'compute_distance_matrix' run time was 2.077708960 sec"
       ]
      },
      {
       "output_type": "stream",
       "stream": "stdout",
       "text": [
        "\n",
        "==== compute_saliency_map ====\n",
        "'compute_saliency_map' run time was 0.106977940 sec"
       ]
      },
      {
       "output_type": "stream",
       "stream": "stdout",
       "text": [
        "\n",
        "==== find_salient_clusters ====\n",
        "'find_salient_clusters' run time was 0.007902861 sec\n",
        "166"
       ]
      },
      {
       "output_type": "stream",
       "stream": "stdout",
       "text": [
        "\n",
        "==== compute_texton ===="
       ]
      },
      {
       "output_type": "stream",
       "stream": "stdout",
       "text": [
        "\n",
        "'compute_texton' run time was 30.225805998 sec"
       ]
      },
      {
       "output_type": "stream",
       "stream": "stdout",
       "text": [
        "\n",
        "==== segment_superpixels ====\n",
        "'segment_superpixels' run time was 29.712902069 sec"
       ]
      },
      {
       "output_type": "stream",
       "stream": "stdout",
       "text": [
        "\n",
        "==== compute_connectivity ====\n",
        "'compute_connectivity' run time was 5.972172976 sec"
       ]
      },
      {
       "output_type": "stream",
       "stream": "stdout",
       "text": [
        "\n",
        "==== compute_distance_matrix ====\n",
        "'compute_distance_matrix' run time was 1.939579010 sec"
       ]
      },
      {
       "output_type": "stream",
       "stream": "stdout",
       "text": [
        "\n",
        "==== compute_saliency_map ====\n",
        "'compute_saliency_map' run time was 0.108766079 sec"
       ]
      },
      {
       "output_type": "stream",
       "stream": "stdout",
       "text": [
        "\n",
        "==== find_salient_clusters ====\n",
        "'find_salient_clusters' run time was 0.006508112 sec\n",
        "167"
       ]
      },
      {
       "output_type": "stream",
       "stream": "stdout",
       "text": [
        "\n",
        "==== compute_texton ===="
       ]
      },
      {
       "output_type": "stream",
       "stream": "stdout",
       "text": [
        "\n",
        "'compute_texton' run time was 19.230341196 sec"
       ]
      },
      {
       "output_type": "stream",
       "stream": "stdout",
       "text": [
        "\n",
        "==== segment_superpixels ====\n",
        "'segment_superpixels' run time was 28.773300171 sec"
       ]
      },
      {
       "output_type": "stream",
       "stream": "stdout",
       "text": [
        "\n",
        "==== compute_connectivity ====\n",
        "'compute_connectivity' run time was 5.824019909 sec"
       ]
      },
      {
       "output_type": "stream",
       "stream": "stdout",
       "text": [
        "\n",
        "==== compute_distance_matrix ====\n",
        "'compute_distance_matrix' run time was 2.145287991 sec"
       ]
      },
      {
       "output_type": "stream",
       "stream": "stdout",
       "text": [
        "\n",
        "==== compute_saliency_map ====\n",
        "'compute_saliency_map' run time was 0.110064983 sec"
       ]
      },
      {
       "output_type": "stream",
       "stream": "stdout",
       "text": [
        "\n",
        "==== find_salient_clusters ====\n",
        "'find_salient_clusters' run time was 0.008429050 sec\n",
        "168"
       ]
      },
      {
       "output_type": "stream",
       "stream": "stdout",
       "text": [
        "\n",
        "==== compute_texton ===="
       ]
      },
      {
       "output_type": "stream",
       "stream": "stdout",
       "text": [
        "\n",
        "'compute_texton' run time was 9.856048107 sec"
       ]
      },
      {
       "output_type": "stream",
       "stream": "stdout",
       "text": [
        "\n",
        "==== segment_superpixels ====\n",
        "'segment_superpixels' run time was 28.559091806 sec"
       ]
      },
      {
       "output_type": "stream",
       "stream": "stdout",
       "text": [
        "\n",
        "==== compute_connectivity ====\n",
        "'compute_connectivity' run time was 5.742686987 sec"
       ]
      },
      {
       "output_type": "stream",
       "stream": "stdout",
       "text": [
        "\n",
        "==== compute_distance_matrix ====\n",
        "'compute_distance_matrix' run time was 2.226475954 sec"
       ]
      },
      {
       "output_type": "stream",
       "stream": "stdout",
       "text": [
        "\n",
        "==== compute_saliency_map ====\n",
        "'compute_saliency_map' run time was 0.125329971 sec"
       ]
      },
      {
       "output_type": "stream",
       "stream": "stdout",
       "text": [
        "\n",
        "==== find_salient_clusters ====\n",
        "'find_salient_clusters' run time was 0.005700111 sec\n",
        "169"
       ]
      },
      {
       "output_type": "stream",
       "stream": "stdout",
       "text": [
        "\n",
        "==== compute_texton ===="
       ]
      },
      {
       "output_type": "stream",
       "stream": "stdout",
       "text": [
        "\n",
        "'compute_texton' run time was 20.689738035 sec"
       ]
      },
      {
       "output_type": "stream",
       "stream": "stdout",
       "text": [
        "\n",
        "==== segment_superpixels ====\n",
        "'segment_superpixels' run time was 28.819181919 sec"
       ]
      },
      {
       "output_type": "stream",
       "stream": "stdout",
       "text": [
        "\n",
        "==== compute_connectivity ====\n",
        "'compute_connectivity' run time was 5.790064096 sec"
       ]
      },
      {
       "output_type": "stream",
       "stream": "stdout",
       "text": [
        "\n",
        "==== compute_distance_matrix ====\n",
        "'compute_distance_matrix' run time was 2.174203157 sec"
       ]
      },
      {
       "output_type": "stream",
       "stream": "stdout",
       "text": [
        "\n",
        "==== compute_saliency_map ====\n",
        "'compute_saliency_map' run time was 0.126302958 sec"
       ]
      },
      {
       "output_type": "stream",
       "stream": "stdout",
       "text": [
        "\n",
        "==== find_salient_clusters ====\n",
        "'find_salient_clusters' run time was 0.008914948 sec\n",
        "170"
       ]
      },
      {
       "output_type": "stream",
       "stream": "stdout",
       "text": [
        "\n",
        "==== compute_texton ===="
       ]
      },
      {
       "output_type": "stream",
       "stream": "stdout",
       "text": [
        "\n",
        "'compute_texton' run time was 24.493554115 sec"
       ]
      },
      {
       "output_type": "stream",
       "stream": "stdout",
       "text": [
        "\n",
        "==== segment_superpixels ====\n",
        "'segment_superpixels' run time was 28.791532993 sec"
       ]
      },
      {
       "output_type": "stream",
       "stream": "stdout",
       "text": [
        "\n",
        "==== compute_connectivity ====\n",
        "'compute_connectivity' run time was 5.813246012 sec"
       ]
      },
      {
       "output_type": "stream",
       "stream": "stdout",
       "text": [
        "\n",
        "==== compute_distance_matrix ====\n",
        "'compute_distance_matrix' run time was 2.185909986 sec"
       ]
      },
      {
       "output_type": "stream",
       "stream": "stdout",
       "text": [
        "\n",
        "==== compute_saliency_map ====\n",
        "'compute_saliency_map' run time was 0.125974178 sec"
       ]
      },
      {
       "output_type": "stream",
       "stream": "stdout",
       "text": [
        "\n",
        "==== find_salient_clusters ====\n",
        "'find_salient_clusters' run time was 0.008126020 sec\n",
        "171"
       ]
      },
      {
       "output_type": "stream",
       "stream": "stdout",
       "text": [
        "\n",
        "==== compute_texton ===="
       ]
      },
      {
       "output_type": "stream",
       "stream": "stdout",
       "text": [
        "\n",
        "'compute_texton' run time was 32.875689030 sec"
       ]
      },
      {
       "output_type": "stream",
       "stream": "stdout",
       "text": [
        "\n",
        "==== segment_superpixels ====\n",
        "'segment_superpixels' run time was 28.778223038 sec"
       ]
      },
      {
       "output_type": "stream",
       "stream": "stdout",
       "text": [
        "\n",
        "==== compute_connectivity ====\n",
        "'compute_connectivity' run time was 5.865939856 sec"
       ]
      },
      {
       "output_type": "stream",
       "stream": "stdout",
       "text": [
        "\n",
        "==== compute_distance_matrix ====\n",
        "'compute_distance_matrix' run time was 2.246156931 sec"
       ]
      },
      {
       "output_type": "stream",
       "stream": "stdout",
       "text": [
        "\n",
        "==== compute_saliency_map ====\n",
        "'compute_saliency_map' run time was 0.125946999 sec"
       ]
      },
      {
       "output_type": "stream",
       "stream": "stdout",
       "text": [
        "\n",
        "==== find_salient_clusters ====\n",
        "'find_salient_clusters' run time was 0.005945921 sec\n",
        "172"
       ]
      },
      {
       "output_type": "stream",
       "stream": "stdout",
       "text": [
        "\n",
        "==== compute_texton ===="
       ]
      },
      {
       "output_type": "stream",
       "stream": "stdout",
       "text": [
        "\n",
        "'compute_texton' run time was 10.099074125 sec"
       ]
      },
      {
       "output_type": "stream",
       "stream": "stdout",
       "text": [
        "\n",
        "==== segment_superpixels ====\n",
        "'segment_superpixels' run time was 28.959075928 sec"
       ]
      },
      {
       "output_type": "stream",
       "stream": "stdout",
       "text": [
        "\n",
        "==== compute_connectivity ====\n",
        "'compute_connectivity' run time was 5.972340822 sec"
       ]
      },
      {
       "output_type": "stream",
       "stream": "stdout",
       "text": [
        "\n",
        "==== compute_distance_matrix ====\n",
        "'compute_distance_matrix' run time was 2.198797941 sec"
       ]
      },
      {
       "output_type": "stream",
       "stream": "stdout",
       "text": [
        "\n",
        "==== compute_saliency_map ====\n",
        "'compute_saliency_map' run time was 0.127907038 sec"
       ]
      },
      {
       "output_type": "stream",
       "stream": "stdout",
       "text": [
        "\n",
        "==== find_salient_clusters ====\n",
        "'find_salient_clusters' run time was 0.004647017 sec\n",
        "173"
       ]
      },
      {
       "output_type": "stream",
       "stream": "stdout",
       "text": [
        "\n",
        "==== compute_texton ===="
       ]
      },
      {
       "output_type": "stream",
       "stream": "stdout",
       "text": [
        "\n",
        "'compute_texton' run time was 22.036484957 sec"
       ]
      },
      {
       "output_type": "stream",
       "stream": "stdout",
       "text": [
        "\n",
        "==== segment_superpixels ====\n",
        "'segment_superpixels' run time was 29.171227932 sec"
       ]
      },
      {
       "output_type": "stream",
       "stream": "stdout",
       "text": [
        "\n",
        "==== compute_connectivity ====\n",
        "'compute_connectivity' run time was 6.084697962 sec"
       ]
      },
      {
       "output_type": "stream",
       "stream": "stdout",
       "text": [
        "\n",
        "==== compute_distance_matrix ====\n",
        "'compute_distance_matrix' run time was 2.217724085 sec"
       ]
      },
      {
       "output_type": "stream",
       "stream": "stdout",
       "text": [
        "\n",
        "==== compute_saliency_map ====\n",
        "'compute_saliency_map' run time was 0.126987934 sec"
       ]
      },
      {
       "output_type": "stream",
       "stream": "stdout",
       "text": [
        "\n",
        "==== find_salient_clusters ====\n",
        "'find_salient_clusters' run time was 0.004655123 sec\n",
        "174"
       ]
      },
      {
       "output_type": "stream",
       "stream": "stdout",
       "text": [
        "\n",
        "==== compute_texton ===="
       ]
      },
      {
       "output_type": "stream",
       "stream": "stdout",
       "text": [
        "\n",
        "'compute_texton' run time was 10.177443027 sec"
       ]
      },
      {
       "output_type": "stream",
       "stream": "stdout",
       "text": [
        "\n",
        "==== segment_superpixels ====\n",
        "'segment_superpixels' run time was 28.674776077 sec"
       ]
      },
      {
       "output_type": "stream",
       "stream": "stdout",
       "text": [
        "\n",
        "==== compute_connectivity ====\n",
        "'compute_connectivity' run time was 5.800427914 sec"
       ]
      },
      {
       "output_type": "stream",
       "stream": "stdout",
       "text": [
        "\n",
        "==== compute_distance_matrix ====\n",
        "'compute_distance_matrix' run time was 2.194138050 sec"
       ]
      },
      {
       "output_type": "stream",
       "stream": "stdout",
       "text": [
        "\n",
        "==== compute_saliency_map ====\n",
        "'compute_saliency_map' run time was 0.126271009 sec"
       ]
      },
      {
       "output_type": "stream",
       "stream": "stdout",
       "text": [
        "\n",
        "==== find_salient_clusters ====\n",
        "'find_salient_clusters' run time was 0.006160975 sec\n",
        "175"
       ]
      },
      {
       "output_type": "stream",
       "stream": "stdout",
       "text": [
        "\n",
        "==== compute_texton ===="
       ]
      },
      {
       "output_type": "stream",
       "stream": "stdout",
       "text": [
        "\n",
        "'compute_texton' run time was 30.888723135 sec"
       ]
      },
      {
       "output_type": "stream",
       "stream": "stdout",
       "text": [
        "\n",
        "==== segment_superpixels ====\n",
        "'segment_superpixels' run time was 29.083064079 sec"
       ]
      },
      {
       "output_type": "stream",
       "stream": "stdout",
       "text": [
        "\n",
        "==== compute_connectivity ====\n",
        "'compute_connectivity' run time was 5.799537897 sec"
       ]
      },
      {
       "output_type": "stream",
       "stream": "stdout",
       "text": [
        "\n",
        "==== compute_distance_matrix ====\n",
        "'compute_distance_matrix' run time was 2.154726982 sec"
       ]
      },
      {
       "output_type": "stream",
       "stream": "stdout",
       "text": [
        "\n",
        "==== compute_saliency_map ====\n",
        "'compute_saliency_map' run time was 0.126802921 sec"
       ]
      },
      {
       "output_type": "stream",
       "stream": "stdout",
       "text": [
        "\n",
        "==== find_salient_clusters ====\n",
        "'find_salient_clusters' run time was 0.004873991 sec\n"
       ]
      },
      {
       "output_type": "stream",
       "stream": "stderr",
       "text": [
        "/oasis/projects/nsf/csd181/yuncong/virtualenv-1.9.1/yuncongve/lib/python2.7/site-packages/skimage/util/dtype.py:107: UserWarning: Possible precision loss when converting from float64 to uint8\n",
        "  \"%s to %s\" % (dtypeobj_in, dtypeobj))\n"
       ]
      }
     ],
     "prompt_number": 3
    },
    {
     "cell_type": "code",
     "collapsed": false,
     "input": [
      "from matplotlib.backends.backend_pdf import PdfPages\n",
      "\n",
      "with PdfPages('region2_collection.pdf') as pdf:\n",
      "    \n",
      "#     for img_id in range(241,250):\n",
      "    for img_id in range(159,176): # region2\n",
      "        img_name = img_name_fmt%img_id\n",
      "\n",
      "        plt.imshow(cv2.imread('output/'+img_name+'_features_%d.png'%img_id))\n",
      "        plt.title('features, image %d'% img_id, fontsize=5)\n",
      "        plt.axis('off')\n",
      "        pdf.savefig(bbox_inches='tight', dpi=300)\n",
      "        plt.close();\n",
      "        \n",
      "        fig, axes = plt.subplots(nrows=2, ncols=2)\n",
      "        \n",
      "#         img_name = 'PMD1305_%d.reduce2.region1'%img_id    \n",
      "#         im = cv2.imread(IMG_DIR + img_name + '.tif')\n",
      "        \n",
      "        fig.suptitle('image %d' % img_id, fontsize=5)\n",
      "    \n",
      "        axes[0,0].imshow(cv2.imread('output/'+img_name+'_superpixelized_%d.png'%img_id))\n",
      "        axes[0,0].set_title('superpixelized, compactness=%d, presmooth=%.2f'%(compactness,presmooth), fontsize=5)\n",
      "        axes[0,0].axis('off')\n",
      "            \n",
      "        axes[0,1].imshow(cv2.imread('output/'+img_name+'_textonmap_%d.png'%img_id))\n",
      "        axes[0,1].set_title('texton map, num_textons=%d'%num_textons, fontsize=5)\n",
      "        axes[0,1].axis('off')\n",
      "        \n",
      "        axes[1,0].imshow(cv2.imread('output/'+img_name+'_saliencymap_%d.png'%img_id))\n",
      "        axes[1,0].set_title('saliency map, neighbor_term_weight=%.2f'%neighbor_term_weight, fontsize=5)\n",
      "        axes[1,0].axis('off')\n",
      "        \n",
      "        axes[1,1].imshow(cv2.imread('output/'+img_name+'_salientclusters_%d.png'%img_id))\n",
      "        axes[1,1].set_title('10 most salient clusters, cluster_grow_thresh=%.2f'%dist_thresh, fontsize=5)\n",
      "        axes[1,1].axis('off')\n",
      "        \n",
      "        pdf.savefig(bbox_inches='tight', dpi=300)\n",
      "        plt.close();"
     ],
     "language": "python",
     "metadata": {},
     "outputs": [],
     "prompt_number": 4
    }
   ],
   "metadata": {}
  }
 ]
}