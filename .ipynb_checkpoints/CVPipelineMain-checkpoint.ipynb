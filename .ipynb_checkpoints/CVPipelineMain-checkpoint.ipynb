{
 "metadata": {
  "name": "",
  "signature": "sha256:93999782cf17a37cf0b1cffc6771153f6d4ae9ef489936695ae773c335873639"
 },
 "nbformat": 3,
 "nbformat_minor": 0,
 "worksheets": [
  {
   "cells": [
    {
     "cell_type": "code",
     "collapsed": false,
     "input": [
      "# %load_ext autoreload\n",
      "# %autoreload 2\n",
      "\n",
      "from IPython.display import Image, FileLink\n",
      "\n",
      "from CVPipeline_module import CrossValidationPipeline\n",
      "from kmeans_module import SaliencyDetector\n",
      "from utilities import *\n",
      "\n",
      "import cv2\n",
      "import matplotlib.pyplot as plt\n",
      "\n",
      "import random\n",
      "\n",
      "import warnings\n",
      "warnings.filterwarnings(\"ignore\", category=DeprecationWarning) "
     ],
     "language": "python",
     "metadata": {},
     "outputs": [],
     "prompt_number": 1
    },
    {
     "cell_type": "code",
     "collapsed": false,
     "input": [
      "CACHE_DIR = '/home/yuncong/my_csd181_scratch/'\n",
      "IMG_DIR = '/home/yuncong/ParthaData/PMD1305_reduce0_region0/'\n",
      "img_name_fmt = 'PMD1305_%d_reduce0_region0'\n",
      "img_id = 244\n",
      "img_name = img_name_fmt%img_id\n",
      "\n",
      "params = {\n",
      "# 'param_id': random.randint(0,9999),\n",
      "'param_id': 1635,\n",
      "'theta_interval': 10,\n",
      "'n_freq': 4,\n",
      "'max_freq': 0.2,\n",
      "'n_texton': 20,\n",
      "'cache_dir': CACHE_DIR,\n",
      "'img_dir': IMG_DIR\n",
      "}\n",
      "pipeline = CrossValidationPipeline(params=params)"
     ],
     "language": "python",
     "metadata": {},
     "outputs": [],
     "prompt_number": 2
    },
    {
     "cell_type": "code",
     "collapsed": false,
     "input": [
      "pipeline.filter_image(img_name, output_feature=True)"
     ],
     "language": "python",
     "metadata": {},
     "outputs": [
      {
       "output_type": "stream",
       "stream": "stdout",
       "text": [
        "==== filter_image ====\n",
        "num. of kernels: 72"
       ]
      },
      {
       "output_type": "stream",
       "stream": "stdout",
       "text": [
        "\n",
        "frequencies: [ 0.2    0.1    0.05   0.025]\n",
        "wavelength (pixels): [  5.  10.  20.  40.]\n",
        "max kernel matrix size: 137\n",
        "load features from /home/yuncong/my_csd181_scratch/PMD1305_244_reduce0_region0_param1635.npy"
       ]
      },
      {
       "output_type": "stream",
       "stream": "stdout",
       "text": [
        "\n",
        "'filter_image' run time was 3.975135088 sec\n"
       ]
      }
     ]
    },
    {
     "cell_type": "code",
     "collapsed": false,
     "input": [
      "pipeline.generate_textonmap()"
     ],
     "language": "python",
     "metadata": {},
     "outputs": [
      {
       "output_type": "stream",
       "stream": "stdout",
       "text": [
        "==== generate_textonmap ====\n",
        "iteration 0\n"
       ]
      }
     ]
    }
   ],
   "metadata": {}
  }
 ]
}