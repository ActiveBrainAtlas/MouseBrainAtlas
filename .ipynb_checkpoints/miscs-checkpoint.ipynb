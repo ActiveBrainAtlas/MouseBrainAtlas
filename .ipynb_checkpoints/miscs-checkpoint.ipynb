{
 "metadata": {
  "name": "",
  "signature": "sha256:665eb7df858ec335f6d827224bf80fb174fac227c65ddd92d69fc472c626792e"
 },
 "nbformat": 3,
 "nbformat_minor": 0,
 "worksheets": [
  {
   "cells": [
    {
     "cell_type": "code",
     "collapsed": false,
     "input": [
      "import cv2\n",
      "import os, sys\n",
      "\n",
      "margin_border_effect = 200\n"
     ],
     "language": "python",
     "metadata": {},
     "outputs": [],
     "prompt_number": 3
    },
    {
     "cell_type": "code",
     "collapsed": false,
     "input": [
      "for i in range(240,250):\n",
      "    img = cv2.imread('/home/yuncong/my_csd181/ParthaData/PMD1305_reduce2/PMD1305_%d.reduce2.tif'%i, 0)\n",
      "    region = img[2600-margin_border_effect:3380+margin_border_effect, \n",
      "                 2040-margin_border_effect:4300+margin_border_effect]\n",
      "#     os.mkdir('/home/yuncong/my_csd181/ParthaData/PMD1305_reduce2/region1')\n",
      "    cv2.imwrite('/home/yuncong/my_csd181/ParthaData/PMD1305_reduce2/region1/PMD1305_%d.reduce2.region1.tif'%i, region)\n",
      "        \n",
      "# tiffcrop -U px -z 1,1,2048,2048:1,2049,2048,4097 -e separate CheckScans.tiff Check"
     ],
     "language": "python",
     "metadata": {},
     "outputs": []
    },
    {
     "cell_type": "code",
     "collapsed": false,
     "input": [
      "for i in range(159,176):\n",
      "    img = cv2.imread('/home/yuncong/my_csd181/ParthaData/PMD1305_reduce2/PMD1305_%d.reduce2.tif'%i, 0)\n",
      "    region = img[1550-margin_border_effect:1550+2280+margin_border_effect, \n",
      "                 2320-margin_border_effect:2320+1570+margin_border_effect]\n",
      "    cv2.imwrite('/home/yuncong/my_csd181/ParthaData/PMD1305_reduce2/region2/PMD1305_%d.reduce2.region2.tif'%i, region)"
     ],
     "language": "python",
     "metadata": {},
     "outputs": [],
     "prompt_number": 8
    },
    {
     "cell_type": "code",
     "collapsed": false,
     "input": [
      "for i in range(1,20):\n",
      "    img = cv2.imread('/home/yuncong/my_csd181/ParthaData/PMD1305_reduce2/PMD1305_%d.reduce2.tif'%i, 0)\n",
      "    if img is None: continue\n",
      "    region = img[2100-margin_border_effect:2100+1200+margin_border_effect, \n",
      "                 2100-margin_border_effect:2100+820+margin_border_effect]\n",
      "    print region.shape\n",
      "    cv2.imwrite('/home/yuncong/my_csd181/ParthaData/PMD1305_reduce2/region3/PMD1305_%d.reduce2.region3.tif'%i, region)"
     ],
     "language": "python",
     "metadata": {},
     "outputs": [
      {
       "output_type": "stream",
       "stream": "stdout",
       "text": [
        "(1600, 2)\n",
        "(1600, 2)"
       ]
      },
      {
       "output_type": "stream",
       "stream": "stdout",
       "text": [
        "\n",
        "(1600, 2)"
       ]
      },
      {
       "output_type": "stream",
       "stream": "stdout",
       "text": [
        "\n",
        "(1600, 2)"
       ]
      },
      {
       "output_type": "stream",
       "stream": "stdout",
       "text": [
        "\n"
       ]
      },
      {
       "ename": "KeyboardInterrupt",
       "evalue": "",
       "output_type": "pyerr",
       "traceback": [
        "\u001b[1;31m---------------------------------------------------------------------------\u001b[0m\n\u001b[1;31mKeyboardInterrupt\u001b[0m                         Traceback (most recent call last)",
        "\u001b[1;32m<ipython-input-4-ceccfc19d4cc>\u001b[0m in \u001b[0;36m<module>\u001b[1;34m()\u001b[0m\n\u001b[0;32m      1\u001b[0m \u001b[1;32mfor\u001b[0m \u001b[0mi\u001b[0m \u001b[1;32min\u001b[0m \u001b[0mrange\u001b[0m\u001b[1;33m(\u001b[0m\u001b[1;36m1\u001b[0m\u001b[1;33m,\u001b[0m\u001b[1;36m20\u001b[0m\u001b[1;33m)\u001b[0m\u001b[1;33m:\u001b[0m\u001b[1;33m\u001b[0m\u001b[0m\n\u001b[1;32m----> 2\u001b[1;33m     \u001b[0mimg\u001b[0m \u001b[1;33m=\u001b[0m \u001b[0mcv2\u001b[0m\u001b[1;33m.\u001b[0m\u001b[0mimread\u001b[0m\u001b[1;33m(\u001b[0m\u001b[1;34m'/home/yuncong/my_csd181/ParthaData/PMD1305_reduce2/PMD1305_%d.reduce2.tif'\u001b[0m\u001b[1;33m%\u001b[0m\u001b[0mi\u001b[0m\u001b[1;33m,\u001b[0m \u001b[1;36m0\u001b[0m\u001b[1;33m)\u001b[0m\u001b[1;33m\u001b[0m\u001b[0m\n\u001b[0m\u001b[0;32m      3\u001b[0m     \u001b[1;32mif\u001b[0m \u001b[0mimg\u001b[0m \u001b[1;32mis\u001b[0m \u001b[0mNone\u001b[0m\u001b[1;33m:\u001b[0m \u001b[1;32mcontinue\u001b[0m\u001b[1;33m\u001b[0m\u001b[0m\n\u001b[0;32m      4\u001b[0m     region = img[2100-margin_border_effect:2100+1200+margin_border_effect, \n\u001b[0;32m      5\u001b[0m                  2100-margin_border_effect::2100+820+margin_border_effect]\n",
        "\u001b[1;31mKeyboardInterrupt\u001b[0m: "
       ]
      }
     ],
     "prompt_number": 4
    },
    {
     "cell_type": "code",
     "collapsed": false,
     "input": [
      "import cv2, yaml\n",
      "textonmap_filename = '/oasis/projects/nsf/csd181/iizhaki/Final/Folder_2026182415/Matrix.ext'\n",
      "# test_data = cv2.cv.Load(textonmap_filename,name=\"AllMats\")"
     ],
     "language": "python",
     "metadata": {},
     "outputs": [],
     "prompt_number": 5
    },
    {
     "cell_type": "code",
     "collapsed": false,
     "input": [
      "import cv2, yaml\n",
      "textonmap_filename = '/oasis/projects/nsf/csd181/iizhaki/Final/Folder_2026182415/Matrix.ext'\n",
      "\n",
      "def opencv_matrix(loader, node):\n",
      "    mapping = loader.construct_mapping(node, deep=True)\n",
      "    mat = np.asarray(mapping[\"data\"]).resize(mapping[\"rows\"], mapping[\"cols\"])\n",
      "    return mat\n",
      "yaml.add_constructor(u\"tag:yaml.org,2002:opencv-matrix\", opencv_matrix)\n",
      "\n",
      "with open(textonmap_filename) as fin:\n",
      "    fin.readline()\n",
      "    result = yaml.load(fin.read())"
     ],
     "language": "python",
     "metadata": {},
     "outputs": []
    }
   ],
   "metadata": {}
  }
 ]
}