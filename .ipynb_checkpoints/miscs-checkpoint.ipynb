{
 "metadata": {
  "name": "",
  "signature": "sha256:98362bc4f78cd1bec6df125739bb0f06f4c3ad07272ddeaf0912114c8404f4b8"
 },
 "nbformat": 3,
 "nbformat_minor": 0,
 "worksheets": [
  {
   "cells": [
    {
     "cell_type": "code",
     "collapsed": false,
     "input": [
      "import cv2\n",
      "import os, sys\n",
      "\n",
      "margin_border_effect = 200\n",
      "for i in range(240,250):\n",
      "    img = cv2.imread('/home/yuncong/my_csd181/ParthaData/PMD1305_reduce2/PMD1305_%d.reduce2.tif'%i, 0)\n",
      "    region = img[2600-margin_border_effect:3380+margin_border_effect, \n",
      "                 2040-margin_border_effect:4300+margin_border_effect]\n",
      "#     os.mkdir('/home/yuncong/my_csd181/ParthaData/PMD1305_reduce2/region1')\n",
      "    cv2.imwrite('/home/yuncong/my_csd181/ParthaData/PMD1305_reduce2/region1/PMD1305_%d.reduce2.region1.tif'%i, region)\n",
      "        \n",
      "# tiffcrop -U px -z 1,1,2048,2048:1,2049,2048,4097 -e separate CheckScans.tiff Check"
     ],
     "language": "python",
     "metadata": {},
     "outputs": [],
     "prompt_number": 7
    },
    {
     "cell_type": "code",
     "collapsed": false,
     "input": [
      "for i in range(159,176):\n",
      "    img = cv2.imread('/home/yuncong/my_csd181/ParthaData/PMD1305_reduce2/PMD1305_%d.reduce2.tif'%i, 0)\n",
      "    region = img[1550-margin_border_effect:1550+2280+margin_border_effect, \n",
      "                 2320-margin_border_effect:2320+1570+margin_border_effect]\n",
      "    cv2.imwrite('/home/yuncong/my_csd181/ParthaData/PMD1305_reduce2/region2/PMD1305_%d.reduce2.region2.tif'%i, region)"
     ],
     "language": "python",
     "metadata": {},
     "outputs": [],
     "prompt_number": 8
    },
    {
     "cell_type": "code",
     "collapsed": false,
     "input": [
      "for i in range(1,20):\n",
      "    img = cv2.imread('/home/yuncong/my_csd181/ParthaData/PMD1305_reduce2/PMD1305_%d.reduce2.tif'%i, 0)\n",
      "    if img is None: continue\n",
      "    region = img[2100-margin_border_effect:2100+1200+margin_border_effect, \n",
      "                 2100-margin_border_effect::2100+820+margin_border_effect]\n",
      "    cv2.imwrite('/home/yuncong/my_csd181/ParthaData/PMD1305_reduce2/region3/PMD1305_%d.reduce2.region3.tif'%i, region)"
     ],
     "language": "python",
     "metadata": {},
     "outputs": [],
     "prompt_number": 9
    }
   ],
   "metadata": {}
  }
 ]
}