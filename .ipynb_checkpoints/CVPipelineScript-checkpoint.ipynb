{
 "metadata": {
  "name": "",
  "signature": "sha256:a85193c18622bb928bb829d49f16c5122d97d7a9f3bccd80294380b575195052"
 },
 "nbformat": 3,
 "nbformat_minor": 0,
 "worksheets": [
  {
   "cells": [
    {
     "cell_type": "code",
     "collapsed": false,
     "input": [
      "import numpy as np\n",
      "import cv2\n",
      "import matplotlib.pyplot as plt\n",
      "\n",
      "import random, itertools, sys, os\n",
      "from multiprocessing import Pool\n",
      "import json\n",
      "\n",
      "# from sklearn.cluster import MiniBatchKMeans \n",
      "\n",
      "from skimage.segmentation import slic, mark_boundaries\n",
      "from skimage.measure import regionprops\n",
      "from skimage.util import img_as_ubyte\n",
      "from skimage.color import hsv2rgb, label2rgb, gray2rgb\n",
      "from skimage.morphology import disk\n",
      "from skimage.filter.rank import gradient\n",
      "from skimage.filter import gabor_kernel\n",
      "from skimage.transform import rescale, resize\n",
      "\n",
      "from scipy.ndimage import gaussian_filter, measurements\n",
      "from scipy.sparse import coo_matrix\n",
      "from scipy.spatial.distance import pdist, squareform, euclidean, cdist\n",
      "from scipy.signal import fftconvolve\n",
      "\n",
      "from IPython.display import FileLink, Image, FileLinks\n",
      "\n",
      "from utilities import *\n"
     ],
     "language": "python",
     "metadata": {},
     "outputs": [],
     "prompt_number": 1
    },
    {
     "cell_type": "code",
     "collapsed": false,
     "input": [
      "import glob, re, os, sys, subprocess, argparse\n",
      "\n",
      "parser = argparse.ArgumentParser()\n",
      "parser.add_argument(\"param_file\", type=str, help=\"parameter file name\")\n",
      "parser.add_argument(\"-f\", \"--output_feature\", type=bool, action='store_true', help=\"whether to output feature array\")\n",
      "parser.add_argument(\"-t\", \"--output_textonmap\", type=bool, action='store_true', help=\"whether to output textonmap\")\n",
      "args = parser.parse_args()"
     ],
     "language": "python",
     "metadata": {},
     "outputs": [
      {
       "output_type": "stream",
       "stream": "stderr",
       "text": [
        "usage: -c [-h] param_file\n",
        "-c: error: unrecognized arguments: -f --IPKernelApp.parent_appname='ipython-notebook' --profile-dir /home/yuncong/.ipython/profile_parallel --parent=1\n"
       ]
      },
      {
       "ename": "SystemExit",
       "evalue": "2",
       "output_type": "pyerr",
       "traceback": [
        "An exception has occurred, use %tb to see the full traceback.\n",
        "\u001b[1;31mSystemExit\u001b[0m\u001b[1;31m:\u001b[0m 2\n"
       ]
      },
      {
       "output_type": "stream",
       "stream": "stderr",
       "text": [
        "To exit: use 'exit', 'quit', or Ctrl-D.\n"
       ]
      }
     ],
     "prompt_number": 2
    },
    {
     "cell_type": "code",
     "collapsed": false,
     "input": [
      "\n",
      "# params = json.load(open(args.param_file))\n",
      "\n",
      "CACHE_DIR = 'scratch'\n",
      "IMG_DIR = '/home/yuncong/ParthaData/PMD1305_reduce0_region0/'\n",
      "img_name_fmt = 'PMD1305_%d_reduce0_region0'\n",
      "img_id = 244\n",
      "img_name = img_name_fmt%img_id\n",
      "\n",
      "params = {\n",
      "'param_id': 3285,\n",
      "'theta_interval': 10,\n",
      "'n_freq': 4,\n",
      "'max_freq': 0.2,\n",
      "'n_texton': 20,\n",
      "'cache_dir': CACHE_DIR,\n",
      "'img_dir': IMG_DIR\n",
      "}\n",
      "\n",
      "theta_interval = params['theta_interval'] #10\n",
      "n_angle = 180/theta_interval\n",
      "n_freq = params['n_freq']\n",
      "freq_max = params['max_freq'] #1./5.\n",
      "frequencies = freq_max/2**np.arange(n_freq)\n",
      "\n",
      "kernels = [gabor_kernel(f, theta=t, bandwidth=1.) for f in frequencies \n",
      "          for t in np.arange(0, np.pi, np.deg2rad(theta_interval))]\n",
      "kernels = map(np.real, kernels)\n",
      "n_kernel = len(kernels)\n",
      "\n",
      "print 'num. of kernels: %d' % (n_kernel)\n",
      "print 'frequencies:', frequencies\n",
      "print 'wavelength (pixels):', 1/frequencies\n",
      "\n",
      "max_kern_size = np.max([kern.shape[0] for kern in kernels])\n",
      "print 'max kernel matrix size:', max_kern_size\n"
     ],
     "language": "python",
     "metadata": {},
     "outputs": [
      {
       "output_type": "stream",
       "stream": "stdout",
       "text": [
        "num. of kernels: 72\n",
        "frequencies: [ 0.2    0.1    0.05   0.025]\n",
        "wavelength (pixels): [  5.  10.  20.  40.]\n",
        "max kernel matrix size: 137\n"
       ]
      }
     ],
     "prompt_number": 2
    },
    {
     "cell_type": "code",
     "collapsed": false,
     "input": [
      "import json\n",
      "json.dump(params, open('params/params%d.json'%params['param_id']))"
     ],
     "language": "python",
     "metadata": {},
     "outputs": [],
     "prompt_number": 20
    },
    {
     "cell_type": "code",
     "collapsed": false,
     "input": [
      "%%time\n",
      "\n",
      "img = cv2.imread(os.path.join(params['img_dir'], img_name + '.tif'), 0)\n",
      "im_height, im_width = img.shape[:2]\n",
      "\n",
      "feature_file = os.path.join(params['cache_dir'], \n",
      "                            '%s_param%d.npy'%(img_name, \n",
      "                                              params['param_id']))\n",
      "\n",
      "def convolve_per_proc(i):\n",
      "    return fftconvolve(img, kernels[i], 'same').astype(np.half)\n",
      "\n",
      "if os.path.exists(feature_file):\n",
      "    filtered = np.load(feature_file)\n",
      "    print 'load features from %s' % feature_file\n",
      "else:\n",
      "    pool = Pool(processes=8)\n",
      "    filtered = pool.map(convolve_per_proc, range(n_kernel))\n",
      "\n",
      "    features = np.empty((im_height, im_width, n_kernel), dtype=np.half)\n",
      "    for i in range(n_kernel):\n",
      "        features[...,i] = filtered[i]\n",
      "    \n",
      "    n_feature = features.shape[-1]\n",
      "    \n",
      "#     if args.output_feature:\n",
      "    if True:\n",
      "        np.save(feature_file, features)\n",
      "        print 'features saved to %s' % feature_file"
     ],
     "language": "python",
     "metadata": {},
     "outputs": [
      {
       "output_type": "stream",
       "stream": "stdout",
       "text": [
        "features saved to /home/yuncong/my_csd181_scratch/PMD1305_244_reduce0_region0_param3285.npy\n",
        "CPU times: user 52 s, sys: 25.5 s, total: 1min 17s\n",
        "Wall time: 2min 26s\n"
       ]
      }
     ],
     "prompt_number": 3
    },
    {
     "cell_type": "code",
     "collapsed": false,
     "input": [
      "%%time\n",
      "\n",
      "print 'finding foreground mask'\n",
      "mask = foreground_mask(rescale(img, .5**3), min_size=100)\n",
      "mask = resize(mask, img.shape) > .5\n",
      "\n",
      "features = features[max_kern_size:-max_kern_size, max_kern_size:-max_kern_size, :]\n",
      "img = img[max_kern_size:-max_kern_size, max_kern_size:-max_kern_size]\n",
      "mask = mask[max_kern_size:-max_kern_size, max_kern_size:-max_kern_size]\n"
     ],
     "language": "python",
     "metadata": {},
     "outputs": [
      {
       "output_type": "stream",
       "stream": "stdout",
       "text": [
        "finding foreground mask\n",
        "CPU times: user 5.9 s, sys: 6.03 s, total: 11.9 s"
       ]
      },
      {
       "output_type": "stream",
       "stream": "stdout",
       "text": [
        "\n",
        "Wall time: 12.1 s\n"
       ]
      }
     ],
     "prompt_number": 4
    },
    {
     "cell_type": "code",
     "collapsed": false,
     "input": [
      "def compute_dist_per_proc((X_partial, c_all_rot)):\n",
      "    D = cdist(X_partial, c_all_rot, 'sqeuclidean')\n",
      "    ci, ri = np.unravel_index(D.argmin(axis=1), (n_texton, n_angle))\n",
      "    return np.column_stack((ci, ri))"
     ],
     "language": "python",
     "metadata": {},
     "outputs": [],
     "prompt_number": 5
    },
    {
     "cell_type": "code",
     "collapsed": false,
     "input": [
      "%%prun\n",
      "\n",
      "n_texton = params['n_texton']\n",
      "# X = features[mask, :]\n",
      "X = features.reshape(-1, n_feature)\n",
      "n_data = X.shape[0]\n",
      "\n",
      "n_splits = 1000\n",
      "n_sample = 10000\n",
      "data = random.sample(X, n_sample)\n",
      "centroids = data[:n_texton]"
     ],
     "language": "python",
     "metadata": {},
     "outputs": [
      {
       "output_type": "stream",
       "stream": "stdout",
       "text": [
        " "
       ]
      }
     ],
     "prompt_number": 13
    },
    {
     "cell_type": "code",
     "collapsed": false,
     "input": [
      "%%time\n",
      "\n",
      "n_iter = 5\n",
      "pool = Pool(processes=16)\n",
      "\n",
      "for iteration in range(n_iter):\n",
      "    print 'iteration', iteration\n",
      "    centroid_all_rotations = np.vstack([np.concatenate(np.roll(np.split(c, n_freq), i)) \n",
      "                            for c,i in itertools.product(centroids, range(n_angle))])\n",
      "\n",
      "\n",
      "    pool = Pool(processes=16)\n",
      "    res = np.vstack(pool.map(compute_dist_per_proc, \n",
      "                             zip(np.array_split(data, n_splits, axis=0), \n",
      "                                 itertools.repeat(centroid_all_rotations, n_splits))))\n",
      "    \n",
      "    \n",
      "    labels = res[:,0]\n",
      "    rotations = res[:,1]\n",
      "\n",
      "    centroids_new = np.zeros((n_texton, n_feature))\n",
      "    for d, l, r in itertools.izip(data, labels, rotations):\n",
      "        rot = np.concatenate(np.roll(np.split(d, n_freq), i))\n",
      "        centroids_new[l] += rot\n",
      "\n",
      "    counts = np.bincount(labels)\n",
      "    centroids_new /= counts[:, np.newaxis]\n",
      "    print np.sqrt(np.sum((centroids - centroids_new)**2, axis=1)).mean()\n",
      "\n",
      "    centroids = centroids_new\n",
      "\n",
      "print 'kmeans completes'\n",
      "centroid_all_rotations = np.vstack([np.concatenate(np.roll(np.split(c, n_freq), i)) \n",
      "                            for c,i in itertools.product(centroids, range(n_angle))])\n",
      "\n",
      "res = np.vstack(pool.map(compute_dist_per_proc, \n",
      "                         zip(np.array_split(X, n_splits, axis=0), itertools.repeat(centroid_all_rotations, n_splits))))\n",
      "labels = res[:,0]\n",
      "rotations = res[:,1]\n",
      "\n",
      "pool.close()\n",
      "pool.join()\n",
      "del pool\n",
      "\n",
      "textonmap = -1*np.ones((features.shape[:2]))\n",
      "textonmap = labels.reshape(features.shape[:2])\n",
      "textonmap[~mask] = -1"
     ],
     "language": "python",
     "metadata": {},
     "outputs": [
      {
       "output_type": "stream",
       "stream": "stdout",
       "text": [
        "iteration 0\n"
       ]
      },
      {
       "output_type": "stream",
       "stream": "stdout",
       "text": [
        "12.7222417493\n",
        "iteration 1\n"
       ]
      },
      {
       "output_type": "stream",
       "stream": "stdout",
       "text": [
        "11.865170393\n",
        "iteration 2\n"
       ]
      },
      {
       "output_type": "stream",
       "stream": "stdout",
       "text": [
        "11.7002954841\n",
        "iteration 3\n"
       ]
      },
      {
       "output_type": "stream",
       "stream": "stdout",
       "text": [
        "11.5841865492\n",
        "iteration 4\n"
       ]
      },
      {
       "output_type": "stream",
       "stream": "stdout",
       "text": [
        "11.2523891728\n",
        "kmeans completes\n"
       ]
      },
      {
       "ename": "ValueError",
       "evalue": "array is not broadcastable to correct shape",
       "output_type": "pyerr",
       "traceback": [
        "\u001b[1;31m---------------------------------------------------------------------------\u001b[0m\n\u001b[1;31mValueError\u001b[0m                                Traceback (most recent call last)",
        "\u001b[1;32m<ipython-input-15-0fa99868eef7>\u001b[0m in \u001b[0;36m<module>\u001b[1;34m()\u001b[0m\n\u001b[1;32m----> 1\u001b[1;33m \u001b[0mget_ipython\u001b[0m\u001b[1;33m(\u001b[0m\u001b[1;33m)\u001b[0m\u001b[1;33m.\u001b[0m\u001b[0mrun_cell_magic\u001b[0m\u001b[1;33m(\u001b[0m\u001b[1;34mu'time'\u001b[0m\u001b[1;33m,\u001b[0m \u001b[1;34mu''\u001b[0m\u001b[1;33m,\u001b[0m \u001b[1;34mu\"\\nn_iter = 5\\npool = Pool(processes=16)\\n\\nfor iteration in range(n_iter):\\n    print 'iteration', iteration\\n    centroid_all_rotations = np.vstack([np.concatenate(np.roll(np.split(c, n_freq), i)) \\n                            for c,i in itertools.product(centroids, range(n_angle))])\\n\\n\\n    pool = Pool(processes=16)\\n    res = np.vstack(pool.map(compute_dist_per_proc, \\n                             zip(np.array_split(data, n_splits, axis=0), \\n                                 itertools.repeat(centroid_all_rotations, n_splits))))\\n    \\n    \\n    labels = res[:,0]\\n    rotations = res[:,1]\\n\\n    centroids_new = np.zeros((n_texton, n_feature))\\n    for d, l, r in itertools.izip(data, labels, rotations):\\n        rot = np.concatenate(np.roll(np.split(d, n_freq), i))\\n        centroids_new[l] += rot\\n\\n    counts = np.bincount(labels)\\n    centroids_new /= counts[:, np.newaxis]\\n    print np.sqrt(np.sum((centroids - centroids_new)**2, axis=1)).mean()\\n\\n    centroids = centroids_new\\n\\nprint 'kmeans completes'\\ncentroid_all_rotations = np.vstack([np.concatenate(np.roll(np.split(c, n_freq), i)) \\n                            for c,i in itertools.product(centroids, range(n_angle))])\\n\\nres = np.vstack(pool.map(compute_dist_per_proc, \\n                         zip(np.array_split(X, n_splits, axis=0), itertools.repeat(centroid_all_rotations, n_splits))))\\nlabels = res[:,0]\\nrotations = res[:,1]\\n\\npool.close()\\npool.join()\\ndel pool\\n\\n\\ntextonmap = -1*np.ones((features.shape[:2]))\\ntextonmap[mask] = labels.reshape(features.shape[:2])\"\u001b[0m\u001b[1;33m)\u001b[0m\u001b[1;33m\u001b[0m\u001b[0m\n\u001b[0m",
        "\u001b[1;32m/oasis/projects/nsf/csd181/yuncong/virtualenv-1.9.1/yuncongve/lib/python2.7/site-packages/IPython/core/interactiveshell.pyc\u001b[0m in \u001b[0;36mrun_cell_magic\u001b[1;34m(self, magic_name, line, cell)\u001b[0m\n\u001b[0;32m   2160\u001b[0m             \u001b[0mmagic_arg_s\u001b[0m \u001b[1;33m=\u001b[0m \u001b[0mself\u001b[0m\u001b[1;33m.\u001b[0m\u001b[0mvar_expand\u001b[0m\u001b[1;33m(\u001b[0m\u001b[0mline\u001b[0m\u001b[1;33m,\u001b[0m \u001b[0mstack_depth\u001b[0m\u001b[1;33m)\u001b[0m\u001b[1;33m\u001b[0m\u001b[0m\n\u001b[0;32m   2161\u001b[0m             \u001b[1;32mwith\u001b[0m \u001b[0mself\u001b[0m\u001b[1;33m.\u001b[0m\u001b[0mbuiltin_trap\u001b[0m\u001b[1;33m:\u001b[0m\u001b[1;33m\u001b[0m\u001b[0m\n\u001b[1;32m-> 2162\u001b[1;33m                 \u001b[0mresult\u001b[0m \u001b[1;33m=\u001b[0m \u001b[0mfn\u001b[0m\u001b[1;33m(\u001b[0m\u001b[0mmagic_arg_s\u001b[0m\u001b[1;33m,\u001b[0m \u001b[0mcell\u001b[0m\u001b[1;33m)\u001b[0m\u001b[1;33m\u001b[0m\u001b[0m\n\u001b[0m\u001b[0;32m   2163\u001b[0m             \u001b[1;32mreturn\u001b[0m \u001b[0mresult\u001b[0m\u001b[1;33m\u001b[0m\u001b[0m\n\u001b[0;32m   2164\u001b[0m \u001b[1;33m\u001b[0m\u001b[0m\n",
        "\u001b[1;32m/oasis/projects/nsf/csd181/yuncong/virtualenv-1.9.1/yuncongve/lib/python2.7/site-packages/IPython/core/magics/execution.pyc\u001b[0m in \u001b[0;36mtime\u001b[1;34m(self, line, cell, local_ns)\u001b[0m\n",
        "\u001b[1;32m/oasis/projects/nsf/csd181/yuncong/virtualenv-1.9.1/yuncongve/lib/python2.7/site-packages/IPython/core/magic.pyc\u001b[0m in \u001b[0;36m<lambda>\u001b[1;34m(f, *a, **k)\u001b[0m\n\u001b[0;32m    191\u001b[0m     \u001b[1;31m# but it's overkill for just that one bit of state.\u001b[0m\u001b[1;33m\u001b[0m\u001b[1;33m\u001b[0m\u001b[0m\n\u001b[0;32m    192\u001b[0m     \u001b[1;32mdef\u001b[0m \u001b[0mmagic_deco\u001b[0m\u001b[1;33m(\u001b[0m\u001b[0marg\u001b[0m\u001b[1;33m)\u001b[0m\u001b[1;33m:\u001b[0m\u001b[1;33m\u001b[0m\u001b[0m\n\u001b[1;32m--> 193\u001b[1;33m         \u001b[0mcall\u001b[0m \u001b[1;33m=\u001b[0m \u001b[1;32mlambda\u001b[0m \u001b[0mf\u001b[0m\u001b[1;33m,\u001b[0m \u001b[1;33m*\u001b[0m\u001b[0ma\u001b[0m\u001b[1;33m,\u001b[0m \u001b[1;33m**\u001b[0m\u001b[0mk\u001b[0m\u001b[1;33m:\u001b[0m \u001b[0mf\u001b[0m\u001b[1;33m(\u001b[0m\u001b[1;33m*\u001b[0m\u001b[0ma\u001b[0m\u001b[1;33m,\u001b[0m \u001b[1;33m**\u001b[0m\u001b[0mk\u001b[0m\u001b[1;33m)\u001b[0m\u001b[1;33m\u001b[0m\u001b[0m\n\u001b[0m\u001b[0;32m    194\u001b[0m \u001b[1;33m\u001b[0m\u001b[0m\n\u001b[0;32m    195\u001b[0m         \u001b[1;32mif\u001b[0m \u001b[0mcallable\u001b[0m\u001b[1;33m(\u001b[0m\u001b[0marg\u001b[0m\u001b[1;33m)\u001b[0m\u001b[1;33m:\u001b[0m\u001b[1;33m\u001b[0m\u001b[0m\n",
        "\u001b[1;32m/oasis/projects/nsf/csd181/yuncong/virtualenv-1.9.1/yuncongve/lib/python2.7/site-packages/IPython/core/magics/execution.pyc\u001b[0m in \u001b[0;36mtime\u001b[1;34m(self, line, cell, local_ns)\u001b[0m\n\u001b[0;32m   1127\u001b[0m         \u001b[1;32melse\u001b[0m\u001b[1;33m:\u001b[0m\u001b[1;33m\u001b[0m\u001b[0m\n\u001b[0;32m   1128\u001b[0m             \u001b[0mst\u001b[0m \u001b[1;33m=\u001b[0m \u001b[0mclock2\u001b[0m\u001b[1;33m(\u001b[0m\u001b[1;33m)\u001b[0m\u001b[1;33m\u001b[0m\u001b[0m\n\u001b[1;32m-> 1129\u001b[1;33m             \u001b[1;32mexec\u001b[0m\u001b[1;33m(\u001b[0m\u001b[0mcode\u001b[0m\u001b[1;33m,\u001b[0m \u001b[0mglob\u001b[0m\u001b[1;33m,\u001b[0m \u001b[0mlocal_ns\u001b[0m\u001b[1;33m)\u001b[0m\u001b[1;33m\u001b[0m\u001b[0m\n\u001b[0m\u001b[0;32m   1130\u001b[0m             \u001b[0mend\u001b[0m \u001b[1;33m=\u001b[0m \u001b[0mclock2\u001b[0m\u001b[1;33m(\u001b[0m\u001b[1;33m)\u001b[0m\u001b[1;33m\u001b[0m\u001b[0m\n\u001b[0;32m   1131\u001b[0m             \u001b[0mout\u001b[0m \u001b[1;33m=\u001b[0m \u001b[0mNone\u001b[0m\u001b[1;33m\u001b[0m\u001b[0m\n",
        "\u001b[1;32m<timed exec>\u001b[0m in \u001b[0;36m<module>\u001b[1;34m()\u001b[0m\n",
        "\u001b[1;31mValueError\u001b[0m: array is not broadcastable to correct shape"
       ]
      }
     ],
     "prompt_number": 15
    },
    {
     "cell_type": "code",
     "collapsed": false,
     "input": [
      "# if args.output_textonmap:\n",
      "\n",
      "textonmap_rgb = label2rgb(textonmap, image=None, colors=None, alpha=0.3, image_alpha=1)\n",
      "textonmap_file = os.path.join(params['cache_dir'], \n",
      "                            '%s_param%d_textonmap.png'%(img_name, params['param_id']))\n",
      "cv2.imwrite(textonmap_file, img_as_ubyte(textonmap_rgb))\n",
      "FileLink(textonmap_file)"
     ],
     "language": "python",
     "metadata": {},
     "outputs": [
      {
       "html": [
        "<a href='scratch/PMD1305_244_reduce0_region0_param3285_textonmap.png' target='_blank'>scratch/PMD1305_244_reduce0_region0_param3285_textonmap.png</a><br>"
       ],
       "metadata": {},
       "output_type": "pyout",
       "prompt_number": 19,
       "text": [
        "/oasis/projects/nsf/csd181/yuncong/Brain/scratch/PMD1305_244_reduce0_region0_param3285_textonmap.png"
       ]
      }
     ],
     "prompt_number": 19
    }
   ],
   "metadata": {}
  }
 ]
}