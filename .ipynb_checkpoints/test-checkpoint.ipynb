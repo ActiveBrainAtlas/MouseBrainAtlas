{
 "metadata": {
  "name": "",
  "signature": "sha256:20cb54cd6d81f2f27b1b1da121444271287a443cc8c7a7f7def5b9655a9e644d"
 },
 "nbformat": 3,
 "nbformat_minor": 0,
 "worksheets": [
  {
   "cells": [
    {
     "cell_type": "code",
     "collapsed": false,
     "input": [
      "from IPython.display import display\n",
      "from IPython.html import widgets as W\n",
      "from IPython.utils import traitlets as T\n",
      "\n",
      "class CirclesWidget(W.DOMWidget):\n",
      "    _view_name = T.Unicode('CirclesView', sync=True)\n",
      "    radii = T.List(sync=True)"
     ],
     "language": "python",
     "metadata": {},
     "outputs": []
    },
    {
     "cell_type": "code",
     "collapsed": false,
     "input": [
      "%%javascript\n",
      "require.config({paths: {d3: \"//d3js.org/d3.v3.min\"}});\n"
     ],
     "language": "python",
     "metadata": {},
     "outputs": []
    },
    {
     "cell_type": "code",
     "collapsed": false,
     "input": [
      "%%javascript\n",
      "require([\"widgets/js/widget\", \"d3\"], function(WidgetManager, d3){\n",
      "    var CirclesView = IPython.DOMWidgetView.extend({\n",
      "        render: function(){\n",
      "            this.svg = d3.select(this.el).append(\"svg\")\n",
      "                .attr({\n",
      "                    width: 500,\n",
      "                    height: 100\n",
      "                });\n",
      "\n",
      "            this.update();\n",
      "        },\n",
      "        update: function(){\n",
      "            var radii = this.model.get(\"radii\"),\n",
      "                circle = this.svg.selectAll(\"circle\")\n",
      "                    .data(radii);\n",
      "\n",
      "            circle.enter().append(\"circle\")\n",
      "                .style({fill: \"red\", opacity: .5})\n",
      "                .attr({cy: 50})\n",
      "                .on(\"click\", this.click.bind(this));\n",
      "\n",
      "            circle.transition()\n",
      "                .attr({\n",
      "                    cx: function(d, i){ return (i+1) * 50; },\n",
      "                    r: function(d){ return d * 10; }\n",
      "                });\n",
      "\n",
      "            circle.exit()\n",
      "                .transition()\n",
      "                .style({fill: \"black\", opacity: 0})\n",
      "                .remove();\n",
      "        },\n",
      "        click: function(d, i){\n",
      "            var new_radii = this.model.get(\"radii\").slice();\n",
      "            new_radii[i] += 1;\n",
      "            this.model.set(\"radii\", new_radii);\n",
      "            this.touch();\n",
      "        }\n",
      "    });\n",
      "    WidgetManager.register_widget_view(\"CirclesView\", CirclesView);\n",
      "});"
     ],
     "language": "python",
     "metadata": {},
     "outputs": []
    }
   ],
   "metadata": {}
  }
 ]
}