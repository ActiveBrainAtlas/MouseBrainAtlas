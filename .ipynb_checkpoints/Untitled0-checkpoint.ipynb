{
 "metadata": {
  "name": "",
  "signature": "sha256:40bb76d01bfe179254731154893bd8ea6dc5fe6a442009f132d26561b14b913c"
 },
 "nbformat": 3,
 "nbformat_minor": 0,
 "worksheets": []
}