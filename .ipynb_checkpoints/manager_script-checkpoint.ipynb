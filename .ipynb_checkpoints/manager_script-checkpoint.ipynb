{
 "metadata": {
  "name": "",
  "signature": "sha256:cc57c0f3c02d2d798753dd1d57f168dedae19ee9693449ffb3ef2cd76cbda0a8"
 },
 "nbformat": 3,
 "nbformat_minor": 0,
 "worksheets": [
  {
   "cells": [
    {
     "cell_type": "code",
     "collapsed": false,
     "input": [
      "%load_ext autoreload\n",
      "%autoreload 2\n",
      "\n",
      "import os, json\n",
      "from IPython.display import FileLink, Image, FileLinks\n",
      "from pprint import pprint\n",
      "\n",
      "import manager_utilities"
     ],
     "language": "python",
     "metadata": {},
     "outputs": [
      {
       "output_type": "stream",
       "stream": "stdout",
       "text": [
        "The autoreload extension is already loaded. To reload it, use:\n",
        "  %reload_ext autoreload\n"
       ]
      }
     ],
     "prompt_number": 25
    },
    {
     "cell_type": "markdown",
     "metadata": {},
     "source": [
      "You can read the details of a specific parameter setting. 0 is the id for default parameter setting."
     ]
    },
    {
     "cell_type": "code",
     "collapsed": false,
     "input": [
      "manager_utilities.load_param(91)"
     ],
     "language": "python",
     "metadata": {},
     "outputs": [
      {
       "output_type": "stream",
       "stream": "stdout",
       "text": [
        "{u'max_freq': 0.2,\n",
        " u'n_freq': 4,\n",
        " u'n_superpixels': 300,\n",
        " u'n_texton': 20,\n",
        " u'param_id': 91,\n",
        " u'slic_compactness': 5,\n",
        " u'slic_sigma': 10,\n",
        " u'theta_interval': 10}\n"
       ]
      }
     ],
     "prompt_number": 20
    },
    {
     "cell_type": "markdown",
     "metadata": {},
     "source": [
      "You can also tweak the parameters, and save to a different param_id"
     ]
    },
    {
     "cell_type": "code",
     "collapsed": false,
     "input": [
      "# manager_utilities.create_param(88, n_superpixels=100)\n",
      "# manager_utilities.create_param(89, n_superpixels=500)\n",
      "# manager_utilities.create_param(90, n_superpixels=1000)\n",
      "manager_utilities.create_param(91, n_superpixels=300)"
     ],
     "language": "python",
     "metadata": {},
     "outputs": [],
     "prompt_number": 19
    },
    {
     "cell_type": "markdown",
     "metadata": {},
     "source": [
      "Specify the image path, and parameter file.\n",
      "Then run the pipeline executable."
     ]
    },
    {
     "cell_type": "code",
     "collapsed": false,
     "input": [
      "cache_dir = 'scratch'\n",
      "# img_dir = '~/ParthaData/PMD1305_reduce0_region0'\n",
      "img_dir = 'data/dataset0'\n",
      "img_name_full = 'PMD1305_244_reduce4_region0.tif'\n",
      "\n",
      "img_path = os.path.join(img_dir, img_name_full)\n",
      "img_name, ext = os.path.splitext(img_name_full)\n",
      "\n",
      "param_id = 91\n",
      "param_file = 'params/param%d.json'%param_id"
     ],
     "language": "python",
     "metadata": {},
     "outputs": [],
     "prompt_number": 31
    },
    {
     "cell_type": "code",
     "collapsed": false,
     "input": [
      "%%time -n 1\n",
      "\n",
      "%run CrossValidationPipelineScriptShell.py {param_file} {img_path} -c {cache_dir}"
     ],
     "language": "python",
     "metadata": {},
     "outputs": [
      {
       "ename": "SyntaxError",
       "evalue": "invalid syntax (CrossValidationPipelineScriptShell.py, line 39)",
       "output_type": "pyerr",
       "traceback": [
        "\u001b[1;36m  File \u001b[1;32m\"/oasis/projects/nsf/csd181/yuncong/Brain/CrossValidationPipelineScriptShell.py\"\u001b[1;36m, line \u001b[1;32m39\u001b[0m\n\u001b[1;33m    %%time\u001b[0m\n\u001b[1;37m    ^\u001b[0m\n\u001b[1;31mSyntaxError\u001b[0m\u001b[1;31m:\u001b[0m invalid syntax\n"
       ]
      },
      {
       "output_type": "stream",
       "stream": "stdout",
       "text": [
        "CPU times: user 4 ms, sys: 20 ms, total: 24 ms\n",
        "Wall time: 16.6 ms\n"
       ]
      }
     ],
     "prompt_number": 34
    },
    {
     "cell_type": "markdown",
     "metadata": {},
     "source": [
      "View or download the results here"
     ]
    },
    {
     "cell_type": "code",
     "collapsed": false,
     "input": [
      "FileLinks(os.path.join('scratch', img_name))"
     ],
     "language": "python",
     "metadata": {},
     "outputs": [
      {
       "html": [
        "scratch/PMD1305_244_reduce0_region0/<br>\n",
        "&nbsp;&nbsp;<a href='scratch/PMD1305_244_reduce0_region0/PMD1305_244_reduce0_region0_param91_textonmap.npy' target='_blank'>PMD1305_244_reduce0_region0_param91_textonmap.npy</a><br>\n",
        "&nbsp;&nbsp;<a href='scratch/PMD1305_244_reduce0_region0/PMD1305_244_reduce0_region0_param91_sp_texton_hist_normalized.npy' target='_blank'>PMD1305_244_reduce0_region0_param91_sp_texton_hist_normalized.npy</a><br>\n",
        "&nbsp;&nbsp;<a href='scratch/PMD1305_244_reduce0_region0/PMD1305_244_reduce0_region0_param91_sp_dir_hist_normalized.npy' target='_blank'>PMD1305_244_reduce0_region0_param91_sp_dir_hist_normalized.npy</a><br>\n",
        "&nbsp;&nbsp;<a href='scratch/PMD1305_244_reduce0_region0/PMD1305_244_reduce0_region0_param91_dirmap.npy' target='_blank'>PMD1305_244_reduce0_region0_param91_dirmap.npy</a><br>\n",
        "&nbsp;&nbsp;<a href='scratch/PMD1305_244_reduce0_region0/PMD1305_244_reduce0_region0_param91_texton_saliencymap.tif' target='_blank'>PMD1305_244_reduce0_region0_param91_texton_saliencymap.tif</a><br>\n",
        "&nbsp;&nbsp;<a href='scratch/PMD1305_244_reduce0_region0/PMD1305_244_reduce0_region0_param91_segmentation.npy' target='_blank'>PMD1305_244_reduce0_region0_param91_segmentation.npy</a><br>\n",
        "&nbsp;&nbsp;<a href='scratch/PMD1305_244_reduce0_region0/PMD1305_244_reduce0_region0_param91_dirmap.tif' target='_blank'>PMD1305_244_reduce0_region0_param91_dirmap.tif</a><br>\n",
        "&nbsp;&nbsp;<a href='scratch/PMD1305_244_reduce0_region0/PMD1305_244_reduce0_region0_param91_dir_saliencymap.tif' target='_blank'>PMD1305_244_reduce0_region0_param91_dir_saliencymap.tif</a><br>\n",
        "&nbsp;&nbsp;<a href='scratch/PMD1305_244_reduce0_region0/PMD1305_244_reduce0_region0_param91_textonmap.tif' target='_blank'>PMD1305_244_reduce0_region0_param91_textonmap.tif</a><br>\n",
        "&nbsp;&nbsp;<a href='scratch/PMD1305_244_reduce0_region0/PMD1305_244_reduce0_region0_param91_segmentation.tif' target='_blank'>PMD1305_244_reduce0_region0_param91_segmentation.tif</a><br>\n",
        "&nbsp;&nbsp;<a href='scratch/PMD1305_244_reduce0_region0/PMD1305_244_reduce0_region0_param91_features.npy' target='_blank'>PMD1305_244_reduce0_region0_param91_features.npy</a><br>"
       ],
       "metadata": {},
       "output_type": "pyout",
       "prompt_number": 30,
       "text": [
        "scratch/PMD1305_244_reduce0_region0/\n",
        "  PMD1305_244_reduce0_region0_param91_textonmap.npy\n",
        "  PMD1305_244_reduce0_region0_param91_sp_texton_hist_normalized.npy\n",
        "  PMD1305_244_reduce0_region0_param91_sp_dir_hist_normalized.npy\n",
        "  PMD1305_244_reduce0_region0_param91_dirmap.npy\n",
        "  PMD1305_244_reduce0_region0_param91_texton_saliencymap.tif\n",
        "  PMD1305_244_reduce0_region0_param91_segmentation.npy\n",
        "  PMD1305_244_reduce0_region0_param91_dirmap.tif\n",
        "  PMD1305_244_reduce0_region0_param91_dir_saliencymap.tif\n",
        "  PMD1305_244_reduce0_region0_param91_textonmap.tif\n",
        "  PMD1305_244_reduce0_region0_param91_segmentation.tif\n",
        "  PMD1305_244_reduce0_region0_param91_features.npy"
       ]
      }
     ],
     "prompt_number": 30
    },
    {
     "cell_type": "code",
     "collapsed": false,
     "input": [
      "# !rm scratch/{img_name}_param{param_id}_*.tif\n",
      "# !convert scratch/{img_name}_param{param_id}_*.tif all.tif"
     ],
     "language": "python",
     "metadata": {},
     "outputs": [
      {
       "output_type": "stream",
       "stream": "stdout",
       "text": [
        "convert: unable to open image `scratch/PMD1305_244.reduce2.region1_param0_*.tif': No such file or directory @ blob.c/OpenBlob/2480.\r\n",
        "convert: missing an image filename `all.tif' @ convert.c/ConvertImageCommand/2800.\r\n"
       ]
      }
     ],
     "prompt_number": 26
    }
   ],
   "metadata": {}
  }
 ]
}