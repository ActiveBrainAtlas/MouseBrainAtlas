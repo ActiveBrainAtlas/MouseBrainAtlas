{
 "cells": [
  {
   "cell_type": "code",
   "execution_count": 1,
   "metadata": {
    "scrolled": true
   },
   "outputs": [
    {
     "name": "stdout",
     "output_type": "stream",
     "text": [
      "Setting environment for Local Macbook Pro\n"
     ]
    },
    {
     "name": "stderr",
     "output_type": "stream",
     "text": [
      "Not using image_cache.\n",
      "Not using image_cache.\n",
      "Not using image_cache.\n",
      "Not using image_cache.\n",
      "Not using image_cache.\n",
      "Not using image_cache.\n",
      "Not using image_cache.\n",
      "Not using image_cache.\n",
      "Not using image_cache.\n",
      "Not using image_cache.\n",
      "Not using image_cache.\n",
      "Not using image_cache.\n",
      "Not using image_cache.\n",
      "Not using image_cache.\n",
      "Not using image_cache.\n",
      "Not using image_cache.\n",
      "Not using image_cache.\n",
      "Not using image_cache.\n",
      "Not using image_cache.\n",
      "Not using image_cache.\n",
      "Not using image_cache.\n"
     ]
    },
    {
     "name": "stdout",
     "output_type": "stream",
     "text": [
      "/home/yuncong/CSHL_data_processed/MD585/MD585_prep2_thumbnail/MD585-N16-2015.07.16-20.32.33_MD585_2_0047_prep2_thumbnail.tif\n",
      "/home/yuncong/CSHL_data_processed/MD589/MD589_prep2_thumbnail/MD589-N16-2015.07.30-17.03.43_MD589_3_0048_prep2_thumbnail.tif\n",
      "/home/yuncong/CSHL_data_processed/MD590/MD590_prep2_thumbnail/MD590-IHC17-2015.08.10-19.09.09_MD590_2_0050_prep2_thumbnail.tif\n",
      "/home/yuncong/CSHL_data_processed/MD591/MD591_prep2_thumbnail/MD591-IHC17-2015.08.28-04.23.47_MD591_1_0049_prep2_thumbnail.tif\n",
      "/home/yuncong/CSHL_data_processed/MD592/MD592_prep2_thumbnail/MD592-N16-2015.08.22-00.50.39_MD592_2_0047_prep2_thumbnail.tif\n",
      "/home/yuncong/CSHL_data_processed/MD593/MD593_prep2_thumbnail/MD593-N15-2015.08.21-16.53.02_MD593_3_0045_prep2_thumbnail.tif\n",
      "/home/yuncong/CSHL_data_processed/MD594/MD594_prep2_thumbnail/MD594-IHC16-2015.08.26-16.11.01_MD594_1_0046_prep2_thumbnail.tif\n",
      "/home/yuncong/CSHL_data_processed/MD595/MD595_prep2_thumbnail/MD595-IHC12-2015.09.15-01.21.39_MD595_2_0035_prep2_thumbnail.tif\n",
      "/home/yuncong/CSHL_data_processed/MD598/MD598_prep2_thumbnail/MD598-N18-2015.09.29-17.40.03_MD598_3_0054_prep2_thumbnail.tif\n",
      "/home/yuncong/CSHL_data_processed/MD599/MD599_prep2_thumbnail/MD599-N19-2015.10.02-18.12.13_MD599_3_0057_prep2_thumbnail.tif\n",
      "/home/yuncong/CSHL_data_processed/MD602/MD602_prep2_thumbnail/MD602-N19-2015.12.01-16.24.09_MD602_2_0056_prep2_thumbnail.tif\n",
      "/home/yuncong/CSHL_data_processed/MD603/MD603_prep2_thumbnail/MD603-N11-2016.03.02-12.51.47_MD603_1_0031_prep2_thumbnail.tif\n",
      "/home/yuncong/CSHL_data_processed/MD635/MD635_prep2_thumbnail/MD635-F25-2016.05.18-21.02.30_MD635_3_0075_prep2_thumbnail.tif\n",
      "/home/yuncong/CSHL_data_processed/MD653/MD653_prep2_thumbnail/MD653-F15-2016.12.20-21.04.12_MD653_1_0043_prep2_thumbnail.tif\n",
      "/home/yuncong/CSHL_data_processed/MD652/MD652_prep2_thumbnail/MD652-F15-2016.12.16-20.45.52_MD652_3_0045_prep2_thumbnail.tif\n",
      "/home/yuncong/CSHL_data_processed/MD642/MD642_prep2_thumbnail/MD642-N14-2017.01.18-16.25.58_MD642_2_0041_prep2_thumbnail.tif\n",
      "/home/yuncong/CSHL_data_processed/MD657/MD657_prep2_thumbnail/MD657-N13-2017.02.22-14.33.34_MD657_3_0039_prep2_thumbnail.tif\n",
      "/home/yuncong/CSHL_data_processed/MD658/MD658_prep2_thumbnail/MD658-N18-2017.03.31-17.34.22_MD658_2_0053_prep2_thumbnail.tif\n",
      "/home/yuncong/CSHL_data_processed/MD661/MD661_prep2_thumbnail/MD662&661-F30-2017.06.05-14.49.48_MD661_1_0088_prep2_thumbnail.tif\n",
      "/home/yuncong/CSHL_data_processed/MD662/MD662_prep2_thumbnail/MD662&661-F35-2017.06.05-17.08.18_MD662_1_0103_prep2_thumbnail.tif\n",
      "/home/yuncong/CSHL_data_processed/ChatCryoJane201710/ChatCryoJane201710_prep2_thumbnail_Ntb/ChatCryoJane201710_slide1-S1_prep2_thumbnail_Ntb.tif\n"
     ]
    }
   ],
   "source": [
    "%reload_ext autoreload\n",
    "%autoreload 2\n",
    "\n",
    "import sys\n",
    "import os\n",
    "import time\n",
    "\n",
    "import numpy as np\n",
    "import pandas as pd\n",
    "import bloscpack as bp\n",
    "import matplotlib.pyplot as plt\n",
    "%matplotlib inline\n",
    "\n",
    "sys.path.append(os.path.join(os.environ['REPO_DIR'], 'utilities'))\n",
    "from utilities2015 import *\n",
    "from annotation_utilities import *\n",
    "from registration_utilities import *\n",
    "from metadata import *\n",
    "from data_manager import *\n",
    "from vis3d_utilities import *"
   ]
  },
  {
   "cell_type": "code",
   "execution_count": 255,
   "metadata": {
    "collapsed": true
   },
   "outputs": [],
   "source": [
    "stack = 'MD585'"
   ]
  },
  {
   "cell_type": "code",
   "execution_count": 256,
   "metadata": {
    "scrolled": true
   },
   "outputs": [],
   "source": [
    "from skimage.draw import polygon_perimeter\n",
    "tb_volume, tb_volume_origin_wrt_wholebrain = DataManager.load_intensity_volume_v3(stack=stack, prep_id=4, return_origin_instead_of_bbox=True)\n",
    "# tb_volume = tb_volume.astype(np.float32)"
   ]
  },
  {
   "cell_type": "code",
   "execution_count": null,
   "metadata": {},
   "outputs": [],
   "source": [
    "# tb_volume_sectioned_rgb = np.rollaxis(np.array([tb_volume, tb_volume, tb_volume]), 0, 4)\n",
    "# tb_volume_sectioned_alpha = int(255*0.01) * np.any(tb_volume_sectioned_rgb, axis=-1).astype(np.uint8)"
   ]
  },
  {
   "cell_type": "code",
   "execution_count": 257,
   "metadata": {
    "collapsed": true
   },
   "outputs": [],
   "source": [
    "tb_volume_sectioned_rgb = np.zeros(tb_volume.shape + (3,), np.uint8)\n",
    "tb_volume_sectioned_alpha = np.zeros(tb_volume.shape, np.uint8)"
   ]
  },
  {
   "cell_type": "code",
   "execution_count": 258,
   "metadata": {},
   "outputs": [
    {
     "name": "stdout",
     "output_type": "stream",
     "text": [
      "start_z = 113\n"
     ]
    }
   ],
   "source": [
    "start_sec = 166\n",
    "secmin, secmax = metadata_cache['section_limits'][stack]\n",
    "start_z = int(np.round((start_sec - secmin) / float(secmax - secmin) * tb_volume_sectioned_rgb.shape[2]))\n",
    "print 'start_z =', start_z"
   ]
  },
  {
   "cell_type": "code",
   "execution_count": 259,
   "metadata": {},
   "outputs": [],
   "source": [
    "interval = 300\n",
    "thickness = 1\n",
    "# interval = 1\n",
    "# thickness = 1\n",
    "\n",
    "# for z in range(start_z, tb_volume_sectioned_rgb.shape[2], interval):\n",
    "for z in [start_z, 280]:\n",
    "    tb_volume_sectioned_rgb[:, :, z:z+thickness] = tb_volume[:, :, z:z+thickness, None]\n",
    "    \n",
    "    tb_volume_sectioned_rgb[:, xmin, z] = 255\n",
    "    tb_volume_sectioned_rgb[:, -1, z] = 255\n",
    "    tb_volume_sectioned_rgb[ymin, :, z] = 255\n",
    "    tb_volume_sectioned_rgb[-1, :, z] = 255\n",
    "    \n",
    "    tb_volume_sectioned_alpha[:, :, z:z+thickness] = (5 * (tb_volume[:, :, z:z+thickness] > 0)).astype(np.uint8)\n",
    "    \n",
    "    tb_volume_sectioned_alpha[:, xmin, z:z+thickness] = 255\n",
    "    tb_volume_sectioned_alpha[:, -1, z:z+thickness] = 255\n",
    "    tb_volume_sectioned_alpha[ymin, :, z] = 255\n",
    "    tb_volume_sectioned_alpha[-1, :, z] = 255"
   ]
  },
  {
   "cell_type": "code",
   "execution_count": 260,
   "metadata": {},
   "outputs": [
    {
     "name": "stdout",
     "output_type": "stream",
     "text": [
      "aws s3 cp --recursive \"s3://mousebrainatlas-data/CSHL_labelings_v3/MD585\" \"/home/yuncong/CSHL_labelings_v3/MD585\" --exclude \"*\" --include \"*contours*\"\n",
      "latest timestamp:  08012017212649\n"
     ]
    }
   ],
   "source": [
    "# Draw human annotation contours on the thumbnail volume.\n",
    "\n",
    "contour_df = DataManager.load_annotation_v4(stack=stack, by_human=True, timestamp='latest', suffix='contours')\n",
    "contour_df = convert_annotation_v3_original_to_aligned(contour_df, stack=stack)\n",
    "# contour_df vertices wrt to aligned uncropped lossless image aka \"wholebrain\""
   ]
  },
  {
   "cell_type": "code",
   "execution_count": 261,
   "metadata": {
    "scrolled": true
   },
   "outputs": [],
   "source": [
    "for name_s in all_known_structures_sided:\n",
    "# for name_s in ['SC']:\n",
    "    \n",
    "    try:\n",
    "\n",
    "        name_u, side = parse_label(name_s, singular_as_s=True)[:2]\n",
    "\n",
    "        for cid, cnt in contour_df[(contour_df['name'] == name_u) & (contour_df['side'] == side)].iterrows():\n",
    "\n",
    "            contour_xysec_wrt_wholebrain_rawResol = [(x, y, cnt['section']) for x, y in cnt['vertices']]\n",
    "\n",
    "            contour_xyz_wrt_wholebrain_volResol = \\\n",
    "            convert_frame_and_resolution(contour_xysec_wrt_wholebrain_rawResol,\n",
    "                                          in_wrt='wholebrain', in_resolution='image_image_section',\n",
    "                                          out_wrt='wholebrain', out_resolution='volume',\n",
    "                                         image_resolution='raw', stack=stack,\n",
    "                                         volume_resolution_um=convert_resolution_string_to_um(resolution='down32', stack=stack))\n",
    "\n",
    "            contour_xyz_wrt_brainstemXYFullNoMargin_volResol = contour_xyz_wrt_wholebrain_volResol - tb_volume_origin_wrt_wholebrain\n",
    "\n",
    "            z_wrt_brainstemXYFullNoMargin_volResol = min(contour_xyz_wrt_brainstemXYFullNoMargin_volResol[0,2].astype(np.int), tb_volume.shape[2]-1)\n",
    "\n",
    "            if z_wrt_brainstemXYFullNoMargin_volResol == start_z or z_wrt_brainstemXYFullNoMargin_volResol % 7 == 0:\n",
    "\n",
    "                polygon_ys_wrt_brainstemXYFullNoMargin_volResol, \\\n",
    "                polygon_xs_wrt_brainstemXYFullNoMargin_volResol = \\\n",
    "                polygon_perimeter(contour_xyz_wrt_brainstemXYFullNoMargin_volResol[:,1], contour_xyz_wrt_brainstemXYFullNoMargin_volResol[:,0])\n",
    "\n",
    "                tb_volume_sectioned_rgb[polygon_ys_wrt_brainstemXYFullNoMargin_volResol.astype(np.int),\n",
    "                                        polygon_xs_wrt_brainstemXYFullNoMargin_volResol.astype(np.int),\n",
    "                                        z_wrt_brainstemXYFullNoMargin_volResol] = name_unsided_to_color[convert_to_unsided_label(name_s)]\n",
    "\n",
    "                tb_volume_sectioned_alpha[polygon_ys_wrt_brainstemXYFullNoMargin_volResol.astype(np.int),\n",
    "                                        polygon_xs_wrt_brainstemXYFullNoMargin_volResol.astype(np.int),\n",
    "                                        z_wrt_brainstemXYFullNoMargin_volResol] = 50\n",
    "\n",
    "    except:\n",
    "        sys.stderr.write(\"Error reconstructing %s\\n\" % name_s)\n",
    "        continue"
   ]
  },
  {
   "cell_type": "code",
   "execution_count": 262,
   "metadata": {
    "collapsed": true
   },
   "outputs": [],
   "source": [
    "xmin = 520\n",
    "ymin = 80"
   ]
  },
  {
   "cell_type": "code",
   "execution_count": 263,
   "metadata": {
    "scrolled": true
   },
   "outputs": [],
   "source": [
    "tb_volume_sectioned_with_contours_actor = actor_volume_v2(tb_volume_sectioned_rgb[ymin:, xmin:, start_z:], \n",
    "                                                          origin=tb_volume_origin_wrt_wholebrain,\n",
    "                                                          alpha=tb_volume_sectioned_alpha[ymin:, xmin:, start_z:])"
   ]
  },
  {
   "cell_type": "code",
   "execution_count": 264,
   "metadata": {},
   "outputs": [],
   "source": [
    "launch_vtk([tb_volume_sectioned_with_contours_actor], init_angle='45')"
   ]
  },
  {
   "cell_type": "code",
   "execution_count": null,
   "metadata": {
    "collapsed": true
   },
   "outputs": [],
   "source": []
  }
 ],
 "metadata": {
  "kernelspec": {
   "display_name": "Python 2",
   "language": "python",
   "name": "python2"
  },
  "language_info": {
   "codemirror_mode": {
    "name": "ipython",
    "version": 2
   },
   "file_extension": ".py",
   "mimetype": "text/x-python",
   "name": "python",
   "nbconvert_exporter": "python",
   "pygments_lexer": "ipython2",
   "version": "2.7.12"
  }
 },
 "nbformat": 4,
 "nbformat_minor": 2
}
