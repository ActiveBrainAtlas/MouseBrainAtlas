{
 "cells": [
  {
   "cell_type": "code",
   "execution_count": 1,
   "metadata": {
    "scrolled": true
   },
   "outputs": [
    {
     "name": "stdout",
     "output_type": "stream",
     "text": [
      "Setting environment for Precision WorkStation\n"
     ]
    },
    {
     "name": "stderr",
     "output_type": "stream",
     "text": [
      "No vtk\n",
      "No vtk"
     ]
    }
   ],
   "source": [
    "%load_ext autoreload\n",
    "%autoreload 2\n",
    "\n",
    "import os\n",
    "import time\n",
    "import sys\n",
    "\n",
    "sys.path.append(os.path.join(os.environ['REPO_DIR'], 'utilities'))\n",
    "from utilities2015 import *\n",
    "from metadata import *\n",
    "from data_manager import *\n",
    "from distributed_utilities import *\n",
    "from preprocess_utilities import *"
   ]
  },
  {
   "cell_type": "markdown",
   "metadata": {},
   "source": [
    "- After receiving data of a new stack, put images and macros in corresponding folder.\n",
    "- Add the stack name to proper variables in `metadata.txt`."
   ]
  },
  {
   "cell_type": "code",
   "execution_count": 2,
   "metadata": {
    "collapsed": true
   },
   "outputs": [],
   "source": [
    "stack = 'CHATM3'\n",
    "# stack = 'ChatCryoJane201710'"
   ]
  },
  {
   "cell_type": "code",
   "execution_count": 3,
   "metadata": {
    "collapsed": true
   },
   "outputs": [],
   "source": [
    "# tb_fmt = 'png'\n",
    "tb_fmt = 'tif'"
   ]
  },
  {
   "cell_type": "markdown",
   "metadata": {},
   "source": [
    "- Use GUI, quality check and sort images.\n",
    "- Upload `sorted_filenames.txt` to S3"
   ]
  },
  {
   "cell_type": "code",
   "execution_count": 6,
   "metadata": {
    "collapsed": true
   },
   "outputs": [],
   "source": [
    "# transfer_data_synced(os.path.join('CSHL_data', stack), \n",
    "#                      from_hostname='s3raw', to_hostname='ec2', is_dir=True, include_only='*.'+tb_fmt)"
   ]
  },
  {
   "cell_type": "code",
   "execution_count": 7,
   "metadata": {
    "collapsed": true
   },
   "outputs": [],
   "source": [
    "# transfer_data_synced(os.path.join('CSHL_data_processed', stack, stack + '_sorted_filenames.txt'), \n",
    "#                      from_hostname='s3', to_hostname='ec2', is_dir=False)"
   ]
  },
  {
   "cell_type": "markdown",
   "metadata": {},
   "source": [
    "# Align"
   ]
  },
  {
   "cell_type": "code",
   "execution_count": 4,
   "metadata": {
    "collapsed": true
   },
   "outputs": [],
   "source": [
    "# ! rm /shared/CSHL_data_processed/MD662/MD662_sorted_filenames.txt"
   ]
  },
  {
   "cell_type": "code",
   "execution_count": 4,
   "metadata": {
    "scrolled": true
   },
   "outputs": [
    {
     "name": "stdout",
     "output_type": "stream",
     "text": [
      "rm -rf \"/media/yuncong/BstemAtlasData/CSHL_data_processed/CHATM3/CHATM3_sorted_filenames.txt\" && mkdir -p \"/media/yuncong/BstemAtlasData/CSHL_data_processed/CHATM3\"\n",
      "0\n",
      "aws s3 cp \"s3://mousebrainatlas-data/CSHL_data_processed/CHATM3/CHATM3_sorted_filenames.txt\" \"/media/yuncong/BstemAtlasData/CSHL_data_processed/CHATM3/CHATM3_sorted_filenames.txt\"\n",
      "0\n",
      "293 valid filenames\n"
     ]
    }
   ],
   "source": [
    "_, sections_to_filenames = DataManager.load_sorted_filenames(stack=stack, redownload=True) \n",
    "# Note that this could be the human-corrected version, in which case the transforms may not exist.\n",
    "valid_filenames = [fn for fn in sections_to_filenames.values() if not is_invalid(fn=fn)]\n",
    "print len(valid_filenames), 'valid filenames'"
   ]
  },
  {
   "cell_type": "code",
   "execution_count": 9,
   "metadata": {
    "collapsed": true
   },
   "outputs": [],
   "source": [
    "version = 'NtbNormalized'"
   ]
  },
  {
   "cell_type": "code",
   "execution_count": 10,
   "metadata": {
    "collapsed": true
   },
   "outputs": [],
   "source": [
    "script = os.path.join(REPO_DIR, 'preprocess', 'align_consecutive_v2.py')\n",
    "\n",
    "# if stack == 'CHATM3':\n",
    "input_dir = DataManager.get_image_dir_v2(stack=stack, prep_id=None, version=version, resol='thumbnail')\n",
    "# elif stack == 'ChatCryoJane201710':\n",
    "#     input_dir = os.path.join(THUMBNAIL_DATA_DIR, stack, 'ChatCryoJane201710_thumbnails_%(version)s' % {'version':version})\n",
    "# else:\n",
    "#     input_dir = os.path.join(RAW_DATA_DIR, stack)\n",
    "    \n",
    "output_dir = create_if_not_exists(os.path.join(THUMBNAIL_DATA_DIR, stack, stack + '_elastix_output'))"
   ]
  },
  {
   "cell_type": "code",
   "execution_count": 11,
   "metadata": {
    "collapsed": true
   },
   "outputs": [],
   "source": [
    "! rm -r {output_dir}"
   ]
  },
  {
   "cell_type": "code",
   "execution_count": 12,
   "metadata": {},
   "outputs": [
    {
     "name": "stdout",
     "output_type": "stream",
     "text": [
      "Align...\n",
      "rm -f ~/stderr_*; rm -f ~/stdout_*\n",
      "0\n"
     ]
    },
    {
     "name": "stderr",
     "output_type": "stream",
     "text": [
      "Run locally.\n"
     ]
    },
    {
     "name": "stdout",
     "output_type": "stream",
     "text": [
      "done in 1851.03668308 seconds\n"
     ]
    },
    {
     "name": "stderr",
     "output_type": "stream",
     "text": [
      "Jobs submitted. Use wait_qsub_complete() to wait for all execution to finish.\n"
     ]
    }
   ],
   "source": [
    "t = time.time()\n",
    "print 'Align...'\n",
    "\n",
    "run_distributed(\"%(script)s %(stack)s \\\"%(input_dir)s\\\" \\\"%(output_dir)s\\\" \\'%%(kwargs_str)s\\' %(fmt)s \" % \\\n",
    "                {'script': script,\n",
    "                'stack': stack,\n",
    "                'input_dir': input_dir,\n",
    "                'output_dir': output_dir,\n",
    "                'fmt': tb_fmt,\n",
    "                },\n",
    "                kwargs_list=[{'prev_fn': valid_filenames[i-1] + '_thumbnail_' + version, \n",
    "                              'curr_fn': valid_filenames[i] + '_thumbnail_' + version,\n",
    "                             'prev_sn': valid_filenames[i-1] ,\n",
    "                             'curr_sn': valid_filenames[i] } \n",
    "                             for i in range(1, len(valid_filenames))],\n",
    "                argument_type='list',\n",
    "                jobs_per_node=8,\n",
    "               local_only=True)\n",
    "\n",
    "# wait_qsub_complete()\n",
    "\n",
    "print 'done in', time.time() - t, 'seconds' # 252 seconds"
   ]
  },
  {
   "cell_type": "code",
   "execution_count": 13,
   "metadata": {},
   "outputs": [
    {
     "name": "stdout",
     "output_type": "stream",
     "text": [
      "aws s3 cp --recursive \"/media/yuncong/BstemAtlasData/CSHL_data_processed/CHATM2/CHATM2_elastix_output\" \"s3://mousebrainatlas-data/CSHL_data_processed/CHATM2/CHATM2_elastix_output\"\n",
      "0\n"
     ]
    }
   ],
   "source": [
    "upload_to_s3(output_dir, is_dir=True, local_root=DATA_ROOTDIR)"
   ]
  },
  {
   "cell_type": "markdown",
   "metadata": {},
   "source": [
    "# Check final metrics"
   ]
  },
  {
   "cell_type": "code",
   "execution_count": 14,
   "metadata": {
    "collapsed": true
   },
   "outputs": [],
   "source": [
    "import re\n",
    "\n",
    "final_metric = {}\n",
    "for i in range(1, len(valid_filenames)):\n",
    "#     if stack == 'ChatCryoJane201710':\n",
    "#         prev_fn = valid_filenames[i-1] + '-Ntb'\n",
    "#         curr_fn = valid_filenames[i] + '-Ntb'\n",
    "#     else:\n",
    "    prev_fn = valid_filenames[i-1]\n",
    "    curr_fn = valid_filenames[i]\n",
    "\n",
    "    with open(os.path.join(output_dir, curr_fn + '_to_' + prev_fn, 'elastix.log'), 'r') as f:\n",
    "        t = f.read()\n",
    "        g = re.search(\"Final metric value  = (.*?)\\n\", t)\n",
    "#         final_metric[(curr_fn, prev_fn)] = -float(g.groups()[0])\n",
    "        if g is None:\n",
    "            print i\n",
    "        final_metric[i] = float(g.groups()[0])"
   ]
  },
  {
   "cell_type": "code",
   "execution_count": 15,
   "metadata": {},
   "outputs": [
    {
     "data": {
      "image/png": "[encoded data removed]",
      "text/plain": [
       "<matplotlib.figure.Figure at 0x7fc1ec034ed0>"
      ]
     },
     "metadata": {},
     "output_type": "display_data"
    }
   ],
   "source": [
    "%matplotlib inline\n",
    "metric_arr = np.array(final_metric.values())\n",
    "plt.figure(figsize=(20,2));\n",
    "plt.ylim([-1, metric_arr.max()+.1]);\n",
    "plt.stem(metric_arr);\n",
    "plt.title('Mutual information of pairwise registration');\n",
    "plt.yticks(np.arange(-1, metric_arr.max()+.1, 0.1));\n",
    "plt.xlabel('Image index');\n",
    "plt.ylabel('Mutual info');"
   ]
  },
  {
   "cell_type": "code",
   "execution_count": 16,
   "metadata": {},
   "outputs": [
    {
     "name": "stdout",
     "output_type": "stream",
     "text": [
      "Pairs to check (moving, fixed):\n"
     ]
    },
    {
     "data": {
      "text/plain": [
       "[('CHATM2_slide52_2018_01_22-S1', 'CHATM2_slide51_2018_01_22-S1'),\n",
       " ('CHATM2_slide62_2018_02_14-S1', 'CHATM2_slide57_2018_01_22-S3'),\n",
       " ('CHATM2_slide82_2018_02_14-S1', 'CHATM2_slide80_2018_02_14-S3'),\n",
       " ('CHATM2_slide86_2018_02_13-S1', 'CHATM2_slide84_2018_02_14-S3')]"
      ]
     },
     "execution_count": 16,
     "metadata": {},
     "output_type": "execute_result"
    }
   ],
   "source": [
    "problematic_moving_indices = np.where(abs(metric_arr) < .6)[0] + 1\n",
    "\n",
    "print 'Pairs to check (moving, fixed):'\n",
    "[(valid_filenames[moving_ind], valid_filenames[moving_ind-1]) for moving_ind in problematic_moving_indices]"
   ]
  },
  {
   "cell_type": "code",
   "execution_count": 17,
   "metadata": {},
   "outputs": [
    {
     "name": "stdout",
     "output_type": "stream",
     "text": [
      "worst pair (moving, fixed): CHATM2_slide51_2018_01_22-S1 CHATM2_slide50_2018_01_22-S3\n"
     ]
    }
   ],
   "source": [
    "q = np.argmin(np.abs(final_metric.values()))\n",
    "print 'worst pair (moving, fixed):', valid_filenames[q], valid_filenames[q-1]"
   ]
  },
  {
   "cell_type": "markdown",
   "metadata": {},
   "source": [
    "- download `elastix_output/` to local machine, edit consecutive transforms in local GUI, generate `custom_transforms/` to S3, upload to S3.\n",
    "- determine anchor image, upload `anchor.txt` to S3."
   ]
  },
  {
   "cell_type": "markdown",
   "metadata": {},
   "source": [
    "# Compose consecutive transforms"
   ]
  },
  {
   "cell_type": "code",
   "execution_count": 173,
   "metadata": {},
   "outputs": [
    {
     "name": "stdout",
     "output_type": "stream",
     "text": [
      "rm -rf \"/shared/CSHL_data_processed/MD661/MD661_elastix_output\" && mkdir -p \"/shared/CSHL_data_processed/MD661\"\n",
      "aws s3 cp --recursive \"s3://mousebrainatlas-data/CSHL_data_processed/MD661/MD661_elastix_output\" \"/shared/CSHL_data_processed/MD661/MD661_elastix_output\"\n"
     ]
    }
   ],
   "source": [
    "transfer_data_synced(os.path.join('CSHL_data_processed', stack, stack + '_elastix_output'), \n",
    "                     from_hostname='s3', to_hostname='ec2', is_dir=True)"
   ]
  },
  {
   "cell_type": "code",
   "execution_count": 56,
   "metadata": {
    "scrolled": true
   },
   "outputs": [
    {
     "name": "stdout",
     "output_type": "stream",
     "text": [
      "rm -rf \"/media/yuncong/BstemAtlasData/CSHL_data_processed/CHATM3/CHATM3_custom_transforms\" && mkdir -p \"/media/yuncong/BstemAtlasData/CSHL_data_processed/CHATM3\"\n",
      "0\n",
      "aws s3 cp --recursive \"s3://mousebrainatlas-data/CSHL_data_processed/CHATM3/CHATM3_custom_transforms\" \"/media/yuncong/BstemAtlasData/CSHL_data_processed/CHATM3/CHATM3_custom_transforms\"\n",
      "0\n"
     ]
    }
   ],
   "source": [
    "download_from_s3(os.path.join('CSHL_data_processed', stack, stack + '_custom_transforms'), \n",
    "                 is_dir=True, local_root=DATA_ROOTDIR)"
   ]
  },
  {
   "cell_type": "code",
   "execution_count": 57,
   "metadata": {},
   "outputs": [
    {
     "name": "stdout",
     "output_type": "stream",
     "text": [
      "rm -rf \"/media/yuncong/BstemAtlasData/CSHL_data_processed/CHATM3/CHATM3_anchor.txt\" && mkdir -p \"/media/yuncong/BstemAtlasData/CSHL_data_processed/CHATM3\"\n",
      "0\n",
      "aws s3 cp \"s3://mousebrainatlas-data/CSHL_data_processed/CHATM3/CHATM3_anchor.txt\" \"/media/yuncong/BstemAtlasData/CSHL_data_processed/CHATM3/CHATM3_anchor.txt\"\n",
      "0\n"
     ]
    }
   ],
   "source": [
    "download_from_s3(os.path.join('CSHL_data_processed', stack, stack + '_anchor.txt'), \n",
    "                     is_dir=False,\n",
    "                    local_root=DATA_ROOTDIR)"
   ]
  },
  {
   "cell_type": "code",
   "execution_count": 11,
   "metadata": {},
   "outputs": [
    {
     "name": "stdout",
     "output_type": "stream",
     "text": [
      "anchor_idx = 163\n"
     ]
    }
   ],
   "source": [
    "anchor_fn = DataManager.load_anchor_filename(stack=stack)\n",
    "# if stack == 'ChatCryoJane201710':\n",
    "#     anchor_idx = valid_filenames.index(anchor_fn + '-Chat')\n",
    "# else:\n",
    "anchor_idx = valid_filenames.index(anchor_fn)\n",
    "print 'anchor_idx =', anchor_idx"
   ]
  },
  {
   "cell_type": "code",
   "execution_count": 19,
   "metadata": {
    "collapsed": true
   },
   "outputs": [],
   "source": [
    "script = os.path.join(REPO_DIR, 'preprocess', 'compose_transform_thumbnail_v2.py')\n",
    "input_dir = os.path.join(DATA_DIR, stack, stack + '_elastix_output')\n",
    "output_fp = os.path.join(DATA_DIR, stack, '%(stack)s_transformsTo_%(anchor_fn)s.pkl' % \\\n",
    "                         dict(stack=stack, anchor_fn=anchor_fn))"
   ]
  },
  {
   "cell_type": "code",
   "execution_count": 20,
   "metadata": {
    "collapsed": true
   },
   "outputs": [],
   "source": [
    "! rm -f \"{output_fp}\""
   ]
  },
  {
   "cell_type": "code",
   "execution_count": 21,
   "metadata": {},
   "outputs": [
    {
     "name": "stdout",
     "output_type": "stream",
     "text": [
      "Composing transform...\n",
      "rm -f ~/stderr_*; rm -f ~/stdout_*\n",
      "0\n"
     ]
    },
    {
     "name": "stderr",
     "output_type": "stream",
     "text": [
      "Run locally.\n"
     ]
    },
    {
     "name": "stdout",
     "output_type": "stream",
     "text": [
      "done in 14.4790461063 seconds\n"
     ]
    },
    {
     "name": "stderr",
     "output_type": "stream",
     "text": [
      "Jobs submitted. Use wait_qsub_complete() to wait for all execution to finish.\n"
     ]
    }
   ],
   "source": [
    "t = time.time()\n",
    "print 'Composing transform...'\n",
    "\n",
    "run_distributed(\"%(script)s %(stack)s \\\"%(input_dir)s\\\" \\'%%(kwargs_str)s\\' %(anchor_idx)d \\\"%(output_fp)s\\\"\" % \\\n",
    "            {'stack': stack,\n",
    "            'script': script,\n",
    "            'input_dir': input_dir,\n",
    "            'anchor_idx': anchor_idx,\n",
    "            'output_fp': output_fp},\n",
    "            kwargs_list=[{'filenames': valid_filenames}],\n",
    "            argument_type='list',\n",
    "               local_only=True)\n",
    "\n",
    "# wait_qsub_complete()\n",
    "\n",
    "print 'done in', time.time() - t, 'seconds' # 20 seconds"
   ]
  },
  {
   "cell_type": "code",
   "execution_count": 22,
   "metadata": {},
   "outputs": [
    {
     "name": "stdout",
     "output_type": "stream",
     "text": [
      "aws s3 cp \"/media/yuncong/BstemAtlasData/CSHL_data_processed/CHATM2/CHATM2_transformsTo_CHATM2_slide57_2018_01_22-S3.pkl\" \"s3://mousebrainatlas-data/CSHL_data_processed/CHATM2/CHATM2_transformsTo_CHATM2_slide57_2018_01_22-S3.pkl\"\n",
      "0\n"
     ]
    }
   ],
   "source": [
    "upload_to_s3(output_fp)"
   ]
  },
  {
   "cell_type": "markdown",
   "metadata": {},
   "source": [
    "# Warp"
   ]
  },
  {
   "cell_type": "code",
   "execution_count": 12,
   "metadata": {},
   "outputs": [
    {
     "name": "stdout",
     "output_type": "stream",
     "text": [
      "rm -rf \"/media/yuncong/BstemAtlasData/CSHL_data_processed/CHATM2/CHATM2_transformsTo_CHATM2_slide57_2018_01_22-S3.pkl\" && mkdir -p \"/media/yuncong/BstemAtlasData/CSHL_data_processed/CHATM2\"\n",
      "0\n",
      "aws s3 cp \"s3://mousebrainatlas-data/CSHL_data_processed/CHATM2/CHATM2_transformsTo_CHATM2_slide57_2018_01_22-S3.pkl\" \"/media/yuncong/BstemAtlasData/CSHL_data_processed/CHATM2/CHATM2_transformsTo_CHATM2_slide57_2018_01_22-S3.pkl\"\n",
      "0\n"
     ]
    }
   ],
   "source": [
    "transforms_fp = os.path.join(DATA_DIR, stack, '%(stack)s_transformsTo_%(anchor_fn)s.pkl' % \\\n",
    "                                                dict(stack=stack, anchor_fn=anchor_fn))\n",
    "download_from_s3(transforms_fp, redownload=True)"
   ]
  },
  {
   "cell_type": "code",
   "execution_count": 13,
   "metadata": {
    "collapsed": true
   },
   "outputs": [],
   "source": [
    "# if stack in all_nissl_stacks:\n",
    "#     pad_bg_color = 'white'\n",
    "# elif stack == 'ChatCryoJane201710':\n",
    "#     pad_bg_color = 'black'\n",
    "# else:\n",
    "pad_bg_color = 'black'"
   ]
  },
  {
   "cell_type": "code",
   "execution_count": 14,
   "metadata": {
    "collapsed": true
   },
   "outputs": [],
   "source": [
    "prep_id = 1"
   ]
  },
  {
   "cell_type": "code",
   "execution_count": 15,
   "metadata": {
    "collapsed": true
   },
   "outputs": [],
   "source": [
    "version = 'NtbNormalized'"
   ]
  },
  {
   "cell_type": "code",
   "execution_count": 16,
   "metadata": {
    "scrolled": true
   },
   "outputs": [
    {
     "name": "stdout",
     "output_type": "stream",
     "text": [
      "out_dir: /media/yuncong/BstemAtlasData/CSHL_data_processed/CHATM2/CHATM2_prep1_thumbnail_NtbNormalized\n"
     ]
    }
   ],
   "source": [
    "if stack in ['CHATM3', 'CHATM2']:\n",
    "    input_dir = DataManager.get_image_dir_v2(stack=stack, prep_id=None, version=version, resol='thumbnail')\n",
    "else:\n",
    "    input_dir = os.path.join(RAW_DATA_DIR, stack)\n",
    "\n",
    "out_dir = DataManager.get_image_dir_v2(stack=stack, prep_id=prep_id, resol='thumbnail', version=version)\n",
    "print 'out_dir:', out_dir\n",
    "script = os.path.join(REPO_DIR, 'preprocess', 'warp_crop_IM_v3.py')"
   ]
  },
  {
   "cell_type": "code",
   "execution_count": 17,
   "metadata": {
    "collapsed": true
   },
   "outputs": [],
   "source": [
    "! rm -rf {out_dir}"
   ]
  },
  {
   "cell_type": "code",
   "execution_count": 31,
   "metadata": {
    "scrolled": true
   },
   "outputs": [
    {
     "name": "stdout",
     "output_type": "stream",
     "text": [
      "Warping...\n",
      "rm -f ~/stderr_*; rm -f ~/stdout_*\n",
      "0\n"
     ]
    },
    {
     "name": "stderr",
     "output_type": "stream",
     "text": [
      "Run locally.\n"
     ]
    },
    {
     "name": "stdout",
     "output_type": "stream",
     "text": [
      "done in 48.9562909603 seconds\n"
     ]
    },
    {
     "name": "stderr",
     "output_type": "stream",
     "text": [
      "Jobs submitted. Use wait_qsub_complete() to wait for all execution to finish.\n"
     ]
    }
   ],
   "source": [
    "t = time.time()\n",
    "print 'Warping...'\n",
    "\n",
    "transforms_to_anchor = DataManager.load_transforms(stack=stack, downsample_factor=32, use_inverse=False, anchor_fn=anchor_fn)\n",
    "\n",
    "if pad_bg_color == 'auto': # useful for alternatively stained stacks where bg varies depending on stain on each section\n",
    "    run_distributed('%(script)s %(stack)s \\\"%%(input_fp)s\\\" \\\"%%(output_fp)s\\\" %%(transform)s thumbnail 0 0 2000 1500 %%(pad_bg_color)s' % \\\n",
    "                    {'script': script,\n",
    "                    'stack': stack,\n",
    "                    },\n",
    "                    kwargs_list=[{'transform': ','.join(map(str, transforms_to_anchor[fn].flatten())),\n",
    "                                'input_fp': os.path.join(input_dir, \\\n",
    "                                                        fn + '_thumbnail_' + version + '.' + tb_fmt \\\n",
    "                                              if version is not None \\\n",
    "                                              else fn + '.' + tb_fmt),\n",
    "                                  'output_fp': DataManager.get_image_filepath_v2(stack=stack, fn=fn, prep_id=prep_id, version=version, resol='thumbnail'),\n",
    "                                'pad_bg_color': 'black' if fn.split('-')[1][0] == 'F' else 'white'}\n",
    "                                for fn in valid_filenames],\n",
    "                    argument_type='single',\n",
    "                   jobs_per_node=8,\n",
    "                   local_only=True)\n",
    "else:\n",
    "    run_distributed('%(script)s %(stack)s \\\"%%(input_fp)s\\\" \\\"%%(output_fp)s\\\" %%(transform)s thumbnail 0 0 2000 1500 %(pad_bg_color)s' % \\\n",
    "                    {'script': script,\n",
    "                    'stack': stack,\n",
    "                    'pad_bg_color': pad_bg_color},\n",
    "                    kwargs_list=[{'transform': ','.join(map(str, transforms_to_anchor[fn].flatten())),\n",
    "                                'input_fp': os.path.join(input_dir, \\\n",
    "                                                        fn + '_thumbnail_' + version + '.' + tb_fmt \\\n",
    "                                              if version is not None \\\n",
    "                                              else fn + '.' + tb_fmt),\n",
    "                                  'output_fp': DataManager.get_image_filepath_v2(stack=stack, fn=fn, prep_id=prep_id, version=version, resol='thumbnail'),\n",
    "                                 }\n",
    "                                for fn in valid_filenames],\n",
    "                    argument_type='single',\n",
    "                   jobs_per_node=8,\n",
    "                   local_only=True)\n",
    "\n",
    "# wait_qsub_complete()\n",
    "    \n",
    "print 'done in', time.time() - t, 'seconds' # 300 seconds."
   ]
  },
  {
   "cell_type": "code",
   "execution_count": 32,
   "metadata": {},
   "outputs": [
    {
     "name": "stdout",
     "output_type": "stream",
     "text": [
      "aws s3 cp --recursive \"/media/yuncong/BstemAtlasData/CSHL_data_processed/CHATM2/CHATM2_prep1_thumbnail_NtbNormalized\" \"s3://mousebrainatlas-data/CSHL_data_processed/CHATM2/CHATM2_prep1_thumbnail_NtbNormalized\"\n",
      "0\n"
     ]
    }
   ],
   "source": [
    "upload_to_s3(out_dir, is_dir=True, local_root=DATA_ROOTDIR)"
   ]
  },
  {
   "cell_type": "markdown",
   "metadata": {},
   "source": [
    "- Download aligned images to local. In GUI, check alignment correctness.\n",
    "- Place cropbox. Upload `cropbox.txt` to S3.\n",
    "- If section order is altered, redo the process starting from \"Align\"."
   ]
  },
  {
   "cell_type": "markdown",
   "metadata": {},
   "source": [
    "- (Recommended) Run `reconstruct/construct_thumbnail_volume_v3.ipynb` notebook. Check the smoothness of virtual re-sectioning in brain labeling gui."
   ]
  },
  {
   "cell_type": "markdown",
   "metadata": {},
   "source": [
    "# Crop"
   ]
  },
  {
   "cell_type": "code",
   "execution_count": 33,
   "metadata": {},
   "outputs": [
    {
     "name": "stdout",
     "output_type": "stream",
     "text": [
      "rm -rf \"/media/yuncong/BstemAtlasData/CSHL_data_processed/CHATM2/CHATM2_alignedTo_CHATM2_slide57_2018_01_22-S3_cropbox.txt\" && mkdir -p \"/media/yuncong/BstemAtlasData/CSHL_data_processed/CHATM2\"\n",
      "0\n",
      "aws s3 cp \"s3://mousebrainatlas-data/CSHL_data_processed/CHATM2/CHATM2_alignedTo_CHATM2_slide57_2018_01_22-S3_cropbox.txt\" \"/media/yuncong/BstemAtlasData/CSHL_data_processed/CHATM2/CHATM2_alignedTo_CHATM2_slide57_2018_01_22-S3_cropbox.txt\"\n",
      "0\n"
     ]
    }
   ],
   "source": [
    "stack = 'CHATM2'\n",
    "download_from_s3(DataManager.get_cropbox_filename(stack), redownload=True)"
   ]
  },
  {
   "cell_type": "code",
   "execution_count": 34,
   "metadata": {
    "scrolled": true
   },
   "outputs": [
    {
     "name": "stdout",
     "output_type": "stream",
     "text": [
      "524 97 788 570\n"
     ]
    }
   ],
   "source": [
    "xmin, xmax, ymin, ymax, first_sec, last_sec = DataManager.load_cropbox(stack=stack)\n",
    "w = xmax + 1 - xmin\n",
    "h = ymax + 1 - ymin\n",
    "x = xmin\n",
    "y = ymin\n",
    "\n",
    "print x,y,w,h"
   ]
  },
  {
   "cell_type": "code",
   "execution_count": 207,
   "metadata": {
    "collapsed": true
   },
   "outputs": [],
   "source": [
    "# first_fn = sections_to_filenames[first_sec]\n",
    "# last_fn = sections_to_filenames[last_sec]"
   ]
  },
  {
   "cell_type": "code",
   "execution_count": 208,
   "metadata": {
    "collapsed": true
   },
   "outputs": [],
   "source": [
    "# first_idx_among_valid = valid_filenames.index(first_fn)\n",
    "# last_idx_among_valid = valid_filenames.index(last_fn)"
   ]
  },
  {
   "cell_type": "markdown",
   "metadata": {},
   "source": [
    "# Crop Thumbnail"
   ]
  },
  {
   "cell_type": "code",
   "execution_count": 36,
   "metadata": {},
   "outputs": [
    {
     "name": "stdout",
     "output_type": "stream",
     "text": [
      "rm -r /media/yuncong/BstemAtlasData/CSHL_data_processed/CHATM2/CHATM2_prep2_thumbnail_NtbNormalized\n",
      "1\n",
      "mkdir -p /media/yuncong/BstemAtlasData/CSHL_data_processed/CHATM2/CHATM2_prep2_thumbnail_NtbNormalized\n",
      "0\n"
     ]
    }
   ],
   "source": [
    "# input_dir = os.path.join(DATA_DIR, stack, \"%(stack)s_thumbnail_alignedTo_%(anchor_fn)s\" % \\\n",
    "#                            {'stack': stack, 'anchor_fn': anchor_fn})\n",
    "\n",
    "# output_dir = os.path.join(DATA_DIR, stack, \"%(stack)s_thumbnail_alignedTo_%(anchor_fn)s_cropped\" % \\\n",
    "#                            {'stack': stack, 'anchor_fn': anchor_fn})\n",
    "\n",
    "input_dir = DataManager.get_image_dir_v2(stack=stack, prep_id=1, resol='thumbnail', version='NtbNormalized')\n",
    "download_from_s3(input_dir, is_dir=True, local_root=DATA_ROOTDIR)\n",
    "\n",
    "output_dir = DataManager.get_image_dir_v2(stack=stack, prep_id=2, resol='thumbnail', version='NtbNormalized')\n",
    "execute_command('rm -r ' + output_dir);\n",
    "execute_command('mkdir -p ' + output_dir);"
   ]
  },
  {
   "cell_type": "code",
   "execution_count": 37,
   "metadata": {
    "collapsed": true
   },
   "outputs": [],
   "source": [
    "_, sections_to_filenames = DataManager.load_sorted_filenames(stack=stack) \n",
    "valid_filenames = [fn for fn in sections_to_filenames.values() if not is_invalid(fn=fn)]"
   ]
  },
  {
   "cell_type": "code",
   "execution_count": 41,
   "metadata": {},
   "outputs": [
    {
     "name": "stdout",
     "output_type": "stream",
     "text": [
      "convert \"/media/yuncong/BstemAtlasData/CSHL_data_processed/CHATM2/CHATM2_prep1_thumbnail_NtbNormalized/CHATM2_slide01_2018_01_18-S1_prep1_thumbnail_NtbNormalized.tif\" -crop 788x570+524+97  \"/media/yuncong/BstemAtlasData/CSHL_data_processed/CHATM2/CHATM2_prep2_thumbnail_NtbNormalized/CHATM2_slide01_2018_01_18-S1_prep2_thumbnail_NtbNormalized.tif\"\n",
      "0\n",
      "convert \"/media/yuncong/BstemAtlasData/CSHL_data_processed/CHATM2/CHATM2_prep1_thumbnail_NtbNormalized/CHATM2_slide02_2018_01_18-S1_prep1_thumbnail_NtbNormalized.tif\" -crop 788x570+524+97  \"/media/yuncong/BstemAtlasData/CSHL_data_processed/CHATM2/CHATM2_prep2_thumbnail_NtbNormalized/CHATM2_slide02_2018_01_18-S1_prep2_thumbnail_NtbNormalized.tif\"\n",
      "0\n",
      "convert \"/media/yuncong/BstemAtlasData/CSHL_data_processed/CHATM2/CHATM2_prep1_thumbnail_NtbNormalized/CHATM2_slide01_2018_01_18-S2_prep1_thumbnail_NtbNormalized.tif\" -crop 788x570+524+97  \"/media/yuncong/BstemAtlasData/CSHL_data_processed/CHATM2/CHATM2_prep2_thumbnail_NtbNormalized/CHATM2_slide01_2018_01_18-S2_prep2_thumbnail_NtbNormalized.tif\"\n"
     ]
    },
    {
     "name": "stderr",
     "output_type": "stream",
     "text": [
      "Crop: 0.07 seconds.\n",
      "Crop: 0.08 seconds.\n",
      "Crop: 0.07 seconds.\n"
     ]
    },
    {
     "name": "stdout",
     "output_type": "stream",
     "text": [
      "0\n",
      "convert \"/media/yuncong/BstemAtlasData/CSHL_data_processed/CHATM2/CHATM2_prep1_thumbnail_NtbNormalized/CHATM2_slide02_2018_01_18-S2_prep1_thumbnail_NtbNormalized.tif\" -crop 788x570+524+97  \"/media/yuncong/BstemAtlasData/CSHL_data_processed/CHATM2/CHATM2_prep2_thumbnail_NtbNormalized/CHATM2_slide02_2018_01_18-S2_prep2_thumbnail_NtbNormalized.tif\"\n",
      "0\n",
      "convert \"/media/yuncong/BstemAtlasData/CSHL_data_processed/CHATM2/CHATM2_prep1_thumbnail_NtbNormalized/CHATM2_slide01_2018_01_18-S3_prep1_thumbnail_NtbNormalized.tif\" -crop 788x570+524+97  \"/media/yuncong/BstemAtlasData/CSHL_data_processed/CHATM2/CHATM2_prep2_thumbnail_NtbNormalized/CHATM2_slide01_2018_01_18-S3_prep2_thumbnail_NtbNormalized.tif\"\n",
      "0\n",
      "convert \"/media/yuncong/BstemAtlasData/CSHL_data_processed/CHATM2/CHATM2_prep1_thumbnail_NtbNormalized/CHATM2_slide02_2018_01_18-S3_prep1_thumbnail_NtbNormalized.tif\" -crop 788x570+524+97  \"/media/yuncong/BstemAtlasData/CSHL_data_processed/CHATM2/CHATM2_prep2_thumbnail_NtbNormalized/CHATM2_slide02_2018_01_18-S3_prep2_thumbnail_NtbNormalized.tif\"\n"
     ]
    },
    {
     "name": "stderr",
     "output_type": "stream",
     "text": [
      "Crop: 0.07 seconds.\n",
      "Crop: 0.07 seconds.\n",
      "Crop: 0.08 seconds.\n"
     ]
    },
    {
     "name": "stdout",
     "output_type": "stream",
     "text": [
      "0\n",
      "convert \"/media/yuncong/BstemAtlasData/CSHL_data_processed/CHATM2/CHATM2_prep1_thumbnail_NtbNormalized/CHATM2_slide03_2018_01_18-S1_prep1_thumbnail_NtbNormalized.tif\" -crop 788x570+524+97  \"/media/yuncong/BstemAtlasData/CSHL_data_processed/CHATM2/CHATM2_prep2_thumbnail_NtbNormalized/CHATM2_slide03_2018_01_18-S1_prep2_thumbnail_NtbNormalized.tif\"\n",
      "0\n",
      "convert \"/media/yuncong/BstemAtlasData/CSHL_data_processed/CHATM2/CHATM2_prep1_thumbnail_NtbNormalized/CHATM2_slide04_2018_01_18-S1_prep1_thumbnail_NtbNormalized.tif\" -crop 788x570+524+97  \"/media/yuncong/BstemAtlasData/CSHL_data_processed/CHATM2/CHATM2_prep2_thumbnail_NtbNormalized/CHATM2_slide04_2018_01_18-S1_prep2_thumbnail_NtbNormalized.tif\"\n",
      "0\n",
      "convert \"/media/yuncong/BstemAtlasData/CSHL_data_processed/CHATM2/CHATM2_prep1_thumbnail_NtbNormalized/CHATM2_slide03_2018_01_18-S2_prep1_thumbnail_NtbNormalized.tif\" -crop 788x570+524+97  \"/media/yuncong/BstemAtlasData/CSHL_data_processed/CHATM2/CHATM2_prep2_thumbnail_NtbNormalized/CHATM2_slide03_2018_01_18-S2_prep2_thumbnail_NtbNormalized.tif\"\n"
     ]
    },
    {
     "name": "stderr",
     "output_type": "stream",
     "text": [
      "Crop: 0.07 seconds.\n",
      "Crop: 0.08 seconds.\n",
      "Crop: 0.08 seconds.\n"
     ]
    },
    {
     "name": "stdout",
     "output_type": "stream",
     "text": [
      "0\n",
      "convert \"/media/yuncong/BstemAtlasData/CSHL_data_processed/CHATM2/CHATM2_prep1_thumbnail_NtbNormalized/CHATM2_slide04_2018_01_18-S2_prep1_thumbnail_NtbNormalized.tif\" -crop 788x570+524+97  \"/media/yuncong/BstemAtlasData/CSHL_data_processed/CHATM2/CHATM2_prep2_thumbnail_NtbNormalized/CHATM2_slide04_2018_01_18-S2_prep2_thumbnail_NtbNormalized.tif\"\n",
      "0\n",
      "convert \"/media/yuncong/BstemAtlasData/CSHL_data_processed/CHATM2/CHATM2_prep1_thumbnail_NtbNormalized/CHATM2_slide03_2018_01_18-S3_prep1_thumbnail_NtbNormalized.tif\" -crop 788x570+524+97  \"/media/yuncong/BstemAtlasData/CSHL_data_processed/CHATM2/CHATM2_prep2_thumbnail_NtbNormalized/CHATM2_slide03_2018_01_18-S3_prep2_thumbnail_NtbNormalized.tif\"\n",
      "0\n",
      "convert \"/media/yuncong/BstemAtlasData/CSHL_data_processed/CHATM2/CHATM2_prep1_thumbnail_NtbNormalized/CHATM2_slide04_2018_01_18-S3_prep1_thumbnail_NtbNormalized.tif\" -crop 788x570+524+97  \"/media/yuncong/BstemAtlasData/CSHL_data_processed/CHATM2/CHATM2_prep2_thumbnail_NtbNormalized/CHATM2_slide04_2018_01_18-S3_prep2_thumbnail_NtbNormalized.tif\"\n"
     ]
    },
    {
     "name": "stderr",
     "output_type": "stream",
     "text": [
      "Crop: 0.08 seconds.\n",
      "Crop: 0.07 seconds.\n",
      "Crop: 0.08 seconds.\n"
     ]
    },
    {
     "name": "stdout",
     "output_type": "stream",
     "text": [
      "0\n",
      "convert \"/media/yuncong/BstemAtlasData/CSHL_data_processed/CHATM2/CHATM2_prep1_thumbnail_NtbNormalized/CHATM2_slide05_2018_01_18-S1_prep1_thumbnail_NtbNormalized.tif\" -crop 788x570+524+97  \"/media/yuncong/BstemAtlasData/CSHL_data_processed/CHATM2/CHATM2_prep2_thumbnail_NtbNormalized/CHATM2_slide05_2018_01_18-S1_prep2_thumbnail_NtbNormalized.tif\"\n",
      "0\n",
      "convert \"/media/yuncong/BstemAtlasData/CSHL_data_processed/CHATM2/CHATM2_prep1_thumbnail_NtbNormalized/CHATM2_slide06_2018_01_18-S1_prep1_thumbnail_NtbNormalized.tif\" -crop 788x570+524+97  \"/media/yuncong/BstemAtlasData/CSHL_data_processed/CHATM2/CHATM2_prep2_thumbnail_NtbNormalized/CHATM2_slide06_2018_01_18-S1_prep2_thumbnail_NtbNormalized.tif\"\n",
      "0\n",
      "convert \"/media/yuncong/BstemAtlasData/CSHL_data_processed/CHATM2/CHATM2_prep1_thumbnail_NtbNormalized/CHATM2_slide05_2018_01_18-S2_prep1_thumbnail_NtbNormalized.tif\" -crop 788x570+524+97  \"/media/yuncong/BstemAtlasData/CSHL_data_processed/CHATM2/CHATM2_prep2_thumbnail_NtbNormalized/CHATM2_slide05_2018_01_18-S2_prep2_thumbnail_NtbNormalized.tif\"\n"
     ]
    },
    {
     "name": "stderr",
     "output_type": "stream",
     "text": [
      "Crop: 0.08 seconds.\n",
      "Crop: 0.08 seconds.\n",
      "Crop: 0.07 seconds.\n"
     ]
    },
    {
     "name": "stdout",
     "output_type": "stream",
     "text": [
      "0\n",
      "convert \"/media/yuncong/BstemAtlasData/CSHL_data_processed/CHATM2/CHATM2_prep1_thumbnail_NtbNormalized/CHATM2_slide06_2018_01_18-S2_prep1_thumbnail_NtbNormalized.tif\" -crop 788x570+524+97  \"/media/yuncong/BstemAtlasData/CSHL_data_processed/CHATM2/CHATM2_prep2_thumbnail_NtbNormalized/CHATM2_slide06_2018_01_18-S2_prep2_thumbnail_NtbNormalized.tif\"\n",
      "0\n",
      "convert \"/media/yuncong/BstemAtlasData/CSHL_data_processed/CHATM2/CHATM2_prep1_thumbnail_NtbNormalized/CHATM2_slide05_2018_01_18-S3_prep1_thumbnail_NtbNormalized.tif\" -crop 788x570+524+97  \"/media/yuncong/BstemAtlasData/CSHL_data_processed/CHATM2/CHATM2_prep2_thumbnail_NtbNormalized/CHATM2_slide05_2018_01_18-S3_prep2_thumbnail_NtbNormalized.tif\"\n",
      "0\n",
      "convert \"/media/yuncong/BstemAtlasData/CSHL_data_processed/CHATM2/CHATM2_prep1_thumbnail_NtbNormalized/CHATM2_slide06_2018_01_18-S3_prep1_thumbnail_NtbNormalized.tif\" -crop 788x570+524+97  \"/media/yuncong/BstemAtlasData/CSHL_data_processed/CHATM2/CHATM2_prep2_thumbnail_NtbNormalized/CHATM2_slide06_2018_01_18-S3_prep2_thumbnail_NtbNormalized.tif\"\n"
     ]
    },
    {
     "name": "stderr",
     "output_type": "stream",
     "text": [
      "Crop: 0.09 seconds.\n",
      "Crop: 0.08 seconds.\n",
      "Crop: 0.07 seconds.\n"
     ]
    },
    {
     "name": "stdout",
     "output_type": "stream",
     "text": [
      "0\n",
      "convert \"/media/yuncong/BstemAtlasData/CSHL_data_processed/CHATM2/CHATM2_prep1_thumbnail_NtbNormalized/CHATM2_slide07_2018_01_18-S1_prep1_thumbnail_NtbNormalized.tif\" -crop 788x570+524+97  \"/media/yuncong/BstemAtlasData/CSHL_data_processed/CHATM2/CHATM2_prep2_thumbnail_NtbNormalized/CHATM2_slide07_2018_01_18-S1_prep2_thumbnail_NtbNormalized.tif\"\n",
      "0\n",
      "convert \"/media/yuncong/BstemAtlasData/CSHL_data_processed/CHATM2/CHATM2_prep1_thumbnail_NtbNormalized/CHATM2_slide08_2018_01_18-S1_prep1_thumbnail_NtbNormalized.tif\" -crop 788x570+524+97  \"/media/yuncong/BstemAtlasData/CSHL_data_processed/CHATM2/CHATM2_prep2_thumbnail_NtbNormalized/CHATM2_slide08_2018_01_18-S1_prep2_thumbnail_NtbNormalized.tif\"\n",
      "0\n",
      "convert \"/media/yuncong/BstemAtlasData/CSHL_data_processed/CHATM2/CHATM2_prep1_thumbnail_NtbNormalized/CHATM2_slide07_2018_01_18-S2_prep1_thumbnail_NtbNormalized.tif\" -crop 788x570+524+97  \"/media/yuncong/BstemAtlasData/CSHL_data_processed/CHATM2/CHATM2_prep2_thumbnail_NtbNormalized/CHATM2_slide07_2018_01_18-S2_prep2_thumbnail_NtbNormalized.tif\"\n"
     ]
    },
    {
     "name": "stderr",
     "output_type": "stream",
     "text": [
      "Crop: 0.08 seconds.\n",
      "Crop: 0.08 seconds.\n",
      "Crop: 0.08 seconds.\n"
     ]
    },
    {
     "name": "stdout",
     "output_type": "stream",
     "text": [
      "0\n",
      "convert \"/media/yuncong/BstemAtlasData/CSHL_data_processed/CHATM2/CHATM2_prep1_thumbnail_NtbNormalized/CHATM2_slide08_2018_01_18-S2_prep1_thumbnail_NtbNormalized.tif\" -crop 788x570+524+97  \"/media/yuncong/BstemAtlasData/CSHL_data_processed/CHATM2/CHATM2_prep2_thumbnail_NtbNormalized/CHATM2_slide08_2018_01_18-S2_prep2_thumbnail_NtbNormalized.tif\"\n",
      "0\n",
      "convert \"/media/yuncong/BstemAtlasData/CSHL_data_processed/CHATM2/CHATM2_prep1_thumbnail_NtbNormalized/CHATM2_slide07_2018_01_18-S3_prep1_thumbnail_NtbNormalized.tif\" -crop 788x570+524+97  \"/media/yuncong/BstemAtlasData/CSHL_data_processed/CHATM2/CHATM2_prep2_thumbnail_NtbNormalized/CHATM2_slide07_2018_01_18-S3_prep2_thumbnail_NtbNormalized.tif\"\n",
      "0\n",
      "convert \"/media/yuncong/BstemAtlasData/CSHL_data_processed/CHATM2/CHATM2_prep1_thumbnail_NtbNormalized/CHATM2_slide08_2018_01_18-S3_prep1_thumbnail_NtbNormalized.tif\" -crop 788x570+524+97  \"/media/yuncong/BstemAtlasData/CSHL_data_processed/CHATM2/CHATM2_prep2_thumbnail_NtbNormalized/CHATM2_slide08_2018_01_18-S3_prep2_thumbnail_NtbNormalized.tif\"\n"
     ]
    },
    {
     "name": "stderr",
     "output_type": "stream",
     "text": [
      "Crop: 0.08 seconds.\n",
      "Crop: 0.08 seconds.\n",
      "Crop: 0.08 seconds.\n"
     ]
    },
    {
     "name": "stdout",
     "output_type": "stream",
     "text": [
      "0\n",
      "convert \"/media/yuncong/BstemAtlasData/CSHL_data_processed/CHATM2/CHATM2_prep1_thumbnail_NtbNormalized/CHATM2_slide09_2018_01_18-S1_prep1_thumbnail_NtbNormalized.tif\" -crop 788x570+524+97  \"/media/yuncong/BstemAtlasData/CSHL_data_processed/CHATM2/CHATM2_prep2_thumbnail_NtbNormalized/CHATM2_slide09_2018_01_18-S1_prep2_thumbnail_NtbNormalized.tif\"\n",
      "0\n",
      "convert \"/media/yuncong/BstemAtlasData/CSHL_data_processed/CHATM2/CHATM2_prep1_thumbnail_NtbNormalized/CHATM2_slide10_2018_01_18-S1_prep1_thumbnail_NtbNormalized.tif\" -crop 788x570+524+97  \"/media/yuncong/BstemAtlasData/CSHL_data_processed/CHATM2/CHATM2_prep2_thumbnail_NtbNormalized/CHATM2_slide10_2018_01_18-S1_prep2_thumbnail_NtbNormalized.tif\"\n",
      "0\n",
      "convert \"/media/yuncong/BstemAtlasData/CSHL_data_processed/CHATM2/CHATM2_prep1_thumbnail_NtbNormalized/CHATM2_slide09_2018_01_18-S2_prep1_thumbnail_NtbNormalized.tif\" -crop 788x570+524+97  \"/media/yuncong/BstemAtlasData/CSHL_data_processed/CHATM2/CHATM2_prep2_thumbnail_NtbNormalized/CHATM2_slide09_2018_01_18-S2_prep2_thumbnail_NtbNormalized.tif\"\n"
     ]
    },
    {
     "name": "stderr",
     "output_type": "stream",
     "text": [
      "Crop: 0.08 seconds.\n",
      "Crop: 0.08 seconds.\n",
      "Crop: 0.08 seconds.\n"
     ]
    },
    {
     "name": "stdout",
     "output_type": "stream",
     "text": [
      "0\n",
      "convert \"/media/yuncong/BstemAtlasData/CSHL_data_processed/CHATM2/CHATM2_prep1_thumbnail_NtbNormalized/CHATM2_slide10_2018_01_18-S2_prep1_thumbnail_NtbNormalized.tif\" -crop 788x570+524+97  \"/media/yuncong/BstemAtlasData/CSHL_data_processed/CHATM2/CHATM2_prep2_thumbnail_NtbNormalized/CHATM2_slide10_2018_01_18-S2_prep2_thumbnail_NtbNormalized.tif\"\n",
      "0\n",
      "convert \"/media/yuncong/BstemAtlasData/CSHL_data_processed/CHATM2/CHATM2_prep1_thumbnail_NtbNormalized/CHATM2_slide09_2018_01_18-S3_prep1_thumbnail_NtbNormalized.tif\" -crop 788x570+524+97  \"/media/yuncong/BstemAtlasData/CSHL_data_processed/CHATM2/CHATM2_prep2_thumbnail_NtbNormalized/CHATM2_slide09_2018_01_18-S3_prep2_thumbnail_NtbNormalized.tif\"\n",
      "0\n",
      "convert \"/media/yuncong/BstemAtlasData/CSHL_data_processed/CHATM2/CHATM2_prep1_thumbnail_NtbNormalized/CHATM2_slide10_2018_01_18-S3_prep1_thumbnail_NtbNormalized.tif\" -crop 788x570+524+97  \"/media/yuncong/BstemAtlasData/CSHL_data_processed/CHATM2/CHATM2_prep2_thumbnail_NtbNormalized/CHATM2_slide10_2018_01_18-S3_prep2_thumbnail_NtbNormalized.tif\"\n"
     ]
    },
    {
     "name": "stderr",
     "output_type": "stream",
     "text": [
      "Crop: 0.07 seconds.\n",
      "Crop: 0.08 seconds.\n",
      "Crop: 0.08 seconds.\n"
     ]
    },
    {
     "name": "stdout",
     "output_type": "stream",
     "text": [
      "0\n",
      "convert \"/media/yuncong/BstemAtlasData/CSHL_data_processed/CHATM2/CHATM2_prep1_thumbnail_NtbNormalized/CHATM2_slide11_2018_01_18-S1_prep1_thumbnail_NtbNormalized.tif\" -crop 788x570+524+97  \"/media/yuncong/BstemAtlasData/CSHL_data_processed/CHATM2/CHATM2_prep2_thumbnail_NtbNormalized/CHATM2_slide11_2018_01_18-S1_prep2_thumbnail_NtbNormalized.tif\"\n",
      "0\n",
      "convert \"/media/yuncong/BstemAtlasData/CSHL_data_processed/CHATM2/CHATM2_prep1_thumbnail_NtbNormalized/CHATM2_slide12_2018_01_18-S1_prep1_thumbnail_NtbNormalized.tif\" -crop 788x570+524+97  \"/media/yuncong/BstemAtlasData/CSHL_data_processed/CHATM2/CHATM2_prep2_thumbnail_NtbNormalized/CHATM2_slide12_2018_01_18-S1_prep2_thumbnail_NtbNormalized.tif\"\n",
      "0\n",
      "convert \"/media/yuncong/BstemAtlasData/CSHL_data_processed/CHATM2/CHATM2_prep1_thumbnail_NtbNormalized/CHATM2_slide11_2018_01_18-S2_prep1_thumbnail_NtbNormalized.tif\" -crop 788x570+524+97  \"/media/yuncong/BstemAtlasData/CSHL_data_processed/CHATM2/CHATM2_prep2_thumbnail_NtbNormalized/CHATM2_slide11_2018_01_18-S2_prep2_thumbnail_NtbNormalized.tif\"\n"
     ]
    },
    {
     "name": "stderr",
     "output_type": "stream",
     "text": [
      "Crop: 0.08 seconds.\n",
      "Crop: 0.07 seconds.\n",
      "Crop: 0.08 seconds.\n"
     ]
    },
    {
     "name": "stdout",
     "output_type": "stream",
     "text": [
      "0\n",
      "convert \"/media/yuncong/BstemAtlasData/CSHL_data_processed/CHATM2/CHATM2_prep1_thumbnail_NtbNormalized/CHATM2_slide12_2018_01_18-S2_prep1_thumbnail_NtbNormalized.tif\" -crop 788x570+524+97  \"/media/yuncong/BstemAtlasData/CSHL_data_processed/CHATM2/CHATM2_prep2_thumbnail_NtbNormalized/CHATM2_slide12_2018_01_18-S2_prep2_thumbnail_NtbNormalized.tif\"\n",
      "0\n",
      "convert \"/media/yuncong/BstemAtlasData/CSHL_data_processed/CHATM2/CHATM2_prep1_thumbnail_NtbNormalized/CHATM2_slide11_2018_01_18-S3_prep1_thumbnail_NtbNormalized.tif\" -crop 788x570+524+97  \"/media/yuncong/BstemAtlasData/CSHL_data_processed/CHATM2/CHATM2_prep2_thumbnail_NtbNormalized/CHATM2_slide11_2018_01_18-S3_prep2_thumbnail_NtbNormalized.tif\"\n",
      "0\n",
      "convert \"/media/yuncong/BstemAtlasData/CSHL_data_processed/CHATM2/CHATM2_prep1_thumbnail_NtbNormalized/CHATM2_slide12_2018_01_18-S3_prep1_thumbnail_NtbNormalized.tif\" -crop 788x570+524+97  \"/media/yuncong/BstemAtlasData/CSHL_data_processed/CHATM2/CHATM2_prep2_thumbnail_NtbNormalized/CHATM2_slide12_2018_01_18-S3_prep2_thumbnail_NtbNormalized.tif\"\n"
     ]
    },
    {
     "name": "stderr",
     "output_type": "stream",
     "text": [
      "Crop: 0.08 seconds.\n",
      "Crop: 0.08 seconds.\n",
      "Crop: 0.08 seconds.\n"
     ]
    },
    {
     "name": "stdout",
     "output_type": "stream",
     "text": [
      "0\n",
      "convert \"/media/yuncong/BstemAtlasData/CSHL_data_processed/CHATM2/CHATM2_prep1_thumbnail_NtbNormalized/CHATM2_slide13_2018_01_19-S1_prep1_thumbnail_NtbNormalized.tif\" -crop 788x570+524+97  \"/media/yuncong/BstemAtlasData/CSHL_data_processed/CHATM2/CHATM2_prep2_thumbnail_NtbNormalized/CHATM2_slide13_2018_01_19-S1_prep2_thumbnail_NtbNormalized.tif\"\n",
      "0\n",
      "convert \"/media/yuncong/BstemAtlasData/CSHL_data_processed/CHATM2/CHATM2_prep1_thumbnail_NtbNormalized/CHATM2_slide14_2018_01_18-S1_prep1_thumbnail_NtbNormalized.tif\" -crop 788x570+524+97  \"/media/yuncong/BstemAtlasData/CSHL_data_processed/CHATM2/CHATM2_prep2_thumbnail_NtbNormalized/CHATM2_slide14_2018_01_18-S1_prep2_thumbnail_NtbNormalized.tif\"\n",
      "0\n",
      "convert \"/media/yuncong/BstemAtlasData/CSHL_data_processed/CHATM2/CHATM2_prep1_thumbnail_NtbNormalized/CHATM2_slide13_2018_01_19-S2_prep1_thumbnail_NtbNormalized.tif\" -crop 788x570+524+97  \"/media/yuncong/BstemAtlasData/CSHL_data_processed/CHATM2/CHATM2_prep2_thumbnail_NtbNormalized/CHATM2_slide13_2018_01_19-S2_prep2_thumbnail_NtbNormalized.tif\"\n"
     ]
    },
    {
     "name": "stderr",
     "output_type": "stream",
     "text": [
      "Crop: 0.08 seconds.\n",
      "Crop: 0.08 seconds.\n",
      "Crop: 0.08 seconds.\n"
     ]
    },
    {
     "name": "stdout",
     "output_type": "stream",
     "text": [
      "0\n",
      "convert \"/media/yuncong/BstemAtlasData/CSHL_data_processed/CHATM2/CHATM2_prep1_thumbnail_NtbNormalized/CHATM2_slide14_2018_01_18-S2_prep1_thumbnail_NtbNormalized.tif\" -crop 788x570+524+97  \"/media/yuncong/BstemAtlasData/CSHL_data_processed/CHATM2/CHATM2_prep2_thumbnail_NtbNormalized/CHATM2_slide14_2018_01_18-S2_prep2_thumbnail_NtbNormalized.tif\"\n",
      "0\n",
      "convert \"/media/yuncong/BstemAtlasData/CSHL_data_processed/CHATM2/CHATM2_prep1_thumbnail_NtbNormalized/CHATM2_slide13_2018_01_19-S3_prep1_thumbnail_NtbNormalized.tif\" -crop 788x570+524+97  \"/media/yuncong/BstemAtlasData/CSHL_data_processed/CHATM2/CHATM2_prep2_thumbnail_NtbNormalized/CHATM2_slide13_2018_01_19-S3_prep2_thumbnail_NtbNormalized.tif\"\n",
      "0\n",
      "convert \"/media/yuncong/BstemAtlasData/CSHL_data_processed/CHATM2/CHATM2_prep1_thumbnail_NtbNormalized/CHATM2_slide14_2018_01_18-S3_prep1_thumbnail_NtbNormalized.tif\" -crop 788x570+524+97  \"/media/yuncong/BstemAtlasData/CSHL_data_processed/CHATM2/CHATM2_prep2_thumbnail_NtbNormalized/CHATM2_slide14_2018_01_18-S3_prep2_thumbnail_NtbNormalized.tif\"\n"
     ]
    },
    {
     "name": "stderr",
     "output_type": "stream",
     "text": [
      "Crop: 0.08 seconds.\n",
      "Crop: 0.08 seconds.\n",
      "Crop: 0.08 seconds.\n"
     ]
    },
    {
     "name": "stdout",
     "output_type": "stream",
     "text": [
      "0\n",
      "convert \"/media/yuncong/BstemAtlasData/CSHL_data_processed/CHATM2/CHATM2_prep1_thumbnail_NtbNormalized/CHATM2_slide15_2018_01_18-S1_prep1_thumbnail_NtbNormalized.tif\" -crop 788x570+524+97  \"/media/yuncong/BstemAtlasData/CSHL_data_processed/CHATM2/CHATM2_prep2_thumbnail_NtbNormalized/CHATM2_slide15_2018_01_18-S1_prep2_thumbnail_NtbNormalized.tif\"\n",
      "0\n",
      "convert \"/media/yuncong/BstemAtlasData/CSHL_data_processed/CHATM2/CHATM2_prep1_thumbnail_NtbNormalized/CHATM2_slide16_2018_01_18-S1_prep1_thumbnail_NtbNormalized.tif\" -crop 788x570+524+97  \"/media/yuncong/BstemAtlasData/CSHL_data_processed/CHATM2/CHATM2_prep2_thumbnail_NtbNormalized/CHATM2_slide16_2018_01_18-S1_prep2_thumbnail_NtbNormalized.tif\"\n",
      "0\n",
      "convert \"/media/yuncong/BstemAtlasData/CSHL_data_processed/CHATM2/CHATM2_prep1_thumbnail_NtbNormalized/CHATM2_slide15_2018_01_18-S2_prep1_thumbnail_NtbNormalized.tif\" -crop 788x570+524+97  \"/media/yuncong/BstemAtlasData/CSHL_data_processed/CHATM2/CHATM2_prep2_thumbnail_NtbNormalized/CHATM2_slide15_2018_01_18-S2_prep2_thumbnail_NtbNormalized.tif\"\n"
     ]
    },
    {
     "name": "stderr",
     "output_type": "stream",
     "text": [
      "Crop: 0.08 seconds.\n",
      "Crop: 0.08 seconds.\n",
      "Crop: 0.07 seconds.\n"
     ]
    },
    {
     "name": "stdout",
     "output_type": "stream",
     "text": [
      "0\n",
      "convert \"/media/yuncong/BstemAtlasData/CSHL_data_processed/CHATM2/CHATM2_prep1_thumbnail_NtbNormalized/CHATM2_slide16_2018_01_18-S2_prep1_thumbnail_NtbNormalized.tif\" -crop 788x570+524+97  \"/media/yuncong/BstemAtlasData/CSHL_data_processed/CHATM2/CHATM2_prep2_thumbnail_NtbNormalized/CHATM2_slide16_2018_01_18-S2_prep2_thumbnail_NtbNormalized.tif\"\n",
      "0\n",
      "convert \"/media/yuncong/BstemAtlasData/CSHL_data_processed/CHATM2/CHATM2_prep1_thumbnail_NtbNormalized/CHATM2_slide15_2018_01_18-S3_prep1_thumbnail_NtbNormalized.tif\" -crop 788x570+524+97  \"/media/yuncong/BstemAtlasData/CSHL_data_processed/CHATM2/CHATM2_prep2_thumbnail_NtbNormalized/CHATM2_slide15_2018_01_18-S3_prep2_thumbnail_NtbNormalized.tif\"\n",
      "0\n",
      "convert \"/media/yuncong/BstemAtlasData/CSHL_data_processed/CHATM2/CHATM2_prep1_thumbnail_NtbNormalized/CHATM2_slide16_2018_01_18-S3_prep1_thumbnail_NtbNormalized.tif\" -crop 788x570+524+97  \"/media/yuncong/BstemAtlasData/CSHL_data_processed/CHATM2/CHATM2_prep2_thumbnail_NtbNormalized/CHATM2_slide16_2018_01_18-S3_prep2_thumbnail_NtbNormalized.tif\"\n"
     ]
    },
    {
     "name": "stderr",
     "output_type": "stream",
     "text": [
      "Crop: 0.09 seconds.\n",
      "Crop: 0.08 seconds.\n",
      "Crop: 0.08 seconds.\n"
     ]
    },
    {
     "name": "stdout",
     "output_type": "stream",
     "text": [
      "0\n",
      "convert \"/media/yuncong/BstemAtlasData/CSHL_data_processed/CHATM2/CHATM2_prep1_thumbnail_NtbNormalized/CHATM2_slide17_2018_01_18-S1_prep1_thumbnail_NtbNormalized.tif\" -crop 788x570+524+97  \"/media/yuncong/BstemAtlasData/CSHL_data_processed/CHATM2/CHATM2_prep2_thumbnail_NtbNormalized/CHATM2_slide17_2018_01_18-S1_prep2_thumbnail_NtbNormalized.tif\"\n",
      "0\n",
      "convert \"/media/yuncong/BstemAtlasData/CSHL_data_processed/CHATM2/CHATM2_prep1_thumbnail_NtbNormalized/CHATM2_slide18_2018_01_18-S1_prep1_thumbnail_NtbNormalized.tif\" -crop 788x570+524+97  \"/media/yuncong/BstemAtlasData/CSHL_data_processed/CHATM2/CHATM2_prep2_thumbnail_NtbNormalized/CHATM2_slide18_2018_01_18-S1_prep2_thumbnail_NtbNormalized.tif\"\n",
      "0\n",
      "convert \"/media/yuncong/BstemAtlasData/CSHL_data_processed/CHATM2/CHATM2_prep1_thumbnail_NtbNormalized/CHATM2_slide17_2018_01_18-S2_prep1_thumbnail_NtbNormalized.tif\" -crop 788x570+524+97  \"/media/yuncong/BstemAtlasData/CSHL_data_processed/CHATM2/CHATM2_prep2_thumbnail_NtbNormalized/CHATM2_slide17_2018_01_18-S2_prep2_thumbnail_NtbNormalized.tif\"\n"
     ]
    },
    {
     "name": "stderr",
     "output_type": "stream",
     "text": [
      "Crop: 0.08 seconds.\n",
      "Crop: 0.08 seconds.\n",
      "Crop: 0.08 seconds.\n"
     ]
    },
    {
     "name": "stdout",
     "output_type": "stream",
     "text": [
      "0\n",
      "convert \"/media/yuncong/BstemAtlasData/CSHL_data_processed/CHATM2/CHATM2_prep1_thumbnail_NtbNormalized/CHATM2_slide18_2018_01_18-S2_prep1_thumbnail_NtbNormalized.tif\" -crop 788x570+524+97  \"/media/yuncong/BstemAtlasData/CSHL_data_processed/CHATM2/CHATM2_prep2_thumbnail_NtbNormalized/CHATM2_slide18_2018_01_18-S2_prep2_thumbnail_NtbNormalized.tif\"\n",
      "0\n",
      "convert \"/media/yuncong/BstemAtlasData/CSHL_data_processed/CHATM2/CHATM2_prep1_thumbnail_NtbNormalized/CHATM2_slide17_2018_01_18-S3_prep1_thumbnail_NtbNormalized.tif\" -crop 788x570+524+97  \"/media/yuncong/BstemAtlasData/CSHL_data_processed/CHATM2/CHATM2_prep2_thumbnail_NtbNormalized/CHATM2_slide17_2018_01_18-S3_prep2_thumbnail_NtbNormalized.tif\"\n",
      "0\n",
      "convert \"/media/yuncong/BstemAtlasData/CSHL_data_processed/CHATM2/CHATM2_prep1_thumbnail_NtbNormalized/CHATM2_slide18_2018_01_18-S3_prep1_thumbnail_NtbNormalized.tif\" -crop 788x570+524+97  \"/media/yuncong/BstemAtlasData/CSHL_data_processed/CHATM2/CHATM2_prep2_thumbnail_NtbNormalized/CHATM2_slide18_2018_01_18-S3_prep2_thumbnail_NtbNormalized.tif\"\n"
     ]
    },
    {
     "name": "stderr",
     "output_type": "stream",
     "text": [
      "Crop: 0.09 seconds.\n",
      "Crop: 0.08 seconds.\n",
      "Crop: 0.07 seconds.\n"
     ]
    },
    {
     "name": "stdout",
     "output_type": "stream",
     "text": [
      "0\n",
      "convert \"/media/yuncong/BstemAtlasData/CSHL_data_processed/CHATM2/CHATM2_prep1_thumbnail_NtbNormalized/CHATM2_slide19_2018_01_18-S1_prep1_thumbnail_NtbNormalized.tif\" -crop 788x570+524+97  \"/media/yuncong/BstemAtlasData/CSHL_data_processed/CHATM2/CHATM2_prep2_thumbnail_NtbNormalized/CHATM2_slide19_2018_01_18-S1_prep2_thumbnail_NtbNormalized.tif\"\n",
      "0\n",
      "convert \"/media/yuncong/BstemAtlasData/CSHL_data_processed/CHATM2/CHATM2_prep1_thumbnail_NtbNormalized/CHATM2_slide20_2018_01_18-S1_prep1_thumbnail_NtbNormalized.tif\" -crop 788x570+524+97  \"/media/yuncong/BstemAtlasData/CSHL_data_processed/CHATM2/CHATM2_prep2_thumbnail_NtbNormalized/CHATM2_slide20_2018_01_18-S1_prep2_thumbnail_NtbNormalized.tif\"\n",
      "0\n",
      "convert \"/media/yuncong/BstemAtlasData/CSHL_data_processed/CHATM2/CHATM2_prep1_thumbnail_NtbNormalized/CHATM2_slide19_2018_01_18-S2_prep1_thumbnail_NtbNormalized.tif\" -crop 788x570+524+97  \"/media/yuncong/BstemAtlasData/CSHL_data_processed/CHATM2/CHATM2_prep2_thumbnail_NtbNormalized/CHATM2_slide19_2018_01_18-S2_prep2_thumbnail_NtbNormalized.tif\"\n"
     ]
    },
    {
     "name": "stderr",
     "output_type": "stream",
     "text": [
      "Crop: 0.09 seconds.\n",
      "Crop: 0.08 seconds.\n",
      "Crop: 0.09 seconds.\n"
     ]
    },
    {
     "name": "stdout",
     "output_type": "stream",
     "text": [
      "0\n",
      "convert \"/media/yuncong/BstemAtlasData/CSHL_data_processed/CHATM2/CHATM2_prep1_thumbnail_NtbNormalized/CHATM2_slide20_2018_01_18-S2_prep1_thumbnail_NtbNormalized.tif\" -crop 788x570+524+97  \"/media/yuncong/BstemAtlasData/CSHL_data_processed/CHATM2/CHATM2_prep2_thumbnail_NtbNormalized/CHATM2_slide20_2018_01_18-S2_prep2_thumbnail_NtbNormalized.tif\"\n",
      "0\n",
      "convert \"/media/yuncong/BstemAtlasData/CSHL_data_processed/CHATM2/CHATM2_prep1_thumbnail_NtbNormalized/CHATM2_slide19_2018_01_18-S3_prep1_thumbnail_NtbNormalized.tif\" -crop 788x570+524+97  \"/media/yuncong/BstemAtlasData/CSHL_data_processed/CHATM2/CHATM2_prep2_thumbnail_NtbNormalized/CHATM2_slide19_2018_01_18-S3_prep2_thumbnail_NtbNormalized.tif\"\n",
      "0\n",
      "convert \"/media/yuncong/BstemAtlasData/CSHL_data_processed/CHATM2/CHATM2_prep1_thumbnail_NtbNormalized/CHATM2_slide20_2018_01_18-S3_prep1_thumbnail_NtbNormalized.tif\" -crop 788x570+524+97  \"/media/yuncong/BstemAtlasData/CSHL_data_processed/CHATM2/CHATM2_prep2_thumbnail_NtbNormalized/CHATM2_slide20_2018_01_18-S3_prep2_thumbnail_NtbNormalized.tif\"\n"
     ]
    },
    {
     "name": "stderr",
     "output_type": "stream",
     "text": [
      "Crop: 0.09 seconds.\n",
      "Crop: 0.08 seconds.\n",
      "Crop: 0.09 seconds.\n"
     ]
    },
    {
     "name": "stdout",
     "output_type": "stream",
     "text": [
      "0\n",
      "convert \"/media/yuncong/BstemAtlasData/CSHL_data_processed/CHATM2/CHATM2_prep1_thumbnail_NtbNormalized/CHATM2_slide21_2018_01_18-S1_prep1_thumbnail_NtbNormalized.tif\" -crop 788x570+524+97  \"/media/yuncong/BstemAtlasData/CSHL_data_processed/CHATM2/CHATM2_prep2_thumbnail_NtbNormalized/CHATM2_slide21_2018_01_18-S1_prep2_thumbnail_NtbNormalized.tif\"\n",
      "0\n",
      "convert \"/media/yuncong/BstemAtlasData/CSHL_data_processed/CHATM2/CHATM2_prep1_thumbnail_NtbNormalized/CHATM2_slide22_2018_01_19-S1_prep1_thumbnail_NtbNormalized.tif\" -crop 788x570+524+97  \"/media/yuncong/BstemAtlasData/CSHL_data_processed/CHATM2/CHATM2_prep2_thumbnail_NtbNormalized/CHATM2_slide22_2018_01_19-S1_prep2_thumbnail_NtbNormalized.tif\"\n",
      "0\n",
      "convert \"/media/yuncong/BstemAtlasData/CSHL_data_processed/CHATM2/CHATM2_prep1_thumbnail_NtbNormalized/CHATM2_slide21_2018_01_18-S2_prep1_thumbnail_NtbNormalized.tif\" -crop 788x570+524+97  \"/media/yuncong/BstemAtlasData/CSHL_data_processed/CHATM2/CHATM2_prep2_thumbnail_NtbNormalized/CHATM2_slide21_2018_01_18-S2_prep2_thumbnail_NtbNormalized.tif\"\n"
     ]
    },
    {
     "name": "stderr",
     "output_type": "stream",
     "text": [
      "Crop: 0.08 seconds.\n",
      "Crop: 0.08 seconds.\n",
      "Crop: 0.09 seconds.\n"
     ]
    },
    {
     "name": "stdout",
     "output_type": "stream",
     "text": [
      "0\n",
      "convert \"/media/yuncong/BstemAtlasData/CSHL_data_processed/CHATM2/CHATM2_prep1_thumbnail_NtbNormalized/CHATM2_slide22_2018_01_19-S2_prep1_thumbnail_NtbNormalized.tif\" -crop 788x570+524+97  \"/media/yuncong/BstemAtlasData/CSHL_data_processed/CHATM2/CHATM2_prep2_thumbnail_NtbNormalized/CHATM2_slide22_2018_01_19-S2_prep2_thumbnail_NtbNormalized.tif\"\n",
      "0\n",
      "convert \"/media/yuncong/BstemAtlasData/CSHL_data_processed/CHATM2/CHATM2_prep1_thumbnail_NtbNormalized/CHATM2_slide21_2018_01_18-S3_prep1_thumbnail_NtbNormalized.tif\" -crop 788x570+524+97  \"/media/yuncong/BstemAtlasData/CSHL_data_processed/CHATM2/CHATM2_prep2_thumbnail_NtbNormalized/CHATM2_slide21_2018_01_18-S3_prep2_thumbnail_NtbNormalized.tif\"\n",
      "0\n",
      "convert \"/media/yuncong/BstemAtlasData/CSHL_data_processed/CHATM2/CHATM2_prep1_thumbnail_NtbNormalized/CHATM2_slide22_2018_01_19-S3_prep1_thumbnail_NtbNormalized.tif\" -crop 788x570+524+97  \"/media/yuncong/BstemAtlasData/CSHL_data_processed/CHATM2/CHATM2_prep2_thumbnail_NtbNormalized/CHATM2_slide22_2018_01_19-S3_prep2_thumbnail_NtbNormalized.tif\"\n"
     ]
    },
    {
     "name": "stderr",
     "output_type": "stream",
     "text": [
      "Crop: 0.08 seconds.\n",
      "Crop: 0.08 seconds.\n",
      "Crop: 0.09 seconds.\n"
     ]
    },
    {
     "name": "stdout",
     "output_type": "stream",
     "text": [
      "0\n",
      "convert \"/media/yuncong/BstemAtlasData/CSHL_data_processed/CHATM2/CHATM2_prep1_thumbnail_NtbNormalized/CHATM2_slide23_2018_01_18-S1_prep1_thumbnail_NtbNormalized.tif\" -crop 788x570+524+97  \"/media/yuncong/BstemAtlasData/CSHL_data_processed/CHATM2/CHATM2_prep2_thumbnail_NtbNormalized/CHATM2_slide23_2018_01_18-S1_prep2_thumbnail_NtbNormalized.tif\"\n",
      "0\n",
      "convert \"/media/yuncong/BstemAtlasData/CSHL_data_processed/CHATM2/CHATM2_prep1_thumbnail_NtbNormalized/CHATM2_slide24_2018_01_18-S1_prep1_thumbnail_NtbNormalized.tif\" -crop 788x570+524+97  \"/media/yuncong/BstemAtlasData/CSHL_data_processed/CHATM2/CHATM2_prep2_thumbnail_NtbNormalized/CHATM2_slide24_2018_01_18-S1_prep2_thumbnail_NtbNormalized.tif\"\n",
      "0\n",
      "convert \"/media/yuncong/BstemAtlasData/CSHL_data_processed/CHATM2/CHATM2_prep1_thumbnail_NtbNormalized/CHATM2_slide23_2018_01_18-S2_prep1_thumbnail_NtbNormalized.tif\" -crop 788x570+524+97  \"/media/yuncong/BstemAtlasData/CSHL_data_processed/CHATM2/CHATM2_prep2_thumbnail_NtbNormalized/CHATM2_slide23_2018_01_18-S2_prep2_thumbnail_NtbNormalized.tif\"\n"
     ]
    },
    {
     "name": "stderr",
     "output_type": "stream",
     "text": [
      "Crop: 0.08 seconds.\n",
      "Crop: 0.08 seconds.\n",
      "Crop: 0.08 seconds.\n"
     ]
    },
    {
     "name": "stdout",
     "output_type": "stream",
     "text": [
      "0\n",
      "convert \"/media/yuncong/BstemAtlasData/CSHL_data_processed/CHATM2/CHATM2_prep1_thumbnail_NtbNormalized/CHATM2_slide24_2018_01_18-S2_prep1_thumbnail_NtbNormalized.tif\" -crop 788x570+524+97  \"/media/yuncong/BstemAtlasData/CSHL_data_processed/CHATM2/CHATM2_prep2_thumbnail_NtbNormalized/CHATM2_slide24_2018_01_18-S2_prep2_thumbnail_NtbNormalized.tif\"\n",
      "0\n",
      "convert \"/media/yuncong/BstemAtlasData/CSHL_data_processed/CHATM2/CHATM2_prep1_thumbnail_NtbNormalized/CHATM2_slide23_2018_01_18-S3_prep1_thumbnail_NtbNormalized.tif\" -crop 788x570+524+97  \"/media/yuncong/BstemAtlasData/CSHL_data_processed/CHATM2/CHATM2_prep2_thumbnail_NtbNormalized/CHATM2_slide23_2018_01_18-S3_prep2_thumbnail_NtbNormalized.tif\"\n",
      "0\n",
      "convert \"/media/yuncong/BstemAtlasData/CSHL_data_processed/CHATM2/CHATM2_prep1_thumbnail_NtbNormalized/CHATM2_slide24_2018_01_18-S3_prep1_thumbnail_NtbNormalized.tif\" -crop 788x570+524+97  \"/media/yuncong/BstemAtlasData/CSHL_data_processed/CHATM2/CHATM2_prep2_thumbnail_NtbNormalized/CHATM2_slide24_2018_01_18-S3_prep2_thumbnail_NtbNormalized.tif\"\n"
     ]
    },
    {
     "name": "stderr",
     "output_type": "stream",
     "text": [
      "Crop: 0.08 seconds.\n",
      "Crop: 0.09 seconds.\n",
      "Crop: 0.08 seconds.\n"
     ]
    },
    {
     "name": "stdout",
     "output_type": "stream",
     "text": [
      "0\n",
      "convert \"/media/yuncong/BstemAtlasData/CSHL_data_processed/CHATM2/CHATM2_prep1_thumbnail_NtbNormalized/CHATM2_slide25_2018_01_18-S1_prep1_thumbnail_NtbNormalized.tif\" -crop 788x570+524+97  \"/media/yuncong/BstemAtlasData/CSHL_data_processed/CHATM2/CHATM2_prep2_thumbnail_NtbNormalized/CHATM2_slide25_2018_01_18-S1_prep2_thumbnail_NtbNormalized.tif\"\n",
      "0\n",
      "convert \"/media/yuncong/BstemAtlasData/CSHL_data_processed/CHATM2/CHATM2_prep1_thumbnail_NtbNormalized/CHATM2_slide26_2018_01_18-S1_prep1_thumbnail_NtbNormalized.tif\" -crop 788x570+524+97  \"/media/yuncong/BstemAtlasData/CSHL_data_processed/CHATM2/CHATM2_prep2_thumbnail_NtbNormalized/CHATM2_slide26_2018_01_18-S1_prep2_thumbnail_NtbNormalized.tif\"\n",
      "0\n",
      "convert \"/media/yuncong/BstemAtlasData/CSHL_data_processed/CHATM2/CHATM2_prep1_thumbnail_NtbNormalized/CHATM2_slide25_2018_01_18-S2_prep1_thumbnail_NtbNormalized.tif\" -crop 788x570+524+97  \"/media/yuncong/BstemAtlasData/CSHL_data_processed/CHATM2/CHATM2_prep2_thumbnail_NtbNormalized/CHATM2_slide25_2018_01_18-S2_prep2_thumbnail_NtbNormalized.tif\"\n"
     ]
    },
    {
     "name": "stderr",
     "output_type": "stream",
     "text": [
      "Crop: 0.08 seconds.\n",
      "Crop: 0.10 seconds.\n",
      "Crop: 0.08 seconds.\n"
     ]
    },
    {
     "name": "stdout",
     "output_type": "stream",
     "text": [
      "0\n",
      "convert \"/media/yuncong/BstemAtlasData/CSHL_data_processed/CHATM2/CHATM2_prep1_thumbnail_NtbNormalized/CHATM2_slide26_2018_01_18-S2_prep1_thumbnail_NtbNormalized.tif\" -crop 788x570+524+97  \"/media/yuncong/BstemAtlasData/CSHL_data_processed/CHATM2/CHATM2_prep2_thumbnail_NtbNormalized/CHATM2_slide26_2018_01_18-S2_prep2_thumbnail_NtbNormalized.tif\"\n",
      "0\n",
      "convert \"/media/yuncong/BstemAtlasData/CSHL_data_processed/CHATM2/CHATM2_prep1_thumbnail_NtbNormalized/CHATM2_slide25_2018_01_18-S3_prep1_thumbnail_NtbNormalized.tif\" -crop 788x570+524+97  \"/media/yuncong/BstemAtlasData/CSHL_data_processed/CHATM2/CHATM2_prep2_thumbnail_NtbNormalized/CHATM2_slide25_2018_01_18-S3_prep2_thumbnail_NtbNormalized.tif\"\n",
      "0\n",
      "convert \"/media/yuncong/BstemAtlasData/CSHL_data_processed/CHATM2/CHATM2_prep1_thumbnail_NtbNormalized/CHATM2_slide26_2018_01_18-S3_prep1_thumbnail_NtbNormalized.tif\" -crop 788x570+524+97  \"/media/yuncong/BstemAtlasData/CSHL_data_processed/CHATM2/CHATM2_prep2_thumbnail_NtbNormalized/CHATM2_slide26_2018_01_18-S3_prep2_thumbnail_NtbNormalized.tif\"\n"
     ]
    },
    {
     "name": "stderr",
     "output_type": "stream",
     "text": [
      "Crop: 0.09 seconds.\n",
      "Crop: 0.08 seconds.\n",
      "Crop: 0.08 seconds.\n"
     ]
    },
    {
     "name": "stdout",
     "output_type": "stream",
     "text": [
      "0\n",
      "convert \"/media/yuncong/BstemAtlasData/CSHL_data_processed/CHATM2/CHATM2_prep1_thumbnail_NtbNormalized/CHATM2_slide27_2018_01_18-S1_prep1_thumbnail_NtbNormalized.tif\" -crop 788x570+524+97  \"/media/yuncong/BstemAtlasData/CSHL_data_processed/CHATM2/CHATM2_prep2_thumbnail_NtbNormalized/CHATM2_slide27_2018_01_18-S1_prep2_thumbnail_NtbNormalized.tif\"\n",
      "0\n",
      "convert \"/media/yuncong/BstemAtlasData/CSHL_data_processed/CHATM2/CHATM2_prep1_thumbnail_NtbNormalized/CHATM2_slide28_2018_01_18-S1_prep1_thumbnail_NtbNormalized.tif\" -crop 788x570+524+97  \"/media/yuncong/BstemAtlasData/CSHL_data_processed/CHATM2/CHATM2_prep2_thumbnail_NtbNormalized/CHATM2_slide28_2018_01_18-S1_prep2_thumbnail_NtbNormalized.tif\"\n",
      "0\n",
      "convert \"/media/yuncong/BstemAtlasData/CSHL_data_processed/CHATM2/CHATM2_prep1_thumbnail_NtbNormalized/CHATM2_slide27_2018_01_18-S2_prep1_thumbnail_NtbNormalized.tif\" -crop 788x570+524+97  \"/media/yuncong/BstemAtlasData/CSHL_data_processed/CHATM2/CHATM2_prep2_thumbnail_NtbNormalized/CHATM2_slide27_2018_01_18-S2_prep2_thumbnail_NtbNormalized.tif\"\n"
     ]
    },
    {
     "name": "stderr",
     "output_type": "stream",
     "text": [
      "Crop: 0.08 seconds.\n",
      "Crop: 0.08 seconds.\n",
      "Crop: 0.08 seconds.\n"
     ]
    },
    {
     "name": "stdout",
     "output_type": "stream",
     "text": [
      "0\n",
      "convert \"/media/yuncong/BstemAtlasData/CSHL_data_processed/CHATM2/CHATM2_prep1_thumbnail_NtbNormalized/CHATM2_slide28_2018_01_18-S2_prep1_thumbnail_NtbNormalized.tif\" -crop 788x570+524+97  \"/media/yuncong/BstemAtlasData/CSHL_data_processed/CHATM2/CHATM2_prep2_thumbnail_NtbNormalized/CHATM2_slide28_2018_01_18-S2_prep2_thumbnail_NtbNormalized.tif\"\n",
      "0\n",
      "convert \"/media/yuncong/BstemAtlasData/CSHL_data_processed/CHATM2/CHATM2_prep1_thumbnail_NtbNormalized/CHATM2_slide27_2018_01_18-S3_prep1_thumbnail_NtbNormalized.tif\" -crop 788x570+524+97  \"/media/yuncong/BstemAtlasData/CSHL_data_processed/CHATM2/CHATM2_prep2_thumbnail_NtbNormalized/CHATM2_slide27_2018_01_18-S3_prep2_thumbnail_NtbNormalized.tif\"\n",
      "0\n",
      "convert \"/media/yuncong/BstemAtlasData/CSHL_data_processed/CHATM2/CHATM2_prep1_thumbnail_NtbNormalized/CHATM2_slide28_2018_01_18-S3_prep1_thumbnail_NtbNormalized.tif\" -crop 788x570+524+97  \"/media/yuncong/BstemAtlasData/CSHL_data_processed/CHATM2/CHATM2_prep2_thumbnail_NtbNormalized/CHATM2_slide28_2018_01_18-S3_prep2_thumbnail_NtbNormalized.tif\"\n"
     ]
    },
    {
     "name": "stderr",
     "output_type": "stream",
     "text": [
      "Crop: 0.09 seconds.\n",
      "Crop: 0.08 seconds.\n",
      "Crop: 0.08 seconds.\n"
     ]
    },
    {
     "name": "stdout",
     "output_type": "stream",
     "text": [
      "0\n",
      "convert \"/media/yuncong/BstemAtlasData/CSHL_data_processed/CHATM2/CHATM2_prep1_thumbnail_NtbNormalized/CHATM2_slide29_2018_01_18-S1_prep1_thumbnail_NtbNormalized.tif\" -crop 788x570+524+97  \"/media/yuncong/BstemAtlasData/CSHL_data_processed/CHATM2/CHATM2_prep2_thumbnail_NtbNormalized/CHATM2_slide29_2018_01_18-S1_prep2_thumbnail_NtbNormalized.tif\"\n",
      "0\n",
      "convert \"/media/yuncong/BstemAtlasData/CSHL_data_processed/CHATM2/CHATM2_prep1_thumbnail_NtbNormalized/CHATM2_slide30_2018_01_18-S1_prep1_thumbnail_NtbNormalized.tif\" -crop 788x570+524+97  \"/media/yuncong/BstemAtlasData/CSHL_data_processed/CHATM2/CHATM2_prep2_thumbnail_NtbNormalized/CHATM2_slide30_2018_01_18-S1_prep2_thumbnail_NtbNormalized.tif\"\n",
      "0\n",
      "convert \"/media/yuncong/BstemAtlasData/CSHL_data_processed/CHATM2/CHATM2_prep1_thumbnail_NtbNormalized/CHATM2_slide29_2018_01_18-S2_prep1_thumbnail_NtbNormalized.tif\" -crop 788x570+524+97  \"/media/yuncong/BstemAtlasData/CSHL_data_processed/CHATM2/CHATM2_prep2_thumbnail_NtbNormalized/CHATM2_slide29_2018_01_18-S2_prep2_thumbnail_NtbNormalized.tif\"\n"
     ]
    },
    {
     "name": "stderr",
     "output_type": "stream",
     "text": [
      "Crop: 0.08 seconds.\n",
      "Crop: 0.08 seconds.\n",
      "Crop: 0.09 seconds.\n"
     ]
    },
    {
     "name": "stdout",
     "output_type": "stream",
     "text": [
      "0\n",
      "convert \"/media/yuncong/BstemAtlasData/CSHL_data_processed/CHATM2/CHATM2_prep1_thumbnail_NtbNormalized/CHATM2_slide30_2018_01_18-S2_prep1_thumbnail_NtbNormalized.tif\" -crop 788x570+524+97  \"/media/yuncong/BstemAtlasData/CSHL_data_processed/CHATM2/CHATM2_prep2_thumbnail_NtbNormalized/CHATM2_slide30_2018_01_18-S2_prep2_thumbnail_NtbNormalized.tif\"\n",
      "0\n",
      "convert \"/media/yuncong/BstemAtlasData/CSHL_data_processed/CHATM2/CHATM2_prep1_thumbnail_NtbNormalized/CHATM2_slide29_2018_01_18-S3_prep1_thumbnail_NtbNormalized.tif\" -crop 788x570+524+97  \"/media/yuncong/BstemAtlasData/CSHL_data_processed/CHATM2/CHATM2_prep2_thumbnail_NtbNormalized/CHATM2_slide29_2018_01_18-S3_prep2_thumbnail_NtbNormalized.tif\"\n",
      "0\n",
      "convert \"/media/yuncong/BstemAtlasData/CSHL_data_processed/CHATM2/CHATM2_prep1_thumbnail_NtbNormalized/CHATM2_slide30_2018_01_18-S3_prep1_thumbnail_NtbNormalized.tif\" -crop 788x570+524+97  \"/media/yuncong/BstemAtlasData/CSHL_data_processed/CHATM2/CHATM2_prep2_thumbnail_NtbNormalized/CHATM2_slide30_2018_01_18-S3_prep2_thumbnail_NtbNormalized.tif\"\n"
     ]
    },
    {
     "name": "stderr",
     "output_type": "stream",
     "text": [
      "Crop: 0.09 seconds.\n",
      "Crop: 0.08 seconds.\n",
      "Crop: 0.08 seconds.\n"
     ]
    },
    {
     "name": "stdout",
     "output_type": "stream",
     "text": [
      "0\n",
      "convert \"/media/yuncong/BstemAtlasData/CSHL_data_processed/CHATM2/CHATM2_prep1_thumbnail_NtbNormalized/CHATM2_slide32_2018_01_20-S1_prep1_thumbnail_NtbNormalized.tif\" -crop 788x570+524+97  \"/media/yuncong/BstemAtlasData/CSHL_data_processed/CHATM2/CHATM2_prep2_thumbnail_NtbNormalized/CHATM2_slide32_2018_01_20-S1_prep2_thumbnail_NtbNormalized.tif\"\n",
      "0\n",
      "convert \"/media/yuncong/BstemAtlasData/CSHL_data_processed/CHATM2/CHATM2_prep1_thumbnail_NtbNormalized/CHATM2_slide31_2018_01_19-S2_prep1_thumbnail_NtbNormalized.tif\" -crop 788x570+524+97  \"/media/yuncong/BstemAtlasData/CSHL_data_processed/CHATM2/CHATM2_prep2_thumbnail_NtbNormalized/CHATM2_slide31_2018_01_19-S2_prep2_thumbnail_NtbNormalized.tif\"\n",
      "0\n",
      "convert \"/media/yuncong/BstemAtlasData/CSHL_data_processed/CHATM2/CHATM2_prep1_thumbnail_NtbNormalized/CHATM2_slide32_2018_01_20-S2_prep1_thumbnail_NtbNormalized.tif\" -crop 788x570+524+97  \"/media/yuncong/BstemAtlasData/CSHL_data_processed/CHATM2/CHATM2_prep2_thumbnail_NtbNormalized/CHATM2_slide32_2018_01_20-S2_prep2_thumbnail_NtbNormalized.tif\"\n"
     ]
    },
    {
     "name": "stderr",
     "output_type": "stream",
     "text": [
      "Crop: 0.09 seconds.\n",
      "Crop: 0.08 seconds.\n",
      "Crop: 0.09 seconds.\n"
     ]
    },
    {
     "name": "stdout",
     "output_type": "stream",
     "text": [
      "0\n",
      "convert \"/media/yuncong/BstemAtlasData/CSHL_data_processed/CHATM2/CHATM2_prep1_thumbnail_NtbNormalized/CHATM2_slide31_2018_01_19-S3_prep1_thumbnail_NtbNormalized.tif\" -crop 788x570+524+97  \"/media/yuncong/BstemAtlasData/CSHL_data_processed/CHATM2/CHATM2_prep2_thumbnail_NtbNormalized/CHATM2_slide31_2018_01_19-S3_prep2_thumbnail_NtbNormalized.tif\"\n",
      "0\n",
      "convert \"/media/yuncong/BstemAtlasData/CSHL_data_processed/CHATM2/CHATM2_prep1_thumbnail_NtbNormalized/CHATM2_slide32_2018_01_20-S3_prep1_thumbnail_NtbNormalized.tif\" -crop 788x570+524+97  \"/media/yuncong/BstemAtlasData/CSHL_data_processed/CHATM2/CHATM2_prep2_thumbnail_NtbNormalized/CHATM2_slide32_2018_01_20-S3_prep2_thumbnail_NtbNormalized.tif\"\n",
      "0\n",
      "convert \"/media/yuncong/BstemAtlasData/CSHL_data_processed/CHATM2/CHATM2_prep1_thumbnail_NtbNormalized/CHATM2_slide33_2018_01_20-S1_prep1_thumbnail_NtbNormalized.tif\" -crop 788x570+524+97  \"/media/yuncong/BstemAtlasData/CSHL_data_processed/CHATM2/CHATM2_prep2_thumbnail_NtbNormalized/CHATM2_slide33_2018_01_20-S1_prep2_thumbnail_NtbNormalized.tif\"\n"
     ]
    },
    {
     "name": "stderr",
     "output_type": "stream",
     "text": [
      "Crop: 0.09 seconds.\n",
      "Crop: 0.08 seconds.\n",
      "Crop: 0.08 seconds.\n"
     ]
    },
    {
     "name": "stdout",
     "output_type": "stream",
     "text": [
      "0\n",
      "convert \"/media/yuncong/BstemAtlasData/CSHL_data_processed/CHATM2/CHATM2_prep1_thumbnail_NtbNormalized/CHATM2_slide34_2018_01_20-S1_prep1_thumbnail_NtbNormalized.tif\" -crop 788x570+524+97  \"/media/yuncong/BstemAtlasData/CSHL_data_processed/CHATM2/CHATM2_prep2_thumbnail_NtbNormalized/CHATM2_slide34_2018_01_20-S1_prep2_thumbnail_NtbNormalized.tif\"\n",
      "0\n",
      "convert \"/media/yuncong/BstemAtlasData/CSHL_data_processed/CHATM2/CHATM2_prep1_thumbnail_NtbNormalized/CHATM2_slide33_2018_01_20-S2_prep1_thumbnail_NtbNormalized.tif\" -crop 788x570+524+97  \"/media/yuncong/BstemAtlasData/CSHL_data_processed/CHATM2/CHATM2_prep2_thumbnail_NtbNormalized/CHATM2_slide33_2018_01_20-S2_prep2_thumbnail_NtbNormalized.tif\"\n",
      "0\n",
      "convert \"/media/yuncong/BstemAtlasData/CSHL_data_processed/CHATM2/CHATM2_prep1_thumbnail_NtbNormalized/CHATM2_slide34_2018_01_20-S2_prep1_thumbnail_NtbNormalized.tif\" -crop 788x570+524+97  \"/media/yuncong/BstemAtlasData/CSHL_data_processed/CHATM2/CHATM2_prep2_thumbnail_NtbNormalized/CHATM2_slide34_2018_01_20-S2_prep2_thumbnail_NtbNormalized.tif\"\n"
     ]
    },
    {
     "name": "stderr",
     "output_type": "stream",
     "text": [
      "Crop: 0.08 seconds.\n",
      "Crop: 0.08 seconds.\n",
      "Crop: 0.09 seconds.\n"
     ]
    },
    {
     "name": "stdout",
     "output_type": "stream",
     "text": [
      "0\n",
      "convert \"/media/yuncong/BstemAtlasData/CSHL_data_processed/CHATM2/CHATM2_prep1_thumbnail_NtbNormalized/CHATM2_slide33_2018_01_20-S3_prep1_thumbnail_NtbNormalized.tif\" -crop 788x570+524+97  \"/media/yuncong/BstemAtlasData/CSHL_data_processed/CHATM2/CHATM2_prep2_thumbnail_NtbNormalized/CHATM2_slide33_2018_01_20-S3_prep2_thumbnail_NtbNormalized.tif\"\n",
      "0\n",
      "convert \"/media/yuncong/BstemAtlasData/CSHL_data_processed/CHATM2/CHATM2_prep1_thumbnail_NtbNormalized/CHATM2_slide34_2018_01_20-S3_prep1_thumbnail_NtbNormalized.tif\" -crop 788x570+524+97  \"/media/yuncong/BstemAtlasData/CSHL_data_processed/CHATM2/CHATM2_prep2_thumbnail_NtbNormalized/CHATM2_slide34_2018_01_20-S3_prep2_thumbnail_NtbNormalized.tif\"\n",
      "0\n",
      "convert \"/media/yuncong/BstemAtlasData/CSHL_data_processed/CHATM2/CHATM2_prep1_thumbnail_NtbNormalized/CHATM2_slide35_2018_01_20-S1_prep1_thumbnail_NtbNormalized.tif\" -crop 788x570+524+97  \"/media/yuncong/BstemAtlasData/CSHL_data_processed/CHATM2/CHATM2_prep2_thumbnail_NtbNormalized/CHATM2_slide35_2018_01_20-S1_prep2_thumbnail_NtbNormalized.tif\"\n"
     ]
    },
    {
     "name": "stderr",
     "output_type": "stream",
     "text": [
      "Crop: 0.09 seconds.\n",
      "Crop: 0.08 seconds.\n",
      "Crop: 0.08 seconds.\n"
     ]
    },
    {
     "name": "stdout",
     "output_type": "stream",
     "text": [
      "0\n",
      "convert \"/media/yuncong/BstemAtlasData/CSHL_data_processed/CHATM2/CHATM2_prep1_thumbnail_NtbNormalized/CHATM2_slide36_2018_01_22-S1_prep1_thumbnail_NtbNormalized.tif\" -crop 788x570+524+97  \"/media/yuncong/BstemAtlasData/CSHL_data_processed/CHATM2/CHATM2_prep2_thumbnail_NtbNormalized/CHATM2_slide36_2018_01_22-S1_prep2_thumbnail_NtbNormalized.tif\"\n",
      "0\n",
      "convert \"/media/yuncong/BstemAtlasData/CSHL_data_processed/CHATM2/CHATM2_prep1_thumbnail_NtbNormalized/CHATM2_slide35_2018_01_20-S2_prep1_thumbnail_NtbNormalized.tif\" -crop 788x570+524+97  \"/media/yuncong/BstemAtlasData/CSHL_data_processed/CHATM2/CHATM2_prep2_thumbnail_NtbNormalized/CHATM2_slide35_2018_01_20-S2_prep2_thumbnail_NtbNormalized.tif\"\n",
      "0\n",
      "convert \"/media/yuncong/BstemAtlasData/CSHL_data_processed/CHATM2/CHATM2_prep1_thumbnail_NtbNormalized/CHATM2_slide36_2018_01_22-S2_prep1_thumbnail_NtbNormalized.tif\" -crop 788x570+524+97  \"/media/yuncong/BstemAtlasData/CSHL_data_processed/CHATM2/CHATM2_prep2_thumbnail_NtbNormalized/CHATM2_slide36_2018_01_22-S2_prep2_thumbnail_NtbNormalized.tif\"\n"
     ]
    },
    {
     "name": "stderr",
     "output_type": "stream",
     "text": [
      "Crop: 0.08 seconds.\n",
      "Crop: 0.08 seconds.\n",
      "Crop: 0.08 seconds.\n"
     ]
    },
    {
     "name": "stdout",
     "output_type": "stream",
     "text": [
      "0\n",
      "convert \"/media/yuncong/BstemAtlasData/CSHL_data_processed/CHATM2/CHATM2_prep1_thumbnail_NtbNormalized/CHATM2_slide36_2018_01_22-S3_prep1_thumbnail_NtbNormalized.tif\" -crop 788x570+524+97  \"/media/yuncong/BstemAtlasData/CSHL_data_processed/CHATM2/CHATM2_prep2_thumbnail_NtbNormalized/CHATM2_slide36_2018_01_22-S3_prep2_thumbnail_NtbNormalized.tif\"\n",
      "0\n",
      "convert \"/media/yuncong/BstemAtlasData/CSHL_data_processed/CHATM2/CHATM2_prep1_thumbnail_NtbNormalized/CHATM2_slide37_2018_01_22-S1_prep1_thumbnail_NtbNormalized.tif\" -crop 788x570+524+97  \"/media/yuncong/BstemAtlasData/CSHL_data_processed/CHATM2/CHATM2_prep2_thumbnail_NtbNormalized/CHATM2_slide37_2018_01_22-S1_prep2_thumbnail_NtbNormalized.tif\"\n",
      "0\n",
      "convert \"/media/yuncong/BstemAtlasData/CSHL_data_processed/CHATM2/CHATM2_prep1_thumbnail_NtbNormalized/CHATM2_slide38_2018_01_22-S1_prep1_thumbnail_NtbNormalized.tif\" -crop 788x570+524+97  \"/media/yuncong/BstemAtlasData/CSHL_data_processed/CHATM2/CHATM2_prep2_thumbnail_NtbNormalized/CHATM2_slide38_2018_01_22-S1_prep2_thumbnail_NtbNormalized.tif\"\n"
     ]
    },
    {
     "name": "stderr",
     "output_type": "stream",
     "text": [
      "Crop: 0.09 seconds.\n",
      "Crop: 0.08 seconds.\n",
      "Crop: 0.09 seconds.\n"
     ]
    },
    {
     "name": "stdout",
     "output_type": "stream",
     "text": [
      "0\n",
      "convert \"/media/yuncong/BstemAtlasData/CSHL_data_processed/CHATM2/CHATM2_prep1_thumbnail_NtbNormalized/CHATM2_slide37_2018_01_22-S2_prep1_thumbnail_NtbNormalized.tif\" -crop 788x570+524+97  \"/media/yuncong/BstemAtlasData/CSHL_data_processed/CHATM2/CHATM2_prep2_thumbnail_NtbNormalized/CHATM2_slide37_2018_01_22-S2_prep2_thumbnail_NtbNormalized.tif\"\n",
      "0\n",
      "convert \"/media/yuncong/BstemAtlasData/CSHL_data_processed/CHATM2/CHATM2_prep1_thumbnail_NtbNormalized/CHATM2_slide38_2018_01_22-S2_prep1_thumbnail_NtbNormalized.tif\" -crop 788x570+524+97  \"/media/yuncong/BstemAtlasData/CSHL_data_processed/CHATM2/CHATM2_prep2_thumbnail_NtbNormalized/CHATM2_slide38_2018_01_22-S2_prep2_thumbnail_NtbNormalized.tif\"\n",
      "0\n",
      "convert \"/media/yuncong/BstemAtlasData/CSHL_data_processed/CHATM2/CHATM2_prep1_thumbnail_NtbNormalized/CHATM2_slide37_2018_01_22-S3_prep1_thumbnail_NtbNormalized.tif\" -crop 788x570+524+97  \"/media/yuncong/BstemAtlasData/CSHL_data_processed/CHATM2/CHATM2_prep2_thumbnail_NtbNormalized/CHATM2_slide37_2018_01_22-S3_prep2_thumbnail_NtbNormalized.tif\"\n"
     ]
    },
    {
     "name": "stderr",
     "output_type": "stream",
     "text": [
      "Crop: 0.09 seconds.\n",
      "Crop: 0.09 seconds.\n",
      "Crop: 0.08 seconds.\n"
     ]
    },
    {
     "name": "stdout",
     "output_type": "stream",
     "text": [
      "0\n",
      "convert \"/media/yuncong/BstemAtlasData/CSHL_data_processed/CHATM2/CHATM2_prep1_thumbnail_NtbNormalized/CHATM2_slide38_2018_01_22-S3_prep1_thumbnail_NtbNormalized.tif\" -crop 788x570+524+97  \"/media/yuncong/BstemAtlasData/CSHL_data_processed/CHATM2/CHATM2_prep2_thumbnail_NtbNormalized/CHATM2_slide38_2018_01_22-S3_prep2_thumbnail_NtbNormalized.tif\"\n",
      "0\n",
      "convert \"/media/yuncong/BstemAtlasData/CSHL_data_processed/CHATM2/CHATM2_prep1_thumbnail_NtbNormalized/CHATM2_slide39_2018_01_22-S1_prep1_thumbnail_NtbNormalized.tif\" -crop 788x570+524+97  \"/media/yuncong/BstemAtlasData/CSHL_data_processed/CHATM2/CHATM2_prep2_thumbnail_NtbNormalized/CHATM2_slide39_2018_01_22-S1_prep2_thumbnail_NtbNormalized.tif\"\n",
      "0\n",
      "convert \"/media/yuncong/BstemAtlasData/CSHL_data_processed/CHATM2/CHATM2_prep1_thumbnail_NtbNormalized/CHATM2_slide39_2018_01_22-S2_prep1_thumbnail_NtbNormalized.tif\" -crop 788x570+524+97  \"/media/yuncong/BstemAtlasData/CSHL_data_processed/CHATM2/CHATM2_prep2_thumbnail_NtbNormalized/CHATM2_slide39_2018_01_22-S2_prep2_thumbnail_NtbNormalized.tif\"\n"
     ]
    },
    {
     "name": "stderr",
     "output_type": "stream",
     "text": [
      "Crop: 0.08 seconds.\n",
      "Crop: 0.09 seconds.\n",
      "Crop: 0.09 seconds.\n"
     ]
    },
    {
     "name": "stdout",
     "output_type": "stream",
     "text": [
      "0\n",
      "convert \"/media/yuncong/BstemAtlasData/CSHL_data_processed/CHATM2/CHATM2_prep1_thumbnail_NtbNormalized/CHATM2_slide39_2018_01_22-S3_prep1_thumbnail_NtbNormalized.tif\" -crop 788x570+524+97  \"/media/yuncong/BstemAtlasData/CSHL_data_processed/CHATM2/CHATM2_prep2_thumbnail_NtbNormalized/CHATM2_slide39_2018_01_22-S3_prep2_thumbnail_NtbNormalized.tif\"\n",
      "0\n",
      "convert \"/media/yuncong/BstemAtlasData/CSHL_data_processed/CHATM2/CHATM2_prep1_thumbnail_NtbNormalized/CHATM2_slide41_2018_01_22-S1_prep1_thumbnail_NtbNormalized.tif\" -crop 788x570+524+97  \"/media/yuncong/BstemAtlasData/CSHL_data_processed/CHATM2/CHATM2_prep2_thumbnail_NtbNormalized/CHATM2_slide41_2018_01_22-S1_prep2_thumbnail_NtbNormalized.tif\"\n",
      "0\n",
      "convert \"/media/yuncong/BstemAtlasData/CSHL_data_processed/CHATM2/CHATM2_prep1_thumbnail_NtbNormalized/CHATM2_slide42_2018_01_22-S1_prep1_thumbnail_NtbNormalized.tif\" -crop 788x570+524+97  \"/media/yuncong/BstemAtlasData/CSHL_data_processed/CHATM2/CHATM2_prep2_thumbnail_NtbNormalized/CHATM2_slide42_2018_01_22-S1_prep2_thumbnail_NtbNormalized.tif\"\n"
     ]
    },
    {
     "name": "stderr",
     "output_type": "stream",
     "text": [
      "Crop: 0.09 seconds.\n",
      "Crop: 0.08 seconds.\n",
      "Crop: 0.09 seconds.\n"
     ]
    },
    {
     "name": "stdout",
     "output_type": "stream",
     "text": [
      "0\n",
      "convert \"/media/yuncong/BstemAtlasData/CSHL_data_processed/CHATM2/CHATM2_prep1_thumbnail_NtbNormalized/CHATM2_slide41_2018_01_22-S2_prep1_thumbnail_NtbNormalized.tif\" -crop 788x570+524+97  \"/media/yuncong/BstemAtlasData/CSHL_data_processed/CHATM2/CHATM2_prep2_thumbnail_NtbNormalized/CHATM2_slide41_2018_01_22-S2_prep2_thumbnail_NtbNormalized.tif\"\n",
      "0\n",
      "convert \"/media/yuncong/BstemAtlasData/CSHL_data_processed/CHATM2/CHATM2_prep1_thumbnail_NtbNormalized/CHATM2_slide42_2018_01_22-S2_prep1_thumbnail_NtbNormalized.tif\" -crop 788x570+524+97  \"/media/yuncong/BstemAtlasData/CSHL_data_processed/CHATM2/CHATM2_prep2_thumbnail_NtbNormalized/CHATM2_slide42_2018_01_22-S2_prep2_thumbnail_NtbNormalized.tif\"\n",
      "0\n",
      "convert \"/media/yuncong/BstemAtlasData/CSHL_data_processed/CHATM2/CHATM2_prep1_thumbnail_NtbNormalized/CHATM2_slide41_2018_01_22-S3_prep1_thumbnail_NtbNormalized.tif\" -crop 788x570+524+97  \"/media/yuncong/BstemAtlasData/CSHL_data_processed/CHATM2/CHATM2_prep2_thumbnail_NtbNormalized/CHATM2_slide41_2018_01_22-S3_prep2_thumbnail_NtbNormalized.tif\"\n"
     ]
    },
    {
     "name": "stderr",
     "output_type": "stream",
     "text": [
      "Crop: 0.09 seconds.\n",
      "Crop: 0.08 seconds.\n",
      "Crop: 0.08 seconds.\n"
     ]
    },
    {
     "name": "stdout",
     "output_type": "stream",
     "text": [
      "0\n",
      "convert \"/media/yuncong/BstemAtlasData/CSHL_data_processed/CHATM2/CHATM2_prep1_thumbnail_NtbNormalized/CHATM2_slide42_2018_01_22-S3_prep1_thumbnail_NtbNormalized.tif\" -crop 788x570+524+97  \"/media/yuncong/BstemAtlasData/CSHL_data_processed/CHATM2/CHATM2_prep2_thumbnail_NtbNormalized/CHATM2_slide42_2018_01_22-S3_prep2_thumbnail_NtbNormalized.tif\"\n",
      "0\n",
      "convert \"/media/yuncong/BstemAtlasData/CSHL_data_processed/CHATM2/CHATM2_prep1_thumbnail_NtbNormalized/CHATM2_slide43_2018_01_22-S1_prep1_thumbnail_NtbNormalized.tif\" -crop 788x570+524+97  \"/media/yuncong/BstemAtlasData/CSHL_data_processed/CHATM2/CHATM2_prep2_thumbnail_NtbNormalized/CHATM2_slide43_2018_01_22-S1_prep2_thumbnail_NtbNormalized.tif\"\n",
      "0\n",
      "convert \"/media/yuncong/BstemAtlasData/CSHL_data_processed/CHATM2/CHATM2_prep1_thumbnail_NtbNormalized/CHATM2_slide44_2018_01_22-S1_prep1_thumbnail_NtbNormalized.tif\" -crop 788x570+524+97  \"/media/yuncong/BstemAtlasData/CSHL_data_processed/CHATM2/CHATM2_prep2_thumbnail_NtbNormalized/CHATM2_slide44_2018_01_22-S1_prep2_thumbnail_NtbNormalized.tif\"\n"
     ]
    },
    {
     "name": "stderr",
     "output_type": "stream",
     "text": [
      "Crop: 0.09 seconds.\n",
      "Crop: 0.08 seconds.\n",
      "Crop: 0.09 seconds.\n"
     ]
    },
    {
     "name": "stdout",
     "output_type": "stream",
     "text": [
      "0\n",
      "convert \"/media/yuncong/BstemAtlasData/CSHL_data_processed/CHATM2/CHATM2_prep1_thumbnail_NtbNormalized/CHATM2_slide43_2018_01_22-S2_prep1_thumbnail_NtbNormalized.tif\" -crop 788x570+524+97  \"/media/yuncong/BstemAtlasData/CSHL_data_processed/CHATM2/CHATM2_prep2_thumbnail_NtbNormalized/CHATM2_slide43_2018_01_22-S2_prep2_thumbnail_NtbNormalized.tif\"\n",
      "0\n",
      "convert \"/media/yuncong/BstemAtlasData/CSHL_data_processed/CHATM2/CHATM2_prep1_thumbnail_NtbNormalized/CHATM2_slide44_2018_01_22-S2_prep1_thumbnail_NtbNormalized.tif\" -crop 788x570+524+97  \"/media/yuncong/BstemAtlasData/CSHL_data_processed/CHATM2/CHATM2_prep2_thumbnail_NtbNormalized/CHATM2_slide44_2018_01_22-S2_prep2_thumbnail_NtbNormalized.tif\"\n",
      "0\n",
      "convert \"/media/yuncong/BstemAtlasData/CSHL_data_processed/CHATM2/CHATM2_prep1_thumbnail_NtbNormalized/CHATM2_slide43_2018_01_22-S3_prep1_thumbnail_NtbNormalized.tif\" -crop 788x570+524+97  \"/media/yuncong/BstemAtlasData/CSHL_data_processed/CHATM2/CHATM2_prep2_thumbnail_NtbNormalized/CHATM2_slide43_2018_01_22-S3_prep2_thumbnail_NtbNormalized.tif\"\n"
     ]
    },
    {
     "name": "stderr",
     "output_type": "stream",
     "text": [
      "Crop: 0.08 seconds.\n",
      "Crop: 0.08 seconds.\n",
      "Crop: 0.09 seconds.\n"
     ]
    },
    {
     "name": "stdout",
     "output_type": "stream",
     "text": [
      "0\n",
      "convert \"/media/yuncong/BstemAtlasData/CSHL_data_processed/CHATM2/CHATM2_prep1_thumbnail_NtbNormalized/CHATM2_slide44_2018_01_22-S3_prep1_thumbnail_NtbNormalized.tif\" -crop 788x570+524+97  \"/media/yuncong/BstemAtlasData/CSHL_data_processed/CHATM2/CHATM2_prep2_thumbnail_NtbNormalized/CHATM2_slide44_2018_01_22-S3_prep2_thumbnail_NtbNormalized.tif\"\n",
      "0\n",
      "convert \"/media/yuncong/BstemAtlasData/CSHL_data_processed/CHATM2/CHATM2_prep1_thumbnail_NtbNormalized/CHATM2_slide45_2018_01_22-S1_prep1_thumbnail_NtbNormalized.tif\" -crop 788x570+524+97  \"/media/yuncong/BstemAtlasData/CSHL_data_processed/CHATM2/CHATM2_prep2_thumbnail_NtbNormalized/CHATM2_slide45_2018_01_22-S1_prep2_thumbnail_NtbNormalized.tif\"\n",
      "0\n",
      "convert \"/media/yuncong/BstemAtlasData/CSHL_data_processed/CHATM2/CHATM2_prep1_thumbnail_NtbNormalized/CHATM2_slide46_2018_01_22-S1_prep1_thumbnail_NtbNormalized.tif\" -crop 788x570+524+97  \"/media/yuncong/BstemAtlasData/CSHL_data_processed/CHATM2/CHATM2_prep2_thumbnail_NtbNormalized/CHATM2_slide46_2018_01_22-S1_prep2_thumbnail_NtbNormalized.tif\"\n"
     ]
    },
    {
     "name": "stderr",
     "output_type": "stream",
     "text": [
      "Crop: 0.10 seconds.\n",
      "Crop: 0.09 seconds.\n",
      "Crop: 0.09 seconds.\n"
     ]
    },
    {
     "name": "stdout",
     "output_type": "stream",
     "text": [
      "0\n",
      "convert \"/media/yuncong/BstemAtlasData/CSHL_data_processed/CHATM2/CHATM2_prep1_thumbnail_NtbNormalized/CHATM2_slide45_2018_01_22-S2_prep1_thumbnail_NtbNormalized.tif\" -crop 788x570+524+97  \"/media/yuncong/BstemAtlasData/CSHL_data_processed/CHATM2/CHATM2_prep2_thumbnail_NtbNormalized/CHATM2_slide45_2018_01_22-S2_prep2_thumbnail_NtbNormalized.tif\"\n",
      "0\n",
      "convert \"/media/yuncong/BstemAtlasData/CSHL_data_processed/CHATM2/CHATM2_prep1_thumbnail_NtbNormalized/CHATM2_slide46_2018_01_22-S2_prep1_thumbnail_NtbNormalized.tif\" -crop 788x570+524+97  \"/media/yuncong/BstemAtlasData/CSHL_data_processed/CHATM2/CHATM2_prep2_thumbnail_NtbNormalized/CHATM2_slide46_2018_01_22-S2_prep2_thumbnail_NtbNormalized.tif\"\n",
      "0\n",
      "convert \"/media/yuncong/BstemAtlasData/CSHL_data_processed/CHATM2/CHATM2_prep1_thumbnail_NtbNormalized/CHATM2_slide45_2018_01_22-S3_prep1_thumbnail_NtbNormalized.tif\" -crop 788x570+524+97  \"/media/yuncong/BstemAtlasData/CSHL_data_processed/CHATM2/CHATM2_prep2_thumbnail_NtbNormalized/CHATM2_slide45_2018_01_22-S3_prep2_thumbnail_NtbNormalized.tif\"\n"
     ]
    },
    {
     "name": "stderr",
     "output_type": "stream",
     "text": [
      "Crop: 0.08 seconds.\n",
      "Crop: 0.08 seconds.\n",
      "Crop: 0.08 seconds.\n"
     ]
    },
    {
     "name": "stdout",
     "output_type": "stream",
     "text": [
      "0\n",
      "convert \"/media/yuncong/BstemAtlasData/CSHL_data_processed/CHATM2/CHATM2_prep1_thumbnail_NtbNormalized/CHATM2_slide46_2018_01_22-S3_prep1_thumbnail_NtbNormalized.tif\" -crop 788x570+524+97  \"/media/yuncong/BstemAtlasData/CSHL_data_processed/CHATM2/CHATM2_prep2_thumbnail_NtbNormalized/CHATM2_slide46_2018_01_22-S3_prep2_thumbnail_NtbNormalized.tif\"\n",
      "0\n",
      "convert \"/media/yuncong/BstemAtlasData/CSHL_data_processed/CHATM2/CHATM2_prep1_thumbnail_NtbNormalized/CHATM2_slide48_2018_01_22-S1_prep1_thumbnail_NtbNormalized.tif\" -crop 788x570+524+97  \"/media/yuncong/BstemAtlasData/CSHL_data_processed/CHATM2/CHATM2_prep2_thumbnail_NtbNormalized/CHATM2_slide48_2018_01_22-S1_prep2_thumbnail_NtbNormalized.tif\"\n",
      "0\n",
      "convert \"/media/yuncong/BstemAtlasData/CSHL_data_processed/CHATM2/CHATM2_prep1_thumbnail_NtbNormalized/CHATM2_slide48_2018_01_22-S2_prep1_thumbnail_NtbNormalized.tif\" -crop 788x570+524+97  \"/media/yuncong/BstemAtlasData/CSHL_data_processed/CHATM2/CHATM2_prep2_thumbnail_NtbNormalized/CHATM2_slide48_2018_01_22-S2_prep2_thumbnail_NtbNormalized.tif\"\n"
     ]
    },
    {
     "name": "stderr",
     "output_type": "stream",
     "text": [
      "Crop: 0.08 seconds.\n",
      "Crop: 0.08 seconds.\n",
      "Crop: 0.09 seconds.\n"
     ]
    },
    {
     "name": "stdout",
     "output_type": "stream",
     "text": [
      "0\n",
      "convert \"/media/yuncong/BstemAtlasData/CSHL_data_processed/CHATM2/CHATM2_prep1_thumbnail_NtbNormalized/CHATM2_slide48_2018_01_22-S3_prep1_thumbnail_NtbNormalized.tif\" -crop 788x570+524+97  \"/media/yuncong/BstemAtlasData/CSHL_data_processed/CHATM2/CHATM2_prep2_thumbnail_NtbNormalized/CHATM2_slide48_2018_01_22-S3_prep2_thumbnail_NtbNormalized.tif\"\n",
      "0\n",
      "convert \"/media/yuncong/BstemAtlasData/CSHL_data_processed/CHATM2/CHATM2_prep1_thumbnail_NtbNormalized/CHATM2_slide49_2018_01_22-S1_prep1_thumbnail_NtbNormalized.tif\" -crop 788x570+524+97  \"/media/yuncong/BstemAtlasData/CSHL_data_processed/CHATM2/CHATM2_prep2_thumbnail_NtbNormalized/CHATM2_slide49_2018_01_22-S1_prep2_thumbnail_NtbNormalized.tif\"\n",
      "0\n",
      "convert \"/media/yuncong/BstemAtlasData/CSHL_data_processed/CHATM2/CHATM2_prep1_thumbnail_NtbNormalized/CHATM2_slide50_2018_01_22-S1_prep1_thumbnail_NtbNormalized.tif\" -crop 788x570+524+97  \"/media/yuncong/BstemAtlasData/CSHL_data_processed/CHATM2/CHATM2_prep2_thumbnail_NtbNormalized/CHATM2_slide50_2018_01_22-S1_prep2_thumbnail_NtbNormalized.tif\"\n"
     ]
    },
    {
     "name": "stderr",
     "output_type": "stream",
     "text": [
      "Crop: 0.08 seconds.\n",
      "Crop: 0.09 seconds.\n",
      "Crop: 0.09 seconds.\n"
     ]
    },
    {
     "name": "stdout",
     "output_type": "stream",
     "text": [
      "0\n",
      "convert \"/media/yuncong/BstemAtlasData/CSHL_data_processed/CHATM2/CHATM2_prep1_thumbnail_NtbNormalized/CHATM2_slide49_2018_01_22-S2_prep1_thumbnail_NtbNormalized.tif\" -crop 788x570+524+97  \"/media/yuncong/BstemAtlasData/CSHL_data_processed/CHATM2/CHATM2_prep2_thumbnail_NtbNormalized/CHATM2_slide49_2018_01_22-S2_prep2_thumbnail_NtbNormalized.tif\"\n",
      "0\n",
      "convert \"/media/yuncong/BstemAtlasData/CSHL_data_processed/CHATM2/CHATM2_prep1_thumbnail_NtbNormalized/CHATM2_slide50_2018_01_22-S2_prep1_thumbnail_NtbNormalized.tif\" -crop 788x570+524+97  \"/media/yuncong/BstemAtlasData/CSHL_data_processed/CHATM2/CHATM2_prep2_thumbnail_NtbNormalized/CHATM2_slide50_2018_01_22-S2_prep2_thumbnail_NtbNormalized.tif\"\n",
      "0\n",
      "convert \"/media/yuncong/BstemAtlasData/CSHL_data_processed/CHATM2/CHATM2_prep1_thumbnail_NtbNormalized/CHATM2_slide50_2018_01_22-S3_prep1_thumbnail_NtbNormalized.tif\" -crop 788x570+524+97  \"/media/yuncong/BstemAtlasData/CSHL_data_processed/CHATM2/CHATM2_prep2_thumbnail_NtbNormalized/CHATM2_slide50_2018_01_22-S3_prep2_thumbnail_NtbNormalized.tif\"\n"
     ]
    },
    {
     "name": "stderr",
     "output_type": "stream",
     "text": [
      "Crop: 0.09 seconds.\n",
      "Crop: 0.08 seconds.\n",
      "Crop: 0.08 seconds.\n"
     ]
    },
    {
     "name": "stdout",
     "output_type": "stream",
     "text": [
      "0\n",
      "convert \"/media/yuncong/BstemAtlasData/CSHL_data_processed/CHATM2/CHATM2_prep1_thumbnail_NtbNormalized/CHATM2_slide51_2018_01_22-S1_prep1_thumbnail_NtbNormalized.tif\" -crop 788x570+524+97  \"/media/yuncong/BstemAtlasData/CSHL_data_processed/CHATM2/CHATM2_prep2_thumbnail_NtbNormalized/CHATM2_slide51_2018_01_22-S1_prep2_thumbnail_NtbNormalized.tif\"\n",
      "0\n",
      "convert \"/media/yuncong/BstemAtlasData/CSHL_data_processed/CHATM2/CHATM2_prep1_thumbnail_NtbNormalized/CHATM2_slide52_2018_01_22-S1_prep1_thumbnail_NtbNormalized.tif\" -crop 788x570+524+97  \"/media/yuncong/BstemAtlasData/CSHL_data_processed/CHATM2/CHATM2_prep2_thumbnail_NtbNormalized/CHATM2_slide52_2018_01_22-S1_prep2_thumbnail_NtbNormalized.tif\"\n",
      "0\n",
      "convert \"/media/yuncong/BstemAtlasData/CSHL_data_processed/CHATM2/CHATM2_prep1_thumbnail_NtbNormalized/CHATM2_slide51_2018_01_22-S2_prep1_thumbnail_NtbNormalized.tif\" -crop 788x570+524+97  \"/media/yuncong/BstemAtlasData/CSHL_data_processed/CHATM2/CHATM2_prep2_thumbnail_NtbNormalized/CHATM2_slide51_2018_01_22-S2_prep2_thumbnail_NtbNormalized.tif\"\n"
     ]
    },
    {
     "name": "stderr",
     "output_type": "stream",
     "text": [
      "Crop: 0.08 seconds.\n",
      "Crop: 0.08 seconds.\n",
      "Crop: 0.09 seconds.\n"
     ]
    },
    {
     "name": "stdout",
     "output_type": "stream",
     "text": [
      "0\n",
      "convert \"/media/yuncong/BstemAtlasData/CSHL_data_processed/CHATM2/CHATM2_prep1_thumbnail_NtbNormalized/CHATM2_slide52_2018_01_22-S2_prep1_thumbnail_NtbNormalized.tif\" -crop 788x570+524+97  \"/media/yuncong/BstemAtlasData/CSHL_data_processed/CHATM2/CHATM2_prep2_thumbnail_NtbNormalized/CHATM2_slide52_2018_01_22-S2_prep2_thumbnail_NtbNormalized.tif\"\n",
      "0\n",
      "convert \"/media/yuncong/BstemAtlasData/CSHL_data_processed/CHATM2/CHATM2_prep1_thumbnail_NtbNormalized/CHATM2_slide51_2018_01_22-S3_prep1_thumbnail_NtbNormalized.tif\" -crop 788x570+524+97  \"/media/yuncong/BstemAtlasData/CSHL_data_processed/CHATM2/CHATM2_prep2_thumbnail_NtbNormalized/CHATM2_slide51_2018_01_22-S3_prep2_thumbnail_NtbNormalized.tif\"\n",
      "0\n",
      "convert \"/media/yuncong/BstemAtlasData/CSHL_data_processed/CHATM2/CHATM2_prep1_thumbnail_NtbNormalized/CHATM2_slide52_2018_01_22-S3_prep1_thumbnail_NtbNormalized.tif\" -crop 788x570+524+97  \"/media/yuncong/BstemAtlasData/CSHL_data_processed/CHATM2/CHATM2_prep2_thumbnail_NtbNormalized/CHATM2_slide52_2018_01_22-S3_prep2_thumbnail_NtbNormalized.tif\"\n"
     ]
    },
    {
     "name": "stderr",
     "output_type": "stream",
     "text": [
      "Crop: 0.09 seconds.\n",
      "Crop: 0.09 seconds.\n",
      "Crop: 0.08 seconds.\n"
     ]
    },
    {
     "name": "stdout",
     "output_type": "stream",
     "text": [
      "0\n",
      "convert \"/media/yuncong/BstemAtlasData/CSHL_data_processed/CHATM2/CHATM2_prep1_thumbnail_NtbNormalized/CHATM2_slide53_2018_01_22-S1_prep1_thumbnail_NtbNormalized.tif\" -crop 788x570+524+97  \"/media/yuncong/BstemAtlasData/CSHL_data_processed/CHATM2/CHATM2_prep2_thumbnail_NtbNormalized/CHATM2_slide53_2018_01_22-S1_prep2_thumbnail_NtbNormalized.tif\"\n",
      "0\n",
      "convert \"/media/yuncong/BstemAtlasData/CSHL_data_processed/CHATM2/CHATM2_prep1_thumbnail_NtbNormalized/CHATM2_slide54_2018_01_22-S1_prep1_thumbnail_NtbNormalized.tif\" -crop 788x570+524+97  \"/media/yuncong/BstemAtlasData/CSHL_data_processed/CHATM2/CHATM2_prep2_thumbnail_NtbNormalized/CHATM2_slide54_2018_01_22-S1_prep2_thumbnail_NtbNormalized.tif\"\n",
      "0\n",
      "convert \"/media/yuncong/BstemAtlasData/CSHL_data_processed/CHATM2/CHATM2_prep1_thumbnail_NtbNormalized/CHATM2_slide53_2018_01_22-S2_prep1_thumbnail_NtbNormalized.tif\" -crop 788x570+524+97  \"/media/yuncong/BstemAtlasData/CSHL_data_processed/CHATM2/CHATM2_prep2_thumbnail_NtbNormalized/CHATM2_slide53_2018_01_22-S2_prep2_thumbnail_NtbNormalized.tif\"\n"
     ]
    },
    {
     "name": "stderr",
     "output_type": "stream",
     "text": [
      "Crop: 0.09 seconds.\n",
      "Crop: 0.09 seconds.\n",
      "Crop: 0.08 seconds.\n"
     ]
    },
    {
     "name": "stdout",
     "output_type": "stream",
     "text": [
      "0\n",
      "convert \"/media/yuncong/BstemAtlasData/CSHL_data_processed/CHATM2/CHATM2_prep1_thumbnail_NtbNormalized/CHATM2_slide54_2018_01_22-S2_prep1_thumbnail_NtbNormalized.tif\" -crop 788x570+524+97  \"/media/yuncong/BstemAtlasData/CSHL_data_processed/CHATM2/CHATM2_prep2_thumbnail_NtbNormalized/CHATM2_slide54_2018_01_22-S2_prep2_thumbnail_NtbNormalized.tif\"\n",
      "0\n",
      "convert \"/media/yuncong/BstemAtlasData/CSHL_data_processed/CHATM2/CHATM2_prep1_thumbnail_NtbNormalized/CHATM2_slide53_2018_01_22-S3_prep1_thumbnail_NtbNormalized.tif\" -crop 788x570+524+97  \"/media/yuncong/BstemAtlasData/CSHL_data_processed/CHATM2/CHATM2_prep2_thumbnail_NtbNormalized/CHATM2_slide53_2018_01_22-S3_prep2_thumbnail_NtbNormalized.tif\"\n",
      "0\n",
      "convert \"/media/yuncong/BstemAtlasData/CSHL_data_processed/CHATM2/CHATM2_prep1_thumbnail_NtbNormalized/CHATM2_slide54_2018_01_22-S3_prep1_thumbnail_NtbNormalized.tif\" -crop 788x570+524+97  \"/media/yuncong/BstemAtlasData/CSHL_data_processed/CHATM2/CHATM2_prep2_thumbnail_NtbNormalized/CHATM2_slide54_2018_01_22-S3_prep2_thumbnail_NtbNormalized.tif\"\n"
     ]
    },
    {
     "name": "stderr",
     "output_type": "stream",
     "text": [
      "Crop: 0.09 seconds.\n",
      "Crop: 0.10 seconds.\n",
      "Crop: 0.09 seconds.\n"
     ]
    },
    {
     "name": "stdout",
     "output_type": "stream",
     "text": [
      "0\n",
      "convert \"/media/yuncong/BstemAtlasData/CSHL_data_processed/CHATM2/CHATM2_prep1_thumbnail_NtbNormalized/CHATM2_slide55_2018_01_22-S1_prep1_thumbnail_NtbNormalized.tif\" -crop 788x570+524+97  \"/media/yuncong/BstemAtlasData/CSHL_data_processed/CHATM2/CHATM2_prep2_thumbnail_NtbNormalized/CHATM2_slide55_2018_01_22-S1_prep2_thumbnail_NtbNormalized.tif\"\n",
      "0\n",
      "convert \"/media/yuncong/BstemAtlasData/CSHL_data_processed/CHATM2/CHATM2_prep1_thumbnail_NtbNormalized/CHATM2_slide56_2018_01_22-S1_prep1_thumbnail_NtbNormalized.tif\" -crop 788x570+524+97  \"/media/yuncong/BstemAtlasData/CSHL_data_processed/CHATM2/CHATM2_prep2_thumbnail_NtbNormalized/CHATM2_slide56_2018_01_22-S1_prep2_thumbnail_NtbNormalized.tif\"\n",
      "0\n",
      "convert \"/media/yuncong/BstemAtlasData/CSHL_data_processed/CHATM2/CHATM2_prep1_thumbnail_NtbNormalized/CHATM2_slide55_2018_01_22-S2_prep1_thumbnail_NtbNormalized.tif\" -crop 788x570+524+97  \"/media/yuncong/BstemAtlasData/CSHL_data_processed/CHATM2/CHATM2_prep2_thumbnail_NtbNormalized/CHATM2_slide55_2018_01_22-S2_prep2_thumbnail_NtbNormalized.tif\"\n"
     ]
    },
    {
     "name": "stderr",
     "output_type": "stream",
     "text": [
      "Crop: 0.09 seconds.\n",
      "Crop: 0.09 seconds.\n",
      "Crop: 0.09 seconds.\n"
     ]
    },
    {
     "name": "stdout",
     "output_type": "stream",
     "text": [
      "0\n",
      "convert \"/media/yuncong/BstemAtlasData/CSHL_data_processed/CHATM2/CHATM2_prep1_thumbnail_NtbNormalized/CHATM2_slide56_2018_01_22-S2_prep1_thumbnail_NtbNormalized.tif\" -crop 788x570+524+97  \"/media/yuncong/BstemAtlasData/CSHL_data_processed/CHATM2/CHATM2_prep2_thumbnail_NtbNormalized/CHATM2_slide56_2018_01_22-S2_prep2_thumbnail_NtbNormalized.tif\"\n",
      "0\n",
      "convert \"/media/yuncong/BstemAtlasData/CSHL_data_processed/CHATM2/CHATM2_prep1_thumbnail_NtbNormalized/CHATM2_slide55_2018_01_22-S3_prep1_thumbnail_NtbNormalized.tif\" -crop 788x570+524+97  \"/media/yuncong/BstemAtlasData/CSHL_data_processed/CHATM2/CHATM2_prep2_thumbnail_NtbNormalized/CHATM2_slide55_2018_01_22-S3_prep2_thumbnail_NtbNormalized.tif\"\n",
      "0\n",
      "convert \"/media/yuncong/BstemAtlasData/CSHL_data_processed/CHATM2/CHATM2_prep1_thumbnail_NtbNormalized/CHATM2_slide56_2018_01_22-S3_prep1_thumbnail_NtbNormalized.tif\" -crop 788x570+524+97  \"/media/yuncong/BstemAtlasData/CSHL_data_processed/CHATM2/CHATM2_prep2_thumbnail_NtbNormalized/CHATM2_slide56_2018_01_22-S3_prep2_thumbnail_NtbNormalized.tif\"\n"
     ]
    },
    {
     "name": "stderr",
     "output_type": "stream",
     "text": [
      "Crop: 0.08 seconds.\n",
      "Crop: 0.08 seconds.\n",
      "Crop: 0.08 seconds.\n"
     ]
    },
    {
     "name": "stdout",
     "output_type": "stream",
     "text": [
      "0\n",
      "convert \"/media/yuncong/BstemAtlasData/CSHL_data_processed/CHATM2/CHATM2_prep1_thumbnail_NtbNormalized/CHATM2_slide57_2018_01_22-S1_prep1_thumbnail_NtbNormalized.tif\" -crop 788x570+524+97  \"/media/yuncong/BstemAtlasData/CSHL_data_processed/CHATM2/CHATM2_prep2_thumbnail_NtbNormalized/CHATM2_slide57_2018_01_22-S1_prep2_thumbnail_NtbNormalized.tif\"\n",
      "0\n",
      "convert \"/media/yuncong/BstemAtlasData/CSHL_data_processed/CHATM2/CHATM2_prep1_thumbnail_NtbNormalized/CHATM2_slide58_2018_01_22-S1_prep1_thumbnail_NtbNormalized.tif\" -crop 788x570+524+97  \"/media/yuncong/BstemAtlasData/CSHL_data_processed/CHATM2/CHATM2_prep2_thumbnail_NtbNormalized/CHATM2_slide58_2018_01_22-S1_prep2_thumbnail_NtbNormalized.tif\"\n",
      "0\n",
      "convert \"/media/yuncong/BstemAtlasData/CSHL_data_processed/CHATM2/CHATM2_prep1_thumbnail_NtbNormalized/CHATM2_slide57_2018_01_22-S2_prep1_thumbnail_NtbNormalized.tif\" -crop 788x570+524+97  \"/media/yuncong/BstemAtlasData/CSHL_data_processed/CHATM2/CHATM2_prep2_thumbnail_NtbNormalized/CHATM2_slide57_2018_01_22-S2_prep2_thumbnail_NtbNormalized.tif\"\n"
     ]
    },
    {
     "name": "stderr",
     "output_type": "stream",
     "text": [
      "Crop: 0.10 seconds.\n",
      "Crop: 0.08 seconds.\n",
      "Crop: 0.08 seconds.\n"
     ]
    },
    {
     "name": "stdout",
     "output_type": "stream",
     "text": [
      "0\n",
      "convert \"/media/yuncong/BstemAtlasData/CSHL_data_processed/CHATM2/CHATM2_prep1_thumbnail_NtbNormalized/CHATM2_slide58_2018_01_22-S2_prep1_thumbnail_NtbNormalized.tif\" -crop 788x570+524+97  \"/media/yuncong/BstemAtlasData/CSHL_data_processed/CHATM2/CHATM2_prep2_thumbnail_NtbNormalized/CHATM2_slide58_2018_01_22-S2_prep2_thumbnail_NtbNormalized.tif\"\n",
      "0\n",
      "convert \"/media/yuncong/BstemAtlasData/CSHL_data_processed/CHATM2/CHATM2_prep1_thumbnail_NtbNormalized/CHATM2_slide57_2018_01_22-S3_prep1_thumbnail_NtbNormalized.tif\" -crop 788x570+524+97  \"/media/yuncong/BstemAtlasData/CSHL_data_processed/CHATM2/CHATM2_prep2_thumbnail_NtbNormalized/CHATM2_slide57_2018_01_22-S3_prep2_thumbnail_NtbNormalized.tif\"\n",
      "0\n",
      "convert \"/media/yuncong/BstemAtlasData/CSHL_data_processed/CHATM2/CHATM2_prep1_thumbnail_NtbNormalized/CHATM2_slide62_2018_02_14-S1_prep1_thumbnail_NtbNormalized.tif\" -crop 788x570+524+97  \"/media/yuncong/BstemAtlasData/CSHL_data_processed/CHATM2/CHATM2_prep2_thumbnail_NtbNormalized/CHATM2_slide62_2018_02_14-S1_prep2_thumbnail_NtbNormalized.tif\"\n"
     ]
    },
    {
     "name": "stderr",
     "output_type": "stream",
     "text": [
      "Crop: 0.08 seconds.\n",
      "Crop: 0.09 seconds.\n",
      "Crop: 0.09 seconds.\n"
     ]
    },
    {
     "name": "stdout",
     "output_type": "stream",
     "text": [
      "0\n",
      "convert \"/media/yuncong/BstemAtlasData/CSHL_data_processed/CHATM2/CHATM2_prep1_thumbnail_NtbNormalized/CHATM2_slide62_2018_02_14-S2_prep1_thumbnail_NtbNormalized.tif\" -crop 788x570+524+97  \"/media/yuncong/BstemAtlasData/CSHL_data_processed/CHATM2/CHATM2_prep2_thumbnail_NtbNormalized/CHATM2_slide62_2018_02_14-S2_prep2_thumbnail_NtbNormalized.tif\"\n",
      "0\n",
      "convert \"/media/yuncong/BstemAtlasData/CSHL_data_processed/CHATM2/CHATM2_prep1_thumbnail_NtbNormalized/CHATM2_slide62_2018_02_14-S3_prep1_thumbnail_NtbNormalized.tif\" -crop 788x570+524+97  \"/media/yuncong/BstemAtlasData/CSHL_data_processed/CHATM2/CHATM2_prep2_thumbnail_NtbNormalized/CHATM2_slide62_2018_02_14-S3_prep2_thumbnail_NtbNormalized.tif\"\n",
      "0\n",
      "convert \"/media/yuncong/BstemAtlasData/CSHL_data_processed/CHATM2/CHATM2_prep1_thumbnail_NtbNormalized/CHATM2_slide64_2018_02_15-S1_prep1_thumbnail_NtbNormalized.tif\" -crop 788x570+524+97  \"/media/yuncong/BstemAtlasData/CSHL_data_processed/CHATM2/CHATM2_prep2_thumbnail_NtbNormalized/CHATM2_slide64_2018_02_15-S1_prep2_thumbnail_NtbNormalized.tif\"\n"
     ]
    },
    {
     "name": "stderr",
     "output_type": "stream",
     "text": [
      "Crop: 0.09 seconds.\n",
      "Crop: 0.09 seconds.\n",
      "Crop: 0.09 seconds.\n"
     ]
    },
    {
     "name": "stdout",
     "output_type": "stream",
     "text": [
      "0\n",
      "convert \"/media/yuncong/BstemAtlasData/CSHL_data_processed/CHATM2/CHATM2_prep1_thumbnail_NtbNormalized/CHATM2_slide64_2018_02_15-S2_prep1_thumbnail_NtbNormalized.tif\" -crop 788x570+524+97  \"/media/yuncong/BstemAtlasData/CSHL_data_processed/CHATM2/CHATM2_prep2_thumbnail_NtbNormalized/CHATM2_slide64_2018_02_15-S2_prep2_thumbnail_NtbNormalized.tif\"\n",
      "0\n",
      "convert \"/media/yuncong/BstemAtlasData/CSHL_data_processed/CHATM2/CHATM2_prep1_thumbnail_NtbNormalized/CHATM2_slide64_2018_02_15-S3_prep1_thumbnail_NtbNormalized.tif\" -crop 788x570+524+97  \"/media/yuncong/BstemAtlasData/CSHL_data_processed/CHATM2/CHATM2_prep2_thumbnail_NtbNormalized/CHATM2_slide64_2018_02_15-S3_prep2_thumbnail_NtbNormalized.tif\"\n",
      "0\n",
      "convert \"/media/yuncong/BstemAtlasData/CSHL_data_processed/CHATM2/CHATM2_prep1_thumbnail_NtbNormalized/CHATM2_slide66_2018_02_14-S1_prep1_thumbnail_NtbNormalized.tif\" -crop 788x570+524+97  \"/media/yuncong/BstemAtlasData/CSHL_data_processed/CHATM2/CHATM2_prep2_thumbnail_NtbNormalized/CHATM2_slide66_2018_02_14-S1_prep2_thumbnail_NtbNormalized.tif\"\n"
     ]
    },
    {
     "name": "stderr",
     "output_type": "stream",
     "text": [
      "Crop: 0.09 seconds.\n",
      "Crop: 0.09 seconds.\n",
      "Crop: 0.08 seconds.\n"
     ]
    },
    {
     "name": "stdout",
     "output_type": "stream",
     "text": [
      "0\n",
      "convert \"/media/yuncong/BstemAtlasData/CSHL_data_processed/CHATM2/CHATM2_prep1_thumbnail_NtbNormalized/CHATM2_slide66_2018_02_14-S2_prep1_thumbnail_NtbNormalized.tif\" -crop 788x570+524+97  \"/media/yuncong/BstemAtlasData/CSHL_data_processed/CHATM2/CHATM2_prep2_thumbnail_NtbNormalized/CHATM2_slide66_2018_02_14-S2_prep2_thumbnail_NtbNormalized.tif\"\n",
      "0\n",
      "convert \"/media/yuncong/BstemAtlasData/CSHL_data_processed/CHATM2/CHATM2_prep1_thumbnail_NtbNormalized/CHATM2_slide66_2018_02_14-S3_prep1_thumbnail_NtbNormalized.tif\" -crop 788x570+524+97  \"/media/yuncong/BstemAtlasData/CSHL_data_processed/CHATM2/CHATM2_prep2_thumbnail_NtbNormalized/CHATM2_slide66_2018_02_14-S3_prep2_thumbnail_NtbNormalized.tif\"\n",
      "0\n",
      "convert \"/media/yuncong/BstemAtlasData/CSHL_data_processed/CHATM2/CHATM2_prep1_thumbnail_NtbNormalized/CHATM2_slide68_2018_02_14-S1_prep1_thumbnail_NtbNormalized.tif\" -crop 788x570+524+97  \"/media/yuncong/BstemAtlasData/CSHL_data_processed/CHATM2/CHATM2_prep2_thumbnail_NtbNormalized/CHATM2_slide68_2018_02_14-S1_prep2_thumbnail_NtbNormalized.tif\"\n"
     ]
    },
    {
     "name": "stderr",
     "output_type": "stream",
     "text": [
      "Crop: 0.09 seconds.\n",
      "Crop: 0.09 seconds.\n",
      "Crop: 0.10 seconds.\n"
     ]
    },
    {
     "name": "stdout",
     "output_type": "stream",
     "text": [
      "0\n",
      "convert \"/media/yuncong/BstemAtlasData/CSHL_data_processed/CHATM2/CHATM2_prep1_thumbnail_NtbNormalized/CHATM2_slide68_2018_02_14-S2_prep1_thumbnail_NtbNormalized.tif\" -crop 788x570+524+97  \"/media/yuncong/BstemAtlasData/CSHL_data_processed/CHATM2/CHATM2_prep2_thumbnail_NtbNormalized/CHATM2_slide68_2018_02_14-S2_prep2_thumbnail_NtbNormalized.tif\"\n",
      "0\n",
      "convert \"/media/yuncong/BstemAtlasData/CSHL_data_processed/CHATM2/CHATM2_prep1_thumbnail_NtbNormalized/CHATM2_slide70_2018_02_14-S1_prep1_thumbnail_NtbNormalized.tif\" -crop 788x570+524+97  \"/media/yuncong/BstemAtlasData/CSHL_data_processed/CHATM2/CHATM2_prep2_thumbnail_NtbNormalized/CHATM2_slide70_2018_02_14-S1_prep2_thumbnail_NtbNormalized.tif\"\n",
      "0\n",
      "convert \"/media/yuncong/BstemAtlasData/CSHL_data_processed/CHATM2/CHATM2_prep1_thumbnail_NtbNormalized/CHATM2_slide70_2018_02_14-S2_prep1_thumbnail_NtbNormalized.tif\" -crop 788x570+524+97  \"/media/yuncong/BstemAtlasData/CSHL_data_processed/CHATM2/CHATM2_prep2_thumbnail_NtbNormalized/CHATM2_slide70_2018_02_14-S2_prep2_thumbnail_NtbNormalized.tif\"\n"
     ]
    },
    {
     "name": "stderr",
     "output_type": "stream",
     "text": [
      "Crop: 0.09 seconds.\n",
      "Crop: 0.08 seconds.\n",
      "Crop: 0.08 seconds.\n"
     ]
    },
    {
     "name": "stdout",
     "output_type": "stream",
     "text": [
      "0\n",
      "convert \"/media/yuncong/BstemAtlasData/CSHL_data_processed/CHATM2/CHATM2_prep1_thumbnail_NtbNormalized/CHATM2_slide70_2018_02_14-S3_prep1_thumbnail_NtbNormalized.tif\" -crop 788x570+524+97  \"/media/yuncong/BstemAtlasData/CSHL_data_processed/CHATM2/CHATM2_prep2_thumbnail_NtbNormalized/CHATM2_slide70_2018_02_14-S3_prep2_thumbnail_NtbNormalized.tif\"\n",
      "0\n",
      "convert \"/media/yuncong/BstemAtlasData/CSHL_data_processed/CHATM2/CHATM2_prep1_thumbnail_NtbNormalized/CHATM2_slide72_2018_02_14-S1_prep1_thumbnail_NtbNormalized.tif\" -crop 788x570+524+97  \"/media/yuncong/BstemAtlasData/CSHL_data_processed/CHATM2/CHATM2_prep2_thumbnail_NtbNormalized/CHATM2_slide72_2018_02_14-S1_prep2_thumbnail_NtbNormalized.tif\"\n",
      "0\n",
      "convert \"/media/yuncong/BstemAtlasData/CSHL_data_processed/CHATM2/CHATM2_prep1_thumbnail_NtbNormalized/CHATM2_slide72_2018_02_14-S2_prep1_thumbnail_NtbNormalized.tif\" -crop 788x570+524+97  \"/media/yuncong/BstemAtlasData/CSHL_data_processed/CHATM2/CHATM2_prep2_thumbnail_NtbNormalized/CHATM2_slide72_2018_02_14-S2_prep2_thumbnail_NtbNormalized.tif\"\n"
     ]
    },
    {
     "name": "stderr",
     "output_type": "stream",
     "text": [
      "Crop: 0.09 seconds.\n",
      "Crop: 0.09 seconds.\n",
      "Crop: 0.09 seconds.\n"
     ]
    },
    {
     "name": "stdout",
     "output_type": "stream",
     "text": [
      "0\n",
      "convert \"/media/yuncong/BstemAtlasData/CSHL_data_processed/CHATM2/CHATM2_prep1_thumbnail_NtbNormalized/CHATM2_slide72_2018_02_14-S3_prep1_thumbnail_NtbNormalized.tif\" -crop 788x570+524+97  \"/media/yuncong/BstemAtlasData/CSHL_data_processed/CHATM2/CHATM2_prep2_thumbnail_NtbNormalized/CHATM2_slide72_2018_02_14-S3_prep2_thumbnail_NtbNormalized.tif\"\n",
      "0\n",
      "convert \"/media/yuncong/BstemAtlasData/CSHL_data_processed/CHATM2/CHATM2_prep1_thumbnail_NtbNormalized/CHATM2_slide74_2018_02_14-S1_prep1_thumbnail_NtbNormalized.tif\" -crop 788x570+524+97  \"/media/yuncong/BstemAtlasData/CSHL_data_processed/CHATM2/CHATM2_prep2_thumbnail_NtbNormalized/CHATM2_slide74_2018_02_14-S1_prep2_thumbnail_NtbNormalized.tif\"\n",
      "0\n",
      "convert \"/media/yuncong/BstemAtlasData/CSHL_data_processed/CHATM2/CHATM2_prep1_thumbnail_NtbNormalized/CHATM2_slide74_2018_02_14-S2_prep1_thumbnail_NtbNormalized.tif\" -crop 788x570+524+97  \"/media/yuncong/BstemAtlasData/CSHL_data_processed/CHATM2/CHATM2_prep2_thumbnail_NtbNormalized/CHATM2_slide74_2018_02_14-S2_prep2_thumbnail_NtbNormalized.tif\"\n"
     ]
    },
    {
     "name": "stderr",
     "output_type": "stream",
     "text": [
      "Crop: 0.08 seconds.\n",
      "Crop: 0.09 seconds.\n",
      "Crop: 0.08 seconds.\n"
     ]
    },
    {
     "name": "stdout",
     "output_type": "stream",
     "text": [
      "0\n",
      "convert \"/media/yuncong/BstemAtlasData/CSHL_data_processed/CHATM2/CHATM2_prep1_thumbnail_NtbNormalized/CHATM2_slide74_2018_02_14-S3_prep1_thumbnail_NtbNormalized.tif\" -crop 788x570+524+97  \"/media/yuncong/BstemAtlasData/CSHL_data_processed/CHATM2/CHATM2_prep2_thumbnail_NtbNormalized/CHATM2_slide74_2018_02_14-S3_prep2_thumbnail_NtbNormalized.tif\"\n",
      "0\n",
      "convert \"/media/yuncong/BstemAtlasData/CSHL_data_processed/CHATM2/CHATM2_prep1_thumbnail_NtbNormalized/CHATM2_slide76_2018_02_14-S1_prep1_thumbnail_NtbNormalized.tif\" -crop 788x570+524+97  \"/media/yuncong/BstemAtlasData/CSHL_data_processed/CHATM2/CHATM2_prep2_thumbnail_NtbNormalized/CHATM2_slide76_2018_02_14-S1_prep2_thumbnail_NtbNormalized.tif\"\n",
      "0\n",
      "convert \"/media/yuncong/BstemAtlasData/CSHL_data_processed/CHATM2/CHATM2_prep1_thumbnail_NtbNormalized/CHATM2_slide76_2018_02_14-S2_prep1_thumbnail_NtbNormalized.tif\" -crop 788x570+524+97  \"/media/yuncong/BstemAtlasData/CSHL_data_processed/CHATM2/CHATM2_prep2_thumbnail_NtbNormalized/CHATM2_slide76_2018_02_14-S2_prep2_thumbnail_NtbNormalized.tif\"\n"
     ]
    },
    {
     "name": "stderr",
     "output_type": "stream",
     "text": [
      "Crop: 0.09 seconds.\n",
      "Crop: 0.09 seconds.\n",
      "Crop: 0.08 seconds.\n"
     ]
    },
    {
     "name": "stdout",
     "output_type": "stream",
     "text": [
      "0\n",
      "convert \"/media/yuncong/BstemAtlasData/CSHL_data_processed/CHATM2/CHATM2_prep1_thumbnail_NtbNormalized/CHATM2_slide76_2018_02_14-S3_prep1_thumbnail_NtbNormalized.tif\" -crop 788x570+524+97  \"/media/yuncong/BstemAtlasData/CSHL_data_processed/CHATM2/CHATM2_prep2_thumbnail_NtbNormalized/CHATM2_slide76_2018_02_14-S3_prep2_thumbnail_NtbNormalized.tif\"\n",
      "0\n",
      "convert \"/media/yuncong/BstemAtlasData/CSHL_data_processed/CHATM2/CHATM2_prep1_thumbnail_NtbNormalized/CHATM2_slide78_2018_02_14-S1_prep1_thumbnail_NtbNormalized.tif\" -crop 788x570+524+97  \"/media/yuncong/BstemAtlasData/CSHL_data_processed/CHATM2/CHATM2_prep2_thumbnail_NtbNormalized/CHATM2_slide78_2018_02_14-S1_prep2_thumbnail_NtbNormalized.tif\"\n",
      "0\n",
      "convert \"/media/yuncong/BstemAtlasData/CSHL_data_processed/CHATM2/CHATM2_prep1_thumbnail_NtbNormalized/CHATM2_slide78_2018_02_14-S2_prep1_thumbnail_NtbNormalized.tif\" -crop 788x570+524+97  \"/media/yuncong/BstemAtlasData/CSHL_data_processed/CHATM2/CHATM2_prep2_thumbnail_NtbNormalized/CHATM2_slide78_2018_02_14-S2_prep2_thumbnail_NtbNormalized.tif\"\n"
     ]
    },
    {
     "name": "stderr",
     "output_type": "stream",
     "text": [
      "Crop: 0.08 seconds.\n",
      "Crop: 0.09 seconds.\n",
      "Crop: 0.08 seconds.\n"
     ]
    },
    {
     "name": "stdout",
     "output_type": "stream",
     "text": [
      "0\n",
      "convert \"/media/yuncong/BstemAtlasData/CSHL_data_processed/CHATM2/CHATM2_prep1_thumbnail_NtbNormalized/CHATM2_slide78_2018_02_14-S3_prep1_thumbnail_NtbNormalized.tif\" -crop 788x570+524+97  \"/media/yuncong/BstemAtlasData/CSHL_data_processed/CHATM2/CHATM2_prep2_thumbnail_NtbNormalized/CHATM2_slide78_2018_02_14-S3_prep2_thumbnail_NtbNormalized.tif\"\n",
      "0\n",
      "convert \"/media/yuncong/BstemAtlasData/CSHL_data_processed/CHATM2/CHATM2_prep1_thumbnail_NtbNormalized/CHATM2_slide80_2018_02_14-S1_prep1_thumbnail_NtbNormalized.tif\" -crop 788x570+524+97  \"/media/yuncong/BstemAtlasData/CSHL_data_processed/CHATM2/CHATM2_prep2_thumbnail_NtbNormalized/CHATM2_slide80_2018_02_14-S1_prep2_thumbnail_NtbNormalized.tif\"\n",
      "0\n",
      "convert \"/media/yuncong/BstemAtlasData/CSHL_data_processed/CHATM2/CHATM2_prep1_thumbnail_NtbNormalized/CHATM2_slide80_2018_02_14-S2_prep1_thumbnail_NtbNormalized.tif\" -crop 788x570+524+97  \"/media/yuncong/BstemAtlasData/CSHL_data_processed/CHATM2/CHATM2_prep2_thumbnail_NtbNormalized/CHATM2_slide80_2018_02_14-S2_prep2_thumbnail_NtbNormalized.tif\"\n"
     ]
    },
    {
     "name": "stderr",
     "output_type": "stream",
     "text": [
      "Crop: 0.09 seconds.\n",
      "Crop: 0.08 seconds.\n",
      "Crop: 0.08 seconds.\n"
     ]
    },
    {
     "name": "stdout",
     "output_type": "stream",
     "text": [
      "0\n",
      "convert \"/media/yuncong/BstemAtlasData/CSHL_data_processed/CHATM2/CHATM2_prep1_thumbnail_NtbNormalized/CHATM2_slide80_2018_02_14-S3_prep1_thumbnail_NtbNormalized.tif\" -crop 788x570+524+97  \"/media/yuncong/BstemAtlasData/CSHL_data_processed/CHATM2/CHATM2_prep2_thumbnail_NtbNormalized/CHATM2_slide80_2018_02_14-S3_prep2_thumbnail_NtbNormalized.tif\"\n",
      "0\n",
      "convert \"/media/yuncong/BstemAtlasData/CSHL_data_processed/CHATM2/CHATM2_prep1_thumbnail_NtbNormalized/CHATM2_slide82_2018_02_14-S1_prep1_thumbnail_NtbNormalized.tif\" -crop 788x570+524+97  \"/media/yuncong/BstemAtlasData/CSHL_data_processed/CHATM2/CHATM2_prep2_thumbnail_NtbNormalized/CHATM2_slide82_2018_02_14-S1_prep2_thumbnail_NtbNormalized.tif\"\n",
      "0\n",
      "convert \"/media/yuncong/BstemAtlasData/CSHL_data_processed/CHATM2/CHATM2_prep1_thumbnail_NtbNormalized/CHATM2_slide82_2018_02_14-S2_prep1_thumbnail_NtbNormalized.tif\" -crop 788x570+524+97  \"/media/yuncong/BstemAtlasData/CSHL_data_processed/CHATM2/CHATM2_prep2_thumbnail_NtbNormalized/CHATM2_slide82_2018_02_14-S2_prep2_thumbnail_NtbNormalized.tif\"\n"
     ]
    },
    {
     "name": "stderr",
     "output_type": "stream",
     "text": [
      "Crop: 0.09 seconds.\n",
      "Crop: 0.09 seconds.\n",
      "Crop: 0.08 seconds.\n"
     ]
    },
    {
     "name": "stdout",
     "output_type": "stream",
     "text": [
      "0\n",
      "convert \"/media/yuncong/BstemAtlasData/CSHL_data_processed/CHATM2/CHATM2_prep1_thumbnail_NtbNormalized/CHATM2_slide82_2018_02_14-S3_prep1_thumbnail_NtbNormalized.tif\" -crop 788x570+524+97  \"/media/yuncong/BstemAtlasData/CSHL_data_processed/CHATM2/CHATM2_prep2_thumbnail_NtbNormalized/CHATM2_slide82_2018_02_14-S3_prep2_thumbnail_NtbNormalized.tif\"\n",
      "0\n",
      "convert \"/media/yuncong/BstemAtlasData/CSHL_data_processed/CHATM2/CHATM2_prep1_thumbnail_NtbNormalized/CHATM2_slide84_2018_02_14-S1_prep1_thumbnail_NtbNormalized.tif\" -crop 788x570+524+97  \"/media/yuncong/BstemAtlasData/CSHL_data_processed/CHATM2/CHATM2_prep2_thumbnail_NtbNormalized/CHATM2_slide84_2018_02_14-S1_prep2_thumbnail_NtbNormalized.tif\"\n",
      "0\n",
      "convert \"/media/yuncong/BstemAtlasData/CSHL_data_processed/CHATM2/CHATM2_prep1_thumbnail_NtbNormalized/CHATM2_slide84_2018_02_14-S2_prep1_thumbnail_NtbNormalized.tif\" -crop 788x570+524+97  \"/media/yuncong/BstemAtlasData/CSHL_data_processed/CHATM2/CHATM2_prep2_thumbnail_NtbNormalized/CHATM2_slide84_2018_02_14-S2_prep2_thumbnail_NtbNormalized.tif\"\n"
     ]
    },
    {
     "name": "stderr",
     "output_type": "stream",
     "text": [
      "Crop: 0.08 seconds.\n",
      "Crop: 0.09 seconds.\n",
      "Crop: 0.08 seconds.\n"
     ]
    },
    {
     "name": "stdout",
     "output_type": "stream",
     "text": [
      "0\n",
      "convert \"/media/yuncong/BstemAtlasData/CSHL_data_processed/CHATM2/CHATM2_prep1_thumbnail_NtbNormalized/CHATM2_slide84_2018_02_14-S3_prep1_thumbnail_NtbNormalized.tif\" -crop 788x570+524+97  \"/media/yuncong/BstemAtlasData/CSHL_data_processed/CHATM2/CHATM2_prep2_thumbnail_NtbNormalized/CHATM2_slide84_2018_02_14-S3_prep2_thumbnail_NtbNormalized.tif\"\n",
      "0\n",
      "convert \"/media/yuncong/BstemAtlasData/CSHL_data_processed/CHATM2/CHATM2_prep1_thumbnail_NtbNormalized/CHATM2_slide86_2018_02_13-S1_prep1_thumbnail_NtbNormalized.tif\" -crop 788x570+524+97  \"/media/yuncong/BstemAtlasData/CSHL_data_processed/CHATM2/CHATM2_prep2_thumbnail_NtbNormalized/CHATM2_slide86_2018_02_13-S1_prep2_thumbnail_NtbNormalized.tif\"\n",
      "0\n",
      "convert \"/media/yuncong/BstemAtlasData/CSHL_data_processed/CHATM2/CHATM2_prep1_thumbnail_NtbNormalized/CHATM2_slide86_2018_02_13-S2_prep1_thumbnail_NtbNormalized.tif\" -crop 788x570+524+97  \"/media/yuncong/BstemAtlasData/CSHL_data_processed/CHATM2/CHATM2_prep2_thumbnail_NtbNormalized/CHATM2_slide86_2018_02_13-S2_prep2_thumbnail_NtbNormalized.tif\"\n"
     ]
    },
    {
     "name": "stderr",
     "output_type": "stream",
     "text": [
      "Crop: 0.09 seconds.\n",
      "Crop: 0.09 seconds.\n",
      "Crop: 0.08 seconds.\n"
     ]
    },
    {
     "name": "stdout",
     "output_type": "stream",
     "text": [
      "0\n",
      "convert \"/media/yuncong/BstemAtlasData/CSHL_data_processed/CHATM2/CHATM2_prep1_thumbnail_NtbNormalized/CHATM2_slide86_2018_02_13-S3_prep1_thumbnail_NtbNormalized.tif\" -crop 788x570+524+97  \"/media/yuncong/BstemAtlasData/CSHL_data_processed/CHATM2/CHATM2_prep2_thumbnail_NtbNormalized/CHATM2_slide86_2018_02_13-S3_prep2_thumbnail_NtbNormalized.tif\"\n",
      "0\n",
      "convert \"/media/yuncong/BstemAtlasData/CSHL_data_processed/CHATM2/CHATM2_prep1_thumbnail_NtbNormalized/CHATM2_slide88_2018_02_13-S1_prep1_thumbnail_NtbNormalized.tif\" -crop 788x570+524+97  \"/media/yuncong/BstemAtlasData/CSHL_data_processed/CHATM2/CHATM2_prep2_thumbnail_NtbNormalized/CHATM2_slide88_2018_02_13-S1_prep2_thumbnail_NtbNormalized.tif\"\n",
      "0\n",
      "convert \"/media/yuncong/BstemAtlasData/CSHL_data_processed/CHATM2/CHATM2_prep1_thumbnail_NtbNormalized/CHATM2_slide88_2018_02_13-S2_prep1_thumbnail_NtbNormalized.tif\" -crop 788x570+524+97  \"/media/yuncong/BstemAtlasData/CSHL_data_processed/CHATM2/CHATM2_prep2_thumbnail_NtbNormalized/CHATM2_slide88_2018_02_13-S2_prep2_thumbnail_NtbNormalized.tif\"\n"
     ]
    },
    {
     "name": "stderr",
     "output_type": "stream",
     "text": [
      "Crop: 0.08 seconds.\n",
      "Crop: 0.08 seconds.\n",
      "Crop: 0.08 seconds.\n"
     ]
    },
    {
     "name": "stdout",
     "output_type": "stream",
     "text": [
      "0\n",
      "convert \"/media/yuncong/BstemAtlasData/CSHL_data_processed/CHATM2/CHATM2_prep1_thumbnail_NtbNormalized/CHATM2_slide88_2018_02_13-S3_prep1_thumbnail_NtbNormalized.tif\" -crop 788x570+524+97  \"/media/yuncong/BstemAtlasData/CSHL_data_processed/CHATM2/CHATM2_prep2_thumbnail_NtbNormalized/CHATM2_slide88_2018_02_13-S3_prep2_thumbnail_NtbNormalized.tif\"\n",
      "0\n",
      "convert \"/media/yuncong/BstemAtlasData/CSHL_data_processed/CHATM2/CHATM2_prep1_thumbnail_NtbNormalized/CHATM2_slide90_2018_02_13-S1_prep1_thumbnail_NtbNormalized.tif\" -crop 788x570+524+97  \"/media/yuncong/BstemAtlasData/CSHL_data_processed/CHATM2/CHATM2_prep2_thumbnail_NtbNormalized/CHATM2_slide90_2018_02_13-S1_prep2_thumbnail_NtbNormalized.tif\"\n",
      "0\n",
      "convert \"/media/yuncong/BstemAtlasData/CSHL_data_processed/CHATM2/CHATM2_prep1_thumbnail_NtbNormalized/CHATM2_slide90_2018_02_13-S2_prep1_thumbnail_NtbNormalized.tif\" -crop 788x570+524+97  \"/media/yuncong/BstemAtlasData/CSHL_data_processed/CHATM2/CHATM2_prep2_thumbnail_NtbNormalized/CHATM2_slide90_2018_02_13-S2_prep2_thumbnail_NtbNormalized.tif\"\n"
     ]
    },
    {
     "name": "stderr",
     "output_type": "stream",
     "text": [
      "Crop: 0.08 seconds.\n",
      "Crop: 0.08 seconds.\n",
      "Crop: 0.08 seconds.\n"
     ]
    },
    {
     "name": "stdout",
     "output_type": "stream",
     "text": [
      "0\n",
      "convert \"/media/yuncong/BstemAtlasData/CSHL_data_processed/CHATM2/CHATM2_prep1_thumbnail_NtbNormalized/CHATM2_slide90_2018_02_13-S3_prep1_thumbnail_NtbNormalized.tif\" -crop 788x570+524+97  \"/media/yuncong/BstemAtlasData/CSHL_data_processed/CHATM2/CHATM2_prep2_thumbnail_NtbNormalized/CHATM2_slide90_2018_02_13-S3_prep2_thumbnail_NtbNormalized.tif\"\n",
      "0\n",
      "convert \"/media/yuncong/BstemAtlasData/CSHL_data_processed/CHATM2/CHATM2_prep1_thumbnail_NtbNormalized/CHATM2_slide92_2018_02_13-S1_prep1_thumbnail_NtbNormalized.tif\" -crop 788x570+524+97  \"/media/yuncong/BstemAtlasData/CSHL_data_processed/CHATM2/CHATM2_prep2_thumbnail_NtbNormalized/CHATM2_slide92_2018_02_13-S1_prep2_thumbnail_NtbNormalized.tif\"\n",
      "0\n",
      "convert \"/media/yuncong/BstemAtlasData/CSHL_data_processed/CHATM2/CHATM2_prep1_thumbnail_NtbNormalized/CHATM2_slide92_2018_02_13-S2_prep1_thumbnail_NtbNormalized.tif\" -crop 788x570+524+97  \"/media/yuncong/BstemAtlasData/CSHL_data_processed/CHATM2/CHATM2_prep2_thumbnail_NtbNormalized/CHATM2_slide92_2018_02_13-S2_prep2_thumbnail_NtbNormalized.tif\"\n"
     ]
    },
    {
     "name": "stderr",
     "output_type": "stream",
     "text": [
      "Crop: 0.09 seconds.\n",
      "Crop: 0.08 seconds.\n",
      "Crop: 0.09 seconds.\n"
     ]
    },
    {
     "name": "stdout",
     "output_type": "stream",
     "text": [
      "0\n",
      "convert \"/media/yuncong/BstemAtlasData/CSHL_data_processed/CHATM2/CHATM2_prep1_thumbnail_NtbNormalized/CHATM2_slide92_2018_02_13-S3_prep1_thumbnail_NtbNormalized.tif\" -crop 788x570+524+97  \"/media/yuncong/BstemAtlasData/CSHL_data_processed/CHATM2/CHATM2_prep2_thumbnail_NtbNormalized/CHATM2_slide92_2018_02_13-S3_prep2_thumbnail_NtbNormalized.tif\"\n",
      "0\n",
      "convert \"/media/yuncong/BstemAtlasData/CSHL_data_processed/CHATM2/CHATM2_prep1_thumbnail_NtbNormalized/CHATM2_slide94_2018_02_13-S1_prep1_thumbnail_NtbNormalized.tif\" -crop 788x570+524+97  \"/media/yuncong/BstemAtlasData/CSHL_data_processed/CHATM2/CHATM2_prep2_thumbnail_NtbNormalized/CHATM2_slide94_2018_02_13-S1_prep2_thumbnail_NtbNormalized.tif\"\n",
      "0\n",
      "convert \"/media/yuncong/BstemAtlasData/CSHL_data_processed/CHATM2/CHATM2_prep1_thumbnail_NtbNormalized/CHATM2_slide94_2018_02_13-S2_prep1_thumbnail_NtbNormalized.tif\" -crop 788x570+524+97  \"/media/yuncong/BstemAtlasData/CSHL_data_processed/CHATM2/CHATM2_prep2_thumbnail_NtbNormalized/CHATM2_slide94_2018_02_13-S2_prep2_thumbnail_NtbNormalized.tif\"\n",
      "0\n",
      "convert \"/media/yuncong/BstemAtlasData/CSHL_data_processed/CHATM2/CHATM2_prep1_thumbnail_NtbNormalized/CHATM2_slide94_2018_02_13-S3_prep1_thumbnail_NtbNormalized.tif\" -crop 788x570+524+97  \"/media/yuncong/BstemAtlasData/CSHL_data_processed/CHATM2/CHATM2_prep2_thumbnail_NtbNormalized/CHATM2_slide94_2018_02_13-S3_prep2_thumbnail_NtbNormalized.tif\"\n"
     ]
    },
    {
     "name": "stderr",
     "output_type": "stream",
     "text": [
      "Crop: 0.21 seconds.\n",
      "Crop: 0.08 seconds.\n",
      "Crop: 0.08 seconds.\n"
     ]
    },
    {
     "name": "stdout",
     "output_type": "stream",
     "text": [
      "0\n",
      "convert \"/media/yuncong/BstemAtlasData/CSHL_data_processed/CHATM2/CHATM2_prep1_thumbnail_NtbNormalized/CHATM2_slide96_2018_02_13-S1_prep1_thumbnail_NtbNormalized.tif\" -crop 788x570+524+97  \"/media/yuncong/BstemAtlasData/CSHL_data_processed/CHATM2/CHATM2_prep2_thumbnail_NtbNormalized/CHATM2_slide96_2018_02_13-S1_prep2_thumbnail_NtbNormalized.tif\"\n",
      "0\n",
      "convert \"/media/yuncong/BstemAtlasData/CSHL_data_processed/CHATM2/CHATM2_prep1_thumbnail_NtbNormalized/CHATM2_slide96_2018_02_13-S2_prep1_thumbnail_NtbNormalized.tif\" -crop 788x570+524+97  \"/media/yuncong/BstemAtlasData/CSHL_data_processed/CHATM2/CHATM2_prep2_thumbnail_NtbNormalized/CHATM2_slide96_2018_02_13-S2_prep2_thumbnail_NtbNormalized.tif\"\n",
      "0\n",
      "convert \"/media/yuncong/BstemAtlasData/CSHL_data_processed/CHATM2/CHATM2_prep1_thumbnail_NtbNormalized/CHATM2_slide96_2018_02_13-S3_prep1_thumbnail_NtbNormalized.tif\" -crop 788x570+524+97  \"/media/yuncong/BstemAtlasData/CSHL_data_processed/CHATM2/CHATM2_prep2_thumbnail_NtbNormalized/CHATM2_slide96_2018_02_13-S3_prep2_thumbnail_NtbNormalized.tif\"\n"
     ]
    },
    {
     "name": "stderr",
     "output_type": "stream",
     "text": [
      "Crop: 0.08 seconds.\n",
      "Crop: 0.09 seconds.\n",
      "Crop: 0.08 seconds.\n"
     ]
    },
    {
     "name": "stdout",
     "output_type": "stream",
     "text": [
      "0\n",
      "convert \"/media/yuncong/BstemAtlasData/CSHL_data_processed/CHATM2/CHATM2_prep1_thumbnail_NtbNormalized/CHATM2_slide98_2018_02_13-S1_prep1_thumbnail_NtbNormalized.tif\" -crop 788x570+524+97  \"/media/yuncong/BstemAtlasData/CSHL_data_processed/CHATM2/CHATM2_prep2_thumbnail_NtbNormalized/CHATM2_slide98_2018_02_13-S1_prep2_thumbnail_NtbNormalized.tif\"\n",
      "0\n",
      "convert \"/media/yuncong/BstemAtlasData/CSHL_data_processed/CHATM2/CHATM2_prep1_thumbnail_NtbNormalized/CHATM2_slide98_2018_02_13-S2_prep1_thumbnail_NtbNormalized.tif\" -crop 788x570+524+97  \"/media/yuncong/BstemAtlasData/CSHL_data_processed/CHATM2/CHATM2_prep2_thumbnail_NtbNormalized/CHATM2_slide98_2018_02_13-S2_prep2_thumbnail_NtbNormalized.tif\"\n",
      "0\n",
      "convert \"/media/yuncong/BstemAtlasData/CSHL_data_processed/CHATM2/CHATM2_prep1_thumbnail_NtbNormalized/CHATM2_slide98_2018_02_13-S3_prep1_thumbnail_NtbNormalized.tif\" -crop 788x570+524+97  \"/media/yuncong/BstemAtlasData/CSHL_data_processed/CHATM2/CHATM2_prep2_thumbnail_NtbNormalized/CHATM2_slide98_2018_02_13-S3_prep2_thumbnail_NtbNormalized.tif\"\n"
     ]
    },
    {
     "name": "stderr",
     "output_type": "stream",
     "text": [
      "Crop: 0.08 seconds.\n",
      "Crop: 0.08 seconds.\n",
      "Crop: 0.08 seconds.\n"
     ]
    },
    {
     "name": "stdout",
     "output_type": "stream",
     "text": [
      "0\n",
      "convert \"/media/yuncong/BstemAtlasData/CSHL_data_processed/CHATM2/CHATM2_prep1_thumbnail_NtbNormalized/CHATM2_slide100_2018_02_13-S1_prep1_thumbnail_NtbNormalized.tif\" -crop 788x570+524+97  \"/media/yuncong/BstemAtlasData/CSHL_data_processed/CHATM2/CHATM2_prep2_thumbnail_NtbNormalized/CHATM2_slide100_2018_02_13-S1_prep2_thumbnail_NtbNormalized.tif\"\n",
      "0\n",
      "convert \"/media/yuncong/BstemAtlasData/CSHL_data_processed/CHATM2/CHATM2_prep1_thumbnail_NtbNormalized/CHATM2_slide100_2018_02_13-S2_prep1_thumbnail_NtbNormalized.tif\" -crop 788x570+524+97  \"/media/yuncong/BstemAtlasData/CSHL_data_processed/CHATM2/CHATM2_prep2_thumbnail_NtbNormalized/CHATM2_slide100_2018_02_13-S2_prep2_thumbnail_NtbNormalized.tif\"\n",
      "0\n",
      "convert \"/media/yuncong/BstemAtlasData/CSHL_data_processed/CHATM2/CHATM2_prep1_thumbnail_NtbNormalized/CHATM2_slide100_2018_02_13-S3_prep1_thumbnail_NtbNormalized.tif\" -crop 788x570+524+97  \"/media/yuncong/BstemAtlasData/CSHL_data_processed/CHATM2/CHATM2_prep2_thumbnail_NtbNormalized/CHATM2_slide100_2018_02_13-S3_prep2_thumbnail_NtbNormalized.tif\"\n"
     ]
    },
    {
     "name": "stderr",
     "output_type": "stream",
     "text": [
      "Crop: 0.08 seconds.\n",
      "Crop: 0.09 seconds.\n",
      "Crop: 0.08 seconds.\n"
     ]
    },
    {
     "name": "stdout",
     "output_type": "stream",
     "text": [
      "0\n",
      "convert \"/media/yuncong/BstemAtlasData/CSHL_data_processed/CHATM2/CHATM2_prep1_thumbnail_NtbNormalized/CHATM2_slide102_2018_02_13-S1_prep1_thumbnail_NtbNormalized.tif\" -crop 788x570+524+97  \"/media/yuncong/BstemAtlasData/CSHL_data_processed/CHATM2/CHATM2_prep2_thumbnail_NtbNormalized/CHATM2_slide102_2018_02_13-S1_prep2_thumbnail_NtbNormalized.tif\"\n",
      "0\n",
      "convert \"/media/yuncong/BstemAtlasData/CSHL_data_processed/CHATM2/CHATM2_prep1_thumbnail_NtbNormalized/CHATM2_slide102_2018_02_13-S2_prep1_thumbnail_NtbNormalized.tif\" -crop 788x570+524+97  \"/media/yuncong/BstemAtlasData/CSHL_data_processed/CHATM2/CHATM2_prep2_thumbnail_NtbNormalized/CHATM2_slide102_2018_02_13-S2_prep2_thumbnail_NtbNormalized.tif\"\n",
      "0\n",
      "convert \"/media/yuncong/BstemAtlasData/CSHL_data_processed/CHATM2/CHATM2_prep1_thumbnail_NtbNormalized/CHATM2_slide102_2018_02_13-S3_prep1_thumbnail_NtbNormalized.tif\" -crop 788x570+524+97  \"/media/yuncong/BstemAtlasData/CSHL_data_processed/CHATM2/CHATM2_prep2_thumbnail_NtbNormalized/CHATM2_slide102_2018_02_13-S3_prep2_thumbnail_NtbNormalized.tif\"\n"
     ]
    },
    {
     "name": "stderr",
     "output_type": "stream",
     "text": [
      "Crop: 0.08 seconds.\n",
      "Crop: 0.09 seconds.\n",
      "Crop: 0.08 seconds.\n"
     ]
    },
    {
     "name": "stdout",
     "output_type": "stream",
     "text": [
      "0\n",
      "convert \"/media/yuncong/BstemAtlasData/CSHL_data_processed/CHATM2/CHATM2_prep1_thumbnail_NtbNormalized/CHATM2_slide104_2018_02_13-S1_prep1_thumbnail_NtbNormalized.tif\" -crop 788x570+524+97  \"/media/yuncong/BstemAtlasData/CSHL_data_processed/CHATM2/CHATM2_prep2_thumbnail_NtbNormalized/CHATM2_slide104_2018_02_13-S1_prep2_thumbnail_NtbNormalized.tif\"\n",
      "0\n",
      "convert \"/media/yuncong/BstemAtlasData/CSHL_data_processed/CHATM2/CHATM2_prep1_thumbnail_NtbNormalized/CHATM2_slide104_2018_02_13-S2_prep1_thumbnail_NtbNormalized.tif\" -crop 788x570+524+97  \"/media/yuncong/BstemAtlasData/CSHL_data_processed/CHATM2/CHATM2_prep2_thumbnail_NtbNormalized/CHATM2_slide104_2018_02_13-S2_prep2_thumbnail_NtbNormalized.tif\"\n",
      "0\n",
      "convert \"/media/yuncong/BstemAtlasData/CSHL_data_processed/CHATM2/CHATM2_prep1_thumbnail_NtbNormalized/CHATM2_slide104_2018_02_13-S3_prep1_thumbnail_NtbNormalized.tif\" -crop 788x570+524+97  \"/media/yuncong/BstemAtlasData/CSHL_data_processed/CHATM2/CHATM2_prep2_thumbnail_NtbNormalized/CHATM2_slide104_2018_02_13-S3_prep2_thumbnail_NtbNormalized.tif\"\n"
     ]
    },
    {
     "name": "stderr",
     "output_type": "stream",
     "text": [
      "Crop: 0.07 seconds.\n",
      "Crop: 0.08 seconds.\n",
      "Crop: 0.08 seconds.\n"
     ]
    },
    {
     "name": "stdout",
     "output_type": "stream",
     "text": [
      "0\n",
      "convert \"/media/yuncong/BstemAtlasData/CSHL_data_processed/CHATM2/CHATM2_prep1_thumbnail_NtbNormalized/CHATM2_slide106_2018_02_13-S1_prep1_thumbnail_NtbNormalized.tif\" -crop 788x570+524+97  \"/media/yuncong/BstemAtlasData/CSHL_data_processed/CHATM2/CHATM2_prep2_thumbnail_NtbNormalized/CHATM2_slide106_2018_02_13-S1_prep2_thumbnail_NtbNormalized.tif\"\n",
      "0\n",
      "convert \"/media/yuncong/BstemAtlasData/CSHL_data_processed/CHATM2/CHATM2_prep1_thumbnail_NtbNormalized/CHATM2_slide106_2018_02_13-S2_prep1_thumbnail_NtbNormalized.tif\" -crop 788x570+524+97  \"/media/yuncong/BstemAtlasData/CSHL_data_processed/CHATM2/CHATM2_prep2_thumbnail_NtbNormalized/CHATM2_slide106_2018_02_13-S2_prep2_thumbnail_NtbNormalized.tif\"\n",
      "0\n",
      "convert \"/media/yuncong/BstemAtlasData/CSHL_data_processed/CHATM2/CHATM2_prep1_thumbnail_NtbNormalized/CHATM2_slide106_2018_02_13-S3_prep1_thumbnail_NtbNormalized.tif\" -crop 788x570+524+97  \"/media/yuncong/BstemAtlasData/CSHL_data_processed/CHATM2/CHATM2_prep2_thumbnail_NtbNormalized/CHATM2_slide106_2018_02_13-S3_prep2_thumbnail_NtbNormalized.tif\"\n"
     ]
    },
    {
     "name": "stderr",
     "output_type": "stream",
     "text": [
      "Crop: 0.08 seconds.\n",
      "Crop: 0.08 seconds.\n",
      "Crop: 0.08 seconds.\n"
     ]
    },
    {
     "name": "stdout",
     "output_type": "stream",
     "text": [
      "0\n",
      "convert \"/media/yuncong/BstemAtlasData/CSHL_data_processed/CHATM2/CHATM2_prep1_thumbnail_NtbNormalized/CHATM2_slide108_2018_02_13-S1_prep1_thumbnail_NtbNormalized.tif\" -crop 788x570+524+97  \"/media/yuncong/BstemAtlasData/CSHL_data_processed/CHATM2/CHATM2_prep2_thumbnail_NtbNormalized/CHATM2_slide108_2018_02_13-S1_prep2_thumbnail_NtbNormalized.tif\"\n",
      "0\n",
      "convert \"/media/yuncong/BstemAtlasData/CSHL_data_processed/CHATM2/CHATM2_prep1_thumbnail_NtbNormalized/CHATM2_slide108_2018_02_13-S2_prep1_thumbnail_NtbNormalized.tif\" -crop 788x570+524+97  \"/media/yuncong/BstemAtlasData/CSHL_data_processed/CHATM2/CHATM2_prep2_thumbnail_NtbNormalized/CHATM2_slide108_2018_02_13-S2_prep2_thumbnail_NtbNormalized.tif\"\n",
      "0\n",
      "convert \"/media/yuncong/BstemAtlasData/CSHL_data_processed/CHATM2/CHATM2_prep1_thumbnail_NtbNormalized/CHATM2_slide108_2018_02_13-S3_prep1_thumbnail_NtbNormalized.tif\" -crop 788x570+524+97  \"/media/yuncong/BstemAtlasData/CSHL_data_processed/CHATM2/CHATM2_prep2_thumbnail_NtbNormalized/CHATM2_slide108_2018_02_13-S3_prep2_thumbnail_NtbNormalized.tif\"\n"
     ]
    },
    {
     "name": "stderr",
     "output_type": "stream",
     "text": [
      "Crop: 0.07 seconds.\n",
      "Crop: 0.08 seconds.\n",
      "Crop: 0.07 seconds.\n"
     ]
    },
    {
     "name": "stdout",
     "output_type": "stream",
     "text": [
      "0\n"
     ]
    },
    {
     "name": "stderr",
     "output_type": "stream",
     "text": [
      "Crop: 0.08 seconds.\n"
     ]
    }
   ],
   "source": [
    "for img_name in valid_filenames:\n",
    "# for img_name in ['CHATM3_slide69_2018_02_19-S3']:\n",
    "\n",
    "    t = time.time()\n",
    "\n",
    "    in_fp = DataManager.get_image_filepath_v2(stack=stack, prep_id=1, fn=img_name, resol='thumbnail', version='NtbNormalized')\n",
    "    out_fp = DataManager.get_image_filepath_v2(stack=stack, prep_id=2, fn=img_name, resol='thumbnail', version='NtbNormalized')\n",
    "    create_parent_dir_if_not_exists(out_fp)\n",
    "    \n",
    "    cmd = 'convert \\\"%(in_fp)s\\\" -crop %(w)dx%(h)d+%(x)d+%(y)d  \\\"%(out_fp)s\\\"' % \\\n",
    "    {'in_fp': in_fp, 'out_fp': out_fp, 'w':xmax+1-xmin, 'h':ymax+1-ymin, 'x':xmin, 'y':ymin}\n",
    "    execute_command(cmd)\n",
    "        \n",
    "    sys.stderr.write(\"Crop: %.2f seconds.\\n\" % (time.time() - t)) # ~20s / image"
   ]
  },
  {
   "cell_type": "code",
   "execution_count": 35,
   "metadata": {
    "collapsed": true,
    "scrolled": true
   },
   "outputs": [],
   "source": [
    "# t = time.time()\n",
    "# sys.stderr.write('cropping thumbnail...')\n",
    "\n",
    "# for fn in valid_filenames:\n",
    "\n",
    "#     execute_command('convert \\\"%(input_fp)s\\\" -crop %(w)dx%(h)d+%(x)d+%(y)d  \\\"%(output_fp)s\\\"' % \\\n",
    "#         {'stack': stack,\n",
    "#         'input_fp': DataManager.get_image_filepath_v2(stack=stack, prep_id=1, fn=fn, resol='thumbnail', version='NtbNormalized'),\n",
    "#         'output_fp': DataManager.get_image_filepath_v2(stack=stack, prep_id=2, fn=fn, resol='thumbnail', version='NtbNormalized'),\n",
    "#         'w':xmax+1-xmin, 'h':ymax+1-ymin, 'x':xmin, 'y':ymin})\n",
    "\n",
    "# sys.stderr.write('done in %f seconds\\n' % (time.time() - t)) # 70s (aws)"
   ]
  },
  {
   "cell_type": "code",
   "execution_count": 154,
   "metadata": {
    "collapsed": true
   },
   "outputs": [],
   "source": [
    "# t = time.time()\n",
    "# sys.stderr.write('cropping thumbnail...')\n",
    "\n",
    "# execute_command('mogrify -set filename:name %%t -crop %(w)dx%(h)d+%(x)d+%(y)d -write \"%(output_dir)s/%%[filename:name]_cropped.tif\" %(input_dir)s/*.tif' % \\\n",
    "#     {'input_dir': input_dir,\n",
    "#      'output_dir': output_dir,\n",
    "#     'w':w, 'h':h, 'x':x, 'y':y})\n",
    "\n",
    "# sys.stderr.write('done in %f seconds\\n' % (time.time() - t)) # 100 seconds"
   ]
  },
  {
   "cell_type": "code",
   "execution_count": 42,
   "metadata": {},
   "outputs": [
    {
     "name": "stdout",
     "output_type": "stream",
     "text": [
      "aws s3 cp --recursive \"/media/yuncong/BstemAtlasData/CSHL_data_processed/CHATM2/CHATM2_prep2_thumbnail_NtbNormalized\" \"s3://mousebrainatlas-data/CSHL_data_processed/CHATM2/CHATM2_prep2_thumbnail_NtbNormalized\"\n",
      "0\n"
     ]
    }
   ],
   "source": [
    "upload_to_s3(output_dir, is_dir=True, local_root=DATA_ROOTDIR)"
   ]
  },
  {
   "cell_type": "code",
   "execution_count": 78,
   "metadata": {
    "collapsed": true
   },
   "outputs": [],
   "source": [
    "# transfer_data_synced(os.path.join('CSHL_data_processed', stack, stack + '_thumbnail_alignedTo_' + anchor_fn + '_cropped'),\n",
    "#                     from_hostname='ec2',\n",
    "#                     to_hostname='s3',\n",
    "#                     is_dir=True)"
   ]
  },
  {
   "cell_type": "markdown",
   "metadata": {},
   "source": [
    "# Expand lossless JP2 (use /shared)"
   ]
  },
  {
   "cell_type": "code",
   "execution_count": 7,
   "metadata": {
    "collapsed": true
   },
   "outputs": [],
   "source": [
    "stack = 'MD662'"
   ]
  },
  {
   "cell_type": "code",
   "execution_count": null,
   "metadata": {
    "scrolled": true
   },
   "outputs": [
    {
     "name": "stdout",
     "output_type": "stream",
     "text": [
      "aws s3 cp --recursive \"s3://mousebrainatlas-rawdata/CSHL_data/MD661\" \"/shared/CSHL_data/MD661\" --exclude \"*\" --include \"*_lossless.jp2\"\n"
     ]
    }
   ],
   "source": [
    "transfer_data_synced(os.path.join('CSHL_data', stack),\n",
    "                    from_hostname='s3raw',\n",
    "                    to_hostname='ec2',\n",
    "                    is_dir=True,\n",
    "                    include_only='*_lossless.jp2')"
   ]
  },
  {
   "cell_type": "code",
   "execution_count": 88,
   "metadata": {
    "collapsed": true
   },
   "outputs": [],
   "source": [
    "output_dir = create_if_not_exists(DataManager.get_image_dir_v2(stack=stack, prep_id=1, resol='lossless'))"
   ]
  },
  {
   "cell_type": "code",
   "execution_count": null,
   "metadata": {
    "collapsed": true,
    "scrolled": true
   },
   "outputs": [],
   "source": [
    "t = time.time()\n",
    "sys.stderr.write('expanding...')\n",
    "\n",
    "in_fps = [fn + '_lossless.jp2' for fn in metadata_cache['valid_filenames'][stack]]\n",
    "out_fps = [DataManager.get_image_filepath_v2(stack=stack, prep_id=1, resol='lossless', fn=fn) \n",
    "           for fn in metadata_cache['valid_filenames'][stack]]\n",
    "\n",
    "run_distributed('export LD_LIBRARY_PATH=/home/ubuntu/KDU79_Demo_Apps_for_Linux-x86-64_170108:$LD_LIBRARY_PATH; %(kdu_bin)s -i \\\"%%(in_fp)s\\\" -o \\\"%%(out_fp)s\\\"' % \\\n",
    "                {'kdu_bin': KDU_EXPAND_BIN},\n",
    "                kwargs_list={'in_fp': in_fps, 'out_fp': out_fps},\n",
    "                argument_type='single',\n",
    "               cluster_size=16)\n",
    "\n",
    "wait_qsub_complete()\n",
    "\n",
    "sys.stderr.write('done in %f seconds\\n' % (time.time() - t)) # 900 seconds."
   ]
  },
  {
   "cell_type": "code",
   "execution_count": null,
   "metadata": {
    "collapsed": true,
    "scrolled": true
   },
   "outputs": [],
   "source": [
    "transfer_data_synced(os.path.join('CSHL_data_processed', stack, stack + '_lossless_tif'),\n",
    "                    from_hostname='ec2',\n",
    "                    to_hostname='s3',\n",
    "                    is_dir=True) # 6000s"
   ]
  },
  {
   "cell_type": "markdown",
   "metadata": {},
   "source": [
    "# Transform and crop lossless (use /shared)"
   ]
  },
  {
   "cell_type": "code",
   "execution_count": 24,
   "metadata": {},
   "outputs": [
    {
     "name": "stdout",
     "output_type": "stream",
     "text": [
      "rm -rf /shared/CSHL_data_processed/MD585/MD585_lossless_tif && mkdir -p /shared/CSHL_data_processed/MD585\n",
      "aws s3 cp --recursive s3://mousebrainatlas-data/CSHL_data_processed/MD585/MD585_lossless_tif /shared/CSHL_data_processed/MD585/MD585_lossless_tif\n"
     ]
    },
    {
     "name": "stderr",
     "output_type": "stream",
     "text": [
      "Child returned 0\n"
     ]
    },
    {
     "name": "stdout",
     "output_type": "stream",
     "text": [
      "3079.07781506\n"
     ]
    },
    {
     "name": "stderr",
     "output_type": "stream",
     "text": [
      "Child returned 0\n",
      "3079.08 seconds.\n"
     ]
    }
   ],
   "source": [
    "transfer_data_synced(os.path.join('CSHL_data_processed', stack, stack + '_lossless_tif'),\n",
    "                    from_hostname='s3',\n",
    "                    to_hostname='ec2',\n",
    "                    is_dir=True)\n",
    "# 3000 seconds"
   ]
  },
  {
   "cell_type": "code",
   "execution_count": 37,
   "metadata": {
    "collapsed": true
   },
   "outputs": [],
   "source": [
    "# tf_filepath = os.path.join(DATA_DIR, stack, '%(stack)s_transformsTo_anchor.pkl' % {'stack':stack})\n",
    "# tfs = pickle.load(open(tf_filepath, 'r'))\n",
    "# Note that the index from trasform pickle file starts at 0, BUT the .._renamed folder index starts at 1.#\n",
    "\n",
    "tfs = DataManager.load_transforms(stack=stack)\n",
    "\n",
    "lossless_tif_dir = os.path.join(DATA_DIR, stack, stack + '_lossless_tif')\n",
    "lossless_aligned_cropped_dir = os.path.join(DATA_DIR, stack, stack + '_lossless_alignedTo_' + anchor_fn + '_cropped')\n",
    "\n",
    "script_fp = os.path.join(REPO_DIR, 'preprocess', 'warp_crop_IM_v2.py')"
   ]
  },
  {
   "cell_type": "code",
   "execution_count": 45,
   "metadata": {
    "collapsed": true
   },
   "outputs": [],
   "source": [
    "! rm -r {lossless_aligned_cropped_dir}"
   ]
  },
  {
   "cell_type": "code",
   "execution_count": 43,
   "metadata": {
    "collapsed": true
   },
   "outputs": [],
   "source": [
    "if stack in all_nissl_stacks:\n",
    "    pad_bg_color = 'white'\n",
    "else:\n",
    "    pad_bg_color = 'auto'"
   ]
  },
  {
   "cell_type": "code",
   "execution_count": null,
   "metadata": {
    "collapsed": true
   },
   "outputs": [],
   "source": [
    "t = time.time()\n",
    "sys.stderr.write('warping and cropping lossless...')\n",
    "\n",
    "# wait_num_nodes(16)\n",
    "                   \n",
    "if pad_bg_color == 'auto':\n",
    "    # If alternating, then black padding for F sections, white padding for N sections.\n",
    "    run_distributed(command='%(script_path)s %(stack)s %(lossless_tif_dir)s %(lossless_aligned_cropped_dir)s %%(transform)s %%(filename)s %%(output_fn)s lossless %(x)d %(y)d %(w)d %(h)d %%(pad_bg_color)s'%\\\n",
    "                    {'script_path': script_fp,\n",
    "                    'stack': stack,\n",
    "                    'lossless_tif_dir': lossless_tif_dir,\n",
    "                    'lossless_aligned_cropped_dir': lossless_aligned_cropped_dir,\n",
    "                    'x': x,\n",
    "                    'y': y,\n",
    "                    'w': w,\n",
    "                    'h': h},\n",
    "                    kwargs_list=[{'transform': ','.join(map(str, tfs[fn].flatten())),\n",
    "                                'filename': fn + '_lossless.tif',\n",
    "                                'output_fn': fn + '_lossless_alignedTo_' + anchor_fn + '_cropped.tif',\n",
    "                                'pad_bg_color': 'black' if fn.split('-')[1][0] == 'F' else 'white'}\n",
    "                                for fn in valid_filenames[first_idx_among_valid:last_idx_among_valid+1]],\n",
    "#                                  for fn in valid_filenames[first_idx_among_valid:first_idx_among_valid+16]],\n",
    "                    argument_type='single',\n",
    "                   cluster_size=16,\n",
    "                   jobs_per_node=4)\n",
    "else:\n",
    "    run_distributed(command='%(script_path)s %(stack)s %(lossless_tif_dir)s %(lossless_aligned_cropped_dir)s %%(transform)s %%(filename)s %%(output_fn)s lossless %(x)d %(y)d %(w)d %(h)d %(pad_bg_color)s'%\\\n",
    "                    {'script_path': script_fp,\n",
    "                    'stack': stack,\n",
    "                    'lossless_tif_dir': lossless_tif_dir,\n",
    "                    'lossless_aligned_cropped_dir': lossless_aligned_cropped_dir,\n",
    "                    'x': x,\n",
    "                    'y': y,\n",
    "                    'w': w,\n",
    "                    'h': h,\n",
    "                    'pad_bg_color': pad_bg_color},\n",
    "                    kwargs_list=[{'transform': ','.join(map(str, tfs[fn].flatten())),\n",
    "                                'filename': fn + '_lossless.tif',\n",
    "                                'output_fn': fn + '_lossless_alignedTo_' + anchor_fn + '_cropped.tif'}\n",
    "                                for fn in valid_filenames[first_idx_among_valid:last_idx_among_valid+1]],\n",
    "#                                  for fn in valid_filenames[first_idx_among_valid:first_idx_among_valid+16]],\n",
    "                    argument_type='single',\n",
    "                   cluster_size=16,\n",
    "                   jobs_per_node=4)\n",
    "\n",
    "wait_qsub_complete()\n",
    "    \n",
    "sys.stderr.write('done in %f seconds\\n' % (time.time() - t)) # 4140 seconds (AWS)"
   ]
  },
  {
   "cell_type": "code",
   "execution_count": 24,
   "metadata": {},
   "outputs": [
    {
     "name": "stdout",
     "output_type": "stream",
     "text": [
      "aws s3 cp --recursive /shared/CSHL_data_processed/MD658/MD658_lossless_alignedTo_MD658-N58-2017.03.31-19.59.31_MD658_2_0173_cropped s3://mousebrainatlas-data/CSHL_data_processed/MD658/MD658_lossless_alignedTo_MD658-N58-2017.03.31-19.59.31_MD658_2_0173_cropped\n"
     ]
    },
    {
     "name": "stderr",
     "output_type": "stream",
     "text": [
      "Child returned 0\n",
      "1064.17 seconds.\n"
     ]
    }
   ],
   "source": [
    "transfer_data_synced(os.path.join('CSHL_data_processed', stack, stack + '_lossless_alignedTo_' + anchor_fn + '_cropped'),\n",
    "                    from_hostname='ec2',\n",
    "                    to_hostname='s3',\n",
    "                    is_dir=True) \n",
    "# 512 seconds"
   ]
  },
  {
   "cell_type": "markdown",
   "metadata": {},
   "source": [
    "# Transform and crop raw (For UCSD Data)"
   ]
  },
  {
   "cell_type": "code",
   "execution_count": 33,
   "metadata": {
    "collapsed": true
   },
   "outputs": [],
   "source": [
    "prep_id = 2"
   ]
  },
  {
   "cell_type": "code",
   "execution_count": 34,
   "metadata": {
    "collapsed": true
   },
   "outputs": [],
   "source": [
    "_, sections_to_filenames = DataManager.load_sorted_filenames(stack=stack) \n",
    "valid_filenames = [fn for fn in sections_to_filenames.values() if not is_invalid(fn=fn)]"
   ]
  },
  {
   "cell_type": "code",
   "execution_count": 35,
   "metadata": {
    "scrolled": true
   },
   "outputs": [
    {
     "name": "stdout",
     "output_type": "stream",
     "text": [
      "524 97 788 570\n"
     ]
    }
   ],
   "source": [
    "xmin, xmax, ymin, ymax, first_sec, last_sec = DataManager.load_cropbox(stack=stack)\n",
    "w = xmax + 1 - xmin\n",
    "h = ymax + 1 - ymin\n",
    "x = xmin\n",
    "y = ymin\n",
    "\n",
    "print x,y,w,h"
   ]
  },
  {
   "cell_type": "code",
   "execution_count": 36,
   "metadata": {
    "collapsed": true
   },
   "outputs": [],
   "source": [
    "anchor_fn = DataManager.load_anchor_filename(stack=stack)\n",
    "transforms_to_anchor = DataManager.load_transforms(stack=stack, downsample_factor=32, use_inverse=False, anchor_fn=anchor_fn)"
   ]
  },
  {
   "cell_type": "code",
   "execution_count": 37,
   "metadata": {
    "collapsed": true
   },
   "outputs": [],
   "source": [
    "if stack == 'CHATM2':\n",
    "    image_filename_to_orientation_mapping = \\\n",
    "    {img_name: 'top_posterior_left_ventral' for img_name in valid_filenames\n",
    "    }"
   ]
  },
  {
   "cell_type": "code",
   "execution_count": 38,
   "metadata": {
    "collapsed": true
   },
   "outputs": [],
   "source": [
    "script = os.path.join(REPO_DIR, 'preprocess', 'warp_crop_IM_v3.py')"
   ]
  },
  {
   "cell_type": "code",
   "execution_count": 39,
   "metadata": {
    "collapsed": true
   },
   "outputs": [],
   "source": [
    "pad_bg_color = 'black'"
   ]
  },
  {
   "cell_type": "code",
   "execution_count": 40,
   "metadata": {
    "collapsed": true
   },
   "outputs": [],
   "source": [
    "# fns_not_yet_converted = sorted(list(set(valid_filenames) - \\\n",
    "# set([fp[:-24] for fp in os.listdir('/media/yuncong/BstemAtlasData/CSHL_data_processed/CHATM2/CHATM2_prep2_lossless_CHAT/')])))\n",
    "# print len(fns_not_yet_converted)"
   ]
  },
  {
   "cell_type": "code",
   "execution_count": 41,
   "metadata": {
    "collapsed": true
   },
   "outputs": [],
   "source": [
    "def section_orientation_to_argparse_str(orientation):\n",
    "    \"\"\"\n",
    "    These cannot contain - or space.\n",
    "    \"\"\"\n",
    "\n",
    "    if orientation == 'top_anterior_left_dorsal':\n",
    "        init_rotate = 'transpose'\n",
    "    elif orientation == 'top_anterior_left_ventral':\n",
    "        init_rotate = 'rotate90'\n",
    "    elif orientation == 'top_posterior_left_ventral':\n",
    "        init_rotate = 'transverse'\n",
    "    else:\n",
    "        init_rotate = ''\n",
    "    \n",
    "    return init_rotate"
   ]
  },
  {
   "cell_type": "code",
   "execution_count": 42,
   "metadata": {
    "collapsed": true
   },
   "outputs": [],
   "source": [
    "# orientation_argparse_str_to_imagemagick_str = \\\n",
    "# {'transpose': '-transpose',\n",
    "#  'transverse': '-transverse',\n",
    "#  'rotate90': '-rotate 90'\n",
    "# }"
   ]
  },
  {
   "cell_type": "code",
   "execution_count": 43,
   "metadata": {
    "collapsed": true
   },
   "outputs": [],
   "source": [
    "# def section_orientation_to_imagemagick_str(orientation):\n",
    "\n",
    "#     if orientation == 'top_anterior_left_dorsal':\n",
    "#         init_rotate = '-transpose'\n",
    "#     elif orientation == 'top_anterior_left_ventral':\n",
    "#         init_rotate = '-rotate 90'\n",
    "#     elif orientation == 'top_posterior_left_ventral':\n",
    "#         init_rotate = '-transverse'\n",
    "#     else:\n",
    "#         init_rotate = ''\n",
    "    \n",
    "#     return init_rotate"
   ]
  },
  {
   "cell_type": "markdown",
   "metadata": {},
   "source": [
    "This takes 10 hours for one version, 235 sections."
   ]
  },
  {
   "cell_type": "code",
   "execution_count": null,
   "metadata": {},
   "outputs": [
    {
     "name": "stdout",
     "output_type": "stream",
     "text": [
      "rm -f ~/stderr_*; rm -f ~/stdout_*\n",
      "0\n"
     ]
    },
    {
     "name": "stderr",
     "output_type": "stream",
     "text": [
      "Run locally.\n"
     ]
    }
   ],
   "source": [
    "for version in ['CHAT']:\n",
    "\n",
    "    t = time.time()\n",
    "\n",
    "    if pad_bg_color == 'auto': # useful for alternatively stained stacks where bg varies depending on stain on each section\n",
    "        run_distributed('%(script)s %(stack)s \\\"%%(input_fp)s\\\" \\\"%%(output_fp)s\\\" %%(transform)s raw %(x)d %(y)d %(w)d %(h)d %%(pad_bg_color)s -r \\\"%%(init_rotate)s\\\"' % \\\n",
    "                        {'script': script,\n",
    "                        'stack': stack,\n",
    "                         'x': x,\n",
    "                        'y': y,\n",
    "                        'w': w,\n",
    "                        'h': h,\n",
    "                        },\n",
    "                        kwargs_list=[{'transform': ','.join(map(str, transforms_to_anchor[img_name].flatten())),\n",
    "                                    'input_fp': DataManager.get_image_filepath_v2(stack=stack, prep_id=None, resol='raw', version=version, fn=img_name),\n",
    "                                      'output_fp': DataManager.get_image_filepath_v2(stack=stack, fn=img_name, prep_id=prep_id, version=version, resol='raw'),\n",
    "                                    'pad_bg_color': 'black' if img_name.split('-')[1][0] == 'F' else 'white',\n",
    "                                     'init_rotate': section_orientation_to_argparse_str(image_filename_to_orientation_mapping[img_name])\n",
    "                                     }\n",
    "                                    for img_name in valid_filenames\n",
    "                                    ],\n",
    "                        argument_type='single',\n",
    "                       jobs_per_node=1,\n",
    "                       local_only=True)\n",
    "    else:\n",
    "        run_distributed('%(script)s %(stack)s \\\"%%(input_fp)s\\\" \\\"%%(output_fp)s\\\" %%(transform)s raw %(x)d %(y)d %(w)d %(h)d %(pad_bg_color)s -r \\\"%%(init_rotate)s\\\"' % \\\n",
    "                        {'script': script,\n",
    "                        'stack': stack,\n",
    "                         'x': x,\n",
    "                        'y': y,\n",
    "                        'w': w,\n",
    "                        'h': h,\n",
    "                        'pad_bg_color': pad_bg_color\n",
    "                        },\n",
    "                        kwargs_list=[{'transform': ','.join(map(str, transforms_to_anchor[img_name].flatten())),\n",
    "                                    'input_fp': DataManager.get_image_filepath_v2(stack=stack, prep_id=None, resol='raw', version=version, fn=img_name),\n",
    "                                      'output_fp': DataManager.get_image_filepath_v2(stack=stack, fn=img_name, prep_id=prep_id, version=version, resol='raw'),\n",
    "                                      'init_rotate': section_orientation_to_argparse_str(image_filename_to_orientation_mapping[img_name])\n",
    "                                     }\n",
    "                                    for img_name in valid_filenames\n",
    "                                    ],\n",
    "                        argument_type='single',\n",
    "                       jobs_per_node=1,\n",
    "                       local_only=True)\n",
    "\n",
    "    # wait_qsub_complete()\n",
    "\n",
    "    print 'done in', time.time() - t, 'seconds' # 300 seconds."
   ]
  },
  {
   "cell_type": "markdown",
   "metadata": {},
   "source": [
    "# Expand, transform and crop together (use /scratch)"
   ]
  },
  {
   "cell_type": "code",
   "execution_count": 7,
   "metadata": {
    "collapsed": true
   },
   "outputs": [],
   "source": [
    "stack = 'MD662'"
   ]
  },
  {
   "cell_type": "code",
   "execution_count": 8,
   "metadata": {
    "collapsed": true
   },
   "outputs": [],
   "source": [
    "tfs = DataManager.load_transforms(stack=stack, downsample_factor=32, use_inverse=False)"
   ]
  },
  {
   "cell_type": "markdown",
   "metadata": {},
   "source": [
    "# Option 1: Crop brainstem"
   ]
  },
  {
   "cell_type": "code",
   "execution_count": null,
   "metadata": {
    "collapsed": true
   },
   "outputs": [],
   "source": [
    "# xmin, xmax, ymin, ymax = metadata_cache['cropbox'][stack]\n",
    "xmin, xmax, ymin, ymax = DataManager.load_cropbox(stack)[:4]\n",
    "print xmin, xmax, ymin, ymax"
   ]
  },
  {
   "cell_type": "code",
   "execution_count": 12,
   "metadata": {
    "collapsed": true
   },
   "outputs": [],
   "source": [
    "raw_jp2_dir = DataManager.get_image_dir(stack=stack, resol='lossless', version='original_jp2', raw_data_dir='/scratch/CSHL_data')\n",
    "lossless_tif_dir = DataManager.get_image_dir_v2(stack=stack, resol='lossless', prep_id=0, data_dir='/scratch/CSHL_data_processed')\n",
    "lossless_aligned_cropped_dir = DataManager.get_image_dir_v2(stack=stack, resol='lossless', prep_id=2, data_dir='/scratch/CSHL_data_processed')"
   ]
  },
  {
   "cell_type": "code",
   "execution_count": null,
   "metadata": {
    "collapsed": true
   },
   "outputs": [],
   "source": [
    "run_distributed('rm -rf /scratch/*', argument_type='single')"
   ]
  },
  {
   "cell_type": "code",
   "execution_count": null,
   "metadata": {
    "collapsed": true
   },
   "outputs": [],
   "source": [
    "t = time.time()\n",
    "sys.stderr.write('expanding...')\n",
    "\n",
    "warp_crop_script_fp = os.path.join(REPO_DIR, 'preprocess', 'warp_crop_IM_v3.py')\n",
    "\n",
    "run_distributed('aws s3 cp \\\"s3://mousebrainatlas-rawdata/CSHL_data/%(stack)s/%%(fn)s_lossless.jp2\\\" \\\"%(raw_jp2_dir)s\\\"/ && \\\n",
    "mkdir -p \\\"%(lossless_tif_dir)s\\\" && \\\n",
    "LD_LIBRARY_PATH=/home/ubuntu/KDU79_Demo_Apps_for_Linux-x86-64_170108:$LD_LIBRARY_PATH %(kdu_bin)s -i \\\"%%(in_fp)s\\\" -o \\\"%%(lossless_tif_fp)s\\\" && \\\n",
    "mkdir -p \\\"%(lossless_aligned_cropped_dir)s\\\" && \\\n",
    "%(script_path)s %(stack)s \\\"%%(lossless_tif_fp)s\\\" \\\"%%(lossless_aligned_cropped_fp)s\\\" %%(transform)s lossless %(x)d %(y)d %(w)d %(h)d %%(pad_bg_color)s && \\\n",
    "aws s3 cp \\\"%%(lossless_aligned_cropped_fp)s\\\" \\\"s3://mousebrainatlas-data/%(s3_dest_dir)s/\\\"' % \\\n",
    "                {'stack': stack,\n",
    "                'kdu_bin': KDU_EXPAND_BIN,\n",
    "                'raw_jp2_dir': raw_jp2_dir,\n",
    "                'script_path': warp_crop_script_fp,\n",
    "                'lossless_tif_dir': lossless_tif_dir,\n",
    "                'lossless_aligned_cropped_dir': lossless_aligned_cropped_dir,\n",
    "                 's3_dest_dir': relative_to_local(lossless_aligned_cropped_dir, local_root='/scratch'),\n",
    "                'x': xmin,\n",
    "                'y': ymin,\n",
    "                'w': xmax + 1 - xmin,\n",
    "                'h': ymax + 1 - ymin},\n",
    "                kwargs_list=[{'fn': fn, \n",
    "                              'in_fp': os.path.join(raw_jp2_dir, fn + '_lossless.jp2'),\n",
    "                              'transform': ','.join(map(str, tfs[fn].flatten())),\n",
    "                                'lossless_tif_fp': DataManager.get_image_filepath_v2(stack=stack, fn=fn, resol='lossless', prep_id=0, data_dir='/scratch/CSHL_data_processed'),\n",
    "                                'lossless_aligned_cropped_fp': DataManager.get_image_filepath_v2(stack=stack, fn=fn, resol='lossless', prep_id=2, data_dir='/scratch/CSHL_data_processed'),\n",
    "                                'pad_bg_color': 'black' if fn.split('-')[1][0] == 'F' else 'white'}\n",
    "                             for fn in metadata_cache['valid_filenames'][stack]],\n",
    "                argument_type='single')\n",
    "\n",
    "wait_qsub_complete()\n",
    "\n",
    "sys.stderr.write('done in %f seconds\\n' % (time.time() - t)) \n",
    "# 16 4.2xlarge, whole stack,4222 seconds.\n",
    "# 4 4.xlarge nodes, whole stack, 10280 seconds."
   ]
  },
  {
   "cell_type": "markdown",
   "metadata": {},
   "source": [
    "# Option 2: Crop entire-brain"
   ]
  },
  {
   "cell_type": "code",
   "execution_count": 9,
   "metadata": {
    "collapsed": true,
    "scrolled": true
   },
   "outputs": [],
   "source": [
    "# for sec in metadata_cache['valid_sections'][stack]:\n",
    "bboxes_all_secs = {}\n",
    "for sec in metadata_cache['valid_sections_all'][stack]:\n",
    "    mask = DataManager.load_thumbnail_mask_v3(stack=stack, section=sec, prep_id=1)\n",
    "    bboxes_all_secs[sec] = bbox_2d(mask)"
   ]
  },
  {
   "cell_type": "code",
   "execution_count": 10,
   "metadata": {},
   "outputs": [
    {
     "name": "stdout",
     "output_type": "stream",
     "text": [
      "118 1374 130 777\n"
     ]
    }
   ],
   "source": [
    "q = np.array(bboxes_all_secs.values())\n",
    "xmin, ymin = np.min(q[:, [0,2]], axis=0)\n",
    "xmax, ymax = np.max(q[:, [1,3]], axis=0)\n",
    "margin = 50\n",
    "xmin, xmax, ymin, ymax = (xmin - margin, xmax + margin, ymin - margin, ymax + margin)\n",
    "print xmin, xmax, ymin, ymax"
   ]
  },
  {
   "cell_type": "code",
   "execution_count": 11,
   "metadata": {
    "collapsed": true
   },
   "outputs": [],
   "source": [
    "raw_jp2_dir = DataManager.get_image_dir(stack=stack, resol='lossless', version='original_jp2', raw_data_dir='/scratch/CSHL_data')\n",
    "lossless_tif_dir = DataManager.get_image_dir_v2(stack=stack, resol='lossless', prep_id=0, data_dir='/scratch/CSHL_data_processed')\n",
    "lossless_aligned_cropped_dir = DataManager.get_image_dir_v2(stack=stack, resol='lossless', prep_id=5, data_dir='/scratch/CSHL_data_processed')"
   ]
  },
  {
   "cell_type": "code",
   "execution_count": 19,
   "metadata": {
    "scrolled": true
   },
   "outputs": [
    {
     "name": "stdout",
     "output_type": "stream",
     "text": [
      "rm -f ~/stderr_*; rm -f ~/stdout_*\n"
     ]
    },
    {
     "name": "stderr",
     "output_type": "stream",
     "text": [
      "9 nodes available.\n",
      "Jobs submitted. Use wait_qsub_complete() to wait for all execution to finish.\n"
     ]
    }
   ],
   "source": [
    "run_distributed('rm -rf /scratch/*', argument_type='single')"
   ]
  },
  {
   "cell_type": "code",
   "execution_count": 21,
   "metadata": {},
   "outputs": [
    {
     "name": "stderr",
     "output_type": "stream",
     "text": [
      "expanding...15 nodes available.\n"
     ]
    },
    {
     "name": "stdout",
     "output_type": "stream",
     "text": [
      "rm -f ~/stderr_*; rm -f ~/stdout_*\n"
     ]
    },
    {
     "name": "stderr",
     "output_type": "stream",
     "text": [
      "Jobs submitted. Use wait_qsub_complete() to wait for all execution to finish.\n",
      "qsub returned.\n",
      "done in 11369.358836 seconds\n"
     ]
    }
   ],
   "source": [
    "t = time.time()\n",
    "sys.stderr.write('expanding...')\n",
    "\n",
    "warp_crop_script_fp = os.path.join(REPO_DIR, 'preprocess', 'warp_crop_IM_v3.py')\n",
    "\n",
    "run_distributed('aws s3 cp \\\"s3://mousebrainatlas-rawdata/CSHL_data/%(stack)s/%%(fn)s_lossless.jp2\\\" \\\"%(raw_jp2_dir)s\\\"/ && \\\n",
    "mkdir -p \\\"%(lossless_tif_dir)s\\\" && \\\n",
    "LD_LIBRARY_PATH=/home/ubuntu/KDU79_Demo_Apps_for_Linux-x86-64_170108:$LD_LIBRARY_PATH %(kdu_bin)s -i \\\"%%(in_fp)s\\\" -o \\\"%%(lossless_tif_fp)s\\\" && \\\n",
    "mkdir -p \\\"%(lossless_aligned_cropped_dir)s\\\" && \\\n",
    "%(script_path)s %(stack)s \\\"%%(lossless_tif_fp)s\\\" \\\"%%(lossless_aligned_cropped_fp)s\\\" %%(transform)s lossless %(x)d %(y)d %(w)d %(h)d %%(pad_bg_color)s && \\\n",
    "aws s3 cp \\\"%%(lossless_aligned_cropped_fp)s\\\" \\\"s3://mousebrainatlas-data/%(s3_dest_dir)s/\\\"' % \\\n",
    "                {'stack': stack,\n",
    "                'kdu_bin': KDU_EXPAND_BIN,\n",
    "                'raw_jp2_dir': raw_jp2_dir,\n",
    "                'script_path': warp_crop_script_fp,\n",
    "                'lossless_tif_dir': lossless_tif_dir,\n",
    "                'lossless_aligned_cropped_dir': lossless_aligned_cropped_dir,\n",
    "                 's3_dest_dir': relative_to_local(lossless_aligned_cropped_dir, local_root='/scratch'),\n",
    "                'x': xmin,\n",
    "                'y': ymin,\n",
    "                'w': xmax + 1 - xmin,\n",
    "                'h': ymax + 1 - ymin},\n",
    "                kwargs_list=[{'fn': fn, \n",
    "                              'in_fp': os.path.join(raw_jp2_dir, fn + '_lossless.jp2'),\n",
    "                              'transform': ','.join(map(str, tfs[fn].flatten())),\n",
    "                                'lossless_tif_fp': DataManager.get_image_filepath_v2(stack=stack, fn=fn, resol='lossless', prep_id=0, data_dir='/scratch/CSHL_data_processed'),\n",
    "                                'lossless_aligned_cropped_fp': DataManager.get_image_filepath_v2(stack=stack, fn=fn, resol='lossless', prep_id=5, data_dir='/scratch/CSHL_data_processed'),\n",
    "                                'pad_bg_color': 'black' if fn.split('-')[1][0] == 'F' else 'white'}\n",
    "                             for fn in metadata_cache['valid_filenames_all'][stack]],\n",
    "                argument_type='single')\n",
    "\n",
    "wait_qsub_complete()\n",
    "\n",
    "sys.stderr.write('done in %f seconds\\n' % (time.time() - t)) \n",
    "# 16 4.2xlarge, whole stack,4222 seconds.\n",
    "# 4 4.xlarge nodes, whole stack, 10280 seconds."
   ]
  },
  {
   "cell_type": "markdown",
   "metadata": {},
   "source": [
    "# Convert images to nissl-like grayscale - for full nissl stacks"
   ]
  },
  {
   "cell_type": "code",
   "execution_count": null,
   "metadata": {
    "collapsed": true,
    "scrolled": true
   },
   "outputs": [],
   "source": [
    "# for stack in all_nissl_stacks:\n",
    "for stack in ['MD595']:\n",
    "    \n",
    "    download_from_s3(DataManager.get_sorted_filenames_filename(stack=stack))\n",
    "    _, sections_to_filenames = DataManager.load_sorted_filenames(stack=stack)\n",
    "    \n",
    "    valid_filenames = [fn for fn in sections_to_filenames.values() if not is_invalid(fn=fn)]\n",
    "    download_from_s3(DataManager.get_anchor_filename_filename(stack=stack))\n",
    "\n",
    "    _, _, _, _, first_sec, last_sec = DataManager.load_cropbox(stack=stack)\n",
    "    first_fn = sections_to_filenames[first_sec]\n",
    "    last_fn = sections_to_filenames[last_sec]\n",
    "    first_idx_among_valid = valid_filenames.index(first_fn)\n",
    "    last_idx_among_valid = valid_filenames.index(last_fn)\n",
    "\n",
    "    # Convert Nissl images to grayscale\n",
    "    \n",
    "    t = time.time()\n",
    "    sys.stderr.write('Convert nissl images to gray...')\n",
    "\n",
    "    script_fp = os.path.join(REPO_DIR, 'preprocess', 'convert_grayscale_neurotrace_v2.py')\n",
    "\n",
    "    run_distributed(command='%(script_path)s %(stack)s \\'%%(filenames)s\\''%\\\n",
    "                        {'script_path': script_fp, 'stack': stack},\n",
    "                        kwargs_list={'filenames': valid_filenames[first_idx_among_valid:last_idx_among_valid+1]\n",
    "                                    },\n",
    "                        argument_type='list2')\n",
    "\n",
    "    wait_qsub_complete()\n",
    "\n",
    "    sys.stderr.write('done in %f seconds\\n' % (time.time() - t)) # 900 seconds."
   ]
  },
  {
   "cell_type": "markdown",
   "metadata": {},
   "source": [
    "# Convert images to nissl-like grayscale - for alternating nissl/neurotrace stacks"
   ]
  },
  {
   "cell_type": "code",
   "execution_count": 269,
   "metadata": {
    "scrolled": true
   },
   "outputs": [
    {
     "name": "stderr",
     "output_type": "stream",
     "text": [
      "Convert nissl images to gray...16 nodes requested, 16 nodes available...Continuing\n",
      "Jobs submitted. Use wait_qsub_complete() to check if they finish.\n",
      "qsub returned.\n",
      "done in 1098.395771 seconds\n",
      "16 nodes requested, 16 nodes available...Continuing\n"
     ]
    },
    {
     "name": "stdout",
     "output_type": "stream",
     "text": [
      "Match intensity profile between Neurotrace and Nissl..."
     ]
    },
    {
     "name": "stderr",
     "output_type": "stream",
     "text": [
      "Jobs submitted. Use wait_qsub_complete() to check if they finish.\n",
      "qsub returned.\n",
      "Convert neurotrace images to gray...16 nodes requested, 16 nodes available...Continuing\n"
     ]
    },
    {
     "name": "stdout",
     "output_type": "stream",
     "text": [
      " done in 2371.7916441 seconds\n"
     ]
    },
    {
     "name": "stderr",
     "output_type": "stream",
     "text": [
      "Jobs submitted. Use wait_qsub_complete() to check if they finish.\n",
      "qsub returned.\n",
      "done in 1008.132029 seconds\n",
      "Convert nissl images to gray...16 nodes requested, 16 nodes available...Continuing\n",
      "Jobs submitted. Use wait_qsub_complete() to check if they finish.\n",
      "qsub returned.\n",
      "done in 1053.684169 seconds\n",
      "16 nodes requested, 16 nodes available...Continuing\n"
     ]
    },
    {
     "name": "stdout",
     "output_type": "stream",
     "text": [
      "Match intensity profile between Neurotrace and Nissl..."
     ]
    },
    {
     "name": "stderr",
     "output_type": "stream",
     "text": [
      "Jobs submitted. Use wait_qsub_complete() to check if they finish.\n",
      "qsub returned.\n",
      "Convert neurotrace images to gray...16 nodes requested, 16 nodes available...Continuing\n"
     ]
    },
    {
     "name": "stdout",
     "output_type": "stream",
     "text": [
      " done in 3785.25425816 seconds\n"
     ]
    },
    {
     "name": "stderr",
     "output_type": "stream",
     "text": [
      "Jobs submitted. Use wait_qsub_complete() to check if they finish.\n",
      "qsub returned.\n",
      "done in 1298.919096 seconds\n"
     ]
    }
   ],
   "source": [
    "# for stack in all_alt_nissl_ntb_stacks + all_alt_nissl_tracing_stacks:\n",
    "for stack in ['MD653', 'MD657']:\n",
    "    \n",
    "    download_from_s3(DataManager.get_sorted_filenames_filename(stack=stack))\n",
    "    _, sections_to_filenames = DataManager.load_sorted_filenames(stack=stack)\n",
    "    \n",
    "    valid_filenames = [fn for fn in sections_to_filenames.values() if not is_invalid(fn=fn)]\n",
    "    download_from_s3(DataManager.get_anchor_filename_filename(stack=stack))\n",
    "\n",
    "    _, _, _, _, first_sec, last_sec = DataManager.load_cropbox(stack=stack)\n",
    "    first_fn = sections_to_filenames[first_sec]\n",
    "    last_fn = sections_to_filenames[last_sec]\n",
    "    first_idx_among_valid = valid_filenames.index(first_fn)\n",
    "    last_idx_among_valid = valid_filenames.index(last_fn)\n",
    "\n",
    "    # Convert Nissl images to grayscale\n",
    "    \n",
    "    t = time.time()\n",
    "    sys.stderr.write('Convert nissl images to gray...')\n",
    "\n",
    "    script_fp = os.path.join(REPO_DIR, 'preprocess', 'convert_grayscale_neurotrace_v2.py')\n",
    "\n",
    "    run_distributed(command='%(script_path)s %(stack)s \\'%%(filenames)s\\''%\\\n",
    "                        {'script_path': script_fp, 'stack': stack},\n",
    "                        kwargs_list={'filenames': \n",
    "                                     [fn for fn in valid_filenames[first_idx_among_valid:last_idx_among_valid+1]\n",
    "                                      if fn.split('-')[1][0] == 'N']\n",
    "                                    },\n",
    "                        argument_type='list2',\n",
    "                       cluster_size=16)\n",
    "\n",
    "    wait_qsub_complete()\n",
    "\n",
    "    sys.stderr.write('done in %f seconds\\n' % (time.time() - t)) # 900 seconds.\n",
    "    \n",
    "    # Match intensity profile between Neurotrace Blue to Nissl\n",
    "\n",
    "    t = time.time()\n",
    "    sys.stderr.write('Match intensity profile between Neurotrace and Nissl...')\n",
    "\n",
    "    filename_pairs = []\n",
    "    l = valid_filenames[first_idx_among_valid:last_idx_among_valid+1]\n",
    "    for i, fn in enumerate(l):\n",
    "        if l[i].split('-')[1][0] == 'F':\n",
    "            for d in range(1, 99):\n",
    "                if i+d < len(l) and l[i+d].split('-')[1][0] == 'N':\n",
    "                    filename_pairs.append((l[i+d], l[i]))\n",
    "                    break\n",
    "                if i-d >= 0 and l[i-d].split('-')[1][0] == 'N':\n",
    "                    filename_pairs.append((l[i-d], l[i]))\n",
    "                    break\n",
    "            \n",
    "    script_fp = os.path.join(REPO_DIR, 'preprocess', 'match_intensity_profile.py')\n",
    "    \n",
    "    run_distributed(command='%(script_path)s %(stack)s \\'%%(filename_pairs)s\\' ' % \\\n",
    "                    {'script_path': script_fp,\n",
    "                    'stack': stack,\n",
    "                    'filename_pairs': filename_pairs},\n",
    "                    kwargs_list=dict(filename_pairs=filename_pairs),\n",
    "                    argument_type='list2',\n",
    "                   cluster_size=16)\n",
    "\n",
    "    wait_qsub_complete()\n",
    "\n",
    "    sys.stderr.write('done in %f seconds\\n' % (time.time() - t)) # 2500 seconds. \n",
    "    # TODO: One node is especially slow, investigate.\n",
    "    \n",
    "    # Convert Neurotrace images to grayscale\n",
    "    \n",
    "    t = time.time()\n",
    "    sys.stderr.write('Convert neurotrace images to gray...')\n",
    "    \n",
    "    script_fp = os.path.join(REPO_DIR, 'preprocess', 'convert_grayscale_neurotrace_v2.py')\n",
    "    \n",
    "    run_distributed(command='%(script_path)s %(stack)s \\'%%(filenames)s\\''%\\\n",
    "                        {'script_path': script_fp, \n",
    "                        'stack': stack},\n",
    "                        kwargs_list={'filenames': [fn for fn in valid_filenames[first_idx_among_valid:last_idx_among_valid+1]\n",
    "                                      if fn.split('-')[1][0] == 'F']\n",
    "                                    },\n",
    "                        argument_type='list2',\n",
    "                       cluster_size=16)\n",
    "\n",
    "    wait_qsub_complete()\n",
    "\n",
    "    sys.stderr.write('done in %f seconds\\n' % (time.time() - t)) # 1200 seconds.    "
   ]
  },
  {
   "cell_type": "markdown",
   "metadata": {},
   "source": [
    "# Convert images to nissl-like grayscale - for full neurotrace stacks"
   ]
  },
  {
   "cell_type": "code",
   "execution_count": 41,
   "metadata": {},
   "outputs": [
    {
     "name": "stdout",
     "output_type": "stream",
     "text": [
      "rm -f ~/stderr_*; rm -f ~/stdout_*\n"
     ]
    },
    {
     "name": "stderr",
     "output_type": "stream",
     "text": [
      "16 nodes available.\n",
      "Jobs submitted. Use wait_qsub_complete() to wait for all execution to finish.\n"
     ]
    }
   ],
   "source": [
    "run_distributed('rm -rf /scratch/*', argument_type='single')"
   ]
  },
  {
   "cell_type": "code",
   "execution_count": 42,
   "metadata": {},
   "outputs": [
    {
     "name": "stderr",
     "output_type": "stream",
     "text": [
      "Convert neurotrace images to gray...16 nodes available.\n"
     ]
    },
    {
     "name": "stdout",
     "output_type": "stream",
     "text": [
      "rm -f ~/stderr_*; rm -f ~/stdout_*\n"
     ]
    },
    {
     "name": "stderr",
     "output_type": "stream",
     "text": [
      "Jobs submitted. Use wait_qsub_complete() to wait for all execution to finish.\n",
      "qsub returned.\n",
      "done in 2428.562770 seconds\n"
     ]
    }
   ],
   "source": [
    "# Convert Neurotrace images to grayscale using a priori intensity mapping.\n",
    "\n",
    "for stack in ['MD662']:    \n",
    "    prep_id = 5\n",
    "    \n",
    "    t = time.time()\n",
    "    sys.stderr.write('Convert neurotrace images to gray...')\n",
    "    \n",
    "    script_fp = os.path.join(REPO_DIR, 'preprocess', 'convert_grayscale_neurotrace_v2.py')\n",
    "    \n",
    "    run_distributed(command='ROOT_DIR=/scratch/ DATA_ROOTDIR=/scratch/ %(script_path)s %(stack)s \\'%%(filenames)s\\' -p %(prep_id)d'%\\\n",
    "                        {'script_path': script_fp, \n",
    "                        'stack': stack,\n",
    "                        'prep_id': prep_id},\n",
    "                        kwargs_list={'filenames': metadata_cache['valid_filenames_all'][stack]},\n",
    "                        argument_type='list2')\n",
    "\n",
    "    wait_qsub_complete()\n",
    "\n",
    "    sys.stderr.write('done in %f seconds\\n' % (time.time() - t)) # 2000 seconds.    "
   ]
  },
  {
   "cell_type": "markdown",
   "metadata": {},
   "source": [
    "# ONE STACK"
   ]
  },
  {
   "cell_type": "markdown",
   "metadata": {},
   "source": [
    "# Step 1: Convert Nissl images to grayscale"
   ]
  },
  {
   "cell_type": "code",
   "execution_count": null,
   "metadata": {
    "collapsed": true
   },
   "outputs": [],
   "source": [
    "t = time.time()\n",
    "sys.stderr.write('Convert nissl images to gray...')\n",
    "               \n",
    "script_fp = os.path.join(REPO_DIR, 'preprocess', 'convert_grayscale_neurotrace_v2.py')\n",
    "\n",
    "run_distributed(command='%(script_path)s %(stack)s \\'%%(filenames)s\\''%\\\n",
    "                    {'script_path': script_fp, 'stack': stack},\n",
    "#                     kwargs_list={'filenames': valid_filenames[first_idx_among_valid:last_idx_among_valid+1]},\n",
    "                    kwargs_list={'filenames':\n",
    "                                 [fn for fn in valid_filenames[first_idx_among_valid:last_idx_among_valid+1]\n",
    "                                  if fn.split('-')[1][0] == 'N']},\n",
    "                    argument_type='list2',\n",
    "                   cluster_size=16)\n",
    "\n",
    "wait_qsub_complete()\n",
    "\n",
    "sys.stderr.write('done in %f seconds\\n' % (time.time() - t)) # 1200 seconds."
   ]
  },
  {
   "cell_type": "code",
   "execution_count": 44,
   "metadata": {
    "collapsed": true
   },
   "outputs": [],
   "source": [
    "# Convert contrast-stretched Neurotrace images to grayscale\n",
    "\n",
    "# script_fp = os.path.join(REPO_DIR, 'preprocess', 'convert_grayscale_neurotrace.py')\n",
    "# in_dir = os.path.join(DATA_DIR, stack, stack + '_lossless_alignedTo_' + anchor_fn + '_cropped_contrast_stretched')\n",
    "# out_dir = os.path.join(DATA_DIR, stack, stack + '_lossless_alignedTo_' + anchor_fn + '_cropped_contrast_stretched_blueasgray')\n",
    "# ! mkdir -p {out_dir}"
   ]
  },
  {
   "cell_type": "code",
   "execution_count": 57,
   "metadata": {},
   "outputs": [
    {
     "name": "stderr",
     "output_type": "stream",
     "text": [
      "Convert neurotrace images to gray...16 nodes requested, 16 nodes available...Continuing\n",
      "Jobs submitted. Use wait_qsub_complete() to check if they finish.\n",
      "qsub returned.\n",
      "done in 75.575123 seconds\n"
     ]
    }
   ],
   "source": [
    "# t = time.time()\n",
    "# sys.stderr.write('Convert neurotrace images to gray...')\n",
    "               \n",
    "# run_distributed(command='%(script_path)s %%(in_fn)s %%(out_fn)s'%\\\n",
    "#                     {'script_path': script_fp},\n",
    "#                     kwargs_list=[{'in_fn': os.path.join(in_dir, fn + '_lossless_alignedTo_' + anchor_fn + '_cropped_contrast_stretched.tif'),\n",
    "#                                 'out_fn': os.path.join(out_dir, fn + '_lossless_alignedTo_' + anchor_fn + '_cropped_contrast_stretched_blueasgray.tif')}\n",
    "# #                                 for fn in valid_filenames[first_idx_among_valid:last_idx_among_valid+1]\n",
    "#                                  for fn in valid_filenames[150:151]\n",
    "#                                 if fn.split('-')[1][0] == 'F'],\n",
    "#                     argument_type='single',\n",
    "#                    cluster_size=16)\n",
    "\n",
    "# wait_qsub_complete()\n",
    "\n",
    "# sys.stderr.write('done in %f seconds\\n' % (time.time() - t)) # 2500 seconds"
   ]
  },
  {
   "cell_type": "markdown",
   "metadata": {},
   "source": [
    "# Step 2: Match intensity profile between Neurotrace Blue to Nissl"
   ]
  },
  {
   "cell_type": "code",
   "execution_count": 122,
   "metadata": {
    "scrolled": true
   },
   "outputs": [
    {
     "name": "stdout",
     "output_type": "stream",
     "text": [
      "Match intensity profile between Neurotrace and Nissl... rm -f ~/stderr_*; rm -f ~/stdout_*\n"
     ]
    },
    {
     "name": "stderr",
     "output_type": "stream",
     "text": [
      "Child returned 0\n",
      "16 nodes available.\n",
      "Jobs submitted. Use wait_qsub_complete() to wait for all execution to finish.\n",
      "qsub returned.\n",
      "Child returned 0\n",
      "16 nodes available.\n"
     ]
    },
    {
     "name": "stdout",
     "output_type": "stream",
     "text": [
      "done in 2790.67252398 seconds\n",
      "Match intensity profile between Neurotrace and Nissl... rm -f ~/stderr_*; rm -f ~/stdout_*\n"
     ]
    },
    {
     "name": "stderr",
     "output_type": "stream",
     "text": [
      "Jobs submitted. Use wait_qsub_complete() to wait for all execution to finish.\n",
      "qsub returned.\n",
      "Child returned 0\n",
      "16 nodes available.\n"
     ]
    },
    {
     "name": "stdout",
     "output_type": "stream",
     "text": [
      "done in 2554.21281099 seconds\n",
      "Match intensity profile between Neurotrace and Nissl... rm -f ~/stderr_*; rm -f ~/stdout_*\n"
     ]
    },
    {
     "name": "stderr",
     "output_type": "stream",
     "text": [
      "Jobs submitted. Use wait_qsub_complete() to wait for all execution to finish.\n",
      "qsub returned.\n",
      "Child returned 0\n",
      "16 nodes available.\n"
     ]
    },
    {
     "name": "stdout",
     "output_type": "stream",
     "text": [
      "done in 2655.20303488 seconds\n",
      "Match intensity profile between Neurotrace and Nissl... rm -f ~/stderr_*; rm -f ~/stdout_*\n"
     ]
    },
    {
     "name": "stderr",
     "output_type": "stream",
     "text": [
      "Jobs submitted. Use wait_qsub_complete() to wait for all execution to finish.\n"
     ]
    },
    {
     "name": "stdout",
     "output_type": "stream",
     "text": [
      "done in 2363.96758008 seconds\n"
     ]
    },
    {
     "name": "stderr",
     "output_type": "stream",
     "text": [
      "qsub returned.\n"
     ]
    }
   ],
   "source": [
    "# for stack in all_alt_nissl_ntb_stacks + all_alt_nissl_tracing_stacks:\n",
    "for stack in ['MD653', 'MD652', 'MD642', 'MD658']:\n",
    "\n",
    "#     download_from_s3(DataManager.get_sorted_filenames_filename(stack=stack))\n",
    "#     _, sections_to_filenames = DataManager.load_sorted_filenames(stack=stack)\n",
    "#     valid_filenames = [fn for fn in sections_to_filenames.values() if not is_invalid(fn=fn)]\n",
    "#     download_from_s3(DataManager.get_anchor_filename_filename(stack=stack))\n",
    "#     anchor_fn = DataManager.load_anchor_filename(stack=stack)\n",
    "#     download_from_s3(DataManager.get_cropbox_filename(stack=stack))\n",
    "#     xmin, xmax, ymin, ymax, first_sec, last_sec = DataManager.load_cropbox(stack=stack)\n",
    "#     w = xmax + 1 - xmin\n",
    "#     h = ymax + 1 - ymin\n",
    "#     x = xmin\n",
    "#     y = ymin\n",
    "#     first_fn = sections_to_filenames[first_sec]\n",
    "#     last_fn = sections_to_filenames[last_sec]\n",
    "#     first_idx_among_valid = valid_filenames.index(first_fn)\n",
    "#     last_idx_among_valid = valid_filenames.index(last_fn)\n",
    "    \n",
    "    #########################################################\n",
    "    \n",
    "    t = time.time()\n",
    "    print 'Match intensity profile between Neurotrace and Nissl...',\n",
    "    \n",
    "    filename_pairs = []\n",
    "    l = metadata_cache['valid_filenames'][stack]\n",
    "    for i, fn in enumerate(l):\n",
    "        if l[i].split('-')[1][0] == 'F':\n",
    "            for d in range(1, 99):\n",
    "                if i+d < len(l) and l[i+d].split('-')[1][0] == 'N':\n",
    "                    filename_pairs.append((l[i+d], l[i]))\n",
    "                    break\n",
    "                if i-d >= 0 and l[i-d].split('-')[1][0] == 'N':\n",
    "                    filename_pairs.append((l[i-d], l[i]))\n",
    "                    break\n",
    "    \n",
    "    script = os.path.join(REPO_DIR, 'preprocess', 'match_intensity_profile_v2.py')\n",
    "    \n",
    "    run_distributed(command='%(script_path)s %(stack)s \\'%%(filename_pairs)s\\' 100' % \\\n",
    "                    {'script_path': script,\n",
    "                    'stack': stack},\n",
    "#                     kwargs_list=dict(filename_pairs=filename_pairs[37:38]),\n",
    "                    kwargs_list=dict(filename_pairs=filename_pairs),\n",
    "                    argument_type='list2'\n",
    "                   )\n",
    "\n",
    "    wait_qsub_complete()\n",
    "\n",
    "    print 'done in', time.time() - t, 'seconds'"
   ]
  },
  {
   "cell_type": "markdown",
   "metadata": {},
   "source": [
    "# Step 3: Convert Neurotrace images to grayscale (New, use nonlinear intensity mapping)"
   ]
  },
  {
   "cell_type": "code",
   "execution_count": 6,
   "metadata": {},
   "outputs": [
    {
     "name": "stdout",
     "output_type": "stream",
     "text": [
      "Setting autoscaling group cfncluster-yuncongcluster-ComputeFleet-1LEH9CIEITL1A capaticy to 16...it may take more than 5 minutes for SGE to know new hosts.\n"
     ]
    }
   ],
   "source": [
    "request_compute_nodes(16, 'yuncong')"
   ]
  },
  {
   "cell_type": "code",
   "execution_count": 7,
   "metadata": {
    "scrolled": true
   },
   "outputs": [
    {
     "name": "stdout",
     "output_type": "stream",
     "text": [
      "rm -f ~/stderr_*; rm -f ~/stdout_*\n"
     ]
    },
    {
     "name": "stderr",
     "output_type": "stream",
     "text": [
      "0 nodes available.\n"
     ]
    }
   ],
   "source": [
    "run_distributed('rm -rf /scratch/*', argument_type='single')"
   ]
  },
  {
   "cell_type": "code",
   "execution_count": 8,
   "metadata": {
    "collapsed": true
   },
   "outputs": [],
   "source": [
    "# for fn in valid_filenames[first_idx_among_valid:last_idx_among_valid+1]:\n",
    "#     download_from_s3(DataManager.get_image_filepath(stack=stack, version='cropped', resol='lossless', fn=fn))"
   ]
  },
  {
   "cell_type": "markdown",
   "metadata": {},
   "source": [
    "This requires at least 4.2xlarge instances. 4.xlarge causes memory error."
   ]
  },
  {
   "cell_type": "code",
   "execution_count": 101,
   "metadata": {
    "collapsed": true
   },
   "outputs": [],
   "source": [
    "# _, sections_to_filenames = DataManager.load_sorted_filenames(stack=stack) \n",
    "# valid_filenames = [fn for fn in sections_to_filenames.values() if not is_invalid(fn=fn)]"
   ]
  },
  {
   "cell_type": "code",
   "execution_count": 8,
   "metadata": {
    "collapsed": true
   },
   "outputs": [],
   "source": [
    "script_fp = os.path.join(REPO_DIR, 'preprocess', 'convert_grayscale_neurotrace_v2.py')"
   ]
  },
  {
   "cell_type": "code",
   "execution_count": 9,
   "metadata": {
    "scrolled": false
   },
   "outputs": [
    {
     "name": "stderr",
     "output_type": "stream",
     "text": [
      "Convert neurotrace images to gray...16 nodes available.\n",
      "Jobs submitted. Use wait_qsub_complete() to wait for all execution to finish.\n"
     ]
    },
    {
     "name": "stdout",
     "output_type": "stream",
     "text": [
      "rm -f ~/stderr_*; rm -f ~/stdout_*\n"
     ]
    },
    {
     "name": "stderr",
     "output_type": "stream",
     "text": [
      "qsub returned.\n",
      "done in 1885.043394 seconds\n",
      "Convert neurotrace images to gray...16 nodes available.\n"
     ]
    },
    {
     "name": "stdout",
     "output_type": "stream",
     "text": [
      "rm -f ~/stderr_*; rm -f ~/stdout_*\n"
     ]
    },
    {
     "name": "stderr",
     "output_type": "stream",
     "text": [
      "Jobs submitted. Use wait_qsub_complete() to wait for all execution to finish.\n",
      "qsub returned.\n",
      "done in 2247.007864 seconds\n"
     ]
    }
   ],
   "source": [
    "# for stack in all_alt_nissl_ntb_stacks + all_alt_nissl_tracing_stacks:\n",
    "for stack in ['MD652', 'MD653']:\n",
    "    \n",
    "#     output_dir = create_if_not_exists(DataManager.get_image_dir_v2(stack=stack, prep_id=2, resol='lossless'));\n",
    "#     ! rm -r {output_dir}\n",
    "\n",
    "    t = time.time()\n",
    "    sys.stderr.write('Convert neurotrace images to gray...')\n",
    "\n",
    "    run_distributed(command='DATA_DIR=/scratch/CSHL_data_processed %(script_path)s %(stack)s \\'%%(filenames)s\\' -o %(output_version)s --not_use_section_specific'%\\\n",
    "#     run_distributed(command='DATA_DIR=/scratch/CSHL_data_processed %(script_path)s %(stack)s \\'%%(filenames)s\\' -o %(output_version)s'%\\\n",
    "                        {'script_path': script_fp, \n",
    "                        'stack': stack,\n",
    "                        'output_version': 'grayDefault'},\n",
    "                        kwargs_list={'filenames': metadata_cache['valid_filenames'][stack]\n",
    "#                                      [fn for fn in metadata_cache['valid_filenames'][stack][151:152]\n",
    "#                                       if fn.split('-')[1][0] == 'F']\n",
    "                                    },\n",
    "                        argument_type='list2')\n",
    "\n",
    "    wait_qsub_complete()\n",
    "\n",
    "    sys.stderr.write('done in %f seconds\\n' % (time.time() - t)) # 1200 seconds.\n",
    "    \n",
    "# 16 4.2xlarge, whole stack, 2000s"
   ]
  },
  {
   "cell_type": "code",
   "execution_count": 68,
   "metadata": {
    "collapsed": true
   },
   "outputs": [],
   "source": [
    "# upload_to_s3(DataManager.get_image_dir(stack=stack, version='cropped_gray', resol='lossless'), is_dir=True)"
   ]
  },
  {
   "cell_type": "markdown",
   "metadata": {},
   "source": [
    "# Step 2/3: Convert Neurotrace images to grayscale (linear intensity mapping)"
   ]
  },
  {
   "cell_type": "code",
   "execution_count": 2,
   "metadata": {
    "collapsed": true
   },
   "outputs": [],
   "source": [
    "stack = 'MD662'"
   ]
  },
  {
   "cell_type": "code",
   "execution_count": 3,
   "metadata": {
    "collapsed": true
   },
   "outputs": [],
   "source": [
    "script_fp = os.path.join(REPO_DIR, 'preprocess', 'convert_grayscale_neurotrace_v2.py')"
   ]
  },
  {
   "cell_type": "code",
   "execution_count": 5,
   "metadata": {},
   "outputs": [
    {
     "name": "stdout",
     "output_type": "stream",
     "text": [
      "rm -f ~/stderr_*; rm -f ~/stdout_*\n"
     ]
    },
    {
     "name": "stderr",
     "output_type": "stream",
     "text": [
      "0 nodes available.\n",
      "qsub returned.\n"
     ]
    }
   ],
   "source": [
    "run_distributed('rm -rf /scratch/*', argument_type='single')\n",
    "wait_qsub_complete()"
   ]
  },
  {
   "cell_type": "code",
   "execution_count": 8,
   "metadata": {
    "scrolled": true
   },
   "outputs": [
    {
     "name": "stderr",
     "output_type": "stream",
     "text": [
      "Convert neurotrace images to gray...16 nodes available.\n"
     ]
    },
    {
     "name": "stdout",
     "output_type": "stream",
     "text": [
      "rm -f ~/stderr_*; rm -f ~/stdout_*\n"
     ]
    },
    {
     "name": "stderr",
     "output_type": "stream",
     "text": [
      "Jobs submitted. Use wait_qsub_complete() to wait for all execution to finish.\n",
      "qsub returned.\n",
      "done in 672.223936 seconds\n",
      "16 nodes available.\n"
     ]
    },
    {
     "name": "stdout",
     "output_type": "stream",
     "text": [
      "rm -f ~/stderr_*; rm -f ~/stdout_*\n"
     ]
    },
    {
     "name": "stderr",
     "output_type": "stream",
     "text": [
      "Jobs submitted. Use wait_qsub_complete() to wait for all execution to finish.\n",
      "qsub returned.\n",
      "done in 1264.206029 seconds\n"
     ]
    }
   ],
   "source": [
    "t = time.time()\n",
    "sys.stderr.write('Convert neurotrace images to gray...')\n",
    "\n",
    "for low in range(500, 1500, 500):\n",
    "    high = 0\n",
    "# for low in [500]:\n",
    "\n",
    "    run_distributed(command='DATA_ROOTDIR=/scratch %(script_path)s %(stack)s \\'%%(filenames)s\\' -l %(low)d -H %(high)d -o %(output_version)s'%\\\n",
    "                        {'script_path': script_fp, \n",
    "                        'stack': stack,\n",
    "                        'low': low,\n",
    "                         'high': high,\n",
    "                        'output_version': 'grayL'+str(low)+'H'+str(high)},\n",
    "                        kwargs_list={'filenames': \n",
    "                                     [fn for fn in metadata_cache['valid_filenames'][stack]\n",
    "                                      if fn.split('-')[1][0] == 'F']},\n",
    "#                                      metadata_cache['valid_filenames'][stack]},\n",
    "                        argument_type='list2',\n",
    "                   node_list=get_node_list())\n",
    "\n",
    "    wait_qsub_complete()\n",
    "\n",
    "    sys.stderr.write('done in %f seconds\\n' % (time.time() - t)) \n",
    "\n",
    "# /scratch, 133 jobs / 16 nodes: 850 seconds"
   ]
  },
  {
   "cell_type": "code",
   "execution_count": null,
   "metadata": {
    "collapsed": true
   },
   "outputs": [],
   "source": [
    "# This may not be necessary. Intensity rescaling is easy at feature generation time.\n",
    "\n",
    "script_fp = os.path.join(REPO_DIR, 'preprocess', 'convert_grayscale_neurotrace_v2.py')\n",
    "\n",
    "for stack in ['MD585', 'MD589', 'MD594']:\n",
    "    \n",
    "    run_distributed('rm -rf /scratch/*', argument_type='single')\n",
    "    wait_qsub_complete()\n",
    "\n",
    "    for low in [0, 63, 127]:\n",
    "        for high in [127, 191, 255]:\n",
    "            if low < high:\n",
    "                \n",
    "                t = time.time()\n",
    "                sys.stderr.write('Convert nissl images to gray...')\n",
    "\n",
    "                run_distributed(command='DATA_DIR=/scratch/CSHL_data_processed %(script_path)s %(stack)s \\'%%(filenames)s\\' -l %(low)d -H %(high)d -o %(output_version)s'%\\\n",
    "                                    {'script_path': script_fp, \n",
    "                                    'stack': stack,\n",
    "                                    'low': low,\n",
    "                                     'high': high,\n",
    "                                    'output_version': 'grayLinear'+str(low)+'t'+str(high)},\n",
    "                                    kwargs_list={'filenames': metadata_cache['valid_filenames'][stack]},\n",
    "                                    argument_type='list2',\n",
    "                               node_list=get_node_list())\n",
    "\n",
    "                wait_qsub_complete()\n",
    "\n",
    "                sys.stderr.write('done in %f seconds\\n' % (time.time() - t)) \n",
    "\n",
    "            # /scratch, 133 jobs / 16 nodes: 850 seconds"
   ]
  },
  {
   "cell_type": "markdown",
   "metadata": {},
   "source": [
    "# Compress nissl gray and normalized fluorescent gray images (NEW)"
   ]
  },
  {
   "cell_type": "code",
   "execution_count": 12,
   "metadata": {},
   "outputs": [
    {
     "name": "stdout",
     "output_type": "stream",
     "text": [
      "rm -f ~/stderr_*; rm -f ~/stdout_*\n"
     ]
    },
    {
     "name": "stderr",
     "output_type": "stream",
     "text": [
      "16 nodes available.\n",
      "Jobs submitted. Use wait_qsub_complete() to wait for all execution to finish.\n"
     ]
    }
   ],
   "source": [
    "run_distributed('rm -r /scratch/*', argument_type='single')"
   ]
  },
  {
   "cell_type": "code",
   "execution_count": 2,
   "metadata": {
    "scrolled": true
   },
   "outputs": [
    {
     "name": "stdout",
     "output_type": "stream",
     "text": [
      "Generating compressed images... rm -f ~/stderr_*; rm -f ~/stdout_*\n"
     ]
    },
    {
     "name": "stderr",
     "output_type": "stream",
     "text": [
      "16 nodes available.\n",
      "Jobs submitted. Use wait_qsub_complete() to wait for all execution to finish.\n",
      "qsub returned.\n",
      "16 nodes available.\n"
     ]
    },
    {
     "name": "stdout",
     "output_type": "stream",
     "text": [
      "done in 271.186305046 seconds\n",
      "Generating compressed images... rm -f ~/stderr_*; rm -f ~/stdout_*\n"
     ]
    },
    {
     "name": "stderr",
     "output_type": "stream",
     "text": [
      "Jobs submitted. Use wait_qsub_complete() to wait for all execution to finish.\n",
      "qsub returned.\n",
      "16 nodes available.\n"
     ]
    },
    {
     "name": "stdout",
     "output_type": "stream",
     "text": [
      "done in 236.153964996 seconds\n",
      "Generating compressed images... rm -f ~/stderr_*; rm -f ~/stdout_*\n"
     ]
    },
    {
     "name": "stderr",
     "output_type": "stream",
     "text": [
      "Jobs submitted. Use wait_qsub_complete() to wait for all execution to finish.\n",
      "qsub returned.\n",
      "16 nodes available.\n"
     ]
    },
    {
     "name": "stdout",
     "output_type": "stream",
     "text": [
      "done in 266.273519039 seconds\n",
      "Generating compressed images... rm -f ~/stderr_*; rm -f ~/stdout_*\n"
     ]
    },
    {
     "name": "stderr",
     "output_type": "stream",
     "text": [
      "Jobs submitted. Use wait_qsub_complete() to wait for all execution to finish.\n"
     ]
    },
    {
     "name": "stdout",
     "output_type": "stream",
     "text": [
      "done in 261.257901907 seconds\n"
     ]
    },
    {
     "name": "stderr",
     "output_type": "stream",
     "text": [
      "qsub returned.\n"
     ]
    }
   ],
   "source": [
    "# for stack in all_alt_nissl_ntb_stacks + all_alt_nissl_tracing_stacks:\n",
    "for stack in ['MD642', 'MD652', 'MD653', 'MD657']:\n",
    "    \n",
    "    t = time.time()\n",
    "    print 'Generating compressed images...',\n",
    "\n",
    "    script_fp = os.path.join(REPO_DIR, 'preprocess', 'compress_as_jpeg.py')\n",
    "\n",
    "    # Only specifying DATA_DIR does not work because download_from_s3() forms the path relative to ROOT_DIR.\n",
    "    run_distributed('ROOT_DIR=/scratch %(script)s \\\"%%(input_fp)s\\\" \\\"%%(output_fp)s\\\"' % \\\n",
    "                    {'script': script_fp},\n",
    "                    kwargs_list=[{'input_fp': \n",
    "                                  DataManager.get_image_filepath_v2(stack=stack, prep_id=2, fn=fn, resol='lossless', \n",
    "                                                                    version='grayDefault', data_dir='/scratch/CSHL_data_processed'),\n",
    "                                  'output_fp': \n",
    "                                  DataManager.get_image_filepath_v2(stack=stack, prep_id=2, fn=fn, resol='lossless', \n",
    "                                                                    version='grayDefaultJpeg',data_dir='/scratch/CSHL_data_processed',ext='jpg')}\n",
    "                                 for fn in metadata_cache['valid_filenames'][stack]],\n",
    "                        argument_type='single')\n",
    "\n",
    "    wait_qsub_complete()\n",
    "\n",
    "    sys.stderr.write('done in %f seconds\\n' % (time.time() - t)) \n",
    "    # for one stack 300 seconds."
   ]
  },
  {
   "cell_type": "markdown",
   "metadata": {},
   "source": [
    "# Compress CryoJane data to JPEG"
   ]
  },
  {
   "cell_type": "code",
   "execution_count": 11,
   "metadata": {},
   "outputs": [
    {
     "name": "stderr",
     "output_type": "stream",
     "text": [
      "[autoreload of utilities2015 failed: Traceback (most recent call last):\n",
      "  File \"/usr/local/lib/python2.7/dist-packages/IPython/extensions/autoreload.py\", line 247, in check\n",
      "    superreload(m, reload, self.old_objects)\n",
      "AttributeError: __abstractmethods__\n",
      "]\n"
     ]
    },
    {
     "name": "stdout",
     "output_type": "stream",
     "text": [
      "Generating compressed images... rm -f ~/stderr_*; rm -f ~/stdout_*\n"
     ]
    },
    {
     "name": "stderr",
     "output_type": "stream",
     "text": [
      "Run locally.\n",
      "Jobs submitted. Use wait_qsub_complete() to wait for all execution to finish.\n",
      "done in 4548.938718 seconds\n"
     ]
    }
   ],
   "source": [
    "# for stack in all_alt_nissl_ntb_stacks + all_alt_nissl_tracing_stacks:\n",
    "for stack in ['ChatCryoJane201710']:\n",
    "    \n",
    "    t = time.time()\n",
    "    print 'Generating compressed images...',\n",
    "\n",
    "    script_fp = os.path.join(REPO_DIR, 'preprocess', 'compress_as_jpeg.py')\n",
    "\n",
    "    # Only specifying DATA_DIR does not work because download_from_s3() forms the path relative to ROOT_DIR.\n",
    "#     run_distributed('ROOT_DIR=/scratch %(script)s \\\"%%(input_fp)s\\\" \\\"%%(output_fp)s\\\"' % \\\n",
    "#                     {'script': script_fp},\n",
    "#                     kwargs_list=[{'input_fp': \n",
    "#                                   DataManager.get_image_filepath_v2(stack=stack, prep_id=2, fn=fn, resol='lossless', \n",
    "#                                                                     version='Ntb', data_dir='/scratch/CSHL_data_processed'),\n",
    "#                                   'output_fp': \n",
    "#                                   DataManager.get_image_filepath_v2(stack=stack, prep_id=2, fn=fn, resol='lossless', \n",
    "#                                                                     version='NtbJpeg',data_dir='/scratch/CSHL_data_processed',ext='jpg')}\n",
    "#                                  for fn in metadata_cache['valid_filenames'][stack]],\n",
    "#                         argument_type='single',\n",
    "#                    local_only=True)\n",
    "\n",
    "\n",
    "    run_distributed('ROOT_DIR=/media/yuncong/BstemAtlasData/ %(script)s \\\"%%(input_fp)s\\\" \\\"%%(output_fp)s\\\"' % \\\n",
    "                    {'script': script_fp},\n",
    "                    kwargs_list=[{'input_fp': \n",
    "                                  DataManager.get_image_filepath_v2(stack=stack, prep_id=2, fn=fn, resol='lossless', \n",
    "                                                                    version='Chat', data_dir=DATA_DIR),\n",
    "                                  'output_fp': \n",
    "                                  DataManager.get_image_filepath_v2(stack=stack, prep_id=2, fn=fn, resol='lossless', \n",
    "                                                                    version='ChatJpeg', data_dir=DATA_DIR, ext='jpg')}\n",
    "                                 for fn in metadata_cache['valid_filenames'][stack]],\n",
    "                        argument_type='single',\n",
    "                   local_only=True)\n",
    "\n",
    "\n",
    "#     wait_qsub_complete()\n",
    "\n",
    "    sys.stderr.write('done in %f seconds\\n' % (time.time() - t)) \n",
    "    # for one stack 300 seconds."
   ]
  },
  {
   "cell_type": "markdown",
   "metadata": {},
   "source": [
    "# Compress MD662 lossless gray to JPEG"
   ]
  },
  {
   "cell_type": "code",
   "execution_count": 57,
   "metadata": {},
   "outputs": [
    {
     "name": "stdout",
     "output_type": "stream",
     "text": [
      "Generating compressed images... rm -f ~/stderr_*; rm -f ~/stdout_*\n"
     ]
    },
    {
     "name": "stderr",
     "output_type": "stream",
     "text": [
      "16 nodes available.\n",
      "Jobs submitted. Use wait_qsub_complete() to wait for all execution to finish.\n",
      "qsub returned.\n",
      "done in 669.911147 seconds\n"
     ]
    }
   ],
   "source": [
    "# for stack in all_alt_nissl_ntb_stacks + all_alt_nissl_tracing_stacks:\n",
    "for stack in ['MD662']:\n",
    "    \n",
    "    t = time.time()\n",
    "    print 'Generating compressed images...',\n",
    "\n",
    "    script_fp = os.path.join(REPO_DIR, 'preprocess', 'compress_as_jpeg.py')\n",
    "\n",
    "    # Only specifying DATA_DIR does not work because download_from_s3() forms the path relative to ROOT_DIR.\n",
    "#     run_distributed('ROOT_DIR=/scratch %(script)s \\\"%%(input_fp)s\\\" \\\"%%(output_fp)s\\\"' % \\\n",
    "#                     {'script': script_fp},\n",
    "#                     kwargs_list=[{'input_fp': \n",
    "#                                   DataManager.get_image_filepath_v2(stack=stack, prep_id=2, fn=fn, resol='lossless', \n",
    "#                                                                     version='Ntb', data_dir='/scratch/CSHL_data_processed'),\n",
    "#                                   'output_fp': \n",
    "#                                   DataManager.get_image_filepath_v2(stack=stack, prep_id=2, fn=fn, resol='lossless', \n",
    "#                                                                     version='NtbJpeg',data_dir='/scratch/CSHL_data_processed',ext='jpg')}\n",
    "#                                  for fn in metadata_cache['valid_filenames'][stack]],\n",
    "#                         argument_type='single',\n",
    "#                    local_only=True)\n",
    "\n",
    "\n",
    "    run_distributed('ROOT_DIR=/scratch/ %(script)s \\\"%%(input_fp)s\\\" \\\"%%(output_fp)s\\\"' % \\\n",
    "                    {'script': script_fp},\n",
    "                    kwargs_list=[{'input_fp': \n",
    "                                  DataManager.get_image_filepath_v2(stack=stack, prep_id=5, fn=fn, resol='lossless', version='gray', data_dir='/scratch/CSHL_data_processed'),\n",
    "                                  'output_fp': \n",
    "                                  DataManager.get_image_filepath_v2(stack=stack, prep_id=5, fn=fn, resol='lossless', version='grayJpeg', data_dir='/scratch/CSHL_data_processed', ext='jpg')}\n",
    "                                 for fn in metadata_cache['valid_filenames_all'][stack]],\n",
    "                        argument_type='single')\n",
    "#                    local_only=True)\n",
    "\n",
    "    wait_qsub_complete()\n",
    "    sys.stderr.write('done in %f seconds\\n' % (time.time() - t)) \n",
    "    # for one stack 300 seconds."
   ]
  },
  {
   "cell_type": "markdown",
   "metadata": {},
   "source": [
    "# Shrink JPEG"
   ]
  },
  {
   "cell_type": "code",
   "execution_count": 73,
   "metadata": {
    "collapsed": true
   },
   "outputs": [],
   "source": [
    "downscale = 8"
   ]
  },
  {
   "cell_type": "code",
   "execution_count": 74,
   "metadata": {
    "collapsed": true
   },
   "outputs": [],
   "source": [
    "script_fp = os.path.join(REPO_DIR, 'preprocess', 'rescale_image.py')"
   ]
  },
  {
   "cell_type": "code",
   "execution_count": 76,
   "metadata": {},
   "outputs": [
    {
     "name": "stdout",
     "output_type": "stream",
     "text": [
      "Generating compressed images... rm -f ~/stderr_*; rm -f ~/stdout_*\n"
     ]
    },
    {
     "name": "stderr",
     "output_type": "stream",
     "text": [
      "16 nodes available.\n",
      "Jobs submitted. Use wait_qsub_complete() to wait for all execution to finish.\n",
      "qsub returned.\n",
      "done in 537.858770 seconds\n"
     ]
    }
   ],
   "source": [
    "# for stack in all_alt_nissl_ntb_stacks + all_alt_nissl_tracing_stacks:\n",
    "# for stack in ['MD652', 'MD653', 'MD657', 'MD658']:\n",
    "for stack in ['MD662']:\n",
    "    \n",
    "    t = time.time()\n",
    "    print 'Generating compressed images...',\n",
    "    w, h = metadata_cache['image_shape'][stack]\n",
    "    \n",
    "    if downscale == 32:\n",
    "\n",
    "        run_distributed('ROOT_DIR=/scratch %(script)s \\\"%%(input_fp)s\\\" \\\"%%(output_fp)s\\\" -W %(w)d -H %(h)d' % \\\n",
    "                {'script': script_fp, 'w': w/32, 'h': h/32},\n",
    "                kwargs_list=[{'input_fp': DataManager.get_image_filepath_v2(stack=stack, prep_id=2, fn=fn, resol='lossless', version='grayJpeg', data_dir='/scratch/CSHL_data_processed',ext='jpg'),\n",
    "                              'output_fp': DataManager.get_image_filepath_v2(stack=stack, prep_id=2, fn=fn, resol='thumbnail', version='grayJpeg', thumbnail_data_dir='/scratch/CSHL_data_processed',ext='jpg')}\n",
    "                             for fn in metadata_cache['valid_filenames'][stack]],\n",
    "                    argument_type='single')\n",
    "        \n",
    "    else:\n",
    "        \n",
    "        # Only specifying DATA_DIR does not work because download_from_s3() forms the path relative to ROOT_DIR.\n",
    "        run_distributed('ROOT_DIR=/scratch DATA_ROOTDIR=/scratch %(script)s \\\"%%(input_fp)s\\\" \\\"%%(output_fp)s\\\" -W %(w)d -H %(h)d' % \\\n",
    "                        {'script': script_fp, 'w': w/downscale, 'h': h/downscale},\n",
    "                        kwargs_list=[{'input_fp': DataManager.get_image_filepath_v2(stack=stack, prep_id=5, fn=fn,\\\n",
    "                                                                                    resol='lossless', \\\n",
    "                                                                                    version='contrastStretched', data_dir='/scratch/CSHL_data_processed',ext='jpg'),\n",
    "                                      'output_fp': DataManager.get_image_filepath_v2(stack=stack, prep_id=5, fn=fn, \\\n",
    "                                                                                     resol='down%d'%downscale, \\\n",
    "                                                                                     version='contrastStretched', data_dir='/scratch/CSHL_data_processed',ext='jpg')}\n",
    "                                     for fn in metadata_cache['valid_filenames_all'][stack]],\n",
    "                            argument_type='single')\n",
    "\n",
    "    wait_qsub_complete()\n",
    "\n",
    "    sys.stderr.write('done in %f seconds\\n' % (time.time() - t))"
   ]
  },
  {
   "cell_type": "markdown",
   "metadata": {},
   "source": [
    "# Compress and shrink."
   ]
  },
  {
   "cell_type": "code",
   "execution_count": 2,
   "metadata": {
    "collapsed": true
   },
   "outputs": [],
   "source": [
    "downscale = 8"
   ]
  },
  {
   "cell_type": "code",
   "execution_count": 6,
   "metadata": {
    "collapsed": true
   },
   "outputs": [],
   "source": [
    "script_fp = os.path.join(REPO_DIR, 'preprocess', 'compress_and_rescale.py')"
   ]
  },
  {
   "cell_type": "code",
   "execution_count": 7,
   "metadata": {
    "scrolled": true
   },
   "outputs": [
    {
     "name": "stdout",
     "output_type": "stream",
     "text": [
      "Compress and rescale images... rm -f ~/stderr_*; rm -f ~/stdout_*\n"
     ]
    },
    {
     "name": "stderr",
     "output_type": "stream",
     "text": [
      "5 nodes available.\n",
      "Jobs submitted. Use wait_qsub_complete() to wait for all execution to finish.\n",
      "qsub returned.\n",
      "5 nodes available.\n",
      "Jobs submitted. Use wait_qsub_complete() to wait for all execution to finish.\n"
     ]
    },
    {
     "name": "stdout",
     "output_type": "stream",
     "text": [
      "done in 321.014811039 seconds\n",
      "Compress and rescale images... rm -f ~/stderr_*; rm -f ~/stdout_*\n"
     ]
    },
    {
     "name": "stderr",
     "output_type": "stream",
     "text": [
      "qsub returned.\n",
      "5 nodes available.\n",
      "Jobs submitted. Use wait_qsub_complete() to wait for all execution to finish.\n"
     ]
    },
    {
     "name": "stdout",
     "output_type": "stream",
     "text": [
      "done in 280.957913876 seconds\n",
      "Compress and rescale images... rm -f ~/stderr_*; rm -f ~/stdout_*\n"
     ]
    },
    {
     "name": "stderr",
     "output_type": "stream",
     "text": [
      "qsub returned.\n",
      "5 nodes available.\n",
      "Jobs submitted. Use wait_qsub_complete() to wait for all execution to finish.\n"
     ]
    },
    {
     "name": "stdout",
     "output_type": "stream",
     "text": [
      "done in 295.970170021 seconds\n",
      "Compress and rescale images... rm -f ~/stderr_*; rm -f ~/stdout_*\n"
     ]
    },
    {
     "name": "stderr",
     "output_type": "stream",
     "text": [
      "qsub returned.\n",
      "5 nodes available.\n",
      "Jobs submitted. Use wait_qsub_complete() to wait for all execution to finish.\n"
     ]
    },
    {
     "name": "stdout",
     "output_type": "stream",
     "text": [
      "done in 305.981263161 seconds\n",
      "Compress and rescale images... rm -f ~/stderr_*; rm -f ~/stdout_*\n"
     ]
    },
    {
     "name": "stderr",
     "output_type": "stream",
     "text": [
      "qsub returned.\n",
      "5 nodes available.\n",
      "Jobs submitted. Use wait_qsub_complete() to wait for all execution to finish.\n"
     ]
    },
    {
     "name": "stdout",
     "output_type": "stream",
     "text": [
      "done in 305.985481977 seconds\n",
      "Compress and rescale images... rm -f ~/stderr_*; rm -f ~/stdout_*\n"
     ]
    },
    {
     "name": "stderr",
     "output_type": "stream",
     "text": [
      "qsub returned.\n",
      "5 nodes available.\n",
      "Jobs submitted. Use wait_qsub_complete() to wait for all execution to finish.\n"
     ]
    },
    {
     "name": "stdout",
     "output_type": "stream",
     "text": [
      "done in 306.00112009 seconds\n",
      "Compress and rescale images... rm -f ~/stderr_*; rm -f ~/stdout_*\n"
     ]
    },
    {
     "name": "stderr",
     "output_type": "stream",
     "text": [
      "qsub returned.\n",
      "5 nodes available.\n",
      "Jobs submitted. Use wait_qsub_complete() to wait for all execution to finish.\n"
     ]
    },
    {
     "name": "stdout",
     "output_type": "stream",
     "text": [
      "done in 280.882650137 seconds\n",
      "Compress and rescale images... rm -f ~/stderr_*; rm -f ~/stdout_*\n"
     ]
    },
    {
     "name": "stderr",
     "output_type": "stream",
     "text": [
      "qsub returned.\n",
      "5 nodes available.\n",
      "Jobs submitted. Use wait_qsub_complete() to wait for all execution to finish.\n"
     ]
    },
    {
     "name": "stdout",
     "output_type": "stream",
     "text": [
      "done in 316.070741892 seconds\n",
      "Compress and rescale images... rm -f ~/stderr_*; rm -f ~/stdout_*\n"
     ]
    },
    {
     "name": "stderr",
     "output_type": "stream",
     "text": [
      "qsub returned.\n",
      "5 nodes available.\n",
      "Jobs submitted. Use wait_qsub_complete() to wait for all execution to finish.\n"
     ]
    },
    {
     "name": "stdout",
     "output_type": "stream",
     "text": [
      "done in 305.982710123 seconds\n",
      "Compress and rescale images... rm -f ~/stderr_*; rm -f ~/stdout_*\n"
     ]
    },
    {
     "name": "stderr",
     "output_type": "stream",
     "text": [
      "qsub returned.\n",
      "5 nodes available.\n",
      "Jobs submitted. Use wait_qsub_complete() to wait for all execution to finish.\n"
     ]
    },
    {
     "name": "stdout",
     "output_type": "stream",
     "text": [
      "done in 321.06528306 seconds\n",
      "Compress and rescale images... rm -f ~/stderr_*; rm -f ~/stdout_*\n"
     ]
    },
    {
     "name": "stderr",
     "output_type": "stream",
     "text": [
      "qsub returned.\n",
      "5 nodes available.\n",
      "Jobs submitted. Use wait_qsub_complete() to wait for all execution to finish.\n"
     ]
    },
    {
     "name": "stdout",
     "output_type": "stream",
     "text": [
      "done in 331.033967972 seconds\n",
      "Compress and rescale images... rm -f ~/stderr_*; rm -f ~/stdout_*\n",
      "done in 376.182645082 seconds\n"
     ]
    },
    {
     "name": "stderr",
     "output_type": "stream",
     "text": [
      "qsub returned.\n"
     ]
    }
   ],
   "source": [
    "for (in_version, out_version) in [('gray', 'grayJpeg')]:\n",
    "    for stack in all_nissl_stacks:\n",
    "\n",
    "        t = time.time()\n",
    "        print 'Compress and rescale images...',\n",
    "        w, h = metadata_cache['image_shape'][stack]\n",
    "        run_distributed('DATA_ROOTDIR=/scratch %(script)s \\\"%%(input_fp)s\\\" \\\"%%(output_fp)s\\\" -W %(w)d -H %(h)d' % \\\n",
    "                        {'script': script_fp, 'w': w/downscale, 'h': h/downscale},\n",
    "                        kwargs_list=[{'input_fp': DataManager.get_image_filepath_v2(stack=stack, prep_id=2, fn=fn, \n",
    "                                                                                    resol='lossless', \n",
    "                                                                                    version=in_version, \n",
    "                                                                                    data_dir='/scratch/CSHL_data_processed'),\n",
    "                                      'output_fp': DataManager.get_image_filepath_v2(stack=stack, prep_id=2, fn=fn, \n",
    "                                                                                     resol='down'+str(downscale), \n",
    "                                                                                     version=out_version,\n",
    "                                                                                     data_dir='/scratch/CSHL_data_processed', ext='jpg')}\n",
    "#                                      for fn in metadata_cache['valid_filenames'][stack] if fn.split('-')[1][0] == 'F'],\n",
    "                                     for fn in metadata_cache['valid_filenames'][stack]],\n",
    "                            argument_type='single')\n",
    "\n",
    "        wait_qsub_complete()\n",
    "\n",
    "        print 'done in', time.time() - t, 'seconds' \n",
    "\n",
    "    # 16 m4.4xlarge, one stack, 115 seconds."
   ]
  },
  {
   "cell_type": "markdown",
   "metadata": {},
   "source": [
    "# Constrast stretch 16-bit fluorescent image, generate RGB JPEG (NEW)"
   ]
  },
  {
   "cell_type": "code",
   "execution_count": 2,
   "metadata": {},
   "outputs": [
    {
     "name": "stdout",
     "output_type": "stream",
     "text": [
      "rm -f ~/stderr_*; rm -f ~/stdout_*\n"
     ]
    },
    {
     "name": "stderr",
     "output_type": "stream",
     "text": [
      "0 nodes available.\n"
     ]
    }
   ],
   "source": [
    "run_distributed('rm -r /scratch/*', argument_type='single')"
   ]
  },
  {
   "cell_type": "code",
   "execution_count": 58,
   "metadata": {
    "collapsed": true
   },
   "outputs": [],
   "source": [
    "script_fp = os.path.join(REPO_DIR, 'preprocess', 'contrast_stretch_fluorescent_image.py')"
   ]
  },
  {
   "cell_type": "code",
   "execution_count": 10,
   "metadata": {
    "collapsed": true
   },
   "outputs": [],
   "source": [
    "# on_s3 = [os.path.splitext(r.split()[3])[0][:-len('_prep2_lossless_contrastStretched')]\n",
    "#  for r in check_output(\"aws s3 ls s3://mousebrainatlas-data/CSHL_data_processed/MD661/MD661_prep2_lossless_contrastStretched/\".split()).split('\\n')\n",
    "#  if len(r.split()) > 1]\n",
    "# print set(on_s3) - set(metadata_cache['valid_filenames'][stack])\n",
    "# print set(metadata_cache['valid_filenames'][stack]) - set(on_s3)"
   ]
  },
  {
   "cell_type": "code",
   "execution_count": 11,
   "metadata": {
    "collapsed": true
   },
   "outputs": [],
   "source": [
    "# import psutil\n",
    "# vmem = psutil.virtual_memory()\n",
    "# print vmem.total"
   ]
  },
  {
   "cell_type": "code",
   "execution_count": 72,
   "metadata": {},
   "outputs": [
    {
     "name": "stdout",
     "output_type": "stream",
     "text": [
      "rm -f ~/stderr_*; rm -f ~/stdout_*\n"
     ]
    },
    {
     "name": "stderr",
     "output_type": "stream",
     "text": [
      "16 nodes available.\n",
      "Jobs submitted. Use wait_qsub_complete() to wait for all execution to finish.\n",
      "qsub returned.\n",
      "done in 2592.752586 seconds\n"
     ]
    }
   ],
   "source": [
    "for stack in ['MD662']:\n",
    "    \n",
    "    prep_id = 5\n",
    "\n",
    "    t = time.time()\n",
    "    \n",
    "    if stack == 'MD658':\n",
    "        label_channel = 0\n",
    "        label_clipmax = 1300\n",
    "    else:\n",
    "        label_channel = 1\n",
    "        label_clipmax = 400\n",
    "\n",
    "    run_distributed(command='DATA_ROOTDIR=/scratch/ ROOT_DIR=/scratch %(script_path)s %(stack)s \\'%%(filenames)s\\' -c %(label_channel)d -max %(label_clipmax)d -p %(prep_id)d'%\\\n",
    "                        {'script_path': script_fp, \n",
    "                        'stack': stack,\n",
    "                         'prep_id': prep_id,\n",
    "                        'label_channel': label_channel,\n",
    "                        'label_clipmax': label_clipmax},\n",
    "                        kwargs_list={'filenames': \n",
    "                                     [fn for fn in metadata_cache['valid_filenames_all'][stack]\n",
    "                                      if fn.split('-')[1][0] == 'F']\n",
    "#                                      ['MD658-F33-2017.04.04-23.12.27_MD658_1_0097']\n",
    "                                    },\n",
    "                        argument_type='list2')\n",
    "\n",
    "    wait_qsub_complete()\n",
    "\n",
    "    sys.stderr.write('done in %f seconds\\n' % (time.time() - t))"
   ]
  },
  {
   "cell_type": "markdown",
   "metadata": {},
   "source": [
    "# Generate Masks for Aligned Sections (new)"
   ]
  },
  {
   "cell_type": "markdown",
   "metadata": {},
   "source": [
    "- Download aligned thumbnails to local machine.\n",
    "- Run `mask_editing_gui.py`. Draw initial contours. Upload `initSnakeContours.pkl` to S3."
   ]
  },
  {
   "cell_type": "code",
   "execution_count": 4,
   "metadata": {
    "scrolled": true
   },
   "outputs": [
    {
     "name": "stdout",
     "output_type": "stream",
     "text": [
      "rm -rf \"/shared/CSHL_data_processed/ChatCryoJane201710/ChatCryoJane201710_prep1_thumbnail_Ntb\" && mkdir -p \"/shared/CSHL_data_processed/ChatCryoJane201710\"\n",
      "aws s3 cp --recursive \"s3://mousebrainatlas-data/CSHL_data_processed/ChatCryoJane201710/ChatCryoJane201710_prep1_thumbnail_Ntb\" \"/shared/CSHL_data_processed/ChatCryoJane201710/ChatCryoJane201710_prep1_thumbnail_Ntb\"\n"
     ]
    }
   ],
   "source": [
    "# download_from_s3(DataManager.get_image_dir_v2(stack=stack, prep_id=1, resol='thumbnail'), is_dir=True)\n",
    "download_from_s3(DataManager.get_image_dir_v2(stack=stack, prep_id=1, resol='thumbnail', version='Ntb'), is_dir=True)"
   ]
  },
  {
   "cell_type": "code",
   "execution_count": 4,
   "metadata": {
    "collapsed": true,
    "scrolled": true
   },
   "outputs": [],
   "source": [
    "script = os.path.join(REPO_DIR, 'preprocess', 'generate_thumbnail_masks_v5.py')\n",
    "\n",
    "output_dir = create_if_not_exists(DataManager.get_auto_submask_rootdir_filepath(stack=stack))\n",
    "! rm -rf {output_dir} # important to clear remaining folders."
   ]
  },
  {
   "cell_type": "code",
   "execution_count": 5,
   "metadata": {},
   "outputs": [
    {
     "name": "stdout",
     "output_type": "stream",
     "text": [
      "rm -rf \"/media/yuncong/BstemAtlasData/CSHL_data_processed/CHATM2/CHATM2_prep1_thumbnail_initSnakeContours.pkl\" && mkdir -p \"/media/yuncong/BstemAtlasData/CSHL_data_processed/CHATM2\"\n",
      "0\n",
      "aws s3 cp \"s3://mousebrainatlas-data/CSHL_data_processed/CHATM2/CHATM2_prep1_thumbnail_initSnakeContours.pkl\" \"/media/yuncong/BstemAtlasData/CSHL_data_processed/CHATM2/CHATM2_prep1_thumbnail_initSnakeContours.pkl\"\n",
      "0\n"
     ]
    }
   ],
   "source": [
    "init_snake_contours_fp = DataManager.get_initial_snake_contours_filepath(stack=stack)\n",
    "download_from_s3(init_snake_contours_fp, redownload=True)"
   ]
  },
  {
   "cell_type": "code",
   "execution_count": 6,
   "metadata": {
    "collapsed": true,
    "scrolled": true
   },
   "outputs": [],
   "source": [
    "# _, sections_to_filenames = DataManager.load_sorted_filenames(stack=stack) \n",
    "# valid_filenames = [fn for fn in sections_to_filenames.values() if not is_invalid(fn=fn)]"
   ]
  },
  {
   "cell_type": "code",
   "execution_count": null,
   "metadata": {},
   "outputs": [
    {
     "name": "stdout",
     "output_type": "stream",
     "text": [
      "Generating thumbnail mask... rm -f ~/stderr_*; rm -f ~/stdout_*\n",
      "0\n"
     ]
    },
    {
     "name": "stderr",
     "output_type": "stream",
     "text": [
      "Run locally.\n"
     ]
    }
   ],
   "source": [
    "t = time.time()\n",
    "print 'Generating thumbnail mask...',\n",
    "\n",
    "run_distributed(command='%(script_path)s %(stack)s \\'%%(filenames)s\\' %(init_snake_contours_fp)s --min_size 500 --default_channel 1 --shrink 3 --version NtbNormalized' % \\\n",
    "                {'script_path': script,\n",
    "                'stack': stack,\n",
    "                'init_snake_contours_fp': init_snake_contours_fp},\n",
    "                kwargs_list={'filenames': metadata_cache['valid_filenames_all'][stack]\n",
    "                            },\n",
    "                argument_type='list2',\n",
    "               local_only=True)\n",
    "\n",
    "# wait_qsub_complete()\n",
    "\n",
    "print 'done in', time.time() - t, 'seconds' # 300s (aws)"
   ]
  },
  {
   "cell_type": "markdown",
   "metadata": {},
   "source": [
    "- download the folder `autoSubmasks` from S3.\n",
    "- Use local mask editing tool, generate `userModifiedSubmasks` and `masks`, upload to S3."
   ]
  },
  {
   "cell_type": "markdown",
   "metadata": {},
   "source": [
    "# Generate Masks"
   ]
  },
  {
   "cell_type": "code",
   "execution_count": 11,
   "metadata": {
    "collapsed": true
   },
   "outputs": [],
   "source": [
    "script = os.path.join(REPO_DIR, 'preprocess', 'generate_thumbnail_masks_v4.py')\n",
    "input_dir = os.path.join(RAW_DATA_DIR, stack)\n",
    "output_dir = create_if_not_exists(os.path.join(DATA_DIR, stack, stack + '_submasks'))\n",
    "! rm -f output_dir/*"
   ]
  },
  {
   "cell_type": "code",
   "execution_count": 16,
   "metadata": {
    "scrolled": true
   },
   "outputs": [
    {
     "name": "stdout",
     "output_type": "stream",
     "text": [
      "Generating thumbnail mask... Setting autoscaling group cfncluster-yuncongCluster-ComputeFleet-1LFRACYHLTNL8 capaticy to 16...it may take more than 5 minutes for SGE to know new hosts.\n"
     ]
    },
    {
     "name": "stderr",
     "output_type": "stream",
     "text": [
      "Wait for SGE to know all nodes (timeout in 300 seconds)...\n",
      "All nodes are ready.\n",
      "16 nodes requested, 16 nodes available...Continuing\n",
      "Jobs submitted. Use wait_qsub_complete() to check if they finish.\n"
     ]
    },
    {
     "name": "stdout",
     "output_type": "stream",
     "text": [
      "done in 403.646880865 seconds\n"
     ]
    },
    {
     "name": "stderr",
     "output_type": "stream",
     "text": [
      "qsub returned.\n"
     ]
    }
   ],
   "source": [
    "t = time.time()\n",
    "print 'Generating thumbnail mask...',\n",
    "\n",
    "wait_num_nodes(16)\n",
    "\n",
    "run_distributed(command='%(script_path)s %(stack)s %(input_dir)s \\'%%(filenames)s\\' %(output_dir)s --border_dissim_percentile %(border_dissim_percentile)d --min_size %(min_size)d' % \\\n",
    "                {'script_path': script,\n",
    "                'stack': stack,\n",
    "                'input_dir': input_dir,\n",
    "                'output_dir': output_dir,\n",
    "                'border_dissim_percentile': DEFAULT_BORDER_DISSIMILARITY_PERCENTILE,\n",
    "                'min_size': DEFAULT_MINSIZE},\n",
    "                kwargs_list=dict(filenames=valid_filenames),\n",
    "                exclude_nodes=[33],\n",
    "                argument_type='list2',\n",
    "               cluster_size=16,\n",
    "               jobs_per_node=1)\n",
    "\n",
    "wait_qsub_complete()\n",
    "\n",
    "print 'done in', time.time() - t, 'seconds' # 300s (aws)"
   ]
  },
  {
   "cell_type": "code",
   "execution_count": 18,
   "metadata": {},
   "outputs": [
    {
     "name": "stdout",
     "output_type": "stream",
     "text": [
      "aws s3 cp --recursive /shared/CSHL_data_processed/MD594/MD594_submasks s3://mousebrainatlas-data/CSHL_data_processed/MD594/MD594_submasks\n"
     ]
    },
    {
     "name": "stderr",
     "output_type": "stream",
     "text": [
      "Child returned 0\n",
      "3.72 seconds.\n"
     ]
    }
   ],
   "source": [
    "transfer_data_synced(relative_to_ec2(output_dir),\n",
    "                    from_hostname='ec2',\n",
    "                    to_hostname='s3',\n",
    "                    is_dir=True)"
   ]
  },
  {
   "cell_type": "markdown",
   "metadata": {
    "collapsed": true
   },
   "source": [
    "- download `submasks/` to local machine\n",
    "- review them in GUI\n",
    "- generate `submasks_modified/`, `masks/`, `submasks_finalDecisions.txt`, upload to S3"
   ]
  },
  {
   "cell_type": "markdown",
   "metadata": {},
   "source": [
    "# Warp Thumbnail Masks"
   ]
  },
  {
   "cell_type": "code",
   "execution_count": 6,
   "metadata": {
    "collapsed": true
   },
   "outputs": [],
   "source": [
    "script = os.path.join(REPO_DIR, 'preprocess', 'warp_crop_IM_v3.py')\n",
    "input_dir = os.path.join(DATA_DIR, stack, stack + '_masks')"
   ]
  },
  {
   "cell_type": "code",
   "execution_count": 31,
   "metadata": {},
   "outputs": [
    {
     "name": "stdout",
     "output_type": "stream",
     "text": [
      "rm -rf /shared/CSHL_data_processed/MD658/MD658_alignedTo_MD658-N58-2017.03.31-19.59.31_MD658_2_0173_masks\n"
     ]
    },
    {
     "name": "stderr",
     "output_type": "stream",
     "text": [
      "Child returned 0\n"
     ]
    }
   ],
   "source": [
    "output_dir = os.path.join(DATA_DIR, stack, stack + '_masks_alignedTo_' + anchor_fn)\n",
    "\n",
    "execute_command('rm -rf ' + output_dir)\n",
    "\n",
    "transforms_to_anchor = load_pickle(DataManager.get_transforms_filename(stack=stack))"
   ]
  },
  {
   "cell_type": "code",
   "execution_count": 24,
   "metadata": {},
   "outputs": [
    {
     "name": "stdout",
     "output_type": "stream",
     "text": [
      "warping thumbnail mask... Setting autoscaling group cfncluster-yuncongCluster-ComputeFleet-1LFRACYHLTNL8 capaticy to 16...it may take more than 5 minutes for SGE to know new hosts.\n"
     ]
    },
    {
     "name": "stderr",
     "output_type": "stream",
     "text": [
      "16 nodes requested, 1 nodes available...Continuing\n",
      "Jobs submitted. Use wait_qsub_complete() to check if they finish.\n"
     ]
    },
    {
     "name": "stdout",
     "output_type": "stream",
     "text": [
      "done in 76.2961359024 seconds\n"
     ]
    },
    {
     "name": "stderr",
     "output_type": "stream",
     "text": [
      "qsub returned.\n"
     ]
    }
   ],
   "source": [
    "t = time.time()\n",
    "print 'warping thumbnail mask...',\n",
    "\n",
    "run_distributed('%(script)s %(stack)s %(input_dir)s %(output_dir)s %%(transform)s %%(filename)s %%(output_fn)s thumbnail 0 0 2000 1500 black' % \\\n",
    "                {'script': script,\n",
    "                'stack': stack,\n",
    "                'input_dir': input_dir,\n",
    "                'output_dir': output_dir},\n",
    "                kwargs_list=[{'transform': ','.join(map(str, transforms_to_anchor[fn].flatten())),\n",
    "                            'filename': fn + '_mask.png',\n",
    "                            'output_fn': fn + '_mask_alignedTo_' + anchor_fn + '.png'}\n",
    "                            for fn in valid_filenames],\n",
    "                argument_type='single',\n",
    "               cluster_size=16,\n",
    "               jobs_per_node=16)\n",
    "\n",
    "wait_qsub_complete()\n",
    "\n",
    "print 'done in', time.time() - t, 'seconds' # 20 seconds (aws)"
   ]
  },
  {
   "cell_type": "code",
   "execution_count": 27,
   "metadata": {},
   "outputs": [
    {
     "name": "stdout",
     "output_type": "stream",
     "text": [
      "aws s3 cp --recursive /shared/CSHL_data_processed/MD594/MD594_masks_alignedTo_MD594-IHC58-2015.08.26-18.48.50_MD594_1_0172 s3://mousebrainatlas-data/CSHL_data_processed/MD594/MD594_masks_alignedTo_MD594-IHC58-2015.08.26-18.48.50_MD594_1_0172\n"
     ]
    },
    {
     "name": "stderr",
     "output_type": "stream",
     "text": [
      "Child returned 0\n",
      "3.42 seconds.\n"
     ]
    }
   ],
   "source": [
    "transfer_data_synced(relative_to_ec2(output_dir),\n",
    "                    from_hostname='ec2',\n",
    "                    to_hostname='s3',\n",
    "                    is_dir=True)"
   ]
  },
  {
   "cell_type": "markdown",
   "metadata": {},
   "source": [
    "# Crop Thumbnail Masks (new)"
   ]
  },
  {
   "cell_type": "code",
   "execution_count": 220,
   "metadata": {
    "collapsed": true
   },
   "outputs": [],
   "source": [
    "# stack = 'MD661'\n",
    "\n",
    "# download_from_s3(DataManager.get_sorted_filenames_filename(stack=stack))\n",
    "# _, sections_to_filenames = DataManager.load_sorted_filenames(stack=stack)\n",
    "# valid_filenames = [fn for fn in sections_to_filenames.values() if not is_invalid(fn=fn)]\n",
    "# download_from_s3(DataManager.get_anchor_filename_filename(stack=stack))\n",
    "# anchor_fn = DataManager.load_anchor_filename(stack=stack)\n",
    "# download_from_s3(DataManager.get_cropbox_filename(stack=stack))\n",
    "# xmin, xmax, ymin, ymax, first_sec, last_sec = DataManager.load_cropbox(stack=stack)\n",
    "# w = xmax + 1 - xmin\n",
    "# h = ymax + 1 - ymin\n",
    "# x = xmin\n",
    "# y = ymin\n",
    "# first_fn = sections_to_filenames[first_sec]\n",
    "# last_fn = sections_to_filenames[last_sec]\n",
    "# first_idx_among_valid = valid_filenames.index(first_fn)\n",
    "# last_idx_among_valid = valid_filenames.index(last_fn)"
   ]
  },
  {
   "cell_type": "code",
   "execution_count": 32,
   "metadata": {
    "collapsed": true
   },
   "outputs": [],
   "source": [
    "####"
   ]
  },
  {
   "cell_type": "code",
   "execution_count": 9,
   "metadata": {},
   "outputs": [
    {
     "name": "stdout",
     "output_type": "stream",
     "text": [
      "540 1338 106 672\n"
     ]
    }
   ],
   "source": [
    "# stack = 'MD661'\n",
    "stack = 'CHATM2'\n",
    "xmin, xmax, ymin, ymax, _, _ = DataManager.load_cropbox(stack=stack)\n",
    "print xmin, xmax, ymin, ymax"
   ]
  },
  {
   "cell_type": "code",
   "execution_count": 10,
   "metadata": {},
   "outputs": [
    {
     "name": "stdout",
     "output_type": "stream",
     "text": [
      "rm -rf \"/media/yuncong/BstemAtlasData/CSHL_data_processed/CHATM2/CHATM2_prep1_thumbnail_mask\" && mkdir -p \"/media/yuncong/BstemAtlasData/CSHL_data_processed/CHATM2\"\n",
      "0\n",
      "aws s3 cp --recursive \"s3://mousebrainatlas-data/CSHL_data_processed/CHATM2/CHATM2_prep1_thumbnail_mask\" \"/media/yuncong/BstemAtlasData/CSHL_data_processed/CHATM2/CHATM2_prep1_thumbnail_mask\"\n",
      "0\n",
      "rm -rf /media/yuncong/BstemAtlasData/CSHL_data_processed/CHATM2/CHATM2_prep2_thumbnail_mask\n",
      "0\n",
      "mkdir -p /media/yuncong/BstemAtlasData/CSHL_data_processed/CHATM2/CHATM2_prep2_thumbnail_mask\n",
      "0\n"
     ]
    }
   ],
   "source": [
    "input_dir = DataManager.get_thumbnail_mask_dir_v3(stack=stack, prep_id=1)\n",
    "download_from_s3(input_dir, is_dir=True)\n",
    "\n",
    "output_dir = DataManager.get_thumbnail_mask_dir_v3(stack=stack, prep_id=2)\n",
    "\n",
    "execute_command('rm -rf ' + output_dir);\n",
    "execute_command('mkdir -p ' + output_dir);"
   ]
  },
  {
   "cell_type": "code",
   "execution_count": 34,
   "metadata": {
    "collapsed": true
   },
   "outputs": [],
   "source": [
    "# _, sections_to_filenames = DataManager.load_sorted_filenames(stack=stack) \n",
    "# valid_filenames = [fn for fn in sections_to_filenames.values() if not is_invalid(fn=fn)]"
   ]
  },
  {
   "cell_type": "code",
   "execution_count": 11,
   "metadata": {},
   "outputs": [
    {
     "name": "stderr",
     "output_type": "stream",
     "text": [
      "cropping thumbnail mask..."
     ]
    },
    {
     "name": "stdout",
     "output_type": "stream",
     "text": [
      "convert \"/media/yuncong/BstemAtlasData/CSHL_data_processed/CHATM2/CHATM2_prep1_thumbnail_mask/CHATM2_slide14_2018_01_18-S3_prep1_thumbnail_mask.png\" -crop 799x567+540+106 \"/media/yuncong/BstemAtlasData/CSHL_data_processed/CHATM2/CHATM2_prep2_thumbnail_mask/CHATM2_slide14_2018_01_18-S3_prep2_thumbnail_mask.png\"\n",
      "0\n",
      "convert \"/media/yuncong/BstemAtlasData/CSHL_data_processed/CHATM2/CHATM2_prep1_thumbnail_mask/CHATM2_slide15_2018_01_18-S1_prep1_thumbnail_mask.png\" -crop 799x567+540+106 \"/media/yuncong/BstemAtlasData/CSHL_data_processed/CHATM2/CHATM2_prep2_thumbnail_mask/CHATM2_slide15_2018_01_18-S1_prep2_thumbnail_mask.png\"\n",
      "0\n",
      "convert \"/media/yuncong/BstemAtlasData/CSHL_data_processed/CHATM2/CHATM2_prep1_thumbnail_mask/CHATM2_slide15_2018_01_18-S2_prep1_thumbnail_mask.png\" -crop 799x567+540+106 \"/media/yuncong/BstemAtlasData/CSHL_data_processed/CHATM2/CHATM2_prep2_thumbnail_mask/CHATM2_slide15_2018_01_18-S2_prep2_thumbnail_mask.png\"\n",
      "0\n",
      "convert \"/media/yuncong/BstemAtlasData/CSHL_data_processed/CHATM2/CHATM2_prep1_thumbnail_mask/CHATM2_slide15_2018_01_18-S3_prep1_thumbnail_mask.png\" -crop 799x567+540+106 \"/media/yuncong/BstemAtlasData/CSHL_data_processed/CHATM2/CHATM2_prep2_thumbnail_mask/CHATM2_slide15_2018_01_18-S3_prep2_thumbnail_mask.png\"\n",
      "0\n",
      "convert \"/media/yuncong/BstemAtlasData/CSHL_data_processed/CHATM2/CHATM2_prep1_thumbnail_mask/CHATM2_slide16_2018_01_18-S1_prep1_thumbnail_mask.png\" -crop 799x567+540+106 \"/media/yuncong/BstemAtlasData/CSHL_data_processed/CHATM2/CHATM2_prep2_thumbnail_mask/CHATM2_slide16_2018_01_18-S1_prep2_thumbnail_mask.png\"\n",
      "0\n",
      "convert \"/media/yuncong/BstemAtlasData/CSHL_data_processed/CHATM2/CHATM2_prep1_thumbnail_mask/CHATM2_slide16_2018_01_18-S2_prep1_thumbnail_mask.png\" -crop 799x567+540+106 \"/media/yuncong/BstemAtlasData/CSHL_data_processed/CHATM2/CHATM2_prep2_thumbnail_mask/CHATM2_slide16_2018_01_18-S2_prep2_thumbnail_mask.png\"\n",
      "0\n",
      "convert \"/media/yuncong/BstemAtlasData/CSHL_data_processed/CHATM2/CHATM2_prep1_thumbnail_mask/CHATM2_slide16_2018_01_18-S3_prep1_thumbnail_mask.png\" -crop 799x567+540+106 \"/media/yuncong/BstemAtlasData/CSHL_data_processed/CHATM2/CHATM2_prep2_thumbnail_mask/CHATM2_slide16_2018_01_18-S3_prep2_thumbnail_mask.png\"\n",
      "0\n",
      "convert \"/media/yuncong/BstemAtlasData/CSHL_data_processed/CHATM2/CHATM2_prep1_thumbnail_mask/CHATM2_slide17_2018_01_18-S1_prep1_thumbnail_mask.png\" -crop 799x567+540+106 \"/media/yuncong/BstemAtlasData/CSHL_data_processed/CHATM2/CHATM2_prep2_thumbnail_mask/CHATM2_slide17_2018_01_18-S1_prep2_thumbnail_mask.png\"\n",
      "0\n",
      "convert \"/media/yuncong/BstemAtlasData/CSHL_data_processed/CHATM2/CHATM2_prep1_thumbnail_mask/CHATM2_slide17_2018_01_18-S2_prep1_thumbnail_mask.png\" -crop 799x567+540+106 \"/media/yuncong/BstemAtlasData/CSHL_data_processed/CHATM2/CHATM2_prep2_thumbnail_mask/CHATM2_slide17_2018_01_18-S2_prep2_thumbnail_mask.png\"\n",
      "0\n",
      "convert \"/media/yuncong/BstemAtlasData/CSHL_data_processed/CHATM2/CHATM2_prep1_thumbnail_mask/CHATM2_slide17_2018_01_18-S3_prep1_thumbnail_mask.png\" -crop 799x567+540+106 \"/media/yuncong/BstemAtlasData/CSHL_data_processed/CHATM2/CHATM2_prep2_thumbnail_mask/CHATM2_slide17_2018_01_18-S3_prep2_thumbnail_mask.png\"\n",
      "0\n",
      "convert \"/media/yuncong/BstemAtlasData/CSHL_data_processed/CHATM2/CHATM2_prep1_thumbnail_mask/CHATM2_slide18_2018_01_18-S1_prep1_thumbnail_mask.png\" -crop 799x567+540+106 \"/media/yuncong/BstemAtlasData/CSHL_data_processed/CHATM2/CHATM2_prep2_thumbnail_mask/CHATM2_slide18_2018_01_18-S1_prep2_thumbnail_mask.png\"\n",
      "0\n",
      "convert \"/media/yuncong/BstemAtlasData/CSHL_data_processed/CHATM2/CHATM2_prep1_thumbnail_mask/CHATM2_slide18_2018_01_18-S2_prep1_thumbnail_mask.png\" -crop 799x567+540+106 \"/media/yuncong/BstemAtlasData/CSHL_data_processed/CHATM2/CHATM2_prep2_thumbnail_mask/CHATM2_slide18_2018_01_18-S2_prep2_thumbnail_mask.png\"\n",
      "0\n",
      "convert \"/media/yuncong/BstemAtlasData/CSHL_data_processed/CHATM2/CHATM2_prep1_thumbnail_mask/CHATM2_slide18_2018_01_18-S3_prep1_thumbnail_mask.png\" -crop 799x567+540+106 \"/media/yuncong/BstemAtlasData/CSHL_data_processed/CHATM2/CHATM2_prep2_thumbnail_mask/CHATM2_slide18_2018_01_18-S3_prep2_thumbnail_mask.png\"\n",
      "0\n",
      "convert \"/media/yuncong/BstemAtlasData/CSHL_data_processed/CHATM2/CHATM2_prep1_thumbnail_mask/CHATM2_slide19_2018_01_18-S1_prep1_thumbnail_mask.png\" -crop 799x567+540+106 \"/media/yuncong/BstemAtlasData/CSHL_data_processed/CHATM2/CHATM2_prep2_thumbnail_mask/CHATM2_slide19_2018_01_18-S1_prep2_thumbnail_mask.png\"\n",
      "0\n",
      "convert \"/media/yuncong/BstemAtlasData/CSHL_data_processed/CHATM2/CHATM2_prep1_thumbnail_mask/CHATM2_slide19_2018_01_18-S2_prep1_thumbnail_mask.png\" -crop 799x567+540+106 \"/media/yuncong/BstemAtlasData/CSHL_data_processed/CHATM2/CHATM2_prep2_thumbnail_mask/CHATM2_slide19_2018_01_18-S2_prep2_thumbnail_mask.png\"\n",
      "0\n",
      "convert \"/media/yuncong/BstemAtlasData/CSHL_data_processed/CHATM2/CHATM2_prep1_thumbnail_mask/CHATM2_slide19_2018_01_18-S3_prep1_thumbnail_mask.png\" -crop 799x567+540+106 \"/media/yuncong/BstemAtlasData/CSHL_data_processed/CHATM2/CHATM2_prep2_thumbnail_mask/CHATM2_slide19_2018_01_18-S3_prep2_thumbnail_mask.png\"\n",
      "0\n",
      "convert \"/media/yuncong/BstemAtlasData/CSHL_data_processed/CHATM2/CHATM2_prep1_thumbnail_mask/CHATM2_slide20_2018_01_18-S1_prep1_thumbnail_mask.png\" -crop 799x567+540+106 \"/media/yuncong/BstemAtlasData/CSHL_data_processed/CHATM2/CHATM2_prep2_thumbnail_mask/CHATM2_slide20_2018_01_18-S1_prep2_thumbnail_mask.png\"\n",
      "0\n",
      "convert \"/media/yuncong/BstemAtlasData/CSHL_data_processed/CHATM2/CHATM2_prep1_thumbnail_mask/CHATM2_slide20_2018_01_18-S2_prep1_thumbnail_mask.png\" -crop 799x567+540+106 \"/media/yuncong/BstemAtlasData/CSHL_data_processed/CHATM2/CHATM2_prep2_thumbnail_mask/CHATM2_slide20_2018_01_18-S2_prep2_thumbnail_mask.png\"\n",
      "0\n",
      "convert \"/media/yuncong/BstemAtlasData/CSHL_data_processed/CHATM2/CHATM2_prep1_thumbnail_mask/CHATM2_slide20_2018_01_18-S3_prep1_thumbnail_mask.png\" -crop 799x567+540+106 \"/media/yuncong/BstemAtlasData/CSHL_data_processed/CHATM2/CHATM2_prep2_thumbnail_mask/CHATM2_slide20_2018_01_18-S3_prep2_thumbnail_mask.png\"\n",
      "0\n",
      "convert \"/media/yuncong/BstemAtlasData/CSHL_data_processed/CHATM2/CHATM2_prep1_thumbnail_mask/CHATM2_slide21_2018_01_18-S1_prep1_thumbnail_mask.png\" -crop 799x567+540+106 \"/media/yuncong/BstemAtlasData/CSHL_data_processed/CHATM2/CHATM2_prep2_thumbnail_mask/CHATM2_slide21_2018_01_18-S1_prep2_thumbnail_mask.png\"\n",
      "0\n",
      "convert \"/media/yuncong/BstemAtlasData/CSHL_data_processed/CHATM2/CHATM2_prep1_thumbnail_mask/CHATM2_slide21_2018_01_18-S2_prep1_thumbnail_mask.png\" -crop 799x567+540+106 \"/media/yuncong/BstemAtlasData/CSHL_data_processed/CHATM2/CHATM2_prep2_thumbnail_mask/CHATM2_slide21_2018_01_18-S2_prep2_thumbnail_mask.png\"\n",
      "0\n",
      "convert \"/media/yuncong/BstemAtlasData/CSHL_data_processed/CHATM2/CHATM2_prep1_thumbnail_mask/CHATM2_slide21_2018_01_18-S3_prep1_thumbnail_mask.png\" -crop 799x567+540+106 \"/media/yuncong/BstemAtlasData/CSHL_data_processed/CHATM2/CHATM2_prep2_thumbnail_mask/CHATM2_slide21_2018_01_18-S3_prep2_thumbnail_mask.png\"\n",
      "0\n",
      "convert \"/media/yuncong/BstemAtlasData/CSHL_data_processed/CHATM2/CHATM2_prep1_thumbnail_mask/CHATM2_slide22_2018_01_19-S1_prep1_thumbnail_mask.png\" -crop 799x567+540+106 \"/media/yuncong/BstemAtlasData/CSHL_data_processed/CHATM2/CHATM2_prep2_thumbnail_mask/CHATM2_slide22_2018_01_19-S1_prep2_thumbnail_mask.png\"\n",
      "0\n",
      "convert \"/media/yuncong/BstemAtlasData/CSHL_data_processed/CHATM2/CHATM2_prep1_thumbnail_mask/CHATM2_slide22_2018_01_19-S2_prep1_thumbnail_mask.png\" -crop 799x567+540+106 \"/media/yuncong/BstemAtlasData/CSHL_data_processed/CHATM2/CHATM2_prep2_thumbnail_mask/CHATM2_slide22_2018_01_19-S2_prep2_thumbnail_mask.png\"\n",
      "0\n",
      "convert \"/media/yuncong/BstemAtlasData/CSHL_data_processed/CHATM2/CHATM2_prep1_thumbnail_mask/CHATM2_slide22_2018_01_19-S3_prep1_thumbnail_mask.png\" -crop 799x567+540+106 \"/media/yuncong/BstemAtlasData/CSHL_data_processed/CHATM2/CHATM2_prep2_thumbnail_mask/CHATM2_slide22_2018_01_19-S3_prep2_thumbnail_mask.png\"\n",
      "0\n",
      "convert \"/media/yuncong/BstemAtlasData/CSHL_data_processed/CHATM2/CHATM2_prep1_thumbnail_mask/CHATM2_slide23_2018_01_18-S1_prep1_thumbnail_mask.png\" -crop 799x567+540+106 \"/media/yuncong/BstemAtlasData/CSHL_data_processed/CHATM2/CHATM2_prep2_thumbnail_mask/CHATM2_slide23_2018_01_18-S1_prep2_thumbnail_mask.png\"\n",
      "0\n",
      "convert \"/media/yuncong/BstemAtlasData/CSHL_data_processed/CHATM2/CHATM2_prep1_thumbnail_mask/CHATM2_slide23_2018_01_18-S2_prep1_thumbnail_mask.png\" -crop 799x567+540+106 \"/media/yuncong/BstemAtlasData/CSHL_data_processed/CHATM2/CHATM2_prep2_thumbnail_mask/CHATM2_slide23_2018_01_18-S2_prep2_thumbnail_mask.png\"\n"
     ]
    },
    {
     "name": "stdout",
     "output_type": "stream",
     "text": [
      "0\n",
      "convert \"/media/yuncong/BstemAtlasData/CSHL_data_processed/CHATM2/CHATM2_prep1_thumbnail_mask/CHATM2_slide23_2018_01_18-S3_prep1_thumbnail_mask.png\" -crop 799x567+540+106 \"/media/yuncong/BstemAtlasData/CSHL_data_processed/CHATM2/CHATM2_prep2_thumbnail_mask/CHATM2_slide23_2018_01_18-S3_prep2_thumbnail_mask.png\"\n",
      "0\n",
      "convert \"/media/yuncong/BstemAtlasData/CSHL_data_processed/CHATM2/CHATM2_prep1_thumbnail_mask/CHATM2_slide24_2018_01_18-S1_prep1_thumbnail_mask.png\" -crop 799x567+540+106 \"/media/yuncong/BstemAtlasData/CSHL_data_processed/CHATM2/CHATM2_prep2_thumbnail_mask/CHATM2_slide24_2018_01_18-S1_prep2_thumbnail_mask.png\"\n",
      "0\n",
      "convert \"/media/yuncong/BstemAtlasData/CSHL_data_processed/CHATM2/CHATM2_prep1_thumbnail_mask/CHATM2_slide24_2018_01_18-S2_prep1_thumbnail_mask.png\" -crop 799x567+540+106 \"/media/yuncong/BstemAtlasData/CSHL_data_processed/CHATM2/CHATM2_prep2_thumbnail_mask/CHATM2_slide24_2018_01_18-S2_prep2_thumbnail_mask.png\"\n",
      "0\n",
      "convert \"/media/yuncong/BstemAtlasData/CSHL_data_processed/CHATM2/CHATM2_prep1_thumbnail_mask/CHATM2_slide24_2018_01_18-S3_prep1_thumbnail_mask.png\" -crop 799x567+540+106 \"/media/yuncong/BstemAtlasData/CSHL_data_processed/CHATM2/CHATM2_prep2_thumbnail_mask/CHATM2_slide24_2018_01_18-S3_prep2_thumbnail_mask.png\"\n",
      "0\n",
      "convert \"/media/yuncong/BstemAtlasData/CSHL_data_processed/CHATM2/CHATM2_prep1_thumbnail_mask/CHATM2_slide25_2018_01_18-S1_prep1_thumbnail_mask.png\" -crop 799x567+540+106 \"/media/yuncong/BstemAtlasData/CSHL_data_processed/CHATM2/CHATM2_prep2_thumbnail_mask/CHATM2_slide25_2018_01_18-S1_prep2_thumbnail_mask.png\"\n",
      "0\n",
      "convert \"/media/yuncong/BstemAtlasData/CSHL_data_processed/CHATM2/CHATM2_prep1_thumbnail_mask/CHATM2_slide25_2018_01_18-S2_prep1_thumbnail_mask.png\" -crop 799x567+540+106 \"/media/yuncong/BstemAtlasData/CSHL_data_processed/CHATM2/CHATM2_prep2_thumbnail_mask/CHATM2_slide25_2018_01_18-S2_prep2_thumbnail_mask.png\"\n",
      "0\n",
      "convert \"/media/yuncong/BstemAtlasData/CSHL_data_processed/CHATM2/CHATM2_prep1_thumbnail_mask/CHATM2_slide25_2018_01_18-S3_prep1_thumbnail_mask.png\" -crop 799x567+540+106 \"/media/yuncong/BstemAtlasData/CSHL_data_processed/CHATM2/CHATM2_prep2_thumbnail_mask/CHATM2_slide25_2018_01_18-S3_prep2_thumbnail_mask.png\"\n",
      "0\n",
      "convert \"/media/yuncong/BstemAtlasData/CSHL_data_processed/CHATM2/CHATM2_prep1_thumbnail_mask/CHATM2_slide26_2018_01_18-S1_prep1_thumbnail_mask.png\" -crop 799x567+540+106 \"/media/yuncong/BstemAtlasData/CSHL_data_processed/CHATM2/CHATM2_prep2_thumbnail_mask/CHATM2_slide26_2018_01_18-S1_prep2_thumbnail_mask.png\"\n",
      "0\n",
      "convert \"/media/yuncong/BstemAtlasData/CSHL_data_processed/CHATM2/CHATM2_prep1_thumbnail_mask/CHATM2_slide26_2018_01_18-S2_prep1_thumbnail_mask.png\" -crop 799x567+540+106 \"/media/yuncong/BstemAtlasData/CSHL_data_processed/CHATM2/CHATM2_prep2_thumbnail_mask/CHATM2_slide26_2018_01_18-S2_prep2_thumbnail_mask.png\"\n",
      "0\n",
      "convert \"/media/yuncong/BstemAtlasData/CSHL_data_processed/CHATM2/CHATM2_prep1_thumbnail_mask/CHATM2_slide26_2018_01_18-S3_prep1_thumbnail_mask.png\" -crop 799x567+540+106 \"/media/yuncong/BstemAtlasData/CSHL_data_processed/CHATM2/CHATM2_prep2_thumbnail_mask/CHATM2_slide26_2018_01_18-S3_prep2_thumbnail_mask.png\"\n",
      "0\n",
      "convert \"/media/yuncong/BstemAtlasData/CSHL_data_processed/CHATM2/CHATM2_prep1_thumbnail_mask/CHATM2_slide27_2018_01_18-S1_prep1_thumbnail_mask.png\" -crop 799x567+540+106 \"/media/yuncong/BstemAtlasData/CSHL_data_processed/CHATM2/CHATM2_prep2_thumbnail_mask/CHATM2_slide27_2018_01_18-S1_prep2_thumbnail_mask.png\"\n",
      "0\n",
      "convert \"/media/yuncong/BstemAtlasData/CSHL_data_processed/CHATM2/CHATM2_prep1_thumbnail_mask/CHATM2_slide27_2018_01_18-S2_prep1_thumbnail_mask.png\" -crop 799x567+540+106 \"/media/yuncong/BstemAtlasData/CSHL_data_processed/CHATM2/CHATM2_prep2_thumbnail_mask/CHATM2_slide27_2018_01_18-S2_prep2_thumbnail_mask.png\"\n",
      "0\n",
      "convert \"/media/yuncong/BstemAtlasData/CSHL_data_processed/CHATM2/CHATM2_prep1_thumbnail_mask/CHATM2_slide27_2018_01_18-S3_prep1_thumbnail_mask.png\" -crop 799x567+540+106 \"/media/yuncong/BstemAtlasData/CSHL_data_processed/CHATM2/CHATM2_prep2_thumbnail_mask/CHATM2_slide27_2018_01_18-S3_prep2_thumbnail_mask.png\"\n",
      "0\n",
      "convert \"/media/yuncong/BstemAtlasData/CSHL_data_processed/CHATM2/CHATM2_prep1_thumbnail_mask/CHATM2_slide28_2018_01_18-S1_prep1_thumbnail_mask.png\" -crop 799x567+540+106 \"/media/yuncong/BstemAtlasData/CSHL_data_processed/CHATM2/CHATM2_prep2_thumbnail_mask/CHATM2_slide28_2018_01_18-S1_prep2_thumbnail_mask.png\"\n",
      "0\n",
      "convert \"/media/yuncong/BstemAtlasData/CSHL_data_processed/CHATM2/CHATM2_prep1_thumbnail_mask/CHATM2_slide28_2018_01_18-S2_prep1_thumbnail_mask.png\" -crop 799x567+540+106 \"/media/yuncong/BstemAtlasData/CSHL_data_processed/CHATM2/CHATM2_prep2_thumbnail_mask/CHATM2_slide28_2018_01_18-S2_prep2_thumbnail_mask.png\"\n",
      "0\n",
      "convert \"/media/yuncong/BstemAtlasData/CSHL_data_processed/CHATM2/CHATM2_prep1_thumbnail_mask/CHATM2_slide28_2018_01_18-S3_prep1_thumbnail_mask.png\" -crop 799x567+540+106 \"/media/yuncong/BstemAtlasData/CSHL_data_processed/CHATM2/CHATM2_prep2_thumbnail_mask/CHATM2_slide28_2018_01_18-S3_prep2_thumbnail_mask.png\"\n",
      "0\n",
      "convert \"/media/yuncong/BstemAtlasData/CSHL_data_processed/CHATM2/CHATM2_prep1_thumbnail_mask/CHATM2_slide29_2018_01_18-S1_prep1_thumbnail_mask.png\" -crop 799x567+540+106 \"/media/yuncong/BstemAtlasData/CSHL_data_processed/CHATM2/CHATM2_prep2_thumbnail_mask/CHATM2_slide29_2018_01_18-S1_prep2_thumbnail_mask.png\"\n",
      "0\n",
      "convert \"/media/yuncong/BstemAtlasData/CSHL_data_processed/CHATM2/CHATM2_prep1_thumbnail_mask/CHATM2_slide29_2018_01_18-S2_prep1_thumbnail_mask.png\" -crop 799x567+540+106 \"/media/yuncong/BstemAtlasData/CSHL_data_processed/CHATM2/CHATM2_prep2_thumbnail_mask/CHATM2_slide29_2018_01_18-S2_prep2_thumbnail_mask.png\"\n",
      "0\n",
      "convert \"/media/yuncong/BstemAtlasData/CSHL_data_processed/CHATM2/CHATM2_prep1_thumbnail_mask/CHATM2_slide29_2018_01_18-S3_prep1_thumbnail_mask.png\" -crop 799x567+540+106 \"/media/yuncong/BstemAtlasData/CSHL_data_processed/CHATM2/CHATM2_prep2_thumbnail_mask/CHATM2_slide29_2018_01_18-S3_prep2_thumbnail_mask.png\"\n",
      "0\n",
      "convert \"/media/yuncong/BstemAtlasData/CSHL_data_processed/CHATM2/CHATM2_prep1_thumbnail_mask/CHATM2_slide30_2018_01_18-S1_prep1_thumbnail_mask.png\" -crop 799x567+540+106 \"/media/yuncong/BstemAtlasData/CSHL_data_processed/CHATM2/CHATM2_prep2_thumbnail_mask/CHATM2_slide30_2018_01_18-S1_prep2_thumbnail_mask.png\"\n",
      "0\n",
      "convert \"/media/yuncong/BstemAtlasData/CSHL_data_processed/CHATM2/CHATM2_prep1_thumbnail_mask/CHATM2_slide30_2018_01_18-S2_prep1_thumbnail_mask.png\" -crop 799x567+540+106 \"/media/yuncong/BstemAtlasData/CSHL_data_processed/CHATM2/CHATM2_prep2_thumbnail_mask/CHATM2_slide30_2018_01_18-S2_prep2_thumbnail_mask.png\"\n",
      "0\n",
      "convert \"/media/yuncong/BstemAtlasData/CSHL_data_processed/CHATM2/CHATM2_prep1_thumbnail_mask/CHATM2_slide30_2018_01_18-S3_prep1_thumbnail_mask.png\" -crop 799x567+540+106 \"/media/yuncong/BstemAtlasData/CSHL_data_processed/CHATM2/CHATM2_prep2_thumbnail_mask/CHATM2_slide30_2018_01_18-S3_prep2_thumbnail_mask.png\"\n",
      "0\n",
      "convert \"/media/yuncong/BstemAtlasData/CSHL_data_processed/CHATM2/CHATM2_prep1_thumbnail_mask/CHATM2_slide31_2018_01_19-S1_prep1_thumbnail_mask.png\" -crop 799x567+540+106 \"/media/yuncong/BstemAtlasData/CSHL_data_processed/CHATM2/CHATM2_prep2_thumbnail_mask/CHATM2_slide31_2018_01_19-S1_prep2_thumbnail_mask.png\"\n",
      "0\n",
      "convert \"/media/yuncong/BstemAtlasData/CSHL_data_processed/CHATM2/CHATM2_prep1_thumbnail_mask/CHATM2_slide31_2018_01_19-S2_prep1_thumbnail_mask.png\" -crop 799x567+540+106 \"/media/yuncong/BstemAtlasData/CSHL_data_processed/CHATM2/CHATM2_prep2_thumbnail_mask/CHATM2_slide31_2018_01_19-S2_prep2_thumbnail_mask.png\"\n",
      "0\n",
      "convert \"/media/yuncong/BstemAtlasData/CSHL_data_processed/CHATM2/CHATM2_prep1_thumbnail_mask/CHATM2_slide31_2018_01_19-S3_prep1_thumbnail_mask.png\" -crop 799x567+540+106 \"/media/yuncong/BstemAtlasData/CSHL_data_processed/CHATM2/CHATM2_prep2_thumbnail_mask/CHATM2_slide31_2018_01_19-S3_prep2_thumbnail_mask.png\"\n",
      "0\n",
      "convert \"/media/yuncong/BstemAtlasData/CSHL_data_processed/CHATM2/CHATM2_prep1_thumbnail_mask/CHATM2_slide32_2018_01_20-S1_prep1_thumbnail_mask.png\" -crop 799x567+540+106 \"/media/yuncong/BstemAtlasData/CSHL_data_processed/CHATM2/CHATM2_prep2_thumbnail_mask/CHATM2_slide32_2018_01_20-S1_prep2_thumbnail_mask.png\"\n",
      "0\n",
      "convert \"/media/yuncong/BstemAtlasData/CSHL_data_processed/CHATM2/CHATM2_prep1_thumbnail_mask/CHATM2_slide32_2018_01_20-S2_prep1_thumbnail_mask.png\" -crop 799x567+540+106 \"/media/yuncong/BstemAtlasData/CSHL_data_processed/CHATM2/CHATM2_prep2_thumbnail_mask/CHATM2_slide32_2018_01_20-S2_prep2_thumbnail_mask.png\"\n"
     ]
    },
    {
     "name": "stdout",
     "output_type": "stream",
     "text": [
      "0\n",
      "convert \"/media/yuncong/BstemAtlasData/CSHL_data_processed/CHATM2/CHATM2_prep1_thumbnail_mask/CHATM2_slide32_2018_01_20-S3_prep1_thumbnail_mask.png\" -crop 799x567+540+106 \"/media/yuncong/BstemAtlasData/CSHL_data_processed/CHATM2/CHATM2_prep2_thumbnail_mask/CHATM2_slide32_2018_01_20-S3_prep2_thumbnail_mask.png\"\n",
      "0\n",
      "convert \"/media/yuncong/BstemAtlasData/CSHL_data_processed/CHATM2/CHATM2_prep1_thumbnail_mask/CHATM2_slide33_2018_01_20-S1_prep1_thumbnail_mask.png\" -crop 799x567+540+106 \"/media/yuncong/BstemAtlasData/CSHL_data_processed/CHATM2/CHATM2_prep2_thumbnail_mask/CHATM2_slide33_2018_01_20-S1_prep2_thumbnail_mask.png\"\n",
      "0\n",
      "convert \"/media/yuncong/BstemAtlasData/CSHL_data_processed/CHATM2/CHATM2_prep1_thumbnail_mask/CHATM2_slide33_2018_01_20-S2_prep1_thumbnail_mask.png\" -crop 799x567+540+106 \"/media/yuncong/BstemAtlasData/CSHL_data_processed/CHATM2/CHATM2_prep2_thumbnail_mask/CHATM2_slide33_2018_01_20-S2_prep2_thumbnail_mask.png\"\n",
      "0\n",
      "convert \"/media/yuncong/BstemAtlasData/CSHL_data_processed/CHATM2/CHATM2_prep1_thumbnail_mask/CHATM2_slide33_2018_01_20-S3_prep1_thumbnail_mask.png\" -crop 799x567+540+106 \"/media/yuncong/BstemAtlasData/CSHL_data_processed/CHATM2/CHATM2_prep2_thumbnail_mask/CHATM2_slide33_2018_01_20-S3_prep2_thumbnail_mask.png\"\n",
      "0\n",
      "convert \"/media/yuncong/BstemAtlasData/CSHL_data_processed/CHATM2/CHATM2_prep1_thumbnail_mask/CHATM2_slide34_2018_01_20-S1_prep1_thumbnail_mask.png\" -crop 799x567+540+106 \"/media/yuncong/BstemAtlasData/CSHL_data_processed/CHATM2/CHATM2_prep2_thumbnail_mask/CHATM2_slide34_2018_01_20-S1_prep2_thumbnail_mask.png\"\n",
      "0\n",
      "convert \"/media/yuncong/BstemAtlasData/CSHL_data_processed/CHATM2/CHATM2_prep1_thumbnail_mask/CHATM2_slide34_2018_01_20-S2_prep1_thumbnail_mask.png\" -crop 799x567+540+106 \"/media/yuncong/BstemAtlasData/CSHL_data_processed/CHATM2/CHATM2_prep2_thumbnail_mask/CHATM2_slide34_2018_01_20-S2_prep2_thumbnail_mask.png\"\n",
      "0\n",
      "convert \"/media/yuncong/BstemAtlasData/CSHL_data_processed/CHATM2/CHATM2_prep1_thumbnail_mask/CHATM2_slide34_2018_01_20-S3_prep1_thumbnail_mask.png\" -crop 799x567+540+106 \"/media/yuncong/BstemAtlasData/CSHL_data_processed/CHATM2/CHATM2_prep2_thumbnail_mask/CHATM2_slide34_2018_01_20-S3_prep2_thumbnail_mask.png\"\n",
      "0\n",
      "convert \"/media/yuncong/BstemAtlasData/CSHL_data_processed/CHATM2/CHATM2_prep1_thumbnail_mask/CHATM2_slide35_2018_01_20-S1_prep1_thumbnail_mask.png\" -crop 799x567+540+106 \"/media/yuncong/BstemAtlasData/CSHL_data_processed/CHATM2/CHATM2_prep2_thumbnail_mask/CHATM2_slide35_2018_01_20-S1_prep2_thumbnail_mask.png\"\n",
      "0\n",
      "convert \"/media/yuncong/BstemAtlasData/CSHL_data_processed/CHATM2/CHATM2_prep1_thumbnail_mask/CHATM2_slide35_2018_01_20-S2_prep1_thumbnail_mask.png\" -crop 799x567+540+106 \"/media/yuncong/BstemAtlasData/CSHL_data_processed/CHATM2/CHATM2_prep2_thumbnail_mask/CHATM2_slide35_2018_01_20-S2_prep2_thumbnail_mask.png\"\n",
      "0\n",
      "convert \"/media/yuncong/BstemAtlasData/CSHL_data_processed/CHATM2/CHATM2_prep1_thumbnail_mask/CHATM2_slide36_2018_01_22-S1_prep1_thumbnail_mask.png\" -crop 799x567+540+106 \"/media/yuncong/BstemAtlasData/CSHL_data_processed/CHATM2/CHATM2_prep2_thumbnail_mask/CHATM2_slide36_2018_01_22-S1_prep2_thumbnail_mask.png\"\n",
      "0\n",
      "convert \"/media/yuncong/BstemAtlasData/CSHL_data_processed/CHATM2/CHATM2_prep1_thumbnail_mask/CHATM2_slide36_2018_01_22-S2_prep1_thumbnail_mask.png\" -crop 799x567+540+106 \"/media/yuncong/BstemAtlasData/CSHL_data_processed/CHATM2/CHATM2_prep2_thumbnail_mask/CHATM2_slide36_2018_01_22-S2_prep2_thumbnail_mask.png\"\n",
      "0\n",
      "convert \"/media/yuncong/BstemAtlasData/CSHL_data_processed/CHATM2/CHATM2_prep1_thumbnail_mask/CHATM2_slide36_2018_01_22-S3_prep1_thumbnail_mask.png\" -crop 799x567+540+106 \"/media/yuncong/BstemAtlasData/CSHL_data_processed/CHATM2/CHATM2_prep2_thumbnail_mask/CHATM2_slide36_2018_01_22-S3_prep2_thumbnail_mask.png\"\n",
      "0\n",
      "convert \"/media/yuncong/BstemAtlasData/CSHL_data_processed/CHATM2/CHATM2_prep1_thumbnail_mask/CHATM2_slide37_2018_01_22-S1_prep1_thumbnail_mask.png\" -crop 799x567+540+106 \"/media/yuncong/BstemAtlasData/CSHL_data_processed/CHATM2/CHATM2_prep2_thumbnail_mask/CHATM2_slide37_2018_01_22-S1_prep2_thumbnail_mask.png\"\n",
      "0\n",
      "convert \"/media/yuncong/BstemAtlasData/CSHL_data_processed/CHATM2/CHATM2_prep1_thumbnail_mask/CHATM2_slide37_2018_01_22-S2_prep1_thumbnail_mask.png\" -crop 799x567+540+106 \"/media/yuncong/BstemAtlasData/CSHL_data_processed/CHATM2/CHATM2_prep2_thumbnail_mask/CHATM2_slide37_2018_01_22-S2_prep2_thumbnail_mask.png\"\n",
      "0\n",
      "convert \"/media/yuncong/BstemAtlasData/CSHL_data_processed/CHATM2/CHATM2_prep1_thumbnail_mask/CHATM2_slide37_2018_01_22-S3_prep1_thumbnail_mask.png\" -crop 799x567+540+106 \"/media/yuncong/BstemAtlasData/CSHL_data_processed/CHATM2/CHATM2_prep2_thumbnail_mask/CHATM2_slide37_2018_01_22-S3_prep2_thumbnail_mask.png\"\n",
      "0\n",
      "convert \"/media/yuncong/BstemAtlasData/CSHL_data_processed/CHATM2/CHATM2_prep1_thumbnail_mask/CHATM2_slide38_2018_01_22-S1_prep1_thumbnail_mask.png\" -crop 799x567+540+106 \"/media/yuncong/BstemAtlasData/CSHL_data_processed/CHATM2/CHATM2_prep2_thumbnail_mask/CHATM2_slide38_2018_01_22-S1_prep2_thumbnail_mask.png\"\n",
      "0\n",
      "convert \"/media/yuncong/BstemAtlasData/CSHL_data_processed/CHATM2/CHATM2_prep1_thumbnail_mask/CHATM2_slide38_2018_01_22-S2_prep1_thumbnail_mask.png\" -crop 799x567+540+106 \"/media/yuncong/BstemAtlasData/CSHL_data_processed/CHATM2/CHATM2_prep2_thumbnail_mask/CHATM2_slide38_2018_01_22-S2_prep2_thumbnail_mask.png\"\n",
      "0\n",
      "convert \"/media/yuncong/BstemAtlasData/CSHL_data_processed/CHATM2/CHATM2_prep1_thumbnail_mask/CHATM2_slide38_2018_01_22-S3_prep1_thumbnail_mask.png\" -crop 799x567+540+106 \"/media/yuncong/BstemAtlasData/CSHL_data_processed/CHATM2/CHATM2_prep2_thumbnail_mask/CHATM2_slide38_2018_01_22-S3_prep2_thumbnail_mask.png\"\n",
      "0\n",
      "convert \"/media/yuncong/BstemAtlasData/CSHL_data_processed/CHATM2/CHATM2_prep1_thumbnail_mask/CHATM2_slide39_2018_01_22-S1_prep1_thumbnail_mask.png\" -crop 799x567+540+106 \"/media/yuncong/BstemAtlasData/CSHL_data_processed/CHATM2/CHATM2_prep2_thumbnail_mask/CHATM2_slide39_2018_01_22-S1_prep2_thumbnail_mask.png\"\n",
      "0\n",
      "convert \"/media/yuncong/BstemAtlasData/CSHL_data_processed/CHATM2/CHATM2_prep1_thumbnail_mask/CHATM2_slide39_2018_01_22-S2_prep1_thumbnail_mask.png\" -crop 799x567+540+106 \"/media/yuncong/BstemAtlasData/CSHL_data_processed/CHATM2/CHATM2_prep2_thumbnail_mask/CHATM2_slide39_2018_01_22-S2_prep2_thumbnail_mask.png\"\n",
      "0\n",
      "convert \"/media/yuncong/BstemAtlasData/CSHL_data_processed/CHATM2/CHATM2_prep1_thumbnail_mask/CHATM2_slide39_2018_01_22-S3_prep1_thumbnail_mask.png\" -crop 799x567+540+106 \"/media/yuncong/BstemAtlasData/CSHL_data_processed/CHATM2/CHATM2_prep2_thumbnail_mask/CHATM2_slide39_2018_01_22-S3_prep2_thumbnail_mask.png\"\n",
      "0\n",
      "convert \"/media/yuncong/BstemAtlasData/CSHL_data_processed/CHATM2/CHATM2_prep1_thumbnail_mask/CHATM2_slide41_2018_01_22-S1_prep1_thumbnail_mask.png\" -crop 799x567+540+106 \"/media/yuncong/BstemAtlasData/CSHL_data_processed/CHATM2/CHATM2_prep2_thumbnail_mask/CHATM2_slide41_2018_01_22-S1_prep2_thumbnail_mask.png\"\n",
      "0\n",
      "convert \"/media/yuncong/BstemAtlasData/CSHL_data_processed/CHATM2/CHATM2_prep1_thumbnail_mask/CHATM2_slide41_2018_01_22-S2_prep1_thumbnail_mask.png\" -crop 799x567+540+106 \"/media/yuncong/BstemAtlasData/CSHL_data_processed/CHATM2/CHATM2_prep2_thumbnail_mask/CHATM2_slide41_2018_01_22-S2_prep2_thumbnail_mask.png\"\n",
      "0\n",
      "convert \"/media/yuncong/BstemAtlasData/CSHL_data_processed/CHATM2/CHATM2_prep1_thumbnail_mask/CHATM2_slide41_2018_01_22-S3_prep1_thumbnail_mask.png\" -crop 799x567+540+106 \"/media/yuncong/BstemAtlasData/CSHL_data_processed/CHATM2/CHATM2_prep2_thumbnail_mask/CHATM2_slide41_2018_01_22-S3_prep2_thumbnail_mask.png\"\n",
      "0\n",
      "convert \"/media/yuncong/BstemAtlasData/CSHL_data_processed/CHATM2/CHATM2_prep1_thumbnail_mask/CHATM2_slide42_2018_01_22-S1_prep1_thumbnail_mask.png\" -crop 799x567+540+106 \"/media/yuncong/BstemAtlasData/CSHL_data_processed/CHATM2/CHATM2_prep2_thumbnail_mask/CHATM2_slide42_2018_01_22-S1_prep2_thumbnail_mask.png\"\n",
      "0\n",
      "convert \"/media/yuncong/BstemAtlasData/CSHL_data_processed/CHATM2/CHATM2_prep1_thumbnail_mask/CHATM2_slide42_2018_01_22-S2_prep1_thumbnail_mask.png\" -crop 799x567+540+106 \"/media/yuncong/BstemAtlasData/CSHL_data_processed/CHATM2/CHATM2_prep2_thumbnail_mask/CHATM2_slide42_2018_01_22-S2_prep2_thumbnail_mask.png\"\n",
      "0\n",
      "convert \"/media/yuncong/BstemAtlasData/CSHL_data_processed/CHATM2/CHATM2_prep1_thumbnail_mask/CHATM2_slide42_2018_01_22-S3_prep1_thumbnail_mask.png\" -crop 799x567+540+106 \"/media/yuncong/BstemAtlasData/CSHL_data_processed/CHATM2/CHATM2_prep2_thumbnail_mask/CHATM2_slide42_2018_01_22-S3_prep2_thumbnail_mask.png\"\n"
     ]
    },
    {
     "name": "stdout",
     "output_type": "stream",
     "text": [
      "0\n",
      "convert \"/media/yuncong/BstemAtlasData/CSHL_data_processed/CHATM2/CHATM2_prep1_thumbnail_mask/CHATM2_slide43_2018_01_22-S1_prep1_thumbnail_mask.png\" -crop 799x567+540+106 \"/media/yuncong/BstemAtlasData/CSHL_data_processed/CHATM2/CHATM2_prep2_thumbnail_mask/CHATM2_slide43_2018_01_22-S1_prep2_thumbnail_mask.png\"\n",
      "0\n",
      "convert \"/media/yuncong/BstemAtlasData/CSHL_data_processed/CHATM2/CHATM2_prep1_thumbnail_mask/CHATM2_slide43_2018_01_22-S2_prep1_thumbnail_mask.png\" -crop 799x567+540+106 \"/media/yuncong/BstemAtlasData/CSHL_data_processed/CHATM2/CHATM2_prep2_thumbnail_mask/CHATM2_slide43_2018_01_22-S2_prep2_thumbnail_mask.png\"\n",
      "0\n",
      "convert \"/media/yuncong/BstemAtlasData/CSHL_data_processed/CHATM2/CHATM2_prep1_thumbnail_mask/CHATM2_slide43_2018_01_22-S3_prep1_thumbnail_mask.png\" -crop 799x567+540+106 \"/media/yuncong/BstemAtlasData/CSHL_data_processed/CHATM2/CHATM2_prep2_thumbnail_mask/CHATM2_slide43_2018_01_22-S3_prep2_thumbnail_mask.png\"\n",
      "0\n",
      "convert \"/media/yuncong/BstemAtlasData/CSHL_data_processed/CHATM2/CHATM2_prep1_thumbnail_mask/CHATM2_slide44_2018_01_22-S1_prep1_thumbnail_mask.png\" -crop 799x567+540+106 \"/media/yuncong/BstemAtlasData/CSHL_data_processed/CHATM2/CHATM2_prep2_thumbnail_mask/CHATM2_slide44_2018_01_22-S1_prep2_thumbnail_mask.png\"\n",
      "0\n",
      "convert \"/media/yuncong/BstemAtlasData/CSHL_data_processed/CHATM2/CHATM2_prep1_thumbnail_mask/CHATM2_slide44_2018_01_22-S2_prep1_thumbnail_mask.png\" -crop 799x567+540+106 \"/media/yuncong/BstemAtlasData/CSHL_data_processed/CHATM2/CHATM2_prep2_thumbnail_mask/CHATM2_slide44_2018_01_22-S2_prep2_thumbnail_mask.png\"\n",
      "0\n",
      "convert \"/media/yuncong/BstemAtlasData/CSHL_data_processed/CHATM2/CHATM2_prep1_thumbnail_mask/CHATM2_slide44_2018_01_22-S3_prep1_thumbnail_mask.png\" -crop 799x567+540+106 \"/media/yuncong/BstemAtlasData/CSHL_data_processed/CHATM2/CHATM2_prep2_thumbnail_mask/CHATM2_slide44_2018_01_22-S3_prep2_thumbnail_mask.png\"\n",
      "0\n",
      "convert \"/media/yuncong/BstemAtlasData/CSHL_data_processed/CHATM2/CHATM2_prep1_thumbnail_mask/CHATM2_slide45_2018_01_22-S1_prep1_thumbnail_mask.png\" -crop 799x567+540+106 \"/media/yuncong/BstemAtlasData/CSHL_data_processed/CHATM2/CHATM2_prep2_thumbnail_mask/CHATM2_slide45_2018_01_22-S1_prep2_thumbnail_mask.png\"\n",
      "0\n",
      "convert \"/media/yuncong/BstemAtlasData/CSHL_data_processed/CHATM2/CHATM2_prep1_thumbnail_mask/CHATM2_slide45_2018_01_22-S2_prep1_thumbnail_mask.png\" -crop 799x567+540+106 \"/media/yuncong/BstemAtlasData/CSHL_data_processed/CHATM2/CHATM2_prep2_thumbnail_mask/CHATM2_slide45_2018_01_22-S2_prep2_thumbnail_mask.png\"\n",
      "0\n",
      "convert \"/media/yuncong/BstemAtlasData/CSHL_data_processed/CHATM2/CHATM2_prep1_thumbnail_mask/CHATM2_slide45_2018_01_22-S3_prep1_thumbnail_mask.png\" -crop 799x567+540+106 \"/media/yuncong/BstemAtlasData/CSHL_data_processed/CHATM2/CHATM2_prep2_thumbnail_mask/CHATM2_slide45_2018_01_22-S3_prep2_thumbnail_mask.png\"\n",
      "0\n",
      "convert \"/media/yuncong/BstemAtlasData/CSHL_data_processed/CHATM2/CHATM2_prep1_thumbnail_mask/CHATM2_slide46_2018_01_22-S1_prep1_thumbnail_mask.png\" -crop 799x567+540+106 \"/media/yuncong/BstemAtlasData/CSHL_data_processed/CHATM2/CHATM2_prep2_thumbnail_mask/CHATM2_slide46_2018_01_22-S1_prep2_thumbnail_mask.png\"\n",
      "0\n",
      "convert \"/media/yuncong/BstemAtlasData/CSHL_data_processed/CHATM2/CHATM2_prep1_thumbnail_mask/CHATM2_slide46_2018_01_22-S2_prep1_thumbnail_mask.png\" -crop 799x567+540+106 \"/media/yuncong/BstemAtlasData/CSHL_data_processed/CHATM2/CHATM2_prep2_thumbnail_mask/CHATM2_slide46_2018_01_22-S2_prep2_thumbnail_mask.png\"\n",
      "0\n",
      "convert \"/media/yuncong/BstemAtlasData/CSHL_data_processed/CHATM2/CHATM2_prep1_thumbnail_mask/CHATM2_slide46_2018_01_22-S3_prep1_thumbnail_mask.png\" -crop 799x567+540+106 \"/media/yuncong/BstemAtlasData/CSHL_data_processed/CHATM2/CHATM2_prep2_thumbnail_mask/CHATM2_slide46_2018_01_22-S3_prep2_thumbnail_mask.png\"\n",
      "0\n",
      "convert \"/media/yuncong/BstemAtlasData/CSHL_data_processed/CHATM2/CHATM2_prep1_thumbnail_mask/CHATM2_slide48_2018_01_22-S1_prep1_thumbnail_mask.png\" -crop 799x567+540+106 \"/media/yuncong/BstemAtlasData/CSHL_data_processed/CHATM2/CHATM2_prep2_thumbnail_mask/CHATM2_slide48_2018_01_22-S1_prep2_thumbnail_mask.png\"\n",
      "0\n",
      "convert \"/media/yuncong/BstemAtlasData/CSHL_data_processed/CHATM2/CHATM2_prep1_thumbnail_mask/CHATM2_slide48_2018_01_22-S2_prep1_thumbnail_mask.png\" -crop 799x567+540+106 \"/media/yuncong/BstemAtlasData/CSHL_data_processed/CHATM2/CHATM2_prep2_thumbnail_mask/CHATM2_slide48_2018_01_22-S2_prep2_thumbnail_mask.png\"\n",
      "0\n",
      "convert \"/media/yuncong/BstemAtlasData/CSHL_data_processed/CHATM2/CHATM2_prep1_thumbnail_mask/CHATM2_slide48_2018_01_22-S3_prep1_thumbnail_mask.png\" -crop 799x567+540+106 \"/media/yuncong/BstemAtlasData/CSHL_data_processed/CHATM2/CHATM2_prep2_thumbnail_mask/CHATM2_slide48_2018_01_22-S3_prep2_thumbnail_mask.png\"\n",
      "0\n",
      "convert \"/media/yuncong/BstemAtlasData/CSHL_data_processed/CHATM2/CHATM2_prep1_thumbnail_mask/CHATM2_slide49_2018_01_22-S1_prep1_thumbnail_mask.png\" -crop 799x567+540+106 \"/media/yuncong/BstemAtlasData/CSHL_data_processed/CHATM2/CHATM2_prep2_thumbnail_mask/CHATM2_slide49_2018_01_22-S1_prep2_thumbnail_mask.png\"\n",
      "0\n",
      "convert \"/media/yuncong/BstemAtlasData/CSHL_data_processed/CHATM2/CHATM2_prep1_thumbnail_mask/CHATM2_slide49_2018_01_22-S2_prep1_thumbnail_mask.png\" -crop 799x567+540+106 \"/media/yuncong/BstemAtlasData/CSHL_data_processed/CHATM2/CHATM2_prep2_thumbnail_mask/CHATM2_slide49_2018_01_22-S2_prep2_thumbnail_mask.png\"\n",
      "0\n",
      "convert \"/media/yuncong/BstemAtlasData/CSHL_data_processed/CHATM2/CHATM2_prep1_thumbnail_mask/CHATM2_slide50_2018_01_22-S1_prep1_thumbnail_mask.png\" -crop 799x567+540+106 \"/media/yuncong/BstemAtlasData/CSHL_data_processed/CHATM2/CHATM2_prep2_thumbnail_mask/CHATM2_slide50_2018_01_22-S1_prep2_thumbnail_mask.png\"\n",
      "0\n",
      "convert \"/media/yuncong/BstemAtlasData/CSHL_data_processed/CHATM2/CHATM2_prep1_thumbnail_mask/CHATM2_slide50_2018_01_22-S2_prep1_thumbnail_mask.png\" -crop 799x567+540+106 \"/media/yuncong/BstemAtlasData/CSHL_data_processed/CHATM2/CHATM2_prep2_thumbnail_mask/CHATM2_slide50_2018_01_22-S2_prep2_thumbnail_mask.png\"\n",
      "0\n",
      "convert \"/media/yuncong/BstemAtlasData/CSHL_data_processed/CHATM2/CHATM2_prep1_thumbnail_mask/CHATM2_slide50_2018_01_22-S3_prep1_thumbnail_mask.png\" -crop 799x567+540+106 \"/media/yuncong/BstemAtlasData/CSHL_data_processed/CHATM2/CHATM2_prep2_thumbnail_mask/CHATM2_slide50_2018_01_22-S3_prep2_thumbnail_mask.png\"\n",
      "0\n",
      "convert \"/media/yuncong/BstemAtlasData/CSHL_data_processed/CHATM2/CHATM2_prep1_thumbnail_mask/CHATM2_slide51_2018_01_22-S1_prep1_thumbnail_mask.png\" -crop 799x567+540+106 \"/media/yuncong/BstemAtlasData/CSHL_data_processed/CHATM2/CHATM2_prep2_thumbnail_mask/CHATM2_slide51_2018_01_22-S1_prep2_thumbnail_mask.png\"\n",
      "0\n",
      "convert \"/media/yuncong/BstemAtlasData/CSHL_data_processed/CHATM2/CHATM2_prep1_thumbnail_mask/CHATM2_slide51_2018_01_22-S2_prep1_thumbnail_mask.png\" -crop 799x567+540+106 \"/media/yuncong/BstemAtlasData/CSHL_data_processed/CHATM2/CHATM2_prep2_thumbnail_mask/CHATM2_slide51_2018_01_22-S2_prep2_thumbnail_mask.png\"\n",
      "0\n",
      "convert \"/media/yuncong/BstemAtlasData/CSHL_data_processed/CHATM2/CHATM2_prep1_thumbnail_mask/CHATM2_slide51_2018_01_22-S3_prep1_thumbnail_mask.png\" -crop 799x567+540+106 \"/media/yuncong/BstemAtlasData/CSHL_data_processed/CHATM2/CHATM2_prep2_thumbnail_mask/CHATM2_slide51_2018_01_22-S3_prep2_thumbnail_mask.png\"\n",
      "0\n",
      "convert \"/media/yuncong/BstemAtlasData/CSHL_data_processed/CHATM2/CHATM2_prep1_thumbnail_mask/CHATM2_slide52_2018_01_22-S1_prep1_thumbnail_mask.png\" -crop 799x567+540+106 \"/media/yuncong/BstemAtlasData/CSHL_data_processed/CHATM2/CHATM2_prep2_thumbnail_mask/CHATM2_slide52_2018_01_22-S1_prep2_thumbnail_mask.png\"\n",
      "0\n",
      "convert \"/media/yuncong/BstemAtlasData/CSHL_data_processed/CHATM2/CHATM2_prep1_thumbnail_mask/CHATM2_slide52_2018_01_22-S2_prep1_thumbnail_mask.png\" -crop 799x567+540+106 \"/media/yuncong/BstemAtlasData/CSHL_data_processed/CHATM2/CHATM2_prep2_thumbnail_mask/CHATM2_slide52_2018_01_22-S2_prep2_thumbnail_mask.png\"\n",
      "0\n",
      "convert \"/media/yuncong/BstemAtlasData/CSHL_data_processed/CHATM2/CHATM2_prep1_thumbnail_mask/CHATM2_slide52_2018_01_22-S3_prep1_thumbnail_mask.png\" -crop 799x567+540+106 \"/media/yuncong/BstemAtlasData/CSHL_data_processed/CHATM2/CHATM2_prep2_thumbnail_mask/CHATM2_slide52_2018_01_22-S3_prep2_thumbnail_mask.png\"\n",
      "0\n",
      "convert \"/media/yuncong/BstemAtlasData/CSHL_data_processed/CHATM2/CHATM2_prep1_thumbnail_mask/CHATM2_slide53_2018_01_22-S1_prep1_thumbnail_mask.png\" -crop 799x567+540+106 \"/media/yuncong/BstemAtlasData/CSHL_data_processed/CHATM2/CHATM2_prep2_thumbnail_mask/CHATM2_slide53_2018_01_22-S1_prep2_thumbnail_mask.png\"\n"
     ]
    },
    {
     "name": "stdout",
     "output_type": "stream",
     "text": [
      "0\n",
      "convert \"/media/yuncong/BstemAtlasData/CSHL_data_processed/CHATM2/CHATM2_prep1_thumbnail_mask/CHATM2_slide53_2018_01_22-S2_prep1_thumbnail_mask.png\" -crop 799x567+540+106 \"/media/yuncong/BstemAtlasData/CSHL_data_processed/CHATM2/CHATM2_prep2_thumbnail_mask/CHATM2_slide53_2018_01_22-S2_prep2_thumbnail_mask.png\"\n",
      "0\n",
      "convert \"/media/yuncong/BstemAtlasData/CSHL_data_processed/CHATM2/CHATM2_prep1_thumbnail_mask/CHATM2_slide53_2018_01_22-S3_prep1_thumbnail_mask.png\" -crop 799x567+540+106 \"/media/yuncong/BstemAtlasData/CSHL_data_processed/CHATM2/CHATM2_prep2_thumbnail_mask/CHATM2_slide53_2018_01_22-S3_prep2_thumbnail_mask.png\"\n",
      "0\n",
      "convert \"/media/yuncong/BstemAtlasData/CSHL_data_processed/CHATM2/CHATM2_prep1_thumbnail_mask/CHATM2_slide54_2018_01_22-S1_prep1_thumbnail_mask.png\" -crop 799x567+540+106 \"/media/yuncong/BstemAtlasData/CSHL_data_processed/CHATM2/CHATM2_prep2_thumbnail_mask/CHATM2_slide54_2018_01_22-S1_prep2_thumbnail_mask.png\"\n",
      "0\n",
      "convert \"/media/yuncong/BstemAtlasData/CSHL_data_processed/CHATM2/CHATM2_prep1_thumbnail_mask/CHATM2_slide54_2018_01_22-S2_prep1_thumbnail_mask.png\" -crop 799x567+540+106 \"/media/yuncong/BstemAtlasData/CSHL_data_processed/CHATM2/CHATM2_prep2_thumbnail_mask/CHATM2_slide54_2018_01_22-S2_prep2_thumbnail_mask.png\"\n",
      "0\n",
      "convert \"/media/yuncong/BstemAtlasData/CSHL_data_processed/CHATM2/CHATM2_prep1_thumbnail_mask/CHATM2_slide54_2018_01_22-S3_prep1_thumbnail_mask.png\" -crop 799x567+540+106 \"/media/yuncong/BstemAtlasData/CSHL_data_processed/CHATM2/CHATM2_prep2_thumbnail_mask/CHATM2_slide54_2018_01_22-S3_prep2_thumbnail_mask.png\"\n",
      "0\n",
      "convert \"/media/yuncong/BstemAtlasData/CSHL_data_processed/CHATM2/CHATM2_prep1_thumbnail_mask/CHATM2_slide55_2018_01_22-S1_prep1_thumbnail_mask.png\" -crop 799x567+540+106 \"/media/yuncong/BstemAtlasData/CSHL_data_processed/CHATM2/CHATM2_prep2_thumbnail_mask/CHATM2_slide55_2018_01_22-S1_prep2_thumbnail_mask.png\"\n",
      "0\n",
      "convert \"/media/yuncong/BstemAtlasData/CSHL_data_processed/CHATM2/CHATM2_prep1_thumbnail_mask/CHATM2_slide55_2018_01_22-S2_prep1_thumbnail_mask.png\" -crop 799x567+540+106 \"/media/yuncong/BstemAtlasData/CSHL_data_processed/CHATM2/CHATM2_prep2_thumbnail_mask/CHATM2_slide55_2018_01_22-S2_prep2_thumbnail_mask.png\"\n",
      "0\n",
      "convert \"/media/yuncong/BstemAtlasData/CSHL_data_processed/CHATM2/CHATM2_prep1_thumbnail_mask/CHATM2_slide55_2018_01_22-S3_prep1_thumbnail_mask.png\" -crop 799x567+540+106 \"/media/yuncong/BstemAtlasData/CSHL_data_processed/CHATM2/CHATM2_prep2_thumbnail_mask/CHATM2_slide55_2018_01_22-S3_prep2_thumbnail_mask.png\"\n",
      "0\n",
      "convert \"/media/yuncong/BstemAtlasData/CSHL_data_processed/CHATM2/CHATM2_prep1_thumbnail_mask/CHATM2_slide56_2018_01_22-S1_prep1_thumbnail_mask.png\" -crop 799x567+540+106 \"/media/yuncong/BstemAtlasData/CSHL_data_processed/CHATM2/CHATM2_prep2_thumbnail_mask/CHATM2_slide56_2018_01_22-S1_prep2_thumbnail_mask.png\"\n",
      "0\n",
      "convert \"/media/yuncong/BstemAtlasData/CSHL_data_processed/CHATM2/CHATM2_prep1_thumbnail_mask/CHATM2_slide56_2018_01_22-S2_prep1_thumbnail_mask.png\" -crop 799x567+540+106 \"/media/yuncong/BstemAtlasData/CSHL_data_processed/CHATM2/CHATM2_prep2_thumbnail_mask/CHATM2_slide56_2018_01_22-S2_prep2_thumbnail_mask.png\"\n",
      "0\n",
      "convert \"/media/yuncong/BstemAtlasData/CSHL_data_processed/CHATM2/CHATM2_prep1_thumbnail_mask/CHATM2_slide56_2018_01_22-S3_prep1_thumbnail_mask.png\" -crop 799x567+540+106 \"/media/yuncong/BstemAtlasData/CSHL_data_processed/CHATM2/CHATM2_prep2_thumbnail_mask/CHATM2_slide56_2018_01_22-S3_prep2_thumbnail_mask.png\"\n",
      "0\n",
      "convert \"/media/yuncong/BstemAtlasData/CSHL_data_processed/CHATM2/CHATM2_prep1_thumbnail_mask/CHATM2_slide57_2018_01_22-S1_prep1_thumbnail_mask.png\" -crop 799x567+540+106 \"/media/yuncong/BstemAtlasData/CSHL_data_processed/CHATM2/CHATM2_prep2_thumbnail_mask/CHATM2_slide57_2018_01_22-S1_prep2_thumbnail_mask.png\"\n",
      "0\n",
      "convert \"/media/yuncong/BstemAtlasData/CSHL_data_processed/CHATM2/CHATM2_prep1_thumbnail_mask/CHATM2_slide57_2018_01_22-S2_prep1_thumbnail_mask.png\" -crop 799x567+540+106 \"/media/yuncong/BstemAtlasData/CSHL_data_processed/CHATM2/CHATM2_prep2_thumbnail_mask/CHATM2_slide57_2018_01_22-S2_prep2_thumbnail_mask.png\"\n",
      "0\n",
      "convert \"/media/yuncong/BstemAtlasData/CSHL_data_processed/CHATM2/CHATM2_prep1_thumbnail_mask/CHATM2_slide57_2018_01_22-S3_prep1_thumbnail_mask.png\" -crop 799x567+540+106 \"/media/yuncong/BstemAtlasData/CSHL_data_processed/CHATM2/CHATM2_prep2_thumbnail_mask/CHATM2_slide57_2018_01_22-S3_prep2_thumbnail_mask.png\"\n",
      "0\n",
      "convert \"/media/yuncong/BstemAtlasData/CSHL_data_processed/CHATM2/CHATM2_prep1_thumbnail_mask/CHATM2_slide58_2018_01_22-S1_prep1_thumbnail_mask.png\" -crop 799x567+540+106 \"/media/yuncong/BstemAtlasData/CSHL_data_processed/CHATM2/CHATM2_prep2_thumbnail_mask/CHATM2_slide58_2018_01_22-S1_prep2_thumbnail_mask.png\"\n",
      "0\n",
      "convert \"/media/yuncong/BstemAtlasData/CSHL_data_processed/CHATM2/CHATM2_prep1_thumbnail_mask/CHATM2_slide58_2018_01_22-S2_prep1_thumbnail_mask.png\" -crop 799x567+540+106 \"/media/yuncong/BstemAtlasData/CSHL_data_processed/CHATM2/CHATM2_prep2_thumbnail_mask/CHATM2_slide58_2018_01_22-S2_prep2_thumbnail_mask.png\"\n",
      "0\n",
      "convert \"/media/yuncong/BstemAtlasData/CSHL_data_processed/CHATM2/CHATM2_prep1_thumbnail_mask/CHATM2_slide62_2018_02_14-S1_prep1_thumbnail_mask.png\" -crop 799x567+540+106 \"/media/yuncong/BstemAtlasData/CSHL_data_processed/CHATM2/CHATM2_prep2_thumbnail_mask/CHATM2_slide62_2018_02_14-S1_prep2_thumbnail_mask.png\"\n",
      "0\n",
      "convert \"/media/yuncong/BstemAtlasData/CSHL_data_processed/CHATM2/CHATM2_prep1_thumbnail_mask/CHATM2_slide62_2018_02_14-S2_prep1_thumbnail_mask.png\" -crop 799x567+540+106 \"/media/yuncong/BstemAtlasData/CSHL_data_processed/CHATM2/CHATM2_prep2_thumbnail_mask/CHATM2_slide62_2018_02_14-S2_prep2_thumbnail_mask.png\"\n",
      "0\n",
      "convert \"/media/yuncong/BstemAtlasData/CSHL_data_processed/CHATM2/CHATM2_prep1_thumbnail_mask/CHATM2_slide62_2018_02_14-S3_prep1_thumbnail_mask.png\" -crop 799x567+540+106 \"/media/yuncong/BstemAtlasData/CSHL_data_processed/CHATM2/CHATM2_prep2_thumbnail_mask/CHATM2_slide62_2018_02_14-S3_prep2_thumbnail_mask.png\"\n",
      "0\n",
      "convert \"/media/yuncong/BstemAtlasData/CSHL_data_processed/CHATM2/CHATM2_prep1_thumbnail_mask/CHATM2_slide64_2018_02_15-S1_prep1_thumbnail_mask.png\" -crop 799x567+540+106 \"/media/yuncong/BstemAtlasData/CSHL_data_processed/CHATM2/CHATM2_prep2_thumbnail_mask/CHATM2_slide64_2018_02_15-S1_prep2_thumbnail_mask.png\"\n",
      "0\n",
      "convert \"/media/yuncong/BstemAtlasData/CSHL_data_processed/CHATM2/CHATM2_prep1_thumbnail_mask/CHATM2_slide64_2018_02_15-S2_prep1_thumbnail_mask.png\" -crop 799x567+540+106 \"/media/yuncong/BstemAtlasData/CSHL_data_processed/CHATM2/CHATM2_prep2_thumbnail_mask/CHATM2_slide64_2018_02_15-S2_prep2_thumbnail_mask.png\"\n",
      "0\n",
      "convert \"/media/yuncong/BstemAtlasData/CSHL_data_processed/CHATM2/CHATM2_prep1_thumbnail_mask/CHATM2_slide64_2018_02_15-S3_prep1_thumbnail_mask.png\" -crop 799x567+540+106 \"/media/yuncong/BstemAtlasData/CSHL_data_processed/CHATM2/CHATM2_prep2_thumbnail_mask/CHATM2_slide64_2018_02_15-S3_prep2_thumbnail_mask.png\"\n",
      "0\n",
      "convert \"/media/yuncong/BstemAtlasData/CSHL_data_processed/CHATM2/CHATM2_prep1_thumbnail_mask/CHATM2_slide66_2018_02_14-S1_prep1_thumbnail_mask.png\" -crop 799x567+540+106 \"/media/yuncong/BstemAtlasData/CSHL_data_processed/CHATM2/CHATM2_prep2_thumbnail_mask/CHATM2_slide66_2018_02_14-S1_prep2_thumbnail_mask.png\"\n",
      "0\n",
      "convert \"/media/yuncong/BstemAtlasData/CSHL_data_processed/CHATM2/CHATM2_prep1_thumbnail_mask/CHATM2_slide66_2018_02_14-S2_prep1_thumbnail_mask.png\" -crop 799x567+540+106 \"/media/yuncong/BstemAtlasData/CSHL_data_processed/CHATM2/CHATM2_prep2_thumbnail_mask/CHATM2_slide66_2018_02_14-S2_prep2_thumbnail_mask.png\"\n",
      "0\n",
      "convert \"/media/yuncong/BstemAtlasData/CSHL_data_processed/CHATM2/CHATM2_prep1_thumbnail_mask/CHATM2_slide66_2018_02_14-S3_prep1_thumbnail_mask.png\" -crop 799x567+540+106 \"/media/yuncong/BstemAtlasData/CSHL_data_processed/CHATM2/CHATM2_prep2_thumbnail_mask/CHATM2_slide66_2018_02_14-S3_prep2_thumbnail_mask.png\"\n",
      "0\n",
      "convert \"/media/yuncong/BstemAtlasData/CSHL_data_processed/CHATM2/CHATM2_prep1_thumbnail_mask/CHATM2_slide68_2018_02_14-S1_prep1_thumbnail_mask.png\" -crop 799x567+540+106 \"/media/yuncong/BstemAtlasData/CSHL_data_processed/CHATM2/CHATM2_prep2_thumbnail_mask/CHATM2_slide68_2018_02_14-S1_prep2_thumbnail_mask.png\"\n",
      "0\n",
      "convert \"/media/yuncong/BstemAtlasData/CSHL_data_processed/CHATM2/CHATM2_prep1_thumbnail_mask/CHATM2_slide68_2018_02_14-S2_prep1_thumbnail_mask.png\" -crop 799x567+540+106 \"/media/yuncong/BstemAtlasData/CSHL_data_processed/CHATM2/CHATM2_prep2_thumbnail_mask/CHATM2_slide68_2018_02_14-S2_prep2_thumbnail_mask.png\"\n"
     ]
    },
    {
     "name": "stdout",
     "output_type": "stream",
     "text": [
      "0\n",
      "convert \"/media/yuncong/BstemAtlasData/CSHL_data_processed/CHATM2/CHATM2_prep1_thumbnail_mask/CHATM2_slide70_2018_02_14-S1_prep1_thumbnail_mask.png\" -crop 799x567+540+106 \"/media/yuncong/BstemAtlasData/CSHL_data_processed/CHATM2/CHATM2_prep2_thumbnail_mask/CHATM2_slide70_2018_02_14-S1_prep2_thumbnail_mask.png\"\n",
      "0\n",
      "convert \"/media/yuncong/BstemAtlasData/CSHL_data_processed/CHATM2/CHATM2_prep1_thumbnail_mask/CHATM2_slide70_2018_02_14-S2_prep1_thumbnail_mask.png\" -crop 799x567+540+106 \"/media/yuncong/BstemAtlasData/CSHL_data_processed/CHATM2/CHATM2_prep2_thumbnail_mask/CHATM2_slide70_2018_02_14-S2_prep2_thumbnail_mask.png\"\n",
      "0\n",
      "convert \"/media/yuncong/BstemAtlasData/CSHL_data_processed/CHATM2/CHATM2_prep1_thumbnail_mask/CHATM2_slide70_2018_02_14-S3_prep1_thumbnail_mask.png\" -crop 799x567+540+106 \"/media/yuncong/BstemAtlasData/CSHL_data_processed/CHATM2/CHATM2_prep2_thumbnail_mask/CHATM2_slide70_2018_02_14-S3_prep2_thumbnail_mask.png\"\n",
      "0\n",
      "convert \"/media/yuncong/BstemAtlasData/CSHL_data_processed/CHATM2/CHATM2_prep1_thumbnail_mask/CHATM2_slide72_2018_02_14-S1_prep1_thumbnail_mask.png\" -crop 799x567+540+106 \"/media/yuncong/BstemAtlasData/CSHL_data_processed/CHATM2/CHATM2_prep2_thumbnail_mask/CHATM2_slide72_2018_02_14-S1_prep2_thumbnail_mask.png\"\n",
      "0\n",
      "convert \"/media/yuncong/BstemAtlasData/CSHL_data_processed/CHATM2/CHATM2_prep1_thumbnail_mask/CHATM2_slide72_2018_02_14-S2_prep1_thumbnail_mask.png\" -crop 799x567+540+106 \"/media/yuncong/BstemAtlasData/CSHL_data_processed/CHATM2/CHATM2_prep2_thumbnail_mask/CHATM2_slide72_2018_02_14-S2_prep2_thumbnail_mask.png\"\n",
      "0\n",
      "convert \"/media/yuncong/BstemAtlasData/CSHL_data_processed/CHATM2/CHATM2_prep1_thumbnail_mask/CHATM2_slide72_2018_02_14-S3_prep1_thumbnail_mask.png\" -crop 799x567+540+106 \"/media/yuncong/BstemAtlasData/CSHL_data_processed/CHATM2/CHATM2_prep2_thumbnail_mask/CHATM2_slide72_2018_02_14-S3_prep2_thumbnail_mask.png\"\n",
      "0\n",
      "convert \"/media/yuncong/BstemAtlasData/CSHL_data_processed/CHATM2/CHATM2_prep1_thumbnail_mask/CHATM2_slide74_2018_02_14-S1_prep1_thumbnail_mask.png\" -crop 799x567+540+106 \"/media/yuncong/BstemAtlasData/CSHL_data_processed/CHATM2/CHATM2_prep2_thumbnail_mask/CHATM2_slide74_2018_02_14-S1_prep2_thumbnail_mask.png\"\n",
      "0\n",
      "convert \"/media/yuncong/BstemAtlasData/CSHL_data_processed/CHATM2/CHATM2_prep1_thumbnail_mask/CHATM2_slide74_2018_02_14-S2_prep1_thumbnail_mask.png\" -crop 799x567+540+106 \"/media/yuncong/BstemAtlasData/CSHL_data_processed/CHATM2/CHATM2_prep2_thumbnail_mask/CHATM2_slide74_2018_02_14-S2_prep2_thumbnail_mask.png\"\n",
      "0\n",
      "convert \"/media/yuncong/BstemAtlasData/CSHL_data_processed/CHATM2/CHATM2_prep1_thumbnail_mask/CHATM2_slide74_2018_02_14-S3_prep1_thumbnail_mask.png\" -crop 799x567+540+106 \"/media/yuncong/BstemAtlasData/CSHL_data_processed/CHATM2/CHATM2_prep2_thumbnail_mask/CHATM2_slide74_2018_02_14-S3_prep2_thumbnail_mask.png\"\n",
      "0\n",
      "convert \"/media/yuncong/BstemAtlasData/CSHL_data_processed/CHATM2/CHATM2_prep1_thumbnail_mask/CHATM2_slide76_2018_02_14-S1_prep1_thumbnail_mask.png\" -crop 799x567+540+106 \"/media/yuncong/BstemAtlasData/CSHL_data_processed/CHATM2/CHATM2_prep2_thumbnail_mask/CHATM2_slide76_2018_02_14-S1_prep2_thumbnail_mask.png\"\n",
      "0\n",
      "convert \"/media/yuncong/BstemAtlasData/CSHL_data_processed/CHATM2/CHATM2_prep1_thumbnail_mask/CHATM2_slide76_2018_02_14-S2_prep1_thumbnail_mask.png\" -crop 799x567+540+106 \"/media/yuncong/BstemAtlasData/CSHL_data_processed/CHATM2/CHATM2_prep2_thumbnail_mask/CHATM2_slide76_2018_02_14-S2_prep2_thumbnail_mask.png\"\n",
      "0\n",
      "convert \"/media/yuncong/BstemAtlasData/CSHL_data_processed/CHATM2/CHATM2_prep1_thumbnail_mask/CHATM2_slide76_2018_02_14-S3_prep1_thumbnail_mask.png\" -crop 799x567+540+106 \"/media/yuncong/BstemAtlasData/CSHL_data_processed/CHATM2/CHATM2_prep2_thumbnail_mask/CHATM2_slide76_2018_02_14-S3_prep2_thumbnail_mask.png\"\n",
      "0\n",
      "convert \"/media/yuncong/BstemAtlasData/CSHL_data_processed/CHATM2/CHATM2_prep1_thumbnail_mask/CHATM2_slide78_2018_02_14-S1_prep1_thumbnail_mask.png\" -crop 799x567+540+106 \"/media/yuncong/BstemAtlasData/CSHL_data_processed/CHATM2/CHATM2_prep2_thumbnail_mask/CHATM2_slide78_2018_02_14-S1_prep2_thumbnail_mask.png\"\n",
      "0\n",
      "convert \"/media/yuncong/BstemAtlasData/CSHL_data_processed/CHATM2/CHATM2_prep1_thumbnail_mask/CHATM2_slide78_2018_02_14-S2_prep1_thumbnail_mask.png\" -crop 799x567+540+106 \"/media/yuncong/BstemAtlasData/CSHL_data_processed/CHATM2/CHATM2_prep2_thumbnail_mask/CHATM2_slide78_2018_02_14-S2_prep2_thumbnail_mask.png\"\n",
      "0\n",
      "convert \"/media/yuncong/BstemAtlasData/CSHL_data_processed/CHATM2/CHATM2_prep1_thumbnail_mask/CHATM2_slide78_2018_02_14-S3_prep1_thumbnail_mask.png\" -crop 799x567+540+106 \"/media/yuncong/BstemAtlasData/CSHL_data_processed/CHATM2/CHATM2_prep2_thumbnail_mask/CHATM2_slide78_2018_02_14-S3_prep2_thumbnail_mask.png\"\n",
      "0\n",
      "convert \"/media/yuncong/BstemAtlasData/CSHL_data_processed/CHATM2/CHATM2_prep1_thumbnail_mask/CHATM2_slide80_2018_02_14-S1_prep1_thumbnail_mask.png\" -crop 799x567+540+106 \"/media/yuncong/BstemAtlasData/CSHL_data_processed/CHATM2/CHATM2_prep2_thumbnail_mask/CHATM2_slide80_2018_02_14-S1_prep2_thumbnail_mask.png\"\n",
      "0\n",
      "convert \"/media/yuncong/BstemAtlasData/CSHL_data_processed/CHATM2/CHATM2_prep1_thumbnail_mask/CHATM2_slide80_2018_02_14-S2_prep1_thumbnail_mask.png\" -crop 799x567+540+106 \"/media/yuncong/BstemAtlasData/CSHL_data_processed/CHATM2/CHATM2_prep2_thumbnail_mask/CHATM2_slide80_2018_02_14-S2_prep2_thumbnail_mask.png\"\n",
      "0\n",
      "convert \"/media/yuncong/BstemAtlasData/CSHL_data_processed/CHATM2/CHATM2_prep1_thumbnail_mask/CHATM2_slide80_2018_02_14-S3_prep1_thumbnail_mask.png\" -crop 799x567+540+106 \"/media/yuncong/BstemAtlasData/CSHL_data_processed/CHATM2/CHATM2_prep2_thumbnail_mask/CHATM2_slide80_2018_02_14-S3_prep2_thumbnail_mask.png\"\n",
      "0\n",
      "convert \"/media/yuncong/BstemAtlasData/CSHL_data_processed/CHATM2/CHATM2_prep1_thumbnail_mask/CHATM2_slide82_2018_02_14-S1_prep1_thumbnail_mask.png\" -crop 799x567+540+106 \"/media/yuncong/BstemAtlasData/CSHL_data_processed/CHATM2/CHATM2_prep2_thumbnail_mask/CHATM2_slide82_2018_02_14-S1_prep2_thumbnail_mask.png\"\n",
      "0\n",
      "convert \"/media/yuncong/BstemAtlasData/CSHL_data_processed/CHATM2/CHATM2_prep1_thumbnail_mask/CHATM2_slide82_2018_02_14-S2_prep1_thumbnail_mask.png\" -crop 799x567+540+106 \"/media/yuncong/BstemAtlasData/CSHL_data_processed/CHATM2/CHATM2_prep2_thumbnail_mask/CHATM2_slide82_2018_02_14-S2_prep2_thumbnail_mask.png\"\n",
      "0\n",
      "convert \"/media/yuncong/BstemAtlasData/CSHL_data_processed/CHATM2/CHATM2_prep1_thumbnail_mask/CHATM2_slide82_2018_02_14-S3_prep1_thumbnail_mask.png\" -crop 799x567+540+106 \"/media/yuncong/BstemAtlasData/CSHL_data_processed/CHATM2/CHATM2_prep2_thumbnail_mask/CHATM2_slide82_2018_02_14-S3_prep2_thumbnail_mask.png\"\n",
      "0\n",
      "convert \"/media/yuncong/BstemAtlasData/CSHL_data_processed/CHATM2/CHATM2_prep1_thumbnail_mask/CHATM2_slide84_2018_02_14-S1_prep1_thumbnail_mask.png\" -crop 799x567+540+106 \"/media/yuncong/BstemAtlasData/CSHL_data_processed/CHATM2/CHATM2_prep2_thumbnail_mask/CHATM2_slide84_2018_02_14-S1_prep2_thumbnail_mask.png\"\n",
      "0\n",
      "convert \"/media/yuncong/BstemAtlasData/CSHL_data_processed/CHATM2/CHATM2_prep1_thumbnail_mask/CHATM2_slide84_2018_02_14-S2_prep1_thumbnail_mask.png\" -crop 799x567+540+106 \"/media/yuncong/BstemAtlasData/CSHL_data_processed/CHATM2/CHATM2_prep2_thumbnail_mask/CHATM2_slide84_2018_02_14-S2_prep2_thumbnail_mask.png\"\n",
      "0\n",
      "convert \"/media/yuncong/BstemAtlasData/CSHL_data_processed/CHATM2/CHATM2_prep1_thumbnail_mask/CHATM2_slide84_2018_02_14-S3_prep1_thumbnail_mask.png\" -crop 799x567+540+106 \"/media/yuncong/BstemAtlasData/CSHL_data_processed/CHATM2/CHATM2_prep2_thumbnail_mask/CHATM2_slide84_2018_02_14-S3_prep2_thumbnail_mask.png\"\n",
      "0\n",
      "convert \"/media/yuncong/BstemAtlasData/CSHL_data_processed/CHATM2/CHATM2_prep1_thumbnail_mask/CHATM2_slide86_2018_02_13-S1_prep1_thumbnail_mask.png\" -crop 799x567+540+106 \"/media/yuncong/BstemAtlasData/CSHL_data_processed/CHATM2/CHATM2_prep2_thumbnail_mask/CHATM2_slide86_2018_02_13-S1_prep2_thumbnail_mask.png\"\n",
      "0\n",
      "convert \"/media/yuncong/BstemAtlasData/CSHL_data_processed/CHATM2/CHATM2_prep1_thumbnail_mask/CHATM2_slide86_2018_02_13-S2_prep1_thumbnail_mask.png\" -crop 799x567+540+106 \"/media/yuncong/BstemAtlasData/CSHL_data_processed/CHATM2/CHATM2_prep2_thumbnail_mask/CHATM2_slide86_2018_02_13-S2_prep2_thumbnail_mask.png\"\n",
      "0\n",
      "convert \"/media/yuncong/BstemAtlasData/CSHL_data_processed/CHATM2/CHATM2_prep1_thumbnail_mask/CHATM2_slide86_2018_02_13-S3_prep1_thumbnail_mask.png\" -crop 799x567+540+106 \"/media/yuncong/BstemAtlasData/CSHL_data_processed/CHATM2/CHATM2_prep2_thumbnail_mask/CHATM2_slide86_2018_02_13-S3_prep2_thumbnail_mask.png\"\n"
     ]
    },
    {
     "name": "stdout",
     "output_type": "stream",
     "text": [
      "0\n",
      "convert \"/media/yuncong/BstemAtlasData/CSHL_data_processed/CHATM2/CHATM2_prep1_thumbnail_mask/CHATM2_slide88_2018_02_13-S1_prep1_thumbnail_mask.png\" -crop 799x567+540+106 \"/media/yuncong/BstemAtlasData/CSHL_data_processed/CHATM2/CHATM2_prep2_thumbnail_mask/CHATM2_slide88_2018_02_13-S1_prep2_thumbnail_mask.png\"\n",
      "0\n",
      "convert \"/media/yuncong/BstemAtlasData/CSHL_data_processed/CHATM2/CHATM2_prep1_thumbnail_mask/CHATM2_slide88_2018_02_13-S2_prep1_thumbnail_mask.png\" -crop 799x567+540+106 \"/media/yuncong/BstemAtlasData/CSHL_data_processed/CHATM2/CHATM2_prep2_thumbnail_mask/CHATM2_slide88_2018_02_13-S2_prep2_thumbnail_mask.png\"\n",
      "0\n",
      "convert \"/media/yuncong/BstemAtlasData/CSHL_data_processed/CHATM2/CHATM2_prep1_thumbnail_mask/CHATM2_slide88_2018_02_13-S3_prep1_thumbnail_mask.png\" -crop 799x567+540+106 \"/media/yuncong/BstemAtlasData/CSHL_data_processed/CHATM2/CHATM2_prep2_thumbnail_mask/CHATM2_slide88_2018_02_13-S3_prep2_thumbnail_mask.png\"\n",
      "0\n",
      "convert \"/media/yuncong/BstemAtlasData/CSHL_data_processed/CHATM2/CHATM2_prep1_thumbnail_mask/CHATM2_slide90_2018_02_13-S1_prep1_thumbnail_mask.png\" -crop 799x567+540+106 \"/media/yuncong/BstemAtlasData/CSHL_data_processed/CHATM2/CHATM2_prep2_thumbnail_mask/CHATM2_slide90_2018_02_13-S1_prep2_thumbnail_mask.png\"\n",
      "0\n",
      "convert \"/media/yuncong/BstemAtlasData/CSHL_data_processed/CHATM2/CHATM2_prep1_thumbnail_mask/CHATM2_slide90_2018_02_13-S2_prep1_thumbnail_mask.png\" -crop 799x567+540+106 \"/media/yuncong/BstemAtlasData/CSHL_data_processed/CHATM2/CHATM2_prep2_thumbnail_mask/CHATM2_slide90_2018_02_13-S2_prep2_thumbnail_mask.png\"\n",
      "0\n",
      "convert \"/media/yuncong/BstemAtlasData/CSHL_data_processed/CHATM2/CHATM2_prep1_thumbnail_mask/CHATM2_slide90_2018_02_13-S3_prep1_thumbnail_mask.png\" -crop 799x567+540+106 \"/media/yuncong/BstemAtlasData/CSHL_data_processed/CHATM2/CHATM2_prep2_thumbnail_mask/CHATM2_slide90_2018_02_13-S3_prep2_thumbnail_mask.png\"\n",
      "0\n",
      "convert \"/media/yuncong/BstemAtlasData/CSHL_data_processed/CHATM2/CHATM2_prep1_thumbnail_mask/CHATM2_slide92_2018_02_13-S1_prep1_thumbnail_mask.png\" -crop 799x567+540+106 \"/media/yuncong/BstemAtlasData/CSHL_data_processed/CHATM2/CHATM2_prep2_thumbnail_mask/CHATM2_slide92_2018_02_13-S1_prep2_thumbnail_mask.png\"\n",
      "0\n",
      "convert \"/media/yuncong/BstemAtlasData/CSHL_data_processed/CHATM2/CHATM2_prep1_thumbnail_mask/CHATM2_slide92_2018_02_13-S2_prep1_thumbnail_mask.png\" -crop 799x567+540+106 \"/media/yuncong/BstemAtlasData/CSHL_data_processed/CHATM2/CHATM2_prep2_thumbnail_mask/CHATM2_slide92_2018_02_13-S2_prep2_thumbnail_mask.png\"\n",
      "0\n",
      "convert \"/media/yuncong/BstemAtlasData/CSHL_data_processed/CHATM2/CHATM2_prep1_thumbnail_mask/CHATM2_slide92_2018_02_13-S3_prep1_thumbnail_mask.png\" -crop 799x567+540+106 \"/media/yuncong/BstemAtlasData/CSHL_data_processed/CHATM2/CHATM2_prep2_thumbnail_mask/CHATM2_slide92_2018_02_13-S3_prep2_thumbnail_mask.png\"\n",
      "0\n",
      "convert \"/media/yuncong/BstemAtlasData/CSHL_data_processed/CHATM2/CHATM2_prep1_thumbnail_mask/CHATM2_slide94_2018_02_13-S1_prep1_thumbnail_mask.png\" -crop 799x567+540+106 \"/media/yuncong/BstemAtlasData/CSHL_data_processed/CHATM2/CHATM2_prep2_thumbnail_mask/CHATM2_slide94_2018_02_13-S1_prep2_thumbnail_mask.png\"\n",
      "0\n",
      "convert \"/media/yuncong/BstemAtlasData/CSHL_data_processed/CHATM2/CHATM2_prep1_thumbnail_mask/CHATM2_slide94_2018_02_13-S2_prep1_thumbnail_mask.png\" -crop 799x567+540+106 \"/media/yuncong/BstemAtlasData/CSHL_data_processed/CHATM2/CHATM2_prep2_thumbnail_mask/CHATM2_slide94_2018_02_13-S2_prep2_thumbnail_mask.png\"\n",
      "0\n",
      "convert \"/media/yuncong/BstemAtlasData/CSHL_data_processed/CHATM2/CHATM2_prep1_thumbnail_mask/CHATM2_slide94_2018_02_13-S3_prep1_thumbnail_mask.png\" -crop 799x567+540+106 \"/media/yuncong/BstemAtlasData/CSHL_data_processed/CHATM2/CHATM2_prep2_thumbnail_mask/CHATM2_slide94_2018_02_13-S3_prep2_thumbnail_mask.png\"\n",
      "0\n",
      "convert \"/media/yuncong/BstemAtlasData/CSHL_data_processed/CHATM2/CHATM2_prep1_thumbnail_mask/CHATM2_slide96_2018_02_13-S1_prep1_thumbnail_mask.png\" -crop 799x567+540+106 \"/media/yuncong/BstemAtlasData/CSHL_data_processed/CHATM2/CHATM2_prep2_thumbnail_mask/CHATM2_slide96_2018_02_13-S1_prep2_thumbnail_mask.png\"\n",
      "0\n",
      "convert \"/media/yuncong/BstemAtlasData/CSHL_data_processed/CHATM2/CHATM2_prep1_thumbnail_mask/CHATM2_slide96_2018_02_13-S2_prep1_thumbnail_mask.png\" -crop 799x567+540+106 \"/media/yuncong/BstemAtlasData/CSHL_data_processed/CHATM2/CHATM2_prep2_thumbnail_mask/CHATM2_slide96_2018_02_13-S2_prep2_thumbnail_mask.png\"\n",
      "0\n",
      "convert \"/media/yuncong/BstemAtlasData/CSHL_data_processed/CHATM2/CHATM2_prep1_thumbnail_mask/CHATM2_slide96_2018_02_13-S3_prep1_thumbnail_mask.png\" -crop 799x567+540+106 \"/media/yuncong/BstemAtlasData/CSHL_data_processed/CHATM2/CHATM2_prep2_thumbnail_mask/CHATM2_slide96_2018_02_13-S3_prep2_thumbnail_mask.png\"\n",
      "0\n",
      "convert \"/media/yuncong/BstemAtlasData/CSHL_data_processed/CHATM2/CHATM2_prep1_thumbnail_mask/CHATM2_slide98_2018_02_13-S1_prep1_thumbnail_mask.png\" -crop 799x567+540+106 \"/media/yuncong/BstemAtlasData/CSHL_data_processed/CHATM2/CHATM2_prep2_thumbnail_mask/CHATM2_slide98_2018_02_13-S1_prep2_thumbnail_mask.png\"\n",
      "0\n",
      "convert \"/media/yuncong/BstemAtlasData/CSHL_data_processed/CHATM2/CHATM2_prep1_thumbnail_mask/CHATM2_slide98_2018_02_13-S2_prep1_thumbnail_mask.png\" -crop 799x567+540+106 \"/media/yuncong/BstemAtlasData/CSHL_data_processed/CHATM2/CHATM2_prep2_thumbnail_mask/CHATM2_slide98_2018_02_13-S2_prep2_thumbnail_mask.png\"\n",
      "0\n",
      "convert \"/media/yuncong/BstemAtlasData/CSHL_data_processed/CHATM2/CHATM2_prep1_thumbnail_mask/CHATM2_slide98_2018_02_13-S3_prep1_thumbnail_mask.png\" -crop 799x567+540+106 \"/media/yuncong/BstemAtlasData/CSHL_data_processed/CHATM2/CHATM2_prep2_thumbnail_mask/CHATM2_slide98_2018_02_13-S3_prep2_thumbnail_mask.png\"\n",
      "0\n",
      "convert \"/media/yuncong/BstemAtlasData/CSHL_data_processed/CHATM2/CHATM2_prep1_thumbnail_mask/CHATM2_slide100_2018_02_13-S1_prep1_thumbnail_mask.png\" -crop 799x567+540+106 \"/media/yuncong/BstemAtlasData/CSHL_data_processed/CHATM2/CHATM2_prep2_thumbnail_mask/CHATM2_slide100_2018_02_13-S1_prep2_thumbnail_mask.png\"\n",
      "0\n",
      "convert \"/media/yuncong/BstemAtlasData/CSHL_data_processed/CHATM2/CHATM2_prep1_thumbnail_mask/CHATM2_slide100_2018_02_13-S2_prep1_thumbnail_mask.png\" -crop 799x567+540+106 \"/media/yuncong/BstemAtlasData/CSHL_data_processed/CHATM2/CHATM2_prep2_thumbnail_mask/CHATM2_slide100_2018_02_13-S2_prep2_thumbnail_mask.png\"\n",
      "0\n",
      "convert \"/media/yuncong/BstemAtlasData/CSHL_data_processed/CHATM2/CHATM2_prep1_thumbnail_mask/CHATM2_slide100_2018_02_13-S3_prep1_thumbnail_mask.png\" -crop 799x567+540+106 \"/media/yuncong/BstemAtlasData/CSHL_data_processed/CHATM2/CHATM2_prep2_thumbnail_mask/CHATM2_slide100_2018_02_13-S3_prep2_thumbnail_mask.png\"\n",
      "0\n",
      "convert \"/media/yuncong/BstemAtlasData/CSHL_data_processed/CHATM2/CHATM2_prep1_thumbnail_mask/CHATM2_slide102_2018_02_13-S1_prep1_thumbnail_mask.png\" -crop 799x567+540+106 \"/media/yuncong/BstemAtlasData/CSHL_data_processed/CHATM2/CHATM2_prep2_thumbnail_mask/CHATM2_slide102_2018_02_13-S1_prep2_thumbnail_mask.png\"\n",
      "0\n",
      "convert \"/media/yuncong/BstemAtlasData/CSHL_data_processed/CHATM2/CHATM2_prep1_thumbnail_mask/CHATM2_slide102_2018_02_13-S2_prep1_thumbnail_mask.png\" -crop 799x567+540+106 \"/media/yuncong/BstemAtlasData/CSHL_data_processed/CHATM2/CHATM2_prep2_thumbnail_mask/CHATM2_slide102_2018_02_13-S2_prep2_thumbnail_mask.png\"\n",
      "0\n",
      "convert \"/media/yuncong/BstemAtlasData/CSHL_data_processed/CHATM2/CHATM2_prep1_thumbnail_mask/CHATM2_slide102_2018_02_13-S3_prep1_thumbnail_mask.png\" -crop 799x567+540+106 \"/media/yuncong/BstemAtlasData/CSHL_data_processed/CHATM2/CHATM2_prep2_thumbnail_mask/CHATM2_slide102_2018_02_13-S3_prep2_thumbnail_mask.png\"\n",
      "0\n",
      "convert \"/media/yuncong/BstemAtlasData/CSHL_data_processed/CHATM2/CHATM2_prep1_thumbnail_mask/CHATM2_slide104_2018_02_13-S1_prep1_thumbnail_mask.png\" -crop 799x567+540+106 \"/media/yuncong/BstemAtlasData/CSHL_data_processed/CHATM2/CHATM2_prep2_thumbnail_mask/CHATM2_slide104_2018_02_13-S1_prep2_thumbnail_mask.png\"\n",
      "0\n",
      "convert \"/media/yuncong/BstemAtlasData/CSHL_data_processed/CHATM2/CHATM2_prep1_thumbnail_mask/CHATM2_slide104_2018_02_13-S2_prep1_thumbnail_mask.png\" -crop 799x567+540+106 \"/media/yuncong/BstemAtlasData/CSHL_data_processed/CHATM2/CHATM2_prep2_thumbnail_mask/CHATM2_slide104_2018_02_13-S2_prep2_thumbnail_mask.png\"\n",
      "0\n"
     ]
    },
    {
     "name": "stderr",
     "output_type": "stream",
     "text": [
      "done in 14.494701 seconds\n"
     ]
    }
   ],
   "source": [
    "t = time.time()\n",
    "sys.stderr.write('cropping thumbnail mask...')\n",
    "\n",
    "# for fn in valid_filenames:\n",
    "for fn in metadata_cache['valid_filenames'][stack]:    \n",
    "    \n",
    "    execute_command('convert \\\"%(input_fp)s\\\" -crop %(w)dx%(h)d+%(x)d+%(y)d \\\"%(output_fp)s\\\"' % \\\n",
    "        {'stack': stack,\n",
    "        'input_fp': DataManager.get_image_filepath_v2(stack=stack, prep_id=1, fn=fn, resol='thumbnail', version='mask', ext='png'),\n",
    "        'output_fp': DataManager.get_image_filepath_v2(stack=stack, prep_id=2, fn=fn, resol='thumbnail', version='mask', ext='png'),\n",
    "        'w':xmax+1-xmin, 'h':ymax+1-ymin, 'x':xmin, 'y':ymin})\n",
    "\n",
    "sys.stderr.write('done in %f seconds\\n' % (time.time() - t)) # 70s (aws)"
   ]
  },
  {
   "cell_type": "code",
   "execution_count": 121,
   "metadata": {
    "collapsed": true
   },
   "outputs": [],
   "source": [
    "# t = time.time()\n",
    "# sys.stderr.write('cropping thumbnail mask...')\n",
    "\n",
    "# execute_command('mogrify -set filename:name %%t -crop %(w)dx%(h)d+%(x)d+%(y)d -write \\\"%(output_dir)s/%%[filename:name]_cropped.png\\\" \\\"%(input_dir)s/*.png\\\"' % \\\n",
    "#     {'stack': stack,\n",
    "#     'input_dir': input_dir,\n",
    "#     'output_dir': output_dir,\n",
    "#     'w':xmax+1-xmin, 'h':ymax+1-ymin, 'x':xmin, 'y':ymin})\n",
    "\n",
    "# sys.stderr.write('done in %f seconds\\n' % (time.time() - t)) # 70s (aws)"
   ]
  },
  {
   "cell_type": "code",
   "execution_count": 12,
   "metadata": {},
   "outputs": [
    {
     "name": "stdout",
     "output_type": "stream",
     "text": [
      "aws s3 cp --recursive \"/media/yuncong/BstemAtlasData/CSHL_data_processed/CHATM2/CHATM2_prep2_thumbnail_mask\" \"s3://mousebrainatlas-data/CSHL_data_processed/CHATM2/CHATM2_prep2_thumbnail_mask\"\n",
      "0\n"
     ]
    }
   ],
   "source": [
    "upload_to_s3(output_dir, is_dir=True)"
   ]
  },
  {
   "cell_type": "markdown",
   "metadata": {
    "collapsed": true
   },
   "source": [
    "- Run `extract_test_features_cnn.ipynb` on workstation.\n",
    "- Upload to extracted features to S3.\n",
    "- Continue with `learning/pipeline_aws.ipynb`"
   ]
  }
 ],
 "metadata": {
  "kernelspec": {
   "display_name": "Python 2",
   "language": "python",
   "name": "python2"
  },
  "language_info": {
   "codemirror_mode": {
    "name": "ipython",
    "version": 2
   },
   "file_extension": ".py",
   "mimetype": "text/x-python",
   "name": "python",
   "nbconvert_exporter": "python",
   "pygments_lexer": "ipython2",
   "version": "2.7.12"
  }
 },
 "nbformat": 4,
 "nbformat_minor": 2
}
