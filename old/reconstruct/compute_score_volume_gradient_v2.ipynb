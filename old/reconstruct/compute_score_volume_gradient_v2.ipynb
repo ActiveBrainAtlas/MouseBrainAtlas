{
 "cells": [
  {
   "cell_type": "code",
   "execution_count": 1,
   "metadata": {},
   "outputs": [
    {
     "name": "stdout",
     "output_type": "stream",
     "text": [
      "Setting environment for Precision WorkStation\n"
     ]
    },
    {
     "name": "stderr",
     "output_type": "stream",
     "text": [
      "No vtk\n"
     ]
    }
   ],
   "source": [
    "%load_ext autoreload\n",
    "%autoreload 2\n",
    "\n",
    "import sys\n",
    "import os\n",
    "import time\n",
    "\n",
    "from multiprocess import Pool\n",
    "import numpy as np\n",
    "\n",
    "sys.path.append(os.path.join(os.environ['REPO_DIR'], 'utilities'))\n",
    "from utilities2015 import *\n",
    "from metadata import *\n",
    "from data_manager import *"
   ]
  },
  {
   "cell_type": "code",
   "execution_count": null,
   "metadata": {
    "collapsed": true
   },
   "outputs": [],
   "source": [
    "# for name_u in all_known_structures:\n",
    "# for name_u in ['RMC',\n",
    "#  'SNC',\n",
    "#  'SNR',\n",
    "#  '3N',\n",
    "#  '4N',\n",
    "#  'Sp5I',\n",
    "#  'Sp5O',\n",
    "#  'Sp5C',\n",
    "#  'PBG',\n",
    "#  '10N',\n",
    "#  'VCA',\n",
    "#  'VCP',\n",
    "#  'DC',\n",
    "#  'AP',\n",
    "#  '12N',\n",
    "#  'RtTg',\n",
    "#  'SC',\n",
    "#  'IC']:\n",
    "    \n",
    "for name_u in ['7N']:\n",
    "    brain_spec = dict(name='CHATM3',\n",
    "                   vol_type='score',\n",
    "                    detector_id=799,\n",
    "                   resolution='10.0um')\n",
    "    \n",
    "    brain = DataManager.load_original_volume_v2(stack_spec=brain_spec, structure=name_u, resolution=None, \n",
    "                                        bbox_wrt='wholebrain')\n",
    "    \n",
    "    gradients = compute_gradient_v2(brain, smooth_first=True)\n",
    "    \n",
    "    DataManager.save_volume_gradients(gradients, stack_spec=brain_spec, structure=name_u)"
   ]
  }
 ],
 "metadata": {
  "kernelspec": {
   "display_name": "Python 2",
   "language": "python",
   "name": "python2"
  },
  "language_info": {
   "codemirror_mode": {
    "name": "ipython",
    "version": 2
   },
   "file_extension": ".py",
   "mimetype": "text/x-python",
   "name": "python",
   "nbconvert_exporter": "python",
   "pygments_lexer": "ipython2",
   "version": "2.7.12"
  }
 },
 "nbformat": 4,
 "nbformat_minor": 2
}
