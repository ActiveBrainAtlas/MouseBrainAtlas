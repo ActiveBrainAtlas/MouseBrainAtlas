{
 "cells": [
  {
   "cell_type": "code",
   "execution_count": 1,
   "metadata": {
    "scrolled": true
   },
   "outputs": [
    {
     "name": "stdout",
     "output_type": "stream",
     "text": [
      "Setting environment for Precision WorkStation\n",
      "rm -rf \"/media/yuncong/BstemAtlasData/CSHL_data_processed/MD585/MD585_sorted_filenames.txt\" && mkdir -p \"/media/yuncong/BstemAtlasData/CSHL_data_processed/MD585\"\n",
      "aws s3 cp \"s3://mousebrainatlas-data/CSHL_data_processed/MD585/MD585_sorted_filenames.txt\" \"/media/yuncong/BstemAtlasData/CSHL_data_processed/MD585/MD585_sorted_filenames.txt\"\n"
     ]
    },
    {
     "name": "stderr",
     "output_type": "stream",
     "text": [
      "No vtk\n",
      "No vtk"
     ]
    }
   ],
   "source": [
    "%load_ext autoreload\n",
    "%autoreload 2\n",
    "\n",
    "import os\n",
    "import time\n",
    "import sys\n",
    "\n",
    "sys.path.append(os.path.join(os.environ['REPO_DIR'], 'utilities'))\n",
    "from utilities2015 import *\n",
    "from metadata import *\n",
    "from data_manager import *\n",
    "from distributed_utilities import *\n",
    "from preprocess_utilities import *"
   ]
  },
  {
   "cell_type": "markdown",
   "metadata": {},
   "source": [
    "- After receiving data of a new stack, put images and macros in corresponding folder.\n",
    "- Add the stack name to proper variables in `metadata.txt`."
   ]
  },
  {
   "cell_type": "code",
   "execution_count": 2,
   "metadata": {
    "collapsed": true
   },
   "outputs": [],
   "source": [
    "stack = 'MD585'\n",
    "# stack = 'ChatCryoJane201710'"
   ]
  },
  {
   "cell_type": "code",
   "execution_count": 3,
   "metadata": {
    "collapsed": true
   },
   "outputs": [],
   "source": [
    "# tb_fmt = 'png'\n",
    "tb_fmt = 'tif'"
   ]
  },
  {
   "cell_type": "markdown",
   "metadata": {},
   "source": [
    "- Use GUI, quality check and sort images.\n",
    "- Upload `sorted_filenames.txt` to S3"
   ]
  },
  {
   "cell_type": "code",
   "execution_count": 9,
   "metadata": {
    "collapsed": true
   },
   "outputs": [],
   "source": [
    "# transfer_data_synced(os.path.join('CSHL_data', stack), \n",
    "#                      from_hostname='s3raw', to_hostname='ec2', is_dir=True, include_only='*.'+tb_fmt)"
   ]
  },
  {
   "cell_type": "code",
   "execution_count": 7,
   "metadata": {},
   "outputs": [
    {
     "name": "stdout",
     "output_type": "stream",
     "text": [
      "rm -rf \"/media/yuncong/BstemAtlasData/CSHL_data_processed/MD585/MD585_sorted_filenames.txt\" && mkdir -p \"/media/yuncong/BstemAtlasData/CSHL_data_processed/MD585\"\n",
      "aws s3 cp \"s3:///media/yuncong/BstemAtlasData/CSHL_data_processed/MD585/MD585_sorted_filenames.txt\" \"/media/yuncong/BstemAtlasData/CSHL_data_processed/MD585/MD585_sorted_filenames.txt\"\n"
     ]
    }
   ],
   "source": [
    "transfer_data_synced(DataManager.get_sorted_filenames_filename(stack=stack), \n",
    "                     from_hostname='s3', to_hostname='ec2', is_dir=False)"
   ]
  },
  {
   "cell_type": "markdown",
   "metadata": {},
   "source": [
    "# Crop"
   ]
  },
  {
   "cell_type": "code",
   "execution_count": 146,
   "metadata": {},
   "outputs": [
    {
     "name": "stdout",
     "output_type": "stream",
     "text": [
      "rm -rf \"/shared/CSHL_data_processed/MD661/MD661_alignedTo_MD662&661-F116-2017.06.07-04.39.41_MD661_1_0346_cropbox.txt\" && mkdir -p \"/shared/CSHL_data_processed/MD661\"\n",
      "aws s3 cp \"s3://mousebrainatlas-data/CSHL_data_processed/MD661/MD661_alignedTo_MD662&661-F116-2017.06.07-04.39.41_MD661_1_0346_cropbox.txt\" \"/shared/CSHL_data_processed/MD661/MD661_alignedTo_MD662&661-F116-2017.06.07-04.39.41_MD661_1_0346_cropbox.txt\"\n"
     ]
    }
   ],
   "source": [
    "# stack = 'MD661'\n",
    "# download_from_s3(DataManager.get_cropbox_filename(stack), redownload=True)"
   ]
  },
  {
   "cell_type": "code",
   "execution_count": 7,
   "metadata": {
    "scrolled": true
   },
   "outputs": [
    {
     "name": "stdout",
     "output_type": "stream",
     "text": [
      "rm -rf \"/shared/CSHL_data_processed/MD585/MD585_alignedTo_MD585-N47-2015.07.16-22.50.52_MD585_3_0141_cropbox_thalamus.txt\" && mkdir -p \"/shared/CSHL_data_processed/MD585\"\n",
      "aws s3 cp \"s3://mousebrainatlas-data/CSHL_data_processed/MD585/MD585_alignedTo_MD585-N47-2015.07.16-22.50.52_MD585_3_0141_cropbox_thalamus.txt\" \"/shared/CSHL_data_processed/MD585/MD585_alignedTo_MD585-N47-2015.07.16-22.50.52_MD585_3_0141_cropbox_thalamus.txt\"\n",
      "433 203 277 219\n"
     ]
    }
   ],
   "source": [
    "xmin, xmax, ymin, ymax, first_sec, last_sec = DataManager.load_cropbox_thalamus(stack=stack)\n",
    "w = xmax + 1 - xmin\n",
    "h = ymax + 1 - ymin\n",
    "x = xmin\n",
    "y = ymin\n",
    "\n",
    "print x,y,w,h"
   ]
  },
  {
   "cell_type": "markdown",
   "metadata": {},
   "source": [
    "# Crop Thumbnail"
   ]
  },
  {
   "cell_type": "code",
   "execution_count": 9,
   "metadata": {},
   "outputs": [
    {
     "name": "stdout",
     "output_type": "stream",
     "text": [
      "rm -rf \"/shared/CSHL_data_processed/MD585/MD585_prep1_thumbnail\" && mkdir -p \"/shared/CSHL_data_processed/MD585\"\n",
      "aws s3 cp --recursive \"s3://mousebrainatlas-data/CSHL_data_processed/MD585/MD585_prep1_thumbnail\" \"/shared/CSHL_data_processed/MD585/MD585_prep1_thumbnail\"\n",
      "rm -r /shared/CSHL_data_processed/MD585/MD585_prep3_thumbnail\n",
      "mkdir -p /shared/CSHL_data_processed/MD585/MD585_prep3_thumbnail\n"
     ]
    }
   ],
   "source": [
    "input_dir = DataManager.get_image_dir_v2(stack=stack, prep_id=1, resol='thumbnail')\n",
    "download_from_s3(input_dir, is_dir=True, local_root=DATA_ROOTDIR)\n",
    "\n",
    "# prep=3 for cropping of thalamus\n",
    "output_dir = DataManager.get_image_dir_v2(stack=stack, prep_id=3, resol='thumbnail')\n",
    "\n",
    "execute_command('rm -r ' + output_dir);\n",
    "execute_command('mkdir -p ' + output_dir);"
   ]
  },
  {
   "cell_type": "code",
   "execution_count": 10,
   "metadata": {
    "collapsed": true
   },
   "outputs": [],
   "source": [
    "_, sections_to_filenames = DataManager.load_sorted_filenames(stack=stack) \n",
    "valid_filenames = [fn for fn in sections_to_filenames.values() if not is_invalid(fn=fn)]"
   ]
  },
  {
   "cell_type": "code",
   "execution_count": 11,
   "metadata": {
    "scrolled": true
   },
   "outputs": [
    {
     "name": "stderr",
     "output_type": "stream",
     "text": [
      "cropping thumbnail..."
     ]
    },
    {
     "name": "stdout",
     "output_type": "stream",
     "text": [
      "convert \"/shared/CSHL_data_processed/MD585/MD585_prep1_thumbnail/MD585-N3-2015.07.16-19.48.34_MD585_1_0007_prep1_thumbnail.tif\" -crop 277x219+433+203  \"/shared/CSHL_data_processed/MD585/MD585_prep3_thumbnail/MD585-N3-2015.07.16-19.48.34_MD585_1_0007_prep3_thumbnail.tif\"\n",
      "convert \"/shared/CSHL_data_processed/MD585/MD585_prep1_thumbnail/MD585-IHC3-2015.07.16-15.26.44_MD585_1_0007_prep1_thumbnail.tif\" -crop 277x219+433+203  \"/shared/CSHL_data_processed/MD585/MD585_prep3_thumbnail/MD585-IHC3-2015.07.16-15.26.44_MD585_1_0007_prep3_thumbnail.tif\"\n",
      "convert \"/shared/CSHL_data_processed/MD585/MD585_prep1_thumbnail/MD585-N3-2015.07.16-19.48.34_MD585_2_0008_prep1_thumbnail.tif\" -crop 277x219+433+203  \"/shared/CSHL_data_processed/MD585/MD585_prep3_thumbnail/MD585-N3-2015.07.16-19.48.34_MD585_2_0008_prep3_thumbnail.tif\"\n",
      "convert \"/shared/CSHL_data_processed/MD585/MD585_prep1_thumbnail/MD585-IHC3-2015.07.16-15.26.44_MD585_2_0008_prep1_thumbnail.tif\" -crop 277x219+433+203  \"/shared/CSHL_data_processed/MD585/MD585_prep3_thumbnail/MD585-IHC3-2015.07.16-15.26.44_MD585_2_0008_prep3_thumbnail.tif\"\n",
      "convert \"/shared/CSHL_data_processed/MD585/MD585_prep1_thumbnail/MD585-N4-2015.07.16-19.50.10_MD585_1_0010_prep1_thumbnail.tif\" -crop 277x219+433+203  \"/shared/CSHL_data_processed/MD585/MD585_prep3_thumbnail/MD585-N4-2015.07.16-19.50.10_MD585_1_0010_prep3_thumbnail.tif\"\n",
      "convert \"/shared/CSHL_data_processed/MD585/MD585_prep1_thumbnail/MD585-N4-2015.07.16-19.50.10_MD585_2_0011_prep1_thumbnail.tif\" -crop 277x219+433+203  \"/shared/CSHL_data_processed/MD585/MD585_prep3_thumbnail/MD585-N4-2015.07.16-19.50.10_MD585_2_0011_prep3_thumbnail.tif\"\n",
      "convert \"/shared/CSHL_data_processed/MD585/MD585_prep1_thumbnail/MD585-IHC4-2015.07.18-07.01.12_MD585_1_0010_prep1_thumbnail.tif\" -crop 277x219+433+203  \"/shared/CSHL_data_processed/MD585/MD585_prep3_thumbnail/MD585-IHC4-2015.07.18-07.01.12_MD585_1_0010_prep3_thumbnail.tif\"\n",
      "convert \"/shared/CSHL_data_processed/MD585/MD585_prep1_thumbnail/MD585-N4-2015.07.16-19.50.10_MD585_3_0012_prep1_thumbnail.tif\" -crop 277x219+433+203  \"/shared/CSHL_data_processed/MD585/MD585_prep3_thumbnail/MD585-N4-2015.07.16-19.50.10_MD585_3_0012_prep3_thumbnail.tif\"\n",
      "convert \"/shared/CSHL_data_processed/MD585/MD585_prep1_thumbnail/MD585-IHC4-2015.07.18-07.01.12_MD585_2_0011_prep1_thumbnail.tif\" -crop 277x219+433+203  \"/shared/CSHL_data_processed/MD585/MD585_prep3_thumbnail/MD585-IHC4-2015.07.18-07.01.12_MD585_2_0011_prep3_thumbnail.tif\"\n",
      "convert \"/shared/CSHL_data_processed/MD585/MD585_prep1_thumbnail/MD585-N5-2015.07.16-19.53.21_MD585_1_0013_prep1_thumbnail.tif\" -crop 277x219+433+203  \"/shared/CSHL_data_processed/MD585/MD585_prep3_thumbnail/MD585-N5-2015.07.16-19.53.21_MD585_1_0013_prep3_thumbnail.tif\"\n",
      "convert \"/shared/CSHL_data_processed/MD585/MD585_prep1_thumbnail/MD585-IHC5-2015.07.18-07.03.14_MD585_1_0013_prep1_thumbnail.tif\" -crop 277x219+433+203  \"/shared/CSHL_data_processed/MD585/MD585_prep3_thumbnail/MD585-IHC5-2015.07.18-07.03.14_MD585_1_0013_prep3_thumbnail.tif\"\n",
      "convert \"/shared/CSHL_data_processed/MD585/MD585_prep1_thumbnail/MD585-N5-2015.07.16-19.53.21_MD585_2_0014_prep1_thumbnail.tif\" -crop 277x219+433+203  \"/shared/CSHL_data_processed/MD585/MD585_prep3_thumbnail/MD585-N5-2015.07.16-19.53.21_MD585_2_0014_prep3_thumbnail.tif\"\n",
      "convert \"/shared/CSHL_data_processed/MD585/MD585_prep1_thumbnail/MD585-IHC5-2015.07.18-07.03.14_MD585_2_0014_prep1_thumbnail.tif\" -crop 277x219+433+203  \"/shared/CSHL_data_processed/MD585/MD585_prep3_thumbnail/MD585-IHC5-2015.07.18-07.03.14_MD585_2_0014_prep3_thumbnail.tif\"\n",
      "convert \"/shared/CSHL_data_processed/MD585/MD585_prep1_thumbnail/MD585-N5-2015.07.16-19.53.21_MD585_3_0015_prep1_thumbnail.tif\" -crop 277x219+433+203  \"/shared/CSHL_data_processed/MD585/MD585_prep3_thumbnail/MD585-N5-2015.07.16-19.53.21_MD585_3_0015_prep3_thumbnail.tif\"\n",
      "convert \"/shared/CSHL_data_processed/MD585/MD585_prep1_thumbnail/MD585-IHC5-2015.07.18-07.03.14_MD585_3_0015_prep1_thumbnail.tif\" -crop 277x219+433+203  \"/shared/CSHL_data_processed/MD585/MD585_prep3_thumbnail/MD585-IHC5-2015.07.18-07.03.14_MD585_3_0015_prep3_thumbnail.tif\"\n",
      "convert \"/shared/CSHL_data_processed/MD585/MD585_prep1_thumbnail/MD585-N6-2015.07.16-19.56.32_MD585_1_0016_prep1_thumbnail.tif\" -crop 277x219+433+203  \"/shared/CSHL_data_processed/MD585/MD585_prep3_thumbnail/MD585-N6-2015.07.16-19.56.32_MD585_1_0016_prep3_thumbnail.tif\"\n",
      "convert \"/shared/CSHL_data_processed/MD585/MD585_prep1_thumbnail/MD585-IHC6-2015.07.16-14.42.32_MD585_1_0016_prep1_thumbnail.tif\" -crop 277x219+433+203  \"/shared/CSHL_data_processed/MD585/MD585_prep3_thumbnail/MD585-IHC6-2015.07.16-14.42.32_MD585_1_0016_prep3_thumbnail.tif\"\n",
      "convert \"/shared/CSHL_data_processed/MD585/MD585_prep1_thumbnail/MD585-N6-2015.07.16-19.56.32_MD585_2_0017_prep1_thumbnail.tif\" -crop 277x219+433+203  \"/shared/CSHL_data_processed/MD585/MD585_prep3_thumbnail/MD585-N6-2015.07.16-19.56.32_MD585_2_0017_prep3_thumbnail.tif\"\n",
      "convert \"/shared/CSHL_data_processed/MD585/MD585_prep1_thumbnail/MD585-IHC6-2015.07.16-14.42.32_MD585_2_0017_prep1_thumbnail.tif\" -crop 277x219+433+203  \"/shared/CSHL_data_processed/MD585/MD585_prep3_thumbnail/MD585-IHC6-2015.07.16-14.42.32_MD585_2_0017_prep3_thumbnail.tif\"\n",
      "convert \"/shared/CSHL_data_processed/MD585/MD585_prep1_thumbnail/MD585-N6-2015.07.16-19.56.32_MD585_3_0018_prep1_thumbnail.tif\" -crop 277x219+433+203  \"/shared/CSHL_data_processed/MD585/MD585_prep3_thumbnail/MD585-N6-2015.07.16-19.56.32_MD585_3_0018_prep3_thumbnail.tif\"\n",
      "convert \"/shared/CSHL_data_processed/MD585/MD585_prep1_thumbnail/MD585-IHC6-2015.07.16-14.42.32_MD585_3_0018_prep1_thumbnail.tif\" -crop 277x219+433+203  \"/shared/CSHL_data_processed/MD585/MD585_prep3_thumbnail/MD585-IHC6-2015.07.16-14.42.32_MD585_3_0018_prep3_thumbnail.tif\"\n",
      "convert \"/shared/CSHL_data_processed/MD585/MD585_prep1_thumbnail/MD585-N7-2015.07.30-14.44.48_MD585_1_0019_prep1_thumbnail.tif\" -crop 277x219+433+203  \"/shared/CSHL_data_processed/MD585/MD585_prep3_thumbnail/MD585-N7-2015.07.30-14.44.48_MD585_1_0019_prep3_thumbnail.tif\"\n",
      "convert \"/shared/CSHL_data_processed/MD585/MD585_prep1_thumbnail/MD585-IHC7-2015.07.30-15.58.19_MD585_1_0019_prep1_thumbnail.tif\" -crop 277x219+433+203  \"/shared/CSHL_data_processed/MD585/MD585_prep3_thumbnail/MD585-IHC7-2015.07.30-15.58.19_MD585_1_0019_prep3_thumbnail.tif\"\n",
      "convert \"/shared/CSHL_data_processed/MD585/MD585_prep1_thumbnail/MD585-N7-2015.07.30-14.44.48_MD585_2_0020_prep1_thumbnail.tif\" -crop 277x219+433+203  \"/shared/CSHL_data_processed/MD585/MD585_prep3_thumbnail/MD585-N7-2015.07.30-14.44.48_MD585_2_0020_prep3_thumbnail.tif\"\n",
      "convert \"/shared/CSHL_data_processed/MD585/MD585_prep1_thumbnail/MD585-IHC7-2015.07.30-15.58.19_MD585_2_0020_prep1_thumbnail.tif\" -crop 277x219+433+203  \"/shared/CSHL_data_processed/MD585/MD585_prep3_thumbnail/MD585-IHC7-2015.07.30-15.58.19_MD585_2_0020_prep3_thumbnail.tif\"\n",
      "convert \"/shared/CSHL_data_processed/MD585/MD585_prep1_thumbnail/MD585-N7-2015.07.30-14.44.48_MD585_3_0021_prep1_thumbnail.tif\" -crop 277x219+433+203  \"/shared/CSHL_data_processed/MD585/MD585_prep3_thumbnail/MD585-N7-2015.07.30-14.44.48_MD585_3_0021_prep3_thumbnail.tif\"\n",
      "convert \"/shared/CSHL_data_processed/MD585/MD585_prep1_thumbnail/MD585-IHC7-2015.07.30-15.58.19_MD585_3_0021_prep1_thumbnail.tif\" -crop 277x219+433+203  \"/shared/CSHL_data_processed/MD585/MD585_prep3_thumbnail/MD585-IHC7-2015.07.30-15.58.19_MD585_3_0021_prep3_thumbnail.tif\"\n",
      "convert \"/shared/CSHL_data_processed/MD585/MD585_prep1_thumbnail/MD585-N8-2015.07.16-20.04.27_MD585_1_0022_prep1_thumbnail.tif\" -crop 277x219+433+203  \"/shared/CSHL_data_processed/MD585/MD585_prep3_thumbnail/MD585-N8-2015.07.16-20.04.27_MD585_1_0022_prep3_thumbnail.tif\"\n",
      "convert \"/shared/CSHL_data_processed/MD585/MD585_prep1_thumbnail/MD585-IHC8-2015.07.16-14.49.14_MD585_1_0022_prep1_thumbnail.tif\" -crop 277x219+433+203  \"/shared/CSHL_data_processed/MD585/MD585_prep3_thumbnail/MD585-IHC8-2015.07.16-14.49.14_MD585_1_0022_prep3_thumbnail.tif\"\n",
      "convert \"/shared/CSHL_data_processed/MD585/MD585_prep1_thumbnail/MD585-N8-2015.07.16-20.04.27_MD585_2_0023_prep1_thumbnail.tif\" -crop 277x219+433+203  \"/shared/CSHL_data_processed/MD585/MD585_prep3_thumbnail/MD585-N8-2015.07.16-20.04.27_MD585_2_0023_prep3_thumbnail.tif\"\n",
      "convert \"/shared/CSHL_data_processed/MD585/MD585_prep1_thumbnail/MD585-IHC8-2015.07.16-14.49.14_MD585_2_0023_prep1_thumbnail.tif\" -crop 277x219+433+203  \"/shared/CSHL_data_processed/MD585/MD585_prep3_thumbnail/MD585-IHC8-2015.07.16-14.49.14_MD585_2_0023_prep3_thumbnail.tif\"\n",
      "convert \"/shared/CSHL_data_processed/MD585/MD585_prep1_thumbnail/MD585-N8-2015.07.16-20.04.27_MD585_3_0024_prep1_thumbnail.tif\" -crop 277x219+433+203  \"/shared/CSHL_data_processed/MD585/MD585_prep3_thumbnail/MD585-N8-2015.07.16-20.04.27_MD585_3_0024_prep3_thumbnail.tif\"\n",
      "convert \"/shared/CSHL_data_processed/MD585/MD585_prep1_thumbnail/MD585-IHC8-2015.07.16-14.49.14_MD585_3_0024_prep1_thumbnail.tif\" -crop 277x219+433+203  \"/shared/CSHL_data_processed/MD585/MD585_prep3_thumbnail/MD585-IHC8-2015.07.16-14.49.14_MD585_3_0024_prep3_thumbnail.tif\"\n",
      "convert \"/shared/CSHL_data_processed/MD585/MD585_prep1_thumbnail/MD585-N9-2015.07.16-20.07.50_MD585_1_0025_prep1_thumbnail.tif\" -crop 277x219+433+203  \"/shared/CSHL_data_processed/MD585/MD585_prep3_thumbnail/MD585-N9-2015.07.16-20.07.50_MD585_1_0025_prep3_thumbnail.tif\"\n",
      "convert \"/shared/CSHL_data_processed/MD585/MD585_prep1_thumbnail/MD585-IHC9-2015.07.16-14.52.36_MD585_1_0025_prep1_thumbnail.tif\" -crop 277x219+433+203  \"/shared/CSHL_data_processed/MD585/MD585_prep3_thumbnail/MD585-IHC9-2015.07.16-14.52.36_MD585_1_0025_prep3_thumbnail.tif\"\n",
      "convert \"/shared/CSHL_data_processed/MD585/MD585_prep1_thumbnail/MD585-N9-2015.07.16-20.07.50_MD585_2_0026_prep1_thumbnail.tif\" -crop 277x219+433+203  \"/shared/CSHL_data_processed/MD585/MD585_prep3_thumbnail/MD585-N9-2015.07.16-20.07.50_MD585_2_0026_prep3_thumbnail.tif\"\n",
      "convert \"/shared/CSHL_data_processed/MD585/MD585_prep1_thumbnail/MD585-IHC9-2015.07.16-14.52.36_MD585_2_0026_prep1_thumbnail.tif\" -crop 277x219+433+203  \"/shared/CSHL_data_processed/MD585/MD585_prep3_thumbnail/MD585-IHC9-2015.07.16-14.52.36_MD585_2_0026_prep3_thumbnail.tif\"\n",
      "convert \"/shared/CSHL_data_processed/MD585/MD585_prep1_thumbnail/MD585-N9-2015.07.16-20.07.50_MD585_3_0027_prep1_thumbnail.tif\" -crop 277x219+433+203  \"/shared/CSHL_data_processed/MD585/MD585_prep3_thumbnail/MD585-N9-2015.07.16-20.07.50_MD585_3_0027_prep3_thumbnail.tif\"\n",
      "convert \"/shared/CSHL_data_processed/MD585/MD585_prep1_thumbnail/MD585-IHC9-2015.07.16-14.52.36_MD585_3_0027_prep1_thumbnail.tif\" -crop 277x219+433+203  \"/shared/CSHL_data_processed/MD585/MD585_prep3_thumbnail/MD585-IHC9-2015.07.16-14.52.36_MD585_3_0027_prep3_thumbnail.tif\"\n",
      "convert \"/shared/CSHL_data_processed/MD585/MD585_prep1_thumbnail/MD585-N10-2015.07.16-20.11.10_MD585_1_0028_prep1_thumbnail.tif\" -crop 277x219+433+203  \"/shared/CSHL_data_processed/MD585/MD585_prep3_thumbnail/MD585-N10-2015.07.16-20.11.10_MD585_1_0028_prep3_thumbnail.tif\"\n"
     ]
    },
    {
     "name": "stdout",
     "output_type": "stream",
     "text": [
      "convert \"/shared/CSHL_data_processed/MD585/MD585_prep1_thumbnail/MD585-IHC10-2015.07.16-14.55.58_MD585_1_0028_prep1_thumbnail.tif\" -crop 277x219+433+203  \"/shared/CSHL_data_processed/MD585/MD585_prep3_thumbnail/MD585-IHC10-2015.07.16-14.55.58_MD585_1_0028_prep3_thumbnail.tif\"\n",
      "convert \"/shared/CSHL_data_processed/MD585/MD585_prep1_thumbnail/MD585-N10-2015.07.16-20.11.10_MD585_2_0029_prep1_thumbnail.tif\" -crop 277x219+433+203  \"/shared/CSHL_data_processed/MD585/MD585_prep3_thumbnail/MD585-N10-2015.07.16-20.11.10_MD585_2_0029_prep3_thumbnail.tif\"\n",
      "convert \"/shared/CSHL_data_processed/MD585/MD585_prep1_thumbnail/MD585-IHC10-2015.07.16-14.55.58_MD585_2_0029_prep1_thumbnail.tif\" -crop 277x219+433+203  \"/shared/CSHL_data_processed/MD585/MD585_prep3_thumbnail/MD585-IHC10-2015.07.16-14.55.58_MD585_2_0029_prep3_thumbnail.tif\"\n",
      "convert \"/shared/CSHL_data_processed/MD585/MD585_prep1_thumbnail/MD585-N10-2015.07.16-20.11.10_MD585_3_0030_prep1_thumbnail.tif\" -crop 277x219+433+203  \"/shared/CSHL_data_processed/MD585/MD585_prep3_thumbnail/MD585-N10-2015.07.16-20.11.10_MD585_3_0030_prep3_thumbnail.tif\"\n",
      "convert \"/shared/CSHL_data_processed/MD585/MD585_prep1_thumbnail/MD585-IHC10-2015.07.16-14.55.58_MD585_3_0030_prep1_thumbnail.tif\" -crop 277x219+433+203  \"/shared/CSHL_data_processed/MD585/MD585_prep3_thumbnail/MD585-IHC10-2015.07.16-14.55.58_MD585_3_0030_prep3_thumbnail.tif\"\n",
      "convert \"/shared/CSHL_data_processed/MD585/MD585_prep1_thumbnail/MD585-N11-2015.07.16-20.14.31_MD585_1_0031_prep1_thumbnail.tif\" -crop 277x219+433+203  \"/shared/CSHL_data_processed/MD585/MD585_prep3_thumbnail/MD585-N11-2015.07.16-20.14.31_MD585_1_0031_prep3_thumbnail.tif\"\n",
      "convert \"/shared/CSHL_data_processed/MD585/MD585_prep1_thumbnail/MD585-IHC11-2015.07.16-14.59.21_MD585_1_0031_prep1_thumbnail.tif\" -crop 277x219+433+203  \"/shared/CSHL_data_processed/MD585/MD585_prep3_thumbnail/MD585-IHC11-2015.07.16-14.59.21_MD585_1_0031_prep3_thumbnail.tif\"\n",
      "convert \"/shared/CSHL_data_processed/MD585/MD585_prep1_thumbnail/MD585-N11-2015.07.16-20.14.31_MD585_2_0032_prep1_thumbnail.tif\" -crop 277x219+433+203  \"/shared/CSHL_data_processed/MD585/MD585_prep3_thumbnail/MD585-N11-2015.07.16-20.14.31_MD585_2_0032_prep3_thumbnail.tif\"\n",
      "convert \"/shared/CSHL_data_processed/MD585/MD585_prep1_thumbnail/MD585-IHC11-2015.07.16-14.59.21_MD585_2_0032_prep1_thumbnail.tif\" -crop 277x219+433+203  \"/shared/CSHL_data_processed/MD585/MD585_prep3_thumbnail/MD585-IHC11-2015.07.16-14.59.21_MD585_2_0032_prep3_thumbnail.tif\"\n",
      "convert \"/shared/CSHL_data_processed/MD585/MD585_prep1_thumbnail/MD585-N11-2015.07.16-20.14.31_MD585_3_0033_prep1_thumbnail.tif\" -crop 277x219+433+203  \"/shared/CSHL_data_processed/MD585/MD585_prep3_thumbnail/MD585-N11-2015.07.16-20.14.31_MD585_3_0033_prep3_thumbnail.tif\"\n",
      "convert \"/shared/CSHL_data_processed/MD585/MD585_prep1_thumbnail/MD585-IHC11-2015.07.16-14.59.21_MD585_3_0033_prep1_thumbnail.tif\" -crop 277x219+433+203  \"/shared/CSHL_data_processed/MD585/MD585_prep3_thumbnail/MD585-IHC11-2015.07.16-14.59.21_MD585_3_0033_prep3_thumbnail.tif\"\n",
      "convert \"/shared/CSHL_data_processed/MD585/MD585_prep1_thumbnail/MD585-N12-2015.07.16-20.17.57_MD585_1_0034_prep1_thumbnail.tif\" -crop 277x219+433+203  \"/shared/CSHL_data_processed/MD585/MD585_prep3_thumbnail/MD585-N12-2015.07.16-20.17.57_MD585_1_0034_prep3_thumbnail.tif\"\n",
      "convert \"/shared/CSHL_data_processed/MD585/MD585_prep1_thumbnail/MD585-IHC12-2015.07.16-15.02.57_MD585_1_0034_prep1_thumbnail.tif\" -crop 277x219+433+203  \"/shared/CSHL_data_processed/MD585/MD585_prep3_thumbnail/MD585-IHC12-2015.07.16-15.02.57_MD585_1_0034_prep3_thumbnail.tif\"\n",
      "convert \"/shared/CSHL_data_processed/MD585/MD585_prep1_thumbnail/MD585-N12-2015.07.16-20.17.57_MD585_2_0035_prep1_thumbnail.tif\" -crop 277x219+433+203  \"/shared/CSHL_data_processed/MD585/MD585_prep3_thumbnail/MD585-N12-2015.07.16-20.17.57_MD585_2_0035_prep3_thumbnail.tif\"\n",
      "convert \"/shared/CSHL_data_processed/MD585/MD585_prep1_thumbnail/MD585-IHC12-2015.07.16-15.02.57_MD585_2_0035_prep1_thumbnail.tif\" -crop 277x219+433+203  \"/shared/CSHL_data_processed/MD585/MD585_prep3_thumbnail/MD585-IHC12-2015.07.16-15.02.57_MD585_2_0035_prep3_thumbnail.tif\"\n",
      "convert \"/shared/CSHL_data_processed/MD585/MD585_prep1_thumbnail/MD585-N12-2015.07.16-20.17.57_MD585_3_0036_prep1_thumbnail.tif\" -crop 277x219+433+203  \"/shared/CSHL_data_processed/MD585/MD585_prep3_thumbnail/MD585-N12-2015.07.16-20.17.57_MD585_3_0036_prep3_thumbnail.tif\"\n",
      "convert \"/shared/CSHL_data_processed/MD585/MD585_prep1_thumbnail/MD585-IHC12-2015.07.16-15.02.57_MD585_3_0036_prep1_thumbnail.tif\" -crop 277x219+433+203  \"/shared/CSHL_data_processed/MD585/MD585_prep3_thumbnail/MD585-IHC12-2015.07.16-15.02.57_MD585_3_0036_prep3_thumbnail.tif\"\n",
      "convert \"/shared/CSHL_data_processed/MD585/MD585_prep1_thumbnail/MD585-N13-2015.07.16-20.21.30_MD585_1_0037_prep1_thumbnail.tif\" -crop 277x219+433+203  \"/shared/CSHL_data_processed/MD585/MD585_prep3_thumbnail/MD585-N13-2015.07.16-20.21.30_MD585_1_0037_prep3_thumbnail.tif\"\n",
      "convert \"/shared/CSHL_data_processed/MD585/MD585_prep1_thumbnail/MD585-IHC13-2015.07.30-16.01.36_MD585_1_0037_prep1_thumbnail.tif\" -crop 277x219+433+203  \"/shared/CSHL_data_processed/MD585/MD585_prep3_thumbnail/MD585-IHC13-2015.07.30-16.01.36_MD585_1_0037_prep3_thumbnail.tif\"\n",
      "convert \"/shared/CSHL_data_processed/MD585/MD585_prep1_thumbnail/MD585-N13-2015.07.16-20.21.30_MD585_2_0038_prep1_thumbnail.tif\" -crop 277x219+433+203  \"/shared/CSHL_data_processed/MD585/MD585_prep3_thumbnail/MD585-N13-2015.07.16-20.21.30_MD585_2_0038_prep3_thumbnail.tif\"\n",
      "convert \"/shared/CSHL_data_processed/MD585/MD585_prep1_thumbnail/MD585-IHC13-2015.07.30-16.01.36_MD585_2_0038_prep1_thumbnail.tif\" -crop 277x219+433+203  \"/shared/CSHL_data_processed/MD585/MD585_prep3_thumbnail/MD585-IHC13-2015.07.30-16.01.36_MD585_2_0038_prep3_thumbnail.tif\"\n",
      "convert \"/shared/CSHL_data_processed/MD585/MD585_prep1_thumbnail/MD585-N13-2015.07.16-20.21.30_MD585_3_0039_prep1_thumbnail.tif\" -crop 277x219+433+203  \"/shared/CSHL_data_processed/MD585/MD585_prep3_thumbnail/MD585-N13-2015.07.16-20.21.30_MD585_3_0039_prep3_thumbnail.tif\"\n",
      "convert \"/shared/CSHL_data_processed/MD585/MD585_prep1_thumbnail/MD585-IHC13-2015.07.30-16.01.36_MD585_3_0039_prep1_thumbnail.tif\" -crop 277x219+433+203  \"/shared/CSHL_data_processed/MD585/MD585_prep3_thumbnail/MD585-IHC13-2015.07.30-16.01.36_MD585_3_0039_prep3_thumbnail.tif\"\n",
      "convert \"/shared/CSHL_data_processed/MD585/MD585_prep1_thumbnail/MD585-N14-2015.07.16-20.25.09_MD585_1_0040_prep1_thumbnail.tif\" -crop 277x219+433+203  \"/shared/CSHL_data_processed/MD585/MD585_prep3_thumbnail/MD585-N14-2015.07.16-20.25.09_MD585_1_0040_prep3_thumbnail.tif\"\n",
      "convert \"/shared/CSHL_data_processed/MD585/MD585_prep1_thumbnail/MD585-IHC14-2015.07.16-15.11.04_MD585_1_0040_prep1_thumbnail.tif\" -crop 277x219+433+203  \"/shared/CSHL_data_processed/MD585/MD585_prep3_thumbnail/MD585-IHC14-2015.07.16-15.11.04_MD585_1_0040_prep3_thumbnail.tif\"\n",
      "convert \"/shared/CSHL_data_processed/MD585/MD585_prep1_thumbnail/MD585-N14-2015.07.16-20.25.09_MD585_2_0041_prep1_thumbnail.tif\" -crop 277x219+433+203  \"/shared/CSHL_data_processed/MD585/MD585_prep3_thumbnail/MD585-N14-2015.07.16-20.25.09_MD585_2_0041_prep3_thumbnail.tif\"\n",
      "convert \"/shared/CSHL_data_processed/MD585/MD585_prep1_thumbnail/MD585-IHC14-2015.07.16-15.11.04_MD585_2_0041_prep1_thumbnail.tif\" -crop 277x219+433+203  \"/shared/CSHL_data_processed/MD585/MD585_prep3_thumbnail/MD585-IHC14-2015.07.16-15.11.04_MD585_2_0041_prep3_thumbnail.tif\"\n",
      "convert \"/shared/CSHL_data_processed/MD585/MD585_prep1_thumbnail/MD585-N14-2015.07.16-20.25.09_MD585_3_0042_prep1_thumbnail.tif\" -crop 277x219+433+203  \"/shared/CSHL_data_processed/MD585/MD585_prep3_thumbnail/MD585-N14-2015.07.16-20.25.09_MD585_3_0042_prep3_thumbnail.tif\"\n",
      "convert \"/shared/CSHL_data_processed/MD585/MD585_prep1_thumbnail/MD585-IHC14-2015.07.16-15.11.04_MD585_3_0042_prep1_thumbnail.tif\" -crop 277x219+433+203  \"/shared/CSHL_data_processed/MD585/MD585_prep3_thumbnail/MD585-IHC14-2015.07.16-15.11.04_MD585_3_0042_prep3_thumbnail.tif\"\n",
      "convert \"/shared/CSHL_data_processed/MD585/MD585_prep1_thumbnail/MD585-N15-2016.03.07-17.56.36_MD585_1_0043_prep1_thumbnail.tif\" -crop 277x219+433+203  \"/shared/CSHL_data_processed/MD585/MD585_prep3_thumbnail/MD585-N15-2016.03.07-17.56.36_MD585_1_0043_prep3_thumbnail.tif\"\n"
     ]
    },
    {
     "name": "stdout",
     "output_type": "stream",
     "text": [
      "convert \"/shared/CSHL_data_processed/MD585/MD585_prep1_thumbnail/MD585-IHC15-2015.07.16-15.14.52_MD585_1_0043_prep1_thumbnail.tif\" -crop 277x219+433+203  \"/shared/CSHL_data_processed/MD585/MD585_prep3_thumbnail/MD585-IHC15-2015.07.16-15.14.52_MD585_1_0043_prep3_thumbnail.tif\"\n",
      "convert \"/shared/CSHL_data_processed/MD585/MD585_prep1_thumbnail/MD585-N15-2016.03.07-17.56.36_MD585_2_0044_prep1_thumbnail.tif\" -crop 277x219+433+203  \"/shared/CSHL_data_processed/MD585/MD585_prep3_thumbnail/MD585-N15-2016.03.07-17.56.36_MD585_2_0044_prep3_thumbnail.tif\"\n",
      "convert \"/shared/CSHL_data_processed/MD585/MD585_prep1_thumbnail/MD585-IHC15-2015.07.30-16.05.22_MD585_2_0044_prep1_thumbnail.tif\" -crop 277x219+433+203  \"/shared/CSHL_data_processed/MD585/MD585_prep3_thumbnail/MD585-IHC15-2015.07.30-16.05.22_MD585_2_0044_prep3_thumbnail.tif\"\n",
      "convert \"/shared/CSHL_data_processed/MD585/MD585_prep1_thumbnail/MD585-N15-2016.03.07-17.56.36_MD585_3_0045_prep1_thumbnail.tif\" -crop 277x219+433+203  \"/shared/CSHL_data_processed/MD585/MD585_prep3_thumbnail/MD585-N15-2016.03.07-17.56.36_MD585_3_0045_prep3_thumbnail.tif\"\n",
      "convert \"/shared/CSHL_data_processed/MD585/MD585_prep1_thumbnail/MD585-IHC15-2015.07.16-15.14.52_MD585_3_0045_prep1_thumbnail.tif\" -crop 277x219+433+203  \"/shared/CSHL_data_processed/MD585/MD585_prep3_thumbnail/MD585-IHC15-2015.07.16-15.14.52_MD585_3_0045_prep3_thumbnail.tif\"\n",
      "convert \"/shared/CSHL_data_processed/MD585/MD585_prep1_thumbnail/MD585-IHC16-2015.08.19-13.14.51_MD585_1_0046_prep1_thumbnail.tif\" -crop 277x219+433+203  \"/shared/CSHL_data_processed/MD585/MD585_prep3_thumbnail/MD585-IHC16-2015.08.19-13.14.51_MD585_1_0046_prep3_thumbnail.tif\"\n",
      "convert \"/shared/CSHL_data_processed/MD585/MD585_prep1_thumbnail/MD585-N16-2015.07.16-20.32.33_MD585_1_0046_prep1_thumbnail.tif\" -crop 277x219+433+203  \"/shared/CSHL_data_processed/MD585/MD585_prep3_thumbnail/MD585-N16-2015.07.16-20.32.33_MD585_1_0046_prep3_thumbnail.tif\"\n",
      "convert \"/shared/CSHL_data_processed/MD585/MD585_prep1_thumbnail/MD585-IHC16-2015.08.19-13.14.51_MD585_2_0047_prep1_thumbnail.tif\" -crop 277x219+433+203  \"/shared/CSHL_data_processed/MD585/MD585_prep3_thumbnail/MD585-IHC16-2015.08.19-13.14.51_MD585_2_0047_prep3_thumbnail.tif\"\n",
      "convert \"/shared/CSHL_data_processed/MD585/MD585_prep1_thumbnail/MD585-N16-2015.07.16-20.32.33_MD585_2_0047_prep1_thumbnail.tif\" -crop 277x219+433+203  \"/shared/CSHL_data_processed/MD585/MD585_prep3_thumbnail/MD585-N16-2015.07.16-20.32.33_MD585_2_0047_prep3_thumbnail.tif\"\n",
      "convert \"/shared/CSHL_data_processed/MD585/MD585_prep1_thumbnail/MD585-IHC16-2015.08.19-13.14.51_MD585_3_0048_prep1_thumbnail.tif\" -crop 277x219+433+203  \"/shared/CSHL_data_processed/MD585/MD585_prep3_thumbnail/MD585-IHC16-2015.08.19-13.14.51_MD585_3_0048_prep3_thumbnail.tif\"\n",
      "convert \"/shared/CSHL_data_processed/MD585/MD585_prep1_thumbnail/MD585-N17-2015.07.16-20.35.23_MD585_1_0049_prep1_thumbnail.tif\" -crop 277x219+433+203  \"/shared/CSHL_data_processed/MD585/MD585_prep3_thumbnail/MD585-N17-2015.07.16-20.35.23_MD585_1_0049_prep3_thumbnail.tif\"\n",
      "convert \"/shared/CSHL_data_processed/MD585/MD585_prep1_thumbnail/MD585-IHC17-2015.07.16-15.32.03_MD585_1_0049_prep1_thumbnail.tif\" -crop 277x219+433+203  \"/shared/CSHL_data_processed/MD585/MD585_prep3_thumbnail/MD585-IHC17-2015.07.16-15.32.03_MD585_1_0049_prep3_thumbnail.tif\"\n",
      "convert \"/shared/CSHL_data_processed/MD585/MD585_prep1_thumbnail/MD585-N17-2015.07.16-20.35.23_MD585_2_0050_prep1_thumbnail.tif\" -crop 277x219+433+203  \"/shared/CSHL_data_processed/MD585/MD585_prep3_thumbnail/MD585-N17-2015.07.16-20.35.23_MD585_2_0050_prep3_thumbnail.tif\"\n",
      "convert \"/shared/CSHL_data_processed/MD585/MD585_prep1_thumbnail/MD585-IHC17-2015.07.16-15.32.03_MD585_2_0050_prep1_thumbnail.tif\" -crop 277x219+433+203  \"/shared/CSHL_data_processed/MD585/MD585_prep3_thumbnail/MD585-IHC17-2015.07.16-15.32.03_MD585_2_0050_prep3_thumbnail.tif\"\n",
      "convert \"/shared/CSHL_data_processed/MD585/MD585_prep1_thumbnail/MD585-N17-2015.07.16-20.35.23_MD585_3_0051_prep1_thumbnail.tif\" -crop 277x219+433+203  \"/shared/CSHL_data_processed/MD585/MD585_prep3_thumbnail/MD585-N17-2015.07.16-20.35.23_MD585_3_0051_prep3_thumbnail.tif\"\n",
      "convert \"/shared/CSHL_data_processed/MD585/MD585_prep1_thumbnail/MD585-IHC17-2015.07.16-15.32.03_MD585_3_0051_prep1_thumbnail.tif\" -crop 277x219+433+203  \"/shared/CSHL_data_processed/MD585/MD585_prep3_thumbnail/MD585-IHC17-2015.07.16-15.32.03_MD585_3_0051_prep3_thumbnail.tif\"\n",
      "convert \"/shared/CSHL_data_processed/MD585/MD585_prep1_thumbnail/MD585-N18-2015.07.16-20.39.16_MD585_1_0052_prep1_thumbnail.tif\" -crop 277x219+433+203  \"/shared/CSHL_data_processed/MD585/MD585_prep3_thumbnail/MD585-N18-2015.07.16-20.39.16_MD585_1_0052_prep3_thumbnail.tif\"\n",
      "convert \"/shared/CSHL_data_processed/MD585/MD585_prep1_thumbnail/MD585-IHC18-2015.07.16-15.35.58_MD585_1_0052_prep1_thumbnail.tif\" -crop 277x219+433+203  \"/shared/CSHL_data_processed/MD585/MD585_prep3_thumbnail/MD585-IHC18-2015.07.16-15.35.58_MD585_1_0052_prep3_thumbnail.tif\"\n",
      "convert \"/shared/CSHL_data_processed/MD585/MD585_prep1_thumbnail/MD585-N18-2015.07.16-20.39.16_MD585_2_0053_prep1_thumbnail.tif\" -crop 277x219+433+203  \"/shared/CSHL_data_processed/MD585/MD585_prep3_thumbnail/MD585-N18-2015.07.16-20.39.16_MD585_2_0053_prep3_thumbnail.tif\"\n",
      "convert \"/shared/CSHL_data_processed/MD585/MD585_prep1_thumbnail/MD585-IHC18-2015.07.16-15.35.58_MD585_2_0053_prep1_thumbnail.tif\" -crop 277x219+433+203  \"/shared/CSHL_data_processed/MD585/MD585_prep3_thumbnail/MD585-IHC18-2015.07.16-15.35.58_MD585_2_0053_prep3_thumbnail.tif\"\n",
      "convert \"/shared/CSHL_data_processed/MD585/MD585_prep1_thumbnail/MD585-N18-2015.07.16-20.39.16_MD585_3_0054_prep1_thumbnail.tif\" -crop 277x219+433+203  \"/shared/CSHL_data_processed/MD585/MD585_prep3_thumbnail/MD585-N18-2015.07.16-20.39.16_MD585_3_0054_prep3_thumbnail.tif\"\n",
      "convert \"/shared/CSHL_data_processed/MD585/MD585_prep1_thumbnail/MD585-IHC18-2015.07.16-15.35.58_MD585_3_0054_prep1_thumbnail.tif\" -crop 277x219+433+203  \"/shared/CSHL_data_processed/MD585/MD585_prep3_thumbnail/MD585-IHC18-2015.07.16-15.35.58_MD585_3_0054_prep3_thumbnail.tif\"\n",
      "convert \"/shared/CSHL_data_processed/MD585/MD585_prep1_thumbnail/MD585-N19-2015.07.16-20.43.18_MD585_1_0055_prep1_thumbnail.tif\" -crop 277x219+433+203  \"/shared/CSHL_data_processed/MD585/MD585_prep3_thumbnail/MD585-N19-2015.07.16-20.43.18_MD585_1_0055_prep3_thumbnail.tif\"\n",
      "convert \"/shared/CSHL_data_processed/MD585/MD585_prep1_thumbnail/MD585-IHC19-2015.07.16-15.39.52_MD585_1_0055_prep1_thumbnail.tif\" -crop 277x219+433+203  \"/shared/CSHL_data_processed/MD585/MD585_prep3_thumbnail/MD585-IHC19-2015.07.16-15.39.52_MD585_1_0055_prep3_thumbnail.tif\"\n",
      "convert \"/shared/CSHL_data_processed/MD585/MD585_prep1_thumbnail/MD585-N19-2015.07.16-20.43.18_MD585_2_0056_prep1_thumbnail.tif\" -crop 277x219+433+203  \"/shared/CSHL_data_processed/MD585/MD585_prep3_thumbnail/MD585-N19-2015.07.16-20.43.18_MD585_2_0056_prep3_thumbnail.tif\"\n",
      "convert \"/shared/CSHL_data_processed/MD585/MD585_prep1_thumbnail/MD585-IHC19-2015.07.16-15.39.52_MD585_2_0056_prep1_thumbnail.tif\" -crop 277x219+433+203  \"/shared/CSHL_data_processed/MD585/MD585_prep3_thumbnail/MD585-IHC19-2015.07.16-15.39.52_MD585_2_0056_prep3_thumbnail.tif\"\n",
      "convert \"/shared/CSHL_data_processed/MD585/MD585_prep1_thumbnail/MD585-N19-2015.07.16-20.43.18_MD585_3_0057_prep1_thumbnail.tif\" -crop 277x219+433+203  \"/shared/CSHL_data_processed/MD585/MD585_prep3_thumbnail/MD585-N19-2015.07.16-20.43.18_MD585_3_0057_prep3_thumbnail.tif\"\n",
      "convert \"/shared/CSHL_data_processed/MD585/MD585_prep1_thumbnail/MD585-IHC19-2015.07.16-15.39.52_MD585_3_0057_prep1_thumbnail.tif\" -crop 277x219+433+203  \"/shared/CSHL_data_processed/MD585/MD585_prep3_thumbnail/MD585-IHC19-2015.07.16-15.39.52_MD585_3_0057_prep3_thumbnail.tif\"\n",
      "convert \"/shared/CSHL_data_processed/MD585/MD585_prep1_thumbnail/MD585-N20-2015.07.16-20.47.19_MD585_1_0058_prep1_thumbnail.tif\" -crop 277x219+433+203  \"/shared/CSHL_data_processed/MD585/MD585_prep3_thumbnail/MD585-N20-2015.07.16-20.47.19_MD585_1_0058_prep3_thumbnail.tif\"\n",
      "convert \"/shared/CSHL_data_processed/MD585/MD585_prep1_thumbnail/MD585-IHC20-2015.07.16-15.43.53_MD585_1_0058_prep1_thumbnail.tif\" -crop 277x219+433+203  \"/shared/CSHL_data_processed/MD585/MD585_prep3_thumbnail/MD585-IHC20-2015.07.16-15.43.53_MD585_1_0058_prep3_thumbnail.tif\"\n",
      "convert \"/shared/CSHL_data_processed/MD585/MD585_prep1_thumbnail/MD585-N20-2015.07.16-20.47.19_MD585_2_0059_prep1_thumbnail.tif\" -crop 277x219+433+203  \"/shared/CSHL_data_processed/MD585/MD585_prep3_thumbnail/MD585-N20-2015.07.16-20.47.19_MD585_2_0059_prep3_thumbnail.tif\"\n"
     ]
    },
    {
     "name": "stdout",
     "output_type": "stream",
     "text": [
      "convert \"/shared/CSHL_data_processed/MD585/MD585_prep1_thumbnail/MD585-IHC20-2015.07.16-15.43.53_MD585_2_0059_prep1_thumbnail.tif\" -crop 277x219+433+203  \"/shared/CSHL_data_processed/MD585/MD585_prep3_thumbnail/MD585-IHC20-2015.07.16-15.43.53_MD585_2_0059_prep3_thumbnail.tif\"\n",
      "convert \"/shared/CSHL_data_processed/MD585/MD585_prep1_thumbnail/MD585-N20-2015.07.16-20.47.19_MD585_3_0060_prep1_thumbnail.tif\" -crop 277x219+433+203  \"/shared/CSHL_data_processed/MD585/MD585_prep3_thumbnail/MD585-N20-2015.07.16-20.47.19_MD585_3_0060_prep3_thumbnail.tif\"\n",
      "convert \"/shared/CSHL_data_processed/MD585/MD585_prep1_thumbnail/MD585-IHC20-2015.07.16-15.43.53_MD585_3_0060_prep1_thumbnail.tif\" -crop 277x219+433+203  \"/shared/CSHL_data_processed/MD585/MD585_prep3_thumbnail/MD585-IHC20-2015.07.16-15.43.53_MD585_3_0060_prep3_thumbnail.tif\"\n",
      "convert \"/shared/CSHL_data_processed/MD585/MD585_prep1_thumbnail/MD585-N21-2015.07.18-07.06.33_MD585_1_0061_prep1_thumbnail.tif\" -crop 277x219+433+203  \"/shared/CSHL_data_processed/MD585/MD585_prep3_thumbnail/MD585-N21-2015.07.18-07.06.33_MD585_1_0061_prep3_thumbnail.tif\"\n",
      "convert \"/shared/CSHL_data_processed/MD585/MD585_prep1_thumbnail/MD585-IHC21-2015.07.16-15.47.52_MD585_1_0061_prep1_thumbnail.tif\" -crop 277x219+433+203  \"/shared/CSHL_data_processed/MD585/MD585_prep3_thumbnail/MD585-IHC21-2015.07.16-15.47.52_MD585_1_0061_prep3_thumbnail.tif\"\n",
      "convert \"/shared/CSHL_data_processed/MD585/MD585_prep1_thumbnail/MD585-N21-2015.07.18-07.06.33_MD585_2_0062_prep1_thumbnail.tif\" -crop 277x219+433+203  \"/shared/CSHL_data_processed/MD585/MD585_prep3_thumbnail/MD585-N21-2015.07.18-07.06.33_MD585_2_0062_prep3_thumbnail.tif\"\n",
      "convert \"/shared/CSHL_data_processed/MD585/MD585_prep1_thumbnail/MD585-IHC21-2015.07.16-15.47.52_MD585_2_0062_prep1_thumbnail.tif\" -crop 277x219+433+203  \"/shared/CSHL_data_processed/MD585/MD585_prep3_thumbnail/MD585-IHC21-2015.07.16-15.47.52_MD585_2_0062_prep3_thumbnail.tif\"\n",
      "convert \"/shared/CSHL_data_processed/MD585/MD585_prep1_thumbnail/MD585-N21-2015.07.18-07.06.33_MD585_3_0063_prep1_thumbnail.tif\" -crop 277x219+433+203  \"/shared/CSHL_data_processed/MD585/MD585_prep3_thumbnail/MD585-N21-2015.07.18-07.06.33_MD585_3_0063_prep3_thumbnail.tif\"\n",
      "convert \"/shared/CSHL_data_processed/MD585/MD585_prep1_thumbnail/MD585-IHC21-2015.07.16-15.47.52_MD585_3_0063_prep1_thumbnail.tif\" -crop 277x219+433+203  \"/shared/CSHL_data_processed/MD585/MD585_prep3_thumbnail/MD585-IHC21-2015.07.16-15.47.52_MD585_3_0063_prep3_thumbnail.tif\"\n",
      "convert \"/shared/CSHL_data_processed/MD585/MD585_prep1_thumbnail/MD585-N22-2015.07.18-07.10.40_MD585_1_0064_prep1_thumbnail.tif\" -crop 277x219+433+203  \"/shared/CSHL_data_processed/MD585/MD585_prep3_thumbnail/MD585-N22-2015.07.18-07.10.40_MD585_1_0064_prep3_thumbnail.tif\"\n",
      "convert \"/shared/CSHL_data_processed/MD585/MD585_prep1_thumbnail/MD585-IHC22-2015.07.16-15.51.54_MD585_1_0064_prep1_thumbnail.tif\" -crop 277x219+433+203  \"/shared/CSHL_data_processed/MD585/MD585_prep3_thumbnail/MD585-IHC22-2015.07.16-15.51.54_MD585_1_0064_prep3_thumbnail.tif\"\n",
      "convert \"/shared/CSHL_data_processed/MD585/MD585_prep1_thumbnail/MD585-N22-2015.07.18-07.10.40_MD585_2_0065_prep1_thumbnail.tif\" -crop 277x219+433+203  \"/shared/CSHL_data_processed/MD585/MD585_prep3_thumbnail/MD585-N22-2015.07.18-07.10.40_MD585_2_0065_prep3_thumbnail.tif\"\n",
      "convert \"/shared/CSHL_data_processed/MD585/MD585_prep1_thumbnail/MD585-N22-2015.07.18-07.10.40_MD585_3_0066_prep1_thumbnail.tif\" -crop 277x219+433+203  \"/shared/CSHL_data_processed/MD585/MD585_prep3_thumbnail/MD585-N22-2015.07.18-07.10.40_MD585_3_0066_prep3_thumbnail.tif\"\n",
      "convert \"/shared/CSHL_data_processed/MD585/MD585_prep1_thumbnail/MD585-IHC22-2015.07.16-15.51.54_MD585_3_0066_prep1_thumbnail.tif\" -crop 277x219+433+203  \"/shared/CSHL_data_processed/MD585/MD585_prep3_thumbnail/MD585-IHC22-2015.07.16-15.51.54_MD585_3_0066_prep3_thumbnail.tif\"\n",
      "convert \"/shared/CSHL_data_processed/MD585/MD585_prep1_thumbnail/MD585-N23-2015.07.16-20.51.24_MD585_1_0067_prep1_thumbnail.tif\" -crop 277x219+433+203  \"/shared/CSHL_data_processed/MD585/MD585_prep3_thumbnail/MD585-N23-2015.07.16-20.51.24_MD585_1_0067_prep3_thumbnail.tif\"\n",
      "convert \"/shared/CSHL_data_processed/MD585/MD585_prep1_thumbnail/MD585-IHC23-2015.08.19-13.18.49_MD585_1_0067_prep1_thumbnail.tif\" -crop 277x219+433+203  \"/shared/CSHL_data_processed/MD585/MD585_prep3_thumbnail/MD585-IHC23-2015.08.19-13.18.49_MD585_1_0067_prep3_thumbnail.tif\"\n",
      "convert \"/shared/CSHL_data_processed/MD585/MD585_prep1_thumbnail/MD585-N23-2015.07.16-20.51.24_MD585_2_0068_prep1_thumbnail.tif\" -crop 277x219+433+203  \"/shared/CSHL_data_processed/MD585/MD585_prep3_thumbnail/MD585-N23-2015.07.16-20.51.24_MD585_2_0068_prep3_thumbnail.tif\"\n",
      "convert \"/shared/CSHL_data_processed/MD585/MD585_prep1_thumbnail/MD585-IHC23-2015.08.19-13.18.49_MD585_2_0068_prep1_thumbnail.tif\" -crop 277x219+433+203  \"/shared/CSHL_data_processed/MD585/MD585_prep3_thumbnail/MD585-IHC23-2015.08.19-13.18.49_MD585_2_0068_prep3_thumbnail.tif\"\n",
      "convert \"/shared/CSHL_data_processed/MD585/MD585_prep1_thumbnail/MD585-N23-2015.07.16-20.51.24_MD585_3_0069_prep1_thumbnail.tif\" -crop 277x219+433+203  \"/shared/CSHL_data_processed/MD585/MD585_prep3_thumbnail/MD585-N23-2015.07.16-20.51.24_MD585_3_0069_prep3_thumbnail.tif\"\n",
      "convert \"/shared/CSHL_data_processed/MD585/MD585_prep1_thumbnail/MD585-IHC23-2015.08.19-13.18.49_MD585_3_0069_prep1_thumbnail.tif\" -crop 277x219+433+203  \"/shared/CSHL_data_processed/MD585/MD585_prep3_thumbnail/MD585-IHC23-2015.08.19-13.18.49_MD585_3_0069_prep3_thumbnail.tif\"\n",
      "convert \"/shared/CSHL_data_processed/MD585/MD585_prep1_thumbnail/MD585-N24-2015.08.19-15.29.12_MD585_1_0070_prep1_thumbnail.tif\" -crop 277x219+433+203  \"/shared/CSHL_data_processed/MD585/MD585_prep3_thumbnail/MD585-N24-2015.08.19-15.29.12_MD585_1_0070_prep3_thumbnail.tif\"\n",
      "convert \"/shared/CSHL_data_processed/MD585/MD585_prep1_thumbnail/MD585-IHC24-2015.07.18-07.14.51_MD585_1_0070_prep1_thumbnail.tif\" -crop 277x219+433+203  \"/shared/CSHL_data_processed/MD585/MD585_prep3_thumbnail/MD585-IHC24-2015.07.18-07.14.51_MD585_1_0070_prep3_thumbnail.tif\"\n",
      "convert \"/shared/CSHL_data_processed/MD585/MD585_prep1_thumbnail/MD585-N24-2015.08.19-15.29.12_MD585_2_0071_prep1_thumbnail.tif\" -crop 277x219+433+203  \"/shared/CSHL_data_processed/MD585/MD585_prep3_thumbnail/MD585-N24-2015.08.19-15.29.12_MD585_2_0071_prep3_thumbnail.tif\"\n",
      "convert \"/shared/CSHL_data_processed/MD585/MD585_prep1_thumbnail/MD585-IHC24-2015.07.18-07.14.51_MD585_2_0071_prep1_thumbnail.tif\" -crop 277x219+433+203  \"/shared/CSHL_data_processed/MD585/MD585_prep3_thumbnail/MD585-IHC24-2015.07.18-07.14.51_MD585_2_0071_prep3_thumbnail.tif\"\n",
      "convert \"/shared/CSHL_data_processed/MD585/MD585_prep1_thumbnail/MD585-N24-2015.08.19-15.29.12_MD585_3_0072_prep1_thumbnail.tif\" -crop 277x219+433+203  \"/shared/CSHL_data_processed/MD585/MD585_prep3_thumbnail/MD585-N24-2015.08.19-15.29.12_MD585_3_0072_prep3_thumbnail.tif\"\n",
      "convert \"/shared/CSHL_data_processed/MD585/MD585_prep1_thumbnail/MD585-IHC24-2015.07.18-07.14.51_MD585_3_0072_prep1_thumbnail.tif\" -crop 277x219+433+203  \"/shared/CSHL_data_processed/MD585/MD585_prep3_thumbnail/MD585-IHC24-2015.07.18-07.14.51_MD585_3_0072_prep3_thumbnail.tif\"\n",
      "convert \"/shared/CSHL_data_processed/MD585/MD585_prep1_thumbnail/MD585-N25-2015.08.19-15.33.31_MD585_1_0073_prep1_thumbnail.tif\" -crop 277x219+433+203  \"/shared/CSHL_data_processed/MD585/MD585_prep3_thumbnail/MD585-N25-2015.08.19-15.33.31_MD585_1_0073_prep3_thumbnail.tif\"\n",
      "convert \"/shared/CSHL_data_processed/MD585/MD585_prep1_thumbnail/MD585-IHC25-2015.07.18-07.19.12_MD585_1_0073_prep1_thumbnail.tif\" -crop 277x219+433+203  \"/shared/CSHL_data_processed/MD585/MD585_prep3_thumbnail/MD585-IHC25-2015.07.18-07.19.12_MD585_1_0073_prep3_thumbnail.tif\"\n",
      "convert \"/shared/CSHL_data_processed/MD585/MD585_prep1_thumbnail/MD585-N25-2015.08.19-15.33.31_MD585_2_0074_prep1_thumbnail.tif\" -crop 277x219+433+203  \"/shared/CSHL_data_processed/MD585/MD585_prep3_thumbnail/MD585-N25-2015.08.19-15.33.31_MD585_2_0074_prep3_thumbnail.tif\"\n",
      "convert \"/shared/CSHL_data_processed/MD585/MD585_prep1_thumbnail/MD585-IHC25-2015.07.18-07.19.12_MD585_2_0074_prep1_thumbnail.tif\" -crop 277x219+433+203  \"/shared/CSHL_data_processed/MD585/MD585_prep3_thumbnail/MD585-IHC25-2015.07.18-07.19.12_MD585_2_0074_prep3_thumbnail.tif\"\n"
     ]
    },
    {
     "name": "stdout",
     "output_type": "stream",
     "text": [
      "convert \"/shared/CSHL_data_processed/MD585/MD585_prep1_thumbnail/MD585-N25-2015.08.19-15.33.31_MD585_3_0075_prep1_thumbnail.tif\" -crop 277x219+433+203  \"/shared/CSHL_data_processed/MD585/MD585_prep3_thumbnail/MD585-N25-2015.08.19-15.33.31_MD585_3_0075_prep3_thumbnail.tif\"\n",
      "convert \"/shared/CSHL_data_processed/MD585/MD585_prep1_thumbnail/MD585-IHC25-2015.07.18-07.19.12_MD585_3_0075_prep1_thumbnail.tif\" -crop 277x219+433+203  \"/shared/CSHL_data_processed/MD585/MD585_prep3_thumbnail/MD585-IHC25-2015.07.18-07.19.12_MD585_3_0075_prep3_thumbnail.tif\"\n",
      "convert \"/shared/CSHL_data_processed/MD585/MD585_prep1_thumbnail/MD585-N26-2015.08.19-15.37.53_MD585_1_0076_prep1_thumbnail.tif\" -crop 277x219+433+203  \"/shared/CSHL_data_processed/MD585/MD585_prep3_thumbnail/MD585-N26-2015.08.19-15.37.53_MD585_1_0076_prep3_thumbnail.tif\"\n",
      "convert \"/shared/CSHL_data_processed/MD585/MD585_prep1_thumbnail/MD585-IHC26-2015.08.19-13.23.15_MD585_1_0076_prep1_thumbnail.tif\" -crop 277x219+433+203  \"/shared/CSHL_data_processed/MD585/MD585_prep3_thumbnail/MD585-IHC26-2015.08.19-13.23.15_MD585_1_0076_prep3_thumbnail.tif\"\n",
      "convert \"/shared/CSHL_data_processed/MD585/MD585_prep1_thumbnail/MD585-N26-2015.08.19-15.37.53_MD585_2_0077_prep1_thumbnail.tif\" -crop 277x219+433+203  \"/shared/CSHL_data_processed/MD585/MD585_prep3_thumbnail/MD585-N26-2015.08.19-15.37.53_MD585_2_0077_prep3_thumbnail.tif\"\n",
      "convert \"/shared/CSHL_data_processed/MD585/MD585_prep1_thumbnail/MD585-IHC26-2015.08.19-13.23.15_MD585_2_0077_prep1_thumbnail.tif\" -crop 277x219+433+203  \"/shared/CSHL_data_processed/MD585/MD585_prep3_thumbnail/MD585-IHC26-2015.08.19-13.23.15_MD585_2_0077_prep3_thumbnail.tif\"\n",
      "convert \"/shared/CSHL_data_processed/MD585/MD585_prep1_thumbnail/MD585-N26-2015.08.19-15.37.53_MD585_3_0078_prep1_thumbnail.tif\" -crop 277x219+433+203  \"/shared/CSHL_data_processed/MD585/MD585_prep3_thumbnail/MD585-N26-2015.08.19-15.37.53_MD585_3_0078_prep3_thumbnail.tif\"\n",
      "convert \"/shared/CSHL_data_processed/MD585/MD585_prep1_thumbnail/MD585-IHC26-2015.08.19-13.23.15_MD585_3_0078_prep1_thumbnail.tif\" -crop 277x219+433+203  \"/shared/CSHL_data_processed/MD585/MD585_prep3_thumbnail/MD585-IHC26-2015.08.19-13.23.15_MD585_3_0078_prep3_thumbnail.tif\"\n",
      "convert \"/shared/CSHL_data_processed/MD585/MD585_prep1_thumbnail/MD585-N27-2015.08.19-15.42.30_MD585_1_0079_prep1_thumbnail.tif\" -crop 277x219+433+203  \"/shared/CSHL_data_processed/MD585/MD585_prep3_thumbnail/MD585-N27-2015.08.19-15.42.30_MD585_1_0079_prep3_thumbnail.tif\"\n",
      "convert \"/shared/CSHL_data_processed/MD585/MD585_prep1_thumbnail/MD585-IHC27-2015.08.19-13.28.05_MD585_1_0079_prep1_thumbnail.tif\" -crop 277x219+433+203  \"/shared/CSHL_data_processed/MD585/MD585_prep3_thumbnail/MD585-IHC27-2015.08.19-13.28.05_MD585_1_0079_prep3_thumbnail.tif\"\n",
      "convert \"/shared/CSHL_data_processed/MD585/MD585_prep1_thumbnail/MD585-N27-2015.08.19-15.42.30_MD585_2_0080_prep1_thumbnail.tif\" -crop 277x219+433+203  \"/shared/CSHL_data_processed/MD585/MD585_prep3_thumbnail/MD585-N27-2015.08.19-15.42.30_MD585_2_0080_prep3_thumbnail.tif\"\n",
      "convert \"/shared/CSHL_data_processed/MD585/MD585_prep1_thumbnail/MD585-IHC27-2015.08.19-13.28.05_MD585_2_0080_prep1_thumbnail.tif\" -crop 277x219+433+203  \"/shared/CSHL_data_processed/MD585/MD585_prep3_thumbnail/MD585-IHC27-2015.08.19-13.28.05_MD585_2_0080_prep3_thumbnail.tif\"\n",
      "convert \"/shared/CSHL_data_processed/MD585/MD585_prep1_thumbnail/MD585-N27-2015.08.19-15.42.30_MD585_3_0081_prep1_thumbnail.tif\" -crop 277x219+433+203  \"/shared/CSHL_data_processed/MD585/MD585_prep3_thumbnail/MD585-N27-2015.08.19-15.42.30_MD585_3_0081_prep3_thumbnail.tif\"\n",
      "convert \"/shared/CSHL_data_processed/MD585/MD585_prep1_thumbnail/MD585-IHC27-2015.08.19-13.28.05_MD585_3_0081_prep1_thumbnail.tif\" -crop 277x219+433+203  \"/shared/CSHL_data_processed/MD585/MD585_prep3_thumbnail/MD585-IHC27-2015.08.19-13.28.05_MD585_3_0081_prep3_thumbnail.tif\"\n",
      "convert \"/shared/CSHL_data_processed/MD585/MD585_prep1_thumbnail/MD585-N28-2015.08.19-15.47.09_MD585_1_0082_prep1_thumbnail.tif\" -crop 277x219+433+203  \"/shared/CSHL_data_processed/MD585/MD585_prep3_thumbnail/MD585-N28-2015.08.19-15.47.09_MD585_1_0082_prep3_thumbnail.tif\"\n",
      "convert \"/shared/CSHL_data_processed/MD585/MD585_prep1_thumbnail/MD585-IHC28-2015.08.19-13.33.04_MD585_1_0082_prep1_thumbnail.tif\" -crop 277x219+433+203  \"/shared/CSHL_data_processed/MD585/MD585_prep3_thumbnail/MD585-IHC28-2015.08.19-13.33.04_MD585_1_0082_prep3_thumbnail.tif\"\n",
      "convert \"/shared/CSHL_data_processed/MD585/MD585_prep1_thumbnail/MD585-N28-2015.08.19-15.47.09_MD585_2_0083_prep1_thumbnail.tif\" -crop 277x219+433+203  \"/shared/CSHL_data_processed/MD585/MD585_prep3_thumbnail/MD585-N28-2015.08.19-15.47.09_MD585_2_0083_prep3_thumbnail.tif\"\n",
      "convert \"/shared/CSHL_data_processed/MD585/MD585_prep1_thumbnail/MD585-IHC28-2015.08.19-13.33.04_MD585_2_0083_prep1_thumbnail.tif\" -crop 277x219+433+203  \"/shared/CSHL_data_processed/MD585/MD585_prep3_thumbnail/MD585-IHC28-2015.08.19-13.33.04_MD585_2_0083_prep3_thumbnail.tif\"\n",
      "convert \"/shared/CSHL_data_processed/MD585/MD585_prep1_thumbnail/MD585-N28-2015.08.19-15.47.09_MD585_3_0084_prep1_thumbnail.tif\" -crop 277x219+433+203  \"/shared/CSHL_data_processed/MD585/MD585_prep3_thumbnail/MD585-N28-2015.08.19-15.47.09_MD585_3_0084_prep3_thumbnail.tif\"\n",
      "convert \"/shared/CSHL_data_processed/MD585/MD585_prep1_thumbnail/MD585-IHC28-2015.08.19-13.33.04_MD585_3_0084_prep1_thumbnail.tif\" -crop 277x219+433+203  \"/shared/CSHL_data_processed/MD585/MD585_prep3_thumbnail/MD585-IHC28-2015.08.19-13.33.04_MD585_3_0084_prep3_thumbnail.tif\"\n",
      "convert \"/shared/CSHL_data_processed/MD585/MD585_prep1_thumbnail/MD585-N29-2015.08.19-15.51.55_MD585_1_0085_prep1_thumbnail.tif\" -crop 277x219+433+203  \"/shared/CSHL_data_processed/MD585/MD585_prep3_thumbnail/MD585-N29-2015.08.19-15.51.55_MD585_1_0085_prep3_thumbnail.tif\"\n",
      "convert \"/shared/CSHL_data_processed/MD585/MD585_prep1_thumbnail/MD585-IHC29-2015.08.19-13.38.04_MD585_1_0085_prep1_thumbnail.tif\" -crop 277x219+433+203  \"/shared/CSHL_data_processed/MD585/MD585_prep3_thumbnail/MD585-IHC29-2015.08.19-13.38.04_MD585_1_0085_prep3_thumbnail.tif\"\n",
      "convert \"/shared/CSHL_data_processed/MD585/MD585_prep1_thumbnail/MD585-N29-2015.07.30-15.11.04_MD585_2_0086_prep1_thumbnail.tif\" -crop 277x219+433+203  \"/shared/CSHL_data_processed/MD585/MD585_prep3_thumbnail/MD585-N29-2015.07.30-15.11.04_MD585_2_0086_prep3_thumbnail.tif\"\n",
      "convert \"/shared/CSHL_data_processed/MD585/MD585_prep1_thumbnail/MD585-IHC29-2015.08.19-13.38.04_MD585_2_0086_prep1_thumbnail.tif\" -crop 277x219+433+203  \"/shared/CSHL_data_processed/MD585/MD585_prep3_thumbnail/MD585-IHC29-2015.08.19-13.38.04_MD585_2_0086_prep3_thumbnail.tif\"\n",
      "convert \"/shared/CSHL_data_processed/MD585/MD585_prep1_thumbnail/MD585-N29-2015.08.19-15.51.55_MD585_3_0087_prep1_thumbnail.tif\" -crop 277x219+433+203  \"/shared/CSHL_data_processed/MD585/MD585_prep3_thumbnail/MD585-N29-2015.08.19-15.51.55_MD585_3_0087_prep3_thumbnail.tif\"\n",
      "convert \"/shared/CSHL_data_processed/MD585/MD585_prep1_thumbnail/MD585-IHC29-2015.08.19-13.38.04_MD585_3_0087_prep1_thumbnail.tif\" -crop 277x219+433+203  \"/shared/CSHL_data_processed/MD585/MD585_prep3_thumbnail/MD585-IHC29-2015.08.19-13.38.04_MD585_3_0087_prep3_thumbnail.tif\"\n",
      "convert \"/shared/CSHL_data_processed/MD585/MD585_prep1_thumbnail/MD585-N30-2015.08.19-15.56.52_MD585_1_0088_prep1_thumbnail.tif\" -crop 277x219+433+203  \"/shared/CSHL_data_processed/MD585/MD585_prep3_thumbnail/MD585-N30-2015.08.19-15.56.52_MD585_1_0088_prep3_thumbnail.tif\"\n",
      "convert \"/shared/CSHL_data_processed/MD585/MD585_prep1_thumbnail/MD585-IHC30-2015.08.19-13.43.06_MD585_1_0088_prep1_thumbnail.tif\" -crop 277x219+433+203  \"/shared/CSHL_data_processed/MD585/MD585_prep3_thumbnail/MD585-IHC30-2015.08.19-13.43.06_MD585_1_0088_prep3_thumbnail.tif\"\n",
      "convert \"/shared/CSHL_data_processed/MD585/MD585_prep1_thumbnail/MD585-N30-2015.08.19-15.56.52_MD585_2_0089_prep1_thumbnail.tif\" -crop 277x219+433+203  \"/shared/CSHL_data_processed/MD585/MD585_prep3_thumbnail/MD585-N30-2015.08.19-15.56.52_MD585_2_0089_prep3_thumbnail.tif\"\n",
      "convert \"/shared/CSHL_data_processed/MD585/MD585_prep1_thumbnail/MD585-IHC30-2015.08.19-13.43.06_MD585_2_0089_prep1_thumbnail.tif\" -crop 277x219+433+203  \"/shared/CSHL_data_processed/MD585/MD585_prep3_thumbnail/MD585-IHC30-2015.08.19-13.43.06_MD585_2_0089_prep3_thumbnail.tif\"\n"
     ]
    },
    {
     "name": "stdout",
     "output_type": "stream",
     "text": [
      "convert \"/shared/CSHL_data_processed/MD585/MD585_prep1_thumbnail/MD585-N30-2015.08.19-15.56.52_MD585_3_0090_prep1_thumbnail.tif\" -crop 277x219+433+203  \"/shared/CSHL_data_processed/MD585/MD585_prep3_thumbnail/MD585-N30-2015.08.19-15.56.52_MD585_3_0090_prep3_thumbnail.tif\"\n",
      "convert \"/shared/CSHL_data_processed/MD585/MD585_prep1_thumbnail/MD585-IHC30-2015.08.19-13.43.06_MD585_3_0090_prep1_thumbnail.tif\" -crop 277x219+433+203  \"/shared/CSHL_data_processed/MD585/MD585_prep3_thumbnail/MD585-IHC30-2015.08.19-13.43.06_MD585_3_0090_prep3_thumbnail.tif\"\n",
      "convert \"/shared/CSHL_data_processed/MD585/MD585_prep1_thumbnail/MD585-N31-2015.08.19-16.01.47_MD585_1_0091_prep1_thumbnail.tif\" -crop 277x219+433+203  \"/shared/CSHL_data_processed/MD585/MD585_prep3_thumbnail/MD585-N31-2015.08.19-16.01.47_MD585_1_0091_prep3_thumbnail.tif\"\n",
      "convert \"/shared/CSHL_data_processed/MD585/MD585_prep1_thumbnail/MD585-IHC31-2015.08.19-13.48.12_MD585_1_0091_prep1_thumbnail.tif\" -crop 277x219+433+203  \"/shared/CSHL_data_processed/MD585/MD585_prep3_thumbnail/MD585-IHC31-2015.08.19-13.48.12_MD585_1_0091_prep3_thumbnail.tif\"\n",
      "convert \"/shared/CSHL_data_processed/MD585/MD585_prep1_thumbnail/MD585-N31-2015.08.19-16.01.47_MD585_2_0092_prep1_thumbnail.tif\" -crop 277x219+433+203  \"/shared/CSHL_data_processed/MD585/MD585_prep3_thumbnail/MD585-N31-2015.08.19-16.01.47_MD585_2_0092_prep3_thumbnail.tif\"\n",
      "convert \"/shared/CSHL_data_processed/MD585/MD585_prep1_thumbnail/MD585-IHC31-2015.08.19-13.48.12_MD585_2_0092_prep1_thumbnail.tif\" -crop 277x219+433+203  \"/shared/CSHL_data_processed/MD585/MD585_prep3_thumbnail/MD585-IHC31-2015.08.19-13.48.12_MD585_2_0092_prep3_thumbnail.tif\"\n",
      "convert \"/shared/CSHL_data_processed/MD585/MD585_prep1_thumbnail/MD585-N31-2015.08.19-16.01.47_MD585_3_0093_prep1_thumbnail.tif\" -crop 277x219+433+203  \"/shared/CSHL_data_processed/MD585/MD585_prep3_thumbnail/MD585-N31-2015.08.19-16.01.47_MD585_3_0093_prep3_thumbnail.tif\"\n",
      "convert \"/shared/CSHL_data_processed/MD585/MD585_prep1_thumbnail/MD585-IHC31-2015.08.19-13.48.12_MD585_3_0093_prep1_thumbnail.tif\" -crop 277x219+433+203  \"/shared/CSHL_data_processed/MD585/MD585_prep3_thumbnail/MD585-IHC31-2015.08.19-13.48.12_MD585_3_0093_prep3_thumbnail.tif\"\n",
      "convert \"/shared/CSHL_data_processed/MD585/MD585_prep1_thumbnail/MD585-N32-2015.08.19-16.07.10_MD585_1_0094_prep1_thumbnail.tif\" -crop 277x219+433+203  \"/shared/CSHL_data_processed/MD585/MD585_prep3_thumbnail/MD585-N32-2015.08.19-16.07.10_MD585_1_0094_prep3_thumbnail.tif\"\n",
      "convert \"/shared/CSHL_data_processed/MD585/MD585_prep1_thumbnail/MD585-IHC32-2015.08.19-13.53.29_MD585_1_0094_prep1_thumbnail.tif\" -crop 277x219+433+203  \"/shared/CSHL_data_processed/MD585/MD585_prep3_thumbnail/MD585-IHC32-2015.08.19-13.53.29_MD585_1_0094_prep3_thumbnail.tif\"\n",
      "convert \"/shared/CSHL_data_processed/MD585/MD585_prep1_thumbnail/MD585-N32-2015.08.19-16.07.10_MD585_2_0095_prep1_thumbnail.tif\" -crop 277x219+433+203  \"/shared/CSHL_data_processed/MD585/MD585_prep3_thumbnail/MD585-N32-2015.08.19-16.07.10_MD585_2_0095_prep3_thumbnail.tif\"\n",
      "convert \"/shared/CSHL_data_processed/MD585/MD585_prep1_thumbnail/MD585-IHC32-2015.08.19-13.53.29_MD585_2_0095_prep1_thumbnail.tif\" -crop 277x219+433+203  \"/shared/CSHL_data_processed/MD585/MD585_prep3_thumbnail/MD585-IHC32-2015.08.19-13.53.29_MD585_2_0095_prep3_thumbnail.tif\"\n",
      "convert \"/shared/CSHL_data_processed/MD585/MD585_prep1_thumbnail/MD585-N32-2015.08.19-16.07.10_MD585_3_0096_prep1_thumbnail.tif\" -crop 277x219+433+203  \"/shared/CSHL_data_processed/MD585/MD585_prep3_thumbnail/MD585-N32-2015.08.19-16.07.10_MD585_3_0096_prep3_thumbnail.tif\"\n",
      "convert \"/shared/CSHL_data_processed/MD585/MD585_prep1_thumbnail/MD585-IHC32-2015.08.19-13.53.29_MD585_3_0096_prep1_thumbnail.tif\" -crop 277x219+433+203  \"/shared/CSHL_data_processed/MD585/MD585_prep3_thumbnail/MD585-IHC32-2015.08.19-13.53.29_MD585_3_0096_prep3_thumbnail.tif\"\n",
      "convert \"/shared/CSHL_data_processed/MD585/MD585_prep1_thumbnail/MD585-N33-2015.07.16-21.37.52_MD585_1_0097_prep1_thumbnail.tif\" -crop 277x219+433+203  \"/shared/CSHL_data_processed/MD585/MD585_prep3_thumbnail/MD585-N33-2015.07.16-21.37.52_MD585_1_0097_prep3_thumbnail.tif\"\n",
      "convert \"/shared/CSHL_data_processed/MD585/MD585_prep1_thumbnail/MD585-IHC33-2015.07.16-16.33.07_MD585_1_0097_prep1_thumbnail.tif\" -crop 277x219+433+203  \"/shared/CSHL_data_processed/MD585/MD585_prep3_thumbnail/MD585-IHC33-2015.07.16-16.33.07_MD585_1_0097_prep3_thumbnail.tif\"\n",
      "convert \"/shared/CSHL_data_processed/MD585/MD585_prep1_thumbnail/MD585-N33-2015.07.16-21.37.52_MD585_2_0098_prep1_thumbnail.tif\" -crop 277x219+433+203  \"/shared/CSHL_data_processed/MD585/MD585_prep3_thumbnail/MD585-N33-2015.07.16-21.37.52_MD585_2_0098_prep3_thumbnail.tif\"\n",
      "convert \"/shared/CSHL_data_processed/MD585/MD585_prep1_thumbnail/MD585-IHC33-2015.07.16-16.33.07_MD585_2_0098_prep1_thumbnail.tif\" -crop 277x219+433+203  \"/shared/CSHL_data_processed/MD585/MD585_prep3_thumbnail/MD585-IHC33-2015.07.16-16.33.07_MD585_2_0098_prep3_thumbnail.tif\"\n",
      "convert \"/shared/CSHL_data_processed/MD585/MD585_prep1_thumbnail/MD585-N33-2015.07.16-21.37.52_MD585_3_0099_prep1_thumbnail.tif\" -crop 277x219+433+203  \"/shared/CSHL_data_processed/MD585/MD585_prep3_thumbnail/MD585-N33-2015.07.16-21.37.52_MD585_3_0099_prep3_thumbnail.tif\"\n",
      "convert \"/shared/CSHL_data_processed/MD585/MD585_prep1_thumbnail/MD585-IHC33-2015.07.16-16.33.07_MD585_3_0099_prep1_thumbnail.tif\" -crop 277x219+433+203  \"/shared/CSHL_data_processed/MD585/MD585_prep3_thumbnail/MD585-IHC33-2015.07.16-16.33.07_MD585_3_0099_prep3_thumbnail.tif\"\n",
      "convert \"/shared/CSHL_data_processed/MD585/MD585_prep1_thumbnail/MD585-N34-2015.07.16-21.43.03_MD585_1_0100_prep1_thumbnail.tif\" -crop 277x219+433+203  \"/shared/CSHL_data_processed/MD585/MD585_prep3_thumbnail/MD585-N34-2015.07.16-21.43.03_MD585_1_0100_prep3_thumbnail.tif\"\n",
      "convert \"/shared/CSHL_data_processed/MD585/MD585_prep1_thumbnail/MD585-IHC34-2015.07.16-16.38.23_MD585_1_0100_prep1_thumbnail.tif\" -crop 277x219+433+203  \"/shared/CSHL_data_processed/MD585/MD585_prep3_thumbnail/MD585-IHC34-2015.07.16-16.38.23_MD585_1_0100_prep3_thumbnail.tif\"\n",
      "convert \"/shared/CSHL_data_processed/MD585/MD585_prep1_thumbnail/MD585-N34-2015.07.16-21.43.03_MD585_2_0101_prep1_thumbnail.tif\" -crop 277x219+433+203  \"/shared/CSHL_data_processed/MD585/MD585_prep3_thumbnail/MD585-N34-2015.07.16-21.43.03_MD585_2_0101_prep3_thumbnail.tif\"\n",
      "convert \"/shared/CSHL_data_processed/MD585/MD585_prep1_thumbnail/MD585-IHC34-2015.07.16-16.38.23_MD585_2_0101_prep1_thumbnail.tif\" -crop 277x219+433+203  \"/shared/CSHL_data_processed/MD585/MD585_prep3_thumbnail/MD585-IHC34-2015.07.16-16.38.23_MD585_2_0101_prep3_thumbnail.tif\"\n",
      "convert \"/shared/CSHL_data_processed/MD585/MD585_prep1_thumbnail/MD585-N34-2015.07.16-21.43.03_MD585_3_0102_prep1_thumbnail.tif\" -crop 277x219+433+203  \"/shared/CSHL_data_processed/MD585/MD585_prep3_thumbnail/MD585-N34-2015.07.16-21.43.03_MD585_3_0102_prep3_thumbnail.tif\"\n",
      "convert \"/shared/CSHL_data_processed/MD585/MD585_prep1_thumbnail/MD585-IHC34-2015.07.16-16.38.23_MD585_3_0102_prep1_thumbnail.tif\" -crop 277x219+433+203  \"/shared/CSHL_data_processed/MD585/MD585_prep3_thumbnail/MD585-IHC34-2015.07.16-16.38.23_MD585_3_0102_prep3_thumbnail.tif\"\n",
      "convert \"/shared/CSHL_data_processed/MD585/MD585_prep1_thumbnail/MD585-N35-2015.07.16-21.48.15_MD585_1_0103_prep1_thumbnail.tif\" -crop 277x219+433+203  \"/shared/CSHL_data_processed/MD585/MD585_prep3_thumbnail/MD585-N35-2015.07.16-21.48.15_MD585_1_0103_prep3_thumbnail.tif\"\n",
      "convert \"/shared/CSHL_data_processed/MD585/MD585_prep1_thumbnail/MD585-IHC35-2015.07.16-16.43.41_MD585_1_0103_prep1_thumbnail.tif\" -crop 277x219+433+203  \"/shared/CSHL_data_processed/MD585/MD585_prep3_thumbnail/MD585-IHC35-2015.07.16-16.43.41_MD585_1_0103_prep3_thumbnail.tif\"\n",
      "convert \"/shared/CSHL_data_processed/MD585/MD585_prep1_thumbnail/MD585-N35-2015.07.16-21.48.15_MD585_2_0104_prep1_thumbnail.tif\" -crop 277x219+433+203  \"/shared/CSHL_data_processed/MD585/MD585_prep3_thumbnail/MD585-N35-2015.07.16-21.48.15_MD585_2_0104_prep3_thumbnail.tif\"\n",
      "convert \"/shared/CSHL_data_processed/MD585/MD585_prep1_thumbnail/MD585-IHC35-2015.07.16-16.43.41_MD585_2_0104_prep1_thumbnail.tif\" -crop 277x219+433+203  \"/shared/CSHL_data_processed/MD585/MD585_prep3_thumbnail/MD585-IHC35-2015.07.16-16.43.41_MD585_2_0104_prep3_thumbnail.tif\"\n"
     ]
    },
    {
     "name": "stdout",
     "output_type": "stream",
     "text": [
      "convert \"/shared/CSHL_data_processed/MD585/MD585_prep1_thumbnail/MD585-N35-2015.07.16-21.48.15_MD585_3_0105_prep1_thumbnail.tif\" -crop 277x219+433+203  \"/shared/CSHL_data_processed/MD585/MD585_prep3_thumbnail/MD585-N35-2015.07.16-21.48.15_MD585_3_0105_prep3_thumbnail.tif\"\n",
      "convert \"/shared/CSHL_data_processed/MD585/MD585_prep1_thumbnail/MD585-IHC35-2015.07.16-16.43.41_MD585_3_0105_prep1_thumbnail.tif\" -crop 277x219+433+203  \"/shared/CSHL_data_processed/MD585/MD585_prep3_thumbnail/MD585-IHC35-2015.07.16-16.43.41_MD585_3_0105_prep3_thumbnail.tif\"\n",
      "convert \"/shared/CSHL_data_processed/MD585/MD585_prep1_thumbnail/MD585-N36-2015.07.16-21.53.31_MD585_1_0106_prep1_thumbnail.tif\" -crop 277x219+433+203  \"/shared/CSHL_data_processed/MD585/MD585_prep3_thumbnail/MD585-N36-2015.07.16-21.53.31_MD585_1_0106_prep3_thumbnail.tif\"\n",
      "convert \"/shared/CSHL_data_processed/MD585/MD585_prep1_thumbnail/MD585-IHC36-2015.08.19-13.58.57_MD585_1_0106_prep1_thumbnail.tif\" -crop 277x219+433+203  \"/shared/CSHL_data_processed/MD585/MD585_prep3_thumbnail/MD585-IHC36-2015.08.19-13.58.57_MD585_1_0106_prep3_thumbnail.tif\"\n",
      "convert \"/shared/CSHL_data_processed/MD585/MD585_prep1_thumbnail/MD585-N36-2015.07.16-21.53.31_MD585_2_0107_prep1_thumbnail.tif\" -crop 277x219+433+203  \"/shared/CSHL_data_processed/MD585/MD585_prep3_thumbnail/MD585-N36-2015.07.16-21.53.31_MD585_2_0107_prep3_thumbnail.tif\"\n",
      "convert \"/shared/CSHL_data_processed/MD585/MD585_prep1_thumbnail/MD585-IHC36-2015.08.19-13.58.57_MD585_2_0107_prep1_thumbnail.tif\" -crop 277x219+433+203  \"/shared/CSHL_data_processed/MD585/MD585_prep3_thumbnail/MD585-IHC36-2015.08.19-13.58.57_MD585_2_0107_prep3_thumbnail.tif\"\n",
      "convert \"/shared/CSHL_data_processed/MD585/MD585_prep1_thumbnail/MD585-N36-2015.07.16-21.53.31_MD585_3_0108_prep1_thumbnail.tif\" -crop 277x219+433+203  \"/shared/CSHL_data_processed/MD585/MD585_prep3_thumbnail/MD585-N36-2015.07.16-21.53.31_MD585_3_0108_prep3_thumbnail.tif\"\n",
      "convert \"/shared/CSHL_data_processed/MD585/MD585_prep1_thumbnail/MD585-IHC36-2015.08.19-13.58.57_MD585_3_0108_prep1_thumbnail.tif\" -crop 277x219+433+203  \"/shared/CSHL_data_processed/MD585/MD585_prep3_thumbnail/MD585-IHC36-2015.08.19-13.58.57_MD585_3_0108_prep3_thumbnail.tif\"\n",
      "convert \"/shared/CSHL_data_processed/MD585/MD585_prep1_thumbnail/MD585-N37-2015.07.16-21.59.03_MD585_1_0109_prep1_thumbnail.tif\" -crop 277x219+433+203  \"/shared/CSHL_data_processed/MD585/MD585_prep3_thumbnail/MD585-N37-2015.07.16-21.59.03_MD585_1_0109_prep3_thumbnail.tif\"\n",
      "convert \"/shared/CSHL_data_processed/MD585/MD585_prep1_thumbnail/MD585-IHC37-2015.08.19-14.04.32_MD585_1_0109_prep1_thumbnail.tif\" -crop 277x219+433+203  \"/shared/CSHL_data_processed/MD585/MD585_prep3_thumbnail/MD585-IHC37-2015.08.19-14.04.32_MD585_1_0109_prep3_thumbnail.tif\"\n",
      "convert \"/shared/CSHL_data_processed/MD585/MD585_prep1_thumbnail/MD585-N37-2015.07.16-21.59.03_MD585_2_0110_prep1_thumbnail.tif\" -crop 277x219+433+203  \"/shared/CSHL_data_processed/MD585/MD585_prep3_thumbnail/MD585-N37-2015.07.16-21.59.03_MD585_2_0110_prep3_thumbnail.tif\"\n",
      "convert \"/shared/CSHL_data_processed/MD585/MD585_prep1_thumbnail/MD585-IHC37-2015.08.19-14.04.32_MD585_2_0110_prep1_thumbnail.tif\" -crop 277x219+433+203  \"/shared/CSHL_data_processed/MD585/MD585_prep3_thumbnail/MD585-IHC37-2015.08.19-14.04.32_MD585_2_0110_prep3_thumbnail.tif\"\n",
      "convert \"/shared/CSHL_data_processed/MD585/MD585_prep1_thumbnail/MD585-N37-2015.07.16-21.59.03_MD585_3_0111_prep1_thumbnail.tif\" -crop 277x219+433+203  \"/shared/CSHL_data_processed/MD585/MD585_prep3_thumbnail/MD585-N37-2015.07.16-21.59.03_MD585_3_0111_prep3_thumbnail.tif\"\n",
      "convert \"/shared/CSHL_data_processed/MD585/MD585_prep1_thumbnail/MD585-IHC37-2015.08.19-14.04.32_MD585_3_0111_prep1_thumbnail.tif\" -crop 277x219+433+203  \"/shared/CSHL_data_processed/MD585/MD585_prep3_thumbnail/MD585-IHC37-2015.08.19-14.04.32_MD585_3_0111_prep3_thumbnail.tif\"\n",
      "convert \"/shared/CSHL_data_processed/MD585/MD585_prep1_thumbnail/MD585-N38-2015.07.16-22.04.12_MD585_1_0112_prep1_thumbnail.tif\" -crop 277x219+433+203  \"/shared/CSHL_data_processed/MD585/MD585_prep3_thumbnail/MD585-N38-2015.07.16-22.04.12_MD585_1_0112_prep3_thumbnail.tif\"\n",
      "convert \"/shared/CSHL_data_processed/MD585/MD585_prep1_thumbnail/MD585-IHC38-2015.07.16-17.00.35_MD585_1_0112_prep1_thumbnail.tif\" -crop 277x219+433+203  \"/shared/CSHL_data_processed/MD585/MD585_prep3_thumbnail/MD585-IHC38-2015.07.16-17.00.35_MD585_1_0112_prep3_thumbnail.tif\"\n",
      "convert \"/shared/CSHL_data_processed/MD585/MD585_prep1_thumbnail/MD585-N38-2015.07.16-22.04.12_MD585_2_0113_prep1_thumbnail.tif\" -crop 277x219+433+203  \"/shared/CSHL_data_processed/MD585/MD585_prep3_thumbnail/MD585-N38-2015.07.16-22.04.12_MD585_2_0113_prep3_thumbnail.tif\"\n",
      "convert \"/shared/CSHL_data_processed/MD585/MD585_prep1_thumbnail/MD585-IHC38-2015.07.16-17.00.35_MD585_2_0113_prep1_thumbnail.tif\" -crop 277x219+433+203  \"/shared/CSHL_data_processed/MD585/MD585_prep3_thumbnail/MD585-IHC38-2015.07.16-17.00.35_MD585_2_0113_prep3_thumbnail.tif\"\n",
      "convert \"/shared/CSHL_data_processed/MD585/MD585_prep1_thumbnail/MD585-N38-2015.07.16-22.04.12_MD585_3_0114_prep1_thumbnail.tif\" -crop 277x219+433+203  \"/shared/CSHL_data_processed/MD585/MD585_prep3_thumbnail/MD585-N38-2015.07.16-22.04.12_MD585_3_0114_prep3_thumbnail.tif\"\n",
      "convert \"/shared/CSHL_data_processed/MD585/MD585_prep1_thumbnail/MD585-IHC38-2015.07.16-17.00.35_MD585_3_0114_prep1_thumbnail.tif\" -crop 277x219+433+203  \"/shared/CSHL_data_processed/MD585/MD585_prep3_thumbnail/MD585-IHC38-2015.07.16-17.00.35_MD585_3_0114_prep3_thumbnail.tif\"\n",
      "convert \"/shared/CSHL_data_processed/MD585/MD585_prep1_thumbnail/MD585-N39-2015.07.16-22.09.19_MD585_1_0115_prep1_thumbnail.tif\" -crop 277x219+433+203  \"/shared/CSHL_data_processed/MD585/MD585_prep3_thumbnail/MD585-N39-2015.07.16-22.09.19_MD585_1_0115_prep3_thumbnail.tif\"\n",
      "convert \"/shared/CSHL_data_processed/MD585/MD585_prep1_thumbnail/MD585-IHC39-2015.08.19-14.10.09_MD585_1_0115_prep1_thumbnail.tif\" -crop 277x219+433+203  \"/shared/CSHL_data_processed/MD585/MD585_prep3_thumbnail/MD585-IHC39-2015.08.19-14.10.09_MD585_1_0115_prep3_thumbnail.tif\"\n",
      "convert \"/shared/CSHL_data_processed/MD585/MD585_prep1_thumbnail/MD585-N39-2015.07.16-22.09.19_MD585_2_0116_prep1_thumbnail.tif\" -crop 277x219+433+203  \"/shared/CSHL_data_processed/MD585/MD585_prep3_thumbnail/MD585-N39-2015.07.16-22.09.19_MD585_2_0116_prep3_thumbnail.tif\"\n",
      "convert \"/shared/CSHL_data_processed/MD585/MD585_prep1_thumbnail/MD585-IHC39-2015.08.19-14.10.09_MD585_2_0116_prep1_thumbnail.tif\" -crop 277x219+433+203  \"/shared/CSHL_data_processed/MD585/MD585_prep3_thumbnail/MD585-IHC39-2015.08.19-14.10.09_MD585_2_0116_prep3_thumbnail.tif\"\n",
      "convert \"/shared/CSHL_data_processed/MD585/MD585_prep1_thumbnail/MD585-N39-2015.07.16-22.09.19_MD585_3_0117_prep1_thumbnail.tif\" -crop 277x219+433+203  \"/shared/CSHL_data_processed/MD585/MD585_prep3_thumbnail/MD585-N39-2015.07.16-22.09.19_MD585_3_0117_prep3_thumbnail.tif\"\n",
      "convert \"/shared/CSHL_data_processed/MD585/MD585_prep1_thumbnail/MD585-IHC39-2015.08.19-14.10.09_MD585_3_0117_prep1_thumbnail.tif\" -crop 277x219+433+203  \"/shared/CSHL_data_processed/MD585/MD585_prep3_thumbnail/MD585-IHC39-2015.08.19-14.10.09_MD585_3_0117_prep3_thumbnail.tif\"\n",
      "convert \"/shared/CSHL_data_processed/MD585/MD585_prep1_thumbnail/MD585-N40-2015.07.16-22.14.28_MD585_1_0118_prep1_thumbnail.tif\" -crop 277x219+433+203  \"/shared/CSHL_data_processed/MD585/MD585_prep3_thumbnail/MD585-N40-2015.07.16-22.14.28_MD585_1_0118_prep3_thumbnail.tif\"\n",
      "convert \"/shared/CSHL_data_processed/MD585/MD585_prep1_thumbnail/MD585-IHC40-2015.08.19-14.15.44_MD585_1_0118_prep1_thumbnail.tif\" -crop 277x219+433+203  \"/shared/CSHL_data_processed/MD585/MD585_prep3_thumbnail/MD585-IHC40-2015.08.19-14.15.44_MD585_1_0118_prep3_thumbnail.tif\"\n",
      "convert \"/shared/CSHL_data_processed/MD585/MD585_prep1_thumbnail/MD585-N40-2015.07.16-22.14.28_MD585_2_0119_prep1_thumbnail.tif\" -crop 277x219+433+203  \"/shared/CSHL_data_processed/MD585/MD585_prep3_thumbnail/MD585-N40-2015.07.16-22.14.28_MD585_2_0119_prep3_thumbnail.tif\"\n",
      "convert \"/shared/CSHL_data_processed/MD585/MD585_prep1_thumbnail/MD585-IHC40-2015.08.19-14.15.44_MD585_2_0119_prep1_thumbnail.tif\" -crop 277x219+433+203  \"/shared/CSHL_data_processed/MD585/MD585_prep3_thumbnail/MD585-IHC40-2015.08.19-14.15.44_MD585_2_0119_prep3_thumbnail.tif\"\n"
     ]
    },
    {
     "name": "stdout",
     "output_type": "stream",
     "text": [
      "convert \"/shared/CSHL_data_processed/MD585/MD585_prep1_thumbnail/MD585-N40-2015.07.16-22.14.28_MD585_3_0120_prep1_thumbnail.tif\" -crop 277x219+433+203  \"/shared/CSHL_data_processed/MD585/MD585_prep3_thumbnail/MD585-N40-2015.07.16-22.14.28_MD585_3_0120_prep3_thumbnail.tif\"\n",
      "convert \"/shared/CSHL_data_processed/MD585/MD585_prep1_thumbnail/MD585-IHC40-2015.08.19-14.15.44_MD585_3_0120_prep1_thumbnail.tif\" -crop 277x219+433+203  \"/shared/CSHL_data_processed/MD585/MD585_prep3_thumbnail/MD585-IHC40-2015.08.19-14.15.44_MD585_3_0120_prep3_thumbnail.tif\"\n",
      "convert \"/shared/CSHL_data_processed/MD585/MD585_prep1_thumbnail/MD585-N41-2015.07.16-22.19.30_MD585_1_0121_prep1_thumbnail.tif\" -crop 277x219+433+203  \"/shared/CSHL_data_processed/MD585/MD585_prep3_thumbnail/MD585-N41-2015.07.16-22.19.30_MD585_1_0121_prep3_thumbnail.tif\"\n",
      "convert \"/shared/CSHL_data_processed/MD585/MD585_prep1_thumbnail/MD585-IHC41-2015.08.19-14.21.09_MD585_1_0121_prep1_thumbnail.tif\" -crop 277x219+433+203  \"/shared/CSHL_data_processed/MD585/MD585_prep3_thumbnail/MD585-IHC41-2015.08.19-14.21.09_MD585_1_0121_prep3_thumbnail.tif\"\n",
      "convert \"/shared/CSHL_data_processed/MD585/MD585_prep1_thumbnail/MD585-N41-2015.07.16-22.19.30_MD585_2_0122_prep1_thumbnail.tif\" -crop 277x219+433+203  \"/shared/CSHL_data_processed/MD585/MD585_prep3_thumbnail/MD585-N41-2015.07.16-22.19.30_MD585_2_0122_prep3_thumbnail.tif\"\n",
      "convert \"/shared/CSHL_data_processed/MD585/MD585_prep1_thumbnail/MD585-IHC41-2015.08.19-14.21.09_MD585_2_0122_prep1_thumbnail.tif\" -crop 277x219+433+203  \"/shared/CSHL_data_processed/MD585/MD585_prep3_thumbnail/MD585-IHC41-2015.08.19-14.21.09_MD585_2_0122_prep3_thumbnail.tif\"\n",
      "convert \"/shared/CSHL_data_processed/MD585/MD585_prep1_thumbnail/MD585-N41-2015.07.16-22.19.30_MD585_3_0123_prep1_thumbnail.tif\" -crop 277x219+433+203  \"/shared/CSHL_data_processed/MD585/MD585_prep3_thumbnail/MD585-N41-2015.07.16-22.19.30_MD585_3_0123_prep3_thumbnail.tif\"\n",
      "convert \"/shared/CSHL_data_processed/MD585/MD585_prep1_thumbnail/MD585-IHC41-2015.08.19-14.21.09_MD585_3_0123_prep1_thumbnail.tif\" -crop 277x219+433+203  \"/shared/CSHL_data_processed/MD585/MD585_prep3_thumbnail/MD585-IHC41-2015.08.19-14.21.09_MD585_3_0123_prep3_thumbnail.tif\"\n",
      "convert \"/shared/CSHL_data_processed/MD585/MD585_prep1_thumbnail/MD585-N42-2015.07.16-22.24.42_MD585_1_0124_prep1_thumbnail.tif\" -crop 277x219+433+203  \"/shared/CSHL_data_processed/MD585/MD585_prep3_thumbnail/MD585-N42-2015.07.16-22.24.42_MD585_1_0124_prep3_thumbnail.tif\"\n",
      "convert \"/shared/CSHL_data_processed/MD585/MD585_prep1_thumbnail/MD585-IHC42-2015.08.19-14.26.30_MD585_1_0124_prep1_thumbnail.tif\" -crop 277x219+433+203  \"/shared/CSHL_data_processed/MD585/MD585_prep3_thumbnail/MD585-IHC42-2015.08.19-14.26.30_MD585_1_0124_prep3_thumbnail.tif\"\n",
      "convert \"/shared/CSHL_data_processed/MD585/MD585_prep1_thumbnail/MD585-N42-2015.07.16-22.24.42_MD585_2_0125_prep1_thumbnail.tif\" -crop 277x219+433+203  \"/shared/CSHL_data_processed/MD585/MD585_prep3_thumbnail/MD585-N42-2015.07.16-22.24.42_MD585_2_0125_prep3_thumbnail.tif\"\n",
      "convert \"/shared/CSHL_data_processed/MD585/MD585_prep1_thumbnail/MD585-IHC42-2015.08.19-14.26.30_MD585_2_0125_prep1_thumbnail.tif\" -crop 277x219+433+203  \"/shared/CSHL_data_processed/MD585/MD585_prep3_thumbnail/MD585-IHC42-2015.08.19-14.26.30_MD585_2_0125_prep3_thumbnail.tif\"\n",
      "convert \"/shared/CSHL_data_processed/MD585/MD585_prep1_thumbnail/MD585-N42-2015.07.16-22.24.42_MD585_3_0126_prep1_thumbnail.tif\" -crop 277x219+433+203  \"/shared/CSHL_data_processed/MD585/MD585_prep3_thumbnail/MD585-N42-2015.07.16-22.24.42_MD585_3_0126_prep3_thumbnail.tif\"\n",
      "convert \"/shared/CSHL_data_processed/MD585/MD585_prep1_thumbnail/MD585-IHC42-2015.08.19-14.26.30_MD585_3_0126_prep1_thumbnail.tif\" -crop 277x219+433+203  \"/shared/CSHL_data_processed/MD585/MD585_prep3_thumbnail/MD585-IHC42-2015.08.19-14.26.30_MD585_3_0126_prep3_thumbnail.tif\"\n",
      "convert \"/shared/CSHL_data_processed/MD585/MD585_prep1_thumbnail/MD585-N43-2015.07.16-22.29.50_MD585_1_0127_prep1_thumbnail.tif\" -crop 277x219+433+203  \"/shared/CSHL_data_processed/MD585/MD585_prep3_thumbnail/MD585-N43-2015.07.16-22.29.50_MD585_1_0127_prep3_thumbnail.tif\"\n",
      "convert \"/shared/CSHL_data_processed/MD585/MD585_prep1_thumbnail/MD585-IHC43-2015.08.19-14.32.02_MD585_1_0127_prep1_thumbnail.tif\" -crop 277x219+433+203  \"/shared/CSHL_data_processed/MD585/MD585_prep3_thumbnail/MD585-IHC43-2015.08.19-14.32.02_MD585_1_0127_prep3_thumbnail.tif\"\n",
      "convert \"/shared/CSHL_data_processed/MD585/MD585_prep1_thumbnail/MD585-N43-2015.07.16-22.29.50_MD585_2_0128_prep1_thumbnail.tif\" -crop 277x219+433+203  \"/shared/CSHL_data_processed/MD585/MD585_prep3_thumbnail/MD585-N43-2015.07.16-22.29.50_MD585_2_0128_prep3_thumbnail.tif\"\n",
      "convert \"/shared/CSHL_data_processed/MD585/MD585_prep1_thumbnail/MD585-IHC43-2015.08.19-14.32.02_MD585_2_0128_prep1_thumbnail.tif\" -crop 277x219+433+203  \"/shared/CSHL_data_processed/MD585/MD585_prep3_thumbnail/MD585-IHC43-2015.08.19-14.32.02_MD585_2_0128_prep3_thumbnail.tif\"\n",
      "convert \"/shared/CSHL_data_processed/MD585/MD585_prep1_thumbnail/MD585-N43-2015.07.16-22.29.50_MD585_3_0129_prep1_thumbnail.tif\" -crop 277x219+433+203  \"/shared/CSHL_data_processed/MD585/MD585_prep3_thumbnail/MD585-N43-2015.07.16-22.29.50_MD585_3_0129_prep3_thumbnail.tif\"\n",
      "convert \"/shared/CSHL_data_processed/MD585/MD585_prep1_thumbnail/MD585-IHC43-2015.08.19-14.32.02_MD585_3_0129_prep1_thumbnail.tif\" -crop 277x219+433+203  \"/shared/CSHL_data_processed/MD585/MD585_prep3_thumbnail/MD585-IHC43-2015.08.19-14.32.02_MD585_3_0129_prep3_thumbnail.tif\"\n",
      "convert \"/shared/CSHL_data_processed/MD585/MD585_prep1_thumbnail/MD585-N44-2015.07.16-22.35.02_MD585_1_0130_prep1_thumbnail.tif\" -crop 277x219+433+203  \"/shared/CSHL_data_processed/MD585/MD585_prep3_thumbnail/MD585-N44-2015.07.16-22.35.02_MD585_1_0130_prep3_thumbnail.tif\"\n",
      "convert \"/shared/CSHL_data_processed/MD585/MD585_prep1_thumbnail/MD585-IHC44-2015.08.19-14.37.23_MD585_1_0130_prep1_thumbnail.tif\" -crop 277x219+433+203  \"/shared/CSHL_data_processed/MD585/MD585_prep3_thumbnail/MD585-IHC44-2015.08.19-14.37.23_MD585_1_0130_prep3_thumbnail.tif\"\n",
      "convert \"/shared/CSHL_data_processed/MD585/MD585_prep1_thumbnail/MD585-N44-2015.07.16-22.35.02_MD585_2_0131_prep1_thumbnail.tif\" -crop 277x219+433+203  \"/shared/CSHL_data_processed/MD585/MD585_prep3_thumbnail/MD585-N44-2015.07.16-22.35.02_MD585_2_0131_prep3_thumbnail.tif\"\n",
      "convert \"/shared/CSHL_data_processed/MD585/MD585_prep1_thumbnail/MD585-IHC44-2015.08.19-14.37.23_MD585_2_0131_prep1_thumbnail.tif\" -crop 277x219+433+203  \"/shared/CSHL_data_processed/MD585/MD585_prep3_thumbnail/MD585-IHC44-2015.08.19-14.37.23_MD585_2_0131_prep3_thumbnail.tif\"\n",
      "convert \"/shared/CSHL_data_processed/MD585/MD585_prep1_thumbnail/MD585-N44-2015.07.16-22.35.02_MD585_3_0132_prep1_thumbnail.tif\" -crop 277x219+433+203  \"/shared/CSHL_data_processed/MD585/MD585_prep3_thumbnail/MD585-N44-2015.07.16-22.35.02_MD585_3_0132_prep3_thumbnail.tif\"\n",
      "convert \"/shared/CSHL_data_processed/MD585/MD585_prep1_thumbnail/MD585-IHC44-2015.08.19-14.37.23_MD585_3_0132_prep1_thumbnail.tif\" -crop 277x219+433+203  \"/shared/CSHL_data_processed/MD585/MD585_prep3_thumbnail/MD585-IHC44-2015.08.19-14.37.23_MD585_3_0132_prep3_thumbnail.tif\"\n",
      "convert \"/shared/CSHL_data_processed/MD585/MD585_prep1_thumbnail/MD585-N45-2015.07.16-22.40.26_MD585_1_0133_prep1_thumbnail.tif\" -crop 277x219+433+203  \"/shared/CSHL_data_processed/MD585/MD585_prep3_thumbnail/MD585-N45-2015.07.16-22.40.26_MD585_1_0133_prep3_thumbnail.tif\"\n",
      "convert \"/shared/CSHL_data_processed/MD585/MD585_prep1_thumbnail/MD585-IHC45-2015.08.19-14.42.34_MD585_1_0133_prep1_thumbnail.tif\" -crop 277x219+433+203  \"/shared/CSHL_data_processed/MD585/MD585_prep3_thumbnail/MD585-IHC45-2015.08.19-14.42.34_MD585_1_0133_prep3_thumbnail.tif\"\n",
      "convert \"/shared/CSHL_data_processed/MD585/MD585_prep1_thumbnail/MD585-N45-2015.07.16-22.40.26_MD585_2_0134_prep1_thumbnail.tif\" -crop 277x219+433+203  \"/shared/CSHL_data_processed/MD585/MD585_prep3_thumbnail/MD585-N45-2015.07.16-22.40.26_MD585_2_0134_prep3_thumbnail.tif\"\n",
      "convert \"/shared/CSHL_data_processed/MD585/MD585_prep1_thumbnail/MD585-IHC45-2015.08.19-14.42.34_MD585_2_0134_prep1_thumbnail.tif\" -crop 277x219+433+203  \"/shared/CSHL_data_processed/MD585/MD585_prep3_thumbnail/MD585-IHC45-2015.08.19-14.42.34_MD585_2_0134_prep3_thumbnail.tif\"\n"
     ]
    },
    {
     "name": "stdout",
     "output_type": "stream",
     "text": [
      "convert \"/shared/CSHL_data_processed/MD585/MD585_prep1_thumbnail/MD585-N45-2015.07.16-22.40.26_MD585_3_0135_prep1_thumbnail.tif\" -crop 277x219+433+203  \"/shared/CSHL_data_processed/MD585/MD585_prep3_thumbnail/MD585-N45-2015.07.16-22.40.26_MD585_3_0135_prep3_thumbnail.tif\"\n",
      "convert \"/shared/CSHL_data_processed/MD585/MD585_prep1_thumbnail/MD585-IHC45-2015.08.19-14.42.34_MD585_3_0135_prep1_thumbnail.tif\" -crop 277x219+433+203  \"/shared/CSHL_data_processed/MD585/MD585_prep3_thumbnail/MD585-IHC45-2015.08.19-14.42.34_MD585_3_0135_prep3_thumbnail.tif\"\n",
      "convert \"/shared/CSHL_data_processed/MD585/MD585_prep1_thumbnail/MD585-N46-2015.07.16-22.45.37_MD585_1_0136_prep1_thumbnail.tif\" -crop 277x219+433+203  \"/shared/CSHL_data_processed/MD585/MD585_prep3_thumbnail/MD585-N46-2015.07.16-22.45.37_MD585_1_0136_prep3_thumbnail.tif\"\n",
      "convert \"/shared/CSHL_data_processed/MD585/MD585_prep1_thumbnail/MD585-IHC46-2015.08.19-14.47.51_MD585_1_0136_prep1_thumbnail.tif\" -crop 277x219+433+203  \"/shared/CSHL_data_processed/MD585/MD585_prep3_thumbnail/MD585-IHC46-2015.08.19-14.47.51_MD585_1_0136_prep3_thumbnail.tif\"\n",
      "convert \"/shared/CSHL_data_processed/MD585/MD585_prep1_thumbnail/MD585-N46-2015.07.16-22.45.37_MD585_2_0137_prep1_thumbnail.tif\" -crop 277x219+433+203  \"/shared/CSHL_data_processed/MD585/MD585_prep3_thumbnail/MD585-N46-2015.07.16-22.45.37_MD585_2_0137_prep3_thumbnail.tif\"\n",
      "convert \"/shared/CSHL_data_processed/MD585/MD585_prep1_thumbnail/MD585-IHC46-2015.08.19-14.47.51_MD585_2_0137_prep1_thumbnail.tif\" -crop 277x219+433+203  \"/shared/CSHL_data_processed/MD585/MD585_prep3_thumbnail/MD585-IHC46-2015.08.19-14.47.51_MD585_2_0137_prep3_thumbnail.tif\"\n",
      "convert \"/shared/CSHL_data_processed/MD585/MD585_prep1_thumbnail/MD585-N46-2015.07.16-22.45.37_MD585_3_0138_prep1_thumbnail.tif\" -crop 277x219+433+203  \"/shared/CSHL_data_processed/MD585/MD585_prep3_thumbnail/MD585-N46-2015.07.16-22.45.37_MD585_3_0138_prep3_thumbnail.tif\"\n",
      "convert \"/shared/CSHL_data_processed/MD585/MD585_prep1_thumbnail/MD585-IHC46-2015.08.19-14.47.51_MD585_3_0138_prep1_thumbnail.tif\" -crop 277x219+433+203  \"/shared/CSHL_data_processed/MD585/MD585_prep3_thumbnail/MD585-IHC46-2015.08.19-14.47.51_MD585_3_0138_prep3_thumbnail.tif\"\n",
      "convert \"/shared/CSHL_data_processed/MD585/MD585_prep1_thumbnail/MD585-N47-2015.07.16-22.50.52_MD585_1_0139_prep1_thumbnail.tif\" -crop 277x219+433+203  \"/shared/CSHL_data_processed/MD585/MD585_prep3_thumbnail/MD585-N47-2015.07.16-22.50.52_MD585_1_0139_prep3_thumbnail.tif\"\n",
      "convert \"/shared/CSHL_data_processed/MD585/MD585_prep1_thumbnail/MD585-IHC47-2015.08.19-14.53.04_MD585_1_0139_prep1_thumbnail.tif\" -crop 277x219+433+203  \"/shared/CSHL_data_processed/MD585/MD585_prep3_thumbnail/MD585-IHC47-2015.08.19-14.53.04_MD585_1_0139_prep3_thumbnail.tif\"\n",
      "convert \"/shared/CSHL_data_processed/MD585/MD585_prep1_thumbnail/MD585-N47-2015.07.16-22.50.52_MD585_2_0140_prep1_thumbnail.tif\" -crop 277x219+433+203  \"/shared/CSHL_data_processed/MD585/MD585_prep3_thumbnail/MD585-N47-2015.07.16-22.50.52_MD585_2_0140_prep3_thumbnail.tif\"\n",
      "convert \"/shared/CSHL_data_processed/MD585/MD585_prep1_thumbnail/MD585-IHC47-2015.08.19-14.53.04_MD585_2_0140_prep1_thumbnail.tif\" -crop 277x219+433+203  \"/shared/CSHL_data_processed/MD585/MD585_prep3_thumbnail/MD585-IHC47-2015.08.19-14.53.04_MD585_2_0140_prep3_thumbnail.tif\"\n",
      "convert \"/shared/CSHL_data_processed/MD585/MD585_prep1_thumbnail/MD585-N47-2015.07.16-22.50.52_MD585_3_0141_prep1_thumbnail.tif\" -crop 277x219+433+203  \"/shared/CSHL_data_processed/MD585/MD585_prep3_thumbnail/MD585-N47-2015.07.16-22.50.52_MD585_3_0141_prep3_thumbnail.tif\"\n",
      "convert \"/shared/CSHL_data_processed/MD585/MD585_prep1_thumbnail/MD585-IHC47-2015.08.19-14.53.04_MD585_3_0141_prep1_thumbnail.tif\" -crop 277x219+433+203  \"/shared/CSHL_data_processed/MD585/MD585_prep3_thumbnail/MD585-IHC47-2015.08.19-14.53.04_MD585_3_0141_prep3_thumbnail.tif\"\n",
      "convert \"/shared/CSHL_data_processed/MD585/MD585_prep1_thumbnail/MD585-N48-2015.07.16-22.56.02_MD585_1_0142_prep1_thumbnail.tif\" -crop 277x219+433+203  \"/shared/CSHL_data_processed/MD585/MD585_prep3_thumbnail/MD585-N48-2015.07.16-22.56.02_MD585_1_0142_prep3_thumbnail.tif\"\n",
      "convert \"/shared/CSHL_data_processed/MD585/MD585_prep1_thumbnail/MD585-IHC48-2015.08.19-14.58.14_MD585_1_0142_prep1_thumbnail.tif\" -crop 277x219+433+203  \"/shared/CSHL_data_processed/MD585/MD585_prep3_thumbnail/MD585-IHC48-2015.08.19-14.58.14_MD585_1_0142_prep3_thumbnail.tif\"\n",
      "convert \"/shared/CSHL_data_processed/MD585/MD585_prep1_thumbnail/MD585-N48-2015.07.16-22.56.02_MD585_2_0143_prep1_thumbnail.tif\" -crop 277x219+433+203  \"/shared/CSHL_data_processed/MD585/MD585_prep3_thumbnail/MD585-N48-2015.07.16-22.56.02_MD585_2_0143_prep3_thumbnail.tif\"\n",
      "convert \"/shared/CSHL_data_processed/MD585/MD585_prep1_thumbnail/MD585-IHC48-2015.08.19-14.58.14_MD585_2_0143_prep1_thumbnail.tif\" -crop 277x219+433+203  \"/shared/CSHL_data_processed/MD585/MD585_prep3_thumbnail/MD585-IHC48-2015.08.19-14.58.14_MD585_2_0143_prep3_thumbnail.tif\"\n",
      "convert \"/shared/CSHL_data_processed/MD585/MD585_prep1_thumbnail/MD585-N48-2015.07.16-22.56.02_MD585_3_0144_prep1_thumbnail.tif\" -crop 277x219+433+203  \"/shared/CSHL_data_processed/MD585/MD585_prep3_thumbnail/MD585-N48-2015.07.16-22.56.02_MD585_3_0144_prep3_thumbnail.tif\"\n",
      "convert \"/shared/CSHL_data_processed/MD585/MD585_prep1_thumbnail/MD585-IHC48-2015.08.19-14.58.14_MD585_3_0144_prep1_thumbnail.tif\" -crop 277x219+433+203  \"/shared/CSHL_data_processed/MD585/MD585_prep3_thumbnail/MD585-IHC48-2015.08.19-14.58.14_MD585_3_0144_prep3_thumbnail.tif\"\n",
      "convert \"/shared/CSHL_data_processed/MD585/MD585_prep1_thumbnail/MD585-N49-2015.07.16-23.01.02_MD585_1_0145_prep1_thumbnail.tif\" -crop 277x219+433+203  \"/shared/CSHL_data_processed/MD585/MD585_prep3_thumbnail/MD585-N49-2015.07.16-23.01.02_MD585_1_0145_prep3_thumbnail.tif\"\n",
      "convert \"/shared/CSHL_data_processed/MD585/MD585_prep1_thumbnail/MD585-IHC49-2015.07.16-17.58.21_MD585_3_0147_prep1_thumbnail.tif\" -crop 277x219+433+203  \"/shared/CSHL_data_processed/MD585/MD585_prep3_thumbnail/MD585-IHC49-2015.07.16-17.58.21_MD585_3_0147_prep3_thumbnail.tif\"\n",
      "convert \"/shared/CSHL_data_processed/MD585/MD585_prep1_thumbnail/MD585-N49-2015.07.16-23.01.02_MD585_2_0146_prep1_thumbnail.tif\" -crop 277x219+433+203  \"/shared/CSHL_data_processed/MD585/MD585_prep3_thumbnail/MD585-N49-2015.07.16-23.01.02_MD585_2_0146_prep3_thumbnail.tif\"\n",
      "convert \"/shared/CSHL_data_processed/MD585/MD585_prep1_thumbnail/MD585-IHC49-2015.07.16-17.58.21_MD585_2_0146_prep1_thumbnail.tif\" -crop 277x219+433+203  \"/shared/CSHL_data_processed/MD585/MD585_prep3_thumbnail/MD585-IHC49-2015.07.16-17.58.21_MD585_2_0146_prep3_thumbnail.tif\"\n",
      "convert \"/shared/CSHL_data_processed/MD585/MD585_prep1_thumbnail/MD585-N49-2015.07.16-23.01.02_MD585_3_0147_prep1_thumbnail.tif\" -crop 277x219+433+203  \"/shared/CSHL_data_processed/MD585/MD585_prep3_thumbnail/MD585-N49-2015.07.16-23.01.02_MD585_3_0147_prep3_thumbnail.tif\"\n",
      "convert \"/shared/CSHL_data_processed/MD585/MD585_prep1_thumbnail/MD585-IHC49-2015.07.16-17.58.21_MD585_1_0145_prep1_thumbnail.tif\" -crop 277x219+433+203  \"/shared/CSHL_data_processed/MD585/MD585_prep3_thumbnail/MD585-IHC49-2015.07.16-17.58.21_MD585_1_0145_prep3_thumbnail.tif\"\n",
      "convert \"/shared/CSHL_data_processed/MD585/MD585_prep1_thumbnail/MD585-N50-2015.07.16-23.05.49_MD585_1_0148_prep1_thumbnail.tif\" -crop 277x219+433+203  \"/shared/CSHL_data_processed/MD585/MD585_prep3_thumbnail/MD585-N50-2015.07.16-23.05.49_MD585_1_0148_prep3_thumbnail.tif\"\n",
      "convert \"/shared/CSHL_data_processed/MD585/MD585_prep1_thumbnail/MD585-IHC50-2015.07.16-18.02.54_MD585_3_0150_prep1_thumbnail.tif\" -crop 277x219+433+203  \"/shared/CSHL_data_processed/MD585/MD585_prep3_thumbnail/MD585-IHC50-2015.07.16-18.02.54_MD585_3_0150_prep3_thumbnail.tif\"\n",
      "convert \"/shared/CSHL_data_processed/MD585/MD585_prep1_thumbnail/MD585-N50-2015.07.16-23.05.49_MD585_2_0149_prep1_thumbnail.tif\" -crop 277x219+433+203  \"/shared/CSHL_data_processed/MD585/MD585_prep3_thumbnail/MD585-N50-2015.07.16-23.05.49_MD585_2_0149_prep3_thumbnail.tif\"\n",
      "convert \"/shared/CSHL_data_processed/MD585/MD585_prep1_thumbnail/MD585-IHC50-2015.07.16-18.02.54_MD585_2_0149_prep1_thumbnail.tif\" -crop 277x219+433+203  \"/shared/CSHL_data_processed/MD585/MD585_prep3_thumbnail/MD585-IHC50-2015.07.16-18.02.54_MD585_2_0149_prep3_thumbnail.tif\"\n"
     ]
    },
    {
     "name": "stdout",
     "output_type": "stream",
     "text": [
      "convert \"/shared/CSHL_data_processed/MD585/MD585_prep1_thumbnail/MD585-N50-2015.07.16-23.05.49_MD585_3_0150_prep1_thumbnail.tif\" -crop 277x219+433+203  \"/shared/CSHL_data_processed/MD585/MD585_prep3_thumbnail/MD585-N50-2015.07.16-23.05.49_MD585_3_0150_prep3_thumbnail.tif\"\n",
      "convert \"/shared/CSHL_data_processed/MD585/MD585_prep1_thumbnail/MD585-IHC50-2015.07.16-18.02.54_MD585_1_0148_prep1_thumbnail.tif\" -crop 277x219+433+203  \"/shared/CSHL_data_processed/MD585/MD585_prep3_thumbnail/MD585-IHC50-2015.07.16-18.02.54_MD585_1_0148_prep3_thumbnail.tif\"\n",
      "convert \"/shared/CSHL_data_processed/MD585/MD585_prep1_thumbnail/MD585-N51-2015.07.16-23.10.35_MD585_1_0151_prep1_thumbnail.tif\" -crop 277x219+433+203  \"/shared/CSHL_data_processed/MD585/MD585_prep3_thumbnail/MD585-N51-2015.07.16-23.10.35_MD585_1_0151_prep3_thumbnail.tif\"\n",
      "convert \"/shared/CSHL_data_processed/MD585/MD585_prep1_thumbnail/MD585-IHC51-2015.08.19-15.03.10_MD585_1_0151_prep1_thumbnail.tif\" -crop 277x219+433+203  \"/shared/CSHL_data_processed/MD585/MD585_prep3_thumbnail/MD585-IHC51-2015.08.19-15.03.10_MD585_1_0151_prep3_thumbnail.tif\"\n",
      "convert \"/shared/CSHL_data_processed/MD585/MD585_prep1_thumbnail/MD585-N51-2015.07.16-23.10.35_MD585_2_0152_prep1_thumbnail.tif\" -crop 277x219+433+203  \"/shared/CSHL_data_processed/MD585/MD585_prep3_thumbnail/MD585-N51-2015.07.16-23.10.35_MD585_2_0152_prep3_thumbnail.tif\"\n",
      "convert \"/shared/CSHL_data_processed/MD585/MD585_prep1_thumbnail/MD585-IHC51-2015.08.19-15.03.10_MD585_2_0152_prep1_thumbnail.tif\" -crop 277x219+433+203  \"/shared/CSHL_data_processed/MD585/MD585_prep3_thumbnail/MD585-IHC51-2015.08.19-15.03.10_MD585_2_0152_prep3_thumbnail.tif\"\n",
      "convert \"/shared/CSHL_data_processed/MD585/MD585_prep1_thumbnail/MD585-N51-2015.07.16-23.10.35_MD585_3_0153_prep1_thumbnail.tif\" -crop 277x219+433+203  \"/shared/CSHL_data_processed/MD585/MD585_prep3_thumbnail/MD585-N51-2015.07.16-23.10.35_MD585_3_0153_prep3_thumbnail.tif\"\n",
      "convert \"/shared/CSHL_data_processed/MD585/MD585_prep1_thumbnail/MD585-IHC51-2015.08.19-15.03.10_MD585_3_0153_prep1_thumbnail.tif\" -crop 277x219+433+203  \"/shared/CSHL_data_processed/MD585/MD585_prep3_thumbnail/MD585-IHC51-2015.08.19-15.03.10_MD585_3_0153_prep3_thumbnail.tif\"\n",
      "convert \"/shared/CSHL_data_processed/MD585/MD585_prep1_thumbnail/MD585-N52-2015.08.19-16.12.22_MD585_1_0154_prep1_thumbnail.tif\" -crop 277x219+433+203  \"/shared/CSHL_data_processed/MD585/MD585_prep3_thumbnail/MD585-N52-2015.08.19-16.12.22_MD585_1_0154_prep3_thumbnail.tif\"\n",
      "convert \"/shared/CSHL_data_processed/MD585/MD585_prep1_thumbnail/MD585-IHC52-2015.08.19-15.07.35_MD585_1_0154_prep1_thumbnail.tif\" -crop 277x219+433+203  \"/shared/CSHL_data_processed/MD585/MD585_prep3_thumbnail/MD585-IHC52-2015.08.19-15.07.35_MD585_1_0154_prep3_thumbnail.tif\"\n",
      "convert \"/shared/CSHL_data_processed/MD585/MD585_prep1_thumbnail/MD585-N52-2015.08.19-16.12.22_MD585_2_0155_prep1_thumbnail.tif\" -crop 277x219+433+203  \"/shared/CSHL_data_processed/MD585/MD585_prep3_thumbnail/MD585-N52-2015.08.19-16.12.22_MD585_2_0155_prep3_thumbnail.tif\"\n",
      "convert \"/shared/CSHL_data_processed/MD585/MD585_prep1_thumbnail/MD585-IHC52-2015.08.19-15.07.35_MD585_2_0155_prep1_thumbnail.tif\" -crop 277x219+433+203  \"/shared/CSHL_data_processed/MD585/MD585_prep3_thumbnail/MD585-IHC52-2015.08.19-15.07.35_MD585_2_0155_prep3_thumbnail.tif\"\n",
      "convert \"/shared/CSHL_data_processed/MD585/MD585_prep1_thumbnail/MD585-IHC52-2015.08.19-15.07.35_MD585_3_0156_prep1_thumbnail.tif\" -crop 277x219+433+203  \"/shared/CSHL_data_processed/MD585/MD585_prep3_thumbnail/MD585-IHC52-2015.08.19-15.07.35_MD585_3_0156_prep3_thumbnail.tif\"\n",
      "convert \"/shared/CSHL_data_processed/MD585/MD585_prep1_thumbnail/MD585-N53-2015.08.19-16.16.47_MD585_1_0157_prep1_thumbnail.tif\" -crop 277x219+433+203  \"/shared/CSHL_data_processed/MD585/MD585_prep3_thumbnail/MD585-N53-2015.08.19-16.16.47_MD585_1_0157_prep3_thumbnail.tif\"\n",
      "convert \"/shared/CSHL_data_processed/MD585/MD585_prep1_thumbnail/MD585-IHC53-2015.08.19-15.12.08_MD585_1_0157_prep1_thumbnail.tif\" -crop 277x219+433+203  \"/shared/CSHL_data_processed/MD585/MD585_prep3_thumbnail/MD585-IHC53-2015.08.19-15.12.08_MD585_1_0157_prep3_thumbnail.tif\"\n",
      "convert \"/shared/CSHL_data_processed/MD585/MD585_prep1_thumbnail/MD585-N53-2015.08.19-16.16.47_MD585_2_0158_prep1_thumbnail.tif\" -crop 277x219+433+203  \"/shared/CSHL_data_processed/MD585/MD585_prep3_thumbnail/MD585-N53-2015.08.19-16.16.47_MD585_2_0158_prep3_thumbnail.tif\"\n",
      "convert \"/shared/CSHL_data_processed/MD585/MD585_prep1_thumbnail/MD585-IHC53-2015.08.19-15.12.08_MD585_2_0158_prep1_thumbnail.tif\" -crop 277x219+433+203  \"/shared/CSHL_data_processed/MD585/MD585_prep3_thumbnail/MD585-IHC53-2015.08.19-15.12.08_MD585_2_0158_prep3_thumbnail.tif\"\n",
      "convert \"/shared/CSHL_data_processed/MD585/MD585_prep1_thumbnail/MD585-N53-2015.08.19-16.16.47_MD585_3_0159_prep1_thumbnail.tif\" -crop 277x219+433+203  \"/shared/CSHL_data_processed/MD585/MD585_prep3_thumbnail/MD585-N53-2015.08.19-16.16.47_MD585_3_0159_prep3_thumbnail.tif\"\n",
      "convert \"/shared/CSHL_data_processed/MD585/MD585_prep1_thumbnail/MD585-IHC53-2015.08.19-15.12.08_MD585_3_0159_prep1_thumbnail.tif\" -crop 277x219+433+203  \"/shared/CSHL_data_processed/MD585/MD585_prep3_thumbnail/MD585-IHC53-2015.08.19-15.12.08_MD585_3_0159_prep3_thumbnail.tif\"\n",
      "convert \"/shared/CSHL_data_processed/MD585/MD585_prep1_thumbnail/MD585-N54-2015.08.19-16.21.14_MD585_1_0160_prep1_thumbnail.tif\" -crop 277x219+433+203  \"/shared/CSHL_data_processed/MD585/MD585_prep3_thumbnail/MD585-N54-2015.08.19-16.21.14_MD585_1_0160_prep3_thumbnail.tif\"\n",
      "convert \"/shared/CSHL_data_processed/MD585/MD585_prep1_thumbnail/MD585-IHC54-2015.08.19-15.16.31_MD585_1_0160_prep1_thumbnail.tif\" -crop 277x219+433+203  \"/shared/CSHL_data_processed/MD585/MD585_prep3_thumbnail/MD585-IHC54-2015.08.19-15.16.31_MD585_1_0160_prep3_thumbnail.tif\"\n",
      "convert \"/shared/CSHL_data_processed/MD585/MD585_prep1_thumbnail/MD585-N54-2015.08.19-16.21.14_MD585_2_0161_prep1_thumbnail.tif\" -crop 277x219+433+203  \"/shared/CSHL_data_processed/MD585/MD585_prep3_thumbnail/MD585-N54-2015.08.19-16.21.14_MD585_2_0161_prep3_thumbnail.tif\"\n",
      "convert \"/shared/CSHL_data_processed/MD585/MD585_prep1_thumbnail/MD585-IHC54-2015.08.19-15.16.31_MD585_2_0161_prep1_thumbnail.tif\" -crop 277x219+433+203  \"/shared/CSHL_data_processed/MD585/MD585_prep3_thumbnail/MD585-IHC54-2015.08.19-15.16.31_MD585_2_0161_prep3_thumbnail.tif\"\n",
      "convert \"/shared/CSHL_data_processed/MD585/MD585_prep1_thumbnail/MD585-N54-2015.08.19-16.21.14_MD585_3_0162_prep1_thumbnail.tif\" -crop 277x219+433+203  \"/shared/CSHL_data_processed/MD585/MD585_prep3_thumbnail/MD585-N54-2015.08.19-16.21.14_MD585_3_0162_prep3_thumbnail.tif\"\n",
      "convert \"/shared/CSHL_data_processed/MD585/MD585_prep1_thumbnail/MD585-IHC54-2015.08.19-15.16.31_MD585_3_0162_prep1_thumbnail.tif\" -crop 277x219+433+203  \"/shared/CSHL_data_processed/MD585/MD585_prep3_thumbnail/MD585-IHC54-2015.08.19-15.16.31_MD585_3_0162_prep3_thumbnail.tif\"\n",
      "convert \"/shared/CSHL_data_processed/MD585/MD585_prep1_thumbnail/MD585-N55-2015.08.19-16.25.32_MD585_1_0163_prep1_thumbnail.tif\" -crop 277x219+433+203  \"/shared/CSHL_data_processed/MD585/MD585_prep3_thumbnail/MD585-N55-2015.08.19-16.25.32_MD585_1_0163_prep3_thumbnail.tif\"\n",
      "convert \"/shared/CSHL_data_processed/MD585/MD585_prep1_thumbnail/MD585-IHC55-2015.08.19-15.21.01_MD585_1_0163_prep1_thumbnail.tif\" -crop 277x219+433+203  \"/shared/CSHL_data_processed/MD585/MD585_prep3_thumbnail/MD585-IHC55-2015.08.19-15.21.01_MD585_1_0163_prep3_thumbnail.tif\"\n",
      "convert \"/shared/CSHL_data_processed/MD585/MD585_prep1_thumbnail/MD585-N55-2015.08.19-16.25.32_MD585_2_0164_prep1_thumbnail.tif\" -crop 277x219+433+203  \"/shared/CSHL_data_processed/MD585/MD585_prep3_thumbnail/MD585-N55-2015.08.19-16.25.32_MD585_2_0164_prep3_thumbnail.tif\"\n",
      "convert \"/shared/CSHL_data_processed/MD585/MD585_prep1_thumbnail/MD585-IHC55-2015.08.19-15.21.01_MD585_2_0164_prep1_thumbnail.tif\" -crop 277x219+433+203  \"/shared/CSHL_data_processed/MD585/MD585_prep3_thumbnail/MD585-IHC55-2015.08.19-15.21.01_MD585_2_0164_prep3_thumbnail.tif\"\n",
      "convert \"/shared/CSHL_data_processed/MD585/MD585_prep1_thumbnail/MD585-N55-2015.08.19-16.25.32_MD585_3_0165_prep1_thumbnail.tif\" -crop 277x219+433+203  \"/shared/CSHL_data_processed/MD585/MD585_prep3_thumbnail/MD585-N55-2015.08.19-16.25.32_MD585_3_0165_prep3_thumbnail.tif\"\n"
     ]
    },
    {
     "name": "stdout",
     "output_type": "stream",
     "text": [
      "convert \"/shared/CSHL_data_processed/MD585/MD585_prep1_thumbnail/MD585-IHC55-2015.08.19-15.21.01_MD585_3_0165_prep1_thumbnail.tif\" -crop 277x219+433+203  \"/shared/CSHL_data_processed/MD585/MD585_prep3_thumbnail/MD585-IHC55-2015.08.19-15.21.01_MD585_3_0165_prep3_thumbnail.tif\"\n",
      "convert \"/shared/CSHL_data_processed/MD585/MD585_prep1_thumbnail/MD585-N56-2015.07.16-23.31.53_MD585_1_0166_prep1_thumbnail.tif\" -crop 277x219+433+203  \"/shared/CSHL_data_processed/MD585/MD585_prep3_thumbnail/MD585-N56-2015.07.16-23.31.53_MD585_1_0166_prep3_thumbnail.tif\"\n",
      "convert \"/shared/CSHL_data_processed/MD585/MD585_prep1_thumbnail/MD585-IHC56-2015.07.16-18.29.48_MD585_1_0166_prep1_thumbnail.tif\" -crop 277x219+433+203  \"/shared/CSHL_data_processed/MD585/MD585_prep3_thumbnail/MD585-IHC56-2015.07.16-18.29.48_MD585_1_0166_prep3_thumbnail.tif\"\n",
      "convert \"/shared/CSHL_data_processed/MD585/MD585_prep1_thumbnail/MD585-N56-2015.07.16-23.31.53_MD585_2_0167_prep1_thumbnail.tif\" -crop 277x219+433+203  \"/shared/CSHL_data_processed/MD585/MD585_prep3_thumbnail/MD585-N56-2015.07.16-23.31.53_MD585_2_0167_prep3_thumbnail.tif\"\n",
      "convert \"/shared/CSHL_data_processed/MD585/MD585_prep1_thumbnail/MD585-IHC56-2015.07.16-18.29.48_MD585_2_0167_prep1_thumbnail.tif\" -crop 277x219+433+203  \"/shared/CSHL_data_processed/MD585/MD585_prep3_thumbnail/MD585-IHC56-2015.07.16-18.29.48_MD585_2_0167_prep3_thumbnail.tif\"\n",
      "convert \"/shared/CSHL_data_processed/MD585/MD585_prep1_thumbnail/MD585-N56-2015.07.16-23.31.53_MD585_3_0168_prep1_thumbnail.tif\" -crop 277x219+433+203  \"/shared/CSHL_data_processed/MD585/MD585_prep3_thumbnail/MD585-N56-2015.07.16-23.31.53_MD585_3_0168_prep3_thumbnail.tif\"\n",
      "convert \"/shared/CSHL_data_processed/MD585/MD585_prep1_thumbnail/MD585-IHC56-2015.07.16-18.29.48_MD585_3_0168_prep1_thumbnail.tif\" -crop 277x219+433+203  \"/shared/CSHL_data_processed/MD585/MD585_prep3_thumbnail/MD585-IHC56-2015.07.16-18.29.48_MD585_3_0168_prep3_thumbnail.tif\"\n",
      "convert \"/shared/CSHL_data_processed/MD585/MD585_prep1_thumbnail/MD585-N57-2015.07.16-23.36.08_MD585_1_0169_prep1_thumbnail.tif\" -crop 277x219+433+203  \"/shared/CSHL_data_processed/MD585/MD585_prep3_thumbnail/MD585-N57-2015.07.16-23.36.08_MD585_1_0169_prep3_thumbnail.tif\"\n",
      "convert \"/shared/CSHL_data_processed/MD585/MD585_prep1_thumbnail/MD585-IHC57-2015.07.16-18.33.52_MD585_1_0169_prep1_thumbnail.tif\" -crop 277x219+433+203  \"/shared/CSHL_data_processed/MD585/MD585_prep3_thumbnail/MD585-IHC57-2015.07.16-18.33.52_MD585_1_0169_prep3_thumbnail.tif\"\n",
      "convert \"/shared/CSHL_data_processed/MD585/MD585_prep1_thumbnail/MD585-N57-2015.07.16-23.36.08_MD585_2_0170_prep1_thumbnail.tif\" -crop 277x219+433+203  \"/shared/CSHL_data_processed/MD585/MD585_prep3_thumbnail/MD585-N57-2015.07.16-23.36.08_MD585_2_0170_prep3_thumbnail.tif\"\n",
      "convert \"/shared/CSHL_data_processed/MD585/MD585_prep1_thumbnail/MD585-IHC57-2015.07.16-18.33.52_MD585_2_0170_prep1_thumbnail.tif\" -crop 277x219+433+203  \"/shared/CSHL_data_processed/MD585/MD585_prep3_thumbnail/MD585-IHC57-2015.07.16-18.33.52_MD585_2_0170_prep3_thumbnail.tif\"\n",
      "convert \"/shared/CSHL_data_processed/MD585/MD585_prep1_thumbnail/MD585-N57-2015.07.16-23.36.08_MD585_3_0171_prep1_thumbnail.tif\" -crop 277x219+433+203  \"/shared/CSHL_data_processed/MD585/MD585_prep3_thumbnail/MD585-N57-2015.07.16-23.36.08_MD585_3_0171_prep3_thumbnail.tif\"\n",
      "convert \"/shared/CSHL_data_processed/MD585/MD585_prep1_thumbnail/MD585-IHC57-2015.07.16-18.33.52_MD585_3_0171_prep1_thumbnail.tif\" -crop 277x219+433+203  \"/shared/CSHL_data_processed/MD585/MD585_prep3_thumbnail/MD585-IHC57-2015.07.16-18.33.52_MD585_3_0171_prep3_thumbnail.tif\"\n",
      "convert \"/shared/CSHL_data_processed/MD585/MD585_prep1_thumbnail/MD585-N58-2015.07.16-23.40.18_MD585_1_0172_prep1_thumbnail.tif\" -crop 277x219+433+203  \"/shared/CSHL_data_processed/MD585/MD585_prep3_thumbnail/MD585-N58-2015.07.16-23.40.18_MD585_1_0172_prep3_thumbnail.tif\"\n",
      "convert \"/shared/CSHL_data_processed/MD585/MD585_prep1_thumbnail/MD585-IHC58-2015.07.16-18.38.08_MD585_1_0172_prep1_thumbnail.tif\" -crop 277x219+433+203  \"/shared/CSHL_data_processed/MD585/MD585_prep3_thumbnail/MD585-IHC58-2015.07.16-18.38.08_MD585_1_0172_prep3_thumbnail.tif\"\n",
      "convert \"/shared/CSHL_data_processed/MD585/MD585_prep1_thumbnail/MD585-N58-2015.07.16-23.40.18_MD585_2_0173_prep1_thumbnail.tif\" -crop 277x219+433+203  \"/shared/CSHL_data_processed/MD585/MD585_prep3_thumbnail/MD585-N58-2015.07.16-23.40.18_MD585_2_0173_prep3_thumbnail.tif\"\n",
      "convert \"/shared/CSHL_data_processed/MD585/MD585_prep1_thumbnail/MD585-IHC58-2015.07.16-18.38.08_MD585_2_0173_prep1_thumbnail.tif\" -crop 277x219+433+203  \"/shared/CSHL_data_processed/MD585/MD585_prep3_thumbnail/MD585-IHC58-2015.07.16-18.38.08_MD585_2_0173_prep3_thumbnail.tif\"\n",
      "convert \"/shared/CSHL_data_processed/MD585/MD585_prep1_thumbnail/MD585-N58-2015.07.16-23.40.18_MD585_3_0174_prep1_thumbnail.tif\" -crop 277x219+433+203  \"/shared/CSHL_data_processed/MD585/MD585_prep3_thumbnail/MD585-N58-2015.07.16-23.40.18_MD585_3_0174_prep3_thumbnail.tif\"\n",
      "convert \"/shared/CSHL_data_processed/MD585/MD585_prep1_thumbnail/MD585-IHC58-2015.07.16-18.38.08_MD585_3_0174_prep1_thumbnail.tif\" -crop 277x219+433+203  \"/shared/CSHL_data_processed/MD585/MD585_prep3_thumbnail/MD585-IHC58-2015.07.16-18.38.08_MD585_3_0174_prep3_thumbnail.tif\"\n",
      "convert \"/shared/CSHL_data_processed/MD585/MD585_prep1_thumbnail/MD585-N59-2015.07.16-23.44.31_MD585_3_0177_prep1_thumbnail.tif\" -crop 277x219+433+203  \"/shared/CSHL_data_processed/MD585/MD585_prep3_thumbnail/MD585-N59-2015.07.16-23.44.31_MD585_3_0177_prep3_thumbnail.tif\"\n",
      "convert \"/shared/CSHL_data_processed/MD585/MD585_prep1_thumbnail/MD585-IHC59-2015.07.16-18.42.14_MD585_1_0175_prep1_thumbnail.tif\" -crop 277x219+433+203  \"/shared/CSHL_data_processed/MD585/MD585_prep3_thumbnail/MD585-IHC59-2015.07.16-18.42.14_MD585_1_0175_prep3_thumbnail.tif\"\n",
      "convert \"/shared/CSHL_data_processed/MD585/MD585_prep1_thumbnail/MD585-N59-2015.07.16-23.44.31_MD585_2_0176_prep1_thumbnail.tif\" -crop 277x219+433+203  \"/shared/CSHL_data_processed/MD585/MD585_prep3_thumbnail/MD585-N59-2015.07.16-23.44.31_MD585_2_0176_prep3_thumbnail.tif\"\n",
      "convert \"/shared/CSHL_data_processed/MD585/MD585_prep1_thumbnail/MD585-IHC59-2015.07.16-18.42.14_MD585_2_0176_prep1_thumbnail.tif\" -crop 277x219+433+203  \"/shared/CSHL_data_processed/MD585/MD585_prep3_thumbnail/MD585-IHC59-2015.07.16-18.42.14_MD585_2_0176_prep3_thumbnail.tif\"\n",
      "convert \"/shared/CSHL_data_processed/MD585/MD585_prep1_thumbnail/MD585-N59-2015.07.16-23.44.31_MD585_1_0175_prep1_thumbnail.tif\" -crop 277x219+433+203  \"/shared/CSHL_data_processed/MD585/MD585_prep3_thumbnail/MD585-N59-2015.07.16-23.44.31_MD585_1_0175_prep3_thumbnail.tif\"\n",
      "convert \"/shared/CSHL_data_processed/MD585/MD585_prep1_thumbnail/MD585-IHC59-2015.07.16-18.42.14_MD585_3_0177_prep1_thumbnail.tif\" -crop 277x219+433+203  \"/shared/CSHL_data_processed/MD585/MD585_prep3_thumbnail/MD585-IHC59-2015.07.16-18.42.14_MD585_3_0177_prep3_thumbnail.tif\"\n",
      "convert \"/shared/CSHL_data_processed/MD585/MD585_prep1_thumbnail/MD585-N60-2015.07.16-23.48.44_MD585_1_0178_prep1_thumbnail.tif\" -crop 277x219+433+203  \"/shared/CSHL_data_processed/MD585/MD585_prep3_thumbnail/MD585-N60-2015.07.16-23.48.44_MD585_1_0178_prep3_thumbnail.tif\"\n",
      "convert \"/shared/CSHL_data_processed/MD585/MD585_prep1_thumbnail/MD585-IHC60-2015.08.19-15.25.07_MD585_1_0178_prep1_thumbnail.tif\" -crop 277x219+433+203  \"/shared/CSHL_data_processed/MD585/MD585_prep3_thumbnail/MD585-IHC60-2015.08.19-15.25.07_MD585_1_0178_prep3_thumbnail.tif\"\n",
      "convert \"/shared/CSHL_data_processed/MD585/MD585_prep1_thumbnail/MD585-N60-2015.07.16-23.48.44_MD585_2_0179_prep1_thumbnail.tif\" -crop 277x219+433+203  \"/shared/CSHL_data_processed/MD585/MD585_prep3_thumbnail/MD585-N60-2015.07.16-23.48.44_MD585_2_0179_prep3_thumbnail.tif\"\n",
      "convert \"/shared/CSHL_data_processed/MD585/MD585_prep1_thumbnail/MD585-IHC60-2015.08.19-15.25.07_MD585_2_0179_prep1_thumbnail.tif\" -crop 277x219+433+203  \"/shared/CSHL_data_processed/MD585/MD585_prep3_thumbnail/MD585-IHC60-2015.08.19-15.25.07_MD585_2_0179_prep3_thumbnail.tif\"\n",
      "convert \"/shared/CSHL_data_processed/MD585/MD585_prep1_thumbnail/MD585-N60-2015.07.16-23.48.44_MD585_3_0180_prep1_thumbnail.tif\" -crop 277x219+433+203  \"/shared/CSHL_data_processed/MD585/MD585_prep3_thumbnail/MD585-N60-2015.07.16-23.48.44_MD585_3_0180_prep3_thumbnail.tif\"\n"
     ]
    },
    {
     "name": "stdout",
     "output_type": "stream",
     "text": [
      "convert \"/shared/CSHL_data_processed/MD585/MD585_prep1_thumbnail/MD585-IHC60-2015.08.19-15.25.07_MD585_3_0180_prep1_thumbnail.tif\" -crop 277x219+433+203  \"/shared/CSHL_data_processed/MD585/MD585_prep3_thumbnail/MD585-IHC60-2015.08.19-15.25.07_MD585_3_0180_prep3_thumbnail.tif\"\n",
      "convert \"/shared/CSHL_data_processed/MD585/MD585_prep1_thumbnail/MD585-N61-2015.07.16-23.52.50_MD585_1_0181_prep1_thumbnail.tif\" -crop 277x219+433+203  \"/shared/CSHL_data_processed/MD585/MD585_prep3_thumbnail/MD585-N61-2015.07.16-23.52.50_MD585_1_0181_prep3_thumbnail.tif\"\n",
      "convert \"/shared/CSHL_data_processed/MD585/MD585_prep1_thumbnail/MD585-IHC61-2015.07.16-18.50.40_MD585_3_0183_prep1_thumbnail.tif\" -crop 277x219+433+203  \"/shared/CSHL_data_processed/MD585/MD585_prep3_thumbnail/MD585-IHC61-2015.07.16-18.50.40_MD585_3_0183_prep3_thumbnail.tif\"\n",
      "convert \"/shared/CSHL_data_processed/MD585/MD585_prep1_thumbnail/MD585-N61-2015.07.16-23.52.50_MD585_2_0182_prep1_thumbnail.tif\" -crop 277x219+433+203  \"/shared/CSHL_data_processed/MD585/MD585_prep3_thumbnail/MD585-N61-2015.07.16-23.52.50_MD585_2_0182_prep3_thumbnail.tif\"\n",
      "convert \"/shared/CSHL_data_processed/MD585/MD585_prep1_thumbnail/MD585-IHC61-2015.07.16-18.50.40_MD585_2_0182_prep1_thumbnail.tif\" -crop 277x219+433+203  \"/shared/CSHL_data_processed/MD585/MD585_prep3_thumbnail/MD585-IHC61-2015.07.16-18.50.40_MD585_2_0182_prep3_thumbnail.tif\"\n",
      "convert \"/shared/CSHL_data_processed/MD585/MD585_prep1_thumbnail/MD585-N61-2015.07.16-23.52.50_MD585_3_0183_prep1_thumbnail.tif\" -crop 277x219+433+203  \"/shared/CSHL_data_processed/MD585/MD585_prep3_thumbnail/MD585-N61-2015.07.16-23.52.50_MD585_3_0183_prep3_thumbnail.tif\"\n",
      "convert \"/shared/CSHL_data_processed/MD585/MD585_prep1_thumbnail/MD585-IHC61-2015.07.16-18.50.40_MD585_1_0181_prep1_thumbnail.tif\" -crop 277x219+433+203  \"/shared/CSHL_data_processed/MD585/MD585_prep3_thumbnail/MD585-IHC61-2015.07.16-18.50.40_MD585_1_0181_prep3_thumbnail.tif\"\n",
      "convert \"/shared/CSHL_data_processed/MD585/MD585_prep1_thumbnail/MD585-N62-2015.07.16-23.57.03_MD585_1_0184_prep1_thumbnail.tif\" -crop 277x219+433+203  \"/shared/CSHL_data_processed/MD585/MD585_prep3_thumbnail/MD585-N62-2015.07.16-23.57.03_MD585_1_0184_prep3_thumbnail.tif\"\n",
      "convert \"/shared/CSHL_data_processed/MD585/MD585_prep1_thumbnail/MD585-IHC62-2015.07.16-18.54.56_MD585_1_0184_prep1_thumbnail.tif\" -crop 277x219+433+203  \"/shared/CSHL_data_processed/MD585/MD585_prep3_thumbnail/MD585-IHC62-2015.07.16-18.54.56_MD585_1_0184_prep3_thumbnail.tif\"\n",
      "convert \"/shared/CSHL_data_processed/MD585/MD585_prep1_thumbnail/MD585-N62-2015.07.16-23.57.03_MD585_2_0185_prep1_thumbnail.tif\" -crop 277x219+433+203  \"/shared/CSHL_data_processed/MD585/MD585_prep3_thumbnail/MD585-N62-2015.07.16-23.57.03_MD585_2_0185_prep3_thumbnail.tif\"\n",
      "convert \"/shared/CSHL_data_processed/MD585/MD585_prep1_thumbnail/MD585-IHC62-2015.07.16-18.54.56_MD585_2_0185_prep1_thumbnail.tif\" -crop 277x219+433+203  \"/shared/CSHL_data_processed/MD585/MD585_prep3_thumbnail/MD585-IHC62-2015.07.16-18.54.56_MD585_2_0185_prep3_thumbnail.tif\"\n",
      "convert \"/shared/CSHL_data_processed/MD585/MD585_prep1_thumbnail/MD585-N62-2015.07.16-23.57.03_MD585_3_0186_prep1_thumbnail.tif\" -crop 277x219+433+203  \"/shared/CSHL_data_processed/MD585/MD585_prep3_thumbnail/MD585-N62-2015.07.16-23.57.03_MD585_3_0186_prep3_thumbnail.tif\"\n",
      "convert \"/shared/CSHL_data_processed/MD585/MD585_prep1_thumbnail/MD585-IHC62-2015.07.16-18.54.56_MD585_3_0186_prep1_thumbnail.tif\" -crop 277x219+433+203  \"/shared/CSHL_data_processed/MD585/MD585_prep3_thumbnail/MD585-IHC62-2015.07.16-18.54.56_MD585_3_0186_prep3_thumbnail.tif\"\n",
      "convert \"/shared/CSHL_data_processed/MD585/MD585_prep1_thumbnail/MD585-N63-2015.07.17-00.01.19_MD585_1_0187_prep1_thumbnail.tif\" -crop 277x219+433+203  \"/shared/CSHL_data_processed/MD585/MD585_prep3_thumbnail/MD585-N63-2015.07.17-00.01.19_MD585_1_0187_prep3_thumbnail.tif\"\n",
      "convert \"/shared/CSHL_data_processed/MD585/MD585_prep1_thumbnail/MD585-IHC63-2015.07.16-18.59.13_MD585_1_0187_prep1_thumbnail.tif\" -crop 277x219+433+203  \"/shared/CSHL_data_processed/MD585/MD585_prep3_thumbnail/MD585-IHC63-2015.07.16-18.59.13_MD585_1_0187_prep3_thumbnail.tif\"\n",
      "convert \"/shared/CSHL_data_processed/MD585/MD585_prep1_thumbnail/MD585-N63-2015.07.17-00.01.19_MD585_2_0188_prep1_thumbnail.tif\" -crop 277x219+433+203  \"/shared/CSHL_data_processed/MD585/MD585_prep3_thumbnail/MD585-N63-2015.07.17-00.01.19_MD585_2_0188_prep3_thumbnail.tif\"\n",
      "convert \"/shared/CSHL_data_processed/MD585/MD585_prep1_thumbnail/MD585-IHC63-2015.07.16-18.59.13_MD585_2_0188_prep1_thumbnail.tif\" -crop 277x219+433+203  \"/shared/CSHL_data_processed/MD585/MD585_prep3_thumbnail/MD585-IHC63-2015.07.16-18.59.13_MD585_2_0188_prep3_thumbnail.tif\"\n",
      "convert \"/shared/CSHL_data_processed/MD585/MD585_prep1_thumbnail/MD585-N63-2015.07.17-00.01.19_MD585_3_0189_prep1_thumbnail.tif\" -crop 277x219+433+203  \"/shared/CSHL_data_processed/MD585/MD585_prep3_thumbnail/MD585-N63-2015.07.17-00.01.19_MD585_3_0189_prep3_thumbnail.tif\"\n",
      "convert \"/shared/CSHL_data_processed/MD585/MD585_prep1_thumbnail/MD585-IHC63-2015.07.16-18.59.13_MD585_3_0189_prep1_thumbnail.tif\" -crop 277x219+433+203  \"/shared/CSHL_data_processed/MD585/MD585_prep3_thumbnail/MD585-IHC63-2015.07.16-18.59.13_MD585_3_0189_prep3_thumbnail.tif\"\n",
      "convert \"/shared/CSHL_data_processed/MD585/MD585_prep1_thumbnail/MD585-N64-2015.07.17-00.05.25_MD585_1_0190_prep1_thumbnail.tif\" -crop 277x219+433+203  \"/shared/CSHL_data_processed/MD585/MD585_prep3_thumbnail/MD585-N64-2015.07.17-00.05.25_MD585_1_0190_prep3_thumbnail.tif\"\n",
      "convert \"/shared/CSHL_data_processed/MD585/MD585_prep1_thumbnail/MD585-IHC64-2015.07.16-19.03.18_MD585_1_0190_prep1_thumbnail.tif\" -crop 277x219+433+203  \"/shared/CSHL_data_processed/MD585/MD585_prep3_thumbnail/MD585-IHC64-2015.07.16-19.03.18_MD585_1_0190_prep3_thumbnail.tif\"\n",
      "convert \"/shared/CSHL_data_processed/MD585/MD585_prep1_thumbnail/MD585-N64-2015.07.17-00.05.25_MD585_2_0191_prep1_thumbnail.tif\" -crop 277x219+433+203  \"/shared/CSHL_data_processed/MD585/MD585_prep3_thumbnail/MD585-N64-2015.07.17-00.05.25_MD585_2_0191_prep3_thumbnail.tif\"\n",
      "convert \"/shared/CSHL_data_processed/MD585/MD585_prep1_thumbnail/MD585-IHC64-2015.07.16-19.03.18_MD585_2_0191_prep1_thumbnail.tif\" -crop 277x219+433+203  \"/shared/CSHL_data_processed/MD585/MD585_prep3_thumbnail/MD585-IHC64-2015.07.16-19.03.18_MD585_2_0191_prep3_thumbnail.tif\"\n",
      "convert \"/shared/CSHL_data_processed/MD585/MD585_prep1_thumbnail/MD585-N64-2015.07.17-00.05.25_MD585_3_0192_prep1_thumbnail.tif\" -crop 277x219+433+203  \"/shared/CSHL_data_processed/MD585/MD585_prep3_thumbnail/MD585-N64-2015.07.17-00.05.25_MD585_3_0192_prep3_thumbnail.tif\"\n",
      "convert \"/shared/CSHL_data_processed/MD585/MD585_prep1_thumbnail/MD585-IHC64-2015.07.16-19.03.18_MD585_3_0192_prep1_thumbnail.tif\" -crop 277x219+433+203  \"/shared/CSHL_data_processed/MD585/MD585_prep3_thumbnail/MD585-IHC64-2015.07.16-19.03.18_MD585_3_0192_prep3_thumbnail.tif\"\n",
      "convert \"/shared/CSHL_data_processed/MD585/MD585_prep1_thumbnail/MD585-N65-2015.07.17-00.09.30_MD585_1_0193_prep1_thumbnail.tif\" -crop 277x219+433+203  \"/shared/CSHL_data_processed/MD585/MD585_prep3_thumbnail/MD585-N65-2015.07.17-00.09.30_MD585_1_0193_prep3_thumbnail.tif\"\n",
      "convert \"/shared/CSHL_data_processed/MD585/MD585_prep1_thumbnail/MD585-IHC65-2015.07.16-19.07.14_MD585_1_0193_prep1_thumbnail.tif\" -crop 277x219+433+203  \"/shared/CSHL_data_processed/MD585/MD585_prep3_thumbnail/MD585-IHC65-2015.07.16-19.07.14_MD585_1_0193_prep3_thumbnail.tif\"\n",
      "convert \"/shared/CSHL_data_processed/MD585/MD585_prep1_thumbnail/MD585-N65-2015.07.17-00.09.30_MD585_2_0194_prep1_thumbnail.tif\" -crop 277x219+433+203  \"/shared/CSHL_data_processed/MD585/MD585_prep3_thumbnail/MD585-N65-2015.07.17-00.09.30_MD585_2_0194_prep3_thumbnail.tif\"\n",
      "convert \"/shared/CSHL_data_processed/MD585/MD585_prep1_thumbnail/MD585-IHC65-2015.07.16-19.07.14_MD585_2_0194_prep1_thumbnail.tif\" -crop 277x219+433+203  \"/shared/CSHL_data_processed/MD585/MD585_prep3_thumbnail/MD585-IHC65-2015.07.16-19.07.14_MD585_2_0194_prep3_thumbnail.tif\"\n",
      "convert \"/shared/CSHL_data_processed/MD585/MD585_prep1_thumbnail/MD585-N65-2015.07.17-00.09.30_MD585_3_0195_prep1_thumbnail.tif\" -crop 277x219+433+203  \"/shared/CSHL_data_processed/MD585/MD585_prep3_thumbnail/MD585-N65-2015.07.17-00.09.30_MD585_3_0195_prep3_thumbnail.tif\"\n"
     ]
    },
    {
     "name": "stdout",
     "output_type": "stream",
     "text": [
      "convert \"/shared/CSHL_data_processed/MD585/MD585_prep1_thumbnail/MD585-IHC65-2015.07.16-19.07.14_MD585_3_0195_prep1_thumbnail.tif\" -crop 277x219+433+203  \"/shared/CSHL_data_processed/MD585/MD585_prep3_thumbnail/MD585-IHC65-2015.07.16-19.07.14_MD585_3_0195_prep3_thumbnail.tif\"\n",
      "convert \"/shared/CSHL_data_processed/MD585/MD585_prep1_thumbnail/MD585-N66-2015.07.17-00.13.23_MD585_1_0196_prep1_thumbnail.tif\" -crop 277x219+433+203  \"/shared/CSHL_data_processed/MD585/MD585_prep3_thumbnail/MD585-N66-2015.07.17-00.13.23_MD585_1_0196_prep3_thumbnail.tif\"\n",
      "convert \"/shared/CSHL_data_processed/MD585/MD585_prep1_thumbnail/MD585-IHC66-2015.07.16-19.11.12_MD585_1_0196_prep1_thumbnail.tif\" -crop 277x219+433+203  \"/shared/CSHL_data_processed/MD585/MD585_prep3_thumbnail/MD585-IHC66-2015.07.16-19.11.12_MD585_1_0196_prep3_thumbnail.tif\"\n",
      "convert \"/shared/CSHL_data_processed/MD585/MD585_prep1_thumbnail/MD585-N66-2015.07.17-00.13.23_MD585_2_0197_prep1_thumbnail.tif\" -crop 277x219+433+203  \"/shared/CSHL_data_processed/MD585/MD585_prep3_thumbnail/MD585-N66-2015.07.17-00.13.23_MD585_2_0197_prep3_thumbnail.tif\"\n",
      "convert \"/shared/CSHL_data_processed/MD585/MD585_prep1_thumbnail/MD585-IHC66-2015.07.16-19.11.12_MD585_2_0197_prep1_thumbnail.tif\" -crop 277x219+433+203  \"/shared/CSHL_data_processed/MD585/MD585_prep3_thumbnail/MD585-IHC66-2015.07.16-19.11.12_MD585_2_0197_prep3_thumbnail.tif\"\n",
      "convert \"/shared/CSHL_data_processed/MD585/MD585_prep1_thumbnail/MD585-N66-2015.07.17-00.13.23_MD585_3_0198_prep1_thumbnail.tif\" -crop 277x219+433+203  \"/shared/CSHL_data_processed/MD585/MD585_prep3_thumbnail/MD585-N66-2015.07.17-00.13.23_MD585_3_0198_prep3_thumbnail.tif\"\n",
      "convert \"/shared/CSHL_data_processed/MD585/MD585_prep1_thumbnail/MD585-IHC66-2015.07.16-19.11.12_MD585_3_0198_prep1_thumbnail.tif\" -crop 277x219+433+203  \"/shared/CSHL_data_processed/MD585/MD585_prep3_thumbnail/MD585-IHC66-2015.07.16-19.11.12_MD585_3_0198_prep3_thumbnail.tif\"\n",
      "convert \"/shared/CSHL_data_processed/MD585/MD585_prep1_thumbnail/MD585-N67-2015.07.17-00.17.19_MD585_1_0199_prep1_thumbnail.tif\" -crop 277x219+433+203  \"/shared/CSHL_data_processed/MD585/MD585_prep3_thumbnail/MD585-N67-2015.07.17-00.17.19_MD585_1_0199_prep3_thumbnail.tif\"\n",
      "convert \"/shared/CSHL_data_processed/MD585/MD585_prep1_thumbnail/MD585-IHC67-2015.07.16-19.15.10_MD585_1_0199_prep1_thumbnail.tif\" -crop 277x219+433+203  \"/shared/CSHL_data_processed/MD585/MD585_prep3_thumbnail/MD585-IHC67-2015.07.16-19.15.10_MD585_1_0199_prep3_thumbnail.tif\"\n",
      "convert \"/shared/CSHL_data_processed/MD585/MD585_prep1_thumbnail/MD585-N67-2015.07.17-00.17.19_MD585_2_0200_prep1_thumbnail.tif\" -crop 277x219+433+203  \"/shared/CSHL_data_processed/MD585/MD585_prep3_thumbnail/MD585-N67-2015.07.17-00.17.19_MD585_2_0200_prep3_thumbnail.tif\"\n",
      "convert \"/shared/CSHL_data_processed/MD585/MD585_prep1_thumbnail/MD585-IHC67-2015.07.16-19.15.10_MD585_2_0200_prep1_thumbnail.tif\" -crop 277x219+433+203  \"/shared/CSHL_data_processed/MD585/MD585_prep3_thumbnail/MD585-IHC67-2015.07.16-19.15.10_MD585_2_0200_prep3_thumbnail.tif\"\n",
      "convert \"/shared/CSHL_data_processed/MD585/MD585_prep1_thumbnail/MD585-N67-2015.07.17-00.17.19_MD585_3_0201_prep1_thumbnail.tif\" -crop 277x219+433+203  \"/shared/CSHL_data_processed/MD585/MD585_prep3_thumbnail/MD585-N67-2015.07.17-00.17.19_MD585_3_0201_prep3_thumbnail.tif\"\n",
      "convert \"/shared/CSHL_data_processed/MD585/MD585_prep1_thumbnail/MD585-IHC67-2015.07.16-19.15.10_MD585_3_0201_prep1_thumbnail.tif\" -crop 277x219+433+203  \"/shared/CSHL_data_processed/MD585/MD585_prep3_thumbnail/MD585-IHC67-2015.07.16-19.15.10_MD585_3_0201_prep3_thumbnail.tif\"\n",
      "convert \"/shared/CSHL_data_processed/MD585/MD585_prep1_thumbnail/MD585-N68-2015.07.17-00.20.58_MD585_1_0202_prep1_thumbnail.tif\" -crop 277x219+433+203  \"/shared/CSHL_data_processed/MD585/MD585_prep3_thumbnail/MD585-N68-2015.07.17-00.20.58_MD585_1_0202_prep3_thumbnail.tif\"\n",
      "convert \"/shared/CSHL_data_processed/MD585/MD585_prep1_thumbnail/MD585-IHC68-2015.07.16-19.18.44_MD585_1_0202_prep1_thumbnail.tif\" -crop 277x219+433+203  \"/shared/CSHL_data_processed/MD585/MD585_prep3_thumbnail/MD585-IHC68-2015.07.16-19.18.44_MD585_1_0202_prep3_thumbnail.tif\"\n",
      "convert \"/shared/CSHL_data_processed/MD585/MD585_prep1_thumbnail/MD585-N68-2015.07.17-00.20.58_MD585_2_0203_prep1_thumbnail.tif\" -crop 277x219+433+203  \"/shared/CSHL_data_processed/MD585/MD585_prep3_thumbnail/MD585-N68-2015.07.17-00.20.58_MD585_2_0203_prep3_thumbnail.tif\"\n",
      "convert \"/shared/CSHL_data_processed/MD585/MD585_prep1_thumbnail/MD585-IHC68-2015.07.16-19.18.44_MD585_2_0203_prep1_thumbnail.tif\" -crop 277x219+433+203  \"/shared/CSHL_data_processed/MD585/MD585_prep3_thumbnail/MD585-IHC68-2015.07.16-19.18.44_MD585_2_0203_prep3_thumbnail.tif\"\n",
      "convert \"/shared/CSHL_data_processed/MD585/MD585_prep1_thumbnail/MD585-N68-2015.07.17-00.20.58_MD585_3_0204_prep1_thumbnail.tif\" -crop 277x219+433+203  \"/shared/CSHL_data_processed/MD585/MD585_prep3_thumbnail/MD585-N68-2015.07.17-00.20.58_MD585_3_0204_prep3_thumbnail.tif\"\n",
      "convert \"/shared/CSHL_data_processed/MD585/MD585_prep1_thumbnail/MD585-IHC68-2015.07.16-19.18.44_MD585_3_0204_prep1_thumbnail.tif\" -crop 277x219+433+203  \"/shared/CSHL_data_processed/MD585/MD585_prep3_thumbnail/MD585-IHC68-2015.07.16-19.18.44_MD585_3_0204_prep3_thumbnail.tif\"\n",
      "convert \"/shared/CSHL_data_processed/MD585/MD585_prep1_thumbnail/MD585-N69-2015.07.17-00.24.44_MD585_3_0207_prep1_thumbnail.tif\" -crop 277x219+433+203  \"/shared/CSHL_data_processed/MD585/MD585_prep3_thumbnail/MD585-N69-2015.07.17-00.24.44_MD585_3_0207_prep3_thumbnail.tif\"\n",
      "convert \"/shared/CSHL_data_processed/MD585/MD585_prep1_thumbnail/MD585-IHC69-2015.07.16-19.22.29_MD585_1_0205_prep1_thumbnail.tif\" -crop 277x219+433+203  \"/shared/CSHL_data_processed/MD585/MD585_prep3_thumbnail/MD585-IHC69-2015.07.16-19.22.29_MD585_1_0205_prep3_thumbnail.tif\"\n",
      "convert \"/shared/CSHL_data_processed/MD585/MD585_prep1_thumbnail/MD585-N69-2015.07.17-00.24.44_MD585_2_0206_prep1_thumbnail.tif\" -crop 277x219+433+203  \"/shared/CSHL_data_processed/MD585/MD585_prep3_thumbnail/MD585-N69-2015.07.17-00.24.44_MD585_2_0206_prep3_thumbnail.tif\"\n",
      "convert \"/shared/CSHL_data_processed/MD585/MD585_prep1_thumbnail/MD585-IHC69-2015.07.16-19.22.29_MD585_2_0206_prep1_thumbnail.tif\" -crop 277x219+433+203  \"/shared/CSHL_data_processed/MD585/MD585_prep3_thumbnail/MD585-IHC69-2015.07.16-19.22.29_MD585_2_0206_prep3_thumbnail.tif\"\n",
      "convert \"/shared/CSHL_data_processed/MD585/MD585_prep1_thumbnail/MD585-N69-2015.07.17-00.24.44_MD585_1_0205_prep1_thumbnail.tif\" -crop 277x219+433+203  \"/shared/CSHL_data_processed/MD585/MD585_prep3_thumbnail/MD585-N69-2015.07.17-00.24.44_MD585_1_0205_prep3_thumbnail.tif\"\n",
      "convert \"/shared/CSHL_data_processed/MD585/MD585_prep1_thumbnail/MD585-IHC69-2015.07.16-19.22.29_MD585_3_0207_prep1_thumbnail.tif\" -crop 277x219+433+203  \"/shared/CSHL_data_processed/MD585/MD585_prep3_thumbnail/MD585-IHC69-2015.07.16-19.22.29_MD585_3_0207_prep3_thumbnail.tif\"\n",
      "convert \"/shared/CSHL_data_processed/MD585/MD585_prep1_thumbnail/MD585-N70-2015.08.19-16.29.51_MD585_1_0208_prep1_thumbnail.tif\" -crop 277x219+433+203  \"/shared/CSHL_data_processed/MD585/MD585_prep3_thumbnail/MD585-N70-2015.08.19-16.29.51_MD585_1_0208_prep3_thumbnail.tif\"\n",
      "convert \"/shared/CSHL_data_processed/MD585/MD585_prep1_thumbnail/MD585-IHC70-2015.07.16-19.26.09_MD585_3_0210_prep1_thumbnail.tif\" -crop 277x219+433+203  \"/shared/CSHL_data_processed/MD585/MD585_prep3_thumbnail/MD585-IHC70-2015.07.16-19.26.09_MD585_3_0210_prep3_thumbnail.tif\"\n",
      "convert \"/shared/CSHL_data_processed/MD585/MD585_prep1_thumbnail/MD585-N70-2015.08.19-16.29.51_MD585_2_0209_prep1_thumbnail.tif\" -crop 277x219+433+203  \"/shared/CSHL_data_processed/MD585/MD585_prep3_thumbnail/MD585-N70-2015.08.19-16.29.51_MD585_2_0209_prep3_thumbnail.tif\"\n",
      "convert \"/shared/CSHL_data_processed/MD585/MD585_prep1_thumbnail/MD585-IHC70-2015.07.16-19.26.09_MD585_2_0209_prep1_thumbnail.tif\" -crop 277x219+433+203  \"/shared/CSHL_data_processed/MD585/MD585_prep3_thumbnail/MD585-IHC70-2015.07.16-19.26.09_MD585_2_0209_prep3_thumbnail.tif\"\n",
      "convert \"/shared/CSHL_data_processed/MD585/MD585_prep1_thumbnail/MD585-N70-2015.08.19-16.29.51_MD585_3_0210_prep1_thumbnail.tif\" -crop 277x219+433+203  \"/shared/CSHL_data_processed/MD585/MD585_prep3_thumbnail/MD585-N70-2015.08.19-16.29.51_MD585_3_0210_prep3_thumbnail.tif\"\n"
     ]
    },
    {
     "name": "stdout",
     "output_type": "stream",
     "text": [
      "convert \"/shared/CSHL_data_processed/MD585/MD585_prep1_thumbnail/MD585-IHC70-2015.07.16-19.26.09_MD585_1_0208_prep1_thumbnail.tif\" -crop 277x219+433+203  \"/shared/CSHL_data_processed/MD585/MD585_prep3_thumbnail/MD585-IHC70-2015.07.16-19.26.09_MD585_1_0208_prep3_thumbnail.tif\"\n",
      "convert \"/shared/CSHL_data_processed/MD585/MD585_prep1_thumbnail/MD585-N71-2015.07.17-00.31.56_MD585_1_0211_prep1_thumbnail.tif\" -crop 277x219+433+203  \"/shared/CSHL_data_processed/MD585/MD585_prep3_thumbnail/MD585-N71-2015.07.17-00.31.56_MD585_1_0211_prep3_thumbnail.tif\"\n",
      "convert \"/shared/CSHL_data_processed/MD585/MD585_prep1_thumbnail/MD585-IHC71-2015.07.16-19.30.50_MD585_1_0211_prep1_thumbnail.tif\" -crop 277x219+433+203  \"/shared/CSHL_data_processed/MD585/MD585_prep3_thumbnail/MD585-IHC71-2015.07.16-19.30.50_MD585_1_0211_prep3_thumbnail.tif\"\n",
      "convert \"/shared/CSHL_data_processed/MD585/MD585_prep1_thumbnail/MD585-N71-2015.07.17-00.31.56_MD585_2_0212_prep1_thumbnail.tif\" -crop 277x219+433+203  \"/shared/CSHL_data_processed/MD585/MD585_prep3_thumbnail/MD585-N71-2015.07.17-00.31.56_MD585_2_0212_prep3_thumbnail.tif\"\n",
      "convert \"/shared/CSHL_data_processed/MD585/MD585_prep1_thumbnail/MD585-IHC71-2015.07.16-19.30.50_MD585_2_0212_prep1_thumbnail.tif\" -crop 277x219+433+203  \"/shared/CSHL_data_processed/MD585/MD585_prep3_thumbnail/MD585-IHC71-2015.07.16-19.30.50_MD585_2_0212_prep3_thumbnail.tif\"\n",
      "convert \"/shared/CSHL_data_processed/MD585/MD585_prep1_thumbnail/MD585-N71-2015.07.17-00.31.56_MD585_3_0213_prep1_thumbnail.tif\" -crop 277x219+433+203  \"/shared/CSHL_data_processed/MD585/MD585_prep3_thumbnail/MD585-N71-2015.07.17-00.31.56_MD585_3_0213_prep3_thumbnail.tif\"\n",
      "convert \"/shared/CSHL_data_processed/MD585/MD585_prep1_thumbnail/MD585-IHC71-2015.07.16-19.30.50_MD585_3_0213_prep1_thumbnail.tif\" -crop 277x219+433+203  \"/shared/CSHL_data_processed/MD585/MD585_prep3_thumbnail/MD585-IHC71-2015.07.16-19.30.50_MD585_3_0213_prep3_thumbnail.tif\"\n",
      "convert \"/shared/CSHL_data_processed/MD585/MD585_prep1_thumbnail/MD585-IHC72-2015.07.16-19.34.02_MD585_1_0214_prep1_thumbnail.tif\" -crop 277x219+433+203  \"/shared/CSHL_data_processed/MD585/MD585_prep3_thumbnail/MD585-IHC72-2015.07.16-19.34.02_MD585_1_0214_prep3_thumbnail.tif\"\n",
      "convert \"/shared/CSHL_data_processed/MD585/MD585_prep1_thumbnail/MD585-N72-2015.07.17-00.35.17_MD585_3_0216_prep1_thumbnail.tif\" -crop 277x219+433+203  \"/shared/CSHL_data_processed/MD585/MD585_prep3_thumbnail/MD585-N72-2015.07.17-00.35.17_MD585_3_0216_prep3_thumbnail.tif\"\n",
      "convert \"/shared/CSHL_data_processed/MD585/MD585_prep1_thumbnail/MD585-IHC72-2015.07.16-19.34.02_MD585_2_0215_prep1_thumbnail.tif\" -crop 277x219+433+203  \"/shared/CSHL_data_processed/MD585/MD585_prep3_thumbnail/MD585-IHC72-2015.07.16-19.34.02_MD585_2_0215_prep3_thumbnail.tif\"\n",
      "convert \"/shared/CSHL_data_processed/MD585/MD585_prep1_thumbnail/MD585-N72-2015.07.17-00.35.17_MD585_2_0215_prep1_thumbnail.tif\" -crop 277x219+433+203  \"/shared/CSHL_data_processed/MD585/MD585_prep3_thumbnail/MD585-N72-2015.07.17-00.35.17_MD585_2_0215_prep3_thumbnail.tif\"\n",
      "convert \"/shared/CSHL_data_processed/MD585/MD585_prep1_thumbnail/MD585-IHC72-2015.07.16-19.34.02_MD585_3_0216_prep1_thumbnail.tif\" -crop 277x219+433+203  \"/shared/CSHL_data_processed/MD585/MD585_prep3_thumbnail/MD585-IHC72-2015.07.16-19.34.02_MD585_3_0216_prep3_thumbnail.tif\"\n",
      "convert \"/shared/CSHL_data_processed/MD585/MD585_prep1_thumbnail/MD585-N73-2015.07.17-00.37.23_MD585_1_0217_prep1_thumbnail.tif\" -crop 277x219+433+203  \"/shared/CSHL_data_processed/MD585/MD585_prep3_thumbnail/MD585-N73-2015.07.17-00.37.23_MD585_1_0217_prep3_thumbnail.tif\"\n",
      "convert \"/shared/CSHL_data_processed/MD585/MD585_prep1_thumbnail/MD585-IHC73-2015.07.16-19.37.11_MD585_1_0217_prep1_thumbnail.tif\" -crop 277x219+433+203  \"/shared/CSHL_data_processed/MD585/MD585_prep3_thumbnail/MD585-IHC73-2015.07.16-19.37.11_MD585_1_0217_prep3_thumbnail.tif\"\n",
      "convert \"/shared/CSHL_data_processed/MD585/MD585_prep1_thumbnail/MD585-N73-2015.07.17-00.37.23_MD585_2_0218_prep1_thumbnail.tif\" -crop 277x219+433+203  \"/shared/CSHL_data_processed/MD585/MD585_prep3_thumbnail/MD585-N73-2015.07.17-00.37.23_MD585_2_0218_prep3_thumbnail.tif\"\n",
      "convert \"/shared/CSHL_data_processed/MD585/MD585_prep1_thumbnail/MD585-IHC73-2015.07.16-19.37.11_MD585_2_0218_prep1_thumbnail.tif\" -crop 277x219+433+203  \"/shared/CSHL_data_processed/MD585/MD585_prep3_thumbnail/MD585-IHC73-2015.07.16-19.37.11_MD585_2_0218_prep3_thumbnail.tif\"\n",
      "convert \"/shared/CSHL_data_processed/MD585/MD585_prep1_thumbnail/MD585-N73-2015.07.17-00.37.23_MD585_3_0219_prep1_thumbnail.tif\" -crop 277x219+433+203  \"/shared/CSHL_data_processed/MD585/MD585_prep3_thumbnail/MD585-N73-2015.07.17-00.37.23_MD585_3_0219_prep3_thumbnail.tif\"\n",
      "convert \"/shared/CSHL_data_processed/MD585/MD585_prep1_thumbnail/MD585-IHC73-2015.07.16-19.37.11_MD585_3_0219_prep1_thumbnail.tif\" -crop 277x219+433+203  \"/shared/CSHL_data_processed/MD585/MD585_prep3_thumbnail/MD585-IHC73-2015.07.16-19.37.11_MD585_3_0219_prep3_thumbnail.tif\"\n",
      "convert \"/shared/CSHL_data_processed/MD585/MD585_prep1_thumbnail/MD585-N74-2015.07.17-00.40.33_MD585_1_0220_prep1_thumbnail.tif\" -crop 277x219+433+203  \"/shared/CSHL_data_processed/MD585/MD585_prep3_thumbnail/MD585-N74-2015.07.17-00.40.33_MD585_1_0220_prep3_thumbnail.tif\"\n",
      "convert \"/shared/CSHL_data_processed/MD585/MD585_prep1_thumbnail/MD585-IHC74-2015.07.16-19.40.17_MD585_1_0220_prep1_thumbnail.tif\" -crop 277x219+433+203  \"/shared/CSHL_data_processed/MD585/MD585_prep3_thumbnail/MD585-IHC74-2015.07.16-19.40.17_MD585_1_0220_prep3_thumbnail.tif\"\n",
      "convert \"/shared/CSHL_data_processed/MD585/MD585_prep1_thumbnail/MD585-N74-2015.07.17-00.40.33_MD585_2_0221_prep1_thumbnail.tif\" -crop 277x219+433+203  \"/shared/CSHL_data_processed/MD585/MD585_prep3_thumbnail/MD585-N74-2015.07.17-00.40.33_MD585_2_0221_prep3_thumbnail.tif\"\n",
      "convert \"/shared/CSHL_data_processed/MD585/MD585_prep1_thumbnail/MD585-IHC74-2015.07.16-19.40.17_MD585_2_0221_prep1_thumbnail.tif\" -crop 277x219+433+203  \"/shared/CSHL_data_processed/MD585/MD585_prep3_thumbnail/MD585-IHC74-2015.07.16-19.40.17_MD585_2_0221_prep3_thumbnail.tif\"\n",
      "convert \"/shared/CSHL_data_processed/MD585/MD585_prep1_thumbnail/MD585-N74-2015.07.17-00.40.33_MD585_3_0222_prep1_thumbnail.tif\" -crop 277x219+433+203  \"/shared/CSHL_data_processed/MD585/MD585_prep3_thumbnail/MD585-N74-2015.07.17-00.40.33_MD585_3_0222_prep3_thumbnail.tif\"\n",
      "convert \"/shared/CSHL_data_processed/MD585/MD585_prep1_thumbnail/MD585-IHC74-2015.07.16-19.40.17_MD585_3_0222_prep1_thumbnail.tif\" -crop 277x219+433+203  \"/shared/CSHL_data_processed/MD585/MD585_prep3_thumbnail/MD585-IHC74-2015.07.16-19.40.17_MD585_3_0222_prep3_thumbnail.tif\"\n",
      "convert \"/shared/CSHL_data_processed/MD585/MD585_prep1_thumbnail/MD585-N75-2015.07.17-00.43.32_MD585_1_0223_prep1_thumbnail.tif\" -crop 277x219+433+203  \"/shared/CSHL_data_processed/MD585/MD585_prep3_thumbnail/MD585-N75-2015.07.17-00.43.32_MD585_1_0223_prep3_thumbnail.tif\"\n",
      "convert \"/shared/CSHL_data_processed/MD585/MD585_prep1_thumbnail/MD585-IHC75-2015.07.16-19.43.20_MD585_1_0223_prep1_thumbnail.tif\" -crop 277x219+433+203  \"/shared/CSHL_data_processed/MD585/MD585_prep3_thumbnail/MD585-IHC75-2015.07.16-19.43.20_MD585_1_0223_prep3_thumbnail.tif\"\n",
      "convert \"/shared/CSHL_data_processed/MD585/MD585_prep1_thumbnail/MD585-N75-2015.07.17-00.43.32_MD585_2_0224_prep1_thumbnail.tif\" -crop 277x219+433+203  \"/shared/CSHL_data_processed/MD585/MD585_prep3_thumbnail/MD585-N75-2015.07.17-00.43.32_MD585_2_0224_prep3_thumbnail.tif\"\n",
      "convert \"/shared/CSHL_data_processed/MD585/MD585_prep1_thumbnail/MD585-IHC75-2015.07.16-19.43.20_MD585_2_0224_prep1_thumbnail.tif\" -crop 277x219+433+203  \"/shared/CSHL_data_processed/MD585/MD585_prep3_thumbnail/MD585-IHC75-2015.07.16-19.43.20_MD585_2_0224_prep3_thumbnail.tif\"\n",
      "convert \"/shared/CSHL_data_processed/MD585/MD585_prep1_thumbnail/MD585-N75-2015.07.17-00.43.32_MD585_3_0225_prep1_thumbnail.tif\" -crop 277x219+433+203  \"/shared/CSHL_data_processed/MD585/MD585_prep3_thumbnail/MD585-N75-2015.07.17-00.43.32_MD585_3_0225_prep3_thumbnail.tif\"\n",
      "convert \"/shared/CSHL_data_processed/MD585/MD585_prep1_thumbnail/MD585-IHC75-2015.07.16-19.43.20_MD585_3_0225_prep1_thumbnail.tif\" -crop 277x219+433+203  \"/shared/CSHL_data_processed/MD585/MD585_prep3_thumbnail/MD585-IHC75-2015.07.16-19.43.20_MD585_3_0225_prep3_thumbnail.tif\"\n"
     ]
    },
    {
     "name": "stdout",
     "output_type": "stream",
     "text": [
      "convert \"/shared/CSHL_data_processed/MD585/MD585_prep1_thumbnail/MD585-N76-2015.07.17-00.46.27_MD585_1_0226_prep1_thumbnail.tif\" -crop 277x219+433+203  \"/shared/CSHL_data_processed/MD585/MD585_prep3_thumbnail/MD585-N76-2015.07.17-00.46.27_MD585_1_0226_prep3_thumbnail.tif\"\n",
      "convert \"/shared/CSHL_data_processed/MD585/MD585_prep1_thumbnail/MD585-IHC76-2015.07.16-19.46.08_MD585_1_0226_prep1_thumbnail.tif\" -crop 277x219+433+203  \"/shared/CSHL_data_processed/MD585/MD585_prep3_thumbnail/MD585-IHC76-2015.07.16-19.46.08_MD585_1_0226_prep3_thumbnail.tif\"\n",
      "convert \"/shared/CSHL_data_processed/MD585/MD585_prep1_thumbnail/MD585-N76-2015.07.17-00.46.27_MD585_2_0227_prep1_thumbnail.tif\" -crop 277x219+433+203  \"/shared/CSHL_data_processed/MD585/MD585_prep3_thumbnail/MD585-N76-2015.07.17-00.46.27_MD585_2_0227_prep3_thumbnail.tif\"\n",
      "convert \"/shared/CSHL_data_processed/MD585/MD585_prep1_thumbnail/MD585-IHC76-2015.07.16-19.46.08_MD585_2_0227_prep1_thumbnail.tif\" -crop 277x219+433+203  \"/shared/CSHL_data_processed/MD585/MD585_prep3_thumbnail/MD585-IHC76-2015.07.16-19.46.08_MD585_2_0227_prep3_thumbnail.tif\"\n",
      "convert \"/shared/CSHL_data_processed/MD585/MD585_prep1_thumbnail/MD585-N76-2015.07.17-00.46.27_MD585_3_0228_prep1_thumbnail.tif\" -crop 277x219+433+203  \"/shared/CSHL_data_processed/MD585/MD585_prep3_thumbnail/MD585-N76-2015.07.17-00.46.27_MD585_3_0228_prep3_thumbnail.tif\"\n",
      "convert \"/shared/CSHL_data_processed/MD585/MD585_prep1_thumbnail/MD585-IHC76-2015.07.16-19.46.08_MD585_3_0228_prep1_thumbnail.tif\" -crop 277x219+433+203  \"/shared/CSHL_data_processed/MD585/MD585_prep3_thumbnail/MD585-IHC76-2015.07.16-19.46.08_MD585_3_0228_prep3_thumbnail.tif\"\n",
      "convert \"/shared/CSHL_data_processed/MD585/MD585_prep1_thumbnail/MD585-N77-2015.07.17-00.48.48_MD585_1_0229_prep1_thumbnail.tif\" -crop 277x219+433+203  \"/shared/CSHL_data_processed/MD585/MD585_prep3_thumbnail/MD585-N77-2015.07.17-00.48.48_MD585_1_0229_prep3_thumbnail.tif\"\n",
      "convert \"/shared/CSHL_data_processed/MD585/MD585_prep1_thumbnail/MD585-N77-2015.07.17-00.48.48_MD585_2_0230_prep1_thumbnail.tif\" -crop 277x219+433+203  \"/shared/CSHL_data_processed/MD585/MD585_prep3_thumbnail/MD585-N77-2015.07.17-00.48.48_MD585_2_0230_prep3_thumbnail.tif\"\n"
     ]
    },
    {
     "name": "stderr",
     "output_type": "stream",
     "text": [
      "done in 37.729704 seconds\n"
     ]
    }
   ],
   "source": [
    "t = time.time()\n",
    "sys.stderr.write('cropping thumbnail...')\n",
    "\n",
    "for fn in valid_filenames:\n",
    "\n",
    "    execute_command('convert \\\"%(input_fp)s\\\" -crop %(w)dx%(h)d+%(x)d+%(y)d  \\\"%(output_fp)s\\\"' % \\\n",
    "        {'stack': stack,\n",
    "        'input_fp': DataManager.get_image_filepath_v2(stack=stack, prep_id=1, fn=fn, resol='thumbnail'),\n",
    "        'output_fp': DataManager.get_image_filepath_v2(stack=stack, prep_id=3, fn=fn, resol='thumbnail'),\n",
    "        'w':xmax+1-xmin, 'h':ymax+1-ymin, 'x':xmin, 'y':ymin})\n",
    "\n",
    "sys.stderr.write('done in %f seconds\\n' % (time.time() - t)) # 70s (aws)"
   ]
  },
  {
   "cell_type": "code",
   "execution_count": 12,
   "metadata": {},
   "outputs": [
    {
     "name": "stdout",
     "output_type": "stream",
     "text": [
      "aws s3 cp --recursive \"/shared/CSHL_data_processed/MD585/MD585_prep3_thumbnail\" \"s3://mousebrainatlas-data/CSHL_data_processed/MD585/MD585_prep3_thumbnail\"\n"
     ]
    }
   ],
   "source": [
    "upload_to_s3(output_dir, is_dir=True, local_root=DATA_ROOTDIR)"
   ]
  },
  {
   "cell_type": "markdown",
   "metadata": {},
   "source": [
    "# Expand lossless JP2 (use /shared)"
   ]
  },
  {
   "cell_type": "code",
   "execution_count": 79,
   "metadata": {
    "collapsed": true
   },
   "outputs": [],
   "source": [
    "stack = 'MD661'"
   ]
  },
  {
   "cell_type": "code",
   "execution_count": null,
   "metadata": {
    "scrolled": true
   },
   "outputs": [
    {
     "name": "stdout",
     "output_type": "stream",
     "text": [
      "aws s3 cp --recursive \"s3://mousebrainatlas-rawdata/CSHL_data/MD661\" \"/shared/CSHL_data/MD661\" --exclude \"*\" --include \"*_lossless.jp2\"\n"
     ]
    }
   ],
   "source": [
    "transfer_data_synced(os.path.join('CSHL_data', stack),\n",
    "                    from_hostname='s3raw',\n",
    "                    to_hostname='ec2',\n",
    "                    is_dir=True,\n",
    "                    include_only='*_lossless.jp2')"
   ]
  },
  {
   "cell_type": "code",
   "execution_count": 13,
   "metadata": {},
   "outputs": [
    {
     "data": {
      "text/plain": [
       "'/shared/CSHL_data_processed/MD585/MD585_prep1_lossless'"
      ]
     },
     "execution_count": 13,
     "metadata": {},
     "output_type": "execute_result"
    }
   ],
   "source": [
    "DataManager.get_image_dir_v2(stack=stack, prep_id=1, resol='lossless')"
   ]
  },
  {
   "cell_type": "code",
   "execution_count": 88,
   "metadata": {
    "collapsed": true
   },
   "outputs": [],
   "source": [
    "output_dir = create_if_not_exists(DataManager.get_image_dir_v2(stack=stack, prep_id=1, resol='lossless'))"
   ]
  },
  {
   "cell_type": "code",
   "execution_count": null,
   "metadata": {
    "collapsed": true,
    "scrolled": true
   },
   "outputs": [],
   "source": [
    "t = time.time()\n",
    "sys.stderr.write('expanding...')\n",
    "\n",
    "in_fps = [fn + '_lossless.jp2' for fn in metadata_cache['valid_filenames'][stack]]\n",
    "out_fps = [DataManager.get_image_filepath_v2(stack=stack, prep_id=1, resol='lossless', fn=fn) \n",
    "           for fn in metadata_cache['valid_filenames'][stack]]\n",
    "\n",
    "run_distributed('export LD_LIBRARY_PATH=/home/ubuntu/KDU79_Demo_Apps_for_Linux-x86-64_170108:$LD_LIBRARY_PATH; %(kdu_bin)s -i \\\"%%(in_fp)s\\\" -o \\\"%%(out_fp)s\\\"' % \\\n",
    "                {'kdu_bin': KDU_EXPAND_BIN},\n",
    "                kwargs_list={'in_fp': in_fps, 'out_fp': out_fps},\n",
    "                argument_type='single',\n",
    "               cluster_size=16)\n",
    "\n",
    "wait_qsub_complete()\n",
    "\n",
    "sys.stderr.write('done in %f seconds\\n' % (time.time() - t)) # 900 seconds."
   ]
  },
  {
   "cell_type": "code",
   "execution_count": null,
   "metadata": {
    "collapsed": true,
    "scrolled": true
   },
   "outputs": [],
   "source": [
    "transfer_data_synced(os.path.join('CSHL_data_processed', stack, stack + '_lossless_tif'),\n",
    "                    from_hostname='ec2',\n",
    "                    to_hostname='s3',\n",
    "                    is_dir=True) # 6000s"
   ]
  },
  {
   "cell_type": "markdown",
   "metadata": {},
   "source": [
    "# Warping and cropping lossless (use /shared)"
   ]
  },
  {
   "cell_type": "code",
   "execution_count": 24,
   "metadata": {},
   "outputs": [
    {
     "name": "stdout",
     "output_type": "stream",
     "text": [
      "rm -rf /shared/CSHL_data_processed/MD585/MD585_lossless_tif && mkdir -p /shared/CSHL_data_processed/MD585\n",
      "aws s3 cp --recursive s3://mousebrainatlas-data/CSHL_data_processed/MD585/MD585_lossless_tif /shared/CSHL_data_processed/MD585/MD585_lossless_tif\n"
     ]
    },
    {
     "name": "stderr",
     "output_type": "stream",
     "text": [
      "Child returned 0\n"
     ]
    },
    {
     "name": "stdout",
     "output_type": "stream",
     "text": [
      "3079.07781506\n"
     ]
    },
    {
     "name": "stderr",
     "output_type": "stream",
     "text": [
      "Child returned 0\n",
      "3079.08 seconds.\n"
     ]
    }
   ],
   "source": [
    "transfer_data_synced(os.path.join('CSHL_data_processed', stack, stack + '_lossless_tif'),\n",
    "                    from_hostname='s3',\n",
    "                    to_hostname='ec2',\n",
    "                    is_dir=True)\n",
    "# 3000 seconds"
   ]
  },
  {
   "cell_type": "code",
   "execution_count": 37,
   "metadata": {
    "collapsed": true
   },
   "outputs": [],
   "source": [
    "# tf_filepath = os.path.join(DATA_DIR, stack, '%(stack)s_transformsTo_anchor.pkl' % {'stack':stack})\n",
    "# tfs = pickle.load(open(tf_filepath, 'r'))\n",
    "# Note that the index from trasform pickle file starts at 0, BUT the .._renamed folder index starts at 1.#\n",
    "\n",
    "tfs = DataManager.load_transforms(stack=stack)\n",
    "\n",
    "lossless_tif_dir = os.path.join(DATA_DIR, stack, stack + '_lossless_tif')\n",
    "lossless_aligned_cropped_dir = os.path.join(DATA_DIR, stack, stack + '_lossless_alignedTo_' + anchor_fn + '_cropped')\n",
    "\n",
    "script_fp = os.path.join(REPO_DIR, 'preprocess', 'warp_crop_IM_v2.py')"
   ]
  },
  {
   "cell_type": "code",
   "execution_count": 45,
   "metadata": {
    "collapsed": true
   },
   "outputs": [],
   "source": [
    "! rm -r {lossless_aligned_cropped_dir}"
   ]
  },
  {
   "cell_type": "code",
   "execution_count": 43,
   "metadata": {
    "collapsed": true
   },
   "outputs": [],
   "source": [
    "if stack in all_nissl_stacks:\n",
    "    pad_bg_color = 'white'\n",
    "else:\n",
    "    pad_bg_color = 'auto'"
   ]
  },
  {
   "cell_type": "code",
   "execution_count": null,
   "metadata": {
    "collapsed": true
   },
   "outputs": [],
   "source": [
    "t = time.time()\n",
    "sys.stderr.write('warping and cropping lossless...')\n",
    "\n",
    "# wait_num_nodes(16)\n",
    "                   \n",
    "if pad_bg_color == 'auto':\n",
    "    # If alternating, then black padding for F sections, white padding for N sections.\n",
    "    run_distributed(command='%(script_path)s %(stack)s %(lossless_tif_dir)s %(lossless_aligned_cropped_dir)s %%(transform)s %%(filename)s %%(output_fn)s lossless %(x)d %(y)d %(w)d %(h)d %%(pad_bg_color)s'%\\\n",
    "                    {'script_path': script_fp,\n",
    "                    'stack': stack,\n",
    "                    'lossless_tif_dir': lossless_tif_dir,\n",
    "                    'lossless_aligned_cropped_dir': lossless_aligned_cropped_dir,\n",
    "                    'x': x,\n",
    "                    'y': y,\n",
    "                    'w': w,\n",
    "                    'h': h},\n",
    "                    kwargs_list=[{'transform': ','.join(map(str, tfs[fn].flatten())),\n",
    "                                'filename': fn + '_lossless.tif',\n",
    "                                'output_fn': fn + '_lossless_alignedTo_' + anchor_fn + '_cropped.tif',\n",
    "                                'pad_bg_color': 'black' if fn.split('-')[1][0] == 'F' else 'white'}\n",
    "                                for fn in valid_filenames[first_idx_among_valid:last_idx_among_valid+1]],\n",
    "#                                  for fn in valid_filenames[first_idx_among_valid:first_idx_among_valid+16]],\n",
    "                    argument_type='single',\n",
    "                   cluster_size=16,\n",
    "                   jobs_per_node=4)\n",
    "else:\n",
    "    run_distributed(command='%(script_path)s %(stack)s %(lossless_tif_dir)s %(lossless_aligned_cropped_dir)s %%(transform)s %%(filename)s %%(output_fn)s lossless %(x)d %(y)d %(w)d %(h)d %(pad_bg_color)s'%\\\n",
    "                    {'script_path': script_fp,\n",
    "                    'stack': stack,\n",
    "                    'lossless_tif_dir': lossless_tif_dir,\n",
    "                    'lossless_aligned_cropped_dir': lossless_aligned_cropped_dir,\n",
    "                    'x': x,\n",
    "                    'y': y,\n",
    "                    'w': w,\n",
    "                    'h': h,\n",
    "                    'pad_bg_color': pad_bg_color},\n",
    "                    kwargs_list=[{'transform': ','.join(map(str, tfs[fn].flatten())),\n",
    "                                'filename': fn + '_lossless.tif',\n",
    "                                'output_fn': fn + '_lossless_alignedTo_' + anchor_fn + '_cropped.tif'}\n",
    "                                for fn in valid_filenames[first_idx_among_valid:last_idx_among_valid+1]],\n",
    "#                                  for fn in valid_filenames[first_idx_among_valid:first_idx_among_valid+16]],\n",
    "                    argument_type='single',\n",
    "                   cluster_size=16,\n",
    "                   jobs_per_node=4)\n",
    "\n",
    "wait_qsub_complete()\n",
    "    \n",
    "sys.stderr.write('done in %f seconds\\n' % (time.time() - t)) # 4140 seconds (AWS)"
   ]
  },
  {
   "cell_type": "code",
   "execution_count": 24,
   "metadata": {},
   "outputs": [
    {
     "name": "stdout",
     "output_type": "stream",
     "text": [
      "aws s3 cp --recursive /shared/CSHL_data_processed/MD658/MD658_lossless_alignedTo_MD658-N58-2017.03.31-19.59.31_MD658_2_0173_cropped s3://mousebrainatlas-data/CSHL_data_processed/MD658/MD658_lossless_alignedTo_MD658-N58-2017.03.31-19.59.31_MD658_2_0173_cropped\n"
     ]
    },
    {
     "name": "stderr",
     "output_type": "stream",
     "text": [
      "Child returned 0\n",
      "1064.17 seconds.\n"
     ]
    }
   ],
   "source": [
    "transfer_data_synced(os.path.join('CSHL_data_processed', stack, stack + '_lossless_alignedTo_' + anchor_fn + '_cropped'),\n",
    "                    from_hostname='ec2',\n",
    "                    to_hostname='s3',\n",
    "                    is_dir=True) \n",
    "# 512 seconds"
   ]
  },
  {
   "cell_type": "markdown",
   "metadata": {},
   "source": [
    "# Warp and crop lossless CryoJane"
   ]
  },
  {
   "cell_type": "code",
   "execution_count": 4,
   "metadata": {
    "collapsed": true
   },
   "outputs": [],
   "source": [
    "# version = 'Ntb'\n",
    "version = 'Chat'\n",
    "\n",
    "if stack in all_nissl_stacks:\n",
    "    pad_bg_color = 'white'\n",
    "elif stack == 'ChatCryoJane201710':\n",
    "    pad_bg_color = 'black'\n",
    "else:\n",
    "    pad_bg_color = 'auto'"
   ]
  },
  {
   "cell_type": "code",
   "execution_count": 5,
   "metadata": {
    "collapsed": true
   },
   "outputs": [],
   "source": [
    "prep_id = 2"
   ]
  },
  {
   "cell_type": "code",
   "execution_count": 6,
   "metadata": {
    "collapsed": true
   },
   "outputs": [],
   "source": [
    "_, sections_to_filenames = DataManager.load_sorted_filenames(stack=stack) \n",
    "valid_filenames = [fn for fn in sections_to_filenames.values() if not is_invalid(fn=fn)]"
   ]
  },
  {
   "cell_type": "code",
   "execution_count": 7,
   "metadata": {
    "collapsed": true
   },
   "outputs": [],
   "source": [
    "# RAW_DATA_DIR = os.path.join(DATA_ROOTDIR, 'CSHL_data')"
   ]
  },
  {
   "cell_type": "code",
   "execution_count": 8,
   "metadata": {
    "collapsed": true
   },
   "outputs": [],
   "source": [
    "# tf_filepath = os.path.join(DATA_DIR, stack, '%(stack)s_transformsTo_anchor.pkl' % {'stack':stack})\n",
    "# tfs = pickle.load(open(tf_filepath, 'r'))\n",
    "# Note that the index from trasform pickle file starts at 0, BUT the .._renamed folder index starts at 1.#\n",
    "\n",
    "anchor_fn = DataManager.load_anchor_filename(stack=stack)\n",
    "transforms_to_anchor = DataManager.load_transforms(stack=stack, downsample_factor=32, use_inverse=False, anchor_fn=anchor_fn)\n",
    "\n",
    "input_dir = os.path.join(RAW_DATA_DIR, stack, stack + '_raw_' + version)\n",
    "# output_dir = os.path.join(DATA_DIR, stack, stack + '_prep' + prep_id + _lossless_' + version)\n",
    "output_dir = DataManager.get_image_dir_v2(stack=stack, prep_id=prep_id, resol='lossless', version=version)\n",
    "\n",
    "script = os.path.join(REPO_DIR, 'preprocess', 'warp_crop_IM_v3.py')"
   ]
  },
  {
   "cell_type": "code",
   "execution_count": 9,
   "metadata": {},
   "outputs": [
    {
     "name": "stdout",
     "output_type": "stream",
     "text": [
      "509 72 949 696\n"
     ]
    }
   ],
   "source": [
    "xmin, xmax, ymin, ymax, first_sec, last_sec = DataManager.load_cropbox(stack=stack)\n",
    "w = xmax + 1 - xmin\n",
    "h = ymax + 1 - ymin\n",
    "x = xmin\n",
    "y = ymin\n",
    "\n",
    "print x,y,w,h"
   ]
  },
  {
   "cell_type": "code",
   "execution_count": 10,
   "metadata": {},
   "outputs": [
    {
     "name": "stdout",
     "output_type": "stream",
     "text": [
      "rm -f ~/stderr_*; rm -f ~/stdout_*\n"
     ]
    },
    {
     "name": "stderr",
     "output_type": "stream",
     "text": [
      "Run locally.\n"
     ]
    },
    {
     "name": "stdout",
     "output_type": "stream",
     "text": [
      "done in 19019.3771439 seconds\n"
     ]
    },
    {
     "name": "stderr",
     "output_type": "stream",
     "text": [
      "Jobs submitted. Use wait_qsub_complete() to wait for all execution to finish.\n"
     ]
    }
   ],
   "source": [
    "t = time.time()\n",
    "\n",
    "if pad_bg_color == 'auto': # useful for alternatively stained stacks where bg varies depending on stain on each section\n",
    "    run_distributed('%(script)s %(stack)s \\\"%%(input_fp)s\\\" \\\"%%(output_fp)s\\\" %%(transform)s lossless %(x)d %(y)d %(w)d %(h)d %%(pad_bg_color)s' % \\\n",
    "                    {'script': script,\n",
    "                    'stack': stack,\n",
    "                     'x': x,\n",
    "                    'y': y,\n",
    "                    'w': w,\n",
    "                    'h': h,\n",
    "                    },\n",
    "                    kwargs_list=[{'transform': ','.join(map(str, transforms_to_anchor[fn].flatten())),\n",
    "                                'input_fp': os.path.join(input_dir, \\\n",
    "                                                        fn + '_lossless_' + version + '.' + tb_fmt \\\n",
    "                                              if version is not None \\\n",
    "                                              else fn + '.' + tb_fmt),\n",
    "                                  'output_fp': DataManager.get_image_filepath_v2(stack=stack, fn=fn, prep_id=prep_id, version=version, resol='lossless'),\n",
    "                                'pad_bg_color': 'black' if fn.split('-')[1][0] == 'F' else 'white'}\n",
    "                                for fn in valid_filenames],\n",
    "                    argument_type='single',\n",
    "                   jobs_per_node=1,\n",
    "                   local_only=True)\n",
    "else:\n",
    "    run_distributed('%(script)s %(stack)s \\\"%%(input_fp)s\\\" \\\"%%(output_fp)s\\\" %%(transform)s lossless %(x)d %(y)d %(w)d %(h)d %(pad_bg_color)s' % \\\n",
    "                    {'script': script,\n",
    "                    'stack': stack,\n",
    "                     'x': x,\n",
    "                    'y': y,\n",
    "                    'w': w,\n",
    "                    'h': h,\n",
    "                    'pad_bg_color': pad_bg_color},\n",
    "                    kwargs_list=[{'transform': ','.join(map(str, transforms_to_anchor[fn].flatten())),\n",
    "                                'input_fp': os.path.join(input_dir, \\\n",
    "                                                        fn + '_lossless_' + version + '.' + tb_fmt \\\n",
    "                                              if version is not None \\\n",
    "                                              else fn + '.' + tb_fmt),\n",
    "                                  'output_fp': DataManager.get_image_filepath_v2(stack=stack, fn=fn, prep_id=prep_id, version=version, resol='lossless'),\n",
    "                                 }\n",
    "                                for fn in valid_filenames],\n",
    "                    argument_type='single',\n",
    "                   jobs_per_node=1,\n",
    "                   local_only=True)\n",
    "\n",
    "# wait_qsub_complete()\n",
    "    \n",
    "print 'done in', time.time() - t, 'seconds' # 300 seconds."
   ]
  },
  {
   "cell_type": "markdown",
   "metadata": {},
   "source": [
    "# Expand and Crop together (regular, local, non-distributed)"
   ]
  },
  {
   "cell_type": "code",
   "execution_count": 4,
   "metadata": {
    "collapsed": true
   },
   "outputs": [],
   "source": [
    "stack = 'MD585'"
   ]
  },
  {
   "cell_type": "code",
   "execution_count": 5,
   "metadata": {},
   "outputs": [
    {
     "name": "stdout",
     "output_type": "stream",
     "text": [
      "433 709 203 421\n"
     ]
    }
   ],
   "source": [
    "tfs = DataManager.load_transforms(stack=stack, downsample_factor=32, use_inverse=False)\n",
    "# xmin, xmax, ymin, ymax = metadata_cache['cropbox'][stack]\n",
    "xmin, xmax, ymin, ymax = DataManager.load_cropbox_thalamus(stack)[:4]\n",
    "print xmin, xmax, ymin, ymax"
   ]
  },
  {
   "cell_type": "code",
   "execution_count": 6,
   "metadata": {
    "collapsed": true
   },
   "outputs": [],
   "source": [
    "raw_jp2_dir = DataManager.get_image_dir(stack=stack, resol='lossless', version='original_jp2')\n",
    "lossless_tif_dir = DataManager.get_image_dir_v2(stack=stack, resol='lossless', prep_id=0)\n",
    "lossless_aligned_cropped_dir = DataManager.get_image_dir_v2(stack=stack, resol='lossless', prep_id=3)"
   ]
  },
  {
   "cell_type": "code",
   "execution_count": 18,
   "metadata": {},
   "outputs": [
    {
     "name": "stderr",
     "output_type": "stream",
     "text": [
      "expanding...Run locally.\n"
     ]
    },
    {
     "name": "stdout",
     "output_type": "stream",
     "text": [
      "rm -f ~/stderr_*; rm -f ~/stdout_*\n"
     ]
    },
    {
     "name": "stderr",
     "output_type": "stream",
     "text": [
      "Jobs submitted. Use wait_qsub_complete() to wait for all execution to finish.\n",
      "done in 18231.760643 seconds\n",
      "expanding...Run locally.\n"
     ]
    },
    {
     "name": "stdout",
     "output_type": "stream",
     "text": [
      "rm -f ~/stderr_*; rm -f ~/stdout_*\n"
     ]
    },
    {
     "name": "stderr",
     "output_type": "stream",
     "text": [
      "Jobs submitted. Use wait_qsub_complete() to wait for all execution to finish.\n",
      "done in 4772.454183 seconds\n"
     ]
    }
   ],
   "source": [
    "# Linux does not support commands that are too long, so cannot stack too many filenames in the command.\n",
    "for i in range(0, len(metadata_cache['valid_filenames'][stack]), 200):\n",
    "    \n",
    "    t = time.time()\n",
    "    sys.stderr.write('expanding...')\n",
    "\n",
    "    warp_crop_script_fp = os.path.join(REPO_DIR, 'preprocess', 'warp_crop_IM_v3.py')\n",
    "\n",
    "    run_distributed('aws s3 cp \\\"s3://mousebrainatlas-rawdata/CSHL_data/%(stack)s/%%(fn)s_lossless.jp2\\\" \\\"%(raw_jp2_dir)s\\\"/ && \\\n",
    "    mkdir -p \\\"%(lossless_tif_dir)s\\\" && \\\n",
    "    LD_LIBRARY_PATH=\\\"%(kdu_dir)s\\\":$LD_LIBRARY_PATH %(kdu_bin)s -i \\\"%%(in_fp)s\\\" -o \\\"%%(lossless_tif_fp)s\\\" && \\\n",
    "    mkdir -p \\\"%(lossless_aligned_cropped_dir)s\\\" && \\\n",
    "    %(script_path)s %(stack)s \\\"%%(lossless_tif_fp)s\\\" \\\"%%(lossless_aligned_cropped_fp)s\\\" %%(transform)s lossless %(x)d %(y)d %(w)d %(h)d %%(pad_bg_color)s && \\\n",
    "    aws s3 cp \\\"%%(lossless_aligned_cropped_fp)s\\\" \\\"s3://mousebrainatlas-data/%(s3_dest_dir)s/\\\" && \\\n",
    "    rm \\\"%%(lossless_tif_fp)s\\\" && rm \\\"%%(in_fp)s\\\"' % \\\n",
    "                    {'stack': stack,\n",
    "                    'kdu_bin': KDU_EXPAND_BIN,\n",
    "                     'kdu_dir': os.path.dirname(KDU_EXPAND_BIN),\n",
    "                    'raw_jp2_dir': raw_jp2_dir,\n",
    "                    'script_path': warp_crop_script_fp,\n",
    "                    'lossless_tif_dir': lossless_tif_dir,\n",
    "                    'lossless_aligned_cropped_dir': lossless_aligned_cropped_dir,\n",
    "                     's3_dest_dir': relative_to_local(lossless_aligned_cropped_dir, local_root='/media/yuncong/BstemAtlasData/'),\n",
    "                    'x': xmin,\n",
    "                    'y': ymin,\n",
    "                    'w': xmax + 1 - xmin,\n",
    "                    'h': ymax + 1 - ymin},\n",
    "                    kwargs_list=[{'fn': fn, \n",
    "                                  'in_fp': os.path.join(raw_jp2_dir, fn + '_lossless.jp2'),\n",
    "                                  'transform': ','.join(map(str, tfs[fn].flatten())),\n",
    "                                    'lossless_tif_fp': DataManager.get_image_filepath_v2(stack=stack, fn=fn, resol='lossless', prep_id=0),\n",
    "                                    'lossless_aligned_cropped_fp': DataManager.get_image_filepath_v2(stack=stack, fn=fn, resol='lossless', prep_id=3),\n",
    "                                    'pad_bg_color': 'black' if fn.split('-')[1][0] == 'F' else 'white'}\n",
    "                                 for fn in metadata_cache['valid_filenames'][stack][i:i+200]],\n",
    "                    argument_type='single',\n",
    "                   local_only=True)\n",
    "\n",
    "    # wait_qsub_complete()\n",
    "\n",
    "    sys.stderr.write('done in %f seconds\\n' % (time.time() - t)) \n",
    "    # 16 4.2xlarge, whole stack,4222 seconds.\n",
    "    # 4 4.xlarge nodes, whole stack, 10280 seconds."
   ]
  },
  {
   "cell_type": "markdown",
   "metadata": {},
   "source": [
    "# Expand and Crop together (for AWS cluster, use /scratch)"
   ]
  },
  {
   "cell_type": "code",
   "execution_count": 6,
   "metadata": {
    "collapsed": true
   },
   "outputs": [],
   "source": [
    "stack = 'MD585'"
   ]
  },
  {
   "cell_type": "code",
   "execution_count": 7,
   "metadata": {},
   "outputs": [
    {
     "name": "stdout",
     "output_type": "stream",
     "text": [
      "433 709 203 421\n"
     ]
    }
   ],
   "source": [
    "tfs = DataManager.load_transforms(stack=stack, downsample_factor=32, use_inverse=False)\n",
    "# xmin, xmax, ymin, ymax = metadata_cache['cropbox'][stack]\n",
    "xmin, xmax, ymin, ymax = DataManager.load_cropbox_thalamus(stack)[:4]\n",
    "print xmin, xmax, ymin, ymax"
   ]
  },
  {
   "cell_type": "code",
   "execution_count": 8,
   "metadata": {
    "collapsed": true
   },
   "outputs": [],
   "source": [
    "raw_jp2_dir = DataManager.get_image_dir(stack=stack, resol='lossless', version='original_jp2', raw_data_dir='/scratch/CSHL_data')\n",
    "lossless_tif_dir = DataManager.get_image_dir_v2(stack=stack, resol='lossless', prep_id=0, data_dir='/scratch/CSHL_data_processed')\n",
    "lossless_aligned_cropped_dir = DataManager.get_image_dir_v2(stack=stack, resol='lossless', prep_id=3, data_dir='/scratch/CSHL_data_processed')"
   ]
  },
  {
   "cell_type": "code",
   "execution_count": 9,
   "metadata": {
    "scrolled": true
   },
   "outputs": [
    {
     "name": "stdout",
     "output_type": "stream",
     "text": [
      "rm -f ~/stderr_*; rm -f ~/stdout_*\n"
     ]
    },
    {
     "name": "stderr",
     "output_type": "stream",
     "text": [
      "Run locally.\n",
      "Jobs submitted. Use wait_qsub_complete() to wait for all execution to finish.\n"
     ]
    }
   ],
   "source": [
    "run_distributed('rm -rf /scratch/*', argument_type='single', local_only=True)"
   ]
  },
  {
   "cell_type": "code",
   "execution_count": 13,
   "metadata": {},
   "outputs": [
    {
     "name": "stderr",
     "output_type": "stream",
     "text": [
      "expanding...Run locally.\n"
     ]
    },
    {
     "name": "stdout",
     "output_type": "stream",
     "text": [
      "rm -f ~/stderr_*; rm -f ~/stdout_*\n"
     ]
    },
    {
     "name": "stderr",
     "output_type": "stream",
     "text": [
      "Jobs submitted. Use wait_qsub_complete() to wait for all execution to finish.\n",
      "qsub returned.\n",
      "done in 25995.952769 seconds\n"
     ]
    }
   ],
   "source": [
    "t = time.time()\n",
    "sys.stderr.write('expanding...')\n",
    "\n",
    "warp_crop_script_fp = os.path.join(REPO_DIR, 'preprocess', 'warp_crop_IM_v3.py')\n",
    "\n",
    "run_distributed('aws s3 cp \\\"s3://mousebrainatlas-rawdata/CSHL_data/%(stack)s/%%(fn)s_lossless.jp2\\\" \\\"%(raw_jp2_dir)s\\\"/ && \\\n",
    "mkdir -p \\\"%(lossless_tif_dir)s\\\" && \\\n",
    "LD_LIBRARY_PATH=/home/ubuntu/KDU79_Demo_Apps_for_Linux-x86-64_170108:$LD_LIBRARY_PATH %(kdu_bin)s -i \\\"%%(in_fp)s\\\" -o \\\"%%(lossless_tif_fp)s\\\" && \\\n",
    "mkdir -p \\\"%(lossless_aligned_cropped_dir)s\\\" && \\\n",
    "%(script_path)s %(stack)s \\\"%%(lossless_tif_fp)s\\\" \\\"%%(lossless_aligned_cropped_fp)s\\\" %%(transform)s lossless %(x)d %(y)d %(w)d %(h)d %%(pad_bg_color)s && \\\n",
    "aws s3 cp \\\"%%(lossless_aligned_cropped_fp)s\\\" \\\"s3://mousebrainatlas-data/%(s3_dest_dir)s/\\\" && \\\n",
    "rm \\\"%%(lossless_tif_fp)s\\\" && rm \\\"%%(in_fp)s\\\"' % \\\n",
    "                {'stack': stack,\n",
    "                'kdu_bin': KDU_EXPAND_BIN,\n",
    "                'raw_jp2_dir': raw_jp2_dir,\n",
    "                'script_path': warp_crop_script_fp,\n",
    "                'lossless_tif_dir': lossless_tif_dir,\n",
    "                'lossless_aligned_cropped_dir': lossless_aligned_cropped_dir,\n",
    "                 's3_dest_dir': relative_to_local(lossless_aligned_cropped_dir, local_root='/scratch'),\n",
    "                'x': xmin,\n",
    "                'y': ymin,\n",
    "                'w': xmax + 1 - xmin,\n",
    "                'h': ymax + 1 - ymin},\n",
    "                kwargs_list=[{'fn': fn, \n",
    "                              'in_fp': os.path.join(raw_jp2_dir, fn + '_lossless.jp2'),\n",
    "                              'transform': ','.join(map(str, tfs[fn].flatten())),\n",
    "                                'lossless_tif_fp': DataManager.get_image_filepath_v2(stack=stack, fn=fn, resol='lossless', prep_id=0, data_dir='/scratch/CSHL_data_processed'),\n",
    "                                'lossless_aligned_cropped_fp': DataManager.get_image_filepath_v2(stack=stack, fn=fn, resol='lossless', prep_id=3, data_dir='/scratch/CSHL_data_processed'),\n",
    "                                'pad_bg_color': 'black' if fn.split('-')[1][0] == 'F' else 'white'}\n",
    "                             for fn in metadata_cache['valid_filenames'][stack][:200]],\n",
    "                argument_type='single',\n",
    "               local_only=True)\n",
    "\n",
    "wait_qsub_complete()\n",
    "\n",
    "sys.stderr.write('done in %f seconds\\n' % (time.time() - t)) \n",
    "# 16 4.2xlarge, whole stack,4222 seconds.\n",
    "# 4 4.xlarge nodes, whole stack, 10280 seconds."
   ]
  },
  {
   "cell_type": "code",
   "execution_count": 14,
   "metadata": {},
   "outputs": [
    {
     "name": "stdout",
     "output_type": "stream",
     "text": [
      "The history saving thread hit an unexpected error (OperationalError('database or disk is full',)).History will not be written to the database.\n",
      "Background color: white\r\n",
      "Background color: white\r\n",
      "Background color: white\r\n",
      "Background color: white\r\n",
      "Background color: white\r\n",
      "Background color: white\r\n",
      "Background color: white\r\n",
      "Background color: white\r\n",
      "Background color: white\r\n",
      "Background color: white\r\n",
      "Background color: white\r\n",
      "Background color: white\r\n",
      "Background color: white\r\n",
      "Background color: white\r\n",
      "Background color: white\r\n",
      "Background color: white\r\n",
      "Background color: white\r\n",
      "Background color: white\r\n",
      "Background color: white\r\n",
      "Background color: white\r\n",
      "Background color: white\r\n",
      "Background color: white\r\n",
      "Background color: white\r\n",
      "Background color: white\r\n",
      "Background color: white\r\n",
      "Background color: white\r\n",
      "Background color: white\r\n",
      "Background color: white\r\n",
      "Background color: white\r\n",
      "Background color: white\r\n",
      "Background color: white\r\n",
      "Background color: white\r\n",
      "Background color: white\r\n",
      "Background color: white\r\n",
      "Background color: white\r\n",
      "Background color: white\r\n",
      "Background color: white\r\n",
      "Background color: white\r\n",
      "Background color: white\r\n",
      "Background color: white\r\n",
      "Background color: white\r\n",
      "Background color: white\r\n",
      "Background color: white\r\n",
      "Background color: white\r\n",
      "Background color: white\r\n",
      "Background color: white\r\n",
      "Background color: white\r\n",
      "Background color: white\r\n",
      "Background color: white\r\n",
      "Background color: white\r\n",
      "Background color: white\r\n",
      "Background color: white\r\n",
      "Background color: white\r\n",
      "Background color: white\r\n",
      "Background color: white\r\n",
      "Background color: white\r\n",
      "Background color: white\r\n",
      "Background color: white\r\n",
      "Background color: white\r\n",
      "Background color: white\r\n",
      "Background color: white\r\n",
      "Background color: white\r\n",
      "Background color: white\r\n",
      "Background color: white\r\n",
      "Background color: white\r\n",
      "Background color: white\r\n",
      "Background color: white\r\n",
      "Background color: white\r\n",
      "Background color: white\r\n",
      "Background color: white\r\n",
      "Background color: white\r\n",
      "Background color: white\r\n",
      "Background color: white\r\n",
      "Background color: white\r\n",
      "Background color: white\r\n",
      "Background color: white\r\n",
      "Background color: white\r\n",
      "Background color: white\r\n",
      "Background color: white\r\n",
      "Background color: white\r\n",
      "Background color: white\r\n",
      "Background color: white\r\n",
      "Background color: white\r\n",
      "Background color: white\r\n",
      "Background color: white\r\n",
      "Background color: white\r\n",
      "Background color: white\r\n",
      "Background color: white\r\n",
      "Background color: white\r\n",
      "Background color: white\r\n",
      "Background color: white\r\n",
      "Background color: white\r\n",
      "Background color: white\r\n",
      "Background color: white\r\n",
      "Background color: white\r\n",
      "Background color: white\r\n",
      "Background color: white\r\n",
      "Background color: white\r\n",
      "Background color: white\r\n",
      "Background color: white\r\n",
      "Background color: white\r\n",
      "Background color: white\r\n",
      "Background color: white\r\n",
      "Background color: white\r\n",
      "Background color: white\r\n",
      "Background color: white\r\n",
      "Background color: white\r\n",
      "Background color: white\r\n",
      "Background color: white\r\n",
      "Background color: white\r\n",
      "Background color: white\r\n",
      "Background color: white\r\n",
      "Background color: white\r\n",
      "Background color: white\r\n",
      "Background color: white\r\n",
      "Background color: white\r\n",
      "Background color: white\r\n",
      "Background color: white\r\n",
      "Background color: white\r\n",
      "Background color: white\r\n",
      "Background color: white\r\n",
      "Background color: white\r\n",
      "Background color: white\r\n",
      "Background color: white\r\n",
      "Background color: white\r\n",
      "Background color: white\r\n",
      "Background color: white\r\n",
      "Background color: white\r\n",
      "Background color: white\r\n",
      "Background color: white\r\n",
      "Background color: white\r\n",
      "Background color: white\r\n",
      "Background color: white\r\n",
      "Background color: white\r\n",
      "Background color: white\r\n",
      "Background color: white\r\n",
      "Background color: white\r\n",
      "Background color: white\r\n",
      "Background color: white\r\n",
      "Background color: white\r\n",
      "Background color: white\r\n",
      "Background color: white\r\n",
      "TIFFWriteDirectoryTagData: IO error writing tag data.\r\n",
      "convert: Write error at scanline 1311. `TIFFAppendToStrip' @ error/tiff.c/TIFFErrors/568.\r\n",
      "convert: IO error writing tag data. `TIFFWriteDirectoryTagData' @ error/tiff.c/TIFFErrors/568.\r\n",
      "Background color: white\r\n",
      "TIFFWriteDirectoryTagData: IO error writing tag data.\r\n",
      "convert: Read error at scanline 21648; got 10388798 bytes, expected 16747188. `TIFFFillStrip' @ error/tiff.c/TIFFErrors/568.\r\n",
      "Background color: white\r\n",
      "TIFFWriteDirectoryTagData: IO error writing tag data.\r\n",
      "convert: Read error at scanline 22294; got 2577254 bytes, expected 16688472. `TIFFFillStrip' @ error/tiff.c/TIFFErrors/568.\r\n",
      "Background color: white\r\n",
      "TIFFWriteDirectoryTaBackground color: white\r\n",
      "Background color: white\r\n",
      "TIFFWriteDirectoryTagData: IO error writing tag data.\r\n",
      "convert: Read error at scanline 22620; got 1242150 bytes, expected 16720704. `TIFFFillStrip' @ error/tiff.c/TIFFErrors/568.\r\n",
      "Background color: white\r\n",
      "TIFFWriteDirectoryTagData: IO error writing tag data.\r\n",
      "convert: Read error at scanline 21574; got 12878372 bytes, expected 16710351. `TIFFFillStrip' @ error/tiff.c/TIFFErrors/568.\r\n",
      "Background color: white\r\n",
      "TIFFWriteDirectoryTagData: IO error writing tag data.\r\n",
      "convert: Read error at scanline 19782; got 3856730 bytes, expected 16689414. `TIFFFillStrip' @ error/tiff.c/TIFFErrors/568.\r\n",
      "Background color: white\r\n",
      "TIFFWriteDirectoryTagData: IO error writing tag data.\r\n",
      "convert: Read error at scanline 21600; got 9408686 bytes, expected 16768800. `TIFFFillStrip' @ error/tiff.c/TIFFErrors/568.\r\n",
      "Background color: white\r\n",
      "TIFFWriteDirectoryTagData: IO error writing tag data.\r\n",
      "convert: Read error at scanline 21285; got 9109449 bytes, expected 16740405. `TIFFFillStrip' @ error/tiff.c/TIFFErrors/568.\r\n",
      "Background color: white\r\n",
      "TIFFWriteDirectoryTagData: IO error writing tag data.\r\n",
      "convert: Write error at scanline 4934. `TIFFAppendToStrip' @ error/tiff.c/TIFFErrors/568.\r\n",
      "convert: IO error writing tag data. `TIFFWriteDirectoryTagData' @ error/tiff.c/TIFFErrors/568.\r\n",
      "Background color: white\r\n",
      "TIFFWriteDirectoryTagData: IO error writing tag data.\r\n",
      "convert: Read error at scanline 22620; got 13280302 bytes, expected 16720704. `TIFFFillStrip' @ error/tiff.c/TIFFErrors/568.\r\n",
      "Background color: white\r\n",
      "TIFFWriteDirectoryTagData: IO error writing tag data.\r\n",
      "convert: Read error at scanline 20034; got 14415420 bytes, expected 16768935. `TIFFFillStrip' @ error/tiff.c/TIFFErrors/568.\r\n",
      "Background color: white\r\n",
      "TIFFWriteDirectoryTagData: IO error writing tag data.\r\n",
      "convert: Read error at scanline 19398; got 3097784 bytes, expected 16768935. `TIFFFillStrip' @ error/tiff.c/TIFFErrors/568.\r\n",
      "Background color: white\r\n",
      "TIFFWriteDirectoryTagData: IO error writing tag data.\r\n",
      "convert: Read error at scanline 20447; got 11767229 bytes, expected 16710351. `TIFFFillStrip' @ error/tiff.c/TIFFErrors/568.\r\n",
      "Background color: white\r\n",
      "TIFFWriteDirectoryTagData: IO error writing tag data.\r\n",
      "convert: Read error at scanline 19520; got 14288182 bytes, expected 16768800. `TIFFFillStrip' @ error/tiff.c/TIFFErrors/568.\r\n",
      "Background color: white\r\n",
      "Background color: white\r\n",
      "TIFFWriteDirectoryTagData: IO error writing tag data.\r\n",
      "convert: Read error at scanline 20944; got 1649094 bytes, expected 16765584. `TIFFFillStrip' @ error/tiff.c/TIFFErrors/568.\r\n",
      "Background color: white\r\n",
      "TIFFWriteDirectoryTagData: IO error writing tag data.\r\n",
      "convert: Read error at scanline 18444; got 10906022 bytes, expected 16772274. `TIFFFillStrip' @ error/tiff.c/TIFFErrors/568.\r\n",
      "Background color: white\r\n",
      "TIFFWriteDirectoryTagData: IO error writing tag data.\r\n",
      "convert: Read error at scanline 18080; got 3658190 bytes, expected 16740480. `TIFFFillStrip' @ error/tiff.c/TIFFErrors/568.\r\n",
      "Background color: white\r\n",
      "TIFFWriteDirectoryTagData: IO error writing tag data.\r\n",
      "convert: Read error at scanline 18096; got 1315254 bytes, expected 16716960. `TIFFFillStrip' @ error/tiff.c/TIFFErrors/568.\r\n",
      "Background color: white\r\n",
      "TIFFWriteDirectoryTagData: IO error writing tag data.\r\n",
      "convert: Read error at scanline 17920; got 8838222 bytes, expected 16768800. `TIFFFillStrip' @ error/tiff.c/TIFFErrors/568.\r\n",
      "Background color: white\r\n",
      "TIFFWriteDirectoryTagData: IO error writing tag data.\r\n",
      "convert: Read error at scanline 21033; got 806347 bytes, expected 16748937. `TIFFFillStrip' @ error/tiff.c/TIFFErrors/568.\r\n",
      "Background color: white\r\n",
      "TIFFWriteDirectoryTagData: IO error writing tag data.\r\n",
      "convert: Read error at scanline 21948; got 6891738 bytes, expected 16744023. `TIFFFillStrip' @ error/tiff.c/TIFFErrors/568.\r\n",
      "Background color: white\r\n",
      "TIFFWriteDirectoryTagData: IO error writing tag data.\r\n",
      "convert: Read error at scanline 18444; got 16028314 bytes, expected 16768935. `TIFFFillStrip' @ error/tiff.c/TIFFErrors/568.\r\n",
      "Background color: white\r\n",
      "TIFFWriteDirectoryTagData: IO error writing tag data.\r\n",
      "convert: Read error at scanline 17741; got 3407520 bytes, expecte"
     ]
    }
   ],
   "source": [
    "! cat /tmp/stderr_0.log"
   ]
  },
  {
   "cell_type": "markdown",
   "metadata": {},
   "source": [
    "# Convert images to nissl-like grayscale - for full nissl stacks"
   ]
  },
  {
   "cell_type": "code",
   "execution_count": 20,
   "metadata": {},
   "outputs": [
    {
     "name": "stderr",
     "output_type": "stream",
     "text": [
      "Convert nissl images to gray...Child returned 0\n",
      "16 nodes requested, 16 nodes available...Continuing\n"
     ]
    },
    {
     "name": "stdout",
     "output_type": "stream",
     "text": [
      "rm -f ~/stderr_*; rm -f ~/stdout_*\n"
     ]
    },
    {
     "name": "stderr",
     "output_type": "stream",
     "text": [
      "Jobs submitted. Use wait_qsub_complete() to check if they finish.\n",
      "qsub returned.\n",
      "done in 1136.945903 seconds\n"
     ]
    }
   ],
   "source": [
    "# for stack in all_nissl_stacks:\n",
    "for stack in ['MD595']:\n",
    "    \n",
    "    download_from_s3(DataManager.get_sorted_filenames_filename(stack=stack))\n",
    "    _, sections_to_filenames = DataManager.load_sorted_filenames(stack=stack)\n",
    "    \n",
    "    valid_filenames = [fn for fn in sections_to_filenames.values() if not is_invalid(fn=fn)]\n",
    "    download_from_s3(DataManager.get_anchor_filename_filename(stack=stack))\n",
    "\n",
    "    _, _, _, _, first_sec, last_sec = DataManager.load_cropbox(stack=stack)\n",
    "    first_fn = sections_to_filenames[first_sec]\n",
    "    last_fn = sections_to_filenames[last_sec]\n",
    "    first_idx_among_valid = valid_filenames.index(first_fn)\n",
    "    last_idx_among_valid = valid_filenames.index(last_fn)\n",
    "\n",
    "    # Convert Nissl images to grayscale\n",
    "    \n",
    "    t = time.time()\n",
    "    sys.stderr.write('Convert nissl images to gray...')\n",
    "\n",
    "    script_fp = os.path.join(REPO_DIR, 'preprocess', 'convert_grayscale_neurotrace_v2.py')\n",
    "\n",
    "    run_distributed(command='%(script_path)s %(stack)s \\'%%(filenames)s\\''%\\\n",
    "                        {'script_path': script_fp, 'stack': stack},\n",
    "                        kwargs_list={'filenames': valid_filenames[first_idx_among_valid:last_idx_among_valid+1]\n",
    "                                    },\n",
    "                        argument_type='list2')\n",
    "\n",
    "    wait_qsub_complete()\n",
    "\n",
    "    sys.stderr.write('done in %f seconds\\n' % (time.time() - t)) # 900 seconds."
   ]
  },
  {
   "cell_type": "markdown",
   "metadata": {},
   "source": [
    "# Convert images to nissl-like grayscale - for alternating nissl/neurotrace stacks"
   ]
  },
  {
   "cell_type": "code",
   "execution_count": 269,
   "metadata": {
    "scrolled": true
   },
   "outputs": [
    {
     "name": "stderr",
     "output_type": "stream",
     "text": [
      "Convert nissl images to gray...16 nodes requested, 16 nodes available...Continuing\n",
      "Jobs submitted. Use wait_qsub_complete() to check if they finish.\n",
      "qsub returned.\n",
      "done in 1098.395771 seconds\n",
      "16 nodes requested, 16 nodes available...Continuing\n"
     ]
    },
    {
     "name": "stdout",
     "output_type": "stream",
     "text": [
      "Match intensity profile between Neurotrace and Nissl..."
     ]
    },
    {
     "name": "stderr",
     "output_type": "stream",
     "text": [
      "Jobs submitted. Use wait_qsub_complete() to check if they finish.\n",
      "qsub returned.\n",
      "Convert neurotrace images to gray...16 nodes requested, 16 nodes available...Continuing\n"
     ]
    },
    {
     "name": "stdout",
     "output_type": "stream",
     "text": [
      " done in 2371.7916441 seconds\n"
     ]
    },
    {
     "name": "stderr",
     "output_type": "stream",
     "text": [
      "Jobs submitted. Use wait_qsub_complete() to check if they finish.\n",
      "qsub returned.\n",
      "done in 1008.132029 seconds\n",
      "Convert nissl images to gray...16 nodes requested, 16 nodes available...Continuing\n",
      "Jobs submitted. Use wait_qsub_complete() to check if they finish.\n",
      "qsub returned.\n",
      "done in 1053.684169 seconds\n",
      "16 nodes requested, 16 nodes available...Continuing\n"
     ]
    },
    {
     "name": "stdout",
     "output_type": "stream",
     "text": [
      "Match intensity profile between Neurotrace and Nissl..."
     ]
    },
    {
     "name": "stderr",
     "output_type": "stream",
     "text": [
      "Jobs submitted. Use wait_qsub_complete() to check if they finish.\n",
      "qsub returned.\n",
      "Convert neurotrace images to gray...16 nodes requested, 16 nodes available...Continuing\n"
     ]
    },
    {
     "name": "stdout",
     "output_type": "stream",
     "text": [
      " done in 3785.25425816 seconds\n"
     ]
    },
    {
     "name": "stderr",
     "output_type": "stream",
     "text": [
      "Jobs submitted. Use wait_qsub_complete() to check if they finish.\n",
      "qsub returned.\n",
      "done in 1298.919096 seconds\n"
     ]
    }
   ],
   "source": [
    "# for stack in all_alt_nissl_ntb_stacks + all_alt_nissl_tracing_stacks:\n",
    "for stack in ['MD653', 'MD657']:\n",
    "    \n",
    "    download_from_s3(DataManager.get_sorted_filenames_filename(stack=stack))\n",
    "    _, sections_to_filenames = DataManager.load_sorted_filenames(stack=stack)\n",
    "    \n",
    "    valid_filenames = [fn for fn in sections_to_filenames.values() if not is_invalid(fn=fn)]\n",
    "    download_from_s3(DataManager.get_anchor_filename_filename(stack=stack))\n",
    "\n",
    "    _, _, _, _, first_sec, last_sec = DataManager.load_cropbox(stack=stack)\n",
    "    first_fn = sections_to_filenames[first_sec]\n",
    "    last_fn = sections_to_filenames[last_sec]\n",
    "    first_idx_among_valid = valid_filenames.index(first_fn)\n",
    "    last_idx_among_valid = valid_filenames.index(last_fn)\n",
    "\n",
    "    # Convert Nissl images to grayscale\n",
    "    \n",
    "    t = time.time()\n",
    "    sys.stderr.write('Convert nissl images to gray...')\n",
    "\n",
    "    script_fp = os.path.join(REPO_DIR, 'preprocess', 'convert_grayscale_neurotrace_v2.py')\n",
    "\n",
    "    run_distributed(command='%(script_path)s %(stack)s \\'%%(filenames)s\\''%\\\n",
    "                        {'script_path': script_fp, 'stack': stack},\n",
    "                        kwargs_list={'filenames': \n",
    "                                     [fn for fn in valid_filenames[first_idx_among_valid:last_idx_among_valid+1]\n",
    "                                      if fn.split('-')[1][0] == 'N']\n",
    "                                    },\n",
    "                        argument_type='list2',\n",
    "                       cluster_size=16)\n",
    "\n",
    "    wait_qsub_complete()\n",
    "\n",
    "    sys.stderr.write('done in %f seconds\\n' % (time.time() - t)) # 900 seconds.\n",
    "    \n",
    "    # Match intensity profile between Neurotrace Blue to Nissl\n",
    "\n",
    "    t = time.time()\n",
    "    sys.stderr.write('Match intensity profile between Neurotrace and Nissl...')\n",
    "\n",
    "    filename_pairs = []\n",
    "    l = valid_filenames[first_idx_among_valid:last_idx_among_valid+1]\n",
    "    for i, fn in enumerate(l):\n",
    "        if l[i].split('-')[1][0] == 'F':\n",
    "            for d in range(1, 99):\n",
    "                if i+d < len(l) and l[i+d].split('-')[1][0] == 'N':\n",
    "                    filename_pairs.append((l[i+d], l[i]))\n",
    "                    break\n",
    "                if i-d >= 0 and l[i-d].split('-')[1][0] == 'N':\n",
    "                    filename_pairs.append((l[i-d], l[i]))\n",
    "                    break\n",
    "            \n",
    "    script_fp = os.path.join(REPO_DIR, 'preprocess', 'match_intensity_profile.py')\n",
    "    \n",
    "    run_distributed(command='%(script_path)s %(stack)s \\'%%(filename_pairs)s\\' ' % \\\n",
    "                    {'script_path': script_fp,\n",
    "                    'stack': stack,\n",
    "                    'filename_pairs': filename_pairs},\n",
    "                    kwargs_list=dict(filename_pairs=filename_pairs),\n",
    "                    argument_type='list2',\n",
    "                   cluster_size=16)\n",
    "\n",
    "    wait_qsub_complete()\n",
    "\n",
    "    sys.stderr.write('done in %f seconds\\n' % (time.time() - t)) # 2500 seconds. \n",
    "    # TODO: One node is especially slow, investigate.\n",
    "    \n",
    "    # Convert Neurotrace images to grayscale\n",
    "    \n",
    "    t = time.time()\n",
    "    sys.stderr.write('Convert neurotrace images to gray...')\n",
    "    \n",
    "    script_fp = os.path.join(REPO_DIR, 'preprocess', 'convert_grayscale_neurotrace_v2.py')\n",
    "    \n",
    "    run_distributed(command='%(script_path)s %(stack)s \\'%%(filenames)s\\''%\\\n",
    "                        {'script_path': script_fp, \n",
    "                        'stack': stack},\n",
    "                        kwargs_list={'filenames': [fn for fn in valid_filenames[first_idx_among_valid:last_idx_among_valid+1]\n",
    "                                      if fn.split('-')[1][0] == 'F']\n",
    "                                    },\n",
    "                        argument_type='list2',\n",
    "                       cluster_size=16)\n",
    "\n",
    "    wait_qsub_complete()\n",
    "\n",
    "    sys.stderr.write('done in %f seconds\\n' % (time.time() - t)) # 1200 seconds.    "
   ]
  },
  {
   "cell_type": "markdown",
   "metadata": {},
   "source": [
    "# Convert images to nissl-like grayscale - for full neurotrace stacks"
   ]
  },
  {
   "cell_type": "code",
   "execution_count": 9,
   "metadata": {},
   "outputs": [
    {
     "name": "stderr",
     "output_type": "stream",
     "text": [
      "Convert neurotrace images to gray...Child returned 0\n",
      "16 nodes available.\n"
     ]
    },
    {
     "name": "stdout",
     "output_type": "stream",
     "text": [
      "rm -f ~/stderr_*; rm -f ~/stdout_*\n"
     ]
    },
    {
     "name": "stderr",
     "output_type": "stream",
     "text": [
      "Jobs submitted. Use wait_qsub_complete() to wait for all execution to finish.\n",
      "qsub returned.\n",
      "done in 1952.800308 seconds\n"
     ]
    }
   ],
   "source": [
    "for stack in ['MD635']:\n",
    "    \n",
    "    # Convert Neurotrace images to grayscale using a priori intensity mapping.\n",
    "    \n",
    "    t = time.time()\n",
    "    sys.stderr.write('Convert neurotrace images to gray...')\n",
    "    \n",
    "    script_fp = os.path.join(REPO_DIR, 'preprocess', 'convert_grayscale_neurotrace_v2.py')\n",
    "    \n",
    "    run_distributed(command='%(script_path)s %(stack)s \\'%%(filenames)s\\''%\\\n",
    "                        {'script_path': script_fp, \n",
    "                        'stack': stack},\n",
    "                        kwargs_list={'filenames': metadata_cache['valid_filenames'][stack]},\n",
    "                        argument_type='list2')\n",
    "\n",
    "    wait_qsub_complete()\n",
    "\n",
    "    sys.stderr.write('done in %f seconds\\n' % (time.time() - t)) # 2000 seconds.    "
   ]
  },
  {
   "cell_type": "markdown",
   "metadata": {},
   "source": [
    "# ONE STACK"
   ]
  },
  {
   "cell_type": "markdown",
   "metadata": {},
   "source": [
    "# Step 1: Convert Nissl images to grayscale"
   ]
  },
  {
   "cell_type": "code",
   "execution_count": null,
   "metadata": {
    "collapsed": true
   },
   "outputs": [],
   "source": [
    "t = time.time()\n",
    "sys.stderr.write('Convert nissl images to gray...')\n",
    "               \n",
    "script_fp = os.path.join(REPO_DIR, 'preprocess', 'convert_grayscale_neurotrace_v2.py')\n",
    "\n",
    "run_distributed(command='%(script_path)s %(stack)s \\'%%(filenames)s\\''%\\\n",
    "                    {'script_path': script_fp, 'stack': stack},\n",
    "#                     kwargs_list={'filenames': valid_filenames[first_idx_among_valid:last_idx_among_valid+1]},\n",
    "                    kwargs_list={'filenames':\n",
    "                                 [fn for fn in valid_filenames[first_idx_among_valid:last_idx_among_valid+1]\n",
    "                                  if fn.split('-')[1][0] == 'N']},\n",
    "                    argument_type='list2',\n",
    "                   cluster_size=16)\n",
    "\n",
    "wait_qsub_complete()\n",
    "\n",
    "sys.stderr.write('done in %f seconds\\n' % (time.time() - t)) # 1200 seconds."
   ]
  },
  {
   "cell_type": "code",
   "execution_count": 44,
   "metadata": {
    "collapsed": true
   },
   "outputs": [],
   "source": [
    "# Convert contrast-stretched Neurotrace images to grayscale\n",
    "\n",
    "# script_fp = os.path.join(REPO_DIR, 'preprocess', 'convert_grayscale_neurotrace.py')\n",
    "# in_dir = os.path.join(DATA_DIR, stack, stack + '_lossless_alignedTo_' + anchor_fn + '_cropped_contrast_stretched')\n",
    "# out_dir = os.path.join(DATA_DIR, stack, stack + '_lossless_alignedTo_' + anchor_fn + '_cropped_contrast_stretched_blueasgray')\n",
    "# ! mkdir -p {out_dir}"
   ]
  },
  {
   "cell_type": "code",
   "execution_count": 57,
   "metadata": {},
   "outputs": [
    {
     "name": "stderr",
     "output_type": "stream",
     "text": [
      "Convert neurotrace images to gray...16 nodes requested, 16 nodes available...Continuing\n",
      "Jobs submitted. Use wait_qsub_complete() to check if they finish.\n",
      "qsub returned.\n",
      "done in 75.575123 seconds\n"
     ]
    }
   ],
   "source": [
    "# t = time.time()\n",
    "# sys.stderr.write('Convert neurotrace images to gray...')\n",
    "               \n",
    "# run_distributed(command='%(script_path)s %%(in_fn)s %%(out_fn)s'%\\\n",
    "#                     {'script_path': script_fp},\n",
    "#                     kwargs_list=[{'in_fn': os.path.join(in_dir, fn + '_lossless_alignedTo_' + anchor_fn + '_cropped_contrast_stretched.tif'),\n",
    "#                                 'out_fn': os.path.join(out_dir, fn + '_lossless_alignedTo_' + anchor_fn + '_cropped_contrast_stretched_blueasgray.tif')}\n",
    "# #                                 for fn in valid_filenames[first_idx_among_valid:last_idx_among_valid+1]\n",
    "#                                  for fn in valid_filenames[150:151]\n",
    "#                                 if fn.split('-')[1][0] == 'F'],\n",
    "#                     argument_type='single',\n",
    "#                    cluster_size=16)\n",
    "\n",
    "# wait_qsub_complete()\n",
    "\n",
    "# sys.stderr.write('done in %f seconds\\n' % (time.time() - t)) # 2500 seconds"
   ]
  },
  {
   "cell_type": "markdown",
   "metadata": {},
   "source": [
    "# Step 2: Match intensity profile between Neurotrace Blue to Nissl"
   ]
  },
  {
   "cell_type": "code",
   "execution_count": 122,
   "metadata": {
    "scrolled": true
   },
   "outputs": [
    {
     "name": "stdout",
     "output_type": "stream",
     "text": [
      "Match intensity profile between Neurotrace and Nissl... rm -f ~/stderr_*; rm -f ~/stdout_*\n"
     ]
    },
    {
     "name": "stderr",
     "output_type": "stream",
     "text": [
      "Child returned 0\n",
      "16 nodes available.\n",
      "Jobs submitted. Use wait_qsub_complete() to wait for all execution to finish.\n",
      "qsub returned.\n",
      "Child returned 0\n",
      "16 nodes available.\n"
     ]
    },
    {
     "name": "stdout",
     "output_type": "stream",
     "text": [
      "done in 2790.67252398 seconds\n",
      "Match intensity profile between Neurotrace and Nissl... rm -f ~/stderr_*; rm -f ~/stdout_*\n"
     ]
    },
    {
     "name": "stderr",
     "output_type": "stream",
     "text": [
      "Jobs submitted. Use wait_qsub_complete() to wait for all execution to finish.\n",
      "qsub returned.\n",
      "Child returned 0\n",
      "16 nodes available.\n"
     ]
    },
    {
     "name": "stdout",
     "output_type": "stream",
     "text": [
      "done in 2554.21281099 seconds\n",
      "Match intensity profile between Neurotrace and Nissl... rm -f ~/stderr_*; rm -f ~/stdout_*\n"
     ]
    },
    {
     "name": "stderr",
     "output_type": "stream",
     "text": [
      "Jobs submitted. Use wait_qsub_complete() to wait for all execution to finish.\n",
      "qsub returned.\n",
      "Child returned 0\n",
      "16 nodes available.\n"
     ]
    },
    {
     "name": "stdout",
     "output_type": "stream",
     "text": [
      "done in 2655.20303488 seconds\n",
      "Match intensity profile between Neurotrace and Nissl... rm -f ~/stderr_*; rm -f ~/stdout_*\n"
     ]
    },
    {
     "name": "stderr",
     "output_type": "stream",
     "text": [
      "Jobs submitted. Use wait_qsub_complete() to wait for all execution to finish.\n"
     ]
    },
    {
     "name": "stdout",
     "output_type": "stream",
     "text": [
      "done in 2363.96758008 seconds\n"
     ]
    },
    {
     "name": "stderr",
     "output_type": "stream",
     "text": [
      "qsub returned.\n"
     ]
    }
   ],
   "source": [
    "# for stack in all_alt_nissl_ntb_stacks + all_alt_nissl_tracing_stacks:\n",
    "for stack in ['MD653', 'MD652', 'MD642', 'MD658']:\n",
    "\n",
    "#     download_from_s3(DataManager.get_sorted_filenames_filename(stack=stack))\n",
    "#     _, sections_to_filenames = DataManager.load_sorted_filenames(stack=stack)\n",
    "#     valid_filenames = [fn for fn in sections_to_filenames.values() if not is_invalid(fn=fn)]\n",
    "#     download_from_s3(DataManager.get_anchor_filename_filename(stack=stack))\n",
    "#     anchor_fn = DataManager.load_anchor_filename(stack=stack)\n",
    "#     download_from_s3(DataManager.get_cropbox_filename(stack=stack))\n",
    "#     xmin, xmax, ymin, ymax, first_sec, last_sec = DataManager.load_cropbox(stack=stack)\n",
    "#     w = xmax + 1 - xmin\n",
    "#     h = ymax + 1 - ymin\n",
    "#     x = xmin\n",
    "#     y = ymin\n",
    "#     first_fn = sections_to_filenames[first_sec]\n",
    "#     last_fn = sections_to_filenames[last_sec]\n",
    "#     first_idx_among_valid = valid_filenames.index(first_fn)\n",
    "#     last_idx_among_valid = valid_filenames.index(last_fn)\n",
    "    \n",
    "    #########################################################\n",
    "    \n",
    "    t = time.time()\n",
    "    print 'Match intensity profile between Neurotrace and Nissl...',\n",
    "    \n",
    "    filename_pairs = []\n",
    "    l = metadata_cache['valid_filenames'][stack]\n",
    "    for i, fn in enumerate(l):\n",
    "        if l[i].split('-')[1][0] == 'F':\n",
    "            for d in range(1, 99):\n",
    "                if i+d < len(l) and l[i+d].split('-')[1][0] == 'N':\n",
    "                    filename_pairs.append((l[i+d], l[i]))\n",
    "                    break\n",
    "                if i-d >= 0 and l[i-d].split('-')[1][0] == 'N':\n",
    "                    filename_pairs.append((l[i-d], l[i]))\n",
    "                    break\n",
    "    \n",
    "    script = os.path.join(REPO_DIR, 'preprocess', 'match_intensity_profile_v2.py')\n",
    "    \n",
    "    run_distributed(command='%(script_path)s %(stack)s \\'%%(filename_pairs)s\\' 100' % \\\n",
    "                    {'script_path': script,\n",
    "                    'stack': stack},\n",
    "#                     kwargs_list=dict(filename_pairs=filename_pairs[37:38]),\n",
    "                    kwargs_list=dict(filename_pairs=filename_pairs),\n",
    "                    argument_type='list2'\n",
    "                   )\n",
    "\n",
    "    wait_qsub_complete()\n",
    "\n",
    "    print 'done in', time.time() - t, 'seconds'"
   ]
  },
  {
   "cell_type": "markdown",
   "metadata": {},
   "source": [
    "# Step 3: Convert Neurotrace images to grayscale (New, use nonlinear intensity mapping)"
   ]
  },
  {
   "cell_type": "code",
   "execution_count": 6,
   "metadata": {},
   "outputs": [
    {
     "name": "stdout",
     "output_type": "stream",
     "text": [
      "Setting autoscaling group cfncluster-yuncongcluster-ComputeFleet-1LEH9CIEITL1A capaticy to 16...it may take more than 5 minutes for SGE to know new hosts.\n"
     ]
    }
   ],
   "source": [
    "request_compute_nodes(16, 'yuncong')"
   ]
  },
  {
   "cell_type": "code",
   "execution_count": 7,
   "metadata": {
    "scrolled": true
   },
   "outputs": [
    {
     "name": "stdout",
     "output_type": "stream",
     "text": [
      "rm -f ~/stderr_*; rm -f ~/stdout_*\n"
     ]
    },
    {
     "name": "stderr",
     "output_type": "stream",
     "text": [
      "0 nodes available.\n"
     ]
    }
   ],
   "source": [
    "run_distributed('rm -rf /scratch/*', argument_type='single')"
   ]
  },
  {
   "cell_type": "code",
   "execution_count": 8,
   "metadata": {
    "collapsed": true
   },
   "outputs": [],
   "source": [
    "# for fn in valid_filenames[first_idx_among_valid:last_idx_among_valid+1]:\n",
    "#     download_from_s3(DataManager.get_image_filepath(stack=stack, version='cropped', resol='lossless', fn=fn))"
   ]
  },
  {
   "cell_type": "markdown",
   "metadata": {},
   "source": [
    "This requires at least 4.2xlarge instances. 4.xlarge causes memory error."
   ]
  },
  {
   "cell_type": "code",
   "execution_count": 101,
   "metadata": {
    "collapsed": true
   },
   "outputs": [],
   "source": [
    "# _, sections_to_filenames = DataManager.load_sorted_filenames(stack=stack) \n",
    "# valid_filenames = [fn for fn in sections_to_filenames.values() if not is_invalid(fn=fn)]"
   ]
  },
  {
   "cell_type": "code",
   "execution_count": 8,
   "metadata": {
    "collapsed": true
   },
   "outputs": [],
   "source": [
    "script_fp = os.path.join(REPO_DIR, 'preprocess', 'convert_grayscale_neurotrace_v2.py')"
   ]
  },
  {
   "cell_type": "code",
   "execution_count": 9,
   "metadata": {
    "scrolled": false
   },
   "outputs": [
    {
     "name": "stderr",
     "output_type": "stream",
     "text": [
      "Convert neurotrace images to gray...16 nodes available.\n",
      "Jobs submitted. Use wait_qsub_complete() to wait for all execution to finish.\n"
     ]
    },
    {
     "name": "stdout",
     "output_type": "stream",
     "text": [
      "rm -f ~/stderr_*; rm -f ~/stdout_*\n"
     ]
    },
    {
     "name": "stderr",
     "output_type": "stream",
     "text": [
      "qsub returned.\n",
      "done in 1885.043394 seconds\n",
      "Convert neurotrace images to gray...16 nodes available.\n"
     ]
    },
    {
     "name": "stdout",
     "output_type": "stream",
     "text": [
      "rm -f ~/stderr_*; rm -f ~/stdout_*\n"
     ]
    },
    {
     "name": "stderr",
     "output_type": "stream",
     "text": [
      "Jobs submitted. Use wait_qsub_complete() to wait for all execution to finish.\n",
      "qsub returned.\n",
      "done in 2247.007864 seconds\n"
     ]
    }
   ],
   "source": [
    "# for stack in all_alt_nissl_ntb_stacks + all_alt_nissl_tracing_stacks:\n",
    "for stack in ['MD652', 'MD653']:\n",
    "    \n",
    "#     output_dir = create_if_not_exists(DataManager.get_image_dir_v2(stack=stack, prep_id=2, resol='lossless'));\n",
    "#     ! rm -r {output_dir}\n",
    "\n",
    "    t = time.time()\n",
    "    sys.stderr.write('Convert neurotrace images to gray...')\n",
    "\n",
    "    run_distributed(command='DATA_DIR=/scratch/CSHL_data_processed %(script_path)s %(stack)s \\'%%(filenames)s\\' -o %(output_version)s --not_use_section_specific'%\\\n",
    "#     run_distributed(command='DATA_DIR=/scratch/CSHL_data_processed %(script_path)s %(stack)s \\'%%(filenames)s\\' -o %(output_version)s'%\\\n",
    "                        {'script_path': script_fp, \n",
    "                        'stack': stack,\n",
    "                        'output_version': 'grayDefault'},\n",
    "                        kwargs_list={'filenames': metadata_cache['valid_filenames'][stack]\n",
    "#                                      [fn for fn in metadata_cache['valid_filenames'][stack][151:152]\n",
    "#                                       if fn.split('-')[1][0] == 'F']\n",
    "                                    },\n",
    "                        argument_type='list2')\n",
    "\n",
    "    wait_qsub_complete()\n",
    "\n",
    "    sys.stderr.write('done in %f seconds\\n' % (time.time() - t)) # 1200 seconds.\n",
    "    \n",
    "# 16 4.2xlarge, whole stack, 2000s"
   ]
  },
  {
   "cell_type": "code",
   "execution_count": 68,
   "metadata": {
    "collapsed": true
   },
   "outputs": [],
   "source": [
    "# upload_to_s3(DataManager.get_image_dir(stack=stack, version='cropped_gray', resol='lossless'), is_dir=True)"
   ]
  },
  {
   "cell_type": "markdown",
   "metadata": {},
   "source": [
    "# Step 2/3: Convert Neurotrace images to grayscale (linear intensity mapping)"
   ]
  },
  {
   "cell_type": "code",
   "execution_count": 2,
   "metadata": {
    "collapsed": true
   },
   "outputs": [],
   "source": [
    "stack = 'MD662'"
   ]
  },
  {
   "cell_type": "code",
   "execution_count": 3,
   "metadata": {
    "collapsed": true
   },
   "outputs": [],
   "source": [
    "script_fp = os.path.join(REPO_DIR, 'preprocess', 'convert_grayscale_neurotrace_v2.py')"
   ]
  },
  {
   "cell_type": "code",
   "execution_count": 5,
   "metadata": {},
   "outputs": [
    {
     "name": "stdout",
     "output_type": "stream",
     "text": [
      "rm -f ~/stderr_*; rm -f ~/stdout_*\n"
     ]
    },
    {
     "name": "stderr",
     "output_type": "stream",
     "text": [
      "0 nodes available.\n",
      "qsub returned.\n"
     ]
    }
   ],
   "source": [
    "run_distributed('rm -rf /scratch/*', argument_type='single')\n",
    "wait_qsub_complete()"
   ]
  },
  {
   "cell_type": "code",
   "execution_count": 8,
   "metadata": {
    "scrolled": true
   },
   "outputs": [
    {
     "name": "stderr",
     "output_type": "stream",
     "text": [
      "Convert neurotrace images to gray...16 nodes available.\n"
     ]
    },
    {
     "name": "stdout",
     "output_type": "stream",
     "text": [
      "rm -f ~/stderr_*; rm -f ~/stdout_*\n"
     ]
    },
    {
     "name": "stderr",
     "output_type": "stream",
     "text": [
      "Jobs submitted. Use wait_qsub_complete() to wait for all execution to finish.\n",
      "qsub returned.\n",
      "done in 672.223936 seconds\n",
      "16 nodes available.\n"
     ]
    },
    {
     "name": "stdout",
     "output_type": "stream",
     "text": [
      "rm -f ~/stderr_*; rm -f ~/stdout_*\n"
     ]
    },
    {
     "name": "stderr",
     "output_type": "stream",
     "text": [
      "Jobs submitted. Use wait_qsub_complete() to wait for all execution to finish.\n",
      "qsub returned.\n",
      "done in 1264.206029 seconds\n"
     ]
    }
   ],
   "source": [
    "t = time.time()\n",
    "sys.stderr.write('Convert neurotrace images to gray...')\n",
    "\n",
    "for low in range(500, 1500, 500):\n",
    "    high = 0\n",
    "# for low in [500]:\n",
    "\n",
    "    run_distributed(command='DATA_ROOTDIR=/scratch %(script_path)s %(stack)s \\'%%(filenames)s\\' -l %(low)d -H %(high)d -o %(output_version)s'%\\\n",
    "                        {'script_path': script_fp, \n",
    "                        'stack': stack,\n",
    "                        'low': low,\n",
    "                         'high': high,\n",
    "                        'output_version': 'grayL'+str(low)+'H'+str(high)},\n",
    "                        kwargs_list={'filenames': \n",
    "                                     [fn for fn in metadata_cache['valid_filenames'][stack]\n",
    "                                      if fn.split('-')[1][0] == 'F']},\n",
    "#                                      metadata_cache['valid_filenames'][stack]},\n",
    "                        argument_type='list2',\n",
    "                   node_list=get_node_list())\n",
    "\n",
    "    wait_qsub_complete()\n",
    "\n",
    "    sys.stderr.write('done in %f seconds\\n' % (time.time() - t)) \n",
    "\n",
    "# /scratch, 133 jobs / 16 nodes: 850 seconds"
   ]
  },
  {
   "cell_type": "code",
   "execution_count": null,
   "metadata": {
    "collapsed": true
   },
   "outputs": [],
   "source": [
    "# This may not be necessary. Intensity rescaling is easy at feature generation time.\n",
    "\n",
    "script_fp = os.path.join(REPO_DIR, 'preprocess', 'convert_grayscale_neurotrace_v2.py')\n",
    "\n",
    "for stack in ['MD585', 'MD589', 'MD594']:\n",
    "    \n",
    "    run_distributed('rm -rf /scratch/*', argument_type='single')\n",
    "    wait_qsub_complete()\n",
    "\n",
    "    for low in [0, 63, 127]:\n",
    "        for high in [127, 191, 255]:\n",
    "            if low < high:\n",
    "                \n",
    "                t = time.time()\n",
    "                sys.stderr.write('Convert nissl images to gray...')\n",
    "\n",
    "                run_distributed(command='DATA_DIR=/scratch/CSHL_data_processed %(script_path)s %(stack)s \\'%%(filenames)s\\' -l %(low)d -H %(high)d -o %(output_version)s'%\\\n",
    "                                    {'script_path': script_fp, \n",
    "                                    'stack': stack,\n",
    "                                    'low': low,\n",
    "                                     'high': high,\n",
    "                                    'output_version': 'grayLinear'+str(low)+'t'+str(high)},\n",
    "                                    kwargs_list={'filenames': metadata_cache['valid_filenames'][stack]},\n",
    "                                    argument_type='list2',\n",
    "                               node_list=get_node_list())\n",
    "\n",
    "                wait_qsub_complete()\n",
    "\n",
    "                sys.stderr.write('done in %f seconds\\n' % (time.time() - t)) \n",
    "\n",
    "            # /scratch, 133 jobs / 16 nodes: 850 seconds"
   ]
  },
  {
   "cell_type": "markdown",
   "metadata": {},
   "source": [
    "# Compress nissl gray and normalized fluorescent gray images (NEW)"
   ]
  },
  {
   "cell_type": "code",
   "execution_count": 12,
   "metadata": {},
   "outputs": [
    {
     "name": "stdout",
     "output_type": "stream",
     "text": [
      "rm -f ~/stderr_*; rm -f ~/stdout_*\n"
     ]
    },
    {
     "name": "stderr",
     "output_type": "stream",
     "text": [
      "16 nodes available.\n",
      "Jobs submitted. Use wait_qsub_complete() to wait for all execution to finish.\n"
     ]
    }
   ],
   "source": [
    "run_distributed('rm -r /scratch/*', argument_type='single')"
   ]
  },
  {
   "cell_type": "code",
   "execution_count": 2,
   "metadata": {
    "scrolled": true
   },
   "outputs": [
    {
     "name": "stdout",
     "output_type": "stream",
     "text": [
      "Generating compressed images... rm -f ~/stderr_*; rm -f ~/stdout_*\n"
     ]
    },
    {
     "name": "stderr",
     "output_type": "stream",
     "text": [
      "16 nodes available.\n",
      "Jobs submitted. Use wait_qsub_complete() to wait for all execution to finish.\n",
      "qsub returned.\n",
      "16 nodes available.\n"
     ]
    },
    {
     "name": "stdout",
     "output_type": "stream",
     "text": [
      "done in 271.186305046 seconds\n",
      "Generating compressed images... rm -f ~/stderr_*; rm -f ~/stdout_*\n"
     ]
    },
    {
     "name": "stderr",
     "output_type": "stream",
     "text": [
      "Jobs submitted. Use wait_qsub_complete() to wait for all execution to finish.\n",
      "qsub returned.\n",
      "16 nodes available.\n"
     ]
    },
    {
     "name": "stdout",
     "output_type": "stream",
     "text": [
      "done in 236.153964996 seconds\n",
      "Generating compressed images... rm -f ~/stderr_*; rm -f ~/stdout_*\n"
     ]
    },
    {
     "name": "stderr",
     "output_type": "stream",
     "text": [
      "Jobs submitted. Use wait_qsub_complete() to wait for all execution to finish.\n",
      "qsub returned.\n",
      "16 nodes available.\n"
     ]
    },
    {
     "name": "stdout",
     "output_type": "stream",
     "text": [
      "done in 266.273519039 seconds\n",
      "Generating compressed images... rm -f ~/stderr_*; rm -f ~/stdout_*\n"
     ]
    },
    {
     "name": "stderr",
     "output_type": "stream",
     "text": [
      "Jobs submitted. Use wait_qsub_complete() to wait for all execution to finish.\n"
     ]
    },
    {
     "name": "stdout",
     "output_type": "stream",
     "text": [
      "done in 261.257901907 seconds\n"
     ]
    },
    {
     "name": "stderr",
     "output_type": "stream",
     "text": [
      "qsub returned.\n"
     ]
    }
   ],
   "source": [
    "# for stack in all_alt_nissl_ntb_stacks + all_alt_nissl_tracing_stacks:\n",
    "for stack in ['MD642', 'MD652', 'MD653', 'MD657']:\n",
    "    \n",
    "    t = time.time()\n",
    "    print 'Generating compressed images...',\n",
    "\n",
    "    script_fp = os.path.join(REPO_DIR, 'preprocess', 'compress_as_jpeg.py')\n",
    "\n",
    "    # Only specifying DATA_DIR does not work because download_from_s3() forms the path relative to ROOT_DIR.\n",
    "    run_distributed('ROOT_DIR=/scratch %(script)s \\\"%%(input_fp)s\\\" \\\"%%(output_fp)s\\\"' % \\\n",
    "                    {'script': script_fp},\n",
    "                    kwargs_list=[{'input_fp': \n",
    "                                  DataManager.get_image_filepath_v2(stack=stack, prep_id=2, fn=fn, resol='lossless', \n",
    "                                                                    version='grayDefault', data_dir='/scratch/CSHL_data_processed'),\n",
    "                                  'output_fp': \n",
    "                                  DataManager.get_image_filepath_v2(stack=stack, prep_id=2, fn=fn, resol='lossless', \n",
    "                                                                    version='grayDefaultJpeg',data_dir='/scratch/CSHL_data_processed',ext='jpg')}\n",
    "                                 for fn in metadata_cache['valid_filenames'][stack]],\n",
    "                        argument_type='single')\n",
    "\n",
    "    wait_qsub_complete()\n",
    "\n",
    "    sys.stderr.write('done in %f seconds\\n' % (time.time() - t)) \n",
    "    # for one stack 300 seconds."
   ]
  },
  {
   "cell_type": "markdown",
   "metadata": {},
   "source": [
    "# Compress Nissl"
   ]
  },
  {
   "cell_type": "code",
   "execution_count": 21,
   "metadata": {},
   "outputs": [
    {
     "name": "stdout",
     "output_type": "stream",
     "text": [
      "Generating compressed images... rm -f ~/stderr_*; rm -f ~/stdout_*\n"
     ]
    },
    {
     "name": "stderr",
     "output_type": "stream",
     "text": [
      "Run locally.\n",
      "Jobs submitted. Use wait_qsub_complete() to wait for all execution to finish.\n",
      "done in 1660.535950 seconds\n"
     ]
    }
   ],
   "source": [
    "# for stack in all_alt_nissl_ntb_stacks + all_alt_nissl_tracing_stacks:\n",
    "for stack in ['MD585']:\n",
    "    \n",
    "    t = time.time()\n",
    "    print 'Generating compressed images...',\n",
    "\n",
    "    script_fp = os.path.join(REPO_DIR, 'preprocess', 'compress_as_jpeg.py')\n",
    "\n",
    "    # Only specifying DATA_DIR does not work because download_from_s3() forms the path relative to ROOT_DIR.\n",
    "#     run_distributed('ROOT_DIR=/scratch %(script)s \\\"%%(input_fp)s\\\" \\\"%%(output_fp)s\\\"' % \\\n",
    "#                     {'script': script_fp},\n",
    "#                     kwargs_list=[{'input_fp': \n",
    "#                                   DataManager.get_image_filepath_v2(stack=stack, prep_id=2, fn=fn, resol='lossless', \n",
    "#                                                                     version='Ntb', data_dir='/scratch/CSHL_data_processed'),\n",
    "#                                   'output_fp': \n",
    "#                                   DataManager.get_image_filepath_v2(stack=stack, prep_id=2, fn=fn, resol='lossless', \n",
    "#                                                                     version='NtbJpeg',data_dir='/scratch/CSHL_data_processed',ext='jpg')}\n",
    "#                                  for fn in metadata_cache['valid_filenames'][stack]],\n",
    "#                         argument_type='single',\n",
    "#                    local_only=True)\n",
    "\n",
    "\n",
    "    run_distributed('ROOT_DIR=/media/yuncong/BstemAtlasData/ %(script)s \\\"%%(input_fp)s\\\" \\\"%%(output_fp)s\\\"' % \\\n",
    "                    {'script': script_fp},\n",
    "                    kwargs_list=[{'input_fp': \n",
    "                                  DataManager.get_image_filepath_v2(stack=stack, prep_id=3, fn=fn, resol='lossless', \n",
    "                                                                    data_dir=DATA_DIR),\n",
    "                                  'output_fp': \n",
    "                                  DataManager.get_image_filepath_v2(stack=stack, prep_id=3, fn=fn, resol='lossless', \n",
    "                                                                    version='jpeg', data_dir=DATA_DIR, ext='jpg')}\n",
    "                                 for fn in metadata_cache['valid_filenames'][stack]],\n",
    "                        argument_type='single',\n",
    "                   local_only=True)\n",
    "\n",
    "\n",
    "#     wait_qsub_complete()\n",
    "\n",
    "    sys.stderr.write('done in %f seconds\\n' % (time.time() - t)) \n",
    "    # for one stack 300 seconds."
   ]
  },
  {
   "cell_type": "code",
   "execution_count": 20,
   "metadata": {},
   "outputs": [
    {
     "name": "stdout",
     "output_type": "stream",
     "text": [
      "Completed 256.0 KiB/10.0 MiB (936.3 KiB/s) with 1 file(s) remaining\r",
      "Completed 512.0 KiB/10.0 MiB (1.7 MiB/s) with 1 file(s) remaining  \r",
      "Completed 768.0 KiB/10.0 MiB (2.4 MiB/s) with 1 file(s) remaining  \r",
      "Completed 1.0 MiB/10.0 MiB (3.1 MiB/s) with 1 file(s) remaining    \r",
      "Completed 1.2 MiB/10.0 MiB (3.8 MiB/s) with 1 file(s) remaining    \r",
      "Completed 1.5 MiB/10.0 MiB (4.5 MiB/s) with 1 file(s) remaining    \r",
      "Completed 1.8 MiB/10.0 MiB (5.1 MiB/s) with 1 file(s) remaining    \r",
      "Completed 2.0 MiB/10.0 MiB (5.8 MiB/s) with 1 file(s) remaining    \r",
      "Completed 2.2 MiB/10.0 MiB (6.5 MiB/s) with 1 file(s) remaining    \r",
      "Completed 2.5 MiB/10.0 MiB (7.1 MiB/s) with 1 file(s) remaining    \r",
      "Completed 2.8 MiB/10.0 MiB (7.7 MiB/s) with 1 file(s) remaining    \r",
      "Completed 3.0 MiB/10.0 MiB (8.4 MiB/s) with 1 file(s) remaining    \r",
      "Completed 3.2 MiB/10.0 MiB (8.9 MiB/s) with 1 file(s) remaining    \r",
      "Completed 3.5 MiB/10.0 MiB (9.5 MiB/s) with 1 file(s) remaining    \r",
      "Completed 3.8 MiB/10.0 MiB (9.9 MiB/s) with 1 file(s) remaining    \r",
      "Completed 4.0 MiB/10.0 MiB (10.5 MiB/s) with 1 file(s) remaining   \r",
      "Completed 4.2 MiB/10.0 MiB (11.1 MiB/s) with 1 file(s) remaining   \r",
      "Completed 4.5 MiB/10.0 MiB (11.4 MiB/s) with 1 file(s) remaining   \r",
      "Completed 4.8 MiB/10.0 MiB (12.0 MiB/s) with 1 file(s) remaining   \r",
      "Completed 5.0 MiB/10.0 MiB (12.4 MiB/s) with 1 file(s) remaining   \r",
      "Completed 5.2 MiB/10.0 MiB (12.9 MiB/s) with 1 file(s) remaining   \r",
      "Completed 5.5 MiB/10.0 MiB (13.5 MiB/s) with 1 file(s) remaining   \r",
      "Completed 5.8 MiB/10.0 MiB (13.8 MiB/s) with 1 file(s) remaining   \r",
      "Completed 6.0 MiB/10.0 MiB (14.3 MiB/s) with 1 file(s) remaining   \r",
      "Completed 6.2 MiB/10.0 MiB (14.7 MiB/s) with 1 file(s) remaining   \r",
      "Completed 6.5 MiB/10.0 MiB (15.1 MiB/s) with 1 file(s) remaining   \r",
      "Completed 6.8 MiB/10.0 MiB (15.6 MiB/s) with 1 file(s) remaining   \r",
      "Completed 7.0 MiB/10.0 MiB (16.0 MiB/s) with 1 file(s) remaining   \r",
      "Completed 7.2 MiB/10.0 MiB (16.4 MiB/s) with 1 file(s) remaining   \r",
      "Completed 7.5 MiB/10.0 MiB (16.7 MiB/s) with 1 file(s) remaining   \r",
      "Completed 7.8 MiB/10.0 MiB (17.1 MiB/s) with 1 file(s) remaining   \r",
      "Completed 7.8 MiB/10.0 MiB (17.0 MiB/s) with 1 file(s) remaining   \r",
      "Completed 8.0 MiB/10.0 MiB (17.4 MiB/s) with 1 file(s) remaining   \r",
      "Completed 8.3 MiB/10.0 MiB (17.9 MiB/s) with 1 file(s) remaining   \r",
      "Completed 8.5 MiB/10.0 MiB (18.3 MiB/s) with 1 file(s) remaining   \r",
      "Completed 8.8 MiB/10.0 MiB (18.6 MiB/s) with 1 file(s) remaining   \r",
      "Completed 9.0 MiB/10.0 MiB (19.0 MiB/s) with 1 file(s) remaining   \r",
      "Completed 9.3 MiB/10.0 MiB (19.4 MiB/s) with 1 file(s) remaining   \r",
      "Completed 9.5 MiB/10.0 MiB (19.6 MiB/s) with 1 file(s) remaining   \r",
      "Completed 9.8 MiB/10.0 MiB (20.0 MiB/s) with 1 file(s) remaining   \r",
      "Completed 10.0 MiB/10.0 MiB (19.3 MiB/s) with 1 file(s) remaining  \r",
      "upload: ../../../media/yuncong/BstemAtlasData/CSHL_data_processed/MD585/MD585_prep2_lossless_jpeg/MD585-N16-2015.07.16-20.32.33_MD585_2_0047_prep2_lossless_jpeg.jpg to s3://mousebrainatlas-data/CSHL_data_processed/MD585/MD585_prep2_lossless_jpeg/MD585-N16-2015.07.16-20.32.33_MD585_2_0047_prep2_lossless_jpeg.jpg\r\n",
      "Setting environment for Precision WorkStation\r\n",
      "convert \"/media/yuncong/BstemAtlasData/CSHL_data_processed/MD585/MD585_prep3_lossless/MD585-N16-2015.07.16-20.32.33_MD585_2_0047_prep3_lossless.tif\" -depth 8 -format jpg -quality 80 \"/media/yuncong/BstemAtlasData/CSHL_data_processed/MD585/MD585_prep2_lossless_jpeg/MD585-N16-2015.07.16-20.32.33_MD585_2_0047_prep2_lossless_jpeg.jpg\"\r\n",
      "aws s3 cp \"/media/yuncong/BstemAtlasData/CSHL_data_processed/MD585/MD585_prep2_lossless_jpeg/MD585-N16-2015.07.16-20.32.33_MD585_2_0047_prep2_lossless_jpeg.jpg\" \"s3://mousebrainatlas-data/CSHL_data_processed/MD585/MD585_prep2_lossless_jpeg/MD585-N16-2015.07.16-20.32.33_MD585_2_0047_prep2_lossless_jpeg.jpg\"\r\n"
     ]
    }
   ],
   "source": [
    "! cat /tmp/stdout_0.log"
   ]
  },
  {
   "cell_type": "markdown",
   "metadata": {},
   "source": [
    "# Compress CryoJane data to JPEG"
   ]
  },
  {
   "cell_type": "code",
   "execution_count": 11,
   "metadata": {},
   "outputs": [
    {
     "name": "stderr",
     "output_type": "stream",
     "text": [
      "[autoreload of utilities2015 failed: Traceback (most recent call last):\n",
      "  File \"/usr/local/lib/python2.7/dist-packages/IPython/extensions/autoreload.py\", line 247, in check\n",
      "    superreload(m, reload, self.old_objects)\n",
      "AttributeError: __abstractmethods__\n",
      "]\n"
     ]
    },
    {
     "name": "stdout",
     "output_type": "stream",
     "text": [
      "Generating compressed images... rm -f ~/stderr_*; rm -f ~/stdout_*\n"
     ]
    },
    {
     "name": "stderr",
     "output_type": "stream",
     "text": [
      "Run locally.\n",
      "Jobs submitted. Use wait_qsub_complete() to wait for all execution to finish.\n",
      "done in 4548.938718 seconds\n"
     ]
    }
   ],
   "source": [
    "# for stack in all_alt_nissl_ntb_stacks + all_alt_nissl_tracing_stacks:\n",
    "for stack in ['ChatCryoJane201710']:\n",
    "    \n",
    "    t = time.time()\n",
    "    print 'Generating compressed images...',\n",
    "\n",
    "    script_fp = os.path.join(REPO_DIR, 'preprocess', 'compress_as_jpeg.py')\n",
    "\n",
    "    # Only specifying DATA_DIR does not work because download_from_s3() forms the path relative to ROOT_DIR.\n",
    "#     run_distributed('ROOT_DIR=/scratch %(script)s \\\"%%(input_fp)s\\\" \\\"%%(output_fp)s\\\"' % \\\n",
    "#                     {'script': script_fp},\n",
    "#                     kwargs_list=[{'input_fp': \n",
    "#                                   DataManager.get_image_filepath_v2(stack=stack, prep_id=2, fn=fn, resol='lossless', \n",
    "#                                                                     version='Ntb', data_dir='/scratch/CSHL_data_processed'),\n",
    "#                                   'output_fp': \n",
    "#                                   DataManager.get_image_filepath_v2(stack=stack, prep_id=2, fn=fn, resol='lossless', \n",
    "#                                                                     version='NtbJpeg',data_dir='/scratch/CSHL_data_processed',ext='jpg')}\n",
    "#                                  for fn in metadata_cache['valid_filenames'][stack]],\n",
    "#                         argument_type='single',\n",
    "#                    local_only=True)\n",
    "\n",
    "\n",
    "    run_distributed('ROOT_DIR=/media/yuncong/BstemAtlasData/ %(script)s \\\"%%(input_fp)s\\\" \\\"%%(output_fp)s\\\"' % \\\n",
    "                    {'script': script_fp},\n",
    "                    kwargs_list=[{'input_fp': \n",
    "                                  DataManager.get_image_filepath_v2(stack=stack, prep_id=2, fn=fn, resol='lossless', \n",
    "                                                                    version='Chat', data_dir=DATA_DIR),\n",
    "                                  'output_fp': \n",
    "                                  DataManager.get_image_filepath_v2(stack=stack, prep_id=2, fn=fn, resol='lossless', \n",
    "                                                                    version='ChatJpeg', data_dir=DATA_DIR, ext='jpg')}\n",
    "                                 for fn in metadata_cache['valid_filenames'][stack]],\n",
    "                        argument_type='single',\n",
    "                   local_only=True)\n",
    "\n",
    "\n",
    "#     wait_qsub_complete()\n",
    "\n",
    "    sys.stderr.write('done in %f seconds\\n' % (time.time() - t)) \n",
    "    # for one stack 300 seconds."
   ]
  },
  {
   "cell_type": "markdown",
   "metadata": {},
   "source": [
    "# Shrink JPEG"
   ]
  },
  {
   "cell_type": "code",
   "execution_count": 3,
   "metadata": {
    "collapsed": true
   },
   "outputs": [],
   "source": [
    "downscale = 8"
   ]
  },
  {
   "cell_type": "code",
   "execution_count": 4,
   "metadata": {
    "collapsed": true
   },
   "outputs": [],
   "source": [
    "script_fp = os.path.join(REPO_DIR, 'preprocess', 'rescale_image.py')"
   ]
  },
  {
   "cell_type": "code",
   "execution_count": 7,
   "metadata": {},
   "outputs": [
    {
     "name": "stdout",
     "output_type": "stream",
     "text": [
      "Generating compressed images... rm -f ~/stderr_*; rm -f ~/stdout_*\n"
     ]
    },
    {
     "name": "stderr",
     "output_type": "stream",
     "text": [
      "16 nodes available.\n",
      "Jobs submitted. Use wait_qsub_complete() to wait for all execution to finish.\n",
      "qsub returned.\n",
      "done in 135.785959 seconds\n",
      "16 nodes available.\n"
     ]
    },
    {
     "name": "stdout",
     "output_type": "stream",
     "text": [
      "Generating compressed images... rm -f ~/stderr_*; rm -f ~/stdout_*\n"
     ]
    },
    {
     "name": "stderr",
     "output_type": "stream",
     "text": [
      "Jobs submitted. Use wait_qsub_complete() to wait for all execution to finish.\n",
      "qsub returned.\n",
      "done in 150.879550 seconds\n",
      "16 nodes available.\n"
     ]
    },
    {
     "name": "stdout",
     "output_type": "stream",
     "text": [
      "Generating compressed images... rm -f ~/stderr_*; rm -f ~/stdout_*\n"
     ]
    },
    {
     "name": "stderr",
     "output_type": "stream",
     "text": [
      "Jobs submitted. Use wait_qsub_complete() to wait for all execution to finish.\n",
      "qsub returned.\n",
      "done in 155.894895 seconds\n",
      "16 nodes available.\n"
     ]
    },
    {
     "name": "stdout",
     "output_type": "stream",
     "text": [
      "Generating compressed images... rm -f ~/stderr_*; rm -f ~/stdout_*\n"
     ]
    },
    {
     "name": "stderr",
     "output_type": "stream",
     "text": [
      "Jobs submitted. Use wait_qsub_complete() to wait for all execution to finish.\n",
      "qsub returned.\n",
      "done in 140.805168 seconds\n"
     ]
    }
   ],
   "source": [
    "# for stack in all_alt_nissl_ntb_stacks + all_alt_nissl_tracing_stacks:\n",
    "for stack in ['MD652', 'MD653', 'MD657', 'MD658']:\n",
    "    \n",
    "    t = time.time()\n",
    "    print 'Generating compressed images...',\n",
    "    w, h = metadata_cache['image_shape'][stack]\n",
    "    \n",
    "    if downscale == 32:\n",
    "\n",
    "        run_distributed('ROOT_DIR=/scratch %(script)s \\\"%%(input_fp)s\\\" \\\"%%(output_fp)s\\\" -W %(w)d -H %(h)d' % \\\n",
    "                {'script': script_fp, 'w': w/32, 'h': h/32},\n",
    "                kwargs_list=[{'input_fp': DataManager.get_image_filepath_v2(stack=stack, prep_id=2, fn=fn, resol='lossless', version='grayJpeg', data_dir='/scratch/CSHL_data_processed',ext='jpg'),\n",
    "                              'output_fp': DataManager.get_image_filepath_v2(stack=stack, prep_id=2, fn=fn, resol='thumbnail', version='grayJpeg', thumbnail_data_dir='/scratch/CSHL_data_processed',ext='jpg')}\n",
    "                             for fn in metadata_cache['valid_filenames'][stack]],\n",
    "                    argument_type='single')\n",
    "        \n",
    "    else:\n",
    "        \n",
    "        # Only specifying DATA_DIR does not work because download_from_s3() forms the path relative to ROOT_DIR.\n",
    "        run_distributed('ROOT_DIR=/scratch %(script)s \\\"%%(input_fp)s\\\" \\\"%%(output_fp)s\\\" -W %(w)d -H %(h)d' % \\\n",
    "                        {'script': script_fp, 'w': w/downscale, 'h': h/downscale},\n",
    "                        kwargs_list=[{'input_fp': DataManager.get_image_filepath_v2(stack=stack, prep_id=2, fn=fn,\\\n",
    "                                                                                    resol='lossless', \\\n",
    "                                                                                    version='grayDefaultJpeg', data_dir='/scratch/CSHL_data_processed',ext='jpg'),\n",
    "                                      'output_fp': DataManager.get_image_filepath_v2(stack=stack, prep_id=2, fn=fn, \\\n",
    "                                                                                     resol='down%d'%downscale, \\\n",
    "                                                                                     version='grayDefaultJpeg', data_dir='/scratch/CSHL_data_processed',ext='jpg')}\n",
    "                                     for fn in metadata_cache['valid_filenames'][stack]],\n",
    "                            argument_type='single')\n",
    "\n",
    "    wait_qsub_complete()\n",
    "\n",
    "    sys.stderr.write('done in %f seconds\\n' % (time.time() - t))"
   ]
  },
  {
   "cell_type": "markdown",
   "metadata": {},
   "source": [
    "# Compress and shrink."
   ]
  },
  {
   "cell_type": "code",
   "execution_count": 2,
   "metadata": {
    "collapsed": true
   },
   "outputs": [],
   "source": [
    "downscale = 8"
   ]
  },
  {
   "cell_type": "code",
   "execution_count": 6,
   "metadata": {
    "collapsed": true
   },
   "outputs": [],
   "source": [
    "script_fp = os.path.join(REPO_DIR, 'preprocess', 'compress_and_rescale.py')"
   ]
  },
  {
   "cell_type": "code",
   "execution_count": 7,
   "metadata": {
    "scrolled": true
   },
   "outputs": [
    {
     "name": "stdout",
     "output_type": "stream",
     "text": [
      "Compress and rescale images... rm -f ~/stderr_*; rm -f ~/stdout_*\n"
     ]
    },
    {
     "name": "stderr",
     "output_type": "stream",
     "text": [
      "5 nodes available.\n",
      "Jobs submitted. Use wait_qsub_complete() to wait for all execution to finish.\n",
      "qsub returned.\n",
      "5 nodes available.\n",
      "Jobs submitted. Use wait_qsub_complete() to wait for all execution to finish.\n"
     ]
    },
    {
     "name": "stdout",
     "output_type": "stream",
     "text": [
      "done in 321.014811039 seconds\n",
      "Compress and rescale images... rm -f ~/stderr_*; rm -f ~/stdout_*\n"
     ]
    },
    {
     "name": "stderr",
     "output_type": "stream",
     "text": [
      "qsub returned.\n",
      "5 nodes available.\n",
      "Jobs submitted. Use wait_qsub_complete() to wait for all execution to finish.\n"
     ]
    },
    {
     "name": "stdout",
     "output_type": "stream",
     "text": [
      "done in 280.957913876 seconds\n",
      "Compress and rescale images... rm -f ~/stderr_*; rm -f ~/stdout_*\n"
     ]
    },
    {
     "name": "stderr",
     "output_type": "stream",
     "text": [
      "qsub returned.\n",
      "5 nodes available.\n",
      "Jobs submitted. Use wait_qsub_complete() to wait for all execution to finish.\n"
     ]
    },
    {
     "name": "stdout",
     "output_type": "stream",
     "text": [
      "done in 295.970170021 seconds\n",
      "Compress and rescale images... rm -f ~/stderr_*; rm -f ~/stdout_*\n"
     ]
    },
    {
     "name": "stderr",
     "output_type": "stream",
     "text": [
      "qsub returned.\n",
      "5 nodes available.\n",
      "Jobs submitted. Use wait_qsub_complete() to wait for all execution to finish.\n"
     ]
    },
    {
     "name": "stdout",
     "output_type": "stream",
     "text": [
      "done in 305.981263161 seconds\n",
      "Compress and rescale images... rm -f ~/stderr_*; rm -f ~/stdout_*\n"
     ]
    },
    {
     "name": "stderr",
     "output_type": "stream",
     "text": [
      "qsub returned.\n",
      "5 nodes available.\n",
      "Jobs submitted. Use wait_qsub_complete() to wait for all execution to finish.\n"
     ]
    },
    {
     "name": "stdout",
     "output_type": "stream",
     "text": [
      "done in 305.985481977 seconds\n",
      "Compress and rescale images... rm -f ~/stderr_*; rm -f ~/stdout_*\n"
     ]
    },
    {
     "name": "stderr",
     "output_type": "stream",
     "text": [
      "qsub returned.\n",
      "5 nodes available.\n",
      "Jobs submitted. Use wait_qsub_complete() to wait for all execution to finish.\n"
     ]
    },
    {
     "name": "stdout",
     "output_type": "stream",
     "text": [
      "done in 306.00112009 seconds\n",
      "Compress and rescale images... rm -f ~/stderr_*; rm -f ~/stdout_*\n"
     ]
    },
    {
     "name": "stderr",
     "output_type": "stream",
     "text": [
      "qsub returned.\n",
      "5 nodes available.\n",
      "Jobs submitted. Use wait_qsub_complete() to wait for all execution to finish.\n"
     ]
    },
    {
     "name": "stdout",
     "output_type": "stream",
     "text": [
      "done in 280.882650137 seconds\n",
      "Compress and rescale images... rm -f ~/stderr_*; rm -f ~/stdout_*\n"
     ]
    },
    {
     "name": "stderr",
     "output_type": "stream",
     "text": [
      "qsub returned.\n",
      "5 nodes available.\n",
      "Jobs submitted. Use wait_qsub_complete() to wait for all execution to finish.\n"
     ]
    },
    {
     "name": "stdout",
     "output_type": "stream",
     "text": [
      "done in 316.070741892 seconds\n",
      "Compress and rescale images... rm -f ~/stderr_*; rm -f ~/stdout_*\n"
     ]
    },
    {
     "name": "stderr",
     "output_type": "stream",
     "text": [
      "qsub returned.\n",
      "5 nodes available.\n",
      "Jobs submitted. Use wait_qsub_complete() to wait for all execution to finish.\n"
     ]
    },
    {
     "name": "stdout",
     "output_type": "stream",
     "text": [
      "done in 305.982710123 seconds\n",
      "Compress and rescale images... rm -f ~/stderr_*; rm -f ~/stdout_*\n"
     ]
    },
    {
     "name": "stderr",
     "output_type": "stream",
     "text": [
      "qsub returned.\n",
      "5 nodes available.\n",
      "Jobs submitted. Use wait_qsub_complete() to wait for all execution to finish.\n"
     ]
    },
    {
     "name": "stdout",
     "output_type": "stream",
     "text": [
      "done in 321.06528306 seconds\n",
      "Compress and rescale images... rm -f ~/stderr_*; rm -f ~/stdout_*\n"
     ]
    },
    {
     "name": "stderr",
     "output_type": "stream",
     "text": [
      "qsub returned.\n",
      "5 nodes available.\n",
      "Jobs submitted. Use wait_qsub_complete() to wait for all execution to finish.\n"
     ]
    },
    {
     "name": "stdout",
     "output_type": "stream",
     "text": [
      "done in 331.033967972 seconds\n",
      "Compress and rescale images... rm -f ~/stderr_*; rm -f ~/stdout_*\n",
      "done in 376.182645082 seconds\n"
     ]
    },
    {
     "name": "stderr",
     "output_type": "stream",
     "text": [
      "qsub returned.\n"
     ]
    }
   ],
   "source": [
    "for (in_version, out_version) in [('gray', 'grayJpeg')]:\n",
    "    for stack in all_nissl_stacks:\n",
    "\n",
    "        t = time.time()\n",
    "        print 'Compress and rescale images...',\n",
    "        w, h = metadata_cache['image_shape'][stack]\n",
    "        run_distributed('DATA_ROOTDIR=/scratch %(script)s \\\"%%(input_fp)s\\\" \\\"%%(output_fp)s\\\" -W %(w)d -H %(h)d' % \\\n",
    "                        {'script': script_fp, 'w': w/downscale, 'h': h/downscale},\n",
    "                        kwargs_list=[{'input_fp': DataManager.get_image_filepath_v2(stack=stack, prep_id=2, fn=fn, \n",
    "                                                                                    resol='lossless', \n",
    "                                                                                    version=in_version, \n",
    "                                                                                    data_dir='/scratch/CSHL_data_processed'),\n",
    "                                      'output_fp': DataManager.get_image_filepath_v2(stack=stack, prep_id=2, fn=fn, \n",
    "                                                                                     resol='down'+str(downscale), \n",
    "                                                                                     version=out_version,\n",
    "                                                                                     data_dir='/scratch/CSHL_data_processed', ext='jpg')}\n",
    "#                                      for fn in metadata_cache['valid_filenames'][stack] if fn.split('-')[1][0] == 'F'],\n",
    "                                     for fn in metadata_cache['valid_filenames'][stack]],\n",
    "                            argument_type='single')\n",
    "\n",
    "        wait_qsub_complete()\n",
    "\n",
    "        print 'done in', time.time() - t, 'seconds' \n",
    "\n",
    "    # 16 m4.4xlarge, one stack, 115 seconds."
   ]
  },
  {
   "cell_type": "markdown",
   "metadata": {},
   "source": [
    "# Constrast stretch 16-bit fluorescent image, generate RGB JPEG (NEW)"
   ]
  },
  {
   "cell_type": "code",
   "execution_count": 2,
   "metadata": {},
   "outputs": [
    {
     "name": "stdout",
     "output_type": "stream",
     "text": [
      "rm -f ~/stderr_*; rm -f ~/stdout_*\n"
     ]
    },
    {
     "name": "stderr",
     "output_type": "stream",
     "text": [
      "0 nodes available.\n"
     ]
    }
   ],
   "source": [
    "run_distributed('rm -r /scratch/*', argument_type='single')"
   ]
  },
  {
   "cell_type": "code",
   "execution_count": 10,
   "metadata": {
    "collapsed": true
   },
   "outputs": [],
   "source": [
    "script_fp = os.path.join(REPO_DIR, 'preprocess', 'contrast_stretch_fluorescent_image.py')"
   ]
  },
  {
   "cell_type": "code",
   "execution_count": 10,
   "metadata": {
    "collapsed": true
   },
   "outputs": [],
   "source": [
    "# on_s3 = [os.path.splitext(r.split()[3])[0][:-len('_prep2_lossless_contrastStretched')]\n",
    "#  for r in check_output(\"aws s3 ls s3://mousebrainatlas-data/CSHL_data_processed/MD661/MD661_prep2_lossless_contrastStretched/\".split()).split('\\n')\n",
    "#  if len(r.split()) > 1]\n",
    "# print set(on_s3) - set(metadata_cache['valid_filenames'][stack])\n",
    "# print set(metadata_cache['valid_filenames'][stack]) - set(on_s3)"
   ]
  },
  {
   "cell_type": "code",
   "execution_count": 11,
   "metadata": {
    "collapsed": true
   },
   "outputs": [],
   "source": [
    "# import psutil\n",
    "# vmem = psutil.virtual_memory()\n",
    "# print vmem.total"
   ]
  },
  {
   "cell_type": "code",
   "execution_count": 28,
   "metadata": {},
   "outputs": [
    {
     "name": "stdout",
     "output_type": "stream",
     "text": [
      "rm -f ~/stderr_*; rm -f ~/stdout_*\n"
     ]
    },
    {
     "name": "stderr",
     "output_type": "stream",
     "text": [
      "16 nodes available.\n",
      "Jobs submitted. Use wait_qsub_complete() to wait for all execution to finish.\n",
      "qsub returned.\n",
      "done in 522.101666 seconds\n"
     ]
    }
   ],
   "source": [
    "for stack in ['MD658']:\n",
    "\n",
    "    t = time.time()\n",
    "    \n",
    "    if stack == 'MD658':\n",
    "        label_channel = 0\n",
    "        label_clipmax = 1300\n",
    "    else:\n",
    "        label_channel = 1\n",
    "        label_clipmax = 400\n",
    "    \n",
    "\n",
    "    run_distributed(command='DATA_ROOTDIR=/scratch/ %(script_path)s %(stack)s \\'%%(filenames)s\\' -c %(label_channel)d -max %(label_clipmax)d'%\\\n",
    "                        {'script_path': script_fp, \n",
    "                        'stack': stack,\n",
    "                        'label_channel': label_channel,\n",
    "                        'label_clipmax': label_clipmax},\n",
    "                        kwargs_list={'filenames': \n",
    "                                     [fn for fn in metadata_cache['valid_filenames'][stack]\n",
    "                                      if fn.split('-')[1][0] == 'F']\n",
    "#                                      ['MD658-F33-2017.04.04-23.12.27_MD658_1_0097']\n",
    "                                    },\n",
    "                        argument_type='list2')\n",
    "\n",
    "    wait_qsub_complete()\n",
    "\n",
    "    sys.stderr.write('done in %f seconds\\n' % (time.time() - t))"
   ]
  },
  {
   "cell_type": "markdown",
   "metadata": {},
   "source": [
    "# Generate Masks for Aligned Sections (new)"
   ]
  },
  {
   "cell_type": "markdown",
   "metadata": {},
   "source": [
    "- Download aligned thumbnails to local machine.\n",
    "- Run `mask_editing_gui.py`. Draw initial contours. Upload `initSnakeContours.pkl` to S3."
   ]
  },
  {
   "cell_type": "code",
   "execution_count": 4,
   "metadata": {
    "scrolled": true
   },
   "outputs": [
    {
     "name": "stdout",
     "output_type": "stream",
     "text": [
      "rm -rf \"/shared/CSHL_data_processed/ChatCryoJane201710/ChatCryoJane201710_prep1_thumbnail_Ntb\" && mkdir -p \"/shared/CSHL_data_processed/ChatCryoJane201710\"\n",
      "aws s3 cp --recursive \"s3://mousebrainatlas-data/CSHL_data_processed/ChatCryoJane201710/ChatCryoJane201710_prep1_thumbnail_Ntb\" \"/shared/CSHL_data_processed/ChatCryoJane201710/ChatCryoJane201710_prep1_thumbnail_Ntb\"\n"
     ]
    }
   ],
   "source": [
    "# download_from_s3(DataManager.get_image_dir_v2(stack=stack, prep_id=1, resol='thumbnail'), is_dir=True)\n",
    "download_from_s3(DataManager.get_image_dir_v2(stack=stack, prep_id=1, resol='thumbnail', version='Ntb'), is_dir=True)"
   ]
  },
  {
   "cell_type": "code",
   "execution_count": 4,
   "metadata": {
    "collapsed": true,
    "scrolled": true
   },
   "outputs": [],
   "source": [
    "script = os.path.join(REPO_DIR, 'preprocess', 'generate_thumbnail_masks_v5.py')\n",
    "\n",
    "output_dir = create_if_not_exists(DataManager.get_auto_submask_rootdir_filepath(stack=stack))\n",
    "! rm -rf {output_dir} # important to clear remaining folders."
   ]
  },
  {
   "cell_type": "code",
   "execution_count": 5,
   "metadata": {},
   "outputs": [
    {
     "name": "stdout",
     "output_type": "stream",
     "text": [
      "rm -rf \"/shared/CSHL_data_processed/ChatCryoJane201710/ChatCryoJane201710_prep1_thumbnail_initSnakeContours.pkl\" && mkdir -p \"/shared/CSHL_data_processed/ChatCryoJane201710\"\n",
      "aws s3 cp \"s3://mousebrainatlas-data/CSHL_data_processed/ChatCryoJane201710/ChatCryoJane201710_prep1_thumbnail_initSnakeContours.pkl\" \"/shared/CSHL_data_processed/ChatCryoJane201710/ChatCryoJane201710_prep1_thumbnail_initSnakeContours.pkl\"\n"
     ]
    }
   ],
   "source": [
    "init_snake_contours_fp = DataManager.get_initial_snake_contours_filepath(stack=stack)\n",
    "download_from_s3(init_snake_contours_fp, redownload=True)"
   ]
  },
  {
   "cell_type": "code",
   "execution_count": 60,
   "metadata": {
    "collapsed": true,
    "scrolled": true
   },
   "outputs": [],
   "source": [
    "# _, sections_to_filenames = DataManager.load_sorted_filenames(stack=stack) \n",
    "# valid_filenames = [fn for fn in sections_to_filenames.values() if not is_invalid(fn=fn)]"
   ]
  },
  {
   "cell_type": "code",
   "execution_count": 6,
   "metadata": {},
   "outputs": [
    {
     "name": "stdout",
     "output_type": "stream",
     "text": [
      "Generating thumbnail mask... rm -f ~/stderr_*; rm -f ~/stdout_*\n"
     ]
    },
    {
     "name": "stderr",
     "output_type": "stream",
     "text": [
      "Run locally.\n"
     ]
    },
    {
     "name": "stdout",
     "output_type": "stream",
     "text": [
      "done in 1494.530756 seconds\n"
     ]
    },
    {
     "name": "stderr",
     "output_type": "stream",
     "text": [
      "Jobs submitted. Use wait_qsub_complete() to wait for all execution to finish.\n"
     ]
    }
   ],
   "source": [
    "t = time.time()\n",
    "print 'Generating thumbnail mask...',\n",
    "\n",
    "run_distributed(command='%(script_path)s %(stack)s \\'%%(filenames)s\\' %(init_snake_contours_fp)s --min_size 500 --default_channel 1 --shrink 3 --version Ntb' % \\\n",
    "                {'script_path': script,\n",
    "                'stack': stack,\n",
    "                'init_snake_contours_fp': init_snake_contours_fp},\n",
    "                kwargs_list={'filenames': metadata_cache['valid_filenames_all'][stack]},\n",
    "                argument_type='list2',\n",
    "               local_only=True)\n",
    "\n",
    "# wait_qsub_complete()\n",
    "\n",
    "print 'done in', time.time() - t, 'seconds' # 300s (aws)"
   ]
  },
  {
   "cell_type": "markdown",
   "metadata": {},
   "source": [
    "- download the folder `autoSubmasks` from S3.\n",
    "- Use local mask editing tool, generate `userModifiedSubmasks` and `masks`, upload to S3."
   ]
  },
  {
   "cell_type": "markdown",
   "metadata": {},
   "source": [
    "# Generate Masks"
   ]
  },
  {
   "cell_type": "code",
   "execution_count": 11,
   "metadata": {
    "collapsed": true
   },
   "outputs": [],
   "source": [
    "script = os.path.join(REPO_DIR, 'preprocess', 'generate_thumbnail_masks_v4.py')\n",
    "input_dir = os.path.join(RAW_DATA_DIR, stack)\n",
    "output_dir = create_if_not_exists(os.path.join(DATA_DIR, stack, stack + '_submasks'))\n",
    "! rm -f output_dir/*"
   ]
  },
  {
   "cell_type": "code",
   "execution_count": 16,
   "metadata": {
    "scrolled": true
   },
   "outputs": [
    {
     "name": "stdout",
     "output_type": "stream",
     "text": [
      "Generating thumbnail mask... Setting autoscaling group cfncluster-yuncongCluster-ComputeFleet-1LFRACYHLTNL8 capaticy to 16...it may take more than 5 minutes for SGE to know new hosts.\n"
     ]
    },
    {
     "name": "stderr",
     "output_type": "stream",
     "text": [
      "Wait for SGE to know all nodes (timeout in 300 seconds)...\n",
      "All nodes are ready.\n",
      "16 nodes requested, 16 nodes available...Continuing\n",
      "Jobs submitted. Use wait_qsub_complete() to check if they finish.\n"
     ]
    },
    {
     "name": "stdout",
     "output_type": "stream",
     "text": [
      "done in 403.646880865 seconds\n"
     ]
    },
    {
     "name": "stderr",
     "output_type": "stream",
     "text": [
      "qsub returned.\n"
     ]
    }
   ],
   "source": [
    "t = time.time()\n",
    "print 'Generating thumbnail mask...',\n",
    "\n",
    "wait_num_nodes(16)\n",
    "\n",
    "run_distributed(command='%(script_path)s %(stack)s %(input_dir)s \\'%%(filenames)s\\' %(output_dir)s --border_dissim_percentile %(border_dissim_percentile)d --min_size %(min_size)d' % \\\n",
    "                {'script_path': script,\n",
    "                'stack': stack,\n",
    "                'input_dir': input_dir,\n",
    "                'output_dir': output_dir,\n",
    "                'border_dissim_percentile': DEFAULT_BORDER_DISSIMILARITY_PERCENTILE,\n",
    "                'min_size': DEFAULT_MINSIZE},\n",
    "                kwargs_list=dict(filenames=valid_filenames),\n",
    "                exclude_nodes=[33],\n",
    "                argument_type='list2',\n",
    "               cluster_size=16,\n",
    "               jobs_per_node=1)\n",
    "\n",
    "wait_qsub_complete()\n",
    "\n",
    "print 'done in', time.time() - t, 'seconds' # 300s (aws)"
   ]
  },
  {
   "cell_type": "code",
   "execution_count": 18,
   "metadata": {},
   "outputs": [
    {
     "name": "stdout",
     "output_type": "stream",
     "text": [
      "aws s3 cp --recursive /shared/CSHL_data_processed/MD594/MD594_submasks s3://mousebrainatlas-data/CSHL_data_processed/MD594/MD594_submasks\n"
     ]
    },
    {
     "name": "stderr",
     "output_type": "stream",
     "text": [
      "Child returned 0\n",
      "3.72 seconds.\n"
     ]
    }
   ],
   "source": [
    "transfer_data_synced(relative_to_ec2(output_dir),\n",
    "                    from_hostname='ec2',\n",
    "                    to_hostname='s3',\n",
    "                    is_dir=True)"
   ]
  },
  {
   "cell_type": "markdown",
   "metadata": {
    "collapsed": true
   },
   "source": [
    "- download `submasks/` to local machine\n",
    "- review them in GUI\n",
    "- generate `submasks_modified/`, `masks/`, `submasks_finalDecisions.txt`, upload to S3"
   ]
  },
  {
   "cell_type": "markdown",
   "metadata": {},
   "source": [
    "# Warp Thumbnail Masks"
   ]
  },
  {
   "cell_type": "code",
   "execution_count": 6,
   "metadata": {
    "collapsed": true
   },
   "outputs": [],
   "source": [
    "script = os.path.join(REPO_DIR, 'preprocess', 'warp_crop_IM_v3.py')\n",
    "input_dir = os.path.join(DATA_DIR, stack, stack + '_masks')"
   ]
  },
  {
   "cell_type": "code",
   "execution_count": 31,
   "metadata": {},
   "outputs": [
    {
     "name": "stdout",
     "output_type": "stream",
     "text": [
      "rm -rf /shared/CSHL_data_processed/MD658/MD658_alignedTo_MD658-N58-2017.03.31-19.59.31_MD658_2_0173_masks\n"
     ]
    },
    {
     "name": "stderr",
     "output_type": "stream",
     "text": [
      "Child returned 0\n"
     ]
    }
   ],
   "source": [
    "output_dir = os.path.join(DATA_DIR, stack, stack + '_masks_alignedTo_' + anchor_fn)\n",
    "\n",
    "execute_command('rm -rf ' + output_dir)\n",
    "\n",
    "transforms_to_anchor = load_pickle(DataManager.get_transforms_filename(stack=stack))"
   ]
  },
  {
   "cell_type": "code",
   "execution_count": 24,
   "metadata": {},
   "outputs": [
    {
     "name": "stdout",
     "output_type": "stream",
     "text": [
      "warping thumbnail mask... Setting autoscaling group cfncluster-yuncongCluster-ComputeFleet-1LFRACYHLTNL8 capaticy to 16...it may take more than 5 minutes for SGE to know new hosts.\n"
     ]
    },
    {
     "name": "stderr",
     "output_type": "stream",
     "text": [
      "16 nodes requested, 1 nodes available...Continuing\n",
      "Jobs submitted. Use wait_qsub_complete() to check if they finish.\n"
     ]
    },
    {
     "name": "stdout",
     "output_type": "stream",
     "text": [
      "done in 76.2961359024 seconds\n"
     ]
    },
    {
     "name": "stderr",
     "output_type": "stream",
     "text": [
      "qsub returned.\n"
     ]
    }
   ],
   "source": [
    "t = time.time()\n",
    "print 'warping thumbnail mask...',\n",
    "\n",
    "run_distributed('%(script)s %(stack)s %(input_dir)s %(output_dir)s %%(transform)s %%(filename)s %%(output_fn)s thumbnail 0 0 2000 1500 black' % \\\n",
    "                {'script': script,\n",
    "                'stack': stack,\n",
    "                'input_dir': input_dir,\n",
    "                'output_dir': output_dir},\n",
    "                kwargs_list=[{'transform': ','.join(map(str, transforms_to_anchor[fn].flatten())),\n",
    "                            'filename': fn + '_mask.png',\n",
    "                            'output_fn': fn + '_mask_alignedTo_' + anchor_fn + '.png'}\n",
    "                            for fn in valid_filenames],\n",
    "                argument_type='single',\n",
    "               cluster_size=16,\n",
    "               jobs_per_node=16)\n",
    "\n",
    "wait_qsub_complete()\n",
    "\n",
    "print 'done in', time.time() - t, 'seconds' # 20 seconds (aws)"
   ]
  },
  {
   "cell_type": "code",
   "execution_count": 27,
   "metadata": {},
   "outputs": [
    {
     "name": "stdout",
     "output_type": "stream",
     "text": [
      "aws s3 cp --recursive /shared/CSHL_data_processed/MD594/MD594_masks_alignedTo_MD594-IHC58-2015.08.26-18.48.50_MD594_1_0172 s3://mousebrainatlas-data/CSHL_data_processed/MD594/MD594_masks_alignedTo_MD594-IHC58-2015.08.26-18.48.50_MD594_1_0172\n"
     ]
    },
    {
     "name": "stderr",
     "output_type": "stream",
     "text": [
      "Child returned 0\n",
      "3.42 seconds.\n"
     ]
    }
   ],
   "source": [
    "transfer_data_synced(relative_to_ec2(output_dir),\n",
    "                    from_hostname='ec2',\n",
    "                    to_hostname='s3',\n",
    "                    is_dir=True)"
   ]
  },
  {
   "cell_type": "markdown",
   "metadata": {},
   "source": [
    "# Crop Thumbnail Masks (new)"
   ]
  },
  {
   "cell_type": "code",
   "execution_count": 220,
   "metadata": {
    "collapsed": true
   },
   "outputs": [],
   "source": [
    "# stack = 'MD661'\n",
    "\n",
    "# download_from_s3(DataManager.get_sorted_filenames_filename(stack=stack))\n",
    "# _, sections_to_filenames = DataManager.load_sorted_filenames(stack=stack)\n",
    "# valid_filenames = [fn for fn in sections_to_filenames.values() if not is_invalid(fn=fn)]\n",
    "# download_from_s3(DataManager.get_anchor_filename_filename(stack=stack))\n",
    "# anchor_fn = DataManager.load_anchor_filename(stack=stack)\n",
    "# download_from_s3(DataManager.get_cropbox_filename(stack=stack))\n",
    "# xmin, xmax, ymin, ymax, first_sec, last_sec = DataManager.load_cropbox(stack=stack)\n",
    "# w = xmax + 1 - xmin\n",
    "# h = ymax + 1 - ymin\n",
    "# x = xmin\n",
    "# y = ymin\n",
    "# first_fn = sections_to_filenames[first_sec]\n",
    "# last_fn = sections_to_filenames[last_sec]\n",
    "# first_idx_among_valid = valid_filenames.index(first_fn)\n",
    "# last_idx_among_valid = valid_filenames.index(last_fn)"
   ]
  },
  {
   "cell_type": "code",
   "execution_count": 32,
   "metadata": {
    "collapsed": true
   },
   "outputs": [],
   "source": [
    "####"
   ]
  },
  {
   "cell_type": "code",
   "execution_count": 10,
   "metadata": {},
   "outputs": [
    {
     "name": "stdout",
     "output_type": "stream",
     "text": [
      "509 1457 72 767\n"
     ]
    }
   ],
   "source": [
    "# stack = 'MD661'\n",
    "stack = 'ChatCryoJane201710'\n",
    "xmin, xmax, ymin, ymax, _, _ = DataManager.load_cropbox(stack=stack)\n",
    "print xmin, xmax, ymin, ymax"
   ]
  },
  {
   "cell_type": "code",
   "execution_count": 11,
   "metadata": {},
   "outputs": [
    {
     "name": "stdout",
     "output_type": "stream",
     "text": [
      "rm -rf \"/shared/CSHL_data_processed/ChatCryoJane201710/ChatCryoJane201710_prep1_thumbnail_mask\" && mkdir -p \"/shared/CSHL_data_processed/ChatCryoJane201710\"\n",
      "aws s3 cp --recursive \"s3://mousebrainatlas-data/CSHL_data_processed/ChatCryoJane201710/ChatCryoJane201710_prep1_thumbnail_mask\" \"/shared/CSHL_data_processed/ChatCryoJane201710/ChatCryoJane201710_prep1_thumbnail_mask\"\n",
      "rm -rf /shared/CSHL_data_processed/ChatCryoJane201710/ChatCryoJane201710_prep2_thumbnail_mask\n",
      "mkdir -p /shared/CSHL_data_processed/ChatCryoJane201710/ChatCryoJane201710_prep2_thumbnail_mask\n"
     ]
    }
   ],
   "source": [
    "input_dir = DataManager.get_thumbnail_mask_dir_v3(stack=stack, prep_id=1)\n",
    "download_from_s3(input_dir, is_dir=True)\n",
    "\n",
    "output_dir = DataManager.get_thumbnail_mask_dir_v3(stack=stack, prep_id=2)\n",
    "\n",
    "execute_command('rm -rf ' + output_dir);\n",
    "execute_command('mkdir -p ' + output_dir);"
   ]
  },
  {
   "cell_type": "code",
   "execution_count": 34,
   "metadata": {
    "collapsed": true
   },
   "outputs": [],
   "source": [
    "# _, sections_to_filenames = DataManager.load_sorted_filenames(stack=stack) \n",
    "# valid_filenames = [fn for fn in sections_to_filenames.values() if not is_invalid(fn=fn)]"
   ]
  },
  {
   "cell_type": "code",
   "execution_count": 12,
   "metadata": {},
   "outputs": [
    {
     "name": "stderr",
     "output_type": "stream",
     "text": [
      "cropping thumbnail mask..."
     ]
    },
    {
     "name": "stdout",
     "output_type": "stream",
     "text": [
      "convert \"/shared/CSHL_data_processed/ChatCryoJane201710/ChatCryoJane201710_prep1_thumbnail_mask/ChatCryoJane201710_slide1-S1_prep1_thumbnail_mask.png\" -crop 949x696+509+72 \"/shared/CSHL_data_processed/ChatCryoJane201710/ChatCryoJane201710_prep2_thumbnail_mask/ChatCryoJane201710_slide1-S1_prep2_thumbnail_mask.png\"\n",
      "convert \"/shared/CSHL_data_processed/ChatCryoJane201710/ChatCryoJane201710_prep1_thumbnail_mask/ChatCryoJane201710_slide2-S1_prep1_thumbnail_mask.png\" -crop 949x696+509+72 \"/shared/CSHL_data_processed/ChatCryoJane201710/ChatCryoJane201710_prep2_thumbnail_mask/ChatCryoJane201710_slide2-S1_prep2_thumbnail_mask.png\"\n",
      "convert \"/shared/CSHL_data_processed/ChatCryoJane201710/ChatCryoJane201710_prep1_thumbnail_mask/ChatCryoJane201710_slide1-S2_prep1_thumbnail_mask.png\" -crop 949x696+509+72 \"/shared/CSHL_data_processed/ChatCryoJane201710/ChatCryoJane201710_prep2_thumbnail_mask/ChatCryoJane201710_slide1-S2_prep2_thumbnail_mask.png\"\n",
      "convert \"/shared/CSHL_data_processed/ChatCryoJane201710/ChatCryoJane201710_prep1_thumbnail_mask/ChatCryoJane201710_slide2-S2_prep1_thumbnail_mask.png\" -crop 949x696+509+72 \"/shared/CSHL_data_processed/ChatCryoJane201710/ChatCryoJane201710_prep2_thumbnail_mask/ChatCryoJane201710_slide2-S2_prep2_thumbnail_mask.png\"\n",
      "convert \"/shared/CSHL_data_processed/ChatCryoJane201710/ChatCryoJane201710_prep1_thumbnail_mask/ChatCryoJane201710_slide1-S3_prep1_thumbnail_mask.png\" -crop 949x696+509+72 \"/shared/CSHL_data_processed/ChatCryoJane201710/ChatCryoJane201710_prep2_thumbnail_mask/ChatCryoJane201710_slide1-S3_prep2_thumbnail_mask.png\"\n",
      "convert \"/shared/CSHL_data_processed/ChatCryoJane201710/ChatCryoJane201710_prep1_thumbnail_mask/ChatCryoJane201710_slide2-S3_prep1_thumbnail_mask.png\" -crop 949x696+509+72 \"/shared/CSHL_data_processed/ChatCryoJane201710/ChatCryoJane201710_prep2_thumbnail_mask/ChatCryoJane201710_slide2-S3_prep2_thumbnail_mask.png\"\n",
      "convert \"/shared/CSHL_data_processed/ChatCryoJane201710/ChatCryoJane201710_prep1_thumbnail_mask/ChatCryoJane201710_slide3-S1_prep1_thumbnail_mask.png\" -crop 949x696+509+72 \"/shared/CSHL_data_processed/ChatCryoJane201710/ChatCryoJane201710_prep2_thumbnail_mask/ChatCryoJane201710_slide3-S1_prep2_thumbnail_mask.png\"\n",
      "convert \"/shared/CSHL_data_processed/ChatCryoJane201710/ChatCryoJane201710_prep1_thumbnail_mask/ChatCryoJane201710_slide4-S1_prep1_thumbnail_mask.png\" -crop 949x696+509+72 \"/shared/CSHL_data_processed/ChatCryoJane201710/ChatCryoJane201710_prep2_thumbnail_mask/ChatCryoJane201710_slide4-S1_prep2_thumbnail_mask.png\"\n",
      "convert \"/shared/CSHL_data_processed/ChatCryoJane201710/ChatCryoJane201710_prep1_thumbnail_mask/ChatCryoJane201710_slide3-S2_prep1_thumbnail_mask.png\" -crop 949x696+509+72 \"/shared/CSHL_data_processed/ChatCryoJane201710/ChatCryoJane201710_prep2_thumbnail_mask/ChatCryoJane201710_slide3-S2_prep2_thumbnail_mask.png\"\n",
      "convert \"/shared/CSHL_data_processed/ChatCryoJane201710/ChatCryoJane201710_prep1_thumbnail_mask/ChatCryoJane201710_slide4-S2_prep1_thumbnail_mask.png\" -crop 949x696+509+72 \"/shared/CSHL_data_processed/ChatCryoJane201710/ChatCryoJane201710_prep2_thumbnail_mask/ChatCryoJane201710_slide4-S2_prep2_thumbnail_mask.png\"\n",
      "convert \"/shared/CSHL_data_processed/ChatCryoJane201710/ChatCryoJane201710_prep1_thumbnail_mask/ChatCryoJane201710_slide3-S3_prep1_thumbnail_mask.png\" -crop 949x696+509+72 \"/shared/CSHL_data_processed/ChatCryoJane201710/ChatCryoJane201710_prep2_thumbnail_mask/ChatCryoJane201710_slide3-S3_prep2_thumbnail_mask.png\"\n",
      "convert \"/shared/CSHL_data_processed/ChatCryoJane201710/ChatCryoJane201710_prep1_thumbnail_mask/ChatCryoJane201710_slide4-S3_prep1_thumbnail_mask.png\" -crop 949x696+509+72 \"/shared/CSHL_data_processed/ChatCryoJane201710/ChatCryoJane201710_prep2_thumbnail_mask/ChatCryoJane201710_slide4-S3_prep2_thumbnail_mask.png\"\n",
      "convert \"/shared/CSHL_data_processed/ChatCryoJane201710/ChatCryoJane201710_prep1_thumbnail_mask/ChatCryoJane201710_slide5-S1_prep1_thumbnail_mask.png\" -crop 949x696+509+72 \"/shared/CSHL_data_processed/ChatCryoJane201710/ChatCryoJane201710_prep2_thumbnail_mask/ChatCryoJane201710_slide5-S1_prep2_thumbnail_mask.png\"\n",
      "convert \"/shared/CSHL_data_processed/ChatCryoJane201710/ChatCryoJane201710_prep1_thumbnail_mask/ChatCryoJane201710_slide6-S1_prep1_thumbnail_mask.png\" -crop 949x696+509+72 \"/shared/CSHL_data_processed/ChatCryoJane201710/ChatCryoJane201710_prep2_thumbnail_mask/ChatCryoJane201710_slide6-S1_prep2_thumbnail_mask.png\"\n",
      "convert \"/shared/CSHL_data_processed/ChatCryoJane201710/ChatCryoJane201710_prep1_thumbnail_mask/ChatCryoJane201710_slide5-S2_prep1_thumbnail_mask.png\" -crop 949x696+509+72 \"/shared/CSHL_data_processed/ChatCryoJane201710/ChatCryoJane201710_prep2_thumbnail_mask/ChatCryoJane201710_slide5-S2_prep2_thumbnail_mask.png\"\n",
      "convert \"/shared/CSHL_data_processed/ChatCryoJane201710/ChatCryoJane201710_prep1_thumbnail_mask/ChatCryoJane201710_slide6-S2_prep1_thumbnail_mask.png\" -crop 949x696+509+72 \"/shared/CSHL_data_processed/ChatCryoJane201710/ChatCryoJane201710_prep2_thumbnail_mask/ChatCryoJane201710_slide6-S2_prep2_thumbnail_mask.png\"\n",
      "convert \"/shared/CSHL_data_processed/ChatCryoJane201710/ChatCryoJane201710_prep1_thumbnail_mask/ChatCryoJane201710_slide5-S3_prep1_thumbnail_mask.png\" -crop 949x696+509+72 \"/shared/CSHL_data_processed/ChatCryoJane201710/ChatCryoJane201710_prep2_thumbnail_mask/ChatCryoJane201710_slide5-S3_prep2_thumbnail_mask.png\"\n",
      "convert \"/shared/CSHL_data_processed/ChatCryoJane201710/ChatCryoJane201710_prep1_thumbnail_mask/ChatCryoJane201710_slide6-S3_prep1_thumbnail_mask.png\" -crop 949x696+509+72 \"/shared/CSHL_data_processed/ChatCryoJane201710/ChatCryoJane201710_prep2_thumbnail_mask/ChatCryoJane201710_slide6-S3_prep2_thumbnail_mask.png\"\n",
      "convert \"/shared/CSHL_data_processed/ChatCryoJane201710/ChatCryoJane201710_prep1_thumbnail_mask/ChatCryoJane201710_slide7-S1_prep1_thumbnail_mask.png\" -crop 949x696+509+72 \"/shared/CSHL_data_processed/ChatCryoJane201710/ChatCryoJane201710_prep2_thumbnail_mask/ChatCryoJane201710_slide7-S1_prep2_thumbnail_mask.png\"\n",
      "convert \"/shared/CSHL_data_processed/ChatCryoJane201710/ChatCryoJane201710_prep1_thumbnail_mask/ChatCryoJane201710_slide8-S1_prep1_thumbnail_mask.png\" -crop 949x696+509+72 \"/shared/CSHL_data_processed/ChatCryoJane201710/ChatCryoJane201710_prep2_thumbnail_mask/ChatCryoJane201710_slide8-S1_prep2_thumbnail_mask.png\"\n",
      "convert \"/shared/CSHL_data_processed/ChatCryoJane201710/ChatCryoJane201710_prep1_thumbnail_mask/ChatCryoJane201710_slide7-S2_prep1_thumbnail_mask.png\" -crop 949x696+509+72 \"/shared/CSHL_data_processed/ChatCryoJane201710/ChatCryoJane201710_prep2_thumbnail_mask/ChatCryoJane201710_slide7-S2_prep2_thumbnail_mask.png\"\n",
      "convert \"/shared/CSHL_data_processed/ChatCryoJane201710/ChatCryoJane201710_prep1_thumbnail_mask/ChatCryoJane201710_slide8-S2_prep1_thumbnail_mask.png\" -crop 949x696+509+72 \"/shared/CSHL_data_processed/ChatCryoJane201710/ChatCryoJane201710_prep2_thumbnail_mask/ChatCryoJane201710_slide8-S2_prep2_thumbnail_mask.png\"\n",
      "convert \"/shared/CSHL_data_processed/ChatCryoJane201710/ChatCryoJane201710_prep1_thumbnail_mask/ChatCryoJane201710_slide7-S3_prep1_thumbnail_mask.png\" -crop 949x696+509+72 \"/shared/CSHL_data_processed/ChatCryoJane201710/ChatCryoJane201710_prep2_thumbnail_mask/ChatCryoJane201710_slide7-S3_prep2_thumbnail_mask.png\"\n",
      "convert \"/shared/CSHL_data_processed/ChatCryoJane201710/ChatCryoJane201710_prep1_thumbnail_mask/ChatCryoJane201710_slide8-S3_prep1_thumbnail_mask.png\" -crop 949x696+509+72 \"/shared/CSHL_data_processed/ChatCryoJane201710/ChatCryoJane201710_prep2_thumbnail_mask/ChatCryoJane201710_slide8-S3_prep2_thumbnail_mask.png\"\n",
      "convert \"/shared/CSHL_data_processed/ChatCryoJane201710/ChatCryoJane201710_prep1_thumbnail_mask/ChatCryoJane201710_slide9-S1_prep1_thumbnail_mask.png\" -crop 949x696+509+72 \"/shared/CSHL_data_processed/ChatCryoJane201710/ChatCryoJane201710_prep2_thumbnail_mask/ChatCryoJane201710_slide9-S1_prep2_thumbnail_mask.png\"\n",
      "convert \"/shared/CSHL_data_processed/ChatCryoJane201710/ChatCryoJane201710_prep1_thumbnail_mask/ChatCryoJane201710_slide10-S1_prep1_thumbnail_mask.png\" -crop 949x696+509+72 \"/shared/CSHL_data_processed/ChatCryoJane201710/ChatCryoJane201710_prep2_thumbnail_mask/ChatCryoJane201710_slide10-S1_prep2_thumbnail_mask.png\"\n",
      "convert \"/shared/CSHL_data_processed/ChatCryoJane201710/ChatCryoJane201710_prep1_thumbnail_mask/ChatCryoJane201710_slide9-S2_prep1_thumbnail_mask.png\" -crop 949x696+509+72 \"/shared/CSHL_data_processed/ChatCryoJane201710/ChatCryoJane201710_prep2_thumbnail_mask/ChatCryoJane201710_slide9-S2_prep2_thumbnail_mask.png\"\n"
     ]
    },
    {
     "name": "stdout",
     "output_type": "stream",
     "text": [
      "convert \"/shared/CSHL_data_processed/ChatCryoJane201710/ChatCryoJane201710_prep1_thumbnail_mask/ChatCryoJane201710_slide10-S2_prep1_thumbnail_mask.png\" -crop 949x696+509+72 \"/shared/CSHL_data_processed/ChatCryoJane201710/ChatCryoJane201710_prep2_thumbnail_mask/ChatCryoJane201710_slide10-S2_prep2_thumbnail_mask.png\"\n",
      "convert \"/shared/CSHL_data_processed/ChatCryoJane201710/ChatCryoJane201710_prep1_thumbnail_mask/ChatCryoJane201710_slide9-S3_prep1_thumbnail_mask.png\" -crop 949x696+509+72 \"/shared/CSHL_data_processed/ChatCryoJane201710/ChatCryoJane201710_prep2_thumbnail_mask/ChatCryoJane201710_slide9-S3_prep2_thumbnail_mask.png\"\n",
      "convert \"/shared/CSHL_data_processed/ChatCryoJane201710/ChatCryoJane201710_prep1_thumbnail_mask/ChatCryoJane201710_slide10-S3_prep1_thumbnail_mask.png\" -crop 949x696+509+72 \"/shared/CSHL_data_processed/ChatCryoJane201710/ChatCryoJane201710_prep2_thumbnail_mask/ChatCryoJane201710_slide10-S3_prep2_thumbnail_mask.png\"\n",
      "convert \"/shared/CSHL_data_processed/ChatCryoJane201710/ChatCryoJane201710_prep1_thumbnail_mask/ChatCryoJane201710_slide11-S1_prep1_thumbnail_mask.png\" -crop 949x696+509+72 \"/shared/CSHL_data_processed/ChatCryoJane201710/ChatCryoJane201710_prep2_thumbnail_mask/ChatCryoJane201710_slide11-S1_prep2_thumbnail_mask.png\"\n",
      "convert \"/shared/CSHL_data_processed/ChatCryoJane201710/ChatCryoJane201710_prep1_thumbnail_mask/ChatCryoJane201710_slide12-S1_prep1_thumbnail_mask.png\" -crop 949x696+509+72 \"/shared/CSHL_data_processed/ChatCryoJane201710/ChatCryoJane201710_prep2_thumbnail_mask/ChatCryoJane201710_slide12-S1_prep2_thumbnail_mask.png\"\n",
      "convert \"/shared/CSHL_data_processed/ChatCryoJane201710/ChatCryoJane201710_prep1_thumbnail_mask/ChatCryoJane201710_slide11-S2_prep1_thumbnail_mask.png\" -crop 949x696+509+72 \"/shared/CSHL_data_processed/ChatCryoJane201710/ChatCryoJane201710_prep2_thumbnail_mask/ChatCryoJane201710_slide11-S2_prep2_thumbnail_mask.png\"\n",
      "convert \"/shared/CSHL_data_processed/ChatCryoJane201710/ChatCryoJane201710_prep1_thumbnail_mask/ChatCryoJane201710_slide12-S2_prep1_thumbnail_mask.png\" -crop 949x696+509+72 \"/shared/CSHL_data_processed/ChatCryoJane201710/ChatCryoJane201710_prep2_thumbnail_mask/ChatCryoJane201710_slide12-S2_prep2_thumbnail_mask.png\"\n",
      "convert \"/shared/CSHL_data_processed/ChatCryoJane201710/ChatCryoJane201710_prep1_thumbnail_mask/ChatCryoJane201710_slide11-S3_prep1_thumbnail_mask.png\" -crop 949x696+509+72 \"/shared/CSHL_data_processed/ChatCryoJane201710/ChatCryoJane201710_prep2_thumbnail_mask/ChatCryoJane201710_slide11-S3_prep2_thumbnail_mask.png\"\n",
      "convert \"/shared/CSHL_data_processed/ChatCryoJane201710/ChatCryoJane201710_prep1_thumbnail_mask/ChatCryoJane201710_slide12-S3_prep1_thumbnail_mask.png\" -crop 949x696+509+72 \"/shared/CSHL_data_processed/ChatCryoJane201710/ChatCryoJane201710_prep2_thumbnail_mask/ChatCryoJane201710_slide12-S3_prep2_thumbnail_mask.png\"\n",
      "convert \"/shared/CSHL_data_processed/ChatCryoJane201710/ChatCryoJane201710_prep1_thumbnail_mask/ChatCryoJane201710_slide13-S1_prep1_thumbnail_mask.png\" -crop 949x696+509+72 \"/shared/CSHL_data_processed/ChatCryoJane201710/ChatCryoJane201710_prep2_thumbnail_mask/ChatCryoJane201710_slide13-S1_prep2_thumbnail_mask.png\"\n",
      "convert \"/shared/CSHL_data_processed/ChatCryoJane201710/ChatCryoJane201710_prep1_thumbnail_mask/ChatCryoJane201710_slide14-S1_prep1_thumbnail_mask.png\" -crop 949x696+509+72 \"/shared/CSHL_data_processed/ChatCryoJane201710/ChatCryoJane201710_prep2_thumbnail_mask/ChatCryoJane201710_slide14-S1_prep2_thumbnail_mask.png\"\n",
      "convert \"/shared/CSHL_data_processed/ChatCryoJane201710/ChatCryoJane201710_prep1_thumbnail_mask/ChatCryoJane201710_slide13-S2_prep1_thumbnail_mask.png\" -crop 949x696+509+72 \"/shared/CSHL_data_processed/ChatCryoJane201710/ChatCryoJane201710_prep2_thumbnail_mask/ChatCryoJane201710_slide13-S2_prep2_thumbnail_mask.png\"\n",
      "convert \"/shared/CSHL_data_processed/ChatCryoJane201710/ChatCryoJane201710_prep1_thumbnail_mask/ChatCryoJane201710_slide14-S2_prep1_thumbnail_mask.png\" -crop 949x696+509+72 \"/shared/CSHL_data_processed/ChatCryoJane201710/ChatCryoJane201710_prep2_thumbnail_mask/ChatCryoJane201710_slide14-S2_prep2_thumbnail_mask.png\"\n",
      "convert \"/shared/CSHL_data_processed/ChatCryoJane201710/ChatCryoJane201710_prep1_thumbnail_mask/ChatCryoJane201710_slide13-S3_prep1_thumbnail_mask.png\" -crop 949x696+509+72 \"/shared/CSHL_data_processed/ChatCryoJane201710/ChatCryoJane201710_prep2_thumbnail_mask/ChatCryoJane201710_slide13-S3_prep2_thumbnail_mask.png\"\n",
      "convert \"/shared/CSHL_data_processed/ChatCryoJane201710/ChatCryoJane201710_prep1_thumbnail_mask/ChatCryoJane201710_slide14-S3_prep1_thumbnail_mask.png\" -crop 949x696+509+72 \"/shared/CSHL_data_processed/ChatCryoJane201710/ChatCryoJane201710_prep2_thumbnail_mask/ChatCryoJane201710_slide14-S3_prep2_thumbnail_mask.png\"\n",
      "convert \"/shared/CSHL_data_processed/ChatCryoJane201710/ChatCryoJane201710_prep1_thumbnail_mask/ChatCryoJane201710_slide15-S1_prep1_thumbnail_mask.png\" -crop 949x696+509+72 \"/shared/CSHL_data_processed/ChatCryoJane201710/ChatCryoJane201710_prep2_thumbnail_mask/ChatCryoJane201710_slide15-S1_prep2_thumbnail_mask.png\"\n",
      "convert \"/shared/CSHL_data_processed/ChatCryoJane201710/ChatCryoJane201710_prep1_thumbnail_mask/ChatCryoJane201710_slide16-S1_prep1_thumbnail_mask.png\" -crop 949x696+509+72 \"/shared/CSHL_data_processed/ChatCryoJane201710/ChatCryoJane201710_prep2_thumbnail_mask/ChatCryoJane201710_slide16-S1_prep2_thumbnail_mask.png\"\n",
      "convert \"/shared/CSHL_data_processed/ChatCryoJane201710/ChatCryoJane201710_prep1_thumbnail_mask/ChatCryoJane201710_slide15-S2_prep1_thumbnail_mask.png\" -crop 949x696+509+72 \"/shared/CSHL_data_processed/ChatCryoJane201710/ChatCryoJane201710_prep2_thumbnail_mask/ChatCryoJane201710_slide15-S2_prep2_thumbnail_mask.png\"\n",
      "convert \"/shared/CSHL_data_processed/ChatCryoJane201710/ChatCryoJane201710_prep1_thumbnail_mask/ChatCryoJane201710_slide16-S2_prep1_thumbnail_mask.png\" -crop 949x696+509+72 \"/shared/CSHL_data_processed/ChatCryoJane201710/ChatCryoJane201710_prep2_thumbnail_mask/ChatCryoJane201710_slide16-S2_prep2_thumbnail_mask.png\"\n",
      "convert \"/shared/CSHL_data_processed/ChatCryoJane201710/ChatCryoJane201710_prep1_thumbnail_mask/ChatCryoJane201710_slide15-S3_prep1_thumbnail_mask.png\" -crop 949x696+509+72 \"/shared/CSHL_data_processed/ChatCryoJane201710/ChatCryoJane201710_prep2_thumbnail_mask/ChatCryoJane201710_slide15-S3_prep2_thumbnail_mask.png\"\n",
      "convert \"/shared/CSHL_data_processed/ChatCryoJane201710/ChatCryoJane201710_prep1_thumbnail_mask/ChatCryoJane201710_slide16-S3_prep1_thumbnail_mask.png\" -crop 949x696+509+72 \"/shared/CSHL_data_processed/ChatCryoJane201710/ChatCryoJane201710_prep2_thumbnail_mask/ChatCryoJane201710_slide16-S3_prep2_thumbnail_mask.png\"\n",
      "convert \"/shared/CSHL_data_processed/ChatCryoJane201710/ChatCryoJane201710_prep1_thumbnail_mask/ChatCryoJane201710_slide17-S1_prep1_thumbnail_mask.png\" -crop 949x696+509+72 \"/shared/CSHL_data_processed/ChatCryoJane201710/ChatCryoJane201710_prep2_thumbnail_mask/ChatCryoJane201710_slide17-S1_prep2_thumbnail_mask.png\"\n",
      "convert \"/shared/CSHL_data_processed/ChatCryoJane201710/ChatCryoJane201710_prep1_thumbnail_mask/ChatCryoJane201710_slide18-S1_prep1_thumbnail_mask.png\" -crop 949x696+509+72 \"/shared/CSHL_data_processed/ChatCryoJane201710/ChatCryoJane201710_prep2_thumbnail_mask/ChatCryoJane201710_slide18-S1_prep2_thumbnail_mask.png\"\n",
      "convert \"/shared/CSHL_data_processed/ChatCryoJane201710/ChatCryoJane201710_prep1_thumbnail_mask/ChatCryoJane201710_slide17-S2_prep1_thumbnail_mask.png\" -crop 949x696+509+72 \"/shared/CSHL_data_processed/ChatCryoJane201710/ChatCryoJane201710_prep2_thumbnail_mask/ChatCryoJane201710_slide17-S2_prep2_thumbnail_mask.png\"\n",
      "convert \"/shared/CSHL_data_processed/ChatCryoJane201710/ChatCryoJane201710_prep1_thumbnail_mask/ChatCryoJane201710_slide18-S2_prep1_thumbnail_mask.png\" -crop 949x696+509+72 \"/shared/CSHL_data_processed/ChatCryoJane201710/ChatCryoJane201710_prep2_thumbnail_mask/ChatCryoJane201710_slide18-S2_prep2_thumbnail_mask.png\"\n",
      "convert \"/shared/CSHL_data_processed/ChatCryoJane201710/ChatCryoJane201710_prep1_thumbnail_mask/ChatCryoJane201710_slide17-S3_prep1_thumbnail_mask.png\" -crop 949x696+509+72 \"/shared/CSHL_data_processed/ChatCryoJane201710/ChatCryoJane201710_prep2_thumbnail_mask/ChatCryoJane201710_slide17-S3_prep2_thumbnail_mask.png\"\n",
      "convert \"/shared/CSHL_data_processed/ChatCryoJane201710/ChatCryoJane201710_prep1_thumbnail_mask/ChatCryoJane201710_slide18-S3_prep1_thumbnail_mask.png\" -crop 949x696+509+72 \"/shared/CSHL_data_processed/ChatCryoJane201710/ChatCryoJane201710_prep2_thumbnail_mask/ChatCryoJane201710_slide18-S3_prep2_thumbnail_mask.png\"\n"
     ]
    },
    {
     "name": "stdout",
     "output_type": "stream",
     "text": [
      "convert \"/shared/CSHL_data_processed/ChatCryoJane201710/ChatCryoJane201710_prep1_thumbnail_mask/ChatCryoJane201710_slide19-S1_prep1_thumbnail_mask.png\" -crop 949x696+509+72 \"/shared/CSHL_data_processed/ChatCryoJane201710/ChatCryoJane201710_prep2_thumbnail_mask/ChatCryoJane201710_slide19-S1_prep2_thumbnail_mask.png\"\n",
      "convert \"/shared/CSHL_data_processed/ChatCryoJane201710/ChatCryoJane201710_prep1_thumbnail_mask/ChatCryoJane201710_slide20-S1_prep1_thumbnail_mask.png\" -crop 949x696+509+72 \"/shared/CSHL_data_processed/ChatCryoJane201710/ChatCryoJane201710_prep2_thumbnail_mask/ChatCryoJane201710_slide20-S1_prep2_thumbnail_mask.png\"\n",
      "convert \"/shared/CSHL_data_processed/ChatCryoJane201710/ChatCryoJane201710_prep1_thumbnail_mask/ChatCryoJane201710_slide19-S2_prep1_thumbnail_mask.png\" -crop 949x696+509+72 \"/shared/CSHL_data_processed/ChatCryoJane201710/ChatCryoJane201710_prep2_thumbnail_mask/ChatCryoJane201710_slide19-S2_prep2_thumbnail_mask.png\"\n",
      "convert \"/shared/CSHL_data_processed/ChatCryoJane201710/ChatCryoJane201710_prep1_thumbnail_mask/ChatCryoJane201710_slide20-S2_prep1_thumbnail_mask.png\" -crop 949x696+509+72 \"/shared/CSHL_data_processed/ChatCryoJane201710/ChatCryoJane201710_prep2_thumbnail_mask/ChatCryoJane201710_slide20-S2_prep2_thumbnail_mask.png\"\n",
      "convert \"/shared/CSHL_data_processed/ChatCryoJane201710/ChatCryoJane201710_prep1_thumbnail_mask/ChatCryoJane201710_slide19-S3_prep1_thumbnail_mask.png\" -crop 949x696+509+72 \"/shared/CSHL_data_processed/ChatCryoJane201710/ChatCryoJane201710_prep2_thumbnail_mask/ChatCryoJane201710_slide19-S3_prep2_thumbnail_mask.png\"\n",
      "convert \"/shared/CSHL_data_processed/ChatCryoJane201710/ChatCryoJane201710_prep1_thumbnail_mask/ChatCryoJane201710_slide20-S3_prep1_thumbnail_mask.png\" -crop 949x696+509+72 \"/shared/CSHL_data_processed/ChatCryoJane201710/ChatCryoJane201710_prep2_thumbnail_mask/ChatCryoJane201710_slide20-S3_prep2_thumbnail_mask.png\"\n",
      "convert \"/shared/CSHL_data_processed/ChatCryoJane201710/ChatCryoJane201710_prep1_thumbnail_mask/ChatCryoJane201710_slide21-S1_prep1_thumbnail_mask.png\" -crop 949x696+509+72 \"/shared/CSHL_data_processed/ChatCryoJane201710/ChatCryoJane201710_prep2_thumbnail_mask/ChatCryoJane201710_slide21-S1_prep2_thumbnail_mask.png\"\n",
      "convert \"/shared/CSHL_data_processed/ChatCryoJane201710/ChatCryoJane201710_prep1_thumbnail_mask/ChatCryoJane201710_slide22-S1_prep1_thumbnail_mask.png\" -crop 949x696+509+72 \"/shared/CSHL_data_processed/ChatCryoJane201710/ChatCryoJane201710_prep2_thumbnail_mask/ChatCryoJane201710_slide22-S1_prep2_thumbnail_mask.png\"\n",
      "convert \"/shared/CSHL_data_processed/ChatCryoJane201710/ChatCryoJane201710_prep1_thumbnail_mask/ChatCryoJane201710_slide21-S2_prep1_thumbnail_mask.png\" -crop 949x696+509+72 \"/shared/CSHL_data_processed/ChatCryoJane201710/ChatCryoJane201710_prep2_thumbnail_mask/ChatCryoJane201710_slide21-S2_prep2_thumbnail_mask.png\"\n",
      "convert \"/shared/CSHL_data_processed/ChatCryoJane201710/ChatCryoJane201710_prep1_thumbnail_mask/ChatCryoJane201710_slide22-S2_prep1_thumbnail_mask.png\" -crop 949x696+509+72 \"/shared/CSHL_data_processed/ChatCryoJane201710/ChatCryoJane201710_prep2_thumbnail_mask/ChatCryoJane201710_slide22-S2_prep2_thumbnail_mask.png\"\n",
      "convert \"/shared/CSHL_data_processed/ChatCryoJane201710/ChatCryoJane201710_prep1_thumbnail_mask/ChatCryoJane201710_slide21-S3_prep1_thumbnail_mask.png\" -crop 949x696+509+72 \"/shared/CSHL_data_processed/ChatCryoJane201710/ChatCryoJane201710_prep2_thumbnail_mask/ChatCryoJane201710_slide21-S3_prep2_thumbnail_mask.png\"\n",
      "convert \"/shared/CSHL_data_processed/ChatCryoJane201710/ChatCryoJane201710_prep1_thumbnail_mask/ChatCryoJane201710_slide22-S3_prep1_thumbnail_mask.png\" -crop 949x696+509+72 \"/shared/CSHL_data_processed/ChatCryoJane201710/ChatCryoJane201710_prep2_thumbnail_mask/ChatCryoJane201710_slide22-S3_prep2_thumbnail_mask.png\"\n",
      "convert \"/shared/CSHL_data_processed/ChatCryoJane201710/ChatCryoJane201710_prep1_thumbnail_mask/ChatCryoJane201710_slide23-S1_prep1_thumbnail_mask.png\" -crop 949x696+509+72 \"/shared/CSHL_data_processed/ChatCryoJane201710/ChatCryoJane201710_prep2_thumbnail_mask/ChatCryoJane201710_slide23-S1_prep2_thumbnail_mask.png\"\n",
      "convert \"/shared/CSHL_data_processed/ChatCryoJane201710/ChatCryoJane201710_prep1_thumbnail_mask/ChatCryoJane201710_slide24-S1_prep1_thumbnail_mask.png\" -crop 949x696+509+72 \"/shared/CSHL_data_processed/ChatCryoJane201710/ChatCryoJane201710_prep2_thumbnail_mask/ChatCryoJane201710_slide24-S1_prep2_thumbnail_mask.png\"\n",
      "convert \"/shared/CSHL_data_processed/ChatCryoJane201710/ChatCryoJane201710_prep1_thumbnail_mask/ChatCryoJane201710_slide23-S2_prep1_thumbnail_mask.png\" -crop 949x696+509+72 \"/shared/CSHL_data_processed/ChatCryoJane201710/ChatCryoJane201710_prep2_thumbnail_mask/ChatCryoJane201710_slide23-S2_prep2_thumbnail_mask.png\"\n",
      "convert \"/shared/CSHL_data_processed/ChatCryoJane201710/ChatCryoJane201710_prep1_thumbnail_mask/ChatCryoJane201710_slide24-S2_prep1_thumbnail_mask.png\" -crop 949x696+509+72 \"/shared/CSHL_data_processed/ChatCryoJane201710/ChatCryoJane201710_prep2_thumbnail_mask/ChatCryoJane201710_slide24-S2_prep2_thumbnail_mask.png\"\n",
      "convert \"/shared/CSHL_data_processed/ChatCryoJane201710/ChatCryoJane201710_prep1_thumbnail_mask/ChatCryoJane201710_slide23-S3_prep1_thumbnail_mask.png\" -crop 949x696+509+72 \"/shared/CSHL_data_processed/ChatCryoJane201710/ChatCryoJane201710_prep2_thumbnail_mask/ChatCryoJane201710_slide23-S3_prep2_thumbnail_mask.png\"\n",
      "convert \"/shared/CSHL_data_processed/ChatCryoJane201710/ChatCryoJane201710_prep1_thumbnail_mask/ChatCryoJane201710_slide24-S3_prep1_thumbnail_mask.png\" -crop 949x696+509+72 \"/shared/CSHL_data_processed/ChatCryoJane201710/ChatCryoJane201710_prep2_thumbnail_mask/ChatCryoJane201710_slide24-S3_prep2_thumbnail_mask.png\"\n",
      "convert \"/shared/CSHL_data_processed/ChatCryoJane201710/ChatCryoJane201710_prep1_thumbnail_mask/ChatCryoJane201710_slide25-S1_prep1_thumbnail_mask.png\" -crop 949x696+509+72 \"/shared/CSHL_data_processed/ChatCryoJane201710/ChatCryoJane201710_prep2_thumbnail_mask/ChatCryoJane201710_slide25-S1_prep2_thumbnail_mask.png\"\n",
      "convert \"/shared/CSHL_data_processed/ChatCryoJane201710/ChatCryoJane201710_prep1_thumbnail_mask/ChatCryoJane201710_slide26-S1_prep1_thumbnail_mask.png\" -crop 949x696+509+72 \"/shared/CSHL_data_processed/ChatCryoJane201710/ChatCryoJane201710_prep2_thumbnail_mask/ChatCryoJane201710_slide26-S1_prep2_thumbnail_mask.png\"\n",
      "convert \"/shared/CSHL_data_processed/ChatCryoJane201710/ChatCryoJane201710_prep1_thumbnail_mask/ChatCryoJane201710_slide25-S2_prep1_thumbnail_mask.png\" -crop 949x696+509+72 \"/shared/CSHL_data_processed/ChatCryoJane201710/ChatCryoJane201710_prep2_thumbnail_mask/ChatCryoJane201710_slide25-S2_prep2_thumbnail_mask.png\"\n",
      "convert \"/shared/CSHL_data_processed/ChatCryoJane201710/ChatCryoJane201710_prep1_thumbnail_mask/ChatCryoJane201710_slide26-S2_prep1_thumbnail_mask.png\" -crop 949x696+509+72 \"/shared/CSHL_data_processed/ChatCryoJane201710/ChatCryoJane201710_prep2_thumbnail_mask/ChatCryoJane201710_slide26-S2_prep2_thumbnail_mask.png\"\n",
      "convert \"/shared/CSHL_data_processed/ChatCryoJane201710/ChatCryoJane201710_prep1_thumbnail_mask/ChatCryoJane201710_slide25-S3_prep1_thumbnail_mask.png\" -crop 949x696+509+72 \"/shared/CSHL_data_processed/ChatCryoJane201710/ChatCryoJane201710_prep2_thumbnail_mask/ChatCryoJane201710_slide25-S3_prep2_thumbnail_mask.png\"\n",
      "convert \"/shared/CSHL_data_processed/ChatCryoJane201710/ChatCryoJane201710_prep1_thumbnail_mask/ChatCryoJane201710_slide26-S3_prep1_thumbnail_mask.png\" -crop 949x696+509+72 \"/shared/CSHL_data_processed/ChatCryoJane201710/ChatCryoJane201710_prep2_thumbnail_mask/ChatCryoJane201710_slide26-S3_prep2_thumbnail_mask.png\"\n",
      "convert \"/shared/CSHL_data_processed/ChatCryoJane201710/ChatCryoJane201710_prep1_thumbnail_mask/ChatCryoJane201710_slide27-S1_prep1_thumbnail_mask.png\" -crop 949x696+509+72 \"/shared/CSHL_data_processed/ChatCryoJane201710/ChatCryoJane201710_prep2_thumbnail_mask/ChatCryoJane201710_slide27-S1_prep2_thumbnail_mask.png\"\n",
      "convert \"/shared/CSHL_data_processed/ChatCryoJane201710/ChatCryoJane201710_prep1_thumbnail_mask/ChatCryoJane201710_slide28-S1_prep1_thumbnail_mask.png\" -crop 949x696+509+72 \"/shared/CSHL_data_processed/ChatCryoJane201710/ChatCryoJane201710_prep2_thumbnail_mask/ChatCryoJane201710_slide28-S1_prep2_thumbnail_mask.png\"\n",
      "convert \"/shared/CSHL_data_processed/ChatCryoJane201710/ChatCryoJane201710_prep1_thumbnail_mask/ChatCryoJane201710_slide27-S2_prep1_thumbnail_mask.png\" -crop 949x696+509+72 \"/shared/CSHL_data_processed/ChatCryoJane201710/ChatCryoJane201710_prep2_thumbnail_mask/ChatCryoJane201710_slide27-S2_prep2_thumbnail_mask.png\"\n"
     ]
    },
    {
     "name": "stdout",
     "output_type": "stream",
     "text": [
      "convert \"/shared/CSHL_data_processed/ChatCryoJane201710/ChatCryoJane201710_prep1_thumbnail_mask/ChatCryoJane201710_slide28-S2_prep1_thumbnail_mask.png\" -crop 949x696+509+72 \"/shared/CSHL_data_processed/ChatCryoJane201710/ChatCryoJane201710_prep2_thumbnail_mask/ChatCryoJane201710_slide28-S2_prep2_thumbnail_mask.png\"\n",
      "convert \"/shared/CSHL_data_processed/ChatCryoJane201710/ChatCryoJane201710_prep1_thumbnail_mask/ChatCryoJane201710_slide27-S3_prep1_thumbnail_mask.png\" -crop 949x696+509+72 \"/shared/CSHL_data_processed/ChatCryoJane201710/ChatCryoJane201710_prep2_thumbnail_mask/ChatCryoJane201710_slide27-S3_prep2_thumbnail_mask.png\"\n",
      "convert \"/shared/CSHL_data_processed/ChatCryoJane201710/ChatCryoJane201710_prep1_thumbnail_mask/ChatCryoJane201710_slide28-S3_prep1_thumbnail_mask.png\" -crop 949x696+509+72 \"/shared/CSHL_data_processed/ChatCryoJane201710/ChatCryoJane201710_prep2_thumbnail_mask/ChatCryoJane201710_slide28-S3_prep2_thumbnail_mask.png\"\n",
      "convert \"/shared/CSHL_data_processed/ChatCryoJane201710/ChatCryoJane201710_prep1_thumbnail_mask/ChatCryoJane201710_slide29-S1_prep1_thumbnail_mask.png\" -crop 949x696+509+72 \"/shared/CSHL_data_processed/ChatCryoJane201710/ChatCryoJane201710_prep2_thumbnail_mask/ChatCryoJane201710_slide29-S1_prep2_thumbnail_mask.png\"\n",
      "convert \"/shared/CSHL_data_processed/ChatCryoJane201710/ChatCryoJane201710_prep1_thumbnail_mask/ChatCryoJane201710_slide30-S1_prep1_thumbnail_mask.png\" -crop 949x696+509+72 \"/shared/CSHL_data_processed/ChatCryoJane201710/ChatCryoJane201710_prep2_thumbnail_mask/ChatCryoJane201710_slide30-S1_prep2_thumbnail_mask.png\"\n",
      "convert \"/shared/CSHL_data_processed/ChatCryoJane201710/ChatCryoJane201710_prep1_thumbnail_mask/ChatCryoJane201710_slide29-S2_prep1_thumbnail_mask.png\" -crop 949x696+509+72 \"/shared/CSHL_data_processed/ChatCryoJane201710/ChatCryoJane201710_prep2_thumbnail_mask/ChatCryoJane201710_slide29-S2_prep2_thumbnail_mask.png\"\n",
      "convert \"/shared/CSHL_data_processed/ChatCryoJane201710/ChatCryoJane201710_prep1_thumbnail_mask/ChatCryoJane201710_slide30-S2_prep1_thumbnail_mask.png\" -crop 949x696+509+72 \"/shared/CSHL_data_processed/ChatCryoJane201710/ChatCryoJane201710_prep2_thumbnail_mask/ChatCryoJane201710_slide30-S2_prep2_thumbnail_mask.png\"\n",
      "convert \"/shared/CSHL_data_processed/ChatCryoJane201710/ChatCryoJane201710_prep1_thumbnail_mask/ChatCryoJane201710_slide29-S3_prep1_thumbnail_mask.png\" -crop 949x696+509+72 \"/shared/CSHL_data_processed/ChatCryoJane201710/ChatCryoJane201710_prep2_thumbnail_mask/ChatCryoJane201710_slide29-S3_prep2_thumbnail_mask.png\"\n",
      "convert \"/shared/CSHL_data_processed/ChatCryoJane201710/ChatCryoJane201710_prep1_thumbnail_mask/ChatCryoJane201710_slide30-S3_prep1_thumbnail_mask.png\" -crop 949x696+509+72 \"/shared/CSHL_data_processed/ChatCryoJane201710/ChatCryoJane201710_prep2_thumbnail_mask/ChatCryoJane201710_slide30-S3_prep2_thumbnail_mask.png\"\n",
      "convert \"/shared/CSHL_data_processed/ChatCryoJane201710/ChatCryoJane201710_prep1_thumbnail_mask/ChatCryoJane201710_slide31-S1_prep1_thumbnail_mask.png\" -crop 949x696+509+72 \"/shared/CSHL_data_processed/ChatCryoJane201710/ChatCryoJane201710_prep2_thumbnail_mask/ChatCryoJane201710_slide31-S1_prep2_thumbnail_mask.png\"\n",
      "convert \"/shared/CSHL_data_processed/ChatCryoJane201710/ChatCryoJane201710_prep1_thumbnail_mask/ChatCryoJane201710_slide32-S1_prep1_thumbnail_mask.png\" -crop 949x696+509+72 \"/shared/CSHL_data_processed/ChatCryoJane201710/ChatCryoJane201710_prep2_thumbnail_mask/ChatCryoJane201710_slide32-S1_prep2_thumbnail_mask.png\"\n",
      "convert \"/shared/CSHL_data_processed/ChatCryoJane201710/ChatCryoJane201710_prep1_thumbnail_mask/ChatCryoJane201710_slide31-S2_prep1_thumbnail_mask.png\" -crop 949x696+509+72 \"/shared/CSHL_data_processed/ChatCryoJane201710/ChatCryoJane201710_prep2_thumbnail_mask/ChatCryoJane201710_slide31-S2_prep2_thumbnail_mask.png\"\n",
      "convert \"/shared/CSHL_data_processed/ChatCryoJane201710/ChatCryoJane201710_prep1_thumbnail_mask/ChatCryoJane201710_slide32-S2_prep1_thumbnail_mask.png\" -crop 949x696+509+72 \"/shared/CSHL_data_processed/ChatCryoJane201710/ChatCryoJane201710_prep2_thumbnail_mask/ChatCryoJane201710_slide32-S2_prep2_thumbnail_mask.png\"\n",
      "convert \"/shared/CSHL_data_processed/ChatCryoJane201710/ChatCryoJane201710_prep1_thumbnail_mask/ChatCryoJane201710_slide31-S3_prep1_thumbnail_mask.png\" -crop 949x696+509+72 \"/shared/CSHL_data_processed/ChatCryoJane201710/ChatCryoJane201710_prep2_thumbnail_mask/ChatCryoJane201710_slide31-S3_prep2_thumbnail_mask.png\"\n",
      "convert \"/shared/CSHL_data_processed/ChatCryoJane201710/ChatCryoJane201710_prep1_thumbnail_mask/ChatCryoJane201710_slide32-S3_prep1_thumbnail_mask.png\" -crop 949x696+509+72 \"/shared/CSHL_data_processed/ChatCryoJane201710/ChatCryoJane201710_prep2_thumbnail_mask/ChatCryoJane201710_slide32-S3_prep2_thumbnail_mask.png\"\n",
      "convert \"/shared/CSHL_data_processed/ChatCryoJane201710/ChatCryoJane201710_prep1_thumbnail_mask/ChatCryoJane201710_slide33-S1_prep1_thumbnail_mask.png\" -crop 949x696+509+72 \"/shared/CSHL_data_processed/ChatCryoJane201710/ChatCryoJane201710_prep2_thumbnail_mask/ChatCryoJane201710_slide33-S1_prep2_thumbnail_mask.png\"\n",
      "convert \"/shared/CSHL_data_processed/ChatCryoJane201710/ChatCryoJane201710_prep1_thumbnail_mask/ChatCryoJane201710_slide34-S1_prep1_thumbnail_mask.png\" -crop 949x696+509+72 \"/shared/CSHL_data_processed/ChatCryoJane201710/ChatCryoJane201710_prep2_thumbnail_mask/ChatCryoJane201710_slide34-S1_prep2_thumbnail_mask.png\"\n",
      "convert \"/shared/CSHL_data_processed/ChatCryoJane201710/ChatCryoJane201710_prep1_thumbnail_mask/ChatCryoJane201710_slide33-S2_prep1_thumbnail_mask.png\" -crop 949x696+509+72 \"/shared/CSHL_data_processed/ChatCryoJane201710/ChatCryoJane201710_prep2_thumbnail_mask/ChatCryoJane201710_slide33-S2_prep2_thumbnail_mask.png\"\n",
      "convert \"/shared/CSHL_data_processed/ChatCryoJane201710/ChatCryoJane201710_prep1_thumbnail_mask/ChatCryoJane201710_slide34-S2_prep1_thumbnail_mask.png\" -crop 949x696+509+72 \"/shared/CSHL_data_processed/ChatCryoJane201710/ChatCryoJane201710_prep2_thumbnail_mask/ChatCryoJane201710_slide34-S2_prep2_thumbnail_mask.png\"\n",
      "convert \"/shared/CSHL_data_processed/ChatCryoJane201710/ChatCryoJane201710_prep1_thumbnail_mask/ChatCryoJane201710_slide33-S3_prep1_thumbnail_mask.png\" -crop 949x696+509+72 \"/shared/CSHL_data_processed/ChatCryoJane201710/ChatCryoJane201710_prep2_thumbnail_mask/ChatCryoJane201710_slide33-S3_prep2_thumbnail_mask.png\"\n",
      "convert \"/shared/CSHL_data_processed/ChatCryoJane201710/ChatCryoJane201710_prep1_thumbnail_mask/ChatCryoJane201710_slide34-S3_prep1_thumbnail_mask.png\" -crop 949x696+509+72 \"/shared/CSHL_data_processed/ChatCryoJane201710/ChatCryoJane201710_prep2_thumbnail_mask/ChatCryoJane201710_slide34-S3_prep2_thumbnail_mask.png\"\n",
      "convert \"/shared/CSHL_data_processed/ChatCryoJane201710/ChatCryoJane201710_prep1_thumbnail_mask/ChatCryoJane201710_slide35-S1_prep1_thumbnail_mask.png\" -crop 949x696+509+72 \"/shared/CSHL_data_processed/ChatCryoJane201710/ChatCryoJane201710_prep2_thumbnail_mask/ChatCryoJane201710_slide35-S1_prep2_thumbnail_mask.png\"\n",
      "convert \"/shared/CSHL_data_processed/ChatCryoJane201710/ChatCryoJane201710_prep1_thumbnail_mask/ChatCryoJane201710_slide36-S1_prep1_thumbnail_mask.png\" -crop 949x696+509+72 \"/shared/CSHL_data_processed/ChatCryoJane201710/ChatCryoJane201710_prep2_thumbnail_mask/ChatCryoJane201710_slide36-S1_prep2_thumbnail_mask.png\"\n",
      "convert \"/shared/CSHL_data_processed/ChatCryoJane201710/ChatCryoJane201710_prep1_thumbnail_mask/ChatCryoJane201710_slide35-S2_prep1_thumbnail_mask.png\" -crop 949x696+509+72 \"/shared/CSHL_data_processed/ChatCryoJane201710/ChatCryoJane201710_prep2_thumbnail_mask/ChatCryoJane201710_slide35-S2_prep2_thumbnail_mask.png\"\n",
      "convert \"/shared/CSHL_data_processed/ChatCryoJane201710/ChatCryoJane201710_prep1_thumbnail_mask/ChatCryoJane201710_slide36-S2_prep1_thumbnail_mask.png\" -crop 949x696+509+72 \"/shared/CSHL_data_processed/ChatCryoJane201710/ChatCryoJane201710_prep2_thumbnail_mask/ChatCryoJane201710_slide36-S2_prep2_thumbnail_mask.png\"\n",
      "convert \"/shared/CSHL_data_processed/ChatCryoJane201710/ChatCryoJane201710_prep1_thumbnail_mask/ChatCryoJane201710_slide35-S3_prep1_thumbnail_mask.png\" -crop 949x696+509+72 \"/shared/CSHL_data_processed/ChatCryoJane201710/ChatCryoJane201710_prep2_thumbnail_mask/ChatCryoJane201710_slide35-S3_prep2_thumbnail_mask.png\"\n",
      "convert \"/shared/CSHL_data_processed/ChatCryoJane201710/ChatCryoJane201710_prep1_thumbnail_mask/ChatCryoJane201710_slide36-S3_prep1_thumbnail_mask.png\" -crop 949x696+509+72 \"/shared/CSHL_data_processed/ChatCryoJane201710/ChatCryoJane201710_prep2_thumbnail_mask/ChatCryoJane201710_slide36-S3_prep2_thumbnail_mask.png\"\n"
     ]
    },
    {
     "name": "stdout",
     "output_type": "stream",
     "text": [
      "convert \"/shared/CSHL_data_processed/ChatCryoJane201710/ChatCryoJane201710_prep1_thumbnail_mask/ChatCryoJane201710_slide37-S1_prep1_thumbnail_mask.png\" -crop 949x696+509+72 \"/shared/CSHL_data_processed/ChatCryoJane201710/ChatCryoJane201710_prep2_thumbnail_mask/ChatCryoJane201710_slide37-S1_prep2_thumbnail_mask.png\"\n",
      "convert \"/shared/CSHL_data_processed/ChatCryoJane201710/ChatCryoJane201710_prep1_thumbnail_mask/ChatCryoJane201710_slide38-S1_prep1_thumbnail_mask.png\" -crop 949x696+509+72 \"/shared/CSHL_data_processed/ChatCryoJane201710/ChatCryoJane201710_prep2_thumbnail_mask/ChatCryoJane201710_slide38-S1_prep2_thumbnail_mask.png\"\n",
      "convert \"/shared/CSHL_data_processed/ChatCryoJane201710/ChatCryoJane201710_prep1_thumbnail_mask/ChatCryoJane201710_slide37-S2_prep1_thumbnail_mask.png\" -crop 949x696+509+72 \"/shared/CSHL_data_processed/ChatCryoJane201710/ChatCryoJane201710_prep2_thumbnail_mask/ChatCryoJane201710_slide37-S2_prep2_thumbnail_mask.png\"\n",
      "convert \"/shared/CSHL_data_processed/ChatCryoJane201710/ChatCryoJane201710_prep1_thumbnail_mask/ChatCryoJane201710_slide38-S2_prep1_thumbnail_mask.png\" -crop 949x696+509+72 \"/shared/CSHL_data_processed/ChatCryoJane201710/ChatCryoJane201710_prep2_thumbnail_mask/ChatCryoJane201710_slide38-S2_prep2_thumbnail_mask.png\"\n",
      "convert \"/shared/CSHL_data_processed/ChatCryoJane201710/ChatCryoJane201710_prep1_thumbnail_mask/ChatCryoJane201710_slide37-S3_prep1_thumbnail_mask.png\" -crop 949x696+509+72 \"/shared/CSHL_data_processed/ChatCryoJane201710/ChatCryoJane201710_prep2_thumbnail_mask/ChatCryoJane201710_slide37-S3_prep2_thumbnail_mask.png\"\n",
      "convert \"/shared/CSHL_data_processed/ChatCryoJane201710/ChatCryoJane201710_prep1_thumbnail_mask/ChatCryoJane201710_slide38-S3_prep1_thumbnail_mask.png\" -crop 949x696+509+72 \"/shared/CSHL_data_processed/ChatCryoJane201710/ChatCryoJane201710_prep2_thumbnail_mask/ChatCryoJane201710_slide38-S3_prep2_thumbnail_mask.png\"\n",
      "convert \"/shared/CSHL_data_processed/ChatCryoJane201710/ChatCryoJane201710_prep1_thumbnail_mask/ChatCryoJane201710_slide39-S1_prep1_thumbnail_mask.png\" -crop 949x696+509+72 \"/shared/CSHL_data_processed/ChatCryoJane201710/ChatCryoJane201710_prep2_thumbnail_mask/ChatCryoJane201710_slide39-S1_prep2_thumbnail_mask.png\"\n",
      "convert \"/shared/CSHL_data_processed/ChatCryoJane201710/ChatCryoJane201710_prep1_thumbnail_mask/ChatCryoJane201710_slide40-S1_prep1_thumbnail_mask.png\" -crop 949x696+509+72 \"/shared/CSHL_data_processed/ChatCryoJane201710/ChatCryoJane201710_prep2_thumbnail_mask/ChatCryoJane201710_slide40-S1_prep2_thumbnail_mask.png\"\n",
      "convert \"/shared/CSHL_data_processed/ChatCryoJane201710/ChatCryoJane201710_prep1_thumbnail_mask/ChatCryoJane201710_slide39-S2_prep1_thumbnail_mask.png\" -crop 949x696+509+72 \"/shared/CSHL_data_processed/ChatCryoJane201710/ChatCryoJane201710_prep2_thumbnail_mask/ChatCryoJane201710_slide39-S2_prep2_thumbnail_mask.png\"\n",
      "convert \"/shared/CSHL_data_processed/ChatCryoJane201710/ChatCryoJane201710_prep1_thumbnail_mask/ChatCryoJane201710_slide40-S2_prep1_thumbnail_mask.png\" -crop 949x696+509+72 \"/shared/CSHL_data_processed/ChatCryoJane201710/ChatCryoJane201710_prep2_thumbnail_mask/ChatCryoJane201710_slide40-S2_prep2_thumbnail_mask.png\"\n",
      "convert \"/shared/CSHL_data_processed/ChatCryoJane201710/ChatCryoJane201710_prep1_thumbnail_mask/ChatCryoJane201710_slide39-S3_prep1_thumbnail_mask.png\" -crop 949x696+509+72 \"/shared/CSHL_data_processed/ChatCryoJane201710/ChatCryoJane201710_prep2_thumbnail_mask/ChatCryoJane201710_slide39-S3_prep2_thumbnail_mask.png\"\n",
      "convert \"/shared/CSHL_data_processed/ChatCryoJane201710/ChatCryoJane201710_prep1_thumbnail_mask/ChatCryoJane201710_slide40-S3_prep1_thumbnail_mask.png\" -crop 949x696+509+72 \"/shared/CSHL_data_processed/ChatCryoJane201710/ChatCryoJane201710_prep2_thumbnail_mask/ChatCryoJane201710_slide40-S3_prep2_thumbnail_mask.png\"\n",
      "convert \"/shared/CSHL_data_processed/ChatCryoJane201710/ChatCryoJane201710_prep1_thumbnail_mask/ChatCryoJane201710_slide41-S1_prep1_thumbnail_mask.png\" -crop 949x696+509+72 \"/shared/CSHL_data_processed/ChatCryoJane201710/ChatCryoJane201710_prep2_thumbnail_mask/ChatCryoJane201710_slide41-S1_prep2_thumbnail_mask.png\"\n",
      "convert \"/shared/CSHL_data_processed/ChatCryoJane201710/ChatCryoJane201710_prep1_thumbnail_mask/ChatCryoJane201710_slide42-S1_prep1_thumbnail_mask.png\" -crop 949x696+509+72 \"/shared/CSHL_data_processed/ChatCryoJane201710/ChatCryoJane201710_prep2_thumbnail_mask/ChatCryoJane201710_slide42-S1_prep2_thumbnail_mask.png\"\n",
      "convert \"/shared/CSHL_data_processed/ChatCryoJane201710/ChatCryoJane201710_prep1_thumbnail_mask/ChatCryoJane201710_slide41-S2_prep1_thumbnail_mask.png\" -crop 949x696+509+72 \"/shared/CSHL_data_processed/ChatCryoJane201710/ChatCryoJane201710_prep2_thumbnail_mask/ChatCryoJane201710_slide41-S2_prep2_thumbnail_mask.png\"\n",
      "convert \"/shared/CSHL_data_processed/ChatCryoJane201710/ChatCryoJane201710_prep1_thumbnail_mask/ChatCryoJane201710_slide42-S2_prep1_thumbnail_mask.png\" -crop 949x696+509+72 \"/shared/CSHL_data_processed/ChatCryoJane201710/ChatCryoJane201710_prep2_thumbnail_mask/ChatCryoJane201710_slide42-S2_prep2_thumbnail_mask.png\"\n",
      "convert \"/shared/CSHL_data_processed/ChatCryoJane201710/ChatCryoJane201710_prep1_thumbnail_mask/ChatCryoJane201710_slide41-S3_prep1_thumbnail_mask.png\" -crop 949x696+509+72 \"/shared/CSHL_data_processed/ChatCryoJane201710/ChatCryoJane201710_prep2_thumbnail_mask/ChatCryoJane201710_slide41-S3_prep2_thumbnail_mask.png\"\n",
      "convert \"/shared/CSHL_data_processed/ChatCryoJane201710/ChatCryoJane201710_prep1_thumbnail_mask/ChatCryoJane201710_slide42-S3_prep1_thumbnail_mask.png\" -crop 949x696+509+72 \"/shared/CSHL_data_processed/ChatCryoJane201710/ChatCryoJane201710_prep2_thumbnail_mask/ChatCryoJane201710_slide42-S3_prep2_thumbnail_mask.png\"\n",
      "convert \"/shared/CSHL_data_processed/ChatCryoJane201710/ChatCryoJane201710_prep1_thumbnail_mask/ChatCryoJane201710_slide43-S1_prep1_thumbnail_mask.png\" -crop 949x696+509+72 \"/shared/CSHL_data_processed/ChatCryoJane201710/ChatCryoJane201710_prep2_thumbnail_mask/ChatCryoJane201710_slide43-S1_prep2_thumbnail_mask.png\"\n",
      "convert \"/shared/CSHL_data_processed/ChatCryoJane201710/ChatCryoJane201710_prep1_thumbnail_mask/ChatCryoJane201710_slide44-S1_prep1_thumbnail_mask.png\" -crop 949x696+509+72 \"/shared/CSHL_data_processed/ChatCryoJane201710/ChatCryoJane201710_prep2_thumbnail_mask/ChatCryoJane201710_slide44-S1_prep2_thumbnail_mask.png\"\n",
      "convert \"/shared/CSHL_data_processed/ChatCryoJane201710/ChatCryoJane201710_prep1_thumbnail_mask/ChatCryoJane201710_slide43-S2_prep1_thumbnail_mask.png\" -crop 949x696+509+72 \"/shared/CSHL_data_processed/ChatCryoJane201710/ChatCryoJane201710_prep2_thumbnail_mask/ChatCryoJane201710_slide43-S2_prep2_thumbnail_mask.png\"\n",
      "convert \"/shared/CSHL_data_processed/ChatCryoJane201710/ChatCryoJane201710_prep1_thumbnail_mask/ChatCryoJane201710_slide44-S2_prep1_thumbnail_mask.png\" -crop 949x696+509+72 \"/shared/CSHL_data_processed/ChatCryoJane201710/ChatCryoJane201710_prep2_thumbnail_mask/ChatCryoJane201710_slide44-S2_prep2_thumbnail_mask.png\"\n",
      "convert \"/shared/CSHL_data_processed/ChatCryoJane201710/ChatCryoJane201710_prep1_thumbnail_mask/ChatCryoJane201710_slide43-S3_prep1_thumbnail_mask.png\" -crop 949x696+509+72 \"/shared/CSHL_data_processed/ChatCryoJane201710/ChatCryoJane201710_prep2_thumbnail_mask/ChatCryoJane201710_slide43-S3_prep2_thumbnail_mask.png\"\n",
      "convert \"/shared/CSHL_data_processed/ChatCryoJane201710/ChatCryoJane201710_prep1_thumbnail_mask/ChatCryoJane201710_slide44-S3_prep1_thumbnail_mask.png\" -crop 949x696+509+72 \"/shared/CSHL_data_processed/ChatCryoJane201710/ChatCryoJane201710_prep2_thumbnail_mask/ChatCryoJane201710_slide44-S3_prep2_thumbnail_mask.png\"\n",
      "convert \"/shared/CSHL_data_processed/ChatCryoJane201710/ChatCryoJane201710_prep1_thumbnail_mask/ChatCryoJane201710_slide45-S1_prep1_thumbnail_mask.png\" -crop 949x696+509+72 \"/shared/CSHL_data_processed/ChatCryoJane201710/ChatCryoJane201710_prep2_thumbnail_mask/ChatCryoJane201710_slide45-S1_prep2_thumbnail_mask.png\"\n",
      "convert \"/shared/CSHL_data_processed/ChatCryoJane201710/ChatCryoJane201710_prep1_thumbnail_mask/ChatCryoJane201710_slide46-S1_prep1_thumbnail_mask.png\" -crop 949x696+509+72 \"/shared/CSHL_data_processed/ChatCryoJane201710/ChatCryoJane201710_prep2_thumbnail_mask/ChatCryoJane201710_slide46-S1_prep2_thumbnail_mask.png\"\n",
      "convert \"/shared/CSHL_data_processed/ChatCryoJane201710/ChatCryoJane201710_prep1_thumbnail_mask/ChatCryoJane201710_slide45-S2_prep1_thumbnail_mask.png\" -crop 949x696+509+72 \"/shared/CSHL_data_processed/ChatCryoJane201710/ChatCryoJane201710_prep2_thumbnail_mask/ChatCryoJane201710_slide45-S2_prep2_thumbnail_mask.png\"\n"
     ]
    },
    {
     "name": "stdout",
     "output_type": "stream",
     "text": [
      "convert \"/shared/CSHL_data_processed/ChatCryoJane201710/ChatCryoJane201710_prep1_thumbnail_mask/ChatCryoJane201710_slide46-S2_prep1_thumbnail_mask.png\" -crop 949x696+509+72 \"/shared/CSHL_data_processed/ChatCryoJane201710/ChatCryoJane201710_prep2_thumbnail_mask/ChatCryoJane201710_slide46-S2_prep2_thumbnail_mask.png\"\n",
      "convert \"/shared/CSHL_data_processed/ChatCryoJane201710/ChatCryoJane201710_prep1_thumbnail_mask/ChatCryoJane201710_slide45-S3_prep1_thumbnail_mask.png\" -crop 949x696+509+72 \"/shared/CSHL_data_processed/ChatCryoJane201710/ChatCryoJane201710_prep2_thumbnail_mask/ChatCryoJane201710_slide45-S3_prep2_thumbnail_mask.png\"\n",
      "convert \"/shared/CSHL_data_processed/ChatCryoJane201710/ChatCryoJane201710_prep1_thumbnail_mask/ChatCryoJane201710_slide46-S3_prep1_thumbnail_mask.png\" -crop 949x696+509+72 \"/shared/CSHL_data_processed/ChatCryoJane201710/ChatCryoJane201710_prep2_thumbnail_mask/ChatCryoJane201710_slide46-S3_prep2_thumbnail_mask.png\"\n",
      "convert \"/shared/CSHL_data_processed/ChatCryoJane201710/ChatCryoJane201710_prep1_thumbnail_mask/ChatCryoJane201710_slide47-S1_prep1_thumbnail_mask.png\" -crop 949x696+509+72 \"/shared/CSHL_data_processed/ChatCryoJane201710/ChatCryoJane201710_prep2_thumbnail_mask/ChatCryoJane201710_slide47-S1_prep2_thumbnail_mask.png\"\n",
      "convert \"/shared/CSHL_data_processed/ChatCryoJane201710/ChatCryoJane201710_prep1_thumbnail_mask/ChatCryoJane201710_slide48-S1_prep1_thumbnail_mask.png\" -crop 949x696+509+72 \"/shared/CSHL_data_processed/ChatCryoJane201710/ChatCryoJane201710_prep2_thumbnail_mask/ChatCryoJane201710_slide48-S1_prep2_thumbnail_mask.png\"\n",
      "convert \"/shared/CSHL_data_processed/ChatCryoJane201710/ChatCryoJane201710_prep1_thumbnail_mask/ChatCryoJane201710_slide47-S2_prep1_thumbnail_mask.png\" -crop 949x696+509+72 \"/shared/CSHL_data_processed/ChatCryoJane201710/ChatCryoJane201710_prep2_thumbnail_mask/ChatCryoJane201710_slide47-S2_prep2_thumbnail_mask.png\"\n",
      "convert \"/shared/CSHL_data_processed/ChatCryoJane201710/ChatCryoJane201710_prep1_thumbnail_mask/ChatCryoJane201710_slide48-S2_prep1_thumbnail_mask.png\" -crop 949x696+509+72 \"/shared/CSHL_data_processed/ChatCryoJane201710/ChatCryoJane201710_prep2_thumbnail_mask/ChatCryoJane201710_slide48-S2_prep2_thumbnail_mask.png\"\n",
      "convert \"/shared/CSHL_data_processed/ChatCryoJane201710/ChatCryoJane201710_prep1_thumbnail_mask/ChatCryoJane201710_slide47-S3_prep1_thumbnail_mask.png\" -crop 949x696+509+72 \"/shared/CSHL_data_processed/ChatCryoJane201710/ChatCryoJane201710_prep2_thumbnail_mask/ChatCryoJane201710_slide47-S3_prep2_thumbnail_mask.png\"\n",
      "convert \"/shared/CSHL_data_processed/ChatCryoJane201710/ChatCryoJane201710_prep1_thumbnail_mask/ChatCryoJane201710_slide48-S3_prep1_thumbnail_mask.png\" -crop 949x696+509+72 \"/shared/CSHL_data_processed/ChatCryoJane201710/ChatCryoJane201710_prep2_thumbnail_mask/ChatCryoJane201710_slide48-S3_prep2_thumbnail_mask.png\"\n",
      "convert \"/shared/CSHL_data_processed/ChatCryoJane201710/ChatCryoJane201710_prep1_thumbnail_mask/ChatCryoJane201710_slide49-S1_prep1_thumbnail_mask.png\" -crop 949x696+509+72 \"/shared/CSHL_data_processed/ChatCryoJane201710/ChatCryoJane201710_prep2_thumbnail_mask/ChatCryoJane201710_slide49-S1_prep2_thumbnail_mask.png\"\n",
      "convert \"/shared/CSHL_data_processed/ChatCryoJane201710/ChatCryoJane201710_prep1_thumbnail_mask/ChatCryoJane201710_slide50-S1_prep1_thumbnail_mask.png\" -crop 949x696+509+72 \"/shared/CSHL_data_processed/ChatCryoJane201710/ChatCryoJane201710_prep2_thumbnail_mask/ChatCryoJane201710_slide50-S1_prep2_thumbnail_mask.png\"\n",
      "convert \"/shared/CSHL_data_processed/ChatCryoJane201710/ChatCryoJane201710_prep1_thumbnail_mask/ChatCryoJane201710_slide49-S2_prep1_thumbnail_mask.png\" -crop 949x696+509+72 \"/shared/CSHL_data_processed/ChatCryoJane201710/ChatCryoJane201710_prep2_thumbnail_mask/ChatCryoJane201710_slide49-S2_prep2_thumbnail_mask.png\"\n",
      "convert \"/shared/CSHL_data_processed/ChatCryoJane201710/ChatCryoJane201710_prep1_thumbnail_mask/ChatCryoJane201710_slide50-S2_prep1_thumbnail_mask.png\" -crop 949x696+509+72 \"/shared/CSHL_data_processed/ChatCryoJane201710/ChatCryoJane201710_prep2_thumbnail_mask/ChatCryoJane201710_slide50-S2_prep2_thumbnail_mask.png\"\n",
      "convert \"/shared/CSHL_data_processed/ChatCryoJane201710/ChatCryoJane201710_prep1_thumbnail_mask/ChatCryoJane201710_slide49-S3_prep1_thumbnail_mask.png\" -crop 949x696+509+72 \"/shared/CSHL_data_processed/ChatCryoJane201710/ChatCryoJane201710_prep2_thumbnail_mask/ChatCryoJane201710_slide49-S3_prep2_thumbnail_mask.png\"\n",
      "convert \"/shared/CSHL_data_processed/ChatCryoJane201710/ChatCryoJane201710_prep1_thumbnail_mask/ChatCryoJane201710_slide50-S3_prep1_thumbnail_mask.png\" -crop 949x696+509+72 \"/shared/CSHL_data_processed/ChatCryoJane201710/ChatCryoJane201710_prep2_thumbnail_mask/ChatCryoJane201710_slide50-S3_prep2_thumbnail_mask.png\"\n",
      "convert \"/shared/CSHL_data_processed/ChatCryoJane201710/ChatCryoJane201710_prep1_thumbnail_mask/ChatCryoJane201710_slide51-S1_prep1_thumbnail_mask.png\" -crop 949x696+509+72 \"/shared/CSHL_data_processed/ChatCryoJane201710/ChatCryoJane201710_prep2_thumbnail_mask/ChatCryoJane201710_slide51-S1_prep2_thumbnail_mask.png\"\n",
      "convert \"/shared/CSHL_data_processed/ChatCryoJane201710/ChatCryoJane201710_prep1_thumbnail_mask/ChatCryoJane201710_slide52-S1_prep1_thumbnail_mask.png\" -crop 949x696+509+72 \"/shared/CSHL_data_processed/ChatCryoJane201710/ChatCryoJane201710_prep2_thumbnail_mask/ChatCryoJane201710_slide52-S1_prep2_thumbnail_mask.png\"\n",
      "convert \"/shared/CSHL_data_processed/ChatCryoJane201710/ChatCryoJane201710_prep1_thumbnail_mask/ChatCryoJane201710_slide51-S2_prep1_thumbnail_mask.png\" -crop 949x696+509+72 \"/shared/CSHL_data_processed/ChatCryoJane201710/ChatCryoJane201710_prep2_thumbnail_mask/ChatCryoJane201710_slide51-S2_prep2_thumbnail_mask.png\"\n",
      "convert \"/shared/CSHL_data_processed/ChatCryoJane201710/ChatCryoJane201710_prep1_thumbnail_mask/ChatCryoJane201710_slide52-S2_prep1_thumbnail_mask.png\" -crop 949x696+509+72 \"/shared/CSHL_data_processed/ChatCryoJane201710/ChatCryoJane201710_prep2_thumbnail_mask/ChatCryoJane201710_slide52-S2_prep2_thumbnail_mask.png\"\n",
      "convert \"/shared/CSHL_data_processed/ChatCryoJane201710/ChatCryoJane201710_prep1_thumbnail_mask/ChatCryoJane201710_slide51-S3_prep1_thumbnail_mask.png\" -crop 949x696+509+72 \"/shared/CSHL_data_processed/ChatCryoJane201710/ChatCryoJane201710_prep2_thumbnail_mask/ChatCryoJane201710_slide51-S3_prep2_thumbnail_mask.png\"\n",
      "convert \"/shared/CSHL_data_processed/ChatCryoJane201710/ChatCryoJane201710_prep1_thumbnail_mask/ChatCryoJane201710_slide52-S3_prep1_thumbnail_mask.png\" -crop 949x696+509+72 \"/shared/CSHL_data_processed/ChatCryoJane201710/ChatCryoJane201710_prep2_thumbnail_mask/ChatCryoJane201710_slide52-S3_prep2_thumbnail_mask.png\"\n",
      "convert \"/shared/CSHL_data_processed/ChatCryoJane201710/ChatCryoJane201710_prep1_thumbnail_mask/ChatCryoJane201710_slide53-S1_prep1_thumbnail_mask.png\" -crop 949x696+509+72 \"/shared/CSHL_data_processed/ChatCryoJane201710/ChatCryoJane201710_prep2_thumbnail_mask/ChatCryoJane201710_slide53-S1_prep2_thumbnail_mask.png\"\n",
      "convert \"/shared/CSHL_data_processed/ChatCryoJane201710/ChatCryoJane201710_prep1_thumbnail_mask/ChatCryoJane201710_slide54-S1_prep1_thumbnail_mask.png\" -crop 949x696+509+72 \"/shared/CSHL_data_processed/ChatCryoJane201710/ChatCryoJane201710_prep2_thumbnail_mask/ChatCryoJane201710_slide54-S1_prep2_thumbnail_mask.png\"\n",
      "convert \"/shared/CSHL_data_processed/ChatCryoJane201710/ChatCryoJane201710_prep1_thumbnail_mask/ChatCryoJane201710_slide53-S2_prep1_thumbnail_mask.png\" -crop 949x696+509+72 \"/shared/CSHL_data_processed/ChatCryoJane201710/ChatCryoJane201710_prep2_thumbnail_mask/ChatCryoJane201710_slide53-S2_prep2_thumbnail_mask.png\"\n",
      "convert \"/shared/CSHL_data_processed/ChatCryoJane201710/ChatCryoJane201710_prep1_thumbnail_mask/ChatCryoJane201710_slide54-S2_prep1_thumbnail_mask.png\" -crop 949x696+509+72 \"/shared/CSHL_data_processed/ChatCryoJane201710/ChatCryoJane201710_prep2_thumbnail_mask/ChatCryoJane201710_slide54-S2_prep2_thumbnail_mask.png\"\n",
      "convert \"/shared/CSHL_data_processed/ChatCryoJane201710/ChatCryoJane201710_prep1_thumbnail_mask/ChatCryoJane201710_slide53-S3_prep1_thumbnail_mask.png\" -crop 949x696+509+72 \"/shared/CSHL_data_processed/ChatCryoJane201710/ChatCryoJane201710_prep2_thumbnail_mask/ChatCryoJane201710_slide53-S3_prep2_thumbnail_mask.png\"\n",
      "convert \"/shared/CSHL_data_processed/ChatCryoJane201710/ChatCryoJane201710_prep1_thumbnail_mask/ChatCryoJane201710_slide54-S3_prep1_thumbnail_mask.png\" -crop 949x696+509+72 \"/shared/CSHL_data_processed/ChatCryoJane201710/ChatCryoJane201710_prep2_thumbnail_mask/ChatCryoJane201710_slide54-S3_prep2_thumbnail_mask.png\"\n"
     ]
    },
    {
     "name": "stdout",
     "output_type": "stream",
     "text": [
      "convert \"/shared/CSHL_data_processed/ChatCryoJane201710/ChatCryoJane201710_prep1_thumbnail_mask/ChatCryoJane201710_slide55-S1_prep1_thumbnail_mask.png\" -crop 949x696+509+72 \"/shared/CSHL_data_processed/ChatCryoJane201710/ChatCryoJane201710_prep2_thumbnail_mask/ChatCryoJane201710_slide55-S1_prep2_thumbnail_mask.png\"\n",
      "convert \"/shared/CSHL_data_processed/ChatCryoJane201710/ChatCryoJane201710_prep1_thumbnail_mask/ChatCryoJane201710_slide56-S1_prep1_thumbnail_mask.png\" -crop 949x696+509+72 \"/shared/CSHL_data_processed/ChatCryoJane201710/ChatCryoJane201710_prep2_thumbnail_mask/ChatCryoJane201710_slide56-S1_prep2_thumbnail_mask.png\"\n",
      "convert \"/shared/CSHL_data_processed/ChatCryoJane201710/ChatCryoJane201710_prep1_thumbnail_mask/ChatCryoJane201710_slide55-S2_prep1_thumbnail_mask.png\" -crop 949x696+509+72 \"/shared/CSHL_data_processed/ChatCryoJane201710/ChatCryoJane201710_prep2_thumbnail_mask/ChatCryoJane201710_slide55-S2_prep2_thumbnail_mask.png\"\n",
      "convert \"/shared/CSHL_data_processed/ChatCryoJane201710/ChatCryoJane201710_prep1_thumbnail_mask/ChatCryoJane201710_slide56-S2_prep1_thumbnail_mask.png\" -crop 949x696+509+72 \"/shared/CSHL_data_processed/ChatCryoJane201710/ChatCryoJane201710_prep2_thumbnail_mask/ChatCryoJane201710_slide56-S2_prep2_thumbnail_mask.png\"\n",
      "convert \"/shared/CSHL_data_processed/ChatCryoJane201710/ChatCryoJane201710_prep1_thumbnail_mask/ChatCryoJane201710_slide55-S3_prep1_thumbnail_mask.png\" -crop 949x696+509+72 \"/shared/CSHL_data_processed/ChatCryoJane201710/ChatCryoJane201710_prep2_thumbnail_mask/ChatCryoJane201710_slide55-S3_prep2_thumbnail_mask.png\"\n",
      "convert \"/shared/CSHL_data_processed/ChatCryoJane201710/ChatCryoJane201710_prep1_thumbnail_mask/ChatCryoJane201710_slide56-S3_prep1_thumbnail_mask.png\" -crop 949x696+509+72 \"/shared/CSHL_data_processed/ChatCryoJane201710/ChatCryoJane201710_prep2_thumbnail_mask/ChatCryoJane201710_slide56-S3_prep2_thumbnail_mask.png\"\n",
      "convert \"/shared/CSHL_data_processed/ChatCryoJane201710/ChatCryoJane201710_prep1_thumbnail_mask/ChatCryoJane201710_slide57-S1_prep1_thumbnail_mask.png\" -crop 949x696+509+72 \"/shared/CSHL_data_processed/ChatCryoJane201710/ChatCryoJane201710_prep2_thumbnail_mask/ChatCryoJane201710_slide57-S1_prep2_thumbnail_mask.png\"\n",
      "convert \"/shared/CSHL_data_processed/ChatCryoJane201710/ChatCryoJane201710_prep1_thumbnail_mask/ChatCryoJane201710_slide58-S1_prep1_thumbnail_mask.png\" -crop 949x696+509+72 \"/shared/CSHL_data_processed/ChatCryoJane201710/ChatCryoJane201710_prep2_thumbnail_mask/ChatCryoJane201710_slide58-S1_prep2_thumbnail_mask.png\"\n",
      "convert \"/shared/CSHL_data_processed/ChatCryoJane201710/ChatCryoJane201710_prep1_thumbnail_mask/ChatCryoJane201710_slide57-S2_prep1_thumbnail_mask.png\" -crop 949x696+509+72 \"/shared/CSHL_data_processed/ChatCryoJane201710/ChatCryoJane201710_prep2_thumbnail_mask/ChatCryoJane201710_slide57-S2_prep2_thumbnail_mask.png\"\n",
      "convert \"/shared/CSHL_data_processed/ChatCryoJane201710/ChatCryoJane201710_prep1_thumbnail_mask/ChatCryoJane201710_slide58-S2_prep1_thumbnail_mask.png\" -crop 949x696+509+72 \"/shared/CSHL_data_processed/ChatCryoJane201710/ChatCryoJane201710_prep2_thumbnail_mask/ChatCryoJane201710_slide58-S2_prep2_thumbnail_mask.png\"\n",
      "convert \"/shared/CSHL_data_processed/ChatCryoJane201710/ChatCryoJane201710_prep1_thumbnail_mask/ChatCryoJane201710_slide57-S3_prep1_thumbnail_mask.png\" -crop 949x696+509+72 \"/shared/CSHL_data_processed/ChatCryoJane201710/ChatCryoJane201710_prep2_thumbnail_mask/ChatCryoJane201710_slide57-S3_prep2_thumbnail_mask.png\"\n",
      "convert \"/shared/CSHL_data_processed/ChatCryoJane201710/ChatCryoJane201710_prep1_thumbnail_mask/ChatCryoJane201710_slide59-S1_prep1_thumbnail_mask.png\" -crop 949x696+509+72 \"/shared/CSHL_data_processed/ChatCryoJane201710/ChatCryoJane201710_prep2_thumbnail_mask/ChatCryoJane201710_slide59-S1_prep2_thumbnail_mask.png\"\n",
      "convert \"/shared/CSHL_data_processed/ChatCryoJane201710/ChatCryoJane201710_prep1_thumbnail_mask/ChatCryoJane201710_slide60-S1_prep1_thumbnail_mask.png\" -crop 949x696+509+72 \"/shared/CSHL_data_processed/ChatCryoJane201710/ChatCryoJane201710_prep2_thumbnail_mask/ChatCryoJane201710_slide60-S1_prep2_thumbnail_mask.png\"\n",
      "convert \"/shared/CSHL_data_processed/ChatCryoJane201710/ChatCryoJane201710_prep1_thumbnail_mask/ChatCryoJane201710_slide59-S2_prep1_thumbnail_mask.png\" -crop 949x696+509+72 \"/shared/CSHL_data_processed/ChatCryoJane201710/ChatCryoJane201710_prep2_thumbnail_mask/ChatCryoJane201710_slide59-S2_prep2_thumbnail_mask.png\"\n",
      "convert \"/shared/CSHL_data_processed/ChatCryoJane201710/ChatCryoJane201710_prep1_thumbnail_mask/ChatCryoJane201710_slide60-S2_prep1_thumbnail_mask.png\" -crop 949x696+509+72 \"/shared/CSHL_data_processed/ChatCryoJane201710/ChatCryoJane201710_prep2_thumbnail_mask/ChatCryoJane201710_slide60-S2_prep2_thumbnail_mask.png\"\n",
      "convert \"/shared/CSHL_data_processed/ChatCryoJane201710/ChatCryoJane201710_prep1_thumbnail_mask/ChatCryoJane201710_slide59-S3_prep1_thumbnail_mask.png\" -crop 949x696+509+72 \"/shared/CSHL_data_processed/ChatCryoJane201710/ChatCryoJane201710_prep2_thumbnail_mask/ChatCryoJane201710_slide59-S3_prep2_thumbnail_mask.png\"\n",
      "convert \"/shared/CSHL_data_processed/ChatCryoJane201710/ChatCryoJane201710_prep1_thumbnail_mask/ChatCryoJane201710_slide60-S3_prep1_thumbnail_mask.png\" -crop 949x696+509+72 \"/shared/CSHL_data_processed/ChatCryoJane201710/ChatCryoJane201710_prep2_thumbnail_mask/ChatCryoJane201710_slide60-S3_prep2_thumbnail_mask.png\"\n"
     ]
    },
    {
     "name": "stderr",
     "output_type": "stream",
     "text": [
      "done in 12.888359 seconds\n"
     ]
    }
   ],
   "source": [
    "t = time.time()\n",
    "sys.stderr.write('cropping thumbnail mask...')\n",
    "\n",
    "# for fn in valid_filenames:\n",
    "for fn in metadata_cache['valid_filenames'][stack]:    \n",
    "    \n",
    "    execute_command('convert \\\"%(input_fp)s\\\" -crop %(w)dx%(h)d+%(x)d+%(y)d \\\"%(output_fp)s\\\"' % \\\n",
    "        {'stack': stack,\n",
    "        'input_fp': DataManager.get_image_filepath_v2(stack=stack, prep_id=1, fn=fn, resol='thumbnail', version='mask', ext='png'),\n",
    "        'output_fp': DataManager.get_image_filepath_v2(stack=stack, prep_id=2, fn=fn, resol='thumbnail', version='mask', ext='png'),\n",
    "        'w':xmax+1-xmin, 'h':ymax+1-ymin, 'x':xmin, 'y':ymin})\n",
    "\n",
    "sys.stderr.write('done in %f seconds\\n' % (time.time() - t)) # 70s (aws)"
   ]
  },
  {
   "cell_type": "code",
   "execution_count": 121,
   "metadata": {
    "collapsed": true
   },
   "outputs": [],
   "source": [
    "# t = time.time()\n",
    "# sys.stderr.write('cropping thumbnail mask...')\n",
    "\n",
    "# execute_command('mogrify -set filename:name %%t -crop %(w)dx%(h)d+%(x)d+%(y)d -write \\\"%(output_dir)s/%%[filename:name]_cropped.png\\\" \\\"%(input_dir)s/*.png\\\"' % \\\n",
    "#     {'stack': stack,\n",
    "#     'input_dir': input_dir,\n",
    "#     'output_dir': output_dir,\n",
    "#     'w':xmax+1-xmin, 'h':ymax+1-ymin, 'x':xmin, 'y':ymin})\n",
    "\n",
    "# sys.stderr.write('done in %f seconds\\n' % (time.time() - t)) # 70s (aws)"
   ]
  },
  {
   "cell_type": "code",
   "execution_count": 13,
   "metadata": {},
   "outputs": [
    {
     "name": "stdout",
     "output_type": "stream",
     "text": [
      "aws s3 cp --recursive \"/shared/CSHL_data_processed/ChatCryoJane201710/ChatCryoJane201710_prep2_thumbnail_mask\" \"s3://mousebrainatlas-data/CSHL_data_processed/ChatCryoJane201710/ChatCryoJane201710_prep2_thumbnail_mask\"\n"
     ]
    }
   ],
   "source": [
    "upload_to_s3(output_dir, is_dir=True)"
   ]
  },
  {
   "cell_type": "markdown",
   "metadata": {
    "collapsed": true
   },
   "source": [
    "- Run `extract_test_features_cnn.ipynb` on workstation.\n",
    "- Upload to extracted features to S3.\n",
    "- Continue with `learning/pipeline_aws.ipynb`"
   ]
  }
 ],
 "metadata": {
  "kernelspec": {
   "display_name": "Python 2",
   "language": "python",
   "name": "python2"
  },
  "language_info": {
   "codemirror_mode": {
    "name": "ipython",
    "version": 2
   },
   "file_extension": ".py",
   "mimetype": "text/x-python",
   "name": "python",
   "nbconvert_exporter": "python",
   "pygments_lexer": "ipython2",
   "version": "2.7.12"
  }
 },
 "nbformat": 4,
 "nbformat_minor": 2
}
