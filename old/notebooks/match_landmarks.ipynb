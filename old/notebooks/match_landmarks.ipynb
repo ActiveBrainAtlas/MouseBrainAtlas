{
 "cells": [
  {
   "cell_type": "code",
   "execution_count": 1,
   "metadata": {
    "collapsed": false
   },
   "outputs": [],
   "source": [
    "%load_ext autoreload\n",
    "%autoreload 2\n",
    "\n",
    "import sys\n",
    "sys.path.append('/home/yuncong/project/opencv-2.4.9/release/lib/python2.7/site-packages')\n",
    "\n",
    "sys.path.insert(0, '/home/yuncong/project/cython-munkres-wrapper/build/lib.linux-x86_64-2.7')\n",
    "# import munkres\n",
    "# reload(munkres)\n",
    "from munkres import munkres\n",
    "\n",
    "# https://github.com/jfrelinger/cython-munkres-wrapper,\n",
    "# 10 times faster than the python implementation http://software.clapper.org/munkres/\n",
    "\n",
    "# from munkres import Munkres # http://software.clapper.org/munkres/\n",
    "\n",
    "sys.path.append('/home/yuncong/Brain/pipeline_scripts')\n",
    "import utilities2014\n",
    "reload(utilities2014)\n",
    "from utilities2014 import *\n",
    "\n",
    "import os\n",
    "import time\n",
    "import random\n",
    "\n",
    "# os.environ['GORDON_DATA_DIR'] = '/home/yuncong/project/DavidData2014tif/'\n",
    "# os.environ['GORDON_REPO_DIR'] = '/home/yuncong/Brain'\n",
    "# os.environ['GORDON_RESULT_DIR'] = '/home/yuncong/project/DavidData2014results/'\n",
    "# os.environ['GORDON_LABELING_DIR'] = '/home/yuncong/project/DavidData2014labelings/'\n",
    "\n",
    "from scipy.spatial.distance import cdist, pdist, squareform\n",
    "from scipy.cluster.hierarchy import average, fcluster, leaders, complete, single, dendrogram\n",
    "\n",
    "from joblib import Parallel, delayed\n",
    "\n",
    "from skimage.color import gray2rgb\n",
    "from skimage.util import img_as_float, pad\n",
    "from skimage.morphology import disk\n",
    "from skimage.filter.rank import gradient\n",
    "\n",
    "from sklearn.preprocessing import normalize\n",
    "\n",
    "from collections import defaultdict, Counter\n",
    "from itertools import combinations, chain, product\n",
    "\n",
    "import networkx\n",
    "from networkx import from_dict_of_lists, dfs_postorder_nodes\n",
    "\n",
    "import matplotlib.pyplot as plt\n",
    "%matplotlib inline"
   ]
  },
  {
   "cell_type": "code",
   "execution_count": 2,
   "metadata": {
    "collapsed": true
   },
   "outputs": [],
   "source": [
    "stack_name = 'RS140'"
   ]
  },
  {
   "cell_type": "code",
   "execution_count": 3,
   "metadata": {
    "collapsed": false
   },
   "outputs": [],
   "source": [
    "def boundary_distance(b1, b2, sc1=None, sc2=None, loc_thresh=1500):\n",
    "    '''\n",
    "    Compute the distance between two boundaries.\n",
    "    Each tuple consists of (edgeSet, interior_texture, exterior_textures, points, center)\n",
    "    \n",
    "    Parameters\n",
    "    ----------\n",
    "    b1 : tuple\n",
    "    b2 : tuple\n",
    "    sc1 : #points-by-32 array\n",
    "        pre-computed shape context descriptor\n",
    "    sc2 : #points-by-32 array\n",
    "        pre-computed shape context descriptor\n",
    "    '''\n",
    "    \n",
    "    _, interior_texture1, exterior_textures1, points1, center1 = b1\n",
    "    _, interior_texture2, exterior_textures2, points2, center2 = b2\n",
    "    if sc1 is not None:\n",
    "        assert len(sc1) == points1.shape[0], 'number mismatch %d %d'%(len(sc1), points1.shape[0])\n",
    "    \n",
    "    if sc2 is not None:\n",
    "        assert len(sc2) == points2.shape[0], 'number mismatch %d %d'%(len(sc2), points2.shape[0])\n",
    "\n",
    "    # compute location difference\n",
    "    d_loc = np.linalg.norm(center1 - center2)\n",
    "    D_loc = np.maximum(0, d_loc - 500)\n",
    "    \n",
    "#     print 'd_loc', d_loc\n",
    "\n",
    "    if d_loc > loc_thresh:\n",
    "        return np.inf, np.inf, np.inf, np.inf, np.inf\n",
    "    \n",
    "    n1 = len(points1)\n",
    "    n2 = len(points2)\n",
    "    if max(n1,n2) > min(n1,n2) * 3:\n",
    "        return np.inf, np.inf, np.inf, np.inf, np.inf\n",
    "    \n",
    "    # compute interior texture difference\n",
    "    D_int = chi2(interior_texture1, interior_texture2)\n",
    "#     D_ext = hausdorff_histograms(exterior_textures1, exterior_textures2, metric=chi2)\n",
    "\n",
    "    # compute shape difference, exterior texture difference\n",
    "    D_shape, matches = shape_context_score(points1, points2, descriptor1=sc1, descriptor2=sc2)\n",
    "#         D_ext = np.mean([chi2(exterior_textures1[i], exterior_textures2[j]) for i, j in matches])\n",
    "    \n",
    "    bg_match = 0\n",
    "\n",
    "    if len(matches) == 0:\n",
    "        D_ext = np.inf\n",
    "    else:\n",
    "        ddd = []\n",
    "        for i, j in matches:\n",
    "            # -1 vs -1\n",
    "            if np.isnan(exterior_textures1[i]).all() and np.isnan(exterior_textures2[j]).all():\n",
    "                s = 0\n",
    "                bg_match += 1\n",
    "                ddd.append(s)\n",
    "            # non -1 vs non -1\n",
    "            elif not np.isnan(exterior_textures1[i]).all() and not np.isnan(exterior_textures2[j]).all():\n",
    "                s = chi2(exterior_textures1[i], exterior_textures2[j])\n",
    "                if OUTPUT:\n",
    "                    print 'exterior', i,j,s\n",
    "                ddd.append(s)\n",
    "            # -1 vs non -1\n",
    "            else:\n",
    "                ddd.append(2.)\n",
    "\n",
    "        if len(ddd) == 0:\n",
    "            D_ext = np.inf\n",
    "        elif len(ddd) == bg_match:\n",
    "            D_ext = 2.\n",
    "        else:\n",
    "            D_ext = np.mean(ddd)\n",
    "    \n",
    "    D_shape = D_shape * .01\n",
    "\n",
    "    # weighted average of four terms\n",
    "    d = D_int + D_ext + D_shape + 0 * D_loc\n",
    "    \n",
    "    return d, D_int, D_ext, D_shape, D_loc\n"
   ]
  },
  {
   "cell_type": "code",
   "execution_count": 4,
   "metadata": {
    "collapsed": true
   },
   "outputs": [],
   "source": [
    "def rigid_transform_from_pairs(X,Y):\n",
    "    '''\n",
    "    X, Y are n-by-2 matrices\n",
    "    '''\n",
    "    \n",
    "    Xcentroid = X.mean(axis=0)\n",
    "    Ycentroid = Y.mean(axis=0)\n",
    "    \n",
    "    Xcentered = X - Xcentroid\n",
    "    Ycentered = Y - Ycentroid\n",
    "    \n",
    "    U, S, V = np.linalg.svd(np.dot(Xcentered.T, Ycentered))\n",
    "    M = [[1, 0], [0, np.linalg.det(np.dot(V, U.T))]]\n",
    "    R = np.dot(V, np.dot(M, U.T))\n",
    "    angle = np.arctan2(R[1,0], R[0,0])\n",
    "    t = Ycentroid.T - np.dot(R, Xcentroid.T)\n",
    "    \n",
    "    T = np.eye(3)\n",
    "    T[:2, :2] = R\n",
    "    T[:2, 2] = t\n",
    "   \n",
    "    return T, angle\n",
    "\n",
    "def rigid_transform_to(pts1, T):\n",
    "    pts1_trans = np.dot(T, np.column_stack([pts1, np.ones((pts1.shape[0],))]).T).T\n",
    "    pts1_trans = pts1_trans[:,:2]/pts1_trans[:,-1][:,np.newaxis]\n",
    "    return pts1_trans\n"
   ]
  },
  {
   "cell_type": "code",
   "execution_count": 5,
   "metadata": {
    "collapsed": true
   },
   "outputs": [],
   "source": [
    "from scipy.misc import comb\n",
    "\n",
    "def ransac_compute_rigid_transform(Dm, pts1, pts2, confidence_thresh=.01, ransac_iters=20, sample_size=5,\n",
    "                                  matching_iter=10, n_neighbors=10):\n",
    "\n",
    "#     q = time.time()\n",
    "    \n",
    "    high_confidence_thresh = np.sort(Dm.flat)[int(confidence_thresh * np.size(Dm))]\n",
    "#     print 'high_confidence_thresh', high_confidence_thresh\n",
    "    \n",
    "    N1 = len(pts1)\n",
    "    N2 = len(pts2)\n",
    "    \n",
    "    rs, cs = np.where(Dm < high_confidence_thresh)\n",
    "    high_confidence_pairs = np.c_[rs,cs]\n",
    "    \n",
    "    if len(high_confidence_pairs) == 0:\n",
    "        return None, [], None, np.inf\n",
    "    \n",
    "    if OUTPUT:\n",
    "        print 'high_confidence_pairs', high_confidence_pairs\n",
    "    \n",
    "#     from itertools import combinations\n",
    "#     possible_samples = list(combinations(high_confidence_pairs, sample_size))\n",
    "#     random.shuffle(possible_samples)\n",
    "    \n",
    "#     n_possible_samples = len([t for t in combinations(high_confidence_pairs, sample_size) \n",
    "#                         if allunique([tt[0] for tt in t]) and allunique([tt[1] for tt in t])])\n",
    "#     print 'n_possible_samples', len(possible_samples)\n",
    "#     random.shuffle(possible_samples)\n",
    "\n",
    "#     print 'comb', time.time() - q\n",
    "\n",
    "#     return\n",
    "    \n",
    "    p1s = np.sort(list(set(rs)))\n",
    "    p2s = np.sort(list(set(cs)))\n",
    "    n1 = len(p1s)\n",
    "    n2 = len(p2s)\n",
    "    \n",
    "    if n1 < sample_size or n2 < sample_size:\n",
    "        return None, [], None, np.inf\n",
    "    \n",
    "    offsets = []\n",
    "    scores = []\n",
    "    matches_list = []\n",
    "    samples_list = []\n",
    "    \n",
    "    sample_counter = 0\n",
    "    n_possible_samples = int(comb(len(high_confidence_pairs), sample_size, exact=False))\n",
    "\n",
    "#     n_possible_samples = len(possible_samples)\n",
    "    for ri in range(min(ransac_iters, n_possible_samples)):\n",
    "        \n",
    "        samples = []\n",
    "        \n",
    "        for tt in range(100):\n",
    "#             s = possible_samples[sample_counter]\n",
    "            s = random.sample(high_confidence_pairs, sample_size)\n",
    "            sample_counter += 1\n",
    "            w1, w2 = zip(*s)\n",
    "            if len(set(w1)) == len(w1) and len(set(w2)) == len(w2):\n",
    "                samples = s\n",
    "                break\n",
    "\n",
    "#         samples = np.array(possible_samples[ri])\n",
    "\n",
    "        if OUTPUT:\n",
    "            print '\\nsamples', ri, samples\n",
    "        \n",
    "        X = pts1[[s[0] for s in samples]]\n",
    "        Y = pts2[[s[1] for s in samples]]\n",
    "                \n",
    "        # generate transform hypothesis\n",
    "        T, angle = rigid_transform_from_pairs(X, Y)\n",
    "        if np.abs(angle) > np.pi/4:\n",
    "            if OUTPUT:\n",
    "                print 'angle too wide', np.rad2deg(angle)\n",
    "            continue\n",
    "        \n",
    "        # apply transform hypothesis\n",
    "        pts1_trans = rigid_transform_to(pts1, T)\n",
    "        \n",
    "        # iterative closest point association\n",
    "        matches = None\n",
    "        matches_prev = None\n",
    "        \n",
    "        for mi in range(matching_iter):\n",
    "  \n",
    "            # given transform, find matching\n",
    "\n",
    "#             t1 = time.time()\n",
    "        \n",
    "#             b = time.time()\n",
    "    \n",
    "            Dh = cdist(pts1_trans, pts2, metric='euclidean')\n",
    "            Dargmin1 = Dh.argsort(axis=1)\n",
    "            Dargmin0 = Dh.argsort(axis=0)\n",
    "#             print 'cdist', time.time() - b\n",
    "        \n",
    "#             b = time.time()\n",
    "            \n",
    "            D2 = Dh.copy()\n",
    "            D2[np.arange(N1)[:,np.newaxis], Dargmin1[:,n_neighbors:]] = 999\n",
    "            D2[Dargmin0[n_neighbors:,:], np.arange(N2)[np.newaxis,:]] = 999\n",
    "            D_hc_pairs = D2[p1s[:,np.newaxis], p2s]\n",
    "                \n",
    "#             D_hc_pairs = 9999 * np.ones((n1, n2))\n",
    "#             for i,j in high_confidence_pairs:\n",
    "#                 if j in Dargmin1[i,:10] and i in Dargmin0[:10,j]:\n",
    "#                     ii = p1s.index(i)\n",
    "#                     jj = p2s.index(j)\n",
    "#                     D_hc_pairs[ii, jj] = Dh[i,j]\n",
    "\n",
    "#             print 'D_hc_pairs', time.time() - b\n",
    "\n",
    "            if matches is not None:\n",
    "                matches_prev = matches\n",
    "            \n",
    "#             b = time.time()\n",
    "            matches_hc_pairs = np.array(zip(*np.nonzero(munkres(D_hc_pairs))))\n",
    "#             print 'munkres', time.time() - b, mi\n",
    "            \n",
    "#             b = time.time()\n",
    "\n",
    "#                 print [(p1s[ii], p2s[jj]) for (ii,jj) in matches_hc_pairs]\n",
    "            matches = np.array([(p1s[ii], p2s[jj]) for (ii,jj) in matches_hc_pairs\n",
    "                                if D_hc_pairs[ii, jj] != 999])\n",
    "            # some 9999 edges will be included, the \"if\" above removes them\n",
    "#             print 'matches', time.time() - b\n",
    "        \n",
    "            expanded_matches = []\n",
    "            matches1 = set([i for i,j in matches])\n",
    "            matches2 = set([j for i,j in matches])\n",
    "            rem1 = set(range(N1)) - matches1\n",
    "            rem2 = set(range(N2)) - matches2\n",
    "            add1 = set([])\n",
    "            add2 = set([])\n",
    "            for i in rem1:\n",
    "                for j in rem2:\n",
    "                    if j in Dargmin1[i,:3] and i in Dargmin0[:3,j] and i not in add1 and j not in add2:\n",
    "                        add1.add(i)\n",
    "                        add2.add(j)\n",
    "                        expanded_matches.append((i,j))\n",
    "\n",
    "            if len(expanded_matches) > 0 and len(matches) > 0 :\n",
    "                matches = np.vstack([matches, np.array(expanded_matches)])\n",
    "    \n",
    "            if OUTPUT:\n",
    "#                 print 'considered pairs', w\n",
    "#                 print 'matches', [(i,j) for i,j in matches\n",
    "                q1, q2 = np.where(D_hc_pairs < 999)\n",
    "                w = zip(*[p1s[q1], p2s[q2]])\n",
    "                print 'matches', len(matches), '/', 'considered pairs', len(w), '/', 'all hc pairs', len(high_confidence_pairs)\n",
    "\n",
    "#             t2 = time.time()\n",
    "            \n",
    "            if len(matches) < 3:\n",
    "                s = np.inf\n",
    "                break\n",
    "            else:\n",
    "                xs1 = pts1_trans[matches[:,0], 0]\n",
    "                x_coverage1 = float(xs1.max() - xs1.min()) / (pts1_trans[:,0].max() - pts1_trans[:,0].min())\n",
    "                ys1 = pts1_trans[matches[:,0], 1]\n",
    "                y_coverage1 = float(ys1.max() - ys1.min()) / (pts1_trans[:,1].max() - pts1_trans[:,1].min())\n",
    "                \n",
    "                xs2 = pts2[matches[:,1], 0]\n",
    "                x_coverage2 = float(xs2.max() - xs2.min())/ (pts2[:,0].max() - pts2[:,0].min())\n",
    "                ys2 = pts2[matches[:,1], 1]\n",
    "                y_coverage2 = float(ys2.max() - ys2.min())/ (pts2[:,1].max() - pts2[:,1].min())\n",
    "                \n",
    "                coverage = .5 * x_coverage1 * y_coverage1 + .5 * x_coverage2 * y_coverage2\n",
    "                \n",
    "                s = Dh[matches[:,0], matches[:,1]].mean() / coverage**2    \n",
    "#             s = .5 * Dm[Dh.argmin(axis=0), np.arange(len(pts2))].mean() + .5 * Dm[np.arange(len(pts1)), Dh.argmin(axis=1)].mean()            \n",
    "#             s = np.mean([np.mean(Dh.min(axis=0)), np.mean(Dh.min(axis=1))])\n",
    "    \n",
    "            X = pts1[matches[:,0]]\n",
    "            Y = pts2[matches[:,1]]\n",
    "\n",
    "            T, angle = rigid_transform_from_pairs(X, Y)\n",
    "            if np.abs(angle) > np.pi/4:\n",
    "                break\n",
    "\n",
    "            pts1_trans = rigid_transform_to(pts1, T)\n",
    "            \n",
    "            if matches_prev is not None and all([(i,j) in matches_prev for i,j in matches]):\n",
    "                break\n",
    "                \n",
    "#             print 'coverage and remaining', mi, time.time() - t2\n",
    "        \n",
    "#             print mi, time.time() - t1\n",
    "                \n",
    "#         Dh = cdist(pts1_trans, pts2, metric='euclidean')\n",
    "#         Dargmin1 = Dh.argsort(axis=1)\n",
    "#         Dargmin0 = Dh.argsort(axis=0)\n",
    "        \n",
    "#         expanded_matches = []\n",
    "#         matches1 = set([i for i,j in matches])\n",
    "#         matches2 = set([j for i,j in matches])\n",
    "#         rem1 = set(range(N1)) - matches1\n",
    "#         rem2 = set(range(N2)) - matches2\n",
    "#         add1 = set([])\n",
    "#         add2 = set([])\n",
    "#         for i in rem1:\n",
    "#             for j in rem2:\n",
    "#                 if j in Dargmin1[i,:3] and i in Dargmin0[:3,j] and i not in add1 and j not in add2:\n",
    "#                     add1.add(i)\n",
    "#                     add2.add(j)\n",
    "#                     expanded_matches.append((i,j))\n",
    "                    \n",
    "#         if len(expanded_matches) > 0 and len(matches) > 0 :\n",
    "#             matches = np.vstack([matches, np.array(expanded_matches)])\n",
    "        \n",
    "#         print matches\n",
    "                            \n",
    "        samples_list.append(samples)\n",
    "        offsets.append(T)\n",
    "        matches_list.append(matches)\n",
    "        scores.append(s)\n",
    "    \n",
    "#         print matches\n",
    "#         print s\n",
    "#         plot_two_pointsets(pts1_trans[:,::-1]*np.array([1,-1]), pts2[:,::-1]*np.array([1,-1]), \n",
    "#                    center1=False, center2=False,\n",
    "#                    text=True, matchings=matches)\n",
    "            \n",
    "    if len(scores) > 0:\n",
    "        best_i = np.argmin(scores)\n",
    "\n",
    "        best_score = scores[best_i]\n",
    "        best_T = offsets[best_i]\n",
    "        best_sample = samples_list[best_i]\n",
    "        best_matches = matches_list[best_i]    \n",
    "    \n",
    "        return best_T, best_matches, best_sample, best_score\n",
    "    else:\n",
    "        return None, [], None, np.inf\n"
   ]
  },
  {
   "cell_type": "code",
   "execution_count": 6,
   "metadata": {
    "collapsed": true
   },
   "outputs": [],
   "source": [
    "def shape_context_score(pts1, pts2, descriptor1=None, descriptor2=None):\n",
    "\n",
    "    if descriptor1 is None:\n",
    "        descriptor1 = compute_shape_context_descriptors(pts1, dist_limit=.8)\n",
    "    \n",
    "    if descriptor2 is None:\n",
    "        descriptor2 = compute_shape_context_descriptors(pts2, dist_limit=.8)\n",
    "        \n",
    "    descriptor_dists = cdist(descriptor1, descriptor2, metric='euclidean')\n",
    "        \n",
    "#     b = time.time()\n",
    "\n",
    "    T, best_match, best_sample, best_score = ransac_compute_rigid_transform(descriptor_dists, pts1, pts2, \n",
    "                                                                            ransac_iters=50, confidence_thresh=0.03, \n",
    "                                                                            sample_size=3, matching_iter=10,\n",
    "                                                                           n_neighbors=3)\n",
    "#     print 'ransac_compute_rigid_transform', time.time() - b\n",
    "\n",
    "    \n",
    "    if T is None and len(best_match)==0:\n",
    "        return np.inf, []\n",
    "    \n",
    "    if OUTPUT:\n",
    "        print 'best_match', best_match\n",
    "        print 'best_sample', best_sample\n",
    "        print 'best_score', best_score\n",
    "\n",
    "    return best_score, best_match"
   ]
  },
  {
   "cell_type": "code",
   "execution_count": 7,
   "metadata": {
    "collapsed": false
   },
   "outputs": [],
   "source": [
    "def euclidean_dists_angles(points):\n",
    "    \"\"\"Returns symmetric pairwise ``dists`` and ``angles`` arrays.\"\"\"\n",
    "    \n",
    "    n = len(points)\n",
    "    dists = squareform(pdist(points, 'euclidean'))\n",
    "\n",
    "    xd = -np.subtract.outer(points[:,0], points[:,0])\n",
    "    yd = -np.subtract.outer(points[:,1], points[:,1])\n",
    "    angles = np.arctan2(yd,xd)\n",
    "\n",
    "    closest_neighbor = dists.argsort(axis=1)[:,1]\n",
    "    tangent_vectors = points[closest_neighbor] - points\n",
    "    tangent_angles = np.arctan2(tangent_vectors[:,1], tangent_vectors[:,0])\n",
    "\n",
    "    angles = angles - tangent_angles[:, np.newaxis]\n",
    "    angles = angles%(2*np.pi)\n",
    "    angles[angles > np.pi] = angles[angles > np.pi] - 2*np.pi\n",
    "\n",
    "    return dists, angles\n",
    "\n",
    "def compute_r_theta_bins(n_radial_bins=5, n_polar_bins=12, dist_limit=1.):\n",
    "    \"\"\"\n",
    "    Generate radius-theta bins for the shape context histogram.\n",
    "    \n",
    "    Args:\n",
    "        n_radial_bins (int): number of radial bins\n",
    "        n_polar_bins (int): number of polar bins\n",
    "        dist_limit (float): between 0 and 1\n",
    "\n",
    "    Returns:\n",
    "        (float array, float array): (r_array, theta_array)\n",
    "\n",
    "    \"\"\"\n",
    "        \n",
    "    base = 10.    \n",
    "    r_array = dist_limit * (np.logspace(0, 1, n_radial_bins + 1, base=10) - 1)[1:] / (base-1)\n",
    "    theta_array = np.linspace(-np.pi, np.pi, n_polar_bins + 1)[1:]\n",
    "    \n",
    "    return r_array, theta_array\n",
    "\n",
    "def compute_shape_context_descriptors(pts, n_radial_bins=5, n_polar_bins=12, \n",
    "                                      dist_limit=1., density=True):\n",
    "\n",
    "    dists, angles = euclidean_dists_angles(pts)\n",
    "    n_points = dists.shape[0]\n",
    "    \n",
    "    r_array, theta_array = compute_r_theta_bins(n_radial_bins, n_polar_bins, dist_limit)\n",
    "    \n",
    "    descriptors_mat = np.zeros((n_points, n_radial_bins, n_polar_bins), dtype=np.int)\n",
    "\n",
    "    dists = dists / dists.max()\n",
    "\n",
    "    for i in range(n_points):\n",
    "        for j in range(i + 1, n_points):\n",
    "            \n",
    "            if dists[i, j] >= r_array[-1]:\n",
    "                continue\n",
    "\n",
    "            r_idx = np.searchsorted(r_array, dists[i, j])\n",
    "            theta_idx = np.searchsorted(theta_array, angles[i, j])\n",
    "\n",
    "            descriptors_mat[i, r_idx, theta_idx] += 1\n",
    "\n",
    "            theta_idx = np.searchsorted(theta_array, angles[j, i])\n",
    "            descriptors_mat[j, r_idx, theta_idx] += 1\n",
    "\n",
    "    descriptors = descriptors_mat.reshape(descriptors_mat.shape[0], -1)\n",
    "\n",
    "    if density:\n",
    "        descriptors = normalize(descriptors.astype(np.float), axis=1)\n",
    "    \n",
    "    return descriptors"
   ]
  },
  {
   "cell_type": "code",
   "execution_count": 8,
   "metadata": {
    "collapsed": true
   },
   "outputs": [],
   "source": [
    "def generate_matching_visualizations(sec1, sec2):\n",
    "    '''\n",
    "    Generate visualization for matching between sec1 and sec2\n",
    "    '''\n",
    "    \n",
    "#     dm1 = DataManager(generate_hierarchy=False, stack=stack_name, resol='x5', section=sec1)\n",
    "#     dm2 = DataManager(generate_hierarchy=False, stack=stack_name, resol='x5', section=sec2)\n",
    "    \n",
    "    dm1 = dms[sec1]\n",
    "    dm2 = dms[sec2]\n",
    "    \n",
    "    boundaries1 = dm1.load_pipeline_result('boundaryModels', 'pkl')\n",
    "    boundaries2 = dm2.load_pipeline_result('boundaryModels', 'pkl')    \n",
    "    \n",
    "    matchings = dm1.load_pipeline_result('matchings%dWith%d'%(sec1, sec2), 'pkl')\n",
    "\n",
    "\n",
    "    matched_boundaries1 = [boundaries1[i][0] for ind, (d,i,j) in enumerate(matchings)]\n",
    "    vis_matched_boundaries_next = dm1.visualize_edge_sets(matched_boundaries1, text=True, width=5)\n",
    "#     dm1.save_pipeline_result(vis_matched_boundaries_next, 'matchedBoundaries%dWith%d'%(sec1, sec2), 'jpg')\n",
    "\n",
    "    matched_boundaries2 = [boundaries2[j][0] for ind, (d,i,j) in enumerate(matchings)]\n",
    "    vis_matched_boundaries_prev = dm2.visualize_edge_sets(matched_boundaries2, text=True, width=5)\n",
    "#     dm2.save_pipeline_result(vis_matched_boundaries_prev, 'matchedBoundaries%dWith%d'%(sec2, sec1), 'jpg')\n",
    "\n",
    "\n",
    "    # Place two images vertically \n",
    "    h1, w1 = vis_matched_boundaries_next.shape[:2]\n",
    "    h2, w2 = vis_matched_boundaries_prev.shape[:2]\n",
    "    \n",
    "    if w1 < w2:\n",
    "        left_margin = int((w2 - w1)/2)\n",
    "        right_margin = w2 - w1 - left_margin\n",
    "        vis_matched_boundaries_next = pad(vis_matched_boundaries_next, \n",
    "                                          ((0,0),(left_margin,right_margin),(0,0)), \n",
    "                                          'constant', constant_values=255)\n",
    "    else:\n",
    "        left_margin = int((w1 - w2)/2)\n",
    "        right_margin = w1 - w2 - left_margin\n",
    "        vis_matched_boundaries_prev = pad(vis_matched_boundaries_prev, \n",
    "                                          ((0,0),(left_margin,right_margin),(0,0)), \n",
    "                                          'constant', constant_values=255)\n",
    "        \n",
    "    vis = np.r_[vis_matched_boundaries_next, vis_matched_boundaries_prev]\n",
    "    \n",
    "    dm1.save_pipeline_result(vis, 'matchedBoundaries%dWith%dSideBySide'%(sec1, sec2), 'jpg')\n",
    "    dm2.save_pipeline_result(vis, 'matchedBoundaries%dWith%dSideBySide'%(sec2, sec1), 'jpg')\n",
    "    \n",
    "#     for ind, (s, i, j) in enumerate(matchings):\n",
    "#         # image with a particular boundary highlighted\n",
    "        \n",
    "#         vis1 = dm1.load_pipeline_result('boundary%02d'%i, 'jpg')\n",
    "#         vis2 = dm2.load_pipeline_result('boundary%02d'%j, 'jpg')\n",
    "        \n",
    "#         h1, w1 = vis1.shape[:2]\n",
    "#         h2, w2 = vis2.shape[:2]\n",
    "        \n",
    "#         # Place vertically\n",
    "#         if w1 < w2:\n",
    "#             left_margin = int((w2 - w1)/2)\n",
    "#             right_margin = w2 - w1 - left_margin\n",
    "#             vis1 = pad(vis1, ((0,0),(left_margin,right_margin),(0,0)), 'constant', constant_values=255)\n",
    "#         else:\n",
    "#             left_margin = int((w1 - w2)/2)\n",
    "#             right_margin = w1 - w2 - left_margin\n",
    "#             vis2 = pad(vis2, ((0,0),(left_margin,right_margin),(0,0)), 'constant', constant_values=255)\n",
    "\n",
    "#         vis_pair_prev = np.r_[vis1, vis2]\n",
    "#         vis_pair_next = np.r_[vis2, vis1]\n",
    "        \n",
    "#         dm1.save_pipeline_result(vis_pair_prev, 'matchedBoundaryPair%dFor%dWith%d'%(ind, sec1, sec2), 'jpg')\n",
    "#         dm2.save_pipeline_result(vis_pair_next, 'matchedBoundaryPair%dFor%dWith%d'%(ind, sec2, sec1), 'jpg')\n",
    "    "
   ]
  },
  {
   "cell_type": "code",
   "execution_count": 9,
   "metadata": {
    "collapsed": true
   },
   "outputs": [],
   "source": [
    "def compute_shape_context_descriptors_section(sec_ind):\n",
    "    dm = DataManager(generate_hierarchy=False, stack=stack_name, resol='x5', section=sec_ind)\n",
    "    boundaries = dm.load_pipeline_result('boundaryModels', 'pkl')\n",
    "    descs = [compute_shape_context_descriptors(b[3], dist_limit=.8) for b in boundaries]\n",
    "    dm.save_pipeline_result(descs, 'shapeContext', 'pkl')\n",
    "#     return descs"
   ]
  },
  {
   "cell_type": "code",
   "execution_count": 10,
   "metadata": {
    "collapsed": false
   },
   "outputs": [],
   "source": [
    "def compute_boundary_distances(sec1, sec2):\n",
    "    \n",
    "    dm1 = DataManager(generate_hierarchy=False, stack=stack_name, resol='x5', section=sec1)\n",
    "    dm2 = DataManager(generate_hierarchy=False, stack=stack_name, resol='x5', section=sec2)\n",
    "    \n",
    "    boundaries1 = dm1.load_pipeline_result('boundaryModels', 'pkl')\n",
    "    boundaries2 = dm2.load_pipeline_result('boundaryModels', 'pkl')\n",
    "    \n",
    "    sc1 = dm1.load_pipeline_result('shapeContext', 'pkl')\n",
    "    sc2 = dm2.load_pipeline_result('shapeContext', 'pkl')\n",
    "\n",
    "    n_boundaries1 = len(boundaries1)\n",
    "    n_boundaries2 = len(boundaries2)\n",
    "    \n",
    "#     Ds = Parallel(n_jobs=16)(delayed(boundary_distance)(boundaries1[i], boundaries2[j], sc1=sc1[i], sc2=sc2[j]) \n",
    "#                              for i, j in product(range(n_boundaries1), range(n_boundaries2)))\n",
    "\n",
    "    center_dist_thresh = 1500\n",
    "    \n",
    "    centers1 = [b[4] for b in boundaries1]\n",
    "    centers2 = [b[4] for b in boundaries2]\n",
    "    center_distances = cdist(centers1, centers2, metric='euclidean')\n",
    "    b1s, b2s = np.where(center_distances < center_dist_thresh)\n",
    "    \n",
    "#     b = time.time()\n",
    "\n",
    "    Ds = Parallel(n_jobs=16)(delayed(boundary_distance)(boundaries1[i], boundaries2[j], sc1=sc1[i], sc2=sc2[j]) \n",
    "                             for i, j in zip(b1s, b2s))\n",
    "#     print  'boundary_distance', time.time() - b\n",
    "    \n",
    "    D_boundaries = np.inf * np.ones((n_boundaries1, n_boundaries2))\n",
    "    D_int = np.inf * np.ones((n_boundaries1, n_boundaries2))\n",
    "    D_ext = np.inf * np.ones((n_boundaries1, n_boundaries2))\n",
    "    D_shape = np.inf * np.ones((n_boundaries1, n_boundaries2))\n",
    "    \n",
    "    D_boundaries[b1s, b2s] = [d for d, d_int, d_ext, d_shape, d_loc in Ds]\n",
    "    D_int[b1s, b2s] = [d_int for d, d_int, d_ext, d_shape, d_loc in Ds]\n",
    "    D_ext[b1s, b2s] = [d_ext for d, d_int, d_ext, d_shape, d_loc in Ds]\n",
    "    D_shape[b1s, b2s] = [d_shape for d, d_int, d_ext, d_shape, d_loc in Ds]\n",
    "    \n",
    "#     Ds = []\n",
    "#     for i, j in product(range(n_boundaries1), range(n_boundaries2)):\n",
    "#         sys.stderr.write('%d,%d\\n'%(i,j))\n",
    "#         Ds.append(boundary_distance(boundaries1[i], boundaries2[j], sc1=sc1[i], sc2=sc2[j]))\n",
    "\n",
    "#     D_boundaries, D_int, D_ext, D_shape, D_loc = zip(*Ds)\n",
    "\n",
    "#     D_boundaries = np.reshape(D_boundaries, (n_boundaries1, n_boundaries2))\n",
    "#     D_int = np.reshape(D_int, (n_boundaries1, n_boundaries2))\n",
    "#     D_ext = np.reshape(D_ext, (n_boundaries1, n_boundaries2))\n",
    "#     D_shape = np.reshape(D_shape, (n_boundaries1, n_boundaries2))\n",
    "#     D4 = np.reshape(D_loc, (n_boundaries1, n_boundaries2))\n",
    "    \n",
    "    dm1.save_pipeline_result(D_boundaries, 'DBoundaries%dWith%d'%(sec1, sec2), 'npy')\n",
    "    dm1.save_pipeline_result(D_int, 'D1s%dWith%d'%(sec1, sec2), 'npy')\n",
    "    dm1.save_pipeline_result(D_ext, 'D2s%dWith%d'%(sec1, sec2), 'npy')\n",
    "    dm1.save_pipeline_result(D_shape, 'D3s%dWith%d'%(sec1, sec2), 'npy')\n",
    "    \n",
    "#     dm2.save_pipeline_result(D_boundaries.T, 'DBoundaries%dWith%d'%(sec2, sec1), 'npy')\n",
    "#     dm2.save_pipeline_result(D_int.T, 'D1s%dWith%d'%(sec2, sec1), 'npy')\n",
    "#     dm2.save_pipeline_result(D_ext.T, 'D2s%dWith%d'%(sec2, sec1), 'npy')\n",
    "#     dm2.save_pipeline_result(D_shape.T, 'D3s%dWith%d'%(sec2, sec1), 'npy')\n"
   ]
  },
  {
   "cell_type": "code",
   "execution_count": 11,
   "metadata": {
    "collapsed": true
   },
   "outputs": [],
   "source": [
    "from subprocess import check_output\n",
    "s = check_output(\"ssh gordon.sdsc.edu ls %s\" % os.path.join(os.environ['GORDON_DATA_DIR'], stack_name, 'x5'), shell=True)\n",
    "slide_indices = [int(f) for f in s.split('\\n') if len(f) > 0]\n",
    "n_slice = len(slide_indices)\n",
    "last_sec = max(slide_indices)"
   ]
  },
  {
   "cell_type": "code",
   "execution_count": 13,
   "metadata": {
    "collapsed": false,
    "scrolled": true
   },
   "outputs": [
    {
     "name": "stdout",
     "output_type": "stream",
     "text": [
      "saved /oasis/projects/nsf/csd395/yuncong/DavidData2014results/RS140/0006/RS140_x5_0006_gabor-blueNisslWide-segm-blueNisslRegular-vq-blueNissl_shapeContext.pkl\n",
      "saved /oasis/projects/nsf/csd395/yuncong/DavidData2014results/RS140/0015/RS140_x5_0015_gabor-blueNisslWide-segm-blueNisslRegular-vq-blueNissl_shapeContext.pkl\n",
      "saved /oasis/projects/nsf/csd395/yuncong/DavidData2014results/RS140/0014/RS140_x5_0014_gabor-blueNisslWide-segm-blueNisslRegular-vq-blueNissl_shapeContext.pkl\n",
      "saved /oasis/projects/nsf/csd395/yuncong/DavidData2014results/RS140/0009/RS140_x5_0009_gabor-blueNisslWide-segm-blueNisslRegular-vq-blueNissl_shapeContext.pkl\n",
      "saved /oasis/projects/nsf/csd395/yuncong/DavidData2014results/RS140/0013/RS140_x5_0013_gabor-blueNisslWide-segm-blueNisslRegular-vq-blueNissl_shapeContext.pkl\n",
      "saved /oasis/projects/nsf/csd395/yuncong/DavidData2014results/RS140/0000/RS140_x5_0000_gabor-blueNisslWide-segm-blueNisslRegular-vq-blueNissl_shapeContext.pkl\n",
      "saved /oasis/projects/nsf/csd395/yuncong/DavidData2014results/RS140/0010/RS140_x5_0010_gabor-blueNisslWide-segm-blueNisslRegular-vq-blueNissl_shapeContext.pkl\n",
      "saved /oasis/projects/nsf/csd395/yuncong/DavidData2014results/RS140/0007/RS140_x5_0007_gabor-blueNisslWide-segm-blueNisslRegular-vq-blueNissl_shapeContext.pkl\n",
      "saved /oasis/projects/nsf/csd395/yuncong/DavidData2014results/RS140/0012/RS140_x5_0012_gabor-blueNisslWide-segm-blueNisslRegular-vq-blueNissl_shapeContext.pkl\n",
      "saved /oasis/projects/nsf/csd395/yuncong/DavidData2014results/RS140/0004/RS140_x5_0004_gabor-blueNisslWide-segm-blueNisslRegular-vq-blueNissl_shapeContext.pkl\n",
      "saved /oasis/projects/nsf/csd395/yuncong/DavidData2014results/RS140/0011/RS140_x5_0011_gabor-blueNisslWide-segm-blueNisslRegular-vq-blueNissl_shapeContext.pkl\n",
      "saved /oasis/projects/nsf/csd395/yuncong/DavidData2014results/RS140/0008/RS140_x5_0008_gabor-blueNisslWide-segm-blueNisslRegular-vq-blueNissl_shapeContext.pkl\n",
      "saved /oasis/projects/nsf/csd395/yuncong/DavidData2014results/RS140/0003/RS140_x5_0003_gabor-blueNisslWide-segm-blueNisslRegular-vq-blueNissl_shapeContext.pkl\n",
      "saved /oasis/projects/nsf/csd395/yuncong/DavidData2014results/RS140/0005/RS140_x5_0005_gabor-blueNisslWide-segm-blueNisslRegular-vq-blueNissl_shapeContext.pkl\n",
      "saved /oasis/projects/nsf/csd395/yuncong/DavidData2014results/RS140/0001/RS140_x5_0001_gabor-blueNisslWide-segm-blueNisslRegular-vq-blueNissl_shapeContext.pkl\n",
      "saved /oasis/projects/nsf/csd395/yuncong/DavidData2014results/RS140/0002/RS140_x5_0002_gabor-blueNisslWide-segm-blueNisslRegular-vq-blueNissl_shapeContext.pkl\n",
      "saved /oasis/projects/nsf/csd395/yuncong/DavidData2014results/RS140/0019/RS140_x5_0019_gabor-blueNisslWide-segm-blueNisslRegular-vq-blueNissl_shapeContext.pklsaved /oasis/projects/nsf/csd395/yuncong/DavidData2014results/RS140/0017/RS140_x5_0017_gabor-blueNisslWide-segm-blueNisslRegular-vq-blueNissl_shapeContext.pklsaved /oasis/projects/nsf/csd395/yuncong/DavidData2014results/RS140/0018/RS140_x5_0018_gabor-blueNisslWide-segm-blueNisslRegular-vq-blueNissl_shapeContext.pklsaved /oasis/projects/nsf/csd395/yuncong/DavidData2014results/RS140/0016/RS140_x5_0016_gabor-blueNisslWide-segm-blueNisslRegular-vq-blueNissl_shapeContext.pklsaved /oasis/projects/nsf/csd395/yuncong/DavidData2014results/RS140/0020/RS140_x5_0020_gabor-blueNisslWide-segm-blueNisslRegular-vq-blueNissl_shapeContext.pklsaved /oasis/projects/nsf/csd395/yuncong/DavidData2014results/RS140/0021/RS140_x5_0021_gabor-blueNisslWide-segm-blueNisslRegular-vq-blueNissl_shapeContext.pklsaved /oasis/projects/nsf/csd395/yuncong/DavidData2014results/RS140/0022/RS140_x5_0022_gabor-blueNisslWide-segm-blueNisslRegular-vq-blueNissl_shapeContext.pklsaved /oasis/projects/nsf/csd395/yuncong/DavidData2014results/RS140/0023/RS140_x5_0023_gabor-blueNisslWide-segm-blueNisslRegular-vq-blueNissl_shapeContext.pklsaved /oasis/projects/nsf/csd395/yuncong/DavidData2014results/RS140/0024/RS140_x5_0024_gabor-blueNisslWide-segm-blueNisslRegular-vq-blueNissl_shapeContext.pklsaved /oasis/projects/nsf/csd395/yuncong/DavidData2014results/RS140/0025/RS140_x5_0025_gabor-blueNisslWide-segm-blueNisslRegular-vq-blueNissl_shapeContext.pklsaved /oasis/projects/nsf/csd395/yuncong/DavidData2014results/RS140/0026/RS140_x5_0026_gabor-blueNisslWide-segm-blueNisslRegular-vq-blueNissl_shapeContext.pklsaved /oasis/projects/nsf/csd395/yuncong/DavidData2014results/RS140/0027/RS140_x5_0027_gabor-blueNisslWide-segm-blueNisslRegular-vq-blueNissl_shapeContext.pklsaved /oasis/projects/nsf/csd395/yuncong/DavidData2014results/RS140/0028/RS140_x5_0028_gabor-blueNisslWide-segm-blueNisslRegular-vq-blueNissl_shapeContext.pklsaved /oasis/projects/nsf/csd395/yuncong/DavidData2014results/RS140/0029/RS140_x5_0029_gabor-blueNisslWide-segm-blueNisslRegular-vq-blueNissl_shapeContext.pklsaved /oasis/projects/nsf/csd395/yuncong/DavidData2014results/RS140/0030/RS140_x5_0030_gabor-blueNisslWide-segm-blueNisslRegular-vq-blueNissl_shapeContext.pklsaved /oasis/projects/nsf/csd395/yuncong/DavidData2014results/RS140/0031/RS140_x5_0031_gabor-blueNisslWide-segm-blueNisslRegular-vq-blueNissl_shapeContext.pkl\n",
      "\n",
      "\n",
      "\n",
      "\n",
      "\n",
      "\n",
      "\n",
      "\n",
      "\n",
      "\n",
      "\n",
      "\n",
      "\n",
      "\n",
      "\n",
      "saved /oasis/projects/nsf/csd395/yuncong/DavidData2014results/RS140/0034/RS140_x5_0034_gabor-blueNisslWide-segm-blueNisslRegular-vq-blueNissl_shapeContext.pklsaved /oasis/projects/nsf/csd395/yuncong/DavidData2014results/RS140/0032/RS140_x5_0032_gabor-blueNisslWide-segm-blueNisslRegular-vq-blueNissl_shapeContext.pklsaved /oasis/projects/nsf/csd395/yuncong/DavidData2014results/RS140/0033/RS140_x5_0033_gabor-blueNisslWide-segm-blueNisslRegular-vq-blueNissl_shapeContext.pklsaved /oasis/projects/nsf/csd395/yuncong/DavidData2014results/RS140/0035/RS140_x5_0035_gabor-blueNisslWide-segm-blueNisslRegular-vq-blueNissl_shapeContext.pklsaved /oasis/projects/nsf/csd395/yuncong/DavidData2014results/RS140/0036/RS140_x5_0036_gabor-blueNisslWide-segm-blueNisslRegular-vq-blueNissl_shapeContext.pkl\n",
      "\n",
      "\n",
      "\n",
      "\n"
     ]
    }
   ],
   "source": [
    "Parallel(n_jobs=16)(delayed(compute_shape_context_descriptors_section)(sec_ind) for sec_ind in slide_indices);"
   ]
  },
  {
   "cell_type": "code",
   "execution_count": 16,
   "metadata": {
    "collapsed": false,
    "scrolled": true
   },
   "outputs": [
    {
     "name": "stdout",
     "output_type": "stream",
     "text": [
      "saved /oasis/projects/nsf/csd395/yuncong/DavidData2014results/RS141/0000/RS141_x5_0000_gabor-blueNisslWide-segm-blueNisslRegular-vq-blueNissl_DBoundaries0With1.npy\n",
      "saved /oasis/projects/nsf/csd395/yuncong/DavidData2014results/RS141/0000/RS141_x5_0000_gabor-blueNisslWide-segm-blueNisslRegular-vq-blueNissl_D1s0With1.npy\n",
      "saved /oasis/projects/nsf/csd395/yuncong/DavidData2014results/RS141/0000/RS141_x5_0000_gabor-blueNisslWide-segm-blueNisslRegular-vq-blueNissl_D2s0With1.npy\n",
      "saved /oasis/projects/nsf/csd395/yuncong/DavidData2014results/RS141/0000/RS141_x5_0000_gabor-blueNisslWide-segm-blueNisslRegular-vq-blueNissl_D3s0With1.npy\n"
     ]
    },
    {
     "name": "stderr",
     "output_type": "stream",
     "text": [
      "0,1\n"
     ]
    },
    {
     "name": "stdout",
     "output_type": "stream",
     "text": [
      "saved /oasis/projects/nsf/csd395/yuncong/DavidData2014results/RS141/0000/RS141_x5_0000_gabor-blueNisslWide-segm-blueNisslRegular-vq-blueNissl_DBoundaries0With2.npy\n",
      "saved /oasis/projects/nsf/csd395/yuncong/DavidData2014results/RS141/0000/RS141_x5_0000_gabor-blueNisslWide-segm-blueNisslRegular-vq-blueNissl_D1s0With2.npy\n",
      "saved /oasis/projects/nsf/csd395/yuncong/DavidData2014results/RS141/0000/RS141_x5_0000_gabor-blueNisslWide-segm-blueNisslRegular-vq-blueNissl_D2s0With2.npy\n",
      "saved /oasis/projects/nsf/csd395/yuncong/DavidData2014results/RS141/0000/RS141_x5_0000_gabor-blueNisslWide-segm-blueNisslRegular-vq-blueNissl_D3s0With2.npy\n"
     ]
    },
    {
     "name": "stderr",
     "output_type": "stream",
     "text": [
      "0,2\n"
     ]
    },
    {
     "name": "stdout",
     "output_type": "stream",
     "text": [
      "saved /oasis/projects/nsf/csd395/yuncong/DavidData2014results/RS141/0000/RS141_x5_0000_gabor-blueNisslWide-segm-blueNisslRegular-vq-blueNissl_DBoundaries0With3.npy\n",
      "saved /oasis/projects/nsf/csd395/yuncong/DavidData2014results/RS141/0000/RS141_x5_0000_gabor-blueNisslWide-segm-blueNisslRegular-vq-blueNissl_D1s0With3.npy\n",
      "saved /oasis/projects/nsf/csd395/yuncong/DavidData2014results/RS141/0000/RS141_x5_0000_gabor-blueNisslWide-segm-blueNisslRegular-vq-blueNissl_D2s0With3.npy\n",
      "saved /oasis/projects/nsf/csd395/yuncong/DavidData2014results/RS141/0000/RS141_x5_0000_gabor-blueNisslWide-segm-blueNisslRegular-vq-blueNissl_D3s0With3.npy\n"
     ]
    },
    {
     "name": "stderr",
     "output_type": "stream",
     "text": [
      "0,3\n"
     ]
    },
    {
     "name": "stdout",
     "output_type": "stream",
     "text": [
      "saved /oasis/projects/nsf/csd395/yuncong/DavidData2014results/RS141/0001/RS141_x5_0001_gabor-blueNisslWide-segm-blueNisslRegular-vq-blueNissl_DBoundaries1With2.npy\n",
      "saved /oasis/projects/nsf/csd395/yuncong/DavidData2014results/RS141/0001/RS141_x5_0001_gabor-blueNisslWide-segm-blueNisslRegular-vq-blueNissl_D1s1With2.npy\n",
      "saved /oasis/projects/nsf/csd395/yuncong/DavidData2014results/RS141/0001/RS141_x5_0001_gabor-blueNisslWide-segm-blueNisslRegular-vq-blueNissl_D2s1With2.npy\n",
      "saved /oasis/projects/nsf/csd395/yuncong/DavidData2014results/RS141/0001/RS141_x5_0001_gabor-blueNisslWide-segm-blueNisslRegular-vq-blueNissl_D3s1With2.npy\n"
     ]
    },
    {
     "name": "stderr",
     "output_type": "stream",
     "text": [
      "1,2\n"
     ]
    },
    {
     "name": "stdout",
     "output_type": "stream",
     "text": [
      "saved /oasis/projects/nsf/csd395/yuncong/DavidData2014results/RS141/0001/RS141_x5_0001_gabor-blueNisslWide-segm-blueNisslRegular-vq-blueNissl_DBoundaries1With3.npy\n",
      "saved /oasis/projects/nsf/csd395/yuncong/DavidData2014results/RS141/0001/RS141_x5_0001_gabor-blueNisslWide-segm-blueNisslRegular-vq-blueNissl_D1s1With3.npy\n",
      "saved /oasis/projects/nsf/csd395/yuncong/DavidData2014results/RS141/0001/RS141_x5_0001_gabor-blueNisslWide-segm-blueNisslRegular-vq-blueNissl_D2s1With3.npy\n",
      "saved /oasis/projects/nsf/csd395/yuncong/DavidData2014results/RS141/0001/RS141_x5_0001_gabor-blueNisslWide-segm-blueNisslRegular-vq-blueNissl_D3s1With3.npy\n"
     ]
    },
    {
     "name": "stderr",
     "output_type": "stream",
     "text": [
      "1,3\n"
     ]
    },
    {
     "name": "stdout",
     "output_type": "stream",
     "text": [
      "saved /oasis/projects/nsf/csd395/yuncong/DavidData2014results/RS141/0001/RS141_x5_0001_gabor-blueNisslWide-segm-blueNisslRegular-vq-blueNissl_DBoundaries1With4.npy\n",
      "saved /oasis/projects/nsf/csd395/yuncong/DavidData2014results/RS141/0001/RS141_x5_0001_gabor-blueNisslWide-segm-blueNisslRegular-vq-blueNissl_D1s1With4.npy\n",
      "saved /oasis/projects/nsf/csd395/yuncong/DavidData2014results/RS141/0001/RS141_x5_0001_gabor-blueNisslWide-segm-blueNisslRegular-vq-blueNissl_D2s1With4.npy\n",
      "saved /oasis/projects/nsf/csd395/yuncong/DavidData2014results/RS141/0001/RS141_x5_0001_gabor-blueNisslWide-segm-blueNisslRegular-vq-blueNissl_D3s1With4.npy\n"
     ]
    },
    {
     "name": "stderr",
     "output_type": "stream",
     "text": [
      "1,4\n"
     ]
    },
    {
     "name": "stdout",
     "output_type": "stream",
     "text": [
      "saved /oasis/projects/nsf/csd395/yuncong/DavidData2014results/RS141/0002/RS141_x5_0002_gabor-blueNisslWide-segm-blueNisslRegular-vq-blueNissl_DBoundaries2With3.npy\n",
      "saved /oasis/projects/nsf/csd395/yuncong/DavidData2014results/RS141/0002/RS141_x5_0002_gabor-blueNisslWide-segm-blueNisslRegular-vq-blueNissl_D1s2With3.npy\n",
      "saved /oasis/projects/nsf/csd395/yuncong/DavidData2014results/RS141/0002/RS141_x5_0002_gabor-blueNisslWide-segm-blueNisslRegular-vq-blueNissl_D2s2With3.npy\n",
      "saved /oasis/projects/nsf/csd395/yuncong/DavidData2014results/RS141/0002/RS141_x5_0002_gabor-blueNisslWide-segm-blueNisslRegular-vq-blueNissl_D3s2With3.npy\n"
     ]
    },
    {
     "name": "stderr",
     "output_type": "stream",
     "text": [
      "2,3\n"
     ]
    },
    {
     "name": "stdout",
     "output_type": "stream",
     "text": [
      "saved /oasis/projects/nsf/csd395/yuncong/DavidData2014results/RS141/0002/RS141_x5_0002_gabor-blueNisslWide-segm-blueNisslRegular-vq-blueNissl_DBoundaries2With4.npy\n",
      "saved /oasis/projects/nsf/csd395/yuncong/DavidData2014results/RS141/0002/RS141_x5_0002_gabor-blueNisslWide-segm-blueNisslRegular-vq-blueNissl_D1s2With4.npy\n",
      "saved /oasis/projects/nsf/csd395/yuncong/DavidData2014results/RS141/0002/RS141_x5_0002_gabor-blueNisslWide-segm-blueNisslRegular-vq-blueNissl_D2s2With4.npy\n",
      "saved /oasis/projects/nsf/csd395/yuncong/DavidData2014results/RS141/0002/RS141_x5_0002_gabor-blueNisslWide-segm-blueNisslRegular-vq-blueNissl_D3s2With4.npy\n"
     ]
    },
    {
     "name": "stderr",
     "output_type": "stream",
     "text": [
      "2,4\n"
     ]
    },
    {
     "name": "stdout",
     "output_type": "stream",
     "text": [
      "saved /oasis/projects/nsf/csd395/yuncong/DavidData2014results/RS141/0002/RS141_x5_0002_gabor-blueNisslWide-segm-blueNisslRegular-vq-blueNissl_DBoundaries2With5.npy\n",
      "saved /oasis/projects/nsf/csd395/yuncong/DavidData2014results/RS141/0002/RS141_x5_0002_gabor-blueNisslWide-segm-blueNisslRegular-vq-blueNissl_D1s2With5.npy\n",
      "saved /oasis/projects/nsf/csd395/yuncong/DavidData2014results/RS141/0002/RS141_x5_0002_gabor-blueNisslWide-segm-blueNisslRegular-vq-blueNissl_D2s2With5.npy\n",
      "saved /oasis/projects/nsf/csd395/yuncong/DavidData2014results/RS141/0002/RS141_x5_0002_gabor-blueNisslWide-segm-blueNisslRegular-vq-blueNissl_D3s2With5.npy\n"
     ]
    },
    {
     "name": "stderr",
     "output_type": "stream",
     "text": [
      "2,5\n"
     ]
    },
    {
     "name": "stdout",
     "output_type": "stream",
     "text": [
      "saved /oasis/projects/nsf/csd395/yuncong/DavidData2014results/RS141/0003/RS141_x5_0003_gabor-blueNisslWide-segm-blueNisslRegular-vq-blueNissl_DBoundaries3With4.npy\n",
      "saved /oasis/projects/nsf/csd395/yuncong/DavidData2014results/RS141/0003/RS141_x5_0003_gabor-blueNisslWide-segm-blueNisslRegular-vq-blueNissl_D1s3With4.npy\n",
      "saved /oasis/projects/nsf/csd395/yuncong/DavidData2014results/RS141/0003/RS141_x5_0003_gabor-blueNisslWide-segm-blueNisslRegular-vq-blueNissl_D2s3With4.npy\n",
      "saved /oasis/projects/nsf/csd395/yuncong/DavidData2014results/RS141/0003/RS141_x5_0003_gabor-blueNisslWide-segm-blueNisslRegular-vq-blueNissl_D3s3With4.npy\n"
     ]
    },
    {
     "name": "stderr",
     "output_type": "stream",
     "text": [
      "3,4\n"
     ]
    },
    {
     "name": "stdout",
     "output_type": "stream",
     "text": [
      "saved /oasis/projects/nsf/csd395/yuncong/DavidData2014results/RS141/0003/RS141_x5_0003_gabor-blueNisslWide-segm-blueNisslRegular-vq-blueNissl_DBoundaries3With5.npy\n",
      "saved /oasis/projects/nsf/csd395/yuncong/DavidData2014results/RS141/0003/RS141_x5_0003_gabor-blueNisslWide-segm-blueNisslRegular-vq-blueNissl_D1s3With5.npy\n",
      "saved /oasis/projects/nsf/csd395/yuncong/DavidData2014results/RS141/0003/RS141_x5_0003_gabor-blueNisslWide-segm-blueNisslRegular-vq-blueNissl_D2s3With5.npy\n",
      "saved /oasis/projects/nsf/csd395/yuncong/DavidData2014results/RS141/0003/RS141_x5_0003_gabor-blueNisslWide-segm-blueNisslRegular-vq-blueNissl_D3s3With5.npy\n"
     ]
    },
    {
     "name": "stderr",
     "output_type": "stream",
     "text": [
      "3,5\n"
     ]
    },
    {
     "name": "stdout",
     "output_type": "stream",
     "text": [
      "saved /oasis/projects/nsf/csd395/yuncong/DavidData2014results/RS141/0003/RS141_x5_0003_gabor-blueNisslWide-segm-blueNisslRegular-vq-blueNissl_DBoundaries3With6.npy\n",
      "saved /oasis/projects/nsf/csd395/yuncong/DavidData2014results/RS141/0003/RS141_x5_0003_gabor-blueNisslWide-segm-blueNisslRegular-vq-blueNissl_D1s3With6.npy\n",
      "saved /oasis/projects/nsf/csd395/yuncong/DavidData2014results/RS141/0003/RS141_x5_0003_gabor-blueNisslWide-segm-blueNisslRegular-vq-blueNissl_D2s3With6.npy\n",
      "saved /oasis/projects/nsf/csd395/yuncong/DavidData2014results/RS141/0003/RS141_x5_0003_gabor-blueNisslWide-segm-blueNisslRegular-vq-blueNissl_D3s3With6.npy\n"
     ]
    },
    {
     "name": "stderr",
     "output_type": "stream",
     "text": [
      "3,6\n"
     ]
    },
    {
     "name": "stdout",
     "output_type": "stream",
     "text": [
      "saved /oasis/projects/nsf/csd395/yuncong/DavidData2014results/RS141/0004/RS141_x5_0004_gabor-blueNisslWide-segm-blueNisslRegular-vq-blueNissl_DBoundaries4With5.npy\n",
      "saved /oasis/projects/nsf/csd395/yuncong/DavidData2014results/RS141/0004/RS141_x5_0004_gabor-blueNisslWide-segm-blueNisslRegular-vq-blueNissl_D1s4With5.npy\n",
      "saved /oasis/projects/nsf/csd395/yuncong/DavidData2014results/RS141/0004/RS141_x5_0004_gabor-blueNisslWide-segm-blueNisslRegular-vq-blueNissl_D2s4With5.npy\n",
      "saved /oasis/projects/nsf/csd395/yuncong/DavidData2014results/RS141/0004/RS141_x5_0004_gabor-blueNisslWide-segm-blueNisslRegular-vq-blueNissl_D3s4With5.npy\n"
     ]
    },
    {
     "name": "stderr",
     "output_type": "stream",
     "text": [
      "4,5\n"
     ]
    },
    {
     "name": "stdout",
     "output_type": "stream",
     "text": [
      "saved /oasis/projects/nsf/csd395/yuncong/DavidData2014results/RS141/0004/RS141_x5_0004_gabor-blueNisslWide-segm-blueNisslRegular-vq-blueNissl_DBoundaries4With6.npy\n",
      "saved /oasis/projects/nsf/csd395/yuncong/DavidData2014results/RS141/0004/RS141_x5_0004_gabor-blueNisslWide-segm-blueNisslRegular-vq-blueNissl_D1s4With6.npy\n",
      "saved /oasis/projects/nsf/csd395/yuncong/DavidData2014results/RS141/0004/RS141_x5_0004_gabor-blueNisslWide-segm-blueNisslRegular-vq-blueNissl_D2s4With6.npy\n",
      "saved /oasis/projects/nsf/csd395/yuncong/DavidData2014results/RS141/0004/RS141_x5_0004_gabor-blueNisslWide-segm-blueNisslRegular-vq-blueNissl_D3s4With6.npy\n"
     ]
    },
    {
     "name": "stderr",
     "output_type": "stream",
     "text": [
      "4,6\n"
     ]
    },
    {
     "name": "stdout",
     "output_type": "stream",
     "text": [
      "saved /oasis/projects/nsf/csd395/yuncong/DavidData2014results/RS141/0004/RS141_x5_0004_gabor-blueNisslWide-segm-blueNisslRegular-vq-blueNissl_DBoundaries4With7.npy\n",
      "saved /oasis/projects/nsf/csd395/yuncong/DavidData2014results/RS141/0004/RS141_x5_0004_gabor-blueNisslWide-segm-blueNisslRegular-vq-blueNissl_D1s4With7.npy\n",
      "saved /oasis/projects/nsf/csd395/yuncong/DavidData2014results/RS141/0004/RS141_x5_0004_gabor-blueNisslWide-segm-blueNisslRegular-vq-blueNissl_D2s4With7.npy\n",
      "saved /oasis/projects/nsf/csd395/yuncong/DavidData2014results/RS141/0004/RS141_x5_0004_gabor-blueNisslWide-segm-blueNisslRegular-vq-blueNissl_D3s4With7.npy\n"
     ]
    },
    {
     "name": "stderr",
     "output_type": "stream",
     "text": [
      "4,7\n"
     ]
    },
    {
     "name": "stdout",
     "output_type": "stream",
     "text": [
      "saved /oasis/projects/nsf/csd395/yuncong/DavidData2014results/RS141/0005/RS141_x5_0005_gabor-blueNisslWide-segm-blueNisslRegular-vq-blueNissl_DBoundaries5With6.npy\n",
      "saved /oasis/projects/nsf/csd395/yuncong/DavidData2014results/RS141/0005/RS141_x5_0005_gabor-blueNisslWide-segm-blueNisslRegular-vq-blueNissl_D1s5With6.npy\n",
      "saved /oasis/projects/nsf/csd395/yuncong/DavidData2014results/RS141/0005/RS141_x5_0005_gabor-blueNisslWide-segm-blueNisslRegular-vq-blueNissl_D2s5With6.npy\n",
      "saved /oasis/projects/nsf/csd395/yuncong/DavidData2014results/RS141/0005/RS141_x5_0005_gabor-blueNisslWide-segm-blueNisslRegular-vq-blueNissl_D3s5With6.npy\n"
     ]
    },
    {
     "name": "stderr",
     "output_type": "stream",
     "text": [
      "5,6\n"
     ]
    },
    {
     "name": "stdout",
     "output_type": "stream",
     "text": [
      "saved /oasis/projects/nsf/csd395/yuncong/DavidData2014results/RS141/0005/RS141_x5_0005_gabor-blueNisslWide-segm-blueNisslRegular-vq-blueNissl_DBoundaries5With7.npy\n",
      "saved /oasis/projects/nsf/csd395/yuncong/DavidData2014results/RS141/0005/RS141_x5_0005_gabor-blueNisslWide-segm-blueNisslRegular-vq-blueNissl_D1s5With7.npy\n",
      "saved /oasis/projects/nsf/csd395/yuncong/DavidData2014results/RS141/0005/RS141_x5_0005_gabor-blueNisslWide-segm-blueNisslRegular-vq-blueNissl_D2s5With7.npy\n",
      "saved /oasis/projects/nsf/csd395/yuncong/DavidData2014results/RS141/0005/RS141_x5_0005_gabor-blueNisslWide-segm-blueNisslRegular-vq-blueNissl_D3s5With7.npy\n"
     ]
    },
    {
     "name": "stderr",
     "output_type": "stream",
     "text": [
      "5,7\n"
     ]
    },
    {
     "name": "stdout",
     "output_type": "stream",
     "text": [
      "saved /oasis/projects/nsf/csd395/yuncong/DavidData2014results/RS141/0005/RS141_x5_0005_gabor-blueNisslWide-segm-blueNisslRegular-vq-blueNissl_DBoundaries5With8.npy\n",
      "saved /oasis/projects/nsf/csd395/yuncong/DavidData2014results/RS141/0005/RS141_x5_0005_gabor-blueNisslWide-segm-blueNisslRegular-vq-blueNissl_D1s5With8.npy\n",
      "saved /oasis/projects/nsf/csd395/yuncong/DavidData2014results/RS141/0005/RS141_x5_0005_gabor-blueNisslWide-segm-blueNisslRegular-vq-blueNissl_D2s5With8.npy\n",
      "saved /oasis/projects/nsf/csd395/yuncong/DavidData2014results/RS141/0005/RS141_x5_0005_gabor-blueNisslWide-segm-blueNisslRegular-vq-blueNissl_D3s5With8.npy\n"
     ]
    },
    {
     "name": "stderr",
     "output_type": "stream",
     "text": [
      "5,8\n"
     ]
    },
    {
     "name": "stdout",
     "output_type": "stream",
     "text": [
      "saved /oasis/projects/nsf/csd395/yuncong/DavidData2014results/RS141/0006/RS141_x5_0006_gabor-blueNisslWide-segm-blueNisslRegular-vq-blueNissl_DBoundaries6With7.npy\n",
      "saved /oasis/projects/nsf/csd395/yuncong/DavidData2014results/RS141/0006/RS141_x5_0006_gabor-blueNisslWide-segm-blueNisslRegular-vq-blueNissl_D1s6With7.npy\n",
      "saved /oasis/projects/nsf/csd395/yuncong/DavidData2014results/RS141/0006/RS141_x5_0006_gabor-blueNisslWide-segm-blueNisslRegular-vq-blueNissl_D2s6With7.npy\n",
      "saved /oasis/projects/nsf/csd395/yuncong/DavidData2014results/RS141/0006/RS141_x5_0006_gabor-blueNisslWide-segm-blueNisslRegular-vq-blueNissl_D3s6With7.npy\n"
     ]
    },
    {
     "name": "stderr",
     "output_type": "stream",
     "text": [
      "6,7\n"
     ]
    },
    {
     "name": "stdout",
     "output_type": "stream",
     "text": [
      "saved /oasis/projects/nsf/csd395/yuncong/DavidData2014results/RS141/0006/RS141_x5_0006_gabor-blueNisslWide-segm-blueNisslRegular-vq-blueNissl_DBoundaries6With8.npy\n",
      "saved /oasis/projects/nsf/csd395/yuncong/DavidData2014results/RS141/0006/RS141_x5_0006_gabor-blueNisslWide-segm-blueNisslRegular-vq-blueNissl_D1s6With8.npy\n",
      "saved /oasis/projects/nsf/csd395/yuncong/DavidData2014results/RS141/0006/RS141_x5_0006_gabor-blueNisslWide-segm-blueNisslRegular-vq-blueNissl_D2s6With8.npy\n",
      "saved /oasis/projects/nsf/csd395/yuncong/DavidData2014results/RS141/0006/RS141_x5_0006_gabor-blueNisslWide-segm-blueNisslRegular-vq-blueNissl_D3s6With8.npy\n"
     ]
    },
    {
     "name": "stderr",
     "output_type": "stream",
     "text": [
      "6,8\n"
     ]
    },
    {
     "name": "stdout",
     "output_type": "stream",
     "text": [
      "saved /oasis/projects/nsf/csd395/yuncong/DavidData2014results/RS141/0006/RS141_x5_0006_gabor-blueNisslWide-segm-blueNisslRegular-vq-blueNissl_DBoundaries6With9.npy\n",
      "saved /oasis/projects/nsf/csd395/yuncong/DavidData2014results/RS141/0006/RS141_x5_0006_gabor-blueNisslWide-segm-blueNisslRegular-vq-blueNissl_D1s6With9.npy\n",
      "saved /oasis/projects/nsf/csd395/yuncong/DavidData2014results/RS141/0006/RS141_x5_0006_gabor-blueNisslWide-segm-blueNisslRegular-vq-blueNissl_D2s6With9.npy\n",
      "saved /oasis/projects/nsf/csd395/yuncong/DavidData2014results/RS141/0006/RS141_x5_0006_gabor-blueNisslWide-segm-blueNisslRegular-vq-blueNissl_D3s6With9.npy\n"
     ]
    },
    {
     "name": "stderr",
     "output_type": "stream",
     "text": [
      "6,9\n"
     ]
    },
    {
     "name": "stdout",
     "output_type": "stream",
     "text": [
      "saved /oasis/projects/nsf/csd395/yuncong/DavidData2014results/RS141/0007/RS141_x5_0007_gabor-blueNisslWide-segm-blueNisslRegular-vq-blueNissl_DBoundaries7With8.npy\n",
      "saved /oasis/projects/nsf/csd395/yuncong/DavidData2014results/RS141/0007/RS141_x5_0007_gabor-blueNisslWide-segm-blueNisslRegular-vq-blueNissl_D1s7With8.npy\n",
      "saved /oasis/projects/nsf/csd395/yuncong/DavidData2014results/RS141/0007/RS141_x5_0007_gabor-blueNisslWide-segm-blueNisslRegular-vq-blueNissl_D2s7With8.npy\n",
      "saved /oasis/projects/nsf/csd395/yuncong/DavidData2014results/RS141/0007/RS141_x5_0007_gabor-blueNisslWide-segm-blueNisslRegular-vq-blueNissl_D3s7With8.npy\n"
     ]
    },
    {
     "name": "stderr",
     "output_type": "stream",
     "text": [
      "7,8\n"
     ]
    },
    {
     "name": "stdout",
     "output_type": "stream",
     "text": [
      "saved /oasis/projects/nsf/csd395/yuncong/DavidData2014results/RS141/0007/RS141_x5_0007_gabor-blueNisslWide-segm-blueNisslRegular-vq-blueNissl_DBoundaries7With9.npy\n",
      "saved /oasis/projects/nsf/csd395/yuncong/DavidData2014results/RS141/0007/RS141_x5_0007_gabor-blueNisslWide-segm-blueNisslRegular-vq-blueNissl_D1s7With9.npy\n",
      "saved /oasis/projects/nsf/csd395/yuncong/DavidData2014results/RS141/0007/RS141_x5_0007_gabor-blueNisslWide-segm-blueNisslRegular-vq-blueNissl_D2s7With9.npy\n",
      "saved /oasis/projects/nsf/csd395/yuncong/DavidData2014results/RS141/0007/RS141_x5_0007_gabor-blueNisslWide-segm-blueNisslRegular-vq-blueNissl_D3s7With9.npy\n"
     ]
    },
    {
     "name": "stderr",
     "output_type": "stream",
     "text": [
      "7,9\n"
     ]
    },
    {
     "name": "stdout",
     "output_type": "stream",
     "text": [
      "saved /oasis/projects/nsf/csd395/yuncong/DavidData2014results/RS141/0007/RS141_x5_0007_gabor-blueNisslWide-segm-blueNisslRegular-vq-blueNissl_DBoundaries7With10.npy\n",
      "saved /oasis/projects/nsf/csd395/yuncong/DavidData2014results/RS141/0007/RS141_x5_0007_gabor-blueNisslWide-segm-blueNisslRegular-vq-blueNissl_D1s7With10.npy\n",
      "saved /oasis/projects/nsf/csd395/yuncong/DavidData2014results/RS141/0007/RS141_x5_0007_gabor-blueNisslWide-segm-blueNisslRegular-vq-blueNissl_D2s7With10.npy\n",
      "saved /oasis/projects/nsf/csd395/yuncong/DavidData2014results/RS141/0007/RS141_x5_0007_gabor-blueNisslWide-segm-blueNisslRegular-vq-blueNissl_D3s7With10.npy\n"
     ]
    },
    {
     "name": "stderr",
     "output_type": "stream",
     "text": [
      "7,10\n"
     ]
    },
    {
     "name": "stdout",
     "output_type": "stream",
     "text": [
      "saved /oasis/projects/nsf/csd395/yuncong/DavidData2014results/RS141/0008/RS141_x5_0008_gabor-blueNisslWide-segm-blueNisslRegular-vq-blueNissl_DBoundaries8With9.npy\n",
      "saved /oasis/projects/nsf/csd395/yuncong/DavidData2014results/RS141/0008/RS141_x5_0008_gabor-blueNisslWide-segm-blueNisslRegular-vq-blueNissl_D1s8With9.npy\n",
      "saved /oasis/projects/nsf/csd395/yuncong/DavidData2014results/RS141/0008/RS141_x5_0008_gabor-blueNisslWide-segm-blueNisslRegular-vq-blueNissl_D2s8With9.npy\n",
      "saved /oasis/projects/nsf/csd395/yuncong/DavidData2014results/RS141/0008/RS141_x5_0008_gabor-blueNisslWide-segm-blueNisslRegular-vq-blueNissl_D3s8With9.npy\n"
     ]
    },
    {
     "name": "stderr",
     "output_type": "stream",
     "text": [
      "8,9\n"
     ]
    },
    {
     "name": "stdout",
     "output_type": "stream",
     "text": [
      "saved /oasis/projects/nsf/csd395/yuncong/DavidData2014results/RS141/0008/RS141_x5_0008_gabor-blueNisslWide-segm-blueNisslRegular-vq-blueNissl_DBoundaries8With10.npy\n",
      "saved /oasis/projects/nsf/csd395/yuncong/DavidData2014results/RS141/0008/RS141_x5_0008_gabor-blueNisslWide-segm-blueNisslRegular-vq-blueNissl_D1s8With10.npy\n",
      "saved /oasis/projects/nsf/csd395/yuncong/DavidData2014results/RS141/0008/RS141_x5_0008_gabor-blueNisslWide-segm-blueNisslRegular-vq-blueNissl_D2s8With10.npy\n",
      "saved /oasis/projects/nsf/csd395/yuncong/DavidData2014results/RS141/0008/RS141_x5_0008_gabor-blueNisslWide-segm-blueNisslRegular-vq-blueNissl_D3s8With10.npy\n"
     ]
    },
    {
     "name": "stderr",
     "output_type": "stream",
     "text": [
      "8,10\n"
     ]
    },
    {
     "name": "stdout",
     "output_type": "stream",
     "text": [
      "saved /oasis/projects/nsf/csd395/yuncong/DavidData2014results/RS141/0008/RS141_x5_0008_gabor-blueNisslWide-segm-blueNisslRegular-vq-blueNissl_DBoundaries8With11.npy\n",
      "saved /oasis/projects/nsf/csd395/yuncong/DavidData2014results/RS141/0008/RS141_x5_0008_gabor-blueNisslWide-segm-blueNisslRegular-vq-blueNissl_D1s8With11.npy\n",
      "saved /oasis/projects/nsf/csd395/yuncong/DavidData2014results/RS141/0008/RS141_x5_0008_gabor-blueNisslWide-segm-blueNisslRegular-vq-blueNissl_D2s8With11.npy\n",
      "saved /oasis/projects/nsf/csd395/yuncong/DavidData2014results/RS141/0008/RS141_x5_0008_gabor-blueNisslWide-segm-blueNisslRegular-vq-blueNissl_D3s8With11.npy\n"
     ]
    },
    {
     "name": "stderr",
     "output_type": "stream",
     "text": [
      "8,11\n"
     ]
    },
    {
     "name": "stdout",
     "output_type": "stream",
     "text": [
      "saved /oasis/projects/nsf/csd395/yuncong/DavidData2014results/RS141/0009/RS141_x5_0009_gabor-blueNisslWide-segm-blueNisslRegular-vq-blueNissl_DBoundaries9With10.npy\n",
      "saved /oasis/projects/nsf/csd395/yuncong/DavidData2014results/RS141/0009/RS141_x5_0009_gabor-blueNisslWide-segm-blueNisslRegular-vq-blueNissl_D1s9With10.npy\n",
      "saved /oasis/projects/nsf/csd395/yuncong/DavidData2014results/RS141/0009/RS141_x5_0009_gabor-blueNisslWide-segm-blueNisslRegular-vq-blueNissl_D2s9With10.npy\n",
      "saved /oasis/projects/nsf/csd395/yuncong/DavidData2014results/RS141/0009/RS141_x5_0009_gabor-blueNisslWide-segm-blueNisslRegular-vq-blueNissl_D3s9With10.npy\n"
     ]
    },
    {
     "name": "stderr",
     "output_type": "stream",
     "text": [
      "9,10\n"
     ]
    },
    {
     "name": "stdout",
     "output_type": "stream",
     "text": [
      "saved /oasis/projects/nsf/csd395/yuncong/DavidData2014results/RS141/0009/RS141_x5_0009_gabor-blueNisslWide-segm-blueNisslRegular-vq-blueNissl_DBoundaries9With11.npy\n",
      "saved /oasis/projects/nsf/csd395/yuncong/DavidData2014results/RS141/0009/RS141_x5_0009_gabor-blueNisslWide-segm-blueNisslRegular-vq-blueNissl_D1s9With11.npy\n",
      "saved /oasis/projects/nsf/csd395/yuncong/DavidData2014results/RS141/0009/RS141_x5_0009_gabor-blueNisslWide-segm-blueNisslRegular-vq-blueNissl_D2s9With11.npy\n",
      "saved /oasis/projects/nsf/csd395/yuncong/DavidData2014results/RS141/0009/RS141_x5_0009_gabor-blueNisslWide-segm-blueNisslRegular-vq-blueNissl_D3s9With11.npy\n"
     ]
    },
    {
     "name": "stderr",
     "output_type": "stream",
     "text": [
      "9,11\n"
     ]
    },
    {
     "name": "stdout",
     "output_type": "stream",
     "text": [
      "saved /oasis/projects/nsf/csd395/yuncong/DavidData2014results/RS141/0009/RS141_x5_0009_gabor-blueNisslWide-segm-blueNisslRegular-vq-blueNissl_DBoundaries9With12.npy\n",
      "saved /oasis/projects/nsf/csd395/yuncong/DavidData2014results/RS141/0009/RS141_x5_0009_gabor-blueNisslWide-segm-blueNisslRegular-vq-blueNissl_D1s9With12.npy\n",
      "saved /oasis/projects/nsf/csd395/yuncong/DavidData2014results/RS141/0009/RS141_x5_0009_gabor-blueNisslWide-segm-blueNisslRegular-vq-blueNissl_D2s9With12.npy\n",
      "saved /oasis/projects/nsf/csd395/yuncong/DavidData2014results/RS141/0009/RS141_x5_0009_gabor-blueNisslWide-segm-blueNisslRegular-vq-blueNissl_D3s9With12.npy\n"
     ]
    },
    {
     "name": "stderr",
     "output_type": "stream",
     "text": [
      "9,12\n"
     ]
    },
    {
     "name": "stdout",
     "output_type": "stream",
     "text": [
      "saved /oasis/projects/nsf/csd395/yuncong/DavidData2014results/RS141/0010/RS141_x5_0010_gabor-blueNisslWide-segm-blueNisslRegular-vq-blueNissl_DBoundaries10With11.npy\n",
      "saved /oasis/projects/nsf/csd395/yuncong/DavidData2014results/RS141/0010/RS141_x5_0010_gabor-blueNisslWide-segm-blueNisslRegular-vq-blueNissl_D1s10With11.npy\n",
      "saved /oasis/projects/nsf/csd395/yuncong/DavidData2014results/RS141/0010/RS141_x5_0010_gabor-blueNisslWide-segm-blueNisslRegular-vq-blueNissl_D2s10With11.npy\n",
      "saved /oasis/projects/nsf/csd395/yuncong/DavidData2014results/RS141/0010/RS141_x5_0010_gabor-blueNisslWide-segm-blueNisslRegular-vq-blueNissl_D3s10With11.npy\n"
     ]
    },
    {
     "name": "stderr",
     "output_type": "stream",
     "text": [
      "10,11\n"
     ]
    },
    {
     "name": "stdout",
     "output_type": "stream",
     "text": [
      "saved /oasis/projects/nsf/csd395/yuncong/DavidData2014results/RS141/0010/RS141_x5_0010_gabor-blueNisslWide-segm-blueNisslRegular-vq-blueNissl_DBoundaries10With12.npy\n",
      "saved /oasis/projects/nsf/csd395/yuncong/DavidData2014results/RS141/0010/RS141_x5_0010_gabor-blueNisslWide-segm-blueNisslRegular-vq-blueNissl_D1s10With12.npy\n",
      "saved /oasis/projects/nsf/csd395/yuncong/DavidData2014results/RS141/0010/RS141_x5_0010_gabor-blueNisslWide-segm-blueNisslRegular-vq-blueNissl_D2s10With12.npy\n",
      "saved /oasis/projects/nsf/csd395/yuncong/DavidData2014results/RS141/0010/RS141_x5_0010_gabor-blueNisslWide-segm-blueNisslRegular-vq-blueNissl_D3s10With12.npy\n"
     ]
    },
    {
     "name": "stderr",
     "output_type": "stream",
     "text": [
      "10,12\n"
     ]
    },
    {
     "name": "stdout",
     "output_type": "stream",
     "text": [
      "saved /oasis/projects/nsf/csd395/yuncong/DavidData2014results/RS141/0010/RS141_x5_0010_gabor-blueNisslWide-segm-blueNisslRegular-vq-blueNissl_DBoundaries10With13.npy\n",
      "saved /oasis/projects/nsf/csd395/yuncong/DavidData2014results/RS141/0010/RS141_x5_0010_gabor-blueNisslWide-segm-blueNisslRegular-vq-blueNissl_D1s10With13.npy\n",
      "saved /oasis/projects/nsf/csd395/yuncong/DavidData2014results/RS141/0010/RS141_x5_0010_gabor-blueNisslWide-segm-blueNisslRegular-vq-blueNissl_D2s10With13.npy\n",
      "saved /oasis/projects/nsf/csd395/yuncong/DavidData2014results/RS141/0010/RS141_x5_0010_gabor-blueNisslWide-segm-blueNisslRegular-vq-blueNissl_D3s10With13.npy\n"
     ]
    },
    {
     "name": "stderr",
     "output_type": "stream",
     "text": [
      "10,13\n"
     ]
    },
    {
     "name": "stdout",
     "output_type": "stream",
     "text": [
      "saved /oasis/projects/nsf/csd395/yuncong/DavidData2014results/RS141/0011/RS141_x5_0011_gabor-blueNisslWide-segm-blueNisslRegular-vq-blueNissl_DBoundaries11With12.npy\n",
      "saved /oasis/projects/nsf/csd395/yuncong/DavidData2014results/RS141/0011/RS141_x5_0011_gabor-blueNisslWide-segm-blueNisslRegular-vq-blueNissl_D1s11With12.npy\n",
      "saved /oasis/projects/nsf/csd395/yuncong/DavidData2014results/RS141/0011/RS141_x5_0011_gabor-blueNisslWide-segm-blueNisslRegular-vq-blueNissl_D2s11With12.npy\n",
      "saved /oasis/projects/nsf/csd395/yuncong/DavidData2014results/RS141/0011/RS141_x5_0011_gabor-blueNisslWide-segm-blueNisslRegular-vq-blueNissl_D3s11With12.npy\n"
     ]
    },
    {
     "name": "stderr",
     "output_type": "stream",
     "text": [
      "11,12\n"
     ]
    },
    {
     "name": "stdout",
     "output_type": "stream",
     "text": [
      "saved /oasis/projects/nsf/csd395/yuncong/DavidData2014results/RS141/0011/RS141_x5_0011_gabor-blueNisslWide-segm-blueNisslRegular-vq-blueNissl_DBoundaries11With13.npy\n",
      "saved /oasis/projects/nsf/csd395/yuncong/DavidData2014results/RS141/0011/RS141_x5_0011_gabor-blueNisslWide-segm-blueNisslRegular-vq-blueNissl_D1s11With13.npy\n",
      "saved /oasis/projects/nsf/csd395/yuncong/DavidData2014results/RS141/0011/RS141_x5_0011_gabor-blueNisslWide-segm-blueNisslRegular-vq-blueNissl_D2s11With13.npy\n",
      "saved /oasis/projects/nsf/csd395/yuncong/DavidData2014results/RS141/0011/RS141_x5_0011_gabor-blueNisslWide-segm-blueNisslRegular-vq-blueNissl_D3s11With13.npy\n"
     ]
    },
    {
     "name": "stderr",
     "output_type": "stream",
     "text": [
      "11,13\n"
     ]
    },
    {
     "name": "stdout",
     "output_type": "stream",
     "text": [
      "saved /oasis/projects/nsf/csd395/yuncong/DavidData2014results/RS141/0011/RS141_x5_0011_gabor-blueNisslWide-segm-blueNisslRegular-vq-blueNissl_DBoundaries11With14.npy\n",
      "saved /oasis/projects/nsf/csd395/yuncong/DavidData2014results/RS141/0011/RS141_x5_0011_gabor-blueNisslWide-segm-blueNisslRegular-vq-blueNissl_D1s11With14.npy\n",
      "saved /oasis/projects/nsf/csd395/yuncong/DavidData2014results/RS141/0011/RS141_x5_0011_gabor-blueNisslWide-segm-blueNisslRegular-vq-blueNissl_D2s11With14.npy\n",
      "saved /oasis/projects/nsf/csd395/yuncong/DavidData2014results/RS141/0011/RS141_x5_0011_gabor-blueNisslWide-segm-blueNisslRegular-vq-blueNissl_D3s11With14.npy\n"
     ]
    },
    {
     "name": "stderr",
     "output_type": "stream",
     "text": [
      "11,14\n"
     ]
    },
    {
     "name": "stdout",
     "output_type": "stream",
     "text": [
      "saved /oasis/projects/nsf/csd395/yuncong/DavidData2014results/RS141/0012/RS141_x5_0012_gabor-blueNisslWide-segm-blueNisslRegular-vq-blueNissl_DBoundaries12With13.npy\n",
      "saved /oasis/projects/nsf/csd395/yuncong/DavidData2014results/RS141/0012/RS141_x5_0012_gabor-blueNisslWide-segm-blueNisslRegular-vq-blueNissl_D1s12With13.npy\n",
      "saved /oasis/projects/nsf/csd395/yuncong/DavidData2014results/RS141/0012/RS141_x5_0012_gabor-blueNisslWide-segm-blueNisslRegular-vq-blueNissl_D2s12With13.npy\n",
      "saved /oasis/projects/nsf/csd395/yuncong/DavidData2014results/RS141/0012/RS141_x5_0012_gabor-blueNisslWide-segm-blueNisslRegular-vq-blueNissl_D3s12With13.npy\n"
     ]
    },
    {
     "name": "stderr",
     "output_type": "stream",
     "text": [
      "12,13\n"
     ]
    },
    {
     "name": "stdout",
     "output_type": "stream",
     "text": [
      "saved /oasis/projects/nsf/csd395/yuncong/DavidData2014results/RS141/0012/RS141_x5_0012_gabor-blueNisslWide-segm-blueNisslRegular-vq-blueNissl_DBoundaries12With14.npy\n",
      "saved /oasis/projects/nsf/csd395/yuncong/DavidData2014results/RS141/0012/RS141_x5_0012_gabor-blueNisslWide-segm-blueNisslRegular-vq-blueNissl_D1s12With14.npy\n",
      "saved /oasis/projects/nsf/csd395/yuncong/DavidData2014results/RS141/0012/RS141_x5_0012_gabor-blueNisslWide-segm-blueNisslRegular-vq-blueNissl_D2s12With14.npy\n",
      "saved /oasis/projects/nsf/csd395/yuncong/DavidData2014results/RS141/0012/RS141_x5_0012_gabor-blueNisslWide-segm-blueNisslRegular-vq-blueNissl_D3s12With14.npy\n"
     ]
    },
    {
     "name": "stderr",
     "output_type": "stream",
     "text": [
      "12,14\n"
     ]
    },
    {
     "name": "stdout",
     "output_type": "stream",
     "text": [
      "saved /oasis/projects/nsf/csd395/yuncong/DavidData2014results/RS141/0012/RS141_x5_0012_gabor-blueNisslWide-segm-blueNisslRegular-vq-blueNissl_DBoundaries12With15.npy\n",
      "saved /oasis/projects/nsf/csd395/yuncong/DavidData2014results/RS141/0012/RS141_x5_0012_gabor-blueNisslWide-segm-blueNisslRegular-vq-blueNissl_D1s12With15.npy\n",
      "saved /oasis/projects/nsf/csd395/yuncong/DavidData2014results/RS141/0012/RS141_x5_0012_gabor-blueNisslWide-segm-blueNisslRegular-vq-blueNissl_D2s12With15.npy\n",
      "saved /oasis/projects/nsf/csd395/yuncong/DavidData2014results/RS141/0012/RS141_x5_0012_gabor-blueNisslWide-segm-blueNisslRegular-vq-blueNissl_D3s12With15.npy\n"
     ]
    },
    {
     "name": "stderr",
     "output_type": "stream",
     "text": [
      "12,15\n"
     ]
    },
    {
     "name": "stdout",
     "output_type": "stream",
     "text": [
      "saved /oasis/projects/nsf/csd395/yuncong/DavidData2014results/RS141/0013/RS141_x5_0013_gabor-blueNisslWide-segm-blueNisslRegular-vq-blueNissl_DBoundaries13With14.npy\n",
      "saved /oasis/projects/nsf/csd395/yuncong/DavidData2014results/RS141/0013/RS141_x5_0013_gabor-blueNisslWide-segm-blueNisslRegular-vq-blueNissl_D1s13With14.npy\n",
      "saved /oasis/projects/nsf/csd395/yuncong/DavidData2014results/RS141/0013/RS141_x5_0013_gabor-blueNisslWide-segm-blueNisslRegular-vq-blueNissl_D2s13With14.npy\n",
      "saved /oasis/projects/nsf/csd395/yuncong/DavidData2014results/RS141/0013/RS141_x5_0013_gabor-blueNisslWide-segm-blueNisslRegular-vq-blueNissl_D3s13With14.npy\n"
     ]
    },
    {
     "name": "stderr",
     "output_type": "stream",
     "text": [
      "13,14\n"
     ]
    },
    {
     "name": "stdout",
     "output_type": "stream",
     "text": [
      "saved /oasis/projects/nsf/csd395/yuncong/DavidData2014results/RS141/0013/RS141_x5_0013_gabor-blueNisslWide-segm-blueNisslRegular-vq-blueNissl_DBoundaries13With15.npy\n",
      "saved /oasis/projects/nsf/csd395/yuncong/DavidData2014results/RS141/0013/RS141_x5_0013_gabor-blueNisslWide-segm-blueNisslRegular-vq-blueNissl_D1s13With15.npy\n",
      "saved /oasis/projects/nsf/csd395/yuncong/DavidData2014results/RS141/0013/RS141_x5_0013_gabor-blueNisslWide-segm-blueNisslRegular-vq-blueNissl_D2s13With15.npy\n",
      "saved /oasis/projects/nsf/csd395/yuncong/DavidData2014results/RS141/0013/RS141_x5_0013_gabor-blueNisslWide-segm-blueNisslRegular-vq-blueNissl_D3s13With15.npy\n"
     ]
    },
    {
     "name": "stderr",
     "output_type": "stream",
     "text": [
      "13,15\n"
     ]
    },
    {
     "name": "stdout",
     "output_type": "stream",
     "text": [
      "saved /oasis/projects/nsf/csd395/yuncong/DavidData2014results/RS141/0013/RS141_x5_0013_gabor-blueNisslWide-segm-blueNisslRegular-vq-blueNissl_DBoundaries13With16.npy\n",
      "saved /oasis/projects/nsf/csd395/yuncong/DavidData2014results/RS141/0013/RS141_x5_0013_gabor-blueNisslWide-segm-blueNisslRegular-vq-blueNissl_D1s13With16.npy\n",
      "saved /oasis/projects/nsf/csd395/yuncong/DavidData2014results/RS141/0013/RS141_x5_0013_gabor-blueNisslWide-segm-blueNisslRegular-vq-blueNissl_D2s13With16.npy\n",
      "saved /oasis/projects/nsf/csd395/yuncong/DavidData2014results/RS141/0013/RS141_x5_0013_gabor-blueNisslWide-segm-blueNisslRegular-vq-blueNissl_D3s13With16.npy\n"
     ]
    },
    {
     "name": "stderr",
     "output_type": "stream",
     "text": [
      "13,16\n"
     ]
    },
    {
     "name": "stdout",
     "output_type": "stream",
     "text": [
      "saved /oasis/projects/nsf/csd395/yuncong/DavidData2014results/RS141/0014/RS141_x5_0014_gabor-blueNisslWide-segm-blueNisslRegular-vq-blueNissl_DBoundaries14With15.npy\n",
      "saved /oasis/projects/nsf/csd395/yuncong/DavidData2014results/RS141/0014/RS141_x5_0014_gabor-blueNisslWide-segm-blueNisslRegular-vq-blueNissl_D1s14With15.npy\n",
      "saved /oasis/projects/nsf/csd395/yuncong/DavidData2014results/RS141/0014/RS141_x5_0014_gabor-blueNisslWide-segm-blueNisslRegular-vq-blueNissl_D2s14With15.npy\n",
      "saved /oasis/projects/nsf/csd395/yuncong/DavidData2014results/RS141/0014/RS141_x5_0014_gabor-blueNisslWide-segm-blueNisslRegular-vq-blueNissl_D3s14With15.npy\n"
     ]
    },
    {
     "name": "stderr",
     "output_type": "stream",
     "text": [
      "14,15\n"
     ]
    },
    {
     "name": "stdout",
     "output_type": "stream",
     "text": [
      "saved /oasis/projects/nsf/csd395/yuncong/DavidData2014results/RS141/0014/RS141_x5_0014_gabor-blueNisslWide-segm-blueNisslRegular-vq-blueNissl_DBoundaries14With16.npy\n",
      "saved /oasis/projects/nsf/csd395/yuncong/DavidData2014results/RS141/0014/RS141_x5_0014_gabor-blueNisslWide-segm-blueNisslRegular-vq-blueNissl_D1s14With16.npy\n",
      "saved /oasis/projects/nsf/csd395/yuncong/DavidData2014results/RS141/0014/RS141_x5_0014_gabor-blueNisslWide-segm-blueNisslRegular-vq-blueNissl_D2s14With16.npy\n",
      "saved /oasis/projects/nsf/csd395/yuncong/DavidData2014results/RS141/0014/RS141_x5_0014_gabor-blueNisslWide-segm-blueNisslRegular-vq-blueNissl_D3s14With16.npy\n"
     ]
    },
    {
     "name": "stderr",
     "output_type": "stream",
     "text": [
      "14,16\n"
     ]
    },
    {
     "name": "stdout",
     "output_type": "stream",
     "text": [
      "saved /oasis/projects/nsf/csd395/yuncong/DavidData2014results/RS141/0014/RS141_x5_0014_gabor-blueNisslWide-segm-blueNisslRegular-vq-blueNissl_DBoundaries14With17.npy\n",
      "saved /oasis/projects/nsf/csd395/yuncong/DavidData2014results/RS141/0014/RS141_x5_0014_gabor-blueNisslWide-segm-blueNisslRegular-vq-blueNissl_D1s14With17.npy\n",
      "saved /oasis/projects/nsf/csd395/yuncong/DavidData2014results/RS141/0014/RS141_x5_0014_gabor-blueNisslWide-segm-blueNisslRegular-vq-blueNissl_D2s14With17.npy\n",
      "saved /oasis/projects/nsf/csd395/yuncong/DavidData2014results/RS141/0014/RS141_x5_0014_gabor-blueNisslWide-segm-blueNisslRegular-vq-blueNissl_D3s14With17.npy\n"
     ]
    },
    {
     "name": "stderr",
     "output_type": "stream",
     "text": [
      "14,17\n"
     ]
    },
    {
     "name": "stdout",
     "output_type": "stream",
     "text": [
      "saved /oasis/projects/nsf/csd395/yuncong/DavidData2014results/RS141/0015/RS141_x5_0015_gabor-blueNisslWide-segm-blueNisslRegular-vq-blueNissl_DBoundaries15With16.npy\n",
      "saved /oasis/projects/nsf/csd395/yuncong/DavidData2014results/RS141/0015/RS141_x5_0015_gabor-blueNisslWide-segm-blueNisslRegular-vq-blueNissl_D1s15With16.npy\n",
      "saved /oasis/projects/nsf/csd395/yuncong/DavidData2014results/RS141/0015/RS141_x5_0015_gabor-blueNisslWide-segm-blueNisslRegular-vq-blueNissl_D2s15With16.npy\n",
      "saved /oasis/projects/nsf/csd395/yuncong/DavidData2014results/RS141/0015/RS141_x5_0015_gabor-blueNisslWide-segm-blueNisslRegular-vq-blueNissl_D3s15With16.npy\n"
     ]
    },
    {
     "name": "stderr",
     "output_type": "stream",
     "text": [
      "15,16\n"
     ]
    },
    {
     "name": "stdout",
     "output_type": "stream",
     "text": [
      "saved /oasis/projects/nsf/csd395/yuncong/DavidData2014results/RS141/0015/RS141_x5_0015_gabor-blueNisslWide-segm-blueNisslRegular-vq-blueNissl_DBoundaries15With17.npy\n",
      "saved /oasis/projects/nsf/csd395/yuncong/DavidData2014results/RS141/0015/RS141_x5_0015_gabor-blueNisslWide-segm-blueNisslRegular-vq-blueNissl_D1s15With17.npy\n",
      "saved /oasis/projects/nsf/csd395/yuncong/DavidData2014results/RS141/0015/RS141_x5_0015_gabor-blueNisslWide-segm-blueNisslRegular-vq-blueNissl_D2s15With17.npy\n",
      "saved /oasis/projects/nsf/csd395/yuncong/DavidData2014results/RS141/0015/RS141_x5_0015_gabor-blueNisslWide-segm-blueNisslRegular-vq-blueNissl_D3s15With17.npy\n"
     ]
    },
    {
     "name": "stderr",
     "output_type": "stream",
     "text": [
      "15,17\n"
     ]
    },
    {
     "name": "stdout",
     "output_type": "stream",
     "text": [
      "saved /oasis/projects/nsf/csd395/yuncong/DavidData2014results/RS141/0015/RS141_x5_0015_gabor-blueNisslWide-segm-blueNisslRegular-vq-blueNissl_DBoundaries15With18.npy\n",
      "saved /oasis/projects/nsf/csd395/yuncong/DavidData2014results/RS141/0015/RS141_x5_0015_gabor-blueNisslWide-segm-blueNisslRegular-vq-blueNissl_D1s15With18.npy\n",
      "saved /oasis/projects/nsf/csd395/yuncong/DavidData2014results/RS141/0015/RS141_x5_0015_gabor-blueNisslWide-segm-blueNisslRegular-vq-blueNissl_D2s15With18.npy\n",
      "saved /oasis/projects/nsf/csd395/yuncong/DavidData2014results/RS141/0015/RS141_x5_0015_gabor-blueNisslWide-segm-blueNisslRegular-vq-blueNissl_D3s15With18.npy\n"
     ]
    },
    {
     "name": "stderr",
     "output_type": "stream",
     "text": [
      "15,18\n"
     ]
    },
    {
     "name": "stdout",
     "output_type": "stream",
     "text": [
      "saved /oasis/projects/nsf/csd395/yuncong/DavidData2014results/RS141/0016/RS141_x5_0016_gabor-blueNisslWide-segm-blueNisslRegular-vq-blueNissl_DBoundaries16With17.npy\n",
      "saved /oasis/projects/nsf/csd395/yuncong/DavidData2014results/RS141/0016/RS141_x5_0016_gabor-blueNisslWide-segm-blueNisslRegular-vq-blueNissl_D1s16With17.npy\n",
      "saved /oasis/projects/nsf/csd395/yuncong/DavidData2014results/RS141/0016/RS141_x5_0016_gabor-blueNisslWide-segm-blueNisslRegular-vq-blueNissl_D2s16With17.npy\n",
      "saved /oasis/projects/nsf/csd395/yuncong/DavidData2014results/RS141/0016/RS141_x5_0016_gabor-blueNisslWide-segm-blueNisslRegular-vq-blueNissl_D3s16With17.npy\n"
     ]
    },
    {
     "name": "stderr",
     "output_type": "stream",
     "text": [
      "16,17\n"
     ]
    },
    {
     "name": "stdout",
     "output_type": "stream",
     "text": [
      "saved /oasis/projects/nsf/csd395/yuncong/DavidData2014results/RS141/0016/RS141_x5_0016_gabor-blueNisslWide-segm-blueNisslRegular-vq-blueNissl_DBoundaries16With18.npy\n",
      "saved /oasis/projects/nsf/csd395/yuncong/DavidData2014results/RS141/0016/RS141_x5_0016_gabor-blueNisslWide-segm-blueNisslRegular-vq-blueNissl_D1s16With18.npy\n",
      "saved /oasis/projects/nsf/csd395/yuncong/DavidData2014results/RS141/0016/RS141_x5_0016_gabor-blueNisslWide-segm-blueNisslRegular-vq-blueNissl_D2s16With18.npy\n",
      "saved /oasis/projects/nsf/csd395/yuncong/DavidData2014results/RS141/0016/RS141_x5_0016_gabor-blueNisslWide-segm-blueNisslRegular-vq-blueNissl_D3s16With18.npy\n"
     ]
    },
    {
     "name": "stderr",
     "output_type": "stream",
     "text": [
      "16,18\n"
     ]
    },
    {
     "name": "stdout",
     "output_type": "stream",
     "text": [
      "saved /oasis/projects/nsf/csd395/yuncong/DavidData2014results/RS141/0016/RS141_x5_0016_gabor-blueNisslWide-segm-blueNisslRegular-vq-blueNissl_DBoundaries16With19.npy\n",
      "saved /oasis/projects/nsf/csd395/yuncong/DavidData2014results/RS141/0016/RS141_x5_0016_gabor-blueNisslWide-segm-blueNisslRegular-vq-blueNissl_D1s16With19.npy\n",
      "saved /oasis/projects/nsf/csd395/yuncong/DavidData2014results/RS141/0016/RS141_x5_0016_gabor-blueNisslWide-segm-blueNisslRegular-vq-blueNissl_D2s16With19.npy\n",
      "saved /oasis/projects/nsf/csd395/yuncong/DavidData2014results/RS141/0016/RS141_x5_0016_gabor-blueNisslWide-segm-blueNisslRegular-vq-blueNissl_D3s16With19.npy\n"
     ]
    },
    {
     "name": "stderr",
     "output_type": "stream",
     "text": [
      "16,19\n"
     ]
    },
    {
     "name": "stdout",
     "output_type": "stream",
     "text": [
      "saved /oasis/projects/nsf/csd395/yuncong/DavidData2014results/RS141/0017/RS141_x5_0017_gabor-blueNisslWide-segm-blueNisslRegular-vq-blueNissl_DBoundaries17With18.npy\n",
      "saved /oasis/projects/nsf/csd395/yuncong/DavidData2014results/RS141/0017/RS141_x5_0017_gabor-blueNisslWide-segm-blueNisslRegular-vq-blueNissl_D1s17With18.npy\n",
      "saved /oasis/projects/nsf/csd395/yuncong/DavidData2014results/RS141/0017/RS141_x5_0017_gabor-blueNisslWide-segm-blueNisslRegular-vq-blueNissl_D2s17With18.npy\n",
      "saved /oasis/projects/nsf/csd395/yuncong/DavidData2014results/RS141/0017/RS141_x5_0017_gabor-blueNisslWide-segm-blueNisslRegular-vq-blueNissl_D3s17With18.npy\n"
     ]
    },
    {
     "name": "stderr",
     "output_type": "stream",
     "text": [
      "17,18\n"
     ]
    },
    {
     "name": "stdout",
     "output_type": "stream",
     "text": [
      "saved /oasis/projects/nsf/csd395/yuncong/DavidData2014results/RS141/0017/RS141_x5_0017_gabor-blueNisslWide-segm-blueNisslRegular-vq-blueNissl_DBoundaries17With19.npy\n",
      "saved /oasis/projects/nsf/csd395/yuncong/DavidData2014results/RS141/0017/RS141_x5_0017_gabor-blueNisslWide-segm-blueNisslRegular-vq-blueNissl_D1s17With19.npy\n",
      "saved /oasis/projects/nsf/csd395/yuncong/DavidData2014results/RS141/0017/RS141_x5_0017_gabor-blueNisslWide-segm-blueNisslRegular-vq-blueNissl_D2s17With19.npy\n",
      "saved /oasis/projects/nsf/csd395/yuncong/DavidData2014results/RS141/0017/RS141_x5_0017_gabor-blueNisslWide-segm-blueNisslRegular-vq-blueNissl_D3s17With19.npy\n"
     ]
    },
    {
     "name": "stderr",
     "output_type": "stream",
     "text": [
      "17,19\n"
     ]
    },
    {
     "name": "stdout",
     "output_type": "stream",
     "text": [
      "saved /oasis/projects/nsf/csd395/yuncong/DavidData2014results/RS141/0017/RS141_x5_0017_gabor-blueNisslWide-segm-blueNisslRegular-vq-blueNissl_DBoundaries17With20.npy\n",
      "saved /oasis/projects/nsf/csd395/yuncong/DavidData2014results/RS141/0017/RS141_x5_0017_gabor-blueNisslWide-segm-blueNisslRegular-vq-blueNissl_D1s17With20.npy\n",
      "saved /oasis/projects/nsf/csd395/yuncong/DavidData2014results/RS141/0017/RS141_x5_0017_gabor-blueNisslWide-segm-blueNisslRegular-vq-blueNissl_D2s17With20.npy\n",
      "saved /oasis/projects/nsf/csd395/yuncong/DavidData2014results/RS141/0017/RS141_x5_0017_gabor-blueNisslWide-segm-blueNisslRegular-vq-blueNissl_D3s17With20.npy\n"
     ]
    },
    {
     "name": "stderr",
     "output_type": "stream",
     "text": [
      "17,20\n"
     ]
    },
    {
     "name": "stdout",
     "output_type": "stream",
     "text": [
      "saved /oasis/projects/nsf/csd395/yuncong/DavidData2014results/RS141/0018/RS141_x5_0018_gabor-blueNisslWide-segm-blueNisslRegular-vq-blueNissl_DBoundaries18With19.npy\n",
      "saved /oasis/projects/nsf/csd395/yuncong/DavidData2014results/RS141/0018/RS141_x5_0018_gabor-blueNisslWide-segm-blueNisslRegular-vq-blueNissl_D1s18With19.npy\n",
      "saved /oasis/projects/nsf/csd395/yuncong/DavidData2014results/RS141/0018/RS141_x5_0018_gabor-blueNisslWide-segm-blueNisslRegular-vq-blueNissl_D2s18With19.npy\n",
      "saved /oasis/projects/nsf/csd395/yuncong/DavidData2014results/RS141/0018/RS141_x5_0018_gabor-blueNisslWide-segm-blueNisslRegular-vq-blueNissl_D3s18With19.npy\n"
     ]
    },
    {
     "name": "stderr",
     "output_type": "stream",
     "text": [
      "18,19\n"
     ]
    },
    {
     "name": "stdout",
     "output_type": "stream",
     "text": [
      "saved /oasis/projects/nsf/csd395/yuncong/DavidData2014results/RS141/0018/RS141_x5_0018_gabor-blueNisslWide-segm-blueNisslRegular-vq-blueNissl_DBoundaries18With20.npy\n",
      "saved /oasis/projects/nsf/csd395/yuncong/DavidData2014results/RS141/0018/RS141_x5_0018_gabor-blueNisslWide-segm-blueNisslRegular-vq-blueNissl_D1s18With20.npy\n",
      "saved /oasis/projects/nsf/csd395/yuncong/DavidData2014results/RS141/0018/RS141_x5_0018_gabor-blueNisslWide-segm-blueNisslRegular-vq-blueNissl_D2s18With20.npy\n",
      "saved /oasis/projects/nsf/csd395/yuncong/DavidData2014results/RS141/0018/RS141_x5_0018_gabor-blueNisslWide-segm-blueNisslRegular-vq-blueNissl_D3s18With20.npy\n"
     ]
    },
    {
     "name": "stderr",
     "output_type": "stream",
     "text": [
      "18,20\n"
     ]
    },
    {
     "name": "stdout",
     "output_type": "stream",
     "text": [
      "saved /oasis/projects/nsf/csd395/yuncong/DavidData2014results/RS141/0018/RS141_x5_0018_gabor-blueNisslWide-segm-blueNisslRegular-vq-blueNissl_DBoundaries18With21.npy\n",
      "saved /oasis/projects/nsf/csd395/yuncong/DavidData2014results/RS141/0018/RS141_x5_0018_gabor-blueNisslWide-segm-blueNisslRegular-vq-blueNissl_D1s18With21.npy\n",
      "saved /oasis/projects/nsf/csd395/yuncong/DavidData2014results/RS141/0018/RS141_x5_0018_gabor-blueNisslWide-segm-blueNisslRegular-vq-blueNissl_D2s18With21.npy\n",
      "saved /oasis/projects/nsf/csd395/yuncong/DavidData2014results/RS141/0018/RS141_x5_0018_gabor-blueNisslWide-segm-blueNisslRegular-vq-blueNissl_D3s18With21.npy\n"
     ]
    },
    {
     "name": "stderr",
     "output_type": "stream",
     "text": [
      "18,21\n"
     ]
    },
    {
     "name": "stdout",
     "output_type": "stream",
     "text": [
      "saved /oasis/projects/nsf/csd395/yuncong/DavidData2014results/RS141/0019/RS141_x5_0019_gabor-blueNisslWide-segm-blueNisslRegular-vq-blueNissl_DBoundaries19With20.npy\n",
      "saved /oasis/projects/nsf/csd395/yuncong/DavidData2014results/RS141/0019/RS141_x5_0019_gabor-blueNisslWide-segm-blueNisslRegular-vq-blueNissl_D1s19With20.npy\n",
      "saved /oasis/projects/nsf/csd395/yuncong/DavidData2014results/RS141/0019/RS141_x5_0019_gabor-blueNisslWide-segm-blueNisslRegular-vq-blueNissl_D2s19With20.npy\n",
      "saved /oasis/projects/nsf/csd395/yuncong/DavidData2014results/RS141/0019/RS141_x5_0019_gabor-blueNisslWide-segm-blueNisslRegular-vq-blueNissl_D3s19With20.npy\n"
     ]
    },
    {
     "name": "stderr",
     "output_type": "stream",
     "text": [
      "19,20\n"
     ]
    },
    {
     "name": "stdout",
     "output_type": "stream",
     "text": [
      "saved /oasis/projects/nsf/csd395/yuncong/DavidData2014results/RS141/0019/RS141_x5_0019_gabor-blueNisslWide-segm-blueNisslRegular-vq-blueNissl_DBoundaries19With21.npy\n",
      "saved /oasis/projects/nsf/csd395/yuncong/DavidData2014results/RS141/0019/RS141_x5_0019_gabor-blueNisslWide-segm-blueNisslRegular-vq-blueNissl_D1s19With21.npy\n",
      "saved /oasis/projects/nsf/csd395/yuncong/DavidData2014results/RS141/0019/RS141_x5_0019_gabor-blueNisslWide-segm-blueNisslRegular-vq-blueNissl_D2s19With21.npy\n",
      "saved /oasis/projects/nsf/csd395/yuncong/DavidData2014results/RS141/0019/RS141_x5_0019_gabor-blueNisslWide-segm-blueNisslRegular-vq-blueNissl_D3s19With21.npy\n"
     ]
    },
    {
     "name": "stderr",
     "output_type": "stream",
     "text": [
      "19,21\n"
     ]
    },
    {
     "name": "stdout",
     "output_type": "stream",
     "text": [
      "saved /oasis/projects/nsf/csd395/yuncong/DavidData2014results/RS141/0019/RS141_x5_0019_gabor-blueNisslWide-segm-blueNisslRegular-vq-blueNissl_DBoundaries19With22.npy\n",
      "saved /oasis/projects/nsf/csd395/yuncong/DavidData2014results/RS141/0019/RS141_x5_0019_gabor-blueNisslWide-segm-blueNisslRegular-vq-blueNissl_D1s19With22.npy\n",
      "saved /oasis/projects/nsf/csd395/yuncong/DavidData2014results/RS141/0019/RS141_x5_0019_gabor-blueNisslWide-segm-blueNisslRegular-vq-blueNissl_D2s19With22.npy\n",
      "saved /oasis/projects/nsf/csd395/yuncong/DavidData2014results/RS141/0019/RS141_x5_0019_gabor-blueNisslWide-segm-blueNisslRegular-vq-blueNissl_D3s19With22.npy\n"
     ]
    },
    {
     "name": "stderr",
     "output_type": "stream",
     "text": [
      "19,22\n"
     ]
    },
    {
     "name": "stdout",
     "output_type": "stream",
     "text": [
      "saved /oasis/projects/nsf/csd395/yuncong/DavidData2014results/RS141/0020/RS141_x5_0020_gabor-blueNisslWide-segm-blueNisslRegular-vq-blueNissl_DBoundaries20With21.npy\n",
      "saved /oasis/projects/nsf/csd395/yuncong/DavidData2014results/RS141/0020/RS141_x5_0020_gabor-blueNisslWide-segm-blueNisslRegular-vq-blueNissl_D1s20With21.npy\n",
      "saved /oasis/projects/nsf/csd395/yuncong/DavidData2014results/RS141/0020/RS141_x5_0020_gabor-blueNisslWide-segm-blueNisslRegular-vq-blueNissl_D2s20With21.npy\n",
      "saved /oasis/projects/nsf/csd395/yuncong/DavidData2014results/RS141/0020/RS141_x5_0020_gabor-blueNisslWide-segm-blueNisslRegular-vq-blueNissl_D3s20With21.npy\n"
     ]
    },
    {
     "name": "stderr",
     "output_type": "stream",
     "text": [
      "20,21\n"
     ]
    },
    {
     "name": "stdout",
     "output_type": "stream",
     "text": [
      "saved /oasis/projects/nsf/csd395/yuncong/DavidData2014results/RS141/0020/RS141_x5_0020_gabor-blueNisslWide-segm-blueNisslRegular-vq-blueNissl_DBoundaries20With22.npy\n",
      "saved /oasis/projects/nsf/csd395/yuncong/DavidData2014results/RS141/0020/RS141_x5_0020_gabor-blueNisslWide-segm-blueNisslRegular-vq-blueNissl_D1s20With22.npy\n",
      "saved /oasis/projects/nsf/csd395/yuncong/DavidData2014results/RS141/0020/RS141_x5_0020_gabor-blueNisslWide-segm-blueNisslRegular-vq-blueNissl_D2s20With22.npy\n",
      "saved /oasis/projects/nsf/csd395/yuncong/DavidData2014results/RS141/0020/RS141_x5_0020_gabor-blueNisslWide-segm-blueNisslRegular-vq-blueNissl_D3s20With22.npy\n"
     ]
    },
    {
     "name": "stderr",
     "output_type": "stream",
     "text": [
      "20,22\n"
     ]
    },
    {
     "name": "stdout",
     "output_type": "stream",
     "text": [
      "saved /oasis/projects/nsf/csd395/yuncong/DavidData2014results/RS141/0020/RS141_x5_0020_gabor-blueNisslWide-segm-blueNisslRegular-vq-blueNissl_DBoundaries20With23.npy\n",
      "saved /oasis/projects/nsf/csd395/yuncong/DavidData2014results/RS141/0020/RS141_x5_0020_gabor-blueNisslWide-segm-blueNisslRegular-vq-blueNissl_D1s20With23.npy\n",
      "saved /oasis/projects/nsf/csd395/yuncong/DavidData2014results/RS141/0020/RS141_x5_0020_gabor-blueNisslWide-segm-blueNisslRegular-vq-blueNissl_D2s20With23.npy\n",
      "saved /oasis/projects/nsf/csd395/yuncong/DavidData2014results/RS141/0020/RS141_x5_0020_gabor-blueNisslWide-segm-blueNisslRegular-vq-blueNissl_D3s20With23.npy\n"
     ]
    },
    {
     "name": "stderr",
     "output_type": "stream",
     "text": [
      "20,23\n"
     ]
    },
    {
     "name": "stdout",
     "output_type": "stream",
     "text": [
      "saved /oasis/projects/nsf/csd395/yuncong/DavidData2014results/RS141/0021/RS141_x5_0021_gabor-blueNisslWide-segm-blueNisslRegular-vq-blueNissl_DBoundaries21With22.npy\n",
      "saved /oasis/projects/nsf/csd395/yuncong/DavidData2014results/RS141/0021/RS141_x5_0021_gabor-blueNisslWide-segm-blueNisslRegular-vq-blueNissl_D1s21With22.npy\n",
      "saved /oasis/projects/nsf/csd395/yuncong/DavidData2014results/RS141/0021/RS141_x5_0021_gabor-blueNisslWide-segm-blueNisslRegular-vq-blueNissl_D2s21With22.npy\n",
      "saved /oasis/projects/nsf/csd395/yuncong/DavidData2014results/RS141/0021/RS141_x5_0021_gabor-blueNisslWide-segm-blueNisslRegular-vq-blueNissl_D3s21With22.npy\n"
     ]
    },
    {
     "name": "stderr",
     "output_type": "stream",
     "text": [
      "21,22\n"
     ]
    },
    {
     "name": "stdout",
     "output_type": "stream",
     "text": [
      "saved /oasis/projects/nsf/csd395/yuncong/DavidData2014results/RS141/0021/RS141_x5_0021_gabor-blueNisslWide-segm-blueNisslRegular-vq-blueNissl_DBoundaries21With23.npy\n",
      "saved /oasis/projects/nsf/csd395/yuncong/DavidData2014results/RS141/0021/RS141_x5_0021_gabor-blueNisslWide-segm-blueNisslRegular-vq-blueNissl_D1s21With23.npy\n",
      "saved /oasis/projects/nsf/csd395/yuncong/DavidData2014results/RS141/0021/RS141_x5_0021_gabor-blueNisslWide-segm-blueNisslRegular-vq-blueNissl_D2s21With23.npy\n",
      "saved /oasis/projects/nsf/csd395/yuncong/DavidData2014results/RS141/0021/RS141_x5_0021_gabor-blueNisslWide-segm-blueNisslRegular-vq-blueNissl_D3s21With23.npy\n"
     ]
    },
    {
     "name": "stderr",
     "output_type": "stream",
     "text": [
      "21,23\n"
     ]
    },
    {
     "name": "stdout",
     "output_type": "stream",
     "text": [
      "saved /oasis/projects/nsf/csd395/yuncong/DavidData2014results/RS141/0021/RS141_x5_0021_gabor-blueNisslWide-segm-blueNisslRegular-vq-blueNissl_DBoundaries21With24.npy\n",
      "saved /oasis/projects/nsf/csd395/yuncong/DavidData2014results/RS141/0021/RS141_x5_0021_gabor-blueNisslWide-segm-blueNisslRegular-vq-blueNissl_D1s21With24.npy\n",
      "saved /oasis/projects/nsf/csd395/yuncong/DavidData2014results/RS141/0021/RS141_x5_0021_gabor-blueNisslWide-segm-blueNisslRegular-vq-blueNissl_D2s21With24.npy\n",
      "saved /oasis/projects/nsf/csd395/yuncong/DavidData2014results/RS141/0021/RS141_x5_0021_gabor-blueNisslWide-segm-blueNisslRegular-vq-blueNissl_D3s21With24.npy\n"
     ]
    },
    {
     "name": "stderr",
     "output_type": "stream",
     "text": [
      "21,24\n"
     ]
    },
    {
     "name": "stdout",
     "output_type": "stream",
     "text": [
      "saved /oasis/projects/nsf/csd395/yuncong/DavidData2014results/RS141/0022/RS141_x5_0022_gabor-blueNisslWide-segm-blueNisslRegular-vq-blueNissl_DBoundaries22With23.npy\n",
      "saved /oasis/projects/nsf/csd395/yuncong/DavidData2014results/RS141/0022/RS141_x5_0022_gabor-blueNisslWide-segm-blueNisslRegular-vq-blueNissl_D1s22With23.npy\n",
      "saved /oasis/projects/nsf/csd395/yuncong/DavidData2014results/RS141/0022/RS141_x5_0022_gabor-blueNisslWide-segm-blueNisslRegular-vq-blueNissl_D2s22With23.npy\n",
      "saved /oasis/projects/nsf/csd395/yuncong/DavidData2014results/RS141/0022/RS141_x5_0022_gabor-blueNisslWide-segm-blueNisslRegular-vq-blueNissl_D3s22With23.npy\n"
     ]
    },
    {
     "name": "stderr",
     "output_type": "stream",
     "text": [
      "22,23\n"
     ]
    },
    {
     "name": "stdout",
     "output_type": "stream",
     "text": [
      "saved /oasis/projects/nsf/csd395/yuncong/DavidData2014results/RS141/0022/RS141_x5_0022_gabor-blueNisslWide-segm-blueNisslRegular-vq-blueNissl_DBoundaries22With24.npy\n",
      "saved /oasis/projects/nsf/csd395/yuncong/DavidData2014results/RS141/0022/RS141_x5_0022_gabor-blueNisslWide-segm-blueNisslRegular-vq-blueNissl_D1s22With24.npy\n",
      "saved /oasis/projects/nsf/csd395/yuncong/DavidData2014results/RS141/0022/RS141_x5_0022_gabor-blueNisslWide-segm-blueNisslRegular-vq-blueNissl_D2s22With24.npy\n",
      "saved /oasis/projects/nsf/csd395/yuncong/DavidData2014results/RS141/0022/RS141_x5_0022_gabor-blueNisslWide-segm-blueNisslRegular-vq-blueNissl_D3s22With24.npy\n"
     ]
    },
    {
     "name": "stderr",
     "output_type": "stream",
     "text": [
      "22,24\n"
     ]
    },
    {
     "name": "stdout",
     "output_type": "stream",
     "text": [
      "saved /oasis/projects/nsf/csd395/yuncong/DavidData2014results/RS141/0022/RS141_x5_0022_gabor-blueNisslWide-segm-blueNisslRegular-vq-blueNissl_DBoundaries22With25.npy\n",
      "saved /oasis/projects/nsf/csd395/yuncong/DavidData2014results/RS141/0022/RS141_x5_0022_gabor-blueNisslWide-segm-blueNisslRegular-vq-blueNissl_D1s22With25.npy\n",
      "saved /oasis/projects/nsf/csd395/yuncong/DavidData2014results/RS141/0022/RS141_x5_0022_gabor-blueNisslWide-segm-blueNisslRegular-vq-blueNissl_D2s22With25.npy\n",
      "saved /oasis/projects/nsf/csd395/yuncong/DavidData2014results/RS141/0022/RS141_x5_0022_gabor-blueNisslWide-segm-blueNisslRegular-vq-blueNissl_D3s22With25.npy\n"
     ]
    },
    {
     "name": "stderr",
     "output_type": "stream",
     "text": [
      "22,25\n"
     ]
    },
    {
     "name": "stdout",
     "output_type": "stream",
     "text": [
      "saved /oasis/projects/nsf/csd395/yuncong/DavidData2014results/RS141/0023/RS141_x5_0023_gabor-blueNisslWide-segm-blueNisslRegular-vq-blueNissl_DBoundaries23With24.npy\n",
      "saved /oasis/projects/nsf/csd395/yuncong/DavidData2014results/RS141/0023/RS141_x5_0023_gabor-blueNisslWide-segm-blueNisslRegular-vq-blueNissl_D1s23With24.npy\n",
      "saved /oasis/projects/nsf/csd395/yuncong/DavidData2014results/RS141/0023/RS141_x5_0023_gabor-blueNisslWide-segm-blueNisslRegular-vq-blueNissl_D2s23With24.npy\n",
      "saved /oasis/projects/nsf/csd395/yuncong/DavidData2014results/RS141/0023/RS141_x5_0023_gabor-blueNisslWide-segm-blueNisslRegular-vq-blueNissl_D3s23With24.npy\n"
     ]
    },
    {
     "name": "stderr",
     "output_type": "stream",
     "text": [
      "23,24\n"
     ]
    },
    {
     "name": "stdout",
     "output_type": "stream",
     "text": [
      "saved /oasis/projects/nsf/csd395/yuncong/DavidData2014results/RS141/0023/RS141_x5_0023_gabor-blueNisslWide-segm-blueNisslRegular-vq-blueNissl_DBoundaries23With25.npy\n",
      "saved /oasis/projects/nsf/csd395/yuncong/DavidData2014results/RS141/0023/RS141_x5_0023_gabor-blueNisslWide-segm-blueNisslRegular-vq-blueNissl_D1s23With25.npy\n",
      "saved /oasis/projects/nsf/csd395/yuncong/DavidData2014results/RS141/0023/RS141_x5_0023_gabor-blueNisslWide-segm-blueNisslRegular-vq-blueNissl_D2s23With25.npy\n",
      "saved /oasis/projects/nsf/csd395/yuncong/DavidData2014results/RS141/0023/RS141_x5_0023_gabor-blueNisslWide-segm-blueNisslRegular-vq-blueNissl_D3s23With25.npy\n"
     ]
    },
    {
     "name": "stderr",
     "output_type": "stream",
     "text": [
      "23,25\n"
     ]
    },
    {
     "name": "stdout",
     "output_type": "stream",
     "text": [
      "saved /oasis/projects/nsf/csd395/yuncong/DavidData2014results/RS141/0023/RS141_x5_0023_gabor-blueNisslWide-segm-blueNisslRegular-vq-blueNissl_DBoundaries23With26.npy\n",
      "saved /oasis/projects/nsf/csd395/yuncong/DavidData2014results/RS141/0023/RS141_x5_0023_gabor-blueNisslWide-segm-blueNisslRegular-vq-blueNissl_D1s23With26.npy\n",
      "saved /oasis/projects/nsf/csd395/yuncong/DavidData2014results/RS141/0023/RS141_x5_0023_gabor-blueNisslWide-segm-blueNisslRegular-vq-blueNissl_D2s23With26.npy\n",
      "saved /oasis/projects/nsf/csd395/yuncong/DavidData2014results/RS141/0023/RS141_x5_0023_gabor-blueNisslWide-segm-blueNisslRegular-vq-blueNissl_D3s23With26.npy\n"
     ]
    },
    {
     "name": "stderr",
     "output_type": "stream",
     "text": [
      "23,26\n"
     ]
    },
    {
     "name": "stdout",
     "output_type": "stream",
     "text": [
      "saved /oasis/projects/nsf/csd395/yuncong/DavidData2014results/RS141/0024/RS141_x5_0024_gabor-blueNisslWide-segm-blueNisslRegular-vq-blueNissl_DBoundaries24With25.npy\n",
      "saved /oasis/projects/nsf/csd395/yuncong/DavidData2014results/RS141/0024/RS141_x5_0024_gabor-blueNisslWide-segm-blueNisslRegular-vq-blueNissl_D1s24With25.npy\n",
      "saved /oasis/projects/nsf/csd395/yuncong/DavidData2014results/RS141/0024/RS141_x5_0024_gabor-blueNisslWide-segm-blueNisslRegular-vq-blueNissl_D2s24With25.npy\n",
      "saved /oasis/projects/nsf/csd395/yuncong/DavidData2014results/RS141/0024/RS141_x5_0024_gabor-blueNisslWide-segm-blueNisslRegular-vq-blueNissl_D3s24With25.npy\n"
     ]
    },
    {
     "name": "stderr",
     "output_type": "stream",
     "text": [
      "24,25\n"
     ]
    },
    {
     "name": "stdout",
     "output_type": "stream",
     "text": [
      "saved /oasis/projects/nsf/csd395/yuncong/DavidData2014results/RS141/0024/RS141_x5_0024_gabor-blueNisslWide-segm-blueNisslRegular-vq-blueNissl_DBoundaries24With26.npy\n",
      "saved /oasis/projects/nsf/csd395/yuncong/DavidData2014results/RS141/0024/RS141_x5_0024_gabor-blueNisslWide-segm-blueNisslRegular-vq-blueNissl_D1s24With26.npy\n",
      "saved /oasis/projects/nsf/csd395/yuncong/DavidData2014results/RS141/0024/RS141_x5_0024_gabor-blueNisslWide-segm-blueNisslRegular-vq-blueNissl_D2s24With26.npy\n",
      "saved /oasis/projects/nsf/csd395/yuncong/DavidData2014results/RS141/0024/RS141_x5_0024_gabor-blueNisslWide-segm-blueNisslRegular-vq-blueNissl_D3s24With26.npy\n"
     ]
    },
    {
     "name": "stderr",
     "output_type": "stream",
     "text": [
      "24,26\n"
     ]
    },
    {
     "name": "stdout",
     "output_type": "stream",
     "text": [
      "saved /oasis/projects/nsf/csd395/yuncong/DavidData2014results/RS141/0024/RS141_x5_0024_gabor-blueNisslWide-segm-blueNisslRegular-vq-blueNissl_DBoundaries24With27.npy\n",
      "saved /oasis/projects/nsf/csd395/yuncong/DavidData2014results/RS141/0024/RS141_x5_0024_gabor-blueNisslWide-segm-blueNisslRegular-vq-blueNissl_D1s24With27.npy\n",
      "saved /oasis/projects/nsf/csd395/yuncong/DavidData2014results/RS141/0024/RS141_x5_0024_gabor-blueNisslWide-segm-blueNisslRegular-vq-blueNissl_D2s24With27.npy\n",
      "saved /oasis/projects/nsf/csd395/yuncong/DavidData2014results/RS141/0024/RS141_x5_0024_gabor-blueNisslWide-segm-blueNisslRegular-vq-blueNissl_D3s24With27.npy\n"
     ]
    },
    {
     "name": "stderr",
     "output_type": "stream",
     "text": [
      "24,27\n"
     ]
    },
    {
     "name": "stdout",
     "output_type": "stream",
     "text": [
      "saved /oasis/projects/nsf/csd395/yuncong/DavidData2014results/RS141/0025/RS141_x5_0025_gabor-blueNisslWide-segm-blueNisslRegular-vq-blueNissl_DBoundaries25With26.npy\n",
      "saved /oasis/projects/nsf/csd395/yuncong/DavidData2014results/RS141/0025/RS141_x5_0025_gabor-blueNisslWide-segm-blueNisslRegular-vq-blueNissl_D1s25With26.npy\n",
      "saved /oasis/projects/nsf/csd395/yuncong/DavidData2014results/RS141/0025/RS141_x5_0025_gabor-blueNisslWide-segm-blueNisslRegular-vq-blueNissl_D2s25With26.npy\n",
      "saved /oasis/projects/nsf/csd395/yuncong/DavidData2014results/RS141/0025/RS141_x5_0025_gabor-blueNisslWide-segm-blueNisslRegular-vq-blueNissl_D3s25With26.npy\n"
     ]
    },
    {
     "name": "stderr",
     "output_type": "stream",
     "text": [
      "25,26\n"
     ]
    },
    {
     "name": "stdout",
     "output_type": "stream",
     "text": [
      "saved /oasis/projects/nsf/csd395/yuncong/DavidData2014results/RS141/0025/RS141_x5_0025_gabor-blueNisslWide-segm-blueNisslRegular-vq-blueNissl_DBoundaries25With27.npy\n",
      "saved /oasis/projects/nsf/csd395/yuncong/DavidData2014results/RS141/0025/RS141_x5_0025_gabor-blueNisslWide-segm-blueNisslRegular-vq-blueNissl_D1s25With27.npy\n",
      "saved /oasis/projects/nsf/csd395/yuncong/DavidData2014results/RS141/0025/RS141_x5_0025_gabor-blueNisslWide-segm-blueNisslRegular-vq-blueNissl_D2s25With27.npy\n",
      "saved /oasis/projects/nsf/csd395/yuncong/DavidData2014results/RS141/0025/RS141_x5_0025_gabor-blueNisslWide-segm-blueNisslRegular-vq-blueNissl_D3s25With27.npy\n"
     ]
    },
    {
     "name": "stderr",
     "output_type": "stream",
     "text": [
      "25,27\n"
     ]
    },
    {
     "name": "stdout",
     "output_type": "stream",
     "text": [
      "saved /oasis/projects/nsf/csd395/yuncong/DavidData2014results/RS141/0025/RS141_x5_0025_gabor-blueNisslWide-segm-blueNisslRegular-vq-blueNissl_DBoundaries25With28.npy\n",
      "saved /oasis/projects/nsf/csd395/yuncong/DavidData2014results/RS141/0025/RS141_x5_0025_gabor-blueNisslWide-segm-blueNisslRegular-vq-blueNissl_D1s25With28.npy\n",
      "saved /oasis/projects/nsf/csd395/yuncong/DavidData2014results/RS141/0025/RS141_x5_0025_gabor-blueNisslWide-segm-blueNisslRegular-vq-blueNissl_D2s25With28.npy\n",
      "saved /oasis/projects/nsf/csd395/yuncong/DavidData2014results/RS141/0025/RS141_x5_0025_gabor-blueNisslWide-segm-blueNisslRegular-vq-blueNissl_D3s25With28.npy\n"
     ]
    },
    {
     "name": "stderr",
     "output_type": "stream",
     "text": [
      "25,28\n"
     ]
    },
    {
     "name": "stdout",
     "output_type": "stream",
     "text": [
      "saved /oasis/projects/nsf/csd395/yuncong/DavidData2014results/RS141/0026/RS141_x5_0026_gabor-blueNisslWide-segm-blueNisslRegular-vq-blueNissl_DBoundaries26With27.npy\n",
      "saved /oasis/projects/nsf/csd395/yuncong/DavidData2014results/RS141/0026/RS141_x5_0026_gabor-blueNisslWide-segm-blueNisslRegular-vq-blueNissl_D1s26With27.npy\n",
      "saved /oasis/projects/nsf/csd395/yuncong/DavidData2014results/RS141/0026/RS141_x5_0026_gabor-blueNisslWide-segm-blueNisslRegular-vq-blueNissl_D2s26With27.npy\n",
      "saved /oasis/projects/nsf/csd395/yuncong/DavidData2014results/RS141/0026/RS141_x5_0026_gabor-blueNisslWide-segm-blueNisslRegular-vq-blueNissl_D3s26With27.npy\n"
     ]
    },
    {
     "name": "stderr",
     "output_type": "stream",
     "text": [
      "26,27\n"
     ]
    },
    {
     "name": "stdout",
     "output_type": "stream",
     "text": [
      "saved /oasis/projects/nsf/csd395/yuncong/DavidData2014results/RS141/0026/RS141_x5_0026_gabor-blueNisslWide-segm-blueNisslRegular-vq-blueNissl_DBoundaries26With28.npy\n",
      "saved /oasis/projects/nsf/csd395/yuncong/DavidData2014results/RS141/0026/RS141_x5_0026_gabor-blueNisslWide-segm-blueNisslRegular-vq-blueNissl_D1s26With28.npy\n",
      "saved /oasis/projects/nsf/csd395/yuncong/DavidData2014results/RS141/0026/RS141_x5_0026_gabor-blueNisslWide-segm-blueNisslRegular-vq-blueNissl_D2s26With28.npy\n",
      "saved /oasis/projects/nsf/csd395/yuncong/DavidData2014results/RS141/0026/RS141_x5_0026_gabor-blueNisslWide-segm-blueNisslRegular-vq-blueNissl_D3s26With28.npy\n"
     ]
    },
    {
     "name": "stderr",
     "output_type": "stream",
     "text": [
      "26,28\n"
     ]
    },
    {
     "name": "stdout",
     "output_type": "stream",
     "text": [
      "saved /oasis/projects/nsf/csd395/yuncong/DavidData2014results/RS141/0026/RS141_x5_0026_gabor-blueNisslWide-segm-blueNisslRegular-vq-blueNissl_DBoundaries26With29.npy\n",
      "saved /oasis/projects/nsf/csd395/yuncong/DavidData2014results/RS141/0026/RS141_x5_0026_gabor-blueNisslWide-segm-blueNisslRegular-vq-blueNissl_D1s26With29.npy\n",
      "saved /oasis/projects/nsf/csd395/yuncong/DavidData2014results/RS141/0026/RS141_x5_0026_gabor-blueNisslWide-segm-blueNisslRegular-vq-blueNissl_D2s26With29.npy\n",
      "saved /oasis/projects/nsf/csd395/yuncong/DavidData2014results/RS141/0026/RS141_x5_0026_gabor-blueNisslWide-segm-blueNisslRegular-vq-blueNissl_D3s26With29.npy\n"
     ]
    },
    {
     "name": "stderr",
     "output_type": "stream",
     "text": [
      "26,29\n"
     ]
    },
    {
     "name": "stdout",
     "output_type": "stream",
     "text": [
      "saved /oasis/projects/nsf/csd395/yuncong/DavidData2014results/RS141/0027/RS141_x5_0027_gabor-blueNisslWide-segm-blueNisslRegular-vq-blueNissl_DBoundaries27With28.npy\n",
      "saved /oasis/projects/nsf/csd395/yuncong/DavidData2014results/RS141/0027/RS141_x5_0027_gabor-blueNisslWide-segm-blueNisslRegular-vq-blueNissl_D1s27With28.npy\n",
      "saved /oasis/projects/nsf/csd395/yuncong/DavidData2014results/RS141/0027/RS141_x5_0027_gabor-blueNisslWide-segm-blueNisslRegular-vq-blueNissl_D2s27With28.npy\n",
      "saved /oasis/projects/nsf/csd395/yuncong/DavidData2014results/RS141/0027/RS141_x5_0027_gabor-blueNisslWide-segm-blueNisslRegular-vq-blueNissl_D3s27With28.npy\n"
     ]
    },
    {
     "name": "stderr",
     "output_type": "stream",
     "text": [
      "27,28\n"
     ]
    },
    {
     "name": "stdout",
     "output_type": "stream",
     "text": [
      "saved /oasis/projects/nsf/csd395/yuncong/DavidData2014results/RS141/0027/RS141_x5_0027_gabor-blueNisslWide-segm-blueNisslRegular-vq-blueNissl_DBoundaries27With29.npy\n",
      "saved /oasis/projects/nsf/csd395/yuncong/DavidData2014results/RS141/0027/RS141_x5_0027_gabor-blueNisslWide-segm-blueNisslRegular-vq-blueNissl_D1s27With29.npy\n",
      "saved /oasis/projects/nsf/csd395/yuncong/DavidData2014results/RS141/0027/RS141_x5_0027_gabor-blueNisslWide-segm-blueNisslRegular-vq-blueNissl_D2s27With29.npy\n",
      "saved /oasis/projects/nsf/csd395/yuncong/DavidData2014results/RS141/0027/RS141_x5_0027_gabor-blueNisslWide-segm-blueNisslRegular-vq-blueNissl_D3s27With29.npy\n"
     ]
    },
    {
     "name": "stderr",
     "output_type": "stream",
     "text": [
      "27,29\n"
     ]
    },
    {
     "name": "stdout",
     "output_type": "stream",
     "text": [
      "saved /oasis/projects/nsf/csd395/yuncong/DavidData2014results/RS141/0027/RS141_x5_0027_gabor-blueNisslWide-segm-blueNisslRegular-vq-blueNissl_DBoundaries27With30.npy\n",
      "saved /oasis/projects/nsf/csd395/yuncong/DavidData2014results/RS141/0027/RS141_x5_0027_gabor-blueNisslWide-segm-blueNisslRegular-vq-blueNissl_D1s27With30.npy\n",
      "saved /oasis/projects/nsf/csd395/yuncong/DavidData2014results/RS141/0027/RS141_x5_0027_gabor-blueNisslWide-segm-blueNisslRegular-vq-blueNissl_D2s27With30.npy\n",
      "saved /oasis/projects/nsf/csd395/yuncong/DavidData2014results/RS141/0027/RS141_x5_0027_gabor-blueNisslWide-segm-blueNisslRegular-vq-blueNissl_D3s27With30.npy\n"
     ]
    },
    {
     "name": "stderr",
     "output_type": "stream",
     "text": [
      "27,30\n"
     ]
    },
    {
     "name": "stdout",
     "output_type": "stream",
     "text": [
      "saved /oasis/projects/nsf/csd395/yuncong/DavidData2014results/RS141/0028/RS141_x5_0028_gabor-blueNisslWide-segm-blueNisslRegular-vq-blueNissl_DBoundaries28With29.npy\n",
      "saved /oasis/projects/nsf/csd395/yuncong/DavidData2014results/RS141/0028/RS141_x5_0028_gabor-blueNisslWide-segm-blueNisslRegular-vq-blueNissl_D1s28With29.npy\n",
      "saved /oasis/projects/nsf/csd395/yuncong/DavidData2014results/RS141/0028/RS141_x5_0028_gabor-blueNisslWide-segm-blueNisslRegular-vq-blueNissl_D2s28With29.npy\n",
      "saved /oasis/projects/nsf/csd395/yuncong/DavidData2014results/RS141/0028/RS141_x5_0028_gabor-blueNisslWide-segm-blueNisslRegular-vq-blueNissl_D3s28With29.npy\n"
     ]
    },
    {
     "name": "stderr",
     "output_type": "stream",
     "text": [
      "28,29\n"
     ]
    },
    {
     "name": "stdout",
     "output_type": "stream",
     "text": [
      "saved /oasis/projects/nsf/csd395/yuncong/DavidData2014results/RS141/0028/RS141_x5_0028_gabor-blueNisslWide-segm-blueNisslRegular-vq-blueNissl_DBoundaries28With30.npy\n",
      "saved /oasis/projects/nsf/csd395/yuncong/DavidData2014results/RS141/0028/RS141_x5_0028_gabor-blueNisslWide-segm-blueNisslRegular-vq-blueNissl_D1s28With30.npy\n",
      "saved /oasis/projects/nsf/csd395/yuncong/DavidData2014results/RS141/0028/RS141_x5_0028_gabor-blueNisslWide-segm-blueNisslRegular-vq-blueNissl_D2s28With30.npy\n",
      "saved /oasis/projects/nsf/csd395/yuncong/DavidData2014results/RS141/0028/RS141_x5_0028_gabor-blueNisslWide-segm-blueNisslRegular-vq-blueNissl_D3s28With30.npy\n"
     ]
    },
    {
     "name": "stderr",
     "output_type": "stream",
     "text": [
      "28,30\n"
     ]
    },
    {
     "name": "stdout",
     "output_type": "stream",
     "text": [
      "saved /oasis/projects/nsf/csd395/yuncong/DavidData2014results/RS141/0028/RS141_x5_0028_gabor-blueNisslWide-segm-blueNisslRegular-vq-blueNissl_DBoundaries28With31.npy\n",
      "saved /oasis/projects/nsf/csd395/yuncong/DavidData2014results/RS141/0028/RS141_x5_0028_gabor-blueNisslWide-segm-blueNisslRegular-vq-blueNissl_D1s28With31.npy\n",
      "saved /oasis/projects/nsf/csd395/yuncong/DavidData2014results/RS141/0028/RS141_x5_0028_gabor-blueNisslWide-segm-blueNisslRegular-vq-blueNissl_D2s28With31.npy\n",
      "saved /oasis/projects/nsf/csd395/yuncong/DavidData2014results/RS141/0028/RS141_x5_0028_gabor-blueNisslWide-segm-blueNisslRegular-vq-blueNissl_D3s28With31.npy\n"
     ]
    },
    {
     "name": "stderr",
     "output_type": "stream",
     "text": [
      "28,31\n"
     ]
    },
    {
     "name": "stdout",
     "output_type": "stream",
     "text": [
      "saved /oasis/projects/nsf/csd395/yuncong/DavidData2014results/RS141/0029/RS141_x5_0029_gabor-blueNisslWide-segm-blueNisslRegular-vq-blueNissl_DBoundaries29With30.npy\n",
      "saved /oasis/projects/nsf/csd395/yuncong/DavidData2014results/RS141/0029/RS141_x5_0029_gabor-blueNisslWide-segm-blueNisslRegular-vq-blueNissl_D1s29With30.npy\n",
      "saved /oasis/projects/nsf/csd395/yuncong/DavidData2014results/RS141/0029/RS141_x5_0029_gabor-blueNisslWide-segm-blueNisslRegular-vq-blueNissl_D2s29With30.npy\n",
      "saved /oasis/projects/nsf/csd395/yuncong/DavidData2014results/RS141/0029/RS141_x5_0029_gabor-blueNisslWide-segm-blueNisslRegular-vq-blueNissl_D3s29With30.npy\n"
     ]
    },
    {
     "name": "stderr",
     "output_type": "stream",
     "text": [
      "29,30\n"
     ]
    },
    {
     "name": "stdout",
     "output_type": "stream",
     "text": [
      "saved /oasis/projects/nsf/csd395/yuncong/DavidData2014results/RS141/0029/RS141_x5_0029_gabor-blueNisslWide-segm-blueNisslRegular-vq-blueNissl_DBoundaries29With31.npy\n",
      "saved /oasis/projects/nsf/csd395/yuncong/DavidData2014results/RS141/0029/RS141_x5_0029_gabor-blueNisslWide-segm-blueNisslRegular-vq-blueNissl_D1s29With31.npy\n",
      "saved /oasis/projects/nsf/csd395/yuncong/DavidData2014results/RS141/0029/RS141_x5_0029_gabor-blueNisslWide-segm-blueNisslRegular-vq-blueNissl_D2s29With31.npy\n",
      "saved /oasis/projects/nsf/csd395/yuncong/DavidData2014results/RS141/0029/RS141_x5_0029_gabor-blueNisslWide-segm-blueNisslRegular-vq-blueNissl_D3s29With31.npy\n"
     ]
    },
    {
     "name": "stderr",
     "output_type": "stream",
     "text": [
      "29,31\n"
     ]
    },
    {
     "name": "stdout",
     "output_type": "stream",
     "text": [
      "saved /oasis/projects/nsf/csd395/yuncong/DavidData2014results/RS141/0029/RS141_x5_0029_gabor-blueNisslWide-segm-blueNisslRegular-vq-blueNissl_DBoundaries29With32.npy\n",
      "saved /oasis/projects/nsf/csd395/yuncong/DavidData2014results/RS141/0029/RS141_x5_0029_gabor-blueNisslWide-segm-blueNisslRegular-vq-blueNissl_D1s29With32.npy\n",
      "saved /oasis/projects/nsf/csd395/yuncong/DavidData2014results/RS141/0029/RS141_x5_0029_gabor-blueNisslWide-segm-blueNisslRegular-vq-blueNissl_D2s29With32.npy\n",
      "saved /oasis/projects/nsf/csd395/yuncong/DavidData2014results/RS141/0029/RS141_x5_0029_gabor-blueNisslWide-segm-blueNisslRegular-vq-blueNissl_D3s29With32.npy\n"
     ]
    },
    {
     "name": "stderr",
     "output_type": "stream",
     "text": [
      "29,32\n"
     ]
    },
    {
     "name": "stdout",
     "output_type": "stream",
     "text": [
      "saved /oasis/projects/nsf/csd395/yuncong/DavidData2014results/RS141/0030/RS141_x5_0030_gabor-blueNisslWide-segm-blueNisslRegular-vq-blueNissl_DBoundaries30With31.npy\n",
      "saved /oasis/projects/nsf/csd395/yuncong/DavidData2014results/RS141/0030/RS141_x5_0030_gabor-blueNisslWide-segm-blueNisslRegular-vq-blueNissl_D1s30With31.npy\n",
      "saved /oasis/projects/nsf/csd395/yuncong/DavidData2014results/RS141/0030/RS141_x5_0030_gabor-blueNisslWide-segm-blueNisslRegular-vq-blueNissl_D2s30With31.npy\n",
      "saved /oasis/projects/nsf/csd395/yuncong/DavidData2014results/RS141/0030/RS141_x5_0030_gabor-blueNisslWide-segm-blueNisslRegular-vq-blueNissl_D3s30With31.npy\n"
     ]
    },
    {
     "name": "stderr",
     "output_type": "stream",
     "text": [
      "30,31\n"
     ]
    },
    {
     "name": "stdout",
     "output_type": "stream",
     "text": [
      "saved /oasis/projects/nsf/csd395/yuncong/DavidData2014results/RS141/0030/RS141_x5_0030_gabor-blueNisslWide-segm-blueNisslRegular-vq-blueNissl_DBoundaries30With32.npy\n",
      "saved /oasis/projects/nsf/csd395/yuncong/DavidData2014results/RS141/0030/RS141_x5_0030_gabor-blueNisslWide-segm-blueNisslRegular-vq-blueNissl_D1s30With32.npy\n",
      "saved /oasis/projects/nsf/csd395/yuncong/DavidData2014results/RS141/0030/RS141_x5_0030_gabor-blueNisslWide-segm-blueNisslRegular-vq-blueNissl_D2s30With32.npy\n",
      "saved /oasis/projects/nsf/csd395/yuncong/DavidData2014results/RS141/0030/RS141_x5_0030_gabor-blueNisslWide-segm-blueNisslRegular-vq-blueNissl_D3s30With32.npy\n"
     ]
    },
    {
     "name": "stderr",
     "output_type": "stream",
     "text": [
      "30,32\n"
     ]
    },
    {
     "name": "stdout",
     "output_type": "stream",
     "text": [
      "saved /oasis/projects/nsf/csd395/yuncong/DavidData2014results/RS141/0030/RS141_x5_0030_gabor-blueNisslWide-segm-blueNisslRegular-vq-blueNissl_DBoundaries30With33.npy\n",
      "saved /oasis/projects/nsf/csd395/yuncong/DavidData2014results/RS141/0030/RS141_x5_0030_gabor-blueNisslWide-segm-blueNisslRegular-vq-blueNissl_D1s30With33.npy\n",
      "saved /oasis/projects/nsf/csd395/yuncong/DavidData2014results/RS141/0030/RS141_x5_0030_gabor-blueNisslWide-segm-blueNisslRegular-vq-blueNissl_D2s30With33.npy\n",
      "saved /oasis/projects/nsf/csd395/yuncong/DavidData2014results/RS141/0030/RS141_x5_0030_gabor-blueNisslWide-segm-blueNisslRegular-vq-blueNissl_D3s30With33.npy\n"
     ]
    },
    {
     "name": "stderr",
     "output_type": "stream",
     "text": [
      "30,33\n"
     ]
    },
    {
     "name": "stdout",
     "output_type": "stream",
     "text": [
      "saved /oasis/projects/nsf/csd395/yuncong/DavidData2014results/RS141/0031/RS141_x5_0031_gabor-blueNisslWide-segm-blueNisslRegular-vq-blueNissl_DBoundaries31With32.npy\n",
      "saved /oasis/projects/nsf/csd395/yuncong/DavidData2014results/RS141/0031/RS141_x5_0031_gabor-blueNisslWide-segm-blueNisslRegular-vq-blueNissl_D1s31With32.npy\n",
      "saved /oasis/projects/nsf/csd395/yuncong/DavidData2014results/RS141/0031/RS141_x5_0031_gabor-blueNisslWide-segm-blueNisslRegular-vq-blueNissl_D2s31With32.npy\n",
      "saved /oasis/projects/nsf/csd395/yuncong/DavidData2014results/RS141/0031/RS141_x5_0031_gabor-blueNisslWide-segm-blueNisslRegular-vq-blueNissl_D3s31With32.npy\n"
     ]
    },
    {
     "name": "stderr",
     "output_type": "stream",
     "text": [
      "31,32\n"
     ]
    },
    {
     "name": "stdout",
     "output_type": "stream",
     "text": [
      "saved /oasis/projects/nsf/csd395/yuncong/DavidData2014results/RS141/0031/RS141_x5_0031_gabor-blueNisslWide-segm-blueNisslRegular-vq-blueNissl_DBoundaries31With33.npy\n",
      "saved /oasis/projects/nsf/csd395/yuncong/DavidData2014results/RS141/0031/RS141_x5_0031_gabor-blueNisslWide-segm-blueNisslRegular-vq-blueNissl_D1s31With33.npy\n",
      "saved /oasis/projects/nsf/csd395/yuncong/DavidData2014results/RS141/0031/RS141_x5_0031_gabor-blueNisslWide-segm-blueNisslRegular-vq-blueNissl_D2s31With33.npy\n",
      "saved /oasis/projects/nsf/csd395/yuncong/DavidData2014results/RS141/0031/RS141_x5_0031_gabor-blueNisslWide-segm-blueNisslRegular-vq-blueNissl_D3s31With33.npy\n"
     ]
    },
    {
     "name": "stderr",
     "output_type": "stream",
     "text": [
      "31,33\n",
      "31,34\n"
     ]
    },
    {
     "name": "stdout",
     "output_type": "stream",
     "text": [
      "saved /oasis/projects/nsf/csd395/yuncong/DavidData2014results/RS141/0032/RS141_x5_0032_gabor-blueNisslWide-segm-blueNisslRegular-vq-blueNissl_DBoundaries32With33.npy\n",
      "saved /oasis/projects/nsf/csd395/yuncong/DavidData2014results/RS141/0032/RS141_x5_0032_gabor-blueNisslWide-segm-blueNisslRegular-vq-blueNissl_D1s32With33.npy\n",
      "saved /oasis/projects/nsf/csd395/yuncong/DavidData2014results/RS141/0032/RS141_x5_0032_gabor-blueNisslWide-segm-blueNisslRegular-vq-blueNissl_D2s32With33.npy\n",
      "saved /oasis/projects/nsf/csd395/yuncong/DavidData2014results/RS141/0032/RS141_x5_0032_gabor-blueNisslWide-segm-blueNisslRegular-vq-blueNissl_D3s32With33.npy\n",
      "685.802731991\n"
     ]
    },
    {
     "name": "stderr",
     "output_type": "stream",
     "text": [
      "32,33\n",
      "32,34\n",
      "32,35\n",
      "33,34\n",
      "33,35\n",
      "33,36\n"
     ]
    }
   ],
   "source": [
    "OUTPUT = False\n",
    "\n",
    "b = time.time()\n",
    "\n",
    "for sec_ind in slide_indices:\n",
    "    \n",
    "    if sec_ind < last_sec:\n",
    "        compute_boundary_distances(sec_ind, sec_ind+1)\n",
    "    sys.stderr.write('%d,%d\\n'%(sec_ind, sec_ind+1))\n",
    "    \n",
    "    if sec_ind < last_sec-1:\n",
    "        compute_boundary_distances(sec_ind, sec_ind+2)\n",
    "    sys.stderr.write('%d,%d\\n'%(sec_ind, sec_ind+2))\n",
    "    \n",
    "    if sec_ind < last_sec-2:\n",
    "        compute_boundary_distances(sec_ind, sec_ind+3)\n",
    "    sys.stderr.write('%d,%d\\n'%(sec_ind, sec_ind+3))\n",
    "        \n",
    "print time.time() - b"
   ]
  },
  {
   "cell_type": "code",
   "execution_count": 50,
   "metadata": {
    "collapsed": false
   },
   "outputs": [],
   "source": [
    "def stable(rankings, A, B):\n",
    "    partners = dict((a, (rankings[(a, 1)], 1)) for a in A)\n",
    "    is_stable = False # whether the current pairing (given by `partners`) is stable\n",
    "    while is_stable == False:\n",
    "        is_stable = True\n",
    "        for b in B:\n",
    "            is_paired = False # whether b has a pair which b ranks <= to n\n",
    "            for n in range(1, len(B) + 1):\n",
    "                a = rankings[(b, n)]\n",
    "                a_partner, a_n = partners[a]\n",
    "                if a_partner == b:\n",
    "                    if is_paired:\n",
    "                        is_stable = False\n",
    "                        partners[a] = (rankings[(a, a_n + 1)], a_n + 1)\n",
    "                    else:\n",
    "                        is_paired = True\n",
    "    return sorted((a, b) for (a, (b, n)) in partners.items())\n",
    "\n",
    "\n",
    "def stable_marriage_matchings(D_boundaries):\n",
    "\n",
    "    A = ['A'+str(i) for i in range(n_boundaries1)]\n",
    "    B = ['B'+str(i) for i in range(n_boundaries2)]\n",
    "\n",
    "    ao = np.zeros(D_boundaries)\n",
    "    for q in range(n_boundaries1):\n",
    "        ao[q, np.argsort(D_boundaries[q,:])] = np.arange(n_boundaries2)\n",
    "\n",
    "    bo = np.zeros_like(D_boundaries.T)\n",
    "    for q in range(n_boundaries2):\n",
    "        bo[q, np.argsort(D_boundaries[:,q])] = np.arange(n_boundaries1)\n",
    "\n",
    "    rankings1 = zip(A, ao+1)\n",
    "    rankings2 = zip(B, bo+1)\n",
    "    rank = dict(rankings1+rankings2)\n",
    "\n",
    "    Arankings = dict(((a, rank[a][b_]), B[b_]) for (a, b_) in product(A, range(n_boundaries2)))\n",
    "    Brankings = dict(((b, rank[b][a_]), A[a_]) for (b, a_) in product(B, range(n_boundaries1)))\n",
    "    rankings = Arankings\n",
    "    rankings.update(Brankings)\n",
    "\n",
    "    m = stable(rankings, A, B)\n",
    "    m = [(int(i[1:]), int(j[1:])) for i, j in m]\n",
    "    m = sorted([(D_boundaries[i,j], i,j) for i,j in m if D_boundaries[i,j]<np.inf])\n",
    "\n",
    "#     for s, i,j in m:\n",
    "#         print s, i, j\n",
    "    \n",
    "    return m\n",
    "\n",
    "def greedy_matching(D_boundaries, thresh_percentage=.2, verified_matchings=[], excluded_matchings=[]):\n",
    "    \n",
    "    Dnz = D_boundaries[D_boundaries < np.inf]\n",
    "    if len(Dnz) == 0:\n",
    "        return []\n",
    "    \n",
    "    th = np.sort(Dnz.flat)[int(len(Dnz.flat)*thresh_percentage)]\n",
    "    print 'thresh', th\n",
    "    \n",
    "    matchings = [(0,i,j) for i,j in verified_matchings]\n",
    "    rs, cs = np.unravel_index(np.argsort(D_boundaries.flat), D_boundaries.shape)\n",
    "    for r, c in zip(rs, cs):\n",
    "        if (r,c) in excluded_matchings:\n",
    "            continue\n",
    "        if D_boundaries[r,c] > th:\n",
    "            break\n",
    "        if r not in [i for d,i,j in matchings] and c not in [j for d,i,j in matchings]:\n",
    "            matchings.append((D_boundaries[r,c],r,c))\n",
    "            \n",
    "    return matchings\n",
    "\n",
    "\n",
    "def knn_matching(D_boundaries, boundaries1, boundaries2, k=2, centroid_dist_limit=500):\n",
    "    \n",
    "    import networkx as nx\n",
    "    \n",
    "    n_boundaries1, n_boundaries2 = D_boundaries.shape\n",
    "\n",
    "    nn1 = D_boundaries.argsort(axis=1)\n",
    "    dd1 = np.sort(D_boundaries,axis=1)\n",
    "    nn1 = [nn[:np.searchsorted(d, d[0]+0.2)] for d, nn in zip(dd1, nn1)]\n",
    "    \n",
    "    nn2 = D_boundaries.argsort(axis=0).T\n",
    "    dd2 = np.sort(D_boundaries,axis=0).T\n",
    "    nn2 = [nn[:np.searchsorted(d, d[0]+0.2)] for d, nn in zip(dd2, nn2)]\n",
    "\n",
    "    DD = np.zeros((n_boundaries1+n_boundaries2, n_boundaries1+n_boundaries2))\n",
    "    G = nx.Graph(DD)\n",
    "    G = nx.relabel_nodes(G, dict([(i,(0,i)) for i in range(n_boundaries1)]+[(n_boundaries1+j,(1,j)) for j in range(n_boundaries2)]))\n",
    "    matches = []\n",
    "    for i in range(n_boundaries1):\n",
    "        for j in range(n_boundaries2):\n",
    "#             if j in nn1[i,:k] and i in nn2[j,:k]:\n",
    "            if j in nn1[i] and i in nn2[j]:\n",
    "                matches.append((i,j))\n",
    "                G.add_edge((0,i), (1,j))\n",
    "\n",
    "    ms = [sorted(g) for g in sorted(list(nx.connected_components(G)), key=len, reverse=True) if len(g) >= 2]\n",
    "#     print len(ms), 'matchings'\n",
    "    \n",
    "    \n",
    "    groups = []\n",
    "    for mi, m in enumerate(ms):\n",
    "        d = defaultdict(list)\n",
    "        for sec_i, bnd_i in m:\n",
    "            d[sec_i].append(bnd_i)\n",
    "        A = D_boundaries[d[0]][:,d[1]]\n",
    "        rs, cs = np.unravel_index(np.argsort(D_boundaries[d[0]][:,d[1]].flat), (len(d[0]), len(d[1])))\n",
    "    #     print rs, cs\n",
    "    #     print [((sec1, d[sec1][r]), (sec2, d[sec2][c]), D_boundaries[d[sec1][r], d[sec2][c]]) for r, c in zip(rs, cs)\n",
    "    #           if D_boundaries[d[sec1][r], d[sec2][c]] < np.inf]\n",
    "\n",
    "        g = []\n",
    "        for r, c in zip(rs, cs):\n",
    "            if D_boundaries[d[0][r], d[1][c]] < np.inf:\n",
    "    #             print ((sec1, d[sec1][r]), (sec2, d[sec2][c]), D_boundaries[d[sec1][r], d[sec2][c]])\n",
    "                g.append([d[0][r], d[1][c]])\n",
    "\n",
    "        groups.append(g)\n",
    "\n",
    "    #     print '\\n'\n",
    "    \n",
    "    \n",
    "    import random\n",
    "\n",
    "    boundary1_centers = np.array([b[4][::-1] for b in boundaries1])\n",
    "    boundary2_centers = np.array([b[4][::-1] for b in boundaries2])\n",
    "\n",
    "    matches = []\n",
    "    scores = []\n",
    "\n",
    "    for ransac_iter in range(5000):\n",
    "\n",
    "        boundary_samples = [random.sample(g, 1)[0] for g in random.sample(groups, 3)]\n",
    "        X = []\n",
    "        Y = []\n",
    "        for b1, b2 in boundary_samples:\n",
    "            X.append(boundary1_centers[b1])\n",
    "            Y.append(boundary2_centers[b2])\n",
    "        X = np.array(X)\n",
    "        Y = np.array(Y)\n",
    "\n",
    "        T, angle = rigid_transform_from_pairs(X,Y)\n",
    "    #     print T, angle\n",
    "        if angle > np.pi/2:\n",
    "    #         print 'angle too wide'\n",
    "            matches.append([])\n",
    "            scores.append(0)\n",
    "            continue\n",
    "\n",
    "        boundary1_centers_trans = rigid_transform_to(boundary1_centers, T)\n",
    "\n",
    "        match = [(bi,bj) for g in groups for bi,bj in g \n",
    "                 if np.linalg.norm(boundary1_centers_trans[bi] - boundary2_centers[bj]) < centroid_dist_limit]\n",
    "\n",
    "        score = len(match)\n",
    "\n",
    "        matches.append(match)\n",
    "        scores.append(score)\n",
    "\n",
    "    best = np.argmax(scores)\n",
    "    s_best = scores[best]\n",
    "    m_best = matches[best]\n",
    "\n",
    "    g = nx.Graph()\n",
    "    g.add_edges_from([((0, i),(1, j), {'weight': D_boundaries[D_boundaries!=np.inf].max()-D_boundaries[i,j]}) \n",
    "                      for i,j in m_best])\n",
    "    m = nx.matching.max_weight_matching(g, maxcardinality=True)\n",
    "    \n",
    "    best_match = set(((0, dict([n1,n2])[0]), (1, dict([n1,n2])[1])) for n1,n2 in m.iteritems())\n",
    "    best_match = [(D_boundaries[t1[1],  t2[1]], t1[1], t2[1]) for t1,t2 in best_match]\n",
    "\n",
    "    return best_match\n",
    "\n",
    "def match_landmarks(sec1, sec2, must_match=[], cannot_match=[]):\n",
    "    \n",
    "    dm1 = DataManager(generate_hierarchy=False, stack=stack_name, resol='x5', section=sec1)\n",
    "    dm2 = DataManager(generate_hierarchy=False, stack=stack_name, resol='x5', section=sec2)\n",
    "    boundaries1 = dm1.load_pipeline_result('boundaryModels', 'pkl')\n",
    "    boundaries2 = dm2.load_pipeline_result('boundaryModels', 'pkl')\n",
    "    D_boundaries = dm1.load_pipeline_result('DBoundaries%dWith%d'%(sec1, sec2), 'npy')\n",
    "        \n",
    "#     matchings = greedy_matching(D_boundaries, verified_matchings=must_match, excluded_matchings=cannot_match)\n",
    "    matchings = knn_matching(D_boundaries, boundaries1, boundaries2)\n",
    "    print matchings\n",
    "    return matchings\n",
    "#     if len(matchings) > 0:\n",
    "#         dm1.save_pipeline_result(matchings, 'matchings%dWith%d'%(sec1, sec2), 'pkl')\n",
    "#         dm2.save_pipeline_result([(d,j,i) for d,i,j in matchings], 'matchings%dWith%d'%(sec2, sec1), 'pkl')"
   ]
  },
  {
   "cell_type": "code",
   "execution_count": 55,
   "metadata": {
    "collapsed": false
   },
   "outputs": [],
   "source": [
    "must_matches = []\n",
    "\n",
    "must_match_sections = defaultdict(list)\n",
    "for m in must_matches:\n",
    "    mm = sorted(list(m))\n",
    "    must_match_sections[(mm[0][0], mm[1][0])].append((mm[0][1], mm[1][1]))"
   ]
  },
  {
   "cell_type": "code",
   "execution_count": null,
   "metadata": {
    "collapsed": false,
    "scrolled": true
   },
   "outputs": [],
   "source": [
    "# Match boundaries in consecutive sections\n",
    "\n",
    "for sec_ind in slide_indices:\n",
    "    print sec_ind\n",
    "#     b = time.time()\n",
    "    if sec_ind < last_sec:\n",
    "        match_landmarks(sec_ind, sec_ind+1, must_match=must_match_sections[(sec_ind, sec_ind+1)])\n",
    "    if sec_ind < last_sec-1:\n",
    "        match_landmarks(sec_ind, sec_ind+2, must_match=must_match_sections[(sec_ind, sec_ind+2)])\n",
    "    if sec_ind < last_sec-2:\n",
    "        match_landmarks(sec_ind, sec_ind+3, must_match=must_match_sections[(sec_ind, sec_ind+3)])\n",
    "#     print time.time()-b"
   ]
  },
  {
   "cell_type": "code",
   "execution_count": 12,
   "metadata": {
    "collapsed": false
   },
   "outputs": [],
   "source": [
    "dms = [ DataManager(generate_hierarchy=False, stack=stack_name, resol='x5', section=sec_ind) for sec_ind in slide_indices]"
   ]
  },
  {
   "cell_type": "code",
   "execution_count": 19,
   "metadata": {
    "collapsed": false
   },
   "outputs": [
    {
     "name": "stdout",
     "output_type": "stream",
     "text": [
      "saved /home/yuncong/project/DavidData2014results/RS140/0001/RS140_x5_0001_gabor-blueNisslWide-segm-blueNisslRegular-vq-blueNissl_matchedBoundaries1With2SideBySide.jpg\n",
      "saved /home/yuncong/project/DavidData2014results/RS140/0010/RS140_x5_0010_gabor-blueNisslWide-segm-blueNisslRegular-vq-blueNissl_matchedBoundaries10With11SideBySide.jpg\n",
      "saved /home/yuncong/project/DavidData2014results/RS140/0008/RS140_x5_0008_gabor-blueNisslWide-segm-blueNisslRegular-vq-blueNissl_matchedBoundaries8With9SideBySide.jpg\n",
      "saved /home/yuncong/project/DavidData2014results/RS140/0000/RS140_x5_0000_gabor-blueNisslWide-segm-blueNisslRegular-vq-blueNissl_matchedBoundaries0With1SideBySide.jpg\n",
      "saved /home/yuncong/project/DavidData2014results/RS140/0015/RS140_x5_0015_gabor-blueNisslWide-segm-blueNisslRegular-vq-blueNissl_matchedBoundaries15With16SideBySide.jpg\n",
      "saved /home/yuncong/project/DavidData2014results/RS140/0005/RS140_x5_0005_gabor-blueNisslWide-segm-blueNisslRegular-vq-blueNissl_matchedBoundaries5With6SideBySide.jpg\n",
      "saved /home/yuncong/project/DavidData2014results/RS140/0013/RS140_x5_0013_gabor-blueNisslWide-segm-blueNisslRegular-vq-blueNissl_matchedBoundaries13With14SideBySide.jpg\n",
      "saved /home/yuncong/project/DavidData2014results/RS140/0003/RS140_x5_0003_gabor-blueNisslWide-segm-blueNisslRegular-vq-blueNissl_matchedBoundaries3With4SideBySide.jpg\n",
      "saved /home/yuncong/project/DavidData2014results/RS140/0002/RS140_x5_0002_gabor-blueNisslWide-segm-blueNisslRegular-vq-blueNissl_matchedBoundaries2With3SideBySide.jpg\n",
      "saved /home/yuncong/project/DavidData2014results/RS140/0014/RS140_x5_0014_gabor-blueNisslWide-segm-blueNisslRegular-vq-blueNissl_matchedBoundaries14With15SideBySide.jpg\n",
      "saved /home/yuncong/project/DavidData2014results/RS140/0007/RS140_x5_0007_gabor-blueNisslWide-segm-blueNisslRegular-vq-blueNissl_matchedBoundaries7With8SideBySide.jpg\n",
      "saved /home/yuncong/project/DavidData2014results/RS140/0009/RS140_x5_0009_gabor-blueNisslWide-segm-blueNisslRegular-vq-blueNissl_matchedBoundaries9With10SideBySide.jpg\n",
      "saved /home/yuncong/project/DavidData2014results/RS140/0006/RS140_x5_0006_gabor-blueNisslWide-segm-blueNisslRegular-vq-blueNissl_matchedBoundaries6With7SideBySide.jpg\n",
      "saved /home/yuncong/project/DavidData2014results/RS140/0004/RS140_x5_0004_gabor-blueNisslWide-segm-blueNisslRegular-vq-blueNissl_matchedBoundaries4With5SideBySide.jpg\n",
      "saved /home/yuncong/project/DavidData2014results/RS140/0011/RS140_x5_0011_gabor-blueNisslWide-segm-blueNisslRegular-vq-blueNissl_matchedBoundaries11With12SideBySide.jpg\n",
      "saved /home/yuncong/project/DavidData2014results/RS140/0012/RS140_x5_0012_gabor-blueNisslWide-segm-blueNisslRegular-vq-blueNissl_matchedBoundaries12With13SideBySide.jpg\n",
      "saved /home/yuncong/project/DavidData2014results/RS140/0002/RS140_x5_0002_gabor-blueNisslWide-segm-blueNisslRegular-vq-blueNissl_matchedBoundaries2With1SideBySide.jpgsaved /home/yuncong/project/DavidData2014results/RS140/0011/RS140_x5_0011_gabor-blueNisslWide-segm-blueNisslRegular-vq-blueNissl_matchedBoundaries11With10SideBySide.jpgsaved /home/yuncong/project/DavidData2014results/RS140/0009/RS140_x5_0009_gabor-blueNisslWide-segm-blueNisslRegular-vq-blueNissl_matchedBoundaries9With8SideBySide.jpgsaved /home/yuncong/project/DavidData2014results/RS140/0001/RS140_x5_0001_gabor-blueNisslWide-segm-blueNisslRegular-vq-blueNissl_matchedBoundaries1With0SideBySide.jpgsaved /home/yuncong/project/DavidData2014results/RS140/0016/RS140_x5_0016_gabor-blueNisslWide-segm-blueNisslRegular-vq-blueNissl_matchedBoundaries16With15SideBySide.jpgsaved /home/yuncong/project/DavidData2014results/RS140/0006/RS140_x5_0006_gabor-blueNisslWide-segm-blueNisslRegular-vq-blueNissl_matchedBoundaries6With5SideBySide.jpgsaved /home/yuncong/project/DavidData2014results/RS140/0014/RS140_x5_0014_gabor-blueNisslWide-segm-blueNisslRegular-vq-blueNissl_matchedBoundaries14With13SideBySide.jpgsaved /home/yuncong/project/DavidData2014results/RS140/0004/RS140_x5_0004_gabor-blueNisslWide-segm-blueNisslRegular-vq-blueNissl_matchedBoundaries4With3SideBySide.jpgsaved /home/yuncong/project/DavidData2014results/RS140/0003/RS140_x5_0003_gabor-blueNisslWide-segm-blueNisslRegular-vq-blueNissl_matchedBoundaries3With2SideBySide.jpgsaved /home/yuncong/project/DavidData2014results/RS140/0015/RS140_x5_0015_gabor-blueNisslWide-segm-blueNisslRegular-vq-blueNissl_matchedBoundaries15With14SideBySide.jpgsaved /home/yuncong/project/DavidData2014results/RS140/0008/RS140_x5_0008_gabor-blueNisslWide-segm-blueNisslRegular-vq-blueNissl_matchedBoundaries8With7SideBySide.jpgsaved /home/yuncong/project/DavidData2014results/RS140/0010/RS140_x5_0010_gabor-blueNisslWide-segm-blueNisslRegular-vq-blueNissl_matchedBoundaries10With9SideBySide.jpgsaved /home/yuncong/project/DavidData2014results/RS140/0007/RS140_x5_0007_gabor-blueNisslWide-segm-blueNisslRegular-vq-blueNissl_matchedBoundaries7With6SideBySide.jpgsaved /home/yuncong/project/DavidData2014results/RS140/0005/RS140_x5_0005_gabor-blueNisslWide-segm-blueNisslRegular-vq-blueNissl_matchedBoundaries5With4SideBySide.jpgsaved /home/yuncong/project/DavidData2014results/RS140/0012/RS140_x5_0012_gabor-blueNisslWide-segm-blueNisslRegular-vq-blueNissl_matchedBoundaries12With11SideBySide.jpgsaved /home/yuncong/project/DavidData2014results/RS140/0013/RS140_x5_0013_gabor-blueNisslWide-segm-blueNisslRegular-vq-blueNissl_matchedBoundaries13With12SideBySide.jpg\n",
      "\n",
      "\n",
      "\n",
      "\n",
      "\n",
      "\n",
      "\n",
      "\n",
      "\n",
      "\n",
      "\n",
      "\n",
      "\n",
      "\n",
      "\n",
      "saved /home/yuncong/project/DavidData2014results/RS140/0016/RS140_x5_0016_gabor-blueNisslWide-segm-blueNisslRegular-vq-blueNissl_matchedBoundaries16With17SideBySide.jpgsaved /home/yuncong/project/DavidData2014results/RS140/0017/RS140_x5_0017_gabor-blueNisslWide-segm-blueNisslRegular-vq-blueNissl_matchedBoundaries17With18SideBySide.jpgsaved /home/yuncong/project/DavidData2014results/RS140/0019/RS140_x5_0019_gabor-blueNisslWide-segm-blueNisslRegular-vq-blueNissl_matchedBoundaries19With20SideBySide.jpgsaved /home/yuncong/project/DavidData2014results/RS140/0018/RS140_x5_0018_gabor-blueNisslWide-segm-blueNisslRegular-vq-blueNissl_matchedBoundaries18With19SideBySide.jpgsaved /home/yuncong/project/DavidData2014results/RS140/0021/RS140_x5_0021_gabor-blueNisslWide-segm-blueNisslRegular-vq-blueNissl_matchedBoundaries21With22SideBySide.jpgsaved /home/yuncong/project/DavidData2014results/RS140/0020/RS140_x5_0020_gabor-blueNisslWide-segm-blueNisslRegular-vq-blueNissl_matchedBoundaries20With21SideBySide.jpgsaved /home/yuncong/project/DavidData2014results/RS140/0023/RS140_x5_0023_gabor-blueNisslWide-segm-blueNisslRegular-vq-blueNissl_matchedBoundaries23With24SideBySide.jpgsaved /home/yuncong/project/DavidData2014results/RS140/0024/RS140_x5_0024_gabor-blueNisslWide-segm-blueNisslRegular-vq-blueNissl_matchedBoundaries24With25SideBySide.jpgsaved /home/yuncong/project/DavidData2014results/RS140/0022/RS140_x5_0022_gabor-blueNisslWide-segm-blueNisslRegular-vq-blueNissl_matchedBoundaries22With23SideBySide.jpgsaved /home/yuncong/project/DavidData2014results/RS140/0026/RS140_x5_0026_gabor-blueNisslWide-segm-blueNisslRegular-vq-blueNissl_matchedBoundaries26With27SideBySide.jpgsaved /home/yuncong/project/DavidData2014results/RS140/0025/RS140_x5_0025_gabor-blueNisslWide-segm-blueNisslRegular-vq-blueNissl_matchedBoundaries25With26SideBySide.jpgsaved /home/yuncong/project/DavidData2014results/RS140/0027/RS140_x5_0027_gabor-blueNisslWide-segm-blueNisslRegular-vq-blueNissl_matchedBoundaries27With28SideBySide.jpgsaved /home/yuncong/project/DavidData2014results/RS140/0029/RS140_x5_0029_gabor-blueNisslWide-segm-blueNisslRegular-vq-blueNissl_matchedBoundaries29With30SideBySide.jpgsaved /home/yuncong/project/DavidData2014results/RS140/0028/RS140_x5_0028_gabor-blueNisslWide-segm-blueNisslRegular-vq-blueNissl_matchedBoundaries28With29SideBySide.jpgsaved /home/yuncong/project/DavidData2014results/RS140/0030/RS140_x5_0030_gabor-blueNisslWide-segm-blueNisslRegular-vq-blueNissl_matchedBoundaries30With31SideBySide.jpgsaved /home/yuncong/project/DavidData2014results/RS140/0031/RS140_x5_0031_gabor-blueNisslWide-segm-blueNisslRegular-vq-blueNissl_matchedBoundaries31With32SideBySide.jpg\n",
      "\n",
      "\n",
      "\n",
      "\n",
      "\n",
      "\n",
      "\n",
      "\n",
      "\n",
      "\n",
      "\n",
      "\n",
      "\n",
      "\n",
      "\n",
      "saved /home/yuncong/project/DavidData2014results/RS140/0017/RS140_x5_0017_gabor-blueNisslWide-segm-blueNisslRegular-vq-blueNissl_matchedBoundaries17With16SideBySide.jpgsaved /home/yuncong/project/DavidData2014results/RS140/0018/RS140_x5_0018_gabor-blueNisslWide-segm-blueNisslRegular-vq-blueNissl_matchedBoundaries18With17SideBySide.jpgsaved /home/yuncong/project/DavidData2014results/RS140/0020/RS140_x5_0020_gabor-blueNisslWide-segm-blueNisslRegular-vq-blueNissl_matchedBoundaries20With19SideBySide.jpgsaved /home/yuncong/project/DavidData2014results/RS140/0019/RS140_x5_0019_gabor-blueNisslWide-segm-blueNisslRegular-vq-blueNissl_matchedBoundaries19With18SideBySide.jpgsaved /home/yuncong/project/DavidData2014results/RS140/0022/RS140_x5_0022_gabor-blueNisslWide-segm-blueNisslRegular-vq-blueNissl_matchedBoundaries22With21SideBySide.jpgsaved /home/yuncong/project/DavidData2014results/RS140/0021/RS140_x5_0021_gabor-blueNisslWide-segm-blueNisslRegular-vq-blueNissl_matchedBoundaries21With20SideBySide.jpgsaved /home/yuncong/project/DavidData2014results/RS140/0024/RS140_x5_0024_gabor-blueNisslWide-segm-blueNisslRegular-vq-blueNissl_matchedBoundaries24With23SideBySide.jpgsaved /home/yuncong/project/DavidData2014results/RS140/0025/RS140_x5_0025_gabor-blueNisslWide-segm-blueNisslRegular-vq-blueNissl_matchedBoundaries25With24SideBySide.jpgsaved /home/yuncong/project/DavidData2014results/RS140/0023/RS140_x5_0023_gabor-blueNisslWide-segm-blueNisslRegular-vq-blueNissl_matchedBoundaries23With22SideBySide.jpgsaved /home/yuncong/project/DavidData2014results/RS140/0027/RS140_x5_0027_gabor-blueNisslWide-segm-blueNisslRegular-vq-blueNissl_matchedBoundaries27With26SideBySide.jpgsaved /home/yuncong/project/DavidData2014results/RS140/0026/RS140_x5_0026_gabor-blueNisslWide-segm-blueNisslRegular-vq-blueNissl_matchedBoundaries26With25SideBySide.jpgsaved /home/yuncong/project/DavidData2014results/RS140/0028/RS140_x5_0028_gabor-blueNisslWide-segm-blueNisslRegular-vq-blueNissl_matchedBoundaries28With27SideBySide.jpgsaved /home/yuncong/project/DavidData2014results/RS140/0030/RS140_x5_0030_gabor-blueNisslWide-segm-blueNisslRegular-vq-blueNissl_matchedBoundaries30With29SideBySide.jpgsaved /home/yuncong/project/DavidData2014results/RS140/0029/RS140_x5_0029_gabor-blueNisslWide-segm-blueNisslRegular-vq-blueNissl_matchedBoundaries29With28SideBySide.jpgsaved /home/yuncong/project/DavidData2014results/RS140/0031/RS140_x5_0031_gabor-blueNisslWide-segm-blueNisslRegular-vq-blueNissl_matchedBoundaries31With30SideBySide.jpgsaved /home/yuncong/project/DavidData2014results/RS140/0032/RS140_x5_0032_gabor-blueNisslWide-segm-blueNisslRegular-vq-blueNissl_matchedBoundaries32With31SideBySide.jpg\n",
      "\n",
      "\n",
      "\n",
      "\n",
      "\n",
      "\n",
      "\n",
      "\n",
      "\n",
      "\n",
      "\n",
      "\n",
      "\n",
      "\n",
      "\n",
      "saved /home/yuncong/project/DavidData2014results/RS140/0032/RS140_x5_0032_gabor-blueNisslWide-segm-blueNisslRegular-vq-blueNissl_matchedBoundaries32With33SideBySide.jpgsaved /home/yuncong/project/DavidData2014results/RS140/0033/RS140_x5_0033_gabor-blueNisslWide-segm-blueNisslRegular-vq-blueNissl_matchedBoundaries33With34SideBySide.jpgsaved /home/yuncong/project/DavidData2014results/RS140/0035/RS140_x5_0035_gabor-blueNisslWide-segm-blueNisslRegular-vq-blueNissl_matchedBoundaries35With36SideBySide.jpgsaved /home/yuncong/project/DavidData2014results/RS140/0034/RS140_x5_0034_gabor-blueNisslWide-segm-blueNisslRegular-vq-blueNissl_matchedBoundaries34With35SideBySide.jpg\n",
      "\n",
      "\n",
      "\n",
      "saved /home/yuncong/project/DavidData2014results/RS140/0033/RS140_x5_0033_gabor-blueNisslWide-segm-blueNisslRegular-vq-blueNissl_matchedBoundaries33With32SideBySide.jpgsaved /home/yuncong/project/DavidData2014results/RS140/0035/RS140_x5_0035_gabor-blueNisslWide-segm-blueNisslRegular-vq-blueNissl_matchedBoundaries35With34SideBySide.jpgsaved /home/yuncong/project/DavidData2014results/RS140/0034/RS140_x5_0034_gabor-blueNisslWide-segm-blueNisslRegular-vq-blueNissl_matchedBoundaries34With33SideBySide.jpgsaved /home/yuncong/project/DavidData2014results/RS140/0036/RS140_x5_0036_gabor-blueNisslWide-segm-blueNisslRegular-vq-blueNissl_matchedBoundaries36With35SideBySide.jpg\n",
      "\n",
      "\n",
      "\n",
      "saved /home/yuncong/project/DavidData2014results/RS140/0002/RS140_x5_0002_gabor-blueNisslWide-segm-blueNisslRegular-vq-blueNissl_matchedBoundaries2With4SideBySide.jpg\n",
      "saved /home/yuncong/project/DavidData2014results/RS140/0009/RS140_x5_0009_gabor-blueNisslWide-segm-blueNisslRegular-vq-blueNissl_matchedBoundaries9With11SideBySide.jpg\n",
      "saved /home/yuncong/project/DavidData2014results/RS140/0011/RS140_x5_0011_gabor-blueNisslWide-segm-blueNisslRegular-vq-blueNissl_matchedBoundaries11With13SideBySide.jpg\n",
      "saved /home/yuncong/project/DavidData2014results/RS140/0008/RS140_x5_0008_gabor-blueNisslWide-segm-blueNisslRegular-vq-blueNissl_matchedBoundaries8With10SideBySide.jpg\n",
      "saved /home/yuncong/project/DavidData2014results/RS140/0015/RS140_x5_0015_gabor-blueNisslWide-segm-blueNisslRegular-vq-blueNissl_matchedBoundaries15With17SideBySide.jpg\n",
      "saved /home/yuncong/project/DavidData2014results/RS140/0000/RS140_x5_0000_gabor-blueNisslWide-segm-blueNisslRegular-vq-blueNissl_matchedBoundaries0With2SideBySide.jpg\n",
      "saved /home/yuncong/project/DavidData2014results/RS140/0001/RS140_x5_0001_gabor-blueNisslWide-segm-blueNisslRegular-vq-blueNissl_matchedBoundaries1With3SideBySide.jpg\n",
      "saved /home/yuncong/project/DavidData2014results/RS140/0005/RS140_x5_0005_gabor-blueNisslWide-segm-blueNisslRegular-vq-blueNissl_matchedBoundaries5With7SideBySide.jpg\n",
      "saved /home/yuncong/project/DavidData2014results/RS140/0006/RS140_x5_0006_gabor-blueNisslWide-segm-blueNisslRegular-vq-blueNissl_matchedBoundaries6With8SideBySide.jpg\n",
      "saved /home/yuncong/project/DavidData2014results/RS140/0007/RS140_x5_0007_gabor-blueNisslWide-segm-blueNisslRegular-vq-blueNissl_matchedBoundaries7With9SideBySide.jpg\n",
      "saved /home/yuncong/project/DavidData2014results/RS140/0003/RS140_x5_0003_gabor-blueNisslWide-segm-blueNisslRegular-vq-blueNissl_matchedBoundaries3With5SideBySide.jpg\n",
      "saved /home/yuncong/project/DavidData2014results/RS140/0010/RS140_x5_0010_gabor-blueNisslWide-segm-blueNisslRegular-vq-blueNissl_matchedBoundaries10With12SideBySide.jpg\n",
      "saved /home/yuncong/project/DavidData2014results/RS140/0004/RS140_x5_0004_gabor-blueNisslWide-segm-blueNisslRegular-vq-blueNissl_matchedBoundaries4With6SideBySide.jpg\n",
      "saved /home/yuncong/project/DavidData2014results/RS140/0014/RS140_x5_0014_gabor-blueNisslWide-segm-blueNisslRegular-vq-blueNissl_matchedBoundaries14With16SideBySide.jpg\n",
      "saved /home/yuncong/project/DavidData2014results/RS140/0013/RS140_x5_0013_gabor-blueNisslWide-segm-blueNisslRegular-vq-blueNissl_matchedBoundaries13With15SideBySide.jpg\n",
      "saved /home/yuncong/project/DavidData2014results/RS140/0012/RS140_x5_0012_gabor-blueNisslWide-segm-blueNisslRegular-vq-blueNissl_matchedBoundaries12With14SideBySide.jpg\n",
      "saved /home/yuncong/project/DavidData2014results/RS140/0004/RS140_x5_0004_gabor-blueNisslWide-segm-blueNisslRegular-vq-blueNissl_matchedBoundaries4With2SideBySide.jpgsaved /home/yuncong/project/DavidData2014results/RS140/0011/RS140_x5_0011_gabor-blueNisslWide-segm-blueNisslRegular-vq-blueNissl_matchedBoundaries11With9SideBySide.jpgsaved /home/yuncong/project/DavidData2014results/RS140/0013/RS140_x5_0013_gabor-blueNisslWide-segm-blueNisslRegular-vq-blueNissl_matchedBoundaries13With11SideBySide.jpgsaved /home/yuncong/project/DavidData2014results/RS140/0010/RS140_x5_0010_gabor-blueNisslWide-segm-blueNisslRegular-vq-blueNissl_matchedBoundaries10With8SideBySide.jpgsaved /home/yuncong/project/DavidData2014results/RS140/0017/RS140_x5_0017_gabor-blueNisslWide-segm-blueNisslRegular-vq-blueNissl_matchedBoundaries17With15SideBySide.jpgsaved /home/yuncong/project/DavidData2014results/RS140/0002/RS140_x5_0002_gabor-blueNisslWide-segm-blueNisslRegular-vq-blueNissl_matchedBoundaries2With0SideBySide.jpgsaved /home/yuncong/project/DavidData2014results/RS140/0003/RS140_x5_0003_gabor-blueNisslWide-segm-blueNisslRegular-vq-blueNissl_matchedBoundaries3With1SideBySide.jpgsaved /home/yuncong/project/DavidData2014results/RS140/0007/RS140_x5_0007_gabor-blueNisslWide-segm-blueNisslRegular-vq-blueNissl_matchedBoundaries7With5SideBySide.jpgsaved /home/yuncong/project/DavidData2014results/RS140/0008/RS140_x5_0008_gabor-blueNisslWide-segm-blueNisslRegular-vq-blueNissl_matchedBoundaries8With6SideBySide.jpgsaved /home/yuncong/project/DavidData2014results/RS140/0009/RS140_x5_0009_gabor-blueNisslWide-segm-blueNisslRegular-vq-blueNissl_matchedBoundaries9With7SideBySide.jpgsaved /home/yuncong/project/DavidData2014results/RS140/0005/RS140_x5_0005_gabor-blueNisslWide-segm-blueNisslRegular-vq-blueNissl_matchedBoundaries5With3SideBySide.jpgsaved /home/yuncong/project/DavidData2014results/RS140/0012/RS140_x5_0012_gabor-blueNisslWide-segm-blueNisslRegular-vq-blueNissl_matchedBoundaries12With10SideBySide.jpgsaved /home/yuncong/project/DavidData2014results/RS140/0006/RS140_x5_0006_gabor-blueNisslWide-segm-blueNisslRegular-vq-blueNissl_matchedBoundaries6With4SideBySide.jpgsaved /home/yuncong/project/DavidData2014results/RS140/0016/RS140_x5_0016_gabor-blueNisslWide-segm-blueNisslRegular-vq-blueNissl_matchedBoundaries16With14SideBySide.jpgsaved /home/yuncong/project/DavidData2014results/RS140/0015/RS140_x5_0015_gabor-blueNisslWide-segm-blueNisslRegular-vq-blueNissl_matchedBoundaries15With13SideBySide.jpgsaved /home/yuncong/project/DavidData2014results/RS140/0014/RS140_x5_0014_gabor-blueNisslWide-segm-blueNisslRegular-vq-blueNissl_matchedBoundaries14With12SideBySide.jpg\n",
      "\n",
      "\n",
      "\n",
      "\n",
      "\n",
      "\n",
      "\n",
      "\n",
      "\n",
      "\n",
      "\n",
      "\n",
      "\n",
      "\n",
      "\n",
      "saved /home/yuncong/project/DavidData2014results/RS140/0016/RS140_x5_0016_gabor-blueNisslWide-segm-blueNisslRegular-vq-blueNissl_matchedBoundaries16With18SideBySide.jpgsaved /home/yuncong/project/DavidData2014results/RS140/0017/RS140_x5_0017_gabor-blueNisslWide-segm-blueNisslRegular-vq-blueNissl_matchedBoundaries17With19SideBySide.jpgsaved /home/yuncong/project/DavidData2014results/RS140/0018/RS140_x5_0018_gabor-blueNisslWide-segm-blueNisslRegular-vq-blueNissl_matchedBoundaries18With20SideBySide.jpgsaved /home/yuncong/project/DavidData2014results/RS140/0019/RS140_x5_0019_gabor-blueNisslWide-segm-blueNisslRegular-vq-blueNissl_matchedBoundaries19With21SideBySide.jpgsaved /home/yuncong/project/DavidData2014results/RS140/0021/RS140_x5_0021_gabor-blueNisslWide-segm-blueNisslRegular-vq-blueNissl_matchedBoundaries21With23SideBySide.jpgsaved /home/yuncong/project/DavidData2014results/RS140/0020/RS140_x5_0020_gabor-blueNisslWide-segm-blueNisslRegular-vq-blueNissl_matchedBoundaries20With22SideBySide.jpgsaved /home/yuncong/project/DavidData2014results/RS140/0024/RS140_x5_0024_gabor-blueNisslWide-segm-blueNisslRegular-vq-blueNissl_matchedBoundaries24With26SideBySide.jpgsaved /home/yuncong/project/DavidData2014results/RS140/0022/RS140_x5_0022_gabor-blueNisslWide-segm-blueNisslRegular-vq-blueNissl_matchedBoundaries22With24SideBySide.jpgsaved /home/yuncong/project/DavidData2014results/RS140/0023/RS140_x5_0023_gabor-blueNisslWide-segm-blueNisslRegular-vq-blueNissl_matchedBoundaries23With25SideBySide.jpgsaved /home/yuncong/project/DavidData2014results/RS140/0026/RS140_x5_0026_gabor-blueNisslWide-segm-blueNisslRegular-vq-blueNissl_matchedBoundaries26With28SideBySide.jpgsaved /home/yuncong/project/DavidData2014results/RS140/0025/RS140_x5_0025_gabor-blueNisslWide-segm-blueNisslRegular-vq-blueNissl_matchedBoundaries25With27SideBySide.jpgsaved /home/yuncong/project/DavidData2014results/RS140/0027/RS140_x5_0027_gabor-blueNisslWide-segm-blueNisslRegular-vq-blueNissl_matchedBoundaries27With29SideBySide.jpgsaved /home/yuncong/project/DavidData2014results/RS140/0028/RS140_x5_0028_gabor-blueNisslWide-segm-blueNisslRegular-vq-blueNissl_matchedBoundaries28With30SideBySide.jpgsaved /home/yuncong/project/DavidData2014results/RS140/0029/RS140_x5_0029_gabor-blueNisslWide-segm-blueNisslRegular-vq-blueNissl_matchedBoundaries29With31SideBySide.jpgsaved /home/yuncong/project/DavidData2014results/RS140/0030/RS140_x5_0030_gabor-blueNisslWide-segm-blueNisslRegular-vq-blueNissl_matchedBoundaries30With32SideBySide.jpgsaved /home/yuncong/project/DavidData2014results/RS140/0031/RS140_x5_0031_gabor-blueNisslWide-segm-blueNisslRegular-vq-blueNissl_matchedBoundaries31With33SideBySide.jpg\n",
      "\n",
      "\n",
      "\n",
      "\n",
      "\n",
      "\n",
      "\n",
      "\n",
      "\n",
      "\n",
      "\n",
      "\n",
      "\n",
      "\n",
      "\n",
      "saved /home/yuncong/project/DavidData2014results/RS140/0018/RS140_x5_0018_gabor-blueNisslWide-segm-blueNisslRegular-vq-blueNissl_matchedBoundaries18With16SideBySide.jpgsaved /home/yuncong/project/DavidData2014results/RS140/0019/RS140_x5_0019_gabor-blueNisslWide-segm-blueNisslRegular-vq-blueNissl_matchedBoundaries19With17SideBySide.jpgsaved /home/yuncong/project/DavidData2014results/RS140/0020/RS140_x5_0020_gabor-blueNisslWide-segm-blueNisslRegular-vq-blueNissl_matchedBoundaries20With18SideBySide.jpgsaved /home/yuncong/project/DavidData2014results/RS140/0021/RS140_x5_0021_gabor-blueNisslWide-segm-blueNisslRegular-vq-blueNissl_matchedBoundaries21With19SideBySide.jpgsaved /home/yuncong/project/DavidData2014results/RS140/0023/RS140_x5_0023_gabor-blueNisslWide-segm-blueNisslRegular-vq-blueNissl_matchedBoundaries23With21SideBySide.jpgsaved /home/yuncong/project/DavidData2014results/RS140/0022/RS140_x5_0022_gabor-blueNisslWide-segm-blueNisslRegular-vq-blueNissl_matchedBoundaries22With20SideBySide.jpgsaved /home/yuncong/project/DavidData2014results/RS140/0026/RS140_x5_0026_gabor-blueNisslWide-segm-blueNisslRegular-vq-blueNissl_matchedBoundaries26With24SideBySide.jpgsaved /home/yuncong/project/DavidData2014results/RS140/0024/RS140_x5_0024_gabor-blueNisslWide-segm-blueNisslRegular-vq-blueNissl_matchedBoundaries24With22SideBySide.jpgsaved /home/yuncong/project/DavidData2014results/RS140/0025/RS140_x5_0025_gabor-blueNisslWide-segm-blueNisslRegular-vq-blueNissl_matchedBoundaries25With23SideBySide.jpgsaved /home/yuncong/project/DavidData2014results/RS140/0028/RS140_x5_0028_gabor-blueNisslWide-segm-blueNisslRegular-vq-blueNissl_matchedBoundaries28With26SideBySide.jpgsaved /home/yuncong/project/DavidData2014results/RS140/0027/RS140_x5_0027_gabor-blueNisslWide-segm-blueNisslRegular-vq-blueNissl_matchedBoundaries27With25SideBySide.jpgsaved /home/yuncong/project/DavidData2014results/RS140/0029/RS140_x5_0029_gabor-blueNisslWide-segm-blueNisslRegular-vq-blueNissl_matchedBoundaries29With27SideBySide.jpgsaved /home/yuncong/project/DavidData2014results/RS140/0030/RS140_x5_0030_gabor-blueNisslWide-segm-blueNisslRegular-vq-blueNissl_matchedBoundaries30With28SideBySide.jpgsaved /home/yuncong/project/DavidData2014results/RS140/0031/RS140_x5_0031_gabor-blueNisslWide-segm-blueNisslRegular-vq-blueNissl_matchedBoundaries31With29SideBySide.jpgsaved /home/yuncong/project/DavidData2014results/RS140/0032/RS140_x5_0032_gabor-blueNisslWide-segm-blueNisslRegular-vq-blueNissl_matchedBoundaries32With30SideBySide.jpgsaved /home/yuncong/project/DavidData2014results/RS140/0033/RS140_x5_0033_gabor-blueNisslWide-segm-blueNisslRegular-vq-blueNissl_matchedBoundaries33With31SideBySide.jpg\n",
      "\n",
      "\n",
      "\n",
      "\n",
      "\n",
      "\n",
      "\n",
      "\n",
      "\n",
      "\n",
      "\n",
      "\n",
      "\n",
      "\n",
      "\n",
      "saved /home/yuncong/project/DavidData2014results/RS140/0032/RS140_x5_0032_gabor-blueNisslWide-segm-blueNisslRegular-vq-blueNissl_matchedBoundaries32With34SideBySide.jpgsaved /home/yuncong/project/DavidData2014results/RS140/0033/RS140_x5_0033_gabor-blueNisslWide-segm-blueNisslRegular-vq-blueNissl_matchedBoundaries33With35SideBySide.jpgsaved /home/yuncong/project/DavidData2014results/RS140/0034/RS140_x5_0034_gabor-blueNisslWide-segm-blueNisslRegular-vq-blueNissl_matchedBoundaries34With36SideBySide.jpg\n",
      "\n",
      "\n",
      "saved /home/yuncong/project/DavidData2014results/RS140/0034/RS140_x5_0034_gabor-blueNisslWide-segm-blueNisslRegular-vq-blueNissl_matchedBoundaries34With32SideBySide.jpgsaved /home/yuncong/project/DavidData2014results/RS140/0035/RS140_x5_0035_gabor-blueNisslWide-segm-blueNisslRegular-vq-blueNissl_matchedBoundaries35With33SideBySide.jpgsaved /home/yuncong/project/DavidData2014results/RS140/0036/RS140_x5_0036_gabor-blueNisslWide-segm-blueNisslRegular-vq-blueNissl_matchedBoundaries36With34SideBySide.jpg\n",
      "\n",
      "\n",
      "38.9737820625\n",
      "saved /home/yuncong/project/DavidData2014results/RS140/0008/RS140_x5_0008_gabor-blueNisslWide-segm-blueNisslRegular-vq-blueNissl_matchedBoundaries8With11SideBySide.jpg\n",
      "saved /home/yuncong/project/DavidData2014results/RS140/0002/RS140_x5_0002_gabor-blueNisslWide-segm-blueNisslRegular-vq-blueNissl_matchedBoundaries2With5SideBySide.jpg\n",
      "saved /home/yuncong/project/DavidData2014results/RS140/0000/RS140_x5_0000_gabor-blueNisslWide-segm-blueNisslRegular-vq-blueNissl_matchedBoundaries0With3SideBySide.jpg\n",
      "saved /home/yuncong/project/DavidData2014results/RS140/0007/RS140_x5_0007_gabor-blueNisslWide-segm-blueNisslRegular-vq-blueNissl_matchedBoundaries7With10SideBySide.jpg\n",
      "saved /home/yuncong/project/DavidData2014results/RS140/0010/RS140_x5_0010_gabor-blueNisslWide-segm-blueNisslRegular-vq-blueNissl_matchedBoundaries10With13SideBySide.jpg\n",
      "saved /home/yuncong/project/DavidData2014results/RS140/0005/RS140_x5_0005_gabor-blueNisslWide-segm-blueNisslRegular-vq-blueNissl_matchedBoundaries5With8SideBySide.jpg\n",
      "saved /home/yuncong/project/DavidData2014results/RS140/0004/RS140_x5_0004_gabor-blueNisslWide-segm-blueNisslRegular-vq-blueNissl_matchedBoundaries4With7SideBySide.jpg\n",
      "saved /home/yuncong/project/DavidData2014results/RS140/0015/RS140_x5_0015_gabor-blueNisslWide-segm-blueNisslRegular-vq-blueNissl_matchedBoundaries15With18SideBySide.jpg\n",
      "saved /home/yuncong/project/DavidData2014results/RS140/0012/RS140_x5_0012_gabor-blueNisslWide-segm-blueNisslRegular-vq-blueNissl_matchedBoundaries12With15SideBySide.jpg\n",
      "saved /home/yuncong/project/DavidData2014results/RS140/0014/RS140_x5_0014_gabor-blueNisslWide-segm-blueNisslRegular-vq-blueNissl_matchedBoundaries14With17SideBySide.jpg\n",
      "saved /home/yuncong/project/DavidData2014results/RS140/0001/RS140_x5_0001_gabor-blueNisslWide-segm-blueNisslRegular-vq-blueNissl_matchedBoundaries1With4SideBySide.jpg\n",
      "saved /home/yuncong/project/DavidData2014results/RS140/0011/RS140_x5_0011_gabor-blueNisslWide-segm-blueNisslRegular-vq-blueNissl_matchedBoundaries11With14SideBySide.jpg\n",
      "saved /home/yuncong/project/DavidData2014results/RS140/0009/RS140_x5_0009_gabor-blueNisslWide-segm-blueNisslRegular-vq-blueNissl_matchedBoundaries9With12SideBySide.jpg\n",
      "saved /home/yuncong/project/DavidData2014results/RS140/0006/RS140_x5_0006_gabor-blueNisslWide-segm-blueNisslRegular-vq-blueNissl_matchedBoundaries6With9SideBySide.jpg\n",
      "saved /home/yuncong/project/DavidData2014results/RS140/0013/RS140_x5_0013_gabor-blueNisslWide-segm-blueNisslRegular-vq-blueNissl_matchedBoundaries13With16SideBySide.jpg\n",
      "saved /home/yuncong/project/DavidData2014results/RS140/0003/RS140_x5_0003_gabor-blueNisslWide-segm-blueNisslRegular-vq-blueNissl_matchedBoundaries3With6SideBySide.jpg\n",
      "saved /home/yuncong/project/DavidData2014results/RS140/0011/RS140_x5_0011_gabor-blueNisslWide-segm-blueNisslRegular-vq-blueNissl_matchedBoundaries11With8SideBySide.jpgsaved /home/yuncong/project/DavidData2014results/RS140/0005/RS140_x5_0005_gabor-blueNisslWide-segm-blueNisslRegular-vq-blueNissl_matchedBoundaries5With2SideBySide.jpgsaved /home/yuncong/project/DavidData2014results/RS140/0003/RS140_x5_0003_gabor-blueNisslWide-segm-blueNisslRegular-vq-blueNissl_matchedBoundaries3With0SideBySide.jpgsaved /home/yuncong/project/DavidData2014results/RS140/0010/RS140_x5_0010_gabor-blueNisslWide-segm-blueNisslRegular-vq-blueNissl_matchedBoundaries10With7SideBySide.jpgsaved /home/yuncong/project/DavidData2014results/RS140/0013/RS140_x5_0013_gabor-blueNisslWide-segm-blueNisslRegular-vq-blueNissl_matchedBoundaries13With10SideBySide.jpgsaved /home/yuncong/project/DavidData2014results/RS140/0008/RS140_x5_0008_gabor-blueNisslWide-segm-blueNisslRegular-vq-blueNissl_matchedBoundaries8With5SideBySide.jpgsaved /home/yuncong/project/DavidData2014results/RS140/0007/RS140_x5_0007_gabor-blueNisslWide-segm-blueNisslRegular-vq-blueNissl_matchedBoundaries7With4SideBySide.jpgsaved /home/yuncong/project/DavidData2014results/RS140/0018/RS140_x5_0018_gabor-blueNisslWide-segm-blueNisslRegular-vq-blueNissl_matchedBoundaries18With15SideBySide.jpgsaved /home/yuncong/project/DavidData2014results/RS140/0015/RS140_x5_0015_gabor-blueNisslWide-segm-blueNisslRegular-vq-blueNissl_matchedBoundaries15With12SideBySide.jpgsaved /home/yuncong/project/DavidData2014results/RS140/0017/RS140_x5_0017_gabor-blueNisslWide-segm-blueNisslRegular-vq-blueNissl_matchedBoundaries17With14SideBySide.jpgsaved /home/yuncong/project/DavidData2014results/RS140/0004/RS140_x5_0004_gabor-blueNisslWide-segm-blueNisslRegular-vq-blueNissl_matchedBoundaries4With1SideBySide.jpgsaved /home/yuncong/project/DavidData2014results/RS140/0014/RS140_x5_0014_gabor-blueNisslWide-segm-blueNisslRegular-vq-blueNissl_matchedBoundaries14With11SideBySide.jpgsaved /home/yuncong/project/DavidData2014results/RS140/0012/RS140_x5_0012_gabor-blueNisslWide-segm-blueNisslRegular-vq-blueNissl_matchedBoundaries12With9SideBySide.jpgsaved /home/yuncong/project/DavidData2014results/RS140/0009/RS140_x5_0009_gabor-blueNisslWide-segm-blueNisslRegular-vq-blueNissl_matchedBoundaries9With6SideBySide.jpgsaved /home/yuncong/project/DavidData2014results/RS140/0016/RS140_x5_0016_gabor-blueNisslWide-segm-blueNisslRegular-vq-blueNissl_matchedBoundaries16With13SideBySide.jpgsaved /home/yuncong/project/DavidData2014results/RS140/0006/RS140_x5_0006_gabor-blueNisslWide-segm-blueNisslRegular-vq-blueNissl_matchedBoundaries6With3SideBySide.jpg\n",
      "\n",
      "\n",
      "\n",
      "\n",
      "\n",
      "\n",
      "\n",
      "\n",
      "\n",
      "\n",
      "\n",
      "\n",
      "\n",
      "\n",
      "\n",
      "saved /home/yuncong/project/DavidData2014results/RS140/0016/RS140_x5_0016_gabor-blueNisslWide-segm-blueNisslRegular-vq-blueNissl_matchedBoundaries16With19SideBySide.jpgsaved /home/yuncong/project/DavidData2014results/RS140/0017/RS140_x5_0017_gabor-blueNisslWide-segm-blueNisslRegular-vq-blueNissl_matchedBoundaries17With20SideBySide.jpgsaved /home/yuncong/project/DavidData2014results/RS140/0018/RS140_x5_0018_gabor-blueNisslWide-segm-blueNisslRegular-vq-blueNissl_matchedBoundaries18With21SideBySide.jpgsaved /home/yuncong/project/DavidData2014results/RS140/0019/RS140_x5_0019_gabor-blueNisslWide-segm-blueNisslRegular-vq-blueNissl_matchedBoundaries19With22SideBySide.jpgsaved /home/yuncong/project/DavidData2014results/RS140/0020/RS140_x5_0020_gabor-blueNisslWide-segm-blueNisslRegular-vq-blueNissl_matchedBoundaries20With23SideBySide.jpgsaved /home/yuncong/project/DavidData2014results/RS140/0021/RS140_x5_0021_gabor-blueNisslWide-segm-blueNisslRegular-vq-blueNissl_matchedBoundaries21With24SideBySide.jpgsaved /home/yuncong/project/DavidData2014results/RS140/0022/RS140_x5_0022_gabor-blueNisslWide-segm-blueNisslRegular-vq-blueNissl_matchedBoundaries22With25SideBySide.jpgsaved /home/yuncong/project/DavidData2014results/RS140/0023/RS140_x5_0023_gabor-blueNisslWide-segm-blueNisslRegular-vq-blueNissl_matchedBoundaries23With26SideBySide.jpgsaved /home/yuncong/project/DavidData2014results/RS140/0025/RS140_x5_0025_gabor-blueNisslWide-segm-blueNisslRegular-vq-blueNissl_matchedBoundaries25With28SideBySide.jpgsaved /home/yuncong/project/DavidData2014results/RS140/0026/RS140_x5_0026_gabor-blueNisslWide-segm-blueNisslRegular-vq-blueNissl_matchedBoundaries26With29SideBySide.jpgsaved /home/yuncong/project/DavidData2014results/RS140/0024/RS140_x5_0024_gabor-blueNisslWide-segm-blueNisslRegular-vq-blueNissl_matchedBoundaries24With27SideBySide.jpgsaved /home/yuncong/project/DavidData2014results/RS140/0027/RS140_x5_0027_gabor-blueNisslWide-segm-blueNisslRegular-vq-blueNissl_matchedBoundaries27With30SideBySide.jpgsaved /home/yuncong/project/DavidData2014results/RS140/0028/RS140_x5_0028_gabor-blueNisslWide-segm-blueNisslRegular-vq-blueNissl_matchedBoundaries28With31SideBySide.jpgsaved /home/yuncong/project/DavidData2014results/RS140/0031/RS140_x5_0031_gabor-blueNisslWide-segm-blueNisslRegular-vq-blueNissl_matchedBoundaries31With34SideBySide.jpgsaved /home/yuncong/project/DavidData2014results/RS140/0029/RS140_x5_0029_gabor-blueNisslWide-segm-blueNisslRegular-vq-blueNissl_matchedBoundaries29With32SideBySide.jpgsaved /home/yuncong/project/DavidData2014results/RS140/0030/RS140_x5_0030_gabor-blueNisslWide-segm-blueNisslRegular-vq-blueNissl_matchedBoundaries30With33SideBySide.jpg\n",
      "\n",
      "\n",
      "\n",
      "\n",
      "\n",
      "\n",
      "\n",
      "\n",
      "\n",
      "\n",
      "\n",
      "\n",
      "\n",
      "\n",
      "\n",
      "saved /home/yuncong/project/DavidData2014results/RS140/0019/RS140_x5_0019_gabor-blueNisslWide-segm-blueNisslRegular-vq-blueNissl_matchedBoundaries19With16SideBySide.jpgsaved /home/yuncong/project/DavidData2014results/RS140/0020/RS140_x5_0020_gabor-blueNisslWide-segm-blueNisslRegular-vq-blueNissl_matchedBoundaries20With17SideBySide.jpgsaved /home/yuncong/project/DavidData2014results/RS140/0021/RS140_x5_0021_gabor-blueNisslWide-segm-blueNisslRegular-vq-blueNissl_matchedBoundaries21With18SideBySide.jpgsaved /home/yuncong/project/DavidData2014results/RS140/0022/RS140_x5_0022_gabor-blueNisslWide-segm-blueNisslRegular-vq-blueNissl_matchedBoundaries22With19SideBySide.jpgsaved /home/yuncong/project/DavidData2014results/RS140/0023/RS140_x5_0023_gabor-blueNisslWide-segm-blueNisslRegular-vq-blueNissl_matchedBoundaries23With20SideBySide.jpgsaved /home/yuncong/project/DavidData2014results/RS140/0024/RS140_x5_0024_gabor-blueNisslWide-segm-blueNisslRegular-vq-blueNissl_matchedBoundaries24With21SideBySide.jpgsaved /home/yuncong/project/DavidData2014results/RS140/0025/RS140_x5_0025_gabor-blueNisslWide-segm-blueNisslRegular-vq-blueNissl_matchedBoundaries25With22SideBySide.jpgsaved /home/yuncong/project/DavidData2014results/RS140/0026/RS140_x5_0026_gabor-blueNisslWide-segm-blueNisslRegular-vq-blueNissl_matchedBoundaries26With23SideBySide.jpgsaved /home/yuncong/project/DavidData2014results/RS140/0028/RS140_x5_0028_gabor-blueNisslWide-segm-blueNisslRegular-vq-blueNissl_matchedBoundaries28With25SideBySide.jpgsaved /home/yuncong/project/DavidData2014results/RS140/0029/RS140_x5_0029_gabor-blueNisslWide-segm-blueNisslRegular-vq-blueNissl_matchedBoundaries29With26SideBySide.jpgsaved /home/yuncong/project/DavidData2014results/RS140/0027/RS140_x5_0027_gabor-blueNisslWide-segm-blueNisslRegular-vq-blueNissl_matchedBoundaries27With24SideBySide.jpgsaved /home/yuncong/project/DavidData2014results/RS140/0030/RS140_x5_0030_gabor-blueNisslWide-segm-blueNisslRegular-vq-blueNissl_matchedBoundaries30With27SideBySide.jpgsaved /home/yuncong/project/DavidData2014results/RS140/0031/RS140_x5_0031_gabor-blueNisslWide-segm-blueNisslRegular-vq-blueNissl_matchedBoundaries31With28SideBySide.jpgsaved /home/yuncong/project/DavidData2014results/RS140/0034/RS140_x5_0034_gabor-blueNisslWide-segm-blueNisslRegular-vq-blueNissl_matchedBoundaries34With31SideBySide.jpgsaved /home/yuncong/project/DavidData2014results/RS140/0032/RS140_x5_0032_gabor-blueNisslWide-segm-blueNisslRegular-vq-blueNissl_matchedBoundaries32With29SideBySide.jpgsaved /home/yuncong/project/DavidData2014results/RS140/0033/RS140_x5_0033_gabor-blueNisslWide-segm-blueNisslRegular-vq-blueNissl_matchedBoundaries33With30SideBySide.jpg\n",
      "\n",
      "\n",
      "\n",
      "\n",
      "\n",
      "\n",
      "\n",
      "\n",
      "\n",
      "\n",
      "\n",
      "\n",
      "\n",
      "\n",
      "\n",
      "saved /home/yuncong/project/DavidData2014results/RS140/0033/RS140_x5_0033_gabor-blueNisslWide-segm-blueNisslRegular-vq-blueNissl_matchedBoundaries33With36SideBySide.jpgsaved /home/yuncong/project/DavidData2014results/RS140/0032/RS140_x5_0032_gabor-blueNisslWide-segm-blueNisslRegular-vq-blueNissl_matchedBoundaries32With35SideBySide.jpg\n",
      "\n",
      "saved /home/yuncong/project/DavidData2014results/RS140/0036/RS140_x5_0036_gabor-blueNisslWide-segm-blueNisslRegular-vq-blueNissl_matchedBoundaries36With33SideBySide.jpgsaved /home/yuncong/project/DavidData2014results/RS140/0035/RS140_x5_0035_gabor-blueNisslWide-segm-blueNisslRegular-vq-blueNissl_matchedBoundaries35With32SideBySide.jpg\n",
      "\n"
     ]
    }
   ],
   "source": [
    "t = time.time()\n",
    "Parallel(n_jobs=16)(delayed(generate_matching_visualizations)(sec_ind, sec_ind+1) for sec_ind in range(n_slice-1))\n",
    "Parallel(n_jobs=16)(delayed(generate_matching_visualizations)(sec_ind, sec_ind+2) for sec_ind in range(n_slice-2))\n",
    "Parallel(n_jobs=16)(delayed(generate_matching_visualizations)(sec_ind, sec_ind+3) for sec_ind in range(n_slice-3))\n",
    "print time.time() - t"
   ]
  },
  {
   "cell_type": "code",
   "execution_count": null,
   "metadata": {
    "collapsed": true
   },
   "outputs": [],
   "source": []
  }
 ],
 "metadata": {
  "kernelspec": {
   "display_name": "Python 2",
   "language": "python",
   "name": "python2"
  },
  "language_info": {
   "codemirror_mode": {
    "name": "ipython",
    "version": 2
   },
   "file_extension": ".py",
   "mimetype": "text/x-python",
   "name": "python",
   "nbconvert_exporter": "python",
   "pygments_lexer": "ipython2",
   "version": "2.7.3"
  }
 },
 "nbformat": 4,
 "nbformat_minor": 0
}
