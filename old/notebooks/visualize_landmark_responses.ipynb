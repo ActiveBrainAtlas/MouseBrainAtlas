{
 "cells": [
  {
   "cell_type": "code",
   "execution_count": 1,
   "metadata": {
    "collapsed": false
   },
   "outputs": [],
   "source": [
    "%load_ext autoreload\n",
    "%autoreload 2\n",
    "\n",
    "import os\n",
    "import sys\n",
    "\n",
    "from utilities2014 import *\n",
    "\n",
    "import time\n",
    "\n",
    "sys.path.append('/home/yuncong/project/opencv-2.4.9/release/lib/python2.7/site-packages')\n",
    "import cv2\n",
    "\n",
    "from scipy.spatial.distance import cdist, pdist, squareform\n",
    "from scipy.cluster.hierarchy import average, fcluster, leaders, complete, single, dendrogram, ward\n",
    "\n",
    "from joblib import Parallel, delayed\n",
    "\n",
    "from skimage.color import gray2rgb\n",
    "from skimage.util import img_as_float, pad\n",
    "from skimage.morphology import disk\n",
    "from skimage.filters.rank import gradient\n",
    "\n",
    "from collections import defaultdict, Counter\n",
    "from itertools import combinations, chain, product\n",
    "\n",
    "import networkx\n",
    "from networkx import from_dict_of_lists, dfs_postorder_nodes\n",
    "\n",
    "import matplotlib.pyplot as plt\n",
    "%matplotlib inline"
   ]
  },
  {
   "cell_type": "code",
   "execution_count": 2,
   "metadata": {
    "collapsed": true
   },
   "outputs": [],
   "source": [
    "from skimage.feature import peak_local_max\n",
    "\n",
    "def find_peaks(vs_max, topk=3):\n",
    "    \n",
    "    vs_max_smooth = gaussian_filter(vs_max, sigma=10)\n",
    "\n",
    "    peaks = peak_local_max(vs_max_smooth)\n",
    "    ypeaks = peaks[:,0]\n",
    "    xpeaks = peaks[:,1]\n",
    "\n",
    "    order = np.argsort(vs_max_smooth[ypeaks, xpeaks])[::-1]\n",
    "    ypeaks = ypeaks[order]\n",
    "    xpeaks = xpeaks[order]\n",
    "\n",
    "    return [(x, y, vs_max[y, x]) for y, x in zip(ypeaks, xpeaks)[:topk]]\n",
    "\n",
    "def find_peaks_all_rotations(vs_max_all_angles, topk=3):\n",
    "    \n",
    "    topk_locs = []\n",
    "    for theta, vs_max in enumerate(vs_max_all_angles):\n",
    "        topk_locs += map(lambda t: t+(theta,), find_peaks(vs_max, topk))\n",
    "        \n",
    "    topk_locs = sorted(topk_locs, key=lambda x: x[2], reverse=True)[:topk]\n",
    "    \n",
    "    return topk_locs"
   ]
  },
  {
   "cell_type": "code",
   "execution_count": 3,
   "metadata": {
    "collapsed": true
   },
   "outputs": [],
   "source": [
    "thetas = np.linspace(-np.pi/4, np.pi/4, 9)\n",
    "n_theta = len(thetas)"
   ]
  },
  {
   "cell_type": "code",
   "execution_count": 4,
   "metadata": {
    "collapsed": false
   },
   "outputs": [
    {
     "name": "stderr",
     "output_type": "stream",
     "text": [
      "/oasis/projects/nsf/csd181/yuncong/virtualenv-1.9.1/yuncongve/lib/python2.7/site-packages/skimage/filter/__init__.py:6: skimage_deprecation: The `skimage.filter` module has been renamed to `skimage.filters`.  This placeholder module will be removed in v0.13.\n",
      "  warn(skimage_deprecation('The `skimage.filter` module has been renamed '\n"
     ]
    }
   ],
   "source": [
    "dms = [DataManager(generate_hierarchy=False, stack='RS141', resol='x5', section=i) for i in range(7)]\n",
    "for dm in dms:\n",
    "    dm._load_image()"
   ]
  },
  {
   "cell_type": "code",
   "execution_count": 5,
   "metadata": {
    "collapsed": true
   },
   "outputs": [],
   "source": [
    "atlas_landmark_desc = 'RS141_0001_yuncong_08212015001655'"
   ]
  },
  {
   "cell_type": "code",
   "execution_count": 42,
   "metadata": {
    "collapsed": true
   },
   "outputs": [],
   "source": [
    "from enum import Enum\n",
    "\n",
    "class PolygonType(Enum):\n",
    "    CLOSED = 'closed'\n",
    "    OPEN = 'open'\n",
    "    TEXTURE = 'textured'\n",
    "    TEXTURE_WITH_CONTOUR = 'texture with contour'\n",
    "    DIRECTION = 'directionality'"
   ]
  },
  {
   "cell_type": "code",
   "execution_count": 44,
   "metadata": {
    "collapsed": false
   },
   "outputs": [],
   "source": [
    "with open('/home/yuncong/project/DavidData2014labelings/RS141/0001/RS141_0001_yuncong_08212015001655.pkl', 'r') as f:\n",
    "    labeling = pickle.load(f)"
   ]
  },
  {
   "cell_type": "code",
   "execution_count": 9,
   "metadata": {
    "collapsed": false
   },
   "outputs": [],
   "source": [
    "def load_lm_vertices(lm_ind):\n",
    "        \n",
    "    vertices_all_rotations = [None for _ in range(n_theta)]\n",
    "    for theta_i in range(n_theta):\n",
    "        vertices_all_rotations[theta_i] = (striation_points_all_rotations[theta_i] if striation_points_all_rotations[theta_i] is not None else []) \\\n",
    "        + (textured_area_vertices_all_rotations[theta_i] if textured_area_vertices_all_rotations[theta_i] is not None else []) \\\n",
    "        + (boundary_vertices_all_rotations[theta_i] if boundary_vertices_all_rotations[theta_i] is not None else [])\n",
    "            \n",
    "    return (lm_ind, vertices_all_rotations)\n",
    "\n",
    "landmark_indices = range(17)\n",
    "landmark_vertices = dict(Parallel(n_jobs=16)(delayed(load_lm_vertices)(lm_ind) for lm_ind in landmark_indices))"
   ]
  },
  {
   "cell_type": "code",
   "execution_count": null,
   "metadata": {
    "collapsed": true
   },
   "outputs": [],
   "source": [
    "landmark_descriptors = dict(Parallel(n_jobs=16)(delayed(compute_landmark_descriptors_helper)(label, list(group)) \n",
    "                            for label, group in groupby(sorted(labelings['final_polygons'], key=itemgetter(0)),\n",
    "                                                        itemgetter(0))))\n",
    "\n",
    "\n",
    "all_polygon_vertices_global = [vertices for _, _, vertices in group]\n",
    "\n",
    "all_vertices = np.vstack(all_polygon_vertices_global)\n",
    "\n",
    "xmin, ymin = all_vertices.min(axis=0).astype(np.int)\n",
    "xmax, ymax = all_vertices.max(axis=0).astype(np.int)\n",
    "centroid_global = all_vertices.mean(axis=0).astype(np.int)\n",
    "\n",
    "all_polygon_vertices_rotated_global_all_rotations = []\n",
    "\n",
    "for theta_i in range(n_theta):\n",
    "    all_polygon_vertices_rotated_global = [np.dot(vertices - centroid_global, Rs[theta_i].T).astype(np.int) + centroid_global\n",
    "                                           for vertices in all_polygon_vertices_global]\n",
    "    all_polygon_vertices_rotated_global_all_rotations.append(all_polygon_vertices_rotated_global)\n"
   ]
  },
  {
   "cell_type": "code",
   "execution_count": 27,
   "metadata": {
    "collapsed": true
   },
   "outputs": [],
   "source": [
    "def visualize_peaks(sec_ind, lm_ind, theta_i):\n",
    "\n",
    "    response_map_all_rotations = dms[sec_ind].load_pipeline_result('responseMapLmAllRotations%d'%lm_ind, 'npy')\n",
    "\n",
    "    lm_centroids_global = dms[sec_ind].load_pipeline_result('landmarkPositionsBeforeSnap', 'npy')\n",
    "    cx, cy = lm_centroids_global[lm_ind]\n",
    "\n",
    "    r = response_map_all_rotations[theta_i]\n",
    "    \n",
    "    top_locs = find_peaks(r, topk=-1)\n",
    "\n",
    "    viz = img_as_ubyte(plt.cm.jet(r/r.max())[...,:3])\n",
    "\n",
    "    for i, (x,y,s) in enumerate(top_locs):\n",
    "        cv2.circle(viz, (x,y), 10, (0,0,0), -1)\n",
    "\n",
    "    for i, (x,y,s) in enumerate(top_locs[:30]):\n",
    "        cv2.putText(viz, '%d'%i, (x,y), cv2.FONT_HERSHEY_SCRIPT_SIMPLEX, 2, (0,0,0), 5)\n",
    "\n",
    "    cv2.circle(viz, (cx,cy), 30, (255,255,255), -1)\n",
    "\n",
    "    return viz"
   ]
  },
  {
   "cell_type": "code",
   "execution_count": 38,
   "metadata": {
    "collapsed": false
   },
   "outputs": [
    {
     "data": {
      "text/html": [
       "<a href='tmp.jpg' target='_blank'>tmp.jpg</a><br>"
      ],
      "text/plain": [
       "/oasis/projects/nsf/csd395/yuncong/Brain/notebooks/tmp.jpg"
      ]
     },
     "execution_count": 38,
     "metadata": {},
     "output_type": "execute_result"
    }
   ],
   "source": [
    "viz = visualize_peaks(sec_ind=5, lm_ind=1, theta_i=4)\n",
    "display(viz)"
   ]
  },
  {
   "cell_type": "code",
   "execution_count": 33,
   "metadata": {
    "collapsed": false
   },
   "outputs": [],
   "source": [
    "def visualize_top_responses(sec_ind, lm_ind):\n",
    "    dm = dms[sec_ind]\n",
    "    \n",
    "    viz = img_as_ubyte(dm.image_rgb)\n",
    "    \n",
    "    response_map_all_rotations = dms[sec_ind].load_pipeline_result('responseMapLmAllRotations%d'%lm_ind, 'npy')\n",
    "    top_locs = find_peaks_all_rotations(response_map_all_rotations, topk=10)\n",
    "    \n",
    "    with open('/home/yuncong/csd395/landmark_descriptors/%s_landmark_centroid_global_%d.pkl'%(atlas_landmark_desc, lm_ind), 'r') as f:\n",
    "        lm_centroid_global = pickle.load(f)\n",
    "    \n",
    "    for i, (x, y, v, theta_i) in enumerate(top_locs):\n",
    "                \n",
    "        c = np.random.randint(0,255,3)\n",
    "        \n",
    "        for polygon_vs in landmark_vertices[lm_ind][int(theta_i)]:\n",
    "            shifted_vertices = (polygon_vs + (x,y) - lm_centroid_global).astype(np.int, copy=False)\n",
    "            for vx, vy in shifted_vertices:\n",
    "                cv2.circle(viz, (vx, vy), 6, c, -1)\n",
    "            cv2.polylines(viz, [shifted_vertices.astype(np.int)], True, c, 3)\n",
    "\n",
    "        cv2.putText(viz, str(i), (x.astype(np.int), y.astype(np.int)), \n",
    "                    cv2.FONT_HERSHEY_SCRIPT_SIMPLEX, 3, c, 10)\n",
    "\n",
    "    return viz"
   ]
  },
  {
   "cell_type": "code",
   "execution_count": 23,
   "metadata": {
    "collapsed": false
   },
   "outputs": [
    {
     "data": {
      "text/html": [
       "<a href='tmp.jpg' target='_blank'>tmp.jpg</a><br>"
      ],
      "text/plain": [
       "/oasis/projects/nsf/csd395/yuncong/Brain/notebooks/tmp.jpg"
      ]
     },
     "execution_count": 23,
     "metadata": {},
     "output_type": "execute_result"
    }
   ],
   "source": [
    "topPos_viz = visualize_top_responses(sec_ind=5, lm_ind=6)\n",
    "display(topPos_viz)"
   ]
  },
  {
   "cell_type": "code",
   "execution_count": 15,
   "metadata": {
    "collapsed": false,
    "scrolled": true
   },
   "outputs": [
    {
     "name": "stdout",
     "output_type": "stream",
     "text": [
      "saved /oasis/projects/nsf/csd395/yuncong/DavidData2014results/RS141/0000/RS141_x5_0000_gabor-blueNisslWide-segm-blueNisslRegular-vq-blueNissl_topLocsLm6.jpg\n",
      "saved /oasis/projects/nsf/csd395/yuncong/DavidData2014results/RS141/0000/RS141_x5_0000_gabor-blueNisslWide-segm-blueNisslRegular-vq-blueNissl_topLocsLm9.jpg\n",
      "saved /oasis/projects/nsf/csd395/yuncong/DavidData2014results/RS141/0000/RS141_x5_0000_gabor-blueNisslWide-segm-blueNisslRegular-vq-blueNissl_topLocsLm5.jpg\n",
      "saved /oasis/projects/nsf/csd395/yuncong/DavidData2014results/RS141/0000/RS141_x5_0000_gabor-blueNisslWide-segm-blueNisslRegular-vq-blueNissl_topLocsLm8.jpg\n",
      "saved /oasis/projects/nsf/csd395/yuncong/DavidData2014results/RS141/0000/RS141_x5_0000_gabor-blueNisslWide-segm-blueNisslRegular-vq-blueNissl_topLocsLm7.jpg\n",
      "saved /oasis/projects/nsf/csd395/yuncong/DavidData2014results/RS141/0000/RS141_x5_0000_gabor-blueNisslWide-segm-blueNisslRegular-vq-blueNissl_topLocsLm0.jpg\n",
      "saved /oasis/projects/nsf/csd395/yuncong/DavidData2014results/RS141/0002/RS141_x5_0002_gabor-blueNisslWide-segm-blueNisslRegular-vq-blueNissl_topLocsLm5.jpg\n",
      "saved /oasis/projects/nsf/csd395/yuncong/DavidData2014results/RS141/0002/RS141_x5_0002_gabor-blueNisslWide-segm-blueNisslRegular-vq-blueNissl_topLocsLm7.jpg\n",
      "saved /oasis/projects/nsf/csd395/yuncong/DavidData2014results/RS141/0003/RS141_x5_0003_gabor-blueNisslWide-segm-blueNisslRegular-vq-blueNissl_topLocsLm6.jpg\n",
      "saved /oasis/projects/nsf/csd395/yuncong/DavidData2014results/RS141/0002/RS141_x5_0002_gabor-blueNisslWide-segm-blueNisslRegular-vq-blueNissl_topLocsLm9.jpg\n",
      "saved /oasis/projects/nsf/csd395/yuncong/DavidData2014results/RS141/0002/RS141_x5_0002_gabor-blueNisslWide-segm-blueNisslRegular-vq-blueNissl_topLocsLm6.jpg\n",
      "saved /oasis/projects/nsf/csd395/yuncong/DavidData2014results/RS141/0003/RS141_x5_0003_gabor-blueNisslWide-segm-blueNisslRegular-vq-blueNissl_topLocsLm5.jpg\n",
      "saved /oasis/projects/nsf/csd395/yuncong/DavidData2014results/RS141/0003/RS141_x5_0003_gabor-blueNisslWide-segm-blueNisslRegular-vq-blueNissl_topLocsLm0.jpg\n",
      "saved /oasis/projects/nsf/csd395/yuncong/DavidData2014results/RS141/0003/RS141_x5_0003_gabor-blueNisslWide-segm-blueNisslRegular-vq-blueNissl_topLocsLm7.jpg\n",
      "saved /oasis/projects/nsf/csd395/yuncong/DavidData2014results/RS141/0002/RS141_x5_0002_gabor-blueNisslWide-segm-blueNisslRegular-vq-blueNissl_topLocsLm0.jpg\n",
      "saved /oasis/projects/nsf/csd395/yuncong/DavidData2014results/RS141/0002/RS141_x5_0002_gabor-blueNisslWide-segm-blueNisslRegular-vq-blueNissl_topLocsLm8.jpg\n",
      "saved /oasis/projects/nsf/csd395/yuncong/DavidData2014results/RS141/0003/RS141_x5_0003_gabor-blueNisslWide-segm-blueNisslRegular-vq-blueNissl_topLocsLm8.jpgsaved /oasis/projects/nsf/csd395/yuncong/DavidData2014results/RS141/0003/RS141_x5_0003_gabor-blueNisslWide-segm-blueNisslRegular-vq-blueNissl_topLocsLm9.jpgsaved /oasis/projects/nsf/csd395/yuncong/DavidData2014results/RS141/0004/RS141_x5_0004_gabor-blueNisslWide-segm-blueNisslRegular-vq-blueNissl_topLocsLm0.jpgsaved /oasis/projects/nsf/csd395/yuncong/DavidData2014results/RS141/0004/RS141_x5_0004_gabor-blueNisslWide-segm-blueNisslRegular-vq-blueNissl_topLocsLm5.jpgsaved /oasis/projects/nsf/csd395/yuncong/DavidData2014results/RS141/0004/RS141_x5_0004_gabor-blueNisslWide-segm-blueNisslRegular-vq-blueNissl_topLocsLm6.jpgsaved /oasis/projects/nsf/csd395/yuncong/DavidData2014results/RS141/0004/RS141_x5_0004_gabor-blueNisslWide-segm-blueNisslRegular-vq-blueNissl_topLocsLm7.jpgsaved /oasis/projects/nsf/csd395/yuncong/DavidData2014results/RS141/0004/RS141_x5_0004_gabor-blueNisslWide-segm-blueNisslRegular-vq-blueNissl_topLocsLm8.jpgsaved /oasis/projects/nsf/csd395/yuncong/DavidData2014results/RS141/0004/RS141_x5_0004_gabor-blueNisslWide-segm-blueNisslRegular-vq-blueNissl_topLocsLm9.jpgsaved /oasis/projects/nsf/csd395/yuncong/DavidData2014results/RS141/0005/RS141_x5_0005_gabor-blueNisslWide-segm-blueNisslRegular-vq-blueNissl_topLocsLm0.jpgsaved /oasis/projects/nsf/csd395/yuncong/DavidData2014results/RS141/0005/RS141_x5_0005_gabor-blueNisslWide-segm-blueNisslRegular-vq-blueNissl_topLocsLm5.jpgsaved /oasis/projects/nsf/csd395/yuncong/DavidData2014results/RS141/0005/RS141_x5_0005_gabor-blueNisslWide-segm-blueNisslRegular-vq-blueNissl_topLocsLm6.jpgsaved /oasis/projects/nsf/csd395/yuncong/DavidData2014results/RS141/0005/RS141_x5_0005_gabor-blueNisslWide-segm-blueNisslRegular-vq-blueNissl_topLocsLm7.jpgsaved /oasis/projects/nsf/csd395/yuncong/DavidData2014results/RS141/0005/RS141_x5_0005_gabor-blueNisslWide-segm-blueNisslRegular-vq-blueNissl_topLocsLm8.jpgsaved /oasis/projects/nsf/csd395/yuncong/DavidData2014results/RS141/0005/RS141_x5_0005_gabor-blueNisslWide-segm-blueNisslRegular-vq-blueNissl_topLocsLm9.jpgsaved /oasis/projects/nsf/csd395/yuncong/DavidData2014results/RS141/0006/RS141_x5_0006_gabor-blueNisslWide-segm-blueNisslRegular-vq-blueNissl_topLocsLm0.jpgsaved /oasis/projects/nsf/csd395/yuncong/DavidData2014results/RS141/0006/RS141_x5_0006_gabor-blueNisslWide-segm-blueNisslRegular-vq-blueNissl_topLocsLm5.jpg\n",
      "\n",
      "\n",
      "\n",
      "\n",
      "\n",
      "\n",
      "\n",
      "\n",
      "\n",
      "\n",
      "\n",
      "\n",
      "\n",
      "\n",
      "\n",
      "saved /oasis/projects/nsf/csd395/yuncong/DavidData2014results/RS141/0006/RS141_x5_0006_gabor-blueNisslWide-segm-blueNisslRegular-vq-blueNissl_topLocsLm7.jpgsaved /oasis/projects/nsf/csd395/yuncong/DavidData2014results/RS141/0006/RS141_x5_0006_gabor-blueNisslWide-segm-blueNisslRegular-vq-blueNissl_topLocsLm8.jpgsaved /oasis/projects/nsf/csd395/yuncong/DavidData2014results/RS141/0006/RS141_x5_0006_gabor-blueNisslWide-segm-blueNisslRegular-vq-blueNissl_topLocsLm6.jpgsaved /oasis/projects/nsf/csd395/yuncong/DavidData2014results/RS141/0006/RS141_x5_0006_gabor-blueNisslWide-segm-blueNisslRegular-vq-blueNissl_topLocsLm9.jpg\n",
      "\n",
      "\n",
      "\n"
     ]
    }
   ],
   "source": [
    "# def visualize_and_save(section_ind, lm_ind): \n",
    "#     viz = visualize_top_landmark_responses(section_ind, lm_ind)\n",
    "#     dms[section_ind].save_pipeline_result(viz, 'topLocsLm%d'%lm_ind, 'jpg')\n",
    "\n",
    "# landmark_indices = [0,5,6,7,8,9]\n",
    "    \n",
    "# _ = Parallel(n_jobs=16)(delayed(visualize_and_save)(section_ind, lm_ind) \n",
    "#                 for section_ind, lm_ind in product([0]+range(2,7), landmark_indices))"
   ]
  }
 ],
 "metadata": {
  "kernelspec": {
   "display_name": "Python 2",
   "language": "python",
   "name": "python2"
  },
  "language_info": {
   "codemirror_mode": {
    "name": "ipython",
    "version": 2
   },
   "file_extension": ".py",
   "mimetype": "text/x-python",
   "name": "python",
   "nbconvert_exporter": "python",
   "pygments_lexer": "ipython2",
   "version": "2.7.3"
  }
 },
 "nbformat": 4,
 "nbformat_minor": 0
}
