{
 "cells": [
  {
   "cell_type": "code",
   "execution_count": 17,
   "metadata": {
    "collapsed": false
   },
   "outputs": [
    {
     "name": "stdout",
     "output_type": "stream",
     "text": [
      "reading image ... done in 0.000108957290649 seconds\n"
     ]
    }
   ],
   "source": [
    "%reload_ext autoreload\n",
    "%autoreload 2\n",
    "\n",
    "import os\n",
    "import sys\n",
    "import time\n",
    "\n",
    "from joblib import Parallel, delayed\n",
    "\n",
    "sys.path.append(os.path.join(os.environ['GORDON_REPO_DIR'], 'notebooks'))\n",
    "from utilities2015 import *\n",
    "\n",
    "os.environ['GORDON_DATA_DIR'] = '/oasis/projects/nsf/csd395/yuncong/CSHL_data_processed'\n",
    "os.environ['GORDON_REPO_DIR'] = '/oasis/projects/nsf/csd395/yuncong/Brain'\n",
    "os.environ['GORDON_RESULT_DIR'] = '/oasis/projects/nsf/csd395/yuncong/CSHL_data_results'\n",
    "\n",
    "dm = DataManager(data_dir=os.environ['GORDON_DATA_DIR'], \n",
    "  repo_dir=os.environ['GORDON_REPO_DIR'], \n",
    "  result_dir=os.environ['GORDON_RESULT_DIR'], labeling_dir=os.environ['GORDON_LABELING_DIR'],\n",
    "                stack='MD593', section=100)\n",
    "\n",
    "# print 'reading image ...',\n",
    "# t = time.time()\n",
    "# #dm.set_image('MD593', 100)\n",
    "# print 'done in', time.time() - t, 'seconds'"
   ]
  },
  {
   "cell_type": "code",
   "execution_count": 3,
   "metadata": {
    "collapsed": false
   },
   "outputs": [
    {
     "ename": "NameError",
     "evalue": "name 'dm' is not defined",
     "output_type": "error",
     "traceback": [
      "\u001b[1;31m---------------------------------------------------------------------------\u001b[0m",
      "\u001b[1;31mNameError\u001b[0m                                 Traceback (most recent call last)",
      "\u001b[1;32m<ipython-input-3-1d93a2c3b4da>\u001b[0m in \u001b[0;36m<module>\u001b[1;34m()\u001b[0m\n\u001b[1;32m----> 1\u001b[1;33m \u001b[0msegmentation\u001b[0m \u001b[1;33m=\u001b[0m \u001b[0mdm\u001b[0m\u001b[1;33m.\u001b[0m\u001b[0mload_pipeline_result\u001b[0m\u001b[1;33m(\u001b[0m\u001b[1;34m'segmentation'\u001b[0m\u001b[1;33m,\u001b[0m \u001b[1;34m'npy'\u001b[0m\u001b[1;33m)\u001b[0m\u001b[1;33m\u001b[0m\u001b[0m\n\u001b[0m\u001b[0;32m      2\u001b[0m \u001b[0mn_superpixels\u001b[0m \u001b[1;33m=\u001b[0m \u001b[0msegmentation\u001b[0m\u001b[1;33m.\u001b[0m\u001b[0mmax\u001b[0m\u001b[1;33m(\u001b[0m\u001b[1;33m)\u001b[0m \u001b[1;33m+\u001b[0m \u001b[1;36m1\u001b[0m\u001b[1;33m\u001b[0m\u001b[0m\n\u001b[0;32m      3\u001b[0m \u001b[1;33m\u001b[0m\u001b[0m\n\u001b[0;32m      4\u001b[0m \u001b[0mtextonmap\u001b[0m \u001b[1;33m=\u001b[0m \u001b[0mdm\u001b[0m\u001b[1;33m.\u001b[0m\u001b[0mload_pipeline_result\u001b[0m\u001b[1;33m(\u001b[0m\u001b[1;34m'texMap'\u001b[0m\u001b[1;33m,\u001b[0m \u001b[1;34m'npy'\u001b[0m\u001b[1;33m)\u001b[0m\u001b[1;33m\u001b[0m\u001b[0m\n\u001b[0;32m      5\u001b[0m \u001b[1;33m\u001b[0m\u001b[0m\n",
      "\u001b[1;31mNameError\u001b[0m: name 'dm' is not defined"
     ]
    }
   ],
   "source": [
    "segmentation = dm.load_pipeline_result('segmentation', 'npy')\n",
    "n_superpixels = segmentation.max() + 1\n",
    "\n",
    "textonmap = dm.load_pipeline_result('texMap', 'npy')\n",
    "\n",
    "n_texton = textonmap.max() + 1"
   ]
  },
  {
   "cell_type": "code",
   "execution_count": 24,
   "metadata": {
    "collapsed": false
   },
   "outputs": [
    {
     "data": {
      "text/plain": [
       "14"
      ]
     },
     "execution_count": 24,
     "metadata": {},
     "output_type": "execute_result"
    }
   ],
   "source": [
    "n_texton"
   ]
  },
  {
   "cell_type": "code",
   "execution_count": 4,
   "metadata": {
    "collapsed": false,
    "scrolled": true
   },
   "outputs": [
    {
     "name": "stdout",
     "output_type": "stream",
     "text": [
      "0\n",
      "done in 0.278255939484 seconds\n",
      "1\n",
      "done in 0.276986837387 seconds\n",
      "2\n",
      "done in 0.276865005493 seconds\n",
      "3\n",
      "done in 0.277338027954 seconds\n",
      "4\n",
      "done in 0.277452945709 seconds\n",
      "5\n",
      "done in 0.276885986328 seconds\n",
      "6\n",
      "done in 0.276939868927 seconds\n",
      "7\n",
      "done in 0.276893138885 seconds\n",
      "8\n",
      "done in 0.277316093445 seconds\n",
      "9\n",
      "done in 0.276897907257 seconds\n",
      "10\n",
      "done in 0.276968002319 seconds\n",
      "11\n",
      "done in 0.277225017548 seconds\n",
      "12\n",
      "done in 0.277167081833 seconds\n",
      "13\n",
      "done in 0.277055025101 seconds\n",
      "14\n",
      "done in 0.276998996735 seconds\n",
      "15\n",
      "done in 0.277341127396 seconds\n",
      "16\n",
      "done in 0.277042150497 seconds\n",
      "17\n",
      "done in 0.276945114136 seconds\n",
      "18\n",
      "done in 0.276935100555 seconds\n",
      "19\n",
      "done in 0.277506828308 seconds\n",
      "20\n",
      "done in 0.276939153671 seconds\n",
      "21\n",
      "done in 0.276947975159 seconds\n",
      "22\n",
      "done in 0.277125120163 seconds\n",
      "23\n",
      "done in 0.276859998703 seconds\n",
      "24\n",
      "done in 0.276998996735 seconds\n",
      "25\n",
      "done in 0.27690911293 seconds\n",
      "26\n",
      "done in 0.27739906311 seconds\n",
      "27\n",
      "done in 0.276915073395 seconds\n",
      "28\n",
      "done in 0.277134895325 seconds\n",
      "29\n",
      "done in 0.27694106102 seconds\n",
      "30\n",
      "done in 0.277306079865 seconds\n",
      "31\n",
      "done in 0.276884078979 seconds\n",
      "32\n",
      "done in 0.276974916458 seconds\n",
      "33\n",
      "done in 0.277189016342 seconds\n",
      "34\n",
      "done in 0.276962041855 seconds\n",
      "35\n",
      "done in 0.276937007904 seconds\n",
      "36\n",
      "done in 0.276960134506 seconds\n",
      "37\n",
      "done in 0.277427911758 seconds\n",
      "38\n",
      "done in 0.276962041855 seconds\n",
      "39\n",
      "done in 0.277039051056 seconds\n",
      "40\n",
      "done in 0.276991128922 seconds\n",
      "41\n",
      "done in 0.277380943298 seconds\n",
      "42\n",
      "done in 0.27698802948 seconds\n",
      "43\n",
      "done in 0.276952028275 seconds\n",
      "44\n",
      "done in 0.277147054672 seconds\n",
      "45\n",
      "done in 0.277065992355 seconds\n",
      "46\n",
      "done in 0.276983976364 seconds\n",
      "47\n",
      "done in 0.27700304985 seconds\n",
      "48\n",
      "done in 0.277726888657 seconds\n",
      "49\n",
      "done in 0.276746034622 seconds\n",
      "50\n",
      "done in 0.27703499794 seconds\n",
      "51\n",
      "done in 0.276991128922 seconds\n",
      "52\n",
      "done in 0.277355909348 seconds\n",
      "53\n",
      "done in 0.27690911293 seconds\n",
      "54\n",
      "done in 0.276940107346 seconds\n",
      "55\n"
     ]
    },
    {
     "ename": "KeyboardInterrupt",
     "evalue": "",
     "output_type": "error",
     "traceback": [
      "\u001b[1;31m---------------------------------------------------------------------------\u001b[0m",
      "\u001b[1;31mKeyboardInterrupt\u001b[0m                         Traceback (most recent call last)",
      "\u001b[1;32m<ipython-input-4-6bbf6838326e>\u001b[0m in \u001b[0;36m<module>\u001b[1;34m()\u001b[0m\n\u001b[0;32m      2\u001b[0m     \u001b[1;32mprint\u001b[0m \u001b[0mi\u001b[0m\u001b[1;33m\u001b[0m\u001b[0m\n\u001b[0;32m      3\u001b[0m     \u001b[0mt\u001b[0m \u001b[1;33m=\u001b[0m \u001b[0mtime\u001b[0m\u001b[1;33m.\u001b[0m\u001b[0mtime\u001b[0m\u001b[1;33m(\u001b[0m\u001b[1;33m)\u001b[0m\u001b[1;33m\u001b[0m\u001b[0m\n\u001b[1;32m----> 4\u001b[1;33m     \u001b[0mq\u001b[0m \u001b[1;33m=\u001b[0m \u001b[0mnp\u001b[0m\u001b[1;33m.\u001b[0m\u001b[0mbincount\u001b[0m\u001b[1;33m(\u001b[0m\u001b[0mtextonmap\u001b[0m\u001b[1;33m[\u001b[0m\u001b[1;33m(\u001b[0m\u001b[0msegmentation\u001b[0m \u001b[1;33m==\u001b[0m \u001b[0mi\u001b[0m\u001b[1;33m)\u001b[0m\u001b[1;33m]\u001b[0m\u001b[1;33m,\u001b[0m \u001b[0mminlength\u001b[0m\u001b[1;33m=\u001b[0m\u001b[0mn_texton\u001b[0m\u001b[1;33m)\u001b[0m\u001b[1;33m\u001b[0m\u001b[0m\n\u001b[0m\u001b[0;32m      5\u001b[0m     \u001b[1;32mprint\u001b[0m \u001b[1;34m'done in'\u001b[0m\u001b[1;33m,\u001b[0m \u001b[0mtime\u001b[0m\u001b[1;33m.\u001b[0m\u001b[0mtime\u001b[0m\u001b[1;33m(\u001b[0m\u001b[1;33m)\u001b[0m \u001b[1;33m-\u001b[0m \u001b[0mt\u001b[0m\u001b[1;33m,\u001b[0m \u001b[1;34m'seconds'\u001b[0m\u001b[1;33m\u001b[0m\u001b[0m\n",
      "\u001b[1;31mKeyboardInterrupt\u001b[0m: "
     ]
    }
   ],
   "source": [
    "for i in range(n_superpixels):\n",
    "    print i\n",
    "    t = time.time()\n",
    "    q = np.bincount(textonmap[(segmentation == i)], minlength=n_texton)\n",
    "    print 'done in', time.time() - t, 'seconds'"
   ]
  },
  {
   "cell_type": "code",
   "execution_count": 21,
   "metadata": {
    "collapsed": false
   },
   "outputs": [
    {
     "name": "stdout",
     "output_type": "stream",
     "text": [
      "done in 221.848686934 seconds\n"
     ]
    }
   ],
   "source": [
    "\n",
    "# try:\n",
    "#     sp_texton_hist_normalized = dm.load_pipeline_result('texHist', 'npy')\n",
    "    \n",
    "# except:\n",
    "    \n",
    "t = time.time()\n",
    "    \n",
    "def texton_histogram_worker(i):\n",
    "#     return np.bincount(textonmap[(segmentation == i)&(textonmap != -1)], minlength=n_texton)\n",
    "    return np.bincount(textonmap[segmentation == i], minlength=n_texton)\n",
    "\n",
    "r = Parallel(n_jobs=8)(delayed(texton_histogram_worker)(i) for i in range(n_superpixels))\n",
    "\n",
    "print 'done in', time.time() - t, 'seconds'\n",
    "\n",
    "sp_texton_hist = np.array(r)\n",
    "sp_texton_hist_normalized = sp_texton_hist.astype(np.float) / sp_texton_hist.sum(axis=1)[:, np.newaxis] # denom might be invalid\n",
    "\n",
    "# dm.save_pipeline_result(sp_texton_hist_normalized, 'texHist', 'npy')\n",
    "\n",
    "# compute the null texton histogram\n",
    "# overall_texton_hist = np.bincount(textonmap[dm.mask].flat)\n",
    "# overall_texton_hist_normalized = overall_texton_hist.astype(np.float) / overall_texton_hist.sum()"
   ]
  },
  {
   "cell_type": "code",
   "execution_count": 14,
   "metadata": {
    "collapsed": false
   },
   "outputs": [],
   "source": [
    "sp_texton_hist = np.array(r)"
   ]
  },
  {
   "cell_type": "code",
   "execution_count": 19,
   "metadata": {
    "collapsed": false
   },
   "outputs": [],
   "source": [
    "sp_texton_hist_normalized = sp_texton_hist.astype(np.float) / sp_texton_hist.sum(axis=1)[:, np.newaxis] # denom might be invalid\n"
   ]
  }
 ],
 "metadata": {
  "kernelspec": {
   "display_name": "Python 2",
   "language": "python",
   "name": "python2"
  },
  "language_info": {
   "codemirror_mode": {
    "name": "ipython",
    "version": 2
   },
   "file_extension": ".py",
   "mimetype": "text/x-python",
   "name": "python",
   "nbconvert_exporter": "python",
   "pygments_lexer": "ipython2",
   "version": "2.7.3"
  }
 },
 "nbformat": 4,
 "nbformat_minor": 0
}
