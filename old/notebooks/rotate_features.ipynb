{
 "cells": [
  {
   "cell_type": "code",
   "execution_count": null,
   "metadata": {
    "collapsed": false
   },
   "outputs": [],
   "source": [
    "%reload_ext autoreload\n",
    "%autoreload 2\n",
    "\n",
    "import sys\n",
    "sys.path.append('/home/yuncong/Brain/pipeline_scripts')\n",
    "from utilities2014 import *\n",
    "import os\n",
    "\n",
    "os.environ['GORDON_DATA_DIR'] = '/home/yuncong/project/DavidData2014tif/'\n",
    "os.environ['GORDON_REPO_DIR'] = '/home/yuncong/Brain'\n",
    "os.environ['GORDON_RESULT_DIR'] = '/home/yuncong/project/DavidData2014results/'\n",
    "os.environ['GORDON_LABELING_DIR'] = '/home/yuncong/project/DavidData2014labelings/'\n",
    "\n",
    "dm = DataManager(data_dir=os.environ['GORDON_DATA_DIR'], \n",
    "  repo_dir=os.environ['GORDON_REPO_DIR'], \n",
    "  result_dir=os.environ['GORDON_RESULT_DIR'], \n",
    "  labeling_dir=os.environ['GORDON_LABELING_DIR'])\n",
    "\n",
    "class args:\n",
    "    stack_name = 'RS140'\n",
    "    resolution = 'x5'\n",
    "    slice_ind = 16\n",
    "    gabor_params_id = 'blueNisslWide'\n",
    "    segm_params_id = 'blueNisslRegular'\n",
    "    vq_params_id = 'blueNissl'\n",
    "    \n",
    "dm.set_image(args.stack_name, args.resolution, args.slice_ind)\n",
    "dm.set_gabor_params(gabor_params_id=args.gabor_params_id)\n",
    "dm.set_segmentation_params(segm_params_id=args.segm_params_id)\n",
    "dm.set_vq_params(vq_params_id=args.vq_params_id)"
   ]
  },
  {
   "cell_type": "code",
   "execution_count": null,
   "metadata": {
    "collapsed": false
   },
   "outputs": [],
   "source": [
    "# try:\n",
    "#     features_rotated = dm.load_pipeline_result('features_rotated', 'npy')\n",
    "\n",
    "# except Exception as e:\n",
    "\n",
    "features = dm.load_pipeline_result('features', 'npy')\n",
    "\n",
    "valid_features = features[:, dm.mask].T\n",
    "n_valid = len(valid_features)\n",
    "\n",
    "del features\n",
    "\n",
    "def rotate_features(fs):\n",
    "    features_tabular = fs.reshape((fs.shape[0], dm.n_freq, dm.n_angle))\n",
    "    max_angle_indices = features_tabular.max(axis=1).argmax(axis=-1)\n",
    "    features_rotated = np.reshape([np.roll(features_tabular[i], -ai, axis=-1) \n",
    "                               for i, ai in enumerate(max_angle_indices)], (fs.shape[0], dm.n_freq * dm.n_angle))\n",
    "\n",
    "    return features_rotated, max_angle_indices\n",
    "\n",
    "from joblib import Parallel, delayed\n",
    "\n",
    "n_splits = 1000\n",
    "features_rotated_tuple_list = Parallel(n_jobs=16)(delayed(rotate_features)(fs) for fs in np.array_split(valid_features, n_splits))\n",
    "features_rotated = np.vstack([fr for fr, mai in features_rotated_tuple_list])\n",
    "del valid_features\n",
    "\n",
    "dm.save_pipeline_result(features_rotated, 'features_rotated', 'npy')"
   ]
  },
  {
   "cell_type": "code",
   "execution_count": null,
   "metadata": {
    "collapsed": false
   },
   "outputs": [],
   "source": [
    "max_angle_indices = np.concatenate([mai for fr, mai in features_rotated_tuple_list]).T\n",
    "dm.save_pipeline_result(max_angle_indices, 'max_angle_indices', 'npy')\n"
   ]
  }
 ],
 "metadata": {
  "kernelspec": {
   "display_name": "Python 2",
   "language": "python",
   "name": "python2"
  },
  "language_info": {
   "codemirror_mode": {
    "name": "ipython",
    "version": 2
   },
   "file_extension": ".py",
   "mimetype": "text/x-python",
   "name": "python",
   "nbconvert_exporter": "python",
   "pygments_lexer": "ipython2",
   "version": "2.7.3"
  }
 },
 "nbformat": 4,
 "nbformat_minor": 0
}
