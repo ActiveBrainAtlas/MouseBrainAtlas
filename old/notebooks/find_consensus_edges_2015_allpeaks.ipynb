{
 "cells": [
  {
   "cell_type": "code",
   "execution_count": 1,
   "metadata": {
    "collapsed": true
   },
   "outputs": [],
   "source": [
    "%reload_ext autoreload\n",
    "%autoreload 2"
   ]
  },
  {
   "cell_type": "code",
   "execution_count": 2,
   "metadata": {
    "collapsed": false
   },
   "outputs": [],
   "source": [
    "import os\n",
    "import argparse\n",
    "import sys\n",
    "import time\n",
    "\n",
    "from joblib import Parallel, delayed\n",
    "from utilities2015 import *\n",
    "\n",
    "%matplotlib inline"
   ]
  },
  {
   "cell_type": "code",
   "execution_count": null,
   "metadata": {
    "collapsed": false
   },
   "outputs": [],
   "source": [
    "all_cluster_probs = np.exp(-np.asarray(all_cluster_scores)*10.)"
   ]
  },
  {
   "cell_type": "code",
   "execution_count": null,
   "metadata": {
    "collapsed": false
   },
   "outputs": [],
   "source": [
    "plt.hist(all_cluster_scores, bins=100);\n",
    "plt.title('distribution of cluster scores');\n",
    "plt.xlabel('score');\n",
    "plt.ylabel('number of clusters');\n",
    "plt.show();\n",
    "\n",
    "plt.hist(all_cluster_probs, bins=100);\n",
    "plt.title('distribution of significant cluster probabilities');\n",
    "plt.xlabel('probability');\n",
    "plt.ylabel('number of clusters');\n",
    "plt.show();"
   ]
  },
  {
   "cell_type": "code",
   "execution_count": null,
   "metadata": {
    "collapsed": true
   },
   "outputs": [],
   "source": [
    "import itertools\n",
    "from collections import defaultdict"
   ]
  },
  {
   "cell_type": "code",
   "execution_count": null,
   "metadata": {
    "collapsed": false
   },
   "outputs": [],
   "source": [
    "voters = defaultdict(set)\n",
    "for (i1, (s1,c1)), (i2, (s2,c2)) in itertools.product(enumerate(zip(all_seed[:1000], all_cluster_dedges[:1000])), \n",
    "                                enumerate(zip(all_seed[:1000], all_cluster_dedges[:1000]))):\n",
    "    common_dedges = set(c1) & set(c2)\n",
    "    voters[frozenset(common_dedges)].add(frozenset([i1, i2]))"
   ]
  },
  {
   "cell_type": "code",
   "execution_count": null,
   "metadata": {
    "collapsed": false
   },
   "outputs": [],
   "source": [
    "voters.keys()"
   ]
  },
  {
   "cell_type": "code",
   "execution_count": null,
   "metadata": {
    "collapsed": false
   },
   "outputs": [],
   "source": [
    "voters_flat = dict([(dedges, set.union(*map(set, pairs))) for dedges, pairs in voters.iteritems()])"
   ]
  },
  {
   "cell_type": "code",
   "execution_count": null,
   "metadata": {
    "collapsed": false
   },
   "outputs": [],
   "source": [
    "common_dedges_score = [np.asarray(all_cluster_scores)[list(sptr_indices)].mean() for dedges, sptr_indices in voters_flat.iteritems()]"
   ]
  },
  {
   "cell_type": "code",
   "execution_count": null,
   "metadata": {
    "collapsed": false
   },
   "outputs": [],
   "source": [
    "common_dedges_scores_ranked, common_dedges_ranked = zip(*sorted(zip(common_dedges_score, voters_flat.keys()), reverse=True))"
   ]
  },
  {
   "cell_type": "code",
   "execution_count": null,
   "metadata": {
    "collapsed": true
   },
   "outputs": [],
   "source": [
    "relevant_dedges = [d for d in common_dedges_ranked if len(d) == 5]"
   ]
  },
  {
   "cell_type": "code",
   "execution_count": null,
   "metadata": {
    "collapsed": false
   },
   "outputs": [],
   "source": [
    "viz = dm.visualize_edge_sets(common_dedges_ranked[10:20], bg='segmentationWithText', show_set_index=True)\n",
    "display(viz)"
   ]
  },
  {
   "cell_type": "code",
   "execution_count": null,
   "metadata": {
    "collapsed": true
   },
   "outputs": [],
   "source": [
    "common_dedges = voters_flat.keys()"
   ]
  },
  {
   "cell_type": "code",
   "execution_count": null,
   "metadata": {
    "collapsed": false
   },
   "outputs": [],
   "source": [
    "common_dedges_indices_grouped, common_dedges_grouped, _ = group_clusters(common_dedges[:1000], \n",
    "                                                                         metric='min-jaccard',\n",
    "                                                                        dist_thresh=.2)"
   ]
  },
  {
   "cell_type": "code",
   "execution_count": null,
   "metadata": {
    "collapsed": true
   },
   "outputs": [],
   "source": [
    "common_dedge_group_scores = [np.max([common_dedges_score[i] for i in indices]) for indices in common_dedges_indices_grouped]"
   ]
  },
  {
   "cell_type": "code",
   "execution_count": null,
   "metadata": {
    "collapsed": true
   },
   "outputs": [],
   "source": [
    "common_dedge_group_representatives = [common_dedges[indices[np.argmax([common_dedges_score[i] for i in indices])]] for indices in common_dedges_indices_grouped]"
   ]
  },
  {
   "cell_type": "code",
   "execution_count": null,
   "metadata": {
    "collapsed": false
   },
   "outputs": [],
   "source": [
    "common_dedge_group_score_ranked ,\\\n",
    "common_dedge_indices_grouped_ranked,\\\n",
    "common_dedge_group_representatives_ranked, \\\n",
    "common_dedge_groups_ranked = zip(*sorted(zip(common_dedge_group_scores, \n",
    "                                             common_dedges_indices_grouped,\n",
    "                                             common_dedge_group_representatives,\n",
    "                                             common_dedges_grouped), reverse=True))"
   ]
  },
  {
   "cell_type": "code",
   "execution_count": null,
   "metadata": {
    "collapsed": false,
    "scrolled": true
   },
   "outputs": [],
   "source": [
    "viz = dm.visualize_edge_sets([common_dedges[i] for i in common_dedges_indices_grouped[0]], \n",
    "                             bg='segmentationWithText', show_set_index=True)\n",
    "display(viz)"
   ]
  },
  {
   "cell_type": "code",
   "execution_count": null,
   "metadata": {
    "collapsed": false,
    "scrolled": true
   },
   "outputs": [],
   "source": [
    "viz = dm.visualize_edge_sets(common_dedge_group_representatives_ranked[:100], bg='segmentationWithText', show_set_index=True)\n",
    "display(viz)"
   ]
  },
  {
   "cell_type": "code",
   "execution_count": null,
   "metadata": {
    "collapsed": false
   },
   "outputs": [],
   "source": [
    "segment_score_dict = defaultdict(int)\n",
    "segment_supporter_dict = defaultdict(list)\n",
    "\n",
    "for seed, cl, prob, dedge_list in zip(all_seed, all_clusters, all_cluster_probs, all_cluster_dedges):\n",
    "    n_edges = len(dedge_list)\n",
    "    dummy_list = dedge_list + dedge_list\n",
    "    for start_edge_ind in range(n_edges):\n",
    "        segm = dummy_list[start_edge_ind:start_edge_ind+5]\n",
    "        segment_score_dict[frozenset(segm)] += -np.log(1-.2*prob)\n",
    "#         segment_score_dict[frozenset(segm)] += sig_score/len(cl)\n",
    "#         segment_score_dict[frozenset(segm)] += - np.log(1-sig_score)\n",
    "        \n",
    "        segment_supporter_dict[frozenset(segm)].append(seed)\n",
    "        \n",
    "segment_score_dict.default_factory = None\n",
    "segment_supporter_dict.default_factory = None"
   ]
  },
  {
   "cell_type": "code",
   "execution_count": null,
   "metadata": {
    "collapsed": true
   },
   "outputs": [],
   "source": [
    "segment_prob_dict = dict([(segm, 1-np.exp(-score)) for segm, score in segment_score_dict.iteritems()])\n",
    "\n",
    "# segment_prob_dict = dict([(segm, 1-np.exp(-score/len(sptrs))) for (segm, score), sptrs in zip(segment_score_dict.iteritems(),\n",
    "#                                                                          segment_supporter_dict.itervalues())])"
   ]
  },
  {
   "cell_type": "code",
   "execution_count": null,
   "metadata": {
    "collapsed": false
   },
   "outputs": [],
   "source": [
    "plt.hist(segment_score_dict.values(), bins=100);\n",
    "plt.title('distribution of segment scores');\n",
    "plt.xlabel('score');\n",
    "plt.ylabel('number of segments');\n",
    "plt.show();\n",
    "\n",
    "plt.hist(segment_prob_dict.values(), bins=100);\n",
    "# plt.hist(segment_prob_dict.values(), bins=np.linspace(0.9999, 1.0, 100));\n",
    "plt.title('distribution of segment probs');\n",
    "plt.xlabel('probability');\n",
    "plt.ylabel('number of segments');\n",
    "plt.show();"
   ]
  },
  {
   "cell_type": "code",
   "execution_count": null,
   "metadata": {
    "collapsed": false
   },
   "outputs": [],
   "source": [
    "plt.hist(map(len, segment_supporter_dict.values()), bins=100);\n",
    "plt.title('distribution of supporter size of segments');\n",
    "plt.xlabel('supporter size');\n",
    "plt.ylabel('number of segments');"
   ]
  },
  {
   "cell_type": "code",
   "execution_count": null,
   "metadata": {
    "collapsed": false
   },
   "outputs": [],
   "source": [
    "from operator import itemgetter\n",
    "segment_score_sorted = sorted(segment_score_dict.items(), key=itemgetter(1), reverse=True)\n",
    "segment_prob_sorted = sorted(segment_prob_dict.items(), key=itemgetter(1), reverse=True)"
   ]
  },
  {
   "cell_type": "code",
   "execution_count": null,
   "metadata": {
    "collapsed": false
   },
   "outputs": [],
   "source": [
    "good_segments = [set(i[0]) for i in segment_prob_sorted if i[1] > .99]\n",
    "# good_segments = [set(i[0]) for i in segment_prob_sorted if i[1] > .999]\n",
    "# good_segments = [set(i[0]) for i in segment_score_sorted if i[1] > 30]\n",
    "print len(good_segments)"
   ]
  },
  {
   "cell_type": "code",
   "execution_count": null,
   "metadata": {
    "collapsed": false
   },
   "outputs": [],
   "source": [
    "good_edges = set.union(*good_segments)"
   ]
  },
  {
   "cell_type": "code",
   "execution_count": null,
   "metadata": {
    "collapsed": false
   },
   "outputs": [],
   "source": [
    "viz = dm.visualize_edge_set(good_edges, bg='segmentationWithText')\n",
    "display(viz)"
   ]
  },
  {
   "cell_type": "code",
   "execution_count": null,
   "metadata": {
    "collapsed": false
   },
   "outputs": [],
   "source": [
    "relevant_edges = set.union(*[set(segm) for segm, sptrs in segment_supporter_dict.iteritems() if 2167 in sptrs])"
   ]
  },
  {
   "cell_type": "code",
   "execution_count": null,
   "metadata": {
    "collapsed": false,
    "scrolled": true
   },
   "outputs": [],
   "source": [
    "for segm, sptrs in segment_supporter_dict.iteritems():\n",
    "    if 2167 in sptrs:\n",
    "        print segment_score_dict[segm]"
   ]
  },
  {
   "cell_type": "code",
   "execution_count": null,
   "metadata": {
    "collapsed": false
   },
   "outputs": [],
   "source": [
    "segment_supporters = segment_supporter_dict.values()"
   ]
  },
  {
   "cell_type": "code",
   "execution_count": null,
   "metadata": {
    "collapsed": false
   },
   "outputs": [],
   "source": [
    "good_segment_supporters = dict((frozenset(seg), segment_supporter_dict[frozenset(seg)]) for seg in good_segments)"
   ]
  },
  {
   "cell_type": "code",
   "execution_count": null,
   "metadata": {
    "collapsed": false
   },
   "outputs": [],
   "source": [
    "good_segment_groups, _, _ = group_clusters(clusters=good_segment_supporters, metric='jaccard')"
   ]
  },
  {
   "cell_type": "code",
   "execution_count": null,
   "metadata": {
    "collapsed": false
   },
   "outputs": [],
   "source": [
    "good_edge_groups = [set.union(*map(set, segm_list)) for segm_list in good_segment_groups]"
   ]
  },
  {
   "cell_type": "code",
   "execution_count": null,
   "metadata": {
    "collapsed": false
   },
   "outputs": [],
   "source": [
    "good_edge_group_scores = [np.mean([segment_score_dict[segm] for segm in segm_list]) for segm_list in good_segment_groups]\n",
    "good_edge_group_probs = [np.mean([segment_prob_dict[segm] for segm in segm_list]) for segm_list in good_segment_groups]"
   ]
  },
  {
   "cell_type": "code",
   "execution_count": null,
   "metadata": {
    "collapsed": false
   },
   "outputs": [],
   "source": [
    "plt.hist(good_edge_group_scores, bins=100);\n",
    "plt.title('distribution of edge group scores');\n",
    "plt.xlabel('edge group scores');\n",
    "plt.ylabel('number of groups');\n",
    "plt.show();\n",
    "\n",
    "plt.hist(good_edge_group_probs, bins=100);\n",
    "plt.title('distribution of edge group probs');\n",
    "plt.xlabel('probability');\n",
    "plt.ylabel('number of groups');"
   ]
  },
  {
   "cell_type": "code",
   "execution_count": null,
   "metadata": {
    "collapsed": false
   },
   "outputs": [],
   "source": [
    "good_edge_group_probs_ranked, \\\n",
    "good_edge_group_scores_ranked, \\\n",
    "good_edge_groups_ranked, \\\n",
    "good_edge_group_inices_ranked = zip(*sorted(zip(good_edge_group_probs,\n",
    "                                                good_edge_group_scores, \n",
    "                                                good_edge_groups,\n",
    "                                                range(len(good_edge_group_scores))), reverse=True))"
   ]
  },
  {
   "cell_type": "code",
   "execution_count": null,
   "metadata": {
    "collapsed": false
   },
   "outputs": [],
   "source": [
    "viz = dm.visualize_edge_sets(good_edge_groups_ranked[:200], bg='segmentationWithText', show_set_index=True)\n",
    "display(viz)"
   ]
  },
  {
   "cell_type": "code",
   "execution_count": null,
   "metadata": {
    "collapsed": false
   },
   "outputs": [],
   "source": [
    "viz = dm.visualize_edge_set({(1649, 1752),\n",
    "   (1650, 1753),\n",
    "   (1751, 1752),\n",
    "   (1754, 1753),\n",
    "   (1754, 1857),\n",
    "   (1855, 1752),\n",
    "   (1855, 1856),\n",
    "   (1858, 1857),\n",
    "   (1858, 1961),\n",
    "   (1958, 1959),\n",
    "   (1962, 1961),\n",
    "   (1962, 2065),\n",
    "   (2061, 2062),\n",
    "   (2066, 2065),\n",
    "   (2164, 2165),\n",
    "   (2169, 2168),\n",
    "   (2267, 2268),\n",
    "   (2271, 2168),\n",
    "   (2271, 2270),\n",
    "   (2370, 2371),\n",
    "   (2473, 2474),\n",
    "   (2475, 2372),\n",
    "   (2475, 2474),\n",
    "   (2577, 2474)}, bg='segmentationWithText')\n",
    "display(viz)"
   ]
  },
  {
   "cell_type": "code",
   "execution_count": null,
   "metadata": {
    "collapsed": false
   },
   "outputs": [],
   "source": [
    "(1958,1959) in good_edges"
   ]
  },
  {
   "cell_type": "code",
   "execution_count": null,
   "metadata": {
    "collapsed": false
   },
   "outputs": [],
   "source": [
    "segment_score_dict[frozenset({(1855, 1856),\n",
    "            (1958, 1959),\n",
    "            (2061, 2062),\n",
    "            (2164, 2165),\n",
    "            (2267, 2268)})]"
   ]
  },
  {
   "cell_type": "code",
   "execution_count": null,
   "metadata": {
    "collapsed": false,
    "scrolled": false
   },
   "outputs": [],
   "source": [
    "[segm for segm in good_segments if (1958, 1959) in segm]"
   ]
  },
  {
   "cell_type": "code",
   "execution_count": null,
   "metadata": {
    "collapsed": false
   },
   "outputs": [],
   "source": [
    "[segment_score_dict[frozenset(segm)] for segm in good_segments if (1958, 1959) in segm]"
   ]
  },
  {
   "cell_type": "code",
   "execution_count": null,
   "metadata": {
    "collapsed": false
   },
   "outputs": [],
   "source": [
    "(1958, 1959) in good_edges"
   ]
  },
  {
   "cell_type": "code",
   "execution_count": null,
   "metadata": {
    "collapsed": false
   },
   "outputs": [],
   "source": [
    "good_edge_group_scores_ranked[462]"
   ]
  },
  {
   "cell_type": "code",
   "execution_count": null,
   "metadata": {
    "collapsed": false
   },
   "outputs": [],
   "source": [
    "[(rank, segm) for rank, segm in enumerate(good_edge_groups_ranked) if (1958,1959) in segm]"
   ]
  },
  {
   "cell_type": "code",
   "execution_count": null,
   "metadata": {
    "collapsed": false
   },
   "outputs": [],
   "source": [
    "# votes for directed edgelets\n",
    "dedge_vote_dict = defaultdict(float)\n",
    "\n",
    "sys.stderr.write('compute supporter set of each edgelet ...\\n')\n",
    "t = time.time()\n",
    "\n",
    "# Compute the supporter sets of every edgelet, based on region proposals\n",
    "# supporter_all[(100,101)] is the set of superpixels that supports directed edgelet (100,101)\n",
    "dedge_supporters = defaultdict(list)\n",
    "    \n",
    "# for s in range(n_superpixels):\n",
    "\n",
    "for s, c in all_see_cluster_tuples:\n",
    "#     c = list(expansion_clusters[s])\n",
    "\n",
    "    interior_texture = texton_hists[c].mean(axis=0)\n",
    "    b_sps = surrounds_sps[s]\n",
    "    b_contrasts = cdist(texton_hists[b_sps], interior_texture[np.newaxis, :], chi2)\n",
    "\n",
    "    for b_sp, b_contrast in zip(b_sps, b_contrasts):\n",
    "        int_sps = neighbors[b_sp] & set(c)\n",
    "        for int_sp in int_sps:\n",
    "            # weight of each edgelet is the contrast normalized by region size\n",
    "#             weight = float(b_contrast) / max(len(c), 5)\n",
    "#             weight = 1. / max(len(c), 5)\n",
    "            weight = 1.\n",
    "            dedge_vote_dict[(b_sp, int_sp)] += weight\n",
    "#             dedge_vote_dict[(int_sp, b_sp)] += weight\n",
    "            dedge_supporters[(b_sp, int_sp)].append(s) # (border_sp, interior_sp) or (out, in)\n",
    "\n",
    "dedge_vote_dict.default_factory = None\n",
    "dedge_supporters.default_factory = None\n",
    "    \n",
    "sys.stderr.write('done in %f seconds\\n' % (time.time() - t))"
   ]
  },
  {
   "cell_type": "code",
   "execution_count": null,
   "metadata": {
    "collapsed": false
   },
   "outputs": [],
   "source": [
    "all_edges = edge_coords.keys()\n",
    "all_dedges = set(chain(*[[(i,j),(j,i)] for i,j in all_edges]))\n",
    "\n",
    "try:\n",
    "    edge_contained_by = dm.load_pipeline_result('edgeContainedBy', 'pkl')\n",
    "    print \"edgeContainedBy.pkl already exists, skip\"\n",
    "\n",
    "except:\n",
    "\n",
    "\tsys.stderr.write('compute edge-contained-by lookup table...\\n')\n",
    "\tt = time.time()\n",
    "\n",
    "\tcluster_edges = dm.load_pipeline_result('clusterEdges', 'pkl')\n",
    "\n",
    "\tdef f(c, e):\n",
    "\t    q = set(chain(*[[(i,j),(j,i)] for i,j in combinations(c, 2) if frozenset([i,j]) in all_edges]))\n",
    "\t    return q | set(e)\n",
    "\n",
    "\tcontain_edges = Parallel(n_jobs=16)(delayed(f)(c,e) for c, e in zip(expansion_clusters, cluster_edges))\n",
    "\n",
    "\tedge_contained_by = defaultdict(set)\n",
    "\tfor sp, es in enumerate(contain_edges):\n",
    "\t    for e in es:\n",
    "\t        edge_contained_by[e].add(sp)\n",
    "\n",
    "\tedge_contained_by.default_factory = None\n",
    "\n",
    "# \tdm.save_pipeline_result(edge_contained_by, 'edgeContainedBy', 'pkl')\n",
    "\n",
    "\tsys.stderr.write('done in %f seconds\\n' % (time.time() - t))"
   ]
  },
  {
   "cell_type": "code",
   "execution_count": null,
   "metadata": {
    "collapsed": false
   },
   "outputs": [],
   "source": [
    "# only consider dedges that receive non-zero vote\n",
    "nz_dedges = dedge_vote_dict.keys()\n",
    "\n",
    "sys.stderr.write('filter dedges ...\\n')\n",
    "t = time.time()\n",
    "\n",
    "# compute contrast of each dedge\n",
    "# dedge_contrast = dict([((i,j), chi2(texton_hists[i], texton_hists[j])) for i,j in all_dedges])\n",
    "dedge_contrast = dict([((i,j), chi2(texton_hists[i], texton_hists[dedge_supporters[(i,j)]].mean(axis=0))) \n",
    "                       for i,j in nz_dedges])\n",
    "\n",
    "# filter dedges, require contrast > .5 and contained by at least 4 growed regions\n",
    "nz_dedges2 = [e for e, sps in edge_contained_by.iteritems() if len(sps) > 3 and e in nz_dedges]\n",
    "nz_dedges2 = [e for e in nz_dedges2 if dedge_contrast[e] > .5]\n",
    "\n",
    "# compute stop ratio of each dedge\n",
    "dedge_stopperness = dict([(e, dedge_vote_dict[e]/len(edge_contained_by[e])) for e in nz_dedges2])\n",
    "\n",
    "# filter dedges, require stop ratio to be 1.\n",
    "nz_dedges2 = [e for e in nz_dedges2 if dedge_stopperness[e] > .8]\n",
    "#     print len(nz_dedges2), 'valid edges'\n",
    "\n",
    "sys.stderr.write('done in %f seconds\\n' % (time.time() - t))"
   ]
  },
  {
   "cell_type": "code",
   "execution_count": null,
   "metadata": {
    "collapsed": false,
    "scrolled": true
   },
   "outputs": [],
   "source": [
    "len(nz_dedges2)"
   ]
  },
  {
   "cell_type": "code",
   "execution_count": null,
   "metadata": {
    "collapsed": false
   },
   "outputs": [],
   "source": [
    "t = time.time()\n",
    "viz = dm.visualize_edge_sets([nz_dedges2], directed=False, colors=np.array([[255,0,0]]),\n",
    "                            bg='segmentationWithText')\n",
    "print time.time() - t"
   ]
  },
  {
   "cell_type": "code",
   "execution_count": null,
   "metadata": {
    "collapsed": false
   },
   "outputs": [],
   "source": [
    "display(viz)"
   ]
  },
  {
   "cell_type": "code",
   "execution_count": null,
   "metadata": {
    "collapsed": true
   },
   "outputs": [],
   "source": [
    "\n",
    "sys.stderr.write('compute expanded supporter set for each edgelet ...\\n')\n",
    "\n",
    "# find union supporter set for each dedge\n",
    "dedge_expandedSupporters = dict([(e, smart_union([expansion_clusters[s] for s in dedge_supporters[e]])) \n",
    "                             for e in nz_dedges2])\n",
    "\n",
    "# cluster union supporter sets\n",
    "dedges_grouped, dedge_supporters_grouped, _ = group_clusters(clusters=dict((e, dedge_expandedSupporters[e]) for e in nz_dedges2),\n",
    "                                                             dist_thresh=.01, linkage='complete', metric='jaccard')\n",
    "dedges_grouped = map(set, dedges_grouped)\n",
    "ngroup = len(dedges_grouped)\n",
    "\n",
    "sys.stderr.write('done in %f seconds\\n' % (time.time() - t))\n",
    "\n",
    "#     print len(dedges_grouped), 'edge groups'\n",
    "\n",
    "sys.stderr.write('compute supporter set consistency factor...\\n')\n",
    "t = time.time()\n",
    "# compute cluster \"centroids\"\n",
    "dedge_group_supporters = map(smart_union, dedge_supporters_grouped)\n",
    "\n",
    "# compute centroid distances\n",
    "# analyze supporter set consistency factor (1)\n",
    "dedge_group_supporter_distmat = compute_pairwise_distances(dedge_group_supporters, metric='jaccard')\n",
    "np.fill_diagonal(dedge_group_supporter_distmat, 0)\n",
    "\n",
    "sys.stderr.write('done in %f seconds\\n' % (time.time() - t))\n",
    "\n",
    "\n",
    "sys.stderr.write('compute connectivity factor...\\n')\n",
    "t = time.time()\n",
    "\n",
    "# analyze connectivity factor (2)\n",
    "G = networkx.from_dict_of_lists(dedge_neighbors)\n",
    "conns = [[set() if any([sorted(e1)==sorted(e2) for e1, e2 in product(eg1, eg2)]) \n",
    "          else set([(i,j) for i,j in G.edges(eg1|eg2) if (i in eg1 and j in eg2) or (j in eg1 and i in eg2)]) \n",
    "         for eg1 in dedges_grouped] for eg2 in dedges_grouped]\n",
    "conns_flat = [a for b in conns for a in b ]\n",
    "dedge_group_edgeConn_distmat = np.reshape(map(lambda x: len(x) < 1, conns_flat), (ngroup, ngroup))\n",
    "np.fill_diagonal(dedge_group_edgeConn_distmat, 0)\n",
    "\n",
    "sys.stderr.write('done in %f seconds\\n' % (time.time() - t))\n",
    "\n",
    "\n",
    "sys.stderr.write('compute connectivity factor...\\n')\n",
    "t = time.time()\n",
    "\n",
    "# analyze texture similarity factor (3)\n",
    "dedge_group_supporterTex_distmat = np.reshape([chi2(texton_hists[list(sps1)].mean(axis=0), texton_hists[list(sps2)].mean(axis=0))  \n",
    "\t\tfor sps1, sps2 in product(dedge_group_supporters, dedge_group_supporters)], (ngroup, ngroup))\n",
    "\n",
    "sys.stderr.write('done in %f seconds\\n' % (time.time() - t))\n",
    "\n",
    "\n",
    "sys.stderr.write('combine three factors ...\\n')\n",
    "t = time.time()\n",
    "\n",
    "# combine above three factors\n",
    "dedge_group_distmat = 1 - (1-dedge_group_edgeConn_distmat) * (1-dedge_group_supporter_distmat>0.1) * (dedge_group_supporterTex_distmat < .25)\n",
    "\n",
    "sys.stderr.write('done in %f seconds\\n' % (time.time() - t))\n",
    "\n",
    "\n",
    "sys.stderr.write('further cluster dedge groups ...\\n')\n",
    "t = time.time()\n",
    "\n",
    "# further cluster dedge groups\n",
    "_, edge_groups, _ = group_clusters(clusters=dedges_grouped, \n",
    "                               distance_matrix=dedge_group_distmat, \n",
    "                               dist_thresh=.5, linkage='single')\n",
    "\n",
    "sys.stderr.write('done in %f seconds\\n' % (time.time() - t))\n",
    "\n",
    "#     print len(edge_groups), 'edge groups after considering connectivity'\n",
    "\n",
    "edge_groups = map(lambda x: set(chain(*x)), edge_groups)\n",
    "\n",
    "# sort clusters by total contrast\n",
    "edge_groups_sorted = sorted(edge_groups, key=lambda x: sum(dedge_contrast[e] for e in x), reverse=True)\n",
    "edge_group_supporters_sorted = [smart_union(map(lambda e: dedge_expandedSupporters[e], es)) \n",
    "                                for es in edge_groups_sorted]\n",
    "\n",
    "\n",
    "viz = dm.visualize_edge_sets(edge_groups_sorted[:40], text_size=3, img=segmentation_vis)\n",
    "dm.save_pipeline_result(viz, 'topLandmarks', 'jpg')\n",
    "\n",
    "dm.save_pipeline_result(edge_groups_sorted, 'goodEdgeSets', 'pkl')\n",
    "dm.save_pipeline_result(edge_group_supporters_sorted, 'goodEdgeSetsSupporters', 'pkl')\n",
    "\n",
    "\n",
    "\n",
    "boundary_models = []\n",
    "\n",
    "for i, es in enumerate(good_dedges):\n",
    "\n",
    "    es = list(es)\n",
    "\n",
    "    interior_texture = texton_hists[list(good_clusters[i])].mean(axis=0)\n",
    "\n",
    "    surrounds = [e[0] for e in es]\n",
    "    exterior_textures = np.array([texton_hists[s] if s!=-1 else np.nan * np.ones((texton_hists.shape[1],)) \n",
    "                                  for s in surrounds])\n",
    "    # how to deal with -1 in surrounds? Assign to an all np.nan vector\n",
    "\n",
    "    points = np.array([edge_coords[frozenset(e)].mean(axis=0) for e in es])\n",
    "    center = points.mean(axis=0)\n",
    "\n",
    "    boundary_models.append((es, interior_texture, exterior_textures, points, center))    "
   ]
  }
 ],
 "metadata": {
  "kernelspec": {
   "display_name": "Python 2",
   "language": "python",
   "name": "python2"
  },
  "language_info": {
   "codemirror_mode": {
    "name": "ipython",
    "version": 2
   },
   "file_extension": ".py",
   "mimetype": "text/x-python",
   "name": "python",
   "nbconvert_exporter": "python",
   "pygments_lexer": "ipython2",
   "version": "2.7.3"
  }
 },
 "nbformat": 4,
 "nbformat_minor": 0
}
