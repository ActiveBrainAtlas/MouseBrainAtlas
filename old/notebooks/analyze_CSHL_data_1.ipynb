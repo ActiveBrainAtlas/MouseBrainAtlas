{
 "cells": [
  {
   "cell_type": "code",
   "execution_count": null,
   "metadata": {
    "collapsed": true
   },
   "outputs": [],
   "source": [
    "%reload_ext autoreload\n",
    "%autoreload 2\n",
    "\n",
    "from skimage.io import imread, imsave\n",
    "from skimage.color import rgb2gray\n",
    "from skimage.util import img_as_float, img_as_ubyte, pad\n",
    "from skimage.transform import integral_image\n",
    "\n",
    "import numpy as np\n",
    "\n",
    "from joblib import Parallel, delayed\n",
    "\n",
    "from scipy.signal import fftconvolve\n",
    "from scipy.cluster.hierarchy import fclusterdata\n",
    "from scipy.spatial.distance import cdist, pdist\n",
    "\n",
    "import matplotlib.pyplot as plt\n",
    "import matplotlib\n",
    "%matplotlib inline\n",
    "\n",
    "from utilities2015 import *\n",
    "\n",
    "import os, sys\n",
    "import cv2\n",
    "import time"
   ]
  },
  {
   "cell_type": "code",
   "execution_count": null,
   "metadata": {
    "collapsed": true
   },
   "outputs": [],
   "source": [
    "stack = 'MD593'\n",
    "secind = 117"
   ]
  },
  {
   "cell_type": "code",
   "execution_count": null,
   "metadata": {
    "collapsed": false
   },
   "outputs": [],
   "source": [
    "dm = DataManager(data_dir=os.environ['GORDON_DATA_DIR'],\n",
    "                 repo_dir=os.environ['GORDON_REPO_DIR'],\n",
    "                 result_dir=os.environ['GORDON_RESULT_DIR'],\n",
    "                 stack=stack, section=secind)\n",
    "\n",
    "dm._load_image(versions=['gray'])\n",
    "dm._generate_kernels()"
   ]
  },
  {
   "cell_type": "code",
   "execution_count": null,
   "metadata": {
    "collapsed": false,
    "scrolled": false
   },
   "outputs": [],
   "source": [
    "fig, axes = plt.subplots(dm.n_freq, dm.n_angle, figsize=(20,20))\n",
    "\n",
    "for i, kern in enumerate(dm.kernels):\n",
    "    r, c = np.unravel_index(i, (dm.n_freq, dm.n_angle))\n",
    "    axes[r,c].matshow(kern, cmap=plt.cm.gray);\n",
    "#     axes[r,c].colorbar()"
   ]
  },
  {
   "cell_type": "code",
   "execution_count": null,
   "metadata": {
    "collapsed": false,
    "scrolled": true
   },
   "outputs": [
    {
     "name": "stdout",
     "output_type": "stream",
     "text": [
      "gabor filtering..."
     ]
    }
   ],
   "source": [
    "from scipy.signal import fftconvolve\n",
    "\n",
    "t = time.time()\n",
    "print 'gabor filtering...',\n",
    "\n",
    "def convolve_per_proc(i):\n",
    "    pf = fftconvolve(dm.image[dm.ymin-dm.max_kern_size : dm.ymax+1+dm.max_kern_size, \n",
    "                              dm.xmin-dm.max_kern_size : dm.xmax+1+dm.max_kern_size], \n",
    "                     dm.kernels[i], 'same').astype(np.half)\n",
    "    sys.stderr.write('filtered kernel %d\\n'%i)\n",
    "\n",
    "    return pf[dm.max_kern_size:-dm.max_kern_size, dm.max_kern_size:-dm.max_kern_size]\n",
    "\n",
    "filtered = Parallel(n_jobs=4)(delayed(convolve_per_proc)(i) for i in range(dm.n_kernel))\n",
    "features = np.asarray(filtered)\n",
    "\n",
    "del filtered\n",
    "\n",
    "# dm.save_pipeline_result(features, 'features')\n",
    "\n",
    "print 'done in', time.time() - t, 'seconds'"
   ]
  },
  {
   "cell_type": "code",
   "execution_count": 54,
   "metadata": {
    "collapsed": false
   },
   "outputs": [
    {
     "data": {
      "text/html": [
       "<a href='tmp.jpg' target='_blank'>tmp.jpg</a><br>"
      ],
      "text/plain": [
       "/oasis/projects/nsf/csd395/yuncong/Brain/notebooks/tmp.jpg"
      ]
     },
     "execution_count": 54,
     "metadata": {},
     "output_type": "execute_result"
    }
   ],
   "source": [
    "# f = filtered[90]\n",
    "# display(plt.cm.jet(f/np.abs(f).max()))"
   ]
  },
  {
   "cell_type": "code",
   "execution_count": 6,
   "metadata": {
    "collapsed": false
   },
   "outputs": [
    {
     "name": "stdout",
     "output_type": "stream",
     "text": [
      "rotate features ... done in 214.201962948 seconds\n"
     ]
    }
   ],
   "source": [
    "def rotate_features(fs):\n",
    "    features_tabular = fs.reshape((fs.shape[0], dm.n_freq, dm.n_angle))\n",
    "    max_angle_indices = features_tabular.max(axis=1).argmax(axis=-1)\n",
    "    features_rotated = np.reshape([np.roll(features_tabular[i], -ai, axis=-1) \n",
    "                               for i, ai in enumerate(max_angle_indices)], (fs.shape[0], dm.n_freq * dm.n_angle))\n",
    "    \n",
    "    return features_rotated\n",
    "    \n",
    "#     return features_rotated, max_angle_indices\n",
    "\n",
    "t = time.time()\n",
    "print 'rotate features ...',\n",
    "\n",
    "n_splits = 1000\n",
    "# features_rotated_tuple_list = Parallel(n_jobs=16)(delayed(rotate_features)(fs) \n",
    "#                                                   for fs in np.array_split(features.reshape((99,-1)).T, n_splits))\n",
    "# features_rotated = np.vstack([fr for fr, mai in features_rotated_tuple_list])\n",
    "\n",
    "features_rotated = Parallel(n_jobs=16)(delayed(rotate_features)(fs) \n",
    "                           for fs in np.array_split(features.reshape((dm.n_kernel,-1)).T, n_splits))\n",
    "\n",
    "features_rotated = np.vstack(features_rotated)\n",
    "\n",
    "print 'done in', time.time() - t, 'seconds'\n",
    "\n",
    "# del features_rotated_tuple_list"
   ]
  },
  {
   "cell_type": "code",
   "execution_count": 10,
   "metadata": {
    "collapsed": false
   },
   "outputs": [
    {
     "name": "stdout",
     "output_type": "stream",
     "text": [
      "saving features data ... saved /oasis/projects/nsf/csd395/yuncong/CSHL_data_results/MD593/0100/MD593_0100_lossless_warped_gabor-blueNisslWide-segm-blueNisslRegular-vq-blueNissl_featuresRotated.npy\n",
      "done in 27.0010721684 seconds\n"
     ]
    }
   ],
   "source": [
    "t = time.time()\n",
    "print 'saving features data ...',\n",
    "\n",
    "# dm.save_pipeline_result(features_rotated, 'featuresRotated', 'npy')\n",
    "dm.save_pipeline_result(features_rotated, 'featuresRotated', 'hdf')\n",
    "\n",
    "print 'done in', time.time() - t, 'seconds'"
   ]
  },
  {
   "cell_type": "code",
   "execution_count": 179,
   "metadata": {
    "collapsed": false
   },
   "outputs": [
    {
     "name": "stdout",
     "output_type": "stream",
     "text": [
      "\n"
     ]
    }
   ],
   "source": [
    "from networkx import from_dict_of_lists, dfs_postorder_nodes"
   ]
  },
  {
   "cell_type": "code",
   "execution_count": 177,
   "metadata": {
    "collapsed": false
   },
   "outputs": [
    {
     "name": "stdout",
     "output_type": "stream",
     "text": [
      "grow cluster ... An unexpected error occurred while tokenizing input file /oasis/projects/nsf/csd181/yuncong/virtualenv-1.9.1/yuncongve/lib/python2.7/site-packages/joblib/parallel.pyc\n",
      "The following traceback may be corrupted or invalid\n",
      "The error message is: ('EOF in multi-line statement', (287, 0))\n",
      " An unexpected error occurred while tokenizing input file /oasis/projects/nsf/csd181/yuncong/virtualenv-1.9.1/yuncongve/lib/python2.7/site-packages/joblib/parallel.pyc\n",
      "The following traceback may be corrupted or invalid\n",
      "The error message is: ('EOF in multi-line statement', (287, 0))\n",
      " An unexpected error occurred while tokenizing input file /oasis/projects/nsf/csd181/yuncong/virtualenv-1.9.1/yuncongve/lib/python2.7/site-packages/joblib/parallel.pyc\n",
      "The following traceback may be corrupted or invalid\n",
      "The error message is: ('EOF in multi-line statement', (287, 0))\n",
      " An unexpected error occurred while tokenizing input file /oasis/projects/nsf/csd181/yuncong/virtualenv-1.9.1/yuncongve/lib/python2.7/site-packages/joblib/parallel.pyc\n",
      "The following traceback may be corrupted or invalid\n",
      "The error message is: ('EOF in multi-line statement', (287, 0))\n",
      " An unexpected error occurred while tokenizing input file /oasis/projects/nsf/csd181/yuncong/virtualenv-1.9.1/yuncongve/lib/python2.7/site-packages/joblib/parallel.pyc\n",
      "The following traceback may be corrupted or invalid\n",
      "The error message is: ('EOF in multi-line statement', (287, 0))\n",
      " An unexpected error occurred while tokenizing input file /oasis/projects/nsf/csd181/yuncong/virtualenv-1.9.1/yuncongve/lib/python2.7/site-packages/joblib/parallel.pyc\n",
      "The following traceback may be corrupted or invalid\n",
      "The error message is: ('EOF in multi-line statement', (287, 0))\n",
      " An unexpected error occurred while tokenizing input file /oasis/projects/nsf/csd181/yuncong/virtualenv-1.9.1/yuncongve/lib/python2.7/site-packages/joblib/parallel.pyc\n",
      "The following traceback may be corrupted or invalid\n",
      "The error message is: ('EOF in multi-line statement', (287, 0))\n",
      " An unexpected error occurred while tokenizing input file /oasis/projects/nsf/csd181/yuncong/virtualenv-1.9.1/yuncongve/lib/python2.7/site-packages/joblib/parallel.pyc\n",
      "The following traceback may be corrupted or invalid\n",
      "The error message is: ('EOF in multi-line statement', (287, 0))\n",
      " An unexpected error occurred while tokenizing input file /oasis/projects/nsf/csd181/yuncong/virtualenv-1.9.1/yuncongve/lib/python2.7/site-packages/joblib/parallel.pyc\n",
      "The following traceback may be corrupted or invalid\n",
      "The error message is: ('EOF in multi-line statement', (287, 0))\n",
      " An unexpected error occurred while tokenizing input file /oasis/projects/nsf/csd181/yuncong/virtualenv-1.9.1/yuncongve/lib/python2.7/site-packages/joblib/parallel.pyc\n",
      "The following traceback may be corrupted or invalid\n",
      "The error message is: ('EOF in multi-line statement', (287, 0))\n",
      " An unexpected error occurred while tokenizing input file /oasis/projects/nsf/csd181/yuncong/virtualenv-1.9.1/yuncongve/lib/python2.7/site-packages/joblib/parallel.pyc\n",
      "The following traceback may be corrupted or invalid\n",
      "The error message is: ('EOF in multi-line statement', (287, 0))\n",
      " An unexpected error occurred while tokenizing input file /oasis/projects/nsf/csd181/yuncong/virtualenv-1.9.1/yuncongve/lib/python2.7/site-packages/joblib/parallel.pyc\n",
      "The following traceback may be corrupted or invalid\n",
      "The error message is: ('EOF in multi-line statement', (287, 0))\n",
      " An unexpected error occurred while tokenizing input file /oasis/projects/nsf/csd181/yuncong/virtualenv-1.9.1/yuncongve/lib/python2.7/site-packages/joblib/parallel.pyc\n",
      "The following traceback may be corrupted or invalid\n",
      "The error message is: ('EOF in multi-line statement', (287, 0))\n",
      " An unexpected error occurred while tokenizing input file /oasis/projects/nsf/csd181/yuncong/virtualenv-1.9.1/yuncongve/lib/python2.7/site-packages/joblib/parallel.pyc\n",
      "The following traceback may be corrupted or invalid\n",
      "The error message is: ('EOF in multi-line statement', (287, 0))\n",
      " An unexpected error occurred while tokenizing input file /oasis/projects/nsf/csd181/yuncong/virtualenv-1.9.1/yuncongve/lib/python2.7/site-packages/joblib/parallel.pyc\n",
      "The following traceback may be corrupted or invalid\n",
      "The error message is: ('EOF in multi-line statement', (287, 0))\n",
      " An unexpected error occurred while tokenizing input file /oasis/projects/nsf/csd181/yuncong/virtualenv-1.9.1/yuncongve/lib/python2.7/site-packages/joblib/parallel.pyc\n",
      "The following traceback may be corrupted or invalid\n",
      "The error message is: ('EOF in multi-line statement', (287, 0))\n",
      "\n",
      "\n",
      "\n",
      "\n",
      "\n",
      "\n",
      "\n",
      "\n",
      "\n",
      "\n",
      "\n",
      "\n",
      "\n",
      "\n",
      "\n",
      "\n",
      "An unexpected error occurred while tokenizing input file /oasis/projects/nsf/csd181/yuncong/virtualenv-1.9.1/yuncongve/lib/python2.7/site-packages/joblib/parallel.pyc\n",
      "The following traceback may be corrupted or invalid\n",
      "The error message is: ('EOF in multi-line statement', (287, 0))\n",
      "An unexpected error occurred while tokenizing input file /oasis/projects/nsf/csd181/yuncong/virtualenv-1.9.1/yuncongve/lib/python2.7/site-packages/joblib/parallel.pyc\n",
      "The following traceback may be corrupted or invalid\n",
      "The error message is: ('EOF in multi-line statement', (287, 0))\n",
      "An unexpected error occurred while tokenizing input file /oasis/projects/nsf/csd181/yuncong/virtualenv-1.9.1/yuncongve/lib/python2.7/site-packages/joblib/parallel.pyc\n",
      "The following traceback may be corrupted or invalid\n",
      "The error message is: ('EOF in multi-line statement', (287, 0))\n",
      "An unexpected error occurred while tokenizing input file /oasis/projects/nsf/csd181/yuncong/virtualenv-1.9.1/yuncongve/lib/python2.7/site-packages/joblib/parallel.pyc\n",
      "The following traceback may be corrupted or invalid\n",
      "The error message is: ('EOF in multi-line statement', (287, 0))\n",
      "An unexpected error occurred while tokenizing input file /oasis/projects/nsf/csd181/yuncong/virtualenv-1.9.1/yuncongve/lib/python2.7/site-packages/joblib/parallel.pyc\n",
      "The following traceback may be corrupted or invalid\n",
      "The error message is: ('EOF in multi-line statement', (287, 0))\n",
      "An unexpected error occurred while tokenizing input file /oasis/projects/nsf/csd181/yuncong/virtualenv-1.9.1/yuncongve/lib/python2.7/site-packages/joblib/parallel.pyc\n",
      "The following traceback may be corrupted or invalid\n",
      "The error message is: ('EOF in multi-line statement', (287, 0))\n",
      "An unexpected error occurred while tokenizing input file /oasis/projects/nsf/csd181/yuncong/virtualenv-1.9.1/yuncongve/lib/python2.7/site-packages/joblib/parallel.pyc\n",
      "The following traceback may be corrupted or invalid\n",
      "The error message is: ('EOF in multi-line statement', (287, 0))\n",
      "An unexpected error occurred while tokenizing input file /oasis/projects/nsf/csd181/yuncong/virtualenv-1.9.1/yuncongve/lib/python2.7/site-packages/joblib/parallel.pyc\n",
      "The following traceback may be corrupted or invalid\n",
      "The error message is: ('EOF in multi-line statement', (287, 0))\n",
      "An unexpected error occurred while tokenizing input file /oasis/projects/nsf/csd181/yuncong/virtualenv-1.9.1/yuncongve/lib/python2.7/site-packages/joblib/parallel.pyc\n",
      "The following traceback may be corrupted or invalid\n",
      "The error message is: ('EOF in multi-line statement', (287, 0))\n",
      "An unexpected error occurred while tokenizing input file /oasis/projects/nsf/csd181/yuncong/virtualenv-1.9.1/yuncongve/lib/python2.7/site-packages/joblib/parallel.pyc\n",
      "The following traceback may be corrupted or invalid\n",
      "The error message is: ('EOF in multi-line statement', (287, 0))\n",
      "An unexpected error occurred while tokenizing input file /oasis/projects/nsf/csd181/yuncong/virtualenv-1.9.1/yuncongve/lib/python2.7/site-packages/joblib/parallel.pyc\n",
      "The following traceback may be corrupted or invalid\n",
      "The error message is: ('EOF in multi-line statement', (287, 0))\n",
      "An unexpected error occurred while tokenizing input file /oasis/projects/nsf/csd181/yuncong/virtualenv-1.9.1/yuncongve/lib/python2.7/site-packages/joblib/parallel.pyc\n",
      "The following traceback may be corrupted or invalid\n",
      "The error message is: ('EOF in multi-line statement', (287, 0))\n",
      "An unexpected error occurred while tokenizing input file /oasis/projects/nsf/csd181/yuncong/virtualenv-1.9.1/yuncongve/lib/python2.7/site-packages/joblib/parallel.pyc\n",
      "The following traceback may be corrupted or invalid\n",
      "The error message is: ('EOF in multi-line statement', (287, 0))\n",
      "An unexpected error occurred while tokenizing input file /oasis/projects/nsf/csd181/yuncong/virtualenv-1.9.1/yuncongve/lib/python2.7/site-packages/joblib/parallel.pyc\n",
      "The following traceback may be corrupted or invalid\n",
      "The error message is: ('EOF in multi-line statement', (287, 0))\n",
      "An unexpected error occurred while tokenizing input file /oasis/projects/nsf/csd181/yuncong/virtualenv-1.9.1/yuncongve/lib/python2.7/site-packages/joblib/parallel.pyc\n",
      "The following traceback may be corrupted or invalid\n",
      "The error message is: ('EOF in multi-line statement', (287, 0))\n",
      "An unexpected error occurred while tokenizing input file /oasis/projects/nsf/csd181/yuncong/virtualenv-1.9.1/yuncongve/lib/python2.7/site-packages/joblib/parallel.pyc\n",
      "The following traceback may be corrupted or invalid\n",
      "The error message is: ('EOF in multi-line statement', (287, 0))\n",
      "\n",
      "\n",
      "\n",
      "\n",
      "\n",
      "\n",
      "\n",
      "\n",
      "\n",
      "\n",
      "\n",
      "\n",
      "\n",
      "\n",
      "\n",
      "\n"
     ]
    },
    {
     "ename": "KeyboardInterrupt",
     "evalue": "",
     "output_type": "error",
     "traceback": [
      "\u001b[1;31m---------------------------------------------------------------------------\u001b[0m",
      "\u001b[1;31mKeyboardInterrupt\u001b[0m                         Traceback (most recent call last)",
      "\u001b[1;32m<ipython-input-177-f1d2351e4e08>\u001b[0m in \u001b[0;36m<module>\u001b[1;34m()\u001b[0m\n\u001b[0;32m     46\u001b[0m \u001b[1;31m# error `zero-dimensional array concatenates...`\u001b[0m\u001b[1;33m\u001b[0m\u001b[1;33m\u001b[0m\u001b[0m\n\u001b[0;32m     47\u001b[0m expansion_clusters_tuples = Parallel(n_jobs=16)(delayed(grow_cluster3)(s, texton_hists=texton_hists)\n\u001b[1;32m---> 48\u001b[1;33m                                                             for s in range(n_superpixels))\n\u001b[0m\u001b[0;32m     49\u001b[0m \u001b[1;33m\u001b[0m\u001b[0m\n\u001b[0;32m     50\u001b[0m \u001b[1;32mprint\u001b[0m \u001b[1;34m'done in'\u001b[0m\u001b[1;33m,\u001b[0m \u001b[0mtime\u001b[0m\u001b[1;33m.\u001b[0m\u001b[0mtime\u001b[0m\u001b[1;33m(\u001b[0m\u001b[1;33m)\u001b[0m \u001b[1;33m-\u001b[0m \u001b[0mb\u001b[0m\u001b[1;33m,\u001b[0m \u001b[1;34m'seconds'\u001b[0m\u001b[1;33m\u001b[0m\u001b[0m\n",
      "\u001b[1;32m/oasis/projects/nsf/csd181/yuncong/virtualenv-1.9.1/yuncongve/lib/python2.7/site-packages/joblib/parallel.pyc\u001b[0m in \u001b[0;36m__call__\u001b[1;34m(self, iterable)\u001b[0m\n\u001b[0;32m    799\u001b[0m                 \u001b[1;31m# consumption.\u001b[0m\u001b[1;33m\u001b[0m\u001b[1;33m\u001b[0m\u001b[0m\n\u001b[0;32m    800\u001b[0m                 \u001b[0mself\u001b[0m\u001b[1;33m.\u001b[0m\u001b[0m_iterating\u001b[0m \u001b[1;33m=\u001b[0m \u001b[0mFalse\u001b[0m\u001b[1;33m\u001b[0m\u001b[0m\n\u001b[1;32m--> 801\u001b[1;33m             \u001b[0mself\u001b[0m\u001b[1;33m.\u001b[0m\u001b[0mretrieve\u001b[0m\u001b[1;33m(\u001b[0m\u001b[1;33m)\u001b[0m\u001b[1;33m\u001b[0m\u001b[0m\n\u001b[0m\u001b[0;32m    802\u001b[0m             \u001b[1;31m# Make sure that we get a last message telling us we are done\u001b[0m\u001b[1;33m\u001b[0m\u001b[1;33m\u001b[0m\u001b[0m\n\u001b[0;32m    803\u001b[0m             \u001b[0melapsed_time\u001b[0m \u001b[1;33m=\u001b[0m \u001b[0mtime\u001b[0m\u001b[1;33m.\u001b[0m\u001b[0mtime\u001b[0m\u001b[1;33m(\u001b[0m\u001b[1;33m)\u001b[0m \u001b[1;33m-\u001b[0m \u001b[0mself\u001b[0m\u001b[1;33m.\u001b[0m\u001b[0m_start_time\u001b[0m\u001b[1;33m\u001b[0m\u001b[0m\n",
      "\u001b[1;32m/oasis/projects/nsf/csd181/yuncong/virtualenv-1.9.1/yuncongve/lib/python2.7/site-packages/joblib/parallel.pyc\u001b[0m in \u001b[0;36mretrieve\u001b[1;34m(self)\u001b[0m\n\u001b[0;32m    742\u001b[0m                 \u001b[1;31m# to the caller instead of returning any result.\u001b[0m\u001b[1;33m\u001b[0m\u001b[1;33m\u001b[0m\u001b[0m\n\u001b[0;32m    743\u001b[0m                 \u001b[1;32mwith\u001b[0m \u001b[0mself\u001b[0m\u001b[1;33m.\u001b[0m\u001b[0m_lock\u001b[0m\u001b[1;33m:\u001b[0m\u001b[1;33m\u001b[0m\u001b[0m\n\u001b[1;32m--> 744\u001b[1;33m                     \u001b[0mself\u001b[0m\u001b[1;33m.\u001b[0m\u001b[0m_terminate_pool\u001b[0m\u001b[1;33m(\u001b[0m\u001b[1;33m)\u001b[0m\u001b[1;33m\u001b[0m\u001b[0m\n\u001b[0m\u001b[0;32m    745\u001b[0m                     \u001b[1;32mif\u001b[0m \u001b[0mself\u001b[0m\u001b[1;33m.\u001b[0m\u001b[0m_managed_pool\u001b[0m\u001b[1;33m:\u001b[0m\u001b[1;33m\u001b[0m\u001b[0m\n\u001b[0;32m    746\u001b[0m                         \u001b[1;31m# In case we had to terminate a managed pool, let\u001b[0m\u001b[1;33m\u001b[0m\u001b[1;33m\u001b[0m\u001b[0m\n",
      "\u001b[1;32m/oasis/projects/nsf/csd181/yuncong/virtualenv-1.9.1/yuncongve/lib/python2.7/site-packages/joblib/parallel.pyc\u001b[0m in \u001b[0;36m_terminate_pool\u001b[1;34m(self)\u001b[0m\n\u001b[0;32m    540\u001b[0m         \u001b[1;32mif\u001b[0m \u001b[0mself\u001b[0m\u001b[1;33m.\u001b[0m\u001b[0m_pool\u001b[0m \u001b[1;32mis\u001b[0m \u001b[1;32mnot\u001b[0m \u001b[0mNone\u001b[0m\u001b[1;33m:\u001b[0m\u001b[1;33m\u001b[0m\u001b[0m\n\u001b[0;32m    541\u001b[0m             \u001b[0mself\u001b[0m\u001b[1;33m.\u001b[0m\u001b[0m_pool\u001b[0m\u001b[1;33m.\u001b[0m\u001b[0mclose\u001b[0m\u001b[1;33m(\u001b[0m\u001b[1;33m)\u001b[0m\u001b[1;33m\u001b[0m\u001b[0m\n\u001b[1;32m--> 542\u001b[1;33m             \u001b[0mself\u001b[0m\u001b[1;33m.\u001b[0m\u001b[0m_pool\u001b[0m\u001b[1;33m.\u001b[0m\u001b[0mterminate\u001b[0m\u001b[1;33m(\u001b[0m\u001b[1;33m)\u001b[0m  \u001b[1;31m# terminate does a join()\u001b[0m\u001b[1;33m\u001b[0m\u001b[0m\n\u001b[0m\u001b[0;32m    543\u001b[0m             \u001b[0mself\u001b[0m\u001b[1;33m.\u001b[0m\u001b[0m_pool\u001b[0m \u001b[1;33m=\u001b[0m \u001b[0mNone\u001b[0m\u001b[1;33m\u001b[0m\u001b[0m\n\u001b[0;32m    544\u001b[0m             \u001b[1;32mif\u001b[0m \u001b[0mself\u001b[0m\u001b[1;33m.\u001b[0m\u001b[0mbackend\u001b[0m \u001b[1;33m==\u001b[0m \u001b[1;34m'multiprocessing'\u001b[0m\u001b[1;33m:\u001b[0m\u001b[1;33m\u001b[0m\u001b[0m\n",
      "\u001b[1;32m/oasis/projects/nsf/csd181/yuncong/virtualenv-1.9.1/yuncongve/lib/python2.7/site-packages/joblib/pool.pyc\u001b[0m in \u001b[0;36mterminate\u001b[1;34m(self)\u001b[0m\n\u001b[0;32m    581\u001b[0m \u001b[1;33m\u001b[0m\u001b[0m\n\u001b[0;32m    582\u001b[0m     \u001b[1;32mdef\u001b[0m \u001b[0mterminate\u001b[0m\u001b[1;33m(\u001b[0m\u001b[0mself\u001b[0m\u001b[1;33m)\u001b[0m\u001b[1;33m:\u001b[0m\u001b[1;33m\u001b[0m\u001b[0m\n\u001b[1;32m--> 583\u001b[1;33m         \u001b[0msuper\u001b[0m\u001b[1;33m(\u001b[0m\u001b[0mMemmapingPool\u001b[0m\u001b[1;33m,\u001b[0m \u001b[0mself\u001b[0m\u001b[1;33m)\u001b[0m\u001b[1;33m.\u001b[0m\u001b[0mterminate\u001b[0m\u001b[1;33m(\u001b[0m\u001b[1;33m)\u001b[0m\u001b[1;33m\u001b[0m\u001b[0m\n\u001b[0m\u001b[0;32m    584\u001b[0m         \u001b[0mdelete_folder\u001b[0m\u001b[1;33m(\u001b[0m\u001b[0mself\u001b[0m\u001b[1;33m.\u001b[0m\u001b[0m_temp_folder\u001b[0m\u001b[1;33m)\u001b[0m\u001b[1;33m\u001b[0m\u001b[0m\n",
      "\u001b[1;32m/opt/python/lib/python2.7/multiprocessing/pool.py\u001b[0m in \u001b[0;36mterminate\u001b[1;34m(self)\u001b[0m\n\u001b[0;32m    427\u001b[0m         \u001b[0mself\u001b[0m\u001b[1;33m.\u001b[0m\u001b[0m_state\u001b[0m \u001b[1;33m=\u001b[0m \u001b[0mTERMINATE\u001b[0m\u001b[1;33m\u001b[0m\u001b[0m\n\u001b[0;32m    428\u001b[0m         \u001b[0mself\u001b[0m\u001b[1;33m.\u001b[0m\u001b[0m_worker_handler\u001b[0m\u001b[1;33m.\u001b[0m\u001b[0m_state\u001b[0m \u001b[1;33m=\u001b[0m \u001b[0mTERMINATE\u001b[0m\u001b[1;33m\u001b[0m\u001b[0m\n\u001b[1;32m--> 429\u001b[1;33m         \u001b[0mself\u001b[0m\u001b[1;33m.\u001b[0m\u001b[0m_terminate\u001b[0m\u001b[1;33m(\u001b[0m\u001b[1;33m)\u001b[0m\u001b[1;33m\u001b[0m\u001b[0m\n\u001b[0m\u001b[0;32m    430\u001b[0m \u001b[1;33m\u001b[0m\u001b[0m\n\u001b[0;32m    431\u001b[0m     \u001b[1;32mdef\u001b[0m \u001b[0mjoin\u001b[0m\u001b[1;33m(\u001b[0m\u001b[0mself\u001b[0m\u001b[1;33m)\u001b[0m\u001b[1;33m:\u001b[0m\u001b[1;33m\u001b[0m\u001b[0m\n",
      "\u001b[1;32m/opt/python/lib/python2.7/multiprocessing/util.py\u001b[0m in \u001b[0;36m__call__\u001b[1;34m(self, wr)\u001b[0m\n\u001b[0;32m    198\u001b[0m             sub_debug('finalizer calling %s with args %s and kwargs %s',\n\u001b[0;32m    199\u001b[0m                      self._callback, self._args, self._kwargs)\n\u001b[1;32m--> 200\u001b[1;33m             \u001b[0mres\u001b[0m \u001b[1;33m=\u001b[0m \u001b[0mself\u001b[0m\u001b[1;33m.\u001b[0m\u001b[0m_callback\u001b[0m\u001b[1;33m(\u001b[0m\u001b[1;33m*\u001b[0m\u001b[0mself\u001b[0m\u001b[1;33m.\u001b[0m\u001b[0m_args\u001b[0m\u001b[1;33m,\u001b[0m \u001b[1;33m**\u001b[0m\u001b[0mself\u001b[0m\u001b[1;33m.\u001b[0m\u001b[0m_kwargs\u001b[0m\u001b[1;33m)\u001b[0m\u001b[1;33m\u001b[0m\u001b[0m\n\u001b[0m\u001b[0;32m    201\u001b[0m             \u001b[0mself\u001b[0m\u001b[1;33m.\u001b[0m\u001b[0m_weakref\u001b[0m \u001b[1;33m=\u001b[0m \u001b[0mself\u001b[0m\u001b[1;33m.\u001b[0m\u001b[0m_callback\u001b[0m \u001b[1;33m=\u001b[0m \u001b[0mself\u001b[0m\u001b[1;33m.\u001b[0m\u001b[0m_args\u001b[0m \u001b[1;33m=\u001b[0m\u001b[0;31m \u001b[0m\u001b[0;31m\\\u001b[0m\u001b[1;33m\u001b[0m\u001b[0m\n\u001b[0;32m    202\u001b[0m                             \u001b[0mself\u001b[0m\u001b[1;33m.\u001b[0m\u001b[0m_kwargs\u001b[0m \u001b[1;33m=\u001b[0m \u001b[0mself\u001b[0m\u001b[1;33m.\u001b[0m\u001b[0m_key\u001b[0m \u001b[1;33m=\u001b[0m \u001b[0mNone\u001b[0m\u001b[1;33m\u001b[0m\u001b[0m\n",
      "\u001b[1;32m/opt/python/lib/python2.7/multiprocessing/pool.py\u001b[0m in \u001b[0;36m_terminate_pool\u001b[1;34m(cls, taskqueue, inqueue, outqueue, pool, worker_handler, task_handler, result_handler, cache)\u001b[0m\n\u001b[0;32m    477\u001b[0m \u001b[1;33m\u001b[0m\u001b[0m\n\u001b[0;32m    478\u001b[0m         \u001b[0mdebug\u001b[0m\u001b[1;33m(\u001b[0m\u001b[1;34m'joining task handler'\u001b[0m\u001b[1;33m)\u001b[0m\u001b[1;33m\u001b[0m\u001b[0m\n\u001b[1;32m--> 479\u001b[1;33m         \u001b[0mtask_handler\u001b[0m\u001b[1;33m.\u001b[0m\u001b[0mjoin\u001b[0m\u001b[1;33m(\u001b[0m\u001b[1;36m1e100\u001b[0m\u001b[1;33m)\u001b[0m\u001b[1;33m\u001b[0m\u001b[0m\n\u001b[0m\u001b[0;32m    480\u001b[0m \u001b[1;33m\u001b[0m\u001b[0m\n\u001b[0;32m    481\u001b[0m         \u001b[0mdebug\u001b[0m\u001b[1;33m(\u001b[0m\u001b[1;34m'joining result handler'\u001b[0m\u001b[1;33m)\u001b[0m\u001b[1;33m\u001b[0m\u001b[0m\n",
      "\u001b[1;32m/opt/python/lib/python2.7/threading.py\u001b[0m in \u001b[0;36mjoin\u001b[1;34m(self, timeout)\u001b[0m\n\u001b[0;32m    672\u001b[0m                             \u001b[0mself\u001b[0m\u001b[1;33m.\u001b[0m\u001b[0m_note\u001b[0m\u001b[1;33m(\u001b[0m\u001b[1;34m\"%s.join(): timed out\"\u001b[0m\u001b[1;33m,\u001b[0m \u001b[0mself\u001b[0m\u001b[1;33m)\u001b[0m\u001b[1;33m\u001b[0m\u001b[0m\n\u001b[0;32m    673\u001b[0m                         \u001b[1;32mbreak\u001b[0m\u001b[1;33m\u001b[0m\u001b[0m\n\u001b[1;32m--> 674\u001b[1;33m                     \u001b[0mself\u001b[0m\u001b[1;33m.\u001b[0m\u001b[0m__block\u001b[0m\u001b[1;33m.\u001b[0m\u001b[0mwait\u001b[0m\u001b[1;33m(\u001b[0m\u001b[0mdelay\u001b[0m\u001b[1;33m)\u001b[0m\u001b[1;33m\u001b[0m\u001b[0m\n\u001b[0m\u001b[0;32m    675\u001b[0m                 \u001b[1;32melse\u001b[0m\u001b[1;33m:\u001b[0m\u001b[1;33m\u001b[0m\u001b[0m\n\u001b[0;32m    676\u001b[0m                     \u001b[1;32mif\u001b[0m \u001b[0m__debug__\u001b[0m\u001b[1;33m:\u001b[0m\u001b[1;33m\u001b[0m\u001b[0m\n",
      "\u001b[1;32m/opt/python/lib/python2.7/threading.py\u001b[0m in \u001b[0;36mwait\u001b[1;34m(self, timeout)\u001b[0m\n\u001b[0;32m    260\u001b[0m                         \u001b[1;32mbreak\u001b[0m\u001b[1;33m\u001b[0m\u001b[0m\n\u001b[0;32m    261\u001b[0m                     \u001b[0mdelay\u001b[0m \u001b[1;33m=\u001b[0m \u001b[0mmin\u001b[0m\u001b[1;33m(\u001b[0m\u001b[0mdelay\u001b[0m \u001b[1;33m*\u001b[0m \u001b[1;36m2\u001b[0m\u001b[1;33m,\u001b[0m \u001b[0mremaining\u001b[0m\u001b[1;33m,\u001b[0m \u001b[1;36m.05\u001b[0m\u001b[1;33m)\u001b[0m\u001b[1;33m\u001b[0m\u001b[0m\n\u001b[1;32m--> 262\u001b[1;33m                     \u001b[0m_sleep\u001b[0m\u001b[1;33m(\u001b[0m\u001b[0mdelay\u001b[0m\u001b[1;33m)\u001b[0m\u001b[1;33m\u001b[0m\u001b[0m\n\u001b[0m\u001b[0;32m    263\u001b[0m                 \u001b[1;32mif\u001b[0m \u001b[1;32mnot\u001b[0m \u001b[0mgotit\u001b[0m\u001b[1;33m:\u001b[0m\u001b[1;33m\u001b[0m\u001b[0m\n\u001b[0;32m    264\u001b[0m                     \u001b[1;32mif\u001b[0m \u001b[0m__debug__\u001b[0m\u001b[1;33m:\u001b[0m\u001b[1;33m\u001b[0m\u001b[0m\n",
      "\u001b[1;31mKeyboardInterrupt\u001b[0m: "
     ]
    }
   ],
   "source": [
    "# neighbors = dm.load_pipeline_result('neighbors', 'pkl')\n",
    "neighbors_global = neighbors\n",
    "\n",
    "# sp_properties = dm.load_pipeline_result('spProps', 'npy')\n",
    "# # each item is (center_y, center_x, area, mean_intensity, ymin, xmin, ymax, xmax)\n",
    "# segmentation_vis = dm.load_pipeline_result('segmentationWithoutText', 'jpg')\n",
    "\n",
    "# try:\n",
    "#     sp_sp_dists = dm.load_pipeline_result('texHistPairwiseDist', 'npy')\n",
    "# #     raise\n",
    "# except:\n",
    "\n",
    "# def f(a):\n",
    "#     sp_dists = cdist(a, texton_hists, metric=chi2)\n",
    "# #         sp_dists = cdist(a, texton_hists, metric=js)\n",
    "#     return sp_dists\n",
    "\n",
    "# sp_dists = Parallel(n_jobs=16)(delayed(f)(s) for s in np.array_split(texton_hists, 16))\n",
    "# sp_sp_dists = np.vstack(sp_dists)\n",
    "\n",
    "# dm.save_pipeline_result(sp_sp_dists, 'texHistPairwiseDist', 'npy')\n",
    "\n",
    "# center_dists = pdist(sp_properties[:, :2])\n",
    "# center_dist_matrix = squareform(center_dists)\n",
    "\n",
    "neighbors_dict = dict(zip(np.arange(n_superpixels), [list(i) for i in neighbors]))\n",
    "neighbor_graph = from_dict_of_lists(neighbors_dict)\n",
    "\n",
    "\n",
    "# try:\n",
    "#     expansion_clusters_tuples = dm.load_pipeline_result('clusters', 'pkl')\n",
    "# #         raise\n",
    "# except Exception as e:"
   ]
  },
  {
   "cell_type": "code",
   "execution_count": 196,
   "metadata": {
    "collapsed": false
   },
   "outputs": [
    {
     "name": "stdout",
     "output_type": "stream",
     "text": [
      "grow cluster ... done in 8.80896615982 seconds\n"
     ]
    }
   ],
   "source": [
    "print 'grow cluster ...',\n",
    "b = time.time()\n",
    "\n",
    "# Observation: if `neighbors` is passed as argument, execution takes 4.5 times than if `neighbors` is global\n",
    "# Reason: `neighbors` is a list of sets, not mem-mappable. To see the error, run the lines below:\n",
    "# from joblib import load, dump\n",
    "# _ = dump(neighbors, '/tmp/tmp')\n",
    "# large_memmap = load('/tmp/tmp', mmap_mode='r+')\n",
    "# Solution: make `neighbors` global\n",
    "# p.s. if CPU utilizations of many processes are low, it means IO is taking much of the time\n",
    "# p.s. specify max_nbytes argument to Parallel enables memmap for shared variables, but using it results in \n",
    "# error `zero-dimensional array concatenates...`\n",
    "\n",
    "# for s in range(n_superpixels):\n",
    "#     ect = grow_cluster3(s, texton_hists=texton_hists)\n",
    "    \n",
    "ect = grow_cluster3(15530, texton_hists=texton_hists, all_history=True)\n",
    "\n",
    "# expansion_clusters_tuples = Parallel(n_jobs=16)(delayed(grow_cluster3)(s, texton_hists=texton_hists)\n",
    "#                                                             )\n",
    "\n",
    "print 'done in', time.time() - b, 'seconds'\n",
    "\n",
    "# dm.save_pipeline_result(expansion_clusters_tuples, 'clusters', 'pkl')\n",
    "\n",
    "# expansion_clusters, expansion_cluster_scores = zip(*expansion_clusters_tuples)"
   ]
  },
  {
   "cell_type": "code",
   "execution_count": 200,
   "metadata": {
    "collapsed": false
   },
   "outputs": [
    {
     "data": {
      "text/plain": [
       "[<matplotlib.lines.Line2D at 0x17447f10>]"
      ]
     },
     "execution_count": 200,
     "metadata": {},
     "output_type": "execute_result"
    },
    {
     "data": {
      "image/png": "[encoded data removed]",
      "text/plain": [
       "<matplotlib.figure.Figure at 0x18215390>"
      ]
     },
     "metadata": {},
     "output_type": "display_data"
    }
   ],
   "source": [
    "plt.plot(ect[3][:,1])"
   ]
  },
  {
   "cell_type": "code",
   "execution_count": 203,
   "metadata": {
    "collapsed": false
   },
   "outputs": [],
   "source": [
    "segmentation_vis = dm.load_pipeline_result('segmentationWithoutText', 'jpg')"
   ]
  },
  {
   "cell_type": "code",
   "execution_count": 206,
   "metadata": {
    "collapsed": false
   },
   "outputs": [
    {
     "name": "stderr",
     "output_type": "stream",
     "text": [
      "/oasis/projects/nsf/csd181/yuncong/virtualenv-1.9.1/yuncongve/lib/python2.7/site-packages/skimage/util/dtype.py:111: UserWarning: Possible precision loss when converting from float64 to uint8\n",
      "  \"%s to %s\" % (dtypeobj_in, dtypeobj))\n"
     ]
    },
    {
     "data": {
      "text/html": [
       "<a href='tmp.jpg' target='_blank'>tmp.jpg</a><br>"
      ],
      "text/plain": [
       "/oasis/projects/nsf/csd395/yuncong/Brain/notebooks/tmp.jpg"
      ]
     },
     "execution_count": 206,
     "metadata": {},
     "output_type": "execute_result"
    }
   ],
   "source": [
    "display(dm.visualize_cluster(ect[0], bg=segmentation_vis[ymin:ymax+1, xmin:xmax+1]))"
   ]
  },
  {
   "cell_type": "code",
   "execution_count": 173,
   "metadata": {
    "collapsed": false
   },
   "outputs": [
    {
     "name": "stdout",
     "output_type": "stream",
     "text": [
      "\n"
     ]
    }
   ],
   "source": [
    "def find_boundary_sps(clusters, neighbors, neighbor_graph, mode='both'):\n",
    "    '''\n",
    "    Identify superpixels that are at the boundary of regions: surround set and frontier set\n",
    "    \n",
    "    Parameters\n",
    "    ----------\n",
    "    clusters : list of integer lists\n",
    "    neighbors : neighbor_list\n",
    "    neighbor_graph : \n",
    "    '''\n",
    "        \n",
    "    n_superpixels = len(clusters)\n",
    "    \n",
    "    surrounds_sps = []\n",
    "    frontiers_sps = []\n",
    "    \n",
    "    for cluster_ind, cluster in enumerate(clusters):\n",
    "        \n",
    "        surrounds = set([i for i in set.union(*[neighbors[c] for c in cluster]) if i not in cluster and i != -1])\n",
    "#         surrounds = set([i for i in surrounds if any([(n not in cluster) and (n not in surrounds) for n in neighbors[i]])])\n",
    "        surrounds = set([i for i in surrounds if any([n not in cluster for n in neighbors[i]])])\n",
    "\n",
    "        if len(surrounds) == 0:\n",
    "            surrounds_sps.append([])\n",
    "            frontiers_sps.append([])\n",
    "        else:\n",
    "            if mode == 'surround' or mode == 'both':\n",
    "                surrounds_subgraph = neighbor_graph.subgraph(surrounds)\n",
    "                surrounds_traversal = list(dfs_postorder_nodes(surrounds_subgraph))\n",
    "                surrounds_sps.append(surrounds_traversal)\n",
    "\n",
    "            if mode == 'frontier' or mode == 'both':\n",
    "                frontiers = set.union(*[neighbors[c] for c in surrounds]) & set(cluster)\n",
    "                frontiers_subgraph = neighbor_graph.subgraph(frontiers)\n",
    "                frontiers_traversal = list(dfs_postorder_nodes(frontiers_subgraph))\n",
    "                frontiers_sps.append(frontiers_traversal)\n",
    "    \n",
    "    if mode == 'frontier':\n",
    "        return frontiers_sps\n",
    "    elif mode == 'surround':\n",
    "        return surrounds_sps\n",
    "    elif mode == 'both':\n",
    "        return surrounds_sps, frontiers_sps\n",
    "\n",
    "\n",
    "def compute_cluster_score(cluster, texton_hists, neighbors):\n",
    "    \n",
    "    cluster_list = list(cluster)\n",
    "    cluster_avg = texton_hists[cluster_list].mean(axis=0)\n",
    "    \n",
    "    surrounds = set([i for i in set.union(*[neighbors[c] for c in cluster]) if i not in cluster and i != -1])\n",
    "    if len(surrounds) == 0: # single sp on background\n",
    "        return np.nan, np.nan, np.nan, np.nan, np.nan, np.nan, np.nan\n",
    "    \n",
    "    surrounds_list = list(surrounds)\n",
    "    surround_dist = np.squeeze(cdist([cluster_avg], texton_hists[surrounds_list], chi2)).min()\n",
    "\n",
    "    surds, _ = find_boundary_sps([cluster], neighbors=neighbors, neighbor_graph=neighbor_graph)\n",
    "    \n",
    "    compactness = len(surds[0])**2/float(len(cluster))\n",
    "    compactness = .001 * np.maximum(compactness-40,0)**2\n",
    "    \n",
    "    size_prior = .1 * (1-np.exp(-.8*len(cluster)))\n",
    "    \n",
    "    score = surround_dist - compactness + size_prior\n",
    "    \n",
    "    interior_dist = np.nan\n",
    "    interior_pval = np.nan\n",
    "    surround_pval = np.nan\n",
    "    \n",
    "    return score, surround_dist, interior_dist, compactness, surround_pval, interior_pval, size_prior\n",
    "\n",
    "\n",
    "neighbors_global = None\n",
    "\n",
    "def grow_cluster3(seed, texton_hists, neighbors=None, output=False, all_history=False):\n",
    "    \n",
    "    if neighbors is None:\n",
    "        neighbors = neighbors_global\n",
    "    \n",
    "    visited = set([])\n",
    "    curr_cluster = set([])\n",
    "        \n",
    "    candidate_scores = [0]\n",
    "    candidate_sps = [seed]\n",
    "\n",
    "    score_tuples = []\n",
    "    added_sps = []\n",
    "    \n",
    "    iter_ind = 0\n",
    "        \n",
    "    while len(candidate_sps) > 0:\n",
    "\n",
    "        best_ind = np.argmax(candidate_scores)\n",
    "        \n",
    "        heuristic = candidate_scores[best_ind]\n",
    "        sp = candidate_sps[best_ind]\n",
    "        \n",
    "        del candidate_scores[best_ind]\n",
    "        del candidate_sps[best_ind]\n",
    "        \n",
    "        if sp in curr_cluster:\n",
    "            continue\n",
    "                \n",
    "        iter_ind += 1\n",
    "        curr_cluster.add(sp)\n",
    "        added_sps.append(sp)\n",
    "        \n",
    "        tt = compute_cluster_score(curr_cluster, texton_hists=texton_hists, neighbors=neighbors)\n",
    "        tot, exterior, interior, compactness, surround_pval, interior_pval, size_prior = tt\n",
    "        if np.isnan(tot):\n",
    "            return [seed], -np.inf\n",
    "        score_tuples.append(np.r_[heuristic, tt])\n",
    "        \n",
    "        if output:\n",
    "            print 'iter', iter_ind, 'add', sp\n",
    "\n",
    "        visited.add(sp)\n",
    "        \n",
    "        candidate_sps = (set(candidate_sps) | (neighbors[sp] - set([-1])) | (visited - curr_cluster)) - curr_cluster\n",
    "        candidate_sps = list(candidate_sps)\n",
    "        \n",
    "#         f_avg = texton_freqs[list(curr_cluster)].sum(axis=0)\n",
    "#         candidate_scores = [chi2pval(f_avg, texton_freqs[i])[0] for i in candidate_sps]\n",
    "\n",
    "        h_avg = texton_hists[list(curr_cluster)].mean(axis=0)\n",
    "        candidate_scores = [-chi2(h_avg, texton_hists[i]) for i in candidate_sps]\n",
    "\n",
    "#         candidate_scores = [compute_cluster_score(curr_cluster | set([s])) for s in candidate_sps]\n",
    "                \n",
    "        if len(visited) > int(n_superpixels * 0.03):\n",
    "            break\n",
    "\n",
    "    score_tuples = np.array(score_tuples)\n",
    "    \n",
    "    min_size = 2\n",
    "    scores = score_tuples[:,1]\n",
    "    cutoff = np.argmax(scores[min_size:]) + min_size\n",
    "    \n",
    "    if output:\n",
    "        print 'cutoff', cutoff\n",
    "\n",
    "    final_cluster = added_sps[:cutoff]\n",
    "    final_score = scores[cutoff]\n",
    "    \n",
    "    if all_history:\n",
    "        return list(final_cluster), final_score, added_sps, score_tuples\n",
    "    else:\n",
    "        return list(final_cluster), final_score"
   ]
  },
  {
   "cell_type": "code",
   "execution_count": null,
   "metadata": {
    "collapsed": true
   },
   "outputs": [],
   "source": []
  }
 ],
 "metadata": {
  "kernelspec": {
   "display_name": "Python 2",
   "language": "python",
   "name": "python2"
  },
  "language_info": {
   "codemirror_mode": {
    "name": "ipython",
    "version": 2
   },
   "file_extension": ".py",
   "mimetype": "text/x-python",
   "name": "python",
   "nbconvert_exporter": "python",
   "pygments_lexer": "ipython2",
   "version": "2.7.3"
  }
 },
 "nbformat": 4,
 "nbformat_minor": 0
}
