{
 "cells": [
  {
   "cell_type": "code",
   "execution_count": 1,
   "metadata": {
    "collapsed": true
   },
   "outputs": [],
   "source": [
    "import cPickle as pickle\n",
    "\n",
    "import os\n",
    "import sys\n",
    "\n",
    "from utilities2014 import *\n",
    "\n",
    "from itertools import product\n",
    "\n",
    "import cv2\n",
    "\n",
    "import matplotlib.pyplot as plt\n",
    "%matplotlib inline"
   ]
  },
  {
   "cell_type": "code",
   "execution_count": 2,
   "metadata": {
    "collapsed": true
   },
   "outputs": [],
   "source": [
    "from enum import Enum\n",
    "\n",
    "class PolygonType(Enum):\n",
    "    CLOSED = 'closed'\n",
    "    OPEN = 'open'\n",
    "    TEXTURE = 'textured'\n",
    "    TEXTURE_WITH_CONTOUR = 'texture with contour'\n",
    "    DIRECTION = 'directionality'"
   ]
  },
  {
   "cell_type": "code",
   "execution_count": 3,
   "metadata": {
    "collapsed": true
   },
   "outputs": [],
   "source": [
    "landmark_indices = range(17)\n",
    "n_landmark = len(landmark_indices)"
   ]
  },
  {
   "cell_type": "code",
   "execution_count": 4,
   "metadata": {
    "collapsed": true
   },
   "outputs": [],
   "source": [
    "# atlas_landmark_desc = 'RS141_0001_yuncong_08212015001655'"
   ]
  },
  {
   "cell_type": "code",
   "execution_count": 5,
   "metadata": {
    "collapsed": true
   },
   "outputs": [],
   "source": [
    "# with open('/home/yuncong/csd395/landmark_descriptors/%s_landmark_centroid_global_%d.pkl'%(atlas_landmark_desc, lm_ind), 'r') as f:\n",
    "#     lm_centroid_global = pickle.load(f)"
   ]
  },
  {
   "cell_type": "code",
   "execution_count": 6,
   "metadata": {
    "collapsed": true
   },
   "outputs": [],
   "source": [
    "# labeling_name = 'RS141_0001_yuncong_08282015013756'\n",
    "labeling_name = 'RS141_0004_yuncong_08282015023125'"
   ]
  },
  {
   "cell_type": "code",
   "execution_count": 7,
   "metadata": {
    "collapsed": false
   },
   "outputs": [],
   "source": [
    "with open('/home/yuncong/csd395/landmark_descriptors/%s_landmark_centroids_global.pkl'%labeling_name, 'r') as f:\n",
    "    landmark_centroids_global = pickle.load(f)"
   ]
  },
  {
   "cell_type": "code",
   "execution_count": 8,
   "metadata": {
    "collapsed": false
   },
   "outputs": [
    {
     "name": "stderr",
     "output_type": "stream",
     "text": [
      "/oasis/projects/nsf/csd181/yuncong/virtualenv-1.9.1/yuncongve/lib/python2.7/site-packages/skimage/filter/__init__.py:6: skimage_deprecation: The `skimage.filter` module has been renamed to `skimage.filters`.  This placeholder module will be removed in v0.13.\n",
      "  warn(skimage_deprecation('The `skimage.filter` module has been renamed '\n"
     ]
    }
   ],
   "source": [
    "dm = DataManager(generate_hierarchy=False, stack='RS141', resol='x5', section=5)\n",
    "dm._load_image()"
   ]
  },
  {
   "cell_type": "code",
   "execution_count": 9,
   "metadata": {
    "collapsed": false,
    "scrolled": true
   },
   "outputs": [
    {
     "name": "stdout",
     "output_type": "stream",
     "text": [
      "0\n",
      "1\n",
      "2\n",
      "3\n",
      "4\n",
      "5\n",
      "6\n",
      "7\n",
      "8\n",
      "9\n",
      "10\n",
      "11\n",
      "12\n",
      "14\n",
      "15\n",
      "16\n"
     ]
    }
   ],
   "source": [
    "response_maps_all_rotations = dict([])\n",
    "landmark_indices = range(13) + range(14,17)\n",
    "for lm_ind in landmark_indices:\n",
    "    print lm_ind\n",
    "    response_maps_all_rotations[lm_ind] = dm.load_pipeline_result('%sResponseMapLmAllRotations%d'%(''.join(labeling_name.split('_')), lm_ind), 'npy')"
   ]
  },
  {
   "cell_type": "code",
   "execution_count": 10,
   "metadata": {
    "collapsed": true
   },
   "outputs": [],
   "source": [
    "from skimage.feature import peak_local_max\n",
    "\n",
    "def find_peaks(vs_max, topk=3):\n",
    "    \n",
    "    vs_max_smooth = gaussian_filter(vs_max, sigma=10)\n",
    "\n",
    "    peaks = peak_local_max(vs_max_smooth)\n",
    "    ypeaks = peaks[:,0]\n",
    "    xpeaks = peaks[:,1]\n",
    "\n",
    "    order = np.argsort(vs_max_smooth[ypeaks, xpeaks])[::-1]\n",
    "    ypeaks = ypeaks[order]\n",
    "    xpeaks = xpeaks[order]\n",
    "\n",
    "    return np.array([(x, y, vs_max[y, x]) for y, x in zip(ypeaks, xpeaks)[:topk]])\n",
    "\n",
    "def find_peaks_all_rotations(vs_max_all_angles, topk=3):\n",
    "    \n",
    "    topk_locs = []\n",
    "    for theta, vs_max in enumerate(vs_max_all_angles):\n",
    "        topk_locs += map(lambda t: t+(theta,), find_peaks(vs_max, topk))\n",
    "        \n",
    "    topk_locs = sorted(topk_locs, key=lambda x: x[2], reverse=True)[:topk]\n",
    "    \n",
    "    return topk_locs"
   ]
  },
  {
   "cell_type": "code",
   "execution_count": 11,
   "metadata": {
    "collapsed": true
   },
   "outputs": [],
   "source": [
    "image_centroid = np.array((int(dm.image_width/2), int(dm.image_height/2)))\n",
    "atlas_centroid = np.array((2772, 1385))\n",
    "\n",
    "xshifts = np.linspace(-400, 400, 100)\n",
    "yshifts = np.linspace(-400, 400, 100)\n",
    "angles = np.linspace(-np.pi/4, np.pi/4, 17)"
   ]
  },
  {
   "cell_type": "code",
   "execution_count": 12,
   "metadata": {
    "collapsed": true
   },
   "outputs": [],
   "source": [
    "# sample_lms = np.random.choice(range(n_landmark), n_landmark, replace=False)\n",
    "# sample_lms = [0, 9]\n",
    "sample_lms = landmark_indices"
   ]
  },
  {
   "cell_type": "code",
   "execution_count": 13,
   "metadata": {
    "collapsed": true
   },
   "outputs": [],
   "source": [
    "def rigid_transform_to(pts1, T):\n",
    "    pts1_trans = np.dot(T, np.column_stack([pts1, np.ones((pts1.shape[0],))]).T).T\n",
    "    pts1_trans = pts1_trans[:,:2]/pts1_trans[:,-1][:,np.newaxis]\n",
    "    return pts1_trans"
   ]
  },
  {
   "cell_type": "code",
   "execution_count": 14,
   "metadata": {
    "collapsed": false
   },
   "outputs": [],
   "source": [
    "thetas = np.linspace(-np.pi/4, np.pi/4, 9)\n",
    "n_theta = len(thetas)"
   ]
  },
  {
   "cell_type": "code",
   "execution_count": 15,
   "metadata": {
    "collapsed": false
   },
   "outputs": [],
   "source": [
    "X = [landmark_centroids_global[i] for i in sample_lms]\n",
    "Xc = X - atlas_centroid\n",
    "probs = []\n",
    "for xshift, yshift, angle in product(xshifts, yshifts, angles):\n",
    "#     print xshift, yshift, angle\n",
    "    T = np.array([[np.cos(angle), -np.sin(angle), xshift],\n",
    "                    [np.sin(angle), np.cos(angle), yshift],\n",
    "                    [0, 0, 1.]])\n",
    "    TXc = rigid_transform_to(Xc, T).astype(np.int)\n",
    "    TX = TXc + image_centroid\n",
    "    \n",
    "    theta_i = np.argmin(np.abs(thetas - angle))\n",
    "    \n",
    "    prob = np.sum(response_maps_all_rotations[lm][theta_i][TX[i,1], TX[i,0]] if TX[i,1] < dm.image_height and TX[i,1] >= 0 \\\n",
    "                                                        and TX[i,0] < dm.image_width and TX[i,0] >= 0\\\n",
    "                  else 0\n",
    "                  for i, lm in enumerate(sample_lms))\n",
    "    probs.append(prob)\n",
    "    \n",
    "probs_map = np.reshape(probs, (len(xshifts), len(yshifts), len(angles)))"
   ]
  },
  {
   "cell_type": "code",
   "execution_count": 74,
   "metadata": {
    "collapsed": false
   },
   "outputs": [
    {
     "name": "stdout",
     "output_type": "stream",
     "text": [
      "57 52 8\n",
      "60.6060606061 20.202020202 0.0 0.0\n",
      "4\n"
     ]
    }
   ],
   "source": [
    "xshift_opt_ind, yshift_opt_ind, rot_opt_ind = np.unravel_index(np.argmax(probs_map), probs_map.shape)\n",
    "print xshift_opt_ind, yshift_opt_ind, rot_opt_ind\n",
    "\n",
    "xshift_opt = xshifts[xshift_opt_ind]\n",
    "yshift_opt = yshifts[yshift_opt_ind]\n",
    "rot_opt = angles[rot_opt_ind]\n",
    "\n",
    "print xshift_opt, yshift_opt, rot_opt, np.rad2deg(rot_opt)\n",
    "\n",
    "theta_i_opt = np.argmin(np.abs(thetas - rot_opt))\n",
    "\n",
    "print theta_i_opt"
   ]
  },
  {
   "cell_type": "code",
   "execution_count": 75,
   "metadata": {
    "collapsed": true
   },
   "outputs": [],
   "source": [
    "R = np.array([[np.cos(rot_opt), -np.sin(rot_opt)],\n",
    "              [np.sin(rot_opt), np.cos(rot_opt)]])\n",
    "\n",
    "shift = image_centroid + (xshift_opt, yshift_opt) - np.dot(R, atlas_centroid)\n",
    "T = np.vstack([np.column_stack([R, shift]), [0,0,1]])"
   ]
  },
  {
   "cell_type": "code",
   "execution_count": 76,
   "metadata": {
    "collapsed": false
   },
   "outputs": [],
   "source": [
    "# dm.save_pipeline_result(T, 'T', 'npy')"
   ]
  },
  {
   "cell_type": "code",
   "execution_count": 77,
   "metadata": {
    "collapsed": true
   },
   "outputs": [],
   "source": [
    "origin_pos_canvas_atlas = np.load(os.environ['GORDON_RESULT_DIR'] + '/atlas_origin_on_canvas.npy')\n",
    "origin_pos_canvas = dm.load_pipeline_result('originPosOnCanvas', 'npy')\n",
    "canvas_shape = np.load(os.environ['GORDON_RESULT_DIR'] + '/paddedSize.npy')\n",
    "\n",
    "shift_padded = image_centroid + (xshift_opt, yshift_opt) + origin_pos_canvas - np.dot(R, atlas_centroid + origin_pos_canvas_atlas)\n",
    "T_padded = np.vstack([np.column_stack([R, shift_padded]), [0,0,1]])\n",
    "\n",
    "# image = dm.load_pipeline_result('padded', 'jpg')\n",
    "# from skimage.transform import warp, AffineTransform\n",
    "# # image_warpped_to_atlas = warp(image, inverse_map=AffineTransform(T_padded))\n",
    "# # display(image_warpped_to_atlas)"
   ]
  },
  {
   "cell_type": "code",
   "execution_count": 23,
   "metadata": {
    "collapsed": false
   },
   "outputs": [
    {
     "name": "stdout",
     "output_type": "stream",
     "text": [
      "saved /oasis/projects/nsf/csd395/yuncong/DavidData2014results/RS141/0004/RS141_x5_0004_gabor-blueNisslWide-segm-blueNisslRegular-vq-blueNissl_Tpadded.npy\n"
     ]
    }
   ],
   "source": [
    "dm.save_pipeline_result(T_padded, 'Tpadded', 'npy')"
   ]
  },
  {
   "cell_type": "code",
   "execution_count": 78,
   "metadata": {
    "collapsed": false
   },
   "outputs": [],
   "source": [
    "with open('/home/yuncong/csd395/landmark_descriptors/%s_landmark_vertices_global.pkl'%labeling_name, 'r') as f:\n",
    "    landmark_vertices_global = pickle.load(f)\n",
    "    landmark_vertices_global = dict([(i, np.vstack([vs for vs in vss if len(vs) > 0]).astype(np.int))\n",
    "                                for i, vss in landmark_vertices_global.iteritems()])"
   ]
  },
  {
   "cell_type": "code",
   "execution_count": 79,
   "metadata": {
    "collapsed": false
   },
   "outputs": [],
   "source": [
    "with open('/home/yuncong/csd395/landmark_descriptors/%s_landmark_polygon_vertices_global.pkl'%labeling_name, 'r') as f:\n",
    "    landmark_polygon_vertices_global = pickle.load(f)\n",
    "    landmark_polygon_vertices_global = dict([(i, [(t, vs.astype(np.int)) for t,vs in polygons]) for i, polygons in landmark_polygon_vertices_global.iteritems()])"
   ]
  },
  {
   "cell_type": "code",
   "execution_count": 80,
   "metadata": {
    "collapsed": true
   },
   "outputs": [],
   "source": [
    "atlas_grids = np.load(os.environ['GORDON_RESULT_DIR'] + '/atlas_grids.npy')"
   ]
  },
  {
   "cell_type": "code",
   "execution_count": 81,
   "metadata": {
    "collapsed": true
   },
   "outputs": [],
   "source": [
    "colors = (np.loadtxt(os.environ['GORDON_REPO_DIR'] + '/visualization/100colors.txt', skiprows=1) * 255).astype(np.int)"
   ]
  },
  {
   "cell_type": "code",
   "execution_count": 82,
   "metadata": {
    "collapsed": false
   },
   "outputs": [
    {
     "data": {
      "text/html": [
       "<a href='tmp.jpg' target='_blank'>tmp.jpg</a><br>"
      ],
      "text/plain": [
       "/oasis/projects/nsf/csd395/yuncong/Brain/notebooks/tmp.jpg"
      ]
     },
     "execution_count": 82,
     "metadata": {},
     "output_type": "execute_result"
    }
   ],
   "source": [
    "atlas_viz = img_as_ubyte(dm.image_rgb)\n",
    "\n",
    "for x,y in landmark_centroids_global.itervalues():\n",
    "    cv2.circle(atlas_viz, (x,y), 20, colors[i], -1)\n",
    "    \n",
    "for x,y in atlas_grids:\n",
    "    cv2.circle(atlas_viz, (x,y), 1, (0,0,0), -1)\n",
    "\n",
    "for i, lm in landmark_polygon_vertices_global.iteritems():\n",
    "    for ptype, vs in lm:\n",
    "#         for x, y in vs.astype(np.int):\n",
    "#             cv2.circle(atlas_viz, (x,y), 10, colors[i], -1)\n",
    "\n",
    "        if ptype == PolygonType.OPEN or ptype == PolygonType.DIRECTION:\n",
    "            cv2.polylines(atlas_viz, [vs.astype(np.int)], False, colors[i], 5)\n",
    "        else:\n",
    "            cv2.polylines(atlas_viz, [vs.astype(np.int)], True, colors[i], 5)\n",
    "\n",
    "# dm.save_pipeline_result(atlas_viz, 'atlasViz', 'jpg')\n",
    "display(atlas_viz)"
   ]
  },
  {
   "cell_type": "code",
   "execution_count": 83,
   "metadata": {
    "collapsed": false
   },
   "outputs": [],
   "source": [
    "global_transf_vertices = dict([(i, rigid_transform_to(vs, T).astype(np.int))\n",
    "                               for i, vs in landmark_vertices_global.iteritems()])\n",
    "\n",
    "global_transf_polygon_vertices = dict([(i, [(ptype, rigid_transform_to(vs, T).astype(np.int)) \n",
    "                                            for ptype, vs in polygon_vs])\n",
    "                                  for i, polygon_vs in landmark_polygon_vertices_global.iteritems()])\n",
    "\n",
    "global_transf_centroids = dict([(lm_ind, np.squeeze(rigid_transform_to(landmark_centroids_global[lm_ind][None,:], T).astype(np.int))) \n",
    "                        for lm_ind in landmark_indices])\n",
    "\n",
    "global_transf_grids = rigid_transform_to(atlas_grids, T).astype(np.int)"
   ]
  },
  {
   "cell_type": "code",
   "execution_count": 84,
   "metadata": {
    "collapsed": false
   },
   "outputs": [
    {
     "data": {
      "text/html": [
       "<a href='tmp.jpg' target='_blank'>tmp.jpg</a><br>"
      ],
      "text/plain": [
       "/oasis/projects/nsf/csd395/yuncong/Brain/notebooks/tmp.jpg"
      ]
     },
     "execution_count": 84,
     "metadata": {},
     "output_type": "execute_result"
    }
   ],
   "source": [
    "global_tranf_atlas_viz = img_as_ubyte(dm.image_rgb)\n",
    "\n",
    "for x,y in global_transf_grids:\n",
    "    cv2.circle(global_tranf_atlas_viz, (x,y), 1, (0,0,0), -1)\n",
    "\n",
    "for i, (x,y) in global_transf_centroids.iteritems():\n",
    "    cv2.circle(global_tranf_atlas_viz, (x,y), 20, colors[i], -1)\n",
    "\n",
    "for i, lm in global_transf_polygon_vertices.iteritems():\n",
    "    for ptype, vs in lm:\n",
    "#         for x, y in vs:\n",
    "#             cv2.circle(global_tranf_atlas_viz, (x,y), 10, colors[i], -1)\n",
    "        if ptype == PolygonType.OPEN or ptype == PolygonType.DIRECTION:\n",
    "            cv2.polylines(global_tranf_atlas_viz, [vs], False, colors[i], 5)\n",
    "        else:\n",
    "            cv2.polylines(global_tranf_atlas_viz, [vs], True, colors[i], 5)\n",
    "\n",
    "# dm.save_pipeline_result(global_tranf_atlas_viz, 'globalTransfAtlasViz', 'jpg')\n",
    "display(global_tranf_atlas_viz)"
   ]
  },
  {
   "cell_type": "code",
   "execution_count": 31,
   "metadata": {
    "collapsed": false
   },
   "outputs": [],
   "source": [
    "# dm.save_pipeline_result(new_centroids_global, 'landmarkPositionsBeforeSnap', 'npy')"
   ]
  },
  {
   "cell_type": "code",
   "execution_count": 87,
   "metadata": {
    "collapsed": false,
    "scrolled": true
   },
   "outputs": [
    {
     "name": "stdout",
     "output_type": "stream",
     "text": [
      "0\n",
      "1\n",
      "2\n",
      "3\n",
      "4\n",
      "5\n",
      "6\n",
      "7\n",
      "8\n",
      "9\n",
      "10\n",
      "11\n",
      "12\n",
      "14\n",
      "15\n",
      "16\n"
     ]
    }
   ],
   "source": [
    "displacement_control_points_dict = []\n",
    "control_points_dict = []\n",
    "\n",
    "for lm_ind in landmark_indices:\n",
    "    print lm_ind\n",
    "\n",
    "    centroid = global_transf_centroids[lm_ind]\n",
    "    \n",
    "    rmap = response_maps_all_rotations[lm_ind][theta_i_opt]\n",
    "\n",
    "    peaks = find_peaks(rmap, topk=-1)[:,:2].astype(np.int)\n",
    "    dists = np.squeeze(cdist([centroid], peaks))\n",
    "    peak_indices_in_neighborhood = np.where(dists < 300)[0]\n",
    "#     if len(peak_indices_in_neighborhood) == 0:\n",
    "#         nearest_peak = new_centroid_global\n",
    "#     else:\n",
    "    if len(peak_indices_in_neighborhood) > 0:\n",
    "        peak_scores = rmap[peaks[peak_indices_in_neighborhood,1], peaks[peak_indices_in_neighborhood,0]]\n",
    "        nearest_peak = peaks[peak_indices_in_neighborhood[np.argmax(peak_scores)]]\n",
    "\n",
    "    control_points_dict.append((lm_ind, centroid))\n",
    "    displacement_control_points_dict.append((lm_ind, nearest_peak - centroid))\n",
    "\n",
    "control_points = dict(control_points_dict)\n",
    "displacement_control_points = dict(displacement_control_points_dict)"
   ]
  },
  {
   "cell_type": "code",
   "execution_count": 33,
   "metadata": {
    "collapsed": false
   },
   "outputs": [
    {
     "name": "stdout",
     "output_type": "stream",
     "text": [
      "saved /oasis/projects/nsf/csd395/yuncong/DavidData2014results/RS141/0004/RS141_x5_0004_gabor-blueNisslWide-segm-blueNisslRegular-vq-blueNissl_controlPoints.npy\n",
      "saved /oasis/projects/nsf/csd395/yuncong/DavidData2014results/RS141/0004/RS141_x5_0004_gabor-blueNisslWide-segm-blueNisslRegular-vq-blueNissl_controlPointsDisplacement.npy\n"
     ]
    }
   ],
   "source": [
    "dm.save_pipeline_result(control_points, 'controlPoints', 'npy')\n",
    "dm.save_pipeline_result(displacement_control_points, 'controlPointsDisplacement', 'npy')"
   ]
  },
  {
   "cell_type": "code",
   "execution_count": 90,
   "metadata": {
    "collapsed": false
   },
   "outputs": [
    {
     "data": {
      "text/html": [
       "<a href='tmp.jpg' target='_blank'>tmp.jpg</a><br>"
      ],
      "text/plain": [
       "/oasis/projects/nsf/csd395/yuncong/Brain/notebooks/tmp.jpg"
      ]
     },
     "execution_count": 90,
     "metadata": {},
     "output_type": "execute_result"
    }
   ],
   "source": [
    "control_points_viz = img_as_ubyte(dm.image_rgb)\n",
    "\n",
    "for i in control_points.iterkeys():\n",
    "\n",
    "    x0, y0 = control_points[i]\n",
    "    x, y = control_points[i] + displacement_control_points[i]\n",
    "    \n",
    "# for (x0,y0), (x,y) in zip(control_points, (control_points + displacement_control_points)):\n",
    "    cv2.circle(control_points_viz, (x0,y0), 20, (0,255,0), -1)\n",
    "    cv2.circle(control_points_viz, (x,y), 20, colors[i], -1)\n",
    "    cv2.line(control_points_viz, (x0,y0), (x,y), colors[i], 5)\n",
    "    \n",
    "for i, lm in global_transf_polygon_vertices.iteritems():\n",
    "    for ptype, vs in lm:\n",
    "#         for x, y in vs:\n",
    "#             cv2.circle(global_tranf_atlas_viz, (x,y), 10, colors[i], -1)\n",
    "        if ptype == PolygonType.OPEN or ptype == PolygonType.DIRECTION:\n",
    "            cv2.polylines(control_points_viz, [vs + displacement_control_points[i]], False, colors[i], 5)\n",
    "        else:\n",
    "            cv2.polylines(control_points_viz, [vs + displacement_control_points[i]], True, colors[i], 5)\n",
    "    \n",
    "display(control_points_viz)"
   ]
  },
  {
   "cell_type": "code",
   "execution_count": 89,
   "metadata": {
    "collapsed": false
   },
   "outputs": [],
   "source": [
    "# snapped_vertices = dict([(i, vs + displacement_control_points[i])\n",
    "#                                for i, vs in global_transf_vertices.iteritems()])\n",
    "\n",
    "# snapped_polygon_vertices = dict([(i, [(ptype, vs + displacement_control_points[i]) \n",
    "#                                       for ptype, vs in polygon_vs])\n",
    "#                                   for i, polygon_vs in global_transf_polygon_vertices.iteritems()])\n",
    "\n",
    "# snapped_centroids = dict([(i, (pt + displacement_control_points[i]).astype(np.int))\n",
    "#                         for i, pt in global_transf_centroids.iteritems()])"
   ]
  },
  {
   "cell_type": "code",
   "execution_count": 38,
   "metadata": {
    "collapsed": true
   },
   "outputs": [],
   "source": [
    "def interpolate_displacement(pts, control_points, displacement_control_points, rbf_sigma=500):\n",
    "    diffs = np.array([p - control_points for p in pts])\n",
    "    dists_control_points = np.sqrt(np.sum(diffs**2, axis=-1))\n",
    "    weights_control_points = np.exp(-dists_control_points**2/rbf_sigma**2)\n",
    "    weights_control_points = weights_control_points / np.sum(weights_control_points, axis=1)[:,None]\n",
    "\n",
    "    pts_displacements = np.dot(weights_control_points, displacement_control_points)\n",
    "    displaced_pts = pts + pts_displacements\n",
    "    \n",
    "    return displaced_pts"
   ]
  },
  {
   "cell_type": "code",
   "execution_count": 39,
   "metadata": {
    "collapsed": true
   },
   "outputs": [],
   "source": [
    "rbf_sigma = 500"
   ]
  },
  {
   "cell_type": "code",
   "execution_count": 50,
   "metadata": {
    "collapsed": false
   },
   "outputs": [],
   "source": [
    "displacement_transf_grids = interpolate_displacement(global_transf_grids,\n",
    "                        control_points, displacement_control_points, rbf_sigma=rbf_sigma).astype(np.int)\n",
    "\n",
    "displacement_transf_centroids = dict([(i, interpolate_displacement([pt],\n",
    "                               control_points, displacement_control_points, rbf_sigma=rbf_sigma)[0].astype(np.int))\n",
    "                                      for i, pt in global_transf_centroids.iteritems()])\n",
    "\n",
    "\n",
    "displacement_transf_vertices = dict([(i, interpolate_displacement(vs,\n",
    "                                 control_points, displacement_control_points, rbf_sigma=rbf_sigma).astype(np.int))\n",
    "                                for i, vs in global_transf_vertices.iteritems()])\n",
    "\n",
    "displacement_transf_polygon_vertices = dict([(i, [(ptype, interpolate_displacement(vs,\n",
    "                               control_points, displacement_control_points, rbf_sigma=rbf_sigma).astype(np.int)) \n",
    "                                                  for ptype, vs in polygon_vs])\n",
    "                                             for i, polygon_vs in global_transf_polygon_vertices.iteritems()])"
   ]
  },
  {
   "cell_type": "code",
   "execution_count": 51,
   "metadata": {
    "collapsed": false
   },
   "outputs": [
    {
     "data": {
      "text/html": [
       "<a href='tmp.jpg' target='_blank'>tmp.jpg</a><br>"
      ],
      "text/plain": [
       "/oasis/projects/nsf/csd395/yuncong/Brain/notebooks/tmp.jpg"
      ]
     },
     "execution_count": 51,
     "metadata": {},
     "output_type": "execute_result"
    }
   ],
   "source": [
    "displacement_transf_atlas_viz = img_as_ubyte(dm.image_rgb)\n",
    "\n",
    "displacement_transf_grids_valid = np.minimum((dm.image_width-1, dm.image_height-1), np.maximum(displacement_transf_grids, (0,0)))\n",
    "\n",
    "for x,y in displacement_transf_grids_valid:\n",
    "    cv2.circle(displacement_transf_atlas_viz, (x,y), 1, (0,0,0), -1)\n",
    "    \n",
    "for i, (x,y) in displacement_transf_centroids.iteritems():\n",
    "    cv2.circle(displacement_transf_atlas_viz, (x,y), 20, (0,255,0), -1)\n",
    "    \n",
    "for i, lm in displacement_transf_polygon_vertices.iteritems():\n",
    "    for ptype, vs in lm:\n",
    "#         for x, y in vs:\n",
    "#             cv2.circle(displacement_transf_atlas_viz, (x,y), 10, colors[i], -1)\n",
    "        \n",
    "        if ptype == PolygonType.OPEN or ptype == PolygonType.DIRECTION:\n",
    "            cv2.polylines(displacement_transf_atlas_viz, [vs], False, colors[i], 5)\n",
    "        else:\n",
    "            cv2.polylines(displacement_transf_atlas_viz, [vs], True, colors[i], 5)\n",
    "\n",
    "# dm.save_pipeline_result(displacement_transf_atlas_viz, 'displacementTransfAtlasViz', 'jpg')\n",
    "display(displacement_transf_atlas_viz)"
   ]
  },
  {
   "cell_type": "code",
   "execution_count": 38,
   "metadata": {
    "collapsed": true
   },
   "outputs": [],
   "source": [
    "import datetime\n",
    "\n",
    "with open(os.environ['GORDON_LABELING_DIR']+'/RS141/0001/RS141_0001_yuncong_08212015001655.pkl', 'r') as f:\n",
    "    labelings = pickle.load(f)\n",
    "\n",
    "new_labeling = dict([])\n",
    "new_labeling['parent_labeling_name'] = None\n",
    "new_labeling['login_time'] = None\n",
    "new_labeling['initial_polygons'] = None\n",
    "new_labeling['labelnames'] = labelings['labelnames']\n",
    "new_labeling['logout_time'] = datetime.datetime.now().strftime(\"%m%d%Y%H%M%S\")\n",
    "new_labeling['final_polygons'] = displacement_transf_polygon_vertices\n",
    "new_labeling['username'] = 'hector'\n",
    "\n",
    "new_labeling_name = new_labeling['username'] + '_' + new_labeling['logout_time']"
   ]
  },
  {
   "cell_type": "code",
   "execution_count": 41,
   "metadata": {
    "collapsed": false
   },
   "outputs": [
    {
     "name": "stdout",
     "output_type": "stream",
     "text": [
      "Labeling saved to /oasis/projects/nsf/csd181/yuncong/DavidData2014labelings/RS141/0004/RS141_0004_hector_08282015020427.pkl\n",
      "Preview saved to /oasis/projects/nsf/csd181/yuncong/DavidData2014labelings/RS141/0004/RS141_0004_hector_08282015020427.jpg\n"
     ]
    },
    {
     "data": {
      "text/plain": [
       "'/oasis/projects/nsf/csd181/yuncong/DavidData2014labelings/RS141/0004/RS141_0004_hector_08282015020427.pkl'"
      ]
     },
     "execution_count": 41,
     "metadata": {},
     "output_type": "execute_result"
    }
   ],
   "source": [
    "dm.save_labeling(new_labeling, new_labeling_name, displacement_transf_atlas_viz)"
   ]
  },
  {
   "cell_type": "code",
   "execution_count": 53,
   "metadata": {
    "collapsed": true
   },
   "outputs": [],
   "source": [
    "# def move_landmark(lm_ind, snap_peak=True):\n",
    "    \n",
    "#     with open('/home/yuncong/csd395/landmark_descriptors/%s_landmark_boundary_vertices_all_polygons_global_%d.pkl'%(atlas_landmark_desc, lm_ind), 'r') as f:\n",
    "#         all_polygon_boundary_vertices = pickle.load(f)[theta_i_opt]\n",
    "        \n",
    "#     with open('/home/yuncong/csd395/landmark_descriptors/%s_landmark_textured_area_vertices_all_polygons_global_%d.pkl'%(atlas_landmark_desc, lm_ind), 'r') as f:\n",
    "#         all_polygon_textured_area_vertices = pickle.load(f)[theta_i_opt]\n",
    "\n",
    "#     with open('/home/yuncong/csd395/landmark_descriptors/%s_landmark_striation_points_all_polygons_global_%d.pkl'%(atlas_landmark_desc, lm_ind), 'r') as f:\n",
    "#         all_polygon_striation_vertices = pickle.load(f)[theta_i_opt]\n",
    "\n",
    "#     new_centroid_global = new_centroids_global[lm_ind]\n",
    "\n",
    "#     new_landmark_descriptor = dict([])\n",
    "#     new_landmark_descriptor['bbox'] = np.nan * np.ones((10,))\n",
    "#     new_landmark_descriptor['bbox'][4:6] = new_centroid_global\n",
    "\n",
    "#     if snap_peak:\n",
    "    \n",
    "#         peaks = find_peaks(response_maps_all_rotations[lm_ind][theta_i_opt], topk=-1)[:,:2].astype(np.int)\n",
    "#         dists = np.squeeze(cdist([new_centroid_global], peaks))\n",
    "#         peak_indices_in_neighborhood = np.where(dists < 200)[0]\n",
    "#         if len(peak_indices_in_neighborhood) == 0:\n",
    "#             nearest_peak = new_centroid_global\n",
    "#         else:\n",
    "\n",
    "#         #     peak_scores = np.exp(-dists[peak_indices_in_neighborhood]**2/10**2) * \\\n",
    "#         #             response_maps_all_rotations[lm_ind][theta_i_opt][peaks[peak_indices_in_neighborhood,1],\n",
    "#         #                                                             peaks[peak_indices_in_neighborhood,0]]\n",
    "\n",
    "#             peak_scores = response_maps_all_rotations[lm_ind][theta_i_opt][peaks[peak_indices_in_neighborhood,1],\n",
    "#                                                                     peaks[peak_indices_in_neighborhood,0]]\n",
    "#             nearest_peak = peaks[peak_indices_in_neighborhood[np.argmax(peak_scores)]]\n",
    "            \n",
    "#     else:\n",
    "#         nearest_peak = new_centroid_global\n",
    "\n",
    "#     if all_polygon_boundary_vertices is not None:\n",
    "#         new_landmark_descriptor['boundary_vertices_all_polygons_global'] = [rigid_transform_to(v, T).astype(np.int) - new_centroid_global + nearest_peak\n",
    "#                                                                              for v in all_polygon_boundary_vertices]\n",
    "#     else:\n",
    "#         new_landmark_descriptor['boundary_vertices_all_polygons_global'] = None\n",
    "\n",
    "#     if all_polygon_textured_area_vertices is not None:\n",
    "#         new_landmark_descriptor['textured_area_vertices_all_polygons_global'] = [rigid_transform_to(v, T).astype(np.int) - new_centroid_global + nearest_peak\n",
    "#                                                                                   for v in all_polygon_textured_area_vertices]\n",
    "#     else:\n",
    "#         new_landmark_descriptor['textured_area_vertices_all_polygons_global'] = None\n",
    "\n",
    "#     if all_polygon_striation_vertices is not None:\n",
    "#         new_landmark_descriptor['striation_vertices_all_polygons_global'] = [rigid_transform_to(v, T).astype(np.int) - new_centroid_global + nearest_peak\n",
    "#                                                                               for v in all_polygon_striation_vertices]\n",
    "#     else:\n",
    "#         new_landmark_descriptor['striation_vertices_all_polygons_global'] = None\n",
    "\n",
    "#     return new_landmark_descriptor"
   ]
  },
  {
   "cell_type": "code",
   "execution_count": 21,
   "metadata": {
    "collapsed": true
   },
   "outputs": [],
   "source": [
    "# from joblib import Parallel, delayed"
   ]
  },
  {
   "cell_type": "code",
   "execution_count": 55,
   "metadata": {
    "collapsed": false
   },
   "outputs": [],
   "source": [
    "# new_landmark_descriptors = Parallel(n_jobs=16)(delayed(move_landmark)(lm_ind, snap_peak=False) \n",
    "#                                                for lm_ind in landmark_indices)\n",
    "# new_landmark_descriptors = dict(zip(landmark_indices, new_landmark_descriptors))"
   ]
  },
  {
   "cell_type": "code",
   "execution_count": 67,
   "metadata": {
    "collapsed": false
   },
   "outputs": [],
   "source": [
    "# import datetime\n",
    "# timestamp = datetime.datetime.now().strftime(\"%m%d%Y%H%M%S\")\n",
    "\n",
    "# for lm_ind in landmark_indices:\n",
    "#     with open('/home/yuncong/csd395/%s_%s_%s_%s_landmark_descriptors_%d.pkl'%(\n",
    "#             dm.stack, dm.slice_str, 'hector', timestamp, lm_ind), 'w') as f:\n",
    "#         pickle.dump(new_landmark_descriptors[lm_ind], f)"
   ]
  },
  {
   "cell_type": "code",
   "execution_count": 43,
   "metadata": {
    "collapsed": false
   },
   "outputs": [
    {
     "name": "stdout",
     "output_type": "stream",
     "text": [
      "saved /oasis/projects/nsf/csd395/yuncong/DavidData2014results/RS141/0004/RS141_x5_0004_gabor-blueNisslWide-segm-blueNisslRegular-vq-blueNissl_landmarkDetections.jpg\n"
     ]
    }
   ],
   "source": [
    "# dm.save_pipeline_result(viz, 'landmarkDetections', 'jpg')"
   ]
  },
  {
   "cell_type": "code",
   "execution_count": 39,
   "metadata": {
    "collapsed": false
   },
   "outputs": [
    {
     "data": {
      "image/png": "[encoded data removed]",
      "text/plain": [
       "<matplotlib.figure.Figure at 0x5013390>"
      ]
     },
     "metadata": {},
     "output_type": "display_data"
    }
   ],
   "source": [
    "plt.matshow(probs_map[:,:,rot_opt_ind]);\n",
    "plt.xticks(range(0, len(xshifts), 20), xshifts[::20].astype(np.int));\n",
    "plt.xlabel('x-offset');\n",
    "plt.yticks(range(0, len(yshifts), 20), yshifts[::20].astype(np.int));\n",
    "plt.ylabel('y-offset');\n",
    "plt.colorbar();"
   ]
  },
  {
   "cell_type": "code",
   "execution_count": 29,
   "metadata": {
    "collapsed": true
   },
   "outputs": [],
   "source": [
    "origin_pos_canvas_atlas = np.load(os.environ['GORDON_RESULT_DIR'] + '/atlas_origin_on_canvas.npy')\n",
    "origin_pos_canvas = dm.load_pipeline_result('originPosOnCanvas', 'npy')"
   ]
  },
  {
   "cell_type": "code",
   "execution_count": 21,
   "metadata": {
    "collapsed": true
   },
   "outputs": [],
   "source": [
    "canvas_shape = np.load(os.environ['GORDON_RESULT_DIR'] + '/paddedSize.npy')"
   ]
  },
  {
   "cell_type": "code",
   "execution_count": 61,
   "metadata": {
    "collapsed": true
   },
   "outputs": [],
   "source": [
    "def alpha_blending(src_rgb, dst_rgb, src_alpha, dst_alpha):\n",
    "    \n",
    "    \n",
    "    if np.issubdtype(src_rgb.dtype, np.uint8):\n",
    "        img = img_as_float(img)\n",
    "    \n",
    "    if src_rgb.dtype == np.uint8:\n",
    "        src_rgb = img_as_float(src_rgb)\n",
    "\n",
    "    if dst_rgb.dtype == np.uint8:\n",
    "        dst_rgb = img_as_float(dst_rgb)\n",
    "        \n",
    "    if isinstance(src_alpha, float) or  isinstance(src_alpha, int):\n",
    "        src_alpha = src_alpha * np.ones((src_rgb.shape[0], src_rgb.shape[1]))\n",
    "\n",
    "    if isinstance(dst_alpha, float) or  isinstance(dst_alpha, int):\n",
    "        dst_alpha = dst_alpha * np.ones((dst_rgb.shape[0], dst_rgb.shape[1]))\n",
    "\n",
    "    out_alpha = src_alpha + dst_alpha * (1. - src_alpha)\n",
    "    out_rgb = (src_rgb * src_alpha[..., None] +\n",
    "               dst_rgb * dst_alpha[..., None] * (1. - src_alpha[..., None])) / out_alpha[..., None]\n",
    "    \n",
    "    out = np.zeros((src_rgb.shape[0], src_rgb.shape[1], 4))\n",
    "        \n",
    "    out[..., :3] = out_rgb\n",
    "    out[..., 3] = out_alpha\n",
    "    \n",
    "    return out"
   ]
  },
  {
   "cell_type": "code",
   "execution_count": 63,
   "metadata": {
    "collapsed": true
   },
   "outputs": [],
   "source": [
    "from skimage.transform import warp, AffineTransform\n",
    "\n",
    "R = np.array([[np.cos(rot_opt), -np.sin(rot_opt)],\n",
    "                [np.sin(rot_opt), np.cos(rot_opt)]])\n",
    "\n",
    "shift_padded = image_centroid + (xshift_opt, yshift_opt) + origin_pos_canvas - np.dot(R, atlas_centroid + origin_pos_canvas_atlas)\n",
    "T_padded = np.vstack([np.column_stack([R, shift_padded]), [0,0,1]])\n",
    "\n",
    "image = dm.load_pipeline_result('padded', 'jpg')\n",
    "# image_warpped_to_atlas = warp(image, inverse_map=AffineTransform(T_padded))\n",
    "# display(image_warpped_to_atlas)"
   ]
  },
  {
   "cell_type": "code",
   "execution_count": 59,
   "metadata": {
    "collapsed": false
   },
   "outputs": [
    {
     "data": {
      "text/html": [
       "<a href='tmp.jpg' target='_blank'>tmp.jpg</a><br>"
      ],
      "text/plain": [
       "/oasis/projects/nsf/csd395/yuncong/Brain/notebooks/tmp.jpg"
      ]
     },
     "execution_count": 59,
     "metadata": {},
     "output_type": "execute_result"
    }
   ],
   "source": [
    "display(atlas_warpped_to_image)"
   ]
  },
  {
   "cell_type": "code",
   "execution_count": 64,
   "metadata": {
    "collapsed": false
   },
   "outputs": [
    {
     "data": {
      "text/html": [
       "<a href='tmp.jpg' target='_blank'>tmp.jpg</a><br>"
      ],
      "text/plain": [
       "/oasis/projects/nsf/csd395/yuncong/Brain/notebooks/tmp.jpg"
      ]
     },
     "execution_count": 64,
     "metadata": {},
     "output_type": "execute_result"
    }
   ],
   "source": [
    "atlas_warpped_to_image = warp(atlas_viz, inverse_map=AffineTransform(T_padded).inverse)\n",
    "# display(atlas_warpped_to_image)\n",
    "\n",
    "overlayed = alpha_blending(atlas_warpped_to_image, image, .3, .7)\n",
    "display(overlayed)"
   ]
  },
  {
   "cell_type": "code",
   "execution_count": 37,
   "metadata": {
    "collapsed": false
   },
   "outputs": [],
   "source": [
    "atlas_viz = imread(os.environ['GORDON_RESULT_DIR']+'/atlas_viz.jpg')"
   ]
  },
  {
   "cell_type": "code",
   "execution_count": 65,
   "metadata": {
    "collapsed": false
   },
   "outputs": [
    {
     "data": {
      "text/html": [
       "<a href='tmp.jpg' target='_blank'>tmp.jpg</a><br>"
      ],
      "text/plain": [
       "/oasis/projects/nsf/csd395/yuncong/Brain/notebooks/tmp.jpg"
      ]
     },
     "execution_count": 65,
     "metadata": {},
     "output_type": "execute_result"
    }
   ],
   "source": [
    "display(atlas_viz)"
   ]
  },
  {
   "cell_type": "code",
   "execution_count": 47,
   "metadata": {
    "collapsed": false
   },
   "outputs": [
    {
     "data": {
      "text/html": [
       "<a href='tmp.jpg' target='_blank'>tmp.jpg</a><br>"
      ],
      "text/plain": [
       "/oasis/projects/nsf/csd395/yuncong/Brain/notebooks/tmp.jpg"
      ]
     },
     "execution_count": 47,
     "metadata": {},
     "output_type": "execute_result"
    }
   ],
   "source": [
    "overlayed = alpha_blending(img_as_float(canvas2_warpped_to_atlas), img_as_float(atlas_viz), .5, .5)\n",
    "display(overlayed)"
   ]
  }
 ],
 "metadata": {
  "kernelspec": {
   "display_name": "Python 2",
   "language": "python",
   "name": "python2"
  },
  "language_info": {
   "codemirror_mode": {
    "name": "ipython",
    "version": 2
   },
   "file_extension": ".py",
   "mimetype": "text/x-python",
   "name": "python",
   "nbconvert_exporter": "python",
   "pygments_lexer": "ipython2",
   "version": "2.7.3"
  }
 },
 "nbformat": 4,
 "nbformat_minor": 0
}
