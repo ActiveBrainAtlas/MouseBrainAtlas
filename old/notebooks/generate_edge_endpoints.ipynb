{
 "cells": [
  {
   "cell_type": "code",
   "execution_count": null,
   "metadata": {
    "collapsed": true
   },
   "outputs": [],
   "source": [
    "import os\n",
    "import sys\n",
    "import time\n",
    "\n",
    "from joblib import Parallel, delayed\n",
    "\n",
    "sys.path.append(os.path.join(os.environ['GORDON_REPO_DIR'], 'utilities'))\n",
    "from utilities2015 import *\n",
    "\n",
    "sys.path.append('/home/yuncong/project/opencv-2.4.9/release/lib/python2.7/site-packages')\n",
    "import cv2\n",
    "\n",
    "for sec in range(47, 187):\n",
    "\n",
    "    dm = DataManager(stack='MD594', section=sec, segm_params_id='tSLIC200')\n",
    "    \n",
    "    dm.load_multiple_results(['edgeCoords'])\n",
    "    dm.save_pipeline_result(dict([(edge, (coords[0], coords[-1])) for edge, coords in dm.edge_coords.iteritems()]), \n",
    "                            'edgeEndpoints')"
   ]
  }
 ],
 "metadata": {
  "kernelspec": {
   "display_name": "Python 2",
   "language": "python",
   "name": "python2"
  },
  "language_info": {
   "codemirror_mode": {
    "name": "ipython",
    "version": 2
   },
   "file_extension": ".py",
   "mimetype": "text/x-python",
   "name": "python",
   "nbconvert_exporter": "python",
   "pygments_lexer": "ipython2",
   "version": "2.7.3"
  }
 },
 "nbformat": 4,
 "nbformat_minor": 0
}
