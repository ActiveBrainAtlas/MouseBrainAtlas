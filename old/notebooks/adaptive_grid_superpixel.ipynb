{
 "cells": [
  {
   "cell_type": "code",
   "execution_count": 1,
   "metadata": {
    "collapsed": true
   },
   "outputs": [],
   "source": [
    "%load_ext autoreload\n",
    "%autoreload 2\n",
    "\n",
    "import os\n",
    "import time\n",
    "import sys\n",
    "import itertools\n",
    "\n",
    "from utilities2015 import *\n",
    "\n",
    "from joblib import Parallel, delayed\n",
    "\n",
    "from collections import defaultdict, Counter\n",
    "from itertools import combinations, chain, product\n",
    "\n",
    "import matplotlib.pyplot as plt\n",
    "%matplotlib inline"
   ]
  },
  {
   "cell_type": "code",
   "execution_count": 2,
   "metadata": {
    "collapsed": false
   },
   "outputs": [
    {
     "name": "stderr",
     "output_type": "stream",
     "text": [
      "/oasis/projects/nsf/csd181/yuncong/virtualenv-1.9.1/yuncongve/lib/python2.7/site-packages/skimage/filter/__init__.py:6: skimage_deprecation: The `skimage.filter` module has been renamed to `skimage.filters`.  This placeholder module will be removed in v0.13.\n",
      "  warn(skimage_deprecation('The `skimage.filter` module has been renamed '\n"
     ]
    }
   ],
   "source": [
    "section_id = 100\n",
    "\n",
    "dm = DataManager(stack='MD593', section=section_id, segm_params_id='gridsize200')\n",
    "\n",
    "# dm._load_image()\n",
    "\n",
    "texton_hists = dm.load_pipeline_result('texHist')\n",
    "textonmap = dm.load_pipeline_result('texMap')\n",
    "n_texton = textonmap.max() + 1"
   ]
  },
  {
   "cell_type": "code",
   "execution_count": 3,
   "metadata": {
    "collapsed": true
   },
   "outputs": [],
   "source": [
    "single_channel_maps = [textonmap[dm.ymin:dm.ymax+1, dm.xmin:dm.xmax+1]==c for c in range(n_texton)]"
   ]
  },
  {
   "cell_type": "code",
   "execution_count": 4,
   "metadata": {
    "collapsed": true
   },
   "outputs": [],
   "source": [
    "from skimage.transform import integral_image"
   ]
  },
  {
   "cell_type": "code",
   "execution_count": 5,
   "metadata": {
    "collapsed": true
   },
   "outputs": [],
   "source": [
    "int_imgs = np.dstack(Parallel(n_jobs=4)(delayed(integral_image)(m) for m in single_channel_maps))"
   ]
  },
  {
   "cell_type": "code",
   "execution_count": 12,
   "metadata": {
    "collapsed": true
   },
   "outputs": [],
   "source": [
    "def hist_centered_at(x,y,grid_size):\n",
    "    hist = int_imgs[y-grid_size/2, x-grid_size/2] + int_imgs[y+grid_size/2, x+grid_size/2] - \\\n",
    "            int_imgs[y+grid_size/2, x-grid_size/2] - int_imgs[y-grid_size/2, x+grid_size/2]\n",
    "    return hist/float(hist.sum())"
   ]
  },
  {
   "cell_type": "code",
   "execution_count": 58,
   "metadata": {
    "collapsed": true
   },
   "outputs": [],
   "source": [
    "def compute_best_scale(pts):\n",
    "\n",
    "    best_gs_list = np.empty((pts.shape[0],), np.int)\n",
    "    for pt_i, (x, y) in enumerate(pts):\n",
    "        energies = np.empty((len(grid_sizes),))\n",
    "\n",
    "        for i, grid_size in enumerate(grid_sizes):\n",
    "            \n",
    "            if x - 3*grid_size/2 < 0 or x + 3*grid_size/2 >= dm.w or \\\n",
    "            y - 3*grid_size/2 < 0 or y + 3*grid_size/2 >= dm.h:\n",
    "                energies[i] = np.nan\n",
    "            else:\n",
    "                int_hist = hist_centered_at(x,y,grid_size)\n",
    "                neighbor_hists = [hist_centered_at(xn, yn, grid_size) \n",
    "                                  for xn, yn in [(x-grid_size,y-grid_size),(x-grid_size,y),(x-grid_size,y+grid_size),\n",
    "                                                 (x, y-grid_size), (x, y+grid_size),\n",
    "                                                (x+grid_size,y-grid_size),(x+grid_size,y),(x+grid_size,y+grid_size)]]\n",
    "                d = np.squeeze(chi2s(int_hist, neighbor_hists)).min()\n",
    "                q = int_hist[int_hist!=0]\n",
    "                entropy = np.sum(q*np.log(q))\n",
    "                energies[i] = d - 0*entropy\n",
    "            \n",
    "        try:\n",
    "            best_gs_list[pt_i] = grid_sizes[np.nanargmin(energies)]\n",
    "        except:\n",
    "            print x,y,grid_size\n",
    "            raise\n",
    "    \n",
    "    return best_gs_list"
   ]
  },
  {
   "cell_type": "code",
   "execution_count": 63,
   "metadata": {
    "collapsed": false,
    "scrolled": true
   },
   "outputs": [
    {
     "name": "stdout",
     "output_type": "stream",
     "text": [
      "11.5237579346 seconds\n"
     ]
    }
   ],
   "source": [
    "t = time.time()\n",
    "\n",
    "grid_sizes = np.arange(50, 500, 10).astype(np.int)\n",
    "\n",
    "ys, xs = np.mgrid[4725-dm.ymin:4725-dm.ymin+1150:10, 1480-dm.xmin:1480-dm.xmin+1413:10]\n",
    "    \n",
    "res = Parallel(n_jobs=16)(delayed(compute_best_scale)(pts) for pts in np.array_split(np.c_[xs.flat, ys.flat], 16))\n",
    "\n",
    "print time.time() - t, 'seconds'"
   ]
  },
  {
   "cell_type": "code",
   "execution_count": 64,
   "metadata": {
    "collapsed": false
   },
   "outputs": [],
   "source": [
    "gs_map = np.reshape(np.concatenate(res), xs.shape)"
   ]
  },
  {
   "cell_type": "code",
   "execution_count": 65,
   "metadata": {
    "collapsed": false
   },
   "outputs": [
    {
     "data": {
      "image/png": "[encoded data removed]",
      "text/plain": [
       "<matplotlib.figure.Figure at 0x536c690>"
      ]
     },
     "metadata": {},
     "output_type": "display_data"
    }
   ],
   "source": [
    "plt.matshow(gs_map);\n",
    "plt.colorbar();"
   ]
  },
  {
   "cell_type": "code",
   "execution_count": 59,
   "metadata": {
    "collapsed": false
   },
   "outputs": [
    {
     "data": {
      "text/plain": [
       "array([360])"
      ]
     },
     "execution_count": 59,
     "metadata": {},
     "output_type": "execute_result"
    }
   ],
   "source": [
    "compute_best_scale(np.array([np.array([8890,3308])-(dm.xmin, dm.ymin)]))"
   ]
  },
  {
   "cell_type": "code",
   "execution_count": 105,
   "metadata": {
    "collapsed": false
   },
   "outputs": [
    {
     "data": {
      "image/png": "[encoded data removed]",
      "text/plain": [
       "<matplotlib.figure.Figure at 0x6068d90>"
      ]
     },
     "metadata": {},
     "output_type": "display_data"
    }
   ],
   "source": [
    "plt.plot(grid_sizes, ds);\n",
    "plt.plot(grid_sizes, energies, 'g')\n",
    "# plt.plot(grid_sizes, entropies, 'r');\n",
    "plt.xlabel('grid size');\n",
    "plt.xticks(grid_sizes[::10]);\n",
    "plt.ylabel('center-surround difference');\n",
    "plt.title('How grid size affects histogram homogeneity');"
   ]
  },
  {
   "cell_type": "code",
   "execution_count": 106,
   "metadata": {
    "collapsed": false
   },
   "outputs": [
    {
     "name": "stdout",
     "output_type": "stream",
     "text": [
      "190\n"
     ]
    }
   ],
   "source": [
    "best_gs = grid_sizes[np.argmin(energies)]\n",
    "print best_gs"
   ]
  },
  {
   "cell_type": "code",
   "execution_count": 20,
   "metadata": {
    "collapsed": false
   },
   "outputs": [
    {
     "name": "stderr",
     "output_type": "stream",
     "text": [
      "/oasis/projects/nsf/csd181/yuncong/virtualenv-1.9.1/yuncongve/lib/python2.7/site-packages/PIL/Image.py:2261: DecompressionBombWarning: Image size (203470848 pixels) exceeds limit of 89478485 pixels, could be decompression bomb DOS attack.\n",
      "  DecompressionBombWarning)\n"
     ]
    }
   ],
   "source": [
    "dm._load_image(versions=['rgb-jpg'])"
   ]
  },
  {
   "cell_type": "code",
   "execution_count": 21,
   "metadata": {
    "collapsed": true
   },
   "outputs": [],
   "source": [
    "import cv2"
   ]
  },
  {
   "cell_type": "code",
   "execution_count": 101,
   "metadata": {
    "collapsed": true
   },
   "outputs": [],
   "source": [
    "viz = dm.image_rgb_jpg.copy()\n",
    "cv2.rectangle(viz, (x-best_gs/2, y-best_gs/2), (x+best_gs/2, y+best_gs/2), (255,0,0), 10)"
   ]
  },
  {
   "cell_type": "code",
   "execution_count": 102,
   "metadata": {
    "collapsed": false,
    "scrolled": true
   },
   "outputs": [
    {
     "data": {
      "text/html": [
       "<a href='tmp.jpg' target='_blank'>tmp.jpg</a><br>"
      ],
      "text/plain": [
       "/oasis/projects/nsf/csd395/yuncong/Brain/notebooks/tmp.jpg"
      ]
     },
     "execution_count": 102,
     "metadata": {},
     "output_type": "execute_result"
    }
   ],
   "source": [
    "display(viz[dm.ymin:dm.ymax, dm.xmin:dm.xmax])"
   ]
  },
  {
   "cell_type": "code",
   "execution_count": 66,
   "metadata": {
    "collapsed": false
   },
   "outputs": [],
   "source": [
    "section_id = 100\n",
    "\n",
    "dm = DataManager(stack='MD593', section=section_id,\n",
    "                 labeling_dir='/home/yuncong/CSHL_data_labelings')\n",
    "\n",
    "# dm._load_image()\n",
    "\n",
    "# texton_hists = dm.load_pipeline_result('texHist')\n",
    "# segmentation = dm.load_pipeline_result('segmentation')\n",
    "# n_superpixels = segmentation.max() + 1\n",
    "textonmap = dm.load_pipeline_result('texMap')\n",
    "n_texton = textonmap.max() + 1\n",
    "# neighbors = dm.load_pipeline_result('neighbors')\n",
    "\n",
    "# neighbors_global = neighbors\n",
    "\n",
    "# texture_map = texton_hists[segmentation]\n",
    "# texture_map[~dm.mask] = np.nan * np.ones((n_texton,))\n",
    "# dm.save_pipeline_result(texture_map, 'textureMap', 'npy')\n",
    "\n",
    "# texture_map = dm.load_pipeline_result('textureMap', 'npy')\n",
    "\n",
    "# coherence_map = dm.load_pipeline_result('coherenceMap', 'npy')\n",
    "# eigenvec_map = dm.load_pipeline_result('eigenvecMap', 'npy')\n",
    "\n",
    "# origPosCanvas = dm.load_pipeline_result('originPosOnCanvas', 'npy')"
   ]
  },
  {
   "cell_type": "code",
   "execution_count": 99,
   "metadata": {
    "collapsed": false
   },
   "outputs": [],
   "source": [
    "labeling_name = 'MD593_0100_yuncong_09202015173615'\n",
    "label = 0\n",
    "with open('/home/yuncong/csd395/CSHL_data_landmarks/%s_landmark_%d.pkl'%(labeling_name, label), 'r') as f:\n",
    "    descriptor = pickle.load(f)"
   ]
  },
  {
   "cell_type": "code",
   "execution_count": 100,
   "metadata": {
    "collapsed": false
   },
   "outputs": [],
   "source": [
    "d = descriptor[4]"
   ]
  },
  {
   "cell_type": "code",
   "execution_count": 134,
   "metadata": {
    "collapsed": false
   },
   "outputs": [
    {
     "name": "stdout",
     "output_type": "stream",
     "text": [
      "[[ 0.          0.02998264  0.16689897  0.08930196  0.12618042  0.85797037\n",
      "   0.07639761  0.04527023  0.95474459]\n",
      " [ 0.02998264  0.          0.2290952   0.08652     0.12595624  0.75478485\n",
      "   0.07479392  0.03761827  0.98753885]\n",
      " [ 0.16689897  0.2290952   0.          0.07834996  0.07753089  0.89785424\n",
      "   0.09745738  0.16454741  1.38706358]\n",
      " [ 0.08930196  0.08652     0.07834996  0.          0.00963695  0.75706244\n",
      "   0.00661791  0.04538917  1.3188952 ]\n",
      " [ 0.12618042  0.12595624  0.07753089  0.00963695  0.          0.79813674\n",
      "   0.0163599   0.06046581  1.36556138]\n",
      " [ 0.85797037  0.75478485  0.89785424  0.75706244  0.79813674  0.\n",
      "   0.7417143   0.73206932  1.339045  ]\n",
      " [ 0.07639761  0.07479392  0.09745738  0.00661791  0.0163599   0.7417143\n",
      "   0.          0.02941098  1.25472935]\n",
      " [ 0.04527023  0.03761827  0.16454741  0.04538917  0.06046581  0.73206932\n",
      "   0.02941098  0.          1.08152762]\n",
      " [ 0.95474459  0.98753885  1.38706358  1.3188952   1.36556138  1.339045\n",
      "   1.25472935  1.08152762  0.        ]]\n",
      "[[ 0.          0.03465763  0.17156194  0.08904993  0.12091127  0.0714177\n",
      "   0.04895879]\n",
      " [ 0.03465763  0.          0.23455896  0.08959029  0.12673143  0.07664285\n",
      "   0.0368031 ]\n",
      " [ 0.17156194  0.23455896  0.          0.07570394  0.07105227  0.09599132\n",
      "   0.17658863]\n",
      " [ 0.08904993  0.08959029  0.07570394  0.          0.00874187  0.00819409\n",
      "   0.05135985]\n",
      " [ 0.12091127  0.12673143  0.07105227  0.00874187  0.          0.01935286\n",
      "   0.06656538]\n",
      " [ 0.0714177   0.07664285  0.09599132  0.00819409  0.01935286  0.\n",
      "   0.03355585]\n",
      " [ 0.04895879  0.0368031   0.17658863  0.05135985  0.06656538  0.03355585\n",
      "   0.        ]]\n"
     ]
    }
   ],
   "source": [
    "from skimage.segmentation import relabel_sequential\n",
    "\n",
    "variances = []\n",
    "grid_sizes = np.linspace(100, min(d['height'], d['width'])/2, 100).astype(np.int)\n",
    "\n",
    "for grid_size in grid_sizes:\n",
    "\n",
    "    segmentation = np.zeros((d['height'], d['width']), np.int16)\n",
    "    rss, css = np.mgrid[0:d['height']:grid_size, 0:d['width']:grid_size]\n",
    "    for gi, (rs, cs) in enumerate(zip(rss.flat, css.flat)):\n",
    "        segmentation[rs:rs+grid_size, cs:cs+grid_size] = gi\n",
    "\n",
    "    segmentation[~d['mask']] = -1\n",
    "    segmentation[textonmap[d['ymin']:d['ymax']+1, d['xmin']:d['xmax']+1]==-1] = -1\n",
    "    \n",
    "    # segmentation starts from 0\n",
    "    masked_segmentation_relabeled, _, _ = relabel_sequential(segmentation + 1)\n",
    "\n",
    "    # make background label -1\n",
    "    segmentation = masked_segmentation_relabeled - 1\n",
    "    n_superpixels = segmentation.max() + 1\n",
    "\n",
    "    texton_hists_lm = np.array([np.bincount(textonmap[d['ymin']:d['ymax']+1, d['xmin']:d['xmax']+1][segmentation == s],\n",
    "                                   minlength=n_texton) for s in range(n_superpixels)])\n",
    "    texton_hists_lm = texton_hists_lm/texton_hists_lm.sum(axis=1)[:,None].astype(np.float)\n",
    "\n",
    "    ds = cdist(texton_hists_lm, texton_hists_lm, chi2)\n",
    "    if grid_size == 734 or grid_size == 726:\n",
    "        print ds\n",
    "    variances.append(ds.max())\n",
    "    \n",
    "#     ds = chi2s([texton_hists_lm.mean(axis=0)], texton_hists_lm)\n",
    "#     print grid_size, ds\n",
    "#     variances.append(ds.mean())\n",
    "    \n",
    "#     var = np.sum(ds**2)/len(ds)\n",
    "#     variances.append(var)"
   ]
  },
  {
   "cell_type": "code",
   "execution_count": 135,
   "metadata": {
    "collapsed": false
   },
   "outputs": [
    {
     "data": {
      "image/png": "[encoded data removed]",
      "text/plain": [
       "<matplotlib.figure.Figure at 0x666b150>"
      ]
     },
     "metadata": {},
     "output_type": "display_data"
    }
   ],
   "source": [
    "plt.plot(grid_sizes, variances);\n",
    "plt.xlabel('grid size');\n",
    "# plt.xticks(grid_sizes[::10]);\n",
    "plt.ylabel('superpixel histogrm variance');\n",
    "plt.title('How grid size affects histogram homogeneity');"
   ]
  },
  {
   "cell_type": "code",
   "execution_count": 103,
   "metadata": {
    "collapsed": false
   },
   "outputs": [
    {
     "data": {
      "text/plain": [
       "array([885, 615, 734, 773, 781, 742, 750, 758, 789, 766, 797, 805, 631,\n",
       "       813, 821, 639, 623, 829, 607, 655, 670, 662, 837, 551, 678, 647,\n",
       "       845, 686, 694, 559, 853, 544, 456, 377, 337, 567, 861, 464, 369,\n",
       "       869, 496, 226, 322, 702, 472, 448, 480, 488, 345, 329, 234, 393,\n",
       "       710, 314, 353, 512, 401, 504, 361, 718, 520, 385, 282, 258, 274,\n",
       "       266, 242, 575, 290, 179, 203, 591, 187, 171, 147, 306, 155, 528,\n",
       "       298, 599, 536, 409, 877, 123, 139, 195, 250, 425, 131, 218, 211,\n",
       "       583, 433, 163, 115, 726, 417, 107, 440, 100])"
      ]
     },
     "execution_count": 103,
     "metadata": {},
     "output_type": "execute_result"
    }
   ],
   "source": [
    "grid_sizes[np.argsort(variances)]"
   ]
  },
  {
   "cell_type": "code",
   "execution_count": 115,
   "metadata": {
    "collapsed": true
   },
   "outputs": [],
   "source": [
    "grid_size = 726\n",
    "\n",
    "segmentation = np.zeros((d['height'], d['width']), np.int16)\n",
    "rss, css = np.mgrid[0:d['height']:grid_size, 0:d['width']:grid_size]\n",
    "for gi, (rs, cs) in enumerate(zip(rss.flat, css.flat)):\n",
    "    segmentation[rs:rs+grid_size, cs:cs+grid_size] = gi\n",
    "\n",
    "segmentation[~d['mask']] = -1\n",
    "from skimage.segmentation import relabel_sequential\n",
    "\n",
    "# segmentation starts from 0\n",
    "masked_segmentation_relabeled, _, _ = relabel_sequential(segmentation + 1)\n",
    "\n",
    "# make background label -1\n",
    "segmentation = masked_segmentation_relabeled - 1"
   ]
  },
  {
   "cell_type": "code",
   "execution_count": 116,
   "metadata": {
    "collapsed": true
   },
   "outputs": [],
   "source": [
    "# from skimage.segmentation import mark_boundaries\n",
    "# dm._load_image(versions=['rgb-jpg'])"
   ]
  },
  {
   "cell_type": "code",
   "execution_count": 117,
   "metadata": {
    "collapsed": false
   },
   "outputs": [
    {
     "data": {
      "text/html": [
       "<a href='tmp.jpg' target='_blank'>tmp.jpg</a><br>"
      ],
      "text/plain": [
       "/oasis/projects/nsf/csd395/yuncong/Brain/notebooks/tmp.jpg"
      ]
     },
     "execution_count": 117,
     "metadata": {},
     "output_type": "execute_result"
    }
   ],
   "source": [
    "img = dm.image_rgb_jpg[d['ymin']:d['ymax']+1, d['xmin']:d['xmax']+1].copy()\n",
    "viz = mark_boundaries(img, segmentation, background_label=-1)\n",
    "display(viz)"
   ]
  },
  {
   "cell_type": "code",
   "execution_count": null,
   "metadata": {
    "collapsed": true
   },
   "outputs": [],
   "source": []
  }
 ],
 "metadata": {
  "kernelspec": {
   "display_name": "Python 2",
   "language": "python",
   "name": "python2"
  },
  "language_info": {
   "codemirror_mode": {
    "name": "ipython",
    "version": 2
   },
   "file_extension": ".py",
   "mimetype": "text/x-python",
   "name": "python",
   "nbconvert_exporter": "python",
   "pygments_lexer": "ipython2",
   "version": "2.7.3"
  }
 },
 "nbformat": 4,
 "nbformat_minor": 0
}
