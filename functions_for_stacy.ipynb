{
 "cells": [
  {
   "cell_type": "markdown",
   "metadata": {},
   "source": [
    "**Workflow**:\n",
    "1. Extract contours and markers from xml files.\n",
    "2. Reconstruct brains as a set of 3D arrays, one for each structure, based on contours.\n",
    "3. Define a fixed brain. Align other brains to it. (Omitted.)\n",
    "4. Load fixed brain and other brains that have been aligned to the fixed brain."
   ]
  },
  {
   "cell_type": "code",
   "execution_count": 1,
   "metadata": {},
   "outputs": [
    {
     "name": "stderr",
     "output_type": "stream",
     "text": [
      "/usr/local/lib/python2.7/dist-packages/matplotlib/__init__.py:1357: UserWarning:  This call to matplotlib.use() has no effect\n",
      "because the backend has already been chosen;\n",
      "matplotlib.use() must be called *before* pylab, matplotlib.pyplot,\n",
      "or matplotlib.backends is imported for the first time.\n",
      "\n",
      "  warnings.warn(_use_error_msg)\n"
     ]
    },
    {
     "name": "stdout",
     "output_type": "stream",
     "text": [
      "Setting environment for Local Macbook Pro\n"
     ]
    }
   ],
   "source": [
    "%load_ext autoreload\n",
    "%autoreload 2\n",
    "\n",
    "import sys\n",
    "import os\n",
    "import time\n",
    "\n",
    "from collections import defaultdict\n",
    "import numpy as np\n",
    "import matplotlib.pyplot as plt\n",
    "%matplotlib inline\n",
    "\n",
    "sys.path.append(os.environ['REPO_DIR'] + '/utilities')\n",
    "# from utilities2015 import *\n",
    "# from metadata import *\n",
    "# from data_manager import *\n",
    "from annotation_utilities import *\n",
    "# from registration_utilities import *\n",
    "# from conversion import *\n",
    "from vis3d_utilities import *"
   ]
  },
  {
   "cell_type": "code",
   "execution_count": 2,
   "metadata": {
    "collapsed": true
   },
   "outputs": [],
   "source": [
    "stacks_to_colors = {'RV4_67hrs': (1,0,0), 'RV14_65hrs': (0,1,0), 'RV19_61hrs': (0,0,1), 'RV13_64hrs': (1,1,0)}"
   ]
  },
  {
   "cell_type": "markdown",
   "metadata": {},
   "source": [
    "# Reconstruct one brain"
   ]
  },
  {
   "cell_type": "code",
   "execution_count": 6,
   "metadata": {
    "collapsed": true
   },
   "outputs": [],
   "source": [
    "stack_fixed = 'RV4_67hrs'"
   ]
  },
  {
   "cell_type": "code",
   "execution_count": null,
   "metadata": {
    "collapsed": true
   },
   "outputs": [],
   "source": [
    "import xml.etree.ElementTree as ET\n",
    "\n",
    "def get_stacy_contours(stack):\n",
    "    \"\"\"\n",
    "    Returns:\n",
    "        (dict {str: list of (n,3)-arrays}, dict {str: (n,3)-array}): contours, markers\n",
    "    \"\"\"\n",
    "\n",
    "#     xmlfile = '/shared/stacy_data/%s.xml' % stack\n",
    "    xmlfile = '/home/yuncong/stacy_data/%s.xml' % stack\n",
    "    download_from_s3(xmlfile)\n",
    "\n",
    "    # create element tree object\n",
    "    tree = ET.parse(xmlfile)\n",
    "\n",
    "    # get root element\n",
    "    root = tree.getroot()\n",
    "\n",
    "    prefix = '{http://www.mbfbioscience.com/2007/neurolucida}'\n",
    "\n",
    "    # neurolucida_name_map = \\\n",
    "    # {\"Contour Name 1\": 'RMC',\n",
    "    # \"Contour Name 2\": '3N',\n",
    "    # \"Contour Name 3\": 'fr',\n",
    "    # 'Brain': 'outerContour',\n",
    "    #  'SNR': 'SNR'}\n",
    "\n",
    "    neurolucida_name_map = \\\n",
    "    {\"IO\": 'IO_L',\n",
    "    \"LRT\": 'LRt_L',\n",
    "    # \"BRAINSTEM\": 'brainstem',\n",
    "    '5 MOTOR': '5N_L',\n",
    "     '7n': '7n_L',\n",
    "    'AMB MOTOR': 'Amb_L',\n",
    "    'FACIAL MOTOR': '7N_L',\n",
    "     'SpVC': 'Sp5C_L',\n",
    "     'SpVO': 'Sp5O_L',\n",
    "     'Sp5I': 'Sp5I_L',\n",
    "     'Pr5': 'Pr5_L',\n",
    "     'Sol': 'Sol_L',\n",
    "     'Li': 'Li_L',\n",
    "    #  'SpVIO': 'unknown',\n",
    "    'R LrT': 'LRt_R',\n",
    "    'R FN':  '7N_R',\n",
    "    'R_7n': '7n_R',\n",
    "    'R 5N':  '5N_R',\n",
    "    'R SpVC': 'Sp5C_R',\n",
    "    'R Sp5I': 'Sp5I_R',\n",
    "    'R SpVO': 'Sp5O_R',\n",
    "    'R Pr5':  'Pr5_R',\n",
    "    'R IO':  'IO_R',\n",
    "     'R-SpVI':  'Sp5I_R',\n",
    "    'R-SpV':  'Sp5_R',\n",
    "    'R-SpVO':  'Sp5O_R',\n",
    "     'R-PrV':  'Pr5_R',\n",
    "     'R-Amb':  'Amb_R',\n",
    "    #  'R SpVIO':  'unknown',\n",
    "     'SpVC_R':  'Sp5C_R',\n",
    "     'R 5M':  '5N_R',\n",
    "    #  'User Line 5':  'unknown',\n",
    "    #  'NewContour': 'unknown',\n",
    "    #   'User Line 2':  'unknown',\n",
    "    }\n",
    "\n",
    "    contours = defaultdict(list)\n",
    "\n",
    "    for item in root.findall(prefix+'contour'):\n",
    "        name = item.attrib['name']\n",
    "        if name not in neurolucida_name_map:\n",
    "    #         raise Exception('Name %s in stack %s not recognized' % (name, stack))\n",
    "            sys.stderr.write('Name %s in stack %s not recognized. Ignored.\\n' % (name, stack))\n",
    "            continue\n",
    "        name = neurolucida_name_map[name]\n",
    "        curr_contour = []\n",
    "    #     try:\n",
    "    #         resolution = float(item.findall(prefix+'resolution')[0].text)\n",
    "    #         print resolution\n",
    "    #     except:\n",
    "    #         pass\n",
    "        for p in item.findall(prefix+'point'):\n",
    "            curr_contour.append((float(p.attrib['x']), float(p.attrib['y']), float(p.attrib['z'])))\n",
    "        contours[name].append(np.array(curr_contour))\n",
    "\n",
    "    contours.default_factory = None\n",
    "\n",
    "    #################\n",
    "\n",
    "    # structure_subset = ['3N_L', 'RMC_L', 'SNR_L']\n",
    "    structure_subset = \\\n",
    "    [name for name in contours.keys() if parse_label(name)[0] in all_known_structures]\n",
    "    print structure_subset\n",
    "\n",
    "    ####################\n",
    "\n",
    "    downscale = 32\n",
    "\n",
    "    if stack == 'RV4_67hrs' or stack == 'RV19_61hrs' or stack == 'RV9_53hrs':\n",
    "        contours_orientationCorrected = {name_u: [cnt*[1,-1,1]\n",
    "                                         for cnt in cnts3d if len(cnt) > 2] \n",
    "                               for name_u, cnts3d in contours.iteritems()}\n",
    "    else:\n",
    "        contours_orientationCorrected = {name_u: [cnt*[-1,-1,1]\n",
    "                                         for cnt in cnts3d] \n",
    "                               for name_u, cnts3d in contours.iteritems()}\n",
    "\n",
    "    contours_atlasResol = {name: [cnt / (XY_PIXEL_DISTANCE_LOSSLESS * downscale)\n",
    "                                    for cnt in cnts3d] \n",
    "                           for name, cnts3d in contours_orientationCorrected.iteritems()\n",
    "                                                if name in structure_subset}\n",
    "\n",
    "    \n",
    "    #####################\n",
    "    \n",
    "    markers = defaultdict(list)\n",
    "#     markers = {}\n",
    "\n",
    "    for item in root.findall(prefix+'marker'):\n",
    "        curr_markers = []\n",
    "        for p in item.findall(prefix+'point'):\n",
    "            curr_markers.append((float(p.attrib['x']), float(p.attrib['y']), float(p.attrib['z'])))\n",
    "        name = '7N_R'\n",
    "        markers[name].append(np.array(curr_markers))\n",
    "        \n",
    "    markers = {name: np.concatenate(mkr_lists) for name, mkr_lists in markers.iteritems()}\n",
    "\n",
    "    # markers.default_factory = None\n",
    "    \n",
    "    #########################\n",
    "    \n",
    "    if stack == 'RV4_67hrs' or stack == 'RV19_61hrs' or stack == 'RV9_53hrs':\n",
    "\n",
    "        markers_orientationCorrected = {name_u: mkrs3d*[1,-1,1]\n",
    "                               for name_u, mkrs3d in markers.iteritems()}\n",
    "\n",
    "    else:\n",
    "        markers_orientationCorrected = {name_u: mkrs3d*[-1,-1,1]\n",
    "                           for name_u, mkrs3d in markers.iteritems()}\n",
    "\n",
    "    markers_atlasResol = {name: mkrs3d / (XY_PIXEL_DISTANCE_LOSSLESS * downscale)\n",
    "                           for name, mkrs3d in markers_orientationCorrected.iteritems()\n",
    "                         if name in structure_subset}\n",
    "    \n",
    "    \n",
    "    return contours_atlasResol, markers_atlasResol"
   ]
  },
  {
   "cell_type": "code",
   "execution_count": 15,
   "metadata": {},
   "outputs": [
    {
     "name": "stderr",
     "output_type": "stream",
     "text": [
      "Name BRAINSTEM in stack RV4_67hrs not recognized. Ignored.\n",
      "Name BRAINSTEM in stack RV4_67hrs not recognized. Ignored.\n",
      "Name BRAINSTEM in stack RV4_67hrs not recognized. Ignored.\n",
      "Name BRAINSTEM in stack RV4_67hrs not recognized. Ignored.\n",
      "Name BRAINSTEM in stack RV4_67hrs not recognized. Ignored.\n",
      "Name BRAINSTEM in stack RV4_67hrs not recognized. Ignored.\n",
      "Name BRAINSTEM in stack RV4_67hrs not recognized. Ignored.\n",
      "Name BRAINSTEM in stack RV4_67hrs not recognized. Ignored.\n",
      "Name BRAINSTEM in stack RV4_67hrs not recognized. Ignored.\n",
      "Name BRAINSTEM in stack RV4_67hrs not recognized. Ignored.\n",
      "Name BRAINSTEM in stack RV4_67hrs not recognized. Ignored.\n",
      "Name BRAINSTEM in stack RV4_67hrs not recognized. Ignored.\n",
      "Name BRAINSTEM in stack RV4_67hrs not recognized. Ignored.\n",
      "Name BRAINSTEM in stack RV4_67hrs not recognized. Ignored.\n",
      "Name BRAINSTEM in stack RV4_67hrs not recognized. Ignored.\n",
      "Name BRAINSTEM in stack RV4_67hrs not recognized. Ignored.\n",
      "Name BRAINSTEM in stack RV4_67hrs not recognized. Ignored.\n",
      "Name BRAINSTEM in stack RV4_67hrs not recognized. Ignored.\n",
      "Name BRAINSTEM in stack RV4_67hrs not recognized. Ignored.\n",
      "Name BRAINSTEM in stack RV4_67hrs not recognized. Ignored.\n",
      "Name BRAINSTEM in stack RV4_67hrs not recognized. Ignored.\n",
      "Name BRAINSTEM in stack RV4_67hrs not recognized. Ignored.\n",
      "Name BRAINSTEM in stack RV4_67hrs not recognized. Ignored.\n",
      "Name BRAINSTEM in stack RV4_67hrs not recognized. Ignored.\n",
      "Name BRAINSTEM in stack RV4_67hrs not recognized. Ignored.\n",
      "Name BRAINSTEM in stack RV4_67hrs not recognized. Ignored.\n",
      "Name BRAINSTEM in stack RV4_67hrs not recognized. Ignored.\n",
      "Name BRAINSTEM in stack RV4_67hrs not recognized. Ignored.\n",
      "Name BRAINSTEM in stack RV4_67hrs not recognized. Ignored.\n",
      "Name BRAINSTEM in stack RV4_67hrs not recognized. Ignored.\n",
      "Name BRAINSTEM in stack RV4_67hrs not recognized. Ignored.\n",
      "Name BRAINSTEM in stack RV4_67hrs not recognized. Ignored.\n",
      "Name BRAINSTEM in stack RV4_67hrs not recognized. Ignored.\n",
      "Name BRAINSTEM in stack RV4_67hrs not recognized. Ignored.\n",
      "Name BRAINSTEM in stack RV4_67hrs not recognized. Ignored.\n",
      "Name BRAINSTEM in stack RV4_67hrs not recognized. Ignored.\n",
      "Name BRAINSTEM in stack RV4_67hrs not recognized. Ignored.\n",
      "Name BRAINSTEM in stack RV4_67hrs not recognized. Ignored.\n",
      "Name BRAINSTEM in stack RV4_67hrs not recognized. Ignored.\n",
      "Name BRAINSTEM in stack RV4_67hrs not recognized. Ignored.\n",
      "Name BRAINSTEM in stack RV4_67hrs not recognized. Ignored.\n",
      "Name BRAINSTEM in stack RV4_67hrs not recognized. Ignored.\n",
      "Name BRAINSTEM in stack RV4_67hrs not recognized. Ignored.\n",
      "Name BRAINSTEM in stack RV4_67hrs not recognized. Ignored.\n",
      "Name BRAINSTEM in stack RV4_67hrs not recognized. Ignored.\n",
      "Name BRAINSTEM in stack RV4_67hrs not recognized. Ignored.\n",
      "Name BRAINSTEM in stack RV4_67hrs not recognized. Ignored.\n",
      "Name BRAINSTEM in stack RV4_67hrs not recognized. Ignored.\n",
      "Name BRAINSTEM in stack RV4_67hrs not recognized. Ignored.\n",
      "Name BRAINSTEM in stack RV4_67hrs not recognized. Ignored.\n",
      "Name BRAINSTEM in stack RV4_67hrs not recognized. Ignored.\n",
      "Name BRAINSTEM in stack RV4_67hrs not recognized. Ignored.\n",
      "Name BRAINSTEM in stack RV4_67hrs not recognized. Ignored.\n",
      "Name BRAINSTEM in stack RV4_67hrs not recognized. Ignored.\n",
      "Name BRAINSTEM in stack RV4_67hrs not recognized. Ignored.\n",
      "Name BRAINSTEM in stack RV4_67hrs not recognized. Ignored.\n",
      "Name BRAINSTEM in stack RV4_67hrs not recognized. Ignored.\n",
      "Name BRAINSTEM in stack RV4_67hrs not recognized. Ignored.\n",
      "Name BRAINSTEM in stack RV4_67hrs not recognized. Ignored.\n",
      "Name BRAINSTEM in stack RV4_67hrs not recognized. Ignored.\n",
      "Name BRAINSTEM in stack RV4_67hrs not recognized. Ignored.\n",
      "Name BRAINSTEM in stack RV4_67hrs not recognized. Ignored.\n",
      "Name BRAINSTEM in stack RV4_67hrs not recognized. Ignored.\n",
      "Name BRAINSTEM in stack RV4_67hrs not recognized. Ignored.\n",
      "Name BRAINSTEM in stack RV4_67hrs not recognized. Ignored.\n",
      "Name BRAINSTEM in stack RV4_67hrs not recognized. Ignored.\n",
      "Name BRAINSTEM in stack RV4_67hrs not recognized. Ignored.\n",
      "Name BRAINSTEM in stack RV4_67hrs not recognized. Ignored.\n",
      "Name BRAINSTEM in stack RV4_67hrs not recognized. Ignored.\n",
      "Name BRAINSTEM in stack RV4_67hrs not recognized. Ignored.\n",
      "Name BRAINSTEM in stack RV4_67hrs not recognized. Ignored.\n",
      "Name BRAINSTEM in stack RV4_67hrs not recognized. Ignored.\n",
      "Name BRAINSTEM in stack RV4_67hrs not recognized. Ignored.\n",
      "Name BRAINSTEM in stack RV4_67hrs not recognized. Ignored.\n",
      "Name BRAINSTEM in stack RV4_67hrs not recognized. Ignored.\n",
      "Name BRAINSTEM in stack RV4_67hrs not recognized. Ignored.\n",
      "Name BRAINSTEM in stack RV4_67hrs not recognized. Ignored.\n",
      "Name BRAINSTEM in stack RV4_67hrs not recognized. Ignored.\n",
      "Name BRAINSTEM in stack RV4_67hrs not recognized. Ignored.\n",
      "Name BRAINSTEM in stack RV4_67hrs not recognized. Ignored.\n",
      "Name BRAINSTEM in stack RV4_67hrs not recognized. Ignored.\n",
      "Name BRAINSTEM in stack RV4_67hrs not recognized. Ignored.\n",
      "Name BRAINSTEM in stack RV4_67hrs not recognized. Ignored.\n",
      "Name BRAINSTEM in stack RV4_67hrs not recognized. Ignored.\n",
      "Name BRAINSTEM in stack RV4_67hrs not recognized. Ignored.\n",
      "Name BRAINSTEM in stack RV4_67hrs not recognized. Ignored.\n",
      "Name BRAINSTEM in stack RV4_67hrs not recognized. Ignored.\n",
      "Name BRAINSTEM in stack RV4_67hrs not recognized. Ignored.\n",
      "Name BRAINSTEM in stack RV4_67hrs not recognized. Ignored.\n",
      "Name BRAINSTEM in stack RV4_67hrs not recognized. Ignored.\n",
      "Name BRAINSTEM in stack RV4_67hrs not recognized. Ignored.\n",
      "Name BRAINSTEM in stack RV4_67hrs not recognized. Ignored.\n",
      "Name BRAINSTEM in stack RV4_67hrs not recognized. Ignored.\n",
      "Name BRAINSTEM in stack RV4_67hrs not recognized. Ignored.\n",
      "Name BRAINSTEM in stack RV4_67hrs not recognized. Ignored.\n",
      "Name BRAINSTEM in stack RV4_67hrs not recognized. Ignored.\n",
      "Name BRAINSTEM in stack RV4_67hrs not recognized. Ignored.\n",
      "Name BRAINSTEM in stack RV4_67hrs not recognized. Ignored.\n",
      "Name BRAINSTEM in stack RV4_67hrs not recognized. Ignored.\n",
      "Name BRAINSTEM in stack RV4_67hrs not recognized. Ignored.\n",
      "Name BRAINSTEM in stack RV4_67hrs not recognized. Ignored.\n",
      "Name BRAINSTEM in stack RV4_67hrs not recognized. Ignored.\n",
      "Name BRAINSTEM in stack RV4_67hrs not recognized. Ignored.\n",
      "Name BRAINSTEM in stack RV4_67hrs not recognized. Ignored.\n"
     ]
    },
    {
     "name": "stdout",
     "output_type": "stream",
     "text": [
      "['LRt_R', 'Sp5I_R', '7N_R', 'Sp5C_L', 'Sp5I_L', '7n_R', '5N_R', '5N_L', '7n_L', '7N_L', 'Sp5C_R', 'Sp5O_R', 'Sp5O_L', 'LRt_L']\n",
      "['Sp5O_R', 'Sp5I_R', 'Sp5C_L', '7N_R', '5N_R', '5N_L', '7N_L', 'Sp5C_R', '7n_L', 'Amb_R', '7n_R', 'Amb_L', 'LRt_R', 'LRt_L']\n"
     ]
    },
    {
     "name": "stderr",
     "output_type": "stream",
     "text": [
      "Name BRAINSTEM in stack RV14_65hrs not recognized. Ignored.\n",
      "Name BRAINSTEM in stack RV14_65hrs not recognized. Ignored.\n",
      "Name BRAINSTEM in stack RV14_65hrs not recognized. Ignored.\n",
      "Name BRAINSTEM in stack RV14_65hrs not recognized. Ignored.\n",
      "Name BRAINSTEM in stack RV14_65hrs not recognized. Ignored.\n",
      "Name SpVIO in stack RV14_65hrs not recognized. Ignored.\n",
      "Name BRAINSTEM in stack RV14_65hrs not recognized. Ignored.\n",
      "Name BRAINSTEM in stack RV14_65hrs not recognized. Ignored.\n",
      "Name SpVIO in stack RV14_65hrs not recognized. Ignored.\n",
      "Name BRAINSTEM in stack RV14_65hrs not recognized. Ignored.\n",
      "Name BRAINSTEM in stack RV14_65hrs not recognized. Ignored.\n",
      "Name BRAINSTEM in stack RV14_65hrs not recognized. Ignored.\n",
      "Name BRAINSTEM in stack RV14_65hrs not recognized. Ignored.\n",
      "Name BRAINSTEM in stack RV14_65hrs not recognized. Ignored.\n",
      "Name BRAINSTEM in stack RV14_65hrs not recognized. Ignored.\n",
      "Name BRAINSTEM in stack RV14_65hrs not recognized. Ignored.\n",
      "Name SpVIO in stack RV14_65hrs not recognized. Ignored.\n",
      "Name SpVIO in stack RV14_65hrs not recognized. Ignored.\n",
      "Name SpVIO in stack RV14_65hrs not recognized. Ignored.\n",
      "Name SpVIO in stack RV14_65hrs not recognized. Ignored.\n",
      "Name SpVIO in stack RV14_65hrs not recognized. Ignored.\n",
      "Name BRAINSTEM in stack RV14_65hrs not recognized. Ignored.\n",
      "Name BRAINSTEM in stack RV14_65hrs not recognized. Ignored.\n",
      "Name BRAINSTEM in stack RV14_65hrs not recognized. Ignored.\n",
      "Name BRAINSTEM in stack RV14_65hrs not recognized. Ignored.\n",
      "Name SpVIO in stack RV14_65hrs not recognized. Ignored.\n",
      "Name SpVIO in stack RV14_65hrs not recognized. Ignored.\n",
      "Name BRAINSTEM in stack RV14_65hrs not recognized. Ignored.\n",
      "Name BRAINSTEM in stack RV14_65hrs not recognized. Ignored.\n",
      "Name BRAINSTEM in stack RV14_65hrs not recognized. Ignored.\n",
      "Name BRAINSTEM in stack RV14_65hrs not recognized. Ignored.\n",
      "Name BRAINSTEM in stack RV14_65hrs not recognized. Ignored.\n",
      "Name BRAINSTEM in stack RV14_65hrs not recognized. Ignored.\n",
      "Name BRAINSTEM in stack RV14_65hrs not recognized. Ignored.\n",
      "Name BRAINSTEM in stack RV14_65hrs not recognized. Ignored.\n",
      "Name BRAINSTEM in stack RV14_65hrs not recognized. Ignored.\n",
      "Name BRAINSTEM in stack RV14_65hrs not recognized. Ignored.\n",
      "Name BRAINSTEM in stack RV14_65hrs not recognized. Ignored.\n",
      "Name BRAINSTEM in stack RV14_65hrs not recognized. Ignored.\n",
      "Name BRAINSTEM in stack RV14_65hrs not recognized. Ignored.\n",
      "Name BRAINSTEM in stack RV14_65hrs not recognized. Ignored.\n",
      "Name BRAINSTEM in stack RV14_65hrs not recognized. Ignored.\n",
      "Name BRAINSTEM in stack RV14_65hrs not recognized. Ignored.\n",
      "Name BRAINSTEM in stack RV14_65hrs not recognized. Ignored.\n",
      "Name BRAINSTEM in stack RV14_65hrs not recognized. Ignored.\n",
      "Name BRAINSTEM in stack RV14_65hrs not recognized. Ignored.\n",
      "Name BRAINSTEM in stack RV14_65hrs not recognized. Ignored.\n",
      "Name BRAINSTEM in stack RV14_65hrs not recognized. Ignored.\n",
      "Name BRAINSTEM in stack RV14_65hrs not recognized. Ignored.\n",
      "Name BRAINSTEM in stack RV14_65hrs not recognized. Ignored.\n",
      "Name BRAINSTEM in stack RV14_65hrs not recognized. Ignored.\n",
      "Name BRAINSTEM in stack RV14_65hrs not recognized. Ignored.\n",
      "Name BRAINSTEM in stack RV14_65hrs not recognized. Ignored.\n",
      "Name BRAINSTEM in stack RV14_65hrs not recognized. Ignored.\n",
      "Name BRAINSTEM in stack RV14_65hrs not recognized. Ignored.\n",
      "Name BRAINSTEM in stack RV14_65hrs not recognized. Ignored.\n",
      "Name BRAINSTEM in stack RV14_65hrs not recognized. Ignored.\n",
      "Name BRAINSTEM in stack RV14_65hrs not recognized. Ignored.\n",
      "Name BRAINSTEM in stack RV14_65hrs not recognized. Ignored.\n",
      "Name BRAINSTEM in stack RV14_65hrs not recognized. Ignored.\n",
      "Name BRAINSTEM in stack RV14_65hrs not recognized. Ignored.\n",
      "Name BRAINSTEM in stack RV14_65hrs not recognized. Ignored.\n",
      "Name BRAINSTEM in stack RV14_65hrs not recognized. Ignored.\n",
      "Name BRAINSTEM in stack RV14_65hrs not recognized. Ignored.\n",
      "Name BRAINSTEM in stack RV14_65hrs not recognized. Ignored.\n",
      "Name BRAINSTEM in stack RV14_65hrs not recognized. Ignored.\n",
      "Name BRAINSTEM in stack RV14_65hrs not recognized. Ignored.\n",
      "Name BRAINSTEM in stack RV14_65hrs not recognized. Ignored.\n",
      "Name BRAINSTEM in stack RV14_65hrs not recognized. Ignored.\n",
      "Name User Line 5 in stack RV14_65hrs not recognized. Ignored.\n",
      "Name User Line 5 in stack RV14_65hrs not recognized. Ignored.\n",
      "Name User Line 5 in stack RV14_65hrs not recognized. Ignored.\n",
      "Name User Line 5 in stack RV14_65hrs not recognized. Ignored.\n",
      "Name User Line 5 in stack RV14_65hrs not recognized. Ignored.\n",
      "Name User Line 5 in stack RV14_65hrs not recognized. Ignored.\n",
      "Name BRAINSTEM in stack RV14_65hrs not recognized. Ignored.\n",
      "Name BRAINSTEM in stack RV14_65hrs not recognized. Ignored.\n",
      "Name BRAINSTEM in stack RV14_65hrs not recognized. Ignored.\n",
      "Name BRAINSTEM in stack RV14_65hrs not recognized. Ignored.\n",
      "Name BRAINSTEM in stack RV14_65hrs not recognized. Ignored.\n",
      "Name BRAINSTEM in stack RV14_65hrs not recognized. Ignored.\n",
      "Name BRAINSTEM in stack RV14_65hrs not recognized. Ignored.\n",
      "Name BRAINSTEM in stack RV14_65hrs not recognized. Ignored.\n",
      "Name BRAINSTEM in stack RV14_65hrs not recognized. Ignored.\n",
      "Name BRAINSTEM in stack RV14_65hrs not recognized. Ignored.\n",
      "Name BRAINSTEM in stack RV14_65hrs not recognized. Ignored.\n",
      "Name BRAINSTEM in stack RV14_65hrs not recognized. Ignored.\n",
      "Name BRAINSTEM in stack RV14_65hrs not recognized. Ignored.\n",
      "Name BRAINSTEM in stack RV14_65hrs not recognized. Ignored.\n",
      "Name BRAINSTEM in stack RV14_65hrs not recognized. Ignored.\n",
      "Name BRAINSTEM in stack RV14_65hrs not recognized. Ignored.\n",
      "Name BRAINSTEM in stack RV14_65hrs not recognized. Ignored.\n",
      "Name BRAINSTEM in stack RV14_65hrs not recognized. Ignored.\n",
      "Name BRAINSTEM in stack RV14_65hrs not recognized. Ignored.\n",
      "Name BRAINSTEM in stack RV14_65hrs not recognized. Ignored.\n",
      "Name BRAINSTEM in stack RV14_65hrs not recognized. Ignored.\n",
      "Name BRAINSTEM in stack RV14_65hrs not recognized. Ignored.\n",
      "Name BRAINSTEM in stack RV14_65hrs not recognized. Ignored.\n",
      "Name BRAINSTEM in stack RV14_65hrs not recognized. Ignored.\n",
      "Name BRAINSTEM in stack RV14_65hrs not recognized. Ignored.\n",
      "Name BRAINSTEM in stack RV14_65hrs not recognized. Ignored.\n",
      "Name BRAINSTEM in stack RV14_65hrs not recognized. Ignored.\n",
      "Name User Line 5 in stack RV14_65hrs not recognized. Ignored.\n",
      "Name User Line 5 in stack RV14_65hrs not recognized. Ignored.\n",
      "Name BRAINSTEM in stack RV14_65hrs not recognized. Ignored.\n",
      "Name BRAINSTEM in stack RV14_65hrs not recognized. Ignored.\n",
      "Name BRAINSTEM in stack RV14_65hrs not recognized. Ignored.\n",
      "Name BRAINSTEM in stack RV14_65hrs not recognized. Ignored.\n",
      "Name BRAINSTEM in stack RV14_65hrs not recognized. Ignored.\n",
      "Name BRAINSTEM in stack RV14_65hrs not recognized. Ignored.\n",
      "Name BRAINSTEM in stack RV14_65hrs not recognized. Ignored.\n",
      "Name BRAINSTEM in stack RV14_65hrs not recognized. Ignored.\n",
      "Name BRAINSTEM in stack RV14_65hrs not recognized. Ignored.\n",
      "Name BRAINSTEM in stack RV14_65hrs not recognized. Ignored.\n",
      "Name BRAINSTEM in stack RV14_65hrs not recognized. Ignored.\n",
      "Name BRAINSTEM in stack RV14_65hrs not recognized. Ignored.\n",
      "Name R SpVIO in stack RV14_65hrs not recognized. Ignored.\n",
      "Name R SpVIO in stack RV14_65hrs not recognized. Ignored.\n",
      "Name R SpVIO in stack RV14_65hrs not recognized. Ignored.\n",
      "Name R SpVIO in stack RV14_65hrs not recognized. Ignored.\n",
      "Name BRAINSTEM in stack RV14_65hrs not recognized. Ignored.\n",
      "Name BRAINSTEM in stack RV14_65hrs not recognized. Ignored.\n",
      "Name BRAINSTEM in stack RV14_65hrs not recognized. Ignored.\n",
      "Name BRAINSTEM in stack RV14_65hrs not recognized. Ignored.\n",
      "Name BRAINSTEM in stack RV14_65hrs not recognized. Ignored.\n",
      "Name BRAINSTEM in stack RV14_65hrs not recognized. Ignored.\n",
      "Name BRAINSTEM in stack RV14_65hrs not recognized. Ignored.\n",
      "Name BRAINSTEM in stack RV14_65hrs not recognized. Ignored.\n",
      "Name BRAINSTEM in stack RV14_65hrs not recognized. Ignored.\n",
      "Name R SpVIO in stack RV14_65hrs not recognized. Ignored.\n",
      "Name R SpVIO in stack RV14_65hrs not recognized. Ignored.\n",
      "Name R SpVIO in stack RV14_65hrs not recognized. Ignored.\n",
      "Name R SpVIO in stack RV14_65hrs not recognized. Ignored.\n",
      "Name BRAINSTEM in stack RV14_65hrs not recognized. Ignored.\n",
      "Name BRAINSTEM in stack RV14_65hrs not recognized. Ignored.\n",
      "Name BRAINSTEM in stack RV14_65hrs not recognized. Ignored.\n",
      "Name BRAINSTEM in stack RV14_65hrs not recognized. Ignored.\n",
      "Name BRAINSTEM in stack RV14_65hrs not recognized. Ignored.\n",
      "Name BRAINSTEM in stack RV14_65hrs not recognized. Ignored.\n",
      "Name BRAINSTEM in stack RV14_65hrs not recognized. Ignored.\n",
      "Name BRAINSTEM in stack RV14_65hrs not recognized. Ignored.\n",
      "Name BRAINSTEM in stack RV14_65hrs not recognized. Ignored.\n",
      "Name BRAINSTEM in stack RV14_65hrs not recognized. Ignored.\n",
      "Name BRAINSTEM in stack RV14_65hrs not recognized. Ignored.\n",
      "Name BRAINSTEM in stack RV14_65hrs not recognized. Ignored.\n",
      "Name BRAINSTEM in stack RV14_65hrs not recognized. Ignored.\n",
      "Name BRAINSTEM in stack RV14_65hrs not recognized. Ignored.\n",
      "Name BRAINSTEM in stack RV14_65hrs not recognized. Ignored.\n",
      "Name BRAINSTEM in stack RV14_65hrs not recognized. Ignored.\n",
      "Name BRAINSTEM in stack RV14_65hrs not recognized. Ignored.\n",
      "Name BRAINSTEM in stack RV14_65hrs not recognized. Ignored.\n",
      "Name SpVIO in stack RV14_65hrs not recognized. Ignored.\n",
      "Name SpVIO in stack RV14_65hrs not recognized. Ignored.\n",
      "Name SpVIO in stack RV14_65hrs not recognized. Ignored.\n",
      "Name SpVIO in stack RV14_65hrs not recognized. Ignored.\n",
      "Name SpVIO in stack RV14_65hrs not recognized. Ignored.\n",
      "Name SpVIO in stack RV14_65hrs not recognized. Ignored.\n"
     ]
    }
   ],
   "source": [
    "contours_f_rel2world, markers_f_rel2world = get_stacy_contours(stack_fixed)"
   ]
  },
  {
   "cell_type": "code",
   "execution_count": 17,
   "metadata": {
    "collapsed": true
   },
   "outputs": [],
   "source": [
    "vol_bbox_dict = {}\n",
    "for name, cnts3d in contours_f_rel2world.iteritems():\n",
    "    vol_bbox_dict[name] = interpolate_contours_to_volume(interpolation_direction='z',\n",
    "                                                    contours_xyz=cnts3d, \n",
    "                                                    len_interval=20)"
   ]
  },
  {
   "cell_type": "code",
   "execution_count": 24,
   "metadata": {},
   "outputs": [
    {
     "data": {
      "text/plain": [
       "(1235, 1335, 511, 665, 17, 180)"
      ]
     },
     "execution_count": 24,
     "metadata": {},
     "output_type": "execute_result"
    }
   ],
   "source": [
    "vol_bbox_dict['7n_L'][1]"
   ]
  },
  {
   "cell_type": "code",
   "execution_count": 23,
   "metadata": {
    "scrolled": true
   },
   "outputs": [
    {
     "data": {
      "image/png": "[encoded data removed]",
      "text/plain": [
       "<matplotlib.figure.Figure at 0x7ff02b192510>"
      ]
     },
     "metadata": {},
     "output_type": "display_data"
    }
   ],
   "source": [
    "display_volume_sections(vol_bbox_dict['7n_L'][0], direction='x')"
   ]
  },
  {
   "cell_type": "code",
   "execution_count": 38,
   "metadata": {},
   "outputs": [
    {
     "name": "stderr",
     "output_type": "stream",
     "text": [
      "marching cube: 0.41 seconds\n",
      "mesh_to_polydata: 0.06 seconds\n",
      "simplify 0 @ 47217: 0.56 seconds\n",
      "simplify 1 @ 9443: 0.49 seconds\n",
      "simplify 2 @ 1888: 0.10 seconds\n",
      "marching cube: 0.34 seconds\n",
      "mesh_to_polydata: 0.05 seconds\n",
      "simplify 0 @ 38311: 0.42 seconds\n",
      "simplify 1 @ 7663: 0.33 seconds\n",
      "simplify 2 @ 1534: 0.08 seconds\n"
     ]
    }
   ],
   "source": [
    "polydata_actor_list = []\n",
    "for name_s in ['7n_R', '7n_L']:\n",
    "    polydata = volume_to_polydata(vol_bbox_dict[name_s][0], num_simplify_iter=3, smooth=True)\n",
    "    xmin, _, ymin, _, zmin, _ = vol_bbox_dict[name_s][1]\n",
    "    polydata_actor = actor_mesh(polydata, origin=(xmin,ymin,zmin), wireframe=True, )\n",
    "    polydata_actor_list.append(polydata_actor)"
   ]
  },
  {
   "cell_type": "code",
   "execution_count": 40,
   "metadata": {
    "collapsed": true
   },
   "outputs": [],
   "source": [
    "launch_vtk(polydata_actor_list + [actor_sphere(position=(0,0,0), radius=10)])"
   ]
  },
  {
   "cell_type": "markdown",
   "metadata": {},
   "source": [
    "# Align two brains that have been reconstructed (omitted)"
   ]
  },
  {
   "cell_type": "markdown",
   "metadata": {},
   "source": [
    "# Visualize multiple co-registered brains."
   ]
  },
  {
   "cell_type": "markdown",
   "metadata": {},
   "source": [
    "Load fixed brain and another brain that has been transformed into alignment."
   ]
  },
  {
   "cell_type": "code",
   "execution_count": 3,
   "metadata": {
    "collapsed": true
   },
   "outputs": [],
   "source": [
    "VOLUME_ROOTDIR = '/media/yuncong/YuncongPublic/CSHL_volumes' # Change this to match your file organization."
   ]
  },
  {
   "cell_type": "code",
   "execution_count": 4,
   "metadata": {},
   "outputs": [],
   "source": [
    "def volume_type_to_str(t):\n",
    "    if t == 'annotationAsScore':\n",
    "        return 'annotationAsScoreVolume'\n",
    "    else:\n",
    "        raise Exception('Volume type %s is not recognized.' % t)\n",
    "        \n",
    "def get_original_volume_basename(stack, structure=None, volume_type='score', **kwargs):\n",
    "\n",
    "    downscale = 32\n",
    "    \n",
    "    components = []\n",
    "    if downscale is not None:\n",
    "        components.append('down%(downscale)d' % {'downscale':downscale})\n",
    "    tmp_str = '_'.join(components)\n",
    "\n",
    "    basename = '%(stack)s_%(tmp_str)s_%(volstr)s' % \\\n",
    "        {'stack':stack, 'tmp_str':tmp_str, 'volstr':volume_type_to_str(volume_type)}\n",
    "    if structure is not None:\n",
    "        basename += '_' + structure\n",
    "    return basename\n",
    "\n",
    "def get_warped_volume_basename(stack_m,\n",
    "                               stack_f=None,\n",
    "                               warp_setting=None,\n",
    "                               structure_m=None,\n",
    "                               structure_f=None,\n",
    "                               vol_type_m='score',\n",
    "                               vol_type_f='score',\n",
    "                               **kwargs):\n",
    "\n",
    "    basename_m = get_original_volume_basename(stack=stack_m, volume_type=vol_type_m, structure=structure_m)\n",
    "\n",
    "    if stack_f is None:\n",
    "        assert warp_setting is None\n",
    "        vol_name = basename_m\n",
    "    else:\n",
    "        basename_f = get_original_volume_basename(stack=stack_f, volume_type=vol_type_f, structure=structure_f)\n",
    "        vol_name = basename_m + '_warp%(warp)d_' % {'warp':warp_setting} + basename_f\n",
    "\n",
    "    return vol_name\n",
    "\n",
    "def load_original_volume(stack, structure, volume_type=None):\n",
    "    basename = get_original_volume_basename(stack=stack, volume_type=volume_type)\n",
    "    vol_fp = os.path.join(VOLUME_ROOTDIR, '%(stack)s',\n",
    "                          '%(basename)s',\n",
    "                          'score_volumes',\n",
    "                         '%(basename)s_%(struct)s.bp') % \\\n",
    "    {'stack':stack, 'basename':basename, 'struct':structure}\n",
    "    \n",
    "    download_from_s3(vol_fp)\n",
    "    volume = bp.unpack_ndarray_file(vol_fp).astype(np.float32)\n",
    "    return volume\n",
    "\n",
    "def load_original_volume_bbox(stack, structure, volume_type=None):\n",
    "    basename = get_original_volume_basename(stack=stack, volume_type=volume_type)\n",
    "    bbox_fp = os.path.join(VOLUME_ROOTDIR, '%(stack)s',\n",
    "                          '%(basename)s',\n",
    "                          'score_volumes',\n",
    "                         '%(basename)s_%(struct)s_bbox.txt') % \\\n",
    "    {'stack':stack, 'basename':basename, 'struct':structure}\n",
    "    \n",
    "    download_from_s3(bbox_fp)\n",
    "\n",
    "    \n",
    "    volume_bbox = np.loadtxt(bbox_fp).astype(np.int)\n",
    "    return volume_bbox    \n",
    "    \n",
    "def load_original_volume_all_known_structures_v2(stack,\n",
    "                                                structures=None,\n",
    "                                                sided=True,\n",
    "                                                include_surround=False,\n",
    "                                                 return_label_mappings=False,\n",
    "                                                 name_or_index_as_key='name',\n",
    "                                                 common_shape=True):\n",
    "    \"\"\"\n",
    "    Load original (un-transformed) volumes for all structures and optionally normalize them into a common shape.\n",
    "\n",
    "    Args:\n",
    "        common_shape (bool): If true, volumes are normalized to the same shape.\n",
    "\n",
    "    Returns:\n",
    "        If `common_shape` is True:\n",
    "            if return_label_mappings is True, returns (volumes, common_bbox, structure_to_label, label_to_structure), volumes is dict.\n",
    "            else, returns (volumes, common_bbox).\n",
    "        If `common_shape` is False:\n",
    "            if return_label_mappings is True, returns (dict of volume_bbox_tuples, structure_to_label, label_to_structure).\n",
    "            else, returns volume_bbox_tuples.\n",
    "    \"\"\"\n",
    "\n",
    "    if structures is None:\n",
    "        if sided:\n",
    "            if include_surround:\n",
    "                structures = all_known_structures_sided_with_surround\n",
    "            else:\n",
    "                structures = all_known_structures_sided\n",
    "        else:\n",
    "            structures = all_known_structures\n",
    "\n",
    "    loaded = False\n",
    "    sys.stderr.write('Prior structure/index map not found. Generating a new one.\\n')\n",
    "\n",
    "    volumes = {}\n",
    "    if not loaded:\n",
    "        structure_to_label = {}\n",
    "        label_to_structure = {}\n",
    "        index = 1\n",
    "    for structure in structures:\n",
    "        try:\n",
    "\n",
    "            if loaded:\n",
    "                index = structure_to_label[structure]\n",
    "\n",
    "            v = load_original_volume(stack=stack, structure=structure, volume_type='annotationAsScore')\n",
    "            b = load_original_volume_bbox(stack=stack, structure=structure, volume_type='annotationAsScore')\n",
    "\n",
    "            if name_or_index_as_key == 'name':\n",
    "                volumes[structure] = (v,b)\n",
    "            else:\n",
    "                volumes[index] = (v,b)\n",
    "\n",
    "            if not loaded:\n",
    "                structure_to_label[structure] = index\n",
    "                label_to_structure[index] = structure\n",
    "                index += 1\n",
    "\n",
    "        except Exception as e:\n",
    "            sys.stderr.write('%s\\n' % e)\n",
    "            sys.stderr.write('Score volume for %s does not exist.\\n' % structure)\n",
    "\n",
    "    if common_shape:\n",
    "        volumes_normalized, common_bbox = convert_vol_bbox_dict_to_overall_vol(vol_bbox_dict=volumes)\n",
    "\n",
    "        if return_label_mappings:\n",
    "            return volumes_normalized, common_bbox, structure_to_label, label_to_structure\n",
    "        else:\n",
    "            return volumes_normalized, common_bbox\n",
    "    else:\n",
    "        if return_label_mappings:\n",
    "            return volumes, structure_to_label, label_to_structure\n",
    "        else:\n",
    "            return volumes\n",
    "        \n",
    "def load_transformed_volume(stack_m, stack_f,\n",
    "                            warp_setting,\n",
    "                            structure_f=None,\n",
    "                            structure_m=None,\n",
    "                            vol_type_m=None,\n",
    "                            vol_type_f=None,\n",
    "                            structure=None):\n",
    "    basename = get_warped_volume_basename(**locals())\n",
    "    if structure is not None:\n",
    "        fn = basename + '_%s' % structure\n",
    "    else:\n",
    "        fn = basename\n",
    "    fp = os.path.join(VOLUME_ROOTDIR, stack_m, basename, 'score_volumes', fn + '.bp')\n",
    "    download_from_s3(fp)\n",
    "    return bp.unpack_ndarray_file(fp)\n",
    "\n",
    "def load_transformed_volume_bbox(stack_m, stack_f,\n",
    "                                    warp_setting,\n",
    "                                    structure_m=None,\n",
    "                                    structure_f=None,\n",
    "                                    vol_type_m='annotationAsScore',\n",
    "                                    vol_type_f='annotationAsScore',\n",
    "                                    structure=None,):\n",
    "    basename = get_warped_volume_basename(**locals())\n",
    "    if structure is not None:\n",
    "        fn = basename + '_%s' % structure\n",
    "    else:\n",
    "        fn = basename\n",
    "    fp = os.path.join(VOLUME_ROOTDIR, stack_m, basename, 'score_volumes', fn + '_bbox.txt')\n",
    "    download_from_s3(fp)\n",
    "    return np.loadtxt(fp)\n",
    "\n",
    "def load_transformed_volume_all_known_structures_v2(stack_m,\n",
    "                                                 stack_f,\n",
    "                                                warp_setting,\n",
    "                                                structures=None,\n",
    "                                                sided=True,\n",
    "                                                include_surround=False,\n",
    "                                                 return_label_mappings=False,\n",
    "                                                 name_or_index_as_key='name',\n",
    "                                                 common_shape=True\n",
    "):\n",
    "    \"\"\"\n",
    "    Load transformed volumes for all structures and normalize them into a common shape.\n",
    "\n",
    "    Args:\n",
    "        common_shape (bool): If true, volumes are normalized to the same shape.\n",
    "\n",
    "    Returns:\n",
    "        If `common_shape` is True:\n",
    "            if return_label_mappings is True, returns (volumes, common_bbox, structure_to_label, label_to_structure), volumes is dict.\n",
    "            else, returns (volumes, common_bbox).\n",
    "        If `common_shape` is False:\n",
    "            if return_label_mappings is True, returns (dict of volume_bbox_tuples, structure_to_label, label_to_structure).\n",
    "            else, returns volume_bbox_tuples.\n",
    "    \"\"\"\n",
    "\n",
    "    if structures is None:\n",
    "        if sided:\n",
    "            if include_surround:\n",
    "                structures = all_known_structures_sided_with_surround\n",
    "            else:\n",
    "                structures = all_known_structures_sided\n",
    "        else:\n",
    "            structures = all_known_structures\n",
    "\n",
    "    loaded = False\n",
    "    sys.stderr.write('Prior structure/index map not found. Generating a new one.\\n')\n",
    "\n",
    "    volumes = {}\n",
    "    if not loaded:\n",
    "        structure_to_label = {}\n",
    "        label_to_structure = {}\n",
    "        index = 1\n",
    "    for structure in structures:\n",
    "        try:\n",
    "\n",
    "            if loaded:\n",
    "                index = structure_to_label[structure]\n",
    "\n",
    "            v = load_transformed_volume(stack_m=stack_m, vol_type_m='annotationAsScore',\n",
    "                                                    stack_f=stack_f, vol_type_f='annotationAsScore',\n",
    "                                                    warp_setting=warp_setting,\n",
    "                                                    structure=structure)\n",
    "            \n",
    "            b = load_transformed_volume_bbox(stack_m=stack_m, vol_type_m='annotationAsScore',\n",
    "                                                    stack_f=stack_f, vol_type_f='annotationAsScore',\n",
    "                                                    warp_setting=warp_setting,\n",
    "                                                    structure=structure)\n",
    "\n",
    "            if name_or_index_as_key == 'name':\n",
    "                volumes[structure] = (v,b)\n",
    "            else:\n",
    "                volumes[index] = (v,b)\n",
    "\n",
    "            if not loaded:\n",
    "                structure_to_label[structure] = index\n",
    "                label_to_structure[index] = structure\n",
    "                index += 1\n",
    "\n",
    "        except Exception as e:\n",
    "            sys.stderr.write('%s\\n' % e)\n",
    "            sys.stderr.write('Score volume for %s does not exist.\\n' % structure)\n",
    "\n",
    "    if common_shape:\n",
    "        volumes_normalized, common_bbox = convert_vol_bbox_dict_to_overall_vol(vol_bbox_dict=volumes)\n",
    "\n",
    "        if return_label_mappings:\n",
    "            return volumes_normalized, common_bbox, structure_to_label, label_to_structure\n",
    "        else:\n",
    "            return volumes_normalized, common_bbox\n",
    "    else:\n",
    "        if return_label_mappings:\n",
    "            return volumes, structure_to_label, label_to_structure\n",
    "        else:\n",
    "            return volumes"
   ]
  },
  {
   "cell_type": "code",
   "execution_count": 6,
   "metadata": {
    "collapsed": true
   },
   "outputs": [],
   "source": [
    "stack_fixed = 'RV4_67hrs'"
   ]
  },
  {
   "cell_type": "code",
   "execution_count": 7,
   "metadata": {
    "scrolled": true
   },
   "outputs": [
    {
     "name": "stderr",
     "output_type": "stream",
     "text": [
      "Prior structure/index map not found. Generating a new one.\n"
     ]
    },
    {
     "name": "stdout",
     "output_type": "stream",
     "text": [
      "rm -rf \"/media/yuncong/YuncongPublic/CSHL_volumes/RV4_67hrs/RV4_67hrs_down32_annotationAsScoreVolume/score_volumes/RV4_67hrs_down32_annotationAsScoreVolume_6N_L.bp\" && mkdir -p \"/media/yuncong/YuncongPublic/CSHL_volumes/RV4_67hrs/RV4_67hrs_down32_annotationAsScoreVolume/score_volumes\"\n",
      "aws s3 cp \"s3://mousebrainatlas-data/CSHL_volumes/RV4_67hrs/RV4_67hrs_down32_annotationAsScoreVolume/score_volumes/RV4_67hrs_down32_annotationAsScoreVolume_6N_L.bp\" \"/media/yuncong/YuncongPublic/CSHL_volumes/RV4_67hrs/RV4_67hrs_down32_annotationAsScoreVolume/score_volumes/RV4_67hrs_down32_annotationAsScoreVolume_6N_L.bp\"\n"
     ]
    },
    {
     "name": "stderr",
     "output_type": "stream",
     "text": [
      "[Errno 2] No such file or directory: '/media/yuncong/YuncongPublic/CSHL_volumes/RV4_67hrs/RV4_67hrs_down32_annotationAsScoreVolume/score_volumes/RV4_67hrs_down32_annotationAsScoreVolume_6N_L.bp'\n",
      "Score volume for 6N_L does not exist.\n"
     ]
    },
    {
     "name": "stdout",
     "output_type": "stream",
     "text": [
      "rm -rf \"/media/yuncong/YuncongPublic/CSHL_volumes/RV4_67hrs/RV4_67hrs_down32_annotationAsScoreVolume/score_volumes/RV4_67hrs_down32_annotationAsScoreVolume_6N_R.bp\" && mkdir -p \"/media/yuncong/YuncongPublic/CSHL_volumes/RV4_67hrs/RV4_67hrs_down32_annotationAsScoreVolume/score_volumes\"\n",
      "aws s3 cp \"s3://mousebrainatlas-data/CSHL_volumes/RV4_67hrs/RV4_67hrs_down32_annotationAsScoreVolume/score_volumes/RV4_67hrs_down32_annotationAsScoreVolume_6N_R.bp\" \"/media/yuncong/YuncongPublic/CSHL_volumes/RV4_67hrs/RV4_67hrs_down32_annotationAsScoreVolume/score_volumes/RV4_67hrs_down32_annotationAsScoreVolume_6N_R.bp\"\n"
     ]
    },
    {
     "name": "stderr",
     "output_type": "stream",
     "text": [
      "[Errno 2] No such file or directory: '/media/yuncong/YuncongPublic/CSHL_volumes/RV4_67hrs/RV4_67hrs_down32_annotationAsScoreVolume/score_volumes/RV4_67hrs_down32_annotationAsScoreVolume_6N_R.bp'\n",
      "Score volume for 6N_R does not exist.\n"
     ]
    },
    {
     "name": "stdout",
     "output_type": "stream",
     "text": [
      "rm -rf \"/media/yuncong/YuncongPublic/CSHL_volumes/RV4_67hrs/RV4_67hrs_down32_annotationAsScoreVolume/score_volumes/RV4_67hrs_down32_annotationAsScoreVolume_Amb_L.bp\" && mkdir -p \"/media/yuncong/YuncongPublic/CSHL_volumes/RV4_67hrs/RV4_67hrs_down32_annotationAsScoreVolume/score_volumes\"\n",
      "aws s3 cp \"s3://mousebrainatlas-data/CSHL_volumes/RV4_67hrs/RV4_67hrs_down32_annotationAsScoreVolume/score_volumes/RV4_67hrs_down32_annotationAsScoreVolume_Amb_L.bp\" \"/media/yuncong/YuncongPublic/CSHL_volumes/RV4_67hrs/RV4_67hrs_down32_annotationAsScoreVolume/score_volumes/RV4_67hrs_down32_annotationAsScoreVolume_Amb_L.bp\"\n"
     ]
    },
    {
     "name": "stderr",
     "output_type": "stream",
     "text": [
      "[Errno 2] No such file or directory: '/media/yuncong/YuncongPublic/CSHL_volumes/RV4_67hrs/RV4_67hrs_down32_annotationAsScoreVolume/score_volumes/RV4_67hrs_down32_annotationAsScoreVolume_Amb_L.bp'\n",
      "Score volume for Amb_L does not exist.\n"
     ]
    },
    {
     "name": "stdout",
     "output_type": "stream",
     "text": [
      "rm -rf \"/media/yuncong/YuncongPublic/CSHL_volumes/RV4_67hrs/RV4_67hrs_down32_annotationAsScoreVolume/score_volumes/RV4_67hrs_down32_annotationAsScoreVolume_Amb_R.bp\" && mkdir -p \"/media/yuncong/YuncongPublic/CSHL_volumes/RV4_67hrs/RV4_67hrs_down32_annotationAsScoreVolume/score_volumes\"\n",
      "aws s3 cp \"s3://mousebrainatlas-data/CSHL_volumes/RV4_67hrs/RV4_67hrs_down32_annotationAsScoreVolume/score_volumes/RV4_67hrs_down32_annotationAsScoreVolume_Amb_R.bp\" \"/media/yuncong/YuncongPublic/CSHL_volumes/RV4_67hrs/RV4_67hrs_down32_annotationAsScoreVolume/score_volumes/RV4_67hrs_down32_annotationAsScoreVolume_Amb_R.bp\"\n"
     ]
    },
    {
     "name": "stderr",
     "output_type": "stream",
     "text": [
      "[Errno 2] No such file or directory: '/media/yuncong/YuncongPublic/CSHL_volumes/RV4_67hrs/RV4_67hrs_down32_annotationAsScoreVolume/score_volumes/RV4_67hrs_down32_annotationAsScoreVolume_Amb_R.bp'\n",
      "Score volume for Amb_R does not exist.\n"
     ]
    },
    {
     "name": "stdout",
     "output_type": "stream",
     "text": [
      "rm -rf \"/media/yuncong/YuncongPublic/CSHL_volumes/RV4_67hrs/RV4_67hrs_down32_annotationAsScoreVolume/score_volumes/RV4_67hrs_down32_annotationAsScoreVolume_LC_L.bp\" && mkdir -p \"/media/yuncong/YuncongPublic/CSHL_volumes/RV4_67hrs/RV4_67hrs_down32_annotationAsScoreVolume/score_volumes\"\n",
      "aws s3 cp \"s3://mousebrainatlas-data/CSHL_volumes/RV4_67hrs/RV4_67hrs_down32_annotationAsScoreVolume/score_volumes/RV4_67hrs_down32_annotationAsScoreVolume_LC_L.bp\" \"/media/yuncong/YuncongPublic/CSHL_volumes/RV4_67hrs/RV4_67hrs_down32_annotationAsScoreVolume/score_volumes/RV4_67hrs_down32_annotationAsScoreVolume_LC_L.bp\"\n"
     ]
    },
    {
     "name": "stderr",
     "output_type": "stream",
     "text": [
      "[Errno 2] No such file or directory: '/media/yuncong/YuncongPublic/CSHL_volumes/RV4_67hrs/RV4_67hrs_down32_annotationAsScoreVolume/score_volumes/RV4_67hrs_down32_annotationAsScoreVolume_LC_L.bp'\n",
      "Score volume for LC_L does not exist.\n"
     ]
    },
    {
     "name": "stdout",
     "output_type": "stream",
     "text": [
      "rm -rf \"/media/yuncong/YuncongPublic/CSHL_volumes/RV4_67hrs/RV4_67hrs_down32_annotationAsScoreVolume/score_volumes/RV4_67hrs_down32_annotationAsScoreVolume_LC_R.bp\" && mkdir -p \"/media/yuncong/YuncongPublic/CSHL_volumes/RV4_67hrs/RV4_67hrs_down32_annotationAsScoreVolume/score_volumes\"\n",
      "aws s3 cp \"s3://mousebrainatlas-data/CSHL_volumes/RV4_67hrs/RV4_67hrs_down32_annotationAsScoreVolume/score_volumes/RV4_67hrs_down32_annotationAsScoreVolume_LC_R.bp\" \"/media/yuncong/YuncongPublic/CSHL_volumes/RV4_67hrs/RV4_67hrs_down32_annotationAsScoreVolume/score_volumes/RV4_67hrs_down32_annotationAsScoreVolume_LC_R.bp\"\n"
     ]
    },
    {
     "name": "stderr",
     "output_type": "stream",
     "text": [
      "[Errno 2] No such file or directory: '/media/yuncong/YuncongPublic/CSHL_volumes/RV4_67hrs/RV4_67hrs_down32_annotationAsScoreVolume/score_volumes/RV4_67hrs_down32_annotationAsScoreVolume_LC_R.bp'\n",
      "Score volume for LC_R does not exist.\n"
     ]
    },
    {
     "name": "stdout",
     "output_type": "stream",
     "text": [
      "rm -rf \"/media/yuncong/YuncongPublic/CSHL_volumes/RV4_67hrs/RV4_67hrs_down32_annotationAsScoreVolume/score_volumes/RV4_67hrs_down32_annotationAsScoreVolume_Pn_L.bp\" && mkdir -p \"/media/yuncong/YuncongPublic/CSHL_volumes/RV4_67hrs/RV4_67hrs_down32_annotationAsScoreVolume/score_volumes\"\n",
      "aws s3 cp \"s3://mousebrainatlas-data/CSHL_volumes/RV4_67hrs/RV4_67hrs_down32_annotationAsScoreVolume/score_volumes/RV4_67hrs_down32_annotationAsScoreVolume_Pn_L.bp\" \"/media/yuncong/YuncongPublic/CSHL_volumes/RV4_67hrs/RV4_67hrs_down32_annotationAsScoreVolume/score_volumes/RV4_67hrs_down32_annotationAsScoreVolume_Pn_L.bp\"\n"
     ]
    },
    {
     "name": "stderr",
     "output_type": "stream",
     "text": [
      "[Errno 2] No such file or directory: '/media/yuncong/YuncongPublic/CSHL_volumes/RV4_67hrs/RV4_67hrs_down32_annotationAsScoreVolume/score_volumes/RV4_67hrs_down32_annotationAsScoreVolume_Pn_L.bp'\n",
      "Score volume for Pn_L does not exist.\n"
     ]
    },
    {
     "name": "stdout",
     "output_type": "stream",
     "text": [
      "rm -rf \"/media/yuncong/YuncongPublic/CSHL_volumes/RV4_67hrs/RV4_67hrs_down32_annotationAsScoreVolume/score_volumes/RV4_67hrs_down32_annotationAsScoreVolume_Pn_R.bp\" && mkdir -p \"/media/yuncong/YuncongPublic/CSHL_volumes/RV4_67hrs/RV4_67hrs_down32_annotationAsScoreVolume/score_volumes\"\n",
      "aws s3 cp \"s3://mousebrainatlas-data/CSHL_volumes/RV4_67hrs/RV4_67hrs_down32_annotationAsScoreVolume/score_volumes/RV4_67hrs_down32_annotationAsScoreVolume_Pn_R.bp\" \"/media/yuncong/YuncongPublic/CSHL_volumes/RV4_67hrs/RV4_67hrs_down32_annotationAsScoreVolume/score_volumes/RV4_67hrs_down32_annotationAsScoreVolume_Pn_R.bp\"\n"
     ]
    },
    {
     "name": "stderr",
     "output_type": "stream",
     "text": [
      "[Errno 2] No such file or directory: '/media/yuncong/YuncongPublic/CSHL_volumes/RV4_67hrs/RV4_67hrs_down32_annotationAsScoreVolume/score_volumes/RV4_67hrs_down32_annotationAsScoreVolume_Pn_R.bp'\n",
      "Score volume for Pn_R does not exist.\n"
     ]
    },
    {
     "name": "stdout",
     "output_type": "stream",
     "text": [
      "rm -rf \"/media/yuncong/YuncongPublic/CSHL_volumes/RV4_67hrs/RV4_67hrs_down32_annotationAsScoreVolume/score_volumes/RV4_67hrs_down32_annotationAsScoreVolume_Tz_L.bp\" && mkdir -p \"/media/yuncong/YuncongPublic/CSHL_volumes/RV4_67hrs/RV4_67hrs_down32_annotationAsScoreVolume/score_volumes\"\n",
      "aws s3 cp \"s3://mousebrainatlas-data/CSHL_volumes/RV4_67hrs/RV4_67hrs_down32_annotationAsScoreVolume/score_volumes/RV4_67hrs_down32_annotationAsScoreVolume_Tz_L.bp\" \"/media/yuncong/YuncongPublic/CSHL_volumes/RV4_67hrs/RV4_67hrs_down32_annotationAsScoreVolume/score_volumes/RV4_67hrs_down32_annotationAsScoreVolume_Tz_L.bp\"\n"
     ]
    },
    {
     "name": "stderr",
     "output_type": "stream",
     "text": [
      "[Errno 2] No such file or directory: '/media/yuncong/YuncongPublic/CSHL_volumes/RV4_67hrs/RV4_67hrs_down32_annotationAsScoreVolume/score_volumes/RV4_67hrs_down32_annotationAsScoreVolume_Tz_L.bp'\n",
      "Score volume for Tz_L does not exist.\n"
     ]
    },
    {
     "name": "stdout",
     "output_type": "stream",
     "text": [
      "rm -rf \"/media/yuncong/YuncongPublic/CSHL_volumes/RV4_67hrs/RV4_67hrs_down32_annotationAsScoreVolume/score_volumes/RV4_67hrs_down32_annotationAsScoreVolume_Tz_R.bp\" && mkdir -p \"/media/yuncong/YuncongPublic/CSHL_volumes/RV4_67hrs/RV4_67hrs_down32_annotationAsScoreVolume/score_volumes\"\n",
      "aws s3 cp \"s3://mousebrainatlas-data/CSHL_volumes/RV4_67hrs/RV4_67hrs_down32_annotationAsScoreVolume/score_volumes/RV4_67hrs_down32_annotationAsScoreVolume_Tz_R.bp\" \"/media/yuncong/YuncongPublic/CSHL_volumes/RV4_67hrs/RV4_67hrs_down32_annotationAsScoreVolume/score_volumes/RV4_67hrs_down32_annotationAsScoreVolume_Tz_R.bp\"\n"
     ]
    },
    {
     "name": "stderr",
     "output_type": "stream",
     "text": [
      "[Errno 2] No such file or directory: '/media/yuncong/YuncongPublic/CSHL_volumes/RV4_67hrs/RV4_67hrs_down32_annotationAsScoreVolume/score_volumes/RV4_67hrs_down32_annotationAsScoreVolume_Tz_R.bp'\n",
      "Score volume for Tz_R does not exist.\n"
     ]
    },
    {
     "name": "stdout",
     "output_type": "stream",
     "text": [
      "rm -rf \"/media/yuncong/YuncongPublic/CSHL_volumes/RV4_67hrs/RV4_67hrs_down32_annotationAsScoreVolume/score_volumes/RV4_67hrs_down32_annotationAsScoreVolume_VLL_L.bp\" && mkdir -p \"/media/yuncong/YuncongPublic/CSHL_volumes/RV4_67hrs/RV4_67hrs_down32_annotationAsScoreVolume/score_volumes\"\n",
      "aws s3 cp \"s3://mousebrainatlas-data/CSHL_volumes/RV4_67hrs/RV4_67hrs_down32_annotationAsScoreVolume/score_volumes/RV4_67hrs_down32_annotationAsScoreVolume_VLL_L.bp\" \"/media/yuncong/YuncongPublic/CSHL_volumes/RV4_67hrs/RV4_67hrs_down32_annotationAsScoreVolume/score_volumes/RV4_67hrs_down32_annotationAsScoreVolume_VLL_L.bp\"\n"
     ]
    },
    {
     "name": "stderr",
     "output_type": "stream",
     "text": [
      "[Errno 2] No such file or directory: '/media/yuncong/YuncongPublic/CSHL_volumes/RV4_67hrs/RV4_67hrs_down32_annotationAsScoreVolume/score_volumes/RV4_67hrs_down32_annotationAsScoreVolume_VLL_L.bp'\n",
      "Score volume for VLL_L does not exist.\n"
     ]
    },
    {
     "name": "stdout",
     "output_type": "stream",
     "text": [
      "rm -rf \"/media/yuncong/YuncongPublic/CSHL_volumes/RV4_67hrs/RV4_67hrs_down32_annotationAsScoreVolume/score_volumes/RV4_67hrs_down32_annotationAsScoreVolume_VLL_R.bp\" && mkdir -p \"/media/yuncong/YuncongPublic/CSHL_volumes/RV4_67hrs/RV4_67hrs_down32_annotationAsScoreVolume/score_volumes\"\n",
      "aws s3 cp \"s3://mousebrainatlas-data/CSHL_volumes/RV4_67hrs/RV4_67hrs_down32_annotationAsScoreVolume/score_volumes/RV4_67hrs_down32_annotationAsScoreVolume_VLL_R.bp\" \"/media/yuncong/YuncongPublic/CSHL_volumes/RV4_67hrs/RV4_67hrs_down32_annotationAsScoreVolume/score_volumes/RV4_67hrs_down32_annotationAsScoreVolume_VLL_R.bp\"\n"
     ]
    },
    {
     "name": "stderr",
     "output_type": "stream",
     "text": [
      "[Errno 2] No such file or directory: '/media/yuncong/YuncongPublic/CSHL_volumes/RV4_67hrs/RV4_67hrs_down32_annotationAsScoreVolume/score_volumes/RV4_67hrs_down32_annotationAsScoreVolume_VLL_R.bp'\n",
      "Score volume for VLL_R does not exist.\n"
     ]
    },
    {
     "name": "stdout",
     "output_type": "stream",
     "text": [
      "rm -rf \"/media/yuncong/YuncongPublic/CSHL_volumes/RV4_67hrs/RV4_67hrs_down32_annotationAsScoreVolume/score_volumes/RV4_67hrs_down32_annotationAsScoreVolume_RMC_L.bp\" && mkdir -p \"/media/yuncong/YuncongPublic/CSHL_volumes/RV4_67hrs/RV4_67hrs_down32_annotationAsScoreVolume/score_volumes\"\n",
      "aws s3 cp \"s3://mousebrainatlas-data/CSHL_volumes/RV4_67hrs/RV4_67hrs_down32_annotationAsScoreVolume/score_volumes/RV4_67hrs_down32_annotationAsScoreVolume_RMC_L.bp\" \"/media/yuncong/YuncongPublic/CSHL_volumes/RV4_67hrs/RV4_67hrs_down32_annotationAsScoreVolume/score_volumes/RV4_67hrs_down32_annotationAsScoreVolume_RMC_L.bp\"\n"
     ]
    },
    {
     "name": "stderr",
     "output_type": "stream",
     "text": [
      "[Errno 2] No such file or directory: '/media/yuncong/YuncongPublic/CSHL_volumes/RV4_67hrs/RV4_67hrs_down32_annotationAsScoreVolume/score_volumes/RV4_67hrs_down32_annotationAsScoreVolume_RMC_L.bp'\n",
      "Score volume for RMC_L does not exist.\n"
     ]
    },
    {
     "name": "stdout",
     "output_type": "stream",
     "text": [
      "rm -rf \"/media/yuncong/YuncongPublic/CSHL_volumes/RV4_67hrs/RV4_67hrs_down32_annotationAsScoreVolume/score_volumes/RV4_67hrs_down32_annotationAsScoreVolume_RMC_R.bp\" && mkdir -p \"/media/yuncong/YuncongPublic/CSHL_volumes/RV4_67hrs/RV4_67hrs_down32_annotationAsScoreVolume/score_volumes\"\n",
      "aws s3 cp \"s3://mousebrainatlas-data/CSHL_volumes/RV4_67hrs/RV4_67hrs_down32_annotationAsScoreVolume/score_volumes/RV4_67hrs_down32_annotationAsScoreVolume_RMC_R.bp\" \"/media/yuncong/YuncongPublic/CSHL_volumes/RV4_67hrs/RV4_67hrs_down32_annotationAsScoreVolume/score_volumes/RV4_67hrs_down32_annotationAsScoreVolume_RMC_R.bp\"\n"
     ]
    },
    {
     "name": "stderr",
     "output_type": "stream",
     "text": [
      "[Errno 2] No such file or directory: '/media/yuncong/YuncongPublic/CSHL_volumes/RV4_67hrs/RV4_67hrs_down32_annotationAsScoreVolume/score_volumes/RV4_67hrs_down32_annotationAsScoreVolume_RMC_R.bp'\n",
      "Score volume for RMC_R does not exist.\n"
     ]
    },
    {
     "name": "stdout",
     "output_type": "stream",
     "text": [
      "rm -rf \"/media/yuncong/YuncongPublic/CSHL_volumes/RV4_67hrs/RV4_67hrs_down32_annotationAsScoreVolume/score_volumes/RV4_67hrs_down32_annotationAsScoreVolume_SNC_L.bp\" && mkdir -p \"/media/yuncong/YuncongPublic/CSHL_volumes/RV4_67hrs/RV4_67hrs_down32_annotationAsScoreVolume/score_volumes\"\n",
      "aws s3 cp \"s3://mousebrainatlas-data/CSHL_volumes/RV4_67hrs/RV4_67hrs_down32_annotationAsScoreVolume/score_volumes/RV4_67hrs_down32_annotationAsScoreVolume_SNC_L.bp\" \"/media/yuncong/YuncongPublic/CSHL_volumes/RV4_67hrs/RV4_67hrs_down32_annotationAsScoreVolume/score_volumes/RV4_67hrs_down32_annotationAsScoreVolume_SNC_L.bp\"\n"
     ]
    },
    {
     "name": "stderr",
     "output_type": "stream",
     "text": [
      "[Errno 2] No such file or directory: '/media/yuncong/YuncongPublic/CSHL_volumes/RV4_67hrs/RV4_67hrs_down32_annotationAsScoreVolume/score_volumes/RV4_67hrs_down32_annotationAsScoreVolume_SNC_L.bp'\n",
      "Score volume for SNC_L does not exist.\n"
     ]
    },
    {
     "name": "stdout",
     "output_type": "stream",
     "text": [
      "rm -rf \"/media/yuncong/YuncongPublic/CSHL_volumes/RV4_67hrs/RV4_67hrs_down32_annotationAsScoreVolume/score_volumes/RV4_67hrs_down32_annotationAsScoreVolume_SNC_R.bp\" && mkdir -p \"/media/yuncong/YuncongPublic/CSHL_volumes/RV4_67hrs/RV4_67hrs_down32_annotationAsScoreVolume/score_volumes\"\n",
      "aws s3 cp \"s3://mousebrainatlas-data/CSHL_volumes/RV4_67hrs/RV4_67hrs_down32_annotationAsScoreVolume/score_volumes/RV4_67hrs_down32_annotationAsScoreVolume_SNC_R.bp\" \"/media/yuncong/YuncongPublic/CSHL_volumes/RV4_67hrs/RV4_67hrs_down32_annotationAsScoreVolume/score_volumes/RV4_67hrs_down32_annotationAsScoreVolume_SNC_R.bp\"\n"
     ]
    },
    {
     "name": "stderr",
     "output_type": "stream",
     "text": [
      "[Errno 2] No such file or directory: '/media/yuncong/YuncongPublic/CSHL_volumes/RV4_67hrs/RV4_67hrs_down32_annotationAsScoreVolume/score_volumes/RV4_67hrs_down32_annotationAsScoreVolume_SNC_R.bp'\n",
      "Score volume for SNC_R does not exist.\n"
     ]
    },
    {
     "name": "stdout",
     "output_type": "stream",
     "text": [
      "rm -rf \"/media/yuncong/YuncongPublic/CSHL_volumes/RV4_67hrs/RV4_67hrs_down32_annotationAsScoreVolume/score_volumes/RV4_67hrs_down32_annotationAsScoreVolume_SNR_L.bp\" && mkdir -p \"/media/yuncong/YuncongPublic/CSHL_volumes/RV4_67hrs/RV4_67hrs_down32_annotationAsScoreVolume/score_volumes\"\n",
      "aws s3 cp \"s3://mousebrainatlas-data/CSHL_volumes/RV4_67hrs/RV4_67hrs_down32_annotationAsScoreVolume/score_volumes/RV4_67hrs_down32_annotationAsScoreVolume_SNR_L.bp\" \"/media/yuncong/YuncongPublic/CSHL_volumes/RV4_67hrs/RV4_67hrs_down32_annotationAsScoreVolume/score_volumes/RV4_67hrs_down32_annotationAsScoreVolume_SNR_L.bp\"\n"
     ]
    },
    {
     "name": "stderr",
     "output_type": "stream",
     "text": [
      "[Errno 2] No such file or directory: '/media/yuncong/YuncongPublic/CSHL_volumes/RV4_67hrs/RV4_67hrs_down32_annotationAsScoreVolume/score_volumes/RV4_67hrs_down32_annotationAsScoreVolume_SNR_L.bp'\n",
      "Score volume for SNR_L does not exist.\n"
     ]
    },
    {
     "name": "stdout",
     "output_type": "stream",
     "text": [
      "rm -rf \"/media/yuncong/YuncongPublic/CSHL_volumes/RV4_67hrs/RV4_67hrs_down32_annotationAsScoreVolume/score_volumes/RV4_67hrs_down32_annotationAsScoreVolume_SNR_R.bp\" && mkdir -p \"/media/yuncong/YuncongPublic/CSHL_volumes/RV4_67hrs/RV4_67hrs_down32_annotationAsScoreVolume/score_volumes\"\n",
      "aws s3 cp \"s3://mousebrainatlas-data/CSHL_volumes/RV4_67hrs/RV4_67hrs_down32_annotationAsScoreVolume/score_volumes/RV4_67hrs_down32_annotationAsScoreVolume_SNR_R.bp\" \"/media/yuncong/YuncongPublic/CSHL_volumes/RV4_67hrs/RV4_67hrs_down32_annotationAsScoreVolume/score_volumes/RV4_67hrs_down32_annotationAsScoreVolume_SNR_R.bp\"\n"
     ]
    },
    {
     "name": "stderr",
     "output_type": "stream",
     "text": [
      "[Errno 2] No such file or directory: '/media/yuncong/YuncongPublic/CSHL_volumes/RV4_67hrs/RV4_67hrs_down32_annotationAsScoreVolume/score_volumes/RV4_67hrs_down32_annotationAsScoreVolume_SNR_R.bp'\n",
      "Score volume for SNR_R does not exist.\n"
     ]
    },
    {
     "name": "stdout",
     "output_type": "stream",
     "text": [
      "rm -rf \"/media/yuncong/YuncongPublic/CSHL_volumes/RV4_67hrs/RV4_67hrs_down32_annotationAsScoreVolume/score_volumes/RV4_67hrs_down32_annotationAsScoreVolume_3N_L.bp\" && mkdir -p \"/media/yuncong/YuncongPublic/CSHL_volumes/RV4_67hrs/RV4_67hrs_down32_annotationAsScoreVolume/score_volumes\"\n",
      "aws s3 cp \"s3://mousebrainatlas-data/CSHL_volumes/RV4_67hrs/RV4_67hrs_down32_annotationAsScoreVolume/score_volumes/RV4_67hrs_down32_annotationAsScoreVolume_3N_L.bp\" \"/media/yuncong/YuncongPublic/CSHL_volumes/RV4_67hrs/RV4_67hrs_down32_annotationAsScoreVolume/score_volumes/RV4_67hrs_down32_annotationAsScoreVolume_3N_L.bp\"\n"
     ]
    },
    {
     "name": "stderr",
     "output_type": "stream",
     "text": [
      "[Errno 2] No such file or directory: '/media/yuncong/YuncongPublic/CSHL_volumes/RV4_67hrs/RV4_67hrs_down32_annotationAsScoreVolume/score_volumes/RV4_67hrs_down32_annotationAsScoreVolume_3N_L.bp'\n",
      "Score volume for 3N_L does not exist.\n"
     ]
    },
    {
     "name": "stdout",
     "output_type": "stream",
     "text": [
      "rm -rf \"/media/yuncong/YuncongPublic/CSHL_volumes/RV4_67hrs/RV4_67hrs_down32_annotationAsScoreVolume/score_volumes/RV4_67hrs_down32_annotationAsScoreVolume_3N_R.bp\" && mkdir -p \"/media/yuncong/YuncongPublic/CSHL_volumes/RV4_67hrs/RV4_67hrs_down32_annotationAsScoreVolume/score_volumes\"\n",
      "aws s3 cp \"s3://mousebrainatlas-data/CSHL_volumes/RV4_67hrs/RV4_67hrs_down32_annotationAsScoreVolume/score_volumes/RV4_67hrs_down32_annotationAsScoreVolume_3N_R.bp\" \"/media/yuncong/YuncongPublic/CSHL_volumes/RV4_67hrs/RV4_67hrs_down32_annotationAsScoreVolume/score_volumes/RV4_67hrs_down32_annotationAsScoreVolume_3N_R.bp\"\n"
     ]
    },
    {
     "name": "stderr",
     "output_type": "stream",
     "text": [
      "[Errno 2] No such file or directory: '/media/yuncong/YuncongPublic/CSHL_volumes/RV4_67hrs/RV4_67hrs_down32_annotationAsScoreVolume/score_volumes/RV4_67hrs_down32_annotationAsScoreVolume_3N_R.bp'\n",
      "Score volume for 3N_R does not exist.\n"
     ]
    },
    {
     "name": "stdout",
     "output_type": "stream",
     "text": [
      "rm -rf \"/media/yuncong/YuncongPublic/CSHL_volumes/RV4_67hrs/RV4_67hrs_down32_annotationAsScoreVolume/score_volumes/RV4_67hrs_down32_annotationAsScoreVolume_4N_L.bp\" && mkdir -p \"/media/yuncong/YuncongPublic/CSHL_volumes/RV4_67hrs/RV4_67hrs_down32_annotationAsScoreVolume/score_volumes\"\n",
      "aws s3 cp \"s3://mousebrainatlas-data/CSHL_volumes/RV4_67hrs/RV4_67hrs_down32_annotationAsScoreVolume/score_volumes/RV4_67hrs_down32_annotationAsScoreVolume_4N_L.bp\" \"/media/yuncong/YuncongPublic/CSHL_volumes/RV4_67hrs/RV4_67hrs_down32_annotationAsScoreVolume/score_volumes/RV4_67hrs_down32_annotationAsScoreVolume_4N_L.bp\"\n"
     ]
    },
    {
     "name": "stderr",
     "output_type": "stream",
     "text": [
      "[Errno 2] No such file or directory: '/media/yuncong/YuncongPublic/CSHL_volumes/RV4_67hrs/RV4_67hrs_down32_annotationAsScoreVolume/score_volumes/RV4_67hrs_down32_annotationAsScoreVolume_4N_L.bp'\n",
      "Score volume for 4N_L does not exist.\n"
     ]
    },
    {
     "name": "stdout",
     "output_type": "stream",
     "text": [
      "rm -rf \"/media/yuncong/YuncongPublic/CSHL_volumes/RV4_67hrs/RV4_67hrs_down32_annotationAsScoreVolume/score_volumes/RV4_67hrs_down32_annotationAsScoreVolume_4N_R.bp\" && mkdir -p \"/media/yuncong/YuncongPublic/CSHL_volumes/RV4_67hrs/RV4_67hrs_down32_annotationAsScoreVolume/score_volumes\"\n",
      "aws s3 cp \"s3://mousebrainatlas-data/CSHL_volumes/RV4_67hrs/RV4_67hrs_down32_annotationAsScoreVolume/score_volumes/RV4_67hrs_down32_annotationAsScoreVolume_4N_R.bp\" \"/media/yuncong/YuncongPublic/CSHL_volumes/RV4_67hrs/RV4_67hrs_down32_annotationAsScoreVolume/score_volumes/RV4_67hrs_down32_annotationAsScoreVolume_4N_R.bp\"\n"
     ]
    },
    {
     "name": "stderr",
     "output_type": "stream",
     "text": [
      "[Errno 2] No such file or directory: '/media/yuncong/YuncongPublic/CSHL_volumes/RV4_67hrs/RV4_67hrs_down32_annotationAsScoreVolume/score_volumes/RV4_67hrs_down32_annotationAsScoreVolume_4N_R.bp'\n",
      "Score volume for 4N_R does not exist.\n"
     ]
    },
    {
     "name": "stdout",
     "output_type": "stream",
     "text": [
      "rm -rf \"/media/yuncong/YuncongPublic/CSHL_volumes/RV4_67hrs/RV4_67hrs_down32_annotationAsScoreVolume/score_volumes/RV4_67hrs_down32_annotationAsScoreVolume_PBG_L.bp\" && mkdir -p \"/media/yuncong/YuncongPublic/CSHL_volumes/RV4_67hrs/RV4_67hrs_down32_annotationAsScoreVolume/score_volumes\"\n",
      "aws s3 cp \"s3://mousebrainatlas-data/CSHL_volumes/RV4_67hrs/RV4_67hrs_down32_annotationAsScoreVolume/score_volumes/RV4_67hrs_down32_annotationAsScoreVolume_PBG_L.bp\" \"/media/yuncong/YuncongPublic/CSHL_volumes/RV4_67hrs/RV4_67hrs_down32_annotationAsScoreVolume/score_volumes/RV4_67hrs_down32_annotationAsScoreVolume_PBG_L.bp\"\n"
     ]
    },
    {
     "name": "stderr",
     "output_type": "stream",
     "text": [
      "[Errno 2] No such file or directory: '/media/yuncong/YuncongPublic/CSHL_volumes/RV4_67hrs/RV4_67hrs_down32_annotationAsScoreVolume/score_volumes/RV4_67hrs_down32_annotationAsScoreVolume_PBG_L.bp'\n",
      "Score volume for PBG_L does not exist.\n"
     ]
    },
    {
     "name": "stdout",
     "output_type": "stream",
     "text": [
      "rm -rf \"/media/yuncong/YuncongPublic/CSHL_volumes/RV4_67hrs/RV4_67hrs_down32_annotationAsScoreVolume/score_volumes/RV4_67hrs_down32_annotationAsScoreVolume_PBG_R.bp\" && mkdir -p \"/media/yuncong/YuncongPublic/CSHL_volumes/RV4_67hrs/RV4_67hrs_down32_annotationAsScoreVolume/score_volumes\"\n",
      "aws s3 cp \"s3://mousebrainatlas-data/CSHL_volumes/RV4_67hrs/RV4_67hrs_down32_annotationAsScoreVolume/score_volumes/RV4_67hrs_down32_annotationAsScoreVolume_PBG_R.bp\" \"/media/yuncong/YuncongPublic/CSHL_volumes/RV4_67hrs/RV4_67hrs_down32_annotationAsScoreVolume/score_volumes/RV4_67hrs_down32_annotationAsScoreVolume_PBG_R.bp\"\n"
     ]
    },
    {
     "name": "stderr",
     "output_type": "stream",
     "text": [
      "[Errno 2] No such file or directory: '/media/yuncong/YuncongPublic/CSHL_volumes/RV4_67hrs/RV4_67hrs_down32_annotationAsScoreVolume/score_volumes/RV4_67hrs_down32_annotationAsScoreVolume_PBG_R.bp'\n",
      "Score volume for PBG_R does not exist.\n"
     ]
    },
    {
     "name": "stdout",
     "output_type": "stream",
     "text": [
      "rm -rf \"/media/yuncong/YuncongPublic/CSHL_volumes/RV4_67hrs/RV4_67hrs_down32_annotationAsScoreVolume/score_volumes/RV4_67hrs_down32_annotationAsScoreVolume_10N_L.bp\" && mkdir -p \"/media/yuncong/YuncongPublic/CSHL_volumes/RV4_67hrs/RV4_67hrs_down32_annotationAsScoreVolume/score_volumes\"\n",
      "aws s3 cp \"s3://mousebrainatlas-data/CSHL_volumes/RV4_67hrs/RV4_67hrs_down32_annotationAsScoreVolume/score_volumes/RV4_67hrs_down32_annotationAsScoreVolume_10N_L.bp\" \"/media/yuncong/YuncongPublic/CSHL_volumes/RV4_67hrs/RV4_67hrs_down32_annotationAsScoreVolume/score_volumes/RV4_67hrs_down32_annotationAsScoreVolume_10N_L.bp\"\n"
     ]
    },
    {
     "name": "stderr",
     "output_type": "stream",
     "text": [
      "[Errno 2] No such file or directory: '/media/yuncong/YuncongPublic/CSHL_volumes/RV4_67hrs/RV4_67hrs_down32_annotationAsScoreVolume/score_volumes/RV4_67hrs_down32_annotationAsScoreVolume_10N_L.bp'\n",
      "Score volume for 10N_L does not exist.\n"
     ]
    },
    {
     "name": "stdout",
     "output_type": "stream",
     "text": [
      "rm -rf \"/media/yuncong/YuncongPublic/CSHL_volumes/RV4_67hrs/RV4_67hrs_down32_annotationAsScoreVolume/score_volumes/RV4_67hrs_down32_annotationAsScoreVolume_10N_R.bp\" && mkdir -p \"/media/yuncong/YuncongPublic/CSHL_volumes/RV4_67hrs/RV4_67hrs_down32_annotationAsScoreVolume/score_volumes\"\n",
      "aws s3 cp \"s3://mousebrainatlas-data/CSHL_volumes/RV4_67hrs/RV4_67hrs_down32_annotationAsScoreVolume/score_volumes/RV4_67hrs_down32_annotationAsScoreVolume_10N_R.bp\" \"/media/yuncong/YuncongPublic/CSHL_volumes/RV4_67hrs/RV4_67hrs_down32_annotationAsScoreVolume/score_volumes/RV4_67hrs_down32_annotationAsScoreVolume_10N_R.bp\"\n"
     ]
    },
    {
     "name": "stderr",
     "output_type": "stream",
     "text": [
      "[Errno 2] No such file or directory: '/media/yuncong/YuncongPublic/CSHL_volumes/RV4_67hrs/RV4_67hrs_down32_annotationAsScoreVolume/score_volumes/RV4_67hrs_down32_annotationAsScoreVolume_10N_R.bp'\n",
      "Score volume for 10N_R does not exist.\n"
     ]
    },
    {
     "name": "stdout",
     "output_type": "stream",
     "text": [
      "rm -rf \"/media/yuncong/YuncongPublic/CSHL_volumes/RV4_67hrs/RV4_67hrs_down32_annotationAsScoreVolume/score_volumes/RV4_67hrs_down32_annotationAsScoreVolume_VCA_L.bp\" && mkdir -p \"/media/yuncong/YuncongPublic/CSHL_volumes/RV4_67hrs/RV4_67hrs_down32_annotationAsScoreVolume/score_volumes\"\n",
      "aws s3 cp \"s3://mousebrainatlas-data/CSHL_volumes/RV4_67hrs/RV4_67hrs_down32_annotationAsScoreVolume/score_volumes/RV4_67hrs_down32_annotationAsScoreVolume_VCA_L.bp\" \"/media/yuncong/YuncongPublic/CSHL_volumes/RV4_67hrs/RV4_67hrs_down32_annotationAsScoreVolume/score_volumes/RV4_67hrs_down32_annotationAsScoreVolume_VCA_L.bp\"\n"
     ]
    },
    {
     "name": "stderr",
     "output_type": "stream",
     "text": [
      "[Errno 2] No such file or directory: '/media/yuncong/YuncongPublic/CSHL_volumes/RV4_67hrs/RV4_67hrs_down32_annotationAsScoreVolume/score_volumes/RV4_67hrs_down32_annotationAsScoreVolume_VCA_L.bp'\n",
      "Score volume for VCA_L does not exist.\n"
     ]
    },
    {
     "name": "stdout",
     "output_type": "stream",
     "text": [
      "rm -rf \"/media/yuncong/YuncongPublic/CSHL_volumes/RV4_67hrs/RV4_67hrs_down32_annotationAsScoreVolume/score_volumes/RV4_67hrs_down32_annotationAsScoreVolume_VCA_R.bp\" && mkdir -p \"/media/yuncong/YuncongPublic/CSHL_volumes/RV4_67hrs/RV4_67hrs_down32_annotationAsScoreVolume/score_volumes\"\n",
      "aws s3 cp \"s3://mousebrainatlas-data/CSHL_volumes/RV4_67hrs/RV4_67hrs_down32_annotationAsScoreVolume/score_volumes/RV4_67hrs_down32_annotationAsScoreVolume_VCA_R.bp\" \"/media/yuncong/YuncongPublic/CSHL_volumes/RV4_67hrs/RV4_67hrs_down32_annotationAsScoreVolume/score_volumes/RV4_67hrs_down32_annotationAsScoreVolume_VCA_R.bp\"\n"
     ]
    },
    {
     "name": "stderr",
     "output_type": "stream",
     "text": [
      "[Errno 2] No such file or directory: '/media/yuncong/YuncongPublic/CSHL_volumes/RV4_67hrs/RV4_67hrs_down32_annotationAsScoreVolume/score_volumes/RV4_67hrs_down32_annotationAsScoreVolume_VCA_R.bp'\n",
      "Score volume for VCA_R does not exist.\n"
     ]
    },
    {
     "name": "stdout",
     "output_type": "stream",
     "text": [
      "rm -rf \"/media/yuncong/YuncongPublic/CSHL_volumes/RV4_67hrs/RV4_67hrs_down32_annotationAsScoreVolume/score_volumes/RV4_67hrs_down32_annotationAsScoreVolume_VCP_L.bp\" && mkdir -p \"/media/yuncong/YuncongPublic/CSHL_volumes/RV4_67hrs/RV4_67hrs_down32_annotationAsScoreVolume/score_volumes\"\n",
      "aws s3 cp \"s3://mousebrainatlas-data/CSHL_volumes/RV4_67hrs/RV4_67hrs_down32_annotationAsScoreVolume/score_volumes/RV4_67hrs_down32_annotationAsScoreVolume_VCP_L.bp\" \"/media/yuncong/YuncongPublic/CSHL_volumes/RV4_67hrs/RV4_67hrs_down32_annotationAsScoreVolume/score_volumes/RV4_67hrs_down32_annotationAsScoreVolume_VCP_L.bp\"\n"
     ]
    },
    {
     "name": "stderr",
     "output_type": "stream",
     "text": [
      "[Errno 2] No such file or directory: '/media/yuncong/YuncongPublic/CSHL_volumes/RV4_67hrs/RV4_67hrs_down32_annotationAsScoreVolume/score_volumes/RV4_67hrs_down32_annotationAsScoreVolume_VCP_L.bp'\n",
      "Score volume for VCP_L does not exist.\n"
     ]
    },
    {
     "name": "stdout",
     "output_type": "stream",
     "text": [
      "rm -rf \"/media/yuncong/YuncongPublic/CSHL_volumes/RV4_67hrs/RV4_67hrs_down32_annotationAsScoreVolume/score_volumes/RV4_67hrs_down32_annotationAsScoreVolume_VCP_R.bp\" && mkdir -p \"/media/yuncong/YuncongPublic/CSHL_volumes/RV4_67hrs/RV4_67hrs_down32_annotationAsScoreVolume/score_volumes\"\n",
      "aws s3 cp \"s3://mousebrainatlas-data/CSHL_volumes/RV4_67hrs/RV4_67hrs_down32_annotationAsScoreVolume/score_volumes/RV4_67hrs_down32_annotationAsScoreVolume_VCP_R.bp\" \"/media/yuncong/YuncongPublic/CSHL_volumes/RV4_67hrs/RV4_67hrs_down32_annotationAsScoreVolume/score_volumes/RV4_67hrs_down32_annotationAsScoreVolume_VCP_R.bp\"\n"
     ]
    },
    {
     "name": "stderr",
     "output_type": "stream",
     "text": [
      "[Errno 2] No such file or directory: '/media/yuncong/YuncongPublic/CSHL_volumes/RV4_67hrs/RV4_67hrs_down32_annotationAsScoreVolume/score_volumes/RV4_67hrs_down32_annotationAsScoreVolume_VCP_R.bp'\n",
      "Score volume for VCP_R does not exist.\n"
     ]
    },
    {
     "name": "stdout",
     "output_type": "stream",
     "text": [
      "rm -rf \"/media/yuncong/YuncongPublic/CSHL_volumes/RV4_67hrs/RV4_67hrs_down32_annotationAsScoreVolume/score_volumes/RV4_67hrs_down32_annotationAsScoreVolume_DC_L.bp\" && mkdir -p \"/media/yuncong/YuncongPublic/CSHL_volumes/RV4_67hrs/RV4_67hrs_down32_annotationAsScoreVolume/score_volumes\"\n",
      "aws s3 cp \"s3://mousebrainatlas-data/CSHL_volumes/RV4_67hrs/RV4_67hrs_down32_annotationAsScoreVolume/score_volumes/RV4_67hrs_down32_annotationAsScoreVolume_DC_L.bp\" \"/media/yuncong/YuncongPublic/CSHL_volumes/RV4_67hrs/RV4_67hrs_down32_annotationAsScoreVolume/score_volumes/RV4_67hrs_down32_annotationAsScoreVolume_DC_L.bp\"\n"
     ]
    },
    {
     "name": "stderr",
     "output_type": "stream",
     "text": [
      "[Errno 2] No such file or directory: '/media/yuncong/YuncongPublic/CSHL_volumes/RV4_67hrs/RV4_67hrs_down32_annotationAsScoreVolume/score_volumes/RV4_67hrs_down32_annotationAsScoreVolume_DC_L.bp'\n",
      "Score volume for DC_L does not exist.\n"
     ]
    },
    {
     "name": "stdout",
     "output_type": "stream",
     "text": [
      "rm -rf \"/media/yuncong/YuncongPublic/CSHL_volumes/RV4_67hrs/RV4_67hrs_down32_annotationAsScoreVolume/score_volumes/RV4_67hrs_down32_annotationAsScoreVolume_DC_R.bp\" && mkdir -p \"/media/yuncong/YuncongPublic/CSHL_volumes/RV4_67hrs/RV4_67hrs_down32_annotationAsScoreVolume/score_volumes\"\n",
      "aws s3 cp \"s3://mousebrainatlas-data/CSHL_volumes/RV4_67hrs/RV4_67hrs_down32_annotationAsScoreVolume/score_volumes/RV4_67hrs_down32_annotationAsScoreVolume_DC_R.bp\" \"/media/yuncong/YuncongPublic/CSHL_volumes/RV4_67hrs/RV4_67hrs_down32_annotationAsScoreVolume/score_volumes/RV4_67hrs_down32_annotationAsScoreVolume_DC_R.bp\"\n"
     ]
    },
    {
     "name": "stderr",
     "output_type": "stream",
     "text": [
      "[Errno 2] No such file or directory: '/media/yuncong/YuncongPublic/CSHL_volumes/RV4_67hrs/RV4_67hrs_down32_annotationAsScoreVolume/score_volumes/RV4_67hrs_down32_annotationAsScoreVolume_DC_R.bp'\n",
      "Score volume for DC_R does not exist.\n"
     ]
    },
    {
     "name": "stdout",
     "output_type": "stream",
     "text": [
      "rm -rf \"/media/yuncong/YuncongPublic/CSHL_volumes/RV4_67hrs/RV4_67hrs_down32_annotationAsScoreVolume/score_volumes/RV4_67hrs_down32_annotationAsScoreVolume_AP.bp\" && mkdir -p \"/media/yuncong/YuncongPublic/CSHL_volumes/RV4_67hrs/RV4_67hrs_down32_annotationAsScoreVolume/score_volumes\"\n",
      "aws s3 cp \"s3://mousebrainatlas-data/CSHL_volumes/RV4_67hrs/RV4_67hrs_down32_annotationAsScoreVolume/score_volumes/RV4_67hrs_down32_annotationAsScoreVolume_AP.bp\" \"/media/yuncong/YuncongPublic/CSHL_volumes/RV4_67hrs/RV4_67hrs_down32_annotationAsScoreVolume/score_volumes/RV4_67hrs_down32_annotationAsScoreVolume_AP.bp\"\n"
     ]
    },
    {
     "name": "stderr",
     "output_type": "stream",
     "text": [
      "[Errno 2] No such file or directory: '/media/yuncong/YuncongPublic/CSHL_volumes/RV4_67hrs/RV4_67hrs_down32_annotationAsScoreVolume/score_volumes/RV4_67hrs_down32_annotationAsScoreVolume_AP.bp'\n",
      "Score volume for AP does not exist.\n"
     ]
    },
    {
     "name": "stdout",
     "output_type": "stream",
     "text": [
      "rm -rf \"/media/yuncong/YuncongPublic/CSHL_volumes/RV4_67hrs/RV4_67hrs_down32_annotationAsScoreVolume/score_volumes/RV4_67hrs_down32_annotationAsScoreVolume_12N.bp\" && mkdir -p \"/media/yuncong/YuncongPublic/CSHL_volumes/RV4_67hrs/RV4_67hrs_down32_annotationAsScoreVolume/score_volumes\"\n",
      "aws s3 cp \"s3://mousebrainatlas-data/CSHL_volumes/RV4_67hrs/RV4_67hrs_down32_annotationAsScoreVolume/score_volumes/RV4_67hrs_down32_annotationAsScoreVolume_12N.bp\" \"/media/yuncong/YuncongPublic/CSHL_volumes/RV4_67hrs/RV4_67hrs_down32_annotationAsScoreVolume/score_volumes/RV4_67hrs_down32_annotationAsScoreVolume_12N.bp\"\n"
     ]
    },
    {
     "name": "stderr",
     "output_type": "stream",
     "text": [
      "[Errno 2] No such file or directory: '/media/yuncong/YuncongPublic/CSHL_volumes/RV4_67hrs/RV4_67hrs_down32_annotationAsScoreVolume/score_volumes/RV4_67hrs_down32_annotationAsScoreVolume_12N.bp'\n",
      "Score volume for 12N does not exist.\n"
     ]
    },
    {
     "name": "stdout",
     "output_type": "stream",
     "text": [
      "rm -rf \"/media/yuncong/YuncongPublic/CSHL_volumes/RV4_67hrs/RV4_67hrs_down32_annotationAsScoreVolume/score_volumes/RV4_67hrs_down32_annotationAsScoreVolume_RtTg.bp\" && mkdir -p \"/media/yuncong/YuncongPublic/CSHL_volumes/RV4_67hrs/RV4_67hrs_down32_annotationAsScoreVolume/score_volumes\"\n",
      "aws s3 cp \"s3://mousebrainatlas-data/CSHL_volumes/RV4_67hrs/RV4_67hrs_down32_annotationAsScoreVolume/score_volumes/RV4_67hrs_down32_annotationAsScoreVolume_RtTg.bp\" \"/media/yuncong/YuncongPublic/CSHL_volumes/RV4_67hrs/RV4_67hrs_down32_annotationAsScoreVolume/score_volumes/RV4_67hrs_down32_annotationAsScoreVolume_RtTg.bp\"\n"
     ]
    },
    {
     "name": "stderr",
     "output_type": "stream",
     "text": [
      "[Errno 2] No such file or directory: '/media/yuncong/YuncongPublic/CSHL_volumes/RV4_67hrs/RV4_67hrs_down32_annotationAsScoreVolume/score_volumes/RV4_67hrs_down32_annotationAsScoreVolume_RtTg.bp'\n",
      "Score volume for RtTg does not exist.\n"
     ]
    },
    {
     "name": "stdout",
     "output_type": "stream",
     "text": [
      "rm -rf \"/media/yuncong/YuncongPublic/CSHL_volumes/RV4_67hrs/RV4_67hrs_down32_annotationAsScoreVolume/score_volumes/RV4_67hrs_down32_annotationAsScoreVolume_SC.bp\" && mkdir -p \"/media/yuncong/YuncongPublic/CSHL_volumes/RV4_67hrs/RV4_67hrs_down32_annotationAsScoreVolume/score_volumes\"\n",
      "aws s3 cp \"s3://mousebrainatlas-data/CSHL_volumes/RV4_67hrs/RV4_67hrs_down32_annotationAsScoreVolume/score_volumes/RV4_67hrs_down32_annotationAsScoreVolume_SC.bp\" \"/media/yuncong/YuncongPublic/CSHL_volumes/RV4_67hrs/RV4_67hrs_down32_annotationAsScoreVolume/score_volumes/RV4_67hrs_down32_annotationAsScoreVolume_SC.bp\"\n"
     ]
    },
    {
     "name": "stderr",
     "output_type": "stream",
     "text": [
      "[Errno 2] No such file or directory: '/media/yuncong/YuncongPublic/CSHL_volumes/RV4_67hrs/RV4_67hrs_down32_annotationAsScoreVolume/score_volumes/RV4_67hrs_down32_annotationAsScoreVolume_SC.bp'\n",
      "Score volume for SC does not exist.\n"
     ]
    },
    {
     "name": "stdout",
     "output_type": "stream",
     "text": [
      "rm -rf \"/media/yuncong/YuncongPublic/CSHL_volumes/RV4_67hrs/RV4_67hrs_down32_annotationAsScoreVolume/score_volumes/RV4_67hrs_down32_annotationAsScoreVolume_IC.bp\" && mkdir -p \"/media/yuncong/YuncongPublic/CSHL_volumes/RV4_67hrs/RV4_67hrs_down32_annotationAsScoreVolume/score_volumes\"\n",
      "aws s3 cp \"s3://mousebrainatlas-data/CSHL_volumes/RV4_67hrs/RV4_67hrs_down32_annotationAsScoreVolume/score_volumes/RV4_67hrs_down32_annotationAsScoreVolume_IC.bp\" \"/media/yuncong/YuncongPublic/CSHL_volumes/RV4_67hrs/RV4_67hrs_down32_annotationAsScoreVolume/score_volumes/RV4_67hrs_down32_annotationAsScoreVolume_IC.bp\"\n"
     ]
    },
    {
     "name": "stderr",
     "output_type": "stream",
     "text": [
      "[Errno 2] No such file or directory: '/media/yuncong/YuncongPublic/CSHL_volumes/RV4_67hrs/RV4_67hrs_down32_annotationAsScoreVolume/score_volumes/RV4_67hrs_down32_annotationAsScoreVolume_IC.bp'\n",
      "Score volume for IC does not exist.\n"
     ]
    }
   ],
   "source": [
    "brain_fixed = load_original_volume_all_known_structures_v2(stack=stack_fixed, \n",
    "                                                            sided=True, include_surround=False, \n",
    "                                                            return_label_mappings=False, \n",
    "                                                            name_or_index_as_key='name', common_shape=False)"
   ]
  },
  {
   "cell_type": "code",
   "execution_count": 8,
   "metadata": {},
   "outputs": [
    {
     "name": "stdout",
     "output_type": "stream",
     "text": [
      "['LRt_R', 'Sp5O_R', 'Sp5C_L', '7N_L', '5N_L', '7N_R', '7n_L', 'Sp5I_L', '5N_R', 'Sp5I_R', 'Sp5C_R', '7n_R', 'Sp5O_L', 'LRt_L']\n"
     ]
    }
   ],
   "source": [
    "print brain_fixed.keys()"
   ]
  },
  {
   "cell_type": "code",
   "execution_count": 9,
   "metadata": {
    "scrolled": true
   },
   "outputs": [
    {
     "name": "stderr",
     "output_type": "stream",
     "text": [
      "marching cube: 8.08 seconds\n",
      "mesh_to_polydata: 0.18 seconds\n",
      "simplify 0 @ 60201: 1.58 seconds\n",
      "simplify 1 @ 12041: 1.08 seconds\n",
      "simplify 2 @ 2409: 0.21 seconds\n",
      "marching cube: 10.65 seconds\n",
      "mesh_to_polydata: 0.05 seconds\n",
      "simplify 0 @ 16601: 0.64 seconds\n",
      "simplify 1 @ 3321: 0.19 seconds\n",
      "simplify 2 @ 665: 0.04 seconds\n",
      "marching cube: 11.92 seconds\n",
      "mesh_to_polydata: 0.15 seconds\n",
      "simplify 0 @ 96956: 1.36 seconds\n",
      "simplify 1 @ 19392: 1.19 seconds\n",
      "simplify 2 @ 3880: 0.24 seconds\n",
      "marching cube: 8.11 seconds\n",
      "mesh_to_polydata: 0.05 seconds\n",
      "simplify 0 @ 37583: 0.45 seconds\n",
      "simplify 1 @ 7518: 0.37 seconds\n",
      "simplify 2 @ 1505: 0.07 seconds\n",
      "marching cube: 8.38 seconds\n",
      "mesh_to_polydata: 0.03 seconds\n",
      "simplify 0 @ 23441: 0.25 seconds\n",
      "simplify 1 @ 4689: 0.22 seconds\n",
      "simplify 2 @ 939: 0.04 seconds\n",
      "marching cube: 11.99 seconds\n",
      "mesh_to_polydata: 0.13 seconds\n",
      "simplify 0 @ 42139: 0.73 seconds\n",
      "simplify 1 @ 8429: 0.54 seconds\n",
      "simplify 2 @ 1687: 0.11 seconds\n",
      "marching cube: 8.19 seconds\n",
      "mesh_to_polydata: 0.06 seconds\n",
      "simplify 0 @ 38329: 0.52 seconds\n",
      "simplify 1 @ 7667: 0.42 seconds\n",
      "simplify 2 @ 1535: 0.08 seconds\n",
      "marching cube: 8.34 seconds\n",
      "mesh_to_polydata: 0.08 seconds\n",
      "simplify 0 @ 28390: 2.12 seconds\n",
      "simplify 1 @ 5679: 0.59 seconds\n",
      "simplify 2 @ 1137: 0.12 seconds\n",
      "marching cube: 12.66 seconds\n",
      "mesh_to_polydata: 0.03 seconds\n",
      "simplify 0 @ 17773: 0.36 seconds\n",
      "simplify 1 @ 3556: 0.17 seconds\n",
      "simplify 2 @ 712: 0.04 seconds\n",
      "marching cube: 10.96 seconds\n",
      "mesh_to_polydata: 0.10 seconds\n",
      "simplify 0 @ 20079: 1.20 seconds\n",
      "simplify 1 @ 4017: 0.35 seconds\n",
      "simplify 2 @ 805: 0.06 seconds\n",
      "marching cube: 8.97 seconds\n",
      "mesh_to_polydata: 0.11 seconds\n",
      "simplify 0 @ 73710: 1.21 seconds\n",
      "simplify 1 @ 14743: 0.92 seconds\n",
      "simplify 2 @ 2950: 0.18 seconds\n",
      "marching cube: 8.22 seconds\n",
      "mesh_to_polydata: 0.07 seconds\n",
      "simplify 0 @ 47230: 0.67 seconds\n",
      "simplify 1 @ 9446: 0.52 seconds\n",
      "simplify 2 @ 1890: 0.09 seconds\n",
      "marching cube: 8.18 seconds\n",
      "mesh_to_polydata: 0.06 seconds\n",
      "simplify 0 @ 24071: 1.09 seconds\n",
      "simplify 1 @ 4815: 0.24 seconds\n",
      "simplify 2 @ 964: 0.05 seconds\n",
      "marching cube: 11.52 seconds\n",
      "mesh_to_polydata: 0.14 seconds\n",
      "simplify 0 @ 51605: 1.28 seconds\n",
      "simplify 1 @ 10322: 0.73 seconds\n",
      "simplify 2 @ 2066: 0.14 seconds\n"
     ]
    }
   ],
   "source": [
    "# Convert volumes to meshes.\n",
    "fixed_brain_meshes = {name_s: volume_to_polydata(brain_fixed[name_s][0], num_simplify_iter=3, smooth=True) \n",
    "                      for name_s in brain_fixed.iterkeys()}"
   ]
  },
  {
   "cell_type": "code",
   "execution_count": 15,
   "metadata": {
    "collapsed": true
   },
   "outputs": [],
   "source": [
    "# Create actors - adjust colors and other rendering options.\n",
    "fixed_brain_actor_list = [actor_mesh(mesh, origin=brain_fixed[name_s][1][[0,2,4]], \n",
    "                                     wireframe=True, color=stacks_to_colors[stack_fixed]) \n",
    "                          for name_s, mesh in fixed_brain_meshes.iteritems()]"
   ]
  },
  {
   "cell_type": "code",
   "execution_count": 11,
   "metadata": {
    "scrolled": true
   },
   "outputs": [
    {
     "name": "stdout",
     "output_type": "stream",
     "text": [
      "RV14_65hrs\n",
      "rm -rf \"/media/yuncong/YuncongPublic/CSHL_volumes/RV14_65hrs/RV14_65hrs_down32_annotationAsScoreVolume_warp24_RV4_67hrs_down32_annotationAsScoreVolume/score_volumes/RV14_65hrs_down32_annotationAsScoreVolume_warp24_RV4_67hrs_down32_annotationAsScoreVolume_6N_L.bp\" && mkdir -p \"/media/yuncong/YuncongPublic/CSHL_volumes/RV14_65hrs/RV14_65hrs_down32_annotationAsScoreVolume_warp24_RV4_67hrs_down32_annotationAsScoreVolume/score_volumes\"\n",
      "aws s3 cp \"s3://mousebrainatlas-data/CSHL_volumes/RV14_65hrs/RV14_65hrs_down32_annotationAsScoreVolume_warp24_RV4_67hrs_down32_annotationAsScoreVolume/score_volumes/RV14_65hrs_down32_annotationAsScoreVolume_warp24_RV4_67hrs_down32_annotationAsScoreVolume_6N_L.bp\" \"/media/yuncong/YuncongPublic/CSHL_volumes/RV14_65hrs/RV14_65hrs_down32_annotationAsScoreVolume_warp24_RV4_67hrs_down32_annotationAsScoreVolume/score_volumes/RV14_65hrs_down32_annotationAsScoreVolume_warp24_RV4_67hrs_down32_annotationAsScoreVolume_6N_L.bp\"\n"
     ]
    },
    {
     "name": "stderr",
     "output_type": "stream",
     "text": [
      "Prior structure/index map not found. Generating a new one.\n",
      "[Errno 2] No such file or directory: '/media/yuncong/YuncongPublic/CSHL_volumes/RV14_65hrs/RV14_65hrs_down32_annotationAsScoreVolume_warp24_RV4_67hrs_down32_annotationAsScoreVolume/score_volumes/RV14_65hrs_down32_annotationAsScoreVolume_warp24_RV4_67hrs_down32_annotationAsScoreVolume_6N_L.bp'\n",
      "Score volume for 6N_L does not exist.\n"
     ]
    },
    {
     "name": "stdout",
     "output_type": "stream",
     "text": [
      "rm -rf \"/media/yuncong/YuncongPublic/CSHL_volumes/RV14_65hrs/RV14_65hrs_down32_annotationAsScoreVolume_warp24_RV4_67hrs_down32_annotationAsScoreVolume/score_volumes/RV14_65hrs_down32_annotationAsScoreVolume_warp24_RV4_67hrs_down32_annotationAsScoreVolume_6N_R.bp\" && mkdir -p \"/media/yuncong/YuncongPublic/CSHL_volumes/RV14_65hrs/RV14_65hrs_down32_annotationAsScoreVolume_warp24_RV4_67hrs_down32_annotationAsScoreVolume/score_volumes\"\n",
      "aws s3 cp \"s3://mousebrainatlas-data/CSHL_volumes/RV14_65hrs/RV14_65hrs_down32_annotationAsScoreVolume_warp24_RV4_67hrs_down32_annotationAsScoreVolume/score_volumes/RV14_65hrs_down32_annotationAsScoreVolume_warp24_RV4_67hrs_down32_annotationAsScoreVolume_6N_R.bp\" \"/media/yuncong/YuncongPublic/CSHL_volumes/RV14_65hrs/RV14_65hrs_down32_annotationAsScoreVolume_warp24_RV4_67hrs_down32_annotationAsScoreVolume/score_volumes/RV14_65hrs_down32_annotationAsScoreVolume_warp24_RV4_67hrs_down32_annotationAsScoreVolume_6N_R.bp\"\n"
     ]
    },
    {
     "name": "stderr",
     "output_type": "stream",
     "text": [
      "[Errno 2] No such file or directory: '/media/yuncong/YuncongPublic/CSHL_volumes/RV14_65hrs/RV14_65hrs_down32_annotationAsScoreVolume_warp24_RV4_67hrs_down32_annotationAsScoreVolume/score_volumes/RV14_65hrs_down32_annotationAsScoreVolume_warp24_RV4_67hrs_down32_annotationAsScoreVolume_6N_R.bp'\n",
      "Score volume for 6N_R does not exist.\n"
     ]
    },
    {
     "name": "stdout",
     "output_type": "stream",
     "text": [
      "rm -rf \"/media/yuncong/YuncongPublic/CSHL_volumes/RV14_65hrs/RV14_65hrs_down32_annotationAsScoreVolume_warp24_RV4_67hrs_down32_annotationAsScoreVolume/score_volumes/RV14_65hrs_down32_annotationAsScoreVolume_warp24_RV4_67hrs_down32_annotationAsScoreVolume_Amb_L.bp\" && mkdir -p \"/media/yuncong/YuncongPublic/CSHL_volumes/RV14_65hrs/RV14_65hrs_down32_annotationAsScoreVolume_warp24_RV4_67hrs_down32_annotationAsScoreVolume/score_volumes\"\n",
      "aws s3 cp \"s3://mousebrainatlas-data/CSHL_volumes/RV14_65hrs/RV14_65hrs_down32_annotationAsScoreVolume_warp24_RV4_67hrs_down32_annotationAsScoreVolume/score_volumes/RV14_65hrs_down32_annotationAsScoreVolume_warp24_RV4_67hrs_down32_annotationAsScoreVolume_Amb_L.bp\" \"/media/yuncong/YuncongPublic/CSHL_volumes/RV14_65hrs/RV14_65hrs_down32_annotationAsScoreVolume_warp24_RV4_67hrs_down32_annotationAsScoreVolume/score_volumes/RV14_65hrs_down32_annotationAsScoreVolume_warp24_RV4_67hrs_down32_annotationAsScoreVolume_Amb_L.bp\"\n"
     ]
    },
    {
     "name": "stderr",
     "output_type": "stream",
     "text": [
      "[Errno 2] No such file or directory: '/media/yuncong/YuncongPublic/CSHL_volumes/RV14_65hrs/RV14_65hrs_down32_annotationAsScoreVolume_warp24_RV4_67hrs_down32_annotationAsScoreVolume/score_volumes/RV14_65hrs_down32_annotationAsScoreVolume_warp24_RV4_67hrs_down32_annotationAsScoreVolume_Amb_L.bp'\n",
      "Score volume for Amb_L does not exist.\n"
     ]
    },
    {
     "name": "stdout",
     "output_type": "stream",
     "text": [
      "rm -rf \"/media/yuncong/YuncongPublic/CSHL_volumes/RV14_65hrs/RV14_65hrs_down32_annotationAsScoreVolume_warp24_RV4_67hrs_down32_annotationAsScoreVolume/score_volumes/RV14_65hrs_down32_annotationAsScoreVolume_warp24_RV4_67hrs_down32_annotationAsScoreVolume_Amb_R.bp\" && mkdir -p \"/media/yuncong/YuncongPublic/CSHL_volumes/RV14_65hrs/RV14_65hrs_down32_annotationAsScoreVolume_warp24_RV4_67hrs_down32_annotationAsScoreVolume/score_volumes\"\n",
      "aws s3 cp \"s3://mousebrainatlas-data/CSHL_volumes/RV14_65hrs/RV14_65hrs_down32_annotationAsScoreVolume_warp24_RV4_67hrs_down32_annotationAsScoreVolume/score_volumes/RV14_65hrs_down32_annotationAsScoreVolume_warp24_RV4_67hrs_down32_annotationAsScoreVolume_Amb_R.bp\" \"/media/yuncong/YuncongPublic/CSHL_volumes/RV14_65hrs/RV14_65hrs_down32_annotationAsScoreVolume_warp24_RV4_67hrs_down32_annotationAsScoreVolume/score_volumes/RV14_65hrs_down32_annotationAsScoreVolume_warp24_RV4_67hrs_down32_annotationAsScoreVolume_Amb_R.bp\"\n"
     ]
    },
    {
     "name": "stderr",
     "output_type": "stream",
     "text": [
      "[Errno 2] No such file or directory: '/media/yuncong/YuncongPublic/CSHL_volumes/RV14_65hrs/RV14_65hrs_down32_annotationAsScoreVolume_warp24_RV4_67hrs_down32_annotationAsScoreVolume/score_volumes/RV14_65hrs_down32_annotationAsScoreVolume_warp24_RV4_67hrs_down32_annotationAsScoreVolume_Amb_R.bp'\n",
      "Score volume for Amb_R does not exist.\n"
     ]
    },
    {
     "name": "stdout",
     "output_type": "stream",
     "text": [
      "rm -rf \"/media/yuncong/YuncongPublic/CSHL_volumes/RV14_65hrs/RV14_65hrs_down32_annotationAsScoreVolume_warp24_RV4_67hrs_down32_annotationAsScoreVolume/score_volumes/RV14_65hrs_down32_annotationAsScoreVolume_warp24_RV4_67hrs_down32_annotationAsScoreVolume_LC_L.bp\" && mkdir -p \"/media/yuncong/YuncongPublic/CSHL_volumes/RV14_65hrs/RV14_65hrs_down32_annotationAsScoreVolume_warp24_RV4_67hrs_down32_annotationAsScoreVolume/score_volumes\"\n",
      "aws s3 cp \"s3://mousebrainatlas-data/CSHL_volumes/RV14_65hrs/RV14_65hrs_down32_annotationAsScoreVolume_warp24_RV4_67hrs_down32_annotationAsScoreVolume/score_volumes/RV14_65hrs_down32_annotationAsScoreVolume_warp24_RV4_67hrs_down32_annotationAsScoreVolume_LC_L.bp\" \"/media/yuncong/YuncongPublic/CSHL_volumes/RV14_65hrs/RV14_65hrs_down32_annotationAsScoreVolume_warp24_RV4_67hrs_down32_annotationAsScoreVolume/score_volumes/RV14_65hrs_down32_annotationAsScoreVolume_warp24_RV4_67hrs_down32_annotationAsScoreVolume_LC_L.bp\"\n"
     ]
    },
    {
     "name": "stderr",
     "output_type": "stream",
     "text": [
      "[Errno 2] No such file or directory: '/media/yuncong/YuncongPublic/CSHL_volumes/RV14_65hrs/RV14_65hrs_down32_annotationAsScoreVolume_warp24_RV4_67hrs_down32_annotationAsScoreVolume/score_volumes/RV14_65hrs_down32_annotationAsScoreVolume_warp24_RV4_67hrs_down32_annotationAsScoreVolume_LC_L.bp'\n",
      "Score volume for LC_L does not exist.\n"
     ]
    },
    {
     "name": "stdout",
     "output_type": "stream",
     "text": [
      "rm -rf \"/media/yuncong/YuncongPublic/CSHL_volumes/RV14_65hrs/RV14_65hrs_down32_annotationAsScoreVolume_warp24_RV4_67hrs_down32_annotationAsScoreVolume/score_volumes/RV14_65hrs_down32_annotationAsScoreVolume_warp24_RV4_67hrs_down32_annotationAsScoreVolume_LC_R.bp\" && mkdir -p \"/media/yuncong/YuncongPublic/CSHL_volumes/RV14_65hrs/RV14_65hrs_down32_annotationAsScoreVolume_warp24_RV4_67hrs_down32_annotationAsScoreVolume/score_volumes\"\n",
      "aws s3 cp \"s3://mousebrainatlas-data/CSHL_volumes/RV14_65hrs/RV14_65hrs_down32_annotationAsScoreVolume_warp24_RV4_67hrs_down32_annotationAsScoreVolume/score_volumes/RV14_65hrs_down32_annotationAsScoreVolume_warp24_RV4_67hrs_down32_annotationAsScoreVolume_LC_R.bp\" \"/media/yuncong/YuncongPublic/CSHL_volumes/RV14_65hrs/RV14_65hrs_down32_annotationAsScoreVolume_warp24_RV4_67hrs_down32_annotationAsScoreVolume/score_volumes/RV14_65hrs_down32_annotationAsScoreVolume_warp24_RV4_67hrs_down32_annotationAsScoreVolume_LC_R.bp\"\n"
     ]
    },
    {
     "name": "stderr",
     "output_type": "stream",
     "text": [
      "[Errno 2] No such file or directory: '/media/yuncong/YuncongPublic/CSHL_volumes/RV14_65hrs/RV14_65hrs_down32_annotationAsScoreVolume_warp24_RV4_67hrs_down32_annotationAsScoreVolume/score_volumes/RV14_65hrs_down32_annotationAsScoreVolume_warp24_RV4_67hrs_down32_annotationAsScoreVolume_LC_R.bp'\n",
      "Score volume for LC_R does not exist.\n"
     ]
    },
    {
     "name": "stdout",
     "output_type": "stream",
     "text": [
      "rm -rf \"/media/yuncong/YuncongPublic/CSHL_volumes/RV14_65hrs/RV14_65hrs_down32_annotationAsScoreVolume_warp24_RV4_67hrs_down32_annotationAsScoreVolume/score_volumes/RV14_65hrs_down32_annotationAsScoreVolume_warp24_RV4_67hrs_down32_annotationAsScoreVolume_Pn_L.bp\" && mkdir -p \"/media/yuncong/YuncongPublic/CSHL_volumes/RV14_65hrs/RV14_65hrs_down32_annotationAsScoreVolume_warp24_RV4_67hrs_down32_annotationAsScoreVolume/score_volumes\"\n",
      "aws s3 cp \"s3://mousebrainatlas-data/CSHL_volumes/RV14_65hrs/RV14_65hrs_down32_annotationAsScoreVolume_warp24_RV4_67hrs_down32_annotationAsScoreVolume/score_volumes/RV14_65hrs_down32_annotationAsScoreVolume_warp24_RV4_67hrs_down32_annotationAsScoreVolume_Pn_L.bp\" \"/media/yuncong/YuncongPublic/CSHL_volumes/RV14_65hrs/RV14_65hrs_down32_annotationAsScoreVolume_warp24_RV4_67hrs_down32_annotationAsScoreVolume/score_volumes/RV14_65hrs_down32_annotationAsScoreVolume_warp24_RV4_67hrs_down32_annotationAsScoreVolume_Pn_L.bp\"\n"
     ]
    },
    {
     "name": "stderr",
     "output_type": "stream",
     "text": [
      "[Errno 2] No such file or directory: '/media/yuncong/YuncongPublic/CSHL_volumes/RV14_65hrs/RV14_65hrs_down32_annotationAsScoreVolume_warp24_RV4_67hrs_down32_annotationAsScoreVolume/score_volumes/RV14_65hrs_down32_annotationAsScoreVolume_warp24_RV4_67hrs_down32_annotationAsScoreVolume_Pn_L.bp'\n",
      "Score volume for Pn_L does not exist.\n"
     ]
    },
    {
     "name": "stdout",
     "output_type": "stream",
     "text": [
      "rm -rf \"/media/yuncong/YuncongPublic/CSHL_volumes/RV14_65hrs/RV14_65hrs_down32_annotationAsScoreVolume_warp24_RV4_67hrs_down32_annotationAsScoreVolume/score_volumes/RV14_65hrs_down32_annotationAsScoreVolume_warp24_RV4_67hrs_down32_annotationAsScoreVolume_Pn_R.bp\" && mkdir -p \"/media/yuncong/YuncongPublic/CSHL_volumes/RV14_65hrs/RV14_65hrs_down32_annotationAsScoreVolume_warp24_RV4_67hrs_down32_annotationAsScoreVolume/score_volumes\"\n",
      "aws s3 cp \"s3://mousebrainatlas-data/CSHL_volumes/RV14_65hrs/RV14_65hrs_down32_annotationAsScoreVolume_warp24_RV4_67hrs_down32_annotationAsScoreVolume/score_volumes/RV14_65hrs_down32_annotationAsScoreVolume_warp24_RV4_67hrs_down32_annotationAsScoreVolume_Pn_R.bp\" \"/media/yuncong/YuncongPublic/CSHL_volumes/RV14_65hrs/RV14_65hrs_down32_annotationAsScoreVolume_warp24_RV4_67hrs_down32_annotationAsScoreVolume/score_volumes/RV14_65hrs_down32_annotationAsScoreVolume_warp24_RV4_67hrs_down32_annotationAsScoreVolume_Pn_R.bp\"\n"
     ]
    },
    {
     "name": "stderr",
     "output_type": "stream",
     "text": [
      "[Errno 2] No such file or directory: '/media/yuncong/YuncongPublic/CSHL_volumes/RV14_65hrs/RV14_65hrs_down32_annotationAsScoreVolume_warp24_RV4_67hrs_down32_annotationAsScoreVolume/score_volumes/RV14_65hrs_down32_annotationAsScoreVolume_warp24_RV4_67hrs_down32_annotationAsScoreVolume_Pn_R.bp'\n",
      "Score volume for Pn_R does not exist.\n"
     ]
    },
    {
     "name": "stdout",
     "output_type": "stream",
     "text": [
      "rm -rf \"/media/yuncong/YuncongPublic/CSHL_volumes/RV14_65hrs/RV14_65hrs_down32_annotationAsScoreVolume_warp24_RV4_67hrs_down32_annotationAsScoreVolume/score_volumes/RV14_65hrs_down32_annotationAsScoreVolume_warp24_RV4_67hrs_down32_annotationAsScoreVolume_Tz_L.bp\" && mkdir -p \"/media/yuncong/YuncongPublic/CSHL_volumes/RV14_65hrs/RV14_65hrs_down32_annotationAsScoreVolume_warp24_RV4_67hrs_down32_annotationAsScoreVolume/score_volumes\"\n",
      "aws s3 cp \"s3://mousebrainatlas-data/CSHL_volumes/RV14_65hrs/RV14_65hrs_down32_annotationAsScoreVolume_warp24_RV4_67hrs_down32_annotationAsScoreVolume/score_volumes/RV14_65hrs_down32_annotationAsScoreVolume_warp24_RV4_67hrs_down32_annotationAsScoreVolume_Tz_L.bp\" \"/media/yuncong/YuncongPublic/CSHL_volumes/RV14_65hrs/RV14_65hrs_down32_annotationAsScoreVolume_warp24_RV4_67hrs_down32_annotationAsScoreVolume/score_volumes/RV14_65hrs_down32_annotationAsScoreVolume_warp24_RV4_67hrs_down32_annotationAsScoreVolume_Tz_L.bp\"\n"
     ]
    },
    {
     "name": "stderr",
     "output_type": "stream",
     "text": [
      "[Errno 2] No such file or directory: '/media/yuncong/YuncongPublic/CSHL_volumes/RV14_65hrs/RV14_65hrs_down32_annotationAsScoreVolume_warp24_RV4_67hrs_down32_annotationAsScoreVolume/score_volumes/RV14_65hrs_down32_annotationAsScoreVolume_warp24_RV4_67hrs_down32_annotationAsScoreVolume_Tz_L.bp'\n",
      "Score volume for Tz_L does not exist.\n"
     ]
    },
    {
     "name": "stdout",
     "output_type": "stream",
     "text": [
      "rm -rf \"/media/yuncong/YuncongPublic/CSHL_volumes/RV14_65hrs/RV14_65hrs_down32_annotationAsScoreVolume_warp24_RV4_67hrs_down32_annotationAsScoreVolume/score_volumes/RV14_65hrs_down32_annotationAsScoreVolume_warp24_RV4_67hrs_down32_annotationAsScoreVolume_Tz_R.bp\" && mkdir -p \"/media/yuncong/YuncongPublic/CSHL_volumes/RV14_65hrs/RV14_65hrs_down32_annotationAsScoreVolume_warp24_RV4_67hrs_down32_annotationAsScoreVolume/score_volumes\"\n",
      "aws s3 cp \"s3://mousebrainatlas-data/CSHL_volumes/RV14_65hrs/RV14_65hrs_down32_annotationAsScoreVolume_warp24_RV4_67hrs_down32_annotationAsScoreVolume/score_volumes/RV14_65hrs_down32_annotationAsScoreVolume_warp24_RV4_67hrs_down32_annotationAsScoreVolume_Tz_R.bp\" \"/media/yuncong/YuncongPublic/CSHL_volumes/RV14_65hrs/RV14_65hrs_down32_annotationAsScoreVolume_warp24_RV4_67hrs_down32_annotationAsScoreVolume/score_volumes/RV14_65hrs_down32_annotationAsScoreVolume_warp24_RV4_67hrs_down32_annotationAsScoreVolume_Tz_R.bp\"\n"
     ]
    },
    {
     "name": "stderr",
     "output_type": "stream",
     "text": [
      "[Errno 2] No such file or directory: '/media/yuncong/YuncongPublic/CSHL_volumes/RV14_65hrs/RV14_65hrs_down32_annotationAsScoreVolume_warp24_RV4_67hrs_down32_annotationAsScoreVolume/score_volumes/RV14_65hrs_down32_annotationAsScoreVolume_warp24_RV4_67hrs_down32_annotationAsScoreVolume_Tz_R.bp'\n",
      "Score volume for Tz_R does not exist.\n"
     ]
    },
    {
     "name": "stdout",
     "output_type": "stream",
     "text": [
      "rm -rf \"/media/yuncong/YuncongPublic/CSHL_volumes/RV14_65hrs/RV14_65hrs_down32_annotationAsScoreVolume_warp24_RV4_67hrs_down32_annotationAsScoreVolume/score_volumes/RV14_65hrs_down32_annotationAsScoreVolume_warp24_RV4_67hrs_down32_annotationAsScoreVolume_VLL_L.bp\" && mkdir -p \"/media/yuncong/YuncongPublic/CSHL_volumes/RV14_65hrs/RV14_65hrs_down32_annotationAsScoreVolume_warp24_RV4_67hrs_down32_annotationAsScoreVolume/score_volumes\"\n",
      "aws s3 cp \"s3://mousebrainatlas-data/CSHL_volumes/RV14_65hrs/RV14_65hrs_down32_annotationAsScoreVolume_warp24_RV4_67hrs_down32_annotationAsScoreVolume/score_volumes/RV14_65hrs_down32_annotationAsScoreVolume_warp24_RV4_67hrs_down32_annotationAsScoreVolume_VLL_L.bp\" \"/media/yuncong/YuncongPublic/CSHL_volumes/RV14_65hrs/RV14_65hrs_down32_annotationAsScoreVolume_warp24_RV4_67hrs_down32_annotationAsScoreVolume/score_volumes/RV14_65hrs_down32_annotationAsScoreVolume_warp24_RV4_67hrs_down32_annotationAsScoreVolume_VLL_L.bp\"\n"
     ]
    },
    {
     "name": "stderr",
     "output_type": "stream",
     "text": [
      "[Errno 2] No such file or directory: '/media/yuncong/YuncongPublic/CSHL_volumes/RV14_65hrs/RV14_65hrs_down32_annotationAsScoreVolume_warp24_RV4_67hrs_down32_annotationAsScoreVolume/score_volumes/RV14_65hrs_down32_annotationAsScoreVolume_warp24_RV4_67hrs_down32_annotationAsScoreVolume_VLL_L.bp'\n",
      "Score volume for VLL_L does not exist.\n"
     ]
    },
    {
     "name": "stdout",
     "output_type": "stream",
     "text": [
      "rm -rf \"/media/yuncong/YuncongPublic/CSHL_volumes/RV14_65hrs/RV14_65hrs_down32_annotationAsScoreVolume_warp24_RV4_67hrs_down32_annotationAsScoreVolume/score_volumes/RV14_65hrs_down32_annotationAsScoreVolume_warp24_RV4_67hrs_down32_annotationAsScoreVolume_VLL_R.bp\" && mkdir -p \"/media/yuncong/YuncongPublic/CSHL_volumes/RV14_65hrs/RV14_65hrs_down32_annotationAsScoreVolume_warp24_RV4_67hrs_down32_annotationAsScoreVolume/score_volumes\"\n",
      "aws s3 cp \"s3://mousebrainatlas-data/CSHL_volumes/RV14_65hrs/RV14_65hrs_down32_annotationAsScoreVolume_warp24_RV4_67hrs_down32_annotationAsScoreVolume/score_volumes/RV14_65hrs_down32_annotationAsScoreVolume_warp24_RV4_67hrs_down32_annotationAsScoreVolume_VLL_R.bp\" \"/media/yuncong/YuncongPublic/CSHL_volumes/RV14_65hrs/RV14_65hrs_down32_annotationAsScoreVolume_warp24_RV4_67hrs_down32_annotationAsScoreVolume/score_volumes/RV14_65hrs_down32_annotationAsScoreVolume_warp24_RV4_67hrs_down32_annotationAsScoreVolume_VLL_R.bp\"\n"
     ]
    },
    {
     "name": "stderr",
     "output_type": "stream",
     "text": [
      "[Errno 2] No such file or directory: '/media/yuncong/YuncongPublic/CSHL_volumes/RV14_65hrs/RV14_65hrs_down32_annotationAsScoreVolume_warp24_RV4_67hrs_down32_annotationAsScoreVolume/score_volumes/RV14_65hrs_down32_annotationAsScoreVolume_warp24_RV4_67hrs_down32_annotationAsScoreVolume_VLL_R.bp'\n",
      "Score volume for VLL_R does not exist.\n"
     ]
    },
    {
     "name": "stdout",
     "output_type": "stream",
     "text": [
      "rm -rf \"/media/yuncong/YuncongPublic/CSHL_volumes/RV14_65hrs/RV14_65hrs_down32_annotationAsScoreVolume_warp24_RV4_67hrs_down32_annotationAsScoreVolume/score_volumes/RV14_65hrs_down32_annotationAsScoreVolume_warp24_RV4_67hrs_down32_annotationAsScoreVolume_RMC_L.bp\" && mkdir -p \"/media/yuncong/YuncongPublic/CSHL_volumes/RV14_65hrs/RV14_65hrs_down32_annotationAsScoreVolume_warp24_RV4_67hrs_down32_annotationAsScoreVolume/score_volumes\"\n",
      "aws s3 cp \"s3://mousebrainatlas-data/CSHL_volumes/RV14_65hrs/RV14_65hrs_down32_annotationAsScoreVolume_warp24_RV4_67hrs_down32_annotationAsScoreVolume/score_volumes/RV14_65hrs_down32_annotationAsScoreVolume_warp24_RV4_67hrs_down32_annotationAsScoreVolume_RMC_L.bp\" \"/media/yuncong/YuncongPublic/CSHL_volumes/RV14_65hrs/RV14_65hrs_down32_annotationAsScoreVolume_warp24_RV4_67hrs_down32_annotationAsScoreVolume/score_volumes/RV14_65hrs_down32_annotationAsScoreVolume_warp24_RV4_67hrs_down32_annotationAsScoreVolume_RMC_L.bp\"\n"
     ]
    },
    {
     "name": "stderr",
     "output_type": "stream",
     "text": [
      "[Errno 2] No such file or directory: '/media/yuncong/YuncongPublic/CSHL_volumes/RV14_65hrs/RV14_65hrs_down32_annotationAsScoreVolume_warp24_RV4_67hrs_down32_annotationAsScoreVolume/score_volumes/RV14_65hrs_down32_annotationAsScoreVolume_warp24_RV4_67hrs_down32_annotationAsScoreVolume_RMC_L.bp'\n",
      "Score volume for RMC_L does not exist.\n"
     ]
    },
    {
     "name": "stdout",
     "output_type": "stream",
     "text": [
      "rm -rf \"/media/yuncong/YuncongPublic/CSHL_volumes/RV14_65hrs/RV14_65hrs_down32_annotationAsScoreVolume_warp24_RV4_67hrs_down32_annotationAsScoreVolume/score_volumes/RV14_65hrs_down32_annotationAsScoreVolume_warp24_RV4_67hrs_down32_annotationAsScoreVolume_RMC_R.bp\" && mkdir -p \"/media/yuncong/YuncongPublic/CSHL_volumes/RV14_65hrs/RV14_65hrs_down32_annotationAsScoreVolume_warp24_RV4_67hrs_down32_annotationAsScoreVolume/score_volumes\"\n",
      "aws s3 cp \"s3://mousebrainatlas-data/CSHL_volumes/RV14_65hrs/RV14_65hrs_down32_annotationAsScoreVolume_warp24_RV4_67hrs_down32_annotationAsScoreVolume/score_volumes/RV14_65hrs_down32_annotationAsScoreVolume_warp24_RV4_67hrs_down32_annotationAsScoreVolume_RMC_R.bp\" \"/media/yuncong/YuncongPublic/CSHL_volumes/RV14_65hrs/RV14_65hrs_down32_annotationAsScoreVolume_warp24_RV4_67hrs_down32_annotationAsScoreVolume/score_volumes/RV14_65hrs_down32_annotationAsScoreVolume_warp24_RV4_67hrs_down32_annotationAsScoreVolume_RMC_R.bp\"\n"
     ]
    },
    {
     "name": "stderr",
     "output_type": "stream",
     "text": [
      "[Errno 2] No such file or directory: '/media/yuncong/YuncongPublic/CSHL_volumes/RV14_65hrs/RV14_65hrs_down32_annotationAsScoreVolume_warp24_RV4_67hrs_down32_annotationAsScoreVolume/score_volumes/RV14_65hrs_down32_annotationAsScoreVolume_warp24_RV4_67hrs_down32_annotationAsScoreVolume_RMC_R.bp'\n",
      "Score volume for RMC_R does not exist.\n"
     ]
    },
    {
     "name": "stdout",
     "output_type": "stream",
     "text": [
      "rm -rf \"/media/yuncong/YuncongPublic/CSHL_volumes/RV14_65hrs/RV14_65hrs_down32_annotationAsScoreVolume_warp24_RV4_67hrs_down32_annotationAsScoreVolume/score_volumes/RV14_65hrs_down32_annotationAsScoreVolume_warp24_RV4_67hrs_down32_annotationAsScoreVolume_SNC_L.bp\" && mkdir -p \"/media/yuncong/YuncongPublic/CSHL_volumes/RV14_65hrs/RV14_65hrs_down32_annotationAsScoreVolume_warp24_RV4_67hrs_down32_annotationAsScoreVolume/score_volumes\"\n",
      "aws s3 cp \"s3://mousebrainatlas-data/CSHL_volumes/RV14_65hrs/RV14_65hrs_down32_annotationAsScoreVolume_warp24_RV4_67hrs_down32_annotationAsScoreVolume/score_volumes/RV14_65hrs_down32_annotationAsScoreVolume_warp24_RV4_67hrs_down32_annotationAsScoreVolume_SNC_L.bp\" \"/media/yuncong/YuncongPublic/CSHL_volumes/RV14_65hrs/RV14_65hrs_down32_annotationAsScoreVolume_warp24_RV4_67hrs_down32_annotationAsScoreVolume/score_volumes/RV14_65hrs_down32_annotationAsScoreVolume_warp24_RV4_67hrs_down32_annotationAsScoreVolume_SNC_L.bp\"\n"
     ]
    },
    {
     "name": "stderr",
     "output_type": "stream",
     "text": [
      "[Errno 2] No such file or directory: '/media/yuncong/YuncongPublic/CSHL_volumes/RV14_65hrs/RV14_65hrs_down32_annotationAsScoreVolume_warp24_RV4_67hrs_down32_annotationAsScoreVolume/score_volumes/RV14_65hrs_down32_annotationAsScoreVolume_warp24_RV4_67hrs_down32_annotationAsScoreVolume_SNC_L.bp'\n",
      "Score volume for SNC_L does not exist.\n"
     ]
    },
    {
     "name": "stdout",
     "output_type": "stream",
     "text": [
      "rm -rf \"/media/yuncong/YuncongPublic/CSHL_volumes/RV14_65hrs/RV14_65hrs_down32_annotationAsScoreVolume_warp24_RV4_67hrs_down32_annotationAsScoreVolume/score_volumes/RV14_65hrs_down32_annotationAsScoreVolume_warp24_RV4_67hrs_down32_annotationAsScoreVolume_SNC_R.bp\" && mkdir -p \"/media/yuncong/YuncongPublic/CSHL_volumes/RV14_65hrs/RV14_65hrs_down32_annotationAsScoreVolume_warp24_RV4_67hrs_down32_annotationAsScoreVolume/score_volumes\"\n",
      "aws s3 cp \"s3://mousebrainatlas-data/CSHL_volumes/RV14_65hrs/RV14_65hrs_down32_annotationAsScoreVolume_warp24_RV4_67hrs_down32_annotationAsScoreVolume/score_volumes/RV14_65hrs_down32_annotationAsScoreVolume_warp24_RV4_67hrs_down32_annotationAsScoreVolume_SNC_R.bp\" \"/media/yuncong/YuncongPublic/CSHL_volumes/RV14_65hrs/RV14_65hrs_down32_annotationAsScoreVolume_warp24_RV4_67hrs_down32_annotationAsScoreVolume/score_volumes/RV14_65hrs_down32_annotationAsScoreVolume_warp24_RV4_67hrs_down32_annotationAsScoreVolume_SNC_R.bp\"\n"
     ]
    },
    {
     "name": "stderr",
     "output_type": "stream",
     "text": [
      "[Errno 2] No such file or directory: '/media/yuncong/YuncongPublic/CSHL_volumes/RV14_65hrs/RV14_65hrs_down32_annotationAsScoreVolume_warp24_RV4_67hrs_down32_annotationAsScoreVolume/score_volumes/RV14_65hrs_down32_annotationAsScoreVolume_warp24_RV4_67hrs_down32_annotationAsScoreVolume_SNC_R.bp'\n",
      "Score volume for SNC_R does not exist.\n"
     ]
    },
    {
     "name": "stdout",
     "output_type": "stream",
     "text": [
      "rm -rf \"/media/yuncong/YuncongPublic/CSHL_volumes/RV14_65hrs/RV14_65hrs_down32_annotationAsScoreVolume_warp24_RV4_67hrs_down32_annotationAsScoreVolume/score_volumes/RV14_65hrs_down32_annotationAsScoreVolume_warp24_RV4_67hrs_down32_annotationAsScoreVolume_SNR_L.bp\" && mkdir -p \"/media/yuncong/YuncongPublic/CSHL_volumes/RV14_65hrs/RV14_65hrs_down32_annotationAsScoreVolume_warp24_RV4_67hrs_down32_annotationAsScoreVolume/score_volumes\"\n",
      "aws s3 cp \"s3://mousebrainatlas-data/CSHL_volumes/RV14_65hrs/RV14_65hrs_down32_annotationAsScoreVolume_warp24_RV4_67hrs_down32_annotationAsScoreVolume/score_volumes/RV14_65hrs_down32_annotationAsScoreVolume_warp24_RV4_67hrs_down32_annotationAsScoreVolume_SNR_L.bp\" \"/media/yuncong/YuncongPublic/CSHL_volumes/RV14_65hrs/RV14_65hrs_down32_annotationAsScoreVolume_warp24_RV4_67hrs_down32_annotationAsScoreVolume/score_volumes/RV14_65hrs_down32_annotationAsScoreVolume_warp24_RV4_67hrs_down32_annotationAsScoreVolume_SNR_L.bp\"\n"
     ]
    },
    {
     "name": "stderr",
     "output_type": "stream",
     "text": [
      "[Errno 2] No such file or directory: '/media/yuncong/YuncongPublic/CSHL_volumes/RV14_65hrs/RV14_65hrs_down32_annotationAsScoreVolume_warp24_RV4_67hrs_down32_annotationAsScoreVolume/score_volumes/RV14_65hrs_down32_annotationAsScoreVolume_warp24_RV4_67hrs_down32_annotationAsScoreVolume_SNR_L.bp'\n",
      "Score volume for SNR_L does not exist.\n"
     ]
    },
    {
     "name": "stdout",
     "output_type": "stream",
     "text": [
      "rm -rf \"/media/yuncong/YuncongPublic/CSHL_volumes/RV14_65hrs/RV14_65hrs_down32_annotationAsScoreVolume_warp24_RV4_67hrs_down32_annotationAsScoreVolume/score_volumes/RV14_65hrs_down32_annotationAsScoreVolume_warp24_RV4_67hrs_down32_annotationAsScoreVolume_SNR_R.bp\" && mkdir -p \"/media/yuncong/YuncongPublic/CSHL_volumes/RV14_65hrs/RV14_65hrs_down32_annotationAsScoreVolume_warp24_RV4_67hrs_down32_annotationAsScoreVolume/score_volumes\"\n",
      "aws s3 cp \"s3://mousebrainatlas-data/CSHL_volumes/RV14_65hrs/RV14_65hrs_down32_annotationAsScoreVolume_warp24_RV4_67hrs_down32_annotationAsScoreVolume/score_volumes/RV14_65hrs_down32_annotationAsScoreVolume_warp24_RV4_67hrs_down32_annotationAsScoreVolume_SNR_R.bp\" \"/media/yuncong/YuncongPublic/CSHL_volumes/RV14_65hrs/RV14_65hrs_down32_annotationAsScoreVolume_warp24_RV4_67hrs_down32_annotationAsScoreVolume/score_volumes/RV14_65hrs_down32_annotationAsScoreVolume_warp24_RV4_67hrs_down32_annotationAsScoreVolume_SNR_R.bp\"\n"
     ]
    },
    {
     "name": "stderr",
     "output_type": "stream",
     "text": [
      "[Errno 2] No such file or directory: '/media/yuncong/YuncongPublic/CSHL_volumes/RV14_65hrs/RV14_65hrs_down32_annotationAsScoreVolume_warp24_RV4_67hrs_down32_annotationAsScoreVolume/score_volumes/RV14_65hrs_down32_annotationAsScoreVolume_warp24_RV4_67hrs_down32_annotationAsScoreVolume_SNR_R.bp'\n",
      "Score volume for SNR_R does not exist.\n"
     ]
    },
    {
     "name": "stdout",
     "output_type": "stream",
     "text": [
      "rm -rf \"/media/yuncong/YuncongPublic/CSHL_volumes/RV14_65hrs/RV14_65hrs_down32_annotationAsScoreVolume_warp24_RV4_67hrs_down32_annotationAsScoreVolume/score_volumes/RV14_65hrs_down32_annotationAsScoreVolume_warp24_RV4_67hrs_down32_annotationAsScoreVolume_3N_L.bp\" && mkdir -p \"/media/yuncong/YuncongPublic/CSHL_volumes/RV14_65hrs/RV14_65hrs_down32_annotationAsScoreVolume_warp24_RV4_67hrs_down32_annotationAsScoreVolume/score_volumes\"\n",
      "aws s3 cp \"s3://mousebrainatlas-data/CSHL_volumes/RV14_65hrs/RV14_65hrs_down32_annotationAsScoreVolume_warp24_RV4_67hrs_down32_annotationAsScoreVolume/score_volumes/RV14_65hrs_down32_annotationAsScoreVolume_warp24_RV4_67hrs_down32_annotationAsScoreVolume_3N_L.bp\" \"/media/yuncong/YuncongPublic/CSHL_volumes/RV14_65hrs/RV14_65hrs_down32_annotationAsScoreVolume_warp24_RV4_67hrs_down32_annotationAsScoreVolume/score_volumes/RV14_65hrs_down32_annotationAsScoreVolume_warp24_RV4_67hrs_down32_annotationAsScoreVolume_3N_L.bp\"\n"
     ]
    },
    {
     "name": "stderr",
     "output_type": "stream",
     "text": [
      "[Errno 2] No such file or directory: '/media/yuncong/YuncongPublic/CSHL_volumes/RV14_65hrs/RV14_65hrs_down32_annotationAsScoreVolume_warp24_RV4_67hrs_down32_annotationAsScoreVolume/score_volumes/RV14_65hrs_down32_annotationAsScoreVolume_warp24_RV4_67hrs_down32_annotationAsScoreVolume_3N_L.bp'\n",
      "Score volume for 3N_L does not exist.\n"
     ]
    },
    {
     "name": "stdout",
     "output_type": "stream",
     "text": [
      "rm -rf \"/media/yuncong/YuncongPublic/CSHL_volumes/RV14_65hrs/RV14_65hrs_down32_annotationAsScoreVolume_warp24_RV4_67hrs_down32_annotationAsScoreVolume/score_volumes/RV14_65hrs_down32_annotationAsScoreVolume_warp24_RV4_67hrs_down32_annotationAsScoreVolume_3N_R.bp\" && mkdir -p \"/media/yuncong/YuncongPublic/CSHL_volumes/RV14_65hrs/RV14_65hrs_down32_annotationAsScoreVolume_warp24_RV4_67hrs_down32_annotationAsScoreVolume/score_volumes\"\n",
      "aws s3 cp \"s3://mousebrainatlas-data/CSHL_volumes/RV14_65hrs/RV14_65hrs_down32_annotationAsScoreVolume_warp24_RV4_67hrs_down32_annotationAsScoreVolume/score_volumes/RV14_65hrs_down32_annotationAsScoreVolume_warp24_RV4_67hrs_down32_annotationAsScoreVolume_3N_R.bp\" \"/media/yuncong/YuncongPublic/CSHL_volumes/RV14_65hrs/RV14_65hrs_down32_annotationAsScoreVolume_warp24_RV4_67hrs_down32_annotationAsScoreVolume/score_volumes/RV14_65hrs_down32_annotationAsScoreVolume_warp24_RV4_67hrs_down32_annotationAsScoreVolume_3N_R.bp\"\n"
     ]
    },
    {
     "name": "stderr",
     "output_type": "stream",
     "text": [
      "[Errno 2] No such file or directory: '/media/yuncong/YuncongPublic/CSHL_volumes/RV14_65hrs/RV14_65hrs_down32_annotationAsScoreVolume_warp24_RV4_67hrs_down32_annotationAsScoreVolume/score_volumes/RV14_65hrs_down32_annotationAsScoreVolume_warp24_RV4_67hrs_down32_annotationAsScoreVolume_3N_R.bp'\n",
      "Score volume for 3N_R does not exist.\n"
     ]
    },
    {
     "name": "stdout",
     "output_type": "stream",
     "text": [
      "rm -rf \"/media/yuncong/YuncongPublic/CSHL_volumes/RV14_65hrs/RV14_65hrs_down32_annotationAsScoreVolume_warp24_RV4_67hrs_down32_annotationAsScoreVolume/score_volumes/RV14_65hrs_down32_annotationAsScoreVolume_warp24_RV4_67hrs_down32_annotationAsScoreVolume_4N_L.bp\" && mkdir -p \"/media/yuncong/YuncongPublic/CSHL_volumes/RV14_65hrs/RV14_65hrs_down32_annotationAsScoreVolume_warp24_RV4_67hrs_down32_annotationAsScoreVolume/score_volumes\"\n",
      "aws s3 cp \"s3://mousebrainatlas-data/CSHL_volumes/RV14_65hrs/RV14_65hrs_down32_annotationAsScoreVolume_warp24_RV4_67hrs_down32_annotationAsScoreVolume/score_volumes/RV14_65hrs_down32_annotationAsScoreVolume_warp24_RV4_67hrs_down32_annotationAsScoreVolume_4N_L.bp\" \"/media/yuncong/YuncongPublic/CSHL_volumes/RV14_65hrs/RV14_65hrs_down32_annotationAsScoreVolume_warp24_RV4_67hrs_down32_annotationAsScoreVolume/score_volumes/RV14_65hrs_down32_annotationAsScoreVolume_warp24_RV4_67hrs_down32_annotationAsScoreVolume_4N_L.bp\"\n"
     ]
    },
    {
     "name": "stderr",
     "output_type": "stream",
     "text": [
      "[Errno 2] No such file or directory: '/media/yuncong/YuncongPublic/CSHL_volumes/RV14_65hrs/RV14_65hrs_down32_annotationAsScoreVolume_warp24_RV4_67hrs_down32_annotationAsScoreVolume/score_volumes/RV14_65hrs_down32_annotationAsScoreVolume_warp24_RV4_67hrs_down32_annotationAsScoreVolume_4N_L.bp'\n",
      "Score volume for 4N_L does not exist.\n"
     ]
    },
    {
     "name": "stdout",
     "output_type": "stream",
     "text": [
      "rm -rf \"/media/yuncong/YuncongPublic/CSHL_volumes/RV14_65hrs/RV14_65hrs_down32_annotationAsScoreVolume_warp24_RV4_67hrs_down32_annotationAsScoreVolume/score_volumes/RV14_65hrs_down32_annotationAsScoreVolume_warp24_RV4_67hrs_down32_annotationAsScoreVolume_4N_R.bp\" && mkdir -p \"/media/yuncong/YuncongPublic/CSHL_volumes/RV14_65hrs/RV14_65hrs_down32_annotationAsScoreVolume_warp24_RV4_67hrs_down32_annotationAsScoreVolume/score_volumes\"\n",
      "aws s3 cp \"s3://mousebrainatlas-data/CSHL_volumes/RV14_65hrs/RV14_65hrs_down32_annotationAsScoreVolume_warp24_RV4_67hrs_down32_annotationAsScoreVolume/score_volumes/RV14_65hrs_down32_annotationAsScoreVolume_warp24_RV4_67hrs_down32_annotationAsScoreVolume_4N_R.bp\" \"/media/yuncong/YuncongPublic/CSHL_volumes/RV14_65hrs/RV14_65hrs_down32_annotationAsScoreVolume_warp24_RV4_67hrs_down32_annotationAsScoreVolume/score_volumes/RV14_65hrs_down32_annotationAsScoreVolume_warp24_RV4_67hrs_down32_annotationAsScoreVolume_4N_R.bp\"\n"
     ]
    },
    {
     "name": "stderr",
     "output_type": "stream",
     "text": [
      "[Errno 2] No such file or directory: '/media/yuncong/YuncongPublic/CSHL_volumes/RV14_65hrs/RV14_65hrs_down32_annotationAsScoreVolume_warp24_RV4_67hrs_down32_annotationAsScoreVolume/score_volumes/RV14_65hrs_down32_annotationAsScoreVolume_warp24_RV4_67hrs_down32_annotationAsScoreVolume_4N_R.bp'\n",
      "Score volume for 4N_R does not exist.\n"
     ]
    },
    {
     "name": "stdout",
     "output_type": "stream",
     "text": [
      "rm -rf \"/media/yuncong/YuncongPublic/CSHL_volumes/RV14_65hrs/RV14_65hrs_down32_annotationAsScoreVolume_warp24_RV4_67hrs_down32_annotationAsScoreVolume/score_volumes/RV14_65hrs_down32_annotationAsScoreVolume_warp24_RV4_67hrs_down32_annotationAsScoreVolume_Sp5I_L.bp\" && mkdir -p \"/media/yuncong/YuncongPublic/CSHL_volumes/RV14_65hrs/RV14_65hrs_down32_annotationAsScoreVolume_warp24_RV4_67hrs_down32_annotationAsScoreVolume/score_volumes\"\n",
      "aws s3 cp \"s3://mousebrainatlas-data/CSHL_volumes/RV14_65hrs/RV14_65hrs_down32_annotationAsScoreVolume_warp24_RV4_67hrs_down32_annotationAsScoreVolume/score_volumes/RV14_65hrs_down32_annotationAsScoreVolume_warp24_RV4_67hrs_down32_annotationAsScoreVolume_Sp5I_L.bp\" \"/media/yuncong/YuncongPublic/CSHL_volumes/RV14_65hrs/RV14_65hrs_down32_annotationAsScoreVolume_warp24_RV4_67hrs_down32_annotationAsScoreVolume/score_volumes/RV14_65hrs_down32_annotationAsScoreVolume_warp24_RV4_67hrs_down32_annotationAsScoreVolume_Sp5I_L.bp\"\n"
     ]
    },
    {
     "name": "stderr",
     "output_type": "stream",
     "text": [
      "[Errno 2] No such file or directory: '/media/yuncong/YuncongPublic/CSHL_volumes/RV14_65hrs/RV14_65hrs_down32_annotationAsScoreVolume_warp24_RV4_67hrs_down32_annotationAsScoreVolume/score_volumes/RV14_65hrs_down32_annotationAsScoreVolume_warp24_RV4_67hrs_down32_annotationAsScoreVolume_Sp5I_L.bp'\n",
      "Score volume for Sp5I_L does not exist.\n"
     ]
    },
    {
     "name": "stdout",
     "output_type": "stream",
     "text": [
      "rm -rf \"/media/yuncong/YuncongPublic/CSHL_volumes/RV14_65hrs/RV14_65hrs_down32_annotationAsScoreVolume_warp24_RV4_67hrs_down32_annotationAsScoreVolume/score_volumes/RV14_65hrs_down32_annotationAsScoreVolume_warp24_RV4_67hrs_down32_annotationAsScoreVolume_Sp5O_L.bp\" && mkdir -p \"/media/yuncong/YuncongPublic/CSHL_volumes/RV14_65hrs/RV14_65hrs_down32_annotationAsScoreVolume_warp24_RV4_67hrs_down32_annotationAsScoreVolume/score_volumes\"\n",
      "aws s3 cp \"s3://mousebrainatlas-data/CSHL_volumes/RV14_65hrs/RV14_65hrs_down32_annotationAsScoreVolume_warp24_RV4_67hrs_down32_annotationAsScoreVolume/score_volumes/RV14_65hrs_down32_annotationAsScoreVolume_warp24_RV4_67hrs_down32_annotationAsScoreVolume_Sp5O_L.bp\" \"/media/yuncong/YuncongPublic/CSHL_volumes/RV14_65hrs/RV14_65hrs_down32_annotationAsScoreVolume_warp24_RV4_67hrs_down32_annotationAsScoreVolume/score_volumes/RV14_65hrs_down32_annotationAsScoreVolume_warp24_RV4_67hrs_down32_annotationAsScoreVolume_Sp5O_L.bp\"\n"
     ]
    },
    {
     "name": "stderr",
     "output_type": "stream",
     "text": [
      "[Errno 2] No such file or directory: '/media/yuncong/YuncongPublic/CSHL_volumes/RV14_65hrs/RV14_65hrs_down32_annotationAsScoreVolume_warp24_RV4_67hrs_down32_annotationAsScoreVolume/score_volumes/RV14_65hrs_down32_annotationAsScoreVolume_warp24_RV4_67hrs_down32_annotationAsScoreVolume_Sp5O_L.bp'\n",
      "Score volume for Sp5O_L does not exist.\n"
     ]
    },
    {
     "name": "stdout",
     "output_type": "stream",
     "text": [
      "rm -rf \"/media/yuncong/YuncongPublic/CSHL_volumes/RV14_65hrs/RV14_65hrs_down32_annotationAsScoreVolume_warp24_RV4_67hrs_down32_annotationAsScoreVolume/score_volumes/RV14_65hrs_down32_annotationAsScoreVolume_warp24_RV4_67hrs_down32_annotationAsScoreVolume_PBG_L.bp\" && mkdir -p \"/media/yuncong/YuncongPublic/CSHL_volumes/RV14_65hrs/RV14_65hrs_down32_annotationAsScoreVolume_warp24_RV4_67hrs_down32_annotationAsScoreVolume/score_volumes\"\n",
      "aws s3 cp \"s3://mousebrainatlas-data/CSHL_volumes/RV14_65hrs/RV14_65hrs_down32_annotationAsScoreVolume_warp24_RV4_67hrs_down32_annotationAsScoreVolume/score_volumes/RV14_65hrs_down32_annotationAsScoreVolume_warp24_RV4_67hrs_down32_annotationAsScoreVolume_PBG_L.bp\" \"/media/yuncong/YuncongPublic/CSHL_volumes/RV14_65hrs/RV14_65hrs_down32_annotationAsScoreVolume_warp24_RV4_67hrs_down32_annotationAsScoreVolume/score_volumes/RV14_65hrs_down32_annotationAsScoreVolume_warp24_RV4_67hrs_down32_annotationAsScoreVolume_PBG_L.bp\"\n"
     ]
    },
    {
     "name": "stderr",
     "output_type": "stream",
     "text": [
      "[Errno 2] No such file or directory: '/media/yuncong/YuncongPublic/CSHL_volumes/RV14_65hrs/RV14_65hrs_down32_annotationAsScoreVolume_warp24_RV4_67hrs_down32_annotationAsScoreVolume/score_volumes/RV14_65hrs_down32_annotationAsScoreVolume_warp24_RV4_67hrs_down32_annotationAsScoreVolume_PBG_L.bp'\n",
      "Score volume for PBG_L does not exist.\n"
     ]
    },
    {
     "name": "stdout",
     "output_type": "stream",
     "text": [
      "rm -rf \"/media/yuncong/YuncongPublic/CSHL_volumes/RV14_65hrs/RV14_65hrs_down32_annotationAsScoreVolume_warp24_RV4_67hrs_down32_annotationAsScoreVolume/score_volumes/RV14_65hrs_down32_annotationAsScoreVolume_warp24_RV4_67hrs_down32_annotationAsScoreVolume_PBG_R.bp\" && mkdir -p \"/media/yuncong/YuncongPublic/CSHL_volumes/RV14_65hrs/RV14_65hrs_down32_annotationAsScoreVolume_warp24_RV4_67hrs_down32_annotationAsScoreVolume/score_volumes\"\n",
      "aws s3 cp \"s3://mousebrainatlas-data/CSHL_volumes/RV14_65hrs/RV14_65hrs_down32_annotationAsScoreVolume_warp24_RV4_67hrs_down32_annotationAsScoreVolume/score_volumes/RV14_65hrs_down32_annotationAsScoreVolume_warp24_RV4_67hrs_down32_annotationAsScoreVolume_PBG_R.bp\" \"/media/yuncong/YuncongPublic/CSHL_volumes/RV14_65hrs/RV14_65hrs_down32_annotationAsScoreVolume_warp24_RV4_67hrs_down32_annotationAsScoreVolume/score_volumes/RV14_65hrs_down32_annotationAsScoreVolume_warp24_RV4_67hrs_down32_annotationAsScoreVolume_PBG_R.bp\"\n"
     ]
    },
    {
     "name": "stderr",
     "output_type": "stream",
     "text": [
      "[Errno 2] No such file or directory: '/media/yuncong/YuncongPublic/CSHL_volumes/RV14_65hrs/RV14_65hrs_down32_annotationAsScoreVolume_warp24_RV4_67hrs_down32_annotationAsScoreVolume/score_volumes/RV14_65hrs_down32_annotationAsScoreVolume_warp24_RV4_67hrs_down32_annotationAsScoreVolume_PBG_R.bp'\n",
      "Score volume for PBG_R does not exist.\n"
     ]
    },
    {
     "name": "stdout",
     "output_type": "stream",
     "text": [
      "rm -rf \"/media/yuncong/YuncongPublic/CSHL_volumes/RV14_65hrs/RV14_65hrs_down32_annotationAsScoreVolume_warp24_RV4_67hrs_down32_annotationAsScoreVolume/score_volumes/RV14_65hrs_down32_annotationAsScoreVolume_warp24_RV4_67hrs_down32_annotationAsScoreVolume_10N_L.bp\" && mkdir -p \"/media/yuncong/YuncongPublic/CSHL_volumes/RV14_65hrs/RV14_65hrs_down32_annotationAsScoreVolume_warp24_RV4_67hrs_down32_annotationAsScoreVolume/score_volumes\"\n",
      "aws s3 cp \"s3://mousebrainatlas-data/CSHL_volumes/RV14_65hrs/RV14_65hrs_down32_annotationAsScoreVolume_warp24_RV4_67hrs_down32_annotationAsScoreVolume/score_volumes/RV14_65hrs_down32_annotationAsScoreVolume_warp24_RV4_67hrs_down32_annotationAsScoreVolume_10N_L.bp\" \"/media/yuncong/YuncongPublic/CSHL_volumes/RV14_65hrs/RV14_65hrs_down32_annotationAsScoreVolume_warp24_RV4_67hrs_down32_annotationAsScoreVolume/score_volumes/RV14_65hrs_down32_annotationAsScoreVolume_warp24_RV4_67hrs_down32_annotationAsScoreVolume_10N_L.bp\"\n"
     ]
    },
    {
     "name": "stderr",
     "output_type": "stream",
     "text": [
      "[Errno 2] No such file or directory: '/media/yuncong/YuncongPublic/CSHL_volumes/RV14_65hrs/RV14_65hrs_down32_annotationAsScoreVolume_warp24_RV4_67hrs_down32_annotationAsScoreVolume/score_volumes/RV14_65hrs_down32_annotationAsScoreVolume_warp24_RV4_67hrs_down32_annotationAsScoreVolume_10N_L.bp'\n",
      "Score volume for 10N_L does not exist.\n"
     ]
    },
    {
     "name": "stdout",
     "output_type": "stream",
     "text": [
      "rm -rf \"/media/yuncong/YuncongPublic/CSHL_volumes/RV14_65hrs/RV14_65hrs_down32_annotationAsScoreVolume_warp24_RV4_67hrs_down32_annotationAsScoreVolume/score_volumes/RV14_65hrs_down32_annotationAsScoreVolume_warp24_RV4_67hrs_down32_annotationAsScoreVolume_10N_R.bp\" && mkdir -p \"/media/yuncong/YuncongPublic/CSHL_volumes/RV14_65hrs/RV14_65hrs_down32_annotationAsScoreVolume_warp24_RV4_67hrs_down32_annotationAsScoreVolume/score_volumes\"\n",
      "aws s3 cp \"s3://mousebrainatlas-data/CSHL_volumes/RV14_65hrs/RV14_65hrs_down32_annotationAsScoreVolume_warp24_RV4_67hrs_down32_annotationAsScoreVolume/score_volumes/RV14_65hrs_down32_annotationAsScoreVolume_warp24_RV4_67hrs_down32_annotationAsScoreVolume_10N_R.bp\" \"/media/yuncong/YuncongPublic/CSHL_volumes/RV14_65hrs/RV14_65hrs_down32_annotationAsScoreVolume_warp24_RV4_67hrs_down32_annotationAsScoreVolume/score_volumes/RV14_65hrs_down32_annotationAsScoreVolume_warp24_RV4_67hrs_down32_annotationAsScoreVolume_10N_R.bp\"\n"
     ]
    },
    {
     "name": "stderr",
     "output_type": "stream",
     "text": [
      "[Errno 2] No such file or directory: '/media/yuncong/YuncongPublic/CSHL_volumes/RV14_65hrs/RV14_65hrs_down32_annotationAsScoreVolume_warp24_RV4_67hrs_down32_annotationAsScoreVolume/score_volumes/RV14_65hrs_down32_annotationAsScoreVolume_warp24_RV4_67hrs_down32_annotationAsScoreVolume_10N_R.bp'\n",
      "Score volume for 10N_R does not exist.\n"
     ]
    },
    {
     "name": "stdout",
     "output_type": "stream",
     "text": [
      "rm -rf \"/media/yuncong/YuncongPublic/CSHL_volumes/RV14_65hrs/RV14_65hrs_down32_annotationAsScoreVolume_warp24_RV4_67hrs_down32_annotationAsScoreVolume/score_volumes/RV14_65hrs_down32_annotationAsScoreVolume_warp24_RV4_67hrs_down32_annotationAsScoreVolume_VCA_L.bp\" && mkdir -p \"/media/yuncong/YuncongPublic/CSHL_volumes/RV14_65hrs/RV14_65hrs_down32_annotationAsScoreVolume_warp24_RV4_67hrs_down32_annotationAsScoreVolume/score_volumes\"\n",
      "aws s3 cp \"s3://mousebrainatlas-data/CSHL_volumes/RV14_65hrs/RV14_65hrs_down32_annotationAsScoreVolume_warp24_RV4_67hrs_down32_annotationAsScoreVolume/score_volumes/RV14_65hrs_down32_annotationAsScoreVolume_warp24_RV4_67hrs_down32_annotationAsScoreVolume_VCA_L.bp\" \"/media/yuncong/YuncongPublic/CSHL_volumes/RV14_65hrs/RV14_65hrs_down32_annotationAsScoreVolume_warp24_RV4_67hrs_down32_annotationAsScoreVolume/score_volumes/RV14_65hrs_down32_annotationAsScoreVolume_warp24_RV4_67hrs_down32_annotationAsScoreVolume_VCA_L.bp\"\n"
     ]
    },
    {
     "name": "stderr",
     "output_type": "stream",
     "text": [
      "[Errno 2] No such file or directory: '/media/yuncong/YuncongPublic/CSHL_volumes/RV14_65hrs/RV14_65hrs_down32_annotationAsScoreVolume_warp24_RV4_67hrs_down32_annotationAsScoreVolume/score_volumes/RV14_65hrs_down32_annotationAsScoreVolume_warp24_RV4_67hrs_down32_annotationAsScoreVolume_VCA_L.bp'\n",
      "Score volume for VCA_L does not exist.\n"
     ]
    },
    {
     "name": "stdout",
     "output_type": "stream",
     "text": [
      "rm -rf \"/media/yuncong/YuncongPublic/CSHL_volumes/RV14_65hrs/RV14_65hrs_down32_annotationAsScoreVolume_warp24_RV4_67hrs_down32_annotationAsScoreVolume/score_volumes/RV14_65hrs_down32_annotationAsScoreVolume_warp24_RV4_67hrs_down32_annotationAsScoreVolume_VCA_R.bp\" && mkdir -p \"/media/yuncong/YuncongPublic/CSHL_volumes/RV14_65hrs/RV14_65hrs_down32_annotationAsScoreVolume_warp24_RV4_67hrs_down32_annotationAsScoreVolume/score_volumes\"\n",
      "aws s3 cp \"s3://mousebrainatlas-data/CSHL_volumes/RV14_65hrs/RV14_65hrs_down32_annotationAsScoreVolume_warp24_RV4_67hrs_down32_annotationAsScoreVolume/score_volumes/RV14_65hrs_down32_annotationAsScoreVolume_warp24_RV4_67hrs_down32_annotationAsScoreVolume_VCA_R.bp\" \"/media/yuncong/YuncongPublic/CSHL_volumes/RV14_65hrs/RV14_65hrs_down32_annotationAsScoreVolume_warp24_RV4_67hrs_down32_annotationAsScoreVolume/score_volumes/RV14_65hrs_down32_annotationAsScoreVolume_warp24_RV4_67hrs_down32_annotationAsScoreVolume_VCA_R.bp\"\n"
     ]
    },
    {
     "name": "stderr",
     "output_type": "stream",
     "text": [
      "[Errno 2] No such file or directory: '/media/yuncong/YuncongPublic/CSHL_volumes/RV14_65hrs/RV14_65hrs_down32_annotationAsScoreVolume_warp24_RV4_67hrs_down32_annotationAsScoreVolume/score_volumes/RV14_65hrs_down32_annotationAsScoreVolume_warp24_RV4_67hrs_down32_annotationAsScoreVolume_VCA_R.bp'\n",
      "Score volume for VCA_R does not exist.\n"
     ]
    },
    {
     "name": "stdout",
     "output_type": "stream",
     "text": [
      "rm -rf \"/media/yuncong/YuncongPublic/CSHL_volumes/RV14_65hrs/RV14_65hrs_down32_annotationAsScoreVolume_warp24_RV4_67hrs_down32_annotationAsScoreVolume/score_volumes/RV14_65hrs_down32_annotationAsScoreVolume_warp24_RV4_67hrs_down32_annotationAsScoreVolume_VCP_L.bp\" && mkdir -p \"/media/yuncong/YuncongPublic/CSHL_volumes/RV14_65hrs/RV14_65hrs_down32_annotationAsScoreVolume_warp24_RV4_67hrs_down32_annotationAsScoreVolume/score_volumes\"\n",
      "aws s3 cp \"s3://mousebrainatlas-data/CSHL_volumes/RV14_65hrs/RV14_65hrs_down32_annotationAsScoreVolume_warp24_RV4_67hrs_down32_annotationAsScoreVolume/score_volumes/RV14_65hrs_down32_annotationAsScoreVolume_warp24_RV4_67hrs_down32_annotationAsScoreVolume_VCP_L.bp\" \"/media/yuncong/YuncongPublic/CSHL_volumes/RV14_65hrs/RV14_65hrs_down32_annotationAsScoreVolume_warp24_RV4_67hrs_down32_annotationAsScoreVolume/score_volumes/RV14_65hrs_down32_annotationAsScoreVolume_warp24_RV4_67hrs_down32_annotationAsScoreVolume_VCP_L.bp\"\n"
     ]
    },
    {
     "name": "stderr",
     "output_type": "stream",
     "text": [
      "[Errno 2] No such file or directory: '/media/yuncong/YuncongPublic/CSHL_volumes/RV14_65hrs/RV14_65hrs_down32_annotationAsScoreVolume_warp24_RV4_67hrs_down32_annotationAsScoreVolume/score_volumes/RV14_65hrs_down32_annotationAsScoreVolume_warp24_RV4_67hrs_down32_annotationAsScoreVolume_VCP_L.bp'\n",
      "Score volume for VCP_L does not exist.\n"
     ]
    },
    {
     "name": "stdout",
     "output_type": "stream",
     "text": [
      "rm -rf \"/media/yuncong/YuncongPublic/CSHL_volumes/RV14_65hrs/RV14_65hrs_down32_annotationAsScoreVolume_warp24_RV4_67hrs_down32_annotationAsScoreVolume/score_volumes/RV14_65hrs_down32_annotationAsScoreVolume_warp24_RV4_67hrs_down32_annotationAsScoreVolume_VCP_R.bp\" && mkdir -p \"/media/yuncong/YuncongPublic/CSHL_volumes/RV14_65hrs/RV14_65hrs_down32_annotationAsScoreVolume_warp24_RV4_67hrs_down32_annotationAsScoreVolume/score_volumes\"\n",
      "aws s3 cp \"s3://mousebrainatlas-data/CSHL_volumes/RV14_65hrs/RV14_65hrs_down32_annotationAsScoreVolume_warp24_RV4_67hrs_down32_annotationAsScoreVolume/score_volumes/RV14_65hrs_down32_annotationAsScoreVolume_warp24_RV4_67hrs_down32_annotationAsScoreVolume_VCP_R.bp\" \"/media/yuncong/YuncongPublic/CSHL_volumes/RV14_65hrs/RV14_65hrs_down32_annotationAsScoreVolume_warp24_RV4_67hrs_down32_annotationAsScoreVolume/score_volumes/RV14_65hrs_down32_annotationAsScoreVolume_warp24_RV4_67hrs_down32_annotationAsScoreVolume_VCP_R.bp\"\n"
     ]
    },
    {
     "name": "stderr",
     "output_type": "stream",
     "text": [
      "[Errno 2] No such file or directory: '/media/yuncong/YuncongPublic/CSHL_volumes/RV14_65hrs/RV14_65hrs_down32_annotationAsScoreVolume_warp24_RV4_67hrs_down32_annotationAsScoreVolume/score_volumes/RV14_65hrs_down32_annotationAsScoreVolume_warp24_RV4_67hrs_down32_annotationAsScoreVolume_VCP_R.bp'\n",
      "Score volume for VCP_R does not exist.\n"
     ]
    },
    {
     "name": "stdout",
     "output_type": "stream",
     "text": [
      "rm -rf \"/media/yuncong/YuncongPublic/CSHL_volumes/RV14_65hrs/RV14_65hrs_down32_annotationAsScoreVolume_warp24_RV4_67hrs_down32_annotationAsScoreVolume/score_volumes/RV14_65hrs_down32_annotationAsScoreVolume_warp24_RV4_67hrs_down32_annotationAsScoreVolume_DC_L.bp\" && mkdir -p \"/media/yuncong/YuncongPublic/CSHL_volumes/RV14_65hrs/RV14_65hrs_down32_annotationAsScoreVolume_warp24_RV4_67hrs_down32_annotationAsScoreVolume/score_volumes\"\n",
      "aws s3 cp \"s3://mousebrainatlas-data/CSHL_volumes/RV14_65hrs/RV14_65hrs_down32_annotationAsScoreVolume_warp24_RV4_67hrs_down32_annotationAsScoreVolume/score_volumes/RV14_65hrs_down32_annotationAsScoreVolume_warp24_RV4_67hrs_down32_annotationAsScoreVolume_DC_L.bp\" \"/media/yuncong/YuncongPublic/CSHL_volumes/RV14_65hrs/RV14_65hrs_down32_annotationAsScoreVolume_warp24_RV4_67hrs_down32_annotationAsScoreVolume/score_volumes/RV14_65hrs_down32_annotationAsScoreVolume_warp24_RV4_67hrs_down32_annotationAsScoreVolume_DC_L.bp\"\n"
     ]
    },
    {
     "name": "stderr",
     "output_type": "stream",
     "text": [
      "[Errno 2] No such file or directory: '/media/yuncong/YuncongPublic/CSHL_volumes/RV14_65hrs/RV14_65hrs_down32_annotationAsScoreVolume_warp24_RV4_67hrs_down32_annotationAsScoreVolume/score_volumes/RV14_65hrs_down32_annotationAsScoreVolume_warp24_RV4_67hrs_down32_annotationAsScoreVolume_DC_L.bp'\n",
      "Score volume for DC_L does not exist.\n"
     ]
    },
    {
     "name": "stdout",
     "output_type": "stream",
     "text": [
      "rm -rf \"/media/yuncong/YuncongPublic/CSHL_volumes/RV14_65hrs/RV14_65hrs_down32_annotationAsScoreVolume_warp24_RV4_67hrs_down32_annotationAsScoreVolume/score_volumes/RV14_65hrs_down32_annotationAsScoreVolume_warp24_RV4_67hrs_down32_annotationAsScoreVolume_DC_R.bp\" && mkdir -p \"/media/yuncong/YuncongPublic/CSHL_volumes/RV14_65hrs/RV14_65hrs_down32_annotationAsScoreVolume_warp24_RV4_67hrs_down32_annotationAsScoreVolume/score_volumes\"\n",
      "aws s3 cp \"s3://mousebrainatlas-data/CSHL_volumes/RV14_65hrs/RV14_65hrs_down32_annotationAsScoreVolume_warp24_RV4_67hrs_down32_annotationAsScoreVolume/score_volumes/RV14_65hrs_down32_annotationAsScoreVolume_warp24_RV4_67hrs_down32_annotationAsScoreVolume_DC_R.bp\" \"/media/yuncong/YuncongPublic/CSHL_volumes/RV14_65hrs/RV14_65hrs_down32_annotationAsScoreVolume_warp24_RV4_67hrs_down32_annotationAsScoreVolume/score_volumes/RV14_65hrs_down32_annotationAsScoreVolume_warp24_RV4_67hrs_down32_annotationAsScoreVolume_DC_R.bp\"\n"
     ]
    },
    {
     "name": "stderr",
     "output_type": "stream",
     "text": [
      "[Errno 2] No such file or directory: '/media/yuncong/YuncongPublic/CSHL_volumes/RV14_65hrs/RV14_65hrs_down32_annotationAsScoreVolume_warp24_RV4_67hrs_down32_annotationAsScoreVolume/score_volumes/RV14_65hrs_down32_annotationAsScoreVolume_warp24_RV4_67hrs_down32_annotationAsScoreVolume_DC_R.bp'\n",
      "Score volume for DC_R does not exist.\n"
     ]
    },
    {
     "name": "stdout",
     "output_type": "stream",
     "text": [
      "rm -rf \"/media/yuncong/YuncongPublic/CSHL_volumes/RV14_65hrs/RV14_65hrs_down32_annotationAsScoreVolume_warp24_RV4_67hrs_down32_annotationAsScoreVolume/score_volumes/RV14_65hrs_down32_annotationAsScoreVolume_warp24_RV4_67hrs_down32_annotationAsScoreVolume_AP.bp\" && mkdir -p \"/media/yuncong/YuncongPublic/CSHL_volumes/RV14_65hrs/RV14_65hrs_down32_annotationAsScoreVolume_warp24_RV4_67hrs_down32_annotationAsScoreVolume/score_volumes\"\n",
      "aws s3 cp \"s3://mousebrainatlas-data/CSHL_volumes/RV14_65hrs/RV14_65hrs_down32_annotationAsScoreVolume_warp24_RV4_67hrs_down32_annotationAsScoreVolume/score_volumes/RV14_65hrs_down32_annotationAsScoreVolume_warp24_RV4_67hrs_down32_annotationAsScoreVolume_AP.bp\" \"/media/yuncong/YuncongPublic/CSHL_volumes/RV14_65hrs/RV14_65hrs_down32_annotationAsScoreVolume_warp24_RV4_67hrs_down32_annotationAsScoreVolume/score_volumes/RV14_65hrs_down32_annotationAsScoreVolume_warp24_RV4_67hrs_down32_annotationAsScoreVolume_AP.bp\"\n"
     ]
    },
    {
     "name": "stderr",
     "output_type": "stream",
     "text": [
      "[Errno 2] No such file or directory: '/media/yuncong/YuncongPublic/CSHL_volumes/RV14_65hrs/RV14_65hrs_down32_annotationAsScoreVolume_warp24_RV4_67hrs_down32_annotationAsScoreVolume/score_volumes/RV14_65hrs_down32_annotationAsScoreVolume_warp24_RV4_67hrs_down32_annotationAsScoreVolume_AP.bp'\n",
      "Score volume for AP does not exist.\n"
     ]
    },
    {
     "name": "stdout",
     "output_type": "stream",
     "text": [
      "rm -rf \"/media/yuncong/YuncongPublic/CSHL_volumes/RV14_65hrs/RV14_65hrs_down32_annotationAsScoreVolume_warp24_RV4_67hrs_down32_annotationAsScoreVolume/score_volumes/RV14_65hrs_down32_annotationAsScoreVolume_warp24_RV4_67hrs_down32_annotationAsScoreVolume_12N.bp\" && mkdir -p \"/media/yuncong/YuncongPublic/CSHL_volumes/RV14_65hrs/RV14_65hrs_down32_annotationAsScoreVolume_warp24_RV4_67hrs_down32_annotationAsScoreVolume/score_volumes\"\n",
      "aws s3 cp \"s3://mousebrainatlas-data/CSHL_volumes/RV14_65hrs/RV14_65hrs_down32_annotationAsScoreVolume_warp24_RV4_67hrs_down32_annotationAsScoreVolume/score_volumes/RV14_65hrs_down32_annotationAsScoreVolume_warp24_RV4_67hrs_down32_annotationAsScoreVolume_12N.bp\" \"/media/yuncong/YuncongPublic/CSHL_volumes/RV14_65hrs/RV14_65hrs_down32_annotationAsScoreVolume_warp24_RV4_67hrs_down32_annotationAsScoreVolume/score_volumes/RV14_65hrs_down32_annotationAsScoreVolume_warp24_RV4_67hrs_down32_annotationAsScoreVolume_12N.bp\"\n"
     ]
    },
    {
     "name": "stderr",
     "output_type": "stream",
     "text": [
      "[Errno 2] No such file or directory: '/media/yuncong/YuncongPublic/CSHL_volumes/RV14_65hrs/RV14_65hrs_down32_annotationAsScoreVolume_warp24_RV4_67hrs_down32_annotationAsScoreVolume/score_volumes/RV14_65hrs_down32_annotationAsScoreVolume_warp24_RV4_67hrs_down32_annotationAsScoreVolume_12N.bp'\n",
      "Score volume for 12N does not exist.\n"
     ]
    },
    {
     "name": "stdout",
     "output_type": "stream",
     "text": [
      "rm -rf \"/media/yuncong/YuncongPublic/CSHL_volumes/RV14_65hrs/RV14_65hrs_down32_annotationAsScoreVolume_warp24_RV4_67hrs_down32_annotationAsScoreVolume/score_volumes/RV14_65hrs_down32_annotationAsScoreVolume_warp24_RV4_67hrs_down32_annotationAsScoreVolume_RtTg.bp\" && mkdir -p \"/media/yuncong/YuncongPublic/CSHL_volumes/RV14_65hrs/RV14_65hrs_down32_annotationAsScoreVolume_warp24_RV4_67hrs_down32_annotationAsScoreVolume/score_volumes\"\n",
      "aws s3 cp \"s3://mousebrainatlas-data/CSHL_volumes/RV14_65hrs/RV14_65hrs_down32_annotationAsScoreVolume_warp24_RV4_67hrs_down32_annotationAsScoreVolume/score_volumes/RV14_65hrs_down32_annotationAsScoreVolume_warp24_RV4_67hrs_down32_annotationAsScoreVolume_RtTg.bp\" \"/media/yuncong/YuncongPublic/CSHL_volumes/RV14_65hrs/RV14_65hrs_down32_annotationAsScoreVolume_warp24_RV4_67hrs_down32_annotationAsScoreVolume/score_volumes/RV14_65hrs_down32_annotationAsScoreVolume_warp24_RV4_67hrs_down32_annotationAsScoreVolume_RtTg.bp\"\n"
     ]
    },
    {
     "name": "stderr",
     "output_type": "stream",
     "text": [
      "[Errno 2] No such file or directory: '/media/yuncong/YuncongPublic/CSHL_volumes/RV14_65hrs/RV14_65hrs_down32_annotationAsScoreVolume_warp24_RV4_67hrs_down32_annotationAsScoreVolume/score_volumes/RV14_65hrs_down32_annotationAsScoreVolume_warp24_RV4_67hrs_down32_annotationAsScoreVolume_RtTg.bp'\n",
      "Score volume for RtTg does not exist.\n"
     ]
    },
    {
     "name": "stdout",
     "output_type": "stream",
     "text": [
      "rm -rf \"/media/yuncong/YuncongPublic/CSHL_volumes/RV14_65hrs/RV14_65hrs_down32_annotationAsScoreVolume_warp24_RV4_67hrs_down32_annotationAsScoreVolume/score_volumes/RV14_65hrs_down32_annotationAsScoreVolume_warp24_RV4_67hrs_down32_annotationAsScoreVolume_SC.bp\" && mkdir -p \"/media/yuncong/YuncongPublic/CSHL_volumes/RV14_65hrs/RV14_65hrs_down32_annotationAsScoreVolume_warp24_RV4_67hrs_down32_annotationAsScoreVolume/score_volumes\"\n",
      "aws s3 cp \"s3://mousebrainatlas-data/CSHL_volumes/RV14_65hrs/RV14_65hrs_down32_annotationAsScoreVolume_warp24_RV4_67hrs_down32_annotationAsScoreVolume/score_volumes/RV14_65hrs_down32_annotationAsScoreVolume_warp24_RV4_67hrs_down32_annotationAsScoreVolume_SC.bp\" \"/media/yuncong/YuncongPublic/CSHL_volumes/RV14_65hrs/RV14_65hrs_down32_annotationAsScoreVolume_warp24_RV4_67hrs_down32_annotationAsScoreVolume/score_volumes/RV14_65hrs_down32_annotationAsScoreVolume_warp24_RV4_67hrs_down32_annotationAsScoreVolume_SC.bp\"\n"
     ]
    },
    {
     "name": "stderr",
     "output_type": "stream",
     "text": [
      "[Errno 2] No such file or directory: '/media/yuncong/YuncongPublic/CSHL_volumes/RV14_65hrs/RV14_65hrs_down32_annotationAsScoreVolume_warp24_RV4_67hrs_down32_annotationAsScoreVolume/score_volumes/RV14_65hrs_down32_annotationAsScoreVolume_warp24_RV4_67hrs_down32_annotationAsScoreVolume_SC.bp'\n",
      "Score volume for SC does not exist.\n"
     ]
    },
    {
     "name": "stdout",
     "output_type": "stream",
     "text": [
      "rm -rf \"/media/yuncong/YuncongPublic/CSHL_volumes/RV14_65hrs/RV14_65hrs_down32_annotationAsScoreVolume_warp24_RV4_67hrs_down32_annotationAsScoreVolume/score_volumes/RV14_65hrs_down32_annotationAsScoreVolume_warp24_RV4_67hrs_down32_annotationAsScoreVolume_IC.bp\" && mkdir -p \"/media/yuncong/YuncongPublic/CSHL_volumes/RV14_65hrs/RV14_65hrs_down32_annotationAsScoreVolume_warp24_RV4_67hrs_down32_annotationAsScoreVolume/score_volumes\"\n",
      "aws s3 cp \"s3://mousebrainatlas-data/CSHL_volumes/RV14_65hrs/RV14_65hrs_down32_annotationAsScoreVolume_warp24_RV4_67hrs_down32_annotationAsScoreVolume/score_volumes/RV14_65hrs_down32_annotationAsScoreVolume_warp24_RV4_67hrs_down32_annotationAsScoreVolume_IC.bp\" \"/media/yuncong/YuncongPublic/CSHL_volumes/RV14_65hrs/RV14_65hrs_down32_annotationAsScoreVolume_warp24_RV4_67hrs_down32_annotationAsScoreVolume/score_volumes/RV14_65hrs_down32_annotationAsScoreVolume_warp24_RV4_67hrs_down32_annotationAsScoreVolume_IC.bp\"\n"
     ]
    },
    {
     "name": "stderr",
     "output_type": "stream",
     "text": [
      "[Errno 2] No such file or directory: '/media/yuncong/YuncongPublic/CSHL_volumes/RV14_65hrs/RV14_65hrs_down32_annotationAsScoreVolume_warp24_RV4_67hrs_down32_annotationAsScoreVolume/score_volumes/RV14_65hrs_down32_annotationAsScoreVolume_warp24_RV4_67hrs_down32_annotationAsScoreVolume_IC.bp'\n",
      "Score volume for IC does not exist.\n",
      "marching cube: 0.15 seconds\n"
     ]
    },
    {
     "name": "stdout",
     "output_type": "stream",
     "text": [
      "['LRt_R', 'Sp5O_R', 'Sp5C_L', '7N_L', '5N_L', '7N_R', '7n_L', '5N_R', 'Sp5I_R', 'Sp5C_R', '7n_R', 'LRt_L']\n"
     ]
    },
    {
     "name": "stderr",
     "output_type": "stream",
     "text": [
      "mesh_to_polydata: 0.06 seconds\n",
      "simplify 0 @ 49833: 0.54 seconds\n",
      "simplify 1 @ 9961: 0.51 seconds\n",
      "simplify 2 @ 1989: 0.10 seconds\n",
      "marching cube: 0.03 seconds\n",
      "mesh_to_polydata: 0.02 seconds\n",
      "simplify 0 @ 10868: 0.15 seconds\n",
      "simplify 1 @ 2175: 0.08 seconds\n",
      "simplify 2 @ 436: 0.02 seconds\n",
      "marching cube: 0.33 seconds\n",
      "mesh_to_polydata: 0.10 seconds\n",
      "simplify 0 @ 72166: 0.92 seconds\n",
      "simplify 1 @ 14420: 0.83 seconds\n",
      "simplify 2 @ 2880: 0.16 seconds\n",
      "marching cube: 0.10 seconds\n",
      "mesh_to_polydata: 0.06 seconds\n",
      "simplify 0 @ 44609: 0.48 seconds\n",
      "simplify 1 @ 8920: 0.47 seconds\n",
      "simplify 2 @ 1786: 0.09 seconds\n",
      "marching cube: 0.06 seconds\n",
      "mesh_to_polydata: 0.04 seconds\n",
      "simplify 0 @ 24663: 0.28 seconds\n",
      "simplify 1 @ 4927: 0.24 seconds\n",
      "simplify 2 @ 986: 0.06 seconds\n",
      "marching cube: 0.13 seconds\n",
      "mesh_to_polydata: 0.08 seconds\n",
      "simplify 0 @ 47026: 0.94 seconds\n",
      "simplify 1 @ 9398: 0.81 seconds\n",
      "simplify 2 @ 1880: 0.17 seconds\n",
      "marching cube: 0.93 seconds\n",
      "mesh_to_polydata: 0.10 seconds\n",
      "simplify 0 @ 39189: 0.75 seconds\n",
      "simplify 1 @ 7831: 0.49 seconds\n",
      "simplify 2 @ 1566: 0.10 seconds\n",
      "marching cube: 0.09 seconds\n",
      "mesh_to_polydata: 0.04 seconds\n",
      "simplify 0 @ 23431: 0.33 seconds\n",
      "simplify 1 @ 4684: 0.27 seconds\n",
      "simplify 2 @ 935: 0.06 seconds\n",
      "marching cube: 0.10 seconds\n",
      "mesh_to_polydata: 0.06 seconds\n",
      "simplify 0 @ 24276: 0.50 seconds\n",
      "simplify 1 @ 4856: 0.25 seconds\n",
      "simplify 2 @ 971: 0.05 seconds\n",
      "marching cube: 0.26 seconds\n",
      "mesh_to_polydata: 0.08 seconds\n",
      "simplify 0 @ 49963: 0.77 seconds\n",
      "simplify 1 @ 9982: 0.58 seconds\n",
      "simplify 2 @ 1991: 0.10 seconds\n",
      "marching cube: 0.40 seconds\n",
      "mesh_to_polydata: 0.06 seconds\n",
      "simplify 0 @ 44125: 0.52 seconds\n",
      "simplify 1 @ 8818: 0.46 seconds\n",
      "simplify 2 @ 1765: 0.09 seconds\n",
      "marching cube: 0.14 seconds\n",
      "mesh_to_polydata: 0.07 seconds\n",
      "simplify 0 @ 49617: 0.64 seconds\n",
      "simplify 1 @ 9895: 0.54 seconds\n",
      "simplify 2 @ 1977: 0.10 seconds\n",
      "Prior structure/index map not found. Generating a new one.\n"
     ]
    },
    {
     "name": "stdout",
     "output_type": "stream",
     "text": [
      "RV13_64hrs\n",
      "rm -rf \"/media/yuncong/YuncongPublic/CSHL_volumes/RV13_64hrs/RV13_64hrs_down32_annotationAsScoreVolume_warp24_RV4_67hrs_down32_annotationAsScoreVolume/score_volumes/RV13_64hrs_down32_annotationAsScoreVolume_warp24_RV4_67hrs_down32_annotationAsScoreVolume_5N_L.bp\" && mkdir -p \"/media/yuncong/YuncongPublic/CSHL_volumes/RV13_64hrs/RV13_64hrs_down32_annotationAsScoreVolume_warp24_RV4_67hrs_down32_annotationAsScoreVolume/score_volumes\"\n",
      "aws s3 cp \"s3://mousebrainatlas-data/CSHL_volumes/RV13_64hrs/RV13_64hrs_down32_annotationAsScoreVolume_warp24_RV4_67hrs_down32_annotationAsScoreVolume/score_volumes/RV13_64hrs_down32_annotationAsScoreVolume_warp24_RV4_67hrs_down32_annotationAsScoreVolume_5N_L.bp\" \"/media/yuncong/YuncongPublic/CSHL_volumes/RV13_64hrs/RV13_64hrs_down32_annotationAsScoreVolume_warp24_RV4_67hrs_down32_annotationAsScoreVolume/score_volumes/RV13_64hrs_down32_annotationAsScoreVolume_warp24_RV4_67hrs_down32_annotationAsScoreVolume_5N_L.bp\"\n",
      "rm -rf \"/media/yuncong/YuncongPublic/CSHL_volumes/RV13_64hrs/RV13_64hrs_down32_annotationAsScoreVolume_warp24_RV4_67hrs_down32_annotationAsScoreVolume/score_volumes/RV13_64hrs_down32_annotationAsScoreVolume_warp24_RV4_67hrs_down32_annotationAsScoreVolume_5N_L_bbox.txt\" && mkdir -p \"/media/yuncong/YuncongPublic/CSHL_volumes/RV13_64hrs/RV13_64hrs_down32_annotationAsScoreVolume_warp24_RV4_67hrs_down32_annotationAsScoreVolume/score_volumes\"\n",
      "aws s3 cp \"s3://mousebrainatlas-data/CSHL_volumes/RV13_64hrs/RV13_64hrs_down32_annotationAsScoreVolume_warp24_RV4_67hrs_down32_annotationAsScoreVolume/score_volumes/RV13_64hrs_down32_annotationAsScoreVolume_warp24_RV4_67hrs_down32_annotationAsScoreVolume_5N_L_bbox.txt\" \"/media/yuncong/YuncongPublic/CSHL_volumes/RV13_64hrs/RV13_64hrs_down32_annotationAsScoreVolume_warp24_RV4_67hrs_down32_annotationAsScoreVolume/score_volumes/RV13_64hrs_down32_annotationAsScoreVolume_warp24_RV4_67hrs_down32_annotationAsScoreVolume_5N_L_bbox.txt\"\n",
      "rm -rf \"/media/yuncong/YuncongPublic/CSHL_volumes/RV13_64hrs/RV13_64hrs_down32_annotationAsScoreVolume_warp24_RV4_67hrs_down32_annotationAsScoreVolume/score_volumes/RV13_64hrs_down32_annotationAsScoreVolume_warp24_RV4_67hrs_down32_annotationAsScoreVolume_5N_R.bp\" && mkdir -p \"/media/yuncong/YuncongPublic/CSHL_volumes/RV13_64hrs/RV13_64hrs_down32_annotationAsScoreVolume_warp24_RV4_67hrs_down32_annotationAsScoreVolume/score_volumes\"\n",
      "aws s3 cp \"s3://mousebrainatlas-data/CSHL_volumes/RV13_64hrs/RV13_64hrs_down32_annotationAsScoreVolume_warp24_RV4_67hrs_down32_annotationAsScoreVolume/score_volumes/RV13_64hrs_down32_annotationAsScoreVolume_warp24_RV4_67hrs_down32_annotationAsScoreVolume_5N_R.bp\" \"/media/yuncong/YuncongPublic/CSHL_volumes/RV13_64hrs/RV13_64hrs_down32_annotationAsScoreVolume_warp24_RV4_67hrs_down32_annotationAsScoreVolume/score_volumes/RV13_64hrs_down32_annotationAsScoreVolume_warp24_RV4_67hrs_down32_annotationAsScoreVolume_5N_R.bp\"\n",
      "rm -rf \"/media/yuncong/YuncongPublic/CSHL_volumes/RV13_64hrs/RV13_64hrs_down32_annotationAsScoreVolume_warp24_RV4_67hrs_down32_annotationAsScoreVolume/score_volumes/RV13_64hrs_down32_annotationAsScoreVolume_warp24_RV4_67hrs_down32_annotationAsScoreVolume_5N_R_bbox.txt\" && mkdir -p \"/media/yuncong/YuncongPublic/CSHL_volumes/RV13_64hrs/RV13_64hrs_down32_annotationAsScoreVolume_warp24_RV4_67hrs_down32_annotationAsScoreVolume/score_volumes\"\n",
      "aws s3 cp \"s3://mousebrainatlas-data/CSHL_volumes/RV13_64hrs/RV13_64hrs_down32_annotationAsScoreVolume_warp24_RV4_67hrs_down32_annotationAsScoreVolume/score_volumes/RV13_64hrs_down32_annotationAsScoreVolume_warp24_RV4_67hrs_down32_annotationAsScoreVolume_5N_R_bbox.txt\" \"/media/yuncong/YuncongPublic/CSHL_volumes/RV13_64hrs/RV13_64hrs_down32_annotationAsScoreVolume_warp24_RV4_67hrs_down32_annotationAsScoreVolume/score_volumes/RV13_64hrs_down32_annotationAsScoreVolume_warp24_RV4_67hrs_down32_annotationAsScoreVolume_5N_R_bbox.txt\"\n",
      "rm -rf \"/media/yuncong/YuncongPublic/CSHL_volumes/RV13_64hrs/RV13_64hrs_down32_annotationAsScoreVolume_warp24_RV4_67hrs_down32_annotationAsScoreVolume/score_volumes/RV13_64hrs_down32_annotationAsScoreVolume_warp24_RV4_67hrs_down32_annotationAsScoreVolume_6N_L.bp\" && mkdir -p \"/media/yuncong/YuncongPublic/CSHL_volumes/RV13_64hrs/RV13_64hrs_down32_annotationAsScoreVolume_warp24_RV4_67hrs_down32_annotationAsScoreVolume/score_volumes\"\n",
      "aws s3 cp \"s3://mousebrainatlas-data/CSHL_volumes/RV13_64hrs/RV13_64hrs_down32_annotationAsScoreVolume_warp24_RV4_67hrs_down32_annotationAsScoreVolume/score_volumes/RV13_64hrs_down32_annotationAsScoreVolume_warp24_RV4_67hrs_down32_annotationAsScoreVolume_6N_L.bp\" \"/media/yuncong/YuncongPublic/CSHL_volumes/RV13_64hrs/RV13_64hrs_down32_annotationAsScoreVolume_warp24_RV4_67hrs_down32_annotationAsScoreVolume/score_volumes/RV13_64hrs_down32_annotationAsScoreVolume_warp24_RV4_67hrs_down32_annotationAsScoreVolume_6N_L.bp\"\n"
     ]
    },
    {
     "name": "stderr",
     "output_type": "stream",
     "text": [
      "[Errno 2] No such file or directory: '/media/yuncong/YuncongPublic/CSHL_volumes/RV13_64hrs/RV13_64hrs_down32_annotationAsScoreVolume_warp24_RV4_67hrs_down32_annotationAsScoreVolume/score_volumes/RV13_64hrs_down32_annotationAsScoreVolume_warp24_RV4_67hrs_down32_annotationAsScoreVolume_6N_L.bp'\n",
      "Score volume for 6N_L does not exist.\n"
     ]
    },
    {
     "name": "stdout",
     "output_type": "stream",
     "text": [
      "rm -rf \"/media/yuncong/YuncongPublic/CSHL_volumes/RV13_64hrs/RV13_64hrs_down32_annotationAsScoreVolume_warp24_RV4_67hrs_down32_annotationAsScoreVolume/score_volumes/RV13_64hrs_down32_annotationAsScoreVolume_warp24_RV4_67hrs_down32_annotationAsScoreVolume_6N_R.bp\" && mkdir -p \"/media/yuncong/YuncongPublic/CSHL_volumes/RV13_64hrs/RV13_64hrs_down32_annotationAsScoreVolume_warp24_RV4_67hrs_down32_annotationAsScoreVolume/score_volumes\"\n",
      "aws s3 cp \"s3://mousebrainatlas-data/CSHL_volumes/RV13_64hrs/RV13_64hrs_down32_annotationAsScoreVolume_warp24_RV4_67hrs_down32_annotationAsScoreVolume/score_volumes/RV13_64hrs_down32_annotationAsScoreVolume_warp24_RV4_67hrs_down32_annotationAsScoreVolume_6N_R.bp\" \"/media/yuncong/YuncongPublic/CSHL_volumes/RV13_64hrs/RV13_64hrs_down32_annotationAsScoreVolume_warp24_RV4_67hrs_down32_annotationAsScoreVolume/score_volumes/RV13_64hrs_down32_annotationAsScoreVolume_warp24_RV4_67hrs_down32_annotationAsScoreVolume_6N_R.bp\"\n"
     ]
    },
    {
     "name": "stderr",
     "output_type": "stream",
     "text": [
      "[Errno 2] No such file or directory: '/media/yuncong/YuncongPublic/CSHL_volumes/RV13_64hrs/RV13_64hrs_down32_annotationAsScoreVolume_warp24_RV4_67hrs_down32_annotationAsScoreVolume/score_volumes/RV13_64hrs_down32_annotationAsScoreVolume_warp24_RV4_67hrs_down32_annotationAsScoreVolume_6N_R.bp'\n",
      "Score volume for 6N_R does not exist.\n"
     ]
    },
    {
     "name": "stdout",
     "output_type": "stream",
     "text": [
      "rm -rf \"/media/yuncong/YuncongPublic/CSHL_volumes/RV13_64hrs/RV13_64hrs_down32_annotationAsScoreVolume_warp24_RV4_67hrs_down32_annotationAsScoreVolume/score_volumes/RV13_64hrs_down32_annotationAsScoreVolume_warp24_RV4_67hrs_down32_annotationAsScoreVolume_7N_L.bp\" && mkdir -p \"/media/yuncong/YuncongPublic/CSHL_volumes/RV13_64hrs/RV13_64hrs_down32_annotationAsScoreVolume_warp24_RV4_67hrs_down32_annotationAsScoreVolume/score_volumes\"\n",
      "aws s3 cp \"s3://mousebrainatlas-data/CSHL_volumes/RV13_64hrs/RV13_64hrs_down32_annotationAsScoreVolume_warp24_RV4_67hrs_down32_annotationAsScoreVolume/score_volumes/RV13_64hrs_down32_annotationAsScoreVolume_warp24_RV4_67hrs_down32_annotationAsScoreVolume_7N_L.bp\" \"/media/yuncong/YuncongPublic/CSHL_volumes/RV13_64hrs/RV13_64hrs_down32_annotationAsScoreVolume_warp24_RV4_67hrs_down32_annotationAsScoreVolume/score_volumes/RV13_64hrs_down32_annotationAsScoreVolume_warp24_RV4_67hrs_down32_annotationAsScoreVolume_7N_L.bp\"\n",
      "rm -rf \"/media/yuncong/YuncongPublic/CSHL_volumes/RV13_64hrs/RV13_64hrs_down32_annotationAsScoreVolume_warp24_RV4_67hrs_down32_annotationAsScoreVolume/score_volumes/RV13_64hrs_down32_annotationAsScoreVolume_warp24_RV4_67hrs_down32_annotationAsScoreVolume_7N_L_bbox.txt\" && mkdir -p \"/media/yuncong/YuncongPublic/CSHL_volumes/RV13_64hrs/RV13_64hrs_down32_annotationAsScoreVolume_warp24_RV4_67hrs_down32_annotationAsScoreVolume/score_volumes\"\n",
      "aws s3 cp \"s3://mousebrainatlas-data/CSHL_volumes/RV13_64hrs/RV13_64hrs_down32_annotationAsScoreVolume_warp24_RV4_67hrs_down32_annotationAsScoreVolume/score_volumes/RV13_64hrs_down32_annotationAsScoreVolume_warp24_RV4_67hrs_down32_annotationAsScoreVolume_7N_L_bbox.txt\" \"/media/yuncong/YuncongPublic/CSHL_volumes/RV13_64hrs/RV13_64hrs_down32_annotationAsScoreVolume_warp24_RV4_67hrs_down32_annotationAsScoreVolume/score_volumes/RV13_64hrs_down32_annotationAsScoreVolume_warp24_RV4_67hrs_down32_annotationAsScoreVolume_7N_L_bbox.txt\"\n",
      "rm -rf \"/media/yuncong/YuncongPublic/CSHL_volumes/RV13_64hrs/RV13_64hrs_down32_annotationAsScoreVolume_warp24_RV4_67hrs_down32_annotationAsScoreVolume/score_volumes/RV13_64hrs_down32_annotationAsScoreVolume_warp24_RV4_67hrs_down32_annotationAsScoreVolume_7N_R.bp\" && mkdir -p \"/media/yuncong/YuncongPublic/CSHL_volumes/RV13_64hrs/RV13_64hrs_down32_annotationAsScoreVolume_warp24_RV4_67hrs_down32_annotationAsScoreVolume/score_volumes\"\n",
      "aws s3 cp \"s3://mousebrainatlas-data/CSHL_volumes/RV13_64hrs/RV13_64hrs_down32_annotationAsScoreVolume_warp24_RV4_67hrs_down32_annotationAsScoreVolume/score_volumes/RV13_64hrs_down32_annotationAsScoreVolume_warp24_RV4_67hrs_down32_annotationAsScoreVolume_7N_R.bp\" \"/media/yuncong/YuncongPublic/CSHL_volumes/RV13_64hrs/RV13_64hrs_down32_annotationAsScoreVolume_warp24_RV4_67hrs_down32_annotationAsScoreVolume/score_volumes/RV13_64hrs_down32_annotationAsScoreVolume_warp24_RV4_67hrs_down32_annotationAsScoreVolume_7N_R.bp\"\n",
      "rm -rf \"/media/yuncong/YuncongPublic/CSHL_volumes/RV13_64hrs/RV13_64hrs_down32_annotationAsScoreVolume_warp24_RV4_67hrs_down32_annotationAsScoreVolume/score_volumes/RV13_64hrs_down32_annotationAsScoreVolume_warp24_RV4_67hrs_down32_annotationAsScoreVolume_7N_R_bbox.txt\" && mkdir -p \"/media/yuncong/YuncongPublic/CSHL_volumes/RV13_64hrs/RV13_64hrs_down32_annotationAsScoreVolume_warp24_RV4_67hrs_down32_annotationAsScoreVolume/score_volumes\"\n",
      "aws s3 cp \"s3://mousebrainatlas-data/CSHL_volumes/RV13_64hrs/RV13_64hrs_down32_annotationAsScoreVolume_warp24_RV4_67hrs_down32_annotationAsScoreVolume/score_volumes/RV13_64hrs_down32_annotationAsScoreVolume_warp24_RV4_67hrs_down32_annotationAsScoreVolume_7N_R_bbox.txt\" \"/media/yuncong/YuncongPublic/CSHL_volumes/RV13_64hrs/RV13_64hrs_down32_annotationAsScoreVolume_warp24_RV4_67hrs_down32_annotationAsScoreVolume/score_volumes/RV13_64hrs_down32_annotationAsScoreVolume_warp24_RV4_67hrs_down32_annotationAsScoreVolume_7N_R_bbox.txt\"\n",
      "rm -rf \"/media/yuncong/YuncongPublic/CSHL_volumes/RV13_64hrs/RV13_64hrs_down32_annotationAsScoreVolume_warp24_RV4_67hrs_down32_annotationAsScoreVolume/score_volumes/RV13_64hrs_down32_annotationAsScoreVolume_warp24_RV4_67hrs_down32_annotationAsScoreVolume_7n_L.bp\" && mkdir -p \"/media/yuncong/YuncongPublic/CSHL_volumes/RV13_64hrs/RV13_64hrs_down32_annotationAsScoreVolume_warp24_RV4_67hrs_down32_annotationAsScoreVolume/score_volumes\"\n",
      "aws s3 cp \"s3://mousebrainatlas-data/CSHL_volumes/RV13_64hrs/RV13_64hrs_down32_annotationAsScoreVolume_warp24_RV4_67hrs_down32_annotationAsScoreVolume/score_volumes/RV13_64hrs_down32_annotationAsScoreVolume_warp24_RV4_67hrs_down32_annotationAsScoreVolume_7n_L.bp\" \"/media/yuncong/YuncongPublic/CSHL_volumes/RV13_64hrs/RV13_64hrs_down32_annotationAsScoreVolume_warp24_RV4_67hrs_down32_annotationAsScoreVolume/score_volumes/RV13_64hrs_down32_annotationAsScoreVolume_warp24_RV4_67hrs_down32_annotationAsScoreVolume_7n_L.bp\"\n",
      "rm -rf \"/media/yuncong/YuncongPublic/CSHL_volumes/RV13_64hrs/RV13_64hrs_down32_annotationAsScoreVolume_warp24_RV4_67hrs_down32_annotationAsScoreVolume/score_volumes/RV13_64hrs_down32_annotationAsScoreVolume_warp24_RV4_67hrs_down32_annotationAsScoreVolume_7n_L_bbox.txt\" && mkdir -p \"/media/yuncong/YuncongPublic/CSHL_volumes/RV13_64hrs/RV13_64hrs_down32_annotationAsScoreVolume_warp24_RV4_67hrs_down32_annotationAsScoreVolume/score_volumes\"\n",
      "aws s3 cp \"s3://mousebrainatlas-data/CSHL_volumes/RV13_64hrs/RV13_64hrs_down32_annotationAsScoreVolume_warp24_RV4_67hrs_down32_annotationAsScoreVolume/score_volumes/RV13_64hrs_down32_annotationAsScoreVolume_warp24_RV4_67hrs_down32_annotationAsScoreVolume_7n_L_bbox.txt\" \"/media/yuncong/YuncongPublic/CSHL_volumes/RV13_64hrs/RV13_64hrs_down32_annotationAsScoreVolume_warp24_RV4_67hrs_down32_annotationAsScoreVolume/score_volumes/RV13_64hrs_down32_annotationAsScoreVolume_warp24_RV4_67hrs_down32_annotationAsScoreVolume_7n_L_bbox.txt\"\n",
      "rm -rf \"/media/yuncong/YuncongPublic/CSHL_volumes/RV13_64hrs/RV13_64hrs_down32_annotationAsScoreVolume_warp24_RV4_67hrs_down32_annotationAsScoreVolume/score_volumes/RV13_64hrs_down32_annotationAsScoreVolume_warp24_RV4_67hrs_down32_annotationAsScoreVolume_7n_R.bp\" && mkdir -p \"/media/yuncong/YuncongPublic/CSHL_volumes/RV13_64hrs/RV13_64hrs_down32_annotationAsScoreVolume_warp24_RV4_67hrs_down32_annotationAsScoreVolume/score_volumes\"\n",
      "aws s3 cp \"s3://mousebrainatlas-data/CSHL_volumes/RV13_64hrs/RV13_64hrs_down32_annotationAsScoreVolume_warp24_RV4_67hrs_down32_annotationAsScoreVolume/score_volumes/RV13_64hrs_down32_annotationAsScoreVolume_warp24_RV4_67hrs_down32_annotationAsScoreVolume_7n_R.bp\" \"/media/yuncong/YuncongPublic/CSHL_volumes/RV13_64hrs/RV13_64hrs_down32_annotationAsScoreVolume_warp24_RV4_67hrs_down32_annotationAsScoreVolume/score_volumes/RV13_64hrs_down32_annotationAsScoreVolume_warp24_RV4_67hrs_down32_annotationAsScoreVolume_7n_R.bp\"\n",
      "rm -rf \"/media/yuncong/YuncongPublic/CSHL_volumes/RV13_64hrs/RV13_64hrs_down32_annotationAsScoreVolume_warp24_RV4_67hrs_down32_annotationAsScoreVolume/score_volumes/RV13_64hrs_down32_annotationAsScoreVolume_warp24_RV4_67hrs_down32_annotationAsScoreVolume_7n_R_bbox.txt\" && mkdir -p \"/media/yuncong/YuncongPublic/CSHL_volumes/RV13_64hrs/RV13_64hrs_down32_annotationAsScoreVolume_warp24_RV4_67hrs_down32_annotationAsScoreVolume/score_volumes\"\n",
      "aws s3 cp \"s3://mousebrainatlas-data/CSHL_volumes/RV13_64hrs/RV13_64hrs_down32_annotationAsScoreVolume_warp24_RV4_67hrs_down32_annotationAsScoreVolume/score_volumes/RV13_64hrs_down32_annotationAsScoreVolume_warp24_RV4_67hrs_down32_annotationAsScoreVolume_7n_R_bbox.txt\" \"/media/yuncong/YuncongPublic/CSHL_volumes/RV13_64hrs/RV13_64hrs_down32_annotationAsScoreVolume_warp24_RV4_67hrs_down32_annotationAsScoreVolume/score_volumes/RV13_64hrs_down32_annotationAsScoreVolume_warp24_RV4_67hrs_down32_annotationAsScoreVolume_7n_R_bbox.txt\"\n",
      "rm -rf \"/media/yuncong/YuncongPublic/CSHL_volumes/RV13_64hrs/RV13_64hrs_down32_annotationAsScoreVolume_warp24_RV4_67hrs_down32_annotationAsScoreVolume/score_volumes/RV13_64hrs_down32_annotationAsScoreVolume_warp24_RV4_67hrs_down32_annotationAsScoreVolume_Amb_L.bp\" && mkdir -p \"/media/yuncong/YuncongPublic/CSHL_volumes/RV13_64hrs/RV13_64hrs_down32_annotationAsScoreVolume_warp24_RV4_67hrs_down32_annotationAsScoreVolume/score_volumes\"\n",
      "aws s3 cp \"s3://mousebrainatlas-data/CSHL_volumes/RV13_64hrs/RV13_64hrs_down32_annotationAsScoreVolume_warp24_RV4_67hrs_down32_annotationAsScoreVolume/score_volumes/RV13_64hrs_down32_annotationAsScoreVolume_warp24_RV4_67hrs_down32_annotationAsScoreVolume_Amb_L.bp\" \"/media/yuncong/YuncongPublic/CSHL_volumes/RV13_64hrs/RV13_64hrs_down32_annotationAsScoreVolume_warp24_RV4_67hrs_down32_annotationAsScoreVolume/score_volumes/RV13_64hrs_down32_annotationAsScoreVolume_warp24_RV4_67hrs_down32_annotationAsScoreVolume_Amb_L.bp\"\n"
     ]
    },
    {
     "name": "stderr",
     "output_type": "stream",
     "text": [
      "[Errno 2] No such file or directory: '/media/yuncong/YuncongPublic/CSHL_volumes/RV13_64hrs/RV13_64hrs_down32_annotationAsScoreVolume_warp24_RV4_67hrs_down32_annotationAsScoreVolume/score_volumes/RV13_64hrs_down32_annotationAsScoreVolume_warp24_RV4_67hrs_down32_annotationAsScoreVolume_Amb_L.bp'\n",
      "Score volume for Amb_L does not exist.\n"
     ]
    },
    {
     "name": "stdout",
     "output_type": "stream",
     "text": [
      "rm -rf \"/media/yuncong/YuncongPublic/CSHL_volumes/RV13_64hrs/RV13_64hrs_down32_annotationAsScoreVolume_warp24_RV4_67hrs_down32_annotationAsScoreVolume/score_volumes/RV13_64hrs_down32_annotationAsScoreVolume_warp24_RV4_67hrs_down32_annotationAsScoreVolume_Amb_R.bp\" && mkdir -p \"/media/yuncong/YuncongPublic/CSHL_volumes/RV13_64hrs/RV13_64hrs_down32_annotationAsScoreVolume_warp24_RV4_67hrs_down32_annotationAsScoreVolume/score_volumes\"\n",
      "aws s3 cp \"s3://mousebrainatlas-data/CSHL_volumes/RV13_64hrs/RV13_64hrs_down32_annotationAsScoreVolume_warp24_RV4_67hrs_down32_annotationAsScoreVolume/score_volumes/RV13_64hrs_down32_annotationAsScoreVolume_warp24_RV4_67hrs_down32_annotationAsScoreVolume_Amb_R.bp\" \"/media/yuncong/YuncongPublic/CSHL_volumes/RV13_64hrs/RV13_64hrs_down32_annotationAsScoreVolume_warp24_RV4_67hrs_down32_annotationAsScoreVolume/score_volumes/RV13_64hrs_down32_annotationAsScoreVolume_warp24_RV4_67hrs_down32_annotationAsScoreVolume_Amb_R.bp\"\n"
     ]
    },
    {
     "name": "stderr",
     "output_type": "stream",
     "text": [
      "[Errno 2] No such file or directory: '/media/yuncong/YuncongPublic/CSHL_volumes/RV13_64hrs/RV13_64hrs_down32_annotationAsScoreVolume_warp24_RV4_67hrs_down32_annotationAsScoreVolume/score_volumes/RV13_64hrs_down32_annotationAsScoreVolume_warp24_RV4_67hrs_down32_annotationAsScoreVolume_Amb_R.bp'\n",
      "Score volume for Amb_R does not exist.\n"
     ]
    },
    {
     "name": "stdout",
     "output_type": "stream",
     "text": [
      "rm -rf \"/media/yuncong/YuncongPublic/CSHL_volumes/RV13_64hrs/RV13_64hrs_down32_annotationAsScoreVolume_warp24_RV4_67hrs_down32_annotationAsScoreVolume/score_volumes/RV13_64hrs_down32_annotationAsScoreVolume_warp24_RV4_67hrs_down32_annotationAsScoreVolume_LC_L.bp\" && mkdir -p \"/media/yuncong/YuncongPublic/CSHL_volumes/RV13_64hrs/RV13_64hrs_down32_annotationAsScoreVolume_warp24_RV4_67hrs_down32_annotationAsScoreVolume/score_volumes\"\n",
      "aws s3 cp \"s3://mousebrainatlas-data/CSHL_volumes/RV13_64hrs/RV13_64hrs_down32_annotationAsScoreVolume_warp24_RV4_67hrs_down32_annotationAsScoreVolume/score_volumes/RV13_64hrs_down32_annotationAsScoreVolume_warp24_RV4_67hrs_down32_annotationAsScoreVolume_LC_L.bp\" \"/media/yuncong/YuncongPublic/CSHL_volumes/RV13_64hrs/RV13_64hrs_down32_annotationAsScoreVolume_warp24_RV4_67hrs_down32_annotationAsScoreVolume/score_volumes/RV13_64hrs_down32_annotationAsScoreVolume_warp24_RV4_67hrs_down32_annotationAsScoreVolume_LC_L.bp\"\n"
     ]
    },
    {
     "name": "stderr",
     "output_type": "stream",
     "text": [
      "[Errno 2] No such file or directory: '/media/yuncong/YuncongPublic/CSHL_volumes/RV13_64hrs/RV13_64hrs_down32_annotationAsScoreVolume_warp24_RV4_67hrs_down32_annotationAsScoreVolume/score_volumes/RV13_64hrs_down32_annotationAsScoreVolume_warp24_RV4_67hrs_down32_annotationAsScoreVolume_LC_L.bp'\n",
      "Score volume for LC_L does not exist.\n"
     ]
    },
    {
     "name": "stdout",
     "output_type": "stream",
     "text": [
      "rm -rf \"/media/yuncong/YuncongPublic/CSHL_volumes/RV13_64hrs/RV13_64hrs_down32_annotationAsScoreVolume_warp24_RV4_67hrs_down32_annotationAsScoreVolume/score_volumes/RV13_64hrs_down32_annotationAsScoreVolume_warp24_RV4_67hrs_down32_annotationAsScoreVolume_LC_R.bp\" && mkdir -p \"/media/yuncong/YuncongPublic/CSHL_volumes/RV13_64hrs/RV13_64hrs_down32_annotationAsScoreVolume_warp24_RV4_67hrs_down32_annotationAsScoreVolume/score_volumes\"\n",
      "aws s3 cp \"s3://mousebrainatlas-data/CSHL_volumes/RV13_64hrs/RV13_64hrs_down32_annotationAsScoreVolume_warp24_RV4_67hrs_down32_annotationAsScoreVolume/score_volumes/RV13_64hrs_down32_annotationAsScoreVolume_warp24_RV4_67hrs_down32_annotationAsScoreVolume_LC_R.bp\" \"/media/yuncong/YuncongPublic/CSHL_volumes/RV13_64hrs/RV13_64hrs_down32_annotationAsScoreVolume_warp24_RV4_67hrs_down32_annotationAsScoreVolume/score_volumes/RV13_64hrs_down32_annotationAsScoreVolume_warp24_RV4_67hrs_down32_annotationAsScoreVolume_LC_R.bp\"\n"
     ]
    },
    {
     "name": "stderr",
     "output_type": "stream",
     "text": [
      "[Errno 2] No such file or directory: '/media/yuncong/YuncongPublic/CSHL_volumes/RV13_64hrs/RV13_64hrs_down32_annotationAsScoreVolume_warp24_RV4_67hrs_down32_annotationAsScoreVolume/score_volumes/RV13_64hrs_down32_annotationAsScoreVolume_warp24_RV4_67hrs_down32_annotationAsScoreVolume_LC_R.bp'\n",
      "Score volume for LC_R does not exist.\n"
     ]
    },
    {
     "name": "stdout",
     "output_type": "stream",
     "text": [
      "rm -rf \"/media/yuncong/YuncongPublic/CSHL_volumes/RV13_64hrs/RV13_64hrs_down32_annotationAsScoreVolume_warp24_RV4_67hrs_down32_annotationAsScoreVolume/score_volumes/RV13_64hrs_down32_annotationAsScoreVolume_warp24_RV4_67hrs_down32_annotationAsScoreVolume_LRt_L.bp\" && mkdir -p \"/media/yuncong/YuncongPublic/CSHL_volumes/RV13_64hrs/RV13_64hrs_down32_annotationAsScoreVolume_warp24_RV4_67hrs_down32_annotationAsScoreVolume/score_volumes\"\n",
      "aws s3 cp \"s3://mousebrainatlas-data/CSHL_volumes/RV13_64hrs/RV13_64hrs_down32_annotationAsScoreVolume_warp24_RV4_67hrs_down32_annotationAsScoreVolume/score_volumes/RV13_64hrs_down32_annotationAsScoreVolume_warp24_RV4_67hrs_down32_annotationAsScoreVolume_LRt_L.bp\" \"/media/yuncong/YuncongPublic/CSHL_volumes/RV13_64hrs/RV13_64hrs_down32_annotationAsScoreVolume_warp24_RV4_67hrs_down32_annotationAsScoreVolume/score_volumes/RV13_64hrs_down32_annotationAsScoreVolume_warp24_RV4_67hrs_down32_annotationAsScoreVolume_LRt_L.bp\"\n",
      "rm -rf \"/media/yuncong/YuncongPublic/CSHL_volumes/RV13_64hrs/RV13_64hrs_down32_annotationAsScoreVolume_warp24_RV4_67hrs_down32_annotationAsScoreVolume/score_volumes/RV13_64hrs_down32_annotationAsScoreVolume_warp24_RV4_67hrs_down32_annotationAsScoreVolume_LRt_L_bbox.txt\" && mkdir -p \"/media/yuncong/YuncongPublic/CSHL_volumes/RV13_64hrs/RV13_64hrs_down32_annotationAsScoreVolume_warp24_RV4_67hrs_down32_annotationAsScoreVolume/score_volumes\"\n",
      "aws s3 cp \"s3://mousebrainatlas-data/CSHL_volumes/RV13_64hrs/RV13_64hrs_down32_annotationAsScoreVolume_warp24_RV4_67hrs_down32_annotationAsScoreVolume/score_volumes/RV13_64hrs_down32_annotationAsScoreVolume_warp24_RV4_67hrs_down32_annotationAsScoreVolume_LRt_L_bbox.txt\" \"/media/yuncong/YuncongPublic/CSHL_volumes/RV13_64hrs/RV13_64hrs_down32_annotationAsScoreVolume_warp24_RV4_67hrs_down32_annotationAsScoreVolume/score_volumes/RV13_64hrs_down32_annotationAsScoreVolume_warp24_RV4_67hrs_down32_annotationAsScoreVolume_LRt_L_bbox.txt\"\n",
      "rm -rf \"/media/yuncong/YuncongPublic/CSHL_volumes/RV13_64hrs/RV13_64hrs_down32_annotationAsScoreVolume_warp24_RV4_67hrs_down32_annotationAsScoreVolume/score_volumes/RV13_64hrs_down32_annotationAsScoreVolume_warp24_RV4_67hrs_down32_annotationAsScoreVolume_LRt_R.bp\" && mkdir -p \"/media/yuncong/YuncongPublic/CSHL_volumes/RV13_64hrs/RV13_64hrs_down32_annotationAsScoreVolume_warp24_RV4_67hrs_down32_annotationAsScoreVolume/score_volumes\"\n",
      "aws s3 cp \"s3://mousebrainatlas-data/CSHL_volumes/RV13_64hrs/RV13_64hrs_down32_annotationAsScoreVolume_warp24_RV4_67hrs_down32_annotationAsScoreVolume/score_volumes/RV13_64hrs_down32_annotationAsScoreVolume_warp24_RV4_67hrs_down32_annotationAsScoreVolume_LRt_R.bp\" \"/media/yuncong/YuncongPublic/CSHL_volumes/RV13_64hrs/RV13_64hrs_down32_annotationAsScoreVolume_warp24_RV4_67hrs_down32_annotationAsScoreVolume/score_volumes/RV13_64hrs_down32_annotationAsScoreVolume_warp24_RV4_67hrs_down32_annotationAsScoreVolume_LRt_R.bp\"\n",
      "rm -rf \"/media/yuncong/YuncongPublic/CSHL_volumes/RV13_64hrs/RV13_64hrs_down32_annotationAsScoreVolume_warp24_RV4_67hrs_down32_annotationAsScoreVolume/score_volumes/RV13_64hrs_down32_annotationAsScoreVolume_warp24_RV4_67hrs_down32_annotationAsScoreVolume_LRt_R_bbox.txt\" && mkdir -p \"/media/yuncong/YuncongPublic/CSHL_volumes/RV13_64hrs/RV13_64hrs_down32_annotationAsScoreVolume_warp24_RV4_67hrs_down32_annotationAsScoreVolume/score_volumes\"\n",
      "aws s3 cp \"s3://mousebrainatlas-data/CSHL_volumes/RV13_64hrs/RV13_64hrs_down32_annotationAsScoreVolume_warp24_RV4_67hrs_down32_annotationAsScoreVolume/score_volumes/RV13_64hrs_down32_annotationAsScoreVolume_warp24_RV4_67hrs_down32_annotationAsScoreVolume_LRt_R_bbox.txt\" \"/media/yuncong/YuncongPublic/CSHL_volumes/RV13_64hrs/RV13_64hrs_down32_annotationAsScoreVolume_warp24_RV4_67hrs_down32_annotationAsScoreVolume/score_volumes/RV13_64hrs_down32_annotationAsScoreVolume_warp24_RV4_67hrs_down32_annotationAsScoreVolume_LRt_R_bbox.txt\"\n",
      "rm -rf \"/media/yuncong/YuncongPublic/CSHL_volumes/RV13_64hrs/RV13_64hrs_down32_annotationAsScoreVolume_warp24_RV4_67hrs_down32_annotationAsScoreVolume/score_volumes/RV13_64hrs_down32_annotationAsScoreVolume_warp24_RV4_67hrs_down32_annotationAsScoreVolume_Pn_L.bp\" && mkdir -p \"/media/yuncong/YuncongPublic/CSHL_volumes/RV13_64hrs/RV13_64hrs_down32_annotationAsScoreVolume_warp24_RV4_67hrs_down32_annotationAsScoreVolume/score_volumes\"\n",
      "aws s3 cp \"s3://mousebrainatlas-data/CSHL_volumes/RV13_64hrs/RV13_64hrs_down32_annotationAsScoreVolume_warp24_RV4_67hrs_down32_annotationAsScoreVolume/score_volumes/RV13_64hrs_down32_annotationAsScoreVolume_warp24_RV4_67hrs_down32_annotationAsScoreVolume_Pn_L.bp\" \"/media/yuncong/YuncongPublic/CSHL_volumes/RV13_64hrs/RV13_64hrs_down32_annotationAsScoreVolume_warp24_RV4_67hrs_down32_annotationAsScoreVolume/score_volumes/RV13_64hrs_down32_annotationAsScoreVolume_warp24_RV4_67hrs_down32_annotationAsScoreVolume_Pn_L.bp\"\n"
     ]
    },
    {
     "name": "stderr",
     "output_type": "stream",
     "text": [
      "[Errno 2] No such file or directory: '/media/yuncong/YuncongPublic/CSHL_volumes/RV13_64hrs/RV13_64hrs_down32_annotationAsScoreVolume_warp24_RV4_67hrs_down32_annotationAsScoreVolume/score_volumes/RV13_64hrs_down32_annotationAsScoreVolume_warp24_RV4_67hrs_down32_annotationAsScoreVolume_Pn_L.bp'\n",
      "Score volume for Pn_L does not exist.\n"
     ]
    },
    {
     "name": "stdout",
     "output_type": "stream",
     "text": [
      "rm -rf \"/media/yuncong/YuncongPublic/CSHL_volumes/RV13_64hrs/RV13_64hrs_down32_annotationAsScoreVolume_warp24_RV4_67hrs_down32_annotationAsScoreVolume/score_volumes/RV13_64hrs_down32_annotationAsScoreVolume_warp24_RV4_67hrs_down32_annotationAsScoreVolume_Pn_R.bp\" && mkdir -p \"/media/yuncong/YuncongPublic/CSHL_volumes/RV13_64hrs/RV13_64hrs_down32_annotationAsScoreVolume_warp24_RV4_67hrs_down32_annotationAsScoreVolume/score_volumes\"\n",
      "aws s3 cp \"s3://mousebrainatlas-data/CSHL_volumes/RV13_64hrs/RV13_64hrs_down32_annotationAsScoreVolume_warp24_RV4_67hrs_down32_annotationAsScoreVolume/score_volumes/RV13_64hrs_down32_annotationAsScoreVolume_warp24_RV4_67hrs_down32_annotationAsScoreVolume_Pn_R.bp\" \"/media/yuncong/YuncongPublic/CSHL_volumes/RV13_64hrs/RV13_64hrs_down32_annotationAsScoreVolume_warp24_RV4_67hrs_down32_annotationAsScoreVolume/score_volumes/RV13_64hrs_down32_annotationAsScoreVolume_warp24_RV4_67hrs_down32_annotationAsScoreVolume_Pn_R.bp\"\n"
     ]
    },
    {
     "name": "stderr",
     "output_type": "stream",
     "text": [
      "[Errno 2] No such file or directory: '/media/yuncong/YuncongPublic/CSHL_volumes/RV13_64hrs/RV13_64hrs_down32_annotationAsScoreVolume_warp24_RV4_67hrs_down32_annotationAsScoreVolume/score_volumes/RV13_64hrs_down32_annotationAsScoreVolume_warp24_RV4_67hrs_down32_annotationAsScoreVolume_Pn_R.bp'\n",
      "Score volume for Pn_R does not exist.\n"
     ]
    },
    {
     "name": "stdout",
     "output_type": "stream",
     "text": [
      "rm -rf \"/media/yuncong/YuncongPublic/CSHL_volumes/RV13_64hrs/RV13_64hrs_down32_annotationAsScoreVolume_warp24_RV4_67hrs_down32_annotationAsScoreVolume/score_volumes/RV13_64hrs_down32_annotationAsScoreVolume_warp24_RV4_67hrs_down32_annotationAsScoreVolume_Tz_L.bp\" && mkdir -p \"/media/yuncong/YuncongPublic/CSHL_volumes/RV13_64hrs/RV13_64hrs_down32_annotationAsScoreVolume_warp24_RV4_67hrs_down32_annotationAsScoreVolume/score_volumes\"\n",
      "aws s3 cp \"s3://mousebrainatlas-data/CSHL_volumes/RV13_64hrs/RV13_64hrs_down32_annotationAsScoreVolume_warp24_RV4_67hrs_down32_annotationAsScoreVolume/score_volumes/RV13_64hrs_down32_annotationAsScoreVolume_warp24_RV4_67hrs_down32_annotationAsScoreVolume_Tz_L.bp\" \"/media/yuncong/YuncongPublic/CSHL_volumes/RV13_64hrs/RV13_64hrs_down32_annotationAsScoreVolume_warp24_RV4_67hrs_down32_annotationAsScoreVolume/score_volumes/RV13_64hrs_down32_annotationAsScoreVolume_warp24_RV4_67hrs_down32_annotationAsScoreVolume_Tz_L.bp\"\n"
     ]
    },
    {
     "name": "stderr",
     "output_type": "stream",
     "text": [
      "[Errno 2] No such file or directory: '/media/yuncong/YuncongPublic/CSHL_volumes/RV13_64hrs/RV13_64hrs_down32_annotationAsScoreVolume_warp24_RV4_67hrs_down32_annotationAsScoreVolume/score_volumes/RV13_64hrs_down32_annotationAsScoreVolume_warp24_RV4_67hrs_down32_annotationAsScoreVolume_Tz_L.bp'\n",
      "Score volume for Tz_L does not exist.\n"
     ]
    },
    {
     "name": "stdout",
     "output_type": "stream",
     "text": [
      "rm -rf \"/media/yuncong/YuncongPublic/CSHL_volumes/RV13_64hrs/RV13_64hrs_down32_annotationAsScoreVolume_warp24_RV4_67hrs_down32_annotationAsScoreVolume/score_volumes/RV13_64hrs_down32_annotationAsScoreVolume_warp24_RV4_67hrs_down32_annotationAsScoreVolume_Tz_R.bp\" && mkdir -p \"/media/yuncong/YuncongPublic/CSHL_volumes/RV13_64hrs/RV13_64hrs_down32_annotationAsScoreVolume_warp24_RV4_67hrs_down32_annotationAsScoreVolume/score_volumes\"\n",
      "aws s3 cp \"s3://mousebrainatlas-data/CSHL_volumes/RV13_64hrs/RV13_64hrs_down32_annotationAsScoreVolume_warp24_RV4_67hrs_down32_annotationAsScoreVolume/score_volumes/RV13_64hrs_down32_annotationAsScoreVolume_warp24_RV4_67hrs_down32_annotationAsScoreVolume_Tz_R.bp\" \"/media/yuncong/YuncongPublic/CSHL_volumes/RV13_64hrs/RV13_64hrs_down32_annotationAsScoreVolume_warp24_RV4_67hrs_down32_annotationAsScoreVolume/score_volumes/RV13_64hrs_down32_annotationAsScoreVolume_warp24_RV4_67hrs_down32_annotationAsScoreVolume_Tz_R.bp\"\n"
     ]
    },
    {
     "name": "stderr",
     "output_type": "stream",
     "text": [
      "[Errno 2] No such file or directory: '/media/yuncong/YuncongPublic/CSHL_volumes/RV13_64hrs/RV13_64hrs_down32_annotationAsScoreVolume_warp24_RV4_67hrs_down32_annotationAsScoreVolume/score_volumes/RV13_64hrs_down32_annotationAsScoreVolume_warp24_RV4_67hrs_down32_annotationAsScoreVolume_Tz_R.bp'\n",
      "Score volume for Tz_R does not exist.\n"
     ]
    },
    {
     "name": "stdout",
     "output_type": "stream",
     "text": [
      "rm -rf \"/media/yuncong/YuncongPublic/CSHL_volumes/RV13_64hrs/RV13_64hrs_down32_annotationAsScoreVolume_warp24_RV4_67hrs_down32_annotationAsScoreVolume/score_volumes/RV13_64hrs_down32_annotationAsScoreVolume_warp24_RV4_67hrs_down32_annotationAsScoreVolume_VLL_L.bp\" && mkdir -p \"/media/yuncong/YuncongPublic/CSHL_volumes/RV13_64hrs/RV13_64hrs_down32_annotationAsScoreVolume_warp24_RV4_67hrs_down32_annotationAsScoreVolume/score_volumes\"\n",
      "aws s3 cp \"s3://mousebrainatlas-data/CSHL_volumes/RV13_64hrs/RV13_64hrs_down32_annotationAsScoreVolume_warp24_RV4_67hrs_down32_annotationAsScoreVolume/score_volumes/RV13_64hrs_down32_annotationAsScoreVolume_warp24_RV4_67hrs_down32_annotationAsScoreVolume_VLL_L.bp\" \"/media/yuncong/YuncongPublic/CSHL_volumes/RV13_64hrs/RV13_64hrs_down32_annotationAsScoreVolume_warp24_RV4_67hrs_down32_annotationAsScoreVolume/score_volumes/RV13_64hrs_down32_annotationAsScoreVolume_warp24_RV4_67hrs_down32_annotationAsScoreVolume_VLL_L.bp\"\n"
     ]
    },
    {
     "name": "stderr",
     "output_type": "stream",
     "text": [
      "[Errno 2] No such file or directory: '/media/yuncong/YuncongPublic/CSHL_volumes/RV13_64hrs/RV13_64hrs_down32_annotationAsScoreVolume_warp24_RV4_67hrs_down32_annotationAsScoreVolume/score_volumes/RV13_64hrs_down32_annotationAsScoreVolume_warp24_RV4_67hrs_down32_annotationAsScoreVolume_VLL_L.bp'\n",
      "Score volume for VLL_L does not exist.\n"
     ]
    },
    {
     "name": "stdout",
     "output_type": "stream",
     "text": [
      "rm -rf \"/media/yuncong/YuncongPublic/CSHL_volumes/RV13_64hrs/RV13_64hrs_down32_annotationAsScoreVolume_warp24_RV4_67hrs_down32_annotationAsScoreVolume/score_volumes/RV13_64hrs_down32_annotationAsScoreVolume_warp24_RV4_67hrs_down32_annotationAsScoreVolume_VLL_R.bp\" && mkdir -p \"/media/yuncong/YuncongPublic/CSHL_volumes/RV13_64hrs/RV13_64hrs_down32_annotationAsScoreVolume_warp24_RV4_67hrs_down32_annotationAsScoreVolume/score_volumes\"\n",
      "aws s3 cp \"s3://mousebrainatlas-data/CSHL_volumes/RV13_64hrs/RV13_64hrs_down32_annotationAsScoreVolume_warp24_RV4_67hrs_down32_annotationAsScoreVolume/score_volumes/RV13_64hrs_down32_annotationAsScoreVolume_warp24_RV4_67hrs_down32_annotationAsScoreVolume_VLL_R.bp\" \"/media/yuncong/YuncongPublic/CSHL_volumes/RV13_64hrs/RV13_64hrs_down32_annotationAsScoreVolume_warp24_RV4_67hrs_down32_annotationAsScoreVolume/score_volumes/RV13_64hrs_down32_annotationAsScoreVolume_warp24_RV4_67hrs_down32_annotationAsScoreVolume_VLL_R.bp\"\n"
     ]
    },
    {
     "name": "stderr",
     "output_type": "stream",
     "text": [
      "[Errno 2] No such file or directory: '/media/yuncong/YuncongPublic/CSHL_volumes/RV13_64hrs/RV13_64hrs_down32_annotationAsScoreVolume_warp24_RV4_67hrs_down32_annotationAsScoreVolume/score_volumes/RV13_64hrs_down32_annotationAsScoreVolume_warp24_RV4_67hrs_down32_annotationAsScoreVolume_VLL_R.bp'\n",
      "Score volume for VLL_R does not exist.\n"
     ]
    },
    {
     "name": "stdout",
     "output_type": "stream",
     "text": [
      "rm -rf \"/media/yuncong/YuncongPublic/CSHL_volumes/RV13_64hrs/RV13_64hrs_down32_annotationAsScoreVolume_warp24_RV4_67hrs_down32_annotationAsScoreVolume/score_volumes/RV13_64hrs_down32_annotationAsScoreVolume_warp24_RV4_67hrs_down32_annotationAsScoreVolume_RMC_L.bp\" && mkdir -p \"/media/yuncong/YuncongPublic/CSHL_volumes/RV13_64hrs/RV13_64hrs_down32_annotationAsScoreVolume_warp24_RV4_67hrs_down32_annotationAsScoreVolume/score_volumes\"\n",
      "aws s3 cp \"s3://mousebrainatlas-data/CSHL_volumes/RV13_64hrs/RV13_64hrs_down32_annotationAsScoreVolume_warp24_RV4_67hrs_down32_annotationAsScoreVolume/score_volumes/RV13_64hrs_down32_annotationAsScoreVolume_warp24_RV4_67hrs_down32_annotationAsScoreVolume_RMC_L.bp\" \"/media/yuncong/YuncongPublic/CSHL_volumes/RV13_64hrs/RV13_64hrs_down32_annotationAsScoreVolume_warp24_RV4_67hrs_down32_annotationAsScoreVolume/score_volumes/RV13_64hrs_down32_annotationAsScoreVolume_warp24_RV4_67hrs_down32_annotationAsScoreVolume_RMC_L.bp\"\n"
     ]
    },
    {
     "name": "stderr",
     "output_type": "stream",
     "text": [
      "[Errno 2] No such file or directory: '/media/yuncong/YuncongPublic/CSHL_volumes/RV13_64hrs/RV13_64hrs_down32_annotationAsScoreVolume_warp24_RV4_67hrs_down32_annotationAsScoreVolume/score_volumes/RV13_64hrs_down32_annotationAsScoreVolume_warp24_RV4_67hrs_down32_annotationAsScoreVolume_RMC_L.bp'\n",
      "Score volume for RMC_L does not exist.\n"
     ]
    },
    {
     "name": "stdout",
     "output_type": "stream",
     "text": [
      "rm -rf \"/media/yuncong/YuncongPublic/CSHL_volumes/RV13_64hrs/RV13_64hrs_down32_annotationAsScoreVolume_warp24_RV4_67hrs_down32_annotationAsScoreVolume/score_volumes/RV13_64hrs_down32_annotationAsScoreVolume_warp24_RV4_67hrs_down32_annotationAsScoreVolume_RMC_R.bp\" && mkdir -p \"/media/yuncong/YuncongPublic/CSHL_volumes/RV13_64hrs/RV13_64hrs_down32_annotationAsScoreVolume_warp24_RV4_67hrs_down32_annotationAsScoreVolume/score_volumes\"\n",
      "aws s3 cp \"s3://mousebrainatlas-data/CSHL_volumes/RV13_64hrs/RV13_64hrs_down32_annotationAsScoreVolume_warp24_RV4_67hrs_down32_annotationAsScoreVolume/score_volumes/RV13_64hrs_down32_annotationAsScoreVolume_warp24_RV4_67hrs_down32_annotationAsScoreVolume_RMC_R.bp\" \"/media/yuncong/YuncongPublic/CSHL_volumes/RV13_64hrs/RV13_64hrs_down32_annotationAsScoreVolume_warp24_RV4_67hrs_down32_annotationAsScoreVolume/score_volumes/RV13_64hrs_down32_annotationAsScoreVolume_warp24_RV4_67hrs_down32_annotationAsScoreVolume_RMC_R.bp\"\n"
     ]
    },
    {
     "name": "stderr",
     "output_type": "stream",
     "text": [
      "[Errno 2] No such file or directory: '/media/yuncong/YuncongPublic/CSHL_volumes/RV13_64hrs/RV13_64hrs_down32_annotationAsScoreVolume_warp24_RV4_67hrs_down32_annotationAsScoreVolume/score_volumes/RV13_64hrs_down32_annotationAsScoreVolume_warp24_RV4_67hrs_down32_annotationAsScoreVolume_RMC_R.bp'\n",
      "Score volume for RMC_R does not exist.\n"
     ]
    },
    {
     "name": "stdout",
     "output_type": "stream",
     "text": [
      "rm -rf \"/media/yuncong/YuncongPublic/CSHL_volumes/RV13_64hrs/RV13_64hrs_down32_annotationAsScoreVolume_warp24_RV4_67hrs_down32_annotationAsScoreVolume/score_volumes/RV13_64hrs_down32_annotationAsScoreVolume_warp24_RV4_67hrs_down32_annotationAsScoreVolume_SNC_L.bp\" && mkdir -p \"/media/yuncong/YuncongPublic/CSHL_volumes/RV13_64hrs/RV13_64hrs_down32_annotationAsScoreVolume_warp24_RV4_67hrs_down32_annotationAsScoreVolume/score_volumes\"\n",
      "aws s3 cp \"s3://mousebrainatlas-data/CSHL_volumes/RV13_64hrs/RV13_64hrs_down32_annotationAsScoreVolume_warp24_RV4_67hrs_down32_annotationAsScoreVolume/score_volumes/RV13_64hrs_down32_annotationAsScoreVolume_warp24_RV4_67hrs_down32_annotationAsScoreVolume_SNC_L.bp\" \"/media/yuncong/YuncongPublic/CSHL_volumes/RV13_64hrs/RV13_64hrs_down32_annotationAsScoreVolume_warp24_RV4_67hrs_down32_annotationAsScoreVolume/score_volumes/RV13_64hrs_down32_annotationAsScoreVolume_warp24_RV4_67hrs_down32_annotationAsScoreVolume_SNC_L.bp\"\n"
     ]
    },
    {
     "name": "stderr",
     "output_type": "stream",
     "text": [
      "[Errno 2] No such file or directory: '/media/yuncong/YuncongPublic/CSHL_volumes/RV13_64hrs/RV13_64hrs_down32_annotationAsScoreVolume_warp24_RV4_67hrs_down32_annotationAsScoreVolume/score_volumes/RV13_64hrs_down32_annotationAsScoreVolume_warp24_RV4_67hrs_down32_annotationAsScoreVolume_SNC_L.bp'\n",
      "Score volume for SNC_L does not exist.\n"
     ]
    },
    {
     "name": "stdout",
     "output_type": "stream",
     "text": [
      "rm -rf \"/media/yuncong/YuncongPublic/CSHL_volumes/RV13_64hrs/RV13_64hrs_down32_annotationAsScoreVolume_warp24_RV4_67hrs_down32_annotationAsScoreVolume/score_volumes/RV13_64hrs_down32_annotationAsScoreVolume_warp24_RV4_67hrs_down32_annotationAsScoreVolume_SNC_R.bp\" && mkdir -p \"/media/yuncong/YuncongPublic/CSHL_volumes/RV13_64hrs/RV13_64hrs_down32_annotationAsScoreVolume_warp24_RV4_67hrs_down32_annotationAsScoreVolume/score_volumes\"\n",
      "aws s3 cp \"s3://mousebrainatlas-data/CSHL_volumes/RV13_64hrs/RV13_64hrs_down32_annotationAsScoreVolume_warp24_RV4_67hrs_down32_annotationAsScoreVolume/score_volumes/RV13_64hrs_down32_annotationAsScoreVolume_warp24_RV4_67hrs_down32_annotationAsScoreVolume_SNC_R.bp\" \"/media/yuncong/YuncongPublic/CSHL_volumes/RV13_64hrs/RV13_64hrs_down32_annotationAsScoreVolume_warp24_RV4_67hrs_down32_annotationAsScoreVolume/score_volumes/RV13_64hrs_down32_annotationAsScoreVolume_warp24_RV4_67hrs_down32_annotationAsScoreVolume_SNC_R.bp\"\n"
     ]
    },
    {
     "name": "stderr",
     "output_type": "stream",
     "text": [
      "[Errno 2] No such file or directory: '/media/yuncong/YuncongPublic/CSHL_volumes/RV13_64hrs/RV13_64hrs_down32_annotationAsScoreVolume_warp24_RV4_67hrs_down32_annotationAsScoreVolume/score_volumes/RV13_64hrs_down32_annotationAsScoreVolume_warp24_RV4_67hrs_down32_annotationAsScoreVolume_SNC_R.bp'\n",
      "Score volume for SNC_R does not exist.\n"
     ]
    },
    {
     "name": "stdout",
     "output_type": "stream",
     "text": [
      "rm -rf \"/media/yuncong/YuncongPublic/CSHL_volumes/RV13_64hrs/RV13_64hrs_down32_annotationAsScoreVolume_warp24_RV4_67hrs_down32_annotationAsScoreVolume/score_volumes/RV13_64hrs_down32_annotationAsScoreVolume_warp24_RV4_67hrs_down32_annotationAsScoreVolume_SNR_L.bp\" && mkdir -p \"/media/yuncong/YuncongPublic/CSHL_volumes/RV13_64hrs/RV13_64hrs_down32_annotationAsScoreVolume_warp24_RV4_67hrs_down32_annotationAsScoreVolume/score_volumes\"\n",
      "aws s3 cp \"s3://mousebrainatlas-data/CSHL_volumes/RV13_64hrs/RV13_64hrs_down32_annotationAsScoreVolume_warp24_RV4_67hrs_down32_annotationAsScoreVolume/score_volumes/RV13_64hrs_down32_annotationAsScoreVolume_warp24_RV4_67hrs_down32_annotationAsScoreVolume_SNR_L.bp\" \"/media/yuncong/YuncongPublic/CSHL_volumes/RV13_64hrs/RV13_64hrs_down32_annotationAsScoreVolume_warp24_RV4_67hrs_down32_annotationAsScoreVolume/score_volumes/RV13_64hrs_down32_annotationAsScoreVolume_warp24_RV4_67hrs_down32_annotationAsScoreVolume_SNR_L.bp\"\n"
     ]
    },
    {
     "name": "stderr",
     "output_type": "stream",
     "text": [
      "[Errno 2] No such file or directory: '/media/yuncong/YuncongPublic/CSHL_volumes/RV13_64hrs/RV13_64hrs_down32_annotationAsScoreVolume_warp24_RV4_67hrs_down32_annotationAsScoreVolume/score_volumes/RV13_64hrs_down32_annotationAsScoreVolume_warp24_RV4_67hrs_down32_annotationAsScoreVolume_SNR_L.bp'\n",
      "Score volume for SNR_L does not exist.\n"
     ]
    },
    {
     "name": "stdout",
     "output_type": "stream",
     "text": [
      "rm -rf \"/media/yuncong/YuncongPublic/CSHL_volumes/RV13_64hrs/RV13_64hrs_down32_annotationAsScoreVolume_warp24_RV4_67hrs_down32_annotationAsScoreVolume/score_volumes/RV13_64hrs_down32_annotationAsScoreVolume_warp24_RV4_67hrs_down32_annotationAsScoreVolume_SNR_R.bp\" && mkdir -p \"/media/yuncong/YuncongPublic/CSHL_volumes/RV13_64hrs/RV13_64hrs_down32_annotationAsScoreVolume_warp24_RV4_67hrs_down32_annotationAsScoreVolume/score_volumes\"\n",
      "aws s3 cp \"s3://mousebrainatlas-data/CSHL_volumes/RV13_64hrs/RV13_64hrs_down32_annotationAsScoreVolume_warp24_RV4_67hrs_down32_annotationAsScoreVolume/score_volumes/RV13_64hrs_down32_annotationAsScoreVolume_warp24_RV4_67hrs_down32_annotationAsScoreVolume_SNR_R.bp\" \"/media/yuncong/YuncongPublic/CSHL_volumes/RV13_64hrs/RV13_64hrs_down32_annotationAsScoreVolume_warp24_RV4_67hrs_down32_annotationAsScoreVolume/score_volumes/RV13_64hrs_down32_annotationAsScoreVolume_warp24_RV4_67hrs_down32_annotationAsScoreVolume_SNR_R.bp\"\n"
     ]
    },
    {
     "name": "stderr",
     "output_type": "stream",
     "text": [
      "[Errno 2] No such file or directory: '/media/yuncong/YuncongPublic/CSHL_volumes/RV13_64hrs/RV13_64hrs_down32_annotationAsScoreVolume_warp24_RV4_67hrs_down32_annotationAsScoreVolume/score_volumes/RV13_64hrs_down32_annotationAsScoreVolume_warp24_RV4_67hrs_down32_annotationAsScoreVolume_SNR_R.bp'\n",
      "Score volume for SNR_R does not exist.\n"
     ]
    },
    {
     "name": "stdout",
     "output_type": "stream",
     "text": [
      "rm -rf \"/media/yuncong/YuncongPublic/CSHL_volumes/RV13_64hrs/RV13_64hrs_down32_annotationAsScoreVolume_warp24_RV4_67hrs_down32_annotationAsScoreVolume/score_volumes/RV13_64hrs_down32_annotationAsScoreVolume_warp24_RV4_67hrs_down32_annotationAsScoreVolume_3N_L.bp\" && mkdir -p \"/media/yuncong/YuncongPublic/CSHL_volumes/RV13_64hrs/RV13_64hrs_down32_annotationAsScoreVolume_warp24_RV4_67hrs_down32_annotationAsScoreVolume/score_volumes\"\n",
      "aws s3 cp \"s3://mousebrainatlas-data/CSHL_volumes/RV13_64hrs/RV13_64hrs_down32_annotationAsScoreVolume_warp24_RV4_67hrs_down32_annotationAsScoreVolume/score_volumes/RV13_64hrs_down32_annotationAsScoreVolume_warp24_RV4_67hrs_down32_annotationAsScoreVolume_3N_L.bp\" \"/media/yuncong/YuncongPublic/CSHL_volumes/RV13_64hrs/RV13_64hrs_down32_annotationAsScoreVolume_warp24_RV4_67hrs_down32_annotationAsScoreVolume/score_volumes/RV13_64hrs_down32_annotationAsScoreVolume_warp24_RV4_67hrs_down32_annotationAsScoreVolume_3N_L.bp\"\n"
     ]
    },
    {
     "name": "stderr",
     "output_type": "stream",
     "text": [
      "[Errno 2] No such file or directory: '/media/yuncong/YuncongPublic/CSHL_volumes/RV13_64hrs/RV13_64hrs_down32_annotationAsScoreVolume_warp24_RV4_67hrs_down32_annotationAsScoreVolume/score_volumes/RV13_64hrs_down32_annotationAsScoreVolume_warp24_RV4_67hrs_down32_annotationAsScoreVolume_3N_L.bp'\n",
      "Score volume for 3N_L does not exist.\n"
     ]
    },
    {
     "name": "stdout",
     "output_type": "stream",
     "text": [
      "rm -rf \"/media/yuncong/YuncongPublic/CSHL_volumes/RV13_64hrs/RV13_64hrs_down32_annotationAsScoreVolume_warp24_RV4_67hrs_down32_annotationAsScoreVolume/score_volumes/RV13_64hrs_down32_annotationAsScoreVolume_warp24_RV4_67hrs_down32_annotationAsScoreVolume_3N_R.bp\" && mkdir -p \"/media/yuncong/YuncongPublic/CSHL_volumes/RV13_64hrs/RV13_64hrs_down32_annotationAsScoreVolume_warp24_RV4_67hrs_down32_annotationAsScoreVolume/score_volumes\"\n",
      "aws s3 cp \"s3://mousebrainatlas-data/CSHL_volumes/RV13_64hrs/RV13_64hrs_down32_annotationAsScoreVolume_warp24_RV4_67hrs_down32_annotationAsScoreVolume/score_volumes/RV13_64hrs_down32_annotationAsScoreVolume_warp24_RV4_67hrs_down32_annotationAsScoreVolume_3N_R.bp\" \"/media/yuncong/YuncongPublic/CSHL_volumes/RV13_64hrs/RV13_64hrs_down32_annotationAsScoreVolume_warp24_RV4_67hrs_down32_annotationAsScoreVolume/score_volumes/RV13_64hrs_down32_annotationAsScoreVolume_warp24_RV4_67hrs_down32_annotationAsScoreVolume_3N_R.bp\"\n"
     ]
    },
    {
     "name": "stderr",
     "output_type": "stream",
     "text": [
      "[Errno 2] No such file or directory: '/media/yuncong/YuncongPublic/CSHL_volumes/RV13_64hrs/RV13_64hrs_down32_annotationAsScoreVolume_warp24_RV4_67hrs_down32_annotationAsScoreVolume/score_volumes/RV13_64hrs_down32_annotationAsScoreVolume_warp24_RV4_67hrs_down32_annotationAsScoreVolume_3N_R.bp'\n",
      "Score volume for 3N_R does not exist.\n"
     ]
    },
    {
     "name": "stdout",
     "output_type": "stream",
     "text": [
      "rm -rf \"/media/yuncong/YuncongPublic/CSHL_volumes/RV13_64hrs/RV13_64hrs_down32_annotationAsScoreVolume_warp24_RV4_67hrs_down32_annotationAsScoreVolume/score_volumes/RV13_64hrs_down32_annotationAsScoreVolume_warp24_RV4_67hrs_down32_annotationAsScoreVolume_4N_L.bp\" && mkdir -p \"/media/yuncong/YuncongPublic/CSHL_volumes/RV13_64hrs/RV13_64hrs_down32_annotationAsScoreVolume_warp24_RV4_67hrs_down32_annotationAsScoreVolume/score_volumes\"\n",
      "aws s3 cp \"s3://mousebrainatlas-data/CSHL_volumes/RV13_64hrs/RV13_64hrs_down32_annotationAsScoreVolume_warp24_RV4_67hrs_down32_annotationAsScoreVolume/score_volumes/RV13_64hrs_down32_annotationAsScoreVolume_warp24_RV4_67hrs_down32_annotationAsScoreVolume_4N_L.bp\" \"/media/yuncong/YuncongPublic/CSHL_volumes/RV13_64hrs/RV13_64hrs_down32_annotationAsScoreVolume_warp24_RV4_67hrs_down32_annotationAsScoreVolume/score_volumes/RV13_64hrs_down32_annotationAsScoreVolume_warp24_RV4_67hrs_down32_annotationAsScoreVolume_4N_L.bp\"\n"
     ]
    },
    {
     "name": "stderr",
     "output_type": "stream",
     "text": [
      "[Errno 2] No such file or directory: '/media/yuncong/YuncongPublic/CSHL_volumes/RV13_64hrs/RV13_64hrs_down32_annotationAsScoreVolume_warp24_RV4_67hrs_down32_annotationAsScoreVolume/score_volumes/RV13_64hrs_down32_annotationAsScoreVolume_warp24_RV4_67hrs_down32_annotationAsScoreVolume_4N_L.bp'\n",
      "Score volume for 4N_L does not exist.\n"
     ]
    },
    {
     "name": "stdout",
     "output_type": "stream",
     "text": [
      "rm -rf \"/media/yuncong/YuncongPublic/CSHL_volumes/RV13_64hrs/RV13_64hrs_down32_annotationAsScoreVolume_warp24_RV4_67hrs_down32_annotationAsScoreVolume/score_volumes/RV13_64hrs_down32_annotationAsScoreVolume_warp24_RV4_67hrs_down32_annotationAsScoreVolume_4N_R.bp\" && mkdir -p \"/media/yuncong/YuncongPublic/CSHL_volumes/RV13_64hrs/RV13_64hrs_down32_annotationAsScoreVolume_warp24_RV4_67hrs_down32_annotationAsScoreVolume/score_volumes\"\n",
      "aws s3 cp \"s3://mousebrainatlas-data/CSHL_volumes/RV13_64hrs/RV13_64hrs_down32_annotationAsScoreVolume_warp24_RV4_67hrs_down32_annotationAsScoreVolume/score_volumes/RV13_64hrs_down32_annotationAsScoreVolume_warp24_RV4_67hrs_down32_annotationAsScoreVolume_4N_R.bp\" \"/media/yuncong/YuncongPublic/CSHL_volumes/RV13_64hrs/RV13_64hrs_down32_annotationAsScoreVolume_warp24_RV4_67hrs_down32_annotationAsScoreVolume/score_volumes/RV13_64hrs_down32_annotationAsScoreVolume_warp24_RV4_67hrs_down32_annotationAsScoreVolume_4N_R.bp\"\n"
     ]
    },
    {
     "name": "stderr",
     "output_type": "stream",
     "text": [
      "[Errno 2] No such file or directory: '/media/yuncong/YuncongPublic/CSHL_volumes/RV13_64hrs/RV13_64hrs_down32_annotationAsScoreVolume_warp24_RV4_67hrs_down32_annotationAsScoreVolume/score_volumes/RV13_64hrs_down32_annotationAsScoreVolume_warp24_RV4_67hrs_down32_annotationAsScoreVolume_4N_R.bp'\n",
      "Score volume for 4N_R does not exist.\n"
     ]
    },
    {
     "name": "stdout",
     "output_type": "stream",
     "text": [
      "rm -rf \"/media/yuncong/YuncongPublic/CSHL_volumes/RV13_64hrs/RV13_64hrs_down32_annotationAsScoreVolume_warp24_RV4_67hrs_down32_annotationAsScoreVolume/score_volumes/RV13_64hrs_down32_annotationAsScoreVolume_warp24_RV4_67hrs_down32_annotationAsScoreVolume_Sp5I_L.bp\" && mkdir -p \"/media/yuncong/YuncongPublic/CSHL_volumes/RV13_64hrs/RV13_64hrs_down32_annotationAsScoreVolume_warp24_RV4_67hrs_down32_annotationAsScoreVolume/score_volumes\"\n",
      "aws s3 cp \"s3://mousebrainatlas-data/CSHL_volumes/RV13_64hrs/RV13_64hrs_down32_annotationAsScoreVolume_warp24_RV4_67hrs_down32_annotationAsScoreVolume/score_volumes/RV13_64hrs_down32_annotationAsScoreVolume_warp24_RV4_67hrs_down32_annotationAsScoreVolume_Sp5I_L.bp\" \"/media/yuncong/YuncongPublic/CSHL_volumes/RV13_64hrs/RV13_64hrs_down32_annotationAsScoreVolume_warp24_RV4_67hrs_down32_annotationAsScoreVolume/score_volumes/RV13_64hrs_down32_annotationAsScoreVolume_warp24_RV4_67hrs_down32_annotationAsScoreVolume_Sp5I_L.bp\"\n",
      "rm -rf \"/media/yuncong/YuncongPublic/CSHL_volumes/RV13_64hrs/RV13_64hrs_down32_annotationAsScoreVolume_warp24_RV4_67hrs_down32_annotationAsScoreVolume/score_volumes/RV13_64hrs_down32_annotationAsScoreVolume_warp24_RV4_67hrs_down32_annotationAsScoreVolume_Sp5I_L_bbox.txt\" && mkdir -p \"/media/yuncong/YuncongPublic/CSHL_volumes/RV13_64hrs/RV13_64hrs_down32_annotationAsScoreVolume_warp24_RV4_67hrs_down32_annotationAsScoreVolume/score_volumes\"\n",
      "aws s3 cp \"s3://mousebrainatlas-data/CSHL_volumes/RV13_64hrs/RV13_64hrs_down32_annotationAsScoreVolume_warp24_RV4_67hrs_down32_annotationAsScoreVolume/score_volumes/RV13_64hrs_down32_annotationAsScoreVolume_warp24_RV4_67hrs_down32_annotationAsScoreVolume_Sp5I_L_bbox.txt\" \"/media/yuncong/YuncongPublic/CSHL_volumes/RV13_64hrs/RV13_64hrs_down32_annotationAsScoreVolume_warp24_RV4_67hrs_down32_annotationAsScoreVolume/score_volumes/RV13_64hrs_down32_annotationAsScoreVolume_warp24_RV4_67hrs_down32_annotationAsScoreVolume_Sp5I_L_bbox.txt\"\n",
      "rm -rf \"/media/yuncong/YuncongPublic/CSHL_volumes/RV13_64hrs/RV13_64hrs_down32_annotationAsScoreVolume_warp24_RV4_67hrs_down32_annotationAsScoreVolume/score_volumes/RV13_64hrs_down32_annotationAsScoreVolume_warp24_RV4_67hrs_down32_annotationAsScoreVolume_Sp5I_R.bp\" && mkdir -p \"/media/yuncong/YuncongPublic/CSHL_volumes/RV13_64hrs/RV13_64hrs_down32_annotationAsScoreVolume_warp24_RV4_67hrs_down32_annotationAsScoreVolume/score_volumes\"\n",
      "aws s3 cp \"s3://mousebrainatlas-data/CSHL_volumes/RV13_64hrs/RV13_64hrs_down32_annotationAsScoreVolume_warp24_RV4_67hrs_down32_annotationAsScoreVolume/score_volumes/RV13_64hrs_down32_annotationAsScoreVolume_warp24_RV4_67hrs_down32_annotationAsScoreVolume_Sp5I_R.bp\" \"/media/yuncong/YuncongPublic/CSHL_volumes/RV13_64hrs/RV13_64hrs_down32_annotationAsScoreVolume_warp24_RV4_67hrs_down32_annotationAsScoreVolume/score_volumes/RV13_64hrs_down32_annotationAsScoreVolume_warp24_RV4_67hrs_down32_annotationAsScoreVolume_Sp5I_R.bp\"\n",
      "rm -rf \"/media/yuncong/YuncongPublic/CSHL_volumes/RV13_64hrs/RV13_64hrs_down32_annotationAsScoreVolume_warp24_RV4_67hrs_down32_annotationAsScoreVolume/score_volumes/RV13_64hrs_down32_annotationAsScoreVolume_warp24_RV4_67hrs_down32_annotationAsScoreVolume_Sp5I_R_bbox.txt\" && mkdir -p \"/media/yuncong/YuncongPublic/CSHL_volumes/RV13_64hrs/RV13_64hrs_down32_annotationAsScoreVolume_warp24_RV4_67hrs_down32_annotationAsScoreVolume/score_volumes\"\n",
      "aws s3 cp \"s3://mousebrainatlas-data/CSHL_volumes/RV13_64hrs/RV13_64hrs_down32_annotationAsScoreVolume_warp24_RV4_67hrs_down32_annotationAsScoreVolume/score_volumes/RV13_64hrs_down32_annotationAsScoreVolume_warp24_RV4_67hrs_down32_annotationAsScoreVolume_Sp5I_R_bbox.txt\" \"/media/yuncong/YuncongPublic/CSHL_volumes/RV13_64hrs/RV13_64hrs_down32_annotationAsScoreVolume_warp24_RV4_67hrs_down32_annotationAsScoreVolume/score_volumes/RV13_64hrs_down32_annotationAsScoreVolume_warp24_RV4_67hrs_down32_annotationAsScoreVolume_Sp5I_R_bbox.txt\"\n",
      "rm -rf \"/media/yuncong/YuncongPublic/CSHL_volumes/RV13_64hrs/RV13_64hrs_down32_annotationAsScoreVolume_warp24_RV4_67hrs_down32_annotationAsScoreVolume/score_volumes/RV13_64hrs_down32_annotationAsScoreVolume_warp24_RV4_67hrs_down32_annotationAsScoreVolume_Sp5O_L.bp\" && mkdir -p \"/media/yuncong/YuncongPublic/CSHL_volumes/RV13_64hrs/RV13_64hrs_down32_annotationAsScoreVolume_warp24_RV4_67hrs_down32_annotationAsScoreVolume/score_volumes\"\n",
      "aws s3 cp \"s3://mousebrainatlas-data/CSHL_volumes/RV13_64hrs/RV13_64hrs_down32_annotationAsScoreVolume_warp24_RV4_67hrs_down32_annotationAsScoreVolume/score_volumes/RV13_64hrs_down32_annotationAsScoreVolume_warp24_RV4_67hrs_down32_annotationAsScoreVolume_Sp5O_L.bp\" \"/media/yuncong/YuncongPublic/CSHL_volumes/RV13_64hrs/RV13_64hrs_down32_annotationAsScoreVolume_warp24_RV4_67hrs_down32_annotationAsScoreVolume/score_volumes/RV13_64hrs_down32_annotationAsScoreVolume_warp24_RV4_67hrs_down32_annotationAsScoreVolume_Sp5O_L.bp\"\n"
     ]
    },
    {
     "name": "stderr",
     "output_type": "stream",
     "text": [
      "[Errno 2] No such file or directory: '/media/yuncong/YuncongPublic/CSHL_volumes/RV13_64hrs/RV13_64hrs_down32_annotationAsScoreVolume_warp24_RV4_67hrs_down32_annotationAsScoreVolume/score_volumes/RV13_64hrs_down32_annotationAsScoreVolume_warp24_RV4_67hrs_down32_annotationAsScoreVolume_Sp5O_L.bp'\n",
      "Score volume for Sp5O_L does not exist.\n"
     ]
    },
    {
     "name": "stdout",
     "output_type": "stream",
     "text": [
      "rm -rf \"/media/yuncong/YuncongPublic/CSHL_volumes/RV13_64hrs/RV13_64hrs_down32_annotationAsScoreVolume_warp24_RV4_67hrs_down32_annotationAsScoreVolume/score_volumes/RV13_64hrs_down32_annotationAsScoreVolume_warp24_RV4_67hrs_down32_annotationAsScoreVolume_Sp5O_R.bp\" && mkdir -p \"/media/yuncong/YuncongPublic/CSHL_volumes/RV13_64hrs/RV13_64hrs_down32_annotationAsScoreVolume_warp24_RV4_67hrs_down32_annotationAsScoreVolume/score_volumes\"\n",
      "aws s3 cp \"s3://mousebrainatlas-data/CSHL_volumes/RV13_64hrs/RV13_64hrs_down32_annotationAsScoreVolume_warp24_RV4_67hrs_down32_annotationAsScoreVolume/score_volumes/RV13_64hrs_down32_annotationAsScoreVolume_warp24_RV4_67hrs_down32_annotationAsScoreVolume_Sp5O_R.bp\" \"/media/yuncong/YuncongPublic/CSHL_volumes/RV13_64hrs/RV13_64hrs_down32_annotationAsScoreVolume_warp24_RV4_67hrs_down32_annotationAsScoreVolume/score_volumes/RV13_64hrs_down32_annotationAsScoreVolume_warp24_RV4_67hrs_down32_annotationAsScoreVolume_Sp5O_R.bp\"\n",
      "rm -rf \"/media/yuncong/YuncongPublic/CSHL_volumes/RV13_64hrs/RV13_64hrs_down32_annotationAsScoreVolume_warp24_RV4_67hrs_down32_annotationAsScoreVolume/score_volumes/RV13_64hrs_down32_annotationAsScoreVolume_warp24_RV4_67hrs_down32_annotationAsScoreVolume_Sp5O_R_bbox.txt\" && mkdir -p \"/media/yuncong/YuncongPublic/CSHL_volumes/RV13_64hrs/RV13_64hrs_down32_annotationAsScoreVolume_warp24_RV4_67hrs_down32_annotationAsScoreVolume/score_volumes\"\n",
      "aws s3 cp \"s3://mousebrainatlas-data/CSHL_volumes/RV13_64hrs/RV13_64hrs_down32_annotationAsScoreVolume_warp24_RV4_67hrs_down32_annotationAsScoreVolume/score_volumes/RV13_64hrs_down32_annotationAsScoreVolume_warp24_RV4_67hrs_down32_annotationAsScoreVolume_Sp5O_R_bbox.txt\" \"/media/yuncong/YuncongPublic/CSHL_volumes/RV13_64hrs/RV13_64hrs_down32_annotationAsScoreVolume_warp24_RV4_67hrs_down32_annotationAsScoreVolume/score_volumes/RV13_64hrs_down32_annotationAsScoreVolume_warp24_RV4_67hrs_down32_annotationAsScoreVolume_Sp5O_R_bbox.txt\"\n",
      "rm -rf \"/media/yuncong/YuncongPublic/CSHL_volumes/RV13_64hrs/RV13_64hrs_down32_annotationAsScoreVolume_warp24_RV4_67hrs_down32_annotationAsScoreVolume/score_volumes/RV13_64hrs_down32_annotationAsScoreVolume_warp24_RV4_67hrs_down32_annotationAsScoreVolume_Sp5C_L.bp\" && mkdir -p \"/media/yuncong/YuncongPublic/CSHL_volumes/RV13_64hrs/RV13_64hrs_down32_annotationAsScoreVolume_warp24_RV4_67hrs_down32_annotationAsScoreVolume/score_volumes\"\n",
      "aws s3 cp \"s3://mousebrainatlas-data/CSHL_volumes/RV13_64hrs/RV13_64hrs_down32_annotationAsScoreVolume_warp24_RV4_67hrs_down32_annotationAsScoreVolume/score_volumes/RV13_64hrs_down32_annotationAsScoreVolume_warp24_RV4_67hrs_down32_annotationAsScoreVolume_Sp5C_L.bp\" \"/media/yuncong/YuncongPublic/CSHL_volumes/RV13_64hrs/RV13_64hrs_down32_annotationAsScoreVolume_warp24_RV4_67hrs_down32_annotationAsScoreVolume/score_volumes/RV13_64hrs_down32_annotationAsScoreVolume_warp24_RV4_67hrs_down32_annotationAsScoreVolume_Sp5C_L.bp\"\n",
      "rm -rf \"/media/yuncong/YuncongPublic/CSHL_volumes/RV13_64hrs/RV13_64hrs_down32_annotationAsScoreVolume_warp24_RV4_67hrs_down32_annotationAsScoreVolume/score_volumes/RV13_64hrs_down32_annotationAsScoreVolume_warp24_RV4_67hrs_down32_annotationAsScoreVolume_Sp5C_L_bbox.txt\" && mkdir -p \"/media/yuncong/YuncongPublic/CSHL_volumes/RV13_64hrs/RV13_64hrs_down32_annotationAsScoreVolume_warp24_RV4_67hrs_down32_annotationAsScoreVolume/score_volumes\"\n",
      "aws s3 cp \"s3://mousebrainatlas-data/CSHL_volumes/RV13_64hrs/RV13_64hrs_down32_annotationAsScoreVolume_warp24_RV4_67hrs_down32_annotationAsScoreVolume/score_volumes/RV13_64hrs_down32_annotationAsScoreVolume_warp24_RV4_67hrs_down32_annotationAsScoreVolume_Sp5C_L_bbox.txt\" \"/media/yuncong/YuncongPublic/CSHL_volumes/RV13_64hrs/RV13_64hrs_down32_annotationAsScoreVolume_warp24_RV4_67hrs_down32_annotationAsScoreVolume/score_volumes/RV13_64hrs_down32_annotationAsScoreVolume_warp24_RV4_67hrs_down32_annotationAsScoreVolume_Sp5C_L_bbox.txt\"\n",
      "rm -rf \"/media/yuncong/YuncongPublic/CSHL_volumes/RV13_64hrs/RV13_64hrs_down32_annotationAsScoreVolume_warp24_RV4_67hrs_down32_annotationAsScoreVolume/score_volumes/RV13_64hrs_down32_annotationAsScoreVolume_warp24_RV4_67hrs_down32_annotationAsScoreVolume_Sp5C_R.bp\" && mkdir -p \"/media/yuncong/YuncongPublic/CSHL_volumes/RV13_64hrs/RV13_64hrs_down32_annotationAsScoreVolume_warp24_RV4_67hrs_down32_annotationAsScoreVolume/score_volumes\"\n",
      "aws s3 cp \"s3://mousebrainatlas-data/CSHL_volumes/RV13_64hrs/RV13_64hrs_down32_annotationAsScoreVolume_warp24_RV4_67hrs_down32_annotationAsScoreVolume/score_volumes/RV13_64hrs_down32_annotationAsScoreVolume_warp24_RV4_67hrs_down32_annotationAsScoreVolume_Sp5C_R.bp\" \"/media/yuncong/YuncongPublic/CSHL_volumes/RV13_64hrs/RV13_64hrs_down32_annotationAsScoreVolume_warp24_RV4_67hrs_down32_annotationAsScoreVolume/score_volumes/RV13_64hrs_down32_annotationAsScoreVolume_warp24_RV4_67hrs_down32_annotationAsScoreVolume_Sp5C_R.bp\"\n",
      "rm -rf \"/media/yuncong/YuncongPublic/CSHL_volumes/RV13_64hrs/RV13_64hrs_down32_annotationAsScoreVolume_warp24_RV4_67hrs_down32_annotationAsScoreVolume/score_volumes/RV13_64hrs_down32_annotationAsScoreVolume_warp24_RV4_67hrs_down32_annotationAsScoreVolume_Sp5C_R_bbox.txt\" && mkdir -p \"/media/yuncong/YuncongPublic/CSHL_volumes/RV13_64hrs/RV13_64hrs_down32_annotationAsScoreVolume_warp24_RV4_67hrs_down32_annotationAsScoreVolume/score_volumes\"\n",
      "aws s3 cp \"s3://mousebrainatlas-data/CSHL_volumes/RV13_64hrs/RV13_64hrs_down32_annotationAsScoreVolume_warp24_RV4_67hrs_down32_annotationAsScoreVolume/score_volumes/RV13_64hrs_down32_annotationAsScoreVolume_warp24_RV4_67hrs_down32_annotationAsScoreVolume_Sp5C_R_bbox.txt\" \"/media/yuncong/YuncongPublic/CSHL_volumes/RV13_64hrs/RV13_64hrs_down32_annotationAsScoreVolume_warp24_RV4_67hrs_down32_annotationAsScoreVolume/score_volumes/RV13_64hrs_down32_annotationAsScoreVolume_warp24_RV4_67hrs_down32_annotationAsScoreVolume_Sp5C_R_bbox.txt\"\n",
      "rm -rf \"/media/yuncong/YuncongPublic/CSHL_volumes/RV13_64hrs/RV13_64hrs_down32_annotationAsScoreVolume_warp24_RV4_67hrs_down32_annotationAsScoreVolume/score_volumes/RV13_64hrs_down32_annotationAsScoreVolume_warp24_RV4_67hrs_down32_annotationAsScoreVolume_PBG_L.bp\" && mkdir -p \"/media/yuncong/YuncongPublic/CSHL_volumes/RV13_64hrs/RV13_64hrs_down32_annotationAsScoreVolume_warp24_RV4_67hrs_down32_annotationAsScoreVolume/score_volumes\"\n",
      "aws s3 cp \"s3://mousebrainatlas-data/CSHL_volumes/RV13_64hrs/RV13_64hrs_down32_annotationAsScoreVolume_warp24_RV4_67hrs_down32_annotationAsScoreVolume/score_volumes/RV13_64hrs_down32_annotationAsScoreVolume_warp24_RV4_67hrs_down32_annotationAsScoreVolume_PBG_L.bp\" \"/media/yuncong/YuncongPublic/CSHL_volumes/RV13_64hrs/RV13_64hrs_down32_annotationAsScoreVolume_warp24_RV4_67hrs_down32_annotationAsScoreVolume/score_volumes/RV13_64hrs_down32_annotationAsScoreVolume_warp24_RV4_67hrs_down32_annotationAsScoreVolume_PBG_L.bp\"\n"
     ]
    },
    {
     "name": "stderr",
     "output_type": "stream",
     "text": [
      "[Errno 2] No such file or directory: '/media/yuncong/YuncongPublic/CSHL_volumes/RV13_64hrs/RV13_64hrs_down32_annotationAsScoreVolume_warp24_RV4_67hrs_down32_annotationAsScoreVolume/score_volumes/RV13_64hrs_down32_annotationAsScoreVolume_warp24_RV4_67hrs_down32_annotationAsScoreVolume_PBG_L.bp'\n",
      "Score volume for PBG_L does not exist.\n"
     ]
    },
    {
     "name": "stdout",
     "output_type": "stream",
     "text": [
      "rm -rf \"/media/yuncong/YuncongPublic/CSHL_volumes/RV13_64hrs/RV13_64hrs_down32_annotationAsScoreVolume_warp24_RV4_67hrs_down32_annotationAsScoreVolume/score_volumes/RV13_64hrs_down32_annotationAsScoreVolume_warp24_RV4_67hrs_down32_annotationAsScoreVolume_PBG_R.bp\" && mkdir -p \"/media/yuncong/YuncongPublic/CSHL_volumes/RV13_64hrs/RV13_64hrs_down32_annotationAsScoreVolume_warp24_RV4_67hrs_down32_annotationAsScoreVolume/score_volumes\"\n",
      "aws s3 cp \"s3://mousebrainatlas-data/CSHL_volumes/RV13_64hrs/RV13_64hrs_down32_annotationAsScoreVolume_warp24_RV4_67hrs_down32_annotationAsScoreVolume/score_volumes/RV13_64hrs_down32_annotationAsScoreVolume_warp24_RV4_67hrs_down32_annotationAsScoreVolume_PBG_R.bp\" \"/media/yuncong/YuncongPublic/CSHL_volumes/RV13_64hrs/RV13_64hrs_down32_annotationAsScoreVolume_warp24_RV4_67hrs_down32_annotationAsScoreVolume/score_volumes/RV13_64hrs_down32_annotationAsScoreVolume_warp24_RV4_67hrs_down32_annotationAsScoreVolume_PBG_R.bp\"\n"
     ]
    },
    {
     "name": "stderr",
     "output_type": "stream",
     "text": [
      "[Errno 2] No such file or directory: '/media/yuncong/YuncongPublic/CSHL_volumes/RV13_64hrs/RV13_64hrs_down32_annotationAsScoreVolume_warp24_RV4_67hrs_down32_annotationAsScoreVolume/score_volumes/RV13_64hrs_down32_annotationAsScoreVolume_warp24_RV4_67hrs_down32_annotationAsScoreVolume_PBG_R.bp'\n",
      "Score volume for PBG_R does not exist.\n"
     ]
    },
    {
     "name": "stdout",
     "output_type": "stream",
     "text": [
      "rm -rf \"/media/yuncong/YuncongPublic/CSHL_volumes/RV13_64hrs/RV13_64hrs_down32_annotationAsScoreVolume_warp24_RV4_67hrs_down32_annotationAsScoreVolume/score_volumes/RV13_64hrs_down32_annotationAsScoreVolume_warp24_RV4_67hrs_down32_annotationAsScoreVolume_10N_L.bp\" && mkdir -p \"/media/yuncong/YuncongPublic/CSHL_volumes/RV13_64hrs/RV13_64hrs_down32_annotationAsScoreVolume_warp24_RV4_67hrs_down32_annotationAsScoreVolume/score_volumes\"\n",
      "aws s3 cp \"s3://mousebrainatlas-data/CSHL_volumes/RV13_64hrs/RV13_64hrs_down32_annotationAsScoreVolume_warp24_RV4_67hrs_down32_annotationAsScoreVolume/score_volumes/RV13_64hrs_down32_annotationAsScoreVolume_warp24_RV4_67hrs_down32_annotationAsScoreVolume_10N_L.bp\" \"/media/yuncong/YuncongPublic/CSHL_volumes/RV13_64hrs/RV13_64hrs_down32_annotationAsScoreVolume_warp24_RV4_67hrs_down32_annotationAsScoreVolume/score_volumes/RV13_64hrs_down32_annotationAsScoreVolume_warp24_RV4_67hrs_down32_annotationAsScoreVolume_10N_L.bp\"\n"
     ]
    },
    {
     "name": "stderr",
     "output_type": "stream",
     "text": [
      "[Errno 2] No such file or directory: '/media/yuncong/YuncongPublic/CSHL_volumes/RV13_64hrs/RV13_64hrs_down32_annotationAsScoreVolume_warp24_RV4_67hrs_down32_annotationAsScoreVolume/score_volumes/RV13_64hrs_down32_annotationAsScoreVolume_warp24_RV4_67hrs_down32_annotationAsScoreVolume_10N_L.bp'\n",
      "Score volume for 10N_L does not exist.\n"
     ]
    },
    {
     "name": "stdout",
     "output_type": "stream",
     "text": [
      "rm -rf \"/media/yuncong/YuncongPublic/CSHL_volumes/RV13_64hrs/RV13_64hrs_down32_annotationAsScoreVolume_warp24_RV4_67hrs_down32_annotationAsScoreVolume/score_volumes/RV13_64hrs_down32_annotationAsScoreVolume_warp24_RV4_67hrs_down32_annotationAsScoreVolume_10N_R.bp\" && mkdir -p \"/media/yuncong/YuncongPublic/CSHL_volumes/RV13_64hrs/RV13_64hrs_down32_annotationAsScoreVolume_warp24_RV4_67hrs_down32_annotationAsScoreVolume/score_volumes\"\n",
      "aws s3 cp \"s3://mousebrainatlas-data/CSHL_volumes/RV13_64hrs/RV13_64hrs_down32_annotationAsScoreVolume_warp24_RV4_67hrs_down32_annotationAsScoreVolume/score_volumes/RV13_64hrs_down32_annotationAsScoreVolume_warp24_RV4_67hrs_down32_annotationAsScoreVolume_10N_R.bp\" \"/media/yuncong/YuncongPublic/CSHL_volumes/RV13_64hrs/RV13_64hrs_down32_annotationAsScoreVolume_warp24_RV4_67hrs_down32_annotationAsScoreVolume/score_volumes/RV13_64hrs_down32_annotationAsScoreVolume_warp24_RV4_67hrs_down32_annotationAsScoreVolume_10N_R.bp\"\n"
     ]
    },
    {
     "name": "stderr",
     "output_type": "stream",
     "text": [
      "[Errno 2] No such file or directory: '/media/yuncong/YuncongPublic/CSHL_volumes/RV13_64hrs/RV13_64hrs_down32_annotationAsScoreVolume_warp24_RV4_67hrs_down32_annotationAsScoreVolume/score_volumes/RV13_64hrs_down32_annotationAsScoreVolume_warp24_RV4_67hrs_down32_annotationAsScoreVolume_10N_R.bp'\n",
      "Score volume for 10N_R does not exist.\n"
     ]
    },
    {
     "name": "stdout",
     "output_type": "stream",
     "text": [
      "rm -rf \"/media/yuncong/YuncongPublic/CSHL_volumes/RV13_64hrs/RV13_64hrs_down32_annotationAsScoreVolume_warp24_RV4_67hrs_down32_annotationAsScoreVolume/score_volumes/RV13_64hrs_down32_annotationAsScoreVolume_warp24_RV4_67hrs_down32_annotationAsScoreVolume_VCA_L.bp\" && mkdir -p \"/media/yuncong/YuncongPublic/CSHL_volumes/RV13_64hrs/RV13_64hrs_down32_annotationAsScoreVolume_warp24_RV4_67hrs_down32_annotationAsScoreVolume/score_volumes\"\n",
      "aws s3 cp \"s3://mousebrainatlas-data/CSHL_volumes/RV13_64hrs/RV13_64hrs_down32_annotationAsScoreVolume_warp24_RV4_67hrs_down32_annotationAsScoreVolume/score_volumes/RV13_64hrs_down32_annotationAsScoreVolume_warp24_RV4_67hrs_down32_annotationAsScoreVolume_VCA_L.bp\" \"/media/yuncong/YuncongPublic/CSHL_volumes/RV13_64hrs/RV13_64hrs_down32_annotationAsScoreVolume_warp24_RV4_67hrs_down32_annotationAsScoreVolume/score_volumes/RV13_64hrs_down32_annotationAsScoreVolume_warp24_RV4_67hrs_down32_annotationAsScoreVolume_VCA_L.bp\"\n"
     ]
    },
    {
     "name": "stderr",
     "output_type": "stream",
     "text": [
      "[Errno 2] No such file or directory: '/media/yuncong/YuncongPublic/CSHL_volumes/RV13_64hrs/RV13_64hrs_down32_annotationAsScoreVolume_warp24_RV4_67hrs_down32_annotationAsScoreVolume/score_volumes/RV13_64hrs_down32_annotationAsScoreVolume_warp24_RV4_67hrs_down32_annotationAsScoreVolume_VCA_L.bp'\n",
      "Score volume for VCA_L does not exist.\n"
     ]
    },
    {
     "name": "stdout",
     "output_type": "stream",
     "text": [
      "rm -rf \"/media/yuncong/YuncongPublic/CSHL_volumes/RV13_64hrs/RV13_64hrs_down32_annotationAsScoreVolume_warp24_RV4_67hrs_down32_annotationAsScoreVolume/score_volumes/RV13_64hrs_down32_annotationAsScoreVolume_warp24_RV4_67hrs_down32_annotationAsScoreVolume_VCA_R.bp\" && mkdir -p \"/media/yuncong/YuncongPublic/CSHL_volumes/RV13_64hrs/RV13_64hrs_down32_annotationAsScoreVolume_warp24_RV4_67hrs_down32_annotationAsScoreVolume/score_volumes\"\n",
      "aws s3 cp \"s3://mousebrainatlas-data/CSHL_volumes/RV13_64hrs/RV13_64hrs_down32_annotationAsScoreVolume_warp24_RV4_67hrs_down32_annotationAsScoreVolume/score_volumes/RV13_64hrs_down32_annotationAsScoreVolume_warp24_RV4_67hrs_down32_annotationAsScoreVolume_VCA_R.bp\" \"/media/yuncong/YuncongPublic/CSHL_volumes/RV13_64hrs/RV13_64hrs_down32_annotationAsScoreVolume_warp24_RV4_67hrs_down32_annotationAsScoreVolume/score_volumes/RV13_64hrs_down32_annotationAsScoreVolume_warp24_RV4_67hrs_down32_annotationAsScoreVolume_VCA_R.bp\"\n"
     ]
    },
    {
     "name": "stderr",
     "output_type": "stream",
     "text": [
      "[Errno 2] No such file or directory: '/media/yuncong/YuncongPublic/CSHL_volumes/RV13_64hrs/RV13_64hrs_down32_annotationAsScoreVolume_warp24_RV4_67hrs_down32_annotationAsScoreVolume/score_volumes/RV13_64hrs_down32_annotationAsScoreVolume_warp24_RV4_67hrs_down32_annotationAsScoreVolume_VCA_R.bp'\n",
      "Score volume for VCA_R does not exist.\n"
     ]
    },
    {
     "name": "stdout",
     "output_type": "stream",
     "text": [
      "rm -rf \"/media/yuncong/YuncongPublic/CSHL_volumes/RV13_64hrs/RV13_64hrs_down32_annotationAsScoreVolume_warp24_RV4_67hrs_down32_annotationAsScoreVolume/score_volumes/RV13_64hrs_down32_annotationAsScoreVolume_warp24_RV4_67hrs_down32_annotationAsScoreVolume_VCP_L.bp\" && mkdir -p \"/media/yuncong/YuncongPublic/CSHL_volumes/RV13_64hrs/RV13_64hrs_down32_annotationAsScoreVolume_warp24_RV4_67hrs_down32_annotationAsScoreVolume/score_volumes\"\n",
      "aws s3 cp \"s3://mousebrainatlas-data/CSHL_volumes/RV13_64hrs/RV13_64hrs_down32_annotationAsScoreVolume_warp24_RV4_67hrs_down32_annotationAsScoreVolume/score_volumes/RV13_64hrs_down32_annotationAsScoreVolume_warp24_RV4_67hrs_down32_annotationAsScoreVolume_VCP_L.bp\" \"/media/yuncong/YuncongPublic/CSHL_volumes/RV13_64hrs/RV13_64hrs_down32_annotationAsScoreVolume_warp24_RV4_67hrs_down32_annotationAsScoreVolume/score_volumes/RV13_64hrs_down32_annotationAsScoreVolume_warp24_RV4_67hrs_down32_annotationAsScoreVolume_VCP_L.bp\"\n"
     ]
    },
    {
     "name": "stderr",
     "output_type": "stream",
     "text": [
      "[Errno 2] No such file or directory: '/media/yuncong/YuncongPublic/CSHL_volumes/RV13_64hrs/RV13_64hrs_down32_annotationAsScoreVolume_warp24_RV4_67hrs_down32_annotationAsScoreVolume/score_volumes/RV13_64hrs_down32_annotationAsScoreVolume_warp24_RV4_67hrs_down32_annotationAsScoreVolume_VCP_L.bp'\n",
      "Score volume for VCP_L does not exist.\n"
     ]
    },
    {
     "name": "stdout",
     "output_type": "stream",
     "text": [
      "rm -rf \"/media/yuncong/YuncongPublic/CSHL_volumes/RV13_64hrs/RV13_64hrs_down32_annotationAsScoreVolume_warp24_RV4_67hrs_down32_annotationAsScoreVolume/score_volumes/RV13_64hrs_down32_annotationAsScoreVolume_warp24_RV4_67hrs_down32_annotationAsScoreVolume_VCP_R.bp\" && mkdir -p \"/media/yuncong/YuncongPublic/CSHL_volumes/RV13_64hrs/RV13_64hrs_down32_annotationAsScoreVolume_warp24_RV4_67hrs_down32_annotationAsScoreVolume/score_volumes\"\n",
      "aws s3 cp \"s3://mousebrainatlas-data/CSHL_volumes/RV13_64hrs/RV13_64hrs_down32_annotationAsScoreVolume_warp24_RV4_67hrs_down32_annotationAsScoreVolume/score_volumes/RV13_64hrs_down32_annotationAsScoreVolume_warp24_RV4_67hrs_down32_annotationAsScoreVolume_VCP_R.bp\" \"/media/yuncong/YuncongPublic/CSHL_volumes/RV13_64hrs/RV13_64hrs_down32_annotationAsScoreVolume_warp24_RV4_67hrs_down32_annotationAsScoreVolume/score_volumes/RV13_64hrs_down32_annotationAsScoreVolume_warp24_RV4_67hrs_down32_annotationAsScoreVolume_VCP_R.bp\"\n"
     ]
    },
    {
     "name": "stderr",
     "output_type": "stream",
     "text": [
      "[Errno 2] No such file or directory: '/media/yuncong/YuncongPublic/CSHL_volumes/RV13_64hrs/RV13_64hrs_down32_annotationAsScoreVolume_warp24_RV4_67hrs_down32_annotationAsScoreVolume/score_volumes/RV13_64hrs_down32_annotationAsScoreVolume_warp24_RV4_67hrs_down32_annotationAsScoreVolume_VCP_R.bp'\n",
      "Score volume for VCP_R does not exist.\n"
     ]
    },
    {
     "name": "stdout",
     "output_type": "stream",
     "text": [
      "rm -rf \"/media/yuncong/YuncongPublic/CSHL_volumes/RV13_64hrs/RV13_64hrs_down32_annotationAsScoreVolume_warp24_RV4_67hrs_down32_annotationAsScoreVolume/score_volumes/RV13_64hrs_down32_annotationAsScoreVolume_warp24_RV4_67hrs_down32_annotationAsScoreVolume_DC_L.bp\" && mkdir -p \"/media/yuncong/YuncongPublic/CSHL_volumes/RV13_64hrs/RV13_64hrs_down32_annotationAsScoreVolume_warp24_RV4_67hrs_down32_annotationAsScoreVolume/score_volumes\"\n",
      "aws s3 cp \"s3://mousebrainatlas-data/CSHL_volumes/RV13_64hrs/RV13_64hrs_down32_annotationAsScoreVolume_warp24_RV4_67hrs_down32_annotationAsScoreVolume/score_volumes/RV13_64hrs_down32_annotationAsScoreVolume_warp24_RV4_67hrs_down32_annotationAsScoreVolume_DC_L.bp\" \"/media/yuncong/YuncongPublic/CSHL_volumes/RV13_64hrs/RV13_64hrs_down32_annotationAsScoreVolume_warp24_RV4_67hrs_down32_annotationAsScoreVolume/score_volumes/RV13_64hrs_down32_annotationAsScoreVolume_warp24_RV4_67hrs_down32_annotationAsScoreVolume_DC_L.bp\"\n"
     ]
    },
    {
     "name": "stderr",
     "output_type": "stream",
     "text": [
      "[Errno 2] No such file or directory: '/media/yuncong/YuncongPublic/CSHL_volumes/RV13_64hrs/RV13_64hrs_down32_annotationAsScoreVolume_warp24_RV4_67hrs_down32_annotationAsScoreVolume/score_volumes/RV13_64hrs_down32_annotationAsScoreVolume_warp24_RV4_67hrs_down32_annotationAsScoreVolume_DC_L.bp'\n",
      "Score volume for DC_L does not exist.\n"
     ]
    },
    {
     "name": "stdout",
     "output_type": "stream",
     "text": [
      "rm -rf \"/media/yuncong/YuncongPublic/CSHL_volumes/RV13_64hrs/RV13_64hrs_down32_annotationAsScoreVolume_warp24_RV4_67hrs_down32_annotationAsScoreVolume/score_volumes/RV13_64hrs_down32_annotationAsScoreVolume_warp24_RV4_67hrs_down32_annotationAsScoreVolume_DC_R.bp\" && mkdir -p \"/media/yuncong/YuncongPublic/CSHL_volumes/RV13_64hrs/RV13_64hrs_down32_annotationAsScoreVolume_warp24_RV4_67hrs_down32_annotationAsScoreVolume/score_volumes\"\n",
      "aws s3 cp \"s3://mousebrainatlas-data/CSHL_volumes/RV13_64hrs/RV13_64hrs_down32_annotationAsScoreVolume_warp24_RV4_67hrs_down32_annotationAsScoreVolume/score_volumes/RV13_64hrs_down32_annotationAsScoreVolume_warp24_RV4_67hrs_down32_annotationAsScoreVolume_DC_R.bp\" \"/media/yuncong/YuncongPublic/CSHL_volumes/RV13_64hrs/RV13_64hrs_down32_annotationAsScoreVolume_warp24_RV4_67hrs_down32_annotationAsScoreVolume/score_volumes/RV13_64hrs_down32_annotationAsScoreVolume_warp24_RV4_67hrs_down32_annotationAsScoreVolume_DC_R.bp\"\n"
     ]
    },
    {
     "name": "stderr",
     "output_type": "stream",
     "text": [
      "[Errno 2] No such file or directory: '/media/yuncong/YuncongPublic/CSHL_volumes/RV13_64hrs/RV13_64hrs_down32_annotationAsScoreVolume_warp24_RV4_67hrs_down32_annotationAsScoreVolume/score_volumes/RV13_64hrs_down32_annotationAsScoreVolume_warp24_RV4_67hrs_down32_annotationAsScoreVolume_DC_R.bp'\n",
      "Score volume for DC_R does not exist.\n"
     ]
    },
    {
     "name": "stdout",
     "output_type": "stream",
     "text": [
      "rm -rf \"/media/yuncong/YuncongPublic/CSHL_volumes/RV13_64hrs/RV13_64hrs_down32_annotationAsScoreVolume_warp24_RV4_67hrs_down32_annotationAsScoreVolume/score_volumes/RV13_64hrs_down32_annotationAsScoreVolume_warp24_RV4_67hrs_down32_annotationAsScoreVolume_AP.bp\" && mkdir -p \"/media/yuncong/YuncongPublic/CSHL_volumes/RV13_64hrs/RV13_64hrs_down32_annotationAsScoreVolume_warp24_RV4_67hrs_down32_annotationAsScoreVolume/score_volumes\"\n",
      "aws s3 cp \"s3://mousebrainatlas-data/CSHL_volumes/RV13_64hrs/RV13_64hrs_down32_annotationAsScoreVolume_warp24_RV4_67hrs_down32_annotationAsScoreVolume/score_volumes/RV13_64hrs_down32_annotationAsScoreVolume_warp24_RV4_67hrs_down32_annotationAsScoreVolume_AP.bp\" \"/media/yuncong/YuncongPublic/CSHL_volumes/RV13_64hrs/RV13_64hrs_down32_annotationAsScoreVolume_warp24_RV4_67hrs_down32_annotationAsScoreVolume/score_volumes/RV13_64hrs_down32_annotationAsScoreVolume_warp24_RV4_67hrs_down32_annotationAsScoreVolume_AP.bp\"\n"
     ]
    },
    {
     "name": "stderr",
     "output_type": "stream",
     "text": [
      "[Errno 2] No such file or directory: '/media/yuncong/YuncongPublic/CSHL_volumes/RV13_64hrs/RV13_64hrs_down32_annotationAsScoreVolume_warp24_RV4_67hrs_down32_annotationAsScoreVolume/score_volumes/RV13_64hrs_down32_annotationAsScoreVolume_warp24_RV4_67hrs_down32_annotationAsScoreVolume_AP.bp'\n",
      "Score volume for AP does not exist.\n"
     ]
    },
    {
     "name": "stdout",
     "output_type": "stream",
     "text": [
      "rm -rf \"/media/yuncong/YuncongPublic/CSHL_volumes/RV13_64hrs/RV13_64hrs_down32_annotationAsScoreVolume_warp24_RV4_67hrs_down32_annotationAsScoreVolume/score_volumes/RV13_64hrs_down32_annotationAsScoreVolume_warp24_RV4_67hrs_down32_annotationAsScoreVolume_12N.bp\" && mkdir -p \"/media/yuncong/YuncongPublic/CSHL_volumes/RV13_64hrs/RV13_64hrs_down32_annotationAsScoreVolume_warp24_RV4_67hrs_down32_annotationAsScoreVolume/score_volumes\"\n",
      "aws s3 cp \"s3://mousebrainatlas-data/CSHL_volumes/RV13_64hrs/RV13_64hrs_down32_annotationAsScoreVolume_warp24_RV4_67hrs_down32_annotationAsScoreVolume/score_volumes/RV13_64hrs_down32_annotationAsScoreVolume_warp24_RV4_67hrs_down32_annotationAsScoreVolume_12N.bp\" \"/media/yuncong/YuncongPublic/CSHL_volumes/RV13_64hrs/RV13_64hrs_down32_annotationAsScoreVolume_warp24_RV4_67hrs_down32_annotationAsScoreVolume/score_volumes/RV13_64hrs_down32_annotationAsScoreVolume_warp24_RV4_67hrs_down32_annotationAsScoreVolume_12N.bp\"\n"
     ]
    },
    {
     "name": "stderr",
     "output_type": "stream",
     "text": [
      "[Errno 2] No such file or directory: '/media/yuncong/YuncongPublic/CSHL_volumes/RV13_64hrs/RV13_64hrs_down32_annotationAsScoreVolume_warp24_RV4_67hrs_down32_annotationAsScoreVolume/score_volumes/RV13_64hrs_down32_annotationAsScoreVolume_warp24_RV4_67hrs_down32_annotationAsScoreVolume_12N.bp'\n",
      "Score volume for 12N does not exist.\n"
     ]
    },
    {
     "name": "stdout",
     "output_type": "stream",
     "text": [
      "rm -rf \"/media/yuncong/YuncongPublic/CSHL_volumes/RV13_64hrs/RV13_64hrs_down32_annotationAsScoreVolume_warp24_RV4_67hrs_down32_annotationAsScoreVolume/score_volumes/RV13_64hrs_down32_annotationAsScoreVolume_warp24_RV4_67hrs_down32_annotationAsScoreVolume_RtTg.bp\" && mkdir -p \"/media/yuncong/YuncongPublic/CSHL_volumes/RV13_64hrs/RV13_64hrs_down32_annotationAsScoreVolume_warp24_RV4_67hrs_down32_annotationAsScoreVolume/score_volumes\"\n",
      "aws s3 cp \"s3://mousebrainatlas-data/CSHL_volumes/RV13_64hrs/RV13_64hrs_down32_annotationAsScoreVolume_warp24_RV4_67hrs_down32_annotationAsScoreVolume/score_volumes/RV13_64hrs_down32_annotationAsScoreVolume_warp24_RV4_67hrs_down32_annotationAsScoreVolume_RtTg.bp\" \"/media/yuncong/YuncongPublic/CSHL_volumes/RV13_64hrs/RV13_64hrs_down32_annotationAsScoreVolume_warp24_RV4_67hrs_down32_annotationAsScoreVolume/score_volumes/RV13_64hrs_down32_annotationAsScoreVolume_warp24_RV4_67hrs_down32_annotationAsScoreVolume_RtTg.bp\"\n"
     ]
    },
    {
     "name": "stderr",
     "output_type": "stream",
     "text": [
      "[Errno 2] No such file or directory: '/media/yuncong/YuncongPublic/CSHL_volumes/RV13_64hrs/RV13_64hrs_down32_annotationAsScoreVolume_warp24_RV4_67hrs_down32_annotationAsScoreVolume/score_volumes/RV13_64hrs_down32_annotationAsScoreVolume_warp24_RV4_67hrs_down32_annotationAsScoreVolume_RtTg.bp'\n",
      "Score volume for RtTg does not exist.\n"
     ]
    },
    {
     "name": "stdout",
     "output_type": "stream",
     "text": [
      "rm -rf \"/media/yuncong/YuncongPublic/CSHL_volumes/RV13_64hrs/RV13_64hrs_down32_annotationAsScoreVolume_warp24_RV4_67hrs_down32_annotationAsScoreVolume/score_volumes/RV13_64hrs_down32_annotationAsScoreVolume_warp24_RV4_67hrs_down32_annotationAsScoreVolume_SC.bp\" && mkdir -p \"/media/yuncong/YuncongPublic/CSHL_volumes/RV13_64hrs/RV13_64hrs_down32_annotationAsScoreVolume_warp24_RV4_67hrs_down32_annotationAsScoreVolume/score_volumes\"\n",
      "aws s3 cp \"s3://mousebrainatlas-data/CSHL_volumes/RV13_64hrs/RV13_64hrs_down32_annotationAsScoreVolume_warp24_RV4_67hrs_down32_annotationAsScoreVolume/score_volumes/RV13_64hrs_down32_annotationAsScoreVolume_warp24_RV4_67hrs_down32_annotationAsScoreVolume_SC.bp\" \"/media/yuncong/YuncongPublic/CSHL_volumes/RV13_64hrs/RV13_64hrs_down32_annotationAsScoreVolume_warp24_RV4_67hrs_down32_annotationAsScoreVolume/score_volumes/RV13_64hrs_down32_annotationAsScoreVolume_warp24_RV4_67hrs_down32_annotationAsScoreVolume_SC.bp\"\n"
     ]
    },
    {
     "name": "stderr",
     "output_type": "stream",
     "text": [
      "[Errno 2] No such file or directory: '/media/yuncong/YuncongPublic/CSHL_volumes/RV13_64hrs/RV13_64hrs_down32_annotationAsScoreVolume_warp24_RV4_67hrs_down32_annotationAsScoreVolume/score_volumes/RV13_64hrs_down32_annotationAsScoreVolume_warp24_RV4_67hrs_down32_annotationAsScoreVolume_SC.bp'\n",
      "Score volume for SC does not exist.\n"
     ]
    },
    {
     "name": "stdout",
     "output_type": "stream",
     "text": [
      "rm -rf \"/media/yuncong/YuncongPublic/CSHL_volumes/RV13_64hrs/RV13_64hrs_down32_annotationAsScoreVolume_warp24_RV4_67hrs_down32_annotationAsScoreVolume/score_volumes/RV13_64hrs_down32_annotationAsScoreVolume_warp24_RV4_67hrs_down32_annotationAsScoreVolume_IC.bp\" && mkdir -p \"/media/yuncong/YuncongPublic/CSHL_volumes/RV13_64hrs/RV13_64hrs_down32_annotationAsScoreVolume_warp24_RV4_67hrs_down32_annotationAsScoreVolume/score_volumes\"\n",
      "aws s3 cp \"s3://mousebrainatlas-data/CSHL_volumes/RV13_64hrs/RV13_64hrs_down32_annotationAsScoreVolume_warp24_RV4_67hrs_down32_annotationAsScoreVolume/score_volumes/RV13_64hrs_down32_annotationAsScoreVolume_warp24_RV4_67hrs_down32_annotationAsScoreVolume_IC.bp\" \"/media/yuncong/YuncongPublic/CSHL_volumes/RV13_64hrs/RV13_64hrs_down32_annotationAsScoreVolume_warp24_RV4_67hrs_down32_annotationAsScoreVolume/score_volumes/RV13_64hrs_down32_annotationAsScoreVolume_warp24_RV4_67hrs_down32_annotationAsScoreVolume_IC.bp\"\n"
     ]
    },
    {
     "name": "stderr",
     "output_type": "stream",
     "text": [
      "[Errno 2] No such file or directory: '/media/yuncong/YuncongPublic/CSHL_volumes/RV13_64hrs/RV13_64hrs_down32_annotationAsScoreVolume_warp24_RV4_67hrs_down32_annotationAsScoreVolume/score_volumes/RV13_64hrs_down32_annotationAsScoreVolume_warp24_RV4_67hrs_down32_annotationAsScoreVolume_IC.bp'\n",
      "Score volume for IC does not exist.\n"
     ]
    },
    {
     "name": "stdout",
     "output_type": "stream",
     "text": [
      "['LRt_R', 'Sp5O_R', 'Sp5C_L', '7N_L', '5N_L', '7N_R', '7n_L', 'Sp5I_L', '5N_R', 'Sp5I_R', 'Sp5C_R', '7n_R', 'LRt_L']\n"
     ]
    },
    {
     "name": "stderr",
     "output_type": "stream",
     "text": [
      "marching cube: 0.28 seconds\n",
      "mesh_to_polydata: 0.09 seconds\n",
      "simplify 0 @ 62327: 1.01 seconds\n",
      "simplify 1 @ 12463: 1.12 seconds\n",
      "simplify 2 @ 2494: 0.23 seconds\n",
      "marching cube: 0.15 seconds\n",
      "mesh_to_polydata: 0.08 seconds\n",
      "simplify 0 @ 23510: 0.84 seconds\n",
      "simplify 1 @ 4702: 0.37 seconds\n",
      "simplify 2 @ 942: 0.08 seconds\n",
      "marching cube: 0.19 seconds\n",
      "mesh_to_polydata: 0.10 seconds\n",
      "simplify 0 @ 26727: 0.65 seconds\n",
      "simplify 1 @ 5345: 0.32 seconds\n",
      "simplify 2 @ 1071: 0.06 seconds\n",
      "marching cube: 0.18 seconds\n",
      "mesh_to_polydata: 0.07 seconds\n",
      "simplify 0 @ 45994: 0.62 seconds\n",
      "simplify 1 @ 9200: 0.53 seconds\n",
      "simplify 2 @ 1842: 0.10 seconds\n",
      "marching cube: 0.13 seconds\n",
      "mesh_to_polydata: 0.05 seconds\n",
      "simplify 0 @ 28008: 0.47 seconds\n",
      "simplify 1 @ 5586: 0.31 seconds\n",
      "simplify 2 @ 1118: 0.06 seconds\n",
      "marching cube: 0.21 seconds\n",
      "mesh_to_polydata: 0.09 seconds\n",
      "simplify 0 @ 53688: 0.80 seconds\n",
      "simplify 1 @ 10730: 0.59 seconds\n",
      "simplify 2 @ 2145: 0.11 seconds\n",
      "marching cube: 0.68 seconds\n",
      "mesh_to_polydata: 0.06 seconds\n",
      "simplify 0 @ 40085: 0.48 seconds\n",
      "simplify 1 @ 8015: 0.41 seconds\n",
      "simplify 2 @ 1604: 0.08 seconds\n",
      "marching cube: 0.08 seconds\n",
      "mesh_to_polydata: 0.04 seconds\n",
      "simplify 0 @ 22933: 0.48 seconds\n",
      "simplify 1 @ 4588: 0.22 seconds\n",
      "simplify 2 @ 919: 0.04 seconds\n",
      "marching cube: 0.05 seconds\n",
      "mesh_to_polydata: 0.03 seconds\n",
      "simplify 0 @ 21371: 0.32 seconds\n",
      "simplify 1 @ 4276: 0.22 seconds\n",
      "simplify 2 @ 856: 0.04 seconds\n",
      "marching cube: 0.11 seconds\n",
      "mesh_to_polydata: 0.06 seconds\n",
      "simplify 0 @ 27722: 0.81 seconds\n",
      "simplify 1 @ 5544: 0.30 seconds\n",
      "simplify 2 @ 1109: 0.06 seconds\n",
      "marching cube: 0.34 seconds\n",
      "mesh_to_polydata: 0.09 seconds\n",
      "simplify 0 @ 52432: 0.94 seconds\n",
      "simplify 1 @ 10485: 0.62 seconds\n",
      "simplify 2 @ 2096: 0.12 seconds\n",
      "marching cube: 1.12 seconds\n",
      "mesh_to_polydata: 0.16 seconds\n",
      "simplify 0 @ 46340: 1.33 seconds\n",
      "simplify 1 @ 9266: 0.98 seconds\n",
      "simplify 2 @ 1855: 0.21 seconds\n",
      "marching cube: 0.45 seconds\n",
      "mesh_to_polydata: 0.15 seconds\n",
      "simplify 0 @ 51608: 1.35 seconds\n",
      "simplify 1 @ 10313: 0.91 seconds\n",
      "simplify 2 @ 2061: 0.20 seconds\n",
      "Prior structure/index map not found. Generating a new one.\n"
     ]
    },
    {
     "name": "stdout",
     "output_type": "stream",
     "text": [
      "RV19_61hrs\n",
      "rm -rf \"/media/yuncong/YuncongPublic/CSHL_volumes/RV19_61hrs/RV19_61hrs_down32_annotationAsScoreVolume_warp24_RV4_67hrs_down32_annotationAsScoreVolume/score_volumes/RV19_61hrs_down32_annotationAsScoreVolume_warp24_RV4_67hrs_down32_annotationAsScoreVolume_6N_L.bp\" && mkdir -p \"/media/yuncong/YuncongPublic/CSHL_volumes/RV19_61hrs/RV19_61hrs_down32_annotationAsScoreVolume_warp24_RV4_67hrs_down32_annotationAsScoreVolume/score_volumes\"\n",
      "aws s3 cp \"s3://mousebrainatlas-data/CSHL_volumes/RV19_61hrs/RV19_61hrs_down32_annotationAsScoreVolume_warp24_RV4_67hrs_down32_annotationAsScoreVolume/score_volumes/RV19_61hrs_down32_annotationAsScoreVolume_warp24_RV4_67hrs_down32_annotationAsScoreVolume_6N_L.bp\" \"/media/yuncong/YuncongPublic/CSHL_volumes/RV19_61hrs/RV19_61hrs_down32_annotationAsScoreVolume_warp24_RV4_67hrs_down32_annotationAsScoreVolume/score_volumes/RV19_61hrs_down32_annotationAsScoreVolume_warp24_RV4_67hrs_down32_annotationAsScoreVolume_6N_L.bp\""
     ]
    },
    {
     "name": "stderr",
     "output_type": "stream",
     "text": [
      "[Errno 2] No such file or directory: '/media/yuncong/YuncongPublic/CSHL_volumes/RV19_61hrs/RV19_61hrs_down32_annotationAsScoreVolume_warp24_RV4_67hrs_down32_annotationAsScoreVolume/score_volumes/RV19_61hrs_down32_annotationAsScoreVolume_warp24_RV4_67hrs_down32_annotationAsScoreVolume_6N_L.bp'\n",
      "Score volume for 6N_L does not exist.\n"
     ]
    },
    {
     "name": "stdout",
     "output_type": "stream",
     "text": [
      "\n",
      "rm -rf \"/media/yuncong/YuncongPublic/CSHL_volumes/RV19_61hrs/RV19_61hrs_down32_annotationAsScoreVolume_warp24_RV4_67hrs_down32_annotationAsScoreVolume/score_volumes/RV19_61hrs_down32_annotationAsScoreVolume_warp24_RV4_67hrs_down32_annotationAsScoreVolume_6N_R.bp\" && mkdir -p \"/media/yuncong/YuncongPublic/CSHL_volumes/RV19_61hrs/RV19_61hrs_down32_annotationAsScoreVolume_warp24_RV4_67hrs_down32_annotationAsScoreVolume/score_volumes\"\n",
      "aws s3 cp \"s3://mousebrainatlas-data/CSHL_volumes/RV19_61hrs/RV19_61hrs_down32_annotationAsScoreVolume_warp24_RV4_67hrs_down32_annotationAsScoreVolume/score_volumes/RV19_61hrs_down32_annotationAsScoreVolume_warp24_RV4_67hrs_down32_annotationAsScoreVolume_6N_R.bp\" \"/media/yuncong/YuncongPublic/CSHL_volumes/RV19_61hrs/RV19_61hrs_down32_annotationAsScoreVolume_warp24_RV4_67hrs_down32_annotationAsScoreVolume/score_volumes/RV19_61hrs_down32_annotationAsScoreVolume_warp24_RV4_67hrs_down32_annotationAsScoreVolume_6N_R.bp\"\n"
     ]
    },
    {
     "name": "stderr",
     "output_type": "stream",
     "text": [
      "[Errno 2] No such file or directory: '/media/yuncong/YuncongPublic/CSHL_volumes/RV19_61hrs/RV19_61hrs_down32_annotationAsScoreVolume_warp24_RV4_67hrs_down32_annotationAsScoreVolume/score_volumes/RV19_61hrs_down32_annotationAsScoreVolume_warp24_RV4_67hrs_down32_annotationAsScoreVolume_6N_R.bp'\n",
      "Score volume for 6N_R does not exist.\n"
     ]
    },
    {
     "name": "stdout",
     "output_type": "stream",
     "text": [
      "rm -rf \"/media/yuncong/YuncongPublic/CSHL_volumes/RV19_61hrs/RV19_61hrs_down32_annotationAsScoreVolume_warp24_RV4_67hrs_down32_annotationAsScoreVolume/score_volumes/RV19_61hrs_down32_annotationAsScoreVolume_warp24_RV4_67hrs_down32_annotationAsScoreVolume_Amb_L.bp\" && mkdir -p \"/media/yuncong/YuncongPublic/CSHL_volumes/RV19_61hrs/RV19_61hrs_down32_annotationAsScoreVolume_warp24_RV4_67hrs_down32_annotationAsScoreVolume/score_volumes\"\n",
      "aws s3 cp \"s3://mousebrainatlas-data/CSHL_volumes/RV19_61hrs/RV19_61hrs_down32_annotationAsScoreVolume_warp24_RV4_67hrs_down32_annotationAsScoreVolume/score_volumes/RV19_61hrs_down32_annotationAsScoreVolume_warp24_RV4_67hrs_down32_annotationAsScoreVolume_Amb_L.bp\" \"/media/yuncong/YuncongPublic/CSHL_volumes/RV19_61hrs/RV19_61hrs_down32_annotationAsScoreVolume_warp24_RV4_67hrs_down32_annotationAsScoreVolume/score_volumes/RV19_61hrs_down32_annotationAsScoreVolume_warp24_RV4_67hrs_down32_annotationAsScoreVolume_Amb_L.bp\"\n"
     ]
    },
    {
     "name": "stderr",
     "output_type": "stream",
     "text": [
      "[Errno 2] No such file or directory: '/media/yuncong/YuncongPublic/CSHL_volumes/RV19_61hrs/RV19_61hrs_down32_annotationAsScoreVolume_warp24_RV4_67hrs_down32_annotationAsScoreVolume/score_volumes/RV19_61hrs_down32_annotationAsScoreVolume_warp24_RV4_67hrs_down32_annotationAsScoreVolume_Amb_L.bp'\n",
      "Score volume for Amb_L does not exist.\n"
     ]
    },
    {
     "name": "stdout",
     "output_type": "stream",
     "text": [
      "rm -rf \"/media/yuncong/YuncongPublic/CSHL_volumes/RV19_61hrs/RV19_61hrs_down32_annotationAsScoreVolume_warp24_RV4_67hrs_down32_annotationAsScoreVolume/score_volumes/RV19_61hrs_down32_annotationAsScoreVolume_warp24_RV4_67hrs_down32_annotationAsScoreVolume_Amb_R.bp\" && mkdir -p \"/media/yuncong/YuncongPublic/CSHL_volumes/RV19_61hrs/RV19_61hrs_down32_annotationAsScoreVolume_warp24_RV4_67hrs_down32_annotationAsScoreVolume/score_volumes\"\n",
      "aws s3 cp \"s3://mousebrainatlas-data/CSHL_volumes/RV19_61hrs/RV19_61hrs_down32_annotationAsScoreVolume_warp24_RV4_67hrs_down32_annotationAsScoreVolume/score_volumes/RV19_61hrs_down32_annotationAsScoreVolume_warp24_RV4_67hrs_down32_annotationAsScoreVolume_Amb_R.bp\" \"/media/yuncong/YuncongPublic/CSHL_volumes/RV19_61hrs/RV19_61hrs_down32_annotationAsScoreVolume_warp24_RV4_67hrs_down32_annotationAsScoreVolume/score_volumes/RV19_61hrs_down32_annotationAsScoreVolume_warp24_RV4_67hrs_down32_annotationAsScoreVolume_Amb_R.bp\"\n"
     ]
    },
    {
     "name": "stderr",
     "output_type": "stream",
     "text": [
      "[Errno 2] No such file or directory: '/media/yuncong/YuncongPublic/CSHL_volumes/RV19_61hrs/RV19_61hrs_down32_annotationAsScoreVolume_warp24_RV4_67hrs_down32_annotationAsScoreVolume/score_volumes/RV19_61hrs_down32_annotationAsScoreVolume_warp24_RV4_67hrs_down32_annotationAsScoreVolume_Amb_R.bp'\n",
      "Score volume for Amb_R does not exist.\n"
     ]
    },
    {
     "name": "stdout",
     "output_type": "stream",
     "text": [
      "rm -rf \"/media/yuncong/YuncongPublic/CSHL_volumes/RV19_61hrs/RV19_61hrs_down32_annotationAsScoreVolume_warp24_RV4_67hrs_down32_annotationAsScoreVolume/score_volumes/RV19_61hrs_down32_annotationAsScoreVolume_warp24_RV4_67hrs_down32_annotationAsScoreVolume_LC_L.bp\" && mkdir -p \"/media/yuncong/YuncongPublic/CSHL_volumes/RV19_61hrs/RV19_61hrs_down32_annotationAsScoreVolume_warp24_RV4_67hrs_down32_annotationAsScoreVolume/score_volumes\"\n",
      "aws s3 cp \"s3://mousebrainatlas-data/CSHL_volumes/RV19_61hrs/RV19_61hrs_down32_annotationAsScoreVolume_warp24_RV4_67hrs_down32_annotationAsScoreVolume/score_volumes/RV19_61hrs_down32_annotationAsScoreVolume_warp24_RV4_67hrs_down32_annotationAsScoreVolume_LC_L.bp\" \"/media/yuncong/YuncongPublic/CSHL_volumes/RV19_61hrs/RV19_61hrs_down32_annotationAsScoreVolume_warp24_RV4_67hrs_down32_annotationAsScoreVolume/score_volumes/RV19_61hrs_down32_annotationAsScoreVolume_warp24_RV4_67hrs_down32_annotationAsScoreVolume_LC_L.bp\"\n"
     ]
    },
    {
     "name": "stderr",
     "output_type": "stream",
     "text": [
      "[Errno 2] No such file or directory: '/media/yuncong/YuncongPublic/CSHL_volumes/RV19_61hrs/RV19_61hrs_down32_annotationAsScoreVolume_warp24_RV4_67hrs_down32_annotationAsScoreVolume/score_volumes/RV19_61hrs_down32_annotationAsScoreVolume_warp24_RV4_67hrs_down32_annotationAsScoreVolume_LC_L.bp'\n",
      "Score volume for LC_L does not exist.\n"
     ]
    },
    {
     "name": "stdout",
     "output_type": "stream",
     "text": [
      "rm -rf \"/media/yuncong/YuncongPublic/CSHL_volumes/RV19_61hrs/RV19_61hrs_down32_annotationAsScoreVolume_warp24_RV4_67hrs_down32_annotationAsScoreVolume/score_volumes/RV19_61hrs_down32_annotationAsScoreVolume_warp24_RV4_67hrs_down32_annotationAsScoreVolume_LC_R.bp\" && mkdir -p \"/media/yuncong/YuncongPublic/CSHL_volumes/RV19_61hrs/RV19_61hrs_down32_annotationAsScoreVolume_warp24_RV4_67hrs_down32_annotationAsScoreVolume/score_volumes\"\n",
      "aws s3 cp \"s3://mousebrainatlas-data/CSHL_volumes/RV19_61hrs/RV19_61hrs_down32_annotationAsScoreVolume_warp24_RV4_67hrs_down32_annotationAsScoreVolume/score_volumes/RV19_61hrs_down32_annotationAsScoreVolume_warp24_RV4_67hrs_down32_annotationAsScoreVolume_LC_R.bp\" \"/media/yuncong/YuncongPublic/CSHL_volumes/RV19_61hrs/RV19_61hrs_down32_annotationAsScoreVolume_warp24_RV4_67hrs_down32_annotationAsScoreVolume/score_volumes/RV19_61hrs_down32_annotationAsScoreVolume_warp24_RV4_67hrs_down32_annotationAsScoreVolume_LC_R.bp\"\n"
     ]
    },
    {
     "name": "stderr",
     "output_type": "stream",
     "text": [
      "[Errno 2] No such file or directory: '/media/yuncong/YuncongPublic/CSHL_volumes/RV19_61hrs/RV19_61hrs_down32_annotationAsScoreVolume_warp24_RV4_67hrs_down32_annotationAsScoreVolume/score_volumes/RV19_61hrs_down32_annotationAsScoreVolume_warp24_RV4_67hrs_down32_annotationAsScoreVolume_LC_R.bp'\n",
      "Score volume for LC_R does not exist.\n"
     ]
    },
    {
     "name": "stdout",
     "output_type": "stream",
     "text": [
      "rm -rf \"/media/yuncong/YuncongPublic/CSHL_volumes/RV19_61hrs/RV19_61hrs_down32_annotationAsScoreVolume_warp24_RV4_67hrs_down32_annotationAsScoreVolume/score_volumes/RV19_61hrs_down32_annotationAsScoreVolume_warp24_RV4_67hrs_down32_annotationAsScoreVolume_Pn_L.bp\" && mkdir -p \"/media/yuncong/YuncongPublic/CSHL_volumes/RV19_61hrs/RV19_61hrs_down32_annotationAsScoreVolume_warp24_RV4_67hrs_down32_annotationAsScoreVolume/score_volumes\"\n",
      "aws s3 cp \"s3://mousebrainatlas-data/CSHL_volumes/RV19_61hrs/RV19_61hrs_down32_annotationAsScoreVolume_warp24_RV4_67hrs_down32_annotationAsScoreVolume/score_volumes/RV19_61hrs_down32_annotationAsScoreVolume_warp24_RV4_67hrs_down32_annotationAsScoreVolume_Pn_L.bp\" \"/media/yuncong/YuncongPublic/CSHL_volumes/RV19_61hrs/RV19_61hrs_down32_annotationAsScoreVolume_warp24_RV4_67hrs_down32_annotationAsScoreVolume/score_volumes/RV19_61hrs_down32_annotationAsScoreVolume_warp24_RV4_67hrs_down32_annotationAsScoreVolume_Pn_L.bp\"\n"
     ]
    },
    {
     "name": "stderr",
     "output_type": "stream",
     "text": [
      "[Errno 2] No such file or directory: '/media/yuncong/YuncongPublic/CSHL_volumes/RV19_61hrs/RV19_61hrs_down32_annotationAsScoreVolume_warp24_RV4_67hrs_down32_annotationAsScoreVolume/score_volumes/RV19_61hrs_down32_annotationAsScoreVolume_warp24_RV4_67hrs_down32_annotationAsScoreVolume_Pn_L.bp'\n",
      "Score volume for Pn_L does not exist.\n"
     ]
    },
    {
     "name": "stdout",
     "output_type": "stream",
     "text": [
      "rm -rf \"/media/yuncong/YuncongPublic/CSHL_volumes/RV19_61hrs/RV19_61hrs_down32_annotationAsScoreVolume_warp24_RV4_67hrs_down32_annotationAsScoreVolume/score_volumes/RV19_61hrs_down32_annotationAsScoreVolume_warp24_RV4_67hrs_down32_annotationAsScoreVolume_Pn_R.bp\" && mkdir -p \"/media/yuncong/YuncongPublic/CSHL_volumes/RV19_61hrs/RV19_61hrs_down32_annotationAsScoreVolume_warp24_RV4_67hrs_down32_annotationAsScoreVolume/score_volumes\"\n",
      "aws s3 cp \"s3://mousebrainatlas-data/CSHL_volumes/RV19_61hrs/RV19_61hrs_down32_annotationAsScoreVolume_warp24_RV4_67hrs_down32_annotationAsScoreVolume/score_volumes/RV19_61hrs_down32_annotationAsScoreVolume_warp24_RV4_67hrs_down32_annotationAsScoreVolume_Pn_R.bp\" \"/media/yuncong/YuncongPublic/CSHL_volumes/RV19_61hrs/RV19_61hrs_down32_annotationAsScoreVolume_warp24_RV4_67hrs_down32_annotationAsScoreVolume/score_volumes/RV19_61hrs_down32_annotationAsScoreVolume_warp24_RV4_67hrs_down32_annotationAsScoreVolume_Pn_R.bp\"\n"
     ]
    },
    {
     "name": "stderr",
     "output_type": "stream",
     "text": [
      "[Errno 2] No such file or directory: '/media/yuncong/YuncongPublic/CSHL_volumes/RV19_61hrs/RV19_61hrs_down32_annotationAsScoreVolume_warp24_RV4_67hrs_down32_annotationAsScoreVolume/score_volumes/RV19_61hrs_down32_annotationAsScoreVolume_warp24_RV4_67hrs_down32_annotationAsScoreVolume_Pn_R.bp'\n",
      "Score volume for Pn_R does not exist.\n"
     ]
    },
    {
     "name": "stdout",
     "output_type": "stream",
     "text": [
      "rm -rf \"/media/yuncong/YuncongPublic/CSHL_volumes/RV19_61hrs/RV19_61hrs_down32_annotationAsScoreVolume_warp24_RV4_67hrs_down32_annotationAsScoreVolume/score_volumes/RV19_61hrs_down32_annotationAsScoreVolume_warp24_RV4_67hrs_down32_annotationAsScoreVolume_Tz_L.bp\" && mkdir -p \"/media/yuncong/YuncongPublic/CSHL_volumes/RV19_61hrs/RV19_61hrs_down32_annotationAsScoreVolume_warp24_RV4_67hrs_down32_annotationAsScoreVolume/score_volumes\"\n",
      "aws s3 cp \"s3://mousebrainatlas-data/CSHL_volumes/RV19_61hrs/RV19_61hrs_down32_annotationAsScoreVolume_warp24_RV4_67hrs_down32_annotationAsScoreVolume/score_volumes/RV19_61hrs_down32_annotationAsScoreVolume_warp24_RV4_67hrs_down32_annotationAsScoreVolume_Tz_L.bp\" \"/media/yuncong/YuncongPublic/CSHL_volumes/RV19_61hrs/RV19_61hrs_down32_annotationAsScoreVolume_warp24_RV4_67hrs_down32_annotationAsScoreVolume/score_volumes/RV19_61hrs_down32_annotationAsScoreVolume_warp24_RV4_67hrs_down32_annotationAsScoreVolume_Tz_L.bp\"\n"
     ]
    },
    {
     "name": "stderr",
     "output_type": "stream",
     "text": [
      "[Errno 2] No such file or directory: '/media/yuncong/YuncongPublic/CSHL_volumes/RV19_61hrs/RV19_61hrs_down32_annotationAsScoreVolume_warp24_RV4_67hrs_down32_annotationAsScoreVolume/score_volumes/RV19_61hrs_down32_annotationAsScoreVolume_warp24_RV4_67hrs_down32_annotationAsScoreVolume_Tz_L.bp'\n",
      "Score volume for Tz_L does not exist.\n"
     ]
    },
    {
     "name": "stdout",
     "output_type": "stream",
     "text": [
      "rm -rf \"/media/yuncong/YuncongPublic/CSHL_volumes/RV19_61hrs/RV19_61hrs_down32_annotationAsScoreVolume_warp24_RV4_67hrs_down32_annotationAsScoreVolume/score_volumes/RV19_61hrs_down32_annotationAsScoreVolume_warp24_RV4_67hrs_down32_annotationAsScoreVolume_Tz_R.bp\" && mkdir -p \"/media/yuncong/YuncongPublic/CSHL_volumes/RV19_61hrs/RV19_61hrs_down32_annotationAsScoreVolume_warp24_RV4_67hrs_down32_annotationAsScoreVolume/score_volumes\"\n",
      "aws s3 cp \"s3://mousebrainatlas-data/CSHL_volumes/RV19_61hrs/RV19_61hrs_down32_annotationAsScoreVolume_warp24_RV4_67hrs_down32_annotationAsScoreVolume/score_volumes/RV19_61hrs_down32_annotationAsScoreVolume_warp24_RV4_67hrs_down32_annotationAsScoreVolume_Tz_R.bp\" \"/media/yuncong/YuncongPublic/CSHL_volumes/RV19_61hrs/RV19_61hrs_down32_annotationAsScoreVolume_warp24_RV4_67hrs_down32_annotationAsScoreVolume/score_volumes/RV19_61hrs_down32_annotationAsScoreVolume_warp24_RV4_67hrs_down32_annotationAsScoreVolume_Tz_R.bp\"\n"
     ]
    },
    {
     "name": "stderr",
     "output_type": "stream",
     "text": [
      "[Errno 2] No such file or directory: '/media/yuncong/YuncongPublic/CSHL_volumes/RV19_61hrs/RV19_61hrs_down32_annotationAsScoreVolume_warp24_RV4_67hrs_down32_annotationAsScoreVolume/score_volumes/RV19_61hrs_down32_annotationAsScoreVolume_warp24_RV4_67hrs_down32_annotationAsScoreVolume_Tz_R.bp'\n",
      "Score volume for Tz_R does not exist.\n"
     ]
    },
    {
     "name": "stdout",
     "output_type": "stream",
     "text": [
      "rm -rf \"/media/yuncong/YuncongPublic/CSHL_volumes/RV19_61hrs/RV19_61hrs_down32_annotationAsScoreVolume_warp24_RV4_67hrs_down32_annotationAsScoreVolume/score_volumes/RV19_61hrs_down32_annotationAsScoreVolume_warp24_RV4_67hrs_down32_annotationAsScoreVolume_VLL_L.bp\" && mkdir -p \"/media/yuncong/YuncongPublic/CSHL_volumes/RV19_61hrs/RV19_61hrs_down32_annotationAsScoreVolume_warp24_RV4_67hrs_down32_annotationAsScoreVolume/score_volumes\"\n",
      "aws s3 cp \"s3://mousebrainatlas-data/CSHL_volumes/RV19_61hrs/RV19_61hrs_down32_annotationAsScoreVolume_warp24_RV4_67hrs_down32_annotationAsScoreVolume/score_volumes/RV19_61hrs_down32_annotationAsScoreVolume_warp24_RV4_67hrs_down32_annotationAsScoreVolume_VLL_L.bp\" \"/media/yuncong/YuncongPublic/CSHL_volumes/RV19_61hrs/RV19_61hrs_down32_annotationAsScoreVolume_warp24_RV4_67hrs_down32_annotationAsScoreVolume/score_volumes/RV19_61hrs_down32_annotationAsScoreVolume_warp24_RV4_67hrs_down32_annotationAsScoreVolume_VLL_L.bp\"\n"
     ]
    },
    {
     "name": "stderr",
     "output_type": "stream",
     "text": [
      "[Errno 2] No such file or directory: '/media/yuncong/YuncongPublic/CSHL_volumes/RV19_61hrs/RV19_61hrs_down32_annotationAsScoreVolume_warp24_RV4_67hrs_down32_annotationAsScoreVolume/score_volumes/RV19_61hrs_down32_annotationAsScoreVolume_warp24_RV4_67hrs_down32_annotationAsScoreVolume_VLL_L.bp'\n",
      "Score volume for VLL_L does not exist.\n"
     ]
    },
    {
     "name": "stdout",
     "output_type": "stream",
     "text": [
      "rm -rf \"/media/yuncong/YuncongPublic/CSHL_volumes/RV19_61hrs/RV19_61hrs_down32_annotationAsScoreVolume_warp24_RV4_67hrs_down32_annotationAsScoreVolume/score_volumes/RV19_61hrs_down32_annotationAsScoreVolume_warp24_RV4_67hrs_down32_annotationAsScoreVolume_VLL_R.bp\" && mkdir -p \"/media/yuncong/YuncongPublic/CSHL_volumes/RV19_61hrs/RV19_61hrs_down32_annotationAsScoreVolume_warp24_RV4_67hrs_down32_annotationAsScoreVolume/score_volumes\"\n",
      "aws s3 cp \"s3://mousebrainatlas-data/CSHL_volumes/RV19_61hrs/RV19_61hrs_down32_annotationAsScoreVolume_warp24_RV4_67hrs_down32_annotationAsScoreVolume/score_volumes/RV19_61hrs_down32_annotationAsScoreVolume_warp24_RV4_67hrs_down32_annotationAsScoreVolume_VLL_R.bp\" \"/media/yuncong/YuncongPublic/CSHL_volumes/RV19_61hrs/RV19_61hrs_down32_annotationAsScoreVolume_warp24_RV4_67hrs_down32_annotationAsScoreVolume/score_volumes/RV19_61hrs_down32_annotationAsScoreVolume_warp24_RV4_67hrs_down32_annotationAsScoreVolume_VLL_R.bp\"\n"
     ]
    },
    {
     "name": "stderr",
     "output_type": "stream",
     "text": [
      "[Errno 2] No such file or directory: '/media/yuncong/YuncongPublic/CSHL_volumes/RV19_61hrs/RV19_61hrs_down32_annotationAsScoreVolume_warp24_RV4_67hrs_down32_annotationAsScoreVolume/score_volumes/RV19_61hrs_down32_annotationAsScoreVolume_warp24_RV4_67hrs_down32_annotationAsScoreVolume_VLL_R.bp'\n",
      "Score volume for VLL_R does not exist.\n"
     ]
    },
    {
     "name": "stdout",
     "output_type": "stream",
     "text": [
      "rm -rf \"/media/yuncong/YuncongPublic/CSHL_volumes/RV19_61hrs/RV19_61hrs_down32_annotationAsScoreVolume_warp24_RV4_67hrs_down32_annotationAsScoreVolume/score_volumes/RV19_61hrs_down32_annotationAsScoreVolume_warp24_RV4_67hrs_down32_annotationAsScoreVolume_RMC_L.bp\" && mkdir -p \"/media/yuncong/YuncongPublic/CSHL_volumes/RV19_61hrs/RV19_61hrs_down32_annotationAsScoreVolume_warp24_RV4_67hrs_down32_annotationAsScoreVolume/score_volumes\"\n",
      "aws s3 cp \"s3://mousebrainatlas-data/CSHL_volumes/RV19_61hrs/RV19_61hrs_down32_annotationAsScoreVolume_warp24_RV4_67hrs_down32_annotationAsScoreVolume/score_volumes/RV19_61hrs_down32_annotationAsScoreVolume_warp24_RV4_67hrs_down32_annotationAsScoreVolume_RMC_L.bp\" \"/media/yuncong/YuncongPublic/CSHL_volumes/RV19_61hrs/RV19_61hrs_down32_annotationAsScoreVolume_warp24_RV4_67hrs_down32_annotationAsScoreVolume/score_volumes/RV19_61hrs_down32_annotationAsScoreVolume_warp24_RV4_67hrs_down32_annotationAsScoreVolume_RMC_L.bp\"\n"
     ]
    },
    {
     "name": "stderr",
     "output_type": "stream",
     "text": [
      "[Errno 2] No such file or directory: '/media/yuncong/YuncongPublic/CSHL_volumes/RV19_61hrs/RV19_61hrs_down32_annotationAsScoreVolume_warp24_RV4_67hrs_down32_annotationAsScoreVolume/score_volumes/RV19_61hrs_down32_annotationAsScoreVolume_warp24_RV4_67hrs_down32_annotationAsScoreVolume_RMC_L.bp'\n",
      "Score volume for RMC_L does not exist.\n"
     ]
    },
    {
     "name": "stdout",
     "output_type": "stream",
     "text": [
      "rm -rf \"/media/yuncong/YuncongPublic/CSHL_volumes/RV19_61hrs/RV19_61hrs_down32_annotationAsScoreVolume_warp24_RV4_67hrs_down32_annotationAsScoreVolume/score_volumes/RV19_61hrs_down32_annotationAsScoreVolume_warp24_RV4_67hrs_down32_annotationAsScoreVolume_RMC_R.bp\" && mkdir -p \"/media/yuncong/YuncongPublic/CSHL_volumes/RV19_61hrs/RV19_61hrs_down32_annotationAsScoreVolume_warp24_RV4_67hrs_down32_annotationAsScoreVolume/score_volumes\"\n",
      "aws s3 cp \"s3://mousebrainatlas-data/CSHL_volumes/RV19_61hrs/RV19_61hrs_down32_annotationAsScoreVolume_warp24_RV4_67hrs_down32_annotationAsScoreVolume/score_volumes/RV19_61hrs_down32_annotationAsScoreVolume_warp24_RV4_67hrs_down32_annotationAsScoreVolume_RMC_R.bp\" \"/media/yuncong/YuncongPublic/CSHL_volumes/RV19_61hrs/RV19_61hrs_down32_annotationAsScoreVolume_warp24_RV4_67hrs_down32_annotationAsScoreVolume/score_volumes/RV19_61hrs_down32_annotationAsScoreVolume_warp24_RV4_67hrs_down32_annotationAsScoreVolume_RMC_R.bp\"\n"
     ]
    },
    {
     "name": "stderr",
     "output_type": "stream",
     "text": [
      "[Errno 2] No such file or directory: '/media/yuncong/YuncongPublic/CSHL_volumes/RV19_61hrs/RV19_61hrs_down32_annotationAsScoreVolume_warp24_RV4_67hrs_down32_annotationAsScoreVolume/score_volumes/RV19_61hrs_down32_annotationAsScoreVolume_warp24_RV4_67hrs_down32_annotationAsScoreVolume_RMC_R.bp'\n",
      "Score volume for RMC_R does not exist.\n"
     ]
    },
    {
     "name": "stdout",
     "output_type": "stream",
     "text": [
      "rm -rf \"/media/yuncong/YuncongPublic/CSHL_volumes/RV19_61hrs/RV19_61hrs_down32_annotationAsScoreVolume_warp24_RV4_67hrs_down32_annotationAsScoreVolume/score_volumes/RV19_61hrs_down32_annotationAsScoreVolume_warp24_RV4_67hrs_down32_annotationAsScoreVolume_SNC_L.bp\" && mkdir -p \"/media/yuncong/YuncongPublic/CSHL_volumes/RV19_61hrs/RV19_61hrs_down32_annotationAsScoreVolume_warp24_RV4_67hrs_down32_annotationAsScoreVolume/score_volumes\"\n",
      "aws s3 cp \"s3://mousebrainatlas-data/CSHL_volumes/RV19_61hrs/RV19_61hrs_down32_annotationAsScoreVolume_warp24_RV4_67hrs_down32_annotationAsScoreVolume/score_volumes/RV19_61hrs_down32_annotationAsScoreVolume_warp24_RV4_67hrs_down32_annotationAsScoreVolume_SNC_L.bp\" \"/media/yuncong/YuncongPublic/CSHL_volumes/RV19_61hrs/RV19_61hrs_down32_annotationAsScoreVolume_warp24_RV4_67hrs_down32_annotationAsScoreVolume/score_volumes/RV19_61hrs_down32_annotationAsScoreVolume_warp24_RV4_67hrs_down32_annotationAsScoreVolume_SNC_L.bp\"\n"
     ]
    },
    {
     "name": "stderr",
     "output_type": "stream",
     "text": [
      "[Errno 2] No such file or directory: '/media/yuncong/YuncongPublic/CSHL_volumes/RV19_61hrs/RV19_61hrs_down32_annotationAsScoreVolume_warp24_RV4_67hrs_down32_annotationAsScoreVolume/score_volumes/RV19_61hrs_down32_annotationAsScoreVolume_warp24_RV4_67hrs_down32_annotationAsScoreVolume_SNC_L.bp'\n",
      "Score volume for SNC_L does not exist.\n"
     ]
    },
    {
     "name": "stdout",
     "output_type": "stream",
     "text": [
      "rm -rf \"/media/yuncong/YuncongPublic/CSHL_volumes/RV19_61hrs/RV19_61hrs_down32_annotationAsScoreVolume_warp24_RV4_67hrs_down32_annotationAsScoreVolume/score_volumes/RV19_61hrs_down32_annotationAsScoreVolume_warp24_RV4_67hrs_down32_annotationAsScoreVolume_SNC_R.bp\" && mkdir -p \"/media/yuncong/YuncongPublic/CSHL_volumes/RV19_61hrs/RV19_61hrs_down32_annotationAsScoreVolume_warp24_RV4_67hrs_down32_annotationAsScoreVolume/score_volumes\"\n",
      "aws s3 cp \"s3://mousebrainatlas-data/CSHL_volumes/RV19_61hrs/RV19_61hrs_down32_annotationAsScoreVolume_warp24_RV4_67hrs_down32_annotationAsScoreVolume/score_volumes/RV19_61hrs_down32_annotationAsScoreVolume_warp24_RV4_67hrs_down32_annotationAsScoreVolume_SNC_R.bp\" \"/media/yuncong/YuncongPublic/CSHL_volumes/RV19_61hrs/RV19_61hrs_down32_annotationAsScoreVolume_warp24_RV4_67hrs_down32_annotationAsScoreVolume/score_volumes/RV19_61hrs_down32_annotationAsScoreVolume_warp24_RV4_67hrs_down32_annotationAsScoreVolume_SNC_R.bp\"\n"
     ]
    },
    {
     "name": "stderr",
     "output_type": "stream",
     "text": [
      "[Errno 2] No such file or directory: '/media/yuncong/YuncongPublic/CSHL_volumes/RV19_61hrs/RV19_61hrs_down32_annotationAsScoreVolume_warp24_RV4_67hrs_down32_annotationAsScoreVolume/score_volumes/RV19_61hrs_down32_annotationAsScoreVolume_warp24_RV4_67hrs_down32_annotationAsScoreVolume_SNC_R.bp'\n",
      "Score volume for SNC_R does not exist.\n"
     ]
    },
    {
     "name": "stdout",
     "output_type": "stream",
     "text": [
      "rm -rf \"/media/yuncong/YuncongPublic/CSHL_volumes/RV19_61hrs/RV19_61hrs_down32_annotationAsScoreVolume_warp24_RV4_67hrs_down32_annotationAsScoreVolume/score_volumes/RV19_61hrs_down32_annotationAsScoreVolume_warp24_RV4_67hrs_down32_annotationAsScoreVolume_SNR_L.bp\" && mkdir -p \"/media/yuncong/YuncongPublic/CSHL_volumes/RV19_61hrs/RV19_61hrs_down32_annotationAsScoreVolume_warp24_RV4_67hrs_down32_annotationAsScoreVolume/score_volumes\"\n",
      "aws s3 cp \"s3://mousebrainatlas-data/CSHL_volumes/RV19_61hrs/RV19_61hrs_down32_annotationAsScoreVolume_warp24_RV4_67hrs_down32_annotationAsScoreVolume/score_volumes/RV19_61hrs_down32_annotationAsScoreVolume_warp24_RV4_67hrs_down32_annotationAsScoreVolume_SNR_L.bp\" \"/media/yuncong/YuncongPublic/CSHL_volumes/RV19_61hrs/RV19_61hrs_down32_annotationAsScoreVolume_warp24_RV4_67hrs_down32_annotationAsScoreVolume/score_volumes/RV19_61hrs_down32_annotationAsScoreVolume_warp24_RV4_67hrs_down32_annotationAsScoreVolume_SNR_L.bp\"\n"
     ]
    },
    {
     "name": "stderr",
     "output_type": "stream",
     "text": [
      "[Errno 2] No such file or directory: '/media/yuncong/YuncongPublic/CSHL_volumes/RV19_61hrs/RV19_61hrs_down32_annotationAsScoreVolume_warp24_RV4_67hrs_down32_annotationAsScoreVolume/score_volumes/RV19_61hrs_down32_annotationAsScoreVolume_warp24_RV4_67hrs_down32_annotationAsScoreVolume_SNR_L.bp'\n",
      "Score volume for SNR_L does not exist.\n"
     ]
    },
    {
     "name": "stdout",
     "output_type": "stream",
     "text": [
      "rm -rf \"/media/yuncong/YuncongPublic/CSHL_volumes/RV19_61hrs/RV19_61hrs_down32_annotationAsScoreVolume_warp24_RV4_67hrs_down32_annotationAsScoreVolume/score_volumes/RV19_61hrs_down32_annotationAsScoreVolume_warp24_RV4_67hrs_down32_annotationAsScoreVolume_SNR_R.bp\" && mkdir -p \"/media/yuncong/YuncongPublic/CSHL_volumes/RV19_61hrs/RV19_61hrs_down32_annotationAsScoreVolume_warp24_RV4_67hrs_down32_annotationAsScoreVolume/score_volumes\"\n",
      "aws s3 cp \"s3://mousebrainatlas-data/CSHL_volumes/RV19_61hrs/RV19_61hrs_down32_annotationAsScoreVolume_warp24_RV4_67hrs_down32_annotationAsScoreVolume/score_volumes/RV19_61hrs_down32_annotationAsScoreVolume_warp24_RV4_67hrs_down32_annotationAsScoreVolume_SNR_R.bp\" \"/media/yuncong/YuncongPublic/CSHL_volumes/RV19_61hrs/RV19_61hrs_down32_annotationAsScoreVolume_warp24_RV4_67hrs_down32_annotationAsScoreVolume/score_volumes/RV19_61hrs_down32_annotationAsScoreVolume_warp24_RV4_67hrs_down32_annotationAsScoreVolume_SNR_R.bp\"\n"
     ]
    },
    {
     "name": "stderr",
     "output_type": "stream",
     "text": [
      "[Errno 2] No such file or directory: '/media/yuncong/YuncongPublic/CSHL_volumes/RV19_61hrs/RV19_61hrs_down32_annotationAsScoreVolume_warp24_RV4_67hrs_down32_annotationAsScoreVolume/score_volumes/RV19_61hrs_down32_annotationAsScoreVolume_warp24_RV4_67hrs_down32_annotationAsScoreVolume_SNR_R.bp'\n",
      "Score volume for SNR_R does not exist.\n"
     ]
    },
    {
     "name": "stdout",
     "output_type": "stream",
     "text": [
      "rm -rf \"/media/yuncong/YuncongPublic/CSHL_volumes/RV19_61hrs/RV19_61hrs_down32_annotationAsScoreVolume_warp24_RV4_67hrs_down32_annotationAsScoreVolume/score_volumes/RV19_61hrs_down32_annotationAsScoreVolume_warp24_RV4_67hrs_down32_annotationAsScoreVolume_3N_L.bp\" && mkdir -p \"/media/yuncong/YuncongPublic/CSHL_volumes/RV19_61hrs/RV19_61hrs_down32_annotationAsScoreVolume_warp24_RV4_67hrs_down32_annotationAsScoreVolume/score_volumes\"\n",
      "aws s3 cp \"s3://mousebrainatlas-data/CSHL_volumes/RV19_61hrs/RV19_61hrs_down32_annotationAsScoreVolume_warp24_RV4_67hrs_down32_annotationAsScoreVolume/score_volumes/RV19_61hrs_down32_annotationAsScoreVolume_warp24_RV4_67hrs_down32_annotationAsScoreVolume_3N_L.bp\" \"/media/yuncong/YuncongPublic/CSHL_volumes/RV19_61hrs/RV19_61hrs_down32_annotationAsScoreVolume_warp24_RV4_67hrs_down32_annotationAsScoreVolume/score_volumes/RV19_61hrs_down32_annotationAsScoreVolume_warp24_RV4_67hrs_down32_annotationAsScoreVolume_3N_L.bp\"\n"
     ]
    },
    {
     "name": "stderr",
     "output_type": "stream",
     "text": [
      "[Errno 2] No such file or directory: '/media/yuncong/YuncongPublic/CSHL_volumes/RV19_61hrs/RV19_61hrs_down32_annotationAsScoreVolume_warp24_RV4_67hrs_down32_annotationAsScoreVolume/score_volumes/RV19_61hrs_down32_annotationAsScoreVolume_warp24_RV4_67hrs_down32_annotationAsScoreVolume_3N_L.bp'\n",
      "Score volume for 3N_L does not exist.\n"
     ]
    },
    {
     "name": "stdout",
     "output_type": "stream",
     "text": [
      "rm -rf \"/media/yuncong/YuncongPublic/CSHL_volumes/RV19_61hrs/RV19_61hrs_down32_annotationAsScoreVolume_warp24_RV4_67hrs_down32_annotationAsScoreVolume/score_volumes/RV19_61hrs_down32_annotationAsScoreVolume_warp24_RV4_67hrs_down32_annotationAsScoreVolume_3N_R.bp\" && mkdir -p \"/media/yuncong/YuncongPublic/CSHL_volumes/RV19_61hrs/RV19_61hrs_down32_annotationAsScoreVolume_warp24_RV4_67hrs_down32_annotationAsScoreVolume/score_volumes\"\n",
      "aws s3 cp \"s3://mousebrainatlas-data/CSHL_volumes/RV19_61hrs/RV19_61hrs_down32_annotationAsScoreVolume_warp24_RV4_67hrs_down32_annotationAsScoreVolume/score_volumes/RV19_61hrs_down32_annotationAsScoreVolume_warp24_RV4_67hrs_down32_annotationAsScoreVolume_3N_R.bp\" \"/media/yuncong/YuncongPublic/CSHL_volumes/RV19_61hrs/RV19_61hrs_down32_annotationAsScoreVolume_warp24_RV4_67hrs_down32_annotationAsScoreVolume/score_volumes/RV19_61hrs_down32_annotationAsScoreVolume_warp24_RV4_67hrs_down32_annotationAsScoreVolume_3N_R.bp\"\n"
     ]
    },
    {
     "name": "stderr",
     "output_type": "stream",
     "text": [
      "[Errno 2] No such file or directory: '/media/yuncong/YuncongPublic/CSHL_volumes/RV19_61hrs/RV19_61hrs_down32_annotationAsScoreVolume_warp24_RV4_67hrs_down32_annotationAsScoreVolume/score_volumes/RV19_61hrs_down32_annotationAsScoreVolume_warp24_RV4_67hrs_down32_annotationAsScoreVolume_3N_R.bp'\n",
      "Score volume for 3N_R does not exist.\n"
     ]
    },
    {
     "name": "stdout",
     "output_type": "stream",
     "text": [
      "rm -rf \"/media/yuncong/YuncongPublic/CSHL_volumes/RV19_61hrs/RV19_61hrs_down32_annotationAsScoreVolume_warp24_RV4_67hrs_down32_annotationAsScoreVolume/score_volumes/RV19_61hrs_down32_annotationAsScoreVolume_warp24_RV4_67hrs_down32_annotationAsScoreVolume_4N_L.bp\" && mkdir -p \"/media/yuncong/YuncongPublic/CSHL_volumes/RV19_61hrs/RV19_61hrs_down32_annotationAsScoreVolume_warp24_RV4_67hrs_down32_annotationAsScoreVolume/score_volumes\"\n",
      "aws s3 cp \"s3://mousebrainatlas-data/CSHL_volumes/RV19_61hrs/RV19_61hrs_down32_annotationAsScoreVolume_warp24_RV4_67hrs_down32_annotationAsScoreVolume/score_volumes/RV19_61hrs_down32_annotationAsScoreVolume_warp24_RV4_67hrs_down32_annotationAsScoreVolume_4N_L.bp\" \"/media/yuncong/YuncongPublic/CSHL_volumes/RV19_61hrs/RV19_61hrs_down32_annotationAsScoreVolume_warp24_RV4_67hrs_down32_annotationAsScoreVolume/score_volumes/RV19_61hrs_down32_annotationAsScoreVolume_warp24_RV4_67hrs_down32_annotationAsScoreVolume_4N_L.bp\"\n"
     ]
    },
    {
     "name": "stderr",
     "output_type": "stream",
     "text": [
      "[Errno 2] No such file or directory: '/media/yuncong/YuncongPublic/CSHL_volumes/RV19_61hrs/RV19_61hrs_down32_annotationAsScoreVolume_warp24_RV4_67hrs_down32_annotationAsScoreVolume/score_volumes/RV19_61hrs_down32_annotationAsScoreVolume_warp24_RV4_67hrs_down32_annotationAsScoreVolume_4N_L.bp'\n",
      "Score volume for 4N_L does not exist.\n"
     ]
    },
    {
     "name": "stdout",
     "output_type": "stream",
     "text": [
      "rm -rf \"/media/yuncong/YuncongPublic/CSHL_volumes/RV19_61hrs/RV19_61hrs_down32_annotationAsScoreVolume_warp24_RV4_67hrs_down32_annotationAsScoreVolume/score_volumes/RV19_61hrs_down32_annotationAsScoreVolume_warp24_RV4_67hrs_down32_annotationAsScoreVolume_4N_R.bp\" && mkdir -p \"/media/yuncong/YuncongPublic/CSHL_volumes/RV19_61hrs/RV19_61hrs_down32_annotationAsScoreVolume_warp24_RV4_67hrs_down32_annotationAsScoreVolume/score_volumes\"\n",
      "aws s3 cp \"s3://mousebrainatlas-data/CSHL_volumes/RV19_61hrs/RV19_61hrs_down32_annotationAsScoreVolume_warp24_RV4_67hrs_down32_annotationAsScoreVolume/score_volumes/RV19_61hrs_down32_annotationAsScoreVolume_warp24_RV4_67hrs_down32_annotationAsScoreVolume_4N_R.bp\" \"/media/yuncong/YuncongPublic/CSHL_volumes/RV19_61hrs/RV19_61hrs_down32_annotationAsScoreVolume_warp24_RV4_67hrs_down32_annotationAsScoreVolume/score_volumes/RV19_61hrs_down32_annotationAsScoreVolume_warp24_RV4_67hrs_down32_annotationAsScoreVolume_4N_R.bp\"\n"
     ]
    },
    {
     "name": "stderr",
     "output_type": "stream",
     "text": [
      "[Errno 2] No such file or directory: '/media/yuncong/YuncongPublic/CSHL_volumes/RV19_61hrs/RV19_61hrs_down32_annotationAsScoreVolume_warp24_RV4_67hrs_down32_annotationAsScoreVolume/score_volumes/RV19_61hrs_down32_annotationAsScoreVolume_warp24_RV4_67hrs_down32_annotationAsScoreVolume_4N_R.bp'\n",
      "Score volume for 4N_R does not exist.\n"
     ]
    },
    {
     "name": "stdout",
     "output_type": "stream",
     "text": [
      "rm -rf \"/media/yuncong/YuncongPublic/CSHL_volumes/RV19_61hrs/RV19_61hrs_down32_annotationAsScoreVolume_warp24_RV4_67hrs_down32_annotationAsScoreVolume/score_volumes/RV19_61hrs_down32_annotationAsScoreVolume_warp24_RV4_67hrs_down32_annotationAsScoreVolume_Sp5I_L.bp\" && mkdir -p \"/media/yuncong/YuncongPublic/CSHL_volumes/RV19_61hrs/RV19_61hrs_down32_annotationAsScoreVolume_warp24_RV4_67hrs_down32_annotationAsScoreVolume/score_volumes\"\n",
      "aws s3 cp \"s3://mousebrainatlas-data/CSHL_volumes/RV19_61hrs/RV19_61hrs_down32_annotationAsScoreVolume_warp24_RV4_67hrs_down32_annotationAsScoreVolume/score_volumes/RV19_61hrs_down32_annotationAsScoreVolume_warp24_RV4_67hrs_down32_annotationAsScoreVolume_Sp5I_L.bp\" \"/media/yuncong/YuncongPublic/CSHL_volumes/RV19_61hrs/RV19_61hrs_down32_annotationAsScoreVolume_warp24_RV4_67hrs_down32_annotationAsScoreVolume/score_volumes/RV19_61hrs_down32_annotationAsScoreVolume_warp24_RV4_67hrs_down32_annotationAsScoreVolume_Sp5I_L.bp\"\n"
     ]
    },
    {
     "name": "stderr",
     "output_type": "stream",
     "text": [
      "[Errno 2] No such file or directory: '/media/yuncong/YuncongPublic/CSHL_volumes/RV19_61hrs/RV19_61hrs_down32_annotationAsScoreVolume_warp24_RV4_67hrs_down32_annotationAsScoreVolume/score_volumes/RV19_61hrs_down32_annotationAsScoreVolume_warp24_RV4_67hrs_down32_annotationAsScoreVolume_Sp5I_L.bp'\n",
      "Score volume for Sp5I_L does not exist.\n"
     ]
    },
    {
     "name": "stdout",
     "output_type": "stream",
     "text": [
      "rm -rf \"/media/yuncong/YuncongPublic/CSHL_volumes/RV19_61hrs/RV19_61hrs_down32_annotationAsScoreVolume_warp24_RV4_67hrs_down32_annotationAsScoreVolume/score_volumes/RV19_61hrs_down32_annotationAsScoreVolume_warp24_RV4_67hrs_down32_annotationAsScoreVolume_Sp5O_L.bp\" && mkdir -p \"/media/yuncong/YuncongPublic/CSHL_volumes/RV19_61hrs/RV19_61hrs_down32_annotationAsScoreVolume_warp24_RV4_67hrs_down32_annotationAsScoreVolume/score_volumes\"\n",
      "aws s3 cp \"s3://mousebrainatlas-data/CSHL_volumes/RV19_61hrs/RV19_61hrs_down32_annotationAsScoreVolume_warp24_RV4_67hrs_down32_annotationAsScoreVolume/score_volumes/RV19_61hrs_down32_annotationAsScoreVolume_warp24_RV4_67hrs_down32_annotationAsScoreVolume_Sp5O_L.bp\" \"/media/yuncong/YuncongPublic/CSHL_volumes/RV19_61hrs/RV19_61hrs_down32_annotationAsScoreVolume_warp24_RV4_67hrs_down32_annotationAsScoreVolume/score_volumes/RV19_61hrs_down32_annotationAsScoreVolume_warp24_RV4_67hrs_down32_annotationAsScoreVolume_Sp5O_L.bp\"\n"
     ]
    },
    {
     "name": "stderr",
     "output_type": "stream",
     "text": [
      "[Errno 2] No such file or directory: '/media/yuncong/YuncongPublic/CSHL_volumes/RV19_61hrs/RV19_61hrs_down32_annotationAsScoreVolume_warp24_RV4_67hrs_down32_annotationAsScoreVolume/score_volumes/RV19_61hrs_down32_annotationAsScoreVolume_warp24_RV4_67hrs_down32_annotationAsScoreVolume_Sp5O_L.bp'\n",
      "Score volume for Sp5O_L does not exist.\n"
     ]
    },
    {
     "name": "stdout",
     "output_type": "stream",
     "text": [
      "rm -rf \"/media/yuncong/YuncongPublic/CSHL_volumes/RV19_61hrs/RV19_61hrs_down32_annotationAsScoreVolume_warp24_RV4_67hrs_down32_annotationAsScoreVolume/score_volumes/RV19_61hrs_down32_annotationAsScoreVolume_warp24_RV4_67hrs_down32_annotationAsScoreVolume_Sp5O_R.bp\" && mkdir -p \"/media/yuncong/YuncongPublic/CSHL_volumes/RV19_61hrs/RV19_61hrs_down32_annotationAsScoreVolume_warp24_RV4_67hrs_down32_annotationAsScoreVolume/score_volumes\"\n",
      "aws s3 cp \"s3://mousebrainatlas-data/CSHL_volumes/RV19_61hrs/RV19_61hrs_down32_annotationAsScoreVolume_warp24_RV4_67hrs_down32_annotationAsScoreVolume/score_volumes/RV19_61hrs_down32_annotationAsScoreVolume_warp24_RV4_67hrs_down32_annotationAsScoreVolume_Sp5O_R.bp\" \"/media/yuncong/YuncongPublic/CSHL_volumes/RV19_61hrs/RV19_61hrs_down32_annotationAsScoreVolume_warp24_RV4_67hrs_down32_annotationAsScoreVolume/score_volumes/RV19_61hrs_down32_annotationAsScoreVolume_warp24_RV4_67hrs_down32_annotationAsScoreVolume_Sp5O_R.bp\"\n"
     ]
    },
    {
     "name": "stderr",
     "output_type": "stream",
     "text": [
      "[Errno 2] No such file or directory: '/media/yuncong/YuncongPublic/CSHL_volumes/RV19_61hrs/RV19_61hrs_down32_annotationAsScoreVolume_warp24_RV4_67hrs_down32_annotationAsScoreVolume/score_volumes/RV19_61hrs_down32_annotationAsScoreVolume_warp24_RV4_67hrs_down32_annotationAsScoreVolume_Sp5O_R.bp'\n",
      "Score volume for Sp5O_R does not exist.\n"
     ]
    },
    {
     "name": "stdout",
     "output_type": "stream",
     "text": [
      "rm -rf \"/media/yuncong/YuncongPublic/CSHL_volumes/RV19_61hrs/RV19_61hrs_down32_annotationAsScoreVolume_warp24_RV4_67hrs_down32_annotationAsScoreVolume/score_volumes/RV19_61hrs_down32_annotationAsScoreVolume_warp24_RV4_67hrs_down32_annotationAsScoreVolume_PBG_L.bp\" && mkdir -p \"/media/yuncong/YuncongPublic/CSHL_volumes/RV19_61hrs/RV19_61hrs_down32_annotationAsScoreVolume_warp24_RV4_67hrs_down32_annotationAsScoreVolume/score_volumes\"\n",
      "aws s3 cp \"s3://mousebrainatlas-data/CSHL_volumes/RV19_61hrs/RV19_61hrs_down32_annotationAsScoreVolume_warp24_RV4_67hrs_down32_annotationAsScoreVolume/score_volumes/RV19_61hrs_down32_annotationAsScoreVolume_warp24_RV4_67hrs_down32_annotationAsScoreVolume_PBG_L.bp\" \"/media/yuncong/YuncongPublic/CSHL_volumes/RV19_61hrs/RV19_61hrs_down32_annotationAsScoreVolume_warp24_RV4_67hrs_down32_annotationAsScoreVolume/score_volumes/RV19_61hrs_down32_annotationAsScoreVolume_warp24_RV4_67hrs_down32_annotationAsScoreVolume_PBG_L.bp\"\n"
     ]
    },
    {
     "name": "stderr",
     "output_type": "stream",
     "text": [
      "[Errno 2] No such file or directory: '/media/yuncong/YuncongPublic/CSHL_volumes/RV19_61hrs/RV19_61hrs_down32_annotationAsScoreVolume_warp24_RV4_67hrs_down32_annotationAsScoreVolume/score_volumes/RV19_61hrs_down32_annotationAsScoreVolume_warp24_RV4_67hrs_down32_annotationAsScoreVolume_PBG_L.bp'\n",
      "Score volume for PBG_L does not exist.\n"
     ]
    },
    {
     "name": "stdout",
     "output_type": "stream",
     "text": [
      "rm -rf \"/media/yuncong/YuncongPublic/CSHL_volumes/RV19_61hrs/RV19_61hrs_down32_annotationAsScoreVolume_warp24_RV4_67hrs_down32_annotationAsScoreVolume/score_volumes/RV19_61hrs_down32_annotationAsScoreVolume_warp24_RV4_67hrs_down32_annotationAsScoreVolume_PBG_R.bp\" && mkdir -p \"/media/yuncong/YuncongPublic/CSHL_volumes/RV19_61hrs/RV19_61hrs_down32_annotationAsScoreVolume_warp24_RV4_67hrs_down32_annotationAsScoreVolume/score_volumes\"\n",
      "aws s3 cp \"s3://mousebrainatlas-data/CSHL_volumes/RV19_61hrs/RV19_61hrs_down32_annotationAsScoreVolume_warp24_RV4_67hrs_down32_annotationAsScoreVolume/score_volumes/RV19_61hrs_down32_annotationAsScoreVolume_warp24_RV4_67hrs_down32_annotationAsScoreVolume_PBG_R.bp\" \"/media/yuncong/YuncongPublic/CSHL_volumes/RV19_61hrs/RV19_61hrs_down32_annotationAsScoreVolume_warp24_RV4_67hrs_down32_annotationAsScoreVolume/score_volumes/RV19_61hrs_down32_annotationAsScoreVolume_warp24_RV4_67hrs_down32_annotationAsScoreVolume_PBG_R.bp\"\n"
     ]
    },
    {
     "name": "stderr",
     "output_type": "stream",
     "text": [
      "[Errno 2] No such file or directory: '/media/yuncong/YuncongPublic/CSHL_volumes/RV19_61hrs/RV19_61hrs_down32_annotationAsScoreVolume_warp24_RV4_67hrs_down32_annotationAsScoreVolume/score_volumes/RV19_61hrs_down32_annotationAsScoreVolume_warp24_RV4_67hrs_down32_annotationAsScoreVolume_PBG_R.bp'\n",
      "Score volume for PBG_R does not exist.\n"
     ]
    },
    {
     "name": "stdout",
     "output_type": "stream",
     "text": [
      "rm -rf \"/media/yuncong/YuncongPublic/CSHL_volumes/RV19_61hrs/RV19_61hrs_down32_annotationAsScoreVolume_warp24_RV4_67hrs_down32_annotationAsScoreVolume/score_volumes/RV19_61hrs_down32_annotationAsScoreVolume_warp24_RV4_67hrs_down32_annotationAsScoreVolume_10N_L.bp\" && mkdir -p \"/media/yuncong/YuncongPublic/CSHL_volumes/RV19_61hrs/RV19_61hrs_down32_annotationAsScoreVolume_warp24_RV4_67hrs_down32_annotationAsScoreVolume/score_volumes\"\n",
      "aws s3 cp \"s3://mousebrainatlas-data/CSHL_volumes/RV19_61hrs/RV19_61hrs_down32_annotationAsScoreVolume_warp24_RV4_67hrs_down32_annotationAsScoreVolume/score_volumes/RV19_61hrs_down32_annotationAsScoreVolume_warp24_RV4_67hrs_down32_annotationAsScoreVolume_10N_L.bp\" \"/media/yuncong/YuncongPublic/CSHL_volumes/RV19_61hrs/RV19_61hrs_down32_annotationAsScoreVolume_warp24_RV4_67hrs_down32_annotationAsScoreVolume/score_volumes/RV19_61hrs_down32_annotationAsScoreVolume_warp24_RV4_67hrs_down32_annotationAsScoreVolume_10N_L.bp\"\n"
     ]
    },
    {
     "name": "stderr",
     "output_type": "stream",
     "text": [
      "[Errno 2] No such file or directory: '/media/yuncong/YuncongPublic/CSHL_volumes/RV19_61hrs/RV19_61hrs_down32_annotationAsScoreVolume_warp24_RV4_67hrs_down32_annotationAsScoreVolume/score_volumes/RV19_61hrs_down32_annotationAsScoreVolume_warp24_RV4_67hrs_down32_annotationAsScoreVolume_10N_L.bp'\n",
      "Score volume for 10N_L does not exist.\n"
     ]
    },
    {
     "name": "stdout",
     "output_type": "stream",
     "text": [
      "rm -rf \"/media/yuncong/YuncongPublic/CSHL_volumes/RV19_61hrs/RV19_61hrs_down32_annotationAsScoreVolume_warp24_RV4_67hrs_down32_annotationAsScoreVolume/score_volumes/RV19_61hrs_down32_annotationAsScoreVolume_warp24_RV4_67hrs_down32_annotationAsScoreVolume_10N_R.bp\" && mkdir -p \"/media/yuncong/YuncongPublic/CSHL_volumes/RV19_61hrs/RV19_61hrs_down32_annotationAsScoreVolume_warp24_RV4_67hrs_down32_annotationAsScoreVolume/score_volumes\"\n",
      "aws s3 cp \"s3://mousebrainatlas-data/CSHL_volumes/RV19_61hrs/RV19_61hrs_down32_annotationAsScoreVolume_warp24_RV4_67hrs_down32_annotationAsScoreVolume/score_volumes/RV19_61hrs_down32_annotationAsScoreVolume_warp24_RV4_67hrs_down32_annotationAsScoreVolume_10N_R.bp\" \"/media/yuncong/YuncongPublic/CSHL_volumes/RV19_61hrs/RV19_61hrs_down32_annotationAsScoreVolume_warp24_RV4_67hrs_down32_annotationAsScoreVolume/score_volumes/RV19_61hrs_down32_annotationAsScoreVolume_warp24_RV4_67hrs_down32_annotationAsScoreVolume_10N_R.bp\"\n"
     ]
    },
    {
     "name": "stderr",
     "output_type": "stream",
     "text": [
      "[Errno 2] No such file or directory: '/media/yuncong/YuncongPublic/CSHL_volumes/RV19_61hrs/RV19_61hrs_down32_annotationAsScoreVolume_warp24_RV4_67hrs_down32_annotationAsScoreVolume/score_volumes/RV19_61hrs_down32_annotationAsScoreVolume_warp24_RV4_67hrs_down32_annotationAsScoreVolume_10N_R.bp'\n",
      "Score volume for 10N_R does not exist.\n"
     ]
    },
    {
     "name": "stdout",
     "output_type": "stream",
     "text": [
      "rm -rf \"/media/yuncong/YuncongPublic/CSHL_volumes/RV19_61hrs/RV19_61hrs_down32_annotationAsScoreVolume_warp24_RV4_67hrs_down32_annotationAsScoreVolume/score_volumes/RV19_61hrs_down32_annotationAsScoreVolume_warp24_RV4_67hrs_down32_annotationAsScoreVolume_VCA_L.bp\" && mkdir -p \"/media/yuncong/YuncongPublic/CSHL_volumes/RV19_61hrs/RV19_61hrs_down32_annotationAsScoreVolume_warp24_RV4_67hrs_down32_annotationAsScoreVolume/score_volumes\"\n",
      "aws s3 cp \"s3://mousebrainatlas-data/CSHL_volumes/RV19_61hrs/RV19_61hrs_down32_annotationAsScoreVolume_warp24_RV4_67hrs_down32_annotationAsScoreVolume/score_volumes/RV19_61hrs_down32_annotationAsScoreVolume_warp24_RV4_67hrs_down32_annotationAsScoreVolume_VCA_L.bp\" \"/media/yuncong/YuncongPublic/CSHL_volumes/RV19_61hrs/RV19_61hrs_down32_annotationAsScoreVolume_warp24_RV4_67hrs_down32_annotationAsScoreVolume/score_volumes/RV19_61hrs_down32_annotationAsScoreVolume_warp24_RV4_67hrs_down32_annotationAsScoreVolume_VCA_L.bp\"\n"
     ]
    },
    {
     "name": "stderr",
     "output_type": "stream",
     "text": [
      "[Errno 2] No such file or directory: '/media/yuncong/YuncongPublic/CSHL_volumes/RV19_61hrs/RV19_61hrs_down32_annotationAsScoreVolume_warp24_RV4_67hrs_down32_annotationAsScoreVolume/score_volumes/RV19_61hrs_down32_annotationAsScoreVolume_warp24_RV4_67hrs_down32_annotationAsScoreVolume_VCA_L.bp'\n",
      "Score volume for VCA_L does not exist.\n"
     ]
    },
    {
     "name": "stdout",
     "output_type": "stream",
     "text": [
      "rm -rf \"/media/yuncong/YuncongPublic/CSHL_volumes/RV19_61hrs/RV19_61hrs_down32_annotationAsScoreVolume_warp24_RV4_67hrs_down32_annotationAsScoreVolume/score_volumes/RV19_61hrs_down32_annotationAsScoreVolume_warp24_RV4_67hrs_down32_annotationAsScoreVolume_VCA_R.bp\" && mkdir -p \"/media/yuncong/YuncongPublic/CSHL_volumes/RV19_61hrs/RV19_61hrs_down32_annotationAsScoreVolume_warp24_RV4_67hrs_down32_annotationAsScoreVolume/score_volumes\"\n",
      "aws s3 cp \"s3://mousebrainatlas-data/CSHL_volumes/RV19_61hrs/RV19_61hrs_down32_annotationAsScoreVolume_warp24_RV4_67hrs_down32_annotationAsScoreVolume/score_volumes/RV19_61hrs_down32_annotationAsScoreVolume_warp24_RV4_67hrs_down32_annotationAsScoreVolume_VCA_R.bp\" \"/media/yuncong/YuncongPublic/CSHL_volumes/RV19_61hrs/RV19_61hrs_down32_annotationAsScoreVolume_warp24_RV4_67hrs_down32_annotationAsScoreVolume/score_volumes/RV19_61hrs_down32_annotationAsScoreVolume_warp24_RV4_67hrs_down32_annotationAsScoreVolume_VCA_R.bp\"\n"
     ]
    },
    {
     "name": "stderr",
     "output_type": "stream",
     "text": [
      "[Errno 2] No such file or directory: '/media/yuncong/YuncongPublic/CSHL_volumes/RV19_61hrs/RV19_61hrs_down32_annotationAsScoreVolume_warp24_RV4_67hrs_down32_annotationAsScoreVolume/score_volumes/RV19_61hrs_down32_annotationAsScoreVolume_warp24_RV4_67hrs_down32_annotationAsScoreVolume_VCA_R.bp'\n",
      "Score volume for VCA_R does not exist.\n"
     ]
    },
    {
     "name": "stdout",
     "output_type": "stream",
     "text": [
      "rm -rf \"/media/yuncong/YuncongPublic/CSHL_volumes/RV19_61hrs/RV19_61hrs_down32_annotationAsScoreVolume_warp24_RV4_67hrs_down32_annotationAsScoreVolume/score_volumes/RV19_61hrs_down32_annotationAsScoreVolume_warp24_RV4_67hrs_down32_annotationAsScoreVolume_VCP_L.bp\" && mkdir -p \"/media/yuncong/YuncongPublic/CSHL_volumes/RV19_61hrs/RV19_61hrs_down32_annotationAsScoreVolume_warp24_RV4_67hrs_down32_annotationAsScoreVolume/score_volumes\"\n",
      "aws s3 cp \"s3://mousebrainatlas-data/CSHL_volumes/RV19_61hrs/RV19_61hrs_down32_annotationAsScoreVolume_warp24_RV4_67hrs_down32_annotationAsScoreVolume/score_volumes/RV19_61hrs_down32_annotationAsScoreVolume_warp24_RV4_67hrs_down32_annotationAsScoreVolume_VCP_L.bp\" \"/media/yuncong/YuncongPublic/CSHL_volumes/RV19_61hrs/RV19_61hrs_down32_annotationAsScoreVolume_warp24_RV4_67hrs_down32_annotationAsScoreVolume/score_volumes/RV19_61hrs_down32_annotationAsScoreVolume_warp24_RV4_67hrs_down32_annotationAsScoreVolume_VCP_L.bp\"\n"
     ]
    },
    {
     "name": "stderr",
     "output_type": "stream",
     "text": [
      "[Errno 2] No such file or directory: '/media/yuncong/YuncongPublic/CSHL_volumes/RV19_61hrs/RV19_61hrs_down32_annotationAsScoreVolume_warp24_RV4_67hrs_down32_annotationAsScoreVolume/score_volumes/RV19_61hrs_down32_annotationAsScoreVolume_warp24_RV4_67hrs_down32_annotationAsScoreVolume_VCP_L.bp'\n",
      "Score volume for VCP_L does not exist.\n"
     ]
    },
    {
     "name": "stdout",
     "output_type": "stream",
     "text": [
      "rm -rf \"/media/yuncong/YuncongPublic/CSHL_volumes/RV19_61hrs/RV19_61hrs_down32_annotationAsScoreVolume_warp24_RV4_67hrs_down32_annotationAsScoreVolume/score_volumes/RV19_61hrs_down32_annotationAsScoreVolume_warp24_RV4_67hrs_down32_annotationAsScoreVolume_VCP_R.bp\" && mkdir -p \"/media/yuncong/YuncongPublic/CSHL_volumes/RV19_61hrs/RV19_61hrs_down32_annotationAsScoreVolume_warp24_RV4_67hrs_down32_annotationAsScoreVolume/score_volumes\"\n",
      "aws s3 cp \"s3://mousebrainatlas-data/CSHL_volumes/RV19_61hrs/RV19_61hrs_down32_annotationAsScoreVolume_warp24_RV4_67hrs_down32_annotationAsScoreVolume/score_volumes/RV19_61hrs_down32_annotationAsScoreVolume_warp24_RV4_67hrs_down32_annotationAsScoreVolume_VCP_R.bp\" \"/media/yuncong/YuncongPublic/CSHL_volumes/RV19_61hrs/RV19_61hrs_down32_annotationAsScoreVolume_warp24_RV4_67hrs_down32_annotationAsScoreVolume/score_volumes/RV19_61hrs_down32_annotationAsScoreVolume_warp24_RV4_67hrs_down32_annotationAsScoreVolume_VCP_R.bp\"\n"
     ]
    },
    {
     "name": "stderr",
     "output_type": "stream",
     "text": [
      "[Errno 2] No such file or directory: '/media/yuncong/YuncongPublic/CSHL_volumes/RV19_61hrs/RV19_61hrs_down32_annotationAsScoreVolume_warp24_RV4_67hrs_down32_annotationAsScoreVolume/score_volumes/RV19_61hrs_down32_annotationAsScoreVolume_warp24_RV4_67hrs_down32_annotationAsScoreVolume_VCP_R.bp'\n",
      "Score volume for VCP_R does not exist.\n"
     ]
    },
    {
     "name": "stdout",
     "output_type": "stream",
     "text": [
      "rm -rf \"/media/yuncong/YuncongPublic/CSHL_volumes/RV19_61hrs/RV19_61hrs_down32_annotationAsScoreVolume_warp24_RV4_67hrs_down32_annotationAsScoreVolume/score_volumes/RV19_61hrs_down32_annotationAsScoreVolume_warp24_RV4_67hrs_down32_annotationAsScoreVolume_DC_L.bp\" && mkdir -p \"/media/yuncong/YuncongPublic/CSHL_volumes/RV19_61hrs/RV19_61hrs_down32_annotationAsScoreVolume_warp24_RV4_67hrs_down32_annotationAsScoreVolume/score_volumes\"\n",
      "aws s3 cp \"s3://mousebrainatlas-data/CSHL_volumes/RV19_61hrs/RV19_61hrs_down32_annotationAsScoreVolume_warp24_RV4_67hrs_down32_annotationAsScoreVolume/score_volumes/RV19_61hrs_down32_annotationAsScoreVolume_warp24_RV4_67hrs_down32_annotationAsScoreVolume_DC_L.bp\" \"/media/yuncong/YuncongPublic/CSHL_volumes/RV19_61hrs/RV19_61hrs_down32_annotationAsScoreVolume_warp24_RV4_67hrs_down32_annotationAsScoreVolume/score_volumes/RV19_61hrs_down32_annotationAsScoreVolume_warp24_RV4_67hrs_down32_annotationAsScoreVolume_DC_L.bp\"\n"
     ]
    },
    {
     "name": "stderr",
     "output_type": "stream",
     "text": [
      "[Errno 2] No such file or directory: '/media/yuncong/YuncongPublic/CSHL_volumes/RV19_61hrs/RV19_61hrs_down32_annotationAsScoreVolume_warp24_RV4_67hrs_down32_annotationAsScoreVolume/score_volumes/RV19_61hrs_down32_annotationAsScoreVolume_warp24_RV4_67hrs_down32_annotationAsScoreVolume_DC_L.bp'\n",
      "Score volume for DC_L does not exist.\n"
     ]
    },
    {
     "name": "stdout",
     "output_type": "stream",
     "text": [
      "rm -rf \"/media/yuncong/YuncongPublic/CSHL_volumes/RV19_61hrs/RV19_61hrs_down32_annotationAsScoreVolume_warp24_RV4_67hrs_down32_annotationAsScoreVolume/score_volumes/RV19_61hrs_down32_annotationAsScoreVolume_warp24_RV4_67hrs_down32_annotationAsScoreVolume_DC_R.bp\" && mkdir -p \"/media/yuncong/YuncongPublic/CSHL_volumes/RV19_61hrs/RV19_61hrs_down32_annotationAsScoreVolume_warp24_RV4_67hrs_down32_annotationAsScoreVolume/score_volumes\"\n",
      "aws s3 cp \"s3://mousebrainatlas-data/CSHL_volumes/RV19_61hrs/RV19_61hrs_down32_annotationAsScoreVolume_warp24_RV4_67hrs_down32_annotationAsScoreVolume/score_volumes/RV19_61hrs_down32_annotationAsScoreVolume_warp24_RV4_67hrs_down32_annotationAsScoreVolume_DC_R.bp\" \"/media/yuncong/YuncongPublic/CSHL_volumes/RV19_61hrs/RV19_61hrs_down32_annotationAsScoreVolume_warp24_RV4_67hrs_down32_annotationAsScoreVolume/score_volumes/RV19_61hrs_down32_annotationAsScoreVolume_warp24_RV4_67hrs_down32_annotationAsScoreVolume_DC_R.bp\"\n"
     ]
    },
    {
     "name": "stderr",
     "output_type": "stream",
     "text": [
      "[Errno 2] No such file or directory: '/media/yuncong/YuncongPublic/CSHL_volumes/RV19_61hrs/RV19_61hrs_down32_annotationAsScoreVolume_warp24_RV4_67hrs_down32_annotationAsScoreVolume/score_volumes/RV19_61hrs_down32_annotationAsScoreVolume_warp24_RV4_67hrs_down32_annotationAsScoreVolume_DC_R.bp'\n",
      "Score volume for DC_R does not exist.\n"
     ]
    },
    {
     "name": "stdout",
     "output_type": "stream",
     "text": [
      "rm -rf \"/media/yuncong/YuncongPublic/CSHL_volumes/RV19_61hrs/RV19_61hrs_down32_annotationAsScoreVolume_warp24_RV4_67hrs_down32_annotationAsScoreVolume/score_volumes/RV19_61hrs_down32_annotationAsScoreVolume_warp24_RV4_67hrs_down32_annotationAsScoreVolume_AP.bp\" && mkdir -p \"/media/yuncong/YuncongPublic/CSHL_volumes/RV19_61hrs/RV19_61hrs_down32_annotationAsScoreVolume_warp24_RV4_67hrs_down32_annotationAsScoreVolume/score_volumes\"\n",
      "aws s3 cp \"s3://mousebrainatlas-data/CSHL_volumes/RV19_61hrs/RV19_61hrs_down32_annotationAsScoreVolume_warp24_RV4_67hrs_down32_annotationAsScoreVolume/score_volumes/RV19_61hrs_down32_annotationAsScoreVolume_warp24_RV4_67hrs_down32_annotationAsScoreVolume_AP.bp\" \"/media/yuncong/YuncongPublic/CSHL_volumes/RV19_61hrs/RV19_61hrs_down32_annotationAsScoreVolume_warp24_RV4_67hrs_down32_annotationAsScoreVolume/score_volumes/RV19_61hrs_down32_annotationAsScoreVolume_warp24_RV4_67hrs_down32_annotationAsScoreVolume_AP.bp\"\n"
     ]
    },
    {
     "name": "stderr",
     "output_type": "stream",
     "text": [
      "[Errno 2] No such file or directory: '/media/yuncong/YuncongPublic/CSHL_volumes/RV19_61hrs/RV19_61hrs_down32_annotationAsScoreVolume_warp24_RV4_67hrs_down32_annotationAsScoreVolume/score_volumes/RV19_61hrs_down32_annotationAsScoreVolume_warp24_RV4_67hrs_down32_annotationAsScoreVolume_AP.bp'\n",
      "Score volume for AP does not exist.\n"
     ]
    },
    {
     "name": "stdout",
     "output_type": "stream",
     "text": [
      "rm -rf \"/media/yuncong/YuncongPublic/CSHL_volumes/RV19_61hrs/RV19_61hrs_down32_annotationAsScoreVolume_warp24_RV4_67hrs_down32_annotationAsScoreVolume/score_volumes/RV19_61hrs_down32_annotationAsScoreVolume_warp24_RV4_67hrs_down32_annotationAsScoreVolume_12N.bp\" && mkdir -p \"/media/yuncong/YuncongPublic/CSHL_volumes/RV19_61hrs/RV19_61hrs_down32_annotationAsScoreVolume_warp24_RV4_67hrs_down32_annotationAsScoreVolume/score_volumes\"\n",
      "aws s3 cp \"s3://mousebrainatlas-data/CSHL_volumes/RV19_61hrs/RV19_61hrs_down32_annotationAsScoreVolume_warp24_RV4_67hrs_down32_annotationAsScoreVolume/score_volumes/RV19_61hrs_down32_annotationAsScoreVolume_warp24_RV4_67hrs_down32_annotationAsScoreVolume_12N.bp\" \"/media/yuncong/YuncongPublic/CSHL_volumes/RV19_61hrs/RV19_61hrs_down32_annotationAsScoreVolume_warp24_RV4_67hrs_down32_annotationAsScoreVolume/score_volumes/RV19_61hrs_down32_annotationAsScoreVolume_warp24_RV4_67hrs_down32_annotationAsScoreVolume_12N.bp\"\n"
     ]
    },
    {
     "name": "stderr",
     "output_type": "stream",
     "text": [
      "[Errno 2] No such file or directory: '/media/yuncong/YuncongPublic/CSHL_volumes/RV19_61hrs/RV19_61hrs_down32_annotationAsScoreVolume_warp24_RV4_67hrs_down32_annotationAsScoreVolume/score_volumes/RV19_61hrs_down32_annotationAsScoreVolume_warp24_RV4_67hrs_down32_annotationAsScoreVolume_12N.bp'\n",
      "Score volume for 12N does not exist.\n"
     ]
    },
    {
     "name": "stdout",
     "output_type": "stream",
     "text": [
      "rm -rf \"/media/yuncong/YuncongPublic/CSHL_volumes/RV19_61hrs/RV19_61hrs_down32_annotationAsScoreVolume_warp24_RV4_67hrs_down32_annotationAsScoreVolume/score_volumes/RV19_61hrs_down32_annotationAsScoreVolume_warp24_RV4_67hrs_down32_annotationAsScoreVolume_RtTg.bp\" && mkdir -p \"/media/yuncong/YuncongPublic/CSHL_volumes/RV19_61hrs/RV19_61hrs_down32_annotationAsScoreVolume_warp24_RV4_67hrs_down32_annotationAsScoreVolume/score_volumes\"\n",
      "aws s3 cp \"s3://mousebrainatlas-data/CSHL_volumes/RV19_61hrs/RV19_61hrs_down32_annotationAsScoreVolume_warp24_RV4_67hrs_down32_annotationAsScoreVolume/score_volumes/RV19_61hrs_down32_annotationAsScoreVolume_warp24_RV4_67hrs_down32_annotationAsScoreVolume_RtTg.bp\" \"/media/yuncong/YuncongPublic/CSHL_volumes/RV19_61hrs/RV19_61hrs_down32_annotationAsScoreVolume_warp24_RV4_67hrs_down32_annotationAsScoreVolume/score_volumes/RV19_61hrs_down32_annotationAsScoreVolume_warp24_RV4_67hrs_down32_annotationAsScoreVolume_RtTg.bp\"\n"
     ]
    },
    {
     "name": "stderr",
     "output_type": "stream",
     "text": [
      "[Errno 2] No such file or directory: '/media/yuncong/YuncongPublic/CSHL_volumes/RV19_61hrs/RV19_61hrs_down32_annotationAsScoreVolume_warp24_RV4_67hrs_down32_annotationAsScoreVolume/score_volumes/RV19_61hrs_down32_annotationAsScoreVolume_warp24_RV4_67hrs_down32_annotationAsScoreVolume_RtTg.bp'\n",
      "Score volume for RtTg does not exist.\n"
     ]
    },
    {
     "name": "stdout",
     "output_type": "stream",
     "text": [
      "rm -rf \"/media/yuncong/YuncongPublic/CSHL_volumes/RV19_61hrs/RV19_61hrs_down32_annotationAsScoreVolume_warp24_RV4_67hrs_down32_annotationAsScoreVolume/score_volumes/RV19_61hrs_down32_annotationAsScoreVolume_warp24_RV4_67hrs_down32_annotationAsScoreVolume_SC.bp\" && mkdir -p \"/media/yuncong/YuncongPublic/CSHL_volumes/RV19_61hrs/RV19_61hrs_down32_annotationAsScoreVolume_warp24_RV4_67hrs_down32_annotationAsScoreVolume/score_volumes\"\n",
      "aws s3 cp \"s3://mousebrainatlas-data/CSHL_volumes/RV19_61hrs/RV19_61hrs_down32_annotationAsScoreVolume_warp24_RV4_67hrs_down32_annotationAsScoreVolume/score_volumes/RV19_61hrs_down32_annotationAsScoreVolume_warp24_RV4_67hrs_down32_annotationAsScoreVolume_SC.bp\" \"/media/yuncong/YuncongPublic/CSHL_volumes/RV19_61hrs/RV19_61hrs_down32_annotationAsScoreVolume_warp24_RV4_67hrs_down32_annotationAsScoreVolume/score_volumes/RV19_61hrs_down32_annotationAsScoreVolume_warp24_RV4_67hrs_down32_annotationAsScoreVolume_SC.bp\"\n"
     ]
    },
    {
     "name": "stderr",
     "output_type": "stream",
     "text": [
      "[Errno 2] No such file or directory: '/media/yuncong/YuncongPublic/CSHL_volumes/RV19_61hrs/RV19_61hrs_down32_annotationAsScoreVolume_warp24_RV4_67hrs_down32_annotationAsScoreVolume/score_volumes/RV19_61hrs_down32_annotationAsScoreVolume_warp24_RV4_67hrs_down32_annotationAsScoreVolume_SC.bp'\n",
      "Score volume for SC does not exist.\n"
     ]
    },
    {
     "name": "stdout",
     "output_type": "stream",
     "text": [
      "rm -rf \"/media/yuncong/YuncongPublic/CSHL_volumes/RV19_61hrs/RV19_61hrs_down32_annotationAsScoreVolume_warp24_RV4_67hrs_down32_annotationAsScoreVolume/score_volumes/RV19_61hrs_down32_annotationAsScoreVolume_warp24_RV4_67hrs_down32_annotationAsScoreVolume_IC.bp\" && mkdir -p \"/media/yuncong/YuncongPublic/CSHL_volumes/RV19_61hrs/RV19_61hrs_down32_annotationAsScoreVolume_warp24_RV4_67hrs_down32_annotationAsScoreVolume/score_volumes\"\n",
      "aws s3 cp \"s3://mousebrainatlas-data/CSHL_volumes/RV19_61hrs/RV19_61hrs_down32_annotationAsScoreVolume_warp24_RV4_67hrs_down32_annotationAsScoreVolume/score_volumes/RV19_61hrs_down32_annotationAsScoreVolume_warp24_RV4_67hrs_down32_annotationAsScoreVolume_IC.bp\" \"/media/yuncong/YuncongPublic/CSHL_volumes/RV19_61hrs/RV19_61hrs_down32_annotationAsScoreVolume_warp24_RV4_67hrs_down32_annotationAsScoreVolume/score_volumes/RV19_61hrs_down32_annotationAsScoreVolume_warp24_RV4_67hrs_down32_annotationAsScoreVolume_IC.bp\"\n"
     ]
    },
    {
     "name": "stderr",
     "output_type": "stream",
     "text": [
      "[Errno 2] No such file or directory: '/media/yuncong/YuncongPublic/CSHL_volumes/RV19_61hrs/RV19_61hrs_down32_annotationAsScoreVolume_warp24_RV4_67hrs_down32_annotationAsScoreVolume/score_volumes/RV19_61hrs_down32_annotationAsScoreVolume_warp24_RV4_67hrs_down32_annotationAsScoreVolume_IC.bp'\n",
      "Score volume for IC does not exist.\n"
     ]
    },
    {
     "name": "stdout",
     "output_type": "stream",
     "text": [
      "['LRt_R', 'Sp5C_L', '7N_L', '5N_L', '7N_R', '7n_L', '5N_R', 'Sp5I_R', 'Sp5C_R', '7n_R', 'LRt_L']\n"
     ]
    },
    {
     "name": "stderr",
     "output_type": "stream",
     "text": [
      "marching cube: 0.73 seconds\n",
      "mesh_to_polydata: 0.09 seconds\n",
      "simplify 0 @ 74056: 0.70 seconds\n",
      "simplify 1 @ 14785: 0.76 seconds\n",
      "simplify 2 @ 2979: 0.15 seconds\n",
      "marching cube: 0.09 seconds\n",
      "mesh_to_polydata: 0.05 seconds\n",
      "simplify 0 @ 35401: 0.43 seconds\n",
      "simplify 1 @ 7044: 0.33 seconds\n",
      "simplify 2 @ 1402: 0.07 seconds\n",
      "marching cube: 0.52 seconds\n",
      "mesh_to_polydata: 0.09 seconds\n",
      "simplify 0 @ 74358: 0.71 seconds\n",
      "simplify 1 @ 14836: 0.79 seconds\n",
      "simplify 2 @ 2983: 0.15 seconds\n",
      "marching cube: 0.13 seconds\n",
      "mesh_to_polydata: 0.06 seconds\n",
      "simplify 0 @ 45502: 0.49 seconds\n",
      "simplify 1 @ 9039: 0.44 seconds\n",
      "simplify 2 @ 1791: 0.08 seconds\n",
      "marching cube: 0.13 seconds\n",
      "mesh_to_polydata: 0.08 seconds\n",
      "simplify 0 @ 70351: 0.57 seconds\n",
      "simplify 1 @ 14064: 0.69 seconds\n",
      "simplify 2 @ 2860: 0.15 seconds\n",
      "marching cube: 2.20 seconds\n",
      "mesh_to_polydata: 0.06 seconds\n",
      "simplify 0 @ 48608: 0.46 seconds\n",
      "simplify 1 @ 9687: 0.50 seconds\n",
      "simplify 2 @ 1932: 0.10 seconds\n",
      "marching cube: 0.06 seconds\n",
      "mesh_to_polydata: 0.04 seconds\n",
      "simplify 0 @ 27748: 0.26 seconds\n",
      "simplify 1 @ 5527: 0.25 seconds\n",
      "simplify 2 @ 1104: 0.05 seconds\n",
      "marching cube: 1.21 seconds\n",
      "mesh_to_polydata: 0.15 seconds\n",
      "simplify 0 @ 105902: 2.22 seconds\n",
      "simplify 1 @ 21127: 1.96 seconds\n",
      "simplify 2 @ 4275: 0.41 seconds\n",
      "marching cube: 0.23 seconds\n",
      "mesh_to_polydata: 0.07 seconds\n",
      "simplify 0 @ 47409: 0.57 seconds\n",
      "simplify 1 @ 9441: 0.52 seconds\n",
      "simplify 2 @ 1899: 0.10 seconds\n",
      "marching cube: 1.39 seconds\n",
      "mesh_to_polydata: 0.06 seconds\n",
      "simplify 0 @ 45462: 0.44 seconds\n",
      "simplify 1 @ 9087: 0.51 seconds\n",
      "simplify 2 @ 1823: 0.10 seconds\n",
      "marching cube: 0.95 seconds\n",
      "mesh_to_polydata: 0.11 seconds\n",
      "simplify 0 @ 76012: 0.85 seconds\n",
      "simplify 1 @ 15133: 0.86 seconds\n",
      "simplify 2 @ 3021: 0.17 seconds\n"
     ]
    }
   ],
   "source": [
    "# Load moving brains\n",
    "\n",
    "moving_brain_actor_list_all_stacks = {}\n",
    "\n",
    "for stack_moving in ['RV14_65hrs', 'RV13_64hrs', 'RV19_61hrs']:\n",
    "    \n",
    "    print stack_moving\n",
    "    \n",
    "    brain_movingAlignedToFixed = load_transformed_volume_all_known_structures_v2(stack_m=stack_moving, \n",
    "                                                                stack_f=stack_fixed, \n",
    "                                                                warp_setting=24,\n",
    "                                                                sided=True, include_surround=False, \n",
    "                                                                return_label_mappings=False, \n",
    "                                                                name_or_index_as_key='name', common_shape=False)\n",
    "    \n",
    "    print brain_movingAlignedToFixed.keys()\n",
    "    \n",
    "    moving_brain_meshes = {name_s: volume_to_polydata(brain_movingAlignedToFixed[name_s][0], num_simplify_iter=3, smooth=True)\n",
    "                           for name_s in brain_movingAlignedToFixed.iterkeys()}\n",
    "    \n",
    "    moving_brain_actor_list = [actor_mesh(mesh, origin=brain_movingAlignedToFixed[name_s][1][[0,2,4]], \n",
    "                                      wireframe=True, color=stacks_to_colors[stack_moving]) \n",
    "                          for name_s, mesh in moving_brain_meshes.iteritems()]\n",
    "    \n",
    "    moving_brain_actor_list_all_stacks[stack_moving] = moving_brain_actor_list"
   ]
  },
  {
   "cell_type": "markdown",
   "metadata": {},
   "source": [
    "Render all brains in 3D."
   ]
  },
  {
   "cell_type": "code",
   "execution_count": 16,
   "metadata": {},
   "outputs": [],
   "source": [
    "launch_vtk([a for actor_list in moving_brain_actor_list_all_stacks.values() for a in actor_list] + \\\n",
    "           fixed_brain_actor_list + \\\n",
    "           [actor_sphere(position=(0,0,0), radius=10)]) # a small ball is added to indicate the coordinate origin."
   ]
  },
  {
   "cell_type": "code",
   "execution_count": null,
   "metadata": {
    "collapsed": true
   },
   "outputs": [],
   "source": []
  }
 ],
 "metadata": {
  "kernelspec": {
   "display_name": "Python 2",
   "language": "python",
   "name": "python2"
  },
  "language_info": {
   "codemirror_mode": {
    "name": "ipython",
    "version": 2
   },
   "file_extension": ".py",
   "mimetype": "text/x-python",
   "name": "python",
   "nbconvert_exporter": "python",
   "pygments_lexer": "ipython2",
   "version": "2.7.12"
  }
 },
 "nbformat": 4,
 "nbformat_minor": 2
}
