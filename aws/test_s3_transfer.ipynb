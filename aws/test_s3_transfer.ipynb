{
 "cells": [
  {
   "cell_type": "code",
   "execution_count": 1,
   "metadata": {
    "collapsed": true
   },
   "outputs": [],
   "source": [
    "%load_ext autoreload\n",
    "%autoreload 2\n",
    "\n",
    "import sys\n",
    "import os\n",
    "sys.path.append(os.path.join(os.environ['REPO_DIR'], 'utilities'))"
   ]
  },
  {
   "cell_type": "code",
   "execution_count": 2,
   "metadata": {
    "collapsed": false
   },
   "outputs": [
    {
     "name": "stdout",
     "output_type": "stream",
     "text": [
      "Setting environment for Local Macbook Pro\n"
     ]
    }
   ],
   "source": [
    "from distributed_utilities import *"
   ]
  },
  {
   "cell_type": "code",
   "execution_count": null,
   "metadata": {
    "collapsed": false,
    "scrolled": true
   },
   "outputs": [],
   "source": [
    "transfer_data(from_fp=S3_DATA_BUCKET+'/CSHL_data_processed/MD589/MD589_elastix_output', \n",
    "                 to_fp='/home/yuncong/CSHL_data_processed/MD589/MD589_elastix_output',\n",
    "                from_hostname='s3',\n",
    "                to_hostname='localhost')"
   ]
  },
  {
   "cell_type": "code",
   "execution_count": 7,
   "metadata": {
    "collapsed": false
   },
   "outputs": [
    {
     "name": "stdout",
     "output_type": "stream",
     "text": [
      "rm -rf /home/yuncong/CSHL_data_processed/MD589/MD589_elastix_output && mkdir -p /home/yuncong/CSHL_data_processed/MD589 && aws s3 cp --recursive s3://mousebrainatlas-data/CSHL_data_processed/MD589/MD589_elastix_output /home/yuncong/CSHL_data_processed/MD589/MD589_elastix_output\n"
     ]
    },
    {
     "name": "stderr",
     "output_type": "stream",
     "text": [
      "Child returned 0\n"
     ]
    }
   ],
   "source": [
    "transfer_data_synced(fp_relative='CSHL_data_processed/MD589/MD589_elastix_output', \n",
    "                from_hostname='s3',\n",
    "                to_hostname='localhost')"
   ]
  }
 ],
 "metadata": {
  "kernelspec": {
   "display_name": "Python 2",
   "language": "python",
   "name": "python2"
  },
  "language_info": {
   "codemirror_mode": {
    "name": "ipython",
    "version": 2
   },
   "file_extension": ".py",
   "mimetype": "text/x-python",
   "name": "python",
   "nbconvert_exporter": "python",
   "pygments_lexer": "ipython2",
   "version": "2.7.12"
  }
 },
 "nbformat": 4,
 "nbformat_minor": 1
}
