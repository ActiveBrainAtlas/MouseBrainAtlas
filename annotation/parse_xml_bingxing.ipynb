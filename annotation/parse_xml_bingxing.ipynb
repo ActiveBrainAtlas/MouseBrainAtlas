{
 "cells": [
  {
   "cell_type": "code",
   "execution_count": 1,
   "metadata": {
    "collapsed": true
   },
   "outputs": [],
   "source": [
    "%load_ext autoreload\n",
    "%autoreload 2"
   ]
  },
  {
   "cell_type": "code",
   "execution_count": 2,
   "metadata": {
    "scrolled": true
   },
   "outputs": [
    {
     "name": "stdout",
     "output_type": "stream",
     "text": [
      "Setting environment for Local Macbook Pro\n"
     ]
    }
   ],
   "source": [
    "import csv\n",
    "from collections import defaultdict\n",
    "import numpy as np\n",
    "import matplotlib.pyplot as plt\n",
    "%matplotlib inline\n",
    "\n",
    "import sys, os\n",
    "sys.path.append(os.path.join(os.environ['REPO_DIR'], 'utilities'))\n",
    "from utilities2015 import *\n",
    "\n",
    "from data_manager import *\n",
    "from metadata import *"
   ]
  },
  {
   "cell_type": "code",
   "execution_count": 3,
   "metadata": {
    "collapsed": true
   },
   "outputs": [],
   "source": [
    "from annotation_utilities import *\n",
    "from registration_utilities import *\n",
    "from conversion import *"
   ]
  },
  {
   "cell_type": "code",
   "execution_count": 4,
   "metadata": {
    "collapsed": true
   },
   "outputs": [],
   "source": [
    "brain_annotation_file_map = \\\n",
    "{\n",
    "'m920LGN': os.path.join(ROOT_DIR, 'LGN3Datlas', 'm920LGN.json'),\n",
    "'m919LGN': os.path.join(ROOT_DIR, 'LGN3Datlas', 'm919LGN.json'),\n",
    "}"
   ]
  },
  {
   "cell_type": "code",
   "execution_count": 5,
   "metadata": {
    "collapsed": true
   },
   "outputs": [],
   "source": [
    "XY_PIXEL_SIZE_UM = 0.46"
   ]
  },
  {
   "cell_type": "code",
   "execution_count": 6,
   "metadata": {
    "collapsed": true
   },
   "outputs": [],
   "source": [
    "import json"
   ]
  },
  {
   "cell_type": "code",
   "execution_count": null,
   "metadata": {
    "scrolled": true
   },
   "outputs": [],
   "source": [
    "# for stack in brain_annotation_file_map.keys():\n",
    "for stack in ['m920LGN', 'm919LGN']:\n",
    "    \n",
    "    print stack\n",
    "\n",
    "    input_file = brain_annotation_file_map[stack]\n",
    "    \n",
    "    with open(input_file, 'r') as f:\n",
    "        data = json.load(f)\n",
    "\n",
    "    contours = defaultdict(list)\n",
    "    for name, cnts in data.iteritems():\n",
    "        for cnt in cnts:\n",
    "            if 'xy' in cnt:\n",
    "                contours[name].append(np.column_stack([np.array(cnt['xy']) * XY_PIXEL_SIZE_UM, cnt['z']*np.ones((len(cnt['xy']),))]))\n",
    "    contours.default_factory = None\n",
    "\n",
    "    contour_colors = dict(zip(contours.keys(), np.array(random_colors(len(contours)))/255.))\n",
    "    \n",
    "    #############################\n",
    "    \n",
    "    plt.figure(figsize=(10, 10));\n",
    "    for name, cnts in contours.iteritems():    \n",
    "        for cnt in cnts:\n",
    "            plt.plot(cnt[:, 0], cnt[:, 1], c=contour_colors[name]);\n",
    "\n",
    "    plt.xlabel('x');\n",
    "    plt.ylabel('y');\n",
    "    plt.axis('equal');\n",
    "    # plt.legend();\n",
    "\n",
    "    ##############################\n",
    "\n",
    "    plt.figure(figsize=(10, 10));\n",
    "    for name, cnts in contours.iteritems():    \n",
    "        for cnt in cnts:\n",
    "            plt.plot(cnt[:, 2], cnt[:, 1], c=contour_colors[name]);\n",
    "\n",
    "    plt.xlabel('x');\n",
    "    plt.ylabel('y');\n",
    "    plt.axis('equal');\n",
    "    # plt.legend();\n",
    "\n",
    "    out_resolution = '10.0um'\n",
    "    out_resolution_um = convert_resolution_string_to_um(resolution=out_resolution)\n",
    "\n",
    "    contours_orientationCorrected = {convert_to_left_name(name_u): [cnt[:, [2,1,0]]*[1,-1,1]\n",
    "                                     for cnt in cnts3d] \n",
    "                           for name_u, cnts3d in contours.iteritems()}\n",
    "#     contours_orientationCorrected = {convert_to_left_name(name_u): [cnt\n",
    "#                                      for cnt in cnts3d] \n",
    "#                            for name_u, cnts3d in contours.iteritems()}\n",
    "\n",
    "    contours_atlasResol = {name: [cnt / out_resolution_um\n",
    "                                    for cnt in cnts3d if len(cnt) > 3] \n",
    "                           for name, cnts3d in contours_orientationCorrected.iteritems()}\n",
    "\n",
    "    \n",
    "    # Convert contours to volumes\n",
    "\n",
    "    valid_level = .5\n",
    "\n",
    "#     surround_distance_um = 200.\n",
    "#     surround_distance_voxel = surround_distance_um / out_resolution_um\n",
    "#     print \"surround size (in voxels):\", surround_distance_voxel\n",
    "\n",
    "    # Reconstruct brain.\n",
    "\n",
    "    reconstructed_brain = {}\n",
    "\n",
    "    for name, cnts3d in contours_atlasResol.iteritems():\n",
    "        reconstructed_brain[name] = interpolate_contours_to_volume(interpolation_direction='x',\n",
    "                                                        contours_xyz=cnts3d, \n",
    "                                                        len_interval=20.,\n",
    "                                                            return_origin_instead_of_bbox=True)\n",
    "\n",
    "#         surround_name = convert_to_surround_name(name, margin='%dum' % surround_distance_um)\n",
    "\n",
    "#         reconstructed_brain[surround_name] = \\\n",
    "#         get_surround_volume_v2(vol=reconstructed_brain[name][0], origin=reconstructed_brain[name][1], \n",
    "#                                wall_level=valid_level, distance=surround_distance_voxel, \n",
    "#                                prob=True,\n",
    "#                                return_origin_instead_of_bbox=True)\n",
    "    \n",
    "    for s, v in reconstructed_brain.iteritems():\n",
    "        vol_fp = DataManager.get_original_volume_filepath_v2(stack_spec=dict(name=stack, \n",
    "                                                                         vol_type='annotationAsScore',\n",
    "                                                                resolution=out_resolution),\n",
    "                                            \n",
    "                                            structure=s)\n",
    "        save_data(v[0], vol_fp, upload_s3=False)\n",
    "        \n",
    "        origin_fp = DataManager.get_original_volume_origin_filepath_v3(stack_spec=dict(name=stack, \n",
    "                                                                         vol_type='annotationAsScore',\n",
    "                                                                        resolution=out_resolution),\n",
    "                                            structure=s)\n",
    "        save_data(v[1], origin_fp, upload_s3=False)"
   ]
  },
  {
   "cell_type": "code",
   "execution_count": 8,
   "metadata": {
    "scrolled": true
   },
   "outputs": [
    {
     "data": {
      "text/plain": [
       "[u'ExMC_L',\n",
       " u'MPul_L',\n",
       " u'LPul_L',\n",
       " u'IPul_L',\n",
       " u'InMC_L',\n",
       " u'ExPC_L',\n",
       " u'IPulCM_L',\n",
       " u'IPulM_L',\n",
       " u'InPC_L',\n",
       " u'IPulP_L',\n",
       " u'DLG_L',\n",
       " u'IPulCL_L',\n",
       " u'APul_L']"
      ]
     },
     "execution_count": 8,
     "metadata": {},
     "output_type": "execute_result"
    }
   ],
   "source": [
    "reconstructed_brain.keys()"
   ]
  },
  {
   "cell_type": "code",
   "execution_count": null,
   "metadata": {
    "collapsed": true
   },
   "outputs": [],
   "source": []
  }
 ],
 "metadata": {
  "kernelspec": {
   "display_name": "Python 2",
   "language": "python",
   "name": "python2"
  },
  "language_info": {
   "codemirror_mode": {
    "name": "ipython",
    "version": 2
   },
   "file_extension": ".py",
   "mimetype": "text/x-python",
   "name": "python",
   "nbconvert_exporter": "python",
   "pygments_lexer": "ipython2",
   "version": "2.7.12"
  }
 },
 "nbformat": 4,
 "nbformat_minor": 1
}
