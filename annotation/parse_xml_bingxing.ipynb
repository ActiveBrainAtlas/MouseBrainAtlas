{
 "cells": [
  {
   "cell_type": "code",
   "execution_count": 1,
   "metadata": {
    "collapsed": true
   },
   "outputs": [],
   "source": [
    "%load_ext autoreload\n",
    "%autoreload 2"
   ]
  },
  {
   "cell_type": "code",
   "execution_count": 2,
   "metadata": {
    "scrolled": true
   },
   "outputs": [
    {
     "name": "stdout",
     "output_type": "stream",
     "text": [
      "Setting environment for Precision WorkStation\n"
     ]
    },
    {
     "name": "stderr",
     "output_type": "stream",
     "text": [
      "No vtk\n"
     ]
    }
   ],
   "source": [
    "import csv\n",
    "from collections import defaultdict\n",
    "import numpy as np\n",
    "import matplotlib.pyplot as plt\n",
    "%matplotlib inline\n",
    "\n",
    "import sys, os\n",
    "sys.path.append(os.path.join(os.environ['REPO_DIR'], 'utilities'))\n",
    "from utilities2015 import *\n",
    "\n",
    "from data_manager import *\n",
    "from metadata import *"
   ]
  },
  {
   "cell_type": "code",
   "execution_count": 3,
   "metadata": {
    "collapsed": true
   },
   "outputs": [],
   "source": [
    "from annotation_utilities import *\n",
    "from registration_utilities import *\n",
    "from conversion import *"
   ]
  },
  {
   "cell_type": "code",
   "execution_count": 26,
   "metadata": {
    "collapsed": true
   },
   "outputs": [],
   "source": [
    "brain_annotation_file_map = \\\n",
    "{\n",
    "'M920': os.path.join(ROOT_DIR, 'LGN3Datlas', 'm920', 'm920LGN.json'),\n",
    "'M919': os.path.join(ROOT_DIR, 'LGN3Datlas', 'm919', 'm919LGN.json'),\n",
    "'M1144': os.path.join(ROOT_DIR, 'LGN3Datlas', 'm1144', 'm1144LGN.json'),\n",
    "}"
   ]
  },
  {
   "cell_type": "code",
   "execution_count": 5,
   "metadata": {
    "collapsed": true
   },
   "outputs": [],
   "source": [
    "XY_PIXEL_SIZE_UM = 0.46"
   ]
  },
  {
   "cell_type": "code",
   "execution_count": 6,
   "metadata": {
    "collapsed": true
   },
   "outputs": [],
   "source": [
    "import json"
   ]
  },
  {
   "cell_type": "code",
   "execution_count": 7,
   "metadata": {
    "collapsed": true
   },
   "outputs": [],
   "source": [
    "tb_resol = 'down64'"
   ]
  },
  {
   "cell_type": "code",
   "execution_count": 8,
   "metadata": {
    "collapsed": true
   },
   "outputs": [],
   "source": [
    "stack = 'M919'"
   ]
  },
  {
   "cell_type": "code",
   "execution_count": 14,
   "metadata": {},
   "outputs": [],
   "source": [
    "transforms_to_anchor_um = DataManager.load_transforms_v2(stack=stack, in_image_resolution=tb_resol, \n",
    "                               out_image_resolution='1.0um',\n",
    "                                                          anchor_fn=DataManager.load_anchor_filename(stack))"
   ]
  },
  {
   "cell_type": "code",
   "execution_count": 41,
   "metadata": {},
   "outputs": [
    {
     "data": {
      "image/png": "[encoded data removed]",
      "text/plain": [
       "<matplotlib.figure.Figure at 0x7fb2358a27d0>"
      ]
     },
     "metadata": {},
     "output_type": "display_data"
    }
   ],
   "source": [
    "plt.figure(figsize=(20,20));\n",
    "plt.imshow(img, plt.cm.gray);"
   ]
  },
  {
   "cell_type": "code",
   "execution_count": 30,
   "metadata": {},
   "outputs": [
    {
     "data": {
      "text/plain": [
       "[{u'z': 0},\n",
       " {u'z': 80},\n",
       " {u'z': 160},\n",
       " {u'z': 240},\n",
       " {u'z': 400},\n",
       " {u'z': 480},\n",
       " {u'z': 560},\n",
       " {u'z': 640},\n",
       " {u'z': 720},\n",
       " {u'z': 800},\n",
       " {u'z': 880},\n",
       " {u'z': 960},\n",
       " {u'xy': [[8676, 8150],\n",
       "   [9021, 8196],\n",
       "   [9385, 8169],\n",
       "   [9668, 8296],\n",
       "   [9997, 8621],\n",
       "   [10032, 9016],\n",
       "   [9964, 9257],\n",
       "   [9881, 9353],\n",
       "   [9580, 9325],\n",
       "   [9261, 9233],\n",
       "   [9050, 9118],\n",
       "   [8855, 8848],\n",
       "   [8722, 8723],\n",
       "   [8614, 8663],\n",
       "   [8669, 8328]],\n",
       "  u'z': 1040},\n",
       " {u'xy': [[8595, 8323],\n",
       "   [8979, 8224],\n",
       "   [9471, 8149],\n",
       "   [9830, 8149],\n",
       "   [10014, 8167],\n",
       "   [10167, 8330],\n",
       "   [10284, 8458],\n",
       "   [10324, 8586],\n",
       "   [10325, 8749],\n",
       "   [10206, 8878],\n",
       "   [10000, 8973],\n",
       "   [9774, 9001],\n",
       "   [9485, 8977],\n",
       "   [9237, 8959],\n",
       "   [8906, 8955],\n",
       "   [8686, 8930],\n",
       "   [8585, 8929],\n",
       "   [8638, 8768],\n",
       "   [8615, 8610],\n",
       "   [8596, 8447]],\n",
       "  u'z': 1120},\n",
       " {u'xy': [[9240, 7667],\n",
       "   [9380, 7767],\n",
       "   [9497, 7850],\n",
       "   [9705, 8014],\n",
       "   [9856, 8123],\n",
       "   [10005, 8215],\n",
       "   [10241, 8357],\n",
       "   [10396, 8500],\n",
       "   [10479, 8590],\n",
       "   [10503, 8713],\n",
       "   [10445, 8874],\n",
       "   [10312, 9046],\n",
       "   [10196, 9172],\n",
       "   [10045, 9229],\n",
       "   [9727, 9220],\n",
       "   [9546, 9172],\n",
       "   [9443, 9153],\n",
       "   [9413, 9051],\n",
       "   [9433, 8922],\n",
       "   [9435, 8787],\n",
       "   [9428, 8613],\n",
       "   [9406, 8287],\n",
       "   [9374, 8166],\n",
       "   [9320, 7953],\n",
       "   [9251, 7749]],\n",
       "  u'z': 1200},\n",
       " {u'xy': [[9457, 7855],\n",
       "   [9798, 7997],\n",
       "   [10147, 8176],\n",
       "   [10434, 8409],\n",
       "   [10543, 8527],\n",
       "   [10524, 8666],\n",
       "   [10363, 8745],\n",
       "   [10137, 8831],\n",
       "   [9838, 8954],\n",
       "   [9643, 9038],\n",
       "   [9383, 9105],\n",
       "   [9242, 9153],\n",
       "   [9324, 9055],\n",
       "   [9418, 8910],\n",
       "   [9453, 8775],\n",
       "   [9497, 8578],\n",
       "   [9518, 8395],\n",
       "   [9515, 8246],\n",
       "   [9518, 8096],\n",
       "   [9515, 7957]],\n",
       "  u'z': 1280},\n",
       " {u'z': 1360},\n",
       " {u'xy': [[9130, 8426],\n",
       "   [9300, 8435],\n",
       "   [9574, 8490],\n",
       "   [9716, 8578],\n",
       "   [9795, 8687],\n",
       "   [9773, 8834],\n",
       "   [9650, 8958],\n",
       "   [9482, 8997],\n",
       "   [9168, 9086],\n",
       "   [8956, 9182],\n",
       "   [8793, 9232],\n",
       "   [8714, 9289],\n",
       "   [8606, 9329],\n",
       "   [8728, 9079],\n",
       "   [8786, 8944],\n",
       "   [8836, 8837],\n",
       "   [8903, 8708],\n",
       "   [9016, 8564]],\n",
       "  u'z': 1440},\n",
       " {u'xy': [[8675, 8911],\n",
       "   [8968, 8872],\n",
       "   [9229, 8827],\n",
       "   [9450, 8776],\n",
       "   [9662, 8740],\n",
       "   [9867, 8743],\n",
       "   [10045, 8832],\n",
       "   [10200, 8840],\n",
       "   [10343, 8969],\n",
       "   [10342, 9206],\n",
       "   [10334, 9373],\n",
       "   [10366, 9766],\n",
       "   [10387, 9886],\n",
       "   [10375, 9969],\n",
       "   [10364, 10050],\n",
       "   [10291, 10060],\n",
       "   [10165, 10022],\n",
       "   [10039, 9978],\n",
       "   [9905, 9910],\n",
       "   [9686, 9859],\n",
       "   [9496, 9822],\n",
       "   [9267, 9791],\n",
       "   [9119, 9780],\n",
       "   [8961, 9740],\n",
       "   [8816, 9715],\n",
       "   [8724, 9706],\n",
       "   [8665, 9698],\n",
       "   [8665, 9583],\n",
       "   [8670, 9356],\n",
       "   [8665, 9119],\n",
       "   [8660, 9002]],\n",
       "  u'z': 1520},\n",
       " {u'z': 1600},\n",
       " {u'z': 1680},\n",
       " {u'z': 1760},\n",
       " {u'z': 1840},\n",
       " {u'z': 1920},\n",
       " {u'z': 2000},\n",
       " {u'z': 2080},\n",
       " {u'z': 2160},\n",
       " {u'z': 2240},\n",
       " {u'z': 2320},\n",
       " {u'z': 2400},\n",
       " {u'z': 2480},\n",
       " {u'z': 2560},\n",
       " {u'z': 2640},\n",
       " {u'z': 2720},\n",
       " {u'z': 2800},\n",
       " {u'z': 2880},\n",
       " {u'z': 2960},\n",
       " {u'z': 3040},\n",
       " {u'z': 3120},\n",
       " {u'z': 3200},\n",
       " {u'z': 3280},\n",
       " {u'z': 3360},\n",
       " {u'z': 3440},\n",
       " {u'z': 3520},\n",
       " {u'z': 3600},\n",
       " {u'z': 3680},\n",
       " {u'z': 3760},\n",
       " {u'z': 3840},\n",
       " {u'z': 3920},\n",
       " {u'z': 4000},\n",
       " {u'z': 4080},\n",
       " {u'z': 4160},\n",
       " {u'z': 4240},\n",
       " {u'z': 4320}]"
      ]
     },
     "execution_count": 30,
     "metadata": {},
     "output_type": "execute_result"
    }
   ],
   "source": [
    "data['APul']"
   ]
  },
  {
   "cell_type": "code",
   "execution_count": 31,
   "metadata": {},
   "outputs": [
    {
     "data": {
      "text/plain": [
       "17"
      ]
     },
     "execution_count": 31,
     "metadata": {},
     "output_type": "execute_result"
    }
   ],
   "source": [
    "1040/60"
   ]
  },
  {
   "cell_type": "code",
   "execution_count": null,
   "metadata": {
    "collapsed": true,
    "scrolled": true
   },
   "outputs": [],
   "source": [
    "# for stack in brain_annotation_file_map.keys():\n",
    "# for stack in ['m920LGN', 'm919LGN', 'm1144LGN']:\n",
    "for stack in ['M919']:\n",
    "    \n",
    "    print stack\n",
    "\n",
    "    input_file = brain_annotation_file_map[stack]\n",
    "    \n",
    "    with open(input_file, 'r') as f:\n",
    "        data = json.load(f)\n",
    "\n",
    "    contours_um = defaultdict(list)\n",
    "    for name, cnts in data.iteritems():\n",
    "        for cnt in cnts:\n",
    "            if 'xy' in cnt:\n",
    "                \n",
    "                cnt['z'] / 60.\n",
    "                \n",
    "                contours_um[name].append(np.column_stack([np.array(cnt['xy']) * XY_PIXEL_SIZE_UM, \n",
    "                                                       cnt['z']*np.ones((len(cnt['xy']),))]))\n",
    "    \n",
    "                \n",
    "    \n",
    "                transform_points(pts=contours_um, transform=transforms_to_anchor_um[])\n",
    "    \n",
    "    contours_um.default_factory = None\n",
    "    \n",
    "\n",
    "    contour_colors = dict(zip(contours_um.keys(), np.array(random_colors(len(contours_um)))/255.))\n",
    "    \n",
    "    #############################\n",
    "    \n",
    "    plt.figure(figsize=(10, 10));\n",
    "    for name, cnts in contours_um.iteritems():    \n",
    "        for cnt in cnts:\n",
    "            plt.plot(cnt[:, 0], cnt[:, 1], c=contour_colors[name]);\n",
    "\n",
    "    plt.xlabel('x');\n",
    "    plt.ylabel('y');\n",
    "    plt.axis('equal');\n",
    "    # plt.legend();\n",
    "\n",
    "    ##############################\n",
    "\n",
    "    plt.figure(figsize=(10, 10));\n",
    "    for name, cnts in contours_um.iteritems():    \n",
    "        for cnt in cnts:\n",
    "            plt.plot(cnt[:, 2], cnt[:, 1], c=contour_colors[name]);\n",
    "\n",
    "    plt.xlabel('x');\n",
    "    plt.ylabel('y');\n",
    "    plt.axis('equal');\n",
    "    # plt.legend();\n",
    "\n",
    "    out_resolution = '10.0um'\n",
    "    out_resolution_um = convert_resolution_string_to_um(resolution=out_resolution)\n",
    "\n",
    "    contours_orientationCorrected = {convert_to_left_name(name_u): [cnt[:, [2,1,0]]*[1,-1,1]\n",
    "                                     for cnt in cnts3d] \n",
    "                           for name_u, cnts3d in contours_um.iteritems()}\n",
    "#     contours_orientationCorrected = {convert_to_left_name(name_u): [cnt\n",
    "#                                      for cnt in cnts3d] \n",
    "#                            for name_u, cnts3d in contours.iteritems()}\n",
    "\n",
    "    contours_atlasResol = {name: [cnt / out_resolution_um\n",
    "                                    for cnt in cnts3d if len(cnt) > 3] \n",
    "                           for name, cnts3d in contours_orientationCorrected.iteritems()}\n",
    "\n",
    "    \n",
    "    # Convert contours to volumes\n",
    "\n",
    "    valid_level = .5\n",
    "\n",
    "#     surround_distance_um = 200.\n",
    "#     surround_distance_voxel = surround_distance_um / out_resolution_um\n",
    "#     print \"surround size (in voxels):\", surround_distance_voxel\n",
    "\n",
    "    # Reconstruct brain.\n",
    "\n",
    "    reconstructed_brain = {}\n",
    "\n",
    "    for name, cnts3d in contours_atlasResol.iteritems():\n",
    "        reconstructed_brain[name] = interpolate_contours_to_volume(interpolation_direction='x',\n",
    "                                                        contours_xyz=cnts3d, \n",
    "                                                        len_interval=20.,\n",
    "                                                            return_origin_instead_of_bbox=True)\n",
    "\n",
    "#         surround_name = convert_to_surround_name(name, margin='%dum' % surround_distance_um)\n",
    "\n",
    "#         reconstructed_brain[surround_name] = \\\n",
    "#         get_surround_volume_v2(vol=reconstructed_brain[name][0], origin=reconstructed_brain[name][1], \n",
    "#                                wall_level=valid_level, distance=surround_distance_voxel, \n",
    "#                                prob=True,\n",
    "#                                return_origin_instead_of_bbox=True)\n",
    "    \n",
    "    for s, v in reconstructed_brain.iteritems():\n",
    "        vol_fp = DataManager.get_original_volume_filepath_v2(stack_spec=dict(name=stack, \n",
    "                                                                         vol_type='annotationAsScore',\n",
    "                                                                resolution=out_resolution),\n",
    "                                            \n",
    "                                            structure=s)\n",
    "        save_data(v[0], vol_fp, upload_s3=False)\n",
    "        \n",
    "        origin_fp = DataManager.get_original_volume_origin_filepath_v3(stack_spec=dict(name=stack, \n",
    "                                                                         vol_type='annotationAsScore',\n",
    "                                                                        resolution=out_resolution),\n",
    "                                            structure=s)\n",
    "        save_data(v[1], origin_fp, upload_s3=False)"
   ]
  },
  {
   "cell_type": "code",
   "execution_count": 8,
   "metadata": {
    "scrolled": true
   },
   "outputs": [
    {
     "data": {
      "text/plain": [
       "[u'ExMC_L',\n",
       " u'MPul_L',\n",
       " u'LPul_L',\n",
       " u'IPul_L',\n",
       " u'InMC_L',\n",
       " u'ExPC_L',\n",
       " u'IPulCM_L',\n",
       " u'IPulM_L',\n",
       " u'InPC_L',\n",
       " u'IPulP_L',\n",
       " u'DLG_L',\n",
       " u'IPulCL_L',\n",
       " u'APul_L']"
      ]
     },
     "execution_count": 8,
     "metadata": {},
     "output_type": "execute_result"
    }
   ],
   "source": [
    "reconstructed_brain.keys()"
   ]
  },
  {
   "cell_type": "code",
   "execution_count": null,
   "metadata": {
    "collapsed": true
   },
   "outputs": [],
   "source": []
  }
 ],
 "metadata": {
  "kernelspec": {
   "display_name": "Python 2",
   "language": "python",
   "name": "python2"
  },
  "language_info": {
   "codemirror_mode": {
    "name": "ipython",
    "version": 2
   },
   "file_extension": ".py",
   "mimetype": "text/x-python",
   "name": "python",
   "nbconvert_exporter": "python",
   "pygments_lexer": "ipython2",
   "version": "2.7.12"
  }
 },
 "nbformat": 4,
 "nbformat_minor": 1
}
