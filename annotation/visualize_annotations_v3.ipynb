{
 "cells": [
  {
   "cell_type": "code",
   "execution_count": 23,
   "metadata": {
    "collapsed": false
   },
   "outputs": [],
   "source": [
    "# Also see the executable and distributed versions in the same folder.\n",
    "\n",
    "%reload_ext autoreload\n",
    "%autoreload 2\n",
    "\n",
    "import os\n",
    "import sys\n",
    "sys.path.append(os.path.join(os.environ['REPO_DIR'], 'utilities'))\n",
    "from visualization_utilities import *\n",
    "from metadata import *\n",
    "from utilities2015 import *"
   ]
  },
  {
   "cell_type": "code",
   "execution_count": 24,
   "metadata": {
    "collapsed": true
   },
   "outputs": [],
   "source": [
    "viz_dir = create_if_not_exists(annotation_midbrainIncluded_v2_rootdir + '/viz')"
   ]
  },
  {
   "cell_type": "code",
   "execution_count": 26,
   "metadata": {
    "collapsed": false,
    "scrolled": true
   },
   "outputs": [],
   "source": [
    "# for stack in all_stacks:\n",
    "for stack in ['MD589']:\n",
    "#     first_sec, last_sec = section_range_lookup[stack]\n",
    "#     first_sec = 150\n",
    "#     last_sec = 160\n",
    "\n",
    "    bar = show_progress_bar(first_sec, last_sec)\n",
    "    for sec in range(first_sec, last_sec+1):\n",
    "        bar.value = sec\n",
    "        _ = annotation_v2_overlay_on(bg='original', stack=stack, section=sec, users=['yuncong'], downscale_factor=8,\n",
    "                                    annotation_rootdir=annotation_midbrainIncluded_v2_rootdir,\n",
    "                                    export_filepath_fmt=os.path.join(viz_dir, stack, '%(stack)s_%(sec)04d_%(annofn)s.jpg'))"
   ]
  },
  {
   "cell_type": "code",
   "execution_count": null,
   "metadata": {
    "collapsed": false
   },
   "outputs": [],
   "source": [
    "display_image(viz)"
   ]
  }
 ],
 "metadata": {
  "kernelspec": {
   "display_name": "Python 2",
   "language": "python",
   "name": "python2"
  },
  "language_info": {
   "codemirror_mode": {
    "name": "ipython",
    "version": 2
   },
   "file_extension": ".py",
   "mimetype": "text/x-python",
   "name": "python",
   "nbconvert_exporter": "python",
   "pygments_lexer": "ipython2",
   "version": "2.7.3"
  }
 },
 "nbformat": 4,
 "nbformat_minor": 0
}
