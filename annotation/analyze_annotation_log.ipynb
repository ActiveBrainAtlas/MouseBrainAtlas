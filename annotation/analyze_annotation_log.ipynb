{
 "cells": [
  {
   "cell_type": "code",
   "execution_count": 39,
   "metadata": {
    "collapsed": true
   },
   "outputs": [],
   "source": [
    "import numpy as np\n",
    "\n",
    "import sys\n",
    "import os\n",
    "sys.path.append(os.path.join(os.environ['REPO_DIR'], 'utilities'))\n",
    "from utilities2015 import *\n",
    "\n",
    "import cPickle as pickle\n",
    "\n",
    "%matplotlib inline"
   ]
  },
  {
   "cell_type": "code",
   "execution_count": 40,
   "metadata": {},
   "outputs": [],
   "source": [
    "log = pickle.load(open('/home/yuncong/CSHL_labelingHistory/MD593_03192016143449.pkl', 'r'))"
   ]
  },
  {
   "cell_type": "code",
   "execution_count": 49,
   "metadata": {},
   "outputs": [
    {
     "name": "stdout",
     "output_type": "stream",
     "text": [
      "145\n",
      "add_polygon_by_vertices_label_begin \n",
      "add_polygon \n",
      "set_label LRt\n",
      "add_polygon_by_vertices_label_end \n",
      "add_polygon_by_vertices_label_begin \n",
      "add_polygon \n",
      "set_label Amb\n",
      "add_polygon_by_vertices_label_end \n",
      "add_polygon_by_vertices_label_begin \n",
      "add_polygon \n",
      "set_label sp5\n",
      "add_polygon_by_vertices_label_end \n",
      "add_polygon_by_vertices_label_begin \n",
      "add_polygon \n",
      "set_label 7n\n",
      "add_polygon_by_vertices_label_end \n",
      "add_polygon_by_vertices_label_begin \n",
      "add_polygon \n",
      "set_label VLL\n",
      "add_polygon_by_vertices_label_end \n",
      "add_polygon_by_vertices_label_begin \n",
      "add_polygon \n",
      "set_label LVe\n",
      "add_polygon_by_vertices_label_end \n",
      "add_polygon_by_vertices_label_begin \n",
      "add_polygon \n",
      "set_label 5N\n",
      "add_polygon_by_vertices_label_end \n",
      "add_polygon_by_vertices_label_begin \n",
      "add_polygon \n",
      "set_label 7N\n",
      "add_polygon_by_vertices_label_end \n",
      "drag_vertex 5N\n",
      "drag_vertex 5N\n",
      "drag_vertex 5N\n",
      "drag_vertex 5N\n",
      "drag_vertex 5N\n",
      "drag_vertex 5N\n",
      "drag_vertex 5N\n",
      "drag_vertex 7n\n",
      "drag_vertex 7n\n",
      "drag_vertex 7n\n",
      "drag_vertex 7n\n",
      "add_vertex_to_polygon 7n\n",
      "add_vertex_to_polygon 7n\n",
      "add_vertex_to_polygon 7n\n",
      "add_vertex_to_polygon 7n\n",
      "add_vertex_to_polygon 7n\n",
      "add_vertex_to_polygon 7n\n",
      "add_vertex_to_polygon 7n\n",
      "add_vertex_to_polygon 7n\n",
      "drag_vertex 7n\n",
      "drag_vertex 7n\n",
      "drag_vertex 7n\n",
      "add_vertex_to_polygon 7n\n",
      "drag_vertex 7n\n",
      "\n",
      "\n",
      "146\n",
      "add_polygon_by_vertices_label_begin \n",
      "add_polygon \n",
      "set_label LVe\n",
      "add_polygon_by_vertices_label_end \n",
      "add_polygon_by_vertices_label_begin \n",
      "add_polygon \n",
      "set_label sp5\n",
      "add_polygon_by_vertices_label_end \n",
      "add_polygon_by_vertices_label_begin \n",
      "add_polygon \n",
      "set_label VLL\n",
      "add_polygon_by_vertices_label_end \n",
      "add_polygon_by_vertices_label_begin \n",
      "add_polygon \n",
      "set_label 7N\n",
      "add_polygon_by_vertices_label_end \n",
      "add_polygon_by_vertices_label_begin \n",
      "add_polygon \n",
      "set_label LRt\n",
      "add_polygon_by_vertices_label_end \n",
      "add_polygon_by_vertices_label_begin \n",
      "add_polygon \n",
      "set_label 7n\n",
      "add_polygon_by_vertices_label_end \n",
      "add_polygon_by_vertices_label_begin \n",
      "add_polygon \n",
      "set_label Amb\n",
      "add_polygon_by_vertices_label_end \n",
      "add_polygon_by_vertices_label_begin \n",
      "add_polygon \n",
      "set_label 5N\n",
      "add_polygon_by_vertices_label_end \n",
      "drag_vertex 7n\n",
      "drag_vertex 7n\n",
      "add_vertex_to_polygon 7n\n",
      "add_vertex_to_polygon 7n\n",
      "add_vertex_to_polygon 7n\n",
      "add_vertex_to_polygon 7n\n",
      "add_vertex_to_polygon 7n\n",
      "add_vertex_to_polygon 7n\n",
      "add_vertex_to_polygon 7n\n",
      "add_vertex_to_polygon 7n\n",
      "add_vertex_to_polygon 7n\n",
      "add_vertex_to_polygon 7n\n",
      "add_vertex_to_polygon 7n\n",
      "add_vertex_to_polygon 7n\n",
      "drag_vertex 7n\n",
      "drag_vertex 7n\n",
      "drag_vertex 7n\n",
      "drag_vertex 7n\n",
      "drag_vertex 7n\n",
      "drag_vertex 7n\n",
      "drag_vertex 7n\n",
      "drag_vertex 7n\n",
      "add_vertex_to_polygon 7n\n",
      "drag_vertex 7n\n",
      "drag_vertex 7n\n",
      "drag_vertex 7n\n",
      "drag_vertex 7n\n",
      "drag_vertex 7n\n",
      "drag_vertex 7n\n",
      "drag_vertex 7n\n",
      "\n",
      "\n",
      "147\n",
      "add_polygon_by_vertices_label_begin \n",
      "add_polygon \n",
      "set_label VLL\n",
      "add_polygon_by_vertices_label_end \n",
      "add_polygon_by_vertices_label_begin \n",
      "add_polygon \n",
      "set_label sp5\n",
      "add_polygon_by_vertices_label_end \n",
      "add_polygon_by_vertices_label_begin \n",
      "add_polygon \n",
      "set_label 5N\n",
      "add_polygon_by_vertices_label_end \n",
      "add_polygon_by_vertices_label_begin \n",
      "add_polygon \n",
      "set_label LVe\n",
      "add_polygon_by_vertices_label_end \n",
      "add_polygon_by_vertices_label_begin \n",
      "add_polygon \n",
      "set_label 7n\n",
      "add_polygon_by_vertices_label_end \n",
      "add_polygon_by_vertices_label_begin \n",
      "add_polygon \n",
      "set_label Amb\n",
      "add_polygon_by_vertices_label_end \n",
      "add_polygon_by_vertices_label_begin \n",
      "add_polygon \n",
      "set_label 7N\n",
      "add_polygon_by_vertices_label_end \n",
      "add_polygon_by_vertices_label_begin \n",
      "add_polygon \n",
      "set_label LRt\n",
      "add_polygon_by_vertices_label_end \n",
      "drag_vertex 7n\n",
      "drag_vertex 7n\n",
      "drag_vertex 7n\n",
      "drag_vertex 7n\n",
      "drag_vertex 7n\n",
      "drag_vertex 7n\n",
      "drag_vertex 7n\n",
      "add_vertex_to_polygon 7n\n",
      "add_vertex_to_polygon 7n\n",
      "add_vertex_to_polygon 7n\n",
      "add_vertex_to_polygon 7n\n",
      "add_vertex_to_polygon 7n\n",
      "add_vertex_to_polygon 7n\n",
      "add_vertex_to_polygon 7n\n",
      "add_vertex_to_polygon 7n\n",
      "add_vertex_to_polygon 7n\n",
      "drag_vertex 7n\n",
      "drag_vertex 7n\n",
      "drag_vertex 7n\n",
      "drag_vertex 7n\n",
      "drag_vertex 7n\n",
      "drag_vertex 7n\n",
      "drag_vertex 7n\n",
      "drag_vertex 7n\n",
      "drag_vertex 7n\n",
      "drag_vertex 7n\n",
      "drag_vertex 7n\n",
      "\n",
      "\n"
     ]
    }
   ],
   "source": [
    "drag_polygon_distance = []\n",
    "drag_vertex_distance = []\n",
    "\n",
    "for sec, log_items in log.iteritems():\n",
    "    print sec\n",
    "    for item in log_items:\n",
    "        print item['type'], item['label'] if 'label' in item else ''\n",
    "        if 'mouse_moved' in item:\n",
    "            dist = np.sqrt(item['mouse_moved'][0]**2 + item['mouse_moved'][1]**2)        \n",
    "            if item['type'] == 'drag_polygon':\n",
    "                drag_polygon_distance.append(dist)\n",
    "            elif item['type'] == 'drag_vertex':\n",
    "                drag_vertex_distance.append(dist)\n",
    "    print '\\n'"
   ]
  },
  {
   "cell_type": "code",
   "execution_count": 50,
   "metadata": {},
   "outputs": [
    {
     "name": "stdout",
     "output_type": "stream",
     "text": [
      "nan\n"
     ]
    },
    {
     "name": "stderr",
     "output_type": "stream",
     "text": [
      "/usr/local/lib/python2.7/dist-packages/numpy/core/_methods.py:59: RuntimeWarning: Mean of empty slice.\n",
      "  warnings.warn(\"Mean of empty slice.\", RuntimeWarning)\n",
      "/usr/local/lib/python2.7/dist-packages/numpy/core/_methods.py:70: RuntimeWarning: invalid value encountered in double_scalars\n",
      "  ret = ret.dtype.type(ret / rcount)\n"
     ]
    },
    {
     "data": {
      "image/png": "[encoded data removed]",
      "text/plain": [
       "<matplotlib.figure.Figure at 0x7f1f965a3b90>"
      ]
     },
     "metadata": {},
     "output_type": "display_data"
    }
   ],
   "source": [
    "plt.hist(drag_polygon_distance, bins=100);\n",
    "print np.median(drag_polygon_distance)"
   ]
  },
  {
   "cell_type": "code",
   "execution_count": 42,
   "metadata": {},
   "outputs": [
    {
     "name": "stdout",
     "output_type": "stream",
     "text": [
      "45.0785774105\n"
     ]
    },
    {
     "data": {
      "image/png": "[encoded data removed]",
      "text/plain": [
       "<matplotlib.figure.Figure at 0x7f1f52f20490>"
      ]
     },
     "metadata": {},
     "output_type": "display_data"
    }
   ],
   "source": [
    "plt.hist(drag_vertex_distance, bins=100);\n",
    "print np.median(drag_vertex_distance)"
   ]
  },
  {
   "cell_type": "code",
   "execution_count": null,
   "metadata": {
    "collapsed": true
   },
   "outputs": [],
   "source": []
  }
 ],
 "metadata": {
  "kernelspec": {
   "display_name": "Python 2",
   "language": "python",
   "name": "python2"
  },
  "language_info": {
   "codemirror_mode": {
    "name": "ipython",
    "version": 2
   },
   "file_extension": ".py",
   "mimetype": "text/x-python",
   "name": "python",
   "nbconvert_exporter": "python",
   "pygments_lexer": "ipython2",
   "version": "2.7.12"
  }
 },
 "nbformat": 4,
 "nbformat_minor": 1
}
