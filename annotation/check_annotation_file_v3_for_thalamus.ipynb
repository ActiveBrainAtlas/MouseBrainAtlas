{
 "cells": [
  {
   "cell_type": "code",
   "execution_count": 1,
   "metadata": {},
   "outputs": [
    {
     "name": "stdout",
     "output_type": "stream",
     "text": [
      "Setting environment for Precision WorkStation\n"
     ]
    },
    {
     "name": "stderr",
     "output_type": "stream",
     "text": [
      "No vtk\n",
      "No vtkNot using image_cache.\n",
      "Not using image_cache.\n",
      "Not using image_cache.\n",
      "Not using image_cache.\n",
      "Not using image_cache.\n",
      "Not using image_cache.\n",
      "Not using image_cache.\n",
      "Not using image_cache.\n",
      "Not using image_cache.\n",
      "Not using image_cache.\n",
      "Not using image_cache.\n",
      "Not using image_cache.\n",
      "Not using image_cache.\n",
      "Not using image_cache.\n",
      "Not using image_cache.\n",
      "Not using image_cache.\n",
      "Not using image_cache.\n",
      "Not using image_cache.\n",
      "Not using image_cache.\n",
      "Not using image_cache.\n",
      "Not using image_cache.\n"
     ]
    }
   ],
   "source": [
    "%reload_ext autoreload\n",
    "%autoreload 2\n",
    "\n",
    "import os\n",
    "import sys\n",
    "sys.path.append(os.path.join(os.environ['REPO_DIR'], 'utilities'))\n",
    "from metadata import *\n",
    "from data_manager import *\n",
    "from utilities2015 import *"
   ]
  },
  {
   "cell_type": "code",
   "execution_count": 2,
   "metadata": {
    "collapsed": true
   },
   "outputs": [],
   "source": [
    "from pandas import *"
   ]
  },
  {
   "cell_type": "code",
   "execution_count": 3,
   "metadata": {},
   "outputs": [
    {
     "name": "stdout",
     "output_type": "stream",
     "text": [
      "aws s3 cp --recursive \"s3://mousebrainatlas-data/CSHL_labelings_thalamus/MD585\" \"/home/yuncong/CSHL_labelings_thalamus/MD585\" --exclude \"*\" --include \"*structures*\"\n",
      "latest timestamp:  01312018191940\n"
     ]
    }
   ],
   "source": [
    "# structures_df = DataManager.load_annotation_thalamus_v4(stack='MD585', by_human=True, \n",
    "# timestamp='latest', suffix='structures')"
   ]
  },
  {
   "cell_type": "code",
   "execution_count": 4,
   "metadata": {},
   "outputs": [
    {
     "name": "stdout",
     "output_type": "stream",
     "text": [
      "aws s3 cp --recursive \"s3://mousebrainatlas-data/CSHL_labelings_thalamus/MD585\" \"/home/yuncong/CSHL_labelings_thalamus/MD585\" --exclude \"*\" --include \"*contours*\"\n",
      "latest timestamp:  02022018192240\n"
     ]
    }
   ],
   "source": [
    "contours_df = DataManager.load_annotation_thalamus_v4(stack='MD585', by_human=True, \n",
    "timestamp='latest', suffix='contours')"
   ]
  },
  {
   "cell_type": "code",
   "execution_count": 5,
   "metadata": {
    "scrolled": true
   },
   "outputs": [
    {
     "data": {
      "text/html": [
       "<div>\n",
       "<table border=\"1\" class=\"dataframe\">\n",
       "  <thead>\n",
       "    <tr style=\"text-align: right;\">\n",
       "      <th></th>\n",
       "      <th>class</th>\n",
       "      <th>creator</th>\n",
       "      <th>edits</th>\n",
       "      <th>filename</th>\n",
       "      <th>id</th>\n",
       "      <th>label_position</th>\n",
       "      <th>name</th>\n",
       "      <th>orientation</th>\n",
       "      <th>parent_structure</th>\n",
       "      <th>resolution</th>\n",
       "      <th>section</th>\n",
       "      <th>side</th>\n",
       "      <th>side_manually_assigned</th>\n",
       "      <th>time_created</th>\n",
       "      <th>type</th>\n",
       "      <th>vertices</th>\n",
       "    </tr>\n",
       "  </thead>\n",
       "  <tbody>\n",
       "    <tr>\n",
       "      <th>166177138949222</th>\n",
       "      <td>contour</td>\n",
       "      <td>anon</td>\n",
       "      <td>[{u'username': u'anon', u'timestamp': u'020220...</td>\n",
       "      <td>MD585-N19-2015.07.16-20.43.18_MD585_3_0057</td>\n",
       "      <td>166177138949222</td>\n",
       "      <td>[10810.7936539, 10968.8130832]</td>\n",
       "      <td>7n1</td>\n",
       "      <td>sagittal</td>\n",
       "      <td>[]</td>\n",
       "      <td>raw</td>\n",
       "      <td>101</td>\n",
       "      <td>L</td>\n",
       "      <td>False</td>\n",
       "      <td>02022018192235</td>\n",
       "      <td>derived_from_atlas</td>\n",
       "      <td>[[10823.3580058, 11401.2255677], [10649.647086...</td>\n",
       "    </tr>\n",
       "    <tr>\n",
       "      <th>206807817890841</th>\n",
       "      <td>contour</td>\n",
       "      <td>anon</td>\n",
       "      <td>[{u'username': u'anon', u'timestamp': u'020220...</td>\n",
       "      <td>MD585-IHC19-2015.07.16-15.39.52_MD585_3_0057</td>\n",
       "      <td>206807817890841</td>\n",
       "      <td>[11266.1063999, 10908.6069112]</td>\n",
       "      <td>7n1</td>\n",
       "      <td>sagittal</td>\n",
       "      <td>[]</td>\n",
       "      <td>raw</td>\n",
       "      <td>102</td>\n",
       "      <td>L</td>\n",
       "      <td>False</td>\n",
       "      <td>02022018192235</td>\n",
       "      <td>derived_from_atlas</td>\n",
       "      <td>[[11283.1563243, 11342.403523], [11110.5285401...</td>\n",
       "    </tr>\n",
       "    <tr>\n",
       "      <th>247232905413468</th>\n",
       "      <td>contour</td>\n",
       "      <td>anon</td>\n",
       "      <td>[{u'username': u'anon', u'timestamp': u'020220...</td>\n",
       "      <td>MD585-IHC19-2015.07.16-15.39.52_MD585_2_0056</td>\n",
       "      <td>247232905413468</td>\n",
       "      <td>[10798.2865361, 10767.7940539]</td>\n",
       "      <td>7n1</td>\n",
       "      <td>sagittal</td>\n",
       "      <td>[]</td>\n",
       "      <td>raw</td>\n",
       "      <td>100</td>\n",
       "      <td>L</td>\n",
       "      <td>False</td>\n",
       "      <td>02022018192235</td>\n",
       "      <td>derived_from_atlas</td>\n",
       "      <td>[[10644.8179824, 11165.7671515], [10472.394749...</td>\n",
       "    </tr>\n",
       "    <tr>\n",
       "      <th>275348001813209</th>\n",
       "      <td>contour</td>\n",
       "      <td>anon</td>\n",
       "      <td>[{u'username': u'anon', u'timestamp': u'020220...</td>\n",
       "      <td>MD585-N19-2015.07.16-20.43.18_MD585_2_0056</td>\n",
       "      <td>275348001813209</td>\n",
       "      <td>[10966.6525596, 10687.8443495]</td>\n",
       "      <td>7n1</td>\n",
       "      <td>sagittal</td>\n",
       "      <td>[]</td>\n",
       "      <td>raw</td>\n",
       "      <td>99</td>\n",
       "      <td>L</td>\n",
       "      <td>False</td>\n",
       "      <td>02022018192235</td>\n",
       "      <td>derived_from_atlas</td>\n",
       "      <td>[[10939.5289842, 11081.2021424], [10765.637898...</td>\n",
       "    </tr>\n",
       "  </tbody>\n",
       "</table>\n",
       "</div>"
      ],
      "text/plain": [
       "                   class creator  \\\n",
       "166177138949222  contour    anon   \n",
       "206807817890841  contour    anon   \n",
       "247232905413468  contour    anon   \n",
       "275348001813209  contour    anon   \n",
       "\n",
       "                                                             edits  \\\n",
       "166177138949222  [{u'username': u'anon', u'timestamp': u'020220...   \n",
       "206807817890841  [{u'username': u'anon', u'timestamp': u'020220...   \n",
       "247232905413468  [{u'username': u'anon', u'timestamp': u'020220...   \n",
       "275348001813209  [{u'username': u'anon', u'timestamp': u'020220...   \n",
       "\n",
       "                                                     filename  \\\n",
       "166177138949222    MD585-N19-2015.07.16-20.43.18_MD585_3_0057   \n",
       "206807817890841  MD585-IHC19-2015.07.16-15.39.52_MD585_3_0057   \n",
       "247232905413468  MD585-IHC19-2015.07.16-15.39.52_MD585_2_0056   \n",
       "275348001813209    MD585-N19-2015.07.16-20.43.18_MD585_2_0056   \n",
       "\n",
       "                              id                  label_position name  \\\n",
       "166177138949222  166177138949222  [10810.7936539, 10968.8130832]  7n1   \n",
       "206807817890841  206807817890841  [11266.1063999, 10908.6069112]  7n1   \n",
       "247232905413468  247232905413468  [10798.2865361, 10767.7940539]  7n1   \n",
       "275348001813209  275348001813209  [10966.6525596, 10687.8443495]  7n1   \n",
       "\n",
       "                orientation parent_structure resolution section side  \\\n",
       "166177138949222    sagittal               []        raw     101    L   \n",
       "206807817890841    sagittal               []        raw     102    L   \n",
       "247232905413468    sagittal               []        raw     100    L   \n",
       "275348001813209    sagittal               []        raw      99    L   \n",
       "\n",
       "                side_manually_assigned    time_created                type  \\\n",
       "166177138949222                  False  02022018192235  derived_from_atlas   \n",
       "206807817890841                  False  02022018192235  derived_from_atlas   \n",
       "247232905413468                  False  02022018192235  derived_from_atlas   \n",
       "275348001813209                  False  02022018192235  derived_from_atlas   \n",
       "\n",
       "                                                          vertices  \n",
       "166177138949222  [[10823.3580058, 11401.2255677], [10649.647086...  \n",
       "206807817890841  [[11283.1563243, 11342.403523], [11110.5285401...  \n",
       "247232905413468  [[10644.8179824, 11165.7671515], [10472.394749...  \n",
       "275348001813209  [[10939.5289842, 11081.2021424], [10765.637898...  "
      ]
     },
     "execution_count": 5,
     "metadata": {},
     "output_type": "execute_result"
    }
   ],
   "source": [
    "contours_df"
   ]
  },
  {
   "cell_type": "code",
   "execution_count": null,
   "metadata": {
    "collapsed": true
   },
   "outputs": [],
   "source": []
  }
 ],
 "metadata": {
  "kernelspec": {
   "display_name": "Python 2",
   "language": "python",
   "name": "python2"
  },
  "language_info": {
   "codemirror_mode": {
    "name": "ipython",
    "version": 2
   },
   "file_extension": ".py",
   "mimetype": "text/x-python",
   "name": "python",
   "nbconvert_exporter": "python",
   "pygments_lexer": "ipython2",
   "version": "2.7.12"
  }
 },
 "nbformat": 4,
 "nbformat_minor": 1
}
