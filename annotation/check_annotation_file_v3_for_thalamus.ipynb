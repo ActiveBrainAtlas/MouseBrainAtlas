{
 "cells": [
  {
   "cell_type": "code",
   "execution_count": 7,
   "metadata": {},
   "outputs": [
    {
     "name": "stderr",
     "output_type": "stream",
     "text": [
      "No vtk\n",
      "No vtk"
     ]
    }
   ],
   "source": [
    "%reload_ext autoreload\n",
    "%autoreload 2\n",
    "\n",
    "import os\n",
    "import sys\n",
    "sys.path.append(os.path.join(os.environ['REPO_DIR'], 'utilities'))\n",
    "from metadata import *\n",
    "from data_manager import *\n",
    "from utilities2015 import *"
   ]
  },
  {
   "cell_type": "code",
   "execution_count": 8,
   "metadata": {
    "collapsed": true
   },
   "outputs": [],
   "source": [
    "from pandas import *"
   ]
  },
  {
   "cell_type": "code",
   "execution_count": 9,
   "metadata": {},
   "outputs": [
    {
     "name": "stdout",
     "output_type": "stream",
     "text": [
      "aws s3 cp --recursive \"s3://mousebrainatlas-data/CSHL_labelings_thalamus/MD585\" \"/home/yuncong/CSHL_labelings_thalamus/MD585\" --exclude \"*\" --include \"*contours*\"\n",
      "latest timestamp:  12082017163112\n"
     ]
    }
   ],
   "source": [
    "contours_df = DataManager.load_annotation_thalamus_v4(stack='MD585', by_human=True, timestamp='latest', suffix='contours')"
   ]
  },
  {
   "cell_type": "code",
   "execution_count": 12,
   "metadata": {
    "scrolled": true
   },
   "outputs": [
    {
     "data": {
      "text/html": [
       "<div>\n",
       "<table border=\"1\" class=\"dataframe\">\n",
       "  <thead>\n",
       "    <tr style=\"text-align: right;\">\n",
       "      <th></th>\n",
       "      <th>class</th>\n",
       "      <th>creator</th>\n",
       "      <th>downsample</th>\n",
       "      <th>edits</th>\n",
       "      <th>filename</th>\n",
       "      <th>id</th>\n",
       "      <th>label_position</th>\n",
       "      <th>name</th>\n",
       "      <th>orientation</th>\n",
       "      <th>parent_structure</th>\n",
       "      <th>section</th>\n",
       "      <th>side</th>\n",
       "      <th>side_manually_assigned</th>\n",
       "      <th>time_created</th>\n",
       "      <th>type</th>\n",
       "      <th>vertices</th>\n",
       "    </tr>\n",
       "  </thead>\n",
       "  <tbody>\n",
       "    <tr>\n",
       "      <th>85447113722818</th>\n",
       "      <td>contour</td>\n",
       "      <td>jacob</td>\n",
       "      <td>1</td>\n",
       "      <td>[{u'username': u'jacob', u'timestamp': u'12082...</td>\n",
       "      <td>MD585-IHC33-2015.07.16-16.33.07_MD585_1_0097</td>\n",
       "      <td>85447113722818</td>\n",
       "      <td>[13646.931349, 7744.46692285]</td>\n",
       "      <td>AD</td>\n",
       "      <td>sagittal</td>\n",
       "      <td>[]</td>\n",
       "      <td>182</td>\n",
       "      <td>L</td>\n",
       "      <td>True</td>\n",
       "      <td>12082017163013</td>\n",
       "      <td>confirmed</td>\n",
       "      <td>[[13811.4940829, 7673.47458872], [13794.626183...</td>\n",
       "    </tr>\n",
       "  </tbody>\n",
       "</table>\n",
       "</div>"
      ],
      "text/plain": [
       "                  class creator downsample  \\\n",
       "85447113722818  contour   jacob          1   \n",
       "\n",
       "                                                            edits  \\\n",
       "85447113722818  [{u'username': u'jacob', u'timestamp': u'12082...   \n",
       "\n",
       "                                                    filename              id  \\\n",
       "85447113722818  MD585-IHC33-2015.07.16-16.33.07_MD585_1_0097  85447113722818   \n",
       "\n",
       "                               label_position name orientation  \\\n",
       "85447113722818  [13646.931349, 7744.46692285]   AD    sagittal   \n",
       "\n",
       "               parent_structure section side side_manually_assigned  \\\n",
       "85447113722818               []     182    L                   True   \n",
       "\n",
       "                  time_created       type  \\\n",
       "85447113722818  12082017163013  confirmed   \n",
       "\n",
       "                                                         vertices  \n",
       "85447113722818  [[13811.4940829, 7673.47458872], [13794.626183...  "
      ]
     },
     "execution_count": 12,
     "metadata": {},
     "output_type": "execute_result"
    }
   ],
   "source": [
    "contours_df"
   ]
  }
 ],
 "metadata": {
  "kernelspec": {
   "display_name": "Python 2",
   "language": "python",
   "name": "python2"
  },
  "language_info": {
   "codemirror_mode": {
    "name": "ipython",
    "version": 2
   },
   "file_extension": ".py",
   "mimetype": "text/x-python",
   "name": "python",
   "nbconvert_exporter": "python",
   "pygments_lexer": "ipython2",
   "version": "2.7.12"
  }
 },
 "nbformat": 4,
 "nbformat_minor": 1
}
