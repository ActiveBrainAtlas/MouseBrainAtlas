{
 "metadata": {
  "name": "",
  "signature": "sha256:a3934134f3d40d712887cda33df5f954a3e6a5f95a458566d55ae961a5d10709"
 },
 "nbformat": 3,
 "nbformat_minor": 0,
 "worksheets": [
  {
   "cells": [
    {
     "cell_type": "code",
     "collapsed": false,
     "input": [
      "%load paint_by_numbers.py"
     ],
     "language": "python",
     "metadata": {},
     "outputs": [],
     "prompt_number": 1
    },
    {
     "cell_type": "code",
     "collapsed": false,
     "input": [
      "\"\"\"\n",
      "Paint by numbers GUI\n",
      "Written by Yoav Freund\n",
      "\"\"\"\n",
      "import numpy as np\n",
      "import pylab\n",
      "from matplotlib import pyplot as plt\n",
      "import matplotlib as mpl\n",
      "import Image\n",
      "from time import time\n",
      "\n",
      "#subsample image (this is put here to improve reaction time)\n",
      "from scipy.signal import convolve2d\n",
      "def subsample(I,smooth=False,k=4):\n",
      "    h,w=np.shape(I)\n",
      "    if smooth:\n",
      "        kernel=np.ones([k,k])/(float(k*k))\n",
      "        smoothed=convolve2d(I,kernel,mode='same',boundary='symm')\n",
      "        return smoothed[k/2:h:k,k/2:w:k]\n",
      "    else:\n",
      "        return I[k/2:h:k,k/2:w:k]\n",
      "        \n",
      "def boundaries(x,t=10):\n",
      "    \"\"\" Find segmentation boundaries\n",
      "    x = segmentation matrix (different integer for each segment)\n",
      "    t = thickness of boundaries\n",
      "    output: a matrix whose dimensions are smaller than those of x by t (in each coordinate)\n",
      "    \"\"\"\n",
      "    y1=abs(x[:-t,:-t]-x[t:,:-t])\n",
      "    y2=abs(x[:-t,:-t]-x[:-t,t:])\n",
      "    y=np.zeros(np.shape(x))\n",
      "    l=t/2; r=t-l\n",
      "    y[l:-r,l:-r]=((y1+y2)>0)*1\n",
      "    return y\n",
      "    \n",
      "def mark_super_pixels(axes,seg,seg_no,indexes,colors=['r'],alpha=0.2):\n",
      "    \"\"\"\n",
      "    color a list of super-pixels:\n",
      "    axes = matplotlib.axes.Axes in which to draw the overlay\n",
      "    seg = the segmentation map\n",
      "    seg_no = the values in seg are integers in range(seg_no) \n",
      "    indexes = the indexes of the super-pixels\n",
      "    colors : used to paint the segments. \n",
      "            This list can be shorter or longer than indexes,\n",
      "            trimmed if longer\n",
      "            repeated if shorter.\n",
      "            \n",
      "            Can use any color in:\n",
      "            b : blue\n",
      "            g : green\n",
      "            r : red\n",
      "            c : cyan\n",
      "            m : magenta\n",
      "            y : yellow\n",
      "            k : black\n",
      "            w : white\n",
      "            or http://www.w3schools.com/html/html_colornames.asp\n",
      "    \"\"\"\n",
      "    \n",
      "    t0=time()\n",
      "    Clist=['none']*seg_no\n",
      "    nc=len(colors)\n",
      "    for i in range(len(indexes)):\n",
      "        Clist[indexes[i]]=colors[i % nc]\n",
      "    Cmap = mpl.colors.ListedColormap(Clist)\n",
      "    t1=time()\n",
      "    axes.imshow(seg, cmap=Cmap,alpha=0.2)\n",
      "    t2=time()\n",
      "    #draw()\n",
      "    t3=time()\n",
      "    print 'times for mark_super_pixels:',t1-t0,t2-t1,t3-t2\n",
      "    \n",
      "def on_pick(event):\n",
      "    x = event.mouseevent.xdata\n",
      "    y = event.mouseevent.ydata\n",
      "    s = seg[y,x]\n",
      "    print 'x=',x,'y=',y,'seg=',s\n",
      "    cbox_txt.set_text('x='+str(x)+', y='+str(y)+' seg='+str(seg[y,x]))\n",
      "    mark_super_pixels(main_ax,seg,seg_no,[s],colors=['r'])\n",
      "    fig.canvas.draw()\n",
      "\n",
      "#read data\n",
      "setName='PMD1305_reduce2_region0_0244_param5'\n",
      "stem='/Users/yoavfreund/projects/BrainRegistration/Data/'+setName+'_data'\n",
      "\n",
      "seg=np.load(stem+'/'+setName+'_segmentation.npy')\n",
      "direction=np.load(stem+'/'+setName+'_sp_dir_hist_normalized.npy')\n",
      "texton=np.load(stem+'/'+setName+'_sp_texton_hist_normalized.npy')\n",
      "\n",
      "seg_no=np.shape(texton)[0]\n",
      "print 'seg_no=',seg_no\n",
      "\n",
      "# Initialize image\n",
      "im=Image.open(stem+'/PMD1305_reduce2_region0_0244.tif')\n",
      "aim=np.array(im)/256.0\n",
      "bwaim=np.mean(aim,axis=2)  # make into BW picture\n",
      "\n",
      "borders=boundaries(seg,t=3)\n",
      "print np.shape(seg),np.shape(borders),np.shape(bwaim)\n",
      "\n",
      "bwaim=subsample(bwaim,smooth=True,k=1)\n",
      "seg=subsample(seg,smooth=False,k=1)\n",
      "print np.shape(bwaim)\n",
      "\n",
      "colormap=pylab.get_cmap('gray')\n",
      "# trim im to size of seg\n",
      "h1,w1=np.shape(bwaim)\n",
      "h2,w2=np.shape(seg)\n",
      "top=(h1-h2)/2; bottom=(h1-h2)-top\n",
      "left=(w1-w2)/2; right=(w1-w2)-left\n",
      "\n",
      "bwaim=bwaim[bottom:-top,left:-right]\n",
      "h,w=h2,w2\n",
      "\n",
      "fig = plt.figure(figsize=(8,8.0*h/w))\n",
      "main_ax = plt.axes([0.05, 0.1, 0.9,0.9], xticks=[], yticks=[])\n",
      "cbox_ax = plt.axes([0.0, 0.04, 0.04, 0.04], xticks=[], yticks=[])\n",
      "cbox_txt = cbox_ax.text(1.5, 0.5, \"\", transform=cbox_ax.transAxes,\n",
      "                        fontsize=20, va='center', ha='left')\n",
      "\n",
      "main_ax.imshow(bwaim,cmap=colormap,aspect='equal',picker=True)\n",
      "main_ax.imshow(borders,cmap=mpl.colors.ListedColormap(['w','m']),alpha=0.5)\n",
      "fig.canvas.mpl_connect('pick_event', on_pick)\n",
      "\n",
      "plt.show()"
     ],
     "language": "python",
     "metadata": {},
     "outputs": [
      {
       "output_type": "stream",
       "stream": "stdout",
       "text": [
        "seg_no= 504\n",
        "(926, 2426)"
       ]
      },
      {
       "output_type": "stream",
       "stream": "stdout",
       "text": [
        " (926, 2426) (1200, 2700)\n",
        "(1200, 2700)"
       ]
      },
      {
       "output_type": "stream",
       "stream": "stdout",
       "text": [
        "\n"
       ]
      }
     ],
     "prompt_number": 112
    },
    {
     "cell_type": "code",
     "collapsed": false,
     "input": [
      "shape(texton)"
     ],
     "language": "python",
     "metadata": {},
     "outputs": [
      {
       "metadata": {},
       "output_type": "pyout",
       "prompt_number": 3,
       "text": [
        "(504, 20)"
       ]
      }
     ],
     "prompt_number": 3
    },
    {
     "cell_type": "code",
     "collapsed": false,
     "input": [
      "type(texton)"
     ],
     "language": "python",
     "metadata": {},
     "outputs": [
      {
       "metadata": {},
       "output_type": "pyout",
       "prompt_number": 4,
       "text": [
        "numpy.ndarray"
       ]
      }
     ],
     "prompt_number": 4
    },
    {
     "cell_type": "code",
     "collapsed": false,
     "input": [
      "sum(texton[0,:])"
     ],
     "language": "python",
     "metadata": {},
     "outputs": [
      {
       "metadata": {},
       "output_type": "pyout",
       "prompt_number": 6,
       "text": [
        "0.99999999999999989"
       ]
      }
     ],
     "prompt_number": 6
    },
    {
     "cell_type": "code",
     "collapsed": false,
     "input": [
      "seg_shape=shape(seg)"
     ],
     "language": "python",
     "metadata": {},
     "outputs": [],
     "prompt_number": 10
    },
    {
     "cell_type": "code",
     "collapsed": false,
     "input": [
      "S=list(seg.flatten())"
     ],
     "language": "python",
     "metadata": {},
     "outputs": [],
     "prompt_number": 25
    },
    {
     "cell_type": "code",
     "collapsed": false,
     "input": [
      "shape(S)"
     ],
     "language": "python",
     "metadata": {},
     "outputs": [
      {
       "metadata": {},
       "output_type": "pyout",
       "prompt_number": 26,
       "text": [
        "(2246476,)"
       ]
      }
     ],
     "prompt_number": 26
    },
    {
     "cell_type": "code",
     "collapsed": false,
     "input": [
      "import collections\n",
      "S[-3:]"
     ],
     "language": "python",
     "metadata": {},
     "outputs": [
      {
       "metadata": {},
       "output_type": "pyout",
       "prompt_number": 27,
       "text": [
        "[493, 493, 493]"
       ]
      }
     ],
     "prompt_number": 27
    },
    {
     "cell_type": "code",
     "collapsed": false,
     "input": [
      "C=collections.Counter(S)"
     ],
     "language": "python",
     "metadata": {},
     "outputs": [],
     "prompt_number": 28
    },
    {
     "cell_type": "code",
     "collapsed": false,
     "input": [
      "total=sum(C.values())\n",
      "total"
     ],
     "language": "python",
     "metadata": {},
     "outputs": [
      {
       "metadata": {},
       "output_type": "pyout",
       "prompt_number": 35,
       "text": [
        "2246476"
       ]
      }
     ],
     "prompt_number": 35
    },
    {
     "cell_type": "code",
     "collapsed": false,
     "input": [
      "shape(texton)"
     ],
     "language": "python",
     "metadata": {},
     "outputs": [
      {
       "metadata": {},
       "output_type": "pyout",
       "prompt_number": 37,
       "text": [
        "(504, 20)"
       ]
      }
     ],
     "prompt_number": 37
    },
    {
     "cell_type": "code",
     "collapsed": false,
     "input": [
      "len(C)"
     ],
     "language": "python",
     "metadata": {},
     "outputs": [
      {
       "metadata": {},
       "output_type": "pyout",
       "prompt_number": 39,
       "text": [
        "504"
       ]
      }
     ],
     "prompt_number": 39
    },
    {
     "cell_type": "code",
     "collapsed": false,
     "input": [
      "Null=np.zeros([20])\n",
      "total=0;\n",
      "for i in range(len(C)):\n",
      "    if isnan(texton[i,:]).any():\n",
      "        print 'skipping',i\n",
      "        print texton[i,:]\n",
      "        continue\n",
      "    Null = Null + texton[i,:]*C[i]\n",
      "    total+= C[i]\n",
      "    \n",
      "Null = Null/total\n",
      "print total\n",
      "print Null"
     ],
     "language": "python",
     "metadata": {},
     "outputs": [
      {
       "output_type": "stream",
       "stream": "stdout",
       "text": [
        " 435.655864198 y= 417.199691358 seg= 247\n",
        "times for mark_super_pixels: 2.59876251221e-05 0.015960931778 9.53674316406e-07\n",
        "skipping"
       ]
      },
      {
       "output_type": "stream",
       "stream": "stdout",
       "text": [
        " 461\n",
        "[ nan  nan  nan  nan  nan  nan  nan  nan  nan  nan  nan  nan  nan  nan  nan\n",
        "  nan  nan  nan  nan  nan]\n",
        "skipping 479\n",
        "[ nan  nan  nan  nan  nan  nan  nan  nan  nan  nan  nan  nan  nan  nan  nan\n",
        "  nan  nan  nan  nan  nan]\n",
        "skipping 480\n",
        "[ nan  nan  nan  nan  nan  nan  nan  nan  nan  nan  nan  nan  nan  nan  nan\n",
        "  nan  nan  nan  nan  nan]\n",
        "skipping 493\n",
        "[ nan  nan  nan  nan  nan  nan  nan  nan  nan  nan  nan  nan  nan  nan  nan\n",
        "  nan  nan  nan  nan  nan]\n",
        "2228550\n",
        "[ 0.06991133  0.14851307  0.03077331  0.01188089  0.00956961  0.01527984\n",
        "  0.05266244  0.08018895  0.06374035  0.06091912  0.05523366  0.0517275\n",
        "  0.1033994   0.0352545   0.00978481  0.00932272  0.04881649  0.03832344\n",
        "  0.00992347  0.0947751 ]\n"
       ]
      }
     ],
     "prompt_number": 117
    },
    {
     "cell_type": "code",
     "collapsed": false,
     "input": [
      "def RE(p1,p2):\n",
      "    #print shape(p1),shape(p2)\n",
      "    c=0\n",
      "    for i in range(len(p1)):\n",
      "        if p2[i]<0.0001:\n",
      "            return -1\n",
      "        if p1[i]>0:\n",
      "            c+= p1[i] * np.log(p1[i]/p2[i])\n",
      "        #print i,p1[i],p2[i],c\n",
      "    return c\n",
      "RE(texton[1,:],Null)"
     ],
     "language": "python",
     "metadata": {},
     "outputs": [
      {
       "metadata": {},
       "output_type": "pyout",
       "prompt_number": 84,
       "text": [
        "0.084351686007853546"
       ]
      }
     ],
     "prompt_number": 84
    },
    {
     "cell_type": "code",
     "collapsed": false,
     "input": [
      "texton_no=shape(texton)[0]\n",
      "D_Null={}\n",
      "for j in range(texton_no):\n",
      "    D_Null[j]=RE(texton[j,:],Null)"
     ],
     "language": "python",
     "metadata": {},
     "outputs": [],
     "prompt_number": 90
    },
    {
     "cell_type": "code",
     "collapsed": false,
     "input": [
      "most_sig=[]\n",
      "for e in sorted(D_Null,key=D_Null.get,reverse=True):\n",
      "    #print e, D_Null[e]\n",
      "    most_sig.append(e)"
     ],
     "language": "python",
     "metadata": {},
     "outputs": [],
     "prompt_number": 110
    },
    {
     "cell_type": "code",
     "collapsed": false,
     "input": [
      "print most_sig[:10]"
     ],
     "language": "python",
     "metadata": {},
     "outputs": [
      {
       "output_type": "stream",
       "stream": "stdout",
       "text": [
        "[54, 443, 35, 448, 16, 500, 325, 402, 19, 75]\n"
       ]
      }
     ],
     "prompt_number": 111
    },
    {
     "cell_type": "code",
     "collapsed": false,
     "input": [
      "mark_super_pixels(main_ax,seg,seg_no,most_sig[:100])"
     ],
     "language": "python",
     "metadata": {},
     "outputs": [
      {
       "output_type": "stream",
       "stream": "stdout",
       "text": [
        " 1306.09567901 y= 843.995987654 seg= 442\n",
        "times for mark_super_pixels: 1.59740447998e-05 0.0158469676971 0.0\n",
        "times for mark_super_pixels:"
       ]
      },
      {
       "output_type": "stream",
       "stream": "stdout",
       "text": [
        " 9.10758972168e-05 0.0157978534698 0.0\n"
       ]
      }
     ],
     "prompt_number": 116
    },
    {
     "cell_type": "code",
     "collapsed": false,
     "input": [],
     "language": "python",
     "metadata": {},
     "outputs": []
    }
   ],
   "metadata": {}
  }
 ]
}