{
 "metadata": {
  "name": "",
  "signature": "sha256:9fc8e186dfc2dfb051cfcaa8b118d2bc0e44ca51047a0e12259432cf01f62bf7"
 },
 "nbformat": 3,
 "nbformat_minor": 0,
 "worksheets": [
  {
   "cells": [
    {
     "cell_type": "code",
     "collapsed": false,
     "input": [
      "#%%writefile paint_by_numbers.py\n",
      "\"\"\"\n",
      "Paint by numbers GUI\n",
      "Written by Yoav Freund\n",
      "\"\"\"\n",
      "\n",
      "import numpy as np\n",
      "import pylab\n",
      "from matplotlib import pyplot as plt\n",
      "import Image\n",
      "from time import time\n",
      "\n",
      "#read data\n",
      "setName='PMD1305_reduce2_region0_0244_param5'\n",
      "stem='../YuncongBrain/'+setName+'_data'\n",
      "#!ls $stem/*\n",
      "seg=numpy.load(stem+'/'+setName+'_segmentation.npy')\n",
      "direction=numpy.load(stem+'/'+setName+'_sp_dir_hist_normalized.npy')\n",
      "texton=numpy.load(stem+'/'+setName+'_sp_texton_hist_normalized.npy')\n",
      "\n",
      "# Initialize image\n",
      "im=Image.open(stem+'/PMD1305_reduce2_region0_0244.tif')\n",
      "aim=np.array(im)/256.0\n",
      "bwaim=mean(aim,axis=2)  # make into BW picture\n",
      "\n",
      "#subsample image\n",
      "from scipy.signal import convolve2d\n",
      "def subsample(I,smooth=False,k=4):\n",
      "    h,w=shape(I)\n",
      "    if smooth:\n",
      "        kernel=np.ones([k,k])/(float(k*k))\n",
      "        smoothed=convolve2d(I,kernel,mode='same',boundary='symm')\n",
      "        return smoothed[k/2:h:k,k/2:w:k]\n",
      "    else:\n",
      "        return I[k/2:h:k,k/2:w:k]\n",
      "        \n",
      "bwaim=subsample(bwaim,smooth=True,k=1)\n",
      "seg=subsample(seg,smooth=False,k=1)\n",
      "print shape(bwaim)\n",
      "\n",
      "colormap=pylab.get_cmap('gray')\n",
      "# trim im to size of seg\n",
      "h1,w1=shape(bwaim)\n",
      "h2,w2=shape(seg)\n",
      "top=(h1-h2)/2; bottom=(h1-h2)-top\n",
      "left=(w1-w2)/2; right=(w1-w2)-left\n",
      "\n",
      "bwaim=bwaim[bottom:-top,left:-right]\n",
      "h,w=h2,w2\n",
      "\n",
      "def boundaries(x,t=10):\n",
      "    \"\"\" Find segmentation boundaries\n",
      "    x = segmentation matrix (different integer for each segment)\n",
      "    t = thickness of boundaries\n",
      "    output: a matrix whose dimensions are smaller than those of x by t (in each coordinate)\n",
      "    \"\"\"\n",
      "    y1=abs(x[:-t,:-t]-x[t:,:-t])\n",
      "    y2=abs(x[:-t,:-t]-x[:-t,t:])\n",
      "    y=zeros(shape(x))\n",
      "    l=t/2; r=t-l\n",
      "    y[l:-r,l:-r]=((y1+y2)>0)*1\n",
      "    return y\n",
      "\n",
      "borders=boundaries(seg,t=3)\n",
      "print shape(seg),shape(borders),shape(bwaim)"
     ],
     "language": "python",
     "metadata": {},
     "outputs": [
      {
       "output_type": "stream",
       "stream": "stdout",
       "text": [
        "(1200, 2700)\n",
        "(926, 2426)"
       ]
      },
      {
       "output_type": "stream",
       "stream": "stdout",
       "text": [
        " (926, 2426) (926, 2426)\n"
       ]
      }
     ],
     "prompt_number": 153
    },
    {
     "cell_type": "code",
     "collapsed": false,
     "input": [
      "fig = plt.figure(figsize=(8,8.0*h/w))\n",
      "main_ax = plt.axes([0.05, 0.1, 0.9,0.9], xticks=[], yticks=[])\n",
      "cbox_ax = plt.axes([0.0, 0.04, 0.04, 0.04], xticks=[], yticks=[])\n",
      "cbox_txt = cbox_ax.text(1.5, 0.5, \"\", transform=cbox_ax.transAxes,\n",
      "                        fontsize=20, va='center', ha='left')\n",
      "\n",
      "main_ax.imshow(bwaim,cmap=colormap,aspect='equal')\n",
      "main_ax.imshow(borders,cmap=mpl.colors.ListedColormap(['w','m']),alpha=0.5)\n",
      "\n",
      "def on_pick(event):\n",
      "    x = event.mouseevent.xdata\n",
      "    y = event.mouseevent.ydata\n",
      "    print 'x=',x,'y=',y\n",
      "    #paint(int((1-y)*16),int(x*16))\n",
      "    cbox_txt.set_text('x='+str(x)+', y='+str(y))\n",
      "    fig.canvas.draw()\n",
      "    \n",
      "fig.canvas.mpl_connect('pick_event', on_pick)\n",
      "\n",
      "plt.show()\n",
      "\n",
      "\n",
      "seg_no=shape(texton)[0]\n",
      "print 'seg_no=',seg_no"
     ],
     "language": "python",
     "metadata": {},
     "outputs": [
      {
       "output_type": "stream",
       "stream": "stdout",
       "text": [
        "seg_no= 504\n"
       ]
      }
     ],
     "prompt_number": 186
    },
    {
     "cell_type": "code",
     "collapsed": false,
     "input": [
      "def mark_super_pixels(axes,seg,seg_no,indexes,colors=['r'],alpha=0.2):\n",
      "    \"\"\"\n",
      "    color a list of super-pixels:\n",
      "    axes = matplotlib.axes.Axes in which to draw the overlay\n",
      "    seg = the segmentation map\n",
      "    seg_no = the values in seg are integers in range(seg_no) \n",
      "    indexes = the indexes of the super-pixels\n",
      "    colors : used to paint the segments. \n",
      "            This list can be shorter or longer than indexes,\n",
      "            trimmed if longer\n",
      "            repeated if shorter.\n",
      "            \n",
      "            Can use any color in:\n",
      "            b : blue\n",
      "            g : green\n",
      "            r : red\n",
      "            c : cyan\n",
      "            m : magenta\n",
      "            y : yellow\n",
      "            k : black\n",
      "            w : white\n",
      "            or http://www.w3schools.com/html/html_colornames.asp\n",
      "    \"\"\"\n",
      "    \n",
      "    t0=time()\n",
      "    Clist=['none']*seg_no\n",
      "    nc=len(colors)\n",
      "    for i in range(len(indexes)):\n",
      "        Clist[indexes[i]]=colors[i % nc]\n",
      "    Cmap = mpl.colors.ListedColormap(Clist)\n",
      "    t1=time()\n",
      "    axes.imshow(seg, cmap=Cmap,alpha=0.2)\n",
      "    t2=time()\n",
      "    draw()\n",
      "    t3=time()\n",
      "    print 'times for mark_super_pixels:',t1-t0,t2-t1,t3-t2"
     ],
     "language": "python",
     "metadata": {},
     "outputs": [],
     "prompt_number": 179
    },
    {
     "cell_type": "code",
     "collapsed": false,
     "input": [
      "mark_super_pixels(main_ax,seg,seg_no,range(seg_no),colors=['r','g','b','m'],alpha=0.2)"
     ],
     "language": "python",
     "metadata": {},
     "outputs": [
      {
       "output_type": "stream",
       "stream": "stdout",
       "text": [
        "times for mark_super_pixels: 0.00018310546875 0.0144128799438 0.203716993332\n"
       ]
      }
     ],
     "prompt_number": 180
    },
    {
     "cell_type": "code",
     "collapsed": false,
     "input": [
      "plt.imshow(matplotlib.colors.hsv_to_rgb(HSV))"
     ],
     "language": "python",
     "metadata": {},
     "outputs": [
      {
       "metadata": {},
       "output_type": "pyout",
       "prompt_number": 63,
       "text": [
        "<matplotlib.image.AxesImage at 0x1029df090>"
       ]
      }
     ],
     "prompt_number": 63
    },
    {
     "cell_type": "code",
     "collapsed": false,
     "input": [
      "# Analysis of directionality distribution\n",
      "Max=np.max(direction,axis=1)\n",
      "Mean=np.mean(direction,axis=1)\n",
      "standout=(Max-Mean)/Mean\n",
      "ind=(standout>0.4)\n",
      "print sum(ind), len(ind)\n",
      "plot(np.transpose(direction[ind,:]));\n",
      "## There seems to be a significant set of direction profiles that have 4 peaks within the 18 directions.\n",
      "S=find(ind)"
     ],
     "language": "python",
     "metadata": {},
     "outputs": [
      {
       "output_type": "stream",
       "stream": "stdout",
       "text": [
        "32 504\n"
       ]
      }
     ],
     "prompt_number": 64
    },
    {
     "cell_type": "code",
     "collapsed": false,
     "input": [
      "%load color_selector_print.py"
     ],
     "language": "python",
     "metadata": {},
     "outputs": [],
     "prompt_number": 181
    },
    {
     "cell_type": "code",
     "collapsed": false,
     "input": [
      "\"\"\"\n",
      "Interactive Matplotlib Color Selector\n",
      "\n",
      "Written by Jake Vanderplas <jakevdp@cs.washington.edu>\n",
      "\"\"\"\n",
      "\n",
      "import numpy as np\n",
      "from matplotlib import pyplot as plt\n",
      "from matplotlib.widgets import Slider, AxesWidget\n",
      "from matplotlib.colors import rgb2hex\n",
      "\n",
      "# Initialize labels and image\n",
      "labels=np.zeros((16,16))\n",
      "im_arr = np.ones((256, 256, 3), dtype=np.float32)\n",
      "#draw grid\n",
      "for i in range(0,256,16):\n",
      "    im_arr[i,:]=0\n",
      "    im_arr[:,i]=0\n",
      "\n",
      "def paint(i,j):\n",
      "    \" change the color at location i,j and redraw \"\n",
      "    labels[i,j]=(labels[i,j]+1) % 3\n",
      "    color=[0,0,0]; color[int(labels[i,j])]=1.0\n",
      "    im_arr[16*i:16*(i+1),16*j:16*(j+1),:] = color\n",
      "\n",
      "    im = main_ax.imshow(im_arr, extent=[0, 1, 0, 1])\n",
      "\n",
      "\n",
      "fig = plt.figure(figsize=(8, 8))\n",
      "main_ax = plt.axes([0.1, 0.15, 0.8, 0.8], xticks=[], yticks=[])\n",
      "cbox_ax = plt.axes([0.1, 0.04, 0.04, 0.04], xticks=[], yticks=[])\n",
      "\n",
      "\n",
      "im = main_ax.imshow(im_arr, extent=[0, 1, 0, 1], picker=True)\n",
      "cbox_im = cbox_ax.imshow(np.ones((1, 1, 3)))\n",
      "cbox_txt = cbox_ax.text(1.5, 0.5, \"\", transform=cbox_ax.transAxes,\n",
      "                        fontsize=20, va='center', ha='left')\n",
      "def on_pick(event):\n",
      "    x = event.mouseevent.xdata\n",
      "    y = event.mouseevent.ydata\n",
      "    print 'x=',int(x*16),'y=',int(y*16)\n",
      "    paint(int((1-y)*16),int(x*16))\n",
      "    cbox_txt.set_text('x='+str(x/16)+', y='+str(y/16))\n",
      "    fig.canvas.draw()\n",
      "    \n",
      "fig.canvas.mpl_connect('pick_event', on_pick)\n",
      "\n",
      "plt.show()\n"
     ],
     "language": "python",
     "metadata": {},
     "outputs": [],
     "prompt_number": 187
    },
    {
     "cell_type": "code",
     "collapsed": false,
     "input": [],
     "language": "python",
     "metadata": {},
     "outputs": []
    }
   ],
   "metadata": {}
  }
 ]
}