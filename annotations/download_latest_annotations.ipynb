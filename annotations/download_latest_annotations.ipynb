{
 "cells": [
  {
   "cell_type": "code",
   "execution_count": 1,
   "metadata": {
    "collapsed": true
   },
   "outputs": [],
   "source": [
    "%reload_ext autoreload\n",
    "%autoreload 2\n",
    "\n",
    "import os\n",
    "import sys\n",
    "sys.path.append(os.path.join(os.environ['REPO_DIR'], 'utilities'))\n",
    "from utilities2015 import *\n",
    "\n",
    "%matplotlib inline\n",
    "\n",
    "# This script is supposed to be run on the local machine"
   ]
  },
  {
   "cell_type": "code",
   "execution_count": 18,
   "metadata": {
    "collapsed": false
   },
   "outputs": [],
   "source": [
    "stack = 'MD585'\n",
    "first_bs_sec, last_bs_sec = section_range_lookup[stack]\n",
    "\n",
    "username = 'autoAnnotate'"
   ]
  },
  {
   "cell_type": "code",
   "execution_count": 19,
   "metadata": {
    "collapsed": false
   },
   "outputs": [],
   "source": [
    "fnlist_name = os.path.join('/home/yuncong/csd395/CSHL_data_labelings_losslessAlignCropped', \n",
    "                           stack+'_'+username+'_latestAnnotationFilenames.txt')"
   ]
  },
  {
   "cell_type": "code",
   "execution_count": 20,
   "metadata": {
    "collapsed": true
   },
   "outputs": [],
   "source": [
    "root_labelings_dir = '/home/yuncong/CSHL_data_labelings_losslessAlignCropped/'"
   ]
  },
  {
   "cell_type": "code",
   "execution_count": 21,
   "metadata": {
    "collapsed": false
   },
   "outputs": [],
   "source": [
    "if not os.path.exists(root_labelings_dir):\n",
    "    os.makedirs(root_labelings_dir)\n",
    "    \n",
    "ann_dir = os.path.join(root_labelings_dir, stack)\n",
    "if not os.path.exists(ann_dir):\n",
    "    os.makedirs(ann_dir)"
   ]
  },
  {
   "cell_type": "code",
   "execution_count": 23,
   "metadata": {
    "collapsed": false
   },
   "outputs": [
    {
     "name": "stdout",
     "output_type": "stream",
     "text": [
      "scp yuncong@oasis-dm.sdsc.edu:/home/yuncong/csd395/CSHL_data_labelings_losslessAlignCropped/MD585_autoAnnotate_latestAnnotationFilenames.txt /home/yuncong/CSHL_data_labelings_losslessAlignCropped/\n"
     ]
    },
    {
     "data": {
      "text/plain": [
       "0"
      ]
     },
     "execution_count": 23,
     "metadata": {},
     "output_type": "execute_result"
    }
   ],
   "source": [
    "cmd = 'scp yuncong@oasis-dm.sdsc.edu:%(fnlist_fn)s %(ld)s' % {'fnlist_fn':fnlist_name, 'ld': root_labelings_dir}\n",
    "print cmd\n",
    "os.system(cmd)"
   ]
  },
  {
   "cell_type": "code",
   "execution_count": 24,
   "metadata": {
    "collapsed": false
   },
   "outputs": [],
   "source": [
    "with open(os.path.join(root_labelings_dir, stack+'_'+username+'_latestAnnotationFilenames.txt'), 'r') as f:\n",
    "    fnlist = map(lambda x: x.strip(), f.readlines())"
   ]
  },
  {
   "cell_type": "code",
   "execution_count": 25,
   "metadata": {
    "collapsed": false,
    "scrolled": true
   },
   "outputs": [
    {
     "name": "stdout",
     "output_type": "stream",
     "text": [
      "mkdir /home/yuncong/CSHL_data_labelings_losslessAlignCropped/MD585/0132; scp yuncong@oasis-dm.sdsc.edu:/home/yuncong/csd395/CSHL_data_labelings_losslessAlignCropped/MD585/0132/MD585_0132_autoAnnotate_03162016131018_consolidated.pkl /home/yuncong/CSHL_data_labelings_losslessAlignCropped/MD585/0132/\n",
      "mkdir /home/yuncong/CSHL_data_labelings_losslessAlignCropped/MD585/0133; scp yuncong@oasis-dm.sdsc.edu:/home/yuncong/csd395/CSHL_data_labelings_losslessAlignCropped/MD585/0133/MD585_0133_autoAnnotate_03162016131554_consolidated.pkl /home/yuncong/CSHL_data_labelings_losslessAlignCropped/MD585/0133/\n",
      "mkdir /home/yuncong/CSHL_data_labelings_losslessAlignCropped/MD585/0134; scp yuncong@oasis-dm.sdsc.edu:/home/yuncong/csd395/CSHL_data_labelings_losslessAlignCropped/MD585/0134/MD585_0134_autoAnnotate_03162016131942_consolidated.pkl /home/yuncong/CSHL_data_labelings_losslessAlignCropped/MD585/0134/\n",
      "mkdir /home/yuncong/CSHL_data_labelings_losslessAlignCropped/MD585/0135; scp yuncong@oasis-dm.sdsc.edu:/home/yuncong/csd395/CSHL_data_labelings_losslessAlignCropped/MD585/0135/MD585_0135_autoAnnotate_03162016132448_consolidated.pkl /home/yuncong/CSHL_data_labelings_losslessAlignCropped/MD585/0135/\n",
      "mkdir /home/yuncong/CSHL_data_labelings_losslessAlignCropped/MD585/0136; scp yuncong@oasis-dm.sdsc.edu:/home/yuncong/csd395/CSHL_data_labelings_losslessAlignCropped/MD585/0136/MD585_0136_autoAnnotate_03162016132938_consolidated.pkl /home/yuncong/CSHL_data_labelings_losslessAlignCropped/MD585/0136/\n",
      "mkdir /home/yuncong/CSHL_data_labelings_losslessAlignCropped/MD585/0137; scp yuncong@oasis-dm.sdsc.edu:/home/yuncong/csd395/CSHL_data_labelings_losslessAlignCropped/MD585/0137/MD585_0137_autoAnnotate_03162016133439_consolidated.pkl /home/yuncong/CSHL_data_labelings_losslessAlignCropped/MD585/0137/\n",
      "mkdir /home/yuncong/CSHL_data_labelings_losslessAlignCropped/MD585/0138; scp yuncong@oasis-dm.sdsc.edu:/home/yuncong/csd395/CSHL_data_labelings_losslessAlignCropped/MD585/0138/MD585_0138_autoAnnotate_03162016134125_consolidated.pkl /home/yuncong/CSHL_data_labelings_losslessAlignCropped/MD585/0138/\n",
      "mkdir /home/yuncong/CSHL_data_labelings_losslessAlignCropped/MD585/0139; scp yuncong@oasis-dm.sdsc.edu:/home/yuncong/csd395/CSHL_data_labelings_losslessAlignCropped/MD585/0139/MD585_0139_autoAnnotate_03162016134628_consolidated.pkl /home/yuncong/CSHL_data_labelings_losslessAlignCropped/MD585/0139/\n",
      "mkdir /home/yuncong/CSHL_data_labelings_losslessAlignCropped/MD585/0140; scp yuncong@oasis-dm.sdsc.edu:/home/yuncong/csd395/CSHL_data_labelings_losslessAlignCropped/MD585/0140/MD585_0140_autoAnnotate_03162016135203_consolidated.pkl /home/yuncong/CSHL_data_labelings_losslessAlignCropped/MD585/0140/\n",
      "mkdir /home/yuncong/CSHL_data_labelings_losslessAlignCropped/MD585/0141; scp yuncong@oasis-dm.sdsc.edu:/home/yuncong/csd395/CSHL_data_labelings_losslessAlignCropped/MD585/0141/MD585_0141_autoAnnotate_03162016135721_consolidated.pkl /home/yuncong/CSHL_data_labelings_losslessAlignCropped/MD585/0141/\n",
      "mkdir /home/yuncong/CSHL_data_labelings_losslessAlignCropped/MD585/0142; scp yuncong@oasis-dm.sdsc.edu:/home/yuncong/csd395/CSHL_data_labelings_losslessAlignCropped/MD585/0142/MD585_0142_autoAnnotate_03162016140225_consolidated.pkl /home/yuncong/CSHL_data_labelings_losslessAlignCropped/MD585/0142/\n",
      "mkdir /home/yuncong/CSHL_data_labelings_losslessAlignCropped/MD585/0143; scp yuncong@oasis-dm.sdsc.edu:/home/yuncong/csd395/CSHL_data_labelings_losslessAlignCropped/MD585/0143/MD585_0143_autoAnnotate_03162016140742_consolidated.pkl /home/yuncong/CSHL_data_labelings_losslessAlignCropped/MD585/0143/\n",
      "mkdir /home/yuncong/CSHL_data_labelings_losslessAlignCropped/MD585/0144; scp yuncong@oasis-dm.sdsc.edu:/home/yuncong/csd395/CSHL_data_labelings_losslessAlignCropped/MD585/0144/MD585_0144_autoAnnotate_03162016182700_consolidated.pkl /home/yuncong/CSHL_data_labelings_losslessAlignCropped/MD585/0144/\n",
      "mkdir /home/yuncong/CSHL_data_labelings_losslessAlignCropped/MD585/0145; scp yuncong@oasis-dm.sdsc.edu:/home/yuncong/csd395/CSHL_data_labelings_losslessAlignCropped/MD585/0145/MD585_0145_autoAnnotate_03162016142403_consolidated.pkl /home/yuncong/CSHL_data_labelings_losslessAlignCropped/MD585/0145/\n",
      "mkdir /home/yuncong/CSHL_data_labelings_losslessAlignCropped/MD585/0146; scp yuncong@oasis-dm.sdsc.edu:/home/yuncong/csd395/CSHL_data_labelings_losslessAlignCropped/MD585/0146/MD585_0146_autoAnnotate_03162016143036_consolidated.pkl /home/yuncong/CSHL_data_labelings_losslessAlignCropped/MD585/0146/\n",
      "mkdir /home/yuncong/CSHL_data_labelings_losslessAlignCropped/MD585/0147; scp yuncong@oasis-dm.sdsc.edu:/home/yuncong/csd395/CSHL_data_labelings_losslessAlignCropped/MD585/0147/MD585_0147_autoAnnotate_03162016143722_consolidated.pkl /home/yuncong/CSHL_data_labelings_losslessAlignCropped/MD585/0147/\n",
      "mkdir /home/yuncong/CSHL_data_labelings_losslessAlignCropped/MD585/0148; scp yuncong@oasis-dm.sdsc.edu:/home/yuncong/csd395/CSHL_data_labelings_losslessAlignCropped/MD585/0148/MD585_0148_autoAnnotate_03162016144331_consolidated.pkl /home/yuncong/CSHL_data_labelings_losslessAlignCropped/MD585/0148/\n",
      "mkdir /home/yuncong/CSHL_data_labelings_losslessAlignCropped/MD585/0149; scp yuncong@oasis-dm.sdsc.edu:/home/yuncong/csd395/CSHL_data_labelings_losslessAlignCropped/MD585/0149/MD585_0149_autoAnnotate_03162016144935_consolidated.pkl /home/yuncong/CSHL_data_labelings_losslessAlignCropped/MD585/0149/\n",
      "mkdir /home/yuncong/CSHL_data_labelings_losslessAlignCropped/MD585/0150; scp yuncong@oasis-dm.sdsc.edu:/home/yuncong/csd395/CSHL_data_labelings_losslessAlignCropped/MD585/0150/MD585_0150_autoAnnotate_03162016145559_consolidated.pkl /home/yuncong/CSHL_data_labelings_losslessAlignCropped/MD585/0150/\n",
      "mkdir /home/yuncong/CSHL_data_labelings_losslessAlignCropped/MD585/0151; scp yuncong@oasis-dm.sdsc.edu:/home/yuncong/csd395/CSHL_data_labelings_losslessAlignCropped/MD585/0151/MD585_0151_autoAnnotate_03162016150123_consolidated.pkl /home/yuncong/CSHL_data_labelings_losslessAlignCropped/MD585/0151/\n",
      "mkdir /home/yuncong/CSHL_data_labelings_losslessAlignCropped/MD585/0152; scp yuncong@oasis-dm.sdsc.edu:/home/yuncong/csd395/CSHL_data_labelings_losslessAlignCropped/MD585/0152/MD585_0152_autoAnnotate_03162016150757_consolidated.pkl /home/yuncong/CSHL_data_labelings_losslessAlignCropped/MD585/0152/\n",
      "mkdir /home/yuncong/CSHL_data_labelings_losslessAlignCropped/MD585/0153; scp yuncong@oasis-dm.sdsc.edu:/home/yuncong/csd395/CSHL_data_labelings_losslessAlignCropped/MD585/0153/MD585_0153_autoAnnotate_03162016151254_consolidated.pkl /home/yuncong/CSHL_data_labelings_losslessAlignCropped/MD585/0153/\n",
      "mkdir /home/yuncong/CSHL_data_labelings_losslessAlignCropped/MD585/0154; scp yuncong@oasis-dm.sdsc.edu:/home/yuncong/csd395/CSHL_data_labelings_losslessAlignCropped/MD585/0154/MD585_0154_autoAnnotate_03162016151822_consolidated.pkl /home/yuncong/CSHL_data_labelings_losslessAlignCropped/MD585/0154/\n",
      "mkdir /home/yuncong/CSHL_data_labelings_losslessAlignCropped/MD585/0155; scp yuncong@oasis-dm.sdsc.edu:/home/yuncong/csd395/CSHL_data_labelings_losslessAlignCropped/MD585/0155/MD585_0155_autoAnnotate_03162016152509_consolidated.pkl /home/yuncong/CSHL_data_labelings_losslessAlignCropped/MD585/0155/\n",
      "mkdir /home/yuncong/CSHL_data_labelings_losslessAlignCropped/MD585/0156; scp yuncong@oasis-dm.sdsc.edu:/home/yuncong/csd395/CSHL_data_labelings_losslessAlignCropped/MD585/0156/MD585_0156_autoAnnotate_03162016153043_consolidated.pkl /home/yuncong/CSHL_data_labelings_losslessAlignCropped/MD585/0156/\n",
      "mkdir /home/yuncong/CSHL_data_labelings_losslessAlignCropped/MD585/0157; scp yuncong@oasis-dm.sdsc.edu:/home/yuncong/csd395/CSHL_data_labelings_losslessAlignCropped/MD585/0157/MD585_0157_autoAnnotate_03162016153633_consolidated.pkl /home/yuncong/CSHL_data_labelings_losslessAlignCropped/MD585/0157/\n",
      "mkdir /home/yuncong/CSHL_data_labelings_losslessAlignCropped/MD585/0158; scp yuncong@oasis-dm.sdsc.edu:/home/yuncong/csd395/CSHL_data_labelings_losslessAlignCropped/MD585/0158/MD585_0158_autoAnnotate_03162016154046_consolidated.pkl /home/yuncong/CSHL_data_labelings_losslessAlignCropped/MD585/0158/\n",
      "mkdir /home/yuncong/CSHL_data_labelings_losslessAlignCropped/MD585/0159; scp yuncong@oasis-dm.sdsc.edu:/home/yuncong/csd395/CSHL_data_labelings_losslessAlignCropped/MD585/0159/MD585_0159_autoAnnotate_03162016154806_consolidated.pkl /home/yuncong/CSHL_data_labelings_losslessAlignCropped/MD585/0159/\n",
      "mkdir /home/yuncong/CSHL_data_labelings_losslessAlignCropped/MD585/0160; scp yuncong@oasis-dm.sdsc.edu:/home/yuncong/csd395/CSHL_data_labelings_losslessAlignCropped/MD585/0160/MD585_0160_autoAnnotate_03162016155405_consolidated.pkl /home/yuncong/CSHL_data_labelings_losslessAlignCropped/MD585/0160/\n",
      "mkdir /home/yuncong/CSHL_data_labelings_losslessAlignCropped/MD585/0161; scp yuncong@oasis-dm.sdsc.edu:/home/yuncong/csd395/CSHL_data_labelings_losslessAlignCropped/MD585/0161/MD585_0161_autoAnnotate_03162016160013_consolidated.pkl /home/yuncong/CSHL_data_labelings_losslessAlignCropped/MD585/0161/\n",
      "mkdir /home/yuncong/CSHL_data_labelings_losslessAlignCropped/MD585/0162; scp yuncong@oasis-dm.sdsc.edu:/home/yuncong/csd395/CSHL_data_labelings_losslessAlignCropped/MD585/0162/MD585_0162_autoAnnotate_03162016160601_consolidated.pkl /home/yuncong/CSHL_data_labelings_losslessAlignCropped/MD585/0162/\n",
      "mkdir /home/yuncong/CSHL_data_labelings_losslessAlignCropped/MD585/0163; scp yuncong@oasis-dm.sdsc.edu:/home/yuncong/csd395/CSHL_data_labelings_losslessAlignCropped/MD585/0163/MD585_0163_autoAnnotate_03162016161220_consolidated.pkl /home/yuncong/CSHL_data_labelings_losslessAlignCropped/MD585/0163/\n",
      "mkdir /home/yuncong/CSHL_data_labelings_losslessAlignCropped/MD585/0164; scp yuncong@oasis-dm.sdsc.edu:/home/yuncong/csd395/CSHL_data_labelings_losslessAlignCropped/MD585/0164/MD585_0164_autoAnnotate_03162016161902_consolidated.pkl /home/yuncong/CSHL_data_labelings_losslessAlignCropped/MD585/0164/\n",
      "mkdir /home/yuncong/CSHL_data_labelings_losslessAlignCropped/MD585/0165; scp yuncong@oasis-dm.sdsc.edu:/home/yuncong/csd395/CSHL_data_labelings_losslessAlignCropped/MD585/0165/MD585_0165_autoAnnotate_03162016162447_consolidated.pkl /home/yuncong/CSHL_data_labelings_losslessAlignCropped/MD585/0165/\n",
      "mkdir /home/yuncong/CSHL_data_labelings_losslessAlignCropped/MD585/0166; scp yuncong@oasis-dm.sdsc.edu:/home/yuncong/csd395/CSHL_data_labelings_losslessAlignCropped/MD585/0166/MD585_0166_autoAnnotate_03162016163028_consolidated.pkl /home/yuncong/CSHL_data_labelings_losslessAlignCropped/MD585/0166/\n",
      "mkdir /home/yuncong/CSHL_data_labelings_losslessAlignCropped/MD585/0167; scp yuncong@oasis-dm.sdsc.edu:/home/yuncong/csd395/CSHL_data_labelings_losslessAlignCropped/MD585/0167/MD585_0167_autoAnnotate_03162016163628_consolidated.pkl /home/yuncong/CSHL_data_labelings_losslessAlignCropped/MD585/0167/\n",
      "mkdir /home/yuncong/CSHL_data_labelings_losslessAlignCropped/MD585/0168; scp yuncong@oasis-dm.sdsc.edu:/home/yuncong/csd395/CSHL_data_labelings_losslessAlignCropped/MD585/0168/MD585_0168_autoAnnotate_03162016164127_consolidated.pkl /home/yuncong/CSHL_data_labelings_losslessAlignCropped/MD585/0168/\n",
      "mkdir /home/yuncong/CSHL_data_labelings_losslessAlignCropped/MD585/0169; scp yuncong@oasis-dm.sdsc.edu:/home/yuncong/csd395/CSHL_data_labelings_losslessAlignCropped/MD585/0169/MD585_0169_autoAnnotate_03162016164634_consolidated.pkl /home/yuncong/CSHL_data_labelings_losslessAlignCropped/MD585/0169/\n",
      "mkdir /home/yuncong/CSHL_data_labelings_losslessAlignCropped/MD585/0170; scp yuncong@oasis-dm.sdsc.edu:/home/yuncong/csd395/CSHL_data_labelings_losslessAlignCropped/MD585/0170/MD585_0170_autoAnnotate_03162016165245_consolidated.pkl /home/yuncong/CSHL_data_labelings_losslessAlignCropped/MD585/0170/\n",
      "mkdir /home/yuncong/CSHL_data_labelings_losslessAlignCropped/MD585/0171; scp yuncong@oasis-dm.sdsc.edu:/home/yuncong/csd395/CSHL_data_labelings_losslessAlignCropped/MD585/0171/MD585_0171_autoAnnotate_03162016165751_consolidated.pkl /home/yuncong/CSHL_data_labelings_losslessAlignCropped/MD585/0171/\n",
      "mkdir /home/yuncong/CSHL_data_labelings_losslessAlignCropped/MD585/0172; scp yuncong@oasis-dm.sdsc.edu:/home/yuncong/csd395/CSHL_data_labelings_losslessAlignCropped/MD585/0172/MD585_0172_autoAnnotate_03162016170427_consolidated.pkl /home/yuncong/CSHL_data_labelings_losslessAlignCropped/MD585/0172/\n",
      "mkdir /home/yuncong/CSHL_data_labelings_losslessAlignCropped/MD585/0173; scp yuncong@oasis-dm.sdsc.edu:/home/yuncong/csd395/CSHL_data_labelings_losslessAlignCropped/MD585/0173/MD585_0173_autoAnnotate_03162016171044_consolidated.pkl /home/yuncong/CSHL_data_labelings_losslessAlignCropped/MD585/0173/\n",
      "mkdir /home/yuncong/CSHL_data_labelings_losslessAlignCropped/MD585/0174; scp yuncong@oasis-dm.sdsc.edu:/home/yuncong/csd395/CSHL_data_labelings_losslessAlignCropped/MD585/0174/MD585_0174_autoAnnotate_03162016171752_consolidated.pkl /home/yuncong/CSHL_data_labelings_losslessAlignCropped/MD585/0174/\n",
      "mkdir /home/yuncong/CSHL_data_labelings_losslessAlignCropped/MD585/0175; scp yuncong@oasis-dm.sdsc.edu:/home/yuncong/csd395/CSHL_data_labelings_losslessAlignCropped/MD585/0175/MD585_0175_autoAnnotate_03162016172543_consolidated.pkl /home/yuncong/CSHL_data_labelings_losslessAlignCropped/MD585/0175/\n",
      "mkdir /home/yuncong/CSHL_data_labelings_losslessAlignCropped/MD585/0176; scp yuncong@oasis-dm.sdsc.edu:/home/yuncong/csd395/CSHL_data_labelings_losslessAlignCropped/MD585/0176/MD585_0176_autoAnnotate_03162016173211_consolidated.pkl /home/yuncong/CSHL_data_labelings_losslessAlignCropped/MD585/0176/\n",
      "mkdir /home/yuncong/CSHL_data_labelings_losslessAlignCropped/MD585/0177; scp yuncong@oasis-dm.sdsc.edu:/home/yuncong/csd395/CSHL_data_labelings_losslessAlignCropped/MD585/0177/MD585_0177_autoAnnotate_03162016173746_consolidated.pkl /home/yuncong/CSHL_data_labelings_losslessAlignCropped/MD585/0177/\n",
      "mkdir /home/yuncong/CSHL_data_labelings_losslessAlignCropped/MD585/0178; scp yuncong@oasis-dm.sdsc.edu:/home/yuncong/csd395/CSHL_data_labelings_losslessAlignCropped/MD585/0178/MD585_0178_autoAnnotate_03162016174415_consolidated.pkl /home/yuncong/CSHL_data_labelings_losslessAlignCropped/MD585/0178/\n",
      "mkdir /home/yuncong/CSHL_data_labelings_losslessAlignCropped/MD585/0179; scp yuncong@oasis-dm.sdsc.edu:/home/yuncong/csd395/CSHL_data_labelings_losslessAlignCropped/MD585/0179/MD585_0179_autoAnnotate_03162016174908_consolidated.pkl /home/yuncong/CSHL_data_labelings_losslessAlignCropped/MD585/0179/\n",
      "mkdir /home/yuncong/CSHL_data_labelings_losslessAlignCropped/MD585/0180; scp yuncong@oasis-dm.sdsc.edu:/home/yuncong/csd395/CSHL_data_labelings_losslessAlignCropped/MD585/0180/MD585_0180_autoAnnotate_03162016175533_consolidated.pkl /home/yuncong/CSHL_data_labelings_losslessAlignCropped/MD585/0180/\n",
      "mkdir /home/yuncong/CSHL_data_labelings_losslessAlignCropped/MD585/0181; scp yuncong@oasis-dm.sdsc.edu:/home/yuncong/csd395/CSHL_data_labelings_losslessAlignCropped/MD585/0181/MD585_0181_autoAnnotate_03162016180048_consolidated.pkl /home/yuncong/CSHL_data_labelings_losslessAlignCropped/MD585/0181/\n",
      "mkdir /home/yuncong/CSHL_data_labelings_losslessAlignCropped/MD585/0182; scp yuncong@oasis-dm.sdsc.edu:/home/yuncong/csd395/CSHL_data_labelings_losslessAlignCropped/MD585/0182/MD585_0182_autoAnnotate_03162016180647_consolidated.pkl /home/yuncong/CSHL_data_labelings_losslessAlignCropped/MD585/0182/\n",
      "mkdir /home/yuncong/CSHL_data_labelings_losslessAlignCropped/MD585/0183; scp yuncong@oasis-dm.sdsc.edu:/home/yuncong/csd395/CSHL_data_labelings_losslessAlignCropped/MD585/0183/MD585_0183_autoAnnotate_03162016181243_consolidated.pkl /home/yuncong/CSHL_data_labelings_losslessAlignCropped/MD585/0183/\n",
      "mkdir /home/yuncong/CSHL_data_labelings_losslessAlignCropped/MD585/0184; scp yuncong@oasis-dm.sdsc.edu:/home/yuncong/csd395/CSHL_data_labelings_losslessAlignCropped/MD585/0184/MD585_0184_autoAnnotate_03162016184859_consolidated.pkl /home/yuncong/CSHL_data_labelings_losslessAlignCropped/MD585/0184/\n",
      "mkdir /home/yuncong/CSHL_data_labelings_losslessAlignCropped/MD585/0185; scp yuncong@oasis-dm.sdsc.edu:/home/yuncong/csd395/CSHL_data_labelings_losslessAlignCropped/MD585/0185/MD585_0185_autoAnnotate_03162016185505_consolidated.pkl /home/yuncong/CSHL_data_labelings_losslessAlignCropped/MD585/0185/\n",
      "mkdir /home/yuncong/CSHL_data_labelings_losslessAlignCropped/MD585/0186; scp yuncong@oasis-dm.sdsc.edu:/home/yuncong/csd395/CSHL_data_labelings_losslessAlignCropped/MD585/0186/MD585_0186_autoAnnotate_03162016190202_consolidated.pkl /home/yuncong/CSHL_data_labelings_losslessAlignCropped/MD585/0186/\n",
      "mkdir /home/yuncong/CSHL_data_labelings_losslessAlignCropped/MD585/0187; scp yuncong@oasis-dm.sdsc.edu:/home/yuncong/csd395/CSHL_data_labelings_losslessAlignCropped/MD585/0187/MD585_0187_autoAnnotate_03162016190758_consolidated.pkl /home/yuncong/CSHL_data_labelings_losslessAlignCropped/MD585/0187/\n",
      "mkdir /home/yuncong/CSHL_data_labelings_losslessAlignCropped/MD585/0188; scp yuncong@oasis-dm.sdsc.edu:/home/yuncong/csd395/CSHL_data_labelings_losslessAlignCropped/MD585/0188/MD585_0188_autoAnnotate_03162016191323_consolidated.pkl /home/yuncong/CSHL_data_labelings_losslessAlignCropped/MD585/0188/\n",
      "mkdir /home/yuncong/CSHL_data_labelings_losslessAlignCropped/MD585/0189; scp yuncong@oasis-dm.sdsc.edu:/home/yuncong/csd395/CSHL_data_labelings_losslessAlignCropped/MD585/0189/MD585_0189_autoAnnotate_03162016191832_consolidated.pkl /home/yuncong/CSHL_data_labelings_losslessAlignCropped/MD585/0189/\n",
      "mkdir /home/yuncong/CSHL_data_labelings_losslessAlignCropped/MD585/0190; scp yuncong@oasis-dm.sdsc.edu:/home/yuncong/csd395/CSHL_data_labelings_losslessAlignCropped/MD585/0190/MD585_0190_autoAnnotate_03162016192350_consolidated.pkl /home/yuncong/CSHL_data_labelings_losslessAlignCropped/MD585/0190/\n",
      "mkdir /home/yuncong/CSHL_data_labelings_losslessAlignCropped/MD585/0191; scp yuncong@oasis-dm.sdsc.edu:/home/yuncong/csd395/CSHL_data_labelings_losslessAlignCropped/MD585/0191/MD585_0191_autoAnnotate_03162016193136_consolidated.pkl /home/yuncong/CSHL_data_labelings_losslessAlignCropped/MD585/0191/\n",
      "mkdir /home/yuncong/CSHL_data_labelings_losslessAlignCropped/MD585/0192; scp yuncong@oasis-dm.sdsc.edu:/home/yuncong/csd395/CSHL_data_labelings_losslessAlignCropped/MD585/0192/MD585_0192_autoAnnotate_03162016220211_consolidated.pkl /home/yuncong/CSHL_data_labelings_losslessAlignCropped/MD585/0192/\n",
      "mkdir /home/yuncong/CSHL_data_labelings_losslessAlignCropped/MD585/0193; scp yuncong@oasis-dm.sdsc.edu:/home/yuncong/csd395/CSHL_data_labelings_losslessAlignCropped/MD585/0193/MD585_0193_autoAnnotate_03162016220727_consolidated.pkl /home/yuncong/CSHL_data_labelings_losslessAlignCropped/MD585/0193/\n",
      "mkdir /home/yuncong/CSHL_data_labelings_losslessAlignCropped/MD585/0194; scp yuncong@oasis-dm.sdsc.edu:/home/yuncong/csd395/CSHL_data_labelings_losslessAlignCropped/MD585/0194/MD585_0194_autoAnnotate_03162016221257_consolidated.pkl /home/yuncong/CSHL_data_labelings_losslessAlignCropped/MD585/0194/\n",
      "mkdir /home/yuncong/CSHL_data_labelings_losslessAlignCropped/MD585/0195; scp yuncong@oasis-dm.sdsc.edu:/home/yuncong/csd395/CSHL_data_labelings_losslessAlignCropped/MD585/0195/MD585_0195_autoAnnotate_03162016221748_consolidated.pkl /home/yuncong/CSHL_data_labelings_losslessAlignCropped/MD585/0195/\n",
      "mkdir /home/yuncong/CSHL_data_labelings_losslessAlignCropped/MD585/0196; scp yuncong@oasis-dm.sdsc.edu:/home/yuncong/csd395/CSHL_data_labelings_losslessAlignCropped/MD585/0196/MD585_0196_autoAnnotate_03162016222252_consolidated.pkl /home/yuncong/CSHL_data_labelings_losslessAlignCropped/MD585/0196/\n",
      "mkdir /home/yuncong/CSHL_data_labelings_losslessAlignCropped/MD585/0197; scp yuncong@oasis-dm.sdsc.edu:/home/yuncong/csd395/CSHL_data_labelings_losslessAlignCropped/MD585/0197/MD585_0197_autoAnnotate_03162016222952_consolidated.pkl /home/yuncong/CSHL_data_labelings_losslessAlignCropped/MD585/0197/\n",
      "mkdir /home/yuncong/CSHL_data_labelings_losslessAlignCropped/MD585/0198; scp yuncong@oasis-dm.sdsc.edu:/home/yuncong/csd395/CSHL_data_labelings_losslessAlignCropped/MD585/0198/MD585_0198_autoAnnotate_03162016223619_consolidated.pkl /home/yuncong/CSHL_data_labelings_losslessAlignCropped/MD585/0198/\n",
      "mkdir /home/yuncong/CSHL_data_labelings_losslessAlignCropped/MD585/0199; scp yuncong@oasis-dm.sdsc.edu:/home/yuncong/csd395/CSHL_data_labelings_losslessAlignCropped/MD585/0199/MD585_0199_autoAnnotate_03162016224116_consolidated.pkl /home/yuncong/CSHL_data_labelings_losslessAlignCropped/MD585/0199/\n",
      "mkdir /home/yuncong/CSHL_data_labelings_losslessAlignCropped/MD585/0200; scp yuncong@oasis-dm.sdsc.edu:/home/yuncong/csd395/CSHL_data_labelings_losslessAlignCropped/MD585/0200/MD585_0200_autoAnnotate_03162016224650_consolidated.pkl /home/yuncong/CSHL_data_labelings_losslessAlignCropped/MD585/0200/\n",
      "mkdir /home/yuncong/CSHL_data_labelings_losslessAlignCropped/MD585/0201; scp yuncong@oasis-dm.sdsc.edu:/home/yuncong/csd395/CSHL_data_labelings_losslessAlignCropped/MD585/0201/MD585_0201_autoAnnotate_03162016225313_consolidated.pkl /home/yuncong/CSHL_data_labelings_losslessAlignCropped/MD585/0201/\n",
      "mkdir /home/yuncong/CSHL_data_labelings_losslessAlignCropped/MD585/0202; scp yuncong@oasis-dm.sdsc.edu:/home/yuncong/csd395/CSHL_data_labelings_losslessAlignCropped/MD585/0202/MD585_0202_autoAnnotate_03162016225933_consolidated.pkl /home/yuncong/CSHL_data_labelings_losslessAlignCropped/MD585/0202/\n",
      "mkdir /home/yuncong/CSHL_data_labelings_losslessAlignCropped/MD585/0203; scp yuncong@oasis-dm.sdsc.edu:/home/yuncong/csd395/CSHL_data_labelings_losslessAlignCropped/MD585/0203/MD585_0203_autoAnnotate_03162016230415_consolidated.pkl /home/yuncong/CSHL_data_labelings_losslessAlignCropped/MD585/0203/\n",
      "mkdir /home/yuncong/CSHL_data_labelings_losslessAlignCropped/MD585/0204; scp yuncong@oasis-dm.sdsc.edu:/home/yuncong/csd395/CSHL_data_labelings_losslessAlignCropped/MD585/0204/MD585_0204_autoAnnotate_03162016231013_consolidated.pkl /home/yuncong/CSHL_data_labelings_losslessAlignCropped/MD585/0204/\n",
      "mkdir /home/yuncong/CSHL_data_labelings_losslessAlignCropped/MD585/0205; scp yuncong@oasis-dm.sdsc.edu:/home/yuncong/csd395/CSHL_data_labelings_losslessAlignCropped/MD585/0205/MD585_0205_autoAnnotate_03162016231602_consolidated.pkl /home/yuncong/CSHL_data_labelings_losslessAlignCropped/MD585/0205/\n",
      "mkdir /home/yuncong/CSHL_data_labelings_losslessAlignCropped/MD585/0206; scp yuncong@oasis-dm.sdsc.edu:/home/yuncong/csd395/CSHL_data_labelings_losslessAlignCropped/MD585/0206/MD585_0206_autoAnnotate_03162016232149_consolidated.pkl /home/yuncong/CSHL_data_labelings_losslessAlignCropped/MD585/0206/\n",
      "mkdir /home/yuncong/CSHL_data_labelings_losslessAlignCropped/MD585/0207; scp yuncong@oasis-dm.sdsc.edu:/home/yuncong/csd395/CSHL_data_labelings_losslessAlignCropped/MD585/0207/MD585_0207_autoAnnotate_03162016232821_consolidated.pkl /home/yuncong/CSHL_data_labelings_losslessAlignCropped/MD585/0207/\n",
      "mkdir /home/yuncong/CSHL_data_labelings_losslessAlignCropped/MD585/0208; scp yuncong@oasis-dm.sdsc.edu:/home/yuncong/csd395/CSHL_data_labelings_losslessAlignCropped/MD585/0208/MD585_0208_autoAnnotate_03162016233341_consolidated.pkl /home/yuncong/CSHL_data_labelings_losslessAlignCropped/MD585/0208/\n",
      "mkdir /home/yuncong/CSHL_data_labelings_losslessAlignCropped/MD585/0209; scp yuncong@oasis-dm.sdsc.edu:/home/yuncong/csd395/CSHL_data_labelings_losslessAlignCropped/MD585/0209/MD585_0209_autoAnnotate_03162016234008_consolidated.pkl /home/yuncong/CSHL_data_labelings_losslessAlignCropped/MD585/0209/\n",
      "mkdir /home/yuncong/CSHL_data_labelings_losslessAlignCropped/MD585/0210; scp yuncong@oasis-dm.sdsc.edu:/home/yuncong/csd395/CSHL_data_labelings_losslessAlignCropped/MD585/0210/MD585_0210_autoAnnotate_03162016234701_consolidated.pkl /home/yuncong/CSHL_data_labelings_losslessAlignCropped/MD585/0210/\n",
      "mkdir /home/yuncong/CSHL_data_labelings_losslessAlignCropped/MD585/0211; scp yuncong@oasis-dm.sdsc.edu:/home/yuncong/csd395/CSHL_data_labelings_losslessAlignCropped/MD585/0211/MD585_0211_autoAnnotate_03162016235314_consolidated.pkl /home/yuncong/CSHL_data_labelings_losslessAlignCropped/MD585/0211/\n",
      "mkdir /home/yuncong/CSHL_data_labelings_losslessAlignCropped/MD585/0212; scp yuncong@oasis-dm.sdsc.edu:/home/yuncong/csd395/CSHL_data_labelings_losslessAlignCropped/MD585/0212/MD585_0212_autoAnnotate_03162016235844_consolidated.pkl /home/yuncong/CSHL_data_labelings_losslessAlignCropped/MD585/0212/\n",
      "mkdir /home/yuncong/CSHL_data_labelings_losslessAlignCropped/MD585/0213; scp yuncong@oasis-dm.sdsc.edu:/home/yuncong/csd395/CSHL_data_labelings_losslessAlignCropped/MD585/0213/MD585_0213_autoAnnotate_03172016000310_consolidated.pkl /home/yuncong/CSHL_data_labelings_losslessAlignCropped/MD585/0213/\n",
      "mkdir /home/yuncong/CSHL_data_labelings_losslessAlignCropped/MD585/0214; scp yuncong@oasis-dm.sdsc.edu:/home/yuncong/csd395/CSHL_data_labelings_losslessAlignCropped/MD585/0214/MD585_0214_autoAnnotate_03172016000754_consolidated.pkl /home/yuncong/CSHL_data_labelings_losslessAlignCropped/MD585/0214/\n",
      "mkdir /home/yuncong/CSHL_data_labelings_losslessAlignCropped/MD585/0215; scp yuncong@oasis-dm.sdsc.edu:/home/yuncong/csd395/CSHL_data_labelings_losslessAlignCropped/MD585/0215/MD585_0215_autoAnnotate_03172016001154_consolidated.pkl /home/yuncong/CSHL_data_labelings_losslessAlignCropped/MD585/0215/\n",
      "mkdir /home/yuncong/CSHL_data_labelings_losslessAlignCropped/MD585/0216; scp yuncong@oasis-dm.sdsc.edu:/home/yuncong/csd395/CSHL_data_labelings_losslessAlignCropped/MD585/0216/MD585_0216_autoAnnotate_03172016001534_consolidated.pkl /home/yuncong/CSHL_data_labelings_losslessAlignCropped/MD585/0216/\n",
      "mkdir /home/yuncong/CSHL_data_labelings_losslessAlignCropped/MD585/0217; scp yuncong@oasis-dm.sdsc.edu:/home/yuncong/csd395/CSHL_data_labelings_losslessAlignCropped/MD585/0217/MD585_0217_autoAnnotate_03172016002030_consolidated.pkl /home/yuncong/CSHL_data_labelings_losslessAlignCropped/MD585/0217/\n",
      "mkdir /home/yuncong/CSHL_data_labelings_losslessAlignCropped/MD585/0218; scp yuncong@oasis-dm.sdsc.edu:/home/yuncong/csd395/CSHL_data_labelings_losslessAlignCropped/MD585/0218/MD585_0218_autoAnnotate_03172016002709_consolidated.pkl /home/yuncong/CSHL_data_labelings_losslessAlignCropped/MD585/0218/\n",
      "mkdir /home/yuncong/CSHL_data_labelings_losslessAlignCropped/MD585/0219; scp yuncong@oasis-dm.sdsc.edu:/home/yuncong/csd395/CSHL_data_labelings_losslessAlignCropped/MD585/0219/MD585_0219_autoAnnotate_03172016003113_consolidated.pkl /home/yuncong/CSHL_data_labelings_losslessAlignCropped/MD585/0219/\n",
      "mkdir /home/yuncong/CSHL_data_labelings_losslessAlignCropped/MD585/0220; scp yuncong@oasis-dm.sdsc.edu:/home/yuncong/csd395/CSHL_data_labelings_losslessAlignCropped/MD585/0220/MD585_0220_autoAnnotate_03172016003438_consolidated.pkl /home/yuncong/CSHL_data_labelings_losslessAlignCropped/MD585/0220/\n",
      "mkdir /home/yuncong/CSHL_data_labelings_losslessAlignCropped/MD585/0221; scp yuncong@oasis-dm.sdsc.edu:/home/yuncong/csd395/CSHL_data_labelings_losslessAlignCropped/MD585/0221/MD585_0221_autoAnnotate_03172016003841_consolidated.pkl /home/yuncong/CSHL_data_labelings_losslessAlignCropped/MD585/0221/\n",
      "mkdir /home/yuncong/CSHL_data_labelings_losslessAlignCropped/MD585/0222; scp yuncong@oasis-dm.sdsc.edu:/home/yuncong/csd395/CSHL_data_labelings_losslessAlignCropped/MD585/0222/MD585_0222_autoAnnotate_03172016004359_consolidated.pkl /home/yuncong/CSHL_data_labelings_losslessAlignCropped/MD585/0222/\n",
      "mkdir /home/yuncong/CSHL_data_labelings_losslessAlignCropped/MD585/0223; scp yuncong@oasis-dm.sdsc.edu:/home/yuncong/csd395/CSHL_data_labelings_losslessAlignCropped/MD585/0223/MD585_0223_autoAnnotate_03172016005045_consolidated.pkl /home/yuncong/CSHL_data_labelings_losslessAlignCropped/MD585/0223/\n",
      "mkdir /home/yuncong/CSHL_data_labelings_losslessAlignCropped/MD585/0224; scp yuncong@oasis-dm.sdsc.edu:/home/yuncong/csd395/CSHL_data_labelings_losslessAlignCropped/MD585/0224/MD585_0224_autoAnnotate_03172016005656_consolidated.pkl /home/yuncong/CSHL_data_labelings_losslessAlignCropped/MD585/0224/\n",
      "mkdir /home/yuncong/CSHL_data_labelings_losslessAlignCropped/MD585/0225; scp yuncong@oasis-dm.sdsc.edu:/home/yuncong/csd395/CSHL_data_labelings_losslessAlignCropped/MD585/0225/MD585_0225_autoAnnotate_03172016010252_consolidated.pkl /home/yuncong/CSHL_data_labelings_losslessAlignCropped/MD585/0225/\n",
      "mkdir /home/yuncong/CSHL_data_labelings_losslessAlignCropped/MD585/0226; scp yuncong@oasis-dm.sdsc.edu:/home/yuncong/csd395/CSHL_data_labelings_losslessAlignCropped/MD585/0226/MD585_0226_autoAnnotate_03172016010652_consolidated.pkl /home/yuncong/CSHL_data_labelings_losslessAlignCropped/MD585/0226/\n",
      "mkdir /home/yuncong/CSHL_data_labelings_losslessAlignCropped/MD585/0227; scp yuncong@oasis-dm.sdsc.edu:/home/yuncong/csd395/CSHL_data_labelings_losslessAlignCropped/MD585/0227/MD585_0227_autoAnnotate_03172016011146_consolidated.pkl /home/yuncong/CSHL_data_labelings_losslessAlignCropped/MD585/0227/\n",
      "mkdir /home/yuncong/CSHL_data_labelings_losslessAlignCropped/MD585/0228; scp yuncong@oasis-dm.sdsc.edu:/home/yuncong/csd395/CSHL_data_labelings_losslessAlignCropped/MD585/0228/MD585_0228_autoAnnotate_03172016011559_consolidated.pkl /home/yuncong/CSHL_data_labelings_losslessAlignCropped/MD585/0228/\n",
      "mkdir /home/yuncong/CSHL_data_labelings_losslessAlignCropped/MD585/0229; scp yuncong@oasis-dm.sdsc.edu:/home/yuncong/csd395/CSHL_data_labelings_losslessAlignCropped/MD585/0229/MD585_0229_autoAnnotate_03172016012156_consolidated.pkl /home/yuncong/CSHL_data_labelings_losslessAlignCropped/MD585/0229/\n",
      "mkdir /home/yuncong/CSHL_data_labelings_losslessAlignCropped/MD585/0230; scp yuncong@oasis-dm.sdsc.edu:/home/yuncong/csd395/CSHL_data_labelings_losslessAlignCropped/MD585/0230/MD585_0230_autoAnnotate_03172016012801_consolidated.pkl /home/yuncong/CSHL_data_labelings_losslessAlignCropped/MD585/0230/\n",
      "mkdir /home/yuncong/CSHL_data_labelings_losslessAlignCropped/MD585/0231; scp yuncong@oasis-dm.sdsc.edu:/home/yuncong/csd395/CSHL_data_labelings_losslessAlignCropped/MD585/0231/MD585_0231_autoAnnotate_03172016013259_consolidated.pkl /home/yuncong/CSHL_data_labelings_losslessAlignCropped/MD585/0231/\n",
      "mkdir /home/yuncong/CSHL_data_labelings_losslessAlignCropped/MD585/0232; scp yuncong@oasis-dm.sdsc.edu:/home/yuncong/csd395/CSHL_data_labelings_losslessAlignCropped/MD585/0232/MD585_0232_autoAnnotate_03172016013808_consolidated.pkl /home/yuncong/CSHL_data_labelings_losslessAlignCropped/MD585/0232/\n",
      "mkdir /home/yuncong/CSHL_data_labelings_losslessAlignCropped/MD585/0233; scp yuncong@oasis-dm.sdsc.edu:/home/yuncong/csd395/CSHL_data_labelings_losslessAlignCropped/MD585/0233/MD585_0233_autoAnnotate_03172016014339_consolidated.pkl /home/yuncong/CSHL_data_labelings_losslessAlignCropped/MD585/0233/\n",
      "mkdir /home/yuncong/CSHL_data_labelings_losslessAlignCropped/MD585/0234; scp yuncong@oasis-dm.sdsc.edu:/home/yuncong/csd395/CSHL_data_labelings_losslessAlignCropped/MD585/0234/MD585_0234_autoAnnotate_03172016014747_consolidated.pkl /home/yuncong/CSHL_data_labelings_losslessAlignCropped/MD585/0234/\n",
      "mkdir /home/yuncong/CSHL_data_labelings_losslessAlignCropped/MD585/0235; scp yuncong@oasis-dm.sdsc.edu:/home/yuncong/csd395/CSHL_data_labelings_losslessAlignCropped/MD585/0235/MD585_0235_autoAnnotate_03172016015741_consolidated.pkl /home/yuncong/CSHL_data_labelings_losslessAlignCropped/MD585/0235/\n",
      "mkdir /home/yuncong/CSHL_data_labelings_losslessAlignCropped/MD585/0236; scp yuncong@oasis-dm.sdsc.edu:/home/yuncong/csd395/CSHL_data_labelings_losslessAlignCropped/MD585/0236/MD585_0236_autoAnnotate_03172016020026_consolidated.pkl /home/yuncong/CSHL_data_labelings_losslessAlignCropped/MD585/0236/\n",
      "mkdir /home/yuncong/CSHL_data_labelings_losslessAlignCropped/MD585/0237; scp yuncong@oasis-dm.sdsc.edu:/home/yuncong/csd395/CSHL_data_labelings_losslessAlignCropped/MD585/0237/MD585_0237_autoAnnotate_03172016020338_consolidated.pkl /home/yuncong/CSHL_data_labelings_losslessAlignCropped/MD585/0237/\n",
      "mkdir /home/yuncong/CSHL_data_labelings_losslessAlignCropped/MD585/0238; scp yuncong@oasis-dm.sdsc.edu:/home/yuncong/csd395/CSHL_data_labelings_losslessAlignCropped/MD585/0238/MD585_0238_autoAnnotate_03172016020623_consolidated.pkl /home/yuncong/CSHL_data_labelings_losslessAlignCropped/MD585/0238/\n",
      "mkdir /home/yuncong/CSHL_data_labelings_losslessAlignCropped/MD585/0239; scp yuncong@oasis-dm.sdsc.edu:/home/yuncong/csd395/CSHL_data_labelings_losslessAlignCropped/MD585/0239/MD585_0239_autoAnnotate_03172016020911_consolidated.pkl /home/yuncong/CSHL_data_labelings_losslessAlignCropped/MD585/0239/\n",
      "mkdir /home/yuncong/CSHL_data_labelings_losslessAlignCropped/MD585/0240; scp yuncong@oasis-dm.sdsc.edu:/home/yuncong/csd395/CSHL_data_labelings_losslessAlignCropped/MD585/0240/MD585_0240_autoAnnotate_03172016021117_consolidated.pkl /home/yuncong/CSHL_data_labelings_losslessAlignCropped/MD585/0240/\n",
      "mkdir /home/yuncong/CSHL_data_labelings_losslessAlignCropped/MD585/0241; scp yuncong@oasis-dm.sdsc.edu:/home/yuncong/csd395/CSHL_data_labelings_losslessAlignCropped/MD585/0241/MD585_0241_autoAnnotate_03172016021639_consolidated.pkl /home/yuncong/CSHL_data_labelings_losslessAlignCropped/MD585/0241/\n",
      "mkdir /home/yuncong/CSHL_data_labelings_losslessAlignCropped/MD585/0242; scp yuncong@oasis-dm.sdsc.edu:/home/yuncong/csd395/CSHL_data_labelings_losslessAlignCropped/MD585/0242/MD585_0242_autoAnnotate_03172016021920_consolidated.pkl /home/yuncong/CSHL_data_labelings_losslessAlignCropped/MD585/0242/\n",
      "mkdir /home/yuncong/CSHL_data_labelings_losslessAlignCropped/MD585/0243; scp yuncong@oasis-dm.sdsc.edu:/home/yuncong/csd395/CSHL_data_labelings_losslessAlignCropped/MD585/0243/MD585_0243_autoAnnotate_03172016022351_consolidated.pkl /home/yuncong/CSHL_data_labelings_losslessAlignCropped/MD585/0243/\n",
      "mkdir /home/yuncong/CSHL_data_labelings_losslessAlignCropped/MD585/0244; scp yuncong@oasis-dm.sdsc.edu:/home/yuncong/csd395/CSHL_data_labelings_losslessAlignCropped/MD585/0244/MD585_0244_autoAnnotate_03172016022722_consolidated.pkl /home/yuncong/CSHL_data_labelings_losslessAlignCropped/MD585/0244/\n",
      "mkdir /home/yuncong/CSHL_data_labelings_losslessAlignCropped/MD585/0245; scp yuncong@oasis-dm.sdsc.edu:/home/yuncong/csd395/CSHL_data_labelings_losslessAlignCropped/MD585/0245/MD585_0245_autoAnnotate_03172016023108_consolidated.pkl /home/yuncong/CSHL_data_labelings_losslessAlignCropped/MD585/0245/\n",
      "mkdir /home/yuncong/CSHL_data_labelings_losslessAlignCropped/MD585/0246; scp yuncong@oasis-dm.sdsc.edu:/home/yuncong/csd395/CSHL_data_labelings_losslessAlignCropped/MD585/0246/MD585_0246_autoAnnotate_03172016023432_consolidated.pkl /home/yuncong/CSHL_data_labelings_losslessAlignCropped/MD585/0246/\n",
      "mkdir /home/yuncong/CSHL_data_labelings_losslessAlignCropped/MD585/0247; scp yuncong@oasis-dm.sdsc.edu:/home/yuncong/csd395/CSHL_data_labelings_losslessAlignCropped/MD585/0247/MD585_0247_autoAnnotate_03172016023902_consolidated.pkl /home/yuncong/CSHL_data_labelings_losslessAlignCropped/MD585/0247/\n",
      "mkdir /home/yuncong/CSHL_data_labelings_losslessAlignCropped/MD585/0248; scp yuncong@oasis-dm.sdsc.edu:/home/yuncong/csd395/CSHL_data_labelings_losslessAlignCropped/MD585/0248/MD585_0248_autoAnnotate_03172016024242_consolidated.pkl /home/yuncong/CSHL_data_labelings_losslessAlignCropped/MD585/0248/\n",
      "mkdir /home/yuncong/CSHL_data_labelings_losslessAlignCropped/MD585/0249; scp yuncong@oasis-dm.sdsc.edu:/home/yuncong/csd395/CSHL_data_labelings_losslessAlignCropped/MD585/0249/MD585_0249_autoAnnotate_03172016024658_consolidated.pkl /home/yuncong/CSHL_data_labelings_losslessAlignCropped/MD585/0249/\n",
      "mkdir /home/yuncong/CSHL_data_labelings_losslessAlignCropped/MD585/0250; scp yuncong@oasis-dm.sdsc.edu:/home/yuncong/csd395/CSHL_data_labelings_losslessAlignCropped/MD585/0250/MD585_0250_autoAnnotate_03172016024952_consolidated.pkl /home/yuncong/CSHL_data_labelings_losslessAlignCropped/MD585/0250/\n",
      "mkdir /home/yuncong/CSHL_data_labelings_losslessAlignCropped/MD585/0251; scp yuncong@oasis-dm.sdsc.edu:/home/yuncong/csd395/CSHL_data_labelings_losslessAlignCropped/MD585/0251/MD585_0251_autoAnnotate_03172016025307_consolidated.pkl /home/yuncong/CSHL_data_labelings_losslessAlignCropped/MD585/0251/\n",
      "mkdir /home/yuncong/CSHL_data_labelings_losslessAlignCropped/MD585/0252; scp yuncong@oasis-dm.sdsc.edu:/home/yuncong/csd395/CSHL_data_labelings_losslessAlignCropped/MD585/0252/MD585_0252_autoAnnotate_03172016025613_consolidated.pkl /home/yuncong/CSHL_data_labelings_losslessAlignCropped/MD585/0252/\n",
      "mkdir /home/yuncong/CSHL_data_labelings_losslessAlignCropped/MD585/0253; scp yuncong@oasis-dm.sdsc.edu:/home/yuncong/csd395/CSHL_data_labelings_losslessAlignCropped/MD585/0253/MD585_0253_autoAnnotate_03172016025847_consolidated.pkl /home/yuncong/CSHL_data_labelings_losslessAlignCropped/MD585/0253/\n",
      "mkdir /home/yuncong/CSHL_data_labelings_losslessAlignCropped/MD585/0254; scp yuncong@oasis-dm.sdsc.edu:/home/yuncong/csd395/CSHL_data_labelings_losslessAlignCropped/MD585/0254/MD585_0254_autoAnnotate_03172016031929_consolidated.pkl /home/yuncong/CSHL_data_labelings_losslessAlignCropped/MD585/0254/\n",
      "mkdir /home/yuncong/CSHL_data_labelings_losslessAlignCropped/MD585/0255; scp yuncong@oasis-dm.sdsc.edu:/home/yuncong/csd395/CSHL_data_labelings_losslessAlignCropped/MD585/0255/MD585_0255_autoAnnotate_03172016032253_consolidated.pkl /home/yuncong/CSHL_data_labelings_losslessAlignCropped/MD585/0255/\n",
      "mkdir /home/yuncong/CSHL_data_labelings_losslessAlignCropped/MD585/0256; scp yuncong@oasis-dm.sdsc.edu:/home/yuncong/csd395/CSHL_data_labelings_losslessAlignCropped/MD585/0256/MD585_0256_autoAnnotate_03172016032630_consolidated.pkl /home/yuncong/CSHL_data_labelings_losslessAlignCropped/MD585/0256/\n",
      "mkdir /home/yuncong/CSHL_data_labelings_losslessAlignCropped/MD585/0257; scp yuncong@oasis-dm.sdsc.edu:/home/yuncong/csd395/CSHL_data_labelings_losslessAlignCropped/MD585/0257/MD585_0257_autoAnnotate_03172016032857_consolidated.pkl /home/yuncong/CSHL_data_labelings_losslessAlignCropped/MD585/0257/\n",
      "mkdir /home/yuncong/CSHL_data_labelings_losslessAlignCropped/MD585/0258; scp yuncong@oasis-dm.sdsc.edu:/home/yuncong/csd395/CSHL_data_labelings_losslessAlignCropped/MD585/0258/MD585_0258_autoAnnotate_03172016033150_consolidated.pkl /home/yuncong/CSHL_data_labelings_losslessAlignCropped/MD585/0258/\n",
      "mkdir /home/yuncong/CSHL_data_labelings_losslessAlignCropped/MD585/0259; scp yuncong@oasis-dm.sdsc.edu:/home/yuncong/csd395/CSHL_data_labelings_losslessAlignCropped/MD585/0259/MD585_0259_autoAnnotate_03172016033613_consolidated.pkl /home/yuncong/CSHL_data_labelings_losslessAlignCropped/MD585/0259/\n",
      "mkdir /home/yuncong/CSHL_data_labelings_losslessAlignCropped/MD585/0260; scp yuncong@oasis-dm.sdsc.edu:/home/yuncong/csd395/CSHL_data_labelings_losslessAlignCropped/MD585/0260/MD585_0260_autoAnnotate_03172016033834_consolidated.pkl /home/yuncong/CSHL_data_labelings_losslessAlignCropped/MD585/0260/\n",
      "mkdir /home/yuncong/CSHL_data_labelings_losslessAlignCropped/MD585/0261; scp yuncong@oasis-dm.sdsc.edu:/home/yuncong/csd395/CSHL_data_labelings_losslessAlignCropped/MD585/0261/MD585_0261_autoAnnotate_03172016033852_consolidated.pkl /home/yuncong/CSHL_data_labelings_losslessAlignCropped/MD585/0261/\n",
      "mkdir /home/yuncong/CSHL_data_labelings_losslessAlignCropped/MD585/0262; scp yuncong@oasis-dm.sdsc.edu:/home/yuncong/csd395/CSHL_data_labelings_losslessAlignCropped/MD585/0262/MD585_0262_autoAnnotate_03172016034115_consolidated.pkl /home/yuncong/CSHL_data_labelings_losslessAlignCropped/MD585/0262/\n",
      "mkdir /home/yuncong/CSHL_data_labelings_losslessAlignCropped/MD585/0263; scp yuncong@oasis-dm.sdsc.edu:/home/yuncong/csd395/CSHL_data_labelings_losslessAlignCropped/MD585/0263/MD585_0263_autoAnnotate_03172016034407_consolidated.pkl /home/yuncong/CSHL_data_labelings_losslessAlignCropped/MD585/0263/\n",
      "mkdir /home/yuncong/CSHL_data_labelings_losslessAlignCropped/MD585/0264; scp yuncong@oasis-dm.sdsc.edu:/home/yuncong/csd395/CSHL_data_labelings_losslessAlignCropped/MD585/0264/MD585_0264_autoAnnotate_03172016034540_consolidated.pkl /home/yuncong/CSHL_data_labelings_losslessAlignCropped/MD585/0264/\n",
      "mkdir /home/yuncong/CSHL_data_labelings_losslessAlignCropped/MD585/0265; scp yuncong@oasis-dm.sdsc.edu:/home/yuncong/csd395/CSHL_data_labelings_losslessAlignCropped/MD585/0265/MD585_0265_autoAnnotate_03172016034822_consolidated.pkl /home/yuncong/CSHL_data_labelings_losslessAlignCropped/MD585/0265/\n",
      "mkdir /home/yuncong/CSHL_data_labelings_losslessAlignCropped/MD585/0266; scp yuncong@oasis-dm.sdsc.edu:/home/yuncong/csd395/CSHL_data_labelings_losslessAlignCropped/MD585/0266/MD585_0266_autoAnnotate_03172016035116_consolidated.pkl /home/yuncong/CSHL_data_labelings_losslessAlignCropped/MD585/0266/\n",
      "mkdir /home/yuncong/CSHL_data_labelings_losslessAlignCropped/MD585/0267; scp yuncong@oasis-dm.sdsc.edu:/home/yuncong/csd395/CSHL_data_labelings_losslessAlignCropped/MD585/0267/MD585_0267_autoAnnotate_03172016035454_consolidated.pkl /home/yuncong/CSHL_data_labelings_losslessAlignCropped/MD585/0267/\n",
      "mkdir /home/yuncong/CSHL_data_labelings_losslessAlignCropped/MD585/0268; scp yuncong@oasis-dm.sdsc.edu:/home/yuncong/csd395/CSHL_data_labelings_losslessAlignCropped/MD585/0268/MD585_0268_autoAnnotate_03172016035723_consolidated.pkl /home/yuncong/CSHL_data_labelings_losslessAlignCropped/MD585/0268/\n",
      "mkdir /home/yuncong/CSHL_data_labelings_losslessAlignCropped/MD585/0269; scp yuncong@oasis-dm.sdsc.edu:/home/yuncong/csd395/CSHL_data_labelings_losslessAlignCropped/MD585/0269/MD585_0269_autoAnnotate_03172016040047_consolidated.pkl /home/yuncong/CSHL_data_labelings_losslessAlignCropped/MD585/0269/\n",
      "mkdir /home/yuncong/CSHL_data_labelings_losslessAlignCropped/MD585/0270; scp yuncong@oasis-dm.sdsc.edu:/home/yuncong/csd395/CSHL_data_labelings_losslessAlignCropped/MD585/0270/MD585_0270_autoAnnotate_03172016040332_consolidated.pkl /home/yuncong/CSHL_data_labelings_losslessAlignCropped/MD585/0270/\n",
      "mkdir /home/yuncong/CSHL_data_labelings_losslessAlignCropped/MD585/0271; scp yuncong@oasis-dm.sdsc.edu:/home/yuncong/csd395/CSHL_data_labelings_losslessAlignCropped/MD585/0271/MD585_0271_autoAnnotate_03172016040642_consolidated.pkl /home/yuncong/CSHL_data_labelings_losslessAlignCropped/MD585/0271/\n",
      "mkdir /home/yuncong/CSHL_data_labelings_losslessAlignCropped/MD585/0272; scp yuncong@oasis-dm.sdsc.edu:/home/yuncong/csd395/CSHL_data_labelings_losslessAlignCropped/MD585/0272/MD585_0272_autoAnnotate_03172016040932_consolidated.pkl /home/yuncong/CSHL_data_labelings_losslessAlignCropped/MD585/0272/\n",
      "mkdir /home/yuncong/CSHL_data_labelings_losslessAlignCropped/MD585/0273; scp yuncong@oasis-dm.sdsc.edu:/home/yuncong/csd395/CSHL_data_labelings_losslessAlignCropped/MD585/0273/MD585_0273_autoAnnotate_03172016041312_consolidated.pkl /home/yuncong/CSHL_data_labelings_losslessAlignCropped/MD585/0273/\n",
      "mkdir /home/yuncong/CSHL_data_labelings_losslessAlignCropped/MD585/0274; scp yuncong@oasis-dm.sdsc.edu:/home/yuncong/csd395/CSHL_data_labelings_losslessAlignCropped/MD585/0274/MD585_0274_autoAnnotate_03172016041707_consolidated.pkl /home/yuncong/CSHL_data_labelings_losslessAlignCropped/MD585/0274/\n",
      "mkdir /home/yuncong/CSHL_data_labelings_losslessAlignCropped/MD585/0275; scp yuncong@oasis-dm.sdsc.edu:/home/yuncong/csd395/CSHL_data_labelings_losslessAlignCropped/MD585/0275/MD585_0275_autoAnnotate_03172016042046_consolidated.pkl /home/yuncong/CSHL_data_labelings_losslessAlignCropped/MD585/0275/\n",
      "mkdir /home/yuncong/CSHL_data_labelings_losslessAlignCropped/MD585/0276; scp yuncong@oasis-dm.sdsc.edu:/home/yuncong/csd395/CSHL_data_labelings_losslessAlignCropped/MD585/0276/MD585_0276_autoAnnotate_03172016042555_consolidated.pkl /home/yuncong/CSHL_data_labelings_losslessAlignCropped/MD585/0276/\n",
      "mkdir /home/yuncong/CSHL_data_labelings_losslessAlignCropped/MD585/0277; scp yuncong@oasis-dm.sdsc.edu:/home/yuncong/csd395/CSHL_data_labelings_losslessAlignCropped/MD585/0277/MD585_0277_autoAnnotate_03172016043056_consolidated.pkl /home/yuncong/CSHL_data_labelings_losslessAlignCropped/MD585/0277/\n",
      "mkdir /home/yuncong/CSHL_data_labelings_losslessAlignCropped/MD585/0278; scp yuncong@oasis-dm.sdsc.edu:/home/yuncong/csd395/CSHL_data_labelings_losslessAlignCropped/MD585/0278/MD585_0278_autoAnnotate_03172016043444_consolidated.pkl /home/yuncong/CSHL_data_labelings_losslessAlignCropped/MD585/0278/\n",
      "mkdir /home/yuncong/CSHL_data_labelings_losslessAlignCropped/MD585/0279; scp yuncong@oasis-dm.sdsc.edu:/home/yuncong/csd395/CSHL_data_labelings_losslessAlignCropped/MD585/0279/MD585_0279_autoAnnotate_03172016043820_consolidated.pkl /home/yuncong/CSHL_data_labelings_losslessAlignCropped/MD585/0279/\n",
      "mkdir /home/yuncong/CSHL_data_labelings_losslessAlignCropped/MD585/0280; scp yuncong@oasis-dm.sdsc.edu:/home/yuncong/csd395/CSHL_data_labelings_losslessAlignCropped/MD585/0280/MD585_0280_autoAnnotate_03172016044250_consolidated.pkl /home/yuncong/CSHL_data_labelings_losslessAlignCropped/MD585/0280/\n",
      "mkdir /home/yuncong/CSHL_data_labelings_losslessAlignCropped/MD585/0281; scp yuncong@oasis-dm.sdsc.edu:/home/yuncong/csd395/CSHL_data_labelings_losslessAlignCropped/MD585/0281/MD585_0281_autoAnnotate_03172016044640_consolidated.pkl /home/yuncong/CSHL_data_labelings_losslessAlignCropped/MD585/0281/\n",
      "mkdir /home/yuncong/CSHL_data_labelings_losslessAlignCropped/MD585/0282; scp yuncong@oasis-dm.sdsc.edu:/home/yuncong/csd395/CSHL_data_labelings_losslessAlignCropped/MD585/0282/MD585_0282_autoAnnotate_03172016045016_consolidated.pkl /home/yuncong/CSHL_data_labelings_losslessAlignCropped/MD585/0282/\n",
      "mkdir /home/yuncong/CSHL_data_labelings_losslessAlignCropped/MD585/0283; scp yuncong@oasis-dm.sdsc.edu:/home/yuncong/csd395/CSHL_data_labelings_losslessAlignCropped/MD585/0283/MD585_0283_autoAnnotate_03172016045417_consolidated.pkl /home/yuncong/CSHL_data_labelings_losslessAlignCropped/MD585/0283/\n",
      "mkdir /home/yuncong/CSHL_data_labelings_losslessAlignCropped/MD585/0284; scp yuncong@oasis-dm.sdsc.edu:/home/yuncong/csd395/CSHL_data_labelings_losslessAlignCropped/MD585/0284/MD585_0284_autoAnnotate_03172016045810_consolidated.pkl /home/yuncong/CSHL_data_labelings_losslessAlignCropped/MD585/0284/\n",
      "mkdir /home/yuncong/CSHL_data_labelings_losslessAlignCropped/MD585/0285; scp yuncong@oasis-dm.sdsc.edu:/home/yuncong/csd395/CSHL_data_labelings_losslessAlignCropped/MD585/0285/MD585_0285_autoAnnotate_03172016050304_consolidated.pkl /home/yuncong/CSHL_data_labelings_losslessAlignCropped/MD585/0285/\n",
      "mkdir /home/yuncong/CSHL_data_labelings_losslessAlignCropped/MD585/0286; scp yuncong@oasis-dm.sdsc.edu:/home/yuncong/csd395/CSHL_data_labelings_losslessAlignCropped/MD585/0286/MD585_0286_autoAnnotate_03172016050228_consolidated.pkl /home/yuncong/CSHL_data_labelings_losslessAlignCropped/MD585/0286/\n",
      "mkdir /home/yuncong/CSHL_data_labelings_losslessAlignCropped/MD585/0287; scp yuncong@oasis-dm.sdsc.edu:/home/yuncong/csd395/CSHL_data_labelings_losslessAlignCropped/MD585/0287/MD585_0287_autoAnnotate_03172016050659_consolidated.pkl /home/yuncong/CSHL_data_labelings_losslessAlignCropped/MD585/0287/\n",
      "mkdir /home/yuncong/CSHL_data_labelings_losslessAlignCropped/MD585/0288; scp yuncong@oasis-dm.sdsc.edu:/home/yuncong/csd395/CSHL_data_labelings_losslessAlignCropped/MD585/0288/MD585_0288_autoAnnotate_03172016052056_consolidated.pkl /home/yuncong/CSHL_data_labelings_losslessAlignCropped/MD585/0288/\n",
      "mkdir /home/yuncong/CSHL_data_labelings_losslessAlignCropped/MD585/0289; scp yuncong@oasis-dm.sdsc.edu:/home/yuncong/csd395/CSHL_data_labelings_losslessAlignCropped/MD585/0289/MD585_0289_autoAnnotate_03172016051858_consolidated.pkl /home/yuncong/CSHL_data_labelings_losslessAlignCropped/MD585/0289/\n",
      "mkdir /home/yuncong/CSHL_data_labelings_losslessAlignCropped/MD585/0290; scp yuncong@oasis-dm.sdsc.edu:/home/yuncong/csd395/CSHL_data_labelings_losslessAlignCropped/MD585/0290/MD585_0290_autoAnnotate_03172016052314_consolidated.pkl /home/yuncong/CSHL_data_labelings_losslessAlignCropped/MD585/0290/\n",
      "mkdir /home/yuncong/CSHL_data_labelings_losslessAlignCropped/MD585/0291; scp yuncong@oasis-dm.sdsc.edu:/home/yuncong/csd395/CSHL_data_labelings_losslessAlignCropped/MD585/0291/MD585_0291_autoAnnotate_03172016051731_consolidated.pkl /home/yuncong/CSHL_data_labelings_losslessAlignCropped/MD585/0291/\n",
      "mkdir /home/yuncong/CSHL_data_labelings_losslessAlignCropped/MD585/0292; scp yuncong@oasis-dm.sdsc.edu:/home/yuncong/csd395/CSHL_data_labelings_losslessAlignCropped/MD585/0292/MD585_0292_autoAnnotate_03172016051807_consolidated.pkl /home/yuncong/CSHL_data_labelings_losslessAlignCropped/MD585/0292/\n"
     ]
    }
   ],
   "source": [
    "for fnpath in fnlist:\n",
    "    \n",
    "    fn = os.path.split(fnpath)[-1]\n",
    "    _, sec_str, _, timestamp, _ = fn.split('_')\n",
    "   \n",
    "    \n",
    "    cmd = 'mkdir %(ann_dir)s; scp yuncong@oasis-dm.sdsc.edu:%(fnpath)s %(ann_dir)s/' % \\\n",
    "    {'fnpath': fnpath, 'ann_dir': ann_dir + '/' + sec_str}\n",
    "    \n",
    "    print cmd\n",
    "    os.system(cmd)"
   ]
  },
  {
   "cell_type": "code",
   "execution_count": null,
   "metadata": {
    "collapsed": true
   },
   "outputs": [],
   "source": []
  }
 ],
 "metadata": {
  "kernelspec": {
   "display_name": "Python 2",
   "language": "python",
   "name": "python2"
  },
  "language_info": {
   "codemirror_mode": {
    "name": "ipython",
    "version": 2
   },
   "file_extension": ".py",
   "mimetype": "text/x-python",
   "name": "python",
   "nbconvert_exporter": "python",
   "pygments_lexer": "ipython2",
   "version": "2.7.6"
  }
 },
 "nbformat": 4,
 "nbformat_minor": 0
}
