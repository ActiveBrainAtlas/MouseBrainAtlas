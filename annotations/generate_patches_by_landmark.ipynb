{
 "cells": [
  {
   "cell_type": "code",
   "execution_count": null,
   "metadata": {
    "collapsed": true
   },
   "outputs": [],
   "source": [
    "# Generate image patches by landmark"
   ]
  },
  {
   "cell_type": "code",
   "execution_count": 1,
   "metadata": {
    "collapsed": true
   },
   "outputs": [],
   "source": [
    "%reload_ext autoreload\n",
    "%autoreload 2\n",
    "\n",
    "import cv2\n",
    "\n",
    "import os\n",
    "import sys\n",
    "sys.path.append(os.path.join(os.environ['REPO_DIR'], 'utilities'))\n",
    "from utilities2015 import DataManager\n",
    "\n",
    "from collections import defaultdict\n",
    "\n",
    "from matplotlib.path import Path\n",
    "%matplotlib inline\n",
    "\n",
    "import pandas as pd\n",
    "import numpy as np"
   ]
  },
  {
   "cell_type": "code",
   "execution_count": 2,
   "metadata": {
    "collapsed": false
   },
   "outputs": [],
   "source": [
    "# stack = 'MD589'\n",
    "stack = 'MD594'\n",
    "\n",
    "patch_dir = '/home/yuncong/CSHL_data_patches/'\n",
    "table_filepath = os.path.join(patch_dir, '%(stack)s_indices_allLandmarks_allSections.h5'%{'stack':stack})\n",
    "indices_allLandmarks_allSections = pd.read_hdf(table_filepath, 'indices_allLandmarks_allSections')\n",
    "grid_parameters = pd.read_hdf(table_filepath, 'grid_parameters')"
   ]
  },
  {
   "cell_type": "code",
   "execution_count": null,
   "metadata": {
    "collapsed": false
   },
   "outputs": [],
   "source": [
    "indices_allLandmarks_allSections"
   ]
  },
  {
   "cell_type": "code",
   "execution_count": null,
   "metadata": {
    "collapsed": false
   },
   "outputs": [],
   "source": [
    "patch_size, stride, w, h = grid_parameters.tolist()\n",
    "\n",
    "print 'patch_size', patch_size\n",
    "print 'stride', stride\n",
    "print 'w, h', w, h\n",
    "\n",
    "half_size = patch_size/2\n",
    "ys, xs = np.meshgrid(np.arange(half_size, h-half_size, stride), np.arange(half_size, w-half_size, stride),\n",
    "                     indexing='xy')\n",
    "sample_locations = np.c_[xs.flat, ys.flat]"
   ]
  },
  {
   "cell_type": "code",
   "execution_count": 5,
   "metadata": {
    "collapsed": false
   },
   "outputs": [],
   "source": [
    "byLandmark_dir = '/home/yuncong/CSHL_data_patches/%(stack)s_byLandmark/'%{'stack':stack}"
   ]
  },
  {
   "cell_type": "code",
   "execution_count": null,
   "metadata": {
    "collapsed": true
   },
   "outputs": [],
   "source": [
    "for label in list(indices_allLandmarks_allSections.index) + ['BackG']:\n",
    "    output_dir = os.path.join(byLandmark_dir, label)\n",
    "    if not os.path.exists(output_dir):\n",
    "        os.makedirs(output_dir)"
   ]
  },
  {
   "cell_type": "code",
   "execution_count": null,
   "metadata": {
    "collapsed": false,
    "scrolled": true
   },
   "outputs": [],
   "source": [
    "for sec in indices_allLandmarks_allSections.keys():\n",
    "    \n",
    "    print sec    \n",
    "    dm = DataManager(stack=stack, section=sec, load_mask=False)\n",
    "    dm._load_image(['rgb-jpg'])\n",
    "\n",
    "    for label, indices in dict(indices_allLandmarks_allSections[sec].dropna()).iteritems():\n",
    "        \n",
    "        # do not dump bg patches\n",
    "        if label == 'bg':\n",
    "            continue\n",
    "        \n",
    "        for i in indices:\n",
    "#         for i in np.random.choice(indices, min(10, len(indices)), replace=False):\n",
    "            x, y = sample_locations[i]\n",
    "            patch = dm.image_rgb_jpg[y-half_size:y+half_size, x-half_size:x+half_size]\n",
    "            \n",
    "            output_dir = os.path.join(byLandmark_dir, label)\n",
    "            patch_name = '%(stack)s_%(sec)04d_%(gridp_ind)08d.jpg' % {'stack':stack, 'sec':sec, 'gridp_ind':i}\n",
    "            cv2.imwrite(os.path.join(output_dir, patch_name), patch[..., ::-1])\n",
    "            \n",
    "#             # if is surround, additionally dump to BackG\n",
    "#             if label.endswith('surround'):\n",
    "#                 output_dir = os.path.join(byLandmark_dir, 'BackG')\n",
    "#                 cv2.imwrite(os.path.join(output_dir, patch_name), patch[..., ::-1])"
   ]
  },
  {
   "cell_type": "code",
   "execution_count": null,
   "metadata": {
    "collapsed": false,
    "scrolled": true
   },
   "outputs": [],
   "source": [
    "# Count number of patches each landmark\n",
    "c = 0\n",
    "for l in os.listdir(byLandmark_dir):\n",
    "    n = len(os.listdir(os.path.join(byLandmark_dir, l)))\n",
    "    print l, n\n",
    "    c += n\n",
    "    \n",
    "print 'total number of patches =', c"
   ]
  },
  {
   "cell_type": "code",
   "execution_count": 3,
   "metadata": {
    "collapsed": true
   },
   "outputs": [],
   "source": [
    "tar_dir = os.path.join(patch_dir, stack+'_byLandmark_tarballs')\n",
    "if not os.path.exists(tar_dir):\n",
    "    os.makedirs(tar_dir)"
   ]
  },
  {
   "cell_type": "code",
   "execution_count": 6,
   "metadata": {
    "collapsed": false,
    "scrolled": true
   },
   "outputs": [
    {
     "name": "stdout",
     "output_type": "stream",
     "text": [
      "tar -C /home/yuncong/CSHL_data_patches//MD594_byLandmark -I pigz -cf /home/yuncong/CSHL_data_patches/MD594_byLandmark_tarballs/7n_surround.tar 7n_surround\n",
      "tar -C /home/yuncong/CSHL_data_patches//MD594_byLandmark -I pigz -cf /home/yuncong/CSHL_data_patches/MD594_byLandmark_tarballs/7N.tar 7N\n",
      "tar -C /home/yuncong/CSHL_data_patches//MD594_byLandmark -I pigz -cf /home/yuncong/CSHL_data_patches/MD594_byLandmark_tarballs/Gr.tar Gr\n",
      "tar -C /home/yuncong/CSHL_data_patches//MD594_byLandmark -I pigz -cf /home/yuncong/CSHL_data_patches/MD594_byLandmark_tarballs/SuVe.tar SuVe\n",
      "tar -C /home/yuncong/CSHL_data_patches//MD594_byLandmark -I pigz -cf /home/yuncong/CSHL_data_patches/MD594_byLandmark_tarballs/Pn.tar Pn\n",
      "tar -C /home/yuncong/CSHL_data_patches//MD594_byLandmark -I pigz -cf /home/yuncong/CSHL_data_patches/MD594_byLandmark_tarballs/LVe_surround.tar LVe_surround\n",
      "tar -C /home/yuncong/CSHL_data_patches//MD594_byLandmark -I pigz -cf /home/yuncong/CSHL_data_patches/MD594_byLandmark_tarballs/VLL_surround.tar VLL_surround\n",
      "tar -C /home/yuncong/CSHL_data_patches//MD594_byLandmark -I pigz -cf /home/yuncong/CSHL_data_patches/MD594_byLandmark_tarballs/VLL.tar VLL\n",
      "tar -C /home/yuncong/CSHL_data_patches//MD594_byLandmark -I pigz -cf /home/yuncong/CSHL_data_patches/MD594_byLandmark_tarballs/LVe.tar LVe\n",
      "tar -C /home/yuncong/CSHL_data_patches//MD594_byLandmark -I pigz -cf /home/yuncong/CSHL_data_patches/MD594_byLandmark_tarballs/5N_surround.tar 5N_surround\n",
      "tar -C /home/yuncong/CSHL_data_patches//MD594_byLandmark -I pigz -cf /home/yuncong/CSHL_data_patches/MD594_byLandmark_tarballs/12N.tar 12N\n",
      "tar -C /home/yuncong/CSHL_data_patches//MD594_byLandmark -I pigz -cf /home/yuncong/CSHL_data_patches/MD594_byLandmark_tarballs/7N_surround.tar 7N_surround\n",
      "tar -C /home/yuncong/CSHL_data_patches//MD594_byLandmark -I pigz -cf /home/yuncong/CSHL_data_patches/MD594_byLandmark_tarballs/7n.tar 7n\n",
      "tar -C /home/yuncong/CSHL_data_patches//MD594_byLandmark -I pigz -cf /home/yuncong/CSHL_data_patches/MD594_byLandmark_tarballs/Gr_surround.tar Gr_surround\n",
      "tar -C /home/yuncong/CSHL_data_patches//MD594_byLandmark -I pigz -cf /home/yuncong/CSHL_data_patches/MD594_byLandmark_tarballs/Pn_surround.tar Pn_surround\n",
      "tar -C /home/yuncong/CSHL_data_patches//MD594_byLandmark -I pigz -cf /home/yuncong/CSHL_data_patches/MD594_byLandmark_tarballs/SuVe_surround.tar SuVe_surround\n",
      "tar -C /home/yuncong/CSHL_data_patches//MD594_byLandmark -I pigz -cf /home/yuncong/CSHL_data_patches/MD594_byLandmark_tarballs/12N_surround.tar 12N_surround\n",
      "tar -C /home/yuncong/CSHL_data_patches//MD594_byLandmark -I pigz -cf /home/yuncong/CSHL_data_patches/MD594_byLandmark_tarballs/5N.tar 5N\n"
     ]
    }
   ],
   "source": [
    "for l in os.listdir(byLandmark_dir):\n",
    "#     print l\n",
    "    cmd = 'tar -C %(patch_dir)s/%(stack)s_byLandmark -I pigz -cf %(tar_dir)s/%(label)s.tar %(label)s' % \\\n",
    "              {'label': l, 'stack': stack, 'patch_dir': patch_dir,\n",
    "               'tar_dir': tar_dir}\n",
    "    print cmd\n",
    "#     os.system(cmd)"
   ]
  }
 ],
 "metadata": {
  "kernelspec": {
   "display_name": "Python 2",
   "language": "python",
   "name": "python2"
  },
  "language_info": {
   "codemirror_mode": {
    "name": "ipython",
    "version": 2
   },
   "file_extension": ".py",
   "mimetype": "text/x-python",
   "name": "python",
   "nbconvert_exporter": "python",
   "pygments_lexer": "ipython2",
   "version": "2.7.3"
  }
 },
 "nbformat": 4,
 "nbformat_minor": 0
}
