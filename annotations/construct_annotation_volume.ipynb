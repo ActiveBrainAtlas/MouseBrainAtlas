{
 "cells": [
  {
   "cell_type": "code",
   "execution_count": 1,
   "metadata": {
    "collapsed": false
   },
   "outputs": [],
   "source": [
    "%load_ext autoreload\n",
    "%autoreload 2"
   ]
  },
  {
   "cell_type": "code",
   "execution_count": 2,
   "metadata": {
    "collapsed": true
   },
   "outputs": [],
   "source": [
    "import numpy as np\n",
    "\n",
    "import sys\n",
    "import os\n",
    "\n",
    "sys.path.append(os.environ['REPO_DIR'] + '/utilities')\n",
    "from utilities2015 import *\n",
    "\n",
    "import matplotlib.pyplot as plt\n",
    "%matplotlib inline"
   ]
  },
  {
   "cell_type": "code",
   "execution_count": 3,
   "metadata": {
    "collapsed": true
   },
   "outputs": [],
   "source": [
    "volume_dir = '/oasis/projects/nsf/csd395/yuncong/CSHL_volumes/'\n",
    "if not os.path.exists(volume_dir):\n",
    "    os.makedirs(volume_dir)"
   ]
  },
  {
   "cell_type": "code",
   "execution_count": 4,
   "metadata": {
    "collapsed": true
   },
   "outputs": [],
   "source": [
    "##### reconstruct annotation volume ######"
   ]
  },
  {
   "cell_type": "code",
   "execution_count": 6,
   "metadata": {
    "collapsed": false
   },
   "outputs": [
    {
     "name": "stdout",
     "output_type": "stream",
     "text": [
      "93 368\n"
     ]
    }
   ],
   "source": [
    "downsample_factor = 8\n",
    "\n",
    "section_thickness = 20 # in um\n",
    "xy_pixel_distance_lossless = 0.46\n",
    "xy_pixel_distance_tb = xy_pixel_distance_lossless * 32 # in um, thumbnail\n",
    "# factor = section_thickness/xy_pixel_distance_lossless\n",
    "\n",
    "xy_pixel_distance_downsampled = xy_pixel_distance_lossless * downsample_factor\n",
    "z_xy_ratio_downsampled = section_thickness / xy_pixel_distance_downsampled\n",
    "\n",
    "stack = 'MD589'\n",
    "    \n",
    "# build annotation volume\n",
    "section_bs_begin, section_bs_end = section_range_lookup[stack]\n",
    "print section_bs_begin, section_bs_end"
   ]
  },
  {
   "cell_type": "code",
   "execution_count": null,
   "metadata": {
    "collapsed": true
   },
   "outputs": [],
   "source": []
  },
  {
   "cell_type": "code",
   "execution_count": 7,
   "metadata": {
    "collapsed": false,
    "scrolled": true
   },
   "outputs": [
    {
     "name": "stdout",
     "output_type": "stream",
     "text": [
      "(1468, 1676, 2418)\n",
      "143\n",
      "145\n",
      "147\n",
      "149\n",
      "150\n",
      "151\n",
      "152\n",
      "153\n",
      "154\n",
      "155\n",
      "156\n",
      "157\n",
      "158\n",
      "159\n",
      "160\n",
      "161\n",
      "162\n",
      "163\n",
      "164\n",
      "165\n",
      "166\n",
      "167\n",
      "168\n",
      "169\n",
      "170\n",
      "171\n",
      "172\n",
      "173\n",
      "174\n",
      "175\n",
      "176\n",
      "177\n",
      "178\n",
      "179\n",
      "180\n",
      "181\n",
      "182\n",
      "183\n",
      "184\n",
      "185\n",
      "186\n",
      "187\n",
      "188\n",
      "189\n",
      "190\n",
      "191\n",
      "192\n",
      "193\n",
      "194\n",
      "195\n",
      "196\n",
      "197\n",
      "198\n",
      "199\n",
      "200\n",
      "201\n",
      "202\n",
      "203\n",
      "204\n",
      "205\n",
      "206\n",
      "207\n",
      "208\n",
      "209\n",
      "210\n",
      "211\n",
      "212\n",
      "213\n",
      "214\n",
      "215\n",
      "216\n",
      "217\n",
      "218\n",
      "219\n",
      "220\n",
      "222\n",
      "223\n",
      "224\n",
      "225\n",
      "226\n",
      "227\n",
      "228\n",
      "229\n",
      "230\n",
      "231\n",
      "232\n",
      "233\n",
      "234\n",
      "235\n",
      "236\n",
      "237\n",
      "238\n",
      "239\n",
      "240\n",
      "241\n",
      "242\n",
      "243\n",
      "244\n",
      "245\n",
      "246\n",
      "247\n",
      "248\n",
      "249\n",
      "250\n",
      "251\n",
      "252\n",
      "253\n",
      "254\n",
      "255\n",
      "256\n",
      "257\n",
      "258\n",
      "259\n",
      "260\n",
      "261\n",
      "262\n",
      "263\n",
      "264\n",
      "265\n",
      "266\n",
      "267\n",
      "268\n",
      "269\n",
      "270\n",
      "271\n",
      "272\n",
      "273\n",
      "274\n",
      "275\n",
      "276\n",
      "277\n",
      "278\n",
      "279\n",
      "280\n",
      "281\n",
      "282\n",
      "283\n",
      "284\n",
      "285\n",
      "286\n",
      "287\n",
      "288\n",
      "289\n",
      "290\n",
      "291\n",
      "292\n",
      "293\n",
      "294\n",
      "295\n",
      "296\n",
      "297\n",
      "298\n",
      "299\n",
      "300\n",
      "301\n",
      "302\n",
      "303\n",
      "304\n",
      "305\n",
      "306\n",
      "307\n",
      "308\n",
      "309\n",
      "310\n",
      "311\n",
      "312\n",
      "313\n",
      "314\n",
      "315\n",
      "316\n"
     ]
    }
   ],
   "source": [
    "dm = DataManager(stack=stack)\n",
    "\n",
    "volume = np.zeros((dm.image_height/downsample_factor, \n",
    "                   dm.image_width/downsample_factor, \n",
    "                   int(section_number_lookup[stack]*z_xy_ratio_downsampled)), np.int8)\n",
    "\n",
    "print volume.shape\n",
    "\n",
    "for sec in range(section_bs_begin, section_bs_end+1):\n",
    "    \n",
    "    # only 9 class\n",
    "    \n",
    "#     fn = '/oasis/projects/nsf/csd395/yuncong/CSHL_labelMapsLossless/%(stack)s/%(stack)s_%(slice)04d_labelMapLossless.npz' % \\\n",
    "#         {'stack': stack, 'slice': sec}\n",
    "    fn = '/oasis/projects/nsf/csd395/yuncong/CSHL_labelMapsLossless/%(stack)s/%(stack)s_%(slice)04d_labelMapLossless.bp' % \\\n",
    "        {'stack': stack, 'slice': sec}\n",
    "\n",
    "    # or, all classes\n",
    "#     fn = '/oasis/projects/nsf/csd395/yuncong/CSHL_labelMapsLossless/%(stack)s/%(stack)s_%(slice)04d_labelMapLossless_AllClasses.npz' % \\\n",
    "#         {'stack': stack, 'slice': sec}\n",
    "        \n",
    "    if os.path.exists(fn):\n",
    "        print sec\n",
    "#         label_map = np.load(fn)['arr_0'][::downsample_factor, ::downsample_factor]\n",
    "        label_map = bp.unpack_ndarray_file(fn)[::downsample_factor, ::downsample_factor]\n",
    "        volume[:, :, int(z_xy_ratio_downsampled*sec):int(z_xy_ratio_downsampled*(sec+1))] = label_map[..., np.newaxis]\n",
    "\n",
    "    # np.savez_compressed(os.path.join(volume_dir, 'volume_'+stack+'_labelmap'), volume[xmin:xmax+1, ymin:ymax+1, zmin:zmax+1])\n",
    "    # np.savez_compressed(os.path.join(volume_dir, 'volume_'+stack+'_predMap'), volume[xmin:xmax+1, ymin:ymax+1, zmin:zmax+1])\n",
    "#     np.savez_compressed(os.path.join(volume_dir, 'volume_%(stack)s_scoreMap_%(label)d' % {'stack': stack, 'label': l}),\n",
    "#                         volume[xmin:xmax+1, ymin:ymax+1, zmin:zmax+1])"
   ]
  },
  {
   "cell_type": "code",
   "execution_count": null,
   "metadata": {
    "collapsed": true
   },
   "outputs": [],
   "source": []
  },
  {
   "cell_type": "code",
   "execution_count": null,
   "metadata": {
    "collapsed": false
   },
   "outputs": [],
   "source": [
    "# for sec in range(section_bs_begin, section_bs_end+1):\n",
    "\n",
    "sec = 351\n",
    "plt.matshow(volume[..., int(sec*z_xy_ratio_downsampled)]);\n",
    "plt.title('section %d, z = (%d, %d)'%(sec, int(sec*z_xy_ratio_downsampled), \n",
    "                                     int(z_xy_ratio_downsampled*(sec+1))-1));\n",
    "plt.show();"
   ]
  },
  {
   "cell_type": "code",
   "execution_count": 8,
   "metadata": {
    "collapsed": false
   },
   "outputs": [
    {
     "name": "stdout",
     "output_type": "stream",
     "text": [
      "58 1546\n",
      "725 1377\n",
      "777 1721\n",
      "1489 653 945\n"
     ]
    }
   ],
   "source": [
    "ys, xs, zs = np.where(volume != 0)\n",
    "\n",
    "xmin = xs.min()\n",
    "xmax = xs.max()\n",
    "ymin = ys.min()\n",
    "ymax = ys.max()\n",
    "zmin = zs.min()\n",
    "zmax = zs.max()\n",
    "\n",
    "print xmin, xmax\n",
    "print ymin, ymax\n",
    "print zmin, zmax\n",
    "\n",
    "reduced_xdim = xmax+1-xmin\n",
    "reduced_ydim = ymax+1-ymin\n",
    "reduced_zdim = zmax+1-zmin\n",
    "print reduced_xdim, reduced_ydim, reduced_zdim"
   ]
  },
  {
   "cell_type": "code",
   "execution_count": 9,
   "metadata": {
    "collapsed": true
   },
   "outputs": [],
   "source": [
    "bp.pack_ndarray_file(volume[ymin:ymax+1, xmin:xmax+1, zmin:zmax+1],\n",
    "                     os.path.join(volume_dir, 'volume_%(stack)s_annotation.bp' % {'stack': stack}))"
   ]
  },
  {
   "cell_type": "code",
   "execution_count": null,
   "metadata": {
    "collapsed": false
   },
   "outputs": [],
   "source": [
    "np.savez_compressed(os.path.join(volume_dir, \n",
    "                                 'volume_%(stack)s_annotationAllClasses' % {'stack': stack}),\n",
    "                    volume[xmin:xmax+1, ymin:ymax+1, zmin:zmax+1])"
   ]
  },
  {
   "cell_type": "code",
   "execution_count": null,
   "metadata": {
    "collapsed": true
   },
   "outputs": [],
   "source": [
    "np.savez_compressed(os.path.join(volume_dir, \n",
    "                                 'volume_%(stack)s_annotation' % {'stack': stack}),\n",
    "                    volume[xmin:xmax+1, ymin:ymax+1, zmin:zmax+1])"
   ]
  }
 ],
 "metadata": {
  "kernelspec": {
   "display_name": "Python 2",
   "language": "python",
   "name": "python2"
  },
  "language_info": {
   "codemirror_mode": {
    "name": "ipython",
    "version": 2
   },
   "file_extension": ".py",
   "mimetype": "text/x-python",
   "name": "python",
   "nbconvert_exporter": "python",
   "pygments_lexer": "ipython2",
   "version": "2.7.3"
  }
 },
 "nbformat": 4,
 "nbformat_minor": 0
}
