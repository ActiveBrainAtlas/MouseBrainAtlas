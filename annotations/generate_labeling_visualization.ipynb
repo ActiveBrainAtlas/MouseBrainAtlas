{
 "cells": [
  {
   "cell_type": "code",
   "execution_count": 1,
   "metadata": {
    "collapsed": true
   },
   "outputs": [],
   "source": [
    "%reload_ext autoreload\n",
    "%autoreload 2\n",
    "\n",
    "import cv2\n",
    "\n",
    "import os\n",
    "import sys\n",
    "sys.path.append(os.path.join(os.environ['REPO_DIR'], 'utilities'))\n",
    "from utilities2015 import *\n",
    "\n",
    "from collections import defaultdict\n",
    "\n",
    "from matplotlib.path import Path\n",
    "%matplotlib inline"
   ]
  },
  {
   "cell_type": "code",
   "execution_count": 2,
   "metadata": {
    "collapsed": true
   },
   "outputs": [],
   "source": [
    "from enum import Enum\n",
    "\n",
    "class PolygonType(Enum):\n",
    "    CLOSED = 'closed'\n",
    "    OPEN = 'open'\n",
    "    TEXTURE = 'textured'\n",
    "    TEXTURE_WITH_CONTOUR = 'texture with contour'\n",
    "    DIRECTION = 'directionality'"
   ]
  },
  {
   "cell_type": "code",
   "execution_count": 3,
   "metadata": {
    "collapsed": true
   },
   "outputs": [],
   "source": [
    "stack = 'MD589'\n",
    "# stack = 'MD585'"
   ]
  },
  {
   "cell_type": "code",
   "execution_count": 4,
   "metadata": {
    "collapsed": true
   },
   "outputs": [],
   "source": [
    "from skimage.transform import rescale"
   ]
  },
  {
   "cell_type": "code",
   "execution_count": 5,
   "metadata": {
    "collapsed": false
   },
   "outputs": [],
   "source": [
    "labelingViz_root = '/oasis/projects/nsf/csd395/yuncong/CSHL_labelingsViz'\n",
    "labelingViz_dir = os.path.join(labelingViz_root, stack)\n",
    "if not os.path.exists(labelingViz_dir):\n",
    "    os.makedirs(labelingViz_dir)"
   ]
  },
  {
   "cell_type": "code",
   "execution_count": 6,
   "metadata": {
    "collapsed": true
   },
   "outputs": [],
   "source": [
    "downscale_factor = 8"
   ]
  },
  {
   "cell_type": "code",
   "execution_count": 7,
   "metadata": {
    "collapsed": true
   },
   "outputs": [],
   "source": [
    "dm = DataManager(stack=stack)"
   ]
  },
  {
   "cell_type": "code",
   "execution_count": 8,
   "metadata": {
    "collapsed": false,
    "scrolled": true
   },
   "outputs": [
    {
     "name": "stderr",
     "output_type": "stream",
     "text": [
      "username yuncong does not have any annotations for current section 93 \n",
      "username autoAnnotate does not have any annotations for current section 93 \n",
      "username yuncong does not have any annotations for current section 94 \n",
      "username autoAnnotate does not have any annotations for current section 94 \n",
      "username yuncong does not have any annotations for current section 95 \n",
      "username autoAnnotate does not have any annotations for current section 95 \n",
      "username yuncong does not have any annotations for current section 96 \n",
      "username autoAnnotate does not have any annotations for current section 96 \n",
      "username yuncong does not have any annotations for current section 97 \n",
      "username autoAnnotate does not have any annotations for current section 97 \n",
      "username yuncong does not have any annotations for current section 98 \n",
      "username autoAnnotate does not have any annotations for current section 98 \n",
      "username yuncong does not have any annotations for current section 99 \n",
      "username autoAnnotate does not have any annotations for current section 99 \n",
      "username yuncong does not have any annotations for current section 100 \n",
      "username autoAnnotate does not have any annotations for current section 100 \n",
      "username yuncong does not have any annotations for current section 101 \n",
      "username autoAnnotate does not have any annotations for current section 101 \n",
      "username yuncong does not have any annotations for current section 102 \n",
      "username autoAnnotate does not have any annotations for current section 102 \n",
      "username yuncong does not have any annotations for current section 103 \n",
      "username autoAnnotate does not have any annotations for current section 103 \n",
      "username yuncong does not have any annotations for current section 104 \n",
      "username autoAnnotate does not have any annotations for current section 104 \n",
      "username yuncong does not have any annotations for current section 105 \n",
      "username autoAnnotate does not have any annotations for current section 105 \n",
      "username yuncong does not have any annotations for current section 106 \n",
      "username autoAnnotate does not have any annotations for current section 106 \n",
      "username yuncong does not have any annotations for current section 107 \n",
      "username autoAnnotate does not have any annotations for current section 107 \n",
      "username yuncong does not have any annotations for current section 108 \n",
      "username autoAnnotate does not have any annotations for current section 108 \n",
      "username yuncong does not have any annotations for current section 109 \n",
      "username autoAnnotate does not have any annotations for current section 109 \n",
      "username autoAnnotate does not have any annotations for current section 110 \n",
      "/oasis/projects/nsf/csd181/yuncong/virtualenv-1.9.1/yuncongve/lib/python2.7/site-packages/PIL/Image.py:2224: DecompressionBombWarning: Image size (157463552 pixels) exceeds limit of 89478485 pixels, could be decompression bomb DOS attack.\n",
      "  DecompressionBombWarning)\n",
      "username autoAnnotate does not have any annotations for current section 111 \n"
     ]
    },
    {
     "name": "stdout",
     "output_type": "stream",
     "text": [
      "\n",
      "\n",
      "110\n",
      "\n"
     ]
    },
    {
     "name": "stderr",
     "output_type": "stream",
     "text": [
      "username yuncong does not have any annotations for current section 112 \n",
      "username autoAnnotate does not have any annotations for current section 112 \n",
      "username autoAnnotate does not have any annotations for current section 113 \n"
     ]
    },
    {
     "name": "stdout",
     "output_type": "stream",
     "text": [
      "\n",
      "111\n",
      "\n"
     ]
    },
    {
     "name": "stderr",
     "output_type": "stream",
     "text": [
      "username yuncong does not have any annotations for current section 114 \n",
      "username autoAnnotate does not have any annotations for current section 114 \n",
      "username autoAnnotate does not have any annotations for current section 115 \n"
     ]
    },
    {
     "name": "stdout",
     "output_type": "stream",
     "text": [
      "\n",
      "113\n",
      "\n"
     ]
    },
    {
     "name": "stderr",
     "output_type": "stream",
     "text": [
      "username yuncong does not have any annotations for current section 116 \n",
      "username autoAnnotate does not have any annotations for current section 116 \n",
      "username autoAnnotate does not have any annotations for current section 117 \n"
     ]
    },
    {
     "name": "stdout",
     "output_type": "stream",
     "text": [
      "\n",
      "115\n",
      "\n"
     ]
    },
    {
     "name": "stderr",
     "output_type": "stream",
     "text": [
      "username yuncong does not have any annotations for current section 118 \n",
      "username autoAnnotate does not have any annotations for current section 118 \n",
      "username autoAnnotate does not have any annotations for current section 119 \n"
     ]
    },
    {
     "name": "stdout",
     "output_type": "stream",
     "text": [
      "\n",
      "117\n",
      "\n"
     ]
    },
    {
     "name": "stderr",
     "output_type": "stream",
     "text": [
      "username yuncong does not have any annotations for current section 120 \n",
      "username autoAnnotate does not have any annotations for current section 120 \n",
      "username autoAnnotate does not have any annotations for current section 121 \n"
     ]
    },
    {
     "name": "stdout",
     "output_type": "stream",
     "text": [
      "\n",
      "119\n",
      "\n"
     ]
    },
    {
     "name": "stderr",
     "output_type": "stream",
     "text": [
      "username yuncong does not have any annotations for current section 122 \n",
      "username autoAnnotate does not have any annotations for current section 122 \n",
      "username autoAnnotate does not have any annotations for current section 123 \n"
     ]
    },
    {
     "name": "stdout",
     "output_type": "stream",
     "text": [
      "\n",
      "121\n",
      "\n"
     ]
    },
    {
     "name": "stderr",
     "output_type": "stream",
     "text": [
      "username yuncong does not have any annotations for current section 124 \n",
      "username autoAnnotate does not have any annotations for current section 124 \n",
      "username autoAnnotate does not have any annotations for current section 125 \n"
     ]
    },
    {
     "name": "stdout",
     "output_type": "stream",
     "text": [
      "\n",
      "123\n",
      "\n"
     ]
    },
    {
     "name": "stderr",
     "output_type": "stream",
     "text": [
      "username yuncong does not have any annotations for current section 126 \n",
      "username autoAnnotate does not have any annotations for current section 126 \n",
      "username autoAnnotate does not have any annotations for current section 127 \n"
     ]
    },
    {
     "name": "stdout",
     "output_type": "stream",
     "text": [
      "\n",
      "125\n",
      "\n"
     ]
    },
    {
     "name": "stderr",
     "output_type": "stream",
     "text": [
      "username yuncong does not have any annotations for current section 128 \n",
      "username autoAnnotate does not have any annotations for current section 128 \n",
      "username autoAnnotate does not have any annotations for current section 129 \n"
     ]
    },
    {
     "name": "stdout",
     "output_type": "stream",
     "text": [
      "\n",
      "127\n",
      "\n"
     ]
    },
    {
     "name": "stderr",
     "output_type": "stream",
     "text": [
      "username yuncong does not have any annotations for current section 130 \n",
      "username autoAnnotate does not have any annotations for current section 130 \n",
      "username autoAnnotate does not have any annotations for current section 131 \n"
     ]
    },
    {
     "name": "stdout",
     "output_type": "stream",
     "text": [
      "\n",
      "129\n",
      "\n"
     ]
    },
    {
     "name": "stderr",
     "output_type": "stream",
     "text": [
      "username yuncong does not have any annotations for current section 132 \n",
      "username autoAnnotate does not have any annotations for current section 132 \n",
      "username autoAnnotate does not have any annotations for current section 133 \n"
     ]
    },
    {
     "name": "stdout",
     "output_type": "stream",
     "text": [
      "\n",
      "131\n",
      "\n"
     ]
    },
    {
     "name": "stderr",
     "output_type": "stream",
     "text": [
      "username yuncong does not have any annotations for current section 134 \n",
      "username autoAnnotate does not have any annotations for current section 134 \n",
      "username autoAnnotate does not have any annotations for current section 135 \n"
     ]
    },
    {
     "name": "stdout",
     "output_type": "stream",
     "text": [
      "\n",
      "133\n",
      "\n"
     ]
    },
    {
     "name": "stderr",
     "output_type": "stream",
     "text": [
      "username yuncong does not have any annotations for current section 136 \n",
      "username autoAnnotate does not have any annotations for current section 136 \n",
      "username autoAnnotate does not have any annotations for current section 137 \n"
     ]
    },
    {
     "name": "stdout",
     "output_type": "stream",
     "text": [
      "\n",
      "135\n",
      "\n"
     ]
    },
    {
     "name": "stderr",
     "output_type": "stream",
     "text": [
      "username yuncong does not have any annotations for current section 138 \n",
      "username autoAnnotate does not have any annotations for current section 138 \n",
      "username autoAnnotate does not have any annotations for current section 139 \n"
     ]
    },
    {
     "name": "stdout",
     "output_type": "stream",
     "text": [
      "\n",
      "137\n",
      "\n"
     ]
    },
    {
     "name": "stderr",
     "output_type": "stream",
     "text": [
      "username yuncong does not have any annotations for current section 140 \n",
      "username autoAnnotate does not have any annotations for current section 140 \n",
      "username autoAnnotate does not have any annotations for current section 141 \n"
     ]
    },
    {
     "name": "stdout",
     "output_type": "stream",
     "text": [
      "\n",
      "139\n",
      "\n"
     ]
    },
    {
     "name": "stderr",
     "output_type": "stream",
     "text": [
      "username yuncong does not have any annotations for current section 142 \n",
      "username autoAnnotate does not have any annotations for current section 142 \n",
      "username autoAnnotate does not have any annotations for current section 143 \n"
     ]
    },
    {
     "name": "stdout",
     "output_type": "stream",
     "text": [
      "\n",
      "141\n",
      "\n"
     ]
    },
    {
     "name": "stderr",
     "output_type": "stream",
     "text": [
      "username yuncong does not have any annotations for current section 144 \n",
      "username autoAnnotate does not have any annotations for current section 144 \n",
      "username autoAnnotate does not have any annotations for current section 145 \n"
     ]
    },
    {
     "name": "stdout",
     "output_type": "stream",
     "text": [
      "\n",
      "143\n",
      "\n"
     ]
    },
    {
     "name": "stderr",
     "output_type": "stream",
     "text": [
      "username yuncong does not have any annotations for current section 146 \n",
      "username autoAnnotate does not have any annotations for current section 146 \n",
      "username autoAnnotate does not have any annotations for current section 147 \n"
     ]
    },
    {
     "name": "stdout",
     "output_type": "stream",
     "text": [
      "\n",
      "145\n",
      "\n"
     ]
    },
    {
     "name": "stderr",
     "output_type": "stream",
     "text": [
      "username yuncong does not have any annotations for current section 148 \n",
      "username autoAnnotate does not have any annotations for current section 148 \n",
      "username autoAnnotate does not have any annotations for current section 149 \n"
     ]
    },
    {
     "name": "stdout",
     "output_type": "stream",
     "text": [
      "\n",
      "147\n",
      "\n",
      "\n",
      "149\n",
      "\n"
     ]
    },
    {
     "name": "stderr",
     "output_type": "stream",
     "text": [
      "username autoAnnotate does not have any annotations for current section 150 \n",
      "username autoAnnotate does not have any annotations for current section 151 \n"
     ]
    },
    {
     "name": "stdout",
     "output_type": "stream",
     "text": [
      "\n",
      "150\n",
      "\n",
      "\n",
      "151\n",
      "\n"
     ]
    },
    {
     "name": "stderr",
     "output_type": "stream",
     "text": [
      "username autoAnnotate does not have any annotations for current section 152 \n",
      "username autoAnnotate does not have any annotations for current section 153 \n"
     ]
    },
    {
     "name": "stdout",
     "output_type": "stream",
     "text": [
      "\n",
      "152\n",
      "\n",
      "\n",
      "153\n",
      "\n"
     ]
    },
    {
     "name": "stderr",
     "output_type": "stream",
     "text": [
      "username autoAnnotate does not have any annotations for current section 154 \n",
      "username autoAnnotate does not have any annotations for current section 155 \n"
     ]
    },
    {
     "name": "stdout",
     "output_type": "stream",
     "text": [
      "\n",
      "154\n",
      "\n",
      "\n",
      "155\n",
      "\n"
     ]
    },
    {
     "name": "stderr",
     "output_type": "stream",
     "text": [
      "username autoAnnotate does not have any annotations for current section 156 \n",
      "username autoAnnotate does not have any annotations for current section 157 \n"
     ]
    },
    {
     "name": "stdout",
     "output_type": "stream",
     "text": [
      "\n",
      "156\n",
      "\n",
      "\n",
      "157\n",
      "\n"
     ]
    },
    {
     "name": "stderr",
     "output_type": "stream",
     "text": [
      "username autoAnnotate does not have any annotations for current section 158 \n",
      "username autoAnnotate does not have any annotations for current section 159 \n"
     ]
    },
    {
     "name": "stdout",
     "output_type": "stream",
     "text": [
      "\n",
      "158\n",
      "\n",
      "\n",
      "159\n",
      "\n"
     ]
    },
    {
     "name": "stderr",
     "output_type": "stream",
     "text": [
      "username autoAnnotate does not have any annotations for current section 160 \n",
      "username autoAnnotate does not have any annotations for current section 161 \n"
     ]
    },
    {
     "name": "stdout",
     "output_type": "stream",
     "text": [
      "\n",
      "160\n",
      "\n",
      "\n",
      "161\n",
      "\n"
     ]
    },
    {
     "name": "stderr",
     "output_type": "stream",
     "text": [
      "username autoAnnotate does not have any annotations for current section 162 \n",
      "username autoAnnotate does not have any annotations for current section 163 \n"
     ]
    },
    {
     "name": "stdout",
     "output_type": "stream",
     "text": [
      "\n",
      "162\n",
      "\n",
      "\n",
      "163\n",
      "\n"
     ]
    },
    {
     "name": "stderr",
     "output_type": "stream",
     "text": [
      "username autoAnnotate does not have any annotations for current section 164 \n",
      "username autoAnnotate does not have any annotations for current section 165 \n"
     ]
    },
    {
     "name": "stdout",
     "output_type": "stream",
     "text": [
      "\n",
      "164\n",
      "\n",
      "\n",
      "165\n",
      "\n"
     ]
    },
    {
     "name": "stderr",
     "output_type": "stream",
     "text": [
      "username autoAnnotate does not have any annotations for current section 166 \n",
      "username autoAnnotate does not have any annotations for current section 167 \n"
     ]
    },
    {
     "name": "stdout",
     "output_type": "stream",
     "text": [
      "\n",
      "166\n",
      "\n",
      "\n",
      "167\n",
      "\n"
     ]
    },
    {
     "name": "stderr",
     "output_type": "stream",
     "text": [
      "username autoAnnotate does not have any annotations for current section 168 \n",
      "username autoAnnotate does not have any annotations for current section 169 \n"
     ]
    },
    {
     "name": "stdout",
     "output_type": "stream",
     "text": [
      "\n",
      "168\n",
      "\n",
      "\n",
      "169\n",
      "\n"
     ]
    },
    {
     "name": "stderr",
     "output_type": "stream",
     "text": [
      "username autoAnnotate does not have any annotations for current section 170 \n",
      "username autoAnnotate does not have any annotations for current section 171 \n"
     ]
    },
    {
     "name": "stdout",
     "output_type": "stream",
     "text": [
      "\n",
      "170\n",
      "\n",
      "\n",
      "171\n",
      "\n"
     ]
    },
    {
     "name": "stderr",
     "output_type": "stream",
     "text": [
      "username autoAnnotate does not have any annotations for current section 172 \n",
      "username autoAnnotate does not have any annotations for current section 173 \n"
     ]
    },
    {
     "name": "stdout",
     "output_type": "stream",
     "text": [
      "\n",
      "172\n",
      "\n",
      "\n",
      "173\n",
      "\n"
     ]
    },
    {
     "name": "stderr",
     "output_type": "stream",
     "text": [
      "username autoAnnotate does not have any annotations for current section 174 \n",
      "username autoAnnotate does not have any annotations for current section 175 \n"
     ]
    },
    {
     "name": "stdout",
     "output_type": "stream",
     "text": [
      "\n",
      "174\n",
      "\n",
      "\n",
      "175\n",
      "\n"
     ]
    },
    {
     "name": "stderr",
     "output_type": "stream",
     "text": [
      "username autoAnnotate does not have any annotations for current section 176 \n",
      "username autoAnnotate does not have any annotations for current section 177 \n"
     ]
    },
    {
     "name": "stdout",
     "output_type": "stream",
     "text": [
      "\n",
      "176\n",
      "\n",
      "\n",
      "177\n",
      "\n"
     ]
    },
    {
     "name": "stderr",
     "output_type": "stream",
     "text": [
      "username autoAnnotate does not have any annotations for current section 178 \n",
      "username autoAnnotate does not have any annotations for current section 179 \n"
     ]
    },
    {
     "name": "stdout",
     "output_type": "stream",
     "text": [
      "\n",
      "178\n",
      "\n",
      "\n",
      "179\n",
      "\n"
     ]
    },
    {
     "name": "stderr",
     "output_type": "stream",
     "text": [
      "username autoAnnotate does not have any annotations for current section 180 \n",
      "username autoAnnotate does not have any annotations for current section 181 \n"
     ]
    },
    {
     "name": "stdout",
     "output_type": "stream",
     "text": [
      "\n",
      "180\n",
      "\n",
      "\n",
      "181\n",
      "\n"
     ]
    },
    {
     "name": "stderr",
     "output_type": "stream",
     "text": [
      "username autoAnnotate does not have any annotations for current section 182 \n",
      "username autoAnnotate does not have any annotations for current section 183 \n"
     ]
    },
    {
     "name": "stdout",
     "output_type": "stream",
     "text": [
      "\n",
      "182\n",
      "\n",
      "\n",
      "183\n",
      "\n"
     ]
    },
    {
     "name": "stderr",
     "output_type": "stream",
     "text": [
      "username autoAnnotate does not have any annotations for current section 184 \n",
      "username autoAnnotate does not have any annotations for current section 185 \n"
     ]
    },
    {
     "name": "stdout",
     "output_type": "stream",
     "text": [
      "\n",
      "184\n",
      "\n",
      "\n",
      "185\n",
      "\n"
     ]
    },
    {
     "name": "stderr",
     "output_type": "stream",
     "text": [
      "username autoAnnotate does not have any annotations for current section 186 \n",
      "username autoAnnotate does not have any annotations for current section 187 \n"
     ]
    },
    {
     "name": "stdout",
     "output_type": "stream",
     "text": [
      "\n",
      "186\n",
      "\n",
      "\n",
      "187\n",
      "\n"
     ]
    },
    {
     "name": "stderr",
     "output_type": "stream",
     "text": [
      "username autoAnnotate does not have any annotations for current section 188 \n",
      "username autoAnnotate does not have any annotations for current section 189 \n"
     ]
    },
    {
     "name": "stdout",
     "output_type": "stream",
     "text": [
      "\n",
      "188\n",
      "\n",
      "\n",
      "189\n",
      "\n"
     ]
    },
    {
     "name": "stderr",
     "output_type": "stream",
     "text": [
      "username autoAnnotate does not have any annotations for current section 190 \n",
      "username autoAnnotate does not have any annotations for current section 191 \n"
     ]
    },
    {
     "name": "stdout",
     "output_type": "stream",
     "text": [
      "\n",
      "190\n",
      "\n",
      "\n",
      "191\n",
      "\n"
     ]
    },
    {
     "name": "stderr",
     "output_type": "stream",
     "text": [
      "username autoAnnotate does not have any annotations for current section 192 \n",
      "username autoAnnotate does not have any annotations for current section 193 \n"
     ]
    },
    {
     "name": "stdout",
     "output_type": "stream",
     "text": [
      "\n",
      "192\n",
      "\n",
      "\n",
      "193\n",
      "\n"
     ]
    },
    {
     "name": "stderr",
     "output_type": "stream",
     "text": [
      "username autoAnnotate does not have any annotations for current section 194 \n",
      "username autoAnnotate does not have any annotations for current section 195 \n"
     ]
    },
    {
     "name": "stdout",
     "output_type": "stream",
     "text": [
      "\n",
      "194\n",
      "\n",
      "\n",
      "195\n",
      "\n"
     ]
    },
    {
     "name": "stderr",
     "output_type": "stream",
     "text": [
      "username autoAnnotate does not have any annotations for current section 196 \n",
      "username autoAnnotate does not have any annotations for current section 197 \n"
     ]
    },
    {
     "name": "stdout",
     "output_type": "stream",
     "text": [
      "\n",
      "196\n",
      "\n",
      "\n",
      "197\n",
      "\n"
     ]
    },
    {
     "name": "stderr",
     "output_type": "stream",
     "text": [
      "username autoAnnotate does not have any annotations for current section 198 \n",
      "username autoAnnotate does not have any annotations for current section 199 \n"
     ]
    },
    {
     "name": "stdout",
     "output_type": "stream",
     "text": [
      "\n",
      "198\n",
      "\n",
      "\n",
      "199\n",
      "\n"
     ]
    },
    {
     "name": "stderr",
     "output_type": "stream",
     "text": [
      "username autoAnnotate does not have any annotations for current section 200 \n",
      "username autoAnnotate does not have any annotations for current section 201 \n"
     ]
    },
    {
     "name": "stdout",
     "output_type": "stream",
     "text": [
      "\n",
      "200\n",
      "\n",
      "\n",
      "201\n",
      "\n"
     ]
    },
    {
     "name": "stderr",
     "output_type": "stream",
     "text": [
      "username autoAnnotate does not have any annotations for current section 202 \n",
      "username autoAnnotate does not have any annotations for current section 203 \n"
     ]
    },
    {
     "name": "stdout",
     "output_type": "stream",
     "text": [
      "\n",
      "202\n",
      "\n",
      "\n",
      "203\n",
      "\n"
     ]
    },
    {
     "name": "stderr",
     "output_type": "stream",
     "text": [
      "username autoAnnotate does not have any annotations for current section 204 \n",
      "username autoAnnotate does not have any annotations for current section 205 \n"
     ]
    },
    {
     "name": "stdout",
     "output_type": "stream",
     "text": [
      "\n",
      "204\n",
      "\n",
      "\n",
      "205\n",
      "\n"
     ]
    },
    {
     "name": "stderr",
     "output_type": "stream",
     "text": [
      "username autoAnnotate does not have any annotations for current section 206 \n",
      "username autoAnnotate does not have any annotations for current section 207 \n"
     ]
    },
    {
     "name": "stdout",
     "output_type": "stream",
     "text": [
      "\n",
      "206\n",
      "\n",
      "\n",
      "207\n",
      "\n"
     ]
    },
    {
     "name": "stderr",
     "output_type": "stream",
     "text": [
      "username autoAnnotate does not have any annotations for current section 208 \n",
      "username autoAnnotate does not have any annotations for current section 209 \n"
     ]
    },
    {
     "name": "stdout",
     "output_type": "stream",
     "text": [
      "\n",
      "208\n",
      "\n",
      "\n",
      "209\n",
      "\n"
     ]
    },
    {
     "name": "stderr",
     "output_type": "stream",
     "text": [
      "username autoAnnotate does not have any annotations for current section 210 \n",
      "username autoAnnotate does not have any annotations for current section 211 \n"
     ]
    },
    {
     "name": "stdout",
     "output_type": "stream",
     "text": [
      "\n",
      "210\n",
      "\n",
      "\n",
      "211\n",
      "\n"
     ]
    },
    {
     "name": "stderr",
     "output_type": "stream",
     "text": [
      "username autoAnnotate does not have any annotations for current section 212 \n",
      "username autoAnnotate does not have any annotations for current section 213 \n"
     ]
    },
    {
     "name": "stdout",
     "output_type": "stream",
     "text": [
      "\n",
      "212\n",
      "\n",
      "\n",
      "213\n",
      "\n"
     ]
    },
    {
     "name": "stderr",
     "output_type": "stream",
     "text": [
      "username autoAnnotate does not have any annotations for current section 214 \n",
      "username autoAnnotate does not have any annotations for current section 215 \n"
     ]
    },
    {
     "name": "stdout",
     "output_type": "stream",
     "text": [
      "\n",
      "214\n",
      "\n",
      "\n",
      "215\n",
      "\n"
     ]
    },
    {
     "name": "stderr",
     "output_type": "stream",
     "text": [
      "username autoAnnotate does not have any annotations for current section 216 \n",
      "username autoAnnotate does not have any annotations for current section 217 \n"
     ]
    },
    {
     "name": "stdout",
     "output_type": "stream",
     "text": [
      "\n",
      "216\n",
      "\n",
      "\n",
      "217\n",
      "\n"
     ]
    },
    {
     "name": "stderr",
     "output_type": "stream",
     "text": [
      "username autoAnnotate does not have any annotations for current section 218 \n",
      "username autoAnnotate does not have any annotations for current section 219 \n"
     ]
    },
    {
     "name": "stdout",
     "output_type": "stream",
     "text": [
      "\n",
      "218\n",
      "\n",
      "\n",
      "219\n",
      "\n"
     ]
    },
    {
     "name": "stderr",
     "output_type": "stream",
     "text": [
      "username autoAnnotate does not have any annotations for current section 220 \n",
      "username autoAnnotate does not have any annotations for current section 221 \n"
     ]
    },
    {
     "name": "stdout",
     "output_type": "stream",
     "text": [
      "\n",
      "220\n",
      "\n",
      "\n",
      "221\n",
      "\n"
     ]
    },
    {
     "name": "stderr",
     "output_type": "stream",
     "text": [
      "username autoAnnotate does not have any annotations for current section 222 \n",
      "username autoAnnotate does not have any annotations for current section 223 \n"
     ]
    },
    {
     "name": "stdout",
     "output_type": "stream",
     "text": [
      "\n",
      "222\n",
      "\n",
      "\n",
      "223\n",
      "\n"
     ]
    },
    {
     "name": "stderr",
     "output_type": "stream",
     "text": [
      "username autoAnnotate does not have any annotations for current section 224 \n",
      "username autoAnnotate does not have any annotations for current section 225 \n"
     ]
    },
    {
     "name": "stdout",
     "output_type": "stream",
     "text": [
      "\n",
      "224\n",
      "\n",
      "\n",
      "225\n",
      "\n"
     ]
    },
    {
     "name": "stderr",
     "output_type": "stream",
     "text": [
      "username autoAnnotate does not have any annotations for current section 226 \n",
      "username autoAnnotate does not have any annotations for current section 227 \n"
     ]
    },
    {
     "name": "stdout",
     "output_type": "stream",
     "text": [
      "\n",
      "226\n",
      "\n",
      "\n",
      "227\n",
      "\n"
     ]
    },
    {
     "name": "stderr",
     "output_type": "stream",
     "text": [
      "username autoAnnotate does not have any annotations for current section 228 \n",
      "username autoAnnotate does not have any annotations for current section 229 \n"
     ]
    },
    {
     "name": "stdout",
     "output_type": "stream",
     "text": [
      "\n",
      "228\n",
      "\n",
      "\n",
      "229\n",
      "\n"
     ]
    },
    {
     "name": "stderr",
     "output_type": "stream",
     "text": [
      "username autoAnnotate does not have any annotations for current section 230 \n",
      "username autoAnnotate does not have any annotations for current section 231 \n"
     ]
    },
    {
     "name": "stdout",
     "output_type": "stream",
     "text": [
      "\n",
      "230\n",
      "\n",
      "\n",
      "231\n",
      "\n"
     ]
    },
    {
     "name": "stderr",
     "output_type": "stream",
     "text": [
      "username autoAnnotate does not have any annotations for current section 232 \n",
      "username autoAnnotate does not have any annotations for current section 233 \n"
     ]
    },
    {
     "name": "stdout",
     "output_type": "stream",
     "text": [
      "\n",
      "232\n",
      "\n",
      "\n",
      "233\n",
      "\n"
     ]
    },
    {
     "name": "stderr",
     "output_type": "stream",
     "text": [
      "username autoAnnotate does not have any annotations for current section 234 \n",
      "username autoAnnotate does not have any annotations for current section 235 \n"
     ]
    },
    {
     "name": "stdout",
     "output_type": "stream",
     "text": [
      "\n",
      "234\n",
      "\n",
      "\n",
      "235\n",
      "\n"
     ]
    },
    {
     "name": "stderr",
     "output_type": "stream",
     "text": [
      "username autoAnnotate does not have any annotations for current section 236 \n",
      "username autoAnnotate does not have any annotations for current section 237 \n"
     ]
    },
    {
     "name": "stdout",
     "output_type": "stream",
     "text": [
      "\n",
      "236\n",
      "\n",
      "\n",
      "237\n",
      "\n"
     ]
    },
    {
     "name": "stderr",
     "output_type": "stream",
     "text": [
      "username autoAnnotate does not have any annotations for current section 238 \n",
      "username autoAnnotate does not have any annotations for current section 239 \n"
     ]
    },
    {
     "name": "stdout",
     "output_type": "stream",
     "text": [
      "\n",
      "238\n",
      "\n",
      "\n",
      "239\n",
      "\n"
     ]
    },
    {
     "name": "stderr",
     "output_type": "stream",
     "text": [
      "username autoAnnotate does not have any annotations for current section 240 \n",
      "username autoAnnotate does not have any annotations for current section 241 \n"
     ]
    },
    {
     "name": "stdout",
     "output_type": "stream",
     "text": [
      "\n",
      "240\n",
      "\n",
      "\n",
      "241\n",
      "\n"
     ]
    },
    {
     "name": "stderr",
     "output_type": "stream",
     "text": [
      "username autoAnnotate does not have any annotations for current section 242 \n",
      "username autoAnnotate does not have any annotations for current section 243 \n"
     ]
    },
    {
     "name": "stdout",
     "output_type": "stream",
     "text": [
      "\n",
      "242\n",
      "\n",
      "\n",
      "243\n",
      "\n"
     ]
    },
    {
     "name": "stderr",
     "output_type": "stream",
     "text": [
      "username autoAnnotate does not have any annotations for current section 244 \n",
      "username autoAnnotate does not have any annotations for current section 245 \n"
     ]
    },
    {
     "name": "stdout",
     "output_type": "stream",
     "text": [
      "\n",
      "244\n",
      "\n",
      "\n",
      "245\n",
      "\n"
     ]
    },
    {
     "name": "stderr",
     "output_type": "stream",
     "text": [
      "username autoAnnotate does not have any annotations for current section 246 \n",
      "username autoAnnotate does not have any annotations for current section 247 \n"
     ]
    },
    {
     "name": "stdout",
     "output_type": "stream",
     "text": [
      "\n",
      "246\n",
      "\n",
      "\n",
      "247\n",
      "\n"
     ]
    },
    {
     "name": "stderr",
     "output_type": "stream",
     "text": [
      "username autoAnnotate does not have any annotations for current section 248 \n",
      "username autoAnnotate does not have any annotations for current section 249 \n"
     ]
    },
    {
     "name": "stdout",
     "output_type": "stream",
     "text": [
      "\n",
      "248\n",
      "\n",
      "\n",
      "249\n",
      "\n"
     ]
    },
    {
     "name": "stderr",
     "output_type": "stream",
     "text": [
      "username autoAnnotate does not have any annotations for current section 250 \n",
      "username autoAnnotate does not have any annotations for current section 251 \n"
     ]
    },
    {
     "name": "stdout",
     "output_type": "stream",
     "text": [
      "\n",
      "250\n",
      "\n",
      "\n",
      "251\n",
      "\n"
     ]
    },
    {
     "name": "stderr",
     "output_type": "stream",
     "text": [
      "username autoAnnotate does not have any annotations for current section 252 \n",
      "username autoAnnotate does not have any annotations for current section 253 \n"
     ]
    },
    {
     "name": "stdout",
     "output_type": "stream",
     "text": [
      "\n",
      "252\n",
      "\n",
      "\n",
      "253\n",
      "\n"
     ]
    },
    {
     "name": "stderr",
     "output_type": "stream",
     "text": [
      "username autoAnnotate does not have any annotations for current section 254 \n",
      "username autoAnnotate does not have any annotations for current section 255 \n"
     ]
    },
    {
     "name": "stdout",
     "output_type": "stream",
     "text": [
      "\n",
      "254\n",
      "\n",
      "\n",
      "255\n",
      "\n"
     ]
    },
    {
     "name": "stderr",
     "output_type": "stream",
     "text": [
      "username autoAnnotate does not have any annotations for current section 256 \n",
      "username autoAnnotate does not have any annotations for current section 257 \n"
     ]
    },
    {
     "name": "stdout",
     "output_type": "stream",
     "text": [
      "\n",
      "256\n",
      "\n",
      "\n",
      "257\n",
      "\n"
     ]
    },
    {
     "name": "stderr",
     "output_type": "stream",
     "text": [
      "username autoAnnotate does not have any annotations for current section 258 \n",
      "username autoAnnotate does not have any annotations for current section 259 \n"
     ]
    },
    {
     "name": "stdout",
     "output_type": "stream",
     "text": [
      "\n",
      "258\n",
      "\n",
      "\n",
      "259\n",
      "\n"
     ]
    },
    {
     "name": "stderr",
     "output_type": "stream",
     "text": [
      "username autoAnnotate does not have any annotations for current section 260 \n",
      "username autoAnnotate does not have any annotations for current section 261 \n"
     ]
    },
    {
     "name": "stdout",
     "output_type": "stream",
     "text": [
      "\n",
      "260\n",
      "\n",
      "\n",
      "261\n",
      "\n"
     ]
    },
    {
     "name": "stderr",
     "output_type": "stream",
     "text": [
      "username autoAnnotate does not have any annotations for current section 262 \n",
      "username autoAnnotate does not have any annotations for current section 263 \n"
     ]
    },
    {
     "name": "stdout",
     "output_type": "stream",
     "text": [
      "\n",
      "262\n",
      "\n",
      "\n",
      "263\n",
      "\n"
     ]
    },
    {
     "name": "stderr",
     "output_type": "stream",
     "text": [
      "username autoAnnotate does not have any annotations for current section 264 \n",
      "username autoAnnotate does not have any annotations for current section 265 \n"
     ]
    },
    {
     "name": "stdout",
     "output_type": "stream",
     "text": [
      "\n",
      "264\n",
      "\n",
      "\n",
      "265\n",
      "\n"
     ]
    },
    {
     "name": "stderr",
     "output_type": "stream",
     "text": [
      "username autoAnnotate does not have any annotations for current section 266 \n",
      "username autoAnnotate does not have any annotations for current section 267 \n"
     ]
    },
    {
     "name": "stdout",
     "output_type": "stream",
     "text": [
      "\n",
      "266\n",
      "\n",
      "\n",
      "267\n",
      "\n"
     ]
    },
    {
     "name": "stderr",
     "output_type": "stream",
     "text": [
      "username autoAnnotate does not have any annotations for current section 268 \n",
      "username autoAnnotate does not have any annotations for current section 269 \n"
     ]
    },
    {
     "name": "stdout",
     "output_type": "stream",
     "text": [
      "\n",
      "268\n",
      "\n",
      "\n",
      "269\n",
      "\n"
     ]
    },
    {
     "name": "stderr",
     "output_type": "stream",
     "text": [
      "username autoAnnotate does not have any annotations for current section 270 \n",
      "username autoAnnotate does not have any annotations for current section 271 \n"
     ]
    },
    {
     "name": "stdout",
     "output_type": "stream",
     "text": [
      "\n",
      "270\n",
      "\n",
      "\n",
      "271\n",
      "\n"
     ]
    },
    {
     "name": "stderr",
     "output_type": "stream",
     "text": [
      "username autoAnnotate does not have any annotations for current section 272 \n",
      "username autoAnnotate does not have any annotations for current section 273 \n"
     ]
    },
    {
     "name": "stdout",
     "output_type": "stream",
     "text": [
      "\n",
      "272\n",
      "\n",
      "\n",
      "273\n",
      "\n"
     ]
    },
    {
     "name": "stderr",
     "output_type": "stream",
     "text": [
      "username autoAnnotate does not have any annotations for current section 274 \n",
      "username autoAnnotate does not have any annotations for current section 275 \n"
     ]
    },
    {
     "name": "stdout",
     "output_type": "stream",
     "text": [
      "\n",
      "274\n",
      "\n",
      "\n",
      "275\n",
      "\n"
     ]
    },
    {
     "name": "stderr",
     "output_type": "stream",
     "text": [
      "username autoAnnotate does not have any annotations for current section 276 \n",
      "username autoAnnotate does not have any annotations for current section 277 \n"
     ]
    },
    {
     "name": "stdout",
     "output_type": "stream",
     "text": [
      "\n",
      "276\n",
      "\n",
      "\n",
      "277\n",
      "\n"
     ]
    },
    {
     "name": "stderr",
     "output_type": "stream",
     "text": [
      "username autoAnnotate does not have any annotations for current section 278 \n",
      "username autoAnnotate does not have any annotations for current section 279 \n"
     ]
    },
    {
     "name": "stdout",
     "output_type": "stream",
     "text": [
      "\n",
      "278\n",
      "\n",
      "\n",
      "279\n",
      "\n"
     ]
    },
    {
     "name": "stderr",
     "output_type": "stream",
     "text": [
      "username autoAnnotate does not have any annotations for current section 280 \n",
      "username autoAnnotate does not have any annotations for current section 281 \n"
     ]
    },
    {
     "name": "stdout",
     "output_type": "stream",
     "text": [
      "\n",
      "280\n",
      "\n",
      "\n",
      "281\n",
      "\n"
     ]
    },
    {
     "name": "stderr",
     "output_type": "stream",
     "text": [
      "username autoAnnotate does not have any annotations for current section 282 \n",
      "username autoAnnotate does not have any annotations for current section 283 \n"
     ]
    },
    {
     "name": "stdout",
     "output_type": "stream",
     "text": [
      "\n",
      "282\n",
      "\n",
      "\n",
      "283\n",
      "\n"
     ]
    },
    {
     "name": "stderr",
     "output_type": "stream",
     "text": [
      "username autoAnnotate does not have any annotations for current section 284 \n",
      "username autoAnnotate does not have any annotations for current section 285 \n"
     ]
    },
    {
     "name": "stdout",
     "output_type": "stream",
     "text": [
      "\n",
      "284\n",
      "\n",
      "\n",
      "285\n",
      "\n"
     ]
    },
    {
     "name": "stderr",
     "output_type": "stream",
     "text": [
      "username autoAnnotate does not have any annotations for current section 286 \n",
      "username autoAnnotate does not have any annotations for current section 287 \n"
     ]
    },
    {
     "name": "stdout",
     "output_type": "stream",
     "text": [
      "\n",
      "286\n",
      "\n",
      "\n",
      "287\n",
      "\n"
     ]
    },
    {
     "name": "stderr",
     "output_type": "stream",
     "text": [
      "username autoAnnotate does not have any annotations for current section 288 \n",
      "username autoAnnotate does not have any annotations for current section 289 \n"
     ]
    },
    {
     "name": "stdout",
     "output_type": "stream",
     "text": [
      "\n",
      "288\n",
      "\n",
      "\n",
      "289\n",
      "\n"
     ]
    },
    {
     "name": "stderr",
     "output_type": "stream",
     "text": [
      "username autoAnnotate does not have any annotations for current section 290 \n",
      "username autoAnnotate does not have any annotations for current section 291 \n"
     ]
    },
    {
     "name": "stdout",
     "output_type": "stream",
     "text": [
      "\n",
      "290\n",
      "\n",
      "\n",
      "291\n",
      "\n"
     ]
    },
    {
     "name": "stderr",
     "output_type": "stream",
     "text": [
      "username autoAnnotate does not have any annotations for current section 292 \n",
      "username autoAnnotate does not have any annotations for current section 293 \n"
     ]
    },
    {
     "name": "stdout",
     "output_type": "stream",
     "text": [
      "\n",
      "292\n",
      "\n",
      "\n",
      "293\n",
      "\n"
     ]
    },
    {
     "name": "stderr",
     "output_type": "stream",
     "text": [
      "username autoAnnotate does not have any annotations for current section 294 \n",
      "username autoAnnotate does not have any annotations for current section 295 \n"
     ]
    },
    {
     "name": "stdout",
     "output_type": "stream",
     "text": [
      "\n",
      "294\n",
      "\n",
      "\n",
      "295\n",
      "\n"
     ]
    },
    {
     "name": "stderr",
     "output_type": "stream",
     "text": [
      "username autoAnnotate does not have any annotations for current section 296 \n",
      "username autoAnnotate does not have any annotations for current section 297 \n"
     ]
    },
    {
     "name": "stdout",
     "output_type": "stream",
     "text": [
      "\n",
      "296\n",
      "\n",
      "\n",
      "297\n",
      "\n"
     ]
    },
    {
     "name": "stderr",
     "output_type": "stream",
     "text": [
      "username autoAnnotate does not have any annotations for current section 298 \n",
      "username autoAnnotate does not have any annotations for current section 299 \n"
     ]
    },
    {
     "name": "stdout",
     "output_type": "stream",
     "text": [
      "\n",
      "298\n",
      "\n",
      "\n",
      "299\n",
      "\n"
     ]
    },
    {
     "name": "stderr",
     "output_type": "stream",
     "text": [
      "username autoAnnotate does not have any annotations for current section 300 \n",
      "username autoAnnotate does not have any annotations for current section 301 \n"
     ]
    },
    {
     "name": "stdout",
     "output_type": "stream",
     "text": [
      "\n",
      "300\n",
      "\n",
      "\n",
      "301\n",
      "\n"
     ]
    },
    {
     "name": "stderr",
     "output_type": "stream",
     "text": [
      "username autoAnnotate does not have any annotations for current section 302 \n",
      "username autoAnnotate does not have any annotations for current section 303 \n"
     ]
    },
    {
     "name": "stdout",
     "output_type": "stream",
     "text": [
      "\n",
      "302\n",
      "\n",
      "\n",
      "303\n",
      "\n"
     ]
    },
    {
     "name": "stderr",
     "output_type": "stream",
     "text": [
      "username autoAnnotate does not have any annotations for current section 304 \n",
      "username autoAnnotate does not have any annotations for current section 305 \n"
     ]
    },
    {
     "name": "stdout",
     "output_type": "stream",
     "text": [
      "\n",
      "304\n",
      "\n",
      "\n",
      "305\n",
      "\n"
     ]
    },
    {
     "name": "stderr",
     "output_type": "stream",
     "text": [
      "username autoAnnotate does not have any annotations for current section 306 \n",
      "username autoAnnotate does not have any annotations for current section 307 \n"
     ]
    },
    {
     "name": "stdout",
     "output_type": "stream",
     "text": [
      "\n",
      "306\n",
      "\n",
      "\n",
      "307\n",
      "\n"
     ]
    },
    {
     "name": "stderr",
     "output_type": "stream",
     "text": [
      "username autoAnnotate does not have any annotations for current section 308 \n",
      "username autoAnnotate does not have any annotations for current section 309 \n"
     ]
    },
    {
     "name": "stdout",
     "output_type": "stream",
     "text": [
      "\n",
      "308\n",
      "\n",
      "\n",
      "309\n",
      "\n"
     ]
    },
    {
     "name": "stderr",
     "output_type": "stream",
     "text": [
      "username autoAnnotate does not have any annotations for current section 310 \n",
      "username autoAnnotate does not have any annotations for current section 311 \n"
     ]
    },
    {
     "name": "stdout",
     "output_type": "stream",
     "text": [
      "\n",
      "310\n",
      "\n",
      "\n",
      "311\n",
      "\n"
     ]
    },
    {
     "name": "stderr",
     "output_type": "stream",
     "text": [
      "username autoAnnotate does not have any annotations for current section 312 \n",
      "username autoAnnotate does not have any annotations for current section 313 \n"
     ]
    },
    {
     "name": "stdout",
     "output_type": "stream",
     "text": [
      "\n",
      "312\n",
      "\n",
      "\n",
      "313\n",
      "\n"
     ]
    },
    {
     "name": "stderr",
     "output_type": "stream",
     "text": [
      "username autoAnnotate does not have any annotations for current section 314 \n",
      "username autoAnnotate does not have any annotations for current section 315 \n"
     ]
    },
    {
     "name": "stdout",
     "output_type": "stream",
     "text": [
      "\n",
      "314\n",
      "\n",
      "\n",
      "315\n",
      "\n"
     ]
    },
    {
     "name": "stderr",
     "output_type": "stream",
     "text": [
      "username autoAnnotate does not have any annotations for current section 316 \n",
      "username yuncong does not have any annotations for current section 317 \n",
      "username autoAnnotate does not have any annotations for current section 317 \n",
      "username autoAnnotate does not have any annotations for current section 318 \n"
     ]
    },
    {
     "name": "stdout",
     "output_type": "stream",
     "text": [
      "\n",
      "316\n",
      "\n"
     ]
    },
    {
     "name": "stderr",
     "output_type": "stream",
     "text": [
      "username yuncong does not have any annotations for current section 319 \n",
      "username autoAnnotate does not have any annotations for current section 319 \n",
      "username autoAnnotate does not have any annotations for current section 320 \n"
     ]
    },
    {
     "name": "stdout",
     "output_type": "stream",
     "text": [
      "\n",
      "318\n",
      "\n"
     ]
    },
    {
     "name": "stderr",
     "output_type": "stream",
     "text": [
      "username yuncong does not have any annotations for current section 321 \n",
      "username autoAnnotate does not have any annotations for current section 321 \n",
      "username autoAnnotate does not have any annotations for current section 322 \n"
     ]
    },
    {
     "name": "stdout",
     "output_type": "stream",
     "text": [
      "\n",
      "320\n",
      "\n",
      "\n",
      "322\n",
      "\n"
     ]
    },
    {
     "name": "stderr",
     "output_type": "stream",
     "text": [
      "username autoAnnotate does not have any annotations for current section 323 \n",
      "username yuncong does not have any annotations for current section 324 \n",
      "username autoAnnotate does not have any annotations for current section 324 \n",
      "username autoAnnotate does not have any annotations for current section 325 \n"
     ]
    },
    {
     "name": "stdout",
     "output_type": "stream",
     "text": [
      "\n",
      "323\n",
      "\n"
     ]
    },
    {
     "name": "stderr",
     "output_type": "stream",
     "text": [
      "username yuncong does not have any annotations for current section 326 \n",
      "username autoAnnotate does not have any annotations for current section 326 \n",
      "username autoAnnotate does not have any annotations for current section 327 \n"
     ]
    },
    {
     "name": "stdout",
     "output_type": "stream",
     "text": [
      "\n",
      "325\n",
      "\n"
     ]
    },
    {
     "name": "stderr",
     "output_type": "stream",
     "text": [
      "username yuncong does not have any annotations for current section 328 \n",
      "username autoAnnotate does not have any annotations for current section 328 \n",
      "username autoAnnotate does not have any annotations for current section 329 \n"
     ]
    },
    {
     "name": "stdout",
     "output_type": "stream",
     "text": [
      "\n",
      "327\n",
      "\n"
     ]
    },
    {
     "name": "stderr",
     "output_type": "stream",
     "text": [
      "username yuncong does not have any annotations for current section 330 \n",
      "username autoAnnotate does not have any annotations for current section 330 \n",
      "username autoAnnotate does not have any annotations for current section 331 \n"
     ]
    },
    {
     "name": "stdout",
     "output_type": "stream",
     "text": [
      "\n",
      "329\n",
      "\n"
     ]
    },
    {
     "name": "stderr",
     "output_type": "stream",
     "text": [
      "username yuncong does not have any annotations for current section 332 \n",
      "username autoAnnotate does not have any annotations for current section 332 \n",
      "username autoAnnotate does not have any annotations for current section 333 \n"
     ]
    },
    {
     "name": "stdout",
     "output_type": "stream",
     "text": [
      "\n",
      "331\n",
      "\n"
     ]
    },
    {
     "name": "stderr",
     "output_type": "stream",
     "text": [
      "username yuncong does not have any annotations for current section 334 \n",
      "username autoAnnotate does not have any annotations for current section 334 \n",
      "username autoAnnotate does not have any annotations for current section 335 \n"
     ]
    },
    {
     "name": "stdout",
     "output_type": "stream",
     "text": [
      "\n",
      "333\n",
      "\n"
     ]
    },
    {
     "name": "stderr",
     "output_type": "stream",
     "text": [
      "username yuncong does not have any annotations for current section 336 \n",
      "username autoAnnotate does not have any annotations for current section 336 \n",
      "username autoAnnotate does not have any annotations for current section 337 \n"
     ]
    },
    {
     "name": "stdout",
     "output_type": "stream",
     "text": [
      "\n",
      "335\n",
      "\n"
     ]
    },
    {
     "name": "stderr",
     "output_type": "stream",
     "text": [
      "username yuncong does not have any annotations for current section 338 \n",
      "username autoAnnotate does not have any annotations for current section 338 \n",
      "username autoAnnotate does not have any annotations for current section 339 \n"
     ]
    },
    {
     "name": "stdout",
     "output_type": "stream",
     "text": [
      "\n",
      "337\n",
      "\n"
     ]
    },
    {
     "name": "stderr",
     "output_type": "stream",
     "text": [
      "username yuncong does not have any annotations for current section 340 \n",
      "username autoAnnotate does not have any annotations for current section 340 \n",
      "username autoAnnotate does not have any annotations for current section 341 \n"
     ]
    },
    {
     "name": "stdout",
     "output_type": "stream",
     "text": [
      "\n",
      "339\n",
      "\n"
     ]
    },
    {
     "name": "stderr",
     "output_type": "stream",
     "text": [
      "username yuncong does not have any annotations for current section 342 \n",
      "username autoAnnotate does not have any annotations for current section 342 \n",
      "username autoAnnotate does not have any annotations for current section 343 \n"
     ]
    },
    {
     "name": "stdout",
     "output_type": "stream",
     "text": [
      "\n",
      "341\n",
      "\n"
     ]
    },
    {
     "name": "stderr",
     "output_type": "stream",
     "text": [
      "username yuncong does not have any annotations for current section 344 \n",
      "username autoAnnotate does not have any annotations for current section 344 \n",
      "username autoAnnotate does not have any annotations for current section 345 \n"
     ]
    },
    {
     "name": "stdout",
     "output_type": "stream",
     "text": [
      "\n",
      "343\n",
      "\n"
     ]
    },
    {
     "name": "stderr",
     "output_type": "stream",
     "text": [
      "username yuncong does not have any annotations for current section 346 \n",
      "username autoAnnotate does not have any annotations for current section 346 \n",
      "username autoAnnotate does not have any annotations for current section 347 \n"
     ]
    },
    {
     "name": "stdout",
     "output_type": "stream",
     "text": [
      "\n",
      "345\n",
      "\n"
     ]
    },
    {
     "name": "stderr",
     "output_type": "stream",
     "text": [
      "username yuncong does not have any annotations for current section 348 \n",
      "username autoAnnotate does not have any annotations for current section 348 \n",
      "username autoAnnotate does not have any annotations for current section 349 \n"
     ]
    },
    {
     "name": "stdout",
     "output_type": "stream",
     "text": [
      "\n",
      "347\n",
      "\n"
     ]
    },
    {
     "name": "stderr",
     "output_type": "stream",
     "text": [
      "username yuncong does not have any annotations for current section 350 \n",
      "username autoAnnotate does not have any annotations for current section 350 \n",
      "username autoAnnotate does not have any annotations for current section 351 \n"
     ]
    },
    {
     "name": "stdout",
     "output_type": "stream",
     "text": [
      "\n",
      "349\n",
      "\n"
     ]
    },
    {
     "name": "stderr",
     "output_type": "stream",
     "text": [
      "username yuncong does not have any annotations for current section 352 \n",
      "username autoAnnotate does not have any annotations for current section 352 \n",
      "username yuncong does not have any annotations for current section 353 \n",
      "username autoAnnotate does not have any annotations for current section 353 \n",
      "username yuncong does not have any annotations for current section 354 \n",
      "username autoAnnotate does not have any annotations for current section 354 \n",
      "username yuncong does not have any annotations for current section 355 \n",
      "username autoAnnotate does not have any annotations for current section 355 \n",
      "username yuncong does not have any annotations for current section 356 \n",
      "username autoAnnotate does not have any annotations for current section 356 \n",
      "username yuncong does not have any annotations for current section 357 \n",
      "username autoAnnotate does not have any annotations for current section 357 \n",
      "username yuncong does not have any annotations for current section 358 \n",
      "username autoAnnotate does not have any annotations for current section 358 \n",
      "username yuncong does not have any annotations for current section 359 \n",
      "username autoAnnotate does not have any annotations for current section 359 \n",
      "username yuncong does not have any annotations for current section 360 \n",
      "username autoAnnotate does not have any annotations for current section 360 \n",
      "username yuncong does not have any annotations for current section 361 \n",
      "username autoAnnotate does not have any annotations for current section 361 \n",
      "username yuncong does not have any annotations for current section 362 \n",
      "username autoAnnotate does not have any annotations for current section 362 \n",
      "username yuncong does not have any annotations for current section 363 \n",
      "username autoAnnotate does not have any annotations for current section 363 \n",
      "username yuncong does not have any annotations for current section 364 \n",
      "username autoAnnotate does not have any annotations for current section 364 \n",
      "username yuncong does not have any annotations for current section 365 \n",
      "username autoAnnotate does not have any annotations for current section 365 \n",
      "username yuncong does not have any annotations for current section 366 \n",
      "username autoAnnotate does not have any annotations for current section 366 \n",
      "username yuncong does not have any annotations for current section 367 \n",
      "username autoAnnotate does not have any annotations for current section 367 \n",
      "username yuncong does not have any annotations for current section 368 \n"
     ]
    },
    {
     "name": "stdout",
     "output_type": "stream",
     "text": [
      "\n",
      "351\n"
     ]
    },
    {
     "name": "stderr",
     "output_type": "stream",
     "text": [
      "username autoAnnotate does not have any annotations for current section 368 \n"
     ]
    }
   ],
   "source": [
    "first_bs_sec, last_bs_sec = section_range_lookup[stack]\n",
    "\n",
    "for sec in range(first_bs_sec, last_bs_sec+1):\n",
    "# for sec in range(181, 262+1):\n",
    "# for sec in [135]:\n",
    "\n",
    "    dm.set_slice(sec)\n",
    "    \n",
    "    ret = dm.load_proposal_review_result('yuncong', 'latest', 'consolidated')\n",
    "    if ret is not None:\n",
    "        user, ts, _, annotations = ret\n",
    "        \n",
    "    ret_autoAnno = dm.load_proposal_review_result('autoAnnotate', 'latest', 'consolidated')\n",
    "    if ret_autoAnno is not None:\n",
    "        user2, ts2, _, annotations_autoAnno = ret_autoAnno\n",
    "        \n",
    "    if ret is None and ret_autoAnno is None:\n",
    "        continue\n",
    "    \n",
    "    print '\\n'\n",
    "    print sec\n",
    "    \n",
    "    img = imread(os.path.join(os.environ['DATA_DIR'], '%(stack)s_lossless_aligned_cropped_downscaled', \n",
    "                  '%(stack)s_%(sec)04d_lossless_aligned_cropped_downscaled.jpg') % {'stack': stack, 'sec': sec})\n",
    "\n",
    "#     viz = img_as_ubyte(rescale(img, 1./downscale_factor))\n",
    "    viz = img[::downscale_factor, ::downscale_factor].copy()\n",
    "    \n",
    "    label_texts = set([])\n",
    "    \n",
    "    if ret is not None and len(annotations) > 0:\n",
    "            \n",
    "        for ann in annotations:\n",
    "\n",
    "            vertices = np.array(ann['vertices']) / downscale_factor\n",
    "\n",
    "        #     for x,y in vertices:\n",
    "        #         cv2.circle(viz, (int(x), int(y)), 5, (0,0,255), -1)\n",
    "            cv2.polylines(viz, [vertices.astype(np.int)], True, (0,0,255), 5)\n",
    "\n",
    "#             lx, ly = np.array(ann['labelPos']) / downscale_factor\n",
    "#             cv2.putText(viz, ann['label'], (int(lx)-10, int(ly)+10), \n",
    "#                         cv2.FONT_HERSHEY_DUPLEX, 1, ((0,0,0)), 2)\n",
    "\n",
    "            label_texts.add(ann['label'])\n",
    "            \n",
    "            \n",
    "    if ret_autoAnno is not None and len(annotations_autoAnno) > 0:\n",
    "        \n",
    "        for ann in annotations_autoAnno:\n",
    "            \n",
    "            \n",
    "#             vertices_ref = np.array(ann['vertices']) / downscale_factor\n",
    "            \n",
    "            vertices = np.array(ann['vertices']) / downscale_factor\n",
    "\n",
    "        #     for x,y in vertices:\n",
    "        #         cv2.circle(viz, (int(x), int(y)), 5, (255,0,0), -1)\n",
    "            cv2.polylines(viz, [vertices.astype(np.int)], True, (255,0,0), 2)\n",
    "            \n",
    "            print ann['label']\n",
    "\n",
    "#             if ann['label'] not in label_texts:            \n",
    "#                 lx, ly = np.array(ann['labelPos']) / downscale_factor\n",
    "#                 cv2.putText(viz, ann['label'], (int(lx)-10, int(ly)+10), \n",
    "#                             cv2.FONT_HERSHEY_DUPLEX, 1, ((0,0,0)), 2)\n",
    "\n",
    "\n",
    "    if ret is not None and ret_autoAnno is not None:\n",
    "        output_fn = os.path.join(labelingViz_dir, \n",
    "                     '%(stack)s_%(sec)04d_%(user)s_%(ts)s_%(user2)s_%(ts2)s_viz.jpg'% \\\n",
    "                                 {'stack':stack, 'sec':sec, 'user': user, 'ts': ts, 'user2':user2, 'ts2':ts2})\n",
    "    elif ret is not None:\n",
    "        output_fn = os.path.join(labelingViz_dir, \n",
    "                     '%(stack)s_%(sec)04d_%(user)s_%(ts)s_viz.jpg'% \\\n",
    "                                 {'stack':stack, 'sec':sec, 'user': user, 'ts': ts})            \n",
    "    else:\n",
    "        output_fn = os.path.join(labelingViz_dir, \n",
    "             '%(stack)s_%(sec)04d_%(user2)s_%(ts2)s_viz.jpg'% \\\n",
    "                         {'stack':stack, 'sec':sec, 'user2': user2, 'ts2': ts2})\n",
    "        \n",
    "    cv2.imwrite(output_fn, viz[..., ::-1])"
   ]
  },
  {
   "cell_type": "code",
   "execution_count": null,
   "metadata": {
    "collapsed": true
   },
   "outputs": [],
   "source": [
    "# For MICCAI paper (image, scoremap, auto annotation contours)"
   ]
  },
  {
   "cell_type": "code",
   "execution_count": 32,
   "metadata": {
    "collapsed": false
   },
   "outputs": [
    {
     "name": "stdout",
     "output_type": "stream",
     "text": [
      "141\n"
     ]
    }
   ],
   "source": [
    "first_bs_sec, last_bs_sec = section_range_lookup[stack]\n",
    "\n",
    "# for sec in range(first_bs_sec, last_bs_sec+1):\n",
    "for sec in [141]:\n",
    "\n",
    "    dm.set_slice(sec)\n",
    "        \n",
    "    ret_autoAnno = dm.load_proposal_review_result('autoAnnotate', 'latest', 'consolidated')\n",
    "    if ret_autoAnno is not None:\n",
    "        user2, ts2, _, annotations_autoAnno = ret_autoAnno\n",
    "        \n",
    "    if ret is None and ret_autoAnno is None:\n",
    "        continue\n",
    "    \n",
    "    print sec\n",
    "    \n",
    "    \n",
    "    dm._load_image(versions=['rgb-jpg'])\n",
    "    cropped_img = dm.image_rgb_jpg[::8, ::8]\n",
    "    \n",
    "    scoremaps_rootdir = '/home/yuncong/csd395/CSHL_scoremaps_lossless/'\n",
    "    scoremaps_dir = os.path.join(scoremaps_rootdir, stack, '%04d'%sec)\n",
    "\n",
    "    l = '7N'\n",
    "    \n",
    "    scoremap_whole = bp.unpack_ndarray_file(os.path.join(scoremaps_dir, \n",
    "                                           '%(stack)s_%(sec)04d_roi1_denseScoreMapLossless_%(label)s.bp' % \\\n",
    "                                           {'stack': stack, 'sec': sec, 'label': l}))\n",
    "    # except:\n",
    "    #     sys.stderr.write('No scoremap of %s exists\\n' % (l))\n",
    "    #     continue\n",
    "\n",
    "\n",
    "    dataset = stack + '_' + '%04d'%sec + '_roi1'\n",
    "\n",
    "    interpolation_xmin, interpolation_xmax, \\\n",
    "    interpolation_ymin, interpolation_ymax = np.loadtxt(os.path.join(scoremaps_dir, \n",
    "                                                                     '%(dataset)s_denseScoreMapLossless_%(label)s_interpBox.txt' % \\\n",
    "                                    {'dataset': dataset, 'label': l})).astype(np.int)\n",
    "\n",
    "    dense_scoremap_lossless = np.zeros((dm.image_height, dm.image_width), np.float32)\n",
    "    dense_scoremap_lossless[interpolation_ymin:interpolation_ymax+1,\n",
    "                            interpolation_xmin:interpolation_xmax+1] = scoremap_whole\n",
    "\n",
    "    scoremap = dense_scoremap_lossless[::8, ::8]\n",
    "    scoremap_height, scoremap_width = scoremap.shape[:2]\n",
    "\n",
    "    scoremap_layer_viz = img_as_ubyte(plt.cm.hot(scoremap)[..., :3])\n",
    "    scoremap_viz = img_as_ubyte(alpha_blending(scoremap_layer_viz,\n",
    "                                               cropped_img,\n",
    "                                               .3, 1)[..., :3])\n",
    "    \n",
    "\n",
    "#     viz = img_as_ubyte(rescale(scoremap_viz, 1./downscale_factor))\n",
    "#     viz = scoremap_viz[::downscale_factor, ::downscale_factor]\n",
    "                \n",
    "    if ret_autoAnno is not None and len(annotations_autoAnno) > 0:\n",
    "        \n",
    "        for ann in annotations_autoAnno:\n",
    "            \n",
    "            if ann['label'] == l:\n",
    "            \n",
    "                vertices = np.array(ann['vertices']) / downscale_factor\n",
    "                cv2.polylines(scoremap_viz, [vertices.astype(np.int)], True, (255,0,0), 2)\n",
    "\n",
    "    #             print ann['label']\n"
   ]
  },
  {
   "cell_type": "code",
   "execution_count": 33,
   "metadata": {
    "collapsed": false
   },
   "outputs": [
    {
     "data": {
      "text/html": [
       "<a href='tmp.jpg' target='_blank'>tmp.jpg</a><br>"
      ],
      "text/plain": [
       "/oasis/projects/nsf/csd395/yuncong/Brain/learning/tmp.jpg"
      ]
     },
     "execution_count": 33,
     "metadata": {},
     "output_type": "execute_result"
    }
   ],
   "source": [
    "display(scoremap_viz)"
   ]
  }
 ],
 "metadata": {
  "kernelspec": {
   "display_name": "Python 2",
   "language": "python",
   "name": "python2"
  },
  "language_info": {
   "codemirror_mode": {
    "name": "ipython",
    "version": 2
   },
   "file_extension": ".py",
   "mimetype": "text/x-python",
   "name": "python",
   "nbconvert_exporter": "python",
   "pygments_lexer": "ipython2",
   "version": "2.7.3"
  }
 },
 "nbformat": 4,
 "nbformat_minor": 0
}
