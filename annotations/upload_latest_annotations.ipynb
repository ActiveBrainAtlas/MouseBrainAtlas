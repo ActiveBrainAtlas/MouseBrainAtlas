{
 "cells": [
  {
   "cell_type": "code",
   "execution_count": 1,
   "metadata": {
    "collapsed": true
   },
   "outputs": [],
   "source": [
    "%reload_ext autoreload\n",
    "%autoreload 2\n",
    "\n",
    "import os\n",
    "import sys\n",
    "sys.path.append(os.path.join(os.environ['REPO_DIR'], 'utilities'))\n",
    "from utilities2015 import *\n",
    "\n",
    "%matplotlib inline\n",
    "\n",
    "# This script is supposed to be run on the local machine"
   ]
  },
  {
   "cell_type": "code",
   "execution_count": 3,
   "metadata": {
    "collapsed": true
   },
   "outputs": [],
   "source": [
    "stack = 'MD594'\n",
    "first_bs_sec, last_bs_sec = section_range_lookup[stack]"
   ]
  },
  {
   "cell_type": "code",
   "execution_count": 4,
   "metadata": {
    "collapsed": true
   },
   "outputs": [],
   "source": [
    "annotations_rootdir_local = '/home/yuncong/CSHL_data_labelings_losslessAlignCropped'\n",
    "annotations_rootdir_gordon = '/home/yuncong/csd395/CSHL_data_labelings_losslessAlignCropped'"
   ]
  },
  {
   "cell_type": "code",
   "execution_count": 5,
   "metadata": {
    "collapsed": false
   },
   "outputs": [
    {
     "data": {
      "text/plain": [
       "256"
      ]
     },
     "execution_count": 5,
     "metadata": {},
     "output_type": "execute_result"
    }
   ],
   "source": [
    "cmd = 'ssh yuncong@oasis-dm.sdsc.edu mkdir %(annotations_rootdir)s/%(stack)s' % \\\n",
    "{'stack': stack, 'annotations_rootdir': annotations_rootdir_gordon}\n",
    "\n",
    "os.system(cmd)"
   ]
  },
  {
   "cell_type": "code",
   "execution_count": 6,
   "metadata": {
    "collapsed": true
   },
   "outputs": [],
   "source": [
    "dm = DataManager(stack=stack, data_dir='/media/yuncong/MyPassport')"
   ]
  },
  {
   "cell_type": "code",
   "execution_count": 9,
   "metadata": {
    "collapsed": false,
    "scrolled": true
   },
   "outputs": [
    {
     "name": "stdout",
     "output_type": "stream",
     "text": [
      "147\n",
      "ssh yuncong@oasis-dm.sdsc.edu mkdir /home/yuncong/csd395/CSHL_data_labelings_losslessAlignCropped/MD594/0147;         scp /home/yuncong/CSHL_data_labelings_losslessAlignCropped/MD594/0147/MD594_0147_yuncong_04192016002620_consolidated.pkl yuncong@oasis-dm.sdsc.edu:/home/yuncong/csd395/CSHL_data_labelings_losslessAlignCropped/MD594/0147\n",
      "145\n",
      "ssh yuncong@oasis-dm.sdsc.edu mkdir /home/yuncong/csd395/CSHL_data_labelings_losslessAlignCropped/MD594/0145;         scp /home/yuncong/CSHL_data_labelings_losslessAlignCropped/MD594/0145/MD594_0145_yuncong_04192016003252_consolidated.pkl yuncong@oasis-dm.sdsc.edu:/home/yuncong/csd395/CSHL_data_labelings_losslessAlignCropped/MD594/0145\n",
      "144\n",
      "ssh yuncong@oasis-dm.sdsc.edu mkdir /home/yuncong/csd395/CSHL_data_labelings_losslessAlignCropped/MD594/0144;         scp /home/yuncong/CSHL_data_labelings_losslessAlignCropped/MD594/0144/MD594_0144_yuncong_04192016003323_consolidated.pkl yuncong@oasis-dm.sdsc.edu:/home/yuncong/csd395/CSHL_data_labelings_losslessAlignCropped/MD594/0144\n",
      "143\n",
      "ssh yuncong@oasis-dm.sdsc.edu mkdir /home/yuncong/csd395/CSHL_data_labelings_losslessAlignCropped/MD594/0143;         scp /home/yuncong/CSHL_data_labelings_losslessAlignCropped/MD594/0143/MD594_0143_yuncong_04192016003404_consolidated.pkl yuncong@oasis-dm.sdsc.edu:/home/yuncong/csd395/CSHL_data_labelings_losslessAlignCropped/MD594/0143\n",
      "142\n",
      "ssh yuncong@oasis-dm.sdsc.edu mkdir /home/yuncong/csd395/CSHL_data_labelings_losslessAlignCropped/MD594/0142;         scp /home/yuncong/CSHL_data_labelings_losslessAlignCropped/MD594/0142/MD594_0142_yuncong_04192016003404_consolidated.pkl yuncong@oasis-dm.sdsc.edu:/home/yuncong/csd395/CSHL_data_labelings_losslessAlignCropped/MD594/0142\n"
     ]
    },
    {
     "name": "stderr",
     "output_type": "stream",
     "text": [
      "upload annotations: 18.63 seconds\n"
     ]
    }
   ],
   "source": [
    "import time\n",
    "t = time.time()\n",
    "\n",
    "# for sec in range(first_bs_sec, last_bs_sec+1):\n",
    "for sec in  [147, 145, 144, 143, 142]:\n",
    "    print sec\n",
    "    dm.set_slice(sec)\n",
    "    \n",
    "    annotations_dir_gordon = os.path.join(annotations_rootdir_gordon, stack, '%04d'%sec)\n",
    "    \n",
    "    try:        \n",
    "        fn_path = dm.load_review_result_path('yuncong', 'latest', suffix='consolidated')[0]\n",
    "        cmd = 'ssh yuncong@oasis-dm.sdsc.edu mkdir %(annotations_dir_gordon)s; \\\n",
    "        scp %(fn)s yuncong@oasis-dm.sdsc.edu:%(annotations_dir_gordon)s' % \\\n",
    "        {'fn': fn_path, 'annotations_dir_gordon': annotations_dir_gordon}\n",
    "        print cmd\n",
    "        os.system(cmd)\n",
    "    except:\n",
    "        continue\n",
    "        \n",
    "sys.stderr.write('upload annotations: %.2f seconds\\n' % (time.time() - t)) # ~ s / entire stack"
   ]
  },
  {
   "cell_type": "code",
   "execution_count": null,
   "metadata": {
    "collapsed": true
   },
   "outputs": [],
   "source": []
  }
 ],
 "metadata": {
  "kernelspec": {
   "display_name": "Python 2",
   "language": "python",
   "name": "python2"
  },
  "language_info": {
   "codemirror_mode": {
    "name": "ipython",
    "version": 2
   },
   "file_extension": ".py",
   "mimetype": "text/x-python",
   "name": "python",
   "nbconvert_exporter": "python",
   "pygments_lexer": "ipython2",
   "version": "2.7.6"
  }
 },
 "nbformat": 4,
 "nbformat_minor": 0
}
