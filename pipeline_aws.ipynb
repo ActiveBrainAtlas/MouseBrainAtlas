{
 "cells": [
  {
   "cell_type": "code",
   "execution_count": 2,
   "metadata": {
    "scrolled": true
   },
   "outputs": [
    {
     "name": "stdout",
     "output_type": "stream",
     "text": [
      "Setting environment for AWS compute node\n",
      "rm -rf /shared/CSHL_data_processed/MD585/MD585_thumbnail_alignedTo_MD585-N47-2015.07.16-22.50.52_MD585_3_0141_cropped/MD585-IHC26-2015.08.19-13.23.15_MD585_3_0078_thumbnail_alignedTo_MD585-N47-2015.07.16-22.50.52_MD585_3_0141_cropped.tif && mkdir -p /shared/CSHL_data_processed/MD585/MD585_thumbnail_alignedTo_MD585-N47-2015.07.16-22.50.52_MD585_3_0141_cropped\n",
      "aws s3 cp s3://mousebrainatlas-data/CSHL_data_processed/MD585/MD585_thumbnail_alignedTo_MD585-N47-2015.07.16-22.50.52_MD585_3_0141_cropped/MD585-IHC26-2015.08.19-13.23.15_MD585_3_0078_thumbnail_alignedTo_MD585-N47-2015.07.16-22.50.52_MD585_3_0141_cropped.tif /shared/CSHL_data_processed/MD585/MD585_thumbnail_alignedTo_MD585-N47-2015.07.16-22.50.52_MD585_3_0141_cropped/MD585-IHC26-2015.08.19-13.23.15_MD585_3_0078_thumbnail_alignedTo_MD585-N47-2015.07.16-22.50.52_MD585_3_0141_cropped.tif\n"
     ]
    },
    {
     "name": "stderr",
     "output_type": "stream",
     "text": [
      "No vtk\n",
      "Child returned 0\n",
      "Child returned 0\n",
      "0.50 seconds.\n",
      "/usr/local/lib/python2.7/dist-packages/skimage/external/tifffile/tifffile.py:2611: RuntimeWarning: py_decodelzw encountered unexpected end of stream\n",
      "  strip = decompress(strip)\n",
      "Child returned 0\n"
     ]
    },
    {
     "name": "stdout",
     "output_type": "stream",
     "text": [
      "rm -rf /shared/CSHL_data_processed/MD590/MD590_thumbnail_alignedTo_MD590-N47-2015.09.12-05.32.06_MD590_2_0140_cropped/MD590-N21-2015.08.03-18.21.58_MD590_2_0062_thumbnail_alignedTo_MD590-N47-2015.09.12-05.32.06_MD590_2_0140_cropped.tif && mkdir -p /shared/CSHL_data_processed/MD590/MD590_thumbnail_alignedTo_MD590-N47-2015.09.12-05.32.06_MD590_2_0140_cropped\n",
      "aws s3 cp s3://mousebrainatlas-data/CSHL_data_processed/MD590/MD590_thumbnail_alignedTo_MD590-N47-2015.09.12-05.32.06_MD590_2_0140_cropped/MD590-N21-2015.08.03-18.21.58_MD590_2_0062_thumbnail_alignedTo_MD590-N47-2015.09.12-05.32.06_MD590_2_0140_cropped.tif /shared/CSHL_data_processed/MD590/MD590_thumbnail_alignedTo_MD590-N47-2015.09.12-05.32.06_MD590_2_0140_cropped/MD590-N21-2015.08.03-18.21.58_MD590_2_0062_thumbnail_alignedTo_MD590-N47-2015.09.12-05.32.06_MD590_2_0140_cropped.tif\n"
     ]
    },
    {
     "name": "stderr",
     "output_type": "stream",
     "text": [
      "Child returned 0\n",
      "0.47 seconds.\n",
      "Child returned 0\n"
     ]
    },
    {
     "name": "stdout",
     "output_type": "stream",
     "text": [
      "rm -rf /shared/CSHL_data_processed/MD591/MD591_thumbnail_alignedTo_MD591-N57-2015.09.21-17.13.29_MD591_1_0169_cropped/MD591-N48-2015.08.28-06.22.10_MD591_1_0144_thumbnail_alignedTo_MD591-N57-2015.09.21-17.13.29_MD591_1_0169_cropped.tif && mkdir -p /shared/CSHL_data_processed/MD591/MD591_thumbnail_alignedTo_MD591-N57-2015.09.21-17.13.29_MD591_1_0169_cropped\n",
      "aws s3 cp s3://mousebrainatlas-data/CSHL_data_processed/MD591/MD591_thumbnail_alignedTo_MD591-N57-2015.09.21-17.13.29_MD591_1_0169_cropped/MD591-N48-2015.08.28-06.22.10_MD591_1_0144_thumbnail_alignedTo_MD591-N57-2015.09.21-17.13.29_MD591_1_0169_cropped.tif /shared/CSHL_data_processed/MD591/MD591_thumbnail_alignedTo_MD591-N57-2015.09.21-17.13.29_MD591_1_0169_cropped/MD591-N48-2015.08.28-06.22.10_MD591_1_0144_thumbnail_alignedTo_MD591-N57-2015.09.21-17.13.29_MD591_1_0169_cropped.tif\n"
     ]
    },
    {
     "name": "stderr",
     "output_type": "stream",
     "text": [
      "Child returned 0\n",
      "0.48 seconds.\n",
      "Child returned 0\n"
     ]
    },
    {
     "name": "stdout",
     "output_type": "stream",
     "text": [
      "rm -rf /shared/CSHL_data_processed/MD592/MD592_thumbnail_alignedTo_MD592-IHC59-2015.08.26-00.06.25_MD592_2_0176_cropped/MD592-N68-2015.08.22-04.16.16_MD592_1_0202_thumbnail_alignedTo_MD592-IHC59-2015.08.26-00.06.25_MD592_2_0176_cropped.tif && mkdir -p /shared/CSHL_data_processed/MD592/MD592_thumbnail_alignedTo_MD592-IHC59-2015.08.26-00.06.25_MD592_2_0176_cropped\n",
      "aws s3 cp s3://mousebrainatlas-data/CSHL_data_processed/MD592/MD592_thumbnail_alignedTo_MD592-IHC59-2015.08.26-00.06.25_MD592_2_0176_cropped/MD592-N68-2015.08.22-04.16.16_MD592_1_0202_thumbnail_alignedTo_MD592-IHC59-2015.08.26-00.06.25_MD592_2_0176_cropped.tif /shared/CSHL_data_processed/MD592/MD592_thumbnail_alignedTo_MD592-IHC59-2015.08.26-00.06.25_MD592_2_0176_cropped/MD592-N68-2015.08.22-04.16.16_MD592_1_0202_thumbnail_alignedTo_MD592-IHC59-2015.08.26-00.06.25_MD592_2_0176_cropped.tif\n"
     ]
    },
    {
     "name": "stderr",
     "output_type": "stream",
     "text": [
      "Child returned 0\n",
      "0.48 seconds.\n",
      "Child returned 0\n"
     ]
    },
    {
     "name": "stdout",
     "output_type": "stream",
     "text": [
      "rm -rf /shared/CSHL_data_processed/MD593/MD593_thumbnail_alignedTo_MD593-IHC54-2015.08.25-17.40.32_MD593_2_0161_cropped/MD593-IHC27-2015.08.25-15.45.27_MD593_2_0080_thumbnail_alignedTo_MD593-IHC54-2015.08.25-17.40.32_MD593_2_0161_cropped.tif && mkdir -p /shared/CSHL_data_processed/MD593/MD593_thumbnail_alignedTo_MD593-IHC54-2015.08.25-17.40.32_MD593_2_0161_cropped\n",
      "aws s3 cp s3://mousebrainatlas-data/CSHL_data_processed/MD593/MD593_thumbnail_alignedTo_MD593-IHC54-2015.08.25-17.40.32_MD593_2_0161_cropped/MD593-IHC27-2015.08.25-15.45.27_MD593_2_0080_thumbnail_alignedTo_MD593-IHC54-2015.08.25-17.40.32_MD593_2_0161_cropped.tif /shared/CSHL_data_processed/MD593/MD593_thumbnail_alignedTo_MD593-IHC54-2015.08.25-17.40.32_MD593_2_0161_cropped/MD593-IHC27-2015.08.25-15.45.27_MD593_2_0080_thumbnail_alignedTo_MD593-IHC54-2015.08.25-17.40.32_MD593_2_0161_cropped.tif\n"
     ]
    },
    {
     "name": "stderr",
     "output_type": "stream",
     "text": [
      "Child returned 0\n",
      "0.48 seconds.\n",
      "Child returned 0\n"
     ]
    },
    {
     "name": "stdout",
     "output_type": "stream",
     "text": [
      "rm -rf /shared/CSHL_data_processed/MD594/MD594_thumbnail_alignedTo_MD594-IHC58-2015.08.26-18.48.50_MD594_1_0172_cropped/MD594-N74-2015.08.27-01.27.25_MD594_3_0222_thumbnail_alignedTo_MD594-IHC58-2015.08.26-18.48.50_MD594_1_0172_cropped.tif && mkdir -p /shared/CSHL_data_processed/MD594/MD594_thumbnail_alignedTo_MD594-IHC58-2015.08.26-18.48.50_MD594_1_0172_cropped\n",
      "aws s3 cp s3://mousebrainatlas-data/CSHL_data_processed/MD594/MD594_thumbnail_alignedTo_MD594-IHC58-2015.08.26-18.48.50_MD594_1_0172_cropped/MD594-N74-2015.08.27-01.27.25_MD594_3_0222_thumbnail_alignedTo_MD594-IHC58-2015.08.26-18.48.50_MD594_1_0172_cropped.tif /shared/CSHL_data_processed/MD594/MD594_thumbnail_alignedTo_MD594-IHC58-2015.08.26-18.48.50_MD594_1_0172_cropped/MD594-N74-2015.08.27-01.27.25_MD594_3_0222_thumbnail_alignedTo_MD594-IHC58-2015.08.26-18.48.50_MD594_1_0172_cropped.tif\n"
     ]
    },
    {
     "name": "stderr",
     "output_type": "stream",
     "text": [
      "Child returned 0\n",
      "0.48 seconds.\n",
      "Child returned 0\n"
     ]
    },
    {
     "name": "stdout",
     "output_type": "stream",
     "text": [
      "rm -rf /shared/CSHL_data_processed/MD595/MD595_thumbnail_alignedTo_MD595-IHC48-2015.09.15-18.38.44_MD595_1_0142_cropped/MD595-N20-2015.09.14-20.17.53_MD595_1_0058_thumbnail_alignedTo_MD595-IHC48-2015.09.15-18.38.44_MD595_1_0142_cropped.tif && mkdir -p /shared/CSHL_data_processed/MD595/MD595_thumbnail_alignedTo_MD595-IHC48-2015.09.15-18.38.44_MD595_1_0142_cropped\n",
      "aws s3 cp s3://mousebrainatlas-data/CSHL_data_processed/MD595/MD595_thumbnail_alignedTo_MD595-IHC48-2015.09.15-18.38.44_MD595_1_0142_cropped/MD595-N20-2015.09.14-20.17.53_MD595_1_0058_thumbnail_alignedTo_MD595-IHC48-2015.09.15-18.38.44_MD595_1_0142_cropped.tif /shared/CSHL_data_processed/MD595/MD595_thumbnail_alignedTo_MD595-IHC48-2015.09.15-18.38.44_MD595_1_0142_cropped/MD595-N20-2015.09.14-20.17.53_MD595_1_0058_thumbnail_alignedTo_MD595-IHC48-2015.09.15-18.38.44_MD595_1_0142_cropped.tif\n"
     ]
    },
    {
     "name": "stderr",
     "output_type": "stream",
     "text": [
      "Child returned 0\n",
      "0.48 seconds.\n",
      "Child returned 0\n"
     ]
    },
    {
     "name": "stdout",
     "output_type": "stream",
     "text": [
      "rm -rf /shared/CSHL_data_processed/MD598/MD598_thumbnail_alignedTo_MD598-N42-2015.09.29-19.26.12_MD598_2_0125_cropped/MD598-IHC41-2015.09.30-01.01.49_MD598_1_0121_thumbnail_alignedTo_MD598-N42-2015.09.29-19.26.12_MD598_2_0125_cropped.tif && mkdir -p /shared/CSHL_data_processed/MD598/MD598_thumbnail_alignedTo_MD598-N42-2015.09.29-19.26.12_MD598_2_0125_cropped\n",
      "aws s3 cp s3://mousebrainatlas-data/CSHL_data_processed/MD598/MD598_thumbnail_alignedTo_MD598-N42-2015.09.29-19.26.12_MD598_2_0125_cropped/MD598-IHC41-2015.09.30-01.01.49_MD598_1_0121_thumbnail_alignedTo_MD598-N42-2015.09.29-19.26.12_MD598_2_0125_cropped.tif /shared/CSHL_data_processed/MD598/MD598_thumbnail_alignedTo_MD598-N42-2015.09.29-19.26.12_MD598_2_0125_cropped/MD598-IHC41-2015.09.30-01.01.49_MD598_1_0121_thumbnail_alignedTo_MD598-N42-2015.09.29-19.26.12_MD598_2_0125_cropped.tif\n"
     ]
    },
    {
     "name": "stderr",
     "output_type": "stream",
     "text": [
      "Child returned 0\n",
      "0.43 seconds.\n",
      "Child returned 0\n"
     ]
    },
    {
     "name": "stdout",
     "output_type": "stream",
     "text": [
      "rm -rf /shared/CSHL_data_processed/MD599/MD599_thumbnail_alignedTo_MD599-IHC40-2015.10.03-06.04.31_MD599_2_0119_cropped/MD599-IHC36-2015.10.03-05.46.42_MD599_2_0107_thumbnail_alignedTo_MD599-IHC40-2015.10.03-06.04.31_MD599_2_0119_cropped.tif && mkdir -p /shared/CSHL_data_processed/MD599/MD599_thumbnail_alignedTo_MD599-IHC40-2015.10.03-06.04.31_MD599_2_0119_cropped\n",
      "aws s3 cp s3://mousebrainatlas-data/CSHL_data_processed/MD599/MD599_thumbnail_alignedTo_MD599-IHC40-2015.10.03-06.04.31_MD599_2_0119_cropped/MD599-IHC36-2015.10.03-05.46.42_MD599_2_0107_thumbnail_alignedTo_MD599-IHC40-2015.10.03-06.04.31_MD599_2_0119_cropped.tif /shared/CSHL_data_processed/MD599/MD599_thumbnail_alignedTo_MD599-IHC40-2015.10.03-06.04.31_MD599_2_0119_cropped/MD599-IHC36-2015.10.03-05.46.42_MD599_2_0107_thumbnail_alignedTo_MD599-IHC40-2015.10.03-06.04.31_MD599_2_0119_cropped.tif\n"
     ]
    },
    {
     "name": "stderr",
     "output_type": "stream",
     "text": [
      "Child returned 0\n",
      "0.49 seconds.\n",
      "Child returned 0\n"
     ]
    },
    {
     "name": "stdout",
     "output_type": "stream",
     "text": [
      "rm -rf /shared/CSHL_data_processed/MD602/MD602_thumbnail_alignedTo_MD602-N49-2015.12.01-18.41.46_MD602_2_0146_cropped/MD602-IHC27-2015.12.01-23.23.07_MD602_2_0080_thumbnail_alignedTo_MD602-N49-2015.12.01-18.41.46_MD602_2_0146_cropped.tif && mkdir -p /shared/CSHL_data_processed/MD602/MD602_thumbnail_alignedTo_MD602-N49-2015.12.01-18.41.46_MD602_2_0146_cropped\n",
      "aws s3 cp s3://mousebrainatlas-data/CSHL_data_processed/MD602/MD602_thumbnail_alignedTo_MD602-N49-2015.12.01-18.41.46_MD602_2_0146_cropped/MD602-IHC27-2015.12.01-23.23.07_MD602_2_0080_thumbnail_alignedTo_MD602-N49-2015.12.01-18.41.46_MD602_2_0146_cropped.tif /shared/CSHL_data_processed/MD602/MD602_thumbnail_alignedTo_MD602-N49-2015.12.01-18.41.46_MD602_2_0146_cropped/MD602-IHC27-2015.12.01-23.23.07_MD602_2_0080_thumbnail_alignedTo_MD602-N49-2015.12.01-18.41.46_MD602_2_0146_cropped.tif\n"
     ]
    },
    {
     "name": "stderr",
     "output_type": "stream",
     "text": [
      "Child returned 0\n",
      "0.47 seconds.\n",
      "Child returned 0\n"
     ]
    },
    {
     "name": "stdout",
     "output_type": "stream",
     "text": [
      "rm -rf /shared/CSHL_data_processed/MD603/MD603_thumbnail_alignedTo_MD603-N60-2015.12.03-23.57.05_MD603_2_0179_cropped/MD603-IHC60-2015.12.03-17.44.42_MD603_3_0178_thumbnail_alignedTo_MD603-N60-2015.12.03-23.57.05_MD603_2_0179_cropped.tif && mkdir -p /shared/CSHL_data_processed/MD603/MD603_thumbnail_alignedTo_MD603-N60-2015.12.03-23.57.05_MD603_2_0179_cropped\n",
      "aws s3 cp s3://mousebrainatlas-data/CSHL_data_processed/MD603/MD603_thumbnail_alignedTo_MD603-N60-2015.12.03-23.57.05_MD603_2_0179_cropped/MD603-IHC60-2015.12.03-17.44.42_MD603_3_0178_thumbnail_alignedTo_MD603-N60-2015.12.03-23.57.05_MD603_2_0179_cropped.tif /shared/CSHL_data_processed/MD603/MD603_thumbnail_alignedTo_MD603-N60-2015.12.03-23.57.05_MD603_2_0179_cropped/MD603-IHC60-2015.12.03-17.44.42_MD603_3_0178_thumbnail_alignedTo_MD603-N60-2015.12.03-23.57.05_MD603_2_0179_cropped.tif\n"
     ]
    },
    {
     "name": "stderr",
     "output_type": "stream",
     "text": [
      "Child returned 0\n",
      "0.48 seconds.\n",
      "Child returned 0\n"
     ]
    },
    {
     "name": "stdout",
     "output_type": "stream",
     "text": [
      "rm -rf /shared/CSHL_data_processed/MD653/MD653_thumbnail_alignedTo_MD653-F64-2016.12.21-12.03.55_MD653_2_0191_cropped/MD653-F27-2016.12.20-23.52.13_MD653_2_0080_thumbnail_alignedTo_MD653-F64-2016.12.21-12.03.55_MD653_2_0191_cropped.tif && mkdir -p /shared/CSHL_data_processed/MD653/MD653_thumbnail_alignedTo_MD653-F64-2016.12.21-12.03.55_MD653_2_0191_cropped\n",
      "aws s3 cp s3://mousebrainatlas-data/CSHL_data_processed/MD653/MD653_thumbnail_alignedTo_MD653-F64-2016.12.21-12.03.55_MD653_2_0191_cropped/MD653-F27-2016.12.20-23.52.13_MD653_2_0080_thumbnail_alignedTo_MD653-F64-2016.12.21-12.03.55_MD653_2_0191_cropped.tif /shared/CSHL_data_processed/MD653/MD653_thumbnail_alignedTo_MD653-F64-2016.12.21-12.03.55_MD653_2_0191_cropped/MD653-F27-2016.12.20-23.52.13_MD653_2_0080_thumbnail_alignedTo_MD653-F64-2016.12.21-12.03.55_MD653_2_0191_cropped.tif\n"
     ]
    },
    {
     "name": "stderr",
     "output_type": "stream",
     "text": [
      "Child returned 0\n",
      "0.49 seconds.\n",
      "Child returned 0\n"
     ]
    },
    {
     "name": "stdout",
     "output_type": "stream",
     "text": [
      "rm -rf /shared/CSHL_data_processed/MD652/MD652_thumbnail_alignedTo_MD652-F45-2016.12.17-05.56.31_MD652_2_0134_cropped/MD652-N73-2016.12.16-13.45.53_MD652_2_0218_thumbnail_alignedTo_MD652-F45-2016.12.17-05.56.31_MD652_2_0134_cropped.tif && mkdir -p /shared/CSHL_data_processed/MD652/MD652_thumbnail_alignedTo_MD652-F45-2016.12.17-05.56.31_MD652_2_0134_cropped\n",
      "aws s3 cp s3://mousebrainatlas-data/CSHL_data_processed/MD652/MD652_thumbnail_alignedTo_MD652-F45-2016.12.17-05.56.31_MD652_2_0134_cropped/MD652-N73-2016.12.16-13.45.53_MD652_2_0218_thumbnail_alignedTo_MD652-F45-2016.12.17-05.56.31_MD652_2_0134_cropped.tif /shared/CSHL_data_processed/MD652/MD652_thumbnail_alignedTo_MD652-F45-2016.12.17-05.56.31_MD652_2_0134_cropped/MD652-N73-2016.12.16-13.45.53_MD652_2_0218_thumbnail_alignedTo_MD652-F45-2016.12.17-05.56.31_MD652_2_0134_cropped.tif\n"
     ]
    },
    {
     "name": "stderr",
     "output_type": "stream",
     "text": [
      "Child returned 0\n",
      "0.48 seconds.\n",
      "Child returned 0\n"
     ]
    },
    {
     "name": "stdout",
     "output_type": "stream",
     "text": [
      "rm -rf /shared/CSHL_data_processed/MD642/MD642_thumbnail_alignedTo_MD642-F53-2017.01.14-12.23.43_MD642_1_0157_cropped/MD642-F57-2017.01.14-13.46.37_MD642_2_0170_thumbnail_alignedTo_MD642-F53-2017.01.14-12.23.43_MD642_1_0157_cropped.tif && mkdir -p /shared/CSHL_data_processed/MD642/MD642_thumbnail_alignedTo_MD642-F53-2017.01.14-12.23.43_MD642_1_0157_cropped\n",
      "aws s3 cp s3://mousebrainatlas-data/CSHL_data_processed/MD642/MD642_thumbnail_alignedTo_MD642-F53-2017.01.14-12.23.43_MD642_1_0157_cropped/MD642-F57-2017.01.14-13.46.37_MD642_2_0170_thumbnail_alignedTo_MD642-F53-2017.01.14-12.23.43_MD642_1_0157_cropped.tif /shared/CSHL_data_processed/MD642/MD642_thumbnail_alignedTo_MD642-F53-2017.01.14-12.23.43_MD642_1_0157_cropped/MD642-F57-2017.01.14-13.46.37_MD642_2_0170_thumbnail_alignedTo_MD642-F53-2017.01.14-12.23.43_MD642_1_0157_cropped.tif\n"
     ]
    },
    {
     "name": "stderr",
     "output_type": "stream",
     "text": [
      "Child returned 0\n",
      "0.48 seconds.\n",
      "Child returned 0\n"
     ]
    },
    {
     "name": "stdout",
     "output_type": "stream",
     "text": [
      "rm -rf /shared/CSHL_data_processed/MD657/MD657_thumbnail_alignedTo_MD657-F44-2017.02.18-06.06.27_MD657_1_0130_cropped/MD657-N70-2017.02.22-18.31.14_MD657_2_0209_thumbnail_alignedTo_MD657-F44-2017.02.18-06.06.27_MD657_1_0130_cropped.tif && mkdir -p /shared/CSHL_data_processed/MD657/MD657_thumbnail_alignedTo_MD657-F44-2017.02.18-06.06.27_MD657_1_0130_cropped\n",
      "aws s3 cp s3://mousebrainatlas-data/CSHL_data_processed/MD657/MD657_thumbnail_alignedTo_MD657-F44-2017.02.18-06.06.27_MD657_1_0130_cropped/MD657-N70-2017.02.22-18.31.14_MD657_2_0209_thumbnail_alignedTo_MD657-F44-2017.02.18-06.06.27_MD657_1_0130_cropped.tif /shared/CSHL_data_processed/MD657/MD657_thumbnail_alignedTo_MD657-F44-2017.02.18-06.06.27_MD657_1_0130_cropped/MD657-N70-2017.02.22-18.31.14_MD657_2_0209_thumbnail_alignedTo_MD657-F44-2017.02.18-06.06.27_MD657_1_0130_cropped.tif\n"
     ]
    },
    {
     "name": "stderr",
     "output_type": "stream",
     "text": [
      "Child returned 0\n",
      "0.48 seconds.\n",
      "Child returned 0\n"
     ]
    },
    {
     "name": "stdout",
     "output_type": "stream",
     "text": [
      "rm -rf /shared/CSHL_data_processed/MD658/MD658_thumbnail_alignedTo_MD658-N58-2017.03.31-19.59.31_MD658_2_0173_cropped/MD658-F66-2017.04.05-08.23.36_MD658_2_0197_thumbnail_alignedTo_MD658-N58-2017.03.31-19.59.31_MD658_2_0173_cropped.tif && mkdir -p /shared/CSHL_data_processed/MD658/MD658_thumbnail_alignedTo_MD658-N58-2017.03.31-19.59.31_MD658_2_0173_cropped\n",
      "aws s3 cp s3://mousebrainatlas-data/CSHL_data_processed/MD658/MD658_thumbnail_alignedTo_MD658-N58-2017.03.31-19.59.31_MD658_2_0173_cropped/MD658-F66-2017.04.05-08.23.36_MD658_2_0197_thumbnail_alignedTo_MD658-N58-2017.03.31-19.59.31_MD658_2_0173_cropped.tif /shared/CSHL_data_processed/MD658/MD658_thumbnail_alignedTo_MD658-N58-2017.03.31-19.59.31_MD658_2_0173_cropped/MD658-F66-2017.04.05-08.23.36_MD658_2_0197_thumbnail_alignedTo_MD658-N58-2017.03.31-19.59.31_MD658_2_0173_cropped.tif\n"
     ]
    },
    {
     "name": "stderr",
     "output_type": "stream",
     "text": [
      "Child returned 0\n",
      "0.62 seconds.\n"
     ]
    }
   ],
   "source": [
    "%load_ext autoreload\n",
    "%autoreload 2\n",
    "\n",
    "import os\n",
    "import sys\n",
    "import time\n",
    "\n",
    "sys.path.append(os.path.join(os.environ['REPO_DIR'], 'utilities'))\n",
    "from data_manager import *\n",
    "from metadata import *\n",
    "from distributed_utilities import *"
   ]
  },
  {
   "cell_type": "markdown",
   "metadata": {},
   "source": [
    "# Compute scoremaps for linearly normalized version"
   ]
  },
  {
   "cell_type": "code",
   "execution_count": 18,
   "metadata": {},
   "outputs": [
    {
     "name": "stderr",
     "output_type": "stream",
     "text": [
      "running svm classifier ...Child returned 0\n",
      "16 nodes available.\n"
     ]
    },
    {
     "name": "stdout",
     "output_type": "stream",
     "text": [
      "rm -f ~/stderr_*; rm -f ~/stdout_*\n"
     ]
    },
    {
     "name": "stderr",
     "output_type": "stream",
     "text": [
      "Jobs submitted. Use wait_qsub_complete() to wait for all execution to finish.\n",
      "qsub returned.\n",
      "done in 317.484612 seconds\n",
      "Resampling scoremaps ...Child returned 0\n",
      "16 nodes available.\n"
     ]
    },
    {
     "name": "stdout",
     "output_type": "stream",
     "text": [
      "rm -f ~/stderr_*; rm -f ~/stdout_*\n"
     ]
    },
    {
     "name": "stderr",
     "output_type": "stream",
     "text": [
      "Jobs submitted. Use wait_qsub_complete() to wait for all execution to finish.\n",
      "qsub returned.\n",
      "done in 70.839120 seconds\n",
      "running svm classifier ...Child returned 0\n",
      "16 nodes available.\n"
     ]
    },
    {
     "name": "stdout",
     "output_type": "stream",
     "text": [
      "rm -f ~/stderr_*; rm -f ~/stdout_*\n"
     ]
    },
    {
     "name": "stderr",
     "output_type": "stream",
     "text": [
      "Jobs submitted. Use wait_qsub_complete() to wait for all execution to finish.\n",
      "qsub returned.\n",
      "done in 322.478262 seconds\n",
      "Resampling scoremaps ...Child returned 0\n",
      "16 nodes available.\n"
     ]
    },
    {
     "name": "stdout",
     "output_type": "stream",
     "text": [
      "rm -f ~/stderr_*; rm -f ~/stdout_*\n"
     ]
    },
    {
     "name": "stderr",
     "output_type": "stream",
     "text": [
      "Jobs submitted. Use wait_qsub_complete() to wait for all execution to finish.\n",
      "qsub returned.\n",
      "done in 65.922713 seconds\n"
     ]
    }
   ],
   "source": [
    "stack = 'MD657'\n",
    "\n",
    "for classifier_id in range(83, 85):\n",
    "    t = time.time()\n",
    "    sys.stderr.write('running svm classifier ...')\n",
    "\n",
    "    run_distributed(command='%(script_path)s %(stack)s \\'%%(filenames)s\\' %(classifier_id)d' % \\\n",
    "                    {'script_path': os.path.join(REPO_DIR, 'learning', 'apply_classifiers_v4.py'),\n",
    "                    'stack': stack,\n",
    "                    'classifier_id': classifier_id},\n",
    "    #                 kwargs_list=dict(filenames=metadata_cache['valid_filenames'][stack]),\n",
    "    #                 kwargs_list=dict(filenames=[metadata_cache['sections_to_filenames'][stack][150]]),\n",
    "                    kwargs_list=dict(filenames=[fn for fn in metadata_cache['valid_filenames'][stack]\n",
    "                                               if fn.split('-')[1][0] == 'F']),\n",
    "                    argument_type='list2')\n",
    "\n",
    "    wait_qsub_complete()\n",
    "\n",
    "    sys.stderr.write('done in %f seconds\\n' % (time.time() - t)) # 302s\n",
    "\n",
    "    t = time.time()\n",
    "    sys.stderr.write('Resampling scoremaps ...')\n",
    "\n",
    "    # downscale = 8\n",
    "    downscale = 32\n",
    "\n",
    "    run_distributed(command='%(script_path)s %(stack)s \\'%%(filenames)s\\' %(classifier_id)d %(downscale)d' % \\\n",
    "                    {'script_path': os.path.join(REPO_DIR, 'learning', 'resample_scoremaps_v4.py'),\n",
    "                    'stack': stack,\n",
    "                    'classifier_id': classifier_id,\n",
    "                    'downscale': downscale},\n",
    "    #                 kwargs_list=dict(filenames=metadata_cache['valid_filenames'][stack]),\n",
    "    #                 kwargs_list=dict(filenames=[metadata_cache['sections_to_filenames'][stack][150]]),\n",
    "                    kwargs_list=dict(filenames=[fn for fn in metadata_cache['valid_filenames'][stack]\n",
    "                               if fn.split('-')[1][0] == 'F']),\n",
    "                    argument_type='list2'\n",
    "                   )\n",
    "\n",
    "\n",
    "    wait_qsub_complete()\n",
    "\n",
    "    sys.stderr.write('done in %f seconds\\n' % (time.time() - t)) # 277s"
   ]
  },
  {
   "cell_type": "markdown",
   "metadata": {},
   "source": [
    "# Regular version"
   ]
  },
  {
   "cell_type": "code",
   "execution_count": 2,
   "metadata": {
    "collapsed": true
   },
   "outputs": [],
   "source": [
    "classifier_id = 38"
   ]
  },
  {
   "cell_type": "code",
   "execution_count": 3,
   "metadata": {
    "collapsed": true
   },
   "outputs": [],
   "source": [
    "stack = 'MD635'"
   ]
  },
  {
   "cell_type": "code",
   "execution_count": 4,
   "metadata": {
    "scrolled": true
   },
   "outputs": [
    {
     "name": "stderr",
     "output_type": "stream",
     "text": [
      "running svm classifier ...Child returned 0\n",
      "1 nodes available.\n",
      "Jobs submitted. Use wait_qsub_complete() to wait for all execution to finish.\n"
     ]
    },
    {
     "name": "stdout",
     "output_type": "stream",
     "text": [
      "rm -f ~/stderr_*; rm -f ~/stdout_*\n"
     ]
    },
    {
     "name": "stderr",
     "output_type": "stream",
     "text": [
      "qsub returned.\n",
      "done in 1650.427613 seconds\n"
     ]
    }
   ],
   "source": [
    "t = time.time()\n",
    "sys.stderr.write('running svm classifier ...')\n",
    "\n",
    "run_distributed(command='%(script_path)s %(stack)s \\'%%(filenames)s\\' %(classifier_id)d' % \\\n",
    "                {'script_path': os.path.join(REPO_DIR, 'learning', 'apply_classifiers_v4.py'),\n",
    "                'stack': stack,\n",
    "                'classifier_id': classifier_id},\n",
    "                kwargs_list=dict(filenames=metadata_cache['valid_filenames'][stack]),\n",
    "#                 kwargs_list=dict(filenames=[metadata_cache['sections_to_filenames'][stack][208]]),\n",
    "#                 kwargs_list=dict(filenames=[fn for fn in metadata_cache['valid_filenames'][stack]\n",
    "#                                            if fn.split('-')[1][0] == 'F']),\n",
    "                argument_type='list2')\n",
    "\n",
    "wait_qsub_complete()\n",
    "\n",
    "sys.stderr.write('done in %f seconds\\n' % (time.time() - t)) # 302s"
   ]
  },
  {
   "cell_type": "code",
   "execution_count": 84,
   "metadata": {
    "collapsed": true
   },
   "outputs": [],
   "source": [
    "# Feature computation window spacing is 56, so the equivalent downscale factor is 56. Still larger than 32."
   ]
  },
  {
   "cell_type": "code",
   "execution_count": 5,
   "metadata": {
    "scrolled": true
   },
   "outputs": [
    {
     "name": "stderr",
     "output_type": "stream",
     "text": [
      "Resampling scoremaps ...Child returned 0\n",
      "8 nodes available.\n"
     ]
    },
    {
     "name": "stdout",
     "output_type": "stream",
     "text": [
      "rm -f ~/stderr_*; rm -f ~/stdout_*\n"
     ]
    },
    {
     "name": "stderr",
     "output_type": "stream",
     "text": [
      "Jobs submitted. Use wait_qsub_complete() to wait for all execution to finish.\n",
      "qsub returned.\n",
      "done in 111.187544 seconds\n"
     ]
    }
   ],
   "source": [
    "t = time.time()\n",
    "sys.stderr.write('Resampling scoremaps ...')\n",
    "\n",
    "# downscale = 8\n",
    "downscale = 32\n",
    "\n",
    "run_distributed(command='%(script_path)s %(stack)s \\'%%(filenames)s\\' %(classifier_id)d %(downscale)d' % \\\n",
    "                {'script_path': os.path.join(REPO_DIR, 'learning', 'resample_scoremaps_v4.py'),\n",
    "                'stack': stack,\n",
    "                'classifier_id': classifier_id,\n",
    "                'downscale': downscale},\n",
    "                kwargs_list=dict(filenames=metadata_cache['valid_filenames'][stack]),\n",
    "#                 kwargs_list=dict(filenames=[metadata_cache['sections_to_filenames'][stack][209]]),\n",
    "#                 kwargs_list=dict(filenames=[fn for fn in metadata_cache['valid_filenames'][stack]\n",
    "#                            if fn.split('-')[1][0] == 'F']),\n",
    "                argument_type='list2'\n",
    "               )\n",
    "\n",
    "\n",
    "wait_qsub_complete()\n",
    "\n",
    "sys.stderr.write('done in %f seconds\\n' % (time.time() - t)) # 277s"
   ]
  },
  {
   "cell_type": "code",
   "execution_count": 6,
   "metadata": {
    "scrolled": true
   },
   "outputs": [
    {
     "name": "stderr",
     "output_type": "stream",
     "text": [
      "visualize scoremaps ...Child returned 0\n",
      "8 nodes available.\n",
      "Jobs submitted. Use wait_qsub_complete() to wait for all execution to finish.\n"
     ]
    },
    {
     "name": "stdout",
     "output_type": "stream",
     "text": [
      "rm -f ~/stderr_*; rm -f ~/stdout_*\n"
     ]
    },
    {
     "name": "stderr",
     "output_type": "stream",
     "text": [
      "qsub returned.\n",
      "done in 95.591516 seconds\n"
     ]
    }
   ],
   "source": [
    "t = time.time()\n",
    "sys.stderr.write('visualize scoremaps ...')\n",
    "\n",
    "add_label_text = False\n",
    "# viz_downscale = 8\n",
    "viz_downscale = 32\n",
    "\n",
    "run_distributed(command='%(script_path)s %(stack)s \\'%%(filenames)s\\' %(classifier_id)d %(downscale)d %(add_label_text)s' % \\\n",
    "                {'script_path': os.path.join(REPO_DIR, 'learning', 'visualize_scoremaps_v4.py'),\n",
    "                'stack': stack,\n",
    "                 'classifier_id': classifier_id,\n",
    "                'downscale': viz_downscale,\n",
    "                'add_label_text': '-a' if add_label_text else ''},\n",
    "                kwargs_list=dict(filenames=metadata_cache['valid_filenames'][stack]),\n",
    "#                 kwargs_list=dict(filenames=[metadata_cache['sections_to_filenames'][stack][209]]),\n",
    "                argument_type='list2'\n",
    "               )\n",
    "\n",
    "wait_qsub_complete()\n",
    "\n",
    "sys.stderr.write('done in %f seconds\\n' % (time.time() - t))  # For one stack, 75s"
   ]
  },
  {
   "cell_type": "code",
   "execution_count": 23,
   "metadata": {},
   "outputs": [
    {
     "name": "stderr",
     "output_type": "stream",
     "text": [
      "constructing score volumes ...Child returned 0\n",
      "8 nodes available.\n",
      "Jobs submitted. Use wait_qsub_complete() to wait for all execution to finish.\n"
     ]
    },
    {
     "name": "stdout",
     "output_type": "stream",
     "text": [
      "rm -f ~/stderr_*; rm -f ~/stdout_*\n"
     ]
    },
    {
     "name": "stderr",
     "output_type": "stream",
     "text": [
      "qsub returned.\n",
      "done in 20.199607 seconds\n"
     ]
    }
   ],
   "source": [
    "t = time.time()\n",
    "sys.stderr.write('constructing score volumes ...')\n",
    "\n",
    "use_nissl_only = False\n",
    "volume_downscale = 32\n",
    "\n",
    "run_distributed(command='%(script_path)s %(stack)s %%(structure)s %(classifier_id)d %(downscale)d %(use_nissl_only)s' % \\\n",
    "                {'script_path': os.path.join(REPO_DIR, 'reconstruct', 'construct_score_volume_v4.py'),\n",
    "                'stack': stack,\n",
    "                'classifier_id': classifier_id,\n",
    "                'downscale': volume_downscale,\n",
    "                'use_nissl_only': '-n' if use_nissl_only else ''},\n",
    "#                 kwargs_list=dict(structure=all_known_structures),\n",
    "                kwargs_list=dict(structure=['VLL']),\n",
    "                argument_type='single')\n",
    "\n",
    "wait_qsub_complete()\n",
    "\n",
    "sys.stderr.write('done in %f seconds\\n' % (time.time() - t))# 116s"
   ]
  },
  {
   "cell_type": "code",
   "execution_count": 25,
   "metadata": {
    "scrolled": true
   },
   "outputs": [
    {
     "name": "stderr",
     "output_type": "stream",
     "text": [
      "compute score volume gradients...Child returned 0\n",
      "8 nodes available.\n"
     ]
    },
    {
     "name": "stdout",
     "output_type": "stream",
     "text": [
      "rm -f ~/stderr_*; rm -f ~/stdout_*\n"
     ]
    },
    {
     "name": "stderr",
     "output_type": "stream",
     "text": [
      "Jobs submitted. Use wait_qsub_complete() to wait for all execution to finish.\n",
      "qsub returned.\n",
      "done in 120.656658 seconds\n"
     ]
    }
   ],
   "source": [
    "t = time.time()\n",
    "sys.stderr.write('compute score volume gradients...')\n",
    "\n",
    "run_distributed(command='ROOT_DIR=/scratch/ %(script_path)s %(stack)s %%(structure)s %(classifier_id)d %(downscale)d' % \\\n",
    "                {'script_path': os.path.join(REPO_DIR, 'reconstruct', 'compute_score_volume_gradients_v4.py'),\n",
    "                'stack': stack,\n",
    "                'classifier_id': classifier_id,\n",
    "                'downscale': volume_downscale},\n",
    "                kwargs_list=dict(structure=all_known_structures),\n",
    "#                 kwargs_list=dict(structure=['VLL']),\n",
    "                argument_type='single')\n",
    "\n",
    "wait_qsub_complete()\n",
    "\n",
    "sys.stderr.write('done in %f seconds\\n' % (time.time() - t)) \n",
    "\n",
    "# 55 seconds (16 nodes write to respective local /scratch)\n",
    "# More than 1 simul. processes are not beneficial as they cause local write contention.\n",
    "# 156 seconds (16 nodes simul. write to /shared)\n",
    "# 310 seconds (single node, sequential write to /shared)"
   ]
  },
  {
   "cell_type": "markdown",
   "metadata": {},
   "source": [
    "# Global alignment"
   ]
  },
  {
   "cell_type": "code",
   "execution_count": 21,
   "metadata": {
    "collapsed": true
   },
   "outputs": [],
   "source": [
    "classifier_setting = 38\n",
    "warp_setting = 13"
   ]
  },
  {
   "cell_type": "code",
   "execution_count": 22,
   "metadata": {
    "collapsed": true
   },
   "outputs": [],
   "source": [
    "# structure_subset = ['7N_L', '7N_R', '12N', '5N_L','5N_R','Pn_L', 'Pn_R', 'SNR_L', 'SNR_R', 'VLL_L', 'VLL_R', '7n_L']\n",
    "# structure_subset = ['7N_L', '7N_R', '12N', '5N_L','5N_R','Pn_L', 'Pn_R', 'SNR_L', 'SNR_R', \n",
    "#                     'VLL_L', 'VLL_R', '7n_L', '7n_R', 'Tz_L', 'Tz_R', \n",
    "#                     'VCA_L', 'VCP_R']\n",
    "# structure_subset = ['7N_L', '7N_R', '12N', '5N_L','5N_R','Pn_L', 'Pn_R', 'SNR_L', 'SNR_R', \n",
    "#                     'VLL_L', 'VLL_R', '7n_L', '7n_R', 'Tz_L', 'Tz_R', \n",
    "#                     'VCA_L', 'VCP_R', 'IC', 'SC']\n",
    "structure_subset = ['7N_L', '7N_R', '12N', '5N_L', '5N_R', 'SNR_L', 'SNR_R', 'Pn_L', 'Pn_R',\n",
    "                    'VLL_L', 'VLL_R', '7n_L', '7n_R', 'Tz_L', 'Tz_R', \n",
    "                    'VCA_L', 'VCA_R', 'VCP_L', 'VCP_R']"
   ]
  },
  {
   "cell_type": "code",
   "execution_count": 23,
   "metadata": {
    "collapsed": true
   },
   "outputs": [],
   "source": [
    "atlas_name = 'atlasV4'"
   ]
  },
  {
   "cell_type": "code",
   "execution_count": 24,
   "metadata": {},
   "outputs": [
    {
     "name": "stderr",
     "output_type": "stream",
     "text": [
      "align all subjects to atlas ...Child returned 0\n",
      "1 nodes available.\n",
      "Jobs submitted. Use wait_qsub_complete() to wait for all execution to finish.\n"
     ]
    },
    {
     "name": "stdout",
     "output_type": "stream",
     "text": [
      "rm -f ~/stderr_*; rm -f ~/stdout_*\n"
     ]
    },
    {
     "name": "stderr",
     "output_type": "stream",
     "text": [
      "qsub returned.\n",
      "done in 2728.219750 seconds\n"
     ]
    }
   ],
   "source": [
    "# Align\n",
    "\n",
    "t = time.time()\n",
    "sys.stderr.write('align all subjects to atlas ...')\n",
    "\n",
    "run_distributed(command='%(script_path)s %%(stack)s %(atlas_name)s %(warp_setting)d %(clf_setting)d --trial_num 5 --structures \\'%(structures)s\\'' % \\\n",
    "                {'script_path': os.path.join(REPO_DIR, 'registration', 'global_registration_v3.py'),\n",
    "                 'atlas_name': atlas_name,\n",
    "                'warp_setting': warp_setting,\n",
    "                'clf_setting': classifier_setting,\n",
    "                'structures': json.dumps(structure_subset)},\n",
    "                 kwargs_list=dict(stack=['MD635']),\n",
    "                argument_type='single')\n",
    "\n",
    "wait_qsub_complete()\n",
    "\n",
    "sys.stderr.write('done in %f seconds\\n' % (time.time() - t)) # For one stack, 372s (1 trial); 750s (5 trials)"
   ]
  },
  {
   "cell_type": "code",
   "execution_count": 25,
   "metadata": {},
   "outputs": [
    {
     "name": "stderr",
     "output_type": "stream",
     "text": [
      "transform atlas ...Child returned 0\n",
      "1 nodes available.\n",
      "Jobs submitted. Use wait_qsub_complete() to wait for all execution to finish.\n"
     ]
    },
    {
     "name": "stdout",
     "output_type": "stream",
     "text": [
      "rm -f ~/stderr_*; rm -f ~/stdout_*\n"
     ]
    },
    {
     "name": "stderr",
     "output_type": "stream",
     "text": [
      "qsub returned.\n",
      "done in 45.220334 seconds\n"
     ]
    }
   ],
   "source": [
    "# Transform\n",
    "\n",
    "t = time.time()\n",
    "sys.stderr.write('transform atlas ...')\n",
    "\n",
    "run_distributed(command='%(script_path)s %%(stack)s %(atlas_name)s %(warp_setting)d %(clf_setting)d' % \\\n",
    "                {'script_path': os.path.join(REPO_DIR, 'registration', 'transform_brains_v4.py'),\n",
    "                'atlas_name': atlas_name,\n",
    "                'clf_setting': classifier_setting,\n",
    "                 'warp_setting': warp_setting\n",
    "                },\n",
    "                kwargs_list={'stack': ['MD635']},\n",
    "                argument_type='single')\n",
    "\n",
    "wait_qsub_complete()\n",
    "\n",
    "sys.stderr.write('done in %f seconds\\n' % (time.time() - t)) # For one stack, 60 seconds"
   ]
  },
  {
   "cell_type": "code",
   "execution_count": 26,
   "metadata": {
    "scrolled": true
   },
   "outputs": [
    {
     "name": "stderr",
     "output_type": "stream",
     "text": [
      "visualize aligned atlas overlay ...Child returned 0\n",
      "1 nodes available.\n",
      "Jobs submitted. Use wait_qsub_complete() to wait for all execution to finish.\n"
     ]
    },
    {
     "name": "stdout",
     "output_type": "stream",
     "text": [
      "rm -f ~/stderr_*; rm -f ~/stdout_*\n"
     ]
    },
    {
     "name": "stderr",
     "output_type": "stream",
     "text": [
      "qsub returned.\n",
      "done in 85.274688 seconds\n"
     ]
    }
   ],
   "source": [
    "# Visualize\n",
    "\n",
    "t = time.time()\n",
    "sys.stderr.write('visualize aligned atlas overlay ...')\n",
    "\n",
    "run_distributed(command='%(script_path)s %%(stack)s %(atlas_name)s %(warp_setting)d %(clf_setting)d' % \\\n",
    "                {'script_path': os.path.join(REPO_DIR, 'registration', 'visualize_registration_v4.py'),\n",
    "                'atlas_name': atlas_name,\n",
    "                'clf_setting': classifier_setting,\n",
    "                 'warp_setting': warp_setting\n",
    "                },\n",
    "                kwargs_list={'stack': ['MD635']},\n",
    "                argument_type='single')\n",
    "\n",
    "wait_qsub_complete()\n",
    "\n",
    "sys.stderr.write('done in %f seconds\\n' % (time.time() - t)) # For one stack, 110 seconds"
   ]
  },
  {
   "cell_type": "markdown",
   "metadata": {},
   "source": [
    "# Local align"
   ]
  },
  {
   "cell_type": "code",
   "execution_count": 11,
   "metadata": {
    "collapsed": true
   },
   "outputs": [],
   "source": [
    "classifier_setting = 37\n",
    "warp_setting = 8"
   ]
  },
  {
   "cell_type": "code",
   "execution_count": null,
   "metadata": {
    "collapsed": true,
    "scrolled": true
   },
   "outputs": [],
   "source": [
    "# Local align\n",
    "\n",
    "t = time.time()\n",
    "sys.stderr.write('LOCAL align ...')\n",
    "\n",
    "kwargs_list = \\\n",
    "[dict(stack='MD635', structures=shell_escape(json.dumps(all_known_structures_sided[f:l+1])))\n",
    "for f,l in first_last_tuples_distribute_over(0, len(all_known_structures_sided)-1, get_num_nodes())]\n",
    "\n",
    "run_distributed(command='%(script_path)s %%(stack)s atlasV3 %(warp_setting)d %(clf_setting)d -s %%(structures)s' % \\\n",
    "                {'script_path': os.path.join(REPO_DIR, 'registration', 'local_registration_v3.py'),\n",
    "                'clf_setting': classifier_setting,\n",
    "                 'warp_setting': warp_setting},\n",
    "                 kwargs_list=kwargs_list,\n",
    "                argument_type='single')\n",
    "\n",
    "wait_qsub_complete()\n",
    "\n",
    "sys.stderr.write('done in %f seconds\\n' % (time.time() - t)) # 2047s for 5 trials.\n",
    "# IC and SC are super slow..."
   ]
  },
  {
   "cell_type": "code",
   "execution_count": 13,
   "metadata": {},
   "outputs": [
    {
     "name": "stderr",
     "output_type": "stream",
     "text": [
      "transform atlas ...Child returned 0\n",
      "14 nodes available.\n",
      "Jobs submitted. Use wait_qsub_complete() to wait for all execution to finish.\n"
     ]
    },
    {
     "name": "stdout",
     "output_type": "stream",
     "text": [
      "rm -f ~/stderr_*; rm -f ~/stdout_*\n"
     ]
    },
    {
     "name": "stderr",
     "output_type": "stream",
     "text": [
      "qsub returned.\n",
      "done in 50.400943 seconds\n"
     ]
    }
   ],
   "source": [
    "# Transform\n",
    "\n",
    "t = time.time()\n",
    "sys.stderr.write('transform atlas ...')\n",
    "\n",
    "run_distributed(command='%(script_path)s %%(stack)s atlasV3 %(warp_setting)d %(clf_setting)d' % \\\n",
    "                {'script_path': os.path.join(REPO_DIR, 'registration', 'transform_brains_v4.py'),\n",
    "                'clf_setting': classifier_setting,\n",
    "                 'warp_setting': warp_setting\n",
    "                },\n",
    "                kwargs_list={'stack': ['MD635']},\n",
    "                argument_type='single')\n",
    "\n",
    "wait_qsub_complete()\n",
    "\n",
    "sys.stderr.write('done in %f seconds\\n' % (time.time() - t)) # For one stack, 60 seconds"
   ]
  },
  {
   "cell_type": "code",
   "execution_count": 14,
   "metadata": {},
   "outputs": [
    {
     "name": "stderr",
     "output_type": "stream",
     "text": [
      "visualize aligned atlas overlay ...Child returned 0\n",
      "14 nodes available.\n",
      "Jobs submitted. Use wait_qsub_complete() to wait for all execution to finish.\n"
     ]
    },
    {
     "name": "stdout",
     "output_type": "stream",
     "text": [
      "rm -f ~/stderr_*; rm -f ~/stdout_*\n"
     ]
    },
    {
     "name": "stderr",
     "output_type": "stream",
     "text": [
      "qsub returned.\n",
      "done in 95.670595 seconds\n"
     ]
    }
   ],
   "source": [
    "# Visualize\n",
    "\n",
    "t = time.time()\n",
    "sys.stderr.write('visualize aligned atlas overlay ...')\n",
    "\n",
    "run_distributed(command='%(script_path)s %%(stack)s atlasV3 %(warp_setting)d %(clf_setting)d' % \\\n",
    "                {'script_path': os.path.join(REPO_DIR, 'registration', 'visualize_registration_v4.py'),\n",
    "                'clf_setting': classifier_setting,\n",
    "                 'warp_setting': warp_setting\n",
    "                },\n",
    "                kwargs_list={'stack': ['MD635']},\n",
    "                argument_type='single')\n",
    "\n",
    "wait_qsub_complete()\n",
    "\n",
    "sys.stderr.write('done in %f seconds\\n' % (time.time() - t)) # For one stack, 110 seconds"
   ]
  },
  {
   "cell_type": "markdown",
   "metadata": {
    "collapsed": true
   },
   "source": [
    "# Transform locally transformed volumes back to atlas space"
   ]
  },
  {
   "cell_type": "code",
   "execution_count": null,
   "metadata": {
    "collapsed": true
   },
   "outputs": [],
   "source": [
    "classifier_setting = 2\n",
    "warp_setting = 3"
   ]
  },
  {
   "cell_type": "code",
   "execution_count": null,
   "metadata": {
    "collapsed": true
   },
   "outputs": [],
   "source": [
    "t = time.time()\n",
    "sys.stderr.write('transform atlas ...')\n",
    "\n",
    "exclude_nodes = [33]\n",
    "\n",
    "run_distributed4(command='%(script_path)s %%(stack)s atlasV2 %(warp_setting)d %(clf_setting)d' % \\\n",
    "                {'script_path': os.path.join(os.environ['REPO_DIR'], 'registration', 'transform_brains_v3_reverse_global.py'),\n",
    "                 'clf_setting': classifier_setting,\n",
    "                 'warp_setting': warp_setting},\n",
    "                 kwargs_list=dict(stack=['MD603']),\n",
    "#                 kwargs_list=dict(stack=all_nissl_stacks),\n",
    "                exclude_nodes=exclude_nodes,\n",
    "                argument_type='single')\n",
    "\n",
    "sys.stderr.write('done in %f seconds\\n' % (time.time() - t)) # 200 seconds ~ 4 mins"
   ]
  },
  {
   "cell_type": "markdown",
   "metadata": {},
   "source": [
    "# Measure Global Tx Confidence"
   ]
  },
  {
   "cell_type": "code",
   "execution_count": null,
   "metadata": {
    "collapsed": true
   },
   "outputs": [],
   "source": [
    "warp_setting = 1"
   ]
  },
  {
   "cell_type": "code",
   "execution_count": null,
   "metadata": {
    "collapsed": true
   },
   "outputs": [],
   "source": [
    "t = time.time()\n",
    "sys.stderr.write('Measure confidence ...')\n",
    "\n",
    "exclude_nodes = [33]\n",
    "\n",
    "run_distributed4(command='%(script_path)s %%(stack)s atlasV2 %(warp_setting)d %(clf_setting)d' % \\\n",
    "                {'script_path': os.path.join(os.environ['REPO_DIR'], 'registration', 'measure_confidence_v3_global.py'),\n",
    "                 'clf_setting': classifier_setting,\n",
    "                 'warp_setting': warp_setting},\n",
    "#                  kwargs_list=dict(stack=['MD594']),\n",
    "                kwargs_list=dict(stack=all_nissl_stacks),\n",
    "                exclude_nodes=exclude_nodes,\n",
    "                argument_type='single')\n",
    "\n",
    "sys.stderr.write('done in %f seconds\\n' % (time.time() - t)) # 650 seconds ~ 10 mins"
   ]
  },
  {
   "cell_type": "markdown",
   "metadata": {
    "collapsed": true
   },
   "source": [
    "# Measure Local Tx Confidence"
   ]
  },
  {
   "cell_type": "code",
   "execution_count": null,
   "metadata": {
    "collapsed": true
   },
   "outputs": [],
   "source": [
    "warp_setting = 5\n",
    "classifier_setting = 2"
   ]
  },
  {
   "cell_type": "code",
   "execution_count": null,
   "metadata": {
    "collapsed": true
   },
   "outputs": [],
   "source": [
    "t = time.time()\n",
    "sys.stderr.write('Measure confidence ...')\n",
    "\n",
    "exclude_nodes = [33]\n",
    "\n",
    "run_distributed4(command='%(script_path)s %%(stack)s atlasV2 %(warp_setting)d %(clf_setting)d' % \\\n",
    "                {'script_path': os.path.join(os.environ['REPO_DIR'], 'registration', 'measure_confidence_v3_local.py'),\n",
    "                 'clf_setting': classifier_setting,\n",
    "                 'warp_setting': warp_setting},\n",
    "#                  kwargs_list=dict(stack=['MD592']),\n",
    "                kwargs_list=dict(stack=all_nissl_stacks),\n",
    "                exclude_nodes=exclude_nodes,\n",
    "                argument_type='single')\n",
    "\n",
    "sys.stderr.write('done in %f seconds\\n' % (time.time() - t)) # 900 s ~ 15 mins"
   ]
  },
  {
   "cell_type": "code",
   "execution_count": null,
   "metadata": {
    "collapsed": true
   },
   "outputs": [],
   "source": []
  }
 ],
 "metadata": {
  "kernelspec": {
   "display_name": "Python 2",
   "language": "python",
   "name": "python2"
  },
  "language_info": {
   "codemirror_mode": {
    "name": "ipython",
    "version": 2
   },
   "file_extension": ".py",
   "mimetype": "text/x-python",
   "name": "python",
   "nbconvert_exporter": "python",
   "pygments_lexer": "ipython2",
   "version": "2.7.12"
  }
 },
 "nbformat": 4,
 "nbformat_minor": 2
}
